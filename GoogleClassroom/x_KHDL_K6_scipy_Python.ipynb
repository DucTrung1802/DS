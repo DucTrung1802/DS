{
  "cells": [
    {
      "cell_type": "markdown",
      "id": "8f18b92a-9f9e-4a76-8901-fccb8a1d8219",
      "metadata": {
        "id": "8f18b92a-9f9e-4a76-8901-fccb8a1d8219"
      },
      "source": [
        "<img src = 'https://codelearnstorage.s3.amazonaws.com/Upload/Blog/su-dung-thu-vien-scippy-trong-python-p1-63727958646.6719.jpg'></img>"
      ]
    },
    {
      "cell_type": "markdown",
      "id": "06230194-7379-40d4-b43b-1286449b8fa4",
      "metadata": {
        "id": "06230194-7379-40d4-b43b-1286449b8fa4",
        "tags": []
      },
      "source": [
        "<h1> Bài tập Scipy </h1>\n",
        "<!-- <h2> Nhóm 5 </h2> -->\n",
        "https://images.datacamp.com/image/upload/v1676303474/Marketing/Blog/SciPy_Cheat_Sheet.pdf\n",
        "\n"
      ]
    },
    {
      "cell_type": "markdown",
      "id": "8b31d172-834d-4f2b-99e4-a7519773da96",
      "metadata": {
        "id": "8b31d172-834d-4f2b-99e4-a7519773da96"
      },
      "source": [
        "<h2> 1. Basic Matrix Routines </h2>\n",
        "# 1.1. Inverse <br>\n",
        "# 1.2. Norm<br>\n",
        "# 1.3. Rank<br>\n",
        "# 1.4. Determinant<br>\n",
        "# 1.5. Solving linear problems<br>\n",
        "# 1.6. Generalized inverse<br>"
      ]
    },
    {
      "cell_type": "code",
      "execution_count": null,
      "id": "44489bb4-51e2-4386-86ff-6a6dc2dd58bf",
      "metadata": {
        "id": "44489bb4-51e2-4386-86ff-6a6dc2dd58bf",
        "tags": []
      },
      "outputs": [],
      "source": [
        "# 1.1. Inverse\n",
        "# Tìm ma trận nghịch đảo của ma trận  a\n",
        "import numpy as np\n",
        "from scipy import linalg\n",
        "\n",
        "a = np.array([[1.0, 2.0], [3.0, 4.0]])\n",
        "# inversed_a = ...\n",
        "# np.dot(a, inversed_a)"
      ]
    },
    {
      "cell_type": "code",
      "execution_count": null,
      "id": "23d102b7-bc62-4da6-a12b-7944d8994e66",
      "metadata": {
        "id": "23d102b7-bc62-4da6-a12b-7944d8994e66",
        "outputId": "59093112-f3ef-498b-fd62-42fd344b92c6",
        "tags": []
      },
      "outputs": [
        {
          "data": {
            "text/plain": [
              "5.477225575051661"
            ]
          },
          "execution_count": 12,
          "metadata": {},
          "output_type": "execute_result"
        }
      ],
      "source": [
        "# 1.2. Norm<br>\n",
        "# Tìm norm của ma trận a\n",
        "\n",
        "# 5.477225575051661"
      ]
    },
    {
      "cell_type": "code",
      "execution_count": null,
      "id": "59f0a2b9-aa6b-4161-94f0-cb5234ea55c6",
      "metadata": {
        "id": "59f0a2b9-aa6b-4161-94f0-cb5234ea55c6",
        "outputId": "b29541ec-d99a-4d2c-f05f-0755ab73f3c3",
        "tags": []
      },
      "outputs": [
        {
          "data": {
            "text/plain": [
              "2"
            ]
          },
          "execution_count": 17,
          "metadata": {},
          "output_type": "execute_result"
        }
      ],
      "source": [
        "# 1.3. Rank<br>\n",
        "# Tìm rank của ma trận a - numpy\n",
        "\n",
        "# 2"
      ]
    },
    {
      "cell_type": "code",
      "execution_count": null,
      "id": "105b0695-c9dd-4160-815d-6b4d28c53f05",
      "metadata": {
        "id": "105b0695-c9dd-4160-815d-6b4d28c53f05",
        "outputId": "e0c419aa-c100-4ace-dc3a-7b5d01869129",
        "tags": []
      },
      "outputs": [
        {
          "data": {
            "text/plain": [
              "-2.0"
            ]
          },
          "execution_count": 19,
          "metadata": {},
          "output_type": "execute_result"
        }
      ],
      "source": [
        "# 1.4 Determinant\n",
        "# Tìm định thức của ma trận a\n",
        "\n",
        "# -2.0"
      ]
    },
    {
      "cell_type": "code",
      "execution_count": null,
      "id": "1b6689b8-bef0-4201-aec7-adacb8f035e1",
      "metadata": {
        "id": "1b6689b8-bef0-4201-aec7-adacb8f035e1",
        "outputId": "1dd4317a-6881-4a93-b4ef-16a63a23e297",
        "tags": []
      },
      "outputs": [
        {
          "data": {
            "text/plain": [
              "array([[1.00000000e+00, 0.00000000e+00],\n",
              "       [8.32667268e-17, 0.00000000e+00]])"
            ]
          },
          "execution_count": 21,
          "metadata": {},
          "output_type": "execute_result"
        }
      ],
      "source": [
        "# 1.5. Solving linear problems\n",
        "# Giải phương trình Ax = b (Tìm x)\n",
        "A = np.array([[1.0, 2.0], [3.0, 4.0]])\n",
        "b = np.array([[1.0, 0.0], [3.0, 0.0]])\n",
        "\n",
        "\n",
        "# array([[1.00000000e+00, 0.00000000e+00],\n",
        "#        [8.32667268e-17, 0.00000000e+00]])"
      ]
    },
    {
      "cell_type": "code",
      "execution_count": null,
      "id": "04bd9c23-31c9-422c-aff3-772a1fc60061",
      "metadata": {
        "id": "04bd9c23-31c9-422c-aff3-772a1fc60061",
        "outputId": "222861b7-456a-4cef-8722-89410e404f85",
        "tags": []
      },
      "outputs": [
        {
          "data": {
            "text/plain": [
              "(array([[ 1.00000000e+00,  0.00000000e+00],\n",
              "        [-6.01857166e-16,  0.00000000e+00]]),\n",
              " array([], dtype=float64),\n",
              " 2,\n",
              " array([5.4649857 , 0.36596619]))"
            ]
          },
          "execution_count": 23,
          "metadata": {},
          "output_type": "execute_result"
        }
      ],
      "source": [
        "# 1.5. Solving linear problems\n",
        "# Giải phương trình Ax = b (Tìm x) bằng phương pháp least squared"
      ]
    },
    {
      "cell_type": "code",
      "execution_count": null,
      "id": "617c9321-741d-4017-b834-84a365198b71",
      "metadata": {
        "id": "617c9321-741d-4017-b834-84a365198b71",
        "outputId": "15c91bbf-ce7e-4af2-88ca-fb46ef05fb23",
        "tags": []
      },
      "outputs": [
        {
          "data": {
            "text/plain": [
              "array([[-2. ,  1. ],\n",
              "       [ 1.5, -0.5]])"
            ]
          },
          "execution_count": 30,
          "metadata": {},
          "output_type": "execute_result"
        }
      ],
      "source": [
        "# 1.6. Generalized inverse\n",
        "# Tính giả nghịch đảo (Moore-Penrose) của ma trận. - phương pháp least-squares\n",
        "\n",
        "linalg.pinv(A)"
      ]
    },
    {
      "cell_type": "markdown",
      "id": "73bab7d7-38d5-4376-8bb7-8854dcfe0314",
      "metadata": {
        "id": "73bab7d7-38d5-4376-8bb7-8854dcfe0314",
        "tags": []
      },
      "source": [
        "<h2>  2. Matrix Functions</h2>\n",
        "# 2.1 Exponential Functions<br>\n",
        "# 2.2 Logarithm Function<br>\n",
        "# 2.3 Trigonometric Functions<br>\n",
        "# 2.4 Hyperbolic Trigonometric Functions<br>\n",
        "# 2.5 Matrix Sign Function<br>\n",
        "# 2.6 Matrix Square Root<br>\n",
        "# 2.7 Arbitrary Functions<br>"
      ]
    },
    {
      "cell_type": "code",
      "execution_count": null,
      "id": "1ebfd1e8-015f-4c3b-8670-2a118318e99e",
      "metadata": {
        "id": "1ebfd1e8-015f-4c3b-8670-2a118318e99e",
        "outputId": "5b6781a1-c804-4764-f553-ed237f14b095",
        "tags": []
      },
      "outputs": [
        {
          "data": {
            "text/plain": [
              "array([[ 51.9689562 ,  74.73656457],\n",
              "       [112.10484685, 164.07380305]])"
            ]
          },
          "execution_count": 38,
          "metadata": {},
          "output_type": "execute_result"
        }
      ],
      "source": [
        "# 2.1 Exponential Function\n",
        "# Tính ma trận hàm mũ của hàm A: EA = e^A\n",
        "A = np.array([[1.0, 2.0], [3.0, 4.0]])\n",
        "linalg.expm(A)"
      ]
    },
    {
      "cell_type": "code",
      "execution_count": null,
      "id": "595d7b1d-9b1b-4f96-b455-713931482054",
      "metadata": {
        "id": "595d7b1d-9b1b-4f96-b455-713931482054",
        "outputId": "48e52621-e9ef-4903-9e7f-075fe1066553",
        "tags": []
      },
      "outputs": [
        {
          "data": {
            "text/plain": [
              "array([[-0.35043981+2.39111795j,  0.92935121-1.09376217j],\n",
              "       [ 1.39402681-1.64064326j,  1.04358699+0.7504747j ]])"
            ]
          },
          "execution_count": 39,
          "metadata": {},
          "output_type": "execute_result"
        }
      ],
      "source": [
        "# 2.2 Logarithm Function\n",
        "# Tính ma trận hàm log(A)\n",
        "linalg.logm(A)"
      ]
    },
    {
      "cell_type": "code",
      "execution_count": null,
      "id": "c680ec4e-eac8-4b6a-b77a-21bbee9ce05b",
      "metadata": {
        "id": "c680ec4e-eac8-4b6a-b77a-21bbee9ce05b",
        "outputId": "162df75a-1093-435f-b4ab-d05ae17de264",
        "tags": []
      },
      "outputs": [
        {
          "data": {
            "text/plain": [
              "array([[-0.60507478, -0.31274165],\n",
              "       [-0.46911248, -1.07418726]])"
            ]
          },
          "execution_count": 40,
          "metadata": {},
          "output_type": "execute_result"
        }
      ],
      "source": [
        "# 2.3 Trigonometric Functions\n",
        "\n",
        "# Tính ma trận sin(A)\n",
        "\n",
        "# Tính ma trận cos(A)\n",
        "\n",
        "# Tính ma trận tan(A)"
      ]
    },
    {
      "cell_type": "code",
      "execution_count": null,
      "id": "90693f62-449c-4901-936e-bef72ca176e3",
      "metadata": {
        "id": "90693f62-449c-4901-936e-bef72ca176e3"
      },
      "outputs": [],
      "source": [
        "# 2.4 Hyperbolic Trigonometric Functions\n",
        "# Tính ma trận hyperbol sin(A)\n",
        "\n",
        "# Tính ma trận hyperbol cos(A)\n",
        "\n",
        "# Tính ma trận hyperbol tan(A)"
      ]
    },
    {
      "cell_type": "code",
      "execution_count": null,
      "id": "1ec37bb5-e291-4c65-86b6-106aebb7f5a9",
      "metadata": {
        "id": "1ec37bb5-e291-4c65-86b6-106aebb7f5a9",
        "outputId": "450d72c8-f66b-4c06-bb1a-3731697a04b7",
        "tags": []
      },
      "outputs": [
        {
          "data": {
            "text/plain": [
              "array([[0.75592895, 1.13389342],\n",
              "       [0.37796447, 1.88982237]])"
            ]
          },
          "execution_count": 44,
          "metadata": {},
          "output_type": "execute_result"
        }
      ],
      "source": [
        "# 2.6 Matrix Square Root\n",
        "# Tìm x trong phương trình X^2 = A\n",
        "A = np.array([[1.0, 3.0], [1.0, 4.0]])\n",
        "# linalg.sqrtm(A)"
      ]
    },
    {
      "cell_type": "code",
      "execution_count": null,
      "id": "53c4fe50-aae9-462b-ae46-17b563e47399",
      "metadata": {
        "id": "53c4fe50-aae9-462b-ae46-17b563e47399",
        "outputId": "66672971-5535-4f5d-aec2-07227f56496b",
        "tags": []
      },
      "outputs": [
        {
          "data": {
            "text/plain": [
              "array([[12., 17., 20.],\n",
              "       [ 8., 17., 10.],\n",
              "       [ 7.,  9., 11.]])"
            ]
          },
          "execution_count": 43,
          "metadata": {},
          "output_type": "execute_result"
        }
      ],
      "source": [
        "# 2.7 Arbitrary Functions\n",
        "# Tạo ma trận B = A^2 + 4 *A + 2\n",
        "A = np.array([[1.0, 3.0], [1.0, 4.0]])\n",
        "# linalg.funm(a, lambda x: x*x + 4*x + 2)"
      ]
    },
    {
      "cell_type": "markdown",
      "id": "d6d9224c-8200-4dc0-b5af-8463f81af532",
      "metadata": {
        "id": "d6d9224c-8200-4dc0-b5af-8463f81af532",
        "tags": []
      },
      "source": [
        "<h2> 3. Decompositions </h2>\n",
        "# 3.1 Eigenvalues and Eigenvectors <br>\n",
        "# 3.2 Singular Value Decomposition<br>\n",
        "# 3.3 LU Decomposition<br>"
      ]
    },
    {
      "cell_type": "code",
      "execution_count": null,
      "id": "2a8a0227-847d-4ab3-ba14-00281873bcf2",
      "metadata": {
        "id": "2a8a0227-847d-4ab3-ba14-00281873bcf2",
        "outputId": "d9573530-caa2-4379-c8be-cf0b05a5fb3f",
        "tags": []
      },
      "outputs": [
        {
          "name": "stdout",
          "output_type": "stream",
          "text": [
            "[0.20871215+0.j 4.79128785+0.j]\n",
            "[[-0.96693047 -0.62052031]\n",
            " [ 0.25504011 -0.78419037]]\n"
          ]
        }
      ],
      "source": [
        "# 3.1 Eigenvalues and Eigenvectors\n",
        "# Tìm các trị riêng và vector riêng của A\n",
        "A = np.array([[1.0, 3.0], [1.0, 4.0]])\n",
        "# la, v = linalg.eig(A)\n",
        "\n",
        "# print(la)\n",
        "# print(v)"
      ]
    },
    {
      "cell_type": "code",
      "execution_count": null,
      "id": "f82b1df5-fb96-48b7-9621-40d5bdfd5127",
      "metadata": {
        "id": "f82b1df5-fb96-48b7-9621-40d5bdfd5127",
        "outputId": "2ca4c3cf-df2e-4afd-a818-ae686d87e92c",
        "tags": []
      },
      "outputs": [
        {
          "name": "stdout",
          "output_type": "stream",
          "text": [
            "[[-0.60828716 -0.79371704]\n",
            " [-0.79371704  0.60828716]]\n",
            "[5.1925824 0.1925824]\n",
            "[[-0.27000134 -0.96285995]\n",
            " [-0.96285995  0.27000134]]\n"
          ]
        },
        {
          "data": {
            "text/plain": [
              "array([[5.1925824, 0.       ],\n",
              "       [0.       , 0.1925824]])"
            ]
          },
          "execution_count": 55,
          "metadata": {},
          "output_type": "execute_result"
        }
      ],
      "source": [
        "# 3.2 Singular Value Decomposition\n",
        "# Phân tích suy biến ma trận A\n",
        "A = np.array([[1.0, 3.0], [1.0, 4.0]])\n",
        "# U,s,Vh = linalg.svd(A)\n",
        "# print(U)\n",
        "# print(s)\n",
        "# print(Vh)\n",
        "# M,N = A.shape\n",
        "\n",
        "# Sig = linalg.diagsvd(s,M,N)\n",
        "# Sig"
      ]
    },
    {
      "cell_type": "code",
      "execution_count": null,
      "id": "c051d239-cb99-44f5-b49e-d9c0993b56a2",
      "metadata": {
        "id": "c051d239-cb99-44f5-b49e-d9c0993b56a2",
        "outputId": "a67d3685-6d38-4ecf-e86d-3587a0a18d80",
        "tags": []
      },
      "outputs": [
        {
          "name": "stdout",
          "output_type": "stream",
          "text": [
            "[[1. 0.]\n",
            " [0. 1.]] [[1. 0.]\n",
            " [1. 1.]] [[1. 3.]\n",
            " [0. 1.]]\n"
          ]
        }
      ],
      "source": [
        "# 3.3 LU Decomposition\n",
        "# Phân tích LU ma trận A\n",
        "P, L, U = linalg.lu(A)\n",
        "print(P, L, U)"
      ]
    },
    {
      "cell_type": "markdown",
      "id": "63cf05c1-e28c-4221-a776-fe972a86615a",
      "metadata": {
        "id": "63cf05c1-e28c-4221-a776-fe972a86615a"
      },
      "source": [
        "<br>\n",
        "<img src = 'https://images.datacamp.com/image/upload/f_auto,q_auto:best/v1625838166/SciPy_Cheat_Sheet-_Linear_Algebra_in_Python_ff0oa8.png'></img>"
      ]
    },
    {
      "cell_type": "markdown",
      "id": "_88qt7QBfn_a",
      "metadata": {
        "id": "_88qt7QBfn_a"
      },
      "source": [
        "<h2> 4. Optimize </h2>"
      ]
    },
    {
      "cell_type": "markdown",
      "id": "uj138mu2ofO-",
      "metadata": {
        "id": "uj138mu2ofO-"
      },
      "source": [
        "**Bài 1**\n",
        "> Một công ty dầu có 2 nhà máy lọc dầu.\n",
        "\n",
        ">> Nhà máy 1 mất 20,000 đô/ngày để chạy. Mỗi ngày nhà máy sẽ sản xuất được 400 thùng dầu cao cấp, 300 thùng dầu trung cấp, 200 thùng dầu cấp thấp.\n",
        "\n",
        ">> Nhà máy 2 hiện đại hơn, mất 25,000 đô/ngày để chạy. Mỗi ngày nhà máy sản xuất được 300 thùng dầu cao cấp, 400 thùng dầu trung cấp, 500 thùng dầu cấp thấp mỗi ngày.\n",
        "Công ty nhận được đơn hàng yêu cầu 25,000 thùng dầu cao cấp, 27,000 thùng dầu trung cấp, 30,000 thùng dầu cấp thấp.\n",
        "\n",
        "> Hỏi bao nhiêu ngày mỗi nhà máy lọc dầu cần chạy để giảm chi phí chạy đến mức tối thiểu mà vẫn có thể lọc dầu được đáp ứng được theo đơn hàng?"
      ]
    },
    {
      "cell_type": "code",
      "execution_count": 10,
      "id": "4f9b0207",
      "metadata": {},
      "outputs": [
        {
          "name": "stdout",
          "output_type": "stream",
          "text": [
            "1750000.0\n",
            "[25. 50.]\n",
            "Optimization terminated successfully. (HiGHS Status 7: Optimal)\n"
          ]
        }
      ],
      "source": [
        "# We define x0 is the number of working days for the first factory\n",
        "#           x1 is the number of working days for the second factory\n",
        "\n",
        "# Function to optimize: Minimize the operation cost\n",
        "# 20_000 * x0 + 25_000 * x1\n",
        "\n",
        "# Constraint functions\n",
        "# 400 * x0 + 300 * x1 >= 25_000\n",
        "# 300 * x0 + 400 * x1 >= 27_000\n",
        "# 200 * x0 + 500 * x1 >= 30_000\n",
        "\n",
        "from scipy.optimize import linprog\n",
        "\n",
        "c = [20_000, 25_000]\n",
        "A_ub = [[-400, -300], [-300, -400], [-200, -500]]\n",
        "b_ub = [-25_000, -27_000, -30_000]\n",
        "x0_bounds = (0, None)\n",
        "x1_bounds = (0, None)\n",
        "\n",
        "result = linprog(c=c, A_ub=A_ub, b_ub=b_ub, bounds=[x0_bounds, x1_bounds])\n",
        "print(result.fun)\n",
        "print(result.x)\n",
        "print(result.message)"
      ]
    },
    {
      "cell_type": "markdown",
      "id": "RFDDuP8spANC",
      "metadata": {
        "id": "RFDDuP8spANC"
      },
      "source": [
        "**Bài 2**\n",
        "> Tìm nghiệm của phương trinh\n",
        ">> f(x) = x^3 − 100x^2 − x + 100\n",
        "\n",
        "> Sử dụng hàm f_solve."
      ]
    },
    {
      "cell_type": "code",
      "execution_count": 38,
      "id": "dd7e8b35",
      "metadata": {},
      "outputs": [
        {
          "name": "stdout",
          "output_type": "stream",
          "text": [
            "[-1.0, 100.0, 1.0]\n"
          ]
        }
      ],
      "source": [
        "from scipy.optimize import root\n",
        "import numpy as np\n",
        "\n",
        "\n",
        "# Define your equation as a Python function\n",
        "def equation(x):\n",
        "    return x**3 - 100 * x**2 - x + 100\n",
        "\n",
        "\n",
        "# Generate an initial guess array spanning the range where roots are expected\n",
        "\n",
        "\n",
        "# Find all roots of the equation without specifying initial guesses\n",
        "all_roots = []\n",
        "for x0 in range(-200, 200, 1):\n",
        "    sol = root(equation, x0=x0)\n",
        "    if round(sol.x[0], 5) not in all_roots:\n",
        "        all_roots.append(round(sol.x[0], 5))\n",
        "\n",
        "print(all_roots)"
      ]
    },
    {
      "cell_type": "markdown",
      "id": "l7TB0JDkq946",
      "metadata": {
        "id": "l7TB0JDkq946"
      },
      "source": [
        "**Bài 3**\n",
        "> Tính tích phân của một hàm số. Tính tích phân của f(x) = x^2 từ 0 đến 1\n",
        "\n",
        "> Sử dụng câu lệnh integrate.quad"
      ]
    },
    {
      "cell_type": "code",
      "execution_count": 12,
      "id": "d8617985",
      "metadata": {},
      "outputs": [
        {
          "data": {
            "text/plain": [
              "(0.33333333333333337, 3.700743415417189e-15)"
            ]
          },
          "execution_count": 12,
          "metadata": {},
          "output_type": "execute_result"
        }
      ],
      "source": [
        "from scipy import integrate\n",
        "import numpy as np\n",
        "\n",
        "x2 = lambda x: x**2\n",
        "integrate.quad(x2, 0, 1)"
      ]
    }
  ],
  "metadata": {
    "colab": {
      "provenance": []
    },
    "kernelspec": {
      "display_name": "Python 3 (ipykernel)",
      "language": "python",
      "name": "python3"
    },
    "language_info": {
      "codemirror_mode": {
        "name": "ipython",
        "version": 3
      },
      "file_extension": ".py",
      "mimetype": "text/x-python",
      "name": "python",
      "nbconvert_exporter": "python",
      "pygments_lexer": "ipython3",
      "version": "3.10.11"
    }
  },
  "nbformat": 4,
  "nbformat_minor": 5
}
