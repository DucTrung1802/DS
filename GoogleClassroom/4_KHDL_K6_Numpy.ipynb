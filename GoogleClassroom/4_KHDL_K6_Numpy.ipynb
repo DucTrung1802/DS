{
 "cells": [
  {
   "cell_type": "code",
   "execution_count": 2,
   "metadata": {},
   "outputs": [],
   "source": [
    "# Question 1: Input from Keyboard a list of Fruit and do\n",
    "# A. Remove the duplicate fruits\n",
    "# B. Convert to Array\n",
    "# C. Print the number of Fruits\n",
    "\n",
    "# Question 2: Input from Keyboard a list of Colors and do \n",
    "# A. Make sure that all the input color in lowercase  \n",
    "# B. Remove the duplicate Colors and remove the color \"Black\" in list\n",
    "# C. Convert to Array and Print the number of Colors\n",
    "\n",
    "# Question 3 : Write a program :\n",
    "# A. Input a number of Order from Monday to Friday   \n",
    "# B. Print the day of highest Order Number and lowest Order Number\n",
    "# C. Print the sum and average Order Number in a week\n",
    "\n",
    "# Question 4: Using Iris dataset to:\n",
    "# A. Extract the text column species from the 1D iris\n",
    "# B. Convert the 1D iris to 2D array iris_2d by omitting the species text field.\n",
    "# C. Find the mean, median, standard deviation of iris's sepallength\n",
    "# D. Create a normalized form of iris's sepallength whose values range exactly between 0 and 1 so that the minimum has value 0 and maximum has value 1\n",
    "# E. Compute the softmax score of sepallength.\n",
    "# F. Find the 5th and 95th percentile of iris's sepallength"
   ]
  },
  {
   "cell_type": "code",
   "execution_count": null,
   "metadata": {},
   "outputs": [],
   "source": []
  },
  {
   "cell_type": "code",
   "execution_count": 3,
   "metadata": {},
   "outputs": [],
   "source": [
    "import numpy as np"
   ]
  },
  {
   "cell_type": "code",
   "execution_count": 4,
   "metadata": {},
   "outputs": [],
   "source": [
    "# Question 1\n",
    "# fruit_list = input(\"Enter a list of fruits separated by spaces: \").split()\n",
    "\n",
    "fruit_list = [\"grape\", \"orange\", \"strawberry\", \"peach\", \"lemon\", \"lychee\", \"peach\"]"
   ]
  },
  {
   "cell_type": "code",
   "execution_count": 5,
   "metadata": {},
   "outputs": [
    {
     "data": {
      "text/plain": [
       "array(['grape', 'lemon', 'lychee', 'orange', 'peach', 'strawberry'],\n",
       "      dtype='<U10')"
      ]
     },
     "execution_count": 5,
     "metadata": {},
     "output_type": "execute_result"
    }
   ],
   "source": [
    "# A. Remove the duplicate fruits\n",
    "unique_fruits = np.unique(fruit_list)\n",
    "unique_fruits"
   ]
  },
  {
   "cell_type": "code",
   "execution_count": 6,
   "metadata": {},
   "outputs": [
    {
     "data": {
      "text/plain": [
       "array(['grape', 'lemon', 'lychee', 'orange', 'peach', 'strawberry'],\n",
       "      dtype='<U10')"
      ]
     },
     "execution_count": 6,
     "metadata": {},
     "output_type": "execute_result"
    }
   ],
   "source": [
    "# B. Convert to Array\n",
    "fruit_array = np.array(unique_fruits)\n",
    "fruit_array"
   ]
  },
  {
   "cell_type": "code",
   "execution_count": 7,
   "metadata": {},
   "outputs": [
    {
     "data": {
      "text/plain": [
       "6"
      ]
     },
     "execution_count": 7,
     "metadata": {},
     "output_type": "execute_result"
    }
   ],
   "source": [
    "# C. Print the number of Fruits\n",
    "len(fruit_array)"
   ]
  },
  {
   "cell_type": "code",
   "execution_count": 8,
   "metadata": {},
   "outputs": [],
   "source": [
    "# Question 2\n",
    "# color_list = input(\"Enter a list of colors separated by spaces: \").split()\n",
    "\n",
    "color_list = [\"orange\", \"purple\", \"BLUE\", \"black\", \"red\", \"green\", \"yeer\"]"
   ]
  },
  {
   "cell_type": "code",
   "execution_count": 9,
   "metadata": {},
   "outputs": [
    {
     "data": {
      "text/plain": [
       "['orange', 'purple', 'blue', 'black', 'red', 'green', 'yeer']"
      ]
     },
     "execution_count": 9,
     "metadata": {},
     "output_type": "execute_result"
    }
   ],
   "source": [
    "# A. Make sure that all the input color in lowercase  \n",
    "color_list = [color.lower() for color in color_list]\n",
    "color_list"
   ]
  },
  {
   "cell_type": "code",
   "execution_count": 10,
   "metadata": {},
   "outputs": [
    {
     "data": {
      "text/plain": [
       "array(['blue', 'green', 'orange', 'purple', 'red', 'yeer'], dtype='<U6')"
      ]
     },
     "execution_count": 10,
     "metadata": {},
     "output_type": "execute_result"
    }
   ],
   "source": [
    "# B. Remove the duplicate Colors and remove the color \"Black\" in list\n",
    "unique_colors = np.unique(color_list)\n",
    "unique_colors = unique_colors[unique_colors != \"black\"]\n",
    "unique_colors"
   ]
  },
  {
   "cell_type": "code",
   "execution_count": 11,
   "metadata": {},
   "outputs": [
    {
     "data": {
      "text/plain": [
       "array(['blue', 'green', 'orange', 'purple', 'red', 'yeer'], dtype='<U6')"
      ]
     },
     "execution_count": 11,
     "metadata": {},
     "output_type": "execute_result"
    }
   ],
   "source": [
    "# C. Convert to Array and Print the number of Colors\n",
    "color_array = np.array(unique_colors)\n",
    "color_array"
   ]
  },
  {
   "cell_type": "code",
   "execution_count": 12,
   "metadata": {},
   "outputs": [
    {
     "data": {
      "text/plain": [
       "6"
      ]
     },
     "execution_count": 12,
     "metadata": {},
     "output_type": "execute_result"
    }
   ],
   "source": [
    "len(color_array)"
   ]
  },
  {
   "cell_type": "code",
   "execution_count": 13,
   "metadata": {},
   "outputs": [],
   "source": [
    "# Question 3\n",
    "# A. Input a number of Order from Monday to Friday   \n",
    "days = [\"Monday\", \"Tuesday\", \"Wednesday\", \"Thursday\", \"Friday\"]\n",
    "# orders = []\n",
    "# for day in days:\n",
    "#     order = int(input(f\"Enter the number of orders for {day}: \"))\n",
    "#     orders.append(order)\n",
    "orders = [180, 199, 176, 168, 170] "
   ]
  },
  {
   "cell_type": "code",
   "execution_count": 14,
   "metadata": {},
   "outputs": [
    {
     "data": {
      "text/plain": [
       "'Tuesday'"
      ]
     },
     "execution_count": 14,
     "metadata": {},
     "output_type": "execute_result"
    }
   ],
   "source": [
    "# B. Print the day of highest Order Number and lowest Order Number\n",
    "max_orders_day = days[orders.index(max(orders))]\n",
    "max_orders_day"
   ]
  },
  {
   "cell_type": "code",
   "execution_count": 15,
   "metadata": {},
   "outputs": [
    {
     "data": {
      "text/plain": [
       "'Thursday'"
      ]
     },
     "execution_count": 15,
     "metadata": {},
     "output_type": "execute_result"
    }
   ],
   "source": [
    "min_orders_day = days[orders.index(min(orders))]\n",
    "min_orders_day"
   ]
  },
  {
   "cell_type": "code",
   "execution_count": 16,
   "metadata": {},
   "outputs": [
    {
     "data": {
      "text/plain": [
       "893"
      ]
     },
     "execution_count": 16,
     "metadata": {},
     "output_type": "execute_result"
    }
   ],
   "source": [
    "# C. Print the sum and average Order Number in a week\n",
    "total_orders = sum(orders)\n",
    "total_orders"
   ]
  },
  {
   "cell_type": "code",
   "execution_count": 17,
   "metadata": {},
   "outputs": [
    {
     "data": {
      "text/plain": [
       "178.6"
      ]
     },
     "execution_count": 17,
     "metadata": {},
     "output_type": "execute_result"
    }
   ],
   "source": [
    "average_orders = total_orders / len(orders)\n",
    "average_orders"
   ]
  },
  {
   "cell_type": "code",
   "execution_count": 18,
   "metadata": {},
   "outputs": [
    {
     "name": "stderr",
     "output_type": "stream",
     "text": [
      "C:\\Users\\lyduc\\AppData\\Local\\Temp\\ipykernel_20272\\567319283.py:12: VisibleDeprecationWarning: Reading unicode strings without specifying the encoding argument is deprecated. Set the encoding, use None for the system default.\n",
      "  iris_1d = np.genfromtxt(url, delimiter=',', dtype=None)\n"
     ]
    },
    {
     "data": {
      "text/plain": [
       "array([(5.1, 3.5, 1.4, 0.2, b'Iris-setosa'),\n",
       "       (4.9, 3. , 1.4, 0.2, b'Iris-setosa'),\n",
       "       (4.7, 3.2, 1.3, 0.2, b'Iris-setosa'),\n",
       "       (4.6, 3.1, 1.5, 0.2, b'Iris-setosa'),\n",
       "       (5. , 3.6, 1.4, 0.2, b'Iris-setosa'),\n",
       "       (5.4, 3.9, 1.7, 0.4, b'Iris-setosa'),\n",
       "       (4.6, 3.4, 1.4, 0.3, b'Iris-setosa'),\n",
       "       (5. , 3.4, 1.5, 0.2, b'Iris-setosa'),\n",
       "       (4.4, 2.9, 1.4, 0.2, b'Iris-setosa'),\n",
       "       (4.9, 3.1, 1.5, 0.1, b'Iris-setosa'),\n",
       "       (5.4, 3.7, 1.5, 0.2, b'Iris-setosa'),\n",
       "       (4.8, 3.4, 1.6, 0.2, b'Iris-setosa'),\n",
       "       (4.8, 3. , 1.4, 0.1, b'Iris-setosa'),\n",
       "       (4.3, 3. , 1.1, 0.1, b'Iris-setosa'),\n",
       "       (5.8, 4. , 1.2, 0.2, b'Iris-setosa'),\n",
       "       (5.7, 4.4, 1.5, 0.4, b'Iris-setosa'),\n",
       "       (5.4, 3.9, 1.3, 0.4, b'Iris-setosa'),\n",
       "       (5.1, 3.5, 1.4, 0.3, b'Iris-setosa'),\n",
       "       (5.7, 3.8, 1.7, 0.3, b'Iris-setosa'),\n",
       "       (5.1, 3.8, 1.5, 0.3, b'Iris-setosa'),\n",
       "       (5.4, 3.4, 1.7, 0.2, b'Iris-setosa'),\n",
       "       (5.1, 3.7, 1.5, 0.4, b'Iris-setosa'),\n",
       "       (4.6, 3.6, 1. , 0.2, b'Iris-setosa'),\n",
       "       (5.1, 3.3, 1.7, 0.5, b'Iris-setosa'),\n",
       "       (4.8, 3.4, 1.9, 0.2, b'Iris-setosa'),\n",
       "       (5. , 3. , 1.6, 0.2, b'Iris-setosa'),\n",
       "       (5. , 3.4, 1.6, 0.4, b'Iris-setosa'),\n",
       "       (5.2, 3.5, 1.5, 0.2, b'Iris-setosa'),\n",
       "       (5.2, 3.4, 1.4, 0.2, b'Iris-setosa'),\n",
       "       (4.7, 3.2, 1.6, 0.2, b'Iris-setosa'),\n",
       "       (4.8, 3.1, 1.6, 0.2, b'Iris-setosa'),\n",
       "       (5.4, 3.4, 1.5, 0.4, b'Iris-setosa'),\n",
       "       (5.2, 4.1, 1.5, 0.1, b'Iris-setosa'),\n",
       "       (5.5, 4.2, 1.4, 0.2, b'Iris-setosa'),\n",
       "       (4.9, 3.1, 1.5, 0.1, b'Iris-setosa'),\n",
       "       (5. , 3.2, 1.2, 0.2, b'Iris-setosa'),\n",
       "       (5.5, 3.5, 1.3, 0.2, b'Iris-setosa'),\n",
       "       (4.9, 3.1, 1.5, 0.1, b'Iris-setosa'),\n",
       "       (4.4, 3. , 1.3, 0.2, b'Iris-setosa'),\n",
       "       (5.1, 3.4, 1.5, 0.2, b'Iris-setosa'),\n",
       "       (5. , 3.5, 1.3, 0.3, b'Iris-setosa'),\n",
       "       (4.5, 2.3, 1.3, 0.3, b'Iris-setosa'),\n",
       "       (4.4, 3.2, 1.3, 0.2, b'Iris-setosa'),\n",
       "       (5. , 3.5, 1.6, 0.6, b'Iris-setosa'),\n",
       "       (5.1, 3.8, 1.9, 0.4, b'Iris-setosa'),\n",
       "       (4.8, 3. , 1.4, 0.3, b'Iris-setosa'),\n",
       "       (5.1, 3.8, 1.6, 0.2, b'Iris-setosa'),\n",
       "       (4.6, 3.2, 1.4, 0.2, b'Iris-setosa'),\n",
       "       (5.3, 3.7, 1.5, 0.2, b'Iris-setosa'),\n",
       "       (5. , 3.3, 1.4, 0.2, b'Iris-setosa'),\n",
       "       (7. , 3.2, 4.7, 1.4, b'Iris-versicolor'),\n",
       "       (6.4, 3.2, 4.5, 1.5, b'Iris-versicolor'),\n",
       "       (6.9, 3.1, 4.9, 1.5, b'Iris-versicolor'),\n",
       "       (5.5, 2.3, 4. , 1.3, b'Iris-versicolor'),\n",
       "       (6.5, 2.8, 4.6, 1.5, b'Iris-versicolor'),\n",
       "       (5.7, 2.8, 4.5, 1.3, b'Iris-versicolor'),\n",
       "       (6.3, 3.3, 4.7, 1.6, b'Iris-versicolor'),\n",
       "       (4.9, 2.4, 3.3, 1. , b'Iris-versicolor'),\n",
       "       (6.6, 2.9, 4.6, 1.3, b'Iris-versicolor'),\n",
       "       (5.2, 2.7, 3.9, 1.4, b'Iris-versicolor'),\n",
       "       (5. , 2. , 3.5, 1. , b'Iris-versicolor'),\n",
       "       (5.9, 3. , 4.2, 1.5, b'Iris-versicolor'),\n",
       "       (6. , 2.2, 4. , 1. , b'Iris-versicolor'),\n",
       "       (6.1, 2.9, 4.7, 1.4, b'Iris-versicolor'),\n",
       "       (5.6, 2.9, 3.6, 1.3, b'Iris-versicolor'),\n",
       "       (6.7, 3.1, 4.4, 1.4, b'Iris-versicolor'),\n",
       "       (5.6, 3. , 4.5, 1.5, b'Iris-versicolor'),\n",
       "       (5.8, 2.7, 4.1, 1. , b'Iris-versicolor'),\n",
       "       (6.2, 2.2, 4.5, 1.5, b'Iris-versicolor'),\n",
       "       (5.6, 2.5, 3.9, 1.1, b'Iris-versicolor'),\n",
       "       (5.9, 3.2, 4.8, 1.8, b'Iris-versicolor'),\n",
       "       (6.1, 2.8, 4. , 1.3, b'Iris-versicolor'),\n",
       "       (6.3, 2.5, 4.9, 1.5, b'Iris-versicolor'),\n",
       "       (6.1, 2.8, 4.7, 1.2, b'Iris-versicolor'),\n",
       "       (6.4, 2.9, 4.3, 1.3, b'Iris-versicolor'),\n",
       "       (6.6, 3. , 4.4, 1.4, b'Iris-versicolor'),\n",
       "       (6.8, 2.8, 4.8, 1.4, b'Iris-versicolor'),\n",
       "       (6.7, 3. , 5. , 1.7, b'Iris-versicolor'),\n",
       "       (6. , 2.9, 4.5, 1.5, b'Iris-versicolor'),\n",
       "       (5.7, 2.6, 3.5, 1. , b'Iris-versicolor'),\n",
       "       (5.5, 2.4, 3.8, 1.1, b'Iris-versicolor'),\n",
       "       (5.5, 2.4, 3.7, 1. , b'Iris-versicolor'),\n",
       "       (5.8, 2.7, 3.9, 1.2, b'Iris-versicolor'),\n",
       "       (6. , 2.7, 5.1, 1.6, b'Iris-versicolor'),\n",
       "       (5.4, 3. , 4.5, 1.5, b'Iris-versicolor'),\n",
       "       (6. , 3.4, 4.5, 1.6, b'Iris-versicolor'),\n",
       "       (6.7, 3.1, 4.7, 1.5, b'Iris-versicolor'),\n",
       "       (6.3, 2.3, 4.4, 1.3, b'Iris-versicolor'),\n",
       "       (5.6, 3. , 4.1, 1.3, b'Iris-versicolor'),\n",
       "       (5.5, 2.5, 4. , 1.3, b'Iris-versicolor'),\n",
       "       (5.5, 2.6, 4.4, 1.2, b'Iris-versicolor'),\n",
       "       (6.1, 3. , 4.6, 1.4, b'Iris-versicolor'),\n",
       "       (5.8, 2.6, 4. , 1.2, b'Iris-versicolor'),\n",
       "       (5. , 2.3, 3.3, 1. , b'Iris-versicolor'),\n",
       "       (5.6, 2.7, 4.2, 1.3, b'Iris-versicolor'),\n",
       "       (5.7, 3. , 4.2, 1.2, b'Iris-versicolor'),\n",
       "       (5.7, 2.9, 4.2, 1.3, b'Iris-versicolor'),\n",
       "       (6.2, 2.9, 4.3, 1.3, b'Iris-versicolor'),\n",
       "       (5.1, 2.5, 3. , 1.1, b'Iris-versicolor'),\n",
       "       (5.7, 2.8, 4.1, 1.3, b'Iris-versicolor'),\n",
       "       (6.3, 3.3, 6. , 2.5, b'Iris-virginica'),\n",
       "       (5.8, 2.7, 5.1, 1.9, b'Iris-virginica'),\n",
       "       (7.1, 3. , 5.9, 2.1, b'Iris-virginica'),\n",
       "       (6.3, 2.9, 5.6, 1.8, b'Iris-virginica'),\n",
       "       (6.5, 3. , 5.8, 2.2, b'Iris-virginica'),\n",
       "       (7.6, 3. , 6.6, 2.1, b'Iris-virginica'),\n",
       "       (4.9, 2.5, 4.5, 1.7, b'Iris-virginica'),\n",
       "       (7.3, 2.9, 6.3, 1.8, b'Iris-virginica'),\n",
       "       (6.7, 2.5, 5.8, 1.8, b'Iris-virginica'),\n",
       "       (7.2, 3.6, 6.1, 2.5, b'Iris-virginica'),\n",
       "       (6.5, 3.2, 5.1, 2. , b'Iris-virginica'),\n",
       "       (6.4, 2.7, 5.3, 1.9, b'Iris-virginica'),\n",
       "       (6.8, 3. , 5.5, 2.1, b'Iris-virginica'),\n",
       "       (5.7, 2.5, 5. , 2. , b'Iris-virginica'),\n",
       "       (5.8, 2.8, 5.1, 2.4, b'Iris-virginica'),\n",
       "       (6.4, 3.2, 5.3, 2.3, b'Iris-virginica'),\n",
       "       (6.5, 3. , 5.5, 1.8, b'Iris-virginica'),\n",
       "       (7.7, 3.8, 6.7, 2.2, b'Iris-virginica'),\n",
       "       (7.7, 2.6, 6.9, 2.3, b'Iris-virginica'),\n",
       "       (6. , 2.2, 5. , 1.5, b'Iris-virginica'),\n",
       "       (6.9, 3.2, 5.7, 2.3, b'Iris-virginica'),\n",
       "       (5.6, 2.8, 4.9, 2. , b'Iris-virginica'),\n",
       "       (7.7, 2.8, 6.7, 2. , b'Iris-virginica'),\n",
       "       (6.3, 2.7, 4.9, 1.8, b'Iris-virginica'),\n",
       "       (6.7, 3.3, 5.7, 2.1, b'Iris-virginica'),\n",
       "       (7.2, 3.2, 6. , 1.8, b'Iris-virginica'),\n",
       "       (6.2, 2.8, 4.8, 1.8, b'Iris-virginica'),\n",
       "       (6.1, 3. , 4.9, 1.8, b'Iris-virginica'),\n",
       "       (6.4, 2.8, 5.6, 2.1, b'Iris-virginica'),\n",
       "       (7.2, 3. , 5.8, 1.6, b'Iris-virginica'),\n",
       "       (7.4, 2.8, 6.1, 1.9, b'Iris-virginica'),\n",
       "       (7.9, 3.8, 6.4, 2. , b'Iris-virginica'),\n",
       "       (6.4, 2.8, 5.6, 2.2, b'Iris-virginica'),\n",
       "       (6.3, 2.8, 5.1, 1.5, b'Iris-virginica'),\n",
       "       (6.1, 2.6, 5.6, 1.4, b'Iris-virginica'),\n",
       "       (7.7, 3. , 6.1, 2.3, b'Iris-virginica'),\n",
       "       (6.3, 3.4, 5.6, 2.4, b'Iris-virginica'),\n",
       "       (6.4, 3.1, 5.5, 1.8, b'Iris-virginica'),\n",
       "       (6. , 3. , 4.8, 1.8, b'Iris-virginica'),\n",
       "       (6.9, 3.1, 5.4, 2.1, b'Iris-virginica'),\n",
       "       (6.7, 3.1, 5.6, 2.4, b'Iris-virginica'),\n",
       "       (6.9, 3.1, 5.1, 2.3, b'Iris-virginica'),\n",
       "       (5.8, 2.7, 5.1, 1.9, b'Iris-virginica'),\n",
       "       (6.8, 3.2, 5.9, 2.3, b'Iris-virginica'),\n",
       "       (6.7, 3.3, 5.7, 2.5, b'Iris-virginica'),\n",
       "       (6.7, 3. , 5.2, 2.3, b'Iris-virginica'),\n",
       "       (6.3, 2.5, 5. , 1.9, b'Iris-virginica'),\n",
       "       (6.5, 3. , 5.2, 2. , b'Iris-virginica'),\n",
       "       (6.2, 3.4, 5.4, 2.3, b'Iris-virginica'),\n",
       "       (5.9, 3. , 5.1, 1.8, b'Iris-virginica')],\n",
       "      dtype=[('f0', '<f8'), ('f1', '<f8'), ('f2', '<f8'), ('f3', '<f8'), ('f4', 'S15')])"
      ]
     },
     "execution_count": 18,
     "metadata": {},
     "output_type": "execute_result"
    }
   ],
   "source": [
    "# Question 4\n",
    "\n",
    "\n",
    "# This data sets consists of 3 different types of irises’ (Setosa, Versicolour, and Virginica) \n",
    "# petal and sepal length, stored in a 150x4 numpy.ndarray\n",
    "# The rows being the samples and the columns being: Sepal Length, Sepal Width, Petal Length \n",
    "# and Petal Width.\n",
    "# The below plot uses the first two features. See here for more information on this dataset.\n",
    "\n",
    "# A. Extract the text column species from the 1D iris\n",
    "url = 'https://archive.ics.uci.edu/ml/machine-learning-databases/iris/iris.data'\n",
    "iris_1d = np.genfromtxt(url, delimiter=',', dtype=None)\n",
    "iris_1d"
   ]
  },
  {
   "cell_type": "code",
   "execution_count": 19,
   "metadata": {},
   "outputs": [
    {
     "data": {
      "text/plain": [
       "array([b'Iris-setosa', b'Iris-setosa', b'Iris-setosa', b'Iris-setosa',\n",
       "       b'Iris-setosa', b'Iris-setosa', b'Iris-setosa', b'Iris-setosa',\n",
       "       b'Iris-setosa', b'Iris-setosa', b'Iris-setosa', b'Iris-setosa',\n",
       "       b'Iris-setosa', b'Iris-setosa', b'Iris-setosa', b'Iris-setosa',\n",
       "       b'Iris-setosa', b'Iris-setosa', b'Iris-setosa', b'Iris-setosa'],\n",
       "      dtype='|S15')"
      ]
     },
     "execution_count": 19,
     "metadata": {},
     "output_type": "execute_result"
    }
   ],
   "source": [
    "species = np.array([r[4] for r in iris_1d])\n",
    "species[:20]"
   ]
  },
  {
   "cell_type": "code",
   "execution_count": 20,
   "metadata": {},
   "outputs": [
    {
     "data": {
      "text/plain": [
       "array([[5.1, 3.5, 1.4, 0.2],\n",
       "       [4.9, 3. , 1.4, 0.2],\n",
       "       [4.7, 3.2, 1.3, 0.2],\n",
       "       [4.6, 3.1, 1.5, 0.2],\n",
       "       [5. , 3.6, 1.4, 0.2],\n",
       "       [5.4, 3.9, 1.7, 0.4],\n",
       "       [4.6, 3.4, 1.4, 0.3],\n",
       "       [5. , 3.4, 1.5, 0.2],\n",
       "       [4.4, 2.9, 1.4, 0.2],\n",
       "       [4.9, 3.1, 1.5, 0.1]])"
      ]
     },
     "execution_count": 20,
     "metadata": {},
     "output_type": "execute_result"
    }
   ],
   "source": [
    "# B. Convert the 1D iris to 2D array iris_2d by omitting the species text field.\n",
    "iris_2d = np.array([r.tolist()[:4] for r in iris_1d])\n",
    "iris_2d[:10]"
   ]
  },
  {
   "cell_type": "code",
   "execution_count": 21,
   "metadata": {},
   "outputs": [
    {
     "name": "stdout",
     "output_type": "stream",
     "text": [
      "5.843333333333334\n",
      "5.8\n",
      "0.8253012917851409\n"
     ]
    }
   ],
   "source": [
    "# C. Find the mean, median, standard deviation of iris's sepallength\n",
    "sepal_length = np.genfromtxt(url, delimiter=',', dtype='float', usecols=[0])\n",
    "mean_sepal_length = np.mean(sepal_length)\n",
    "median_sepal_length = np.median(sepal_length)\n",
    "std_sepal_length = np.std(sepal_length)\n",
    "print(mean_sepal_length)\n",
    "print(median_sepal_length)\n",
    "print(std_sepal_length)"
   ]
  },
  {
   "cell_type": "code",
   "execution_count": 22,
   "metadata": {},
   "outputs": [
    {
     "data": {
      "text/plain": [
       "array([0.22222222, 0.16666667, 0.11111111, 0.08333333, 0.19444444,\n",
       "       0.30555556, 0.08333333, 0.19444444, 0.02777778, 0.16666667,\n",
       "       0.30555556, 0.13888889, 0.13888889, 0.        , 0.41666667,\n",
       "       0.38888889, 0.30555556, 0.22222222, 0.38888889, 0.22222222,\n",
       "       0.30555556, 0.22222222, 0.08333333, 0.22222222, 0.13888889,\n",
       "       0.19444444, 0.19444444, 0.25      , 0.25      , 0.11111111,\n",
       "       0.13888889, 0.30555556, 0.25      , 0.33333333, 0.16666667,\n",
       "       0.19444444, 0.33333333, 0.16666667, 0.02777778, 0.22222222,\n",
       "       0.19444444, 0.05555556, 0.02777778, 0.19444444, 0.22222222,\n",
       "       0.13888889, 0.22222222, 0.08333333, 0.27777778, 0.19444444,\n",
       "       0.75      , 0.58333333, 0.72222222, 0.33333333, 0.61111111,\n",
       "       0.38888889, 0.55555556, 0.16666667, 0.63888889, 0.25      ,\n",
       "       0.19444444, 0.44444444, 0.47222222, 0.5       , 0.36111111,\n",
       "       0.66666667, 0.36111111, 0.41666667, 0.52777778, 0.36111111,\n",
       "       0.44444444, 0.5       , 0.55555556, 0.5       , 0.58333333,\n",
       "       0.63888889, 0.69444444, 0.66666667, 0.47222222, 0.38888889,\n",
       "       0.33333333, 0.33333333, 0.41666667, 0.47222222, 0.30555556,\n",
       "       0.47222222, 0.66666667, 0.55555556, 0.36111111, 0.33333333,\n",
       "       0.33333333, 0.5       , 0.41666667, 0.19444444, 0.36111111,\n",
       "       0.38888889, 0.38888889, 0.52777778, 0.22222222, 0.38888889,\n",
       "       0.55555556, 0.41666667, 0.77777778, 0.55555556, 0.61111111,\n",
       "       0.91666667, 0.16666667, 0.83333333, 0.66666667, 0.80555556,\n",
       "       0.61111111, 0.58333333, 0.69444444, 0.38888889, 0.41666667,\n",
       "       0.58333333, 0.61111111, 0.94444444, 0.94444444, 0.47222222,\n",
       "       0.72222222, 0.36111111, 0.94444444, 0.55555556, 0.66666667,\n",
       "       0.80555556, 0.52777778, 0.5       , 0.58333333, 0.80555556,\n",
       "       0.86111111, 1.        , 0.58333333, 0.55555556, 0.5       ,\n",
       "       0.94444444, 0.55555556, 0.58333333, 0.47222222, 0.72222222,\n",
       "       0.66666667, 0.72222222, 0.41666667, 0.69444444, 0.66666667,\n",
       "       0.66666667, 0.55555556, 0.61111111, 0.52777778, 0.44444444])"
      ]
     },
     "execution_count": 22,
     "metadata": {},
     "output_type": "execute_result"
    }
   ],
   "source": [
    "# D. Create a normalized form of iris's sepallength whose values range exactly between 0 and 1 so that the minimum has value 0 and maximum has value 1\n",
    "standardized_sepal_length = (sepal_length - sepal_length.min()) / (\n",
    "    sepal_length.max() - sepal_length.min()\n",
    ")\n",
    "standardized_sepal_length"
   ]
  },
  {
   "cell_type": "code",
   "execution_count": 23,
   "metadata": {},
   "outputs": [
    {
     "data": {
      "text/plain": [
       "array([0.00221959, 0.00181724, 0.00148783, 0.00134625, 0.00200836,\n",
       "       0.00299613, 0.00134625, 0.00200836, 0.00110221, 0.00181724,\n",
       "       0.00299613, 0.00164431, 0.00164431, 0.00099732, 0.0044697 ,\n",
       "       0.00404435, 0.00299613, 0.00221959, 0.00404435, 0.00221959,\n",
       "       0.00299613, 0.00221959, 0.00134625, 0.00221959, 0.00164431,\n",
       "       0.00200836, 0.00200836, 0.00245302, 0.00245302, 0.00148783,\n",
       "       0.00164431, 0.00299613, 0.00245302, 0.00331123, 0.00181724,\n",
       "       0.00200836, 0.00331123, 0.00181724, 0.00110221, 0.00221959,\n",
       "       0.00200836, 0.00121813, 0.00110221, 0.00200836, 0.00221959,\n",
       "       0.00164431, 0.00221959, 0.00134625, 0.00271101, 0.00200836,\n",
       "       0.01483991, 0.00814432, 0.01342771, 0.00331123, 0.00900086,\n",
       "       0.00404435, 0.00736928, 0.00181724, 0.00994749, 0.00245302,\n",
       "       0.00200836, 0.00493978, 0.0054593 , 0.00603346, 0.00365948,\n",
       "       0.01099368, 0.00365948, 0.0044697 , 0.006668  , 0.00365948,\n",
       "       0.00493978, 0.00603346, 0.00736928, 0.00603346, 0.00814432,\n",
       "       0.00994749, 0.01214989, 0.01099368, 0.0054593 , 0.00404435,\n",
       "       0.00331123, 0.00331123, 0.0044697 , 0.0054593 , 0.00299613,\n",
       "       0.0054593 , 0.01099368, 0.00736928, 0.00365948, 0.00331123,\n",
       "       0.00331123, 0.00603346, 0.0044697 , 0.00200836, 0.00365948,\n",
       "       0.00404435, 0.00404435, 0.006668  , 0.00221959, 0.00404435,\n",
       "       0.00736928, 0.0044697 , 0.01640064, 0.00736928, 0.00900086,\n",
       "       0.02704008, 0.00181724, 0.02003179, 0.01099368, 0.01812551,\n",
       "       0.00900086, 0.00814432, 0.01214989, 0.00404435, 0.0044697 ,\n",
       "       0.00814432, 0.00900086, 0.02988391, 0.02988391, 0.0054593 ,\n",
       "       0.01342771, 0.00365948, 0.02988391, 0.00736928, 0.01099368,\n",
       "       0.01812551, 0.006668  , 0.00603346, 0.00814432, 0.01812551,\n",
       "       0.02213855, 0.0365003 , 0.00814432, 0.00736928, 0.00603346,\n",
       "       0.02988391, 0.00736928, 0.00814432, 0.0054593 , 0.01342771,\n",
       "       0.01099368, 0.01342771, 0.0044697 , 0.01214989, 0.01099368,\n",
       "       0.01099368, 0.00736928, 0.00900086, 0.006668  , 0.00493978])"
      ]
     },
     "execution_count": 23,
     "metadata": {},
     "output_type": "execute_result"
    }
   ],
   "source": [
    "# E. Compute the softmax score of sepallength.\n",
    "softmax_score = np.exp(sepal_length) / np.sum(np.exp(sepal_length))\n",
    "softmax_score"
   ]
  },
  {
   "cell_type": "code",
   "execution_count": 24,
   "metadata": {},
   "outputs": [
    {
     "data": {
      "text/plain": [
       "array([4.6  , 7.255])"
      ]
     },
     "execution_count": 24,
     "metadata": {},
     "output_type": "execute_result"
    }
   ],
   "source": [
    "# F. Find the 5th and 95th percentile of iris's sepallength\n",
    "np.percentile(sepal_length, q=[5, 95])"
   ]
  }
 ],
 "metadata": {
  "kernelspec": {
   "display_name": "Python 3",
   "language": "python",
   "name": "python3"
  },
  "language_info": {
   "codemirror_mode": {
    "name": "ipython",
    "version": 3
   },
   "file_extension": ".py",
   "mimetype": "text/x-python",
   "name": "python",
   "nbconvert_exporter": "python",
   "pygments_lexer": "ipython3",
   "version": "3.10.11"
  }
 },
 "nbformat": 4,
 "nbformat_minor": 2
}
