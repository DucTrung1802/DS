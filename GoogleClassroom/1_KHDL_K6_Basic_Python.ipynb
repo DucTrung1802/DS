{
  "cells": [
    {
      "cell_type": "markdown",
      "metadata": {
        "id": "wZDZqbs18_6w"
      },
      "source": [
        "# Phần 5: Bài tập"
      ]
    },
    {
      "cell_type": "markdown",
      "metadata": {
        "id": "MwPuPKg0-EPZ"
      },
      "source": [
        "**Bài 1**. Viết chương trình ConvertUnit1.py cho phép nhập một số thực x từ bàn phím, sau đó coi x là chiều dài tính bằng mét, hãy in ra số đo y của chiều dài đó tính bằng inches"
      ]
    },
    {
      "cell_type": "code",
      "execution_count": 7,
      "metadata": {
        "colab": {
          "base_uri": "https://localhost:8080/"
        },
        "id": "ygXRk8sDTtAW",
        "outputId": "7de0bb0e-a7ff-48be-a6dd-c055f6c1d687"
      },
      "outputs": [
        {
          "name": "stdout",
          "output_type": "stream",
          "text": [
            "78.7401574\n"
          ]
        }
      ],
      "source": [
        "x = float(input())\n",
        "print(x * 39.3700787)"
      ]
    },
    {
      "cell_type": "markdown",
      "metadata": {
        "id": "OPFOn3b9G36X"
      },
      "source": [
        "**Bài 2**. Viết chương trình nhập vào 4 số x1, y1, x2, y2 từ bàn phím.\n",
        "\n",
        "Tính  và in ra khoảng cách Euclid giữa hai điểm (x1, y1) và (x2, y2).\n",
        "\n",
        "Kết quả được làm tròn đến 2 số phần thập phân, sử dụng công thức round(a, 2) để làm tròn số a."
      ]
    },
    {
      "cell_type": "code",
      "execution_count": 6,
      "metadata": {},
      "outputs": [
        {
          "name": "stdout",
          "output_type": "stream",
          "text": [
            "4.24\n"
          ]
        }
      ],
      "source": [
        "from math import sqrt\n",
        "\n",
        "x1 = float(input(\"x1: \"))\n",
        "y1 = float(input(\"y1: \"))\n",
        "x2 = float(input(\"x2: \"))\n",
        "y2 = float(input(\"y2: \"))\n",
        "\n",
        "distance = round(sqrt(pow(x2 - x1, 2) + pow(y2 - y1, 2)), 2)\n",
        "print(distance)"
      ]
    },
    {
      "cell_type": "markdown",
      "metadata": {
        "id": "unk_J1R_HQsY"
      },
      "source": [
        "**Bài 3.** Viết chương trình cho phép nhập từ bàn phím tọa độ các điểm (x1, y1), (x2, y2), (x3, y3). Trong đó có các hàm:\n",
        "- isTriangle kiểm tra ba tọa độ thực (x1, y1); (x2, y2) và (x3, y3)  có lập thành ba đỉnh của tam giác hay không, nếu đúng thì trả về true; ngược lại trả về false.\n",
        "- isRightTriangle kiểm tra ba tọa độ thực (x1, y1); (x2, y2) và (x3, y3)  có lập thành ba đỉnh của tam giác vuông hay không, nếu đúng thì trả về true; ngược lại trả về false."
      ]
    },
    {
      "cell_type": "code",
      "execution_count": 11,
      "metadata": {
        "colab": {
          "base_uri": "https://localhost:8080/"
        },
        "id": "1edr1v25UVb2",
        "outputId": "c4dd7553-dcb5-4175-c047-3b53be4ccbb0"
      },
      "outputs": [
        {
          "name": "stdout",
          "output_type": "stream",
          "text": [
            "Three points could form a triangle\n"
          ]
        }
      ],
      "source": [
        "from math import sqrt, isclose\n",
        "\n",
        "\n",
        "def isTriangle(x1, y1, x2, y2, x3, y3):\n",
        "    a = sqrt(pow(x1 - x2, 2) + pow(y1 - y2, 2))\n",
        "    b = sqrt(pow(x1 - x3, 2) + pow(y1 - y3, 2))\n",
        "    c = sqrt(pow(x3 - x2, 2) + pow(y3 - y2, 2))\n",
        "    if a + b > c and a + c > b and b + c > a:\n",
        "        return True\n",
        "    return False\n",
        "\n",
        "\n",
        "def isRightTriangle(x1, y1, x2, y2, x3, y3):\n",
        "    a = sqrt(pow(x1 - x2, 2) + pow(y1 - y2, 2))\n",
        "    b = sqrt(pow(x1 - x3, 2) + pow(y1 - y3, 2))\n",
        "    c = sqrt(pow(x3 - x2, 2) + pow(y3 - y2, 2))\n",
        "    s = (a + b + c) / 2\n",
        "    double_area = 2 * sqrt(s * (s - a) * (s - b) * (s - c))\n",
        "    is_right_triangle = (\n",
        "        isclose(a * b, double_area)\n",
        "        or isclose(b * c, double_area)\n",
        "        or isclose(c * a, double_area)\n",
        "    )\n",
        "\n",
        "    if isTriangle(x1, y1, x2, y2, x3, y3) and is_right_triangle:\n",
        "        return True\n",
        "    return False\n",
        "\n",
        "\n",
        "x1 = float(input(\"x1: \"))\n",
        "y1 = float(input(\"y1: \"))\n",
        "x2 = float(input(\"x2: \"))\n",
        "y2 = float(input(\"y2: \"))\n",
        "x3 = float(input(\"x3: \"))\n",
        "y3 = float(input(\"y3: \"))\n",
        "\n",
        "if isRightTriangle(x1, y1, x2, y2, x3, y3):\n",
        "    print(\"Three points could form a right triangle\")\n",
        "elif isTriangle(x1, y1, x2, y2, x3, y3):\n",
        "    print(\"Three points could form a triangle\")\n",
        "else:\n",
        "    print(\"Three points could not form a triangle\")"
      ]
    },
    {
      "cell_type": "markdown",
      "metadata": {
        "id": "oTYUjLD4H44G"
      },
      "source": [
        "**Bài 4.** Quãng đường S đi được trong chuyển động nhanh dần đều tính theo\n",
        "\n",
        "---\n",
        "\n",
        "công thức: S = v0*t + a*t*t/2, với v0 là vận tốc ban đầu, t là thời gian đi và a là gia tốc.\n",
        "Xây dựng chương trình MovementTime.py cho phép nhập các giá trị S, v0 và a kiểu float (theo thứ tự đó). Sau đó kiểm tra nếu cả ba giá trị đều dương thì tính thời gian t từ công thức trên (thời gian t > 0 - tính bằng giây) và in ra màn hình. Ngược lại thì in ra màn hình -1."
      ]
    },
    {
      "cell_type": "code",
      "execution_count": 2,
      "metadata": {},
      "outputs": [
        {
          "name": "stdout",
          "output_type": "stream",
          "text": [
            "0.2742918851774318\n"
          ]
        }
      ],
      "source": [
        "from math import sqrt\n",
        "\n",
        "S = float(input(\"S: \"))\n",
        "v0 = float(input(\"v0: \"))\n",
        "a = float(input(\"a: \"))\n",
        "\n",
        "\n",
        "def solveQuadratic(a, b, c):\n",
        "    if a == 0 and b == 0 and c == 0:\n",
        "        return None\n",
        "    if a == 0 and b == 0:\n",
        "        return []\n",
        "    if a == 0:\n",
        "        return [-c / b]\n",
        "    delta = b**2 - 4 * a * c\n",
        "    if delta < 0:\n",
        "        return []\n",
        "    if delta == 0:\n",
        "        return [-b / (2 * a)]\n",
        "    if delta > 0:\n",
        "        return [(-b - sqrt(delta)) / (2 * a), (-b + sqrt(delta)) / (2 * a)]\n",
        "    \n",
        "if (S > 0 and v0 > 0 and a > 0):\n",
        "    (x1, x2) = solveQuadratic(a, v0, -S)\n",
        "    print(x2)\n",
        "else:\n",
        "    print(-1)"
      ]
    },
    {
      "cell_type": "markdown",
      "metadata": {
        "id": "6CGYzlMhITFT"
      },
      "source": [
        "**Bài 5.** Viết chương trình cho phép nhập 03 số thực vào các biến a, b, c theo đúng thứ tự này từ bàn phím, sau đó giải phương trình bậc hai\n",
        "\n",
        "    ax^2 + bx + c = 0 ( a*x*x + b*x + c = 0).\n",
        "\n",
        "Kết quả cần được in ra trên một dòng, trường hợp :\n",
        "- Phương trình không có nghiệm thực, in ra \"Vo nghiem\" (không có dấu \" và \", in xong xuống dòng).\n",
        "- Trường hợp có 01 nghiệm (kể cả nghiệm kép hoặc phương trình suy biến thành bậc nhất), in ra nghiệm đó.\n",
        "- Trường hợp có 02 nghiệm phân biệt, in ra 2 nghiệm trên một dòng, ở giữa có đúng 01 khoảng trống, thứ tự in nghiệm ứng với - căn delta trước, + căn delta sau.\n",
        "\n",
        "Các nghiệm số cần in ra 03 chữ số ở phần thập phân."
      ]
    },
    {
      "cell_type": "code",
      "execution_count": 5,
      "metadata": {},
      "outputs": [],
      "source": [
        "from math import sqrt\n",
        "\n",
        "\n",
        "def solveQuadratic(a, b, c):\n",
        "    if a == 0 and b == 0 and c == 0:\n",
        "        print(\"Vo so nghiem\")\n",
        "    elif a == 0 and b == 0:\n",
        "        print(\"Vo nghiem\")\n",
        "    elif a == 0:\n",
        "        print(round(-c / b, 3))\n",
        "    else:\n",
        "        delta = b**2 - 4 * a * c\n",
        "        if delta < 0:\n",
        "            print(\"Vo nghiem\")\n",
        "        elif delta == 0:\n",
        "            print(round(-b / (2 * a), 3))\n",
        "        elif delta > 0:\n",
        "            print(\n",
        "                f\"{round((-b - sqrt(delta)) / (2 * a),3)} {round((-b + sqrt(delta)) / (2 * a),3)}\"\n",
        "            )"
      ]
    },
    {
      "cell_type": "markdown",
      "metadata": {
        "id": "RlvQdF7gJAxL"
      },
      "source": [
        "**Bài 6.** Một số nguyên dương được gọi là đối xứng nếu viết các chữ số của nó theo chiều ngược lại vẫn được chính số đó. Ví dụ: 1, 2, …, 11, 22, … 101, 121, … là số đối xứng.\n",
        "Viết chương trình PalindromeNumbers.py, với hàm:\n",
        "- isPalindrome(k), kiểm tra số nguyên k có là đối xứng hay không, nếu đúng trả về true, ngược lại trả về false.\n",
        "\n",
        "Chương trình cho phép nhập hai số nguyên M và N từ bàn phím, sau đó sử dụng phương thức isPalindrome để kiểm tra và liệt kê các số đối xứng nằm giữa M và N (xét các trường hợp khi M < N hoặc N< M) ra màn hình trên một dòng, 2 số cách nhau bởi 01 khoảng trống"
      ]
    },
    {
      "cell_type": "code",
      "execution_count": 11,
      "metadata": {
        "colab": {
          "base_uri": "https://localhost:8080/"
        },
        "id": "_h97aZvZX_4a",
        "outputId": "747ad5cd-5bd5-43dd-cfed-740435cb6e17"
      },
      "outputs": [
        {
          "name": "stdout",
          "output_type": "stream",
          "text": [
            "101 111 121 131 141 151 161 171 181 191 202 212 222 232 242 252 262 272 282 292 303 313 323 333 343 353 363 373 383 393 404 414 424 434 444 454 464 474 484 494 505 515 525 535 545 555 565 575 585 595 606 616 626 636 646 656 666 676 686 696 707 717 727 737 747 757 767 777 787 797 808 818 828 838 848 858 868 878 888 898 909 919 929 939 949 959 969 979 989 999 "
          ]
        }
      ],
      "source": [
        "def isPalindrome(k):\n",
        "    string_k = str(int(k))\n",
        "    if not string_k:\n",
        "        return False\n",
        "    if len(string_k) == 1:\n",
        "        return True\n",
        "    left = 0\n",
        "    right = len(string_k) - 1\n",
        "    while left <= right:\n",
        "        if string_k[left] != string_k[right]:\n",
        "            return False\n",
        "        left += 1\n",
        "        right -= 1\n",
        "    return True\n",
        "\n",
        "\n",
        "m = int(input(\"m: \"))\n",
        "n = int(input(\"n: \"))\n",
        "\n",
        "if m > n:\n",
        "    temp = m\n",
        "    m = n\n",
        "    n = temp\n",
        "\n",
        "for k in range(m, n):\n",
        "    if isPalindrome(k):\n",
        "        print(k, end=\" \")"
      ]
    },
    {
      "cell_type": "markdown",
      "metadata": {
        "id": "KLFNvy14Iw7_"
      },
      "source": [
        "**Bài 7.** Số siêu nguyên tố là số nguyên tố mà khi bỏ 1 số tùy ý các chữ số bên phải của nó sao cho phần còn lại khác 0, thì đó vẫn là số nguyên tố.\n",
        "Viết chương trình kiểm tra một số nguyên n nhập từ bàn phím có phải là một số siêu nguyên tố hay không?"
      ]
    },
    {
      "cell_type": "code",
      "execution_count": 18,
      "metadata": {},
      "outputs": [
        {
          "name": "stdout",
          "output_type": "stream",
          "text": [
            "True\n"
          ]
        }
      ],
      "source": [
        "from math import sqrt\n",
        "\n",
        "\n",
        "def isPrime(input):\n",
        "    if input == 0:\n",
        "        return False\n",
        "    if input == 1:\n",
        "        return False\n",
        "    for i in range(2, int(sqrt(input)) + 1):\n",
        "        if input % i == 0:\n",
        "            return False\n",
        "    return True\n",
        "\n",
        "\n",
        "number = int(input(\"input: \"))\n",
        "\n",
        "\n",
        "def checkSuperPrime(number):\n",
        "    while number > 0:\n",
        "        if isPrime(number):\n",
        "            number //= 10\n",
        "        else:\n",
        "            return False\n",
        "    return True\n",
        "\n",
        "\n",
        "print(checkSuperPrime(number))"
      ]
    },
    {
      "cell_type": "markdown",
      "metadata": {
        "id": "M8d2HMRTJkv1"
      },
      "source": [
        "**Bài 8.** Viết chương trình cho phép nhập x, n từ bàn phím và tính exp theo công thức **Taylor**:\n",
        "![image.png](data:image/png;base64,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)"
      ]
    },
    {
      "cell_type": "code",
      "execution_count": 24,
      "metadata": {},
      "outputs": [
        {
          "name": "stdout",
          "output_type": "stream",
          "text": [
            "12.182493960698455\n"
          ]
        }
      ],
      "source": [
        "from math import factorial\n",
        "\n",
        "x = float(input(\"x: \"))\n",
        "n = int(input(\"n: \"))\n",
        "\n",
        "\n",
        "def calculateTaylorSeries(x, n):\n",
        "    if x < 0 or n < 0:\n",
        "        return -1\n",
        "    if n == 0:\n",
        "        return 1\n",
        "    else:\n",
        "        return (pow(x, n) / factorial(n)) + calculateTaylorSeries(x, n - 1)\n",
        "\n",
        "\n",
        "print(calculateTaylorSeries(x, n))"
      ]
    },
    {
      "cell_type": "markdown",
      "metadata": {
        "id": "5IfmVlj6QmxS"
      },
      "source": [
        "**Bài 9.** Viết chương trình nhập vào số nguyên dương n từ bàn phím. Hãy chỉ ra cách phân tích số nguyên dương\n",
        "n thành tích của các số nguyên tố\n"
      ]
    },
    {
      "cell_type": "code",
      "execution_count": 15,
      "metadata": {
        "id": "LUAV2vUSgd3-"
      },
      "outputs": [
        {
          "name": "stdout",
          "output_type": "stream",
          "text": [
            "[[2, 2], [19, 1], [313, 1]]\n"
          ]
        }
      ],
      "source": [
        "from math import sqrt\n",
        "\n",
        "x = int(input(\"x: \"))\n",
        "\n",
        "def factorAnalysis(x):\n",
        "    factor_list = []\n",
        "    limit = int(x / 2) + 1\n",
        "    for i in range(2, limit):\n",
        "        exp = 0\n",
        "        sublist = []\n",
        "        if (x % i == 0):\n",
        "            sublist = [i, 1]\n",
        "            x /= i\n",
        "            while (x % i == 0):\n",
        "                sublist[1] += 1\n",
        "                x /= i\n",
        "            factor_list.append(sublist)\n",
        "\n",
        "    return factor_list\n",
        "\n",
        "print(factorAnalysis(x))"
      ]
    },
    {
      "cell_type": "markdown",
      "metadata": {
        "id": "g_9_ZLrsLHDH"
      },
      "source": [
        "**Bài 10.** Viết chương trình thực hiện in ra số hoàn hảo nhỏ hơn n (với n được nhập từ bàn phím). Số hoàn hảo là số mà tổng của các ước nhỏ hơn nó bằng chính nó.\n",
        "VD: 6 là số hoàn hảo (6 = 1 + 2 + 3)"
      ]
    },
    {
      "cell_type": "code",
      "execution_count": 27,
      "metadata": {
        "colab": {
          "base_uri": "https://localhost:8080/"
        },
        "id": "jeIKhmGsacQ5",
        "outputId": "f9637164-4ebb-43ec-ef52-784b44eb1774"
      },
      "outputs": [
        {
          "name": "stdout",
          "output_type": "stream",
          "text": [
            "6\n",
            "28\n",
            "496\n",
            "8128\n"
          ]
        }
      ],
      "source": [
        "def isPerfectNumber(number):\n",
        "    if not isinstance(number, int) or number <= 0:\n",
        "        return False\n",
        "\n",
        "    divisors_sum = sum(\n",
        "        divisor for divisor in range(1, int(number / 2) + 1) if number % divisor == 0\n",
        "    )\n",
        "\n",
        "    return divisors_sum == number\n",
        "\n",
        "# for i in range(6, 10000):\n",
        "#     if isPerfectNumber(i):\n",
        "#         print(i)"
      ]
    }
  ],
  "metadata": {
    "colab": {
      "provenance": []
    },
    "kernelspec": {
      "display_name": "Python 3",
      "name": "python3"
    },
    "language_info": {
      "codemirror_mode": {
        "name": "ipython",
        "version": 3
      },
      "file_extension": ".py",
      "mimetype": "text/x-python",
      "name": "python",
      "nbconvert_exporter": "python",
      "pygments_lexer": "ipython3",
      "version": "3.10.11"
    }
  },
  "nbformat": 4,
  "nbformat_minor": 0
}
