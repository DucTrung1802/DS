{
  "cells": [
    {
      "cell_type": "markdown",
      "metadata": {
        "application/vnd.databricks.v1+cell": {
          "cellMetadata": {},
          "inputWidgets": {},
          "nuid": "452c727b-02b7-4936-ae57-e5023fe871bf",
          "showTitle": false,
          "title": ""
        },
        "id": "gVQM61PF1_0M"
      },
      "source": [
        "<a style=\"position: absolute; top: 0; left: 0;\" ><img src='./logo_hus.jpg' alt=\"Logo\" style=\"width: 60px;\"/></a>\n",
        "\n",
        "<center><h1><strong><span style=\"color: #3333FF;\">DATA STRUCTURES IN PYTHON</span></strong></h1></center>\n"
      ]
    },
    {
      "cell_type": "markdown",
      "metadata": {
        "application/vnd.databricks.v1+cell": {
          "cellMetadata": {},
          "inputWidgets": {},
          "nuid": "b15ec5d6-3f19-4e03-84f2-55a0b25010a1",
          "showTitle": false,
          "title": ""
        },
        "id": "tC1CbxV-1_0Q"
      },
      "source": [
        "# Objects and Data Structures Assessment Test"
      ]
    },
    {
      "cell_type": "markdown",
      "metadata": {
        "application/vnd.databricks.v1+cell": {
          "cellMetadata": {},
          "inputWidgets": {},
          "nuid": "1f124607-8963-44a8-9dea-fd208e826d62",
          "showTitle": false,
          "title": ""
        },
        "collapsed": true,
        "id": "ik7fw6--1_0Q"
      },
      "source": [
        "## Test your knowledge.\n",
        "\n",
        "** Answer the following questions **"
      ]
    },
    {
      "cell_type": "markdown",
      "metadata": {
        "application/vnd.databricks.v1+cell": {
          "cellMetadata": {},
          "inputWidgets": {},
          "nuid": "76eb6070-fb53-4e68-a4fd-997b235bb966",
          "showTitle": false,
          "title": ""
        },
        "collapsed": true,
        "id": "3RTGaBQO1_0R"
      },
      "source": [
        "Write (or just say out loud to yourself) a brief description of all the following Object Types and Data Structures we've learned about. You can edit the cell below by double clicking on it. Really this is just to test if you know the difference between these, so feel free to just think about it, since your answers are self-graded."
      ]
    },
    {
      "cell_type": "markdown",
      "metadata": {
        "application/vnd.databricks.v1+cell": {
          "cellMetadata": {},
          "inputWidgets": {},
          "nuid": "0cd737de-e6bb-40bb-912c-624daee6f805",
          "showTitle": false,
          "title": ""
        },
        "id": "JeOOJmkz1_0R"
      },
      "source": [
        "Double Click HERE to edit this markdown cell and write answers.\n",
        "\n",
        "Numbers:\n",
        "\n",
        "Strings:\n",
        "\n",
        "Lists:\n",
        "\n",
        "Tuples:\n",
        "\n",
        "Dictionaries:\n"
      ]
    },
    {
      "cell_type": "markdown",
      "metadata": {
        "application/vnd.databricks.v1+cell": {
          "cellMetadata": {},
          "inputWidgets": {},
          "nuid": "d78c4fbc-87e3-4068-a232-fe2a7c0020c5",
          "showTitle": false,
          "title": ""
        },
        "id": "7DsNGKzQ1_0R"
      },
      "source": [
        "## Numbers\n",
        "\n",
        "Write an equation that uses multiplication, division, an exponent, addition, and subtraction that is equal to 100.25.\n",
        "\n",
        "Hint: This is just to test your memory of the basic arithmetic commands, work backwards from 100.25"
      ]
    },
    {
      "cell_type": "code",
      "execution_count": null,
      "metadata": {
        "application/vnd.databricks.v1+cell": {
          "cellMetadata": {},
          "inputWidgets": {},
          "nuid": "34690f65-0404-4b9a-a3d5-4557b627054a",
          "showTitle": false,
          "title": ""
        },
        "collapsed": true,
        "id": "cxWJ7f3R1_0S"
      },
      "outputs": [],
      "source": []
    },
    {
      "cell_type": "markdown",
      "metadata": {
        "application/vnd.databricks.v1+cell": {
          "cellMetadata": {},
          "inputWidgets": {},
          "nuid": "cf26db1f-3f0e-4d99-a9b2-2a5efde9be6a",
          "showTitle": false,
          "title": ""
        },
        "id": "WaEDgL8b1_0S"
      },
      "source": [
        "Answer these 3 questions without typing code. Then type code to check your answer.\n",
        "\n",
        "    What is the value of the expression 4 * (6 + 5)\n",
        "    \n",
        "    What is the value of the expression 4 * 6 + 5\n",
        "    \n",
        "    What is the value of the expression 4 + 6 * 5"
      ]
    },
    {
      "cell_type": "code",
      "execution_count": null,
      "metadata": {
        "application/vnd.databricks.v1+cell": {
          "cellMetadata": {},
          "inputWidgets": {},
          "nuid": "67a0311f-49a5-4d6f-97fb-da675003da0d",
          "showTitle": false,
          "title": ""
        },
        "collapsed": true,
        "id": "B4Xu1anV1_0T"
      },
      "outputs": [],
      "source": []
    },
    {
      "cell_type": "markdown",
      "metadata": {
        "application/vnd.databricks.v1+cell": {
          "cellMetadata": {},
          "inputWidgets": {},
          "nuid": "93f7b41b-0d8d-459b-abde-68d867062188",
          "showTitle": false,
          "title": ""
        },
        "id": "369T9TxS1_0T"
      },
      "source": [
        "What is the *type* of the result of the expression 3 + 1.5 + 4?<br><br>"
      ]
    },
    {
      "cell_type": "markdown",
      "metadata": {
        "application/vnd.databricks.v1+cell": {
          "cellMetadata": {},
          "inputWidgets": {},
          "nuid": "5e0e0e90-61a7-4f4b-8b77-bb48eb2cd331",
          "showTitle": false,
          "title": ""
        },
        "id": "YBv6HCtL1_0U"
      },
      "source": [
        "What would you use to find a number’s square root, as well as its square?"
      ]
    },
    {
      "cell_type": "code",
      "execution_count": null,
      "metadata": {
        "application/vnd.databricks.v1+cell": {
          "cellMetadata": {},
          "inputWidgets": {},
          "nuid": "c05c4a33-a6a9-4b3c-8425-fc0d12bf684f",
          "showTitle": false,
          "title": ""
        },
        "collapsed": true,
        "id": "c5XzWX8g1_0U"
      },
      "outputs": [],
      "source": [
        "# Square root:\n"
      ]
    },
    {
      "cell_type": "code",
      "execution_count": null,
      "metadata": {
        "application/vnd.databricks.v1+cell": {
          "cellMetadata": {},
          "inputWidgets": {},
          "nuid": "dd10846f-cf7e-44fa-b982-4b389d282fd2",
          "showTitle": false,
          "title": ""
        },
        "collapsed": true,
        "id": "tNDEH7f31_0V"
      },
      "outputs": [],
      "source": [
        "# Square:\n"
      ]
    },
    {
      "cell_type": "markdown",
      "metadata": {
        "application/vnd.databricks.v1+cell": {
          "cellMetadata": {},
          "inputWidgets": {},
          "nuid": "cae23c23-5407-401f-9997-0dc9e1021b85",
          "showTitle": false,
          "title": ""
        },
        "id": "cf6NYcGV1_0V"
      },
      "source": [
        "## Strings"
      ]
    },
    {
      "cell_type": "markdown",
      "metadata": {
        "application/vnd.databricks.v1+cell": {
          "cellMetadata": {},
          "inputWidgets": {},
          "nuid": "e9ff1d9a-eec3-47cc-bbd7-b8c8e5c00fe1",
          "showTitle": false,
          "title": ""
        },
        "id": "PJ7gahQg1_0V"
      },
      "source": [
        "Given the string 'hello' give an index command that returns 'e'. Enter your code in the cell below:"
      ]
    },
    {
      "cell_type": "code",
      "execution_count": null,
      "metadata": {
        "application/vnd.databricks.v1+cell": {
          "cellMetadata": {},
          "inputWidgets": {},
          "nuid": "5e834097-8fb7-435e-a8b3-d2ad07092ab9",
          "showTitle": false,
          "title": ""
        },
        "collapsed": true,
        "id": "Zc01DYbb1_0W"
      },
      "outputs": [],
      "source": [
        "s = 'hello'\n",
        "# Print out 'e' using indexing\n",
        "\n"
      ]
    },
    {
      "cell_type": "markdown",
      "metadata": {
        "application/vnd.databricks.v1+cell": {
          "cellMetadata": {},
          "inputWidgets": {},
          "nuid": "ba1e184b-0394-4475-93c6-1cf464fce059",
          "showTitle": false,
          "title": ""
        },
        "id": "6FbA6ys91_0W"
      },
      "source": [
        "Reverse the string 'hello' using slicing:"
      ]
    },
    {
      "cell_type": "code",
      "execution_count": null,
      "metadata": {
        "application/vnd.databricks.v1+cell": {
          "cellMetadata": {},
          "inputWidgets": {},
          "nuid": "4334869e-920c-4e31-b2cc-c9a40dd2b4db",
          "showTitle": false,
          "title": ""
        },
        "collapsed": true,
        "id": "hhqE6G-y1_0W"
      },
      "outputs": [],
      "source": [
        "s ='hello'\n",
        "# Reverse the string using slicing\n",
        "\n"
      ]
    },
    {
      "cell_type": "markdown",
      "metadata": {
        "application/vnd.databricks.v1+cell": {
          "cellMetadata": {},
          "inputWidgets": {},
          "nuid": "6fa76ffa-6e74-4d9a-ab5e-8fc706b93342",
          "showTitle": false,
          "title": ""
        },
        "id": "5N8ZaOUZ1_0W"
      },
      "source": [
        "Given the string hello, give two methods of producing the letter 'o' using indexing."
      ]
    },
    {
      "cell_type": "code",
      "execution_count": null,
      "metadata": {
        "application/vnd.databricks.v1+cell": {
          "cellMetadata": {},
          "inputWidgets": {},
          "nuid": "e69a8f0e-9900-4fb8-ac2e-2ca3b8a94ded",
          "showTitle": false,
          "title": ""
        },
        "collapsed": true,
        "id": "w9so0G_m1_0W"
      },
      "outputs": [],
      "source": [
        "s ='hello'\n",
        "# Print out the 'o'\n",
        "\n",
        "# Method 1:\n",
        "\n"
      ]
    },
    {
      "cell_type": "code",
      "execution_count": null,
      "metadata": {
        "application/vnd.databricks.v1+cell": {
          "cellMetadata": {},
          "inputWidgets": {},
          "nuid": "5da0dab9-e23b-4c25-9e81-9ffe6f7d9b7a",
          "showTitle": false,
          "title": ""
        },
        "collapsed": true,
        "id": "vjRlh1e51_0W"
      },
      "outputs": [],
      "source": [
        "# Method 2:\n",
        "\n"
      ]
    },
    {
      "cell_type": "markdown",
      "metadata": {
        "application/vnd.databricks.v1+cell": {
          "cellMetadata": {},
          "inputWidgets": {},
          "nuid": "cf19a64f-f095-4217-b3ad-a4f560dc41d1",
          "showTitle": false,
          "title": ""
        },
        "id": "_AWtTOII1_0W"
      },
      "source": [
        "## Lists"
      ]
    },
    {
      "cell_type": "markdown",
      "metadata": {
        "application/vnd.databricks.v1+cell": {
          "cellMetadata": {},
          "inputWidgets": {},
          "nuid": "c43a48bf-47e7-49d9-b153-4a114d305af1",
          "showTitle": false,
          "title": ""
        },
        "id": "MOmcl_7o1_0W"
      },
      "source": [
        "Build this list [0,0,0] two separate ways."
      ]
    },
    {
      "cell_type": "code",
      "execution_count": null,
      "metadata": {
        "application/vnd.databricks.v1+cell": {
          "cellMetadata": {},
          "inputWidgets": {},
          "nuid": "d223d145-7603-4c4f-ba6f-b9e90653a4ed",
          "showTitle": false,
          "title": ""
        },
        "collapsed": true,
        "id": "9QHJ8Ar91_0X"
      },
      "outputs": [],
      "source": [
        "# Method 1:\n"
      ]
    },
    {
      "cell_type": "code",
      "execution_count": null,
      "metadata": {
        "application/vnd.databricks.v1+cell": {
          "cellMetadata": {},
          "inputWidgets": {},
          "nuid": "7e898d21-1666-4c34-86e5-60cc3d9bfe5a",
          "showTitle": false,
          "title": ""
        },
        "collapsed": true,
        "id": "I0aDEFhK1_0X"
      },
      "outputs": [],
      "source": [
        "# Method 2:\n"
      ]
    },
    {
      "cell_type": "markdown",
      "metadata": {
        "application/vnd.databricks.v1+cell": {
          "cellMetadata": {},
          "inputWidgets": {},
          "nuid": "4efd086f-a42c-4105-a0a9-f99dc4243aa9",
          "showTitle": false,
          "title": ""
        },
        "id": "kPSZQwFu1_0X"
      },
      "source": [
        "Reassign 'hello' in this nested list to say 'goodbye' instead:"
      ]
    },
    {
      "cell_type": "code",
      "execution_count": null,
      "metadata": {
        "application/vnd.databricks.v1+cell": {
          "cellMetadata": {},
          "inputWidgets": {},
          "nuid": "eb2a8ab6-e901-4d11-9eca-8b6dc152ea8a",
          "showTitle": false,
          "title": ""
        },
        "collapsed": true,
        "id": "Zv6KX2cO1_0X"
      },
      "outputs": [],
      "source": [
        "list3 = [1,2,[3,4,'hello']]\n",
        "\n"
      ]
    },
    {
      "cell_type": "markdown",
      "metadata": {
        "application/vnd.databricks.v1+cell": {
          "cellMetadata": {},
          "inputWidgets": {},
          "nuid": "21f6d2f1-5f30-47fb-aec6-7818859c3fbb",
          "showTitle": false,
          "title": ""
        },
        "id": "xEiclmkj1_0X"
      },
      "source": [
        "Sort the list below:"
      ]
    },
    {
      "cell_type": "code",
      "execution_count": null,
      "metadata": {
        "application/vnd.databricks.v1+cell": {
          "cellMetadata": {},
          "inputWidgets": {},
          "nuid": "01eb6ff2-cf9b-4261-8926-32dcd51c5e4f",
          "showTitle": false,
          "title": ""
        },
        "collapsed": true,
        "id": "vtOarbcB1_0X"
      },
      "outputs": [],
      "source": [
        "list4 = [5,3,4,6,1]\n",
        "\n"
      ]
    },
    {
      "cell_type": "markdown",
      "metadata": {
        "application/vnd.databricks.v1+cell": {
          "cellMetadata": {},
          "inputWidgets": {},
          "nuid": "6c9b661c-d1f5-47dd-9a40-0a861fd16949",
          "showTitle": false,
          "title": ""
        },
        "id": "pHb5_VuX1_0X"
      },
      "source": [
        "## Dictionaries"
      ]
    },
    {
      "cell_type": "markdown",
      "metadata": {
        "application/vnd.databricks.v1+cell": {
          "cellMetadata": {},
          "inputWidgets": {},
          "nuid": "a22052d5-a1f6-4462-b234-ecd88b1d0ece",
          "showTitle": false,
          "title": ""
        },
        "id": "MQ5D3O3V1_0X"
      },
      "source": [
        "Using keys and indexing, grab the 'hello' from the following dictionaries:"
      ]
    },
    {
      "cell_type": "code",
      "execution_count": null,
      "metadata": {
        "application/vnd.databricks.v1+cell": {
          "cellMetadata": {},
          "inputWidgets": {},
          "nuid": "507ed5e8-0e12-4d48-a4b2-fbd0264f9847",
          "showTitle": false,
          "title": ""
        },
        "collapsed": true,
        "id": "t6EZpNrM1_0Y"
      },
      "outputs": [],
      "source": [
        "d = {'simple_key':'hello'}\n",
        "# Grab 'hello'\n"
      ]
    },
    {
      "cell_type": "code",
      "execution_count": null,
      "metadata": {
        "application/vnd.databricks.v1+cell": {
          "cellMetadata": {},
          "inputWidgets": {},
          "nuid": "a379808d-dfb6-446d-b378-9ad2fd5197cd",
          "showTitle": false,
          "title": ""
        },
        "collapsed": true,
        "id": "4wWrVjuK1_0Y"
      },
      "outputs": [],
      "source": [
        "d = {'k1':{'k2':'hello'}}\n",
        "# Grab 'hello'\n"
      ]
    },
    {
      "cell_type": "code",
      "execution_count": null,
      "metadata": {
        "application/vnd.databricks.v1+cell": {
          "cellMetadata": {},
          "inputWidgets": {},
          "nuid": "656d2e31-a68e-4e09-9329-d2b1dd54b0ae",
          "showTitle": false,
          "title": ""
        },
        "collapsed": true,
        "id": "qaRUEbdx1_0Y"
      },
      "outputs": [],
      "source": [
        "# Getting a little tricker\n",
        "d = {'k1':[{'nest_key':['this is deep',['hello']]}]}\n",
        "\n",
        "#Grab hello\n"
      ]
    },
    {
      "cell_type": "code",
      "execution_count": null,
      "metadata": {
        "application/vnd.databricks.v1+cell": {
          "cellMetadata": {},
          "inputWidgets": {},
          "nuid": "2f66858f-28f7-4da3-b893-e5bc61d8b8ae",
          "showTitle": false,
          "title": ""
        },
        "collapsed": true,
        "id": "B0GQuZjO1_0Y"
      },
      "outputs": [],
      "source": [
        "# This will be hard and annoying!\n",
        "d = {'k1':[1,2,{'k2':['this is tricky',{'tough':[1,2,['hello']]}]}]}"
      ]
    },
    {
      "cell_type": "markdown",
      "metadata": {
        "application/vnd.databricks.v1+cell": {
          "cellMetadata": {},
          "inputWidgets": {},
          "nuid": "4b49af0b-70c1-4a04-857c-264fabf60768",
          "showTitle": false,
          "title": ""
        },
        "id": "fcb6sqss1_0Y"
      },
      "source": [
        "Can you sort a dictionary? Why or why not?<br><br>"
      ]
    },
    {
      "cell_type": "markdown",
      "metadata": {
        "application/vnd.databricks.v1+cell": {
          "cellMetadata": {},
          "inputWidgets": {},
          "nuid": "5ec8a593-a666-447c-a99e-42ae3895a393",
          "showTitle": false,
          "title": ""
        },
        "id": "vldne3XH1_0Y"
      },
      "source": [
        "## Tuples"
      ]
    },
    {
      "cell_type": "markdown",
      "metadata": {
        "application/vnd.databricks.v1+cell": {
          "cellMetadata": {},
          "inputWidgets": {},
          "nuid": "93c9055d-fcf8-4441-a91d-c6dd0e8d84e1",
          "showTitle": false,
          "title": ""
        },
        "id": "Itym7b4_1_0Y"
      },
      "source": [
        "What is the major difference between tuples and lists?<br><br>"
      ]
    },
    {
      "cell_type": "markdown",
      "metadata": {
        "application/vnd.databricks.v1+cell": {
          "cellMetadata": {},
          "inputWidgets": {},
          "nuid": "66519994-106b-439c-ac59-d9a2535b60e5",
          "showTitle": false,
          "title": ""
        },
        "id": "5D8MrYnx1_0Y"
      },
      "source": [
        "How do you create a tuple?<br><br>"
      ]
    },
    {
      "cell_type": "markdown",
      "metadata": {
        "application/vnd.databricks.v1+cell": {
          "cellMetadata": {},
          "inputWidgets": {},
          "nuid": "6b28423b-a813-4b05-9a06-dae80a4e4acd",
          "showTitle": false,
          "title": ""
        },
        "id": "ceI54SZz1_0c"
      },
      "source": [
        "## Sets"
      ]
    },
    {
      "cell_type": "markdown",
      "metadata": {
        "application/vnd.databricks.v1+cell": {
          "cellMetadata": {},
          "inputWidgets": {},
          "nuid": "4ad34130-b77f-45ec-ae98-b478d8d9da96",
          "showTitle": false,
          "title": ""
        },
        "id": "WT2uoZ7S1_0d"
      },
      "source": [
        "What is unique about a set?<br><br>"
      ]
    },
    {
      "cell_type": "markdown",
      "metadata": {
        "application/vnd.databricks.v1+cell": {
          "cellMetadata": {},
          "inputWidgets": {},
          "nuid": "2f0a1ebe-b6e8-44dc-8619-a06521a0318f",
          "showTitle": false,
          "title": ""
        },
        "id": "NAm5uGtc1_0d"
      },
      "source": [
        "Use a set to find the unique values of the list below:"
      ]
    },
    {
      "cell_type": "code",
      "execution_count": null,
      "metadata": {
        "application/vnd.databricks.v1+cell": {
          "cellMetadata": {},
          "inputWidgets": {},
          "nuid": "a276acef-ca29-48f0-a0a3-8b257dbd153c",
          "showTitle": false,
          "title": ""
        },
        "collapsed": true,
        "id": "XP8PyyEa1_0d"
      },
      "outputs": [],
      "source": [
        "list5 = [1,2,2,33,4,4,11,22,3,3,2]\n",
        "\n",
        "\n"
      ]
    },
    {
      "cell_type": "markdown",
      "metadata": {
        "application/vnd.databricks.v1+cell": {
          "cellMetadata": {},
          "inputWidgets": {},
          "nuid": "08a8796f-63ff-461c-a7b4-3f8fb69fcf6b",
          "showTitle": false,
          "title": ""
        },
        "id": "XNai7PgB1_0d"
      },
      "source": [
        "## Booleans"
      ]
    },
    {
      "cell_type": "markdown",
      "metadata": {
        "application/vnd.databricks.v1+cell": {
          "cellMetadata": {},
          "inputWidgets": {},
          "nuid": "4f2da18c-61e7-4161-b78b-21bebe5095da",
          "showTitle": false,
          "title": ""
        },
        "id": "2JxV1zNJ1_0d"
      },
      "source": [
        "For the following quiz questions, we will get a preview of comparison operators. In the table below, a=3 and b=4.\n",
        "\n",
        "<table class=\"table table-bordered\">\n",
        "<tr>\n",
        "<th style=\"width:10%\">Operator</th><th style=\"width:45%\">Description</th><th>Example</th>\n",
        "</tr>\n",
        "<tr>\n",
        "<td>==</td>\n",
        "<td>If the values of two operands are equal, then the condition becomes true.</td>\n",
        "<td> (a == b) is not true.</td>\n",
        "</tr>\n",
        "<tr>\n",
        "<td>!=</td>\n",
        "<td>If values of two operands are not equal, then condition becomes true.</td>\n",
        "<td> (a != b) is true.</td>\n",
        "</tr>\n",
        "<tr>\n",
        "<td>&gt;</td>\n",
        "<td>If the value of left operand is greater than the value of right operand, then condition becomes true.</td>\n",
        "<td> (a &gt; b) is not true.</td>\n",
        "</tr>\n",
        "<tr>\n",
        "<td>&lt;</td>\n",
        "<td>If the value of left operand is less than the value of right operand, then condition becomes true.</td>\n",
        "<td> (a &lt; b) is true.</td>\n",
        "</tr>\n",
        "<tr>\n",
        "<td>&gt;=</td>\n",
        "<td>If the value of left operand is greater than or equal to the value of right operand, then condition becomes true.</td>\n",
        "<td> (a &gt;= b) is not true. </td>\n",
        "</tr>\n",
        "<tr>\n",
        "<td>&lt;=</td>\n",
        "<td>If the value of left operand is less than or equal to the value of right operand, then condition becomes true.</td>\n",
        "<td> (a &lt;= b) is true. </td>\n",
        "</tr>\n",
        "</table>"
      ]
    },
    {
      "cell_type": "markdown",
      "metadata": {
        "application/vnd.databricks.v1+cell": {
          "cellMetadata": {},
          "inputWidgets": {},
          "nuid": "00c56e81-893a-43ba-aa0c-9cb60acb18fc",
          "showTitle": false,
          "title": ""
        },
        "id": "B5V79LzW1_0e"
      },
      "source": [
        "What will be the resulting Boolean of the following pieces of code (answer fist then check by typing it in!)"
      ]
    },
    {
      "cell_type": "code",
      "execution_count": null,
      "metadata": {
        "application/vnd.databricks.v1+cell": {
          "cellMetadata": {},
          "inputWidgets": {},
          "nuid": "aaaddf2c-a37b-4779-a9bb-ef9ff9a3d547",
          "showTitle": false,
          "title": ""
        },
        "collapsed": true,
        "id": "Wj5qwg6G1_0e"
      },
      "outputs": [],
      "source": [
        "# Answer before running cell\n",
        "2 > 3"
      ]
    },
    {
      "cell_type": "code",
      "execution_count": null,
      "metadata": {
        "application/vnd.databricks.v1+cell": {
          "cellMetadata": {},
          "inputWidgets": {},
          "nuid": "c2c92c3e-43db-42dd-80cf-87ef398c9adf",
          "showTitle": false,
          "title": ""
        },
        "collapsed": true,
        "id": "vutLsJDN1_0e"
      },
      "outputs": [],
      "source": [
        "# Answer before running cell\n",
        "3 <= 2"
      ]
    },
    {
      "cell_type": "code",
      "execution_count": null,
      "metadata": {
        "application/vnd.databricks.v1+cell": {
          "cellMetadata": {},
          "inputWidgets": {},
          "nuid": "3ecfc44c-39cc-43d1-8250-eee72d0882af",
          "showTitle": false,
          "title": ""
        },
        "collapsed": true,
        "id": "5YXWEokz1_0e"
      },
      "outputs": [],
      "source": [
        "# Answer before running cell\n",
        "3 == 2.0"
      ]
    },
    {
      "cell_type": "code",
      "execution_count": null,
      "metadata": {
        "application/vnd.databricks.v1+cell": {
          "cellMetadata": {},
          "inputWidgets": {},
          "nuid": "57df9b63-1bed-4a6e-b5f5-425dfd297da4",
          "showTitle": false,
          "title": ""
        },
        "collapsed": true,
        "id": "Kjn354ZE1_0f"
      },
      "outputs": [],
      "source": [
        "# Answer before running cell\n",
        "3.0 == 3"
      ]
    },
    {
      "cell_type": "code",
      "execution_count": null,
      "metadata": {
        "application/vnd.databricks.v1+cell": {
          "cellMetadata": {},
          "inputWidgets": {},
          "nuid": "de94ca71-9e02-448e-97e9-0bfee6fc1e77",
          "showTitle": false,
          "title": ""
        },
        "collapsed": true,
        "id": "9VytDBuE1_0f"
      },
      "outputs": [],
      "source": [
        "# Answer before running cell\n",
        "4**0.5 != 2"
      ]
    },
    {
      "cell_type": "markdown",
      "metadata": {
        "application/vnd.databricks.v1+cell": {
          "cellMetadata": {},
          "inputWidgets": {},
          "nuid": "554c22c8-25bd-45ac-9c82-9a6120d87674",
          "showTitle": false,
          "title": ""
        },
        "id": "rUu_IQ2a1_0f"
      },
      "source": [
        "Final Question: What is the boolean output of the cell block below?"
      ]
    },
    {
      "cell_type": "code",
      "execution_count": null,
      "metadata": {
        "application/vnd.databricks.v1+cell": {
          "cellMetadata": {},
          "inputWidgets": {},
          "nuid": "e0487024-92c0-4940-8fb9-ffba664ceca2",
          "showTitle": false,
          "title": ""
        },
        "collapsed": true,
        "id": "5l9TAMT51_0f"
      },
      "outputs": [],
      "source": [
        "# two nested lists\n",
        "l_one = [1,2,[3,4]]\n",
        "l_two = [1,2,{'k1':4}]\n",
        "\n",
        "# True or False?\n",
        "l_one[2][0] >= l_two[2]['k1']"
      ]
    },
    {
      "cell_type": "markdown",
      "metadata": {
        "application/vnd.databricks.v1+cell": {
          "cellMetadata": {},
          "inputWidgets": {},
          "nuid": "cd9e308e-7542-481d-b54a-6477e019f3cf",
          "showTitle": false,
          "title": ""
        },
        "id": "LZ-rcc8C1_0f"
      },
      "source": [
        "## Great Job on your first assessment!"
      ]
    },
    {
      "cell_type": "markdown",
      "metadata": {
        "application/vnd.databricks.v1+cell": {
          "cellMetadata": {},
          "inputWidgets": {},
          "nuid": "dfc2ce62-febf-4208-8376-e07708faa2a4",
          "showTitle": false,
          "title": ""
        },
        "id": "KUCFoxDd1_0f"
      },
      "source": [
        "Bài 1: Viết chương trình nhập: số giờ làm mỗi tuần, thù lao trên mỗi giờ làm tiêu chuẩn, từ đó tính ra số tiền thực lĩnh của nhân viên. Biết rằng: số giờ tiêu chuẩn mỗi tuần là 44 giờ, và mỗi giờ vượt chuẩn được trả gấp rưỡi so với giờ làm chuẩn."
      ]
    },
    {
      "cell_type": "code",
      "execution_count": null,
      "metadata": {
        "id": "fmMkzbvh1_0g"
      },
      "outputs": [],
      "source": []
    },
    {
      "cell_type": "markdown",
      "metadata": {
        "application/vnd.databricks.v1+cell": {
          "cellMetadata": {},
          "inputWidgets": {},
          "nuid": "c4f61be2-f880-4f93-afc9-be220f95d320",
          "showTitle": false,
          "title": ""
        },
        "id": "_FWcJTd_1_0g"
      },
      "source": [
        "Bài 2: Viết một chương trình chấp nhận đầu vào là một câu, đếm chữ hoa, chữ thường.\n",
        "\n",
        "Giả sử đầu vào là: Ha Thanh Huong\n",
        "\n",
        "Thì đầu ra là:\n",
        "\n",
        "- Chữ hoa: 3\n",
        "- Chữ thường: 9"
      ]
    },
    {
      "cell_type": "code",
      "execution_count": null,
      "metadata": {
        "application/vnd.databricks.v1+cell": {
          "cellMetadata": {
            "byteLimit": 2048000,
            "rowLimit": 10000
          },
          "inputWidgets": {},
          "nuid": "4832d3e9-4754-4380-86ef-bf3a76fe9570",
          "showTitle": false,
          "title": ""
        },
        "id": "alTXPjmK1_0g"
      },
      "outputs": [],
      "source": []
    }
  ],
  "metadata": {
    "anaconda-cloud": {},
    "application/vnd.databricks.v1+notebook": {
      "dashboards": [],
      "language": "python",
      "notebookMetadata": {
        "pythonIndentUnit": 4
      },
      "notebookName": "07-Objects and Data Structures Assessment Test",
      "widgets": {}
    },
    "kernelspec": {
      "display_name": "Python 3 (ipykernel)",
      "language": "python",
      "name": "python3"
    },
    "language_info": {
      "codemirror_mode": {
        "name": "ipython",
        "version": 3
      },
      "file_extension": ".py",
      "mimetype": "text/x-python",
      "name": "python",
      "nbconvert_exporter": "python",
      "pygments_lexer": "ipython3",
      "version": "3.9.2"
    },
    "colab": {
      "provenance": []
    }
  },
  "nbformat": 4,
  "nbformat_minor": 0
}