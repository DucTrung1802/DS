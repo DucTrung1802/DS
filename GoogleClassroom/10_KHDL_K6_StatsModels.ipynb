{
  "cells": [
    {
      "cell_type": "markdown",
      "metadata": {
        "id": "pWa9bTm4q8zG"
      },
      "source": [
        "**Context**\n",
        "\n",
        "The market historical data set of real estate valuation are collected from Sindian Dist., New Taipei City, Taiwan. The real estate valuation is a regression problem.\n",
        "\n",
        "**Data info**\n",
        "\n",
        "The inputs are as follows:\n",
        "\n",
        "house_age = the house age (unit: year)\n",
        "\n",
        "dist_to_nearest_MRT = the distance to the nearest MRT station (unit: meter)\n",
        "\n",
        "no_stores = the number of convenience stores in the living circle on foot (integer)\n",
        "\n",
        "latitude = the geographic coordinate, latitude. (unit: degree)\n",
        "\n",
        "longitude = the geographic coordinate, longitude. (unit: degree)\n",
        "\n",
        "The output is as follows:\n",
        "\n",
        "house_price = house price of unit area (10000 New Taiwan Dollar/Ping, where Ping is a local unit, 1 Ping = 3.3 meter squared)\n",
        "\n",
        "**Exercise**:  \n",
        "\n",
        "Look at the relationship between house price per area and the number of nearby convenience stores using statsmodels (OLS)\n",
        "\n",
        "a. Find the intercept coefficient of the model. What does this mean?\n",
        "\n",
        "b. Find the n_stores coefficient of the model. What does this mean?"
      ]
    },
    {
      "cell_type": "code",
      "execution_count": 1,
      "metadata": {
        "id": "lAJCHlInrEH2"
      },
      "outputs": [],
      "source": [
        "import pandas as pd"
      ]
    },
    {
      "cell_type": "code",
      "execution_count": 2,
      "metadata": {},
      "outputs": [],
      "source": [
        "df = pd.read_csv(\"taiwan_real_estate - taiwan_real_estate.csv\")"
      ]
    },
    {
      "cell_type": "code",
      "execution_count": 3,
      "metadata": {},
      "outputs": [
        {
          "data": {
            "text/html": [
              "<div>\n",
              "<style scoped>\n",
              "    .dataframe tbody tr th:only-of-type {\n",
              "        vertical-align: middle;\n",
              "    }\n",
              "\n",
              "    .dataframe tbody tr th {\n",
              "        vertical-align: top;\n",
              "    }\n",
              "\n",
              "    .dataframe thead th {\n",
              "        text-align: right;\n",
              "    }\n",
              "</style>\n",
              "<table border=\"1\" class=\"dataframe\">\n",
              "  <thead>\n",
              "    <tr style=\"text-align: right;\">\n",
              "      <th></th>\n",
              "      <th>No</th>\n",
              "      <th>house_age</th>\n",
              "      <th>dist_to_nearest_MRT</th>\n",
              "      <th>no_stores</th>\n",
              "      <th>latitude</th>\n",
              "      <th>longitude</th>\n",
              "      <th>house_price</th>\n",
              "    </tr>\n",
              "  </thead>\n",
              "  <tbody>\n",
              "    <tr>\n",
              "      <th>0</th>\n",
              "      <td>1</td>\n",
              "      <td>32.0</td>\n",
              "      <td>84.87882</td>\n",
              "      <td>10</td>\n",
              "      <td>24.98298</td>\n",
              "      <td>121.54024</td>\n",
              "      <td>37.9</td>\n",
              "    </tr>\n",
              "    <tr>\n",
              "      <th>1</th>\n",
              "      <td>2</td>\n",
              "      <td>19.5</td>\n",
              "      <td>306.59470</td>\n",
              "      <td>9</td>\n",
              "      <td>24.98034</td>\n",
              "      <td>121.53951</td>\n",
              "      <td>42.2</td>\n",
              "    </tr>\n",
              "    <tr>\n",
              "      <th>2</th>\n",
              "      <td>3</td>\n",
              "      <td>13.3</td>\n",
              "      <td>561.98450</td>\n",
              "      <td>5</td>\n",
              "      <td>24.98746</td>\n",
              "      <td>121.54391</td>\n",
              "      <td>47.3</td>\n",
              "    </tr>\n",
              "    <tr>\n",
              "      <th>3</th>\n",
              "      <td>4</td>\n",
              "      <td>13.3</td>\n",
              "      <td>561.98450</td>\n",
              "      <td>5</td>\n",
              "      <td>24.98746</td>\n",
              "      <td>121.54391</td>\n",
              "      <td>54.8</td>\n",
              "    </tr>\n",
              "    <tr>\n",
              "      <th>4</th>\n",
              "      <td>5</td>\n",
              "      <td>5.0</td>\n",
              "      <td>390.56840</td>\n",
              "      <td>5</td>\n",
              "      <td>24.97937</td>\n",
              "      <td>121.54245</td>\n",
              "      <td>43.1</td>\n",
              "    </tr>\n",
              "    <tr>\n",
              "      <th>...</th>\n",
              "      <td>...</td>\n",
              "      <td>...</td>\n",
              "      <td>...</td>\n",
              "      <td>...</td>\n",
              "      <td>...</td>\n",
              "      <td>...</td>\n",
              "      <td>...</td>\n",
              "    </tr>\n",
              "    <tr>\n",
              "      <th>409</th>\n",
              "      <td>410</td>\n",
              "      <td>13.7</td>\n",
              "      <td>4082.01500</td>\n",
              "      <td>0</td>\n",
              "      <td>24.94155</td>\n",
              "      <td>121.50381</td>\n",
              "      <td>15.4</td>\n",
              "    </tr>\n",
              "    <tr>\n",
              "      <th>410</th>\n",
              "      <td>411</td>\n",
              "      <td>5.6</td>\n",
              "      <td>90.45606</td>\n",
              "      <td>9</td>\n",
              "      <td>24.97433</td>\n",
              "      <td>121.54310</td>\n",
              "      <td>50.0</td>\n",
              "    </tr>\n",
              "    <tr>\n",
              "      <th>411</th>\n",
              "      <td>412</td>\n",
              "      <td>18.8</td>\n",
              "      <td>390.96960</td>\n",
              "      <td>7</td>\n",
              "      <td>24.97923</td>\n",
              "      <td>121.53986</td>\n",
              "      <td>40.6</td>\n",
              "    </tr>\n",
              "    <tr>\n",
              "      <th>412</th>\n",
              "      <td>413</td>\n",
              "      <td>8.1</td>\n",
              "      <td>104.81010</td>\n",
              "      <td>5</td>\n",
              "      <td>24.96674</td>\n",
              "      <td>121.54067</td>\n",
              "      <td>52.5</td>\n",
              "    </tr>\n",
              "    <tr>\n",
              "      <th>413</th>\n",
              "      <td>414</td>\n",
              "      <td>6.5</td>\n",
              "      <td>90.45606</td>\n",
              "      <td>9</td>\n",
              "      <td>24.97433</td>\n",
              "      <td>121.54310</td>\n",
              "      <td>63.9</td>\n",
              "    </tr>\n",
              "  </tbody>\n",
              "</table>\n",
              "<p>414 rows × 7 columns</p>\n",
              "</div>"
            ],
            "text/plain": [
              "      No  house_age  dist_to_nearest_MRT  no_stores  latitude  longitude  \\\n",
              "0      1       32.0             84.87882         10  24.98298  121.54024   \n",
              "1      2       19.5            306.59470          9  24.98034  121.53951   \n",
              "2      3       13.3            561.98450          5  24.98746  121.54391   \n",
              "3      4       13.3            561.98450          5  24.98746  121.54391   \n",
              "4      5        5.0            390.56840          5  24.97937  121.54245   \n",
              "..   ...        ...                  ...        ...       ...        ...   \n",
              "409  410       13.7           4082.01500          0  24.94155  121.50381   \n",
              "410  411        5.6             90.45606          9  24.97433  121.54310   \n",
              "411  412       18.8            390.96960          7  24.97923  121.53986   \n",
              "412  413        8.1            104.81010          5  24.96674  121.54067   \n",
              "413  414        6.5             90.45606          9  24.97433  121.54310   \n",
              "\n",
              "     house_price  \n",
              "0           37.9  \n",
              "1           42.2  \n",
              "2           47.3  \n",
              "3           54.8  \n",
              "4           43.1  \n",
              "..           ...  \n",
              "409         15.4  \n",
              "410         50.0  \n",
              "411         40.6  \n",
              "412         52.5  \n",
              "413         63.9  \n",
              "\n",
              "[414 rows x 7 columns]"
            ]
          },
          "execution_count": 3,
          "metadata": {},
          "output_type": "execute_result"
        }
      ],
      "source": [
        "df"
      ]
    },
    {
      "cell_type": "code",
      "execution_count": 4,
      "metadata": {},
      "outputs": [
        {
          "data": {
            "text/plain": [
              "No                     0\n",
              "house_age              0\n",
              "dist_to_nearest_MRT    0\n",
              "no_stores              0\n",
              "latitude               0\n",
              "longitude              0\n",
              "house_price            0\n",
              "dtype: int64"
            ]
          },
          "execution_count": 4,
          "metadata": {},
          "output_type": "execute_result"
        }
      ],
      "source": [
        "df.isnull().sum()"
      ]
    },
    {
      "cell_type": "code",
      "execution_count": 17,
      "metadata": {},
      "outputs": [],
      "source": [
        "import statsmodels.api as sm"
      ]
    },
    {
      "cell_type": "code",
      "execution_count": 24,
      "metadata": {},
      "outputs": [],
      "source": [
        "X = sm.add_constant(df[\"no_stores\"])\n",
        "y = df[\"house_price\"]"
      ]
    },
    {
      "cell_type": "code",
      "execution_count": 25,
      "metadata": {},
      "outputs": [],
      "source": [
        "results = sm.OLS(y, X).fit()"
      ]
    },
    {
      "cell_type": "code",
      "execution_count": 26,
      "metadata": {},
      "outputs": [
        {
          "data": {
            "text/html": [
              "<table class=\"simpletable\">\n",
              "<caption>OLS Regression Results</caption>\n",
              "<tr>\n",
              "  <th>Dep. Variable:</th>       <td>house_price</td>   <th>  R-squared:         </th> <td>   0.326</td>\n",
              "</tr>\n",
              "<tr>\n",
              "  <th>Model:</th>                   <td>OLS</td>       <th>  Adj. R-squared:    </th> <td>   0.324</td>\n",
              "</tr>\n",
              "<tr>\n",
              "  <th>Method:</th>             <td>Least Squares</td>  <th>  F-statistic:       </th> <td>   199.3</td>\n",
              "</tr>\n",
              "<tr>\n",
              "  <th>Date:</th>             <td>Wed, 24 Apr 2024</td> <th>  Prob (F-statistic):</th> <td>3.41e-37</td>\n",
              "</tr>\n",
              "<tr>\n",
              "  <th>Time:</th>                 <td>15:06:42</td>     <th>  Log-Likelihood:    </th> <td> -1586.0</td>\n",
              "</tr>\n",
              "<tr>\n",
              "  <th>No. Observations:</th>      <td>   414</td>      <th>  AIC:               </th> <td>   3176.</td>\n",
              "</tr>\n",
              "<tr>\n",
              "  <th>Df Residuals:</th>          <td>   412</td>      <th>  BIC:               </th> <td>   3184.</td>\n",
              "</tr>\n",
              "<tr>\n",
              "  <th>Df Model:</th>              <td>     1</td>      <th>                     </th>     <td> </td>   \n",
              "</tr>\n",
              "<tr>\n",
              "  <th>Covariance Type:</th>      <td>nonrobust</td>    <th>                     </th>     <td> </td>   \n",
              "</tr>\n",
              "</table>\n",
              "<table class=\"simpletable\">\n",
              "<tr>\n",
              "      <td></td>         <th>coef</th>     <th>std err</th>      <th>t</th>      <th>P>|t|</th>  <th>[0.025</th>    <th>0.975]</th>  \n",
              "</tr>\n",
              "<tr>\n",
              "  <th>const</th>     <td>   27.1811</td> <td>    0.942</td> <td>   28.857</td> <td> 0.000</td> <td>   25.330</td> <td>   29.033</td>\n",
              "</tr>\n",
              "<tr>\n",
              "  <th>no_stores</th> <td>    2.6377</td> <td>    0.187</td> <td>   14.118</td> <td> 0.000</td> <td>    2.270</td> <td>    3.005</td>\n",
              "</tr>\n",
              "</table>\n",
              "<table class=\"simpletable\">\n",
              "<tr>\n",
              "  <th>Omnibus:</th>       <td>171.927</td> <th>  Durbin-Watson:     </th> <td>   1.993</td> \n",
              "</tr>\n",
              "<tr>\n",
              "  <th>Prob(Omnibus):</th> <td> 0.000</td>  <th>  Jarque-Bera (JB):  </th> <td>1417.242</td> \n",
              "</tr>\n",
              "<tr>\n",
              "  <th>Skew:</th>          <td> 1.553</td>  <th>  Prob(JB):          </th> <td>1.78e-308</td>\n",
              "</tr>\n",
              "<tr>\n",
              "  <th>Kurtosis:</th>      <td>11.516</td>  <th>  Cond. No.          </th> <td>    8.87</td> \n",
              "</tr>\n",
              "</table><br/><br/>Notes:<br/>[1] Standard Errors assume that the covariance matrix of the errors is correctly specified."
            ],
            "text/latex": [
              "\\begin{center}\n",
              "\\begin{tabular}{lclc}\n",
              "\\toprule\n",
              "\\textbf{Dep. Variable:}    &   house\\_price   & \\textbf{  R-squared:         } &     0.326   \\\\\n",
              "\\textbf{Model:}            &       OLS        & \\textbf{  Adj. R-squared:    } &     0.324   \\\\\n",
              "\\textbf{Method:}           &  Least Squares   & \\textbf{  F-statistic:       } &     199.3   \\\\\n",
              "\\textbf{Date:}             & Wed, 24 Apr 2024 & \\textbf{  Prob (F-statistic):} &  3.41e-37   \\\\\n",
              "\\textbf{Time:}             &     15:06:42     & \\textbf{  Log-Likelihood:    } &   -1586.0   \\\\\n",
              "\\textbf{No. Observations:} &         414      & \\textbf{  AIC:               } &     3176.   \\\\\n",
              "\\textbf{Df Residuals:}     &         412      & \\textbf{  BIC:               } &     3184.   \\\\\n",
              "\\textbf{Df Model:}         &           1      & \\textbf{                     } &             \\\\\n",
              "\\textbf{Covariance Type:}  &    nonrobust     & \\textbf{                     } &             \\\\\n",
              "\\bottomrule\n",
              "\\end{tabular}\n",
              "\\begin{tabular}{lcccccc}\n",
              "                    & \\textbf{coef} & \\textbf{std err} & \\textbf{t} & \\textbf{P$> |$t$|$} & \\textbf{[0.025} & \\textbf{0.975]}  \\\\\n",
              "\\midrule\n",
              "\\textbf{const}      &      27.1811  &        0.942     &    28.857  &         0.000        &       25.330    &       29.033     \\\\\n",
              "\\textbf{no\\_stores} &       2.6377  &        0.187     &    14.118  &         0.000        &        2.270    &        3.005     \\\\\n",
              "\\bottomrule\n",
              "\\end{tabular}\n",
              "\\begin{tabular}{lclc}\n",
              "\\textbf{Omnibus:}       & 171.927 & \\textbf{  Durbin-Watson:     } &     1.993  \\\\\n",
              "\\textbf{Prob(Omnibus):} &   0.000 & \\textbf{  Jarque-Bera (JB):  } &  1417.242  \\\\\n",
              "\\textbf{Skew:}          &   1.553 & \\textbf{  Prob(JB):          } & 1.78e-308  \\\\\n",
              "\\textbf{Kurtosis:}      &  11.516 & \\textbf{  Cond. No.          } &      8.87  \\\\\n",
              "\\bottomrule\n",
              "\\end{tabular}\n",
              "%\\caption{OLS Regression Results}\n",
              "\\end{center}\n",
              "\n",
              "Notes: \\newline\n",
              " [1] Standard Errors assume that the covariance matrix of the errors is correctly specified."
            ],
            "text/plain": [
              "<class 'statsmodels.iolib.summary.Summary'>\n",
              "\"\"\"\n",
              "                            OLS Regression Results                            \n",
              "==============================================================================\n",
              "Dep. Variable:            house_price   R-squared:                       0.326\n",
              "Model:                            OLS   Adj. R-squared:                  0.324\n",
              "Method:                 Least Squares   F-statistic:                     199.3\n",
              "Date:                Wed, 24 Apr 2024   Prob (F-statistic):           3.41e-37\n",
              "Time:                        15:06:42   Log-Likelihood:                -1586.0\n",
              "No. Observations:                 414   AIC:                             3176.\n",
              "Df Residuals:                     412   BIC:                             3184.\n",
              "Df Model:                           1                                         \n",
              "Covariance Type:            nonrobust                                         \n",
              "==============================================================================\n",
              "                 coef    std err          t      P>|t|      [0.025      0.975]\n",
              "------------------------------------------------------------------------------\n",
              "const         27.1811      0.942     28.857      0.000      25.330      29.033\n",
              "no_stores      2.6377      0.187     14.118      0.000       2.270       3.005\n",
              "==============================================================================\n",
              "Omnibus:                      171.927   Durbin-Watson:                   1.993\n",
              "Prob(Omnibus):                  0.000   Jarque-Bera (JB):             1417.242\n",
              "Skew:                           1.553   Prob(JB):                    1.78e-308\n",
              "Kurtosis:                      11.516   Cond. No.                         8.87\n",
              "==============================================================================\n",
              "\n",
              "Notes:\n",
              "[1] Standard Errors assume that the covariance matrix of the errors is correctly specified.\n",
              "\"\"\""
            ]
          },
          "execution_count": 26,
          "metadata": {},
          "output_type": "execute_result"
        }
      ],
      "source": [
        "results.summary()"
      ]
    },
    {
      "cell_type": "code",
      "execution_count": 31,
      "metadata": {},
      "outputs": [
        {
          "data": {
            "text/plain": [
              "27.18110478147243"
            ]
          },
          "execution_count": 31,
          "metadata": {},
          "output_type": "execute_result"
        }
      ],
      "source": [
        "intercept = results.params.iloc[0]\n",
        "intercept"
      ]
    },
    {
      "cell_type": "code",
      "execution_count": 32,
      "metadata": {},
      "outputs": [
        {
          "data": {
            "text/plain": [
              "2.637653463404371"
            ]
          },
          "execution_count": 32,
          "metadata": {},
          "output_type": "execute_result"
        }
      ],
      "source": [
        "n_stores_coefficient = results.params.iloc[1]\n",
        "n_stores_coefficient"
      ]
    },
    {
      "cell_type": "code",
      "execution_count": null,
      "metadata": {},
      "outputs": [],
      "source": [
        "# Conclusion\n",
        "\n",
        "# intercept = 27.18110478147243 means: The base value of house price\n",
        "# when all independent variables is set to zero.\n",
        "\n",
        "# n_stores_coefficient = 2.637653463404371 means: Keep other independent variables remain,\n",
        "# each unit change in no_stores will result in 2.637653463404371 unit change in house price."
      ]
    }
  ],
  "metadata": {
    "colab": {
      "provenance": []
    },
    "kernelspec": {
      "display_name": "Python 3",
      "name": "python3"
    },
    "language_info": {
      "codemirror_mode": {
        "name": "ipython",
        "version": 3
      },
      "file_extension": ".py",
      "mimetype": "text/x-python",
      "name": "python",
      "nbconvert_exporter": "python",
      "pygments_lexer": "ipython3",
      "version": "3.12.3"
    }
  },
  "nbformat": 4,
  "nbformat_minor": 0
}
