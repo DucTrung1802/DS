{
 "cells": [
  {
   "cell_type": "code",
   "execution_count": null,
   "metadata": {},
   "outputs": [],
   "source": [
    "# * Data: restaurants.json\n",
    "# - Mỗi phần tử là một đối tượng json chứa thông tin về một nhà hàng, bao gồm địa chỉ, quận, loại hình ẩm thực, danh sách các đánh giá, tên nhà hàng, id. (vd ở dưới ạ)\n",
    "\n",
    "# * Các bạn có thể import restaurants.json vào database của mình hoặc kết nối đến MongoDB Atlas đã được import sẵn \n",
    "# <username>:qh2023 \n",
    "# <password>:1\n",
    "# (database: mongodb_demo, collection: collection_demo2)\n",
    "# - Trong Colab:\n",
    "# !pip install pymongo\n",
    "\n",
    "# from pymongo.mongo_client import MongoClient\n",
    "# uri = \"mongodb+srv://qh2023:1@clusterbegin0.iojcaoc.mongodb.net/?retryWrites=true&w=majority&appName=ClusterBegin0\"\n",
    "# # Create a new client and connect to the server\n",
    "# client = MongoClient(uri)\n",
    "# # Send a ping to confirm a successful connection\n",
    "# try:\n",
    "#     client.admin.command('ping')\n",
    "#     print(\"Pinged your deployment. You successfully connected to MongoDB!\")\n",
    "# except Exception as e:\n",
    "#     print(e)\n",
    "\n",
    "# *Bài tập\n",
    "# - Bài 1: Tìm id, tên và số lượt đánh giá của nhà hàng có nhiều lượt đánh giá nhất\n",
    "# - Bài 2: Tìm tổng số các nhà hàng có ít nhất 1 điểm đánh giá dưới 5, nằm ở Manhattan hoặc Brooklyn, và loại hình ẩm thực không phải là American hoặc Chinese\n",
    "# - Bài 3: Trả về kết quả theo thứ tự Tên nhà hàng, Tên phố, Tên quận, Điểm trung bình của nhà hàng có điểm trung bình đánh giá cao nhất và trong loại hình ẩm thực của nó có chứa từ 'Pizza' (không phân biệt hoa thường)\n",
    "\n",
    "\n",
    "\n",
    "\n",
    "# {\n",
    "#     \"address\": {\n",
    "#         \"building\": \"1007\",\n",
    "#         \"coord\": [-73.856077, 40.848447],\n",
    "#         \"street\": \"Morris Park Ave\",\n",
    "#         \"zipcode\": \"10462\"\n",
    "#     },\n",
    "#     \"borough\": \"Bronx\",\n",
    "#     \"cuisine\": \"Bakery\",\n",
    "#     \"grades\": [{\n",
    "#         \"date\": {\n",
    "#             \"$date\": 1393804800000\n",
    "#         },\n",
    "#         \"grade\": \"A\",\n",
    "#         \"score\": 2\n",
    "#     }, {\n",
    "#         \"date\": {\n",
    "#             \"$date\": 1378857600000\n",
    "#         },\n",
    "#         \"grade\": \"A\",\n",
    "#         \"score\": 6\n",
    "#     }, {\n",
    "#         \"date\": {\n",
    "#             \"$date\": 1358985600000\n",
    "#         },\n",
    "#         \"grade\": \"A\",\n",
    "#         \"score\": 10\n",
    "#     }, {\n",
    "#         \"date\": {\n",
    "#             \"$date\": 1322006400000\n",
    "#         },\n",
    "#         \"grade\": \"A\",\n",
    "#         \"score\": 9\n",
    "#     }, {\n",
    "#         \"date\": {\n",
    "#             \"$date\": 1299715200000\n",
    "#         },\n",
    "#         \"grade\": \"B\",\n",
    "#         \"score\": 14\n",
    "#     }],\n",
    "#     \"name\": \"Morris Park Bake Shop\",\n",
    "#     \"restaurant_id\": \"30075445\"\n",
    "# }"
   ]
  },
  {
   "cell_type": "code",
   "execution_count": 4,
   "metadata": {},
   "outputs": [
    {
     "name": "stdout",
     "output_type": "stream",
     "text": [
      "ac-nh8orln-shard-00-00.iojcaoc.mongodb.net:27017: [SSL: CERTIFICATE_VERIFY_FAILED] certificate verify failed: certificate has expired (_ssl.c:1007) (configured timeouts: socketTimeoutMS: 20000.0ms, connectTimeoutMS: 20000.0ms),ac-nh8orln-shard-00-01.iojcaoc.mongodb.net:27017: [SSL: CERTIFICATE_VERIFY_FAILED] certificate verify failed: certificate has expired (_ssl.c:1007) (configured timeouts: socketTimeoutMS: 20000.0ms, connectTimeoutMS: 20000.0ms),ac-nh8orln-shard-00-02.iojcaoc.mongodb.net:27017: [SSL: CERTIFICATE_VERIFY_FAILED] certificate verify failed: certificate has expired (_ssl.c:1007) (configured timeouts: socketTimeoutMS: 20000.0ms, connectTimeoutMS: 20000.0ms), Timeout: 30s, Topology Description: <TopologyDescription id: 662782361c4ff57de44b9884, topology_type: ReplicaSetNoPrimary, servers: [<ServerDescription ('ac-nh8orln-shard-00-00.iojcaoc.mongodb.net', 27017) server_type: Unknown, rtt: None, error=AutoReconnect('ac-nh8orln-shard-00-00.iojcaoc.mongodb.net:27017: [SSL: CERTIFICATE_VERIFY_FAILED] certificate verify failed: certificate has expired (_ssl.c:1007) (configured timeouts: socketTimeoutMS: 20000.0ms, connectTimeoutMS: 20000.0ms)')>, <ServerDescription ('ac-nh8orln-shard-00-01.iojcaoc.mongodb.net', 27017) server_type: Unknown, rtt: None, error=AutoReconnect('ac-nh8orln-shard-00-01.iojcaoc.mongodb.net:27017: [SSL: CERTIFICATE_VERIFY_FAILED] certificate verify failed: certificate has expired (_ssl.c:1007) (configured timeouts: socketTimeoutMS: 20000.0ms, connectTimeoutMS: 20000.0ms)')>, <ServerDescription ('ac-nh8orln-shard-00-02.iojcaoc.mongodb.net', 27017) server_type: Unknown, rtt: None, error=AutoReconnect('ac-nh8orln-shard-00-02.iojcaoc.mongodb.net:27017: [SSL: CERTIFICATE_VERIFY_FAILED] certificate verify failed: certificate has expired (_ssl.c:1007) (configured timeouts: socketTimeoutMS: 20000.0ms, connectTimeoutMS: 20000.0ms)')>]>\n"
     ]
    }
   ],
   "source": [
    "from pymongo.mongo_client import MongoClient\n",
    "\n",
    "uri = \"mongodb+srv://qh2023:1@clusterbegin0.iojcaoc.mongodb.net/?retryWrites=true&w=majority&appName=ClusterBegin0\"\n",
    "# Create a new client and connect to the server\n",
    "client = MongoClient(uri)\n",
    "# Send a ping to confirm a successful connection\n",
    "try:\n",
    "    client.admin.command(\"ping\")\n",
    "    print(\"Pinged your deployment. You successfully connected to MongoDB!\")\n",
    "except Exception as e:\n",
    "    print(e)"
   ]
  }
 ],
 "metadata": {
  "kernelspec": {
   "display_name": "Python 3",
   "language": "python",
   "name": "python3"
  },
  "language_info": {
   "codemirror_mode": {
    "name": "ipython",
    "version": 3
   },
   "file_extension": ".py",
   "mimetype": "text/x-python",
   "name": "python",
   "nbconvert_exporter": "python",
   "pygments_lexer": "ipython3",
   "version": "3.10.11"
  }
 },
 "nbformat": 4,
 "nbformat_minor": 2
}
