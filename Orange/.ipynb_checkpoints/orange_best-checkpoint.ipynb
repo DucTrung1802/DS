{
 "cells": [
  {
   "cell_type": "markdown",
   "metadata": {
    "id": "aQ2elnqjNddA"
   },
   "source": [
    "# Orange brix Analysis"
   ]
  },
  {
   "cell_type": "code",
   "execution_count": 1050,
   "metadata": {
    "colab": {
     "base_uri": "https://localhost:8080/"
    },
    "id": "n833jefeN_Mi",
    "outputId": "2b89251b-221f-411b-b01b-80a6ed1f8f7b"
   },
   "outputs": [],
   "source": [
    "# from google.colab import drive\n",
    "# drive.mount(\"/content/drive\")\n",
    "# %cd \"/content/drive//MyDrive/Colab Notebooks/Master_homework/Advanced_programming_for_scientific_computing/\"\n",
    "# # Master_homework/"
   ]
  },
  {
   "cell_type": "markdown",
   "metadata": {
    "id": "UzLyHKC0NddJ"
   },
   "source": [
    "## Import libraries"
   ]
  },
  {
   "cell_type": "code",
   "execution_count": 1051,
   "metadata": {
    "id": "d95dc_9LNddK"
   },
   "outputs": [],
   "source": [
    "import numpy as np\n",
    "import pandas as pd\n",
    "import matplotlib.pyplot as plt\n",
    "import seaborn as sns\n",
    "from scipy import stats\n",
    "from enum import Enum\n",
    "from tqdm import tqdm\n",
    "\n",
    "from sklearn.linear_model import LinearRegression\n",
    "from sklearn.tree import DecisionTreeRegressor\n",
    "from sklearn.ensemble import RandomForestRegressor\n",
    "from sklearn.neighbors import KNeighborsRegressor\n",
    "from sklearn.svm import SVR\n",
    "from xgboost import XGBRegressor\n",
    "from lightgbm import LGBMRegressor\n",
    "from sklearn.model_selection import KFold\n",
    "from sklearn.metrics import r2_score, mean_squared_error\n",
    "\n",
    "import os"
   ]
  },
  {
   "cell_type": "code",
   "execution_count": 1052,
   "metadata": {
    "colab": {
     "base_uri": "https://localhost:8080/"
    },
    "id": "ym7rPvCENddP",
    "outputId": "0675bb45-874b-4e0d-f0d8-96cd7ee0fc7f"
   },
   "outputs": [],
   "source": [
    "# !pip install lightgbm\n",
    "# !pip install xgboost"
   ]
  },
  {
   "cell_type": "code",
   "execution_count": 1053,
   "metadata": {
    "id": "RJqWB2zENddQ"
   },
   "outputs": [],
   "source": [
    "plt.style.use(\"fivethirtyeight\")"
   ]
  },
  {
   "cell_type": "code",
   "execution_count": 1054,
   "metadata": {
    "id": "-Ux1NSLuNddR"
   },
   "outputs": [],
   "source": [
    "GENERATE_PLOTS: bool = False"
   ]
  },
  {
   "cell_type": "markdown",
   "metadata": {
    "id": "M8cYA23bNddS"
   },
   "source": [
    "## Create Classes"
   ]
  },
  {
   "cell_type": "code",
   "execution_count": 1055,
   "metadata": {
    "id": "uuosTUAnNddT"
   },
   "outputs": [],
   "source": [
    "class Utilities:\n",
    "    def __init__(self):\n",
    "        pass\n",
    "\n",
    "    def get_categorical_numeric_cols(self, dataframe: pd.DataFrame):\n",
    "        if len(dataframe) == 0:\n",
    "            raise Exception(\"No records found!\")\n",
    "\n",
    "        numeric_cols = []\n",
    "        categorical_cols = []\n",
    "\n",
    "        for col in dataframe.columns:\n",
    "            if isinstance(dataframe[col][0], bool) or not isinstance(\n",
    "                dataframe[col][0], (int, float, np.int8, np.int16, np.int32, np.int64, np.float16, np.float32, np.float64)\n",
    "            ):\n",
    "                categorical_cols.append(col)\n",
    "            else:\n",
    "                numeric_cols.append(col)\n",
    "\n",
    "        return (categorical_cols, numeric_cols)"
   ]
  },
  {
   "cell_type": "code",
   "execution_count": 1056,
   "metadata": {
    "id": "T7umKO-8NddU"
   },
   "outputs": [],
   "source": [
    "from sklearn.preprocessing import (\n",
    "    MaxAbsScaler,\n",
    "    MinMaxScaler,\n",
    "    Normalizer,\n",
    "    RobustScaler,\n",
    "    StandardScaler,\n",
    ")\n",
    "\n",
    "\n",
    "class ScalerType(Enum):\n",
    "    Raw_ = None\n",
    "    MaxAbsScaler_ = MaxAbsScaler\n",
    "    MinMaxScaler_ = MinMaxScaler\n",
    "    Normalizer_ = Normalizer\n",
    "    RobustScaler_ = RobustScaler\n",
    "    StandardScaler_ = StandardScaler"
   ]
  },
  {
   "cell_type": "code",
   "execution_count": 1057,
   "metadata": {
    "id": "szkvxQ51NddV"
   },
   "outputs": [],
   "source": [
    "class Dataset(Utilities):\n",
    "    def __init__(\n",
    "        self,\n",
    "        name: str,\n",
    "        dataframe: pd.DataFrame,\n",
    "        scaler_type: ScalerType = ScalerType.Raw_,\n",
    "    ):\n",
    "        self.name: str = name\n",
    "        self.dataframe: pd.DataFrame = dataframe\n",
    "        self.categorical_cols: list[str] = []\n",
    "        self.numeric_cols: list[str] = []\n",
    "        self.scaler_type: ScalerType = scaler_type\n",
    "\n",
    "        self.categorical_cols, self.numeric_cols = self.get_categorical_numeric_cols(\n",
    "            self.dataframe\n",
    "        )\n",
    "\n",
    "    def get_name(self) -> str:\n",
    "        return self.name\n",
    "\n",
    "    def get_dataframe(self) -> pd.DataFrame:\n",
    "        return self.dataframe\n",
    "\n",
    "    def detect_categorical_numeric_cols(self):\n",
    "        if len(self.dataframe) == 0:\n",
    "            raise Exception(\"No records found!\")\n",
    "\n",
    "        self.numeric_cols = []\n",
    "        self.categorical_cols = []\n",
    "\n",
    "        for col in self.dataframe.columns:\n",
    "            try:\n",
    "                float(self.dataframe[col][0])\n",
    "                self.numeric_cols.append(col)\n",
    "            except:\n",
    "                self.categorical_cols.append(col)\n",
    "\n",
    "    def get_numeric_cols(self) -> list[str]:\n",
    "        return self.numeric_cols\n",
    "\n",
    "    def get_numeric_dataframe(self) -> pd.DataFrame:\n",
    "        return self.dataframe[self.numeric_cols]\n",
    "\n",
    "    def get_categorical_dataframe(self) -> pd.DataFrame:\n",
    "        return self.dataframe[self.categorical_cols]\n",
    "\n",
    "    def get_scaler_type(self) -> ScalerType:\n",
    "        return self.scaler_type\n",
    "\n",
    "    def concat_dataframe(self, additional_dataframe: pd.DataFrame):\n",
    "        if len(additional_dataframe) == len(self.dataframe):\n",
    "            self.dataframe = pd.concat([self.dataframe, additional_dataframe], axis=1)\n",
    "            self.detect_categorical_numeric_cols()\n",
    "\n",
    "    def get_one_hot_vectorized_dataset(\n",
    "        self, categorical_col: str, print_name: bool = True\n",
    "    ):\n",
    "        if categorical_col in self.categorical_cols:\n",
    "            dummies_dataframe = pd.get_dummies(self.dataframe[categorical_col])\n",
    "            dummies_dataframe = pd.concat([dummies_dataframe, self.dataframe], axis=1)\n",
    "            new_dataset_name = self.name + \"_ohv_\" + categorical_col\n",
    "            if print_name:\n",
    "                print(new_dataset_name)\n",
    "            return Dataset(\n",
    "                name=new_dataset_name,\n",
    "                dataframe=dummies_dataframe,\n",
    "                scaler_type=self.scaler_type,\n",
    "            )\n",
    "        elif categorical_col in self.numeric_cols:\n",
    "            print(\"Records for input column name are not categorical!\")\n",
    "        else:\n",
    "            print(\"Input column name does not exists!\")"
   ]
  },
  {
   "cell_type": "code",
   "execution_count": 1058,
   "metadata": {
    "id": "vUDUhRsZNddW"
   },
   "outputs": [],
   "source": [
    "class ModelType(Enum):\n",
    "    LINEAR_REGRESSION: dict = {}\n",
    "    SVR: dict = {\n",
    "        \"kernel\": \"rbf\", # imp | linear, poly, rbf\n",
    "        \"degree\": 3,\n",
    "        \"gamma\": \"scale\",\n",
    "        \"coef0\": 0,\n",
    "        \"tol\": 1e-3,\n",
    "        \"C\": 1.0, # imp tune from 0.1 - 2 step 0.1\n",
    "        \"epsilon\": 0.1,\n",
    "    }\n",
    "    DECISION_TREE: dict = {\n",
    "        \"criterion\": \"squared_error\",\n",
    "        \"splitter\": \"best\",\n",
    "        \"max_depth\": None, # imp tune 1 - number of feature\n",
    "        \"min_samples_split\": 2,\n",
    "        \"min_samples_leaf\": 1,\n",
    "        \"min_weight_fraction_leaf\": 0.0,\n",
    "        \"max_features\": None, # int 2->5 {“sqrt”, “log2”}, default=None\n",
    "\n",
    "        \"random_state\": 42,\n",
    "        \"max_leaf_nodes\": None,\n",
    "        \"min_impurity_decrease\": 0,\n",
    "    }\n",
    "    RANDOM_FOREST: dict = {\n",
    "        \"n_estimators\": 100, # int, 100-1000 (step 100)\n",
    "        \"criterion\": \"squared_error\",\n",
    "        \"max_depth\": None, # imp tune 1 - number of feature\n",
    "        \"min_samples_split\": 2,\n",
    "        \"min_samples_leaf\": 1,\n",
    "        \"min_weight_fraction_leaf\": 0.0,\n",
    "        \"max_features\": 1.0, # int 2->5 {“sqrt”, “log2”}, default=None\n",
    "        \"max_leaf_nodes\": None,\n",
    "        \"min_impurity_decrease\": 0.0,\n",
    "    }\n",
    "    LIGHT_GBM: dict = {\n",
    "        \"boosting_type\": \"gbdt\",\n",
    "        \"num_leaves\": 31,\n",
    "        \"max_depth\": -1,\n",
    "        \"learning_rate\": 0.1,\n",
    "        \"n_estimator\": 100, # int, 100->1000 (step 100)\n",
    "        \"verbosity\": -1,\n",
    "    }\n",
    "    XGB: dict = {\n",
    "        \"objective\": \"reg:linear\",\n",
    "        \"n_estimators\": 10, # int, 100-1000 (step 100)\n",
    "        \"seed\": 123,\n",
    "        \"verbosity\": 0,\n",
    "    }\n"
   ]
  },
  {
   "cell_type": "code",
   "execution_count": 1059,
   "metadata": {
    "id": "IvdvhKV9NddY"
   },
   "outputs": [],
   "source": [
    "class Result:\n",
    "    def __init__(\n",
    "        self,\n",
    "        dataset_name: str,\n",
    "        model_name: str,\n",
    "        model_type: ModelType,\n",
    "        scaler_type: str,\n",
    "        r2: float,\n",
    "        mse: float,\n",
    "    ):\n",
    "        self.result = [dataset_name, model_name, model_type, scaler_type, r2, mse]\n",
    "\n",
    "    def get_result(self):\n",
    "        return self.result"
   ]
  },
  {
   "cell_type": "code",
   "execution_count": 1060,
   "metadata": {
    "id": "Ck8IRUweNddZ"
   },
   "outputs": [],
   "source": [
    "class ResultFrame:\n",
    "    def __init__(self):\n",
    "        self.result_frame: pd.DataFrame = pd.DataFrame()\n",
    "        self.count = 0\n",
    "\n",
    "        self.start_up()\n",
    "\n",
    "    def start_up(self):\n",
    "        self.result_frame[\"dataset_name\"] = []\n",
    "        self.result_frame[\"model_name\"] = []\n",
    "        self.result_frame[\"model_type\"] = []\n",
    "        self.result_frame[\"scaler_type\"] = []\n",
    "        self.result_frame[\"r2\"] = []\n",
    "        self.result_frame[\"mse\"] = []\n",
    "\n",
    "    def add_result(self, new_result: Result):\n",
    "        self.result_frame.loc[self.count] = new_result.result\n",
    "        self.count += 1\n",
    "\n",
    "    def display_result(self):\n",
    "        self.result_frame.sort_values([\"r2\", \"mse\"], ascending=False, inplace=True)\n",
    "        display(self.result_frame)\n",
    "\n",
    "    def save_result(self, filename, overwrite=False):\n",
    "        file_exists = os.path.isfile(os.path.join(os.getcwd(), filename))\n",
    "        if file_exists and not overwrite:\n",
    "            print(\"Error: CANNOT SAVE FILE.\")\n",
    "            print(\"A file with the same name already exists.\")\n",
    "            print(\n",
    "                \"Set overwrite to True to overwrite existed file or change file name!\"\n",
    "            )\n",
    "        else:\n",
    "            self.result_frame.to_excel(filename)"
   ]
  },
  {
   "cell_type": "code",
   "execution_count": 1061,
   "metadata": {
    "id": "HruFStNaNdda"
   },
   "outputs": [],
   "source": [
    "class Model(Utilities):\n",
    "    def __init__(\n",
    "        self,\n",
    "        model_type: ModelType,\n",
    "        name: str,\n",
    "        x_cols: list[str],\n",
    "        y_cols: list[str],\n",
    "        dataset: Dataset,\n",
    "        scaler_type: ScalerType = ScalerType.Raw_,\n",
    "    ):\n",
    "\n",
    "        if len(x_cols) == 0 or len(y_cols) == 0:\n",
    "            raise Exception(\"Data columns are not specified!\")\n",
    "\n",
    "        self.model_type: ModelType = model_type\n",
    "        self.name: str = name\n",
    "        self.scaler_type: ScalerType = scaler_type\n",
    "        self.scaler = self.get_scaler(self.scaler_type)  # could be None\n",
    "        self.x_dataset: Dataset = None\n",
    "        self.y_dataset: Dataset = None\n",
    "        self.inner_model = None\n",
    "\n",
    "        self.preprocess_data(x_cols, y_cols, dataset)\n",
    "\n",
    "    # Extract data from x_cols and y_cols\n",
    "    # Redetect categorical and numeric columns\n",
    "    def preprocess_data(self, x_cols: list[str], y_cols: list[str], dataset: Dataset):\n",
    "        x_dataset_new_name = dataset.get_name() + \"_x\"\n",
    "        y_dataset_new_name = dataset.get_name() + \"_x\"\n",
    "        scaler_type = dataset.get_scaler_type()\n",
    "        self.x_dataset = Dataset(\n",
    "            name=x_dataset_new_name,\n",
    "            dataframe=dataset.get_dataframe()[x_cols],\n",
    "            scaler_type=scaler_type,\n",
    "        )\n",
    "        self.y_dataset = Dataset(\n",
    "            name=y_dataset_new_name,\n",
    "            dataframe=dataset.get_dataframe()[y_cols],\n",
    "            scaler_type=scaler_type,\n",
    "        )\n",
    "\n",
    "        self.process_x_dataset()\n",
    "\n",
    "    # arrange [numeric_cols, categorical_cols]\n",
    "    def process_x_dataset(self):\n",
    "        new_name = self.x_dataset.get_name()\n",
    "        numeric_dataframe = self.x_dataset.get_numeric_dataframe()\n",
    "        categorical_dataframe = self.x_dataset.get_categorical_dataframe()\n",
    "        scaler_type = self.x_dataset.get_scaler_type()\n",
    "        self.x_dataset = Dataset(\n",
    "            name=new_name,\n",
    "            dataframe=pd.concat([numeric_dataframe, categorical_dataframe], axis=1),\n",
    "            scaler_type=scaler_type,\n",
    "        )\n",
    "\n",
    "    def get_x_list_index_numeric_cols(self):\n",
    "        return list(range(len(self.x_dataset.get_numeric_cols())))\n",
    "\n",
    "    def fit_scaler_and_scale_dataframe(self, X: pd.DataFrame) -> pd.DataFrame:\n",
    "        if self.scaler is not None:\n",
    "            list_index = self.get_x_list_index_numeric_cols()\n",
    "            X_numeric = X[:, list_index]\n",
    "            X_categorical = X[:, len(list_index) :].astype(int)\n",
    "            self.scaler.fit(X_numeric)\n",
    "            transformed_X = self.scaler.transform(X_numeric)\n",
    "            transformed_X = np.concatenate([transformed_X, X_categorical], axis=1)\n",
    "        else:\n",
    "            transformed_X = X\n",
    "\n",
    "        return transformed_X\n",
    "\n",
    "    def get_x_dataframe(self):\n",
    "        return self.x_dataset.get_dataframe()\n",
    "\n",
    "    def get_y_dataframe(self):\n",
    "        return self.y_dataset.get_dataframe()\n",
    "\n",
    "    def get_scaler(self, scaler_type: ScalerType):\n",
    "        if scaler_type != ScalerType.Raw_:\n",
    "            return scaler_type.value()\n",
    "\n",
    "    def fit(self, X=None, Y=None):\n",
    "        if X is None:\n",
    "            X = np.array(self.x_dataset.get_dataframe())\n",
    "            Y = np.array(self.y_dataset.get_dataframe())\n",
    "\n",
    "        model_family = self.model_type.__str__().split(\".\")[-1]\n",
    "        params = self.model_type.value\n",
    "\n",
    "        Y = np.squeeze(Y)\n",
    "\n",
    "        # need to scale\n",
    "        transformed_X = self.fit_scaler_and_scale_dataframe(X)\n",
    "\n",
    "        if model_family == \"SVR\":\n",
    "            self.model = SVR(**params).fit(transformed_X, Y)\n",
    "        elif model_family == \"LINEAR_REGRESSION\":\n",
    "            self.model = LinearRegression(**params).fit(transformed_X, Y)\n",
    "        elif model_family == \"DECISION_TREE\":\n",
    "            self.model = DecisionTreeRegressor(**params).fit(transformed_X, Y)\n",
    "        elif model_family == \"RANDOM_FOREST\":\n",
    "            self.model = RandomForestRegressor(**params).fit(transformed_X, Y)\n",
    "        elif model_family == \"LIGHT_GBM\":\n",
    "            self.model = LGBMRegressor(**params).fit(transformed_X, Y)\n",
    "        elif model_family == \"XGB\":\n",
    "            self.model = XGBRegressor(**params).fit(transformed_X, Y)\n",
    "        else:\n",
    "            raise ValueError(\"Unknown model family!\")\n",
    "\n",
    "    def predict(self, X):\n",
    "        if self.scaler is not None:\n",
    "            list_index = self.get_x_list_index_numeric_cols()\n",
    "            X_numeric = X[:, list_index]\n",
    "            X_categorical = X[:, len(list_index) :].astype(int)\n",
    "            transformed_X = self.scaler.transform(X_numeric)\n",
    "            transformed_X = np.concatenate([transformed_X, X_categorical], axis=1)\n",
    "        else:\n",
    "            transformed_X = X\n",
    "        return self.model.predict(transformed_X)\n",
    "\n",
    "    def evaluate(self, X=None, Y=None, method=\"LOOCV\"):\n",
    "        if X is None:\n",
    "            X = np.array(self.x_dataset.get_dataframe())\n",
    "            Y = np.array(self.y_dataset.get_dataframe())\n",
    "        if method == \"LOOCV\":\n",
    "            preds = [0] * len(Y)\n",
    "            total = len(Y)\n",
    "            kf = KFold(n_splits=total)\n",
    "            kf.get_n_splits(Y)\n",
    "\n",
    "        with tqdm(total=total) as pbar:\n",
    "            for i, (train_index, valid_index) in enumerate(kf.split(X, Y)):\n",
    "                X_train = X[train_index]\n",
    "                Y_train = Y[train_index]\n",
    "                X_valid = X[valid_index]\n",
    "                Y_valid = Y[valid_index]\n",
    "                self.fit(X_train, Y_train)\n",
    "\n",
    "                Y_valid_pred = self.predict(X_valid)\n",
    "                for j in range(len(valid_index)):\n",
    "                    index = valid_index[j]\n",
    "                    value = Y_valid_pred[j]\n",
    "                    preds[index] = value\n",
    "                pbar.update(1)\n",
    "\n",
    "        r2 = r2_score(Y, preds)\n",
    "        mse = mean_squared_error(Y, preds)\n",
    "\n",
    "        # Compile result\n",
    "        dataset_name = self.x_dataset.get_name()[:-2]\n",
    "        return Result(\n",
    "            dataset_name=dataset_name,\n",
    "            model_name=self.name,\n",
    "            model_type=self.model_type,\n",
    "            scaler_type=self.scaler_type,\n",
    "            r2=r2,\n",
    "            mse=mse,\n",
    "        )\n",
    "\n",
    "    def save(self, filename: str):\n",
    "        pass\n",
    "\n",
    "    def load(self, filename: str):\n",
    "        pass\n",
    "\n",
    "    def set_params(self, params: dict):\n",
    "\n",
    "        pass"
   ]
  },
  {
   "cell_type": "markdown",
   "metadata": {
    "id": "7yiZvJWkNddc"
   },
   "source": [
    "## Create main variables"
   ]
  },
  {
   "cell_type": "code",
   "execution_count": 1062,
   "metadata": {
    "id": "WzEQsXy5Nddd"
   },
   "outputs": [],
   "source": [
    "list_dataset: dict[str, Dataset] = dict()\n",
    "list_model: dict = dict()\n"
   ]
  },
  {
   "cell_type": "markdown",
   "metadata": {
    "id": "yyZ_tuI7Nddi"
   },
   "source": [
    "## Create functions"
   ]
  },
  {
   "cell_type": "code",
   "execution_count": 1063,
   "metadata": {
    "id": "ZZ6Nkt_TNddi"
   },
   "outputs": [],
   "source": [
    "def list_all_dataset_names():\n",
    "    return list_dataset.keys()"
   ]
  },
  {
   "cell_type": "code",
   "execution_count": 1064,
   "metadata": {
    "id": "dfmFrbTjNddj"
   },
   "outputs": [],
   "source": [
    "def list_all_model_names():\n",
    "    return list_model.keys()"
   ]
  },
  {
   "cell_type": "code",
   "execution_count": 1065,
   "metadata": {
    "id": "tm7OGieqNddj"
   },
   "outputs": [],
   "source": [
    "def plot_along_dataset(\n",
    "    dataset: Dataset,\n",
    "    nrow_subplot: int,\n",
    "    ncol_subplot: int,\n",
    "    figsize: tuple[int, int],\n",
    "):\n",
    "    numeric_df = dataset.get_dataframe()[dataset.numeric_cols]\n",
    "    x = np.arange(len(numeric_df))\n",
    "    figs, axes = plt.subplots(nrow_subplot, ncol_subplot, figsize=figsize)\n",
    "    for i in range(nrow_subplot):\n",
    "        for j in range(ncol_subplot):\n",
    "            ax = axes[i][j]\n",
    "            index = i * ncol_subplot + j\n",
    "            ax.plot(x, numeric_df.iloc[:, index])\n",
    "            ax.set_title(f\"{numeric_df.columns[index]} along dataframe\", size=15)\n",
    "            ax.xaxis.set_tick_params(labelsize=12)\n",
    "            ax.xaxis.set_ticks(np.arange(0, len(numeric_df), 10))\n",
    "            ax.yaxis.set_tick_params(labelsize=12)"
   ]
  },
  {
   "cell_type": "code",
   "execution_count": 1066,
   "metadata": {
    "id": "zKkTHtpRNddk"
   },
   "outputs": [],
   "source": [
    "def plot_hist_kde_box_all_columns(dataset: Dataset):\n",
    "\n",
    "    number_of_numeric_col = len(dataset.numeric_cols)\n",
    "    figs, axes = plt.subplots(\n",
    "        number_of_numeric_col, 3, figsize=(30, number_of_numeric_col * 10)\n",
    "    )\n",
    "\n",
    "    numeric_dataframe = dataset.get_dataframe()[dataset.numeric_cols]\n",
    "\n",
    "    for i in range(number_of_numeric_col):\n",
    "        axes[i][0].set_title(f\"{numeric_dataframe.columns[i]} histogram\", size=20)\n",
    "        axes[i][0].yaxis.set_tick_params(labelsize=15)\n",
    "        axes[i][0].xaxis.set_tick_params(labelsize=15)\n",
    "        sns.histplot(ax=axes[i][0], data=numeric_dataframe.iloc[:, i])\n",
    "\n",
    "        axes[i][1].set_title(f\"{numeric_dataframe.columns[i]} KDE\", size=20)\n",
    "        axes[i][1].xaxis.set_tick_params(labelsize=15)\n",
    "        axes[i][1].yaxis.set_tick_params(labelsize=15)\n",
    "        sns.kdeplot(ax=axes[i][1], data=numeric_dataframe.iloc[:, i])\n",
    "\n",
    "        axes[i][2].set_title(f\"{numeric_dataframe.columns[i]} Boxplot\", size=20)\n",
    "        axes[i][2].xaxis.set_tick_params(labelsize=15)\n",
    "        axes[i][2].yaxis.set_tick_params(labelsize=15)\n",
    "        sns.boxplot(ax=axes[i][2], data=numeric_dataframe.iloc[:, i])"
   ]
  },
  {
   "cell_type": "code",
   "execution_count": 1067,
   "metadata": {
    "id": "5pBp7V5oNddk"
   },
   "outputs": [],
   "source": [
    "def plot_all_columns_group_by_a_categorical_col(dataset: Dataset, categorical_col: str):\n",
    "\n",
    "    dataframe = dataset.get_dataframe()\n",
    "    numeric_dataframe = dataframe[dataset.numeric_cols]\n",
    "    number_of_numeric_col = len(dataset.numeric_cols)\n",
    "    figs, axes = plt.subplots(\n",
    "        number_of_numeric_col, 2, figsize=(20, number_of_numeric_col * 10)\n",
    "    )\n",
    "    groups = dataframe[categorical_col].unique()\n",
    "\n",
    "    for i in range(number_of_numeric_col):\n",
    "        axes[i][0].set_title(f\"{numeric_dataframe.columns[i]} KDE\", size=20)\n",
    "        axes[i][0].xaxis.set_tick_params(labelsize=15)\n",
    "        axes[i][0].yaxis.set_tick_params(labelsize=15)\n",
    "        for group in groups:\n",
    "            sns.kdeplot(\n",
    "                ax=axes[i][0],\n",
    "                data=numeric_dataframe[dataframe[categorical_col] == group].iloc[:, i],\n",
    "                label=f\"Type {group}\",\n",
    "            )\n",
    "        axes[i][0].legend()\n",
    "\n",
    "        axes[i][1].set_title(f\"{numeric_dataframe.columns[i]} Boxplot\", size=20)\n",
    "        axes[i][1].xaxis.set_tick_params(labelsize=15)\n",
    "        axes[i][1].yaxis.set_tick_params(labelsize=15)\n",
    "        sns.boxplot(\n",
    "            ax=axes[i][1],\n",
    "            hue=\"type\",\n",
    "            y=numeric_dataframe.columns[i],\n",
    "            data=dataframe,\n",
    "        )"
   ]
  },
  {
   "cell_type": "code",
   "execution_count": 1068,
   "metadata": {
    "id": "hp0U0MssNddl"
   },
   "outputs": [],
   "source": [
    "def divide_dataframe_with_categorical_col(\n",
    "    dataset: Dataset, categorical_col: str\n",
    ") -> dict[str, pd.DataFrame]:\n",
    "    dataframe = dataset.get_dataframe()\n",
    "    groups = dataframe[categorical_col].unique()\n",
    "\n",
    "    result = {}\n",
    "    for group in groups:\n",
    "        result[group] = dataframe[dataframe[categorical_col] == group]\n",
    "\n",
    "    return result"
   ]
  },
  {
   "cell_type": "code",
   "execution_count": 1069,
   "metadata": {
    "id": "qcH5_PsmNddl"
   },
   "outputs": [],
   "source": [
    "def calculate_p_values_between_partitions(dataframes, columns_to_compare):\n",
    "    p_values = {}\n",
    "    for key1, df1 in dataframes.items():\n",
    "        for key2, df2 in dataframes.items():\n",
    "            if key1 != key2:\n",
    "                for col in columns_to_compare:\n",
    "                    if col in df1 and col in df2:\n",
    "                        t_stat, p_val = stats.ttest_ind(df1[col], df2[col])\n",
    "                        p_values[f\"{col}_{key1}-{col}_{key2}\"] = p_val\n",
    "    return p_values"
   ]
  },
  {
   "cell_type": "code",
   "execution_count": 1070,
   "metadata": {
    "id": "1qEFP40NNddm"
   },
   "outputs": [],
   "source": [
    "import statsmodels.api as sm\n",
    "from sklearn.metrics import mean_squared_error\n",
    "from typing import Optional, Callable\n",
    "\n",
    "\n",
    "def summary_linear_model(x: list, y, dataset, transformer: Optional[Callable] = None):\n",
    "    x_ = sm.add_constant(dataset[x])\n",
    "    y_ = dataset[y]\n",
    "    results = sm.OLS(y_, x_).fit()\n",
    "    Intercept = results.params.iloc[0]\n",
    "    Slope = results.params.iloc[1:]\n",
    "    P_values = results.pvalues[1:]\n",
    "    R_squared = results.rsquared\n",
    "    MSE = mean_squared_error(y_, results.predict())\n",
    "    print(\"Intercept\\n\", Intercept, end=\"\\n\\n\")\n",
    "    print(\"Slope\\n\", Slope, end=\"\\n\\n\")\n",
    "    print(\"P_values\\n\", P_values, end=\"\\n\\n\")\n",
    "    print(\"R_squared\\n\", R_squared, end=\"\\n\\n\")\n",
    "    print(\"MSE\\n\", MSE, end=\"\\n\\n\")\n",
    "    return {\n",
    "        \"Intercept\": Intercept,\n",
    "        \"Slope\": Slope,\n",
    "        \"P_values\": P_values,\n",
    "        \"R_squared\": R_squared,\n",
    "        \"MSE\": MSE,\n",
    "    }"
   ]
  },
  {
   "cell_type": "code",
   "execution_count": 1071,
   "metadata": {
    "id": "1tGWA3mUNddm"
   },
   "outputs": [],
   "source": [
    "# intercept_a = model_no_scale[\"Slope\"][\"A\"] + model_no_scale[\"Intercept\"]\n",
    "# intercept_b = model_no_scale[\"Slope\"][\"B\"] + model_no_scale[\"Intercept\"]\n",
    "# intercept_c = model_no_scale[\"Slope\"][\"C\"] + model_no_scale[\"Intercept\"]\n",
    "\n",
    "# x = np.arange(model_dataset[\"mass\"].min(), model_dataset[\"mass\"].max())\n",
    "# ya = x * model_no_scale[\"Slope\"][\"mass\"] + intercept_a\n",
    "# yb = x * model_no_scale[\"Slope\"][\"mass\"] + intercept_b\n",
    "# yc = x * model_no_scale[\"Slope\"][\"mass\"] + intercept_c\n",
    "# plt.plot(x, ya, linewidth=2, label=\"type_A\")\n",
    "# plt.plot(x, yb, linewidth=2, label=\"type_B\")\n",
    "# plt.plot(x, yc, linewidth=2, label=\"type_C\")\n",
    "# plt.legend()"
   ]
  },
  {
   "cell_type": "markdown",
   "metadata": {
    "id": "--xPsQ7CNddn"
   },
   "source": [
    "## Import data"
   ]
  },
  {
   "cell_type": "code",
   "execution_count": 1072,
   "metadata": {
    "colab": {
     "base_uri": "https://localhost:8080/"
    },
    "id": "qQqY_SLgPQXM",
    "outputId": "a208edde-4ea8-4b4a-ddf5-feb196d226a2"
   },
   "outputs": [
    {
     "name": "stdout",
     "output_type": "stream",
     "text": [
      "cropped.rar\n",
      "main_orange.ipynb\n",
      "orange-Copy1.ipynb\n",
      "orange.ipynb\n",
      "orange_anh_hieu-Copy1.ipynb\n",
      "orange_anh_hieu.ipynb\n",
      "orange_best.ipynb\n",
      "orange_data.xlsx\n",
      "resnet34.xlsx\n",
      "result_2.xlsx\n",
      "result_3.xlsx\n",
      "result_4.xlsx\n",
      "result_vit_base_patch16_224.dino_best_054777.xlsx\n",
      "result_vit_base_patch16_224.dino_best_05526.xlsx\n",
      "result_vit_base_patch16_224.dino_best_54_1.xlsx\n",
      "result_XGB_get_10_new.xlsx\n",
      "TIMM.ipynb\n",
      "vit_base_patch14_dinov2.lvd142m_get_30.xlsx\n",
      "vit_base_patch16_224.dino_get_10.xlsx\n",
      "vit_small_patch14_dinov2.lvd142m_get_10.xlsx\n",
      "vit_small_patch14_dinov2.lvd142m_get_20.xlsx\n",
      "vit_small_patch14_dinov2.lvd142m_get_30.xlsx\n",
      "vit_small_patch14_dinov2.lvd142m_get_5.xlsx\n",
      "vit_small_patch14_dinov2.lvd142m_get_97.xlsx\n",
      "vit_small_patch14_dinov2.lvd142m_get_one.xlsx\n",
      "vit_small_patch14_dinov2.lvd142m_mean.xlsx\n"
     ]
    }
   ],
   "source": [
    "!ls"
   ]
  },
  {
   "cell_type": "code",
   "execution_count": 1073,
   "metadata": {
    "id": "1sI8Q7h4Nddn"
   },
   "outputs": [],
   "source": [
    "raw_df = pd.read_excel(\"orange_data.xlsx\", sheet_name=0)"
   ]
  },
  {
   "cell_type": "code",
   "execution_count": 1074,
   "metadata": {
    "colab": {
     "base_uri": "https://localhost:8080/",
     "height": 363
    },
    "id": "tO0U0_L4Nddn",
    "outputId": "1cb664b2-e07a-4862-e381-3cacd9773ab8"
   },
   "outputs": [
    {
     "data": {
      "text/html": [
       "<div>\n",
       "<style scoped>\n",
       "    .dataframe tbody tr th:only-of-type {\n",
       "        vertical-align: middle;\n",
       "    }\n",
       "\n",
       "    .dataframe tbody tr th {\n",
       "        vertical-align: top;\n",
       "    }\n",
       "\n",
       "    .dataframe thead th {\n",
       "        text-align: right;\n",
       "    }\n",
       "</style>\n",
       "<table border=\"1\" class=\"dataframe\">\n",
       "  <thead>\n",
       "    <tr style=\"text-align: right;\">\n",
       "      <th></th>\n",
       "      <th>Name</th>\n",
       "      <th>p</th>\n",
       "      <th>C NaOH</th>\n",
       "      <th>Khối lượng(g)</th>\n",
       "      <th>Đường kính ngang(mm)</th>\n",
       "      <th>Đường kính dọc(mm)</th>\n",
       "      <th>Độ đường (Brix %)</th>\n",
       "      <th>TA (%)</th>\n",
       "      <th>Brix:TA</th>\n",
       "      <th>BrmTA</th>\n",
       "    </tr>\n",
       "  </thead>\n",
       "  <tbody>\n",
       "    <tr>\n",
       "      <th>0</th>\n",
       "      <td>A1</td>\n",
       "      <td>1.90</td>\n",
       "      <td>0.4000</td>\n",
       "      <td>255</td>\n",
       "      <td>257</td>\n",
       "      <td>262</td>\n",
       "      <td>10.9</td>\n",
       "      <td>4.867141</td>\n",
       "      <td>2.239508</td>\n",
       "      <td>6.032859</td>\n",
       "    </tr>\n",
       "    <tr>\n",
       "      <th>1</th>\n",
       "      <td>A2</td>\n",
       "      <td>1.20</td>\n",
       "      <td>0.4000</td>\n",
       "      <td>325</td>\n",
       "      <td>288</td>\n",
       "      <td>278</td>\n",
       "      <td>9.8</td>\n",
       "      <td>3.073984</td>\n",
       "      <td>3.188045</td>\n",
       "      <td>6.726016</td>\n",
       "    </tr>\n",
       "    <tr>\n",
       "      <th>2</th>\n",
       "      <td>A3</td>\n",
       "      <td>2.30</td>\n",
       "      <td>0.4000</td>\n",
       "      <td>185</td>\n",
       "      <td>235</td>\n",
       "      <td>237</td>\n",
       "      <td>11.0</td>\n",
       "      <td>5.891803</td>\n",
       "      <td>1.867001</td>\n",
       "      <td>5.108197</td>\n",
       "    </tr>\n",
       "    <tr>\n",
       "      <th>3</th>\n",
       "      <td>A4</td>\n",
       "      <td>1.40</td>\n",
       "      <td>0.4128</td>\n",
       "      <td>203</td>\n",
       "      <td>245</td>\n",
       "      <td>245</td>\n",
       "      <td>9.0</td>\n",
       "      <td>3.701077</td>\n",
       "      <td>2.431725</td>\n",
       "      <td>5.298923</td>\n",
       "    </tr>\n",
       "    <tr>\n",
       "      <th>4</th>\n",
       "      <td>A5</td>\n",
       "      <td>1.20</td>\n",
       "      <td>0.4000</td>\n",
       "      <td>229</td>\n",
       "      <td>253</td>\n",
       "      <td>249</td>\n",
       "      <td>10.9</td>\n",
       "      <td>3.073984</td>\n",
       "      <td>3.545887</td>\n",
       "      <td>7.826016</td>\n",
       "    </tr>\n",
       "    <tr>\n",
       "      <th>5</th>\n",
       "      <td>A7</td>\n",
       "      <td>1.30</td>\n",
       "      <td>0.4128</td>\n",
       "      <td>357</td>\n",
       "      <td>305</td>\n",
       "      <td>290</td>\n",
       "      <td>10.7</td>\n",
       "      <td>3.436714</td>\n",
       "      <td>3.113439</td>\n",
       "      <td>7.263286</td>\n",
       "    </tr>\n",
       "    <tr>\n",
       "      <th>6</th>\n",
       "      <td>A8</td>\n",
       "      <td>2.00</td>\n",
       "      <td>0.4000</td>\n",
       "      <td>309</td>\n",
       "      <td>275</td>\n",
       "      <td>285</td>\n",
       "      <td>11.2</td>\n",
       "      <td>5.123307</td>\n",
       "      <td>2.186088</td>\n",
       "      <td>6.076693</td>\n",
       "    </tr>\n",
       "    <tr>\n",
       "      <th>7</th>\n",
       "      <td>A9</td>\n",
       "      <td>1.90</td>\n",
       "      <td>0.4128</td>\n",
       "      <td>321</td>\n",
       "      <td>285</td>\n",
       "      <td>280</td>\n",
       "      <td>9.2</td>\n",
       "      <td>5.022890</td>\n",
       "      <td>1.831615</td>\n",
       "      <td>4.177110</td>\n",
       "    </tr>\n",
       "    <tr>\n",
       "      <th>8</th>\n",
       "      <td>A10</td>\n",
       "      <td>1.45</td>\n",
       "      <td>0.4082</td>\n",
       "      <td>245</td>\n",
       "      <td>255</td>\n",
       "      <td>259</td>\n",
       "      <td>9.5</td>\n",
       "      <td>3.790542</td>\n",
       "      <td>2.506238</td>\n",
       "      <td>5.709458</td>\n",
       "    </tr>\n",
       "    <tr>\n",
       "      <th>9</th>\n",
       "      <td>A11</td>\n",
       "      <td>2.00</td>\n",
       "      <td>0.4128</td>\n",
       "      <td>275</td>\n",
       "      <td>267</td>\n",
       "      <td>270</td>\n",
       "      <td>10.5</td>\n",
       "      <td>5.287252</td>\n",
       "      <td>1.985909</td>\n",
       "      <td>5.212748</td>\n",
       "    </tr>\n",
       "  </tbody>\n",
       "</table>\n",
       "</div>"
      ],
      "text/plain": [
       "  Name     p  C NaOH  Khối lượng(g)  Đường kính ngang(mm)  Đường kính dọc(mm)  \\\n",
       "0   A1  1.90  0.4000            255                   257                 262   \n",
       "1   A2  1.20  0.4000            325                   288                 278   \n",
       "2   A3  2.30  0.4000            185                   235                 237   \n",
       "3   A4  1.40  0.4128            203                   245                 245   \n",
       "4   A5  1.20  0.4000            229                   253                 249   \n",
       "5   A7  1.30  0.4128            357                   305                 290   \n",
       "6   A8  2.00  0.4000            309                   275                 285   \n",
       "7   A9  1.90  0.4128            321                   285                 280   \n",
       "8  A10  1.45  0.4082            245                   255                 259   \n",
       "9  A11  2.00  0.4128            275                   267                 270   \n",
       "\n",
       "   Độ đường (Brix %)    TA (%)   Brix:TA     BrmTA  \n",
       "0               10.9  4.867141  2.239508  6.032859  \n",
       "1                9.8  3.073984  3.188045  6.726016  \n",
       "2               11.0  5.891803  1.867001  5.108197  \n",
       "3                9.0  3.701077  2.431725  5.298923  \n",
       "4               10.9  3.073984  3.545887  7.826016  \n",
       "5               10.7  3.436714  3.113439  7.263286  \n",
       "6               11.2  5.123307  2.186088  6.076693  \n",
       "7                9.2  5.022890  1.831615  4.177110  \n",
       "8                9.5  3.790542  2.506238  5.709458  \n",
       "9               10.5  5.287252  1.985909  5.212748  "
      ]
     },
     "execution_count": 1074,
     "metadata": {},
     "output_type": "execute_result"
    }
   ],
   "source": [
    "raw_df.head(10)"
   ]
  },
  {
   "cell_type": "code",
   "execution_count": 1075,
   "metadata": {
    "colab": {
     "base_uri": "https://localhost:8080/"
    },
    "id": "PLTsz34GNddp",
    "outputId": "2a3c5f61-268d-4f95-b677-85043e86dad7"
   },
   "outputs": [
    {
     "data": {
      "text/plain": [
       "Index(['Name', 'p', 'C NaOH', 'Khối lượng(g)', 'Đường kính ngang(mm)',\n",
       "       'Đường kính dọc(mm)', 'Độ đường (Brix %)', 'TA (%)', 'Brix:TA',\n",
       "       'BrmTA'],\n",
       "      dtype='object')"
      ]
     },
     "execution_count": 1075,
     "metadata": {},
     "output_type": "execute_result"
    }
   ],
   "source": [
    "raw_df.columns"
   ]
  },
  {
   "cell_type": "code",
   "execution_count": 1076,
   "metadata": {
    "colab": {
     "base_uri": "https://localhost:8080/"
    },
    "id": "YTUR4mfbNddq",
    "outputId": "ec910f85-4fc6-4e4e-c93e-6af39a8e141d"
   },
   "outputs": [
    {
     "data": {
      "text/plain": [
       "(81, 10)"
      ]
     },
     "execution_count": 1076,
     "metadata": {},
     "output_type": "execute_result"
    }
   ],
   "source": [
    "raw_df.shape"
   ]
  },
  {
   "cell_type": "code",
   "execution_count": 1077,
   "metadata": {
    "id": "YjmhHFxCNddr"
   },
   "outputs": [],
   "source": [
    "new_column_names = {\n",
    "    \"Name\": \"name\",\n",
    "    \"p\": \"v_naoh\",\n",
    "    \"C NaOH\": \"c_naoh\",\n",
    "    \"Khối lượng(g)\": \"mass\",\n",
    "    \"Đường kính ngang(mm)\": \"h_diameter\",\n",
    "    \"Đường kính dọc(mm)\": \"v_diameter\",\n",
    "    \"Độ đường (Brix %)\": \"brix\",\n",
    "    \"TA (%)\": \"ta\",\n",
    "    \"Brix:TA\": \"brix_ta\",\n",
    "    \"BrmTA\": \"brm_ta\",\n",
    "}\n",
    "\n",
    "std_col_name_df = raw_df.rename(columns=new_column_names)"
   ]
  },
  {
   "cell_type": "code",
   "execution_count": 1078,
   "metadata": {
    "colab": {
     "base_uri": "https://localhost:8080/",
     "height": 363
    },
    "id": "_H6ODEAYNdds",
    "outputId": "a262d147-a65d-4010-9a44-a9d7d2f4985d"
   },
   "outputs": [
    {
     "data": {
      "text/html": [
       "<div>\n",
       "<style scoped>\n",
       "    .dataframe tbody tr th:only-of-type {\n",
       "        vertical-align: middle;\n",
       "    }\n",
       "\n",
       "    .dataframe tbody tr th {\n",
       "        vertical-align: top;\n",
       "    }\n",
       "\n",
       "    .dataframe thead th {\n",
       "        text-align: right;\n",
       "    }\n",
       "</style>\n",
       "<table border=\"1\" class=\"dataframe\">\n",
       "  <thead>\n",
       "    <tr style=\"text-align: right;\">\n",
       "      <th></th>\n",
       "      <th>name</th>\n",
       "      <th>v_naoh</th>\n",
       "      <th>c_naoh</th>\n",
       "      <th>mass</th>\n",
       "      <th>h_diameter</th>\n",
       "      <th>v_diameter</th>\n",
       "      <th>brix</th>\n",
       "      <th>ta</th>\n",
       "      <th>brix_ta</th>\n",
       "      <th>brm_ta</th>\n",
       "    </tr>\n",
       "  </thead>\n",
       "  <tbody>\n",
       "    <tr>\n",
       "      <th>0</th>\n",
       "      <td>A1</td>\n",
       "      <td>1.90</td>\n",
       "      <td>0.4000</td>\n",
       "      <td>255</td>\n",
       "      <td>257</td>\n",
       "      <td>262</td>\n",
       "      <td>10.9</td>\n",
       "      <td>4.867141</td>\n",
       "      <td>2.239508</td>\n",
       "      <td>6.032859</td>\n",
       "    </tr>\n",
       "    <tr>\n",
       "      <th>1</th>\n",
       "      <td>A2</td>\n",
       "      <td>1.20</td>\n",
       "      <td>0.4000</td>\n",
       "      <td>325</td>\n",
       "      <td>288</td>\n",
       "      <td>278</td>\n",
       "      <td>9.8</td>\n",
       "      <td>3.073984</td>\n",
       "      <td>3.188045</td>\n",
       "      <td>6.726016</td>\n",
       "    </tr>\n",
       "    <tr>\n",
       "      <th>2</th>\n",
       "      <td>A3</td>\n",
       "      <td>2.30</td>\n",
       "      <td>0.4000</td>\n",
       "      <td>185</td>\n",
       "      <td>235</td>\n",
       "      <td>237</td>\n",
       "      <td>11.0</td>\n",
       "      <td>5.891803</td>\n",
       "      <td>1.867001</td>\n",
       "      <td>5.108197</td>\n",
       "    </tr>\n",
       "    <tr>\n",
       "      <th>3</th>\n",
       "      <td>A4</td>\n",
       "      <td>1.40</td>\n",
       "      <td>0.4128</td>\n",
       "      <td>203</td>\n",
       "      <td>245</td>\n",
       "      <td>245</td>\n",
       "      <td>9.0</td>\n",
       "      <td>3.701077</td>\n",
       "      <td>2.431725</td>\n",
       "      <td>5.298923</td>\n",
       "    </tr>\n",
       "    <tr>\n",
       "      <th>4</th>\n",
       "      <td>A5</td>\n",
       "      <td>1.20</td>\n",
       "      <td>0.4000</td>\n",
       "      <td>229</td>\n",
       "      <td>253</td>\n",
       "      <td>249</td>\n",
       "      <td>10.9</td>\n",
       "      <td>3.073984</td>\n",
       "      <td>3.545887</td>\n",
       "      <td>7.826016</td>\n",
       "    </tr>\n",
       "    <tr>\n",
       "      <th>5</th>\n",
       "      <td>A7</td>\n",
       "      <td>1.30</td>\n",
       "      <td>0.4128</td>\n",
       "      <td>357</td>\n",
       "      <td>305</td>\n",
       "      <td>290</td>\n",
       "      <td>10.7</td>\n",
       "      <td>3.436714</td>\n",
       "      <td>3.113439</td>\n",
       "      <td>7.263286</td>\n",
       "    </tr>\n",
       "    <tr>\n",
       "      <th>6</th>\n",
       "      <td>A8</td>\n",
       "      <td>2.00</td>\n",
       "      <td>0.4000</td>\n",
       "      <td>309</td>\n",
       "      <td>275</td>\n",
       "      <td>285</td>\n",
       "      <td>11.2</td>\n",
       "      <td>5.123307</td>\n",
       "      <td>2.186088</td>\n",
       "      <td>6.076693</td>\n",
       "    </tr>\n",
       "    <tr>\n",
       "      <th>7</th>\n",
       "      <td>A9</td>\n",
       "      <td>1.90</td>\n",
       "      <td>0.4128</td>\n",
       "      <td>321</td>\n",
       "      <td>285</td>\n",
       "      <td>280</td>\n",
       "      <td>9.2</td>\n",
       "      <td>5.022890</td>\n",
       "      <td>1.831615</td>\n",
       "      <td>4.177110</td>\n",
       "    </tr>\n",
       "    <tr>\n",
       "      <th>8</th>\n",
       "      <td>A10</td>\n",
       "      <td>1.45</td>\n",
       "      <td>0.4082</td>\n",
       "      <td>245</td>\n",
       "      <td>255</td>\n",
       "      <td>259</td>\n",
       "      <td>9.5</td>\n",
       "      <td>3.790542</td>\n",
       "      <td>2.506238</td>\n",
       "      <td>5.709458</td>\n",
       "    </tr>\n",
       "    <tr>\n",
       "      <th>9</th>\n",
       "      <td>A11</td>\n",
       "      <td>2.00</td>\n",
       "      <td>0.4128</td>\n",
       "      <td>275</td>\n",
       "      <td>267</td>\n",
       "      <td>270</td>\n",
       "      <td>10.5</td>\n",
       "      <td>5.287252</td>\n",
       "      <td>1.985909</td>\n",
       "      <td>5.212748</td>\n",
       "    </tr>\n",
       "  </tbody>\n",
       "</table>\n",
       "</div>"
      ],
      "text/plain": [
       "  name  v_naoh  c_naoh  mass  h_diameter  v_diameter  brix        ta  \\\n",
       "0   A1    1.90  0.4000   255         257         262  10.9  4.867141   \n",
       "1   A2    1.20  0.4000   325         288         278   9.8  3.073984   \n",
       "2   A3    2.30  0.4000   185         235         237  11.0  5.891803   \n",
       "3   A4    1.40  0.4128   203         245         245   9.0  3.701077   \n",
       "4   A5    1.20  0.4000   229         253         249  10.9  3.073984   \n",
       "5   A7    1.30  0.4128   357         305         290  10.7  3.436714   \n",
       "6   A8    2.00  0.4000   309         275         285  11.2  5.123307   \n",
       "7   A9    1.90  0.4128   321         285         280   9.2  5.022890   \n",
       "8  A10    1.45  0.4082   245         255         259   9.5  3.790542   \n",
       "9  A11    2.00  0.4128   275         267         270  10.5  5.287252   \n",
       "\n",
       "    brix_ta    brm_ta  \n",
       "0  2.239508  6.032859  \n",
       "1  3.188045  6.726016  \n",
       "2  1.867001  5.108197  \n",
       "3  2.431725  5.298923  \n",
       "4  3.545887  7.826016  \n",
       "5  3.113439  7.263286  \n",
       "6  2.186088  6.076693  \n",
       "7  1.831615  4.177110  \n",
       "8  2.506238  5.709458  \n",
       "9  1.985909  5.212748  "
      ]
     },
     "execution_count": 1078,
     "metadata": {},
     "output_type": "execute_result"
    }
   ],
   "source": [
    "std_col_name_df.head(10)"
   ]
  },
  {
   "cell_type": "code",
   "execution_count": 1079,
   "metadata": {
    "id": "3oM4ZelUNdds"
   },
   "outputs": [],
   "source": [
    "std_col_name_dataset = Dataset(\"std_col_name\", std_col_name_df, ScalerType.Raw_)"
   ]
  },
  {
   "cell_type": "code",
   "execution_count": 1080,
   "metadata": {
    "colab": {
     "base_uri": "https://localhost:8080/",
     "height": 458
    },
    "id": "8Uv_BJwfNddt",
    "outputId": "77d12130-34fe-435d-eb80-48473e48d49d"
   },
   "outputs": [
    {
     "name": "stdout",
     "output_type": "stream",
     "text": [
      "['name']\n",
      "['v_naoh', 'c_naoh', 'mass', 'h_diameter', 'v_diameter', 'brix', 'ta', 'brix_ta', 'brm_ta']\n"
     ]
    },
    {
     "data": {
      "text/html": [
       "<div>\n",
       "<style scoped>\n",
       "    .dataframe tbody tr th:only-of-type {\n",
       "        vertical-align: middle;\n",
       "    }\n",
       "\n",
       "    .dataframe tbody tr th {\n",
       "        vertical-align: top;\n",
       "    }\n",
       "\n",
       "    .dataframe thead th {\n",
       "        text-align: right;\n",
       "    }\n",
       "</style>\n",
       "<table border=\"1\" class=\"dataframe\">\n",
       "  <thead>\n",
       "    <tr style=\"text-align: right;\">\n",
       "      <th></th>\n",
       "      <th>name</th>\n",
       "      <th>v_naoh</th>\n",
       "      <th>c_naoh</th>\n",
       "      <th>mass</th>\n",
       "      <th>h_diameter</th>\n",
       "      <th>v_diameter</th>\n",
       "      <th>brix</th>\n",
       "      <th>ta</th>\n",
       "      <th>brix_ta</th>\n",
       "      <th>brm_ta</th>\n",
       "    </tr>\n",
       "  </thead>\n",
       "  <tbody>\n",
       "    <tr>\n",
       "      <th>0</th>\n",
       "      <td>A1</td>\n",
       "      <td>1.90</td>\n",
       "      <td>0.4000</td>\n",
       "      <td>255</td>\n",
       "      <td>257</td>\n",
       "      <td>262</td>\n",
       "      <td>10.9</td>\n",
       "      <td>4.867141</td>\n",
       "      <td>2.239508</td>\n",
       "      <td>6.032859</td>\n",
       "    </tr>\n",
       "    <tr>\n",
       "      <th>1</th>\n",
       "      <td>A2</td>\n",
       "      <td>1.20</td>\n",
       "      <td>0.4000</td>\n",
       "      <td>325</td>\n",
       "      <td>288</td>\n",
       "      <td>278</td>\n",
       "      <td>9.8</td>\n",
       "      <td>3.073984</td>\n",
       "      <td>3.188045</td>\n",
       "      <td>6.726016</td>\n",
       "    </tr>\n",
       "    <tr>\n",
       "      <th>2</th>\n",
       "      <td>A3</td>\n",
       "      <td>2.30</td>\n",
       "      <td>0.4000</td>\n",
       "      <td>185</td>\n",
       "      <td>235</td>\n",
       "      <td>237</td>\n",
       "      <td>11.0</td>\n",
       "      <td>5.891803</td>\n",
       "      <td>1.867001</td>\n",
       "      <td>5.108197</td>\n",
       "    </tr>\n",
       "    <tr>\n",
       "      <th>3</th>\n",
       "      <td>A4</td>\n",
       "      <td>1.40</td>\n",
       "      <td>0.4128</td>\n",
       "      <td>203</td>\n",
       "      <td>245</td>\n",
       "      <td>245</td>\n",
       "      <td>9.0</td>\n",
       "      <td>3.701077</td>\n",
       "      <td>2.431725</td>\n",
       "      <td>5.298923</td>\n",
       "    </tr>\n",
       "    <tr>\n",
       "      <th>4</th>\n",
       "      <td>A5</td>\n",
       "      <td>1.20</td>\n",
       "      <td>0.4000</td>\n",
       "      <td>229</td>\n",
       "      <td>253</td>\n",
       "      <td>249</td>\n",
       "      <td>10.9</td>\n",
       "      <td>3.073984</td>\n",
       "      <td>3.545887</td>\n",
       "      <td>7.826016</td>\n",
       "    </tr>\n",
       "    <tr>\n",
       "      <th>...</th>\n",
       "      <td>...</td>\n",
       "      <td>...</td>\n",
       "      <td>...</td>\n",
       "      <td>...</td>\n",
       "      <td>...</td>\n",
       "      <td>...</td>\n",
       "      <td>...</td>\n",
       "      <td>...</td>\n",
       "      <td>...</td>\n",
       "      <td>...</td>\n",
       "    </tr>\n",
       "    <tr>\n",
       "      <th>76</th>\n",
       "      <td>C24</td>\n",
       "      <td>1.60</td>\n",
       "      <td>0.4016</td>\n",
       "      <td>177</td>\n",
       "      <td>225</td>\n",
       "      <td>216</td>\n",
       "      <td>12.5</td>\n",
       "      <td>4.115040</td>\n",
       "      <td>3.037638</td>\n",
       "      <td>8.384960</td>\n",
       "    </tr>\n",
       "    <tr>\n",
       "      <th>77</th>\n",
       "      <td>C25</td>\n",
       "      <td>1.60</td>\n",
       "      <td>0.4016</td>\n",
       "      <td>173</td>\n",
       "      <td>216</td>\n",
       "      <td>220</td>\n",
       "      <td>11.1</td>\n",
       "      <td>4.115040</td>\n",
       "      <td>2.697422</td>\n",
       "      <td>6.984960</td>\n",
       "    </tr>\n",
       "    <tr>\n",
       "      <th>78</th>\n",
       "      <td>C26</td>\n",
       "      <td>0.95</td>\n",
       "      <td>0.4016</td>\n",
       "      <td>126</td>\n",
       "      <td>195</td>\n",
       "      <td>197</td>\n",
       "      <td>12.8</td>\n",
       "      <td>2.443305</td>\n",
       "      <td>5.238806</td>\n",
       "      <td>10.356695</td>\n",
       "    </tr>\n",
       "    <tr>\n",
       "      <th>79</th>\n",
       "      <td>C28</td>\n",
       "      <td>1.70</td>\n",
       "      <td>0.4016</td>\n",
       "      <td>181</td>\n",
       "      <td>216</td>\n",
       "      <td>232</td>\n",
       "      <td>11.8</td>\n",
       "      <td>4.372230</td>\n",
       "      <td>2.698852</td>\n",
       "      <td>7.427770</td>\n",
       "    </tr>\n",
       "    <tr>\n",
       "      <th>80</th>\n",
       "      <td>C29</td>\n",
       "      <td>1.35</td>\n",
       "      <td>0.4230</td>\n",
       "      <td>166</td>\n",
       "      <td>214</td>\n",
       "      <td>214</td>\n",
       "      <td>12.3</td>\n",
       "      <td>3.657080</td>\n",
       "      <td>3.363339</td>\n",
       "      <td>8.642920</td>\n",
       "    </tr>\n",
       "  </tbody>\n",
       "</table>\n",
       "<p>81 rows × 10 columns</p>\n",
       "</div>"
      ],
      "text/plain": [
       "   name  v_naoh  c_naoh  mass  h_diameter  v_diameter  brix        ta  \\\n",
       "0    A1    1.90  0.4000   255         257         262  10.9  4.867141   \n",
       "1    A2    1.20  0.4000   325         288         278   9.8  3.073984   \n",
       "2    A3    2.30  0.4000   185         235         237  11.0  5.891803   \n",
       "3    A4    1.40  0.4128   203         245         245   9.0  3.701077   \n",
       "4    A5    1.20  0.4000   229         253         249  10.9  3.073984   \n",
       "..  ...     ...     ...   ...         ...         ...   ...       ...   \n",
       "76  C24    1.60  0.4016   177         225         216  12.5  4.115040   \n",
       "77  C25    1.60  0.4016   173         216         220  11.1  4.115040   \n",
       "78  C26    0.95  0.4016   126         195         197  12.8  2.443305   \n",
       "79  C28    1.70  0.4016   181         216         232  11.8  4.372230   \n",
       "80  C29    1.35  0.4230   166         214         214  12.3  3.657080   \n",
       "\n",
       "     brix_ta     brm_ta  \n",
       "0   2.239508   6.032859  \n",
       "1   3.188045   6.726016  \n",
       "2   1.867001   5.108197  \n",
       "3   2.431725   5.298923  \n",
       "4   3.545887   7.826016  \n",
       "..       ...        ...  \n",
       "76  3.037638   8.384960  \n",
       "77  2.697422   6.984960  \n",
       "78  5.238806  10.356695  \n",
       "79  2.698852   7.427770  \n",
       "80  3.363339   8.642920  \n",
       "\n",
       "[81 rows x 10 columns]"
      ]
     },
     "execution_count": 1080,
     "metadata": {},
     "output_type": "execute_result"
    }
   ],
   "source": [
    "print(std_col_name_dataset.categorical_cols)\n",
    "print(std_col_name_dataset.numeric_cols)\n",
    "std_col_name_dataset.dataframe"
   ]
  },
  {
   "cell_type": "code",
   "execution_count": 1081,
   "metadata": {
    "id": "Em7MJJCBNddz"
   },
   "outputs": [],
   "source": [
    "list_dataset[\"std_col_name\"] = std_col_name_dataset"
   ]
  },
  {
   "cell_type": "code",
   "execution_count": 1082,
   "metadata": {
    "colab": {
     "base_uri": "https://localhost:8080/",
     "height": 363
    },
    "id": "tGfb1TdVNdd0",
    "outputId": "c38f930a-eeab-404f-92bb-2090a0a1476c"
   },
   "outputs": [
    {
     "data": {
      "text/html": [
       "<div>\n",
       "<style scoped>\n",
       "    .dataframe tbody tr th:only-of-type {\n",
       "        vertical-align: middle;\n",
       "    }\n",
       "\n",
       "    .dataframe tbody tr th {\n",
       "        vertical-align: top;\n",
       "    }\n",
       "\n",
       "    .dataframe thead th {\n",
       "        text-align: right;\n",
       "    }\n",
       "</style>\n",
       "<table border=\"1\" class=\"dataframe\">\n",
       "  <thead>\n",
       "    <tr style=\"text-align: right;\">\n",
       "      <th></th>\n",
       "      <th>name</th>\n",
       "      <th>v_naoh</th>\n",
       "      <th>c_naoh</th>\n",
       "      <th>mass</th>\n",
       "      <th>h_diameter</th>\n",
       "      <th>v_diameter</th>\n",
       "      <th>brix</th>\n",
       "      <th>ta</th>\n",
       "      <th>brix_ta</th>\n",
       "      <th>brm_ta</th>\n",
       "    </tr>\n",
       "  </thead>\n",
       "  <tbody>\n",
       "    <tr>\n",
       "      <th>0</th>\n",
       "      <td>A1</td>\n",
       "      <td>1.90</td>\n",
       "      <td>0.4000</td>\n",
       "      <td>255</td>\n",
       "      <td>257</td>\n",
       "      <td>262</td>\n",
       "      <td>10.9</td>\n",
       "      <td>4.867141</td>\n",
       "      <td>2.239508</td>\n",
       "      <td>6.032859</td>\n",
       "    </tr>\n",
       "    <tr>\n",
       "      <th>1</th>\n",
       "      <td>A2</td>\n",
       "      <td>1.20</td>\n",
       "      <td>0.4000</td>\n",
       "      <td>325</td>\n",
       "      <td>288</td>\n",
       "      <td>278</td>\n",
       "      <td>9.8</td>\n",
       "      <td>3.073984</td>\n",
       "      <td>3.188045</td>\n",
       "      <td>6.726016</td>\n",
       "    </tr>\n",
       "    <tr>\n",
       "      <th>2</th>\n",
       "      <td>A3</td>\n",
       "      <td>2.30</td>\n",
       "      <td>0.4000</td>\n",
       "      <td>185</td>\n",
       "      <td>235</td>\n",
       "      <td>237</td>\n",
       "      <td>11.0</td>\n",
       "      <td>5.891803</td>\n",
       "      <td>1.867001</td>\n",
       "      <td>5.108197</td>\n",
       "    </tr>\n",
       "    <tr>\n",
       "      <th>3</th>\n",
       "      <td>A4</td>\n",
       "      <td>1.40</td>\n",
       "      <td>0.4128</td>\n",
       "      <td>203</td>\n",
       "      <td>245</td>\n",
       "      <td>245</td>\n",
       "      <td>9.0</td>\n",
       "      <td>3.701077</td>\n",
       "      <td>2.431725</td>\n",
       "      <td>5.298923</td>\n",
       "    </tr>\n",
       "    <tr>\n",
       "      <th>4</th>\n",
       "      <td>A5</td>\n",
       "      <td>1.20</td>\n",
       "      <td>0.4000</td>\n",
       "      <td>229</td>\n",
       "      <td>253</td>\n",
       "      <td>249</td>\n",
       "      <td>10.9</td>\n",
       "      <td>3.073984</td>\n",
       "      <td>3.545887</td>\n",
       "      <td>7.826016</td>\n",
       "    </tr>\n",
       "    <tr>\n",
       "      <th>5</th>\n",
       "      <td>A7</td>\n",
       "      <td>1.30</td>\n",
       "      <td>0.4128</td>\n",
       "      <td>357</td>\n",
       "      <td>305</td>\n",
       "      <td>290</td>\n",
       "      <td>10.7</td>\n",
       "      <td>3.436714</td>\n",
       "      <td>3.113439</td>\n",
       "      <td>7.263286</td>\n",
       "    </tr>\n",
       "    <tr>\n",
       "      <th>6</th>\n",
       "      <td>A8</td>\n",
       "      <td>2.00</td>\n",
       "      <td>0.4000</td>\n",
       "      <td>309</td>\n",
       "      <td>275</td>\n",
       "      <td>285</td>\n",
       "      <td>11.2</td>\n",
       "      <td>5.123307</td>\n",
       "      <td>2.186088</td>\n",
       "      <td>6.076693</td>\n",
       "    </tr>\n",
       "    <tr>\n",
       "      <th>7</th>\n",
       "      <td>A9</td>\n",
       "      <td>1.90</td>\n",
       "      <td>0.4128</td>\n",
       "      <td>321</td>\n",
       "      <td>285</td>\n",
       "      <td>280</td>\n",
       "      <td>9.2</td>\n",
       "      <td>5.022890</td>\n",
       "      <td>1.831615</td>\n",
       "      <td>4.177110</td>\n",
       "    </tr>\n",
       "    <tr>\n",
       "      <th>8</th>\n",
       "      <td>A10</td>\n",
       "      <td>1.45</td>\n",
       "      <td>0.4082</td>\n",
       "      <td>245</td>\n",
       "      <td>255</td>\n",
       "      <td>259</td>\n",
       "      <td>9.5</td>\n",
       "      <td>3.790542</td>\n",
       "      <td>2.506238</td>\n",
       "      <td>5.709458</td>\n",
       "    </tr>\n",
       "    <tr>\n",
       "      <th>9</th>\n",
       "      <td>A11</td>\n",
       "      <td>2.00</td>\n",
       "      <td>0.4128</td>\n",
       "      <td>275</td>\n",
       "      <td>267</td>\n",
       "      <td>270</td>\n",
       "      <td>10.5</td>\n",
       "      <td>5.287252</td>\n",
       "      <td>1.985909</td>\n",
       "      <td>5.212748</td>\n",
       "    </tr>\n",
       "  </tbody>\n",
       "</table>\n",
       "</div>"
      ],
      "text/plain": [
       "  name  v_naoh  c_naoh  mass  h_diameter  v_diameter  brix        ta  \\\n",
       "0   A1    1.90  0.4000   255         257         262  10.9  4.867141   \n",
       "1   A2    1.20  0.4000   325         288         278   9.8  3.073984   \n",
       "2   A3    2.30  0.4000   185         235         237  11.0  5.891803   \n",
       "3   A4    1.40  0.4128   203         245         245   9.0  3.701077   \n",
       "4   A5    1.20  0.4000   229         253         249  10.9  3.073984   \n",
       "5   A7    1.30  0.4128   357         305         290  10.7  3.436714   \n",
       "6   A8    2.00  0.4000   309         275         285  11.2  5.123307   \n",
       "7   A9    1.90  0.4128   321         285         280   9.2  5.022890   \n",
       "8  A10    1.45  0.4082   245         255         259   9.5  3.790542   \n",
       "9  A11    2.00  0.4128   275         267         270  10.5  5.287252   \n",
       "\n",
       "    brix_ta    brm_ta  \n",
       "0  2.239508  6.032859  \n",
       "1  3.188045  6.726016  \n",
       "2  1.867001  5.108197  \n",
       "3  2.431725  5.298923  \n",
       "4  3.545887  7.826016  \n",
       "5  3.113439  7.263286  \n",
       "6  2.186088  6.076693  \n",
       "7  1.831615  4.177110  \n",
       "8  2.506238  5.709458  \n",
       "9  1.985909  5.212748  "
      ]
     },
     "execution_count": 1082,
     "metadata": {},
     "output_type": "execute_result"
    }
   ],
   "source": [
    "list_dataset[\"std_col_name\"].get_dataframe().head(10)"
   ]
  },
  {
   "cell_type": "code",
   "execution_count": 1083,
   "metadata": {
    "id": "XVin3pUsNdd0"
   },
   "outputs": [],
   "source": [
    "if GENERATE_PLOTS:\n",
    "    plot_along_dataset(list_dataset[\"std_col_name\"], 3, 3, (12, 12))"
   ]
  },
  {
   "cell_type": "markdown",
   "metadata": {
    "id": "5YyGzL-eNdd0"
   },
   "source": [
    "#### From the shape of lines in graph \"mass\", \"h_diameter\", \"v_diameter\" and \"brix\", we can see the lines could be divided into 3 levels along dataset. We assume that there are 3 types of data in the dataset. We could double check the name / label of dataset."
   ]
  },
  {
   "cell_type": "code",
   "execution_count": 1084,
   "metadata": {
    "colab": {
     "base_uri": "https://localhost:8080/"
    },
    "id": "WfhqAzNhNdd9",
    "outputId": "a52038af-192c-43eb-82e3-6e1a49209c42"
   },
   "outputs": [
    {
     "data": {
      "text/plain": [
       "Index(['name', 'v_naoh', 'c_naoh', 'mass', 'h_diameter', 'v_diameter', 'brix',\n",
       "       'ta', 'brix_ta', 'brm_ta'],\n",
       "      dtype='object')"
      ]
     },
     "execution_count": 1084,
     "metadata": {},
     "output_type": "execute_result"
    }
   ],
   "source": [
    "list_dataset[\"std_col_name\"].get_dataframe().columns"
   ]
  },
  {
   "cell_type": "code",
   "execution_count": 1085,
   "metadata": {
    "colab": {
     "base_uri": "https://localhost:8080/"
    },
    "id": "W_nDXW3fNdd-",
    "outputId": "c61de56b-bd17-4d4c-d5f2-c46afcbf72fc"
   },
   "outputs": [
    {
     "name": "stdout",
     "output_type": "stream",
     "text": [
      "['A1', 'A2', 'A3', 'A4', 'A5', 'A7', 'A8', 'A9', 'A10', 'A11', 'A13', 'A14', 'A15', 'A16', 'A17', 'A18', 'A19', 'A20', 'A21', 'A24', 'A25', 'A26', 'A27', 'A28', 'A29', 'A30', 'B1', 'B2', 'B3', 'B4', 'B5', 'B6', 'B7', 'B8', 'B9', 'B10', 'B11', 'B12', 'B13', 'B14', 'B15', 'B16', 'B17', 'B18', 'B19', 'B20', 'B21', 'B22', 'B23', 'B24', 'B25', 'B26', 'B27', 'B28', 'B29', 'B30', 'C1', 'C2', 'C3', 'C4', 'C5', 'C6', 'C8', 'C9', 'C10', 'C11', 'C12', 'C14', 'C15', 'C16', 'C17', 'C19', 'C20', 'C21', 'C22', 'C23', 'C24', 'C25', 'C26', 'C28', 'C29']\n"
     ]
    }
   ],
   "source": [
    "print(list_dataset[\"std_col_name\"].get_dataframe()[\"name\"].to_list())"
   ]
  },
  {
   "cell_type": "markdown",
   "metadata": {
    "id": "MWdi_NXJNdd-"
   },
   "source": [
    "We count the number of type to see whether the amount is equivalent to the shape of lines in the following graphs: \"mass\", \"h_diameter\", \"v_diameter\" and \"brix\""
   ]
  },
  {
   "cell_type": "code",
   "execution_count": 1086,
   "metadata": {
    "colab": {
     "base_uri": "https://localhost:8080/"
    },
    "id": "Foz8CULeNdd_",
    "outputId": "d5cf0c59-64a6-4660-fb4b-87fa961d91cd"
   },
   "outputs": [
    {
     "data": {
      "text/plain": [
       "type\n",
       "A    26\n",
       "B    30\n",
       "C    25\n",
       "Name: count, dtype: int64"
      ]
     },
     "execution_count": 1086,
     "metadata": {},
     "output_type": "execute_result"
    }
   ],
   "source": [
    "import re\n",
    "\n",
    "data_type = []\n",
    "for name in list_dataset[\"std_col_name\"].get_dataframe()[\"name\"].str.upper():\n",
    "    data_type.append(re.findall(\"[A-Z]\", name)[0])\n",
    "\n",
    "data_type = pd.DataFrame(data_type, columns=[\"type\"])\n",
    "data_type[\"count\"] = 1\n",
    "data_type.groupby([\"type\"]).count()[\"count\"]"
   ]
  },
  {
   "cell_type": "code",
   "execution_count": 1087,
   "metadata": {
    "id": "Iyxnrxt3NdeB"
   },
   "outputs": [],
   "source": [
    "list_dataset[\"std_col_name\"].concat_dataframe(data_type[\"type\"])"
   ]
  },
  {
   "cell_type": "code",
   "execution_count": 1088,
   "metadata": {
    "colab": {
     "base_uri": "https://localhost:8080/",
     "height": 363
    },
    "id": "DvANhKl1NdeB",
    "outputId": "af4225b7-3469-4243-e111-5909eaa554e4"
   },
   "outputs": [
    {
     "data": {
      "text/html": [
       "<div>\n",
       "<style scoped>\n",
       "    .dataframe tbody tr th:only-of-type {\n",
       "        vertical-align: middle;\n",
       "    }\n",
       "\n",
       "    .dataframe tbody tr th {\n",
       "        vertical-align: top;\n",
       "    }\n",
       "\n",
       "    .dataframe thead th {\n",
       "        text-align: right;\n",
       "    }\n",
       "</style>\n",
       "<table border=\"1\" class=\"dataframe\">\n",
       "  <thead>\n",
       "    <tr style=\"text-align: right;\">\n",
       "      <th></th>\n",
       "      <th>name</th>\n",
       "      <th>v_naoh</th>\n",
       "      <th>c_naoh</th>\n",
       "      <th>mass</th>\n",
       "      <th>h_diameter</th>\n",
       "      <th>v_diameter</th>\n",
       "      <th>brix</th>\n",
       "      <th>ta</th>\n",
       "      <th>brix_ta</th>\n",
       "      <th>brm_ta</th>\n",
       "      <th>type</th>\n",
       "    </tr>\n",
       "  </thead>\n",
       "  <tbody>\n",
       "    <tr>\n",
       "      <th>0</th>\n",
       "      <td>A1</td>\n",
       "      <td>1.90</td>\n",
       "      <td>0.4000</td>\n",
       "      <td>255</td>\n",
       "      <td>257</td>\n",
       "      <td>262</td>\n",
       "      <td>10.9</td>\n",
       "      <td>4.867141</td>\n",
       "      <td>2.239508</td>\n",
       "      <td>6.032859</td>\n",
       "      <td>A</td>\n",
       "    </tr>\n",
       "    <tr>\n",
       "      <th>1</th>\n",
       "      <td>A2</td>\n",
       "      <td>1.20</td>\n",
       "      <td>0.4000</td>\n",
       "      <td>325</td>\n",
       "      <td>288</td>\n",
       "      <td>278</td>\n",
       "      <td>9.8</td>\n",
       "      <td>3.073984</td>\n",
       "      <td>3.188045</td>\n",
       "      <td>6.726016</td>\n",
       "      <td>A</td>\n",
       "    </tr>\n",
       "    <tr>\n",
       "      <th>2</th>\n",
       "      <td>A3</td>\n",
       "      <td>2.30</td>\n",
       "      <td>0.4000</td>\n",
       "      <td>185</td>\n",
       "      <td>235</td>\n",
       "      <td>237</td>\n",
       "      <td>11.0</td>\n",
       "      <td>5.891803</td>\n",
       "      <td>1.867001</td>\n",
       "      <td>5.108197</td>\n",
       "      <td>A</td>\n",
       "    </tr>\n",
       "    <tr>\n",
       "      <th>3</th>\n",
       "      <td>A4</td>\n",
       "      <td>1.40</td>\n",
       "      <td>0.4128</td>\n",
       "      <td>203</td>\n",
       "      <td>245</td>\n",
       "      <td>245</td>\n",
       "      <td>9.0</td>\n",
       "      <td>3.701077</td>\n",
       "      <td>2.431725</td>\n",
       "      <td>5.298923</td>\n",
       "      <td>A</td>\n",
       "    </tr>\n",
       "    <tr>\n",
       "      <th>4</th>\n",
       "      <td>A5</td>\n",
       "      <td>1.20</td>\n",
       "      <td>0.4000</td>\n",
       "      <td>229</td>\n",
       "      <td>253</td>\n",
       "      <td>249</td>\n",
       "      <td>10.9</td>\n",
       "      <td>3.073984</td>\n",
       "      <td>3.545887</td>\n",
       "      <td>7.826016</td>\n",
       "      <td>A</td>\n",
       "    </tr>\n",
       "    <tr>\n",
       "      <th>5</th>\n",
       "      <td>A7</td>\n",
       "      <td>1.30</td>\n",
       "      <td>0.4128</td>\n",
       "      <td>357</td>\n",
       "      <td>305</td>\n",
       "      <td>290</td>\n",
       "      <td>10.7</td>\n",
       "      <td>3.436714</td>\n",
       "      <td>3.113439</td>\n",
       "      <td>7.263286</td>\n",
       "      <td>A</td>\n",
       "    </tr>\n",
       "    <tr>\n",
       "      <th>6</th>\n",
       "      <td>A8</td>\n",
       "      <td>2.00</td>\n",
       "      <td>0.4000</td>\n",
       "      <td>309</td>\n",
       "      <td>275</td>\n",
       "      <td>285</td>\n",
       "      <td>11.2</td>\n",
       "      <td>5.123307</td>\n",
       "      <td>2.186088</td>\n",
       "      <td>6.076693</td>\n",
       "      <td>A</td>\n",
       "    </tr>\n",
       "    <tr>\n",
       "      <th>7</th>\n",
       "      <td>A9</td>\n",
       "      <td>1.90</td>\n",
       "      <td>0.4128</td>\n",
       "      <td>321</td>\n",
       "      <td>285</td>\n",
       "      <td>280</td>\n",
       "      <td>9.2</td>\n",
       "      <td>5.022890</td>\n",
       "      <td>1.831615</td>\n",
       "      <td>4.177110</td>\n",
       "      <td>A</td>\n",
       "    </tr>\n",
       "    <tr>\n",
       "      <th>8</th>\n",
       "      <td>A10</td>\n",
       "      <td>1.45</td>\n",
       "      <td>0.4082</td>\n",
       "      <td>245</td>\n",
       "      <td>255</td>\n",
       "      <td>259</td>\n",
       "      <td>9.5</td>\n",
       "      <td>3.790542</td>\n",
       "      <td>2.506238</td>\n",
       "      <td>5.709458</td>\n",
       "      <td>A</td>\n",
       "    </tr>\n",
       "    <tr>\n",
       "      <th>9</th>\n",
       "      <td>A11</td>\n",
       "      <td>2.00</td>\n",
       "      <td>0.4128</td>\n",
       "      <td>275</td>\n",
       "      <td>267</td>\n",
       "      <td>270</td>\n",
       "      <td>10.5</td>\n",
       "      <td>5.287252</td>\n",
       "      <td>1.985909</td>\n",
       "      <td>5.212748</td>\n",
       "      <td>A</td>\n",
       "    </tr>\n",
       "  </tbody>\n",
       "</table>\n",
       "</div>"
      ],
      "text/plain": [
       "  name  v_naoh  c_naoh  mass  h_diameter  v_diameter  brix        ta  \\\n",
       "0   A1    1.90  0.4000   255         257         262  10.9  4.867141   \n",
       "1   A2    1.20  0.4000   325         288         278   9.8  3.073984   \n",
       "2   A3    2.30  0.4000   185         235         237  11.0  5.891803   \n",
       "3   A4    1.40  0.4128   203         245         245   9.0  3.701077   \n",
       "4   A5    1.20  0.4000   229         253         249  10.9  3.073984   \n",
       "5   A7    1.30  0.4128   357         305         290  10.7  3.436714   \n",
       "6   A8    2.00  0.4000   309         275         285  11.2  5.123307   \n",
       "7   A9    1.90  0.4128   321         285         280   9.2  5.022890   \n",
       "8  A10    1.45  0.4082   245         255         259   9.5  3.790542   \n",
       "9  A11    2.00  0.4128   275         267         270  10.5  5.287252   \n",
       "\n",
       "    brix_ta    brm_ta type  \n",
       "0  2.239508  6.032859    A  \n",
       "1  3.188045  6.726016    A  \n",
       "2  1.867001  5.108197    A  \n",
       "3  2.431725  5.298923    A  \n",
       "4  3.545887  7.826016    A  \n",
       "5  3.113439  7.263286    A  \n",
       "6  2.186088  6.076693    A  \n",
       "7  1.831615  4.177110    A  \n",
       "8  2.506238  5.709458    A  \n",
       "9  1.985909  5.212748    A  "
      ]
     },
     "execution_count": 1088,
     "metadata": {},
     "output_type": "execute_result"
    }
   ],
   "source": [
    "list_dataset[\"std_col_name\"].get_dataframe().head(10)"
   ]
  },
  {
   "cell_type": "markdown",
   "metadata": {
    "id": "r8iMDP8ONdeC"
   },
   "source": [
    "## Analyze quantitative data"
   ]
  },
  {
   "cell_type": "markdown",
   "metadata": {
    "id": "_NU0bdPLNdeD"
   },
   "source": [
    "### Plots for all rows"
   ]
  },
  {
   "cell_type": "code",
   "execution_count": 1089,
   "metadata": {
    "id": "kcXj22J7NdeE"
   },
   "outputs": [],
   "source": [
    "if GENERATE_PLOTS:\n",
    "    plot_hist_kde_box_all_columns(list_dataset[\"std_col_name\"])"
   ]
  },
  {
   "cell_type": "code",
   "execution_count": 1090,
   "metadata": {
    "colab": {
     "base_uri": "https://localhost:8080/",
     "height": 300
    },
    "id": "RGRjD8DSNdeF",
    "outputId": "10a8dfbf-806d-4212-96ba-e63a90b2a33f"
   },
   "outputs": [
    {
     "data": {
      "text/html": [
       "<div>\n",
       "<style scoped>\n",
       "    .dataframe tbody tr th:only-of-type {\n",
       "        vertical-align: middle;\n",
       "    }\n",
       "\n",
       "    .dataframe tbody tr th {\n",
       "        vertical-align: top;\n",
       "    }\n",
       "\n",
       "    .dataframe thead th {\n",
       "        text-align: right;\n",
       "    }\n",
       "</style>\n",
       "<table border=\"1\" class=\"dataframe\">\n",
       "  <thead>\n",
       "    <tr style=\"text-align: right;\">\n",
       "      <th></th>\n",
       "      <th>v_naoh</th>\n",
       "      <th>c_naoh</th>\n",
       "      <th>mass</th>\n",
       "      <th>h_diameter</th>\n",
       "      <th>v_diameter</th>\n",
       "      <th>brix</th>\n",
       "      <th>ta</th>\n",
       "      <th>brix_ta</th>\n",
       "      <th>brm_ta</th>\n",
       "    </tr>\n",
       "  </thead>\n",
       "  <tbody>\n",
       "    <tr>\n",
       "      <th>count</th>\n",
       "      <td>81.000000</td>\n",
       "      <td>81.000000</td>\n",
       "      <td>81.000000</td>\n",
       "      <td>81.000000</td>\n",
       "      <td>81.000000</td>\n",
       "      <td>81.000000</td>\n",
       "      <td>81.000000</td>\n",
       "      <td>81.000000</td>\n",
       "      <td>81.000000</td>\n",
       "    </tr>\n",
       "    <tr>\n",
       "      <th>mean</th>\n",
       "      <td>1.477778</td>\n",
       "      <td>0.406857</td>\n",
       "      <td>222.197531</td>\n",
       "      <td>241.777778</td>\n",
       "      <td>241.358025</td>\n",
       "      <td>11.169259</td>\n",
       "      <td>3.849815</td>\n",
       "      <td>3.024935</td>\n",
       "      <td>7.319445</td>\n",
       "    </tr>\n",
       "    <tr>\n",
       "      <th>std</th>\n",
       "      <td>0.297069</td>\n",
       "      <td>0.007092</td>\n",
       "      <td>50.582215</td>\n",
       "      <td>23.652167</td>\n",
       "      <td>22.587225</td>\n",
       "      <td>1.362702</td>\n",
       "      <td>0.774895</td>\n",
       "      <td>0.786520</td>\n",
       "      <td>1.587514</td>\n",
       "    </tr>\n",
       "    <tr>\n",
       "      <th>min</th>\n",
       "      <td>0.800000</td>\n",
       "      <td>0.400000</td>\n",
       "      <td>126.000000</td>\n",
       "      <td>195.000000</td>\n",
       "      <td>197.000000</td>\n",
       "      <td>7.400000</td>\n",
       "      <td>2.057520</td>\n",
       "      <td>1.795715</td>\n",
       "      <td>4.076693</td>\n",
       "    </tr>\n",
       "    <tr>\n",
       "      <th>25%</th>\n",
       "      <td>1.300000</td>\n",
       "      <td>0.401600</td>\n",
       "      <td>179.000000</td>\n",
       "      <td>222.000000</td>\n",
       "      <td>223.000000</td>\n",
       "      <td>10.400000</td>\n",
       "      <td>3.370111</td>\n",
       "      <td>2.512846</td>\n",
       "      <td>6.148368</td>\n",
       "    </tr>\n",
       "    <tr>\n",
       "      <th>50%</th>\n",
       "      <td>1.400000</td>\n",
       "      <td>0.404800</td>\n",
       "      <td>228.000000</td>\n",
       "      <td>242.000000</td>\n",
       "      <td>242.000000</td>\n",
       "      <td>11.100000</td>\n",
       "      <td>3.701077</td>\n",
       "      <td>2.920633</td>\n",
       "      <td>7.332125</td>\n",
       "    </tr>\n",
       "    <tr>\n",
       "      <th>75%</th>\n",
       "      <td>1.600000</td>\n",
       "      <td>0.408200</td>\n",
       "      <td>255.000000</td>\n",
       "      <td>257.000000</td>\n",
       "      <td>255.000000</td>\n",
       "      <td>12.300000</td>\n",
       "      <td>4.229802</td>\n",
       "      <td>3.371688</td>\n",
       "      <td>8.199505</td>\n",
       "    </tr>\n",
       "    <tr>\n",
       "      <th>max</th>\n",
       "      <td>2.300000</td>\n",
       "      <td>0.423000</td>\n",
       "      <td>357.000000</td>\n",
       "      <td>305.000000</td>\n",
       "      <td>290.000000</td>\n",
       "      <td>14.000000</td>\n",
       "      <td>5.891803</td>\n",
       "      <td>6.609899</td>\n",
       "      <td>11.542480</td>\n",
       "    </tr>\n",
       "  </tbody>\n",
       "</table>\n",
       "</div>"
      ],
      "text/plain": [
       "          v_naoh     c_naoh        mass  h_diameter  v_diameter       brix  \\\n",
       "count  81.000000  81.000000   81.000000   81.000000   81.000000  81.000000   \n",
       "mean    1.477778   0.406857  222.197531  241.777778  241.358025  11.169259   \n",
       "std     0.297069   0.007092   50.582215   23.652167   22.587225   1.362702   \n",
       "min     0.800000   0.400000  126.000000  195.000000  197.000000   7.400000   \n",
       "25%     1.300000   0.401600  179.000000  222.000000  223.000000  10.400000   \n",
       "50%     1.400000   0.404800  228.000000  242.000000  242.000000  11.100000   \n",
       "75%     1.600000   0.408200  255.000000  257.000000  255.000000  12.300000   \n",
       "max     2.300000   0.423000  357.000000  305.000000  290.000000  14.000000   \n",
       "\n",
       "              ta    brix_ta     brm_ta  \n",
       "count  81.000000  81.000000  81.000000  \n",
       "mean    3.849815   3.024935   7.319445  \n",
       "std     0.774895   0.786520   1.587514  \n",
       "min     2.057520   1.795715   4.076693  \n",
       "25%     3.370111   2.512846   6.148368  \n",
       "50%     3.701077   2.920633   7.332125  \n",
       "75%     4.229802   3.371688   8.199505  \n",
       "max     5.891803   6.609899  11.542480  "
      ]
     },
     "execution_count": 1090,
     "metadata": {},
     "output_type": "execute_result"
    }
   ],
   "source": [
    "list_dataset[\"std_col_name\"].get_dataframe().describe()"
   ]
  },
  {
   "cell_type": "code",
   "execution_count": 1091,
   "metadata": {
    "id": "lZnK28nJNdeG"
   },
   "outputs": [],
   "source": [
    "if GENERATE_PLOTS:\n",
    "    plot_all_columns_group_by_a_categorical_col(list_dataset[\"std_col_name\"], \"type\")"
   ]
  },
  {
   "cell_type": "markdown",
   "metadata": {
    "id": "ws9Gv6z_NdeG"
   },
   "source": [
    "#### From above plots, we see that \"mass\", \"h_diameter\", \"v_diameter\" and \"brm_ta\" plots have clearly patterns corresponding with types."
   ]
  },
  {
   "cell_type": "markdown",
   "metadata": {
    "id": "yzddeRY2NdeH"
   },
   "source": [
    "## Analyze qualitative data"
   ]
  },
  {
   "cell_type": "code",
   "execution_count": 1092,
   "metadata": {
    "id": "m-ZjLD40NdeH"
   },
   "outputs": [],
   "source": [
    "# partitions_dataframe = divide_dataframe_with_categorical_col(list_dataset[\"std_col_name\"], \"type\")"
   ]
  },
  {
   "cell_type": "markdown",
   "metadata": {
    "id": "15_BIse4NdeI"
   },
   "source": [
    "### Use Welch's t-test to see whether the data could be divided into 3 parts A, B, and C."
   ]
  },
  {
   "cell_type": "code",
   "execution_count": 1093,
   "metadata": {
    "id": "x4DRzrEjNdeI"
   },
   "outputs": [],
   "source": [
    "# for group in partitions_dataframe.keys():\n",
    "#     print(f\"{group}: {partitions_dataframe[group].shape}\")"
   ]
  },
  {
   "cell_type": "code",
   "execution_count": 1094,
   "metadata": {
    "id": "7_hiG3QXNdeI"
   },
   "outputs": [],
   "source": [
    "# partitions_dataframe[\"A\"].head(10)"
   ]
  },
  {
   "cell_type": "code",
   "execution_count": 1095,
   "metadata": {
    "id": "s0Js37-mNdeJ"
   },
   "outputs": [],
   "source": [
    "# columns_to_compare = [\"mass\", \"h_diameter\", \"v_diameter\"]"
   ]
  },
  {
   "cell_type": "code",
   "execution_count": 1096,
   "metadata": {
    "id": "FqsW-u8QNdeK"
   },
   "outputs": [],
   "source": [
    "# calculate_p_values_between_partitions(partitions_dataframe, columns_to_compare)"
   ]
  },
  {
   "cell_type": "markdown",
   "metadata": {
    "id": "QQHkfUg-NdeL"
   },
   "source": [
    "### All p-values smaller than $ \\alpha $ = 0.05\n",
    "### => Conclusion from Welch's t-test: The dataset could be divided into 3 parts A, B and C"
   ]
  },
  {
   "cell_type": "markdown",
   "metadata": {
    "id": "VsGG9ai-NdeL"
   },
   "source": [
    "## Matrix plots"
   ]
  },
  {
   "cell_type": "markdown",
   "metadata": {
    "id": "w3Gpt8t2NdeM"
   },
   "source": [
    "### Pairplots"
   ]
  },
  {
   "cell_type": "code",
   "execution_count": 1097,
   "metadata": {
    "id": "61oSDzhWNdeN"
   },
   "outputs": [],
   "source": [
    "if GENERATE_PLOTS:\n",
    "    plt.figure(figsize=(16, 16))\n",
    "    sns.pairplot(list_dataset[\"std_col_name\"].get_dataframe())"
   ]
  },
  {
   "cell_type": "markdown",
   "metadata": {
    "id": "KAlDJMjZNdeN"
   },
   "source": [
    "#### Some potential features to explain brix are \"mass\", \"h_diameter\", \"v_diameter\", \"brix_ta\", \"brm_ta\"."
   ]
  },
  {
   "cell_type": "markdown",
   "metadata": {
    "id": "9C9KEWTYNdeO"
   },
   "source": [
    "### Heatmap"
   ]
  },
  {
   "cell_type": "code",
   "execution_count": 1098,
   "metadata": {
    "id": "iSBcrCu9NdeO"
   },
   "outputs": [],
   "source": [
    "if GENERATE_PLOTS:\n",
    "    plt.figure(figsize=(12, 12))\n",
    "    dataframe = list_dataset[\"std_col_name\"].get_dataframe()\n",
    "    numeric_cols = list_dataset[\"std_col_name\"].numeric_cols\n",
    "    dataset_corr = dataframe[numeric_cols].corr()\n",
    "    sns.heatmap(dataset_corr, annot=True)"
   ]
  },
  {
   "cell_type": "markdown",
   "metadata": {
    "id": "E6sBGul1NdeP"
   },
   "source": [
    "#### => Some features that could be used for model: **mass, h_diameter, v_diameter, brix_ta, brm_ta** (quantitative) and **type** (qualitative) to explain **brix**. However, **brix_ta** and **brm_ta** are directly related to **brix**, then they will not be considered."
   ]
  },
  {
   "cell_type": "markdown",
   "metadata": {
    "id": "f1g-ZR_sNdeP"
   },
   "source": [
    "## Build Models"
   ]
  },
  {
   "cell_type": "markdown",
   "metadata": {
    "id": "p1k2sELcNdeP"
   },
   "source": [
    "### Create \"ohv_std_col_name\" dataframe: [\"brix\", \"mass\", \"h_diameter\", \"v_diameter\", one-hot-vector-of-type]"
   ]
  },
  {
   "cell_type": "code",
   "execution_count": 1099,
   "metadata": {
    "colab": {
     "base_uri": "https://localhost:8080/",
     "height": 380
    },
    "id": "5U-ll8IeNdeQ",
    "outputId": "b6b5db95-4e2c-480d-d55e-514874978171"
   },
   "outputs": [
    {
     "name": "stdout",
     "output_type": "stream",
     "text": [
      "std_col_name_ohv_type\n"
     ]
    },
    {
     "data": {
      "text/html": [
       "<div>\n",
       "<style scoped>\n",
       "    .dataframe tbody tr th:only-of-type {\n",
       "        vertical-align: middle;\n",
       "    }\n",
       "\n",
       "    .dataframe tbody tr th {\n",
       "        vertical-align: top;\n",
       "    }\n",
       "\n",
       "    .dataframe thead th {\n",
       "        text-align: right;\n",
       "    }\n",
       "</style>\n",
       "<table border=\"1\" class=\"dataframe\">\n",
       "  <thead>\n",
       "    <tr style=\"text-align: right;\">\n",
       "      <th></th>\n",
       "      <th>A</th>\n",
       "      <th>B</th>\n",
       "      <th>C</th>\n",
       "      <th>name</th>\n",
       "      <th>v_naoh</th>\n",
       "      <th>c_naoh</th>\n",
       "      <th>mass</th>\n",
       "      <th>h_diameter</th>\n",
       "      <th>v_diameter</th>\n",
       "      <th>brix</th>\n",
       "      <th>ta</th>\n",
       "      <th>brix_ta</th>\n",
       "      <th>brm_ta</th>\n",
       "      <th>type</th>\n",
       "    </tr>\n",
       "  </thead>\n",
       "  <tbody>\n",
       "    <tr>\n",
       "      <th>0</th>\n",
       "      <td>True</td>\n",
       "      <td>False</td>\n",
       "      <td>False</td>\n",
       "      <td>A1</td>\n",
       "      <td>1.90</td>\n",
       "      <td>0.4000</td>\n",
       "      <td>255</td>\n",
       "      <td>257</td>\n",
       "      <td>262</td>\n",
       "      <td>10.9</td>\n",
       "      <td>4.867141</td>\n",
       "      <td>2.239508</td>\n",
       "      <td>6.032859</td>\n",
       "      <td>A</td>\n",
       "    </tr>\n",
       "    <tr>\n",
       "      <th>1</th>\n",
       "      <td>True</td>\n",
       "      <td>False</td>\n",
       "      <td>False</td>\n",
       "      <td>A2</td>\n",
       "      <td>1.20</td>\n",
       "      <td>0.4000</td>\n",
       "      <td>325</td>\n",
       "      <td>288</td>\n",
       "      <td>278</td>\n",
       "      <td>9.8</td>\n",
       "      <td>3.073984</td>\n",
       "      <td>3.188045</td>\n",
       "      <td>6.726016</td>\n",
       "      <td>A</td>\n",
       "    </tr>\n",
       "    <tr>\n",
       "      <th>2</th>\n",
       "      <td>True</td>\n",
       "      <td>False</td>\n",
       "      <td>False</td>\n",
       "      <td>A3</td>\n",
       "      <td>2.30</td>\n",
       "      <td>0.4000</td>\n",
       "      <td>185</td>\n",
       "      <td>235</td>\n",
       "      <td>237</td>\n",
       "      <td>11.0</td>\n",
       "      <td>5.891803</td>\n",
       "      <td>1.867001</td>\n",
       "      <td>5.108197</td>\n",
       "      <td>A</td>\n",
       "    </tr>\n",
       "    <tr>\n",
       "      <th>3</th>\n",
       "      <td>True</td>\n",
       "      <td>False</td>\n",
       "      <td>False</td>\n",
       "      <td>A4</td>\n",
       "      <td>1.40</td>\n",
       "      <td>0.4128</td>\n",
       "      <td>203</td>\n",
       "      <td>245</td>\n",
       "      <td>245</td>\n",
       "      <td>9.0</td>\n",
       "      <td>3.701077</td>\n",
       "      <td>2.431725</td>\n",
       "      <td>5.298923</td>\n",
       "      <td>A</td>\n",
       "    </tr>\n",
       "    <tr>\n",
       "      <th>4</th>\n",
       "      <td>True</td>\n",
       "      <td>False</td>\n",
       "      <td>False</td>\n",
       "      <td>A5</td>\n",
       "      <td>1.20</td>\n",
       "      <td>0.4000</td>\n",
       "      <td>229</td>\n",
       "      <td>253</td>\n",
       "      <td>249</td>\n",
       "      <td>10.9</td>\n",
       "      <td>3.073984</td>\n",
       "      <td>3.545887</td>\n",
       "      <td>7.826016</td>\n",
       "      <td>A</td>\n",
       "    </tr>\n",
       "    <tr>\n",
       "      <th>5</th>\n",
       "      <td>True</td>\n",
       "      <td>False</td>\n",
       "      <td>False</td>\n",
       "      <td>A7</td>\n",
       "      <td>1.30</td>\n",
       "      <td>0.4128</td>\n",
       "      <td>357</td>\n",
       "      <td>305</td>\n",
       "      <td>290</td>\n",
       "      <td>10.7</td>\n",
       "      <td>3.436714</td>\n",
       "      <td>3.113439</td>\n",
       "      <td>7.263286</td>\n",
       "      <td>A</td>\n",
       "    </tr>\n",
       "    <tr>\n",
       "      <th>6</th>\n",
       "      <td>True</td>\n",
       "      <td>False</td>\n",
       "      <td>False</td>\n",
       "      <td>A8</td>\n",
       "      <td>2.00</td>\n",
       "      <td>0.4000</td>\n",
       "      <td>309</td>\n",
       "      <td>275</td>\n",
       "      <td>285</td>\n",
       "      <td>11.2</td>\n",
       "      <td>5.123307</td>\n",
       "      <td>2.186088</td>\n",
       "      <td>6.076693</td>\n",
       "      <td>A</td>\n",
       "    </tr>\n",
       "    <tr>\n",
       "      <th>7</th>\n",
       "      <td>True</td>\n",
       "      <td>False</td>\n",
       "      <td>False</td>\n",
       "      <td>A9</td>\n",
       "      <td>1.90</td>\n",
       "      <td>0.4128</td>\n",
       "      <td>321</td>\n",
       "      <td>285</td>\n",
       "      <td>280</td>\n",
       "      <td>9.2</td>\n",
       "      <td>5.022890</td>\n",
       "      <td>1.831615</td>\n",
       "      <td>4.177110</td>\n",
       "      <td>A</td>\n",
       "    </tr>\n",
       "    <tr>\n",
       "      <th>8</th>\n",
       "      <td>True</td>\n",
       "      <td>False</td>\n",
       "      <td>False</td>\n",
       "      <td>A10</td>\n",
       "      <td>1.45</td>\n",
       "      <td>0.4082</td>\n",
       "      <td>245</td>\n",
       "      <td>255</td>\n",
       "      <td>259</td>\n",
       "      <td>9.5</td>\n",
       "      <td>3.790542</td>\n",
       "      <td>2.506238</td>\n",
       "      <td>5.709458</td>\n",
       "      <td>A</td>\n",
       "    </tr>\n",
       "    <tr>\n",
       "      <th>9</th>\n",
       "      <td>True</td>\n",
       "      <td>False</td>\n",
       "      <td>False</td>\n",
       "      <td>A11</td>\n",
       "      <td>2.00</td>\n",
       "      <td>0.4128</td>\n",
       "      <td>275</td>\n",
       "      <td>267</td>\n",
       "      <td>270</td>\n",
       "      <td>10.5</td>\n",
       "      <td>5.287252</td>\n",
       "      <td>1.985909</td>\n",
       "      <td>5.212748</td>\n",
       "      <td>A</td>\n",
       "    </tr>\n",
       "  </tbody>\n",
       "</table>\n",
       "</div>"
      ],
      "text/plain": [
       "      A      B      C name  v_naoh  c_naoh  mass  h_diameter  v_diameter  \\\n",
       "0  True  False  False   A1    1.90  0.4000   255         257         262   \n",
       "1  True  False  False   A2    1.20  0.4000   325         288         278   \n",
       "2  True  False  False   A3    2.30  0.4000   185         235         237   \n",
       "3  True  False  False   A4    1.40  0.4128   203         245         245   \n",
       "4  True  False  False   A5    1.20  0.4000   229         253         249   \n",
       "5  True  False  False   A7    1.30  0.4128   357         305         290   \n",
       "6  True  False  False   A8    2.00  0.4000   309         275         285   \n",
       "7  True  False  False   A9    1.90  0.4128   321         285         280   \n",
       "8  True  False  False  A10    1.45  0.4082   245         255         259   \n",
       "9  True  False  False  A11    2.00  0.4128   275         267         270   \n",
       "\n",
       "   brix        ta   brix_ta    brm_ta type  \n",
       "0  10.9  4.867141  2.239508  6.032859    A  \n",
       "1   9.8  3.073984  3.188045  6.726016    A  \n",
       "2  11.0  5.891803  1.867001  5.108197    A  \n",
       "3   9.0  3.701077  2.431725  5.298923    A  \n",
       "4  10.9  3.073984  3.545887  7.826016    A  \n",
       "5  10.7  3.436714  3.113439  7.263286    A  \n",
       "6  11.2  5.123307  2.186088  6.076693    A  \n",
       "7   9.2  5.022890  1.831615  4.177110    A  \n",
       "8   9.5  3.790542  2.506238  5.709458    A  \n",
       "9  10.5  5.287252  1.985909  5.212748    A  "
      ]
     },
     "execution_count": 1099,
     "metadata": {},
     "output_type": "execute_result"
    }
   ],
   "source": [
    "ohv_dataset = list_dataset[\"std_col_name\"].get_one_hot_vectorized_dataset(\"type\")\n",
    "list_dataset[\"std_col_name_ohv_type\"] = ohv_dataset\n",
    "list_dataset[\"std_col_name_ohv_type\"].get_dataframe().head(10)"
   ]
  },
  {
   "cell_type": "code",
   "execution_count": 1100,
   "metadata": {
    "colab": {
     "base_uri": "https://localhost:8080/",
     "height": 363
    },
    "id": "UCGeMDw2NdeQ",
    "outputId": "964a1f84-a5ff-48d7-c178-8a2191a7c8b8"
   },
   "outputs": [
    {
     "data": {
      "text/html": [
       "<div>\n",
       "<style scoped>\n",
       "    .dataframe tbody tr th:only-of-type {\n",
       "        vertical-align: middle;\n",
       "    }\n",
       "\n",
       "    .dataframe tbody tr th {\n",
       "        vertical-align: top;\n",
       "    }\n",
       "\n",
       "    .dataframe thead th {\n",
       "        text-align: right;\n",
       "    }\n",
       "</style>\n",
       "<table border=\"1\" class=\"dataframe\">\n",
       "  <thead>\n",
       "    <tr style=\"text-align: right;\">\n",
       "      <th></th>\n",
       "      <th>brix</th>\n",
       "    </tr>\n",
       "  </thead>\n",
       "  <tbody>\n",
       "    <tr>\n",
       "      <th>0</th>\n",
       "      <td>10.9</td>\n",
       "    </tr>\n",
       "    <tr>\n",
       "      <th>1</th>\n",
       "      <td>9.8</td>\n",
       "    </tr>\n",
       "    <tr>\n",
       "      <th>2</th>\n",
       "      <td>11.0</td>\n",
       "    </tr>\n",
       "    <tr>\n",
       "      <th>3</th>\n",
       "      <td>9.0</td>\n",
       "    </tr>\n",
       "    <tr>\n",
       "      <th>4</th>\n",
       "      <td>10.9</td>\n",
       "    </tr>\n",
       "    <tr>\n",
       "      <th>5</th>\n",
       "      <td>10.7</td>\n",
       "    </tr>\n",
       "    <tr>\n",
       "      <th>6</th>\n",
       "      <td>11.2</td>\n",
       "    </tr>\n",
       "    <tr>\n",
       "      <th>7</th>\n",
       "      <td>9.2</td>\n",
       "    </tr>\n",
       "    <tr>\n",
       "      <th>8</th>\n",
       "      <td>9.5</td>\n",
       "    </tr>\n",
       "    <tr>\n",
       "      <th>9</th>\n",
       "      <td>10.5</td>\n",
       "    </tr>\n",
       "  </tbody>\n",
       "</table>\n",
       "</div>"
      ],
      "text/plain": [
       "   brix\n",
       "0  10.9\n",
       "1   9.8\n",
       "2  11.0\n",
       "3   9.0\n",
       "4  10.9\n",
       "5  10.7\n",
       "6  11.2\n",
       "7   9.2\n",
       "8   9.5\n",
       "9  10.5"
      ]
     },
     "execution_count": 1100,
     "metadata": {},
     "output_type": "execute_result"
    }
   ],
   "source": [
    "y_cols = [\"brix\"]\n",
    "y_variable = list_dataset[\"std_col_name_ohv_type\"].get_dataframe()[y_cols]\n",
    "y_variable.head(10)"
   ]
  },
  {
   "cell_type": "code",
   "execution_count": 1101,
   "metadata": {
    "colab": {
     "base_uri": "https://localhost:8080/",
     "height": 363
    },
    "id": "Bi8RPU3PNdeS",
    "outputId": "72475ba2-6193-43d1-d2c0-8dc9b4573d8e"
   },
   "outputs": [
    {
     "data": {
      "text/html": [
       "<div>\n",
       "<style scoped>\n",
       "    .dataframe tbody tr th:only-of-type {\n",
       "        vertical-align: middle;\n",
       "    }\n",
       "\n",
       "    .dataframe tbody tr th {\n",
       "        vertical-align: top;\n",
       "    }\n",
       "\n",
       "    .dataframe thead th {\n",
       "        text-align: right;\n",
       "    }\n",
       "</style>\n",
       "<table border=\"1\" class=\"dataframe\">\n",
       "  <thead>\n",
       "    <tr style=\"text-align: right;\">\n",
       "      <th></th>\n",
       "      <th>mass</th>\n",
       "      <th>h_diameter</th>\n",
       "      <th>v_diameter</th>\n",
       "      <th>C</th>\n",
       "    </tr>\n",
       "  </thead>\n",
       "  <tbody>\n",
       "    <tr>\n",
       "      <th>0</th>\n",
       "      <td>255</td>\n",
       "      <td>257</td>\n",
       "      <td>262</td>\n",
       "      <td>False</td>\n",
       "    </tr>\n",
       "    <tr>\n",
       "      <th>1</th>\n",
       "      <td>325</td>\n",
       "      <td>288</td>\n",
       "      <td>278</td>\n",
       "      <td>False</td>\n",
       "    </tr>\n",
       "    <tr>\n",
       "      <th>2</th>\n",
       "      <td>185</td>\n",
       "      <td>235</td>\n",
       "      <td>237</td>\n",
       "      <td>False</td>\n",
       "    </tr>\n",
       "    <tr>\n",
       "      <th>3</th>\n",
       "      <td>203</td>\n",
       "      <td>245</td>\n",
       "      <td>245</td>\n",
       "      <td>False</td>\n",
       "    </tr>\n",
       "    <tr>\n",
       "      <th>4</th>\n",
       "      <td>229</td>\n",
       "      <td>253</td>\n",
       "      <td>249</td>\n",
       "      <td>False</td>\n",
       "    </tr>\n",
       "    <tr>\n",
       "      <th>5</th>\n",
       "      <td>357</td>\n",
       "      <td>305</td>\n",
       "      <td>290</td>\n",
       "      <td>False</td>\n",
       "    </tr>\n",
       "    <tr>\n",
       "      <th>6</th>\n",
       "      <td>309</td>\n",
       "      <td>275</td>\n",
       "      <td>285</td>\n",
       "      <td>False</td>\n",
       "    </tr>\n",
       "    <tr>\n",
       "      <th>7</th>\n",
       "      <td>321</td>\n",
       "      <td>285</td>\n",
       "      <td>280</td>\n",
       "      <td>False</td>\n",
       "    </tr>\n",
       "    <tr>\n",
       "      <th>8</th>\n",
       "      <td>245</td>\n",
       "      <td>255</td>\n",
       "      <td>259</td>\n",
       "      <td>False</td>\n",
       "    </tr>\n",
       "    <tr>\n",
       "      <th>9</th>\n",
       "      <td>275</td>\n",
       "      <td>267</td>\n",
       "      <td>270</td>\n",
       "      <td>False</td>\n",
       "    </tr>\n",
       "  </tbody>\n",
       "</table>\n",
       "</div>"
      ],
      "text/plain": [
       "   mass  h_diameter  v_diameter      C\n",
       "0   255         257         262  False\n",
       "1   325         288         278  False\n",
       "2   185         235         237  False\n",
       "3   203         245         245  False\n",
       "4   229         253         249  False\n",
       "5   357         305         290  False\n",
       "6   309         275         285  False\n",
       "7   321         285         280  False\n",
       "8   245         255         259  False\n",
       "9   275         267         270  False"
      ]
     },
     "execution_count": 1101,
     "metadata": {},
     "output_type": "execute_result"
    }
   ],
   "source": [
    "x_cols = [\"mass\", \"h_diameter\", \"v_diameter\", \"C\"]\n",
    "x_variable = list_dataset[\"std_col_name_ohv_type\"].get_dataframe()[x_cols]\n",
    "x_variable.head(10)"
   ]
  },
  {
   "cell_type": "markdown",
   "metadata": {
    "id": "yZ8nOYBaNdeS"
   },
   "source": [
    "### Linear regression models"
   ]
  },
  {
   "cell_type": "markdown",
   "metadata": {
    "id": "HgNqZeeRNdeT"
   },
   "source": [
    "#### Model 1: brix $ \\sim \\beta_0 $ + $ \\beta_1 $ * type_a + $ \\beta_2 $ * type_b + $ \\beta_3 $ * type_c + $ \\beta_4 $ * h.diameter + $ \\beta_5 $ * v.diameter + $ \\beta_6 $ * mass"
   ]
  },
  {
   "cell_type": "markdown",
   "metadata": {
    "id": "c_K7BDPzNdeT"
   },
   "source": [
    "working"
   ]
  },
  {
   "cell_type": "code",
   "execution_count": 1102,
   "metadata": {
    "colab": {
     "base_uri": "https://localhost:8080/"
    },
    "id": "P0aVThLxNdeU",
    "outputId": "3510a933-d12d-46f9-dae4-23d7f4e06f3c"
   },
   "outputs": [
    {
     "data": {
      "text/plain": [
       "dict_keys(['std_col_name', 'std_col_name_ohv_type'])"
      ]
     },
     "execution_count": 1102,
     "metadata": {},
     "output_type": "execute_result"
    }
   ],
   "source": [
    "list_dataset.keys()"
   ]
  },
  {
   "cell_type": "code",
   "execution_count": 1103,
   "metadata": {
    "id": "yJGKMTiBNdeW"
   },
   "outputs": [],
   "source": [
    "std_dataset_names = [\"std_col_name_ohv_type\"]"
   ]
  },
  {
   "cell_type": "code",
   "execution_count": 1104,
   "metadata": {
    "colab": {
     "base_uri": "https://localhost:8080/"
    },
    "id": "PHmA-7xLOvmC",
    "outputId": "91d84510-1e60-42b4-a5e2-b7e6010c104a"
   },
   "outputs": [
    {
     "name": "stdout",
     "output_type": "stream",
     "text": [
      "cropped.rar\n",
      "main_orange.ipynb\n",
      "orange-Copy1.ipynb\n",
      "orange.ipynb\n",
      "orange_anh_hieu-Copy1.ipynb\n",
      "orange_anh_hieu.ipynb\n",
      "orange_best.ipynb\n",
      "orange_data.xlsx\n",
      "resnet34.xlsx\n",
      "result_2.xlsx\n",
      "result_3.xlsx\n",
      "result_4.xlsx\n",
      "result_vit_base_patch16_224.dino_best_054777.xlsx\n",
      "result_vit_base_patch16_224.dino_best_05526.xlsx\n",
      "result_vit_base_patch16_224.dino_best_54_1.xlsx\n",
      "result_XGB_get_10_new.xlsx\n",
      "TIMM.ipynb\n",
      "vit_base_patch14_dinov2.lvd142m_get_30.xlsx\n",
      "vit_base_patch16_224.dino_get_10.xlsx\n",
      "vit_small_patch14_dinov2.lvd142m_get_10.xlsx\n",
      "vit_small_patch14_dinov2.lvd142m_get_20.xlsx\n",
      "vit_small_patch14_dinov2.lvd142m_get_30.xlsx\n",
      "vit_small_patch14_dinov2.lvd142m_get_5.xlsx\n",
      "vit_small_patch14_dinov2.lvd142m_get_97.xlsx\n",
      "vit_small_patch14_dinov2.lvd142m_get_one.xlsx\n",
      "vit_small_patch14_dinov2.lvd142m_mean.xlsx\n"
     ]
    }
   ],
   "source": [
    "!ls"
   ]
  },
  {
   "cell_type": "code",
   "execution_count": 1105,
   "metadata": {
    "id": "bPqQhjjZfCAk"
   },
   "outputs": [],
   "source": [
    "model_list = [\n",
    "    # \"vit_large_patch14_dinov2.lvd142m\",\n",
    "        \"vit_base_patch16_224.dino\",\n",
    "    #\"vit_small_patch14_dinov2.lvd142m\",\n",
    "    # \"eva_large_patch14_196.in22k_ft_in22k_in1k\",\n",
    "    # \"vit_base_patch14_dinov2.lvd142m\",\n",
    "    # 'resnet34'\n",
    "]\n",
    "\n",
    "hyper_params = {\"SVR\": {\n",
    "          \"kernel\": [\"rbf\", \"linear\", \"poly\"],\n",
    "          \"C\": [0.0001, 0.001, 0.01, 0.05, 0.1]\n",
    "        },\n",
    "\n",
    "    \"RANDOM_FOREST\": {\n",
    "        \"n_estimators\": np.arange(100, 1100, 100),\n",
    "        \"max_depth\": [None, 5, 10, 15, 20],\n",
    "        \"max_features\": [10, 50, 100, 150, 200, \"sqrt\", \"log2\", None]\n",
    "    },\n",
    "    \"LIGHT_GBM\": {\n",
    "        \"max_depth\": [-1], # , 5, 10, 15, 20],\n",
    "        \"learning_rate\":  [0.015], # 0.01, 0.05, 0.1],\n",
    "        \"min_child_samples\": [20],\n",
    "         \"n_estimators\": np.arange(1900, 2000, 100)\n",
    "        # \"subsample\" : [1.0, 0.8, 0.6, 0.5],\n",
    "        #  \"colsample_bytree\" : [0.1, 0.2, 0.4, 0.6, 0.8, 1],\n",
    "        #   \"reg_alpha\": [0, 0.01, 0.05, 0.1, 0.2],\n",
    "        # \"reg_lambda\": [0, 0.01, 0.05, 0.1, 0.2],\n",
    "\n",
    "    }\n",
    "    }\n",
    "\n",
    "\n",
    "\n",
    "import copy\n",
    "from sklearn.model_selection import ParameterGrid\n",
    "\n",
    "param_search = {\n",
    "          \"LIGHT_GBM\" : list(ParameterGrid(hyper_params[\"LIGHT_GBM\"])),\n",
    "          # \"SVR\" : list(ParameterGrid(hyper_params[\"SVR\"]))\n",
    "          }"
   ]
  },
  {
   "cell_type": "code",
   "execution_count": null,
   "metadata": {
    "id": "eRfLyiciAsPu"
   },
   "outputs": [],
   "source": []
  },
  {
   "cell_type": "code",
   "execution_count": null,
   "metadata": {
    "id": "SFkGdeeok1Q4"
   },
   "outputs": [],
   "source": []
  },
  {
   "cell_type": "code",
   "execution_count": null,
   "metadata": {
    "id": "j_owj_GvFZiQ"
   },
   "outputs": [],
   "source": []
  },
  {
   "cell_type": "code",
   "execution_count": 1106,
   "metadata": {
    "colab": {
     "base_uri": "https://localhost:8080/"
    },
    "id": "LjLqvdcW3_gw",
    "outputId": "245715cb-eb43-478b-9fc4-e4e4787b095e"
   },
   "outputs": [],
   "source": [
    "# result_frame: ResultFrame = ResultFrame()\n",
    "# secondary_model_list = [\n",
    "#     # \"vit_large_patch14_dinov2.lvd142m\",\n",
    "#     # \"vit_small_patch14_dinov2.lvd142m\",\n",
    "#     # \"eva_large_patch14_196.in22k_ft_in22k_in1k\",\n",
    "#     \"vit_base_patch14_dinov2.lvd142m\",\n",
    "#     # 'resnet34'\n",
    "#     # \"vit_base_patch16_224.mae\"\n",
    "# ]\n",
    "# # secondary_options = [\"mean\", \"get_one\", \"get_97\"] + [f\"get_{k}\" for k in [5, 10, 20, 30]] + [f\"interval_{k}\" for k in [5, 10, 20, 30]]\n",
    "# secondary_options =  [f\"get_{k}\" for k in [30]]\n",
    "# # options = [\"mean\", \"get_one\", \"get_97\"] + [f\"get_{k}\" for k in [5, 10, 20, 30]]\n",
    "# options = [\"get_10\"]\n",
    "# for model_name in model_list:\n",
    "#   for option in options:\n",
    "#     resnet_dataset = pd.read_excel(f\"{model_name}_{option}.xlsx\")\n",
    "#     df_orig = list_dataset[\"std_col_name_ohv_type\"].get_dataframe()\n",
    "#     for snd_model in secondary_model_list:\n",
    "#       for opt in secondary_options:\n",
    "#         df_new = pd.merge(df_orig, resnet_dataset, on = \"name\")\n",
    "#         df_snd = pd.read_excel(f\"{snd_model}_{opt}.xlsx\")\n",
    "#         df_new = pd.merge(df_new, df_snd, on = \"name\")\n",
    "#         snd_cols = list(df_snd.drop(\"name\", axis = 1).columns)\n",
    "#         dataset_orig_resnet =  Dataset(\"orig_resnet\", df_new, ScalerType.Raw_)\n",
    "\n",
    "\n",
    "#         list_dataset[\"orig_resnet\"] = dataset_orig_resnet\n",
    "#         orig_cols = ['mass', 'h_diameter', 'C']\n",
    "#         resnet_cols = list(resnet_dataset.drop(\"name\", axis = 1).columns)\n",
    "\n",
    "#         x_cols = ['C'] + resnet_cols\n",
    "#         feature_all = resnet_cols + snd_cols\n",
    "#         feature_r2 = {}\n",
    "#         for feature in resnet_cols + snd_cols:\n",
    "#           feats_now = [feature]\n",
    "#           feature_collection = {\"orig_cols\": orig_cols, \"x_cols\": x_cols, \"resnet_cols\": feats_now}\n",
    "#           for dataset_name in std_dataset_names:\n",
    "#               for model_type in ModelType:\n",
    "#                 model_family = model_type.__str__().split(\".\")[-1]\n",
    "#                 if model_family in [\"DECISION_TREE\", \"XGB\", \"LINEAR_REGRESSION\", \"RANDOM_FOREST\", \"KNN\"]:\n",
    "#                   continue\n",
    "#                 if model_family in param_search.keys():\n",
    "#                   for param in param_search[model_family]:\n",
    "#                     for key, value in param.items():\n",
    "#                       model_type.value[key] = value\n",
    "#                     for key, value in feature_collection.items():\n",
    "#                         if key in [\"orig_cols\", \"x_cols\"]:\n",
    "#                             continue\n",
    "#                         name = f\"{model_family}_{key}_{model_name}_{option}_{str(param)}_{snd_model}_{opt}\"\n",
    "#                         print(f\"Training {name}\")\n",
    "#                         model = Model(\n",
    "#                             model_type=model_type,\n",
    "#                             name= name,\n",
    "#                             x_cols=value,\n",
    "#                             y_cols=y_cols,\n",
    "#                             dataset=list_dataset[\"orig_resnet\"],\n",
    "#                             scaler_type=ScalerType.Raw_,\n",
    "#                         )\n",
    "#                         result = model.evaluate()\n",
    "#                         r2  =    result.result[-2]\n",
    "#                         mse =   result.result[-1]\n",
    "#                         feature_r2[feature] = r2\n",
    "#                         # if r2  > max_R2:\n",
    "#                         #   max_R2 = r2\n",
    "#                         #   selected_feats = feats_now\n",
    "#                         print(f\"R2: {r2} | MSE: {mse}\")\n",
    "#                         result_frame.add_result(result)\n",
    "\n",
    "\n",
    "# result_frame.display_result()\n",
    "# # print(max_R2)\n",
    "# # print(selected_feats)"
   ]
  },
  {
   "cell_type": "code",
   "execution_count": 1107,
   "metadata": {
    "id": "cIOhJAl1YVGA"
   },
   "outputs": [],
   "source": [
    "# feature_r2_sorted={k: v for k, v in sorted(feature_r2.items(), key=lambda item: item[1], reverse = True)}\n"
   ]
  },
  {
   "cell_type": "code",
   "execution_count": 1108,
   "metadata": {
    "id": "sueN8xS4Yq2E"
   },
   "outputs": [],
   "source": [
    "# selected_feats = [feat for feat in feature_r2_sorted.keys() if feature_r2_sorted[feat]>0.0]"
   ]
  },
  {
   "cell_type": "code",
   "execution_count": 1109,
   "metadata": {
    "id": "Pe3e0BCCc9O5"
   },
   "outputs": [],
   "source": [
    "# len(selected_feats)"
   ]
  },
  {
   "cell_type": "code",
   "execution_count": 1110,
   "metadata": {
    "colab": {
     "base_uri": "https://localhost:8080/"
    },
    "id": "Ek7pufjlbtqj",
    "outputId": "a9ee0d66-569b-4669-8da7-7dd74d735b0e"
   },
   "outputs": [],
   "source": [
    "# print(selected_feats)"
   ]
  },
  {
   "cell_type": "code",
   "execution_count": 1111,
   "metadata": {
    "id": "EoEpg4Hwmfv-"
   },
   "outputs": [],
   "source": [
    "selected_feats_backup = ['timm/vit_base_patch14_dinov2.lvd142m_701', 'timm/vit_base_patch14_dinov2.lvd142m_529', 'timm/vit_base_patch14_dinov2.lvd142m_740', 'timm/vit_base_patch16_224.dino_158', 'timm/vit_base_patch16_224.dino_74', 'timm/vit_base_patch14_dinov2.lvd142m_119', 'timm/vit_base_patch14_dinov2.lvd142m_661', 'timm/vit_base_patch14_dinov2.lvd142m_366', 'timm/vit_base_patch16_224.dino_355', 'timm/vit_base_patch14_dinov2.lvd142m_440', 'timm/vit_base_patch14_dinov2.lvd142m_22', 'timm/vit_base_patch16_224.dino_317', 'timm/vit_base_patch16_224.dino_178', 'timm/vit_base_patch14_dinov2.lvd142m_336', 'timm/vit_base_patch16_224.dino_706', 'timm/vit_base_patch14_dinov2.lvd142m_362', 'timm/vit_base_patch16_224.dino_42', 'timm/vit_base_patch14_dinov2.lvd142m_74', 'timm/vit_base_patch14_dinov2.lvd142m_59', 'timm/vit_base_patch14_dinov2.lvd142m_584', 'timm/vit_base_patch16_224.dino_221', 'timm/vit_base_patch14_dinov2.lvd142m_402', 'timm/vit_base_patch14_dinov2.lvd142m_710', 'timm/vit_base_patch16_224.dino_396', 'timm/vit_base_patch14_dinov2.lvd142m_497', 'timm/vit_base_patch14_dinov2.lvd142m_40', 'timm/vit_base_patch16_224.dino_108', 'timm/vit_base_patch14_dinov2.lvd142m_53', 'timm/vit_base_patch16_224.dino_457', 'timm/vit_base_patch14_dinov2.lvd142m_214', 'timm/vit_base_patch14_dinov2.lvd142m_355', 'timm/vit_base_patch14_dinov2.lvd142m_454', 'timm/vit_base_patch14_dinov2.lvd142m_227', 'timm/vit_base_patch16_224.dino_281', 'timm/vit_base_patch14_dinov2.lvd142m_106', 'timm/vit_base_patch14_dinov2.lvd142m_451', 'timm/vit_base_patch14_dinov2.lvd142m_671', 'timm/vit_base_patch14_dinov2.lvd142m_82', 'timm/vit_base_patch16_224.dino_318', 'timm/vit_base_patch14_dinov2.lvd142m_718', 'timm/vit_base_patch16_224.dino_759', 'timm/vit_base_patch16_224.dino_165', 'timm/vit_base_patch16_224.dino_591', 'timm/vit_base_patch14_dinov2.lvd142m_642', 'timm/vit_base_patch16_224.dino_332', 'timm/vit_base_patch14_dinov2.lvd142m_37', 'timm/vit_base_patch16_224.dino_434', 'timm/vit_base_patch14_dinov2.lvd142m_326', 'timm/vit_base_patch14_dinov2.lvd142m_271', 'timm/vit_base_patch16_224.dino_532', 'timm/vit_base_patch16_224.dino_718', 'timm/vit_base_patch14_dinov2.lvd142m_511', 'timm/vit_base_patch14_dinov2.lvd142m_494', 'timm/vit_base_patch16_224.dino_574', 'timm/vit_base_patch14_dinov2.lvd142m_571', 'timm/vit_base_patch16_224.dino_250', 'timm/vit_base_patch16_224.dino_247', 'timm/vit_base_patch16_224.dino_122', 'timm/vit_base_patch14_dinov2.lvd142m_414', 'timm/vit_base_patch14_dinov2.lvd142m_704', 'timm/vit_base_patch16_224.dino_32', 'timm/vit_base_patch16_224.dino_146', 'timm/vit_base_patch16_224.dino_43', 'timm/vit_base_patch16_224.dino_245', 'timm/vit_base_patch16_224.dino_35', 'timm/vit_base_patch14_dinov2.lvd142m_580', 'timm/vit_base_patch14_dinov2.lvd142m_455', 'timm/vit_base_patch14_dinov2.lvd142m_10', 'timm/vit_base_patch14_dinov2.lvd142m_6', 'timm/vit_base_patch16_224.dino_397', 'timm/vit_base_patch16_224.dino_764', 'timm/vit_base_patch14_dinov2.lvd142m_90', 'timm/vit_base_patch14_dinov2.lvd142m_69', 'timm/vit_base_patch16_224.dino_765', 'timm/vit_base_patch14_dinov2.lvd142m_502', 'timm/vit_base_patch14_dinov2.lvd142m_156', 'timm/vit_base_patch16_224.dino_198', 'timm/vit_base_patch14_dinov2.lvd142m_79', 'timm/vit_base_patch14_dinov2.lvd142m_614', 'timm/vit_base_patch14_dinov2.lvd142m_223', 'timm/vit_base_patch14_dinov2.lvd142m_127', 'timm/vit_base_patch16_224.dino_17', 'timm/vit_base_patch16_224.dino_680', 'timm/vit_base_patch16_224.dino_307', 'timm/vit_base_patch16_224.dino_446', 'timm/vit_base_patch16_224.dino_48', 'timm/vit_base_patch14_dinov2.lvd142m_713', 'timm/vit_base_patch14_dinov2.lvd142m_762', 'timm/vit_base_patch14_dinov2.lvd142m_255', 'timm/vit_base_patch14_dinov2.lvd142m_433', 'timm/vit_base_patch14_dinov2.lvd142m_2', 'timm/vit_base_patch14_dinov2.lvd142m_353', 'timm/vit_base_patch16_224.dino_725', 'timm/vit_base_patch14_dinov2.lvd142m_432', 'timm/vit_base_patch16_224.dino_469', 'timm/vit_base_patch14_dinov2.lvd142m_491', 'timm/vit_base_patch14_dinov2.lvd142m_335', 'timm/vit_base_patch16_224.dino_125', 'timm/vit_base_patch14_dinov2.lvd142m_268', 'timm/vit_base_patch16_224.dino_698', 'timm/vit_base_patch14_dinov2.lvd142m_728', 'timm/vit_base_patch16_224.dino_292', 'timm/vit_base_patch16_224.dino_758', 'timm/vit_base_patch16_224.dino_522', 'timm/vit_base_patch14_dinov2.lvd142m_339', 'timm/vit_base_patch16_224.dino_356', 'timm/vit_base_patch16_224.dino_147', 'timm/vit_base_patch14_dinov2.lvd142m_133', 'timm/vit_base_patch16_224.dino_573', 'timm/vit_base_patch14_dinov2.lvd142m_633', 'timm/vit_base_patch14_dinov2.lvd142m_113', 'timm/vit_base_patch14_dinov2.lvd142m_605', 'timm/vit_base_patch14_dinov2.lvd142m_244', 'timm/vit_base_patch14_dinov2.lvd142m_677', 'timm/vit_base_patch16_224.dino_239', 'timm/vit_base_patch14_dinov2.lvd142m_43', 'timm/vit_base_patch14_dinov2.lvd142m_525', 'timm/vit_base_patch14_dinov2.lvd142m_54', 'timm/vit_base_patch16_224.dino_297', 'timm/vit_base_patch16_224.dino_321', 'timm/vit_base_patch16_224.dino_121', 'timm/vit_base_patch16_224.dino_423', 'timm/vit_base_patch14_dinov2.lvd142m_456', 'timm/vit_base_patch14_dinov2.lvd142m_751', 'timm/vit_base_patch16_224.dino_539', 'timm/vit_base_patch14_dinov2.lvd142m_673', 'timm/vit_base_patch14_dinov2.lvd142m_392', 'timm/vit_base_patch14_dinov2.lvd142m_697', 'timm/vit_base_patch14_dinov2.lvd142m_577', 'timm/vit_base_patch14_dinov2.lvd142m_24', 'timm/vit_base_patch14_dinov2.lvd142m_311', 'timm/vit_base_patch14_dinov2.lvd142m_534', 'timm/vit_base_patch14_dinov2.lvd142m_546', 'timm/vit_base_patch14_dinov2.lvd142m_369', 'timm/vit_base_patch16_224.dino_749', 'timm/vit_base_patch16_224.dino_274', 'timm/vit_base_patch14_dinov2.lvd142m_14', 'timm/vit_base_patch14_dinov2.lvd142m_438', 'timm/vit_base_patch14_dinov2.lvd142m_589', 'timm/vit_base_patch16_224.dino_357', 'timm/vit_base_patch14_dinov2.lvd142m_567', 'timm/vit_base_patch16_224.dino_515', 'timm/vit_base_patch14_dinov2.lvd142m_695', 'timm/vit_base_patch16_224.dino_362', 'timm/vit_base_patch14_dinov2.lvd142m_447', 'timm/vit_base_patch14_dinov2.lvd142m_85', 'timm/vit_base_patch14_dinov2.lvd142m_282', 'timm/vit_base_patch14_dinov2.lvd142m_198', 'timm/vit_base_patch14_dinov2.lvd142m_319', 'timm/vit_base_patch16_224.dino_180', 'timm/vit_base_patch16_224.dino_482', 'timm/vit_base_patch16_224.dino_324', 'timm/vit_base_patch16_224.dino_83', 'timm/vit_base_patch14_dinov2.lvd142m_98', 'timm/vit_base_patch14_dinov2.lvd142m_76', 'timm/vit_base_patch14_dinov2.lvd142m_55', 'timm/vit_base_patch16_224.dino_516', 'timm/vit_base_patch14_dinov2.lvd142m_530', 'timm/vit_base_patch14_dinov2.lvd142m_249', 'timm/vit_base_patch14_dinov2.lvd142m_603', 'timm/vit_base_patch14_dinov2.lvd142m_318', 'timm/vit_base_patch14_dinov2.lvd142m_532', 'timm/vit_base_patch16_224.dino_542', 'timm/vit_base_patch14_dinov2.lvd142m_749', 'timm/vit_base_patch14_dinov2.lvd142m_493', 'timm/vit_base_patch14_dinov2.lvd142m_276', 'timm/vit_base_patch16_224.dino_260', 'timm/vit_base_patch16_224.dino_200', 'timm/vit_base_patch16_224.dino_116', 'timm/vit_base_patch14_dinov2.lvd142m_668', 'timm/vit_base_patch16_224.dino_226', 'timm/vit_base_patch14_dinov2.lvd142m_398', 'timm/vit_base_patch14_dinov2.lvd142m_643', 'timm/vit_base_patch16_224.dino_521', 'timm/vit_base_patch16_224.dino_186', 'timm/vit_base_patch14_dinov2.lvd142m_514', 'timm/vit_base_patch14_dinov2.lvd142m_103', 'timm/vit_base_patch14_dinov2.lvd142m_555', 'timm/vit_base_patch16_224.dino_216', 'timm/vit_base_patch16_224.dino_614', 'timm/vit_base_patch14_dinov2.lvd142m_656', 'timm/vit_base_patch16_224.dino_588', 'timm/vit_base_patch16_224.dino_238', 'timm/vit_base_patch14_dinov2.lvd142m_628', 'timm/vit_base_patch16_224.dino_611', 'timm/vit_base_patch14_dinov2.lvd142m_31', 'timm/vit_base_patch14_dinov2.lvd142m_32', 'timm/vit_base_patch14_dinov2.lvd142m_596', 'timm/vit_base_patch16_224.dino_704', 'timm/vit_base_patch14_dinov2.lvd142m_709', 'timm/vit_base_patch16_224.dino_654', 'timm/vit_base_patch14_dinov2.lvd142m_431', 'timm/vit_base_patch16_224.dino_284', 'timm/vit_base_patch16_224.dino_197', 'timm/vit_base_patch16_224.dino_364', 'timm/vit_base_patch16_224.dino_488', 'timm/vit_base_patch14_dinov2.lvd142m_599', 'timm/vit_base_patch16_224.dino_438', 'timm/vit_base_patch14_dinov2.lvd142m_641', 'timm/vit_base_patch14_dinov2.lvd142m_722', 'timm/vit_base_patch16_224.dino_592', 'timm/vit_base_patch16_224.dino_586', 'timm/vit_base_patch16_224.dino_505', 'timm/vit_base_patch16_224.dino_625', 'timm/vit_base_patch14_dinov2.lvd142m_707', 'timm/vit_base_patch14_dinov2.lvd142m_586', 'timm/vit_base_patch14_dinov2.lvd142m_211', 'timm/vit_base_patch16_224.dino_731', 'timm/vit_base_patch14_dinov2.lvd142m_763', 'timm/vit_base_patch16_224.dino_492', 'timm/vit_base_patch14_dinov2.lvd142m_94', 'timm/vit_base_patch16_224.dino_425', 'timm/vit_base_patch14_dinov2.lvd142m_760', 'timm/vit_base_patch16_224.dino_232', 'timm/vit_base_patch14_dinov2.lvd142m_239', 'timm/vit_base_patch14_dinov2.lvd142m_81', 'timm/vit_base_patch14_dinov2.lvd142m_419', 'timm/vit_base_patch14_dinov2.lvd142m_374', 'timm/vit_base_patch14_dinov2.lvd142m_278', 'timm/vit_base_patch14_dinov2.lvd142m_575', 'timm/vit_base_patch14_dinov2.lvd142m_767', 'timm/vit_base_patch14_dinov2.lvd142m_116', 'timm/vit_base_patch16_224.dino_447', 'timm/vit_base_patch16_224.dino_59', 'timm/vit_base_patch16_224.dino_287', 'timm/vit_base_patch16_224.dino_462', 'timm/vit_base_patch14_dinov2.lvd142m_675', 'timm/vit_base_patch16_224.dino_595', 'timm/vit_base_patch14_dinov2.lvd142m_134', 'timm/vit_base_patch16_224.dino_711', 'timm/vit_base_patch14_dinov2.lvd142m_563', 'timm/vit_base_patch16_224.dino_230', 'timm/vit_base_patch14_dinov2.lvd142m_243', 'timm/vit_base_patch14_dinov2.lvd142m_533', 'timm/vit_base_patch14_dinov2.lvd142m_557', 'timm/vit_base_patch16_224.dino_433', 'timm/vit_base_patch16_224.dino_599', 'timm/vit_base_patch14_dinov2.lvd142m_51', 'timm/vit_base_patch14_dinov2.lvd142m_348', 'timm/vit_base_patch14_dinov2.lvd142m_543', 'timm/vit_base_patch16_224.dino_561', 'timm/vit_base_patch16_224.dino_589', 'timm/vit_base_patch16_224.dino_201', 'timm/vit_base_patch14_dinov2.lvd142m_367', 'timm/vit_base_patch14_dinov2.lvd142m_315', 'timm/vit_base_patch14_dinov2.lvd142m_124', 'timm/vit_base_patch16_224.dino_723', 'timm/vit_base_patch14_dinov2.lvd142m_620', 'timm/vit_base_patch14_dinov2.lvd142m_129', 'timm/vit_base_patch16_224.dino_342', 'timm/vit_base_patch16_224.dino_5', 'timm/vit_base_patch16_224.dino_52', 'timm/vit_base_patch16_224.dino_285', 'timm/vit_base_patch14_dinov2.lvd142m_644', 'timm/vit_base_patch14_dinov2.lvd142m_394', 'timm/vit_base_patch14_dinov2.lvd142m_344', 'timm/vit_base_patch14_dinov2.lvd142m_196', 'timm/vit_base_patch14_dinov2.lvd142m_95', 'timm/vit_base_patch14_dinov2.lvd142m_663', 'timm/vit_base_patch14_dinov2.lvd142m_364', 'timm/vit_base_patch14_dinov2.lvd142m_481', 'timm/vit_base_patch14_dinov2.lvd142m_281', 'timm/vit_base_patch14_dinov2.lvd142m_285', 'timm/vit_base_patch14_dinov2.lvd142m_653', 'timm/vit_base_patch14_dinov2.lvd142m_657', 'timm/vit_base_patch14_dinov2.lvd142m_420', 'timm/vit_base_patch14_dinov2.lvd142m_263', 'timm/vit_base_patch14_dinov2.lvd142m_277', 'timm/vit_base_patch16_224.dino_171', 'timm/vit_base_patch16_224.dino_240', 'timm/vit_base_patch14_dinov2.lvd142m_545', 'timm/vit_base_patch14_dinov2.lvd142m_689', 'timm/vit_base_patch14_dinov2.lvd142m_259', 'timm/vit_base_patch16_224.dino_495', 'timm/vit_base_patch16_224.dino_751', 'timm/vit_base_patch14_dinov2.lvd142m_715', 'timm/vit_base_patch14_dinov2.lvd142m_518', 'timm/vit_base_patch14_dinov2.lvd142m_298', 'timm/vit_base_patch14_dinov2.lvd142m_742', 'timm/vit_base_patch16_224.dino_526', 'timm/vit_base_patch14_dinov2.lvd142m_498', 'timm/vit_base_patch14_dinov2.lvd142m_175', 'timm/vit_base_patch14_dinov2.lvd142m_522', 'timm/vit_base_patch14_dinov2.lvd142m_594', 'timm/vit_base_patch14_dinov2.lvd142m_159', 'timm/vit_base_patch14_dinov2.lvd142m_662', 'timm/vit_base_patch16_224.dino_309', 'timm/vit_base_patch16_224.dino_427', 'timm/vit_base_patch16_224.dino_740', 'timm/vit_base_patch14_dinov2.lvd142m_753', 'timm/vit_base_patch16_224.dino_632', 'timm/vit_base_patch16_224.dino_333', 'timm/vit_base_patch16_224.dino_499', 'timm/vit_base_patch14_dinov2.lvd142m_206', 'timm/vit_base_patch16_224.dino_409', 'timm/vit_base_patch14_dinov2.lvd142m_387', 'timm/vit_base_patch14_dinov2.lvd142m_602', 'timm/vit_base_patch16_224.dino_196', 'timm/vit_base_patch14_dinov2.lvd142m_102', 'timm/vit_base_patch16_224.dino_498', 'timm/vit_base_patch16_224.dino_156', 'timm/vit_base_patch16_224.dino_634', 'timm/vit_base_patch16_224.dino_252', 'timm/vit_base_patch14_dinov2.lvd142m_317', 'timm/vit_base_patch14_dinov2.lvd142m_138', 'timm/vit_base_patch14_dinov2.lvd142m_621', 'timm/vit_base_patch16_224.dino_514', 'timm/vit_base_patch14_dinov2.lvd142m_646', 'timm/vit_base_patch16_224.dino_47', 'timm/vit_base_patch16_224.dino_673', 'timm/vit_base_patch14_dinov2.lvd142m_300', 'timm/vit_base_patch14_dinov2.lvd142m_505', 'timm/vit_base_patch16_224.dino_510', 'timm/vit_base_patch14_dinov2.lvd142m_683', 'timm/vit_base_patch16_224.dino_151', 'timm/vit_base_patch14_dinov2.lvd142m_716', 'timm/vit_base_patch14_dinov2.lvd142m_137', 'timm/vit_base_patch14_dinov2.lvd142m_665', 'timm/vit_base_patch14_dinov2.lvd142m_287', 'timm/vit_base_patch14_dinov2.lvd142m_305', 'timm/vit_base_patch16_224.dino_534', 'timm/vit_base_patch16_224.dino_37', 'timm/vit_base_patch14_dinov2.lvd142m_150', 'timm/vit_base_patch16_224.dino_120', 'timm/vit_base_patch16_224.dino_288', 'timm/vit_base_patch16_224.dino_142', 'timm/vit_base_patch14_dinov2.lvd142m_726', 'timm/vit_base_patch16_224.dino_621', 'timm/vit_base_patch14_dinov2.lvd142m_635', 'timm/vit_base_patch16_224.dino_400', 'timm/vit_base_patch16_224.dino_645', 'timm/vit_base_patch14_dinov2.lvd142m_721', 'timm/vit_base_patch16_224.dino_184', 'timm/vit_base_patch16_224.dino_506', 'timm/vit_base_patch14_dinov2.lvd142m_690', 'timm/vit_base_patch14_dinov2.lvd142m_521', 'timm/vit_base_patch14_dinov2.lvd142m_687', 'timm/vit_base_patch14_dinov2.lvd142m_407', 'timm/vit_base_patch14_dinov2.lvd142m_648', 'timm/vit_base_patch14_dinov2.lvd142m_469', 'timm/vit_base_patch14_dinov2.lvd142m_636', 'timm/vit_base_patch14_dinov2.lvd142m_181', 'timm/vit_base_patch14_dinov2.lvd142m_187', 'timm/vit_base_patch16_224.dino_487', 'timm/vit_base_patch14_dinov2.lvd142m_33', 'timm/vit_base_patch14_dinov2.lvd142m_736', 'timm/vit_base_patch16_224.dino_507', 'timm/vit_base_patch14_dinov2.lvd142m_725', 'timm/vit_base_patch14_dinov2.lvd142m_112', 'timm/vit_base_patch16_224.dino_310', 'timm/vit_base_patch16_224.dino_493', 'timm/vit_base_patch14_dinov2.lvd142m_286', 'timm/vit_base_patch14_dinov2.lvd142m_358', 'timm/vit_base_patch14_dinov2.lvd142m_12', 'timm/vit_base_patch14_dinov2.lvd142m_705', 'timm/vit_base_patch14_dinov2.lvd142m_11', 'timm/vit_base_patch16_224.dino_132', 'timm/vit_base_patch16_224.dino_113', 'timm/vit_base_patch14_dinov2.lvd142m_504', 'timm/vit_base_patch16_224.dino_28', 'timm/vit_base_patch14_dinov2.lvd142m_121', 'timm/vit_base_patch16_224.dino_702', 'timm/vit_base_patch14_dinov2.lvd142m_610', 'timm/vit_base_patch16_224.dino_647', 'timm/vit_base_patch16_224.dino_569', 'timm/vit_base_patch16_224.dino_661', 'timm/vit_base_patch14_dinov2.lvd142m_200', 'timm/vit_base_patch14_dinov2.lvd142m_216', 'timm/vit_base_patch16_224.dino_602', 'timm/vit_base_patch16_224.dino_117', 'timm/vit_base_patch14_dinov2.lvd142m_632', 'timm/vit_base_patch16_224.dino_566', 'timm/vit_base_patch16_224.dino_593', 'timm/vit_base_patch14_dinov2.lvd142m_417', 'timm/vit_base_patch14_dinov2.lvd142m_595', 'timm/vit_base_patch16_224.dino_381', 'timm/vit_base_patch16_224.dino_233', 'timm/vit_base_patch14_dinov2.lvd142m_698', 'timm/vit_base_patch14_dinov2.lvd142m_590', 'timm/vit_base_patch16_224.dino_741', 'timm/vit_base_patch14_dinov2.lvd142m_576', 'timm/vit_base_patch16_224.dino_708', 'timm/vit_base_patch14_dinov2.lvd142m_30', 'timm/vit_base_patch14_dinov2.lvd142m_57', 'timm/vit_base_patch14_dinov2.lvd142m_279', 'timm/vit_base_patch14_dinov2.lvd142m_475', 'timm/vit_base_patch16_224.dino_689', 'timm/vit_base_patch16_224.dino_408', 'timm/vit_base_patch16_224.dino_270', 'timm/vit_base_patch16_224.dino_337', 'timm/vit_base_patch16_224.dino_609', 'timm/vit_base_patch14_dinov2.lvd142m_685', 'timm/vit_base_patch16_224.dino_34', 'timm/vit_base_patch14_dinov2.lvd142m_434', 'timm/vit_base_patch14_dinov2.lvd142m_409', 'timm/vit_base_patch14_dinov2.lvd142m_664', 'timm/vit_base_patch14_dinov2.lvd142m_412', 'timm/vit_base_patch16_224.dino_374', 'timm/vit_base_patch14_dinov2.lvd142m_115', 'timm/vit_base_patch14_dinov2.lvd142m_301', 'timm/vit_base_patch14_dinov2.lvd142m_42', 'timm/vit_base_patch14_dinov2.lvd142m_264', 'timm/vit_base_patch16_224.dino_343', 'timm/vit_base_patch14_dinov2.lvd142m_473', 'timm/vit_base_patch14_dinov2.lvd142m_388', 'timm/vit_base_patch16_224.dino_112', 'timm/vit_base_patch16_224.dino_394', 'timm/vit_base_patch16_224.dino_70', 'timm/vit_base_patch14_dinov2.lvd142m_735', 'timm/vit_base_patch16_224.dino_463', 'timm/vit_base_patch16_224.dino_536', 'timm/vit_base_patch14_dinov2.lvd142m_291', 'timm/vit_base_patch14_dinov2.lvd142m_72', 'timm/vit_base_patch16_224.dino_234', 'timm/vit_base_patch14_dinov2.lvd142m_442', 'timm/vit_base_patch14_dinov2.lvd142m_205', 'timm/vit_base_patch16_224.dino_166', 'timm/vit_base_patch14_dinov2.lvd142m_638', 'timm/vit_base_patch16_224.dino_581', 'timm/vit_base_patch16_224.dino_225', 'timm/vit_base_patch16_224.dino_84', 'timm/vit_base_patch14_dinov2.lvd142m_185', 'timm/vit_base_patch14_dinov2.lvd142m_295', 'timm/vit_base_patch14_dinov2.lvd142m_699', 'timm/vit_base_patch14_dinov2.lvd142m_470', 'timm/vit_base_patch16_224.dino_454', 'timm/vit_base_patch16_224.dino_544', 'timm/vit_base_patch16_224.dino_412', 'timm/vit_base_patch16_224.dino_80', 'timm/vit_base_patch14_dinov2.lvd142m_526', 'timm/vit_base_patch16_224.dino_143', 'timm/vit_base_patch16_224.dino_388', 'timm/vit_base_patch14_dinov2.lvd142m_437', 'timm/vit_base_patch14_dinov2.lvd142m_246', 'timm/vit_base_patch16_224.dino_754', 'timm/vit_base_patch14_dinov2.lvd142m_548', 'timm/vit_base_patch14_dinov2.lvd142m_538', 'timm/vit_base_patch16_224.dino_719', 'timm/vit_base_patch14_dinov2.lvd142m_761', 'timm/vit_base_patch16_224.dino_4', 'timm/vit_base_patch16_224.dino_289', 'timm/vit_base_patch14_dinov2.lvd142m_578', 'timm/vit_base_patch14_dinov2.lvd142m_331', 'timm/vit_base_patch14_dinov2.lvd142m_416', 'timm/vit_base_patch14_dinov2.lvd142m_96', 'timm/vit_base_patch16_224.dino_497', 'timm/vit_base_patch14_dinov2.lvd142m_608', 'timm/vit_base_patch14_dinov2.lvd142m_194', 'timm/vit_base_patch16_224.dino_75', 'timm/vit_base_patch16_224.dino_257', 'timm/vit_base_patch14_dinov2.lvd142m_489', 'timm/vit_base_patch16_224.dino_379', 'timm/vit_base_patch16_224.dino_757', 'timm/vit_base_patch16_224.dino_420', 'timm/vit_base_patch14_dinov2.lvd142m_561', 'timm/vit_base_patch14_dinov2.lvd142m_560', 'timm/vit_base_patch14_dinov2.lvd142m_18', 'timm/vit_base_patch16_224.dino_552', 'timm/vit_base_patch14_dinov2.lvd142m_182', 'timm/vit_base_patch14_dinov2.lvd142m_515', 'timm/vit_base_patch14_dinov2.lvd142m_406', 'timm/vit_base_patch16_224.dino_179', 'timm/vit_base_patch14_dinov2.lvd142m_225', 'timm/vit_base_patch16_224.dino_228', 'timm/vit_base_patch16_224.dino_760', 'timm/vit_base_patch14_dinov2.lvd142m_296', 'timm/vit_base_patch16_224.dino_294', 'timm/vit_base_patch14_dinov2.lvd142m_77', 'timm/vit_base_patch14_dinov2.lvd142m_466', 'timm/vit_base_patch14_dinov2.lvd142m_108', 'timm/vit_base_patch16_224.dino_319', 'timm/vit_base_patch14_dinov2.lvd142m_288', 'timm/vit_base_patch16_224.dino_558', 'timm/vit_base_patch16_224.dino_220', 'timm/vit_base_patch16_224.dino_523', 'timm/vit_base_patch16_224.dino_100', 'timm/vit_base_patch16_224.dino_323', 'timm/vit_base_patch14_dinov2.lvd142m_501', 'timm/vit_base_patch14_dinov2.lvd142m_186', 'timm/vit_base_patch16_224.dino_548', 'timm/vit_base_patch14_dinov2.lvd142m_78', 'timm/vit_base_patch14_dinov2.lvd142m_413', 'timm/vit_base_patch14_dinov2.lvd142m_415', 'timm/vit_base_patch14_dinov2.lvd142m_48', 'timm/vit_base_patch16_224.dino_370', 'timm/vit_base_patch14_dinov2.lvd142m_328', 'timm/vit_base_patch14_dinov2.lvd142m_84', 'timm/vit_base_patch16_224.dino_135', 'timm/vit_base_patch16_224.dino_190', 'timm/vit_base_patch14_dinov2.lvd142m_443', 'timm/vit_base_patch14_dinov2.lvd142m_618', 'timm/vit_base_patch16_224.dino_636', 'timm/vit_base_patch14_dinov2.lvd142m_631', 'timm/vit_base_patch16_224.dino_244', 'timm/vit_base_patch16_224.dino_314', 'timm/vit_base_patch14_dinov2.lvd142m_435', 'timm/vit_base_patch16_224.dino_568', 'timm/vit_base_patch16_224.dino_266', 'timm/vit_base_patch14_dinov2.lvd142m_321', 'timm/vit_base_patch14_dinov2.lvd142m_588', 'timm/vit_base_patch14_dinov2.lvd142m_467', 'timm/vit_base_patch14_dinov2.lvd142m_741', 'timm/vit_base_patch14_dinov2.lvd142m_130', 'timm/vit_base_patch16_224.dino_25', 'timm/vit_base_patch14_dinov2.lvd142m_322', 'timm/vit_base_patch16_224.dino_641', 'timm/vit_base_patch14_dinov2.lvd142m_485', 'timm/vit_base_patch16_224.dino_188', 'timm/vit_base_patch14_dinov2.lvd142m_123', 'timm/vit_base_patch16_224.dino_671', 'timm/vit_base_patch14_dinov2.lvd142m_581', 'timm/vit_base_patch14_dinov2.lvd142m_592', 'timm/vit_base_patch16_224.dino_531', 'timm/vit_base_patch14_dinov2.lvd142m_62', 'timm/vit_base_patch14_dinov2.lvd142m_241', 'timm/vit_base_patch14_dinov2.lvd142m_174', 'timm/vit_base_patch16_224.dino_242', 'timm/vit_base_patch14_dinov2.lvd142m_114', 'timm/vit_base_patch14_dinov2.lvd142m_445', 'timm/vit_base_patch14_dinov2.lvd142m_492', 'timm/vit_base_patch14_dinov2.lvd142m_375', 'timm/vit_base_patch14_dinov2.lvd142m_474', 'timm/vit_base_patch14_dinov2.lvd142m_444', 'timm/vit_base_patch16_224.dino_460', 'timm/vit_base_patch14_dinov2.lvd142m_15', 'timm/vit_base_patch16_224.dino_236', 'timm/vit_base_patch14_dinov2.lvd142m_240', 'timm/vit_base_patch14_dinov2.lvd142m_556', 'timm/vit_base_patch16_224.dino_76', 'timm/vit_base_patch14_dinov2.lvd142m_559', 'timm/vit_base_patch16_224.dino_235', 'timm/vit_base_patch14_dinov2.lvd142m_330', 'timm/vit_base_patch14_dinov2.lvd142m_537', 'timm/vit_base_patch16_224.dino_426', 'timm/vit_base_patch14_dinov2.lvd142m_193', 'timm/vit_base_patch14_dinov2.lvd142m_396', 'timm/vit_base_patch16_224.dino_347', 'timm/vit_base_patch16_224.dino_639', 'timm/vit_base_patch14_dinov2.lvd142m_547', 'timm/vit_base_patch16_224.dino_369', 'timm/vit_base_patch16_224.dino_6', 'timm/vit_base_patch14_dinov2.lvd142m_191', 'timm/vit_base_patch16_224.dino_277', 'timm/vit_base_patch14_dinov2.lvd142m_379', 'timm/vit_base_patch14_dinov2.lvd142m_197', 'timm/vit_base_patch16_224.dino_404', 'timm/vit_base_patch14_dinov2.lvd142m_655', 'timm/vit_base_patch16_224.dino_716', 'timm/vit_base_patch14_dinov2.lvd142m_61', 'timm/vit_base_patch16_224.dino_752', 'timm/vit_base_patch16_224.dino_724', 'timm/vit_base_patch16_224.dino_604', 'timm/vit_base_patch14_dinov2.lvd142m_550', 'timm/vit_base_patch14_dinov2.lvd142m_356', 'timm/vit_base_patch16_224.dino_439', 'timm/vit_base_patch14_dinov2.lvd142m_44', 'timm/vit_base_patch14_dinov2.lvd142m_260', 'timm/vit_base_patch14_dinov2.lvd142m_424', 'timm/vit_base_patch16_224.dino_398', 'timm/vit_base_patch14_dinov2.lvd142m_626', 'timm/vit_base_patch14_dinov2.lvd142m_531', 'timm/vit_base_patch14_dinov2.lvd142m_496', 'timm/vit_base_patch14_dinov2.lvd142m_91', 'timm/vit_base_patch14_dinov2.lvd142m_9', 'timm/vit_base_patch14_dinov2.lvd142m_274', 'timm/vit_base_patch16_224.dino_368', 'timm/vit_base_patch16_224.dino_712', 'timm/vit_base_patch16_224.dino_756', 'timm/vit_base_patch14_dinov2.lvd142m_686', 'timm/vit_base_patch14_dinov2.lvd142m_163', 'timm/vit_base_patch14_dinov2.lvd142m_218', 'timm/vit_base_patch14_dinov2.lvd142m_160', 'timm/vit_base_patch14_dinov2.lvd142m_184', 'timm/vit_base_patch16_224.dino_118', 'timm/vit_base_patch14_dinov2.lvd142m_503', 'timm/vit_base_patch14_dinov2.lvd142m_745', 'timm/vit_base_patch16_224.dino_642', 'timm/vit_base_patch14_dinov2.lvd142m_376', 'timm/vit_base_patch16_224.dino_13', 'timm/vit_base_patch14_dinov2.lvd142m_702', 'timm/vit_base_patch14_dinov2.lvd142m_270', 'timm/vit_base_patch16_224.dino_181', 'timm/vit_base_patch14_dinov2.lvd142m_458', 'timm/vit_base_patch14_dinov2.lvd142m_541', 'timm/vit_base_patch14_dinov2.lvd142m_215', 'timm/vit_base_patch16_224.dino_540', 'timm/vit_base_patch16_224.dino_386', 'timm/vit_base_patch14_dinov2.lvd142m_517', 'timm/vit_base_patch16_224.dino_601', 'timm/vit_base_patch14_dinov2.lvd142m_128', 'timm/vit_base_patch16_224.dino_742', 'timm/vit_base_patch14_dinov2.lvd142m_350', 'timm/vit_base_patch16_224.dino_222', 'timm/vit_base_patch14_dinov2.lvd142m_607', 'timm/vit_base_patch16_224.dino_346', 'timm/vit_base_patch16_224.dino_204', 'timm/vit_base_patch16_224.dino_326', 'timm/vit_base_patch14_dinov2.lvd142m_630', 'timm/vit_base_patch14_dinov2.lvd142m_5', 'timm/vit_base_patch14_dinov2.lvd142m_743', 'timm/vit_base_patch14_dinov2.lvd142m_117', 'timm/vit_base_patch16_224.dino_630', 'timm/vit_base_patch14_dinov2.lvd142m_361', 'timm/vit_base_patch14_dinov2.lvd142m_60', 'timm/vit_base_patch16_224.dino_308', 'timm/vit_base_patch14_dinov2.lvd142m_162', 'timm/vit_base_patch16_224.dino_378', 'timm/vit_base_patch14_dinov2.lvd142m_199', 'timm/vit_base_patch14_dinov2.lvd142m_583', 'timm/vit_base_patch14_dinov2.lvd142m_89', 'timm/vit_base_patch14_dinov2.lvd142m_269', 'timm/vit_base_patch14_dinov2.lvd142m_71', 'timm/vit_base_patch14_dinov2.lvd142m_645', 'timm/vit_base_patch16_224.dino_738', 'timm/vit_base_patch14_dinov2.lvd142m_523', 'timm/vit_base_patch16_224.dino_590', 'timm/vit_base_patch14_dinov2.lvd142m_204', 'timm/vit_base_patch14_dinov2.lvd142m_385', 'timm/vit_base_patch16_224.dino_164', 'timm/vit_base_patch16_224.dino_556', 'timm/vit_base_patch14_dinov2.lvd142m_233', 'timm/vit_base_patch14_dinov2.lvd142m_461', 'timm/vit_base_patch16_224.dino_395', 'timm/vit_base_patch14_dinov2.lvd142m_617', 'timm/vit_base_patch14_dinov2.lvd142m_372', 'timm/vit_base_patch16_224.dino_61', 'timm/vit_base_patch16_224.dino_480', 'timm/vit_base_patch14_dinov2.lvd142m_637', 'timm/vit_base_patch14_dinov2.lvd142m_352', 'timm/vit_base_patch14_dinov2.lvd142m_217', 'timm/vit_base_patch16_224.dino_312', 'timm/vit_base_patch14_dinov2.lvd142m_253', 'timm/vit_base_patch14_dinov2.lvd142m_509', 'timm/vit_base_patch16_224.dino_272', 'timm/vit_base_patch14_dinov2.lvd142m_80', 'timm/vit_base_patch14_dinov2.lvd142m_427', 'timm/vit_base_patch16_224.dino_610', 'timm/vit_base_patch14_dinov2.lvd142m_535', 'timm/vit_base_patch16_224.dino_748', 'timm/vit_base_patch14_dinov2.lvd142m_482', 'timm/vit_base_patch14_dinov2.lvd142m_41', 'timm/vit_base_patch16_224.dino_652', 'timm/vit_base_patch14_dinov2.lvd142m_236', 'timm/vit_base_patch14_dinov2.lvd142m_423', 'timm/vit_base_patch16_224.dino_571', 'timm/vit_base_patch14_dinov2.lvd142m_421', 'timm/vit_base_patch14_dinov2.lvd142m_252', 'timm/vit_base_patch14_dinov2.lvd142m_568', 'timm/vit_base_patch16_224.dino_622', 'timm/vit_base_patch16_224.dino_194', 'timm/vit_base_patch14_dinov2.lvd142m_464', 'timm/vit_base_patch16_224.dino_137', 'timm/vit_base_patch16_224.dino_276', 'timm/vit_base_patch16_224.dino_688', 'timm/vit_base_patch16_224.dino_91', 'timm/vit_base_patch14_dinov2.lvd142m_135', 'timm/vit_base_patch16_224.dino_728', 'timm/vit_base_patch14_dinov2.lvd142m_507', 'timm/vit_base_patch16_224.dino_7', 'timm/vit_base_patch16_224.dino_219', 'timm/vit_base_patch14_dinov2.lvd142m_237', 'timm/vit_base_patch14_dinov2.lvd142m_34', 'timm/vit_base_patch16_224.dino_45', 'timm/vit_base_patch14_dinov2.lvd142m_720', 'timm/vit_base_patch14_dinov2.lvd142m_8', 'timm/vit_base_patch14_dinov2.lvd142m_230', 'timm/vit_base_patch16_224.dino_66', 'timm/vit_base_patch16_224.dino_46', 'timm/vit_base_patch14_dinov2.lvd142m_73', 'timm/vit_base_patch14_dinov2.lvd142m_384', 'timm/vit_base_patch16_224.dino_455', 'timm/vit_base_patch16_224.dino_131', 'timm/vit_base_patch14_dinov2.lvd142m_551', 'timm/vit_base_patch16_224.dino_416', 'timm/vit_base_patch16_224.dino_577', 'timm/vit_base_patch16_224.dino_354', 'timm/vit_base_patch14_dinov2.lvd142m_397', 'timm/vit_base_patch16_224.dino_286', 'timm/vit_base_patch16_224.dino_669', 'timm/vit_base_patch16_224.dino_504', 'timm/vit_base_patch14_dinov2.lvd142m_145', 'timm/vit_base_patch16_224.dino_494', 'timm/vit_base_patch16_224.dino_763', 'timm/vit_base_patch16_224.dino_735', 'timm/vit_base_patch16_224.dino_367', 'timm/vit_base_patch16_224.dino_517', 'timm/vit_base_patch14_dinov2.lvd142m_365', 'timm/vit_base_patch14_dinov2.lvd142m_381', 'timm/vit_base_patch14_dinov2.lvd142m_667', 'timm/vit_base_patch16_224.dino_563', 'timm/vit_base_patch14_dinov2.lvd142m_97', 'timm/vit_base_patch16_224.dino_98', 'timm/vit_base_patch16_224.dino_217', 'timm/vit_base_patch14_dinov2.lvd142m_622', 'timm/vit_base_patch16_224.dino_353', 'timm/vit_base_patch14_dinov2.lvd142m_66', 'timm/vit_base_patch14_dinov2.lvd142m_393', 'timm/vit_base_patch14_dinov2.lvd142m_19', 'timm/vit_base_patch14_dinov2.lvd142m_224', 'timm/vit_base_patch16_224.dino_472', 'timm/vit_base_patch16_224.dino_162', 'timm/vit_base_patch14_dinov2.lvd142m_733', 'timm/vit_base_patch16_224.dino_295', 'timm/vit_base_patch16_224.dino_478', 'timm/vit_base_patch16_224.dino_212', 'timm/vit_base_patch14_dinov2.lvd142m_283', 'timm/vit_base_patch16_224.dino_743']\n"
   ]
  },
  {
   "cell_type": "code",
   "execution_count": 1112,
   "metadata": {
    "colab": {
     "base_uri": "https://localhost:8080/",
     "height": 133
    },
    "id": "t7hm9F_jNdeX",
    "outputId": "12b44df3-7edd-4140-d1ea-4d9f8c0ffa46"
   },
   "outputs": [
    {
     "name": "stdout",
     "output_type": "stream",
     "text": [
      "Training LIGHT_GBM_resnet_cols_vit_base_patch16_224.dino_get_10_{'learning_rate': 0.015, 'max_depth': -1, 'min_child_samples': 20, 'n_estimators': 1900}_vit_base_patch14_dinov2.lvd142m_get_30\n"
     ]
    },
    {
     "name": "stderr",
     "output_type": "stream",
     "text": [
      "100%|██████████████████████████████████████████████████████████████████████████████████| 81/81 [01:15<00:00,  1.08it/s]"
     ]
    },
    {
     "name": "stdout",
     "output_type": "stream",
     "text": [
      "R2: 0.6064994987801384 | MSE: 0.7216923342050287\n"
     ]
    },
    {
     "name": "stderr",
     "output_type": "stream",
     "text": [
      "\n"
     ]
    },
    {
     "data": {
      "text/html": [
       "<div>\n",
       "<style scoped>\n",
       "    .dataframe tbody tr th:only-of-type {\n",
       "        vertical-align: middle;\n",
       "    }\n",
       "\n",
       "    .dataframe tbody tr th {\n",
       "        vertical-align: top;\n",
       "    }\n",
       "\n",
       "    .dataframe thead th {\n",
       "        text-align: right;\n",
       "    }\n",
       "</style>\n",
       "<table border=\"1\" class=\"dataframe\">\n",
       "  <thead>\n",
       "    <tr style=\"text-align: right;\">\n",
       "      <th></th>\n",
       "      <th>dataset_name</th>\n",
       "      <th>model_name</th>\n",
       "      <th>model_type</th>\n",
       "      <th>scaler_type</th>\n",
       "      <th>r2</th>\n",
       "      <th>mse</th>\n",
       "    </tr>\n",
       "  </thead>\n",
       "  <tbody>\n",
       "    <tr>\n",
       "      <th>0</th>\n",
       "      <td>orig_resnet</td>\n",
       "      <td>LIGHT_GBM_resnet_cols_vit_base_patch16_224.din...</td>\n",
       "      <td>ModelType.LIGHT_GBM</td>\n",
       "      <td>ScalerType.Raw_</td>\n",
       "      <td>0.606499</td>\n",
       "      <td>0.721692</td>\n",
       "    </tr>\n",
       "  </tbody>\n",
       "</table>\n",
       "</div>"
      ],
      "text/plain": [
       "  dataset_name                                         model_name  \\\n",
       "0  orig_resnet  LIGHT_GBM_resnet_cols_vit_base_patch16_224.din...   \n",
       "\n",
       "            model_type      scaler_type        r2       mse  \n",
       "0  ModelType.LIGHT_GBM  ScalerType.Raw_  0.606499  0.721692  "
      ]
     },
     "metadata": {},
     "output_type": "display_data"
    }
   ],
   "source": [
    "result_frame: ResultFrame = ResultFrame()\n",
    "secondary_model_list = [\n",
    "    # \"vit_large_patch14_dinov2.lvd142m\",\n",
    "    # \"vit_small_patch14_dinov2.lvd142m\",\n",
    "    # \"eva_large_patch14_196.in22k_ft_in22k_in1k\",\n",
    "    \"vit_base_patch14_dinov2.lvd142m\",\n",
    "    # 'resnet34'\n",
    "    # \"vit_base_patch16_224.mae\"\n",
    "]\n",
    "# secondary_options = [\"mean\", \"get_one\", \"get_97\"] + [f\"get_{k}\" for k in [5, 10, 20, 30]] + [f\"interval_{k}\" for k in [5, 10, 20, 30]]\n",
    "secondary_options =  [f\"get_{k}\" for k in [30]]\n",
    "# options = [\"mean\", \"get_one\", \"get_97\"] + [f\"get_{k}\" for k in [5, 10, 20, 30]]\n",
    "options = [\"get_10\"]\n",
    "for model_name in model_list:\n",
    "  for option in options:\n",
    "    # resnet_dataset = pd.read_excel(f\"legacy/{model_name}_{option}.xlsx\")\n",
    "    resnet_dataset = pd.read_excel(f\"{model_name}_{option}.xlsx\")\n",
    "    df_orig = list_dataset[\"std_col_name_ohv_type\"].get_dataframe()\n",
    "    for snd_model in secondary_model_list:\n",
    "      for opt in secondary_options:\n",
    "        df_new = pd.merge(df_orig, resnet_dataset, on = \"name\")\n",
    "        df_snd = pd.read_excel(f\"{snd_model}_{opt}.xlsx\")\n",
    "        # df_snd = pd.read_excel(f\"legacy/{snd_model}_{opt}.xlsx\")\n",
    "        df_new = pd.merge(df_new, df_snd, on = \"name\")\n",
    "        snd_cols = list(df_snd.drop(\"name\", axis = 1).columns)\n",
    "        dataset_orig_resnet =  Dataset(\"orig_resnet\", df_new, ScalerType.Raw_)\n",
    "\n",
    "\n",
    "        list_dataset[\"orig_resnet\"] = dataset_orig_resnet\n",
    "        orig_cols = ['mass', 'v_diameter', \"C\"]\n",
    "        resnet_cols = list(resnet_dataset.drop(\"name\", axis = 1).columns)\n",
    "\n",
    "        # x_cols = ['B', 'C'] + resnet_cols\n",
    "        x_cols = [\"mass\", \"v_diameter\", \"C\"] + resnet_cols\n",
    "        feature_collection = {\"orig_cols\": orig_cols, \"x_cols\": x_cols, \"resnet_cols\": selected_feats_backup + [\"mass\", \"v_diameter\", \"C\"]}\n",
    "\n",
    "\n",
    "\n",
    "        for dataset_name in std_dataset_names:\n",
    "            for model_type in ModelType:\n",
    "              model_family = model_type.__str__().split(\".\")[-1]\n",
    "              if model_family in [\"DECISION_TREE\", \"XGB\", \"LINEAR_REGRESSION\", \"SVR\", \"RANDOM_FOREST\", \"KNN\"]:\n",
    "                continue\n",
    "              if model_family == \"LIGHT_GBM\":\n",
    "                for param in param_search[model_family]:\n",
    "                  for key, value in param.items():\n",
    "                    model_type.value[key] = value\n",
    "                  for key, value in feature_collection.items():\n",
    "                      if key in [\"orig_cols\", \"x_cols\"]:\n",
    "                          continue\n",
    "                      name = f\"{model_family}_{key}_{model_name}_{option}_{str(param)}_{snd_model}_{opt}\"\n",
    "                      print(f\"Training {name}\")\n",
    "                      model = Model(\n",
    "                          model_type=model_type,\n",
    "                          name= name,\n",
    "                          x_cols=value,\n",
    "                          y_cols=y_cols,\n",
    "                          dataset=list_dataset[\"orig_resnet\"],\n",
    "                          scaler_type=ScalerType.Raw_,\n",
    "                      )\n",
    "                      result = model.evaluate()\n",
    "                      r2  =    result.result[-2]\n",
    "                      mse =   result.result[-1]\n",
    "                      print(f\"R2: {r2} | MSE: {mse}\")\n",
    "                      result_frame.add_result(result)\n",
    "\n",
    "\n",
    "result_frame.display_result()\n",
    "# result_frame.save_result(f\"result_{model_name}_num_leaves_exp.xlsx\")"
   ]
  }
 ],
 "metadata": {
  "colab": {
   "provenance": []
  },
  "kernelspec": {
   "display_name": "Python 3 (ipykernel)",
   "language": "python",
   "name": "python3"
  },
  "language_info": {
   "codemirror_mode": {
    "name": "ipython",
    "version": 3
   },
   "file_extension": ".py",
   "mimetype": "text/x-python",
   "name": "python",
   "nbconvert_exporter": "python",
   "pygments_lexer": "ipython3",
   "version": "3.11.7"
  }
 },
 "nbformat": 4,
 "nbformat_minor": 4
}
