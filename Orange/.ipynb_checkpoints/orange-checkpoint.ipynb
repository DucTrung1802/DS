{
 "cells": [
  {
   "cell_type": "markdown",
   "metadata": {},
   "source": [
    "# Orange brix Analysis"
   ]
  },
  {
   "cell_type": "markdown",
   "metadata": {},
   "source": [
    "## Import libraries"
   ]
  },
  {
   "cell_type": "code",
   "execution_count": 1,
   "metadata": {},
   "outputs": [],
   "source": [
    "# !pip install lightgbm\n",
    "# !pip install xgboost"
   ]
  },
  {
   "cell_type": "code",
   "execution_count": 55,
   "metadata": {},
   "outputs": [],
   "source": [
    "import numpy as np\n",
    "import pandas as pd\n",
    "import matplotlib.pyplot as plt\n",
    "import seaborn as sns\n",
    "from scipy import stats\n",
    "from enum import Enum\n",
    "from tqdm import tqdm\n",
    "\n",
    "from sklearn.linear_model import LinearRegression\n",
    "from sklearn.tree import DecisionTreeRegressor\n",
    "from sklearn.ensemble import RandomForestRegressor\n",
    "from sklearn.svm import SVR\n",
    "from xgboost import XGBRegressor\n",
    "from lightgbm import LGBMRegressor\n",
    "from sklearn.model_selection import KFold\n",
    "from sklearn.metrics import r2_score, mean_squared_error\n",
    "from sklearn.model_selection import ParameterGrid\n",
    "import pickle\n",
    "\n",
    "import os"
   ]
  },
  {
   "cell_type": "code",
   "execution_count": 3,
   "metadata": {},
   "outputs": [],
   "source": [
    "plt.style.use(\"fivethirtyeight\")"
   ]
  },
  {
   "cell_type": "markdown",
   "metadata": {},
   "source": [
    "## Settings"
   ]
  },
  {
   "cell_type": "code",
   "execution_count": 4,
   "metadata": {},
   "outputs": [],
   "source": [
    "GENERATE_PLOTS: bool = False\n",
    "\n",
    "TRAIN_MODEL_1 : bool = True\n",
    "TRAIN_MODEL_2 : bool = False\n",
    "TRAIN_MODEL_3 : bool = False\n",
    "TRAIN_MODEL_4 : bool = False\n",
    "TRAIN_MODEL_5 : bool = False"
   ]
  },
  {
   "cell_type": "markdown",
   "metadata": {},
   "source": [
    "## Create Classes"
   ]
  },
  {
   "cell_type": "code",
   "execution_count": 5,
   "metadata": {},
   "outputs": [],
   "source": [
    "class Utilities:\n",
    "    def __init__(self):\n",
    "        pass\n",
    "\n",
    "    def get_categorical_numeric_cols(self, dataframe: pd.DataFrame):\n",
    "        if len(dataframe) == 0:\n",
    "            raise Exception(\"No records found!\")\n",
    "\n",
    "        numeric_cols = []\n",
    "        categorical_cols = []\n",
    "\n",
    "        for col in dataframe.columns:\n",
    "            if isinstance(dataframe[col][0], bool) or not isinstance(\n",
    "                dataframe[col][0], (int, float, np.int8, np.int16, np.int32, np.int64, np.float16, np.float32, np.float64)\n",
    "            ):\n",
    "                categorical_cols.append(col)\n",
    "            else:\n",
    "                numeric_cols.append(col)\n",
    "\n",
    "        return (categorical_cols, numeric_cols)"
   ]
  },
  {
   "cell_type": "code",
   "execution_count": 6,
   "metadata": {},
   "outputs": [],
   "source": [
    "from sklearn.preprocessing import (\n",
    "    MaxAbsScaler,\n",
    "    MinMaxScaler,\n",
    "    Normalizer,\n",
    "    RobustScaler,\n",
    "    StandardScaler,\n",
    ")\n",
    "\n",
    "\n",
    "class ScalerType(Enum):\n",
    "    Raw_ = None\n",
    "    MaxAbsScaler_ = MaxAbsScaler\n",
    "    MinMaxScaler_ = MinMaxScaler\n",
    "    Normalizer_ = Normalizer\n",
    "    RobustScaler_ = RobustScaler\n",
    "    StandardScaler_ = StandardScaler"
   ]
  },
  {
   "cell_type": "code",
   "execution_count": 7,
   "metadata": {},
   "outputs": [],
   "source": [
    "class Dataset(Utilities):\n",
    "    def __init__(\n",
    "        self,\n",
    "        name: str,\n",
    "        dataframe: pd.DataFrame,\n",
    "        scaler_type: ScalerType = ScalerType.Raw_,\n",
    "    ):\n",
    "        self.name: str = name\n",
    "        self.dataframe: pd.DataFrame = dataframe\n",
    "        self.categorical_cols: list[str] = []\n",
    "        self.numeric_cols: list[str] = []\n",
    "        self.scaler_type: ScalerType = scaler_type\n",
    "\n",
    "        self.categorical_cols, self.numeric_cols = self.get_categorical_numeric_cols(\n",
    "            self.dataframe\n",
    "        )\n",
    "\n",
    "    def get_name(self) -> str:\n",
    "        return self.name\n",
    "\n",
    "    def get_dataframe(self) -> pd.DataFrame:\n",
    "        return self.dataframe\n",
    "\n",
    "    def detect_categorical_numeric_cols(self):\n",
    "        if len(self.dataframe) == 0:\n",
    "            raise Exception(\"No records found!\")\n",
    "\n",
    "        self.numeric_cols = []\n",
    "        self.categorical_cols = []\n",
    "\n",
    "        for col in self.dataframe.columns:\n",
    "            try:\n",
    "                float(self.dataframe[col][0])\n",
    "                self.numeric_cols.append(col)\n",
    "            except:\n",
    "                self.categorical_cols.append(col)\n",
    "\n",
    "    def get_numeric_cols(self) -> list[str]:\n",
    "        return self.numeric_cols\n",
    "\n",
    "    def get_numeric_dataframe(self) -> pd.DataFrame:\n",
    "        return self.dataframe[self.numeric_cols]\n",
    "\n",
    "    def get_categorical_dataframe(self) -> pd.DataFrame:\n",
    "        return self.dataframe[self.categorical_cols]\n",
    "\n",
    "    def get_scaler_type(self) -> ScalerType:\n",
    "        return self.scaler_type\n",
    "\n",
    "    def concat_dataframe(self, additional_dataframe: pd.DataFrame):\n",
    "        if len(additional_dataframe) == len(self.dataframe):\n",
    "            self.dataframe = pd.concat([self.dataframe, additional_dataframe], axis=1)\n",
    "            self.detect_categorical_numeric_cols()\n",
    "\n",
    "    def get_one_hot_vectorized_dataset(\n",
    "        self, categorical_col: str, print_name: bool = True\n",
    "    ):\n",
    "        if categorical_col in self.categorical_cols:\n",
    "            dummies_dataframe = pd.get_dummies(self.dataframe[categorical_col])\n",
    "            dummies_dataframe = pd.concat([dummies_dataframe, self.dataframe], axis=1)\n",
    "            new_dataset_name = self.name + \"_ohv_\" + categorical_col\n",
    "            if print_name:\n",
    "                print(new_dataset_name)\n",
    "            return Dataset(\n",
    "                name=new_dataset_name,\n",
    "                dataframe=dummies_dataframe,\n",
    "                scaler_type=self.scaler_type,\n",
    "            )\n",
    "        elif categorical_col in self.numeric_cols:\n",
    "            print(\"Records for input column name are not categorical!\")\n",
    "        else:\n",
    "            print(\"Input column name does not exists!\")"
   ]
  },
  {
   "cell_type": "markdown",
   "metadata": {},
   "source": [
    "### class ModelType(Enum)"
   ]
  },
  {
   "cell_type": "code",
   "execution_count": 8,
   "metadata": {},
   "outputs": [],
   "source": [
    "class ModelType(Enum):\n",
    "    LINEAR_REGRESSION: dict = {}\n",
    "    SVR: dict = {\n",
    "        \"kernel\": \"rbf\", # imp | linear, poly, rbf\n",
    "        \"degree\": 3,\n",
    "        \"gamma\": \"scale\",\n",
    "        \"coef0\": 0,\n",
    "        \"tol\": 1e-3,\n",
    "        \"C\": 1.0, # imp tune from 0.1 - 2 step 0.1\n",
    "        \"epsilon\": 0.1,\n",
    "    }\n",
    "    # DECISION_TREE: dict = {\n",
    "    #     \"criterion\": \"squared_error\",\n",
    "    #     \"splitter\": \"best\",\n",
    "    #     \"max_depth\": None, # imp tune 1 - number of feature\n",
    "    #     \"min_samples_split\": 2,\n",
    "    #     \"min_samples_leaf\": 1,\n",
    "    #     \"min_weight_fraction_leaf\": 0.0,\n",
    "    #     \"max_features\": None, # int 2->5 {“sqrt”, “log2”}, default=None\n",
    "\n",
    "    #     \"random_state\": 42,\n",
    "    #     \"max_leaf_nodes\": None,\n",
    "    #     \"min_impurity_decrease\": 0,\n",
    "    # }\n",
    "    RANDOM_FOREST: dict = {\n",
    "        \"n_estimators\": 100, # int, 100-1000 (step 100)\n",
    "        \"criterion\": \"squared_error\",\n",
    "        \"max_depth\": None, # imp tune 1 - number of feature\n",
    "        \"min_samples_split\": 2,\n",
    "        \"min_samples_leaf\": 1,\n",
    "        \"min_weight_fraction_leaf\": 0.0,\n",
    "        \"max_features\": 1.0, # int 2->5 {“sqrt”, “log2”}, default=None\n",
    "        \"max_leaf_nodes\": None,\n",
    "        \"min_impurity_decrease\": 0.0,\n",
    "    }\n",
    "    LIGHT_GBM: dict = {\n",
    "        \"boosting_type\": \"gbdt\",\n",
    "        \"num_leaves\": 31,\n",
    "        \"max_depth\": -1,\n",
    "        \"learning_rate\": 0.1,\n",
    "        \"n_estimator\": 100, # int, 100->1000 (step 100)\n",
    "        \"verbosity\": -1,\n",
    "    }\n",
    "    XGB: dict = {\n",
    "        \"objective\": \"reg:linear\",\n",
    "        \"n_estimators\": 10, # int, 100-1000 (step 100)\n",
    "        \"seed\": 123,\n",
    "        \"verbosity\": 0,\n",
    "    }"
   ]
  },
  {
   "cell_type": "code",
   "execution_count": 9,
   "metadata": {},
   "outputs": [],
   "source": [
    "class Result:\n",
    "    def __init__(\n",
    "        self,\n",
    "        dataset_name: str,\n",
    "        pretrained_model_features: str,\n",
    "        model_type: ModelType,\n",
    "        scaler_type: str,\n",
    "        r2: float,\n",
    "        mse: float,\n",
    "        params: str,\n",
    "    ):\n",
    "        self.result = [\n",
    "            dataset_name,\n",
    "            pretrained_model_features,\n",
    "            model_type,\n",
    "            scaler_type,\n",
    "            r2,\n",
    "            mse,\n",
    "            params,\n",
    "        ]\n",
    "\n",
    "    def get_result(self):\n",
    "        return self.result"
   ]
  },
  {
   "cell_type": "code",
   "execution_count": 10,
   "metadata": {},
   "outputs": [],
   "source": [
    "class ResultFrame:\n",
    "    def __init__(self):\n",
    "        self.result_frame: pd.DataFrame = pd.DataFrame()\n",
    "        self.count = 0\n",
    "\n",
    "        self.start_up()\n",
    "\n",
    "    def start_up(self):\n",
    "        self.result_frame[\"dataset_name\"] = []\n",
    "        self.result_frame[\"pretrained_model_features\"] = []\n",
    "        self.result_frame[\"model_type\"] = []\n",
    "        self.result_frame[\"scaler_type\"] = []\n",
    "        self.result_frame[\"r2\"] = []\n",
    "        self.result_frame[\"mse\"] = []\n",
    "        self.result_frame[\"params\"] = []\n",
    "\n",
    "    def add_result(self, new_result: Result):\n",
    "        self.result_frame.loc[self.count] = new_result.result\n",
    "        self.count += 1\n",
    "\n",
    "    def display_result(self, display_rows: int = 30):\n",
    "        self.result_frame.sort_values([\"r2\", \"mse\"], ascending=False, inplace=True)\n",
    "        if display_rows < 0:\n",
    "            display_rows = 30\n",
    "        display(self.result_frame.head(display_rows))\n",
    "\n",
    "    def save_result(self, filename=None, overwrite=False):\n",
    "        if self.result_frame.shape[0] == 0:\n",
    "            print(\"Result has no records!\")\n",
    "        elif not filename:\n",
    "            filename = self.result_frame[\"dataset_name\"][0] + \"_\" + self.result_frame[\"pretrained_model_features\"][0] + \".xlsx\"\n",
    "            self.result_frame.to_excel(filename)\n",
    "        else:\n",
    "            file_exists = os.path.isfile(os.path.join(os.getcwd(), filename))\n",
    "            if file_exists and not overwrite:\n",
    "                print(\"Error: CANNOT SAVE FILE.\")\n",
    "                print(\"A file with the same name already exists.\")\n",
    "                print(\n",
    "                    \"Set overwrite to True to overwrite existed file or change file name!\"\n",
    "                )\n",
    "            else:\n",
    "                self.result_frame.to_excel(filename)"
   ]
  },
  {
   "cell_type": "code",
   "execution_count": 11,
   "metadata": {},
   "outputs": [],
   "source": [
    "class Model(Utilities):\n",
    "    def __init__(\n",
    "        self,\n",
    "        dataset_name: str,\n",
    "        pretrained_model_features: list[str],\n",
    "        model_type: ModelType,\n",
    "        x_cols: list[str],\n",
    "        y_cols: list[str],\n",
    "        dataset: Dataset,\n",
    "        scaler_type: ScalerType = ScalerType.Raw_,\n",
    "    ):\n",
    "\n",
    "        if len(x_cols) == 0 or len(y_cols) == 0:\n",
    "            raise Exception(\"Data columns are not specified!\")\n",
    "\n",
    "        self.dataset_name: str = dataset_name\n",
    "        self.model_type: ModelType = model_type\n",
    "        self.pretrained_model_features = str(pretrained_model_features)\n",
    "        self.scaler_type: ScalerType = scaler_type\n",
    "        self.scaler = self.get_scaler(self.scaler_type)  # could be None\n",
    "        self.params = self.model_type.value\n",
    "        self.x_dataset: Dataset = None\n",
    "        self.y_dataset: Dataset = None\n",
    "        self.inner_model = None\n",
    "        self.r2 = None\n",
    "        self.mse = None\n",
    "\n",
    "        self.preprocess_data(x_cols, y_cols, dataset)\n",
    "\n",
    "    # Extract data from x_cols and y_cols\n",
    "    # Redetect categorical and numeric columns\n",
    "    def preprocess_data(self, x_cols: list[str], y_cols: list[str], dataset: Dataset):\n",
    "        x_dataset_new_name = dataset.get_name() + \"_x\"\n",
    "        y_dataset_new_name = dataset.get_name() + \"_y\"\n",
    "        scaler_type = dataset.get_scaler_type()\n",
    "        self.x_dataset = Dataset(\n",
    "            name=x_dataset_new_name,\n",
    "            dataframe=dataset.get_dataframe()[x_cols],\n",
    "            scaler_type=scaler_type,\n",
    "        )\n",
    "        self.y_dataset = Dataset(\n",
    "            name=y_dataset_new_name,\n",
    "            dataframe=dataset.get_dataframe()[y_cols],\n",
    "            scaler_type=scaler_type,\n",
    "        )\n",
    "\n",
    "        self.process_x_dataset()\n",
    "\n",
    "    # arrange [numeric_cols, categorical_cols]\n",
    "    def process_x_dataset(self):\n",
    "        new_name = self.x_dataset.get_name()\n",
    "        numeric_dataframe = self.x_dataset.get_numeric_dataframe()\n",
    "        categorical_dataframe = self.x_dataset.get_categorical_dataframe()\n",
    "        scaler_type = self.x_dataset.get_scaler_type()\n",
    "        self.x_dataset = Dataset(\n",
    "            name=new_name,\n",
    "            dataframe=pd.concat([numeric_dataframe, categorical_dataframe], axis=1),\n",
    "            scaler_type=scaler_type,\n",
    "        )\n",
    "\n",
    "    def get_x_list_index_numeric_cols(self):\n",
    "        return list(range(len(self.x_dataset.get_numeric_cols())))\n",
    "\n",
    "    def fit_scaler_and_scale_dataframe(self, X: pd.DataFrame) -> pd.DataFrame:\n",
    "        if self.scaler is not None:\n",
    "            list_index = self.get_x_list_index_numeric_cols()\n",
    "            X_numeric = X[:, list_index]\n",
    "            X_categorical = X[:, len(list_index) :].astype(int)\n",
    "            self.scaler.fit(X_numeric)\n",
    "            transformed_X = self.scaler.transform(X_numeric)\n",
    "            transformed_X = np.concatenate([transformed_X, X_categorical], axis=1)\n",
    "        else:\n",
    "            transformed_X = X\n",
    "\n",
    "        return transformed_X\n",
    "\n",
    "    def get_x_dataframe(self):\n",
    "        return self.x_dataset.get_dataframe()\n",
    "\n",
    "    def get_y_dataframe(self):\n",
    "        return self.y_dataset.get_dataframe()\n",
    "\n",
    "    def get_scaler(self, scaler_type: ScalerType):\n",
    "        if scaler_type != ScalerType.Raw_:\n",
    "            return scaler_type.value()\n",
    "\n",
    "    def display_progress(self):\n",
    "        print(\n",
    "            f\"Training | ModelType: {self.model_type} | Datasetname: {self.dataset_name} | ScalerType: {self.scaler_type} | Params: {self.params}\"\n",
    "        )\n",
    "        print(f\"R2: {self.r2} | MSE: {self.mse}\")\n",
    "\n",
    "    def fit(self, X=None, Y=None):\n",
    "        if X is None:\n",
    "            X = np.array(self.x_dataset.get_dataframe())\n",
    "            Y = np.array(self.y_dataset.get_dataframe())\n",
    "\n",
    "        model_family = self.model_type.__str__().split(\".\")[-1]\n",
    "\n",
    "        Y = np.squeeze(Y)\n",
    "\n",
    "        # need to scale\n",
    "        transformed_X = self.fit_scaler_and_scale_dataframe(X)\n",
    "\n",
    "        if model_family == \"SVR\":\n",
    "            self.model = SVR(**(self.params)).fit(transformed_X, Y)\n",
    "        elif model_family == \"LINEAR_REGRESSION\":\n",
    "            self.model = LinearRegression(**(self.params)).fit(transformed_X, Y)\n",
    "        elif model_family == \"DECISION_TREE\":\n",
    "            self.model = DecisionTreeRegressor(**(self.params)).fit(transformed_X, Y)\n",
    "        elif model_family == \"RANDOM_FOREST\":\n",
    "            self.model = RandomForestRegressor(**(self.params)).fit(transformed_X, Y)\n",
    "        elif model_family == \"LIGHT_GBM\":\n",
    "            self.model = LGBMRegressor(**(self.params)).fit(transformed_X, Y)\n",
    "        elif model_family == \"XGB\":\n",
    "            self.model = XGBRegressor(**(self.params)).fit(transformed_X, Y)\n",
    "        else:\n",
    "            raise ValueError(\"Unknown model family!\")\n",
    "\n",
    "    def predict(self, X):\n",
    "        if self.scaler is not None:\n",
    "            list_index = self.get_x_list_index_numeric_cols()\n",
    "            X_numeric = X[:, list_index]\n",
    "            X_categorical = X[:, len(list_index) :].astype(int)\n",
    "            transformed_X = self.scaler.transform(X_numeric)\n",
    "            transformed_X = np.concatenate([transformed_X, X_categorical], axis=1)\n",
    "        else:\n",
    "            transformed_X = X\n",
    "        return self.model.predict(transformed_X)\n",
    "\n",
    "    def evaluate(self, X=None, Y=None, method=\"LOOCV\"):\n",
    "        if X is None:\n",
    "            X = np.array(self.x_dataset.get_dataframe())\n",
    "            Y = np.array(self.y_dataset.get_dataframe())\n",
    "        if method == \"LOOCV\":\n",
    "            preds = [0] * len(Y)\n",
    "            total = len(Y)\n",
    "            kf = KFold(n_splits=total)\n",
    "            kf.get_n_splits(Y)\n",
    "\n",
    "        with tqdm(total=total) as pbar:\n",
    "            for i, (train_index, valid_index) in enumerate(kf.split(X, Y)):\n",
    "                X_train = X[train_index]\n",
    "                Y_train = Y[train_index]\n",
    "                X_valid = X[valid_index]\n",
    "                Y_valid = Y[valid_index]\n",
    "\n",
    "                self.fit(X_train, Y_train)\n",
    "\n",
    "                Y_valid_pred = self.predict(X_valid)\n",
    "                for j in range(len(valid_index)):\n",
    "                    index = valid_index[j]\n",
    "                    value = Y_valid_pred[j]\n",
    "                    preds[index] = value\n",
    "                pbar.update(1)\n",
    "\n",
    "        self.r2 = r2_score(Y, preds)\n",
    "        self.mse = mean_squared_error(Y, preds)\n",
    "\n",
    "        self.display_progress()\n",
    "\n",
    "        # Compile result\n",
    "        return Result(\n",
    "            dataset_name=self.dataset_name,\n",
    "            pretrained_model_features=self.pretrained_model_features,\n",
    "            model_type=self.model_type.name,\n",
    "            scaler_type=self.scaler_type.name,\n",
    "            r2=self.r2,\n",
    "            mse=self.mse,\n",
    "            params=self.params,\n",
    "        )\n",
    "\n",
    "    def save(self, filename: str):\n",
    "        pickle.dump(self.inner_model, open(filename, \"wb\"))\n",
    "\n",
    "    def load(self, filename: str):\n",
    "        pickle.dump(self.inner_model, open(filename, \"wb\"))\n",
    "\n",
    "    def set_params(self, params: dict):\n",
    "        self.params = params"
   ]
  },
  {
   "cell_type": "markdown",
   "metadata": {},
   "source": [
    "## Create main variables"
   ]
  },
  {
   "cell_type": "code",
   "execution_count": 12,
   "metadata": {},
   "outputs": [],
   "source": [
    "list_dataset: dict[str, Dataset] = dict()\n",
    "list_model: dict = dict()\n",
    "result_frame: ResultFrame = ResultFrame()\n",
    "model_count = 1\n",
    "\n",
    "hyper_params = {\n",
    "    \"SVR\": {\"kernel\": [\"rbf\", \"linear\", \"poly\"], \"C\": np.arange(0.1, 2, 0.1)},\n",
    "    \"RANDOM_FOREST\": {\n",
    "        \"n_estimators\": np.arange(100, 1100, 100),\n",
    "        \"max_depth\": [None, 5, 10, 15, 20],\n",
    "        \"max_features\": [10, 50, 100, 150, 200, \"sqrt\", \"log2\", None],\n",
    "    },\n",
    "    \"LIGHT_GBM\": {\n",
    "        \"max_depth\": [-1],  # , 5, 10, 15, 20],\n",
    "        \"learning_rate\": [0.01],  # , 0.05, 0.1],\n",
    "        \"min_child_samples\": [20],\n",
    "        \"n_estimators\": np.arange(800, 1000, 100),\n",
    "        # \"subsample\" : [1.0, 0.8, 0.6, 0.5],\n",
    "        #  \"colsample_bytree\" : [0.1, 0.2, 0.4, 0.6, 0.8, 1],\n",
    "        #   \"reg_alpha\": [0, 0.01, 0.05, 0.1, 0.2],\n",
    "        # \"reg_lambda\": [0, 0.01, 0.05, 0.1, 0.2],\n",
    "    },\n",
    "}"
   ]
  },
  {
   "cell_type": "markdown",
   "metadata": {},
   "source": [
    "## Create functions"
   ]
  },
  {
   "cell_type": "code",
   "execution_count": 13,
   "metadata": {},
   "outputs": [],
   "source": [
    "def list_all_dataset_names():\n",
    "    return list_dataset.keys()"
   ]
  },
  {
   "cell_type": "code",
   "execution_count": 14,
   "metadata": {},
   "outputs": [],
   "source": [
    "def list_all_model_names():\n",
    "    return list_model.keys()"
   ]
  },
  {
   "cell_type": "code",
   "execution_count": 15,
   "metadata": {},
   "outputs": [],
   "source": [
    "def plot_along_dataset(\n",
    "    dataset: Dataset,\n",
    "    nrow_subplot: int,\n",
    "    ncol_subplot: int,\n",
    "    figsize: tuple[int, int],\n",
    "):\n",
    "    numeric_df = dataset.get_dataframe()[dataset.numeric_cols]\n",
    "    x = np.arange(len(numeric_df))\n",
    "    figs, axes = plt.subplots(nrow_subplot, ncol_subplot, figsize=figsize)\n",
    "    for i in range(nrow_subplot):\n",
    "        for j in range(ncol_subplot):\n",
    "            ax = axes[i][j]\n",
    "            index = i * ncol_subplot + j\n",
    "            ax.plot(x, numeric_df.iloc[:, index])\n",
    "            ax.set_title(f\"{numeric_df.columns[index]} along dataframe\", size=15)\n",
    "            ax.xaxis.set_tick_params(labelsize=12)\n",
    "            ax.xaxis.set_ticks(np.arange(0, len(numeric_df), 10))\n",
    "            ax.yaxis.set_tick_params(labelsize=12)"
   ]
  },
  {
   "cell_type": "code",
   "execution_count": 16,
   "metadata": {},
   "outputs": [],
   "source": [
    "def plot_hist_kde_box_all_columns(dataset: Dataset):\n",
    "\n",
    "    number_of_numeric_col = len(dataset.numeric_cols)\n",
    "    figs, axes = plt.subplots(\n",
    "        number_of_numeric_col, 3, figsize=(30, number_of_numeric_col * 10)\n",
    "    )\n",
    "\n",
    "    numeric_dataframe = dataset.get_dataframe()[dataset.numeric_cols]\n",
    "\n",
    "    for i in range(number_of_numeric_col):\n",
    "        axes[i][0].set_title(f\"{numeric_dataframe.columns[i]} histogram\", size=20)\n",
    "        axes[i][0].yaxis.set_tick_params(labelsize=15)\n",
    "        axes[i][0].xaxis.set_tick_params(labelsize=15)\n",
    "        sns.histplot(ax=axes[i][0], data=numeric_dataframe.iloc[:, i])\n",
    "\n",
    "        axes[i][1].set_title(f\"{numeric_dataframe.columns[i]} KDE\", size=20)\n",
    "        axes[i][1].xaxis.set_tick_params(labelsize=15)\n",
    "        axes[i][1].yaxis.set_tick_params(labelsize=15)\n",
    "        sns.kdeplot(ax=axes[i][1], data=numeric_dataframe.iloc[:, i])\n",
    "\n",
    "        axes[i][2].set_title(f\"{numeric_dataframe.columns[i]} Boxplot\", size=20)\n",
    "        axes[i][2].xaxis.set_tick_params(labelsize=15)\n",
    "        axes[i][2].yaxis.set_tick_params(labelsize=15)\n",
    "        sns.boxplot(ax=axes[i][2], data=numeric_dataframe.iloc[:, i])"
   ]
  },
  {
   "cell_type": "code",
   "execution_count": 17,
   "metadata": {},
   "outputs": [],
   "source": [
    "def plot_all_columns_group_by_a_categorical_col(dataset: Dataset, categorical_col: str):\n",
    "\n",
    "    dataframe = dataset.get_dataframe()\n",
    "    numeric_dataframe = dataframe[dataset.numeric_cols]\n",
    "    number_of_numeric_col = len(dataset.numeric_cols)\n",
    "    figs, axes = plt.subplots(\n",
    "        number_of_numeric_col, 2, figsize=(20, number_of_numeric_col * 10)\n",
    "    )\n",
    "    groups = dataframe[categorical_col].unique()\n",
    "\n",
    "    for i in range(number_of_numeric_col):\n",
    "        axes[i][0].set_title(f\"{numeric_dataframe.columns[i]} KDE\", size=20)\n",
    "        axes[i][0].xaxis.set_tick_params(labelsize=15)\n",
    "        axes[i][0].yaxis.set_tick_params(labelsize=15)\n",
    "        for group in groups:\n",
    "            sns.kdeplot(\n",
    "                ax=axes[i][0],\n",
    "                data=numeric_dataframe[dataframe[categorical_col] == group].iloc[:, i],\n",
    "                label=f\"Type {group}\",\n",
    "            )\n",
    "        axes[i][0].legend()\n",
    "\n",
    "        axes[i][1].set_title(f\"{numeric_dataframe.columns[i]} Boxplot\", size=20)\n",
    "        axes[i][1].xaxis.set_tick_params(labelsize=15)\n",
    "        axes[i][1].yaxis.set_tick_params(labelsize=15)\n",
    "        sns.boxplot(\n",
    "            ax=axes[i][1],\n",
    "            hue=\"type\",\n",
    "            y=numeric_dataframe.columns[i],\n",
    "            data=dataframe,\n",
    "        )"
   ]
  },
  {
   "cell_type": "code",
   "execution_count": 18,
   "metadata": {},
   "outputs": [],
   "source": [
    "def divide_dataframe_with_categorical_col(\n",
    "    dataset: Dataset, categorical_col: str\n",
    ") -> dict[str, pd.DataFrame]:\n",
    "    dataframe = dataset.get_dataframe()\n",
    "    groups = dataframe[categorical_col].unique()\n",
    "\n",
    "    result = {}\n",
    "    for group in groups:\n",
    "        result[group] = dataframe[dataframe[categorical_col] == group]\n",
    "\n",
    "    return result"
   ]
  },
  {
   "cell_type": "code",
   "execution_count": 19,
   "metadata": {},
   "outputs": [],
   "source": [
    "# def calculate_p_values_between_partitions(dataframes, columns_to_compare):\n",
    "#     p_values = {}\n",
    "#     for key1, df1 in dataframes.items():\n",
    "#         for key2, df2 in dataframes.items():\n",
    "#             if key1 != key2:\n",
    "#                 for col in columns_to_compare:\n",
    "#                     if col in df1 and col in df2:\n",
    "#                         t_stat, p_val = stats.ttest_ind(df1[col], df2[col])\n",
    "#                         p_values[f\"{col}_{key1}-{col}_{key2}\"] = p_val\n",
    "#     return p_values"
   ]
  },
  {
   "cell_type": "code",
   "execution_count": 20,
   "metadata": {},
   "outputs": [],
   "source": [
    "# import statsmodels.api as sm\n",
    "# from sklearn.metrics import mean_squared_error\n",
    "# from typing import Optional, Callable\n",
    "\n",
    "\n",
    "# def summary_linear_model(x: list, y, dataset, transformer: Optional[Callable] = None):\n",
    "#     x_ = sm.add_constant(dataset[x])\n",
    "#     y_ = dataset[y]\n",
    "#     results = sm.OLS(y_, x_).fit()\n",
    "#     Intercept = results.params.iloc[0]\n",
    "#     Slope = results.params.iloc[1:]\n",
    "#     P_values = results.pvalues[1:]\n",
    "#     R_squared = results.rsquared\n",
    "#     MSE = mean_squared_error(y_, results.predict())\n",
    "#     print(\"Intercept\\n\", Intercept, end=\"\\n\\n\")\n",
    "#     print(\"Slope\\n\", Slope, end=\"\\n\\n\")\n",
    "#     print(\"P_values\\n\", P_values, end=\"\\n\\n\")\n",
    "#     print(\"R_squared\\n\", R_squared, end=\"\\n\\n\")\n",
    "#     print(\"MSE\\n\", MSE, end=\"\\n\\n\")\n",
    "#     return {\n",
    "#         \"Intercept\": Intercept,\n",
    "#         \"Slope\": Slope,\n",
    "#         \"P_values\": P_values,\n",
    "#         \"R_squared\": R_squared,\n",
    "#         \"MSE\": MSE,\n",
    "#     }"
   ]
  },
  {
   "cell_type": "code",
   "execution_count": 21,
   "metadata": {},
   "outputs": [],
   "source": [
    "# intercept_a = model_no_scale[\"Slope\"][\"A\"] + model_no_scale[\"Intercept\"]\n",
    "# intercept_b = model_no_scale[\"Slope\"][\"B\"] + model_no_scale[\"Intercept\"]\n",
    "# intercept_c = model_no_scale[\"Slope\"][\"C\"] + model_no_scale[\"Intercept\"]\n",
    "\n",
    "# x = np.arange(model_dataset[\"mass\"].min(), model_dataset[\"mass\"].max())\n",
    "# ya = x * model_no_scale[\"Slope\"][\"mass\"] + intercept_a\n",
    "# yb = x * model_no_scale[\"Slope\"][\"mass\"] + intercept_b\n",
    "# yc = x * model_no_scale[\"Slope\"][\"mass\"] + intercept_c\n",
    "# plt.plot(x, ya, linewidth=2, label=\"type_A\")\n",
    "# plt.plot(x, yb, linewidth=2, label=\"type_B\")\n",
    "# plt.plot(x, yc, linewidth=2, label=\"type_C\")\n",
    "# plt.legend()"
   ]
  },
  {
   "cell_type": "markdown",
   "metadata": {},
   "source": [
    "## Import data"
   ]
  },
  {
   "cell_type": "code",
   "execution_count": 22,
   "metadata": {},
   "outputs": [],
   "source": [
    "raw_df = pd.read_excel(\"orange_data.xlsx\", sheet_name=0)"
   ]
  },
  {
   "cell_type": "code",
   "execution_count": 23,
   "metadata": {},
   "outputs": [
    {
     "data": {
      "text/html": [
       "<div>\n",
       "<style scoped>\n",
       "    .dataframe tbody tr th:only-of-type {\n",
       "        vertical-align: middle;\n",
       "    }\n",
       "\n",
       "    .dataframe tbody tr th {\n",
       "        vertical-align: top;\n",
       "    }\n",
       "\n",
       "    .dataframe thead th {\n",
       "        text-align: right;\n",
       "    }\n",
       "</style>\n",
       "<table border=\"1\" class=\"dataframe\">\n",
       "  <thead>\n",
       "    <tr style=\"text-align: right;\">\n",
       "      <th></th>\n",
       "      <th>Name</th>\n",
       "      <th>p</th>\n",
       "      <th>C NaOH</th>\n",
       "      <th>Khối lượng(g)</th>\n",
       "      <th>Đường kính ngang(mm)</th>\n",
       "      <th>Đường kính dọc(mm)</th>\n",
       "      <th>Độ đường (Brix %)</th>\n",
       "      <th>TA (%)</th>\n",
       "      <th>Brix:TA</th>\n",
       "      <th>BrmTA</th>\n",
       "    </tr>\n",
       "  </thead>\n",
       "  <tbody>\n",
       "    <tr>\n",
       "      <th>0</th>\n",
       "      <td>A1</td>\n",
       "      <td>1.90</td>\n",
       "      <td>0.4000</td>\n",
       "      <td>255</td>\n",
       "      <td>257</td>\n",
       "      <td>262</td>\n",
       "      <td>10.9</td>\n",
       "      <td>4.867141</td>\n",
       "      <td>2.239508</td>\n",
       "      <td>6.032859</td>\n",
       "    </tr>\n",
       "    <tr>\n",
       "      <th>1</th>\n",
       "      <td>A2</td>\n",
       "      <td>1.20</td>\n",
       "      <td>0.4000</td>\n",
       "      <td>325</td>\n",
       "      <td>288</td>\n",
       "      <td>278</td>\n",
       "      <td>9.8</td>\n",
       "      <td>3.073984</td>\n",
       "      <td>3.188045</td>\n",
       "      <td>6.726016</td>\n",
       "    </tr>\n",
       "    <tr>\n",
       "      <th>2</th>\n",
       "      <td>A3</td>\n",
       "      <td>2.30</td>\n",
       "      <td>0.4000</td>\n",
       "      <td>185</td>\n",
       "      <td>235</td>\n",
       "      <td>237</td>\n",
       "      <td>11.0</td>\n",
       "      <td>5.891803</td>\n",
       "      <td>1.867001</td>\n",
       "      <td>5.108197</td>\n",
       "    </tr>\n",
       "    <tr>\n",
       "      <th>3</th>\n",
       "      <td>A4</td>\n",
       "      <td>1.40</td>\n",
       "      <td>0.4128</td>\n",
       "      <td>203</td>\n",
       "      <td>245</td>\n",
       "      <td>245</td>\n",
       "      <td>9.0</td>\n",
       "      <td>3.701077</td>\n",
       "      <td>2.431725</td>\n",
       "      <td>5.298923</td>\n",
       "    </tr>\n",
       "    <tr>\n",
       "      <th>4</th>\n",
       "      <td>A5</td>\n",
       "      <td>1.20</td>\n",
       "      <td>0.4000</td>\n",
       "      <td>229</td>\n",
       "      <td>253</td>\n",
       "      <td>249</td>\n",
       "      <td>10.9</td>\n",
       "      <td>3.073984</td>\n",
       "      <td>3.545887</td>\n",
       "      <td>7.826016</td>\n",
       "    </tr>\n",
       "    <tr>\n",
       "      <th>5</th>\n",
       "      <td>A7</td>\n",
       "      <td>1.30</td>\n",
       "      <td>0.4128</td>\n",
       "      <td>357</td>\n",
       "      <td>305</td>\n",
       "      <td>290</td>\n",
       "      <td>10.7</td>\n",
       "      <td>3.436714</td>\n",
       "      <td>3.113439</td>\n",
       "      <td>7.263286</td>\n",
       "    </tr>\n",
       "    <tr>\n",
       "      <th>6</th>\n",
       "      <td>A8</td>\n",
       "      <td>2.00</td>\n",
       "      <td>0.4000</td>\n",
       "      <td>309</td>\n",
       "      <td>275</td>\n",
       "      <td>285</td>\n",
       "      <td>11.2</td>\n",
       "      <td>5.123307</td>\n",
       "      <td>2.186088</td>\n",
       "      <td>6.076693</td>\n",
       "    </tr>\n",
       "    <tr>\n",
       "      <th>7</th>\n",
       "      <td>A9</td>\n",
       "      <td>1.90</td>\n",
       "      <td>0.4128</td>\n",
       "      <td>321</td>\n",
       "      <td>285</td>\n",
       "      <td>280</td>\n",
       "      <td>9.2</td>\n",
       "      <td>5.022890</td>\n",
       "      <td>1.831615</td>\n",
       "      <td>4.177110</td>\n",
       "    </tr>\n",
       "    <tr>\n",
       "      <th>8</th>\n",
       "      <td>A10</td>\n",
       "      <td>1.45</td>\n",
       "      <td>0.4082</td>\n",
       "      <td>245</td>\n",
       "      <td>255</td>\n",
       "      <td>259</td>\n",
       "      <td>9.5</td>\n",
       "      <td>3.790542</td>\n",
       "      <td>2.506238</td>\n",
       "      <td>5.709458</td>\n",
       "    </tr>\n",
       "    <tr>\n",
       "      <th>9</th>\n",
       "      <td>A11</td>\n",
       "      <td>2.00</td>\n",
       "      <td>0.4128</td>\n",
       "      <td>275</td>\n",
       "      <td>267</td>\n",
       "      <td>270</td>\n",
       "      <td>10.5</td>\n",
       "      <td>5.287252</td>\n",
       "      <td>1.985909</td>\n",
       "      <td>5.212748</td>\n",
       "    </tr>\n",
       "  </tbody>\n",
       "</table>\n",
       "</div>"
      ],
      "text/plain": [
       "  Name     p  C NaOH  Khối lượng(g)  Đường kính ngang(mm)  Đường kính dọc(mm)  \\\n",
       "0   A1  1.90  0.4000            255                   257                 262   \n",
       "1   A2  1.20  0.4000            325                   288                 278   \n",
       "2   A3  2.30  0.4000            185                   235                 237   \n",
       "3   A4  1.40  0.4128            203                   245                 245   \n",
       "4   A5  1.20  0.4000            229                   253                 249   \n",
       "5   A7  1.30  0.4128            357                   305                 290   \n",
       "6   A8  2.00  0.4000            309                   275                 285   \n",
       "7   A9  1.90  0.4128            321                   285                 280   \n",
       "8  A10  1.45  0.4082            245                   255                 259   \n",
       "9  A11  2.00  0.4128            275                   267                 270   \n",
       "\n",
       "   Độ đường (Brix %)    TA (%)   Brix:TA     BrmTA  \n",
       "0               10.9  4.867141  2.239508  6.032859  \n",
       "1                9.8  3.073984  3.188045  6.726016  \n",
       "2               11.0  5.891803  1.867001  5.108197  \n",
       "3                9.0  3.701077  2.431725  5.298923  \n",
       "4               10.9  3.073984  3.545887  7.826016  \n",
       "5               10.7  3.436714  3.113439  7.263286  \n",
       "6               11.2  5.123307  2.186088  6.076693  \n",
       "7                9.2  5.022890  1.831615  4.177110  \n",
       "8                9.5  3.790542  2.506238  5.709458  \n",
       "9               10.5  5.287252  1.985909  5.212748  "
      ]
     },
     "execution_count": 23,
     "metadata": {},
     "output_type": "execute_result"
    }
   ],
   "source": [
    "raw_df.head(10)"
   ]
  },
  {
   "cell_type": "code",
   "execution_count": 24,
   "metadata": {},
   "outputs": [
    {
     "data": {
      "text/plain": [
       "Index(['Name', 'p', 'C NaOH', 'Khối lượng(g)', 'Đường kính ngang(mm)',\n",
       "       'Đường kính dọc(mm)', 'Độ đường (Brix %)', 'TA (%)', 'Brix:TA',\n",
       "       'BrmTA'],\n",
       "      dtype='object')"
      ]
     },
     "execution_count": 24,
     "metadata": {},
     "output_type": "execute_result"
    }
   ],
   "source": [
    "raw_df.columns"
   ]
  },
  {
   "cell_type": "code",
   "execution_count": 25,
   "metadata": {},
   "outputs": [
    {
     "data": {
      "text/plain": [
       "(81, 10)"
      ]
     },
     "execution_count": 25,
     "metadata": {},
     "output_type": "execute_result"
    }
   ],
   "source": [
    "raw_df.shape"
   ]
  },
  {
   "cell_type": "code",
   "execution_count": 26,
   "metadata": {},
   "outputs": [],
   "source": [
    "new_column_names = {\n",
    "    \"Name\": \"name\",\n",
    "    \"p\": \"v_naoh\",\n",
    "    \"C NaOH\": \"c_naoh\",\n",
    "    \"Khối lượng(g)\": \"mass\",\n",
    "    \"Đường kính ngang(mm)\": \"h_diameter\",\n",
    "    \"Đường kính dọc(mm)\": \"v_diameter\",\n",
    "    \"Độ đường (Brix %)\": \"brix\",\n",
    "    \"TA (%)\": \"ta\",\n",
    "    \"Brix:TA\": \"brix_ta\",\n",
    "    \"BrmTA\": \"brm_ta\",\n",
    "}\n",
    "\n",
    "std_col_name_df = raw_df.rename(columns=new_column_names)"
   ]
  },
  {
   "cell_type": "code",
   "execution_count": 27,
   "metadata": {},
   "outputs": [
    {
     "data": {
      "text/html": [
       "<div>\n",
       "<style scoped>\n",
       "    .dataframe tbody tr th:only-of-type {\n",
       "        vertical-align: middle;\n",
       "    }\n",
       "\n",
       "    .dataframe tbody tr th {\n",
       "        vertical-align: top;\n",
       "    }\n",
       "\n",
       "    .dataframe thead th {\n",
       "        text-align: right;\n",
       "    }\n",
       "</style>\n",
       "<table border=\"1\" class=\"dataframe\">\n",
       "  <thead>\n",
       "    <tr style=\"text-align: right;\">\n",
       "      <th></th>\n",
       "      <th>name</th>\n",
       "      <th>v_naoh</th>\n",
       "      <th>c_naoh</th>\n",
       "      <th>mass</th>\n",
       "      <th>h_diameter</th>\n",
       "      <th>v_diameter</th>\n",
       "      <th>brix</th>\n",
       "      <th>ta</th>\n",
       "      <th>brix_ta</th>\n",
       "      <th>brm_ta</th>\n",
       "    </tr>\n",
       "  </thead>\n",
       "  <tbody>\n",
       "    <tr>\n",
       "      <th>0</th>\n",
       "      <td>A1</td>\n",
       "      <td>1.90</td>\n",
       "      <td>0.4000</td>\n",
       "      <td>255</td>\n",
       "      <td>257</td>\n",
       "      <td>262</td>\n",
       "      <td>10.9</td>\n",
       "      <td>4.867141</td>\n",
       "      <td>2.239508</td>\n",
       "      <td>6.032859</td>\n",
       "    </tr>\n",
       "    <tr>\n",
       "      <th>1</th>\n",
       "      <td>A2</td>\n",
       "      <td>1.20</td>\n",
       "      <td>0.4000</td>\n",
       "      <td>325</td>\n",
       "      <td>288</td>\n",
       "      <td>278</td>\n",
       "      <td>9.8</td>\n",
       "      <td>3.073984</td>\n",
       "      <td>3.188045</td>\n",
       "      <td>6.726016</td>\n",
       "    </tr>\n",
       "    <tr>\n",
       "      <th>2</th>\n",
       "      <td>A3</td>\n",
       "      <td>2.30</td>\n",
       "      <td>0.4000</td>\n",
       "      <td>185</td>\n",
       "      <td>235</td>\n",
       "      <td>237</td>\n",
       "      <td>11.0</td>\n",
       "      <td>5.891803</td>\n",
       "      <td>1.867001</td>\n",
       "      <td>5.108197</td>\n",
       "    </tr>\n",
       "    <tr>\n",
       "      <th>3</th>\n",
       "      <td>A4</td>\n",
       "      <td>1.40</td>\n",
       "      <td>0.4128</td>\n",
       "      <td>203</td>\n",
       "      <td>245</td>\n",
       "      <td>245</td>\n",
       "      <td>9.0</td>\n",
       "      <td>3.701077</td>\n",
       "      <td>2.431725</td>\n",
       "      <td>5.298923</td>\n",
       "    </tr>\n",
       "    <tr>\n",
       "      <th>4</th>\n",
       "      <td>A5</td>\n",
       "      <td>1.20</td>\n",
       "      <td>0.4000</td>\n",
       "      <td>229</td>\n",
       "      <td>253</td>\n",
       "      <td>249</td>\n",
       "      <td>10.9</td>\n",
       "      <td>3.073984</td>\n",
       "      <td>3.545887</td>\n",
       "      <td>7.826016</td>\n",
       "    </tr>\n",
       "    <tr>\n",
       "      <th>5</th>\n",
       "      <td>A7</td>\n",
       "      <td>1.30</td>\n",
       "      <td>0.4128</td>\n",
       "      <td>357</td>\n",
       "      <td>305</td>\n",
       "      <td>290</td>\n",
       "      <td>10.7</td>\n",
       "      <td>3.436714</td>\n",
       "      <td>3.113439</td>\n",
       "      <td>7.263286</td>\n",
       "    </tr>\n",
       "    <tr>\n",
       "      <th>6</th>\n",
       "      <td>A8</td>\n",
       "      <td>2.00</td>\n",
       "      <td>0.4000</td>\n",
       "      <td>309</td>\n",
       "      <td>275</td>\n",
       "      <td>285</td>\n",
       "      <td>11.2</td>\n",
       "      <td>5.123307</td>\n",
       "      <td>2.186088</td>\n",
       "      <td>6.076693</td>\n",
       "    </tr>\n",
       "    <tr>\n",
       "      <th>7</th>\n",
       "      <td>A9</td>\n",
       "      <td>1.90</td>\n",
       "      <td>0.4128</td>\n",
       "      <td>321</td>\n",
       "      <td>285</td>\n",
       "      <td>280</td>\n",
       "      <td>9.2</td>\n",
       "      <td>5.022890</td>\n",
       "      <td>1.831615</td>\n",
       "      <td>4.177110</td>\n",
       "    </tr>\n",
       "    <tr>\n",
       "      <th>8</th>\n",
       "      <td>A10</td>\n",
       "      <td>1.45</td>\n",
       "      <td>0.4082</td>\n",
       "      <td>245</td>\n",
       "      <td>255</td>\n",
       "      <td>259</td>\n",
       "      <td>9.5</td>\n",
       "      <td>3.790542</td>\n",
       "      <td>2.506238</td>\n",
       "      <td>5.709458</td>\n",
       "    </tr>\n",
       "    <tr>\n",
       "      <th>9</th>\n",
       "      <td>A11</td>\n",
       "      <td>2.00</td>\n",
       "      <td>0.4128</td>\n",
       "      <td>275</td>\n",
       "      <td>267</td>\n",
       "      <td>270</td>\n",
       "      <td>10.5</td>\n",
       "      <td>5.287252</td>\n",
       "      <td>1.985909</td>\n",
       "      <td>5.212748</td>\n",
       "    </tr>\n",
       "  </tbody>\n",
       "</table>\n",
       "</div>"
      ],
      "text/plain": [
       "  name  v_naoh  c_naoh  mass  h_diameter  v_diameter  brix        ta  \\\n",
       "0   A1    1.90  0.4000   255         257         262  10.9  4.867141   \n",
       "1   A2    1.20  0.4000   325         288         278   9.8  3.073984   \n",
       "2   A3    2.30  0.4000   185         235         237  11.0  5.891803   \n",
       "3   A4    1.40  0.4128   203         245         245   9.0  3.701077   \n",
       "4   A5    1.20  0.4000   229         253         249  10.9  3.073984   \n",
       "5   A7    1.30  0.4128   357         305         290  10.7  3.436714   \n",
       "6   A8    2.00  0.4000   309         275         285  11.2  5.123307   \n",
       "7   A9    1.90  0.4128   321         285         280   9.2  5.022890   \n",
       "8  A10    1.45  0.4082   245         255         259   9.5  3.790542   \n",
       "9  A11    2.00  0.4128   275         267         270  10.5  5.287252   \n",
       "\n",
       "    brix_ta    brm_ta  \n",
       "0  2.239508  6.032859  \n",
       "1  3.188045  6.726016  \n",
       "2  1.867001  5.108197  \n",
       "3  2.431725  5.298923  \n",
       "4  3.545887  7.826016  \n",
       "5  3.113439  7.263286  \n",
       "6  2.186088  6.076693  \n",
       "7  1.831615  4.177110  \n",
       "8  2.506238  5.709458  \n",
       "9  1.985909  5.212748  "
      ]
     },
     "execution_count": 27,
     "metadata": {},
     "output_type": "execute_result"
    }
   ],
   "source": [
    "std_col_name_df.head(10)"
   ]
  },
  {
   "cell_type": "code",
   "execution_count": 28,
   "metadata": {},
   "outputs": [],
   "source": [
    "std_col_name_dataset = Dataset(\"orange_std_col_name\", std_col_name_df, ScalerType.Raw_)"
   ]
  },
  {
   "cell_type": "code",
   "execution_count": 29,
   "metadata": {},
   "outputs": [
    {
     "name": "stdout",
     "output_type": "stream",
     "text": [
      "['name']\n",
      "['v_naoh', 'c_naoh', 'mass', 'h_diameter', 'v_diameter', 'brix', 'ta', 'brix_ta', 'brm_ta']\n"
     ]
    },
    {
     "data": {
      "text/html": [
       "<div>\n",
       "<style scoped>\n",
       "    .dataframe tbody tr th:only-of-type {\n",
       "        vertical-align: middle;\n",
       "    }\n",
       "\n",
       "    .dataframe tbody tr th {\n",
       "        vertical-align: top;\n",
       "    }\n",
       "\n",
       "    .dataframe thead th {\n",
       "        text-align: right;\n",
       "    }\n",
       "</style>\n",
       "<table border=\"1\" class=\"dataframe\">\n",
       "  <thead>\n",
       "    <tr style=\"text-align: right;\">\n",
       "      <th></th>\n",
       "      <th>name</th>\n",
       "      <th>v_naoh</th>\n",
       "      <th>c_naoh</th>\n",
       "      <th>mass</th>\n",
       "      <th>h_diameter</th>\n",
       "      <th>v_diameter</th>\n",
       "      <th>brix</th>\n",
       "      <th>ta</th>\n",
       "      <th>brix_ta</th>\n",
       "      <th>brm_ta</th>\n",
       "    </tr>\n",
       "  </thead>\n",
       "  <tbody>\n",
       "    <tr>\n",
       "      <th>0</th>\n",
       "      <td>A1</td>\n",
       "      <td>1.90</td>\n",
       "      <td>0.4000</td>\n",
       "      <td>255</td>\n",
       "      <td>257</td>\n",
       "      <td>262</td>\n",
       "      <td>10.9</td>\n",
       "      <td>4.867141</td>\n",
       "      <td>2.239508</td>\n",
       "      <td>6.032859</td>\n",
       "    </tr>\n",
       "    <tr>\n",
       "      <th>1</th>\n",
       "      <td>A2</td>\n",
       "      <td>1.20</td>\n",
       "      <td>0.4000</td>\n",
       "      <td>325</td>\n",
       "      <td>288</td>\n",
       "      <td>278</td>\n",
       "      <td>9.8</td>\n",
       "      <td>3.073984</td>\n",
       "      <td>3.188045</td>\n",
       "      <td>6.726016</td>\n",
       "    </tr>\n",
       "    <tr>\n",
       "      <th>2</th>\n",
       "      <td>A3</td>\n",
       "      <td>2.30</td>\n",
       "      <td>0.4000</td>\n",
       "      <td>185</td>\n",
       "      <td>235</td>\n",
       "      <td>237</td>\n",
       "      <td>11.0</td>\n",
       "      <td>5.891803</td>\n",
       "      <td>1.867001</td>\n",
       "      <td>5.108197</td>\n",
       "    </tr>\n",
       "    <tr>\n",
       "      <th>3</th>\n",
       "      <td>A4</td>\n",
       "      <td>1.40</td>\n",
       "      <td>0.4128</td>\n",
       "      <td>203</td>\n",
       "      <td>245</td>\n",
       "      <td>245</td>\n",
       "      <td>9.0</td>\n",
       "      <td>3.701077</td>\n",
       "      <td>2.431725</td>\n",
       "      <td>5.298923</td>\n",
       "    </tr>\n",
       "    <tr>\n",
       "      <th>4</th>\n",
       "      <td>A5</td>\n",
       "      <td>1.20</td>\n",
       "      <td>0.4000</td>\n",
       "      <td>229</td>\n",
       "      <td>253</td>\n",
       "      <td>249</td>\n",
       "      <td>10.9</td>\n",
       "      <td>3.073984</td>\n",
       "      <td>3.545887</td>\n",
       "      <td>7.826016</td>\n",
       "    </tr>\n",
       "    <tr>\n",
       "      <th>...</th>\n",
       "      <td>...</td>\n",
       "      <td>...</td>\n",
       "      <td>...</td>\n",
       "      <td>...</td>\n",
       "      <td>...</td>\n",
       "      <td>...</td>\n",
       "      <td>...</td>\n",
       "      <td>...</td>\n",
       "      <td>...</td>\n",
       "      <td>...</td>\n",
       "    </tr>\n",
       "    <tr>\n",
       "      <th>76</th>\n",
       "      <td>C24</td>\n",
       "      <td>1.60</td>\n",
       "      <td>0.4016</td>\n",
       "      <td>177</td>\n",
       "      <td>225</td>\n",
       "      <td>216</td>\n",
       "      <td>12.5</td>\n",
       "      <td>4.115040</td>\n",
       "      <td>3.037638</td>\n",
       "      <td>8.384960</td>\n",
       "    </tr>\n",
       "    <tr>\n",
       "      <th>77</th>\n",
       "      <td>C25</td>\n",
       "      <td>1.60</td>\n",
       "      <td>0.4016</td>\n",
       "      <td>173</td>\n",
       "      <td>216</td>\n",
       "      <td>220</td>\n",
       "      <td>11.1</td>\n",
       "      <td>4.115040</td>\n",
       "      <td>2.697422</td>\n",
       "      <td>6.984960</td>\n",
       "    </tr>\n",
       "    <tr>\n",
       "      <th>78</th>\n",
       "      <td>C26</td>\n",
       "      <td>0.95</td>\n",
       "      <td>0.4016</td>\n",
       "      <td>126</td>\n",
       "      <td>195</td>\n",
       "      <td>197</td>\n",
       "      <td>12.8</td>\n",
       "      <td>2.443305</td>\n",
       "      <td>5.238806</td>\n",
       "      <td>10.356695</td>\n",
       "    </tr>\n",
       "    <tr>\n",
       "      <th>79</th>\n",
       "      <td>C28</td>\n",
       "      <td>1.70</td>\n",
       "      <td>0.4016</td>\n",
       "      <td>181</td>\n",
       "      <td>216</td>\n",
       "      <td>232</td>\n",
       "      <td>11.8</td>\n",
       "      <td>4.372230</td>\n",
       "      <td>2.698852</td>\n",
       "      <td>7.427770</td>\n",
       "    </tr>\n",
       "    <tr>\n",
       "      <th>80</th>\n",
       "      <td>C29</td>\n",
       "      <td>1.35</td>\n",
       "      <td>0.4230</td>\n",
       "      <td>166</td>\n",
       "      <td>214</td>\n",
       "      <td>214</td>\n",
       "      <td>12.3</td>\n",
       "      <td>3.657080</td>\n",
       "      <td>3.363339</td>\n",
       "      <td>8.642920</td>\n",
       "    </tr>\n",
       "  </tbody>\n",
       "</table>\n",
       "<p>81 rows × 10 columns</p>\n",
       "</div>"
      ],
      "text/plain": [
       "   name  v_naoh  c_naoh  mass  h_diameter  v_diameter  brix        ta  \\\n",
       "0    A1    1.90  0.4000   255         257         262  10.9  4.867141   \n",
       "1    A2    1.20  0.4000   325         288         278   9.8  3.073984   \n",
       "2    A3    2.30  0.4000   185         235         237  11.0  5.891803   \n",
       "3    A4    1.40  0.4128   203         245         245   9.0  3.701077   \n",
       "4    A5    1.20  0.4000   229         253         249  10.9  3.073984   \n",
       "..  ...     ...     ...   ...         ...         ...   ...       ...   \n",
       "76  C24    1.60  0.4016   177         225         216  12.5  4.115040   \n",
       "77  C25    1.60  0.4016   173         216         220  11.1  4.115040   \n",
       "78  C26    0.95  0.4016   126         195         197  12.8  2.443305   \n",
       "79  C28    1.70  0.4016   181         216         232  11.8  4.372230   \n",
       "80  C29    1.35  0.4230   166         214         214  12.3  3.657080   \n",
       "\n",
       "     brix_ta     brm_ta  \n",
       "0   2.239508   6.032859  \n",
       "1   3.188045   6.726016  \n",
       "2   1.867001   5.108197  \n",
       "3   2.431725   5.298923  \n",
       "4   3.545887   7.826016  \n",
       "..       ...        ...  \n",
       "76  3.037638   8.384960  \n",
       "77  2.697422   6.984960  \n",
       "78  5.238806  10.356695  \n",
       "79  2.698852   7.427770  \n",
       "80  3.363339   8.642920  \n",
       "\n",
       "[81 rows x 10 columns]"
      ]
     },
     "execution_count": 29,
     "metadata": {},
     "output_type": "execute_result"
    }
   ],
   "source": [
    "print(std_col_name_dataset.categorical_cols)\n",
    "print(std_col_name_dataset.numeric_cols)\n",
    "std_col_name_dataset.dataframe"
   ]
  },
  {
   "cell_type": "code",
   "execution_count": 30,
   "metadata": {},
   "outputs": [],
   "source": [
    "list_dataset[\"orange_std_col_name\"] = std_col_name_dataset"
   ]
  },
  {
   "cell_type": "code",
   "execution_count": 31,
   "metadata": {},
   "outputs": [
    {
     "data": {
      "text/html": [
       "<div>\n",
       "<style scoped>\n",
       "    .dataframe tbody tr th:only-of-type {\n",
       "        vertical-align: middle;\n",
       "    }\n",
       "\n",
       "    .dataframe tbody tr th {\n",
       "        vertical-align: top;\n",
       "    }\n",
       "\n",
       "    .dataframe thead th {\n",
       "        text-align: right;\n",
       "    }\n",
       "</style>\n",
       "<table border=\"1\" class=\"dataframe\">\n",
       "  <thead>\n",
       "    <tr style=\"text-align: right;\">\n",
       "      <th></th>\n",
       "      <th>name</th>\n",
       "      <th>v_naoh</th>\n",
       "      <th>c_naoh</th>\n",
       "      <th>mass</th>\n",
       "      <th>h_diameter</th>\n",
       "      <th>v_diameter</th>\n",
       "      <th>brix</th>\n",
       "      <th>ta</th>\n",
       "      <th>brix_ta</th>\n",
       "      <th>brm_ta</th>\n",
       "    </tr>\n",
       "  </thead>\n",
       "  <tbody>\n",
       "    <tr>\n",
       "      <th>0</th>\n",
       "      <td>A1</td>\n",
       "      <td>1.90</td>\n",
       "      <td>0.4000</td>\n",
       "      <td>255</td>\n",
       "      <td>257</td>\n",
       "      <td>262</td>\n",
       "      <td>10.9</td>\n",
       "      <td>4.867141</td>\n",
       "      <td>2.239508</td>\n",
       "      <td>6.032859</td>\n",
       "    </tr>\n",
       "    <tr>\n",
       "      <th>1</th>\n",
       "      <td>A2</td>\n",
       "      <td>1.20</td>\n",
       "      <td>0.4000</td>\n",
       "      <td>325</td>\n",
       "      <td>288</td>\n",
       "      <td>278</td>\n",
       "      <td>9.8</td>\n",
       "      <td>3.073984</td>\n",
       "      <td>3.188045</td>\n",
       "      <td>6.726016</td>\n",
       "    </tr>\n",
       "    <tr>\n",
       "      <th>2</th>\n",
       "      <td>A3</td>\n",
       "      <td>2.30</td>\n",
       "      <td>0.4000</td>\n",
       "      <td>185</td>\n",
       "      <td>235</td>\n",
       "      <td>237</td>\n",
       "      <td>11.0</td>\n",
       "      <td>5.891803</td>\n",
       "      <td>1.867001</td>\n",
       "      <td>5.108197</td>\n",
       "    </tr>\n",
       "    <tr>\n",
       "      <th>3</th>\n",
       "      <td>A4</td>\n",
       "      <td>1.40</td>\n",
       "      <td>0.4128</td>\n",
       "      <td>203</td>\n",
       "      <td>245</td>\n",
       "      <td>245</td>\n",
       "      <td>9.0</td>\n",
       "      <td>3.701077</td>\n",
       "      <td>2.431725</td>\n",
       "      <td>5.298923</td>\n",
       "    </tr>\n",
       "    <tr>\n",
       "      <th>4</th>\n",
       "      <td>A5</td>\n",
       "      <td>1.20</td>\n",
       "      <td>0.4000</td>\n",
       "      <td>229</td>\n",
       "      <td>253</td>\n",
       "      <td>249</td>\n",
       "      <td>10.9</td>\n",
       "      <td>3.073984</td>\n",
       "      <td>3.545887</td>\n",
       "      <td>7.826016</td>\n",
       "    </tr>\n",
       "    <tr>\n",
       "      <th>5</th>\n",
       "      <td>A7</td>\n",
       "      <td>1.30</td>\n",
       "      <td>0.4128</td>\n",
       "      <td>357</td>\n",
       "      <td>305</td>\n",
       "      <td>290</td>\n",
       "      <td>10.7</td>\n",
       "      <td>3.436714</td>\n",
       "      <td>3.113439</td>\n",
       "      <td>7.263286</td>\n",
       "    </tr>\n",
       "    <tr>\n",
       "      <th>6</th>\n",
       "      <td>A8</td>\n",
       "      <td>2.00</td>\n",
       "      <td>0.4000</td>\n",
       "      <td>309</td>\n",
       "      <td>275</td>\n",
       "      <td>285</td>\n",
       "      <td>11.2</td>\n",
       "      <td>5.123307</td>\n",
       "      <td>2.186088</td>\n",
       "      <td>6.076693</td>\n",
       "    </tr>\n",
       "    <tr>\n",
       "      <th>7</th>\n",
       "      <td>A9</td>\n",
       "      <td>1.90</td>\n",
       "      <td>0.4128</td>\n",
       "      <td>321</td>\n",
       "      <td>285</td>\n",
       "      <td>280</td>\n",
       "      <td>9.2</td>\n",
       "      <td>5.022890</td>\n",
       "      <td>1.831615</td>\n",
       "      <td>4.177110</td>\n",
       "    </tr>\n",
       "    <tr>\n",
       "      <th>8</th>\n",
       "      <td>A10</td>\n",
       "      <td>1.45</td>\n",
       "      <td>0.4082</td>\n",
       "      <td>245</td>\n",
       "      <td>255</td>\n",
       "      <td>259</td>\n",
       "      <td>9.5</td>\n",
       "      <td>3.790542</td>\n",
       "      <td>2.506238</td>\n",
       "      <td>5.709458</td>\n",
       "    </tr>\n",
       "    <tr>\n",
       "      <th>9</th>\n",
       "      <td>A11</td>\n",
       "      <td>2.00</td>\n",
       "      <td>0.4128</td>\n",
       "      <td>275</td>\n",
       "      <td>267</td>\n",
       "      <td>270</td>\n",
       "      <td>10.5</td>\n",
       "      <td>5.287252</td>\n",
       "      <td>1.985909</td>\n",
       "      <td>5.212748</td>\n",
       "    </tr>\n",
       "  </tbody>\n",
       "</table>\n",
       "</div>"
      ],
      "text/plain": [
       "  name  v_naoh  c_naoh  mass  h_diameter  v_diameter  brix        ta  \\\n",
       "0   A1    1.90  0.4000   255         257         262  10.9  4.867141   \n",
       "1   A2    1.20  0.4000   325         288         278   9.8  3.073984   \n",
       "2   A3    2.30  0.4000   185         235         237  11.0  5.891803   \n",
       "3   A4    1.40  0.4128   203         245         245   9.0  3.701077   \n",
       "4   A5    1.20  0.4000   229         253         249  10.9  3.073984   \n",
       "5   A7    1.30  0.4128   357         305         290  10.7  3.436714   \n",
       "6   A8    2.00  0.4000   309         275         285  11.2  5.123307   \n",
       "7   A9    1.90  0.4128   321         285         280   9.2  5.022890   \n",
       "8  A10    1.45  0.4082   245         255         259   9.5  3.790542   \n",
       "9  A11    2.00  0.4128   275         267         270  10.5  5.287252   \n",
       "\n",
       "    brix_ta    brm_ta  \n",
       "0  2.239508  6.032859  \n",
       "1  3.188045  6.726016  \n",
       "2  1.867001  5.108197  \n",
       "3  2.431725  5.298923  \n",
       "4  3.545887  7.826016  \n",
       "5  3.113439  7.263286  \n",
       "6  2.186088  6.076693  \n",
       "7  1.831615  4.177110  \n",
       "8  2.506238  5.709458  \n",
       "9  1.985909  5.212748  "
      ]
     },
     "execution_count": 31,
     "metadata": {},
     "output_type": "execute_result"
    }
   ],
   "source": [
    "list_dataset[\"orange_std_col_name\"].get_dataframe().head(10)"
   ]
  },
  {
   "cell_type": "code",
   "execution_count": 32,
   "metadata": {},
   "outputs": [],
   "source": [
    "if GENERATE_PLOTS:\n",
    "    plot_along_dataset(list_dataset[\"std_col_name\"], 3, 3, (12, 12))"
   ]
  },
  {
   "cell_type": "markdown",
   "metadata": {},
   "source": [
    "#### From the shape of lines in graph \"mass\", \"h_diameter\", \"v_diameter\" and \"brix\", we can see the lines could be divided into 3 levels along dataset. We assume that there are 3 types of data in the dataset. We could double check the name / label of dataset."
   ]
  },
  {
   "cell_type": "code",
   "execution_count": 33,
   "metadata": {},
   "outputs": [
    {
     "data": {
      "text/plain": [
       "Index(['name', 'v_naoh', 'c_naoh', 'mass', 'h_diameter', 'v_diameter', 'brix',\n",
       "       'ta', 'brix_ta', 'brm_ta'],\n",
       "      dtype='object')"
      ]
     },
     "execution_count": 33,
     "metadata": {},
     "output_type": "execute_result"
    }
   ],
   "source": [
    "list_dataset[\"orange_std_col_name\"].get_dataframe().columns"
   ]
  },
  {
   "cell_type": "code",
   "execution_count": 34,
   "metadata": {},
   "outputs": [
    {
     "name": "stdout",
     "output_type": "stream",
     "text": [
      "['A1', 'A2', 'A3', 'A4', 'A5', 'A7', 'A8', 'A9', 'A10', 'A11', 'A13', 'A14', 'A15', 'A16', 'A17', 'A18', 'A19', 'A20', 'A21', 'A24', 'A25', 'A26', 'A27', 'A28', 'A29', 'A30', 'B1', 'B2', 'B3', 'B4', 'B5', 'B6', 'B7', 'B8', 'B9', 'B10', 'B11', 'B12', 'B13', 'B14', 'B15', 'B16', 'B17', 'B18', 'B19', 'B20', 'B21', 'B22', 'B23', 'B24', 'B25', 'B26', 'B27', 'B28', 'B29', 'B30', 'C1', 'C2', 'C3', 'C4', 'C5', 'C6', 'C8', 'C9', 'C10', 'C11', 'C12', 'C14', 'C15', 'C16', 'C17', 'C19', 'C20', 'C21', 'C22', 'C23', 'C24', 'C25', 'C26', 'C28', 'C29']\n"
     ]
    }
   ],
   "source": [
    "print(list_dataset[\"orange_std_col_name\"].get_dataframe()[\"name\"].to_list())"
   ]
  },
  {
   "cell_type": "markdown",
   "metadata": {},
   "source": [
    "We count the number of type to see whether the amount is equivalent to the shape of lines in the following graphs: \"mass\", \"h_diameter\", \"v_diameter\" and \"brix\""
   ]
  },
  {
   "cell_type": "code",
   "execution_count": 35,
   "metadata": {},
   "outputs": [
    {
     "data": {
      "text/plain": [
       "type\n",
       "A    26\n",
       "B    30\n",
       "C    25\n",
       "Name: count, dtype: int64"
      ]
     },
     "execution_count": 35,
     "metadata": {},
     "output_type": "execute_result"
    }
   ],
   "source": [
    "import re\n",
    "\n",
    "data_type = []\n",
    "for name in list_dataset[\"orange_std_col_name\"].get_dataframe()[\"name\"].str.upper():\n",
    "    data_type.append(re.findall(\"[A-Z]\", name)[0])\n",
    "\n",
    "data_type = pd.DataFrame(data_type, columns=[\"type\"])\n",
    "data_type[\"count\"] = 1\n",
    "data_type.groupby([\"type\"]).count()[\"count\"]"
   ]
  },
  {
   "cell_type": "code",
   "execution_count": 36,
   "metadata": {},
   "outputs": [],
   "source": [
    "list_dataset[\"orange_std_col_name\"].concat_dataframe(data_type[\"type\"])"
   ]
  },
  {
   "cell_type": "code",
   "execution_count": 37,
   "metadata": {},
   "outputs": [
    {
     "data": {
      "text/html": [
       "<div>\n",
       "<style scoped>\n",
       "    .dataframe tbody tr th:only-of-type {\n",
       "        vertical-align: middle;\n",
       "    }\n",
       "\n",
       "    .dataframe tbody tr th {\n",
       "        vertical-align: top;\n",
       "    }\n",
       "\n",
       "    .dataframe thead th {\n",
       "        text-align: right;\n",
       "    }\n",
       "</style>\n",
       "<table border=\"1\" class=\"dataframe\">\n",
       "  <thead>\n",
       "    <tr style=\"text-align: right;\">\n",
       "      <th></th>\n",
       "      <th>name</th>\n",
       "      <th>v_naoh</th>\n",
       "      <th>c_naoh</th>\n",
       "      <th>mass</th>\n",
       "      <th>h_diameter</th>\n",
       "      <th>v_diameter</th>\n",
       "      <th>brix</th>\n",
       "      <th>ta</th>\n",
       "      <th>brix_ta</th>\n",
       "      <th>brm_ta</th>\n",
       "      <th>type</th>\n",
       "    </tr>\n",
       "  </thead>\n",
       "  <tbody>\n",
       "    <tr>\n",
       "      <th>0</th>\n",
       "      <td>A1</td>\n",
       "      <td>1.90</td>\n",
       "      <td>0.4000</td>\n",
       "      <td>255</td>\n",
       "      <td>257</td>\n",
       "      <td>262</td>\n",
       "      <td>10.9</td>\n",
       "      <td>4.867141</td>\n",
       "      <td>2.239508</td>\n",
       "      <td>6.032859</td>\n",
       "      <td>A</td>\n",
       "    </tr>\n",
       "    <tr>\n",
       "      <th>1</th>\n",
       "      <td>A2</td>\n",
       "      <td>1.20</td>\n",
       "      <td>0.4000</td>\n",
       "      <td>325</td>\n",
       "      <td>288</td>\n",
       "      <td>278</td>\n",
       "      <td>9.8</td>\n",
       "      <td>3.073984</td>\n",
       "      <td>3.188045</td>\n",
       "      <td>6.726016</td>\n",
       "      <td>A</td>\n",
       "    </tr>\n",
       "    <tr>\n",
       "      <th>2</th>\n",
       "      <td>A3</td>\n",
       "      <td>2.30</td>\n",
       "      <td>0.4000</td>\n",
       "      <td>185</td>\n",
       "      <td>235</td>\n",
       "      <td>237</td>\n",
       "      <td>11.0</td>\n",
       "      <td>5.891803</td>\n",
       "      <td>1.867001</td>\n",
       "      <td>5.108197</td>\n",
       "      <td>A</td>\n",
       "    </tr>\n",
       "    <tr>\n",
       "      <th>3</th>\n",
       "      <td>A4</td>\n",
       "      <td>1.40</td>\n",
       "      <td>0.4128</td>\n",
       "      <td>203</td>\n",
       "      <td>245</td>\n",
       "      <td>245</td>\n",
       "      <td>9.0</td>\n",
       "      <td>3.701077</td>\n",
       "      <td>2.431725</td>\n",
       "      <td>5.298923</td>\n",
       "      <td>A</td>\n",
       "    </tr>\n",
       "    <tr>\n",
       "      <th>4</th>\n",
       "      <td>A5</td>\n",
       "      <td>1.20</td>\n",
       "      <td>0.4000</td>\n",
       "      <td>229</td>\n",
       "      <td>253</td>\n",
       "      <td>249</td>\n",
       "      <td>10.9</td>\n",
       "      <td>3.073984</td>\n",
       "      <td>3.545887</td>\n",
       "      <td>7.826016</td>\n",
       "      <td>A</td>\n",
       "    </tr>\n",
       "    <tr>\n",
       "      <th>5</th>\n",
       "      <td>A7</td>\n",
       "      <td>1.30</td>\n",
       "      <td>0.4128</td>\n",
       "      <td>357</td>\n",
       "      <td>305</td>\n",
       "      <td>290</td>\n",
       "      <td>10.7</td>\n",
       "      <td>3.436714</td>\n",
       "      <td>3.113439</td>\n",
       "      <td>7.263286</td>\n",
       "      <td>A</td>\n",
       "    </tr>\n",
       "    <tr>\n",
       "      <th>6</th>\n",
       "      <td>A8</td>\n",
       "      <td>2.00</td>\n",
       "      <td>0.4000</td>\n",
       "      <td>309</td>\n",
       "      <td>275</td>\n",
       "      <td>285</td>\n",
       "      <td>11.2</td>\n",
       "      <td>5.123307</td>\n",
       "      <td>2.186088</td>\n",
       "      <td>6.076693</td>\n",
       "      <td>A</td>\n",
       "    </tr>\n",
       "    <tr>\n",
       "      <th>7</th>\n",
       "      <td>A9</td>\n",
       "      <td>1.90</td>\n",
       "      <td>0.4128</td>\n",
       "      <td>321</td>\n",
       "      <td>285</td>\n",
       "      <td>280</td>\n",
       "      <td>9.2</td>\n",
       "      <td>5.022890</td>\n",
       "      <td>1.831615</td>\n",
       "      <td>4.177110</td>\n",
       "      <td>A</td>\n",
       "    </tr>\n",
       "    <tr>\n",
       "      <th>8</th>\n",
       "      <td>A10</td>\n",
       "      <td>1.45</td>\n",
       "      <td>0.4082</td>\n",
       "      <td>245</td>\n",
       "      <td>255</td>\n",
       "      <td>259</td>\n",
       "      <td>9.5</td>\n",
       "      <td>3.790542</td>\n",
       "      <td>2.506238</td>\n",
       "      <td>5.709458</td>\n",
       "      <td>A</td>\n",
       "    </tr>\n",
       "    <tr>\n",
       "      <th>9</th>\n",
       "      <td>A11</td>\n",
       "      <td>2.00</td>\n",
       "      <td>0.4128</td>\n",
       "      <td>275</td>\n",
       "      <td>267</td>\n",
       "      <td>270</td>\n",
       "      <td>10.5</td>\n",
       "      <td>5.287252</td>\n",
       "      <td>1.985909</td>\n",
       "      <td>5.212748</td>\n",
       "      <td>A</td>\n",
       "    </tr>\n",
       "  </tbody>\n",
       "</table>\n",
       "</div>"
      ],
      "text/plain": [
       "  name  v_naoh  c_naoh  mass  h_diameter  v_diameter  brix        ta  \\\n",
       "0   A1    1.90  0.4000   255         257         262  10.9  4.867141   \n",
       "1   A2    1.20  0.4000   325         288         278   9.8  3.073984   \n",
       "2   A3    2.30  0.4000   185         235         237  11.0  5.891803   \n",
       "3   A4    1.40  0.4128   203         245         245   9.0  3.701077   \n",
       "4   A5    1.20  0.4000   229         253         249  10.9  3.073984   \n",
       "5   A7    1.30  0.4128   357         305         290  10.7  3.436714   \n",
       "6   A8    2.00  0.4000   309         275         285  11.2  5.123307   \n",
       "7   A9    1.90  0.4128   321         285         280   9.2  5.022890   \n",
       "8  A10    1.45  0.4082   245         255         259   9.5  3.790542   \n",
       "9  A11    2.00  0.4128   275         267         270  10.5  5.287252   \n",
       "\n",
       "    brix_ta    brm_ta type  \n",
       "0  2.239508  6.032859    A  \n",
       "1  3.188045  6.726016    A  \n",
       "2  1.867001  5.108197    A  \n",
       "3  2.431725  5.298923    A  \n",
       "4  3.545887  7.826016    A  \n",
       "5  3.113439  7.263286    A  \n",
       "6  2.186088  6.076693    A  \n",
       "7  1.831615  4.177110    A  \n",
       "8  2.506238  5.709458    A  \n",
       "9  1.985909  5.212748    A  "
      ]
     },
     "execution_count": 37,
     "metadata": {},
     "output_type": "execute_result"
    }
   ],
   "source": [
    "list_dataset[\"orange_std_col_name\"].get_dataframe().head(10)"
   ]
  },
  {
   "cell_type": "markdown",
   "metadata": {},
   "source": [
    "## Analyze quantitative data"
   ]
  },
  {
   "cell_type": "markdown",
   "metadata": {},
   "source": [
    "### Plots for all rows"
   ]
  },
  {
   "cell_type": "code",
   "execution_count": 38,
   "metadata": {},
   "outputs": [],
   "source": [
    "if GENERATE_PLOTS:\n",
    "    plot_hist_kde_box_all_columns(list_dataset[\"orange_std_col_name\"])"
   ]
  },
  {
   "cell_type": "code",
   "execution_count": 39,
   "metadata": {},
   "outputs": [
    {
     "data": {
      "text/html": [
       "<div>\n",
       "<style scoped>\n",
       "    .dataframe tbody tr th:only-of-type {\n",
       "        vertical-align: middle;\n",
       "    }\n",
       "\n",
       "    .dataframe tbody tr th {\n",
       "        vertical-align: top;\n",
       "    }\n",
       "\n",
       "    .dataframe thead th {\n",
       "        text-align: right;\n",
       "    }\n",
       "</style>\n",
       "<table border=\"1\" class=\"dataframe\">\n",
       "  <thead>\n",
       "    <tr style=\"text-align: right;\">\n",
       "      <th></th>\n",
       "      <th>v_naoh</th>\n",
       "      <th>c_naoh</th>\n",
       "      <th>mass</th>\n",
       "      <th>h_diameter</th>\n",
       "      <th>v_diameter</th>\n",
       "      <th>brix</th>\n",
       "      <th>ta</th>\n",
       "      <th>brix_ta</th>\n",
       "      <th>brm_ta</th>\n",
       "    </tr>\n",
       "  </thead>\n",
       "  <tbody>\n",
       "    <tr>\n",
       "      <th>count</th>\n",
       "      <td>81.000000</td>\n",
       "      <td>81.000000</td>\n",
       "      <td>81.000000</td>\n",
       "      <td>81.000000</td>\n",
       "      <td>81.000000</td>\n",
       "      <td>81.000000</td>\n",
       "      <td>81.000000</td>\n",
       "      <td>81.000000</td>\n",
       "      <td>81.000000</td>\n",
       "    </tr>\n",
       "    <tr>\n",
       "      <th>mean</th>\n",
       "      <td>1.477778</td>\n",
       "      <td>0.406857</td>\n",
       "      <td>222.197531</td>\n",
       "      <td>241.777778</td>\n",
       "      <td>241.358025</td>\n",
       "      <td>11.169259</td>\n",
       "      <td>3.849815</td>\n",
       "      <td>3.024935</td>\n",
       "      <td>7.319445</td>\n",
       "    </tr>\n",
       "    <tr>\n",
       "      <th>std</th>\n",
       "      <td>0.297069</td>\n",
       "      <td>0.007092</td>\n",
       "      <td>50.582215</td>\n",
       "      <td>23.652167</td>\n",
       "      <td>22.587225</td>\n",
       "      <td>1.362702</td>\n",
       "      <td>0.774895</td>\n",
       "      <td>0.786520</td>\n",
       "      <td>1.587514</td>\n",
       "    </tr>\n",
       "    <tr>\n",
       "      <th>min</th>\n",
       "      <td>0.800000</td>\n",
       "      <td>0.400000</td>\n",
       "      <td>126.000000</td>\n",
       "      <td>195.000000</td>\n",
       "      <td>197.000000</td>\n",
       "      <td>7.400000</td>\n",
       "      <td>2.057520</td>\n",
       "      <td>1.795715</td>\n",
       "      <td>4.076693</td>\n",
       "    </tr>\n",
       "    <tr>\n",
       "      <th>25%</th>\n",
       "      <td>1.300000</td>\n",
       "      <td>0.401600</td>\n",
       "      <td>179.000000</td>\n",
       "      <td>222.000000</td>\n",
       "      <td>223.000000</td>\n",
       "      <td>10.400000</td>\n",
       "      <td>3.370111</td>\n",
       "      <td>2.512846</td>\n",
       "      <td>6.148368</td>\n",
       "    </tr>\n",
       "    <tr>\n",
       "      <th>50%</th>\n",
       "      <td>1.400000</td>\n",
       "      <td>0.404800</td>\n",
       "      <td>228.000000</td>\n",
       "      <td>242.000000</td>\n",
       "      <td>242.000000</td>\n",
       "      <td>11.100000</td>\n",
       "      <td>3.701077</td>\n",
       "      <td>2.920633</td>\n",
       "      <td>7.332125</td>\n",
       "    </tr>\n",
       "    <tr>\n",
       "      <th>75%</th>\n",
       "      <td>1.600000</td>\n",
       "      <td>0.408200</td>\n",
       "      <td>255.000000</td>\n",
       "      <td>257.000000</td>\n",
       "      <td>255.000000</td>\n",
       "      <td>12.300000</td>\n",
       "      <td>4.229802</td>\n",
       "      <td>3.371688</td>\n",
       "      <td>8.199505</td>\n",
       "    </tr>\n",
       "    <tr>\n",
       "      <th>max</th>\n",
       "      <td>2.300000</td>\n",
       "      <td>0.423000</td>\n",
       "      <td>357.000000</td>\n",
       "      <td>305.000000</td>\n",
       "      <td>290.000000</td>\n",
       "      <td>14.000000</td>\n",
       "      <td>5.891803</td>\n",
       "      <td>6.609899</td>\n",
       "      <td>11.542480</td>\n",
       "    </tr>\n",
       "  </tbody>\n",
       "</table>\n",
       "</div>"
      ],
      "text/plain": [
       "          v_naoh     c_naoh        mass  h_diameter  v_diameter       brix  \\\n",
       "count  81.000000  81.000000   81.000000   81.000000   81.000000  81.000000   \n",
       "mean    1.477778   0.406857  222.197531  241.777778  241.358025  11.169259   \n",
       "std     0.297069   0.007092   50.582215   23.652167   22.587225   1.362702   \n",
       "min     0.800000   0.400000  126.000000  195.000000  197.000000   7.400000   \n",
       "25%     1.300000   0.401600  179.000000  222.000000  223.000000  10.400000   \n",
       "50%     1.400000   0.404800  228.000000  242.000000  242.000000  11.100000   \n",
       "75%     1.600000   0.408200  255.000000  257.000000  255.000000  12.300000   \n",
       "max     2.300000   0.423000  357.000000  305.000000  290.000000  14.000000   \n",
       "\n",
       "              ta    brix_ta     brm_ta  \n",
       "count  81.000000  81.000000  81.000000  \n",
       "mean    3.849815   3.024935   7.319445  \n",
       "std     0.774895   0.786520   1.587514  \n",
       "min     2.057520   1.795715   4.076693  \n",
       "25%     3.370111   2.512846   6.148368  \n",
       "50%     3.701077   2.920633   7.332125  \n",
       "75%     4.229802   3.371688   8.199505  \n",
       "max     5.891803   6.609899  11.542480  "
      ]
     },
     "execution_count": 39,
     "metadata": {},
     "output_type": "execute_result"
    }
   ],
   "source": [
    "list_dataset[\"orange_std_col_name\"].get_dataframe().describe()"
   ]
  },
  {
   "cell_type": "code",
   "execution_count": 40,
   "metadata": {},
   "outputs": [],
   "source": [
    "if GENERATE_PLOTS:\n",
    "    plot_all_columns_group_by_a_categorical_col(list_dataset[\"orange_std_col_name\"], \"type\")"
   ]
  },
  {
   "cell_type": "markdown",
   "metadata": {},
   "source": [
    "#### From above plots, we see that \"mass\", \"h_diameter\", \"v_diameter\" and \"brm_ta\" plots have clearly patterns corresponding with types."
   ]
  },
  {
   "cell_type": "markdown",
   "metadata": {},
   "source": [
    "## Analyze qualitative data"
   ]
  },
  {
   "cell_type": "code",
   "execution_count": 41,
   "metadata": {},
   "outputs": [],
   "source": [
    "# partitions_dataframe = divide_dataframe_with_categorical_col(list_dataset[\"orange_std_col_name\"], \"type\")"
   ]
  },
  {
   "cell_type": "markdown",
   "metadata": {},
   "source": [
    "### Use Welch's t-test to see whether the data could be divided into 3 parts A, B, and C."
   ]
  },
  {
   "cell_type": "code",
   "execution_count": 42,
   "metadata": {},
   "outputs": [],
   "source": [
    "# for group in partitions_dataframe.keys():\n",
    "#     print(f\"{group}: {partitions_dataframe[group].shape}\")"
   ]
  },
  {
   "cell_type": "code",
   "execution_count": 43,
   "metadata": {},
   "outputs": [],
   "source": [
    "# partitions_dataframe[\"A\"].head(10)"
   ]
  },
  {
   "cell_type": "code",
   "execution_count": 44,
   "metadata": {},
   "outputs": [],
   "source": [
    "# columns_to_compare = [\"mass\", \"h_diameter\", \"v_diameter\"]"
   ]
  },
  {
   "cell_type": "code",
   "execution_count": 45,
   "metadata": {},
   "outputs": [],
   "source": [
    "# calculate_p_values_between_partitions(partitions_dataframe, columns_to_compare)"
   ]
  },
  {
   "cell_type": "markdown",
   "metadata": {},
   "source": [
    "### All p-values smaller than $ \\alpha $ = 0.05\n",
    "### => Conclusion from Welch's t-test: The dataset could be divided into 3 parts A, B and C"
   ]
  },
  {
   "cell_type": "markdown",
   "metadata": {},
   "source": [
    "## Matrix plots"
   ]
  },
  {
   "cell_type": "markdown",
   "metadata": {},
   "source": [
    "### Pairplots"
   ]
  },
  {
   "cell_type": "code",
   "execution_count": 46,
   "metadata": {},
   "outputs": [],
   "source": [
    "if GENERATE_PLOTS:\n",
    "    plt.figure(figsize=(16, 16))\n",
    "    sns.pairplot(list_dataset[\"orange_std_col_name\"].get_dataframe())"
   ]
  },
  {
   "cell_type": "markdown",
   "metadata": {},
   "source": [
    "#### Some potential features to explain brix are \"mass\", \"h_diameter\", \"v_diameter\", \"brix_ta\", \"brm_ta\"."
   ]
  },
  {
   "cell_type": "markdown",
   "metadata": {},
   "source": [
    "### Heatmap"
   ]
  },
  {
   "cell_type": "code",
   "execution_count": 47,
   "metadata": {},
   "outputs": [],
   "source": [
    "if GENERATE_PLOTS:\n",
    "    plt.figure(figsize=(12, 12))\n",
    "    dataframe = list_dataset[\"orange_std_col_name\"].get_dataframe()\n",
    "    numeric_cols = list_dataset[\"orange_std_col_name\"].numeric_cols\n",
    "    dataset_corr = dataframe[numeric_cols].corr()\n",
    "    sns.heatmap(dataset_corr, annot=True)"
   ]
  },
  {
   "cell_type": "markdown",
   "metadata": {},
   "source": [
    "#### => Some features that could be used for model: **mass, h_diameter, v_diameter, brix_ta, brm_ta** (quantitative) and **type** (qualitative) to explain **brix**. However, **brix_ta** and **brm_ta** are directly related to **brix**, then they will not be considered."
   ]
  },
  {
   "cell_type": "markdown",
   "metadata": {},
   "source": [
    "## Build Models"
   ]
  },
  {
   "cell_type": "markdown",
   "metadata": {},
   "source": [
    "### Create \"ohv_std_col_name\" dataframe: [\"brix\", \"mass\", \"h_diameter\", \"v_diameter\", one-hot-vector-of-type]"
   ]
  },
  {
   "cell_type": "code",
   "execution_count": 48,
   "metadata": {},
   "outputs": [
    {
     "name": "stdout",
     "output_type": "stream",
     "text": [
      "orange_std_col_name_ohv_type\n"
     ]
    },
    {
     "data": {
      "text/html": [
       "<div>\n",
       "<style scoped>\n",
       "    .dataframe tbody tr th:only-of-type {\n",
       "        vertical-align: middle;\n",
       "    }\n",
       "\n",
       "    .dataframe tbody tr th {\n",
       "        vertical-align: top;\n",
       "    }\n",
       "\n",
       "    .dataframe thead th {\n",
       "        text-align: right;\n",
       "    }\n",
       "</style>\n",
       "<table border=\"1\" class=\"dataframe\">\n",
       "  <thead>\n",
       "    <tr style=\"text-align: right;\">\n",
       "      <th></th>\n",
       "      <th>A</th>\n",
       "      <th>B</th>\n",
       "      <th>C</th>\n",
       "      <th>name</th>\n",
       "      <th>v_naoh</th>\n",
       "      <th>c_naoh</th>\n",
       "      <th>mass</th>\n",
       "      <th>h_diameter</th>\n",
       "      <th>v_diameter</th>\n",
       "      <th>brix</th>\n",
       "      <th>ta</th>\n",
       "      <th>brix_ta</th>\n",
       "      <th>brm_ta</th>\n",
       "      <th>type</th>\n",
       "    </tr>\n",
       "  </thead>\n",
       "  <tbody>\n",
       "    <tr>\n",
       "      <th>0</th>\n",
       "      <td>True</td>\n",
       "      <td>False</td>\n",
       "      <td>False</td>\n",
       "      <td>A1</td>\n",
       "      <td>1.90</td>\n",
       "      <td>0.4000</td>\n",
       "      <td>255</td>\n",
       "      <td>257</td>\n",
       "      <td>262</td>\n",
       "      <td>10.9</td>\n",
       "      <td>4.867141</td>\n",
       "      <td>2.239508</td>\n",
       "      <td>6.032859</td>\n",
       "      <td>A</td>\n",
       "    </tr>\n",
       "    <tr>\n",
       "      <th>1</th>\n",
       "      <td>True</td>\n",
       "      <td>False</td>\n",
       "      <td>False</td>\n",
       "      <td>A2</td>\n",
       "      <td>1.20</td>\n",
       "      <td>0.4000</td>\n",
       "      <td>325</td>\n",
       "      <td>288</td>\n",
       "      <td>278</td>\n",
       "      <td>9.8</td>\n",
       "      <td>3.073984</td>\n",
       "      <td>3.188045</td>\n",
       "      <td>6.726016</td>\n",
       "      <td>A</td>\n",
       "    </tr>\n",
       "    <tr>\n",
       "      <th>2</th>\n",
       "      <td>True</td>\n",
       "      <td>False</td>\n",
       "      <td>False</td>\n",
       "      <td>A3</td>\n",
       "      <td>2.30</td>\n",
       "      <td>0.4000</td>\n",
       "      <td>185</td>\n",
       "      <td>235</td>\n",
       "      <td>237</td>\n",
       "      <td>11.0</td>\n",
       "      <td>5.891803</td>\n",
       "      <td>1.867001</td>\n",
       "      <td>5.108197</td>\n",
       "      <td>A</td>\n",
       "    </tr>\n",
       "    <tr>\n",
       "      <th>3</th>\n",
       "      <td>True</td>\n",
       "      <td>False</td>\n",
       "      <td>False</td>\n",
       "      <td>A4</td>\n",
       "      <td>1.40</td>\n",
       "      <td>0.4128</td>\n",
       "      <td>203</td>\n",
       "      <td>245</td>\n",
       "      <td>245</td>\n",
       "      <td>9.0</td>\n",
       "      <td>3.701077</td>\n",
       "      <td>2.431725</td>\n",
       "      <td>5.298923</td>\n",
       "      <td>A</td>\n",
       "    </tr>\n",
       "    <tr>\n",
       "      <th>4</th>\n",
       "      <td>True</td>\n",
       "      <td>False</td>\n",
       "      <td>False</td>\n",
       "      <td>A5</td>\n",
       "      <td>1.20</td>\n",
       "      <td>0.4000</td>\n",
       "      <td>229</td>\n",
       "      <td>253</td>\n",
       "      <td>249</td>\n",
       "      <td>10.9</td>\n",
       "      <td>3.073984</td>\n",
       "      <td>3.545887</td>\n",
       "      <td>7.826016</td>\n",
       "      <td>A</td>\n",
       "    </tr>\n",
       "    <tr>\n",
       "      <th>5</th>\n",
       "      <td>True</td>\n",
       "      <td>False</td>\n",
       "      <td>False</td>\n",
       "      <td>A7</td>\n",
       "      <td>1.30</td>\n",
       "      <td>0.4128</td>\n",
       "      <td>357</td>\n",
       "      <td>305</td>\n",
       "      <td>290</td>\n",
       "      <td>10.7</td>\n",
       "      <td>3.436714</td>\n",
       "      <td>3.113439</td>\n",
       "      <td>7.263286</td>\n",
       "      <td>A</td>\n",
       "    </tr>\n",
       "    <tr>\n",
       "      <th>6</th>\n",
       "      <td>True</td>\n",
       "      <td>False</td>\n",
       "      <td>False</td>\n",
       "      <td>A8</td>\n",
       "      <td>2.00</td>\n",
       "      <td>0.4000</td>\n",
       "      <td>309</td>\n",
       "      <td>275</td>\n",
       "      <td>285</td>\n",
       "      <td>11.2</td>\n",
       "      <td>5.123307</td>\n",
       "      <td>2.186088</td>\n",
       "      <td>6.076693</td>\n",
       "      <td>A</td>\n",
       "    </tr>\n",
       "    <tr>\n",
       "      <th>7</th>\n",
       "      <td>True</td>\n",
       "      <td>False</td>\n",
       "      <td>False</td>\n",
       "      <td>A9</td>\n",
       "      <td>1.90</td>\n",
       "      <td>0.4128</td>\n",
       "      <td>321</td>\n",
       "      <td>285</td>\n",
       "      <td>280</td>\n",
       "      <td>9.2</td>\n",
       "      <td>5.022890</td>\n",
       "      <td>1.831615</td>\n",
       "      <td>4.177110</td>\n",
       "      <td>A</td>\n",
       "    </tr>\n",
       "    <tr>\n",
       "      <th>8</th>\n",
       "      <td>True</td>\n",
       "      <td>False</td>\n",
       "      <td>False</td>\n",
       "      <td>A10</td>\n",
       "      <td>1.45</td>\n",
       "      <td>0.4082</td>\n",
       "      <td>245</td>\n",
       "      <td>255</td>\n",
       "      <td>259</td>\n",
       "      <td>9.5</td>\n",
       "      <td>3.790542</td>\n",
       "      <td>2.506238</td>\n",
       "      <td>5.709458</td>\n",
       "      <td>A</td>\n",
       "    </tr>\n",
       "    <tr>\n",
       "      <th>9</th>\n",
       "      <td>True</td>\n",
       "      <td>False</td>\n",
       "      <td>False</td>\n",
       "      <td>A11</td>\n",
       "      <td>2.00</td>\n",
       "      <td>0.4128</td>\n",
       "      <td>275</td>\n",
       "      <td>267</td>\n",
       "      <td>270</td>\n",
       "      <td>10.5</td>\n",
       "      <td>5.287252</td>\n",
       "      <td>1.985909</td>\n",
       "      <td>5.212748</td>\n",
       "      <td>A</td>\n",
       "    </tr>\n",
       "  </tbody>\n",
       "</table>\n",
       "</div>"
      ],
      "text/plain": [
       "      A      B      C name  v_naoh  c_naoh  mass  h_diameter  v_diameter  \\\n",
       "0  True  False  False   A1    1.90  0.4000   255         257         262   \n",
       "1  True  False  False   A2    1.20  0.4000   325         288         278   \n",
       "2  True  False  False   A3    2.30  0.4000   185         235         237   \n",
       "3  True  False  False   A4    1.40  0.4128   203         245         245   \n",
       "4  True  False  False   A5    1.20  0.4000   229         253         249   \n",
       "5  True  False  False   A7    1.30  0.4128   357         305         290   \n",
       "6  True  False  False   A8    2.00  0.4000   309         275         285   \n",
       "7  True  False  False   A9    1.90  0.4128   321         285         280   \n",
       "8  True  False  False  A10    1.45  0.4082   245         255         259   \n",
       "9  True  False  False  A11    2.00  0.4128   275         267         270   \n",
       "\n",
       "   brix        ta   brix_ta    brm_ta type  \n",
       "0  10.9  4.867141  2.239508  6.032859    A  \n",
       "1   9.8  3.073984  3.188045  6.726016    A  \n",
       "2  11.0  5.891803  1.867001  5.108197    A  \n",
       "3   9.0  3.701077  2.431725  5.298923    A  \n",
       "4  10.9  3.073984  3.545887  7.826016    A  \n",
       "5  10.7  3.436714  3.113439  7.263286    A  \n",
       "6  11.2  5.123307  2.186088  6.076693    A  \n",
       "7   9.2  5.022890  1.831615  4.177110    A  \n",
       "8   9.5  3.790542  2.506238  5.709458    A  \n",
       "9  10.5  5.287252  1.985909  5.212748    A  "
      ]
     },
     "execution_count": 48,
     "metadata": {},
     "output_type": "execute_result"
    }
   ],
   "source": [
    "ohv_dataset = list_dataset[\"orange_std_col_name\"].get_one_hot_vectorized_dataset(\"type\")\n",
    "list_dataset[\"orange_std_col_name_ohv_type\"] = ohv_dataset\n",
    "list_dataset[\"orange_std_col_name_ohv_type\"].get_dataframe().head(10)"
   ]
  },
  {
   "cell_type": "code",
   "execution_count": 49,
   "metadata": {},
   "outputs": [
    {
     "data": {
      "text/html": [
       "<div>\n",
       "<style scoped>\n",
       "    .dataframe tbody tr th:only-of-type {\n",
       "        vertical-align: middle;\n",
       "    }\n",
       "\n",
       "    .dataframe tbody tr th {\n",
       "        vertical-align: top;\n",
       "    }\n",
       "\n",
       "    .dataframe thead th {\n",
       "        text-align: right;\n",
       "    }\n",
       "</style>\n",
       "<table border=\"1\" class=\"dataframe\">\n",
       "  <thead>\n",
       "    <tr style=\"text-align: right;\">\n",
       "      <th></th>\n",
       "      <th>brix</th>\n",
       "    </tr>\n",
       "  </thead>\n",
       "  <tbody>\n",
       "    <tr>\n",
       "      <th>0</th>\n",
       "      <td>10.9</td>\n",
       "    </tr>\n",
       "    <tr>\n",
       "      <th>1</th>\n",
       "      <td>9.8</td>\n",
       "    </tr>\n",
       "    <tr>\n",
       "      <th>2</th>\n",
       "      <td>11.0</td>\n",
       "    </tr>\n",
       "    <tr>\n",
       "      <th>3</th>\n",
       "      <td>9.0</td>\n",
       "    </tr>\n",
       "    <tr>\n",
       "      <th>4</th>\n",
       "      <td>10.9</td>\n",
       "    </tr>\n",
       "    <tr>\n",
       "      <th>5</th>\n",
       "      <td>10.7</td>\n",
       "    </tr>\n",
       "    <tr>\n",
       "      <th>6</th>\n",
       "      <td>11.2</td>\n",
       "    </tr>\n",
       "    <tr>\n",
       "      <th>7</th>\n",
       "      <td>9.2</td>\n",
       "    </tr>\n",
       "    <tr>\n",
       "      <th>8</th>\n",
       "      <td>9.5</td>\n",
       "    </tr>\n",
       "    <tr>\n",
       "      <th>9</th>\n",
       "      <td>10.5</td>\n",
       "    </tr>\n",
       "  </tbody>\n",
       "</table>\n",
       "</div>"
      ],
      "text/plain": [
       "   brix\n",
       "0  10.9\n",
       "1   9.8\n",
       "2  11.0\n",
       "3   9.0\n",
       "4  10.9\n",
       "5  10.7\n",
       "6  11.2\n",
       "7   9.2\n",
       "8   9.5\n",
       "9  10.5"
      ]
     },
     "execution_count": 49,
     "metadata": {},
     "output_type": "execute_result"
    }
   ],
   "source": [
    "y_cols = [\"brix\"]\n",
    "y_variable = list_dataset[\"orange_std_col_name_ohv_type\"].get_dataframe()[y_cols]\n",
    "y_variable.head(10)"
   ]
  },
  {
   "cell_type": "code",
   "execution_count": 50,
   "metadata": {},
   "outputs": [
    {
     "data": {
      "text/html": [
       "<div>\n",
       "<style scoped>\n",
       "    .dataframe tbody tr th:only-of-type {\n",
       "        vertical-align: middle;\n",
       "    }\n",
       "\n",
       "    .dataframe tbody tr th {\n",
       "        vertical-align: top;\n",
       "    }\n",
       "\n",
       "    .dataframe thead th {\n",
       "        text-align: right;\n",
       "    }\n",
       "</style>\n",
       "<table border=\"1\" class=\"dataframe\">\n",
       "  <thead>\n",
       "    <tr style=\"text-align: right;\">\n",
       "      <th></th>\n",
       "      <th>mass</th>\n",
       "      <th>h_diameter</th>\n",
       "      <th>v_diameter</th>\n",
       "      <th>B</th>\n",
       "      <th>C</th>\n",
       "    </tr>\n",
       "  </thead>\n",
       "  <tbody>\n",
       "    <tr>\n",
       "      <th>0</th>\n",
       "      <td>255</td>\n",
       "      <td>257</td>\n",
       "      <td>262</td>\n",
       "      <td>False</td>\n",
       "      <td>False</td>\n",
       "    </tr>\n",
       "    <tr>\n",
       "      <th>1</th>\n",
       "      <td>325</td>\n",
       "      <td>288</td>\n",
       "      <td>278</td>\n",
       "      <td>False</td>\n",
       "      <td>False</td>\n",
       "    </tr>\n",
       "    <tr>\n",
       "      <th>2</th>\n",
       "      <td>185</td>\n",
       "      <td>235</td>\n",
       "      <td>237</td>\n",
       "      <td>False</td>\n",
       "      <td>False</td>\n",
       "    </tr>\n",
       "    <tr>\n",
       "      <th>3</th>\n",
       "      <td>203</td>\n",
       "      <td>245</td>\n",
       "      <td>245</td>\n",
       "      <td>False</td>\n",
       "      <td>False</td>\n",
       "    </tr>\n",
       "    <tr>\n",
       "      <th>4</th>\n",
       "      <td>229</td>\n",
       "      <td>253</td>\n",
       "      <td>249</td>\n",
       "      <td>False</td>\n",
       "      <td>False</td>\n",
       "    </tr>\n",
       "    <tr>\n",
       "      <th>5</th>\n",
       "      <td>357</td>\n",
       "      <td>305</td>\n",
       "      <td>290</td>\n",
       "      <td>False</td>\n",
       "      <td>False</td>\n",
       "    </tr>\n",
       "    <tr>\n",
       "      <th>6</th>\n",
       "      <td>309</td>\n",
       "      <td>275</td>\n",
       "      <td>285</td>\n",
       "      <td>False</td>\n",
       "      <td>False</td>\n",
       "    </tr>\n",
       "    <tr>\n",
       "      <th>7</th>\n",
       "      <td>321</td>\n",
       "      <td>285</td>\n",
       "      <td>280</td>\n",
       "      <td>False</td>\n",
       "      <td>False</td>\n",
       "    </tr>\n",
       "    <tr>\n",
       "      <th>8</th>\n",
       "      <td>245</td>\n",
       "      <td>255</td>\n",
       "      <td>259</td>\n",
       "      <td>False</td>\n",
       "      <td>False</td>\n",
       "    </tr>\n",
       "    <tr>\n",
       "      <th>9</th>\n",
       "      <td>275</td>\n",
       "      <td>267</td>\n",
       "      <td>270</td>\n",
       "      <td>False</td>\n",
       "      <td>False</td>\n",
       "    </tr>\n",
       "  </tbody>\n",
       "</table>\n",
       "</div>"
      ],
      "text/plain": [
       "   mass  h_diameter  v_diameter      B      C\n",
       "0   255         257         262  False  False\n",
       "1   325         288         278  False  False\n",
       "2   185         235         237  False  False\n",
       "3   203         245         245  False  False\n",
       "4   229         253         249  False  False\n",
       "5   357         305         290  False  False\n",
       "6   309         275         285  False  False\n",
       "7   321         285         280  False  False\n",
       "8   245         255         259  False  False\n",
       "9   275         267         270  False  False"
      ]
     },
     "execution_count": 50,
     "metadata": {},
     "output_type": "execute_result"
    }
   ],
   "source": [
    "x_cols = [\"mass\", \"h_diameter\", \"v_diameter\", \"B\", \"C\"]\n",
    "x_variable = list_dataset[\"orange_std_col_name_ohv_type\"].get_dataframe()[x_cols]\n",
    "x_variable.head(10)"
   ]
  },
  {
   "cell_type": "markdown",
   "metadata": {},
   "source": [
    "### Linear regression models"
   ]
  },
  {
   "cell_type": "markdown",
   "metadata": {},
   "source": [
    "#### Model train 1: orange_std_col_name_ohv_type"
   ]
  },
  {
   "cell_type": "code",
   "execution_count": 51,
   "metadata": {},
   "outputs": [
    {
     "data": {
      "text/plain": [
       "dict_keys(['orange_std_col_name', 'orange_std_col_name_ohv_type'])"
      ]
     },
     "execution_count": 51,
     "metadata": {},
     "output_type": "execute_result"
    }
   ],
   "source": [
    "list_dataset.keys()"
   ]
  },
  {
   "cell_type": "code",
   "execution_count": 52,
   "metadata": {},
   "outputs": [],
   "source": [
    "std_dataset_names = [\"orange_std_col_name_ohv_type\"]"
   ]
  },
  {
   "cell_type": "code",
   "execution_count": 53,
   "metadata": {},
   "outputs": [],
   "source": [
    "# for model_type in ModelType:\n",
    "#     if model_type == ModelType.LINEAR_REGRESSION:\n",
    "#         continue\n",
    "#     print(model_type)\n",
    "#     print(model_type.value)\n",
    "#     print(list(ParameterGrid(model_type.value)))"
   ]
  },
  {
   "cell_type": "code",
   "execution_count": 54,
   "metadata": {},
   "outputs": [
    {
     "name": "stderr",
     "output_type": "stream",
     "text": [
      "100%|████████████████████████████████████████████████████████████████████████████████| 81/81 [00:00<00:00, 1500.61it/s]\n"
     ]
    },
    {
     "name": "stdout",
     "output_type": "stream",
     "text": [
      "Training | ModelType: ModelType.SVR | Datasetname: orange_std_col_name_ohv_type | ScalerType: ScalerType.Raw_ | Params: {'kernel': 'rbf', 'degree': 3, 'gamma': 'scale', 'coef0': 0, 'tol': 0.001, 'C': 0.1, 'epsilon': 0.1}\n",
      "R2: 0.10140308506769458 | MSE: 1.6480550927801463\n"
     ]
    },
    {
     "name": "stderr",
     "output_type": "stream",
     "text": [
      "100%|█████████████████████████████████████████████████████████████████████████████████| 81/81 [00:00<00:00, 927.60it/s]\n"
     ]
    },
    {
     "name": "stdout",
     "output_type": "stream",
     "text": [
      "Training | ModelType: ModelType.SVR | Datasetname: orange_std_col_name_ohv_type | ScalerType: ScalerType.MaxAbsScaler_ | Params: {'kernel': 'rbf', 'degree': 3, 'gamma': 'scale', 'coef0': 0, 'tol': 0.001, 'C': 0.1, 'epsilon': 0.1}\n",
      "R2: 0.2625212988136205 | MSE: 1.3525592054794238\n"
     ]
    },
    {
     "name": "stderr",
     "output_type": "stream",
     "text": [
      "100%|█████████████████████████████████████████████████████████████████████████████████| 81/81 [00:00<00:00, 903.71it/s]\n"
     ]
    },
    {
     "name": "stdout",
     "output_type": "stream",
     "text": [
      "Training | ModelType: ModelType.SVR | Datasetname: orange_std_col_name_ohv_type | ScalerType: ScalerType.MinMaxScaler_ | Params: {'kernel': 'rbf', 'degree': 3, 'gamma': 'scale', 'coef0': 0, 'tol': 0.001, 'C': 0.1, 'epsilon': 0.1}\n",
      "R2: 0.26461211465972656 | MSE: 1.348724583252282\n"
     ]
    },
    {
     "name": "stderr",
     "output_type": "stream",
     "text": [
      "100%|█████████████████████████████████████████████████████████████████████████████████| 81/81 [00:00<00:00, 892.80it/s]\n"
     ]
    },
    {
     "name": "stdout",
     "output_type": "stream",
     "text": [
      "Training | ModelType: ModelType.SVR | Datasetname: orange_std_col_name_ohv_type | ScalerType: ScalerType.Normalizer_ | Params: {'kernel': 'rbf', 'degree': 3, 'gamma': 'scale', 'coef0': 0, 'tol': 0.001, 'C': 0.1, 'epsilon': 0.1}\n",
      "R2: 0.27319287628407063 | MSE: 1.3329871957096173\n"
     ]
    },
    {
     "name": "stderr",
     "output_type": "stream",
     "text": [
      "100%|█████████████████████████████████████████████████████████████████████████████████| 81/81 [00:00<00:00, 536.79it/s]\n"
     ]
    },
    {
     "name": "stdout",
     "output_type": "stream",
     "text": [
      "Training | ModelType: ModelType.SVR | Datasetname: orange_std_col_name_ohv_type | ScalerType: ScalerType.RobustScaler_ | Params: {'kernel': 'rbf', 'degree': 3, 'gamma': 'scale', 'coef0': 0, 'tol': 0.001, 'C': 0.1, 'epsilon': 0.1}\n",
      "R2: 0.21181706972117353 | MSE: 1.4455523613568773\n"
     ]
    },
    {
     "name": "stderr",
     "output_type": "stream",
     "text": [
      "100%|█████████████████████████████████████████████████████████████████████████████████| 81/81 [00:00<00:00, 876.13it/s]\n"
     ]
    },
    {
     "name": "stdout",
     "output_type": "stream",
     "text": [
      "Training | ModelType: ModelType.SVR | Datasetname: orange_std_col_name_ohv_type | ScalerType: ScalerType.StandardScaler_ | Params: {'kernel': 'rbf', 'degree': 3, 'gamma': 'scale', 'coef0': 0, 'tol': 0.001, 'C': 0.1, 'epsilon': 0.1}\n",
      "R2: 0.2067191140923793 | MSE: 1.4549021728209355\n"
     ]
    },
    {
     "name": "stderr",
     "output_type": "stream",
     "text": [
      "100%|████████████████████████████████████████████████████████████████████████████████| 81/81 [00:00<00:00, 1303.01it/s]\n"
     ]
    },
    {
     "name": "stdout",
     "output_type": "stream",
     "text": [
      "Training | ModelType: ModelType.SVR | Datasetname: orange_std_col_name_ohv_type | ScalerType: ScalerType.Raw_ | Params: {'kernel': 'rbf', 'degree': 3, 'gamma': 'scale', 'coef0': 0, 'tol': 0.001, 'C': 0.1, 'epsilon': 0.1}\n",
      "R2: 0.10140308506769458 | MSE: 1.6480550927801463\n"
     ]
    },
    {
     "name": "stderr",
     "output_type": "stream",
     "text": [
      "100%|█████████████████████████████████████████████████████████████████████████████████| 81/81 [00:00<00:00, 894.16it/s]\n"
     ]
    },
    {
     "name": "stdout",
     "output_type": "stream",
     "text": [
      "Training | ModelType: ModelType.SVR | Datasetname: orange_std_col_name_ohv_type | ScalerType: ScalerType.MaxAbsScaler_ | Params: {'kernel': 'rbf', 'degree': 3, 'gamma': 'scale', 'coef0': 0, 'tol': 0.001, 'C': 0.1, 'epsilon': 0.1}\n",
      "R2: 0.2625212988136205 | MSE: 1.3525592054794238\n"
     ]
    },
    {
     "name": "stderr",
     "output_type": "stream",
     "text": [
      "100%|█████████████████████████████████████████████████████████████████████████████████| 81/81 [00:00<00:00, 996.73it/s]\n"
     ]
    },
    {
     "name": "stdout",
     "output_type": "stream",
     "text": [
      "Training | ModelType: ModelType.SVR | Datasetname: orange_std_col_name_ohv_type | ScalerType: ScalerType.MinMaxScaler_ | Params: {'kernel': 'rbf', 'degree': 3, 'gamma': 'scale', 'coef0': 0, 'tol': 0.001, 'C': 0.1, 'epsilon': 0.1}\n",
      "R2: 0.26461211465972656 | MSE: 1.348724583252282\n"
     ]
    },
    {
     "name": "stderr",
     "output_type": "stream",
     "text": [
      "100%|█████████████████████████████████████████████████████████████████████████████████| 81/81 [00:00<00:00, 924.16it/s]\n"
     ]
    },
    {
     "name": "stdout",
     "output_type": "stream",
     "text": [
      "Training | ModelType: ModelType.SVR | Datasetname: orange_std_col_name_ohv_type | ScalerType: ScalerType.Normalizer_ | Params: {'kernel': 'rbf', 'degree': 3, 'gamma': 'scale', 'coef0': 0, 'tol': 0.001, 'C': 0.1, 'epsilon': 0.1}\n",
      "R2: 0.27319287628407063 | MSE: 1.3329871957096173\n"
     ]
    },
    {
     "name": "stderr",
     "output_type": "stream",
     "text": [
      "100%|█████████████████████████████████████████████████████████████████████████████████| 81/81 [00:00<00:00, 549.28it/s]\n"
     ]
    },
    {
     "name": "stdout",
     "output_type": "stream",
     "text": [
      "Training | ModelType: ModelType.SVR | Datasetname: orange_std_col_name_ohv_type | ScalerType: ScalerType.RobustScaler_ | Params: {'kernel': 'rbf', 'degree': 3, 'gamma': 'scale', 'coef0': 0, 'tol': 0.001, 'C': 0.1, 'epsilon': 0.1}\n",
      "R2: 0.21181706972117353 | MSE: 1.4455523613568773\n"
     ]
    },
    {
     "name": "stderr",
     "output_type": "stream",
     "text": [
      "100%|█████████████████████████████████████████████████████████████████████████████████| 81/81 [00:00<00:00, 941.66it/s]\n"
     ]
    },
    {
     "name": "stdout",
     "output_type": "stream",
     "text": [
      "Training | ModelType: ModelType.SVR | Datasetname: orange_std_col_name_ohv_type | ScalerType: ScalerType.StandardScaler_ | Params: {'kernel': 'rbf', 'degree': 3, 'gamma': 'scale', 'coef0': 0, 'tol': 0.001, 'C': 0.1, 'epsilon': 0.1}\n",
      "R2: 0.2067191140923793 | MSE: 1.4549021728209355\n"
     ]
    },
    {
     "name": "stderr",
     "output_type": "stream",
     "text": [
      "100%|████████████████████████████████████████████████████████████████████████████████| 81/81 [00:00<00:00, 1557.21it/s]\n"
     ]
    },
    {
     "name": "stdout",
     "output_type": "stream",
     "text": [
      "Training | ModelType: ModelType.SVR | Datasetname: orange_std_col_name_ohv_type | ScalerType: ScalerType.Raw_ | Params: {'kernel': 'rbf', 'degree': 3, 'gamma': 'scale', 'coef0': 0, 'tol': 0.001, 'C': 0.1, 'epsilon': 0.1}\n",
      "R2: 0.10140308506769458 | MSE: 1.6480550927801463\n"
     ]
    },
    {
     "name": "stderr",
     "output_type": "stream",
     "text": [
      "100%|█████████████████████████████████████████████████████████████████████████████████| 81/81 [00:00<00:00, 981.56it/s]\n"
     ]
    },
    {
     "name": "stdout",
     "output_type": "stream",
     "text": [
      "Training | ModelType: ModelType.SVR | Datasetname: orange_std_col_name_ohv_type | ScalerType: ScalerType.MaxAbsScaler_ | Params: {'kernel': 'rbf', 'degree': 3, 'gamma': 'scale', 'coef0': 0, 'tol': 0.001, 'C': 0.1, 'epsilon': 0.1}\n",
      "R2: 0.2625212988136205 | MSE: 1.3525592054794238\n"
     ]
    },
    {
     "name": "stderr",
     "output_type": "stream",
     "text": [
      "100%|█████████████████████████████████████████████████████████████████████████████████| 81/81 [00:00<00:00, 849.51it/s]\n"
     ]
    },
    {
     "name": "stdout",
     "output_type": "stream",
     "text": [
      "Training | ModelType: ModelType.SVR | Datasetname: orange_std_col_name_ohv_type | ScalerType: ScalerType.MinMaxScaler_ | Params: {'kernel': 'rbf', 'degree': 3, 'gamma': 'scale', 'coef0': 0, 'tol': 0.001, 'C': 0.1, 'epsilon': 0.1}\n",
      "R2: 0.26461211465972656 | MSE: 1.348724583252282\n"
     ]
    },
    {
     "name": "stderr",
     "output_type": "stream",
     "text": [
      "100%|█████████████████████████████████████████████████████████████████████████████████| 81/81 [00:00<00:00, 862.57it/s]\n"
     ]
    },
    {
     "name": "stdout",
     "output_type": "stream",
     "text": [
      "Training | ModelType: ModelType.SVR | Datasetname: orange_std_col_name_ohv_type | ScalerType: ScalerType.Normalizer_ | Params: {'kernel': 'rbf', 'degree': 3, 'gamma': 'scale', 'coef0': 0, 'tol': 0.001, 'C': 0.1, 'epsilon': 0.1}\n",
      "R2: 0.27319287628407063 | MSE: 1.3329871957096173\n"
     ]
    },
    {
     "name": "stderr",
     "output_type": "stream",
     "text": [
      "100%|█████████████████████████████████████████████████████████████████████████████████| 81/81 [00:00<00:00, 533.27it/s]\n"
     ]
    },
    {
     "name": "stdout",
     "output_type": "stream",
     "text": [
      "Training | ModelType: ModelType.SVR | Datasetname: orange_std_col_name_ohv_type | ScalerType: ScalerType.RobustScaler_ | Params: {'kernel': 'rbf', 'degree': 3, 'gamma': 'scale', 'coef0': 0, 'tol': 0.001, 'C': 0.1, 'epsilon': 0.1}\n",
      "R2: 0.21181706972117353 | MSE: 1.4455523613568773\n"
     ]
    },
    {
     "name": "stderr",
     "output_type": "stream",
     "text": [
      "100%|█████████████████████████████████████████████████████████████████████████████████| 81/81 [00:00<00:00, 756.17it/s]\n"
     ]
    },
    {
     "name": "stdout",
     "output_type": "stream",
     "text": [
      "Training | ModelType: ModelType.SVR | Datasetname: orange_std_col_name_ohv_type | ScalerType: ScalerType.StandardScaler_ | Params: {'kernel': 'rbf', 'degree': 3, 'gamma': 'scale', 'coef0': 0, 'tol': 0.001, 'C': 0.1, 'epsilon': 0.1}\n",
      "R2: 0.2067191140923793 | MSE: 1.4549021728209355\n"
     ]
    },
    {
     "name": "stderr",
     "output_type": "stream",
     "text": [
      "100%|█████████████████████████████████████████████████████████████████████████████████| 81/81 [00:00<00:00, 108.65it/s]\n"
     ]
    },
    {
     "name": "stdout",
     "output_type": "stream",
     "text": [
      "Training | ModelType: ModelType.SVR | Datasetname: orange_std_col_name_ohv_type | ScalerType: ScalerType.Raw_ | Params: {'kernel': 'linear', 'degree': 3, 'gamma': 'scale', 'coef0': 0, 'tol': 0.001, 'C': 0.1, 'epsilon': 0.1}\n",
      "R2: 0.30931085463892516 | MSE: 1.2667456838821196\n"
     ]
    },
    {
     "name": "stderr",
     "output_type": "stream",
     "text": [
      "100%|████████████████████████████████████████████████████████████████████████████████| 81/81 [00:00<00:00, 1047.31it/s]\n"
     ]
    },
    {
     "name": "stdout",
     "output_type": "stream",
     "text": [
      "Training | ModelType: ModelType.SVR | Datasetname: orange_std_col_name_ohv_type | ScalerType: ScalerType.MaxAbsScaler_ | Params: {'kernel': 'linear', 'degree': 3, 'gamma': 'scale', 'coef0': 0, 'tol': 0.001, 'C': 0.1, 'epsilon': 0.1}\n",
      "R2: 0.1995143112497494 | MSE: 1.4681160085463425\n"
     ]
    },
    {
     "name": "stderr",
     "output_type": "stream",
     "text": [
      "100%|█████████████████████████████████████████████████████████████████████████████████| 81/81 [00:00<00:00, 937.71it/s]\n"
     ]
    },
    {
     "name": "stdout",
     "output_type": "stream",
     "text": [
      "Training | ModelType: ModelType.SVR | Datasetname: orange_std_col_name_ohv_type | ScalerType: ScalerType.MinMaxScaler_ | Params: {'kernel': 'linear', 'degree': 3, 'gamma': 'scale', 'coef0': 0, 'tol': 0.001, 'C': 0.1, 'epsilon': 0.1}\n",
      "R2: 0.22475982408998374 | MSE: 1.4218149414996912\n"
     ]
    },
    {
     "name": "stderr",
     "output_type": "stream",
     "text": [
      "100%|████████████████████████████████████████████████████████████████████████████████| 81/81 [00:00<00:00, 1022.82it/s]\n"
     ]
    },
    {
     "name": "stdout",
     "output_type": "stream",
     "text": [
      "Training | ModelType: ModelType.SVR | Datasetname: orange_std_col_name_ohv_type | ScalerType: ScalerType.Normalizer_ | Params: {'kernel': 'linear', 'degree': 3, 'gamma': 'scale', 'coef0': 0, 'tol': 0.001, 'C': 0.1, 'epsilon': 0.1}\n",
      "R2: 0.19141789735949477 | MSE: 1.4829650870634832\n"
     ]
    },
    {
     "name": "stderr",
     "output_type": "stream",
     "text": [
      "100%|█████████████████████████████████████████████████████████████████████████████████| 81/81 [00:00<00:00, 591.69it/s]\n"
     ]
    },
    {
     "name": "stdout",
     "output_type": "stream",
     "text": [
      "Training | ModelType: ModelType.SVR | Datasetname: orange_std_col_name_ohv_type | ScalerType: ScalerType.RobustScaler_ | Params: {'kernel': 'linear', 'degree': 3, 'gamma': 'scale', 'coef0': 0, 'tol': 0.001, 'C': 0.1, 'epsilon': 0.1}\n",
      "R2: 0.28253173093364126 | MSE: 1.3158594416408\n"
     ]
    },
    {
     "name": "stderr",
     "output_type": "stream",
     "text": [
      "100%|████████████████████████████████████████████████████████████████████████████████| 81/81 [00:00<00:00, 1003.13it/s]\n"
     ]
    },
    {
     "name": "stdout",
     "output_type": "stream",
     "text": [
      "Training | ModelType: ModelType.SVR | Datasetname: orange_std_col_name_ohv_type | ScalerType: ScalerType.StandardScaler_ | Params: {'kernel': 'linear', 'degree': 3, 'gamma': 'scale', 'coef0': 0, 'tol': 0.001, 'C': 0.1, 'epsilon': 0.1}\n",
      "R2: 0.2740943662515152 | MSE: 1.3313338346672536\n"
     ]
    },
    {
     "name": "stderr",
     "output_type": "stream",
     "text": [
      "100%|█████████████████████████████████████████████████████████████████████████████████| 81/81 [00:00<00:00, 114.26it/s]\n"
     ]
    },
    {
     "name": "stdout",
     "output_type": "stream",
     "text": [
      "Training | ModelType: ModelType.SVR | Datasetname: orange_std_col_name_ohv_type | ScalerType: ScalerType.Raw_ | Params: {'kernel': 'linear', 'degree': 3, 'gamma': 'scale', 'coef0': 0, 'tol': 0.001, 'C': 0.1, 'epsilon': 0.1}\n",
      "R2: 0.30931085463892516 | MSE: 1.2667456838821196\n"
     ]
    },
    {
     "name": "stderr",
     "output_type": "stream",
     "text": [
      "100%|████████████████████████████████████████████████████████████████████████████████| 81/81 [00:00<00:00, 1135.40it/s]\n"
     ]
    },
    {
     "name": "stdout",
     "output_type": "stream",
     "text": [
      "Training | ModelType: ModelType.SVR | Datasetname: orange_std_col_name_ohv_type | ScalerType: ScalerType.MaxAbsScaler_ | Params: {'kernel': 'linear', 'degree': 3, 'gamma': 'scale', 'coef0': 0, 'tol': 0.001, 'C': 0.1, 'epsilon': 0.1}\n",
      "R2: 0.1995143112497494 | MSE: 1.4681160085463425\n"
     ]
    },
    {
     "name": "stderr",
     "output_type": "stream",
     "text": [
      "100%|█████████████████████████████████████████████████████████████████████████████████| 81/81 [00:00<00:00, 990.34it/s]\n"
     ]
    },
    {
     "name": "stdout",
     "output_type": "stream",
     "text": [
      "Training | ModelType: ModelType.SVR | Datasetname: orange_std_col_name_ohv_type | ScalerType: ScalerType.MinMaxScaler_ | Params: {'kernel': 'linear', 'degree': 3, 'gamma': 'scale', 'coef0': 0, 'tol': 0.001, 'C': 0.1, 'epsilon': 0.1}\n",
      "R2: 0.22475982408998374 | MSE: 1.4218149414996912\n"
     ]
    },
    {
     "name": "stderr",
     "output_type": "stream",
     "text": [
      "100%|████████████████████████████████████████████████████████████████████████████████| 81/81 [00:00<00:00, 1090.64it/s]\n"
     ]
    },
    {
     "name": "stdout",
     "output_type": "stream",
     "text": [
      "Training | ModelType: ModelType.SVR | Datasetname: orange_std_col_name_ohv_type | ScalerType: ScalerType.Normalizer_ | Params: {'kernel': 'linear', 'degree': 3, 'gamma': 'scale', 'coef0': 0, 'tol': 0.001, 'C': 0.1, 'epsilon': 0.1}\n",
      "R2: 0.19141789735949477 | MSE: 1.4829650870634832\n"
     ]
    },
    {
     "name": "stderr",
     "output_type": "stream",
     "text": [
      "100%|█████████████████████████████████████████████████████████████████████████████████| 81/81 [00:00<00:00, 560.30it/s]\n"
     ]
    },
    {
     "name": "stdout",
     "output_type": "stream",
     "text": [
      "Training | ModelType: ModelType.SVR | Datasetname: orange_std_col_name_ohv_type | ScalerType: ScalerType.RobustScaler_ | Params: {'kernel': 'linear', 'degree': 3, 'gamma': 'scale', 'coef0': 0, 'tol': 0.001, 'C': 0.1, 'epsilon': 0.1}\n",
      "R2: 0.28253173093364126 | MSE: 1.3158594416408\n"
     ]
    },
    {
     "name": "stderr",
     "output_type": "stream",
     "text": [
      "100%|█████████████████████████████████████████████████████████████████████████████████| 81/81 [00:00<00:00, 895.91it/s]\n"
     ]
    },
    {
     "name": "stdout",
     "output_type": "stream",
     "text": [
      "Training | ModelType: ModelType.SVR | Datasetname: orange_std_col_name_ohv_type | ScalerType: ScalerType.StandardScaler_ | Params: {'kernel': 'linear', 'degree': 3, 'gamma': 'scale', 'coef0': 0, 'tol': 0.001, 'C': 0.1, 'epsilon': 0.1}\n",
      "R2: 0.2740943662515152 | MSE: 1.3313338346672536\n"
     ]
    },
    {
     "name": "stderr",
     "output_type": "stream",
     "text": [
      "100%|████████████████████████████████████████████████████████████████████████████████| 81/81 [00:00<00:00, 1047.41it/s]\n"
     ]
    },
    {
     "name": "stdout",
     "output_type": "stream",
     "text": [
      "Training | ModelType: ModelType.SVR | Datasetname: orange_std_col_name_ohv_type | ScalerType: ScalerType.Raw_ | Params: {'kernel': 'poly', 'degree': 3, 'gamma': 'scale', 'coef0': 0, 'tol': 0.001, 'C': 0.1, 'epsilon': 0.1}\n",
      "R2: 0.21562611724087755 | MSE: 1.4385664480300295\n"
     ]
    },
    {
     "name": "stderr",
     "output_type": "stream",
     "text": [
      "100%|█████████████████████████████████████████████████████████████████████████████████| 81/81 [00:00<00:00, 960.26it/s]\n"
     ]
    },
    {
     "name": "stdout",
     "output_type": "stream",
     "text": [
      "Training | ModelType: ModelType.SVR | Datasetname: orange_std_col_name_ohv_type | ScalerType: ScalerType.MaxAbsScaler_ | Params: {'kernel': 'poly', 'degree': 3, 'gamma': 'scale', 'coef0': 0, 'tol': 0.001, 'C': 0.1, 'epsilon': 0.1}\n",
      "R2: 0.3117650885219906 | MSE: 1.2622445415093304\n"
     ]
    },
    {
     "name": "stderr",
     "output_type": "stream",
     "text": [
      "100%|█████████████████████████████████████████████████████████████████████████████████| 81/81 [00:00<00:00, 900.84it/s]\n"
     ]
    },
    {
     "name": "stdout",
     "output_type": "stream",
     "text": [
      "Training | ModelType: ModelType.SVR | Datasetname: orange_std_col_name_ohv_type | ScalerType: ScalerType.MinMaxScaler_ | Params: {'kernel': 'poly', 'degree': 3, 'gamma': 'scale', 'coef0': 0, 'tol': 0.001, 'C': 0.1, 'epsilon': 0.1}\n",
      "R2: 0.2847923479946656 | MSE: 1.311713398628258\n"
     ]
    },
    {
     "name": "stderr",
     "output_type": "stream",
     "text": [
      "100%|█████████████████████████████████████████████████████████████████████████████████| 81/81 [00:00<00:00, 893.52it/s]\n"
     ]
    },
    {
     "name": "stdout",
     "output_type": "stream",
     "text": [
      "Training | ModelType: ModelType.SVR | Datasetname: orange_std_col_name_ohv_type | ScalerType: ScalerType.Normalizer_ | Params: {'kernel': 'poly', 'degree': 3, 'gamma': 'scale', 'coef0': 0, 'tol': 0.001, 'C': 0.1, 'epsilon': 0.1}\n",
      "R2: 0.3300459997493491 | MSE: 1.2287167735543518\n"
     ]
    },
    {
     "name": "stderr",
     "output_type": "stream",
     "text": [
      "100%|█████████████████████████████████████████████████████████████████████████████████| 81/81 [00:00<00:00, 540.25it/s]\n"
     ]
    },
    {
     "name": "stdout",
     "output_type": "stream",
     "text": [
      "Training | ModelType: ModelType.SVR | Datasetname: orange_std_col_name_ohv_type | ScalerType: ScalerType.RobustScaler_ | Params: {'kernel': 'poly', 'degree': 3, 'gamma': 'scale', 'coef0': 0, 'tol': 0.001, 'C': 0.1, 'epsilon': 0.1}\n",
      "R2: 0.15487163908879742 | MSE: 1.5499920777688971\n"
     ]
    },
    {
     "name": "stderr",
     "output_type": "stream",
     "text": [
      "100%|█████████████████████████████████████████████████████████████████████████████████| 81/81 [00:00<00:00, 875.50it/s]\n"
     ]
    },
    {
     "name": "stdout",
     "output_type": "stream",
     "text": [
      "Training | ModelType: ModelType.SVR | Datasetname: orange_std_col_name_ohv_type | ScalerType: ScalerType.StandardScaler_ | Params: {'kernel': 'poly', 'degree': 3, 'gamma': 'scale', 'coef0': 0, 'tol': 0.001, 'C': 0.1, 'epsilon': 0.1}\n",
      "R2: 0.10600209524824034 | MSE: 1.6396203630099389\n"
     ]
    },
    {
     "name": "stderr",
     "output_type": "stream",
     "text": [
      "100%|████████████████████████████████████████████████████████████████████████████████| 81/81 [00:00<00:00, 1206.24it/s]\n"
     ]
    },
    {
     "name": "stdout",
     "output_type": "stream",
     "text": [
      "Training | ModelType: ModelType.SVR | Datasetname: orange_std_col_name_ohv_type | ScalerType: ScalerType.Raw_ | Params: {'kernel': 'poly', 'degree': 3, 'gamma': 'scale', 'coef0': 0, 'tol': 0.001, 'C': 0.2, 'epsilon': 0.1}\n",
      "R2: 0.2214073765586716 | MSE: 1.4279634360420672\n"
     ]
    },
    {
     "name": "stderr",
     "output_type": "stream",
     "text": [
      "100%|█████████████████████████████████████████████████████████████████████████████████| 81/81 [00:00<00:00, 922.44it/s]\n"
     ]
    },
    {
     "name": "stdout",
     "output_type": "stream",
     "text": [
      "Training | ModelType: ModelType.SVR | Datasetname: orange_std_col_name_ohv_type | ScalerType: ScalerType.MaxAbsScaler_ | Params: {'kernel': 'poly', 'degree': 3, 'gamma': 'scale', 'coef0': 0, 'tol': 0.001, 'C': 0.2, 'epsilon': 0.1}\n",
      "R2: 0.31345678316437775 | MSE: 1.2591419201621104\n"
     ]
    },
    {
     "name": "stderr",
     "output_type": "stream",
     "text": [
      "100%|█████████████████████████████████████████████████████████████████████████████████| 81/81 [00:00<00:00, 817.79it/s]\n"
     ]
    },
    {
     "name": "stdout",
     "output_type": "stream",
     "text": [
      "Training | ModelType: ModelType.SVR | Datasetname: orange_std_col_name_ohv_type | ScalerType: ScalerType.MinMaxScaler_ | Params: {'kernel': 'poly', 'degree': 3, 'gamma': 'scale', 'coef0': 0, 'tol': 0.001, 'C': 0.2, 'epsilon': 0.1}\n",
      "R2: 0.3030921400148967 | MSE: 1.2781510027034608\n"
     ]
    },
    {
     "name": "stderr",
     "output_type": "stream",
     "text": [
      "100%|█████████████████████████████████████████████████████████████████████████████████| 81/81 [00:00<00:00, 878.04it/s]\n"
     ]
    },
    {
     "name": "stdout",
     "output_type": "stream",
     "text": [
      "Training | ModelType: ModelType.SVR | Datasetname: orange_std_col_name_ohv_type | ScalerType: ScalerType.Normalizer_ | Params: {'kernel': 'poly', 'degree': 3, 'gamma': 'scale', 'coef0': 0, 'tol': 0.001, 'C': 0.2, 'epsilon': 0.1}\n",
      "R2: 0.32708694676455863 | MSE: 1.234143770086782\n"
     ]
    },
    {
     "name": "stderr",
     "output_type": "stream",
     "text": [
      "100%|█████████████████████████████████████████████████████████████████████████████████| 81/81 [00:00<00:00, 534.36it/s]\n"
     ]
    },
    {
     "name": "stdout",
     "output_type": "stream",
     "text": [
      "Training | ModelType: ModelType.SVR | Datasetname: orange_std_col_name_ohv_type | ScalerType: ScalerType.RobustScaler_ | Params: {'kernel': 'poly', 'degree': 3, 'gamma': 'scale', 'coef0': 0, 'tol': 0.001, 'C': 0.2, 'epsilon': 0.1}\n",
      "R2: 0.16155781363480803 | MSE: 1.537729422702248\n"
     ]
    },
    {
     "name": "stderr",
     "output_type": "stream",
     "text": [
      "100%|█████████████████████████████████████████████████████████████████████████████████| 81/81 [00:00<00:00, 765.41it/s]\n"
     ]
    },
    {
     "name": "stdout",
     "output_type": "stream",
     "text": [
      "Training | ModelType: ModelType.SVR | Datasetname: orange_std_col_name_ohv_type | ScalerType: ScalerType.StandardScaler_ | Params: {'kernel': 'poly', 'degree': 3, 'gamma': 'scale', 'coef0': 0, 'tol': 0.001, 'C': 0.2, 'epsilon': 0.1}\n",
      "R2: 0.115874906223845 | MSE: 1.6215133161928166\n"
     ]
    },
    {
     "name": "stderr",
     "output_type": "stream",
     "text": [
      "100%|████████████████████████████████████████████████████████████████████████████████| 81/81 [00:00<00:00, 1677.98it/s]\n"
     ]
    },
    {
     "name": "stdout",
     "output_type": "stream",
     "text": [
      "Training | ModelType: ModelType.SVR | Datasetname: orange_std_col_name_ohv_type | ScalerType: ScalerType.Raw_ | Params: {'kernel': 'rbf', 'degree': 3, 'gamma': 'scale', 'coef0': 0, 'tol': 0.001, 'C': 0.2, 'epsilon': 0.1}\n",
      "R2: 0.14366468900121088 | MSE: 1.5705459778095747\n"
     ]
    },
    {
     "name": "stderr",
     "output_type": "stream",
     "text": [
      "100%|█████████████████████████████████████████████████████████████████████████████████| 81/81 [00:00<00:00, 917.92it/s]\n"
     ]
    },
    {
     "name": "stdout",
     "output_type": "stream",
     "text": [
      "Training | ModelType: ModelType.SVR | Datasetname: orange_std_col_name_ohv_type | ScalerType: ScalerType.MaxAbsScaler_ | Params: {'kernel': 'rbf', 'degree': 3, 'gamma': 'scale', 'coef0': 0, 'tol': 0.001, 'C': 0.2, 'epsilon': 0.1}\n",
      "R2: 0.3012126394084602 | MSE: 1.2815980661140383\n"
     ]
    },
    {
     "name": "stderr",
     "output_type": "stream",
     "text": [
      "100%|█████████████████████████████████████████████████████████████████████████████████| 81/81 [00:00<00:00, 920.57it/s]\n"
     ]
    },
    {
     "name": "stdout",
     "output_type": "stream",
     "text": [
      "Training | ModelType: ModelType.SVR | Datasetname: orange_std_col_name_ohv_type | ScalerType: ScalerType.MinMaxScaler_ | Params: {'kernel': 'rbf', 'degree': 3, 'gamma': 'scale', 'coef0': 0, 'tol': 0.001, 'C': 0.2, 'epsilon': 0.1}\n",
      "R2: 0.30745714233372 | MSE: 1.2701454507346164\n"
     ]
    },
    {
     "name": "stderr",
     "output_type": "stream",
     "text": [
      "100%|█████████████████████████████████████████████████████████████████████████████████| 81/81 [00:00<00:00, 864.71it/s]\n"
     ]
    },
    {
     "name": "stdout",
     "output_type": "stream",
     "text": [
      "Training | ModelType: ModelType.SVR | Datasetname: orange_std_col_name_ohv_type | ScalerType: ScalerType.Normalizer_ | Params: {'kernel': 'rbf', 'degree': 3, 'gamma': 'scale', 'coef0': 0, 'tol': 0.001, 'C': 0.2, 'epsilon': 0.1}\n",
      "R2: 0.3231188026945191 | MSE: 1.2414214715064522\n"
     ]
    },
    {
     "name": "stderr",
     "output_type": "stream",
     "text": [
      "100%|█████████████████████████████████████████████████████████████████████████████████| 81/81 [00:00<00:00, 554.97it/s]\n"
     ]
    },
    {
     "name": "stdout",
     "output_type": "stream",
     "text": [
      "Training | ModelType: ModelType.SVR | Datasetname: orange_std_col_name_ohv_type | ScalerType: ScalerType.RobustScaler_ | Params: {'kernel': 'rbf', 'degree': 3, 'gamma': 'scale', 'coef0': 0, 'tol': 0.001, 'C': 0.2, 'epsilon': 0.1}\n",
      "R2: 0.26225039569092157 | MSE: 1.3530560503534659\n"
     ]
    },
    {
     "name": "stderr",
     "output_type": "stream",
     "text": [
      "100%|█████████████████████████████████████████████████████████████████████████████████| 81/81 [00:00<00:00, 875.58it/s]\n"
     ]
    },
    {
     "name": "stdout",
     "output_type": "stream",
     "text": [
      "Training | ModelType: ModelType.SVR | Datasetname: orange_std_col_name_ohv_type | ScalerType: ScalerType.StandardScaler_ | Params: {'kernel': 'rbf', 'degree': 3, 'gamma': 'scale', 'coef0': 0, 'tol': 0.001, 'C': 0.2, 'epsilon': 0.1}\n",
      "R2: 0.24567206485799764 | MSE: 1.3834612321485233\n"
     ]
    },
    {
     "name": "stderr",
     "output_type": "stream",
     "text": [
      "100%|████████████████████████████████████████████████████████████████████████████████| 81/81 [00:00<00:00, 1569.64it/s]\n"
     ]
    },
    {
     "name": "stdout",
     "output_type": "stream",
     "text": [
      "Training | ModelType: ModelType.SVR | Datasetname: orange_std_col_name_ohv_type | ScalerType: ScalerType.Raw_ | Params: {'kernel': 'rbf', 'degree': 3, 'gamma': 'scale', 'coef0': 0, 'tol': 0.001, 'C': 0.2, 'epsilon': 0.1}\n",
      "R2: 0.14366468900121088 | MSE: 1.5705459778095747\n"
     ]
    },
    {
     "name": "stderr",
     "output_type": "stream",
     "text": [
      "100%|█████████████████████████████████████████████████████████████████████████████████| 81/81 [00:00<00:00, 981.10it/s]\n"
     ]
    },
    {
     "name": "stdout",
     "output_type": "stream",
     "text": [
      "Training | ModelType: ModelType.SVR | Datasetname: orange_std_col_name_ohv_type | ScalerType: ScalerType.MaxAbsScaler_ | Params: {'kernel': 'rbf', 'degree': 3, 'gamma': 'scale', 'coef0': 0, 'tol': 0.001, 'C': 0.2, 'epsilon': 0.1}\n",
      "R2: 0.3012126394084602 | MSE: 1.2815980661140383\n"
     ]
    },
    {
     "name": "stderr",
     "output_type": "stream",
     "text": [
      "100%|█████████████████████████████████████████████████████████████████████████████████| 81/81 [00:00<00:00, 878.79it/s]\n"
     ]
    },
    {
     "name": "stdout",
     "output_type": "stream",
     "text": [
      "Training | ModelType: ModelType.SVR | Datasetname: orange_std_col_name_ohv_type | ScalerType: ScalerType.MinMaxScaler_ | Params: {'kernel': 'rbf', 'degree': 3, 'gamma': 'scale', 'coef0': 0, 'tol': 0.001, 'C': 0.2, 'epsilon': 0.1}\n",
      "R2: 0.30745714233372 | MSE: 1.2701454507346164\n"
     ]
    },
    {
     "name": "stderr",
     "output_type": "stream",
     "text": [
      "100%|█████████████████████████████████████████████████████████████████████████████████| 81/81 [00:00<00:00, 878.92it/s]\n"
     ]
    },
    {
     "name": "stdout",
     "output_type": "stream",
     "text": [
      "Training | ModelType: ModelType.SVR | Datasetname: orange_std_col_name_ohv_type | ScalerType: ScalerType.Normalizer_ | Params: {'kernel': 'rbf', 'degree': 3, 'gamma': 'scale', 'coef0': 0, 'tol': 0.001, 'C': 0.2, 'epsilon': 0.1}\n",
      "R2: 0.3231188026945191 | MSE: 1.2414214715064522\n"
     ]
    },
    {
     "name": "stderr",
     "output_type": "stream",
     "text": [
      "100%|█████████████████████████████████████████████████████████████████████████████████| 81/81 [00:00<00:00, 586.93it/s]\n"
     ]
    },
    {
     "name": "stdout",
     "output_type": "stream",
     "text": [
      "Training | ModelType: ModelType.SVR | Datasetname: orange_std_col_name_ohv_type | ScalerType: ScalerType.RobustScaler_ | Params: {'kernel': 'rbf', 'degree': 3, 'gamma': 'scale', 'coef0': 0, 'tol': 0.001, 'C': 0.2, 'epsilon': 0.1}\n",
      "R2: 0.26225039569092157 | MSE: 1.3530560503534659\n"
     ]
    },
    {
     "name": "stderr",
     "output_type": "stream",
     "text": [
      "100%|█████████████████████████████████████████████████████████████████████████████████| 81/81 [00:00<00:00, 807.94it/s]\n"
     ]
    },
    {
     "name": "stdout",
     "output_type": "stream",
     "text": [
      "Training | ModelType: ModelType.SVR | Datasetname: orange_std_col_name_ohv_type | ScalerType: ScalerType.StandardScaler_ | Params: {'kernel': 'rbf', 'degree': 3, 'gamma': 'scale', 'coef0': 0, 'tol': 0.001, 'C': 0.2, 'epsilon': 0.1}\n",
      "R2: 0.24567206485799764 | MSE: 1.3834612321485233\n"
     ]
    },
    {
     "name": "stderr",
     "output_type": "stream",
     "text": [
      "100%|██████████████████████████████████████████████████████████████████████████████████| 81/81 [00:01<00:00, 52.06it/s]\n"
     ]
    },
    {
     "name": "stdout",
     "output_type": "stream",
     "text": [
      "Training | ModelType: ModelType.SVR | Datasetname: orange_std_col_name_ohv_type | ScalerType: ScalerType.Raw_ | Params: {'kernel': 'linear', 'degree': 3, 'gamma': 'scale', 'coef0': 0, 'tol': 0.001, 'C': 0.2, 'epsilon': 0.1}\n",
      "R2: 0.3000821438259623 | MSE: 1.2836714306795527\n"
     ]
    },
    {
     "name": "stderr",
     "output_type": "stream",
     "text": [
      "100%|█████████████████████████████████████████████████████████████████████████████████| 81/81 [00:00<00:00, 955.56it/s]\n"
     ]
    },
    {
     "name": "stdout",
     "output_type": "stream",
     "text": [
      "Training | ModelType: ModelType.SVR | Datasetname: orange_std_col_name_ohv_type | ScalerType: ScalerType.MaxAbsScaler_ | Params: {'kernel': 'linear', 'degree': 3, 'gamma': 'scale', 'coef0': 0, 'tol': 0.001, 'C': 0.2, 'epsilon': 0.1}\n",
      "R2: 0.26129640734084936 | MSE: 1.354805695085896\n"
     ]
    },
    {
     "name": "stderr",
     "output_type": "stream",
     "text": [
      "100%|█████████████████████████████████████████████████████████████████████████████████| 81/81 [00:00<00:00, 974.51it/s]\n"
     ]
    },
    {
     "name": "stdout",
     "output_type": "stream",
     "text": [
      "Training | ModelType: ModelType.SVR | Datasetname: orange_std_col_name_ohv_type | ScalerType: ScalerType.MinMaxScaler_ | Params: {'kernel': 'linear', 'degree': 3, 'gamma': 'scale', 'coef0': 0, 'tol': 0.001, 'C': 0.2, 'epsilon': 0.1}\n",
      "R2: 0.2550337362476286 | MSE: 1.3662916314585656\n"
     ]
    },
    {
     "name": "stderr",
     "output_type": "stream",
     "text": [
      "100%|████████████████████████████████████████████████████████████████████████████████| 81/81 [00:00<00:00, 1060.27it/s]\n"
     ]
    },
    {
     "name": "stdout",
     "output_type": "stream",
     "text": [
      "Training | ModelType: ModelType.SVR | Datasetname: orange_std_col_name_ohv_type | ScalerType: ScalerType.Normalizer_ | Params: {'kernel': 'linear', 'degree': 3, 'gamma': 'scale', 'coef0': 0, 'tol': 0.001, 'C': 0.2, 'epsilon': 0.1}\n",
      "R2: 0.23387250102950596 | MSE: 1.405102004487025\n"
     ]
    },
    {
     "name": "stderr",
     "output_type": "stream",
     "text": [
      "100%|█████████████████████████████████████████████████████████████████████████████████| 81/81 [00:00<00:00, 605.44it/s]\n"
     ]
    },
    {
     "name": "stdout",
     "output_type": "stream",
     "text": [
      "Training | ModelType: ModelType.SVR | Datasetname: orange_std_col_name_ohv_type | ScalerType: ScalerType.RobustScaler_ | Params: {'kernel': 'linear', 'degree': 3, 'gamma': 'scale', 'coef0': 0, 'tol': 0.001, 'C': 0.2, 'epsilon': 0.1}\n",
      "R2: 0.2809621409036507 | MSE: 1.318738119276476\n"
     ]
    },
    {
     "name": "stderr",
     "output_type": "stream",
     "text": [
      "100%|█████████████████████████████████████████████████████████████████████████████████| 81/81 [00:00<00:00, 903.14it/s]\n"
     ]
    },
    {
     "name": "stdout",
     "output_type": "stream",
     "text": [
      "Training | ModelType: ModelType.SVR | Datasetname: orange_std_col_name_ohv_type | ScalerType: ScalerType.StandardScaler_ | Params: {'kernel': 'linear', 'degree': 3, 'gamma': 'scale', 'coef0': 0, 'tol': 0.001, 'C': 0.2, 'epsilon': 0.1}\n",
      "R2: 0.3052623536537775 | MSE: 1.2741707624193641\n"
     ]
    },
    {
     "name": "stderr",
     "output_type": "stream",
     "text": [
      "100%|██████████████████████████████████████████████████████████████████████████████████| 81/81 [00:01<00:00, 52.27it/s]\n"
     ]
    },
    {
     "name": "stdout",
     "output_type": "stream",
     "text": [
      "Training | ModelType: ModelType.SVR | Datasetname: orange_std_col_name_ohv_type | ScalerType: ScalerType.Raw_ | Params: {'kernel': 'linear', 'degree': 3, 'gamma': 'scale', 'coef0': 0, 'tol': 0.001, 'C': 0.2, 'epsilon': 0.1}\n",
      "R2: 0.3000821438259623 | MSE: 1.2836714306795527\n"
     ]
    },
    {
     "name": "stderr",
     "output_type": "stream",
     "text": [
      "100%|█████████████████████████████████████████████████████████████████████████████████| 81/81 [00:00<00:00, 968.50it/s]\n"
     ]
    },
    {
     "name": "stdout",
     "output_type": "stream",
     "text": [
      "Training | ModelType: ModelType.SVR | Datasetname: orange_std_col_name_ohv_type | ScalerType: ScalerType.MaxAbsScaler_ | Params: {'kernel': 'linear', 'degree': 3, 'gamma': 'scale', 'coef0': 0, 'tol': 0.001, 'C': 0.2, 'epsilon': 0.1}\n",
      "R2: 0.26129640734084936 | MSE: 1.354805695085896\n"
     ]
    },
    {
     "name": "stderr",
     "output_type": "stream",
     "text": [
      "100%|█████████████████████████████████████████████████████████████████████████████████| 81/81 [00:00<00:00, 950.76it/s]\n"
     ]
    },
    {
     "name": "stdout",
     "output_type": "stream",
     "text": [
      "Training | ModelType: ModelType.SVR | Datasetname: orange_std_col_name_ohv_type | ScalerType: ScalerType.MinMaxScaler_ | Params: {'kernel': 'linear', 'degree': 3, 'gamma': 'scale', 'coef0': 0, 'tol': 0.001, 'C': 0.2, 'epsilon': 0.1}\n",
      "R2: 0.2550337362476286 | MSE: 1.3662916314585656\n"
     ]
    },
    {
     "name": "stderr",
     "output_type": "stream",
     "text": [
      "100%|█████████████████████████████████████████████████████████████████████████████████| 81/81 [00:00<00:00, 827.98it/s]\n"
     ]
    },
    {
     "name": "stdout",
     "output_type": "stream",
     "text": [
      "Training | ModelType: ModelType.SVR | Datasetname: orange_std_col_name_ohv_type | ScalerType: ScalerType.Normalizer_ | Params: {'kernel': 'linear', 'degree': 3, 'gamma': 'scale', 'coef0': 0, 'tol': 0.001, 'C': 0.2, 'epsilon': 0.1}\n",
      "R2: 0.23387250102950596 | MSE: 1.405102004487025\n"
     ]
    },
    {
     "name": "stderr",
     "output_type": "stream",
     "text": [
      "100%|█████████████████████████████████████████████████████████████████████████████████| 81/81 [00:00<00:00, 605.43it/s]\n"
     ]
    },
    {
     "name": "stdout",
     "output_type": "stream",
     "text": [
      "Training | ModelType: ModelType.SVR | Datasetname: orange_std_col_name_ohv_type | ScalerType: ScalerType.RobustScaler_ | Params: {'kernel': 'linear', 'degree': 3, 'gamma': 'scale', 'coef0': 0, 'tol': 0.001, 'C': 0.2, 'epsilon': 0.1}\n",
      "R2: 0.2809621409036507 | MSE: 1.318738119276476\n"
     ]
    },
    {
     "name": "stderr",
     "output_type": "stream",
     "text": [
      "100%|█████████████████████████████████████████████████████████████████████████████████| 81/81 [00:00<00:00, 701.12it/s]\n"
     ]
    },
    {
     "name": "stdout",
     "output_type": "stream",
     "text": [
      "Training | ModelType: ModelType.SVR | Datasetname: orange_std_col_name_ohv_type | ScalerType: ScalerType.StandardScaler_ | Params: {'kernel': 'linear', 'degree': 3, 'gamma': 'scale', 'coef0': 0, 'tol': 0.001, 'C': 0.2, 'epsilon': 0.1}\n",
      "R2: 0.3052623536537775 | MSE: 1.2741707624193641\n"
     ]
    },
    {
     "name": "stderr",
     "output_type": "stream",
     "text": [
      "100%|████████████████████████████████████████████████████████████████████████████████| 81/81 [00:00<00:00, 1109.36it/s]\n"
     ]
    },
    {
     "name": "stdout",
     "output_type": "stream",
     "text": [
      "Training | ModelType: ModelType.SVR | Datasetname: orange_std_col_name_ohv_type | ScalerType: ScalerType.Raw_ | Params: {'kernel': 'poly', 'degree': 3, 'gamma': 'scale', 'coef0': 0, 'tol': 0.001, 'C': 0.2, 'epsilon': 0.1}\n",
      "R2: 0.2214073765586716 | MSE: 1.4279634360420672\n"
     ]
    },
    {
     "name": "stderr",
     "output_type": "stream",
     "text": [
      "100%|█████████████████████████████████████████████████████████████████████████████████| 81/81 [00:00<00:00, 865.23it/s]\n"
     ]
    },
    {
     "name": "stdout",
     "output_type": "stream",
     "text": [
      "Training | ModelType: ModelType.SVR | Datasetname: orange_std_col_name_ohv_type | ScalerType: ScalerType.MaxAbsScaler_ | Params: {'kernel': 'poly', 'degree': 3, 'gamma': 'scale', 'coef0': 0, 'tol': 0.001, 'C': 0.2, 'epsilon': 0.1}\n",
      "R2: 0.31345678316437775 | MSE: 1.2591419201621104\n"
     ]
    },
    {
     "name": "stderr",
     "output_type": "stream",
     "text": [
      "100%|█████████████████████████████████████████████████████████████████████████████████| 81/81 [00:00<00:00, 859.06it/s]\n"
     ]
    },
    {
     "name": "stdout",
     "output_type": "stream",
     "text": [
      "Training | ModelType: ModelType.SVR | Datasetname: orange_std_col_name_ohv_type | ScalerType: ScalerType.MinMaxScaler_ | Params: {'kernel': 'poly', 'degree': 3, 'gamma': 'scale', 'coef0': 0, 'tol': 0.001, 'C': 0.2, 'epsilon': 0.1}\n",
      "R2: 0.3030921400148967 | MSE: 1.2781510027034608\n"
     ]
    },
    {
     "name": "stderr",
     "output_type": "stream",
     "text": [
      "100%|█████████████████████████████████████████████████████████████████████████████████| 81/81 [00:00<00:00, 769.76it/s]\n"
     ]
    },
    {
     "name": "stdout",
     "output_type": "stream",
     "text": [
      "Training | ModelType: ModelType.SVR | Datasetname: orange_std_col_name_ohv_type | ScalerType: ScalerType.Normalizer_ | Params: {'kernel': 'poly', 'degree': 3, 'gamma': 'scale', 'coef0': 0, 'tol': 0.001, 'C': 0.2, 'epsilon': 0.1}\n",
      "R2: 0.32708694676455863 | MSE: 1.234143770086782\n"
     ]
    },
    {
     "name": "stderr",
     "output_type": "stream",
     "text": [
      "100%|█████████████████████████████████████████████████████████████████████████████████| 81/81 [00:00<00:00, 575.98it/s]\n"
     ]
    },
    {
     "name": "stdout",
     "output_type": "stream",
     "text": [
      "Training | ModelType: ModelType.SVR | Datasetname: orange_std_col_name_ohv_type | ScalerType: ScalerType.RobustScaler_ | Params: {'kernel': 'poly', 'degree': 3, 'gamma': 'scale', 'coef0': 0, 'tol': 0.001, 'C': 0.2, 'epsilon': 0.1}\n",
      "R2: 0.16155781363480803 | MSE: 1.537729422702248\n"
     ]
    },
    {
     "name": "stderr",
     "output_type": "stream",
     "text": [
      "100%|█████████████████████████████████████████████████████████████████████████████████| 81/81 [00:00<00:00, 762.60it/s]\n"
     ]
    },
    {
     "name": "stdout",
     "output_type": "stream",
     "text": [
      "Training | ModelType: ModelType.SVR | Datasetname: orange_std_col_name_ohv_type | ScalerType: ScalerType.StandardScaler_ | Params: {'kernel': 'poly', 'degree': 3, 'gamma': 'scale', 'coef0': 0, 'tol': 0.001, 'C': 0.2, 'epsilon': 0.1}\n",
      "R2: 0.115874906223845 | MSE: 1.6215133161928166\n"
     ]
    },
    {
     "name": "stderr",
     "output_type": "stream",
     "text": [
      "100%|████████████████████████████████████████████████████████████████████████████████| 81/81 [00:00<00:00, 1398.97it/s]\n"
     ]
    },
    {
     "name": "stdout",
     "output_type": "stream",
     "text": [
      "Training | ModelType: ModelType.SVR | Datasetname: orange_std_col_name_ohv_type | ScalerType: ScalerType.Raw_ | Params: {'kernel': 'poly', 'degree': 3, 'gamma': 'scale', 'coef0': 0, 'tol': 0.001, 'C': 0.30000000000000004, 'epsilon': 0.1}\n",
      "R2: 0.2338115564722706 | MSE: 1.4052137787277996\n"
     ]
    },
    {
     "name": "stderr",
     "output_type": "stream",
     "text": [
      "100%|█████████████████████████████████████████████████████████████████████████████████| 81/81 [00:00<00:00, 905.21it/s]\n"
     ]
    },
    {
     "name": "stdout",
     "output_type": "stream",
     "text": [
      "Training | ModelType: ModelType.SVR | Datasetname: orange_std_col_name_ohv_type | ScalerType: ScalerType.MaxAbsScaler_ | Params: {'kernel': 'poly', 'degree': 3, 'gamma': 'scale', 'coef0': 0, 'tol': 0.001, 'C': 0.30000000000000004, 'epsilon': 0.1}\n",
      "R2: 0.3141830561345227 | MSE: 1.2578099126209026\n"
     ]
    },
    {
     "name": "stderr",
     "output_type": "stream",
     "text": [
      "100%|█████████████████████████████████████████████████████████████████████████████████| 81/81 [00:00<00:00, 925.24it/s]\n"
     ]
    },
    {
     "name": "stdout",
     "output_type": "stream",
     "text": [
      "Training | ModelType: ModelType.SVR | Datasetname: orange_std_col_name_ohv_type | ScalerType: ScalerType.MinMaxScaler_ | Params: {'kernel': 'poly', 'degree': 3, 'gamma': 'scale', 'coef0': 0, 'tol': 0.001, 'C': 0.30000000000000004, 'epsilon': 0.1}\n",
      "R2: 0.29331570484094405 | MSE: 1.2960812932596903\n"
     ]
    },
    {
     "name": "stderr",
     "output_type": "stream",
     "text": [
      "100%|████████████████████████████████████████████████████████████████████████████████| 81/81 [00:00<00:00, 1020.52it/s]\n"
     ]
    },
    {
     "name": "stdout",
     "output_type": "stream",
     "text": [
      "Training | ModelType: ModelType.SVR | Datasetname: orange_std_col_name_ohv_type | ScalerType: ScalerType.Normalizer_ | Params: {'kernel': 'poly', 'degree': 3, 'gamma': 'scale', 'coef0': 0, 'tol': 0.001, 'C': 0.30000000000000004, 'epsilon': 0.1}\n",
      "R2: 0.32729707175186074 | MSE: 1.2337583942306123\n"
     ]
    },
    {
     "name": "stderr",
     "output_type": "stream",
     "text": [
      "100%|█████████████████████████████████████████████████████████████████████████████████| 81/81 [00:00<00:00, 528.92it/s]\n"
     ]
    },
    {
     "name": "stdout",
     "output_type": "stream",
     "text": [
      "Training | ModelType: ModelType.SVR | Datasetname: orange_std_col_name_ohv_type | ScalerType: ScalerType.RobustScaler_ | Params: {'kernel': 'poly', 'degree': 3, 'gamma': 'scale', 'coef0': 0, 'tol': 0.001, 'C': 0.30000000000000004, 'epsilon': 0.1}\n",
      "R2: 0.18355527345617506 | MSE: 1.4973853873684948\n"
     ]
    },
    {
     "name": "stderr",
     "output_type": "stream",
     "text": [
      "100%|█████████████████████████████████████████████████████████████████████████████████| 81/81 [00:00<00:00, 704.73it/s]\n"
     ]
    },
    {
     "name": "stdout",
     "output_type": "stream",
     "text": [
      "Training | ModelType: ModelType.SVR | Datasetname: orange_std_col_name_ohv_type | ScalerType: ScalerType.StandardScaler_ | Params: {'kernel': 'poly', 'degree': 3, 'gamma': 'scale', 'coef0': 0, 'tol': 0.001, 'C': 0.30000000000000004, 'epsilon': 0.1}\n",
      "R2: 0.11203004059705435 | MSE: 1.6285649210581246\n"
     ]
    },
    {
     "name": "stderr",
     "output_type": "stream",
     "text": [
      "100%|████████████████████████████████████████████████████████████████████████████████| 81/81 [00:00<00:00, 1245.45it/s]\n"
     ]
    },
    {
     "name": "stdout",
     "output_type": "stream",
     "text": [
      "Training | ModelType: ModelType.SVR | Datasetname: orange_std_col_name_ohv_type | ScalerType: ScalerType.Raw_ | Params: {'kernel': 'rbf', 'degree': 3, 'gamma': 'scale', 'coef0': 0, 'tol': 0.001, 'C': 0.30000000000000004, 'epsilon': 0.1}\n",
      "R2: 0.16388619226778522 | MSE: 1.5334591028288624\n"
     ]
    },
    {
     "name": "stderr",
     "output_type": "stream",
     "text": [
      "100%|█████████████████████████████████████████████████████████████████████████████████| 81/81 [00:00<00:00, 892.71it/s]\n"
     ]
    },
    {
     "name": "stdout",
     "output_type": "stream",
     "text": [
      "Training | ModelType: ModelType.SVR | Datasetname: orange_std_col_name_ohv_type | ScalerType: ScalerType.MaxAbsScaler_ | Params: {'kernel': 'rbf', 'degree': 3, 'gamma': 'scale', 'coef0': 0, 'tol': 0.001, 'C': 0.30000000000000004, 'epsilon': 0.1}\n",
      "R2: 0.32781783536387776 | MSE: 1.2328032973360454\n"
     ]
    },
    {
     "name": "stderr",
     "output_type": "stream",
     "text": [
      "100%|█████████████████████████████████████████████████████████████████████████████████| 81/81 [00:00<00:00, 854.61it/s]\n"
     ]
    },
    {
     "name": "stdout",
     "output_type": "stream",
     "text": [
      "Training | ModelType: ModelType.SVR | Datasetname: orange_std_col_name_ohv_type | ScalerType: ScalerType.MinMaxScaler_ | Params: {'kernel': 'rbf', 'degree': 3, 'gamma': 'scale', 'coef0': 0, 'tol': 0.001, 'C': 0.30000000000000004, 'epsilon': 0.1}\n",
      "R2: 0.3121074941302391 | MSE: 1.261616558820882\n"
     ]
    },
    {
     "name": "stderr",
     "output_type": "stream",
     "text": [
      "100%|█████████████████████████████████████████████████████████████████████████████████| 81/81 [00:00<00:00, 818.60it/s]\n"
     ]
    },
    {
     "name": "stdout",
     "output_type": "stream",
     "text": [
      "Training | ModelType: ModelType.SVR | Datasetname: orange_std_col_name_ohv_type | ScalerType: ScalerType.Normalizer_ | Params: {'kernel': 'rbf', 'degree': 3, 'gamma': 'scale', 'coef0': 0, 'tol': 0.001, 'C': 0.30000000000000004, 'epsilon': 0.1}\n",
      "R2: 0.3346627216424649 | MSE: 1.2202495599444851\n"
     ]
    },
    {
     "name": "stderr",
     "output_type": "stream",
     "text": [
      "100%|█████████████████████████████████████████████████████████████████████████████████| 81/81 [00:00<00:00, 520.88it/s]\n"
     ]
    },
    {
     "name": "stdout",
     "output_type": "stream",
     "text": [
      "Training | ModelType: ModelType.SVR | Datasetname: orange_std_col_name_ohv_type | ScalerType: ScalerType.RobustScaler_ | Params: {'kernel': 'rbf', 'degree': 3, 'gamma': 'scale', 'coef0': 0, 'tol': 0.001, 'C': 0.30000000000000004, 'epsilon': 0.1}\n",
      "R2: 0.27756805991406075 | MSE: 1.3249629708948718\n"
     ]
    },
    {
     "name": "stderr",
     "output_type": "stream",
     "text": [
      "100%|█████████████████████████████████████████████████████████████████████████████████| 81/81 [00:00<00:00, 777.98it/s]\n"
     ]
    },
    {
     "name": "stdout",
     "output_type": "stream",
     "text": [
      "Training | ModelType: ModelType.SVR | Datasetname: orange_std_col_name_ohv_type | ScalerType: ScalerType.StandardScaler_ | Params: {'kernel': 'rbf', 'degree': 3, 'gamma': 'scale', 'coef0': 0, 'tol': 0.001, 'C': 0.30000000000000004, 'epsilon': 0.1}\n",
      "R2: 0.26653686948314703 | MSE: 1.3451945221799821\n"
     ]
    },
    {
     "name": "stderr",
     "output_type": "stream",
     "text": [
      "100%|████████████████████████████████████████████████████████████████████████████████| 81/81 [00:00<00:00, 1257.56it/s]\n"
     ]
    },
    {
     "name": "stdout",
     "output_type": "stream",
     "text": [
      "Training | ModelType: ModelType.SVR | Datasetname: orange_std_col_name_ohv_type | ScalerType: ScalerType.Raw_ | Params: {'kernel': 'rbf', 'degree': 3, 'gamma': 'scale', 'coef0': 0, 'tol': 0.001, 'C': 0.30000000000000004, 'epsilon': 0.1}\n",
      "R2: 0.16388619226778522 | MSE: 1.5334591028288624\n"
     ]
    },
    {
     "name": "stderr",
     "output_type": "stream",
     "text": [
      "100%|█████████████████████████████████████████████████████████████████████████████████| 81/81 [00:00<00:00, 927.44it/s]\n"
     ]
    },
    {
     "name": "stdout",
     "output_type": "stream",
     "text": [
      "Training | ModelType: ModelType.SVR | Datasetname: orange_std_col_name_ohv_type | ScalerType: ScalerType.MaxAbsScaler_ | Params: {'kernel': 'rbf', 'degree': 3, 'gamma': 'scale', 'coef0': 0, 'tol': 0.001, 'C': 0.30000000000000004, 'epsilon': 0.1}\n",
      "R2: 0.32781783536387776 | MSE: 1.2328032973360454\n"
     ]
    },
    {
     "name": "stderr",
     "output_type": "stream",
     "text": [
      "100%|█████████████████████████████████████████████████████████████████████████████████| 81/81 [00:00<00:00, 898.11it/s]\n"
     ]
    },
    {
     "name": "stdout",
     "output_type": "stream",
     "text": [
      "Training | ModelType: ModelType.SVR | Datasetname: orange_std_col_name_ohv_type | ScalerType: ScalerType.MinMaxScaler_ | Params: {'kernel': 'rbf', 'degree': 3, 'gamma': 'scale', 'coef0': 0, 'tol': 0.001, 'C': 0.30000000000000004, 'epsilon': 0.1}\n",
      "R2: 0.3121074941302391 | MSE: 1.261616558820882\n"
     ]
    },
    {
     "name": "stderr",
     "output_type": "stream",
     "text": [
      "100%|█████████████████████████████████████████████████████████████████████████████████| 81/81 [00:00<00:00, 981.68it/s]\n"
     ]
    },
    {
     "name": "stdout",
     "output_type": "stream",
     "text": [
      "Training | ModelType: ModelType.SVR | Datasetname: orange_std_col_name_ohv_type | ScalerType: ScalerType.Normalizer_ | Params: {'kernel': 'rbf', 'degree': 3, 'gamma': 'scale', 'coef0': 0, 'tol': 0.001, 'C': 0.30000000000000004, 'epsilon': 0.1}\n",
      "R2: 0.3346627216424649 | MSE: 1.2202495599444851\n"
     ]
    },
    {
     "name": "stderr",
     "output_type": "stream",
     "text": [
      "100%|█████████████████████████████████████████████████████████████████████████████████| 81/81 [00:00<00:00, 535.73it/s]\n"
     ]
    },
    {
     "name": "stdout",
     "output_type": "stream",
     "text": [
      "Training | ModelType: ModelType.SVR | Datasetname: orange_std_col_name_ohv_type | ScalerType: ScalerType.RobustScaler_ | Params: {'kernel': 'rbf', 'degree': 3, 'gamma': 'scale', 'coef0': 0, 'tol': 0.001, 'C': 0.30000000000000004, 'epsilon': 0.1}\n",
      "R2: 0.27756805991406075 | MSE: 1.3249629708948718\n"
     ]
    },
    {
     "name": "stderr",
     "output_type": "stream",
     "text": [
      "100%|█████████████████████████████████████████████████████████████████████████████████| 81/81 [00:00<00:00, 836.73it/s]\n"
     ]
    },
    {
     "name": "stdout",
     "output_type": "stream",
     "text": [
      "Training | ModelType: ModelType.SVR | Datasetname: orange_std_col_name_ohv_type | ScalerType: ScalerType.StandardScaler_ | Params: {'kernel': 'rbf', 'degree': 3, 'gamma': 'scale', 'coef0': 0, 'tol': 0.001, 'C': 0.30000000000000004, 'epsilon': 0.1}\n",
      "R2: 0.26653686948314703 | MSE: 1.3451945221799821\n"
     ]
    },
    {
     "name": "stderr",
     "output_type": "stream",
     "text": [
      "100%|██████████████████████████████████████████████████████████████████████████████████| 81/81 [00:02<00:00, 37.47it/s]\n"
     ]
    },
    {
     "name": "stdout",
     "output_type": "stream",
     "text": [
      "Training | ModelType: ModelType.SVR | Datasetname: orange_std_col_name_ohv_type | ScalerType: ScalerType.Raw_ | Params: {'kernel': 'linear', 'degree': 3, 'gamma': 'scale', 'coef0': 0, 'tol': 0.001, 'C': 0.30000000000000004, 'epsilon': 0.1}\n",
      "R2: 0.2896224886813661 | MSE: 1.3028547682175793\n"
     ]
    },
    {
     "name": "stderr",
     "output_type": "stream",
     "text": [
      "100%|████████████████████████████████████████████████████████████████████████████████| 81/81 [00:00<00:00, 1085.08it/s]\n"
     ]
    },
    {
     "name": "stdout",
     "output_type": "stream",
     "text": [
      "Training | ModelType: ModelType.SVR | Datasetname: orange_std_col_name_ohv_type | ScalerType: ScalerType.MaxAbsScaler_ | Params: {'kernel': 'linear', 'degree': 3, 'gamma': 'scale', 'coef0': 0, 'tol': 0.001, 'C': 0.30000000000000004, 'epsilon': 0.1}\n",
      "R2: 0.2842594761907138 | MSE: 1.3126907023288477\n"
     ]
    },
    {
     "name": "stderr",
     "output_type": "stream",
     "text": [
      "100%|█████████████████████████████████████████████████████████████████████████████████| 81/81 [00:00<00:00, 905.28it/s]\n"
     ]
    },
    {
     "name": "stdout",
     "output_type": "stream",
     "text": [
      "Training | ModelType: ModelType.SVR | Datasetname: orange_std_col_name_ohv_type | ScalerType: ScalerType.MinMaxScaler_ | Params: {'kernel': 'linear', 'degree': 3, 'gamma': 'scale', 'coef0': 0, 'tol': 0.001, 'C': 0.30000000000000004, 'epsilon': 0.1}\n",
      "R2: 0.2806589952366839 | MSE: 1.3192940979939594\n"
     ]
    },
    {
     "name": "stderr",
     "output_type": "stream",
     "text": [
      "100%|█████████████████████████████████████████████████████████████████████████████████| 81/81 [00:00<00:00, 920.51it/s]\n"
     ]
    },
    {
     "name": "stdout",
     "output_type": "stream",
     "text": [
      "Training | ModelType: ModelType.SVR | Datasetname: orange_std_col_name_ohv_type | ScalerType: ScalerType.Normalizer_ | Params: {'kernel': 'linear', 'degree': 3, 'gamma': 'scale', 'coef0': 0, 'tol': 0.001, 'C': 0.30000000000000004, 'epsilon': 0.1}\n",
      "R2: 0.29986704261085595 | MSE: 1.2840659330945159\n"
     ]
    },
    {
     "name": "stderr",
     "output_type": "stream",
     "text": [
      "100%|█████████████████████████████████████████████████████████████████████████████████| 81/81 [00:00<00:00, 572.69it/s]\n"
     ]
    },
    {
     "name": "stdout",
     "output_type": "stream",
     "text": [
      "Training | ModelType: ModelType.SVR | Datasetname: orange_std_col_name_ohv_type | ScalerType: ScalerType.RobustScaler_ | Params: {'kernel': 'linear', 'degree': 3, 'gamma': 'scale', 'coef0': 0, 'tol': 0.001, 'C': 0.30000000000000004, 'epsilon': 0.1}\n",
      "R2: 0.2824302561333222 | MSE: 1.316045549626122\n"
     ]
    },
    {
     "name": "stderr",
     "output_type": "stream",
     "text": [
      "100%|█████████████████████████████████████████████████████████████████████████████████| 81/81 [00:00<00:00, 728.26it/s]\n"
     ]
    },
    {
     "name": "stdout",
     "output_type": "stream",
     "text": [
      "Training | ModelType: ModelType.SVR | Datasetname: orange_std_col_name_ohv_type | ScalerType: ScalerType.StandardScaler_ | Params: {'kernel': 'linear', 'degree': 3, 'gamma': 'scale', 'coef0': 0, 'tol': 0.001, 'C': 0.30000000000000004, 'epsilon': 0.1}\n",
      "R2: 0.2930736219741872 | MSE: 1.2965252808750534\n"
     ]
    },
    {
     "name": "stderr",
     "output_type": "stream",
     "text": [
      "100%|██████████████████████████████████████████████████████████████████████████████████| 81/81 [00:02<00:00, 37.73it/s]\n"
     ]
    },
    {
     "name": "stdout",
     "output_type": "stream",
     "text": [
      "Training | ModelType: ModelType.SVR | Datasetname: orange_std_col_name_ohv_type | ScalerType: ScalerType.Raw_ | Params: {'kernel': 'linear', 'degree': 3, 'gamma': 'scale', 'coef0': 0, 'tol': 0.001, 'C': 0.30000000000000004, 'epsilon': 0.1}\n",
      "R2: 0.2896224886813661 | MSE: 1.3028547682175793\n"
     ]
    },
    {
     "name": "stderr",
     "output_type": "stream",
     "text": [
      "100%|████████████████████████████████████████████████████████████████████████████████| 81/81 [00:00<00:00, 1137.36it/s]\n"
     ]
    },
    {
     "name": "stdout",
     "output_type": "stream",
     "text": [
      "Training | ModelType: ModelType.SVR | Datasetname: orange_std_col_name_ohv_type | ScalerType: ScalerType.MaxAbsScaler_ | Params: {'kernel': 'linear', 'degree': 3, 'gamma': 'scale', 'coef0': 0, 'tol': 0.001, 'C': 0.30000000000000004, 'epsilon': 0.1}\n",
      "R2: 0.2842594761907138 | MSE: 1.3126907023288477\n"
     ]
    },
    {
     "name": "stderr",
     "output_type": "stream",
     "text": [
      "100%|█████████████████████████████████████████████████████████████████████████████████| 81/81 [00:00<00:00, 999.74it/s]\n"
     ]
    },
    {
     "name": "stdout",
     "output_type": "stream",
     "text": [
      "Training | ModelType: ModelType.SVR | Datasetname: orange_std_col_name_ohv_type | ScalerType: ScalerType.MinMaxScaler_ | Params: {'kernel': 'linear', 'degree': 3, 'gamma': 'scale', 'coef0': 0, 'tol': 0.001, 'C': 0.30000000000000004, 'epsilon': 0.1}\n",
      "R2: 0.2806589952366839 | MSE: 1.3192940979939594\n"
     ]
    },
    {
     "name": "stderr",
     "output_type": "stream",
     "text": [
      "100%|█████████████████████████████████████████████████████████████████████████████████| 81/81 [00:00<00:00, 834.53it/s]\n"
     ]
    },
    {
     "name": "stdout",
     "output_type": "stream",
     "text": [
      "Training | ModelType: ModelType.SVR | Datasetname: orange_std_col_name_ohv_type | ScalerType: ScalerType.Normalizer_ | Params: {'kernel': 'linear', 'degree': 3, 'gamma': 'scale', 'coef0': 0, 'tol': 0.001, 'C': 0.30000000000000004, 'epsilon': 0.1}\n",
      "R2: 0.29986704261085595 | MSE: 1.2840659330945159\n"
     ]
    },
    {
     "name": "stderr",
     "output_type": "stream",
     "text": [
      "100%|█████████████████████████████████████████████████████████████████████████████████| 81/81 [00:00<00:00, 512.07it/s]\n"
     ]
    },
    {
     "name": "stdout",
     "output_type": "stream",
     "text": [
      "Training | ModelType: ModelType.SVR | Datasetname: orange_std_col_name_ohv_type | ScalerType: ScalerType.RobustScaler_ | Params: {'kernel': 'linear', 'degree': 3, 'gamma': 'scale', 'coef0': 0, 'tol': 0.001, 'C': 0.30000000000000004, 'epsilon': 0.1}\n",
      "R2: 0.2824302561333222 | MSE: 1.316045549626122\n"
     ]
    },
    {
     "name": "stderr",
     "output_type": "stream",
     "text": [
      "100%|█████████████████████████████████████████████████████████████████████████████████| 81/81 [00:00<00:00, 780.06it/s]\n"
     ]
    },
    {
     "name": "stdout",
     "output_type": "stream",
     "text": [
      "Training | ModelType: ModelType.SVR | Datasetname: orange_std_col_name_ohv_type | ScalerType: ScalerType.StandardScaler_ | Params: {'kernel': 'linear', 'degree': 3, 'gamma': 'scale', 'coef0': 0, 'tol': 0.001, 'C': 0.30000000000000004, 'epsilon': 0.1}\n",
      "R2: 0.2930736219741872 | MSE: 1.2965252808750534\n"
     ]
    },
    {
     "name": "stderr",
     "output_type": "stream",
     "text": [
      "100%|████████████████████████████████████████████████████████████████████████████████| 81/81 [00:00<00:00, 1456.67it/s]\n"
     ]
    },
    {
     "name": "stdout",
     "output_type": "stream",
     "text": [
      "Training | ModelType: ModelType.SVR | Datasetname: orange_std_col_name_ohv_type | ScalerType: ScalerType.Raw_ | Params: {'kernel': 'poly', 'degree': 3, 'gamma': 'scale', 'coef0': 0, 'tol': 0.001, 'C': 0.30000000000000004, 'epsilon': 0.1}\n",
      "R2: 0.2338115564722706 | MSE: 1.4052137787277996\n"
     ]
    },
    {
     "name": "stderr",
     "output_type": "stream",
     "text": [
      "100%|█████████████████████████████████████████████████████████████████████████████████| 81/81 [00:00<00:00, 892.01it/s]\n"
     ]
    },
    {
     "name": "stdout",
     "output_type": "stream",
     "text": [
      "Training | ModelType: ModelType.SVR | Datasetname: orange_std_col_name_ohv_type | ScalerType: ScalerType.MaxAbsScaler_ | Params: {'kernel': 'poly', 'degree': 3, 'gamma': 'scale', 'coef0': 0, 'tol': 0.001, 'C': 0.30000000000000004, 'epsilon': 0.1}\n",
      "R2: 0.3141830561345227 | MSE: 1.2578099126209026\n"
     ]
    },
    {
     "name": "stderr",
     "output_type": "stream",
     "text": [
      "100%|█████████████████████████████████████████████████████████████████████████████████| 81/81 [00:00<00:00, 852.40it/s]\n"
     ]
    },
    {
     "name": "stdout",
     "output_type": "stream",
     "text": [
      "Training | ModelType: ModelType.SVR | Datasetname: orange_std_col_name_ohv_type | ScalerType: ScalerType.MinMaxScaler_ | Params: {'kernel': 'poly', 'degree': 3, 'gamma': 'scale', 'coef0': 0, 'tol': 0.001, 'C': 0.30000000000000004, 'epsilon': 0.1}\n",
      "R2: 0.29331570484094405 | MSE: 1.2960812932596903\n"
     ]
    },
    {
     "name": "stderr",
     "output_type": "stream",
     "text": [
      "100%|█████████████████████████████████████████████████████████████████████████████████| 81/81 [00:00<00:00, 846.96it/s]\n"
     ]
    },
    {
     "name": "stdout",
     "output_type": "stream",
     "text": [
      "Training | ModelType: ModelType.SVR | Datasetname: orange_std_col_name_ohv_type | ScalerType: ScalerType.Normalizer_ | Params: {'kernel': 'poly', 'degree': 3, 'gamma': 'scale', 'coef0': 0, 'tol': 0.001, 'C': 0.30000000000000004, 'epsilon': 0.1}\n",
      "R2: 0.32729707175186074 | MSE: 1.2337583942306123\n"
     ]
    },
    {
     "name": "stderr",
     "output_type": "stream",
     "text": [
      "100%|█████████████████████████████████████████████████████████████████████████████████| 81/81 [00:00<00:00, 503.57it/s]\n"
     ]
    },
    {
     "name": "stdout",
     "output_type": "stream",
     "text": [
      "Training | ModelType: ModelType.SVR | Datasetname: orange_std_col_name_ohv_type | ScalerType: ScalerType.RobustScaler_ | Params: {'kernel': 'poly', 'degree': 3, 'gamma': 'scale', 'coef0': 0, 'tol': 0.001, 'C': 0.30000000000000004, 'epsilon': 0.1}\n",
      "R2: 0.18355527345617506 | MSE: 1.4973853873684948\n"
     ]
    },
    {
     "name": "stderr",
     "output_type": "stream",
     "text": [
      "100%|█████████████████████████████████████████████████████████████████████████████████| 81/81 [00:00<00:00, 794.50it/s]\n"
     ]
    },
    {
     "name": "stdout",
     "output_type": "stream",
     "text": [
      "Training | ModelType: ModelType.SVR | Datasetname: orange_std_col_name_ohv_type | ScalerType: ScalerType.StandardScaler_ | Params: {'kernel': 'poly', 'degree': 3, 'gamma': 'scale', 'coef0': 0, 'tol': 0.001, 'C': 0.30000000000000004, 'epsilon': 0.1}\n",
      "R2: 0.11203004059705435 | MSE: 1.6285649210581246\n"
     ]
    },
    {
     "name": "stderr",
     "output_type": "stream",
     "text": [
      "100%|████████████████████████████████████████████████████████████████████████████████| 81/81 [00:00<00:00, 1255.77it/s]\n"
     ]
    },
    {
     "name": "stdout",
     "output_type": "stream",
     "text": [
      "Training | ModelType: ModelType.SVR | Datasetname: orange_std_col_name_ohv_type | ScalerType: ScalerType.Raw_ | Params: {'kernel': 'poly', 'degree': 3, 'gamma': 'scale', 'coef0': 0, 'tol': 0.001, 'C': 0.4, 'epsilon': 0.1}\n",
      "R2: 0.2400189726538663 | MSE: 1.3938291816063468\n"
     ]
    },
    {
     "name": "stderr",
     "output_type": "stream",
     "text": [
      "100%|█████████████████████████████████████████████████████████████████████████████████| 81/81 [00:00<00:00, 890.44it/s]\n"
     ]
    },
    {
     "name": "stdout",
     "output_type": "stream",
     "text": [
      "Training | ModelType: ModelType.SVR | Datasetname: orange_std_col_name_ohv_type | ScalerType: ScalerType.MaxAbsScaler_ | Params: {'kernel': 'poly', 'degree': 3, 'gamma': 'scale', 'coef0': 0, 'tol': 0.001, 'C': 0.4, 'epsilon': 0.1}\n",
      "R2: 0.3145566182763566 | MSE: 1.2571247878668679\n"
     ]
    },
    {
     "name": "stderr",
     "output_type": "stream",
     "text": [
      "100%|█████████████████████████████████████████████████████████████████████████████████| 81/81 [00:00<00:00, 776.98it/s]\n"
     ]
    },
    {
     "name": "stdout",
     "output_type": "stream",
     "text": [
      "Training | ModelType: ModelType.SVR | Datasetname: orange_std_col_name_ohv_type | ScalerType: ScalerType.MinMaxScaler_ | Params: {'kernel': 'poly', 'degree': 3, 'gamma': 'scale', 'coef0': 0, 'tol': 0.001, 'C': 0.4, 'epsilon': 0.1}\n",
      "R2: 0.28410923269432276 | MSE: 1.3129662536414215\n"
     ]
    },
    {
     "name": "stderr",
     "output_type": "stream",
     "text": [
      "100%|█████████████████████████████████████████████████████████████████████████████████| 81/81 [00:00<00:00, 878.98it/s]\n"
     ]
    },
    {
     "name": "stdout",
     "output_type": "stream",
     "text": [
      "Training | ModelType: ModelType.SVR | Datasetname: orange_std_col_name_ohv_type | ScalerType: ScalerType.Normalizer_ | Params: {'kernel': 'poly', 'degree': 3, 'gamma': 'scale', 'coef0': 0, 'tol': 0.001, 'C': 0.4, 'epsilon': 0.1}\n",
      "R2: 0.3263809226760468 | MSE: 1.2354386405402213\n"
     ]
    },
    {
     "name": "stderr",
     "output_type": "stream",
     "text": [
      "100%|█████████████████████████████████████████████████████████████████████████████████| 81/81 [00:00<00:00, 470.29it/s]\n"
     ]
    },
    {
     "name": "stdout",
     "output_type": "stream",
     "text": [
      "Training | ModelType: ModelType.SVR | Datasetname: orange_std_col_name_ohv_type | ScalerType: ScalerType.RobustScaler_ | Params: {'kernel': 'poly', 'degree': 3, 'gamma': 'scale', 'coef0': 0, 'tol': 0.001, 'C': 0.4, 'epsilon': 0.1}\n",
      "R2: 0.19325098450199785 | MSE: 1.4796031474101075\n"
     ]
    },
    {
     "name": "stderr",
     "output_type": "stream",
     "text": [
      "100%|█████████████████████████████████████████████████████████████████████████████████| 81/81 [00:00<00:00, 799.67it/s]\n"
     ]
    },
    {
     "name": "stdout",
     "output_type": "stream",
     "text": [
      "Training | ModelType: ModelType.SVR | Datasetname: orange_std_col_name_ohv_type | ScalerType: ScalerType.StandardScaler_ | Params: {'kernel': 'poly', 'degree': 3, 'gamma': 'scale', 'coef0': 0, 'tol': 0.001, 'C': 0.4, 'epsilon': 0.1}\n",
      "R2: 0.12028157888949176 | MSE: 1.6134313394931954\n"
     ]
    },
    {
     "name": "stderr",
     "output_type": "stream",
     "text": [
      "100%|████████████████████████████████████████████████████████████████████████████████| 81/81 [00:00<00:00, 1220.14it/s]\n"
     ]
    },
    {
     "name": "stdout",
     "output_type": "stream",
     "text": [
      "Training | ModelType: ModelType.SVR | Datasetname: orange_std_col_name_ohv_type | ScalerType: ScalerType.Raw_ | Params: {'kernel': 'rbf', 'degree': 3, 'gamma': 'scale', 'coef0': 0, 'tol': 0.001, 'C': 0.4, 'epsilon': 0.1}\n",
      "R2: 0.17644769007966776 | MSE: 1.5104209195257523\n"
     ]
    },
    {
     "name": "stderr",
     "output_type": "stream",
     "text": [
      "100%|████████████████████████████████████████████████████████████████████████████████| 81/81 [00:00<00:00, 1035.21it/s]\n"
     ]
    },
    {
     "name": "stdout",
     "output_type": "stream",
     "text": [
      "Training | ModelType: ModelType.SVR | Datasetname: orange_std_col_name_ohv_type | ScalerType: ScalerType.MaxAbsScaler_ | Params: {'kernel': 'rbf', 'degree': 3, 'gamma': 'scale', 'coef0': 0, 'tol': 0.001, 'C': 0.4, 'epsilon': 0.1}\n",
      "R2: 0.29961676890214595 | MSE: 1.2845249429724428\n"
     ]
    },
    {
     "name": "stderr",
     "output_type": "stream",
     "text": [
      "100%|█████████████████████████████████████████████████████████████████████████████████| 81/81 [00:00<00:00, 790.26it/s]\n"
     ]
    },
    {
     "name": "stdout",
     "output_type": "stream",
     "text": [
      "Training | ModelType: ModelType.SVR | Datasetname: orange_std_col_name_ohv_type | ScalerType: ScalerType.MinMaxScaler_ | Params: {'kernel': 'rbf', 'degree': 3, 'gamma': 'scale', 'coef0': 0, 'tol': 0.001, 'C': 0.4, 'epsilon': 0.1}\n",
      "R2: 0.2949958756661819 | MSE: 1.2929998069566992\n"
     ]
    },
    {
     "name": "stderr",
     "output_type": "stream",
     "text": [
      "100%|█████████████████████████████████████████████████████████████████████████████████| 81/81 [00:00<00:00, 860.47it/s]\n"
     ]
    },
    {
     "name": "stdout",
     "output_type": "stream",
     "text": [
      "Training | ModelType: ModelType.SVR | Datasetname: orange_std_col_name_ohv_type | ScalerType: ScalerType.Normalizer_ | Params: {'kernel': 'rbf', 'degree': 3, 'gamma': 'scale', 'coef0': 0, 'tol': 0.001, 'C': 0.4, 'epsilon': 0.1}\n",
      "R2: 0.3041543043616918 | MSE: 1.2762029597800806\n"
     ]
    },
    {
     "name": "stderr",
     "output_type": "stream",
     "text": [
      "100%|█████████████████████████████████████████████████████████████████████████████████| 81/81 [00:00<00:00, 575.48it/s]\n"
     ]
    },
    {
     "name": "stdout",
     "output_type": "stream",
     "text": [
      "Training | ModelType: ModelType.SVR | Datasetname: orange_std_col_name_ohv_type | ScalerType: ScalerType.RobustScaler_ | Params: {'kernel': 'rbf', 'degree': 3, 'gamma': 'scale', 'coef0': 0, 'tol': 0.001, 'C': 0.4, 'epsilon': 0.1}\n",
      "R2: 0.2772016208425301 | MSE: 1.3256350317132368\n"
     ]
    },
    {
     "name": "stderr",
     "output_type": "stream",
     "text": [
      "100%|█████████████████████████████████████████████████████████████████████████████████| 81/81 [00:00<00:00, 736.83it/s]\n"
     ]
    },
    {
     "name": "stdout",
     "output_type": "stream",
     "text": [
      "Training | ModelType: ModelType.SVR | Datasetname: orange_std_col_name_ohv_type | ScalerType: ScalerType.StandardScaler_ | Params: {'kernel': 'rbf', 'degree': 3, 'gamma': 'scale', 'coef0': 0, 'tol': 0.001, 'C': 0.4, 'epsilon': 0.1}\n",
      "R2: 0.26635851461416593 | MSE: 1.3455216306368019\n"
     ]
    },
    {
     "name": "stderr",
     "output_type": "stream",
     "text": [
      "100%|████████████████████████████████████████████████████████████████████████████████| 81/81 [00:00<00:00, 1498.69it/s]\n"
     ]
    },
    {
     "name": "stdout",
     "output_type": "stream",
     "text": [
      "Training | ModelType: ModelType.SVR | Datasetname: orange_std_col_name_ohv_type | ScalerType: ScalerType.Raw_ | Params: {'kernel': 'rbf', 'degree': 3, 'gamma': 'scale', 'coef0': 0, 'tol': 0.001, 'C': 0.4, 'epsilon': 0.1}\n",
      "R2: 0.17644769007966776 | MSE: 1.5104209195257523\n"
     ]
    },
    {
     "name": "stderr",
     "output_type": "stream",
     "text": [
      "100%|████████████████████████████████████████████████████████████████████████████████| 81/81 [00:00<00:00, 1022.59it/s]\n"
     ]
    },
    {
     "name": "stdout",
     "output_type": "stream",
     "text": [
      "Training | ModelType: ModelType.SVR | Datasetname: orange_std_col_name_ohv_type | ScalerType: ScalerType.MaxAbsScaler_ | Params: {'kernel': 'rbf', 'degree': 3, 'gamma': 'scale', 'coef0': 0, 'tol': 0.001, 'C': 0.4, 'epsilon': 0.1}\n",
      "R2: 0.29961676890214595 | MSE: 1.2845249429724428\n"
     ]
    },
    {
     "name": "stderr",
     "output_type": "stream",
     "text": [
      "100%|█████████████████████████████████████████████████████████████████████████████████| 81/81 [00:00<00:00, 884.09it/s]\n"
     ]
    },
    {
     "name": "stdout",
     "output_type": "stream",
     "text": [
      "Training | ModelType: ModelType.SVR | Datasetname: orange_std_col_name_ohv_type | ScalerType: ScalerType.MinMaxScaler_ | Params: {'kernel': 'rbf', 'degree': 3, 'gamma': 'scale', 'coef0': 0, 'tol': 0.001, 'C': 0.4, 'epsilon': 0.1}\n",
      "R2: 0.2949958756661819 | MSE: 1.2929998069566992\n"
     ]
    },
    {
     "name": "stderr",
     "output_type": "stream",
     "text": [
      "100%|█████████████████████████████████████████████████████████████████████████████████| 81/81 [00:00<00:00, 763.92it/s]\n"
     ]
    },
    {
     "name": "stdout",
     "output_type": "stream",
     "text": [
      "Training | ModelType: ModelType.SVR | Datasetname: orange_std_col_name_ohv_type | ScalerType: ScalerType.Normalizer_ | Params: {'kernel': 'rbf', 'degree': 3, 'gamma': 'scale', 'coef0': 0, 'tol': 0.001, 'C': 0.4, 'epsilon': 0.1}\n",
      "R2: 0.3041543043616918 | MSE: 1.2762029597800806\n"
     ]
    },
    {
     "name": "stderr",
     "output_type": "stream",
     "text": [
      "100%|█████████████████████████████████████████████████████████████████████████████████| 81/81 [00:00<00:00, 555.17it/s]\n"
     ]
    },
    {
     "name": "stdout",
     "output_type": "stream",
     "text": [
      "Training | ModelType: ModelType.SVR | Datasetname: orange_std_col_name_ohv_type | ScalerType: ScalerType.RobustScaler_ | Params: {'kernel': 'rbf', 'degree': 3, 'gamma': 'scale', 'coef0': 0, 'tol': 0.001, 'C': 0.4, 'epsilon': 0.1}\n",
      "R2: 0.2772016208425301 | MSE: 1.3256350317132368\n"
     ]
    },
    {
     "name": "stderr",
     "output_type": "stream",
     "text": [
      "100%|█████████████████████████████████████████████████████████████████████████████████| 81/81 [00:00<00:00, 782.51it/s]\n"
     ]
    },
    {
     "name": "stdout",
     "output_type": "stream",
     "text": [
      "Training | ModelType: ModelType.SVR | Datasetname: orange_std_col_name_ohv_type | ScalerType: ScalerType.StandardScaler_ | Params: {'kernel': 'rbf', 'degree': 3, 'gamma': 'scale', 'coef0': 0, 'tol': 0.001, 'C': 0.4, 'epsilon': 0.1}\n",
      "R2: 0.26635851461416593 | MSE: 1.3455216306368019\n"
     ]
    },
    {
     "name": "stderr",
     "output_type": "stream",
     "text": [
      "100%|██████████████████████████████████████████████████████████████████████████████████| 81/81 [00:02<00:00, 28.07it/s]\n"
     ]
    },
    {
     "name": "stdout",
     "output_type": "stream",
     "text": [
      "Training | ModelType: ModelType.SVR | Datasetname: orange_std_col_name_ohv_type | ScalerType: ScalerType.Raw_ | Params: {'kernel': 'linear', 'degree': 3, 'gamma': 'scale', 'coef0': 0, 'tol': 0.001, 'C': 0.4, 'epsilon': 0.1}\n",
      "R2: 0.28728627642639915 | MSE: 1.3071394552008455\n"
     ]
    },
    {
     "name": "stderr",
     "output_type": "stream",
     "text": [
      "100%|█████████████████████████████████████████████████████████████████████████████████| 81/81 [00:00<00:00, 991.23it/s]\n"
     ]
    },
    {
     "name": "stdout",
     "output_type": "stream",
     "text": [
      "Training | ModelType: ModelType.SVR | Datasetname: orange_std_col_name_ohv_type | ScalerType: ScalerType.MaxAbsScaler_ | Params: {'kernel': 'linear', 'degree': 3, 'gamma': 'scale', 'coef0': 0, 'tol': 0.001, 'C': 0.4, 'epsilon': 0.1}\n",
      "R2: 0.2883567262304959 | MSE: 1.3051762164873675\n"
     ]
    },
    {
     "name": "stderr",
     "output_type": "stream",
     "text": [
      "100%|█████████████████████████████████████████████████████████████████████████████████| 81/81 [00:00<00:00, 966.84it/s]\n"
     ]
    },
    {
     "name": "stdout",
     "output_type": "stream",
     "text": [
      "Training | ModelType: ModelType.SVR | Datasetname: orange_std_col_name_ohv_type | ScalerType: ScalerType.MinMaxScaler_ | Params: {'kernel': 'linear', 'degree': 3, 'gamma': 'scale', 'coef0': 0, 'tol': 0.001, 'C': 0.4, 'epsilon': 0.1}\n",
      "R2: 0.28308413913938413 | MSE: 1.3148463075629508\n"
     ]
    },
    {
     "name": "stderr",
     "output_type": "stream",
     "text": [
      "100%|█████████████████████████████████████████████████████████████████████████████████| 81/81 [00:00<00:00, 897.68it/s]\n"
     ]
    },
    {
     "name": "stdout",
     "output_type": "stream",
     "text": [
      "Training | ModelType: ModelType.SVR | Datasetname: orange_std_col_name_ohv_type | ScalerType: ScalerType.Normalizer_ | Params: {'kernel': 'linear', 'degree': 3, 'gamma': 'scale', 'coef0': 0, 'tol': 0.001, 'C': 0.4, 'epsilon': 0.1}\n",
      "R2: 0.2771532603803323 | MSE: 1.3257237263266834\n"
     ]
    },
    {
     "name": "stderr",
     "output_type": "stream",
     "text": [
      "100%|█████████████████████████████████████████████████████████████████████████████████| 81/81 [00:00<00:00, 536.15it/s]\n"
     ]
    },
    {
     "name": "stdout",
     "output_type": "stream",
     "text": [
      "Training | ModelType: ModelType.SVR | Datasetname: orange_std_col_name_ohv_type | ScalerType: ScalerType.RobustScaler_ | Params: {'kernel': 'linear', 'degree': 3, 'gamma': 'scale', 'coef0': 0, 'tol': 0.001, 'C': 0.4, 'epsilon': 0.1}\n",
      "R2: 0.26601389730659397 | MSE: 1.3461536696515886\n"
     ]
    },
    {
     "name": "stderr",
     "output_type": "stream",
     "text": [
      "100%|█████████████████████████████████████████████████████████████████████████████████| 81/81 [00:00<00:00, 768.96it/s]\n"
     ]
    },
    {
     "name": "stdout",
     "output_type": "stream",
     "text": [
      "Training | ModelType: ModelType.SVR | Datasetname: orange_std_col_name_ohv_type | ScalerType: ScalerType.StandardScaler_ | Params: {'kernel': 'linear', 'degree': 3, 'gamma': 'scale', 'coef0': 0, 'tol': 0.001, 'C': 0.4, 'epsilon': 0.1}\n",
      "R2: 0.29783052045164804 | MSE: 1.287800978986917\n"
     ]
    },
    {
     "name": "stderr",
     "output_type": "stream",
     "text": [
      "100%|██████████████████████████████████████████████████████████████████████████████████| 81/81 [00:02<00:00, 28.60it/s]\n"
     ]
    },
    {
     "name": "stdout",
     "output_type": "stream",
     "text": [
      "Training | ModelType: ModelType.SVR | Datasetname: orange_std_col_name_ohv_type | ScalerType: ScalerType.Raw_ | Params: {'kernel': 'linear', 'degree': 3, 'gamma': 'scale', 'coef0': 0, 'tol': 0.001, 'C': 0.4, 'epsilon': 0.1}\n",
      "R2: 0.28728627642639915 | MSE: 1.3071394552008455\n"
     ]
    },
    {
     "name": "stderr",
     "output_type": "stream",
     "text": [
      "100%|█████████████████████████████████████████████████████████████████████████████████| 81/81 [00:00<00:00, 912.29it/s]\n"
     ]
    },
    {
     "name": "stdout",
     "output_type": "stream",
     "text": [
      "Training | ModelType: ModelType.SVR | Datasetname: orange_std_col_name_ohv_type | ScalerType: ScalerType.MaxAbsScaler_ | Params: {'kernel': 'linear', 'degree': 3, 'gamma': 'scale', 'coef0': 0, 'tol': 0.001, 'C': 0.4, 'epsilon': 0.1}\n",
      "R2: 0.2883567262304959 | MSE: 1.3051762164873675\n"
     ]
    },
    {
     "name": "stderr",
     "output_type": "stream",
     "text": [
      "100%|█████████████████████████████████████████████████████████████████████████████████| 81/81 [00:00<00:00, 988.54it/s]\n"
     ]
    },
    {
     "name": "stdout",
     "output_type": "stream",
     "text": [
      "Training | ModelType: ModelType.SVR | Datasetname: orange_std_col_name_ohv_type | ScalerType: ScalerType.MinMaxScaler_ | Params: {'kernel': 'linear', 'degree': 3, 'gamma': 'scale', 'coef0': 0, 'tol': 0.001, 'C': 0.4, 'epsilon': 0.1}\n",
      "R2: 0.28308413913938413 | MSE: 1.3148463075629508\n"
     ]
    },
    {
     "name": "stderr",
     "output_type": "stream",
     "text": [
      "100%|█████████████████████████████████████████████████████████████████████████████████| 81/81 [00:00<00:00, 935.83it/s]\n"
     ]
    },
    {
     "name": "stdout",
     "output_type": "stream",
     "text": [
      "Training | ModelType: ModelType.SVR | Datasetname: orange_std_col_name_ohv_type | ScalerType: ScalerType.Normalizer_ | Params: {'kernel': 'linear', 'degree': 3, 'gamma': 'scale', 'coef0': 0, 'tol': 0.001, 'C': 0.4, 'epsilon': 0.1}\n",
      "R2: 0.2771532603803323 | MSE: 1.3257237263266834\n"
     ]
    },
    {
     "name": "stderr",
     "output_type": "stream",
     "text": [
      "100%|█████████████████████████████████████████████████████████████████████████████████| 81/81 [00:00<00:00, 535.02it/s]\n"
     ]
    },
    {
     "name": "stdout",
     "output_type": "stream",
     "text": [
      "Training | ModelType: ModelType.SVR | Datasetname: orange_std_col_name_ohv_type | ScalerType: ScalerType.RobustScaler_ | Params: {'kernel': 'linear', 'degree': 3, 'gamma': 'scale', 'coef0': 0, 'tol': 0.001, 'C': 0.4, 'epsilon': 0.1}\n",
      "R2: 0.26601389730659397 | MSE: 1.3461536696515886\n"
     ]
    },
    {
     "name": "stderr",
     "output_type": "stream",
     "text": [
      "100%|█████████████████████████████████████████████████████████████████████████████████| 81/81 [00:00<00:00, 783.33it/s]\n"
     ]
    },
    {
     "name": "stdout",
     "output_type": "stream",
     "text": [
      "Training | ModelType: ModelType.SVR | Datasetname: orange_std_col_name_ohv_type | ScalerType: ScalerType.StandardScaler_ | Params: {'kernel': 'linear', 'degree': 3, 'gamma': 'scale', 'coef0': 0, 'tol': 0.001, 'C': 0.4, 'epsilon': 0.1}\n",
      "R2: 0.29783052045164804 | MSE: 1.287800978986917\n"
     ]
    },
    {
     "name": "stderr",
     "output_type": "stream",
     "text": [
      "100%|████████████████████████████████████████████████████████████████████████████████| 81/81 [00:00<00:00, 1117.83it/s]\n"
     ]
    },
    {
     "name": "stdout",
     "output_type": "stream",
     "text": [
      "Training | ModelType: ModelType.SVR | Datasetname: orange_std_col_name_ohv_type | ScalerType: ScalerType.Raw_ | Params: {'kernel': 'poly', 'degree': 3, 'gamma': 'scale', 'coef0': 0, 'tol': 0.001, 'C': 0.4, 'epsilon': 0.1}\n",
      "R2: 0.2400189726538663 | MSE: 1.3938291816063468\n"
     ]
    },
    {
     "name": "stderr",
     "output_type": "stream",
     "text": [
      "100%|█████████████████████████████████████████████████████████████████████████████████| 81/81 [00:00<00:00, 839.88it/s]\n"
     ]
    },
    {
     "name": "stdout",
     "output_type": "stream",
     "text": [
      "Training | ModelType: ModelType.SVR | Datasetname: orange_std_col_name_ohv_type | ScalerType: ScalerType.MaxAbsScaler_ | Params: {'kernel': 'poly', 'degree': 3, 'gamma': 'scale', 'coef0': 0, 'tol': 0.001, 'C': 0.4, 'epsilon': 0.1}\n",
      "R2: 0.3145566182763566 | MSE: 1.2571247878668679\n"
     ]
    },
    {
     "name": "stderr",
     "output_type": "stream",
     "text": [
      "100%|█████████████████████████████████████████████████████████████████████████████████| 81/81 [00:00<00:00, 780.31it/s]\n"
     ]
    },
    {
     "name": "stdout",
     "output_type": "stream",
     "text": [
      "Training | ModelType: ModelType.SVR | Datasetname: orange_std_col_name_ohv_type | ScalerType: ScalerType.MinMaxScaler_ | Params: {'kernel': 'poly', 'degree': 3, 'gamma': 'scale', 'coef0': 0, 'tol': 0.001, 'C': 0.4, 'epsilon': 0.1}\n",
      "R2: 0.28410923269432276 | MSE: 1.3129662536414215\n"
     ]
    },
    {
     "name": "stderr",
     "output_type": "stream",
     "text": [
      "100%|█████████████████████████████████████████████████████████████████████████████████| 81/81 [00:00<00:00, 922.42it/s]\n"
     ]
    },
    {
     "name": "stdout",
     "output_type": "stream",
     "text": [
      "Training | ModelType: ModelType.SVR | Datasetname: orange_std_col_name_ohv_type | ScalerType: ScalerType.Normalizer_ | Params: {'kernel': 'poly', 'degree': 3, 'gamma': 'scale', 'coef0': 0, 'tol': 0.001, 'C': 0.4, 'epsilon': 0.1}\n",
      "R2: 0.3263809226760468 | MSE: 1.2354386405402213\n"
     ]
    },
    {
     "name": "stderr",
     "output_type": "stream",
     "text": [
      "100%|█████████████████████████████████████████████████████████████████████████████████| 81/81 [00:00<00:00, 506.27it/s]\n"
     ]
    },
    {
     "name": "stdout",
     "output_type": "stream",
     "text": [
      "Training | ModelType: ModelType.SVR | Datasetname: orange_std_col_name_ohv_type | ScalerType: ScalerType.RobustScaler_ | Params: {'kernel': 'poly', 'degree': 3, 'gamma': 'scale', 'coef0': 0, 'tol': 0.001, 'C': 0.4, 'epsilon': 0.1}\n",
      "R2: 0.19325098450199785 | MSE: 1.4796031474101075\n"
     ]
    },
    {
     "name": "stderr",
     "output_type": "stream",
     "text": [
      "100%|█████████████████████████████████████████████████████████████████████████████████| 81/81 [00:00<00:00, 729.59it/s]\n"
     ]
    },
    {
     "name": "stdout",
     "output_type": "stream",
     "text": [
      "Training | ModelType: ModelType.SVR | Datasetname: orange_std_col_name_ohv_type | ScalerType: ScalerType.StandardScaler_ | Params: {'kernel': 'poly', 'degree': 3, 'gamma': 'scale', 'coef0': 0, 'tol': 0.001, 'C': 0.4, 'epsilon': 0.1}\n",
      "R2: 0.12028157888949176 | MSE: 1.6134313394931954\n"
     ]
    },
    {
     "name": "stderr",
     "output_type": "stream",
     "text": [
      "100%|████████████████████████████████████████████████████████████████████████████████| 81/81 [00:00<00:00, 1258.89it/s]\n"
     ]
    },
    {
     "name": "stdout",
     "output_type": "stream",
     "text": [
      "Training | ModelType: ModelType.SVR | Datasetname: orange_std_col_name_ohv_type | ScalerType: ScalerType.Raw_ | Params: {'kernel': 'poly', 'degree': 3, 'gamma': 'scale', 'coef0': 0, 'tol': 0.001, 'C': 0.5, 'epsilon': 0.1}\n",
      "R2: 0.2538788120747688 | MSE: 1.3684097988295274\n"
     ]
    },
    {
     "name": "stderr",
     "output_type": "stream",
     "text": [
      "100%|█████████████████████████████████████████████████████████████████████████████████| 81/81 [00:00<00:00, 839.40it/s]\n"
     ]
    },
    {
     "name": "stdout",
     "output_type": "stream",
     "text": [
      "Training | ModelType: ModelType.SVR | Datasetname: orange_std_col_name_ohv_type | ScalerType: ScalerType.MaxAbsScaler_ | Params: {'kernel': 'poly', 'degree': 3, 'gamma': 'scale', 'coef0': 0, 'tol': 0.001, 'C': 0.5, 'epsilon': 0.1}\n",
      "R2: 0.31697178637220147 | MSE: 1.2526952933803694\n"
     ]
    },
    {
     "name": "stderr",
     "output_type": "stream",
     "text": [
      "100%|█████████████████████████████████████████████████████████████████████████████████| 81/81 [00:00<00:00, 820.84it/s]\n"
     ]
    },
    {
     "name": "stdout",
     "output_type": "stream",
     "text": [
      "Training | ModelType: ModelType.SVR | Datasetname: orange_std_col_name_ohv_type | ScalerType: ScalerType.MinMaxScaler_ | Params: {'kernel': 'poly', 'degree': 3, 'gamma': 'scale', 'coef0': 0, 'tol': 0.001, 'C': 0.5, 'epsilon': 0.1}\n",
      "R2: 0.2826163290208399 | MSE: 1.3157042860798023\n"
     ]
    },
    {
     "name": "stderr",
     "output_type": "stream",
     "text": [
      "100%|█████████████████████████████████████████████████████████████████████████████████| 81/81 [00:00<00:00, 863.60it/s]\n"
     ]
    },
    {
     "name": "stdout",
     "output_type": "stream",
     "text": [
      "Training | ModelType: ModelType.SVR | Datasetname: orange_std_col_name_ohv_type | ScalerType: ScalerType.Normalizer_ | Params: {'kernel': 'poly', 'degree': 3, 'gamma': 'scale', 'coef0': 0, 'tol': 0.001, 'C': 0.5, 'epsilon': 0.1}\n",
      "R2: 0.3232011663654967 | MSE: 1.2412704139352997\n"
     ]
    },
    {
     "name": "stderr",
     "output_type": "stream",
     "text": [
      "100%|█████████████████████████████████████████████████████████████████████████████████| 81/81 [00:00<00:00, 516.31it/s]\n"
     ]
    },
    {
     "name": "stdout",
     "output_type": "stream",
     "text": [
      "Training | ModelType: ModelType.SVR | Datasetname: orange_std_col_name_ohv_type | ScalerType: ScalerType.RobustScaler_ | Params: {'kernel': 'poly', 'degree': 3, 'gamma': 'scale', 'coef0': 0, 'tol': 0.001, 'C': 0.5, 'epsilon': 0.1}\n",
      "R2: 0.1863731981772393 | MSE: 1.4922172245243448\n"
     ]
    },
    {
     "name": "stderr",
     "output_type": "stream",
     "text": [
      "100%|█████████████████████████████████████████████████████████████████████████████████| 81/81 [00:00<00:00, 764.28it/s]\n"
     ]
    },
    {
     "name": "stdout",
     "output_type": "stream",
     "text": [
      "Training | ModelType: ModelType.SVR | Datasetname: orange_std_col_name_ohv_type | ScalerType: ScalerType.StandardScaler_ | Params: {'kernel': 'poly', 'degree': 3, 'gamma': 'scale', 'coef0': 0, 'tol': 0.001, 'C': 0.5, 'epsilon': 0.1}\n",
      "R2: 0.12759486317684532 | MSE: 1.6000185453755682\n"
     ]
    },
    {
     "name": "stderr",
     "output_type": "stream",
     "text": [
      "100%|████████████████████████████████████████████████████████████████████████████████| 81/81 [00:00<00:00, 1296.14it/s]\n"
     ]
    },
    {
     "name": "stdout",
     "output_type": "stream",
     "text": [
      "Training | ModelType: ModelType.SVR | Datasetname: orange_std_col_name_ohv_type | ScalerType: ScalerType.Raw_ | Params: {'kernel': 'rbf', 'degree': 3, 'gamma': 'scale', 'coef0': 0, 'tol': 0.001, 'C': 0.5, 'epsilon': 0.1}\n",
      "R2: 0.1760400639831038 | MSE: 1.511168518647482\n"
     ]
    },
    {
     "name": "stderr",
     "output_type": "stream",
     "text": [
      "100%|████████████████████████████████████████████████████████████████████████████████| 81/81 [00:00<00:00, 1037.24it/s]\n"
     ]
    },
    {
     "name": "stdout",
     "output_type": "stream",
     "text": [
      "Training | ModelType: ModelType.SVR | Datasetname: orange_std_col_name_ohv_type | ScalerType: ScalerType.MaxAbsScaler_ | Params: {'kernel': 'rbf', 'degree': 3, 'gamma': 'scale', 'coef0': 0, 'tol': 0.001, 'C': 0.5, 'epsilon': 0.1}\n",
      "R2: 0.3050736771961374 | MSE: 1.2745168009954313\n"
     ]
    },
    {
     "name": "stderr",
     "output_type": "stream",
     "text": [
      "100%|████████████████████████████████████████████████████████████████████████████████| 81/81 [00:00<00:00, 1036.86it/s]\n"
     ]
    },
    {
     "name": "stdout",
     "output_type": "stream",
     "text": [
      "Training | ModelType: ModelType.SVR | Datasetname: orange_std_col_name_ohv_type | ScalerType: ScalerType.MinMaxScaler_ | Params: {'kernel': 'rbf', 'degree': 3, 'gamma': 'scale', 'coef0': 0, 'tol': 0.001, 'C': 0.5, 'epsilon': 0.1}\n",
      "R2: 0.2894138662726212 | MSE: 1.3032373882972688\n"
     ]
    },
    {
     "name": "stderr",
     "output_type": "stream",
     "text": [
      "100%|█████████████████████████████████████████████████████████████████████████████████| 81/81 [00:00<00:00, 863.44it/s]\n"
     ]
    },
    {
     "name": "stdout",
     "output_type": "stream",
     "text": [
      "Training | ModelType: ModelType.SVR | Datasetname: orange_std_col_name_ohv_type | ScalerType: ScalerType.Normalizer_ | Params: {'kernel': 'rbf', 'degree': 3, 'gamma': 'scale', 'coef0': 0, 'tol': 0.001, 'C': 0.5, 'epsilon': 0.1}\n",
      "R2: 0.29587480358312723 | MSE: 1.2913878254267854\n"
     ]
    },
    {
     "name": "stderr",
     "output_type": "stream",
     "text": [
      "100%|█████████████████████████████████████████████████████████████████████████████████| 81/81 [00:00<00:00, 500.17it/s]\n"
     ]
    },
    {
     "name": "stdout",
     "output_type": "stream",
     "text": [
      "Training | ModelType: ModelType.SVR | Datasetname: orange_std_col_name_ohv_type | ScalerType: ScalerType.RobustScaler_ | Params: {'kernel': 'rbf', 'degree': 3, 'gamma': 'scale', 'coef0': 0, 'tol': 0.001, 'C': 0.5, 'epsilon': 0.1}\n",
      "R2: 0.2754521988029156 | MSE: 1.3288435269282752\n"
     ]
    },
    {
     "name": "stderr",
     "output_type": "stream",
     "text": [
      "100%|█████████████████████████████████████████████████████████████████████████████████| 81/81 [00:00<00:00, 813.20it/s]\n"
     ]
    },
    {
     "name": "stdout",
     "output_type": "stream",
     "text": [
      "Training | ModelType: ModelType.SVR | Datasetname: orange_std_col_name_ohv_type | ScalerType: ScalerType.StandardScaler_ | Params: {'kernel': 'rbf', 'degree': 3, 'gamma': 'scale', 'coef0': 0, 'tol': 0.001, 'C': 0.5, 'epsilon': 0.1}\n",
      "R2: 0.26673682065048177 | MSE: 1.3448278054306173\n"
     ]
    },
    {
     "name": "stderr",
     "output_type": "stream",
     "text": [
      "100%|████████████████████████████████████████████████████████████████████████████████| 81/81 [00:00<00:00, 1249.82it/s]\n"
     ]
    },
    {
     "name": "stdout",
     "output_type": "stream",
     "text": [
      "Training | ModelType: ModelType.SVR | Datasetname: orange_std_col_name_ohv_type | ScalerType: ScalerType.Raw_ | Params: {'kernel': 'rbf', 'degree': 3, 'gamma': 'scale', 'coef0': 0, 'tol': 0.001, 'C': 0.5, 'epsilon': 0.1}\n",
      "R2: 0.1760400639831038 | MSE: 1.511168518647482\n"
     ]
    },
    {
     "name": "stderr",
     "output_type": "stream",
     "text": [
      "100%|█████████████████████████████████████████████████████████████████████████████████| 81/81 [00:00<00:00, 924.50it/s]\n"
     ]
    },
    {
     "name": "stdout",
     "output_type": "stream",
     "text": [
      "Training | ModelType: ModelType.SVR | Datasetname: orange_std_col_name_ohv_type | ScalerType: ScalerType.MaxAbsScaler_ | Params: {'kernel': 'rbf', 'degree': 3, 'gamma': 'scale', 'coef0': 0, 'tol': 0.001, 'C': 0.5, 'epsilon': 0.1}\n",
      "R2: 0.3050736771961374 | MSE: 1.2745168009954313\n"
     ]
    },
    {
     "name": "stderr",
     "output_type": "stream",
     "text": [
      "100%|█████████████████████████████████████████████████████████████████████████████████| 81/81 [00:00<00:00, 892.72it/s]\n"
     ]
    },
    {
     "name": "stdout",
     "output_type": "stream",
     "text": [
      "Training | ModelType: ModelType.SVR | Datasetname: orange_std_col_name_ohv_type | ScalerType: ScalerType.MinMaxScaler_ | Params: {'kernel': 'rbf', 'degree': 3, 'gamma': 'scale', 'coef0': 0, 'tol': 0.001, 'C': 0.5, 'epsilon': 0.1}\n",
      "R2: 0.2894138662726212 | MSE: 1.3032373882972688\n"
     ]
    },
    {
     "name": "stderr",
     "output_type": "stream",
     "text": [
      "100%|█████████████████████████████████████████████████████████████████████████████████| 81/81 [00:00<00:00, 845.91it/s]\n"
     ]
    },
    {
     "name": "stdout",
     "output_type": "stream",
     "text": [
      "Training | ModelType: ModelType.SVR | Datasetname: orange_std_col_name_ohv_type | ScalerType: ScalerType.Normalizer_ | Params: {'kernel': 'rbf', 'degree': 3, 'gamma': 'scale', 'coef0': 0, 'tol': 0.001, 'C': 0.5, 'epsilon': 0.1}\n",
      "R2: 0.29587480358312723 | MSE: 1.2913878254267854\n"
     ]
    },
    {
     "name": "stderr",
     "output_type": "stream",
     "text": [
      "100%|█████████████████████████████████████████████████████████████████████████████████| 81/81 [00:00<00:00, 520.10it/s]\n"
     ]
    },
    {
     "name": "stdout",
     "output_type": "stream",
     "text": [
      "Training | ModelType: ModelType.SVR | Datasetname: orange_std_col_name_ohv_type | ScalerType: ScalerType.RobustScaler_ | Params: {'kernel': 'rbf', 'degree': 3, 'gamma': 'scale', 'coef0': 0, 'tol': 0.001, 'C': 0.5, 'epsilon': 0.1}\n",
      "R2: 0.2754521988029156 | MSE: 1.3288435269282752\n"
     ]
    },
    {
     "name": "stderr",
     "output_type": "stream",
     "text": [
      "100%|█████████████████████████████████████████████████████████████████████████████████| 81/81 [00:00<00:00, 780.79it/s]\n"
     ]
    },
    {
     "name": "stdout",
     "output_type": "stream",
     "text": [
      "Training | ModelType: ModelType.SVR | Datasetname: orange_std_col_name_ohv_type | ScalerType: ScalerType.StandardScaler_ | Params: {'kernel': 'rbf', 'degree': 3, 'gamma': 'scale', 'coef0': 0, 'tol': 0.001, 'C': 0.5, 'epsilon': 0.1}\n",
      "R2: 0.26673682065048177 | MSE: 1.3448278054306173\n"
     ]
    },
    {
     "name": "stderr",
     "output_type": "stream",
     "text": [
      "100%|██████████████████████████████████████████████████████████████████████████████████| 81/81 [00:03<00:00, 21.95it/s]\n"
     ]
    },
    {
     "name": "stdout",
     "output_type": "stream",
     "text": [
      "Training | ModelType: ModelType.SVR | Datasetname: orange_std_col_name_ohv_type | ScalerType: ScalerType.Raw_ | Params: {'kernel': 'linear', 'degree': 3, 'gamma': 'scale', 'coef0': 0, 'tol': 0.001, 'C': 0.5, 'epsilon': 0.1}\n",
      "R2: 0.2878186774296879 | MSE: 1.306163014963526\n"
     ]
    },
    {
     "name": "stderr",
     "output_type": "stream",
     "text": [
      "100%|█████████████████████████████████████████████████████████████████████████████████| 81/81 [00:00<00:00, 966.83it/s]\n"
     ]
    },
    {
     "name": "stdout",
     "output_type": "stream",
     "text": [
      "Training | ModelType: ModelType.SVR | Datasetname: orange_std_col_name_ohv_type | ScalerType: ScalerType.MaxAbsScaler_ | Params: {'kernel': 'linear', 'degree': 3, 'gamma': 'scale', 'coef0': 0, 'tol': 0.001, 'C': 0.5, 'epsilon': 0.1}\n",
      "R2: 0.27220212414178535 | MSE: 1.3348042663968664\n"
     ]
    },
    {
     "name": "stderr",
     "output_type": "stream",
     "text": [
      "100%|████████████████████████████████████████████████████████████████████████████████| 81/81 [00:00<00:00, 1022.23it/s]\n"
     ]
    },
    {
     "name": "stdout",
     "output_type": "stream",
     "text": [
      "Training | ModelType: ModelType.SVR | Datasetname: orange_std_col_name_ohv_type | ScalerType: ScalerType.MinMaxScaler_ | Params: {'kernel': 'linear', 'degree': 3, 'gamma': 'scale', 'coef0': 0, 'tol': 0.001, 'C': 0.5, 'epsilon': 0.1}\n",
      "R2: 0.29379110876731585 | MSE: 1.295209387459698\n"
     ]
    },
    {
     "name": "stderr",
     "output_type": "stream",
     "text": [
      "100%|█████████████████████████████████████████████████████████████████████████████████| 81/81 [00:00<00:00, 895.53it/s]\n"
     ]
    },
    {
     "name": "stdout",
     "output_type": "stream",
     "text": [
      "Training | ModelType: ModelType.SVR | Datasetname: orange_std_col_name_ohv_type | ScalerType: ScalerType.Normalizer_ | Params: {'kernel': 'linear', 'degree': 3, 'gamma': 'scale', 'coef0': 0, 'tol': 0.001, 'C': 0.5, 'epsilon': 0.1}\n",
      "R2: 0.32914663443124537 | MSE: 1.2303662379227915\n"
     ]
    },
    {
     "name": "stderr",
     "output_type": "stream",
     "text": [
      "100%|█████████████████████████████████████████████████████████████████████████████████| 81/81 [00:00<00:00, 556.33it/s]\n"
     ]
    },
    {
     "name": "stdout",
     "output_type": "stream",
     "text": [
      "Training | ModelType: ModelType.SVR | Datasetname: orange_std_col_name_ohv_type | ScalerType: ScalerType.RobustScaler_ | Params: {'kernel': 'linear', 'degree': 3, 'gamma': 'scale', 'coef0': 0, 'tol': 0.001, 'C': 0.5, 'epsilon': 0.1}\n",
      "R2: 0.2696071518025833 | MSE: 1.3395635275385183\n"
     ]
    },
    {
     "name": "stderr",
     "output_type": "stream",
     "text": [
      "100%|█████████████████████████████████████████████████████████████████████████████████| 81/81 [00:00<00:00, 727.47it/s]\n"
     ]
    },
    {
     "name": "stdout",
     "output_type": "stream",
     "text": [
      "Training | ModelType: ModelType.SVR | Datasetname: orange_std_col_name_ohv_type | ScalerType: ScalerType.StandardScaler_ | Params: {'kernel': 'linear', 'degree': 3, 'gamma': 'scale', 'coef0': 0, 'tol': 0.001, 'C': 0.5, 'epsilon': 0.1}\n",
      "R2: 0.30078571023458855 | MSE: 1.2823810676885636\n"
     ]
    },
    {
     "name": "stderr",
     "output_type": "stream",
     "text": [
      "100%|██████████████████████████████████████████████████████████████████████████████████| 81/81 [00:03<00:00, 22.24it/s]\n"
     ]
    },
    {
     "name": "stdout",
     "output_type": "stream",
     "text": [
      "Training | ModelType: ModelType.SVR | Datasetname: orange_std_col_name_ohv_type | ScalerType: ScalerType.Raw_ | Params: {'kernel': 'linear', 'degree': 3, 'gamma': 'scale', 'coef0': 0, 'tol': 0.001, 'C': 0.5, 'epsilon': 0.1}\n",
      "R2: 0.2878186774296879 | MSE: 1.306163014963526\n"
     ]
    },
    {
     "name": "stderr",
     "output_type": "stream",
     "text": [
      "100%|█████████████████████████████████████████████████████████████████████████████████| 81/81 [00:00<00:00, 985.98it/s]\n"
     ]
    },
    {
     "name": "stdout",
     "output_type": "stream",
     "text": [
      "Training | ModelType: ModelType.SVR | Datasetname: orange_std_col_name_ohv_type | ScalerType: ScalerType.MaxAbsScaler_ | Params: {'kernel': 'linear', 'degree': 3, 'gamma': 'scale', 'coef0': 0, 'tol': 0.001, 'C': 0.5, 'epsilon': 0.1}\n",
      "R2: 0.27220212414178535 | MSE: 1.3348042663968664\n"
     ]
    },
    {
     "name": "stderr",
     "output_type": "stream",
     "text": [
      "100%|█████████████████████████████████████████████████████████████████████████████████| 81/81 [00:00<00:00, 832.21it/s]\n"
     ]
    },
    {
     "name": "stdout",
     "output_type": "stream",
     "text": [
      "Training | ModelType: ModelType.SVR | Datasetname: orange_std_col_name_ohv_type | ScalerType: ScalerType.MinMaxScaler_ | Params: {'kernel': 'linear', 'degree': 3, 'gamma': 'scale', 'coef0': 0, 'tol': 0.001, 'C': 0.5, 'epsilon': 0.1}\n",
      "R2: 0.29379110876731585 | MSE: 1.295209387459698\n"
     ]
    },
    {
     "name": "stderr",
     "output_type": "stream",
     "text": [
      "100%|█████████████████████████████████████████████████████████████████████████████████| 81/81 [00:00<00:00, 898.01it/s]\n"
     ]
    },
    {
     "name": "stdout",
     "output_type": "stream",
     "text": [
      "Training | ModelType: ModelType.SVR | Datasetname: orange_std_col_name_ohv_type | ScalerType: ScalerType.Normalizer_ | Params: {'kernel': 'linear', 'degree': 3, 'gamma': 'scale', 'coef0': 0, 'tol': 0.001, 'C': 0.5, 'epsilon': 0.1}\n",
      "R2: 0.32914663443124537 | MSE: 1.2303662379227915\n"
     ]
    },
    {
     "name": "stderr",
     "output_type": "stream",
     "text": [
      "100%|█████████████████████████████████████████████████████████████████████████████████| 81/81 [00:00<00:00, 529.68it/s]\n"
     ]
    },
    {
     "name": "stdout",
     "output_type": "stream",
     "text": [
      "Training | ModelType: ModelType.SVR | Datasetname: orange_std_col_name_ohv_type | ScalerType: ScalerType.RobustScaler_ | Params: {'kernel': 'linear', 'degree': 3, 'gamma': 'scale', 'coef0': 0, 'tol': 0.001, 'C': 0.5, 'epsilon': 0.1}\n",
      "R2: 0.2696071518025833 | MSE: 1.3395635275385183\n"
     ]
    },
    {
     "name": "stderr",
     "output_type": "stream",
     "text": [
      "100%|█████████████████████████████████████████████████████████████████████████████████| 81/81 [00:00<00:00, 730.31it/s]\n"
     ]
    },
    {
     "name": "stdout",
     "output_type": "stream",
     "text": [
      "Training | ModelType: ModelType.SVR | Datasetname: orange_std_col_name_ohv_type | ScalerType: ScalerType.StandardScaler_ | Params: {'kernel': 'linear', 'degree': 3, 'gamma': 'scale', 'coef0': 0, 'tol': 0.001, 'C': 0.5, 'epsilon': 0.1}\n",
      "R2: 0.30078571023458855 | MSE: 1.2823810676885636\n"
     ]
    },
    {
     "name": "stderr",
     "output_type": "stream",
     "text": [
      "100%|████████████████████████████████████████████████████████████████████████████████| 81/81 [00:00<00:00, 1163.93it/s]\n"
     ]
    },
    {
     "name": "stdout",
     "output_type": "stream",
     "text": [
      "Training | ModelType: ModelType.SVR | Datasetname: orange_std_col_name_ohv_type | ScalerType: ScalerType.Raw_ | Params: {'kernel': 'poly', 'degree': 3, 'gamma': 'scale', 'coef0': 0, 'tol': 0.001, 'C': 0.5, 'epsilon': 0.1}\n",
      "R2: 0.2538788120747688 | MSE: 1.3684097988295274\n"
     ]
    },
    {
     "name": "stderr",
     "output_type": "stream",
     "text": [
      "100%|█████████████████████████████████████████████████████████████████████████████████| 81/81 [00:00<00:00, 828.98it/s]\n"
     ]
    },
    {
     "name": "stdout",
     "output_type": "stream",
     "text": [
      "Training | ModelType: ModelType.SVR | Datasetname: orange_std_col_name_ohv_type | ScalerType: ScalerType.MaxAbsScaler_ | Params: {'kernel': 'poly', 'degree': 3, 'gamma': 'scale', 'coef0': 0, 'tol': 0.001, 'C': 0.5, 'epsilon': 0.1}\n",
      "R2: 0.31697178637220147 | MSE: 1.2526952933803694\n"
     ]
    },
    {
     "name": "stderr",
     "output_type": "stream",
     "text": [
      "100%|█████████████████████████████████████████████████████████████████████████████████| 81/81 [00:00<00:00, 775.11it/s]\n"
     ]
    },
    {
     "name": "stdout",
     "output_type": "stream",
     "text": [
      "Training | ModelType: ModelType.SVR | Datasetname: orange_std_col_name_ohv_type | ScalerType: ScalerType.MinMaxScaler_ | Params: {'kernel': 'poly', 'degree': 3, 'gamma': 'scale', 'coef0': 0, 'tol': 0.001, 'C': 0.5, 'epsilon': 0.1}\n",
      "R2: 0.2826163290208399 | MSE: 1.3157042860798023\n"
     ]
    },
    {
     "name": "stderr",
     "output_type": "stream",
     "text": [
      "100%|█████████████████████████████████████████████████████████████████████████████████| 81/81 [00:00<00:00, 835.85it/s]\n"
     ]
    },
    {
     "name": "stdout",
     "output_type": "stream",
     "text": [
      "Training | ModelType: ModelType.SVR | Datasetname: orange_std_col_name_ohv_type | ScalerType: ScalerType.Normalizer_ | Params: {'kernel': 'poly', 'degree': 3, 'gamma': 'scale', 'coef0': 0, 'tol': 0.001, 'C': 0.5, 'epsilon': 0.1}\n",
      "R2: 0.3232011663654967 | MSE: 1.2412704139352997\n"
     ]
    },
    {
     "name": "stderr",
     "output_type": "stream",
     "text": [
      "100%|█████████████████████████████████████████████████████████████████████████████████| 81/81 [00:00<00:00, 485.54it/s]\n"
     ]
    },
    {
     "name": "stdout",
     "output_type": "stream",
     "text": [
      "Training | ModelType: ModelType.SVR | Datasetname: orange_std_col_name_ohv_type | ScalerType: ScalerType.RobustScaler_ | Params: {'kernel': 'poly', 'degree': 3, 'gamma': 'scale', 'coef0': 0, 'tol': 0.001, 'C': 0.5, 'epsilon': 0.1}\n",
      "R2: 0.1863731981772393 | MSE: 1.4922172245243448\n"
     ]
    },
    {
     "name": "stderr",
     "output_type": "stream",
     "text": [
      "100%|█████████████████████████████████████████████████████████████████████████████████| 81/81 [00:00<00:00, 678.48it/s]\n"
     ]
    },
    {
     "name": "stdout",
     "output_type": "stream",
     "text": [
      "Training | ModelType: ModelType.SVR | Datasetname: orange_std_col_name_ohv_type | ScalerType: ScalerType.StandardScaler_ | Params: {'kernel': 'poly', 'degree': 3, 'gamma': 'scale', 'coef0': 0, 'tol': 0.001, 'C': 0.5, 'epsilon': 0.1}\n",
      "R2: 0.12759486317684532 | MSE: 1.6000185453755682\n"
     ]
    },
    {
     "name": "stderr",
     "output_type": "stream",
     "text": [
      "100%|████████████████████████████████████████████████████████████████████████████████| 81/81 [00:00<00:00, 1056.83it/s]\n"
     ]
    },
    {
     "name": "stdout",
     "output_type": "stream",
     "text": [
      "Training | ModelType: ModelType.SVR | Datasetname: orange_std_col_name_ohv_type | ScalerType: ScalerType.Raw_ | Params: {'kernel': 'poly', 'degree': 3, 'gamma': 'scale', 'coef0': 0, 'tol': 0.001, 'C': 0.6, 'epsilon': 0.1}\n",
      "R2: 0.249719958626906 | MSE: 1.3760372672650192\n"
     ]
    },
    {
     "name": "stderr",
     "output_type": "stream",
     "text": [
      "100%|█████████████████████████████████████████████████████████████████████████████████| 81/81 [00:00<00:00, 787.50it/s]\n"
     ]
    },
    {
     "name": "stdout",
     "output_type": "stream",
     "text": [
      "Training | ModelType: ModelType.SVR | Datasetname: orange_std_col_name_ohv_type | ScalerType: ScalerType.MaxAbsScaler_ | Params: {'kernel': 'poly', 'degree': 3, 'gamma': 'scale', 'coef0': 0, 'tol': 0.001, 'C': 0.6, 'epsilon': 0.1}\n",
      "R2: 0.31814758914467645 | MSE: 1.2505388339989922\n"
     ]
    },
    {
     "name": "stderr",
     "output_type": "stream",
     "text": [
      "100%|█████████████████████████████████████████████████████████████████████████████████| 81/81 [00:00<00:00, 789.87it/s]\n"
     ]
    },
    {
     "name": "stdout",
     "output_type": "stream",
     "text": [
      "Training | ModelType: ModelType.SVR | Datasetname: orange_std_col_name_ohv_type | ScalerType: ScalerType.MinMaxScaler_ | Params: {'kernel': 'poly', 'degree': 3, 'gamma': 'scale', 'coef0': 0, 'tol': 0.001, 'C': 0.6, 'epsilon': 0.1}\n",
      "R2: 0.2807610683223939 | MSE: 1.3191068927343546\n"
     ]
    },
    {
     "name": "stderr",
     "output_type": "stream",
     "text": [
      "100%|█████████████████████████████████████████████████████████████████████████████████| 81/81 [00:00<00:00, 858.45it/s]\n"
     ]
    },
    {
     "name": "stdout",
     "output_type": "stream",
     "text": [
      "Training | ModelType: ModelType.SVR | Datasetname: orange_std_col_name_ohv_type | ScalerType: ScalerType.Normalizer_ | Params: {'kernel': 'poly', 'degree': 3, 'gamma': 'scale', 'coef0': 0, 'tol': 0.001, 'C': 0.6, 'epsilon': 0.1}\n",
      "R2: 0.31902441282465743 | MSE: 1.2489307117060597\n"
     ]
    },
    {
     "name": "stderr",
     "output_type": "stream",
     "text": [
      "100%|█████████████████████████████████████████████████████████████████████████████████| 81/81 [00:00<00:00, 497.25it/s]\n"
     ]
    },
    {
     "name": "stdout",
     "output_type": "stream",
     "text": [
      "Training | ModelType: ModelType.SVR | Datasetname: orange_std_col_name_ohv_type | ScalerType: ScalerType.RobustScaler_ | Params: {'kernel': 'poly', 'degree': 3, 'gamma': 'scale', 'coef0': 0, 'tol': 0.001, 'C': 0.6, 'epsilon': 0.1}\n",
      "R2: 0.1870979848320914 | MSE: 1.4908879429322774\n"
     ]
    },
    {
     "name": "stderr",
     "output_type": "stream",
     "text": [
      "100%|█████████████████████████████████████████████████████████████████████████████████| 81/81 [00:00<00:00, 698.87it/s]\n"
     ]
    },
    {
     "name": "stdout",
     "output_type": "stream",
     "text": [
      "Training | ModelType: ModelType.SVR | Datasetname: orange_std_col_name_ohv_type | ScalerType: ScalerType.StandardScaler_ | Params: {'kernel': 'poly', 'degree': 3, 'gamma': 'scale', 'coef0': 0, 'tol': 0.001, 'C': 0.6, 'epsilon': 0.1}\n",
      "R2: 0.13343826226217392 | MSE: 1.5893015670934336\n"
     ]
    },
    {
     "name": "stderr",
     "output_type": "stream",
     "text": [
      "100%|████████████████████████████████████████████████████████████████████████████████| 81/81 [00:00<00:00, 1405.17it/s]"
     ]
    },
    {
     "name": "stdout",
     "output_type": "stream",
     "text": [
      "Training | ModelType: ModelType.SVR | Datasetname: orange_std_col_name_ohv_type | ScalerType: ScalerType.Raw_ | Params: {'kernel': 'rbf', 'degree': 3, 'gamma': 'scale', 'coef0': 0, 'tol': 0.001, 'C': 0.6, 'epsilon': 0.1}\n",
      "R2: 0.20137530705543938 | MSE: 1.464702883524162\n"
     ]
    },
    {
     "name": "stderr",
     "output_type": "stream",
     "text": [
      "\n",
      "100%|█████████████████████████████████████████████████████████████████████████████████| 81/81 [00:00<00:00, 859.58it/s]\n"
     ]
    },
    {
     "name": "stdout",
     "output_type": "stream",
     "text": [
      "Training | ModelType: ModelType.SVR | Datasetname: orange_std_col_name_ohv_type | ScalerType: ScalerType.MaxAbsScaler_ | Params: {'kernel': 'rbf', 'degree': 3, 'gamma': 'scale', 'coef0': 0, 'tol': 0.001, 'C': 0.6, 'epsilon': 0.1}\n",
      "R2: 0.2953344703463573 | MSE: 1.2923788136305723\n"
     ]
    },
    {
     "name": "stderr",
     "output_type": "stream",
     "text": [
      "100%|█████████████████████████████████████████████████████████████████████████████████| 81/81 [00:00<00:00, 884.37it/s]\n"
     ]
    },
    {
     "name": "stdout",
     "output_type": "stream",
     "text": [
      "Training | ModelType: ModelType.SVR | Datasetname: orange_std_col_name_ohv_type | ScalerType: ScalerType.MinMaxScaler_ | Params: {'kernel': 'rbf', 'degree': 3, 'gamma': 'scale', 'coef0': 0, 'tol': 0.001, 'C': 0.6, 'epsilon': 0.1}\n",
      "R2: 0.2902528156968437 | MSE: 1.3016987285843329\n"
     ]
    },
    {
     "name": "stderr",
     "output_type": "stream",
     "text": [
      "100%|█████████████████████████████████████████████████████████████████████████████████| 81/81 [00:00<00:00, 831.76it/s]\n"
     ]
    },
    {
     "name": "stdout",
     "output_type": "stream",
     "text": [
      "Training | ModelType: ModelType.SVR | Datasetname: orange_std_col_name_ohv_type | ScalerType: ScalerType.Normalizer_ | Params: {'kernel': 'rbf', 'degree': 3, 'gamma': 'scale', 'coef0': 0, 'tol': 0.001, 'C': 0.6, 'epsilon': 0.1}\n",
      "R2: 0.29307691979542794 | MSE: 1.2965192325668515\n"
     ]
    },
    {
     "name": "stderr",
     "output_type": "stream",
     "text": [
      "100%|█████████████████████████████████████████████████████████████████████████████████| 81/81 [00:00<00:00, 505.17it/s]\n"
     ]
    },
    {
     "name": "stdout",
     "output_type": "stream",
     "text": [
      "Training | ModelType: ModelType.SVR | Datasetname: orange_std_col_name_ohv_type | ScalerType: ScalerType.RobustScaler_ | Params: {'kernel': 'rbf', 'degree': 3, 'gamma': 'scale', 'coef0': 0, 'tol': 0.001, 'C': 0.6, 'epsilon': 0.1}\n",
      "R2: 0.2748044438317563 | MSE: 1.330031529982095\n"
     ]
    },
    {
     "name": "stderr",
     "output_type": "stream",
     "text": [
      "100%|█████████████████████████████████████████████████████████████████████████████████| 81/81 [00:00<00:00, 813.30it/s]\n"
     ]
    },
    {
     "name": "stdout",
     "output_type": "stream",
     "text": [
      "Training | ModelType: ModelType.SVR | Datasetname: orange_std_col_name_ohv_type | ScalerType: ScalerType.StandardScaler_ | Params: {'kernel': 'rbf', 'degree': 3, 'gamma': 'scale', 'coef0': 0, 'tol': 0.001, 'C': 0.6, 'epsilon': 0.1}\n",
      "R2: 0.26962563690008545 | MSE: 1.3395296252864932\n"
     ]
    },
    {
     "name": "stderr",
     "output_type": "stream",
     "text": [
      "100%|████████████████████████████████████████████████████████████████████████████████| 81/81 [00:00<00:00, 1444.42it/s]\n"
     ]
    },
    {
     "name": "stdout",
     "output_type": "stream",
     "text": [
      "Training | ModelType: ModelType.SVR | Datasetname: orange_std_col_name_ohv_type | ScalerType: ScalerType.Raw_ | Params: {'kernel': 'rbf', 'degree': 3, 'gamma': 'scale', 'coef0': 0, 'tol': 0.001, 'C': 0.6, 'epsilon': 0.1}\n",
      "R2: 0.20137530705543938 | MSE: 1.464702883524162\n"
     ]
    },
    {
     "name": "stderr",
     "output_type": "stream",
     "text": [
      "100%|█████████████████████████████████████████████████████████████████████████████████| 81/81 [00:00<00:00, 930.33it/s]\n"
     ]
    },
    {
     "name": "stdout",
     "output_type": "stream",
     "text": [
      "Training | ModelType: ModelType.SVR | Datasetname: orange_std_col_name_ohv_type | ScalerType: ScalerType.MaxAbsScaler_ | Params: {'kernel': 'rbf', 'degree': 3, 'gamma': 'scale', 'coef0': 0, 'tol': 0.001, 'C': 0.6, 'epsilon': 0.1}\n",
      "R2: 0.2953344703463573 | MSE: 1.2923788136305723\n"
     ]
    },
    {
     "name": "stderr",
     "output_type": "stream",
     "text": [
      "100%|█████████████████████████████████████████████████████████████████████████████████| 81/81 [00:00<00:00, 888.49it/s]\n"
     ]
    },
    {
     "name": "stdout",
     "output_type": "stream",
     "text": [
      "Training | ModelType: ModelType.SVR | Datasetname: orange_std_col_name_ohv_type | ScalerType: ScalerType.MinMaxScaler_ | Params: {'kernel': 'rbf', 'degree': 3, 'gamma': 'scale', 'coef0': 0, 'tol': 0.001, 'C': 0.6, 'epsilon': 0.1}\n",
      "R2: 0.2902528156968437 | MSE: 1.3016987285843329\n"
     ]
    },
    {
     "name": "stderr",
     "output_type": "stream",
     "text": [
      "100%|█████████████████████████████████████████████████████████████████████████████████| 81/81 [00:00<00:00, 840.60it/s]\n"
     ]
    },
    {
     "name": "stdout",
     "output_type": "stream",
     "text": [
      "Training | ModelType: ModelType.SVR | Datasetname: orange_std_col_name_ohv_type | ScalerType: ScalerType.Normalizer_ | Params: {'kernel': 'rbf', 'degree': 3, 'gamma': 'scale', 'coef0': 0, 'tol': 0.001, 'C': 0.6, 'epsilon': 0.1}\n",
      "R2: 0.29307691979542794 | MSE: 1.2965192325668515\n"
     ]
    },
    {
     "name": "stderr",
     "output_type": "stream",
     "text": [
      "100%|█████████████████████████████████████████████████████████████████████████████████| 81/81 [00:00<00:00, 537.49it/s]\n"
     ]
    },
    {
     "name": "stdout",
     "output_type": "stream",
     "text": [
      "Training | ModelType: ModelType.SVR | Datasetname: orange_std_col_name_ohv_type | ScalerType: ScalerType.RobustScaler_ | Params: {'kernel': 'rbf', 'degree': 3, 'gamma': 'scale', 'coef0': 0, 'tol': 0.001, 'C': 0.6, 'epsilon': 0.1}\n",
      "R2: 0.2748044438317563 | MSE: 1.330031529982095\n"
     ]
    },
    {
     "name": "stderr",
     "output_type": "stream",
     "text": [
      "100%|█████████████████████████████████████████████████████████████████████████████████| 81/81 [00:00<00:00, 903.77it/s]\n"
     ]
    },
    {
     "name": "stdout",
     "output_type": "stream",
     "text": [
      "Training | ModelType: ModelType.SVR | Datasetname: orange_std_col_name_ohv_type | ScalerType: ScalerType.StandardScaler_ | Params: {'kernel': 'rbf', 'degree': 3, 'gamma': 'scale', 'coef0': 0, 'tol': 0.001, 'C': 0.6, 'epsilon': 0.1}\n",
      "R2: 0.26962563690008545 | MSE: 1.3395296252864932\n"
     ]
    },
    {
     "name": "stderr",
     "output_type": "stream",
     "text": [
      "100%|██████████████████████████████████████████████████████████████████████████████████| 81/81 [00:04<00:00, 18.79it/s]\n"
     ]
    },
    {
     "name": "stdout",
     "output_type": "stream",
     "text": [
      "Training | ModelType: ModelType.SVR | Datasetname: orange_std_col_name_ohv_type | ScalerType: ScalerType.Raw_ | Params: {'kernel': 'linear', 'degree': 3, 'gamma': 'scale', 'coef0': 0, 'tol': 0.001, 'C': 0.6, 'epsilon': 0.1}\n",
      "R2: 0.29149368400878295 | MSE: 1.299422936950756\n"
     ]
    },
    {
     "name": "stderr",
     "output_type": "stream",
     "text": [
      "100%|█████████████████████████████████████████████████████████████████████████████████| 81/81 [00:00<00:00, 929.42it/s]\n"
     ]
    },
    {
     "name": "stdout",
     "output_type": "stream",
     "text": [
      "Training | ModelType: ModelType.SVR | Datasetname: orange_std_col_name_ohv_type | ScalerType: ScalerType.MaxAbsScaler_ | Params: {'kernel': 'linear', 'degree': 3, 'gamma': 'scale', 'coef0': 0, 'tol': 0.001, 'C': 0.6, 'epsilon': 0.1}\n",
      "R2: 0.2895611173277157 | MSE: 1.3029673252164444\n"
     ]
    },
    {
     "name": "stderr",
     "output_type": "stream",
     "text": [
      "100%|█████████████████████████████████████████████████████████████████████████████████| 81/81 [00:00<00:00, 833.69it/s]\n"
     ]
    },
    {
     "name": "stdout",
     "output_type": "stream",
     "text": [
      "Training | ModelType: ModelType.SVR | Datasetname: orange_std_col_name_ohv_type | ScalerType: ScalerType.MinMaxScaler_ | Params: {'kernel': 'linear', 'degree': 3, 'gamma': 'scale', 'coef0': 0, 'tol': 0.001, 'C': 0.6, 'epsilon': 0.1}\n",
      "R2: 0.28151172743990416 | MSE: 1.317730160229494\n"
     ]
    },
    {
     "name": "stderr",
     "output_type": "stream",
     "text": [
      "100%|█████████████████████████████████████████████████████████████████████████████████| 81/81 [00:00<00:00, 961.12it/s]\n"
     ]
    },
    {
     "name": "stdout",
     "output_type": "stream",
     "text": [
      "Training | ModelType: ModelType.SVR | Datasetname: orange_std_col_name_ohv_type | ScalerType: ScalerType.Normalizer_ | Params: {'kernel': 'linear', 'degree': 3, 'gamma': 'scale', 'coef0': 0, 'tol': 0.001, 'C': 0.6, 'epsilon': 0.1}\n",
      "R2: 0.31183171482969907 | MSE: 1.2621223467589284\n"
     ]
    },
    {
     "name": "stderr",
     "output_type": "stream",
     "text": [
      "100%|█████████████████████████████████████████████████████████████████████████████████| 81/81 [00:00<00:00, 526.93it/s]\n"
     ]
    },
    {
     "name": "stdout",
     "output_type": "stream",
     "text": [
      "Training | ModelType: ModelType.SVR | Datasetname: orange_std_col_name_ohv_type | ScalerType: ScalerType.RobustScaler_ | Params: {'kernel': 'linear', 'degree': 3, 'gamma': 'scale', 'coef0': 0, 'tol': 0.001, 'C': 0.6, 'epsilon': 0.1}\n",
      "R2: 0.2794335755348206 | MSE: 1.3215415563892523\n"
     ]
    },
    {
     "name": "stderr",
     "output_type": "stream",
     "text": [
      "100%|█████████████████████████████████████████████████████████████████████████████████| 81/81 [00:00<00:00, 662.39it/s]\n"
     ]
    },
    {
     "name": "stdout",
     "output_type": "stream",
     "text": [
      "Training | ModelType: ModelType.SVR | Datasetname: orange_std_col_name_ohv_type | ScalerType: ScalerType.StandardScaler_ | Params: {'kernel': 'linear', 'degree': 3, 'gamma': 'scale', 'coef0': 0, 'tol': 0.001, 'C': 0.6, 'epsilon': 0.1}\n",
      "R2: 0.30718128898157315 | MSE: 1.2706513744856458\n"
     ]
    },
    {
     "name": "stderr",
     "output_type": "stream",
     "text": [
      "100%|██████████████████████████████████████████████████████████████████████████████████| 81/81 [00:04<00:00, 19.54it/s]\n"
     ]
    },
    {
     "name": "stdout",
     "output_type": "stream",
     "text": [
      "Training | ModelType: ModelType.SVR | Datasetname: orange_std_col_name_ohv_type | ScalerType: ScalerType.Raw_ | Params: {'kernel': 'linear', 'degree': 3, 'gamma': 'scale', 'coef0': 0, 'tol': 0.001, 'C': 0.6, 'epsilon': 0.1}\n",
      "R2: 0.29149368400878295 | MSE: 1.299422936950756\n"
     ]
    },
    {
     "name": "stderr",
     "output_type": "stream",
     "text": [
      "100%|█████████████████████████████████████████████████████████████████████████████████| 81/81 [00:00<00:00, 948.30it/s]\n"
     ]
    },
    {
     "name": "stdout",
     "output_type": "stream",
     "text": [
      "Training | ModelType: ModelType.SVR | Datasetname: orange_std_col_name_ohv_type | ScalerType: ScalerType.MaxAbsScaler_ | Params: {'kernel': 'linear', 'degree': 3, 'gamma': 'scale', 'coef0': 0, 'tol': 0.001, 'C': 0.6, 'epsilon': 0.1}\n",
      "R2: 0.2895611173277157 | MSE: 1.3029673252164444\n"
     ]
    },
    {
     "name": "stderr",
     "output_type": "stream",
     "text": [
      "100%|█████████████████████████████████████████████████████████████████████████████████| 81/81 [00:00<00:00, 934.62it/s]\n"
     ]
    },
    {
     "name": "stdout",
     "output_type": "stream",
     "text": [
      "Training | ModelType: ModelType.SVR | Datasetname: orange_std_col_name_ohv_type | ScalerType: ScalerType.MinMaxScaler_ | Params: {'kernel': 'linear', 'degree': 3, 'gamma': 'scale', 'coef0': 0, 'tol': 0.001, 'C': 0.6, 'epsilon': 0.1}\n",
      "R2: 0.28151172743990416 | MSE: 1.317730160229494\n"
     ]
    },
    {
     "name": "stderr",
     "output_type": "stream",
     "text": [
      "100%|█████████████████████████████████████████████████████████████████████████████████| 81/81 [00:00<00:00, 972.70it/s]\n"
     ]
    },
    {
     "name": "stdout",
     "output_type": "stream",
     "text": [
      "Training | ModelType: ModelType.SVR | Datasetname: orange_std_col_name_ohv_type | ScalerType: ScalerType.Normalizer_ | Params: {'kernel': 'linear', 'degree': 3, 'gamma': 'scale', 'coef0': 0, 'tol': 0.001, 'C': 0.6, 'epsilon': 0.1}\n",
      "R2: 0.31183171482969907 | MSE: 1.2621223467589284\n"
     ]
    },
    {
     "name": "stderr",
     "output_type": "stream",
     "text": [
      "100%|█████████████████████████████████████████████████████████████████████████████████| 81/81 [00:00<00:00, 539.17it/s]\n"
     ]
    },
    {
     "name": "stdout",
     "output_type": "stream",
     "text": [
      "Training | ModelType: ModelType.SVR | Datasetname: orange_std_col_name_ohv_type | ScalerType: ScalerType.RobustScaler_ | Params: {'kernel': 'linear', 'degree': 3, 'gamma': 'scale', 'coef0': 0, 'tol': 0.001, 'C': 0.6, 'epsilon': 0.1}\n",
      "R2: 0.2794335755348206 | MSE: 1.3215415563892523\n"
     ]
    },
    {
     "name": "stderr",
     "output_type": "stream",
     "text": [
      "100%|█████████████████████████████████████████████████████████████████████████████████| 81/81 [00:00<00:00, 823.49it/s]\n"
     ]
    },
    {
     "name": "stdout",
     "output_type": "stream",
     "text": [
      "Training | ModelType: ModelType.SVR | Datasetname: orange_std_col_name_ohv_type | ScalerType: ScalerType.StandardScaler_ | Params: {'kernel': 'linear', 'degree': 3, 'gamma': 'scale', 'coef0': 0, 'tol': 0.001, 'C': 0.6, 'epsilon': 0.1}\n",
      "R2: 0.30718128898157315 | MSE: 1.2706513744856458\n"
     ]
    },
    {
     "name": "stderr",
     "output_type": "stream",
     "text": [
      "100%|████████████████████████████████████████████████████████████████████████████████| 81/81 [00:00<00:00, 1156.82it/s]\n"
     ]
    },
    {
     "name": "stdout",
     "output_type": "stream",
     "text": [
      "Training | ModelType: ModelType.SVR | Datasetname: orange_std_col_name_ohv_type | ScalerType: ScalerType.Raw_ | Params: {'kernel': 'poly', 'degree': 3, 'gamma': 'scale', 'coef0': 0, 'tol': 0.001, 'C': 0.6, 'epsilon': 0.1}\n",
      "R2: 0.249719958626906 | MSE: 1.3760372672650192\n"
     ]
    },
    {
     "name": "stderr",
     "output_type": "stream",
     "text": [
      "100%|█████████████████████████████████████████████████████████████████████████████████| 81/81 [00:00<00:00, 955.30it/s]\n"
     ]
    },
    {
     "name": "stdout",
     "output_type": "stream",
     "text": [
      "Training | ModelType: ModelType.SVR | Datasetname: orange_std_col_name_ohv_type | ScalerType: ScalerType.MaxAbsScaler_ | Params: {'kernel': 'poly', 'degree': 3, 'gamma': 'scale', 'coef0': 0, 'tol': 0.001, 'C': 0.6, 'epsilon': 0.1}\n",
      "R2: 0.31814758914467645 | MSE: 1.2505388339989922\n"
     ]
    },
    {
     "name": "stderr",
     "output_type": "stream",
     "text": [
      "100%|█████████████████████████████████████████████████████████████████████████████████| 81/81 [00:00<00:00, 778.30it/s]\n"
     ]
    },
    {
     "name": "stdout",
     "output_type": "stream",
     "text": [
      "Training | ModelType: ModelType.SVR | Datasetname: orange_std_col_name_ohv_type | ScalerType: ScalerType.MinMaxScaler_ | Params: {'kernel': 'poly', 'degree': 3, 'gamma': 'scale', 'coef0': 0, 'tol': 0.001, 'C': 0.6, 'epsilon': 0.1}\n",
      "R2: 0.2807610683223939 | MSE: 1.3191068927343546\n"
     ]
    },
    {
     "name": "stderr",
     "output_type": "stream",
     "text": [
      "100%|█████████████████████████████████████████████████████████████████████████████████| 81/81 [00:00<00:00, 948.90it/s]\n"
     ]
    },
    {
     "name": "stdout",
     "output_type": "stream",
     "text": [
      "Training | ModelType: ModelType.SVR | Datasetname: orange_std_col_name_ohv_type | ScalerType: ScalerType.Normalizer_ | Params: {'kernel': 'poly', 'degree': 3, 'gamma': 'scale', 'coef0': 0, 'tol': 0.001, 'C': 0.6, 'epsilon': 0.1}\n",
      "R2: 0.31902441282465743 | MSE: 1.2489307117060597\n"
     ]
    },
    {
     "name": "stderr",
     "output_type": "stream",
     "text": [
      "100%|█████████████████████████████████████████████████████████████████████████████████| 81/81 [00:00<00:00, 509.86it/s]\n"
     ]
    },
    {
     "name": "stdout",
     "output_type": "stream",
     "text": [
      "Training | ModelType: ModelType.SVR | Datasetname: orange_std_col_name_ohv_type | ScalerType: ScalerType.RobustScaler_ | Params: {'kernel': 'poly', 'degree': 3, 'gamma': 'scale', 'coef0': 0, 'tol': 0.001, 'C': 0.6, 'epsilon': 0.1}\n",
      "R2: 0.1870979848320914 | MSE: 1.4908879429322774\n"
     ]
    },
    {
     "name": "stderr",
     "output_type": "stream",
     "text": [
      "100%|█████████████████████████████████████████████████████████████████████████████████| 81/81 [00:00<00:00, 709.42it/s]\n"
     ]
    },
    {
     "name": "stdout",
     "output_type": "stream",
     "text": [
      "Training | ModelType: ModelType.SVR | Datasetname: orange_std_col_name_ohv_type | ScalerType: ScalerType.StandardScaler_ | Params: {'kernel': 'poly', 'degree': 3, 'gamma': 'scale', 'coef0': 0, 'tol': 0.001, 'C': 0.6, 'epsilon': 0.1}\n",
      "R2: 0.13343826226217392 | MSE: 1.5893015670934336\n"
     ]
    },
    {
     "name": "stderr",
     "output_type": "stream",
     "text": [
      "100%|████████████████████████████████████████████████████████████████████████████████| 81/81 [00:00<00:00, 1360.00it/s]\n"
     ]
    },
    {
     "name": "stdout",
     "output_type": "stream",
     "text": [
      "Training | ModelType: ModelType.SVR | Datasetname: orange_std_col_name_ohv_type | ScalerType: ScalerType.Raw_ | Params: {'kernel': 'poly', 'degree': 3, 'gamma': 'scale', 'coef0': 0, 'tol': 0.001, 'C': 0.7000000000000001, 'epsilon': 0.1}\n",
      "R2: 0.2447669352405828 | MSE: 1.3851212684237635\n"
     ]
    },
    {
     "name": "stderr",
     "output_type": "stream",
     "text": [
      "100%|█████████████████████████████████████████████████████████████████████████████████| 81/81 [00:00<00:00, 848.68it/s]\n"
     ]
    },
    {
     "name": "stdout",
     "output_type": "stream",
     "text": [
      "Training | ModelType: ModelType.SVR | Datasetname: orange_std_col_name_ohv_type | ScalerType: ScalerType.MaxAbsScaler_ | Params: {'kernel': 'poly', 'degree': 3, 'gamma': 'scale', 'coef0': 0, 'tol': 0.001, 'C': 0.7000000000000001, 'epsilon': 0.1}\n",
      "R2: 0.3171190719685736 | MSE: 1.2524251669497521\n"
     ]
    },
    {
     "name": "stderr",
     "output_type": "stream",
     "text": [
      "100%|█████████████████████████████████████████████████████████████████████████████████| 81/81 [00:00<00:00, 827.12it/s]\n"
     ]
    },
    {
     "name": "stdout",
     "output_type": "stream",
     "text": [
      "Training | ModelType: ModelType.SVR | Datasetname: orange_std_col_name_ohv_type | ScalerType: ScalerType.MinMaxScaler_ | Params: {'kernel': 'poly', 'degree': 3, 'gamma': 'scale', 'coef0': 0, 'tol': 0.001, 'C': 0.7000000000000001, 'epsilon': 0.1}\n",
      "R2: 0.2717405252656495 | MSE: 1.3356508532991758\n"
     ]
    },
    {
     "name": "stderr",
     "output_type": "stream",
     "text": [
      "100%|█████████████████████████████████████████████████████████████████████████████████| 81/81 [00:00<00:00, 859.30it/s]\n"
     ]
    },
    {
     "name": "stdout",
     "output_type": "stream",
     "text": [
      "Training | ModelType: ModelType.SVR | Datasetname: orange_std_col_name_ohv_type | ScalerType: ScalerType.Normalizer_ | Params: {'kernel': 'poly', 'degree': 3, 'gamma': 'scale', 'coef0': 0, 'tol': 0.001, 'C': 0.7000000000000001, 'epsilon': 0.1}\n",
      "R2: 0.31370277087816756 | MSE: 1.2586907709340904\n"
     ]
    },
    {
     "name": "stderr",
     "output_type": "stream",
     "text": [
      "100%|█████████████████████████████████████████████████████████████████████████████████| 81/81 [00:00<00:00, 499.56it/s]\n"
     ]
    },
    {
     "name": "stdout",
     "output_type": "stream",
     "text": [
      "Training | ModelType: ModelType.SVR | Datasetname: orange_std_col_name_ohv_type | ScalerType: ScalerType.RobustScaler_ | Params: {'kernel': 'poly', 'degree': 3, 'gamma': 'scale', 'coef0': 0, 'tol': 0.001, 'C': 0.7000000000000001, 'epsilon': 0.1}\n",
      "R2: 0.19743619884468655 | MSE: 1.4719273322618167\n"
     ]
    },
    {
     "name": "stderr",
     "output_type": "stream",
     "text": [
      "100%|█████████████████████████████████████████████████████████████████████████████████| 81/81 [00:00<00:00, 726.25it/s]\n"
     ]
    },
    {
     "name": "stdout",
     "output_type": "stream",
     "text": [
      "Training | ModelType: ModelType.SVR | Datasetname: orange_std_col_name_ohv_type | ScalerType: ScalerType.StandardScaler_ | Params: {'kernel': 'poly', 'degree': 3, 'gamma': 'scale', 'coef0': 0, 'tol': 0.001, 'C': 0.7000000000000001, 'epsilon': 0.1}\n",
      "R2: 0.14370188018553787 | MSE: 1.5704777680041346\n"
     ]
    },
    {
     "name": "stderr",
     "output_type": "stream",
     "text": [
      "100%|████████████████████████████████████████████████████████████████████████████████| 81/81 [00:00<00:00, 1435.71it/s]\n"
     ]
    },
    {
     "name": "stdout",
     "output_type": "stream",
     "text": [
      "Training | ModelType: ModelType.SVR | Datasetname: orange_std_col_name_ohv_type | ScalerType: ScalerType.Raw_ | Params: {'kernel': 'rbf', 'degree': 3, 'gamma': 'scale', 'coef0': 0, 'tol': 0.001, 'C': 0.7000000000000001, 'epsilon': 0.1}\n",
      "R2: 0.20389099646316633 | MSE: 1.4600890297802172\n"
     ]
    },
    {
     "name": "stderr",
     "output_type": "stream",
     "text": [
      "100%|████████████████████████████████████████████████████████████████████████████████| 81/81 [00:00<00:00, 1062.01it/s]\n"
     ]
    },
    {
     "name": "stdout",
     "output_type": "stream",
     "text": [
      "Training | ModelType: ModelType.SVR | Datasetname: orange_std_col_name_ohv_type | ScalerType: ScalerType.MaxAbsScaler_ | Params: {'kernel': 'rbf', 'degree': 3, 'gamma': 'scale', 'coef0': 0, 'tol': 0.001, 'C': 0.7000000000000001, 'epsilon': 0.1}\n",
      "R2: 0.29446279631511574 | MSE: 1.2939774913052446\n"
     ]
    },
    {
     "name": "stderr",
     "output_type": "stream",
     "text": [
      "100%|█████████████████████████████████████████████████████████████████████████████████| 81/81 [00:00<00:00, 893.26it/s]\n"
     ]
    },
    {
     "name": "stdout",
     "output_type": "stream",
     "text": [
      "Training | ModelType: ModelType.SVR | Datasetname: orange_std_col_name_ohv_type | ScalerType: ScalerType.MinMaxScaler_ | Params: {'kernel': 'rbf', 'degree': 3, 'gamma': 'scale', 'coef0': 0, 'tol': 0.001, 'C': 0.7000000000000001, 'epsilon': 0.1}\n",
      "R2: 0.29301884445667414 | MSE: 1.2966257445704068\n"
     ]
    },
    {
     "name": "stderr",
     "output_type": "stream",
     "text": [
      "100%|█████████████████████████████████████████████████████████████████████████████████| 81/81 [00:00<00:00, 985.61it/s]\n"
     ]
    },
    {
     "name": "stdout",
     "output_type": "stream",
     "text": [
      "Training | ModelType: ModelType.SVR | Datasetname: orange_std_col_name_ohv_type | ScalerType: ScalerType.Normalizer_ | Params: {'kernel': 'rbf', 'degree': 3, 'gamma': 'scale', 'coef0': 0, 'tol': 0.001, 'C': 0.7000000000000001, 'epsilon': 0.1}\n",
      "R2: 0.2926162835053626 | MSE: 1.2973640540559377\n"
     ]
    },
    {
     "name": "stderr",
     "output_type": "stream",
     "text": [
      "100%|█████████████████████████████████████████████████████████████████████████████████| 81/81 [00:00<00:00, 597.80it/s]\n"
     ]
    },
    {
     "name": "stdout",
     "output_type": "stream",
     "text": [
      "Training | ModelType: ModelType.SVR | Datasetname: orange_std_col_name_ohv_type | ScalerType: ScalerType.RobustScaler_ | Params: {'kernel': 'rbf', 'degree': 3, 'gamma': 'scale', 'coef0': 0, 'tol': 0.001, 'C': 0.7000000000000001, 'epsilon': 0.1}\n",
      "R2: 0.2767890467191335 | MSE: 1.326391705672288\n"
     ]
    },
    {
     "name": "stderr",
     "output_type": "stream",
     "text": [
      "100%|█████████████████████████████████████████████████████████████████████████████████| 81/81 [00:00<00:00, 967.56it/s]\n"
     ]
    },
    {
     "name": "stdout",
     "output_type": "stream",
     "text": [
      "Training | ModelType: ModelType.SVR | Datasetname: orange_std_col_name_ohv_type | ScalerType: ScalerType.StandardScaler_ | Params: {'kernel': 'rbf', 'degree': 3, 'gamma': 'scale', 'coef0': 0, 'tol': 0.001, 'C': 0.7000000000000001, 'epsilon': 0.1}\n",
      "R2: 0.27092755872236984 | MSE: 1.3371418595887008\n"
     ]
    },
    {
     "name": "stderr",
     "output_type": "stream",
     "text": [
      "100%|████████████████████████████████████████████████████████████████████████████████| 81/81 [00:00<00:00, 1345.81it/s]\n"
     ]
    },
    {
     "name": "stdout",
     "output_type": "stream",
     "text": [
      "Training | ModelType: ModelType.SVR | Datasetname: orange_std_col_name_ohv_type | ScalerType: ScalerType.Raw_ | Params: {'kernel': 'rbf', 'degree': 3, 'gamma': 'scale', 'coef0': 0, 'tol': 0.001, 'C': 0.7000000000000001, 'epsilon': 0.1}\n",
      "R2: 0.20389099646316633 | MSE: 1.4600890297802172\n"
     ]
    },
    {
     "name": "stderr",
     "output_type": "stream",
     "text": [
      "100%|█████████████████████████████████████████████████████████████████████████████████| 81/81 [00:00<00:00, 898.28it/s]\n"
     ]
    },
    {
     "name": "stdout",
     "output_type": "stream",
     "text": [
      "Training | ModelType: ModelType.SVR | Datasetname: orange_std_col_name_ohv_type | ScalerType: ScalerType.MaxAbsScaler_ | Params: {'kernel': 'rbf', 'degree': 3, 'gamma': 'scale', 'coef0': 0, 'tol': 0.001, 'C': 0.7000000000000001, 'epsilon': 0.1}\n",
      "R2: 0.29446279631511574 | MSE: 1.2939774913052446\n"
     ]
    },
    {
     "name": "stderr",
     "output_type": "stream",
     "text": [
      "100%|█████████████████████████████████████████████████████████████████████████████████| 81/81 [00:00<00:00, 967.29it/s]\n"
     ]
    },
    {
     "name": "stdout",
     "output_type": "stream",
     "text": [
      "Training | ModelType: ModelType.SVR | Datasetname: orange_std_col_name_ohv_type | ScalerType: ScalerType.MinMaxScaler_ | Params: {'kernel': 'rbf', 'degree': 3, 'gamma': 'scale', 'coef0': 0, 'tol': 0.001, 'C': 0.7000000000000001, 'epsilon': 0.1}\n",
      "R2: 0.29301884445667414 | MSE: 1.2966257445704068\n"
     ]
    },
    {
     "name": "stderr",
     "output_type": "stream",
     "text": [
      "100%|█████████████████████████████████████████████████████████████████████████████████| 81/81 [00:00<00:00, 881.52it/s]\n"
     ]
    },
    {
     "name": "stdout",
     "output_type": "stream",
     "text": [
      "Training | ModelType: ModelType.SVR | Datasetname: orange_std_col_name_ohv_type | ScalerType: ScalerType.Normalizer_ | Params: {'kernel': 'rbf', 'degree': 3, 'gamma': 'scale', 'coef0': 0, 'tol': 0.001, 'C': 0.7000000000000001, 'epsilon': 0.1}\n",
      "R2: 0.2926162835053626 | MSE: 1.2973640540559377\n"
     ]
    },
    {
     "name": "stderr",
     "output_type": "stream",
     "text": [
      "100%|█████████████████████████████████████████████████████████████████████████████████| 81/81 [00:00<00:00, 544.97it/s]\n"
     ]
    },
    {
     "name": "stdout",
     "output_type": "stream",
     "text": [
      "Training | ModelType: ModelType.SVR | Datasetname: orange_std_col_name_ohv_type | ScalerType: ScalerType.RobustScaler_ | Params: {'kernel': 'rbf', 'degree': 3, 'gamma': 'scale', 'coef0': 0, 'tol': 0.001, 'C': 0.7000000000000001, 'epsilon': 0.1}\n",
      "R2: 0.2767890467191335 | MSE: 1.326391705672288\n"
     ]
    },
    {
     "name": "stderr",
     "output_type": "stream",
     "text": [
      "100%|█████████████████████████████████████████████████████████████████████████████████| 81/81 [00:00<00:00, 823.40it/s]\n"
     ]
    },
    {
     "name": "stdout",
     "output_type": "stream",
     "text": [
      "Training | ModelType: ModelType.SVR | Datasetname: orange_std_col_name_ohv_type | ScalerType: ScalerType.StandardScaler_ | Params: {'kernel': 'rbf', 'degree': 3, 'gamma': 'scale', 'coef0': 0, 'tol': 0.001, 'C': 0.7000000000000001, 'epsilon': 0.1}\n",
      "R2: 0.27092755872236984 | MSE: 1.3371418595887008\n"
     ]
    },
    {
     "name": "stderr",
     "output_type": "stream",
     "text": [
      "100%|██████████████████████████████████████████████████████████████████████████████████| 81/81 [00:05<00:00, 15.66it/s]\n"
     ]
    },
    {
     "name": "stdout",
     "output_type": "stream",
     "text": [
      "Training | ModelType: ModelType.SVR | Datasetname: orange_std_col_name_ohv_type | ScalerType: ScalerType.Raw_ | Params: {'kernel': 'linear', 'degree': 3, 'gamma': 'scale', 'coef0': 0, 'tol': 0.001, 'C': 0.7000000000000001, 'epsilon': 0.1}\n",
      "R2: 0.29499075960102206 | MSE: 1.2930091899816147\n"
     ]
    },
    {
     "name": "stderr",
     "output_type": "stream",
     "text": [
      "100%|█████████████████████████████████████████████████████████████████████████████████| 81/81 [00:00<00:00, 948.78it/s]\n"
     ]
    },
    {
     "name": "stdout",
     "output_type": "stream",
     "text": [
      "Training | ModelType: ModelType.SVR | Datasetname: orange_std_col_name_ohv_type | ScalerType: ScalerType.MaxAbsScaler_ | Params: {'kernel': 'linear', 'degree': 3, 'gamma': 'scale', 'coef0': 0, 'tol': 0.001, 'C': 0.7000000000000001, 'epsilon': 0.1}\n",
      "R2: 0.2899723361049428 | MSE: 1.3022131370050296\n"
     ]
    },
    {
     "name": "stderr",
     "output_type": "stream",
     "text": [
      "100%|█████████████████████████████████████████████████████████████████████████████████| 81/81 [00:00<00:00, 964.65it/s]\n"
     ]
    },
    {
     "name": "stdout",
     "output_type": "stream",
     "text": [
      "Training | ModelType: ModelType.SVR | Datasetname: orange_std_col_name_ohv_type | ScalerType: ScalerType.MinMaxScaler_ | Params: {'kernel': 'linear', 'degree': 3, 'gamma': 'scale', 'coef0': 0, 'tol': 0.001, 'C': 0.7000000000000001, 'epsilon': 0.1}\n",
      "R2: 0.27781269884197124 | MSE: 1.324514295382709\n"
     ]
    },
    {
     "name": "stderr",
     "output_type": "stream",
     "text": [
      "100%|█████████████████████████████████████████████████████████████████████████████████| 81/81 [00:00<00:00, 917.68it/s]\n"
     ]
    },
    {
     "name": "stdout",
     "output_type": "stream",
     "text": [
      "Training | ModelType: ModelType.SVR | Datasetname: orange_std_col_name_ohv_type | ScalerType: ScalerType.Normalizer_ | Params: {'kernel': 'linear', 'degree': 3, 'gamma': 'scale', 'coef0': 0, 'tol': 0.001, 'C': 0.7000000000000001, 'epsilon': 0.1}\n",
      "R2: 0.31319496975362515 | MSE: 1.2596220942176617\n"
     ]
    },
    {
     "name": "stderr",
     "output_type": "stream",
     "text": [
      "100%|█████████████████████████████████████████████████████████████████████████████████| 81/81 [00:00<00:00, 529.98it/s]\n"
     ]
    },
    {
     "name": "stdout",
     "output_type": "stream",
     "text": [
      "Training | ModelType: ModelType.SVR | Datasetname: orange_std_col_name_ohv_type | ScalerType: ScalerType.RobustScaler_ | Params: {'kernel': 'linear', 'degree': 3, 'gamma': 'scale', 'coef0': 0, 'tol': 0.001, 'C': 0.7000000000000001, 'epsilon': 0.1}\n",
      "R2: 0.28604006794348846 | MSE: 1.309425040876467\n"
     ]
    },
    {
     "name": "stderr",
     "output_type": "stream",
     "text": [
      "100%|█████████████████████████████████████████████████████████████████████████████████| 81/81 [00:00<00:00, 858.74it/s]\n"
     ]
    },
    {
     "name": "stdout",
     "output_type": "stream",
     "text": [
      "Training | ModelType: ModelType.SVR | Datasetname: orange_std_col_name_ohv_type | ScalerType: ScalerType.StandardScaler_ | Params: {'kernel': 'linear', 'degree': 3, 'gamma': 'scale', 'coef0': 0, 'tol': 0.001, 'C': 0.7000000000000001, 'epsilon': 0.1}\n",
      "R2: 0.3081640716733952 | MSE: 1.2688489200219828\n"
     ]
    },
    {
     "name": "stderr",
     "output_type": "stream",
     "text": [
      "100%|██████████████████████████████████████████████████████████████████████████████████| 81/81 [00:05<00:00, 15.77it/s]\n"
     ]
    },
    {
     "name": "stdout",
     "output_type": "stream",
     "text": [
      "Training | ModelType: ModelType.SVR | Datasetname: orange_std_col_name_ohv_type | ScalerType: ScalerType.Raw_ | Params: {'kernel': 'linear', 'degree': 3, 'gamma': 'scale', 'coef0': 0, 'tol': 0.001, 'C': 0.7000000000000001, 'epsilon': 0.1}\n",
      "R2: 0.29499075960102206 | MSE: 1.2930091899816147\n"
     ]
    },
    {
     "name": "stderr",
     "output_type": "stream",
     "text": [
      "100%|█████████████████████████████████████████████████████████████████████████████████| 81/81 [00:00<00:00, 969.76it/s]\n"
     ]
    },
    {
     "name": "stdout",
     "output_type": "stream",
     "text": [
      "Training | ModelType: ModelType.SVR | Datasetname: orange_std_col_name_ohv_type | ScalerType: ScalerType.MaxAbsScaler_ | Params: {'kernel': 'linear', 'degree': 3, 'gamma': 'scale', 'coef0': 0, 'tol': 0.001, 'C': 0.7000000000000001, 'epsilon': 0.1}\n",
      "R2: 0.2899723361049428 | MSE: 1.3022131370050296\n"
     ]
    },
    {
     "name": "stderr",
     "output_type": "stream",
     "text": [
      "100%|█████████████████████████████████████████████████████████████████████████████████| 81/81 [00:00<00:00, 949.82it/s]\n"
     ]
    },
    {
     "name": "stdout",
     "output_type": "stream",
     "text": [
      "Training | ModelType: ModelType.SVR | Datasetname: orange_std_col_name_ohv_type | ScalerType: ScalerType.MinMaxScaler_ | Params: {'kernel': 'linear', 'degree': 3, 'gamma': 'scale', 'coef0': 0, 'tol': 0.001, 'C': 0.7000000000000001, 'epsilon': 0.1}\n",
      "R2: 0.27781269884197124 | MSE: 1.324514295382709\n"
     ]
    },
    {
     "name": "stderr",
     "output_type": "stream",
     "text": [
      "100%|█████████████████████████████████████████████████████████████████████████████████| 81/81 [00:00<00:00, 952.45it/s]\n"
     ]
    },
    {
     "name": "stdout",
     "output_type": "stream",
     "text": [
      "Training | ModelType: ModelType.SVR | Datasetname: orange_std_col_name_ohv_type | ScalerType: ScalerType.Normalizer_ | Params: {'kernel': 'linear', 'degree': 3, 'gamma': 'scale', 'coef0': 0, 'tol': 0.001, 'C': 0.7000000000000001, 'epsilon': 0.1}\n",
      "R2: 0.31319496975362515 | MSE: 1.2596220942176617\n"
     ]
    },
    {
     "name": "stderr",
     "output_type": "stream",
     "text": [
      "100%|█████████████████████████████████████████████████████████████████████████████████| 81/81 [00:00<00:00, 553.80it/s]\n"
     ]
    },
    {
     "name": "stdout",
     "output_type": "stream",
     "text": [
      "Training | ModelType: ModelType.SVR | Datasetname: orange_std_col_name_ohv_type | ScalerType: ScalerType.RobustScaler_ | Params: {'kernel': 'linear', 'degree': 3, 'gamma': 'scale', 'coef0': 0, 'tol': 0.001, 'C': 0.7000000000000001, 'epsilon': 0.1}\n",
      "R2: 0.28604006794348846 | MSE: 1.309425040876467\n"
     ]
    },
    {
     "name": "stderr",
     "output_type": "stream",
     "text": [
      "100%|█████████████████████████████████████████████████████████████████████████████████| 81/81 [00:00<00:00, 811.70it/s]\n"
     ]
    },
    {
     "name": "stdout",
     "output_type": "stream",
     "text": [
      "Training | ModelType: ModelType.SVR | Datasetname: orange_std_col_name_ohv_type | ScalerType: ScalerType.StandardScaler_ | Params: {'kernel': 'linear', 'degree': 3, 'gamma': 'scale', 'coef0': 0, 'tol': 0.001, 'C': 0.7000000000000001, 'epsilon': 0.1}\n",
      "R2: 0.3081640716733952 | MSE: 1.2688489200219828\n"
     ]
    },
    {
     "name": "stderr",
     "output_type": "stream",
     "text": [
      "100%|████████████████████████████████████████████████████████████████████████████████| 81/81 [00:00<00:00, 1329.31it/s]\n"
     ]
    },
    {
     "name": "stdout",
     "output_type": "stream",
     "text": [
      "Training | ModelType: ModelType.SVR | Datasetname: orange_std_col_name_ohv_type | ScalerType: ScalerType.Raw_ | Params: {'kernel': 'poly', 'degree': 3, 'gamma': 'scale', 'coef0': 0, 'tol': 0.001, 'C': 0.7000000000000001, 'epsilon': 0.1}\n",
      "R2: 0.2447669352405828 | MSE: 1.3851212684237635\n"
     ]
    },
    {
     "name": "stderr",
     "output_type": "stream",
     "text": [
      "100%|█████████████████████████████████████████████████████████████████████████████████| 81/81 [00:00<00:00, 895.51it/s]\n"
     ]
    },
    {
     "name": "stdout",
     "output_type": "stream",
     "text": [
      "Training | ModelType: ModelType.SVR | Datasetname: orange_std_col_name_ohv_type | ScalerType: ScalerType.MaxAbsScaler_ | Params: {'kernel': 'poly', 'degree': 3, 'gamma': 'scale', 'coef0': 0, 'tol': 0.001, 'C': 0.7000000000000001, 'epsilon': 0.1}\n",
      "R2: 0.3171190719685736 | MSE: 1.2524251669497521\n"
     ]
    },
    {
     "name": "stderr",
     "output_type": "stream",
     "text": [
      "100%|█████████████████████████████████████████████████████████████████████████████████| 81/81 [00:00<00:00, 810.34it/s]\n"
     ]
    },
    {
     "name": "stdout",
     "output_type": "stream",
     "text": [
      "Training | ModelType: ModelType.SVR | Datasetname: orange_std_col_name_ohv_type | ScalerType: ScalerType.MinMaxScaler_ | Params: {'kernel': 'poly', 'degree': 3, 'gamma': 'scale', 'coef0': 0, 'tol': 0.001, 'C': 0.7000000000000001, 'epsilon': 0.1}\n",
      "R2: 0.2717405252656495 | MSE: 1.3356508532991758\n"
     ]
    },
    {
     "name": "stderr",
     "output_type": "stream",
     "text": [
      "100%|████████████████████████████████████████████████████████████████████████████████| 81/81 [00:00<00:00, 1001.65it/s]\n"
     ]
    },
    {
     "name": "stdout",
     "output_type": "stream",
     "text": [
      "Training | ModelType: ModelType.SVR | Datasetname: orange_std_col_name_ohv_type | ScalerType: ScalerType.Normalizer_ | Params: {'kernel': 'poly', 'degree': 3, 'gamma': 'scale', 'coef0': 0, 'tol': 0.001, 'C': 0.7000000000000001, 'epsilon': 0.1}\n",
      "R2: 0.31370277087816756 | MSE: 1.2586907709340904\n"
     ]
    },
    {
     "name": "stderr",
     "output_type": "stream",
     "text": [
      "100%|█████████████████████████████████████████████████████████████████████████████████| 81/81 [00:00<00:00, 492.17it/s]\n"
     ]
    },
    {
     "name": "stdout",
     "output_type": "stream",
     "text": [
      "Training | ModelType: ModelType.SVR | Datasetname: orange_std_col_name_ohv_type | ScalerType: ScalerType.RobustScaler_ | Params: {'kernel': 'poly', 'degree': 3, 'gamma': 'scale', 'coef0': 0, 'tol': 0.001, 'C': 0.7000000000000001, 'epsilon': 0.1}\n",
      "R2: 0.19743619884468655 | MSE: 1.4719273322618167\n"
     ]
    },
    {
     "name": "stderr",
     "output_type": "stream",
     "text": [
      "100%|█████████████████████████████████████████████████████████████████████████████████| 81/81 [00:00<00:00, 648.71it/s]\n"
     ]
    },
    {
     "name": "stdout",
     "output_type": "stream",
     "text": [
      "Training | ModelType: ModelType.SVR | Datasetname: orange_std_col_name_ohv_type | ScalerType: ScalerType.StandardScaler_ | Params: {'kernel': 'poly', 'degree': 3, 'gamma': 'scale', 'coef0': 0, 'tol': 0.001, 'C': 0.7000000000000001, 'epsilon': 0.1}\n",
      "R2: 0.14370188018553787 | MSE: 1.5704777680041346\n"
     ]
    },
    {
     "name": "stderr",
     "output_type": "stream",
     "text": [
      "100%|████████████████████████████████████████████████████████████████████████████████| 81/81 [00:00<00:00, 1068.09it/s]\n"
     ]
    },
    {
     "name": "stdout",
     "output_type": "stream",
     "text": [
      "Training | ModelType: ModelType.SVR | Datasetname: orange_std_col_name_ohv_type | ScalerType: ScalerType.Raw_ | Params: {'kernel': 'poly', 'degree': 3, 'gamma': 'scale', 'coef0': 0, 'tol': 0.001, 'C': 0.8, 'epsilon': 0.1}\n",
      "R2: 0.23340159685418504 | MSE: 1.4059656576016226\n"
     ]
    },
    {
     "name": "stderr",
     "output_type": "stream",
     "text": [
      "100%|█████████████████████████████████████████████████████████████████████████████████| 81/81 [00:00<00:00, 774.33it/s]\n"
     ]
    },
    {
     "name": "stdout",
     "output_type": "stream",
     "text": [
      "Training | ModelType: ModelType.SVR | Datasetname: orange_std_col_name_ohv_type | ScalerType: ScalerType.MaxAbsScaler_ | Params: {'kernel': 'poly', 'degree': 3, 'gamma': 'scale', 'coef0': 0, 'tol': 0.001, 'C': 0.8, 'epsilon': 0.1}\n",
      "R2: 0.3144441201196386 | MSE: 1.2573311130356133\n"
     ]
    },
    {
     "name": "stderr",
     "output_type": "stream",
     "text": [
      "100%|█████████████████████████████████████████████████████████████████████████████████| 81/81 [00:00<00:00, 722.46it/s]\n"
     ]
    },
    {
     "name": "stdout",
     "output_type": "stream",
     "text": [
      "Training | ModelType: ModelType.SVR | Datasetname: orange_std_col_name_ohv_type | ScalerType: ScalerType.MinMaxScaler_ | Params: {'kernel': 'poly', 'degree': 3, 'gamma': 'scale', 'coef0': 0, 'tol': 0.001, 'C': 0.8, 'epsilon': 0.1}\n",
      "R2: 0.2649767013617339 | MSE: 1.348055919738065\n"
     ]
    },
    {
     "name": "stderr",
     "output_type": "stream",
     "text": [
      "100%|█████████████████████████████████████████████████████████████████████████████████| 81/81 [00:00<00:00, 826.50it/s]\n"
     ]
    },
    {
     "name": "stdout",
     "output_type": "stream",
     "text": [
      "Training | ModelType: ModelType.SVR | Datasetname: orange_std_col_name_ohv_type | ScalerType: ScalerType.Normalizer_ | Params: {'kernel': 'poly', 'degree': 3, 'gamma': 'scale', 'coef0': 0, 'tol': 0.001, 'C': 0.8, 'epsilon': 0.1}\n",
      "R2: 0.30905537455258214 | MSE: 1.267214242420887\n"
     ]
    },
    {
     "name": "stderr",
     "output_type": "stream",
     "text": [
      "100%|█████████████████████████████████████████████████████████████████████████████████| 81/81 [00:00<00:00, 486.75it/s]\n"
     ]
    },
    {
     "name": "stdout",
     "output_type": "stream",
     "text": [
      "Training | ModelType: ModelType.SVR | Datasetname: orange_std_col_name_ohv_type | ScalerType: ScalerType.RobustScaler_ | Params: {'kernel': 'poly', 'degree': 3, 'gamma': 'scale', 'coef0': 0, 'tol': 0.001, 'C': 0.8, 'epsilon': 0.1}\n",
      "R2: 0.19469907096771744 | MSE: 1.4769473111447504\n"
     ]
    },
    {
     "name": "stderr",
     "output_type": "stream",
     "text": [
      "100%|█████████████████████████████████████████████████████████████████████████████████| 81/81 [00:00<00:00, 685.42it/s]\n"
     ]
    },
    {
     "name": "stdout",
     "output_type": "stream",
     "text": [
      "Training | ModelType: ModelType.SVR | Datasetname: orange_std_col_name_ohv_type | ScalerType: ScalerType.StandardScaler_ | Params: {'kernel': 'poly', 'degree': 3, 'gamma': 'scale', 'coef0': 0, 'tol': 0.001, 'C': 0.8, 'epsilon': 0.1}\n",
      "R2: 0.1592265428880386 | MSE: 1.542005046803575\n"
     ]
    },
    {
     "name": "stderr",
     "output_type": "stream",
     "text": [
      "100%|████████████████████████████████████████████████████████████████████████████████| 81/81 [00:00<00:00, 1297.84it/s]\n"
     ]
    },
    {
     "name": "stdout",
     "output_type": "stream",
     "text": [
      "Training | ModelType: ModelType.SVR | Datasetname: orange_std_col_name_ohv_type | ScalerType: ScalerType.Raw_ | Params: {'kernel': 'rbf', 'degree': 3, 'gamma': 'scale', 'coef0': 0, 'tol': 0.001, 'C': 0.8, 'epsilon': 0.1}\n",
      "R2: 0.20310195976233192 | MSE: 1.4615361479837097\n"
     ]
    },
    {
     "name": "stderr",
     "output_type": "stream",
     "text": [
      "100%|█████████████████████████████████████████████████████████████████████████████████| 81/81 [00:00<00:00, 931.98it/s]\n"
     ]
    },
    {
     "name": "stdout",
     "output_type": "stream",
     "text": [
      "Training | ModelType: ModelType.SVR | Datasetname: orange_std_col_name_ohv_type | ScalerType: ScalerType.MaxAbsScaler_ | Params: {'kernel': 'rbf', 'degree': 3, 'gamma': 'scale', 'coef0': 0, 'tol': 0.001, 'C': 0.8, 'epsilon': 0.1}\n",
      "R2: 0.2934440861203641 | MSE: 1.2958458379427957\n"
     ]
    },
    {
     "name": "stderr",
     "output_type": "stream",
     "text": [
      "100%|█████████████████████████████████████████████████████████████████████████████████| 81/81 [00:00<00:00, 897.80it/s]\n"
     ]
    },
    {
     "name": "stdout",
     "output_type": "stream",
     "text": [
      "Training | ModelType: ModelType.SVR | Datasetname: orange_std_col_name_ohv_type | ScalerType: ScalerType.MinMaxScaler_ | Params: {'kernel': 'rbf', 'degree': 3, 'gamma': 'scale', 'coef0': 0, 'tol': 0.001, 'C': 0.8, 'epsilon': 0.1}\n",
      "R2: 0.29182284616623977 | MSE: 1.2988192431688916\n"
     ]
    },
    {
     "name": "stderr",
     "output_type": "stream",
     "text": [
      "100%|█████████████████████████████████████████████████████████████████████████████████| 81/81 [00:00<00:00, 979.52it/s]\n"
     ]
    },
    {
     "name": "stdout",
     "output_type": "stream",
     "text": [
      "Training | ModelType: ModelType.SVR | Datasetname: orange_std_col_name_ohv_type | ScalerType: ScalerType.Normalizer_ | Params: {'kernel': 'rbf', 'degree': 3, 'gamma': 'scale', 'coef0': 0, 'tol': 0.001, 'C': 0.8, 'epsilon': 0.1}\n",
      "R2: 0.29227892383516607 | MSE: 1.297982782334799\n"
     ]
    },
    {
     "name": "stderr",
     "output_type": "stream",
     "text": [
      "100%|█████████████████████████████████████████████████████████████████████████████████| 81/81 [00:00<00:00, 555.69it/s]\n"
     ]
    },
    {
     "name": "stdout",
     "output_type": "stream",
     "text": [
      "Training | ModelType: ModelType.SVR | Datasetname: orange_std_col_name_ohv_type | ScalerType: ScalerType.RobustScaler_ | Params: {'kernel': 'rbf', 'degree': 3, 'gamma': 'scale', 'coef0': 0, 'tol': 0.001, 'C': 0.8, 'epsilon': 0.1}\n",
      "R2: 0.27917689067768825 | MSE: 1.322012324515658\n"
     ]
    },
    {
     "name": "stderr",
     "output_type": "stream",
     "text": [
      "100%|█████████████████████████████████████████████████████████████████████████████████| 81/81 [00:00<00:00, 902.87it/s]\n"
     ]
    },
    {
     "name": "stdout",
     "output_type": "stream",
     "text": [
      "Training | ModelType: ModelType.SVR | Datasetname: orange_std_col_name_ohv_type | ScalerType: ScalerType.StandardScaler_ | Params: {'kernel': 'rbf', 'degree': 3, 'gamma': 'scale', 'coef0': 0, 'tol': 0.001, 'C': 0.8, 'epsilon': 0.1}\n",
      "R2: 0.2732975853219476 | MSE: 1.3327951560305735\n"
     ]
    },
    {
     "name": "stderr",
     "output_type": "stream",
     "text": [
      "100%|████████████████████████████████████████████████████████████████████████████████| 81/81 [00:00<00:00, 1331.63it/s]\n"
     ]
    },
    {
     "name": "stdout",
     "output_type": "stream",
     "text": [
      "Training | ModelType: ModelType.SVR | Datasetname: orange_std_col_name_ohv_type | ScalerType: ScalerType.Raw_ | Params: {'kernel': 'rbf', 'degree': 3, 'gamma': 'scale', 'coef0': 0, 'tol': 0.001, 'C': 0.8, 'epsilon': 0.1}\n",
      "R2: 0.20310195976233192 | MSE: 1.4615361479837097\n"
     ]
    },
    {
     "name": "stderr",
     "output_type": "stream",
     "text": [
      "100%|█████████████████████████████████████████████████████████████████████████████████| 81/81 [00:00<00:00, 864.50it/s]\n"
     ]
    },
    {
     "name": "stdout",
     "output_type": "stream",
     "text": [
      "Training | ModelType: ModelType.SVR | Datasetname: orange_std_col_name_ohv_type | ScalerType: ScalerType.MaxAbsScaler_ | Params: {'kernel': 'rbf', 'degree': 3, 'gamma': 'scale', 'coef0': 0, 'tol': 0.001, 'C': 0.8, 'epsilon': 0.1}\n",
      "R2: 0.2934440861203641 | MSE: 1.2958458379427957\n"
     ]
    },
    {
     "name": "stderr",
     "output_type": "stream",
     "text": [
      "100%|█████████████████████████████████████████████████████████████████████████████████| 81/81 [00:00<00:00, 930.39it/s]\n"
     ]
    },
    {
     "name": "stdout",
     "output_type": "stream",
     "text": [
      "Training | ModelType: ModelType.SVR | Datasetname: orange_std_col_name_ohv_type | ScalerType: ScalerType.MinMaxScaler_ | Params: {'kernel': 'rbf', 'degree': 3, 'gamma': 'scale', 'coef0': 0, 'tol': 0.001, 'C': 0.8, 'epsilon': 0.1}\n",
      "R2: 0.29182284616623977 | MSE: 1.2988192431688916\n"
     ]
    },
    {
     "name": "stderr",
     "output_type": "stream",
     "text": [
      "100%|█████████████████████████████████████████████████████████████████████████████████| 81/81 [00:00<00:00, 867.34it/s]\n"
     ]
    },
    {
     "name": "stdout",
     "output_type": "stream",
     "text": [
      "Training | ModelType: ModelType.SVR | Datasetname: orange_std_col_name_ohv_type | ScalerType: ScalerType.Normalizer_ | Params: {'kernel': 'rbf', 'degree': 3, 'gamma': 'scale', 'coef0': 0, 'tol': 0.001, 'C': 0.8, 'epsilon': 0.1}\n",
      "R2: 0.29227892383516607 | MSE: 1.297982782334799\n"
     ]
    },
    {
     "name": "stderr",
     "output_type": "stream",
     "text": [
      "100%|█████████████████████████████████████████████████████████████████████████████████| 81/81 [00:00<00:00, 574.77it/s]\n"
     ]
    },
    {
     "name": "stdout",
     "output_type": "stream",
     "text": [
      "Training | ModelType: ModelType.SVR | Datasetname: orange_std_col_name_ohv_type | ScalerType: ScalerType.RobustScaler_ | Params: {'kernel': 'rbf', 'degree': 3, 'gamma': 'scale', 'coef0': 0, 'tol': 0.001, 'C': 0.8, 'epsilon': 0.1}\n",
      "R2: 0.27917689067768825 | MSE: 1.322012324515658\n"
     ]
    },
    {
     "name": "stderr",
     "output_type": "stream",
     "text": [
      "100%|█████████████████████████████████████████████████████████████████████████████████| 81/81 [00:00<00:00, 775.37it/s]\n"
     ]
    },
    {
     "name": "stdout",
     "output_type": "stream",
     "text": [
      "Training | ModelType: ModelType.SVR | Datasetname: orange_std_col_name_ohv_type | ScalerType: ScalerType.StandardScaler_ | Params: {'kernel': 'rbf', 'degree': 3, 'gamma': 'scale', 'coef0': 0, 'tol': 0.001, 'C': 0.8, 'epsilon': 0.1}\n",
      "R2: 0.2732975853219476 | MSE: 1.3327951560305735\n"
     ]
    },
    {
     "name": "stderr",
     "output_type": "stream",
     "text": [
      "100%|██████████████████████████████████████████████████████████████████████████████████| 81/81 [00:06<00:00, 13.48it/s]\n"
     ]
    },
    {
     "name": "stdout",
     "output_type": "stream",
     "text": [
      "Training | ModelType: ModelType.SVR | Datasetname: orange_std_col_name_ohv_type | ScalerType: ScalerType.Raw_ | Params: {'kernel': 'linear', 'degree': 3, 'gamma': 'scale', 'coef0': 0, 'tol': 0.001, 'C': 0.8, 'epsilon': 0.1}\n",
      "R2: 0.29618800718060867 | MSE: 1.2908134001474094\n"
     ]
    },
    {
     "name": "stderr",
     "output_type": "stream",
     "text": [
      "100%|████████████████████████████████████████████████████████████████████████████████| 81/81 [00:00<00:00, 1189.98it/s]\n"
     ]
    },
    {
     "name": "stdout",
     "output_type": "stream",
     "text": [
      "Training | ModelType: ModelType.SVR | Datasetname: orange_std_col_name_ohv_type | ScalerType: ScalerType.MaxAbsScaler_ | Params: {'kernel': 'linear', 'degree': 3, 'gamma': 'scale', 'coef0': 0, 'tol': 0.001, 'C': 0.8, 'epsilon': 0.1}\n",
      "R2: 0.2877149186319652 | MSE: 1.3063533118721466\n"
     ]
    },
    {
     "name": "stderr",
     "output_type": "stream",
     "text": [
      "100%|█████████████████████████████████████████████████████████████████████████████████| 81/81 [00:00<00:00, 917.63it/s]\n"
     ]
    },
    {
     "name": "stdout",
     "output_type": "stream",
     "text": [
      "Training | ModelType: ModelType.SVR | Datasetname: orange_std_col_name_ohv_type | ScalerType: ScalerType.MinMaxScaler_ | Params: {'kernel': 'linear', 'degree': 3, 'gamma': 'scale', 'coef0': 0, 'tol': 0.001, 'C': 0.8, 'epsilon': 0.1}\n",
      "R2: 0.2793361075860411 | MSE: 1.3217203156824344\n"
     ]
    },
    {
     "name": "stderr",
     "output_type": "stream",
     "text": [
      "100%|█████████████████████████████████████████████████████████████████████████████████| 81/81 [00:00<00:00, 950.46it/s]\n"
     ]
    },
    {
     "name": "stdout",
     "output_type": "stream",
     "text": [
      "Training | ModelType: ModelType.SVR | Datasetname: orange_std_col_name_ohv_type | ScalerType: ScalerType.Normalizer_ | Params: {'kernel': 'linear', 'degree': 3, 'gamma': 'scale', 'coef0': 0, 'tol': 0.001, 'C': 0.8, 'epsilon': 0.1}\n",
      "R2: 0.3037256701304579 | MSE: 1.2769890884836028\n"
     ]
    },
    {
     "name": "stderr",
     "output_type": "stream",
     "text": [
      "100%|█████████████████████████████████████████████████████████████████████████████████| 81/81 [00:00<00:00, 566.96it/s]\n"
     ]
    },
    {
     "name": "stdout",
     "output_type": "stream",
     "text": [
      "Training | ModelType: ModelType.SVR | Datasetname: orange_std_col_name_ohv_type | ScalerType: ScalerType.RobustScaler_ | Params: {'kernel': 'linear', 'degree': 3, 'gamma': 'scale', 'coef0': 0, 'tol': 0.001, 'C': 0.8, 'epsilon': 0.1}\n",
      "R2: 0.2948538770115793 | MSE: 1.2932602369693078\n"
     ]
    },
    {
     "name": "stderr",
     "output_type": "stream",
     "text": [
      "100%|█████████████████████████████████████████████████████████████████████████████████| 81/81 [00:00<00:00, 727.16it/s]\n"
     ]
    },
    {
     "name": "stdout",
     "output_type": "stream",
     "text": [
      "Training | ModelType: ModelType.SVR | Datasetname: orange_std_col_name_ohv_type | ScalerType: ScalerType.StandardScaler_ | Params: {'kernel': 'linear', 'degree': 3, 'gamma': 'scale', 'coef0': 0, 'tol': 0.001, 'C': 0.8, 'epsilon': 0.1}\n",
      "R2: 0.3045468192495431 | MSE: 1.2754830750918895\n"
     ]
    },
    {
     "name": "stderr",
     "output_type": "stream",
     "text": [
      "100%|██████████████████████████████████████████████████████████████████████████████████| 81/81 [00:06<00:00, 13.49it/s]\n"
     ]
    },
    {
     "name": "stdout",
     "output_type": "stream",
     "text": [
      "Training | ModelType: ModelType.SVR | Datasetname: orange_std_col_name_ohv_type | ScalerType: ScalerType.Raw_ | Params: {'kernel': 'linear', 'degree': 3, 'gamma': 'scale', 'coef0': 0, 'tol': 0.001, 'C': 0.8, 'epsilon': 0.1}\n",
      "R2: 0.29618800718060867 | MSE: 1.2908134001474094\n"
     ]
    },
    {
     "name": "stderr",
     "output_type": "stream",
     "text": [
      "100%|████████████████████████████████████████████████████████████████████████████████| 81/81 [00:00<00:00, 1125.37it/s]\n"
     ]
    },
    {
     "name": "stdout",
     "output_type": "stream",
     "text": [
      "Training | ModelType: ModelType.SVR | Datasetname: orange_std_col_name_ohv_type | ScalerType: ScalerType.MaxAbsScaler_ | Params: {'kernel': 'linear', 'degree': 3, 'gamma': 'scale', 'coef0': 0, 'tol': 0.001, 'C': 0.8, 'epsilon': 0.1}\n",
      "R2: 0.2877149186319652 | MSE: 1.3063533118721466\n"
     ]
    },
    {
     "name": "stderr",
     "output_type": "stream",
     "text": [
      "100%|████████████████████████████████████████████████████████████████████████████████| 81/81 [00:00<00:00, 1076.99it/s]\n"
     ]
    },
    {
     "name": "stdout",
     "output_type": "stream",
     "text": [
      "Training | ModelType: ModelType.SVR | Datasetname: orange_std_col_name_ohv_type | ScalerType: ScalerType.MinMaxScaler_ | Params: {'kernel': 'linear', 'degree': 3, 'gamma': 'scale', 'coef0': 0, 'tol': 0.001, 'C': 0.8, 'epsilon': 0.1}\n",
      "R2: 0.2793361075860411 | MSE: 1.3217203156824344\n"
     ]
    },
    {
     "name": "stderr",
     "output_type": "stream",
     "text": [
      "100%|█████████████████████████████████████████████████████████████████████████████████| 81/81 [00:00<00:00, 925.60it/s]\n"
     ]
    },
    {
     "name": "stdout",
     "output_type": "stream",
     "text": [
      "Training | ModelType: ModelType.SVR | Datasetname: orange_std_col_name_ohv_type | ScalerType: ScalerType.Normalizer_ | Params: {'kernel': 'linear', 'degree': 3, 'gamma': 'scale', 'coef0': 0, 'tol': 0.001, 'C': 0.8, 'epsilon': 0.1}\n",
      "R2: 0.3037256701304579 | MSE: 1.2769890884836028\n"
     ]
    },
    {
     "name": "stderr",
     "output_type": "stream",
     "text": [
      "100%|█████████████████████████████████████████████████████████████████████████████████| 81/81 [00:00<00:00, 499.06it/s]\n"
     ]
    },
    {
     "name": "stdout",
     "output_type": "stream",
     "text": [
      "Training | ModelType: ModelType.SVR | Datasetname: orange_std_col_name_ohv_type | ScalerType: ScalerType.RobustScaler_ | Params: {'kernel': 'linear', 'degree': 3, 'gamma': 'scale', 'coef0': 0, 'tol': 0.001, 'C': 0.8, 'epsilon': 0.1}\n",
      "R2: 0.2948538770115793 | MSE: 1.2932602369693078\n"
     ]
    },
    {
     "name": "stderr",
     "output_type": "stream",
     "text": [
      "100%|█████████████████████████████████████████████████████████████████████████████████| 81/81 [00:00<00:00, 698.98it/s]\n"
     ]
    },
    {
     "name": "stdout",
     "output_type": "stream",
     "text": [
      "Training | ModelType: ModelType.SVR | Datasetname: orange_std_col_name_ohv_type | ScalerType: ScalerType.StandardScaler_ | Params: {'kernel': 'linear', 'degree': 3, 'gamma': 'scale', 'coef0': 0, 'tol': 0.001, 'C': 0.8, 'epsilon': 0.1}\n",
      "R2: 0.3045468192495431 | MSE: 1.2754830750918895\n"
     ]
    },
    {
     "name": "stderr",
     "output_type": "stream",
     "text": [
      "100%|████████████████████████████████████████████████████████████████████████████████| 81/81 [00:00<00:00, 1143.90it/s]\n"
     ]
    },
    {
     "name": "stdout",
     "output_type": "stream",
     "text": [
      "Training | ModelType: ModelType.SVR | Datasetname: orange_std_col_name_ohv_type | ScalerType: ScalerType.Raw_ | Params: {'kernel': 'poly', 'degree': 3, 'gamma': 'scale', 'coef0': 0, 'tol': 0.001, 'C': 0.8, 'epsilon': 0.1}\n",
      "R2: 0.23340159685418504 | MSE: 1.4059656576016226\n"
     ]
    },
    {
     "name": "stderr",
     "output_type": "stream",
     "text": [
      "100%|█████████████████████████████████████████████████████████████████████████████████| 81/81 [00:00<00:00, 892.46it/s]\n"
     ]
    },
    {
     "name": "stdout",
     "output_type": "stream",
     "text": [
      "Training | ModelType: ModelType.SVR | Datasetname: orange_std_col_name_ohv_type | ScalerType: ScalerType.MaxAbsScaler_ | Params: {'kernel': 'poly', 'degree': 3, 'gamma': 'scale', 'coef0': 0, 'tol': 0.001, 'C': 0.8, 'epsilon': 0.1}\n",
      "R2: 0.3144441201196386 | MSE: 1.2573311130356133\n"
     ]
    },
    {
     "name": "stderr",
     "output_type": "stream",
     "text": [
      "100%|█████████████████████████████████████████████████████████████████████████████████| 81/81 [00:00<00:00, 828.20it/s]\n"
     ]
    },
    {
     "name": "stdout",
     "output_type": "stream",
     "text": [
      "Training | ModelType: ModelType.SVR | Datasetname: orange_std_col_name_ohv_type | ScalerType: ScalerType.MinMaxScaler_ | Params: {'kernel': 'poly', 'degree': 3, 'gamma': 'scale', 'coef0': 0, 'tol': 0.001, 'C': 0.8, 'epsilon': 0.1}\n",
      "R2: 0.2649767013617339 | MSE: 1.348055919738065\n"
     ]
    },
    {
     "name": "stderr",
     "output_type": "stream",
     "text": [
      "100%|█████████████████████████████████████████████████████████████████████████████████| 81/81 [00:00<00:00, 956.15it/s]\n"
     ]
    },
    {
     "name": "stdout",
     "output_type": "stream",
     "text": [
      "Training | ModelType: ModelType.SVR | Datasetname: orange_std_col_name_ohv_type | ScalerType: ScalerType.Normalizer_ | Params: {'kernel': 'poly', 'degree': 3, 'gamma': 'scale', 'coef0': 0, 'tol': 0.001, 'C': 0.8, 'epsilon': 0.1}\n",
      "R2: 0.30905537455258214 | MSE: 1.267214242420887\n"
     ]
    },
    {
     "name": "stderr",
     "output_type": "stream",
     "text": [
      "100%|█████████████████████████████████████████████████████████████████████████████████| 81/81 [00:00<00:00, 502.36it/s]\n"
     ]
    },
    {
     "name": "stdout",
     "output_type": "stream",
     "text": [
      "Training | ModelType: ModelType.SVR | Datasetname: orange_std_col_name_ohv_type | ScalerType: ScalerType.RobustScaler_ | Params: {'kernel': 'poly', 'degree': 3, 'gamma': 'scale', 'coef0': 0, 'tol': 0.001, 'C': 0.8, 'epsilon': 0.1}\n",
      "R2: 0.19469907096771744 | MSE: 1.4769473111447504\n"
     ]
    },
    {
     "name": "stderr",
     "output_type": "stream",
     "text": [
      "100%|█████████████████████████████████████████████████████████████████████████████████| 81/81 [00:00<00:00, 729.66it/s]\n"
     ]
    },
    {
     "name": "stdout",
     "output_type": "stream",
     "text": [
      "Training | ModelType: ModelType.SVR | Datasetname: orange_std_col_name_ohv_type | ScalerType: ScalerType.StandardScaler_ | Params: {'kernel': 'poly', 'degree': 3, 'gamma': 'scale', 'coef0': 0, 'tol': 0.001, 'C': 0.8, 'epsilon': 0.1}\n",
      "R2: 0.1592265428880386 | MSE: 1.542005046803575\n"
     ]
    },
    {
     "name": "stderr",
     "output_type": "stream",
     "text": [
      "100%|████████████████████████████████████████████████████████████████████████████████| 81/81 [00:00<00:00, 1164.76it/s]\n"
     ]
    },
    {
     "name": "stdout",
     "output_type": "stream",
     "text": [
      "Training | ModelType: ModelType.SVR | Datasetname: orange_std_col_name_ohv_type | ScalerType: ScalerType.Raw_ | Params: {'kernel': 'poly', 'degree': 3, 'gamma': 'scale', 'coef0': 0, 'tol': 0.001, 'C': 0.9, 'epsilon': 0.1}\n",
      "R2: 0.23912568052092065 | MSE: 1.3954675075615972\n"
     ]
    },
    {
     "name": "stderr",
     "output_type": "stream",
     "text": [
      "100%|█████████████████████████████████████████████████████████████████████████████████| 81/81 [00:00<00:00, 747.73it/s]\n"
     ]
    },
    {
     "name": "stdout",
     "output_type": "stream",
     "text": [
      "Training | ModelType: ModelType.SVR | Datasetname: orange_std_col_name_ohv_type | ScalerType: ScalerType.MaxAbsScaler_ | Params: {'kernel': 'poly', 'degree': 3, 'gamma': 'scale', 'coef0': 0, 'tol': 0.001, 'C': 0.9, 'epsilon': 0.1}\n",
      "R2: 0.31234880779597685 | MSE: 1.2611739819444565\n"
     ]
    },
    {
     "name": "stderr",
     "output_type": "stream",
     "text": [
      "100%|█████████████████████████████████████████████████████████████████████████████████| 81/81 [00:00<00:00, 834.28it/s]\n"
     ]
    },
    {
     "name": "stdout",
     "output_type": "stream",
     "text": [
      "Training | ModelType: ModelType.SVR | Datasetname: orange_std_col_name_ohv_type | ScalerType: ScalerType.MinMaxScaler_ | Params: {'kernel': 'poly', 'degree': 3, 'gamma': 'scale', 'coef0': 0, 'tol': 0.001, 'C': 0.9, 'epsilon': 0.1}\n",
      "R2: 0.2591591949097236 | MSE: 1.3587254101137793\n"
     ]
    },
    {
     "name": "stderr",
     "output_type": "stream",
     "text": [
      "100%|█████████████████████████████████████████████████████████████████████████████████| 81/81 [00:00<00:00, 925.68it/s]\n"
     ]
    },
    {
     "name": "stdout",
     "output_type": "stream",
     "text": [
      "Training | ModelType: ModelType.SVR | Datasetname: orange_std_col_name_ohv_type | ScalerType: ScalerType.Normalizer_ | Params: {'kernel': 'poly', 'degree': 3, 'gamma': 'scale', 'coef0': 0, 'tol': 0.001, 'C': 0.9, 'epsilon': 0.1}\n",
      "R2: 0.3043340668999417 | MSE: 1.2758732696134099\n"
     ]
    },
    {
     "name": "stderr",
     "output_type": "stream",
     "text": [
      "100%|█████████████████████████████████████████████████████████████████████████████████| 81/81 [00:00<00:00, 504.36it/s]\n"
     ]
    },
    {
     "name": "stdout",
     "output_type": "stream",
     "text": [
      "Training | ModelType: ModelType.SVR | Datasetname: orange_std_col_name_ohv_type | ScalerType: ScalerType.RobustScaler_ | Params: {'kernel': 'poly', 'degree': 3, 'gamma': 'scale', 'coef0': 0, 'tol': 0.001, 'C': 0.9, 'epsilon': 0.1}\n",
      "R2: 0.18877408881755953 | MSE: 1.4878139153417334\n"
     ]
    },
    {
     "name": "stderr",
     "output_type": "stream",
     "text": [
      "100%|█████████████████████████████████████████████████████████████████████████████████| 81/81 [00:00<00:00, 776.25it/s]\n"
     ]
    },
    {
     "name": "stdout",
     "output_type": "stream",
     "text": [
      "Training | ModelType: ModelType.SVR | Datasetname: orange_std_col_name_ohv_type | ScalerType: ScalerType.StandardScaler_ | Params: {'kernel': 'poly', 'degree': 3, 'gamma': 'scale', 'coef0': 0, 'tol': 0.001, 'C': 0.9, 'epsilon': 0.1}\n",
      "R2: 0.16429425769032713 | MSE: 1.5327106979694285\n"
     ]
    },
    {
     "name": "stderr",
     "output_type": "stream",
     "text": [
      "100%|████████████████████████████████████████████████████████████████████████████████| 81/81 [00:00<00:00, 1211.85it/s]\n"
     ]
    },
    {
     "name": "stdout",
     "output_type": "stream",
     "text": [
      "Training | ModelType: ModelType.SVR | Datasetname: orange_std_col_name_ohv_type | ScalerType: ScalerType.Raw_ | Params: {'kernel': 'rbf', 'degree': 3, 'gamma': 'scale', 'coef0': 0, 'tol': 0.001, 'C': 0.9, 'epsilon': 0.1}\n",
      "R2: 0.20107669892916125 | MSE: 1.465250540248863\n"
     ]
    },
    {
     "name": "stderr",
     "output_type": "stream",
     "text": [
      "100%|█████████████████████████████████████████████████████████████████████████████████| 81/81 [00:00<00:00, 858.24it/s]\n"
     ]
    },
    {
     "name": "stdout",
     "output_type": "stream",
     "text": [
      "Training | ModelType: ModelType.SVR | Datasetname: orange_std_col_name_ohv_type | ScalerType: ScalerType.MaxAbsScaler_ | Params: {'kernel': 'rbf', 'degree': 3, 'gamma': 'scale', 'coef0': 0, 'tol': 0.001, 'C': 0.9, 'epsilon': 0.1}\n",
      "R2: 0.29259467617844614 | MSE: 1.297403682575215\n"
     ]
    },
    {
     "name": "stderr",
     "output_type": "stream",
     "text": [
      "100%|████████████████████████████████████████████████████████████████████████████████| 81/81 [00:00<00:00, 1015.72it/s]\n"
     ]
    },
    {
     "name": "stdout",
     "output_type": "stream",
     "text": [
      "Training | ModelType: ModelType.SVR | Datasetname: orange_std_col_name_ohv_type | ScalerType: ScalerType.MinMaxScaler_ | Params: {'kernel': 'rbf', 'degree': 3, 'gamma': 'scale', 'coef0': 0, 'tol': 0.001, 'C': 0.9, 'epsilon': 0.1}\n",
      "R2: 0.2895537743258877 | MSE: 1.3029807925134693\n"
     ]
    },
    {
     "name": "stderr",
     "output_type": "stream",
     "text": [
      "100%|█████████████████████████████████████████████████████████████████████████████████| 81/81 [00:00<00:00, 856.85it/s]\n"
     ]
    },
    {
     "name": "stdout",
     "output_type": "stream",
     "text": [
      "Training | ModelType: ModelType.SVR | Datasetname: orange_std_col_name_ohv_type | ScalerType: ScalerType.Normalizer_ | Params: {'kernel': 'rbf', 'degree': 3, 'gamma': 'scale', 'coef0': 0, 'tol': 0.001, 'C': 0.9, 'epsilon': 0.1}\n",
      "R2: 0.2919769960049261 | MSE: 1.2985365275013028\n"
     ]
    },
    {
     "name": "stderr",
     "output_type": "stream",
     "text": [
      "100%|█████████████████████████████████████████████████████████████████████████████████| 81/81 [00:00<00:00, 581.90it/s]\n"
     ]
    },
    {
     "name": "stdout",
     "output_type": "stream",
     "text": [
      "Training | ModelType: ModelType.SVR | Datasetname: orange_std_col_name_ohv_type | ScalerType: ScalerType.RobustScaler_ | Params: {'kernel': 'rbf', 'degree': 3, 'gamma': 'scale', 'coef0': 0, 'tol': 0.001, 'C': 0.9, 'epsilon': 0.1}\n",
      "R2: 0.27786296035602387 | MSE: 1.3244221141801822\n"
     ]
    },
    {
     "name": "stderr",
     "output_type": "stream",
     "text": [
      "100%|█████████████████████████████████████████████████████████████████████████████████| 81/81 [00:00<00:00, 828.42it/s]\n"
     ]
    },
    {
     "name": "stdout",
     "output_type": "stream",
     "text": [
      "Training | ModelType: ModelType.SVR | Datasetname: orange_std_col_name_ohv_type | ScalerType: ScalerType.StandardScaler_ | Params: {'kernel': 'rbf', 'degree': 3, 'gamma': 'scale', 'coef0': 0, 'tol': 0.001, 'C': 0.9, 'epsilon': 0.1}\n",
      "R2: 0.27469562579203544 | MSE: 1.3302311057001597\n"
     ]
    },
    {
     "name": "stderr",
     "output_type": "stream",
     "text": [
      "100%|████████████████████████████████████████████████████████████████████████████████| 81/81 [00:00<00:00, 1287.88it/s]\n"
     ]
    },
    {
     "name": "stdout",
     "output_type": "stream",
     "text": [
      "Training | ModelType: ModelType.SVR | Datasetname: orange_std_col_name_ohv_type | ScalerType: ScalerType.Raw_ | Params: {'kernel': 'rbf', 'degree': 3, 'gamma': 'scale', 'coef0': 0, 'tol': 0.001, 'C': 0.9, 'epsilon': 0.1}\n",
      "R2: 0.20107669892916125 | MSE: 1.465250540248863\n"
     ]
    },
    {
     "name": "stderr",
     "output_type": "stream",
     "text": [
      "100%|█████████████████████████████████████████████████████████████████████████████████| 81/81 [00:00<00:00, 932.60it/s]\n"
     ]
    },
    {
     "name": "stdout",
     "output_type": "stream",
     "text": [
      "Training | ModelType: ModelType.SVR | Datasetname: orange_std_col_name_ohv_type | ScalerType: ScalerType.MaxAbsScaler_ | Params: {'kernel': 'rbf', 'degree': 3, 'gamma': 'scale', 'coef0': 0, 'tol': 0.001, 'C': 0.9, 'epsilon': 0.1}\n",
      "R2: 0.29259467617844614 | MSE: 1.297403682575215\n"
     ]
    },
    {
     "name": "stderr",
     "output_type": "stream",
     "text": [
      "100%|████████████████████████████████████████████████████████████████████████████████| 81/81 [00:00<00:00, 1015.82it/s]\n"
     ]
    },
    {
     "name": "stdout",
     "output_type": "stream",
     "text": [
      "Training | ModelType: ModelType.SVR | Datasetname: orange_std_col_name_ohv_type | ScalerType: ScalerType.MinMaxScaler_ | Params: {'kernel': 'rbf', 'degree': 3, 'gamma': 'scale', 'coef0': 0, 'tol': 0.001, 'C': 0.9, 'epsilon': 0.1}\n",
      "R2: 0.2895537743258877 | MSE: 1.3029807925134693\n"
     ]
    },
    {
     "name": "stderr",
     "output_type": "stream",
     "text": [
      "100%|█████████████████████████████████████████████████████████████████████████████████| 81/81 [00:00<00:00, 883.44it/s]\n"
     ]
    },
    {
     "name": "stdout",
     "output_type": "stream",
     "text": [
      "Training | ModelType: ModelType.SVR | Datasetname: orange_std_col_name_ohv_type | ScalerType: ScalerType.Normalizer_ | Params: {'kernel': 'rbf', 'degree': 3, 'gamma': 'scale', 'coef0': 0, 'tol': 0.001, 'C': 0.9, 'epsilon': 0.1}\n",
      "R2: 0.2919769960049261 | MSE: 1.2985365275013028\n"
     ]
    },
    {
     "name": "stderr",
     "output_type": "stream",
     "text": [
      "100%|█████████████████████████████████████████████████████████████████████████████████| 81/81 [00:00<00:00, 505.18it/s]\n"
     ]
    },
    {
     "name": "stdout",
     "output_type": "stream",
     "text": [
      "Training | ModelType: ModelType.SVR | Datasetname: orange_std_col_name_ohv_type | ScalerType: ScalerType.RobustScaler_ | Params: {'kernel': 'rbf', 'degree': 3, 'gamma': 'scale', 'coef0': 0, 'tol': 0.001, 'C': 0.9, 'epsilon': 0.1}\n",
      "R2: 0.27786296035602387 | MSE: 1.3244221141801822\n"
     ]
    },
    {
     "name": "stderr",
     "output_type": "stream",
     "text": [
      "100%|█████████████████████████████████████████████████████████████████████████████████| 81/81 [00:00<00:00, 833.28it/s]\n"
     ]
    },
    {
     "name": "stdout",
     "output_type": "stream",
     "text": [
      "Training | ModelType: ModelType.SVR | Datasetname: orange_std_col_name_ohv_type | ScalerType: ScalerType.StandardScaler_ | Params: {'kernel': 'rbf', 'degree': 3, 'gamma': 'scale', 'coef0': 0, 'tol': 0.001, 'C': 0.9, 'epsilon': 0.1}\n",
      "R2: 0.27469562579203544 | MSE: 1.3302311057001597\n"
     ]
    },
    {
     "name": "stderr",
     "output_type": "stream",
     "text": [
      "100%|██████████████████████████████████████████████████████████████████████████████████| 81/81 [00:07<00:00, 11.51it/s]\n"
     ]
    },
    {
     "name": "stdout",
     "output_type": "stream",
     "text": [
      "Training | ModelType: ModelType.SVR | Datasetname: orange_std_col_name_ohv_type | ScalerType: ScalerType.Raw_ | Params: {'kernel': 'linear', 'degree': 3, 'gamma': 'scale', 'coef0': 0, 'tol': 0.001, 'C': 0.9, 'epsilon': 0.1}\n",
      "R2: 0.3000602973913461 | MSE: 1.2837114977298953\n"
     ]
    },
    {
     "name": "stderr",
     "output_type": "stream",
     "text": [
      "100%|████████████████████████████████████████████████████████████████████████████████| 81/81 [00:00<00:00, 1014.33it/s]\n"
     ]
    },
    {
     "name": "stdout",
     "output_type": "stream",
     "text": [
      "Training | ModelType: ModelType.SVR | Datasetname: orange_std_col_name_ohv_type | ScalerType: ScalerType.MaxAbsScaler_ | Params: {'kernel': 'linear', 'degree': 3, 'gamma': 'scale', 'coef0': 0, 'tol': 0.001, 'C': 0.9, 'epsilon': 0.1}\n",
      "R2: 0.2824443056827588 | MSE: 1.316019782309191\n"
     ]
    },
    {
     "name": "stderr",
     "output_type": "stream",
     "text": [
      "100%|█████████████████████████████████████████████████████████████████████████████████| 81/81 [00:00<00:00, 931.89it/s]\n"
     ]
    },
    {
     "name": "stdout",
     "output_type": "stream",
     "text": [
      "Training | ModelType: ModelType.SVR | Datasetname: orange_std_col_name_ohv_type | ScalerType: ScalerType.MinMaxScaler_ | Params: {'kernel': 'linear', 'degree': 3, 'gamma': 'scale', 'coef0': 0, 'tol': 0.001, 'C': 0.9, 'epsilon': 0.1}\n",
      "R2: 0.2776579166742461 | MSE: 1.3247981707617047\n"
     ]
    },
    {
     "name": "stderr",
     "output_type": "stream",
     "text": [
      "100%|█████████████████████████████████████████████████████████████████████████████████| 81/81 [00:00<00:00, 918.93it/s]\n"
     ]
    },
    {
     "name": "stdout",
     "output_type": "stream",
     "text": [
      "Training | ModelType: ModelType.SVR | Datasetname: orange_std_col_name_ohv_type | ScalerType: ScalerType.Normalizer_ | Params: {'kernel': 'linear', 'degree': 3, 'gamma': 'scale', 'coef0': 0, 'tol': 0.001, 'C': 0.9, 'epsilon': 0.1}\n",
      "R2: 0.3033968658156959 | MSE: 1.2775921259706753\n"
     ]
    },
    {
     "name": "stderr",
     "output_type": "stream",
     "text": [
      "100%|█████████████████████████████████████████████████████████████████████████████████| 81/81 [00:00<00:00, 533.65it/s]\n"
     ]
    },
    {
     "name": "stdout",
     "output_type": "stream",
     "text": [
      "Training | ModelType: ModelType.SVR | Datasetname: orange_std_col_name_ohv_type | ScalerType: ScalerType.RobustScaler_ | Params: {'kernel': 'linear', 'degree': 3, 'gamma': 'scale', 'coef0': 0, 'tol': 0.001, 'C': 0.9, 'epsilon': 0.1}\n",
      "R2: 0.3001656211935404 | MSE: 1.283518330553698\n"
     ]
    },
    {
     "name": "stderr",
     "output_type": "stream",
     "text": [
      "100%|█████████████████████████████████████████████████████████████████████████████████| 81/81 [00:00<00:00, 732.26it/s]\n"
     ]
    },
    {
     "name": "stdout",
     "output_type": "stream",
     "text": [
      "Training | ModelType: ModelType.SVR | Datasetname: orange_std_col_name_ohv_type | ScalerType: ScalerType.StandardScaler_ | Params: {'kernel': 'linear', 'degree': 3, 'gamma': 'scale', 'coef0': 0, 'tol': 0.001, 'C': 0.9, 'epsilon': 0.1}\n",
      "R2: 0.30490389629460857 | MSE: 1.2748281845254343\n"
     ]
    },
    {
     "name": "stderr",
     "output_type": "stream",
     "text": [
      "100%|██████████████████████████████████████████████████████████████████████████████████| 81/81 [00:07<00:00, 11.52it/s]\n"
     ]
    },
    {
     "name": "stdout",
     "output_type": "stream",
     "text": [
      "Training | ModelType: ModelType.SVR | Datasetname: orange_std_col_name_ohv_type | ScalerType: ScalerType.Raw_ | Params: {'kernel': 'linear', 'degree': 3, 'gamma': 'scale', 'coef0': 0, 'tol': 0.001, 'C': 0.9, 'epsilon': 0.1}\n",
      "R2: 0.3000602973913461 | MSE: 1.2837114977298953\n"
     ]
    },
    {
     "name": "stderr",
     "output_type": "stream",
     "text": [
      "100%|█████████████████████████████████████████████████████████████████████████████████| 81/81 [00:00<00:00, 957.71it/s]\n"
     ]
    },
    {
     "name": "stdout",
     "output_type": "stream",
     "text": [
      "Training | ModelType: ModelType.SVR | Datasetname: orange_std_col_name_ohv_type | ScalerType: ScalerType.MaxAbsScaler_ | Params: {'kernel': 'linear', 'degree': 3, 'gamma': 'scale', 'coef0': 0, 'tol': 0.001, 'C': 0.9, 'epsilon': 0.1}\n",
      "R2: 0.2824443056827588 | MSE: 1.316019782309191\n"
     ]
    },
    {
     "name": "stderr",
     "output_type": "stream",
     "text": [
      "100%|█████████████████████████████████████████████████████████████████████████████████| 81/81 [00:00<00:00, 932.53it/s]\n"
     ]
    },
    {
     "name": "stdout",
     "output_type": "stream",
     "text": [
      "Training | ModelType: ModelType.SVR | Datasetname: orange_std_col_name_ohv_type | ScalerType: ScalerType.MinMaxScaler_ | Params: {'kernel': 'linear', 'degree': 3, 'gamma': 'scale', 'coef0': 0, 'tol': 0.001, 'C': 0.9, 'epsilon': 0.1}\n",
      "R2: 0.2776579166742461 | MSE: 1.3247981707617047\n"
     ]
    },
    {
     "name": "stderr",
     "output_type": "stream",
     "text": [
      "100%|█████████████████████████████████████████████████████████████████████████████████| 81/81 [00:00<00:00, 879.75it/s]\n"
     ]
    },
    {
     "name": "stdout",
     "output_type": "stream",
     "text": [
      "Training | ModelType: ModelType.SVR | Datasetname: orange_std_col_name_ohv_type | ScalerType: ScalerType.Normalizer_ | Params: {'kernel': 'linear', 'degree': 3, 'gamma': 'scale', 'coef0': 0, 'tol': 0.001, 'C': 0.9, 'epsilon': 0.1}\n",
      "R2: 0.3033968658156959 | MSE: 1.2775921259706753\n"
     ]
    },
    {
     "name": "stderr",
     "output_type": "stream",
     "text": [
      "100%|█████████████████████████████████████████████████████████████████████████████████| 81/81 [00:00<00:00, 488.63it/s]\n"
     ]
    },
    {
     "name": "stdout",
     "output_type": "stream",
     "text": [
      "Training | ModelType: ModelType.SVR | Datasetname: orange_std_col_name_ohv_type | ScalerType: ScalerType.RobustScaler_ | Params: {'kernel': 'linear', 'degree': 3, 'gamma': 'scale', 'coef0': 0, 'tol': 0.001, 'C': 0.9, 'epsilon': 0.1}\n",
      "R2: 0.3001656211935404 | MSE: 1.283518330553698\n"
     ]
    },
    {
     "name": "stderr",
     "output_type": "stream",
     "text": [
      "100%|█████████████████████████████████████████████████████████████████████████████████| 81/81 [00:00<00:00, 705.03it/s]\n"
     ]
    },
    {
     "name": "stdout",
     "output_type": "stream",
     "text": [
      "Training | ModelType: ModelType.SVR | Datasetname: orange_std_col_name_ohv_type | ScalerType: ScalerType.StandardScaler_ | Params: {'kernel': 'linear', 'degree': 3, 'gamma': 'scale', 'coef0': 0, 'tol': 0.001, 'C': 0.9, 'epsilon': 0.1}\n",
      "R2: 0.30490389629460857 | MSE: 1.2748281845254343\n"
     ]
    },
    {
     "name": "stderr",
     "output_type": "stream",
     "text": [
      "100%|████████████████████████████████████████████████████████████████████████████████| 81/81 [00:00<00:00, 1078.22it/s]\n"
     ]
    },
    {
     "name": "stdout",
     "output_type": "stream",
     "text": [
      "Training | ModelType: ModelType.SVR | Datasetname: orange_std_col_name_ohv_type | ScalerType: ScalerType.Raw_ | Params: {'kernel': 'poly', 'degree': 3, 'gamma': 'scale', 'coef0': 0, 'tol': 0.001, 'C': 0.9, 'epsilon': 0.1}\n",
      "R2: 0.23912568052092065 | MSE: 1.3954675075615972\n"
     ]
    },
    {
     "name": "stderr",
     "output_type": "stream",
     "text": [
      "100%|█████████████████████████████████████████████████████████████████████████████████| 81/81 [00:00<00:00, 916.79it/s]\n"
     ]
    },
    {
     "name": "stdout",
     "output_type": "stream",
     "text": [
      "Training | ModelType: ModelType.SVR | Datasetname: orange_std_col_name_ohv_type | ScalerType: ScalerType.MaxAbsScaler_ | Params: {'kernel': 'poly', 'degree': 3, 'gamma': 'scale', 'coef0': 0, 'tol': 0.001, 'C': 0.9, 'epsilon': 0.1}\n",
      "R2: 0.31234880779597685 | MSE: 1.2611739819444565\n"
     ]
    },
    {
     "name": "stderr",
     "output_type": "stream",
     "text": [
      "100%|█████████████████████████████████████████████████████████████████████████████████| 81/81 [00:00<00:00, 723.41it/s]\n"
     ]
    },
    {
     "name": "stdout",
     "output_type": "stream",
     "text": [
      "Training | ModelType: ModelType.SVR | Datasetname: orange_std_col_name_ohv_type | ScalerType: ScalerType.MinMaxScaler_ | Params: {'kernel': 'poly', 'degree': 3, 'gamma': 'scale', 'coef0': 0, 'tol': 0.001, 'C': 0.9, 'epsilon': 0.1}\n",
      "R2: 0.2591591949097236 | MSE: 1.3587254101137793\n"
     ]
    },
    {
     "name": "stderr",
     "output_type": "stream",
     "text": [
      "100%|█████████████████████████████████████████████████████████████████████████████████| 81/81 [00:00<00:00, 755.66it/s]\n"
     ]
    },
    {
     "name": "stdout",
     "output_type": "stream",
     "text": [
      "Training | ModelType: ModelType.SVR | Datasetname: orange_std_col_name_ohv_type | ScalerType: ScalerType.Normalizer_ | Params: {'kernel': 'poly', 'degree': 3, 'gamma': 'scale', 'coef0': 0, 'tol': 0.001, 'C': 0.9, 'epsilon': 0.1}\n",
      "R2: 0.3043340668999417 | MSE: 1.2758732696134099\n"
     ]
    },
    {
     "name": "stderr",
     "output_type": "stream",
     "text": [
      "100%|█████████████████████████████████████████████████████████████████████████████████| 81/81 [00:00<00:00, 505.39it/s]\n"
     ]
    },
    {
     "name": "stdout",
     "output_type": "stream",
     "text": [
      "Training | ModelType: ModelType.SVR | Datasetname: orange_std_col_name_ohv_type | ScalerType: ScalerType.RobustScaler_ | Params: {'kernel': 'poly', 'degree': 3, 'gamma': 'scale', 'coef0': 0, 'tol': 0.001, 'C': 0.9, 'epsilon': 0.1}\n",
      "R2: 0.18877408881755953 | MSE: 1.4878139153417334\n"
     ]
    },
    {
     "name": "stderr",
     "output_type": "stream",
     "text": [
      "100%|█████████████████████████████████████████████████████████████████████████████████| 81/81 [00:00<00:00, 733.97it/s]\n"
     ]
    },
    {
     "name": "stdout",
     "output_type": "stream",
     "text": [
      "Training | ModelType: ModelType.SVR | Datasetname: orange_std_col_name_ohv_type | ScalerType: ScalerType.StandardScaler_ | Params: {'kernel': 'poly', 'degree': 3, 'gamma': 'scale', 'coef0': 0, 'tol': 0.001, 'C': 0.9, 'epsilon': 0.1}\n",
      "R2: 0.16429425769032713 | MSE: 1.5327106979694285\n"
     ]
    },
    {
     "name": "stderr",
     "output_type": "stream",
     "text": [
      "100%|████████████████████████████████████████████████████████████████████████████████| 81/81 [00:00<00:00, 1108.96it/s]\n"
     ]
    },
    {
     "name": "stdout",
     "output_type": "stream",
     "text": [
      "Training | ModelType: ModelType.SVR | Datasetname: orange_std_col_name_ohv_type | ScalerType: ScalerType.Raw_ | Params: {'kernel': 'poly', 'degree': 3, 'gamma': 'scale', 'coef0': 0, 'tol': 0.001, 'C': 1.0, 'epsilon': 0.1}\n",
      "R2: 0.24561390705396657 | MSE: 1.383567895395999\n"
     ]
    },
    {
     "name": "stderr",
     "output_type": "stream",
     "text": [
      "100%|█████████████████████████████████████████████████████████████████████████████████| 81/81 [00:00<00:00, 970.22it/s]"
     ]
    },
    {
     "name": "stdout",
     "output_type": "stream",
     "text": [
      "Training | ModelType: ModelType.SVR | Datasetname: orange_std_col_name_ohv_type | ScalerType: ScalerType.MaxAbsScaler_ | Params: {'kernel': 'poly', 'degree': 3, 'gamma': 'scale', 'coef0': 0, 'tol': 0.001, 'C': 1.0, 'epsilon': 0.1}\n",
      "R2: 0.3100949176660296 | MSE: 1.265307687553168\n"
     ]
    },
    {
     "name": "stderr",
     "output_type": "stream",
     "text": [
      "\n",
      "100%|█████████████████████████████████████████████████████████████████████████████████| 81/81 [00:00<00:00, 864.22it/s]\n"
     ]
    },
    {
     "name": "stdout",
     "output_type": "stream",
     "text": [
      "Training | ModelType: ModelType.SVR | Datasetname: orange_std_col_name_ohv_type | ScalerType: ScalerType.MinMaxScaler_ | Params: {'kernel': 'poly', 'degree': 3, 'gamma': 'scale', 'coef0': 0, 'tol': 0.001, 'C': 1.0, 'epsilon': 0.1}\n",
      "R2: 0.254268834400766 | MSE: 1.3676944855784172\n"
     ]
    },
    {
     "name": "stderr",
     "output_type": "stream",
     "text": [
      "100%|█████████████████████████████████████████████████████████████████████████████████| 81/81 [00:00<00:00, 947.88it/s]\n"
     ]
    },
    {
     "name": "stdout",
     "output_type": "stream",
     "text": [
      "Training | ModelType: ModelType.SVR | Datasetname: orange_std_col_name_ohv_type | ScalerType: ScalerType.Normalizer_ | Params: {'kernel': 'poly', 'degree': 3, 'gamma': 'scale', 'coef0': 0, 'tol': 0.001, 'C': 1.0, 'epsilon': 0.1}\n",
      "R2: 0.3005206338789217 | MSE: 1.282867226088034\n"
     ]
    },
    {
     "name": "stderr",
     "output_type": "stream",
     "text": [
      "100%|█████████████████████████████████████████████████████████████████████████████████| 81/81 [00:00<00:00, 548.23it/s]\n"
     ]
    },
    {
     "name": "stdout",
     "output_type": "stream",
     "text": [
      "Training | ModelType: ModelType.SVR | Datasetname: orange_std_col_name_ohv_type | ScalerType: ScalerType.RobustScaler_ | Params: {'kernel': 'poly', 'degree': 3, 'gamma': 'scale', 'coef0': 0, 'tol': 0.001, 'C': 1.0, 'epsilon': 0.1}\n",
      "R2: 0.18944069136424713 | MSE: 1.4865913452397521\n"
     ]
    },
    {
     "name": "stderr",
     "output_type": "stream",
     "text": [
      "100%|█████████████████████████████████████████████████████████████████████████████████| 81/81 [00:00<00:00, 724.69it/s]\n"
     ]
    },
    {
     "name": "stdout",
     "output_type": "stream",
     "text": [
      "Training | ModelType: ModelType.SVR | Datasetname: orange_std_col_name_ohv_type | ScalerType: ScalerType.StandardScaler_ | Params: {'kernel': 'poly', 'degree': 3, 'gamma': 'scale', 'coef0': 0, 'tol': 0.001, 'C': 1.0, 'epsilon': 0.1}\n",
      "R2: 0.17807392605168137 | MSE: 1.5074383514452228\n"
     ]
    },
    {
     "name": "stderr",
     "output_type": "stream",
     "text": [
      "100%|████████████████████████████████████████████████████████████████████████████████| 81/81 [00:00<00:00, 1626.66it/s]\n"
     ]
    },
    {
     "name": "stdout",
     "output_type": "stream",
     "text": [
      "Training | ModelType: ModelType.SVR | Datasetname: orange_std_col_name_ohv_type | ScalerType: ScalerType.Raw_ | Params: {'kernel': 'rbf', 'degree': 3, 'gamma': 'scale', 'coef0': 0, 'tol': 0.001, 'C': 1.0, 'epsilon': 0.1}\n",
      "R2: 0.2068601848948719 | MSE: 1.4546434445183707\n"
     ]
    },
    {
     "name": "stderr",
     "output_type": "stream",
     "text": [
      "100%|█████████████████████████████████████████████████████████████████████████████████| 81/81 [00:00<00:00, 950.12it/s]\n"
     ]
    },
    {
     "name": "stdout",
     "output_type": "stream",
     "text": [
      "Training | ModelType: ModelType.SVR | Datasetname: orange_std_col_name_ohv_type | ScalerType: ScalerType.MaxAbsScaler_ | Params: {'kernel': 'rbf', 'degree': 3, 'gamma': 'scale', 'coef0': 0, 'tol': 0.001, 'C': 1.0, 'epsilon': 0.1}\n",
      "R2: 0.2950808275515512 | MSE: 1.2928440025186942\n"
     ]
    },
    {
     "name": "stderr",
     "output_type": "stream",
     "text": [
      "100%|█████████████████████████████████████████████████████████████████████████████████| 81/81 [00:00<00:00, 961.11it/s]\n"
     ]
    },
    {
     "name": "stdout",
     "output_type": "stream",
     "text": [
      "Training | ModelType: ModelType.SVR | Datasetname: orange_std_col_name_ohv_type | ScalerType: ScalerType.MinMaxScaler_ | Params: {'kernel': 'rbf', 'degree': 3, 'gamma': 'scale', 'coef0': 0, 'tol': 0.001, 'C': 1.0, 'epsilon': 0.1}\n",
      "R2: 0.2868884014121623 | MSE: 1.30786917052994\n"
     ]
    },
    {
     "name": "stderr",
     "output_type": "stream",
     "text": [
      "100%|█████████████████████████████████████████████████████████████████████████████████| 81/81 [00:00<00:00, 919.93it/s]\n"
     ]
    },
    {
     "name": "stdout",
     "output_type": "stream",
     "text": [
      "Training | ModelType: ModelType.SVR | Datasetname: orange_std_col_name_ohv_type | ScalerType: ScalerType.Normalizer_ | Params: {'kernel': 'rbf', 'degree': 3, 'gamma': 'scale', 'coef0': 0, 'tol': 0.001, 'C': 1.0, 'epsilon': 0.1}\n",
      "R2: 0.3093889192968058 | MSE: 1.2666025108366212\n"
     ]
    },
    {
     "name": "stderr",
     "output_type": "stream",
     "text": [
      "100%|█████████████████████████████████████████████████████████████████████████████████| 81/81 [00:00<00:00, 531.90it/s]\n"
     ]
    },
    {
     "name": "stdout",
     "output_type": "stream",
     "text": [
      "Training | ModelType: ModelType.SVR | Datasetname: orange_std_col_name_ohv_type | ScalerType: ScalerType.RobustScaler_ | Params: {'kernel': 'rbf', 'degree': 3, 'gamma': 'scale', 'coef0': 0, 'tol': 0.001, 'C': 1.0, 'epsilon': 0.1}\n",
      "R2: 0.2740432104482926 | MSE: 1.331427656024333\n"
     ]
    },
    {
     "name": "stderr",
     "output_type": "stream",
     "text": [
      "100%|█████████████████████████████████████████████████████████████████████████████████| 81/81 [00:00<00:00, 854.79it/s]\n"
     ]
    },
    {
     "name": "stdout",
     "output_type": "stream",
     "text": [
      "Training | ModelType: ModelType.SVR | Datasetname: orange_std_col_name_ohv_type | ScalerType: ScalerType.StandardScaler_ | Params: {'kernel': 'rbf', 'degree': 3, 'gamma': 'scale', 'coef0': 0, 'tol': 0.001, 'C': 1.0, 'epsilon': 0.1}\n",
      "R2: 0.2771349193994743 | MSE: 1.3257573642642362\n"
     ]
    },
    {
     "name": "stderr",
     "output_type": "stream",
     "text": [
      "100%|████████████████████████████████████████████████████████████████████████████████| 81/81 [00:00<00:00, 1672.97it/s]\n"
     ]
    },
    {
     "name": "stdout",
     "output_type": "stream",
     "text": [
      "Training | ModelType: ModelType.SVR | Datasetname: orange_std_col_name_ohv_type | ScalerType: ScalerType.Raw_ | Params: {'kernel': 'rbf', 'degree': 3, 'gamma': 'scale', 'coef0': 0, 'tol': 0.001, 'C': 1.0, 'epsilon': 0.1}\n",
      "R2: 0.2068601848948719 | MSE: 1.4546434445183707\n"
     ]
    },
    {
     "name": "stderr",
     "output_type": "stream",
     "text": [
      "100%|████████████████████████████████████████████████████████████████████████████████| 81/81 [00:00<00:00, 1009.07it/s]\n"
     ]
    },
    {
     "name": "stdout",
     "output_type": "stream",
     "text": [
      "Training | ModelType: ModelType.SVR | Datasetname: orange_std_col_name_ohv_type | ScalerType: ScalerType.MaxAbsScaler_ | Params: {'kernel': 'rbf', 'degree': 3, 'gamma': 'scale', 'coef0': 0, 'tol': 0.001, 'C': 1.0, 'epsilon': 0.1}\n",
      "R2: 0.2950808275515512 | MSE: 1.2928440025186942\n"
     ]
    },
    {
     "name": "stderr",
     "output_type": "stream",
     "text": [
      "100%|█████████████████████████████████████████████████████████████████████████████████| 81/81 [00:00<00:00, 812.38it/s]\n"
     ]
    },
    {
     "name": "stdout",
     "output_type": "stream",
     "text": [
      "Training | ModelType: ModelType.SVR | Datasetname: orange_std_col_name_ohv_type | ScalerType: ScalerType.MinMaxScaler_ | Params: {'kernel': 'rbf', 'degree': 3, 'gamma': 'scale', 'coef0': 0, 'tol': 0.001, 'C': 1.0, 'epsilon': 0.1}\n",
      "R2: 0.2868884014121623 | MSE: 1.30786917052994\n"
     ]
    },
    {
     "name": "stderr",
     "output_type": "stream",
     "text": [
      "100%|█████████████████████████████████████████████████████████████████████████████████| 81/81 [00:00<00:00, 915.21it/s]\n"
     ]
    },
    {
     "name": "stdout",
     "output_type": "stream",
     "text": [
      "Training | ModelType: ModelType.SVR | Datasetname: orange_std_col_name_ohv_type | ScalerType: ScalerType.Normalizer_ | Params: {'kernel': 'rbf', 'degree': 3, 'gamma': 'scale', 'coef0': 0, 'tol': 0.001, 'C': 1.0, 'epsilon': 0.1}\n",
      "R2: 0.3093889192968058 | MSE: 1.2666025108366212\n"
     ]
    },
    {
     "name": "stderr",
     "output_type": "stream",
     "text": [
      "100%|█████████████████████████████████████████████████████████████████████████████████| 81/81 [00:00<00:00, 541.59it/s]\n"
     ]
    },
    {
     "name": "stdout",
     "output_type": "stream",
     "text": [
      "Training | ModelType: ModelType.SVR | Datasetname: orange_std_col_name_ohv_type | ScalerType: ScalerType.RobustScaler_ | Params: {'kernel': 'rbf', 'degree': 3, 'gamma': 'scale', 'coef0': 0, 'tol': 0.001, 'C': 1.0, 'epsilon': 0.1}\n",
      "R2: 0.2740432104482926 | MSE: 1.331427656024333\n"
     ]
    },
    {
     "name": "stderr",
     "output_type": "stream",
     "text": [
      "100%|█████████████████████████████████████████████████████████████████████████████████| 81/81 [00:00<00:00, 838.32it/s]\n"
     ]
    },
    {
     "name": "stdout",
     "output_type": "stream",
     "text": [
      "Training | ModelType: ModelType.SVR | Datasetname: orange_std_col_name_ohv_type | ScalerType: ScalerType.StandardScaler_ | Params: {'kernel': 'rbf', 'degree': 3, 'gamma': 'scale', 'coef0': 0, 'tol': 0.001, 'C': 1.0, 'epsilon': 0.1}\n",
      "R2: 0.2771349193994743 | MSE: 1.3257573642642362\n"
     ]
    },
    {
     "name": "stderr",
     "output_type": "stream",
     "text": [
      "100%|██████████████████████████████████████████████████████████████████████████████████| 81/81 [00:08<00:00,  9.95it/s]\n"
     ]
    },
    {
     "name": "stdout",
     "output_type": "stream",
     "text": [
      "Training | ModelType: ModelType.SVR | Datasetname: orange_std_col_name_ohv_type | ScalerType: ScalerType.Raw_ | Params: {'kernel': 'linear', 'degree': 3, 'gamma': 'scale', 'coef0': 0, 'tol': 0.001, 'C': 1.0, 'epsilon': 0.1}\n",
      "R2: 0.2990150029255074 | MSE: 1.2856286007593556\n"
     ]
    },
    {
     "name": "stderr",
     "output_type": "stream",
     "text": [
      "100%|█████████████████████████████████████████████████████████████████████████████████| 81/81 [00:00<00:00, 892.42it/s]\n"
     ]
    },
    {
     "name": "stdout",
     "output_type": "stream",
     "text": [
      "Training | ModelType: ModelType.SVR | Datasetname: orange_std_col_name_ohv_type | ScalerType: ScalerType.MaxAbsScaler_ | Params: {'kernel': 'linear', 'degree': 3, 'gamma': 'scale', 'coef0': 0, 'tol': 0.001, 'C': 1.0, 'epsilon': 0.1}\n",
      "R2: 0.28435548528512467 | MSE: 1.3125146186206047\n"
     ]
    },
    {
     "name": "stderr",
     "output_type": "stream",
     "text": [
      "100%|█████████████████████████████████████████████████████████████████████████████████| 81/81 [00:00<00:00, 983.08it/s]\n"
     ]
    },
    {
     "name": "stdout",
     "output_type": "stream",
     "text": [
      "Training | ModelType: ModelType.SVR | Datasetname: orange_std_col_name_ohv_type | ScalerType: ScalerType.MinMaxScaler_ | Params: {'kernel': 'linear', 'degree': 3, 'gamma': 'scale', 'coef0': 0, 'tol': 0.001, 'C': 1.0, 'epsilon': 0.1}\n",
      "R2: 0.2779709577138958 | MSE: 1.324224043618521\n"
     ]
    },
    {
     "name": "stderr",
     "output_type": "stream",
     "text": [
      "100%|█████████████████████████████████████████████████████████████████████████████████| 81/81 [00:00<00:00, 823.56it/s]\n"
     ]
    },
    {
     "name": "stdout",
     "output_type": "stream",
     "text": [
      "Training | ModelType: ModelType.SVR | Datasetname: orange_std_col_name_ohv_type | ScalerType: ScalerType.Normalizer_ | Params: {'kernel': 'linear', 'degree': 3, 'gamma': 'scale', 'coef0': 0, 'tol': 0.001, 'C': 1.0, 'epsilon': 0.1}\n",
      "R2: 0.30365780072695125 | MSE: 1.2771135631109185\n"
     ]
    },
    {
     "name": "stderr",
     "output_type": "stream",
     "text": [
      "100%|█████████████████████████████████████████████████████████████████████████████████| 81/81 [00:00<00:00, 515.27it/s]\n"
     ]
    },
    {
     "name": "stdout",
     "output_type": "stream",
     "text": [
      "Training | ModelType: ModelType.SVR | Datasetname: orange_std_col_name_ohv_type | ScalerType: ScalerType.RobustScaler_ | Params: {'kernel': 'linear', 'degree': 3, 'gamma': 'scale', 'coef0': 0, 'tol': 0.001, 'C': 1.0, 'epsilon': 0.1}\n",
      "R2: 0.3007411583078874 | MSE: 1.28246277732775\n"
     ]
    },
    {
     "name": "stderr",
     "output_type": "stream",
     "text": [
      "100%|█████████████████████████████████████████████████████████████████████████████████| 81/81 [00:00<00:00, 702.60it/s]\n"
     ]
    },
    {
     "name": "stdout",
     "output_type": "stream",
     "text": [
      "Training | ModelType: ModelType.SVR | Datasetname: orange_std_col_name_ohv_type | ScalerType: ScalerType.StandardScaler_ | Params: {'kernel': 'linear', 'degree': 3, 'gamma': 'scale', 'coef0': 0, 'tol': 0.001, 'C': 1.0, 'epsilon': 0.1}\n",
      "R2: 0.3011781697459083 | MSE: 1.281661284562679\n"
     ]
    },
    {
     "name": "stderr",
     "output_type": "stream",
     "text": [
      "100%|██████████████████████████████████████████████████████████████████████████████████| 81/81 [00:08<00:00,  9.92it/s]\n"
     ]
    },
    {
     "name": "stdout",
     "output_type": "stream",
     "text": [
      "Training | ModelType: ModelType.SVR | Datasetname: orange_std_col_name_ohv_type | ScalerType: ScalerType.Raw_ | Params: {'kernel': 'linear', 'degree': 3, 'gamma': 'scale', 'coef0': 0, 'tol': 0.001, 'C': 1.0, 'epsilon': 0.1}\n",
      "R2: 0.2990150029255074 | MSE: 1.2856286007593556\n"
     ]
    },
    {
     "name": "stderr",
     "output_type": "stream",
     "text": [
      "100%|████████████████████████████████████████████████████████████████████████████████| 81/81 [00:00<00:00, 1045.68it/s]\n"
     ]
    },
    {
     "name": "stdout",
     "output_type": "stream",
     "text": [
      "Training | ModelType: ModelType.SVR | Datasetname: orange_std_col_name_ohv_type | ScalerType: ScalerType.MaxAbsScaler_ | Params: {'kernel': 'linear', 'degree': 3, 'gamma': 'scale', 'coef0': 0, 'tol': 0.001, 'C': 1.0, 'epsilon': 0.1}\n",
      "R2: 0.28435548528512467 | MSE: 1.3125146186206047\n"
     ]
    },
    {
     "name": "stderr",
     "output_type": "stream",
     "text": [
      "100%|████████████████████████████████████████████████████████████████████████████████| 81/81 [00:00<00:00, 1154.45it/s]\n"
     ]
    },
    {
     "name": "stdout",
     "output_type": "stream",
     "text": [
      "Training | ModelType: ModelType.SVR | Datasetname: orange_std_col_name_ohv_type | ScalerType: ScalerType.MinMaxScaler_ | Params: {'kernel': 'linear', 'degree': 3, 'gamma': 'scale', 'coef0': 0, 'tol': 0.001, 'C': 1.0, 'epsilon': 0.1}\n",
      "R2: 0.2779709577138958 | MSE: 1.324224043618521\n"
     ]
    },
    {
     "name": "stderr",
     "output_type": "stream",
     "text": [
      "100%|█████████████████████████████████████████████████████████████████████████████████| 81/81 [00:00<00:00, 929.49it/s]\n"
     ]
    },
    {
     "name": "stdout",
     "output_type": "stream",
     "text": [
      "Training | ModelType: ModelType.SVR | Datasetname: orange_std_col_name_ohv_type | ScalerType: ScalerType.Normalizer_ | Params: {'kernel': 'linear', 'degree': 3, 'gamma': 'scale', 'coef0': 0, 'tol': 0.001, 'C': 1.0, 'epsilon': 0.1}\n",
      "R2: 0.30365780072695125 | MSE: 1.2771135631109185\n"
     ]
    },
    {
     "name": "stderr",
     "output_type": "stream",
     "text": [
      "100%|█████████████████████████████████████████████████████████████████████████████████| 81/81 [00:00<00:00, 514.21it/s]\n"
     ]
    },
    {
     "name": "stdout",
     "output_type": "stream",
     "text": [
      "Training | ModelType: ModelType.SVR | Datasetname: orange_std_col_name_ohv_type | ScalerType: ScalerType.RobustScaler_ | Params: {'kernel': 'linear', 'degree': 3, 'gamma': 'scale', 'coef0': 0, 'tol': 0.001, 'C': 1.0, 'epsilon': 0.1}\n",
      "R2: 0.3007411583078874 | MSE: 1.28246277732775\n"
     ]
    },
    {
     "name": "stderr",
     "output_type": "stream",
     "text": [
      "100%|█████████████████████████████████████████████████████████████████████████████████| 81/81 [00:00<00:00, 831.72it/s]\n"
     ]
    },
    {
     "name": "stdout",
     "output_type": "stream",
     "text": [
      "Training | ModelType: ModelType.SVR | Datasetname: orange_std_col_name_ohv_type | ScalerType: ScalerType.StandardScaler_ | Params: {'kernel': 'linear', 'degree': 3, 'gamma': 'scale', 'coef0': 0, 'tol': 0.001, 'C': 1.0, 'epsilon': 0.1}\n",
      "R2: 0.3011781697459083 | MSE: 1.281661284562679\n"
     ]
    },
    {
     "name": "stderr",
     "output_type": "stream",
     "text": [
      "100%|████████████████████████████████████████████████████████████████████████████████| 81/81 [00:00<00:00, 1220.61it/s]\n"
     ]
    },
    {
     "name": "stdout",
     "output_type": "stream",
     "text": [
      "Training | ModelType: ModelType.SVR | Datasetname: orange_std_col_name_ohv_type | ScalerType: ScalerType.Raw_ | Params: {'kernel': 'poly', 'degree': 3, 'gamma': 'scale', 'coef0': 0, 'tol': 0.001, 'C': 1.0, 'epsilon': 0.1}\n",
      "R2: 0.24561390705396657 | MSE: 1.383567895395999\n"
     ]
    },
    {
     "name": "stderr",
     "output_type": "stream",
     "text": [
      "100%|█████████████████████████████████████████████████████████████████████████████████| 81/81 [00:00<00:00, 726.73it/s]\n"
     ]
    },
    {
     "name": "stdout",
     "output_type": "stream",
     "text": [
      "Training | ModelType: ModelType.SVR | Datasetname: orange_std_col_name_ohv_type | ScalerType: ScalerType.MaxAbsScaler_ | Params: {'kernel': 'poly', 'degree': 3, 'gamma': 'scale', 'coef0': 0, 'tol': 0.001, 'C': 1.0, 'epsilon': 0.1}\n",
      "R2: 0.3100949176660296 | MSE: 1.265307687553168\n"
     ]
    },
    {
     "name": "stderr",
     "output_type": "stream",
     "text": [
      "100%|█████████████████████████████████████████████████████████████████████████████████| 81/81 [00:00<00:00, 769.79it/s]\n"
     ]
    },
    {
     "name": "stdout",
     "output_type": "stream",
     "text": [
      "Training | ModelType: ModelType.SVR | Datasetname: orange_std_col_name_ohv_type | ScalerType: ScalerType.MinMaxScaler_ | Params: {'kernel': 'poly', 'degree': 3, 'gamma': 'scale', 'coef0': 0, 'tol': 0.001, 'C': 1.0, 'epsilon': 0.1}\n",
      "R2: 0.254268834400766 | MSE: 1.3676944855784172\n"
     ]
    },
    {
     "name": "stderr",
     "output_type": "stream",
     "text": [
      "100%|█████████████████████████████████████████████████████████████████████████████████| 81/81 [00:00<00:00, 887.26it/s]\n"
     ]
    },
    {
     "name": "stdout",
     "output_type": "stream",
     "text": [
      "Training | ModelType: ModelType.SVR | Datasetname: orange_std_col_name_ohv_type | ScalerType: ScalerType.Normalizer_ | Params: {'kernel': 'poly', 'degree': 3, 'gamma': 'scale', 'coef0': 0, 'tol': 0.001, 'C': 1.0, 'epsilon': 0.1}\n",
      "R2: 0.3005206338789217 | MSE: 1.282867226088034\n"
     ]
    },
    {
     "name": "stderr",
     "output_type": "stream",
     "text": [
      "100%|█████████████████████████████████████████████████████████████████████████████████| 81/81 [00:00<00:00, 512.76it/s]\n"
     ]
    },
    {
     "name": "stdout",
     "output_type": "stream",
     "text": [
      "Training | ModelType: ModelType.SVR | Datasetname: orange_std_col_name_ohv_type | ScalerType: ScalerType.RobustScaler_ | Params: {'kernel': 'poly', 'degree': 3, 'gamma': 'scale', 'coef0': 0, 'tol': 0.001, 'C': 1.0, 'epsilon': 0.1}\n",
      "R2: 0.18944069136424713 | MSE: 1.4865913452397521\n"
     ]
    },
    {
     "name": "stderr",
     "output_type": "stream",
     "text": [
      "100%|█████████████████████████████████████████████████████████████████████████████████| 81/81 [00:00<00:00, 674.61it/s]\n"
     ]
    },
    {
     "name": "stdout",
     "output_type": "stream",
     "text": [
      "Training | ModelType: ModelType.SVR | Datasetname: orange_std_col_name_ohv_type | ScalerType: ScalerType.StandardScaler_ | Params: {'kernel': 'poly', 'degree': 3, 'gamma': 'scale', 'coef0': 0, 'tol': 0.001, 'C': 1.0, 'epsilon': 0.1}\n",
      "R2: 0.17807392605168137 | MSE: 1.5074383514452228\n"
     ]
    },
    {
     "name": "stderr",
     "output_type": "stream",
     "text": [
      "100%|████████████████████████████████████████████████████████████████████████████████| 81/81 [00:00<00:00, 1287.63it/s]\n"
     ]
    },
    {
     "name": "stdout",
     "output_type": "stream",
     "text": [
      "Training | ModelType: ModelType.SVR | Datasetname: orange_std_col_name_ohv_type | ScalerType: ScalerType.Raw_ | Params: {'kernel': 'poly', 'degree': 3, 'gamma': 'scale', 'coef0': 0, 'tol': 0.001, 'C': 1.1, 'epsilon': 0.1}\n",
      "R2: 0.25313370782615796 | MSE: 1.3697763435295698\n"
     ]
    },
    {
     "name": "stderr",
     "output_type": "stream",
     "text": [
      "100%|█████████████████████████████████████████████████████████████████████████████████| 81/81 [00:00<00:00, 773.96it/s]\n"
     ]
    },
    {
     "name": "stdout",
     "output_type": "stream",
     "text": [
      "Training | ModelType: ModelType.SVR | Datasetname: orange_std_col_name_ohv_type | ScalerType: ScalerType.MaxAbsScaler_ | Params: {'kernel': 'poly', 'degree': 3, 'gamma': 'scale', 'coef0': 0, 'tol': 0.001, 'C': 1.1, 'epsilon': 0.1}\n",
      "R2: 0.3067490050667012 | MSE: 1.2714441968241081\n"
     ]
    },
    {
     "name": "stderr",
     "output_type": "stream",
     "text": [
      "100%|█████████████████████████████████████████████████████████████████████████████████| 81/81 [00:00<00:00, 697.70it/s]\n"
     ]
    },
    {
     "name": "stdout",
     "output_type": "stream",
     "text": [
      "Training | ModelType: ModelType.SVR | Datasetname: orange_std_col_name_ohv_type | ScalerType: ScalerType.MinMaxScaler_ | Params: {'kernel': 'poly', 'degree': 3, 'gamma': 'scale', 'coef0': 0, 'tol': 0.001, 'C': 1.1, 'epsilon': 0.1}\n",
      "R2: 0.25037405239195254 | MSE: 1.3748376386632206\n"
     ]
    },
    {
     "name": "stderr",
     "output_type": "stream",
     "text": [
      "100%|█████████████████████████████████████████████████████████████████████████████████| 81/81 [00:00<00:00, 829.82it/s]\n"
     ]
    },
    {
     "name": "stdout",
     "output_type": "stream",
     "text": [
      "Training | ModelType: ModelType.SVR | Datasetname: orange_std_col_name_ohv_type | ScalerType: ScalerType.Normalizer_ | Params: {'kernel': 'poly', 'degree': 3, 'gamma': 'scale', 'coef0': 0, 'tol': 0.001, 'C': 1.1, 'epsilon': 0.1}\n",
      "R2: 0.2966478130409116 | MSE: 1.2899701016927074\n"
     ]
    },
    {
     "name": "stderr",
     "output_type": "stream",
     "text": [
      "100%|█████████████████████████████████████████████████████████████████████████████████| 81/81 [00:00<00:00, 466.04it/s]\n"
     ]
    },
    {
     "name": "stdout",
     "output_type": "stream",
     "text": [
      "Training | ModelType: ModelType.SVR | Datasetname: orange_std_col_name_ohv_type | ScalerType: ScalerType.RobustScaler_ | Params: {'kernel': 'poly', 'degree': 3, 'gamma': 'scale', 'coef0': 0, 'tol': 0.001, 'C': 1.1, 'epsilon': 0.1}\n",
      "R2: 0.18953378044471914 | MSE: 1.4864206169291996\n"
     ]
    },
    {
     "name": "stderr",
     "output_type": "stream",
     "text": [
      "100%|█████████████████████████████████████████████████████████████████████████████████| 81/81 [00:00<00:00, 625.79it/s]\n"
     ]
    },
    {
     "name": "stdout",
     "output_type": "stream",
     "text": [
      "Training | ModelType: ModelType.SVR | Datasetname: orange_std_col_name_ohv_type | ScalerType: ScalerType.StandardScaler_ | Params: {'kernel': 'poly', 'degree': 3, 'gamma': 'scale', 'coef0': 0, 'tol': 0.001, 'C': 1.1, 'epsilon': 0.1}\n",
      "R2: 0.1786611057780111 | MSE: 1.5063614453015735\n"
     ]
    },
    {
     "name": "stderr",
     "output_type": "stream",
     "text": [
      "100%|████████████████████████████████████████████████████████████████████████████████| 81/81 [00:00<00:00, 1181.66it/s]\n"
     ]
    },
    {
     "name": "stdout",
     "output_type": "stream",
     "text": [
      "Training | ModelType: ModelType.SVR | Datasetname: orange_std_col_name_ohv_type | ScalerType: ScalerType.Raw_ | Params: {'kernel': 'rbf', 'degree': 3, 'gamma': 'scale', 'coef0': 0, 'tol': 0.001, 'C': 1.1, 'epsilon': 0.1}\n",
      "R2: 0.21306735968513735 | MSE: 1.4432592901162333\n"
     ]
    },
    {
     "name": "stderr",
     "output_type": "stream",
     "text": [
      "100%|█████████████████████████████████████████████████████████████████████████████████| 81/81 [00:00<00:00, 939.36it/s]\n"
     ]
    },
    {
     "name": "stdout",
     "output_type": "stream",
     "text": [
      "Training | ModelType: ModelType.SVR | Datasetname: orange_std_col_name_ohv_type | ScalerType: ScalerType.MaxAbsScaler_ | Params: {'kernel': 'rbf', 'degree': 3, 'gamma': 'scale', 'coef0': 0, 'tol': 0.001, 'C': 1.1, 'epsilon': 0.1}\n",
      "R2: 0.30007748513330257 | MSE: 1.2836799748688728\n"
     ]
    },
    {
     "name": "stderr",
     "output_type": "stream",
     "text": [
      "100%|████████████████████████████████████████████████████████████████████████████████| 81/81 [00:00<00:00, 1018.32it/s]\n"
     ]
    },
    {
     "name": "stdout",
     "output_type": "stream",
     "text": [
      "Training | ModelType: ModelType.SVR | Datasetname: orange_std_col_name_ohv_type | ScalerType: ScalerType.MinMaxScaler_ | Params: {'kernel': 'rbf', 'degree': 3, 'gamma': 'scale', 'coef0': 0, 'tol': 0.001, 'C': 1.1, 'epsilon': 0.1}\n",
      "R2: 0.28802084175968845 | MSE: 1.3057922392040064\n"
     ]
    },
    {
     "name": "stderr",
     "output_type": "stream",
     "text": [
      "100%|█████████████████████████████████████████████████████████████████████████████████| 81/81 [00:00<00:00, 865.78it/s]\n"
     ]
    },
    {
     "name": "stdout",
     "output_type": "stream",
     "text": [
      "Training | ModelType: ModelType.SVR | Datasetname: orange_std_col_name_ohv_type | ScalerType: ScalerType.Normalizer_ | Params: {'kernel': 'rbf', 'degree': 3, 'gamma': 'scale', 'coef0': 0, 'tol': 0.001, 'C': 1.1, 'epsilon': 0.1}\n",
      "R2: 0.3138821601047409 | MSE: 1.2583617654328125\n"
     ]
    },
    {
     "name": "stderr",
     "output_type": "stream",
     "text": [
      "100%|█████████████████████████████████████████████████████████████████████████████████| 81/81 [00:00<00:00, 565.57it/s]\n"
     ]
    },
    {
     "name": "stdout",
     "output_type": "stream",
     "text": [
      "Training | ModelType: ModelType.SVR | Datasetname: orange_std_col_name_ohv_type | ScalerType: ScalerType.RobustScaler_ | Params: {'kernel': 'rbf', 'degree': 3, 'gamma': 'scale', 'coef0': 0, 'tol': 0.001, 'C': 1.1, 'epsilon': 0.1}\n",
      "R2: 0.2722693463354242 | MSE: 1.334680978772868\n"
     ]
    },
    {
     "name": "stderr",
     "output_type": "stream",
     "text": [
      "100%|█████████████████████████████████████████████████████████████████████████████████| 81/81 [00:00<00:00, 901.93it/s]\n"
     ]
    },
    {
     "name": "stdout",
     "output_type": "stream",
     "text": [
      "Training | ModelType: ModelType.SVR | Datasetname: orange_std_col_name_ohv_type | ScalerType: ScalerType.StandardScaler_ | Params: {'kernel': 'rbf', 'degree': 3, 'gamma': 'scale', 'coef0': 0, 'tol': 0.001, 'C': 1.1, 'epsilon': 0.1}\n",
      "R2: 0.2792324201982791 | MSE: 1.3219104816229341\n"
     ]
    },
    {
     "name": "stderr",
     "output_type": "stream",
     "text": [
      "100%|████████████████████████████████████████████████████████████████████████████████| 81/81 [00:00<00:00, 1247.45it/s]\n"
     ]
    },
    {
     "name": "stdout",
     "output_type": "stream",
     "text": [
      "Training | ModelType: ModelType.SVR | Datasetname: orange_std_col_name_ohv_type | ScalerType: ScalerType.Raw_ | Params: {'kernel': 'rbf', 'degree': 3, 'gamma': 'scale', 'coef0': 0, 'tol': 0.001, 'C': 1.1, 'epsilon': 0.1}\n",
      "R2: 0.21306735968513735 | MSE: 1.4432592901162333\n"
     ]
    },
    {
     "name": "stderr",
     "output_type": "stream",
     "text": [
      "100%|████████████████████████████████████████████████████████████████████████████████| 81/81 [00:00<00:00, 1037.98it/s]\n"
     ]
    },
    {
     "name": "stdout",
     "output_type": "stream",
     "text": [
      "Training | ModelType: ModelType.SVR | Datasetname: orange_std_col_name_ohv_type | ScalerType: ScalerType.MaxAbsScaler_ | Params: {'kernel': 'rbf', 'degree': 3, 'gamma': 'scale', 'coef0': 0, 'tol': 0.001, 'C': 1.1, 'epsilon': 0.1}\n",
      "R2: 0.30007748513330257 | MSE: 1.2836799748688728\n"
     ]
    },
    {
     "name": "stderr",
     "output_type": "stream",
     "text": [
      "100%|█████████████████████████████████████████████████████████████████████████████████| 81/81 [00:00<00:00, 956.00it/s]\n"
     ]
    },
    {
     "name": "stdout",
     "output_type": "stream",
     "text": [
      "Training | ModelType: ModelType.SVR | Datasetname: orange_std_col_name_ohv_type | ScalerType: ScalerType.MinMaxScaler_ | Params: {'kernel': 'rbf', 'degree': 3, 'gamma': 'scale', 'coef0': 0, 'tol': 0.001, 'C': 1.1, 'epsilon': 0.1}\n",
      "R2: 0.28802084175968845 | MSE: 1.3057922392040064\n"
     ]
    },
    {
     "name": "stderr",
     "output_type": "stream",
     "text": [
      "100%|█████████████████████████████████████████████████████████████████████████████████| 81/81 [00:00<00:00, 934.07it/s]\n"
     ]
    },
    {
     "name": "stdout",
     "output_type": "stream",
     "text": [
      "Training | ModelType: ModelType.SVR | Datasetname: orange_std_col_name_ohv_type | ScalerType: ScalerType.Normalizer_ | Params: {'kernel': 'rbf', 'degree': 3, 'gamma': 'scale', 'coef0': 0, 'tol': 0.001, 'C': 1.1, 'epsilon': 0.1}\n",
      "R2: 0.3138821601047409 | MSE: 1.2583617654328125\n"
     ]
    },
    {
     "name": "stderr",
     "output_type": "stream",
     "text": [
      "100%|█████████████████████████████████████████████████████████████████████████████████| 81/81 [00:00<00:00, 577.85it/s]\n"
     ]
    },
    {
     "name": "stdout",
     "output_type": "stream",
     "text": [
      "Training | ModelType: ModelType.SVR | Datasetname: orange_std_col_name_ohv_type | ScalerType: ScalerType.RobustScaler_ | Params: {'kernel': 'rbf', 'degree': 3, 'gamma': 'scale', 'coef0': 0, 'tol': 0.001, 'C': 1.1, 'epsilon': 0.1}\n",
      "R2: 0.2722693463354242 | MSE: 1.334680978772868\n"
     ]
    },
    {
     "name": "stderr",
     "output_type": "stream",
     "text": [
      "100%|█████████████████████████████████████████████████████████████████████████████████| 81/81 [00:00<00:00, 802.72it/s]\n"
     ]
    },
    {
     "name": "stdout",
     "output_type": "stream",
     "text": [
      "Training | ModelType: ModelType.SVR | Datasetname: orange_std_col_name_ohv_type | ScalerType: ScalerType.StandardScaler_ | Params: {'kernel': 'rbf', 'degree': 3, 'gamma': 'scale', 'coef0': 0, 'tol': 0.001, 'C': 1.1, 'epsilon': 0.1}\n",
      "R2: 0.2792324201982791 | MSE: 1.3219104816229341\n"
     ]
    },
    {
     "name": "stderr",
     "output_type": "stream",
     "text": [
      "100%|██████████████████████████████████████████████████████████████████████████████████| 81/81 [00:09<00:00,  8.85it/s]\n"
     ]
    },
    {
     "name": "stdout",
     "output_type": "stream",
     "text": [
      "Training | ModelType: ModelType.SVR | Datasetname: orange_std_col_name_ohv_type | ScalerType: ScalerType.Raw_ | Params: {'kernel': 'linear', 'degree': 3, 'gamma': 'scale', 'coef0': 0, 'tol': 0.001, 'C': 1.1, 'epsilon': 0.1}\n",
      "R2: 0.29991702111574436 | MSE: 1.2839742709397253\n"
     ]
    },
    {
     "name": "stderr",
     "output_type": "stream",
     "text": [
      "100%|█████████████████████████████████████████████████████████████████████████████████| 81/81 [00:00<00:00, 928.16it/s]\n"
     ]
    },
    {
     "name": "stdout",
     "output_type": "stream",
     "text": [
      "Training | ModelType: ModelType.SVR | Datasetname: orange_std_col_name_ohv_type | ScalerType: ScalerType.MaxAbsScaler_ | Params: {'kernel': 'linear', 'degree': 3, 'gamma': 'scale', 'coef0': 0, 'tol': 0.001, 'C': 1.1, 'epsilon': 0.1}\n",
      "R2: 0.28775133227748195 | MSE: 1.3062865280974159\n"
     ]
    },
    {
     "name": "stderr",
     "output_type": "stream",
     "text": [
      "100%|█████████████████████████████████████████████████████████████████████████████████| 81/81 [00:00<00:00, 829.10it/s]\n"
     ]
    },
    {
     "name": "stdout",
     "output_type": "stream",
     "text": [
      "Training | ModelType: ModelType.SVR | Datasetname: orange_std_col_name_ohv_type | ScalerType: ScalerType.MinMaxScaler_ | Params: {'kernel': 'linear', 'degree': 3, 'gamma': 'scale', 'coef0': 0, 'tol': 0.001, 'C': 1.1, 'epsilon': 0.1}\n",
      "R2: 0.2778872930320857 | MSE: 1.324377487284587\n"
     ]
    },
    {
     "name": "stderr",
     "output_type": "stream",
     "text": [
      "100%|█████████████████████████████████████████████████████████████████████████████████| 81/81 [00:00<00:00, 799.92it/s]\n"
     ]
    },
    {
     "name": "stdout",
     "output_type": "stream",
     "text": [
      "Training | ModelType: ModelType.SVR | Datasetname: orange_std_col_name_ohv_type | ScalerType: ScalerType.Normalizer_ | Params: {'kernel': 'linear', 'degree': 3, 'gamma': 'scale', 'coef0': 0, 'tol': 0.001, 'C': 1.1, 'epsilon': 0.1}\n",
      "R2: 0.3040784179868945 | MSE: 1.2763421377856792\n"
     ]
    },
    {
     "name": "stderr",
     "output_type": "stream",
     "text": [
      "100%|█████████████████████████████████████████████████████████████████████████████████| 81/81 [00:00<00:00, 500.54it/s]\n"
     ]
    },
    {
     "name": "stdout",
     "output_type": "stream",
     "text": [
      "Training | ModelType: ModelType.SVR | Datasetname: orange_std_col_name_ohv_type | ScalerType: ScalerType.RobustScaler_ | Params: {'kernel': 'linear', 'degree': 3, 'gamma': 'scale', 'coef0': 0, 'tol': 0.001, 'C': 1.1, 'epsilon': 0.1}\n",
      "R2: 0.30210400897497725 | MSE: 1.2799632662062752\n"
     ]
    },
    {
     "name": "stderr",
     "output_type": "stream",
     "text": [
      "100%|█████████████████████████████████████████████████████████████████████████████████| 81/81 [00:00<00:00, 719.28it/s]\n"
     ]
    },
    {
     "name": "stdout",
     "output_type": "stream",
     "text": [
      "Training | ModelType: ModelType.SVR | Datasetname: orange_std_col_name_ohv_type | ScalerType: ScalerType.StandardScaler_ | Params: {'kernel': 'linear', 'degree': 3, 'gamma': 'scale', 'coef0': 0, 'tol': 0.001, 'C': 1.1, 'epsilon': 0.1}\n",
      "R2: 0.3001585396938702 | MSE: 1.2835313182475148\n"
     ]
    },
    {
     "name": "stderr",
     "output_type": "stream",
     "text": [
      "100%|██████████████████████████████████████████████████████████████████████████████████| 81/81 [00:09<00:00,  8.85it/s]\n"
     ]
    },
    {
     "name": "stdout",
     "output_type": "stream",
     "text": [
      "Training | ModelType: ModelType.SVR | Datasetname: orange_std_col_name_ohv_type | ScalerType: ScalerType.Raw_ | Params: {'kernel': 'linear', 'degree': 3, 'gamma': 'scale', 'coef0': 0, 'tol': 0.001, 'C': 1.1, 'epsilon': 0.1}\n",
      "R2: 0.29991702111574436 | MSE: 1.2839742709397253\n"
     ]
    },
    {
     "name": "stderr",
     "output_type": "stream",
     "text": [
      "100%|████████████████████████████████████████████████████████████████████████████████| 81/81 [00:00<00:00, 1016.91it/s]\n"
     ]
    },
    {
     "name": "stdout",
     "output_type": "stream",
     "text": [
      "Training | ModelType: ModelType.SVR | Datasetname: orange_std_col_name_ohv_type | ScalerType: ScalerType.MaxAbsScaler_ | Params: {'kernel': 'linear', 'degree': 3, 'gamma': 'scale', 'coef0': 0, 'tol': 0.001, 'C': 1.1, 'epsilon': 0.1}\n",
      "R2: 0.28775133227748195 | MSE: 1.3062865280974159\n"
     ]
    },
    {
     "name": "stderr",
     "output_type": "stream",
     "text": [
      "100%|████████████████████████████████████████████████████████████████████████████████| 81/81 [00:00<00:00, 1012.52it/s]\n"
     ]
    },
    {
     "name": "stdout",
     "output_type": "stream",
     "text": [
      "Training | ModelType: ModelType.SVR | Datasetname: orange_std_col_name_ohv_type | ScalerType: ScalerType.MinMaxScaler_ | Params: {'kernel': 'linear', 'degree': 3, 'gamma': 'scale', 'coef0': 0, 'tol': 0.001, 'C': 1.1, 'epsilon': 0.1}\n",
      "R2: 0.2778872930320857 | MSE: 1.324377487284587\n"
     ]
    },
    {
     "name": "stderr",
     "output_type": "stream",
     "text": [
      "100%|█████████████████████████████████████████████████████████████████████████████████| 81/81 [00:00<00:00, 911.08it/s]\n"
     ]
    },
    {
     "name": "stdout",
     "output_type": "stream",
     "text": [
      "Training | ModelType: ModelType.SVR | Datasetname: orange_std_col_name_ohv_type | ScalerType: ScalerType.Normalizer_ | Params: {'kernel': 'linear', 'degree': 3, 'gamma': 'scale', 'coef0': 0, 'tol': 0.001, 'C': 1.1, 'epsilon': 0.1}\n",
      "R2: 0.3040784179868945 | MSE: 1.2763421377856792\n"
     ]
    },
    {
     "name": "stderr",
     "output_type": "stream",
     "text": [
      "100%|█████████████████████████████████████████████████████████████████████████████████| 81/81 [00:00<00:00, 548.84it/s]\n"
     ]
    },
    {
     "name": "stdout",
     "output_type": "stream",
     "text": [
      "Training | ModelType: ModelType.SVR | Datasetname: orange_std_col_name_ohv_type | ScalerType: ScalerType.RobustScaler_ | Params: {'kernel': 'linear', 'degree': 3, 'gamma': 'scale', 'coef0': 0, 'tol': 0.001, 'C': 1.1, 'epsilon': 0.1}\n",
      "R2: 0.30210400897497725 | MSE: 1.2799632662062752\n"
     ]
    },
    {
     "name": "stderr",
     "output_type": "stream",
     "text": [
      "100%|█████████████████████████████████████████████████████████████████████████████████| 81/81 [00:00<00:00, 704.96it/s]\n"
     ]
    },
    {
     "name": "stdout",
     "output_type": "stream",
     "text": [
      "Training | ModelType: ModelType.SVR | Datasetname: orange_std_col_name_ohv_type | ScalerType: ScalerType.StandardScaler_ | Params: {'kernel': 'linear', 'degree': 3, 'gamma': 'scale', 'coef0': 0, 'tol': 0.001, 'C': 1.1, 'epsilon': 0.1}\n",
      "R2: 0.3001585396938702 | MSE: 1.2835313182475148\n"
     ]
    },
    {
     "name": "stderr",
     "output_type": "stream",
     "text": [
      "100%|████████████████████████████████████████████████████████████████████████████████| 81/81 [00:00<00:00, 1175.82it/s]\n"
     ]
    },
    {
     "name": "stdout",
     "output_type": "stream",
     "text": [
      "Training | ModelType: ModelType.SVR | Datasetname: orange_std_col_name_ohv_type | ScalerType: ScalerType.Raw_ | Params: {'kernel': 'poly', 'degree': 3, 'gamma': 'scale', 'coef0': 0, 'tol': 0.001, 'C': 1.1, 'epsilon': 0.1}\n",
      "R2: 0.25313370782615796 | MSE: 1.3697763435295698\n"
     ]
    },
    {
     "name": "stderr",
     "output_type": "stream",
     "text": [
      "100%|█████████████████████████████████████████████████████████████████████████████████| 81/81 [00:00<00:00, 821.07it/s]\n"
     ]
    },
    {
     "name": "stdout",
     "output_type": "stream",
     "text": [
      "Training | ModelType: ModelType.SVR | Datasetname: orange_std_col_name_ohv_type | ScalerType: ScalerType.MaxAbsScaler_ | Params: {'kernel': 'poly', 'degree': 3, 'gamma': 'scale', 'coef0': 0, 'tol': 0.001, 'C': 1.1, 'epsilon': 0.1}\n",
      "R2: 0.3067490050667012 | MSE: 1.2714441968241081\n"
     ]
    },
    {
     "name": "stderr",
     "output_type": "stream",
     "text": [
      "100%|█████████████████████████████████████████████████████████████████████████████████| 81/81 [00:00<00:00, 712.69it/s]\n"
     ]
    },
    {
     "name": "stdout",
     "output_type": "stream",
     "text": [
      "Training | ModelType: ModelType.SVR | Datasetname: orange_std_col_name_ohv_type | ScalerType: ScalerType.MinMaxScaler_ | Params: {'kernel': 'poly', 'degree': 3, 'gamma': 'scale', 'coef0': 0, 'tol': 0.001, 'C': 1.1, 'epsilon': 0.1}\n",
      "R2: 0.25037405239195254 | MSE: 1.3748376386632206\n"
     ]
    },
    {
     "name": "stderr",
     "output_type": "stream",
     "text": [
      "100%|█████████████████████████████████████████████████████████████████████████████████| 81/81 [00:00<00:00, 820.55it/s]\n"
     ]
    },
    {
     "name": "stdout",
     "output_type": "stream",
     "text": [
      "Training | ModelType: ModelType.SVR | Datasetname: orange_std_col_name_ohv_type | ScalerType: ScalerType.Normalizer_ | Params: {'kernel': 'poly', 'degree': 3, 'gamma': 'scale', 'coef0': 0, 'tol': 0.001, 'C': 1.1, 'epsilon': 0.1}\n",
      "R2: 0.2966478130409116 | MSE: 1.2899701016927074\n"
     ]
    },
    {
     "name": "stderr",
     "output_type": "stream",
     "text": [
      "100%|█████████████████████████████████████████████████████████████████████████████████| 81/81 [00:00<00:00, 457.52it/s]\n"
     ]
    },
    {
     "name": "stdout",
     "output_type": "stream",
     "text": [
      "Training | ModelType: ModelType.SVR | Datasetname: orange_std_col_name_ohv_type | ScalerType: ScalerType.RobustScaler_ | Params: {'kernel': 'poly', 'degree': 3, 'gamma': 'scale', 'coef0': 0, 'tol': 0.001, 'C': 1.1, 'epsilon': 0.1}\n",
      "R2: 0.18953378044471914 | MSE: 1.4864206169291996\n"
     ]
    },
    {
     "name": "stderr",
     "output_type": "stream",
     "text": [
      "100%|█████████████████████████████████████████████████████████████████████████████████| 81/81 [00:00<00:00, 629.74it/s]\n"
     ]
    },
    {
     "name": "stdout",
     "output_type": "stream",
     "text": [
      "Training | ModelType: ModelType.SVR | Datasetname: orange_std_col_name_ohv_type | ScalerType: ScalerType.StandardScaler_ | Params: {'kernel': 'poly', 'degree': 3, 'gamma': 'scale', 'coef0': 0, 'tol': 0.001, 'C': 1.1, 'epsilon': 0.1}\n",
      "R2: 0.1786611057780111 | MSE: 1.5063614453015735\n"
     ]
    },
    {
     "name": "stderr",
     "output_type": "stream",
     "text": [
      "100%|████████████████████████████████████████████████████████████████████████████████| 81/81 [00:00<00:00, 1029.43it/s]\n"
     ]
    },
    {
     "name": "stdout",
     "output_type": "stream",
     "text": [
      "Training | ModelType: ModelType.SVR | Datasetname: orange_std_col_name_ohv_type | ScalerType: ScalerType.Raw_ | Params: {'kernel': 'poly', 'degree': 3, 'gamma': 'scale', 'coef0': 0, 'tol': 0.001, 'C': 1.2000000000000002, 'epsilon': 0.1}\n",
      "R2: 0.26365131896550154 | MSE: 1.3504867128686608\n"
     ]
    },
    {
     "name": "stderr",
     "output_type": "stream",
     "text": [
      "100%|█████████████████████████████████████████████████████████████████████████████████| 81/81 [00:00<00:00, 774.60it/s]\n"
     ]
    },
    {
     "name": "stdout",
     "output_type": "stream",
     "text": [
      "Training | ModelType: ModelType.SVR | Datasetname: orange_std_col_name_ohv_type | ScalerType: ScalerType.MaxAbsScaler_ | Params: {'kernel': 'poly', 'degree': 3, 'gamma': 'scale', 'coef0': 0, 'tol': 0.001, 'C': 1.2000000000000002, 'epsilon': 0.1}\n",
      "R2: 0.3046434894010156 | MSE: 1.275305778984139\n"
     ]
    },
    {
     "name": "stderr",
     "output_type": "stream",
     "text": [
      "100%|█████████████████████████████████████████████████████████████████████████████████| 81/81 [00:00<00:00, 848.50it/s]\n"
     ]
    },
    {
     "name": "stdout",
     "output_type": "stream",
     "text": [
      "Training | ModelType: ModelType.SVR | Datasetname: orange_std_col_name_ohv_type | ScalerType: ScalerType.MinMaxScaler_ | Params: {'kernel': 'poly', 'degree': 3, 'gamma': 'scale', 'coef0': 0, 'tol': 0.001, 'C': 1.2000000000000002, 'epsilon': 0.1}\n",
      "R2: 0.24765326178066127 | MSE: 1.3798276544854593\n"
     ]
    },
    {
     "name": "stderr",
     "output_type": "stream",
     "text": [
      "100%|█████████████████████████████████████████████████████████████████████████████████| 81/81 [00:00<00:00, 864.50it/s]\n"
     ]
    },
    {
     "name": "stdout",
     "output_type": "stream",
     "text": [
      "Training | ModelType: ModelType.SVR | Datasetname: orange_std_col_name_ohv_type | ScalerType: ScalerType.Normalizer_ | Params: {'kernel': 'poly', 'degree': 3, 'gamma': 'scale', 'coef0': 0, 'tol': 0.001, 'C': 1.2000000000000002, 'epsilon': 0.1}\n",
      "R2: 0.29297982988278704 | MSE: 1.2966972985298282\n"
     ]
    },
    {
     "name": "stderr",
     "output_type": "stream",
     "text": [
      "100%|█████████████████████████████████████████████████████████████████████████████████| 81/81 [00:00<00:00, 504.80it/s]\n"
     ]
    },
    {
     "name": "stdout",
     "output_type": "stream",
     "text": [
      "Training | ModelType: ModelType.SVR | Datasetname: orange_std_col_name_ohv_type | ScalerType: ScalerType.RobustScaler_ | Params: {'kernel': 'poly', 'degree': 3, 'gamma': 'scale', 'coef0': 0, 'tol': 0.001, 'C': 1.2000000000000002, 'epsilon': 0.1}\n",
      "R2: 0.18768676095387038 | MSE: 1.4898081089490078\n"
     ]
    },
    {
     "name": "stderr",
     "output_type": "stream",
     "text": [
      "100%|█████████████████████████████████████████████████████████████████████████████████| 81/81 [00:00<00:00, 643.19it/s]\n"
     ]
    },
    {
     "name": "stdout",
     "output_type": "stream",
     "text": [
      "Training | ModelType: ModelType.SVR | Datasetname: orange_std_col_name_ohv_type | ScalerType: ScalerType.StandardScaler_ | Params: {'kernel': 'poly', 'degree': 3, 'gamma': 'scale', 'coef0': 0, 'tol': 0.001, 'C': 1.2000000000000002, 'epsilon': 0.1}\n",
      "R2: 0.18860647457344337 | MSE: 1.4881213251536831\n"
     ]
    },
    {
     "name": "stderr",
     "output_type": "stream",
     "text": [
      "100%|████████████████████████████████████████████████████████████████████████████████| 81/81 [00:00<00:00, 1521.91it/s]\n"
     ]
    },
    {
     "name": "stdout",
     "output_type": "stream",
     "text": [
      "Training | ModelType: ModelType.SVR | Datasetname: orange_std_col_name_ohv_type | ScalerType: ScalerType.Raw_ | Params: {'kernel': 'rbf', 'degree': 3, 'gamma': 'scale', 'coef0': 0, 'tol': 0.001, 'C': 1.2000000000000002, 'epsilon': 0.1}\n",
      "R2: 0.21353483271629914 | MSE: 1.4424019298282766\n"
     ]
    },
    {
     "name": "stderr",
     "output_type": "stream",
     "text": [
      "100%|████████████████████████████████████████████████████████████████████████████████| 81/81 [00:00<00:00, 1036.53it/s]\n"
     ]
    },
    {
     "name": "stdout",
     "output_type": "stream",
     "text": [
      "Training | ModelType: ModelType.SVR | Datasetname: orange_std_col_name_ohv_type | ScalerType: ScalerType.MaxAbsScaler_ | Params: {'kernel': 'rbf', 'degree': 3, 'gamma': 'scale', 'coef0': 0, 'tol': 0.001, 'C': 1.2000000000000002, 'epsilon': 0.1}\n",
      "R2: 0.30190377621800757 | MSE: 1.2803304993999147\n"
     ]
    },
    {
     "name": "stderr",
     "output_type": "stream",
     "text": [
      "100%|████████████████████████████████████████████████████████████████████████████████| 81/81 [00:00<00:00, 1072.49it/s]\n"
     ]
    },
    {
     "name": "stdout",
     "output_type": "stream",
     "text": [
      "Training | ModelType: ModelType.SVR | Datasetname: orange_std_col_name_ohv_type | ScalerType: ScalerType.MinMaxScaler_ | Params: {'kernel': 'rbf', 'degree': 3, 'gamma': 'scale', 'coef0': 0, 'tol': 0.001, 'C': 1.2000000000000002, 'epsilon': 0.1}\n",
      "R2: 0.2926368509291355 | MSE: 1.2973263327518347\n"
     ]
    },
    {
     "name": "stderr",
     "output_type": "stream",
     "text": [
      "100%|█████████████████████████████████████████████████████████████████████████████████| 81/81 [00:00<00:00, 849.57it/s]\n"
     ]
    },
    {
     "name": "stdout",
     "output_type": "stream",
     "text": [
      "Training | ModelType: ModelType.SVR | Datasetname: orange_std_col_name_ohv_type | ScalerType: ScalerType.Normalizer_ | Params: {'kernel': 'rbf', 'degree': 3, 'gamma': 'scale', 'coef0': 0, 'tol': 0.001, 'C': 1.2000000000000002, 'epsilon': 0.1}\n",
      "R2: 0.33042621183543586 | MSE: 1.2280194525927512\n"
     ]
    },
    {
     "name": "stderr",
     "output_type": "stream",
     "text": [
      "100%|█████████████████████████████████████████████████████████████████████████████████| 81/81 [00:00<00:00, 541.17it/s]\n"
     ]
    },
    {
     "name": "stdout",
     "output_type": "stream",
     "text": [
      "Training | ModelType: ModelType.SVR | Datasetname: orange_std_col_name_ohv_type | ScalerType: ScalerType.RobustScaler_ | Params: {'kernel': 'rbf', 'degree': 3, 'gamma': 'scale', 'coef0': 0, 'tol': 0.001, 'C': 1.2000000000000002, 'epsilon': 0.1}\n",
      "R2: 0.27329425920822104 | MSE: 1.3328012562280873\n"
     ]
    },
    {
     "name": "stderr",
     "output_type": "stream",
     "text": [
      "100%|█████████████████████████████████████████████████████████████████████████████████| 81/81 [00:00<00:00, 853.13it/s]\n"
     ]
    },
    {
     "name": "stdout",
     "output_type": "stream",
     "text": [
      "Training | ModelType: ModelType.SVR | Datasetname: orange_std_col_name_ohv_type | ScalerType: ScalerType.StandardScaler_ | Params: {'kernel': 'rbf', 'degree': 3, 'gamma': 'scale', 'coef0': 0, 'tol': 0.001, 'C': 1.2000000000000002, 'epsilon': 0.1}\n",
      "R2: 0.2782434233987702 | MSE: 1.3237243329561503\n"
     ]
    },
    {
     "name": "stderr",
     "output_type": "stream",
     "text": [
      "100%|████████████████████████████████████████████████████████████████████████████████| 81/81 [00:00<00:00, 1067.60it/s]\n"
     ]
    },
    {
     "name": "stdout",
     "output_type": "stream",
     "text": [
      "Training | ModelType: ModelType.SVR | Datasetname: orange_std_col_name_ohv_type | ScalerType: ScalerType.Raw_ | Params: {'kernel': 'rbf', 'degree': 3, 'gamma': 'scale', 'coef0': 0, 'tol': 0.001, 'C': 1.2000000000000002, 'epsilon': 0.1}\n",
      "R2: 0.21353483271629914 | MSE: 1.4424019298282766\n"
     ]
    },
    {
     "name": "stderr",
     "output_type": "stream",
     "text": [
      "100%|████████████████████████████████████████████████████████████████████████████████| 81/81 [00:00<00:00, 1092.02it/s]\n"
     ]
    },
    {
     "name": "stdout",
     "output_type": "stream",
     "text": [
      "Training | ModelType: ModelType.SVR | Datasetname: orange_std_col_name_ohv_type | ScalerType: ScalerType.MaxAbsScaler_ | Params: {'kernel': 'rbf', 'degree': 3, 'gamma': 'scale', 'coef0': 0, 'tol': 0.001, 'C': 1.2000000000000002, 'epsilon': 0.1}\n",
      "R2: 0.30190377621800757 | MSE: 1.2803304993999147\n"
     ]
    },
    {
     "name": "stderr",
     "output_type": "stream",
     "text": [
      "100%|█████████████████████████████████████████████████████████████████████████████████| 81/81 [00:00<00:00, 901.21it/s]\n"
     ]
    },
    {
     "name": "stdout",
     "output_type": "stream",
     "text": [
      "Training | ModelType: ModelType.SVR | Datasetname: orange_std_col_name_ohv_type | ScalerType: ScalerType.MinMaxScaler_ | Params: {'kernel': 'rbf', 'degree': 3, 'gamma': 'scale', 'coef0': 0, 'tol': 0.001, 'C': 1.2000000000000002, 'epsilon': 0.1}\n",
      "R2: 0.2926368509291355 | MSE: 1.2973263327518347\n"
     ]
    },
    {
     "name": "stderr",
     "output_type": "stream",
     "text": [
      "100%|█████████████████████████████████████████████████████████████████████████████████| 81/81 [00:00<00:00, 835.10it/s]\n"
     ]
    },
    {
     "name": "stdout",
     "output_type": "stream",
     "text": [
      "Training | ModelType: ModelType.SVR | Datasetname: orange_std_col_name_ohv_type | ScalerType: ScalerType.Normalizer_ | Params: {'kernel': 'rbf', 'degree': 3, 'gamma': 'scale', 'coef0': 0, 'tol': 0.001, 'C': 1.2000000000000002, 'epsilon': 0.1}\n",
      "R2: 0.33042621183543586 | MSE: 1.2280194525927512\n"
     ]
    },
    {
     "name": "stderr",
     "output_type": "stream",
     "text": [
      "100%|█████████████████████████████████████████████████████████████████████████████████| 81/81 [00:00<00:00, 533.54it/s]\n"
     ]
    },
    {
     "name": "stdout",
     "output_type": "stream",
     "text": [
      "Training | ModelType: ModelType.SVR | Datasetname: orange_std_col_name_ohv_type | ScalerType: ScalerType.RobustScaler_ | Params: {'kernel': 'rbf', 'degree': 3, 'gamma': 'scale', 'coef0': 0, 'tol': 0.001, 'C': 1.2000000000000002, 'epsilon': 0.1}\n",
      "R2: 0.27329425920822104 | MSE: 1.3328012562280873\n"
     ]
    },
    {
     "name": "stderr",
     "output_type": "stream",
     "text": [
      "100%|█████████████████████████████████████████████████████████████████████████████████| 81/81 [00:00<00:00, 701.29it/s]\n"
     ]
    },
    {
     "name": "stdout",
     "output_type": "stream",
     "text": [
      "Training | ModelType: ModelType.SVR | Datasetname: orange_std_col_name_ohv_type | ScalerType: ScalerType.StandardScaler_ | Params: {'kernel': 'rbf', 'degree': 3, 'gamma': 'scale', 'coef0': 0, 'tol': 0.001, 'C': 1.2000000000000002, 'epsilon': 0.1}\n",
      "R2: 0.2782434233987702 | MSE: 1.3237243329561503\n"
     ]
    },
    {
     "name": "stderr",
     "output_type": "stream",
     "text": [
      "100%|██████████████████████████████████████████████████████████████████████████████████| 81/81 [00:10<00:00,  7.99it/s]\n"
     ]
    },
    {
     "name": "stdout",
     "output_type": "stream",
     "text": [
      "Training | ModelType: ModelType.SVR | Datasetname: orange_std_col_name_ohv_type | ScalerType: ScalerType.Raw_ | Params: {'kernel': 'linear', 'degree': 3, 'gamma': 'scale', 'coef0': 0, 'tol': 0.001, 'C': 1.2000000000000002, 'epsilon': 0.1}\n",
      "R2: 0.29954327999436237 | MSE: 1.2846597239478978\n"
     ]
    },
    {
     "name": "stderr",
     "output_type": "stream",
     "text": [
      "100%|████████████████████████████████████████████████████████████████████████████████| 81/81 [00:00<00:00, 1012.69it/s]\n"
     ]
    },
    {
     "name": "stdout",
     "output_type": "stream",
     "text": [
      "Training | ModelType: ModelType.SVR | Datasetname: orange_std_col_name_ohv_type | ScalerType: ScalerType.MaxAbsScaler_ | Params: {'kernel': 'linear', 'degree': 3, 'gamma': 'scale', 'coef0': 0, 'tol': 0.001, 'C': 1.2000000000000002, 'epsilon': 0.1}\n",
      "R2: 0.28032592289216396 | MSE: 1.3199049631822644\n"
     ]
    },
    {
     "name": "stderr",
     "output_type": "stream",
     "text": [
      "100%|█████████████████████████████████████████████████████████████████████████████████| 81/81 [00:00<00:00, 959.94it/s]\n"
     ]
    },
    {
     "name": "stdout",
     "output_type": "stream",
     "text": [
      "Training | ModelType: ModelType.SVR | Datasetname: orange_std_col_name_ohv_type | ScalerType: ScalerType.MinMaxScaler_ | Params: {'kernel': 'linear', 'degree': 3, 'gamma': 'scale', 'coef0': 0, 'tol': 0.001, 'C': 1.2000000000000002, 'epsilon': 0.1}\n",
      "R2: 0.2783171910412996 | MSE: 1.3235890407723772\n"
     ]
    },
    {
     "name": "stderr",
     "output_type": "stream",
     "text": [
      "100%|█████████████████████████████████████████████████████████████████████████████████| 81/81 [00:00<00:00, 850.22it/s]\n"
     ]
    },
    {
     "name": "stdout",
     "output_type": "stream",
     "text": [
      "Training | ModelType: ModelType.SVR | Datasetname: orange_std_col_name_ohv_type | ScalerType: ScalerType.Normalizer_ | Params: {'kernel': 'linear', 'degree': 3, 'gamma': 'scale', 'coef0': 0, 'tol': 0.001, 'C': 1.2000000000000002, 'epsilon': 0.1}\n",
      "R2: 0.30452325137468217 | MSE: 1.2755262993179528\n"
     ]
    },
    {
     "name": "stderr",
     "output_type": "stream",
     "text": [
      "100%|█████████████████████████████████████████████████████████████████████████████████| 81/81 [00:00<00:00, 489.57it/s]\n"
     ]
    },
    {
     "name": "stdout",
     "output_type": "stream",
     "text": [
      "Training | ModelType: ModelType.SVR | Datasetname: orange_std_col_name_ohv_type | ScalerType: ScalerType.RobustScaler_ | Params: {'kernel': 'linear', 'degree': 3, 'gamma': 'scale', 'coef0': 0, 'tol': 0.001, 'C': 1.2000000000000002, 'epsilon': 0.1}\n",
      "R2: 0.30599428354607583 | MSE: 1.2728283799044509\n"
     ]
    },
    {
     "name": "stderr",
     "output_type": "stream",
     "text": [
      "100%|█████████████████████████████████████████████████████████████████████████████████| 81/81 [00:00<00:00, 715.07it/s]\n"
     ]
    },
    {
     "name": "stdout",
     "output_type": "stream",
     "text": [
      "Training | ModelType: ModelType.SVR | Datasetname: orange_std_col_name_ohv_type | ScalerType: ScalerType.StandardScaler_ | Params: {'kernel': 'linear', 'degree': 3, 'gamma': 'scale', 'coef0': 0, 'tol': 0.001, 'C': 1.2000000000000002, 'epsilon': 0.1}\n",
      "R2: 0.3011926108642824 | MSE: 1.2816347990959625\n"
     ]
    },
    {
     "name": "stderr",
     "output_type": "stream",
     "text": [
      "100%|██████████████████████████████████████████████████████████████████████████████████| 81/81 [00:10<00:00,  7.98it/s]\n"
     ]
    },
    {
     "name": "stdout",
     "output_type": "stream",
     "text": [
      "Training | ModelType: ModelType.SVR | Datasetname: orange_std_col_name_ohv_type | ScalerType: ScalerType.Raw_ | Params: {'kernel': 'linear', 'degree': 3, 'gamma': 'scale', 'coef0': 0, 'tol': 0.001, 'C': 1.2000000000000002, 'epsilon': 0.1}\n",
      "R2: 0.29954327999436237 | MSE: 1.2846597239478978\n"
     ]
    },
    {
     "name": "stderr",
     "output_type": "stream",
     "text": [
      "100%|████████████████████████████████████████████████████████████████████████████████| 81/81 [00:00<00:00, 1057.50it/s]\n"
     ]
    },
    {
     "name": "stdout",
     "output_type": "stream",
     "text": [
      "Training | ModelType: ModelType.SVR | Datasetname: orange_std_col_name_ohv_type | ScalerType: ScalerType.MaxAbsScaler_ | Params: {'kernel': 'linear', 'degree': 3, 'gamma': 'scale', 'coef0': 0, 'tol': 0.001, 'C': 1.2000000000000002, 'epsilon': 0.1}\n",
      "R2: 0.28032592289216396 | MSE: 1.3199049631822644\n"
     ]
    },
    {
     "name": "stderr",
     "output_type": "stream",
     "text": [
      "100%|█████████████████████████████████████████████████████████████████████████████████| 81/81 [00:00<00:00, 851.66it/s]\n"
     ]
    },
    {
     "name": "stdout",
     "output_type": "stream",
     "text": [
      "Training | ModelType: ModelType.SVR | Datasetname: orange_std_col_name_ohv_type | ScalerType: ScalerType.MinMaxScaler_ | Params: {'kernel': 'linear', 'degree': 3, 'gamma': 'scale', 'coef0': 0, 'tol': 0.001, 'C': 1.2000000000000002, 'epsilon': 0.1}\n",
      "R2: 0.2783171910412996 | MSE: 1.3235890407723772\n"
     ]
    },
    {
     "name": "stderr",
     "output_type": "stream",
     "text": [
      "100%|█████████████████████████████████████████████████████████████████████████████████| 81/81 [00:00<00:00, 945.86it/s]\n"
     ]
    },
    {
     "name": "stdout",
     "output_type": "stream",
     "text": [
      "Training | ModelType: ModelType.SVR | Datasetname: orange_std_col_name_ohv_type | ScalerType: ScalerType.Normalizer_ | Params: {'kernel': 'linear', 'degree': 3, 'gamma': 'scale', 'coef0': 0, 'tol': 0.001, 'C': 1.2000000000000002, 'epsilon': 0.1}\n",
      "R2: 0.30452325137468217 | MSE: 1.2755262993179528\n"
     ]
    },
    {
     "name": "stderr",
     "output_type": "stream",
     "text": [
      "100%|█████████████████████████████████████████████████████████████████████████████████| 81/81 [00:00<00:00, 526.60it/s]\n"
     ]
    },
    {
     "name": "stdout",
     "output_type": "stream",
     "text": [
      "Training | ModelType: ModelType.SVR | Datasetname: orange_std_col_name_ohv_type | ScalerType: ScalerType.RobustScaler_ | Params: {'kernel': 'linear', 'degree': 3, 'gamma': 'scale', 'coef0': 0, 'tol': 0.001, 'C': 1.2000000000000002, 'epsilon': 0.1}\n",
      "R2: 0.30599428354607583 | MSE: 1.2728283799044509\n"
     ]
    },
    {
     "name": "stderr",
     "output_type": "stream",
     "text": [
      "100%|█████████████████████████████████████████████████████████████████████████████████| 81/81 [00:00<00:00, 684.37it/s]\n"
     ]
    },
    {
     "name": "stdout",
     "output_type": "stream",
     "text": [
      "Training | ModelType: ModelType.SVR | Datasetname: orange_std_col_name_ohv_type | ScalerType: ScalerType.StandardScaler_ | Params: {'kernel': 'linear', 'degree': 3, 'gamma': 'scale', 'coef0': 0, 'tol': 0.001, 'C': 1.2000000000000002, 'epsilon': 0.1}\n",
      "R2: 0.3011926108642824 | MSE: 1.2816347990959625\n"
     ]
    },
    {
     "name": "stderr",
     "output_type": "stream",
     "text": [
      "100%|████████████████████████████████████████████████████████████████████████████████| 81/81 [00:00<00:00, 1139.44it/s]\n"
     ]
    },
    {
     "name": "stdout",
     "output_type": "stream",
     "text": [
      "Training | ModelType: ModelType.SVR | Datasetname: orange_std_col_name_ohv_type | ScalerType: ScalerType.Raw_ | Params: {'kernel': 'poly', 'degree': 3, 'gamma': 'scale', 'coef0': 0, 'tol': 0.001, 'C': 1.2000000000000002, 'epsilon': 0.1}\n",
      "R2: 0.26365131896550154 | MSE: 1.3504867128686608\n"
     ]
    },
    {
     "name": "stderr",
     "output_type": "stream",
     "text": [
      "100%|█████████████████████████████████████████████████████████████████████████████████| 81/81 [00:00<00:00, 929.48it/s]\n"
     ]
    },
    {
     "name": "stdout",
     "output_type": "stream",
     "text": [
      "Training | ModelType: ModelType.SVR | Datasetname: orange_std_col_name_ohv_type | ScalerType: ScalerType.MaxAbsScaler_ | Params: {'kernel': 'poly', 'degree': 3, 'gamma': 'scale', 'coef0': 0, 'tol': 0.001, 'C': 1.2000000000000002, 'epsilon': 0.1}\n",
      "R2: 0.3046434894010156 | MSE: 1.275305778984139\n"
     ]
    },
    {
     "name": "stderr",
     "output_type": "stream",
     "text": [
      "100%|█████████████████████████████████████████████████████████████████████████████████| 81/81 [00:00<00:00, 885.47it/s]\n"
     ]
    },
    {
     "name": "stdout",
     "output_type": "stream",
     "text": [
      "Training | ModelType: ModelType.SVR | Datasetname: orange_std_col_name_ohv_type | ScalerType: ScalerType.MinMaxScaler_ | Params: {'kernel': 'poly', 'degree': 3, 'gamma': 'scale', 'coef0': 0, 'tol': 0.001, 'C': 1.2000000000000002, 'epsilon': 0.1}\n",
      "R2: 0.24765326178066127 | MSE: 1.3798276544854593\n"
     ]
    },
    {
     "name": "stderr",
     "output_type": "stream",
     "text": [
      "100%|█████████████████████████████████████████████████████████████████████████████████| 81/81 [00:00<00:00, 920.78it/s]\n"
     ]
    },
    {
     "name": "stdout",
     "output_type": "stream",
     "text": [
      "Training | ModelType: ModelType.SVR | Datasetname: orange_std_col_name_ohv_type | ScalerType: ScalerType.Normalizer_ | Params: {'kernel': 'poly', 'degree': 3, 'gamma': 'scale', 'coef0': 0, 'tol': 0.001, 'C': 1.2000000000000002, 'epsilon': 0.1}\n",
      "R2: 0.29297982988278704 | MSE: 1.2966972985298282\n"
     ]
    },
    {
     "name": "stderr",
     "output_type": "stream",
     "text": [
      "100%|█████████████████████████████████████████████████████████████████████████████████| 81/81 [00:00<00:00, 461.54it/s]\n"
     ]
    },
    {
     "name": "stdout",
     "output_type": "stream",
     "text": [
      "Training | ModelType: ModelType.SVR | Datasetname: orange_std_col_name_ohv_type | ScalerType: ScalerType.RobustScaler_ | Params: {'kernel': 'poly', 'degree': 3, 'gamma': 'scale', 'coef0': 0, 'tol': 0.001, 'C': 1.2000000000000002, 'epsilon': 0.1}\n",
      "R2: 0.18768676095387038 | MSE: 1.4898081089490078\n"
     ]
    },
    {
     "name": "stderr",
     "output_type": "stream",
     "text": [
      "100%|█████████████████████████████████████████████████████████████████████████████████| 81/81 [00:00<00:00, 710.89it/s]\n"
     ]
    },
    {
     "name": "stdout",
     "output_type": "stream",
     "text": [
      "Training | ModelType: ModelType.SVR | Datasetname: orange_std_col_name_ohv_type | ScalerType: ScalerType.StandardScaler_ | Params: {'kernel': 'poly', 'degree': 3, 'gamma': 'scale', 'coef0': 0, 'tol': 0.001, 'C': 1.2000000000000002, 'epsilon': 0.1}\n",
      "R2: 0.18860647457344337 | MSE: 1.4881213251536831\n"
     ]
    },
    {
     "name": "stderr",
     "output_type": "stream",
     "text": [
      "100%|████████████████████████████████████████████████████████████████████████████████| 81/81 [00:00<00:00, 1074.90it/s]\n"
     ]
    },
    {
     "name": "stdout",
     "output_type": "stream",
     "text": [
      "Training | ModelType: ModelType.SVR | Datasetname: orange_std_col_name_ohv_type | ScalerType: ScalerType.Raw_ | Params: {'kernel': 'poly', 'degree': 3, 'gamma': 'scale', 'coef0': 0, 'tol': 0.001, 'C': 1.3000000000000003, 'epsilon': 0.1}\n",
      "R2: 0.2679065311710441 | MSE: 1.3426825194314587\n"
     ]
    },
    {
     "name": "stderr",
     "output_type": "stream",
     "text": [
      "100%|█████████████████████████████████████████████████████████████████████████████████| 81/81 [00:00<00:00, 871.91it/s]\n"
     ]
    },
    {
     "name": "stdout",
     "output_type": "stream",
     "text": [
      "Training | ModelType: ModelType.SVR | Datasetname: orange_std_col_name_ohv_type | ScalerType: ScalerType.MaxAbsScaler_ | Params: {'kernel': 'poly', 'degree': 3, 'gamma': 'scale', 'coef0': 0, 'tol': 0.001, 'C': 1.3000000000000003, 'epsilon': 0.1}\n",
      "R2: 0.30218930866510707 | MSE: 1.279806823883366\n"
     ]
    },
    {
     "name": "stderr",
     "output_type": "stream",
     "text": [
      "100%|█████████████████████████████████████████████████████████████████████████████████| 81/81 [00:00<00:00, 747.31it/s]\n"
     ]
    },
    {
     "name": "stdout",
     "output_type": "stream",
     "text": [
      "Training | ModelType: ModelType.SVR | Datasetname: orange_std_col_name_ohv_type | ScalerType: ScalerType.MinMaxScaler_ | Params: {'kernel': 'poly', 'degree': 3, 'gamma': 'scale', 'coef0': 0, 'tol': 0.001, 'C': 1.3000000000000003, 'epsilon': 0.1}\n",
      "R2: 0.24516089518798312 | MSE: 1.384398733450768\n"
     ]
    },
    {
     "name": "stderr",
     "output_type": "stream",
     "text": [
      "100%|█████████████████████████████████████████████████████████████████████████████████| 81/81 [00:00<00:00, 903.64it/s]\n"
     ]
    },
    {
     "name": "stdout",
     "output_type": "stream",
     "text": [
      "Training | ModelType: ModelType.SVR | Datasetname: orange_std_col_name_ohv_type | ScalerType: ScalerType.Normalizer_ | Params: {'kernel': 'poly', 'degree': 3, 'gamma': 'scale', 'coef0': 0, 'tol': 0.001, 'C': 1.3000000000000003, 'epsilon': 0.1}\n",
      "R2: 0.289394277830898 | MSE: 1.3032733141174058\n"
     ]
    },
    {
     "name": "stderr",
     "output_type": "stream",
     "text": [
      "100%|█████████████████████████████████████████████████████████████████████████████████| 81/81 [00:00<00:00, 491.83it/s]\n"
     ]
    },
    {
     "name": "stdout",
     "output_type": "stream",
     "text": [
      "Training | ModelType: ModelType.SVR | Datasetname: orange_std_col_name_ohv_type | ScalerType: ScalerType.RobustScaler_ | Params: {'kernel': 'poly', 'degree': 3, 'gamma': 'scale', 'coef0': 0, 'tol': 0.001, 'C': 1.3000000000000003, 'epsilon': 0.1}\n",
      "R2: 0.18883033676638272 | MSE: 1.4877107548289648\n"
     ]
    },
    {
     "name": "stderr",
     "output_type": "stream",
     "text": [
      "100%|█████████████████████████████████████████████████████████████████████████████████| 81/81 [00:00<00:00, 630.65it/s]\n"
     ]
    },
    {
     "name": "stdout",
     "output_type": "stream",
     "text": [
      "Training | ModelType: ModelType.SVR | Datasetname: orange_std_col_name_ohv_type | ScalerType: ScalerType.StandardScaler_ | Params: {'kernel': 'poly', 'degree': 3, 'gamma': 'scale', 'coef0': 0, 'tol': 0.001, 'C': 1.3000000000000003, 'epsilon': 0.1}\n",
      "R2: 0.1937479659090482 | MSE: 1.4786916678297797\n"
     ]
    },
    {
     "name": "stderr",
     "output_type": "stream",
     "text": [
      "100%|████████████████████████████████████████████████████████████████████████████████| 81/81 [00:00<00:00, 1369.74it/s]\n"
     ]
    },
    {
     "name": "stdout",
     "output_type": "stream",
     "text": [
      "Training | ModelType: ModelType.SVR | Datasetname: orange_std_col_name_ohv_type | ScalerType: ScalerType.Raw_ | Params: {'kernel': 'rbf', 'degree': 3, 'gamma': 'scale', 'coef0': 0, 'tol': 0.001, 'C': 1.3000000000000003, 'epsilon': 0.1}\n",
      "R2: 0.21601091429667862 | MSE: 1.4378607180893168\n"
     ]
    },
    {
     "name": "stderr",
     "output_type": "stream",
     "text": [
      "100%|█████████████████████████████████████████████████████████████████████████████████| 81/81 [00:00<00:00, 986.07it/s]\n"
     ]
    },
    {
     "name": "stdout",
     "output_type": "stream",
     "text": [
      "Training | ModelType: ModelType.SVR | Datasetname: orange_std_col_name_ohv_type | ScalerType: ScalerType.MaxAbsScaler_ | Params: {'kernel': 'rbf', 'degree': 3, 'gamma': 'scale', 'coef0': 0, 'tol': 0.001, 'C': 1.3000000000000003, 'epsilon': 0.1}\n",
      "R2: 0.3010461194133962 | MSE: 1.281903469038703\n"
     ]
    },
    {
     "name": "stderr",
     "output_type": "stream",
     "text": [
      "100%|█████████████████████████████████████████████████████████████████████████████████| 81/81 [00:00<00:00, 866.28it/s]\n"
     ]
    },
    {
     "name": "stdout",
     "output_type": "stream",
     "text": [
      "Training | ModelType: ModelType.SVR | Datasetname: orange_std_col_name_ohv_type | ScalerType: ScalerType.MinMaxScaler_ | Params: {'kernel': 'rbf', 'degree': 3, 'gamma': 'scale', 'coef0': 0, 'tol': 0.001, 'C': 1.3000000000000003, 'epsilon': 0.1}\n",
      "R2: 0.29233785290287573 | MSE: 1.297874704565403\n"
     ]
    },
    {
     "name": "stderr",
     "output_type": "stream",
     "text": [
      "100%|█████████████████████████████████████████████████████████████████████████████████| 81/81 [00:00<00:00, 735.76it/s]\n"
     ]
    },
    {
     "name": "stdout",
     "output_type": "stream",
     "text": [
      "Training | ModelType: ModelType.SVR | Datasetname: orange_std_col_name_ohv_type | ScalerType: ScalerType.Normalizer_ | Params: {'kernel': 'rbf', 'degree': 3, 'gamma': 'scale', 'coef0': 0, 'tol': 0.001, 'C': 1.3000000000000003, 'epsilon': 0.1}\n",
      "R2: 0.33186683955782603 | MSE: 1.2253772958979843\n"
     ]
    },
    {
     "name": "stderr",
     "output_type": "stream",
     "text": [
      "100%|█████████████████████████████████████████████████████████████████████████████████| 81/81 [00:00<00:00, 546.59it/s]\n"
     ]
    },
    {
     "name": "stdout",
     "output_type": "stream",
     "text": [
      "Training | ModelType: ModelType.SVR | Datasetname: orange_std_col_name_ohv_type | ScalerType: ScalerType.RobustScaler_ | Params: {'kernel': 'rbf', 'degree': 3, 'gamma': 'scale', 'coef0': 0, 'tol': 0.001, 'C': 1.3000000000000003, 'epsilon': 0.1}\n",
      "R2: 0.27307553735273615 | MSE: 1.333202399011736\n"
     ]
    },
    {
     "name": "stderr",
     "output_type": "stream",
     "text": [
      "100%|█████████████████████████████████████████████████████████████████████████████████| 81/81 [00:00<00:00, 931.56it/s]\n"
     ]
    },
    {
     "name": "stdout",
     "output_type": "stream",
     "text": [
      "Training | ModelType: ModelType.SVR | Datasetname: orange_std_col_name_ohv_type | ScalerType: ScalerType.StandardScaler_ | Params: {'kernel': 'rbf', 'degree': 3, 'gamma': 'scale', 'coef0': 0, 'tol': 0.001, 'C': 1.3000000000000003, 'epsilon': 0.1}\n",
      "R2: 0.2763739759780277 | MSE: 1.3271529585069863\n"
     ]
    },
    {
     "name": "stderr",
     "output_type": "stream",
     "text": [
      "100%|████████████████████████████████████████████████████████████████████████████████| 81/81 [00:00<00:00, 1571.41it/s]\n"
     ]
    },
    {
     "name": "stdout",
     "output_type": "stream",
     "text": [
      "Training | ModelType: ModelType.SVR | Datasetname: orange_std_col_name_ohv_type | ScalerType: ScalerType.Raw_ | Params: {'kernel': 'rbf', 'degree': 3, 'gamma': 'scale', 'coef0': 0, 'tol': 0.001, 'C': 1.3000000000000003, 'epsilon': 0.1}\n",
      "R2: 0.21601091429667862 | MSE: 1.4378607180893168\n"
     ]
    },
    {
     "name": "stderr",
     "output_type": "stream",
     "text": [
      "100%|█████████████████████████████████████████████████████████████████████████████████| 81/81 [00:00<00:00, 970.01it/s]\n"
     ]
    },
    {
     "name": "stdout",
     "output_type": "stream",
     "text": [
      "Training | ModelType: ModelType.SVR | Datasetname: orange_std_col_name_ohv_type | ScalerType: ScalerType.MaxAbsScaler_ | Params: {'kernel': 'rbf', 'degree': 3, 'gamma': 'scale', 'coef0': 0, 'tol': 0.001, 'C': 1.3000000000000003, 'epsilon': 0.1}\n",
      "R2: 0.3010461194133962 | MSE: 1.281903469038703\n"
     ]
    },
    {
     "name": "stderr",
     "output_type": "stream",
     "text": [
      "100%|█████████████████████████████████████████████████████████████████████████████████| 81/81 [00:00<00:00, 884.05it/s]\n"
     ]
    },
    {
     "name": "stdout",
     "output_type": "stream",
     "text": [
      "Training | ModelType: ModelType.SVR | Datasetname: orange_std_col_name_ohv_type | ScalerType: ScalerType.MinMaxScaler_ | Params: {'kernel': 'rbf', 'degree': 3, 'gamma': 'scale', 'coef0': 0, 'tol': 0.001, 'C': 1.3000000000000003, 'epsilon': 0.1}\n",
      "R2: 0.29233785290287573 | MSE: 1.297874704565403\n"
     ]
    },
    {
     "name": "stderr",
     "output_type": "stream",
     "text": [
      "100%|█████████████████████████████████████████████████████████████████████████████████| 81/81 [00:00<00:00, 829.39it/s]\n"
     ]
    },
    {
     "name": "stdout",
     "output_type": "stream",
     "text": [
      "Training | ModelType: ModelType.SVR | Datasetname: orange_std_col_name_ohv_type | ScalerType: ScalerType.Normalizer_ | Params: {'kernel': 'rbf', 'degree': 3, 'gamma': 'scale', 'coef0': 0, 'tol': 0.001, 'C': 1.3000000000000003, 'epsilon': 0.1}\n",
      "R2: 0.33186683955782603 | MSE: 1.2253772958979843\n"
     ]
    },
    {
     "name": "stderr",
     "output_type": "stream",
     "text": [
      "100%|█████████████████████████████████████████████████████████████████████████████████| 81/81 [00:00<00:00, 530.12it/s]\n"
     ]
    },
    {
     "name": "stdout",
     "output_type": "stream",
     "text": [
      "Training | ModelType: ModelType.SVR | Datasetname: orange_std_col_name_ohv_type | ScalerType: ScalerType.RobustScaler_ | Params: {'kernel': 'rbf', 'degree': 3, 'gamma': 'scale', 'coef0': 0, 'tol': 0.001, 'C': 1.3000000000000003, 'epsilon': 0.1}\n",
      "R2: 0.27307553735273615 | MSE: 1.333202399011736\n"
     ]
    },
    {
     "name": "stderr",
     "output_type": "stream",
     "text": [
      "100%|█████████████████████████████████████████████████████████████████████████████████| 81/81 [00:00<00:00, 848.98it/s]\n"
     ]
    },
    {
     "name": "stdout",
     "output_type": "stream",
     "text": [
      "Training | ModelType: ModelType.SVR | Datasetname: orange_std_col_name_ohv_type | ScalerType: ScalerType.StandardScaler_ | Params: {'kernel': 'rbf', 'degree': 3, 'gamma': 'scale', 'coef0': 0, 'tol': 0.001, 'C': 1.3000000000000003, 'epsilon': 0.1}\n",
      "R2: 0.2763739759780277 | MSE: 1.3271529585069863\n"
     ]
    },
    {
     "name": "stderr",
     "output_type": "stream",
     "text": [
      "100%|██████████████████████████████████████████████████████████████████████████████████| 81/81 [00:11<00:00,  7.19it/s]\n"
     ]
    },
    {
     "name": "stdout",
     "output_type": "stream",
     "text": [
      "Training | ModelType: ModelType.SVR | Datasetname: orange_std_col_name_ohv_type | ScalerType: ScalerType.Raw_ | Params: {'kernel': 'linear', 'degree': 3, 'gamma': 'scale', 'coef0': 0, 'tol': 0.001, 'C': 1.3000000000000003, 'epsilon': 0.1}\n",
      "R2: 0.2981303364325625 | MSE: 1.287251107018705\n"
     ]
    },
    {
     "name": "stderr",
     "output_type": "stream",
     "text": [
      "100%|████████████████████████████████████████████████████████████████████████████████| 81/81 [00:00<00:00, 1069.33it/s]\n"
     ]
    },
    {
     "name": "stdout",
     "output_type": "stream",
     "text": [
      "Training | ModelType: ModelType.SVR | Datasetname: orange_std_col_name_ohv_type | ScalerType: ScalerType.MaxAbsScaler_ | Params: {'kernel': 'linear', 'degree': 3, 'gamma': 'scale', 'coef0': 0, 'tol': 0.001, 'C': 1.3000000000000003, 'epsilon': 0.1}\n",
      "R2: 0.2789349402875384 | MSE: 1.3224560691647442\n"
     ]
    },
    {
     "name": "stderr",
     "output_type": "stream",
     "text": [
      "100%|████████████████████████████████████████████████████████████████████████████████| 81/81 [00:00<00:00, 1011.26it/s]\n"
     ]
    },
    {
     "name": "stdout",
     "output_type": "stream",
     "text": [
      "Training | ModelType: ModelType.SVR | Datasetname: orange_std_col_name_ohv_type | ScalerType: ScalerType.MinMaxScaler_ | Params: {'kernel': 'linear', 'degree': 3, 'gamma': 'scale', 'coef0': 0, 'tol': 0.001, 'C': 1.3000000000000003, 'epsilon': 0.1}\n",
      "R2: 0.27420423907013913 | MSE: 1.3311323244514024\n"
     ]
    },
    {
     "name": "stderr",
     "output_type": "stream",
     "text": [
      "100%|████████████████████████████████████████████████████████████████████████████████| 81/81 [00:00<00:00, 1008.50it/s]\n"
     ]
    },
    {
     "name": "stdout",
     "output_type": "stream",
     "text": [
      "Training | ModelType: ModelType.SVR | Datasetname: orange_std_col_name_ohv_type | ScalerType: ScalerType.Normalizer_ | Params: {'kernel': 'linear', 'degree': 3, 'gamma': 'scale', 'coef0': 0, 'tol': 0.001, 'C': 1.3000000000000003, 'epsilon': 0.1}\n",
      "R2: 0.2991519185958732 | MSE: 1.2853774931002058\n"
     ]
    },
    {
     "name": "stderr",
     "output_type": "stream",
     "text": [
      "100%|█████████████████████████████████████████████████████████████████████████████████| 81/81 [00:00<00:00, 492.85it/s]\n"
     ]
    },
    {
     "name": "stdout",
     "output_type": "stream",
     "text": [
      "Training | ModelType: ModelType.SVR | Datasetname: orange_std_col_name_ohv_type | ScalerType: ScalerType.RobustScaler_ | Params: {'kernel': 'linear', 'degree': 3, 'gamma': 'scale', 'coef0': 0, 'tol': 0.001, 'C': 1.3000000000000003, 'epsilon': 0.1}\n",
      "R2: 0.30753351189448286 | MSE: 1.2700053865507124\n"
     ]
    },
    {
     "name": "stderr",
     "output_type": "stream",
     "text": [
      "100%|█████████████████████████████████████████████████████████████████████████████████| 81/81 [00:00<00:00, 711.26it/s]\n"
     ]
    },
    {
     "name": "stdout",
     "output_type": "stream",
     "text": [
      "Training | ModelType: ModelType.SVR | Datasetname: orange_std_col_name_ohv_type | ScalerType: ScalerType.StandardScaler_ | Params: {'kernel': 'linear', 'degree': 3, 'gamma': 'scale', 'coef0': 0, 'tol': 0.001, 'C': 1.3000000000000003, 'epsilon': 0.1}\n",
      "R2: 0.2986406791584242 | MSE: 1.2863151223581268\n"
     ]
    },
    {
     "name": "stderr",
     "output_type": "stream",
     "text": [
      "100%|██████████████████████████████████████████████████████████████████████████████████| 81/81 [00:11<00:00,  7.24it/s]\n"
     ]
    },
    {
     "name": "stdout",
     "output_type": "stream",
     "text": [
      "Training | ModelType: ModelType.SVR | Datasetname: orange_std_col_name_ohv_type | ScalerType: ScalerType.Raw_ | Params: {'kernel': 'linear', 'degree': 3, 'gamma': 'scale', 'coef0': 0, 'tol': 0.001, 'C': 1.3000000000000003, 'epsilon': 0.1}\n",
      "R2: 0.2981303364325625 | MSE: 1.287251107018705\n"
     ]
    },
    {
     "name": "stderr",
     "output_type": "stream",
     "text": [
      "100%|████████████████████████████████████████████████████████████████████████████████| 81/81 [00:00<00:00, 1004.39it/s]\n"
     ]
    },
    {
     "name": "stdout",
     "output_type": "stream",
     "text": [
      "Training | ModelType: ModelType.SVR | Datasetname: orange_std_col_name_ohv_type | ScalerType: ScalerType.MaxAbsScaler_ | Params: {'kernel': 'linear', 'degree': 3, 'gamma': 'scale', 'coef0': 0, 'tol': 0.001, 'C': 1.3000000000000003, 'epsilon': 0.1}\n",
      "R2: 0.2789349402875384 | MSE: 1.3224560691647442\n"
     ]
    },
    {
     "name": "stderr",
     "output_type": "stream",
     "text": [
      "100%|████████████████████████████████████████████████████████████████████████████████| 81/81 [00:00<00:00, 1123.51it/s]\n"
     ]
    },
    {
     "name": "stdout",
     "output_type": "stream",
     "text": [
      "Training | ModelType: ModelType.SVR | Datasetname: orange_std_col_name_ohv_type | ScalerType: ScalerType.MinMaxScaler_ | Params: {'kernel': 'linear', 'degree': 3, 'gamma': 'scale', 'coef0': 0, 'tol': 0.001, 'C': 1.3000000000000003, 'epsilon': 0.1}\n",
      "R2: 0.27420423907013913 | MSE: 1.3311323244514024\n"
     ]
    },
    {
     "name": "stderr",
     "output_type": "stream",
     "text": [
      "100%|████████████████████████████████████████████████████████████████████████████████| 81/81 [00:00<00:00, 1033.28it/s]\n"
     ]
    },
    {
     "name": "stdout",
     "output_type": "stream",
     "text": [
      "Training | ModelType: ModelType.SVR | Datasetname: orange_std_col_name_ohv_type | ScalerType: ScalerType.Normalizer_ | Params: {'kernel': 'linear', 'degree': 3, 'gamma': 'scale', 'coef0': 0, 'tol': 0.001, 'C': 1.3000000000000003, 'epsilon': 0.1}\n",
      "R2: 0.2991519185958732 | MSE: 1.2853774931002058\n"
     ]
    },
    {
     "name": "stderr",
     "output_type": "stream",
     "text": [
      "100%|█████████████████████████████████████████████████████████████████████████████████| 81/81 [00:00<00:00, 493.70it/s]\n"
     ]
    },
    {
     "name": "stdout",
     "output_type": "stream",
     "text": [
      "Training | ModelType: ModelType.SVR | Datasetname: orange_std_col_name_ohv_type | ScalerType: ScalerType.RobustScaler_ | Params: {'kernel': 'linear', 'degree': 3, 'gamma': 'scale', 'coef0': 0, 'tol': 0.001, 'C': 1.3000000000000003, 'epsilon': 0.1}\n",
      "R2: 0.30753351189448286 | MSE: 1.2700053865507124\n"
     ]
    },
    {
     "name": "stderr",
     "output_type": "stream",
     "text": [
      "100%|█████████████████████████████████████████████████████████████████████████████████| 81/81 [00:00<00:00, 706.07it/s]\n"
     ]
    },
    {
     "name": "stdout",
     "output_type": "stream",
     "text": [
      "Training | ModelType: ModelType.SVR | Datasetname: orange_std_col_name_ohv_type | ScalerType: ScalerType.StandardScaler_ | Params: {'kernel': 'linear', 'degree': 3, 'gamma': 'scale', 'coef0': 0, 'tol': 0.001, 'C': 1.3000000000000003, 'epsilon': 0.1}\n",
      "R2: 0.2986406791584242 | MSE: 1.2863151223581268\n"
     ]
    },
    {
     "name": "stderr",
     "output_type": "stream",
     "text": [
      "100%|████████████████████████████████████████████████████████████████████████████████| 81/81 [00:00<00:00, 1102.94it/s]\n"
     ]
    },
    {
     "name": "stdout",
     "output_type": "stream",
     "text": [
      "Training | ModelType: ModelType.SVR | Datasetname: orange_std_col_name_ohv_type | ScalerType: ScalerType.Raw_ | Params: {'kernel': 'poly', 'degree': 3, 'gamma': 'scale', 'coef0': 0, 'tol': 0.001, 'C': 1.3000000000000003, 'epsilon': 0.1}\n",
      "R2: 0.2679065311710441 | MSE: 1.3426825194314587\n"
     ]
    },
    {
     "name": "stderr",
     "output_type": "stream",
     "text": [
      "100%|█████████████████████████████████████████████████████████████████████████████████| 81/81 [00:00<00:00, 956.84it/s]\n"
     ]
    },
    {
     "name": "stdout",
     "output_type": "stream",
     "text": [
      "Training | ModelType: ModelType.SVR | Datasetname: orange_std_col_name_ohv_type | ScalerType: ScalerType.MaxAbsScaler_ | Params: {'kernel': 'poly', 'degree': 3, 'gamma': 'scale', 'coef0': 0, 'tol': 0.001, 'C': 1.3000000000000003, 'epsilon': 0.1}\n",
      "R2: 0.30218930866510707 | MSE: 1.279806823883366\n"
     ]
    },
    {
     "name": "stderr",
     "output_type": "stream",
     "text": [
      "100%|█████████████████████████████████████████████████████████████████████████████████| 81/81 [00:00<00:00, 818.78it/s]\n"
     ]
    },
    {
     "name": "stdout",
     "output_type": "stream",
     "text": [
      "Training | ModelType: ModelType.SVR | Datasetname: orange_std_col_name_ohv_type | ScalerType: ScalerType.MinMaxScaler_ | Params: {'kernel': 'poly', 'degree': 3, 'gamma': 'scale', 'coef0': 0, 'tol': 0.001, 'C': 1.3000000000000003, 'epsilon': 0.1}\n",
      "R2: 0.24516089518798312 | MSE: 1.384398733450768\n"
     ]
    },
    {
     "name": "stderr",
     "output_type": "stream",
     "text": [
      "100%|█████████████████████████████████████████████████████████████████████████████████| 81/81 [00:00<00:00, 755.57it/s]\n"
     ]
    },
    {
     "name": "stdout",
     "output_type": "stream",
     "text": [
      "Training | ModelType: ModelType.SVR | Datasetname: orange_std_col_name_ohv_type | ScalerType: ScalerType.Normalizer_ | Params: {'kernel': 'poly', 'degree': 3, 'gamma': 'scale', 'coef0': 0, 'tol': 0.001, 'C': 1.3000000000000003, 'epsilon': 0.1}\n",
      "R2: 0.289394277830898 | MSE: 1.3032733141174058\n"
     ]
    },
    {
     "name": "stderr",
     "output_type": "stream",
     "text": [
      "100%|█████████████████████████████████████████████████████████████████████████████████| 81/81 [00:00<00:00, 500.68it/s]\n"
     ]
    },
    {
     "name": "stdout",
     "output_type": "stream",
     "text": [
      "Training | ModelType: ModelType.SVR | Datasetname: orange_std_col_name_ohv_type | ScalerType: ScalerType.RobustScaler_ | Params: {'kernel': 'poly', 'degree': 3, 'gamma': 'scale', 'coef0': 0, 'tol': 0.001, 'C': 1.3000000000000003, 'epsilon': 0.1}\n",
      "R2: 0.18883033676638272 | MSE: 1.4877107548289648\n"
     ]
    },
    {
     "name": "stderr",
     "output_type": "stream",
     "text": [
      "100%|█████████████████████████████████████████████████████████████████████████████████| 81/81 [00:00<00:00, 633.29it/s]\n"
     ]
    },
    {
     "name": "stdout",
     "output_type": "stream",
     "text": [
      "Training | ModelType: ModelType.SVR | Datasetname: orange_std_col_name_ohv_type | ScalerType: ScalerType.StandardScaler_ | Params: {'kernel': 'poly', 'degree': 3, 'gamma': 'scale', 'coef0': 0, 'tol': 0.001, 'C': 1.3000000000000003, 'epsilon': 0.1}\n",
      "R2: 0.1937479659090482 | MSE: 1.4786916678297797\n"
     ]
    },
    {
     "name": "stderr",
     "output_type": "stream",
     "text": [
      "100%|████████████████████████████████████████████████████████████████████████████████| 81/81 [00:00<00:00, 1160.98it/s]\n"
     ]
    },
    {
     "name": "stdout",
     "output_type": "stream",
     "text": [
      "Training | ModelType: ModelType.SVR | Datasetname: orange_std_col_name_ohv_type | ScalerType: ScalerType.Raw_ | Params: {'kernel': 'poly', 'degree': 3, 'gamma': 'scale', 'coef0': 0, 'tol': 0.001, 'C': 1.4000000000000001, 'epsilon': 0.1}\n",
      "R2: 0.2704191552531522 | MSE: 1.3380742875914104\n"
     ]
    },
    {
     "name": "stderr",
     "output_type": "stream",
     "text": [
      "100%|█████████████████████████████████████████████████████████████████████████████████| 81/81 [00:00<00:00, 980.04it/s]\n"
     ]
    },
    {
     "name": "stdout",
     "output_type": "stream",
     "text": [
      "Training | ModelType: ModelType.SVR | Datasetname: orange_std_col_name_ohv_type | ScalerType: ScalerType.MaxAbsScaler_ | Params: {'kernel': 'poly', 'degree': 3, 'gamma': 'scale', 'coef0': 0, 'tol': 0.001, 'C': 1.4000000000000001, 'epsilon': 0.1}\n",
      "R2: 0.3008035307602527 | MSE: 1.282348384282257\n"
     ]
    },
    {
     "name": "stderr",
     "output_type": "stream",
     "text": [
      "100%|█████████████████████████████████████████████████████████████████████████████████| 81/81 [00:00<00:00, 750.54it/s]\n"
     ]
    },
    {
     "name": "stdout",
     "output_type": "stream",
     "text": [
      "Training | ModelType: ModelType.SVR | Datasetname: orange_std_col_name_ohv_type | ScalerType: ScalerType.MinMaxScaler_ | Params: {'kernel': 'poly', 'degree': 3, 'gamma': 'scale', 'coef0': 0, 'tol': 0.001, 'C': 1.4000000000000001, 'epsilon': 0.1}\n",
      "R2: 0.2407653883050901 | MSE: 1.3924602317525374\n"
     ]
    },
    {
     "name": "stderr",
     "output_type": "stream",
     "text": [
      "100%|█████████████████████████████████████████████████████████████████████████████████| 81/81 [00:00<00:00, 972.87it/s]\n"
     ]
    },
    {
     "name": "stdout",
     "output_type": "stream",
     "text": [
      "Training | ModelType: ModelType.SVR | Datasetname: orange_std_col_name_ohv_type | ScalerType: ScalerType.Normalizer_ | Params: {'kernel': 'poly', 'degree': 3, 'gamma': 'scale', 'coef0': 0, 'tol': 0.001, 'C': 1.4000000000000001, 'epsilon': 0.1}\n",
      "R2: 0.2860288256631217 | MSE: 1.3094456595733541\n"
     ]
    },
    {
     "name": "stderr",
     "output_type": "stream",
     "text": [
      "100%|█████████████████████████████████████████████████████████████████████████████████| 81/81 [00:00<00:00, 475.84it/s]\n"
     ]
    },
    {
     "name": "stdout",
     "output_type": "stream",
     "text": [
      "Training | ModelType: ModelType.SVR | Datasetname: orange_std_col_name_ohv_type | ScalerType: ScalerType.RobustScaler_ | Params: {'kernel': 'poly', 'degree': 3, 'gamma': 'scale', 'coef0': 0, 'tol': 0.001, 'C': 1.4000000000000001, 'epsilon': 0.1}\n",
      "R2: 0.19193578660287747 | MSE: 1.482015261851678\n"
     ]
    },
    {
     "name": "stderr",
     "output_type": "stream",
     "text": [
      "100%|█████████████████████████████████████████████████████████████████████████████████| 81/81 [00:00<00:00, 673.93it/s]\n"
     ]
    },
    {
     "name": "stdout",
     "output_type": "stream",
     "text": [
      "Training | ModelType: ModelType.SVR | Datasetname: orange_std_col_name_ohv_type | ScalerType: ScalerType.StandardScaler_ | Params: {'kernel': 'poly', 'degree': 3, 'gamma': 'scale', 'coef0': 0, 'tol': 0.001, 'C': 1.4000000000000001, 'epsilon': 0.1}\n",
      "R2: 0.20179919243136102 | MSE: 1.4639254643711088\n"
     ]
    },
    {
     "name": "stderr",
     "output_type": "stream",
     "text": [
      "100%|████████████████████████████████████████████████████████████████████████████████| 81/81 [00:00<00:00, 1653.77it/s]\n"
     ]
    },
    {
     "name": "stdout",
     "output_type": "stream",
     "text": [
      "Training | ModelType: ModelType.SVR | Datasetname: orange_std_col_name_ohv_type | ScalerType: ScalerType.Raw_ | Params: {'kernel': 'rbf', 'degree': 3, 'gamma': 'scale', 'coef0': 0, 'tol': 0.001, 'C': 1.4000000000000001, 'epsilon': 0.1}\n",
      "R2: 0.21154017407148018 | MSE: 1.4460601967144915\n"
     ]
    },
    {
     "name": "stderr",
     "output_type": "stream",
     "text": [
      "100%|█████████████████████████████████████████████████████████████████████████████████| 81/81 [00:00<00:00, 939.70it/s]\n"
     ]
    },
    {
     "name": "stdout",
     "output_type": "stream",
     "text": [
      "Training | ModelType: ModelType.SVR | Datasetname: orange_std_col_name_ohv_type | ScalerType: ScalerType.MaxAbsScaler_ | Params: {'kernel': 'rbf', 'degree': 3, 'gamma': 'scale', 'coef0': 0, 'tol': 0.001, 'C': 1.4000000000000001, 'epsilon': 0.1}\n",
      "R2: 0.3007860955129308 | MSE: 1.2823803610759286\n"
     ]
    },
    {
     "name": "stderr",
     "output_type": "stream",
     "text": [
      "100%|█████████████████████████████████████████████████████████████████████████████████| 81/81 [00:00<00:00, 903.01it/s]\n"
     ]
    },
    {
     "name": "stdout",
     "output_type": "stream",
     "text": [
      "Training | ModelType: ModelType.SVR | Datasetname: orange_std_col_name_ohv_type | ScalerType: ScalerType.MinMaxScaler_ | Params: {'kernel': 'rbf', 'degree': 3, 'gamma': 'scale', 'coef0': 0, 'tol': 0.001, 'C': 1.4000000000000001, 'epsilon': 0.1}\n",
      "R2: 0.293042831500002 | MSE: 1.2965817515761506\n"
     ]
    },
    {
     "name": "stderr",
     "output_type": "stream",
     "text": [
      "100%|█████████████████████████████████████████████████████████████████████████████████| 81/81 [00:00<00:00, 860.35it/s]\n"
     ]
    },
    {
     "name": "stdout",
     "output_type": "stream",
     "text": [
      "Training | ModelType: ModelType.SVR | Datasetname: orange_std_col_name_ohv_type | ScalerType: ScalerType.Normalizer_ | Params: {'kernel': 'rbf', 'degree': 3, 'gamma': 'scale', 'coef0': 0, 'tol': 0.001, 'C': 1.4000000000000001, 'epsilon': 0.1}\n",
      "R2: 0.3312924312339858 | MSE: 1.2264307788865292\n"
     ]
    },
    {
     "name": "stderr",
     "output_type": "stream",
     "text": [
      "100%|█████████████████████████████████████████████████████████████████████████████████| 81/81 [00:00<00:00, 517.29it/s]\n"
     ]
    },
    {
     "name": "stdout",
     "output_type": "stream",
     "text": [
      "Training | ModelType: ModelType.SVR | Datasetname: orange_std_col_name_ohv_type | ScalerType: ScalerType.RobustScaler_ | Params: {'kernel': 'rbf', 'degree': 3, 'gamma': 'scale', 'coef0': 0, 'tol': 0.001, 'C': 1.4000000000000001, 'epsilon': 0.1}\n",
      "R2: 0.2731427021695687 | MSE: 1.3330792166186105\n"
     ]
    },
    {
     "name": "stderr",
     "output_type": "stream",
     "text": [
      "100%|█████████████████████████████████████████████████████████████████████████████████| 81/81 [00:00<00:00, 803.83it/s]\n"
     ]
    },
    {
     "name": "stdout",
     "output_type": "stream",
     "text": [
      "Training | ModelType: ModelType.SVR | Datasetname: orange_std_col_name_ohv_type | ScalerType: ScalerType.StandardScaler_ | Params: {'kernel': 'rbf', 'degree': 3, 'gamma': 'scale', 'coef0': 0, 'tol': 0.001, 'C': 1.4000000000000001, 'epsilon': 0.1}\n",
      "R2: 0.27449433162397063 | MSE: 1.3306002855552355\n"
     ]
    },
    {
     "name": "stderr",
     "output_type": "stream",
     "text": [
      "100%|████████████████████████████████████████████████████████████████████████████████| 81/81 [00:00<00:00, 1522.49it/s]\n"
     ]
    },
    {
     "name": "stdout",
     "output_type": "stream",
     "text": [
      "Training | ModelType: ModelType.SVR | Datasetname: orange_std_col_name_ohv_type | ScalerType: ScalerType.Raw_ | Params: {'kernel': 'rbf', 'degree': 3, 'gamma': 'scale', 'coef0': 0, 'tol': 0.001, 'C': 1.4000000000000001, 'epsilon': 0.1}\n",
      "R2: 0.21154017407148018 | MSE: 1.4460601967144915\n"
     ]
    },
    {
     "name": "stderr",
     "output_type": "stream",
     "text": [
      "100%|█████████████████████████████████████████████████████████████████████████████████| 81/81 [00:00<00:00, 957.20it/s]\n"
     ]
    },
    {
     "name": "stdout",
     "output_type": "stream",
     "text": [
      "Training | ModelType: ModelType.SVR | Datasetname: orange_std_col_name_ohv_type | ScalerType: ScalerType.MaxAbsScaler_ | Params: {'kernel': 'rbf', 'degree': 3, 'gamma': 'scale', 'coef0': 0, 'tol': 0.001, 'C': 1.4000000000000001, 'epsilon': 0.1}\n",
      "R2: 0.3007860955129308 | MSE: 1.2823803610759286\n"
     ]
    },
    {
     "name": "stderr",
     "output_type": "stream",
     "text": [
      "100%|█████████████████████████████████████████████████████████████████████████████████| 81/81 [00:00<00:00, 975.82it/s]\n"
     ]
    },
    {
     "name": "stdout",
     "output_type": "stream",
     "text": [
      "Training | ModelType: ModelType.SVR | Datasetname: orange_std_col_name_ohv_type | ScalerType: ScalerType.MinMaxScaler_ | Params: {'kernel': 'rbf', 'degree': 3, 'gamma': 'scale', 'coef0': 0, 'tol': 0.001, 'C': 1.4000000000000001, 'epsilon': 0.1}\n",
      "R2: 0.293042831500002 | MSE: 1.2965817515761506\n"
     ]
    },
    {
     "name": "stderr",
     "output_type": "stream",
     "text": [
      "100%|████████████████████████████████████████████████████████████████████████████████| 81/81 [00:00<00:00, 1004.31it/s]\n"
     ]
    },
    {
     "name": "stdout",
     "output_type": "stream",
     "text": [
      "Training | ModelType: ModelType.SVR | Datasetname: orange_std_col_name_ohv_type | ScalerType: ScalerType.Normalizer_ | Params: {'kernel': 'rbf', 'degree': 3, 'gamma': 'scale', 'coef0': 0, 'tol': 0.001, 'C': 1.4000000000000001, 'epsilon': 0.1}\n",
      "R2: 0.3312924312339858 | MSE: 1.2264307788865292\n"
     ]
    },
    {
     "name": "stderr",
     "output_type": "stream",
     "text": [
      "100%|█████████████████████████████████████████████████████████████████████████████████| 81/81 [00:00<00:00, 537.32it/s]\n"
     ]
    },
    {
     "name": "stdout",
     "output_type": "stream",
     "text": [
      "Training | ModelType: ModelType.SVR | Datasetname: orange_std_col_name_ohv_type | ScalerType: ScalerType.RobustScaler_ | Params: {'kernel': 'rbf', 'degree': 3, 'gamma': 'scale', 'coef0': 0, 'tol': 0.001, 'C': 1.4000000000000001, 'epsilon': 0.1}\n",
      "R2: 0.2731427021695687 | MSE: 1.3330792166186105\n"
     ]
    },
    {
     "name": "stderr",
     "output_type": "stream",
     "text": [
      "100%|█████████████████████████████████████████████████████████████████████████████████| 81/81 [00:00<00:00, 815.80it/s]\n"
     ]
    },
    {
     "name": "stdout",
     "output_type": "stream",
     "text": [
      "Training | ModelType: ModelType.SVR | Datasetname: orange_std_col_name_ohv_type | ScalerType: ScalerType.StandardScaler_ | Params: {'kernel': 'rbf', 'degree': 3, 'gamma': 'scale', 'coef0': 0, 'tol': 0.001, 'C': 1.4000000000000001, 'epsilon': 0.1}\n",
      "R2: 0.27449433162397063 | MSE: 1.3306002855552355\n"
     ]
    },
    {
     "name": "stderr",
     "output_type": "stream",
     "text": [
      "100%|██████████████████████████████████████████████████████████████████████████████████| 81/81 [00:11<00:00,  6.75it/s]\n"
     ]
    },
    {
     "name": "stdout",
     "output_type": "stream",
     "text": [
      "Training | ModelType: ModelType.SVR | Datasetname: orange_std_col_name_ohv_type | ScalerType: ScalerType.Raw_ | Params: {'kernel': 'linear', 'degree': 3, 'gamma': 'scale', 'coef0': 0, 'tol': 0.001, 'C': 1.4000000000000001, 'epsilon': 0.1}\n",
      "R2: 0.29736084717838884 | MSE: 1.2886623745882981\n"
     ]
    },
    {
     "name": "stderr",
     "output_type": "stream",
     "text": [
      "100%|█████████████████████████████████████████████████████████████████████████████████| 81/81 [00:00<00:00, 927.83it/s]\n"
     ]
    },
    {
     "name": "stdout",
     "output_type": "stream",
     "text": [
      "Training | ModelType: ModelType.SVR | Datasetname: orange_std_col_name_ohv_type | ScalerType: ScalerType.MaxAbsScaler_ | Params: {'kernel': 'linear', 'degree': 3, 'gamma': 'scale', 'coef0': 0, 'tol': 0.001, 'C': 1.4000000000000001, 'epsilon': 0.1}\n",
      "R2: 0.27874349903391427 | MSE: 1.3228071784638755\n"
     ]
    },
    {
     "name": "stderr",
     "output_type": "stream",
     "text": [
      "100%|█████████████████████████████████████████████████████████████████████████████████| 81/81 [00:00<00:00, 853.85it/s]\n"
     ]
    },
    {
     "name": "stdout",
     "output_type": "stream",
     "text": [
      "Training | ModelType: ModelType.SVR | Datasetname: orange_std_col_name_ohv_type | ScalerType: ScalerType.MinMaxScaler_ | Params: {'kernel': 'linear', 'degree': 3, 'gamma': 'scale', 'coef0': 0, 'tol': 0.001, 'C': 1.4000000000000001, 'epsilon': 0.1}\n",
      "R2: 0.2728747195550272 | MSE: 1.3335707051885497\n"
     ]
    },
    {
     "name": "stderr",
     "output_type": "stream",
     "text": [
      "100%|█████████████████████████████████████████████████████████████████████████████████| 81/81 [00:00<00:00, 849.91it/s]\n"
     ]
    },
    {
     "name": "stdout",
     "output_type": "stream",
     "text": [
      "Training | ModelType: ModelType.SVR | Datasetname: orange_std_col_name_ohv_type | ScalerType: ScalerType.Normalizer_ | Params: {'kernel': 'linear', 'degree': 3, 'gamma': 'scale', 'coef0': 0, 'tol': 0.001, 'C': 1.4000000000000001, 'epsilon': 0.1}\n",
      "R2: 0.29386785781176994 | MSE: 1.2950686272907315\n"
     ]
    },
    {
     "name": "stderr",
     "output_type": "stream",
     "text": [
      "100%|█████████████████████████████████████████████████████████████████████████████████| 81/81 [00:00<00:00, 472.40it/s]\n"
     ]
    },
    {
     "name": "stdout",
     "output_type": "stream",
     "text": [
      "Training | ModelType: ModelType.SVR | Datasetname: orange_std_col_name_ohv_type | ScalerType: ScalerType.RobustScaler_ | Params: {'kernel': 'linear', 'degree': 3, 'gamma': 'scale', 'coef0': 0, 'tol': 0.001, 'C': 1.4000000000000001, 'epsilon': 0.1}\n",
      "R2: 0.3083147150736876 | MSE: 1.268572635273037\n"
     ]
    },
    {
     "name": "stderr",
     "output_type": "stream",
     "text": [
      "100%|█████████████████████████████████████████████████████████████████████████████████| 81/81 [00:00<00:00, 705.94it/s]\n"
     ]
    },
    {
     "name": "stdout",
     "output_type": "stream",
     "text": [
      "Training | ModelType: ModelType.SVR | Datasetname: orange_std_col_name_ohv_type | ScalerType: ScalerType.StandardScaler_ | Params: {'kernel': 'linear', 'degree': 3, 'gamma': 'scale', 'coef0': 0, 'tol': 0.001, 'C': 1.4000000000000001, 'epsilon': 0.1}\n",
      "R2: 0.2964585849259901 | MSE: 1.2903171520256336\n"
     ]
    },
    {
     "name": "stderr",
     "output_type": "stream",
     "text": [
      "100%|██████████████████████████████████████████████████████████████████████████████████| 81/81 [00:11<00:00,  6.76it/s]\n"
     ]
    },
    {
     "name": "stdout",
     "output_type": "stream",
     "text": [
      "Training | ModelType: ModelType.SVR | Datasetname: orange_std_col_name_ohv_type | ScalerType: ScalerType.Raw_ | Params: {'kernel': 'linear', 'degree': 3, 'gamma': 'scale', 'coef0': 0, 'tol': 0.001, 'C': 1.4000000000000001, 'epsilon': 0.1}\n",
      "R2: 0.29736084717838884 | MSE: 1.2886623745882981\n"
     ]
    },
    {
     "name": "stderr",
     "output_type": "stream",
     "text": [
      "100%|████████████████████████████████████████████████████████████████████████████████| 81/81 [00:00<00:00, 1022.23it/s]\n"
     ]
    },
    {
     "name": "stdout",
     "output_type": "stream",
     "text": [
      "Training | ModelType: ModelType.SVR | Datasetname: orange_std_col_name_ohv_type | ScalerType: ScalerType.MaxAbsScaler_ | Params: {'kernel': 'linear', 'degree': 3, 'gamma': 'scale', 'coef0': 0, 'tol': 0.001, 'C': 1.4000000000000001, 'epsilon': 0.1}\n",
      "R2: 0.27874349903391427 | MSE: 1.3228071784638755\n"
     ]
    },
    {
     "name": "stderr",
     "output_type": "stream",
     "text": [
      "100%|█████████████████████████████████████████████████████████████████████████████████| 81/81 [00:00<00:00, 969.54it/s]\n"
     ]
    },
    {
     "name": "stdout",
     "output_type": "stream",
     "text": [
      "Training | ModelType: ModelType.SVR | Datasetname: orange_std_col_name_ohv_type | ScalerType: ScalerType.MinMaxScaler_ | Params: {'kernel': 'linear', 'degree': 3, 'gamma': 'scale', 'coef0': 0, 'tol': 0.001, 'C': 1.4000000000000001, 'epsilon': 0.1}\n",
      "R2: 0.2728747195550272 | MSE: 1.3335707051885497\n"
     ]
    },
    {
     "name": "stderr",
     "output_type": "stream",
     "text": [
      "100%|█████████████████████████████████████████████████████████████████████████████████| 81/81 [00:00<00:00, 842.37it/s]\n"
     ]
    },
    {
     "name": "stdout",
     "output_type": "stream",
     "text": [
      "Training | ModelType: ModelType.SVR | Datasetname: orange_std_col_name_ohv_type | ScalerType: ScalerType.Normalizer_ | Params: {'kernel': 'linear', 'degree': 3, 'gamma': 'scale', 'coef0': 0, 'tol': 0.001, 'C': 1.4000000000000001, 'epsilon': 0.1}\n",
      "R2: 0.29386785781176994 | MSE: 1.2950686272907315\n"
     ]
    },
    {
     "name": "stderr",
     "output_type": "stream",
     "text": [
      "100%|█████████████████████████████████████████████████████████████████████████████████| 81/81 [00:00<00:00, 470.13it/s]\n"
     ]
    },
    {
     "name": "stdout",
     "output_type": "stream",
     "text": [
      "Training | ModelType: ModelType.SVR | Datasetname: orange_std_col_name_ohv_type | ScalerType: ScalerType.RobustScaler_ | Params: {'kernel': 'linear', 'degree': 3, 'gamma': 'scale', 'coef0': 0, 'tol': 0.001, 'C': 1.4000000000000001, 'epsilon': 0.1}\n",
      "R2: 0.3083147150736876 | MSE: 1.268572635273037\n"
     ]
    },
    {
     "name": "stderr",
     "output_type": "stream",
     "text": [
      "100%|█████████████████████████████████████████████████████████████████████████████████| 81/81 [00:00<00:00, 694.79it/s]\n"
     ]
    },
    {
     "name": "stdout",
     "output_type": "stream",
     "text": [
      "Training | ModelType: ModelType.SVR | Datasetname: orange_std_col_name_ohv_type | ScalerType: ScalerType.StandardScaler_ | Params: {'kernel': 'linear', 'degree': 3, 'gamma': 'scale', 'coef0': 0, 'tol': 0.001, 'C': 1.4000000000000001, 'epsilon': 0.1}\n",
      "R2: 0.2964585849259901 | MSE: 1.2903171520256336\n"
     ]
    },
    {
     "name": "stderr",
     "output_type": "stream",
     "text": [
      "100%|████████████████████████████████████████████████████████████████████████████████| 81/81 [00:00<00:00, 1132.33it/s]\n"
     ]
    },
    {
     "name": "stdout",
     "output_type": "stream",
     "text": [
      "Training | ModelType: ModelType.SVR | Datasetname: orange_std_col_name_ohv_type | ScalerType: ScalerType.Raw_ | Params: {'kernel': 'poly', 'degree': 3, 'gamma': 'scale', 'coef0': 0, 'tol': 0.001, 'C': 1.4000000000000001, 'epsilon': 0.1}\n",
      "R2: 0.2704191552531522 | MSE: 1.3380742875914104\n"
     ]
    },
    {
     "name": "stderr",
     "output_type": "stream",
     "text": [
      "100%|█████████████████████████████████████████████████████████████████████████████████| 81/81 [00:00<00:00, 889.42it/s]\n"
     ]
    },
    {
     "name": "stdout",
     "output_type": "stream",
     "text": [
      "Training | ModelType: ModelType.SVR | Datasetname: orange_std_col_name_ohv_type | ScalerType: ScalerType.MaxAbsScaler_ | Params: {'kernel': 'poly', 'degree': 3, 'gamma': 'scale', 'coef0': 0, 'tol': 0.001, 'C': 1.4000000000000001, 'epsilon': 0.1}\n",
      "R2: 0.3008035307602527 | MSE: 1.282348384282257\n"
     ]
    },
    {
     "name": "stderr",
     "output_type": "stream",
     "text": [
      "100%|█████████████████████████████████████████████████████████████████████████████████| 81/81 [00:00<00:00, 619.83it/s]\n"
     ]
    },
    {
     "name": "stdout",
     "output_type": "stream",
     "text": [
      "Training | ModelType: ModelType.SVR | Datasetname: orange_std_col_name_ohv_type | ScalerType: ScalerType.MinMaxScaler_ | Params: {'kernel': 'poly', 'degree': 3, 'gamma': 'scale', 'coef0': 0, 'tol': 0.001, 'C': 1.4000000000000001, 'epsilon': 0.1}\n",
      "R2: 0.2407653883050901 | MSE: 1.3924602317525374\n"
     ]
    },
    {
     "name": "stderr",
     "output_type": "stream",
     "text": [
      "100%|█████████████████████████████████████████████████████████████████████████████████| 81/81 [00:00<00:00, 841.64it/s]\n"
     ]
    },
    {
     "name": "stdout",
     "output_type": "stream",
     "text": [
      "Training | ModelType: ModelType.SVR | Datasetname: orange_std_col_name_ohv_type | ScalerType: ScalerType.Normalizer_ | Params: {'kernel': 'poly', 'degree': 3, 'gamma': 'scale', 'coef0': 0, 'tol': 0.001, 'C': 1.4000000000000001, 'epsilon': 0.1}\n",
      "R2: 0.2860288256631217 | MSE: 1.3094456595733541\n"
     ]
    },
    {
     "name": "stderr",
     "output_type": "stream",
     "text": [
      "100%|█████████████████████████████████████████████████████████████████████████████████| 81/81 [00:00<00:00, 498.79it/s]\n"
     ]
    },
    {
     "name": "stdout",
     "output_type": "stream",
     "text": [
      "Training | ModelType: ModelType.SVR | Datasetname: orange_std_col_name_ohv_type | ScalerType: ScalerType.RobustScaler_ | Params: {'kernel': 'poly', 'degree': 3, 'gamma': 'scale', 'coef0': 0, 'tol': 0.001, 'C': 1.4000000000000001, 'epsilon': 0.1}\n",
      "R2: 0.19193578660287747 | MSE: 1.482015261851678\n"
     ]
    },
    {
     "name": "stderr",
     "output_type": "stream",
     "text": [
      "100%|█████████████████████████████████████████████████████████████████████████████████| 81/81 [00:00<00:00, 625.16it/s]\n"
     ]
    },
    {
     "name": "stdout",
     "output_type": "stream",
     "text": [
      "Training | ModelType: ModelType.SVR | Datasetname: orange_std_col_name_ohv_type | ScalerType: ScalerType.StandardScaler_ | Params: {'kernel': 'poly', 'degree': 3, 'gamma': 'scale', 'coef0': 0, 'tol': 0.001, 'C': 1.4000000000000001, 'epsilon': 0.1}\n",
      "R2: 0.20179919243136102 | MSE: 1.4639254643711088\n"
     ]
    },
    {
     "name": "stderr",
     "output_type": "stream",
     "text": [
      "100%|████████████████████████████████████████████████████████████████████████████████| 81/81 [00:00<00:00, 1045.12it/s]\n"
     ]
    },
    {
     "name": "stdout",
     "output_type": "stream",
     "text": [
      "Training | ModelType: ModelType.SVR | Datasetname: orange_std_col_name_ohv_type | ScalerType: ScalerType.Raw_ | Params: {'kernel': 'poly', 'degree': 3, 'gamma': 'scale', 'coef0': 0, 'tol': 0.001, 'C': 1.5000000000000002, 'epsilon': 0.1}\n",
      "R2: 0.27383528157277803 | MSE: 1.3318090041421968\n"
     ]
    },
    {
     "name": "stderr",
     "output_type": "stream",
     "text": [
      "100%|█████████████████████████████████████████████████████████████████████████████████| 81/81 [00:00<00:00, 828.16it/s]\n"
     ]
    },
    {
     "name": "stdout",
     "output_type": "stream",
     "text": [
      "Training | ModelType: ModelType.SVR | Datasetname: orange_std_col_name_ohv_type | ScalerType: ScalerType.MaxAbsScaler_ | Params: {'kernel': 'poly', 'degree': 3, 'gamma': 'scale', 'coef0': 0, 'tol': 0.001, 'C': 1.5000000000000002, 'epsilon': 0.1}\n",
      "R2: 0.3003609680277759 | MSE: 1.283160058296504\n"
     ]
    },
    {
     "name": "stderr",
     "output_type": "stream",
     "text": [
      "100%|█████████████████████████████████████████████████████████████████████████████████| 81/81 [00:00<00:00, 731.57it/s]\n"
     ]
    },
    {
     "name": "stdout",
     "output_type": "stream",
     "text": [
      "Training | ModelType: ModelType.SVR | Datasetname: orange_std_col_name_ohv_type | ScalerType: ScalerType.MinMaxScaler_ | Params: {'kernel': 'poly', 'degree': 3, 'gamma': 'scale', 'coef0': 0, 'tol': 0.001, 'C': 1.5000000000000002, 'epsilon': 0.1}\n",
      "R2: 0.2385717620823946 | MSE: 1.3964834114540186\n"
     ]
    },
    {
     "name": "stderr",
     "output_type": "stream",
     "text": [
      "100%|█████████████████████████████████████████████████████████████████████████████████| 81/81 [00:00<00:00, 880.25it/s]\n"
     ]
    },
    {
     "name": "stdout",
     "output_type": "stream",
     "text": [
      "Training | ModelType: ModelType.SVR | Datasetname: orange_std_col_name_ohv_type | ScalerType: ScalerType.Normalizer_ | Params: {'kernel': 'poly', 'degree': 3, 'gamma': 'scale', 'coef0': 0, 'tol': 0.001, 'C': 1.5000000000000002, 'epsilon': 0.1}\n",
      "R2: 0.28302682608407126 | MSE: 1.3149514215146254\n"
     ]
    },
    {
     "name": "stderr",
     "output_type": "stream",
     "text": [
      "100%|█████████████████████████████████████████████████████████████████████████████████| 81/81 [00:00<00:00, 477.64it/s]\n"
     ]
    },
    {
     "name": "stdout",
     "output_type": "stream",
     "text": [
      "Training | ModelType: ModelType.SVR | Datasetname: orange_std_col_name_ohv_type | ScalerType: ScalerType.RobustScaler_ | Params: {'kernel': 'poly', 'degree': 3, 'gamma': 'scale', 'coef0': 0, 'tol': 0.001, 'C': 1.5000000000000002, 'epsilon': 0.1}\n",
      "R2: 0.19795743773326369 | MSE: 1.4709713636950437\n"
     ]
    },
    {
     "name": "stderr",
     "output_type": "stream",
     "text": [
      "100%|█████████████████████████████████████████████████████████████████████████████████| 81/81 [00:00<00:00, 631.20it/s]\n"
     ]
    },
    {
     "name": "stdout",
     "output_type": "stream",
     "text": [
      "Training | ModelType: ModelType.SVR | Datasetname: orange_std_col_name_ohv_type | ScalerType: ScalerType.StandardScaler_ | Params: {'kernel': 'poly', 'degree': 3, 'gamma': 'scale', 'coef0': 0, 'tol': 0.001, 'C': 1.5000000000000002, 'epsilon': 0.1}\n",
      "R2: 0.20715490539493842 | MSE: 1.4541029178227964\n"
     ]
    },
    {
     "name": "stderr",
     "output_type": "stream",
     "text": [
      "100%|████████████████████████████████████████████████████████████████████████████████| 81/81 [00:00<00:00, 1334.44it/s]\n"
     ]
    },
    {
     "name": "stdout",
     "output_type": "stream",
     "text": [
      "Training | ModelType: ModelType.SVR | Datasetname: orange_std_col_name_ohv_type | ScalerType: ScalerType.Raw_ | Params: {'kernel': 'rbf', 'degree': 3, 'gamma': 'scale', 'coef0': 0, 'tol': 0.001, 'C': 1.5000000000000002, 'epsilon': 0.1}\n",
      "R2: 0.2106949774169855 | MSE: 1.447610314044847\n"
     ]
    },
    {
     "name": "stderr",
     "output_type": "stream",
     "text": [
      "100%|████████████████████████████████████████████████████████████████████████████████| 81/81 [00:00<00:00, 1138.77it/s]\n"
     ]
    },
    {
     "name": "stdout",
     "output_type": "stream",
     "text": [
      "Training | ModelType: ModelType.SVR | Datasetname: orange_std_col_name_ohv_type | ScalerType: ScalerType.MaxAbsScaler_ | Params: {'kernel': 'rbf', 'degree': 3, 'gamma': 'scale', 'coef0': 0, 'tol': 0.001, 'C': 1.5000000000000002, 'epsilon': 0.1}\n",
      "R2: 0.300663691724411 | MSE: 1.2826048534859218\n"
     ]
    },
    {
     "name": "stderr",
     "output_type": "stream",
     "text": [
      "100%|█████████████████████████████████████████████████████████████████████████████████| 81/81 [00:00<00:00, 960.66it/s]\n"
     ]
    },
    {
     "name": "stdout",
     "output_type": "stream",
     "text": [
      "Training | ModelType: ModelType.SVR | Datasetname: orange_std_col_name_ohv_type | ScalerType: ScalerType.MinMaxScaler_ | Params: {'kernel': 'rbf', 'degree': 3, 'gamma': 'scale', 'coef0': 0, 'tol': 0.001, 'C': 1.5000000000000002, 'epsilon': 0.1}\n",
      "R2: 0.29365157565020106 | MSE: 1.2954652955987658\n"
     ]
    },
    {
     "name": "stderr",
     "output_type": "stream",
     "text": [
      "100%|█████████████████████████████████████████████████████████████████████████████████| 81/81 [00:00<00:00, 863.52it/s]\n"
     ]
    },
    {
     "name": "stdout",
     "output_type": "stream",
     "text": [
      "Training | ModelType: ModelType.SVR | Datasetname: orange_std_col_name_ohv_type | ScalerType: ScalerType.Normalizer_ | Params: {'kernel': 'rbf', 'degree': 3, 'gamma': 'scale', 'coef0': 0, 'tol': 0.001, 'C': 1.5000000000000002, 'epsilon': 0.1}\n",
      "R2: 0.33059317344837513 | MSE: 1.2277132397269703\n"
     ]
    },
    {
     "name": "stderr",
     "output_type": "stream",
     "text": [
      "100%|█████████████████████████████████████████████████████████████████████████████████| 81/81 [00:00<00:00, 564.83it/s]\n"
     ]
    },
    {
     "name": "stdout",
     "output_type": "stream",
     "text": [
      "Training | ModelType: ModelType.SVR | Datasetname: orange_std_col_name_ohv_type | ScalerType: ScalerType.RobustScaler_ | Params: {'kernel': 'rbf', 'degree': 3, 'gamma': 'scale', 'coef0': 0, 'tol': 0.001, 'C': 1.5000000000000002, 'epsilon': 0.1}\n",
      "R2: 0.2725618630524054 | MSE: 1.3341444938850022\n"
     ]
    },
    {
     "name": "stderr",
     "output_type": "stream",
     "text": [
      "100%|█████████████████████████████████████████████████████████████████████████████████| 81/81 [00:00<00:00, 803.27it/s]\n"
     ]
    },
    {
     "name": "stdout",
     "output_type": "stream",
     "text": [
      "Training | ModelType: ModelType.SVR | Datasetname: orange_std_col_name_ohv_type | ScalerType: ScalerType.StandardScaler_ | Params: {'kernel': 'rbf', 'degree': 3, 'gamma': 'scale', 'coef0': 0, 'tol': 0.001, 'C': 1.5000000000000002, 'epsilon': 0.1}\n",
      "R2: 0.2738214164771702 | MSE: 1.3318344331649865\n"
     ]
    },
    {
     "name": "stderr",
     "output_type": "stream",
     "text": [
      "100%|████████████████████████████████████████████████████████████████████████████████| 81/81 [00:00<00:00, 1542.99it/s]\n"
     ]
    },
    {
     "name": "stdout",
     "output_type": "stream",
     "text": [
      "Training | ModelType: ModelType.SVR | Datasetname: orange_std_col_name_ohv_type | ScalerType: ScalerType.Raw_ | Params: {'kernel': 'rbf', 'degree': 3, 'gamma': 'scale', 'coef0': 0, 'tol': 0.001, 'C': 1.5000000000000002, 'epsilon': 0.1}\n",
      "R2: 0.2106949774169855 | MSE: 1.447610314044847\n"
     ]
    },
    {
     "name": "stderr",
     "output_type": "stream",
     "text": [
      "100%|█████████████████████████████████████████████████████████████████████████████████| 81/81 [00:00<00:00, 976.34it/s]\n"
     ]
    },
    {
     "name": "stdout",
     "output_type": "stream",
     "text": [
      "Training | ModelType: ModelType.SVR | Datasetname: orange_std_col_name_ohv_type | ScalerType: ScalerType.MaxAbsScaler_ | Params: {'kernel': 'rbf', 'degree': 3, 'gamma': 'scale', 'coef0': 0, 'tol': 0.001, 'C': 1.5000000000000002, 'epsilon': 0.1}\n",
      "R2: 0.300663691724411 | MSE: 1.2826048534859218\n"
     ]
    },
    {
     "name": "stderr",
     "output_type": "stream",
     "text": [
      "100%|████████████████████████████████████████████████████████████████████████████████| 81/81 [00:00<00:00, 1010.90it/s]\n"
     ]
    },
    {
     "name": "stdout",
     "output_type": "stream",
     "text": [
      "Training | ModelType: ModelType.SVR | Datasetname: orange_std_col_name_ohv_type | ScalerType: ScalerType.MinMaxScaler_ | Params: {'kernel': 'rbf', 'degree': 3, 'gamma': 'scale', 'coef0': 0, 'tol': 0.001, 'C': 1.5000000000000002, 'epsilon': 0.1}\n",
      "R2: 0.29365157565020106 | MSE: 1.2954652955987658\n"
     ]
    },
    {
     "name": "stderr",
     "output_type": "stream",
     "text": [
      "100%|█████████████████████████████████████████████████████████████████████████████████| 81/81 [00:00<00:00, 901.62it/s]\n"
     ]
    },
    {
     "name": "stdout",
     "output_type": "stream",
     "text": [
      "Training | ModelType: ModelType.SVR | Datasetname: orange_std_col_name_ohv_type | ScalerType: ScalerType.Normalizer_ | Params: {'kernel': 'rbf', 'degree': 3, 'gamma': 'scale', 'coef0': 0, 'tol': 0.001, 'C': 1.5000000000000002, 'epsilon': 0.1}\n",
      "R2: 0.33059317344837513 | MSE: 1.2277132397269703\n"
     ]
    },
    {
     "name": "stderr",
     "output_type": "stream",
     "text": [
      "100%|█████████████████████████████████████████████████████████████████████████████████| 81/81 [00:00<00:00, 507.03it/s]\n"
     ]
    },
    {
     "name": "stdout",
     "output_type": "stream",
     "text": [
      "Training | ModelType: ModelType.SVR | Datasetname: orange_std_col_name_ohv_type | ScalerType: ScalerType.RobustScaler_ | Params: {'kernel': 'rbf', 'degree': 3, 'gamma': 'scale', 'coef0': 0, 'tol': 0.001, 'C': 1.5000000000000002, 'epsilon': 0.1}\n",
      "R2: 0.2725618630524054 | MSE: 1.3341444938850022\n"
     ]
    },
    {
     "name": "stderr",
     "output_type": "stream",
     "text": [
      "100%|█████████████████████████████████████████████████████████████████████████████████| 81/81 [00:00<00:00, 842.00it/s]\n"
     ]
    },
    {
     "name": "stdout",
     "output_type": "stream",
     "text": [
      "Training | ModelType: ModelType.SVR | Datasetname: orange_std_col_name_ohv_type | ScalerType: ScalerType.StandardScaler_ | Params: {'kernel': 'rbf', 'degree': 3, 'gamma': 'scale', 'coef0': 0, 'tol': 0.001, 'C': 1.5000000000000002, 'epsilon': 0.1}\n",
      "R2: 0.2738214164771702 | MSE: 1.3318344331649865\n"
     ]
    },
    {
     "name": "stderr",
     "output_type": "stream",
     "text": [
      "100%|██████████████████████████████████████████████████████████████████████████████████| 81/81 [00:12<00:00,  6.44it/s]\n"
     ]
    },
    {
     "name": "stdout",
     "output_type": "stream",
     "text": [
      "Training | ModelType: ModelType.SVR | Datasetname: orange_std_col_name_ohv_type | ScalerType: ScalerType.Raw_ | Params: {'kernel': 'linear', 'degree': 3, 'gamma': 'scale', 'coef0': 0, 'tol': 0.001, 'C': 1.5000000000000002, 'epsilon': 0.1}\n",
      "R2: 0.2968655605286106 | MSE: 1.2895707459303194\n"
     ]
    },
    {
     "name": "stderr",
     "output_type": "stream",
     "text": [
      "100%|████████████████████████████████████████████████████████████████████████████████| 81/81 [00:00<00:00, 1134.74it/s]\n"
     ]
    },
    {
     "name": "stdout",
     "output_type": "stream",
     "text": [
      "Training | ModelType: ModelType.SVR | Datasetname: orange_std_col_name_ohv_type | ScalerType: ScalerType.MaxAbsScaler_ | Params: {'kernel': 'linear', 'degree': 3, 'gamma': 'scale', 'coef0': 0, 'tol': 0.001, 'C': 1.5000000000000002, 'epsilon': 0.1}\n",
      "R2: 0.2790289725759345 | MSE: 1.3222836109811007\n"
     ]
    },
    {
     "name": "stderr",
     "output_type": "stream",
     "text": [
      "100%|████████████████████████████████████████████████████████████████████████████████| 81/81 [00:00<00:00, 1012.85it/s]\n"
     ]
    },
    {
     "name": "stdout",
     "output_type": "stream",
     "text": [
      "Training | ModelType: ModelType.SVR | Datasetname: orange_std_col_name_ohv_type | ScalerType: ScalerType.MinMaxScaler_ | Params: {'kernel': 'linear', 'degree': 3, 'gamma': 'scale', 'coef0': 0, 'tol': 0.001, 'C': 1.5000000000000002, 'epsilon': 0.1}\n",
      "R2: 0.2725956416176034 | MSE: 1.3340825429307128\n"
     ]
    },
    {
     "name": "stderr",
     "output_type": "stream",
     "text": [
      "100%|█████████████████████████████████████████████████████████████████████████████████| 81/81 [00:00<00:00, 767.92it/s]\n"
     ]
    },
    {
     "name": "stdout",
     "output_type": "stream",
     "text": [
      "Training | ModelType: ModelType.SVR | Datasetname: orange_std_col_name_ohv_type | ScalerType: ScalerType.Normalizer_ | Params: {'kernel': 'linear', 'degree': 3, 'gamma': 'scale', 'coef0': 0, 'tol': 0.001, 'C': 1.5000000000000002, 'epsilon': 0.1}\n",
      "R2: 0.29404735305775553 | MSE: 1.2947394273465065\n"
     ]
    },
    {
     "name": "stderr",
     "output_type": "stream",
     "text": [
      "100%|█████████████████████████████████████████████████████████████████████████████████| 81/81 [00:00<00:00, 528.57it/s]\n"
     ]
    },
    {
     "name": "stdout",
     "output_type": "stream",
     "text": [
      "Training | ModelType: ModelType.SVR | Datasetname: orange_std_col_name_ohv_type | ScalerType: ScalerType.RobustScaler_ | Params: {'kernel': 'linear', 'degree': 3, 'gamma': 'scale', 'coef0': 0, 'tol': 0.001, 'C': 1.5000000000000002, 'epsilon': 0.1}\n",
      "R2: 0.3074731225140599 | MSE: 1.2701161425796972\n"
     ]
    },
    {
     "name": "stderr",
     "output_type": "stream",
     "text": [
      "100%|█████████████████████████████████████████████████████████████████████████████████| 81/81 [00:00<00:00, 814.87it/s]\n"
     ]
    },
    {
     "name": "stdout",
     "output_type": "stream",
     "text": [
      "Training | ModelType: ModelType.SVR | Datasetname: orange_std_col_name_ohv_type | ScalerType: ScalerType.StandardScaler_ | Params: {'kernel': 'linear', 'degree': 3, 'gamma': 'scale', 'coef0': 0, 'tol': 0.001, 'C': 1.5000000000000002, 'epsilon': 0.1}\n",
      "R2: 0.29718494360769754 | MSE: 1.2889849872867158\n"
     ]
    },
    {
     "name": "stderr",
     "output_type": "stream",
     "text": [
      "100%|██████████████████████████████████████████████████████████████████████████████████| 81/81 [00:12<00:00,  6.40it/s]\n"
     ]
    },
    {
     "name": "stdout",
     "output_type": "stream",
     "text": [
      "Training | ModelType: ModelType.SVR | Datasetname: orange_std_col_name_ohv_type | ScalerType: ScalerType.Raw_ | Params: {'kernel': 'linear', 'degree': 3, 'gamma': 'scale', 'coef0': 0, 'tol': 0.001, 'C': 1.5000000000000002, 'epsilon': 0.1}\n",
      "R2: 0.2968655605286106 | MSE: 1.2895707459303194\n"
     ]
    },
    {
     "name": "stderr",
     "output_type": "stream",
     "text": [
      "100%|████████████████████████████████████████████████████████████████████████████████| 81/81 [00:00<00:00, 1182.49it/s]\n"
     ]
    },
    {
     "name": "stdout",
     "output_type": "stream",
     "text": [
      "Training | ModelType: ModelType.SVR | Datasetname: orange_std_col_name_ohv_type | ScalerType: ScalerType.MaxAbsScaler_ | Params: {'kernel': 'linear', 'degree': 3, 'gamma': 'scale', 'coef0': 0, 'tol': 0.001, 'C': 1.5000000000000002, 'epsilon': 0.1}\n",
      "R2: 0.2790289725759345 | MSE: 1.3222836109811007\n"
     ]
    },
    {
     "name": "stderr",
     "output_type": "stream",
     "text": [
      "100%|█████████████████████████████████████████████████████████████████████████████████| 81/81 [00:00<00:00, 984.27it/s]"
     ]
    },
    {
     "name": "stdout",
     "output_type": "stream",
     "text": [
      "Training | ModelType: ModelType.SVR | Datasetname: orange_std_col_name_ohv_type | ScalerType: ScalerType.MinMaxScaler_ | Params: {'kernel': 'linear', 'degree': 3, 'gamma': 'scale', 'coef0': 0, 'tol': 0.001, 'C': 1.5000000000000002, 'epsilon': 0.1}\n",
      "R2: 0.2725956416176034 | MSE: 1.3340825429307128\n"
     ]
    },
    {
     "name": "stderr",
     "output_type": "stream",
     "text": [
      "\n",
      "100%|█████████████████████████████████████████████████████████████████████████████████| 81/81 [00:00<00:00, 882.98it/s]\n"
     ]
    },
    {
     "name": "stdout",
     "output_type": "stream",
     "text": [
      "Training | ModelType: ModelType.SVR | Datasetname: orange_std_col_name_ohv_type | ScalerType: ScalerType.Normalizer_ | Params: {'kernel': 'linear', 'degree': 3, 'gamma': 'scale', 'coef0': 0, 'tol': 0.001, 'C': 1.5000000000000002, 'epsilon': 0.1}\n",
      "R2: 0.29404735305775553 | MSE: 1.2947394273465065\n"
     ]
    },
    {
     "name": "stderr",
     "output_type": "stream",
     "text": [
      "100%|█████████████████████████████████████████████████████████████████████████████████| 81/81 [00:00<00:00, 551.04it/s]\n"
     ]
    },
    {
     "name": "stdout",
     "output_type": "stream",
     "text": [
      "Training | ModelType: ModelType.SVR | Datasetname: orange_std_col_name_ohv_type | ScalerType: ScalerType.RobustScaler_ | Params: {'kernel': 'linear', 'degree': 3, 'gamma': 'scale', 'coef0': 0, 'tol': 0.001, 'C': 1.5000000000000002, 'epsilon': 0.1}\n",
      "R2: 0.3074731225140599 | MSE: 1.2701161425796972\n"
     ]
    },
    {
     "name": "stderr",
     "output_type": "stream",
     "text": [
      "100%|█████████████████████████████████████████████████████████████████████████████████| 81/81 [00:00<00:00, 663.41it/s]\n"
     ]
    },
    {
     "name": "stdout",
     "output_type": "stream",
     "text": [
      "Training | ModelType: ModelType.SVR | Datasetname: orange_std_col_name_ohv_type | ScalerType: ScalerType.StandardScaler_ | Params: {'kernel': 'linear', 'degree': 3, 'gamma': 'scale', 'coef0': 0, 'tol': 0.001, 'C': 1.5000000000000002, 'epsilon': 0.1}\n",
      "R2: 0.29718494360769754 | MSE: 1.2889849872867158\n"
     ]
    },
    {
     "name": "stderr",
     "output_type": "stream",
     "text": [
      "100%|████████████████████████████████████████████████████████████████████████████████| 81/81 [00:00<00:00, 1071.38it/s]\n"
     ]
    },
    {
     "name": "stdout",
     "output_type": "stream",
     "text": [
      "Training | ModelType: ModelType.SVR | Datasetname: orange_std_col_name_ohv_type | ScalerType: ScalerType.Raw_ | Params: {'kernel': 'poly', 'degree': 3, 'gamma': 'scale', 'coef0': 0, 'tol': 0.001, 'C': 1.5000000000000002, 'epsilon': 0.1}\n",
      "R2: 0.27383528157277803 | MSE: 1.3318090041421968\n"
     ]
    },
    {
     "name": "stderr",
     "output_type": "stream",
     "text": [
      "100%|█████████████████████████████████████████████████████████████████████████████████| 81/81 [00:00<00:00, 704.03it/s]\n"
     ]
    },
    {
     "name": "stdout",
     "output_type": "stream",
     "text": [
      "Training | ModelType: ModelType.SVR | Datasetname: orange_std_col_name_ohv_type | ScalerType: ScalerType.MaxAbsScaler_ | Params: {'kernel': 'poly', 'degree': 3, 'gamma': 'scale', 'coef0': 0, 'tol': 0.001, 'C': 1.5000000000000002, 'epsilon': 0.1}\n",
      "R2: 0.3003609680277759 | MSE: 1.283160058296504\n"
     ]
    },
    {
     "name": "stderr",
     "output_type": "stream",
     "text": [
      "100%|█████████████████████████████████████████████████████████████████████████████████| 81/81 [00:00<00:00, 718.86it/s]\n"
     ]
    },
    {
     "name": "stdout",
     "output_type": "stream",
     "text": [
      "Training | ModelType: ModelType.SVR | Datasetname: orange_std_col_name_ohv_type | ScalerType: ScalerType.MinMaxScaler_ | Params: {'kernel': 'poly', 'degree': 3, 'gamma': 'scale', 'coef0': 0, 'tol': 0.001, 'C': 1.5000000000000002, 'epsilon': 0.1}\n",
      "R2: 0.2385717620823946 | MSE: 1.3964834114540186\n"
     ]
    },
    {
     "name": "stderr",
     "output_type": "stream",
     "text": [
      "100%|█████████████████████████████████████████████████████████████████████████████████| 81/81 [00:00<00:00, 854.02it/s]\n"
     ]
    },
    {
     "name": "stdout",
     "output_type": "stream",
     "text": [
      "Training | ModelType: ModelType.SVR | Datasetname: orange_std_col_name_ohv_type | ScalerType: ScalerType.Normalizer_ | Params: {'kernel': 'poly', 'degree': 3, 'gamma': 'scale', 'coef0': 0, 'tol': 0.001, 'C': 1.5000000000000002, 'epsilon': 0.1}\n",
      "R2: 0.28302682608407126 | MSE: 1.3149514215146254\n"
     ]
    },
    {
     "name": "stderr",
     "output_type": "stream",
     "text": [
      "100%|█████████████████████████████████████████████████████████████████████████████████| 81/81 [00:00<00:00, 466.22it/s]\n"
     ]
    },
    {
     "name": "stdout",
     "output_type": "stream",
     "text": [
      "Training | ModelType: ModelType.SVR | Datasetname: orange_std_col_name_ohv_type | ScalerType: ScalerType.RobustScaler_ | Params: {'kernel': 'poly', 'degree': 3, 'gamma': 'scale', 'coef0': 0, 'tol': 0.001, 'C': 1.5000000000000002, 'epsilon': 0.1}\n",
      "R2: 0.19795743773326369 | MSE: 1.4709713636950437\n"
     ]
    },
    {
     "name": "stderr",
     "output_type": "stream",
     "text": [
      "100%|█████████████████████████████████████████████████████████████████████████████████| 81/81 [00:00<00:00, 577.21it/s]\n"
     ]
    },
    {
     "name": "stdout",
     "output_type": "stream",
     "text": [
      "Training | ModelType: ModelType.SVR | Datasetname: orange_std_col_name_ohv_type | ScalerType: ScalerType.StandardScaler_ | Params: {'kernel': 'poly', 'degree': 3, 'gamma': 'scale', 'coef0': 0, 'tol': 0.001, 'C': 1.5000000000000002, 'epsilon': 0.1}\n",
      "R2: 0.20715490539493842 | MSE: 1.4541029178227964\n"
     ]
    },
    {
     "name": "stderr",
     "output_type": "stream",
     "text": [
      "100%|█████████████████████████████████████████████████████████████████████████████████| 81/81 [00:00<00:00, 983.25it/s]\n"
     ]
    },
    {
     "name": "stdout",
     "output_type": "stream",
     "text": [
      "Training | ModelType: ModelType.SVR | Datasetname: orange_std_col_name_ohv_type | ScalerType: ScalerType.Raw_ | Params: {'kernel': 'poly', 'degree': 3, 'gamma': 'scale', 'coef0': 0, 'tol': 0.001, 'C': 1.6, 'epsilon': 0.1}\n",
      "R2: 0.2797314931345415 | MSE: 1.3209951661120436\n"
     ]
    },
    {
     "name": "stderr",
     "output_type": "stream",
     "text": [
      "100%|█████████████████████████████████████████████████████████████████████████████████| 81/81 [00:00<00:00, 790.35it/s]\n"
     ]
    },
    {
     "name": "stdout",
     "output_type": "stream",
     "text": [
      "Training | ModelType: ModelType.SVR | Datasetname: orange_std_col_name_ohv_type | ScalerType: ScalerType.MaxAbsScaler_ | Params: {'kernel': 'poly', 'degree': 3, 'gamma': 'scale', 'coef0': 0, 'tol': 0.001, 'C': 1.6, 'epsilon': 0.1}\n",
      "R2: 0.30117286703840973 | MSE: 1.281671009895532\n"
     ]
    },
    {
     "name": "stderr",
     "output_type": "stream",
     "text": [
      "100%|█████████████████████████████████████████████████████████████████████████████████| 81/81 [00:00<00:00, 692.26it/s]\n"
     ]
    },
    {
     "name": "stdout",
     "output_type": "stream",
     "text": [
      "Training | ModelType: ModelType.SVR | Datasetname: orange_std_col_name_ohv_type | ScalerType: ScalerType.MinMaxScaler_ | Params: {'kernel': 'poly', 'degree': 3, 'gamma': 'scale', 'coef0': 0, 'tol': 0.001, 'C': 1.6, 'epsilon': 0.1}\n",
      "R2: 0.23620162478026707 | MSE: 1.400830318044115\n"
     ]
    },
    {
     "name": "stderr",
     "output_type": "stream",
     "text": [
      "100%|█████████████████████████████████████████████████████████████████████████████████| 81/81 [00:00<00:00, 829.14it/s]\n"
     ]
    },
    {
     "name": "stdout",
     "output_type": "stream",
     "text": [
      "Training | ModelType: ModelType.SVR | Datasetname: orange_std_col_name_ohv_type | ScalerType: ScalerType.Normalizer_ | Params: {'kernel': 'poly', 'degree': 3, 'gamma': 'scale', 'coef0': 0, 'tol': 0.001, 'C': 1.6, 'epsilon': 0.1}\n",
      "R2: 0.2800927225195826 | MSE: 1.3203326600230663\n"
     ]
    },
    {
     "name": "stderr",
     "output_type": "stream",
     "text": [
      "100%|█████████████████████████████████████████████████████████████████████████████████| 81/81 [00:00<00:00, 473.35it/s]\n"
     ]
    },
    {
     "name": "stdout",
     "output_type": "stream",
     "text": [
      "Training | ModelType: ModelType.SVR | Datasetname: orange_std_col_name_ohv_type | ScalerType: ScalerType.RobustScaler_ | Params: {'kernel': 'poly', 'degree': 3, 'gamma': 'scale', 'coef0': 0, 'tol': 0.001, 'C': 1.6, 'epsilon': 0.1}\n",
      "R2: 0.20114171437690775 | MSE: 1.4651312998664539\n"
     ]
    },
    {
     "name": "stderr",
     "output_type": "stream",
     "text": [
      "100%|█████████████████████████████████████████████████████████████████████████████████| 81/81 [00:00<00:00, 585.83it/s]\n"
     ]
    },
    {
     "name": "stdout",
     "output_type": "stream",
     "text": [
      "Training | ModelType: ModelType.SVR | Datasetname: orange_std_col_name_ohv_type | ScalerType: ScalerType.StandardScaler_ | Params: {'kernel': 'poly', 'degree': 3, 'gamma': 'scale', 'coef0': 0, 'tol': 0.001, 'C': 1.6, 'epsilon': 0.1}\n",
      "R2: 0.20853075511169428 | MSE: 1.4515795660341135\n"
     ]
    },
    {
     "name": "stderr",
     "output_type": "stream",
     "text": [
      "100%|████████████████████████████████████████████████████████████████████████████████| 81/81 [00:00<00:00, 1512.96it/s]\n"
     ]
    },
    {
     "name": "stdout",
     "output_type": "stream",
     "text": [
      "Training | ModelType: ModelType.SVR | Datasetname: orange_std_col_name_ohv_type | ScalerType: ScalerType.Raw_ | Params: {'kernel': 'rbf', 'degree': 3, 'gamma': 'scale', 'coef0': 0, 'tol': 0.001, 'C': 1.6, 'epsilon': 0.1}\n",
      "R2: 0.21046119021546006 | MSE: 1.448039087148447\n"
     ]
    },
    {
     "name": "stderr",
     "output_type": "stream",
     "text": [
      "100%|█████████████████████████████████████████████████████████████████████████████████| 81/81 [00:00<00:00, 939.08it/s]\n"
     ]
    },
    {
     "name": "stdout",
     "output_type": "stream",
     "text": [
      "Training | ModelType: ModelType.SVR | Datasetname: orange_std_col_name_ohv_type | ScalerType: ScalerType.MaxAbsScaler_ | Params: {'kernel': 'rbf', 'degree': 3, 'gamma': 'scale', 'coef0': 0, 'tol': 0.001, 'C': 1.6, 'epsilon': 0.1}\n",
      "R2: 0.3004949127987916 | MSE: 1.2829143993604943\n"
     ]
    },
    {
     "name": "stderr",
     "output_type": "stream",
     "text": [
      "100%|█████████████████████████████████████████████████████████████████████████████████| 81/81 [00:00<00:00, 810.28it/s]\n"
     ]
    },
    {
     "name": "stdout",
     "output_type": "stream",
     "text": [
      "Training | ModelType: ModelType.SVR | Datasetname: orange_std_col_name_ohv_type | ScalerType: ScalerType.MinMaxScaler_ | Params: {'kernel': 'rbf', 'degree': 3, 'gamma': 'scale', 'coef0': 0, 'tol': 0.001, 'C': 1.6, 'epsilon': 0.1}\n",
      "R2: 0.29425028185411606 | MSE: 1.294367249531564\n"
     ]
    },
    {
     "name": "stderr",
     "output_type": "stream",
     "text": [
      "100%|█████████████████████████████████████████████████████████████████████████████████| 81/81 [00:00<00:00, 860.56it/s]\n"
     ]
    },
    {
     "name": "stdout",
     "output_type": "stream",
     "text": [
      "Training | ModelType: ModelType.SVR | Datasetname: orange_std_col_name_ohv_type | ScalerType: ScalerType.Normalizer_ | Params: {'kernel': 'rbf', 'degree': 3, 'gamma': 'scale', 'coef0': 0, 'tol': 0.001, 'C': 1.6, 'epsilon': 0.1}\n",
      "R2: 0.33003340475592335 | MSE: 1.2287398731696675\n"
     ]
    },
    {
     "name": "stderr",
     "output_type": "stream",
     "text": [
      "100%|█████████████████████████████████████████████████████████████████████████████████| 81/81 [00:00<00:00, 544.84it/s]\n"
     ]
    },
    {
     "name": "stdout",
     "output_type": "stream",
     "text": [
      "Training | ModelType: ModelType.SVR | Datasetname: orange_std_col_name_ohv_type | ScalerType: ScalerType.RobustScaler_ | Params: {'kernel': 'rbf', 'degree': 3, 'gamma': 'scale', 'coef0': 0, 'tol': 0.001, 'C': 1.6, 'epsilon': 0.1}\n",
      "R2: 0.2732035335683801 | MSE: 1.3329676499139556\n"
     ]
    },
    {
     "name": "stderr",
     "output_type": "stream",
     "text": [
      "100%|█████████████████████████████████████████████████████████████████████████████████| 81/81 [00:00<00:00, 857.85it/s]\n"
     ]
    },
    {
     "name": "stdout",
     "output_type": "stream",
     "text": [
      "Training | ModelType: ModelType.SVR | Datasetname: orange_std_col_name_ohv_type | ScalerType: ScalerType.StandardScaler_ | Params: {'kernel': 'rbf', 'degree': 3, 'gamma': 'scale', 'coef0': 0, 'tol': 0.001, 'C': 1.6, 'epsilon': 0.1}\n",
      "R2: 0.27316523633272327 | MSE: 1.3330378882524305\n"
     ]
    },
    {
     "name": "stderr",
     "output_type": "stream",
     "text": [
      "100%|████████████████████████████████████████████████████████████████████████████████| 81/81 [00:00<00:00, 1421.14it/s]\n"
     ]
    },
    {
     "name": "stdout",
     "output_type": "stream",
     "text": [
      "Training | ModelType: ModelType.SVR | Datasetname: orange_std_col_name_ohv_type | ScalerType: ScalerType.Raw_ | Params: {'kernel': 'rbf', 'degree': 3, 'gamma': 'scale', 'coef0': 0, 'tol': 0.001, 'C': 1.6, 'epsilon': 0.1}\n",
      "R2: 0.21046119021546006 | MSE: 1.448039087148447\n"
     ]
    },
    {
     "name": "stderr",
     "output_type": "stream",
     "text": [
      "100%|█████████████████████████████████████████████████████████████████████████████████| 81/81 [00:00<00:00, 925.76it/s]\n"
     ]
    },
    {
     "name": "stdout",
     "output_type": "stream",
     "text": [
      "Training | ModelType: ModelType.SVR | Datasetname: orange_std_col_name_ohv_type | ScalerType: ScalerType.MaxAbsScaler_ | Params: {'kernel': 'rbf', 'degree': 3, 'gamma': 'scale', 'coef0': 0, 'tol': 0.001, 'C': 1.6, 'epsilon': 0.1}\n",
      "R2: 0.3004949127987916 | MSE: 1.2829143993604943\n"
     ]
    },
    {
     "name": "stderr",
     "output_type": "stream",
     "text": [
      "100%|█████████████████████████████████████████████████████████████████████████████████| 81/81 [00:00<00:00, 882.93it/s]\n"
     ]
    },
    {
     "name": "stdout",
     "output_type": "stream",
     "text": [
      "Training | ModelType: ModelType.SVR | Datasetname: orange_std_col_name_ohv_type | ScalerType: ScalerType.MinMaxScaler_ | Params: {'kernel': 'rbf', 'degree': 3, 'gamma': 'scale', 'coef0': 0, 'tol': 0.001, 'C': 1.6, 'epsilon': 0.1}\n",
      "R2: 0.29425028185411606 | MSE: 1.294367249531564\n"
     ]
    },
    {
     "name": "stderr",
     "output_type": "stream",
     "text": [
      "100%|█████████████████████████████████████████████████████████████████████████████████| 81/81 [00:00<00:00, 849.87it/s]\n"
     ]
    },
    {
     "name": "stdout",
     "output_type": "stream",
     "text": [
      "Training | ModelType: ModelType.SVR | Datasetname: orange_std_col_name_ohv_type | ScalerType: ScalerType.Normalizer_ | Params: {'kernel': 'rbf', 'degree': 3, 'gamma': 'scale', 'coef0': 0, 'tol': 0.001, 'C': 1.6, 'epsilon': 0.1}\n",
      "R2: 0.33003340475592335 | MSE: 1.2287398731696675\n"
     ]
    },
    {
     "name": "stderr",
     "output_type": "stream",
     "text": [
      "100%|█████████████████████████████████████████████████████████████████████████████████| 81/81 [00:00<00:00, 570.57it/s]\n"
     ]
    },
    {
     "name": "stdout",
     "output_type": "stream",
     "text": [
      "Training | ModelType: ModelType.SVR | Datasetname: orange_std_col_name_ohv_type | ScalerType: ScalerType.RobustScaler_ | Params: {'kernel': 'rbf', 'degree': 3, 'gamma': 'scale', 'coef0': 0, 'tol': 0.001, 'C': 1.6, 'epsilon': 0.1}\n",
      "R2: 0.2732035335683801 | MSE: 1.3329676499139556\n"
     ]
    },
    {
     "name": "stderr",
     "output_type": "stream",
     "text": [
      "100%|█████████████████████████████████████████████████████████████████████████████████| 81/81 [00:00<00:00, 813.14it/s]\n"
     ]
    },
    {
     "name": "stdout",
     "output_type": "stream",
     "text": [
      "Training | ModelType: ModelType.SVR | Datasetname: orange_std_col_name_ohv_type | ScalerType: ScalerType.StandardScaler_ | Params: {'kernel': 'rbf', 'degree': 3, 'gamma': 'scale', 'coef0': 0, 'tol': 0.001, 'C': 1.6, 'epsilon': 0.1}\n",
      "R2: 0.27316523633272327 | MSE: 1.3330378882524305\n"
     ]
    },
    {
     "name": "stderr",
     "output_type": "stream",
     "text": [
      "100%|██████████████████████████████████████████████████████████████████████████████████| 81/81 [00:13<00:00,  6.19it/s]\n"
     ]
    },
    {
     "name": "stdout",
     "output_type": "stream",
     "text": [
      "Training | ModelType: ModelType.SVR | Datasetname: orange_std_col_name_ohv_type | ScalerType: ScalerType.Raw_ | Params: {'kernel': 'linear', 'degree': 3, 'gamma': 'scale', 'coef0': 0, 'tol': 0.001, 'C': 1.6, 'epsilon': 0.1}\n",
      "R2: 0.29576207463905313 | MSE: 1.2915945738668233\n"
     ]
    },
    {
     "name": "stderr",
     "output_type": "stream",
     "text": [
      "100%|█████████████████████████████████████████████████████████████████████████████████| 81/81 [00:00<00:00, 994.05it/s]\n"
     ]
    },
    {
     "name": "stdout",
     "output_type": "stream",
     "text": [
      "Training | ModelType: ModelType.SVR | Datasetname: orange_std_col_name_ohv_type | ScalerType: ScalerType.MaxAbsScaler_ | Params: {'kernel': 'linear', 'degree': 3, 'gamma': 'scale', 'coef0': 0, 'tol': 0.001, 'C': 1.6, 'epsilon': 0.1}\n",
      "R2: 0.28786563232699414 | MSE: 1.3060768982004358\n"
     ]
    },
    {
     "name": "stderr",
     "output_type": "stream",
     "text": [
      "100%|█████████████████████████████████████████████████████████████████████████████████| 81/81 [00:00<00:00, 947.19it/s]\n"
     ]
    },
    {
     "name": "stdout",
     "output_type": "stream",
     "text": [
      "Training | ModelType: ModelType.SVR | Datasetname: orange_std_col_name_ohv_type | ScalerType: ScalerType.MinMaxScaler_ | Params: {'kernel': 'linear', 'degree': 3, 'gamma': 'scale', 'coef0': 0, 'tol': 0.001, 'C': 1.6, 'epsilon': 0.1}\n",
      "R2: 0.2730507824401551 | MSE: 1.3332478003024288\n"
     ]
    },
    {
     "name": "stderr",
     "output_type": "stream",
     "text": [
      "100%|█████████████████████████████████████████████████████████████████████████████████| 81/81 [00:00<00:00, 956.76it/s]\n"
     ]
    },
    {
     "name": "stdout",
     "output_type": "stream",
     "text": [
      "Training | ModelType: ModelType.SVR | Datasetname: orange_std_col_name_ohv_type | ScalerType: ScalerType.Normalizer_ | Params: {'kernel': 'linear', 'degree': 3, 'gamma': 'scale', 'coef0': 0, 'tol': 0.001, 'C': 1.6, 'epsilon': 0.1}\n",
      "R2: 0.2941483005369283 | MSE: 1.2945542864848036\n"
     ]
    },
    {
     "name": "stderr",
     "output_type": "stream",
     "text": [
      "100%|█████████████████████████████████████████████████████████████████████████████████| 81/81 [00:00<00:00, 480.22it/s]\n"
     ]
    },
    {
     "name": "stdout",
     "output_type": "stream",
     "text": [
      "Training | ModelType: ModelType.SVR | Datasetname: orange_std_col_name_ohv_type | ScalerType: ScalerType.RobustScaler_ | Params: {'kernel': 'linear', 'degree': 3, 'gamma': 'scale', 'coef0': 0, 'tol': 0.001, 'C': 1.6, 'epsilon': 0.1}\n",
      "R2: 0.30639416896418603 | MSE: 1.2720949774312245\n"
     ]
    },
    {
     "name": "stderr",
     "output_type": "stream",
     "text": [
      "100%|█████████████████████████████████████████████████████████████████████████████████| 81/81 [00:00<00:00, 688.52it/s]\n"
     ]
    },
    {
     "name": "stdout",
     "output_type": "stream",
     "text": [
      "Training | ModelType: ModelType.SVR | Datasetname: orange_std_col_name_ohv_type | ScalerType: ScalerType.StandardScaler_ | Params: {'kernel': 'linear', 'degree': 3, 'gamma': 'scale', 'coef0': 0, 'tol': 0.001, 'C': 1.6, 'epsilon': 0.1}\n",
      "R2: 0.2982917003878244 | MSE: 1.2869551604337108\n"
     ]
    },
    {
     "name": "stderr",
     "output_type": "stream",
     "text": [
      "100%|██████████████████████████████████████████████████████████████████████████████████| 81/81 [00:13<00:00,  6.20it/s]\n"
     ]
    },
    {
     "name": "stdout",
     "output_type": "stream",
     "text": [
      "Training | ModelType: ModelType.SVR | Datasetname: orange_std_col_name_ohv_type | ScalerType: ScalerType.Raw_ | Params: {'kernel': 'linear', 'degree': 3, 'gamma': 'scale', 'coef0': 0, 'tol': 0.001, 'C': 1.6, 'epsilon': 0.1}\n",
      "R2: 0.29576207463905313 | MSE: 1.2915945738668233\n"
     ]
    },
    {
     "name": "stderr",
     "output_type": "stream",
     "text": [
      "100%|████████████████████████████████████████████████████████████████████████████████| 81/81 [00:00<00:00, 1212.46it/s]\n"
     ]
    },
    {
     "name": "stdout",
     "output_type": "stream",
     "text": [
      "Training | ModelType: ModelType.SVR | Datasetname: orange_std_col_name_ohv_type | ScalerType: ScalerType.MaxAbsScaler_ | Params: {'kernel': 'linear', 'degree': 3, 'gamma': 'scale', 'coef0': 0, 'tol': 0.001, 'C': 1.6, 'epsilon': 0.1}\n",
      "R2: 0.28786563232699414 | MSE: 1.3060768982004358\n"
     ]
    },
    {
     "name": "stderr",
     "output_type": "stream",
     "text": [
      "100%|████████████████████████████████████████████████████████████████████████████████| 81/81 [00:00<00:00, 1116.44it/s]\n"
     ]
    },
    {
     "name": "stdout",
     "output_type": "stream",
     "text": [
      "Training | ModelType: ModelType.SVR | Datasetname: orange_std_col_name_ohv_type | ScalerType: ScalerType.MinMaxScaler_ | Params: {'kernel': 'linear', 'degree': 3, 'gamma': 'scale', 'coef0': 0, 'tol': 0.001, 'C': 1.6, 'epsilon': 0.1}\n",
      "R2: 0.2730507824401551 | MSE: 1.3332478003024288\n"
     ]
    },
    {
     "name": "stderr",
     "output_type": "stream",
     "text": [
      "100%|█████████████████████████████████████████████████████████████████████████████████| 81/81 [00:00<00:00, 902.75it/s]\n"
     ]
    },
    {
     "name": "stdout",
     "output_type": "stream",
     "text": [
      "Training | ModelType: ModelType.SVR | Datasetname: orange_std_col_name_ohv_type | ScalerType: ScalerType.Normalizer_ | Params: {'kernel': 'linear', 'degree': 3, 'gamma': 'scale', 'coef0': 0, 'tol': 0.001, 'C': 1.6, 'epsilon': 0.1}\n",
      "R2: 0.2941483005369283 | MSE: 1.2945542864848036\n"
     ]
    },
    {
     "name": "stderr",
     "output_type": "stream",
     "text": [
      "100%|█████████████████████████████████████████████████████████████████████████████████| 81/81 [00:00<00:00, 502.22it/s]\n"
     ]
    },
    {
     "name": "stdout",
     "output_type": "stream",
     "text": [
      "Training | ModelType: ModelType.SVR | Datasetname: orange_std_col_name_ohv_type | ScalerType: ScalerType.RobustScaler_ | Params: {'kernel': 'linear', 'degree': 3, 'gamma': 'scale', 'coef0': 0, 'tol': 0.001, 'C': 1.6, 'epsilon': 0.1}\n",
      "R2: 0.30639416896418603 | MSE: 1.2720949774312245\n"
     ]
    },
    {
     "name": "stderr",
     "output_type": "stream",
     "text": [
      "100%|█████████████████████████████████████████████████████████████████████████████████| 81/81 [00:00<00:00, 681.40it/s]\n"
     ]
    },
    {
     "name": "stdout",
     "output_type": "stream",
     "text": [
      "Training | ModelType: ModelType.SVR | Datasetname: orange_std_col_name_ohv_type | ScalerType: ScalerType.StandardScaler_ | Params: {'kernel': 'linear', 'degree': 3, 'gamma': 'scale', 'coef0': 0, 'tol': 0.001, 'C': 1.6, 'epsilon': 0.1}\n",
      "R2: 0.2982917003878244 | MSE: 1.2869551604337108\n"
     ]
    },
    {
     "name": "stderr",
     "output_type": "stream",
     "text": [
      "100%|████████████████████████████████████████████████████████████████████████████████| 81/81 [00:00<00:00, 1056.84it/s]\n"
     ]
    },
    {
     "name": "stdout",
     "output_type": "stream",
     "text": [
      "Training | ModelType: ModelType.SVR | Datasetname: orange_std_col_name_ohv_type | ScalerType: ScalerType.Raw_ | Params: {'kernel': 'poly', 'degree': 3, 'gamma': 'scale', 'coef0': 0, 'tol': 0.001, 'C': 1.6, 'epsilon': 0.1}\n",
      "R2: 0.2797314931345415 | MSE: 1.3209951661120436\n"
     ]
    },
    {
     "name": "stderr",
     "output_type": "stream",
     "text": [
      "100%|█████████████████████████████████████████████████████████████████████████████████| 81/81 [00:00<00:00, 817.01it/s]\n"
     ]
    },
    {
     "name": "stdout",
     "output_type": "stream",
     "text": [
      "Training | ModelType: ModelType.SVR | Datasetname: orange_std_col_name_ohv_type | ScalerType: ScalerType.MaxAbsScaler_ | Params: {'kernel': 'poly', 'degree': 3, 'gamma': 'scale', 'coef0': 0, 'tol': 0.001, 'C': 1.6, 'epsilon': 0.1}\n",
      "R2: 0.30117286703840973 | MSE: 1.281671009895532\n"
     ]
    },
    {
     "name": "stderr",
     "output_type": "stream",
     "text": [
      "100%|█████████████████████████████████████████████████████████████████████████████████| 81/81 [00:00<00:00, 729.42it/s]\n"
     ]
    },
    {
     "name": "stdout",
     "output_type": "stream",
     "text": [
      "Training | ModelType: ModelType.SVR | Datasetname: orange_std_col_name_ohv_type | ScalerType: ScalerType.MinMaxScaler_ | Params: {'kernel': 'poly', 'degree': 3, 'gamma': 'scale', 'coef0': 0, 'tol': 0.001, 'C': 1.6, 'epsilon': 0.1}\n",
      "R2: 0.23620162478026707 | MSE: 1.400830318044115\n"
     ]
    },
    {
     "name": "stderr",
     "output_type": "stream",
     "text": [
      "100%|█████████████████████████████████████████████████████████████████████████████████| 81/81 [00:00<00:00, 871.33it/s]\n"
     ]
    },
    {
     "name": "stdout",
     "output_type": "stream",
     "text": [
      "Training | ModelType: ModelType.SVR | Datasetname: orange_std_col_name_ohv_type | ScalerType: ScalerType.Normalizer_ | Params: {'kernel': 'poly', 'degree': 3, 'gamma': 'scale', 'coef0': 0, 'tol': 0.001, 'C': 1.6, 'epsilon': 0.1}\n",
      "R2: 0.2800927225195826 | MSE: 1.3203326600230663\n"
     ]
    },
    {
     "name": "stderr",
     "output_type": "stream",
     "text": [
      "100%|█████████████████████████████████████████████████████████████████████████████████| 81/81 [00:00<00:00, 494.99it/s]\n"
     ]
    },
    {
     "name": "stdout",
     "output_type": "stream",
     "text": [
      "Training | ModelType: ModelType.SVR | Datasetname: orange_std_col_name_ohv_type | ScalerType: ScalerType.RobustScaler_ | Params: {'kernel': 'poly', 'degree': 3, 'gamma': 'scale', 'coef0': 0, 'tol': 0.001, 'C': 1.6, 'epsilon': 0.1}\n",
      "R2: 0.20114171437690775 | MSE: 1.4651312998664539\n"
     ]
    },
    {
     "name": "stderr",
     "output_type": "stream",
     "text": [
      "100%|█████████████████████████████████████████████████████████████████████████████████| 81/81 [00:00<00:00, 638.68it/s]\n"
     ]
    },
    {
     "name": "stdout",
     "output_type": "stream",
     "text": [
      "Training | ModelType: ModelType.SVR | Datasetname: orange_std_col_name_ohv_type | ScalerType: ScalerType.StandardScaler_ | Params: {'kernel': 'poly', 'degree': 3, 'gamma': 'scale', 'coef0': 0, 'tol': 0.001, 'C': 1.6, 'epsilon': 0.1}\n",
      "R2: 0.20853075511169428 | MSE: 1.4515795660341135\n"
     ]
    },
    {
     "name": "stderr",
     "output_type": "stream",
     "text": [
      "100%|████████████████████████████████████████████████████████████████████████████████| 81/81 [00:00<00:00, 1118.10it/s]\n"
     ]
    },
    {
     "name": "stdout",
     "output_type": "stream",
     "text": [
      "Training | ModelType: ModelType.SVR | Datasetname: orange_std_col_name_ohv_type | ScalerType: ScalerType.Raw_ | Params: {'kernel': 'poly', 'degree': 3, 'gamma': 'scale', 'coef0': 0, 'tol': 0.001, 'C': 1.7000000000000002, 'epsilon': 0.1}\n",
      "R2: 0.2827821950885364 | MSE: 1.315400082478561\n"
     ]
    },
    {
     "name": "stderr",
     "output_type": "stream",
     "text": [
      "100%|█████████████████████████████████████████████████████████████████████████████████| 81/81 [00:00<00:00, 829.54it/s]\n"
     ]
    },
    {
     "name": "stdout",
     "output_type": "stream",
     "text": [
      "Training | ModelType: ModelType.SVR | Datasetname: orange_std_col_name_ohv_type | ScalerType: ScalerType.MaxAbsScaler_ | Params: {'kernel': 'poly', 'degree': 3, 'gamma': 'scale', 'coef0': 0, 'tol': 0.001, 'C': 1.7000000000000002, 'epsilon': 0.1}\n",
      "R2: 0.3006186793157678 | MSE: 1.282687407663518\n"
     ]
    },
    {
     "name": "stderr",
     "output_type": "stream",
     "text": [
      "100%|█████████████████████████████████████████████████████████████████████████████████| 81/81 [00:00<00:00, 734.10it/s]\n"
     ]
    },
    {
     "name": "stdout",
     "output_type": "stream",
     "text": [
      "Training | ModelType: ModelType.SVR | Datasetname: orange_std_col_name_ohv_type | ScalerType: ScalerType.MinMaxScaler_ | Params: {'kernel': 'poly', 'degree': 3, 'gamma': 'scale', 'coef0': 0, 'tol': 0.001, 'C': 1.7000000000000002, 'epsilon': 0.1}\n",
      "R2: 0.23365347626153976 | MSE: 1.4055037028217214\n"
     ]
    },
    {
     "name": "stderr",
     "output_type": "stream",
     "text": [
      "100%|█████████████████████████████████████████████████████████████████████████████████| 81/81 [00:00<00:00, 957.18it/s]\n"
     ]
    },
    {
     "name": "stdout",
     "output_type": "stream",
     "text": [
      "Training | ModelType: ModelType.SVR | Datasetname: orange_std_col_name_ohv_type | ScalerType: ScalerType.Normalizer_ | Params: {'kernel': 'poly', 'degree': 3, 'gamma': 'scale', 'coef0': 0, 'tol': 0.001, 'C': 1.7000000000000002, 'epsilon': 0.1}\n",
      "R2: 0.2768699663594383 | MSE: 1.326243296498949\n"
     ]
    },
    {
     "name": "stderr",
     "output_type": "stream",
     "text": [
      "100%|█████████████████████████████████████████████████████████████████████████████████| 81/81 [00:00<00:00, 491.84it/s]\n"
     ]
    },
    {
     "name": "stdout",
     "output_type": "stream",
     "text": [
      "Training | ModelType: ModelType.SVR | Datasetname: orange_std_col_name_ohv_type | ScalerType: ScalerType.RobustScaler_ | Params: {'kernel': 'poly', 'degree': 3, 'gamma': 'scale', 'coef0': 0, 'tol': 0.001, 'C': 1.7000000000000002, 'epsilon': 0.1}\n",
      "R2: 0.20284369299573324 | MSE: 1.4620098173819858\n"
     ]
    },
    {
     "name": "stderr",
     "output_type": "stream",
     "text": [
      "100%|█████████████████████████████████████████████████████████████████████████████████| 81/81 [00:00<00:00, 664.68it/s]\n"
     ]
    },
    {
     "name": "stdout",
     "output_type": "stream",
     "text": [
      "Training | ModelType: ModelType.SVR | Datasetname: orange_std_col_name_ohv_type | ScalerType: ScalerType.StandardScaler_ | Params: {'kernel': 'poly', 'degree': 3, 'gamma': 'scale', 'coef0': 0, 'tol': 0.001, 'C': 1.7000000000000002, 'epsilon': 0.1}\n",
      "R2: 0.21297185376243732 | MSE: 1.4434344509916837\n"
     ]
    },
    {
     "name": "stderr",
     "output_type": "stream",
     "text": [
      "100%|████████████████████████████████████████████████████████████████████████████████| 81/81 [00:00<00:00, 1319.14it/s]\n"
     ]
    },
    {
     "name": "stdout",
     "output_type": "stream",
     "text": [
      "Training | ModelType: ModelType.SVR | Datasetname: orange_std_col_name_ohv_type | ScalerType: ScalerType.Raw_ | Params: {'kernel': 'rbf', 'degree': 3, 'gamma': 'scale', 'coef0': 0, 'tol': 0.001, 'C': 1.7000000000000002, 'epsilon': 0.1}\n",
      "R2: 0.2099006286600128 | MSE: 1.4490671747268928\n"
     ]
    },
    {
     "name": "stderr",
     "output_type": "stream",
     "text": [
      "100%|█████████████████████████████████████████████████████████████████████████████████| 81/81 [00:00<00:00, 962.93it/s]\n"
     ]
    },
    {
     "name": "stdout",
     "output_type": "stream",
     "text": [
      "Training | ModelType: ModelType.SVR | Datasetname: orange_std_col_name_ohv_type | ScalerType: ScalerType.MaxAbsScaler_ | Params: {'kernel': 'rbf', 'degree': 3, 'gamma': 'scale', 'coef0': 0, 'tol': 0.001, 'C': 1.7000000000000002, 'epsilon': 0.1}\n",
      "R2: 0.3005597097579398 | MSE: 1.282795559693068\n"
     ]
    },
    {
     "name": "stderr",
     "output_type": "stream",
     "text": [
      "100%|█████████████████████████████████████████████████████████████████████████████████| 81/81 [00:00<00:00, 889.76it/s]\n"
     ]
    },
    {
     "name": "stdout",
     "output_type": "stream",
     "text": [
      "Training | ModelType: ModelType.SVR | Datasetname: orange_std_col_name_ohv_type | ScalerType: ScalerType.MinMaxScaler_ | Params: {'kernel': 'rbf', 'degree': 3, 'gamma': 'scale', 'coef0': 0, 'tol': 0.001, 'C': 1.7000000000000002, 'epsilon': 0.1}\n",
      "R2: 0.29434125206021167 | MSE: 1.2942004073034685\n"
     ]
    },
    {
     "name": "stderr",
     "output_type": "stream",
     "text": [
      "100%|█████████████████████████████████████████████████████████████████████████████████| 81/81 [00:00<00:00, 862.34it/s]\n"
     ]
    },
    {
     "name": "stdout",
     "output_type": "stream",
     "text": [
      "Training | ModelType: ModelType.SVR | Datasetname: orange_std_col_name_ohv_type | ScalerType: ScalerType.Normalizer_ | Params: {'kernel': 'rbf', 'degree': 3, 'gamma': 'scale', 'coef0': 0, 'tol': 0.001, 'C': 1.7000000000000002, 'epsilon': 0.1}\n",
      "R2: 0.3295187427905054 | MSE: 1.2296837794518645\n"
     ]
    },
    {
     "name": "stderr",
     "output_type": "stream",
     "text": [
      "100%|█████████████████████████████████████████████████████████████████████████████████| 81/81 [00:00<00:00, 574.75it/s]\n"
     ]
    },
    {
     "name": "stdout",
     "output_type": "stream",
     "text": [
      "Training | ModelType: ModelType.SVR | Datasetname: orange_std_col_name_ohv_type | ScalerType: ScalerType.RobustScaler_ | Params: {'kernel': 'rbf', 'degree': 3, 'gamma': 'scale', 'coef0': 0, 'tol': 0.001, 'C': 1.7000000000000002, 'epsilon': 0.1}\n",
      "R2: 0.27346911944118835 | MSE: 1.3324805570439728\n"
     ]
    },
    {
     "name": "stderr",
     "output_type": "stream",
     "text": [
      "100%|█████████████████████████████████████████████████████████████████████████████████| 81/81 [00:00<00:00, 729.52it/s]\n"
     ]
    },
    {
     "name": "stdout",
     "output_type": "stream",
     "text": [
      "Training | ModelType: ModelType.SVR | Datasetname: orange_std_col_name_ohv_type | ScalerType: ScalerType.StandardScaler_ | Params: {'kernel': 'rbf', 'degree': 3, 'gamma': 'scale', 'coef0': 0, 'tol': 0.001, 'C': 1.7000000000000002, 'epsilon': 0.1}\n",
      "R2: 0.2726513291618632 | MSE: 1.3339804102175945\n"
     ]
    },
    {
     "name": "stderr",
     "output_type": "stream",
     "text": [
      "100%|████████████████████████████████████████████████████████████████████████████████| 81/81 [00:00<00:00, 1213.87it/s]\n"
     ]
    },
    {
     "name": "stdout",
     "output_type": "stream",
     "text": [
      "Training | ModelType: ModelType.SVR | Datasetname: orange_std_col_name_ohv_type | ScalerType: ScalerType.Raw_ | Params: {'kernel': 'rbf', 'degree': 3, 'gamma': 'scale', 'coef0': 0, 'tol': 0.001, 'C': 1.7000000000000002, 'epsilon': 0.1}\n",
      "R2: 0.2099006286600128 | MSE: 1.4490671747268928\n"
     ]
    },
    {
     "name": "stderr",
     "output_type": "stream",
     "text": [
      "100%|█████████████████████████████████████████████████████████████████████████████████| 81/81 [00:00<00:00, 926.56it/s]\n"
     ]
    },
    {
     "name": "stdout",
     "output_type": "stream",
     "text": [
      "Training | ModelType: ModelType.SVR | Datasetname: orange_std_col_name_ohv_type | ScalerType: ScalerType.MaxAbsScaler_ | Params: {'kernel': 'rbf', 'degree': 3, 'gamma': 'scale', 'coef0': 0, 'tol': 0.001, 'C': 1.7000000000000002, 'epsilon': 0.1}\n",
      "R2: 0.3005597097579398 | MSE: 1.282795559693068\n"
     ]
    },
    {
     "name": "stderr",
     "output_type": "stream",
     "text": [
      "100%|█████████████████████████████████████████████████████████████████████████████████| 81/81 [00:00<00:00, 870.04it/s]\n"
     ]
    },
    {
     "name": "stdout",
     "output_type": "stream",
     "text": [
      "Training | ModelType: ModelType.SVR | Datasetname: orange_std_col_name_ohv_type | ScalerType: ScalerType.MinMaxScaler_ | Params: {'kernel': 'rbf', 'degree': 3, 'gamma': 'scale', 'coef0': 0, 'tol': 0.001, 'C': 1.7000000000000002, 'epsilon': 0.1}\n",
      "R2: 0.29434125206021167 | MSE: 1.2942004073034685\n"
     ]
    },
    {
     "name": "stderr",
     "output_type": "stream",
     "text": [
      "100%|█████████████████████████████████████████████████████████████████████████████████| 81/81 [00:00<00:00, 944.54it/s]\n"
     ]
    },
    {
     "name": "stdout",
     "output_type": "stream",
     "text": [
      "Training | ModelType: ModelType.SVR | Datasetname: orange_std_col_name_ohv_type | ScalerType: ScalerType.Normalizer_ | Params: {'kernel': 'rbf', 'degree': 3, 'gamma': 'scale', 'coef0': 0, 'tol': 0.001, 'C': 1.7000000000000002, 'epsilon': 0.1}\n",
      "R2: 0.3295187427905054 | MSE: 1.2296837794518645\n"
     ]
    },
    {
     "name": "stderr",
     "output_type": "stream",
     "text": [
      "100%|█████████████████████████████████████████████████████████████████████████████████| 81/81 [00:00<00:00, 565.95it/s]\n"
     ]
    },
    {
     "name": "stdout",
     "output_type": "stream",
     "text": [
      "Training | ModelType: ModelType.SVR | Datasetname: orange_std_col_name_ohv_type | ScalerType: ScalerType.RobustScaler_ | Params: {'kernel': 'rbf', 'degree': 3, 'gamma': 'scale', 'coef0': 0, 'tol': 0.001, 'C': 1.7000000000000002, 'epsilon': 0.1}\n",
      "R2: 0.27346911944118835 | MSE: 1.3324805570439728\n"
     ]
    },
    {
     "name": "stderr",
     "output_type": "stream",
     "text": [
      "100%|█████████████████████████████████████████████████████████████████████████████████| 81/81 [00:00<00:00, 740.11it/s]\n"
     ]
    },
    {
     "name": "stdout",
     "output_type": "stream",
     "text": [
      "Training | ModelType: ModelType.SVR | Datasetname: orange_std_col_name_ohv_type | ScalerType: ScalerType.StandardScaler_ | Params: {'kernel': 'rbf', 'degree': 3, 'gamma': 'scale', 'coef0': 0, 'tol': 0.001, 'C': 1.7000000000000002, 'epsilon': 0.1}\n",
      "R2: 0.2726513291618632 | MSE: 1.3339804102175945\n"
     ]
    },
    {
     "name": "stderr",
     "output_type": "stream",
     "text": [
      "100%|██████████████████████████████████████████████████████████████████████████████████| 81/81 [00:14<00:00,  5.69it/s]\n"
     ]
    },
    {
     "name": "stdout",
     "output_type": "stream",
     "text": [
      "Training | ModelType: ModelType.SVR | Datasetname: orange_std_col_name_ohv_type | ScalerType: ScalerType.Raw_ | Params: {'kernel': 'linear', 'degree': 3, 'gamma': 'scale', 'coef0': 0, 'tol': 0.001, 'C': 1.7000000000000002, 'epsilon': 0.1}\n",
      "R2: 0.295548731500894 | MSE: 1.2919858519131977\n"
     ]
    },
    {
     "name": "stderr",
     "output_type": "stream",
     "text": [
      "100%|████████████████████████████████████████████████████████████████████████████████| 81/81 [00:00<00:00, 1162.35it/s]\n"
     ]
    },
    {
     "name": "stdout",
     "output_type": "stream",
     "text": [
      "Training | ModelType: ModelType.SVR | Datasetname: orange_std_col_name_ohv_type | ScalerType: ScalerType.MaxAbsScaler_ | Params: {'kernel': 'linear', 'degree': 3, 'gamma': 'scale', 'coef0': 0, 'tol': 0.001, 'C': 1.7000000000000002, 'epsilon': 0.1}\n",
      "R2: 0.29184863998744304 | MSE: 1.2987719364870078\n"
     ]
    },
    {
     "name": "stderr",
     "output_type": "stream",
     "text": [
      "100%|█████████████████████████████████████████████████████████████████████████████████| 81/81 [00:00<00:00, 932.77it/s]"
     ]
    },
    {
     "name": "stdout",
     "output_type": "stream",
     "text": [
      "Training | ModelType: ModelType.SVR | Datasetname: orange_std_col_name_ohv_type | ScalerType: ScalerType.MinMaxScaler_ | Params: {'kernel': 'linear', 'degree': 3, 'gamma': 'scale', 'coef0': 0, 'tol': 0.001, 'C': 1.7000000000000002, 'epsilon': 0.1}\n",
      "R2: 0.27393831479428143 | MSE: 1.3316200379632546\n"
     ]
    },
    {
     "name": "stderr",
     "output_type": "stream",
     "text": [
      "\n",
      "100%|█████████████████████████████████████████████████████████████████████████████████| 81/81 [00:00<00:00, 895.36it/s]\n"
     ]
    },
    {
     "name": "stdout",
     "output_type": "stream",
     "text": [
      "Training | ModelType: ModelType.SVR | Datasetname: orange_std_col_name_ohv_type | ScalerType: ScalerType.Normalizer_ | Params: {'kernel': 'linear', 'degree': 3, 'gamma': 'scale', 'coef0': 0, 'tol': 0.001, 'C': 1.7000000000000002, 'epsilon': 0.1}\n",
      "R2: 0.2943291451498806 | MSE: 1.2942226117589892\n"
     ]
    },
    {
     "name": "stderr",
     "output_type": "stream",
     "text": [
      "100%|█████████████████████████████████████████████████████████████████████████████████| 81/81 [00:00<00:00, 531.32it/s]\n"
     ]
    },
    {
     "name": "stdout",
     "output_type": "stream",
     "text": [
      "Training | ModelType: ModelType.SVR | Datasetname: orange_std_col_name_ohv_type | ScalerType: ScalerType.RobustScaler_ | Params: {'kernel': 'linear', 'degree': 3, 'gamma': 'scale', 'coef0': 0, 'tol': 0.001, 'C': 1.7000000000000002, 'epsilon': 0.1}\n",
      "R2: 0.30709360885696135 | MSE: 1.2708121826004979\n"
     ]
    },
    {
     "name": "stderr",
     "output_type": "stream",
     "text": [
      "100%|█████████████████████████████████████████████████████████████████████████████████| 81/81 [00:00<00:00, 682.80it/s]\n"
     ]
    },
    {
     "name": "stdout",
     "output_type": "stream",
     "text": [
      "Training | ModelType: ModelType.SVR | Datasetname: orange_std_col_name_ohv_type | ScalerType: ScalerType.StandardScaler_ | Params: {'kernel': 'linear', 'degree': 3, 'gamma': 'scale', 'coef0': 0, 'tol': 0.001, 'C': 1.7000000000000002, 'epsilon': 0.1}\n",
      "R2: 0.30105353190194306 | MSE: 1.2818898743008436\n"
     ]
    },
    {
     "name": "stderr",
     "output_type": "stream",
     "text": [
      "100%|██████████████████████████████████████████████████████████████████████████████████| 81/81 [00:14<00:00,  5.63it/s]\n"
     ]
    },
    {
     "name": "stdout",
     "output_type": "stream",
     "text": [
      "Training | ModelType: ModelType.SVR | Datasetname: orange_std_col_name_ohv_type | ScalerType: ScalerType.Raw_ | Params: {'kernel': 'linear', 'degree': 3, 'gamma': 'scale', 'coef0': 0, 'tol': 0.001, 'C': 1.7000000000000002, 'epsilon': 0.1}\n",
      "R2: 0.295548731500894 | MSE: 1.2919858519131977\n"
     ]
    },
    {
     "name": "stderr",
     "output_type": "stream",
     "text": [
      "100%|█████████████████████████████████████████████████████████████████████████████████| 81/81 [00:00<00:00, 916.74it/s]\n"
     ]
    },
    {
     "name": "stdout",
     "output_type": "stream",
     "text": [
      "Training | ModelType: ModelType.SVR | Datasetname: orange_std_col_name_ohv_type | ScalerType: ScalerType.MaxAbsScaler_ | Params: {'kernel': 'linear', 'degree': 3, 'gamma': 'scale', 'coef0': 0, 'tol': 0.001, 'C': 1.7000000000000002, 'epsilon': 0.1}\n",
      "R2: 0.29184863998744304 | MSE: 1.2987719364870078\n"
     ]
    },
    {
     "name": "stderr",
     "output_type": "stream",
     "text": [
      "100%|█████████████████████████████████████████████████████████████████████████████████| 81/81 [00:00<00:00, 869.10it/s]\n"
     ]
    },
    {
     "name": "stdout",
     "output_type": "stream",
     "text": [
      "Training | ModelType: ModelType.SVR | Datasetname: orange_std_col_name_ohv_type | ScalerType: ScalerType.MinMaxScaler_ | Params: {'kernel': 'linear', 'degree': 3, 'gamma': 'scale', 'coef0': 0, 'tol': 0.001, 'C': 1.7000000000000002, 'epsilon': 0.1}\n",
      "R2: 0.27393831479428143 | MSE: 1.3316200379632546\n"
     ]
    },
    {
     "name": "stderr",
     "output_type": "stream",
     "text": [
      "100%|█████████████████████████████████████████████████████████████████████████████████| 81/81 [00:00<00:00, 906.10it/s]\n"
     ]
    },
    {
     "name": "stdout",
     "output_type": "stream",
     "text": [
      "Training | ModelType: ModelType.SVR | Datasetname: orange_std_col_name_ohv_type | ScalerType: ScalerType.Normalizer_ | Params: {'kernel': 'linear', 'degree': 3, 'gamma': 'scale', 'coef0': 0, 'tol': 0.001, 'C': 1.7000000000000002, 'epsilon': 0.1}\n",
      "R2: 0.2943291451498806 | MSE: 1.2942226117589892\n"
     ]
    },
    {
     "name": "stderr",
     "output_type": "stream",
     "text": [
      "100%|█████████████████████████████████████████████████████████████████████████████████| 81/81 [00:00<00:00, 488.95it/s]\n"
     ]
    },
    {
     "name": "stdout",
     "output_type": "stream",
     "text": [
      "Training | ModelType: ModelType.SVR | Datasetname: orange_std_col_name_ohv_type | ScalerType: ScalerType.RobustScaler_ | Params: {'kernel': 'linear', 'degree': 3, 'gamma': 'scale', 'coef0': 0, 'tol': 0.001, 'C': 1.7000000000000002, 'epsilon': 0.1}\n",
      "R2: 0.30709360885696135 | MSE: 1.2708121826004979\n"
     ]
    },
    {
     "name": "stderr",
     "output_type": "stream",
     "text": [
      "100%|█████████████████████████████████████████████████████████████████████████████████| 81/81 [00:00<00:00, 670.83it/s]\n"
     ]
    },
    {
     "name": "stdout",
     "output_type": "stream",
     "text": [
      "Training | ModelType: ModelType.SVR | Datasetname: orange_std_col_name_ohv_type | ScalerType: ScalerType.StandardScaler_ | Params: {'kernel': 'linear', 'degree': 3, 'gamma': 'scale', 'coef0': 0, 'tol': 0.001, 'C': 1.7000000000000002, 'epsilon': 0.1}\n",
      "R2: 0.30105353190194306 | MSE: 1.2818898743008436\n"
     ]
    },
    {
     "name": "stderr",
     "output_type": "stream",
     "text": [
      "100%|████████████████████████████████████████████████████████████████████████████████| 81/81 [00:00<00:00, 1051.75it/s]\n"
     ]
    },
    {
     "name": "stdout",
     "output_type": "stream",
     "text": [
      "Training | ModelType: ModelType.SVR | Datasetname: orange_std_col_name_ohv_type | ScalerType: ScalerType.Raw_ | Params: {'kernel': 'poly', 'degree': 3, 'gamma': 'scale', 'coef0': 0, 'tol': 0.001, 'C': 1.7000000000000002, 'epsilon': 0.1}\n",
      "R2: 0.2827821950885364 | MSE: 1.315400082478561\n"
     ]
    },
    {
     "name": "stderr",
     "output_type": "stream",
     "text": [
      "100%|█████████████████████████████████████████████████████████████████████████████████| 81/81 [00:00<00:00, 825.81it/s]\n"
     ]
    },
    {
     "name": "stdout",
     "output_type": "stream",
     "text": [
      "Training | ModelType: ModelType.SVR | Datasetname: orange_std_col_name_ohv_type | ScalerType: ScalerType.MaxAbsScaler_ | Params: {'kernel': 'poly', 'degree': 3, 'gamma': 'scale', 'coef0': 0, 'tol': 0.001, 'C': 1.7000000000000002, 'epsilon': 0.1}\n",
      "R2: 0.3006186793157678 | MSE: 1.282687407663518\n"
     ]
    },
    {
     "name": "stderr",
     "output_type": "stream",
     "text": [
      "100%|█████████████████████████████████████████████████████████████████████████████████| 81/81 [00:00<00:00, 706.19it/s]\n"
     ]
    },
    {
     "name": "stdout",
     "output_type": "stream",
     "text": [
      "Training | ModelType: ModelType.SVR | Datasetname: orange_std_col_name_ohv_type | ScalerType: ScalerType.MinMaxScaler_ | Params: {'kernel': 'poly', 'degree': 3, 'gamma': 'scale', 'coef0': 0, 'tol': 0.001, 'C': 1.7000000000000002, 'epsilon': 0.1}\n",
      "R2: 0.23365347626153976 | MSE: 1.4055037028217214\n"
     ]
    },
    {
     "name": "stderr",
     "output_type": "stream",
     "text": [
      "100%|█████████████████████████████████████████████████████████████████████████████████| 81/81 [00:00<00:00, 911.21it/s]\n"
     ]
    },
    {
     "name": "stdout",
     "output_type": "stream",
     "text": [
      "Training | ModelType: ModelType.SVR | Datasetname: orange_std_col_name_ohv_type | ScalerType: ScalerType.Normalizer_ | Params: {'kernel': 'poly', 'degree': 3, 'gamma': 'scale', 'coef0': 0, 'tol': 0.001, 'C': 1.7000000000000002, 'epsilon': 0.1}\n",
      "R2: 0.2768699663594383 | MSE: 1.326243296498949\n"
     ]
    },
    {
     "name": "stderr",
     "output_type": "stream",
     "text": [
      "100%|█████████████████████████████████████████████████████████████████████████████████| 81/81 [00:00<00:00, 401.69it/s]\n"
     ]
    },
    {
     "name": "stdout",
     "output_type": "stream",
     "text": [
      "Training | ModelType: ModelType.SVR | Datasetname: orange_std_col_name_ohv_type | ScalerType: ScalerType.RobustScaler_ | Params: {'kernel': 'poly', 'degree': 3, 'gamma': 'scale', 'coef0': 0, 'tol': 0.001, 'C': 1.7000000000000002, 'epsilon': 0.1}\n",
      "R2: 0.20284369299573324 | MSE: 1.4620098173819858\n"
     ]
    },
    {
     "name": "stderr",
     "output_type": "stream",
     "text": [
      "100%|█████████████████████████████████████████████████████████████████████████████████| 81/81 [00:00<00:00, 637.24it/s]\n"
     ]
    },
    {
     "name": "stdout",
     "output_type": "stream",
     "text": [
      "Training | ModelType: ModelType.SVR | Datasetname: orange_std_col_name_ohv_type | ScalerType: ScalerType.StandardScaler_ | Params: {'kernel': 'poly', 'degree': 3, 'gamma': 'scale', 'coef0': 0, 'tol': 0.001, 'C': 1.7000000000000002, 'epsilon': 0.1}\n",
      "R2: 0.21297185376243732 | MSE: 1.4434344509916837\n"
     ]
    },
    {
     "name": "stderr",
     "output_type": "stream",
     "text": [
      "100%|████████████████████████████████████████████████████████████████████████████████| 81/81 [00:00<00:00, 1131.67it/s]\n"
     ]
    },
    {
     "name": "stdout",
     "output_type": "stream",
     "text": [
      "Training | ModelType: ModelType.SVR | Datasetname: orange_std_col_name_ohv_type | ScalerType: ScalerType.Raw_ | Params: {'kernel': 'poly', 'degree': 3, 'gamma': 'scale', 'coef0': 0, 'tol': 0.001, 'C': 1.8000000000000003, 'epsilon': 0.1}\n",
      "R2: 0.28628483259266535 | MSE: 1.308976134787535\n"
     ]
    },
    {
     "name": "stderr",
     "output_type": "stream",
     "text": [
      "100%|█████████████████████████████████████████████████████████████████████████████████| 81/81 [00:00<00:00, 704.30it/s]\n"
     ]
    },
    {
     "name": "stdout",
     "output_type": "stream",
     "text": [
      "Training | ModelType: ModelType.SVR | Datasetname: orange_std_col_name_ohv_type | ScalerType: ScalerType.MaxAbsScaler_ | Params: {'kernel': 'poly', 'degree': 3, 'gamma': 'scale', 'coef0': 0, 'tol': 0.001, 'C': 1.8000000000000003, 'epsilon': 0.1}\n",
      "R2: 0.29903049658973935 | MSE: 1.285600184890328\n"
     ]
    },
    {
     "name": "stderr",
     "output_type": "stream",
     "text": [
      "100%|█████████████████████████████████████████████████████████████████████████████████| 81/81 [00:00<00:00, 770.21it/s]\n"
     ]
    },
    {
     "name": "stdout",
     "output_type": "stream",
     "text": [
      "Training | ModelType: ModelType.SVR | Datasetname: orange_std_col_name_ohv_type | ScalerType: ScalerType.MinMaxScaler_ | Params: {'kernel': 'poly', 'degree': 3, 'gamma': 'scale', 'coef0': 0, 'tol': 0.001, 'C': 1.8000000000000003, 'epsilon': 0.1}\n",
      "R2: 0.23041709044244352 | MSE: 1.4114393365221385\n"
     ]
    },
    {
     "name": "stderr",
     "output_type": "stream",
     "text": [
      "100%|█████████████████████████████████████████████████████████████████████████████████| 81/81 [00:00<00:00, 873.57it/s]\n"
     ]
    },
    {
     "name": "stdout",
     "output_type": "stream",
     "text": [
      "Training | ModelType: ModelType.SVR | Datasetname: orange_std_col_name_ohv_type | ScalerType: ScalerType.Normalizer_ | Params: {'kernel': 'poly', 'degree': 3, 'gamma': 'scale', 'coef0': 0, 'tol': 0.001, 'C': 1.8000000000000003, 'epsilon': 0.1}\n",
      "R2: 0.2736140822985922 | MSE: 1.3322146905899062\n"
     ]
    },
    {
     "name": "stderr",
     "output_type": "stream",
     "text": [
      "100%|█████████████████████████████████████████████████████████████████████████████████| 81/81 [00:00<00:00, 479.32it/s]\n"
     ]
    },
    {
     "name": "stdout",
     "output_type": "stream",
     "text": [
      "Training | ModelType: ModelType.SVR | Datasetname: orange_std_col_name_ohv_type | ScalerType: ScalerType.RobustScaler_ | Params: {'kernel': 'poly', 'degree': 3, 'gamma': 'scale', 'coef0': 0, 'tol': 0.001, 'C': 1.8000000000000003, 'epsilon': 0.1}\n",
      "R2: 0.2057515904925148 | MSE: 1.4566766416285228\n"
     ]
    },
    {
     "name": "stderr",
     "output_type": "stream",
     "text": [
      "100%|█████████████████████████████████████████████████████████████████████████████████| 81/81 [00:00<00:00, 604.53it/s]\n"
     ]
    },
    {
     "name": "stdout",
     "output_type": "stream",
     "text": [
      "Training | ModelType: ModelType.SVR | Datasetname: orange_std_col_name_ohv_type | ScalerType: ScalerType.StandardScaler_ | Params: {'kernel': 'poly', 'degree': 3, 'gamma': 'scale', 'coef0': 0, 'tol': 0.001, 'C': 1.8000000000000003, 'epsilon': 0.1}\n",
      "R2: 0.22656919219073135 | MSE: 1.4184965033172325\n"
     ]
    },
    {
     "name": "stderr",
     "output_type": "stream",
     "text": [
      "100%|████████████████████████████████████████████████████████████████████████████████| 81/81 [00:00<00:00, 1028.74it/s]\n"
     ]
    },
    {
     "name": "stdout",
     "output_type": "stream",
     "text": [
      "Training | ModelType: ModelType.SVR | Datasetname: orange_std_col_name_ohv_type | ScalerType: ScalerType.Raw_ | Params: {'kernel': 'rbf', 'degree': 3, 'gamma': 'scale', 'coef0': 0, 'tol': 0.001, 'C': 1.8000000000000003, 'epsilon': 0.1}\n",
      "R2: 0.2098250327348119 | MSE: 1.4492058200387679\n"
     ]
    },
    {
     "name": "stderr",
     "output_type": "stream",
     "text": [
      "100%|█████████████████████████████████████████████████████████████████████████████████| 81/81 [00:00<00:00, 951.68it/s]\n"
     ]
    },
    {
     "name": "stdout",
     "output_type": "stream",
     "text": [
      "Training | ModelType: ModelType.SVR | Datasetname: orange_std_col_name_ohv_type | ScalerType: ScalerType.MaxAbsScaler_ | Params: {'kernel': 'rbf', 'degree': 3, 'gamma': 'scale', 'coef0': 0, 'tol': 0.001, 'C': 1.8000000000000003, 'epsilon': 0.1}\n",
      "R2: 0.30073092862131656 | MSE: 1.2824815388956683\n"
     ]
    },
    {
     "name": "stderr",
     "output_type": "stream",
     "text": [
      "100%|█████████████████████████████████████████████████████████████████████████████████| 81/81 [00:00<00:00, 911.58it/s]\n"
     ]
    },
    {
     "name": "stdout",
     "output_type": "stream",
     "text": [
      "Training | ModelType: ModelType.SVR | Datasetname: orange_std_col_name_ohv_type | ScalerType: ScalerType.MinMaxScaler_ | Params: {'kernel': 'rbf', 'degree': 3, 'gamma': 'scale', 'coef0': 0, 'tol': 0.001, 'C': 1.8000000000000003, 'epsilon': 0.1}\n",
      "R2: 0.2944976372750705 | MSE: 1.293913591885453\n"
     ]
    },
    {
     "name": "stderr",
     "output_type": "stream",
     "text": [
      "100%|█████████████████████████████████████████████████████████████████████████████████| 81/81 [00:00<00:00, 769.26it/s]\n"
     ]
    },
    {
     "name": "stdout",
     "output_type": "stream",
     "text": [
      "Training | ModelType: ModelType.SVR | Datasetname: orange_std_col_name_ohv_type | ScalerType: ScalerType.Normalizer_ | Params: {'kernel': 'rbf', 'degree': 3, 'gamma': 'scale', 'coef0': 0, 'tol': 0.001, 'C': 1.8000000000000003, 'epsilon': 0.1}\n",
      "R2: 0.32882184499752265 | MSE: 1.230961911991368\n"
     ]
    },
    {
     "name": "stderr",
     "output_type": "stream",
     "text": [
      "100%|█████████████████████████████████████████████████████████████████████████████████| 81/81 [00:00<00:00, 569.38it/s]\n"
     ]
    },
    {
     "name": "stdout",
     "output_type": "stream",
     "text": [
      "Training | ModelType: ModelType.SVR | Datasetname: orange_std_col_name_ohv_type | ScalerType: ScalerType.RobustScaler_ | Params: {'kernel': 'rbf', 'degree': 3, 'gamma': 'scale', 'coef0': 0, 'tol': 0.001, 'C': 1.8000000000000003, 'epsilon': 0.1}\n",
      "R2: 0.27255919115215177 | MSE: 1.3341493942343658\n"
     ]
    },
    {
     "name": "stderr",
     "output_type": "stream",
     "text": [
      "100%|█████████████████████████████████████████████████████████████████████████████████| 81/81 [00:00<00:00, 815.76it/s]\n"
     ]
    },
    {
     "name": "stdout",
     "output_type": "stream",
     "text": [
      "Training | ModelType: ModelType.SVR | Datasetname: orange_std_col_name_ohv_type | ScalerType: ScalerType.StandardScaler_ | Params: {'kernel': 'rbf', 'degree': 3, 'gamma': 'scale', 'coef0': 0, 'tol': 0.001, 'C': 1.8000000000000003, 'epsilon': 0.1}\n",
      "R2: 0.272549690079255 | MSE: 1.334166819501818\n"
     ]
    },
    {
     "name": "stderr",
     "output_type": "stream",
     "text": [
      "100%|████████████████████████████████████████████████████████████████████████████████| 81/81 [00:00<00:00, 1618.23it/s]\n"
     ]
    },
    {
     "name": "stdout",
     "output_type": "stream",
     "text": [
      "Training | ModelType: ModelType.SVR | Datasetname: orange_std_col_name_ohv_type | ScalerType: ScalerType.Raw_ | Params: {'kernel': 'rbf', 'degree': 3, 'gamma': 'scale', 'coef0': 0, 'tol': 0.001, 'C': 1.8000000000000003, 'epsilon': 0.1}\n",
      "R2: 0.2098250327348119 | MSE: 1.4492058200387679\n"
     ]
    },
    {
     "name": "stderr",
     "output_type": "stream",
     "text": [
      "100%|█████████████████████████████████████████████████████████████████████████████████| 81/81 [00:00<00:00, 932.33it/s]\n"
     ]
    },
    {
     "name": "stdout",
     "output_type": "stream",
     "text": [
      "Training | ModelType: ModelType.SVR | Datasetname: orange_std_col_name_ohv_type | ScalerType: ScalerType.MaxAbsScaler_ | Params: {'kernel': 'rbf', 'degree': 3, 'gamma': 'scale', 'coef0': 0, 'tol': 0.001, 'C': 1.8000000000000003, 'epsilon': 0.1}\n",
      "R2: 0.30073092862131656 | MSE: 1.2824815388956683\n"
     ]
    },
    {
     "name": "stderr",
     "output_type": "stream",
     "text": [
      "100%|█████████████████████████████████████████████████████████████████████████████████| 81/81 [00:00<00:00, 762.46it/s]\n"
     ]
    },
    {
     "name": "stdout",
     "output_type": "stream",
     "text": [
      "Training | ModelType: ModelType.SVR | Datasetname: orange_std_col_name_ohv_type | ScalerType: ScalerType.MinMaxScaler_ | Params: {'kernel': 'rbf', 'degree': 3, 'gamma': 'scale', 'coef0': 0, 'tol': 0.001, 'C': 1.8000000000000003, 'epsilon': 0.1}\n",
      "R2: 0.2944976372750705 | MSE: 1.293913591885453\n"
     ]
    },
    {
     "name": "stderr",
     "output_type": "stream",
     "text": [
      "100%|█████████████████████████████████████████████████████████████████████████████████| 81/81 [00:00<00:00, 785.20it/s]\n"
     ]
    },
    {
     "name": "stdout",
     "output_type": "stream",
     "text": [
      "Training | ModelType: ModelType.SVR | Datasetname: orange_std_col_name_ohv_type | ScalerType: ScalerType.Normalizer_ | Params: {'kernel': 'rbf', 'degree': 3, 'gamma': 'scale', 'coef0': 0, 'tol': 0.001, 'C': 1.8000000000000003, 'epsilon': 0.1}\n",
      "R2: 0.32882184499752265 | MSE: 1.230961911991368\n"
     ]
    },
    {
     "name": "stderr",
     "output_type": "stream",
     "text": [
      "100%|█████████████████████████████████████████████████████████████████████████████████| 81/81 [00:00<00:00, 436.91it/s]\n"
     ]
    },
    {
     "name": "stdout",
     "output_type": "stream",
     "text": [
      "Training | ModelType: ModelType.SVR | Datasetname: orange_std_col_name_ohv_type | ScalerType: ScalerType.RobustScaler_ | Params: {'kernel': 'rbf', 'degree': 3, 'gamma': 'scale', 'coef0': 0, 'tol': 0.001, 'C': 1.8000000000000003, 'epsilon': 0.1}\n",
      "R2: 0.27255919115215177 | MSE: 1.3341493942343658\n"
     ]
    },
    {
     "name": "stderr",
     "output_type": "stream",
     "text": [
      "100%|█████████████████████████████████████████████████████████████████████████████████| 81/81 [00:00<00:00, 683.28it/s]\n"
     ]
    },
    {
     "name": "stdout",
     "output_type": "stream",
     "text": [
      "Training | ModelType: ModelType.SVR | Datasetname: orange_std_col_name_ohv_type | ScalerType: ScalerType.StandardScaler_ | Params: {'kernel': 'rbf', 'degree': 3, 'gamma': 'scale', 'coef0': 0, 'tol': 0.001, 'C': 1.8000000000000003, 'epsilon': 0.1}\n",
      "R2: 0.272549690079255 | MSE: 1.334166819501818\n"
     ]
    },
    {
     "name": "stderr",
     "output_type": "stream",
     "text": [
      "100%|██████████████████████████████████████████████████████████████████████████████████| 81/81 [00:14<00:00,  5.57it/s]\n"
     ]
    },
    {
     "name": "stdout",
     "output_type": "stream",
     "text": [
      "Training | ModelType: ModelType.SVR | Datasetname: orange_std_col_name_ohv_type | ScalerType: ScalerType.Raw_ | Params: {'kernel': 'linear', 'degree': 3, 'gamma': 'scale', 'coef0': 0, 'tol': 0.001, 'C': 1.8000000000000003, 'epsilon': 0.1}\n",
      "R2: 0.2948377814991552 | MSE: 1.2932897566469082\n"
     ]
    },
    {
     "name": "stderr",
     "output_type": "stream",
     "text": [
      "100%|█████████████████████████████████████████████████████████████████████████████████| 81/81 [00:00<00:00, 943.85it/s]\n"
     ]
    },
    {
     "name": "stdout",
     "output_type": "stream",
     "text": [
      "Training | ModelType: ModelType.SVR | Datasetname: orange_std_col_name_ohv_type | ScalerType: ScalerType.MaxAbsScaler_ | Params: {'kernel': 'linear', 'degree': 3, 'gamma': 'scale', 'coef0': 0, 'tol': 0.001, 'C': 1.8000000000000003, 'epsilon': 0.1}\n",
      "R2: 0.2908016157207586 | MSE: 1.3006922120257944\n"
     ]
    },
    {
     "name": "stderr",
     "output_type": "stream",
     "text": [
      "100%|█████████████████████████████████████████████████████████████████████████████████| 81/81 [00:00<00:00, 948.22it/s]\n"
     ]
    },
    {
     "name": "stdout",
     "output_type": "stream",
     "text": [
      "Training | ModelType: ModelType.SVR | Datasetname: orange_std_col_name_ohv_type | ScalerType: ScalerType.MinMaxScaler_ | Params: {'kernel': 'linear', 'degree': 3, 'gamma': 'scale', 'coef0': 0, 'tol': 0.001, 'C': 1.8000000000000003, 'epsilon': 0.1}\n",
      "R2: 0.2741835575734305 | MSE: 1.3311702549688686\n"
     ]
    },
    {
     "name": "stderr",
     "output_type": "stream",
     "text": [
      "100%|█████████████████████████████████████████████████████████████████████████████████| 81/81 [00:00<00:00, 992.78it/s]\n"
     ]
    },
    {
     "name": "stdout",
     "output_type": "stream",
     "text": [
      "Training | ModelType: ModelType.SVR | Datasetname: orange_std_col_name_ohv_type | ScalerType: ScalerType.Normalizer_ | Params: {'kernel': 'linear', 'degree': 3, 'gamma': 'scale', 'coef0': 0, 'tol': 0.001, 'C': 1.8000000000000003, 'epsilon': 0.1}\n",
      "R2: 0.3072988058815841 | MSE: 1.2704358447833595\n"
     ]
    },
    {
     "name": "stderr",
     "output_type": "stream",
     "text": [
      "100%|█████████████████████████████████████████████████████████████████████████████████| 81/81 [00:00<00:00, 494.07it/s]\n"
     ]
    },
    {
     "name": "stdout",
     "output_type": "stream",
     "text": [
      "Training | ModelType: ModelType.SVR | Datasetname: orange_std_col_name_ohv_type | ScalerType: ScalerType.RobustScaler_ | Params: {'kernel': 'linear', 'degree': 3, 'gamma': 'scale', 'coef0': 0, 'tol': 0.001, 'C': 1.8000000000000003, 'epsilon': 0.1}\n",
      "R2: 0.3071293673257889 | MSE: 1.270746600440486\n"
     ]
    },
    {
     "name": "stderr",
     "output_type": "stream",
     "text": [
      "100%|█████████████████████████████████████████████████████████████████████████████████| 81/81 [00:00<00:00, 692.77it/s]\n"
     ]
    },
    {
     "name": "stdout",
     "output_type": "stream",
     "text": [
      "Training | ModelType: ModelType.SVR | Datasetname: orange_std_col_name_ohv_type | ScalerType: ScalerType.StandardScaler_ | Params: {'kernel': 'linear', 'degree': 3, 'gamma': 'scale', 'coef0': 0, 'tol': 0.001, 'C': 1.8000000000000003, 'epsilon': 0.1}\n",
      "R2: 0.3034465297282707 | MSE: 1.277501040788113\n"
     ]
    },
    {
     "name": "stderr",
     "output_type": "stream",
     "text": [
      "100%|██████████████████████████████████████████████████████████████████████████████████| 81/81 [00:14<00:00,  5.50it/s]\n"
     ]
    },
    {
     "name": "stdout",
     "output_type": "stream",
     "text": [
      "Training | ModelType: ModelType.SVR | Datasetname: orange_std_col_name_ohv_type | ScalerType: ScalerType.Raw_ | Params: {'kernel': 'linear', 'degree': 3, 'gamma': 'scale', 'coef0': 0, 'tol': 0.001, 'C': 1.8000000000000003, 'epsilon': 0.1}\n",
      "R2: 0.2948377814991552 | MSE: 1.2932897566469082\n"
     ]
    },
    {
     "name": "stderr",
     "output_type": "stream",
     "text": [
      "100%|█████████████████████████████████████████████████████████████████████████████████| 81/81 [00:00<00:00, 871.19it/s]\n"
     ]
    },
    {
     "name": "stdout",
     "output_type": "stream",
     "text": [
      "Training | ModelType: ModelType.SVR | Datasetname: orange_std_col_name_ohv_type | ScalerType: ScalerType.MaxAbsScaler_ | Params: {'kernel': 'linear', 'degree': 3, 'gamma': 'scale', 'coef0': 0, 'tol': 0.001, 'C': 1.8000000000000003, 'epsilon': 0.1}\n",
      "R2: 0.2908016157207586 | MSE: 1.3006922120257944\n"
     ]
    },
    {
     "name": "stderr",
     "output_type": "stream",
     "text": [
      "100%|█████████████████████████████████████████████████████████████████████████████████| 81/81 [00:00<00:00, 817.00it/s]\n"
     ]
    },
    {
     "name": "stdout",
     "output_type": "stream",
     "text": [
      "Training | ModelType: ModelType.SVR | Datasetname: orange_std_col_name_ohv_type | ScalerType: ScalerType.MinMaxScaler_ | Params: {'kernel': 'linear', 'degree': 3, 'gamma': 'scale', 'coef0': 0, 'tol': 0.001, 'C': 1.8000000000000003, 'epsilon': 0.1}\n",
      "R2: 0.2741835575734305 | MSE: 1.3311702549688686\n"
     ]
    },
    {
     "name": "stderr",
     "output_type": "stream",
     "text": [
      "100%|█████████████████████████████████████████████████████████████████████████████████| 81/81 [00:00<00:00, 798.94it/s]\n"
     ]
    },
    {
     "name": "stdout",
     "output_type": "stream",
     "text": [
      "Training | ModelType: ModelType.SVR | Datasetname: orange_std_col_name_ohv_type | ScalerType: ScalerType.Normalizer_ | Params: {'kernel': 'linear', 'degree': 3, 'gamma': 'scale', 'coef0': 0, 'tol': 0.001, 'C': 1.8000000000000003, 'epsilon': 0.1}\n",
      "R2: 0.3072988058815841 | MSE: 1.2704358447833595\n"
     ]
    },
    {
     "name": "stderr",
     "output_type": "stream",
     "text": [
      "100%|█████████████████████████████████████████████████████████████████████████████████| 81/81 [00:00<00:00, 449.96it/s]\n"
     ]
    },
    {
     "name": "stdout",
     "output_type": "stream",
     "text": [
      "Training | ModelType: ModelType.SVR | Datasetname: orange_std_col_name_ohv_type | ScalerType: ScalerType.RobustScaler_ | Params: {'kernel': 'linear', 'degree': 3, 'gamma': 'scale', 'coef0': 0, 'tol': 0.001, 'C': 1.8000000000000003, 'epsilon': 0.1}\n",
      "R2: 0.3071293673257889 | MSE: 1.270746600440486\n"
     ]
    },
    {
     "name": "stderr",
     "output_type": "stream",
     "text": [
      "100%|█████████████████████████████████████████████████████████████████████████████████| 81/81 [00:00<00:00, 613.21it/s]\n"
     ]
    },
    {
     "name": "stdout",
     "output_type": "stream",
     "text": [
      "Training | ModelType: ModelType.SVR | Datasetname: orange_std_col_name_ohv_type | ScalerType: ScalerType.StandardScaler_ | Params: {'kernel': 'linear', 'degree': 3, 'gamma': 'scale', 'coef0': 0, 'tol': 0.001, 'C': 1.8000000000000003, 'epsilon': 0.1}\n",
      "R2: 0.3034465297282707 | MSE: 1.277501040788113\n"
     ]
    },
    {
     "name": "stderr",
     "output_type": "stream",
     "text": [
      "100%|████████████████████████████████████████████████████████████████████████████████| 81/81 [00:00<00:00, 1068.63it/s]\n"
     ]
    },
    {
     "name": "stdout",
     "output_type": "stream",
     "text": [
      "Training | ModelType: ModelType.SVR | Datasetname: orange_std_col_name_ohv_type | ScalerType: ScalerType.Raw_ | Params: {'kernel': 'poly', 'degree': 3, 'gamma': 'scale', 'coef0': 0, 'tol': 0.001, 'C': 1.8000000000000003, 'epsilon': 0.1}\n",
      "R2: 0.28628483259266535 | MSE: 1.308976134787535\n"
     ]
    },
    {
     "name": "stderr",
     "output_type": "stream",
     "text": [
      "100%|█████████████████████████████████████████████████████████████████████████████████| 81/81 [00:00<00:00, 735.98it/s]\n"
     ]
    },
    {
     "name": "stdout",
     "output_type": "stream",
     "text": [
      "Training | ModelType: ModelType.SVR | Datasetname: orange_std_col_name_ohv_type | ScalerType: ScalerType.MaxAbsScaler_ | Params: {'kernel': 'poly', 'degree': 3, 'gamma': 'scale', 'coef0': 0, 'tol': 0.001, 'C': 1.8000000000000003, 'epsilon': 0.1}\n",
      "R2: 0.29903049658973935 | MSE: 1.285600184890328\n"
     ]
    },
    {
     "name": "stderr",
     "output_type": "stream",
     "text": [
      "100%|█████████████████████████████████████████████████████████████████████████████████| 81/81 [00:00<00:00, 684.03it/s]\n"
     ]
    },
    {
     "name": "stdout",
     "output_type": "stream",
     "text": [
      "Training | ModelType: ModelType.SVR | Datasetname: orange_std_col_name_ohv_type | ScalerType: ScalerType.MinMaxScaler_ | Params: {'kernel': 'poly', 'degree': 3, 'gamma': 'scale', 'coef0': 0, 'tol': 0.001, 'C': 1.8000000000000003, 'epsilon': 0.1}\n",
      "R2: 0.23041709044244352 | MSE: 1.4114393365221385\n"
     ]
    },
    {
     "name": "stderr",
     "output_type": "stream",
     "text": [
      "100%|█████████████████████████████████████████████████████████████████████████████████| 81/81 [00:00<00:00, 710.57it/s]\n"
     ]
    },
    {
     "name": "stdout",
     "output_type": "stream",
     "text": [
      "Training | ModelType: ModelType.SVR | Datasetname: orange_std_col_name_ohv_type | ScalerType: ScalerType.Normalizer_ | Params: {'kernel': 'poly', 'degree': 3, 'gamma': 'scale', 'coef0': 0, 'tol': 0.001, 'C': 1.8000000000000003, 'epsilon': 0.1}\n",
      "R2: 0.2736140822985922 | MSE: 1.3322146905899062\n"
     ]
    },
    {
     "name": "stderr",
     "output_type": "stream",
     "text": [
      "100%|█████████████████████████████████████████████████████████████████████████████████| 81/81 [00:00<00:00, 423.18it/s]\n"
     ]
    },
    {
     "name": "stdout",
     "output_type": "stream",
     "text": [
      "Training | ModelType: ModelType.SVR | Datasetname: orange_std_col_name_ohv_type | ScalerType: ScalerType.RobustScaler_ | Params: {'kernel': 'poly', 'degree': 3, 'gamma': 'scale', 'coef0': 0, 'tol': 0.001, 'C': 1.8000000000000003, 'epsilon': 0.1}\n",
      "R2: 0.2057515904925148 | MSE: 1.4566766416285228\n"
     ]
    },
    {
     "name": "stderr",
     "output_type": "stream",
     "text": [
      "100%|█████████████████████████████████████████████████████████████████████████████████| 81/81 [00:00<00:00, 538.81it/s]\n"
     ]
    },
    {
     "name": "stdout",
     "output_type": "stream",
     "text": [
      "Training | ModelType: ModelType.SVR | Datasetname: orange_std_col_name_ohv_type | ScalerType: ScalerType.StandardScaler_ | Params: {'kernel': 'poly', 'degree': 3, 'gamma': 'scale', 'coef0': 0, 'tol': 0.001, 'C': 1.8000000000000003, 'epsilon': 0.1}\n",
      "R2: 0.22656919219073135 | MSE: 1.4184965033172325\n"
     ]
    },
    {
     "name": "stderr",
     "output_type": "stream",
     "text": [
      "100%|█████████████████████████████████████████████████████████████████████████████████| 81/81 [00:00<00:00, 998.71it/s]\n"
     ]
    },
    {
     "name": "stdout",
     "output_type": "stream",
     "text": [
      "Training | ModelType: ModelType.SVR | Datasetname: orange_std_col_name_ohv_type | ScalerType: ScalerType.Raw_ | Params: {'kernel': 'poly', 'degree': 3, 'gamma': 'scale', 'coef0': 0, 'tol': 0.001, 'C': 1.9000000000000001, 'epsilon': 0.1}\n",
      "R2: 0.28982022249126693 | MSE: 1.302492118171706\n"
     ]
    },
    {
     "name": "stderr",
     "output_type": "stream",
     "text": [
      "100%|█████████████████████████████████████████████████████████████████████████████████| 81/81 [00:00<00:00, 683.58it/s]\n"
     ]
    },
    {
     "name": "stdout",
     "output_type": "stream",
     "text": [
      "Training | ModelType: ModelType.SVR | Datasetname: orange_std_col_name_ohv_type | ScalerType: ScalerType.MaxAbsScaler_ | Params: {'kernel': 'poly', 'degree': 3, 'gamma': 'scale', 'coef0': 0, 'tol': 0.001, 'C': 1.9000000000000001, 'epsilon': 0.1}\n",
      "R2: 0.2973099509594319 | MSE: 1.2887557198596447\n"
     ]
    },
    {
     "name": "stderr",
     "output_type": "stream",
     "text": [
      "100%|█████████████████████████████████████████████████████████████████████████████████| 81/81 [00:00<00:00, 664.73it/s]\n"
     ]
    },
    {
     "name": "stdout",
     "output_type": "stream",
     "text": [
      "Training | ModelType: ModelType.SVR | Datasetname: orange_std_col_name_ohv_type | ScalerType: ScalerType.MinMaxScaler_ | Params: {'kernel': 'poly', 'degree': 3, 'gamma': 'scale', 'coef0': 0, 'tol': 0.001, 'C': 1.9000000000000001, 'epsilon': 0.1}\n",
      "R2: 0.22715479389193416 | MSE: 1.4174224913214526\n"
     ]
    },
    {
     "name": "stderr",
     "output_type": "stream",
     "text": [
      "100%|█████████████████████████████████████████████████████████████████████████████████| 81/81 [00:00<00:00, 727.91it/s]\n"
     ]
    },
    {
     "name": "stdout",
     "output_type": "stream",
     "text": [
      "Training | ModelType: ModelType.SVR | Datasetname: orange_std_col_name_ohv_type | ScalerType: ScalerType.Normalizer_ | Params: {'kernel': 'poly', 'degree': 3, 'gamma': 'scale', 'coef0': 0, 'tol': 0.001, 'C': 1.9000000000000001, 'epsilon': 0.1}\n",
      "R2: 0.27081114874414947 | MSE: 1.3373553591615\n"
     ]
    },
    {
     "name": "stderr",
     "output_type": "stream",
     "text": [
      "100%|█████████████████████████████████████████████████████████████████████████████████| 81/81 [00:00<00:00, 387.24it/s]\n"
     ]
    },
    {
     "name": "stdout",
     "output_type": "stream",
     "text": [
      "Training | ModelType: ModelType.SVR | Datasetname: orange_std_col_name_ohv_type | ScalerType: ScalerType.RobustScaler_ | Params: {'kernel': 'poly', 'degree': 3, 'gamma': 'scale', 'coef0': 0, 'tol': 0.001, 'C': 1.9000000000000001, 'epsilon': 0.1}\n",
      "R2: 0.20673090294808916 | MSE: 1.4548805516876244\n"
     ]
    },
    {
     "name": "stderr",
     "output_type": "stream",
     "text": [
      "100%|█████████████████████████████████████████████████████████████████████████████████| 81/81 [00:00<00:00, 492.64it/s]\n"
     ]
    },
    {
     "name": "stdout",
     "output_type": "stream",
     "text": [
      "Training | ModelType: ModelType.SVR | Datasetname: orange_std_col_name_ohv_type | ScalerType: ScalerType.StandardScaler_ | Params: {'kernel': 'poly', 'degree': 3, 'gamma': 'scale', 'coef0': 0, 'tol': 0.001, 'C': 1.9000000000000001, 'epsilon': 0.1}\n",
      "R2: 0.23401085190919257 | MSE: 1.4048482646087\n"
     ]
    },
    {
     "name": "stderr",
     "output_type": "stream",
     "text": [
      "100%|████████████████████████████████████████████████████████████████████████████████| 81/81 [00:00<00:00, 1102.79it/s]\n"
     ]
    },
    {
     "name": "stdout",
     "output_type": "stream",
     "text": [
      "Training | ModelType: ModelType.SVR | Datasetname: orange_std_col_name_ohv_type | ScalerType: ScalerType.Raw_ | Params: {'kernel': 'rbf', 'degree': 3, 'gamma': 'scale', 'coef0': 0, 'tol': 0.001, 'C': 1.9000000000000001, 'epsilon': 0.1}\n",
      "R2: 0.21039807249653875 | MSE: 1.448154847036317\n"
     ]
    },
    {
     "name": "stderr",
     "output_type": "stream",
     "text": [
      "100%|█████████████████████████████████████████████████████████████████████████████████| 81/81 [00:00<00:00, 813.30it/s]\n"
     ]
    },
    {
     "name": "stdout",
     "output_type": "stream",
     "text": [
      "Training | ModelType: ModelType.SVR | Datasetname: orange_std_col_name_ohv_type | ScalerType: ScalerType.MaxAbsScaler_ | Params: {'kernel': 'rbf', 'degree': 3, 'gamma': 'scale', 'coef0': 0, 'tol': 0.001, 'C': 1.9000000000000001, 'epsilon': 0.1}\n",
      "R2: 0.30205467209843595 | MSE: 1.2800537515944337\n"
     ]
    },
    {
     "name": "stderr",
     "output_type": "stream",
     "text": [
      "100%|█████████████████████████████████████████████████████████████████████████████████| 81/81 [00:00<00:00, 743.23it/s]\n"
     ]
    },
    {
     "name": "stdout",
     "output_type": "stream",
     "text": [
      "Training | ModelType: ModelType.SVR | Datasetname: orange_std_col_name_ohv_type | ScalerType: ScalerType.MinMaxScaler_ | Params: {'kernel': 'rbf', 'degree': 3, 'gamma': 'scale', 'coef0': 0, 'tol': 0.001, 'C': 1.9000000000000001, 'epsilon': 0.1}\n",
      "R2: 0.29468393098061585 | MSE: 1.2935719233519036\n"
     ]
    },
    {
     "name": "stderr",
     "output_type": "stream",
     "text": [
      "100%|█████████████████████████████████████████████████████████████████████████████████| 81/81 [00:00<00:00, 735.04it/s]\n"
     ]
    },
    {
     "name": "stdout",
     "output_type": "stream",
     "text": [
      "Training | ModelType: ModelType.SVR | Datasetname: orange_std_col_name_ohv_type | ScalerType: ScalerType.Normalizer_ | Params: {'kernel': 'rbf', 'degree': 3, 'gamma': 'scale', 'coef0': 0, 'tol': 0.001, 'C': 1.9000000000000001, 'epsilon': 0.1}\n",
      "R2: 0.3281812845633686 | MSE: 1.232136720037332\n"
     ]
    },
    {
     "name": "stderr",
     "output_type": "stream",
     "text": [
      "100%|█████████████████████████████████████████████████████████████████████████████████| 81/81 [00:00<00:00, 438.48it/s]\n"
     ]
    },
    {
     "name": "stdout",
     "output_type": "stream",
     "text": [
      "Training | ModelType: ModelType.SVR | Datasetname: orange_std_col_name_ohv_type | ScalerType: ScalerType.RobustScaler_ | Params: {'kernel': 'rbf', 'degree': 3, 'gamma': 'scale', 'coef0': 0, 'tol': 0.001, 'C': 1.9000000000000001, 'epsilon': 0.1}\n",
      "R2: 0.2713349624298208 | MSE: 1.336394668335621\n"
     ]
    },
    {
     "name": "stderr",
     "output_type": "stream",
     "text": [
      "100%|█████████████████████████████████████████████████████████████████████████████████| 81/81 [00:00<00:00, 661.18it/s]\n"
     ]
    },
    {
     "name": "stdout",
     "output_type": "stream",
     "text": [
      "Training | ModelType: ModelType.SVR | Datasetname: orange_std_col_name_ohv_type | ScalerType: ScalerType.StandardScaler_ | Params: {'kernel': 'rbf', 'degree': 3, 'gamma': 'scale', 'coef0': 0, 'tol': 0.001, 'C': 1.9000000000000001, 'epsilon': 0.1}\n",
      "R2: 0.2709793985148714 | MSE: 1.337046783773704\n"
     ]
    },
    {
     "name": "stderr",
     "output_type": "stream",
     "text": [
      "100%|████████████████████████████████████████████████████████████████████████████████| 81/81 [00:00<00:00, 1249.37it/s]\n"
     ]
    },
    {
     "name": "stdout",
     "output_type": "stream",
     "text": [
      "Training | ModelType: ModelType.SVR | Datasetname: orange_std_col_name_ohv_type | ScalerType: ScalerType.Raw_ | Params: {'kernel': 'rbf', 'degree': 3, 'gamma': 'scale', 'coef0': 0, 'tol': 0.001, 'C': 1.9000000000000001, 'epsilon': 0.1}\n",
      "R2: 0.21039807249653875 | MSE: 1.448154847036317\n"
     ]
    },
    {
     "name": "stderr",
     "output_type": "stream",
     "text": [
      "100%|█████████████████████████████████████████████████████████████████████████████████| 81/81 [00:00<00:00, 840.54it/s]\n"
     ]
    },
    {
     "name": "stdout",
     "output_type": "stream",
     "text": [
      "Training | ModelType: ModelType.SVR | Datasetname: orange_std_col_name_ohv_type | ScalerType: ScalerType.MaxAbsScaler_ | Params: {'kernel': 'rbf', 'degree': 3, 'gamma': 'scale', 'coef0': 0, 'tol': 0.001, 'C': 1.9000000000000001, 'epsilon': 0.1}\n",
      "R2: 0.30205467209843595 | MSE: 1.2800537515944337\n"
     ]
    },
    {
     "name": "stderr",
     "output_type": "stream",
     "text": [
      "100%|█████████████████████████████████████████████████████████████████████████████████| 81/81 [00:00<00:00, 695.89it/s]\n"
     ]
    },
    {
     "name": "stdout",
     "output_type": "stream",
     "text": [
      "Training | ModelType: ModelType.SVR | Datasetname: orange_std_col_name_ohv_type | ScalerType: ScalerType.MinMaxScaler_ | Params: {'kernel': 'rbf', 'degree': 3, 'gamma': 'scale', 'coef0': 0, 'tol': 0.001, 'C': 1.9000000000000001, 'epsilon': 0.1}\n",
      "R2: 0.29468393098061585 | MSE: 1.2935719233519036\n"
     ]
    },
    {
     "name": "stderr",
     "output_type": "stream",
     "text": [
      "100%|█████████████████████████████████████████████████████████████████████████████████| 81/81 [00:00<00:00, 822.83it/s]\n"
     ]
    },
    {
     "name": "stdout",
     "output_type": "stream",
     "text": [
      "Training | ModelType: ModelType.SVR | Datasetname: orange_std_col_name_ohv_type | ScalerType: ScalerType.Normalizer_ | Params: {'kernel': 'rbf', 'degree': 3, 'gamma': 'scale', 'coef0': 0, 'tol': 0.001, 'C': 1.9000000000000001, 'epsilon': 0.1}\n",
      "R2: 0.3281812845633686 | MSE: 1.232136720037332\n"
     ]
    },
    {
     "name": "stderr",
     "output_type": "stream",
     "text": [
      "100%|█████████████████████████████████████████████████████████████████████████████████| 81/81 [00:00<00:00, 451.93it/s]\n"
     ]
    },
    {
     "name": "stdout",
     "output_type": "stream",
     "text": [
      "Training | ModelType: ModelType.SVR | Datasetname: orange_std_col_name_ohv_type | ScalerType: ScalerType.RobustScaler_ | Params: {'kernel': 'rbf', 'degree': 3, 'gamma': 'scale', 'coef0': 0, 'tol': 0.001, 'C': 1.9000000000000001, 'epsilon': 0.1}\n",
      "R2: 0.2713349624298208 | MSE: 1.336394668335621\n"
     ]
    },
    {
     "name": "stderr",
     "output_type": "stream",
     "text": [
      "100%|█████████████████████████████████████████████████████████████████████████████████| 81/81 [00:00<00:00, 698.12it/s]\n"
     ]
    },
    {
     "name": "stdout",
     "output_type": "stream",
     "text": [
      "Training | ModelType: ModelType.SVR | Datasetname: orange_std_col_name_ohv_type | ScalerType: ScalerType.StandardScaler_ | Params: {'kernel': 'rbf', 'degree': 3, 'gamma': 'scale', 'coef0': 0, 'tol': 0.001, 'C': 1.9000000000000001, 'epsilon': 0.1}\n",
      "R2: 0.2709793985148714 | MSE: 1.337046783773704\n"
     ]
    },
    {
     "name": "stderr",
     "output_type": "stream",
     "text": [
      "100%|██████████████████████████████████████████████████████████████████████████████████| 81/81 [00:16<00:00,  5.05it/s]\n"
     ]
    },
    {
     "name": "stdout",
     "output_type": "stream",
     "text": [
      "Training | ModelType: ModelType.SVR | Datasetname: orange_std_col_name_ohv_type | ScalerType: ScalerType.Raw_ | Params: {'kernel': 'linear', 'degree': 3, 'gamma': 'scale', 'coef0': 0, 'tol': 0.001, 'C': 1.9000000000000001, 'epsilon': 0.1}\n",
      "R2: 0.29517940892975525 | MSE: 1.2926632011608186\n"
     ]
    },
    {
     "name": "stderr",
     "output_type": "stream",
     "text": [
      "100%|████████████████████████████████████████████████████████████████████████████████| 81/81 [00:00<00:00, 1099.43it/s]\n"
     ]
    },
    {
     "name": "stdout",
     "output_type": "stream",
     "text": [
      "Training | ModelType: ModelType.SVR | Datasetname: orange_std_col_name_ohv_type | ScalerType: ScalerType.MaxAbsScaler_ | Params: {'kernel': 'linear', 'degree': 3, 'gamma': 'scale', 'coef0': 0, 'tol': 0.001, 'C': 1.9000000000000001, 'epsilon': 0.1}\n",
      "R2: 0.2911051094183992 | MSE: 1.3001355950090747\n"
     ]
    },
    {
     "name": "stderr",
     "output_type": "stream",
     "text": [
      "100%|████████████████████████████████████████████████████████████████████████████████| 81/81 [00:00<00:00, 1026.46it/s]\n"
     ]
    },
    {
     "name": "stdout",
     "output_type": "stream",
     "text": [
      "Training | ModelType: ModelType.SVR | Datasetname: orange_std_col_name_ohv_type | ScalerType: ScalerType.MinMaxScaler_ | Params: {'kernel': 'linear', 'degree': 3, 'gamma': 'scale', 'coef0': 0, 'tol': 0.001, 'C': 1.9000000000000001, 'epsilon': 0.1}\n",
      "R2: 0.274137996089175 | MSE: 1.331253816168461\n"
     ]
    },
    {
     "name": "stderr",
     "output_type": "stream",
     "text": [
      "100%|████████████████████████████████████████████████████████████████████████████████| 81/81 [00:00<00:00, 1031.96it/s]\n"
     ]
    },
    {
     "name": "stdout",
     "output_type": "stream",
     "text": [
      "Training | ModelType: ModelType.SVR | Datasetname: orange_std_col_name_ohv_type | ScalerType: ScalerType.Normalizer_ | Params: {'kernel': 'linear', 'degree': 3, 'gamma': 'scale', 'coef0': 0, 'tol': 0.001, 'C': 1.9000000000000001, 'epsilon': 0.1}\n",
      "R2: 0.3185963882507905 | MSE: 1.2497157222787363\n"
     ]
    },
    {
     "name": "stderr",
     "output_type": "stream",
     "text": [
      "100%|█████████████████████████████████████████████████████████████████████████████████| 81/81 [00:00<00:00, 537.77it/s]\n"
     ]
    },
    {
     "name": "stdout",
     "output_type": "stream",
     "text": [
      "Training | ModelType: ModelType.SVR | Datasetname: orange_std_col_name_ohv_type | ScalerType: ScalerType.RobustScaler_ | Params: {'kernel': 'linear', 'degree': 3, 'gamma': 'scale', 'coef0': 0, 'tol': 0.001, 'C': 1.9000000000000001, 'epsilon': 0.1}\n",
      "R2: 0.30623570721147053 | MSE: 1.2723856012851837\n"
     ]
    },
    {
     "name": "stderr",
     "output_type": "stream",
     "text": [
      "100%|█████████████████████████████████████████████████████████████████████████████████| 81/81 [00:00<00:00, 679.33it/s]\n"
     ]
    },
    {
     "name": "stdout",
     "output_type": "stream",
     "text": [
      "Training | ModelType: ModelType.SVR | Datasetname: orange_std_col_name_ohv_type | ScalerType: ScalerType.StandardScaler_ | Params: {'kernel': 'linear', 'degree': 3, 'gamma': 'scale', 'coef0': 0, 'tol': 0.001, 'C': 1.9000000000000001, 'epsilon': 0.1}\n",
      "R2: 0.3043694324086573 | MSE: 1.275808408154641\n"
     ]
    },
    {
     "name": "stderr",
     "output_type": "stream",
     "text": [
      "100%|██████████████████████████████████████████████████████████████████████████████████| 81/81 [00:16<00:00,  5.02it/s]\n"
     ]
    },
    {
     "name": "stdout",
     "output_type": "stream",
     "text": [
      "Training | ModelType: ModelType.SVR | Datasetname: orange_std_col_name_ohv_type | ScalerType: ScalerType.Raw_ | Params: {'kernel': 'linear', 'degree': 3, 'gamma': 'scale', 'coef0': 0, 'tol': 0.001, 'C': 1.9000000000000001, 'epsilon': 0.1}\n",
      "R2: 0.29517940892975525 | MSE: 1.2926632011608186\n"
     ]
    },
    {
     "name": "stderr",
     "output_type": "stream",
     "text": [
      "100%|█████████████████████████████████████████████████████████████████████████████████| 81/81 [00:00<00:00, 994.10it/s]\n"
     ]
    },
    {
     "name": "stdout",
     "output_type": "stream",
     "text": [
      "Training | ModelType: ModelType.SVR | Datasetname: orange_std_col_name_ohv_type | ScalerType: ScalerType.MaxAbsScaler_ | Params: {'kernel': 'linear', 'degree': 3, 'gamma': 'scale', 'coef0': 0, 'tol': 0.001, 'C': 1.9000000000000001, 'epsilon': 0.1}\n",
      "R2: 0.2911051094183992 | MSE: 1.3001355950090747\n"
     ]
    },
    {
     "name": "stderr",
     "output_type": "stream",
     "text": [
      "100%|█████████████████████████████████████████████████████████████████████████████████| 81/81 [00:00<00:00, 975.89it/s]\n"
     ]
    },
    {
     "name": "stdout",
     "output_type": "stream",
     "text": [
      "Training | ModelType: ModelType.SVR | Datasetname: orange_std_col_name_ohv_type | ScalerType: ScalerType.MinMaxScaler_ | Params: {'kernel': 'linear', 'degree': 3, 'gamma': 'scale', 'coef0': 0, 'tol': 0.001, 'C': 1.9000000000000001, 'epsilon': 0.1}\n",
      "R2: 0.274137996089175 | MSE: 1.331253816168461\n"
     ]
    },
    {
     "name": "stderr",
     "output_type": "stream",
     "text": [
      "100%|█████████████████████████████████████████████████████████████████████████████████| 81/81 [00:00<00:00, 835.10it/s]\n"
     ]
    },
    {
     "name": "stdout",
     "output_type": "stream",
     "text": [
      "Training | ModelType: ModelType.SVR | Datasetname: orange_std_col_name_ohv_type | ScalerType: ScalerType.Normalizer_ | Params: {'kernel': 'linear', 'degree': 3, 'gamma': 'scale', 'coef0': 0, 'tol': 0.001, 'C': 1.9000000000000001, 'epsilon': 0.1}\n",
      "R2: 0.3185963882507905 | MSE: 1.2497157222787363\n"
     ]
    },
    {
     "name": "stderr",
     "output_type": "stream",
     "text": [
      "100%|█████████████████████████████████████████████████████████████████████████████████| 81/81 [00:00<00:00, 470.17it/s]\n"
     ]
    },
    {
     "name": "stdout",
     "output_type": "stream",
     "text": [
      "Training | ModelType: ModelType.SVR | Datasetname: orange_std_col_name_ohv_type | ScalerType: ScalerType.RobustScaler_ | Params: {'kernel': 'linear', 'degree': 3, 'gamma': 'scale', 'coef0': 0, 'tol': 0.001, 'C': 1.9000000000000001, 'epsilon': 0.1}\n",
      "R2: 0.30623570721147053 | MSE: 1.2723856012851837\n"
     ]
    },
    {
     "name": "stderr",
     "output_type": "stream",
     "text": [
      "100%|█████████████████████████████████████████████████████████████████████████████████| 81/81 [00:00<00:00, 683.49it/s]\n"
     ]
    },
    {
     "name": "stdout",
     "output_type": "stream",
     "text": [
      "Training | ModelType: ModelType.SVR | Datasetname: orange_std_col_name_ohv_type | ScalerType: ScalerType.StandardScaler_ | Params: {'kernel': 'linear', 'degree': 3, 'gamma': 'scale', 'coef0': 0, 'tol': 0.001, 'C': 1.9000000000000001, 'epsilon': 0.1}\n",
      "R2: 0.3043694324086573 | MSE: 1.275808408154641\n"
     ]
    },
    {
     "name": "stderr",
     "output_type": "stream",
     "text": [
      "100%|█████████████████████████████████████████████████████████████████████████████████| 81/81 [00:00<00:00, 971.63it/s]\n"
     ]
    },
    {
     "name": "stdout",
     "output_type": "stream",
     "text": [
      "Training | ModelType: ModelType.SVR | Datasetname: orange_std_col_name_ohv_type | ScalerType: ScalerType.Raw_ | Params: {'kernel': 'poly', 'degree': 3, 'gamma': 'scale', 'coef0': 0, 'tol': 0.001, 'C': 1.9000000000000001, 'epsilon': 0.1}\n",
      "R2: 0.28982022249126693 | MSE: 1.302492118171706\n"
     ]
    },
    {
     "name": "stderr",
     "output_type": "stream",
     "text": [
      "100%|█████████████████████████████████████████████████████████████████████████████████| 81/81 [00:00<00:00, 906.34it/s]\n"
     ]
    },
    {
     "name": "stdout",
     "output_type": "stream",
     "text": [
      "Training | ModelType: ModelType.SVR | Datasetname: orange_std_col_name_ohv_type | ScalerType: ScalerType.MaxAbsScaler_ | Params: {'kernel': 'poly', 'degree': 3, 'gamma': 'scale', 'coef0': 0, 'tol': 0.001, 'C': 1.9000000000000001, 'epsilon': 0.1}\n",
      "R2: 0.2973099509594319 | MSE: 1.2887557198596447\n"
     ]
    },
    {
     "name": "stderr",
     "output_type": "stream",
     "text": [
      "100%|█████████████████████████████████████████████████████████████████████████████████| 81/81 [00:00<00:00, 721.06it/s]\n"
     ]
    },
    {
     "name": "stdout",
     "output_type": "stream",
     "text": [
      "Training | ModelType: ModelType.SVR | Datasetname: orange_std_col_name_ohv_type | ScalerType: ScalerType.MinMaxScaler_ | Params: {'kernel': 'poly', 'degree': 3, 'gamma': 'scale', 'coef0': 0, 'tol': 0.001, 'C': 1.9000000000000001, 'epsilon': 0.1}\n",
      "R2: 0.22715479389193416 | MSE: 1.4174224913214526\n"
     ]
    },
    {
     "name": "stderr",
     "output_type": "stream",
     "text": [
      "100%|█████████████████████████████████████████████████████████████████████████████████| 81/81 [00:00<00:00, 877.89it/s]\n"
     ]
    },
    {
     "name": "stdout",
     "output_type": "stream",
     "text": [
      "Training | ModelType: ModelType.SVR | Datasetname: orange_std_col_name_ohv_type | ScalerType: ScalerType.Normalizer_ | Params: {'kernel': 'poly', 'degree': 3, 'gamma': 'scale', 'coef0': 0, 'tol': 0.001, 'C': 1.9000000000000001, 'epsilon': 0.1}\n",
      "R2: 0.27081114874414947 | MSE: 1.3373553591615\n"
     ]
    },
    {
     "name": "stderr",
     "output_type": "stream",
     "text": [
      "100%|█████████████████████████████████████████████████████████████████████████████████| 81/81 [00:00<00:00, 486.56it/s]\n"
     ]
    },
    {
     "name": "stdout",
     "output_type": "stream",
     "text": [
      "Training | ModelType: ModelType.SVR | Datasetname: orange_std_col_name_ohv_type | ScalerType: ScalerType.RobustScaler_ | Params: {'kernel': 'poly', 'degree': 3, 'gamma': 'scale', 'coef0': 0, 'tol': 0.001, 'C': 1.9000000000000001, 'epsilon': 0.1}\n",
      "R2: 0.20673090294808916 | MSE: 1.4548805516876244\n"
     ]
    },
    {
     "name": "stderr",
     "output_type": "stream",
     "text": [
      "100%|█████████████████████████████████████████████████████████████████████████████████| 81/81 [00:00<00:00, 617.74it/s]"
     ]
    },
    {
     "name": "stdout",
     "output_type": "stream",
     "text": [
      "Training | ModelType: ModelType.SVR | Datasetname: orange_std_col_name_ohv_type | ScalerType: ScalerType.StandardScaler_ | Params: {'kernel': 'poly', 'degree': 3, 'gamma': 'scale', 'coef0': 0, 'tol': 0.001, 'C': 1.9000000000000001, 'epsilon': 0.1}\n",
      "R2: 0.23401085190919257 | MSE: 1.4048482646087\n"
     ]
    },
    {
     "name": "stderr",
     "output_type": "stream",
     "text": [
      "\n"
     ]
    },
    {
     "ename": "KeyError",
     "evalue": "'DECISION_TREE'",
     "output_type": "error",
     "traceback": [
      "\u001b[1;31m---------------------------------------------------------------------------\u001b[0m",
      "\u001b[1;31mKeyError\u001b[0m                                  Traceback (most recent call last)",
      "Cell \u001b[1;32mIn[54], line 7\u001b[0m\n\u001b[0;32m      5\u001b[0m \u001b[38;5;28;01mif\u001b[39;00m model_type \u001b[38;5;241m==\u001b[39m ModelType\u001b[38;5;241m.\u001b[39mLINEAR_REGRESSION:\n\u001b[0;32m      6\u001b[0m     \u001b[38;5;28;01mcontinue\u001b[39;00m\n\u001b[1;32m----> 7\u001b[0m \u001b[38;5;28;01mfor\u001b[39;00m param \u001b[38;5;129;01min\u001b[39;00m \u001b[38;5;28mlist\u001b[39m(ParameterGrid(hyper_params[model_type\u001b[38;5;241m.\u001b[39mname])):\n\u001b[0;32m      8\u001b[0m     \u001b[38;5;28;01mfor\u001b[39;00m key, value \u001b[38;5;129;01min\u001b[39;00m param\u001b[38;5;241m.\u001b[39mitems():\n\u001b[0;32m      9\u001b[0m         model_type\u001b[38;5;241m.\u001b[39mvalue[key] \u001b[38;5;241m=\u001b[39m value\n",
      "\u001b[1;31mKeyError\u001b[0m: 'DECISION_TREE'"
     ]
    }
   ],
   "source": [
    "if TRAIN_MODEL_1:\n",
    "\n",
    "    for dataset_name in [\"orange_std_col_name_ohv_type\"]:\n",
    "        for model_type in ModelType:\n",
    "            if model_type == ModelType.LINEAR_REGRESSION:\n",
    "                continue\n",
    "            for param in list(ParameterGrid(hyper_params[model_type.name])):\n",
    "                for key, value in param.items():\n",
    "                    model_type.value[key] = value\n",
    "                    for scaler_type in ScalerType:\n",
    "                        model = Model(\n",
    "                            dataset_name=\"orange_std_col_name_ohv_type\",\n",
    "                            pretrained_model_features=[],\n",
    "                            model_type=model_type,\n",
    "                            x_cols=x_cols,\n",
    "                            y_cols=y_cols,\n",
    "                            dataset=list_dataset[dataset_name],\n",
    "                            scaler_type=scaler_type,\n",
    "                        )\n",
    "                        result_frame.add_result(model.evaluate())\n",
    "\n",
    "    result_frame.display_result()\n",
    "\n",
    "    result_frame.save_result()"
   ]
  },
  {
   "cell_type": "markdown",
   "metadata": {},
   "source": [
    "#### Model train 2: orange_std_col_name_ohv_type + resnet_34"
   ]
  },
  {
   "cell_type": "code",
   "execution_count": 426,
   "metadata": {},
   "outputs": [],
   "source": [
    "resnet34_dataframe = pd.read_excel(\"resnet34.xlsx\", sheet_name=0)"
   ]
  },
  {
   "cell_type": "code",
   "execution_count": 427,
   "metadata": {},
   "outputs": [
    {
     "data": {
      "text/html": [
       "<div>\n",
       "<style scoped>\n",
       "    .dataframe tbody tr th:only-of-type {\n",
       "        vertical-align: middle;\n",
       "    }\n",
       "\n",
       "    .dataframe tbody tr th {\n",
       "        vertical-align: top;\n",
       "    }\n",
       "\n",
       "    .dataframe thead th {\n",
       "        text-align: right;\n",
       "    }\n",
       "</style>\n",
       "<table border=\"1\" class=\"dataframe\">\n",
       "  <thead>\n",
       "    <tr style=\"text-align: right;\">\n",
       "      <th></th>\n",
       "      <th>name</th>\n",
       "      <th>resnet34_0</th>\n",
       "      <th>resnet34_1</th>\n",
       "      <th>resnet34_2</th>\n",
       "      <th>resnet34_3</th>\n",
       "      <th>resnet34_4</th>\n",
       "      <th>resnet34_5</th>\n",
       "      <th>resnet34_6</th>\n",
       "      <th>resnet34_7</th>\n",
       "      <th>resnet34_8</th>\n",
       "      <th>...</th>\n",
       "      <th>resnet34_502</th>\n",
       "      <th>resnet34_503</th>\n",
       "      <th>resnet34_504</th>\n",
       "      <th>resnet34_505</th>\n",
       "      <th>resnet34_506</th>\n",
       "      <th>resnet34_507</th>\n",
       "      <th>resnet34_508</th>\n",
       "      <th>resnet34_509</th>\n",
       "      <th>resnet34_510</th>\n",
       "      <th>resnet34_511</th>\n",
       "    </tr>\n",
       "  </thead>\n",
       "  <tbody>\n",
       "    <tr>\n",
       "      <th>0</th>\n",
       "      <td>B12</td>\n",
       "      <td>0.156891</td>\n",
       "      <td>0.135281</td>\n",
       "      <td>0.208339</td>\n",
       "      <td>0.099949</td>\n",
       "      <td>0.606509</td>\n",
       "      <td>0.197465</td>\n",
       "      <td>0.146553</td>\n",
       "      <td>0.190174</td>\n",
       "      <td>0.245006</td>\n",
       "      <td>...</td>\n",
       "      <td>0.139282</td>\n",
       "      <td>0.367176</td>\n",
       "      <td>0.289474</td>\n",
       "      <td>0.158419</td>\n",
       "      <td>0.234442</td>\n",
       "      <td>0.056854</td>\n",
       "      <td>0.174647</td>\n",
       "      <td>0.184782</td>\n",
       "      <td>0.184333</td>\n",
       "      <td>0.193234</td>\n",
       "    </tr>\n",
       "    <tr>\n",
       "      <th>1</th>\n",
       "      <td>A2</td>\n",
       "      <td>0.188114</td>\n",
       "      <td>0.145693</td>\n",
       "      <td>0.204161</td>\n",
       "      <td>0.116336</td>\n",
       "      <td>0.527272</td>\n",
       "      <td>0.162754</td>\n",
       "      <td>0.228751</td>\n",
       "      <td>0.213932</td>\n",
       "      <td>0.222092</td>\n",
       "      <td>...</td>\n",
       "      <td>0.203496</td>\n",
       "      <td>0.386706</td>\n",
       "      <td>0.308793</td>\n",
       "      <td>0.202114</td>\n",
       "      <td>0.340296</td>\n",
       "      <td>0.080407</td>\n",
       "      <td>0.177876</td>\n",
       "      <td>0.139048</td>\n",
       "      <td>0.176140</td>\n",
       "      <td>0.208788</td>\n",
       "    </tr>\n",
       "    <tr>\n",
       "      <th>2</th>\n",
       "      <td>B8</td>\n",
       "      <td>0.173824</td>\n",
       "      <td>0.126600</td>\n",
       "      <td>0.278486</td>\n",
       "      <td>0.195133</td>\n",
       "      <td>0.489945</td>\n",
       "      <td>0.178314</td>\n",
       "      <td>0.230793</td>\n",
       "      <td>0.169339</td>\n",
       "      <td>0.302398</td>\n",
       "      <td>...</td>\n",
       "      <td>0.312228</td>\n",
       "      <td>0.415683</td>\n",
       "      <td>0.320124</td>\n",
       "      <td>0.285096</td>\n",
       "      <td>0.289027</td>\n",
       "      <td>0.085196</td>\n",
       "      <td>0.150526</td>\n",
       "      <td>0.240075</td>\n",
       "      <td>0.189648</td>\n",
       "      <td>0.225144</td>\n",
       "    </tr>\n",
       "    <tr>\n",
       "      <th>3</th>\n",
       "      <td>C26</td>\n",
       "      <td>0.144006</td>\n",
       "      <td>0.098398</td>\n",
       "      <td>0.209701</td>\n",
       "      <td>0.219367</td>\n",
       "      <td>0.548297</td>\n",
       "      <td>0.212151</td>\n",
       "      <td>0.215506</td>\n",
       "      <td>0.139116</td>\n",
       "      <td>0.276130</td>\n",
       "      <td>...</td>\n",
       "      <td>0.456208</td>\n",
       "      <td>0.386990</td>\n",
       "      <td>0.322745</td>\n",
       "      <td>0.301975</td>\n",
       "      <td>0.240051</td>\n",
       "      <td>0.098982</td>\n",
       "      <td>0.157585</td>\n",
       "      <td>0.218558</td>\n",
       "      <td>0.173098</td>\n",
       "      <td>0.214293</td>\n",
       "    </tr>\n",
       "    <tr>\n",
       "      <th>4</th>\n",
       "      <td>C25</td>\n",
       "      <td>0.184470</td>\n",
       "      <td>0.138784</td>\n",
       "      <td>0.198218</td>\n",
       "      <td>0.179938</td>\n",
       "      <td>0.495524</td>\n",
       "      <td>0.243386</td>\n",
       "      <td>0.167743</td>\n",
       "      <td>0.181745</td>\n",
       "      <td>0.312281</td>\n",
       "      <td>...</td>\n",
       "      <td>0.263740</td>\n",
       "      <td>0.334849</td>\n",
       "      <td>0.350409</td>\n",
       "      <td>0.259369</td>\n",
       "      <td>0.327031</td>\n",
       "      <td>0.074745</td>\n",
       "      <td>0.210896</td>\n",
       "      <td>0.169288</td>\n",
       "      <td>0.178689</td>\n",
       "      <td>0.188826</td>\n",
       "    </tr>\n",
       "    <tr>\n",
       "      <th>5</th>\n",
       "      <td>C29</td>\n",
       "      <td>0.164305</td>\n",
       "      <td>0.117410</td>\n",
       "      <td>0.224094</td>\n",
       "      <td>0.195399</td>\n",
       "      <td>0.499424</td>\n",
       "      <td>0.194218</td>\n",
       "      <td>0.168049</td>\n",
       "      <td>0.201609</td>\n",
       "      <td>0.289058</td>\n",
       "      <td>...</td>\n",
       "      <td>0.389878</td>\n",
       "      <td>0.330334</td>\n",
       "      <td>0.338783</td>\n",
       "      <td>0.196602</td>\n",
       "      <td>0.282925</td>\n",
       "      <td>0.059246</td>\n",
       "      <td>0.222848</td>\n",
       "      <td>0.165042</td>\n",
       "      <td>0.178285</td>\n",
       "      <td>0.202234</td>\n",
       "    </tr>\n",
       "    <tr>\n",
       "      <th>6</th>\n",
       "      <td>C5</td>\n",
       "      <td>0.143685</td>\n",
       "      <td>0.126570</td>\n",
       "      <td>0.210499</td>\n",
       "      <td>0.123183</td>\n",
       "      <td>0.616666</td>\n",
       "      <td>0.208228</td>\n",
       "      <td>0.166801</td>\n",
       "      <td>0.205509</td>\n",
       "      <td>0.288818</td>\n",
       "      <td>...</td>\n",
       "      <td>0.239749</td>\n",
       "      <td>0.346334</td>\n",
       "      <td>0.317840</td>\n",
       "      <td>0.185028</td>\n",
       "      <td>0.234601</td>\n",
       "      <td>0.038626</td>\n",
       "      <td>0.270342</td>\n",
       "      <td>0.174342</td>\n",
       "      <td>0.181206</td>\n",
       "      <td>0.200992</td>\n",
       "    </tr>\n",
       "    <tr>\n",
       "      <th>7</th>\n",
       "      <td>C13</td>\n",
       "      <td>0.205536</td>\n",
       "      <td>0.127269</td>\n",
       "      <td>0.201759</td>\n",
       "      <td>0.163079</td>\n",
       "      <td>0.510231</td>\n",
       "      <td>0.228772</td>\n",
       "      <td>0.177624</td>\n",
       "      <td>0.203865</td>\n",
       "      <td>0.253171</td>\n",
       "      <td>...</td>\n",
       "      <td>0.211222</td>\n",
       "      <td>0.376262</td>\n",
       "      <td>0.340810</td>\n",
       "      <td>0.213568</td>\n",
       "      <td>0.265492</td>\n",
       "      <td>0.071630</td>\n",
       "      <td>0.237319</td>\n",
       "      <td>0.171994</td>\n",
       "      <td>0.173610</td>\n",
       "      <td>0.218804</td>\n",
       "    </tr>\n",
       "    <tr>\n",
       "      <th>8</th>\n",
       "      <td>B5</td>\n",
       "      <td>0.153832</td>\n",
       "      <td>0.122729</td>\n",
       "      <td>0.139407</td>\n",
       "      <td>0.085343</td>\n",
       "      <td>0.816709</td>\n",
       "      <td>0.156730</td>\n",
       "      <td>0.140327</td>\n",
       "      <td>0.186524</td>\n",
       "      <td>0.202721</td>\n",
       "      <td>...</td>\n",
       "      <td>0.113562</td>\n",
       "      <td>0.403603</td>\n",
       "      <td>0.223014</td>\n",
       "      <td>0.132067</td>\n",
       "      <td>0.166786</td>\n",
       "      <td>0.027575</td>\n",
       "      <td>0.223429</td>\n",
       "      <td>0.147432</td>\n",
       "      <td>0.096567</td>\n",
       "      <td>0.150655</td>\n",
       "    </tr>\n",
       "    <tr>\n",
       "      <th>9</th>\n",
       "      <td>A30</td>\n",
       "      <td>0.215418</td>\n",
       "      <td>0.147183</td>\n",
       "      <td>0.180083</td>\n",
       "      <td>0.147134</td>\n",
       "      <td>0.577130</td>\n",
       "      <td>0.138726</td>\n",
       "      <td>0.201425</td>\n",
       "      <td>0.208275</td>\n",
       "      <td>0.270178</td>\n",
       "      <td>...</td>\n",
       "      <td>0.203487</td>\n",
       "      <td>0.372896</td>\n",
       "      <td>0.283954</td>\n",
       "      <td>0.217919</td>\n",
       "      <td>0.312682</td>\n",
       "      <td>0.074968</td>\n",
       "      <td>0.174066</td>\n",
       "      <td>0.203316</td>\n",
       "      <td>0.143396</td>\n",
       "      <td>0.187734</td>\n",
       "    </tr>\n",
       "    <tr>\n",
       "      <th>10</th>\n",
       "      <td>A23</td>\n",
       "      <td>0.189403</td>\n",
       "      <td>0.134697</td>\n",
       "      <td>0.215944</td>\n",
       "      <td>0.124875</td>\n",
       "      <td>0.698312</td>\n",
       "      <td>0.182691</td>\n",
       "      <td>0.178853</td>\n",
       "      <td>0.197323</td>\n",
       "      <td>0.334284</td>\n",
       "      <td>...</td>\n",
       "      <td>0.214559</td>\n",
       "      <td>0.353253</td>\n",
       "      <td>0.216897</td>\n",
       "      <td>0.187455</td>\n",
       "      <td>0.271512</td>\n",
       "      <td>0.055648</td>\n",
       "      <td>0.153011</td>\n",
       "      <td>0.186154</td>\n",
       "      <td>0.159058</td>\n",
       "      <td>0.166925</td>\n",
       "    </tr>\n",
       "    <tr>\n",
       "      <th>11</th>\n",
       "      <td>A1</td>\n",
       "      <td>0.140042</td>\n",
       "      <td>0.165523</td>\n",
       "      <td>0.206252</td>\n",
       "      <td>0.121150</td>\n",
       "      <td>0.611558</td>\n",
       "      <td>0.251576</td>\n",
       "      <td>0.166433</td>\n",
       "      <td>0.203572</td>\n",
       "      <td>0.322086</td>\n",
       "      <td>...</td>\n",
       "      <td>0.300284</td>\n",
       "      <td>0.347631</td>\n",
       "      <td>0.272064</td>\n",
       "      <td>0.255078</td>\n",
       "      <td>0.361392</td>\n",
       "      <td>0.055421</td>\n",
       "      <td>0.178558</td>\n",
       "      <td>0.166191</td>\n",
       "      <td>0.152494</td>\n",
       "      <td>0.186288</td>\n",
       "    </tr>\n",
       "    <tr>\n",
       "      <th>12</th>\n",
       "      <td>B19</td>\n",
       "      <td>0.158779</td>\n",
       "      <td>0.101413</td>\n",
       "      <td>0.225245</td>\n",
       "      <td>0.165941</td>\n",
       "      <td>0.513029</td>\n",
       "      <td>0.241046</td>\n",
       "      <td>0.275307</td>\n",
       "      <td>0.243193</td>\n",
       "      <td>0.261111</td>\n",
       "      <td>...</td>\n",
       "      <td>0.276559</td>\n",
       "      <td>0.356802</td>\n",
       "      <td>0.369319</td>\n",
       "      <td>0.258739</td>\n",
       "      <td>0.368664</td>\n",
       "      <td>0.092055</td>\n",
       "      <td>0.215394</td>\n",
       "      <td>0.175708</td>\n",
       "      <td>0.212473</td>\n",
       "      <td>0.181852</td>\n",
       "    </tr>\n",
       "    <tr>\n",
       "      <th>13</th>\n",
       "      <td>A6</td>\n",
       "      <td>0.186185</td>\n",
       "      <td>0.131568</td>\n",
       "      <td>0.221704</td>\n",
       "      <td>0.143298</td>\n",
       "      <td>0.502789</td>\n",
       "      <td>0.233800</td>\n",
       "      <td>0.192773</td>\n",
       "      <td>0.204025</td>\n",
       "      <td>0.336434</td>\n",
       "      <td>...</td>\n",
       "      <td>0.245277</td>\n",
       "      <td>0.392278</td>\n",
       "      <td>0.256769</td>\n",
       "      <td>0.232157</td>\n",
       "      <td>0.346607</td>\n",
       "      <td>0.089042</td>\n",
       "      <td>0.209656</td>\n",
       "      <td>0.171028</td>\n",
       "      <td>0.223739</td>\n",
       "      <td>0.175028</td>\n",
       "    </tr>\n",
       "    <tr>\n",
       "      <th>14</th>\n",
       "      <td>C21</td>\n",
       "      <td>0.137584</td>\n",
       "      <td>0.078854</td>\n",
       "      <td>0.179946</td>\n",
       "      <td>0.221235</td>\n",
       "      <td>0.714288</td>\n",
       "      <td>0.229675</td>\n",
       "      <td>0.238504</td>\n",
       "      <td>0.161553</td>\n",
       "      <td>0.188653</td>\n",
       "      <td>...</td>\n",
       "      <td>0.484481</td>\n",
       "      <td>0.412555</td>\n",
       "      <td>0.256013</td>\n",
       "      <td>0.341998</td>\n",
       "      <td>0.230242</td>\n",
       "      <td>0.074034</td>\n",
       "      <td>0.142078</td>\n",
       "      <td>0.212770</td>\n",
       "      <td>0.116109</td>\n",
       "      <td>0.183643</td>\n",
       "    </tr>\n",
       "    <tr>\n",
       "      <th>15</th>\n",
       "      <td>C11</td>\n",
       "      <td>0.159616</td>\n",
       "      <td>0.106050</td>\n",
       "      <td>0.198341</td>\n",
       "      <td>0.229992</td>\n",
       "      <td>0.722725</td>\n",
       "      <td>0.201477</td>\n",
       "      <td>0.167076</td>\n",
       "      <td>0.174012</td>\n",
       "      <td>0.199742</td>\n",
       "      <td>...</td>\n",
       "      <td>0.533628</td>\n",
       "      <td>0.311304</td>\n",
       "      <td>0.278644</td>\n",
       "      <td>0.270044</td>\n",
       "      <td>0.280871</td>\n",
       "      <td>0.059848</td>\n",
       "      <td>0.183215</td>\n",
       "      <td>0.160553</td>\n",
       "      <td>0.126889</td>\n",
       "      <td>0.189923</td>\n",
       "    </tr>\n",
       "    <tr>\n",
       "      <th>16</th>\n",
       "      <td>A28</td>\n",
       "      <td>0.181538</td>\n",
       "      <td>0.137838</td>\n",
       "      <td>0.231181</td>\n",
       "      <td>0.115356</td>\n",
       "      <td>0.619974</td>\n",
       "      <td>0.124694</td>\n",
       "      <td>0.197583</td>\n",
       "      <td>0.194874</td>\n",
       "      <td>0.278457</td>\n",
       "      <td>...</td>\n",
       "      <td>0.121956</td>\n",
       "      <td>0.411787</td>\n",
       "      <td>0.179225</td>\n",
       "      <td>0.187799</td>\n",
       "      <td>0.262426</td>\n",
       "      <td>0.085158</td>\n",
       "      <td>0.150844</td>\n",
       "      <td>0.163440</td>\n",
       "      <td>0.093691</td>\n",
       "      <td>0.235026</td>\n",
       "    </tr>\n",
       "    <tr>\n",
       "      <th>17</th>\n",
       "      <td>B1</td>\n",
       "      <td>0.173736</td>\n",
       "      <td>0.109098</td>\n",
       "      <td>0.247266</td>\n",
       "      <td>0.152932</td>\n",
       "      <td>0.530339</td>\n",
       "      <td>0.213446</td>\n",
       "      <td>0.227365</td>\n",
       "      <td>0.195830</td>\n",
       "      <td>0.344326</td>\n",
       "      <td>...</td>\n",
       "      <td>0.271359</td>\n",
       "      <td>0.430844</td>\n",
       "      <td>0.238465</td>\n",
       "      <td>0.222510</td>\n",
       "      <td>0.269881</td>\n",
       "      <td>0.082265</td>\n",
       "      <td>0.190827</td>\n",
       "      <td>0.219615</td>\n",
       "      <td>0.209497</td>\n",
       "      <td>0.221629</td>\n",
       "    </tr>\n",
       "    <tr>\n",
       "      <th>18</th>\n",
       "      <td>B30</td>\n",
       "      <td>0.149894</td>\n",
       "      <td>0.098103</td>\n",
       "      <td>0.237140</td>\n",
       "      <td>0.207692</td>\n",
       "      <td>0.521938</td>\n",
       "      <td>0.231929</td>\n",
       "      <td>0.259387</td>\n",
       "      <td>0.175386</td>\n",
       "      <td>0.310457</td>\n",
       "      <td>...</td>\n",
       "      <td>0.494860</td>\n",
       "      <td>0.374910</td>\n",
       "      <td>0.284494</td>\n",
       "      <td>0.296830</td>\n",
       "      <td>0.376539</td>\n",
       "      <td>0.085058</td>\n",
       "      <td>0.181300</td>\n",
       "      <td>0.186294</td>\n",
       "      <td>0.193640</td>\n",
       "      <td>0.203778</td>\n",
       "    </tr>\n",
       "    <tr>\n",
       "      <th>19</th>\n",
       "      <td>A5</td>\n",
       "      <td>0.170064</td>\n",
       "      <td>0.135311</td>\n",
       "      <td>0.230836</td>\n",
       "      <td>0.131059</td>\n",
       "      <td>0.544553</td>\n",
       "      <td>0.206472</td>\n",
       "      <td>0.196936</td>\n",
       "      <td>0.203002</td>\n",
       "      <td>0.357349</td>\n",
       "      <td>...</td>\n",
       "      <td>0.222409</td>\n",
       "      <td>0.384862</td>\n",
       "      <td>0.263854</td>\n",
       "      <td>0.226789</td>\n",
       "      <td>0.318150</td>\n",
       "      <td>0.061865</td>\n",
       "      <td>0.224037</td>\n",
       "      <td>0.219195</td>\n",
       "      <td>0.199771</td>\n",
       "      <td>0.213477</td>\n",
       "    </tr>\n",
       "  </tbody>\n",
       "</table>\n",
       "<p>20 rows × 513 columns</p>\n",
       "</div>"
      ],
      "text/plain": [
       "   name  resnet34_0  resnet34_1  resnet34_2  resnet34_3  resnet34_4  \\\n",
       "0   B12    0.156891    0.135281    0.208339    0.099949    0.606509   \n",
       "1    A2    0.188114    0.145693    0.204161    0.116336    0.527272   \n",
       "2    B8    0.173824    0.126600    0.278486    0.195133    0.489945   \n",
       "3   C26    0.144006    0.098398    0.209701    0.219367    0.548297   \n",
       "4   C25    0.184470    0.138784    0.198218    0.179938    0.495524   \n",
       "5   C29    0.164305    0.117410    0.224094    0.195399    0.499424   \n",
       "6    C5    0.143685    0.126570    0.210499    0.123183    0.616666   \n",
       "7   C13    0.205536    0.127269    0.201759    0.163079    0.510231   \n",
       "8    B5    0.153832    0.122729    0.139407    0.085343    0.816709   \n",
       "9   A30    0.215418    0.147183    0.180083    0.147134    0.577130   \n",
       "10  A23    0.189403    0.134697    0.215944    0.124875    0.698312   \n",
       "11   A1    0.140042    0.165523    0.206252    0.121150    0.611558   \n",
       "12  B19    0.158779    0.101413    0.225245    0.165941    0.513029   \n",
       "13   A6    0.186185    0.131568    0.221704    0.143298    0.502789   \n",
       "14  C21    0.137584    0.078854    0.179946    0.221235    0.714288   \n",
       "15  C11    0.159616    0.106050    0.198341    0.229992    0.722725   \n",
       "16  A28    0.181538    0.137838    0.231181    0.115356    0.619974   \n",
       "17   B1    0.173736    0.109098    0.247266    0.152932    0.530339   \n",
       "18  B30    0.149894    0.098103    0.237140    0.207692    0.521938   \n",
       "19   A5    0.170064    0.135311    0.230836    0.131059    0.544553   \n",
       "\n",
       "    resnet34_5  resnet34_6  resnet34_7  resnet34_8  ...  resnet34_502  \\\n",
       "0     0.197465    0.146553    0.190174    0.245006  ...      0.139282   \n",
       "1     0.162754    0.228751    0.213932    0.222092  ...      0.203496   \n",
       "2     0.178314    0.230793    0.169339    0.302398  ...      0.312228   \n",
       "3     0.212151    0.215506    0.139116    0.276130  ...      0.456208   \n",
       "4     0.243386    0.167743    0.181745    0.312281  ...      0.263740   \n",
       "5     0.194218    0.168049    0.201609    0.289058  ...      0.389878   \n",
       "6     0.208228    0.166801    0.205509    0.288818  ...      0.239749   \n",
       "7     0.228772    0.177624    0.203865    0.253171  ...      0.211222   \n",
       "8     0.156730    0.140327    0.186524    0.202721  ...      0.113562   \n",
       "9     0.138726    0.201425    0.208275    0.270178  ...      0.203487   \n",
       "10    0.182691    0.178853    0.197323    0.334284  ...      0.214559   \n",
       "11    0.251576    0.166433    0.203572    0.322086  ...      0.300284   \n",
       "12    0.241046    0.275307    0.243193    0.261111  ...      0.276559   \n",
       "13    0.233800    0.192773    0.204025    0.336434  ...      0.245277   \n",
       "14    0.229675    0.238504    0.161553    0.188653  ...      0.484481   \n",
       "15    0.201477    0.167076    0.174012    0.199742  ...      0.533628   \n",
       "16    0.124694    0.197583    0.194874    0.278457  ...      0.121956   \n",
       "17    0.213446    0.227365    0.195830    0.344326  ...      0.271359   \n",
       "18    0.231929    0.259387    0.175386    0.310457  ...      0.494860   \n",
       "19    0.206472    0.196936    0.203002    0.357349  ...      0.222409   \n",
       "\n",
       "    resnet34_503  resnet34_504  resnet34_505  resnet34_506  resnet34_507  \\\n",
       "0       0.367176      0.289474      0.158419      0.234442      0.056854   \n",
       "1       0.386706      0.308793      0.202114      0.340296      0.080407   \n",
       "2       0.415683      0.320124      0.285096      0.289027      0.085196   \n",
       "3       0.386990      0.322745      0.301975      0.240051      0.098982   \n",
       "4       0.334849      0.350409      0.259369      0.327031      0.074745   \n",
       "5       0.330334      0.338783      0.196602      0.282925      0.059246   \n",
       "6       0.346334      0.317840      0.185028      0.234601      0.038626   \n",
       "7       0.376262      0.340810      0.213568      0.265492      0.071630   \n",
       "8       0.403603      0.223014      0.132067      0.166786      0.027575   \n",
       "9       0.372896      0.283954      0.217919      0.312682      0.074968   \n",
       "10      0.353253      0.216897      0.187455      0.271512      0.055648   \n",
       "11      0.347631      0.272064      0.255078      0.361392      0.055421   \n",
       "12      0.356802      0.369319      0.258739      0.368664      0.092055   \n",
       "13      0.392278      0.256769      0.232157      0.346607      0.089042   \n",
       "14      0.412555      0.256013      0.341998      0.230242      0.074034   \n",
       "15      0.311304      0.278644      0.270044      0.280871      0.059848   \n",
       "16      0.411787      0.179225      0.187799      0.262426      0.085158   \n",
       "17      0.430844      0.238465      0.222510      0.269881      0.082265   \n",
       "18      0.374910      0.284494      0.296830      0.376539      0.085058   \n",
       "19      0.384862      0.263854      0.226789      0.318150      0.061865   \n",
       "\n",
       "    resnet34_508  resnet34_509  resnet34_510  resnet34_511  \n",
       "0       0.174647      0.184782      0.184333      0.193234  \n",
       "1       0.177876      0.139048      0.176140      0.208788  \n",
       "2       0.150526      0.240075      0.189648      0.225144  \n",
       "3       0.157585      0.218558      0.173098      0.214293  \n",
       "4       0.210896      0.169288      0.178689      0.188826  \n",
       "5       0.222848      0.165042      0.178285      0.202234  \n",
       "6       0.270342      0.174342      0.181206      0.200992  \n",
       "7       0.237319      0.171994      0.173610      0.218804  \n",
       "8       0.223429      0.147432      0.096567      0.150655  \n",
       "9       0.174066      0.203316      0.143396      0.187734  \n",
       "10      0.153011      0.186154      0.159058      0.166925  \n",
       "11      0.178558      0.166191      0.152494      0.186288  \n",
       "12      0.215394      0.175708      0.212473      0.181852  \n",
       "13      0.209656      0.171028      0.223739      0.175028  \n",
       "14      0.142078      0.212770      0.116109      0.183643  \n",
       "15      0.183215      0.160553      0.126889      0.189923  \n",
       "16      0.150844      0.163440      0.093691      0.235026  \n",
       "17      0.190827      0.219615      0.209497      0.221629  \n",
       "18      0.181300      0.186294      0.193640      0.203778  \n",
       "19      0.224037      0.219195      0.199771      0.213477  \n",
       "\n",
       "[20 rows x 513 columns]"
      ]
     },
     "execution_count": 427,
     "metadata": {},
     "output_type": "execute_result"
    }
   ],
   "source": [
    "resnet34_dataframe.head(20)"
   ]
  },
  {
   "cell_type": "code",
   "execution_count": 428,
   "metadata": {},
   "outputs": [],
   "source": [
    "resnet34_dataframe[\"name\"] = resnet34_dataframe[\"name\"].astype(str)"
   ]
  },
  {
   "cell_type": "code",
   "execution_count": 429,
   "metadata": {},
   "outputs": [
    {
     "data": {
      "text/plain": [
       "0      A1\n",
       "1      A2\n",
       "2      A3\n",
       "3      A4\n",
       "4      A5\n",
       "     ... \n",
       "76    C24\n",
       "77    C25\n",
       "78    C26\n",
       "79    C28\n",
       "80    C29\n",
       "Name: name, Length: 81, dtype: object"
      ]
     },
     "execution_count": 429,
     "metadata": {},
     "output_type": "execute_result"
    }
   ],
   "source": [
    "list_dataset[\"orange_std_col_name_ohv_type\"].get_dataframe()[\"name\"].astype(str)"
   ]
  },
  {
   "cell_type": "code",
   "execution_count": 430,
   "metadata": {},
   "outputs": [],
   "source": [
    "orange_std_col_name_ohv_type_resnet34 = list_dataset[\"orange_std_col_name_ohv_type\"].get_dataframe().merge(resnet34_dataframe, how=\"inner\", on=\"name\")"
   ]
  },
  {
   "cell_type": "code",
   "execution_count": 431,
   "metadata": {},
   "outputs": [],
   "source": [
    "list_dataset[\"orange_std_col_name_ohv_type_resnet34\"] = Dataset(\"orange_std_col_name_ohv_type_resnet34\", orange_std_col_name_ohv_type_resnet34, ScalerType.Raw_)"
   ]
  },
  {
   "cell_type": "code",
   "execution_count": 432,
   "metadata": {},
   "outputs": [
    {
     "data": {
      "text/html": [
       "<div>\n",
       "<style scoped>\n",
       "    .dataframe tbody tr th:only-of-type {\n",
       "        vertical-align: middle;\n",
       "    }\n",
       "\n",
       "    .dataframe tbody tr th {\n",
       "        vertical-align: top;\n",
       "    }\n",
       "\n",
       "    .dataframe thead th {\n",
       "        text-align: right;\n",
       "    }\n",
       "</style>\n",
       "<table border=\"1\" class=\"dataframe\">\n",
       "  <thead>\n",
       "    <tr style=\"text-align: right;\">\n",
       "      <th></th>\n",
       "      <th>A</th>\n",
       "      <th>B</th>\n",
       "      <th>C</th>\n",
       "      <th>name</th>\n",
       "      <th>v_naoh</th>\n",
       "      <th>c_naoh</th>\n",
       "      <th>mass</th>\n",
       "      <th>h_diameter</th>\n",
       "      <th>v_diameter</th>\n",
       "      <th>brix</th>\n",
       "      <th>...</th>\n",
       "      <th>resnet34_502</th>\n",
       "      <th>resnet34_503</th>\n",
       "      <th>resnet34_504</th>\n",
       "      <th>resnet34_505</th>\n",
       "      <th>resnet34_506</th>\n",
       "      <th>resnet34_507</th>\n",
       "      <th>resnet34_508</th>\n",
       "      <th>resnet34_509</th>\n",
       "      <th>resnet34_510</th>\n",
       "      <th>resnet34_511</th>\n",
       "    </tr>\n",
       "  </thead>\n",
       "  <tbody>\n",
       "    <tr>\n",
       "      <th>0</th>\n",
       "      <td>True</td>\n",
       "      <td>False</td>\n",
       "      <td>False</td>\n",
       "      <td>A1</td>\n",
       "      <td>1.90</td>\n",
       "      <td>0.4000</td>\n",
       "      <td>255</td>\n",
       "      <td>257</td>\n",
       "      <td>262</td>\n",
       "      <td>10.9</td>\n",
       "      <td>...</td>\n",
       "      <td>0.300284</td>\n",
       "      <td>0.347631</td>\n",
       "      <td>0.272064</td>\n",
       "      <td>0.255078</td>\n",
       "      <td>0.361392</td>\n",
       "      <td>0.055421</td>\n",
       "      <td>0.178558</td>\n",
       "      <td>0.166191</td>\n",
       "      <td>0.152494</td>\n",
       "      <td>0.186288</td>\n",
       "    </tr>\n",
       "    <tr>\n",
       "      <th>1</th>\n",
       "      <td>True</td>\n",
       "      <td>False</td>\n",
       "      <td>False</td>\n",
       "      <td>A2</td>\n",
       "      <td>1.20</td>\n",
       "      <td>0.4000</td>\n",
       "      <td>325</td>\n",
       "      <td>288</td>\n",
       "      <td>278</td>\n",
       "      <td>9.8</td>\n",
       "      <td>...</td>\n",
       "      <td>0.203496</td>\n",
       "      <td>0.386706</td>\n",
       "      <td>0.308793</td>\n",
       "      <td>0.202114</td>\n",
       "      <td>0.340296</td>\n",
       "      <td>0.080407</td>\n",
       "      <td>0.177876</td>\n",
       "      <td>0.139048</td>\n",
       "      <td>0.176140</td>\n",
       "      <td>0.208788</td>\n",
       "    </tr>\n",
       "    <tr>\n",
       "      <th>2</th>\n",
       "      <td>True</td>\n",
       "      <td>False</td>\n",
       "      <td>False</td>\n",
       "      <td>A3</td>\n",
       "      <td>2.30</td>\n",
       "      <td>0.4000</td>\n",
       "      <td>185</td>\n",
       "      <td>235</td>\n",
       "      <td>237</td>\n",
       "      <td>11.0</td>\n",
       "      <td>...</td>\n",
       "      <td>0.139981</td>\n",
       "      <td>0.375960</td>\n",
       "      <td>0.257595</td>\n",
       "      <td>0.138591</td>\n",
       "      <td>0.206467</td>\n",
       "      <td>0.035784</td>\n",
       "      <td>0.203072</td>\n",
       "      <td>0.160679</td>\n",
       "      <td>0.104960</td>\n",
       "      <td>0.161872</td>\n",
       "    </tr>\n",
       "    <tr>\n",
       "      <th>3</th>\n",
       "      <td>True</td>\n",
       "      <td>False</td>\n",
       "      <td>False</td>\n",
       "      <td>A4</td>\n",
       "      <td>1.40</td>\n",
       "      <td>0.4128</td>\n",
       "      <td>203</td>\n",
       "      <td>245</td>\n",
       "      <td>245</td>\n",
       "      <td>9.0</td>\n",
       "      <td>...</td>\n",
       "      <td>0.162073</td>\n",
       "      <td>0.390348</td>\n",
       "      <td>0.323551</td>\n",
       "      <td>0.167936</td>\n",
       "      <td>0.239144</td>\n",
       "      <td>0.043754</td>\n",
       "      <td>0.196060</td>\n",
       "      <td>0.178945</td>\n",
       "      <td>0.150613</td>\n",
       "      <td>0.179786</td>\n",
       "    </tr>\n",
       "    <tr>\n",
       "      <th>4</th>\n",
       "      <td>True</td>\n",
       "      <td>False</td>\n",
       "      <td>False</td>\n",
       "      <td>A5</td>\n",
       "      <td>1.20</td>\n",
       "      <td>0.4000</td>\n",
       "      <td>229</td>\n",
       "      <td>253</td>\n",
       "      <td>249</td>\n",
       "      <td>10.9</td>\n",
       "      <td>...</td>\n",
       "      <td>0.222409</td>\n",
       "      <td>0.384862</td>\n",
       "      <td>0.263854</td>\n",
       "      <td>0.226789</td>\n",
       "      <td>0.318150</td>\n",
       "      <td>0.061865</td>\n",
       "      <td>0.224037</td>\n",
       "      <td>0.219195</td>\n",
       "      <td>0.199771</td>\n",
       "      <td>0.213477</td>\n",
       "    </tr>\n",
       "    <tr>\n",
       "      <th>...</th>\n",
       "      <td>...</td>\n",
       "      <td>...</td>\n",
       "      <td>...</td>\n",
       "      <td>...</td>\n",
       "      <td>...</td>\n",
       "      <td>...</td>\n",
       "      <td>...</td>\n",
       "      <td>...</td>\n",
       "      <td>...</td>\n",
       "      <td>...</td>\n",
       "      <td>...</td>\n",
       "      <td>...</td>\n",
       "      <td>...</td>\n",
       "      <td>...</td>\n",
       "      <td>...</td>\n",
       "      <td>...</td>\n",
       "      <td>...</td>\n",
       "      <td>...</td>\n",
       "      <td>...</td>\n",
       "      <td>...</td>\n",
       "      <td>...</td>\n",
       "    </tr>\n",
       "    <tr>\n",
       "      <th>76</th>\n",
       "      <td>False</td>\n",
       "      <td>False</td>\n",
       "      <td>True</td>\n",
       "      <td>C24</td>\n",
       "      <td>1.60</td>\n",
       "      <td>0.4016</td>\n",
       "      <td>177</td>\n",
       "      <td>225</td>\n",
       "      <td>216</td>\n",
       "      <td>12.5</td>\n",
       "      <td>...</td>\n",
       "      <td>0.307272</td>\n",
       "      <td>0.344841</td>\n",
       "      <td>0.430694</td>\n",
       "      <td>0.305798</td>\n",
       "      <td>0.394726</td>\n",
       "      <td>0.072334</td>\n",
       "      <td>0.213526</td>\n",
       "      <td>0.195215</td>\n",
       "      <td>0.203654</td>\n",
       "      <td>0.183547</td>\n",
       "    </tr>\n",
       "    <tr>\n",
       "      <th>77</th>\n",
       "      <td>False</td>\n",
       "      <td>False</td>\n",
       "      <td>True</td>\n",
       "      <td>C25</td>\n",
       "      <td>1.60</td>\n",
       "      <td>0.4016</td>\n",
       "      <td>173</td>\n",
       "      <td>216</td>\n",
       "      <td>220</td>\n",
       "      <td>11.1</td>\n",
       "      <td>...</td>\n",
       "      <td>0.263740</td>\n",
       "      <td>0.334849</td>\n",
       "      <td>0.350409</td>\n",
       "      <td>0.259369</td>\n",
       "      <td>0.327031</td>\n",
       "      <td>0.074745</td>\n",
       "      <td>0.210896</td>\n",
       "      <td>0.169288</td>\n",
       "      <td>0.178689</td>\n",
       "      <td>0.188826</td>\n",
       "    </tr>\n",
       "    <tr>\n",
       "      <th>78</th>\n",
       "      <td>False</td>\n",
       "      <td>False</td>\n",
       "      <td>True</td>\n",
       "      <td>C26</td>\n",
       "      <td>0.95</td>\n",
       "      <td>0.4016</td>\n",
       "      <td>126</td>\n",
       "      <td>195</td>\n",
       "      <td>197</td>\n",
       "      <td>12.8</td>\n",
       "      <td>...</td>\n",
       "      <td>0.456208</td>\n",
       "      <td>0.386990</td>\n",
       "      <td>0.322745</td>\n",
       "      <td>0.301975</td>\n",
       "      <td>0.240051</td>\n",
       "      <td>0.098982</td>\n",
       "      <td>0.157585</td>\n",
       "      <td>0.218558</td>\n",
       "      <td>0.173098</td>\n",
       "      <td>0.214293</td>\n",
       "    </tr>\n",
       "    <tr>\n",
       "      <th>79</th>\n",
       "      <td>False</td>\n",
       "      <td>False</td>\n",
       "      <td>True</td>\n",
       "      <td>C28</td>\n",
       "      <td>1.70</td>\n",
       "      <td>0.4016</td>\n",
       "      <td>181</td>\n",
       "      <td>216</td>\n",
       "      <td>232</td>\n",
       "      <td>11.8</td>\n",
       "      <td>...</td>\n",
       "      <td>0.259605</td>\n",
       "      <td>0.352100</td>\n",
       "      <td>0.380756</td>\n",
       "      <td>0.279616</td>\n",
       "      <td>0.324362</td>\n",
       "      <td>0.088129</td>\n",
       "      <td>0.189930</td>\n",
       "      <td>0.184220</td>\n",
       "      <td>0.166675</td>\n",
       "      <td>0.205620</td>\n",
       "    </tr>\n",
       "    <tr>\n",
       "      <th>80</th>\n",
       "      <td>False</td>\n",
       "      <td>False</td>\n",
       "      <td>True</td>\n",
       "      <td>C29</td>\n",
       "      <td>1.35</td>\n",
       "      <td>0.4230</td>\n",
       "      <td>166</td>\n",
       "      <td>214</td>\n",
       "      <td>214</td>\n",
       "      <td>12.3</td>\n",
       "      <td>...</td>\n",
       "      <td>0.389878</td>\n",
       "      <td>0.330334</td>\n",
       "      <td>0.338783</td>\n",
       "      <td>0.196602</td>\n",
       "      <td>0.282925</td>\n",
       "      <td>0.059246</td>\n",
       "      <td>0.222848</td>\n",
       "      <td>0.165042</td>\n",
       "      <td>0.178285</td>\n",
       "      <td>0.202234</td>\n",
       "    </tr>\n",
       "  </tbody>\n",
       "</table>\n",
       "<p>81 rows × 526 columns</p>\n",
       "</div>"
      ],
      "text/plain": [
       "        A      B      C name  v_naoh  c_naoh  mass  h_diameter  v_diameter  \\\n",
       "0    True  False  False   A1    1.90  0.4000   255         257         262   \n",
       "1    True  False  False   A2    1.20  0.4000   325         288         278   \n",
       "2    True  False  False   A3    2.30  0.4000   185         235         237   \n",
       "3    True  False  False   A4    1.40  0.4128   203         245         245   \n",
       "4    True  False  False   A5    1.20  0.4000   229         253         249   \n",
       "..    ...    ...    ...  ...     ...     ...   ...         ...         ...   \n",
       "76  False  False   True  C24    1.60  0.4016   177         225         216   \n",
       "77  False  False   True  C25    1.60  0.4016   173         216         220   \n",
       "78  False  False   True  C26    0.95  0.4016   126         195         197   \n",
       "79  False  False   True  C28    1.70  0.4016   181         216         232   \n",
       "80  False  False   True  C29    1.35  0.4230   166         214         214   \n",
       "\n",
       "    brix  ...  resnet34_502  resnet34_503  resnet34_504 resnet34_505  \\\n",
       "0   10.9  ...      0.300284      0.347631      0.272064     0.255078   \n",
       "1    9.8  ...      0.203496      0.386706      0.308793     0.202114   \n",
       "2   11.0  ...      0.139981      0.375960      0.257595     0.138591   \n",
       "3    9.0  ...      0.162073      0.390348      0.323551     0.167936   \n",
       "4   10.9  ...      0.222409      0.384862      0.263854     0.226789   \n",
       "..   ...  ...           ...           ...           ...          ...   \n",
       "76  12.5  ...      0.307272      0.344841      0.430694     0.305798   \n",
       "77  11.1  ...      0.263740      0.334849      0.350409     0.259369   \n",
       "78  12.8  ...      0.456208      0.386990      0.322745     0.301975   \n",
       "79  11.8  ...      0.259605      0.352100      0.380756     0.279616   \n",
       "80  12.3  ...      0.389878      0.330334      0.338783     0.196602   \n",
       "\n",
       "    resnet34_506  resnet34_507  resnet34_508  resnet34_509  resnet34_510  \\\n",
       "0       0.361392      0.055421      0.178558      0.166191      0.152494   \n",
       "1       0.340296      0.080407      0.177876      0.139048      0.176140   \n",
       "2       0.206467      0.035784      0.203072      0.160679      0.104960   \n",
       "3       0.239144      0.043754      0.196060      0.178945      0.150613   \n",
       "4       0.318150      0.061865      0.224037      0.219195      0.199771   \n",
       "..           ...           ...           ...           ...           ...   \n",
       "76      0.394726      0.072334      0.213526      0.195215      0.203654   \n",
       "77      0.327031      0.074745      0.210896      0.169288      0.178689   \n",
       "78      0.240051      0.098982      0.157585      0.218558      0.173098   \n",
       "79      0.324362      0.088129      0.189930      0.184220      0.166675   \n",
       "80      0.282925      0.059246      0.222848      0.165042      0.178285   \n",
       "\n",
       "    resnet34_511  \n",
       "0       0.186288  \n",
       "1       0.208788  \n",
       "2       0.161872  \n",
       "3       0.179786  \n",
       "4       0.213477  \n",
       "..           ...  \n",
       "76      0.183547  \n",
       "77      0.188826  \n",
       "78      0.214293  \n",
       "79      0.205620  \n",
       "80      0.202234  \n",
       "\n",
       "[81 rows x 526 columns]"
      ]
     },
     "execution_count": 432,
     "metadata": {},
     "output_type": "execute_result"
    }
   ],
   "source": [
    "list_dataset[\"orange_std_col_name_ohv_type_resnet34\"].get_dataframe()"
   ]
  },
  {
   "cell_type": "code",
   "execution_count": 433,
   "metadata": {},
   "outputs": [
    {
     "data": {
      "text/html": [
       "<div>\n",
       "<style scoped>\n",
       "    .dataframe tbody tr th:only-of-type {\n",
       "        vertical-align: middle;\n",
       "    }\n",
       "\n",
       "    .dataframe tbody tr th {\n",
       "        vertical-align: top;\n",
       "    }\n",
       "\n",
       "    .dataframe thead th {\n",
       "        text-align: right;\n",
       "    }\n",
       "</style>\n",
       "<table border=\"1\" class=\"dataframe\">\n",
       "  <thead>\n",
       "    <tr style=\"text-align: right;\">\n",
       "      <th></th>\n",
       "      <th>A</th>\n",
       "      <th>B</th>\n",
       "      <th>C</th>\n",
       "      <th>name</th>\n",
       "      <th>v_naoh</th>\n",
       "      <th>c_naoh</th>\n",
       "      <th>mass</th>\n",
       "      <th>h_diameter</th>\n",
       "      <th>v_diameter</th>\n",
       "      <th>brix</th>\n",
       "      <th>ta</th>\n",
       "      <th>brix_ta</th>\n",
       "      <th>brm_ta</th>\n",
       "      <th>type</th>\n",
       "      <th>resnet34_0</th>\n",
       "      <th>resnet34_1</th>\n",
       "      <th>resnet34_2</th>\n",
       "      <th>resnet34_3</th>\n",
       "      <th>resnet34_4</th>\n",
       "      <th>resnet34_5</th>\n",
       "    </tr>\n",
       "  </thead>\n",
       "  <tbody>\n",
       "    <tr>\n",
       "      <th>0</th>\n",
       "      <td>True</td>\n",
       "      <td>False</td>\n",
       "      <td>False</td>\n",
       "      <td>A1</td>\n",
       "      <td>1.90</td>\n",
       "      <td>0.4000</td>\n",
       "      <td>255</td>\n",
       "      <td>257</td>\n",
       "      <td>262</td>\n",
       "      <td>10.9</td>\n",
       "      <td>4.867141</td>\n",
       "      <td>2.239508</td>\n",
       "      <td>6.032859</td>\n",
       "      <td>A</td>\n",
       "      <td>0.140042</td>\n",
       "      <td>0.165523</td>\n",
       "      <td>0.206252</td>\n",
       "      <td>0.121150</td>\n",
       "      <td>0.611558</td>\n",
       "      <td>0.251576</td>\n",
       "    </tr>\n",
       "    <tr>\n",
       "      <th>1</th>\n",
       "      <td>True</td>\n",
       "      <td>False</td>\n",
       "      <td>False</td>\n",
       "      <td>A2</td>\n",
       "      <td>1.20</td>\n",
       "      <td>0.4000</td>\n",
       "      <td>325</td>\n",
       "      <td>288</td>\n",
       "      <td>278</td>\n",
       "      <td>9.8</td>\n",
       "      <td>3.073984</td>\n",
       "      <td>3.188045</td>\n",
       "      <td>6.726016</td>\n",
       "      <td>A</td>\n",
       "      <td>0.188114</td>\n",
       "      <td>0.145693</td>\n",
       "      <td>0.204161</td>\n",
       "      <td>0.116336</td>\n",
       "      <td>0.527272</td>\n",
       "      <td>0.162754</td>\n",
       "    </tr>\n",
       "    <tr>\n",
       "      <th>2</th>\n",
       "      <td>True</td>\n",
       "      <td>False</td>\n",
       "      <td>False</td>\n",
       "      <td>A3</td>\n",
       "      <td>2.30</td>\n",
       "      <td>0.4000</td>\n",
       "      <td>185</td>\n",
       "      <td>235</td>\n",
       "      <td>237</td>\n",
       "      <td>11.0</td>\n",
       "      <td>5.891803</td>\n",
       "      <td>1.867001</td>\n",
       "      <td>5.108197</td>\n",
       "      <td>A</td>\n",
       "      <td>0.170248</td>\n",
       "      <td>0.143860</td>\n",
       "      <td>0.155040</td>\n",
       "      <td>0.102307</td>\n",
       "      <td>0.824027</td>\n",
       "      <td>0.183213</td>\n",
       "    </tr>\n",
       "    <tr>\n",
       "      <th>3</th>\n",
       "      <td>True</td>\n",
       "      <td>False</td>\n",
       "      <td>False</td>\n",
       "      <td>A4</td>\n",
       "      <td>1.40</td>\n",
       "      <td>0.4128</td>\n",
       "      <td>203</td>\n",
       "      <td>245</td>\n",
       "      <td>245</td>\n",
       "      <td>9.0</td>\n",
       "      <td>3.701077</td>\n",
       "      <td>2.431725</td>\n",
       "      <td>5.298923</td>\n",
       "      <td>A</td>\n",
       "      <td>0.155330</td>\n",
       "      <td>0.146644</td>\n",
       "      <td>0.179467</td>\n",
       "      <td>0.128099</td>\n",
       "      <td>0.713304</td>\n",
       "      <td>0.201185</td>\n",
       "    </tr>\n",
       "    <tr>\n",
       "      <th>4</th>\n",
       "      <td>True</td>\n",
       "      <td>False</td>\n",
       "      <td>False</td>\n",
       "      <td>A5</td>\n",
       "      <td>1.20</td>\n",
       "      <td>0.4000</td>\n",
       "      <td>229</td>\n",
       "      <td>253</td>\n",
       "      <td>249</td>\n",
       "      <td>10.9</td>\n",
       "      <td>3.073984</td>\n",
       "      <td>3.545887</td>\n",
       "      <td>7.826016</td>\n",
       "      <td>A</td>\n",
       "      <td>0.170064</td>\n",
       "      <td>0.135311</td>\n",
       "      <td>0.230836</td>\n",
       "      <td>0.131059</td>\n",
       "      <td>0.544553</td>\n",
       "      <td>0.206472</td>\n",
       "    </tr>\n",
       "    <tr>\n",
       "      <th>...</th>\n",
       "      <td>...</td>\n",
       "      <td>...</td>\n",
       "      <td>...</td>\n",
       "      <td>...</td>\n",
       "      <td>...</td>\n",
       "      <td>...</td>\n",
       "      <td>...</td>\n",
       "      <td>...</td>\n",
       "      <td>...</td>\n",
       "      <td>...</td>\n",
       "      <td>...</td>\n",
       "      <td>...</td>\n",
       "      <td>...</td>\n",
       "      <td>...</td>\n",
       "      <td>...</td>\n",
       "      <td>...</td>\n",
       "      <td>...</td>\n",
       "      <td>...</td>\n",
       "      <td>...</td>\n",
       "      <td>...</td>\n",
       "    </tr>\n",
       "    <tr>\n",
       "      <th>76</th>\n",
       "      <td>False</td>\n",
       "      <td>False</td>\n",
       "      <td>True</td>\n",
       "      <td>C24</td>\n",
       "      <td>1.60</td>\n",
       "      <td>0.4016</td>\n",
       "      <td>177</td>\n",
       "      <td>225</td>\n",
       "      <td>216</td>\n",
       "      <td>12.5</td>\n",
       "      <td>4.115040</td>\n",
       "      <td>3.037638</td>\n",
       "      <td>8.384960</td>\n",
       "      <td>C</td>\n",
       "      <td>0.184246</td>\n",
       "      <td>0.135858</td>\n",
       "      <td>0.192986</td>\n",
       "      <td>0.189380</td>\n",
       "      <td>0.459203</td>\n",
       "      <td>0.224478</td>\n",
       "    </tr>\n",
       "    <tr>\n",
       "      <th>77</th>\n",
       "      <td>False</td>\n",
       "      <td>False</td>\n",
       "      <td>True</td>\n",
       "      <td>C25</td>\n",
       "      <td>1.60</td>\n",
       "      <td>0.4016</td>\n",
       "      <td>173</td>\n",
       "      <td>216</td>\n",
       "      <td>220</td>\n",
       "      <td>11.1</td>\n",
       "      <td>4.115040</td>\n",
       "      <td>2.697422</td>\n",
       "      <td>6.984960</td>\n",
       "      <td>C</td>\n",
       "      <td>0.184470</td>\n",
       "      <td>0.138784</td>\n",
       "      <td>0.198218</td>\n",
       "      <td>0.179938</td>\n",
       "      <td>0.495524</td>\n",
       "      <td>0.243386</td>\n",
       "    </tr>\n",
       "    <tr>\n",
       "      <th>78</th>\n",
       "      <td>False</td>\n",
       "      <td>False</td>\n",
       "      <td>True</td>\n",
       "      <td>C26</td>\n",
       "      <td>0.95</td>\n",
       "      <td>0.4016</td>\n",
       "      <td>126</td>\n",
       "      <td>195</td>\n",
       "      <td>197</td>\n",
       "      <td>12.8</td>\n",
       "      <td>2.443305</td>\n",
       "      <td>5.238806</td>\n",
       "      <td>10.356695</td>\n",
       "      <td>C</td>\n",
       "      <td>0.144006</td>\n",
       "      <td>0.098398</td>\n",
       "      <td>0.209701</td>\n",
       "      <td>0.219367</td>\n",
       "      <td>0.548297</td>\n",
       "      <td>0.212151</td>\n",
       "    </tr>\n",
       "    <tr>\n",
       "      <th>79</th>\n",
       "      <td>False</td>\n",
       "      <td>False</td>\n",
       "      <td>True</td>\n",
       "      <td>C28</td>\n",
       "      <td>1.70</td>\n",
       "      <td>0.4016</td>\n",
       "      <td>181</td>\n",
       "      <td>216</td>\n",
       "      <td>232</td>\n",
       "      <td>11.8</td>\n",
       "      <td>4.372230</td>\n",
       "      <td>2.698852</td>\n",
       "      <td>7.427770</td>\n",
       "      <td>C</td>\n",
       "      <td>0.190891</td>\n",
       "      <td>0.143164</td>\n",
       "      <td>0.186174</td>\n",
       "      <td>0.153178</td>\n",
       "      <td>0.483471</td>\n",
       "      <td>0.237820</td>\n",
       "    </tr>\n",
       "    <tr>\n",
       "      <th>80</th>\n",
       "      <td>False</td>\n",
       "      <td>False</td>\n",
       "      <td>True</td>\n",
       "      <td>C29</td>\n",
       "      <td>1.35</td>\n",
       "      <td>0.4230</td>\n",
       "      <td>166</td>\n",
       "      <td>214</td>\n",
       "      <td>214</td>\n",
       "      <td>12.3</td>\n",
       "      <td>3.657080</td>\n",
       "      <td>3.363339</td>\n",
       "      <td>8.642920</td>\n",
       "      <td>C</td>\n",
       "      <td>0.164305</td>\n",
       "      <td>0.117410</td>\n",
       "      <td>0.224094</td>\n",
       "      <td>0.195399</td>\n",
       "      <td>0.499424</td>\n",
       "      <td>0.194218</td>\n",
       "    </tr>\n",
       "  </tbody>\n",
       "</table>\n",
       "<p>81 rows × 20 columns</p>\n",
       "</div>"
      ],
      "text/plain": [
       "        A      B      C name  v_naoh  c_naoh  mass  h_diameter  v_diameter  \\\n",
       "0    True  False  False   A1    1.90  0.4000   255         257         262   \n",
       "1    True  False  False   A2    1.20  0.4000   325         288         278   \n",
       "2    True  False  False   A3    2.30  0.4000   185         235         237   \n",
       "3    True  False  False   A4    1.40  0.4128   203         245         245   \n",
       "4    True  False  False   A5    1.20  0.4000   229         253         249   \n",
       "..    ...    ...    ...  ...     ...     ...   ...         ...         ...   \n",
       "76  False  False   True  C24    1.60  0.4016   177         225         216   \n",
       "77  False  False   True  C25    1.60  0.4016   173         216         220   \n",
       "78  False  False   True  C26    0.95  0.4016   126         195         197   \n",
       "79  False  False   True  C28    1.70  0.4016   181         216         232   \n",
       "80  False  False   True  C29    1.35  0.4230   166         214         214   \n",
       "\n",
       "    brix        ta   brix_ta     brm_ta type  resnet34_0  resnet34_1  \\\n",
       "0   10.9  4.867141  2.239508   6.032859    A    0.140042    0.165523   \n",
       "1    9.8  3.073984  3.188045   6.726016    A    0.188114    0.145693   \n",
       "2   11.0  5.891803  1.867001   5.108197    A    0.170248    0.143860   \n",
       "3    9.0  3.701077  2.431725   5.298923    A    0.155330    0.146644   \n",
       "4   10.9  3.073984  3.545887   7.826016    A    0.170064    0.135311   \n",
       "..   ...       ...       ...        ...  ...         ...         ...   \n",
       "76  12.5  4.115040  3.037638   8.384960    C    0.184246    0.135858   \n",
       "77  11.1  4.115040  2.697422   6.984960    C    0.184470    0.138784   \n",
       "78  12.8  2.443305  5.238806  10.356695    C    0.144006    0.098398   \n",
       "79  11.8  4.372230  2.698852   7.427770    C    0.190891    0.143164   \n",
       "80  12.3  3.657080  3.363339   8.642920    C    0.164305    0.117410   \n",
       "\n",
       "    resnet34_2  resnet34_3  resnet34_4  resnet34_5  \n",
       "0     0.206252    0.121150    0.611558    0.251576  \n",
       "1     0.204161    0.116336    0.527272    0.162754  \n",
       "2     0.155040    0.102307    0.824027    0.183213  \n",
       "3     0.179467    0.128099    0.713304    0.201185  \n",
       "4     0.230836    0.131059    0.544553    0.206472  \n",
       "..         ...         ...         ...         ...  \n",
       "76    0.192986    0.189380    0.459203    0.224478  \n",
       "77    0.198218    0.179938    0.495524    0.243386  \n",
       "78    0.209701    0.219367    0.548297    0.212151  \n",
       "79    0.186174    0.153178    0.483471    0.237820  \n",
       "80    0.224094    0.195399    0.499424    0.194218  \n",
       "\n",
       "[81 rows x 20 columns]"
      ]
     },
     "execution_count": 433,
     "metadata": {},
     "output_type": "execute_result"
    }
   ],
   "source": [
    "list_dataset[\"orange_std_col_name_ohv_type_resnet34\"].get_dataframe().iloc[:,:20]"
   ]
  },
  {
   "cell_type": "code",
   "execution_count": 434,
   "metadata": {},
   "outputs": [
    {
     "data": {
      "text/plain": [
       "0     0.140042\n",
       "1     0.188114\n",
       "2     0.170248\n",
       "3     0.155330\n",
       "4     0.170064\n",
       "        ...   \n",
       "76    0.184246\n",
       "77    0.184470\n",
       "78    0.144006\n",
       "79    0.190891\n",
       "80    0.164305\n",
       "Name: resnet34_0, Length: 81, dtype: float64"
      ]
     },
     "execution_count": 434,
     "metadata": {},
     "output_type": "execute_result"
    }
   ],
   "source": [
    "list_dataset[\"orange_std_col_name_ohv_type_resnet34\"].get_dataframe().iloc[:,:20][\"resnet34_0\"]"
   ]
  },
  {
   "cell_type": "code",
   "execution_count": 435,
   "metadata": {
    "scrolled": true
   },
   "outputs": [
    {
     "data": {
      "text/plain": [
       "['B',\n",
       " 'C',\n",
       " 'mass',\n",
       " 'h_diameter',\n",
       " 'v_diameter',\n",
       " 'resnet34_0',\n",
       " 'resnet34_1',\n",
       " 'resnet34_2',\n",
       " 'resnet34_3',\n",
       " 'resnet34_4',\n",
       " 'resnet34_5',\n",
       " 'resnet34_6',\n",
       " 'resnet34_7',\n",
       " 'resnet34_8',\n",
       " 'resnet34_9',\n",
       " 'resnet34_10',\n",
       " 'resnet34_11',\n",
       " 'resnet34_12',\n",
       " 'resnet34_13',\n",
       " 'resnet34_14',\n",
       " 'resnet34_15',\n",
       " 'resnet34_16',\n",
       " 'resnet34_17',\n",
       " 'resnet34_18',\n",
       " 'resnet34_19',\n",
       " 'resnet34_20',\n",
       " 'resnet34_21',\n",
       " 'resnet34_22',\n",
       " 'resnet34_23',\n",
       " 'resnet34_24',\n",
       " 'resnet34_25',\n",
       " 'resnet34_26',\n",
       " 'resnet34_27',\n",
       " 'resnet34_28',\n",
       " 'resnet34_29',\n",
       " 'resnet34_30',\n",
       " 'resnet34_31',\n",
       " 'resnet34_32',\n",
       " 'resnet34_33',\n",
       " 'resnet34_34',\n",
       " 'resnet34_35',\n",
       " 'resnet34_36',\n",
       " 'resnet34_37',\n",
       " 'resnet34_38',\n",
       " 'resnet34_39',\n",
       " 'resnet34_40',\n",
       " 'resnet34_41',\n",
       " 'resnet34_42',\n",
       " 'resnet34_43',\n",
       " 'resnet34_44',\n",
       " 'resnet34_45',\n",
       " 'resnet34_46',\n",
       " 'resnet34_47',\n",
       " 'resnet34_48',\n",
       " 'resnet34_49',\n",
       " 'resnet34_50',\n",
       " 'resnet34_51',\n",
       " 'resnet34_52',\n",
       " 'resnet34_53',\n",
       " 'resnet34_54',\n",
       " 'resnet34_55',\n",
       " 'resnet34_56',\n",
       " 'resnet34_57',\n",
       " 'resnet34_58',\n",
       " 'resnet34_59',\n",
       " 'resnet34_60',\n",
       " 'resnet34_61',\n",
       " 'resnet34_62',\n",
       " 'resnet34_63',\n",
       " 'resnet34_64',\n",
       " 'resnet34_65',\n",
       " 'resnet34_66',\n",
       " 'resnet34_67',\n",
       " 'resnet34_68',\n",
       " 'resnet34_69',\n",
       " 'resnet34_70',\n",
       " 'resnet34_71',\n",
       " 'resnet34_72',\n",
       " 'resnet34_73',\n",
       " 'resnet34_74',\n",
       " 'resnet34_75',\n",
       " 'resnet34_76',\n",
       " 'resnet34_77',\n",
       " 'resnet34_78',\n",
       " 'resnet34_79',\n",
       " 'resnet34_80',\n",
       " 'resnet34_81',\n",
       " 'resnet34_82',\n",
       " 'resnet34_83',\n",
       " 'resnet34_84',\n",
       " 'resnet34_85',\n",
       " 'resnet34_86',\n",
       " 'resnet34_87',\n",
       " 'resnet34_88',\n",
       " 'resnet34_89',\n",
       " 'resnet34_90',\n",
       " 'resnet34_91',\n",
       " 'resnet34_92',\n",
       " 'resnet34_93',\n",
       " 'resnet34_94',\n",
       " 'resnet34_95',\n",
       " 'resnet34_96',\n",
       " 'resnet34_97',\n",
       " 'resnet34_98',\n",
       " 'resnet34_99',\n",
       " 'resnet34_100',\n",
       " 'resnet34_101',\n",
       " 'resnet34_102',\n",
       " 'resnet34_103',\n",
       " 'resnet34_104',\n",
       " 'resnet34_105',\n",
       " 'resnet34_106',\n",
       " 'resnet34_107',\n",
       " 'resnet34_108',\n",
       " 'resnet34_109',\n",
       " 'resnet34_110',\n",
       " 'resnet34_111',\n",
       " 'resnet34_112',\n",
       " 'resnet34_113',\n",
       " 'resnet34_114',\n",
       " 'resnet34_115',\n",
       " 'resnet34_116',\n",
       " 'resnet34_117',\n",
       " 'resnet34_118',\n",
       " 'resnet34_119',\n",
       " 'resnet34_120',\n",
       " 'resnet34_121',\n",
       " 'resnet34_122',\n",
       " 'resnet34_123',\n",
       " 'resnet34_124',\n",
       " 'resnet34_125',\n",
       " 'resnet34_126',\n",
       " 'resnet34_127',\n",
       " 'resnet34_128',\n",
       " 'resnet34_129',\n",
       " 'resnet34_130',\n",
       " 'resnet34_131',\n",
       " 'resnet34_132',\n",
       " 'resnet34_133',\n",
       " 'resnet34_134',\n",
       " 'resnet34_135',\n",
       " 'resnet34_136',\n",
       " 'resnet34_137',\n",
       " 'resnet34_138',\n",
       " 'resnet34_139',\n",
       " 'resnet34_140',\n",
       " 'resnet34_141',\n",
       " 'resnet34_142',\n",
       " 'resnet34_143',\n",
       " 'resnet34_144',\n",
       " 'resnet34_145',\n",
       " 'resnet34_146',\n",
       " 'resnet34_147',\n",
       " 'resnet34_148',\n",
       " 'resnet34_149',\n",
       " 'resnet34_150',\n",
       " 'resnet34_151',\n",
       " 'resnet34_152',\n",
       " 'resnet34_153',\n",
       " 'resnet34_154',\n",
       " 'resnet34_155',\n",
       " 'resnet34_156',\n",
       " 'resnet34_157',\n",
       " 'resnet34_158',\n",
       " 'resnet34_159',\n",
       " 'resnet34_160',\n",
       " 'resnet34_161',\n",
       " 'resnet34_162',\n",
       " 'resnet34_163',\n",
       " 'resnet34_164',\n",
       " 'resnet34_165',\n",
       " 'resnet34_166',\n",
       " 'resnet34_167',\n",
       " 'resnet34_168',\n",
       " 'resnet34_169',\n",
       " 'resnet34_170',\n",
       " 'resnet34_171',\n",
       " 'resnet34_172',\n",
       " 'resnet34_173',\n",
       " 'resnet34_174',\n",
       " 'resnet34_175',\n",
       " 'resnet34_176',\n",
       " 'resnet34_177',\n",
       " 'resnet34_178',\n",
       " 'resnet34_179',\n",
       " 'resnet34_180',\n",
       " 'resnet34_181',\n",
       " 'resnet34_182',\n",
       " 'resnet34_183',\n",
       " 'resnet34_184',\n",
       " 'resnet34_185',\n",
       " 'resnet34_186',\n",
       " 'resnet34_187',\n",
       " 'resnet34_188',\n",
       " 'resnet34_189',\n",
       " 'resnet34_190',\n",
       " 'resnet34_191',\n",
       " 'resnet34_192',\n",
       " 'resnet34_193',\n",
       " 'resnet34_194',\n",
       " 'resnet34_195',\n",
       " 'resnet34_196',\n",
       " 'resnet34_197',\n",
       " 'resnet34_198',\n",
       " 'resnet34_199',\n",
       " 'resnet34_200',\n",
       " 'resnet34_201',\n",
       " 'resnet34_202',\n",
       " 'resnet34_203',\n",
       " 'resnet34_204',\n",
       " 'resnet34_205',\n",
       " 'resnet34_206',\n",
       " 'resnet34_207',\n",
       " 'resnet34_208',\n",
       " 'resnet34_209',\n",
       " 'resnet34_210',\n",
       " 'resnet34_211',\n",
       " 'resnet34_212',\n",
       " 'resnet34_213',\n",
       " 'resnet34_214',\n",
       " 'resnet34_215',\n",
       " 'resnet34_216',\n",
       " 'resnet34_217',\n",
       " 'resnet34_218',\n",
       " 'resnet34_219',\n",
       " 'resnet34_220',\n",
       " 'resnet34_221',\n",
       " 'resnet34_222',\n",
       " 'resnet34_223',\n",
       " 'resnet34_224',\n",
       " 'resnet34_225',\n",
       " 'resnet34_226',\n",
       " 'resnet34_227',\n",
       " 'resnet34_228',\n",
       " 'resnet34_229',\n",
       " 'resnet34_230',\n",
       " 'resnet34_231',\n",
       " 'resnet34_232',\n",
       " 'resnet34_233',\n",
       " 'resnet34_234',\n",
       " 'resnet34_235',\n",
       " 'resnet34_236',\n",
       " 'resnet34_237',\n",
       " 'resnet34_238',\n",
       " 'resnet34_239',\n",
       " 'resnet34_240',\n",
       " 'resnet34_241',\n",
       " 'resnet34_242',\n",
       " 'resnet34_243',\n",
       " 'resnet34_244',\n",
       " 'resnet34_245',\n",
       " 'resnet34_246',\n",
       " 'resnet34_247',\n",
       " 'resnet34_248',\n",
       " 'resnet34_249',\n",
       " 'resnet34_250',\n",
       " 'resnet34_251',\n",
       " 'resnet34_252',\n",
       " 'resnet34_253',\n",
       " 'resnet34_254',\n",
       " 'resnet34_255',\n",
       " 'resnet34_256',\n",
       " 'resnet34_257',\n",
       " 'resnet34_258',\n",
       " 'resnet34_259',\n",
       " 'resnet34_260',\n",
       " 'resnet34_261',\n",
       " 'resnet34_262',\n",
       " 'resnet34_263',\n",
       " 'resnet34_264',\n",
       " 'resnet34_265',\n",
       " 'resnet34_266',\n",
       " 'resnet34_267',\n",
       " 'resnet34_268',\n",
       " 'resnet34_269',\n",
       " 'resnet34_270',\n",
       " 'resnet34_271',\n",
       " 'resnet34_272',\n",
       " 'resnet34_273',\n",
       " 'resnet34_274',\n",
       " 'resnet34_275',\n",
       " 'resnet34_276',\n",
       " 'resnet34_277',\n",
       " 'resnet34_278',\n",
       " 'resnet34_279',\n",
       " 'resnet34_280',\n",
       " 'resnet34_281',\n",
       " 'resnet34_282',\n",
       " 'resnet34_283',\n",
       " 'resnet34_284',\n",
       " 'resnet34_285',\n",
       " 'resnet34_286',\n",
       " 'resnet34_287',\n",
       " 'resnet34_288',\n",
       " 'resnet34_289',\n",
       " 'resnet34_290',\n",
       " 'resnet34_291',\n",
       " 'resnet34_292',\n",
       " 'resnet34_293',\n",
       " 'resnet34_294',\n",
       " 'resnet34_295',\n",
       " 'resnet34_296',\n",
       " 'resnet34_297',\n",
       " 'resnet34_298',\n",
       " 'resnet34_299',\n",
       " 'resnet34_300',\n",
       " 'resnet34_301',\n",
       " 'resnet34_302',\n",
       " 'resnet34_303',\n",
       " 'resnet34_304',\n",
       " 'resnet34_305',\n",
       " 'resnet34_306',\n",
       " 'resnet34_307',\n",
       " 'resnet34_308',\n",
       " 'resnet34_309',\n",
       " 'resnet34_310',\n",
       " 'resnet34_311',\n",
       " 'resnet34_312',\n",
       " 'resnet34_313',\n",
       " 'resnet34_314',\n",
       " 'resnet34_315',\n",
       " 'resnet34_316',\n",
       " 'resnet34_317',\n",
       " 'resnet34_318',\n",
       " 'resnet34_319',\n",
       " 'resnet34_320',\n",
       " 'resnet34_321',\n",
       " 'resnet34_322',\n",
       " 'resnet34_323',\n",
       " 'resnet34_324',\n",
       " 'resnet34_325',\n",
       " 'resnet34_326',\n",
       " 'resnet34_327',\n",
       " 'resnet34_328',\n",
       " 'resnet34_329',\n",
       " 'resnet34_330',\n",
       " 'resnet34_331',\n",
       " 'resnet34_332',\n",
       " 'resnet34_333',\n",
       " 'resnet34_334',\n",
       " 'resnet34_335',\n",
       " 'resnet34_336',\n",
       " 'resnet34_337',\n",
       " 'resnet34_338',\n",
       " 'resnet34_339',\n",
       " 'resnet34_340',\n",
       " 'resnet34_341',\n",
       " 'resnet34_342',\n",
       " 'resnet34_343',\n",
       " 'resnet34_344',\n",
       " 'resnet34_345',\n",
       " 'resnet34_346',\n",
       " 'resnet34_347',\n",
       " 'resnet34_348',\n",
       " 'resnet34_349',\n",
       " 'resnet34_350',\n",
       " 'resnet34_351',\n",
       " 'resnet34_352',\n",
       " 'resnet34_353',\n",
       " 'resnet34_354',\n",
       " 'resnet34_355',\n",
       " 'resnet34_356',\n",
       " 'resnet34_357',\n",
       " 'resnet34_358',\n",
       " 'resnet34_359',\n",
       " 'resnet34_360',\n",
       " 'resnet34_361',\n",
       " 'resnet34_362',\n",
       " 'resnet34_363',\n",
       " 'resnet34_364',\n",
       " 'resnet34_365',\n",
       " 'resnet34_366',\n",
       " 'resnet34_367',\n",
       " 'resnet34_368',\n",
       " 'resnet34_369',\n",
       " 'resnet34_370',\n",
       " 'resnet34_371',\n",
       " 'resnet34_372',\n",
       " 'resnet34_373',\n",
       " 'resnet34_374',\n",
       " 'resnet34_375',\n",
       " 'resnet34_376',\n",
       " 'resnet34_377',\n",
       " 'resnet34_378',\n",
       " 'resnet34_379',\n",
       " 'resnet34_380',\n",
       " 'resnet34_381',\n",
       " 'resnet34_382',\n",
       " 'resnet34_383',\n",
       " 'resnet34_384',\n",
       " 'resnet34_385',\n",
       " 'resnet34_386',\n",
       " 'resnet34_387',\n",
       " 'resnet34_388',\n",
       " 'resnet34_389',\n",
       " 'resnet34_390',\n",
       " 'resnet34_391',\n",
       " 'resnet34_392',\n",
       " 'resnet34_393',\n",
       " 'resnet34_394',\n",
       " 'resnet34_395',\n",
       " 'resnet34_396',\n",
       " 'resnet34_397',\n",
       " 'resnet34_398',\n",
       " 'resnet34_399',\n",
       " 'resnet34_400',\n",
       " 'resnet34_401',\n",
       " 'resnet34_402',\n",
       " 'resnet34_403',\n",
       " 'resnet34_404',\n",
       " 'resnet34_405',\n",
       " 'resnet34_406',\n",
       " 'resnet34_407',\n",
       " 'resnet34_408',\n",
       " 'resnet34_409',\n",
       " 'resnet34_410',\n",
       " 'resnet34_411',\n",
       " 'resnet34_412',\n",
       " 'resnet34_413',\n",
       " 'resnet34_414',\n",
       " 'resnet34_415',\n",
       " 'resnet34_416',\n",
       " 'resnet34_417',\n",
       " 'resnet34_418',\n",
       " 'resnet34_419',\n",
       " 'resnet34_420',\n",
       " 'resnet34_421',\n",
       " 'resnet34_422',\n",
       " 'resnet34_423',\n",
       " 'resnet34_424',\n",
       " 'resnet34_425',\n",
       " 'resnet34_426',\n",
       " 'resnet34_427',\n",
       " 'resnet34_428',\n",
       " 'resnet34_429',\n",
       " 'resnet34_430',\n",
       " 'resnet34_431',\n",
       " 'resnet34_432',\n",
       " 'resnet34_433',\n",
       " 'resnet34_434',\n",
       " 'resnet34_435',\n",
       " 'resnet34_436',\n",
       " 'resnet34_437',\n",
       " 'resnet34_438',\n",
       " 'resnet34_439',\n",
       " 'resnet34_440',\n",
       " 'resnet34_441',\n",
       " 'resnet34_442',\n",
       " 'resnet34_443',\n",
       " 'resnet34_444',\n",
       " 'resnet34_445',\n",
       " 'resnet34_446',\n",
       " 'resnet34_447',\n",
       " 'resnet34_448',\n",
       " 'resnet34_449',\n",
       " 'resnet34_450',\n",
       " 'resnet34_451',\n",
       " 'resnet34_452',\n",
       " 'resnet34_453',\n",
       " 'resnet34_454',\n",
       " 'resnet34_455',\n",
       " 'resnet34_456',\n",
       " 'resnet34_457',\n",
       " 'resnet34_458',\n",
       " 'resnet34_459',\n",
       " 'resnet34_460',\n",
       " 'resnet34_461',\n",
       " 'resnet34_462',\n",
       " 'resnet34_463',\n",
       " 'resnet34_464',\n",
       " 'resnet34_465',\n",
       " 'resnet34_466',\n",
       " 'resnet34_467',\n",
       " 'resnet34_468',\n",
       " 'resnet34_469',\n",
       " 'resnet34_470',\n",
       " 'resnet34_471',\n",
       " 'resnet34_472',\n",
       " 'resnet34_473',\n",
       " 'resnet34_474',\n",
       " 'resnet34_475',\n",
       " 'resnet34_476',\n",
       " 'resnet34_477',\n",
       " 'resnet34_478',\n",
       " 'resnet34_479',\n",
       " 'resnet34_480',\n",
       " 'resnet34_481',\n",
       " 'resnet34_482',\n",
       " 'resnet34_483',\n",
       " 'resnet34_484',\n",
       " 'resnet34_485',\n",
       " 'resnet34_486',\n",
       " 'resnet34_487',\n",
       " 'resnet34_488',\n",
       " 'resnet34_489',\n",
       " 'resnet34_490',\n",
       " 'resnet34_491',\n",
       " 'resnet34_492',\n",
       " 'resnet34_493',\n",
       " 'resnet34_494',\n",
       " 'resnet34_495',\n",
       " 'resnet34_496',\n",
       " 'resnet34_497',\n",
       " 'resnet34_498',\n",
       " 'resnet34_499',\n",
       " 'resnet34_500',\n",
       " 'resnet34_501',\n",
       " 'resnet34_502',\n",
       " 'resnet34_503',\n",
       " 'resnet34_504',\n",
       " 'resnet34_505',\n",
       " 'resnet34_506',\n",
       " 'resnet34_507',\n",
       " 'resnet34_508',\n",
       " 'resnet34_509',\n",
       " 'resnet34_510',\n",
       " 'resnet34_511']"
      ]
     },
     "execution_count": 435,
     "metadata": {},
     "output_type": "execute_result"
    }
   ],
   "source": [
    "number_of_cols = len(list_dataset[\"orange_std_col_name_ohv_type_resnet34\"].get_dataframe().columns)\n",
    "x_cols_resnet34 = list(list_dataset[\"orange_std_col_name_ohv_type_resnet34\"].get_dataframe().iloc[:,np.r_[1,2,6:9,14:number_of_cols]].columns)\n",
    "x_cols_resnet34"
   ]
  },
  {
   "cell_type": "code",
   "execution_count": 436,
   "metadata": {},
   "outputs": [],
   "source": [
    "y_cols_resnet34 = [\"brix\"]"
   ]
  },
  {
   "cell_type": "code",
   "execution_count": 437,
   "metadata": {},
   "outputs": [
    {
     "name": "stderr",
     "output_type": "stream",
     "text": [
      "100%|██████████| 81/81 [00:01<00:00, 46.77it/s]\n"
     ]
    },
    {
     "name": "stdout",
     "output_type": "stream",
     "text": [
      "Training | ModelType: ModelType.LINEAR_REGRESSION | Datasetname: orange_std_col_name_ohv_type_resnet34 | ScalerType: ScalerType.Raw_ | Params: {}\n",
      "R2: 0.42890960437346803 | MSE: 1.047397803520211\n"
     ]
    },
    {
     "name": "stderr",
     "output_type": "stream",
     "text": [
      "100%|██████████| 81/81 [00:01<00:00, 44.07it/s]\n"
     ]
    },
    {
     "name": "stdout",
     "output_type": "stream",
     "text": [
      "Training | ModelType: ModelType.LINEAR_REGRESSION | Datasetname: orange_std_col_name_ohv_type_resnet34 | ScalerType: ScalerType.MaxAbsScaler_ | Params: {}\n",
      "R2: 0.15041215057168633 | MSE: 1.5581709204064476\n"
     ]
    },
    {
     "name": "stderr",
     "output_type": "stream",
     "text": [
      "100%|██████████| 81/81 [00:01<00:00, 43.80it/s]\n"
     ]
    },
    {
     "name": "stdout",
     "output_type": "stream",
     "text": [
      "Training | ModelType: ModelType.LINEAR_REGRESSION | Datasetname: orange_std_col_name_ohv_type_resnet34 | ScalerType: ScalerType.MinMaxScaler_ | Params: {}\n",
      "R2: 0.2095812542201606 | MSE: 1.4496529175258672\n"
     ]
    },
    {
     "name": "stderr",
     "output_type": "stream",
     "text": [
      "100%|██████████| 81/81 [00:01<00:00, 43.11it/s]\n"
     ]
    },
    {
     "name": "stdout",
     "output_type": "stream",
     "text": [
      "Training | ModelType: ModelType.LINEAR_REGRESSION | Datasetname: orange_std_col_name_ohv_type_resnet34 | ScalerType: ScalerType.Normalizer_ | Params: {}\n",
      "R2: 0.1628762574101451 | MSE: 1.5353113552212883\n"
     ]
    },
    {
     "name": "stderr",
     "output_type": "stream",
     "text": [
      "100%|██████████| 81/81 [00:04<00:00, 17.18it/s]\n"
     ]
    },
    {
     "name": "stdout",
     "output_type": "stream",
     "text": [
      "Training | ModelType: ModelType.LINEAR_REGRESSION | Datasetname: orange_std_col_name_ohv_type_resnet34 | ScalerType: ScalerType.RobustScaler_ | Params: {}\n",
      "R2: 0.20616296006917523 | MSE: 1.4559221768461894\n"
     ]
    },
    {
     "name": "stderr",
     "output_type": "stream",
     "text": [
      "100%|██████████| 81/81 [00:01<00:00, 43.59it/s]\n"
     ]
    },
    {
     "name": "stdout",
     "output_type": "stream",
     "text": [
      "Training | ModelType: ModelType.LINEAR_REGRESSION | Datasetname: orange_std_col_name_ohv_type_resnet34 | ScalerType: ScalerType.StandardScaler_ | Params: {}\n",
      "R2: 0.20014269266672324 | MSE: 1.4669635372021357\n"
     ]
    },
    {
     "name": "stderr",
     "output_type": "stream",
     "text": [
      "100%|██████████| 81/81 [00:00<00:00, 448.55it/s]\n"
     ]
    },
    {
     "name": "stdout",
     "output_type": "stream",
     "text": [
      "Training | ModelType: ModelType.SVR | Datasetname: orange_std_col_name_ohv_type_resnet34 | ScalerType: ScalerType.Raw_ | Params: {'kernel': 'rbf', 'degree': 3, 'gamma': 'scale', 'coef0': 0, 'tol': 0.001, 'C': 1.0, 'epsilon': 0.1}\n",
      "R2: 0.1661967634838799 | MSE: 1.5292214423198645\n"
     ]
    },
    {
     "name": "stderr",
     "output_type": "stream",
     "text": [
      "100%|██████████| 81/81 [00:00<00:00, 282.23it/s]\n"
     ]
    },
    {
     "name": "stdout",
     "output_type": "stream",
     "text": [
      "Training | ModelType: ModelType.SVR | Datasetname: orange_std_col_name_ohv_type_resnet34 | ScalerType: ScalerType.MaxAbsScaler_ | Params: {'kernel': 'rbf', 'degree': 3, 'gamma': 'scale', 'coef0': 0, 'tol': 0.001, 'C': 1.0, 'epsilon': 0.1}\n",
      "R2: 0.25514269057193606 | MSE: 1.3660918057902691\n"
     ]
    },
    {
     "name": "stderr",
     "output_type": "stream",
     "text": [
      "100%|██████████| 81/81 [00:00<00:00, 288.43it/s]\n"
     ]
    },
    {
     "name": "stdout",
     "output_type": "stream",
     "text": [
      "Training | ModelType: ModelType.SVR | Datasetname: orange_std_col_name_ohv_type_resnet34 | ScalerType: ScalerType.MinMaxScaler_ | Params: {'kernel': 'rbf', 'degree': 3, 'gamma': 'scale', 'coef0': 0, 'tol': 0.001, 'C': 1.0, 'epsilon': 0.1}\n",
      "R2: 0.23331850410943122 | MSE: 1.4061180523170829\n"
     ]
    },
    {
     "name": "stderr",
     "output_type": "stream",
     "text": [
      "100%|██████████| 81/81 [00:00<00:00, 257.85it/s]\n"
     ]
    },
    {
     "name": "stdout",
     "output_type": "stream",
     "text": [
      "Training | ModelType: ModelType.SVR | Datasetname: orange_std_col_name_ohv_type_resnet34 | ScalerType: ScalerType.Normalizer_ | Params: {'kernel': 'rbf', 'degree': 3, 'gamma': 'scale', 'coef0': 0, 'tol': 0.001, 'C': 1.0, 'epsilon': 0.1}\n",
      "R2: 0.3035650798580922 | MSE: 1.2772836161097558\n"
     ]
    },
    {
     "name": "stderr",
     "output_type": "stream",
     "text": [
      "100%|██████████| 81/81 [00:02<00:00, 27.32it/s]\n"
     ]
    },
    {
     "name": "stdout",
     "output_type": "stream",
     "text": [
      "Training | ModelType: ModelType.SVR | Datasetname: orange_std_col_name_ohv_type_resnet34 | ScalerType: ScalerType.RobustScaler_ | Params: {'kernel': 'rbf', 'degree': 3, 'gamma': 'scale', 'coef0': 0, 'tol': 0.001, 'C': 1.0, 'epsilon': 0.1}\n",
      "R2: 0.21608782320502562 | MSE: 1.437719664724927\n"
     ]
    },
    {
     "name": "stderr",
     "output_type": "stream",
     "text": [
      "100%|██████████| 81/81 [00:00<00:00, 271.91it/s]\n"
     ]
    },
    {
     "name": "stdout",
     "output_type": "stream",
     "text": [
      "Training | ModelType: ModelType.SVR | Datasetname: orange_std_col_name_ohv_type_resnet34 | ScalerType: ScalerType.StandardScaler_ | Params: {'kernel': 'rbf', 'degree': 3, 'gamma': 'scale', 'coef0': 0, 'tol': 0.001, 'C': 1.0, 'epsilon': 0.1}\n",
      "R2: 0.21687229190188706 | MSE: 1.436280924384842\n"
     ]
    },
    {
     "name": "stderr",
     "output_type": "stream",
     "text": [
      "100%|██████████| 81/81 [00:03<00:00, 21.58it/s]\n"
     ]
    },
    {
     "name": "stdout",
     "output_type": "stream",
     "text": [
      "Training | ModelType: ModelType.DECISION_TREE | Datasetname: orange_std_col_name_ohv_type_resnet34 | ScalerType: ScalerType.Raw_ | Params: {'criterion': 'squared_error', 'splitter': 'best', 'max_depth': None, 'min_samples_split': 2, 'min_samples_leaf': 1, 'min_weight_fraction_leaf': 0.0, 'max_features': None, 'random_state': 42, 'max_leaf_nodes': None, 'min_impurity_decrease': 0}\n",
      "R2: -0.2961447529522989 | MSE: 2.3771703703703704\n"
     ]
    },
    {
     "name": "stderr",
     "output_type": "stream",
     "text": [
      "100%|██████████| 81/81 [00:03<00:00, 21.06it/s]\n"
     ]
    },
    {
     "name": "stdout",
     "output_type": "stream",
     "text": [
      "Training | ModelType: ModelType.DECISION_TREE | Datasetname: orange_std_col_name_ohv_type_resnet34 | ScalerType: ScalerType.MaxAbsScaler_ | Params: {'criterion': 'squared_error', 'splitter': 'best', 'max_depth': None, 'min_samples_split': 2, 'min_samples_leaf': 1, 'min_weight_fraction_leaf': 0.0, 'max_features': None, 'random_state': 42, 'max_leaf_nodes': None, 'min_impurity_decrease': 0}\n",
      "R2: -0.2961447529522989 | MSE: 2.3771703703703704\n"
     ]
    },
    {
     "name": "stderr",
     "output_type": "stream",
     "text": [
      "100%|██████████| 81/81 [00:03<00:00, 20.97it/s]\n"
     ]
    },
    {
     "name": "stdout",
     "output_type": "stream",
     "text": [
      "Training | ModelType: ModelType.DECISION_TREE | Datasetname: orange_std_col_name_ohv_type_resnet34 | ScalerType: ScalerType.MinMaxScaler_ | Params: {'criterion': 'squared_error', 'splitter': 'best', 'max_depth': None, 'min_samples_split': 2, 'min_samples_leaf': 1, 'min_weight_fraction_leaf': 0.0, 'max_features': None, 'random_state': 42, 'max_leaf_nodes': None, 'min_impurity_decrease': 0}\n",
      "R2: -0.2961447529522989 | MSE: 2.3771703703703704\n"
     ]
    },
    {
     "name": "stderr",
     "output_type": "stream",
     "text": [
      "100%|██████████| 81/81 [00:03<00:00, 21.54it/s]\n"
     ]
    },
    {
     "name": "stdout",
     "output_type": "stream",
     "text": [
      "Training | ModelType: ModelType.DECISION_TREE | Datasetname: orange_std_col_name_ohv_type_resnet34 | ScalerType: ScalerType.Normalizer_ | Params: {'criterion': 'squared_error', 'splitter': 'best', 'max_depth': None, 'min_samples_split': 2, 'min_samples_leaf': 1, 'min_weight_fraction_leaf': 0.0, 'max_features': None, 'random_state': 42, 'max_leaf_nodes': None, 'min_impurity_decrease': 0}\n",
      "R2: -0.28812693108273746 | MSE: 2.362465432098765\n"
     ]
    },
    {
     "name": "stderr",
     "output_type": "stream",
     "text": [
      "100%|██████████| 81/81 [00:06<00:00, 12.71it/s]\n"
     ]
    },
    {
     "name": "stdout",
     "output_type": "stream",
     "text": [
      "Training | ModelType: ModelType.DECISION_TREE | Datasetname: orange_std_col_name_ohv_type_resnet34 | ScalerType: ScalerType.RobustScaler_ | Params: {'criterion': 'squared_error', 'splitter': 'best', 'max_depth': None, 'min_samples_split': 2, 'min_samples_leaf': 1, 'min_weight_fraction_leaf': 0.0, 'max_features': None, 'random_state': 42, 'max_leaf_nodes': None, 'min_impurity_decrease': 0}\n",
      "R2: -0.2961447529522989 | MSE: 2.3771703703703704\n"
     ]
    },
    {
     "name": "stderr",
     "output_type": "stream",
     "text": [
      "100%|██████████| 81/81 [00:03<00:00, 21.31it/s]\n"
     ]
    },
    {
     "name": "stdout",
     "output_type": "stream",
     "text": [
      "Training | ModelType: ModelType.DECISION_TREE | Datasetname: orange_std_col_name_ohv_type_resnet34 | ScalerType: ScalerType.StandardScaler_ | Params: {'criterion': 'squared_error', 'splitter': 'best', 'max_depth': None, 'min_samples_split': 2, 'min_samples_leaf': 1, 'min_weight_fraction_leaf': 0.0, 'max_features': None, 'random_state': 42, 'max_leaf_nodes': None, 'min_impurity_decrease': 0}\n",
      "R2: -0.2961447529522989 | MSE: 2.3771703703703704\n"
     ]
    },
    {
     "name": "stderr",
     "output_type": "stream",
     "text": [
      "100%|██████████| 81/81 [06:04<00:00,  4.50s/it]\n"
     ]
    },
    {
     "name": "stdout",
     "output_type": "stream",
     "text": [
      "Training | ModelType: ModelType.RANDOM_FOREST | Datasetname: orange_std_col_name_ohv_type_resnet34 | ScalerType: ScalerType.Raw_ | Params: {'n_estimators': 100, 'criterion': 'squared_error', 'max_depth': None, 'min_samples_split': 2, 'min_samples_leaf': 1, 'min_weight_fraction_leaf': 0.0, 'max_features': 1.0, 'max_leaf_nodes': None, 'min_impurity_decrease': 0.0}\n",
      "R2: 0.2717618644601494 | MSE: 1.33561171654321\n"
     ]
    },
    {
     "name": "stderr",
     "output_type": "stream",
     "text": [
      " 54%|█████▍    | 44/81 [02:29<02:01,  3.29s/it]"
     ]
    },
    {
     "ename": "",
     "evalue": "",
     "output_type": "error",
     "traceback": [
      "\u001b[1;31mThe Kernel crashed while executing code in the current cell or a previous cell. \n",
      "\u001b[1;31mPlease review the code in the cell(s) to identify a possible cause of the failure. \n",
      "\u001b[1;31mClick <a href='https://aka.ms/vscodeJupyterKernelCrash'>here</a> for more info. \n",
      "\u001b[1;31mView Jupyter <a href='command:jupyter.viewOutput'>log</a> for further details."
     ]
    }
   ],
   "source": [
    "if TRAIN_MODEL_2:\n",
    "\n",
    "    for dataset_name in [\"orange_std_col_name_ohv_type_resnet34\"]:\n",
    "        for model_type in ModelType:\n",
    "            for scaler_type in ScalerType:\n",
    "                model = Model(\n",
    "                    dataset_name=\"orange_std_col_name_ohv_type_resnet34\",\n",
    "                    pretrained_model_features=[\"resnet34\"],\n",
    "                    model_type=model_type,\n",
    "                    x_cols=x_cols_resnet34,\n",
    "                    y_cols=y_cols_resnet34,\n",
    "                    dataset=list_dataset[\"orange_std_col_name_ohv_type_resnet34\"],\n",
    "                    scaler_type=scaler_type,\n",
    "                )\n",
    "\n",
    "                result_frame.add_result(model.evaluate())\n",
    "\n",
    "    result_frame.display_result()"
   ]
  },
  {
   "cell_type": "code",
   "execution_count": 80,
   "metadata": {},
   "outputs": [],
   "source": [
    "result_frame.save_result(\"result_3.xlsx\")"
   ]
  },
  {
   "cell_type": "markdown",
   "metadata": {},
   "source": [
    "#### Model train 3: orange_std_col_name_ohv_type + vit_base_patch16_224.dino_get_10"
   ]
  },
  {
   "cell_type": "code",
   "execution_count": 81,
   "metadata": {},
   "outputs": [],
   "source": [
    "vitbase_dataframe = pd.read_excel(\"vit_base_patch16_224.dino_get_10.xlsx\", sheet_name=0)"
   ]
  },
  {
   "cell_type": "code",
   "execution_count": 84,
   "metadata": {},
   "outputs": [],
   "source": [
    "vitbase_dataframe[\"name\"] = vitbase_dataframe[\"name\"].astype(str)"
   ]
  },
  {
   "cell_type": "code",
   "execution_count": 99,
   "metadata": {},
   "outputs": [],
   "source": [
    "vitbase_dataframe = vitbase_dataframe.rename(columns=lambda x: x.replace('timm/', ''))"
   ]
  },
  {
   "cell_type": "code",
   "execution_count": 100,
   "metadata": {},
   "outputs": [
    {
     "data": {
      "text/html": [
       "<div>\n",
       "<style scoped>\n",
       "    .dataframe tbody tr th:only-of-type {\n",
       "        vertical-align: middle;\n",
       "    }\n",
       "\n",
       "    .dataframe tbody tr th {\n",
       "        vertical-align: top;\n",
       "    }\n",
       "\n",
       "    .dataframe thead th {\n",
       "        text-align: right;\n",
       "    }\n",
       "</style>\n",
       "<table border=\"1\" class=\"dataframe\">\n",
       "  <thead>\n",
       "    <tr style=\"text-align: right;\">\n",
       "      <th></th>\n",
       "      <th>name</th>\n",
       "      <th>vit_base_patch16_224.dino_0</th>\n",
       "      <th>vit_base_patch16_224.dino_1</th>\n",
       "      <th>vit_base_patch16_224.dino_2</th>\n",
       "      <th>vit_base_patch16_224.dino_3</th>\n",
       "      <th>vit_base_patch16_224.dino_4</th>\n",
       "      <th>vit_base_patch16_224.dino_5</th>\n",
       "      <th>vit_base_patch16_224.dino_6</th>\n",
       "      <th>vit_base_patch16_224.dino_7</th>\n",
       "      <th>vit_base_patch16_224.dino_8</th>\n",
       "      <th>...</th>\n",
       "      <th>vit_base_patch16_224.dino_758</th>\n",
       "      <th>vit_base_patch16_224.dino_759</th>\n",
       "      <th>vit_base_patch16_224.dino_760</th>\n",
       "      <th>vit_base_patch16_224.dino_761</th>\n",
       "      <th>vit_base_patch16_224.dino_762</th>\n",
       "      <th>vit_base_patch16_224.dino_763</th>\n",
       "      <th>vit_base_patch16_224.dino_764</th>\n",
       "      <th>vit_base_patch16_224.dino_765</th>\n",
       "      <th>vit_base_patch16_224.dino_766</th>\n",
       "      <th>vit_base_patch16_224.dino_767</th>\n",
       "    </tr>\n",
       "  </thead>\n",
       "  <tbody>\n",
       "    <tr>\n",
       "      <th>0</th>\n",
       "      <td>B17</td>\n",
       "      <td>0.215661</td>\n",
       "      <td>-3.244247</td>\n",
       "      <td>-3.182976</td>\n",
       "      <td>-5.578022</td>\n",
       "      <td>-1.704849</td>\n",
       "      <td>3.197681</td>\n",
       "      <td>2.693206</td>\n",
       "      <td>-1.440384</td>\n",
       "      <td>2.562901</td>\n",
       "      <td>...</td>\n",
       "      <td>3.028308</td>\n",
       "      <td>-2.436766</td>\n",
       "      <td>1.672666</td>\n",
       "      <td>2.131644</td>\n",
       "      <td>-0.458804</td>\n",
       "      <td>4.256279</td>\n",
       "      <td>-0.647924</td>\n",
       "      <td>0.198988</td>\n",
       "      <td>-2.557473</td>\n",
       "      <td>-0.454509</td>\n",
       "    </tr>\n",
       "    <tr>\n",
       "      <th>1</th>\n",
       "      <td>C13</td>\n",
       "      <td>0.041835</td>\n",
       "      <td>-3.231734</td>\n",
       "      <td>-3.050569</td>\n",
       "      <td>-5.496967</td>\n",
       "      <td>-1.557024</td>\n",
       "      <td>3.589212</td>\n",
       "      <td>2.661936</td>\n",
       "      <td>-1.702399</td>\n",
       "      <td>2.830428</td>\n",
       "      <td>...</td>\n",
       "      <td>2.712251</td>\n",
       "      <td>-2.310751</td>\n",
       "      <td>1.407741</td>\n",
       "      <td>2.048194</td>\n",
       "      <td>-0.331923</td>\n",
       "      <td>4.176161</td>\n",
       "      <td>-0.817485</td>\n",
       "      <td>0.189221</td>\n",
       "      <td>-2.291231</td>\n",
       "      <td>-0.516037</td>\n",
       "    </tr>\n",
       "    <tr>\n",
       "      <th>2</th>\n",
       "      <td>A15</td>\n",
       "      <td>-0.219691</td>\n",
       "      <td>-3.180412</td>\n",
       "      <td>-2.904157</td>\n",
       "      <td>-5.501039</td>\n",
       "      <td>-1.719804</td>\n",
       "      <td>3.470874</td>\n",
       "      <td>3.022942</td>\n",
       "      <td>-1.407630</td>\n",
       "      <td>2.733942</td>\n",
       "      <td>...</td>\n",
       "      <td>2.664305</td>\n",
       "      <td>-2.343104</td>\n",
       "      <td>1.461188</td>\n",
       "      <td>2.029681</td>\n",
       "      <td>-0.213271</td>\n",
       "      <td>4.385583</td>\n",
       "      <td>-0.896369</td>\n",
       "      <td>0.360646</td>\n",
       "      <td>-2.221995</td>\n",
       "      <td>-0.589127</td>\n",
       "    </tr>\n",
       "    <tr>\n",
       "      <th>3</th>\n",
       "      <td>B12</td>\n",
       "      <td>-0.217934</td>\n",
       "      <td>-3.104223</td>\n",
       "      <td>-3.136729</td>\n",
       "      <td>-5.848520</td>\n",
       "      <td>-1.493709</td>\n",
       "      <td>3.389979</td>\n",
       "      <td>2.878323</td>\n",
       "      <td>-1.499904</td>\n",
       "      <td>3.015133</td>\n",
       "      <td>...</td>\n",
       "      <td>2.925623</td>\n",
       "      <td>-2.341607</td>\n",
       "      <td>1.736405</td>\n",
       "      <td>2.148834</td>\n",
       "      <td>-0.227815</td>\n",
       "      <td>4.274886</td>\n",
       "      <td>-0.798477</td>\n",
       "      <td>0.202288</td>\n",
       "      <td>-2.401245</td>\n",
       "      <td>-0.780431</td>\n",
       "    </tr>\n",
       "    <tr>\n",
       "      <th>4</th>\n",
       "      <td>C26</td>\n",
       "      <td>-0.302256</td>\n",
       "      <td>-3.527617</td>\n",
       "      <td>-2.701267</td>\n",
       "      <td>-5.452566</td>\n",
       "      <td>-1.594799</td>\n",
       "      <td>3.839298</td>\n",
       "      <td>2.571275</td>\n",
       "      <td>-1.939849</td>\n",
       "      <td>2.901562</td>\n",
       "      <td>...</td>\n",
       "      <td>2.221192</td>\n",
       "      <td>-2.247005</td>\n",
       "      <td>1.312559</td>\n",
       "      <td>1.566453</td>\n",
       "      <td>-0.210452</td>\n",
       "      <td>4.059615</td>\n",
       "      <td>-1.003321</td>\n",
       "      <td>0.146309</td>\n",
       "      <td>-1.951879</td>\n",
       "      <td>-0.498701</td>\n",
       "    </tr>\n",
       "    <tr>\n",
       "      <th>5</th>\n",
       "      <td>A19</td>\n",
       "      <td>-0.177397</td>\n",
       "      <td>-3.332504</td>\n",
       "      <td>-3.037250</td>\n",
       "      <td>-5.543190</td>\n",
       "      <td>-1.537194</td>\n",
       "      <td>3.543128</td>\n",
       "      <td>2.745569</td>\n",
       "      <td>-1.680070</td>\n",
       "      <td>2.811475</td>\n",
       "      <td>...</td>\n",
       "      <td>2.645114</td>\n",
       "      <td>-2.482817</td>\n",
       "      <td>1.513128</td>\n",
       "      <td>2.007225</td>\n",
       "      <td>-0.264307</td>\n",
       "      <td>4.277535</td>\n",
       "      <td>-0.795482</td>\n",
       "      <td>0.206316</td>\n",
       "      <td>-2.271085</td>\n",
       "      <td>-0.671036</td>\n",
       "    </tr>\n",
       "    <tr>\n",
       "      <th>6</th>\n",
       "      <td>C19</td>\n",
       "      <td>-0.079070</td>\n",
       "      <td>-3.396989</td>\n",
       "      <td>-2.937616</td>\n",
       "      <td>-5.406275</td>\n",
       "      <td>-1.522589</td>\n",
       "      <td>3.627992</td>\n",
       "      <td>2.701106</td>\n",
       "      <td>-1.755753</td>\n",
       "      <td>2.810530</td>\n",
       "      <td>...</td>\n",
       "      <td>2.587513</td>\n",
       "      <td>-2.309924</td>\n",
       "      <td>1.418451</td>\n",
       "      <td>1.996513</td>\n",
       "      <td>-0.215646</td>\n",
       "      <td>4.084142</td>\n",
       "      <td>-0.794452</td>\n",
       "      <td>0.157732</td>\n",
       "      <td>-2.177870</td>\n",
       "      <td>-0.577860</td>\n",
       "    </tr>\n",
       "    <tr>\n",
       "      <th>7</th>\n",
       "      <td>C7</td>\n",
       "      <td>-0.259177</td>\n",
       "      <td>-3.303782</td>\n",
       "      <td>-2.796074</td>\n",
       "      <td>-5.475717</td>\n",
       "      <td>-1.606181</td>\n",
       "      <td>3.822707</td>\n",
       "      <td>2.748883</td>\n",
       "      <td>-1.683170</td>\n",
       "      <td>3.036036</td>\n",
       "      <td>...</td>\n",
       "      <td>2.346677</td>\n",
       "      <td>-2.231825</td>\n",
       "      <td>1.184119</td>\n",
       "      <td>1.803401</td>\n",
       "      <td>-0.189133</td>\n",
       "      <td>3.937792</td>\n",
       "      <td>-0.953446</td>\n",
       "      <td>0.095334</td>\n",
       "      <td>-2.041214</td>\n",
       "      <td>-0.674495</td>\n",
       "    </tr>\n",
       "    <tr>\n",
       "      <th>8</th>\n",
       "      <td>B7</td>\n",
       "      <td>-0.243451</td>\n",
       "      <td>-3.271760</td>\n",
       "      <td>-2.900022</td>\n",
       "      <td>-5.555336</td>\n",
       "      <td>-1.592328</td>\n",
       "      <td>3.618021</td>\n",
       "      <td>2.725983</td>\n",
       "      <td>-1.783982</td>\n",
       "      <td>2.858597</td>\n",
       "      <td>...</td>\n",
       "      <td>2.676637</td>\n",
       "      <td>-2.477573</td>\n",
       "      <td>1.393736</td>\n",
       "      <td>1.858334</td>\n",
       "      <td>-0.172864</td>\n",
       "      <td>4.357589</td>\n",
       "      <td>-0.882223</td>\n",
       "      <td>0.130798</td>\n",
       "      <td>-2.115005</td>\n",
       "      <td>-0.564841</td>\n",
       "    </tr>\n",
       "    <tr>\n",
       "      <th>9</th>\n",
       "      <td>B13</td>\n",
       "      <td>-0.209111</td>\n",
       "      <td>-3.176825</td>\n",
       "      <td>-2.967908</td>\n",
       "      <td>-5.611030</td>\n",
       "      <td>-1.671167</td>\n",
       "      <td>3.560265</td>\n",
       "      <td>2.780010</td>\n",
       "      <td>-1.592729</td>\n",
       "      <td>2.924857</td>\n",
       "      <td>...</td>\n",
       "      <td>2.671087</td>\n",
       "      <td>-2.483738</td>\n",
       "      <td>1.479884</td>\n",
       "      <td>1.891793</td>\n",
       "      <td>-0.152420</td>\n",
       "      <td>4.259130</td>\n",
       "      <td>-0.889966</td>\n",
       "      <td>0.227221</td>\n",
       "      <td>-2.125239</td>\n",
       "      <td>-0.628636</td>\n",
       "    </tr>\n",
       "    <tr>\n",
       "      <th>10</th>\n",
       "      <td>B10</td>\n",
       "      <td>-0.479303</td>\n",
       "      <td>-3.211370</td>\n",
       "      <td>-3.120798</td>\n",
       "      <td>-5.398902</td>\n",
       "      <td>-1.706050</td>\n",
       "      <td>3.722358</td>\n",
       "      <td>2.878106</td>\n",
       "      <td>-1.560857</td>\n",
       "      <td>3.087421</td>\n",
       "      <td>...</td>\n",
       "      <td>2.391742</td>\n",
       "      <td>-2.532295</td>\n",
       "      <td>1.349990</td>\n",
       "      <td>1.753936</td>\n",
       "      <td>-0.017389</td>\n",
       "      <td>4.155475</td>\n",
       "      <td>-0.991500</td>\n",
       "      <td>0.436568</td>\n",
       "      <td>-2.002816</td>\n",
       "      <td>-0.817327</td>\n",
       "    </tr>\n",
       "    <tr>\n",
       "      <th>11</th>\n",
       "      <td>B6</td>\n",
       "      <td>-0.489609</td>\n",
       "      <td>-3.110347</td>\n",
       "      <td>-2.735604</td>\n",
       "      <td>-5.451101</td>\n",
       "      <td>-1.713243</td>\n",
       "      <td>3.855441</td>\n",
       "      <td>2.897836</td>\n",
       "      <td>-1.531671</td>\n",
       "      <td>3.153728</td>\n",
       "      <td>...</td>\n",
       "      <td>2.300283</td>\n",
       "      <td>-2.250907</td>\n",
       "      <td>1.257943</td>\n",
       "      <td>1.717169</td>\n",
       "      <td>-0.098023</td>\n",
       "      <td>4.062955</td>\n",
       "      <td>-0.996209</td>\n",
       "      <td>0.323500</td>\n",
       "      <td>-1.916016</td>\n",
       "      <td>-0.691688</td>\n",
       "    </tr>\n",
       "    <tr>\n",
       "      <th>12</th>\n",
       "      <td>C1</td>\n",
       "      <td>-0.357127</td>\n",
       "      <td>-3.451583</td>\n",
       "      <td>-2.886390</td>\n",
       "      <td>-5.472487</td>\n",
       "      <td>-1.394386</td>\n",
       "      <td>3.669397</td>\n",
       "      <td>2.578991</td>\n",
       "      <td>-2.199635</td>\n",
       "      <td>3.063879</td>\n",
       "      <td>...</td>\n",
       "      <td>2.162990</td>\n",
       "      <td>-2.392110</td>\n",
       "      <td>1.373562</td>\n",
       "      <td>1.578848</td>\n",
       "      <td>-0.101068</td>\n",
       "      <td>4.098790</td>\n",
       "      <td>-0.849090</td>\n",
       "      <td>0.165012</td>\n",
       "      <td>-2.063041</td>\n",
       "      <td>-0.583255</td>\n",
       "    </tr>\n",
       "    <tr>\n",
       "      <th>13</th>\n",
       "      <td>A20</td>\n",
       "      <td>0.010303</td>\n",
       "      <td>-3.281641</td>\n",
       "      <td>-2.913336</td>\n",
       "      <td>-5.525575</td>\n",
       "      <td>-1.551981</td>\n",
       "      <td>3.327178</td>\n",
       "      <td>2.920008</td>\n",
       "      <td>-1.597759</td>\n",
       "      <td>2.584888</td>\n",
       "      <td>...</td>\n",
       "      <td>2.685769</td>\n",
       "      <td>-2.455485</td>\n",
       "      <td>1.362158</td>\n",
       "      <td>2.045942</td>\n",
       "      <td>-0.316977</td>\n",
       "      <td>4.262648</td>\n",
       "      <td>-0.792216</td>\n",
       "      <td>0.350110</td>\n",
       "      <td>-2.439405</td>\n",
       "      <td>-0.532715</td>\n",
       "    </tr>\n",
       "    <tr>\n",
       "      <th>14</th>\n",
       "      <td>B16</td>\n",
       "      <td>-0.191610</td>\n",
       "      <td>-3.247213</td>\n",
       "      <td>-3.077946</td>\n",
       "      <td>-5.576112</td>\n",
       "      <td>-1.544011</td>\n",
       "      <td>3.607882</td>\n",
       "      <td>2.729345</td>\n",
       "      <td>-1.617422</td>\n",
       "      <td>3.047684</td>\n",
       "      <td>...</td>\n",
       "      <td>2.726068</td>\n",
       "      <td>-2.252594</td>\n",
       "      <td>1.556312</td>\n",
       "      <td>2.131085</td>\n",
       "      <td>-0.241071</td>\n",
       "      <td>4.173662</td>\n",
       "      <td>-0.867890</td>\n",
       "      <td>0.253861</td>\n",
       "      <td>-2.306313</td>\n",
       "      <td>-0.754005</td>\n",
       "    </tr>\n",
       "    <tr>\n",
       "      <th>15</th>\n",
       "      <td>C12</td>\n",
       "      <td>0.253930</td>\n",
       "      <td>-3.262393</td>\n",
       "      <td>-2.980680</td>\n",
       "      <td>-5.692569</td>\n",
       "      <td>-1.695311</td>\n",
       "      <td>3.349492</td>\n",
       "      <td>2.614789</td>\n",
       "      <td>-1.570417</td>\n",
       "      <td>2.773239</td>\n",
       "      <td>...</td>\n",
       "      <td>2.868219</td>\n",
       "      <td>-2.283258</td>\n",
       "      <td>1.536457</td>\n",
       "      <td>2.127196</td>\n",
       "      <td>-0.370886</td>\n",
       "      <td>4.210786</td>\n",
       "      <td>-0.830146</td>\n",
       "      <td>0.051031</td>\n",
       "      <td>-2.426492</td>\n",
       "      <td>-0.465477</td>\n",
       "    </tr>\n",
       "    <tr>\n",
       "      <th>16</th>\n",
       "      <td>B11</td>\n",
       "      <td>-0.396450</td>\n",
       "      <td>-3.186925</td>\n",
       "      <td>-2.963194</td>\n",
       "      <td>-5.514881</td>\n",
       "      <td>-1.623377</td>\n",
       "      <td>3.667740</td>\n",
       "      <td>2.953250</td>\n",
       "      <td>-1.548307</td>\n",
       "      <td>3.062824</td>\n",
       "      <td>...</td>\n",
       "      <td>2.562455</td>\n",
       "      <td>-2.366929</td>\n",
       "      <td>1.462899</td>\n",
       "      <td>1.973145</td>\n",
       "      <td>-0.125782</td>\n",
       "      <td>4.190443</td>\n",
       "      <td>-0.962536</td>\n",
       "      <td>0.292373</td>\n",
       "      <td>-2.142213</td>\n",
       "      <td>-0.756732</td>\n",
       "    </tr>\n",
       "    <tr>\n",
       "      <th>17</th>\n",
       "      <td>C10</td>\n",
       "      <td>-0.158729</td>\n",
       "      <td>-3.362762</td>\n",
       "      <td>-2.958205</td>\n",
       "      <td>-5.414168</td>\n",
       "      <td>-1.462950</td>\n",
       "      <td>3.652422</td>\n",
       "      <td>2.684845</td>\n",
       "      <td>-1.859648</td>\n",
       "      <td>2.915316</td>\n",
       "      <td>...</td>\n",
       "      <td>2.483037</td>\n",
       "      <td>-2.324099</td>\n",
       "      <td>1.338695</td>\n",
       "      <td>1.806074</td>\n",
       "      <td>-0.248278</td>\n",
       "      <td>4.091050</td>\n",
       "      <td>-0.874477</td>\n",
       "      <td>0.043300</td>\n",
       "      <td>-2.125460</td>\n",
       "      <td>-0.508551</td>\n",
       "    </tr>\n",
       "    <tr>\n",
       "      <th>18</th>\n",
       "      <td>A22</td>\n",
       "      <td>-0.208138</td>\n",
       "      <td>-3.366227</td>\n",
       "      <td>-3.148554</td>\n",
       "      <td>-5.422366</td>\n",
       "      <td>-1.749169</td>\n",
       "      <td>3.597250</td>\n",
       "      <td>2.883758</td>\n",
       "      <td>-1.700016</td>\n",
       "      <td>2.652913</td>\n",
       "      <td>...</td>\n",
       "      <td>2.621325</td>\n",
       "      <td>-2.532627</td>\n",
       "      <td>1.641607</td>\n",
       "      <td>1.779966</td>\n",
       "      <td>-0.149879</td>\n",
       "      <td>4.255826</td>\n",
       "      <td>-0.920505</td>\n",
       "      <td>0.400371</td>\n",
       "      <td>-2.081908</td>\n",
       "      <td>-0.689862</td>\n",
       "    </tr>\n",
       "    <tr>\n",
       "      <th>19</th>\n",
       "      <td>B5</td>\n",
       "      <td>0.128968</td>\n",
       "      <td>-3.145098</td>\n",
       "      <td>-2.939676</td>\n",
       "      <td>-5.526156</td>\n",
       "      <td>-1.743108</td>\n",
       "      <td>3.358800</td>\n",
       "      <td>2.990757</td>\n",
       "      <td>-1.495632</td>\n",
       "      <td>2.495393</td>\n",
       "      <td>...</td>\n",
       "      <td>2.992547</td>\n",
       "      <td>-2.440566</td>\n",
       "      <td>1.452367</td>\n",
       "      <td>2.109291</td>\n",
       "      <td>-0.386078</td>\n",
       "      <td>4.301363</td>\n",
       "      <td>-0.686457</td>\n",
       "      <td>0.235029</td>\n",
       "      <td>-2.303395</td>\n",
       "      <td>-0.444965</td>\n",
       "    </tr>\n",
       "  </tbody>\n",
       "</table>\n",
       "<p>20 rows × 769 columns</p>\n",
       "</div>"
      ],
      "text/plain": [
       "   name  vit_base_patch16_224.dino_0  vit_base_patch16_224.dino_1  \\\n",
       "0   B17                     0.215661                    -3.244247   \n",
       "1   C13                     0.041835                    -3.231734   \n",
       "2   A15                    -0.219691                    -3.180412   \n",
       "3   B12                    -0.217934                    -3.104223   \n",
       "4   C26                    -0.302256                    -3.527617   \n",
       "5   A19                    -0.177397                    -3.332504   \n",
       "6   C19                    -0.079070                    -3.396989   \n",
       "7    C7                    -0.259177                    -3.303782   \n",
       "8    B7                    -0.243451                    -3.271760   \n",
       "9   B13                    -0.209111                    -3.176825   \n",
       "10  B10                    -0.479303                    -3.211370   \n",
       "11   B6                    -0.489609                    -3.110347   \n",
       "12   C1                    -0.357127                    -3.451583   \n",
       "13  A20                     0.010303                    -3.281641   \n",
       "14  B16                    -0.191610                    -3.247213   \n",
       "15  C12                     0.253930                    -3.262393   \n",
       "16  B11                    -0.396450                    -3.186925   \n",
       "17  C10                    -0.158729                    -3.362762   \n",
       "18  A22                    -0.208138                    -3.366227   \n",
       "19   B5                     0.128968                    -3.145098   \n",
       "\n",
       "    vit_base_patch16_224.dino_2  vit_base_patch16_224.dino_3  \\\n",
       "0                     -3.182976                    -5.578022   \n",
       "1                     -3.050569                    -5.496967   \n",
       "2                     -2.904157                    -5.501039   \n",
       "3                     -3.136729                    -5.848520   \n",
       "4                     -2.701267                    -5.452566   \n",
       "5                     -3.037250                    -5.543190   \n",
       "6                     -2.937616                    -5.406275   \n",
       "7                     -2.796074                    -5.475717   \n",
       "8                     -2.900022                    -5.555336   \n",
       "9                     -2.967908                    -5.611030   \n",
       "10                    -3.120798                    -5.398902   \n",
       "11                    -2.735604                    -5.451101   \n",
       "12                    -2.886390                    -5.472487   \n",
       "13                    -2.913336                    -5.525575   \n",
       "14                    -3.077946                    -5.576112   \n",
       "15                    -2.980680                    -5.692569   \n",
       "16                    -2.963194                    -5.514881   \n",
       "17                    -2.958205                    -5.414168   \n",
       "18                    -3.148554                    -5.422366   \n",
       "19                    -2.939676                    -5.526156   \n",
       "\n",
       "    vit_base_patch16_224.dino_4  vit_base_patch16_224.dino_5  \\\n",
       "0                     -1.704849                     3.197681   \n",
       "1                     -1.557024                     3.589212   \n",
       "2                     -1.719804                     3.470874   \n",
       "3                     -1.493709                     3.389979   \n",
       "4                     -1.594799                     3.839298   \n",
       "5                     -1.537194                     3.543128   \n",
       "6                     -1.522589                     3.627992   \n",
       "7                     -1.606181                     3.822707   \n",
       "8                     -1.592328                     3.618021   \n",
       "9                     -1.671167                     3.560265   \n",
       "10                    -1.706050                     3.722358   \n",
       "11                    -1.713243                     3.855441   \n",
       "12                    -1.394386                     3.669397   \n",
       "13                    -1.551981                     3.327178   \n",
       "14                    -1.544011                     3.607882   \n",
       "15                    -1.695311                     3.349492   \n",
       "16                    -1.623377                     3.667740   \n",
       "17                    -1.462950                     3.652422   \n",
       "18                    -1.749169                     3.597250   \n",
       "19                    -1.743108                     3.358800   \n",
       "\n",
       "    vit_base_patch16_224.dino_6  vit_base_patch16_224.dino_7  \\\n",
       "0                      2.693206                    -1.440384   \n",
       "1                      2.661936                    -1.702399   \n",
       "2                      3.022942                    -1.407630   \n",
       "3                      2.878323                    -1.499904   \n",
       "4                      2.571275                    -1.939849   \n",
       "5                      2.745569                    -1.680070   \n",
       "6                      2.701106                    -1.755753   \n",
       "7                      2.748883                    -1.683170   \n",
       "8                      2.725983                    -1.783982   \n",
       "9                      2.780010                    -1.592729   \n",
       "10                     2.878106                    -1.560857   \n",
       "11                     2.897836                    -1.531671   \n",
       "12                     2.578991                    -2.199635   \n",
       "13                     2.920008                    -1.597759   \n",
       "14                     2.729345                    -1.617422   \n",
       "15                     2.614789                    -1.570417   \n",
       "16                     2.953250                    -1.548307   \n",
       "17                     2.684845                    -1.859648   \n",
       "18                     2.883758                    -1.700016   \n",
       "19                     2.990757                    -1.495632   \n",
       "\n",
       "    vit_base_patch16_224.dino_8  ...  vit_base_patch16_224.dino_758  \\\n",
       "0                      2.562901  ...                       3.028308   \n",
       "1                      2.830428  ...                       2.712251   \n",
       "2                      2.733942  ...                       2.664305   \n",
       "3                      3.015133  ...                       2.925623   \n",
       "4                      2.901562  ...                       2.221192   \n",
       "5                      2.811475  ...                       2.645114   \n",
       "6                      2.810530  ...                       2.587513   \n",
       "7                      3.036036  ...                       2.346677   \n",
       "8                      2.858597  ...                       2.676637   \n",
       "9                      2.924857  ...                       2.671087   \n",
       "10                     3.087421  ...                       2.391742   \n",
       "11                     3.153728  ...                       2.300283   \n",
       "12                     3.063879  ...                       2.162990   \n",
       "13                     2.584888  ...                       2.685769   \n",
       "14                     3.047684  ...                       2.726068   \n",
       "15                     2.773239  ...                       2.868219   \n",
       "16                     3.062824  ...                       2.562455   \n",
       "17                     2.915316  ...                       2.483037   \n",
       "18                     2.652913  ...                       2.621325   \n",
       "19                     2.495393  ...                       2.992547   \n",
       "\n",
       "    vit_base_patch16_224.dino_759  vit_base_patch16_224.dino_760  \\\n",
       "0                       -2.436766                       1.672666   \n",
       "1                       -2.310751                       1.407741   \n",
       "2                       -2.343104                       1.461188   \n",
       "3                       -2.341607                       1.736405   \n",
       "4                       -2.247005                       1.312559   \n",
       "5                       -2.482817                       1.513128   \n",
       "6                       -2.309924                       1.418451   \n",
       "7                       -2.231825                       1.184119   \n",
       "8                       -2.477573                       1.393736   \n",
       "9                       -2.483738                       1.479884   \n",
       "10                      -2.532295                       1.349990   \n",
       "11                      -2.250907                       1.257943   \n",
       "12                      -2.392110                       1.373562   \n",
       "13                      -2.455485                       1.362158   \n",
       "14                      -2.252594                       1.556312   \n",
       "15                      -2.283258                       1.536457   \n",
       "16                      -2.366929                       1.462899   \n",
       "17                      -2.324099                       1.338695   \n",
       "18                      -2.532627                       1.641607   \n",
       "19                      -2.440566                       1.452367   \n",
       "\n",
       "    vit_base_patch16_224.dino_761  vit_base_patch16_224.dino_762  \\\n",
       "0                        2.131644                      -0.458804   \n",
       "1                        2.048194                      -0.331923   \n",
       "2                        2.029681                      -0.213271   \n",
       "3                        2.148834                      -0.227815   \n",
       "4                        1.566453                      -0.210452   \n",
       "5                        2.007225                      -0.264307   \n",
       "6                        1.996513                      -0.215646   \n",
       "7                        1.803401                      -0.189133   \n",
       "8                        1.858334                      -0.172864   \n",
       "9                        1.891793                      -0.152420   \n",
       "10                       1.753936                      -0.017389   \n",
       "11                       1.717169                      -0.098023   \n",
       "12                       1.578848                      -0.101068   \n",
       "13                       2.045942                      -0.316977   \n",
       "14                       2.131085                      -0.241071   \n",
       "15                       2.127196                      -0.370886   \n",
       "16                       1.973145                      -0.125782   \n",
       "17                       1.806074                      -0.248278   \n",
       "18                       1.779966                      -0.149879   \n",
       "19                       2.109291                      -0.386078   \n",
       "\n",
       "    vit_base_patch16_224.dino_763  vit_base_patch16_224.dino_764  \\\n",
       "0                        4.256279                      -0.647924   \n",
       "1                        4.176161                      -0.817485   \n",
       "2                        4.385583                      -0.896369   \n",
       "3                        4.274886                      -0.798477   \n",
       "4                        4.059615                      -1.003321   \n",
       "5                        4.277535                      -0.795482   \n",
       "6                        4.084142                      -0.794452   \n",
       "7                        3.937792                      -0.953446   \n",
       "8                        4.357589                      -0.882223   \n",
       "9                        4.259130                      -0.889966   \n",
       "10                       4.155475                      -0.991500   \n",
       "11                       4.062955                      -0.996209   \n",
       "12                       4.098790                      -0.849090   \n",
       "13                       4.262648                      -0.792216   \n",
       "14                       4.173662                      -0.867890   \n",
       "15                       4.210786                      -0.830146   \n",
       "16                       4.190443                      -0.962536   \n",
       "17                       4.091050                      -0.874477   \n",
       "18                       4.255826                      -0.920505   \n",
       "19                       4.301363                      -0.686457   \n",
       "\n",
       "    vit_base_patch16_224.dino_765  vit_base_patch16_224.dino_766  \\\n",
       "0                        0.198988                      -2.557473   \n",
       "1                        0.189221                      -2.291231   \n",
       "2                        0.360646                      -2.221995   \n",
       "3                        0.202288                      -2.401245   \n",
       "4                        0.146309                      -1.951879   \n",
       "5                        0.206316                      -2.271085   \n",
       "6                        0.157732                      -2.177870   \n",
       "7                        0.095334                      -2.041214   \n",
       "8                        0.130798                      -2.115005   \n",
       "9                        0.227221                      -2.125239   \n",
       "10                       0.436568                      -2.002816   \n",
       "11                       0.323500                      -1.916016   \n",
       "12                       0.165012                      -2.063041   \n",
       "13                       0.350110                      -2.439405   \n",
       "14                       0.253861                      -2.306313   \n",
       "15                       0.051031                      -2.426492   \n",
       "16                       0.292373                      -2.142213   \n",
       "17                       0.043300                      -2.125460   \n",
       "18                       0.400371                      -2.081908   \n",
       "19                       0.235029                      -2.303395   \n",
       "\n",
       "    vit_base_patch16_224.dino_767  \n",
       "0                       -0.454509  \n",
       "1                       -0.516037  \n",
       "2                       -0.589127  \n",
       "3                       -0.780431  \n",
       "4                       -0.498701  \n",
       "5                       -0.671036  \n",
       "6                       -0.577860  \n",
       "7                       -0.674495  \n",
       "8                       -0.564841  \n",
       "9                       -0.628636  \n",
       "10                      -0.817327  \n",
       "11                      -0.691688  \n",
       "12                      -0.583255  \n",
       "13                      -0.532715  \n",
       "14                      -0.754005  \n",
       "15                      -0.465477  \n",
       "16                      -0.756732  \n",
       "17                      -0.508551  \n",
       "18                      -0.689862  \n",
       "19                      -0.444965  \n",
       "\n",
       "[20 rows x 769 columns]"
      ]
     },
     "execution_count": 100,
     "metadata": {},
     "output_type": "execute_result"
    }
   ],
   "source": [
    "vitbase_dataframe.head(20)"
   ]
  },
  {
   "cell_type": "code",
   "execution_count": 101,
   "metadata": {},
   "outputs": [],
   "source": [
    "orange_std_col_name_ohv_type_vitbase = list_dataset[\"orange_std_col_name_ohv_type\"].get_dataframe().merge(vitbase_dataframe, how=\"inner\", on=\"name\")"
   ]
  },
  {
   "cell_type": "code",
   "execution_count": 102,
   "metadata": {},
   "outputs": [],
   "source": [
    "list_dataset[\"orange_std_col_name_ohv_type_vitbase\"] = Dataset(\"orange_std_col_name_ohv_type_vitbase\", orange_std_col_name_ohv_type_vitbase, ScalerType.Raw_)"
   ]
  },
  {
   "cell_type": "code",
   "execution_count": 103,
   "metadata": {},
   "outputs": [
    {
     "data": {
      "text/html": [
       "<div>\n",
       "<style scoped>\n",
       "    .dataframe tbody tr th:only-of-type {\n",
       "        vertical-align: middle;\n",
       "    }\n",
       "\n",
       "    .dataframe tbody tr th {\n",
       "        vertical-align: top;\n",
       "    }\n",
       "\n",
       "    .dataframe thead th {\n",
       "        text-align: right;\n",
       "    }\n",
       "</style>\n",
       "<table border=\"1\" class=\"dataframe\">\n",
       "  <thead>\n",
       "    <tr style=\"text-align: right;\">\n",
       "      <th></th>\n",
       "      <th>A</th>\n",
       "      <th>B</th>\n",
       "      <th>C</th>\n",
       "      <th>name</th>\n",
       "      <th>v_naoh</th>\n",
       "      <th>c_naoh</th>\n",
       "      <th>mass</th>\n",
       "      <th>h_diameter</th>\n",
       "      <th>v_diameter</th>\n",
       "      <th>brix</th>\n",
       "      <th>...</th>\n",
       "      <th>vit_base_patch16_224.dino_758</th>\n",
       "      <th>vit_base_patch16_224.dino_759</th>\n",
       "      <th>vit_base_patch16_224.dino_760</th>\n",
       "      <th>vit_base_patch16_224.dino_761</th>\n",
       "      <th>vit_base_patch16_224.dino_762</th>\n",
       "      <th>vit_base_patch16_224.dino_763</th>\n",
       "      <th>vit_base_patch16_224.dino_764</th>\n",
       "      <th>vit_base_patch16_224.dino_765</th>\n",
       "      <th>vit_base_patch16_224.dino_766</th>\n",
       "      <th>vit_base_patch16_224.dino_767</th>\n",
       "    </tr>\n",
       "  </thead>\n",
       "  <tbody>\n",
       "    <tr>\n",
       "      <th>0</th>\n",
       "      <td>True</td>\n",
       "      <td>False</td>\n",
       "      <td>False</td>\n",
       "      <td>A1</td>\n",
       "      <td>1.90</td>\n",
       "      <td>0.4000</td>\n",
       "      <td>255</td>\n",
       "      <td>257</td>\n",
       "      <td>262</td>\n",
       "      <td>10.9</td>\n",
       "      <td>...</td>\n",
       "      <td>2.713330</td>\n",
       "      <td>-2.536591</td>\n",
       "      <td>1.564820</td>\n",
       "      <td>2.031468</td>\n",
       "      <td>-0.297140</td>\n",
       "      <td>4.265985</td>\n",
       "      <td>-0.868113</td>\n",
       "      <td>0.175616</td>\n",
       "      <td>-2.317747</td>\n",
       "      <td>-0.418785</td>\n",
       "    </tr>\n",
       "    <tr>\n",
       "      <th>1</th>\n",
       "      <td>True</td>\n",
       "      <td>False</td>\n",
       "      <td>False</td>\n",
       "      <td>A2</td>\n",
       "      <td>1.20</td>\n",
       "      <td>0.4000</td>\n",
       "      <td>325</td>\n",
       "      <td>288</td>\n",
       "      <td>278</td>\n",
       "      <td>9.8</td>\n",
       "      <td>...</td>\n",
       "      <td>2.518518</td>\n",
       "      <td>-2.625185</td>\n",
       "      <td>1.523523</td>\n",
       "      <td>1.802050</td>\n",
       "      <td>-0.348668</td>\n",
       "      <td>4.311020</td>\n",
       "      <td>-0.966120</td>\n",
       "      <td>0.406019</td>\n",
       "      <td>-2.123616</td>\n",
       "      <td>-0.387164</td>\n",
       "    </tr>\n",
       "    <tr>\n",
       "      <th>2</th>\n",
       "      <td>True</td>\n",
       "      <td>False</td>\n",
       "      <td>False</td>\n",
       "      <td>A3</td>\n",
       "      <td>2.30</td>\n",
       "      <td>0.4000</td>\n",
       "      <td>185</td>\n",
       "      <td>235</td>\n",
       "      <td>237</td>\n",
       "      <td>11.0</td>\n",
       "      <td>...</td>\n",
       "      <td>2.792054</td>\n",
       "      <td>-2.376221</td>\n",
       "      <td>1.539195</td>\n",
       "      <td>2.039591</td>\n",
       "      <td>-0.321962</td>\n",
       "      <td>4.314170</td>\n",
       "      <td>-0.805815</td>\n",
       "      <td>0.229481</td>\n",
       "      <td>-2.338131</td>\n",
       "      <td>-0.535342</td>\n",
       "    </tr>\n",
       "    <tr>\n",
       "      <th>3</th>\n",
       "      <td>True</td>\n",
       "      <td>False</td>\n",
       "      <td>False</td>\n",
       "      <td>A4</td>\n",
       "      <td>1.40</td>\n",
       "      <td>0.4128</td>\n",
       "      <td>203</td>\n",
       "      <td>245</td>\n",
       "      <td>245</td>\n",
       "      <td>9.0</td>\n",
       "      <td>...</td>\n",
       "      <td>2.768759</td>\n",
       "      <td>-2.510911</td>\n",
       "      <td>1.691801</td>\n",
       "      <td>1.995774</td>\n",
       "      <td>-0.294518</td>\n",
       "      <td>4.296172</td>\n",
       "      <td>-0.788112</td>\n",
       "      <td>0.319340</td>\n",
       "      <td>-2.312758</td>\n",
       "      <td>-0.598552</td>\n",
       "    </tr>\n",
       "    <tr>\n",
       "      <th>4</th>\n",
       "      <td>True</td>\n",
       "      <td>False</td>\n",
       "      <td>False</td>\n",
       "      <td>A5</td>\n",
       "      <td>1.20</td>\n",
       "      <td>0.4000</td>\n",
       "      <td>229</td>\n",
       "      <td>253</td>\n",
       "      <td>249</td>\n",
       "      <td>10.9</td>\n",
       "      <td>...</td>\n",
       "      <td>2.624667</td>\n",
       "      <td>-2.440552</td>\n",
       "      <td>1.674457</td>\n",
       "      <td>1.918504</td>\n",
       "      <td>-0.205019</td>\n",
       "      <td>4.233322</td>\n",
       "      <td>-0.842682</td>\n",
       "      <td>0.297588</td>\n",
       "      <td>-2.148385</td>\n",
       "      <td>-0.673644</td>\n",
       "    </tr>\n",
       "    <tr>\n",
       "      <th>5</th>\n",
       "      <td>True</td>\n",
       "      <td>False</td>\n",
       "      <td>False</td>\n",
       "      <td>A7</td>\n",
       "      <td>1.30</td>\n",
       "      <td>0.4128</td>\n",
       "      <td>357</td>\n",
       "      <td>305</td>\n",
       "      <td>290</td>\n",
       "      <td>10.7</td>\n",
       "      <td>...</td>\n",
       "      <td>2.628062</td>\n",
       "      <td>-2.498205</td>\n",
       "      <td>1.442166</td>\n",
       "      <td>1.777719</td>\n",
       "      <td>-0.328048</td>\n",
       "      <td>4.458554</td>\n",
       "      <td>-0.962179</td>\n",
       "      <td>0.263711</td>\n",
       "      <td>-2.232295</td>\n",
       "      <td>-0.348528</td>\n",
       "    </tr>\n",
       "    <tr>\n",
       "      <th>6</th>\n",
       "      <td>True</td>\n",
       "      <td>False</td>\n",
       "      <td>False</td>\n",
       "      <td>A8</td>\n",
       "      <td>2.00</td>\n",
       "      <td>0.4000</td>\n",
       "      <td>309</td>\n",
       "      <td>275</td>\n",
       "      <td>285</td>\n",
       "      <td>11.2</td>\n",
       "      <td>...</td>\n",
       "      <td>2.671829</td>\n",
       "      <td>-2.581378</td>\n",
       "      <td>1.694147</td>\n",
       "      <td>1.858002</td>\n",
       "      <td>-0.294615</td>\n",
       "      <td>4.475663</td>\n",
       "      <td>-0.864677</td>\n",
       "      <td>0.287965</td>\n",
       "      <td>-2.113102</td>\n",
       "      <td>-0.483519</td>\n",
       "    </tr>\n",
       "    <tr>\n",
       "      <th>7</th>\n",
       "      <td>True</td>\n",
       "      <td>False</td>\n",
       "      <td>False</td>\n",
       "      <td>A9</td>\n",
       "      <td>1.90</td>\n",
       "      <td>0.4128</td>\n",
       "      <td>321</td>\n",
       "      <td>285</td>\n",
       "      <td>280</td>\n",
       "      <td>9.2</td>\n",
       "      <td>...</td>\n",
       "      <td>2.350564</td>\n",
       "      <td>-2.676987</td>\n",
       "      <td>1.479425</td>\n",
       "      <td>1.557539</td>\n",
       "      <td>-0.176585</td>\n",
       "      <td>4.287668</td>\n",
       "      <td>-0.946423</td>\n",
       "      <td>0.551633</td>\n",
       "      <td>-1.795604</td>\n",
       "      <td>-0.677581</td>\n",
       "    </tr>\n",
       "    <tr>\n",
       "      <th>8</th>\n",
       "      <td>True</td>\n",
       "      <td>False</td>\n",
       "      <td>False</td>\n",
       "      <td>A10</td>\n",
       "      <td>1.45</td>\n",
       "      <td>0.4082</td>\n",
       "      <td>245</td>\n",
       "      <td>255</td>\n",
       "      <td>259</td>\n",
       "      <td>9.5</td>\n",
       "      <td>...</td>\n",
       "      <td>2.276719</td>\n",
       "      <td>-2.396033</td>\n",
       "      <td>1.636022</td>\n",
       "      <td>1.455464</td>\n",
       "      <td>-0.028160</td>\n",
       "      <td>4.144559</td>\n",
       "      <td>-1.074069</td>\n",
       "      <td>0.626940</td>\n",
       "      <td>-1.809389</td>\n",
       "      <td>-0.908244</td>\n",
       "    </tr>\n",
       "    <tr>\n",
       "      <th>9</th>\n",
       "      <td>True</td>\n",
       "      <td>False</td>\n",
       "      <td>False</td>\n",
       "      <td>A11</td>\n",
       "      <td>2.00</td>\n",
       "      <td>0.4128</td>\n",
       "      <td>275</td>\n",
       "      <td>267</td>\n",
       "      <td>270</td>\n",
       "      <td>10.5</td>\n",
       "      <td>...</td>\n",
       "      <td>2.622999</td>\n",
       "      <td>-2.454699</td>\n",
       "      <td>1.507024</td>\n",
       "      <td>1.913879</td>\n",
       "      <td>-0.285432</td>\n",
       "      <td>4.276507</td>\n",
       "      <td>-0.933380</td>\n",
       "      <td>0.194921</td>\n",
       "      <td>-2.119545</td>\n",
       "      <td>-0.388479</td>\n",
       "    </tr>\n",
       "    <tr>\n",
       "      <th>10</th>\n",
       "      <td>True</td>\n",
       "      <td>False</td>\n",
       "      <td>False</td>\n",
       "      <td>A13</td>\n",
       "      <td>1.60</td>\n",
       "      <td>0.4128</td>\n",
       "      <td>293</td>\n",
       "      <td>268</td>\n",
       "      <td>276</td>\n",
       "      <td>11.3</td>\n",
       "      <td>...</td>\n",
       "      <td>2.862621</td>\n",
       "      <td>-2.458121</td>\n",
       "      <td>1.485694</td>\n",
       "      <td>2.012600</td>\n",
       "      <td>-0.403898</td>\n",
       "      <td>4.494093</td>\n",
       "      <td>-0.821793</td>\n",
       "      <td>0.216104</td>\n",
       "      <td>-2.370255</td>\n",
       "      <td>-0.201902</td>\n",
       "    </tr>\n",
       "    <tr>\n",
       "      <th>11</th>\n",
       "      <td>True</td>\n",
       "      <td>False</td>\n",
       "      <td>False</td>\n",
       "      <td>A14</td>\n",
       "      <td>2.00</td>\n",
       "      <td>0.4000</td>\n",
       "      <td>294</td>\n",
       "      <td>280</td>\n",
       "      <td>280</td>\n",
       "      <td>9.2</td>\n",
       "      <td>...</td>\n",
       "      <td>2.782591</td>\n",
       "      <td>-2.370398</td>\n",
       "      <td>1.477409</td>\n",
       "      <td>2.024773</td>\n",
       "      <td>-0.324544</td>\n",
       "      <td>4.374205</td>\n",
       "      <td>-0.871977</td>\n",
       "      <td>0.385526</td>\n",
       "      <td>-2.249721</td>\n",
       "      <td>-0.395802</td>\n",
       "    </tr>\n",
       "    <tr>\n",
       "      <th>12</th>\n",
       "      <td>True</td>\n",
       "      <td>False</td>\n",
       "      <td>False</td>\n",
       "      <td>A15</td>\n",
       "      <td>1.20</td>\n",
       "      <td>0.4000</td>\n",
       "      <td>272</td>\n",
       "      <td>270</td>\n",
       "      <td>269</td>\n",
       "      <td>10.4</td>\n",
       "      <td>...</td>\n",
       "      <td>2.664305</td>\n",
       "      <td>-2.343104</td>\n",
       "      <td>1.461188</td>\n",
       "      <td>2.029681</td>\n",
       "      <td>-0.213271</td>\n",
       "      <td>4.385583</td>\n",
       "      <td>-0.896369</td>\n",
       "      <td>0.360646</td>\n",
       "      <td>-2.221995</td>\n",
       "      <td>-0.589127</td>\n",
       "    </tr>\n",
       "    <tr>\n",
       "      <th>13</th>\n",
       "      <td>True</td>\n",
       "      <td>False</td>\n",
       "      <td>False</td>\n",
       "      <td>A16</td>\n",
       "      <td>1.70</td>\n",
       "      <td>0.4000</td>\n",
       "      <td>274</td>\n",
       "      <td>270</td>\n",
       "      <td>271</td>\n",
       "      <td>8.5</td>\n",
       "      <td>...</td>\n",
       "      <td>2.790920</td>\n",
       "      <td>-2.448587</td>\n",
       "      <td>1.485088</td>\n",
       "      <td>2.063115</td>\n",
       "      <td>-0.300926</td>\n",
       "      <td>4.430419</td>\n",
       "      <td>-0.734431</td>\n",
       "      <td>0.249266</td>\n",
       "      <td>-2.327241</td>\n",
       "      <td>-0.426335</td>\n",
       "    </tr>\n",
       "    <tr>\n",
       "      <th>14</th>\n",
       "      <td>True</td>\n",
       "      <td>False</td>\n",
       "      <td>False</td>\n",
       "      <td>A17</td>\n",
       "      <td>1.70</td>\n",
       "      <td>0.4012</td>\n",
       "      <td>255</td>\n",
       "      <td>265</td>\n",
       "      <td>255</td>\n",
       "      <td>11.7</td>\n",
       "      <td>...</td>\n",
       "      <td>2.828286</td>\n",
       "      <td>-2.416256</td>\n",
       "      <td>1.544420</td>\n",
       "      <td>2.096024</td>\n",
       "      <td>-0.355195</td>\n",
       "      <td>4.415746</td>\n",
       "      <td>-0.851320</td>\n",
       "      <td>0.360793</td>\n",
       "      <td>-2.366752</td>\n",
       "      <td>-0.570387</td>\n",
       "    </tr>\n",
       "    <tr>\n",
       "      <th>15</th>\n",
       "      <td>True</td>\n",
       "      <td>False</td>\n",
       "      <td>False</td>\n",
       "      <td>A18</td>\n",
       "      <td>1.60</td>\n",
       "      <td>0.4000</td>\n",
       "      <td>254</td>\n",
       "      <td>260</td>\n",
       "      <td>265</td>\n",
       "      <td>10.2</td>\n",
       "      <td>...</td>\n",
       "      <td>2.482663</td>\n",
       "      <td>-2.538799</td>\n",
       "      <td>1.484131</td>\n",
       "      <td>1.837756</td>\n",
       "      <td>-0.220825</td>\n",
       "      <td>4.333037</td>\n",
       "      <td>-0.879996</td>\n",
       "      <td>0.339245</td>\n",
       "      <td>-2.250850</td>\n",
       "      <td>-0.646229</td>\n",
       "    </tr>\n",
       "    <tr>\n",
       "      <th>16</th>\n",
       "      <td>True</td>\n",
       "      <td>False</td>\n",
       "      <td>False</td>\n",
       "      <td>A19</td>\n",
       "      <td>1.50</td>\n",
       "      <td>0.4000</td>\n",
       "      <td>231</td>\n",
       "      <td>245</td>\n",
       "      <td>247</td>\n",
       "      <td>12.0</td>\n",
       "      <td>...</td>\n",
       "      <td>2.645114</td>\n",
       "      <td>-2.482817</td>\n",
       "      <td>1.513128</td>\n",
       "      <td>2.007225</td>\n",
       "      <td>-0.264307</td>\n",
       "      <td>4.277535</td>\n",
       "      <td>-0.795482</td>\n",
       "      <td>0.206316</td>\n",
       "      <td>-2.271085</td>\n",
       "      <td>-0.671036</td>\n",
       "    </tr>\n",
       "    <tr>\n",
       "      <th>17</th>\n",
       "      <td>True</td>\n",
       "      <td>False</td>\n",
       "      <td>False</td>\n",
       "      <td>A20</td>\n",
       "      <td>1.30</td>\n",
       "      <td>0.4082</td>\n",
       "      <td>237</td>\n",
       "      <td>255</td>\n",
       "      <td>259</td>\n",
       "      <td>9.5</td>\n",
       "      <td>...</td>\n",
       "      <td>2.685769</td>\n",
       "      <td>-2.455485</td>\n",
       "      <td>1.362158</td>\n",
       "      <td>2.045942</td>\n",
       "      <td>-0.316977</td>\n",
       "      <td>4.262648</td>\n",
       "      <td>-0.792216</td>\n",
       "      <td>0.350110</td>\n",
       "      <td>-2.439405</td>\n",
       "      <td>-0.532715</td>\n",
       "    </tr>\n",
       "    <tr>\n",
       "      <th>18</th>\n",
       "      <td>True</td>\n",
       "      <td>False</td>\n",
       "      <td>False</td>\n",
       "      <td>A21</td>\n",
       "      <td>2.00</td>\n",
       "      <td>0.4128</td>\n",
       "      <td>256</td>\n",
       "      <td>263</td>\n",
       "      <td>260</td>\n",
       "      <td>11.4</td>\n",
       "      <td>...</td>\n",
       "      <td>2.355663</td>\n",
       "      <td>-2.441523</td>\n",
       "      <td>1.484889</td>\n",
       "      <td>1.808241</td>\n",
       "      <td>-0.039296</td>\n",
       "      <td>4.280809</td>\n",
       "      <td>-1.018469</td>\n",
       "      <td>0.419201</td>\n",
       "      <td>-2.050132</td>\n",
       "      <td>-0.813532</td>\n",
       "    </tr>\n",
       "    <tr>\n",
       "      <th>19</th>\n",
       "      <td>True</td>\n",
       "      <td>False</td>\n",
       "      <td>False</td>\n",
       "      <td>A24</td>\n",
       "      <td>1.55</td>\n",
       "      <td>0.4082</td>\n",
       "      <td>247</td>\n",
       "      <td>255</td>\n",
       "      <td>255</td>\n",
       "      <td>8.4</td>\n",
       "      <td>...</td>\n",
       "      <td>2.453899</td>\n",
       "      <td>-2.420495</td>\n",
       "      <td>1.403794</td>\n",
       "      <td>1.837693</td>\n",
       "      <td>-0.129029</td>\n",
       "      <td>4.233559</td>\n",
       "      <td>-1.098084</td>\n",
       "      <td>0.422559</td>\n",
       "      <td>-2.079844</td>\n",
       "      <td>-0.631481</td>\n",
       "    </tr>\n",
       "  </tbody>\n",
       "</table>\n",
       "<p>20 rows × 1294 columns</p>\n",
       "</div>"
      ],
      "text/plain": [
       "       A      B      C name  v_naoh  c_naoh  mass  h_diameter  v_diameter  \\\n",
       "0   True  False  False   A1    1.90  0.4000   255         257         262   \n",
       "1   True  False  False   A2    1.20  0.4000   325         288         278   \n",
       "2   True  False  False   A3    2.30  0.4000   185         235         237   \n",
       "3   True  False  False   A4    1.40  0.4128   203         245         245   \n",
       "4   True  False  False   A5    1.20  0.4000   229         253         249   \n",
       "5   True  False  False   A7    1.30  0.4128   357         305         290   \n",
       "6   True  False  False   A8    2.00  0.4000   309         275         285   \n",
       "7   True  False  False   A9    1.90  0.4128   321         285         280   \n",
       "8   True  False  False  A10    1.45  0.4082   245         255         259   \n",
       "9   True  False  False  A11    2.00  0.4128   275         267         270   \n",
       "10  True  False  False  A13    1.60  0.4128   293         268         276   \n",
       "11  True  False  False  A14    2.00  0.4000   294         280         280   \n",
       "12  True  False  False  A15    1.20  0.4000   272         270         269   \n",
       "13  True  False  False  A16    1.70  0.4000   274         270         271   \n",
       "14  True  False  False  A17    1.70  0.4012   255         265         255   \n",
       "15  True  False  False  A18    1.60  0.4000   254         260         265   \n",
       "16  True  False  False  A19    1.50  0.4000   231         245         247   \n",
       "17  True  False  False  A20    1.30  0.4082   237         255         259   \n",
       "18  True  False  False  A21    2.00  0.4128   256         263         260   \n",
       "19  True  False  False  A24    1.55  0.4082   247         255         255   \n",
       "\n",
       "    brix  ...  vit_base_patch16_224.dino_758  vit_base_patch16_224.dino_759  \\\n",
       "0   10.9  ...                       2.713330                      -2.536591   \n",
       "1    9.8  ...                       2.518518                      -2.625185   \n",
       "2   11.0  ...                       2.792054                      -2.376221   \n",
       "3    9.0  ...                       2.768759                      -2.510911   \n",
       "4   10.9  ...                       2.624667                      -2.440552   \n",
       "5   10.7  ...                       2.628062                      -2.498205   \n",
       "6   11.2  ...                       2.671829                      -2.581378   \n",
       "7    9.2  ...                       2.350564                      -2.676987   \n",
       "8    9.5  ...                       2.276719                      -2.396033   \n",
       "9   10.5  ...                       2.622999                      -2.454699   \n",
       "10  11.3  ...                       2.862621                      -2.458121   \n",
       "11   9.2  ...                       2.782591                      -2.370398   \n",
       "12  10.4  ...                       2.664305                      -2.343104   \n",
       "13   8.5  ...                       2.790920                      -2.448587   \n",
       "14  11.7  ...                       2.828286                      -2.416256   \n",
       "15  10.2  ...                       2.482663                      -2.538799   \n",
       "16  12.0  ...                       2.645114                      -2.482817   \n",
       "17   9.5  ...                       2.685769                      -2.455485   \n",
       "18  11.4  ...                       2.355663                      -2.441523   \n",
       "19   8.4  ...                       2.453899                      -2.420495   \n",
       "\n",
       "    vit_base_patch16_224.dino_760 vit_base_patch16_224.dino_761  \\\n",
       "0                        1.564820                      2.031468   \n",
       "1                        1.523523                      1.802050   \n",
       "2                        1.539195                      2.039591   \n",
       "3                        1.691801                      1.995774   \n",
       "4                        1.674457                      1.918504   \n",
       "5                        1.442166                      1.777719   \n",
       "6                        1.694147                      1.858002   \n",
       "7                        1.479425                      1.557539   \n",
       "8                        1.636022                      1.455464   \n",
       "9                        1.507024                      1.913879   \n",
       "10                       1.485694                      2.012600   \n",
       "11                       1.477409                      2.024773   \n",
       "12                       1.461188                      2.029681   \n",
       "13                       1.485088                      2.063115   \n",
       "14                       1.544420                      2.096024   \n",
       "15                       1.484131                      1.837756   \n",
       "16                       1.513128                      2.007225   \n",
       "17                       1.362158                      2.045942   \n",
       "18                       1.484889                      1.808241   \n",
       "19                       1.403794                      1.837693   \n",
       "\n",
       "    vit_base_patch16_224.dino_762  vit_base_patch16_224.dino_763  \\\n",
       "0                       -0.297140                       4.265985   \n",
       "1                       -0.348668                       4.311020   \n",
       "2                       -0.321962                       4.314170   \n",
       "3                       -0.294518                       4.296172   \n",
       "4                       -0.205019                       4.233322   \n",
       "5                       -0.328048                       4.458554   \n",
       "6                       -0.294615                       4.475663   \n",
       "7                       -0.176585                       4.287668   \n",
       "8                       -0.028160                       4.144559   \n",
       "9                       -0.285432                       4.276507   \n",
       "10                      -0.403898                       4.494093   \n",
       "11                      -0.324544                       4.374205   \n",
       "12                      -0.213271                       4.385583   \n",
       "13                      -0.300926                       4.430419   \n",
       "14                      -0.355195                       4.415746   \n",
       "15                      -0.220825                       4.333037   \n",
       "16                      -0.264307                       4.277535   \n",
       "17                      -0.316977                       4.262648   \n",
       "18                      -0.039296                       4.280809   \n",
       "19                      -0.129029                       4.233559   \n",
       "\n",
       "    vit_base_patch16_224.dino_764  vit_base_patch16_224.dino_765  \\\n",
       "0                       -0.868113                       0.175616   \n",
       "1                       -0.966120                       0.406019   \n",
       "2                       -0.805815                       0.229481   \n",
       "3                       -0.788112                       0.319340   \n",
       "4                       -0.842682                       0.297588   \n",
       "5                       -0.962179                       0.263711   \n",
       "6                       -0.864677                       0.287965   \n",
       "7                       -0.946423                       0.551633   \n",
       "8                       -1.074069                       0.626940   \n",
       "9                       -0.933380                       0.194921   \n",
       "10                      -0.821793                       0.216104   \n",
       "11                      -0.871977                       0.385526   \n",
       "12                      -0.896369                       0.360646   \n",
       "13                      -0.734431                       0.249266   \n",
       "14                      -0.851320                       0.360793   \n",
       "15                      -0.879996                       0.339245   \n",
       "16                      -0.795482                       0.206316   \n",
       "17                      -0.792216                       0.350110   \n",
       "18                      -1.018469                       0.419201   \n",
       "19                      -1.098084                       0.422559   \n",
       "\n",
       "    vit_base_patch16_224.dino_766  vit_base_patch16_224.dino_767  \n",
       "0                       -2.317747                      -0.418785  \n",
       "1                       -2.123616                      -0.387164  \n",
       "2                       -2.338131                      -0.535342  \n",
       "3                       -2.312758                      -0.598552  \n",
       "4                       -2.148385                      -0.673644  \n",
       "5                       -2.232295                      -0.348528  \n",
       "6                       -2.113102                      -0.483519  \n",
       "7                       -1.795604                      -0.677581  \n",
       "8                       -1.809389                      -0.908244  \n",
       "9                       -2.119545                      -0.388479  \n",
       "10                      -2.370255                      -0.201902  \n",
       "11                      -2.249721                      -0.395802  \n",
       "12                      -2.221995                      -0.589127  \n",
       "13                      -2.327241                      -0.426335  \n",
       "14                      -2.366752                      -0.570387  \n",
       "15                      -2.250850                      -0.646229  \n",
       "16                      -2.271085                      -0.671036  \n",
       "17                      -2.439405                      -0.532715  \n",
       "18                      -2.050132                      -0.813532  \n",
       "19                      -2.079844                      -0.631481  \n",
       "\n",
       "[20 rows x 1294 columns]"
      ]
     },
     "execution_count": 103,
     "metadata": {},
     "output_type": "execute_result"
    }
   ],
   "source": [
    "list_dataset[\"orange_std_col_name_ohv_type_vitbase\"].get_dataframe().head(20)"
   ]
  },
  {
   "cell_type": "code",
   "execution_count": 104,
   "metadata": {},
   "outputs": [
    {
     "data": {
      "text/plain": [
       "['B',\n",
       " 'C',\n",
       " 'mass',\n",
       " 'h_diameter',\n",
       " 'v_diameter',\n",
       " 'resnet34_0',\n",
       " 'resnet34_1',\n",
       " 'resnet34_2',\n",
       " 'resnet34_3',\n",
       " 'resnet34_4',\n",
       " 'resnet34_5',\n",
       " 'resnet34_6',\n",
       " 'resnet34_7',\n",
       " 'resnet34_8',\n",
       " 'resnet34_9',\n",
       " 'resnet34_10',\n",
       " 'resnet34_11',\n",
       " 'resnet34_12',\n",
       " 'resnet34_13',\n",
       " 'resnet34_14',\n",
       " 'resnet34_15',\n",
       " 'resnet34_16',\n",
       " 'resnet34_17',\n",
       " 'resnet34_18',\n",
       " 'resnet34_19',\n",
       " 'resnet34_20',\n",
       " 'resnet34_21',\n",
       " 'resnet34_22',\n",
       " 'resnet34_23',\n",
       " 'resnet34_24',\n",
       " 'resnet34_25',\n",
       " 'resnet34_26',\n",
       " 'resnet34_27',\n",
       " 'resnet34_28',\n",
       " 'resnet34_29',\n",
       " 'resnet34_30',\n",
       " 'resnet34_31',\n",
       " 'resnet34_32',\n",
       " 'resnet34_33',\n",
       " 'resnet34_34',\n",
       " 'resnet34_35',\n",
       " 'resnet34_36',\n",
       " 'resnet34_37',\n",
       " 'resnet34_38',\n",
       " 'resnet34_39',\n",
       " 'resnet34_40',\n",
       " 'resnet34_41',\n",
       " 'resnet34_42',\n",
       " 'resnet34_43',\n",
       " 'resnet34_44',\n",
       " 'resnet34_45',\n",
       " 'resnet34_46',\n",
       " 'resnet34_47',\n",
       " 'resnet34_48',\n",
       " 'resnet34_49',\n",
       " 'resnet34_50',\n",
       " 'resnet34_51',\n",
       " 'resnet34_52',\n",
       " 'resnet34_53',\n",
       " 'resnet34_54',\n",
       " 'resnet34_55',\n",
       " 'resnet34_56',\n",
       " 'resnet34_57',\n",
       " 'resnet34_58',\n",
       " 'resnet34_59',\n",
       " 'resnet34_60',\n",
       " 'resnet34_61',\n",
       " 'resnet34_62',\n",
       " 'resnet34_63',\n",
       " 'resnet34_64',\n",
       " 'resnet34_65',\n",
       " 'resnet34_66',\n",
       " 'resnet34_67',\n",
       " 'resnet34_68',\n",
       " 'resnet34_69',\n",
       " 'resnet34_70',\n",
       " 'resnet34_71',\n",
       " 'resnet34_72',\n",
       " 'resnet34_73',\n",
       " 'resnet34_74',\n",
       " 'resnet34_75',\n",
       " 'resnet34_76',\n",
       " 'resnet34_77',\n",
       " 'resnet34_78',\n",
       " 'resnet34_79',\n",
       " 'resnet34_80',\n",
       " 'resnet34_81',\n",
       " 'resnet34_82',\n",
       " 'resnet34_83',\n",
       " 'resnet34_84',\n",
       " 'resnet34_85',\n",
       " 'resnet34_86',\n",
       " 'resnet34_87',\n",
       " 'resnet34_88',\n",
       " 'resnet34_89',\n",
       " 'resnet34_90',\n",
       " 'resnet34_91',\n",
       " 'resnet34_92',\n",
       " 'resnet34_93',\n",
       " 'resnet34_94',\n",
       " 'resnet34_95',\n",
       " 'resnet34_96',\n",
       " 'resnet34_97',\n",
       " 'resnet34_98',\n",
       " 'resnet34_99',\n",
       " 'resnet34_100',\n",
       " 'resnet34_101',\n",
       " 'resnet34_102',\n",
       " 'resnet34_103',\n",
       " 'resnet34_104',\n",
       " 'resnet34_105',\n",
       " 'resnet34_106',\n",
       " 'resnet34_107',\n",
       " 'resnet34_108',\n",
       " 'resnet34_109',\n",
       " 'resnet34_110',\n",
       " 'resnet34_111',\n",
       " 'resnet34_112',\n",
       " 'resnet34_113',\n",
       " 'resnet34_114',\n",
       " 'resnet34_115',\n",
       " 'resnet34_116',\n",
       " 'resnet34_117',\n",
       " 'resnet34_118',\n",
       " 'resnet34_119',\n",
       " 'resnet34_120',\n",
       " 'resnet34_121',\n",
       " 'resnet34_122',\n",
       " 'resnet34_123',\n",
       " 'resnet34_124',\n",
       " 'resnet34_125',\n",
       " 'resnet34_126',\n",
       " 'resnet34_127',\n",
       " 'resnet34_128',\n",
       " 'resnet34_129',\n",
       " 'resnet34_130',\n",
       " 'resnet34_131',\n",
       " 'resnet34_132',\n",
       " 'resnet34_133',\n",
       " 'resnet34_134',\n",
       " 'resnet34_135',\n",
       " 'resnet34_136',\n",
       " 'resnet34_137',\n",
       " 'resnet34_138',\n",
       " 'resnet34_139',\n",
       " 'resnet34_140',\n",
       " 'resnet34_141',\n",
       " 'resnet34_142',\n",
       " 'resnet34_143',\n",
       " 'resnet34_144',\n",
       " 'resnet34_145',\n",
       " 'resnet34_146',\n",
       " 'resnet34_147',\n",
       " 'resnet34_148',\n",
       " 'resnet34_149',\n",
       " 'resnet34_150',\n",
       " 'resnet34_151',\n",
       " 'resnet34_152',\n",
       " 'resnet34_153',\n",
       " 'resnet34_154',\n",
       " 'resnet34_155',\n",
       " 'resnet34_156',\n",
       " 'resnet34_157',\n",
       " 'resnet34_158',\n",
       " 'resnet34_159',\n",
       " 'resnet34_160',\n",
       " 'resnet34_161',\n",
       " 'resnet34_162',\n",
       " 'resnet34_163',\n",
       " 'resnet34_164',\n",
       " 'resnet34_165',\n",
       " 'resnet34_166',\n",
       " 'resnet34_167',\n",
       " 'resnet34_168',\n",
       " 'resnet34_169',\n",
       " 'resnet34_170',\n",
       " 'resnet34_171',\n",
       " 'resnet34_172',\n",
       " 'resnet34_173',\n",
       " 'resnet34_174',\n",
       " 'resnet34_175',\n",
       " 'resnet34_176',\n",
       " 'resnet34_177',\n",
       " 'resnet34_178',\n",
       " 'resnet34_179',\n",
       " 'resnet34_180',\n",
       " 'resnet34_181',\n",
       " 'resnet34_182',\n",
       " 'resnet34_183',\n",
       " 'resnet34_184',\n",
       " 'resnet34_185',\n",
       " 'resnet34_186',\n",
       " 'resnet34_187',\n",
       " 'resnet34_188',\n",
       " 'resnet34_189',\n",
       " 'resnet34_190',\n",
       " 'resnet34_191',\n",
       " 'resnet34_192',\n",
       " 'resnet34_193',\n",
       " 'resnet34_194',\n",
       " 'resnet34_195',\n",
       " 'resnet34_196',\n",
       " 'resnet34_197',\n",
       " 'resnet34_198',\n",
       " 'resnet34_199',\n",
       " 'resnet34_200',\n",
       " 'resnet34_201',\n",
       " 'resnet34_202',\n",
       " 'resnet34_203',\n",
       " 'resnet34_204',\n",
       " 'resnet34_205',\n",
       " 'resnet34_206',\n",
       " 'resnet34_207',\n",
       " 'resnet34_208',\n",
       " 'resnet34_209',\n",
       " 'resnet34_210',\n",
       " 'resnet34_211',\n",
       " 'resnet34_212',\n",
       " 'resnet34_213',\n",
       " 'resnet34_214',\n",
       " 'resnet34_215',\n",
       " 'resnet34_216',\n",
       " 'resnet34_217',\n",
       " 'resnet34_218',\n",
       " 'resnet34_219',\n",
       " 'resnet34_220',\n",
       " 'resnet34_221',\n",
       " 'resnet34_222',\n",
       " 'resnet34_223',\n",
       " 'resnet34_224',\n",
       " 'resnet34_225',\n",
       " 'resnet34_226',\n",
       " 'resnet34_227',\n",
       " 'resnet34_228',\n",
       " 'resnet34_229',\n",
       " 'resnet34_230',\n",
       " 'resnet34_231',\n",
       " 'resnet34_232',\n",
       " 'resnet34_233',\n",
       " 'resnet34_234',\n",
       " 'resnet34_235',\n",
       " 'resnet34_236',\n",
       " 'resnet34_237',\n",
       " 'resnet34_238',\n",
       " 'resnet34_239',\n",
       " 'resnet34_240',\n",
       " 'resnet34_241',\n",
       " 'resnet34_242',\n",
       " 'resnet34_243',\n",
       " 'resnet34_244',\n",
       " 'resnet34_245',\n",
       " 'resnet34_246',\n",
       " 'resnet34_247',\n",
       " 'resnet34_248',\n",
       " 'resnet34_249',\n",
       " 'resnet34_250',\n",
       " 'resnet34_251',\n",
       " 'resnet34_252',\n",
       " 'resnet34_253',\n",
       " 'resnet34_254',\n",
       " 'resnet34_255',\n",
       " 'resnet34_256',\n",
       " 'resnet34_257',\n",
       " 'resnet34_258',\n",
       " 'resnet34_259',\n",
       " 'resnet34_260',\n",
       " 'resnet34_261',\n",
       " 'resnet34_262',\n",
       " 'resnet34_263',\n",
       " 'resnet34_264',\n",
       " 'resnet34_265',\n",
       " 'resnet34_266',\n",
       " 'resnet34_267',\n",
       " 'resnet34_268',\n",
       " 'resnet34_269',\n",
       " 'resnet34_270',\n",
       " 'resnet34_271',\n",
       " 'resnet34_272',\n",
       " 'resnet34_273',\n",
       " 'resnet34_274',\n",
       " 'resnet34_275',\n",
       " 'resnet34_276',\n",
       " 'resnet34_277',\n",
       " 'resnet34_278',\n",
       " 'resnet34_279',\n",
       " 'resnet34_280',\n",
       " 'resnet34_281',\n",
       " 'resnet34_282',\n",
       " 'resnet34_283',\n",
       " 'resnet34_284',\n",
       " 'resnet34_285',\n",
       " 'resnet34_286',\n",
       " 'resnet34_287',\n",
       " 'resnet34_288',\n",
       " 'resnet34_289',\n",
       " 'resnet34_290',\n",
       " 'resnet34_291',\n",
       " 'resnet34_292',\n",
       " 'resnet34_293',\n",
       " 'resnet34_294',\n",
       " 'resnet34_295',\n",
       " 'resnet34_296',\n",
       " 'resnet34_297',\n",
       " 'resnet34_298',\n",
       " 'resnet34_299',\n",
       " 'resnet34_300',\n",
       " 'resnet34_301',\n",
       " 'resnet34_302',\n",
       " 'resnet34_303',\n",
       " 'resnet34_304',\n",
       " 'resnet34_305',\n",
       " 'resnet34_306',\n",
       " 'resnet34_307',\n",
       " 'resnet34_308',\n",
       " 'resnet34_309',\n",
       " 'resnet34_310',\n",
       " 'resnet34_311',\n",
       " 'resnet34_312',\n",
       " 'resnet34_313',\n",
       " 'resnet34_314',\n",
       " 'resnet34_315',\n",
       " 'resnet34_316',\n",
       " 'resnet34_317',\n",
       " 'resnet34_318',\n",
       " 'resnet34_319',\n",
       " 'resnet34_320',\n",
       " 'resnet34_321',\n",
       " 'resnet34_322',\n",
       " 'resnet34_323',\n",
       " 'resnet34_324',\n",
       " 'resnet34_325',\n",
       " 'resnet34_326',\n",
       " 'resnet34_327',\n",
       " 'resnet34_328',\n",
       " 'resnet34_329',\n",
       " 'resnet34_330',\n",
       " 'resnet34_331',\n",
       " 'resnet34_332',\n",
       " 'resnet34_333',\n",
       " 'resnet34_334',\n",
       " 'resnet34_335',\n",
       " 'resnet34_336',\n",
       " 'resnet34_337',\n",
       " 'resnet34_338',\n",
       " 'resnet34_339',\n",
       " 'resnet34_340',\n",
       " 'resnet34_341',\n",
       " 'resnet34_342',\n",
       " 'resnet34_343',\n",
       " 'resnet34_344',\n",
       " 'resnet34_345',\n",
       " 'resnet34_346',\n",
       " 'resnet34_347',\n",
       " 'resnet34_348',\n",
       " 'resnet34_349',\n",
       " 'resnet34_350',\n",
       " 'resnet34_351',\n",
       " 'resnet34_352',\n",
       " 'resnet34_353',\n",
       " 'resnet34_354',\n",
       " 'resnet34_355',\n",
       " 'resnet34_356',\n",
       " 'resnet34_357',\n",
       " 'resnet34_358',\n",
       " 'resnet34_359',\n",
       " 'resnet34_360',\n",
       " 'resnet34_361',\n",
       " 'resnet34_362',\n",
       " 'resnet34_363',\n",
       " 'resnet34_364',\n",
       " 'resnet34_365',\n",
       " 'resnet34_366',\n",
       " 'resnet34_367',\n",
       " 'resnet34_368',\n",
       " 'resnet34_369',\n",
       " 'resnet34_370',\n",
       " 'resnet34_371',\n",
       " 'resnet34_372',\n",
       " 'resnet34_373',\n",
       " 'resnet34_374',\n",
       " 'resnet34_375',\n",
       " 'resnet34_376',\n",
       " 'resnet34_377',\n",
       " 'resnet34_378',\n",
       " 'resnet34_379',\n",
       " 'resnet34_380',\n",
       " 'resnet34_381',\n",
       " 'resnet34_382',\n",
       " 'resnet34_383',\n",
       " 'resnet34_384',\n",
       " 'resnet34_385',\n",
       " 'resnet34_386',\n",
       " 'resnet34_387',\n",
       " 'resnet34_388',\n",
       " 'resnet34_389',\n",
       " 'resnet34_390',\n",
       " 'resnet34_391',\n",
       " 'resnet34_392',\n",
       " 'resnet34_393',\n",
       " 'resnet34_394',\n",
       " 'resnet34_395',\n",
       " 'resnet34_396',\n",
       " 'resnet34_397',\n",
       " 'resnet34_398',\n",
       " 'resnet34_399',\n",
       " 'resnet34_400',\n",
       " 'resnet34_401',\n",
       " 'resnet34_402',\n",
       " 'resnet34_403',\n",
       " 'resnet34_404',\n",
       " 'resnet34_405',\n",
       " 'resnet34_406',\n",
       " 'resnet34_407',\n",
       " 'resnet34_408',\n",
       " 'resnet34_409',\n",
       " 'resnet34_410',\n",
       " 'resnet34_411',\n",
       " 'resnet34_412',\n",
       " 'resnet34_413',\n",
       " 'resnet34_414',\n",
       " 'resnet34_415',\n",
       " 'resnet34_416',\n",
       " 'resnet34_417',\n",
       " 'resnet34_418',\n",
       " 'resnet34_419',\n",
       " 'resnet34_420',\n",
       " 'resnet34_421',\n",
       " 'resnet34_422',\n",
       " 'resnet34_423',\n",
       " 'resnet34_424',\n",
       " 'resnet34_425',\n",
       " 'resnet34_426',\n",
       " 'resnet34_427',\n",
       " 'resnet34_428',\n",
       " 'resnet34_429',\n",
       " 'resnet34_430',\n",
       " 'resnet34_431',\n",
       " 'resnet34_432',\n",
       " 'resnet34_433',\n",
       " 'resnet34_434',\n",
       " 'resnet34_435',\n",
       " 'resnet34_436',\n",
       " 'resnet34_437',\n",
       " 'resnet34_438',\n",
       " 'resnet34_439',\n",
       " 'resnet34_440',\n",
       " 'resnet34_441',\n",
       " 'resnet34_442',\n",
       " 'resnet34_443',\n",
       " 'resnet34_444',\n",
       " 'resnet34_445',\n",
       " 'resnet34_446',\n",
       " 'resnet34_447',\n",
       " 'resnet34_448',\n",
       " 'resnet34_449',\n",
       " 'resnet34_450',\n",
       " 'resnet34_451',\n",
       " 'resnet34_452',\n",
       " 'resnet34_453',\n",
       " 'resnet34_454',\n",
       " 'resnet34_455',\n",
       " 'resnet34_456',\n",
       " 'resnet34_457',\n",
       " 'resnet34_458',\n",
       " 'resnet34_459',\n",
       " 'resnet34_460',\n",
       " 'resnet34_461',\n",
       " 'resnet34_462',\n",
       " 'resnet34_463',\n",
       " 'resnet34_464',\n",
       " 'resnet34_465',\n",
       " 'resnet34_466',\n",
       " 'resnet34_467',\n",
       " 'resnet34_468',\n",
       " 'resnet34_469',\n",
       " 'resnet34_470',\n",
       " 'resnet34_471',\n",
       " 'resnet34_472',\n",
       " 'resnet34_473',\n",
       " 'resnet34_474',\n",
       " 'resnet34_475',\n",
       " 'resnet34_476',\n",
       " 'resnet34_477',\n",
       " 'resnet34_478',\n",
       " 'resnet34_479',\n",
       " 'resnet34_480',\n",
       " 'resnet34_481',\n",
       " 'resnet34_482',\n",
       " 'resnet34_483',\n",
       " 'resnet34_484',\n",
       " 'resnet34_485',\n",
       " 'resnet34_486',\n",
       " 'resnet34_487',\n",
       " 'resnet34_488',\n",
       " 'resnet34_489',\n",
       " 'resnet34_490',\n",
       " 'resnet34_491',\n",
       " 'resnet34_492',\n",
       " 'resnet34_493',\n",
       " 'resnet34_494',\n",
       " 'resnet34_495',\n",
       " 'resnet34_496',\n",
       " 'resnet34_497',\n",
       " 'resnet34_498',\n",
       " 'resnet34_499',\n",
       " 'resnet34_500',\n",
       " 'resnet34_501',\n",
       " 'resnet34_502',\n",
       " 'resnet34_503',\n",
       " 'resnet34_504',\n",
       " 'resnet34_505',\n",
       " 'resnet34_506',\n",
       " 'resnet34_507',\n",
       " 'resnet34_508',\n",
       " 'resnet34_509',\n",
       " 'resnet34_510',\n",
       " 'resnet34_511',\n",
       " 'vit_base_patch16_224.dino_0',\n",
       " 'vit_base_patch16_224.dino_1',\n",
       " 'vit_base_patch16_224.dino_2',\n",
       " 'vit_base_patch16_224.dino_3',\n",
       " 'vit_base_patch16_224.dino_4',\n",
       " 'vit_base_patch16_224.dino_5',\n",
       " 'vit_base_patch16_224.dino_6',\n",
       " 'vit_base_patch16_224.dino_7',\n",
       " 'vit_base_patch16_224.dino_8',\n",
       " 'vit_base_patch16_224.dino_9',\n",
       " 'vit_base_patch16_224.dino_10',\n",
       " 'vit_base_patch16_224.dino_11',\n",
       " 'vit_base_patch16_224.dino_12',\n",
       " 'vit_base_patch16_224.dino_13',\n",
       " 'vit_base_patch16_224.dino_14',\n",
       " 'vit_base_patch16_224.dino_15',\n",
       " 'vit_base_patch16_224.dino_16',\n",
       " 'vit_base_patch16_224.dino_17',\n",
       " 'vit_base_patch16_224.dino_18',\n",
       " 'vit_base_patch16_224.dino_19',\n",
       " 'vit_base_patch16_224.dino_20',\n",
       " 'vit_base_patch16_224.dino_21',\n",
       " 'vit_base_patch16_224.dino_22',\n",
       " 'vit_base_patch16_224.dino_23',\n",
       " 'vit_base_patch16_224.dino_24',\n",
       " 'vit_base_patch16_224.dino_25',\n",
       " 'vit_base_patch16_224.dino_26',\n",
       " 'vit_base_patch16_224.dino_27',\n",
       " 'vit_base_patch16_224.dino_28',\n",
       " 'vit_base_patch16_224.dino_29',\n",
       " 'vit_base_patch16_224.dino_30',\n",
       " 'vit_base_patch16_224.dino_31',\n",
       " 'vit_base_patch16_224.dino_32',\n",
       " 'vit_base_patch16_224.dino_33',\n",
       " 'vit_base_patch16_224.dino_34',\n",
       " 'vit_base_patch16_224.dino_35',\n",
       " 'vit_base_patch16_224.dino_36',\n",
       " 'vit_base_patch16_224.dino_37',\n",
       " 'vit_base_patch16_224.dino_38',\n",
       " 'vit_base_patch16_224.dino_39',\n",
       " 'vit_base_patch16_224.dino_40',\n",
       " 'vit_base_patch16_224.dino_41',\n",
       " 'vit_base_patch16_224.dino_42',\n",
       " 'vit_base_patch16_224.dino_43',\n",
       " 'vit_base_patch16_224.dino_44',\n",
       " 'vit_base_patch16_224.dino_45',\n",
       " 'vit_base_patch16_224.dino_46',\n",
       " 'vit_base_patch16_224.dino_47',\n",
       " 'vit_base_patch16_224.dino_48',\n",
       " 'vit_base_patch16_224.dino_49',\n",
       " 'vit_base_patch16_224.dino_50',\n",
       " 'vit_base_patch16_224.dino_51',\n",
       " 'vit_base_patch16_224.dino_52',\n",
       " 'vit_base_patch16_224.dino_53',\n",
       " 'vit_base_patch16_224.dino_54',\n",
       " 'vit_base_patch16_224.dino_55',\n",
       " 'vit_base_patch16_224.dino_56',\n",
       " 'vit_base_patch16_224.dino_57',\n",
       " 'vit_base_patch16_224.dino_58',\n",
       " 'vit_base_patch16_224.dino_59',\n",
       " 'vit_base_patch16_224.dino_60',\n",
       " 'vit_base_patch16_224.dino_61',\n",
       " 'vit_base_patch16_224.dino_62',\n",
       " 'vit_base_patch16_224.dino_63',\n",
       " 'vit_base_patch16_224.dino_64',\n",
       " 'vit_base_patch16_224.dino_65',\n",
       " 'vit_base_patch16_224.dino_66',\n",
       " 'vit_base_patch16_224.dino_67',\n",
       " 'vit_base_patch16_224.dino_68',\n",
       " 'vit_base_patch16_224.dino_69',\n",
       " 'vit_base_patch16_224.dino_70',\n",
       " 'vit_base_patch16_224.dino_71',\n",
       " 'vit_base_patch16_224.dino_72',\n",
       " 'vit_base_patch16_224.dino_73',\n",
       " 'vit_base_patch16_224.dino_74',\n",
       " 'vit_base_patch16_224.dino_75',\n",
       " 'vit_base_patch16_224.dino_76',\n",
       " 'vit_base_patch16_224.dino_77',\n",
       " 'vit_base_patch16_224.dino_78',\n",
       " 'vit_base_patch16_224.dino_79',\n",
       " 'vit_base_patch16_224.dino_80',\n",
       " 'vit_base_patch16_224.dino_81',\n",
       " 'vit_base_patch16_224.dino_82',\n",
       " 'vit_base_patch16_224.dino_83',\n",
       " 'vit_base_patch16_224.dino_84',\n",
       " 'vit_base_patch16_224.dino_85',\n",
       " 'vit_base_patch16_224.dino_86',\n",
       " 'vit_base_patch16_224.dino_87',\n",
       " 'vit_base_patch16_224.dino_88',\n",
       " 'vit_base_patch16_224.dino_89',\n",
       " 'vit_base_patch16_224.dino_90',\n",
       " 'vit_base_patch16_224.dino_91',\n",
       " 'vit_base_patch16_224.dino_92',\n",
       " 'vit_base_patch16_224.dino_93',\n",
       " 'vit_base_patch16_224.dino_94',\n",
       " 'vit_base_patch16_224.dino_95',\n",
       " 'vit_base_patch16_224.dino_96',\n",
       " 'vit_base_patch16_224.dino_97',\n",
       " 'vit_base_patch16_224.dino_98',\n",
       " 'vit_base_patch16_224.dino_99',\n",
       " 'vit_base_patch16_224.dino_100',\n",
       " 'vit_base_patch16_224.dino_101',\n",
       " 'vit_base_patch16_224.dino_102',\n",
       " 'vit_base_patch16_224.dino_103',\n",
       " 'vit_base_patch16_224.dino_104',\n",
       " 'vit_base_patch16_224.dino_105',\n",
       " 'vit_base_patch16_224.dino_106',\n",
       " 'vit_base_patch16_224.dino_107',\n",
       " 'vit_base_patch16_224.dino_108',\n",
       " 'vit_base_patch16_224.dino_109',\n",
       " 'vit_base_patch16_224.dino_110',\n",
       " 'vit_base_patch16_224.dino_111',\n",
       " 'vit_base_patch16_224.dino_112',\n",
       " 'vit_base_patch16_224.dino_113',\n",
       " 'vit_base_patch16_224.dino_114',\n",
       " 'vit_base_patch16_224.dino_115',\n",
       " 'vit_base_patch16_224.dino_116',\n",
       " 'vit_base_patch16_224.dino_117',\n",
       " 'vit_base_patch16_224.dino_118',\n",
       " 'vit_base_patch16_224.dino_119',\n",
       " 'vit_base_patch16_224.dino_120',\n",
       " 'vit_base_patch16_224.dino_121',\n",
       " 'vit_base_patch16_224.dino_122',\n",
       " 'vit_base_patch16_224.dino_123',\n",
       " 'vit_base_patch16_224.dino_124',\n",
       " 'vit_base_patch16_224.dino_125',\n",
       " 'vit_base_patch16_224.dino_126',\n",
       " 'vit_base_patch16_224.dino_127',\n",
       " 'vit_base_patch16_224.dino_128',\n",
       " 'vit_base_patch16_224.dino_129',\n",
       " 'vit_base_patch16_224.dino_130',\n",
       " 'vit_base_patch16_224.dino_131',\n",
       " 'vit_base_patch16_224.dino_132',\n",
       " 'vit_base_patch16_224.dino_133',\n",
       " 'vit_base_patch16_224.dino_134',\n",
       " 'vit_base_patch16_224.dino_135',\n",
       " 'vit_base_patch16_224.dino_136',\n",
       " 'vit_base_patch16_224.dino_137',\n",
       " 'vit_base_patch16_224.dino_138',\n",
       " 'vit_base_patch16_224.dino_139',\n",
       " 'vit_base_patch16_224.dino_140',\n",
       " 'vit_base_patch16_224.dino_141',\n",
       " 'vit_base_patch16_224.dino_142',\n",
       " 'vit_base_patch16_224.dino_143',\n",
       " 'vit_base_patch16_224.dino_144',\n",
       " 'vit_base_patch16_224.dino_145',\n",
       " 'vit_base_patch16_224.dino_146',\n",
       " 'vit_base_patch16_224.dino_147',\n",
       " 'vit_base_patch16_224.dino_148',\n",
       " 'vit_base_patch16_224.dino_149',\n",
       " 'vit_base_patch16_224.dino_150',\n",
       " 'vit_base_patch16_224.dino_151',\n",
       " 'vit_base_patch16_224.dino_152',\n",
       " 'vit_base_patch16_224.dino_153',\n",
       " 'vit_base_patch16_224.dino_154',\n",
       " 'vit_base_patch16_224.dino_155',\n",
       " 'vit_base_patch16_224.dino_156',\n",
       " 'vit_base_patch16_224.dino_157',\n",
       " 'vit_base_patch16_224.dino_158',\n",
       " 'vit_base_patch16_224.dino_159',\n",
       " 'vit_base_patch16_224.dino_160',\n",
       " 'vit_base_patch16_224.dino_161',\n",
       " 'vit_base_patch16_224.dino_162',\n",
       " 'vit_base_patch16_224.dino_163',\n",
       " 'vit_base_patch16_224.dino_164',\n",
       " 'vit_base_patch16_224.dino_165',\n",
       " 'vit_base_patch16_224.dino_166',\n",
       " 'vit_base_patch16_224.dino_167',\n",
       " 'vit_base_patch16_224.dino_168',\n",
       " 'vit_base_patch16_224.dino_169',\n",
       " 'vit_base_patch16_224.dino_170',\n",
       " 'vit_base_patch16_224.dino_171',\n",
       " 'vit_base_patch16_224.dino_172',\n",
       " 'vit_base_patch16_224.dino_173',\n",
       " 'vit_base_patch16_224.dino_174',\n",
       " 'vit_base_patch16_224.dino_175',\n",
       " 'vit_base_patch16_224.dino_176',\n",
       " 'vit_base_patch16_224.dino_177',\n",
       " 'vit_base_patch16_224.dino_178',\n",
       " 'vit_base_patch16_224.dino_179',\n",
       " 'vit_base_patch16_224.dino_180',\n",
       " 'vit_base_patch16_224.dino_181',\n",
       " 'vit_base_patch16_224.dino_182',\n",
       " 'vit_base_patch16_224.dino_183',\n",
       " 'vit_base_patch16_224.dino_184',\n",
       " 'vit_base_patch16_224.dino_185',\n",
       " 'vit_base_patch16_224.dino_186',\n",
       " 'vit_base_patch16_224.dino_187',\n",
       " 'vit_base_patch16_224.dino_188',\n",
       " 'vit_base_patch16_224.dino_189',\n",
       " 'vit_base_patch16_224.dino_190',\n",
       " 'vit_base_patch16_224.dino_191',\n",
       " 'vit_base_patch16_224.dino_192',\n",
       " 'vit_base_patch16_224.dino_193',\n",
       " 'vit_base_patch16_224.dino_194',\n",
       " 'vit_base_patch16_224.dino_195',\n",
       " 'vit_base_patch16_224.dino_196',\n",
       " 'vit_base_patch16_224.dino_197',\n",
       " 'vit_base_patch16_224.dino_198',\n",
       " 'vit_base_patch16_224.dino_199',\n",
       " 'vit_base_patch16_224.dino_200',\n",
       " 'vit_base_patch16_224.dino_201',\n",
       " 'vit_base_patch16_224.dino_202',\n",
       " 'vit_base_patch16_224.dino_203',\n",
       " 'vit_base_patch16_224.dino_204',\n",
       " 'vit_base_patch16_224.dino_205',\n",
       " 'vit_base_patch16_224.dino_206',\n",
       " 'vit_base_patch16_224.dino_207',\n",
       " 'vit_base_patch16_224.dino_208',\n",
       " 'vit_base_patch16_224.dino_209',\n",
       " 'vit_base_patch16_224.dino_210',\n",
       " 'vit_base_patch16_224.dino_211',\n",
       " 'vit_base_patch16_224.dino_212',\n",
       " 'vit_base_patch16_224.dino_213',\n",
       " 'vit_base_patch16_224.dino_214',\n",
       " 'vit_base_patch16_224.dino_215',\n",
       " 'vit_base_patch16_224.dino_216',\n",
       " 'vit_base_patch16_224.dino_217',\n",
       " 'vit_base_patch16_224.dino_218',\n",
       " 'vit_base_patch16_224.dino_219',\n",
       " 'vit_base_patch16_224.dino_220',\n",
       " 'vit_base_patch16_224.dino_221',\n",
       " 'vit_base_patch16_224.dino_222',\n",
       " 'vit_base_patch16_224.dino_223',\n",
       " 'vit_base_patch16_224.dino_224',\n",
       " 'vit_base_patch16_224.dino_225',\n",
       " 'vit_base_patch16_224.dino_226',\n",
       " 'vit_base_patch16_224.dino_227',\n",
       " 'vit_base_patch16_224.dino_228',\n",
       " 'vit_base_patch16_224.dino_229',\n",
       " 'vit_base_patch16_224.dino_230',\n",
       " 'vit_base_patch16_224.dino_231',\n",
       " 'vit_base_patch16_224.dino_232',\n",
       " 'vit_base_patch16_224.dino_233',\n",
       " 'vit_base_patch16_224.dino_234',\n",
       " 'vit_base_patch16_224.dino_235',\n",
       " 'vit_base_patch16_224.dino_236',\n",
       " 'vit_base_patch16_224.dino_237',\n",
       " 'vit_base_patch16_224.dino_238',\n",
       " 'vit_base_patch16_224.dino_239',\n",
       " 'vit_base_patch16_224.dino_240',\n",
       " 'vit_base_patch16_224.dino_241',\n",
       " 'vit_base_patch16_224.dino_242',\n",
       " 'vit_base_patch16_224.dino_243',\n",
       " 'vit_base_patch16_224.dino_244',\n",
       " 'vit_base_patch16_224.dino_245',\n",
       " 'vit_base_patch16_224.dino_246',\n",
       " 'vit_base_patch16_224.dino_247',\n",
       " 'vit_base_patch16_224.dino_248',\n",
       " 'vit_base_patch16_224.dino_249',\n",
       " 'vit_base_patch16_224.dino_250',\n",
       " 'vit_base_patch16_224.dino_251',\n",
       " 'vit_base_patch16_224.dino_252',\n",
       " 'vit_base_patch16_224.dino_253',\n",
       " 'vit_base_patch16_224.dino_254',\n",
       " 'vit_base_patch16_224.dino_255',\n",
       " 'vit_base_patch16_224.dino_256',\n",
       " 'vit_base_patch16_224.dino_257',\n",
       " 'vit_base_patch16_224.dino_258',\n",
       " 'vit_base_patch16_224.dino_259',\n",
       " 'vit_base_patch16_224.dino_260',\n",
       " 'vit_base_patch16_224.dino_261',\n",
       " 'vit_base_patch16_224.dino_262',\n",
       " 'vit_base_patch16_224.dino_263',\n",
       " 'vit_base_patch16_224.dino_264',\n",
       " 'vit_base_patch16_224.dino_265',\n",
       " 'vit_base_patch16_224.dino_266',\n",
       " 'vit_base_patch16_224.dino_267',\n",
       " 'vit_base_patch16_224.dino_268',\n",
       " 'vit_base_patch16_224.dino_269',\n",
       " 'vit_base_patch16_224.dino_270',\n",
       " 'vit_base_patch16_224.dino_271',\n",
       " 'vit_base_patch16_224.dino_272',\n",
       " 'vit_base_patch16_224.dino_273',\n",
       " 'vit_base_patch16_224.dino_274',\n",
       " 'vit_base_patch16_224.dino_275',\n",
       " 'vit_base_patch16_224.dino_276',\n",
       " 'vit_base_patch16_224.dino_277',\n",
       " 'vit_base_patch16_224.dino_278',\n",
       " 'vit_base_patch16_224.dino_279',\n",
       " 'vit_base_patch16_224.dino_280',\n",
       " 'vit_base_patch16_224.dino_281',\n",
       " 'vit_base_patch16_224.dino_282',\n",
       " 'vit_base_patch16_224.dino_283',\n",
       " 'vit_base_patch16_224.dino_284',\n",
       " 'vit_base_patch16_224.dino_285',\n",
       " 'vit_base_patch16_224.dino_286',\n",
       " 'vit_base_patch16_224.dino_287',\n",
       " 'vit_base_patch16_224.dino_288',\n",
       " 'vit_base_patch16_224.dino_289',\n",
       " 'vit_base_patch16_224.dino_290',\n",
       " 'vit_base_patch16_224.dino_291',\n",
       " 'vit_base_patch16_224.dino_292',\n",
       " 'vit_base_patch16_224.dino_293',\n",
       " 'vit_base_patch16_224.dino_294',\n",
       " 'vit_base_patch16_224.dino_295',\n",
       " 'vit_base_patch16_224.dino_296',\n",
       " 'vit_base_patch16_224.dino_297',\n",
       " 'vit_base_patch16_224.dino_298',\n",
       " 'vit_base_patch16_224.dino_299',\n",
       " 'vit_base_patch16_224.dino_300',\n",
       " 'vit_base_patch16_224.dino_301',\n",
       " 'vit_base_patch16_224.dino_302',\n",
       " 'vit_base_patch16_224.dino_303',\n",
       " 'vit_base_patch16_224.dino_304',\n",
       " 'vit_base_patch16_224.dino_305',\n",
       " 'vit_base_patch16_224.dino_306',\n",
       " 'vit_base_patch16_224.dino_307',\n",
       " 'vit_base_patch16_224.dino_308',\n",
       " 'vit_base_patch16_224.dino_309',\n",
       " 'vit_base_patch16_224.dino_310',\n",
       " 'vit_base_patch16_224.dino_311',\n",
       " 'vit_base_patch16_224.dino_312',\n",
       " 'vit_base_patch16_224.dino_313',\n",
       " 'vit_base_patch16_224.dino_314',\n",
       " 'vit_base_patch16_224.dino_315',\n",
       " 'vit_base_patch16_224.dino_316',\n",
       " 'vit_base_patch16_224.dino_317',\n",
       " 'vit_base_patch16_224.dino_318',\n",
       " 'vit_base_patch16_224.dino_319',\n",
       " 'vit_base_patch16_224.dino_320',\n",
       " 'vit_base_patch16_224.dino_321',\n",
       " 'vit_base_patch16_224.dino_322',\n",
       " 'vit_base_patch16_224.dino_323',\n",
       " 'vit_base_patch16_224.dino_324',\n",
       " 'vit_base_patch16_224.dino_325',\n",
       " 'vit_base_patch16_224.dino_326',\n",
       " 'vit_base_patch16_224.dino_327',\n",
       " 'vit_base_patch16_224.dino_328',\n",
       " 'vit_base_patch16_224.dino_329',\n",
       " 'vit_base_patch16_224.dino_330',\n",
       " 'vit_base_patch16_224.dino_331',\n",
       " 'vit_base_patch16_224.dino_332',\n",
       " 'vit_base_patch16_224.dino_333',\n",
       " 'vit_base_patch16_224.dino_334',\n",
       " 'vit_base_patch16_224.dino_335',\n",
       " 'vit_base_patch16_224.dino_336',\n",
       " 'vit_base_patch16_224.dino_337',\n",
       " 'vit_base_patch16_224.dino_338',\n",
       " 'vit_base_patch16_224.dino_339',\n",
       " 'vit_base_patch16_224.dino_340',\n",
       " 'vit_base_patch16_224.dino_341',\n",
       " 'vit_base_patch16_224.dino_342',\n",
       " 'vit_base_patch16_224.dino_343',\n",
       " 'vit_base_patch16_224.dino_344',\n",
       " 'vit_base_patch16_224.dino_345',\n",
       " 'vit_base_patch16_224.dino_346',\n",
       " 'vit_base_patch16_224.dino_347',\n",
       " 'vit_base_patch16_224.dino_348',\n",
       " 'vit_base_patch16_224.dino_349',\n",
       " 'vit_base_patch16_224.dino_350',\n",
       " 'vit_base_patch16_224.dino_351',\n",
       " 'vit_base_patch16_224.dino_352',\n",
       " 'vit_base_patch16_224.dino_353',\n",
       " 'vit_base_patch16_224.dino_354',\n",
       " 'vit_base_patch16_224.dino_355',\n",
       " 'vit_base_patch16_224.dino_356',\n",
       " 'vit_base_patch16_224.dino_357',\n",
       " 'vit_base_patch16_224.dino_358',\n",
       " 'vit_base_patch16_224.dino_359',\n",
       " 'vit_base_patch16_224.dino_360',\n",
       " 'vit_base_patch16_224.dino_361',\n",
       " 'vit_base_patch16_224.dino_362',\n",
       " 'vit_base_patch16_224.dino_363',\n",
       " 'vit_base_patch16_224.dino_364',\n",
       " 'vit_base_patch16_224.dino_365',\n",
       " 'vit_base_patch16_224.dino_366',\n",
       " 'vit_base_patch16_224.dino_367',\n",
       " 'vit_base_patch16_224.dino_368',\n",
       " 'vit_base_patch16_224.dino_369',\n",
       " 'vit_base_patch16_224.dino_370',\n",
       " 'vit_base_patch16_224.dino_371',\n",
       " 'vit_base_patch16_224.dino_372',\n",
       " 'vit_base_patch16_224.dino_373',\n",
       " 'vit_base_patch16_224.dino_374',\n",
       " 'vit_base_patch16_224.dino_375',\n",
       " 'vit_base_patch16_224.dino_376',\n",
       " 'vit_base_patch16_224.dino_377',\n",
       " 'vit_base_patch16_224.dino_378',\n",
       " 'vit_base_patch16_224.dino_379',\n",
       " 'vit_base_patch16_224.dino_380',\n",
       " 'vit_base_patch16_224.dino_381',\n",
       " 'vit_base_patch16_224.dino_382',\n",
       " 'vit_base_patch16_224.dino_383',\n",
       " 'vit_base_patch16_224.dino_384',\n",
       " 'vit_base_patch16_224.dino_385',\n",
       " 'vit_base_patch16_224.dino_386',\n",
       " 'vit_base_patch16_224.dino_387',\n",
       " 'vit_base_patch16_224.dino_388',\n",
       " 'vit_base_patch16_224.dino_389',\n",
       " 'vit_base_patch16_224.dino_390',\n",
       " 'vit_base_patch16_224.dino_391',\n",
       " 'vit_base_patch16_224.dino_392',\n",
       " 'vit_base_patch16_224.dino_393',\n",
       " 'vit_base_patch16_224.dino_394',\n",
       " 'vit_base_patch16_224.dino_395',\n",
       " 'vit_base_patch16_224.dino_396',\n",
       " 'vit_base_patch16_224.dino_397',\n",
       " 'vit_base_patch16_224.dino_398',\n",
       " 'vit_base_patch16_224.dino_399',\n",
       " 'vit_base_patch16_224.dino_400',\n",
       " 'vit_base_patch16_224.dino_401',\n",
       " 'vit_base_patch16_224.dino_402',\n",
       " 'vit_base_patch16_224.dino_403',\n",
       " 'vit_base_patch16_224.dino_404',\n",
       " 'vit_base_patch16_224.dino_405',\n",
       " 'vit_base_patch16_224.dino_406',\n",
       " 'vit_base_patch16_224.dino_407',\n",
       " 'vit_base_patch16_224.dino_408',\n",
       " 'vit_base_patch16_224.dino_409',\n",
       " 'vit_base_patch16_224.dino_410',\n",
       " 'vit_base_patch16_224.dino_411',\n",
       " 'vit_base_patch16_224.dino_412',\n",
       " 'vit_base_patch16_224.dino_413',\n",
       " 'vit_base_patch16_224.dino_414',\n",
       " 'vit_base_patch16_224.dino_415',\n",
       " 'vit_base_patch16_224.dino_416',\n",
       " 'vit_base_patch16_224.dino_417',\n",
       " 'vit_base_patch16_224.dino_418',\n",
       " 'vit_base_patch16_224.dino_419',\n",
       " 'vit_base_patch16_224.dino_420',\n",
       " 'vit_base_patch16_224.dino_421',\n",
       " 'vit_base_patch16_224.dino_422',\n",
       " 'vit_base_patch16_224.dino_423',\n",
       " 'vit_base_patch16_224.dino_424',\n",
       " 'vit_base_patch16_224.dino_425',\n",
       " 'vit_base_patch16_224.dino_426',\n",
       " 'vit_base_patch16_224.dino_427',\n",
       " 'vit_base_patch16_224.dino_428',\n",
       " 'vit_base_patch16_224.dino_429',\n",
       " 'vit_base_patch16_224.dino_430',\n",
       " 'vit_base_patch16_224.dino_431',\n",
       " 'vit_base_patch16_224.dino_432',\n",
       " 'vit_base_patch16_224.dino_433',\n",
       " 'vit_base_patch16_224.dino_434',\n",
       " 'vit_base_patch16_224.dino_435',\n",
       " 'vit_base_patch16_224.dino_436',\n",
       " 'vit_base_patch16_224.dino_437',\n",
       " 'vit_base_patch16_224.dino_438',\n",
       " 'vit_base_patch16_224.dino_439',\n",
       " 'vit_base_patch16_224.dino_440',\n",
       " 'vit_base_patch16_224.dino_441',\n",
       " 'vit_base_patch16_224.dino_442',\n",
       " 'vit_base_patch16_224.dino_443',\n",
       " 'vit_base_patch16_224.dino_444',\n",
       " 'vit_base_patch16_224.dino_445',\n",
       " 'vit_base_patch16_224.dino_446',\n",
       " 'vit_base_patch16_224.dino_447',\n",
       " 'vit_base_patch16_224.dino_448',\n",
       " 'vit_base_patch16_224.dino_449',\n",
       " 'vit_base_patch16_224.dino_450',\n",
       " 'vit_base_patch16_224.dino_451',\n",
       " 'vit_base_patch16_224.dino_452',\n",
       " 'vit_base_patch16_224.dino_453',\n",
       " 'vit_base_patch16_224.dino_454',\n",
       " 'vit_base_patch16_224.dino_455',\n",
       " 'vit_base_patch16_224.dino_456',\n",
       " 'vit_base_patch16_224.dino_457',\n",
       " 'vit_base_patch16_224.dino_458',\n",
       " 'vit_base_patch16_224.dino_459',\n",
       " 'vit_base_patch16_224.dino_460',\n",
       " 'vit_base_patch16_224.dino_461',\n",
       " 'vit_base_patch16_224.dino_462',\n",
       " 'vit_base_patch16_224.dino_463',\n",
       " 'vit_base_patch16_224.dino_464',\n",
       " 'vit_base_patch16_224.dino_465',\n",
       " 'vit_base_patch16_224.dino_466',\n",
       " 'vit_base_patch16_224.dino_467',\n",
       " 'vit_base_patch16_224.dino_468',\n",
       " 'vit_base_patch16_224.dino_469',\n",
       " 'vit_base_patch16_224.dino_470',\n",
       " 'vit_base_patch16_224.dino_471',\n",
       " 'vit_base_patch16_224.dino_472',\n",
       " 'vit_base_patch16_224.dino_473',\n",
       " 'vit_base_patch16_224.dino_474',\n",
       " 'vit_base_patch16_224.dino_475',\n",
       " 'vit_base_patch16_224.dino_476',\n",
       " 'vit_base_patch16_224.dino_477',\n",
       " 'vit_base_patch16_224.dino_478',\n",
       " 'vit_base_patch16_224.dino_479',\n",
       " 'vit_base_patch16_224.dino_480',\n",
       " 'vit_base_patch16_224.dino_481',\n",
       " 'vit_base_patch16_224.dino_482',\n",
       " ...]"
      ]
     },
     "execution_count": 104,
     "metadata": {},
     "output_type": "execute_result"
    }
   ],
   "source": [
    "number_of_cols = len(list_dataset[\"orange_std_col_name_ohv_type_vitbase\"].get_dataframe().columns)\n",
    "x_cols_vitbase = list(list_dataset[\"orange_std_col_name_ohv_type_vitbase\"].get_dataframe().iloc[:,np.r_[1,2,6:9,14:number_of_cols]].columns)\n",
    "x_cols_vitbase"
   ]
  },
  {
   "cell_type": "code",
   "execution_count": 105,
   "metadata": {},
   "outputs": [],
   "source": [
    "y_cols_vitbase = [\"brix\"]"
   ]
  },
  {
   "cell_type": "code",
   "execution_count": null,
   "metadata": {},
   "outputs": [
    {
     "name": "stderr",
     "output_type": "stream",
     "text": [
      "100%|██████████████████████████████████████████████████████████████████████████████████| 81/81 [00:03<00:00, 21.77it/s]\n",
      "100%|██████████████████████████████████████████████████████████████████████████████████| 81/81 [00:04<00:00, 19.07it/s]\n",
      "100%|██████████████████████████████████████████████████████████████████████████████████| 81/81 [00:04<00:00, 19.35it/s]\n",
      "100%|██████████████████████████████████████████████████████████████████████████████████| 81/81 [00:04<00:00, 20.22it/s]\n",
      "100%|██████████████████████████████████████████████████████████████████████████████████| 81/81 [00:14<00:00,  5.47it/s]\n",
      "100%|██████████████████████████████████████████████████████████████████████████████████| 81/81 [00:04<00:00, 19.18it/s]\n",
      "100%|█████████████████████████████████████████████████████████████████████████████████| 81/81 [00:00<00:00, 159.22it/s]\n",
      "100%|██████████████████████████████████████████████████████████████████████████████████| 81/81 [00:00<00:00, 94.33it/s]\n",
      "100%|██████████████████████████████████████████████████████████████████████████████████| 81/81 [00:00<00:00, 94.13it/s]\n",
      "100%|██████████████████████████████████████████████████████████████████████████████████| 81/81 [00:00<00:00, 97.04it/s]\n",
      "100%|██████████████████████████████████████████████████████████████████████████████████| 81/81 [00:11<00:00,  7.09it/s]\n",
      "100%|██████████████████████████████████████████████████████████████████████████████████| 81/81 [00:00<00:00, 81.94it/s]\n",
      "100%|██████████████████████████████████████████████████████████████████████████████████| 81/81 [00:03<00:00, 26.62it/s]\n",
      "100%|██████████████████████████████████████████████████████████████████████████████████| 81/81 [00:03<00:00, 24.33it/s]\n",
      "100%|██████████████████████████████████████████████████████████████████████████████████| 81/81 [00:03<00:00, 24.15it/s]\n",
      "100%|██████████████████████████████████████████████████████████████████████████████████| 81/81 [00:03<00:00, 24.10it/s]\n",
      "100%|██████████████████████████████████████████████████████████████████████████████████| 81/81 [00:13<00:00,  5.88it/s]\n",
      "100%|██████████████████████████████████████████████████████████████████████████████████| 81/81 [00:03<00:00, 23.50it/s]\n",
      "100%|██████████████████████████████████████████████████████████████████████████████████| 81/81 [05:55<00:00,  4.39s/it]\n",
      "100%|██████████████████████████████████████████████████████████████████████████████████| 81/81 [05:56<00:00,  4.40s/it]\n",
      "100%|██████████████████████████████████████████████████████████████████████████████████| 81/81 [05:55<00:00,  4.38s/it]\n",
      "100%|██████████████████████████████████████████████████████████████████████████████████| 81/81 [05:53<00:00,  4.36s/it]\n",
      "100%|██████████████████████████████████████████████████████████████████████████████████| 81/81 [06:05<00:00,  4.52s/it]\n",
      "  6%|█████                                                                              | 5/81 [00:21<05:33,  4.39s/it]"
     ]
    }
   ],
   "source": [
    "if TRAIN_MODEL_3:\n",
    "\n",
    "    for dataset_name in [\"orange_std_col_name_ohv_type_vitbase\"]:\n",
    "        for model_type in ModelType:\n",
    "            for scaler_type in ScalerType:\n",
    "                model = Model(\n",
    "                    dataset_name=\"orange_std_col_name_ohv_type_vitbase\",\n",
    "                    pretrained_model_features=[\"vitbase\"],\n",
    "                    model_type=model_type,\n",
    "                    x_cols=x_cols_resnet34,\n",
    "                    y_cols=y_cols_resnet34,\n",
    "                    dataset=list_dataset[\"orange_std_col_name_ohv_type_vitbase\"],\n",
    "                    scaler_type=scaler_type,\n",
    "                )\n",
    "\n",
    "                result_frame.add_result(model.evaluate())\n",
    "\n",
    "    result_frame.display_result()"
   ]
  },
  {
   "cell_type": "code",
   "execution_count": null,
   "metadata": {},
   "outputs": [],
   "source": [
    "result_frame.save_result(\"result_4.xlsx\")"
   ]
  }
 ],
 "metadata": {
  "kernelspec": {
   "display_name": "Python 3 (ipykernel)",
   "language": "python",
   "name": "python3"
  },
  "language_info": {
   "codemirror_mode": {
    "name": "ipython",
    "version": 3
   },
   "file_extension": ".py",
   "mimetype": "text/x-python",
   "name": "python",
   "nbconvert_exporter": "python",
   "pygments_lexer": "ipython3",
   "version": "3.11.7"
  }
 },
 "nbformat": 4,
 "nbformat_minor": 4
}
