{
 "cells": [
  {
   "cell_type": "markdown",
   "metadata": {
    "id": "aQ2elnqjNddA"
   },
   "source": [
    "# Orange brix Analysis"
   ]
  },
  {
   "cell_type": "code",
   "execution_count": 182,
   "metadata": {
    "colab": {
     "base_uri": "https://localhost:8080/"
    },
    "executionInfo": {
     "elapsed": 2999,
     "status": "ok",
     "timestamp": 1711202377698,
     "user": {
      "displayName": "Hieu Pham",
      "userId": "08582879575248824013"
     },
     "user_tz": -420
    },
    "id": "n833jefeN_Mi",
    "outputId": "f2231aeb-22c4-4ff5-8309-141fe56068dc"
   },
   "outputs": [],
   "source": [
    "# from google.colab import drive\n",
    "# drive.mount(\"/content/drive\")\n",
    "# %cd \"/content/drive//MyDrive/Colab Notebooks/Advanced_programming_for_scientific_computing/\"\n",
    "# # Master_homework/"
   ]
  },
  {
   "cell_type": "markdown",
   "metadata": {
    "id": "UzLyHKC0NddJ"
   },
   "source": [
    "## Import libraries"
   ]
  },
  {
   "cell_type": "code",
   "execution_count": 183,
   "metadata": {
    "executionInfo": {
     "elapsed": 2996,
     "status": "ok",
     "timestamp": 1711202380690,
     "user": {
      "displayName": "Hieu Pham",
      "userId": "08582879575248824013"
     },
     "user_tz": -420
    },
    "id": "d95dc_9LNddK"
   },
   "outputs": [],
   "source": [
    "import numpy as np\n",
    "import pandas as pd\n",
    "import matplotlib.pyplot as plt\n",
    "import seaborn as sns\n",
    "from scipy import stats\n",
    "from enum import Enum\n",
    "from tqdm import tqdm\n",
    "\n",
    "from sklearn.linear_model import LinearRegression\n",
    "from sklearn.tree import DecisionTreeRegressor\n",
    "from sklearn.ensemble import RandomForestRegressor\n",
    "from sklearn.neighbors import KNeighborsRegressor\n",
    "from sklearn.svm import SVR\n",
    "from xgboost import XGBRegressor\n",
    "from lightgbm import LGBMRegressor\n",
    "from sklearn.model_selection import KFold\n",
    "from sklearn.metrics import r2_score, mean_squared_error\n",
    "\n",
    "import os"
   ]
  },
  {
   "cell_type": "code",
   "execution_count": 184,
   "metadata": {
    "colab": {
     "base_uri": "https://localhost:8080/"
    },
    "executionInfo": {
     "elapsed": 32977,
     "status": "ok",
     "timestamp": 1711202413661,
     "user": {
      "displayName": "Hieu Pham",
      "userId": "08582879575248824013"
     },
     "user_tz": -420
    },
    "id": "ym7rPvCENddP",
    "outputId": "b43ba353-cc5b-4ce6-b450-b804203f65a7"
   },
   "outputs": [],
   "source": [
    "# !pip install lightgbm\n",
    "# !pip install xgboost"
   ]
  },
  {
   "cell_type": "code",
   "execution_count": 185,
   "metadata": {
    "executionInfo": {
     "elapsed": 30,
     "status": "ok",
     "timestamp": 1711202413661,
     "user": {
      "displayName": "Hieu Pham",
      "userId": "08582879575248824013"
     },
     "user_tz": -420
    },
    "id": "RJqWB2zENddQ"
   },
   "outputs": [],
   "source": [
    "plt.style.use(\"fivethirtyeight\")"
   ]
  },
  {
   "cell_type": "code",
   "execution_count": 186,
   "metadata": {
    "executionInfo": {
     "elapsed": 29,
     "status": "ok",
     "timestamp": 1711202413662,
     "user": {
      "displayName": "Hieu Pham",
      "userId": "08582879575248824013"
     },
     "user_tz": -420
    },
    "id": "-Ux1NSLuNddR"
   },
   "outputs": [],
   "source": [
    "GENERATE_PLOTS: bool = False\n",
    "\n",
    "# TRAIN_MODEL_1 : bool = False\n",
    "# TRAIN_MODEL_2 : bool = False\n",
    "# TRAIN_MODEL_3 : bool = False\n",
    "# TRAIN_MODEL_4 : bool = False\n",
    "# TRAIN_MODEL_5 : bool = False"
   ]
  },
  {
   "cell_type": "markdown",
   "metadata": {
    "id": "M8cYA23bNddS"
   },
   "source": [
    "## Create Classes"
   ]
  },
  {
   "cell_type": "code",
   "execution_count": 187,
   "metadata": {
    "executionInfo": {
     "elapsed": 28,
     "status": "ok",
     "timestamp": 1711202413662,
     "user": {
      "displayName": "Hieu Pham",
      "userId": "08582879575248824013"
     },
     "user_tz": -420
    },
    "id": "uuosTUAnNddT"
   },
   "outputs": [],
   "source": [
    "class Utilities:\n",
    "    def __init__(self):\n",
    "        pass\n",
    "\n",
    "    def get_categorical_numeric_cols(self, dataframe: pd.DataFrame):\n",
    "        if len(dataframe) == 0:\n",
    "            raise Exception(\"No records found!\")\n",
    "\n",
    "        numeric_cols = []\n",
    "        categorical_cols = []\n",
    "\n",
    "        for col in dataframe.columns:\n",
    "            if isinstance(dataframe[col][0], bool) or not isinstance(\n",
    "                dataframe[col][0], (int, float, np.int8, np.int16, np.int32, np.int64, np.float16, np.float32, np.float64)\n",
    "            ):\n",
    "                categorical_cols.append(col)\n",
    "            else:\n",
    "                numeric_cols.append(col)\n",
    "\n",
    "        return (categorical_cols, numeric_cols)"
   ]
  },
  {
   "cell_type": "code",
   "execution_count": 188,
   "metadata": {
    "executionInfo": {
     "elapsed": 27,
     "status": "ok",
     "timestamp": 1711202413662,
     "user": {
      "displayName": "Hieu Pham",
      "userId": "08582879575248824013"
     },
     "user_tz": -420
    },
    "id": "T7umKO-8NddU"
   },
   "outputs": [],
   "source": [
    "from sklearn.preprocessing import (\n",
    "    MaxAbsScaler,\n",
    "    MinMaxScaler,\n",
    "    Normalizer,\n",
    "    RobustScaler,\n",
    "    StandardScaler,\n",
    ")\n",
    "\n",
    "\n",
    "class ScalerType(Enum):\n",
    "    Raw_ = None\n",
    "    MaxAbsScaler_ = MaxAbsScaler\n",
    "    MinMaxScaler_ = MinMaxScaler\n",
    "    Normalizer_ = Normalizer\n",
    "    RobustScaler_ = RobustScaler\n",
    "    StandardScaler_ = StandardScaler"
   ]
  },
  {
   "cell_type": "code",
   "execution_count": 189,
   "metadata": {
    "executionInfo": {
     "elapsed": 27,
     "status": "ok",
     "timestamp": 1711202413663,
     "user": {
      "displayName": "Hieu Pham",
      "userId": "08582879575248824013"
     },
     "user_tz": -420
    },
    "id": "szkvxQ51NddV"
   },
   "outputs": [],
   "source": [
    "class Dataset(Utilities):\n",
    "    def __init__(\n",
    "        self,\n",
    "        name: str,\n",
    "        dataframe: pd.DataFrame,\n",
    "        scaler_type: ScalerType = ScalerType.Raw_,\n",
    "    ):\n",
    "        self.name: str = name\n",
    "        self.dataframe: pd.DataFrame = dataframe\n",
    "        self.categorical_cols: list[str] = []\n",
    "        self.numeric_cols: list[str] = []\n",
    "        self.scaler_type: ScalerType = scaler_type\n",
    "\n",
    "        self.categorical_cols, self.numeric_cols = self.get_categorical_numeric_cols(\n",
    "            self.dataframe\n",
    "        )\n",
    "\n",
    "    def get_name(self) -> str:\n",
    "        return self.name\n",
    "\n",
    "    def get_dataframe(self) -> pd.DataFrame:\n",
    "        return self.dataframe\n",
    "\n",
    "    def detect_categorical_numeric_cols(self):\n",
    "        if len(self.dataframe) == 0:\n",
    "            raise Exception(\"No records found!\")\n",
    "\n",
    "        self.numeric_cols = []\n",
    "        self.categorical_cols = []\n",
    "\n",
    "        for col in self.dataframe.columns:\n",
    "            try:\n",
    "                float(self.dataframe[col][0])\n",
    "                self.numeric_cols.append(col)\n",
    "            except:\n",
    "                self.categorical_cols.append(col)\n",
    "\n",
    "    def get_numeric_cols(self) -> list[str]:\n",
    "        return self.numeric_cols\n",
    "\n",
    "    def get_numeric_dataframe(self) -> pd.DataFrame:\n",
    "        return self.dataframe[self.numeric_cols]\n",
    "\n",
    "    def get_categorical_dataframe(self) -> pd.DataFrame:\n",
    "        return self.dataframe[self.categorical_cols]\n",
    "\n",
    "    def get_scaler_type(self) -> ScalerType:\n",
    "        return self.scaler_type\n",
    "\n",
    "    def concat_dataframe(self, additional_dataframe: pd.DataFrame):\n",
    "        if len(additional_dataframe) == len(self.dataframe):\n",
    "            self.dataframe = pd.concat([self.dataframe, additional_dataframe], axis=1)\n",
    "            self.detect_categorical_numeric_cols()\n",
    "\n",
    "    def get_one_hot_vectorized_dataset(\n",
    "        self, categorical_col: str, print_name: bool = True\n",
    "    ):\n",
    "        if categorical_col in self.categorical_cols:\n",
    "            dummies_dataframe = pd.get_dummies(self.dataframe[categorical_col])\n",
    "            dummies_dataframe = pd.concat([dummies_dataframe, self.dataframe], axis=1)\n",
    "            new_dataset_name = self.name + \"_ohv_\" + categorical_col\n",
    "            if print_name:\n",
    "                print(new_dataset_name)\n",
    "            return Dataset(\n",
    "                name=new_dataset_name,\n",
    "                dataframe=dummies_dataframe,\n",
    "                scaler_type=self.scaler_type,\n",
    "            )\n",
    "        elif categorical_col in self.numeric_cols:\n",
    "            print(\"Records for input column name are not categorical!\")\n",
    "        else:\n",
    "            print(\"Input column name does not exists!\")"
   ]
  },
  {
   "cell_type": "code",
   "execution_count": 190,
   "metadata": {
    "executionInfo": {
     "elapsed": 27,
     "status": "ok",
     "timestamp": 1711202413663,
     "user": {
      "displayName": "Hieu Pham",
      "userId": "08582879575248824013"
     },
     "user_tz": -420
    },
    "id": "vUDUhRsZNddW"
   },
   "outputs": [],
   "source": [
    "class ModelType(Enum):\n",
    "    LINEAR_REGRESSION: dict = {}\n",
    "    SVR: dict = {\n",
    "        \"kernel\": \"rbf\", # imp | linear, poly, rbf\n",
    "        \"degree\": 3,\n",
    "        \"gamma\": \"scale\",\n",
    "        \"coef0\": 0,\n",
    "        \"tol\": 1e-3,\n",
    "        \"C\": 1.0, # imp tune from 0.1 - 2 step 0.1\n",
    "        \"epsilon\": 0.1,\n",
    "    }\n",
    "    DECISION_TREE: dict = {\n",
    "        \"criterion\": \"squared_error\",\n",
    "        \"splitter\": \"best\",\n",
    "        \"max_depth\": None, # imp tune 1 - number of feature\n",
    "        \"min_samples_split\": 2,\n",
    "        \"min_samples_leaf\": 1,\n",
    "        \"min_weight_fraction_leaf\": 0.0,\n",
    "        \"max_features\": None, # int 2->5 {“sqrt”, “log2”}, default=None\n",
    "\n",
    "        \"random_state\": 42,\n",
    "        \"max_leaf_nodes\": None,\n",
    "        \"min_impurity_decrease\": 0,\n",
    "    }\n",
    "    RANDOM_FOREST: dict = {\n",
    "        \"n_estimators\": 100, # int, 100-1000 (step 100)\n",
    "        \"criterion\": \"squared_error\",\n",
    "        \"max_depth\": None, # imp tune 1 - number of feature\n",
    "        \"min_samples_split\": 2,\n",
    "        \"min_samples_leaf\": 1,\n",
    "        \"min_weight_fraction_leaf\": 0.0,\n",
    "        \"max_features\": 1.0, # int 2->5 {“sqrt”, “log2”}, default=None\n",
    "        \"max_leaf_nodes\": None,\n",
    "        \"min_impurity_decrease\": 0.0,\n",
    "    }\n",
    "    LIGHT_GBM: dict = {\n",
    "        \"boosting_type\": \"gbdt\",\n",
    "        \"num_leaves\": 31,\n",
    "        \"max_depth\": -1,\n",
    "        \"learning_rate\": 0.1,\n",
    "        \"n_estimator\": 100, # int, 100->1000 (step 100)\n",
    "        \"verbosity\": -1,\n",
    "    }\n",
    "    XGB: dict = {\n",
    "        \"objective\": \"reg:linear\",\n",
    "        \"n_estimators\": 10, # int, 100-1000 (step 100)\n",
    "        \"seed\": 123,\n",
    "        \"verbosity\": 0,\n",
    "    }\n"
   ]
  },
  {
   "cell_type": "code",
   "execution_count": 191,
   "metadata": {
    "executionInfo": {
     "elapsed": 26,
     "status": "ok",
     "timestamp": 1711202413663,
     "user": {
      "displayName": "Hieu Pham",
      "userId": "08582879575248824013"
     },
     "user_tz": -420
    },
    "id": "IvdvhKV9NddY"
   },
   "outputs": [],
   "source": [
    "class Result:\n",
    "    def __init__(\n",
    "        self,\n",
    "        dataset_name: str,\n",
    "        model_name: str,\n",
    "        model_type: ModelType,\n",
    "        scaler_type: str,\n",
    "        r2: float,\n",
    "        mse: float,\n",
    "    ):\n",
    "        self.result = [dataset_name, model_name, model_type, scaler_type, r2, mse]\n",
    "\n",
    "    def get_result(self):\n",
    "        return self.result"
   ]
  },
  {
   "cell_type": "code",
   "execution_count": 192,
   "metadata": {
    "executionInfo": {
     "elapsed": 540,
     "status": "ok",
     "timestamp": 1711202414177,
     "user": {
      "displayName": "Hieu Pham",
      "userId": "08582879575248824013"
     },
     "user_tz": -420
    },
    "id": "Ck8IRUweNddZ"
   },
   "outputs": [],
   "source": [
    "class ResultFrame:\n",
    "    def __init__(self):\n",
    "        self.result_frame: pd.DataFrame = pd.DataFrame()\n",
    "        self.count = 0\n",
    "\n",
    "        self.start_up()\n",
    "\n",
    "    def start_up(self):\n",
    "        self.result_frame[\"dataset_name\"] = []\n",
    "        self.result_frame[\"model_name\"] = []\n",
    "        self.result_frame[\"model_type\"] = []\n",
    "        self.result_frame[\"scaler_type\"] = []\n",
    "        self.result_frame[\"r2\"] = []\n",
    "        self.result_frame[\"mse\"] = []\n",
    "\n",
    "    def add_result(self, new_result: Result):\n",
    "        self.result_frame.loc[self.count] = new_result.result\n",
    "        self.count += 1\n",
    "\n",
    "    def display_result(self):\n",
    "        self.result_frame.sort_values([\"r2\", \"mse\"], ascending=False, inplace=True)\n",
    "        display(self.result_frame)\n",
    "\n",
    "    def save_result(self, filename, overwrite=False):\n",
    "        file_exists = os.path.isfile(os.path.join(os.getcwd(), filename))\n",
    "        if file_exists and not overwrite:\n",
    "            print(\"Error: CANNOT SAVE FILE.\")\n",
    "            print(\"A file with the same name already exists.\")\n",
    "            print(\n",
    "                \"Set overwrite to True to overwrite existed file or change file name!\"\n",
    "            )\n",
    "        else:\n",
    "            self.result_frame.to_excel(filename)"
   ]
  },
  {
   "cell_type": "code",
   "execution_count": 193,
   "metadata": {
    "executionInfo": {
     "elapsed": 539,
     "status": "ok",
     "timestamp": 1711202414177,
     "user": {
      "displayName": "Hieu Pham",
      "userId": "08582879575248824013"
     },
     "user_tz": -420
    },
    "id": "HruFStNaNdda"
   },
   "outputs": [],
   "source": [
    "class Model(Utilities):\n",
    "    def __init__(\n",
    "        self,\n",
    "        model_type: ModelType,\n",
    "        name: str,\n",
    "        x_cols: list[str],\n",
    "        y_cols: list[str],\n",
    "        dataset: Dataset,\n",
    "        scaler_type: ScalerType = ScalerType.Raw_,\n",
    "    ):\n",
    "\n",
    "        if len(x_cols) == 0 or len(y_cols) == 0:\n",
    "            raise Exception(\"Data columns are not specified!\")\n",
    "\n",
    "        self.model_type: ModelType = model_type\n",
    "        self.name: str = name\n",
    "        self.scaler_type: ScalerType = scaler_type\n",
    "        self.scaler = self.get_scaler(self.scaler_type)  # could be None\n",
    "        self.x_dataset: Dataset = None\n",
    "        self.y_dataset: Dataset = None\n",
    "        self.inner_model = None\n",
    "\n",
    "        self.preprocess_data(x_cols, y_cols, dataset)\n",
    "\n",
    "    # Extract data from x_cols and y_cols\n",
    "    # Redetect categorical and numeric columns\n",
    "    def preprocess_data(self, x_cols: list[str], y_cols: list[str], dataset: Dataset):\n",
    "        x_dataset_new_name = dataset.get_name() + \"_x\"\n",
    "        y_dataset_new_name = dataset.get_name() + \"_y\"\n",
    "        scaler_type = dataset.get_scaler_type()\n",
    "        self.x_dataset = Dataset(\n",
    "            name=x_dataset_new_name,\n",
    "            dataframe=dataset.get_dataframe()[x_cols],\n",
    "            scaler_type=scaler_type,\n",
    "        )\n",
    "        self.y_dataset = Dataset(\n",
    "            name=y_dataset_new_name,\n",
    "            dataframe=dataset.get_dataframe()[y_cols],\n",
    "            scaler_type=scaler_type,\n",
    "        )\n",
    "\n",
    "        self.process_x_dataset()\n",
    "\n",
    "    # arrange [numeric_cols, categorical_cols]\n",
    "    def process_x_dataset(self):\n",
    "        new_name = self.x_dataset.get_name()\n",
    "        numeric_dataframe = self.x_dataset.get_numeric_dataframe()\n",
    "        categorical_dataframe = self.x_dataset.get_categorical_dataframe()\n",
    "        scaler_type = self.x_dataset.get_scaler_type()\n",
    "        self.x_dataset = Dataset(\n",
    "            name=new_name,\n",
    "            dataframe=pd.concat([numeric_dataframe, categorical_dataframe], axis=1),\n",
    "            scaler_type=scaler_type,\n",
    "        )\n",
    "\n",
    "    def get_x_list_index_numeric_cols(self):\n",
    "        return list(range(len(self.x_dataset.get_numeric_cols())))\n",
    "\n",
    "    def fit_scaler_and_scale_dataframe(self, X: pd.DataFrame) -> pd.DataFrame:\n",
    "        if self.scaler is not None:\n",
    "            list_index = self.get_x_list_index_numeric_cols()\n",
    "            X_numeric = X[:, list_index]\n",
    "            X_categorical = X[:, len(list_index) :].astype(int)\n",
    "            self.scaler.fit(X_numeric)\n",
    "            transformed_X = self.scaler.transform(X_numeric)\n",
    "            transformed_X = np.concatenate([transformed_X, X_categorical], axis=1)\n",
    "        else:\n",
    "            transformed_X = X\n",
    "\n",
    "        return transformed_X\n",
    "\n",
    "    def get_x_dataframe(self):\n",
    "        return self.x_dataset.get_dataframe()\n",
    "\n",
    "    def get_y_dataframe(self):\n",
    "        return self.y_dataset.get_dataframe()\n",
    "\n",
    "    def get_scaler(self, scaler_type: ScalerType):\n",
    "        if scaler_type != ScalerType.Raw_:\n",
    "            return scaler_type.value()\n",
    "\n",
    "    def fit(self, X=None, Y=None):\n",
    "        if X is None:\n",
    "            X = np.array(self.x_dataset.get_dataframe())\n",
    "            Y = np.array(self.y_dataset.get_dataframe())\n",
    "\n",
    "        model_family = self.model_type.__str__().split(\".\")[-1]\n",
    "        params = self.model_type.value\n",
    "\n",
    "        Y = np.squeeze(Y)\n",
    "\n",
    "        # need to scale\n",
    "        transformed_X = self.fit_scaler_and_scale_dataframe(X)\n",
    "\n",
    "        if model_family == \"SVR\":\n",
    "            self.model = SVR(**params).fit(transformed_X, Y)\n",
    "        elif model_family == \"LINEAR_REGRESSION\":\n",
    "            self.model = LinearRegression(**params).fit(transformed_X, Y)\n",
    "        elif model_family == \"DECISION_TREE\":\n",
    "            self.model = DecisionTreeRegressor(**params).fit(transformed_X, Y)\n",
    "        elif model_family == \"RANDOM_FOREST\":\n",
    "            self.model = RandomForestRegressor(**params).fit(transformed_X, Y)\n",
    "        elif model_family == \"LIGHT_GBM\":\n",
    "            self.model = LGBMRegressor(**params).fit(transformed_X, Y)\n",
    "        elif model_family == \"XGB\":\n",
    "            self.model = XGBRegressor(**params).fit(transformed_X, Y)\n",
    "        else:\n",
    "            raise ValueError(\"Unknown model family!\")\n",
    "\n",
    "    def predict(self, X):\n",
    "        if self.scaler is not None:\n",
    "            list_index = self.get_x_list_index_numeric_cols()\n",
    "            X_numeric = X[:, list_index]\n",
    "            X_categorical = X[:, len(list_index) :].astype(int)\n",
    "            transformed_X = self.scaler.transform(X_numeric)\n",
    "            transformed_X = np.concatenate([transformed_X, X_categorical], axis=1)\n",
    "        else:\n",
    "            transformed_X = X\n",
    "        return self.model.predict(transformed_X)\n",
    "\n",
    "    def evaluate(self, X=None, Y=None, method=\"LOOCV\"):\n",
    "        if X is None:\n",
    "            X = np.array(self.x_dataset.get_dataframe())\n",
    "            Y = np.array(self.y_dataset.get_dataframe())\n",
    "        if method == \"LOOCV\":\n",
    "            preds = [0] * len(Y)\n",
    "            total = len(Y)\n",
    "            kf = KFold(n_splits=total)\n",
    "            kf.get_n_splits(Y)\n",
    "\n",
    "        with tqdm(total=total) as pbar:\n",
    "            for i, (train_index, valid_index) in enumerate(kf.split(X, Y)):\n",
    "                X_train = X[train_index]\n",
    "                Y_train = Y[train_index]\n",
    "                X_valid = X[valid_index]\n",
    "                Y_valid = Y[valid_index]\n",
    "                self.fit(X_train, Y_train)\n",
    "\n",
    "                Y_valid_pred = self.predict(X_valid)\n",
    "                for j in range(len(valid_index)):\n",
    "                    index = valid_index[j]\n",
    "                    value = Y_valid_pred[j]\n",
    "                    preds[index] = value\n",
    "                pbar.update(1)\n",
    "\n",
    "        r2 = r2_score(Y, preds)\n",
    "        mse = mean_squared_error(Y, preds)\n",
    "\n",
    "        # Compile result\n",
    "        dataset_name = self.x_dataset.get_name()[:-2]\n",
    "        return Result(\n",
    "            dataset_name=dataset_name,\n",
    "            model_name=self.name,\n",
    "            model_type=self.model_type,\n",
    "            scaler_type=self.scaler_type,\n",
    "            r2=r2,\n",
    "            mse=mse,\n",
    "        )\n",
    "\n",
    "    def save(self, filename: str):\n",
    "        pass\n",
    "\n",
    "    def load(self, filename: str):\n",
    "        pass\n",
    "\n",
    "    def set_params(self, params: dict):\n",
    "\n",
    "        pass"
   ]
  },
  {
   "cell_type": "markdown",
   "metadata": {
    "id": "7yiZvJWkNddc"
   },
   "source": [
    "## Create main variables"
   ]
  },
  {
   "cell_type": "code",
   "execution_count": 194,
   "metadata": {
    "executionInfo": {
     "elapsed": 10,
     "status": "ok",
     "timestamp": 1711202414177,
     "user": {
      "displayName": "Hieu Pham",
      "userId": "08582879575248824013"
     },
     "user_tz": -420
    },
    "id": "WzEQsXy5Nddd"
   },
   "outputs": [],
   "source": [
    "list_dataset: dict[str, Dataset] = dict()\n",
    "list_model: dict = dict()\n"
   ]
  },
  {
   "cell_type": "markdown",
   "metadata": {
    "id": "yyZ_tuI7Nddi"
   },
   "source": [
    "## Create functions"
   ]
  },
  {
   "cell_type": "code",
   "execution_count": 195,
   "metadata": {
    "executionInfo": {
     "elapsed": 9,
     "status": "ok",
     "timestamp": 1711202414177,
     "user": {
      "displayName": "Hieu Pham",
      "userId": "08582879575248824013"
     },
     "user_tz": -420
    },
    "id": "ZZ6Nkt_TNddi"
   },
   "outputs": [],
   "source": [
    "def list_all_dataset_names():\n",
    "    return list_dataset.keys()"
   ]
  },
  {
   "cell_type": "code",
   "execution_count": 196,
   "metadata": {
    "executionInfo": {
     "elapsed": 9,
     "status": "ok",
     "timestamp": 1711202414177,
     "user": {
      "displayName": "Hieu Pham",
      "userId": "08582879575248824013"
     },
     "user_tz": -420
    },
    "id": "dfmFrbTjNddj"
   },
   "outputs": [],
   "source": [
    "def list_all_model_names():\n",
    "    return list_model.keys()"
   ]
  },
  {
   "cell_type": "code",
   "execution_count": 197,
   "metadata": {
    "executionInfo": {
     "elapsed": 9,
     "status": "ok",
     "timestamp": 1711202414178,
     "user": {
      "displayName": "Hieu Pham",
      "userId": "08582879575248824013"
     },
     "user_tz": -420
    },
    "id": "tm7OGieqNddj"
   },
   "outputs": [],
   "source": [
    "def plot_along_dataset(\n",
    "    dataset: Dataset,\n",
    "    nrow_subplot: int,\n",
    "    ncol_subplot: int,\n",
    "    figsize: tuple[int, int],\n",
    "):\n",
    "    numeric_df = dataset.get_dataframe()[dataset.numeric_cols]\n",
    "    x = np.arange(len(numeric_df))\n",
    "    figs, axes = plt.subplots(nrow_subplot, ncol_subplot, figsize=figsize)\n",
    "    for i in range(nrow_subplot):\n",
    "        for j in range(ncol_subplot):\n",
    "            ax = axes[i][j]\n",
    "            index = i * ncol_subplot + j\n",
    "            ax.plot(x, numeric_df.iloc[:, index])\n",
    "            ax.set_title(f\"{numeric_df.columns[index]} along dataframe\", size=15)\n",
    "            ax.xaxis.set_tick_params(labelsize=12)\n",
    "            ax.xaxis.set_ticks(np.arange(0, len(numeric_df), 10))\n",
    "            ax.yaxis.set_tick_params(labelsize=12)"
   ]
  },
  {
   "cell_type": "code",
   "execution_count": 198,
   "metadata": {
    "executionInfo": {
     "elapsed": 9,
     "status": "ok",
     "timestamp": 1711202414178,
     "user": {
      "displayName": "Hieu Pham",
      "userId": "08582879575248824013"
     },
     "user_tz": -420
    },
    "id": "zKkTHtpRNddk"
   },
   "outputs": [],
   "source": [
    "def plot_hist_kde_box_all_columns(dataset: Dataset):\n",
    "\n",
    "    number_of_numeric_col = len(dataset.numeric_cols)\n",
    "    figs, axes = plt.subplots(\n",
    "        number_of_numeric_col, 3, figsize=(30, number_of_numeric_col * 10)\n",
    "    )\n",
    "\n",
    "    numeric_dataframe = dataset.get_dataframe()[dataset.numeric_cols]\n",
    "\n",
    "    for i in range(number_of_numeric_col):\n",
    "        axes[i][0].set_title(f\"{numeric_dataframe.columns[i]} histogram\", size=20)\n",
    "        axes[i][0].yaxis.set_tick_params(labelsize=15)\n",
    "        axes[i][0].xaxis.set_tick_params(labelsize=15)\n",
    "        sns.histplot(ax=axes[i][0], data=numeric_dataframe.iloc[:, i])\n",
    "\n",
    "        axes[i][1].set_title(f\"{numeric_dataframe.columns[i]} KDE\", size=20)\n",
    "        axes[i][1].xaxis.set_tick_params(labelsize=15)\n",
    "        axes[i][1].yaxis.set_tick_params(labelsize=15)\n",
    "        sns.kdeplot(ax=axes[i][1], data=numeric_dataframe.iloc[:, i])\n",
    "\n",
    "        axes[i][2].set_title(f\"{numeric_dataframe.columns[i]} Boxplot\", size=20)\n",
    "        axes[i][2].xaxis.set_tick_params(labelsize=15)\n",
    "        axes[i][2].yaxis.set_tick_params(labelsize=15)\n",
    "        sns.boxplot(ax=axes[i][2], data=numeric_dataframe.iloc[:, i])"
   ]
  },
  {
   "cell_type": "code",
   "execution_count": 199,
   "metadata": {
    "executionInfo": {
     "elapsed": 6,
     "status": "ok",
     "timestamp": 1711202414178,
     "user": {
      "displayName": "Hieu Pham",
      "userId": "08582879575248824013"
     },
     "user_tz": -420
    },
    "id": "5pBp7V5oNddk"
   },
   "outputs": [],
   "source": [
    "def plot_all_columns_group_by_a_categorical_col(dataset: Dataset, categorical_col: str):\n",
    "\n",
    "    dataframe = dataset.get_dataframe()\n",
    "    numeric_dataframe = dataframe[dataset.numeric_cols]\n",
    "    number_of_numeric_col = len(dataset.numeric_cols)\n",
    "    figs, axes = plt.subplots(\n",
    "        number_of_numeric_col, 2, figsize=(20, number_of_numeric_col * 10)\n",
    "    )\n",
    "    groups = dataframe[categorical_col].unique()\n",
    "\n",
    "    for i in range(number_of_numeric_col):\n",
    "        axes[i][0].set_title(f\"{numeric_dataframe.columns[i]} KDE\", size=20)\n",
    "        axes[i][0].xaxis.set_tick_params(labelsize=15)\n",
    "        axes[i][0].yaxis.set_tick_params(labelsize=15)\n",
    "        for group in groups:\n",
    "            sns.kdeplot(\n",
    "                ax=axes[i][0],\n",
    "                data=numeric_dataframe[dataframe[categorical_col] == group].iloc[:, i],\n",
    "                label=f\"Type {group}\",\n",
    "            )\n",
    "        axes[i][0].legend()\n",
    "\n",
    "        axes[i][1].set_title(f\"{numeric_dataframe.columns[i]} Boxplot\", size=20)\n",
    "        axes[i][1].xaxis.set_tick_params(labelsize=15)\n",
    "        axes[i][1].yaxis.set_tick_params(labelsize=15)\n",
    "        sns.boxplot(\n",
    "            ax=axes[i][1],\n",
    "            hue=\"type\",\n",
    "            y=numeric_dataframe.columns[i],\n",
    "            data=dataframe,\n",
    "        )"
   ]
  },
  {
   "cell_type": "code",
   "execution_count": 200,
   "metadata": {
    "executionInfo": {
     "elapsed": 6,
     "status": "ok",
     "timestamp": 1711202414178,
     "user": {
      "displayName": "Hieu Pham",
      "userId": "08582879575248824013"
     },
     "user_tz": -420
    },
    "id": "hp0U0MssNddl"
   },
   "outputs": [],
   "source": [
    "def divide_dataframe_with_categorical_col(\n",
    "    dataset: Dataset, categorical_col: str\n",
    ") -> dict[str, pd.DataFrame]:\n",
    "    dataframe = dataset.get_dataframe()\n",
    "    groups = dataframe[categorical_col].unique()\n",
    "\n",
    "    result = {}\n",
    "    for group in groups:\n",
    "        result[group] = dataframe[dataframe[categorical_col] == group]\n",
    "\n",
    "    return result"
   ]
  },
  {
   "cell_type": "code",
   "execution_count": 201,
   "metadata": {
    "executionInfo": {
     "elapsed": 5,
     "status": "ok",
     "timestamp": 1711202414178,
     "user": {
      "displayName": "Hieu Pham",
      "userId": "08582879575248824013"
     },
     "user_tz": -420
    },
    "id": "qcH5_PsmNddl"
   },
   "outputs": [],
   "source": [
    "def calculate_p_values_between_partitions(dataframes, columns_to_compare):\n",
    "    p_values = {}\n",
    "    for key1, df1 in dataframes.items():\n",
    "        for key2, df2 in dataframes.items():\n",
    "            if key1 != key2:\n",
    "                for col in columns_to_compare:\n",
    "                    if col in df1 and col in df2:\n",
    "                        t_stat, p_val = stats.ttest_ind(df1[col], df2[col])\n",
    "                        p_values[f\"{col}_{key1}-{col}_{key2}\"] = p_val\n",
    "    return p_values"
   ]
  },
  {
   "cell_type": "code",
   "execution_count": 202,
   "metadata": {
    "executionInfo": {
     "elapsed": 508,
     "status": "ok",
     "timestamp": 1711202414681,
     "user": {
      "displayName": "Hieu Pham",
      "userId": "08582879575248824013"
     },
     "user_tz": -420
    },
    "id": "1qEFP40NNddm"
   },
   "outputs": [],
   "source": [
    "import statsmodels.api as sm\n",
    "from sklearn.metrics import mean_squared_error\n",
    "from typing import Optional, Callable\n",
    "\n",
    "\n",
    "def summary_linear_model(x: list, y, dataset, transformer: Optional[Callable] = None):\n",
    "    x_ = sm.add_constant(dataset[x])\n",
    "    y_ = dataset[y]\n",
    "    results = sm.OLS(y_, x_).fit()\n",
    "    Intercept = results.params.iloc[0]\n",
    "    Slope = results.params.iloc[1:]\n",
    "    P_values = results.pvalues[1:]\n",
    "    R_squared = results.rsquared\n",
    "    MSE = mean_squared_error(y_, results.predict())\n",
    "    print(\"Intercept\\n\", Intercept, end=\"\\n\\n\")\n",
    "    print(\"Slope\\n\", Slope, end=\"\\n\\n\")\n",
    "    print(\"P_values\\n\", P_values, end=\"\\n\\n\")\n",
    "    print(\"R_squared\\n\", R_squared, end=\"\\n\\n\")\n",
    "    print(\"MSE\\n\", MSE, end=\"\\n\\n\")\n",
    "    return {\n",
    "        \"Intercept\": Intercept,\n",
    "        \"Slope\": Slope,\n",
    "        \"P_values\": P_values,\n",
    "        \"R_squared\": R_squared,\n",
    "        \"MSE\": MSE,\n",
    "    }"
   ]
  },
  {
   "cell_type": "code",
   "execution_count": 203,
   "metadata": {
    "executionInfo": {
     "elapsed": 17,
     "status": "ok",
     "timestamp": 1711202414682,
     "user": {
      "displayName": "Hieu Pham",
      "userId": "08582879575248824013"
     },
     "user_tz": -420
    },
    "id": "1tGWA3mUNddm"
   },
   "outputs": [],
   "source": [
    "# intercept_a = model_no_scale[\"Slope\"][\"A\"] + model_no_scale[\"Intercept\"]\n",
    "# intercept_b = model_no_scale[\"Slope\"][\"B\"] + model_no_scale[\"Intercept\"]\n",
    "# intercept_c = model_no_scale[\"Slope\"][\"C\"] + model_no_scale[\"Intercept\"]\n",
    "\n",
    "# x = np.arange(model_dataset[\"mass\"].min(), model_dataset[\"mass\"].max())\n",
    "# ya = x * model_no_scale[\"Slope\"][\"mass\"] + intercept_a\n",
    "# yb = x * model_no_scale[\"Slope\"][\"mass\"] + intercept_b\n",
    "# yc = x * model_no_scale[\"Slope\"][\"mass\"] + intercept_c\n",
    "# plt.plot(x, ya, linewidth=2, label=\"type_A\")\n",
    "# plt.plot(x, yb, linewidth=2, label=\"type_B\")\n",
    "# plt.plot(x, yc, linewidth=2, label=\"type_C\")\n",
    "# plt.legend()"
   ]
  },
  {
   "cell_type": "markdown",
   "metadata": {
    "id": "--xPsQ7CNddn"
   },
   "source": [
    "## Import data"
   ]
  },
  {
   "cell_type": "code",
   "execution_count": 204,
   "metadata": {
    "colab": {
     "base_uri": "https://localhost:8080/"
    },
    "executionInfo": {
     "elapsed": 402,
     "status": "ok",
     "timestamp": 1711202415068,
     "user": {
      "displayName": "Hieu Pham",
      "userId": "08582879575248824013"
     },
     "user_tz": -420
    },
    "id": "qQqY_SLgPQXM",
    "outputId": "378766cf-8208-436e-b383-8858450c94b2"
   },
   "outputs": [
    {
     "name": "stdout",
     "output_type": "stream",
     "text": [
      "cropped.rar\n",
      "orange-Copy1.ipynb\n",
      "orange.ipynb\n",
      "orange_anh_hieu-Copy1.ipynb\n",
      "orange_anh_hieu.ipynb\n",
      "orange_data.xlsx\n",
      "resnet34.xlsx\n",
      "result_2.xlsx\n",
      "result_3.xlsx\n",
      "result_4.xlsx\n",
      "TIMM.ipynb\n",
      "vit_base_patch14_dinov2.lvd142m_get_30.xlsx\n",
      "vit_base_patch16_224.dino_get_10.xlsx\n",
      "vit_small_patch14_dinov2.lvd142m_get_10.xlsx\n",
      "vit_small_patch14_dinov2.lvd142m_get_20.xlsx\n",
      "vit_small_patch14_dinov2.lvd142m_get_30.xlsx\n",
      "vit_small_patch14_dinov2.lvd142m_get_5.xlsx\n",
      "vit_small_patch14_dinov2.lvd142m_get_97.xlsx\n",
      "vit_small_patch14_dinov2.lvd142m_get_one.xlsx\n",
      "vit_small_patch14_dinov2.lvd142m_mean.xlsx\n"
     ]
    }
   ],
   "source": [
    "!ls"
   ]
  },
  {
   "cell_type": "code",
   "execution_count": 205,
   "metadata": {
    "executionInfo": {
     "elapsed": 382,
     "status": "ok",
     "timestamp": 1711202415447,
     "user": {
      "displayName": "Hieu Pham",
      "userId": "08582879575248824013"
     },
     "user_tz": -420
    },
    "id": "1sI8Q7h4Nddn"
   },
   "outputs": [],
   "source": [
    "raw_df = pd.read_excel(\"orange_data.xlsx\", sheet_name=0)"
   ]
  },
  {
   "cell_type": "code",
   "execution_count": 206,
   "metadata": {
    "colab": {
     "base_uri": "https://localhost:8080/",
     "height": 363
    },
    "executionInfo": {
     "elapsed": 32,
     "status": "ok",
     "timestamp": 1711202415447,
     "user": {
      "displayName": "Hieu Pham",
      "userId": "08582879575248824013"
     },
     "user_tz": -420
    },
    "id": "tO0U0_L4Nddn",
    "outputId": "47741286-b139-4a0a-f993-33ea5b4a23d4"
   },
   "outputs": [
    {
     "data": {
      "text/html": [
       "<div>\n",
       "<style scoped>\n",
       "    .dataframe tbody tr th:only-of-type {\n",
       "        vertical-align: middle;\n",
       "    }\n",
       "\n",
       "    .dataframe tbody tr th {\n",
       "        vertical-align: top;\n",
       "    }\n",
       "\n",
       "    .dataframe thead th {\n",
       "        text-align: right;\n",
       "    }\n",
       "</style>\n",
       "<table border=\"1\" class=\"dataframe\">\n",
       "  <thead>\n",
       "    <tr style=\"text-align: right;\">\n",
       "      <th></th>\n",
       "      <th>Name</th>\n",
       "      <th>p</th>\n",
       "      <th>C NaOH</th>\n",
       "      <th>Khối lượng(g)</th>\n",
       "      <th>Đường kính ngang(mm)</th>\n",
       "      <th>Đường kính dọc(mm)</th>\n",
       "      <th>Độ đường (Brix %)</th>\n",
       "      <th>TA (%)</th>\n",
       "      <th>Brix:TA</th>\n",
       "      <th>BrmTA</th>\n",
       "    </tr>\n",
       "  </thead>\n",
       "  <tbody>\n",
       "    <tr>\n",
       "      <th>0</th>\n",
       "      <td>A1</td>\n",
       "      <td>1.90</td>\n",
       "      <td>0.4000</td>\n",
       "      <td>255</td>\n",
       "      <td>257</td>\n",
       "      <td>262</td>\n",
       "      <td>10.9</td>\n",
       "      <td>4.867141</td>\n",
       "      <td>2.239508</td>\n",
       "      <td>6.032859</td>\n",
       "    </tr>\n",
       "    <tr>\n",
       "      <th>1</th>\n",
       "      <td>A2</td>\n",
       "      <td>1.20</td>\n",
       "      <td>0.4000</td>\n",
       "      <td>325</td>\n",
       "      <td>288</td>\n",
       "      <td>278</td>\n",
       "      <td>9.8</td>\n",
       "      <td>3.073984</td>\n",
       "      <td>3.188045</td>\n",
       "      <td>6.726016</td>\n",
       "    </tr>\n",
       "    <tr>\n",
       "      <th>2</th>\n",
       "      <td>A3</td>\n",
       "      <td>2.30</td>\n",
       "      <td>0.4000</td>\n",
       "      <td>185</td>\n",
       "      <td>235</td>\n",
       "      <td>237</td>\n",
       "      <td>11.0</td>\n",
       "      <td>5.891803</td>\n",
       "      <td>1.867001</td>\n",
       "      <td>5.108197</td>\n",
       "    </tr>\n",
       "    <tr>\n",
       "      <th>3</th>\n",
       "      <td>A4</td>\n",
       "      <td>1.40</td>\n",
       "      <td>0.4128</td>\n",
       "      <td>203</td>\n",
       "      <td>245</td>\n",
       "      <td>245</td>\n",
       "      <td>9.0</td>\n",
       "      <td>3.701077</td>\n",
       "      <td>2.431725</td>\n",
       "      <td>5.298923</td>\n",
       "    </tr>\n",
       "    <tr>\n",
       "      <th>4</th>\n",
       "      <td>A5</td>\n",
       "      <td>1.20</td>\n",
       "      <td>0.4000</td>\n",
       "      <td>229</td>\n",
       "      <td>253</td>\n",
       "      <td>249</td>\n",
       "      <td>10.9</td>\n",
       "      <td>3.073984</td>\n",
       "      <td>3.545887</td>\n",
       "      <td>7.826016</td>\n",
       "    </tr>\n",
       "    <tr>\n",
       "      <th>5</th>\n",
       "      <td>A7</td>\n",
       "      <td>1.30</td>\n",
       "      <td>0.4128</td>\n",
       "      <td>357</td>\n",
       "      <td>305</td>\n",
       "      <td>290</td>\n",
       "      <td>10.7</td>\n",
       "      <td>3.436714</td>\n",
       "      <td>3.113439</td>\n",
       "      <td>7.263286</td>\n",
       "    </tr>\n",
       "    <tr>\n",
       "      <th>6</th>\n",
       "      <td>A8</td>\n",
       "      <td>2.00</td>\n",
       "      <td>0.4000</td>\n",
       "      <td>309</td>\n",
       "      <td>275</td>\n",
       "      <td>285</td>\n",
       "      <td>11.2</td>\n",
       "      <td>5.123307</td>\n",
       "      <td>2.186088</td>\n",
       "      <td>6.076693</td>\n",
       "    </tr>\n",
       "    <tr>\n",
       "      <th>7</th>\n",
       "      <td>A9</td>\n",
       "      <td>1.90</td>\n",
       "      <td>0.4128</td>\n",
       "      <td>321</td>\n",
       "      <td>285</td>\n",
       "      <td>280</td>\n",
       "      <td>9.2</td>\n",
       "      <td>5.022890</td>\n",
       "      <td>1.831615</td>\n",
       "      <td>4.177110</td>\n",
       "    </tr>\n",
       "    <tr>\n",
       "      <th>8</th>\n",
       "      <td>A10</td>\n",
       "      <td>1.45</td>\n",
       "      <td>0.4082</td>\n",
       "      <td>245</td>\n",
       "      <td>255</td>\n",
       "      <td>259</td>\n",
       "      <td>9.5</td>\n",
       "      <td>3.790542</td>\n",
       "      <td>2.506238</td>\n",
       "      <td>5.709458</td>\n",
       "    </tr>\n",
       "    <tr>\n",
       "      <th>9</th>\n",
       "      <td>A11</td>\n",
       "      <td>2.00</td>\n",
       "      <td>0.4128</td>\n",
       "      <td>275</td>\n",
       "      <td>267</td>\n",
       "      <td>270</td>\n",
       "      <td>10.5</td>\n",
       "      <td>5.287252</td>\n",
       "      <td>1.985909</td>\n",
       "      <td>5.212748</td>\n",
       "    </tr>\n",
       "  </tbody>\n",
       "</table>\n",
       "</div>"
      ],
      "text/plain": [
       "  Name     p  C NaOH  Khối lượng(g)  Đường kính ngang(mm)  Đường kính dọc(mm)  \\\n",
       "0   A1  1.90  0.4000            255                   257                 262   \n",
       "1   A2  1.20  0.4000            325                   288                 278   \n",
       "2   A3  2.30  0.4000            185                   235                 237   \n",
       "3   A4  1.40  0.4128            203                   245                 245   \n",
       "4   A5  1.20  0.4000            229                   253                 249   \n",
       "5   A7  1.30  0.4128            357                   305                 290   \n",
       "6   A8  2.00  0.4000            309                   275                 285   \n",
       "7   A9  1.90  0.4128            321                   285                 280   \n",
       "8  A10  1.45  0.4082            245                   255                 259   \n",
       "9  A11  2.00  0.4128            275                   267                 270   \n",
       "\n",
       "   Độ đường (Brix %)    TA (%)   Brix:TA     BrmTA  \n",
       "0               10.9  4.867141  2.239508  6.032859  \n",
       "1                9.8  3.073984  3.188045  6.726016  \n",
       "2               11.0  5.891803  1.867001  5.108197  \n",
       "3                9.0  3.701077  2.431725  5.298923  \n",
       "4               10.9  3.073984  3.545887  7.826016  \n",
       "5               10.7  3.436714  3.113439  7.263286  \n",
       "6               11.2  5.123307  2.186088  6.076693  \n",
       "7                9.2  5.022890  1.831615  4.177110  \n",
       "8                9.5  3.790542  2.506238  5.709458  \n",
       "9               10.5  5.287252  1.985909  5.212748  "
      ]
     },
     "execution_count": 206,
     "metadata": {},
     "output_type": "execute_result"
    }
   ],
   "source": [
    "raw_df.head(10)"
   ]
  },
  {
   "cell_type": "code",
   "execution_count": 207,
   "metadata": {
    "colab": {
     "base_uri": "https://localhost:8080/"
    },
    "executionInfo": {
     "elapsed": 30,
     "status": "ok",
     "timestamp": 1711202415448,
     "user": {
      "displayName": "Hieu Pham",
      "userId": "08582879575248824013"
     },
     "user_tz": -420
    },
    "id": "PLTsz34GNddp",
    "outputId": "52c5ecce-bdc0-4127-c5e0-8f4a0ab6bc99"
   },
   "outputs": [
    {
     "data": {
      "text/plain": [
       "Index(['Name', 'p', 'C NaOH', 'Khối lượng(g)', 'Đường kính ngang(mm)',\n",
       "       'Đường kính dọc(mm)', 'Độ đường (Brix %)', 'TA (%)', 'Brix:TA',\n",
       "       'BrmTA'],\n",
       "      dtype='object')"
      ]
     },
     "execution_count": 207,
     "metadata": {},
     "output_type": "execute_result"
    }
   ],
   "source": [
    "raw_df.columns"
   ]
  },
  {
   "cell_type": "code",
   "execution_count": 208,
   "metadata": {
    "colab": {
     "base_uri": "https://localhost:8080/"
    },
    "executionInfo": {
     "elapsed": 25,
     "status": "ok",
     "timestamp": 1711202415448,
     "user": {
      "displayName": "Hieu Pham",
      "userId": "08582879575248824013"
     },
     "user_tz": -420
    },
    "id": "YTUR4mfbNddq",
    "outputId": "d775dccd-85af-442d-e644-a96ce0cd0cde"
   },
   "outputs": [
    {
     "data": {
      "text/plain": [
       "(81, 10)"
      ]
     },
     "execution_count": 208,
     "metadata": {},
     "output_type": "execute_result"
    }
   ],
   "source": [
    "raw_df.shape"
   ]
  },
  {
   "cell_type": "code",
   "execution_count": 209,
   "metadata": {
    "executionInfo": {
     "elapsed": 23,
     "status": "ok",
     "timestamp": 1711202415449,
     "user": {
      "displayName": "Hieu Pham",
      "userId": "08582879575248824013"
     },
     "user_tz": -420
    },
    "id": "YjmhHFxCNddr"
   },
   "outputs": [],
   "source": [
    "new_column_names = {\n",
    "    \"Name\": \"name\",\n",
    "    \"p\": \"v_naoh\",\n",
    "    \"C NaOH\": \"c_naoh\",\n",
    "    \"Khối lượng(g)\": \"mass\",\n",
    "    \"Đường kính ngang(mm)\": \"h_diameter\",\n",
    "    \"Đường kính dọc(mm)\": \"v_diameter\",\n",
    "    \"Độ đường (Brix %)\": \"brix\",\n",
    "    \"TA (%)\": \"ta\",\n",
    "    \"Brix:TA\": \"brix_ta\",\n",
    "    \"BrmTA\": \"brm_ta\",\n",
    "}\n",
    "\n",
    "std_col_name_df = raw_df.rename(columns=new_column_names)"
   ]
  },
  {
   "cell_type": "code",
   "execution_count": 210,
   "metadata": {
    "colab": {
     "base_uri": "https://localhost:8080/",
     "height": 363
    },
    "executionInfo": {
     "elapsed": 23,
     "status": "ok",
     "timestamp": 1711202415449,
     "user": {
      "displayName": "Hieu Pham",
      "userId": "08582879575248824013"
     },
     "user_tz": -420
    },
    "id": "_H6ODEAYNdds",
    "outputId": "c7df86de-b550-423b-b6a5-44f16315a607"
   },
   "outputs": [
    {
     "data": {
      "text/html": [
       "<div>\n",
       "<style scoped>\n",
       "    .dataframe tbody tr th:only-of-type {\n",
       "        vertical-align: middle;\n",
       "    }\n",
       "\n",
       "    .dataframe tbody tr th {\n",
       "        vertical-align: top;\n",
       "    }\n",
       "\n",
       "    .dataframe thead th {\n",
       "        text-align: right;\n",
       "    }\n",
       "</style>\n",
       "<table border=\"1\" class=\"dataframe\">\n",
       "  <thead>\n",
       "    <tr style=\"text-align: right;\">\n",
       "      <th></th>\n",
       "      <th>name</th>\n",
       "      <th>v_naoh</th>\n",
       "      <th>c_naoh</th>\n",
       "      <th>mass</th>\n",
       "      <th>h_diameter</th>\n",
       "      <th>v_diameter</th>\n",
       "      <th>brix</th>\n",
       "      <th>ta</th>\n",
       "      <th>brix_ta</th>\n",
       "      <th>brm_ta</th>\n",
       "    </tr>\n",
       "  </thead>\n",
       "  <tbody>\n",
       "    <tr>\n",
       "      <th>0</th>\n",
       "      <td>A1</td>\n",
       "      <td>1.90</td>\n",
       "      <td>0.4000</td>\n",
       "      <td>255</td>\n",
       "      <td>257</td>\n",
       "      <td>262</td>\n",
       "      <td>10.9</td>\n",
       "      <td>4.867141</td>\n",
       "      <td>2.239508</td>\n",
       "      <td>6.032859</td>\n",
       "    </tr>\n",
       "    <tr>\n",
       "      <th>1</th>\n",
       "      <td>A2</td>\n",
       "      <td>1.20</td>\n",
       "      <td>0.4000</td>\n",
       "      <td>325</td>\n",
       "      <td>288</td>\n",
       "      <td>278</td>\n",
       "      <td>9.8</td>\n",
       "      <td>3.073984</td>\n",
       "      <td>3.188045</td>\n",
       "      <td>6.726016</td>\n",
       "    </tr>\n",
       "    <tr>\n",
       "      <th>2</th>\n",
       "      <td>A3</td>\n",
       "      <td>2.30</td>\n",
       "      <td>0.4000</td>\n",
       "      <td>185</td>\n",
       "      <td>235</td>\n",
       "      <td>237</td>\n",
       "      <td>11.0</td>\n",
       "      <td>5.891803</td>\n",
       "      <td>1.867001</td>\n",
       "      <td>5.108197</td>\n",
       "    </tr>\n",
       "    <tr>\n",
       "      <th>3</th>\n",
       "      <td>A4</td>\n",
       "      <td>1.40</td>\n",
       "      <td>0.4128</td>\n",
       "      <td>203</td>\n",
       "      <td>245</td>\n",
       "      <td>245</td>\n",
       "      <td>9.0</td>\n",
       "      <td>3.701077</td>\n",
       "      <td>2.431725</td>\n",
       "      <td>5.298923</td>\n",
       "    </tr>\n",
       "    <tr>\n",
       "      <th>4</th>\n",
       "      <td>A5</td>\n",
       "      <td>1.20</td>\n",
       "      <td>0.4000</td>\n",
       "      <td>229</td>\n",
       "      <td>253</td>\n",
       "      <td>249</td>\n",
       "      <td>10.9</td>\n",
       "      <td>3.073984</td>\n",
       "      <td>3.545887</td>\n",
       "      <td>7.826016</td>\n",
       "    </tr>\n",
       "    <tr>\n",
       "      <th>5</th>\n",
       "      <td>A7</td>\n",
       "      <td>1.30</td>\n",
       "      <td>0.4128</td>\n",
       "      <td>357</td>\n",
       "      <td>305</td>\n",
       "      <td>290</td>\n",
       "      <td>10.7</td>\n",
       "      <td>3.436714</td>\n",
       "      <td>3.113439</td>\n",
       "      <td>7.263286</td>\n",
       "    </tr>\n",
       "    <tr>\n",
       "      <th>6</th>\n",
       "      <td>A8</td>\n",
       "      <td>2.00</td>\n",
       "      <td>0.4000</td>\n",
       "      <td>309</td>\n",
       "      <td>275</td>\n",
       "      <td>285</td>\n",
       "      <td>11.2</td>\n",
       "      <td>5.123307</td>\n",
       "      <td>2.186088</td>\n",
       "      <td>6.076693</td>\n",
       "    </tr>\n",
       "    <tr>\n",
       "      <th>7</th>\n",
       "      <td>A9</td>\n",
       "      <td>1.90</td>\n",
       "      <td>0.4128</td>\n",
       "      <td>321</td>\n",
       "      <td>285</td>\n",
       "      <td>280</td>\n",
       "      <td>9.2</td>\n",
       "      <td>5.022890</td>\n",
       "      <td>1.831615</td>\n",
       "      <td>4.177110</td>\n",
       "    </tr>\n",
       "    <tr>\n",
       "      <th>8</th>\n",
       "      <td>A10</td>\n",
       "      <td>1.45</td>\n",
       "      <td>0.4082</td>\n",
       "      <td>245</td>\n",
       "      <td>255</td>\n",
       "      <td>259</td>\n",
       "      <td>9.5</td>\n",
       "      <td>3.790542</td>\n",
       "      <td>2.506238</td>\n",
       "      <td>5.709458</td>\n",
       "    </tr>\n",
       "    <tr>\n",
       "      <th>9</th>\n",
       "      <td>A11</td>\n",
       "      <td>2.00</td>\n",
       "      <td>0.4128</td>\n",
       "      <td>275</td>\n",
       "      <td>267</td>\n",
       "      <td>270</td>\n",
       "      <td>10.5</td>\n",
       "      <td>5.287252</td>\n",
       "      <td>1.985909</td>\n",
       "      <td>5.212748</td>\n",
       "    </tr>\n",
       "  </tbody>\n",
       "</table>\n",
       "</div>"
      ],
      "text/plain": [
       "  name  v_naoh  c_naoh  mass  h_diameter  v_diameter  brix        ta  \\\n",
       "0   A1    1.90  0.4000   255         257         262  10.9  4.867141   \n",
       "1   A2    1.20  0.4000   325         288         278   9.8  3.073984   \n",
       "2   A3    2.30  0.4000   185         235         237  11.0  5.891803   \n",
       "3   A4    1.40  0.4128   203         245         245   9.0  3.701077   \n",
       "4   A5    1.20  0.4000   229         253         249  10.9  3.073984   \n",
       "5   A7    1.30  0.4128   357         305         290  10.7  3.436714   \n",
       "6   A8    2.00  0.4000   309         275         285  11.2  5.123307   \n",
       "7   A9    1.90  0.4128   321         285         280   9.2  5.022890   \n",
       "8  A10    1.45  0.4082   245         255         259   9.5  3.790542   \n",
       "9  A11    2.00  0.4128   275         267         270  10.5  5.287252   \n",
       "\n",
       "    brix_ta    brm_ta  \n",
       "0  2.239508  6.032859  \n",
       "1  3.188045  6.726016  \n",
       "2  1.867001  5.108197  \n",
       "3  2.431725  5.298923  \n",
       "4  3.545887  7.826016  \n",
       "5  3.113439  7.263286  \n",
       "6  2.186088  6.076693  \n",
       "7  1.831615  4.177110  \n",
       "8  2.506238  5.709458  \n",
       "9  1.985909  5.212748  "
      ]
     },
     "execution_count": 210,
     "metadata": {},
     "output_type": "execute_result"
    }
   ],
   "source": [
    "std_col_name_df.head(10)"
   ]
  },
  {
   "cell_type": "code",
   "execution_count": 211,
   "metadata": {
    "executionInfo": {
     "elapsed": 22,
     "status": "ok",
     "timestamp": 1711202415450,
     "user": {
      "displayName": "Hieu Pham",
      "userId": "08582879575248824013"
     },
     "user_tz": -420
    },
    "id": "3oM4ZelUNdds"
   },
   "outputs": [],
   "source": [
    "std_col_name_dataset = Dataset(\"std_col_name\", std_col_name_df, ScalerType.Raw_)"
   ]
  },
  {
   "cell_type": "code",
   "execution_count": 212,
   "metadata": {
    "colab": {
     "base_uri": "https://localhost:8080/",
     "height": 459
    },
    "executionInfo": {
     "elapsed": 21,
     "status": "ok",
     "timestamp": 1711202415450,
     "user": {
      "displayName": "Hieu Pham",
      "userId": "08582879575248824013"
     },
     "user_tz": -420
    },
    "id": "8Uv_BJwfNddt",
    "outputId": "a1ef2b8b-1062-45e7-8185-33af0c333e07"
   },
   "outputs": [
    {
     "name": "stdout",
     "output_type": "stream",
     "text": [
      "['name']\n",
      "['v_naoh', 'c_naoh', 'mass', 'h_diameter', 'v_diameter', 'brix', 'ta', 'brix_ta', 'brm_ta']\n"
     ]
    },
    {
     "data": {
      "text/html": [
       "<div>\n",
       "<style scoped>\n",
       "    .dataframe tbody tr th:only-of-type {\n",
       "        vertical-align: middle;\n",
       "    }\n",
       "\n",
       "    .dataframe tbody tr th {\n",
       "        vertical-align: top;\n",
       "    }\n",
       "\n",
       "    .dataframe thead th {\n",
       "        text-align: right;\n",
       "    }\n",
       "</style>\n",
       "<table border=\"1\" class=\"dataframe\">\n",
       "  <thead>\n",
       "    <tr style=\"text-align: right;\">\n",
       "      <th></th>\n",
       "      <th>name</th>\n",
       "      <th>v_naoh</th>\n",
       "      <th>c_naoh</th>\n",
       "      <th>mass</th>\n",
       "      <th>h_diameter</th>\n",
       "      <th>v_diameter</th>\n",
       "      <th>brix</th>\n",
       "      <th>ta</th>\n",
       "      <th>brix_ta</th>\n",
       "      <th>brm_ta</th>\n",
       "    </tr>\n",
       "  </thead>\n",
       "  <tbody>\n",
       "    <tr>\n",
       "      <th>0</th>\n",
       "      <td>A1</td>\n",
       "      <td>1.90</td>\n",
       "      <td>0.4000</td>\n",
       "      <td>255</td>\n",
       "      <td>257</td>\n",
       "      <td>262</td>\n",
       "      <td>10.9</td>\n",
       "      <td>4.867141</td>\n",
       "      <td>2.239508</td>\n",
       "      <td>6.032859</td>\n",
       "    </tr>\n",
       "    <tr>\n",
       "      <th>1</th>\n",
       "      <td>A2</td>\n",
       "      <td>1.20</td>\n",
       "      <td>0.4000</td>\n",
       "      <td>325</td>\n",
       "      <td>288</td>\n",
       "      <td>278</td>\n",
       "      <td>9.8</td>\n",
       "      <td>3.073984</td>\n",
       "      <td>3.188045</td>\n",
       "      <td>6.726016</td>\n",
       "    </tr>\n",
       "    <tr>\n",
       "      <th>2</th>\n",
       "      <td>A3</td>\n",
       "      <td>2.30</td>\n",
       "      <td>0.4000</td>\n",
       "      <td>185</td>\n",
       "      <td>235</td>\n",
       "      <td>237</td>\n",
       "      <td>11.0</td>\n",
       "      <td>5.891803</td>\n",
       "      <td>1.867001</td>\n",
       "      <td>5.108197</td>\n",
       "    </tr>\n",
       "    <tr>\n",
       "      <th>3</th>\n",
       "      <td>A4</td>\n",
       "      <td>1.40</td>\n",
       "      <td>0.4128</td>\n",
       "      <td>203</td>\n",
       "      <td>245</td>\n",
       "      <td>245</td>\n",
       "      <td>9.0</td>\n",
       "      <td>3.701077</td>\n",
       "      <td>2.431725</td>\n",
       "      <td>5.298923</td>\n",
       "    </tr>\n",
       "    <tr>\n",
       "      <th>4</th>\n",
       "      <td>A5</td>\n",
       "      <td>1.20</td>\n",
       "      <td>0.4000</td>\n",
       "      <td>229</td>\n",
       "      <td>253</td>\n",
       "      <td>249</td>\n",
       "      <td>10.9</td>\n",
       "      <td>3.073984</td>\n",
       "      <td>3.545887</td>\n",
       "      <td>7.826016</td>\n",
       "    </tr>\n",
       "    <tr>\n",
       "      <th>...</th>\n",
       "      <td>...</td>\n",
       "      <td>...</td>\n",
       "      <td>...</td>\n",
       "      <td>...</td>\n",
       "      <td>...</td>\n",
       "      <td>...</td>\n",
       "      <td>...</td>\n",
       "      <td>...</td>\n",
       "      <td>...</td>\n",
       "      <td>...</td>\n",
       "    </tr>\n",
       "    <tr>\n",
       "      <th>76</th>\n",
       "      <td>C24</td>\n",
       "      <td>1.60</td>\n",
       "      <td>0.4016</td>\n",
       "      <td>177</td>\n",
       "      <td>225</td>\n",
       "      <td>216</td>\n",
       "      <td>12.5</td>\n",
       "      <td>4.115040</td>\n",
       "      <td>3.037638</td>\n",
       "      <td>8.384960</td>\n",
       "    </tr>\n",
       "    <tr>\n",
       "      <th>77</th>\n",
       "      <td>C25</td>\n",
       "      <td>1.60</td>\n",
       "      <td>0.4016</td>\n",
       "      <td>173</td>\n",
       "      <td>216</td>\n",
       "      <td>220</td>\n",
       "      <td>11.1</td>\n",
       "      <td>4.115040</td>\n",
       "      <td>2.697422</td>\n",
       "      <td>6.984960</td>\n",
       "    </tr>\n",
       "    <tr>\n",
       "      <th>78</th>\n",
       "      <td>C26</td>\n",
       "      <td>0.95</td>\n",
       "      <td>0.4016</td>\n",
       "      <td>126</td>\n",
       "      <td>195</td>\n",
       "      <td>197</td>\n",
       "      <td>12.8</td>\n",
       "      <td>2.443305</td>\n",
       "      <td>5.238806</td>\n",
       "      <td>10.356695</td>\n",
       "    </tr>\n",
       "    <tr>\n",
       "      <th>79</th>\n",
       "      <td>C28</td>\n",
       "      <td>1.70</td>\n",
       "      <td>0.4016</td>\n",
       "      <td>181</td>\n",
       "      <td>216</td>\n",
       "      <td>232</td>\n",
       "      <td>11.8</td>\n",
       "      <td>4.372230</td>\n",
       "      <td>2.698852</td>\n",
       "      <td>7.427770</td>\n",
       "    </tr>\n",
       "    <tr>\n",
       "      <th>80</th>\n",
       "      <td>C29</td>\n",
       "      <td>1.35</td>\n",
       "      <td>0.4230</td>\n",
       "      <td>166</td>\n",
       "      <td>214</td>\n",
       "      <td>214</td>\n",
       "      <td>12.3</td>\n",
       "      <td>3.657080</td>\n",
       "      <td>3.363339</td>\n",
       "      <td>8.642920</td>\n",
       "    </tr>\n",
       "  </tbody>\n",
       "</table>\n",
       "<p>81 rows × 10 columns</p>\n",
       "</div>"
      ],
      "text/plain": [
       "   name  v_naoh  c_naoh  mass  h_diameter  v_diameter  brix        ta  \\\n",
       "0    A1    1.90  0.4000   255         257         262  10.9  4.867141   \n",
       "1    A2    1.20  0.4000   325         288         278   9.8  3.073984   \n",
       "2    A3    2.30  0.4000   185         235         237  11.0  5.891803   \n",
       "3    A4    1.40  0.4128   203         245         245   9.0  3.701077   \n",
       "4    A5    1.20  0.4000   229         253         249  10.9  3.073984   \n",
       "..  ...     ...     ...   ...         ...         ...   ...       ...   \n",
       "76  C24    1.60  0.4016   177         225         216  12.5  4.115040   \n",
       "77  C25    1.60  0.4016   173         216         220  11.1  4.115040   \n",
       "78  C26    0.95  0.4016   126         195         197  12.8  2.443305   \n",
       "79  C28    1.70  0.4016   181         216         232  11.8  4.372230   \n",
       "80  C29    1.35  0.4230   166         214         214  12.3  3.657080   \n",
       "\n",
       "     brix_ta     brm_ta  \n",
       "0   2.239508   6.032859  \n",
       "1   3.188045   6.726016  \n",
       "2   1.867001   5.108197  \n",
       "3   2.431725   5.298923  \n",
       "4   3.545887   7.826016  \n",
       "..       ...        ...  \n",
       "76  3.037638   8.384960  \n",
       "77  2.697422   6.984960  \n",
       "78  5.238806  10.356695  \n",
       "79  2.698852   7.427770  \n",
       "80  3.363339   8.642920  \n",
       "\n",
       "[81 rows x 10 columns]"
      ]
     },
     "execution_count": 212,
     "metadata": {},
     "output_type": "execute_result"
    }
   ],
   "source": [
    "print(std_col_name_dataset.categorical_cols)\n",
    "print(std_col_name_dataset.numeric_cols)\n",
    "std_col_name_dataset.dataframe"
   ]
  },
  {
   "cell_type": "code",
   "execution_count": 213,
   "metadata": {
    "executionInfo": {
     "elapsed": 17,
     "status": "ok",
     "timestamp": 1711202415451,
     "user": {
      "displayName": "Hieu Pham",
      "userId": "08582879575248824013"
     },
     "user_tz": -420
    },
    "id": "Em7MJJCBNddz"
   },
   "outputs": [],
   "source": [
    "list_dataset[\"std_col_name\"] = std_col_name_dataset"
   ]
  },
  {
   "cell_type": "code",
   "execution_count": 214,
   "metadata": {
    "colab": {
     "base_uri": "https://localhost:8080/",
     "height": 363
    },
    "executionInfo": {
     "elapsed": 579,
     "status": "ok",
     "timestamp": 1711202416014,
     "user": {
      "displayName": "Hieu Pham",
      "userId": "08582879575248824013"
     },
     "user_tz": -420
    },
    "id": "tGfb1TdVNdd0",
    "outputId": "df1a4221-df7c-446e-c9ef-42b85c6eaccb"
   },
   "outputs": [
    {
     "data": {
      "text/html": [
       "<div>\n",
       "<style scoped>\n",
       "    .dataframe tbody tr th:only-of-type {\n",
       "        vertical-align: middle;\n",
       "    }\n",
       "\n",
       "    .dataframe tbody tr th {\n",
       "        vertical-align: top;\n",
       "    }\n",
       "\n",
       "    .dataframe thead th {\n",
       "        text-align: right;\n",
       "    }\n",
       "</style>\n",
       "<table border=\"1\" class=\"dataframe\">\n",
       "  <thead>\n",
       "    <tr style=\"text-align: right;\">\n",
       "      <th></th>\n",
       "      <th>name</th>\n",
       "      <th>v_naoh</th>\n",
       "      <th>c_naoh</th>\n",
       "      <th>mass</th>\n",
       "      <th>h_diameter</th>\n",
       "      <th>v_diameter</th>\n",
       "      <th>brix</th>\n",
       "      <th>ta</th>\n",
       "      <th>brix_ta</th>\n",
       "      <th>brm_ta</th>\n",
       "    </tr>\n",
       "  </thead>\n",
       "  <tbody>\n",
       "    <tr>\n",
       "      <th>0</th>\n",
       "      <td>A1</td>\n",
       "      <td>1.90</td>\n",
       "      <td>0.4000</td>\n",
       "      <td>255</td>\n",
       "      <td>257</td>\n",
       "      <td>262</td>\n",
       "      <td>10.9</td>\n",
       "      <td>4.867141</td>\n",
       "      <td>2.239508</td>\n",
       "      <td>6.032859</td>\n",
       "    </tr>\n",
       "    <tr>\n",
       "      <th>1</th>\n",
       "      <td>A2</td>\n",
       "      <td>1.20</td>\n",
       "      <td>0.4000</td>\n",
       "      <td>325</td>\n",
       "      <td>288</td>\n",
       "      <td>278</td>\n",
       "      <td>9.8</td>\n",
       "      <td>3.073984</td>\n",
       "      <td>3.188045</td>\n",
       "      <td>6.726016</td>\n",
       "    </tr>\n",
       "    <tr>\n",
       "      <th>2</th>\n",
       "      <td>A3</td>\n",
       "      <td>2.30</td>\n",
       "      <td>0.4000</td>\n",
       "      <td>185</td>\n",
       "      <td>235</td>\n",
       "      <td>237</td>\n",
       "      <td>11.0</td>\n",
       "      <td>5.891803</td>\n",
       "      <td>1.867001</td>\n",
       "      <td>5.108197</td>\n",
       "    </tr>\n",
       "    <tr>\n",
       "      <th>3</th>\n",
       "      <td>A4</td>\n",
       "      <td>1.40</td>\n",
       "      <td>0.4128</td>\n",
       "      <td>203</td>\n",
       "      <td>245</td>\n",
       "      <td>245</td>\n",
       "      <td>9.0</td>\n",
       "      <td>3.701077</td>\n",
       "      <td>2.431725</td>\n",
       "      <td>5.298923</td>\n",
       "    </tr>\n",
       "    <tr>\n",
       "      <th>4</th>\n",
       "      <td>A5</td>\n",
       "      <td>1.20</td>\n",
       "      <td>0.4000</td>\n",
       "      <td>229</td>\n",
       "      <td>253</td>\n",
       "      <td>249</td>\n",
       "      <td>10.9</td>\n",
       "      <td>3.073984</td>\n",
       "      <td>3.545887</td>\n",
       "      <td>7.826016</td>\n",
       "    </tr>\n",
       "    <tr>\n",
       "      <th>5</th>\n",
       "      <td>A7</td>\n",
       "      <td>1.30</td>\n",
       "      <td>0.4128</td>\n",
       "      <td>357</td>\n",
       "      <td>305</td>\n",
       "      <td>290</td>\n",
       "      <td>10.7</td>\n",
       "      <td>3.436714</td>\n",
       "      <td>3.113439</td>\n",
       "      <td>7.263286</td>\n",
       "    </tr>\n",
       "    <tr>\n",
       "      <th>6</th>\n",
       "      <td>A8</td>\n",
       "      <td>2.00</td>\n",
       "      <td>0.4000</td>\n",
       "      <td>309</td>\n",
       "      <td>275</td>\n",
       "      <td>285</td>\n",
       "      <td>11.2</td>\n",
       "      <td>5.123307</td>\n",
       "      <td>2.186088</td>\n",
       "      <td>6.076693</td>\n",
       "    </tr>\n",
       "    <tr>\n",
       "      <th>7</th>\n",
       "      <td>A9</td>\n",
       "      <td>1.90</td>\n",
       "      <td>0.4128</td>\n",
       "      <td>321</td>\n",
       "      <td>285</td>\n",
       "      <td>280</td>\n",
       "      <td>9.2</td>\n",
       "      <td>5.022890</td>\n",
       "      <td>1.831615</td>\n",
       "      <td>4.177110</td>\n",
       "    </tr>\n",
       "    <tr>\n",
       "      <th>8</th>\n",
       "      <td>A10</td>\n",
       "      <td>1.45</td>\n",
       "      <td>0.4082</td>\n",
       "      <td>245</td>\n",
       "      <td>255</td>\n",
       "      <td>259</td>\n",
       "      <td>9.5</td>\n",
       "      <td>3.790542</td>\n",
       "      <td>2.506238</td>\n",
       "      <td>5.709458</td>\n",
       "    </tr>\n",
       "    <tr>\n",
       "      <th>9</th>\n",
       "      <td>A11</td>\n",
       "      <td>2.00</td>\n",
       "      <td>0.4128</td>\n",
       "      <td>275</td>\n",
       "      <td>267</td>\n",
       "      <td>270</td>\n",
       "      <td>10.5</td>\n",
       "      <td>5.287252</td>\n",
       "      <td>1.985909</td>\n",
       "      <td>5.212748</td>\n",
       "    </tr>\n",
       "  </tbody>\n",
       "</table>\n",
       "</div>"
      ],
      "text/plain": [
       "  name  v_naoh  c_naoh  mass  h_diameter  v_diameter  brix        ta  \\\n",
       "0   A1    1.90  0.4000   255         257         262  10.9  4.867141   \n",
       "1   A2    1.20  0.4000   325         288         278   9.8  3.073984   \n",
       "2   A3    2.30  0.4000   185         235         237  11.0  5.891803   \n",
       "3   A4    1.40  0.4128   203         245         245   9.0  3.701077   \n",
       "4   A5    1.20  0.4000   229         253         249  10.9  3.073984   \n",
       "5   A7    1.30  0.4128   357         305         290  10.7  3.436714   \n",
       "6   A8    2.00  0.4000   309         275         285  11.2  5.123307   \n",
       "7   A9    1.90  0.4128   321         285         280   9.2  5.022890   \n",
       "8  A10    1.45  0.4082   245         255         259   9.5  3.790542   \n",
       "9  A11    2.00  0.4128   275         267         270  10.5  5.287252   \n",
       "\n",
       "    brix_ta    brm_ta  \n",
       "0  2.239508  6.032859  \n",
       "1  3.188045  6.726016  \n",
       "2  1.867001  5.108197  \n",
       "3  2.431725  5.298923  \n",
       "4  3.545887  7.826016  \n",
       "5  3.113439  7.263286  \n",
       "6  2.186088  6.076693  \n",
       "7  1.831615  4.177110  \n",
       "8  2.506238  5.709458  \n",
       "9  1.985909  5.212748  "
      ]
     },
     "execution_count": 214,
     "metadata": {},
     "output_type": "execute_result"
    }
   ],
   "source": [
    "list_dataset[\"std_col_name\"].get_dataframe().head(10)"
   ]
  },
  {
   "cell_type": "code",
   "execution_count": 215,
   "metadata": {
    "executionInfo": {
     "elapsed": 38,
     "status": "ok",
     "timestamp": 1711202416014,
     "user": {
      "displayName": "Hieu Pham",
      "userId": "08582879575248824013"
     },
     "user_tz": -420
    },
    "id": "XVin3pUsNdd0"
   },
   "outputs": [],
   "source": [
    "if GENERATE_PLOTS:\n",
    "    plot_along_dataset(list_dataset[\"std_col_name\"], 3, 3, (12, 12))"
   ]
  },
  {
   "cell_type": "markdown",
   "metadata": {
    "id": "5YyGzL-eNdd0"
   },
   "source": [
    "#### From the shape of lines in graph \"mass\", \"h_diameter\", \"v_diameter\" and \"brix\", we can see the lines could be divided into 3 levels along dataset. We assume that there are 3 types of data in the dataset. We could double check the name / label of dataset."
   ]
  },
  {
   "cell_type": "code",
   "execution_count": 216,
   "metadata": {
    "colab": {
     "base_uri": "https://localhost:8080/"
    },
    "executionInfo": {
     "elapsed": 38,
     "status": "ok",
     "timestamp": 1711202416015,
     "user": {
      "displayName": "Hieu Pham",
      "userId": "08582879575248824013"
     },
     "user_tz": -420
    },
    "id": "WfhqAzNhNdd9",
    "outputId": "5e648168-7cb6-41c7-efcf-591c9dd44381"
   },
   "outputs": [
    {
     "data": {
      "text/plain": [
       "Index(['name', 'v_naoh', 'c_naoh', 'mass', 'h_diameter', 'v_diameter', 'brix',\n",
       "       'ta', 'brix_ta', 'brm_ta'],\n",
       "      dtype='object')"
      ]
     },
     "execution_count": 216,
     "metadata": {},
     "output_type": "execute_result"
    }
   ],
   "source": [
    "list_dataset[\"std_col_name\"].get_dataframe().columns"
   ]
  },
  {
   "cell_type": "code",
   "execution_count": 217,
   "metadata": {
    "colab": {
     "base_uri": "https://localhost:8080/"
    },
    "executionInfo": {
     "elapsed": 30,
     "status": "ok",
     "timestamp": 1711202416015,
     "user": {
      "displayName": "Hieu Pham",
      "userId": "08582879575248824013"
     },
     "user_tz": -420
    },
    "id": "W_nDXW3fNdd-",
    "outputId": "5ee0a00f-e3f2-48b4-c5a0-dd7057eea221"
   },
   "outputs": [
    {
     "name": "stdout",
     "output_type": "stream",
     "text": [
      "['A1', 'A2', 'A3', 'A4', 'A5', 'A7', 'A8', 'A9', 'A10', 'A11', 'A13', 'A14', 'A15', 'A16', 'A17', 'A18', 'A19', 'A20', 'A21', 'A24', 'A25', 'A26', 'A27', 'A28', 'A29', 'A30', 'B1', 'B2', 'B3', 'B4', 'B5', 'B6', 'B7', 'B8', 'B9', 'B10', 'B11', 'B12', 'B13', 'B14', 'B15', 'B16', 'B17', 'B18', 'B19', 'B20', 'B21', 'B22', 'B23', 'B24', 'B25', 'B26', 'B27', 'B28', 'B29', 'B30', 'C1', 'C2', 'C3', 'C4', 'C5', 'C6', 'C8', 'C9', 'C10', 'C11', 'C12', 'C14', 'C15', 'C16', 'C17', 'C19', 'C20', 'C21', 'C22', 'C23', 'C24', 'C25', 'C26', 'C28', 'C29']\n"
     ]
    }
   ],
   "source": [
    "print(list_dataset[\"std_col_name\"].get_dataframe()[\"name\"].to_list())"
   ]
  },
  {
   "cell_type": "markdown",
   "metadata": {
    "id": "MWdi_NXJNdd-"
   },
   "source": [
    "We count the number of type to see whether the amount is equivalent to the shape of lines in the following graphs: \"mass\", \"h_diameter\", \"v_diameter\" and \"brix\""
   ]
  },
  {
   "cell_type": "code",
   "execution_count": 218,
   "metadata": {
    "colab": {
     "base_uri": "https://localhost:8080/"
    },
    "executionInfo": {
     "elapsed": 28,
     "status": "ok",
     "timestamp": 1711202416016,
     "user": {
      "displayName": "Hieu Pham",
      "userId": "08582879575248824013"
     },
     "user_tz": -420
    },
    "id": "Foz8CULeNdd_",
    "outputId": "caf47887-5db7-4549-8b3b-32dcb98a7d86"
   },
   "outputs": [
    {
     "data": {
      "text/plain": [
       "type\n",
       "A    26\n",
       "B    30\n",
       "C    25\n",
       "Name: count, dtype: int64"
      ]
     },
     "execution_count": 218,
     "metadata": {},
     "output_type": "execute_result"
    }
   ],
   "source": [
    "import re\n",
    "\n",
    "data_type = []\n",
    "for name in list_dataset[\"std_col_name\"].get_dataframe()[\"name\"].str.upper():\n",
    "    data_type.append(re.findall(\"[A-Z]\", name)[0])\n",
    "\n",
    "data_type = pd.DataFrame(data_type, columns=[\"type\"])\n",
    "data_type[\"count\"] = 1\n",
    "data_type.groupby([\"type\"]).count()[\"count\"]"
   ]
  },
  {
   "cell_type": "code",
   "execution_count": 219,
   "metadata": {
    "executionInfo": {
     "elapsed": 26,
     "status": "ok",
     "timestamp": 1711202416017,
     "user": {
      "displayName": "Hieu Pham",
      "userId": "08582879575248824013"
     },
     "user_tz": -420
    },
    "id": "Iyxnrxt3NdeB"
   },
   "outputs": [],
   "source": [
    "list_dataset[\"std_col_name\"].concat_dataframe(data_type[\"type\"])"
   ]
  },
  {
   "cell_type": "code",
   "execution_count": 220,
   "metadata": {
    "colab": {
     "base_uri": "https://localhost:8080/",
     "height": 363
    },
    "executionInfo": {
     "elapsed": 26,
     "status": "ok",
     "timestamp": 1711202416017,
     "user": {
      "displayName": "Hieu Pham",
      "userId": "08582879575248824013"
     },
     "user_tz": -420
    },
    "id": "DvANhKl1NdeB",
    "outputId": "8c71fd2a-aebd-41e6-f4e8-c6fb539ed65b"
   },
   "outputs": [
    {
     "data": {
      "text/html": [
       "<div>\n",
       "<style scoped>\n",
       "    .dataframe tbody tr th:only-of-type {\n",
       "        vertical-align: middle;\n",
       "    }\n",
       "\n",
       "    .dataframe tbody tr th {\n",
       "        vertical-align: top;\n",
       "    }\n",
       "\n",
       "    .dataframe thead th {\n",
       "        text-align: right;\n",
       "    }\n",
       "</style>\n",
       "<table border=\"1\" class=\"dataframe\">\n",
       "  <thead>\n",
       "    <tr style=\"text-align: right;\">\n",
       "      <th></th>\n",
       "      <th>name</th>\n",
       "      <th>v_naoh</th>\n",
       "      <th>c_naoh</th>\n",
       "      <th>mass</th>\n",
       "      <th>h_diameter</th>\n",
       "      <th>v_diameter</th>\n",
       "      <th>brix</th>\n",
       "      <th>ta</th>\n",
       "      <th>brix_ta</th>\n",
       "      <th>brm_ta</th>\n",
       "      <th>type</th>\n",
       "    </tr>\n",
       "  </thead>\n",
       "  <tbody>\n",
       "    <tr>\n",
       "      <th>0</th>\n",
       "      <td>A1</td>\n",
       "      <td>1.90</td>\n",
       "      <td>0.4000</td>\n",
       "      <td>255</td>\n",
       "      <td>257</td>\n",
       "      <td>262</td>\n",
       "      <td>10.9</td>\n",
       "      <td>4.867141</td>\n",
       "      <td>2.239508</td>\n",
       "      <td>6.032859</td>\n",
       "      <td>A</td>\n",
       "    </tr>\n",
       "    <tr>\n",
       "      <th>1</th>\n",
       "      <td>A2</td>\n",
       "      <td>1.20</td>\n",
       "      <td>0.4000</td>\n",
       "      <td>325</td>\n",
       "      <td>288</td>\n",
       "      <td>278</td>\n",
       "      <td>9.8</td>\n",
       "      <td>3.073984</td>\n",
       "      <td>3.188045</td>\n",
       "      <td>6.726016</td>\n",
       "      <td>A</td>\n",
       "    </tr>\n",
       "    <tr>\n",
       "      <th>2</th>\n",
       "      <td>A3</td>\n",
       "      <td>2.30</td>\n",
       "      <td>0.4000</td>\n",
       "      <td>185</td>\n",
       "      <td>235</td>\n",
       "      <td>237</td>\n",
       "      <td>11.0</td>\n",
       "      <td>5.891803</td>\n",
       "      <td>1.867001</td>\n",
       "      <td>5.108197</td>\n",
       "      <td>A</td>\n",
       "    </tr>\n",
       "    <tr>\n",
       "      <th>3</th>\n",
       "      <td>A4</td>\n",
       "      <td>1.40</td>\n",
       "      <td>0.4128</td>\n",
       "      <td>203</td>\n",
       "      <td>245</td>\n",
       "      <td>245</td>\n",
       "      <td>9.0</td>\n",
       "      <td>3.701077</td>\n",
       "      <td>2.431725</td>\n",
       "      <td>5.298923</td>\n",
       "      <td>A</td>\n",
       "    </tr>\n",
       "    <tr>\n",
       "      <th>4</th>\n",
       "      <td>A5</td>\n",
       "      <td>1.20</td>\n",
       "      <td>0.4000</td>\n",
       "      <td>229</td>\n",
       "      <td>253</td>\n",
       "      <td>249</td>\n",
       "      <td>10.9</td>\n",
       "      <td>3.073984</td>\n",
       "      <td>3.545887</td>\n",
       "      <td>7.826016</td>\n",
       "      <td>A</td>\n",
       "    </tr>\n",
       "    <tr>\n",
       "      <th>5</th>\n",
       "      <td>A7</td>\n",
       "      <td>1.30</td>\n",
       "      <td>0.4128</td>\n",
       "      <td>357</td>\n",
       "      <td>305</td>\n",
       "      <td>290</td>\n",
       "      <td>10.7</td>\n",
       "      <td>3.436714</td>\n",
       "      <td>3.113439</td>\n",
       "      <td>7.263286</td>\n",
       "      <td>A</td>\n",
       "    </tr>\n",
       "    <tr>\n",
       "      <th>6</th>\n",
       "      <td>A8</td>\n",
       "      <td>2.00</td>\n",
       "      <td>0.4000</td>\n",
       "      <td>309</td>\n",
       "      <td>275</td>\n",
       "      <td>285</td>\n",
       "      <td>11.2</td>\n",
       "      <td>5.123307</td>\n",
       "      <td>2.186088</td>\n",
       "      <td>6.076693</td>\n",
       "      <td>A</td>\n",
       "    </tr>\n",
       "    <tr>\n",
       "      <th>7</th>\n",
       "      <td>A9</td>\n",
       "      <td>1.90</td>\n",
       "      <td>0.4128</td>\n",
       "      <td>321</td>\n",
       "      <td>285</td>\n",
       "      <td>280</td>\n",
       "      <td>9.2</td>\n",
       "      <td>5.022890</td>\n",
       "      <td>1.831615</td>\n",
       "      <td>4.177110</td>\n",
       "      <td>A</td>\n",
       "    </tr>\n",
       "    <tr>\n",
       "      <th>8</th>\n",
       "      <td>A10</td>\n",
       "      <td>1.45</td>\n",
       "      <td>0.4082</td>\n",
       "      <td>245</td>\n",
       "      <td>255</td>\n",
       "      <td>259</td>\n",
       "      <td>9.5</td>\n",
       "      <td>3.790542</td>\n",
       "      <td>2.506238</td>\n",
       "      <td>5.709458</td>\n",
       "      <td>A</td>\n",
       "    </tr>\n",
       "    <tr>\n",
       "      <th>9</th>\n",
       "      <td>A11</td>\n",
       "      <td>2.00</td>\n",
       "      <td>0.4128</td>\n",
       "      <td>275</td>\n",
       "      <td>267</td>\n",
       "      <td>270</td>\n",
       "      <td>10.5</td>\n",
       "      <td>5.287252</td>\n",
       "      <td>1.985909</td>\n",
       "      <td>5.212748</td>\n",
       "      <td>A</td>\n",
       "    </tr>\n",
       "  </tbody>\n",
       "</table>\n",
       "</div>"
      ],
      "text/plain": [
       "  name  v_naoh  c_naoh  mass  h_diameter  v_diameter  brix        ta  \\\n",
       "0   A1    1.90  0.4000   255         257         262  10.9  4.867141   \n",
       "1   A2    1.20  0.4000   325         288         278   9.8  3.073984   \n",
       "2   A3    2.30  0.4000   185         235         237  11.0  5.891803   \n",
       "3   A4    1.40  0.4128   203         245         245   9.0  3.701077   \n",
       "4   A5    1.20  0.4000   229         253         249  10.9  3.073984   \n",
       "5   A7    1.30  0.4128   357         305         290  10.7  3.436714   \n",
       "6   A8    2.00  0.4000   309         275         285  11.2  5.123307   \n",
       "7   A9    1.90  0.4128   321         285         280   9.2  5.022890   \n",
       "8  A10    1.45  0.4082   245         255         259   9.5  3.790542   \n",
       "9  A11    2.00  0.4128   275         267         270  10.5  5.287252   \n",
       "\n",
       "    brix_ta    brm_ta type  \n",
       "0  2.239508  6.032859    A  \n",
       "1  3.188045  6.726016    A  \n",
       "2  1.867001  5.108197    A  \n",
       "3  2.431725  5.298923    A  \n",
       "4  3.545887  7.826016    A  \n",
       "5  3.113439  7.263286    A  \n",
       "6  2.186088  6.076693    A  \n",
       "7  1.831615  4.177110    A  \n",
       "8  2.506238  5.709458    A  \n",
       "9  1.985909  5.212748    A  "
      ]
     },
     "execution_count": 220,
     "metadata": {},
     "output_type": "execute_result"
    }
   ],
   "source": [
    "list_dataset[\"std_col_name\"].get_dataframe().head(10)"
   ]
  },
  {
   "cell_type": "markdown",
   "metadata": {
    "id": "r8iMDP8ONdeC"
   },
   "source": [
    "## Analyze quantitative data"
   ]
  },
  {
   "cell_type": "markdown",
   "metadata": {
    "id": "_NU0bdPLNdeD"
   },
   "source": [
    "### Plots for all rows"
   ]
  },
  {
   "cell_type": "code",
   "execution_count": 221,
   "metadata": {
    "executionInfo": {
     "elapsed": 25,
     "status": "ok",
     "timestamp": 1711202416018,
     "user": {
      "displayName": "Hieu Pham",
      "userId": "08582879575248824013"
     },
     "user_tz": -420
    },
    "id": "kcXj22J7NdeE"
   },
   "outputs": [],
   "source": [
    "if GENERATE_PLOTS:\n",
    "    plot_hist_kde_box_all_columns(list_dataset[\"std_col_name\"])"
   ]
  },
  {
   "cell_type": "code",
   "execution_count": 222,
   "metadata": {
    "colab": {
     "base_uri": "https://localhost:8080/",
     "height": 301
    },
    "executionInfo": {
     "elapsed": 25,
     "status": "ok",
     "timestamp": 1711202416018,
     "user": {
      "displayName": "Hieu Pham",
      "userId": "08582879575248824013"
     },
     "user_tz": -420
    },
    "id": "RGRjD8DSNdeF",
    "outputId": "48ebfeaf-c3bb-48a4-ffad-a68409d9d019"
   },
   "outputs": [
    {
     "data": {
      "text/html": [
       "<div>\n",
       "<style scoped>\n",
       "    .dataframe tbody tr th:only-of-type {\n",
       "        vertical-align: middle;\n",
       "    }\n",
       "\n",
       "    .dataframe tbody tr th {\n",
       "        vertical-align: top;\n",
       "    }\n",
       "\n",
       "    .dataframe thead th {\n",
       "        text-align: right;\n",
       "    }\n",
       "</style>\n",
       "<table border=\"1\" class=\"dataframe\">\n",
       "  <thead>\n",
       "    <tr style=\"text-align: right;\">\n",
       "      <th></th>\n",
       "      <th>v_naoh</th>\n",
       "      <th>c_naoh</th>\n",
       "      <th>mass</th>\n",
       "      <th>h_diameter</th>\n",
       "      <th>v_diameter</th>\n",
       "      <th>brix</th>\n",
       "      <th>ta</th>\n",
       "      <th>brix_ta</th>\n",
       "      <th>brm_ta</th>\n",
       "    </tr>\n",
       "  </thead>\n",
       "  <tbody>\n",
       "    <tr>\n",
       "      <th>count</th>\n",
       "      <td>81.000000</td>\n",
       "      <td>81.000000</td>\n",
       "      <td>81.000000</td>\n",
       "      <td>81.000000</td>\n",
       "      <td>81.000000</td>\n",
       "      <td>81.000000</td>\n",
       "      <td>81.000000</td>\n",
       "      <td>81.000000</td>\n",
       "      <td>81.000000</td>\n",
       "    </tr>\n",
       "    <tr>\n",
       "      <th>mean</th>\n",
       "      <td>1.477778</td>\n",
       "      <td>0.406857</td>\n",
       "      <td>222.197531</td>\n",
       "      <td>241.777778</td>\n",
       "      <td>241.358025</td>\n",
       "      <td>11.169259</td>\n",
       "      <td>3.849815</td>\n",
       "      <td>3.024935</td>\n",
       "      <td>7.319445</td>\n",
       "    </tr>\n",
       "    <tr>\n",
       "      <th>std</th>\n",
       "      <td>0.297069</td>\n",
       "      <td>0.007092</td>\n",
       "      <td>50.582215</td>\n",
       "      <td>23.652167</td>\n",
       "      <td>22.587225</td>\n",
       "      <td>1.362702</td>\n",
       "      <td>0.774895</td>\n",
       "      <td>0.786520</td>\n",
       "      <td>1.587514</td>\n",
       "    </tr>\n",
       "    <tr>\n",
       "      <th>min</th>\n",
       "      <td>0.800000</td>\n",
       "      <td>0.400000</td>\n",
       "      <td>126.000000</td>\n",
       "      <td>195.000000</td>\n",
       "      <td>197.000000</td>\n",
       "      <td>7.400000</td>\n",
       "      <td>2.057520</td>\n",
       "      <td>1.795715</td>\n",
       "      <td>4.076693</td>\n",
       "    </tr>\n",
       "    <tr>\n",
       "      <th>25%</th>\n",
       "      <td>1.300000</td>\n",
       "      <td>0.401600</td>\n",
       "      <td>179.000000</td>\n",
       "      <td>222.000000</td>\n",
       "      <td>223.000000</td>\n",
       "      <td>10.400000</td>\n",
       "      <td>3.370111</td>\n",
       "      <td>2.512846</td>\n",
       "      <td>6.148368</td>\n",
       "    </tr>\n",
       "    <tr>\n",
       "      <th>50%</th>\n",
       "      <td>1.400000</td>\n",
       "      <td>0.404800</td>\n",
       "      <td>228.000000</td>\n",
       "      <td>242.000000</td>\n",
       "      <td>242.000000</td>\n",
       "      <td>11.100000</td>\n",
       "      <td>3.701077</td>\n",
       "      <td>2.920633</td>\n",
       "      <td>7.332125</td>\n",
       "    </tr>\n",
       "    <tr>\n",
       "      <th>75%</th>\n",
       "      <td>1.600000</td>\n",
       "      <td>0.408200</td>\n",
       "      <td>255.000000</td>\n",
       "      <td>257.000000</td>\n",
       "      <td>255.000000</td>\n",
       "      <td>12.300000</td>\n",
       "      <td>4.229802</td>\n",
       "      <td>3.371688</td>\n",
       "      <td>8.199505</td>\n",
       "    </tr>\n",
       "    <tr>\n",
       "      <th>max</th>\n",
       "      <td>2.300000</td>\n",
       "      <td>0.423000</td>\n",
       "      <td>357.000000</td>\n",
       "      <td>305.000000</td>\n",
       "      <td>290.000000</td>\n",
       "      <td>14.000000</td>\n",
       "      <td>5.891803</td>\n",
       "      <td>6.609899</td>\n",
       "      <td>11.542480</td>\n",
       "    </tr>\n",
       "  </tbody>\n",
       "</table>\n",
       "</div>"
      ],
      "text/plain": [
       "          v_naoh     c_naoh        mass  h_diameter  v_diameter       brix  \\\n",
       "count  81.000000  81.000000   81.000000   81.000000   81.000000  81.000000   \n",
       "mean    1.477778   0.406857  222.197531  241.777778  241.358025  11.169259   \n",
       "std     0.297069   0.007092   50.582215   23.652167   22.587225   1.362702   \n",
       "min     0.800000   0.400000  126.000000  195.000000  197.000000   7.400000   \n",
       "25%     1.300000   0.401600  179.000000  222.000000  223.000000  10.400000   \n",
       "50%     1.400000   0.404800  228.000000  242.000000  242.000000  11.100000   \n",
       "75%     1.600000   0.408200  255.000000  257.000000  255.000000  12.300000   \n",
       "max     2.300000   0.423000  357.000000  305.000000  290.000000  14.000000   \n",
       "\n",
       "              ta    brix_ta     brm_ta  \n",
       "count  81.000000  81.000000  81.000000  \n",
       "mean    3.849815   3.024935   7.319445  \n",
       "std     0.774895   0.786520   1.587514  \n",
       "min     2.057520   1.795715   4.076693  \n",
       "25%     3.370111   2.512846   6.148368  \n",
       "50%     3.701077   2.920633   7.332125  \n",
       "75%     4.229802   3.371688   8.199505  \n",
       "max     5.891803   6.609899  11.542480  "
      ]
     },
     "execution_count": 222,
     "metadata": {},
     "output_type": "execute_result"
    }
   ],
   "source": [
    "list_dataset[\"std_col_name\"].get_dataframe().describe()"
   ]
  },
  {
   "cell_type": "code",
   "execution_count": 223,
   "metadata": {
    "executionInfo": {
     "elapsed": 24,
     "status": "ok",
     "timestamp": 1711202416018,
     "user": {
      "displayName": "Hieu Pham",
      "userId": "08582879575248824013"
     },
     "user_tz": -420
    },
    "id": "lZnK28nJNdeG"
   },
   "outputs": [],
   "source": [
    "if GENERATE_PLOTS:\n",
    "    plot_all_columns_group_by_a_categorical_col(list_dataset[\"std_col_name\"], \"type\")"
   ]
  },
  {
   "cell_type": "markdown",
   "metadata": {
    "id": "ws9Gv6z_NdeG"
   },
   "source": [
    "#### From above plots, we see that \"mass\", \"h_diameter\", \"v_diameter\" and \"brm_ta\" plots have clearly patterns corresponding with types."
   ]
  },
  {
   "cell_type": "markdown",
   "metadata": {
    "id": "yzddeRY2NdeH"
   },
   "source": [
    "## Analyze qualitative data"
   ]
  },
  {
   "cell_type": "code",
   "execution_count": 224,
   "metadata": {
    "executionInfo": {
     "elapsed": 23,
     "status": "ok",
     "timestamp": 1711202416020,
     "user": {
      "displayName": "Hieu Pham",
      "userId": "08582879575248824013"
     },
     "user_tz": -420
    },
    "id": "m-ZjLD40NdeH"
   },
   "outputs": [],
   "source": [
    "# partitions_dataframe = divide_dataframe_with_categorical_col(list_dataset[\"std_col_name\"], \"type\")"
   ]
  },
  {
   "cell_type": "markdown",
   "metadata": {
    "id": "15_BIse4NdeI"
   },
   "source": [
    "### Use Welch's t-test to see whether the data could be divided into 3 parts A, B, and C."
   ]
  },
  {
   "cell_type": "code",
   "execution_count": 225,
   "metadata": {
    "executionInfo": {
     "elapsed": 23,
     "status": "ok",
     "timestamp": 1711202416020,
     "user": {
      "displayName": "Hieu Pham",
      "userId": "08582879575248824013"
     },
     "user_tz": -420
    },
    "id": "x4DRzrEjNdeI"
   },
   "outputs": [],
   "source": [
    "# for group in partitions_dataframe.keys():\n",
    "#     print(f\"{group}: {partitions_dataframe[group].shape}\")"
   ]
  },
  {
   "cell_type": "code",
   "execution_count": 226,
   "metadata": {
    "executionInfo": {
     "elapsed": 24,
     "status": "ok",
     "timestamp": 1711202416021,
     "user": {
      "displayName": "Hieu Pham",
      "userId": "08582879575248824013"
     },
     "user_tz": -420
    },
    "id": "7_hiG3QXNdeI"
   },
   "outputs": [],
   "source": [
    "# partitions_dataframe[\"A\"].head(10)"
   ]
  },
  {
   "cell_type": "code",
   "execution_count": 227,
   "metadata": {
    "executionInfo": {
     "elapsed": 23,
     "status": "ok",
     "timestamp": 1711202416021,
     "user": {
      "displayName": "Hieu Pham",
      "userId": "08582879575248824013"
     },
     "user_tz": -420
    },
    "id": "s0Js37-mNdeJ"
   },
   "outputs": [],
   "source": [
    "# columns_to_compare = [\"mass\", \"h_diameter\", \"v_diameter\"]"
   ]
  },
  {
   "cell_type": "code",
   "execution_count": 228,
   "metadata": {
    "executionInfo": {
     "elapsed": 23,
     "status": "ok",
     "timestamp": 1711202416021,
     "user": {
      "displayName": "Hieu Pham",
      "userId": "08582879575248824013"
     },
     "user_tz": -420
    },
    "id": "FqsW-u8QNdeK"
   },
   "outputs": [],
   "source": [
    "# calculate_p_values_between_partitions(partitions_dataframe, columns_to_compare)"
   ]
  },
  {
   "cell_type": "markdown",
   "metadata": {
    "id": "QQHkfUg-NdeL"
   },
   "source": [
    "### All p-values smaller than $ \\alpha $ = 0.05\n",
    "### => Conclusion from Welch's t-test: The dataset could be divided into 3 parts A, B and C"
   ]
  },
  {
   "cell_type": "markdown",
   "metadata": {
    "id": "VsGG9ai-NdeL"
   },
   "source": [
    "## Matrix plots"
   ]
  },
  {
   "cell_type": "markdown",
   "metadata": {
    "id": "w3Gpt8t2NdeM"
   },
   "source": [
    "### Pairplots"
   ]
  },
  {
   "cell_type": "code",
   "execution_count": 229,
   "metadata": {
    "executionInfo": {
     "elapsed": 24,
     "status": "ok",
     "timestamp": 1711202416022,
     "user": {
      "displayName": "Hieu Pham",
      "userId": "08582879575248824013"
     },
     "user_tz": -420
    },
    "id": "61oSDzhWNdeN"
   },
   "outputs": [],
   "source": [
    "if GENERATE_PLOTS:\n",
    "    plt.figure(figsize=(16, 16))\n",
    "    sns.pairplot(list_dataset[\"std_col_name\"].get_dataframe())"
   ]
  },
  {
   "cell_type": "markdown",
   "metadata": {
    "id": "KAlDJMjZNdeN"
   },
   "source": [
    "#### Some potential features to explain brix are \"mass\", \"h_diameter\", \"v_diameter\", \"brix_ta\", \"brm_ta\"."
   ]
  },
  {
   "cell_type": "markdown",
   "metadata": {
    "id": "9C9KEWTYNdeO"
   },
   "source": [
    "### Heatmap"
   ]
  },
  {
   "cell_type": "code",
   "execution_count": 230,
   "metadata": {
    "executionInfo": {
     "elapsed": 39,
     "status": "ok",
     "timestamp": 1711202417488,
     "user": {
      "displayName": "Hieu Pham",
      "userId": "08582879575248824013"
     },
     "user_tz": -420
    },
    "id": "iSBcrCu9NdeO"
   },
   "outputs": [],
   "source": [
    "if GENERATE_PLOTS:\n",
    "    plt.figure(figsize=(12, 12))\n",
    "    dataframe = list_dataset[\"std_col_name\"].get_dataframe()\n",
    "    numeric_cols = list_dataset[\"std_col_name\"].numeric_cols\n",
    "    dataset_corr = dataframe[numeric_cols].corr()\n",
    "    sns.heatmap(dataset_corr, annot=True)"
   ]
  },
  {
   "cell_type": "markdown",
   "metadata": {
    "id": "E6sBGul1NdeP"
   },
   "source": [
    "#### => Some features that could be used for model: **mass, h_diameter, v_diameter, brix_ta, brm_ta** (quantitative) and **type** (qualitative) to explain **brix**. However, **brix_ta** and **brm_ta** are directly related to **brix**, then they will not be considered."
   ]
  },
  {
   "cell_type": "markdown",
   "metadata": {
    "id": "f1g-ZR_sNdeP"
   },
   "source": [
    "## Build Models"
   ]
  },
  {
   "cell_type": "markdown",
   "metadata": {
    "id": "p1k2sELcNdeP"
   },
   "source": [
    "### Create \"ohv_std_col_name\" dataframe: [\"brix\", \"mass\", \"h_diameter\", \"v_diameter\", one-hot-vector-of-type]"
   ]
  },
  {
   "cell_type": "code",
   "execution_count": 231,
   "metadata": {
    "colab": {
     "base_uri": "https://localhost:8080/",
     "height": 381
    },
    "executionInfo": {
     "elapsed": 38,
     "status": "ok",
     "timestamp": 1711202417488,
     "user": {
      "displayName": "Hieu Pham",
      "userId": "08582879575248824013"
     },
     "user_tz": -420
    },
    "id": "5U-ll8IeNdeQ",
    "outputId": "068e7871-7720-45c8-ebb3-97620b59451b"
   },
   "outputs": [
    {
     "name": "stdout",
     "output_type": "stream",
     "text": [
      "std_col_name_ohv_type\n"
     ]
    },
    {
     "data": {
      "text/html": [
       "<div>\n",
       "<style scoped>\n",
       "    .dataframe tbody tr th:only-of-type {\n",
       "        vertical-align: middle;\n",
       "    }\n",
       "\n",
       "    .dataframe tbody tr th {\n",
       "        vertical-align: top;\n",
       "    }\n",
       "\n",
       "    .dataframe thead th {\n",
       "        text-align: right;\n",
       "    }\n",
       "</style>\n",
       "<table border=\"1\" class=\"dataframe\">\n",
       "  <thead>\n",
       "    <tr style=\"text-align: right;\">\n",
       "      <th></th>\n",
       "      <th>A</th>\n",
       "      <th>B</th>\n",
       "      <th>C</th>\n",
       "      <th>name</th>\n",
       "      <th>v_naoh</th>\n",
       "      <th>c_naoh</th>\n",
       "      <th>mass</th>\n",
       "      <th>h_diameter</th>\n",
       "      <th>v_diameter</th>\n",
       "      <th>brix</th>\n",
       "      <th>ta</th>\n",
       "      <th>brix_ta</th>\n",
       "      <th>brm_ta</th>\n",
       "      <th>type</th>\n",
       "    </tr>\n",
       "  </thead>\n",
       "  <tbody>\n",
       "    <tr>\n",
       "      <th>0</th>\n",
       "      <td>True</td>\n",
       "      <td>False</td>\n",
       "      <td>False</td>\n",
       "      <td>A1</td>\n",
       "      <td>1.90</td>\n",
       "      <td>0.4000</td>\n",
       "      <td>255</td>\n",
       "      <td>257</td>\n",
       "      <td>262</td>\n",
       "      <td>10.9</td>\n",
       "      <td>4.867141</td>\n",
       "      <td>2.239508</td>\n",
       "      <td>6.032859</td>\n",
       "      <td>A</td>\n",
       "    </tr>\n",
       "    <tr>\n",
       "      <th>1</th>\n",
       "      <td>True</td>\n",
       "      <td>False</td>\n",
       "      <td>False</td>\n",
       "      <td>A2</td>\n",
       "      <td>1.20</td>\n",
       "      <td>0.4000</td>\n",
       "      <td>325</td>\n",
       "      <td>288</td>\n",
       "      <td>278</td>\n",
       "      <td>9.8</td>\n",
       "      <td>3.073984</td>\n",
       "      <td>3.188045</td>\n",
       "      <td>6.726016</td>\n",
       "      <td>A</td>\n",
       "    </tr>\n",
       "    <tr>\n",
       "      <th>2</th>\n",
       "      <td>True</td>\n",
       "      <td>False</td>\n",
       "      <td>False</td>\n",
       "      <td>A3</td>\n",
       "      <td>2.30</td>\n",
       "      <td>0.4000</td>\n",
       "      <td>185</td>\n",
       "      <td>235</td>\n",
       "      <td>237</td>\n",
       "      <td>11.0</td>\n",
       "      <td>5.891803</td>\n",
       "      <td>1.867001</td>\n",
       "      <td>5.108197</td>\n",
       "      <td>A</td>\n",
       "    </tr>\n",
       "    <tr>\n",
       "      <th>3</th>\n",
       "      <td>True</td>\n",
       "      <td>False</td>\n",
       "      <td>False</td>\n",
       "      <td>A4</td>\n",
       "      <td>1.40</td>\n",
       "      <td>0.4128</td>\n",
       "      <td>203</td>\n",
       "      <td>245</td>\n",
       "      <td>245</td>\n",
       "      <td>9.0</td>\n",
       "      <td>3.701077</td>\n",
       "      <td>2.431725</td>\n",
       "      <td>5.298923</td>\n",
       "      <td>A</td>\n",
       "    </tr>\n",
       "    <tr>\n",
       "      <th>4</th>\n",
       "      <td>True</td>\n",
       "      <td>False</td>\n",
       "      <td>False</td>\n",
       "      <td>A5</td>\n",
       "      <td>1.20</td>\n",
       "      <td>0.4000</td>\n",
       "      <td>229</td>\n",
       "      <td>253</td>\n",
       "      <td>249</td>\n",
       "      <td>10.9</td>\n",
       "      <td>3.073984</td>\n",
       "      <td>3.545887</td>\n",
       "      <td>7.826016</td>\n",
       "      <td>A</td>\n",
       "    </tr>\n",
       "    <tr>\n",
       "      <th>5</th>\n",
       "      <td>True</td>\n",
       "      <td>False</td>\n",
       "      <td>False</td>\n",
       "      <td>A7</td>\n",
       "      <td>1.30</td>\n",
       "      <td>0.4128</td>\n",
       "      <td>357</td>\n",
       "      <td>305</td>\n",
       "      <td>290</td>\n",
       "      <td>10.7</td>\n",
       "      <td>3.436714</td>\n",
       "      <td>3.113439</td>\n",
       "      <td>7.263286</td>\n",
       "      <td>A</td>\n",
       "    </tr>\n",
       "    <tr>\n",
       "      <th>6</th>\n",
       "      <td>True</td>\n",
       "      <td>False</td>\n",
       "      <td>False</td>\n",
       "      <td>A8</td>\n",
       "      <td>2.00</td>\n",
       "      <td>0.4000</td>\n",
       "      <td>309</td>\n",
       "      <td>275</td>\n",
       "      <td>285</td>\n",
       "      <td>11.2</td>\n",
       "      <td>5.123307</td>\n",
       "      <td>2.186088</td>\n",
       "      <td>6.076693</td>\n",
       "      <td>A</td>\n",
       "    </tr>\n",
       "    <tr>\n",
       "      <th>7</th>\n",
       "      <td>True</td>\n",
       "      <td>False</td>\n",
       "      <td>False</td>\n",
       "      <td>A9</td>\n",
       "      <td>1.90</td>\n",
       "      <td>0.4128</td>\n",
       "      <td>321</td>\n",
       "      <td>285</td>\n",
       "      <td>280</td>\n",
       "      <td>9.2</td>\n",
       "      <td>5.022890</td>\n",
       "      <td>1.831615</td>\n",
       "      <td>4.177110</td>\n",
       "      <td>A</td>\n",
       "    </tr>\n",
       "    <tr>\n",
       "      <th>8</th>\n",
       "      <td>True</td>\n",
       "      <td>False</td>\n",
       "      <td>False</td>\n",
       "      <td>A10</td>\n",
       "      <td>1.45</td>\n",
       "      <td>0.4082</td>\n",
       "      <td>245</td>\n",
       "      <td>255</td>\n",
       "      <td>259</td>\n",
       "      <td>9.5</td>\n",
       "      <td>3.790542</td>\n",
       "      <td>2.506238</td>\n",
       "      <td>5.709458</td>\n",
       "      <td>A</td>\n",
       "    </tr>\n",
       "    <tr>\n",
       "      <th>9</th>\n",
       "      <td>True</td>\n",
       "      <td>False</td>\n",
       "      <td>False</td>\n",
       "      <td>A11</td>\n",
       "      <td>2.00</td>\n",
       "      <td>0.4128</td>\n",
       "      <td>275</td>\n",
       "      <td>267</td>\n",
       "      <td>270</td>\n",
       "      <td>10.5</td>\n",
       "      <td>5.287252</td>\n",
       "      <td>1.985909</td>\n",
       "      <td>5.212748</td>\n",
       "      <td>A</td>\n",
       "    </tr>\n",
       "  </tbody>\n",
       "</table>\n",
       "</div>"
      ],
      "text/plain": [
       "      A      B      C name  v_naoh  c_naoh  mass  h_diameter  v_diameter  \\\n",
       "0  True  False  False   A1    1.90  0.4000   255         257         262   \n",
       "1  True  False  False   A2    1.20  0.4000   325         288         278   \n",
       "2  True  False  False   A3    2.30  0.4000   185         235         237   \n",
       "3  True  False  False   A4    1.40  0.4128   203         245         245   \n",
       "4  True  False  False   A5    1.20  0.4000   229         253         249   \n",
       "5  True  False  False   A7    1.30  0.4128   357         305         290   \n",
       "6  True  False  False   A8    2.00  0.4000   309         275         285   \n",
       "7  True  False  False   A9    1.90  0.4128   321         285         280   \n",
       "8  True  False  False  A10    1.45  0.4082   245         255         259   \n",
       "9  True  False  False  A11    2.00  0.4128   275         267         270   \n",
       "\n",
       "   brix        ta   brix_ta    brm_ta type  \n",
       "0  10.9  4.867141  2.239508  6.032859    A  \n",
       "1   9.8  3.073984  3.188045  6.726016    A  \n",
       "2  11.0  5.891803  1.867001  5.108197    A  \n",
       "3   9.0  3.701077  2.431725  5.298923    A  \n",
       "4  10.9  3.073984  3.545887  7.826016    A  \n",
       "5  10.7  3.436714  3.113439  7.263286    A  \n",
       "6  11.2  5.123307  2.186088  6.076693    A  \n",
       "7   9.2  5.022890  1.831615  4.177110    A  \n",
       "8   9.5  3.790542  2.506238  5.709458    A  \n",
       "9  10.5  5.287252  1.985909  5.212748    A  "
      ]
     },
     "execution_count": 231,
     "metadata": {},
     "output_type": "execute_result"
    }
   ],
   "source": [
    "ohv_dataset = list_dataset[\"std_col_name\"].get_one_hot_vectorized_dataset(\"type\")\n",
    "list_dataset[\"std_col_name_ohv_type\"] = ohv_dataset\n",
    "list_dataset[\"std_col_name_ohv_type\"].get_dataframe().head(10)"
   ]
  },
  {
   "cell_type": "code",
   "execution_count": 232,
   "metadata": {
    "colab": {
     "base_uri": "https://localhost:8080/",
     "height": 363
    },
    "executionInfo": {
     "elapsed": 36,
     "status": "ok",
     "timestamp": 1711202417489,
     "user": {
      "displayName": "Hieu Pham",
      "userId": "08582879575248824013"
     },
     "user_tz": -420
    },
    "id": "UCGeMDw2NdeQ",
    "outputId": "9e484839-f2d7-4e8f-9e25-bf203db08deb"
   },
   "outputs": [
    {
     "data": {
      "text/html": [
       "<div>\n",
       "<style scoped>\n",
       "    .dataframe tbody tr th:only-of-type {\n",
       "        vertical-align: middle;\n",
       "    }\n",
       "\n",
       "    .dataframe tbody tr th {\n",
       "        vertical-align: top;\n",
       "    }\n",
       "\n",
       "    .dataframe thead th {\n",
       "        text-align: right;\n",
       "    }\n",
       "</style>\n",
       "<table border=\"1\" class=\"dataframe\">\n",
       "  <thead>\n",
       "    <tr style=\"text-align: right;\">\n",
       "      <th></th>\n",
       "      <th>brix</th>\n",
       "    </tr>\n",
       "  </thead>\n",
       "  <tbody>\n",
       "    <tr>\n",
       "      <th>0</th>\n",
       "      <td>10.9</td>\n",
       "    </tr>\n",
       "    <tr>\n",
       "      <th>1</th>\n",
       "      <td>9.8</td>\n",
       "    </tr>\n",
       "    <tr>\n",
       "      <th>2</th>\n",
       "      <td>11.0</td>\n",
       "    </tr>\n",
       "    <tr>\n",
       "      <th>3</th>\n",
       "      <td>9.0</td>\n",
       "    </tr>\n",
       "    <tr>\n",
       "      <th>4</th>\n",
       "      <td>10.9</td>\n",
       "    </tr>\n",
       "    <tr>\n",
       "      <th>5</th>\n",
       "      <td>10.7</td>\n",
       "    </tr>\n",
       "    <tr>\n",
       "      <th>6</th>\n",
       "      <td>11.2</td>\n",
       "    </tr>\n",
       "    <tr>\n",
       "      <th>7</th>\n",
       "      <td>9.2</td>\n",
       "    </tr>\n",
       "    <tr>\n",
       "      <th>8</th>\n",
       "      <td>9.5</td>\n",
       "    </tr>\n",
       "    <tr>\n",
       "      <th>9</th>\n",
       "      <td>10.5</td>\n",
       "    </tr>\n",
       "  </tbody>\n",
       "</table>\n",
       "</div>"
      ],
      "text/plain": [
       "   brix\n",
       "0  10.9\n",
       "1   9.8\n",
       "2  11.0\n",
       "3   9.0\n",
       "4  10.9\n",
       "5  10.7\n",
       "6  11.2\n",
       "7   9.2\n",
       "8   9.5\n",
       "9  10.5"
      ]
     },
     "execution_count": 232,
     "metadata": {},
     "output_type": "execute_result"
    }
   ],
   "source": [
    "y_cols = [\"brix\"]\n",
    "y_variable = list_dataset[\"std_col_name_ohv_type\"].get_dataframe()[y_cols]\n",
    "y_variable.head(10)"
   ]
  },
  {
   "cell_type": "code",
   "execution_count": 233,
   "metadata": {
    "colab": {
     "base_uri": "https://localhost:8080/",
     "height": 363
    },
    "executionInfo": {
     "elapsed": 33,
     "status": "ok",
     "timestamp": 1711202417489,
     "user": {
      "displayName": "Hieu Pham",
      "userId": "08582879575248824013"
     },
     "user_tz": -420
    },
    "id": "Bi8RPU3PNdeS",
    "outputId": "adcc20d3-4c5b-4b40-af2f-7cc8d26a496b"
   },
   "outputs": [
    {
     "data": {
      "text/html": [
       "<div>\n",
       "<style scoped>\n",
       "    .dataframe tbody tr th:only-of-type {\n",
       "        vertical-align: middle;\n",
       "    }\n",
       "\n",
       "    .dataframe tbody tr th {\n",
       "        vertical-align: top;\n",
       "    }\n",
       "\n",
       "    .dataframe thead th {\n",
       "        text-align: right;\n",
       "    }\n",
       "</style>\n",
       "<table border=\"1\" class=\"dataframe\">\n",
       "  <thead>\n",
       "    <tr style=\"text-align: right;\">\n",
       "      <th></th>\n",
       "      <th>mass</th>\n",
       "      <th>h_diameter</th>\n",
       "      <th>v_diameter</th>\n",
       "      <th>B</th>\n",
       "      <th>C</th>\n",
       "    </tr>\n",
       "  </thead>\n",
       "  <tbody>\n",
       "    <tr>\n",
       "      <th>0</th>\n",
       "      <td>255</td>\n",
       "      <td>257</td>\n",
       "      <td>262</td>\n",
       "      <td>False</td>\n",
       "      <td>False</td>\n",
       "    </tr>\n",
       "    <tr>\n",
       "      <th>1</th>\n",
       "      <td>325</td>\n",
       "      <td>288</td>\n",
       "      <td>278</td>\n",
       "      <td>False</td>\n",
       "      <td>False</td>\n",
       "    </tr>\n",
       "    <tr>\n",
       "      <th>2</th>\n",
       "      <td>185</td>\n",
       "      <td>235</td>\n",
       "      <td>237</td>\n",
       "      <td>False</td>\n",
       "      <td>False</td>\n",
       "    </tr>\n",
       "    <tr>\n",
       "      <th>3</th>\n",
       "      <td>203</td>\n",
       "      <td>245</td>\n",
       "      <td>245</td>\n",
       "      <td>False</td>\n",
       "      <td>False</td>\n",
       "    </tr>\n",
       "    <tr>\n",
       "      <th>4</th>\n",
       "      <td>229</td>\n",
       "      <td>253</td>\n",
       "      <td>249</td>\n",
       "      <td>False</td>\n",
       "      <td>False</td>\n",
       "    </tr>\n",
       "    <tr>\n",
       "      <th>5</th>\n",
       "      <td>357</td>\n",
       "      <td>305</td>\n",
       "      <td>290</td>\n",
       "      <td>False</td>\n",
       "      <td>False</td>\n",
       "    </tr>\n",
       "    <tr>\n",
       "      <th>6</th>\n",
       "      <td>309</td>\n",
       "      <td>275</td>\n",
       "      <td>285</td>\n",
       "      <td>False</td>\n",
       "      <td>False</td>\n",
       "    </tr>\n",
       "    <tr>\n",
       "      <th>7</th>\n",
       "      <td>321</td>\n",
       "      <td>285</td>\n",
       "      <td>280</td>\n",
       "      <td>False</td>\n",
       "      <td>False</td>\n",
       "    </tr>\n",
       "    <tr>\n",
       "      <th>8</th>\n",
       "      <td>245</td>\n",
       "      <td>255</td>\n",
       "      <td>259</td>\n",
       "      <td>False</td>\n",
       "      <td>False</td>\n",
       "    </tr>\n",
       "    <tr>\n",
       "      <th>9</th>\n",
       "      <td>275</td>\n",
       "      <td>267</td>\n",
       "      <td>270</td>\n",
       "      <td>False</td>\n",
       "      <td>False</td>\n",
       "    </tr>\n",
       "  </tbody>\n",
       "</table>\n",
       "</div>"
      ],
      "text/plain": [
       "   mass  h_diameter  v_diameter      B      C\n",
       "0   255         257         262  False  False\n",
       "1   325         288         278  False  False\n",
       "2   185         235         237  False  False\n",
       "3   203         245         245  False  False\n",
       "4   229         253         249  False  False\n",
       "5   357         305         290  False  False\n",
       "6   309         275         285  False  False\n",
       "7   321         285         280  False  False\n",
       "8   245         255         259  False  False\n",
       "9   275         267         270  False  False"
      ]
     },
     "execution_count": 233,
     "metadata": {},
     "output_type": "execute_result"
    }
   ],
   "source": [
    "x_cols = [\"mass\", \"h_diameter\", \"v_diameter\", \"B\", \"C\"]\n",
    "x_variable = list_dataset[\"std_col_name_ohv_type\"].get_dataframe()[x_cols]\n",
    "x_variable.head(10)"
   ]
  },
  {
   "cell_type": "markdown",
   "metadata": {
    "id": "yZ8nOYBaNdeS"
   },
   "source": [
    "### Linear regression models"
   ]
  },
  {
   "cell_type": "markdown",
   "metadata": {
    "id": "HgNqZeeRNdeT"
   },
   "source": [
    "#### Model 1: brix $ \\sim \\beta_0 $ + $ \\beta_1 $ * type_a + $ \\beta_2 $ * type_b + $ \\beta_3 $ * type_c + $ \\beta_4 $ * h.diameter + $ \\beta_5 $ * v.diameter + $ \\beta_6 $ * mass"
   ]
  },
  {
   "cell_type": "markdown",
   "metadata": {
    "id": "c_K7BDPzNdeT"
   },
   "source": [
    "working"
   ]
  },
  {
   "cell_type": "code",
   "execution_count": 234,
   "metadata": {
    "colab": {
     "base_uri": "https://localhost:8080/"
    },
    "executionInfo": {
     "elapsed": 30,
     "status": "ok",
     "timestamp": 1711202417489,
     "user": {
      "displayName": "Hieu Pham",
      "userId": "08582879575248824013"
     },
     "user_tz": -420
    },
    "id": "P0aVThLxNdeU",
    "outputId": "7437fc40-16a8-46ab-be0d-09f67b663c37"
   },
   "outputs": [
    {
     "data": {
      "text/plain": [
       "dict_keys(['std_col_name', 'std_col_name_ohv_type'])"
      ]
     },
     "execution_count": 234,
     "metadata": {},
     "output_type": "execute_result"
    }
   ],
   "source": [
    "list_dataset.keys()"
   ]
  },
  {
   "cell_type": "code",
   "execution_count": 235,
   "metadata": {
    "executionInfo": {
     "elapsed": 27,
     "status": "ok",
     "timestamp": 1711202417490,
     "user": {
      "displayName": "Hieu Pham",
      "userId": "08582879575248824013"
     },
     "user_tz": -420
    },
    "id": "yJGKMTiBNdeW"
   },
   "outputs": [],
   "source": [
    "std_dataset_names = [\"std_col_name_ohv_type\"]"
   ]
  },
  {
   "cell_type": "code",
   "execution_count": 236,
   "metadata": {
    "colab": {
     "base_uri": "https://localhost:8080/"
    },
    "executionInfo": {
     "elapsed": 27,
     "status": "ok",
     "timestamp": 1711202417490,
     "user": {
      "displayName": "Hieu Pham",
      "userId": "08582879575248824013"
     },
     "user_tz": -420
    },
    "id": "PHmA-7xLOvmC",
    "outputId": "0cd0d8f9-f2c8-4a18-ba49-7e25f4be38b6"
   },
   "outputs": [
    {
     "name": "stdout",
     "output_type": "stream",
     "text": [
      "cropped.rar\n",
      "orange-Copy1.ipynb\n",
      "orange.ipynb\n",
      "orange_anh_hieu-Copy1.ipynb\n",
      "orange_anh_hieu.ipynb\n",
      "orange_data.xlsx\n",
      "resnet34.xlsx\n",
      "result_2.xlsx\n",
      "result_3.xlsx\n",
      "result_4.xlsx\n",
      "TIMM.ipynb\n",
      "vit_base_patch14_dinov2.lvd142m_get_30.xlsx\n",
      "vit_base_patch16_224.dino_get_10.xlsx\n",
      "vit_small_patch14_dinov2.lvd142m_get_10.xlsx\n",
      "vit_small_patch14_dinov2.lvd142m_get_20.xlsx\n",
      "vit_small_patch14_dinov2.lvd142m_get_30.xlsx\n",
      "vit_small_patch14_dinov2.lvd142m_get_5.xlsx\n",
      "vit_small_patch14_dinov2.lvd142m_get_97.xlsx\n",
      "vit_small_patch14_dinov2.lvd142m_get_one.xlsx\n",
      "vit_small_patch14_dinov2.lvd142m_mean.xlsx\n"
     ]
    }
   ],
   "source": [
    "!ls"
   ]
  },
  {
   "cell_type": "code",
   "execution_count": null,
   "metadata": {
    "executionInfo": {
     "elapsed": 22,
     "status": "ok",
     "timestamp": 1711202417490,
     "user": {
      "displayName": "Hieu Pham",
      "userId": "08582879575248824013"
     },
     "user_tz": -420
    },
    "id": "zKrIGlobjJL8"
   },
   "outputs": [],
   "source": []
  },
  {
   "cell_type": "code",
   "execution_count": 237,
   "metadata": {
    "executionInfo": {
     "elapsed": 22,
     "status": "ok",
     "timestamp": 1711202417491,
     "user": {
      "displayName": "Hieu Pham",
      "userId": "08582879575248824013"
     },
     "user_tz": -420
    },
    "id": "bPqQhjjZfCAk"
   },
   "outputs": [],
   "source": [
    "model_list = [\n",
    "    # \"vit_large_patch14_dinov2.lvd142m\",\n",
    "        \"vit_base_patch16_224.dino\",\n",
    "    #\"vit_small_patch14_dinov2.lvd142m\",\n",
    "    # \"eva_large_patch14_196.in22k_ft_in22k_in1k\",\n",
    "    # \"vit_base_patch14_dinov2.lvd142m\",\n",
    "    # 'resnet34'\n",
    "]\n",
    "\n",
    "hyper_params = {\"SVR\": {\n",
    "          \"kernel\": [\"rbf\", \"linear\", \"poly\"],\n",
    "          \"C\": np.arange(0.1, 2, 0.1)\n",
    "        },\n",
    "\n",
    "    \"RANDOM_FOREST\": {\n",
    "        \"n_estimators\": np.arange(100, 1100, 100),\n",
    "        \"max_depth\": [None, 5, 10, 15, 20],\n",
    "        \"max_features\": [10, 50, 100, 150, 200, \"sqrt\", \"log2\", None]\n",
    "    },\n",
    "    \"LIGHT_GBM\": {\n",
    "        \"max_depth\": [-1], # , 5, 10, 15, 20],\n",
    "        \"learning_rate\":  [0.01], # , 0.05, 0.1],\n",
    "        \"min_child_samples\": [20],\n",
    "         \"n_estimators\": np.arange(800, 2000, 100)\n",
    "        # \"subsample\" : [1.0, 0.8, 0.6, 0.5],\n",
    "        #  \"colsample_bytree\" : [0.1, 0.2, 0.4, 0.6, 0.8, 1],\n",
    "        #   \"reg_alpha\": [0, 0.01, 0.05, 0.1, 0.2],\n",
    "        # \"reg_lambda\": [0, 0.01, 0.05, 0.1, 0.2],\n",
    "\n",
    "    }\n",
    "    }\n",
    "\n",
    "param_combination = []\n",
    "param = hyper_params[\"LIGHT_GBM\"]\n",
    "\n",
    "# for key in param.keys():\n",
    "#   for value in param[key]:\n",
    "#     values[key] = value\n",
    "#   param_combination.append(values)"
   ]
  },
  {
   "cell_type": "code",
   "execution_count": 238,
   "metadata": {
    "executionInfo": {
     "elapsed": 22,
     "status": "ok",
     "timestamp": 1711202417491,
     "user": {
      "displayName": "Hieu Pham",
      "userId": "08582879575248824013"
     },
     "user_tz": -420
    },
    "id": "eRfLyiciAsPu"
   },
   "outputs": [],
   "source": [
    "import copy"
   ]
  },
  {
   "cell_type": "code",
   "execution_count": null,
   "metadata": {
    "executionInfo": {
     "elapsed": 21,
     "status": "ok",
     "timestamp": 1711202417491,
     "user": {
      "displayName": "Hieu Pham",
      "userId": "08582879575248824013"
     },
     "user_tz": -420
    },
    "id": "WDyzJxO2B4pO"
   },
   "outputs": [],
   "source": []
  },
  {
   "cell_type": "code",
   "execution_count": null,
   "metadata": {
    "executionInfo": {
     "elapsed": 22,
     "status": "ok",
     "timestamp": 1711202417492,
     "user": {
      "displayName": "Hieu Pham",
      "userId": "08582879575248824013"
     },
     "user_tz": -420
    },
    "id": "b6vHJSM5B1rp"
   },
   "outputs": [],
   "source": []
  },
  {
   "cell_type": "code",
   "execution_count": 239,
   "metadata": {
    "executionInfo": {
     "elapsed": 21,
     "status": "ok",
     "timestamp": 1711202417492,
     "user": {
      "displayName": "Hieu Pham",
      "userId": "08582879575248824013"
     },
     "user_tz": -420
    },
    "id": "SFkGdeeok1Q4"
   },
   "outputs": [],
   "source": [
    "from sklearn.model_selection import ParameterGrid\n",
    "\n",
    "light_gbm_grid = list(ParameterGrid(hyper_params[\"LIGHT_GBM\"]))"
   ]
  },
  {
   "cell_type": "code",
   "execution_count": 240,
   "metadata": {
    "executionInfo": {
     "elapsed": 21,
     "status": "ok",
     "timestamp": 1711202417492,
     "user": {
      "displayName": "Hieu Pham",
      "userId": "08582879575248824013"
     },
     "user_tz": -420
    },
    "id": "j_owj_GvFZiQ"
   },
   "outputs": [],
   "source": [
    "        # self.result_frame[\"r2\"] = []\n",
    "        # self.result_frame[\"mse\"]"
   ]
  },
  {
   "cell_type": "code",
   "execution_count": null,
   "metadata": {
    "colab": {
     "base_uri": "https://localhost:8080/"
    },
    "id": "t7hm9F_jNdeX",
    "outputId": "24473b24-ff7d-44fc-f012-bdc111e328d7"
   },
   "outputs": [
    {
     "name": "stdout",
     "output_type": "stream",
     "text": [
      "Training LIGHT_GBM_resnet_cols_vit_base_patch16_224.dino_get_10_{'learning_rate': 0.01, 'max_depth': -1, 'min_child_samples': 20, 'n_estimators': 800}_vit_base_patch14_dinov2.lvd142m_get_30\n"
     ]
    },
    {
     "name": "stderr",
     "output_type": "stream",
     "text": [
      "100%|██████████████████████████████████████████████████████████████████████████████████| 81/81 [03:35<00:00,  2.65s/it]\n"
     ]
    },
    {
     "name": "stdout",
     "output_type": "stream",
     "text": [
      "R2: 0.5335019780435453 | MSE: 0.8555720903127264\n",
      "Training LIGHT_GBM_bc_cols_vit_base_patch16_224.dino_get_10_{'learning_rate': 0.01, 'max_depth': -1, 'min_child_samples': 20, 'n_estimators': 800}_vit_base_patch14_dinov2.lvd142m_get_30\n"
     ]
    },
    {
     "name": "stderr",
     "output_type": "stream",
     "text": [
      "100%|██████████████████████████████████████████████████████████████████████████████████| 81/81 [03:24<00:00,  2.52s/it]\n"
     ]
    },
    {
     "name": "stdout",
     "output_type": "stream",
     "text": [
      "R2: 0.5335019780435453 | MSE: 0.8555720903127264\n",
      "Training LIGHT_GBM_resnet_cols_vit_base_patch16_224.dino_get_10_{'learning_rate': 0.01, 'max_depth': -1, 'min_child_samples': 20, 'n_estimators': 900}_vit_base_patch14_dinov2.lvd142m_get_30\n"
     ]
    },
    {
     "name": "stderr",
     "output_type": "stream",
     "text": [
      "100%|██████████████████████████████████████████████████████████████████████████████████| 81/81 [03:45<00:00,  2.79s/it]\n"
     ]
    },
    {
     "name": "stdout",
     "output_type": "stream",
     "text": [
      "R2: 0.5414177191397456 | MSE: 0.8410543714001207\n",
      "Training LIGHT_GBM_bc_cols_vit_base_patch16_224.dino_get_10_{'learning_rate': 0.01, 'max_depth': -1, 'min_child_samples': 20, 'n_estimators': 900}_vit_base_patch14_dinov2.lvd142m_get_30\n"
     ]
    },
    {
     "name": "stderr",
     "output_type": "stream",
     "text": [
      "100%|██████████████████████████████████████████████████████████████████████████████████| 81/81 [03:49<00:00,  2.83s/it]\n"
     ]
    },
    {
     "name": "stdout",
     "output_type": "stream",
     "text": [
      "R2: 0.5414177191397456 | MSE: 0.8410543714001207\n",
      "Training LIGHT_GBM_resnet_cols_vit_base_patch16_224.dino_get_10_{'learning_rate': 0.01, 'max_depth': -1, 'min_child_samples': 20, 'n_estimators': 1000}_vit_base_patch14_dinov2.lvd142m_get_30\n"
     ]
    },
    {
     "name": "stderr",
     "output_type": "stream",
     "text": [
      "100%|██████████████████████████████████████████████████████████████████████████████████| 81/81 [04:06<00:00,  3.04s/it]\n"
     ]
    },
    {
     "name": "stdout",
     "output_type": "stream",
     "text": [
      "R2: 0.5459285569700763 | MSE: 0.8327813525020512\n",
      "Training LIGHT_GBM_bc_cols_vit_base_patch16_224.dino_get_10_{'learning_rate': 0.01, 'max_depth': -1, 'min_child_samples': 20, 'n_estimators': 1000}_vit_base_patch14_dinov2.lvd142m_get_30\n"
     ]
    },
    {
     "name": "stderr",
     "output_type": "stream",
     "text": [
      "100%|██████████████████████████████████████████████████████████████████████████████████| 81/81 [04:16<00:00,  3.16s/it]\n"
     ]
    },
    {
     "name": "stdout",
     "output_type": "stream",
     "text": [
      "R2: 0.5459285569700763 | MSE: 0.8327813525020512\n",
      "Training LIGHT_GBM_resnet_cols_vit_base_patch16_224.dino_get_10_{'learning_rate': 0.01, 'max_depth': -1, 'min_child_samples': 20, 'n_estimators': 1100}_vit_base_patch14_dinov2.lvd142m_get_30\n"
     ]
    },
    {
     "name": "stderr",
     "output_type": "stream",
     "text": [
      "100%|██████████████████████████████████████████████████████████████████████████████████| 81/81 [04:52<00:00,  3.61s/it]\n"
     ]
    },
    {
     "name": "stdout",
     "output_type": "stream",
     "text": [
      "R2: 0.5470868981959147 | MSE: 0.8306569181481184\n",
      "Training LIGHT_GBM_bc_cols_vit_base_patch16_224.dino_get_10_{'learning_rate': 0.01, 'max_depth': -1, 'min_child_samples': 20, 'n_estimators': 1100}_vit_base_patch14_dinov2.lvd142m_get_30\n"
     ]
    },
    {
     "name": "stderr",
     "output_type": "stream",
     "text": [
      "100%|██████████████████████████████████████████████████████████████████████████████████| 81/81 [04:42<00:00,  3.49s/it]\n"
     ]
    },
    {
     "name": "stdout",
     "output_type": "stream",
     "text": [
      "R2: 0.5470868981959147 | MSE: 0.8306569181481184\n",
      "Training LIGHT_GBM_resnet_cols_vit_base_patch16_224.dino_get_10_{'learning_rate': 0.01, 'max_depth': -1, 'min_child_samples': 20, 'n_estimators': 1200}_vit_base_patch14_dinov2.lvd142m_get_30\n"
     ]
    },
    {
     "name": "stderr",
     "output_type": "stream",
     "text": [
      "100%|██████████████████████████████████████████████████████████████████████████████████| 81/81 [05:18<00:00,  3.94s/it]\n"
     ]
    },
    {
     "name": "stdout",
     "output_type": "stream",
     "text": [
      "R2: 0.5459287250630476 | MSE: 0.8327810442142384\n",
      "Training LIGHT_GBM_bc_cols_vit_base_patch16_224.dino_get_10_{'learning_rate': 0.01, 'max_depth': -1, 'min_child_samples': 20, 'n_estimators': 1200}_vit_base_patch14_dinov2.lvd142m_get_30\n"
     ]
    },
    {
     "name": "stderr",
     "output_type": "stream",
     "text": [
      "100%|██████████████████████████████████████████████████████████████████████████████████| 81/81 [02:59<00:00,  2.21s/it]\n"
     ]
    },
    {
     "name": "stdout",
     "output_type": "stream",
     "text": [
      "R2: 0.5459287250630476 | MSE: 0.8327810442142384\n",
      "Training LIGHT_GBM_resnet_cols_vit_base_patch16_224.dino_get_10_{'learning_rate': 0.01, 'max_depth': -1, 'min_child_samples': 20, 'n_estimators': 1300}_vit_base_patch14_dinov2.lvd142m_get_30\n"
     ]
    },
    {
     "name": "stderr",
     "output_type": "stream",
     "text": [
      "100%|██████████████████████████████████████████████████████████████████████████████████| 81/81 [02:29<00:00,  1.84s/it]\n"
     ]
    },
    {
     "name": "stdout",
     "output_type": "stream",
     "text": [
      "R2: 0.5459225867943227 | MSE: 0.8327923019927425\n",
      "Training LIGHT_GBM_bc_cols_vit_base_patch16_224.dino_get_10_{'learning_rate': 0.01, 'max_depth': -1, 'min_child_samples': 20, 'n_estimators': 1300}_vit_base_patch14_dinov2.lvd142m_get_30\n"
     ]
    },
    {
     "name": "stderr",
     "output_type": "stream",
     "text": [
      " 68%|███████████████████████████████████████████████████████▋                          | 55/81 [01:46<01:20,  3.11s/it]"
     ]
    }
   ],
   "source": [
    "result_frame: ResultFrame = ResultFrame()\n",
    "secondary_model_list = [\n",
    "    # \"vit_large_patch14_dinov2.lvd142m\",\n",
    "    # \"vit_small_patch14_dinov2.lvd142m\",\n",
    "    # \"eva_large_patch14_196.in22k_ft_in22k_in1k\",\n",
    "    \"vit_base_patch14_dinov2.lvd142m\",\n",
    "    # 'resnet34'\n",
    "]\n",
    "secondary_options = [f\"get_{k}\" for k in [30]]\n",
    "\n",
    "# model_name = \"eva_large_patch14_196.in22k_ft_in22k_in1k\"\n",
    "# options = [\"mean\", \"get_one\", \"get_97\"] + [f\"get_{k}\" for k in [5, 10, 20, 30]]\n",
    "options = [\"get_10\"]\n",
    "for model_name in model_list:\n",
    "  for option in options:\n",
    "    resnet_dataset = pd.read_excel(f\"{model_name}_{option}.xlsx\")\n",
    "    df_orig = list_dataset[\"std_col_name_ohv_type\"].get_dataframe()\n",
    "    for snd_model in secondary_model_list:\n",
    "      for opt in secondary_options:\n",
    "        df_new = pd.merge(df_orig, resnet_dataset, on = \"name\")\n",
    "        df_snd = pd.read_excel(f\"{snd_model}_{opt}.xlsx\")\n",
    "        df_new = pd.merge(df_new, df_snd, on = \"name\")\n",
    "\n",
    "        dataset_orig_resnet =  Dataset(\"orig_resnet\", df_new, ScalerType.Raw_)\n",
    "        list_dataset[\"orig_resnet\"] = dataset_orig_resnet\n",
    "        orig_cols = ['mass', 'h_diameter', 'B', 'C']\n",
    "        resnet_cols = list(resnet_dataset.drop(\"name\", axis = 1).columns)\n",
    "        snd_cols = list(df_snd.drop(\"name\", axis = 1).columns)\n",
    "        x_cols = orig_cols + resnet_cols\n",
    "        bc_cols = ['B', 'C'] + resnet_cols + snd_cols\n",
    "        b_cols = ['B'] + resnet_cols + snd_cols\n",
    "        c_cols = ['C'] + resnet_cols + snd_cols\n",
    "        feature_collection = {\"orig_cols\": orig_cols, \"x_cols\": x_cols, \"resnet_cols\": resnet_cols + snd_cols, \"bc_cols\": bc_cols, \"b_cols\": b_cols, \"c_cols\": c_cols}\n",
    "\n",
    "\n",
    "\n",
    "        for dataset_name in std_dataset_names:\n",
    "            for model_type in ModelType:\n",
    "              model_family = model_type.__str__().split(\".\")[-1]\n",
    "              if model_family in [\"DECISION_TREE\", \"XGB\", \"LINEAR_REGRESSION\", \"SVR\", \"RANDOM_FOREST\"]:\n",
    "                continue\n",
    "              if model_family == \"LIGHT_GBM\":\n",
    "                for param in light_gbm_grid:\n",
    "                  for key, value in param.items():\n",
    "                    model_type.value[key] = value\n",
    "                  for key, value in feature_collection.items():\n",
    "                      if key in [\"orig_cols\", \"x_cols\", \"b_cols\", \"c_cols\"]:\n",
    "                          continue\n",
    "                      name = f\"{model_family}_{key}_{model_name}_{option}_{str(param)}_{snd_model}_{opt}\"\n",
    "                      print(f\"Training {name}\")\n",
    "                      model = Model(\n",
    "                          model_type=model_type,\n",
    "                          name= name,\n",
    "                          x_cols=value,\n",
    "                          y_cols=y_cols,\n",
    "                          dataset=list_dataset[\"orig_resnet\"],\n",
    "                          scaler_type=ScalerType.Raw_,\n",
    "                      )\n",
    "                      result =     model.evaluate()\n",
    "                      r2  =    result.result[-2]\n",
    "                      mse =   result.result[-1]\n",
    "                      print(f\"R2: {r2} | MSE: {mse}\")\n",
    "                      result_frame.add_result(result)\n",
    "                      # result_frame.save_result(f\"result_{model_family}_{option}.xlsx\")\n",
    "                    # model_count += 1\n",
    "\n",
    "result_frame.display_result()\n"
   ]
  },
  {
   "cell_type": "code",
   "execution_count": null,
   "metadata": {
    "id": "k_G8tkjAZ2t8"
   },
   "outputs": [],
   "source": [
    "result_frame.save_result(f\"result_{model_name}_best_54_1.xlsx\")"
   ]
  },
  {
   "cell_type": "code",
   "execution_count": null,
   "metadata": {
    "id": "XTkUNIV8NdeY"
   },
   "outputs": [],
   "source": [
    "# result_frame.save_result(f\"result_{model_family}_get_mean.xlsx\")"
   ]
  },
  {
   "cell_type": "code",
   "execution_count": null,
   "metadata": {
    "id": "b_DERirgmT8s"
   },
   "outputs": [],
   "source": []
  },
  {
   "cell_type": "code",
   "execution_count": null,
   "metadata": {
    "id": "_tw0j9mcNdeY"
   },
   "outputs": [],
   "source": [
    "result_frame.save_result(f\"result_{model_family}_get_10_new.xlsx\")"
   ]
  },
  {
   "cell_type": "code",
   "execution_count": null,
   "metadata": {
    "id": "LnfL9rPLNdeZ"
   },
   "outputs": [],
   "source": []
  },
  {
   "cell_type": "markdown",
   "metadata": {
    "id": "Jz3GZad1NdeZ"
   },
   "source": [
    "#### Model 2: brix $ \\sim \\beta_0 $ + $ \\beta_1 $ * h.diameter + $ \\beta_2 $ * v.diameter + $ \\beta_3 $ * mass"
   ]
  },
  {
   "cell_type": "code",
   "execution_count": null,
   "metadata": {
    "id": "XWr4Ed-XNdea"
   },
   "outputs": [],
   "source": [
    "list_dataset.keys()"
   ]
  },
  {
   "cell_type": "code",
   "execution_count": null,
   "metadata": {
    "id": "uqvyfrJDNdea"
   },
   "outputs": [],
   "source": [
    "list_dataset[\"std_col_name_ohv_type\"].get_dataframe()"
   ]
  },
  {
   "cell_type": "code",
   "execution_count": null,
   "metadata": {
    "id": "TvCrO69aNdeb"
   },
   "outputs": [],
   "source": [
    "x_cols"
   ]
  },
  {
   "cell_type": "code",
   "execution_count": null,
   "metadata": {
    "id": "veKAVoghNdec"
   },
   "outputs": [],
   "source": [
    "x_cols_no_type = x_cols[:-2]\n",
    "x_cols_no_type"
   ]
  },
  {
   "cell_type": "code",
   "execution_count": null,
   "metadata": {
    "id": "xzANjun6Nded"
   },
   "outputs": [],
   "source": [
    "y_cols"
   ]
  },
  {
   "cell_type": "code",
   "execution_count": null,
   "metadata": {
    "id": "T-BHSY0FNded"
   },
   "outputs": [],
   "source": [
    "list_dataset.keys()"
   ]
  },
  {
   "cell_type": "code",
   "execution_count": null,
   "metadata": {
    "id": "tmpb0Vh8Ndef"
   },
   "outputs": [],
   "source": [
    "list_dataset[\"std_col_name_ohv_type\"].get_dataframe().head(10)"
   ]
  },
  {
   "cell_type": "code",
   "execution_count": null,
   "metadata": {
    "id": "RlXgxetfNdeg"
   },
   "outputs": [],
   "source": [
    "x_cols_no_type"
   ]
  },
  {
   "cell_type": "code",
   "execution_count": null,
   "metadata": {
    "id": "vqvfxvjNNdeh"
   },
   "outputs": [],
   "source": [
    "y_cols"
   ]
  },
  {
   "cell_type": "code",
   "execution_count": null,
   "metadata": {
    "id": "RmeuNHTmNdei"
   },
   "outputs": [],
   "source": []
  }
 ],
 "metadata": {
  "colab": {
   "provenance": []
  },
  "kernelspec": {
   "display_name": "Python 3 (ipykernel)",
   "language": "python",
   "name": "python3"
  },
  "language_info": {
   "codemirror_mode": {
    "name": "ipython",
    "version": 3
   },
   "file_extension": ".py",
   "mimetype": "text/x-python",
   "name": "python",
   "nbconvert_exporter": "python",
   "pygments_lexer": "ipython3",
   "version": "3.11.7"
  }
 },
 "nbformat": 4,
 "nbformat_minor": 4
}
