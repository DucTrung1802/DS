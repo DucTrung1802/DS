{
 "cells": [
  {
   "cell_type": "markdown",
   "id": "b338b917-97a6-4479-8149-4415369c23d2",
   "metadata": {},
   "source": [
    "# Diabetes Analysis"
   ]
  },
  {
   "cell_type": "markdown",
   "id": "9d82b63f-ace4-46bf-94c9-dba9d6cdd275",
   "metadata": {},
   "source": [
    "### Author: Ly Duc Trung"
   ]
  },
  {
   "cell_type": "markdown",
   "id": "6aafad5f-b0ea-423b-a419-75897648e602",
   "metadata": {},
   "source": [
    "### Link: https://github.com/DucTrung1802/DS/blob/main/GLM_Report/diabetes_analysis.ipynb"
   ]
  },
  {
   "cell_type": "markdown",
   "id": "b6231cd2-61d3-4c1e-8765-fc06df5b9083",
   "metadata": {},
   "source": [
    "### Dataset Link: https://www.archive.ics.uci.edu/dataset/891/cdc+diabetes+health+indicators"
   ]
  },
  {
   "cell_type": "markdown",
   "id": "b7bcf8af-3689-4af6-92d7-53eb46a817f3",
   "metadata": {},
   "source": [
    "## 0. Install and import libraries"
   ]
  },
  {
   "cell_type": "markdown",
   "id": "17497756-a85a-4d32-8769-b86450f80548",
   "metadata": {},
   "source": [
    "### Check R version"
   ]
  },
  {
   "cell_type": "code",
   "execution_count": 1,
   "id": "da41d543-be4f-4b9e-9a28-282b3947f958",
   "metadata": {},
   "outputs": [
    {
     "data": {
      "text/html": [
       "<dl>\n",
       "\t<dt>$platform</dt>\n",
       "\t\t<dd>'x86_64-w64-mingw32'</dd>\n",
       "\t<dt>$arch</dt>\n",
       "\t\t<dd>'x86_64'</dd>\n",
       "\t<dt>$os</dt>\n",
       "\t\t<dd>'mingw32'</dd>\n",
       "\t<dt>$system</dt>\n",
       "\t\t<dd>'x86_64, mingw32'</dd>\n",
       "\t<dt>$status</dt>\n",
       "\t\t<dd>''</dd>\n",
       "\t<dt>$major</dt>\n",
       "\t\t<dd>'4'</dd>\n",
       "\t<dt>$minor</dt>\n",
       "\t\t<dd>'0.5'</dd>\n",
       "\t<dt>$year</dt>\n",
       "\t\t<dd>'2021'</dd>\n",
       "\t<dt>$month</dt>\n",
       "\t\t<dd>'03'</dd>\n",
       "\t<dt>$day</dt>\n",
       "\t\t<dd>'31'</dd>\n",
       "\t<dt>$`svn rev`</dt>\n",
       "\t\t<dd>'80133'</dd>\n",
       "\t<dt>$language</dt>\n",
       "\t\t<dd>'R'</dd>\n",
       "\t<dt>$version.string</dt>\n",
       "\t\t<dd>'R version 4.0.5 (2021-03-31)'</dd>\n",
       "\t<dt>$nickname</dt>\n",
       "\t\t<dd>'Shake and Throw'</dd>\n",
       "</dl>\n"
      ],
      "text/latex": [
       "\\begin{description}\n",
       "\\item[\\$platform] 'x86\\_64-w64-mingw32'\n",
       "\\item[\\$arch] 'x86\\_64'\n",
       "\\item[\\$os] 'mingw32'\n",
       "\\item[\\$system] 'x86\\_64, mingw32'\n",
       "\\item[\\$status] ''\n",
       "\\item[\\$major] '4'\n",
       "\\item[\\$minor] '0.5'\n",
       "\\item[\\$year] '2021'\n",
       "\\item[\\$month] '03'\n",
       "\\item[\\$day] '31'\n",
       "\\item[\\$`svn rev`] '80133'\n",
       "\\item[\\$language] 'R'\n",
       "\\item[\\$version.string] 'R version 4.0.5 (2021-03-31)'\n",
       "\\item[\\$nickname] 'Shake and Throw'\n",
       "\\end{description}\n"
      ],
      "text/markdown": [
       "$platform\n",
       ":   'x86_64-w64-mingw32'\n",
       "$arch\n",
       ":   'x86_64'\n",
       "$os\n",
       ":   'mingw32'\n",
       "$system\n",
       ":   'x86_64, mingw32'\n",
       "$status\n",
       ":   ''\n",
       "$major\n",
       ":   '4'\n",
       "$minor\n",
       ":   '0.5'\n",
       "$year\n",
       ":   '2021'\n",
       "$month\n",
       ":   '03'\n",
       "$day\n",
       ":   '31'\n",
       "$`svn rev`\n",
       ":   '80133'\n",
       "$language\n",
       ":   'R'\n",
       "$version.string\n",
       ":   'R version 4.0.5 (2021-03-31)'\n",
       "$nickname\n",
       ":   'Shake and Throw'\n",
       "\n",
       "\n"
      ],
      "text/plain": [
       "$platform\n",
       "[1] \"x86_64-w64-mingw32\"\n",
       "\n",
       "$arch\n",
       "[1] \"x86_64\"\n",
       "\n",
       "$os\n",
       "[1] \"mingw32\"\n",
       "\n",
       "$system\n",
       "[1] \"x86_64, mingw32\"\n",
       "\n",
       "$status\n",
       "[1] \"\"\n",
       "\n",
       "$major\n",
       "[1] \"4\"\n",
       "\n",
       "$minor\n",
       "[1] \"0.5\"\n",
       "\n",
       "$year\n",
       "[1] \"2021\"\n",
       "\n",
       "$month\n",
       "[1] \"03\"\n",
       "\n",
       "$day\n",
       "[1] \"31\"\n",
       "\n",
       "$`svn rev`\n",
       "[1] \"80133\"\n",
       "\n",
       "$language\n",
       "[1] \"R\"\n",
       "\n",
       "$version.string\n",
       "[1] \"R version 4.0.5 (2021-03-31)\"\n",
       "\n",
       "$nickname\n",
       "[1] \"Shake and Throw\"\n"
      ]
     },
     "metadata": {},
     "output_type": "display_data"
    }
   ],
   "source": [
    "R.Version()"
   ]
  },
  {
   "cell_type": "markdown",
   "id": "886aff28-01b3-4c82-ac35-a55358629926",
   "metadata": {},
   "source": [
    "### 0.1. Install"
   ]
  },
  {
   "cell_type": "code",
   "execution_count": 2,
   "id": "bb2ef04b-f627-4d35-b48e-0f5c211657e8",
   "metadata": {},
   "outputs": [],
   "source": [
    "# INSTALL THESE PACKAGES IN CONDA TERMINAL\n",
    "# conda install r-corrplot\n",
    "# conda install r-rcompanion\n",
    "# conda install r-pcaPP\n",
    "# conda install r-caret\n",
    "# conda install r-gmodels\n",
    "# conda install r-DescTools\n",
    "# conda install r-epitools\n",
    "# conda install r-ranger\n",
    "# conda install r-psych\n",
    "# conda install r-MASS"
   ]
  },
  {
   "cell_type": "markdown",
   "id": "b7e48079-fbef-496c-b67d-31fa3cccc7a3",
   "metadata": {},
   "source": [
    "### 0.2. Import"
   ]
  },
  {
   "cell_type": "code",
   "execution_count": 3,
   "id": "f6a80c0c-47c2-487a-a648-f3fda518f405",
   "metadata": {},
   "outputs": [
    {
     "name": "stderr",
     "output_type": "stream",
     "text": [
      "Warning message:\n",
      "\"package 'corrplot' was built under R version 4.1.3\"\n",
      "corrplot 0.92 loaded\n",
      "\n",
      "Loading required package: ggplot2\n",
      "\n",
      "Loading required package: lattice\n",
      "\n",
      "Registered S3 method overwritten by 'gdata':\n",
      "  method         from     \n",
      "  reorder.factor DescTools\n",
      "\n",
      "\n",
      "Attaching package: 'DescTools'\n",
      "\n",
      "\n",
      "The following objects are masked from 'package:caret':\n",
      "\n",
      "    MAE, RMSE\n",
      "\n",
      "\n",
      "\n",
      "Attaching package: 'psych'\n",
      "\n",
      "\n",
      "The following objects are masked from 'package:DescTools':\n",
      "\n",
      "    AUC, ICC, SD\n",
      "\n",
      "\n",
      "The following objects are masked from 'package:ggplot2':\n",
      "\n",
      "    %+%, alpha\n",
      "\n",
      "\n",
      "The following object is masked from 'package:rcompanion':\n",
      "\n",
      "    phi\n",
      "\n",
      "\n"
     ]
    }
   ],
   "source": [
    "library(corrplot)\n",
    "library(rcompanion)\n",
    "library(pcaPP)\n",
    "library(caret)\n",
    "library(gmodels)\n",
    "library(DescTools)\n",
    "library(ranger)\n",
    "library(psych)\n",
    "library(MASS)"
   ]
  },
  {
   "cell_type": "markdown",
   "id": "0c58420a-613d-487d-8027-762338abe091",
   "metadata": {},
   "source": [
    "## 1. Import Data"
   ]
  },
  {
   "cell_type": "code",
   "execution_count": 4,
   "id": "32cdb2b4-c609-46ef-879f-40ba8d02f1f1",
   "metadata": {
    "vscode": {
     "languageId": "r"
    }
   },
   "outputs": [],
   "source": [
    "input_data = read.csv(\"diabetes_full_data.csv\")"
   ]
  },
  {
   "cell_type": "code",
   "execution_count": 5,
   "id": "71ddcb1b-655e-4dfd-8986-4a09bbdbfd1b",
   "metadata": {
    "vscode": {
     "languageId": "r"
    }
   },
   "outputs": [],
   "source": [
    "df = data.frame(input_data)"
   ]
  },
  {
   "cell_type": "code",
   "execution_count": 6,
   "id": "c29d71d9-4938-4154-a629-2dffbb5cdf7e",
   "metadata": {
    "scrolled": true,
    "vscode": {
     "languageId": "r"
    }
   },
   "outputs": [
    {
     "data": {
      "text/html": [
       "<table class=\"dataframe\">\n",
       "<caption>A data.frame: 253680 × 23</caption>\n",
       "<thead>\n",
       "\t<tr><th scope=col>X</th><th scope=col>HighBP</th><th scope=col>HighChol</th><th scope=col>CholCheck</th><th scope=col>BMI</th><th scope=col>Smoker</th><th scope=col>Stroke</th><th scope=col>HeartDiseaseorAttack</th><th scope=col>PhysActivity</th><th scope=col>Fruits</th><th scope=col>⋯</th><th scope=col>NoDocbcCost</th><th scope=col>GenHlth</th><th scope=col>MentHlth</th><th scope=col>PhysHlth</th><th scope=col>DiffWalk</th><th scope=col>Sex</th><th scope=col>Age</th><th scope=col>Education</th><th scope=col>Income</th><th scope=col>Diabetes_binary</th></tr>\n",
       "\t<tr><th scope=col>&lt;int&gt;</th><th scope=col>&lt;int&gt;</th><th scope=col>&lt;int&gt;</th><th scope=col>&lt;int&gt;</th><th scope=col>&lt;int&gt;</th><th scope=col>&lt;int&gt;</th><th scope=col>&lt;int&gt;</th><th scope=col>&lt;int&gt;</th><th scope=col>&lt;int&gt;</th><th scope=col>&lt;int&gt;</th><th scope=col>⋯</th><th scope=col>&lt;int&gt;</th><th scope=col>&lt;int&gt;</th><th scope=col>&lt;int&gt;</th><th scope=col>&lt;int&gt;</th><th scope=col>&lt;int&gt;</th><th scope=col>&lt;int&gt;</th><th scope=col>&lt;int&gt;</th><th scope=col>&lt;int&gt;</th><th scope=col>&lt;int&gt;</th><th scope=col>&lt;int&gt;</th></tr>\n",
       "</thead>\n",
       "<tbody>\n",
       "\t<tr><td> 0</td><td>1</td><td>1</td><td>1</td><td>40</td><td>1</td><td>0</td><td>0</td><td>0</td><td>0</td><td>⋯</td><td>0</td><td>5</td><td>18</td><td>15</td><td>1</td><td>0</td><td> 9</td><td>4</td><td>3</td><td>0</td></tr>\n",
       "\t<tr><td> 1</td><td>0</td><td>0</td><td>0</td><td>25</td><td>1</td><td>0</td><td>0</td><td>1</td><td>0</td><td>⋯</td><td>1</td><td>3</td><td> 0</td><td> 0</td><td>0</td><td>0</td><td> 7</td><td>6</td><td>1</td><td>0</td></tr>\n",
       "\t<tr><td> 2</td><td>1</td><td>1</td><td>1</td><td>28</td><td>0</td><td>0</td><td>0</td><td>0</td><td>1</td><td>⋯</td><td>1</td><td>5</td><td>30</td><td>30</td><td>1</td><td>0</td><td> 9</td><td>4</td><td>8</td><td>0</td></tr>\n",
       "\t<tr><td> 3</td><td>1</td><td>0</td><td>1</td><td>27</td><td>0</td><td>0</td><td>0</td><td>1</td><td>1</td><td>⋯</td><td>0</td><td>2</td><td> 0</td><td> 0</td><td>0</td><td>0</td><td>11</td><td>3</td><td>6</td><td>0</td></tr>\n",
       "\t<tr><td> 4</td><td>1</td><td>1</td><td>1</td><td>24</td><td>0</td><td>0</td><td>0</td><td>1</td><td>1</td><td>⋯</td><td>0</td><td>2</td><td> 3</td><td> 0</td><td>0</td><td>0</td><td>11</td><td>5</td><td>4</td><td>0</td></tr>\n",
       "\t<tr><td> 5</td><td>1</td><td>1</td><td>1</td><td>25</td><td>1</td><td>0</td><td>0</td><td>1</td><td>1</td><td>⋯</td><td>0</td><td>2</td><td> 0</td><td> 2</td><td>0</td><td>1</td><td>10</td><td>6</td><td>8</td><td>0</td></tr>\n",
       "\t<tr><td> 6</td><td>1</td><td>0</td><td>1</td><td>30</td><td>1</td><td>0</td><td>0</td><td>0</td><td>0</td><td>⋯</td><td>0</td><td>3</td><td> 0</td><td>14</td><td>0</td><td>0</td><td> 9</td><td>6</td><td>7</td><td>0</td></tr>\n",
       "\t<tr><td> 7</td><td>1</td><td>1</td><td>1</td><td>25</td><td>1</td><td>0</td><td>0</td><td>1</td><td>0</td><td>⋯</td><td>0</td><td>3</td><td> 0</td><td> 0</td><td>1</td><td>0</td><td>11</td><td>4</td><td>4</td><td>0</td></tr>\n",
       "\t<tr><td> 8</td><td>1</td><td>1</td><td>1</td><td>30</td><td>1</td><td>0</td><td>1</td><td>0</td><td>1</td><td>⋯</td><td>0</td><td>5</td><td>30</td><td>30</td><td>1</td><td>0</td><td> 9</td><td>5</td><td>1</td><td>1</td></tr>\n",
       "\t<tr><td> 9</td><td>0</td><td>0</td><td>1</td><td>24</td><td>0</td><td>0</td><td>0</td><td>0</td><td>0</td><td>⋯</td><td>0</td><td>2</td><td> 0</td><td> 0</td><td>0</td><td>1</td><td> 8</td><td>4</td><td>3</td><td>0</td></tr>\n",
       "\t<tr><td>10</td><td>0</td><td>0</td><td>1</td><td>25</td><td>1</td><td>0</td><td>0</td><td>1</td><td>1</td><td>⋯</td><td>0</td><td>3</td><td> 0</td><td> 0</td><td>0</td><td>1</td><td>13</td><td>6</td><td>8</td><td>1</td></tr>\n",
       "\t<tr><td>11</td><td>1</td><td>1</td><td>1</td><td>34</td><td>1</td><td>0</td><td>0</td><td>0</td><td>1</td><td>⋯</td><td>0</td><td>3</td><td> 0</td><td>30</td><td>1</td><td>0</td><td>10</td><td>5</td><td>1</td><td>0</td></tr>\n",
       "\t<tr><td>12</td><td>0</td><td>0</td><td>1</td><td>26</td><td>1</td><td>0</td><td>0</td><td>0</td><td>0</td><td>⋯</td><td>0</td><td>3</td><td> 0</td><td>15</td><td>0</td><td>0</td><td> 7</td><td>5</td><td>7</td><td>0</td></tr>\n",
       "\t<tr><td>13</td><td>1</td><td>1</td><td>1</td><td>28</td><td>0</td><td>0</td><td>0</td><td>0</td><td>0</td><td>⋯</td><td>0</td><td>4</td><td> 0</td><td> 0</td><td>1</td><td>0</td><td>11</td><td>4</td><td>6</td><td>1</td></tr>\n",
       "\t<tr><td>14</td><td>0</td><td>1</td><td>1</td><td>33</td><td>1</td><td>1</td><td>0</td><td>1</td><td>0</td><td>⋯</td><td>1</td><td>4</td><td>30</td><td>28</td><td>0</td><td>0</td><td> 4</td><td>6</td><td>2</td><td>0</td></tr>\n",
       "\t<tr><td>15</td><td>1</td><td>0</td><td>1</td><td>33</td><td>0</td><td>0</td><td>0</td><td>1</td><td>0</td><td>⋯</td><td>0</td><td>2</td><td> 5</td><td> 0</td><td>0</td><td>0</td><td> 6</td><td>6</td><td>8</td><td>0</td></tr>\n",
       "\t<tr><td>16</td><td>1</td><td>1</td><td>1</td><td>21</td><td>0</td><td>0</td><td>0</td><td>1</td><td>1</td><td>⋯</td><td>0</td><td>3</td><td> 0</td><td> 0</td><td>0</td><td>0</td><td>10</td><td>4</td><td>3</td><td>0</td></tr>\n",
       "\t<tr><td>17</td><td>0</td><td>0</td><td>1</td><td>23</td><td>1</td><td>0</td><td>0</td><td>1</td><td>0</td><td>⋯</td><td>0</td><td>2</td><td> 0</td><td> 0</td><td>0</td><td>1</td><td> 7</td><td>5</td><td>6</td><td>1</td></tr>\n",
       "\t<tr><td>18</td><td>0</td><td>0</td><td>0</td><td>23</td><td>0</td><td>0</td><td>0</td><td>0</td><td>0</td><td>⋯</td><td>0</td><td>2</td><td>15</td><td> 0</td><td>0</td><td>0</td><td> 2</td><td>6</td><td>7</td><td>0</td></tr>\n",
       "\t<tr><td>19</td><td>0</td><td>1</td><td>1</td><td>28</td><td>0</td><td>0</td><td>0</td><td>0</td><td>0</td><td>⋯</td><td>0</td><td>2</td><td>10</td><td> 0</td><td>0</td><td>1</td><td> 4</td><td>6</td><td>8</td><td>0</td></tr>\n",
       "\t<tr><td>20</td><td>1</td><td>1</td><td>1</td><td>22</td><td>0</td><td>1</td><td>1</td><td>0</td><td>1</td><td>⋯</td><td>0</td><td>3</td><td>30</td><td> 0</td><td>1</td><td>0</td><td>12</td><td>4</td><td>4</td><td>0</td></tr>\n",
       "\t<tr><td>21</td><td>1</td><td>1</td><td>1</td><td>38</td><td>1</td><td>0</td><td>0</td><td>0</td><td>1</td><td>⋯</td><td>0</td><td>5</td><td>15</td><td>30</td><td>1</td><td>0</td><td>13</td><td>2</td><td>3</td><td>0</td></tr>\n",
       "\t<tr><td>22</td><td>0</td><td>0</td><td>1</td><td>28</td><td>1</td><td>0</td><td>0</td><td>0</td><td>0</td><td>⋯</td><td>0</td><td>3</td><td> 0</td><td> 7</td><td>0</td><td>1</td><td> 5</td><td>5</td><td>5</td><td>0</td></tr>\n",
       "\t<tr><td>23</td><td>1</td><td>0</td><td>1</td><td>27</td><td>0</td><td>0</td><td>0</td><td>1</td><td>1</td><td>⋯</td><td>0</td><td>1</td><td> 0</td><td> 0</td><td>0</td><td>0</td><td>13</td><td>5</td><td>4</td><td>1</td></tr>\n",
       "\t<tr><td>24</td><td>1</td><td>1</td><td>1</td><td>28</td><td>1</td><td>0</td><td>0</td><td>0</td><td>1</td><td>⋯</td><td>0</td><td>3</td><td> 6</td><td> 0</td><td>1</td><td>0</td><td> 9</td><td>4</td><td>6</td><td>0</td></tr>\n",
       "\t<tr><td>25</td><td>0</td><td>0</td><td>1</td><td>32</td><td>0</td><td>0</td><td>0</td><td>1</td><td>1</td><td>⋯</td><td>0</td><td>2</td><td> 0</td><td> 0</td><td>0</td><td>0</td><td> 5</td><td>6</td><td>8</td><td>0</td></tr>\n",
       "\t<tr><td>26</td><td>1</td><td>1</td><td>1</td><td>37</td><td>1</td><td>1</td><td>1</td><td>0</td><td>0</td><td>⋯</td><td>0</td><td>5</td><td> 0</td><td> 0</td><td>1</td><td>1</td><td>10</td><td>6</td><td>5</td><td>1</td></tr>\n",
       "\t<tr><td>27</td><td>1</td><td>1</td><td>1</td><td>28</td><td>1</td><td>0</td><td>1</td><td>0</td><td>0</td><td>⋯</td><td>0</td><td>4</td><td> 0</td><td> 0</td><td>0</td><td>1</td><td>12</td><td>2</td><td>4</td><td>1</td></tr>\n",
       "\t<tr><td>28</td><td>1</td><td>1</td><td>1</td><td>27</td><td>1</td><td>0</td><td>0</td><td>0</td><td>1</td><td>⋯</td><td>0</td><td>4</td><td>20</td><td>20</td><td>1</td><td>0</td><td> 8</td><td>4</td><td>7</td><td>1</td></tr>\n",
       "\t<tr><td>29</td><td>0</td><td>1</td><td>1</td><td>31</td><td>1</td><td>0</td><td>0</td><td>1</td><td>1</td><td>⋯</td><td>0</td><td>1</td><td> 0</td><td> 0</td><td>0</td><td>1</td><td>12</td><td>6</td><td>8</td><td>0</td></tr>\n",
       "\t<tr><td>⋮</td><td>⋮</td><td>⋮</td><td>⋮</td><td>⋮</td><td>⋮</td><td>⋮</td><td>⋮</td><td>⋮</td><td>⋮</td><td>⋱</td><td>⋮</td><td>⋮</td><td>⋮</td><td>⋮</td><td>⋮</td><td>⋮</td><td>⋮</td><td>⋮</td><td>⋮</td><td>⋮</td></tr>\n",
       "\t<tr><td>253650</td><td>1</td><td>0</td><td>1</td><td>27</td><td>0</td><td>0</td><td>0</td><td>1</td><td>0</td><td>⋯</td><td>0</td><td>4</td><td> 0</td><td> 0</td><td>0</td><td>0</td><td> 5</td><td>4</td><td>2</td><td>0</td></tr>\n",
       "\t<tr><td>253651</td><td>0</td><td>0</td><td>1</td><td>24</td><td>0</td><td>0</td><td>0</td><td>1</td><td>1</td><td>⋯</td><td>1</td><td>1</td><td> 0</td><td> 0</td><td>0</td><td>1</td><td> 2</td><td>6</td><td>3</td><td>0</td></tr>\n",
       "\t<tr><td>253652</td><td>0</td><td>1</td><td>1</td><td>27</td><td>0</td><td>0</td><td>0</td><td>1</td><td>1</td><td>⋯</td><td>0</td><td>4</td><td> 0</td><td>30</td><td>0</td><td>1</td><td>11</td><td>2</td><td>3</td><td>1</td></tr>\n",
       "\t<tr><td>253653</td><td>0</td><td>0</td><td>1</td><td>33</td><td>1</td><td>0</td><td>0</td><td>0</td><td>1</td><td>⋯</td><td>0</td><td>4</td><td> 0</td><td>15</td><td>0</td><td>1</td><td>10</td><td>6</td><td>3</td><td>0</td></tr>\n",
       "\t<tr><td>253654</td><td>0</td><td>0</td><td>1</td><td>26</td><td>1</td><td>0</td><td>0</td><td>1</td><td>1</td><td>⋯</td><td>0</td><td>2</td><td> 1</td><td> 0</td><td>0</td><td>1</td><td> 3</td><td>3</td><td>1</td><td>0</td></tr>\n",
       "\t<tr><td>253655</td><td>0</td><td>0</td><td>1</td><td>28</td><td>0</td><td>0</td><td>0</td><td>1</td><td>1</td><td>⋯</td><td>0</td><td>2</td><td> 0</td><td> 0</td><td>0</td><td>0</td><td> 2</td><td>6</td><td>4</td><td>0</td></tr>\n",
       "\t<tr><td>253656</td><td>0</td><td>0</td><td>1</td><td>25</td><td>0</td><td>0</td><td>0</td><td>1</td><td>1</td><td>⋯</td><td>0</td><td>1</td><td> 0</td><td> 0</td><td>0</td><td>0</td><td> 4</td><td>6</td><td>8</td><td>0</td></tr>\n",
       "\t<tr><td>253657</td><td>0</td><td>1</td><td>1</td><td>24</td><td>0</td><td>0</td><td>0</td><td>0</td><td>0</td><td>⋯</td><td>0</td><td>3</td><td> 0</td><td> 0</td><td>0</td><td>0</td><td> 7</td><td>5</td><td>3</td><td>0</td></tr>\n",
       "\t<tr><td>253658</td><td>0</td><td>0</td><td>0</td><td>27</td><td>0</td><td>0</td><td>0</td><td>1</td><td>0</td><td>⋯</td><td>1</td><td>2</td><td> 0</td><td> 0</td><td>0</td><td>0</td><td> 3</td><td>6</td><td>5</td><td>0</td></tr>\n",
       "\t<tr><td>253659</td><td>0</td><td>1</td><td>1</td><td>37</td><td>0</td><td>0</td><td>0</td><td>0</td><td>0</td><td>⋯</td><td>0</td><td>4</td><td> 0</td><td> 0</td><td>0</td><td>0</td><td> 6</td><td>4</td><td>1</td><td>1</td></tr>\n",
       "\t<tr><td>253660</td><td>0</td><td>1</td><td>1</td><td>34</td><td>1</td><td>0</td><td>0</td><td>0</td><td>1</td><td>⋯</td><td>0</td><td>3</td><td> 0</td><td> 2</td><td>1</td><td>0</td><td> 7</td><td>4</td><td>3</td><td>0</td></tr>\n",
       "\t<tr><td>253661</td><td>1</td><td>0</td><td>1</td><td>33</td><td>0</td><td>0</td><td>0</td><td>1</td><td>0</td><td>⋯</td><td>1</td><td>3</td><td> 0</td><td> 2</td><td>1</td><td>0</td><td> 6</td><td>6</td><td>6</td><td>0</td></tr>\n",
       "\t<tr><td>253662</td><td>0</td><td>0</td><td>1</td><td>16</td><td>0</td><td>0</td><td>0</td><td>1</td><td>0</td><td>⋯</td><td>0</td><td>1</td><td> 0</td><td> 0</td><td>0</td><td>0</td><td> 5</td><td>6</td><td>2</td><td>0</td></tr>\n",
       "\t<tr><td>253663</td><td>0</td><td>0</td><td>1</td><td>23</td><td>0</td><td>0</td><td>0</td><td>0</td><td>1</td><td>⋯</td><td>1</td><td>2</td><td> 0</td><td>30</td><td>0</td><td>0</td><td> 5</td><td>6</td><td>2</td><td>0</td></tr>\n",
       "\t<tr><td>253664</td><td>0</td><td>1</td><td>1</td><td>29</td><td>1</td><td>0</td><td>0</td><td>0</td><td>0</td><td>⋯</td><td>0</td><td>3</td><td> 0</td><td> 0</td><td>0</td><td>0</td><td> 6</td><td>6</td><td>4</td><td>0</td></tr>\n",
       "\t<tr><td>253665</td><td>0</td><td>1</td><td>1</td><td>17</td><td>0</td><td>0</td><td>0</td><td>0</td><td>0</td><td>⋯</td><td>1</td><td>4</td><td>30</td><td>30</td><td>0</td><td>0</td><td> 5</td><td>4</td><td>1</td><td>0</td></tr>\n",
       "\t<tr><td>253666</td><td>1</td><td>0</td><td>1</td><td>23</td><td>0</td><td>0</td><td>0</td><td>0</td><td>1</td><td>⋯</td><td>0</td><td>3</td><td> 0</td><td>15</td><td>0</td><td>0</td><td> 6</td><td>5</td><td>2</td><td>0</td></tr>\n",
       "\t<tr><td>253667</td><td>1</td><td>1</td><td>1</td><td>28</td><td>1</td><td>0</td><td>0</td><td>0</td><td>0</td><td>⋯</td><td>0</td><td>3</td><td> 0</td><td> 0</td><td>0</td><td>0</td><td>11</td><td>4</td><td>7</td><td>0</td></tr>\n",
       "\t<tr><td>253668</td><td>0</td><td>1</td><td>1</td><td>29</td><td>1</td><td>0</td><td>1</td><td>0</td><td>1</td><td>⋯</td><td>0</td><td>2</td><td> 0</td><td> 0</td><td>1</td><td>1</td><td>10</td><td>3</td><td>6</td><td>1</td></tr>\n",
       "\t<tr><td>253669</td><td>0</td><td>1</td><td>1</td><td>27</td><td>0</td><td>0</td><td>0</td><td>0</td><td>0</td><td>⋯</td><td>1</td><td>1</td><td> 0</td><td> 3</td><td>0</td><td>1</td><td> 6</td><td>2</td><td>4</td><td>0</td></tr>\n",
       "\t<tr><td>253670</td><td>1</td><td>1</td><td>1</td><td>25</td><td>0</td><td>0</td><td>1</td><td>0</td><td>1</td><td>⋯</td><td>0</td><td>5</td><td>15</td><td> 0</td><td>1</td><td>0</td><td>13</td><td>6</td><td>4</td><td>1</td></tr>\n",
       "\t<tr><td>253671</td><td>1</td><td>1</td><td>1</td><td>23</td><td>0</td><td>1</td><td>1</td><td>0</td><td>0</td><td>⋯</td><td>1</td><td>4</td><td> 0</td><td> 5</td><td>0</td><td>1</td><td> 8</td><td>3</td><td>2</td><td>0</td></tr>\n",
       "\t<tr><td>253672</td><td>1</td><td>0</td><td>1</td><td>30</td><td>1</td><td>0</td><td>1</td><td>1</td><td>1</td><td>⋯</td><td>0</td><td>3</td><td> 0</td><td> 0</td><td>0</td><td>1</td><td>12</td><td>2</td><td>1</td><td>0</td></tr>\n",
       "\t<tr><td>253673</td><td>1</td><td>0</td><td>1</td><td>42</td><td>0</td><td>0</td><td>0</td><td>1</td><td>1</td><td>⋯</td><td>0</td><td>3</td><td>14</td><td> 4</td><td>0</td><td>1</td><td> 3</td><td>6</td><td>8</td><td>0</td></tr>\n",
       "\t<tr><td>253674</td><td>0</td><td>0</td><td>1</td><td>27</td><td>0</td><td>0</td><td>0</td><td>0</td><td>0</td><td>⋯</td><td>0</td><td>1</td><td> 0</td><td> 0</td><td>0</td><td>0</td><td> 3</td><td>6</td><td>5</td><td>0</td></tr>\n",
       "\t<tr><td>253675</td><td>1</td><td>1</td><td>1</td><td>45</td><td>0</td><td>0</td><td>0</td><td>0</td><td>1</td><td>⋯</td><td>0</td><td>3</td><td> 0</td><td> 5</td><td>0</td><td>1</td><td> 5</td><td>6</td><td>7</td><td>0</td></tr>\n",
       "\t<tr><td>253676</td><td>1</td><td>1</td><td>1</td><td>18</td><td>0</td><td>0</td><td>0</td><td>0</td><td>0</td><td>⋯</td><td>0</td><td>4</td><td> 0</td><td> 0</td><td>1</td><td>0</td><td>11</td><td>2</td><td>4</td><td>1</td></tr>\n",
       "\t<tr><td>253677</td><td>0</td><td>0</td><td>1</td><td>28</td><td>0</td><td>0</td><td>0</td><td>1</td><td>1</td><td>⋯</td><td>0</td><td>1</td><td> 0</td><td> 0</td><td>0</td><td>0</td><td> 2</td><td>5</td><td>2</td><td>0</td></tr>\n",
       "\t<tr><td>253678</td><td>1</td><td>0</td><td>1</td><td>23</td><td>0</td><td>0</td><td>0</td><td>0</td><td>1</td><td>⋯</td><td>0</td><td>3</td><td> 0</td><td> 0</td><td>0</td><td>1</td><td> 7</td><td>5</td><td>1</td><td>0</td></tr>\n",
       "\t<tr><td>253679</td><td>1</td><td>1</td><td>1</td><td>25</td><td>0</td><td>0</td><td>1</td><td>1</td><td>1</td><td>⋯</td><td>0</td><td>2</td><td> 0</td><td> 0</td><td>0</td><td>0</td><td> 9</td><td>6</td><td>2</td><td>1</td></tr>\n",
       "</tbody>\n",
       "</table>\n"
      ],
      "text/latex": [
       "A data.frame: 253680 × 23\n",
       "\\begin{tabular}{lllllllllllllllllllll}\n",
       " X & HighBP & HighChol & CholCheck & BMI & Smoker & Stroke & HeartDiseaseorAttack & PhysActivity & Fruits & ⋯ & NoDocbcCost & GenHlth & MentHlth & PhysHlth & DiffWalk & Sex & Age & Education & Income & Diabetes\\_binary\\\\\n",
       " <int> & <int> & <int> & <int> & <int> & <int> & <int> & <int> & <int> & <int> & ⋯ & <int> & <int> & <int> & <int> & <int> & <int> & <int> & <int> & <int> & <int>\\\\\n",
       "\\hline\n",
       "\t  0 & 1 & 1 & 1 & 40 & 1 & 0 & 0 & 0 & 0 & ⋯ & 0 & 5 & 18 & 15 & 1 & 0 &  9 & 4 & 3 & 0\\\\\n",
       "\t  1 & 0 & 0 & 0 & 25 & 1 & 0 & 0 & 1 & 0 & ⋯ & 1 & 3 &  0 &  0 & 0 & 0 &  7 & 6 & 1 & 0\\\\\n",
       "\t  2 & 1 & 1 & 1 & 28 & 0 & 0 & 0 & 0 & 1 & ⋯ & 1 & 5 & 30 & 30 & 1 & 0 &  9 & 4 & 8 & 0\\\\\n",
       "\t  3 & 1 & 0 & 1 & 27 & 0 & 0 & 0 & 1 & 1 & ⋯ & 0 & 2 &  0 &  0 & 0 & 0 & 11 & 3 & 6 & 0\\\\\n",
       "\t  4 & 1 & 1 & 1 & 24 & 0 & 0 & 0 & 1 & 1 & ⋯ & 0 & 2 &  3 &  0 & 0 & 0 & 11 & 5 & 4 & 0\\\\\n",
       "\t  5 & 1 & 1 & 1 & 25 & 1 & 0 & 0 & 1 & 1 & ⋯ & 0 & 2 &  0 &  2 & 0 & 1 & 10 & 6 & 8 & 0\\\\\n",
       "\t  6 & 1 & 0 & 1 & 30 & 1 & 0 & 0 & 0 & 0 & ⋯ & 0 & 3 &  0 & 14 & 0 & 0 &  9 & 6 & 7 & 0\\\\\n",
       "\t  7 & 1 & 1 & 1 & 25 & 1 & 0 & 0 & 1 & 0 & ⋯ & 0 & 3 &  0 &  0 & 1 & 0 & 11 & 4 & 4 & 0\\\\\n",
       "\t  8 & 1 & 1 & 1 & 30 & 1 & 0 & 1 & 0 & 1 & ⋯ & 0 & 5 & 30 & 30 & 1 & 0 &  9 & 5 & 1 & 1\\\\\n",
       "\t  9 & 0 & 0 & 1 & 24 & 0 & 0 & 0 & 0 & 0 & ⋯ & 0 & 2 &  0 &  0 & 0 & 1 &  8 & 4 & 3 & 0\\\\\n",
       "\t 10 & 0 & 0 & 1 & 25 & 1 & 0 & 0 & 1 & 1 & ⋯ & 0 & 3 &  0 &  0 & 0 & 1 & 13 & 6 & 8 & 1\\\\\n",
       "\t 11 & 1 & 1 & 1 & 34 & 1 & 0 & 0 & 0 & 1 & ⋯ & 0 & 3 &  0 & 30 & 1 & 0 & 10 & 5 & 1 & 0\\\\\n",
       "\t 12 & 0 & 0 & 1 & 26 & 1 & 0 & 0 & 0 & 0 & ⋯ & 0 & 3 &  0 & 15 & 0 & 0 &  7 & 5 & 7 & 0\\\\\n",
       "\t 13 & 1 & 1 & 1 & 28 & 0 & 0 & 0 & 0 & 0 & ⋯ & 0 & 4 &  0 &  0 & 1 & 0 & 11 & 4 & 6 & 1\\\\\n",
       "\t 14 & 0 & 1 & 1 & 33 & 1 & 1 & 0 & 1 & 0 & ⋯ & 1 & 4 & 30 & 28 & 0 & 0 &  4 & 6 & 2 & 0\\\\\n",
       "\t 15 & 1 & 0 & 1 & 33 & 0 & 0 & 0 & 1 & 0 & ⋯ & 0 & 2 &  5 &  0 & 0 & 0 &  6 & 6 & 8 & 0\\\\\n",
       "\t 16 & 1 & 1 & 1 & 21 & 0 & 0 & 0 & 1 & 1 & ⋯ & 0 & 3 &  0 &  0 & 0 & 0 & 10 & 4 & 3 & 0\\\\\n",
       "\t 17 & 0 & 0 & 1 & 23 & 1 & 0 & 0 & 1 & 0 & ⋯ & 0 & 2 &  0 &  0 & 0 & 1 &  7 & 5 & 6 & 1\\\\\n",
       "\t 18 & 0 & 0 & 0 & 23 & 0 & 0 & 0 & 0 & 0 & ⋯ & 0 & 2 & 15 &  0 & 0 & 0 &  2 & 6 & 7 & 0\\\\\n",
       "\t 19 & 0 & 1 & 1 & 28 & 0 & 0 & 0 & 0 & 0 & ⋯ & 0 & 2 & 10 &  0 & 0 & 1 &  4 & 6 & 8 & 0\\\\\n",
       "\t 20 & 1 & 1 & 1 & 22 & 0 & 1 & 1 & 0 & 1 & ⋯ & 0 & 3 & 30 &  0 & 1 & 0 & 12 & 4 & 4 & 0\\\\\n",
       "\t 21 & 1 & 1 & 1 & 38 & 1 & 0 & 0 & 0 & 1 & ⋯ & 0 & 5 & 15 & 30 & 1 & 0 & 13 & 2 & 3 & 0\\\\\n",
       "\t 22 & 0 & 0 & 1 & 28 & 1 & 0 & 0 & 0 & 0 & ⋯ & 0 & 3 &  0 &  7 & 0 & 1 &  5 & 5 & 5 & 0\\\\\n",
       "\t 23 & 1 & 0 & 1 & 27 & 0 & 0 & 0 & 1 & 1 & ⋯ & 0 & 1 &  0 &  0 & 0 & 0 & 13 & 5 & 4 & 1\\\\\n",
       "\t 24 & 1 & 1 & 1 & 28 & 1 & 0 & 0 & 0 & 1 & ⋯ & 0 & 3 &  6 &  0 & 1 & 0 &  9 & 4 & 6 & 0\\\\\n",
       "\t 25 & 0 & 0 & 1 & 32 & 0 & 0 & 0 & 1 & 1 & ⋯ & 0 & 2 &  0 &  0 & 0 & 0 &  5 & 6 & 8 & 0\\\\\n",
       "\t 26 & 1 & 1 & 1 & 37 & 1 & 1 & 1 & 0 & 0 & ⋯ & 0 & 5 &  0 &  0 & 1 & 1 & 10 & 6 & 5 & 1\\\\\n",
       "\t 27 & 1 & 1 & 1 & 28 & 1 & 0 & 1 & 0 & 0 & ⋯ & 0 & 4 &  0 &  0 & 0 & 1 & 12 & 2 & 4 & 1\\\\\n",
       "\t 28 & 1 & 1 & 1 & 27 & 1 & 0 & 0 & 0 & 1 & ⋯ & 0 & 4 & 20 & 20 & 1 & 0 &  8 & 4 & 7 & 1\\\\\n",
       "\t 29 & 0 & 1 & 1 & 31 & 1 & 0 & 0 & 1 & 1 & ⋯ & 0 & 1 &  0 &  0 & 0 & 1 & 12 & 6 & 8 & 0\\\\\n",
       "\t ⋮ & ⋮ & ⋮ & ⋮ & ⋮ & ⋮ & ⋮ & ⋮ & ⋮ & ⋮ & ⋱ & ⋮ & ⋮ & ⋮ & ⋮ & ⋮ & ⋮ & ⋮ & ⋮ & ⋮ & ⋮\\\\\n",
       "\t 253650 & 1 & 0 & 1 & 27 & 0 & 0 & 0 & 1 & 0 & ⋯ & 0 & 4 &  0 &  0 & 0 & 0 &  5 & 4 & 2 & 0\\\\\n",
       "\t 253651 & 0 & 0 & 1 & 24 & 0 & 0 & 0 & 1 & 1 & ⋯ & 1 & 1 &  0 &  0 & 0 & 1 &  2 & 6 & 3 & 0\\\\\n",
       "\t 253652 & 0 & 1 & 1 & 27 & 0 & 0 & 0 & 1 & 1 & ⋯ & 0 & 4 &  0 & 30 & 0 & 1 & 11 & 2 & 3 & 1\\\\\n",
       "\t 253653 & 0 & 0 & 1 & 33 & 1 & 0 & 0 & 0 & 1 & ⋯ & 0 & 4 &  0 & 15 & 0 & 1 & 10 & 6 & 3 & 0\\\\\n",
       "\t 253654 & 0 & 0 & 1 & 26 & 1 & 0 & 0 & 1 & 1 & ⋯ & 0 & 2 &  1 &  0 & 0 & 1 &  3 & 3 & 1 & 0\\\\\n",
       "\t 253655 & 0 & 0 & 1 & 28 & 0 & 0 & 0 & 1 & 1 & ⋯ & 0 & 2 &  0 &  0 & 0 & 0 &  2 & 6 & 4 & 0\\\\\n",
       "\t 253656 & 0 & 0 & 1 & 25 & 0 & 0 & 0 & 1 & 1 & ⋯ & 0 & 1 &  0 &  0 & 0 & 0 &  4 & 6 & 8 & 0\\\\\n",
       "\t 253657 & 0 & 1 & 1 & 24 & 0 & 0 & 0 & 0 & 0 & ⋯ & 0 & 3 &  0 &  0 & 0 & 0 &  7 & 5 & 3 & 0\\\\\n",
       "\t 253658 & 0 & 0 & 0 & 27 & 0 & 0 & 0 & 1 & 0 & ⋯ & 1 & 2 &  0 &  0 & 0 & 0 &  3 & 6 & 5 & 0\\\\\n",
       "\t 253659 & 0 & 1 & 1 & 37 & 0 & 0 & 0 & 0 & 0 & ⋯ & 0 & 4 &  0 &  0 & 0 & 0 &  6 & 4 & 1 & 1\\\\\n",
       "\t 253660 & 0 & 1 & 1 & 34 & 1 & 0 & 0 & 0 & 1 & ⋯ & 0 & 3 &  0 &  2 & 1 & 0 &  7 & 4 & 3 & 0\\\\\n",
       "\t 253661 & 1 & 0 & 1 & 33 & 0 & 0 & 0 & 1 & 0 & ⋯ & 1 & 3 &  0 &  2 & 1 & 0 &  6 & 6 & 6 & 0\\\\\n",
       "\t 253662 & 0 & 0 & 1 & 16 & 0 & 0 & 0 & 1 & 0 & ⋯ & 0 & 1 &  0 &  0 & 0 & 0 &  5 & 6 & 2 & 0\\\\\n",
       "\t 253663 & 0 & 0 & 1 & 23 & 0 & 0 & 0 & 0 & 1 & ⋯ & 1 & 2 &  0 & 30 & 0 & 0 &  5 & 6 & 2 & 0\\\\\n",
       "\t 253664 & 0 & 1 & 1 & 29 & 1 & 0 & 0 & 0 & 0 & ⋯ & 0 & 3 &  0 &  0 & 0 & 0 &  6 & 6 & 4 & 0\\\\\n",
       "\t 253665 & 0 & 1 & 1 & 17 & 0 & 0 & 0 & 0 & 0 & ⋯ & 1 & 4 & 30 & 30 & 0 & 0 &  5 & 4 & 1 & 0\\\\\n",
       "\t 253666 & 1 & 0 & 1 & 23 & 0 & 0 & 0 & 0 & 1 & ⋯ & 0 & 3 &  0 & 15 & 0 & 0 &  6 & 5 & 2 & 0\\\\\n",
       "\t 253667 & 1 & 1 & 1 & 28 & 1 & 0 & 0 & 0 & 0 & ⋯ & 0 & 3 &  0 &  0 & 0 & 0 & 11 & 4 & 7 & 0\\\\\n",
       "\t 253668 & 0 & 1 & 1 & 29 & 1 & 0 & 1 & 0 & 1 & ⋯ & 0 & 2 &  0 &  0 & 1 & 1 & 10 & 3 & 6 & 1\\\\\n",
       "\t 253669 & 0 & 1 & 1 & 27 & 0 & 0 & 0 & 0 & 0 & ⋯ & 1 & 1 &  0 &  3 & 0 & 1 &  6 & 2 & 4 & 0\\\\\n",
       "\t 253670 & 1 & 1 & 1 & 25 & 0 & 0 & 1 & 0 & 1 & ⋯ & 0 & 5 & 15 &  0 & 1 & 0 & 13 & 6 & 4 & 1\\\\\n",
       "\t 253671 & 1 & 1 & 1 & 23 & 0 & 1 & 1 & 0 & 0 & ⋯ & 1 & 4 &  0 &  5 & 0 & 1 &  8 & 3 & 2 & 0\\\\\n",
       "\t 253672 & 1 & 0 & 1 & 30 & 1 & 0 & 1 & 1 & 1 & ⋯ & 0 & 3 &  0 &  0 & 0 & 1 & 12 & 2 & 1 & 0\\\\\n",
       "\t 253673 & 1 & 0 & 1 & 42 & 0 & 0 & 0 & 1 & 1 & ⋯ & 0 & 3 & 14 &  4 & 0 & 1 &  3 & 6 & 8 & 0\\\\\n",
       "\t 253674 & 0 & 0 & 1 & 27 & 0 & 0 & 0 & 0 & 0 & ⋯ & 0 & 1 &  0 &  0 & 0 & 0 &  3 & 6 & 5 & 0\\\\\n",
       "\t 253675 & 1 & 1 & 1 & 45 & 0 & 0 & 0 & 0 & 1 & ⋯ & 0 & 3 &  0 &  5 & 0 & 1 &  5 & 6 & 7 & 0\\\\\n",
       "\t 253676 & 1 & 1 & 1 & 18 & 0 & 0 & 0 & 0 & 0 & ⋯ & 0 & 4 &  0 &  0 & 1 & 0 & 11 & 2 & 4 & 1\\\\\n",
       "\t 253677 & 0 & 0 & 1 & 28 & 0 & 0 & 0 & 1 & 1 & ⋯ & 0 & 1 &  0 &  0 & 0 & 0 &  2 & 5 & 2 & 0\\\\\n",
       "\t 253678 & 1 & 0 & 1 & 23 & 0 & 0 & 0 & 0 & 1 & ⋯ & 0 & 3 &  0 &  0 & 0 & 1 &  7 & 5 & 1 & 0\\\\\n",
       "\t 253679 & 1 & 1 & 1 & 25 & 0 & 0 & 1 & 1 & 1 & ⋯ & 0 & 2 &  0 &  0 & 0 & 0 &  9 & 6 & 2 & 1\\\\\n",
       "\\end{tabular}\n"
      ],
      "text/markdown": [
       "\n",
       "A data.frame: 253680 × 23\n",
       "\n",
       "| X &lt;int&gt; | HighBP &lt;int&gt; | HighChol &lt;int&gt; | CholCheck &lt;int&gt; | BMI &lt;int&gt; | Smoker &lt;int&gt; | Stroke &lt;int&gt; | HeartDiseaseorAttack &lt;int&gt; | PhysActivity &lt;int&gt; | Fruits &lt;int&gt; | ⋯ ⋯ | NoDocbcCost &lt;int&gt; | GenHlth &lt;int&gt; | MentHlth &lt;int&gt; | PhysHlth &lt;int&gt; | DiffWalk &lt;int&gt; | Sex &lt;int&gt; | Age &lt;int&gt; | Education &lt;int&gt; | Income &lt;int&gt; | Diabetes_binary &lt;int&gt; |\n",
       "|---|---|---|---|---|---|---|---|---|---|---|---|---|---|---|---|---|---|---|---|---|\n",
       "|  0 | 1 | 1 | 1 | 40 | 1 | 0 | 0 | 0 | 0 | ⋯ | 0 | 5 | 18 | 15 | 1 | 0 |  9 | 4 | 3 | 0 |\n",
       "|  1 | 0 | 0 | 0 | 25 | 1 | 0 | 0 | 1 | 0 | ⋯ | 1 | 3 |  0 |  0 | 0 | 0 |  7 | 6 | 1 | 0 |\n",
       "|  2 | 1 | 1 | 1 | 28 | 0 | 0 | 0 | 0 | 1 | ⋯ | 1 | 5 | 30 | 30 | 1 | 0 |  9 | 4 | 8 | 0 |\n",
       "|  3 | 1 | 0 | 1 | 27 | 0 | 0 | 0 | 1 | 1 | ⋯ | 0 | 2 |  0 |  0 | 0 | 0 | 11 | 3 | 6 | 0 |\n",
       "|  4 | 1 | 1 | 1 | 24 | 0 | 0 | 0 | 1 | 1 | ⋯ | 0 | 2 |  3 |  0 | 0 | 0 | 11 | 5 | 4 | 0 |\n",
       "|  5 | 1 | 1 | 1 | 25 | 1 | 0 | 0 | 1 | 1 | ⋯ | 0 | 2 |  0 |  2 | 0 | 1 | 10 | 6 | 8 | 0 |\n",
       "|  6 | 1 | 0 | 1 | 30 | 1 | 0 | 0 | 0 | 0 | ⋯ | 0 | 3 |  0 | 14 | 0 | 0 |  9 | 6 | 7 | 0 |\n",
       "|  7 | 1 | 1 | 1 | 25 | 1 | 0 | 0 | 1 | 0 | ⋯ | 0 | 3 |  0 |  0 | 1 | 0 | 11 | 4 | 4 | 0 |\n",
       "|  8 | 1 | 1 | 1 | 30 | 1 | 0 | 1 | 0 | 1 | ⋯ | 0 | 5 | 30 | 30 | 1 | 0 |  9 | 5 | 1 | 1 |\n",
       "|  9 | 0 | 0 | 1 | 24 | 0 | 0 | 0 | 0 | 0 | ⋯ | 0 | 2 |  0 |  0 | 0 | 1 |  8 | 4 | 3 | 0 |\n",
       "| 10 | 0 | 0 | 1 | 25 | 1 | 0 | 0 | 1 | 1 | ⋯ | 0 | 3 |  0 |  0 | 0 | 1 | 13 | 6 | 8 | 1 |\n",
       "| 11 | 1 | 1 | 1 | 34 | 1 | 0 | 0 | 0 | 1 | ⋯ | 0 | 3 |  0 | 30 | 1 | 0 | 10 | 5 | 1 | 0 |\n",
       "| 12 | 0 | 0 | 1 | 26 | 1 | 0 | 0 | 0 | 0 | ⋯ | 0 | 3 |  0 | 15 | 0 | 0 |  7 | 5 | 7 | 0 |\n",
       "| 13 | 1 | 1 | 1 | 28 | 0 | 0 | 0 | 0 | 0 | ⋯ | 0 | 4 |  0 |  0 | 1 | 0 | 11 | 4 | 6 | 1 |\n",
       "| 14 | 0 | 1 | 1 | 33 | 1 | 1 | 0 | 1 | 0 | ⋯ | 1 | 4 | 30 | 28 | 0 | 0 |  4 | 6 | 2 | 0 |\n",
       "| 15 | 1 | 0 | 1 | 33 | 0 | 0 | 0 | 1 | 0 | ⋯ | 0 | 2 |  5 |  0 | 0 | 0 |  6 | 6 | 8 | 0 |\n",
       "| 16 | 1 | 1 | 1 | 21 | 0 | 0 | 0 | 1 | 1 | ⋯ | 0 | 3 |  0 |  0 | 0 | 0 | 10 | 4 | 3 | 0 |\n",
       "| 17 | 0 | 0 | 1 | 23 | 1 | 0 | 0 | 1 | 0 | ⋯ | 0 | 2 |  0 |  0 | 0 | 1 |  7 | 5 | 6 | 1 |\n",
       "| 18 | 0 | 0 | 0 | 23 | 0 | 0 | 0 | 0 | 0 | ⋯ | 0 | 2 | 15 |  0 | 0 | 0 |  2 | 6 | 7 | 0 |\n",
       "| 19 | 0 | 1 | 1 | 28 | 0 | 0 | 0 | 0 | 0 | ⋯ | 0 | 2 | 10 |  0 | 0 | 1 |  4 | 6 | 8 | 0 |\n",
       "| 20 | 1 | 1 | 1 | 22 | 0 | 1 | 1 | 0 | 1 | ⋯ | 0 | 3 | 30 |  0 | 1 | 0 | 12 | 4 | 4 | 0 |\n",
       "| 21 | 1 | 1 | 1 | 38 | 1 | 0 | 0 | 0 | 1 | ⋯ | 0 | 5 | 15 | 30 | 1 | 0 | 13 | 2 | 3 | 0 |\n",
       "| 22 | 0 | 0 | 1 | 28 | 1 | 0 | 0 | 0 | 0 | ⋯ | 0 | 3 |  0 |  7 | 0 | 1 |  5 | 5 | 5 | 0 |\n",
       "| 23 | 1 | 0 | 1 | 27 | 0 | 0 | 0 | 1 | 1 | ⋯ | 0 | 1 |  0 |  0 | 0 | 0 | 13 | 5 | 4 | 1 |\n",
       "| 24 | 1 | 1 | 1 | 28 | 1 | 0 | 0 | 0 | 1 | ⋯ | 0 | 3 |  6 |  0 | 1 | 0 |  9 | 4 | 6 | 0 |\n",
       "| 25 | 0 | 0 | 1 | 32 | 0 | 0 | 0 | 1 | 1 | ⋯ | 0 | 2 |  0 |  0 | 0 | 0 |  5 | 6 | 8 | 0 |\n",
       "| 26 | 1 | 1 | 1 | 37 | 1 | 1 | 1 | 0 | 0 | ⋯ | 0 | 5 |  0 |  0 | 1 | 1 | 10 | 6 | 5 | 1 |\n",
       "| 27 | 1 | 1 | 1 | 28 | 1 | 0 | 1 | 0 | 0 | ⋯ | 0 | 4 |  0 |  0 | 0 | 1 | 12 | 2 | 4 | 1 |\n",
       "| 28 | 1 | 1 | 1 | 27 | 1 | 0 | 0 | 0 | 1 | ⋯ | 0 | 4 | 20 | 20 | 1 | 0 |  8 | 4 | 7 | 1 |\n",
       "| 29 | 0 | 1 | 1 | 31 | 1 | 0 | 0 | 1 | 1 | ⋯ | 0 | 1 |  0 |  0 | 0 | 1 | 12 | 6 | 8 | 0 |\n",
       "| ⋮ | ⋮ | ⋮ | ⋮ | ⋮ | ⋮ | ⋮ | ⋮ | ⋮ | ⋮ | ⋱ | ⋮ | ⋮ | ⋮ | ⋮ | ⋮ | ⋮ | ⋮ | ⋮ | ⋮ | ⋮ |\n",
       "| 253650 | 1 | 0 | 1 | 27 | 0 | 0 | 0 | 1 | 0 | ⋯ | 0 | 4 |  0 |  0 | 0 | 0 |  5 | 4 | 2 | 0 |\n",
       "| 253651 | 0 | 0 | 1 | 24 | 0 | 0 | 0 | 1 | 1 | ⋯ | 1 | 1 |  0 |  0 | 0 | 1 |  2 | 6 | 3 | 0 |\n",
       "| 253652 | 0 | 1 | 1 | 27 | 0 | 0 | 0 | 1 | 1 | ⋯ | 0 | 4 |  0 | 30 | 0 | 1 | 11 | 2 | 3 | 1 |\n",
       "| 253653 | 0 | 0 | 1 | 33 | 1 | 0 | 0 | 0 | 1 | ⋯ | 0 | 4 |  0 | 15 | 0 | 1 | 10 | 6 | 3 | 0 |\n",
       "| 253654 | 0 | 0 | 1 | 26 | 1 | 0 | 0 | 1 | 1 | ⋯ | 0 | 2 |  1 |  0 | 0 | 1 |  3 | 3 | 1 | 0 |\n",
       "| 253655 | 0 | 0 | 1 | 28 | 0 | 0 | 0 | 1 | 1 | ⋯ | 0 | 2 |  0 |  0 | 0 | 0 |  2 | 6 | 4 | 0 |\n",
       "| 253656 | 0 | 0 | 1 | 25 | 0 | 0 | 0 | 1 | 1 | ⋯ | 0 | 1 |  0 |  0 | 0 | 0 |  4 | 6 | 8 | 0 |\n",
       "| 253657 | 0 | 1 | 1 | 24 | 0 | 0 | 0 | 0 | 0 | ⋯ | 0 | 3 |  0 |  0 | 0 | 0 |  7 | 5 | 3 | 0 |\n",
       "| 253658 | 0 | 0 | 0 | 27 | 0 | 0 | 0 | 1 | 0 | ⋯ | 1 | 2 |  0 |  0 | 0 | 0 |  3 | 6 | 5 | 0 |\n",
       "| 253659 | 0 | 1 | 1 | 37 | 0 | 0 | 0 | 0 | 0 | ⋯ | 0 | 4 |  0 |  0 | 0 | 0 |  6 | 4 | 1 | 1 |\n",
       "| 253660 | 0 | 1 | 1 | 34 | 1 | 0 | 0 | 0 | 1 | ⋯ | 0 | 3 |  0 |  2 | 1 | 0 |  7 | 4 | 3 | 0 |\n",
       "| 253661 | 1 | 0 | 1 | 33 | 0 | 0 | 0 | 1 | 0 | ⋯ | 1 | 3 |  0 |  2 | 1 | 0 |  6 | 6 | 6 | 0 |\n",
       "| 253662 | 0 | 0 | 1 | 16 | 0 | 0 | 0 | 1 | 0 | ⋯ | 0 | 1 |  0 |  0 | 0 | 0 |  5 | 6 | 2 | 0 |\n",
       "| 253663 | 0 | 0 | 1 | 23 | 0 | 0 | 0 | 0 | 1 | ⋯ | 1 | 2 |  0 | 30 | 0 | 0 |  5 | 6 | 2 | 0 |\n",
       "| 253664 | 0 | 1 | 1 | 29 | 1 | 0 | 0 | 0 | 0 | ⋯ | 0 | 3 |  0 |  0 | 0 | 0 |  6 | 6 | 4 | 0 |\n",
       "| 253665 | 0 | 1 | 1 | 17 | 0 | 0 | 0 | 0 | 0 | ⋯ | 1 | 4 | 30 | 30 | 0 | 0 |  5 | 4 | 1 | 0 |\n",
       "| 253666 | 1 | 0 | 1 | 23 | 0 | 0 | 0 | 0 | 1 | ⋯ | 0 | 3 |  0 | 15 | 0 | 0 |  6 | 5 | 2 | 0 |\n",
       "| 253667 | 1 | 1 | 1 | 28 | 1 | 0 | 0 | 0 | 0 | ⋯ | 0 | 3 |  0 |  0 | 0 | 0 | 11 | 4 | 7 | 0 |\n",
       "| 253668 | 0 | 1 | 1 | 29 | 1 | 0 | 1 | 0 | 1 | ⋯ | 0 | 2 |  0 |  0 | 1 | 1 | 10 | 3 | 6 | 1 |\n",
       "| 253669 | 0 | 1 | 1 | 27 | 0 | 0 | 0 | 0 | 0 | ⋯ | 1 | 1 |  0 |  3 | 0 | 1 |  6 | 2 | 4 | 0 |\n",
       "| 253670 | 1 | 1 | 1 | 25 | 0 | 0 | 1 | 0 | 1 | ⋯ | 0 | 5 | 15 |  0 | 1 | 0 | 13 | 6 | 4 | 1 |\n",
       "| 253671 | 1 | 1 | 1 | 23 | 0 | 1 | 1 | 0 | 0 | ⋯ | 1 | 4 |  0 |  5 | 0 | 1 |  8 | 3 | 2 | 0 |\n",
       "| 253672 | 1 | 0 | 1 | 30 | 1 | 0 | 1 | 1 | 1 | ⋯ | 0 | 3 |  0 |  0 | 0 | 1 | 12 | 2 | 1 | 0 |\n",
       "| 253673 | 1 | 0 | 1 | 42 | 0 | 0 | 0 | 1 | 1 | ⋯ | 0 | 3 | 14 |  4 | 0 | 1 |  3 | 6 | 8 | 0 |\n",
       "| 253674 | 0 | 0 | 1 | 27 | 0 | 0 | 0 | 0 | 0 | ⋯ | 0 | 1 |  0 |  0 | 0 | 0 |  3 | 6 | 5 | 0 |\n",
       "| 253675 | 1 | 1 | 1 | 45 | 0 | 0 | 0 | 0 | 1 | ⋯ | 0 | 3 |  0 |  5 | 0 | 1 |  5 | 6 | 7 | 0 |\n",
       "| 253676 | 1 | 1 | 1 | 18 | 0 | 0 | 0 | 0 | 0 | ⋯ | 0 | 4 |  0 |  0 | 1 | 0 | 11 | 2 | 4 | 1 |\n",
       "| 253677 | 0 | 0 | 1 | 28 | 0 | 0 | 0 | 1 | 1 | ⋯ | 0 | 1 |  0 |  0 | 0 | 0 |  2 | 5 | 2 | 0 |\n",
       "| 253678 | 1 | 0 | 1 | 23 | 0 | 0 | 0 | 0 | 1 | ⋯ | 0 | 3 |  0 |  0 | 0 | 1 |  7 | 5 | 1 | 0 |\n",
       "| 253679 | 1 | 1 | 1 | 25 | 0 | 0 | 1 | 1 | 1 | ⋯ | 0 | 2 |  0 |  0 | 0 | 0 |  9 | 6 | 2 | 1 |\n",
       "\n"
      ],
      "text/plain": [
       "       X      HighBP HighChol CholCheck BMI Smoker Stroke HeartDiseaseorAttack\n",
       "1       0     1      1        1         40  1      0      0                   \n",
       "2       1     0      0        0         25  1      0      0                   \n",
       "3       2     1      1        1         28  0      0      0                   \n",
       "4       3     1      0        1         27  0      0      0                   \n",
       "5       4     1      1        1         24  0      0      0                   \n",
       "6       5     1      1        1         25  1      0      0                   \n",
       "7       6     1      0        1         30  1      0      0                   \n",
       "8       7     1      1        1         25  1      0      0                   \n",
       "9       8     1      1        1         30  1      0      1                   \n",
       "10      9     0      0        1         24  0      0      0                   \n",
       "11     10     0      0        1         25  1      0      0                   \n",
       "12     11     1      1        1         34  1      0      0                   \n",
       "13     12     0      0        1         26  1      0      0                   \n",
       "14     13     1      1        1         28  0      0      0                   \n",
       "15     14     0      1        1         33  1      1      0                   \n",
       "16     15     1      0        1         33  0      0      0                   \n",
       "17     16     1      1        1         21  0      0      0                   \n",
       "18     17     0      0        1         23  1      0      0                   \n",
       "19     18     0      0        0         23  0      0      0                   \n",
       "20     19     0      1        1         28  0      0      0                   \n",
       "21     20     1      1        1         22  0      1      1                   \n",
       "22     21     1      1        1         38  1      0      0                   \n",
       "23     22     0      0        1         28  1      0      0                   \n",
       "24     23     1      0        1         27  0      0      0                   \n",
       "25     24     1      1        1         28  1      0      0                   \n",
       "26     25     0      0        1         32  0      0      0                   \n",
       "27     26     1      1        1         37  1      1      1                   \n",
       "28     27     1      1        1         28  1      0      1                   \n",
       "29     28     1      1        1         27  1      0      0                   \n",
       "30     29     0      1        1         31  1      0      0                   \n",
       "<U+22EE>      <U+22EE> <U+22EE> <U+22EE> <U+22EE>  <U+22EE> <U+22EE> <U+22EE> <U+22EE>            \n",
       "253651 253650 1      0        1         27  0      0      0                   \n",
       "253652 253651 0      0        1         24  0      0      0                   \n",
       "253653 253652 0      1        1         27  0      0      0                   \n",
       "253654 253653 0      0        1         33  1      0      0                   \n",
       "253655 253654 0      0        1         26  1      0      0                   \n",
       "253656 253655 0      0        1         28  0      0      0                   \n",
       "253657 253656 0      0        1         25  0      0      0                   \n",
       "253658 253657 0      1        1         24  0      0      0                   \n",
       "253659 253658 0      0        0         27  0      0      0                   \n",
       "253660 253659 0      1        1         37  0      0      0                   \n",
       "253661 253660 0      1        1         34  1      0      0                   \n",
       "253662 253661 1      0        1         33  0      0      0                   \n",
       "253663 253662 0      0        1         16  0      0      0                   \n",
       "253664 253663 0      0        1         23  0      0      0                   \n",
       "253665 253664 0      1        1         29  1      0      0                   \n",
       "253666 253665 0      1        1         17  0      0      0                   \n",
       "253667 253666 1      0        1         23  0      0      0                   \n",
       "253668 253667 1      1        1         28  1      0      0                   \n",
       "253669 253668 0      1        1         29  1      0      1                   \n",
       "253670 253669 0      1        1         27  0      0      0                   \n",
       "253671 253670 1      1        1         25  0      0      1                   \n",
       "253672 253671 1      1        1         23  0      1      1                   \n",
       "253673 253672 1      0        1         30  1      0      1                   \n",
       "253674 253673 1      0        1         42  0      0      0                   \n",
       "253675 253674 0      0        1         27  0      0      0                   \n",
       "253676 253675 1      1        1         45  0      0      0                   \n",
       "253677 253676 1      1        1         18  0      0      0                   \n",
       "253678 253677 0      0        1         28  0      0      0                   \n",
       "253679 253678 1      0        1         23  0      0      0                   \n",
       "253680 253679 1      1        1         25  0      0      1                   \n",
       "       PhysActivity Fruits <U+22EF>        NoDocbcCost GenHlth MentHlth PhysHlth\n",
       "1      0            0      <U+22EF> 0           5       18       15      \n",
       "2      1            0      <U+22EF> 1           3        0        0      \n",
       "3      0            1      <U+22EF> 1           5       30       30      \n",
       "4      1            1      <U+22EF> 0           2        0        0      \n",
       "5      1            1      <U+22EF> 0           2        3        0      \n",
       "6      1            1      <U+22EF> 0           2        0        2      \n",
       "7      0            0      <U+22EF> 0           3        0       14      \n",
       "8      1            0      <U+22EF> 0           3        0        0      \n",
       "9      0            1      <U+22EF> 0           5       30       30      \n",
       "10     0            0      <U+22EF> 0           2        0        0      \n",
       "11     1            1      <U+22EF> 0           3        0        0      \n",
       "12     0            1      <U+22EF> 0           3        0       30      \n",
       "13     0            0      <U+22EF> 0           3        0       15      \n",
       "14     0            0      <U+22EF> 0           4        0        0      \n",
       "15     1            0      <U+22EF> 1           4       30       28      \n",
       "16     1            0      <U+22EF> 0           2        5        0      \n",
       "17     1            1      <U+22EF> 0           3        0        0      \n",
       "18     1            0      <U+22EF> 0           2        0        0      \n",
       "19     0            0      <U+22EF> 0           2       15        0      \n",
       "20     0            0      <U+22EF> 0           2       10        0      \n",
       "21     0            1      <U+22EF> 0           3       30        0      \n",
       "22     0            1      <U+22EF> 0           5       15       30      \n",
       "23     0            0      <U+22EF> 0           3        0        7      \n",
       "24     1            1      <U+22EF> 0           1        0        0      \n",
       "25     0            1      <U+22EF> 0           3        6        0      \n",
       "26     1            1      <U+22EF> 0           2        0        0      \n",
       "27     0            0      <U+22EF> 0           5        0        0      \n",
       "28     0            0      <U+22EF> 0           4        0        0      \n",
       "29     0            1      <U+22EF> 0           4       20       20      \n",
       "30     1            1      <U+22EF> 0           1        0        0      \n",
       "<U+22EE>      <U+22EE>     <U+22EE> <U+22F1> <U+22EE>    <U+22EE> <U+22EE> <U+22EE>\n",
       "253651 1            0      <U+22EF> 0           4        0        0      \n",
       "253652 1            1      <U+22EF> 1           1        0        0      \n",
       "253653 1            1      <U+22EF> 0           4        0       30      \n",
       "253654 0            1      <U+22EF> 0           4        0       15      \n",
       "253655 1            1      <U+22EF> 0           2        1        0      \n",
       "253656 1            1      <U+22EF> 0           2        0        0      \n",
       "253657 1            1      <U+22EF> 0           1        0        0      \n",
       "253658 0            0      <U+22EF> 0           3        0        0      \n",
       "253659 1            0      <U+22EF> 1           2        0        0      \n",
       "253660 0            0      <U+22EF> 0           4        0        0      \n",
       "253661 0            1      <U+22EF> 0           3        0        2      \n",
       "253662 1            0      <U+22EF> 1           3        0        2      \n",
       "253663 1            0      <U+22EF> 0           1        0        0      \n",
       "253664 0            1      <U+22EF> 1           2        0       30      \n",
       "253665 0            0      <U+22EF> 0           3        0        0      \n",
       "253666 0            0      <U+22EF> 1           4       30       30      \n",
       "253667 0            1      <U+22EF> 0           3        0       15      \n",
       "253668 0            0      <U+22EF> 0           3        0        0      \n",
       "253669 0            1      <U+22EF> 0           2        0        0      \n",
       "253670 0            0      <U+22EF> 1           1        0        3      \n",
       "253671 0            1      <U+22EF> 0           5       15        0      \n",
       "253672 0            0      <U+22EF> 1           4        0        5      \n",
       "253673 1            1      <U+22EF> 0           3        0        0      \n",
       "253674 1            1      <U+22EF> 0           3       14        4      \n",
       "253675 0            0      <U+22EF> 0           1        0        0      \n",
       "253676 0            1      <U+22EF> 0           3        0        5      \n",
       "253677 0            0      <U+22EF> 0           4        0        0      \n",
       "253678 1            1      <U+22EF> 0           1        0        0      \n",
       "253679 0            1      <U+22EF> 0           3        0        0      \n",
       "253680 1            1      <U+22EF> 0           2        0        0      \n",
       "       DiffWalk Sex Age Education Income Diabetes_binary\n",
       "1      1        0    9  4         3      0              \n",
       "2      0        0    7  6         1      0              \n",
       "3      1        0    9  4         8      0              \n",
       "4      0        0   11  3         6      0              \n",
       "5      0        0   11  5         4      0              \n",
       "6      0        1   10  6         8      0              \n",
       "7      0        0    9  6         7      0              \n",
       "8      1        0   11  4         4      0              \n",
       "9      1        0    9  5         1      1              \n",
       "10     0        1    8  4         3      0              \n",
       "11     0        1   13  6         8      1              \n",
       "12     1        0   10  5         1      0              \n",
       "13     0        0    7  5         7      0              \n",
       "14     1        0   11  4         6      1              \n",
       "15     0        0    4  6         2      0              \n",
       "16     0        0    6  6         8      0              \n",
       "17     0        0   10  4         3      0              \n",
       "18     0        1    7  5         6      1              \n",
       "19     0        0    2  6         7      0              \n",
       "20     0        1    4  6         8      0              \n",
       "21     1        0   12  4         4      0              \n",
       "22     1        0   13  2         3      0              \n",
       "23     0        1    5  5         5      0              \n",
       "24     0        0   13  5         4      1              \n",
       "25     1        0    9  4         6      0              \n",
       "26     0        0    5  6         8      0              \n",
       "27     1        1   10  6         5      1              \n",
       "28     0        1   12  2         4      1              \n",
       "29     1        0    8  4         7      1              \n",
       "30     0        1   12  6         8      0              \n",
       "<U+22EE>      <U+22EE> <U+22EE> <U+22EE> <U+22EE>  <U+22EE> <U+22EE>       \n",
       "253651 0        0    5  4         2      0              \n",
       "253652 0        1    2  6         3      0              \n",
       "253653 0        1   11  2         3      1              \n",
       "253654 0        1   10  6         3      0              \n",
       "253655 0        1    3  3         1      0              \n",
       "253656 0        0    2  6         4      0              \n",
       "253657 0        0    4  6         8      0              \n",
       "253658 0        0    7  5         3      0              \n",
       "253659 0        0    3  6         5      0              \n",
       "253660 0        0    6  4         1      1              \n",
       "253661 1        0    7  4         3      0              \n",
       "253662 1        0    6  6         6      0              \n",
       "253663 0        0    5  6         2      0              \n",
       "253664 0        0    5  6         2      0              \n",
       "253665 0        0    6  6         4      0              \n",
       "253666 0        0    5  4         1      0              \n",
       "253667 0        0    6  5         2      0              \n",
       "253668 0        0   11  4         7      0              \n",
       "253669 1        1   10  3         6      1              \n",
       "253670 0        1    6  2         4      0              \n",
       "253671 1        0   13  6         4      1              \n",
       "253672 0        1    8  3         2      0              \n",
       "253673 0        1   12  2         1      0              \n",
       "253674 0        1    3  6         8      0              \n",
       "253675 0        0    3  6         5      0              \n",
       "253676 0        1    5  6         7      0              \n",
       "253677 1        0   11  2         4      1              \n",
       "253678 0        0    2  5         2      0              \n",
       "253679 0        1    7  5         1      0              \n",
       "253680 0        0    9  6         2      1              "
      ]
     },
     "metadata": {},
     "output_type": "display_data"
    }
   ],
   "source": [
    "df"
   ]
  },
  {
   "cell_type": "markdown",
   "id": "1f717dec-55b6-4609-9fcd-0714826fd00d",
   "metadata": {},
   "source": [
    "## 2. Data Preprocessing"
   ]
  },
  {
   "cell_type": "markdown",
   "id": "1d0da897-d2dd-42d3-8887-a11b43c0db6f",
   "metadata": {},
   "source": [
    "### 2.0. Standardize column names"
   ]
  },
  {
   "cell_type": "code",
   "execution_count": 7,
   "id": "44b0339c-d670-4306-a3f1-83281e99e025",
   "metadata": {},
   "outputs": [
    {
     "data": {
      "text/html": [
       "<style>\n",
       ".list-inline {list-style: none; margin:0; padding: 0}\n",
       ".list-inline>li {display: inline-block}\n",
       ".list-inline>li:not(:last-child)::after {content: \"\\00b7\"; padding: 0 .5ex}\n",
       "</style>\n",
       "<ol class=list-inline><li>'X'</li><li>'HighBP'</li><li>'HighChol'</li><li>'CholCheck'</li><li>'BMI'</li><li>'Smoker'</li><li>'Stroke'</li><li>'HeartDiseaseorAttack'</li><li>'PhysActivity'</li><li>'Fruits'</li><li>'Veggies'</li><li>'HvyAlcoholConsump'</li><li>'AnyHealthcare'</li><li>'NoDocbcCost'</li><li>'GenHlth'</li><li>'MentHlth'</li><li>'PhysHlth'</li><li>'DiffWalk'</li><li>'Sex'</li><li>'Age'</li><li>'Education'</li><li>'Income'</li><li>'Diabetes_binary'</li></ol>\n"
      ],
      "text/latex": [
       "\\begin{enumerate*}\n",
       "\\item 'X'\n",
       "\\item 'HighBP'\n",
       "\\item 'HighChol'\n",
       "\\item 'CholCheck'\n",
       "\\item 'BMI'\n",
       "\\item 'Smoker'\n",
       "\\item 'Stroke'\n",
       "\\item 'HeartDiseaseorAttack'\n",
       "\\item 'PhysActivity'\n",
       "\\item 'Fruits'\n",
       "\\item 'Veggies'\n",
       "\\item 'HvyAlcoholConsump'\n",
       "\\item 'AnyHealthcare'\n",
       "\\item 'NoDocbcCost'\n",
       "\\item 'GenHlth'\n",
       "\\item 'MentHlth'\n",
       "\\item 'PhysHlth'\n",
       "\\item 'DiffWalk'\n",
       "\\item 'Sex'\n",
       "\\item 'Age'\n",
       "\\item 'Education'\n",
       "\\item 'Income'\n",
       "\\item 'Diabetes\\_binary'\n",
       "\\end{enumerate*}\n"
      ],
      "text/markdown": [
       "1. 'X'\n",
       "2. 'HighBP'\n",
       "3. 'HighChol'\n",
       "4. 'CholCheck'\n",
       "5. 'BMI'\n",
       "6. 'Smoker'\n",
       "7. 'Stroke'\n",
       "8. 'HeartDiseaseorAttack'\n",
       "9. 'PhysActivity'\n",
       "10. 'Fruits'\n",
       "11. 'Veggies'\n",
       "12. 'HvyAlcoholConsump'\n",
       "13. 'AnyHealthcare'\n",
       "14. 'NoDocbcCost'\n",
       "15. 'GenHlth'\n",
       "16. 'MentHlth'\n",
       "17. 'PhysHlth'\n",
       "18. 'DiffWalk'\n",
       "19. 'Sex'\n",
       "20. 'Age'\n",
       "21. 'Education'\n",
       "22. 'Income'\n",
       "23. 'Diabetes_binary'\n",
       "\n",
       "\n"
      ],
      "text/plain": [
       " [1] \"X\"                    \"HighBP\"               \"HighChol\"            \n",
       " [4] \"CholCheck\"            \"BMI\"                  \"Smoker\"              \n",
       " [7] \"Stroke\"               \"HeartDiseaseorAttack\" \"PhysActivity\"        \n",
       "[10] \"Fruits\"               \"Veggies\"              \"HvyAlcoholConsump\"   \n",
       "[13] \"AnyHealthcare\"        \"NoDocbcCost\"          \"GenHlth\"             \n",
       "[16] \"MentHlth\"             \"PhysHlth\"             \"DiffWalk\"            \n",
       "[19] \"Sex\"                  \"Age\"                  \"Education\"           \n",
       "[22] \"Income\"               \"Diabetes_binary\"     "
      ]
     },
     "metadata": {},
     "output_type": "display_data"
    }
   ],
   "source": [
    "colnames(df)\n",
    "# Column \"X\" should be changed to be a more meaningful name."
   ]
  },
  {
   "cell_type": "code",
   "execution_count": 8,
   "id": "ffa9a82c-c15d-442f-9466-166f37c569bf",
   "metadata": {},
   "outputs": [],
   "source": [
    "colnames(df)[1] = \"Index\""
   ]
  },
  {
   "cell_type": "code",
   "execution_count": 9,
   "id": "a0a0ae03-fed9-4886-a872-63c59f62d563",
   "metadata": {},
   "outputs": [
    {
     "data": {
      "text/html": [
       "<style>\n",
       ".list-inline {list-style: none; margin:0; padding: 0}\n",
       ".list-inline>li {display: inline-block}\n",
       ".list-inline>li:not(:last-child)::after {content: \"\\00b7\"; padding: 0 .5ex}\n",
       "</style>\n",
       "<ol class=list-inline><li>'Index'</li><li>'HighBP'</li><li>'HighChol'</li><li>'CholCheck'</li><li>'BMI'</li><li>'Smoker'</li><li>'Stroke'</li><li>'HeartDiseaseorAttack'</li><li>'PhysActivity'</li><li>'Fruits'</li><li>'Veggies'</li><li>'HvyAlcoholConsump'</li><li>'AnyHealthcare'</li><li>'NoDocbcCost'</li><li>'GenHlth'</li><li>'MentHlth'</li><li>'PhysHlth'</li><li>'DiffWalk'</li><li>'Sex'</li><li>'Age'</li><li>'Education'</li><li>'Income'</li><li>'Diabetes_binary'</li></ol>\n"
      ],
      "text/latex": [
       "\\begin{enumerate*}\n",
       "\\item 'Index'\n",
       "\\item 'HighBP'\n",
       "\\item 'HighChol'\n",
       "\\item 'CholCheck'\n",
       "\\item 'BMI'\n",
       "\\item 'Smoker'\n",
       "\\item 'Stroke'\n",
       "\\item 'HeartDiseaseorAttack'\n",
       "\\item 'PhysActivity'\n",
       "\\item 'Fruits'\n",
       "\\item 'Veggies'\n",
       "\\item 'HvyAlcoholConsump'\n",
       "\\item 'AnyHealthcare'\n",
       "\\item 'NoDocbcCost'\n",
       "\\item 'GenHlth'\n",
       "\\item 'MentHlth'\n",
       "\\item 'PhysHlth'\n",
       "\\item 'DiffWalk'\n",
       "\\item 'Sex'\n",
       "\\item 'Age'\n",
       "\\item 'Education'\n",
       "\\item 'Income'\n",
       "\\item 'Diabetes\\_binary'\n",
       "\\end{enumerate*}\n"
      ],
      "text/markdown": [
       "1. 'Index'\n",
       "2. 'HighBP'\n",
       "3. 'HighChol'\n",
       "4. 'CholCheck'\n",
       "5. 'BMI'\n",
       "6. 'Smoker'\n",
       "7. 'Stroke'\n",
       "8. 'HeartDiseaseorAttack'\n",
       "9. 'PhysActivity'\n",
       "10. 'Fruits'\n",
       "11. 'Veggies'\n",
       "12. 'HvyAlcoholConsump'\n",
       "13. 'AnyHealthcare'\n",
       "14. 'NoDocbcCost'\n",
       "15. 'GenHlth'\n",
       "16. 'MentHlth'\n",
       "17. 'PhysHlth'\n",
       "18. 'DiffWalk'\n",
       "19. 'Sex'\n",
       "20. 'Age'\n",
       "21. 'Education'\n",
       "22. 'Income'\n",
       "23. 'Diabetes_binary'\n",
       "\n",
       "\n"
      ],
      "text/plain": [
       " [1] \"Index\"                \"HighBP\"               \"HighChol\"            \n",
       " [4] \"CholCheck\"            \"BMI\"                  \"Smoker\"              \n",
       " [7] \"Stroke\"               \"HeartDiseaseorAttack\" \"PhysActivity\"        \n",
       "[10] \"Fruits\"               \"Veggies\"              \"HvyAlcoholConsump\"   \n",
       "[13] \"AnyHealthcare\"        \"NoDocbcCost\"          \"GenHlth\"             \n",
       "[16] \"MentHlth\"             \"PhysHlth\"             \"DiffWalk\"            \n",
       "[19] \"Sex\"                  \"Age\"                  \"Education\"           \n",
       "[22] \"Income\"               \"Diabetes_binary\"     "
      ]
     },
     "metadata": {},
     "output_type": "display_data"
    }
   ],
   "source": [
    "colnames(df)"
   ]
  },
  {
   "cell_type": "markdown",
   "id": "31d83dd3-2ef4-4645-97c6-46f94c676328",
   "metadata": {},
   "source": [
    "### 2.1. Mismatched data types"
   ]
  },
  {
   "cell_type": "code",
   "execution_count": 10,
   "id": "ce034848-c902-4a97-9e52-539c6d8cbd95",
   "metadata": {},
   "outputs": [
    {
     "name": "stdout",
     "output_type": "stream",
     "text": [
      "'data.frame':\t253680 obs. of  23 variables:\n",
      " $ Index               : int  0 1 2 3 4 5 6 7 8 9 ...\n",
      " $ HighBP              : int  1 0 1 1 1 1 1 1 1 0 ...\n",
      " $ HighChol            : int  1 0 1 0 1 1 0 1 1 0 ...\n",
      " $ CholCheck           : int  1 0 1 1 1 1 1 1 1 1 ...\n",
      " $ BMI                 : int  40 25 28 27 24 25 30 25 30 24 ...\n",
      " $ Smoker              : int  1 1 0 0 0 1 1 1 1 0 ...\n",
      " $ Stroke              : int  0 0 0 0 0 0 0 0 0 0 ...\n",
      " $ HeartDiseaseorAttack: int  0 0 0 0 0 0 0 0 1 0 ...\n",
      " $ PhysActivity        : int  0 1 0 1 1 1 0 1 0 0 ...\n",
      " $ Fruits              : int  0 0 1 1 1 1 0 0 1 0 ...\n",
      " $ Veggies             : int  1 0 0 1 1 1 0 1 1 1 ...\n",
      " $ HvyAlcoholConsump   : int  0 0 0 0 0 0 0 0 0 0 ...\n",
      " $ AnyHealthcare       : int  1 0 1 1 1 1 1 1 1 1 ...\n",
      " $ NoDocbcCost         : int  0 1 1 0 0 0 0 0 0 0 ...\n",
      " $ GenHlth             : int  5 3 5 2 2 2 3 3 5 2 ...\n",
      " $ MentHlth            : int  18 0 30 0 3 0 0 0 30 0 ...\n",
      " $ PhysHlth            : int  15 0 30 0 0 2 14 0 30 0 ...\n",
      " $ DiffWalk            : int  1 0 1 0 0 0 0 1 1 0 ...\n",
      " $ Sex                 : int  0 0 0 0 0 1 0 0 0 1 ...\n",
      " $ Age                 : int  9 7 9 11 11 10 9 11 9 8 ...\n",
      " $ Education           : int  4 6 4 3 5 6 6 4 5 4 ...\n",
      " $ Income              : int  3 1 8 6 4 8 7 4 1 3 ...\n",
      " $ Diabetes_binary     : int  0 0 0 0 0 0 0 0 1 0 ...\n"
     ]
    }
   ],
   "source": [
    "str(df)"
   ]
  },
  {
   "cell_type": "code",
   "execution_count": 11,
   "id": "49419219-ef94-47fd-99a4-e3cad2bb91c1",
   "metadata": {},
   "outputs": [],
   "source": [
    "# All columns have correct data type"
   ]
  },
  {
   "cell_type": "markdown",
   "id": "5c4a58f5-5435-49dd-9f1d-529e47004059",
   "metadata": {},
   "source": [
    "### 2.2. Mixed data values"
   ]
  },
  {
   "cell_type": "code",
   "execution_count": 12,
   "id": "1e49781d-cfe9-4972-9f3a-69d1978539bb",
   "metadata": {},
   "outputs": [],
   "source": [
    "# Example: (female, woman, man, male) => (male, female)"
   ]
  },
  {
   "cell_type": "code",
   "execution_count": 13,
   "id": "6ff43df1-fe86-4e6b-a6cd-b2ea0344d7ff",
   "metadata": {},
   "outputs": [],
   "source": [
    "# This dataset contains only number data => No mixed data values"
   ]
  },
  {
   "cell_type": "markdown",
   "id": "40cf6966-595e-40a2-aced-1868378fbb48",
   "metadata": {},
   "source": [
    "### 2.3. Missing data"
   ]
  },
  {
   "cell_type": "markdown",
   "id": "81e1dffa-3c61-4fa8-8f32-d575086ac1f2",
   "metadata": {},
   "source": [
    "#### 2.3.1 Null data"
   ]
  },
  {
   "cell_type": "code",
   "execution_count": 14,
   "id": "757b9fa5-bf65-493e-9192-f2e544e315b2",
   "metadata": {},
   "outputs": [
    {
     "data": {
      "text/html": [
       "0"
      ],
      "text/latex": [
       "0"
      ],
      "text/markdown": [
       "0"
      ],
      "text/plain": [
       "[1] 0"
      ]
     },
     "metadata": {},
     "output_type": "display_data"
    }
   ],
   "source": [
    "sum(is.na(df))"
   ]
  },
  {
   "cell_type": "code",
   "execution_count": 15,
   "id": "8b7efaed-832e-40b7-a49f-7b9b073d165a",
   "metadata": {},
   "outputs": [],
   "source": [
    "# This dataset has no missing values"
   ]
  },
  {
   "cell_type": "markdown",
   "id": "e161e281-b62a-45b1-a544-85730a8ce63f",
   "metadata": {},
   "source": [
    "#### 2.3.2 Missing data in specific columns"
   ]
  },
  {
   "cell_type": "code",
   "execution_count": 16,
   "id": "2dbfe0ab-3d92-4276-8571-af5e3f0a339a",
   "metadata": {},
   "outputs": [],
   "source": [
    "# We see that in column \"Age\", the value could have value of 14 \n",
    "# which is Don’t know / Refused / Missing (_AGEG5YR - BRFSS)"
   ]
  },
  {
   "cell_type": "code",
   "execution_count": 17,
   "id": "ac20a3b6-e616-47e4-833f-8b84590e6bc5",
   "metadata": {},
   "outputs": [
    {
     "data": {
      "text/html": [
       "0"
      ],
      "text/latex": [
       "0"
      ],
      "text/markdown": [
       "0"
      ],
      "text/plain": [
       "[1] 0"
      ]
     },
     "metadata": {},
     "output_type": "display_data"
    }
   ],
   "source": [
    "nrow(subset(df, Age == 14))"
   ]
  },
  {
   "cell_type": "code",
   "execution_count": 18,
   "id": "ea283c98-7d9c-43b2-bbf2-a813a47172d5",
   "metadata": {},
   "outputs": [],
   "source": [
    "# Conclusion: The dataset has no missing data."
   ]
  },
  {
   "cell_type": "code",
   "execution_count": 19,
   "id": "271baddb-c0af-459e-a6a7-eb1b794a7bbb",
   "metadata": {},
   "outputs": [
    {
     "name": "stdout",
     "output_type": "stream",
     "text": [
      "'data.frame':\t253680 obs. of  23 variables:\n",
      " $ Index               : int  0 1 2 3 4 5 6 7 8 9 ...\n",
      " $ HighBP              : int  1 0 1 1 1 1 1 1 1 0 ...\n",
      " $ HighChol            : int  1 0 1 0 1 1 0 1 1 0 ...\n",
      " $ CholCheck           : int  1 0 1 1 1 1 1 1 1 1 ...\n",
      " $ BMI                 : int  40 25 28 27 24 25 30 25 30 24 ...\n",
      " $ Smoker              : int  1 1 0 0 0 1 1 1 1 0 ...\n",
      " $ Stroke              : int  0 0 0 0 0 0 0 0 0 0 ...\n",
      " $ HeartDiseaseorAttack: int  0 0 0 0 0 0 0 0 1 0 ...\n",
      " $ PhysActivity        : int  0 1 0 1 1 1 0 1 0 0 ...\n",
      " $ Fruits              : int  0 0 1 1 1 1 0 0 1 0 ...\n",
      " $ Veggies             : int  1 0 0 1 1 1 0 1 1 1 ...\n",
      " $ HvyAlcoholConsump   : int  0 0 0 0 0 0 0 0 0 0 ...\n",
      " $ AnyHealthcare       : int  1 0 1 1 1 1 1 1 1 1 ...\n",
      " $ NoDocbcCost         : int  0 1 1 0 0 0 0 0 0 0 ...\n",
      " $ GenHlth             : int  5 3 5 2 2 2 3 3 5 2 ...\n",
      " $ MentHlth            : int  18 0 30 0 3 0 0 0 30 0 ...\n",
      " $ PhysHlth            : int  15 0 30 0 0 2 14 0 30 0 ...\n",
      " $ DiffWalk            : int  1 0 1 0 0 0 0 1 1 0 ...\n",
      " $ Sex                 : int  0 0 0 0 0 1 0 0 0 1 ...\n",
      " $ Age                 : int  9 7 9 11 11 10 9 11 9 8 ...\n",
      " $ Education           : int  4 6 4 3 5 6 6 4 5 4 ...\n",
      " $ Income              : int  3 1 8 6 4 8 7 4 1 3 ...\n",
      " $ Diabetes_binary     : int  0 0 0 0 0 0 0 0 1 0 ...\n"
     ]
    }
   ],
   "source": [
    "str(df)"
   ]
  },
  {
   "cell_type": "markdown",
   "id": "a37e0a1e-df7c-4a3e-bc6c-aed1b3e8a5cb",
   "metadata": {},
   "source": [
    "## 3. Exploratory data analysis (EDA)"
   ]
  },
  {
   "cell_type": "markdown",
   "id": "777d1f33-99ae-481a-80d3-d71353a514be",
   "metadata": {},
   "source": [
    "### 3.0. Detect Numerical, Binary, Ordinal variables"
   ]
  },
  {
   "cell_type": "code",
   "execution_count": 20,
   "id": "5296607f-a5a4-4c2e-ac41-3e314ae90c7e",
   "metadata": {},
   "outputs": [
    {
     "data": {
      "text/html": [
       "<table class=\"dataframe\">\n",
       "<caption>A matrix: 3 × 1 of type int</caption>\n",
       "<thead>\n",
       "\t<tr><th></th><th scope=col>Number of variable</th></tr>\n",
       "</thead>\n",
       "<tbody>\n",
       "\t<tr><th scope=row>numerical_cols</th><td> 3</td></tr>\n",
       "\t<tr><th scope=row>binary_cols</th><td>14</td></tr>\n",
       "\t<tr><th scope=row>ordinal_cols</th><td> 4</td></tr>\n",
       "</tbody>\n",
       "</table>\n"
      ],
      "text/latex": [
       "A matrix: 3 × 1 of type int\n",
       "\\begin{tabular}{r|l}\n",
       "  & Number of variable\\\\\n",
       "\\hline\n",
       "\tnumerical\\_cols &  3\\\\\n",
       "\tbinary\\_cols & 14\\\\\n",
       "\tordinal\\_cols &  4\\\\\n",
       "\\end{tabular}\n"
      ],
      "text/markdown": [
       "\n",
       "A matrix: 3 × 1 of type int\n",
       "\n",
       "| <!--/--> | Number of variable |\n",
       "|---|---|\n",
       "| numerical_cols |  3 |\n",
       "| binary_cols | 14 |\n",
       "| ordinal_cols |  4 |\n",
       "\n"
      ],
      "text/plain": [
       "               Number of variable\n",
       "numerical_cols  3                \n",
       "binary_cols    14                \n",
       "ordinal_cols    4                "
      ]
     },
     "metadata": {},
     "output_type": "display_data"
    }
   ],
   "source": [
    "numerical_cols = c(\"BMI\", \"MentHlth\", \"PhysHlth\")\n",
    "binary_cols = c(\"HighBP\", \"HighChol\", \"CholCheck\", \"Smoker\", \"Stroke\",\n",
    "               \"HeartDiseaseorAttack\", \"PhysActivity\", \"Fruits\", \"Veggies\",\n",
    "               \"HvyAlcoholConsump\", \"AnyHealthcare\", \"NoDocbcCost\",\n",
    "               \"DiffWalk\", \"Sex\")\n",
    "ordinal_cols = c(\"GenHlth\", \"Age\", \"Education\", \"Income\")\n",
    "response_col = \"Diabetes_binary\"\n",
    "\n",
    "display_matrix = matrix(c(length(numerical_cols), length(binary_cols), length(ordinal_cols)), nrow = 3)\n",
    "rownames(display_matrix) = c(\"numerical_cols\", \"binary_cols\", \"ordinal_cols\")\n",
    "colnames(display_matrix) = \"Number of variable\"\n",
    "display_matrix"
   ]
  },
  {
   "cell_type": "markdown",
   "id": "730df07b-8834-4189-b37b-ed2fdb0c9ae0",
   "metadata": {},
   "source": [
    "### 3.1. Response variable analysis"
   ]
  },
  {
   "cell_type": "code",
   "execution_count": 21,
   "id": "59b64954-0b32-4a55-a2e3-271250028f67",
   "metadata": {},
   "outputs": [
    {
     "data": {
      "image/png": "[encoded data removed]",
      "text/plain": [
       "Plot with title \"Diabetes_binary\""
      ]
     },
     "metadata": {
      "image/png": {
       "height": 420,
       "width": 420
      }
     },
     "output_type": "display_data"
    }
   ],
   "source": [
    "barplot(table(df[,response_col]), main = response_col)"
   ]
  },
  {
   "cell_type": "code",
   "execution_count": 22,
   "id": "779f77eb-7aee-4fc4-9652-03072902367b",
   "metadata": {},
   "outputs": [
    {
     "data": {
      "text/html": [
       "0.139333017975402"
      ],
      "text/latex": [
       "0.139333017975402"
      ],
      "text/markdown": [
       "0.139333017975402"
      ],
      "text/plain": [
       "[1] 0.139333"
      ]
     },
     "metadata": {},
     "output_type": "display_data"
    }
   ],
   "source": [
    "nrow(df[df$Diabetes_binary == 1, ]) / nrow(df)"
   ]
  },
  {
   "cell_type": "markdown",
   "id": "2c912055-d447-4071-bbc6-828a11e3dc00",
   "metadata": {},
   "source": [
    "### 3.2. Numerical variables analysis"
   ]
  },
  {
   "cell_type": "code",
   "execution_count": 23,
   "id": "fcefaf25-f2fc-4f96-84d0-798e557dd5a1",
   "metadata": {},
   "outputs": [],
   "source": [
    "# Numerical variables (3): BMI, MentHlth, PhysHlth"
   ]
  },
  {
   "cell_type": "code",
   "execution_count": 24,
   "id": "c584f7ba-373d-4a2e-96ed-2308c86057f2",
   "metadata": {},
   "outputs": [
    {
     "data": {
      "text/plain": [
       "\n",
       " Descriptive statistics by group \n",
       "group: 0\n",
       "         vars      n  mean   sd median trimmed  mad min max range skew kurtosis\n",
       "BMI         1 218334 27.81 6.29     27   27.15 4.45  12  98    86 2.33    13.62\n",
       "MentHlth    2 218334  2.98 7.11      0    0.94 0.00   0  30    30 2.86     7.37\n",
       "PhysHlth    3 218334  3.64 8.06      0    1.30 0.00   0  30    30 2.50     5.00\n",
       "           se\n",
       "BMI      0.01\n",
       "MentHlth 0.02\n",
       "PhysHlth 0.02\n",
       "------------------------------------------------------------ \n",
       "group: 1\n",
       "         vars     n  mean    sd median trimmed  mad min max range skew kurtosis\n",
       "BMI         1 35346 31.94  7.36     31   31.24 5.93  13  98    85 1.53     5.72\n",
       "MentHlth    2 35346  4.46  8.95      0    2.02 0.00   0  30    30 2.06     2.87\n",
       "PhysHlth    3 35346  7.95 11.30      1    6.19 1.48   0  30    30 1.15    -0.34\n",
       "           se\n",
       "BMI      0.04\n",
       "MentHlth 0.05\n",
       "PhysHlth 0.06"
      ]
     },
     "metadata": {},
     "output_type": "display_data"
    }
   ],
   "source": [
    "describeBy(df[,numerical_cols], df[,response_col])"
   ]
  },
  {
   "cell_type": "code",
   "execution_count": 25,
   "id": "8f1a6768-d4f6-4d25-b418-59039e50a497",
   "metadata": {},
   "outputs": [
    {
     "data": {
      "image/png": "[encoded data removed]",
      "text/plain": [
       "Plot with title \"PhysHlth\""
      ]
     },
     "metadata": {
      "image/png": {
       "height": 420,
       "width": 420
      }
     },
     "output_type": "display_data"
    }
   ],
   "source": [
    "par(mfrow=c(1,3))\n",
    "boxplot(df$BMI, main=\"BMI\")\n",
    "boxplot(df$MentHlth, main=\"MentHlth\")\n",
    "boxplot(df$PhysHlth, main=\"PhysHlth\")"
   ]
  },
  {
   "cell_type": "code",
   "execution_count": 26,
   "id": "5956fd21-520d-408d-a30b-b6d48237eef1",
   "metadata": {},
   "outputs": [
    {
     "data": {
      "image/png": "[encoded data removed]",
      "text/plain": [
       "Plot with title \"PhysHlth\""
      ]
     },
     "metadata": {
      "image/png": {
       "height": 420,
       "width": 420
      }
     },
     "output_type": "display_data"
    }
   ],
   "source": [
    "par(mfrow=c(3,1))\n",
    "hist(df$BMI, main=\"BMI\", xlab=\"BMI score\")\n",
    "hist(df$MentHlth, main=\"MentHlth\", xlab=\"Number of day with Mental Health problem in last 30 days\")\n",
    "hist(df$PhysHlth, main=\"PhysHlth\", xlab=\"Number of day with Physical Health problem in last 30 days\")"
   ]
  },
  {
   "cell_type": "markdown",
   "id": "9c5ba093-3c02-4ae1-896b-2ba7a4ccda75",
   "metadata": {},
   "source": [
    "### 3.3. Categorical variables analysis"
   ]
  },
  {
   "cell_type": "code",
   "execution_count": 27,
   "id": "c014e99e-eedd-456c-ac08-f2b4ea1a441e",
   "metadata": {},
   "outputs": [],
   "source": [
    "# Categorical variables (18): HighBP, HighChol, CholCheck, Smoker, Stroke,\n",
    "# HeartDiseaseorAttack, PhysActivity, Fruits, Veggies, HvyAlcoholConsump,\n",
    "# AnyHealthcare, NoDocbcCost, GenHlth, DiffWalk, Sex, Age, Education, Income."
   ]
  },
  {
   "cell_type": "code",
   "execution_count": 28,
   "id": "aa6ea563-18e3-45b5-bea3-679784dd6a1b",
   "metadata": {},
   "outputs": [
    {
     "data": {
      "image/png": "[encoded data removed]",
      "text/plain": [
       "Plot with title \"Veggies\""
      ]
     },
     "metadata": {
      "image/png": {
       "height": 420,
       "width": 420
      }
     },
     "output_type": "display_data"
    }
   ],
   "source": [
    "# Plot first 9 categorical variables: \n",
    "# HighBP, HighChol, CholCheck, Smoker, Stroke,\n",
    "# HeartDiseaseorAttack, PhysActivity, Fruits, Veggies,\n",
    "par(mfrow=c(3,3))\n",
    "barplot(table(df$HighBP), horiz=T, main=\"HighBP\")\n",
    "barplot(table(df$HighChol), horiz=T, main=\"HighChol\")\n",
    "barplot(table(df$CholCheck), horiz=T, main=\"CholCheck\")\n",
    "barplot(table(df$Smoker), horiz=T, main=\"Smoker\")\n",
    "barplot(table(df$Stroke), horiz=T, main=\"Stroke\")\n",
    "barplot(table(df$HeartDiseaseorAttack), horiz=T, main=\"HeartDiseaseorAttack\")\n",
    "barplot(table(df$PhysActivity), horiz=T, main=\"PhysActivity\")\n",
    "barplot(table(df$Fruits), horiz=T, main=\"Fruits\")\n",
    "barplot(table(df$Veggies), horiz=T, main=\"Veggies\")"
   ]
  },
  {
   "cell_type": "code",
   "execution_count": 29,
   "id": "21cb0dc0-61f6-4f26-b59e-a9d3d1cc8cdf",
   "metadata": {},
   "outputs": [
    {
     "data": {
      "image/png": "[encoded data removed]",
      "text/plain": [
       "Plot with title \"Income\""
      ]
     },
     "metadata": {
      "image/png": {
       "height": 420,
       "width": 420
      }
     },
     "output_type": "display_data"
    }
   ],
   "source": [
    "# Plot last 9 categorical variables\n",
    "# HvyAlcoholConsump, AnyHealthcare, NoDocbcCost, GenHlth, \n",
    "# DiffWalk, Sex, Age, Education, Income.\n",
    "par(mfrow=c(3,3))\n",
    "barplot(table(df$HvyAlcoholConsump), horiz=T, main=\"HvyAlcoholConsump\")\n",
    "barplot(table(df$AnyHealthcare), horiz=T, main=\"AnyHealthcare\")\n",
    "barplot(table(df$NoDocbcCost), horiz=T, main=\"NoDocbcCost\")\n",
    "barplot(table(df$GenHlth), horiz=T, main=\"GenHlth\")\n",
    "barplot(table(df$DiffWalk), horiz=T, main=\"DiffWalk\")\n",
    "barplot(table(df$Sex), horiz=T, main=\"Sex\")\n",
    "barplot(table(df$Age), horiz=T, main=\"Age\")\n",
    "barplot(table(df$Education), horiz=T, main=\"Education\")\n",
    "barplot(table(df$Income), horiz=T, main=\"Income\")"
   ]
  },
  {
   "cell_type": "code",
   "execution_count": 30,
   "id": "88b52b50-093d-410d-9bf2-d3c2df655d04",
   "metadata": {},
   "outputs": [],
   "source": [
    "summary_categorical_variables = function(df, explain_col, response_col, is.binary = T, prop.r = T,\n",
    "                                        prop.c = T, prop.t = T)\n",
    "{\n",
    "    contingency_table = table(df[, explain_col], df[, response_col], dnn = c(explain_col, response_col))\n",
    "    if (is.binary)\n",
    "    {\n",
    "        rownames(contingency_table) = c(paste(\"no\", explain_col), explain_col)\n",
    "        CrossTable(contingency_table, prop.r = prop.r, prop.c = prop.c, prop.t = prop.t, prop.chisq = FALSE, chisq = T)\n",
    "        print(\"Odds Ratio\")\n",
    "        print(OddsRatio(contingency_table, conf.level = 0.95))\n",
    "        print(\"Relative Risk\")\n",
    "        print(RelRisk(contingency_table, conf.level = 0.95, method = \"wald\"))\n",
    "    }\n",
    "    else\n",
    "    {\n",
    "        CrossTable(contingency_table, prop.r = prop.r, prop.c = prop.c, prop.t = prop.t, prop.chisq = FALSE, chisq = T)\n",
    "    }\n",
    "}"
   ]
  },
  {
   "cell_type": "code",
   "execution_count": 31,
   "id": "6e9786b5-972b-4d1a-a838-a05e8d3f02d5",
   "metadata": {},
   "outputs": [
    {
     "name": "stdout",
     "output_type": "stream",
     "text": [
      "\n",
      " \n",
      "   Cell Contents\n",
      "|-------------------------|\n",
      "|                       N |\n",
      "|           N / Row Total |\n",
      "|           N / Col Total |\n",
      "|         N / Table Total |\n",
      "|-------------------------|\n",
      "\n",
      " \n",
      "Total Observations in Table:  253680 \n",
      "\n",
      " \n",
      "             | Diabetes_binary \n",
      "      HighBP |         0 |         1 | Row Total | \n",
      "-------------|-----------|-----------|-----------|\n",
      "   no HighBP |    136109 |      8742 |    144851 | \n",
      "             |     0.940 |     0.060 |     0.571 | \n",
      "             |     0.623 |     0.247 |           | \n",
      "             |     0.537 |     0.034 |           | \n",
      "-------------|-----------|-----------|-----------|\n",
      "      HighBP |     82225 |     26604 |    108829 | \n",
      "             |     0.756 |     0.244 |     0.429 | \n",
      "             |     0.377 |     0.753 |           | \n",
      "             |     0.324 |     0.105 |           | \n",
      "-------------|-----------|-----------|-----------|\n",
      "Column Total |    218334 |     35346 |    253680 | \n",
      "             |     0.861 |     0.139 |           | \n",
      "-------------|-----------|-----------|-----------|\n",
      "\n",
      " \n",
      "Statistics for All Table Factors\n",
      "\n",
      "\n",
      "Pearson's Chi-squared test \n",
      "------------------------------------------------------------\n",
      "Chi^2 =  17563.98     d.f. =  1     p =  0 \n",
      "\n",
      "Pearson's Chi-squared test with Yates' continuity correction \n",
      "------------------------------------------------------------\n",
      "Chi^2 =  17562.45     d.f. =  1     p =  0 \n",
      "\n",
      " \n",
      "[1] \"Odds Ratio\"\n",
      "odds ratio     lwr.ci     upr.ci \n",
      "  5.037547   4.909897   5.168516 \n",
      "[1] \"Relative Risk\"\n",
      "rel. risk    lwr.ci    upr.ci \n",
      " 1.243673  1.239175  1.248186 \n",
      "\n",
      " \n",
      "   Cell Contents\n",
      "|-------------------------|\n",
      "|                       N |\n",
      "|           N / Row Total |\n",
      "|           N / Col Total |\n",
      "|         N / Table Total |\n",
      "|-------------------------|\n",
      "\n",
      " \n",
      "Total Observations in Table:  253680 \n",
      "\n",
      " \n",
      "             | Diabetes_binary \n",
      "    HighChol |         0 |         1 | Row Total | \n",
      "-------------|-----------|-----------|-----------|\n",
      " no HighChol |    134429 |     11660 |    146089 | \n",
      "             |     0.920 |     0.080 |     0.576 | \n",
      "             |     0.616 |     0.330 |           | \n",
      "             |     0.530 |     0.046 |           | \n",
      "-------------|-----------|-----------|-----------|\n",
      "    HighChol |     83905 |     23686 |    107591 | \n",
      "             |     0.780 |     0.220 |     0.424 | \n",
      "             |     0.384 |     0.670 |           | \n",
      "             |     0.331 |     0.093 |           | \n",
      "-------------|-----------|-----------|-----------|\n",
      "Column Total |    218334 |     35346 |    253680 | \n",
      "             |     0.861 |     0.139 |           | \n",
      "-------------|-----------|-----------|-----------|\n",
      "\n",
      " \n",
      "Statistics for All Table Factors\n",
      "\n",
      "\n",
      "Pearson's Chi-squared test \n",
      "------------------------------------------------------------\n",
      "Chi^2 =  10175.25     d.f. =  1     p =  0 \n",
      "\n",
      "Pearson's Chi-squared test with Yates' continuity correction \n",
      "------------------------------------------------------------\n",
      "Chi^2 =  10174.07     d.f. =  1     p =  0 \n",
      "\n",
      " \n",
      "[1] \"Odds Ratio\"\n",
      "odds ratio     lwr.ci     upr.ci \n",
      "  3.254605   3.178089   3.332963 \n",
      "[1] \"Relative Risk\"\n",
      "rel. risk    lwr.ci    upr.ci \n",
      " 1.179950  1.175809  1.184105 \n",
      "\n",
      " \n",
      "   Cell Contents\n",
      "|-------------------------|\n",
      "|                       N |\n",
      "|           N / Row Total |\n",
      "|           N / Col Total |\n",
      "|         N / Table Total |\n",
      "|-------------------------|\n",
      "\n",
      " \n",
      "Total Observations in Table:  253680 \n",
      "\n",
      " \n",
      "             | Diabetes_binary \n",
      "   CholCheck |         0 |         1 | Row Total | \n",
      "-------------|-----------|-----------|-----------|\n",
      "no CholCheck |      9229 |       241 |      9470 | \n",
      "             |     0.975 |     0.025 |     0.037 | \n",
      "             |     0.042 |     0.007 |           | \n",
      "             |     0.036 |     0.001 |           | \n",
      "-------------|-----------|-----------|-----------|\n",
      "   CholCheck |    209105 |     35105 |    244210 | \n",
      "             |     0.856 |     0.144 |     0.963 | \n",
      "             |     0.958 |     0.993 |           | \n",
      "             |     0.824 |     0.138 |           | \n",
      "-------------|-----------|-----------|-----------|\n",
      "Column Total |    218334 |     35346 |    253680 | \n",
      "             |     0.861 |     0.139 |           | \n",
      "-------------|-----------|-----------|-----------|\n",
      "\n",
      " \n",
      "Statistics for All Table Factors\n",
      "\n",
      "\n",
      "Pearson's Chi-squared test \n",
      "------------------------------------------------------------\n",
      "Chi^2 =  1063.924     d.f. =  1     p =  2.28995e-233 \n",
      "\n",
      "Pearson's Chi-squared test with Yates' continuity correction \n",
      "------------------------------------------------------------\n",
      "Chi^2 =  1062.938     d.f. =  1     p =  3.751399e-233 \n",
      "\n",
      " \n",
      "[1] \"Odds Ratio\"\n",
      "odds ratio     lwr.ci     upr.ci \n",
      "  6.428981   5.654362   7.309720 \n",
      "[1] \"Relative Risk\"\n",
      "rel. risk    lwr.ci    upr.ci \n",
      " 1.138161  1.134032  1.142305 \n",
      "\n",
      " \n",
      "   Cell Contents\n",
      "|-------------------------|\n",
      "|                       N |\n",
      "|           N / Row Total |\n",
      "|           N / Col Total |\n",
      "|         N / Table Total |\n",
      "|-------------------------|\n",
      "\n",
      " \n",
      "Total Observations in Table:  253680 \n",
      "\n",
      " \n",
      "             | Diabetes_binary \n",
      "      Smoker |         0 |         1 | Row Total | \n",
      "-------------|-----------|-----------|-----------|\n",
      "   no Smoker |    124228 |     17029 |    141257 | \n",
      "             |     0.879 |     0.121 |     0.557 | \n",
      "             |     0.569 |     0.482 |           | \n",
      "             |     0.490 |     0.067 |           | \n",
      "-------------|-----------|-----------|-----------|\n",
      "      Smoker |     94106 |     18317 |    112423 | \n",
      "             |     0.837 |     0.163 |     0.443 | \n",
      "             |     0.431 |     0.518 |           | \n",
      "             |     0.371 |     0.072 |           | \n",
      "-------------|-----------|-----------|-----------|\n",
      "Column Total |    218334 |     35346 |    253680 | \n",
      "             |     0.861 |     0.139 |           | \n",
      "-------------|-----------|-----------|-----------|\n",
      "\n",
      " \n",
      "Statistics for All Table Factors\n",
      "\n",
      "\n",
      "Pearson's Chi-squared test \n",
      "------------------------------------------------------------\n",
      "Chi^2 =  937.4091     d.f. =  1     p =  7.239598e-206 \n",
      "\n",
      "Pearson's Chi-squared test with Yates' continuity correction \n",
      "------------------------------------------------------------\n",
      "Chi^2 =  937.0558     d.f. =  1     p =  8.640172e-206 \n",
      "\n",
      " \n",
      "[1] \"Odds Ratio\"\n",
      "odds ratio     lwr.ci     upr.ci \n",
      "  1.419931   1.388315   1.452268 \n",
      "[1] \"Relative Risk\"\n",
      "rel. risk    lwr.ci    upr.ci \n",
      " 1.050624  1.047245  1.054014 \n",
      "\n",
      " \n",
      "   Cell Contents\n",
      "|-------------------------|\n",
      "|                       N |\n",
      "|           N / Row Total |\n",
      "|           N / Col Total |\n",
      "|         N / Table Total |\n",
      "|-------------------------|\n",
      "\n",
      " \n",
      "Total Observations in Table:  253680 \n",
      "\n",
      " \n",
      "             | Diabetes_binary \n",
      "      Stroke |         0 |         1 | Row Total | \n",
      "-------------|-----------|-----------|-----------|\n",
      "   no Stroke |    211310 |     32078 |    243388 | \n",
      "             |     0.868 |     0.132 |     0.959 | \n",
      "             |     0.968 |     0.908 |           | \n",
      "             |     0.833 |     0.126 |           | \n",
      "-------------|-----------|-----------|-----------|\n",
      "      Stroke |      7024 |      3268 |     10292 | \n",
      "             |     0.682 |     0.318 |     0.041 | \n",
      "             |     0.032 |     0.092 |           | \n",
      "             |     0.028 |     0.013 |           | \n",
      "-------------|-----------|-----------|-----------|\n",
      "Column Total |    218334 |     35346 |    253680 | \n",
      "             |     0.861 |     0.139 |           | \n",
      "-------------|-----------|-----------|-----------|\n",
      "\n",
      " \n",
      "Statistics for All Table Factors\n",
      "\n",
      "\n",
      "Pearson's Chi-squared test \n",
      "------------------------------------------------------------\n",
      "Chi^2 =  2840.465     d.f. =  1     p =  0 \n",
      "\n",
      "Pearson's Chi-squared test with Yates' continuity correction \n",
      "------------------------------------------------------------\n",
      "Chi^2 =  2838.917     d.f. =  1     p =  0 \n",
      "\n",
      " \n",
      "[1] \"Odds Ratio\"\n",
      "odds ratio     lwr.ci     upr.ci \n",
      "  3.064858   2.935476   3.199941 \n",
      "[1] \"Relative Risk\"\n",
      "rel. risk    lwr.ci    upr.ci \n",
      " 1.272144  1.255378  1.289134 \n",
      "\n",
      " \n",
      "   Cell Contents\n",
      "|-------------------------|\n",
      "|                       N |\n",
      "|           N / Row Total |\n",
      "|           N / Col Total |\n",
      "|         N / Table Total |\n",
      "|-------------------------|\n",
      "\n",
      " \n",
      "Total Observations in Table:  253680 \n",
      "\n",
      " \n",
      "                        | Diabetes_binary \n",
      "   HeartDiseaseorAttack |         0 |         1 | Row Total | \n",
      "------------------------|-----------|-----------|-----------|\n",
      "no HeartDiseaseorAttack |    202319 |     27468 |    229787 | \n",
      "                        |     0.880 |     0.120 |     0.906 | \n",
      "                        |     0.927 |     0.777 |           | \n",
      "                        |     0.798 |     0.108 |           | \n",
      "------------------------|-----------|-----------|-----------|\n",
      "   HeartDiseaseorAttack |     16015 |      7878 |     23893 | \n",
      "                        |     0.670 |     0.330 |     0.094 | \n",
      "                        |     0.073 |     0.223 |           | \n",
      "                        |     0.063 |     0.031 |           | \n",
      "------------------------|-----------|-----------|-----------|\n",
      "           Column Total |    218334 |     35346 |    253680 | \n",
      "                        |     0.861 |     0.139 |           | \n",
      "------------------------|-----------|-----------|-----------|\n",
      "\n",
      " \n",
      "Statistics for All Table Factors\n",
      "\n",
      "\n",
      "Pearson's Chi-squared test \n",
      "------------------------------------------------------------\n",
      "Chi^2 =  7972.908     d.f. =  1     p =  0 \n",
      "\n",
      "Pearson's Chi-squared test with Yates' continuity correction \n",
      "------------------------------------------------------------\n",
      "Chi^2 =  7971.156     d.f. =  1     p =  0 \n",
      "\n",
      " \n",
      "[1] \"Odds Ratio\"\n",
      "odds ratio     lwr.ci     upr.ci \n",
      "  3.623253   3.516974   3.732743 \n",
      "[1] \"Relative Risk\"\n",
      "rel. risk    lwr.ci    upr.ci \n",
      " 1.313575  1.301781  1.325477 \n",
      "\n",
      " \n",
      "   Cell Contents\n",
      "|-------------------------|\n",
      "|                       N |\n",
      "|           N / Row Total |\n",
      "|           N / Col Total |\n",
      "|         N / Table Total |\n",
      "|-------------------------|\n",
      "\n",
      " \n",
      "Total Observations in Table:  253680 \n",
      "\n",
      " \n",
      "                | Diabetes_binary \n",
      "   PhysActivity |         0 |         1 | Row Total | \n",
      "----------------|-----------|-----------|-----------|\n",
      "no PhysActivity |     48701 |     13059 |     61760 | \n",
      "                |     0.789 |     0.211 |     0.243 | \n",
      "                |     0.223 |     0.369 |           | \n",
      "                |     0.192 |     0.051 |           | \n",
      "----------------|-----------|-----------|-----------|\n",
      "   PhysActivity |    169633 |     22287 |    191920 | \n",
      "                |     0.884 |     0.116 |     0.757 | \n",
      "                |     0.777 |     0.631 |           | \n",
      "                |     0.669 |     0.088 |           | \n",
      "----------------|-----------|-----------|-----------|\n",
      "   Column Total |    218334 |     35346 |    253680 | \n",
      "                |     0.861 |     0.139 |           | \n",
      "----------------|-----------|-----------|-----------|\n",
      "\n",
      " \n",
      "Statistics for All Table Factors\n",
      "\n",
      "\n",
      "Pearson's Chi-squared test \n",
      "------------------------------------------------------------\n",
      "Chi^2 =  3540.214     d.f. =  1     p =  0 \n",
      "\n",
      "Pearson's Chi-squared test with Yates' continuity correction \n",
      "------------------------------------------------------------\n",
      "Chi^2 =  3539.419     d.f. =  1     p =  0 \n",
      "\n",
      " \n",
      "[1] \"Odds Ratio\"\n",
      "odds ratio     lwr.ci     upr.ci \n",
      " 0.4899697  0.4784299  0.5017878 \n",
      "[1] \"Relative Risk\"\n",
      "rel. risk    lwr.ci    upr.ci \n",
      "0.8921553 0.8882438 0.8960841 \n",
      "\n",
      " \n",
      "   Cell Contents\n",
      "|-------------------------|\n",
      "|                       N |\n",
      "|           N / Row Total |\n",
      "|           N / Col Total |\n",
      "|         N / Table Total |\n",
      "|-------------------------|\n",
      "\n",
      " \n",
      "Total Observations in Table:  253680 \n",
      "\n",
      " \n",
      "             | Diabetes_binary \n",
      "      Fruits |         0 |         1 | Row Total | \n",
      "-------------|-----------|-----------|-----------|\n",
      "   no Fruits |     78129 |     14653 |     92782 | \n",
      "             |     0.842 |     0.158 |     0.366 | \n",
      "             |     0.358 |     0.415 |           | \n",
      "             |     0.308 |     0.058 |           | \n",
      "-------------|-----------|-----------|-----------|\n",
      "      Fruits |    140205 |     20693 |    160898 | \n",
      "             |     0.871 |     0.129 |     0.634 | \n",
      "             |     0.642 |     0.585 |           | \n",
      "             |     0.553 |     0.082 |           | \n",
      "-------------|-----------|-----------|-----------|\n",
      "Column Total |    218334 |     35346 |    253680 | \n",
      "             |     0.861 |     0.139 |           | \n",
      "-------------|-----------|-----------|-----------|\n",
      "\n",
      " \n",
      "Statistics for All Table Factors\n",
      "\n",
      "\n",
      "Pearson's Chi-squared test \n",
      "------------------------------------------------------------\n",
      "Chi^2 =  421.856     d.f. =  1     p =  9.626489e-94 \n",
      "\n",
      "Pearson's Chi-squared test with Yates' continuity correction \n",
      "------------------------------------------------------------\n",
      "Chi^2 =  421.6115     d.f. =  1     p =  1.088121e-93 \n",
      "\n",
      " \n",
      "[1] \"Odds Ratio\"\n",
      "odds ratio     lwr.ci     upr.ci \n",
      " 0.7869473  0.7691317  0.8051756 \n",
      "[1] \"Relative Risk\"\n",
      "rel. risk    lwr.ci    upr.ci \n",
      "0.9663527 0.9631114 0.9696050 \n",
      "\n",
      " \n",
      "   Cell Contents\n",
      "|-------------------------|\n",
      "|                       N |\n",
      "|           N / Row Total |\n",
      "|           N / Col Total |\n",
      "|         N / Table Total |\n",
      "|-------------------------|\n",
      "\n",
      " \n",
      "Total Observations in Table:  253680 \n",
      "\n",
      " \n",
      "             | Diabetes_binary \n",
      "     Veggies |         0 |         1 | Row Total | \n",
      "-------------|-----------|-----------|-----------|\n",
      "  no Veggies |     39229 |      8610 |     47839 | \n",
      "             |     0.820 |     0.180 |     0.189 | \n",
      "             |     0.180 |     0.244 |           | \n",
      "             |     0.155 |     0.034 |           | \n",
      "-------------|-----------|-----------|-----------|\n",
      "     Veggies |    179105 |     26736 |    205841 | \n",
      "             |     0.870 |     0.130 |     0.811 | \n",
      "             |     0.820 |     0.756 |           | \n",
      "             |     0.706 |     0.105 |           | \n",
      "-------------|-----------|-----------|-----------|\n",
      "Column Total |    218334 |     35346 |    253680 | \n",
      "             |     0.861 |     0.139 |           | \n",
      "-------------|-----------|-----------|-----------|\n",
      "\n",
      " \n",
      "Statistics for All Table Factors\n",
      "\n",
      "\n",
      "Pearson's Chi-squared test \n",
      "------------------------------------------------------------\n",
      "Chi^2 =  812.2236     d.f. =  1     p =  1.186992e-178 \n",
      "\n",
      "Pearson's Chi-squared test with Yates' continuity correction \n",
      "------------------------------------------------------------\n",
      "Chi^2 =  811.806     d.f. =  1     p =  1.463029e-178 \n",
      "\n",
      " \n",
      "[1] \"Odds Ratio\"\n",
      "odds ratio     lwr.ci     upr.ci \n",
      " 0.6801314  0.6622578  0.6984874 \n",
      "[1] \"Relative Risk\"\n",
      "rel. risk    lwr.ci    upr.ci \n",
      "0.9424305 0.9381825 0.9466976 \n",
      "\n",
      " \n",
      "   Cell Contents\n",
      "|-------------------------|\n",
      "|                       N |\n",
      "|           N / Row Total |\n",
      "|           N / Col Total |\n",
      "|         N / Table Total |\n",
      "|-------------------------|\n",
      "\n",
      " \n",
      "Total Observations in Table:  253680 \n",
      "\n",
      " \n",
      "                     | Diabetes_binary \n",
      "   HvyAlcoholConsump |         0 |         1 | Row Total | \n",
      "---------------------|-----------|-----------|-----------|\n",
      "no HvyAlcoholConsump |    204910 |     34514 |    239424 | \n",
      "                     |     0.856 |     0.144 |     0.944 | \n",
      "                     |     0.939 |     0.976 |           | \n",
      "                     |     0.808 |     0.136 |           | \n",
      "---------------------|-----------|-----------|-----------|\n",
      "   HvyAlcoholConsump |     13424 |       832 |     14256 | \n",
      "                     |     0.942 |     0.058 |     0.056 | \n",
      "                     |     0.061 |     0.024 |           | \n",
      "                     |     0.053 |     0.003 |           | \n",
      "---------------------|-----------|-----------|-----------|\n",
      "        Column Total |    218334 |     35346 |    253680 | \n",
      "                     |     0.861 |     0.139 |           | \n",
      "---------------------|-----------|-----------|-----------|\n",
      "\n",
      " \n",
      "Statistics for All Table Factors\n",
      "\n",
      "\n",
      "Pearson's Chi-squared test \n",
      "------------------------------------------------------------\n",
      "Chi^2 =  825.834     d.f. =  1     p =  1.304337e-181 \n",
      "\n",
      "Pearson's Chi-squared test with Yates' continuity correction \n",
      "------------------------------------------------------------\n",
      "Chi^2 =  825.1188     d.f. =  1     p =  1.865932e-181 \n",
      "\n",
      " \n",
      "[1] \"Odds Ratio\"\n",
      "odds ratio     lwr.ci     upr.ci \n",
      " 0.3679673  0.3427660  0.3950215 \n",
      "[1] \"Relative Risk\"\n",
      "rel. risk    lwr.ci    upr.ci \n",
      "0.9088898 0.9048961 0.9129011 \n",
      "\n",
      " \n",
      "   Cell Contents\n",
      "|-------------------------|\n",
      "|                       N |\n",
      "|           N / Row Total |\n",
      "|           N / Col Total |\n",
      "|         N / Table Total |\n",
      "|-------------------------|\n",
      "\n",
      " \n",
      "Total Observations in Table:  253680 \n",
      "\n",
      " \n",
      "                 | Diabetes_binary \n",
      "   AnyHealthcare |         0 |         1 | Row Total | \n",
      "-----------------|-----------|-----------|-----------|\n",
      "no AnyHealthcare |     10995 |      1422 |     12417 | \n",
      "                 |     0.885 |     0.115 |     0.049 | \n",
      "                 |     0.050 |     0.040 |           | \n",
      "                 |     0.043 |     0.006 |           | \n",
      "-----------------|-----------|-----------|-----------|\n",
      "   AnyHealthcare |    207339 |     33924 |    241263 | \n",
      "                 |     0.859 |     0.141 |     0.951 | \n",
      "                 |     0.950 |     0.960 |           | \n",
      "                 |     0.817 |     0.134 |           | \n",
      "-----------------|-----------|-----------|-----------|\n",
      "    Column Total |    218334 |     35346 |    253680 | \n",
      "                 |     0.861 |     0.139 |           | \n",
      "-----------------|-----------|-----------|-----------|\n",
      "\n",
      " \n",
      "Statistics for All Table Factors\n",
      "\n",
      "\n",
      "Pearson's Chi-squared test \n",
      "------------------------------------------------------------\n",
      "Chi^2 =  67.02976     d.f. =  1     p =  2.674399e-16 \n",
      "\n",
      "Pearson's Chi-squared test with Yates' continuity correction \n",
      "------------------------------------------------------------\n",
      "Chi^2 =  66.81237     d.f. =  1     p =  2.986181e-16 \n",
      "\n",
      " \n",
      "[1] \"Odds Ratio\"\n",
      "odds ratio     lwr.ci     upr.ci \n",
      "  1.265091   1.195697   1.338512 \n",
      "[1] \"Relative Risk\"\n",
      "rel. risk    lwr.ci    upr.ci \n",
      " 1.030358  1.023655  1.037105 \n",
      "\n",
      " \n",
      "   Cell Contents\n",
      "|-------------------------|\n",
      "|                       N |\n",
      "|           N / Row Total |\n",
      "|           N / Col Total |\n",
      "|         N / Table Total |\n",
      "|-------------------------|\n",
      "\n",
      " \n",
      "Total Observations in Table:  253680 \n",
      "\n",
      " \n",
      "               | Diabetes_binary \n",
      "   NoDocbcCost |         0 |         1 | Row Total | \n",
      "---------------|-----------|-----------|-----------|\n",
      "no NoDocbcCost |    200722 |     31604 |    232326 | \n",
      "               |     0.864 |     0.136 |     0.916 | \n",
      "               |     0.919 |     0.894 |           | \n",
      "               |     0.791 |     0.125 |           | \n",
      "---------------|-----------|-----------|-----------|\n",
      "   NoDocbcCost |     17612 |      3742 |     21354 | \n",
      "               |     0.825 |     0.175 |     0.084 | \n",
      "               |     0.081 |     0.106 |           | \n",
      "               |     0.069 |     0.015 |           | \n",
      "---------------|-----------|-----------|-----------|\n",
      "  Column Total |    218334 |     35346 |    253680 | \n",
      "               |     0.861 |     0.139 |           | \n",
      "---------------|-----------|-----------|-----------|\n",
      "\n",
      " \n",
      "Statistics for All Table Factors\n",
      "\n",
      "\n",
      "Pearson's Chi-squared test \n",
      "------------------------------------------------------------\n",
      "Chi^2 =  250.6406     d.f. =  1     p =  1.882748e-56 \n",
      "\n",
      "Pearson's Chi-squared test with Yates' continuity correction \n",
      "------------------------------------------------------------\n",
      "Chi^2 =  250.3138     d.f. =  1     p =  2.218395e-56 \n",
      "\n",
      " \n",
      "[1] \"Odds Ratio\"\n",
      "odds ratio     lwr.ci     upr.ci \n",
      "  1.349423   1.300119   1.400596 \n",
      "[1] \"Relative Risk\"\n",
      "rel. risk    lwr.ci    upr.ci \n",
      " 1.047533  1.040862  1.054247 \n",
      "\n",
      " \n",
      "   Cell Contents\n",
      "|-------------------------|\n",
      "|                       N |\n",
      "|           N / Row Total |\n",
      "|           N / Col Total |\n",
      "|         N / Table Total |\n",
      "|-------------------------|\n",
      "\n",
      " \n",
      "Total Observations in Table:  253680 \n",
      "\n",
      " \n",
      "             | Diabetes_binary \n",
      "    DiffWalk |         0 |         1 | Row Total | \n",
      "-------------|-----------|-----------|-----------|\n",
      " no DiffWalk |    188780 |     22225 |    211005 | \n",
      "             |     0.895 |     0.105 |     0.832 | \n",
      "             |     0.865 |     0.629 |           | \n",
      "             |     0.744 |     0.088 |           | \n",
      "-------------|-----------|-----------|-----------|\n",
      "    DiffWalk |     29554 |     13121 |     42675 | \n",
      "             |     0.693 |     0.307 |     0.168 | \n",
      "             |     0.135 |     0.371 |           | \n",
      "             |     0.117 |     0.052 |           | \n",
      "-------------|-----------|-----------|-----------|\n",
      "Column Total |    218334 |     35346 |    253680 | \n",
      "             |     0.861 |     0.139 |           | \n",
      "-------------|-----------|-----------|-----------|\n",
      "\n",
      " \n",
      "Statistics for All Table Factors\n",
      "\n",
      "\n",
      "Pearson's Chi-squared test \n",
      "------------------------------------------------------------\n",
      "Chi^2 =  12094.01     d.f. =  1     p =  0 \n",
      "\n",
      "Pearson's Chi-squared test with Yates' continuity correction \n",
      "------------------------------------------------------------\n",
      "Chi^2 =  12092.32     d.f. =  1     p =  0 \n",
      "\n",
      " \n",
      "[1] \"Odds Ratio\"\n",
      "odds ratio     lwr.ci     upr.ci \n",
      "  3.771072   3.678633   3.865835 \n",
      "[1] \"Relative Risk\"\n",
      "rel. risk    lwr.ci    upr.ci \n",
      " 1.291875  1.283519  1.300285 \n",
      "\n",
      " \n",
      "   Cell Contents\n",
      "|-------------------------|\n",
      "|                       N |\n",
      "|           N / Row Total |\n",
      "|           N / Col Total |\n",
      "|         N / Table Total |\n",
      "|-------------------------|\n",
      "\n",
      " \n",
      "Total Observations in Table:  253680 \n",
      "\n",
      " \n",
      "             | Diabetes_binary \n",
      "         Sex |         0 |         1 | Row Total | \n",
      "-------------|-----------|-----------|-----------|\n",
      "      no Sex |    123563 |     18411 |    141974 | \n",
      "             |     0.870 |     0.130 |     0.560 | \n",
      "             |     0.566 |     0.521 |           | \n",
      "             |     0.487 |     0.073 |           | \n",
      "-------------|-----------|-----------|-----------|\n",
      "         Sex |     94771 |     16935 |    111706 | \n",
      "             |     0.848 |     0.152 |     0.440 | \n",
      "             |     0.434 |     0.479 |           | \n",
      "             |     0.374 |     0.067 |           | \n",
      "-------------|-----------|-----------|-----------|\n",
      "Column Total |    218334 |     35346 |    253680 | \n",
      "             |     0.861 |     0.139 |           | \n",
      "-------------|-----------|-----------|-----------|\n",
      "\n",
      " \n",
      "Statistics for All Table Factors\n",
      "\n",
      "\n",
      "Pearson's Chi-squared test \n",
      "------------------------------------------------------------\n",
      "Chi^2 =  250.5965     d.f. =  1     p =  1.924891e-56 \n",
      "\n",
      "Pearson's Chi-squared test with Yates' continuity correction \n",
      "------------------------------------------------------------\n",
      "Chi^2 =  250.4137     d.f. =  1     p =  2.109875e-56 \n",
      "\n",
      " \n",
      "[1] \"Odds Ratio\"\n",
      "odds ratio     lwr.ci     upr.ci \n",
      "  1.199281   1.172576   1.226594 \n",
      "[1] \"Relative Risk\"\n",
      "rel. risk    lwr.ci    upr.ci \n",
      " 1.025842  1.022575  1.029120 \n"
     ]
    }
   ],
   "source": [
    "for (bin_col in binary_cols)\n",
    "{\n",
    "    summary_categorical_variables(df, bin_col, response_col)\n",
    "}"
   ]
  },
  {
   "cell_type": "code",
   "execution_count": 32,
   "id": "b1e030c1-1ce6-4fb6-ad8a-cadd8797f573",
   "metadata": {},
   "outputs": [
    {
     "name": "stdout",
     "output_type": "stream",
     "text": [
      "\n",
      " \n",
      "   Cell Contents\n",
      "|-------------------------|\n",
      "|                       N |\n",
      "|           N / Row Total |\n",
      "|           N / Col Total |\n",
      "|         N / Table Total |\n",
      "|-------------------------|\n",
      "\n",
      " \n",
      "Total Observations in Table:  253680 \n",
      "\n",
      " \n",
      "             | Diabetes_binary \n",
      "     GenHlth |         0 |         1 | Row Total | \n",
      "-------------|-----------|-----------|-----------|\n",
      "           1 |     44159 |      1140 |     45299 | \n",
      "             |     0.975 |     0.025 |     0.179 | \n",
      "             |     0.202 |     0.032 |           | \n",
      "             |     0.174 |     0.004 |           | \n",
      "-------------|-----------|-----------|-----------|\n",
      "           2 |     82703 |      6381 |     89084 | \n",
      "             |     0.928 |     0.072 |     0.351 | \n",
      "             |     0.379 |     0.181 |           | \n",
      "             |     0.326 |     0.025 |           | \n",
      "-------------|-----------|-----------|-----------|\n",
      "           3 |     62189 |     13457 |     75646 | \n",
      "             |     0.822 |     0.178 |     0.298 | \n",
      "             |     0.285 |     0.381 |           | \n",
      "             |     0.245 |     0.053 |           | \n",
      "-------------|-----------|-----------|-----------|\n",
      "           4 |     21780 |      9790 |     31570 | \n",
      "             |     0.690 |     0.310 |     0.124 | \n",
      "             |     0.100 |     0.277 |           | \n",
      "             |     0.086 |     0.039 |           | \n",
      "-------------|-----------|-----------|-----------|\n",
      "           5 |      7503 |      4578 |     12081 | \n",
      "             |     0.621 |     0.379 |     0.048 | \n",
      "             |     0.034 |     0.130 |           | \n",
      "             |     0.030 |     0.018 |           | \n",
      "-------------|-----------|-----------|-----------|\n",
      "Column Total |    218334 |     35346 |    253680 | \n",
      "             |     0.861 |     0.139 |           | \n",
      "-------------|-----------|-----------|-----------|\n",
      "\n",
      " \n",
      "Statistics for All Table Factors\n",
      "\n",
      "\n",
      "Pearson's Chi-squared test \n",
      "------------------------------------------------------------\n",
      "Chi^2 =  22728.07     d.f. =  4     p =  0 \n",
      "\n",
      "\n",
      " \n",
      "\n",
      " \n",
      "   Cell Contents\n",
      "|-------------------------|\n",
      "|                       N |\n",
      "|           N / Row Total |\n",
      "|           N / Col Total |\n",
      "|         N / Table Total |\n",
      "|-------------------------|\n",
      "\n",
      " \n",
      "Total Observations in Table:  253680 \n",
      "\n",
      " \n",
      "             | Diabetes_binary \n",
      "         Age |         0 |         1 | Row Total | \n",
      "-------------|-----------|-----------|-----------|\n",
      "           1 |      5622 |        78 |      5700 | \n",
      "             |     0.986 |     0.014 |     0.022 | \n",
      "             |     0.026 |     0.002 |           | \n",
      "             |     0.022 |     0.000 |           | \n",
      "-------------|-----------|-----------|-----------|\n",
      "           2 |      7458 |       140 |      7598 | \n",
      "             |     0.982 |     0.018 |     0.030 | \n",
      "             |     0.034 |     0.004 |           | \n",
      "             |     0.029 |     0.001 |           | \n",
      "-------------|-----------|-----------|-----------|\n",
      "           3 |     10809 |       314 |     11123 | \n",
      "             |     0.972 |     0.028 |     0.044 | \n",
      "             |     0.050 |     0.009 |           | \n",
      "             |     0.043 |     0.001 |           | \n",
      "-------------|-----------|-----------|-----------|\n",
      "           4 |     13197 |       626 |     13823 | \n",
      "             |     0.955 |     0.045 |     0.054 | \n",
      "             |     0.060 |     0.018 |           | \n",
      "             |     0.052 |     0.002 |           | \n",
      "-------------|-----------|-----------|-----------|\n",
      "           5 |     15106 |      1051 |     16157 | \n",
      "             |     0.935 |     0.065 |     0.064 | \n",
      "             |     0.069 |     0.030 |           | \n",
      "             |     0.060 |     0.004 |           | \n",
      "-------------|-----------|-----------|-----------|\n",
      "           6 |     18077 |      1742 |     19819 | \n",
      "             |     0.912 |     0.088 |     0.078 | \n",
      "             |     0.083 |     0.049 |           | \n",
      "             |     0.071 |     0.007 |           | \n",
      "-------------|-----------|-----------|-----------|\n",
      "           7 |     23226 |      3088 |     26314 | \n",
      "             |     0.883 |     0.117 |     0.104 | \n",
      "             |     0.106 |     0.087 |           | \n",
      "             |     0.092 |     0.012 |           | \n",
      "-------------|-----------|-----------|-----------|\n",
      "           8 |     26569 |      4263 |     30832 | \n",
      "             |     0.862 |     0.138 |     0.122 | \n",
      "             |     0.122 |     0.121 |           | \n",
      "             |     0.105 |     0.017 |           | \n",
      "-------------|-----------|-----------|-----------|\n",
      "           9 |     27511 |      5733 |     33244 | \n",
      "             |     0.828 |     0.172 |     0.131 | \n",
      "             |     0.126 |     0.162 |           | \n",
      "             |     0.108 |     0.023 |           | \n",
      "-------------|-----------|-----------|-----------|\n",
      "          10 |     25636 |      6558 |     32194 | \n",
      "             |     0.796 |     0.204 |     0.127 | \n",
      "             |     0.117 |     0.186 |           | \n",
      "             |     0.101 |     0.026 |           | \n",
      "-------------|-----------|-----------|-----------|\n",
      "          11 |     18392 |      5141 |     23533 | \n",
      "             |     0.782 |     0.218 |     0.093 | \n",
      "             |     0.084 |     0.145 |           | \n",
      "             |     0.073 |     0.020 |           | \n",
      "-------------|-----------|-----------|-----------|\n",
      "          12 |     12577 |      3403 |     15980 | \n",
      "             |     0.787 |     0.213 |     0.063 | \n",
      "             |     0.058 |     0.096 |           | \n",
      "             |     0.050 |     0.013 |           | \n",
      "-------------|-----------|-----------|-----------|\n",
      "          13 |     14154 |      3209 |     17363 | \n",
      "             |     0.815 |     0.185 |     0.068 | \n",
      "             |     0.065 |     0.091 |           | \n",
      "             |     0.056 |     0.013 |           | \n",
      "-------------|-----------|-----------|-----------|\n",
      "Column Total |    218334 |     35346 |    253680 | \n",
      "             |     0.861 |     0.139 |           | \n",
      "-------------|-----------|-----------|-----------|\n",
      "\n",
      " \n",
      "Statistics for All Table Factors\n",
      "\n",
      "\n",
      "Pearson's Chi-squared test \n",
      "------------------------------------------------------------\n",
      "Chi^2 =  8795.051     d.f. =  12     p =  0 \n",
      "\n",
      "\n",
      " \n",
      "\n",
      " \n",
      "   Cell Contents\n",
      "|-------------------------|\n",
      "|                       N |\n",
      "|           N / Row Total |\n",
      "|           N / Col Total |\n",
      "|         N / Table Total |\n",
      "|-------------------------|\n",
      "\n",
      " \n",
      "Total Observations in Table:  253680 \n",
      "\n",
      " \n",
      "             | Diabetes_binary \n",
      "   Education |         0 |         1 | Row Total | \n",
      "-------------|-----------|-----------|-----------|\n",
      "           1 |       127 |        47 |       174 | \n",
      "             |     0.730 |     0.270 |     0.001 | \n",
      "             |     0.001 |     0.001 |           | \n",
      "             |     0.001 |     0.000 |           | \n",
      "-------------|-----------|-----------|-----------|\n",
      "           2 |      2860 |      1183 |      4043 | \n",
      "             |     0.707 |     0.293 |     0.016 | \n",
      "             |     0.013 |     0.033 |           | \n",
      "             |     0.011 |     0.005 |           | \n",
      "-------------|-----------|-----------|-----------|\n",
      "           3 |      7182 |      2296 |      9478 | \n",
      "             |     0.758 |     0.242 |     0.037 | \n",
      "             |     0.033 |     0.065 |           | \n",
      "             |     0.028 |     0.009 |           | \n",
      "-------------|-----------|-----------|-----------|\n",
      "           4 |     51684 |     11066 |     62750 | \n",
      "             |     0.824 |     0.176 |     0.247 | \n",
      "             |     0.237 |     0.313 |           | \n",
      "             |     0.204 |     0.044 |           | \n",
      "-------------|-----------|-----------|-----------|\n",
      "           5 |     59556 |     10354 |     69910 | \n",
      "             |     0.852 |     0.148 |     0.276 | \n",
      "             |     0.273 |     0.293 |           | \n",
      "             |     0.235 |     0.041 |           | \n",
      "-------------|-----------|-----------|-----------|\n",
      "           6 |     96925 |     10400 |    107325 | \n",
      "             |     0.903 |     0.097 |     0.423 | \n",
      "             |     0.444 |     0.294 |           | \n",
      "             |     0.382 |     0.041 |           | \n",
      "-------------|-----------|-----------|-----------|\n",
      "Column Total |    218334 |     35346 |    253680 | \n",
      "             |     0.861 |     0.139 |           | \n",
      "-------------|-----------|-----------|-----------|\n",
      "\n",
      " \n",
      "Statistics for All Table Factors\n",
      "\n",
      "\n",
      "Pearson's Chi-squared test \n",
      "------------------------------------------------------------\n",
      "Chi^2 =  4027.112     d.f. =  5     p =  0 \n",
      "\n",
      "\n",
      " \n",
      "\n",
      " \n",
      "   Cell Contents\n",
      "|-------------------------|\n",
      "|                       N |\n",
      "|           N / Row Total |\n",
      "|           N / Col Total |\n",
      "|         N / Table Total |\n",
      "|-------------------------|\n",
      "\n",
      " \n",
      "Total Observations in Table:  253680 \n",
      "\n",
      " \n",
      "             | Diabetes_binary \n",
      "      Income |         0 |         1 | Row Total | \n",
      "-------------|-----------|-----------|-----------|\n",
      "           1 |      7428 |      2383 |      9811 | \n",
      "             |     0.757 |     0.243 |     0.039 | \n",
      "             |     0.034 |     0.067 |           | \n",
      "             |     0.029 |     0.009 |           | \n",
      "-------------|-----------|-----------|-----------|\n",
      "           2 |      8697 |      3086 |     11783 | \n",
      "             |     0.738 |     0.262 |     0.046 | \n",
      "             |     0.040 |     0.087 |           | \n",
      "             |     0.034 |     0.012 |           | \n",
      "-------------|-----------|-----------|-----------|\n",
      "           3 |     12426 |      3568 |     15994 | \n",
      "             |     0.777 |     0.223 |     0.063 | \n",
      "             |     0.057 |     0.101 |           | \n",
      "             |     0.049 |     0.014 |           | \n",
      "-------------|-----------|-----------|-----------|\n",
      "           4 |     16081 |      4054 |     20135 | \n",
      "             |     0.799 |     0.201 |     0.079 | \n",
      "             |     0.074 |     0.115 |           | \n",
      "             |     0.063 |     0.016 |           | \n",
      "-------------|-----------|-----------|-----------|\n",
      "           5 |     21379 |      4504 |     25883 | \n",
      "             |     0.826 |     0.174 |     0.102 | \n",
      "             |     0.098 |     0.127 |           | \n",
      "             |     0.084 |     0.018 |           | \n",
      "-------------|-----------|-----------|-----------|\n",
      "           6 |     31179 |      5291 |     36470 | \n",
      "             |     0.855 |     0.145 |     0.144 | \n",
      "             |     0.143 |     0.150 |           | \n",
      "             |     0.123 |     0.021 |           | \n",
      "-------------|-----------|-----------|-----------|\n",
      "           7 |     37954 |      5265 |     43219 | \n",
      "             |     0.878 |     0.122 |     0.170 | \n",
      "             |     0.174 |     0.149 |           | \n",
      "             |     0.150 |     0.021 |           | \n",
      "-------------|-----------|-----------|-----------|\n",
      "           8 |     83190 |      7195 |     90385 | \n",
      "             |     0.920 |     0.080 |     0.356 | \n",
      "             |     0.381 |     0.204 |           | \n",
      "             |     0.328 |     0.028 |           | \n",
      "-------------|-----------|-----------|-----------|\n",
      "Column Total |    218334 |     35346 |    253680 | \n",
      "             |     0.861 |     0.139 |           | \n",
      "-------------|-----------|-----------|-----------|\n",
      "\n",
      " \n",
      "Statistics for All Table Factors\n",
      "\n",
      "\n",
      "Pearson's Chi-squared test \n",
      "------------------------------------------------------------\n",
      "Chi^2 =  7003.715     d.f. =  7     p =  0 \n",
      "\n",
      "\n",
      " \n"
     ]
    }
   ],
   "source": [
    "for (ord_col in ordinal_cols)\n",
    "{\n",
    "    summary_categorical_variables(df, ord_col, response_col, is.binary = F)\n",
    "}"
   ]
  },
  {
   "cell_type": "markdown",
   "id": "734010ec-6018-4a73-be1f-96e1bb9a4955",
   "metadata": {},
   "source": [
    "### 3.4. Correlation analysis"
   ]
  },
  {
   "cell_type": "code",
   "execution_count": 33,
   "id": "3f74d63b-42aa-49b7-8319-6a0ad9594390",
   "metadata": {},
   "outputs": [],
   "source": [
    "# One hot encoder all categorical columns before next step."
   ]
  },
  {
   "cell_type": "code",
   "execution_count": 34,
   "id": "20868ee3-11b5-4d99-a76a-a3ff4863fcd6",
   "metadata": {},
   "outputs": [],
   "source": [
    "get_correlation = function(dataframe, col_1, col_2, numerical_cols, binary_cols, ordinal_cols, response_col)\n",
    "{\n",
    "    if (col_1 %in% ordinal_cols || col_2 %in% ordinal_cols)\n",
    "    {\n",
    "        return (cor.fk(dataframe[,col_1], dataframe[,col_2]))\n",
    "    }\n",
    "    else if (col_1 %in% numerical_cols && col_2 %in% c(binary_cols, response_col) ||\n",
    "             col_1 %in% c(binary_cols, response_col) && col_2 %in% numerical_cols)\n",
    "    {\n",
    "        return (cor.test(dataframe[,col_1], dataframe[,col_2])$estimate)\n",
    "    }\n",
    "    else if (col_1 %in% c(binary_cols, response_col) && col_2 %in% c(binary_cols, response_col))\n",
    "    {\n",
    "        return (cramerV(table(dataframe[ ,c(col_1, col_2)])))\n",
    "    }\n",
    "    else if (col_1 %in% numerical_cols && col_2 %in% numerical_cols)\n",
    "    {\n",
    "        return (cor(dataframe[,col_1], dataframe[,col_2]))\n",
    "    }\n",
    "    else\n",
    "    {\n",
    "        return (0)\n",
    "    }\n",
    "}    "
   ]
  },
  {
   "cell_type": "code",
   "execution_count": 35,
   "id": "4bcc64c3-6267-4d44-918e-26b95d3a05ff",
   "metadata": {},
   "outputs": [],
   "source": [
    "# get_correlation(df, \"BMI\", \"PhysHlth\", numerical_col, binary_col, ordinal_col)"
   ]
  },
  {
   "cell_type": "code",
   "execution_count": 36,
   "id": "319a4b2c-d38a-414b-8866-a7ffb602ca23",
   "metadata": {},
   "outputs": [],
   "source": [
    "all_colnames = colnames(df)"
   ]
  },
  {
   "cell_type": "code",
   "execution_count": 37,
   "id": "f671e5af-94c3-4c33-a010-3b8b887ec275",
   "metadata": {},
   "outputs": [
    {
     "data": {
      "text/html": [
       "<style>\n",
       ".list-inline {list-style: none; margin:0; padding: 0}\n",
       ".list-inline>li {display: inline-block}\n",
       ".list-inline>li:not(:last-child)::after {content: \"\\00b7\"; padding: 0 .5ex}\n",
       "</style>\n",
       "<ol class=list-inline><li>'Index'</li><li>'HighBP'</li><li>'HighChol'</li><li>'CholCheck'</li><li>'BMI'</li><li>'Smoker'</li><li>'Stroke'</li><li>'HeartDiseaseorAttack'</li><li>'PhysActivity'</li><li>'Fruits'</li><li>'Veggies'</li><li>'HvyAlcoholConsump'</li><li>'AnyHealthcare'</li><li>'NoDocbcCost'</li><li>'GenHlth'</li><li>'MentHlth'</li><li>'PhysHlth'</li><li>'DiffWalk'</li><li>'Sex'</li><li>'Age'</li><li>'Education'</li><li>'Income'</li><li>'Diabetes_binary'</li></ol>\n"
      ],
      "text/latex": [
       "\\begin{enumerate*}\n",
       "\\item 'Index'\n",
       "\\item 'HighBP'\n",
       "\\item 'HighChol'\n",
       "\\item 'CholCheck'\n",
       "\\item 'BMI'\n",
       "\\item 'Smoker'\n",
       "\\item 'Stroke'\n",
       "\\item 'HeartDiseaseorAttack'\n",
       "\\item 'PhysActivity'\n",
       "\\item 'Fruits'\n",
       "\\item 'Veggies'\n",
       "\\item 'HvyAlcoholConsump'\n",
       "\\item 'AnyHealthcare'\n",
       "\\item 'NoDocbcCost'\n",
       "\\item 'GenHlth'\n",
       "\\item 'MentHlth'\n",
       "\\item 'PhysHlth'\n",
       "\\item 'DiffWalk'\n",
       "\\item 'Sex'\n",
       "\\item 'Age'\n",
       "\\item 'Education'\n",
       "\\item 'Income'\n",
       "\\item 'Diabetes\\_binary'\n",
       "\\end{enumerate*}\n"
      ],
      "text/markdown": [
       "1. 'Index'\n",
       "2. 'HighBP'\n",
       "3. 'HighChol'\n",
       "4. 'CholCheck'\n",
       "5. 'BMI'\n",
       "6. 'Smoker'\n",
       "7. 'Stroke'\n",
       "8. 'HeartDiseaseorAttack'\n",
       "9. 'PhysActivity'\n",
       "10. 'Fruits'\n",
       "11. 'Veggies'\n",
       "12. 'HvyAlcoholConsump'\n",
       "13. 'AnyHealthcare'\n",
       "14. 'NoDocbcCost'\n",
       "15. 'GenHlth'\n",
       "16. 'MentHlth'\n",
       "17. 'PhysHlth'\n",
       "18. 'DiffWalk'\n",
       "19. 'Sex'\n",
       "20. 'Age'\n",
       "21. 'Education'\n",
       "22. 'Income'\n",
       "23. 'Diabetes_binary'\n",
       "\n",
       "\n"
      ],
      "text/plain": [
       " [1] \"Index\"                \"HighBP\"               \"HighChol\"            \n",
       " [4] \"CholCheck\"            \"BMI\"                  \"Smoker\"              \n",
       " [7] \"Stroke\"               \"HeartDiseaseorAttack\" \"PhysActivity\"        \n",
       "[10] \"Fruits\"               \"Veggies\"              \"HvyAlcoholConsump\"   \n",
       "[13] \"AnyHealthcare\"        \"NoDocbcCost\"          \"GenHlth\"             \n",
       "[16] \"MentHlth\"             \"PhysHlth\"             \"DiffWalk\"            \n",
       "[19] \"Sex\"                  \"Age\"                  \"Education\"           \n",
       "[22] \"Income\"               \"Diabetes_binary\"     "
      ]
     },
     "metadata": {},
     "output_type": "display_data"
    }
   ],
   "source": [
    "all_colnames"
   ]
  },
  {
   "cell_type": "code",
   "execution_count": 38,
   "id": "34531c04-7327-41c2-bb56-75f09edceda7",
   "metadata": {},
   "outputs": [],
   "source": [
    "correlation_matrix = matrix(0, nrow = length(all_colnames), ncol = length(all_colnames), dimnames = list(all_colnames, all_colnames))"
   ]
  },
  {
   "cell_type": "code",
   "execution_count": 39,
   "id": "022dc374-7916-48b9-84bb-489124f7a08e",
   "metadata": {},
   "outputs": [],
   "source": [
    "for (row_index in 1:nrow(correlation_matrix))\n",
    "{\n",
    "    for (col_index in row_index:ncol(correlation_matrix))\n",
    "    {\n",
    "        if (row_index == col_index)\n",
    "        {\n",
    "            correlation_matrix[row_index, col_index] = 1\n",
    "        }\n",
    "        else\n",
    "        {\n",
    "            correlation_matrix[row_index, col_index] = get_correlation(df, all_colnames[row_index],\n",
    "                                                                       all_colnames[col_index], numerical_cols, \n",
    "                                                                       binary_cols, ordinal_cols, response_col)\n",
    "        }\n",
    "    }    \n",
    "}"
   ]
  },
  {
   "cell_type": "code",
   "execution_count": 40,
   "id": "a56bab43-735d-4c32-9bd2-ba038e9997c3",
   "metadata": {
    "scrolled": true
   },
   "outputs": [
    {
     "data": {
      "text/html": [
       "<table class=\"dataframe\">\n",
       "<caption>A matrix: 23 × 23 of type dbl</caption>\n",
       "<thead>\n",
       "\t<tr><th></th><th scope=col>Index</th><th scope=col>HighBP</th><th scope=col>HighChol</th><th scope=col>CholCheck</th><th scope=col>BMI</th><th scope=col>Smoker</th><th scope=col>Stroke</th><th scope=col>HeartDiseaseorAttack</th><th scope=col>PhysActivity</th><th scope=col>Fruits</th><th scope=col>⋯</th><th scope=col>NoDocbcCost</th><th scope=col>GenHlth</th><th scope=col>MentHlth</th><th scope=col>PhysHlth</th><th scope=col>DiffWalk</th><th scope=col>Sex</th><th scope=col>Age</th><th scope=col>Education</th><th scope=col>Income</th><th scope=col>Diabetes_binary</th></tr>\n",
       "</thead>\n",
       "<tbody>\n",
       "\t<tr><th scope=row>Index</th><td>1</td><td>0</td><td>0.0000</td><td>0.00000</td><td>0.00000000</td><td>0.00000000</td><td>0.00000000</td><td>0.00000000</td><td> 0.0000000</td><td> 0.00000000</td><td>⋯</td><td>0.00000000</td><td> 0.01120463</td><td> 0.000000000</td><td> 0.000000000</td><td>0.0000000</td><td> 0.000000000</td><td>-0.011114543</td><td>-0.022069633</td><td>-0.02338277</td><td> 0.00000000</td></tr>\n",
       "\t<tr><th scope=row>HighBP</th><td>0</td><td>1</td><td>0.2982</td><td>0.09851</td><td>0.21374812</td><td>0.09699000</td><td>0.12960000</td><td>0.20940000</td><td> 0.1253000</td><td> 0.04055000</td><td>⋯</td><td>0.01736000</td><td> 0.27684409</td><td> 0.056455917</td><td> 0.161211571</td><td>0.2236000</td><td> 0.052210000</td><td> 0.293883910</td><td>-0.132261074</td><td>-0.15907727</td><td> 0.26310000</td></tr>\n",
       "\t<tr><th scope=row>HighChol</th><td>0</td><td>0</td><td>1.0000</td><td>0.08564</td><td>0.10672208</td><td>0.09130000</td><td>0.09262000</td><td>0.18080000</td><td> 0.0780500</td><td> 0.04086000</td><td>⋯</td><td>0.01331000</td><td> 0.19044111</td><td> 0.062069154</td><td> 0.121750528</td><td>0.1447000</td><td> 0.031210000</td><td> 0.227197645</td><td>-0.064141477</td><td>-0.07805095</td><td> 0.20030000</td></tr>\n",
       "\t<tr><th scope=row>CholCheck</th><td>0</td><td>0</td><td>0.0000</td><td>1.00000</td><td>0.03449509</td><td>0.00992900</td><td>0.02416000</td><td>0.04421000</td><td> 0.0041900</td><td> 0.02385000</td><td>⋯</td><td>0.05826000</td><td> 0.04230765</td><td>-0.008365598</td><td> 0.031774808</td><td>0.0405900</td><td> 0.022120000</td><td> 0.079782773</td><td> 0.003605023</td><td> 0.01355233</td><td> 0.06476000</td></tr>\n",
       "\t<tr><th scope=row>BMI</th><td>0</td><td>0</td><td>0.0000</td><td>0.00000</td><td>1.00000000</td><td>0.01380447</td><td>0.02015266</td><td>0.05290426</td><td>-0.1472936</td><td>-0.08751812</td><td>⋯</td><td>0.05820629</td><td> 0.20044778</td><td> 0.085310159</td><td> 0.121141107</td><td>0.1970778</td><td> 0.042950303</td><td>-0.018682591</td><td>-0.096272782</td><td>-0.06913474</td><td> 0.21684306</td></tr>\n",
       "\t<tr><th scope=row>Smoker</th><td>0</td><td>0</td><td>0.0000</td><td>0.00000</td><td>0.00000000</td><td>1.00000000</td><td>0.06117000</td><td>0.11440000</td><td> 0.0874000</td><td> 0.07767000</td><td>⋯</td><td>0.04895000</td><td> 0.14513867</td><td> 0.092196474</td><td> 0.116459714</td><td>0.1225000</td><td> 0.093660000</td><td> 0.101764840</td><td>-0.161695760</td><td>-0.11779172</td><td> 0.06079000</td></tr>\n",
       "\t<tr><th scope=row>Stroke</th><td>0</td><td>0</td><td>0.0000</td><td>0.00000</td><td>0.00000000</td><td>0.00000000</td><td>1.00000000</td><td>0.20300000</td><td> 0.0691500</td><td> 0.01339000</td><td>⋯</td><td>0.03480000</td><td> 0.14940699</td><td> 0.070171812</td><td> 0.148944169</td><td>0.1766000</td><td> 0.002978000</td><td> 0.110086876</td><td>-0.067979132</td><td>-0.10985834</td><td> 0.10580000</td></tr>\n",
       "\t<tr><th scope=row>HeartDiseaseorAttack</th><td>0</td><td>0</td><td>0.0000</td><td>0.00000</td><td>0.00000000</td><td>0.00000000</td><td>0.00000000</td><td>1.00000000</td><td> 0.0873000</td><td> 0.01979000</td><td>⋯</td><td>0.03100000</td><td> 0.22111285</td><td> 0.064621292</td><td> 0.181697536</td><td>0.2127000</td><td> 0.086100000</td><td> 0.194173045</td><td>-0.089351076</td><td>-0.12562478</td><td> 0.17730000</td></tr>\n",
       "\t<tr><th scope=row>PhysActivity</th><td>0</td><td>0</td><td>0.0000</td><td>0.00000</td><td>0.00000000</td><td>0.00000000</td><td>0.00000000</td><td>0.00000000</td><td> 1.0000000</td><td> 0.14280000</td><td>⋯</td><td>0.06164000</td><td>-0.23388958</td><td>-0.125587088</td><td>-0.219229522</td><td>0.2532000</td><td> 0.032480000</td><td>-0.075105057</td><td> 0.186553009</td><td> 0.17937530</td><td> 0.11810000</td></tr>\n",
       "\t<tr><th scope=row>Fruits</th><td>0</td><td>0</td><td>0.0000</td><td>0.00000</td><td>0.00000000</td><td>0.00000000</td><td>0.00000000</td><td>0.00000000</td><td> 0.0000000</td><td> 1.00000000</td><td>⋯</td><td>0.04424000</td><td>-0.09627343</td><td>-0.068217375</td><td>-0.044633325</td><td>0.0483500</td><td> 0.091170000</td><td> 0.057094063</td><td> 0.107068517</td><td> 0.06784869</td><td> 0.04078000</td></tr>\n",
       "\t<tr><th scope=row>Veggies</th><td>0</td><td>0</td><td>0.0000</td><td>0.00000</td><td>0.00000000</td><td>0.00000000</td><td>0.00000000</td><td>0.00000000</td><td> 0.0000000</td><td> 0.00000000</td><td>⋯</td><td>0.03223000</td><td>-0.11185121</td><td>-0.058883553</td><td>-0.064290327</td><td>0.0805100</td><td> 0.064770000</td><td>-0.009572817</td><td> 0.144059557</td><td> 0.13262035</td><td> 0.05658000</td></tr>\n",
       "\t<tr><th scope=row>HvyAlcoholConsump</th><td>0</td><td>0</td><td>0.0000</td><td>0.00000</td><td>0.00000000</td><td>0.00000000</td><td>0.00000000</td><td>0.00000000</td><td> 0.0000000</td><td> 0.00000000</td><td>⋯</td><td>0.00468400</td><td>-0.03215364</td><td> 0.024715803</td><td>-0.026415474</td><td>0.0376700</td><td> 0.005740000</td><td>-0.029965414</td><td> 0.019798809</td><td> 0.04913834</td><td> 0.05706000</td></tr>\n",
       "\t<tr><th scope=row>AnyHealthcare</th><td>0</td><td>0</td><td>0.0000</td><td>0.00000</td><td>0.00000000</td><td>0.00000000</td><td>0.00000000</td><td>0.00000000</td><td> 0.0000000</td><td> 0.00000000</td><td>⋯</td><td>0.23250000</td><td>-0.03799168</td><td>-0.052706597</td><td>-0.008276167</td><td>0.0070740</td><td> 0.019410000</td><td> 0.119625441</td><td> 0.106998261</td><td> 0.13766158</td><td> 0.01626000</td></tr>\n",
       "\t<tr><th scope=row>NoDocbcCost</th><td>0</td><td>0</td><td>0.0000</td><td>0.00000</td><td>0.00000000</td><td>0.00000000</td><td>0.00000000</td><td>0.00000000</td><td> 0.0000000</td><td> 0.00000000</td><td>⋯</td><td>1.00000000</td><td> 0.14381687</td><td> 0.192106853</td><td> 0.148997564</td><td>0.1184000</td><td> 0.044930000</td><td>-0.107532972</td><td>-0.091225522</td><td>-0.17468003</td><td> 0.03143000</td></tr>\n",
       "\t<tr><th scope=row>GenHlth</th><td>0</td><td>0</td><td>0.0000</td><td>0.00000</td><td>0.00000000</td><td>0.00000000</td><td>0.00000000</td><td>0.00000000</td><td> 0.0000000</td><td> 0.00000000</td><td>⋯</td><td>0.00000000</td><td> 1.00000000</td><td> 0.204673302</td><td> 0.390358148</td><td>0.3859114</td><td>-0.003228014</td><td> 0.114303133</td><td>-0.236224080</td><td>-0.29196523</td><td> 0.26260195</td></tr>\n",
       "\t<tr><th scope=row>MentHlth</th><td>0</td><td>0</td><td>0.0000</td><td>0.00000</td><td>0.00000000</td><td>0.00000000</td><td>0.00000000</td><td>0.00000000</td><td> 0.0000000</td><td> 0.00000000</td><td>⋯</td><td>0.00000000</td><td> 0.00000000</td><td> 1.000000000</td><td> 0.353618868</td><td>0.2336881</td><td>-0.080704863</td><td>-0.129731426</td><td>-0.047084111</td><td>-0.12043742</td><td> 0.06931508</td></tr>\n",
       "\t<tr><th scope=row>PhysHlth</th><td>0</td><td>0</td><td>0.0000</td><td>0.00000</td><td>0.00000000</td><td>0.00000000</td><td>0.00000000</td><td>0.00000000</td><td> 0.0000000</td><td> 0.00000000</td><td>⋯</td><td>0.00000000</td><td> 0.00000000</td><td> 0.000000000</td><td> 1.000000000</td><td>0.4784166</td><td>-0.043136502</td><td> 0.040949992</td><td>-0.098650266</td><td>-0.17883737</td><td> 0.17133670</td></tr>\n",
       "\t<tr><th scope=row>DiffWalk</th><td>0</td><td>0</td><td>0.0000</td><td>0.00000</td><td>0.00000000</td><td>0.00000000</td><td>0.00000000</td><td>0.00000000</td><td> 0.0000000</td><td> 0.00000000</td><td>⋯</td><td>0.00000000</td><td> 0.00000000</td><td> 0.000000000</td><td> 0.000000000</td><td>1.0000000</td><td> 0.070300000</td><td> 0.171554443</td><td>-0.174726539</td><td>-0.26966510</td><td> 0.21830000</td></tr>\n",
       "\t<tr><th scope=row>Sex</th><td>0</td><td>0</td><td>0.0000</td><td>0.00000</td><td>0.00000000</td><td>0.00000000</td><td>0.00000000</td><td>0.00000000</td><td> 0.0000000</td><td> 0.00000000</td><td>⋯</td><td>0.00000000</td><td> 0.00000000</td><td> 0.000000000</td><td> 0.000000000</td><td>0.0000000</td><td> 1.000000000</td><td>-0.020657202</td><td> 0.022554582</td><td> 0.11277129</td><td> 0.03143000</td></tr>\n",
       "\t<tr><th scope=row>Age</th><td>0</td><td>0</td><td>0.0000</td><td>0.00000</td><td>0.00000000</td><td>0.00000000</td><td>0.00000000</td><td>0.00000000</td><td> 0.0000000</td><td> 0.00000000</td><td>⋯</td><td>0.00000000</td><td> 0.00000000</td><td> 0.000000000</td><td> 0.000000000</td><td>0.0000000</td><td> 0.000000000</td><td> 1.000000000</td><td>-0.080601809</td><td>-0.13460542</td><td> 0.15156257</td></tr>\n",
       "\t<tr><th scope=row>Education</th><td>0</td><td>0</td><td>0.0000</td><td>0.00000</td><td>0.00000000</td><td>0.00000000</td><td>0.00000000</td><td>0.00000000</td><td> 0.0000000</td><td> 0.00000000</td><td>⋯</td><td>0.00000000</td><td> 0.00000000</td><td> 0.000000000</td><td> 0.000000000</td><td>0.0000000</td><td> 0.000000000</td><td> 0.000000000</td><td> 1.000000000</td><td> 0.38077195</td><td>-0.11182832</td></tr>\n",
       "\t<tr><th scope=row>Income</th><td>0</td><td>0</td><td>0.0000</td><td>0.00000</td><td>0.00000000</td><td>0.00000000</td><td>0.00000000</td><td>0.00000000</td><td> 0.0000000</td><td> 0.00000000</td><td>⋯</td><td>0.00000000</td><td> 0.00000000</td><td> 0.000000000</td><td> 0.000000000</td><td>0.0000000</td><td> 0.000000000</td><td> 0.000000000</td><td> 0.000000000</td><td> 1.00000000</td><td>-0.14499818</td></tr>\n",
       "\t<tr><th scope=row>Diabetes_binary</th><td>0</td><td>0</td><td>0.0000</td><td>0.00000</td><td>0.00000000</td><td>0.00000000</td><td>0.00000000</td><td>0.00000000</td><td> 0.0000000</td><td> 0.00000000</td><td>⋯</td><td>0.00000000</td><td> 0.00000000</td><td> 0.000000000</td><td> 0.000000000</td><td>0.0000000</td><td> 0.000000000</td><td> 0.000000000</td><td> 0.000000000</td><td> 0.00000000</td><td> 1.00000000</td></tr>\n",
       "</tbody>\n",
       "</table>\n"
      ],
      "text/latex": [
       "A matrix: 23 × 23 of type dbl\n",
       "\\begin{tabular}{r|lllllllllllllllllllll}\n",
       "  & Index & HighBP & HighChol & CholCheck & BMI & Smoker & Stroke & HeartDiseaseorAttack & PhysActivity & Fruits & ⋯ & NoDocbcCost & GenHlth & MentHlth & PhysHlth & DiffWalk & Sex & Age & Education & Income & Diabetes\\_binary\\\\\n",
       "\\hline\n",
       "\tIndex & 1 & 0 & 0.0000 & 0.00000 & 0.00000000 & 0.00000000 & 0.00000000 & 0.00000000 &  0.0000000 &  0.00000000 & ⋯ & 0.00000000 &  0.01120463 &  0.000000000 &  0.000000000 & 0.0000000 &  0.000000000 & -0.011114543 & -0.022069633 & -0.02338277 &  0.00000000\\\\\n",
       "\tHighBP & 0 & 1 & 0.2982 & 0.09851 & 0.21374812 & 0.09699000 & 0.12960000 & 0.20940000 &  0.1253000 &  0.04055000 & ⋯ & 0.01736000 &  0.27684409 &  0.056455917 &  0.161211571 & 0.2236000 &  0.052210000 &  0.293883910 & -0.132261074 & -0.15907727 &  0.26310000\\\\\n",
       "\tHighChol & 0 & 0 & 1.0000 & 0.08564 & 0.10672208 & 0.09130000 & 0.09262000 & 0.18080000 &  0.0780500 &  0.04086000 & ⋯ & 0.01331000 &  0.19044111 &  0.062069154 &  0.121750528 & 0.1447000 &  0.031210000 &  0.227197645 & -0.064141477 & -0.07805095 &  0.20030000\\\\\n",
       "\tCholCheck & 0 & 0 & 0.0000 & 1.00000 & 0.03449509 & 0.00992900 & 0.02416000 & 0.04421000 &  0.0041900 &  0.02385000 & ⋯ & 0.05826000 &  0.04230765 & -0.008365598 &  0.031774808 & 0.0405900 &  0.022120000 &  0.079782773 &  0.003605023 &  0.01355233 &  0.06476000\\\\\n",
       "\tBMI & 0 & 0 & 0.0000 & 0.00000 & 1.00000000 & 0.01380447 & 0.02015266 & 0.05290426 & -0.1472936 & -0.08751812 & ⋯ & 0.05820629 &  0.20044778 &  0.085310159 &  0.121141107 & 0.1970778 &  0.042950303 & -0.018682591 & -0.096272782 & -0.06913474 &  0.21684306\\\\\n",
       "\tSmoker & 0 & 0 & 0.0000 & 0.00000 & 0.00000000 & 1.00000000 & 0.06117000 & 0.11440000 &  0.0874000 &  0.07767000 & ⋯ & 0.04895000 &  0.14513867 &  0.092196474 &  0.116459714 & 0.1225000 &  0.093660000 &  0.101764840 & -0.161695760 & -0.11779172 &  0.06079000\\\\\n",
       "\tStroke & 0 & 0 & 0.0000 & 0.00000 & 0.00000000 & 0.00000000 & 1.00000000 & 0.20300000 &  0.0691500 &  0.01339000 & ⋯ & 0.03480000 &  0.14940699 &  0.070171812 &  0.148944169 & 0.1766000 &  0.002978000 &  0.110086876 & -0.067979132 & -0.10985834 &  0.10580000\\\\\n",
       "\tHeartDiseaseorAttack & 0 & 0 & 0.0000 & 0.00000 & 0.00000000 & 0.00000000 & 0.00000000 & 1.00000000 &  0.0873000 &  0.01979000 & ⋯ & 0.03100000 &  0.22111285 &  0.064621292 &  0.181697536 & 0.2127000 &  0.086100000 &  0.194173045 & -0.089351076 & -0.12562478 &  0.17730000\\\\\n",
       "\tPhysActivity & 0 & 0 & 0.0000 & 0.00000 & 0.00000000 & 0.00000000 & 0.00000000 & 0.00000000 &  1.0000000 &  0.14280000 & ⋯ & 0.06164000 & -0.23388958 & -0.125587088 & -0.219229522 & 0.2532000 &  0.032480000 & -0.075105057 &  0.186553009 &  0.17937530 &  0.11810000\\\\\n",
       "\tFruits & 0 & 0 & 0.0000 & 0.00000 & 0.00000000 & 0.00000000 & 0.00000000 & 0.00000000 &  0.0000000 &  1.00000000 & ⋯ & 0.04424000 & -0.09627343 & -0.068217375 & -0.044633325 & 0.0483500 &  0.091170000 &  0.057094063 &  0.107068517 &  0.06784869 &  0.04078000\\\\\n",
       "\tVeggies & 0 & 0 & 0.0000 & 0.00000 & 0.00000000 & 0.00000000 & 0.00000000 & 0.00000000 &  0.0000000 &  0.00000000 & ⋯ & 0.03223000 & -0.11185121 & -0.058883553 & -0.064290327 & 0.0805100 &  0.064770000 & -0.009572817 &  0.144059557 &  0.13262035 &  0.05658000\\\\\n",
       "\tHvyAlcoholConsump & 0 & 0 & 0.0000 & 0.00000 & 0.00000000 & 0.00000000 & 0.00000000 & 0.00000000 &  0.0000000 &  0.00000000 & ⋯ & 0.00468400 & -0.03215364 &  0.024715803 & -0.026415474 & 0.0376700 &  0.005740000 & -0.029965414 &  0.019798809 &  0.04913834 &  0.05706000\\\\\n",
       "\tAnyHealthcare & 0 & 0 & 0.0000 & 0.00000 & 0.00000000 & 0.00000000 & 0.00000000 & 0.00000000 &  0.0000000 &  0.00000000 & ⋯ & 0.23250000 & -0.03799168 & -0.052706597 & -0.008276167 & 0.0070740 &  0.019410000 &  0.119625441 &  0.106998261 &  0.13766158 &  0.01626000\\\\\n",
       "\tNoDocbcCost & 0 & 0 & 0.0000 & 0.00000 & 0.00000000 & 0.00000000 & 0.00000000 & 0.00000000 &  0.0000000 &  0.00000000 & ⋯ & 1.00000000 &  0.14381687 &  0.192106853 &  0.148997564 & 0.1184000 &  0.044930000 & -0.107532972 & -0.091225522 & -0.17468003 &  0.03143000\\\\\n",
       "\tGenHlth & 0 & 0 & 0.0000 & 0.00000 & 0.00000000 & 0.00000000 & 0.00000000 & 0.00000000 &  0.0000000 &  0.00000000 & ⋯ & 0.00000000 &  1.00000000 &  0.204673302 &  0.390358148 & 0.3859114 & -0.003228014 &  0.114303133 & -0.236224080 & -0.29196523 &  0.26260195\\\\\n",
       "\tMentHlth & 0 & 0 & 0.0000 & 0.00000 & 0.00000000 & 0.00000000 & 0.00000000 & 0.00000000 &  0.0000000 &  0.00000000 & ⋯ & 0.00000000 &  0.00000000 &  1.000000000 &  0.353618868 & 0.2336881 & -0.080704863 & -0.129731426 & -0.047084111 & -0.12043742 &  0.06931508\\\\\n",
       "\tPhysHlth & 0 & 0 & 0.0000 & 0.00000 & 0.00000000 & 0.00000000 & 0.00000000 & 0.00000000 &  0.0000000 &  0.00000000 & ⋯ & 0.00000000 &  0.00000000 &  0.000000000 &  1.000000000 & 0.4784166 & -0.043136502 &  0.040949992 & -0.098650266 & -0.17883737 &  0.17133670\\\\\n",
       "\tDiffWalk & 0 & 0 & 0.0000 & 0.00000 & 0.00000000 & 0.00000000 & 0.00000000 & 0.00000000 &  0.0000000 &  0.00000000 & ⋯ & 0.00000000 &  0.00000000 &  0.000000000 &  0.000000000 & 1.0000000 &  0.070300000 &  0.171554443 & -0.174726539 & -0.26966510 &  0.21830000\\\\\n",
       "\tSex & 0 & 0 & 0.0000 & 0.00000 & 0.00000000 & 0.00000000 & 0.00000000 & 0.00000000 &  0.0000000 &  0.00000000 & ⋯ & 0.00000000 &  0.00000000 &  0.000000000 &  0.000000000 & 0.0000000 &  1.000000000 & -0.020657202 &  0.022554582 &  0.11277129 &  0.03143000\\\\\n",
       "\tAge & 0 & 0 & 0.0000 & 0.00000 & 0.00000000 & 0.00000000 & 0.00000000 & 0.00000000 &  0.0000000 &  0.00000000 & ⋯ & 0.00000000 &  0.00000000 &  0.000000000 &  0.000000000 & 0.0000000 &  0.000000000 &  1.000000000 & -0.080601809 & -0.13460542 &  0.15156257\\\\\n",
       "\tEducation & 0 & 0 & 0.0000 & 0.00000 & 0.00000000 & 0.00000000 & 0.00000000 & 0.00000000 &  0.0000000 &  0.00000000 & ⋯ & 0.00000000 &  0.00000000 &  0.000000000 &  0.000000000 & 0.0000000 &  0.000000000 &  0.000000000 &  1.000000000 &  0.38077195 & -0.11182832\\\\\n",
       "\tIncome & 0 & 0 & 0.0000 & 0.00000 & 0.00000000 & 0.00000000 & 0.00000000 & 0.00000000 &  0.0000000 &  0.00000000 & ⋯ & 0.00000000 &  0.00000000 &  0.000000000 &  0.000000000 & 0.0000000 &  0.000000000 &  0.000000000 &  0.000000000 &  1.00000000 & -0.14499818\\\\\n",
       "\tDiabetes\\_binary & 0 & 0 & 0.0000 & 0.00000 & 0.00000000 & 0.00000000 & 0.00000000 & 0.00000000 &  0.0000000 &  0.00000000 & ⋯ & 0.00000000 &  0.00000000 &  0.000000000 &  0.000000000 & 0.0000000 &  0.000000000 &  0.000000000 &  0.000000000 &  0.00000000 &  1.00000000\\\\\n",
       "\\end{tabular}\n"
      ],
      "text/markdown": [
       "\n",
       "A matrix: 23 × 23 of type dbl\n",
       "\n",
       "| <!--/--> | Index | HighBP | HighChol | CholCheck | BMI | Smoker | Stroke | HeartDiseaseorAttack | PhysActivity | Fruits | ⋯ | NoDocbcCost | GenHlth | MentHlth | PhysHlth | DiffWalk | Sex | Age | Education | Income | Diabetes_binary |\n",
       "|---|---|---|---|---|---|---|---|---|---|---|---|---|---|---|---|---|---|---|---|---|---|\n",
       "| Index | 1 | 0 | 0.0000 | 0.00000 | 0.00000000 | 0.00000000 | 0.00000000 | 0.00000000 |  0.0000000 |  0.00000000 | ⋯ | 0.00000000 |  0.01120463 |  0.000000000 |  0.000000000 | 0.0000000 |  0.000000000 | -0.011114543 | -0.022069633 | -0.02338277 |  0.00000000 |\n",
       "| HighBP | 0 | 1 | 0.2982 | 0.09851 | 0.21374812 | 0.09699000 | 0.12960000 | 0.20940000 |  0.1253000 |  0.04055000 | ⋯ | 0.01736000 |  0.27684409 |  0.056455917 |  0.161211571 | 0.2236000 |  0.052210000 |  0.293883910 | -0.132261074 | -0.15907727 |  0.26310000 |\n",
       "| HighChol | 0 | 0 | 1.0000 | 0.08564 | 0.10672208 | 0.09130000 | 0.09262000 | 0.18080000 |  0.0780500 |  0.04086000 | ⋯ | 0.01331000 |  0.19044111 |  0.062069154 |  0.121750528 | 0.1447000 |  0.031210000 |  0.227197645 | -0.064141477 | -0.07805095 |  0.20030000 |\n",
       "| CholCheck | 0 | 0 | 0.0000 | 1.00000 | 0.03449509 | 0.00992900 | 0.02416000 | 0.04421000 |  0.0041900 |  0.02385000 | ⋯ | 0.05826000 |  0.04230765 | -0.008365598 |  0.031774808 | 0.0405900 |  0.022120000 |  0.079782773 |  0.003605023 |  0.01355233 |  0.06476000 |\n",
       "| BMI | 0 | 0 | 0.0000 | 0.00000 | 1.00000000 | 0.01380447 | 0.02015266 | 0.05290426 | -0.1472936 | -0.08751812 | ⋯ | 0.05820629 |  0.20044778 |  0.085310159 |  0.121141107 | 0.1970778 |  0.042950303 | -0.018682591 | -0.096272782 | -0.06913474 |  0.21684306 |\n",
       "| Smoker | 0 | 0 | 0.0000 | 0.00000 | 0.00000000 | 1.00000000 | 0.06117000 | 0.11440000 |  0.0874000 |  0.07767000 | ⋯ | 0.04895000 |  0.14513867 |  0.092196474 |  0.116459714 | 0.1225000 |  0.093660000 |  0.101764840 | -0.161695760 | -0.11779172 |  0.06079000 |\n",
       "| Stroke | 0 | 0 | 0.0000 | 0.00000 | 0.00000000 | 0.00000000 | 1.00000000 | 0.20300000 |  0.0691500 |  0.01339000 | ⋯ | 0.03480000 |  0.14940699 |  0.070171812 |  0.148944169 | 0.1766000 |  0.002978000 |  0.110086876 | -0.067979132 | -0.10985834 |  0.10580000 |\n",
       "| HeartDiseaseorAttack | 0 | 0 | 0.0000 | 0.00000 | 0.00000000 | 0.00000000 | 0.00000000 | 1.00000000 |  0.0873000 |  0.01979000 | ⋯ | 0.03100000 |  0.22111285 |  0.064621292 |  0.181697536 | 0.2127000 |  0.086100000 |  0.194173045 | -0.089351076 | -0.12562478 |  0.17730000 |\n",
       "| PhysActivity | 0 | 0 | 0.0000 | 0.00000 | 0.00000000 | 0.00000000 | 0.00000000 | 0.00000000 |  1.0000000 |  0.14280000 | ⋯ | 0.06164000 | -0.23388958 | -0.125587088 | -0.219229522 | 0.2532000 |  0.032480000 | -0.075105057 |  0.186553009 |  0.17937530 |  0.11810000 |\n",
       "| Fruits | 0 | 0 | 0.0000 | 0.00000 | 0.00000000 | 0.00000000 | 0.00000000 | 0.00000000 |  0.0000000 |  1.00000000 | ⋯ | 0.04424000 | -0.09627343 | -0.068217375 | -0.044633325 | 0.0483500 |  0.091170000 |  0.057094063 |  0.107068517 |  0.06784869 |  0.04078000 |\n",
       "| Veggies | 0 | 0 | 0.0000 | 0.00000 | 0.00000000 | 0.00000000 | 0.00000000 | 0.00000000 |  0.0000000 |  0.00000000 | ⋯ | 0.03223000 | -0.11185121 | -0.058883553 | -0.064290327 | 0.0805100 |  0.064770000 | -0.009572817 |  0.144059557 |  0.13262035 |  0.05658000 |\n",
       "| HvyAlcoholConsump | 0 | 0 | 0.0000 | 0.00000 | 0.00000000 | 0.00000000 | 0.00000000 | 0.00000000 |  0.0000000 |  0.00000000 | ⋯ | 0.00468400 | -0.03215364 |  0.024715803 | -0.026415474 | 0.0376700 |  0.005740000 | -0.029965414 |  0.019798809 |  0.04913834 |  0.05706000 |\n",
       "| AnyHealthcare | 0 | 0 | 0.0000 | 0.00000 | 0.00000000 | 0.00000000 | 0.00000000 | 0.00000000 |  0.0000000 |  0.00000000 | ⋯ | 0.23250000 | -0.03799168 | -0.052706597 | -0.008276167 | 0.0070740 |  0.019410000 |  0.119625441 |  0.106998261 |  0.13766158 |  0.01626000 |\n",
       "| NoDocbcCost | 0 | 0 | 0.0000 | 0.00000 | 0.00000000 | 0.00000000 | 0.00000000 | 0.00000000 |  0.0000000 |  0.00000000 | ⋯ | 1.00000000 |  0.14381687 |  0.192106853 |  0.148997564 | 0.1184000 |  0.044930000 | -0.107532972 | -0.091225522 | -0.17468003 |  0.03143000 |\n",
       "| GenHlth | 0 | 0 | 0.0000 | 0.00000 | 0.00000000 | 0.00000000 | 0.00000000 | 0.00000000 |  0.0000000 |  0.00000000 | ⋯ | 0.00000000 |  1.00000000 |  0.204673302 |  0.390358148 | 0.3859114 | -0.003228014 |  0.114303133 | -0.236224080 | -0.29196523 |  0.26260195 |\n",
       "| MentHlth | 0 | 0 | 0.0000 | 0.00000 | 0.00000000 | 0.00000000 | 0.00000000 | 0.00000000 |  0.0000000 |  0.00000000 | ⋯ | 0.00000000 |  0.00000000 |  1.000000000 |  0.353618868 | 0.2336881 | -0.080704863 | -0.129731426 | -0.047084111 | -0.12043742 |  0.06931508 |\n",
       "| PhysHlth | 0 | 0 | 0.0000 | 0.00000 | 0.00000000 | 0.00000000 | 0.00000000 | 0.00000000 |  0.0000000 |  0.00000000 | ⋯ | 0.00000000 |  0.00000000 |  0.000000000 |  1.000000000 | 0.4784166 | -0.043136502 |  0.040949992 | -0.098650266 | -0.17883737 |  0.17133670 |\n",
       "| DiffWalk | 0 | 0 | 0.0000 | 0.00000 | 0.00000000 | 0.00000000 | 0.00000000 | 0.00000000 |  0.0000000 |  0.00000000 | ⋯ | 0.00000000 |  0.00000000 |  0.000000000 |  0.000000000 | 1.0000000 |  0.070300000 |  0.171554443 | -0.174726539 | -0.26966510 |  0.21830000 |\n",
       "| Sex | 0 | 0 | 0.0000 | 0.00000 | 0.00000000 | 0.00000000 | 0.00000000 | 0.00000000 |  0.0000000 |  0.00000000 | ⋯ | 0.00000000 |  0.00000000 |  0.000000000 |  0.000000000 | 0.0000000 |  1.000000000 | -0.020657202 |  0.022554582 |  0.11277129 |  0.03143000 |\n",
       "| Age | 0 | 0 | 0.0000 | 0.00000 | 0.00000000 | 0.00000000 | 0.00000000 | 0.00000000 |  0.0000000 |  0.00000000 | ⋯ | 0.00000000 |  0.00000000 |  0.000000000 |  0.000000000 | 0.0000000 |  0.000000000 |  1.000000000 | -0.080601809 | -0.13460542 |  0.15156257 |\n",
       "| Education | 0 | 0 | 0.0000 | 0.00000 | 0.00000000 | 0.00000000 | 0.00000000 | 0.00000000 |  0.0000000 |  0.00000000 | ⋯ | 0.00000000 |  0.00000000 |  0.000000000 |  0.000000000 | 0.0000000 |  0.000000000 |  0.000000000 |  1.000000000 |  0.38077195 | -0.11182832 |\n",
       "| Income | 0 | 0 | 0.0000 | 0.00000 | 0.00000000 | 0.00000000 | 0.00000000 | 0.00000000 |  0.0000000 |  0.00000000 | ⋯ | 0.00000000 |  0.00000000 |  0.000000000 |  0.000000000 | 0.0000000 |  0.000000000 |  0.000000000 |  0.000000000 |  1.00000000 | -0.14499818 |\n",
       "| Diabetes_binary | 0 | 0 | 0.0000 | 0.00000 | 0.00000000 | 0.00000000 | 0.00000000 | 0.00000000 |  0.0000000 |  0.00000000 | ⋯ | 0.00000000 |  0.00000000 |  0.000000000 |  0.000000000 | 0.0000000 |  0.000000000 |  0.000000000 |  0.000000000 |  0.00000000 |  1.00000000 |\n",
       "\n"
      ],
      "text/plain": [
       "                     Index HighBP HighChol CholCheck BMI        Smoker    \n",
       "Index                1     0      0.0000   0.00000   0.00000000 0.00000000\n",
       "HighBP               0     1      0.2982   0.09851   0.21374812 0.09699000\n",
       "HighChol             0     0      1.0000   0.08564   0.10672208 0.09130000\n",
       "CholCheck            0     0      0.0000   1.00000   0.03449509 0.00992900\n",
       "BMI                  0     0      0.0000   0.00000   1.00000000 0.01380447\n",
       "Smoker               0     0      0.0000   0.00000   0.00000000 1.00000000\n",
       "Stroke               0     0      0.0000   0.00000   0.00000000 0.00000000\n",
       "HeartDiseaseorAttack 0     0      0.0000   0.00000   0.00000000 0.00000000\n",
       "PhysActivity         0     0      0.0000   0.00000   0.00000000 0.00000000\n",
       "Fruits               0     0      0.0000   0.00000   0.00000000 0.00000000\n",
       "Veggies              0     0      0.0000   0.00000   0.00000000 0.00000000\n",
       "HvyAlcoholConsump    0     0      0.0000   0.00000   0.00000000 0.00000000\n",
       "AnyHealthcare        0     0      0.0000   0.00000   0.00000000 0.00000000\n",
       "NoDocbcCost          0     0      0.0000   0.00000   0.00000000 0.00000000\n",
       "GenHlth              0     0      0.0000   0.00000   0.00000000 0.00000000\n",
       "MentHlth             0     0      0.0000   0.00000   0.00000000 0.00000000\n",
       "PhysHlth             0     0      0.0000   0.00000   0.00000000 0.00000000\n",
       "DiffWalk             0     0      0.0000   0.00000   0.00000000 0.00000000\n",
       "Sex                  0     0      0.0000   0.00000   0.00000000 0.00000000\n",
       "Age                  0     0      0.0000   0.00000   0.00000000 0.00000000\n",
       "Education            0     0      0.0000   0.00000   0.00000000 0.00000000\n",
       "Income               0     0      0.0000   0.00000   0.00000000 0.00000000\n",
       "Diabetes_binary      0     0      0.0000   0.00000   0.00000000 0.00000000\n",
       "                     Stroke     HeartDiseaseorAttack PhysActivity Fruits     \n",
       "Index                0.00000000 0.00000000            0.0000000    0.00000000\n",
       "HighBP               0.12960000 0.20940000            0.1253000    0.04055000\n",
       "HighChol             0.09262000 0.18080000            0.0780500    0.04086000\n",
       "CholCheck            0.02416000 0.04421000            0.0041900    0.02385000\n",
       "BMI                  0.02015266 0.05290426           -0.1472936   -0.08751812\n",
       "Smoker               0.06117000 0.11440000            0.0874000    0.07767000\n",
       "Stroke               1.00000000 0.20300000            0.0691500    0.01339000\n",
       "HeartDiseaseorAttack 0.00000000 1.00000000            0.0873000    0.01979000\n",
       "PhysActivity         0.00000000 0.00000000            1.0000000    0.14280000\n",
       "Fruits               0.00000000 0.00000000            0.0000000    1.00000000\n",
       "Veggies              0.00000000 0.00000000            0.0000000    0.00000000\n",
       "HvyAlcoholConsump    0.00000000 0.00000000            0.0000000    0.00000000\n",
       "AnyHealthcare        0.00000000 0.00000000            0.0000000    0.00000000\n",
       "NoDocbcCost          0.00000000 0.00000000            0.0000000    0.00000000\n",
       "GenHlth              0.00000000 0.00000000            0.0000000    0.00000000\n",
       "MentHlth             0.00000000 0.00000000            0.0000000    0.00000000\n",
       "PhysHlth             0.00000000 0.00000000            0.0000000    0.00000000\n",
       "DiffWalk             0.00000000 0.00000000            0.0000000    0.00000000\n",
       "Sex                  0.00000000 0.00000000            0.0000000    0.00000000\n",
       "Age                  0.00000000 0.00000000            0.0000000    0.00000000\n",
       "Education            0.00000000 0.00000000            0.0000000    0.00000000\n",
       "Income               0.00000000 0.00000000            0.0000000    0.00000000\n",
       "Diabetes_binary      0.00000000 0.00000000            0.0000000    0.00000000\n",
       "                     <U+22EF>        NoDocbcCost GenHlth     MentHlth     PhysHlth    \n",
       "Index                <U+22EF> 0.00000000   0.01120463  0.000000000  0.000000000\n",
       "HighBP               <U+22EF> 0.01736000   0.27684409  0.056455917  0.161211571\n",
       "HighChol             <U+22EF> 0.01331000   0.19044111  0.062069154  0.121750528\n",
       "CholCheck            <U+22EF> 0.05826000   0.04230765 -0.008365598  0.031774808\n",
       "BMI                  <U+22EF> 0.05820629   0.20044778  0.085310159  0.121141107\n",
       "Smoker               <U+22EF> 0.04895000   0.14513867  0.092196474  0.116459714\n",
       "Stroke               <U+22EF> 0.03480000   0.14940699  0.070171812  0.148944169\n",
       "HeartDiseaseorAttack <U+22EF> 0.03100000   0.22111285  0.064621292  0.181697536\n",
       "PhysActivity         <U+22EF> 0.06164000  -0.23388958 -0.125587088 -0.219229522\n",
       "Fruits               <U+22EF> 0.04424000  -0.09627343 -0.068217375 -0.044633325\n",
       "Veggies              <U+22EF> 0.03223000  -0.11185121 -0.058883553 -0.064290327\n",
       "HvyAlcoholConsump    <U+22EF> 0.00468400  -0.03215364  0.024715803 -0.026415474\n",
       "AnyHealthcare        <U+22EF> 0.23250000  -0.03799168 -0.052706597 -0.008276167\n",
       "NoDocbcCost          <U+22EF> 1.00000000   0.14381687  0.192106853  0.148997564\n",
       "GenHlth              <U+22EF> 0.00000000   1.00000000  0.204673302  0.390358148\n",
       "MentHlth             <U+22EF> 0.00000000   0.00000000  1.000000000  0.353618868\n",
       "PhysHlth             <U+22EF> 0.00000000   0.00000000  0.000000000  1.000000000\n",
       "DiffWalk             <U+22EF> 0.00000000   0.00000000  0.000000000  0.000000000\n",
       "Sex                  <U+22EF> 0.00000000   0.00000000  0.000000000  0.000000000\n",
       "Age                  <U+22EF> 0.00000000   0.00000000  0.000000000  0.000000000\n",
       "Education            <U+22EF> 0.00000000   0.00000000  0.000000000  0.000000000\n",
       "Income               <U+22EF> 0.00000000   0.00000000  0.000000000  0.000000000\n",
       "Diabetes_binary      <U+22EF> 0.00000000   0.00000000  0.000000000  0.000000000\n",
       "                     DiffWalk  Sex          Age          Education   \n",
       "Index                0.0000000  0.000000000 -0.011114543 -0.022069633\n",
       "HighBP               0.2236000  0.052210000  0.293883910 -0.132261074\n",
       "HighChol             0.1447000  0.031210000  0.227197645 -0.064141477\n",
       "CholCheck            0.0405900  0.022120000  0.079782773  0.003605023\n",
       "BMI                  0.1970778  0.042950303 -0.018682591 -0.096272782\n",
       "Smoker               0.1225000  0.093660000  0.101764840 -0.161695760\n",
       "Stroke               0.1766000  0.002978000  0.110086876 -0.067979132\n",
       "HeartDiseaseorAttack 0.2127000  0.086100000  0.194173045 -0.089351076\n",
       "PhysActivity         0.2532000  0.032480000 -0.075105057  0.186553009\n",
       "Fruits               0.0483500  0.091170000  0.057094063  0.107068517\n",
       "Veggies              0.0805100  0.064770000 -0.009572817  0.144059557\n",
       "HvyAlcoholConsump    0.0376700  0.005740000 -0.029965414  0.019798809\n",
       "AnyHealthcare        0.0070740  0.019410000  0.119625441  0.106998261\n",
       "NoDocbcCost          0.1184000  0.044930000 -0.107532972 -0.091225522\n",
       "GenHlth              0.3859114 -0.003228014  0.114303133 -0.236224080\n",
       "MentHlth             0.2336881 -0.080704863 -0.129731426 -0.047084111\n",
       "PhysHlth             0.4784166 -0.043136502  0.040949992 -0.098650266\n",
       "DiffWalk             1.0000000  0.070300000  0.171554443 -0.174726539\n",
       "Sex                  0.0000000  1.000000000 -0.020657202  0.022554582\n",
       "Age                  0.0000000  0.000000000  1.000000000 -0.080601809\n",
       "Education            0.0000000  0.000000000  0.000000000  1.000000000\n",
       "Income               0.0000000  0.000000000  0.000000000  0.000000000\n",
       "Diabetes_binary      0.0000000  0.000000000  0.000000000  0.000000000\n",
       "                     Income      Diabetes_binary\n",
       "Index                -0.02338277  0.00000000    \n",
       "HighBP               -0.15907727  0.26310000    \n",
       "HighChol             -0.07805095  0.20030000    \n",
       "CholCheck             0.01355233  0.06476000    \n",
       "BMI                  -0.06913474  0.21684306    \n",
       "Smoker               -0.11779172  0.06079000    \n",
       "Stroke               -0.10985834  0.10580000    \n",
       "HeartDiseaseorAttack -0.12562478  0.17730000    \n",
       "PhysActivity          0.17937530  0.11810000    \n",
       "Fruits                0.06784869  0.04078000    \n",
       "Veggies               0.13262035  0.05658000    \n",
       "HvyAlcoholConsump     0.04913834  0.05706000    \n",
       "AnyHealthcare         0.13766158  0.01626000    \n",
       "NoDocbcCost          -0.17468003  0.03143000    \n",
       "GenHlth              -0.29196523  0.26260195    \n",
       "MentHlth             -0.12043742  0.06931508    \n",
       "PhysHlth             -0.17883737  0.17133670    \n",
       "DiffWalk             -0.26966510  0.21830000    \n",
       "Sex                   0.11277129  0.03143000    \n",
       "Age                  -0.13460542  0.15156257    \n",
       "Education             0.38077195 -0.11182832    \n",
       "Income                1.00000000 -0.14499818    \n",
       "Diabetes_binary       0.00000000  1.00000000    "
      ]
     },
     "metadata": {},
     "output_type": "display_data"
    }
   ],
   "source": [
    "correlation_matrix"
   ]
  },
  {
   "cell_type": "code",
   "execution_count": 41,
   "id": "6b9933ee-a592-4452-85e6-ec4ad8fa17b8",
   "metadata": {},
   "outputs": [
    {
     "data": {
      "image/png": "[encoded data removed]",
      "text/plain": [
       "Plot with title \"\""
      ]
     },
     "metadata": {
      "image/png": {
       "height": 420,
       "width": 420
      }
     },
     "output_type": "display_data"
    }
   ],
   "source": [
    "corrplot(correlation_matrix, method=\"circle\", type=\"upper\")"
   ]
  },
  {
   "cell_type": "code",
   "execution_count": 42,
   "id": "a35dd5f1-b8fa-4b3d-9970-373b9ea4d6ed",
   "metadata": {},
   "outputs": [
    {
     "name": "stdout",
     "output_type": "stream",
     "text": [
      "[1] \"Index\" \"0\"    \n",
      "[1] \"HighBP\" \"0.2631\"\n",
      "[1] \"HighChol\" \"0.2003\"  \n",
      "[1] \"CholCheck\" \"0.06476\"  \n",
      "[1] \"BMI\"               \"0.216843060203119\"\n",
      "[1] \"Smoker\"  \"0.06079\"\n",
      "[1] \"Stroke\" \"0.1058\"\n",
      "[1] \"HeartDiseaseorAttack\" \"0.1773\"              \n",
      "[1] \"PhysActivity\" \"0.1181\"      \n",
      "[1] \"Fruits\"  \"0.04078\"\n",
      "[1] \"Veggies\" \"0.05658\"\n",
      "[1] \"HvyAlcoholConsump\" \"0.05706\"          \n",
      "[1] \"AnyHealthcare\" \"0.01626\"      \n",
      "[1] \"NoDocbcCost\" \"0.03143\"    \n",
      "[1] \"GenHlth\"           \"0.262601954027565\"\n",
      "[1] \"MentHlth\"           \"0.0693150826383553\"\n",
      "[1] \"PhysHlth\"          \"0.171336700387252\"\n",
      "[1] \"DiffWalk\" \"0.2183\"  \n",
      "[1] \"Sex\"     \"0.03143\"\n",
      "[1] \"Age\"               \"0.151562571648901\"\n",
      "[1] \"Education\"         \"-0.11182832020598\"\n",
      "[1] \"Income\"             \"-0.144998176285264\"\n",
      "[1] \"Diabetes_binary\" \"1\"              \n"
     ]
    }
   ],
   "source": [
    "for (i in 1:nrow(correlation_matrix))\n",
    "{\n",
    "    print(c(rownames(correlation_matrix)[i], correlation_matrix[i, nrow(correlation_matrix)]))\n",
    "}"
   ]
  },
  {
   "cell_type": "markdown",
   "id": "71887d24-4f1e-4bfd-a312-df38c06e4caf",
   "metadata": {},
   "source": [
    "## 4. Model building"
   ]
  },
  {
   "cell_type": "markdown",
   "id": "b0dc4dca-08c4-4448-b187-57e1a2ed13a7",
   "metadata": {},
   "source": [
    "### 4.1. Split data"
   ]
  },
  {
   "cell_type": "code",
   "execution_count": 43,
   "id": "599dc345-0b33-48d3-8430-73b80f4fe18c",
   "metadata": {},
   "outputs": [],
   "source": [
    "set.seed(123)\n",
    "index = createDataPartition(df$Diabetes_binary, p = 0.8, list = FALSE)\n",
    "training_data = df[index, ]\n",
    "testing_data = df[-index, ]"
   ]
  },
  {
   "cell_type": "code",
   "execution_count": 44,
   "id": "b89aa56e-adce-4fe5-a6ac-41a25c42cb77",
   "metadata": {},
   "outputs": [
    {
     "data": {
      "text/html": [
       "202944"
      ],
      "text/latex": [
       "202944"
      ],
      "text/markdown": [
       "202944"
      ],
      "text/plain": [
       "[1] 202944"
      ]
     },
     "metadata": {},
     "output_type": "display_data"
    }
   ],
   "source": [
    "nrow(training_data)"
   ]
  },
  {
   "cell_type": "code",
   "execution_count": 45,
   "id": "c06be67c-3f6d-4b86-aa8d-222461e4f448",
   "metadata": {},
   "outputs": [
    {
     "data": {
      "text/html": [
       "0.139343858404289"
      ],
      "text/latex": [
       "0.139343858404289"
      ],
      "text/markdown": [
       "0.139343858404289"
      ],
      "text/plain": [
       "[1] 0.1393439"
      ]
     },
     "metadata": {},
     "output_type": "display_data"
    }
   ],
   "source": [
    "nrow(training_data[training_data$Diabetes_binary == 1, ]) / nrow(training_data)"
   ]
  },
  {
   "cell_type": "code",
   "execution_count": 46,
   "id": "2f9cd312-cb69-4cf9-9021-c2de3f06b58c",
   "metadata": {},
   "outputs": [
    {
     "data": {
      "text/html": [
       "50736"
      ],
      "text/latex": [
       "50736"
      ],
      "text/markdown": [
       "50736"
      ],
      "text/plain": [
       "[1] 50736"
      ]
     },
     "metadata": {},
     "output_type": "display_data"
    }
   ],
   "source": [
    "nrow(testing_data)"
   ]
  },
  {
   "cell_type": "code",
   "execution_count": 47,
   "id": "f09ae957-3f74-49cf-bec6-9d6b02024897",
   "metadata": {},
   "outputs": [
    {
     "data": {
      "text/html": [
       "0.139289656259855"
      ],
      "text/latex": [
       "0.139289656259855"
      ],
      "text/markdown": [
       "0.139289656259855"
      ],
      "text/plain": [
       "[1] 0.1392897"
      ]
     },
     "metadata": {},
     "output_type": "display_data"
    }
   ],
   "source": [
    "nrow(testing_data[testing_data$Diabetes_binary == 1, ]) / nrow(testing_data)"
   ]
  },
  {
   "cell_type": "markdown",
   "id": "aff67aae-5027-4998-9c29-a44c17d8aedb",
   "metadata": {},
   "source": [
    "### 4.2. Features selection for model building"
   ]
  },
  {
   "cell_type": "markdown",
   "id": "e601c94b-ccdb-47b1-a1c2-fc2334b8e6a6",
   "metadata": {},
   "source": [
    "#### 4.2.1. Univariate linear regression model analysis (OLS)"
   ]
  },
  {
   "cell_type": "code",
   "execution_count": 48,
   "id": "9de40e34-ed28-45ca-be66-5bfeb2aee8f4",
   "metadata": {},
   "outputs": [],
   "source": [
    "# Calculate p_value of EACH variable in lm()\n",
    "# Input: dataframe, response variable name\n",
    "\n",
    "summary_univariate_lm = function(df, response_variable_name, just_p_value=FALSE) {\n",
    "\t# Get the names of explanatory variables (excluding response variable)\n",
    "\texplanatory_vars <- names(df)[names(df) != response_variable_name]\n",
    "\t\n",
    "\t# Create an empty list to store model objects\n",
    "\tmodels <- list()\n",
    "\t\n",
    "\t# Loop through each explanatory variable and fit a linear model\n",
    "\tfor (var in explanatory_vars) {\n",
    "\t  # Formula for the linear model\n",
    "\t  formula <- formula(paste(response_variable_name, \"~\", var))\n",
    "\t  \n",
    "\t  # Fit the linear model\n",
    "\t  model <- lm(formula, data = df)\n",
    "\t  \n",
    "\t  # Store the model object in the list\n",
    "\t  models[[var]] <- model\n",
    "\t}\n",
    "\t\n",
    "\t# Access the models and their summaries\n",
    "\tfor (var in explanatory_vars) {\n",
    "\t  cat(\"Variable:\", var, \"\\n\")\n",
    "\t  if (just_p_value)\n",
    "\t\t  print(summary(models[[var]])$coe[2,4])\n",
    "\t\telse\n",
    "\t\t\tprint(summary(models[[var]]))\n",
    "\t}\n",
    "}"
   ]
  },
  {
   "cell_type": "code",
   "execution_count": 49,
   "id": "cecb527c-8809-4bce-958c-badfebe478ac",
   "metadata": {},
   "outputs": [
    {
     "name": "stdout",
     "output_type": "stream",
     "text": [
      "Variable: Index \n",
      "[1] 0.2053684\n",
      "Variable: HighBP \n",
      "[1] 0\n",
      "Variable: HighChol \n",
      "[1] 0\n",
      "Variable: CholCheck \n",
      "[1] 1.9607e-193\n",
      "Variable: BMI \n",
      "[1] 0\n",
      "Variable: Smoker \n",
      "[1] 4.445516e-163\n",
      "Variable: Stroke \n",
      "[1] 0\n",
      "Variable: HeartDiseaseorAttack \n",
      "[1] 0\n",
      "Variable: PhysActivity \n",
      "[1] 0\n",
      "Variable: Fruits \n",
      "[1] 6.70964e-76\n",
      "Variable: Veggies \n",
      "[1] 1.222665e-133\n",
      "Variable: HvyAlcoholConsump \n",
      "[1] 1.12114e-143\n",
      "Variable: AnyHealthcare \n",
      "[1] 2.036483e-16\n",
      "Variable: NoDocbcCost \n",
      "[1] 1.278701e-45\n",
      "Variable: GenHlth \n",
      "[1] 0\n",
      "Variable: MentHlth \n",
      "[1] 5.004899e-228\n",
      "Variable: PhysHlth \n",
      "[1] 0\n",
      "Variable: DiffWalk \n",
      "[1] 0\n",
      "Variable: Sex \n",
      "[1] 5.337466e-45\n",
      "Variable: Age \n",
      "[1] 0\n",
      "Variable: Education \n",
      "[1] 0\n",
      "Variable: Income \n",
      "[1] 0\n"
     ]
    }
   ],
   "source": [
    "summary_univariate_lm(training_data, response_col, TRUE)"
   ]
  },
  {
   "cell_type": "code",
   "execution_count": 50,
   "id": "6910b589-14c8-4650-b680-4db385c2b0b1",
   "metadata": {},
   "outputs": [],
   "source": [
    "# Index variable is order of rows, it must be excluded for training data (p_value > 0.05)"
   ]
  },
  {
   "cell_type": "markdown",
   "id": "8031ecda-e200-4701-998a-66c13d9d7dfb",
   "metadata": {},
   "source": [
    "#### 4.2.2. Random forest method"
   ]
  },
  {
   "cell_type": "code",
   "execution_count": 51,
   "id": "8e9ceb01-9dd6-44cd-a87f-2a65f134faf2",
   "metadata": {},
   "outputs": [],
   "source": [
    "rg.df = ranger(Diabetes_binary ~ ., data = training_data[, -1], importance = \"impurity\", num.trees = 100)\n",
    "vimp_result = rg.df$variable.importance\n",
    "sorted_vimp_result = vimp_result[order(vimp_result, decreasing = F)]"
   ]
  },
  {
   "cell_type": "code",
   "execution_count": 52,
   "id": "67e29263-ac9b-4c26-9f04-fdf30dcf5129",
   "metadata": {},
   "outputs": [
    {
     "data": {
      "image/png": "[encoded data removed]",
      "text/plain": [
       "plot without title"
      ]
     },
     "metadata": {
      "image/png": {
       "height": 420,
       "width": 420
      }
     },
     "output_type": "display_data"
    }
   ],
   "source": [
    "barplot(sorted_vimp_result, horiz = T, las = 1)"
   ]
  },
  {
   "cell_type": "markdown",
   "id": "4b05f32a-e321-4995-ad65-794ffaacd24b",
   "metadata": {},
   "source": [
    "#### 4.2.3. Factorized data frame"
   ]
  },
  {
   "cell_type": "code",
   "execution_count": 97,
   "id": "deea1d65-6261-4e7e-86f8-23183ea69b75",
   "metadata": {},
   "outputs": [
    {
     "name": "stdout",
     "output_type": "stream",
     "text": [
      "'data.frame':\t202944 obs. of  22 variables:\n",
      " $ HighBP              : Factor w/ 2 levels \"0\",\"1\": 2 2 2 2 2 2 1 1 2 1 ...\n",
      " $ HighChol            : Factor w/ 2 levels \"0\",\"1\": 2 2 1 1 2 2 1 1 2 1 ...\n",
      " $ CholCheck           : Factor w/ 2 levels \"0\",\"1\": 2 2 2 2 2 2 2 2 2 2 ...\n",
      " $ BMI                 : int  40 28 27 30 25 30 24 25 34 26 ...\n",
      " $ Smoker              : Factor w/ 2 levels \"0\",\"1\": 2 1 1 2 2 2 1 2 2 2 ...\n",
      " $ Stroke              : Factor w/ 2 levels \"0\",\"1\": 1 1 1 1 1 1 1 1 1 1 ...\n",
      " $ HeartDiseaseorAttack: Factor w/ 2 levels \"0\",\"1\": 1 1 1 1 1 2 1 1 1 1 ...\n",
      " $ PhysActivity        : Factor w/ 2 levels \"0\",\"1\": 1 1 2 1 2 1 1 2 1 1 ...\n",
      " $ Fruits              : Factor w/ 2 levels \"0\",\"1\": 1 2 2 1 1 2 1 2 2 1 ...\n",
      " $ Veggies             : Factor w/ 2 levels \"0\",\"1\": 2 1 2 1 2 2 2 2 2 2 ...\n",
      " $ HvyAlcoholConsump   : Factor w/ 2 levels \"0\",\"1\": 1 1 1 1 1 1 1 1 1 1 ...\n",
      " $ AnyHealthcare       : Factor w/ 2 levels \"0\",\"1\": 2 2 2 2 2 2 2 2 2 2 ...\n",
      " $ NoDocbcCost         : Factor w/ 2 levels \"0\",\"1\": 1 2 1 1 1 1 1 1 1 1 ...\n",
      " $ GenHlth             : Ord.factor w/ 5 levels \"1\"<\"2\"<\"3\"<\"4\"<..: 5 5 2 3 3 5 2 3 3 3 ...\n",
      " $ MentHlth            : int  18 30 0 0 0 30 0 0 0 0 ...\n",
      " $ PhysHlth            : int  15 30 0 14 0 30 0 0 30 15 ...\n",
      " $ DiffWalk            : Factor w/ 2 levels \"0\",\"1\": 2 2 1 1 2 2 1 1 2 1 ...\n",
      " $ Sex                 : Factor w/ 2 levels \"0\",\"1\": 1 1 1 1 1 1 2 2 1 1 ...\n",
      " $ Age                 : Ord.factor w/ 13 levels \"1\"<\"2\"<\"3\"<\"4\"<..: 9 9 11 9 11 9 8 13 10 7 ...\n",
      " $ Education           : Ord.factor w/ 6 levels \"1\"<\"2\"<\"3\"<\"4\"<..: 4 4 3 6 4 5 4 6 5 5 ...\n",
      " $ Income              : Ord.factor w/ 8 levels \"1\"<\"2\"<\"3\"<\"4\"<..: 3 8 6 7 4 1 3 8 1 7 ...\n",
      " $ Diabetes_binary     : int  0 0 0 0 0 1 0 1 0 0 ...\n"
     ]
    }
   ],
   "source": [
    "factorized_training_data = training_data\n",
    "\n",
    "for (bin_col in binary_cols)\n",
    "{\n",
    "    factorized_training_data[,bin_col] = factor(factorized_training_data[,bin_col])\n",
    "}\n",
    "\n",
    "for (ord_col in ordinal_cols)\n",
    "{\n",
    "    factorized_training_data[,ord_col] = factor(factorized_training_data[,ord_col], ordered = T)\n",
    "}\n",
    "\n",
    "# Remove \"Index\" columns\n",
    "if (\"Index\" %in% colnames(factorized_training_data))\n",
    "{\n",
    "    factorized_training_data = subset(factorized_training_data, select = -Index)\n",
    "}\n",
    "\n",
    "str(factorized_training_data)"
   ]
  },
  {
   "cell_type": "markdown",
   "id": "f5cca8f5-e35f-4c4a-854a-19511179a022",
   "metadata": {},
   "source": [
    "#### 4.2.4. AIC and BIC methods"
   ]
  },
  {
   "cell_type": "code",
   "execution_count": 58,
   "id": "176bfba6-0ef2-4694-8fee-6f2caa85850d",
   "metadata": {},
   "outputs": [],
   "source": [
    "model = glm(Diabetes_binary ~ . , data=factorized_training_data, family=binomial)"
   ]
  },
  {
   "cell_type": "markdown",
   "id": "e0c91bda-fcce-48fd-97a3-b8e397c16f78",
   "metadata": {},
   "source": [
    "#### AIC methods"
   ]
  },
  {
   "cell_type": "code",
   "execution_count": 59,
   "id": "7b3b3f13-a8d2-4417-8a89-0e4b37ac85b4",
   "metadata": {
    "scrolled": true
   },
   "outputs": [],
   "source": [
    "# # AIC\n",
    "# # Estimated runtime: 135s\n",
    "# aic_result = stepAIC(model, direction = \"backward\", k = 2)"
   ]
  },
  {
   "cell_type": "code",
   "execution_count": 60,
   "id": "7223c4a4-8194-4d9b-8a2b-4ddbd50bcf9a",
   "metadata": {},
   "outputs": [],
   "source": [
    "# Best AIC\n",
    "\n",
    "# Code\n",
    "# model = glm(Diabetes_binary ~ . , data=factorized_training_data, family=binomial)\n",
    "# aic_result = stepAIC(model, direction = \"backward\", k = 2)\n",
    "\n",
    "# Result\n",
    "# Diabetes_binary ~ HighBP + HighChol + CholCheck + BMI + Smoker + \n",
    "#     Stroke + HeartDiseaseorAttack + PhysActivity + Fruits + HvyAlcoholConsump + \n",
    "#     AnyHealthcare + GenHlth + MentHlth + PhysHlth + DiffWalk + \n",
    "#     Sex + Age + Education + Income\n",
    "\n",
    "# Number of explain variables: 19\n",
    "# AIC: 128726.6"
   ]
  },
  {
   "cell_type": "code",
   "execution_count": 61,
   "id": "83b4ad97-e43d-4aef-874d-ca3a6cc8a3d1",
   "metadata": {},
   "outputs": [],
   "source": [
    "best_aic_model = glm(Diabetes_binary ~ HighBP + HighChol + CholCheck + BMI + Smoker \n",
    "                     + Stroke + HeartDiseaseorAttack + PhysActivity + Fruits + HvyAlcoholConsump\n",
    "                     + AnyHealthcare + GenHlth + MentHlth + PhysHlth + DiffWalk\n",
    "                     + Sex + Age + Education + Income, data=factorized_training_data, family=binomial)"
   ]
  },
  {
   "cell_type": "markdown",
   "id": "25f67dfc-c820-4acf-8da1-3974617c6d5f",
   "metadata": {},
   "source": [
    "#### BIC methods"
   ]
  },
  {
   "cell_type": "code",
   "execution_count": 62,
   "id": "b02d327c-0560-48a5-a145-28595c71e9ee",
   "metadata": {
    "scrolled": true
   },
   "outputs": [],
   "source": [
    "# # BIC\n",
    "# # Estimated runtime: 449s\n",
    "# bic_result = stepAIC(model, direction = \"backward\", k = log(nrow(factorized_training_data)))"
   ]
  },
  {
   "cell_type": "code",
   "execution_count": 63,
   "id": "4fc5c8f3-ce29-4072-bd35-0fd023ffe101",
   "metadata": {},
   "outputs": [],
   "source": [
    "# Best BIC\n",
    "\n",
    "# Code\n",
    "# model = glm(Diabetes_binary ~ . , data=factorized_training_data, family=binomial)\n",
    "# bic_result = stepAIC(model, direction = \"backward\", k = log(nrow(factorized_training_data)))\n",
    "\n",
    "# Result\n",
    "# Diabetes_binary ~ HighBP + HighChol + CholCheck + BMI + Stroke + \n",
    "#     HeartDiseaseorAttack + PhysActivity + HvyAlcoholConsump + \n",
    "#     GenHlth + PhysHlth + DiffWalk + Sex + Age + Income\n",
    "\n",
    "# Number of explain variables: 14\n",
    "# BIC: 129144.4"
   ]
  },
  {
   "cell_type": "code",
   "execution_count": 64,
   "id": "19617e1f-3516-4844-b521-0636b5086d6d",
   "metadata": {},
   "outputs": [],
   "source": [
    "best_bic_model = glm(Diabetes_binary ~ HighBP + HighChol + CholCheck + BMI + Stroke\n",
    "                     + HeartDiseaseorAttack + PhysActivity + HvyAlcoholConsump + GenHlth + PhysHlth\n",
    "                     + DiffWalk + Sex + Age + Income, data = factorized_training_data, family=binomial)"
   ]
  },
  {
   "cell_type": "markdown",
   "id": "4f419096-6d27-48b1-bec5-0dceb47d98ac",
   "metadata": {},
   "source": [
    "#### 4.2.5. Best model selection"
   ]
  },
  {
   "cell_type": "code",
   "execution_count": 65,
   "id": "72f33c40-7ccf-4796-92d2-fcbd413f7e9b",
   "metadata": {},
   "outputs": [],
   "source": [
    "# # Best AIC model\n",
    "# best_aic_model = glm(Diabetes_binary ~ HighBP + HighChol + CholCheck + BMI + Smoker \n",
    "#                      + Stroke + HeartDiseaseorAttack + PhysActivity + Fruits + HvyAlcoholConsump\n",
    "#                      + AnyHealthcare + GenHlth + MentHlth + PhysHlth + DiffWalk\n",
    "#                      + Sex + Age + Education + Income, data=factorized_training_data, family=binomial)"
   ]
  },
  {
   "cell_type": "code",
   "execution_count": 66,
   "id": "f9c59a04-b2b6-417d-922c-c3d2925ec9ce",
   "metadata": {},
   "outputs": [],
   "source": [
    "# # Best BIC model\n",
    "# best_bic_model = glm(Diabetes_binary ~ HighBP + HighChol + CholCheck + BMI + Stroke\n",
    "#                      + HeartDiseaseorAttack + PhysActivity + HvyAlcoholConsump + GenHlth + PhysHlth\n",
    "#                      + DiffWalk + Sex + Age + Income, data = training_data, family=binomial)"
   ]
  },
  {
   "cell_type": "code",
   "execution_count": 67,
   "id": "60074d02-dc60-482f-ade3-df6307060f6f",
   "metadata": {},
   "outputs": [
    {
     "data": {
      "text/html": [
       "<table class=\"dataframe\">\n",
       "<caption>A anova: 2 × 5</caption>\n",
       "<thead>\n",
       "\t<tr><th></th><th scope=col>Resid. Df</th><th scope=col>Resid. Dev</th><th scope=col>Df</th><th scope=col>Deviance</th><th scope=col>Pr(&gt;Chi)</th></tr>\n",
       "\t<tr><th></th><th scope=col>&lt;dbl&gt;</th><th scope=col>&lt;dbl&gt;</th><th scope=col>&lt;dbl&gt;</th><th scope=col>&lt;dbl&gt;</th><th scope=col>&lt;dbl&gt;</th></tr>\n",
       "</thead>\n",
       "<tbody>\n",
       "\t<tr><th scope=row>1</th><td>202900</td><td>128638.6</td><td>NA</td><td>       NA</td><td>          NA</td></tr>\n",
       "\t<tr><th scope=row>2</th><td>202909</td><td>128716.6</td><td>-9</td><td>-77.98747</td><td>4.053023e-13</td></tr>\n",
       "</tbody>\n",
       "</table>\n"
      ],
      "text/latex": [
       "A anova: 2 × 5\n",
       "\\begin{tabular}{r|lllll}\n",
       "  & Resid. Df & Resid. Dev & Df & Deviance & Pr(>Chi)\\\\\n",
       "  & <dbl> & <dbl> & <dbl> & <dbl> & <dbl>\\\\\n",
       "\\hline\n",
       "\t1 & 202900 & 128638.6 & NA &        NA &           NA\\\\\n",
       "\t2 & 202909 & 128716.6 & -9 & -77.98747 & 4.053023e-13\\\\\n",
       "\\end{tabular}\n"
      ],
      "text/markdown": [
       "\n",
       "A anova: 2 × 5\n",
       "\n",
       "| <!--/--> | Resid. Df &lt;dbl&gt; | Resid. Dev &lt;dbl&gt; | Df &lt;dbl&gt; | Deviance &lt;dbl&gt; | Pr(&gt;Chi) &lt;dbl&gt; |\n",
       "|---|---|---|---|---|---|\n",
       "| 1 | 202900 | 128638.6 | NA |        NA |           NA |\n",
       "| 2 | 202909 | 128716.6 | -9 | -77.98747 | 4.053023e-13 |\n",
       "\n"
      ],
      "text/plain": [
       "  Resid. Df Resid. Dev Df Deviance  Pr(>Chi)    \n",
       "1 202900    128638.6   NA        NA           NA\n",
       "2 202909    128716.6   -9 -77.98747 4.053023e-13"
      ]
     },
     "metadata": {},
     "output_type": "display_data"
    }
   ],
   "source": [
    "anova(best_aic_model, best_bic_model, test = \"Chisq\")"
   ]
  },
  {
   "cell_type": "code",
   "execution_count": 68,
   "id": "33fd8a15-d686-4644-91cb-9c466430d2ab",
   "metadata": {},
   "outputs": [],
   "source": [
    "# => CHOOSE MODEL: \"best_bic_model\""
   ]
  },
  {
   "cell_type": "markdown",
   "id": "a14bb69e-4809-4763-8229-c949499eb75c",
   "metadata": {},
   "source": [
    "### 4.3. Link function selection"
   ]
  },
  {
   "cell_type": "code",
   "execution_count": 69,
   "id": "e5f0cf4e-8c88-406b-b95d-d52cb69af206",
   "metadata": {},
   "outputs": [],
   "source": [
    "# best_bic_model = glm(Diabetes_binary ~ HighBP + HighChol + CholCheck + BMI + Stroke\n",
    "#                      + HeartDiseaseorAttack + PhysActivity + HvyAlcoholConsump + GenHlth + DiffWalk\n",
    "#                      + Sex + Age + Income, data = training_data)"
   ]
  },
  {
   "cell_type": "markdown",
   "id": "29528586-d8da-42c0-bcd8-323300a02149",
   "metadata": {},
   "source": [
    "#### 4.3.1. Link function: logit"
   ]
  },
  {
   "cell_type": "code",
   "execution_count": 70,
   "id": "db1be233-a285-4df1-96ee-bbc385f800fd",
   "metadata": {},
   "outputs": [
    {
     "data": {
      "text/plain": [
       "\n",
       "Call:\n",
       "glm(formula = Diabetes_binary ~ HighBP + HighChol + CholCheck + \n",
       "    BMI + Stroke + HeartDiseaseorAttack + PhysActivity + HvyAlcoholConsump + \n",
       "    GenHlth + DiffWalk + Sex + Age + Income, family = binomial(link = \"logit\"), \n",
       "    data = factorized_training_data)\n",
       "\n",
       "Deviance Residuals: \n",
       "    Min       1Q   Median       3Q      Max  \n",
       "-2.7667  -0.5395  -0.3074  -0.1538   3.5436  \n",
       "\n",
       "Coefficients:\n",
       "                        Estimate Std. Error z value Pr(>|z|)    \n",
       "(Intercept)           -5.9475512  0.0855707 -69.505  < 2e-16 ***\n",
       "HighBP1                0.7117105  0.0164808  43.184  < 2e-16 ***\n",
       "HighChol1              0.5330229  0.0152135  35.036  < 2e-16 ***\n",
       "CholCheck1             1.2765234  0.0772771  16.519  < 2e-16 ***\n",
       "BMI                    0.0580562  0.0010176  57.052  < 2e-16 ***\n",
       "Stroke1                0.1490452  0.0277527   5.370 7.85e-08 ***\n",
       "HeartDiseaseorAttack1  0.2465006  0.0198020  12.448  < 2e-16 ***\n",
       "PhysActivity1         -0.0585271  0.0158835  -3.685 0.000229 ***\n",
       "HvyAlcoholConsump1    -0.7790624  0.0429013 -18.159  < 2e-16 ***\n",
       "GenHlth.L              1.5746994  0.0299905  52.507  < 2e-16 ***\n",
       "GenHlth.Q             -0.3989396  0.0238017 -16.761  < 2e-16 ***\n",
       "GenHlth.C             -0.0801664  0.0186040  -4.309 1.64e-05 ***\n",
       "GenHlth^4              0.0389331  0.0138202   2.817 0.004846 ** \n",
       "DiffWalk1              0.1204688  0.0182724   6.593 4.31e-11 ***\n",
       "Sex1                   0.2656316  0.0147935  17.956  < 2e-16 ***\n",
       "Age.L                  2.3796030  0.0774663  30.718  < 2e-16 ***\n",
       "Age.Q                 -0.8545822  0.0738033 -11.579  < 2e-16 ***\n",
       "Age.C                 -0.2243583  0.0686064  -3.270 0.001075 ** \n",
       "Age^4                 -0.0288694  0.0652532  -0.442 0.658184    \n",
       "Age^5                 -0.1957663  0.0622025  -3.147 0.001648 ** \n",
       "Age^6                  0.1039889  0.0580237   1.792 0.073104 .  \n",
       "Age^7                  0.0475327  0.0531198   0.895 0.370882    \n",
       "Age^8                 -0.0124687  0.0474324  -0.263 0.792649    \n",
       "Age^9                  0.0249148  0.0415380   0.600 0.548635    \n",
       "Age^10                -0.0638667  0.0357456  -1.787 0.073985 .  \n",
       "Age^11                 0.0119748  0.0310643   0.385 0.699880    \n",
       "Age^12                 0.0475509  0.0264606   1.797 0.072329 .  \n",
       "Income.L              -0.3932331  0.0249299 -15.774  < 2e-16 ***\n",
       "Income.Q              -0.1012664  0.0228488  -4.432 9.34e-06 ***\n",
       "Income.C              -0.0002409  0.0221858  -0.011 0.991337    \n",
       "Income^4              -0.0198026  0.0221281  -0.895 0.370837    \n",
       "Income^5              -0.0379121  0.0217816  -1.741 0.081762 .  \n",
       "Income^6              -0.0331694  0.0213157  -1.556 0.119684    \n",
       "Income^7               0.0088868  0.0210516   0.422 0.672919    \n",
       "---\n",
       "Signif. codes:  0 '***' 0.001 '**' 0.01 '*' 0.05 '.' 0.1 ' ' 1\n",
       "\n",
       "(Dispersion parameter for binomial family taken to be 1)\n",
       "\n",
       "    Null deviance: 163886  on 202943  degrees of freedom\n",
       "Residual deviance: 128732  on 202910  degrees of freedom\n",
       "AIC: 128800\n",
       "\n",
       "Number of Fisher Scoring iterations: 7\n"
      ]
     },
     "metadata": {},
     "output_type": "display_data"
    }
   ],
   "source": [
    "logit_best_bic_model = glm(Diabetes_binary ~ HighBP + HighChol + CholCheck + BMI + Stroke\n",
    "                     + HeartDiseaseorAttack + PhysActivity + HvyAlcoholConsump + GenHlth + DiffWalk\n",
    "                     + Sex + Age + Income, data = factorized_training_data, family=binomial(link = \"logit\"))\n",
    "summary(logit_best_bic_model)"
   ]
  },
  {
   "cell_type": "markdown",
   "id": "ed274da8-eacd-4abc-bcdd-d13e837054e0",
   "metadata": {},
   "source": [
    "#### 4.3.2. Link function: probit"
   ]
  },
  {
   "cell_type": "code",
   "execution_count": 71,
   "id": "260c98a6-4116-4c8e-a94d-5108709946f1",
   "metadata": {},
   "outputs": [
    {
     "data": {
      "text/plain": [
       "\n",
       "Call:\n",
       "glm(formula = Diabetes_binary ~ HighBP + HighChol + CholCheck + \n",
       "    BMI + Stroke + HeartDiseaseorAttack + PhysActivity + HvyAlcoholConsump + \n",
       "    GenHlth + DiffWalk + Sex + Age + Income, family = binomial(link = \"probit\"), \n",
       "    data = factorized_training_data)\n",
       "\n",
       "Deviance Residuals: \n",
       "    Min       1Q   Median       3Q      Max  \n",
       "-2.8715  -0.5538  -0.3032  -0.1264   3.9810  \n",
       "\n",
       "Coefficients:\n",
       "                        Estimate Std. Error z value Pr(>|z|)    \n",
       "(Intercept)           -3.2317923  0.0414547 -77.960  < 2e-16 ***\n",
       "HighBP1                0.3806783  0.0087963  43.277  < 2e-16 ***\n",
       "HighChol1              0.2899073  0.0082951  34.949  < 2e-16 ***\n",
       "CholCheck1             0.6395803  0.0364998  17.523  < 2e-16 ***\n",
       "BMI                    0.0328104  0.0005739  57.175  < 2e-16 ***\n",
       "Stroke1                0.0935493  0.0163381   5.726 1.03e-08 ***\n",
       "HeartDiseaseorAttack1  0.1556756  0.0116159  13.402  < 2e-16 ***\n",
       "PhysActivity1         -0.0334498  0.0089489  -3.738 0.000186 ***\n",
       "HvyAlcoholConsump1    -0.3999954  0.0218350 -18.319  < 2e-16 ***\n",
       "GenHlth.L              0.8324463  0.0155853  53.412  < 2e-16 ***\n",
       "GenHlth.Q             -0.1737689  0.0121948 -14.249  < 2e-16 ***\n",
       "GenHlth.C             -0.0631424  0.0098314  -6.423 1.34e-10 ***\n",
       "GenHlth^4              0.0182932  0.0075991   2.407 0.016071 *  \n",
       "DiffWalk1              0.0767425  0.0105447   7.278 3.39e-13 ***\n",
       "Sex1                   0.1462689  0.0081523  17.942  < 2e-16 ***\n",
       "Age.L                  1.1409799  0.0338872  33.670  < 2e-16 ***\n",
       "Age.Q                 -0.3383970  0.0316304 -10.698  < 2e-16 ***\n",
       "Age.C                 -0.1739840  0.0295448  -5.889 3.89e-09 ***\n",
       "Age^4                 -0.0126446  0.0285576  -0.443 0.657928    \n",
       "Age^5                 -0.1048603  0.0277703  -3.776 0.000159 ***\n",
       "Age^6                  0.0557242  0.0263766   2.113 0.034632 *  \n",
       "Age^7                  0.0180919  0.0245560   0.737 0.461268    \n",
       "Age^8                  0.0058846  0.0223263   0.264 0.792109    \n",
       "Age^9                  0.0034472  0.0200424   0.172 0.863439    \n",
       "Age^10                -0.0303322  0.0177939  -1.705 0.088262 .  \n",
       "Age^11                 0.0054649  0.0159891   0.342 0.732513    \n",
       "Age^12                 0.0255526  0.0140427   1.820 0.068816 .  \n",
       "Income.L              -0.2209557  0.0141595 -15.605  < 2e-16 ***\n",
       "Income.Q              -0.0520725  0.0129665  -4.016 5.92e-05 ***\n",
       "Income.C               0.0043395  0.0126063   0.344 0.730674    \n",
       "Income^4              -0.0121380  0.0125903  -0.964 0.335007    \n",
       "Income^5              -0.0186146  0.0123885  -1.503 0.132950    \n",
       "Income^6              -0.0172919  0.0121045  -1.429 0.153133    \n",
       "Income^7               0.0050692  0.0119363   0.425 0.671063    \n",
       "---\n",
       "Signif. codes:  0 '***' 0.001 '**' 0.01 '*' 0.05 '.' 0.1 ' ' 1\n",
       "\n",
       "(Dispersion parameter for binomial family taken to be 1)\n",
       "\n",
       "    Null deviance: 163886  on 202943  degrees of freedom\n",
       "Residual deviance: 128471  on 202910  degrees of freedom\n",
       "AIC: 128539\n",
       "\n",
       "Number of Fisher Scoring iterations: 6\n"
      ]
     },
     "metadata": {},
     "output_type": "display_data"
    }
   ],
   "source": [
    "probit_best_bic_model = glm(Diabetes_binary ~ HighBP + HighChol + CholCheck + BMI + Stroke\n",
    "                     + HeartDiseaseorAttack + PhysActivity + HvyAlcoholConsump + GenHlth + DiffWalk\n",
    "                     + Sex + Age + Income, data = factorized_training_data, family=binomial(link = \"probit\"))\n",
    "summary(probit_best_bic_model)"
   ]
  },
  {
   "cell_type": "markdown",
   "id": "dd3b1622-c52f-4ee5-877b-51cad4a431be",
   "metadata": {},
   "source": [
    "#### 4.3.3. Link function: cauchit"
   ]
  },
  {
   "cell_type": "code",
   "execution_count": 72,
   "id": "960e7487-1633-4765-8977-01d9d0d1451e",
   "metadata": {},
   "outputs": [
    {
     "data": {
      "text/plain": [
       "\n",
       "Call:\n",
       "glm(formula = Diabetes_binary ~ HighBP + HighChol + CholCheck + \n",
       "    BMI + Stroke + HeartDiseaseorAttack + PhysActivity + HvyAlcoholConsump + \n",
       "    GenHlth + DiffWalk + Sex + Age + Income, family = binomial(link = \"cauchit\"), \n",
       "    data = factorized_training_data)\n",
       "\n",
       "Deviance Residuals: \n",
       "    Min       1Q   Median       3Q      Max  \n",
       "-2.2992  -0.5229  -0.3842  -0.2464   2.9912  \n",
       "\n",
       "Coefficients:\n",
       "                        Estimate Std. Error z value Pr(>|z|)    \n",
       "(Intercept)           -13.112727   0.499644 -26.244  < 2e-16 ***\n",
       "HighBP1                 1.092051   0.030256  36.093  < 2e-16 ***\n",
       "HighChol1               0.691389   0.022068  31.329  < 2e-16 ***\n",
       "CholCheck1              4.215943   0.439428   9.594  < 2e-16 ***\n",
       "BMI                     0.068097   0.001354  50.290  < 2e-16 ***\n",
       "Stroke1                 0.137964   0.029736   4.640 3.49e-06 ***\n",
       "HeartDiseaseorAttack1   0.198472   0.021698   9.147  < 2e-16 ***\n",
       "PhysActivity1          -0.056236   0.019268  -2.919  0.00352 ** \n",
       "HvyAlcoholConsump1     -1.390329   0.098370 -14.134  < 2e-16 ***\n",
       "GenHlth.L               5.313164   0.190556  27.882  < 2e-16 ***\n",
       "GenHlth.Q              -3.190729   0.160632 -19.864  < 2e-16 ***\n",
       "GenHlth.C               1.305693   0.097789  13.352  < 2e-16 ***\n",
       "GenHlth^4              -0.346201   0.041617  -8.319  < 2e-16 ***\n",
       "DiffWalk1               0.091874   0.020930   4.390 1.14e-05 ***\n",
       "Sex1                    0.286336   0.019203  14.911  < 2e-16 ***\n",
       "Age.L                  13.893865   1.322103  10.509  < 2e-16 ***\n",
       "Age.Q                 -10.777468   1.402260  -7.686 1.52e-14 ***\n",
       "Age.C                   5.787556   1.289259   4.489 7.15e-06 ***\n",
       "Age^4                  -2.630472   1.112278  -2.365  0.01803 *  \n",
       "Age^5                   0.265678   0.927551   0.286  0.77455    \n",
       "Age^6                   0.374378   0.747084   0.501  0.61629    \n",
       "Age^7                  -0.073521   0.577098  -0.127  0.89862    \n",
       "Age^8                  -0.182725   0.421441  -0.434  0.66460    \n",
       "Age^9                   0.330349   0.282496   1.169  0.24225    \n",
       "Age^10                 -0.338636   0.168090  -2.015  0.04395 *  \n",
       "Age^11                  0.144276   0.088974   1.622  0.10490    \n",
       "Age^12                  0.020870   0.046535   0.448  0.65381    \n",
       "Income.L               -0.417278   0.029967 -13.924  < 2e-16 ***\n",
       "Income.Q               -0.137681   0.027624  -4.984 6.22e-07 ***\n",
       "Income.C               -0.008977   0.026741  -0.336  0.73710    \n",
       "Income^4               -0.019440   0.026518  -0.733  0.46351    \n",
       "Income^5               -0.047855   0.026035  -1.838  0.06604 .  \n",
       "Income^6               -0.042539   0.025458  -1.671  0.09474 .  \n",
       "Income^7                0.014835   0.025148   0.590  0.55524    \n",
       "---\n",
       "Signif. codes:  0 '***' 0.001 '**' 0.01 '*' 0.05 '.' 0.1 ' ' 1\n",
       "\n",
       "(Dispersion parameter for binomial family taken to be 1)\n",
       "\n",
       "    Null deviance: 163886  on 202943  degrees of freedom\n",
       "Residual deviance: 132546  on 202910  degrees of freedom\n",
       "AIC: 132614\n",
       "\n",
       "Number of Fisher Scoring iterations: 10\n"
      ]
     },
     "metadata": {},
     "output_type": "display_data"
    }
   ],
   "source": [
    "cauchit_best_bic_model = glm(Diabetes_binary ~ HighBP + HighChol + CholCheck + BMI + Stroke\n",
    "                     + HeartDiseaseorAttack + PhysActivity + HvyAlcoholConsump + GenHlth + DiffWalk\n",
    "                     + Sex + Age + Income, data = factorized_training_data, family=binomial(link = \"cauchit\"))\n",
    "summary(cauchit_best_bic_model)"
   ]
  },
  {
   "cell_type": "markdown",
   "id": "b60af8a1-31f2-4f27-bcea-9fa4459e71b8",
   "metadata": {},
   "source": [
    "#### 4.3.4. Link function: cloglog"
   ]
  },
  {
   "cell_type": "code",
   "execution_count": 73,
   "id": "4c9aa628-cc6b-4e99-a326-7ef3875a3575",
   "metadata": {},
   "outputs": [
    {
     "data": {
      "text/plain": [
       "\n",
       "Call:\n",
       "glm(formula = Diabetes_binary ~ HighBP + HighChol + CholCheck + \n",
       "    BMI + Stroke + HeartDiseaseorAttack + PhysActivity + HvyAlcoholConsump + \n",
       "    GenHlth + DiffWalk + Sex + Age + Income, family = binomial(link = \"cloglog\"), \n",
       "    data = factorized_training_data)\n",
       "\n",
       "Deviance Residuals: \n",
       "    Min       1Q   Median       3Q      Max  \n",
       "-4.4000  -0.5369  -0.3184  -0.1692   3.4229  \n",
       "\n",
       "Coefficients:\n",
       "                        Estimate Std. Error z value Pr(>|z|)    \n",
       "(Intercept)           -5.3284198  0.0785080 -67.871  < 2e-16 ***\n",
       "HighBP1                0.6555719  0.0149215  43.935  < 2e-16 ***\n",
       "HighChol1              0.4619122  0.0133067  34.713  < 2e-16 ***\n",
       "CholCheck1             1.1749206  0.0729997  16.095  < 2e-16 ***\n",
       "BMI                    0.0402055  0.0007878  51.036  < 2e-16 ***\n",
       "Stroke1                0.1016274  0.0219233   4.636 3.56e-06 ***\n",
       "HeartDiseaseorAttack1  0.1813625  0.0158972  11.408  < 2e-16 ***\n",
       "PhysActivity1         -0.0519460  0.0132735  -3.913 9.10e-05 ***\n",
       "HvyAlcoholConsump1    -0.7191076  0.0395425 -18.186  < 2e-16 ***\n",
       "GenHlth.L              1.4404361  0.0270421  53.266  < 2e-16 ***\n",
       "GenHlth.Q             -0.4271491  0.0214019 -19.958  < 2e-16 ***\n",
       "GenHlth.C             -0.0479432  0.0164720  -2.911  0.00361 ** \n",
       "GenHlth^4              0.0470604  0.0120049   3.920 8.85e-05 ***\n",
       "DiffWalk1              0.1060332  0.0151445   7.001 2.53e-12 ***\n",
       "Sex1                   0.2214700  0.0125397  17.661  < 2e-16 ***\n",
       "Age.L                  2.1479582  0.0740404  29.011  < 2e-16 ***\n",
       "Age.Q                 -0.8726340  0.0710442 -12.283  < 2e-16 ***\n",
       "Age.C                 -0.1362882  0.0659425  -2.067  0.03876 *  \n",
       "Age^4                 -0.0279529  0.0624754  -0.447  0.65457    \n",
       "Age^5                 -0.1715892  0.0592149  -2.898  0.00376 ** \n",
       "Age^6                  0.0904128  0.0549540   1.645  0.09992 .  \n",
       "Age^7                  0.0434657  0.0500791   0.868  0.38543    \n",
       "Age^8                 -0.0160250  0.0444688  -0.360  0.71857    \n",
       "Age^9                  0.0289521  0.0386228   0.750  0.45349    \n",
       "Age^10                -0.0514108  0.0327736  -1.569  0.11673    \n",
       "Age^11                 0.0086895  0.0279501   0.311  0.75588    \n",
       "Age^12                 0.0448733  0.0232827   1.927  0.05394 .  \n",
       "Income.L              -0.3120047  0.0206449 -15.113  < 2e-16 ***\n",
       "Income.Q              -0.1012305  0.0188240  -5.378 7.54e-08 ***\n",
       "Income.C              -0.0050323  0.0182547  -0.276  0.78280    \n",
       "Income^4              -0.0147623  0.0182003  -0.811  0.41731    \n",
       "Income^5              -0.0384010  0.0179376  -2.141  0.03229 *  \n",
       "Income^6              -0.0216642  0.0176070  -1.230  0.21854    \n",
       "Income^7              -0.0008230  0.0174464  -0.047  0.96238    \n",
       "---\n",
       "Signif. codes:  0 '***' 0.001 '**' 0.01 '*' 0.05 '.' 0.1 ' ' 1\n",
       "\n",
       "(Dispersion parameter for binomial family taken to be 1)\n",
       "\n",
       "    Null deviance: 163886  on 202943  degrees of freedom\n",
       "Residual deviance: 129376  on 202910  degrees of freedom\n",
       "AIC: 129444\n",
       "\n",
       "Number of Fisher Scoring iterations: 8\n"
      ]
     },
     "metadata": {},
     "output_type": "display_data"
    }
   ],
   "source": [
    "cloglog_best_bic_model = glm(Diabetes_binary ~ HighBP + HighChol + CholCheck + BMI + Stroke\n",
    "                     + HeartDiseaseorAttack + PhysActivity + HvyAlcoholConsump + GenHlth + DiffWalk\n",
    "                     + Sex + Age + Income, data = factorized_training_data, family=binomial(link = \"cloglog\"))\n",
    "summary(cloglog_best_bic_model)"
   ]
  },
  {
   "cell_type": "markdown",
   "id": "759facff-e8a7-4cfe-b2cf-93c9fdec8818",
   "metadata": {},
   "source": [
    "#### 4.3.5. Link function selection: probit"
   ]
  },
  {
   "cell_type": "code",
   "execution_count": 74,
   "id": "0b9ba107-a1de-4511-9095-659e7d7ec3a6",
   "metadata": {},
   "outputs": [],
   "source": [
    "# logit: AIC = 128800\n",
    "# probit: AIC = 128539 (best)\n",
    "# cauchit: AIC = 132614\n",
    "# cloglog: AIC = 129444"
   ]
  },
  {
   "cell_type": "markdown",
   "id": "3b9f44c2-705f-413d-b6f3-fe2b25d80a40",
   "metadata": {},
   "source": [
    "### 4.4. Complete model"
   ]
  },
  {
   "cell_type": "code",
   "execution_count": 75,
   "id": "7bea64fd-f3a0-41f8-be98-d7bef320e89a",
   "metadata": {},
   "outputs": [],
   "source": [
    "probit_best_bic_model = glm(Diabetes_binary ~ HighBP + HighChol + CholCheck + BMI + Stroke\n",
    "                     + HeartDiseaseorAttack + PhysActivity + HvyAlcoholConsump + GenHlth + DiffWalk\n",
    "                     + Sex + Age + Income, data = factorized_training_data, family=binomial(link = \"probit\"))"
   ]
  },
  {
   "cell_type": "markdown",
   "id": "61c05914-911b-4e88-a3ce-09f3df6c0fa4",
   "metadata": {},
   "source": [
    "## 5. Model training"
   ]
  },
  {
   "cell_type": "markdown",
   "id": "2bfcfe8e-d044-4f44-8ae1-68fe09a8c593",
   "metadata": {},
   "source": [
    "### 5.1. Prepare test data"
   ]
  },
  {
   "cell_type": "code",
   "execution_count": 180,
   "id": "3e51ca75-c977-4b0d-bded-9be7081f9c87",
   "metadata": {},
   "outputs": [
    {
     "name": "stdout",
     "output_type": "stream",
     "text": [
      "'data.frame':\t202944 obs. of  22 variables:\n",
      " $ HighBP              : Factor w/ 2 levels \"0\",\"1\": 2 2 2 2 2 2 1 1 2 1 ...\n",
      " $ HighChol            : Factor w/ 2 levels \"0\",\"1\": 2 2 1 1 2 2 1 1 2 1 ...\n",
      " $ CholCheck           : Factor w/ 2 levels \"0\",\"1\": 2 2 2 2 2 2 2 2 2 2 ...\n",
      " $ BMI                 : int  40 28 27 30 25 30 24 25 34 26 ...\n",
      " $ Smoker              : Factor w/ 2 levels \"0\",\"1\": 2 1 1 2 2 2 1 2 2 2 ...\n",
      " $ Stroke              : Factor w/ 2 levels \"0\",\"1\": 1 1 1 1 1 1 1 1 1 1 ...\n",
      " $ HeartDiseaseorAttack: Factor w/ 2 levels \"0\",\"1\": 1 1 1 1 1 2 1 1 1 1 ...\n",
      " $ PhysActivity        : Factor w/ 2 levels \"0\",\"1\": 1 1 2 1 2 1 1 2 1 1 ...\n",
      " $ Fruits              : Factor w/ 2 levels \"0\",\"1\": 1 2 2 1 1 2 1 2 2 1 ...\n",
      " $ Veggies             : Factor w/ 2 levels \"0\",\"1\": 2 1 2 1 2 2 2 2 2 2 ...\n",
      " $ HvyAlcoholConsump   : Factor w/ 2 levels \"0\",\"1\": 1 1 1 1 1 1 1 1 1 1 ...\n",
      " $ AnyHealthcare       : Factor w/ 2 levels \"0\",\"1\": 2 2 2 2 2 2 2 2 2 2 ...\n",
      " $ NoDocbcCost         : Factor w/ 2 levels \"0\",\"1\": 1 2 1 1 1 1 1 1 1 1 ...\n",
      " $ GenHlth             : Ord.factor w/ 5 levels \"1\"<\"2\"<\"3\"<\"4\"<..: 5 5 2 3 3 5 2 3 3 3 ...\n",
      " $ MentHlth            : int  18 30 0 0 0 30 0 0 0 0 ...\n",
      " $ PhysHlth            : int  15 30 0 14 0 30 0 0 30 15 ...\n",
      " $ DiffWalk            : Factor w/ 2 levels \"0\",\"1\": 2 2 1 1 2 2 1 1 2 1 ...\n",
      " $ Sex                 : Factor w/ 2 levels \"0\",\"1\": 1 1 1 1 1 1 2 2 1 1 ...\n",
      " $ Age                 : Ord.factor w/ 13 levels \"1\"<\"2\"<\"3\"<\"4\"<..: 9 9 11 9 11 9 8 13 10 7 ...\n",
      " $ Education           : Ord.factor w/ 6 levels \"1\"<\"2\"<\"3\"<\"4\"<..: 4 4 3 6 4 5 4 6 5 5 ...\n",
      " $ Income              : Ord.factor w/ 8 levels \"1\"<\"2\"<\"3\"<\"4\"<..: 3 8 6 7 4 1 3 8 1 7 ...\n",
      " $ Diabetes_binary     : int  0 0 0 0 0 1 0 1 0 0 ...\n"
     ]
    }
   ],
   "source": [
    "str(factorized_training_data)"
   ]
  },
  {
   "cell_type": "code",
   "execution_count": 111,
   "id": "1a706c9f-1e9a-4d09-82cc-9b77e9eaf105",
   "metadata": {},
   "outputs": [
    {
     "name": "stdout",
     "output_type": "stream",
     "text": [
      "'data.frame':\t50736 obs. of  22 variables:\n",
      " $ HighBP              : Factor w/ 2 levels \"0\",\"1\": 1 2 2 2 1 2 2 2 2 2 ...\n",
      " $ HighChol            : Factor w/ 2 levels \"0\",\"1\": 1 2 2 2 2 2 2 2 2 1 ...\n",
      " $ CholCheck           : Factor w/ 2 levels \"0\",\"1\": 1 2 2 2 2 2 2 2 2 2 ...\n",
      " $ BMI                 : int  25 24 25 28 33 28 37 24 24 31 ...\n",
      " $ Smoker              : Factor w/ 2 levels \"0\",\"1\": 2 1 2 1 2 2 2 2 2 1 ...\n",
      " $ Stroke              : Factor w/ 2 levels \"0\",\"1\": 1 1 1 1 2 1 2 1 1 1 ...\n",
      " $ HeartDiseaseorAttack: Factor w/ 2 levels \"0\",\"1\": 1 1 1 1 1 1 2 1 1 1 ...\n",
      " $ PhysActivity        : Factor w/ 2 levels \"0\",\"1\": 2 2 2 1 2 1 1 2 1 1 ...\n",
      " $ Fruits              : Factor w/ 2 levels \"0\",\"1\": 1 2 2 1 1 2 1 1 2 2 ...\n",
      " $ Veggies             : Factor w/ 2 levels \"0\",\"1\": 1 2 2 2 2 2 2 2 2 1 ...\n",
      " $ HvyAlcoholConsump   : Factor w/ 2 levels \"0\",\"1\": 1 1 1 1 1 1 1 1 1 1 ...\n",
      " $ AnyHealthcare       : Factor w/ 2 levels \"0\",\"1\": 1 2 2 2 2 2 2 2 2 2 ...\n",
      " $ NoDocbcCost         : Factor w/ 2 levels \"0\",\"1\": 2 1 1 1 2 1 1 1 1 1 ...\n",
      " $ GenHlth             : Ord.factor w/ 5 levels \"1\"<\"2\"<\"3\"<\"4\"<..: 3 2 2 4 4 3 5 3 5 3 ...\n",
      " $ MentHlth            : int  0 3 0 0 30 6 0 5 0 0 ...\n",
      " $ PhysHlth            : int  0 0 2 0 28 0 0 3 30 5 ...\n",
      " $ DiffWalk            : Factor w/ 2 levels \"0\",\"1\": 1 1 1 2 1 2 2 2 1 1 ...\n",
      " $ Sex                 : Factor w/ 2 levels \"0\",\"1\": 1 1 2 1 1 1 2 2 2 1 ...\n",
      " $ Age                 : Ord.factor w/ 13 levels \"1\"<\"2\"<\"3\"<\"4\"<..: 7 11 10 11 4 9 10 8 9 13 ...\n",
      " $ Education           : Ord.factor w/ 6 levels \"1\"<\"2\"<\"3\"<\"4\"<..: 6 5 6 4 6 4 6 4 3 4 ...\n",
      " $ Income              : Ord.factor w/ 8 levels \"1\"<\"2\"<\"3\"<\"4\"<..: 1 4 8 6 2 6 5 3 1 4 ...\n",
      " $ Diabetes_binary     : int  0 0 0 1 0 0 1 0 0 1 ...\n"
     ]
    }
   ],
   "source": [
    "factorized_testing_data = testing_data\n",
    "\n",
    "for (bin_col in binary_cols)\n",
    "{\n",
    "    factorized_testing_data[,bin_col] = factor(factorized_testing_data[,bin_col])\n",
    "}\n",
    "\n",
    "for (ord_col in ordinal_cols)\n",
    "{\n",
    "    factorized_testing_data[,ord_col] = factor(factorized_testing_data[,ord_col], ordered = T)\n",
    "}\n",
    "\n",
    "# Remove \"Index\" columns\n",
    "if (\"Index\" %in% colnames(factorized_testing_data))\n",
    "{\n",
    "    factorized_testing_data = subset(factorized_testing_data, select = -Index)\n",
    "}\n",
    "\n",
    "str(factorized_testing_data)"
   ]
  },
  {
   "cell_type": "markdown",
   "id": "25333161-1e1c-4c8e-9ad4-101121ee0dd7",
   "metadata": {},
   "source": [
    "### 5.2. Train the model"
   ]
  },
  {
   "cell_type": "code",
   "execution_count": 233,
   "id": "0a7f9f6a-434d-4bb1-b534-5c64e89b05ec",
   "metadata": {},
   "outputs": [],
   "source": [
    "predictions <- predict(probit_best_bic_model, newdata = factorized_testing_data, type = \"response\")\n",
    "binary_predictions <- ifelse(predictions >= 0.5, 1, 0)"
   ]
  },
  {
   "cell_type": "markdown",
   "id": "f3ed05c3-2eb7-44eb-adb8-af266057316a",
   "metadata": {},
   "source": [
    "## 6. Model evaluating"
   ]
  },
  {
   "cell_type": "markdown",
   "id": "f829a41a-3295-4bcf-8951-0c00116303b9",
   "metadata": {},
   "source": [
    "### 5.2. Evaluate model"
   ]
  },
  {
   "cell_type": "code",
   "execution_count": 234,
   "id": "deabd3db-cb55-4fd6-893c-7992eb94c058",
   "metadata": {},
   "outputs": [
    {
     "data": {
      "text/html": [
       "50736"
      ],
      "text/latex": [
       "50736"
      ],
      "text/markdown": [
       "50736"
      ],
      "text/plain": [
       "[1] 50736"
      ]
     },
     "metadata": {},
     "output_type": "display_data"
    }
   ],
   "source": [
    "length(binary_predictions)"
   ]
  },
  {
   "cell_type": "code",
   "execution_count": 235,
   "id": "7ce5f7bc-0329-4b7f-a2bf-97c2ac46bcbb",
   "metadata": {},
   "outputs": [],
   "source": [
    "actual_data = factorized_testing_data$Diabetes_binary"
   ]
  },
  {
   "cell_type": "code",
   "execution_count": 236,
   "id": "9147bf94-addb-441a-9d39-fc54e9265aba",
   "metadata": {},
   "outputs": [
    {
     "data": {
      "text/html": [
       "50736"
      ],
      "text/latex": [
       "50736"
      ],
      "text/markdown": [
       "50736"
      ],
      "text/plain": [
       "[1] 50736"
      ]
     },
     "metadata": {},
     "output_type": "display_data"
    }
   ],
   "source": [
    "length(actual_data)"
   ]
  },
  {
   "cell_type": "code",
   "execution_count": 237,
   "id": "08669449-d3ae-4545-af7e-ad61b9a2e17a",
   "metadata": {},
   "outputs": [
    {
     "data": {
      "text/plain": [
       "Confusion Matrix and Statistics\n",
       "\n",
       "                  actual_data\n",
       "binary_predictions     0     1\n",
       "                 0 42982  6135\n",
       "                 1   687   932\n",
       "                                          \n",
       "               Accuracy : 0.8655          \n",
       "                 95% CI : (0.8625, 0.8685)\n",
       "    No Information Rate : 0.8607          \n",
       "    P-Value [Acc > NIR] : 0.0008197       \n",
       "                                          \n",
       "                  Kappa : 0.1716          \n",
       "                                          \n",
       " Mcnemar's Test P-Value : < 2.2e-16       \n",
       "                                          \n",
       "            Sensitivity : 0.9843          \n",
       "            Specificity : 0.1319          \n",
       "         Pos Pred Value : 0.8751          \n",
       "         Neg Pred Value : 0.5757          \n",
       "             Prevalence : 0.8607          \n",
       "         Detection Rate : 0.8472          \n",
       "   Detection Prevalence : 0.9681          \n",
       "      Balanced Accuracy : 0.5581          \n",
       "                                          \n",
       "       'Positive' Class : 0               \n",
       "                                          "
      ]
     },
     "metadata": {},
     "output_type": "display_data"
    }
   ],
   "source": [
    "confusionMatrix(table(binary_predictions, actual_data))"
   ]
  },
  {
   "cell_type": "code",
   "execution_count": 238,
   "id": "b7626257-7331-476e-a2c0-092eb5973397",
   "metadata": {},
   "outputs": [],
   "source": [
    "# Accuracy = (Number of correct predictions) / (Overall number of predictions)\n",
    "# Precision = (True Positive) / (True Positive + False Positive)\n",
    "# Recall = (True Positive) / (True Positive + False Negative)\n",
    "# F1 = 2 [(Recall * Precision) / (Recall + Precision)]\n",
    "\n",
    "evaluate_classification_model = function(binary_predictions, binary_real_data)\n",
    "{\n",
    "    accuracy = mean(binary_predictions == binary_real_data)\n",
    "    precision <- sum(binary_predictions == 1 & binary_real_data == 1) / sum(binary_predictions == 1)\n",
    "    recall <- sum(binary_predictions == 1 & binary_real_data == 1) / sum(binary_real_data == 1)\n",
    "    f1_score <- 2 * precision * recall / (precision + recall)\n",
    "    \n",
    "    # Print the results\n",
    "    cat(\"Accuracy:\", accuracy, \"\\n\")\n",
    "    cat(\"Precision:\", precision, \"\\n\")\n",
    "    cat(\"Recall:\", recall, \"\\n\")\n",
    "    cat(\"F1 Score:\", f1_score, \"\\n\")\n",
    "}"
   ]
  },
  {
   "cell_type": "code",
   "execution_count": 239,
   "id": "3a114c8b-7335-4b9d-ad9c-4636787bca39",
   "metadata": {},
   "outputs": [
    {
     "name": "stdout",
     "output_type": "stream",
     "text": [
      "Accuracy: 0.8655393 \n",
      "Precision: 0.575664 \n",
      "Recall: 0.1318806 \n",
      "F1 Score: 0.2145982 \n"
     ]
    }
   ],
   "source": [
    "evaluate_classification_model(binary_predictions, actual_data)"
   ]
  },
  {
   "cell_type": "markdown",
   "id": "f9fe4666-429b-4865-9228-1f928fabf378",
   "metadata": {},
   "source": [
    "## X. Reserved"
   ]
  },
  {
   "cell_type": "markdown",
   "id": "703b5601-549b-4e94-9da9-b614061db342",
   "metadata": {},
   "source": [
    "#### 3.2.1. BMI"
   ]
  },
  {
   "cell_type": "code",
   "execution_count": 56,
   "id": "6b01b00f-31d2-4d67-b49c-f14cf2429cbf",
   "metadata": {},
   "outputs": [
    {
     "data": {
      "text/plain": [
       "   Min. 1st Qu.  Median    Mean 3rd Qu.    Max. \n",
       "  12.00   24.00   27.00   28.38   31.00   98.00 "
      ]
     },
     "metadata": {},
     "output_type": "display_data"
    }
   ],
   "source": [
    "summary(df$BMI)"
   ]
  },
  {
   "cell_type": "code",
   "execution_count": 57,
   "id": "79300f0e-ef0c-4b21-9d08-d12c7600c5da",
   "metadata": {},
   "outputs": [],
   "source": [
    "# We see maximum value of BMI is 98 which is abnormal."
   ]
  },
  {
   "cell_type": "code",
   "execution_count": 58,
   "id": "f5bad478-6901-42f7-ab1a-26bbf20d536a",
   "metadata": {},
   "outputs": [
    {
     "data": {
      "image/png": "[encoded data removed]",
      "text/plain": [
       "plot without title"
      ]
     },
     "metadata": {
      "image/png": {
       "height": 420,
       "width": 420
      }
     },
     "output_type": "display_data"
    }
   ],
   "source": [
    "# Boxplot data\n",
    "boxplot(df$BMI)"
   ]
  },
  {
   "cell_type": "code",
   "execution_count": 59,
   "id": "bef55b95-5eff-4989-9da6-a3fa15ac74b7",
   "metadata": {},
   "outputs": [],
   "source": [
    "# We see that dataset has several outliers in \"BMI\" column."
   ]
  },
  {
   "cell_type": "code",
   "execution_count": 60,
   "id": "9ae8423d-e885-4e72-844f-d186196d7d2d",
   "metadata": {},
   "outputs": [],
   "source": [
    "BMI_q1 = quantile(df$BMI, 0.25)\n",
    "BMI_q3 = quantile(df$BMI, 0.75)\n",
    "BMI_iqr = BMI_q3 - BMI_q1\n",
    "BMI_lower_bound = BMI_q1 - 1.5 * BMI_iqr\n",
    "BMI_upper_bound = BMI_q3 + 1.5 * BMI_iqr"
   ]
  },
  {
   "cell_type": "code",
   "execution_count": 61,
   "id": "22f02777-1565-494c-ae2d-aa94b22e43f1",
   "metadata": {},
   "outputs": [],
   "source": [
    "BMI_outlier_df = df[df$BMI < BMI_lower_bound | df$BMI > BMI_upper_bound, ]"
   ]
  },
  {
   "cell_type": "code",
   "execution_count": 62,
   "id": "cb9a8765-6f3f-42c9-90e5-3f51c6b9b85a",
   "metadata": {},
   "outputs": [
    {
     "data": {
      "text/html": [
       "3.8816619362977"
      ],
      "text/latex": [
       "3.8816619362977"
      ],
      "text/markdown": [
       "3.8816619362977"
      ],
      "text/plain": [
       "[1] 3.881662"
      ]
     },
     "metadata": {},
     "output_type": "display_data"
    }
   ],
   "source": [
    "nrow(BMI_outlier_df) / nrow(df) * 100"
   ]
  },
  {
   "cell_type": "code",
   "execution_count": 63,
   "id": "12272e2c-17f0-4555-a366-8cebdc0113d1",
   "metadata": {},
   "outputs": [],
   "source": [
    "# We see that the percentage of outliers is approximately about 4%.\n",
    "# Extreme values of BMI that higher 40 could affect the model.\n",
    "\n",
    "# To standardize the BMI index, WHO recommendations is used.\n",
    "# Reference: https://www.who.int/europe/news-room/fact-sheets/item/a-healthy-lifestyle---who-recommendations\n",
    "\n",
    "# |   BMI     | Nutritional Status | Categorical |\n",
    "# |-----------|--------------------|-------------|\n",
    "# | < 18.5    | Underweight        |      1      |\n",
    "# | 18.5–24.9 | Normal weight      |      2      |\n",
    "# | 25.0–29.9 | Pre-obesity        |      3      |\n",
    "# | 30.0–34.9 | Obesity class I    |      4      |\n",
    "# | 35.0–39.9 | Obesity class II   |      5      |\n",
    "# | > 40      | Obesity class III  |      6      |\n",
    "\n",
    "new_column = rep(0, nrow(df))\n",
    "BMI_index = which(colnames(df) == \"BMI\")\n",
    "df_std_1 = cbind(df[,1:BMI_index], StdBMI = new_column, df[,(BMI_index + 1):ncol(df)])"
   ]
  },
  {
   "cell_type": "code",
   "execution_count": 64,
   "id": "9837d382-4a36-455d-b9bb-d6a10411e334",
   "metadata": {
    "scrolled": true
   },
   "outputs": [
    {
     "data": {
      "text/html": [
       "<table class=\"dataframe\">\n",
       "<caption>A data.frame: 253680 × 24</caption>\n",
       "<thead>\n",
       "\t<tr><th scope=col>Index</th><th scope=col>HighBP</th><th scope=col>HighChol</th><th scope=col>CholCheck</th><th scope=col>BMI</th><th scope=col>StdBMI</th><th scope=col>Smoker</th><th scope=col>Stroke</th><th scope=col>HeartDiseaseorAttack</th><th scope=col>PhysActivity</th><th scope=col>...</th><th scope=col>NoDocbcCost</th><th scope=col>GenHlth</th><th scope=col>MentHlth</th><th scope=col>PhysHlth</th><th scope=col>DiffWalk</th><th scope=col>Sex</th><th scope=col>Age</th><th scope=col>Education</th><th scope=col>Income</th><th scope=col>Diabetes_binary</th></tr>\n",
       "\t<tr><th scope=col>&lt;int&gt;</th><th scope=col>&lt;int&gt;</th><th scope=col>&lt;int&gt;</th><th scope=col>&lt;int&gt;</th><th scope=col>&lt;int&gt;</th><th scope=col>&lt;dbl&gt;</th><th scope=col>&lt;int&gt;</th><th scope=col>&lt;int&gt;</th><th scope=col>&lt;int&gt;</th><th scope=col>&lt;int&gt;</th><th scope=col>...</th><th scope=col>&lt;int&gt;</th><th scope=col>&lt;int&gt;</th><th scope=col>&lt;int&gt;</th><th scope=col>&lt;int&gt;</th><th scope=col>&lt;int&gt;</th><th scope=col>&lt;int&gt;</th><th scope=col>&lt;int&gt;</th><th scope=col>&lt;int&gt;</th><th scope=col>&lt;int&gt;</th><th scope=col>&lt;int&gt;</th></tr>\n",
       "</thead>\n",
       "<tbody>\n",
       "\t<tr><td> 0</td><td>1</td><td>1</td><td>1</td><td>40</td><td>0</td><td>1</td><td>0</td><td>0</td><td>0</td><td>...</td><td>0</td><td>5</td><td>18</td><td>15</td><td>1</td><td>0</td><td> 9</td><td>4</td><td>3</td><td>0</td></tr>\n",
       "\t<tr><td> 1</td><td>0</td><td>0</td><td>0</td><td>25</td><td>0</td><td>1</td><td>0</td><td>0</td><td>1</td><td>...</td><td>1</td><td>3</td><td> 0</td><td> 0</td><td>0</td><td>0</td><td> 7</td><td>6</td><td>1</td><td>0</td></tr>\n",
       "\t<tr><td> 2</td><td>1</td><td>1</td><td>1</td><td>28</td><td>0</td><td>0</td><td>0</td><td>0</td><td>0</td><td>...</td><td>1</td><td>5</td><td>30</td><td>30</td><td>1</td><td>0</td><td> 9</td><td>4</td><td>8</td><td>0</td></tr>\n",
       "\t<tr><td> 3</td><td>1</td><td>0</td><td>1</td><td>27</td><td>0</td><td>0</td><td>0</td><td>0</td><td>1</td><td>...</td><td>0</td><td>2</td><td> 0</td><td> 0</td><td>0</td><td>0</td><td>11</td><td>3</td><td>6</td><td>0</td></tr>\n",
       "\t<tr><td> 4</td><td>1</td><td>1</td><td>1</td><td>24</td><td>0</td><td>0</td><td>0</td><td>0</td><td>1</td><td>...</td><td>0</td><td>2</td><td> 3</td><td> 0</td><td>0</td><td>0</td><td>11</td><td>5</td><td>4</td><td>0</td></tr>\n",
       "\t<tr><td> 5</td><td>1</td><td>1</td><td>1</td><td>25</td><td>0</td><td>1</td><td>0</td><td>0</td><td>1</td><td>...</td><td>0</td><td>2</td><td> 0</td><td> 2</td><td>0</td><td>1</td><td>10</td><td>6</td><td>8</td><td>0</td></tr>\n",
       "\t<tr><td> 6</td><td>1</td><td>0</td><td>1</td><td>30</td><td>0</td><td>1</td><td>0</td><td>0</td><td>0</td><td>...</td><td>0</td><td>3</td><td> 0</td><td>14</td><td>0</td><td>0</td><td> 9</td><td>6</td><td>7</td><td>0</td></tr>\n",
       "\t<tr><td> 7</td><td>1</td><td>1</td><td>1</td><td>25</td><td>0</td><td>1</td><td>0</td><td>0</td><td>1</td><td>...</td><td>0</td><td>3</td><td> 0</td><td> 0</td><td>1</td><td>0</td><td>11</td><td>4</td><td>4</td><td>0</td></tr>\n",
       "\t<tr><td> 8</td><td>1</td><td>1</td><td>1</td><td>30</td><td>0</td><td>1</td><td>0</td><td>1</td><td>0</td><td>...</td><td>0</td><td>5</td><td>30</td><td>30</td><td>1</td><td>0</td><td> 9</td><td>5</td><td>1</td><td>1</td></tr>\n",
       "\t<tr><td> 9</td><td>0</td><td>0</td><td>1</td><td>24</td><td>0</td><td>0</td><td>0</td><td>0</td><td>0</td><td>...</td><td>0</td><td>2</td><td> 0</td><td> 0</td><td>0</td><td>1</td><td> 8</td><td>4</td><td>3</td><td>0</td></tr>\n",
       "\t<tr><td>10</td><td>0</td><td>0</td><td>1</td><td>25</td><td>0</td><td>1</td><td>0</td><td>0</td><td>1</td><td>...</td><td>0</td><td>3</td><td> 0</td><td> 0</td><td>0</td><td>1</td><td>13</td><td>6</td><td>8</td><td>1</td></tr>\n",
       "\t<tr><td>11</td><td>1</td><td>1</td><td>1</td><td>34</td><td>0</td><td>1</td><td>0</td><td>0</td><td>0</td><td>...</td><td>0</td><td>3</td><td> 0</td><td>30</td><td>1</td><td>0</td><td>10</td><td>5</td><td>1</td><td>0</td></tr>\n",
       "\t<tr><td>12</td><td>0</td><td>0</td><td>1</td><td>26</td><td>0</td><td>1</td><td>0</td><td>0</td><td>0</td><td>...</td><td>0</td><td>3</td><td> 0</td><td>15</td><td>0</td><td>0</td><td> 7</td><td>5</td><td>7</td><td>0</td></tr>\n",
       "\t<tr><td>13</td><td>1</td><td>1</td><td>1</td><td>28</td><td>0</td><td>0</td><td>0</td><td>0</td><td>0</td><td>...</td><td>0</td><td>4</td><td> 0</td><td> 0</td><td>1</td><td>0</td><td>11</td><td>4</td><td>6</td><td>1</td></tr>\n",
       "\t<tr><td>14</td><td>0</td><td>1</td><td>1</td><td>33</td><td>0</td><td>1</td><td>1</td><td>0</td><td>1</td><td>...</td><td>1</td><td>4</td><td>30</td><td>28</td><td>0</td><td>0</td><td> 4</td><td>6</td><td>2</td><td>0</td></tr>\n",
       "\t<tr><td>15</td><td>1</td><td>0</td><td>1</td><td>33</td><td>0</td><td>0</td><td>0</td><td>0</td><td>1</td><td>...</td><td>0</td><td>2</td><td> 5</td><td> 0</td><td>0</td><td>0</td><td> 6</td><td>6</td><td>8</td><td>0</td></tr>\n",
       "\t<tr><td>16</td><td>1</td><td>1</td><td>1</td><td>21</td><td>0</td><td>0</td><td>0</td><td>0</td><td>1</td><td>...</td><td>0</td><td>3</td><td> 0</td><td> 0</td><td>0</td><td>0</td><td>10</td><td>4</td><td>3</td><td>0</td></tr>\n",
       "\t<tr><td>17</td><td>0</td><td>0</td><td>1</td><td>23</td><td>0</td><td>1</td><td>0</td><td>0</td><td>1</td><td>...</td><td>0</td><td>2</td><td> 0</td><td> 0</td><td>0</td><td>1</td><td> 7</td><td>5</td><td>6</td><td>1</td></tr>\n",
       "\t<tr><td>18</td><td>0</td><td>0</td><td>0</td><td>23</td><td>0</td><td>0</td><td>0</td><td>0</td><td>0</td><td>...</td><td>0</td><td>2</td><td>15</td><td> 0</td><td>0</td><td>0</td><td> 2</td><td>6</td><td>7</td><td>0</td></tr>\n",
       "\t<tr><td>19</td><td>0</td><td>1</td><td>1</td><td>28</td><td>0</td><td>0</td><td>0</td><td>0</td><td>0</td><td>...</td><td>0</td><td>2</td><td>10</td><td> 0</td><td>0</td><td>1</td><td> 4</td><td>6</td><td>8</td><td>0</td></tr>\n",
       "\t<tr><td>20</td><td>1</td><td>1</td><td>1</td><td>22</td><td>0</td><td>0</td><td>1</td><td>1</td><td>0</td><td>...</td><td>0</td><td>3</td><td>30</td><td> 0</td><td>1</td><td>0</td><td>12</td><td>4</td><td>4</td><td>0</td></tr>\n",
       "\t<tr><td>21</td><td>1</td><td>1</td><td>1</td><td>38</td><td>0</td><td>1</td><td>0</td><td>0</td><td>0</td><td>...</td><td>0</td><td>5</td><td>15</td><td>30</td><td>1</td><td>0</td><td>13</td><td>2</td><td>3</td><td>0</td></tr>\n",
       "\t<tr><td>22</td><td>0</td><td>0</td><td>1</td><td>28</td><td>0</td><td>1</td><td>0</td><td>0</td><td>0</td><td>...</td><td>0</td><td>3</td><td> 0</td><td> 7</td><td>0</td><td>1</td><td> 5</td><td>5</td><td>5</td><td>0</td></tr>\n",
       "\t<tr><td>23</td><td>1</td><td>0</td><td>1</td><td>27</td><td>0</td><td>0</td><td>0</td><td>0</td><td>1</td><td>...</td><td>0</td><td>1</td><td> 0</td><td> 0</td><td>0</td><td>0</td><td>13</td><td>5</td><td>4</td><td>1</td></tr>\n",
       "\t<tr><td>24</td><td>1</td><td>1</td><td>1</td><td>28</td><td>0</td><td>1</td><td>0</td><td>0</td><td>0</td><td>...</td><td>0</td><td>3</td><td> 6</td><td> 0</td><td>1</td><td>0</td><td> 9</td><td>4</td><td>6</td><td>0</td></tr>\n",
       "\t<tr><td>25</td><td>0</td><td>0</td><td>1</td><td>32</td><td>0</td><td>0</td><td>0</td><td>0</td><td>1</td><td>...</td><td>0</td><td>2</td><td> 0</td><td> 0</td><td>0</td><td>0</td><td> 5</td><td>6</td><td>8</td><td>0</td></tr>\n",
       "\t<tr><td>26</td><td>1</td><td>1</td><td>1</td><td>37</td><td>0</td><td>1</td><td>1</td><td>1</td><td>0</td><td>...</td><td>0</td><td>5</td><td> 0</td><td> 0</td><td>1</td><td>1</td><td>10</td><td>6</td><td>5</td><td>1</td></tr>\n",
       "\t<tr><td>27</td><td>1</td><td>1</td><td>1</td><td>28</td><td>0</td><td>1</td><td>0</td><td>1</td><td>0</td><td>...</td><td>0</td><td>4</td><td> 0</td><td> 0</td><td>0</td><td>1</td><td>12</td><td>2</td><td>4</td><td>1</td></tr>\n",
       "\t<tr><td>28</td><td>1</td><td>1</td><td>1</td><td>27</td><td>0</td><td>1</td><td>0</td><td>0</td><td>0</td><td>...</td><td>0</td><td>4</td><td>20</td><td>20</td><td>1</td><td>0</td><td> 8</td><td>4</td><td>7</td><td>1</td></tr>\n",
       "\t<tr><td>29</td><td>0</td><td>1</td><td>1</td><td>31</td><td>0</td><td>1</td><td>0</td><td>0</td><td>1</td><td>...</td><td>0</td><td>1</td><td> 0</td><td> 0</td><td>0</td><td>1</td><td>12</td><td>6</td><td>8</td><td>0</td></tr>\n",
       "\t<tr><td>...</td><td>...</td><td>...</td><td>...</td><td>...</td><td>...</td><td>...</td><td>...</td><td>...</td><td>...</td><td></td><td>...</td><td>...</td><td>...</td><td>...</td><td>...</td><td>...</td><td>...</td><td>...</td><td>...</td><td>...</td></tr>\n",
       "\t<tr><td>253650</td><td>1</td><td>0</td><td>1</td><td>27</td><td>0</td><td>0</td><td>0</td><td>0</td><td>1</td><td>...</td><td>0</td><td>4</td><td> 0</td><td> 0</td><td>0</td><td>0</td><td> 5</td><td>4</td><td>2</td><td>0</td></tr>\n",
       "\t<tr><td>253651</td><td>0</td><td>0</td><td>1</td><td>24</td><td>0</td><td>0</td><td>0</td><td>0</td><td>1</td><td>...</td><td>1</td><td>1</td><td> 0</td><td> 0</td><td>0</td><td>1</td><td> 2</td><td>6</td><td>3</td><td>0</td></tr>\n",
       "\t<tr><td>253652</td><td>0</td><td>1</td><td>1</td><td>27</td><td>0</td><td>0</td><td>0</td><td>0</td><td>1</td><td>...</td><td>0</td><td>4</td><td> 0</td><td>30</td><td>0</td><td>1</td><td>11</td><td>2</td><td>3</td><td>1</td></tr>\n",
       "\t<tr><td>253653</td><td>0</td><td>0</td><td>1</td><td>33</td><td>0</td><td>1</td><td>0</td><td>0</td><td>0</td><td>...</td><td>0</td><td>4</td><td> 0</td><td>15</td><td>0</td><td>1</td><td>10</td><td>6</td><td>3</td><td>0</td></tr>\n",
       "\t<tr><td>253654</td><td>0</td><td>0</td><td>1</td><td>26</td><td>0</td><td>1</td><td>0</td><td>0</td><td>1</td><td>...</td><td>0</td><td>2</td><td> 1</td><td> 0</td><td>0</td><td>1</td><td> 3</td><td>3</td><td>1</td><td>0</td></tr>\n",
       "\t<tr><td>253655</td><td>0</td><td>0</td><td>1</td><td>28</td><td>0</td><td>0</td><td>0</td><td>0</td><td>1</td><td>...</td><td>0</td><td>2</td><td> 0</td><td> 0</td><td>0</td><td>0</td><td> 2</td><td>6</td><td>4</td><td>0</td></tr>\n",
       "\t<tr><td>253656</td><td>0</td><td>0</td><td>1</td><td>25</td><td>0</td><td>0</td><td>0</td><td>0</td><td>1</td><td>...</td><td>0</td><td>1</td><td> 0</td><td> 0</td><td>0</td><td>0</td><td> 4</td><td>6</td><td>8</td><td>0</td></tr>\n",
       "\t<tr><td>253657</td><td>0</td><td>1</td><td>1</td><td>24</td><td>0</td><td>0</td><td>0</td><td>0</td><td>0</td><td>...</td><td>0</td><td>3</td><td> 0</td><td> 0</td><td>0</td><td>0</td><td> 7</td><td>5</td><td>3</td><td>0</td></tr>\n",
       "\t<tr><td>253658</td><td>0</td><td>0</td><td>0</td><td>27</td><td>0</td><td>0</td><td>0</td><td>0</td><td>1</td><td>...</td><td>1</td><td>2</td><td> 0</td><td> 0</td><td>0</td><td>0</td><td> 3</td><td>6</td><td>5</td><td>0</td></tr>\n",
       "\t<tr><td>253659</td><td>0</td><td>1</td><td>1</td><td>37</td><td>0</td><td>0</td><td>0</td><td>0</td><td>0</td><td>...</td><td>0</td><td>4</td><td> 0</td><td> 0</td><td>0</td><td>0</td><td> 6</td><td>4</td><td>1</td><td>1</td></tr>\n",
       "\t<tr><td>253660</td><td>0</td><td>1</td><td>1</td><td>34</td><td>0</td><td>1</td><td>0</td><td>0</td><td>0</td><td>...</td><td>0</td><td>3</td><td> 0</td><td> 2</td><td>1</td><td>0</td><td> 7</td><td>4</td><td>3</td><td>0</td></tr>\n",
       "\t<tr><td>253661</td><td>1</td><td>0</td><td>1</td><td>33</td><td>0</td><td>0</td><td>0</td><td>0</td><td>1</td><td>...</td><td>1</td><td>3</td><td> 0</td><td> 2</td><td>1</td><td>0</td><td> 6</td><td>6</td><td>6</td><td>0</td></tr>\n",
       "\t<tr><td>253662</td><td>0</td><td>0</td><td>1</td><td>16</td><td>0</td><td>0</td><td>0</td><td>0</td><td>1</td><td>...</td><td>0</td><td>1</td><td> 0</td><td> 0</td><td>0</td><td>0</td><td> 5</td><td>6</td><td>2</td><td>0</td></tr>\n",
       "\t<tr><td>253663</td><td>0</td><td>0</td><td>1</td><td>23</td><td>0</td><td>0</td><td>0</td><td>0</td><td>0</td><td>...</td><td>1</td><td>2</td><td> 0</td><td>30</td><td>0</td><td>0</td><td> 5</td><td>6</td><td>2</td><td>0</td></tr>\n",
       "\t<tr><td>253664</td><td>0</td><td>1</td><td>1</td><td>29</td><td>0</td><td>1</td><td>0</td><td>0</td><td>0</td><td>...</td><td>0</td><td>3</td><td> 0</td><td> 0</td><td>0</td><td>0</td><td> 6</td><td>6</td><td>4</td><td>0</td></tr>\n",
       "\t<tr><td>253665</td><td>0</td><td>1</td><td>1</td><td>17</td><td>0</td><td>0</td><td>0</td><td>0</td><td>0</td><td>...</td><td>1</td><td>4</td><td>30</td><td>30</td><td>0</td><td>0</td><td> 5</td><td>4</td><td>1</td><td>0</td></tr>\n",
       "\t<tr><td>253666</td><td>1</td><td>0</td><td>1</td><td>23</td><td>0</td><td>0</td><td>0</td><td>0</td><td>0</td><td>...</td><td>0</td><td>3</td><td> 0</td><td>15</td><td>0</td><td>0</td><td> 6</td><td>5</td><td>2</td><td>0</td></tr>\n",
       "\t<tr><td>253667</td><td>1</td><td>1</td><td>1</td><td>28</td><td>0</td><td>1</td><td>0</td><td>0</td><td>0</td><td>...</td><td>0</td><td>3</td><td> 0</td><td> 0</td><td>0</td><td>0</td><td>11</td><td>4</td><td>7</td><td>0</td></tr>\n",
       "\t<tr><td>253668</td><td>0</td><td>1</td><td>1</td><td>29</td><td>0</td><td>1</td><td>0</td><td>1</td><td>0</td><td>...</td><td>0</td><td>2</td><td> 0</td><td> 0</td><td>1</td><td>1</td><td>10</td><td>3</td><td>6</td><td>1</td></tr>\n",
       "\t<tr><td>253669</td><td>0</td><td>1</td><td>1</td><td>27</td><td>0</td><td>0</td><td>0</td><td>0</td><td>0</td><td>...</td><td>1</td><td>1</td><td> 0</td><td> 3</td><td>0</td><td>1</td><td> 6</td><td>2</td><td>4</td><td>0</td></tr>\n",
       "\t<tr><td>253670</td><td>1</td><td>1</td><td>1</td><td>25</td><td>0</td><td>0</td><td>0</td><td>1</td><td>0</td><td>...</td><td>0</td><td>5</td><td>15</td><td> 0</td><td>1</td><td>0</td><td>13</td><td>6</td><td>4</td><td>1</td></tr>\n",
       "\t<tr><td>253671</td><td>1</td><td>1</td><td>1</td><td>23</td><td>0</td><td>0</td><td>1</td><td>1</td><td>0</td><td>...</td><td>1</td><td>4</td><td> 0</td><td> 5</td><td>0</td><td>1</td><td> 8</td><td>3</td><td>2</td><td>0</td></tr>\n",
       "\t<tr><td>253672</td><td>1</td><td>0</td><td>1</td><td>30</td><td>0</td><td>1</td><td>0</td><td>1</td><td>1</td><td>...</td><td>0</td><td>3</td><td> 0</td><td> 0</td><td>0</td><td>1</td><td>12</td><td>2</td><td>1</td><td>0</td></tr>\n",
       "\t<tr><td>253673</td><td>1</td><td>0</td><td>1</td><td>42</td><td>0</td><td>0</td><td>0</td><td>0</td><td>1</td><td>...</td><td>0</td><td>3</td><td>14</td><td> 4</td><td>0</td><td>1</td><td> 3</td><td>6</td><td>8</td><td>0</td></tr>\n",
       "\t<tr><td>253674</td><td>0</td><td>0</td><td>1</td><td>27</td><td>0</td><td>0</td><td>0</td><td>0</td><td>0</td><td>...</td><td>0</td><td>1</td><td> 0</td><td> 0</td><td>0</td><td>0</td><td> 3</td><td>6</td><td>5</td><td>0</td></tr>\n",
       "\t<tr><td>253675</td><td>1</td><td>1</td><td>1</td><td>45</td><td>0</td><td>0</td><td>0</td><td>0</td><td>0</td><td>...</td><td>0</td><td>3</td><td> 0</td><td> 5</td><td>0</td><td>1</td><td> 5</td><td>6</td><td>7</td><td>0</td></tr>\n",
       "\t<tr><td>253676</td><td>1</td><td>1</td><td>1</td><td>18</td><td>0</td><td>0</td><td>0</td><td>0</td><td>0</td><td>...</td><td>0</td><td>4</td><td> 0</td><td> 0</td><td>1</td><td>0</td><td>11</td><td>2</td><td>4</td><td>1</td></tr>\n",
       "\t<tr><td>253677</td><td>0</td><td>0</td><td>1</td><td>28</td><td>0</td><td>0</td><td>0</td><td>0</td><td>1</td><td>...</td><td>0</td><td>1</td><td> 0</td><td> 0</td><td>0</td><td>0</td><td> 2</td><td>5</td><td>2</td><td>0</td></tr>\n",
       "\t<tr><td>253678</td><td>1</td><td>0</td><td>1</td><td>23</td><td>0</td><td>0</td><td>0</td><td>0</td><td>0</td><td>...</td><td>0</td><td>3</td><td> 0</td><td> 0</td><td>0</td><td>1</td><td> 7</td><td>5</td><td>1</td><td>0</td></tr>\n",
       "\t<tr><td>253679</td><td>1</td><td>1</td><td>1</td><td>25</td><td>0</td><td>0</td><td>0</td><td>1</td><td>1</td><td>...</td><td>0</td><td>2</td><td> 0</td><td> 0</td><td>0</td><td>0</td><td> 9</td><td>6</td><td>2</td><td>1</td></tr>\n",
       "</tbody>\n",
       "</table>\n"
      ],
      "text/latex": [
       "A data.frame: 253680 × 24\n",
       "\\begin{tabular}{lllllllllllllllllllll}\n",
       " Index & HighBP & HighChol & CholCheck & BMI & StdBMI & Smoker & Stroke & HeartDiseaseorAttack & PhysActivity & ... & NoDocbcCost & GenHlth & MentHlth & PhysHlth & DiffWalk & Sex & Age & Education & Income & Diabetes\\_binary\\\\\n",
       " <int> & <int> & <int> & <int> & <int> & <dbl> & <int> & <int> & <int> & <int> & ... & <int> & <int> & <int> & <int> & <int> & <int> & <int> & <int> & <int> & <int>\\\\\n",
       "\\hline\n",
       "\t  0 & 1 & 1 & 1 & 40 & 0 & 1 & 0 & 0 & 0 & ... & 0 & 5 & 18 & 15 & 1 & 0 &  9 & 4 & 3 & 0\\\\\n",
       "\t  1 & 0 & 0 & 0 & 25 & 0 & 1 & 0 & 0 & 1 & ... & 1 & 3 &  0 &  0 & 0 & 0 &  7 & 6 & 1 & 0\\\\\n",
       "\t  2 & 1 & 1 & 1 & 28 & 0 & 0 & 0 & 0 & 0 & ... & 1 & 5 & 30 & 30 & 1 & 0 &  9 & 4 & 8 & 0\\\\\n",
       "\t  3 & 1 & 0 & 1 & 27 & 0 & 0 & 0 & 0 & 1 & ... & 0 & 2 &  0 &  0 & 0 & 0 & 11 & 3 & 6 & 0\\\\\n",
       "\t  4 & 1 & 1 & 1 & 24 & 0 & 0 & 0 & 0 & 1 & ... & 0 & 2 &  3 &  0 & 0 & 0 & 11 & 5 & 4 & 0\\\\\n",
       "\t  5 & 1 & 1 & 1 & 25 & 0 & 1 & 0 & 0 & 1 & ... & 0 & 2 &  0 &  2 & 0 & 1 & 10 & 6 & 8 & 0\\\\\n",
       "\t  6 & 1 & 0 & 1 & 30 & 0 & 1 & 0 & 0 & 0 & ... & 0 & 3 &  0 & 14 & 0 & 0 &  9 & 6 & 7 & 0\\\\\n",
       "\t  7 & 1 & 1 & 1 & 25 & 0 & 1 & 0 & 0 & 1 & ... & 0 & 3 &  0 &  0 & 1 & 0 & 11 & 4 & 4 & 0\\\\\n",
       "\t  8 & 1 & 1 & 1 & 30 & 0 & 1 & 0 & 1 & 0 & ... & 0 & 5 & 30 & 30 & 1 & 0 &  9 & 5 & 1 & 1\\\\\n",
       "\t  9 & 0 & 0 & 1 & 24 & 0 & 0 & 0 & 0 & 0 & ... & 0 & 2 &  0 &  0 & 0 & 1 &  8 & 4 & 3 & 0\\\\\n",
       "\t 10 & 0 & 0 & 1 & 25 & 0 & 1 & 0 & 0 & 1 & ... & 0 & 3 &  0 &  0 & 0 & 1 & 13 & 6 & 8 & 1\\\\\n",
       "\t 11 & 1 & 1 & 1 & 34 & 0 & 1 & 0 & 0 & 0 & ... & 0 & 3 &  0 & 30 & 1 & 0 & 10 & 5 & 1 & 0\\\\\n",
       "\t 12 & 0 & 0 & 1 & 26 & 0 & 1 & 0 & 0 & 0 & ... & 0 & 3 &  0 & 15 & 0 & 0 &  7 & 5 & 7 & 0\\\\\n",
       "\t 13 & 1 & 1 & 1 & 28 & 0 & 0 & 0 & 0 & 0 & ... & 0 & 4 &  0 &  0 & 1 & 0 & 11 & 4 & 6 & 1\\\\\n",
       "\t 14 & 0 & 1 & 1 & 33 & 0 & 1 & 1 & 0 & 1 & ... & 1 & 4 & 30 & 28 & 0 & 0 &  4 & 6 & 2 & 0\\\\\n",
       "\t 15 & 1 & 0 & 1 & 33 & 0 & 0 & 0 & 0 & 1 & ... & 0 & 2 &  5 &  0 & 0 & 0 &  6 & 6 & 8 & 0\\\\\n",
       "\t 16 & 1 & 1 & 1 & 21 & 0 & 0 & 0 & 0 & 1 & ... & 0 & 3 &  0 &  0 & 0 & 0 & 10 & 4 & 3 & 0\\\\\n",
       "\t 17 & 0 & 0 & 1 & 23 & 0 & 1 & 0 & 0 & 1 & ... & 0 & 2 &  0 &  0 & 0 & 1 &  7 & 5 & 6 & 1\\\\\n",
       "\t 18 & 0 & 0 & 0 & 23 & 0 & 0 & 0 & 0 & 0 & ... & 0 & 2 & 15 &  0 & 0 & 0 &  2 & 6 & 7 & 0\\\\\n",
       "\t 19 & 0 & 1 & 1 & 28 & 0 & 0 & 0 & 0 & 0 & ... & 0 & 2 & 10 &  0 & 0 & 1 &  4 & 6 & 8 & 0\\\\\n",
       "\t 20 & 1 & 1 & 1 & 22 & 0 & 0 & 1 & 1 & 0 & ... & 0 & 3 & 30 &  0 & 1 & 0 & 12 & 4 & 4 & 0\\\\\n",
       "\t 21 & 1 & 1 & 1 & 38 & 0 & 1 & 0 & 0 & 0 & ... & 0 & 5 & 15 & 30 & 1 & 0 & 13 & 2 & 3 & 0\\\\\n",
       "\t 22 & 0 & 0 & 1 & 28 & 0 & 1 & 0 & 0 & 0 & ... & 0 & 3 &  0 &  7 & 0 & 1 &  5 & 5 & 5 & 0\\\\\n",
       "\t 23 & 1 & 0 & 1 & 27 & 0 & 0 & 0 & 0 & 1 & ... & 0 & 1 &  0 &  0 & 0 & 0 & 13 & 5 & 4 & 1\\\\\n",
       "\t 24 & 1 & 1 & 1 & 28 & 0 & 1 & 0 & 0 & 0 & ... & 0 & 3 &  6 &  0 & 1 & 0 &  9 & 4 & 6 & 0\\\\\n",
       "\t 25 & 0 & 0 & 1 & 32 & 0 & 0 & 0 & 0 & 1 & ... & 0 & 2 &  0 &  0 & 0 & 0 &  5 & 6 & 8 & 0\\\\\n",
       "\t 26 & 1 & 1 & 1 & 37 & 0 & 1 & 1 & 1 & 0 & ... & 0 & 5 &  0 &  0 & 1 & 1 & 10 & 6 & 5 & 1\\\\\n",
       "\t 27 & 1 & 1 & 1 & 28 & 0 & 1 & 0 & 1 & 0 & ... & 0 & 4 &  0 &  0 & 0 & 1 & 12 & 2 & 4 & 1\\\\\n",
       "\t 28 & 1 & 1 & 1 & 27 & 0 & 1 & 0 & 0 & 0 & ... & 0 & 4 & 20 & 20 & 1 & 0 &  8 & 4 & 7 & 1\\\\\n",
       "\t 29 & 0 & 1 & 1 & 31 & 0 & 1 & 0 & 0 & 1 & ... & 0 & 1 &  0 &  0 & 0 & 1 & 12 & 6 & 8 & 0\\\\\n",
       "\t ... & ... & ... & ... & ... & ... & ... & ... & ... & ... &  & ... & ... & ... & ... & ... & ... & ... & ... & ... & ...\\\\\n",
       "\t 253650 & 1 & 0 & 1 & 27 & 0 & 0 & 0 & 0 & 1 & ... & 0 & 4 &  0 &  0 & 0 & 0 &  5 & 4 & 2 & 0\\\\\n",
       "\t 253651 & 0 & 0 & 1 & 24 & 0 & 0 & 0 & 0 & 1 & ... & 1 & 1 &  0 &  0 & 0 & 1 &  2 & 6 & 3 & 0\\\\\n",
       "\t 253652 & 0 & 1 & 1 & 27 & 0 & 0 & 0 & 0 & 1 & ... & 0 & 4 &  0 & 30 & 0 & 1 & 11 & 2 & 3 & 1\\\\\n",
       "\t 253653 & 0 & 0 & 1 & 33 & 0 & 1 & 0 & 0 & 0 & ... & 0 & 4 &  0 & 15 & 0 & 1 & 10 & 6 & 3 & 0\\\\\n",
       "\t 253654 & 0 & 0 & 1 & 26 & 0 & 1 & 0 & 0 & 1 & ... & 0 & 2 &  1 &  0 & 0 & 1 &  3 & 3 & 1 & 0\\\\\n",
       "\t 253655 & 0 & 0 & 1 & 28 & 0 & 0 & 0 & 0 & 1 & ... & 0 & 2 &  0 &  0 & 0 & 0 &  2 & 6 & 4 & 0\\\\\n",
       "\t 253656 & 0 & 0 & 1 & 25 & 0 & 0 & 0 & 0 & 1 & ... & 0 & 1 &  0 &  0 & 0 & 0 &  4 & 6 & 8 & 0\\\\\n",
       "\t 253657 & 0 & 1 & 1 & 24 & 0 & 0 & 0 & 0 & 0 & ... & 0 & 3 &  0 &  0 & 0 & 0 &  7 & 5 & 3 & 0\\\\\n",
       "\t 253658 & 0 & 0 & 0 & 27 & 0 & 0 & 0 & 0 & 1 & ... & 1 & 2 &  0 &  0 & 0 & 0 &  3 & 6 & 5 & 0\\\\\n",
       "\t 253659 & 0 & 1 & 1 & 37 & 0 & 0 & 0 & 0 & 0 & ... & 0 & 4 &  0 &  0 & 0 & 0 &  6 & 4 & 1 & 1\\\\\n",
       "\t 253660 & 0 & 1 & 1 & 34 & 0 & 1 & 0 & 0 & 0 & ... & 0 & 3 &  0 &  2 & 1 & 0 &  7 & 4 & 3 & 0\\\\\n",
       "\t 253661 & 1 & 0 & 1 & 33 & 0 & 0 & 0 & 0 & 1 & ... & 1 & 3 &  0 &  2 & 1 & 0 &  6 & 6 & 6 & 0\\\\\n",
       "\t 253662 & 0 & 0 & 1 & 16 & 0 & 0 & 0 & 0 & 1 & ... & 0 & 1 &  0 &  0 & 0 & 0 &  5 & 6 & 2 & 0\\\\\n",
       "\t 253663 & 0 & 0 & 1 & 23 & 0 & 0 & 0 & 0 & 0 & ... & 1 & 2 &  0 & 30 & 0 & 0 &  5 & 6 & 2 & 0\\\\\n",
       "\t 253664 & 0 & 1 & 1 & 29 & 0 & 1 & 0 & 0 & 0 & ... & 0 & 3 &  0 &  0 & 0 & 0 &  6 & 6 & 4 & 0\\\\\n",
       "\t 253665 & 0 & 1 & 1 & 17 & 0 & 0 & 0 & 0 & 0 & ... & 1 & 4 & 30 & 30 & 0 & 0 &  5 & 4 & 1 & 0\\\\\n",
       "\t 253666 & 1 & 0 & 1 & 23 & 0 & 0 & 0 & 0 & 0 & ... & 0 & 3 &  0 & 15 & 0 & 0 &  6 & 5 & 2 & 0\\\\\n",
       "\t 253667 & 1 & 1 & 1 & 28 & 0 & 1 & 0 & 0 & 0 & ... & 0 & 3 &  0 &  0 & 0 & 0 & 11 & 4 & 7 & 0\\\\\n",
       "\t 253668 & 0 & 1 & 1 & 29 & 0 & 1 & 0 & 1 & 0 & ... & 0 & 2 &  0 &  0 & 1 & 1 & 10 & 3 & 6 & 1\\\\\n",
       "\t 253669 & 0 & 1 & 1 & 27 & 0 & 0 & 0 & 0 & 0 & ... & 1 & 1 &  0 &  3 & 0 & 1 &  6 & 2 & 4 & 0\\\\\n",
       "\t 253670 & 1 & 1 & 1 & 25 & 0 & 0 & 0 & 1 & 0 & ... & 0 & 5 & 15 &  0 & 1 & 0 & 13 & 6 & 4 & 1\\\\\n",
       "\t 253671 & 1 & 1 & 1 & 23 & 0 & 0 & 1 & 1 & 0 & ... & 1 & 4 &  0 &  5 & 0 & 1 &  8 & 3 & 2 & 0\\\\\n",
       "\t 253672 & 1 & 0 & 1 & 30 & 0 & 1 & 0 & 1 & 1 & ... & 0 & 3 &  0 &  0 & 0 & 1 & 12 & 2 & 1 & 0\\\\\n",
       "\t 253673 & 1 & 0 & 1 & 42 & 0 & 0 & 0 & 0 & 1 & ... & 0 & 3 & 14 &  4 & 0 & 1 &  3 & 6 & 8 & 0\\\\\n",
       "\t 253674 & 0 & 0 & 1 & 27 & 0 & 0 & 0 & 0 & 0 & ... & 0 & 1 &  0 &  0 & 0 & 0 &  3 & 6 & 5 & 0\\\\\n",
       "\t 253675 & 1 & 1 & 1 & 45 & 0 & 0 & 0 & 0 & 0 & ... & 0 & 3 &  0 &  5 & 0 & 1 &  5 & 6 & 7 & 0\\\\\n",
       "\t 253676 & 1 & 1 & 1 & 18 & 0 & 0 & 0 & 0 & 0 & ... & 0 & 4 &  0 &  0 & 1 & 0 & 11 & 2 & 4 & 1\\\\\n",
       "\t 253677 & 0 & 0 & 1 & 28 & 0 & 0 & 0 & 0 & 1 & ... & 0 & 1 &  0 &  0 & 0 & 0 &  2 & 5 & 2 & 0\\\\\n",
       "\t 253678 & 1 & 0 & 1 & 23 & 0 & 0 & 0 & 0 & 0 & ... & 0 & 3 &  0 &  0 & 0 & 1 &  7 & 5 & 1 & 0\\\\\n",
       "\t 253679 & 1 & 1 & 1 & 25 & 0 & 0 & 0 & 1 & 1 & ... & 0 & 2 &  0 &  0 & 0 & 0 &  9 & 6 & 2 & 1\\\\\n",
       "\\end{tabular}\n"
      ],
      "text/markdown": [
       "\n",
       "A data.frame: 253680 × 24\n",
       "\n",
       "| Index &lt;int&gt; | HighBP &lt;int&gt; | HighChol &lt;int&gt; | CholCheck &lt;int&gt; | BMI &lt;int&gt; | StdBMI &lt;dbl&gt; | Smoker &lt;int&gt; | Stroke &lt;int&gt; | HeartDiseaseorAttack &lt;int&gt; | PhysActivity &lt;int&gt; | ... ... | NoDocbcCost &lt;int&gt; | GenHlth &lt;int&gt; | MentHlth &lt;int&gt; | PhysHlth &lt;int&gt; | DiffWalk &lt;int&gt; | Sex &lt;int&gt; | Age &lt;int&gt; | Education &lt;int&gt; | Income &lt;int&gt; | Diabetes_binary &lt;int&gt; |\n",
       "|---|---|---|---|---|---|---|---|---|---|---|---|---|---|---|---|---|---|---|---|---|\n",
       "|  0 | 1 | 1 | 1 | 40 | 0 | 1 | 0 | 0 | 0 | ... | 0 | 5 | 18 | 15 | 1 | 0 |  9 | 4 | 3 | 0 |\n",
       "|  1 | 0 | 0 | 0 | 25 | 0 | 1 | 0 | 0 | 1 | ... | 1 | 3 |  0 |  0 | 0 | 0 |  7 | 6 | 1 | 0 |\n",
       "|  2 | 1 | 1 | 1 | 28 | 0 | 0 | 0 | 0 | 0 | ... | 1 | 5 | 30 | 30 | 1 | 0 |  9 | 4 | 8 | 0 |\n",
       "|  3 | 1 | 0 | 1 | 27 | 0 | 0 | 0 | 0 | 1 | ... | 0 | 2 |  0 |  0 | 0 | 0 | 11 | 3 | 6 | 0 |\n",
       "|  4 | 1 | 1 | 1 | 24 | 0 | 0 | 0 | 0 | 1 | ... | 0 | 2 |  3 |  0 | 0 | 0 | 11 | 5 | 4 | 0 |\n",
       "|  5 | 1 | 1 | 1 | 25 | 0 | 1 | 0 | 0 | 1 | ... | 0 | 2 |  0 |  2 | 0 | 1 | 10 | 6 | 8 | 0 |\n",
       "|  6 | 1 | 0 | 1 | 30 | 0 | 1 | 0 | 0 | 0 | ... | 0 | 3 |  0 | 14 | 0 | 0 |  9 | 6 | 7 | 0 |\n",
       "|  7 | 1 | 1 | 1 | 25 | 0 | 1 | 0 | 0 | 1 | ... | 0 | 3 |  0 |  0 | 1 | 0 | 11 | 4 | 4 | 0 |\n",
       "|  8 | 1 | 1 | 1 | 30 | 0 | 1 | 0 | 1 | 0 | ... | 0 | 5 | 30 | 30 | 1 | 0 |  9 | 5 | 1 | 1 |\n",
       "|  9 | 0 | 0 | 1 | 24 | 0 | 0 | 0 | 0 | 0 | ... | 0 | 2 |  0 |  0 | 0 | 1 |  8 | 4 | 3 | 0 |\n",
       "| 10 | 0 | 0 | 1 | 25 | 0 | 1 | 0 | 0 | 1 | ... | 0 | 3 |  0 |  0 | 0 | 1 | 13 | 6 | 8 | 1 |\n",
       "| 11 | 1 | 1 | 1 | 34 | 0 | 1 | 0 | 0 | 0 | ... | 0 | 3 |  0 | 30 | 1 | 0 | 10 | 5 | 1 | 0 |\n",
       "| 12 | 0 | 0 | 1 | 26 | 0 | 1 | 0 | 0 | 0 | ... | 0 | 3 |  0 | 15 | 0 | 0 |  7 | 5 | 7 | 0 |\n",
       "| 13 | 1 | 1 | 1 | 28 | 0 | 0 | 0 | 0 | 0 | ... | 0 | 4 |  0 |  0 | 1 | 0 | 11 | 4 | 6 | 1 |\n",
       "| 14 | 0 | 1 | 1 | 33 | 0 | 1 | 1 | 0 | 1 | ... | 1 | 4 | 30 | 28 | 0 | 0 |  4 | 6 | 2 | 0 |\n",
       "| 15 | 1 | 0 | 1 | 33 | 0 | 0 | 0 | 0 | 1 | ... | 0 | 2 |  5 |  0 | 0 | 0 |  6 | 6 | 8 | 0 |\n",
       "| 16 | 1 | 1 | 1 | 21 | 0 | 0 | 0 | 0 | 1 | ... | 0 | 3 |  0 |  0 | 0 | 0 | 10 | 4 | 3 | 0 |\n",
       "| 17 | 0 | 0 | 1 | 23 | 0 | 1 | 0 | 0 | 1 | ... | 0 | 2 |  0 |  0 | 0 | 1 |  7 | 5 | 6 | 1 |\n",
       "| 18 | 0 | 0 | 0 | 23 | 0 | 0 | 0 | 0 | 0 | ... | 0 | 2 | 15 |  0 | 0 | 0 |  2 | 6 | 7 | 0 |\n",
       "| 19 | 0 | 1 | 1 | 28 | 0 | 0 | 0 | 0 | 0 | ... | 0 | 2 | 10 |  0 | 0 | 1 |  4 | 6 | 8 | 0 |\n",
       "| 20 | 1 | 1 | 1 | 22 | 0 | 0 | 1 | 1 | 0 | ... | 0 | 3 | 30 |  0 | 1 | 0 | 12 | 4 | 4 | 0 |\n",
       "| 21 | 1 | 1 | 1 | 38 | 0 | 1 | 0 | 0 | 0 | ... | 0 | 5 | 15 | 30 | 1 | 0 | 13 | 2 | 3 | 0 |\n",
       "| 22 | 0 | 0 | 1 | 28 | 0 | 1 | 0 | 0 | 0 | ... | 0 | 3 |  0 |  7 | 0 | 1 |  5 | 5 | 5 | 0 |\n",
       "| 23 | 1 | 0 | 1 | 27 | 0 | 0 | 0 | 0 | 1 | ... | 0 | 1 |  0 |  0 | 0 | 0 | 13 | 5 | 4 | 1 |\n",
       "| 24 | 1 | 1 | 1 | 28 | 0 | 1 | 0 | 0 | 0 | ... | 0 | 3 |  6 |  0 | 1 | 0 |  9 | 4 | 6 | 0 |\n",
       "| 25 | 0 | 0 | 1 | 32 | 0 | 0 | 0 | 0 | 1 | ... | 0 | 2 |  0 |  0 | 0 | 0 |  5 | 6 | 8 | 0 |\n",
       "| 26 | 1 | 1 | 1 | 37 | 0 | 1 | 1 | 1 | 0 | ... | 0 | 5 |  0 |  0 | 1 | 1 | 10 | 6 | 5 | 1 |\n",
       "| 27 | 1 | 1 | 1 | 28 | 0 | 1 | 0 | 1 | 0 | ... | 0 | 4 |  0 |  0 | 0 | 1 | 12 | 2 | 4 | 1 |\n",
       "| 28 | 1 | 1 | 1 | 27 | 0 | 1 | 0 | 0 | 0 | ... | 0 | 4 | 20 | 20 | 1 | 0 |  8 | 4 | 7 | 1 |\n",
       "| 29 | 0 | 1 | 1 | 31 | 0 | 1 | 0 | 0 | 1 | ... | 0 | 1 |  0 |  0 | 0 | 1 | 12 | 6 | 8 | 0 |\n",
       "| ... | ... | ... | ... | ... | ... | ... | ... | ... | ... | <!----> | ... | ... | ... | ... | ... | ... | ... | ... | ... | ... |\n",
       "| 253650 | 1 | 0 | 1 | 27 | 0 | 0 | 0 | 0 | 1 | ... | 0 | 4 |  0 |  0 | 0 | 0 |  5 | 4 | 2 | 0 |\n",
       "| 253651 | 0 | 0 | 1 | 24 | 0 | 0 | 0 | 0 | 1 | ... | 1 | 1 |  0 |  0 | 0 | 1 |  2 | 6 | 3 | 0 |\n",
       "| 253652 | 0 | 1 | 1 | 27 | 0 | 0 | 0 | 0 | 1 | ... | 0 | 4 |  0 | 30 | 0 | 1 | 11 | 2 | 3 | 1 |\n",
       "| 253653 | 0 | 0 | 1 | 33 | 0 | 1 | 0 | 0 | 0 | ... | 0 | 4 |  0 | 15 | 0 | 1 | 10 | 6 | 3 | 0 |\n",
       "| 253654 | 0 | 0 | 1 | 26 | 0 | 1 | 0 | 0 | 1 | ... | 0 | 2 |  1 |  0 | 0 | 1 |  3 | 3 | 1 | 0 |\n",
       "| 253655 | 0 | 0 | 1 | 28 | 0 | 0 | 0 | 0 | 1 | ... | 0 | 2 |  0 |  0 | 0 | 0 |  2 | 6 | 4 | 0 |\n",
       "| 253656 | 0 | 0 | 1 | 25 | 0 | 0 | 0 | 0 | 1 | ... | 0 | 1 |  0 |  0 | 0 | 0 |  4 | 6 | 8 | 0 |\n",
       "| 253657 | 0 | 1 | 1 | 24 | 0 | 0 | 0 | 0 | 0 | ... | 0 | 3 |  0 |  0 | 0 | 0 |  7 | 5 | 3 | 0 |\n",
       "| 253658 | 0 | 0 | 0 | 27 | 0 | 0 | 0 | 0 | 1 | ... | 1 | 2 |  0 |  0 | 0 | 0 |  3 | 6 | 5 | 0 |\n",
       "| 253659 | 0 | 1 | 1 | 37 | 0 | 0 | 0 | 0 | 0 | ... | 0 | 4 |  0 |  0 | 0 | 0 |  6 | 4 | 1 | 1 |\n",
       "| 253660 | 0 | 1 | 1 | 34 | 0 | 1 | 0 | 0 | 0 | ... | 0 | 3 |  0 |  2 | 1 | 0 |  7 | 4 | 3 | 0 |\n",
       "| 253661 | 1 | 0 | 1 | 33 | 0 | 0 | 0 | 0 | 1 | ... | 1 | 3 |  0 |  2 | 1 | 0 |  6 | 6 | 6 | 0 |\n",
       "| 253662 | 0 | 0 | 1 | 16 | 0 | 0 | 0 | 0 | 1 | ... | 0 | 1 |  0 |  0 | 0 | 0 |  5 | 6 | 2 | 0 |\n",
       "| 253663 | 0 | 0 | 1 | 23 | 0 | 0 | 0 | 0 | 0 | ... | 1 | 2 |  0 | 30 | 0 | 0 |  5 | 6 | 2 | 0 |\n",
       "| 253664 | 0 | 1 | 1 | 29 | 0 | 1 | 0 | 0 | 0 | ... | 0 | 3 |  0 |  0 | 0 | 0 |  6 | 6 | 4 | 0 |\n",
       "| 253665 | 0 | 1 | 1 | 17 | 0 | 0 | 0 | 0 | 0 | ... | 1 | 4 | 30 | 30 | 0 | 0 |  5 | 4 | 1 | 0 |\n",
       "| 253666 | 1 | 0 | 1 | 23 | 0 | 0 | 0 | 0 | 0 | ... | 0 | 3 |  0 | 15 | 0 | 0 |  6 | 5 | 2 | 0 |\n",
       "| 253667 | 1 | 1 | 1 | 28 | 0 | 1 | 0 | 0 | 0 | ... | 0 | 3 |  0 |  0 | 0 | 0 | 11 | 4 | 7 | 0 |\n",
       "| 253668 | 0 | 1 | 1 | 29 | 0 | 1 | 0 | 1 | 0 | ... | 0 | 2 |  0 |  0 | 1 | 1 | 10 | 3 | 6 | 1 |\n",
       "| 253669 | 0 | 1 | 1 | 27 | 0 | 0 | 0 | 0 | 0 | ... | 1 | 1 |  0 |  3 | 0 | 1 |  6 | 2 | 4 | 0 |\n",
       "| 253670 | 1 | 1 | 1 | 25 | 0 | 0 | 0 | 1 | 0 | ... | 0 | 5 | 15 |  0 | 1 | 0 | 13 | 6 | 4 | 1 |\n",
       "| 253671 | 1 | 1 | 1 | 23 | 0 | 0 | 1 | 1 | 0 | ... | 1 | 4 |  0 |  5 | 0 | 1 |  8 | 3 | 2 | 0 |\n",
       "| 253672 | 1 | 0 | 1 | 30 | 0 | 1 | 0 | 1 | 1 | ... | 0 | 3 |  0 |  0 | 0 | 1 | 12 | 2 | 1 | 0 |\n",
       "| 253673 | 1 | 0 | 1 | 42 | 0 | 0 | 0 | 0 | 1 | ... | 0 | 3 | 14 |  4 | 0 | 1 |  3 | 6 | 8 | 0 |\n",
       "| 253674 | 0 | 0 | 1 | 27 | 0 | 0 | 0 | 0 | 0 | ... | 0 | 1 |  0 |  0 | 0 | 0 |  3 | 6 | 5 | 0 |\n",
       "| 253675 | 1 | 1 | 1 | 45 | 0 | 0 | 0 | 0 | 0 | ... | 0 | 3 |  0 |  5 | 0 | 1 |  5 | 6 | 7 | 0 |\n",
       "| 253676 | 1 | 1 | 1 | 18 | 0 | 0 | 0 | 0 | 0 | ... | 0 | 4 |  0 |  0 | 1 | 0 | 11 | 2 | 4 | 1 |\n",
       "| 253677 | 0 | 0 | 1 | 28 | 0 | 0 | 0 | 0 | 1 | ... | 0 | 1 |  0 |  0 | 0 | 0 |  2 | 5 | 2 | 0 |\n",
       "| 253678 | 1 | 0 | 1 | 23 | 0 | 0 | 0 | 0 | 0 | ... | 0 | 3 |  0 |  0 | 0 | 1 |  7 | 5 | 1 | 0 |\n",
       "| 253679 | 1 | 1 | 1 | 25 | 0 | 0 | 0 | 1 | 1 | ... | 0 | 2 |  0 |  0 | 0 | 0 |  9 | 6 | 2 | 1 |\n",
       "\n"
      ],
      "text/plain": [
       "       Index  HighBP HighChol CholCheck BMI StdBMI Smoker Stroke\n",
       "1       0     1      1        1         40  0      1      0     \n",
       "2       1     0      0        0         25  0      1      0     \n",
       "3       2     1      1        1         28  0      0      0     \n",
       "4       3     1      0        1         27  0      0      0     \n",
       "5       4     1      1        1         24  0      0      0     \n",
       "6       5     1      1        1         25  0      1      0     \n",
       "7       6     1      0        1         30  0      1      0     \n",
       "8       7     1      1        1         25  0      1      0     \n",
       "9       8     1      1        1         30  0      1      0     \n",
       "10      9     0      0        1         24  0      0      0     \n",
       "11     10     0      0        1         25  0      1      0     \n",
       "12     11     1      1        1         34  0      1      0     \n",
       "13     12     0      0        1         26  0      1      0     \n",
       "14     13     1      1        1         28  0      0      0     \n",
       "15     14     0      1        1         33  0      1      1     \n",
       "16     15     1      0        1         33  0      0      0     \n",
       "17     16     1      1        1         21  0      0      0     \n",
       "18     17     0      0        1         23  0      1      0     \n",
       "19     18     0      0        0         23  0      0      0     \n",
       "20     19     0      1        1         28  0      0      0     \n",
       "21     20     1      1        1         22  0      0      1     \n",
       "22     21     1      1        1         38  0      1      0     \n",
       "23     22     0      0        1         28  0      1      0     \n",
       "24     23     1      0        1         27  0      0      0     \n",
       "25     24     1      1        1         28  0      1      0     \n",
       "26     25     0      0        1         32  0      0      0     \n",
       "27     26     1      1        1         37  0      1      1     \n",
       "28     27     1      1        1         28  0      1      0     \n",
       "29     28     1      1        1         27  0      1      0     \n",
       "30     29     0      1        1         31  0      1      0     \n",
       "...    ...    ...    ...      ...       ... ...    ...    ...   \n",
       "253651 253650 1      0        1         27  0      0      0     \n",
       "253652 253651 0      0        1         24  0      0      0     \n",
       "253653 253652 0      1        1         27  0      0      0     \n",
       "253654 253653 0      0        1         33  0      1      0     \n",
       "253655 253654 0      0        1         26  0      1      0     \n",
       "253656 253655 0      0        1         28  0      0      0     \n",
       "253657 253656 0      0        1         25  0      0      0     \n",
       "253658 253657 0      1        1         24  0      0      0     \n",
       "253659 253658 0      0        0         27  0      0      0     \n",
       "253660 253659 0      1        1         37  0      0      0     \n",
       "253661 253660 0      1        1         34  0      1      0     \n",
       "253662 253661 1      0        1         33  0      0      0     \n",
       "253663 253662 0      0        1         16  0      0      0     \n",
       "253664 253663 0      0        1         23  0      0      0     \n",
       "253665 253664 0      1        1         29  0      1      0     \n",
       "253666 253665 0      1        1         17  0      0      0     \n",
       "253667 253666 1      0        1         23  0      0      0     \n",
       "253668 253667 1      1        1         28  0      1      0     \n",
       "253669 253668 0      1        1         29  0      1      0     \n",
       "253670 253669 0      1        1         27  0      0      0     \n",
       "253671 253670 1      1        1         25  0      0      0     \n",
       "253672 253671 1      1        1         23  0      0      1     \n",
       "253673 253672 1      0        1         30  0      1      0     \n",
       "253674 253673 1      0        1         42  0      0      0     \n",
       "253675 253674 0      0        1         27  0      0      0     \n",
       "253676 253675 1      1        1         45  0      0      0     \n",
       "253677 253676 1      1        1         18  0      0      0     \n",
       "253678 253677 0      0        1         28  0      0      0     \n",
       "253679 253678 1      0        1         23  0      0      0     \n",
       "253680 253679 1      1        1         25  0      0      0     \n",
       "       HeartDiseaseorAttack PhysActivity ... NoDocbcCost GenHlth MentHlth\n",
       "1      0                    0            ... 0           5       18      \n",
       "2      0                    1            ... 1           3        0      \n",
       "3      0                    0            ... 1           5       30      \n",
       "4      0                    1            ... 0           2        0      \n",
       "5      0                    1            ... 0           2        3      \n",
       "6      0                    1            ... 0           2        0      \n",
       "7      0                    0            ... 0           3        0      \n",
       "8      0                    1            ... 0           3        0      \n",
       "9      1                    0            ... 0           5       30      \n",
       "10     0                    0            ... 0           2        0      \n",
       "11     0                    1            ... 0           3        0      \n",
       "12     0                    0            ... 0           3        0      \n",
       "13     0                    0            ... 0           3        0      \n",
       "14     0                    0            ... 0           4        0      \n",
       "15     0                    1            ... 1           4       30      \n",
       "16     0                    1            ... 0           2        5      \n",
       "17     0                    1            ... 0           3        0      \n",
       "18     0                    1            ... 0           2        0      \n",
       "19     0                    0            ... 0           2       15      \n",
       "20     0                    0            ... 0           2       10      \n",
       "21     1                    0            ... 0           3       30      \n",
       "22     0                    0            ... 0           5       15      \n",
       "23     0                    0            ... 0           3        0      \n",
       "24     0                    1            ... 0           1        0      \n",
       "25     0                    0            ... 0           3        6      \n",
       "26     0                    1            ... 0           2        0      \n",
       "27     1                    0            ... 0           5        0      \n",
       "28     1                    0            ... 0           4        0      \n",
       "29     0                    0            ... 0           4       20      \n",
       "30     0                    1            ... 0           1        0      \n",
       "...    ...                  ...              ...         ...     ...     \n",
       "253651 0                    1            ... 0           4        0      \n",
       "253652 0                    1            ... 1           1        0      \n",
       "253653 0                    1            ... 0           4        0      \n",
       "253654 0                    0            ... 0           4        0      \n",
       "253655 0                    1            ... 0           2        1      \n",
       "253656 0                    1            ... 0           2        0      \n",
       "253657 0                    1            ... 0           1        0      \n",
       "253658 0                    0            ... 0           3        0      \n",
       "253659 0                    1            ... 1           2        0      \n",
       "253660 0                    0            ... 0           4        0      \n",
       "253661 0                    0            ... 0           3        0      \n",
       "253662 0                    1            ... 1           3        0      \n",
       "253663 0                    1            ... 0           1        0      \n",
       "253664 0                    0            ... 1           2        0      \n",
       "253665 0                    0            ... 0           3        0      \n",
       "253666 0                    0            ... 1           4       30      \n",
       "253667 0                    0            ... 0           3        0      \n",
       "253668 0                    0            ... 0           3        0      \n",
       "253669 1                    0            ... 0           2        0      \n",
       "253670 0                    0            ... 1           1        0      \n",
       "253671 1                    0            ... 0           5       15      \n",
       "253672 1                    0            ... 1           4        0      \n",
       "253673 1                    1            ... 0           3        0      \n",
       "253674 0                    1            ... 0           3       14      \n",
       "253675 0                    0            ... 0           1        0      \n",
       "253676 0                    0            ... 0           3        0      \n",
       "253677 0                    0            ... 0           4        0      \n",
       "253678 0                    1            ... 0           1        0      \n",
       "253679 0                    0            ... 0           3        0      \n",
       "253680 1                    1            ... 0           2        0      \n",
       "       PhysHlth DiffWalk Sex Age Education Income Diabetes_binary\n",
       "1      15       1        0    9  4         3      0              \n",
       "2       0       0        0    7  6         1      0              \n",
       "3      30       1        0    9  4         8      0              \n",
       "4       0       0        0   11  3         6      0              \n",
       "5       0       0        0   11  5         4      0              \n",
       "6       2       0        1   10  6         8      0              \n",
       "7      14       0        0    9  6         7      0              \n",
       "8       0       1        0   11  4         4      0              \n",
       "9      30       1        0    9  5         1      1              \n",
       "10      0       0        1    8  4         3      0              \n",
       "11      0       0        1   13  6         8      1              \n",
       "12     30       1        0   10  5         1      0              \n",
       "13     15       0        0    7  5         7      0              \n",
       "14      0       1        0   11  4         6      1              \n",
       "15     28       0        0    4  6         2      0              \n",
       "16      0       0        0    6  6         8      0              \n",
       "17      0       0        0   10  4         3      0              \n",
       "18      0       0        1    7  5         6      1              \n",
       "19      0       0        0    2  6         7      0              \n",
       "20      0       0        1    4  6         8      0              \n",
       "21      0       1        0   12  4         4      0              \n",
       "22     30       1        0   13  2         3      0              \n",
       "23      7       0        1    5  5         5      0              \n",
       "24      0       0        0   13  5         4      1              \n",
       "25      0       1        0    9  4         6      0              \n",
       "26      0       0        0    5  6         8      0              \n",
       "27      0       1        1   10  6         5      1              \n",
       "28      0       0        1   12  2         4      1              \n",
       "29     20       1        0    8  4         7      1              \n",
       "30      0       0        1   12  6         8      0              \n",
       "...    ...      ...      ... ... ...       ...    ...            \n",
       "253651  0       0        0    5  4         2      0              \n",
       "253652  0       0        1    2  6         3      0              \n",
       "253653 30       0        1   11  2         3      1              \n",
       "253654 15       0        1   10  6         3      0              \n",
       "253655  0       0        1    3  3         1      0              \n",
       "253656  0       0        0    2  6         4      0              \n",
       "253657  0       0        0    4  6         8      0              \n",
       "253658  0       0        0    7  5         3      0              \n",
       "253659  0       0        0    3  6         5      0              \n",
       "253660  0       0        0    6  4         1      1              \n",
       "253661  2       1        0    7  4         3      0              \n",
       "253662  2       1        0    6  6         6      0              \n",
       "253663  0       0        0    5  6         2      0              \n",
       "253664 30       0        0    5  6         2      0              \n",
       "253665  0       0        0    6  6         4      0              \n",
       "253666 30       0        0    5  4         1      0              \n",
       "253667 15       0        0    6  5         2      0              \n",
       "253668  0       0        0   11  4         7      0              \n",
       "253669  0       1        1   10  3         6      1              \n",
       "253670  3       0        1    6  2         4      0              \n",
       "253671  0       1        0   13  6         4      1              \n",
       "253672  5       0        1    8  3         2      0              \n",
       "253673  0       0        1   12  2         1      0              \n",
       "253674  4       0        1    3  6         8      0              \n",
       "253675  0       0        0    3  6         5      0              \n",
       "253676  5       0        1    5  6         7      0              \n",
       "253677  0       1        0   11  2         4      1              \n",
       "253678  0       0        0    2  5         2      0              \n",
       "253679  0       0        1    7  5         1      0              \n",
       "253680  0       0        0    9  6         2      1              "
      ]
     },
     "metadata": {},
     "output_type": "display_data"
    }
   ],
   "source": [
    "df_std_1"
   ]
  },
  {
   "cell_type": "code",
   "execution_count": 65,
   "id": "6956f4ef-327a-480f-b74c-5d7f32216a68",
   "metadata": {},
   "outputs": [],
   "source": [
    "df_std_1[df_std_1$BMI < 18.5, ]$StdBMI = 1\n",
    "df_std_1[df_std_1$BMI >= 18.5 & df_std_1$BMI < 25, ]$StdBMI = 2\n",
    "df_std_1[df_std_1$BMI >= 25 & df_std_1$BMI < 30, ]$StdBMI = 3\n",
    "df_std_1[df_std_1$BMI >= 30 & df_std_1$BMI < 35, ]$StdBMI = 4\n",
    "df_std_1[df_std_1$BMI >= 35 & df_std_1$BMI < 40, ]$StdBMI = 5\n",
    "df_std_1[df_std_1$BMI >= 40, ]$StdBMI = 6"
   ]
  },
  {
   "cell_type": "code",
   "execution_count": 66,
   "id": "023e99cb-972f-4f7c-9cf8-f69ccdf4e6cf",
   "metadata": {
    "scrolled": true
   },
   "outputs": [
    {
     "data": {
      "text/html": [
       "<table class=\"dataframe\">\n",
       "<caption>A data.frame: 253680 × 24</caption>\n",
       "<thead>\n",
       "\t<tr><th scope=col>Index</th><th scope=col>HighBP</th><th scope=col>HighChol</th><th scope=col>CholCheck</th><th scope=col>BMI</th><th scope=col>StdBMI</th><th scope=col>Smoker</th><th scope=col>Stroke</th><th scope=col>HeartDiseaseorAttack</th><th scope=col>PhysActivity</th><th scope=col>...</th><th scope=col>NoDocbcCost</th><th scope=col>GenHlth</th><th scope=col>MentHlth</th><th scope=col>PhysHlth</th><th scope=col>DiffWalk</th><th scope=col>Sex</th><th scope=col>Age</th><th scope=col>Education</th><th scope=col>Income</th><th scope=col>Diabetes_binary</th></tr>\n",
       "\t<tr><th scope=col>&lt;int&gt;</th><th scope=col>&lt;int&gt;</th><th scope=col>&lt;int&gt;</th><th scope=col>&lt;int&gt;</th><th scope=col>&lt;int&gt;</th><th scope=col>&lt;dbl&gt;</th><th scope=col>&lt;int&gt;</th><th scope=col>&lt;int&gt;</th><th scope=col>&lt;int&gt;</th><th scope=col>&lt;int&gt;</th><th scope=col>...</th><th scope=col>&lt;int&gt;</th><th scope=col>&lt;int&gt;</th><th scope=col>&lt;int&gt;</th><th scope=col>&lt;int&gt;</th><th scope=col>&lt;int&gt;</th><th scope=col>&lt;int&gt;</th><th scope=col>&lt;int&gt;</th><th scope=col>&lt;int&gt;</th><th scope=col>&lt;int&gt;</th><th scope=col>&lt;int&gt;</th></tr>\n",
       "</thead>\n",
       "<tbody>\n",
       "\t<tr><td> 0</td><td>1</td><td>1</td><td>1</td><td>40</td><td>6</td><td>1</td><td>0</td><td>0</td><td>0</td><td>...</td><td>0</td><td>5</td><td>18</td><td>15</td><td>1</td><td>0</td><td> 9</td><td>4</td><td>3</td><td>0</td></tr>\n",
       "\t<tr><td> 1</td><td>0</td><td>0</td><td>0</td><td>25</td><td>3</td><td>1</td><td>0</td><td>0</td><td>1</td><td>...</td><td>1</td><td>3</td><td> 0</td><td> 0</td><td>0</td><td>0</td><td> 7</td><td>6</td><td>1</td><td>0</td></tr>\n",
       "\t<tr><td> 2</td><td>1</td><td>1</td><td>1</td><td>28</td><td>3</td><td>0</td><td>0</td><td>0</td><td>0</td><td>...</td><td>1</td><td>5</td><td>30</td><td>30</td><td>1</td><td>0</td><td> 9</td><td>4</td><td>8</td><td>0</td></tr>\n",
       "\t<tr><td> 3</td><td>1</td><td>0</td><td>1</td><td>27</td><td>3</td><td>0</td><td>0</td><td>0</td><td>1</td><td>...</td><td>0</td><td>2</td><td> 0</td><td> 0</td><td>0</td><td>0</td><td>11</td><td>3</td><td>6</td><td>0</td></tr>\n",
       "\t<tr><td> 4</td><td>1</td><td>1</td><td>1</td><td>24</td><td>2</td><td>0</td><td>0</td><td>0</td><td>1</td><td>...</td><td>0</td><td>2</td><td> 3</td><td> 0</td><td>0</td><td>0</td><td>11</td><td>5</td><td>4</td><td>0</td></tr>\n",
       "\t<tr><td> 5</td><td>1</td><td>1</td><td>1</td><td>25</td><td>3</td><td>1</td><td>0</td><td>0</td><td>1</td><td>...</td><td>0</td><td>2</td><td> 0</td><td> 2</td><td>0</td><td>1</td><td>10</td><td>6</td><td>8</td><td>0</td></tr>\n",
       "\t<tr><td> 6</td><td>1</td><td>0</td><td>1</td><td>30</td><td>4</td><td>1</td><td>0</td><td>0</td><td>0</td><td>...</td><td>0</td><td>3</td><td> 0</td><td>14</td><td>0</td><td>0</td><td> 9</td><td>6</td><td>7</td><td>0</td></tr>\n",
       "\t<tr><td> 7</td><td>1</td><td>1</td><td>1</td><td>25</td><td>3</td><td>1</td><td>0</td><td>0</td><td>1</td><td>...</td><td>0</td><td>3</td><td> 0</td><td> 0</td><td>1</td><td>0</td><td>11</td><td>4</td><td>4</td><td>0</td></tr>\n",
       "\t<tr><td> 8</td><td>1</td><td>1</td><td>1</td><td>30</td><td>4</td><td>1</td><td>0</td><td>1</td><td>0</td><td>...</td><td>0</td><td>5</td><td>30</td><td>30</td><td>1</td><td>0</td><td> 9</td><td>5</td><td>1</td><td>1</td></tr>\n",
       "\t<tr><td> 9</td><td>0</td><td>0</td><td>1</td><td>24</td><td>2</td><td>0</td><td>0</td><td>0</td><td>0</td><td>...</td><td>0</td><td>2</td><td> 0</td><td> 0</td><td>0</td><td>1</td><td> 8</td><td>4</td><td>3</td><td>0</td></tr>\n",
       "\t<tr><td>10</td><td>0</td><td>0</td><td>1</td><td>25</td><td>3</td><td>1</td><td>0</td><td>0</td><td>1</td><td>...</td><td>0</td><td>3</td><td> 0</td><td> 0</td><td>0</td><td>1</td><td>13</td><td>6</td><td>8</td><td>1</td></tr>\n",
       "\t<tr><td>11</td><td>1</td><td>1</td><td>1</td><td>34</td><td>4</td><td>1</td><td>0</td><td>0</td><td>0</td><td>...</td><td>0</td><td>3</td><td> 0</td><td>30</td><td>1</td><td>0</td><td>10</td><td>5</td><td>1</td><td>0</td></tr>\n",
       "\t<tr><td>12</td><td>0</td><td>0</td><td>1</td><td>26</td><td>3</td><td>1</td><td>0</td><td>0</td><td>0</td><td>...</td><td>0</td><td>3</td><td> 0</td><td>15</td><td>0</td><td>0</td><td> 7</td><td>5</td><td>7</td><td>0</td></tr>\n",
       "\t<tr><td>13</td><td>1</td><td>1</td><td>1</td><td>28</td><td>3</td><td>0</td><td>0</td><td>0</td><td>0</td><td>...</td><td>0</td><td>4</td><td> 0</td><td> 0</td><td>1</td><td>0</td><td>11</td><td>4</td><td>6</td><td>1</td></tr>\n",
       "\t<tr><td>14</td><td>0</td><td>1</td><td>1</td><td>33</td><td>4</td><td>1</td><td>1</td><td>0</td><td>1</td><td>...</td><td>1</td><td>4</td><td>30</td><td>28</td><td>0</td><td>0</td><td> 4</td><td>6</td><td>2</td><td>0</td></tr>\n",
       "\t<tr><td>15</td><td>1</td><td>0</td><td>1</td><td>33</td><td>4</td><td>0</td><td>0</td><td>0</td><td>1</td><td>...</td><td>0</td><td>2</td><td> 5</td><td> 0</td><td>0</td><td>0</td><td> 6</td><td>6</td><td>8</td><td>0</td></tr>\n",
       "\t<tr><td>16</td><td>1</td><td>1</td><td>1</td><td>21</td><td>2</td><td>0</td><td>0</td><td>0</td><td>1</td><td>...</td><td>0</td><td>3</td><td> 0</td><td> 0</td><td>0</td><td>0</td><td>10</td><td>4</td><td>3</td><td>0</td></tr>\n",
       "\t<tr><td>17</td><td>0</td><td>0</td><td>1</td><td>23</td><td>2</td><td>1</td><td>0</td><td>0</td><td>1</td><td>...</td><td>0</td><td>2</td><td> 0</td><td> 0</td><td>0</td><td>1</td><td> 7</td><td>5</td><td>6</td><td>1</td></tr>\n",
       "\t<tr><td>18</td><td>0</td><td>0</td><td>0</td><td>23</td><td>2</td><td>0</td><td>0</td><td>0</td><td>0</td><td>...</td><td>0</td><td>2</td><td>15</td><td> 0</td><td>0</td><td>0</td><td> 2</td><td>6</td><td>7</td><td>0</td></tr>\n",
       "\t<tr><td>19</td><td>0</td><td>1</td><td>1</td><td>28</td><td>3</td><td>0</td><td>0</td><td>0</td><td>0</td><td>...</td><td>0</td><td>2</td><td>10</td><td> 0</td><td>0</td><td>1</td><td> 4</td><td>6</td><td>8</td><td>0</td></tr>\n",
       "\t<tr><td>20</td><td>1</td><td>1</td><td>1</td><td>22</td><td>2</td><td>0</td><td>1</td><td>1</td><td>0</td><td>...</td><td>0</td><td>3</td><td>30</td><td> 0</td><td>1</td><td>0</td><td>12</td><td>4</td><td>4</td><td>0</td></tr>\n",
       "\t<tr><td>21</td><td>1</td><td>1</td><td>1</td><td>38</td><td>5</td><td>1</td><td>0</td><td>0</td><td>0</td><td>...</td><td>0</td><td>5</td><td>15</td><td>30</td><td>1</td><td>0</td><td>13</td><td>2</td><td>3</td><td>0</td></tr>\n",
       "\t<tr><td>22</td><td>0</td><td>0</td><td>1</td><td>28</td><td>3</td><td>1</td><td>0</td><td>0</td><td>0</td><td>...</td><td>0</td><td>3</td><td> 0</td><td> 7</td><td>0</td><td>1</td><td> 5</td><td>5</td><td>5</td><td>0</td></tr>\n",
       "\t<tr><td>23</td><td>1</td><td>0</td><td>1</td><td>27</td><td>3</td><td>0</td><td>0</td><td>0</td><td>1</td><td>...</td><td>0</td><td>1</td><td> 0</td><td> 0</td><td>0</td><td>0</td><td>13</td><td>5</td><td>4</td><td>1</td></tr>\n",
       "\t<tr><td>24</td><td>1</td><td>1</td><td>1</td><td>28</td><td>3</td><td>1</td><td>0</td><td>0</td><td>0</td><td>...</td><td>0</td><td>3</td><td> 6</td><td> 0</td><td>1</td><td>0</td><td> 9</td><td>4</td><td>6</td><td>0</td></tr>\n",
       "\t<tr><td>25</td><td>0</td><td>0</td><td>1</td><td>32</td><td>4</td><td>0</td><td>0</td><td>0</td><td>1</td><td>...</td><td>0</td><td>2</td><td> 0</td><td> 0</td><td>0</td><td>0</td><td> 5</td><td>6</td><td>8</td><td>0</td></tr>\n",
       "\t<tr><td>26</td><td>1</td><td>1</td><td>1</td><td>37</td><td>5</td><td>1</td><td>1</td><td>1</td><td>0</td><td>...</td><td>0</td><td>5</td><td> 0</td><td> 0</td><td>1</td><td>1</td><td>10</td><td>6</td><td>5</td><td>1</td></tr>\n",
       "\t<tr><td>27</td><td>1</td><td>1</td><td>1</td><td>28</td><td>3</td><td>1</td><td>0</td><td>1</td><td>0</td><td>...</td><td>0</td><td>4</td><td> 0</td><td> 0</td><td>0</td><td>1</td><td>12</td><td>2</td><td>4</td><td>1</td></tr>\n",
       "\t<tr><td>28</td><td>1</td><td>1</td><td>1</td><td>27</td><td>3</td><td>1</td><td>0</td><td>0</td><td>0</td><td>...</td><td>0</td><td>4</td><td>20</td><td>20</td><td>1</td><td>0</td><td> 8</td><td>4</td><td>7</td><td>1</td></tr>\n",
       "\t<tr><td>29</td><td>0</td><td>1</td><td>1</td><td>31</td><td>4</td><td>1</td><td>0</td><td>0</td><td>1</td><td>...</td><td>0</td><td>1</td><td> 0</td><td> 0</td><td>0</td><td>1</td><td>12</td><td>6</td><td>8</td><td>0</td></tr>\n",
       "\t<tr><td>...</td><td>...</td><td>...</td><td>...</td><td>...</td><td>...</td><td>...</td><td>...</td><td>...</td><td>...</td><td></td><td>...</td><td>...</td><td>...</td><td>...</td><td>...</td><td>...</td><td>...</td><td>...</td><td>...</td><td>...</td></tr>\n",
       "\t<tr><td>253650</td><td>1</td><td>0</td><td>1</td><td>27</td><td>3</td><td>0</td><td>0</td><td>0</td><td>1</td><td>...</td><td>0</td><td>4</td><td> 0</td><td> 0</td><td>0</td><td>0</td><td> 5</td><td>4</td><td>2</td><td>0</td></tr>\n",
       "\t<tr><td>253651</td><td>0</td><td>0</td><td>1</td><td>24</td><td>2</td><td>0</td><td>0</td><td>0</td><td>1</td><td>...</td><td>1</td><td>1</td><td> 0</td><td> 0</td><td>0</td><td>1</td><td> 2</td><td>6</td><td>3</td><td>0</td></tr>\n",
       "\t<tr><td>253652</td><td>0</td><td>1</td><td>1</td><td>27</td><td>3</td><td>0</td><td>0</td><td>0</td><td>1</td><td>...</td><td>0</td><td>4</td><td> 0</td><td>30</td><td>0</td><td>1</td><td>11</td><td>2</td><td>3</td><td>1</td></tr>\n",
       "\t<tr><td>253653</td><td>0</td><td>0</td><td>1</td><td>33</td><td>4</td><td>1</td><td>0</td><td>0</td><td>0</td><td>...</td><td>0</td><td>4</td><td> 0</td><td>15</td><td>0</td><td>1</td><td>10</td><td>6</td><td>3</td><td>0</td></tr>\n",
       "\t<tr><td>253654</td><td>0</td><td>0</td><td>1</td><td>26</td><td>3</td><td>1</td><td>0</td><td>0</td><td>1</td><td>...</td><td>0</td><td>2</td><td> 1</td><td> 0</td><td>0</td><td>1</td><td> 3</td><td>3</td><td>1</td><td>0</td></tr>\n",
       "\t<tr><td>253655</td><td>0</td><td>0</td><td>1</td><td>28</td><td>3</td><td>0</td><td>0</td><td>0</td><td>1</td><td>...</td><td>0</td><td>2</td><td> 0</td><td> 0</td><td>0</td><td>0</td><td> 2</td><td>6</td><td>4</td><td>0</td></tr>\n",
       "\t<tr><td>253656</td><td>0</td><td>0</td><td>1</td><td>25</td><td>3</td><td>0</td><td>0</td><td>0</td><td>1</td><td>...</td><td>0</td><td>1</td><td> 0</td><td> 0</td><td>0</td><td>0</td><td> 4</td><td>6</td><td>8</td><td>0</td></tr>\n",
       "\t<tr><td>253657</td><td>0</td><td>1</td><td>1</td><td>24</td><td>2</td><td>0</td><td>0</td><td>0</td><td>0</td><td>...</td><td>0</td><td>3</td><td> 0</td><td> 0</td><td>0</td><td>0</td><td> 7</td><td>5</td><td>3</td><td>0</td></tr>\n",
       "\t<tr><td>253658</td><td>0</td><td>0</td><td>0</td><td>27</td><td>3</td><td>0</td><td>0</td><td>0</td><td>1</td><td>...</td><td>1</td><td>2</td><td> 0</td><td> 0</td><td>0</td><td>0</td><td> 3</td><td>6</td><td>5</td><td>0</td></tr>\n",
       "\t<tr><td>253659</td><td>0</td><td>1</td><td>1</td><td>37</td><td>5</td><td>0</td><td>0</td><td>0</td><td>0</td><td>...</td><td>0</td><td>4</td><td> 0</td><td> 0</td><td>0</td><td>0</td><td> 6</td><td>4</td><td>1</td><td>1</td></tr>\n",
       "\t<tr><td>253660</td><td>0</td><td>1</td><td>1</td><td>34</td><td>4</td><td>1</td><td>0</td><td>0</td><td>0</td><td>...</td><td>0</td><td>3</td><td> 0</td><td> 2</td><td>1</td><td>0</td><td> 7</td><td>4</td><td>3</td><td>0</td></tr>\n",
       "\t<tr><td>253661</td><td>1</td><td>0</td><td>1</td><td>33</td><td>4</td><td>0</td><td>0</td><td>0</td><td>1</td><td>...</td><td>1</td><td>3</td><td> 0</td><td> 2</td><td>1</td><td>0</td><td> 6</td><td>6</td><td>6</td><td>0</td></tr>\n",
       "\t<tr><td>253662</td><td>0</td><td>0</td><td>1</td><td>16</td><td>1</td><td>0</td><td>0</td><td>0</td><td>1</td><td>...</td><td>0</td><td>1</td><td> 0</td><td> 0</td><td>0</td><td>0</td><td> 5</td><td>6</td><td>2</td><td>0</td></tr>\n",
       "\t<tr><td>253663</td><td>0</td><td>0</td><td>1</td><td>23</td><td>2</td><td>0</td><td>0</td><td>0</td><td>0</td><td>...</td><td>1</td><td>2</td><td> 0</td><td>30</td><td>0</td><td>0</td><td> 5</td><td>6</td><td>2</td><td>0</td></tr>\n",
       "\t<tr><td>253664</td><td>0</td><td>1</td><td>1</td><td>29</td><td>3</td><td>1</td><td>0</td><td>0</td><td>0</td><td>...</td><td>0</td><td>3</td><td> 0</td><td> 0</td><td>0</td><td>0</td><td> 6</td><td>6</td><td>4</td><td>0</td></tr>\n",
       "\t<tr><td>253665</td><td>0</td><td>1</td><td>1</td><td>17</td><td>1</td><td>0</td><td>0</td><td>0</td><td>0</td><td>...</td><td>1</td><td>4</td><td>30</td><td>30</td><td>0</td><td>0</td><td> 5</td><td>4</td><td>1</td><td>0</td></tr>\n",
       "\t<tr><td>253666</td><td>1</td><td>0</td><td>1</td><td>23</td><td>2</td><td>0</td><td>0</td><td>0</td><td>0</td><td>...</td><td>0</td><td>3</td><td> 0</td><td>15</td><td>0</td><td>0</td><td> 6</td><td>5</td><td>2</td><td>0</td></tr>\n",
       "\t<tr><td>253667</td><td>1</td><td>1</td><td>1</td><td>28</td><td>3</td><td>1</td><td>0</td><td>0</td><td>0</td><td>...</td><td>0</td><td>3</td><td> 0</td><td> 0</td><td>0</td><td>0</td><td>11</td><td>4</td><td>7</td><td>0</td></tr>\n",
       "\t<tr><td>253668</td><td>0</td><td>1</td><td>1</td><td>29</td><td>3</td><td>1</td><td>0</td><td>1</td><td>0</td><td>...</td><td>0</td><td>2</td><td> 0</td><td> 0</td><td>1</td><td>1</td><td>10</td><td>3</td><td>6</td><td>1</td></tr>\n",
       "\t<tr><td>253669</td><td>0</td><td>1</td><td>1</td><td>27</td><td>3</td><td>0</td><td>0</td><td>0</td><td>0</td><td>...</td><td>1</td><td>1</td><td> 0</td><td> 3</td><td>0</td><td>1</td><td> 6</td><td>2</td><td>4</td><td>0</td></tr>\n",
       "\t<tr><td>253670</td><td>1</td><td>1</td><td>1</td><td>25</td><td>3</td><td>0</td><td>0</td><td>1</td><td>0</td><td>...</td><td>0</td><td>5</td><td>15</td><td> 0</td><td>1</td><td>0</td><td>13</td><td>6</td><td>4</td><td>1</td></tr>\n",
       "\t<tr><td>253671</td><td>1</td><td>1</td><td>1</td><td>23</td><td>2</td><td>0</td><td>1</td><td>1</td><td>0</td><td>...</td><td>1</td><td>4</td><td> 0</td><td> 5</td><td>0</td><td>1</td><td> 8</td><td>3</td><td>2</td><td>0</td></tr>\n",
       "\t<tr><td>253672</td><td>1</td><td>0</td><td>1</td><td>30</td><td>4</td><td>1</td><td>0</td><td>1</td><td>1</td><td>...</td><td>0</td><td>3</td><td> 0</td><td> 0</td><td>0</td><td>1</td><td>12</td><td>2</td><td>1</td><td>0</td></tr>\n",
       "\t<tr><td>253673</td><td>1</td><td>0</td><td>1</td><td>42</td><td>6</td><td>0</td><td>0</td><td>0</td><td>1</td><td>...</td><td>0</td><td>3</td><td>14</td><td> 4</td><td>0</td><td>1</td><td> 3</td><td>6</td><td>8</td><td>0</td></tr>\n",
       "\t<tr><td>253674</td><td>0</td><td>0</td><td>1</td><td>27</td><td>3</td><td>0</td><td>0</td><td>0</td><td>0</td><td>...</td><td>0</td><td>1</td><td> 0</td><td> 0</td><td>0</td><td>0</td><td> 3</td><td>6</td><td>5</td><td>0</td></tr>\n",
       "\t<tr><td>253675</td><td>1</td><td>1</td><td>1</td><td>45</td><td>6</td><td>0</td><td>0</td><td>0</td><td>0</td><td>...</td><td>0</td><td>3</td><td> 0</td><td> 5</td><td>0</td><td>1</td><td> 5</td><td>6</td><td>7</td><td>0</td></tr>\n",
       "\t<tr><td>253676</td><td>1</td><td>1</td><td>1</td><td>18</td><td>1</td><td>0</td><td>0</td><td>0</td><td>0</td><td>...</td><td>0</td><td>4</td><td> 0</td><td> 0</td><td>1</td><td>0</td><td>11</td><td>2</td><td>4</td><td>1</td></tr>\n",
       "\t<tr><td>253677</td><td>0</td><td>0</td><td>1</td><td>28</td><td>3</td><td>0</td><td>0</td><td>0</td><td>1</td><td>...</td><td>0</td><td>1</td><td> 0</td><td> 0</td><td>0</td><td>0</td><td> 2</td><td>5</td><td>2</td><td>0</td></tr>\n",
       "\t<tr><td>253678</td><td>1</td><td>0</td><td>1</td><td>23</td><td>2</td><td>0</td><td>0</td><td>0</td><td>0</td><td>...</td><td>0</td><td>3</td><td> 0</td><td> 0</td><td>0</td><td>1</td><td> 7</td><td>5</td><td>1</td><td>0</td></tr>\n",
       "\t<tr><td>253679</td><td>1</td><td>1</td><td>1</td><td>25</td><td>3</td><td>0</td><td>0</td><td>1</td><td>1</td><td>...</td><td>0</td><td>2</td><td> 0</td><td> 0</td><td>0</td><td>0</td><td> 9</td><td>6</td><td>2</td><td>1</td></tr>\n",
       "</tbody>\n",
       "</table>\n"
      ],
      "text/latex": [
       "A data.frame: 253680 × 24\n",
       "\\begin{tabular}{lllllllllllllllllllll}\n",
       " Index & HighBP & HighChol & CholCheck & BMI & StdBMI & Smoker & Stroke & HeartDiseaseorAttack & PhysActivity & ... & NoDocbcCost & GenHlth & MentHlth & PhysHlth & DiffWalk & Sex & Age & Education & Income & Diabetes\\_binary\\\\\n",
       " <int> & <int> & <int> & <int> & <int> & <dbl> & <int> & <int> & <int> & <int> & ... & <int> & <int> & <int> & <int> & <int> & <int> & <int> & <int> & <int> & <int>\\\\\n",
       "\\hline\n",
       "\t  0 & 1 & 1 & 1 & 40 & 6 & 1 & 0 & 0 & 0 & ... & 0 & 5 & 18 & 15 & 1 & 0 &  9 & 4 & 3 & 0\\\\\n",
       "\t  1 & 0 & 0 & 0 & 25 & 3 & 1 & 0 & 0 & 1 & ... & 1 & 3 &  0 &  0 & 0 & 0 &  7 & 6 & 1 & 0\\\\\n",
       "\t  2 & 1 & 1 & 1 & 28 & 3 & 0 & 0 & 0 & 0 & ... & 1 & 5 & 30 & 30 & 1 & 0 &  9 & 4 & 8 & 0\\\\\n",
       "\t  3 & 1 & 0 & 1 & 27 & 3 & 0 & 0 & 0 & 1 & ... & 0 & 2 &  0 &  0 & 0 & 0 & 11 & 3 & 6 & 0\\\\\n",
       "\t  4 & 1 & 1 & 1 & 24 & 2 & 0 & 0 & 0 & 1 & ... & 0 & 2 &  3 &  0 & 0 & 0 & 11 & 5 & 4 & 0\\\\\n",
       "\t  5 & 1 & 1 & 1 & 25 & 3 & 1 & 0 & 0 & 1 & ... & 0 & 2 &  0 &  2 & 0 & 1 & 10 & 6 & 8 & 0\\\\\n",
       "\t  6 & 1 & 0 & 1 & 30 & 4 & 1 & 0 & 0 & 0 & ... & 0 & 3 &  0 & 14 & 0 & 0 &  9 & 6 & 7 & 0\\\\\n",
       "\t  7 & 1 & 1 & 1 & 25 & 3 & 1 & 0 & 0 & 1 & ... & 0 & 3 &  0 &  0 & 1 & 0 & 11 & 4 & 4 & 0\\\\\n",
       "\t  8 & 1 & 1 & 1 & 30 & 4 & 1 & 0 & 1 & 0 & ... & 0 & 5 & 30 & 30 & 1 & 0 &  9 & 5 & 1 & 1\\\\\n",
       "\t  9 & 0 & 0 & 1 & 24 & 2 & 0 & 0 & 0 & 0 & ... & 0 & 2 &  0 &  0 & 0 & 1 &  8 & 4 & 3 & 0\\\\\n",
       "\t 10 & 0 & 0 & 1 & 25 & 3 & 1 & 0 & 0 & 1 & ... & 0 & 3 &  0 &  0 & 0 & 1 & 13 & 6 & 8 & 1\\\\\n",
       "\t 11 & 1 & 1 & 1 & 34 & 4 & 1 & 0 & 0 & 0 & ... & 0 & 3 &  0 & 30 & 1 & 0 & 10 & 5 & 1 & 0\\\\\n",
       "\t 12 & 0 & 0 & 1 & 26 & 3 & 1 & 0 & 0 & 0 & ... & 0 & 3 &  0 & 15 & 0 & 0 &  7 & 5 & 7 & 0\\\\\n",
       "\t 13 & 1 & 1 & 1 & 28 & 3 & 0 & 0 & 0 & 0 & ... & 0 & 4 &  0 &  0 & 1 & 0 & 11 & 4 & 6 & 1\\\\\n",
       "\t 14 & 0 & 1 & 1 & 33 & 4 & 1 & 1 & 0 & 1 & ... & 1 & 4 & 30 & 28 & 0 & 0 &  4 & 6 & 2 & 0\\\\\n",
       "\t 15 & 1 & 0 & 1 & 33 & 4 & 0 & 0 & 0 & 1 & ... & 0 & 2 &  5 &  0 & 0 & 0 &  6 & 6 & 8 & 0\\\\\n",
       "\t 16 & 1 & 1 & 1 & 21 & 2 & 0 & 0 & 0 & 1 & ... & 0 & 3 &  0 &  0 & 0 & 0 & 10 & 4 & 3 & 0\\\\\n",
       "\t 17 & 0 & 0 & 1 & 23 & 2 & 1 & 0 & 0 & 1 & ... & 0 & 2 &  0 &  0 & 0 & 1 &  7 & 5 & 6 & 1\\\\\n",
       "\t 18 & 0 & 0 & 0 & 23 & 2 & 0 & 0 & 0 & 0 & ... & 0 & 2 & 15 &  0 & 0 & 0 &  2 & 6 & 7 & 0\\\\\n",
       "\t 19 & 0 & 1 & 1 & 28 & 3 & 0 & 0 & 0 & 0 & ... & 0 & 2 & 10 &  0 & 0 & 1 &  4 & 6 & 8 & 0\\\\\n",
       "\t 20 & 1 & 1 & 1 & 22 & 2 & 0 & 1 & 1 & 0 & ... & 0 & 3 & 30 &  0 & 1 & 0 & 12 & 4 & 4 & 0\\\\\n",
       "\t 21 & 1 & 1 & 1 & 38 & 5 & 1 & 0 & 0 & 0 & ... & 0 & 5 & 15 & 30 & 1 & 0 & 13 & 2 & 3 & 0\\\\\n",
       "\t 22 & 0 & 0 & 1 & 28 & 3 & 1 & 0 & 0 & 0 & ... & 0 & 3 &  0 &  7 & 0 & 1 &  5 & 5 & 5 & 0\\\\\n",
       "\t 23 & 1 & 0 & 1 & 27 & 3 & 0 & 0 & 0 & 1 & ... & 0 & 1 &  0 &  0 & 0 & 0 & 13 & 5 & 4 & 1\\\\\n",
       "\t 24 & 1 & 1 & 1 & 28 & 3 & 1 & 0 & 0 & 0 & ... & 0 & 3 &  6 &  0 & 1 & 0 &  9 & 4 & 6 & 0\\\\\n",
       "\t 25 & 0 & 0 & 1 & 32 & 4 & 0 & 0 & 0 & 1 & ... & 0 & 2 &  0 &  0 & 0 & 0 &  5 & 6 & 8 & 0\\\\\n",
       "\t 26 & 1 & 1 & 1 & 37 & 5 & 1 & 1 & 1 & 0 & ... & 0 & 5 &  0 &  0 & 1 & 1 & 10 & 6 & 5 & 1\\\\\n",
       "\t 27 & 1 & 1 & 1 & 28 & 3 & 1 & 0 & 1 & 0 & ... & 0 & 4 &  0 &  0 & 0 & 1 & 12 & 2 & 4 & 1\\\\\n",
       "\t 28 & 1 & 1 & 1 & 27 & 3 & 1 & 0 & 0 & 0 & ... & 0 & 4 & 20 & 20 & 1 & 0 &  8 & 4 & 7 & 1\\\\\n",
       "\t 29 & 0 & 1 & 1 & 31 & 4 & 1 & 0 & 0 & 1 & ... & 0 & 1 &  0 &  0 & 0 & 1 & 12 & 6 & 8 & 0\\\\\n",
       "\t ... & ... & ... & ... & ... & ... & ... & ... & ... & ... &  & ... & ... & ... & ... & ... & ... & ... & ... & ... & ...\\\\\n",
       "\t 253650 & 1 & 0 & 1 & 27 & 3 & 0 & 0 & 0 & 1 & ... & 0 & 4 &  0 &  0 & 0 & 0 &  5 & 4 & 2 & 0\\\\\n",
       "\t 253651 & 0 & 0 & 1 & 24 & 2 & 0 & 0 & 0 & 1 & ... & 1 & 1 &  0 &  0 & 0 & 1 &  2 & 6 & 3 & 0\\\\\n",
       "\t 253652 & 0 & 1 & 1 & 27 & 3 & 0 & 0 & 0 & 1 & ... & 0 & 4 &  0 & 30 & 0 & 1 & 11 & 2 & 3 & 1\\\\\n",
       "\t 253653 & 0 & 0 & 1 & 33 & 4 & 1 & 0 & 0 & 0 & ... & 0 & 4 &  0 & 15 & 0 & 1 & 10 & 6 & 3 & 0\\\\\n",
       "\t 253654 & 0 & 0 & 1 & 26 & 3 & 1 & 0 & 0 & 1 & ... & 0 & 2 &  1 &  0 & 0 & 1 &  3 & 3 & 1 & 0\\\\\n",
       "\t 253655 & 0 & 0 & 1 & 28 & 3 & 0 & 0 & 0 & 1 & ... & 0 & 2 &  0 &  0 & 0 & 0 &  2 & 6 & 4 & 0\\\\\n",
       "\t 253656 & 0 & 0 & 1 & 25 & 3 & 0 & 0 & 0 & 1 & ... & 0 & 1 &  0 &  0 & 0 & 0 &  4 & 6 & 8 & 0\\\\\n",
       "\t 253657 & 0 & 1 & 1 & 24 & 2 & 0 & 0 & 0 & 0 & ... & 0 & 3 &  0 &  0 & 0 & 0 &  7 & 5 & 3 & 0\\\\\n",
       "\t 253658 & 0 & 0 & 0 & 27 & 3 & 0 & 0 & 0 & 1 & ... & 1 & 2 &  0 &  0 & 0 & 0 &  3 & 6 & 5 & 0\\\\\n",
       "\t 253659 & 0 & 1 & 1 & 37 & 5 & 0 & 0 & 0 & 0 & ... & 0 & 4 &  0 &  0 & 0 & 0 &  6 & 4 & 1 & 1\\\\\n",
       "\t 253660 & 0 & 1 & 1 & 34 & 4 & 1 & 0 & 0 & 0 & ... & 0 & 3 &  0 &  2 & 1 & 0 &  7 & 4 & 3 & 0\\\\\n",
       "\t 253661 & 1 & 0 & 1 & 33 & 4 & 0 & 0 & 0 & 1 & ... & 1 & 3 &  0 &  2 & 1 & 0 &  6 & 6 & 6 & 0\\\\\n",
       "\t 253662 & 0 & 0 & 1 & 16 & 1 & 0 & 0 & 0 & 1 & ... & 0 & 1 &  0 &  0 & 0 & 0 &  5 & 6 & 2 & 0\\\\\n",
       "\t 253663 & 0 & 0 & 1 & 23 & 2 & 0 & 0 & 0 & 0 & ... & 1 & 2 &  0 & 30 & 0 & 0 &  5 & 6 & 2 & 0\\\\\n",
       "\t 253664 & 0 & 1 & 1 & 29 & 3 & 1 & 0 & 0 & 0 & ... & 0 & 3 &  0 &  0 & 0 & 0 &  6 & 6 & 4 & 0\\\\\n",
       "\t 253665 & 0 & 1 & 1 & 17 & 1 & 0 & 0 & 0 & 0 & ... & 1 & 4 & 30 & 30 & 0 & 0 &  5 & 4 & 1 & 0\\\\\n",
       "\t 253666 & 1 & 0 & 1 & 23 & 2 & 0 & 0 & 0 & 0 & ... & 0 & 3 &  0 & 15 & 0 & 0 &  6 & 5 & 2 & 0\\\\\n",
       "\t 253667 & 1 & 1 & 1 & 28 & 3 & 1 & 0 & 0 & 0 & ... & 0 & 3 &  0 &  0 & 0 & 0 & 11 & 4 & 7 & 0\\\\\n",
       "\t 253668 & 0 & 1 & 1 & 29 & 3 & 1 & 0 & 1 & 0 & ... & 0 & 2 &  0 &  0 & 1 & 1 & 10 & 3 & 6 & 1\\\\\n",
       "\t 253669 & 0 & 1 & 1 & 27 & 3 & 0 & 0 & 0 & 0 & ... & 1 & 1 &  0 &  3 & 0 & 1 &  6 & 2 & 4 & 0\\\\\n",
       "\t 253670 & 1 & 1 & 1 & 25 & 3 & 0 & 0 & 1 & 0 & ... & 0 & 5 & 15 &  0 & 1 & 0 & 13 & 6 & 4 & 1\\\\\n",
       "\t 253671 & 1 & 1 & 1 & 23 & 2 & 0 & 1 & 1 & 0 & ... & 1 & 4 &  0 &  5 & 0 & 1 &  8 & 3 & 2 & 0\\\\\n",
       "\t 253672 & 1 & 0 & 1 & 30 & 4 & 1 & 0 & 1 & 1 & ... & 0 & 3 &  0 &  0 & 0 & 1 & 12 & 2 & 1 & 0\\\\\n",
       "\t 253673 & 1 & 0 & 1 & 42 & 6 & 0 & 0 & 0 & 1 & ... & 0 & 3 & 14 &  4 & 0 & 1 &  3 & 6 & 8 & 0\\\\\n",
       "\t 253674 & 0 & 0 & 1 & 27 & 3 & 0 & 0 & 0 & 0 & ... & 0 & 1 &  0 &  0 & 0 & 0 &  3 & 6 & 5 & 0\\\\\n",
       "\t 253675 & 1 & 1 & 1 & 45 & 6 & 0 & 0 & 0 & 0 & ... & 0 & 3 &  0 &  5 & 0 & 1 &  5 & 6 & 7 & 0\\\\\n",
       "\t 253676 & 1 & 1 & 1 & 18 & 1 & 0 & 0 & 0 & 0 & ... & 0 & 4 &  0 &  0 & 1 & 0 & 11 & 2 & 4 & 1\\\\\n",
       "\t 253677 & 0 & 0 & 1 & 28 & 3 & 0 & 0 & 0 & 1 & ... & 0 & 1 &  0 &  0 & 0 & 0 &  2 & 5 & 2 & 0\\\\\n",
       "\t 253678 & 1 & 0 & 1 & 23 & 2 & 0 & 0 & 0 & 0 & ... & 0 & 3 &  0 &  0 & 0 & 1 &  7 & 5 & 1 & 0\\\\\n",
       "\t 253679 & 1 & 1 & 1 & 25 & 3 & 0 & 0 & 1 & 1 & ... & 0 & 2 &  0 &  0 & 0 & 0 &  9 & 6 & 2 & 1\\\\\n",
       "\\end{tabular}\n"
      ],
      "text/markdown": [
       "\n",
       "A data.frame: 253680 × 24\n",
       "\n",
       "| Index &lt;int&gt; | HighBP &lt;int&gt; | HighChol &lt;int&gt; | CholCheck &lt;int&gt; | BMI &lt;int&gt; | StdBMI &lt;dbl&gt; | Smoker &lt;int&gt; | Stroke &lt;int&gt; | HeartDiseaseorAttack &lt;int&gt; | PhysActivity &lt;int&gt; | ... ... | NoDocbcCost &lt;int&gt; | GenHlth &lt;int&gt; | MentHlth &lt;int&gt; | PhysHlth &lt;int&gt; | DiffWalk &lt;int&gt; | Sex &lt;int&gt; | Age &lt;int&gt; | Education &lt;int&gt; | Income &lt;int&gt; | Diabetes_binary &lt;int&gt; |\n",
       "|---|---|---|---|---|---|---|---|---|---|---|---|---|---|---|---|---|---|---|---|---|\n",
       "|  0 | 1 | 1 | 1 | 40 | 6 | 1 | 0 | 0 | 0 | ... | 0 | 5 | 18 | 15 | 1 | 0 |  9 | 4 | 3 | 0 |\n",
       "|  1 | 0 | 0 | 0 | 25 | 3 | 1 | 0 | 0 | 1 | ... | 1 | 3 |  0 |  0 | 0 | 0 |  7 | 6 | 1 | 0 |\n",
       "|  2 | 1 | 1 | 1 | 28 | 3 | 0 | 0 | 0 | 0 | ... | 1 | 5 | 30 | 30 | 1 | 0 |  9 | 4 | 8 | 0 |\n",
       "|  3 | 1 | 0 | 1 | 27 | 3 | 0 | 0 | 0 | 1 | ... | 0 | 2 |  0 |  0 | 0 | 0 | 11 | 3 | 6 | 0 |\n",
       "|  4 | 1 | 1 | 1 | 24 | 2 | 0 | 0 | 0 | 1 | ... | 0 | 2 |  3 |  0 | 0 | 0 | 11 | 5 | 4 | 0 |\n",
       "|  5 | 1 | 1 | 1 | 25 | 3 | 1 | 0 | 0 | 1 | ... | 0 | 2 |  0 |  2 | 0 | 1 | 10 | 6 | 8 | 0 |\n",
       "|  6 | 1 | 0 | 1 | 30 | 4 | 1 | 0 | 0 | 0 | ... | 0 | 3 |  0 | 14 | 0 | 0 |  9 | 6 | 7 | 0 |\n",
       "|  7 | 1 | 1 | 1 | 25 | 3 | 1 | 0 | 0 | 1 | ... | 0 | 3 |  0 |  0 | 1 | 0 | 11 | 4 | 4 | 0 |\n",
       "|  8 | 1 | 1 | 1 | 30 | 4 | 1 | 0 | 1 | 0 | ... | 0 | 5 | 30 | 30 | 1 | 0 |  9 | 5 | 1 | 1 |\n",
       "|  9 | 0 | 0 | 1 | 24 | 2 | 0 | 0 | 0 | 0 | ... | 0 | 2 |  0 |  0 | 0 | 1 |  8 | 4 | 3 | 0 |\n",
       "| 10 | 0 | 0 | 1 | 25 | 3 | 1 | 0 | 0 | 1 | ... | 0 | 3 |  0 |  0 | 0 | 1 | 13 | 6 | 8 | 1 |\n",
       "| 11 | 1 | 1 | 1 | 34 | 4 | 1 | 0 | 0 | 0 | ... | 0 | 3 |  0 | 30 | 1 | 0 | 10 | 5 | 1 | 0 |\n",
       "| 12 | 0 | 0 | 1 | 26 | 3 | 1 | 0 | 0 | 0 | ... | 0 | 3 |  0 | 15 | 0 | 0 |  7 | 5 | 7 | 0 |\n",
       "| 13 | 1 | 1 | 1 | 28 | 3 | 0 | 0 | 0 | 0 | ... | 0 | 4 |  0 |  0 | 1 | 0 | 11 | 4 | 6 | 1 |\n",
       "| 14 | 0 | 1 | 1 | 33 | 4 | 1 | 1 | 0 | 1 | ... | 1 | 4 | 30 | 28 | 0 | 0 |  4 | 6 | 2 | 0 |\n",
       "| 15 | 1 | 0 | 1 | 33 | 4 | 0 | 0 | 0 | 1 | ... | 0 | 2 |  5 |  0 | 0 | 0 |  6 | 6 | 8 | 0 |\n",
       "| 16 | 1 | 1 | 1 | 21 | 2 | 0 | 0 | 0 | 1 | ... | 0 | 3 |  0 |  0 | 0 | 0 | 10 | 4 | 3 | 0 |\n",
       "| 17 | 0 | 0 | 1 | 23 | 2 | 1 | 0 | 0 | 1 | ... | 0 | 2 |  0 |  0 | 0 | 1 |  7 | 5 | 6 | 1 |\n",
       "| 18 | 0 | 0 | 0 | 23 | 2 | 0 | 0 | 0 | 0 | ... | 0 | 2 | 15 |  0 | 0 | 0 |  2 | 6 | 7 | 0 |\n",
       "| 19 | 0 | 1 | 1 | 28 | 3 | 0 | 0 | 0 | 0 | ... | 0 | 2 | 10 |  0 | 0 | 1 |  4 | 6 | 8 | 0 |\n",
       "| 20 | 1 | 1 | 1 | 22 | 2 | 0 | 1 | 1 | 0 | ... | 0 | 3 | 30 |  0 | 1 | 0 | 12 | 4 | 4 | 0 |\n",
       "| 21 | 1 | 1 | 1 | 38 | 5 | 1 | 0 | 0 | 0 | ... | 0 | 5 | 15 | 30 | 1 | 0 | 13 | 2 | 3 | 0 |\n",
       "| 22 | 0 | 0 | 1 | 28 | 3 | 1 | 0 | 0 | 0 | ... | 0 | 3 |  0 |  7 | 0 | 1 |  5 | 5 | 5 | 0 |\n",
       "| 23 | 1 | 0 | 1 | 27 | 3 | 0 | 0 | 0 | 1 | ... | 0 | 1 |  0 |  0 | 0 | 0 | 13 | 5 | 4 | 1 |\n",
       "| 24 | 1 | 1 | 1 | 28 | 3 | 1 | 0 | 0 | 0 | ... | 0 | 3 |  6 |  0 | 1 | 0 |  9 | 4 | 6 | 0 |\n",
       "| 25 | 0 | 0 | 1 | 32 | 4 | 0 | 0 | 0 | 1 | ... | 0 | 2 |  0 |  0 | 0 | 0 |  5 | 6 | 8 | 0 |\n",
       "| 26 | 1 | 1 | 1 | 37 | 5 | 1 | 1 | 1 | 0 | ... | 0 | 5 |  0 |  0 | 1 | 1 | 10 | 6 | 5 | 1 |\n",
       "| 27 | 1 | 1 | 1 | 28 | 3 | 1 | 0 | 1 | 0 | ... | 0 | 4 |  0 |  0 | 0 | 1 | 12 | 2 | 4 | 1 |\n",
       "| 28 | 1 | 1 | 1 | 27 | 3 | 1 | 0 | 0 | 0 | ... | 0 | 4 | 20 | 20 | 1 | 0 |  8 | 4 | 7 | 1 |\n",
       "| 29 | 0 | 1 | 1 | 31 | 4 | 1 | 0 | 0 | 1 | ... | 0 | 1 |  0 |  0 | 0 | 1 | 12 | 6 | 8 | 0 |\n",
       "| ... | ... | ... | ... | ... | ... | ... | ... | ... | ... | <!----> | ... | ... | ... | ... | ... | ... | ... | ... | ... | ... |\n",
       "| 253650 | 1 | 0 | 1 | 27 | 3 | 0 | 0 | 0 | 1 | ... | 0 | 4 |  0 |  0 | 0 | 0 |  5 | 4 | 2 | 0 |\n",
       "| 253651 | 0 | 0 | 1 | 24 | 2 | 0 | 0 | 0 | 1 | ... | 1 | 1 |  0 |  0 | 0 | 1 |  2 | 6 | 3 | 0 |\n",
       "| 253652 | 0 | 1 | 1 | 27 | 3 | 0 | 0 | 0 | 1 | ... | 0 | 4 |  0 | 30 | 0 | 1 | 11 | 2 | 3 | 1 |\n",
       "| 253653 | 0 | 0 | 1 | 33 | 4 | 1 | 0 | 0 | 0 | ... | 0 | 4 |  0 | 15 | 0 | 1 | 10 | 6 | 3 | 0 |\n",
       "| 253654 | 0 | 0 | 1 | 26 | 3 | 1 | 0 | 0 | 1 | ... | 0 | 2 |  1 |  0 | 0 | 1 |  3 | 3 | 1 | 0 |\n",
       "| 253655 | 0 | 0 | 1 | 28 | 3 | 0 | 0 | 0 | 1 | ... | 0 | 2 |  0 |  0 | 0 | 0 |  2 | 6 | 4 | 0 |\n",
       "| 253656 | 0 | 0 | 1 | 25 | 3 | 0 | 0 | 0 | 1 | ... | 0 | 1 |  0 |  0 | 0 | 0 |  4 | 6 | 8 | 0 |\n",
       "| 253657 | 0 | 1 | 1 | 24 | 2 | 0 | 0 | 0 | 0 | ... | 0 | 3 |  0 |  0 | 0 | 0 |  7 | 5 | 3 | 0 |\n",
       "| 253658 | 0 | 0 | 0 | 27 | 3 | 0 | 0 | 0 | 1 | ... | 1 | 2 |  0 |  0 | 0 | 0 |  3 | 6 | 5 | 0 |\n",
       "| 253659 | 0 | 1 | 1 | 37 | 5 | 0 | 0 | 0 | 0 | ... | 0 | 4 |  0 |  0 | 0 | 0 |  6 | 4 | 1 | 1 |\n",
       "| 253660 | 0 | 1 | 1 | 34 | 4 | 1 | 0 | 0 | 0 | ... | 0 | 3 |  0 |  2 | 1 | 0 |  7 | 4 | 3 | 0 |\n",
       "| 253661 | 1 | 0 | 1 | 33 | 4 | 0 | 0 | 0 | 1 | ... | 1 | 3 |  0 |  2 | 1 | 0 |  6 | 6 | 6 | 0 |\n",
       "| 253662 | 0 | 0 | 1 | 16 | 1 | 0 | 0 | 0 | 1 | ... | 0 | 1 |  0 |  0 | 0 | 0 |  5 | 6 | 2 | 0 |\n",
       "| 253663 | 0 | 0 | 1 | 23 | 2 | 0 | 0 | 0 | 0 | ... | 1 | 2 |  0 | 30 | 0 | 0 |  5 | 6 | 2 | 0 |\n",
       "| 253664 | 0 | 1 | 1 | 29 | 3 | 1 | 0 | 0 | 0 | ... | 0 | 3 |  0 |  0 | 0 | 0 |  6 | 6 | 4 | 0 |\n",
       "| 253665 | 0 | 1 | 1 | 17 | 1 | 0 | 0 | 0 | 0 | ... | 1 | 4 | 30 | 30 | 0 | 0 |  5 | 4 | 1 | 0 |\n",
       "| 253666 | 1 | 0 | 1 | 23 | 2 | 0 | 0 | 0 | 0 | ... | 0 | 3 |  0 | 15 | 0 | 0 |  6 | 5 | 2 | 0 |\n",
       "| 253667 | 1 | 1 | 1 | 28 | 3 | 1 | 0 | 0 | 0 | ... | 0 | 3 |  0 |  0 | 0 | 0 | 11 | 4 | 7 | 0 |\n",
       "| 253668 | 0 | 1 | 1 | 29 | 3 | 1 | 0 | 1 | 0 | ... | 0 | 2 |  0 |  0 | 1 | 1 | 10 | 3 | 6 | 1 |\n",
       "| 253669 | 0 | 1 | 1 | 27 | 3 | 0 | 0 | 0 | 0 | ... | 1 | 1 |  0 |  3 | 0 | 1 |  6 | 2 | 4 | 0 |\n",
       "| 253670 | 1 | 1 | 1 | 25 | 3 | 0 | 0 | 1 | 0 | ... | 0 | 5 | 15 |  0 | 1 | 0 | 13 | 6 | 4 | 1 |\n",
       "| 253671 | 1 | 1 | 1 | 23 | 2 | 0 | 1 | 1 | 0 | ... | 1 | 4 |  0 |  5 | 0 | 1 |  8 | 3 | 2 | 0 |\n",
       "| 253672 | 1 | 0 | 1 | 30 | 4 | 1 | 0 | 1 | 1 | ... | 0 | 3 |  0 |  0 | 0 | 1 | 12 | 2 | 1 | 0 |\n",
       "| 253673 | 1 | 0 | 1 | 42 | 6 | 0 | 0 | 0 | 1 | ... | 0 | 3 | 14 |  4 | 0 | 1 |  3 | 6 | 8 | 0 |\n",
       "| 253674 | 0 | 0 | 1 | 27 | 3 | 0 | 0 | 0 | 0 | ... | 0 | 1 |  0 |  0 | 0 | 0 |  3 | 6 | 5 | 0 |\n",
       "| 253675 | 1 | 1 | 1 | 45 | 6 | 0 | 0 | 0 | 0 | ... | 0 | 3 |  0 |  5 | 0 | 1 |  5 | 6 | 7 | 0 |\n",
       "| 253676 | 1 | 1 | 1 | 18 | 1 | 0 | 0 | 0 | 0 | ... | 0 | 4 |  0 |  0 | 1 | 0 | 11 | 2 | 4 | 1 |\n",
       "| 253677 | 0 | 0 | 1 | 28 | 3 | 0 | 0 | 0 | 1 | ... | 0 | 1 |  0 |  0 | 0 | 0 |  2 | 5 | 2 | 0 |\n",
       "| 253678 | 1 | 0 | 1 | 23 | 2 | 0 | 0 | 0 | 0 | ... | 0 | 3 |  0 |  0 | 0 | 1 |  7 | 5 | 1 | 0 |\n",
       "| 253679 | 1 | 1 | 1 | 25 | 3 | 0 | 0 | 1 | 1 | ... | 0 | 2 |  0 |  0 | 0 | 0 |  9 | 6 | 2 | 1 |\n",
       "\n"
      ],
      "text/plain": [
       "       Index  HighBP HighChol CholCheck BMI StdBMI Smoker Stroke\n",
       "1       0     1      1        1         40  6      1      0     \n",
       "2       1     0      0        0         25  3      1      0     \n",
       "3       2     1      1        1         28  3      0      0     \n",
       "4       3     1      0        1         27  3      0      0     \n",
       "5       4     1      1        1         24  2      0      0     \n",
       "6       5     1      1        1         25  3      1      0     \n",
       "7       6     1      0        1         30  4      1      0     \n",
       "8       7     1      1        1         25  3      1      0     \n",
       "9       8     1      1        1         30  4      1      0     \n",
       "10      9     0      0        1         24  2      0      0     \n",
       "11     10     0      0        1         25  3      1      0     \n",
       "12     11     1      1        1         34  4      1      0     \n",
       "13     12     0      0        1         26  3      1      0     \n",
       "14     13     1      1        1         28  3      0      0     \n",
       "15     14     0      1        1         33  4      1      1     \n",
       "16     15     1      0        1         33  4      0      0     \n",
       "17     16     1      1        1         21  2      0      0     \n",
       "18     17     0      0        1         23  2      1      0     \n",
       "19     18     0      0        0         23  2      0      0     \n",
       "20     19     0      1        1         28  3      0      0     \n",
       "21     20     1      1        1         22  2      0      1     \n",
       "22     21     1      1        1         38  5      1      0     \n",
       "23     22     0      0        1         28  3      1      0     \n",
       "24     23     1      0        1         27  3      0      0     \n",
       "25     24     1      1        1         28  3      1      0     \n",
       "26     25     0      0        1         32  4      0      0     \n",
       "27     26     1      1        1         37  5      1      1     \n",
       "28     27     1      1        1         28  3      1      0     \n",
       "29     28     1      1        1         27  3      1      0     \n",
       "30     29     0      1        1         31  4      1      0     \n",
       "...    ...    ...    ...      ...       ... ...    ...    ...   \n",
       "253651 253650 1      0        1         27  3      0      0     \n",
       "253652 253651 0      0        1         24  2      0      0     \n",
       "253653 253652 0      1        1         27  3      0      0     \n",
       "253654 253653 0      0        1         33  4      1      0     \n",
       "253655 253654 0      0        1         26  3      1      0     \n",
       "253656 253655 0      0        1         28  3      0      0     \n",
       "253657 253656 0      0        1         25  3      0      0     \n",
       "253658 253657 0      1        1         24  2      0      0     \n",
       "253659 253658 0      0        0         27  3      0      0     \n",
       "253660 253659 0      1        1         37  5      0      0     \n",
       "253661 253660 0      1        1         34  4      1      0     \n",
       "253662 253661 1      0        1         33  4      0      0     \n",
       "253663 253662 0      0        1         16  1      0      0     \n",
       "253664 253663 0      0        1         23  2      0      0     \n",
       "253665 253664 0      1        1         29  3      1      0     \n",
       "253666 253665 0      1        1         17  1      0      0     \n",
       "253667 253666 1      0        1         23  2      0      0     \n",
       "253668 253667 1      1        1         28  3      1      0     \n",
       "253669 253668 0      1        1         29  3      1      0     \n",
       "253670 253669 0      1        1         27  3      0      0     \n",
       "253671 253670 1      1        1         25  3      0      0     \n",
       "253672 253671 1      1        1         23  2      0      1     \n",
       "253673 253672 1      0        1         30  4      1      0     \n",
       "253674 253673 1      0        1         42  6      0      0     \n",
       "253675 253674 0      0        1         27  3      0      0     \n",
       "253676 253675 1      1        1         45  6      0      0     \n",
       "253677 253676 1      1        1         18  1      0      0     \n",
       "253678 253677 0      0        1         28  3      0      0     \n",
       "253679 253678 1      0        1         23  2      0      0     \n",
       "253680 253679 1      1        1         25  3      0      0     \n",
       "       HeartDiseaseorAttack PhysActivity ... NoDocbcCost GenHlth MentHlth\n",
       "1      0                    0            ... 0           5       18      \n",
       "2      0                    1            ... 1           3        0      \n",
       "3      0                    0            ... 1           5       30      \n",
       "4      0                    1            ... 0           2        0      \n",
       "5      0                    1            ... 0           2        3      \n",
       "6      0                    1            ... 0           2        0      \n",
       "7      0                    0            ... 0           3        0      \n",
       "8      0                    1            ... 0           3        0      \n",
       "9      1                    0            ... 0           5       30      \n",
       "10     0                    0            ... 0           2        0      \n",
       "11     0                    1            ... 0           3        0      \n",
       "12     0                    0            ... 0           3        0      \n",
       "13     0                    0            ... 0           3        0      \n",
       "14     0                    0            ... 0           4        0      \n",
       "15     0                    1            ... 1           4       30      \n",
       "16     0                    1            ... 0           2        5      \n",
       "17     0                    1            ... 0           3        0      \n",
       "18     0                    1            ... 0           2        0      \n",
       "19     0                    0            ... 0           2       15      \n",
       "20     0                    0            ... 0           2       10      \n",
       "21     1                    0            ... 0           3       30      \n",
       "22     0                    0            ... 0           5       15      \n",
       "23     0                    0            ... 0           3        0      \n",
       "24     0                    1            ... 0           1        0      \n",
       "25     0                    0            ... 0           3        6      \n",
       "26     0                    1            ... 0           2        0      \n",
       "27     1                    0            ... 0           5        0      \n",
       "28     1                    0            ... 0           4        0      \n",
       "29     0                    0            ... 0           4       20      \n",
       "30     0                    1            ... 0           1        0      \n",
       "...    ...                  ...              ...         ...     ...     \n",
       "253651 0                    1            ... 0           4        0      \n",
       "253652 0                    1            ... 1           1        0      \n",
       "253653 0                    1            ... 0           4        0      \n",
       "253654 0                    0            ... 0           4        0      \n",
       "253655 0                    1            ... 0           2        1      \n",
       "253656 0                    1            ... 0           2        0      \n",
       "253657 0                    1            ... 0           1        0      \n",
       "253658 0                    0            ... 0           3        0      \n",
       "253659 0                    1            ... 1           2        0      \n",
       "253660 0                    0            ... 0           4        0      \n",
       "253661 0                    0            ... 0           3        0      \n",
       "253662 0                    1            ... 1           3        0      \n",
       "253663 0                    1            ... 0           1        0      \n",
       "253664 0                    0            ... 1           2        0      \n",
       "253665 0                    0            ... 0           3        0      \n",
       "253666 0                    0            ... 1           4       30      \n",
       "253667 0                    0            ... 0           3        0      \n",
       "253668 0                    0            ... 0           3        0      \n",
       "253669 1                    0            ... 0           2        0      \n",
       "253670 0                    0            ... 1           1        0      \n",
       "253671 1                    0            ... 0           5       15      \n",
       "253672 1                    0            ... 1           4        0      \n",
       "253673 1                    1            ... 0           3        0      \n",
       "253674 0                    1            ... 0           3       14      \n",
       "253675 0                    0            ... 0           1        0      \n",
       "253676 0                    0            ... 0           3        0      \n",
       "253677 0                    0            ... 0           4        0      \n",
       "253678 0                    1            ... 0           1        0      \n",
       "253679 0                    0            ... 0           3        0      \n",
       "253680 1                    1            ... 0           2        0      \n",
       "       PhysHlth DiffWalk Sex Age Education Income Diabetes_binary\n",
       "1      15       1        0    9  4         3      0              \n",
       "2       0       0        0    7  6         1      0              \n",
       "3      30       1        0    9  4         8      0              \n",
       "4       0       0        0   11  3         6      0              \n",
       "5       0       0        0   11  5         4      0              \n",
       "6       2       0        1   10  6         8      0              \n",
       "7      14       0        0    9  6         7      0              \n",
       "8       0       1        0   11  4         4      0              \n",
       "9      30       1        0    9  5         1      1              \n",
       "10      0       0        1    8  4         3      0              \n",
       "11      0       0        1   13  6         8      1              \n",
       "12     30       1        0   10  5         1      0              \n",
       "13     15       0        0    7  5         7      0              \n",
       "14      0       1        0   11  4         6      1              \n",
       "15     28       0        0    4  6         2      0              \n",
       "16      0       0        0    6  6         8      0              \n",
       "17      0       0        0   10  4         3      0              \n",
       "18      0       0        1    7  5         6      1              \n",
       "19      0       0        0    2  6         7      0              \n",
       "20      0       0        1    4  6         8      0              \n",
       "21      0       1        0   12  4         4      0              \n",
       "22     30       1        0   13  2         3      0              \n",
       "23      7       0        1    5  5         5      0              \n",
       "24      0       0        0   13  5         4      1              \n",
       "25      0       1        0    9  4         6      0              \n",
       "26      0       0        0    5  6         8      0              \n",
       "27      0       1        1   10  6         5      1              \n",
       "28      0       0        1   12  2         4      1              \n",
       "29     20       1        0    8  4         7      1              \n",
       "30      0       0        1   12  6         8      0              \n",
       "...    ...      ...      ... ... ...       ...    ...            \n",
       "253651  0       0        0    5  4         2      0              \n",
       "253652  0       0        1    2  6         3      0              \n",
       "253653 30       0        1   11  2         3      1              \n",
       "253654 15       0        1   10  6         3      0              \n",
       "253655  0       0        1    3  3         1      0              \n",
       "253656  0       0        0    2  6         4      0              \n",
       "253657  0       0        0    4  6         8      0              \n",
       "253658  0       0        0    7  5         3      0              \n",
       "253659  0       0        0    3  6         5      0              \n",
       "253660  0       0        0    6  4         1      1              \n",
       "253661  2       1        0    7  4         3      0              \n",
       "253662  2       1        0    6  6         6      0              \n",
       "253663  0       0        0    5  6         2      0              \n",
       "253664 30       0        0    5  6         2      0              \n",
       "253665  0       0        0    6  6         4      0              \n",
       "253666 30       0        0    5  4         1      0              \n",
       "253667 15       0        0    6  5         2      0              \n",
       "253668  0       0        0   11  4         7      0              \n",
       "253669  0       1        1   10  3         6      1              \n",
       "253670  3       0        1    6  2         4      0              \n",
       "253671  0       1        0   13  6         4      1              \n",
       "253672  5       0        1    8  3         2      0              \n",
       "253673  0       0        1   12  2         1      0              \n",
       "253674  4       0        1    3  6         8      0              \n",
       "253675  0       0        0    3  6         5      0              \n",
       "253676  5       0        1    5  6         7      0              \n",
       "253677  0       1        0   11  2         4      1              \n",
       "253678  0       0        0    2  5         2      0              \n",
       "253679  0       0        1    7  5         1      0              \n",
       "253680  0       0        0    9  6         2      1              "
      ]
     },
     "metadata": {},
     "output_type": "display_data"
    }
   ],
   "source": [
    "df_std_1"
   ]
  },
  {
   "cell_type": "code",
   "execution_count": 67,
   "id": "ab02ff33-2f29-44b2-8499-c3cd86e57862",
   "metadata": {},
   "outputs": [
    {
     "data": {
      "text/plain": [
       "\n",
       "    1     2     3     4     5     6 \n",
       " 3127 68953 93749 53451 20663 13737 "
      ]
     },
     "metadata": {},
     "output_type": "display_data"
    }
   ],
   "source": [
    "table(df_std_1$StdBMI)"
   ]
  },
  {
   "cell_type": "code",
   "execution_count": 68,
   "id": "ea7ba198-b24c-4616-81c3-0621f7559a6f",
   "metadata": {},
   "outputs": [
    {
     "data": {
      "image/png": "[encoded data removed]",
      "text/plain": [
       "Plot with title \"BMI groups (WHO recommendation)\""
      ]
     },
     "metadata": {
      "image/png": {
       "height": 420,
       "width": 420
      }
     },
     "output_type": "display_data"
    }
   ],
   "source": [
    "barplot(table(df_std_1$StdBMI), main=\"BMI groups (WHO recommendation)\")"
   ]
  },
  {
   "cell_type": "code",
   "execution_count": 69,
   "id": "87e47738-a1e3-4d80-b6da-9eff7b721d2c",
   "metadata": {},
   "outputs": [
    {
     "name": "stdout",
     "output_type": "stream",
     "text": [
      "'data.frame':\t253680 obs. of  24 variables:\n",
      " $ Index               : int  0 1 2 3 4 5 6 7 8 9 ...\n",
      " $ HighBP              : int  1 0 1 1 1 1 1 1 1 0 ...\n",
      " $ HighChol            : int  1 0 1 0 1 1 0 1 1 0 ...\n",
      " $ CholCheck           : int  1 0 1 1 1 1 1 1 1 1 ...\n",
      " $ BMI                 : int  40 25 28 27 24 25 30 25 30 24 ...\n",
      " $ StdBMI              : num  6 3 3 3 2 3 4 3 4 2 ...\n",
      " $ Smoker              : int  1 1 0 0 0 1 1 1 1 0 ...\n",
      " $ Stroke              : int  0 0 0 0 0 0 0 0 0 0 ...\n",
      " $ HeartDiseaseorAttack: int  0 0 0 0 0 0 0 0 1 0 ...\n",
      " $ PhysActivity        : int  0 1 0 1 1 1 0 1 0 0 ...\n",
      " $ Fruits              : int  0 0 1 1 1 1 0 0 1 0 ...\n",
      " $ Veggies             : int  1 0 0 1 1 1 0 1 1 1 ...\n",
      " $ HvyAlcoholConsump   : int  0 0 0 0 0 0 0 0 0 0 ...\n",
      " $ AnyHealthcare       : int  1 0 1 1 1 1 1 1 1 1 ...\n",
      " $ NoDocbcCost         : int  0 1 1 0 0 0 0 0 0 0 ...\n",
      " $ GenHlth             : int  5 3 5 2 2 2 3 3 5 2 ...\n",
      " $ MentHlth            : int  18 0 30 0 3 0 0 0 30 0 ...\n",
      " $ PhysHlth            : int  15 0 30 0 0 2 14 0 30 0 ...\n",
      " $ DiffWalk            : int  1 0 1 0 0 0 0 1 1 0 ...\n",
      " $ Sex                 : int  0 0 0 0 0 1 0 0 0 1 ...\n",
      " $ Age                 : int  9 7 9 11 11 10 9 11 9 8 ...\n",
      " $ Education           : int  4 6 4 3 5 6 6 4 5 4 ...\n",
      " $ Income              : int  3 1 8 6 4 8 7 4 1 3 ...\n",
      " $ Diabetes_binary     : int  0 0 0 0 0 0 0 0 1 0 ...\n"
     ]
    }
   ],
   "source": [
    "str(df_std_1)"
   ]
  },
  {
   "cell_type": "code",
   "execution_count": 70,
   "id": "bce561f7-438f-4bb5-8656-f609d2546a71",
   "metadata": {},
   "outputs": [],
   "source": [
    "# Comment: StdBMI data are categorical."
   ]
  },
  {
   "cell_type": "code",
   "execution_count": 71,
   "id": "82072de5-5af3-4d9a-b44f-bf5ab93b411d",
   "metadata": {},
   "outputs": [],
   "source": [
    "# We now must validate the meaningful of this standardizatiton with response variable."
   ]
  },
  {
   "cell_type": "code",
   "execution_count": 72,
   "id": "163a7c0e-d01e-4dfe-b08c-97bbb6a5bfa4",
   "metadata": {},
   "outputs": [
    {
     "data": {
      "text/plain": [
       "   \n",
       "        0     1\n",
       "  1  2958   169\n",
       "  2 65025  3928\n",
       "  3 83057 10692\n",
       "  4 43170 10281\n",
       "  5 14994  5669\n",
       "  6  9130  4607"
      ]
     },
     "metadata": {},
     "output_type": "display_data"
    }
   ],
   "source": [
    "table(df_std_1$StdBMI, df_std_1$Diabetes_binary)"
   ]
  },
  {
   "cell_type": "code",
   "execution_count": 73,
   "id": "46fdd323-31b6-412c-aa47-b07f656155c8",
   "metadata": {},
   "outputs": [
    {
     "data": {
      "text/plain": [
       "\n",
       "\tPearson's Chi-squared test\n",
       "\n",
       "data:  table(df_std_1$StdBMI, df_std_1$Diabetes_binary)\n",
       "X-squared = 13387, df = 5, p-value < 2.2e-16\n"
      ]
     },
     "metadata": {},
     "output_type": "display_data"
    }
   ],
   "source": [
    "chisq.test(table(df_std_1$StdBMI, df_std_1$Diabetes_binary))"
   ]
  },
  {
   "cell_type": "code",
   "execution_count": 74,
   "id": "87b51987-868a-4293-a384-925bb52d91b2",
   "metadata": {},
   "outputs": [],
   "source": [
    "# Comment: A p-value close to 0 shows that there is a difference between diabetes rates among BMI groups."
   ]
  },
  {
   "cell_type": "markdown",
   "id": "a2941e5e-37c5-4a31-8811-ffee54baffca",
   "metadata": {
    "jp-MarkdownHeadingCollapsed": true
   },
   "source": [
    "#### BMI output: df_std_1"
   ]
  },
  {
   "cell_type": "code",
   "execution_count": 75,
   "id": "875b3bdb-30b5-4645-9558-34e38568ecb9",
   "metadata": {},
   "outputs": [
    {
     "name": "stdout",
     "output_type": "stream",
     "text": [
      "'data.frame':\t253680 obs. of  24 variables:\n",
      " $ Index               : int  0 1 2 3 4 5 6 7 8 9 ...\n",
      " $ HighBP              : int  1 0 1 1 1 1 1 1 1 0 ...\n",
      " $ HighChol            : int  1 0 1 0 1 1 0 1 1 0 ...\n",
      " $ CholCheck           : int  1 0 1 1 1 1 1 1 1 1 ...\n",
      " $ BMI                 : int  40 25 28 27 24 25 30 25 30 24 ...\n",
      " $ StdBMI              : num  6 3 3 3 2 3 4 3 4 2 ...\n",
      " $ Smoker              : int  1 1 0 0 0 1 1 1 1 0 ...\n",
      " $ Stroke              : int  0 0 0 0 0 0 0 0 0 0 ...\n",
      " $ HeartDiseaseorAttack: int  0 0 0 0 0 0 0 0 1 0 ...\n",
      " $ PhysActivity        : int  0 1 0 1 1 1 0 1 0 0 ...\n",
      " $ Fruits              : int  0 0 1 1 1 1 0 0 1 0 ...\n",
      " $ Veggies             : int  1 0 0 1 1 1 0 1 1 1 ...\n",
      " $ HvyAlcoholConsump   : int  0 0 0 0 0 0 0 0 0 0 ...\n",
      " $ AnyHealthcare       : int  1 0 1 1 1 1 1 1 1 1 ...\n",
      " $ NoDocbcCost         : int  0 1 1 0 0 0 0 0 0 0 ...\n",
      " $ GenHlth             : int  5 3 5 2 2 2 3 3 5 2 ...\n",
      " $ MentHlth            : int  18 0 30 0 3 0 0 0 30 0 ...\n",
      " $ PhysHlth            : int  15 0 30 0 0 2 14 0 30 0 ...\n",
      " $ DiffWalk            : int  1 0 1 0 0 0 0 1 1 0 ...\n",
      " $ Sex                 : int  0 0 0 0 0 1 0 0 0 1 ...\n",
      " $ Age                 : int  9 7 9 11 11 10 9 11 9 8 ...\n",
      " $ Education           : int  4 6 4 3 5 6 6 4 5 4 ...\n",
      " $ Income              : int  3 1 8 6 4 8 7 4 1 3 ...\n",
      " $ Diabetes_binary     : int  0 0 0 0 0 0 0 0 1 0 ...\n"
     ]
    }
   ],
   "source": [
    "str(df_std_1)"
   ]
  },
  {
   "cell_type": "markdown",
   "id": "f5109655-dfb3-46f3-b18d-0fa2faf5e5ad",
   "metadata": {},
   "source": [
    "#### 3.2.2. MentHlth"
   ]
  },
  {
   "cell_type": "code",
   "execution_count": 76,
   "id": "4fafa641-f7ac-46dd-988b-efd202228577",
   "metadata": {},
   "outputs": [
    {
     "data": {
      "text/plain": [
       "   Min. 1st Qu.  Median    Mean 3rd Qu.    Max. \n",
       "  0.000   0.000   0.000   3.185   2.000  30.000 "
      ]
     },
     "metadata": {},
     "output_type": "display_data"
    }
   ],
   "source": [
    "summary(df_std_1$MentHlth)"
   ]
  },
  {
   "cell_type": "code",
   "execution_count": 77,
   "id": "690b9ada-f24a-4455-8bf0-ad55677f043a",
   "metadata": {},
   "outputs": [
    {
     "data": {
      "image/png": "[encoded data removed]",
      "text/plain": [
       "plot without title"
      ]
     },
     "metadata": {
      "image/png": {
       "height": 420,
       "width": 420
      }
     },
     "output_type": "display_data"
    }
   ],
   "source": [
    "boxplot(df_std_1$MentHlth)"
   ]
  },
  {
   "cell_type": "code",
   "execution_count": 78,
   "id": "3eba3143-5225-44bd-bfd5-2736e1847b5c",
   "metadata": {},
   "outputs": [
    {
     "data": {
      "image/png": "[encoded data removed]",
      "text/plain": [
       "plot without title"
      ]
     },
     "metadata": {
      "image/png": {
       "height": 420,
       "width": 420
      }
     },
     "output_type": "display_data"
    }
   ],
   "source": [
    "barplot(table(df_std_1$MentHlth))"
   ]
  },
  {
   "cell_type": "code",
   "execution_count": 79,
   "id": "38d4f703-1e02-4d54-8ca7-95def2e1004f",
   "metadata": {},
   "outputs": [],
   "source": [
    "# We see data with value ZERO is overwhelmed compared to other values.\n",
    "# Create a binary feature indicates that whether a person has mental health problem."
   ]
  },
  {
   "cell_type": "code",
   "execution_count": 80,
   "id": "09f8a185-52ef-4e8b-901c-9141963d2dd7",
   "metadata": {},
   "outputs": [],
   "source": [
    "new_column = rep(0, nrow(df_std_1))\n",
    "MentHlth_index = which(colnames(df_std_1) == \"MentHlth\")\n",
    "df_std_2 = cbind(df_std_1[,1:MentHlth_index], BoolMentHlth = new_column, df_std_1[,(MentHlth_index+1):ncol(df_std_1)])"
   ]
  },
  {
   "cell_type": "code",
   "execution_count": 81,
   "id": "568c0e26-ed16-426b-a15e-57ef8947412f",
   "metadata": {},
   "outputs": [],
   "source": [
    "df_std_2[df_std_2$MentHlth > 0, ]$BoolMentHlth = 1"
   ]
  },
  {
   "cell_type": "code",
   "execution_count": 82,
   "id": "24d3d41f-adeb-4f4e-9da7-6b99ba2928f3",
   "metadata": {},
   "outputs": [
    {
     "data": {
      "image/png": "[encoded data removed]",
      "text/plain": [
       "Plot with title \"BoolMentHlth\""
      ]
     },
     "metadata": {
      "image/png": {
       "height": 420,
       "width": 420
      }
     },
     "output_type": "display_data"
    }
   ],
   "source": [
    "barplot(table(df_std_2$BoolMentHlth), main=\"BoolMentHlth\")"
   ]
  },
  {
   "cell_type": "code",
   "execution_count": 83,
   "id": "d83dca07-7520-4b0c-a864-d8cfec7133b2",
   "metadata": {},
   "outputs": [
    {
     "data": {
      "text/plain": [
       "\n",
       "\tPearson's Chi-squared test with Yates' continuity correction\n",
       "\n",
       "data:  table(df_std_2$BoolMentHlth, df_std_2$Diabetes_binary)\n",
       "X-squared = 178.24, df = 1, p-value < 2.2e-16\n"
      ]
     },
     "metadata": {},
     "output_type": "display_data"
    }
   ],
   "source": [
    "chisq.test(table(df_std_2$BoolMentHlth, df_std_2$Diabetes_binary))"
   ]
  },
  {
   "cell_type": "code",
   "execution_count": 84,
   "id": "fcd5670b-3710-4e6f-a961-766907137ce5",
   "metadata": {},
   "outputs": [],
   "source": [
    "# Comment: A p-value close to 0 shows that there is a difference between diabetes rates among BoolMentHlth groups."
   ]
  },
  {
   "cell_type": "markdown",
   "id": "d188bc2c-1ee5-49b8-99f7-e46df35aa14c",
   "metadata": {
    "jp-MarkdownHeadingCollapsed": true
   },
   "source": [
    "#### MentHlth output: df_std_2"
   ]
  },
  {
   "cell_type": "code",
   "execution_count": 85,
   "id": "e68da267-21d8-4630-8376-8b870f33482e",
   "metadata": {},
   "outputs": [
    {
     "name": "stdout",
     "output_type": "stream",
     "text": [
      "'data.frame':\t253680 obs. of  25 variables:\n",
      " $ Index               : int  0 1 2 3 4 5 6 7 8 9 ...\n",
      " $ HighBP              : int  1 0 1 1 1 1 1 1 1 0 ...\n",
      " $ HighChol            : int  1 0 1 0 1 1 0 1 1 0 ...\n",
      " $ CholCheck           : int  1 0 1 1 1 1 1 1 1 1 ...\n",
      " $ BMI                 : int  40 25 28 27 24 25 30 25 30 24 ...\n",
      " $ StdBMI              : num  6 3 3 3 2 3 4 3 4 2 ...\n",
      " $ Smoker              : int  1 1 0 0 0 1 1 1 1 0 ...\n",
      " $ Stroke              : int  0 0 0 0 0 0 0 0 0 0 ...\n",
      " $ HeartDiseaseorAttack: int  0 0 0 0 0 0 0 0 1 0 ...\n",
      " $ PhysActivity        : int  0 1 0 1 1 1 0 1 0 0 ...\n",
      " $ Fruits              : int  0 0 1 1 1 1 0 0 1 0 ...\n",
      " $ Veggies             : int  1 0 0 1 1 1 0 1 1 1 ...\n",
      " $ HvyAlcoholConsump   : int  0 0 0 0 0 0 0 0 0 0 ...\n",
      " $ AnyHealthcare       : int  1 0 1 1 1 1 1 1 1 1 ...\n",
      " $ NoDocbcCost         : int  0 1 1 0 0 0 0 0 0 0 ...\n",
      " $ GenHlth             : int  5 3 5 2 2 2 3 3 5 2 ...\n",
      " $ MentHlth            : int  18 0 30 0 3 0 0 0 30 0 ...\n",
      " $ BoolMentHlth        : num  1 0 1 0 1 0 0 0 1 0 ...\n",
      " $ PhysHlth            : int  15 0 30 0 0 2 14 0 30 0 ...\n",
      " $ DiffWalk            : int  1 0 1 0 0 0 0 1 1 0 ...\n",
      " $ Sex                 : int  0 0 0 0 0 1 0 0 0 1 ...\n",
      " $ Age                 : int  9 7 9 11 11 10 9 11 9 8 ...\n",
      " $ Education           : int  4 6 4 3 5 6 6 4 5 4 ...\n",
      " $ Income              : int  3 1 8 6 4 8 7 4 1 3 ...\n",
      " $ Diabetes_binary     : int  0 0 0 0 0 0 0 0 1 0 ...\n"
     ]
    }
   ],
   "source": [
    "str(df_std_2)"
   ]
  },
  {
   "cell_type": "markdown",
   "id": "a274892c-b135-4763-a7bd-7908bd3e1efe",
   "metadata": {},
   "source": [
    "#### 3.2.3. PhysHlth"
   ]
  },
  {
   "cell_type": "code",
   "execution_count": 86,
   "id": "693f946b-5f01-45aa-8564-bf69fc2033ed",
   "metadata": {},
   "outputs": [
    {
     "data": {
      "text/plain": [
       "   Min. 1st Qu.  Median    Mean 3rd Qu.    Max. \n",
       "  0.000   0.000   0.000   4.242   3.000  30.000 "
      ]
     },
     "metadata": {},
     "output_type": "display_data"
    }
   ],
   "source": [
    "summary(df_std_2$PhysHlth)"
   ]
  },
  {
   "cell_type": "code",
   "execution_count": 87,
   "id": "ab6845b7-3fdb-4bbc-be6e-e00c21b2d5db",
   "metadata": {},
   "outputs": [
    {
     "data": {
      "image/png": "[encoded data removed]",
      "text/plain": [
       "plot without title"
      ]
     },
     "metadata": {
      "image/png": {
       "height": 420,
       "width": 420
      }
     },
     "output_type": "display_data"
    }
   ],
   "source": [
    "boxplot(df_std_1$PhysHlth)"
   ]
  },
  {
   "cell_type": "code",
   "execution_count": 88,
   "id": "30425c6b-12fd-4ca5-9eb5-8145f4d3fa0d",
   "metadata": {},
   "outputs": [
    {
     "data": {
      "image/png": "[encoded data removed]",
      "text/plain": [
       "plot without title"
      ]
     },
     "metadata": {
      "image/png": {
       "height": 420,
       "width": 420
      }
     },
     "output_type": "display_data"
    }
   ],
   "source": [
    "barplot(table(df_std_2$PhysHlth))"
   ]
  },
  {
   "cell_type": "code",
   "execution_count": 89,
   "id": "4bdad7b3-b94b-478d-b952-7962507a7d1c",
   "metadata": {},
   "outputs": [],
   "source": [
    "# We see data with value ZERO is overwhelmed compared to other values.\n",
    "# Create a binary feature indicates that whether a person has physical health problem."
   ]
  },
  {
   "cell_type": "code",
   "execution_count": 90,
   "id": "04bd03e8-ed64-43e4-a9a2-00cfc657a37b",
   "metadata": {},
   "outputs": [],
   "source": [
    "new_column = rep(0, nrow(df_std_2))\n",
    "PhysHlth_index = which(colnames(df_std_2) == \"PhysHlth\")\n",
    "df_std_3 = cbind(df_std_2[,1:PhysHlth_index], BoolPhysHlth = new_column, df_std_2[,(PhysHlth_index+1):ncol(df_std_2)])"
   ]
  },
  {
   "cell_type": "code",
   "execution_count": 91,
   "id": "2d090ce5-b15a-48a8-bbea-e994a5973ed7",
   "metadata": {},
   "outputs": [],
   "source": [
    "df_std_3[df_std_3$PhysHlth > 0, ]$BoolPhysHlth = 1"
   ]
  },
  {
   "cell_type": "code",
   "execution_count": 92,
   "id": "f3aa0101-a649-44f6-a755-3866be2f7290",
   "metadata": {},
   "outputs": [
    {
     "data": {
      "image/png": "[encoded data removed]",
      "text/plain": [
       "Plot with title \"BoolPhysHlth\""
      ]
     },
     "metadata": {
      "image/png": {
       "height": 420,
       "width": 420
      }
     },
     "output_type": "display_data"
    }
   ],
   "source": [
    "barplot(table(df_std_3$BoolPhysHlth), main=\"BoolPhysHlth\")"
   ]
  },
  {
   "cell_type": "code",
   "execution_count": 93,
   "id": "b073a5fc-937b-4632-93b7-01ca4532329e",
   "metadata": {},
   "outputs": [
    {
     "data": {
      "text/plain": [
       "\n",
       "\tPearson's Chi-squared test with Yates' continuity correction\n",
       "\n",
       "data:  table(df_std_3$BoolPhysHlth, df_std_3$Diabetes_binary)\n",
       "X-squared = 4364, df = 1, p-value < 2.2e-16\n"
      ]
     },
     "metadata": {},
     "output_type": "display_data"
    }
   ],
   "source": [
    "chisq.test(table(df_std_3$BoolPhysHlth, df_std_3$Diabetes_binary))"
   ]
  },
  {
   "cell_type": "code",
   "execution_count": 94,
   "id": "075cd060-028c-44d1-94f9-344617a7585d",
   "metadata": {},
   "outputs": [],
   "source": [
    "# Comment: A p-value close to 0 shows that there is a difference between diabetes rates among BoolPhysHlth groups."
   ]
  },
  {
   "cell_type": "markdown",
   "id": "64f122ad-7b3b-4afb-b006-872462da3a62",
   "metadata": {
    "jp-MarkdownHeadingCollapsed": true
   },
   "source": [
    "#### PhysHlth output: df_std_3"
   ]
  },
  {
   "cell_type": "code",
   "execution_count": 95,
   "id": "14ec97cf-bb62-4f95-b8df-794bd0140a5e",
   "metadata": {},
   "outputs": [
    {
     "name": "stdout",
     "output_type": "stream",
     "text": [
      "'data.frame':\t253680 obs. of  26 variables:\n",
      " $ Index               : int  0 1 2 3 4 5 6 7 8 9 ...\n",
      " $ HighBP              : int  1 0 1 1 1 1 1 1 1 0 ...\n",
      " $ HighChol            : int  1 0 1 0 1 1 0 1 1 0 ...\n",
      " $ CholCheck           : int  1 0 1 1 1 1 1 1 1 1 ...\n",
      " $ BMI                 : int  40 25 28 27 24 25 30 25 30 24 ...\n",
      " $ StdBMI              : num  6 3 3 3 2 3 4 3 4 2 ...\n",
      " $ Smoker              : int  1 1 0 0 0 1 1 1 1 0 ...\n",
      " $ Stroke              : int  0 0 0 0 0 0 0 0 0 0 ...\n",
      " $ HeartDiseaseorAttack: int  0 0 0 0 0 0 0 0 1 0 ...\n",
      " $ PhysActivity        : int  0 1 0 1 1 1 0 1 0 0 ...\n",
      " $ Fruits              : int  0 0 1 1 1 1 0 0 1 0 ...\n",
      " $ Veggies             : int  1 0 0 1 1 1 0 1 1 1 ...\n",
      " $ HvyAlcoholConsump   : int  0 0 0 0 0 0 0 0 0 0 ...\n",
      " $ AnyHealthcare       : int  1 0 1 1 1 1 1 1 1 1 ...\n",
      " $ NoDocbcCost         : int  0 1 1 0 0 0 0 0 0 0 ...\n",
      " $ GenHlth             : int  5 3 5 2 2 2 3 3 5 2 ...\n",
      " $ MentHlth            : int  18 0 30 0 3 0 0 0 30 0 ...\n",
      " $ BoolMentHlth        : num  1 0 1 0 1 0 0 0 1 0 ...\n",
      " $ PhysHlth            : int  15 0 30 0 0 2 14 0 30 0 ...\n",
      " $ BoolPhysHlth        : num  1 0 1 0 0 1 1 0 1 0 ...\n",
      " $ DiffWalk            : int  1 0 1 0 0 0 0 1 1 0 ...\n",
      " $ Sex                 : int  0 0 0 0 0 1 0 0 0 1 ...\n",
      " $ Age                 : int  9 7 9 11 11 10 9 11 9 8 ...\n",
      " $ Education           : int  4 6 4 3 5 6 6 4 5 4 ...\n",
      " $ Income              : int  3 1 8 6 4 8 7 4 1 3 ...\n",
      " $ Diabetes_binary     : int  0 0 0 0 0 0 0 0 1 0 ...\n"
     ]
    }
   ],
   "source": [
    "str(df_std_3)"
   ]
  },
  {
   "cell_type": "markdown",
   "id": "8c4106f8-5ac5-48fa-b1ee-87d9e5b458e8",
   "metadata": {},
   "source": [
    "## TEST"
   ]
  }
 ],
 "metadata": {
  "kernelspec": {
   "display_name": "R",
   "language": "R",
   "name": "ir"
  },
  "language_info": {
   "codemirror_mode": "r",
   "file_extension": ".r",
   "mimetype": "text/x-r-source",
   "name": "R",
   "pygments_lexer": "r",
   "version": "4.0.5"
  }
 },
 "nbformat": 4,
 "nbformat_minor": 5
}
