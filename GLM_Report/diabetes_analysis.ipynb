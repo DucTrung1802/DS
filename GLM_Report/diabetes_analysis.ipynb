{
 "cells": [
  {
   "cell_type": "markdown",
   "id": "b338b917-97a6-4479-8149-4415369c23d2",
   "metadata": {},
   "source": [
    "# Diabetes Analysis"
   ]
  },
  {
   "cell_type": "markdown",
   "id": "9d82b63f-ace4-46bf-94c9-dba9d6cdd275",
   "metadata": {},
   "source": [
    "### Author: Ly Duc Trung"
   ]
  },
  {
   "cell_type": "markdown",
   "id": "6aafad5f-b0ea-423b-a419-75897648e602",
   "metadata": {},
   "source": [
    "### Link: https://github.com/DucTrung1802/DS/blob/main/GLM_Report/diabetes_analysis.ipynb"
   ]
  },
  {
   "cell_type": "markdown",
   "id": "b6231cd2-61d3-4c1e-8765-fc06df5b9083",
   "metadata": {},
   "source": [
    "### Dataset Link: https://www.archive.ics.uci.edu/dataset/891/cdc+diabetes+health+indicators"
   ]
  },
  {
   "cell_type": "markdown",
   "id": "b7bcf8af-3689-4af6-92d7-53eb46a817f3",
   "metadata": {},
   "source": [
    "## 0. Install and import libraries"
   ]
  },
  {
   "cell_type": "markdown",
   "id": "17497756-a85a-4d32-8769-b86450f80548",
   "metadata": {},
   "source": [
    "### Check R version"
   ]
  },
  {
   "cell_type": "code",
   "execution_count": 68,
   "id": "da41d543-be4f-4b9e-9a28-282b3947f958",
   "metadata": {},
   "outputs": [
    {
     "data": {
      "text/html": [
       "<dl>\n",
       "\t<dt>$platform</dt>\n",
       "\t\t<dd>'x86_64-w64-mingw32'</dd>\n",
       "\t<dt>$arch</dt>\n",
       "\t\t<dd>'x86_64'</dd>\n",
       "\t<dt>$os</dt>\n",
       "\t\t<dd>'mingw32'</dd>\n",
       "\t<dt>$system</dt>\n",
       "\t\t<dd>'x86_64, mingw32'</dd>\n",
       "\t<dt>$status</dt>\n",
       "\t\t<dd>''</dd>\n",
       "\t<dt>$major</dt>\n",
       "\t\t<dd>'4'</dd>\n",
       "\t<dt>$minor</dt>\n",
       "\t\t<dd>'0.5'</dd>\n",
       "\t<dt>$year</dt>\n",
       "\t\t<dd>'2021'</dd>\n",
       "\t<dt>$month</dt>\n",
       "\t\t<dd>'03'</dd>\n",
       "\t<dt>$day</dt>\n",
       "\t\t<dd>'31'</dd>\n",
       "\t<dt>$`svn rev`</dt>\n",
       "\t\t<dd>'80133'</dd>\n",
       "\t<dt>$language</dt>\n",
       "\t\t<dd>'R'</dd>\n",
       "\t<dt>$version.string</dt>\n",
       "\t\t<dd>'R version 4.0.5 (2021-03-31)'</dd>\n",
       "\t<dt>$nickname</dt>\n",
       "\t\t<dd>'Shake and Throw'</dd>\n",
       "</dl>\n"
      ],
      "text/latex": [
       "\\begin{description}\n",
       "\\item[\\$platform] 'x86\\_64-w64-mingw32'\n",
       "\\item[\\$arch] 'x86\\_64'\n",
       "\\item[\\$os] 'mingw32'\n",
       "\\item[\\$system] 'x86\\_64, mingw32'\n",
       "\\item[\\$status] ''\n",
       "\\item[\\$major] '4'\n",
       "\\item[\\$minor] '0.5'\n",
       "\\item[\\$year] '2021'\n",
       "\\item[\\$month] '03'\n",
       "\\item[\\$day] '31'\n",
       "\\item[\\$`svn rev`] '80133'\n",
       "\\item[\\$language] 'R'\n",
       "\\item[\\$version.string] 'R version 4.0.5 (2021-03-31)'\n",
       "\\item[\\$nickname] 'Shake and Throw'\n",
       "\\end{description}\n"
      ],
      "text/markdown": [
       "$platform\n",
       ":   'x86_64-w64-mingw32'\n",
       "$arch\n",
       ":   'x86_64'\n",
       "$os\n",
       ":   'mingw32'\n",
       "$system\n",
       ":   'x86_64, mingw32'\n",
       "$status\n",
       ":   ''\n",
       "$major\n",
       ":   '4'\n",
       "$minor\n",
       ":   '0.5'\n",
       "$year\n",
       ":   '2021'\n",
       "$month\n",
       ":   '03'\n",
       "$day\n",
       ":   '31'\n",
       "$`svn rev`\n",
       ":   '80133'\n",
       "$language\n",
       ":   'R'\n",
       "$version.string\n",
       ":   'R version 4.0.5 (2021-03-31)'\n",
       "$nickname\n",
       ":   'Shake and Throw'\n",
       "\n",
       "\n"
      ],
      "text/plain": [
       "$platform\n",
       "[1] \"x86_64-w64-mingw32\"\n",
       "\n",
       "$arch\n",
       "[1] \"x86_64\"\n",
       "\n",
       "$os\n",
       "[1] \"mingw32\"\n",
       "\n",
       "$system\n",
       "[1] \"x86_64, mingw32\"\n",
       "\n",
       "$status\n",
       "[1] \"\"\n",
       "\n",
       "$major\n",
       "[1] \"4\"\n",
       "\n",
       "$minor\n",
       "[1] \"0.5\"\n",
       "\n",
       "$year\n",
       "[1] \"2021\"\n",
       "\n",
       "$month\n",
       "[1] \"03\"\n",
       "\n",
       "$day\n",
       "[1] \"31\"\n",
       "\n",
       "$`svn rev`\n",
       "[1] \"80133\"\n",
       "\n",
       "$language\n",
       "[1] \"R\"\n",
       "\n",
       "$version.string\n",
       "[1] \"R version 4.0.5 (2021-03-31)\"\n",
       "\n",
       "$nickname\n",
       "[1] \"Shake and Throw\"\n"
      ]
     },
     "metadata": {},
     "output_type": "display_data"
    }
   ],
   "source": [
    "R.Version()"
   ]
  },
  {
   "cell_type": "markdown",
   "id": "886aff28-01b3-4c82-ac35-a55358629926",
   "metadata": {},
   "source": [
    "### 0.1. Install"
   ]
  },
  {
   "cell_type": "code",
   "execution_count": 69,
   "id": "bb2ef04b-f627-4d35-b48e-0f5c211657e8",
   "metadata": {},
   "outputs": [],
   "source": [
    "# INSTALL THESE PACKAGES IN CONDA TERMINAL\n",
    "# conda install r-corrplot\n",
    "# conda install r-rcompanion\n",
    "# conda install r-pcaPP\n",
    "# conda install r-caret\n",
    "# conda install r-gmodels\n",
    "# conda install r-DescTools\n",
    "# conda install r-epitools\n",
    "# conda install r-ranger\n",
    "# conda install r-psych\n",
    "# conda install r-bestglm"
   ]
  },
  {
   "cell_type": "markdown",
   "id": "b7e48079-fbef-496c-b67d-31fa3cccc7a3",
   "metadata": {},
   "source": [
    "### 0.2. Import"
   ]
  },
  {
   "cell_type": "code",
   "execution_count": 70,
   "id": "f6a80c0c-47c2-487a-a648-f3fda518f405",
   "metadata": {},
   "outputs": [],
   "source": [
    "library(corrplot)\n",
    "library(rcompanion)\n",
    "library(pcaPP)\n",
    "library(caret)\n",
    "library(gmodels)\n",
    "library(DescTools)\n",
    "library(ranger)\n",
    "library(psych)\n",
    "library(bestglm)"
   ]
  },
  {
   "cell_type": "markdown",
   "id": "0c58420a-613d-487d-8027-762338abe091",
   "metadata": {},
   "source": [
    "## 1. Import Data"
   ]
  },
  {
   "cell_type": "code",
   "execution_count": 71,
   "id": "32cdb2b4-c609-46ef-879f-40ba8d02f1f1",
   "metadata": {
    "vscode": {
     "languageId": "r"
    }
   },
   "outputs": [],
   "source": [
    "input_data = read.csv(\"diabetes_full_data.csv\")"
   ]
  },
  {
   "cell_type": "code",
   "execution_count": 72,
   "id": "71ddcb1b-655e-4dfd-8986-4a09bbdbfd1b",
   "metadata": {
    "vscode": {
     "languageId": "r"
    }
   },
   "outputs": [],
   "source": [
    "df = data.frame(input_data)"
   ]
  },
  {
   "cell_type": "code",
   "execution_count": 73,
   "id": "c29d71d9-4938-4154-a629-2dffbb5cdf7e",
   "metadata": {
    "scrolled": true,
    "vscode": {
     "languageId": "r"
    }
   },
   "outputs": [
    {
     "data": {
      "text/html": [
       "<table class=\"dataframe\">\n",
       "<caption>A data.frame: 253680 × 23</caption>\n",
       "<thead>\n",
       "\t<tr><th scope=col>X</th><th scope=col>HighBP</th><th scope=col>HighChol</th><th scope=col>CholCheck</th><th scope=col>BMI</th><th scope=col>Smoker</th><th scope=col>Stroke</th><th scope=col>HeartDiseaseorAttack</th><th scope=col>PhysActivity</th><th scope=col>Fruits</th><th scope=col>⋯</th><th scope=col>NoDocbcCost</th><th scope=col>GenHlth</th><th scope=col>MentHlth</th><th scope=col>PhysHlth</th><th scope=col>DiffWalk</th><th scope=col>Sex</th><th scope=col>Age</th><th scope=col>Education</th><th scope=col>Income</th><th scope=col>Diabetes_binary</th></tr>\n",
       "\t<tr><th scope=col>&lt;int&gt;</th><th scope=col>&lt;int&gt;</th><th scope=col>&lt;int&gt;</th><th scope=col>&lt;int&gt;</th><th scope=col>&lt;int&gt;</th><th scope=col>&lt;int&gt;</th><th scope=col>&lt;int&gt;</th><th scope=col>&lt;int&gt;</th><th scope=col>&lt;int&gt;</th><th scope=col>&lt;int&gt;</th><th scope=col>⋯</th><th scope=col>&lt;int&gt;</th><th scope=col>&lt;int&gt;</th><th scope=col>&lt;int&gt;</th><th scope=col>&lt;int&gt;</th><th scope=col>&lt;int&gt;</th><th scope=col>&lt;int&gt;</th><th scope=col>&lt;int&gt;</th><th scope=col>&lt;int&gt;</th><th scope=col>&lt;int&gt;</th><th scope=col>&lt;int&gt;</th></tr>\n",
       "</thead>\n",
       "<tbody>\n",
       "\t<tr><td> 0</td><td>1</td><td>1</td><td>1</td><td>40</td><td>1</td><td>0</td><td>0</td><td>0</td><td>0</td><td>⋯</td><td>0</td><td>5</td><td>18</td><td>15</td><td>1</td><td>0</td><td> 9</td><td>4</td><td>3</td><td>0</td></tr>\n",
       "\t<tr><td> 1</td><td>0</td><td>0</td><td>0</td><td>25</td><td>1</td><td>0</td><td>0</td><td>1</td><td>0</td><td>⋯</td><td>1</td><td>3</td><td> 0</td><td> 0</td><td>0</td><td>0</td><td> 7</td><td>6</td><td>1</td><td>0</td></tr>\n",
       "\t<tr><td> 2</td><td>1</td><td>1</td><td>1</td><td>28</td><td>0</td><td>0</td><td>0</td><td>0</td><td>1</td><td>⋯</td><td>1</td><td>5</td><td>30</td><td>30</td><td>1</td><td>0</td><td> 9</td><td>4</td><td>8</td><td>0</td></tr>\n",
       "\t<tr><td> 3</td><td>1</td><td>0</td><td>1</td><td>27</td><td>0</td><td>0</td><td>0</td><td>1</td><td>1</td><td>⋯</td><td>0</td><td>2</td><td> 0</td><td> 0</td><td>0</td><td>0</td><td>11</td><td>3</td><td>6</td><td>0</td></tr>\n",
       "\t<tr><td> 4</td><td>1</td><td>1</td><td>1</td><td>24</td><td>0</td><td>0</td><td>0</td><td>1</td><td>1</td><td>⋯</td><td>0</td><td>2</td><td> 3</td><td> 0</td><td>0</td><td>0</td><td>11</td><td>5</td><td>4</td><td>0</td></tr>\n",
       "\t<tr><td> 5</td><td>1</td><td>1</td><td>1</td><td>25</td><td>1</td><td>0</td><td>0</td><td>1</td><td>1</td><td>⋯</td><td>0</td><td>2</td><td> 0</td><td> 2</td><td>0</td><td>1</td><td>10</td><td>6</td><td>8</td><td>0</td></tr>\n",
       "\t<tr><td> 6</td><td>1</td><td>0</td><td>1</td><td>30</td><td>1</td><td>0</td><td>0</td><td>0</td><td>0</td><td>⋯</td><td>0</td><td>3</td><td> 0</td><td>14</td><td>0</td><td>0</td><td> 9</td><td>6</td><td>7</td><td>0</td></tr>\n",
       "\t<tr><td> 7</td><td>1</td><td>1</td><td>1</td><td>25</td><td>1</td><td>0</td><td>0</td><td>1</td><td>0</td><td>⋯</td><td>0</td><td>3</td><td> 0</td><td> 0</td><td>1</td><td>0</td><td>11</td><td>4</td><td>4</td><td>0</td></tr>\n",
       "\t<tr><td> 8</td><td>1</td><td>1</td><td>1</td><td>30</td><td>1</td><td>0</td><td>1</td><td>0</td><td>1</td><td>⋯</td><td>0</td><td>5</td><td>30</td><td>30</td><td>1</td><td>0</td><td> 9</td><td>5</td><td>1</td><td>1</td></tr>\n",
       "\t<tr><td> 9</td><td>0</td><td>0</td><td>1</td><td>24</td><td>0</td><td>0</td><td>0</td><td>0</td><td>0</td><td>⋯</td><td>0</td><td>2</td><td> 0</td><td> 0</td><td>0</td><td>1</td><td> 8</td><td>4</td><td>3</td><td>0</td></tr>\n",
       "\t<tr><td>10</td><td>0</td><td>0</td><td>1</td><td>25</td><td>1</td><td>0</td><td>0</td><td>1</td><td>1</td><td>⋯</td><td>0</td><td>3</td><td> 0</td><td> 0</td><td>0</td><td>1</td><td>13</td><td>6</td><td>8</td><td>1</td></tr>\n",
       "\t<tr><td>11</td><td>1</td><td>1</td><td>1</td><td>34</td><td>1</td><td>0</td><td>0</td><td>0</td><td>1</td><td>⋯</td><td>0</td><td>3</td><td> 0</td><td>30</td><td>1</td><td>0</td><td>10</td><td>5</td><td>1</td><td>0</td></tr>\n",
       "\t<tr><td>12</td><td>0</td><td>0</td><td>1</td><td>26</td><td>1</td><td>0</td><td>0</td><td>0</td><td>0</td><td>⋯</td><td>0</td><td>3</td><td> 0</td><td>15</td><td>0</td><td>0</td><td> 7</td><td>5</td><td>7</td><td>0</td></tr>\n",
       "\t<tr><td>13</td><td>1</td><td>1</td><td>1</td><td>28</td><td>0</td><td>0</td><td>0</td><td>0</td><td>0</td><td>⋯</td><td>0</td><td>4</td><td> 0</td><td> 0</td><td>1</td><td>0</td><td>11</td><td>4</td><td>6</td><td>1</td></tr>\n",
       "\t<tr><td>14</td><td>0</td><td>1</td><td>1</td><td>33</td><td>1</td><td>1</td><td>0</td><td>1</td><td>0</td><td>⋯</td><td>1</td><td>4</td><td>30</td><td>28</td><td>0</td><td>0</td><td> 4</td><td>6</td><td>2</td><td>0</td></tr>\n",
       "\t<tr><td>15</td><td>1</td><td>0</td><td>1</td><td>33</td><td>0</td><td>0</td><td>0</td><td>1</td><td>0</td><td>⋯</td><td>0</td><td>2</td><td> 5</td><td> 0</td><td>0</td><td>0</td><td> 6</td><td>6</td><td>8</td><td>0</td></tr>\n",
       "\t<tr><td>16</td><td>1</td><td>1</td><td>1</td><td>21</td><td>0</td><td>0</td><td>0</td><td>1</td><td>1</td><td>⋯</td><td>0</td><td>3</td><td> 0</td><td> 0</td><td>0</td><td>0</td><td>10</td><td>4</td><td>3</td><td>0</td></tr>\n",
       "\t<tr><td>17</td><td>0</td><td>0</td><td>1</td><td>23</td><td>1</td><td>0</td><td>0</td><td>1</td><td>0</td><td>⋯</td><td>0</td><td>2</td><td> 0</td><td> 0</td><td>0</td><td>1</td><td> 7</td><td>5</td><td>6</td><td>1</td></tr>\n",
       "\t<tr><td>18</td><td>0</td><td>0</td><td>0</td><td>23</td><td>0</td><td>0</td><td>0</td><td>0</td><td>0</td><td>⋯</td><td>0</td><td>2</td><td>15</td><td> 0</td><td>0</td><td>0</td><td> 2</td><td>6</td><td>7</td><td>0</td></tr>\n",
       "\t<tr><td>19</td><td>0</td><td>1</td><td>1</td><td>28</td><td>0</td><td>0</td><td>0</td><td>0</td><td>0</td><td>⋯</td><td>0</td><td>2</td><td>10</td><td> 0</td><td>0</td><td>1</td><td> 4</td><td>6</td><td>8</td><td>0</td></tr>\n",
       "\t<tr><td>20</td><td>1</td><td>1</td><td>1</td><td>22</td><td>0</td><td>1</td><td>1</td><td>0</td><td>1</td><td>⋯</td><td>0</td><td>3</td><td>30</td><td> 0</td><td>1</td><td>0</td><td>12</td><td>4</td><td>4</td><td>0</td></tr>\n",
       "\t<tr><td>21</td><td>1</td><td>1</td><td>1</td><td>38</td><td>1</td><td>0</td><td>0</td><td>0</td><td>1</td><td>⋯</td><td>0</td><td>5</td><td>15</td><td>30</td><td>1</td><td>0</td><td>13</td><td>2</td><td>3</td><td>0</td></tr>\n",
       "\t<tr><td>22</td><td>0</td><td>0</td><td>1</td><td>28</td><td>1</td><td>0</td><td>0</td><td>0</td><td>0</td><td>⋯</td><td>0</td><td>3</td><td> 0</td><td> 7</td><td>0</td><td>1</td><td> 5</td><td>5</td><td>5</td><td>0</td></tr>\n",
       "\t<tr><td>23</td><td>1</td><td>0</td><td>1</td><td>27</td><td>0</td><td>0</td><td>0</td><td>1</td><td>1</td><td>⋯</td><td>0</td><td>1</td><td> 0</td><td> 0</td><td>0</td><td>0</td><td>13</td><td>5</td><td>4</td><td>1</td></tr>\n",
       "\t<tr><td>24</td><td>1</td><td>1</td><td>1</td><td>28</td><td>1</td><td>0</td><td>0</td><td>0</td><td>1</td><td>⋯</td><td>0</td><td>3</td><td> 6</td><td> 0</td><td>1</td><td>0</td><td> 9</td><td>4</td><td>6</td><td>0</td></tr>\n",
       "\t<tr><td>25</td><td>0</td><td>0</td><td>1</td><td>32</td><td>0</td><td>0</td><td>0</td><td>1</td><td>1</td><td>⋯</td><td>0</td><td>2</td><td> 0</td><td> 0</td><td>0</td><td>0</td><td> 5</td><td>6</td><td>8</td><td>0</td></tr>\n",
       "\t<tr><td>26</td><td>1</td><td>1</td><td>1</td><td>37</td><td>1</td><td>1</td><td>1</td><td>0</td><td>0</td><td>⋯</td><td>0</td><td>5</td><td> 0</td><td> 0</td><td>1</td><td>1</td><td>10</td><td>6</td><td>5</td><td>1</td></tr>\n",
       "\t<tr><td>27</td><td>1</td><td>1</td><td>1</td><td>28</td><td>1</td><td>0</td><td>1</td><td>0</td><td>0</td><td>⋯</td><td>0</td><td>4</td><td> 0</td><td> 0</td><td>0</td><td>1</td><td>12</td><td>2</td><td>4</td><td>1</td></tr>\n",
       "\t<tr><td>28</td><td>1</td><td>1</td><td>1</td><td>27</td><td>1</td><td>0</td><td>0</td><td>0</td><td>1</td><td>⋯</td><td>0</td><td>4</td><td>20</td><td>20</td><td>1</td><td>0</td><td> 8</td><td>4</td><td>7</td><td>1</td></tr>\n",
       "\t<tr><td>29</td><td>0</td><td>1</td><td>1</td><td>31</td><td>1</td><td>0</td><td>0</td><td>1</td><td>1</td><td>⋯</td><td>0</td><td>1</td><td> 0</td><td> 0</td><td>0</td><td>1</td><td>12</td><td>6</td><td>8</td><td>0</td></tr>\n",
       "\t<tr><td>⋮</td><td>⋮</td><td>⋮</td><td>⋮</td><td>⋮</td><td>⋮</td><td>⋮</td><td>⋮</td><td>⋮</td><td>⋮</td><td>⋱</td><td>⋮</td><td>⋮</td><td>⋮</td><td>⋮</td><td>⋮</td><td>⋮</td><td>⋮</td><td>⋮</td><td>⋮</td><td>⋮</td></tr>\n",
       "\t<tr><td>253650</td><td>1</td><td>0</td><td>1</td><td>27</td><td>0</td><td>0</td><td>0</td><td>1</td><td>0</td><td>⋯</td><td>0</td><td>4</td><td> 0</td><td> 0</td><td>0</td><td>0</td><td> 5</td><td>4</td><td>2</td><td>0</td></tr>\n",
       "\t<tr><td>253651</td><td>0</td><td>0</td><td>1</td><td>24</td><td>0</td><td>0</td><td>0</td><td>1</td><td>1</td><td>⋯</td><td>1</td><td>1</td><td> 0</td><td> 0</td><td>0</td><td>1</td><td> 2</td><td>6</td><td>3</td><td>0</td></tr>\n",
       "\t<tr><td>253652</td><td>0</td><td>1</td><td>1</td><td>27</td><td>0</td><td>0</td><td>0</td><td>1</td><td>1</td><td>⋯</td><td>0</td><td>4</td><td> 0</td><td>30</td><td>0</td><td>1</td><td>11</td><td>2</td><td>3</td><td>1</td></tr>\n",
       "\t<tr><td>253653</td><td>0</td><td>0</td><td>1</td><td>33</td><td>1</td><td>0</td><td>0</td><td>0</td><td>1</td><td>⋯</td><td>0</td><td>4</td><td> 0</td><td>15</td><td>0</td><td>1</td><td>10</td><td>6</td><td>3</td><td>0</td></tr>\n",
       "\t<tr><td>253654</td><td>0</td><td>0</td><td>1</td><td>26</td><td>1</td><td>0</td><td>0</td><td>1</td><td>1</td><td>⋯</td><td>0</td><td>2</td><td> 1</td><td> 0</td><td>0</td><td>1</td><td> 3</td><td>3</td><td>1</td><td>0</td></tr>\n",
       "\t<tr><td>253655</td><td>0</td><td>0</td><td>1</td><td>28</td><td>0</td><td>0</td><td>0</td><td>1</td><td>1</td><td>⋯</td><td>0</td><td>2</td><td> 0</td><td> 0</td><td>0</td><td>0</td><td> 2</td><td>6</td><td>4</td><td>0</td></tr>\n",
       "\t<tr><td>253656</td><td>0</td><td>0</td><td>1</td><td>25</td><td>0</td><td>0</td><td>0</td><td>1</td><td>1</td><td>⋯</td><td>0</td><td>1</td><td> 0</td><td> 0</td><td>0</td><td>0</td><td> 4</td><td>6</td><td>8</td><td>0</td></tr>\n",
       "\t<tr><td>253657</td><td>0</td><td>1</td><td>1</td><td>24</td><td>0</td><td>0</td><td>0</td><td>0</td><td>0</td><td>⋯</td><td>0</td><td>3</td><td> 0</td><td> 0</td><td>0</td><td>0</td><td> 7</td><td>5</td><td>3</td><td>0</td></tr>\n",
       "\t<tr><td>253658</td><td>0</td><td>0</td><td>0</td><td>27</td><td>0</td><td>0</td><td>0</td><td>1</td><td>0</td><td>⋯</td><td>1</td><td>2</td><td> 0</td><td> 0</td><td>0</td><td>0</td><td> 3</td><td>6</td><td>5</td><td>0</td></tr>\n",
       "\t<tr><td>253659</td><td>0</td><td>1</td><td>1</td><td>37</td><td>0</td><td>0</td><td>0</td><td>0</td><td>0</td><td>⋯</td><td>0</td><td>4</td><td> 0</td><td> 0</td><td>0</td><td>0</td><td> 6</td><td>4</td><td>1</td><td>1</td></tr>\n",
       "\t<tr><td>253660</td><td>0</td><td>1</td><td>1</td><td>34</td><td>1</td><td>0</td><td>0</td><td>0</td><td>1</td><td>⋯</td><td>0</td><td>3</td><td> 0</td><td> 2</td><td>1</td><td>0</td><td> 7</td><td>4</td><td>3</td><td>0</td></tr>\n",
       "\t<tr><td>253661</td><td>1</td><td>0</td><td>1</td><td>33</td><td>0</td><td>0</td><td>0</td><td>1</td><td>0</td><td>⋯</td><td>1</td><td>3</td><td> 0</td><td> 2</td><td>1</td><td>0</td><td> 6</td><td>6</td><td>6</td><td>0</td></tr>\n",
       "\t<tr><td>253662</td><td>0</td><td>0</td><td>1</td><td>16</td><td>0</td><td>0</td><td>0</td><td>1</td><td>0</td><td>⋯</td><td>0</td><td>1</td><td> 0</td><td> 0</td><td>0</td><td>0</td><td> 5</td><td>6</td><td>2</td><td>0</td></tr>\n",
       "\t<tr><td>253663</td><td>0</td><td>0</td><td>1</td><td>23</td><td>0</td><td>0</td><td>0</td><td>0</td><td>1</td><td>⋯</td><td>1</td><td>2</td><td> 0</td><td>30</td><td>0</td><td>0</td><td> 5</td><td>6</td><td>2</td><td>0</td></tr>\n",
       "\t<tr><td>253664</td><td>0</td><td>1</td><td>1</td><td>29</td><td>1</td><td>0</td><td>0</td><td>0</td><td>0</td><td>⋯</td><td>0</td><td>3</td><td> 0</td><td> 0</td><td>0</td><td>0</td><td> 6</td><td>6</td><td>4</td><td>0</td></tr>\n",
       "\t<tr><td>253665</td><td>0</td><td>1</td><td>1</td><td>17</td><td>0</td><td>0</td><td>0</td><td>0</td><td>0</td><td>⋯</td><td>1</td><td>4</td><td>30</td><td>30</td><td>0</td><td>0</td><td> 5</td><td>4</td><td>1</td><td>0</td></tr>\n",
       "\t<tr><td>253666</td><td>1</td><td>0</td><td>1</td><td>23</td><td>0</td><td>0</td><td>0</td><td>0</td><td>1</td><td>⋯</td><td>0</td><td>3</td><td> 0</td><td>15</td><td>0</td><td>0</td><td> 6</td><td>5</td><td>2</td><td>0</td></tr>\n",
       "\t<tr><td>253667</td><td>1</td><td>1</td><td>1</td><td>28</td><td>1</td><td>0</td><td>0</td><td>0</td><td>0</td><td>⋯</td><td>0</td><td>3</td><td> 0</td><td> 0</td><td>0</td><td>0</td><td>11</td><td>4</td><td>7</td><td>0</td></tr>\n",
       "\t<tr><td>253668</td><td>0</td><td>1</td><td>1</td><td>29</td><td>1</td><td>0</td><td>1</td><td>0</td><td>1</td><td>⋯</td><td>0</td><td>2</td><td> 0</td><td> 0</td><td>1</td><td>1</td><td>10</td><td>3</td><td>6</td><td>1</td></tr>\n",
       "\t<tr><td>253669</td><td>0</td><td>1</td><td>1</td><td>27</td><td>0</td><td>0</td><td>0</td><td>0</td><td>0</td><td>⋯</td><td>1</td><td>1</td><td> 0</td><td> 3</td><td>0</td><td>1</td><td> 6</td><td>2</td><td>4</td><td>0</td></tr>\n",
       "\t<tr><td>253670</td><td>1</td><td>1</td><td>1</td><td>25</td><td>0</td><td>0</td><td>1</td><td>0</td><td>1</td><td>⋯</td><td>0</td><td>5</td><td>15</td><td> 0</td><td>1</td><td>0</td><td>13</td><td>6</td><td>4</td><td>1</td></tr>\n",
       "\t<tr><td>253671</td><td>1</td><td>1</td><td>1</td><td>23</td><td>0</td><td>1</td><td>1</td><td>0</td><td>0</td><td>⋯</td><td>1</td><td>4</td><td> 0</td><td> 5</td><td>0</td><td>1</td><td> 8</td><td>3</td><td>2</td><td>0</td></tr>\n",
       "\t<tr><td>253672</td><td>1</td><td>0</td><td>1</td><td>30</td><td>1</td><td>0</td><td>1</td><td>1</td><td>1</td><td>⋯</td><td>0</td><td>3</td><td> 0</td><td> 0</td><td>0</td><td>1</td><td>12</td><td>2</td><td>1</td><td>0</td></tr>\n",
       "\t<tr><td>253673</td><td>1</td><td>0</td><td>1</td><td>42</td><td>0</td><td>0</td><td>0</td><td>1</td><td>1</td><td>⋯</td><td>0</td><td>3</td><td>14</td><td> 4</td><td>0</td><td>1</td><td> 3</td><td>6</td><td>8</td><td>0</td></tr>\n",
       "\t<tr><td>253674</td><td>0</td><td>0</td><td>1</td><td>27</td><td>0</td><td>0</td><td>0</td><td>0</td><td>0</td><td>⋯</td><td>0</td><td>1</td><td> 0</td><td> 0</td><td>0</td><td>0</td><td> 3</td><td>6</td><td>5</td><td>0</td></tr>\n",
       "\t<tr><td>253675</td><td>1</td><td>1</td><td>1</td><td>45</td><td>0</td><td>0</td><td>0</td><td>0</td><td>1</td><td>⋯</td><td>0</td><td>3</td><td> 0</td><td> 5</td><td>0</td><td>1</td><td> 5</td><td>6</td><td>7</td><td>0</td></tr>\n",
       "\t<tr><td>253676</td><td>1</td><td>1</td><td>1</td><td>18</td><td>0</td><td>0</td><td>0</td><td>0</td><td>0</td><td>⋯</td><td>0</td><td>4</td><td> 0</td><td> 0</td><td>1</td><td>0</td><td>11</td><td>2</td><td>4</td><td>1</td></tr>\n",
       "\t<tr><td>253677</td><td>0</td><td>0</td><td>1</td><td>28</td><td>0</td><td>0</td><td>0</td><td>1</td><td>1</td><td>⋯</td><td>0</td><td>1</td><td> 0</td><td> 0</td><td>0</td><td>0</td><td> 2</td><td>5</td><td>2</td><td>0</td></tr>\n",
       "\t<tr><td>253678</td><td>1</td><td>0</td><td>1</td><td>23</td><td>0</td><td>0</td><td>0</td><td>0</td><td>1</td><td>⋯</td><td>0</td><td>3</td><td> 0</td><td> 0</td><td>0</td><td>1</td><td> 7</td><td>5</td><td>1</td><td>0</td></tr>\n",
       "\t<tr><td>253679</td><td>1</td><td>1</td><td>1</td><td>25</td><td>0</td><td>0</td><td>1</td><td>1</td><td>1</td><td>⋯</td><td>0</td><td>2</td><td> 0</td><td> 0</td><td>0</td><td>0</td><td> 9</td><td>6</td><td>2</td><td>1</td></tr>\n",
       "</tbody>\n",
       "</table>\n"
      ],
      "text/latex": [
       "A data.frame: 253680 × 23\n",
       "\\begin{tabular}{lllllllllllllllllllll}\n",
       " X & HighBP & HighChol & CholCheck & BMI & Smoker & Stroke & HeartDiseaseorAttack & PhysActivity & Fruits & ⋯ & NoDocbcCost & GenHlth & MentHlth & PhysHlth & DiffWalk & Sex & Age & Education & Income & Diabetes\\_binary\\\\\n",
       " <int> & <int> & <int> & <int> & <int> & <int> & <int> & <int> & <int> & <int> & ⋯ & <int> & <int> & <int> & <int> & <int> & <int> & <int> & <int> & <int> & <int>\\\\\n",
       "\\hline\n",
       "\t  0 & 1 & 1 & 1 & 40 & 1 & 0 & 0 & 0 & 0 & ⋯ & 0 & 5 & 18 & 15 & 1 & 0 &  9 & 4 & 3 & 0\\\\\n",
       "\t  1 & 0 & 0 & 0 & 25 & 1 & 0 & 0 & 1 & 0 & ⋯ & 1 & 3 &  0 &  0 & 0 & 0 &  7 & 6 & 1 & 0\\\\\n",
       "\t  2 & 1 & 1 & 1 & 28 & 0 & 0 & 0 & 0 & 1 & ⋯ & 1 & 5 & 30 & 30 & 1 & 0 &  9 & 4 & 8 & 0\\\\\n",
       "\t  3 & 1 & 0 & 1 & 27 & 0 & 0 & 0 & 1 & 1 & ⋯ & 0 & 2 &  0 &  0 & 0 & 0 & 11 & 3 & 6 & 0\\\\\n",
       "\t  4 & 1 & 1 & 1 & 24 & 0 & 0 & 0 & 1 & 1 & ⋯ & 0 & 2 &  3 &  0 & 0 & 0 & 11 & 5 & 4 & 0\\\\\n",
       "\t  5 & 1 & 1 & 1 & 25 & 1 & 0 & 0 & 1 & 1 & ⋯ & 0 & 2 &  0 &  2 & 0 & 1 & 10 & 6 & 8 & 0\\\\\n",
       "\t  6 & 1 & 0 & 1 & 30 & 1 & 0 & 0 & 0 & 0 & ⋯ & 0 & 3 &  0 & 14 & 0 & 0 &  9 & 6 & 7 & 0\\\\\n",
       "\t  7 & 1 & 1 & 1 & 25 & 1 & 0 & 0 & 1 & 0 & ⋯ & 0 & 3 &  0 &  0 & 1 & 0 & 11 & 4 & 4 & 0\\\\\n",
       "\t  8 & 1 & 1 & 1 & 30 & 1 & 0 & 1 & 0 & 1 & ⋯ & 0 & 5 & 30 & 30 & 1 & 0 &  9 & 5 & 1 & 1\\\\\n",
       "\t  9 & 0 & 0 & 1 & 24 & 0 & 0 & 0 & 0 & 0 & ⋯ & 0 & 2 &  0 &  0 & 0 & 1 &  8 & 4 & 3 & 0\\\\\n",
       "\t 10 & 0 & 0 & 1 & 25 & 1 & 0 & 0 & 1 & 1 & ⋯ & 0 & 3 &  0 &  0 & 0 & 1 & 13 & 6 & 8 & 1\\\\\n",
       "\t 11 & 1 & 1 & 1 & 34 & 1 & 0 & 0 & 0 & 1 & ⋯ & 0 & 3 &  0 & 30 & 1 & 0 & 10 & 5 & 1 & 0\\\\\n",
       "\t 12 & 0 & 0 & 1 & 26 & 1 & 0 & 0 & 0 & 0 & ⋯ & 0 & 3 &  0 & 15 & 0 & 0 &  7 & 5 & 7 & 0\\\\\n",
       "\t 13 & 1 & 1 & 1 & 28 & 0 & 0 & 0 & 0 & 0 & ⋯ & 0 & 4 &  0 &  0 & 1 & 0 & 11 & 4 & 6 & 1\\\\\n",
       "\t 14 & 0 & 1 & 1 & 33 & 1 & 1 & 0 & 1 & 0 & ⋯ & 1 & 4 & 30 & 28 & 0 & 0 &  4 & 6 & 2 & 0\\\\\n",
       "\t 15 & 1 & 0 & 1 & 33 & 0 & 0 & 0 & 1 & 0 & ⋯ & 0 & 2 &  5 &  0 & 0 & 0 &  6 & 6 & 8 & 0\\\\\n",
       "\t 16 & 1 & 1 & 1 & 21 & 0 & 0 & 0 & 1 & 1 & ⋯ & 0 & 3 &  0 &  0 & 0 & 0 & 10 & 4 & 3 & 0\\\\\n",
       "\t 17 & 0 & 0 & 1 & 23 & 1 & 0 & 0 & 1 & 0 & ⋯ & 0 & 2 &  0 &  0 & 0 & 1 &  7 & 5 & 6 & 1\\\\\n",
       "\t 18 & 0 & 0 & 0 & 23 & 0 & 0 & 0 & 0 & 0 & ⋯ & 0 & 2 & 15 &  0 & 0 & 0 &  2 & 6 & 7 & 0\\\\\n",
       "\t 19 & 0 & 1 & 1 & 28 & 0 & 0 & 0 & 0 & 0 & ⋯ & 0 & 2 & 10 &  0 & 0 & 1 &  4 & 6 & 8 & 0\\\\\n",
       "\t 20 & 1 & 1 & 1 & 22 & 0 & 1 & 1 & 0 & 1 & ⋯ & 0 & 3 & 30 &  0 & 1 & 0 & 12 & 4 & 4 & 0\\\\\n",
       "\t 21 & 1 & 1 & 1 & 38 & 1 & 0 & 0 & 0 & 1 & ⋯ & 0 & 5 & 15 & 30 & 1 & 0 & 13 & 2 & 3 & 0\\\\\n",
       "\t 22 & 0 & 0 & 1 & 28 & 1 & 0 & 0 & 0 & 0 & ⋯ & 0 & 3 &  0 &  7 & 0 & 1 &  5 & 5 & 5 & 0\\\\\n",
       "\t 23 & 1 & 0 & 1 & 27 & 0 & 0 & 0 & 1 & 1 & ⋯ & 0 & 1 &  0 &  0 & 0 & 0 & 13 & 5 & 4 & 1\\\\\n",
       "\t 24 & 1 & 1 & 1 & 28 & 1 & 0 & 0 & 0 & 1 & ⋯ & 0 & 3 &  6 &  0 & 1 & 0 &  9 & 4 & 6 & 0\\\\\n",
       "\t 25 & 0 & 0 & 1 & 32 & 0 & 0 & 0 & 1 & 1 & ⋯ & 0 & 2 &  0 &  0 & 0 & 0 &  5 & 6 & 8 & 0\\\\\n",
       "\t 26 & 1 & 1 & 1 & 37 & 1 & 1 & 1 & 0 & 0 & ⋯ & 0 & 5 &  0 &  0 & 1 & 1 & 10 & 6 & 5 & 1\\\\\n",
       "\t 27 & 1 & 1 & 1 & 28 & 1 & 0 & 1 & 0 & 0 & ⋯ & 0 & 4 &  0 &  0 & 0 & 1 & 12 & 2 & 4 & 1\\\\\n",
       "\t 28 & 1 & 1 & 1 & 27 & 1 & 0 & 0 & 0 & 1 & ⋯ & 0 & 4 & 20 & 20 & 1 & 0 &  8 & 4 & 7 & 1\\\\\n",
       "\t 29 & 0 & 1 & 1 & 31 & 1 & 0 & 0 & 1 & 1 & ⋯ & 0 & 1 &  0 &  0 & 0 & 1 & 12 & 6 & 8 & 0\\\\\n",
       "\t ⋮ & ⋮ & ⋮ & ⋮ & ⋮ & ⋮ & ⋮ & ⋮ & ⋮ & ⋮ & ⋱ & ⋮ & ⋮ & ⋮ & ⋮ & ⋮ & ⋮ & ⋮ & ⋮ & ⋮ & ⋮\\\\\n",
       "\t 253650 & 1 & 0 & 1 & 27 & 0 & 0 & 0 & 1 & 0 & ⋯ & 0 & 4 &  0 &  0 & 0 & 0 &  5 & 4 & 2 & 0\\\\\n",
       "\t 253651 & 0 & 0 & 1 & 24 & 0 & 0 & 0 & 1 & 1 & ⋯ & 1 & 1 &  0 &  0 & 0 & 1 &  2 & 6 & 3 & 0\\\\\n",
       "\t 253652 & 0 & 1 & 1 & 27 & 0 & 0 & 0 & 1 & 1 & ⋯ & 0 & 4 &  0 & 30 & 0 & 1 & 11 & 2 & 3 & 1\\\\\n",
       "\t 253653 & 0 & 0 & 1 & 33 & 1 & 0 & 0 & 0 & 1 & ⋯ & 0 & 4 &  0 & 15 & 0 & 1 & 10 & 6 & 3 & 0\\\\\n",
       "\t 253654 & 0 & 0 & 1 & 26 & 1 & 0 & 0 & 1 & 1 & ⋯ & 0 & 2 &  1 &  0 & 0 & 1 &  3 & 3 & 1 & 0\\\\\n",
       "\t 253655 & 0 & 0 & 1 & 28 & 0 & 0 & 0 & 1 & 1 & ⋯ & 0 & 2 &  0 &  0 & 0 & 0 &  2 & 6 & 4 & 0\\\\\n",
       "\t 253656 & 0 & 0 & 1 & 25 & 0 & 0 & 0 & 1 & 1 & ⋯ & 0 & 1 &  0 &  0 & 0 & 0 &  4 & 6 & 8 & 0\\\\\n",
       "\t 253657 & 0 & 1 & 1 & 24 & 0 & 0 & 0 & 0 & 0 & ⋯ & 0 & 3 &  0 &  0 & 0 & 0 &  7 & 5 & 3 & 0\\\\\n",
       "\t 253658 & 0 & 0 & 0 & 27 & 0 & 0 & 0 & 1 & 0 & ⋯ & 1 & 2 &  0 &  0 & 0 & 0 &  3 & 6 & 5 & 0\\\\\n",
       "\t 253659 & 0 & 1 & 1 & 37 & 0 & 0 & 0 & 0 & 0 & ⋯ & 0 & 4 &  0 &  0 & 0 & 0 &  6 & 4 & 1 & 1\\\\\n",
       "\t 253660 & 0 & 1 & 1 & 34 & 1 & 0 & 0 & 0 & 1 & ⋯ & 0 & 3 &  0 &  2 & 1 & 0 &  7 & 4 & 3 & 0\\\\\n",
       "\t 253661 & 1 & 0 & 1 & 33 & 0 & 0 & 0 & 1 & 0 & ⋯ & 1 & 3 &  0 &  2 & 1 & 0 &  6 & 6 & 6 & 0\\\\\n",
       "\t 253662 & 0 & 0 & 1 & 16 & 0 & 0 & 0 & 1 & 0 & ⋯ & 0 & 1 &  0 &  0 & 0 & 0 &  5 & 6 & 2 & 0\\\\\n",
       "\t 253663 & 0 & 0 & 1 & 23 & 0 & 0 & 0 & 0 & 1 & ⋯ & 1 & 2 &  0 & 30 & 0 & 0 &  5 & 6 & 2 & 0\\\\\n",
       "\t 253664 & 0 & 1 & 1 & 29 & 1 & 0 & 0 & 0 & 0 & ⋯ & 0 & 3 &  0 &  0 & 0 & 0 &  6 & 6 & 4 & 0\\\\\n",
       "\t 253665 & 0 & 1 & 1 & 17 & 0 & 0 & 0 & 0 & 0 & ⋯ & 1 & 4 & 30 & 30 & 0 & 0 &  5 & 4 & 1 & 0\\\\\n",
       "\t 253666 & 1 & 0 & 1 & 23 & 0 & 0 & 0 & 0 & 1 & ⋯ & 0 & 3 &  0 & 15 & 0 & 0 &  6 & 5 & 2 & 0\\\\\n",
       "\t 253667 & 1 & 1 & 1 & 28 & 1 & 0 & 0 & 0 & 0 & ⋯ & 0 & 3 &  0 &  0 & 0 & 0 & 11 & 4 & 7 & 0\\\\\n",
       "\t 253668 & 0 & 1 & 1 & 29 & 1 & 0 & 1 & 0 & 1 & ⋯ & 0 & 2 &  0 &  0 & 1 & 1 & 10 & 3 & 6 & 1\\\\\n",
       "\t 253669 & 0 & 1 & 1 & 27 & 0 & 0 & 0 & 0 & 0 & ⋯ & 1 & 1 &  0 &  3 & 0 & 1 &  6 & 2 & 4 & 0\\\\\n",
       "\t 253670 & 1 & 1 & 1 & 25 & 0 & 0 & 1 & 0 & 1 & ⋯ & 0 & 5 & 15 &  0 & 1 & 0 & 13 & 6 & 4 & 1\\\\\n",
       "\t 253671 & 1 & 1 & 1 & 23 & 0 & 1 & 1 & 0 & 0 & ⋯ & 1 & 4 &  0 &  5 & 0 & 1 &  8 & 3 & 2 & 0\\\\\n",
       "\t 253672 & 1 & 0 & 1 & 30 & 1 & 0 & 1 & 1 & 1 & ⋯ & 0 & 3 &  0 &  0 & 0 & 1 & 12 & 2 & 1 & 0\\\\\n",
       "\t 253673 & 1 & 0 & 1 & 42 & 0 & 0 & 0 & 1 & 1 & ⋯ & 0 & 3 & 14 &  4 & 0 & 1 &  3 & 6 & 8 & 0\\\\\n",
       "\t 253674 & 0 & 0 & 1 & 27 & 0 & 0 & 0 & 0 & 0 & ⋯ & 0 & 1 &  0 &  0 & 0 & 0 &  3 & 6 & 5 & 0\\\\\n",
       "\t 253675 & 1 & 1 & 1 & 45 & 0 & 0 & 0 & 0 & 1 & ⋯ & 0 & 3 &  0 &  5 & 0 & 1 &  5 & 6 & 7 & 0\\\\\n",
       "\t 253676 & 1 & 1 & 1 & 18 & 0 & 0 & 0 & 0 & 0 & ⋯ & 0 & 4 &  0 &  0 & 1 & 0 & 11 & 2 & 4 & 1\\\\\n",
       "\t 253677 & 0 & 0 & 1 & 28 & 0 & 0 & 0 & 1 & 1 & ⋯ & 0 & 1 &  0 &  0 & 0 & 0 &  2 & 5 & 2 & 0\\\\\n",
       "\t 253678 & 1 & 0 & 1 & 23 & 0 & 0 & 0 & 0 & 1 & ⋯ & 0 & 3 &  0 &  0 & 0 & 1 &  7 & 5 & 1 & 0\\\\\n",
       "\t 253679 & 1 & 1 & 1 & 25 & 0 & 0 & 1 & 1 & 1 & ⋯ & 0 & 2 &  0 &  0 & 0 & 0 &  9 & 6 & 2 & 1\\\\\n",
       "\\end{tabular}\n"
      ],
      "text/markdown": [
       "\n",
       "A data.frame: 253680 × 23\n",
       "\n",
       "| X &lt;int&gt; | HighBP &lt;int&gt; | HighChol &lt;int&gt; | CholCheck &lt;int&gt; | BMI &lt;int&gt; | Smoker &lt;int&gt; | Stroke &lt;int&gt; | HeartDiseaseorAttack &lt;int&gt; | PhysActivity &lt;int&gt; | Fruits &lt;int&gt; | ⋯ ⋯ | NoDocbcCost &lt;int&gt; | GenHlth &lt;int&gt; | MentHlth &lt;int&gt; | PhysHlth &lt;int&gt; | DiffWalk &lt;int&gt; | Sex &lt;int&gt; | Age &lt;int&gt; | Education &lt;int&gt; | Income &lt;int&gt; | Diabetes_binary &lt;int&gt; |\n",
       "|---|---|---|---|---|---|---|---|---|---|---|---|---|---|---|---|---|---|---|---|---|\n",
       "|  0 | 1 | 1 | 1 | 40 | 1 | 0 | 0 | 0 | 0 | ⋯ | 0 | 5 | 18 | 15 | 1 | 0 |  9 | 4 | 3 | 0 |\n",
       "|  1 | 0 | 0 | 0 | 25 | 1 | 0 | 0 | 1 | 0 | ⋯ | 1 | 3 |  0 |  0 | 0 | 0 |  7 | 6 | 1 | 0 |\n",
       "|  2 | 1 | 1 | 1 | 28 | 0 | 0 | 0 | 0 | 1 | ⋯ | 1 | 5 | 30 | 30 | 1 | 0 |  9 | 4 | 8 | 0 |\n",
       "|  3 | 1 | 0 | 1 | 27 | 0 | 0 | 0 | 1 | 1 | ⋯ | 0 | 2 |  0 |  0 | 0 | 0 | 11 | 3 | 6 | 0 |\n",
       "|  4 | 1 | 1 | 1 | 24 | 0 | 0 | 0 | 1 | 1 | ⋯ | 0 | 2 |  3 |  0 | 0 | 0 | 11 | 5 | 4 | 0 |\n",
       "|  5 | 1 | 1 | 1 | 25 | 1 | 0 | 0 | 1 | 1 | ⋯ | 0 | 2 |  0 |  2 | 0 | 1 | 10 | 6 | 8 | 0 |\n",
       "|  6 | 1 | 0 | 1 | 30 | 1 | 0 | 0 | 0 | 0 | ⋯ | 0 | 3 |  0 | 14 | 0 | 0 |  9 | 6 | 7 | 0 |\n",
       "|  7 | 1 | 1 | 1 | 25 | 1 | 0 | 0 | 1 | 0 | ⋯ | 0 | 3 |  0 |  0 | 1 | 0 | 11 | 4 | 4 | 0 |\n",
       "|  8 | 1 | 1 | 1 | 30 | 1 | 0 | 1 | 0 | 1 | ⋯ | 0 | 5 | 30 | 30 | 1 | 0 |  9 | 5 | 1 | 1 |\n",
       "|  9 | 0 | 0 | 1 | 24 | 0 | 0 | 0 | 0 | 0 | ⋯ | 0 | 2 |  0 |  0 | 0 | 1 |  8 | 4 | 3 | 0 |\n",
       "| 10 | 0 | 0 | 1 | 25 | 1 | 0 | 0 | 1 | 1 | ⋯ | 0 | 3 |  0 |  0 | 0 | 1 | 13 | 6 | 8 | 1 |\n",
       "| 11 | 1 | 1 | 1 | 34 | 1 | 0 | 0 | 0 | 1 | ⋯ | 0 | 3 |  0 | 30 | 1 | 0 | 10 | 5 | 1 | 0 |\n",
       "| 12 | 0 | 0 | 1 | 26 | 1 | 0 | 0 | 0 | 0 | ⋯ | 0 | 3 |  0 | 15 | 0 | 0 |  7 | 5 | 7 | 0 |\n",
       "| 13 | 1 | 1 | 1 | 28 | 0 | 0 | 0 | 0 | 0 | ⋯ | 0 | 4 |  0 |  0 | 1 | 0 | 11 | 4 | 6 | 1 |\n",
       "| 14 | 0 | 1 | 1 | 33 | 1 | 1 | 0 | 1 | 0 | ⋯ | 1 | 4 | 30 | 28 | 0 | 0 |  4 | 6 | 2 | 0 |\n",
       "| 15 | 1 | 0 | 1 | 33 | 0 | 0 | 0 | 1 | 0 | ⋯ | 0 | 2 |  5 |  0 | 0 | 0 |  6 | 6 | 8 | 0 |\n",
       "| 16 | 1 | 1 | 1 | 21 | 0 | 0 | 0 | 1 | 1 | ⋯ | 0 | 3 |  0 |  0 | 0 | 0 | 10 | 4 | 3 | 0 |\n",
       "| 17 | 0 | 0 | 1 | 23 | 1 | 0 | 0 | 1 | 0 | ⋯ | 0 | 2 |  0 |  0 | 0 | 1 |  7 | 5 | 6 | 1 |\n",
       "| 18 | 0 | 0 | 0 | 23 | 0 | 0 | 0 | 0 | 0 | ⋯ | 0 | 2 | 15 |  0 | 0 | 0 |  2 | 6 | 7 | 0 |\n",
       "| 19 | 0 | 1 | 1 | 28 | 0 | 0 | 0 | 0 | 0 | ⋯ | 0 | 2 | 10 |  0 | 0 | 1 |  4 | 6 | 8 | 0 |\n",
       "| 20 | 1 | 1 | 1 | 22 | 0 | 1 | 1 | 0 | 1 | ⋯ | 0 | 3 | 30 |  0 | 1 | 0 | 12 | 4 | 4 | 0 |\n",
       "| 21 | 1 | 1 | 1 | 38 | 1 | 0 | 0 | 0 | 1 | ⋯ | 0 | 5 | 15 | 30 | 1 | 0 | 13 | 2 | 3 | 0 |\n",
       "| 22 | 0 | 0 | 1 | 28 | 1 | 0 | 0 | 0 | 0 | ⋯ | 0 | 3 |  0 |  7 | 0 | 1 |  5 | 5 | 5 | 0 |\n",
       "| 23 | 1 | 0 | 1 | 27 | 0 | 0 | 0 | 1 | 1 | ⋯ | 0 | 1 |  0 |  0 | 0 | 0 | 13 | 5 | 4 | 1 |\n",
       "| 24 | 1 | 1 | 1 | 28 | 1 | 0 | 0 | 0 | 1 | ⋯ | 0 | 3 |  6 |  0 | 1 | 0 |  9 | 4 | 6 | 0 |\n",
       "| 25 | 0 | 0 | 1 | 32 | 0 | 0 | 0 | 1 | 1 | ⋯ | 0 | 2 |  0 |  0 | 0 | 0 |  5 | 6 | 8 | 0 |\n",
       "| 26 | 1 | 1 | 1 | 37 | 1 | 1 | 1 | 0 | 0 | ⋯ | 0 | 5 |  0 |  0 | 1 | 1 | 10 | 6 | 5 | 1 |\n",
       "| 27 | 1 | 1 | 1 | 28 | 1 | 0 | 1 | 0 | 0 | ⋯ | 0 | 4 |  0 |  0 | 0 | 1 | 12 | 2 | 4 | 1 |\n",
       "| 28 | 1 | 1 | 1 | 27 | 1 | 0 | 0 | 0 | 1 | ⋯ | 0 | 4 | 20 | 20 | 1 | 0 |  8 | 4 | 7 | 1 |\n",
       "| 29 | 0 | 1 | 1 | 31 | 1 | 0 | 0 | 1 | 1 | ⋯ | 0 | 1 |  0 |  0 | 0 | 1 | 12 | 6 | 8 | 0 |\n",
       "| ⋮ | ⋮ | ⋮ | ⋮ | ⋮ | ⋮ | ⋮ | ⋮ | ⋮ | ⋮ | ⋱ | ⋮ | ⋮ | ⋮ | ⋮ | ⋮ | ⋮ | ⋮ | ⋮ | ⋮ | ⋮ |\n",
       "| 253650 | 1 | 0 | 1 | 27 | 0 | 0 | 0 | 1 | 0 | ⋯ | 0 | 4 |  0 |  0 | 0 | 0 |  5 | 4 | 2 | 0 |\n",
       "| 253651 | 0 | 0 | 1 | 24 | 0 | 0 | 0 | 1 | 1 | ⋯ | 1 | 1 |  0 |  0 | 0 | 1 |  2 | 6 | 3 | 0 |\n",
       "| 253652 | 0 | 1 | 1 | 27 | 0 | 0 | 0 | 1 | 1 | ⋯ | 0 | 4 |  0 | 30 | 0 | 1 | 11 | 2 | 3 | 1 |\n",
       "| 253653 | 0 | 0 | 1 | 33 | 1 | 0 | 0 | 0 | 1 | ⋯ | 0 | 4 |  0 | 15 | 0 | 1 | 10 | 6 | 3 | 0 |\n",
       "| 253654 | 0 | 0 | 1 | 26 | 1 | 0 | 0 | 1 | 1 | ⋯ | 0 | 2 |  1 |  0 | 0 | 1 |  3 | 3 | 1 | 0 |\n",
       "| 253655 | 0 | 0 | 1 | 28 | 0 | 0 | 0 | 1 | 1 | ⋯ | 0 | 2 |  0 |  0 | 0 | 0 |  2 | 6 | 4 | 0 |\n",
       "| 253656 | 0 | 0 | 1 | 25 | 0 | 0 | 0 | 1 | 1 | ⋯ | 0 | 1 |  0 |  0 | 0 | 0 |  4 | 6 | 8 | 0 |\n",
       "| 253657 | 0 | 1 | 1 | 24 | 0 | 0 | 0 | 0 | 0 | ⋯ | 0 | 3 |  0 |  0 | 0 | 0 |  7 | 5 | 3 | 0 |\n",
       "| 253658 | 0 | 0 | 0 | 27 | 0 | 0 | 0 | 1 | 0 | ⋯ | 1 | 2 |  0 |  0 | 0 | 0 |  3 | 6 | 5 | 0 |\n",
       "| 253659 | 0 | 1 | 1 | 37 | 0 | 0 | 0 | 0 | 0 | ⋯ | 0 | 4 |  0 |  0 | 0 | 0 |  6 | 4 | 1 | 1 |\n",
       "| 253660 | 0 | 1 | 1 | 34 | 1 | 0 | 0 | 0 | 1 | ⋯ | 0 | 3 |  0 |  2 | 1 | 0 |  7 | 4 | 3 | 0 |\n",
       "| 253661 | 1 | 0 | 1 | 33 | 0 | 0 | 0 | 1 | 0 | ⋯ | 1 | 3 |  0 |  2 | 1 | 0 |  6 | 6 | 6 | 0 |\n",
       "| 253662 | 0 | 0 | 1 | 16 | 0 | 0 | 0 | 1 | 0 | ⋯ | 0 | 1 |  0 |  0 | 0 | 0 |  5 | 6 | 2 | 0 |\n",
       "| 253663 | 0 | 0 | 1 | 23 | 0 | 0 | 0 | 0 | 1 | ⋯ | 1 | 2 |  0 | 30 | 0 | 0 |  5 | 6 | 2 | 0 |\n",
       "| 253664 | 0 | 1 | 1 | 29 | 1 | 0 | 0 | 0 | 0 | ⋯ | 0 | 3 |  0 |  0 | 0 | 0 |  6 | 6 | 4 | 0 |\n",
       "| 253665 | 0 | 1 | 1 | 17 | 0 | 0 | 0 | 0 | 0 | ⋯ | 1 | 4 | 30 | 30 | 0 | 0 |  5 | 4 | 1 | 0 |\n",
       "| 253666 | 1 | 0 | 1 | 23 | 0 | 0 | 0 | 0 | 1 | ⋯ | 0 | 3 |  0 | 15 | 0 | 0 |  6 | 5 | 2 | 0 |\n",
       "| 253667 | 1 | 1 | 1 | 28 | 1 | 0 | 0 | 0 | 0 | ⋯ | 0 | 3 |  0 |  0 | 0 | 0 | 11 | 4 | 7 | 0 |\n",
       "| 253668 | 0 | 1 | 1 | 29 | 1 | 0 | 1 | 0 | 1 | ⋯ | 0 | 2 |  0 |  0 | 1 | 1 | 10 | 3 | 6 | 1 |\n",
       "| 253669 | 0 | 1 | 1 | 27 | 0 | 0 | 0 | 0 | 0 | ⋯ | 1 | 1 |  0 |  3 | 0 | 1 |  6 | 2 | 4 | 0 |\n",
       "| 253670 | 1 | 1 | 1 | 25 | 0 | 0 | 1 | 0 | 1 | ⋯ | 0 | 5 | 15 |  0 | 1 | 0 | 13 | 6 | 4 | 1 |\n",
       "| 253671 | 1 | 1 | 1 | 23 | 0 | 1 | 1 | 0 | 0 | ⋯ | 1 | 4 |  0 |  5 | 0 | 1 |  8 | 3 | 2 | 0 |\n",
       "| 253672 | 1 | 0 | 1 | 30 | 1 | 0 | 1 | 1 | 1 | ⋯ | 0 | 3 |  0 |  0 | 0 | 1 | 12 | 2 | 1 | 0 |\n",
       "| 253673 | 1 | 0 | 1 | 42 | 0 | 0 | 0 | 1 | 1 | ⋯ | 0 | 3 | 14 |  4 | 0 | 1 |  3 | 6 | 8 | 0 |\n",
       "| 253674 | 0 | 0 | 1 | 27 | 0 | 0 | 0 | 0 | 0 | ⋯ | 0 | 1 |  0 |  0 | 0 | 0 |  3 | 6 | 5 | 0 |\n",
       "| 253675 | 1 | 1 | 1 | 45 | 0 | 0 | 0 | 0 | 1 | ⋯ | 0 | 3 |  0 |  5 | 0 | 1 |  5 | 6 | 7 | 0 |\n",
       "| 253676 | 1 | 1 | 1 | 18 | 0 | 0 | 0 | 0 | 0 | ⋯ | 0 | 4 |  0 |  0 | 1 | 0 | 11 | 2 | 4 | 1 |\n",
       "| 253677 | 0 | 0 | 1 | 28 | 0 | 0 | 0 | 1 | 1 | ⋯ | 0 | 1 |  0 |  0 | 0 | 0 |  2 | 5 | 2 | 0 |\n",
       "| 253678 | 1 | 0 | 1 | 23 | 0 | 0 | 0 | 0 | 1 | ⋯ | 0 | 3 |  0 |  0 | 0 | 1 |  7 | 5 | 1 | 0 |\n",
       "| 253679 | 1 | 1 | 1 | 25 | 0 | 0 | 1 | 1 | 1 | ⋯ | 0 | 2 |  0 |  0 | 0 | 0 |  9 | 6 | 2 | 1 |\n",
       "\n"
      ],
      "text/plain": [
       "       X      HighBP HighChol CholCheck BMI Smoker Stroke HeartDiseaseorAttack\n",
       "1       0     1      1        1         40  1      0      0                   \n",
       "2       1     0      0        0         25  1      0      0                   \n",
       "3       2     1      1        1         28  0      0      0                   \n",
       "4       3     1      0        1         27  0      0      0                   \n",
       "5       4     1      1        1         24  0      0      0                   \n",
       "6       5     1      1        1         25  1      0      0                   \n",
       "7       6     1      0        1         30  1      0      0                   \n",
       "8       7     1      1        1         25  1      0      0                   \n",
       "9       8     1      1        1         30  1      0      1                   \n",
       "10      9     0      0        1         24  0      0      0                   \n",
       "11     10     0      0        1         25  1      0      0                   \n",
       "12     11     1      1        1         34  1      0      0                   \n",
       "13     12     0      0        1         26  1      0      0                   \n",
       "14     13     1      1        1         28  0      0      0                   \n",
       "15     14     0      1        1         33  1      1      0                   \n",
       "16     15     1      0        1         33  0      0      0                   \n",
       "17     16     1      1        1         21  0      0      0                   \n",
       "18     17     0      0        1         23  1      0      0                   \n",
       "19     18     0      0        0         23  0      0      0                   \n",
       "20     19     0      1        1         28  0      0      0                   \n",
       "21     20     1      1        1         22  0      1      1                   \n",
       "22     21     1      1        1         38  1      0      0                   \n",
       "23     22     0      0        1         28  1      0      0                   \n",
       "24     23     1      0        1         27  0      0      0                   \n",
       "25     24     1      1        1         28  1      0      0                   \n",
       "26     25     0      0        1         32  0      0      0                   \n",
       "27     26     1      1        1         37  1      1      1                   \n",
       "28     27     1      1        1         28  1      0      1                   \n",
       "29     28     1      1        1         27  1      0      0                   \n",
       "30     29     0      1        1         31  1      0      0                   \n",
       "<U+22EE>      <U+22EE> <U+22EE> <U+22EE> <U+22EE>  <U+22EE> <U+22EE> <U+22EE> <U+22EE>            \n",
       "253651 253650 1      0        1         27  0      0      0                   \n",
       "253652 253651 0      0        1         24  0      0      0                   \n",
       "253653 253652 0      1        1         27  0      0      0                   \n",
       "253654 253653 0      0        1         33  1      0      0                   \n",
       "253655 253654 0      0        1         26  1      0      0                   \n",
       "253656 253655 0      0        1         28  0      0      0                   \n",
       "253657 253656 0      0        1         25  0      0      0                   \n",
       "253658 253657 0      1        1         24  0      0      0                   \n",
       "253659 253658 0      0        0         27  0      0      0                   \n",
       "253660 253659 0      1        1         37  0      0      0                   \n",
       "253661 253660 0      1        1         34  1      0      0                   \n",
       "253662 253661 1      0        1         33  0      0      0                   \n",
       "253663 253662 0      0        1         16  0      0      0                   \n",
       "253664 253663 0      0        1         23  0      0      0                   \n",
       "253665 253664 0      1        1         29  1      0      0                   \n",
       "253666 253665 0      1        1         17  0      0      0                   \n",
       "253667 253666 1      0        1         23  0      0      0                   \n",
       "253668 253667 1      1        1         28  1      0      0                   \n",
       "253669 253668 0      1        1         29  1      0      1                   \n",
       "253670 253669 0      1        1         27  0      0      0                   \n",
       "253671 253670 1      1        1         25  0      0      1                   \n",
       "253672 253671 1      1        1         23  0      1      1                   \n",
       "253673 253672 1      0        1         30  1      0      1                   \n",
       "253674 253673 1      0        1         42  0      0      0                   \n",
       "253675 253674 0      0        1         27  0      0      0                   \n",
       "253676 253675 1      1        1         45  0      0      0                   \n",
       "253677 253676 1      1        1         18  0      0      0                   \n",
       "253678 253677 0      0        1         28  0      0      0                   \n",
       "253679 253678 1      0        1         23  0      0      0                   \n",
       "253680 253679 1      1        1         25  0      0      1                   \n",
       "       PhysActivity Fruits <U+22EF>        NoDocbcCost GenHlth MentHlth PhysHlth\n",
       "1      0            0      <U+22EF> 0           5       18       15      \n",
       "2      1            0      <U+22EF> 1           3        0        0      \n",
       "3      0            1      <U+22EF> 1           5       30       30      \n",
       "4      1            1      <U+22EF> 0           2        0        0      \n",
       "5      1            1      <U+22EF> 0           2        3        0      \n",
       "6      1            1      <U+22EF> 0           2        0        2      \n",
       "7      0            0      <U+22EF> 0           3        0       14      \n",
       "8      1            0      <U+22EF> 0           3        0        0      \n",
       "9      0            1      <U+22EF> 0           5       30       30      \n",
       "10     0            0      <U+22EF> 0           2        0        0      \n",
       "11     1            1      <U+22EF> 0           3        0        0      \n",
       "12     0            1      <U+22EF> 0           3        0       30      \n",
       "13     0            0      <U+22EF> 0           3        0       15      \n",
       "14     0            0      <U+22EF> 0           4        0        0      \n",
       "15     1            0      <U+22EF> 1           4       30       28      \n",
       "16     1            0      <U+22EF> 0           2        5        0      \n",
       "17     1            1      <U+22EF> 0           3        0        0      \n",
       "18     1            0      <U+22EF> 0           2        0        0      \n",
       "19     0            0      <U+22EF> 0           2       15        0      \n",
       "20     0            0      <U+22EF> 0           2       10        0      \n",
       "21     0            1      <U+22EF> 0           3       30        0      \n",
       "22     0            1      <U+22EF> 0           5       15       30      \n",
       "23     0            0      <U+22EF> 0           3        0        7      \n",
       "24     1            1      <U+22EF> 0           1        0        0      \n",
       "25     0            1      <U+22EF> 0           3        6        0      \n",
       "26     1            1      <U+22EF> 0           2        0        0      \n",
       "27     0            0      <U+22EF> 0           5        0        0      \n",
       "28     0            0      <U+22EF> 0           4        0        0      \n",
       "29     0            1      <U+22EF> 0           4       20       20      \n",
       "30     1            1      <U+22EF> 0           1        0        0      \n",
       "<U+22EE>      <U+22EE>     <U+22EE> <U+22F1> <U+22EE>    <U+22EE> <U+22EE> <U+22EE>\n",
       "253651 1            0      <U+22EF> 0           4        0        0      \n",
       "253652 1            1      <U+22EF> 1           1        0        0      \n",
       "253653 1            1      <U+22EF> 0           4        0       30      \n",
       "253654 0            1      <U+22EF> 0           4        0       15      \n",
       "253655 1            1      <U+22EF> 0           2        1        0      \n",
       "253656 1            1      <U+22EF> 0           2        0        0      \n",
       "253657 1            1      <U+22EF> 0           1        0        0      \n",
       "253658 0            0      <U+22EF> 0           3        0        0      \n",
       "253659 1            0      <U+22EF> 1           2        0        0      \n",
       "253660 0            0      <U+22EF> 0           4        0        0      \n",
       "253661 0            1      <U+22EF> 0           3        0        2      \n",
       "253662 1            0      <U+22EF> 1           3        0        2      \n",
       "253663 1            0      <U+22EF> 0           1        0        0      \n",
       "253664 0            1      <U+22EF> 1           2        0       30      \n",
       "253665 0            0      <U+22EF> 0           3        0        0      \n",
       "253666 0            0      <U+22EF> 1           4       30       30      \n",
       "253667 0            1      <U+22EF> 0           3        0       15      \n",
       "253668 0            0      <U+22EF> 0           3        0        0      \n",
       "253669 0            1      <U+22EF> 0           2        0        0      \n",
       "253670 0            0      <U+22EF> 1           1        0        3      \n",
       "253671 0            1      <U+22EF> 0           5       15        0      \n",
       "253672 0            0      <U+22EF> 1           4        0        5      \n",
       "253673 1            1      <U+22EF> 0           3        0        0      \n",
       "253674 1            1      <U+22EF> 0           3       14        4      \n",
       "253675 0            0      <U+22EF> 0           1        0        0      \n",
       "253676 0            1      <U+22EF> 0           3        0        5      \n",
       "253677 0            0      <U+22EF> 0           4        0        0      \n",
       "253678 1            1      <U+22EF> 0           1        0        0      \n",
       "253679 0            1      <U+22EF> 0           3        0        0      \n",
       "253680 1            1      <U+22EF> 0           2        0        0      \n",
       "       DiffWalk Sex Age Education Income Diabetes_binary\n",
       "1      1        0    9  4         3      0              \n",
       "2      0        0    7  6         1      0              \n",
       "3      1        0    9  4         8      0              \n",
       "4      0        0   11  3         6      0              \n",
       "5      0        0   11  5         4      0              \n",
       "6      0        1   10  6         8      0              \n",
       "7      0        0    9  6         7      0              \n",
       "8      1        0   11  4         4      0              \n",
       "9      1        0    9  5         1      1              \n",
       "10     0        1    8  4         3      0              \n",
       "11     0        1   13  6         8      1              \n",
       "12     1        0   10  5         1      0              \n",
       "13     0        0    7  5         7      0              \n",
       "14     1        0   11  4         6      1              \n",
       "15     0        0    4  6         2      0              \n",
       "16     0        0    6  6         8      0              \n",
       "17     0        0   10  4         3      0              \n",
       "18     0        1    7  5         6      1              \n",
       "19     0        0    2  6         7      0              \n",
       "20     0        1    4  6         8      0              \n",
       "21     1        0   12  4         4      0              \n",
       "22     1        0   13  2         3      0              \n",
       "23     0        1    5  5         5      0              \n",
       "24     0        0   13  5         4      1              \n",
       "25     1        0    9  4         6      0              \n",
       "26     0        0    5  6         8      0              \n",
       "27     1        1   10  6         5      1              \n",
       "28     0        1   12  2         4      1              \n",
       "29     1        0    8  4         7      1              \n",
       "30     0        1   12  6         8      0              \n",
       "<U+22EE>      <U+22EE> <U+22EE> <U+22EE> <U+22EE>  <U+22EE> <U+22EE>       \n",
       "253651 0        0    5  4         2      0              \n",
       "253652 0        1    2  6         3      0              \n",
       "253653 0        1   11  2         3      1              \n",
       "253654 0        1   10  6         3      0              \n",
       "253655 0        1    3  3         1      0              \n",
       "253656 0        0    2  6         4      0              \n",
       "253657 0        0    4  6         8      0              \n",
       "253658 0        0    7  5         3      0              \n",
       "253659 0        0    3  6         5      0              \n",
       "253660 0        0    6  4         1      1              \n",
       "253661 1        0    7  4         3      0              \n",
       "253662 1        0    6  6         6      0              \n",
       "253663 0        0    5  6         2      0              \n",
       "253664 0        0    5  6         2      0              \n",
       "253665 0        0    6  6         4      0              \n",
       "253666 0        0    5  4         1      0              \n",
       "253667 0        0    6  5         2      0              \n",
       "253668 0        0   11  4         7      0              \n",
       "253669 1        1   10  3         6      1              \n",
       "253670 0        1    6  2         4      0              \n",
       "253671 1        0   13  6         4      1              \n",
       "253672 0        1    8  3         2      0              \n",
       "253673 0        1   12  2         1      0              \n",
       "253674 0        1    3  6         8      0              \n",
       "253675 0        0    3  6         5      0              \n",
       "253676 0        1    5  6         7      0              \n",
       "253677 1        0   11  2         4      1              \n",
       "253678 0        0    2  5         2      0              \n",
       "253679 0        1    7  5         1      0              \n",
       "253680 0        0    9  6         2      1              "
      ]
     },
     "metadata": {},
     "output_type": "display_data"
    }
   ],
   "source": [
    "df"
   ]
  },
  {
   "cell_type": "markdown",
   "id": "1f717dec-55b6-4609-9fcd-0714826fd00d",
   "metadata": {},
   "source": [
    "## 2. Data Preprocessing"
   ]
  },
  {
   "cell_type": "markdown",
   "id": "1d0da897-d2dd-42d3-8887-a11b43c0db6f",
   "metadata": {},
   "source": [
    "### 2.0. Standardize column names"
   ]
  },
  {
   "cell_type": "code",
   "execution_count": 74,
   "id": "44b0339c-d670-4306-a3f1-83281e99e025",
   "metadata": {},
   "outputs": [
    {
     "data": {
      "text/html": [
       "<style>\n",
       ".list-inline {list-style: none; margin:0; padding: 0}\n",
       ".list-inline>li {display: inline-block}\n",
       ".list-inline>li:not(:last-child)::after {content: \"\\00b7\"; padding: 0 .5ex}\n",
       "</style>\n",
       "<ol class=list-inline><li>'X'</li><li>'HighBP'</li><li>'HighChol'</li><li>'CholCheck'</li><li>'BMI'</li><li>'Smoker'</li><li>'Stroke'</li><li>'HeartDiseaseorAttack'</li><li>'PhysActivity'</li><li>'Fruits'</li><li>'Veggies'</li><li>'HvyAlcoholConsump'</li><li>'AnyHealthcare'</li><li>'NoDocbcCost'</li><li>'GenHlth'</li><li>'MentHlth'</li><li>'PhysHlth'</li><li>'DiffWalk'</li><li>'Sex'</li><li>'Age'</li><li>'Education'</li><li>'Income'</li><li>'Diabetes_binary'</li></ol>\n"
      ],
      "text/latex": [
       "\\begin{enumerate*}\n",
       "\\item 'X'\n",
       "\\item 'HighBP'\n",
       "\\item 'HighChol'\n",
       "\\item 'CholCheck'\n",
       "\\item 'BMI'\n",
       "\\item 'Smoker'\n",
       "\\item 'Stroke'\n",
       "\\item 'HeartDiseaseorAttack'\n",
       "\\item 'PhysActivity'\n",
       "\\item 'Fruits'\n",
       "\\item 'Veggies'\n",
       "\\item 'HvyAlcoholConsump'\n",
       "\\item 'AnyHealthcare'\n",
       "\\item 'NoDocbcCost'\n",
       "\\item 'GenHlth'\n",
       "\\item 'MentHlth'\n",
       "\\item 'PhysHlth'\n",
       "\\item 'DiffWalk'\n",
       "\\item 'Sex'\n",
       "\\item 'Age'\n",
       "\\item 'Education'\n",
       "\\item 'Income'\n",
       "\\item 'Diabetes\\_binary'\n",
       "\\end{enumerate*}\n"
      ],
      "text/markdown": [
       "1. 'X'\n",
       "2. 'HighBP'\n",
       "3. 'HighChol'\n",
       "4. 'CholCheck'\n",
       "5. 'BMI'\n",
       "6. 'Smoker'\n",
       "7. 'Stroke'\n",
       "8. 'HeartDiseaseorAttack'\n",
       "9. 'PhysActivity'\n",
       "10. 'Fruits'\n",
       "11. 'Veggies'\n",
       "12. 'HvyAlcoholConsump'\n",
       "13. 'AnyHealthcare'\n",
       "14. 'NoDocbcCost'\n",
       "15. 'GenHlth'\n",
       "16. 'MentHlth'\n",
       "17. 'PhysHlth'\n",
       "18. 'DiffWalk'\n",
       "19. 'Sex'\n",
       "20. 'Age'\n",
       "21. 'Education'\n",
       "22. 'Income'\n",
       "23. 'Diabetes_binary'\n",
       "\n",
       "\n"
      ],
      "text/plain": [
       " [1] \"X\"                    \"HighBP\"               \"HighChol\"            \n",
       " [4] \"CholCheck\"            \"BMI\"                  \"Smoker\"              \n",
       " [7] \"Stroke\"               \"HeartDiseaseorAttack\" \"PhysActivity\"        \n",
       "[10] \"Fruits\"               \"Veggies\"              \"HvyAlcoholConsump\"   \n",
       "[13] \"AnyHealthcare\"        \"NoDocbcCost\"          \"GenHlth\"             \n",
       "[16] \"MentHlth\"             \"PhysHlth\"             \"DiffWalk\"            \n",
       "[19] \"Sex\"                  \"Age\"                  \"Education\"           \n",
       "[22] \"Income\"               \"Diabetes_binary\"     "
      ]
     },
     "metadata": {},
     "output_type": "display_data"
    }
   ],
   "source": [
    "colnames(df)\n",
    "# Column \"X\" should be changed to be a more meaningful name."
   ]
  },
  {
   "cell_type": "code",
   "execution_count": 75,
   "id": "ffa9a82c-c15d-442f-9466-166f37c569bf",
   "metadata": {},
   "outputs": [],
   "source": [
    "colnames(df)[1] = \"Index\""
   ]
  },
  {
   "cell_type": "code",
   "execution_count": 76,
   "id": "a0a0ae03-fed9-4886-a872-63c59f62d563",
   "metadata": {},
   "outputs": [
    {
     "data": {
      "text/html": [
       "<style>\n",
       ".list-inline {list-style: none; margin:0; padding: 0}\n",
       ".list-inline>li {display: inline-block}\n",
       ".list-inline>li:not(:last-child)::after {content: \"\\00b7\"; padding: 0 .5ex}\n",
       "</style>\n",
       "<ol class=list-inline><li>'Index'</li><li>'HighBP'</li><li>'HighChol'</li><li>'CholCheck'</li><li>'BMI'</li><li>'Smoker'</li><li>'Stroke'</li><li>'HeartDiseaseorAttack'</li><li>'PhysActivity'</li><li>'Fruits'</li><li>'Veggies'</li><li>'HvyAlcoholConsump'</li><li>'AnyHealthcare'</li><li>'NoDocbcCost'</li><li>'GenHlth'</li><li>'MentHlth'</li><li>'PhysHlth'</li><li>'DiffWalk'</li><li>'Sex'</li><li>'Age'</li><li>'Education'</li><li>'Income'</li><li>'Diabetes_binary'</li></ol>\n"
      ],
      "text/latex": [
       "\\begin{enumerate*}\n",
       "\\item 'Index'\n",
       "\\item 'HighBP'\n",
       "\\item 'HighChol'\n",
       "\\item 'CholCheck'\n",
       "\\item 'BMI'\n",
       "\\item 'Smoker'\n",
       "\\item 'Stroke'\n",
       "\\item 'HeartDiseaseorAttack'\n",
       "\\item 'PhysActivity'\n",
       "\\item 'Fruits'\n",
       "\\item 'Veggies'\n",
       "\\item 'HvyAlcoholConsump'\n",
       "\\item 'AnyHealthcare'\n",
       "\\item 'NoDocbcCost'\n",
       "\\item 'GenHlth'\n",
       "\\item 'MentHlth'\n",
       "\\item 'PhysHlth'\n",
       "\\item 'DiffWalk'\n",
       "\\item 'Sex'\n",
       "\\item 'Age'\n",
       "\\item 'Education'\n",
       "\\item 'Income'\n",
       "\\item 'Diabetes\\_binary'\n",
       "\\end{enumerate*}\n"
      ],
      "text/markdown": [
       "1. 'Index'\n",
       "2. 'HighBP'\n",
       "3. 'HighChol'\n",
       "4. 'CholCheck'\n",
       "5. 'BMI'\n",
       "6. 'Smoker'\n",
       "7. 'Stroke'\n",
       "8. 'HeartDiseaseorAttack'\n",
       "9. 'PhysActivity'\n",
       "10. 'Fruits'\n",
       "11. 'Veggies'\n",
       "12. 'HvyAlcoholConsump'\n",
       "13. 'AnyHealthcare'\n",
       "14. 'NoDocbcCost'\n",
       "15. 'GenHlth'\n",
       "16. 'MentHlth'\n",
       "17. 'PhysHlth'\n",
       "18. 'DiffWalk'\n",
       "19. 'Sex'\n",
       "20. 'Age'\n",
       "21. 'Education'\n",
       "22. 'Income'\n",
       "23. 'Diabetes_binary'\n",
       "\n",
       "\n"
      ],
      "text/plain": [
       " [1] \"Index\"                \"HighBP\"               \"HighChol\"            \n",
       " [4] \"CholCheck\"            \"BMI\"                  \"Smoker\"              \n",
       " [7] \"Stroke\"               \"HeartDiseaseorAttack\" \"PhysActivity\"        \n",
       "[10] \"Fruits\"               \"Veggies\"              \"HvyAlcoholConsump\"   \n",
       "[13] \"AnyHealthcare\"        \"NoDocbcCost\"          \"GenHlth\"             \n",
       "[16] \"MentHlth\"             \"PhysHlth\"             \"DiffWalk\"            \n",
       "[19] \"Sex\"                  \"Age\"                  \"Education\"           \n",
       "[22] \"Income\"               \"Diabetes_binary\"     "
      ]
     },
     "metadata": {},
     "output_type": "display_data"
    }
   ],
   "source": [
    "colnames(df)"
   ]
  },
  {
   "cell_type": "markdown",
   "id": "31d83dd3-2ef4-4645-97c6-46f94c676328",
   "metadata": {},
   "source": [
    "### 2.1. Mismatched data types"
   ]
  },
  {
   "cell_type": "code",
   "execution_count": 77,
   "id": "ce034848-c902-4a97-9e52-539c6d8cbd95",
   "metadata": {},
   "outputs": [
    {
     "name": "stdout",
     "output_type": "stream",
     "text": [
      "'data.frame':\t253680 obs. of  23 variables:\n",
      " $ Index               : int  0 1 2 3 4 5 6 7 8 9 ...\n",
      " $ HighBP              : int  1 0 1 1 1 1 1 1 1 0 ...\n",
      " $ HighChol            : int  1 0 1 0 1 1 0 1 1 0 ...\n",
      " $ CholCheck           : int  1 0 1 1 1 1 1 1 1 1 ...\n",
      " $ BMI                 : int  40 25 28 27 24 25 30 25 30 24 ...\n",
      " $ Smoker              : int  1 1 0 0 0 1 1 1 1 0 ...\n",
      " $ Stroke              : int  0 0 0 0 0 0 0 0 0 0 ...\n",
      " $ HeartDiseaseorAttack: int  0 0 0 0 0 0 0 0 1 0 ...\n",
      " $ PhysActivity        : int  0 1 0 1 1 1 0 1 0 0 ...\n",
      " $ Fruits              : int  0 0 1 1 1 1 0 0 1 0 ...\n",
      " $ Veggies             : int  1 0 0 1 1 1 0 1 1 1 ...\n",
      " $ HvyAlcoholConsump   : int  0 0 0 0 0 0 0 0 0 0 ...\n",
      " $ AnyHealthcare       : int  1 0 1 1 1 1 1 1 1 1 ...\n",
      " $ NoDocbcCost         : int  0 1 1 0 0 0 0 0 0 0 ...\n",
      " $ GenHlth             : int  5 3 5 2 2 2 3 3 5 2 ...\n",
      " $ MentHlth            : int  18 0 30 0 3 0 0 0 30 0 ...\n",
      " $ PhysHlth            : int  15 0 30 0 0 2 14 0 30 0 ...\n",
      " $ DiffWalk            : int  1 0 1 0 0 0 0 1 1 0 ...\n",
      " $ Sex                 : int  0 0 0 0 0 1 0 0 0 1 ...\n",
      " $ Age                 : int  9 7 9 11 11 10 9 11 9 8 ...\n",
      " $ Education           : int  4 6 4 3 5 6 6 4 5 4 ...\n",
      " $ Income              : int  3 1 8 6 4 8 7 4 1 3 ...\n",
      " $ Diabetes_binary     : int  0 0 0 0 0 0 0 0 1 0 ...\n"
     ]
    }
   ],
   "source": [
    "str(df)"
   ]
  },
  {
   "cell_type": "code",
   "execution_count": 78,
   "id": "49419219-ef94-47fd-99a4-e3cad2bb91c1",
   "metadata": {},
   "outputs": [],
   "source": [
    "# All columns have correct data type"
   ]
  },
  {
   "cell_type": "markdown",
   "id": "5c4a58f5-5435-49dd-9f1d-529e47004059",
   "metadata": {},
   "source": [
    "### 2.2. Mixed data values"
   ]
  },
  {
   "cell_type": "code",
   "execution_count": 79,
   "id": "1e49781d-cfe9-4972-9f3a-69d1978539bb",
   "metadata": {},
   "outputs": [],
   "source": [
    "# Example: (female, woman, man, male) => (male, female)"
   ]
  },
  {
   "cell_type": "code",
   "execution_count": 80,
   "id": "6ff43df1-fe86-4e6b-a6cd-b2ea0344d7ff",
   "metadata": {},
   "outputs": [],
   "source": [
    "# This dataset contains only number data => No mixed data values"
   ]
  },
  {
   "cell_type": "markdown",
   "id": "40cf6966-595e-40a2-aced-1868378fbb48",
   "metadata": {},
   "source": [
    "### 2.3. Missing data"
   ]
  },
  {
   "cell_type": "markdown",
   "id": "81e1dffa-3c61-4fa8-8f32-d575086ac1f2",
   "metadata": {},
   "source": [
    "#### 2.3.1 Null data"
   ]
  },
  {
   "cell_type": "code",
   "execution_count": 81,
   "id": "757b9fa5-bf65-493e-9192-f2e544e315b2",
   "metadata": {},
   "outputs": [
    {
     "data": {
      "text/html": [
       "0"
      ],
      "text/latex": [
       "0"
      ],
      "text/markdown": [
       "0"
      ],
      "text/plain": [
       "[1] 0"
      ]
     },
     "metadata": {},
     "output_type": "display_data"
    }
   ],
   "source": [
    "sum(is.na(df))"
   ]
  },
  {
   "cell_type": "code",
   "execution_count": 82,
   "id": "8b7efaed-832e-40b7-a49f-7b9b073d165a",
   "metadata": {},
   "outputs": [],
   "source": [
    "# This dataset has no missing values"
   ]
  },
  {
   "cell_type": "markdown",
   "id": "e161e281-b62a-45b1-a544-85730a8ce63f",
   "metadata": {},
   "source": [
    "#### 2.3.2 Missing data in specific columns"
   ]
  },
  {
   "cell_type": "code",
   "execution_count": 83,
   "id": "2dbfe0ab-3d92-4276-8571-af5e3f0a339a",
   "metadata": {},
   "outputs": [],
   "source": [
    "# We see that in column \"Age\", the value could have value of 14 \n",
    "# which is Don’t know / Refused / Missing (_AGEG5YR - BRFSS)"
   ]
  },
  {
   "cell_type": "code",
   "execution_count": 84,
   "id": "ac20a3b6-e616-47e4-833f-8b84590e6bc5",
   "metadata": {},
   "outputs": [
    {
     "data": {
      "text/html": [
       "0"
      ],
      "text/latex": [
       "0"
      ],
      "text/markdown": [
       "0"
      ],
      "text/plain": [
       "[1] 0"
      ]
     },
     "metadata": {},
     "output_type": "display_data"
    }
   ],
   "source": [
    "nrow(subset(df, Age == 14))"
   ]
  },
  {
   "cell_type": "code",
   "execution_count": 85,
   "id": "ea283c98-7d9c-43b2-bbf2-a813a47172d5",
   "metadata": {},
   "outputs": [],
   "source": [
    "# Conclusion: The dataset has no missing data."
   ]
  },
  {
   "cell_type": "code",
   "execution_count": 86,
   "id": "271baddb-c0af-459e-a6a7-eb1b794a7bbb",
   "metadata": {},
   "outputs": [
    {
     "name": "stdout",
     "output_type": "stream",
     "text": [
      "'data.frame':\t253680 obs. of  23 variables:\n",
      " $ Index               : int  0 1 2 3 4 5 6 7 8 9 ...\n",
      " $ HighBP              : int  1 0 1 1 1 1 1 1 1 0 ...\n",
      " $ HighChol            : int  1 0 1 0 1 1 0 1 1 0 ...\n",
      " $ CholCheck           : int  1 0 1 1 1 1 1 1 1 1 ...\n",
      " $ BMI                 : int  40 25 28 27 24 25 30 25 30 24 ...\n",
      " $ Smoker              : int  1 1 0 0 0 1 1 1 1 0 ...\n",
      " $ Stroke              : int  0 0 0 0 0 0 0 0 0 0 ...\n",
      " $ HeartDiseaseorAttack: int  0 0 0 0 0 0 0 0 1 0 ...\n",
      " $ PhysActivity        : int  0 1 0 1 1 1 0 1 0 0 ...\n",
      " $ Fruits              : int  0 0 1 1 1 1 0 0 1 0 ...\n",
      " $ Veggies             : int  1 0 0 1 1 1 0 1 1 1 ...\n",
      " $ HvyAlcoholConsump   : int  0 0 0 0 0 0 0 0 0 0 ...\n",
      " $ AnyHealthcare       : int  1 0 1 1 1 1 1 1 1 1 ...\n",
      " $ NoDocbcCost         : int  0 1 1 0 0 0 0 0 0 0 ...\n",
      " $ GenHlth             : int  5 3 5 2 2 2 3 3 5 2 ...\n",
      " $ MentHlth            : int  18 0 30 0 3 0 0 0 30 0 ...\n",
      " $ PhysHlth            : int  15 0 30 0 0 2 14 0 30 0 ...\n",
      " $ DiffWalk            : int  1 0 1 0 0 0 0 1 1 0 ...\n",
      " $ Sex                 : int  0 0 0 0 0 1 0 0 0 1 ...\n",
      " $ Age                 : int  9 7 9 11 11 10 9 11 9 8 ...\n",
      " $ Education           : int  4 6 4 3 5 6 6 4 5 4 ...\n",
      " $ Income              : int  3 1 8 6 4 8 7 4 1 3 ...\n",
      " $ Diabetes_binary     : int  0 0 0 0 0 0 0 0 1 0 ...\n"
     ]
    }
   ],
   "source": [
    "str(df)"
   ]
  },
  {
   "cell_type": "markdown",
   "id": "a37e0a1e-df7c-4a3e-bc6c-aed1b3e8a5cb",
   "metadata": {},
   "source": [
    "## 3. Exploratory data analysis (EDA)"
   ]
  },
  {
   "cell_type": "markdown",
   "id": "777d1f33-99ae-481a-80d3-d71353a514be",
   "metadata": {},
   "source": [
    "### 3.0. Detect Numerical, Binary, Ordinal variables"
   ]
  },
  {
   "cell_type": "code",
   "execution_count": 65,
   "id": "5296607f-a5a4-4c2e-ac41-3e314ae90c7e",
   "metadata": {},
   "outputs": [
    {
     "data": {
      "text/html": [
       "<table class=\"dataframe\">\n",
       "<caption>A matrix: 3 × 1 of type int</caption>\n",
       "<thead>\n",
       "\t<tr><th></th><th scope=col>Number of variable</th></tr>\n",
       "</thead>\n",
       "<tbody>\n",
       "\t<tr><th scope=row>numerical_col</th><td> 3</td></tr>\n",
       "\t<tr><th scope=row>binary_col</th><td>14</td></tr>\n",
       "\t<tr><th scope=row>ordinal_col</th><td> 4</td></tr>\n",
       "</tbody>\n",
       "</table>\n"
      ],
      "text/latex": [
       "A matrix: 3 × 1 of type int\n",
       "\\begin{tabular}{r|l}\n",
       "  & Number of variable\\\\\n",
       "\\hline\n",
       "\tnumerical\\_col &  3\\\\\n",
       "\tbinary\\_col & 14\\\\\n",
       "\tordinal\\_col &  4\\\\\n",
       "\\end{tabular}\n"
      ],
      "text/markdown": [
       "\n",
       "A matrix: 3 × 1 of type int\n",
       "\n",
       "| <!--/--> | Number of variable |\n",
       "|---|---|\n",
       "| numerical_col |  3 |\n",
       "| binary_col | 14 |\n",
       "| ordinal_col |  4 |\n",
       "\n"
      ],
      "text/plain": [
       "              Number of variable\n",
       "numerical_col  3                \n",
       "binary_col    14                \n",
       "ordinal_col    4                "
      ]
     },
     "metadata": {},
     "output_type": "display_data"
    }
   ],
   "source": [
    "numerical_cols = c(\"BMI\", \"MentHlth\", \"PhysHlth\")\n",
    "binary_cols = c(\"HighBP\", \"HighChol\", \"CholCheck\", \"Smoker\", \"Stroke\",\n",
    "               \"HeartDiseaseorAttack\", \"PhysActivity\", \"Fruits\", \"Veggies\",\n",
    "               \"HvyAlcoholConsump\", \"AnyHealthcare\", \"NoDocbcCost\",\n",
    "               \"DiffWalk\", \"Sex\")\n",
    "ordinal_cols = c(\"GenHlth\", \"Age\", \"Education\", \"Income\")\n",
    "response_col = \"Diabetes_binary\"\n",
    "\n",
    "display_matrix = matrix(c(length(numerical_col), length(binary_col), length(ordinal_col)), nrow = 3)\n",
    "rownames(display_matrix) = c(\"numerical_col\", \"binary_col\", \"ordinal_col\")\n",
    "colnames(display_matrix) = \"Number of variable\"\n",
    "display_matrix"
   ]
  },
  {
   "cell_type": "markdown",
   "id": "730df07b-8834-4189-b37b-ed2fdb0c9ae0",
   "metadata": {},
   "source": [
    "### 3.1. Response variable analysis"
   ]
  },
  {
   "cell_type": "code",
   "execution_count": 88,
   "id": "59b64954-0b32-4a55-a2e3-271250028f67",
   "metadata": {},
   "outputs": [
    {
     "data": {
      "image/png": "[encoded data removed]",
      "text/plain": [
       "Plot with title \"Diabetes_binary\""
      ]
     },
     "metadata": {
      "image/png": {
       "height": 420,
       "width": 420
      }
     },
     "output_type": "display_data"
    }
   ],
   "source": [
    "barplot(table(df[,response_col]), main = response_col)"
   ]
  },
  {
   "cell_type": "code",
   "execution_count": 89,
   "id": "779f77eb-7aee-4fc4-9652-03072902367b",
   "metadata": {},
   "outputs": [
    {
     "data": {
      "text/html": [
       "0.139333017975402"
      ],
      "text/latex": [
       "0.139333017975402"
      ],
      "text/markdown": [
       "0.139333017975402"
      ],
      "text/plain": [
       "[1] 0.139333"
      ]
     },
     "metadata": {},
     "output_type": "display_data"
    }
   ],
   "source": [
    "nrow(df[df$Diabetes_binary == 1, ]) / nrow(df)"
   ]
  },
  {
   "cell_type": "markdown",
   "id": "2c912055-d447-4071-bbc6-828a11e3dc00",
   "metadata": {},
   "source": [
    "### 3.2. Numerical variables analysis"
   ]
  },
  {
   "cell_type": "code",
   "execution_count": 90,
   "id": "fcefaf25-f2fc-4f96-84d0-798e557dd5a1",
   "metadata": {},
   "outputs": [],
   "source": [
    "# Numerical variables (3): BMI, MentHlth, PhysHlth"
   ]
  },
  {
   "cell_type": "code",
   "execution_count": 91,
   "id": "c584f7ba-373d-4a2e-96ed-2308c86057f2",
   "metadata": {},
   "outputs": [
    {
     "data": {
      "text/plain": [
       "\n",
       " Descriptive statistics by group \n",
       "group: 0\n",
       "         vars      n  mean   sd median trimmed  mad min max range skew kurtosis\n",
       "BMI         1 218334 27.81 6.29     27   27.15 4.45  12  98    86 2.33    13.62\n",
       "MentHlth    2 218334  2.98 7.11      0    0.94 0.00   0  30    30 2.86     7.37\n",
       "PhysHlth    3 218334  3.64 8.06      0    1.30 0.00   0  30    30 2.50     5.00\n",
       "           se\n",
       "BMI      0.01\n",
       "MentHlth 0.02\n",
       "PhysHlth 0.02\n",
       "------------------------------------------------------------ \n",
       "group: 1\n",
       "         vars     n  mean    sd median trimmed  mad min max range skew kurtosis\n",
       "BMI         1 35346 31.94  7.36     31   31.24 5.93  13  98    85 1.53     5.72\n",
       "MentHlth    2 35346  4.46  8.95      0    2.02 0.00   0  30    30 2.06     2.87\n",
       "PhysHlth    3 35346  7.95 11.30      1    6.19 1.48   0  30    30 1.15    -0.34\n",
       "           se\n",
       "BMI      0.04\n",
       "MentHlth 0.05\n",
       "PhysHlth 0.06"
      ]
     },
     "metadata": {},
     "output_type": "display_data"
    }
   ],
   "source": [
    "describeBy(df[,numerical_cols], df[,response_col])"
   ]
  },
  {
   "cell_type": "code",
   "execution_count": 92,
   "id": "8f1a6768-d4f6-4d25-b418-59039e50a497",
   "metadata": {},
   "outputs": [
    {
     "data": {
      "image/png": "[encoded data removed]",
      "text/plain": [
       "Plot with title \"PhysHlth\""
      ]
     },
     "metadata": {
      "image/png": {
       "height": 420,
       "width": 420
      }
     },
     "output_type": "display_data"
    }
   ],
   "source": [
    "par(mfrow=c(1,3))\n",
    "boxplot(df$BMI, main=\"BMI\")\n",
    "boxplot(df$MentHlth, main=\"MentHlth\")\n",
    "boxplot(df$PhysHlth, main=\"PhysHlth\")"
   ]
  },
  {
   "cell_type": "code",
   "execution_count": 93,
   "id": "5956fd21-520d-408d-a30b-b6d48237eef1",
   "metadata": {},
   "outputs": [
    {
     "data": {
      "image/png": "[encoded data removed]",
      "text/plain": [
       "Plot with title \"PhysHlth\""
      ]
     },
     "metadata": {
      "image/png": {
       "height": 420,
       "width": 420
      }
     },
     "output_type": "display_data"
    }
   ],
   "source": [
    "par(mfrow=c(3,1))\n",
    "hist(df$BMI, main=\"BMI\", xlab=\"BMI score\")\n",
    "hist(df$MentHlth, main=\"MentHlth\", xlab=\"Number of day with Mental Health problem in last 30 days\")\n",
    "hist(df$PhysHlth, main=\"PhysHlth\", xlab=\"Number of day with Physical Health problem in last 30 days\")"
   ]
  },
  {
   "cell_type": "markdown",
   "id": "9c5ba093-3c02-4ae1-896b-2ba7a4ccda75",
   "metadata": {},
   "source": [
    "### 3.3. Categorical variables analysis"
   ]
  },
  {
   "cell_type": "code",
   "execution_count": 27,
   "id": "c014e99e-eedd-456c-ac08-f2b4ea1a441e",
   "metadata": {},
   "outputs": [],
   "source": [
    "# Categorical variables (18): HighBP, HighChol, CholCheck, Smoker, Stroke,\n",
    "# HeartDiseaseorAttack, PhysActivity, Fruits, Veggies, HvyAlcoholConsump,\n",
    "# AnyHealthcare, NoDocbcCost, GenHlth, DiffWalk, Sex, Age, Education, Income."
   ]
  },
  {
   "cell_type": "code",
   "execution_count": 94,
   "id": "aa6ea563-18e3-45b5-bea3-679784dd6a1b",
   "metadata": {},
   "outputs": [
    {
     "data": {
      "image/png": "[encoded data removed]",
      "text/plain": [
       "Plot with title \"Veggies\""
      ]
     },
     "metadata": {
      "image/png": {
       "height": 420,
       "width": 420
      }
     },
     "output_type": "display_data"
    }
   ],
   "source": [
    "# Plot first 9 categorical variables: \n",
    "# HighBP, HighChol, CholCheck, Smoker, Stroke,\n",
    "# HeartDiseaseorAttack, PhysActivity, Fruits, Veggies,\n",
    "par(mfrow=c(3,3))\n",
    "barplot(table(df$HighBP), horiz=T, main=\"HighBP\")\n",
    "barplot(table(df$HighChol), horiz=T, main=\"HighChol\")\n",
    "barplot(table(df$CholCheck), horiz=T, main=\"CholCheck\")\n",
    "barplot(table(df$Smoker), horiz=T, main=\"Smoker\")\n",
    "barplot(table(df$Stroke), horiz=T, main=\"Stroke\")\n",
    "barplot(table(df$HeartDiseaseorAttack), horiz=T, main=\"HeartDiseaseorAttack\")\n",
    "barplot(table(df$PhysActivity), horiz=T, main=\"PhysActivity\")\n",
    "barplot(table(df$Fruits), horiz=T, main=\"Fruits\")\n",
    "barplot(table(df$Veggies), horiz=T, main=\"Veggies\")"
   ]
  },
  {
   "cell_type": "code",
   "execution_count": 95,
   "id": "21cb0dc0-61f6-4f26-b59e-a9d3d1cc8cdf",
   "metadata": {},
   "outputs": [
    {
     "data": {
      "image/png": "[encoded data removed]",
      "text/plain": [
       "Plot with title \"Income\""
      ]
     },
     "metadata": {
      "image/png": {
       "height": 420,
       "width": 420
      }
     },
     "output_type": "display_data"
    }
   ],
   "source": [
    "# Plot last 9 categorical variables\n",
    "# HvyAlcoholConsump, AnyHealthcare, NoDocbcCost, GenHlth, \n",
    "# DiffWalk, Sex, Age, Education, Income.\n",
    "par(mfrow=c(3,3))\n",
    "barplot(table(df$HvyAlcoholConsump), horiz=T, main=\"HvyAlcoholConsump\")\n",
    "barplot(table(df$AnyHealthcare), horiz=T, main=\"AnyHealthcare\")\n",
    "barplot(table(df$NoDocbcCost), horiz=T, main=\"NoDocbcCost\")\n",
    "barplot(table(df$GenHlth), horiz=T, main=\"GenHlth\")\n",
    "barplot(table(df$DiffWalk), horiz=T, main=\"DiffWalk\")\n",
    "barplot(table(df$Sex), horiz=T, main=\"Sex\")\n",
    "barplot(table(df$Age), horiz=T, main=\"Age\")\n",
    "barplot(table(df$Education), horiz=T, main=\"Education\")\n",
    "barplot(table(df$Income), horiz=T, main=\"Income\")"
   ]
  },
  {
   "cell_type": "code",
   "execution_count": 96,
   "id": "88b52b50-093d-410d-9bf2-d3c2df655d04",
   "metadata": {},
   "outputs": [],
   "source": [
    "summary_categorical_variables = function(df, explain_col, response_col, is.binary = T, prop.r = T,\n",
    "                                        prop.c = T, prop.t = T)\n",
    "{\n",
    "    contingency_table = table(df[, explain_col], df[, response_col], dnn = c(explain_col, response_col))\n",
    "    if (is.binary)\n",
    "    {\n",
    "        rownames(contingency_table) = c(paste(\"no\", explain_col), explain_col)\n",
    "        CrossTable(contingency_table, prop.r = prop.r, prop.c = prop.c, prop.t = prop.t, prop.chisq = FALSE, chisq = T)\n",
    "        print(\"Odds Ratio\")\n",
    "        print(OddsRatio(contingency_table, conf.level = 0.95))\n",
    "        print(\"Relative Risk\")\n",
    "        print(RelRisk(contingency_table, conf.level = 0.95, method = \"wald\"))\n",
    "    }\n",
    "    else\n",
    "    {\n",
    "        CrossTable(contingency_table, prop.r = prop.r, prop.c = prop.c, prop.t = prop.t, prop.chisq = FALSE, chisq = T)\n",
    "    }\n",
    "}"
   ]
  },
  {
   "cell_type": "code",
   "execution_count": 98,
   "id": "6e9786b5-972b-4d1a-a838-a05e8d3f02d5",
   "metadata": {},
   "outputs": [
    {
     "name": "stdout",
     "output_type": "stream",
     "text": [
      "\n",
      " \n",
      "   Cell Contents\n",
      "|-------------------------|\n",
      "|                       N |\n",
      "|           N / Row Total |\n",
      "|           N / Col Total |\n",
      "|         N / Table Total |\n",
      "|-------------------------|\n",
      "\n",
      " \n",
      "Total Observations in Table:  253680 \n",
      "\n",
      " \n",
      "             | Diabetes_binary \n",
      "      HighBP |         0 |         1 | Row Total | \n",
      "-------------|-----------|-----------|-----------|\n",
      "   no HighBP |    136109 |      8742 |    144851 | \n",
      "             |     0.940 |     0.060 |     0.571 | \n",
      "             |     0.623 |     0.247 |           | \n",
      "             |     0.537 |     0.034 |           | \n",
      "-------------|-----------|-----------|-----------|\n",
      "      HighBP |     82225 |     26604 |    108829 | \n",
      "             |     0.756 |     0.244 |     0.429 | \n",
      "             |     0.377 |     0.753 |           | \n",
      "             |     0.324 |     0.105 |           | \n",
      "-------------|-----------|-----------|-----------|\n",
      "Column Total |    218334 |     35346 |    253680 | \n",
      "             |     0.861 |     0.139 |           | \n",
      "-------------|-----------|-----------|-----------|\n",
      "\n",
      " \n",
      "Statistics for All Table Factors\n",
      "\n",
      "\n",
      "Pearson's Chi-squared test \n",
      "------------------------------------------------------------\n",
      "Chi^2 =  17563.98     d.f. =  1     p =  0 \n",
      "\n",
      "Pearson's Chi-squared test with Yates' continuity correction \n",
      "------------------------------------------------------------\n",
      "Chi^2 =  17562.45     d.f. =  1     p =  0 \n",
      "\n",
      " \n",
      "[1] \"Odds Ratio\"\n",
      "odds ratio     lwr.ci     upr.ci \n",
      "  5.037547   4.909897   5.168516 \n",
      "[1] \"Relative Risk\"\n",
      "rel. risk    lwr.ci    upr.ci \n",
      " 1.243673  1.239175  1.248186 \n",
      "\n",
      " \n",
      "   Cell Contents\n",
      "|-------------------------|\n",
      "|                       N |\n",
      "|           N / Row Total |\n",
      "|           N / Col Total |\n",
      "|         N / Table Total |\n",
      "|-------------------------|\n",
      "\n",
      " \n",
      "Total Observations in Table:  253680 \n",
      "\n",
      " \n",
      "             | Diabetes_binary \n",
      "    HighChol |         0 |         1 | Row Total | \n",
      "-------------|-----------|-----------|-----------|\n",
      " no HighChol |    134429 |     11660 |    146089 | \n",
      "             |     0.920 |     0.080 |     0.576 | \n",
      "             |     0.616 |     0.330 |           | \n",
      "             |     0.530 |     0.046 |           | \n",
      "-------------|-----------|-----------|-----------|\n",
      "    HighChol |     83905 |     23686 |    107591 | \n",
      "             |     0.780 |     0.220 |     0.424 | \n",
      "             |     0.384 |     0.670 |           | \n",
      "             |     0.331 |     0.093 |           | \n",
      "-------------|-----------|-----------|-----------|\n",
      "Column Total |    218334 |     35346 |    253680 | \n",
      "             |     0.861 |     0.139 |           | \n",
      "-------------|-----------|-----------|-----------|\n",
      "\n",
      " \n",
      "Statistics for All Table Factors\n",
      "\n",
      "\n",
      "Pearson's Chi-squared test \n",
      "------------------------------------------------------------\n",
      "Chi^2 =  10175.25     d.f. =  1     p =  0 \n",
      "\n",
      "Pearson's Chi-squared test with Yates' continuity correction \n",
      "------------------------------------------------------------\n",
      "Chi^2 =  10174.07     d.f. =  1     p =  0 \n",
      "\n",
      " \n",
      "[1] \"Odds Ratio\"\n",
      "odds ratio     lwr.ci     upr.ci \n",
      "  3.254605   3.178089   3.332963 \n",
      "[1] \"Relative Risk\"\n",
      "rel. risk    lwr.ci    upr.ci \n",
      " 1.179950  1.175809  1.184105 \n",
      "\n",
      " \n",
      "   Cell Contents\n",
      "|-------------------------|\n",
      "|                       N |\n",
      "|           N / Row Total |\n",
      "|           N / Col Total |\n",
      "|         N / Table Total |\n",
      "|-------------------------|\n",
      "\n",
      " \n",
      "Total Observations in Table:  253680 \n",
      "\n",
      " \n",
      "             | Diabetes_binary \n",
      "   CholCheck |         0 |         1 | Row Total | \n",
      "-------------|-----------|-----------|-----------|\n",
      "no CholCheck |      9229 |       241 |      9470 | \n",
      "             |     0.975 |     0.025 |     0.037 | \n",
      "             |     0.042 |     0.007 |           | \n",
      "             |     0.036 |     0.001 |           | \n",
      "-------------|-----------|-----------|-----------|\n",
      "   CholCheck |    209105 |     35105 |    244210 | \n",
      "             |     0.856 |     0.144 |     0.963 | \n",
      "             |     0.958 |     0.993 |           | \n",
      "             |     0.824 |     0.138 |           | \n",
      "-------------|-----------|-----------|-----------|\n",
      "Column Total |    218334 |     35346 |    253680 | \n",
      "             |     0.861 |     0.139 |           | \n",
      "-------------|-----------|-----------|-----------|\n",
      "\n",
      " \n",
      "Statistics for All Table Factors\n",
      "\n",
      "\n",
      "Pearson's Chi-squared test \n",
      "------------------------------------------------------------\n",
      "Chi^2 =  1063.924     d.f. =  1     p =  2.28995e-233 \n",
      "\n",
      "Pearson's Chi-squared test with Yates' continuity correction \n",
      "------------------------------------------------------------\n",
      "Chi^2 =  1062.938     d.f. =  1     p =  3.751399e-233 \n",
      "\n",
      " \n",
      "[1] \"Odds Ratio\"\n",
      "odds ratio     lwr.ci     upr.ci \n",
      "  6.428981   5.654362   7.309720 \n",
      "[1] \"Relative Risk\"\n",
      "rel. risk    lwr.ci    upr.ci \n",
      " 1.138161  1.134032  1.142305 \n",
      "\n",
      " \n",
      "   Cell Contents\n",
      "|-------------------------|\n",
      "|                       N |\n",
      "|           N / Row Total |\n",
      "|           N / Col Total |\n",
      "|         N / Table Total |\n",
      "|-------------------------|\n",
      "\n",
      " \n",
      "Total Observations in Table:  253680 \n",
      "\n",
      " \n",
      "             | Diabetes_binary \n",
      "      Smoker |         0 |         1 | Row Total | \n",
      "-------------|-----------|-----------|-----------|\n",
      "   no Smoker |    124228 |     17029 |    141257 | \n",
      "             |     0.879 |     0.121 |     0.557 | \n",
      "             |     0.569 |     0.482 |           | \n",
      "             |     0.490 |     0.067 |           | \n",
      "-------------|-----------|-----------|-----------|\n",
      "      Smoker |     94106 |     18317 |    112423 | \n",
      "             |     0.837 |     0.163 |     0.443 | \n",
      "             |     0.431 |     0.518 |           | \n",
      "             |     0.371 |     0.072 |           | \n",
      "-------------|-----------|-----------|-----------|\n",
      "Column Total |    218334 |     35346 |    253680 | \n",
      "             |     0.861 |     0.139 |           | \n",
      "-------------|-----------|-----------|-----------|\n",
      "\n",
      " \n",
      "Statistics for All Table Factors\n",
      "\n",
      "\n",
      "Pearson's Chi-squared test \n",
      "------------------------------------------------------------\n",
      "Chi^2 =  937.4091     d.f. =  1     p =  7.239598e-206 \n",
      "\n",
      "Pearson's Chi-squared test with Yates' continuity correction \n",
      "------------------------------------------------------------\n",
      "Chi^2 =  937.0558     d.f. =  1     p =  8.640172e-206 \n",
      "\n",
      " \n",
      "[1] \"Odds Ratio\"\n",
      "odds ratio     lwr.ci     upr.ci \n",
      "  1.419931   1.388315   1.452268 \n",
      "[1] \"Relative Risk\"\n",
      "rel. risk    lwr.ci    upr.ci \n",
      " 1.050624  1.047245  1.054014 \n",
      "\n",
      " \n",
      "   Cell Contents\n",
      "|-------------------------|\n",
      "|                       N |\n",
      "|           N / Row Total |\n",
      "|           N / Col Total |\n",
      "|         N / Table Total |\n",
      "|-------------------------|\n",
      "\n",
      " \n",
      "Total Observations in Table:  253680 \n",
      "\n",
      " \n",
      "             | Diabetes_binary \n",
      "      Stroke |         0 |         1 | Row Total | \n",
      "-------------|-----------|-----------|-----------|\n",
      "   no Stroke |    211310 |     32078 |    243388 | \n",
      "             |     0.868 |     0.132 |     0.959 | \n",
      "             |     0.968 |     0.908 |           | \n",
      "             |     0.833 |     0.126 |           | \n",
      "-------------|-----------|-----------|-----------|\n",
      "      Stroke |      7024 |      3268 |     10292 | \n",
      "             |     0.682 |     0.318 |     0.041 | \n",
      "             |     0.032 |     0.092 |           | \n",
      "             |     0.028 |     0.013 |           | \n",
      "-------------|-----------|-----------|-----------|\n",
      "Column Total |    218334 |     35346 |    253680 | \n",
      "             |     0.861 |     0.139 |           | \n",
      "-------------|-----------|-----------|-----------|\n",
      "\n",
      " \n",
      "Statistics for All Table Factors\n",
      "\n",
      "\n",
      "Pearson's Chi-squared test \n",
      "------------------------------------------------------------\n",
      "Chi^2 =  2840.465     d.f. =  1     p =  0 \n",
      "\n",
      "Pearson's Chi-squared test with Yates' continuity correction \n",
      "------------------------------------------------------------\n",
      "Chi^2 =  2838.917     d.f. =  1     p =  0 \n",
      "\n",
      " \n",
      "[1] \"Odds Ratio\"\n",
      "odds ratio     lwr.ci     upr.ci \n",
      "  3.064858   2.935476   3.199941 \n",
      "[1] \"Relative Risk\"\n",
      "rel. risk    lwr.ci    upr.ci \n",
      " 1.272144  1.255378  1.289134 \n",
      "\n",
      " \n",
      "   Cell Contents\n",
      "|-------------------------|\n",
      "|                       N |\n",
      "|           N / Row Total |\n",
      "|           N / Col Total |\n",
      "|         N / Table Total |\n",
      "|-------------------------|\n",
      "\n",
      " \n",
      "Total Observations in Table:  253680 \n",
      "\n",
      " \n",
      "                        | Diabetes_binary \n",
      "   HeartDiseaseorAttack |         0 |         1 | Row Total | \n",
      "------------------------|-----------|-----------|-----------|\n",
      "no HeartDiseaseorAttack |    202319 |     27468 |    229787 | \n",
      "                        |     0.880 |     0.120 |     0.906 | \n",
      "                        |     0.927 |     0.777 |           | \n",
      "                        |     0.798 |     0.108 |           | \n",
      "------------------------|-----------|-----------|-----------|\n",
      "   HeartDiseaseorAttack |     16015 |      7878 |     23893 | \n",
      "                        |     0.670 |     0.330 |     0.094 | \n",
      "                        |     0.073 |     0.223 |           | \n",
      "                        |     0.063 |     0.031 |           | \n",
      "------------------------|-----------|-----------|-----------|\n",
      "           Column Total |    218334 |     35346 |    253680 | \n",
      "                        |     0.861 |     0.139 |           | \n",
      "------------------------|-----------|-----------|-----------|\n",
      "\n",
      " \n",
      "Statistics for All Table Factors\n",
      "\n",
      "\n",
      "Pearson's Chi-squared test \n",
      "------------------------------------------------------------\n",
      "Chi^2 =  7972.908     d.f. =  1     p =  0 \n",
      "\n",
      "Pearson's Chi-squared test with Yates' continuity correction \n",
      "------------------------------------------------------------\n",
      "Chi^2 =  7971.156     d.f. =  1     p =  0 \n",
      "\n",
      " \n",
      "[1] \"Odds Ratio\"\n",
      "odds ratio     lwr.ci     upr.ci \n",
      "  3.623253   3.516974   3.732743 \n",
      "[1] \"Relative Risk\"\n",
      "rel. risk    lwr.ci    upr.ci \n",
      " 1.313575  1.301781  1.325477 \n",
      "\n",
      " \n",
      "   Cell Contents\n",
      "|-------------------------|\n",
      "|                       N |\n",
      "|           N / Row Total |\n",
      "|           N / Col Total |\n",
      "|         N / Table Total |\n",
      "|-------------------------|\n",
      "\n",
      " \n",
      "Total Observations in Table:  253680 \n",
      "\n",
      " \n",
      "                | Diabetes_binary \n",
      "   PhysActivity |         0 |         1 | Row Total | \n",
      "----------------|-----------|-----------|-----------|\n",
      "no PhysActivity |     48701 |     13059 |     61760 | \n",
      "                |     0.789 |     0.211 |     0.243 | \n",
      "                |     0.223 |     0.369 |           | \n",
      "                |     0.192 |     0.051 |           | \n",
      "----------------|-----------|-----------|-----------|\n",
      "   PhysActivity |    169633 |     22287 |    191920 | \n",
      "                |     0.884 |     0.116 |     0.757 | \n",
      "                |     0.777 |     0.631 |           | \n",
      "                |     0.669 |     0.088 |           | \n",
      "----------------|-----------|-----------|-----------|\n",
      "   Column Total |    218334 |     35346 |    253680 | \n",
      "                |     0.861 |     0.139 |           | \n",
      "----------------|-----------|-----------|-----------|\n",
      "\n",
      " \n",
      "Statistics for All Table Factors\n",
      "\n",
      "\n",
      "Pearson's Chi-squared test \n",
      "------------------------------------------------------------\n",
      "Chi^2 =  3540.214     d.f. =  1     p =  0 \n",
      "\n",
      "Pearson's Chi-squared test with Yates' continuity correction \n",
      "------------------------------------------------------------\n",
      "Chi^2 =  3539.419     d.f. =  1     p =  0 \n",
      "\n",
      " \n",
      "[1] \"Odds Ratio\"\n",
      "odds ratio     lwr.ci     upr.ci \n",
      " 0.4899697  0.4784299  0.5017878 \n",
      "[1] \"Relative Risk\"\n",
      "rel. risk    lwr.ci    upr.ci \n",
      "0.8921553 0.8882438 0.8960841 \n",
      "\n",
      " \n",
      "   Cell Contents\n",
      "|-------------------------|\n",
      "|                       N |\n",
      "|           N / Row Total |\n",
      "|           N / Col Total |\n",
      "|         N / Table Total |\n",
      "|-------------------------|\n",
      "\n",
      " \n",
      "Total Observations in Table:  253680 \n",
      "\n",
      " \n",
      "             | Diabetes_binary \n",
      "      Fruits |         0 |         1 | Row Total | \n",
      "-------------|-----------|-----------|-----------|\n",
      "   no Fruits |     78129 |     14653 |     92782 | \n",
      "             |     0.842 |     0.158 |     0.366 | \n",
      "             |     0.358 |     0.415 |           | \n",
      "             |     0.308 |     0.058 |           | \n",
      "-------------|-----------|-----------|-----------|\n",
      "      Fruits |    140205 |     20693 |    160898 | \n",
      "             |     0.871 |     0.129 |     0.634 | \n",
      "             |     0.642 |     0.585 |           | \n",
      "             |     0.553 |     0.082 |           | \n",
      "-------------|-----------|-----------|-----------|\n",
      "Column Total |    218334 |     35346 |    253680 | \n",
      "             |     0.861 |     0.139 |           | \n",
      "-------------|-----------|-----------|-----------|\n",
      "\n",
      " \n",
      "Statistics for All Table Factors\n",
      "\n",
      "\n",
      "Pearson's Chi-squared test \n",
      "------------------------------------------------------------\n",
      "Chi^2 =  421.856     d.f. =  1     p =  9.626489e-94 \n",
      "\n",
      "Pearson's Chi-squared test with Yates' continuity correction \n",
      "------------------------------------------------------------\n",
      "Chi^2 =  421.6115     d.f. =  1     p =  1.088121e-93 \n",
      "\n",
      " \n",
      "[1] \"Odds Ratio\"\n",
      "odds ratio     lwr.ci     upr.ci \n",
      " 0.7869473  0.7691317  0.8051756 \n",
      "[1] \"Relative Risk\"\n",
      "rel. risk    lwr.ci    upr.ci \n",
      "0.9663527 0.9631114 0.9696050 \n",
      "\n",
      " \n",
      "   Cell Contents\n",
      "|-------------------------|\n",
      "|                       N |\n",
      "|           N / Row Total |\n",
      "|           N / Col Total |\n",
      "|         N / Table Total |\n",
      "|-------------------------|\n",
      "\n",
      " \n",
      "Total Observations in Table:  253680 \n",
      "\n",
      " \n",
      "             | Diabetes_binary \n",
      "     Veggies |         0 |         1 | Row Total | \n",
      "-------------|-----------|-----------|-----------|\n",
      "  no Veggies |     39229 |      8610 |     47839 | \n",
      "             |     0.820 |     0.180 |     0.189 | \n",
      "             |     0.180 |     0.244 |           | \n",
      "             |     0.155 |     0.034 |           | \n",
      "-------------|-----------|-----------|-----------|\n",
      "     Veggies |    179105 |     26736 |    205841 | \n",
      "             |     0.870 |     0.130 |     0.811 | \n",
      "             |     0.820 |     0.756 |           | \n",
      "             |     0.706 |     0.105 |           | \n",
      "-------------|-----------|-----------|-----------|\n",
      "Column Total |    218334 |     35346 |    253680 | \n",
      "             |     0.861 |     0.139 |           | \n",
      "-------------|-----------|-----------|-----------|\n",
      "\n",
      " \n",
      "Statistics for All Table Factors\n",
      "\n",
      "\n",
      "Pearson's Chi-squared test \n",
      "------------------------------------------------------------\n",
      "Chi^2 =  812.2236     d.f. =  1     p =  1.186992e-178 \n",
      "\n",
      "Pearson's Chi-squared test with Yates' continuity correction \n",
      "------------------------------------------------------------\n",
      "Chi^2 =  811.806     d.f. =  1     p =  1.463029e-178 \n",
      "\n",
      " \n",
      "[1] \"Odds Ratio\"\n",
      "odds ratio     lwr.ci     upr.ci \n",
      " 0.6801314  0.6622578  0.6984874 \n",
      "[1] \"Relative Risk\"\n",
      "rel. risk    lwr.ci    upr.ci \n",
      "0.9424305 0.9381825 0.9466976 \n",
      "\n",
      " \n",
      "   Cell Contents\n",
      "|-------------------------|\n",
      "|                       N |\n",
      "|           N / Row Total |\n",
      "|           N / Col Total |\n",
      "|         N / Table Total |\n",
      "|-------------------------|\n",
      "\n",
      " \n",
      "Total Observations in Table:  253680 \n",
      "\n",
      " \n",
      "                     | Diabetes_binary \n",
      "   HvyAlcoholConsump |         0 |         1 | Row Total | \n",
      "---------------------|-----------|-----------|-----------|\n",
      "no HvyAlcoholConsump |    204910 |     34514 |    239424 | \n",
      "                     |     0.856 |     0.144 |     0.944 | \n",
      "                     |     0.939 |     0.976 |           | \n",
      "                     |     0.808 |     0.136 |           | \n",
      "---------------------|-----------|-----------|-----------|\n",
      "   HvyAlcoholConsump |     13424 |       832 |     14256 | \n",
      "                     |     0.942 |     0.058 |     0.056 | \n",
      "                     |     0.061 |     0.024 |           | \n",
      "                     |     0.053 |     0.003 |           | \n",
      "---------------------|-----------|-----------|-----------|\n",
      "        Column Total |    218334 |     35346 |    253680 | \n",
      "                     |     0.861 |     0.139 |           | \n",
      "---------------------|-----------|-----------|-----------|\n",
      "\n",
      " \n",
      "Statistics for All Table Factors\n",
      "\n",
      "\n",
      "Pearson's Chi-squared test \n",
      "------------------------------------------------------------\n",
      "Chi^2 =  825.834     d.f. =  1     p =  1.304337e-181 \n",
      "\n",
      "Pearson's Chi-squared test with Yates' continuity correction \n",
      "------------------------------------------------------------\n",
      "Chi^2 =  825.1188     d.f. =  1     p =  1.865932e-181 \n",
      "\n",
      " \n",
      "[1] \"Odds Ratio\"\n",
      "odds ratio     lwr.ci     upr.ci \n",
      " 0.3679673  0.3427660  0.3950215 \n",
      "[1] \"Relative Risk\"\n",
      "rel. risk    lwr.ci    upr.ci \n",
      "0.9088898 0.9048961 0.9129011 \n",
      "\n",
      " \n",
      "   Cell Contents\n",
      "|-------------------------|\n",
      "|                       N |\n",
      "|           N / Row Total |\n",
      "|           N / Col Total |\n",
      "|         N / Table Total |\n",
      "|-------------------------|\n",
      "\n",
      " \n",
      "Total Observations in Table:  253680 \n",
      "\n",
      " \n",
      "                 | Diabetes_binary \n",
      "   AnyHealthcare |         0 |         1 | Row Total | \n",
      "-----------------|-----------|-----------|-----------|\n",
      "no AnyHealthcare |     10995 |      1422 |     12417 | \n",
      "                 |     0.885 |     0.115 |     0.049 | \n",
      "                 |     0.050 |     0.040 |           | \n",
      "                 |     0.043 |     0.006 |           | \n",
      "-----------------|-----------|-----------|-----------|\n",
      "   AnyHealthcare |    207339 |     33924 |    241263 | \n",
      "                 |     0.859 |     0.141 |     0.951 | \n",
      "                 |     0.950 |     0.960 |           | \n",
      "                 |     0.817 |     0.134 |           | \n",
      "-----------------|-----------|-----------|-----------|\n",
      "    Column Total |    218334 |     35346 |    253680 | \n",
      "                 |     0.861 |     0.139 |           | \n",
      "-----------------|-----------|-----------|-----------|\n",
      "\n",
      " \n",
      "Statistics for All Table Factors\n",
      "\n",
      "\n",
      "Pearson's Chi-squared test \n",
      "------------------------------------------------------------\n",
      "Chi^2 =  67.02976     d.f. =  1     p =  2.674399e-16 \n",
      "\n",
      "Pearson's Chi-squared test with Yates' continuity correction \n",
      "------------------------------------------------------------\n",
      "Chi^2 =  66.81237     d.f. =  1     p =  2.986181e-16 \n",
      "\n",
      " \n",
      "[1] \"Odds Ratio\"\n",
      "odds ratio     lwr.ci     upr.ci \n",
      "  1.265091   1.195697   1.338512 \n",
      "[1] \"Relative Risk\"\n",
      "rel. risk    lwr.ci    upr.ci \n",
      " 1.030358  1.023655  1.037105 \n",
      "\n",
      " \n",
      "   Cell Contents\n",
      "|-------------------------|\n",
      "|                       N |\n",
      "|           N / Row Total |\n",
      "|           N / Col Total |\n",
      "|         N / Table Total |\n",
      "|-------------------------|\n",
      "\n",
      " \n",
      "Total Observations in Table:  253680 \n",
      "\n",
      " \n",
      "               | Diabetes_binary \n",
      "   NoDocbcCost |         0 |         1 | Row Total | \n",
      "---------------|-----------|-----------|-----------|\n",
      "no NoDocbcCost |    200722 |     31604 |    232326 | \n",
      "               |     0.864 |     0.136 |     0.916 | \n",
      "               |     0.919 |     0.894 |           | \n",
      "               |     0.791 |     0.125 |           | \n",
      "---------------|-----------|-----------|-----------|\n",
      "   NoDocbcCost |     17612 |      3742 |     21354 | \n",
      "               |     0.825 |     0.175 |     0.084 | \n",
      "               |     0.081 |     0.106 |           | \n",
      "               |     0.069 |     0.015 |           | \n",
      "---------------|-----------|-----------|-----------|\n",
      "  Column Total |    218334 |     35346 |    253680 | \n",
      "               |     0.861 |     0.139 |           | \n",
      "---------------|-----------|-----------|-----------|\n",
      "\n",
      " \n",
      "Statistics for All Table Factors\n",
      "\n",
      "\n",
      "Pearson's Chi-squared test \n",
      "------------------------------------------------------------\n",
      "Chi^2 =  250.6406     d.f. =  1     p =  1.882748e-56 \n",
      "\n",
      "Pearson's Chi-squared test with Yates' continuity correction \n",
      "------------------------------------------------------------\n",
      "Chi^2 =  250.3138     d.f. =  1     p =  2.218395e-56 \n",
      "\n",
      " \n",
      "[1] \"Odds Ratio\"\n",
      "odds ratio     lwr.ci     upr.ci \n",
      "  1.349423   1.300119   1.400596 \n",
      "[1] \"Relative Risk\"\n",
      "rel. risk    lwr.ci    upr.ci \n",
      " 1.047533  1.040862  1.054247 \n",
      "\n",
      " \n",
      "   Cell Contents\n",
      "|-------------------------|\n",
      "|                       N |\n",
      "|           N / Row Total |\n",
      "|           N / Col Total |\n",
      "|         N / Table Total |\n",
      "|-------------------------|\n",
      "\n",
      " \n",
      "Total Observations in Table:  253680 \n",
      "\n",
      " \n",
      "             | Diabetes_binary \n",
      "    DiffWalk |         0 |         1 | Row Total | \n",
      "-------------|-----------|-----------|-----------|\n",
      " no DiffWalk |    188780 |     22225 |    211005 | \n",
      "             |     0.895 |     0.105 |     0.832 | \n",
      "             |     0.865 |     0.629 |           | \n",
      "             |     0.744 |     0.088 |           | \n",
      "-------------|-----------|-----------|-----------|\n",
      "    DiffWalk |     29554 |     13121 |     42675 | \n",
      "             |     0.693 |     0.307 |     0.168 | \n",
      "             |     0.135 |     0.371 |           | \n",
      "             |     0.117 |     0.052 |           | \n",
      "-------------|-----------|-----------|-----------|\n",
      "Column Total |    218334 |     35346 |    253680 | \n",
      "             |     0.861 |     0.139 |           | \n",
      "-------------|-----------|-----------|-----------|\n",
      "\n",
      " \n",
      "Statistics for All Table Factors\n",
      "\n",
      "\n",
      "Pearson's Chi-squared test \n",
      "------------------------------------------------------------\n",
      "Chi^2 =  12094.01     d.f. =  1     p =  0 \n",
      "\n",
      "Pearson's Chi-squared test with Yates' continuity correction \n",
      "------------------------------------------------------------\n",
      "Chi^2 =  12092.32     d.f. =  1     p =  0 \n",
      "\n",
      " \n",
      "[1] \"Odds Ratio\"\n",
      "odds ratio     lwr.ci     upr.ci \n",
      "  3.771072   3.678633   3.865835 \n",
      "[1] \"Relative Risk\"\n",
      "rel. risk    lwr.ci    upr.ci \n",
      " 1.291875  1.283519  1.300285 \n",
      "\n",
      " \n",
      "   Cell Contents\n",
      "|-------------------------|\n",
      "|                       N |\n",
      "|           N / Row Total |\n",
      "|           N / Col Total |\n",
      "|         N / Table Total |\n",
      "|-------------------------|\n",
      "\n",
      " \n",
      "Total Observations in Table:  253680 \n",
      "\n",
      " \n",
      "             | Diabetes_binary \n",
      "         Sex |         0 |         1 | Row Total | \n",
      "-------------|-----------|-----------|-----------|\n",
      "      no Sex |    123563 |     18411 |    141974 | \n",
      "             |     0.870 |     0.130 |     0.560 | \n",
      "             |     0.566 |     0.521 |           | \n",
      "             |     0.487 |     0.073 |           | \n",
      "-------------|-----------|-----------|-----------|\n",
      "         Sex |     94771 |     16935 |    111706 | \n",
      "             |     0.848 |     0.152 |     0.440 | \n",
      "             |     0.434 |     0.479 |           | \n",
      "             |     0.374 |     0.067 |           | \n",
      "-------------|-----------|-----------|-----------|\n",
      "Column Total |    218334 |     35346 |    253680 | \n",
      "             |     0.861 |     0.139 |           | \n",
      "-------------|-----------|-----------|-----------|\n",
      "\n",
      " \n",
      "Statistics for All Table Factors\n",
      "\n",
      "\n",
      "Pearson's Chi-squared test \n",
      "------------------------------------------------------------\n",
      "Chi^2 =  250.5965     d.f. =  1     p =  1.924891e-56 \n",
      "\n",
      "Pearson's Chi-squared test with Yates' continuity correction \n",
      "------------------------------------------------------------\n",
      "Chi^2 =  250.4137     d.f. =  1     p =  2.109875e-56 \n",
      "\n",
      " \n",
      "[1] \"Odds Ratio\"\n",
      "odds ratio     lwr.ci     upr.ci \n",
      "  1.199281   1.172576   1.226594 \n",
      "[1] \"Relative Risk\"\n",
      "rel. risk    lwr.ci    upr.ci \n",
      " 1.025842  1.022575  1.029120 \n"
     ]
    }
   ],
   "source": [
    "for (bin_col in binary_cols)\n",
    "{\n",
    "    summary_categorical_variables(df, bin_col, response_col)\n",
    "}"
   ]
  },
  {
   "cell_type": "code",
   "execution_count": 99,
   "id": "b1e030c1-1ce6-4fb6-ad8a-cadd8797f573",
   "metadata": {},
   "outputs": [
    {
     "name": "stdout",
     "output_type": "stream",
     "text": [
      "\n",
      " \n",
      "   Cell Contents\n",
      "|-------------------------|\n",
      "|                       N |\n",
      "|           N / Row Total |\n",
      "|           N / Col Total |\n",
      "|         N / Table Total |\n",
      "|-------------------------|\n",
      "\n",
      " \n",
      "Total Observations in Table:  253680 \n",
      "\n",
      " \n",
      "             | Diabetes_binary \n",
      "     GenHlth |         0 |         1 | Row Total | \n",
      "-------------|-----------|-----------|-----------|\n",
      "           1 |     44159 |      1140 |     45299 | \n",
      "             |     0.975 |     0.025 |     0.179 | \n",
      "             |     0.202 |     0.032 |           | \n",
      "             |     0.174 |     0.004 |           | \n",
      "-------------|-----------|-----------|-----------|\n",
      "           2 |     82703 |      6381 |     89084 | \n",
      "             |     0.928 |     0.072 |     0.351 | \n",
      "             |     0.379 |     0.181 |           | \n",
      "             |     0.326 |     0.025 |           | \n",
      "-------------|-----------|-----------|-----------|\n",
      "           3 |     62189 |     13457 |     75646 | \n",
      "             |     0.822 |     0.178 |     0.298 | \n",
      "             |     0.285 |     0.381 |           | \n",
      "             |     0.245 |     0.053 |           | \n",
      "-------------|-----------|-----------|-----------|\n",
      "           4 |     21780 |      9790 |     31570 | \n",
      "             |     0.690 |     0.310 |     0.124 | \n",
      "             |     0.100 |     0.277 |           | \n",
      "             |     0.086 |     0.039 |           | \n",
      "-------------|-----------|-----------|-----------|\n",
      "           5 |      7503 |      4578 |     12081 | \n",
      "             |     0.621 |     0.379 |     0.048 | \n",
      "             |     0.034 |     0.130 |           | \n",
      "             |     0.030 |     0.018 |           | \n",
      "-------------|-----------|-----------|-----------|\n",
      "Column Total |    218334 |     35346 |    253680 | \n",
      "             |     0.861 |     0.139 |           | \n",
      "-------------|-----------|-----------|-----------|\n",
      "\n",
      " \n",
      "Statistics for All Table Factors\n",
      "\n",
      "\n",
      "Pearson's Chi-squared test \n",
      "------------------------------------------------------------\n",
      "Chi^2 =  22728.07     d.f. =  4     p =  0 \n",
      "\n",
      "\n",
      " \n",
      "\n",
      " \n",
      "   Cell Contents\n",
      "|-------------------------|\n",
      "|                       N |\n",
      "|           N / Row Total |\n",
      "|           N / Col Total |\n",
      "|         N / Table Total |\n",
      "|-------------------------|\n",
      "\n",
      " \n",
      "Total Observations in Table:  253680 \n",
      "\n",
      " \n",
      "             | Diabetes_binary \n",
      "         Age |         0 |         1 | Row Total | \n",
      "-------------|-----------|-----------|-----------|\n",
      "           1 |      5622 |        78 |      5700 | \n",
      "             |     0.986 |     0.014 |     0.022 | \n",
      "             |     0.026 |     0.002 |           | \n",
      "             |     0.022 |     0.000 |           | \n",
      "-------------|-----------|-----------|-----------|\n",
      "           2 |      7458 |       140 |      7598 | \n",
      "             |     0.982 |     0.018 |     0.030 | \n",
      "             |     0.034 |     0.004 |           | \n",
      "             |     0.029 |     0.001 |           | \n",
      "-------------|-----------|-----------|-----------|\n",
      "           3 |     10809 |       314 |     11123 | \n",
      "             |     0.972 |     0.028 |     0.044 | \n",
      "             |     0.050 |     0.009 |           | \n",
      "             |     0.043 |     0.001 |           | \n",
      "-------------|-----------|-----------|-----------|\n",
      "           4 |     13197 |       626 |     13823 | \n",
      "             |     0.955 |     0.045 |     0.054 | \n",
      "             |     0.060 |     0.018 |           | \n",
      "             |     0.052 |     0.002 |           | \n",
      "-------------|-----------|-----------|-----------|\n",
      "           5 |     15106 |      1051 |     16157 | \n",
      "             |     0.935 |     0.065 |     0.064 | \n",
      "             |     0.069 |     0.030 |           | \n",
      "             |     0.060 |     0.004 |           | \n",
      "-------------|-----------|-----------|-----------|\n",
      "           6 |     18077 |      1742 |     19819 | \n",
      "             |     0.912 |     0.088 |     0.078 | \n",
      "             |     0.083 |     0.049 |           | \n",
      "             |     0.071 |     0.007 |           | \n",
      "-------------|-----------|-----------|-----------|\n",
      "           7 |     23226 |      3088 |     26314 | \n",
      "             |     0.883 |     0.117 |     0.104 | \n",
      "             |     0.106 |     0.087 |           | \n",
      "             |     0.092 |     0.012 |           | \n",
      "-------------|-----------|-----------|-----------|\n",
      "           8 |     26569 |      4263 |     30832 | \n",
      "             |     0.862 |     0.138 |     0.122 | \n",
      "             |     0.122 |     0.121 |           | \n",
      "             |     0.105 |     0.017 |           | \n",
      "-------------|-----------|-----------|-----------|\n",
      "           9 |     27511 |      5733 |     33244 | \n",
      "             |     0.828 |     0.172 |     0.131 | \n",
      "             |     0.126 |     0.162 |           | \n",
      "             |     0.108 |     0.023 |           | \n",
      "-------------|-----------|-----------|-----------|\n",
      "          10 |     25636 |      6558 |     32194 | \n",
      "             |     0.796 |     0.204 |     0.127 | \n",
      "             |     0.117 |     0.186 |           | \n",
      "             |     0.101 |     0.026 |           | \n",
      "-------------|-----------|-----------|-----------|\n",
      "          11 |     18392 |      5141 |     23533 | \n",
      "             |     0.782 |     0.218 |     0.093 | \n",
      "             |     0.084 |     0.145 |           | \n",
      "             |     0.073 |     0.020 |           | \n",
      "-------------|-----------|-----------|-----------|\n",
      "          12 |     12577 |      3403 |     15980 | \n",
      "             |     0.787 |     0.213 |     0.063 | \n",
      "             |     0.058 |     0.096 |           | \n",
      "             |     0.050 |     0.013 |           | \n",
      "-------------|-----------|-----------|-----------|\n",
      "          13 |     14154 |      3209 |     17363 | \n",
      "             |     0.815 |     0.185 |     0.068 | \n",
      "             |     0.065 |     0.091 |           | \n",
      "             |     0.056 |     0.013 |           | \n",
      "-------------|-----------|-----------|-----------|\n",
      "Column Total |    218334 |     35346 |    253680 | \n",
      "             |     0.861 |     0.139 |           | \n",
      "-------------|-----------|-----------|-----------|\n",
      "\n",
      " \n",
      "Statistics for All Table Factors\n",
      "\n",
      "\n",
      "Pearson's Chi-squared test \n",
      "------------------------------------------------------------\n",
      "Chi^2 =  8795.051     d.f. =  12     p =  0 \n",
      "\n",
      "\n",
      " \n",
      "\n",
      " \n",
      "   Cell Contents\n",
      "|-------------------------|\n",
      "|                       N |\n",
      "|           N / Row Total |\n",
      "|           N / Col Total |\n",
      "|         N / Table Total |\n",
      "|-------------------------|\n",
      "\n",
      " \n",
      "Total Observations in Table:  253680 \n",
      "\n",
      " \n",
      "             | Diabetes_binary \n",
      "   Education |         0 |         1 | Row Total | \n",
      "-------------|-----------|-----------|-----------|\n",
      "           1 |       127 |        47 |       174 | \n",
      "             |     0.730 |     0.270 |     0.001 | \n",
      "             |     0.001 |     0.001 |           | \n",
      "             |     0.001 |     0.000 |           | \n",
      "-------------|-----------|-----------|-----------|\n",
      "           2 |      2860 |      1183 |      4043 | \n",
      "             |     0.707 |     0.293 |     0.016 | \n",
      "             |     0.013 |     0.033 |           | \n",
      "             |     0.011 |     0.005 |           | \n",
      "-------------|-----------|-----------|-----------|\n",
      "           3 |      7182 |      2296 |      9478 | \n",
      "             |     0.758 |     0.242 |     0.037 | \n",
      "             |     0.033 |     0.065 |           | \n",
      "             |     0.028 |     0.009 |           | \n",
      "-------------|-----------|-----------|-----------|\n",
      "           4 |     51684 |     11066 |     62750 | \n",
      "             |     0.824 |     0.176 |     0.247 | \n",
      "             |     0.237 |     0.313 |           | \n",
      "             |     0.204 |     0.044 |           | \n",
      "-------------|-----------|-----------|-----------|\n",
      "           5 |     59556 |     10354 |     69910 | \n",
      "             |     0.852 |     0.148 |     0.276 | \n",
      "             |     0.273 |     0.293 |           | \n",
      "             |     0.235 |     0.041 |           | \n",
      "-------------|-----------|-----------|-----------|\n",
      "           6 |     96925 |     10400 |    107325 | \n",
      "             |     0.903 |     0.097 |     0.423 | \n",
      "             |     0.444 |     0.294 |           | \n",
      "             |     0.382 |     0.041 |           | \n",
      "-------------|-----------|-----------|-----------|\n",
      "Column Total |    218334 |     35346 |    253680 | \n",
      "             |     0.861 |     0.139 |           | \n",
      "-------------|-----------|-----------|-----------|\n",
      "\n",
      " \n",
      "Statistics for All Table Factors\n",
      "\n",
      "\n",
      "Pearson's Chi-squared test \n",
      "------------------------------------------------------------\n",
      "Chi^2 =  4027.112     d.f. =  5     p =  0 \n",
      "\n",
      "\n",
      " \n",
      "\n",
      " \n",
      "   Cell Contents\n",
      "|-------------------------|\n",
      "|                       N |\n",
      "|           N / Row Total |\n",
      "|           N / Col Total |\n",
      "|         N / Table Total |\n",
      "|-------------------------|\n",
      "\n",
      " \n",
      "Total Observations in Table:  253680 \n",
      "\n",
      " \n",
      "             | Diabetes_binary \n",
      "      Income |         0 |         1 | Row Total | \n",
      "-------------|-----------|-----------|-----------|\n",
      "           1 |      7428 |      2383 |      9811 | \n",
      "             |     0.757 |     0.243 |     0.039 | \n",
      "             |     0.034 |     0.067 |           | \n",
      "             |     0.029 |     0.009 |           | \n",
      "-------------|-----------|-----------|-----------|\n",
      "           2 |      8697 |      3086 |     11783 | \n",
      "             |     0.738 |     0.262 |     0.046 | \n",
      "             |     0.040 |     0.087 |           | \n",
      "             |     0.034 |     0.012 |           | \n",
      "-------------|-----------|-----------|-----------|\n",
      "           3 |     12426 |      3568 |     15994 | \n",
      "             |     0.777 |     0.223 |     0.063 | \n",
      "             |     0.057 |     0.101 |           | \n",
      "             |     0.049 |     0.014 |           | \n",
      "-------------|-----------|-----------|-----------|\n",
      "           4 |     16081 |      4054 |     20135 | \n",
      "             |     0.799 |     0.201 |     0.079 | \n",
      "             |     0.074 |     0.115 |           | \n",
      "             |     0.063 |     0.016 |           | \n",
      "-------------|-----------|-----------|-----------|\n",
      "           5 |     21379 |      4504 |     25883 | \n",
      "             |     0.826 |     0.174 |     0.102 | \n",
      "             |     0.098 |     0.127 |           | \n",
      "             |     0.084 |     0.018 |           | \n",
      "-------------|-----------|-----------|-----------|\n",
      "           6 |     31179 |      5291 |     36470 | \n",
      "             |     0.855 |     0.145 |     0.144 | \n",
      "             |     0.143 |     0.150 |           | \n",
      "             |     0.123 |     0.021 |           | \n",
      "-------------|-----------|-----------|-----------|\n",
      "           7 |     37954 |      5265 |     43219 | \n",
      "             |     0.878 |     0.122 |     0.170 | \n",
      "             |     0.174 |     0.149 |           | \n",
      "             |     0.150 |     0.021 |           | \n",
      "-------------|-----------|-----------|-----------|\n",
      "           8 |     83190 |      7195 |     90385 | \n",
      "             |     0.920 |     0.080 |     0.356 | \n",
      "             |     0.381 |     0.204 |           | \n",
      "             |     0.328 |     0.028 |           | \n",
      "-------------|-----------|-----------|-----------|\n",
      "Column Total |    218334 |     35346 |    253680 | \n",
      "             |     0.861 |     0.139 |           | \n",
      "-------------|-----------|-----------|-----------|\n",
      "\n",
      " \n",
      "Statistics for All Table Factors\n",
      "\n",
      "\n",
      "Pearson's Chi-squared test \n",
      "------------------------------------------------------------\n",
      "Chi^2 =  7003.715     d.f. =  7     p =  0 \n",
      "\n",
      "\n",
      " \n"
     ]
    }
   ],
   "source": [
    "for (ord_col in ordinal_cols)\n",
    "{\n",
    "    summary_categorical_variables(df, ord_col, response_col, is.binary = F)\n",
    "}"
   ]
  },
  {
   "cell_type": "markdown",
   "id": "734010ec-6018-4a73-be1f-96e1bb9a4955",
   "metadata": {},
   "source": [
    "### 3.4. Correlation analysis"
   ]
  },
  {
   "cell_type": "code",
   "execution_count": 33,
   "id": "3f74d63b-42aa-49b7-8319-6a0ad9594390",
   "metadata": {},
   "outputs": [],
   "source": [
    "# One hot encoder all categorical columns before next step."
   ]
  },
  {
   "cell_type": "code",
   "execution_count": 101,
   "id": "20868ee3-11b5-4d99-a76a-a3ff4863fcd6",
   "metadata": {},
   "outputs": [],
   "source": [
    "get_correlation = function(dataframe, col_1, col_2, numerical_cols, binary_cols, ordinal_cols, response_col)\n",
    "{\n",
    "    if (col_1 %in% ordinal_cols || col_2 %in% ordinal_cols)\n",
    "    {\n",
    "        return (cor.fk(dataframe[,col_1], dataframe[,col_2]))\n",
    "    }\n",
    "    else if (col_1 %in% numerical_cols && col_2 %in% c(binary_cols, response_col) ||\n",
    "             col_1 %in% c(binary_cols, response_col) && col_2 %in% numerical_cols)\n",
    "    {\n",
    "        return (cor.test(dataframe[,col_1], dataframe[,col_2])$estimate)\n",
    "    }\n",
    "    else if (col_1 %in% c(binary_cols, response_col) && col_2 %in% c(binary_cols, response_col))\n",
    "    {\n",
    "        return (cramerV(table(dataframe[ ,c(col_1, col_2)])))\n",
    "    }\n",
    "    else if (col_1 %in% numerical_cols && col_2 %in% numerical_cols)\n",
    "    {\n",
    "        return (cor(dataframe[,col_1], dataframe[,col_2]))\n",
    "    }\n",
    "    else\n",
    "    {\n",
    "        return (0)\n",
    "    }\n",
    "}    "
   ]
  },
  {
   "cell_type": "code",
   "execution_count": 35,
   "id": "4bcc64c3-6267-4d44-918e-26b95d3a05ff",
   "metadata": {},
   "outputs": [],
   "source": [
    "# get_correlation(df, \"BMI\", \"PhysHlth\", numerical_col, binary_col, ordinal_col)"
   ]
  },
  {
   "cell_type": "code",
   "execution_count": 102,
   "id": "319a4b2c-d38a-414b-8866-a7ffb602ca23",
   "metadata": {},
   "outputs": [],
   "source": [
    "all_colnames = colnames(df)"
   ]
  },
  {
   "cell_type": "code",
   "execution_count": 103,
   "id": "f671e5af-94c3-4c33-a010-3b8b887ec275",
   "metadata": {},
   "outputs": [
    {
     "data": {
      "text/html": [
       "<style>\n",
       ".list-inline {list-style: none; margin:0; padding: 0}\n",
       ".list-inline>li {display: inline-block}\n",
       ".list-inline>li:not(:last-child)::after {content: \"\\00b7\"; padding: 0 .5ex}\n",
       "</style>\n",
       "<ol class=list-inline><li>'Index'</li><li>'HighBP'</li><li>'HighChol'</li><li>'CholCheck'</li><li>'BMI'</li><li>'Smoker'</li><li>'Stroke'</li><li>'HeartDiseaseorAttack'</li><li>'PhysActivity'</li><li>'Fruits'</li><li>'Veggies'</li><li>'HvyAlcoholConsump'</li><li>'AnyHealthcare'</li><li>'NoDocbcCost'</li><li>'GenHlth'</li><li>'MentHlth'</li><li>'PhysHlth'</li><li>'DiffWalk'</li><li>'Sex'</li><li>'Age'</li><li>'Education'</li><li>'Income'</li><li>'Diabetes_binary'</li></ol>\n"
      ],
      "text/latex": [
       "\\begin{enumerate*}\n",
       "\\item 'Index'\n",
       "\\item 'HighBP'\n",
       "\\item 'HighChol'\n",
       "\\item 'CholCheck'\n",
       "\\item 'BMI'\n",
       "\\item 'Smoker'\n",
       "\\item 'Stroke'\n",
       "\\item 'HeartDiseaseorAttack'\n",
       "\\item 'PhysActivity'\n",
       "\\item 'Fruits'\n",
       "\\item 'Veggies'\n",
       "\\item 'HvyAlcoholConsump'\n",
       "\\item 'AnyHealthcare'\n",
       "\\item 'NoDocbcCost'\n",
       "\\item 'GenHlth'\n",
       "\\item 'MentHlth'\n",
       "\\item 'PhysHlth'\n",
       "\\item 'DiffWalk'\n",
       "\\item 'Sex'\n",
       "\\item 'Age'\n",
       "\\item 'Education'\n",
       "\\item 'Income'\n",
       "\\item 'Diabetes\\_binary'\n",
       "\\end{enumerate*}\n"
      ],
      "text/markdown": [
       "1. 'Index'\n",
       "2. 'HighBP'\n",
       "3. 'HighChol'\n",
       "4. 'CholCheck'\n",
       "5. 'BMI'\n",
       "6. 'Smoker'\n",
       "7. 'Stroke'\n",
       "8. 'HeartDiseaseorAttack'\n",
       "9. 'PhysActivity'\n",
       "10. 'Fruits'\n",
       "11. 'Veggies'\n",
       "12. 'HvyAlcoholConsump'\n",
       "13. 'AnyHealthcare'\n",
       "14. 'NoDocbcCost'\n",
       "15. 'GenHlth'\n",
       "16. 'MentHlth'\n",
       "17. 'PhysHlth'\n",
       "18. 'DiffWalk'\n",
       "19. 'Sex'\n",
       "20. 'Age'\n",
       "21. 'Education'\n",
       "22. 'Income'\n",
       "23. 'Diabetes_binary'\n",
       "\n",
       "\n"
      ],
      "text/plain": [
       " [1] \"Index\"                \"HighBP\"               \"HighChol\"            \n",
       " [4] \"CholCheck\"            \"BMI\"                  \"Smoker\"              \n",
       " [7] \"Stroke\"               \"HeartDiseaseorAttack\" \"PhysActivity\"        \n",
       "[10] \"Fruits\"               \"Veggies\"              \"HvyAlcoholConsump\"   \n",
       "[13] \"AnyHealthcare\"        \"NoDocbcCost\"          \"GenHlth\"             \n",
       "[16] \"MentHlth\"             \"PhysHlth\"             \"DiffWalk\"            \n",
       "[19] \"Sex\"                  \"Age\"                  \"Education\"           \n",
       "[22] \"Income\"               \"Diabetes_binary\"     "
      ]
     },
     "metadata": {},
     "output_type": "display_data"
    }
   ],
   "source": [
    "all_colnames"
   ]
  },
  {
   "cell_type": "code",
   "execution_count": 104,
   "id": "34531c04-7327-41c2-bb56-75f09edceda7",
   "metadata": {},
   "outputs": [],
   "source": [
    "correlation_matrix = matrix(0, nrow = length(all_colnames), ncol = length(all_colnames), dimnames = list(all_colnames, all_colnames))"
   ]
  },
  {
   "cell_type": "code",
   "execution_count": 105,
   "id": "022dc374-7916-48b9-84bb-489124f7a08e",
   "metadata": {},
   "outputs": [],
   "source": [
    "for (row_index in 1:nrow(correlation_matrix))\n",
    "{\n",
    "    for (col_index in row_index:ncol(correlation_matrix))\n",
    "    {\n",
    "        if (row_index == col_index)\n",
    "        {\n",
    "            correlation_matrix[row_index, col_index] = 1\n",
    "        }\n",
    "        else\n",
    "        {\n",
    "            correlation_matrix[row_index, col_index] = get_correlation(df, all_colnames[row_index],\n",
    "                                                                       all_colnames[col_index], numerical_cols, \n",
    "                                                                       binary_cols, ordinal_cols, response_col)\n",
    "        }\n",
    "    }    \n",
    "}"
   ]
  },
  {
   "cell_type": "code",
   "execution_count": 106,
   "id": "a56bab43-735d-4c32-9bd2-ba038e9997c3",
   "metadata": {
    "scrolled": true
   },
   "outputs": [
    {
     "data": {
      "text/html": [
       "<table class=\"dataframe\">\n",
       "<caption>A matrix: 23 × 23 of type dbl</caption>\n",
       "<thead>\n",
       "\t<tr><th></th><th scope=col>Index</th><th scope=col>HighBP</th><th scope=col>HighChol</th><th scope=col>CholCheck</th><th scope=col>BMI</th><th scope=col>Smoker</th><th scope=col>Stroke</th><th scope=col>HeartDiseaseorAttack</th><th scope=col>PhysActivity</th><th scope=col>Fruits</th><th scope=col>⋯</th><th scope=col>NoDocbcCost</th><th scope=col>GenHlth</th><th scope=col>MentHlth</th><th scope=col>PhysHlth</th><th scope=col>DiffWalk</th><th scope=col>Sex</th><th scope=col>Age</th><th scope=col>Education</th><th scope=col>Income</th><th scope=col>Diabetes_binary</th></tr>\n",
       "</thead>\n",
       "<tbody>\n",
       "\t<tr><th scope=row>Index</th><td>1</td><td>0</td><td>0.0000</td><td>0.00000</td><td>0.00000000</td><td>0.00000000</td><td>0.00000000</td><td>0.00000000</td><td> 0.0000000</td><td> 0.00000000</td><td>⋯</td><td>0.00000000</td><td> 0.01120463</td><td> 0.000000000</td><td> 0.000000000</td><td>0.0000000</td><td> 0.000000000</td><td>-0.011114543</td><td>-0.022069633</td><td>-0.02338277</td><td> 0.00000000</td></tr>\n",
       "\t<tr><th scope=row>HighBP</th><td>0</td><td>1</td><td>0.2982</td><td>0.09851</td><td>0.21374812</td><td>0.09699000</td><td>0.12960000</td><td>0.20940000</td><td> 0.1253000</td><td> 0.04055000</td><td>⋯</td><td>0.01736000</td><td> 0.27684409</td><td> 0.056455917</td><td> 0.161211571</td><td>0.2236000</td><td> 0.052210000</td><td> 0.293883910</td><td>-0.132261074</td><td>-0.15907727</td><td> 0.26310000</td></tr>\n",
       "\t<tr><th scope=row>HighChol</th><td>0</td><td>0</td><td>1.0000</td><td>0.08564</td><td>0.10672208</td><td>0.09130000</td><td>0.09262000</td><td>0.18080000</td><td> 0.0780500</td><td> 0.04086000</td><td>⋯</td><td>0.01331000</td><td> 0.19044111</td><td> 0.062069154</td><td> 0.121750528</td><td>0.1447000</td><td> 0.031210000</td><td> 0.227197645</td><td>-0.064141477</td><td>-0.07805095</td><td> 0.20030000</td></tr>\n",
       "\t<tr><th scope=row>CholCheck</th><td>0</td><td>0</td><td>0.0000</td><td>1.00000</td><td>0.03449509</td><td>0.00992900</td><td>0.02416000</td><td>0.04421000</td><td> 0.0041900</td><td> 0.02385000</td><td>⋯</td><td>0.05826000</td><td> 0.04230765</td><td>-0.008365598</td><td> 0.031774808</td><td>0.0405900</td><td> 0.022120000</td><td> 0.079782773</td><td> 0.003605023</td><td> 0.01355233</td><td> 0.06476000</td></tr>\n",
       "\t<tr><th scope=row>BMI</th><td>0</td><td>0</td><td>0.0000</td><td>0.00000</td><td>1.00000000</td><td>0.01380447</td><td>0.02015266</td><td>0.05290426</td><td>-0.1472936</td><td>-0.08751812</td><td>⋯</td><td>0.05820629</td><td> 0.20044778</td><td> 0.085310159</td><td> 0.121141107</td><td>0.1970778</td><td> 0.042950303</td><td>-0.018682591</td><td>-0.096272782</td><td>-0.06913474</td><td> 0.21684306</td></tr>\n",
       "\t<tr><th scope=row>Smoker</th><td>0</td><td>0</td><td>0.0000</td><td>0.00000</td><td>0.00000000</td><td>1.00000000</td><td>0.06117000</td><td>0.11440000</td><td> 0.0874000</td><td> 0.07767000</td><td>⋯</td><td>0.04895000</td><td> 0.14513867</td><td> 0.092196474</td><td> 0.116459714</td><td>0.1225000</td><td> 0.093660000</td><td> 0.101764840</td><td>-0.161695760</td><td>-0.11779172</td><td> 0.06079000</td></tr>\n",
       "\t<tr><th scope=row>Stroke</th><td>0</td><td>0</td><td>0.0000</td><td>0.00000</td><td>0.00000000</td><td>0.00000000</td><td>1.00000000</td><td>0.20300000</td><td> 0.0691500</td><td> 0.01339000</td><td>⋯</td><td>0.03480000</td><td> 0.14940699</td><td> 0.070171812</td><td> 0.148944169</td><td>0.1766000</td><td> 0.002978000</td><td> 0.110086876</td><td>-0.067979132</td><td>-0.10985834</td><td> 0.10580000</td></tr>\n",
       "\t<tr><th scope=row>HeartDiseaseorAttack</th><td>0</td><td>0</td><td>0.0000</td><td>0.00000</td><td>0.00000000</td><td>0.00000000</td><td>0.00000000</td><td>1.00000000</td><td> 0.0873000</td><td> 0.01979000</td><td>⋯</td><td>0.03100000</td><td> 0.22111285</td><td> 0.064621292</td><td> 0.181697536</td><td>0.2127000</td><td> 0.086100000</td><td> 0.194173045</td><td>-0.089351076</td><td>-0.12562478</td><td> 0.17730000</td></tr>\n",
       "\t<tr><th scope=row>PhysActivity</th><td>0</td><td>0</td><td>0.0000</td><td>0.00000</td><td>0.00000000</td><td>0.00000000</td><td>0.00000000</td><td>0.00000000</td><td> 1.0000000</td><td> 0.14280000</td><td>⋯</td><td>0.06164000</td><td>-0.23388958</td><td>-0.125587088</td><td>-0.219229522</td><td>0.2532000</td><td> 0.032480000</td><td>-0.075105057</td><td> 0.186553009</td><td> 0.17937530</td><td> 0.11810000</td></tr>\n",
       "\t<tr><th scope=row>Fruits</th><td>0</td><td>0</td><td>0.0000</td><td>0.00000</td><td>0.00000000</td><td>0.00000000</td><td>0.00000000</td><td>0.00000000</td><td> 0.0000000</td><td> 1.00000000</td><td>⋯</td><td>0.04424000</td><td>-0.09627343</td><td>-0.068217375</td><td>-0.044633325</td><td>0.0483500</td><td> 0.091170000</td><td> 0.057094063</td><td> 0.107068517</td><td> 0.06784869</td><td> 0.04078000</td></tr>\n",
       "\t<tr><th scope=row>Veggies</th><td>0</td><td>0</td><td>0.0000</td><td>0.00000</td><td>0.00000000</td><td>0.00000000</td><td>0.00000000</td><td>0.00000000</td><td> 0.0000000</td><td> 0.00000000</td><td>⋯</td><td>0.03223000</td><td>-0.11185121</td><td>-0.058883553</td><td>-0.064290327</td><td>0.0805100</td><td> 0.064770000</td><td>-0.009572817</td><td> 0.144059557</td><td> 0.13262035</td><td> 0.05658000</td></tr>\n",
       "\t<tr><th scope=row>HvyAlcoholConsump</th><td>0</td><td>0</td><td>0.0000</td><td>0.00000</td><td>0.00000000</td><td>0.00000000</td><td>0.00000000</td><td>0.00000000</td><td> 0.0000000</td><td> 0.00000000</td><td>⋯</td><td>0.00468400</td><td>-0.03215364</td><td> 0.024715803</td><td>-0.026415474</td><td>0.0376700</td><td> 0.005740000</td><td>-0.029965414</td><td> 0.019798809</td><td> 0.04913834</td><td> 0.05706000</td></tr>\n",
       "\t<tr><th scope=row>AnyHealthcare</th><td>0</td><td>0</td><td>0.0000</td><td>0.00000</td><td>0.00000000</td><td>0.00000000</td><td>0.00000000</td><td>0.00000000</td><td> 0.0000000</td><td> 0.00000000</td><td>⋯</td><td>0.23250000</td><td>-0.03799168</td><td>-0.052706597</td><td>-0.008276167</td><td>0.0070740</td><td> 0.019410000</td><td> 0.119625441</td><td> 0.106998261</td><td> 0.13766158</td><td> 0.01626000</td></tr>\n",
       "\t<tr><th scope=row>NoDocbcCost</th><td>0</td><td>0</td><td>0.0000</td><td>0.00000</td><td>0.00000000</td><td>0.00000000</td><td>0.00000000</td><td>0.00000000</td><td> 0.0000000</td><td> 0.00000000</td><td>⋯</td><td>1.00000000</td><td> 0.14381687</td><td> 0.192106853</td><td> 0.148997564</td><td>0.1184000</td><td> 0.044930000</td><td>-0.107532972</td><td>-0.091225522</td><td>-0.17468003</td><td> 0.03143000</td></tr>\n",
       "\t<tr><th scope=row>GenHlth</th><td>0</td><td>0</td><td>0.0000</td><td>0.00000</td><td>0.00000000</td><td>0.00000000</td><td>0.00000000</td><td>0.00000000</td><td> 0.0000000</td><td> 0.00000000</td><td>⋯</td><td>0.00000000</td><td> 1.00000000</td><td> 0.204673302</td><td> 0.390358148</td><td>0.3859114</td><td>-0.003228014</td><td> 0.114303133</td><td>-0.236224080</td><td>-0.29196523</td><td> 0.26260195</td></tr>\n",
       "\t<tr><th scope=row>MentHlth</th><td>0</td><td>0</td><td>0.0000</td><td>0.00000</td><td>0.00000000</td><td>0.00000000</td><td>0.00000000</td><td>0.00000000</td><td> 0.0000000</td><td> 0.00000000</td><td>⋯</td><td>0.00000000</td><td> 0.00000000</td><td> 1.000000000</td><td> 0.353618868</td><td>0.2336881</td><td>-0.080704863</td><td>-0.129731426</td><td>-0.047084111</td><td>-0.12043742</td><td> 0.06931508</td></tr>\n",
       "\t<tr><th scope=row>PhysHlth</th><td>0</td><td>0</td><td>0.0000</td><td>0.00000</td><td>0.00000000</td><td>0.00000000</td><td>0.00000000</td><td>0.00000000</td><td> 0.0000000</td><td> 0.00000000</td><td>⋯</td><td>0.00000000</td><td> 0.00000000</td><td> 0.000000000</td><td> 1.000000000</td><td>0.4784166</td><td>-0.043136502</td><td> 0.040949992</td><td>-0.098650266</td><td>-0.17883737</td><td> 0.17133670</td></tr>\n",
       "\t<tr><th scope=row>DiffWalk</th><td>0</td><td>0</td><td>0.0000</td><td>0.00000</td><td>0.00000000</td><td>0.00000000</td><td>0.00000000</td><td>0.00000000</td><td> 0.0000000</td><td> 0.00000000</td><td>⋯</td><td>0.00000000</td><td> 0.00000000</td><td> 0.000000000</td><td> 0.000000000</td><td>1.0000000</td><td> 0.070300000</td><td> 0.171554443</td><td>-0.174726539</td><td>-0.26966510</td><td> 0.21830000</td></tr>\n",
       "\t<tr><th scope=row>Sex</th><td>0</td><td>0</td><td>0.0000</td><td>0.00000</td><td>0.00000000</td><td>0.00000000</td><td>0.00000000</td><td>0.00000000</td><td> 0.0000000</td><td> 0.00000000</td><td>⋯</td><td>0.00000000</td><td> 0.00000000</td><td> 0.000000000</td><td> 0.000000000</td><td>0.0000000</td><td> 1.000000000</td><td>-0.020657202</td><td> 0.022554582</td><td> 0.11277129</td><td> 0.03143000</td></tr>\n",
       "\t<tr><th scope=row>Age</th><td>0</td><td>0</td><td>0.0000</td><td>0.00000</td><td>0.00000000</td><td>0.00000000</td><td>0.00000000</td><td>0.00000000</td><td> 0.0000000</td><td> 0.00000000</td><td>⋯</td><td>0.00000000</td><td> 0.00000000</td><td> 0.000000000</td><td> 0.000000000</td><td>0.0000000</td><td> 0.000000000</td><td> 1.000000000</td><td>-0.080601809</td><td>-0.13460542</td><td> 0.15156257</td></tr>\n",
       "\t<tr><th scope=row>Education</th><td>0</td><td>0</td><td>0.0000</td><td>0.00000</td><td>0.00000000</td><td>0.00000000</td><td>0.00000000</td><td>0.00000000</td><td> 0.0000000</td><td> 0.00000000</td><td>⋯</td><td>0.00000000</td><td> 0.00000000</td><td> 0.000000000</td><td> 0.000000000</td><td>0.0000000</td><td> 0.000000000</td><td> 0.000000000</td><td> 1.000000000</td><td> 0.38077195</td><td>-0.11182832</td></tr>\n",
       "\t<tr><th scope=row>Income</th><td>0</td><td>0</td><td>0.0000</td><td>0.00000</td><td>0.00000000</td><td>0.00000000</td><td>0.00000000</td><td>0.00000000</td><td> 0.0000000</td><td> 0.00000000</td><td>⋯</td><td>0.00000000</td><td> 0.00000000</td><td> 0.000000000</td><td> 0.000000000</td><td>0.0000000</td><td> 0.000000000</td><td> 0.000000000</td><td> 0.000000000</td><td> 1.00000000</td><td>-0.14499818</td></tr>\n",
       "\t<tr><th scope=row>Diabetes_binary</th><td>0</td><td>0</td><td>0.0000</td><td>0.00000</td><td>0.00000000</td><td>0.00000000</td><td>0.00000000</td><td>0.00000000</td><td> 0.0000000</td><td> 0.00000000</td><td>⋯</td><td>0.00000000</td><td> 0.00000000</td><td> 0.000000000</td><td> 0.000000000</td><td>0.0000000</td><td> 0.000000000</td><td> 0.000000000</td><td> 0.000000000</td><td> 0.00000000</td><td> 1.00000000</td></tr>\n",
       "</tbody>\n",
       "</table>\n"
      ],
      "text/latex": [
       "A matrix: 23 × 23 of type dbl\n",
       "\\begin{tabular}{r|lllllllllllllllllllll}\n",
       "  & Index & HighBP & HighChol & CholCheck & BMI & Smoker & Stroke & HeartDiseaseorAttack & PhysActivity & Fruits & ⋯ & NoDocbcCost & GenHlth & MentHlth & PhysHlth & DiffWalk & Sex & Age & Education & Income & Diabetes\\_binary\\\\\n",
       "\\hline\n",
       "\tIndex & 1 & 0 & 0.0000 & 0.00000 & 0.00000000 & 0.00000000 & 0.00000000 & 0.00000000 &  0.0000000 &  0.00000000 & ⋯ & 0.00000000 &  0.01120463 &  0.000000000 &  0.000000000 & 0.0000000 &  0.000000000 & -0.011114543 & -0.022069633 & -0.02338277 &  0.00000000\\\\\n",
       "\tHighBP & 0 & 1 & 0.2982 & 0.09851 & 0.21374812 & 0.09699000 & 0.12960000 & 0.20940000 &  0.1253000 &  0.04055000 & ⋯ & 0.01736000 &  0.27684409 &  0.056455917 &  0.161211571 & 0.2236000 &  0.052210000 &  0.293883910 & -0.132261074 & -0.15907727 &  0.26310000\\\\\n",
       "\tHighChol & 0 & 0 & 1.0000 & 0.08564 & 0.10672208 & 0.09130000 & 0.09262000 & 0.18080000 &  0.0780500 &  0.04086000 & ⋯ & 0.01331000 &  0.19044111 &  0.062069154 &  0.121750528 & 0.1447000 &  0.031210000 &  0.227197645 & -0.064141477 & -0.07805095 &  0.20030000\\\\\n",
       "\tCholCheck & 0 & 0 & 0.0000 & 1.00000 & 0.03449509 & 0.00992900 & 0.02416000 & 0.04421000 &  0.0041900 &  0.02385000 & ⋯ & 0.05826000 &  0.04230765 & -0.008365598 &  0.031774808 & 0.0405900 &  0.022120000 &  0.079782773 &  0.003605023 &  0.01355233 &  0.06476000\\\\\n",
       "\tBMI & 0 & 0 & 0.0000 & 0.00000 & 1.00000000 & 0.01380447 & 0.02015266 & 0.05290426 & -0.1472936 & -0.08751812 & ⋯ & 0.05820629 &  0.20044778 &  0.085310159 &  0.121141107 & 0.1970778 &  0.042950303 & -0.018682591 & -0.096272782 & -0.06913474 &  0.21684306\\\\\n",
       "\tSmoker & 0 & 0 & 0.0000 & 0.00000 & 0.00000000 & 1.00000000 & 0.06117000 & 0.11440000 &  0.0874000 &  0.07767000 & ⋯ & 0.04895000 &  0.14513867 &  0.092196474 &  0.116459714 & 0.1225000 &  0.093660000 &  0.101764840 & -0.161695760 & -0.11779172 &  0.06079000\\\\\n",
       "\tStroke & 0 & 0 & 0.0000 & 0.00000 & 0.00000000 & 0.00000000 & 1.00000000 & 0.20300000 &  0.0691500 &  0.01339000 & ⋯ & 0.03480000 &  0.14940699 &  0.070171812 &  0.148944169 & 0.1766000 &  0.002978000 &  0.110086876 & -0.067979132 & -0.10985834 &  0.10580000\\\\\n",
       "\tHeartDiseaseorAttack & 0 & 0 & 0.0000 & 0.00000 & 0.00000000 & 0.00000000 & 0.00000000 & 1.00000000 &  0.0873000 &  0.01979000 & ⋯ & 0.03100000 &  0.22111285 &  0.064621292 &  0.181697536 & 0.2127000 &  0.086100000 &  0.194173045 & -0.089351076 & -0.12562478 &  0.17730000\\\\\n",
       "\tPhysActivity & 0 & 0 & 0.0000 & 0.00000 & 0.00000000 & 0.00000000 & 0.00000000 & 0.00000000 &  1.0000000 &  0.14280000 & ⋯ & 0.06164000 & -0.23388958 & -0.125587088 & -0.219229522 & 0.2532000 &  0.032480000 & -0.075105057 &  0.186553009 &  0.17937530 &  0.11810000\\\\\n",
       "\tFruits & 0 & 0 & 0.0000 & 0.00000 & 0.00000000 & 0.00000000 & 0.00000000 & 0.00000000 &  0.0000000 &  1.00000000 & ⋯ & 0.04424000 & -0.09627343 & -0.068217375 & -0.044633325 & 0.0483500 &  0.091170000 &  0.057094063 &  0.107068517 &  0.06784869 &  0.04078000\\\\\n",
       "\tVeggies & 0 & 0 & 0.0000 & 0.00000 & 0.00000000 & 0.00000000 & 0.00000000 & 0.00000000 &  0.0000000 &  0.00000000 & ⋯ & 0.03223000 & -0.11185121 & -0.058883553 & -0.064290327 & 0.0805100 &  0.064770000 & -0.009572817 &  0.144059557 &  0.13262035 &  0.05658000\\\\\n",
       "\tHvyAlcoholConsump & 0 & 0 & 0.0000 & 0.00000 & 0.00000000 & 0.00000000 & 0.00000000 & 0.00000000 &  0.0000000 &  0.00000000 & ⋯ & 0.00468400 & -0.03215364 &  0.024715803 & -0.026415474 & 0.0376700 &  0.005740000 & -0.029965414 &  0.019798809 &  0.04913834 &  0.05706000\\\\\n",
       "\tAnyHealthcare & 0 & 0 & 0.0000 & 0.00000 & 0.00000000 & 0.00000000 & 0.00000000 & 0.00000000 &  0.0000000 &  0.00000000 & ⋯ & 0.23250000 & -0.03799168 & -0.052706597 & -0.008276167 & 0.0070740 &  0.019410000 &  0.119625441 &  0.106998261 &  0.13766158 &  0.01626000\\\\\n",
       "\tNoDocbcCost & 0 & 0 & 0.0000 & 0.00000 & 0.00000000 & 0.00000000 & 0.00000000 & 0.00000000 &  0.0000000 &  0.00000000 & ⋯ & 1.00000000 &  0.14381687 &  0.192106853 &  0.148997564 & 0.1184000 &  0.044930000 & -0.107532972 & -0.091225522 & -0.17468003 &  0.03143000\\\\\n",
       "\tGenHlth & 0 & 0 & 0.0000 & 0.00000 & 0.00000000 & 0.00000000 & 0.00000000 & 0.00000000 &  0.0000000 &  0.00000000 & ⋯ & 0.00000000 &  1.00000000 &  0.204673302 &  0.390358148 & 0.3859114 & -0.003228014 &  0.114303133 & -0.236224080 & -0.29196523 &  0.26260195\\\\\n",
       "\tMentHlth & 0 & 0 & 0.0000 & 0.00000 & 0.00000000 & 0.00000000 & 0.00000000 & 0.00000000 &  0.0000000 &  0.00000000 & ⋯ & 0.00000000 &  0.00000000 &  1.000000000 &  0.353618868 & 0.2336881 & -0.080704863 & -0.129731426 & -0.047084111 & -0.12043742 &  0.06931508\\\\\n",
       "\tPhysHlth & 0 & 0 & 0.0000 & 0.00000 & 0.00000000 & 0.00000000 & 0.00000000 & 0.00000000 &  0.0000000 &  0.00000000 & ⋯ & 0.00000000 &  0.00000000 &  0.000000000 &  1.000000000 & 0.4784166 & -0.043136502 &  0.040949992 & -0.098650266 & -0.17883737 &  0.17133670\\\\\n",
       "\tDiffWalk & 0 & 0 & 0.0000 & 0.00000 & 0.00000000 & 0.00000000 & 0.00000000 & 0.00000000 &  0.0000000 &  0.00000000 & ⋯ & 0.00000000 &  0.00000000 &  0.000000000 &  0.000000000 & 1.0000000 &  0.070300000 &  0.171554443 & -0.174726539 & -0.26966510 &  0.21830000\\\\\n",
       "\tSex & 0 & 0 & 0.0000 & 0.00000 & 0.00000000 & 0.00000000 & 0.00000000 & 0.00000000 &  0.0000000 &  0.00000000 & ⋯ & 0.00000000 &  0.00000000 &  0.000000000 &  0.000000000 & 0.0000000 &  1.000000000 & -0.020657202 &  0.022554582 &  0.11277129 &  0.03143000\\\\\n",
       "\tAge & 0 & 0 & 0.0000 & 0.00000 & 0.00000000 & 0.00000000 & 0.00000000 & 0.00000000 &  0.0000000 &  0.00000000 & ⋯ & 0.00000000 &  0.00000000 &  0.000000000 &  0.000000000 & 0.0000000 &  0.000000000 &  1.000000000 & -0.080601809 & -0.13460542 &  0.15156257\\\\\n",
       "\tEducation & 0 & 0 & 0.0000 & 0.00000 & 0.00000000 & 0.00000000 & 0.00000000 & 0.00000000 &  0.0000000 &  0.00000000 & ⋯ & 0.00000000 &  0.00000000 &  0.000000000 &  0.000000000 & 0.0000000 &  0.000000000 &  0.000000000 &  1.000000000 &  0.38077195 & -0.11182832\\\\\n",
       "\tIncome & 0 & 0 & 0.0000 & 0.00000 & 0.00000000 & 0.00000000 & 0.00000000 & 0.00000000 &  0.0000000 &  0.00000000 & ⋯ & 0.00000000 &  0.00000000 &  0.000000000 &  0.000000000 & 0.0000000 &  0.000000000 &  0.000000000 &  0.000000000 &  1.00000000 & -0.14499818\\\\\n",
       "\tDiabetes\\_binary & 0 & 0 & 0.0000 & 0.00000 & 0.00000000 & 0.00000000 & 0.00000000 & 0.00000000 &  0.0000000 &  0.00000000 & ⋯ & 0.00000000 &  0.00000000 &  0.000000000 &  0.000000000 & 0.0000000 &  0.000000000 &  0.000000000 &  0.000000000 &  0.00000000 &  1.00000000\\\\\n",
       "\\end{tabular}\n"
      ],
      "text/markdown": [
       "\n",
       "A matrix: 23 × 23 of type dbl\n",
       "\n",
       "| <!--/--> | Index | HighBP | HighChol | CholCheck | BMI | Smoker | Stroke | HeartDiseaseorAttack | PhysActivity | Fruits | ⋯ | NoDocbcCost | GenHlth | MentHlth | PhysHlth | DiffWalk | Sex | Age | Education | Income | Diabetes_binary |\n",
       "|---|---|---|---|---|---|---|---|---|---|---|---|---|---|---|---|---|---|---|---|---|---|\n",
       "| Index | 1 | 0 | 0.0000 | 0.00000 | 0.00000000 | 0.00000000 | 0.00000000 | 0.00000000 |  0.0000000 |  0.00000000 | ⋯ | 0.00000000 |  0.01120463 |  0.000000000 |  0.000000000 | 0.0000000 |  0.000000000 | -0.011114543 | -0.022069633 | -0.02338277 |  0.00000000 |\n",
       "| HighBP | 0 | 1 | 0.2982 | 0.09851 | 0.21374812 | 0.09699000 | 0.12960000 | 0.20940000 |  0.1253000 |  0.04055000 | ⋯ | 0.01736000 |  0.27684409 |  0.056455917 |  0.161211571 | 0.2236000 |  0.052210000 |  0.293883910 | -0.132261074 | -0.15907727 |  0.26310000 |\n",
       "| HighChol | 0 | 0 | 1.0000 | 0.08564 | 0.10672208 | 0.09130000 | 0.09262000 | 0.18080000 |  0.0780500 |  0.04086000 | ⋯ | 0.01331000 |  0.19044111 |  0.062069154 |  0.121750528 | 0.1447000 |  0.031210000 |  0.227197645 | -0.064141477 | -0.07805095 |  0.20030000 |\n",
       "| CholCheck | 0 | 0 | 0.0000 | 1.00000 | 0.03449509 | 0.00992900 | 0.02416000 | 0.04421000 |  0.0041900 |  0.02385000 | ⋯ | 0.05826000 |  0.04230765 | -0.008365598 |  0.031774808 | 0.0405900 |  0.022120000 |  0.079782773 |  0.003605023 |  0.01355233 |  0.06476000 |\n",
       "| BMI | 0 | 0 | 0.0000 | 0.00000 | 1.00000000 | 0.01380447 | 0.02015266 | 0.05290426 | -0.1472936 | -0.08751812 | ⋯ | 0.05820629 |  0.20044778 |  0.085310159 |  0.121141107 | 0.1970778 |  0.042950303 | -0.018682591 | -0.096272782 | -0.06913474 |  0.21684306 |\n",
       "| Smoker | 0 | 0 | 0.0000 | 0.00000 | 0.00000000 | 1.00000000 | 0.06117000 | 0.11440000 |  0.0874000 |  0.07767000 | ⋯ | 0.04895000 |  0.14513867 |  0.092196474 |  0.116459714 | 0.1225000 |  0.093660000 |  0.101764840 | -0.161695760 | -0.11779172 |  0.06079000 |\n",
       "| Stroke | 0 | 0 | 0.0000 | 0.00000 | 0.00000000 | 0.00000000 | 1.00000000 | 0.20300000 |  0.0691500 |  0.01339000 | ⋯ | 0.03480000 |  0.14940699 |  0.070171812 |  0.148944169 | 0.1766000 |  0.002978000 |  0.110086876 | -0.067979132 | -0.10985834 |  0.10580000 |\n",
       "| HeartDiseaseorAttack | 0 | 0 | 0.0000 | 0.00000 | 0.00000000 | 0.00000000 | 0.00000000 | 1.00000000 |  0.0873000 |  0.01979000 | ⋯ | 0.03100000 |  0.22111285 |  0.064621292 |  0.181697536 | 0.2127000 |  0.086100000 |  0.194173045 | -0.089351076 | -0.12562478 |  0.17730000 |\n",
       "| PhysActivity | 0 | 0 | 0.0000 | 0.00000 | 0.00000000 | 0.00000000 | 0.00000000 | 0.00000000 |  1.0000000 |  0.14280000 | ⋯ | 0.06164000 | -0.23388958 | -0.125587088 | -0.219229522 | 0.2532000 |  0.032480000 | -0.075105057 |  0.186553009 |  0.17937530 |  0.11810000 |\n",
       "| Fruits | 0 | 0 | 0.0000 | 0.00000 | 0.00000000 | 0.00000000 | 0.00000000 | 0.00000000 |  0.0000000 |  1.00000000 | ⋯ | 0.04424000 | -0.09627343 | -0.068217375 | -0.044633325 | 0.0483500 |  0.091170000 |  0.057094063 |  0.107068517 |  0.06784869 |  0.04078000 |\n",
       "| Veggies | 0 | 0 | 0.0000 | 0.00000 | 0.00000000 | 0.00000000 | 0.00000000 | 0.00000000 |  0.0000000 |  0.00000000 | ⋯ | 0.03223000 | -0.11185121 | -0.058883553 | -0.064290327 | 0.0805100 |  0.064770000 | -0.009572817 |  0.144059557 |  0.13262035 |  0.05658000 |\n",
       "| HvyAlcoholConsump | 0 | 0 | 0.0000 | 0.00000 | 0.00000000 | 0.00000000 | 0.00000000 | 0.00000000 |  0.0000000 |  0.00000000 | ⋯ | 0.00468400 | -0.03215364 |  0.024715803 | -0.026415474 | 0.0376700 |  0.005740000 | -0.029965414 |  0.019798809 |  0.04913834 |  0.05706000 |\n",
       "| AnyHealthcare | 0 | 0 | 0.0000 | 0.00000 | 0.00000000 | 0.00000000 | 0.00000000 | 0.00000000 |  0.0000000 |  0.00000000 | ⋯ | 0.23250000 | -0.03799168 | -0.052706597 | -0.008276167 | 0.0070740 |  0.019410000 |  0.119625441 |  0.106998261 |  0.13766158 |  0.01626000 |\n",
       "| NoDocbcCost | 0 | 0 | 0.0000 | 0.00000 | 0.00000000 | 0.00000000 | 0.00000000 | 0.00000000 |  0.0000000 |  0.00000000 | ⋯ | 1.00000000 |  0.14381687 |  0.192106853 |  0.148997564 | 0.1184000 |  0.044930000 | -0.107532972 | -0.091225522 | -0.17468003 |  0.03143000 |\n",
       "| GenHlth | 0 | 0 | 0.0000 | 0.00000 | 0.00000000 | 0.00000000 | 0.00000000 | 0.00000000 |  0.0000000 |  0.00000000 | ⋯ | 0.00000000 |  1.00000000 |  0.204673302 |  0.390358148 | 0.3859114 | -0.003228014 |  0.114303133 | -0.236224080 | -0.29196523 |  0.26260195 |\n",
       "| MentHlth | 0 | 0 | 0.0000 | 0.00000 | 0.00000000 | 0.00000000 | 0.00000000 | 0.00000000 |  0.0000000 |  0.00000000 | ⋯ | 0.00000000 |  0.00000000 |  1.000000000 |  0.353618868 | 0.2336881 | -0.080704863 | -0.129731426 | -0.047084111 | -0.12043742 |  0.06931508 |\n",
       "| PhysHlth | 0 | 0 | 0.0000 | 0.00000 | 0.00000000 | 0.00000000 | 0.00000000 | 0.00000000 |  0.0000000 |  0.00000000 | ⋯ | 0.00000000 |  0.00000000 |  0.000000000 |  1.000000000 | 0.4784166 | -0.043136502 |  0.040949992 | -0.098650266 | -0.17883737 |  0.17133670 |\n",
       "| DiffWalk | 0 | 0 | 0.0000 | 0.00000 | 0.00000000 | 0.00000000 | 0.00000000 | 0.00000000 |  0.0000000 |  0.00000000 | ⋯ | 0.00000000 |  0.00000000 |  0.000000000 |  0.000000000 | 1.0000000 |  0.070300000 |  0.171554443 | -0.174726539 | -0.26966510 |  0.21830000 |\n",
       "| Sex | 0 | 0 | 0.0000 | 0.00000 | 0.00000000 | 0.00000000 | 0.00000000 | 0.00000000 |  0.0000000 |  0.00000000 | ⋯ | 0.00000000 |  0.00000000 |  0.000000000 |  0.000000000 | 0.0000000 |  1.000000000 | -0.020657202 |  0.022554582 |  0.11277129 |  0.03143000 |\n",
       "| Age | 0 | 0 | 0.0000 | 0.00000 | 0.00000000 | 0.00000000 | 0.00000000 | 0.00000000 |  0.0000000 |  0.00000000 | ⋯ | 0.00000000 |  0.00000000 |  0.000000000 |  0.000000000 | 0.0000000 |  0.000000000 |  1.000000000 | -0.080601809 | -0.13460542 |  0.15156257 |\n",
       "| Education | 0 | 0 | 0.0000 | 0.00000 | 0.00000000 | 0.00000000 | 0.00000000 | 0.00000000 |  0.0000000 |  0.00000000 | ⋯ | 0.00000000 |  0.00000000 |  0.000000000 |  0.000000000 | 0.0000000 |  0.000000000 |  0.000000000 |  1.000000000 |  0.38077195 | -0.11182832 |\n",
       "| Income | 0 | 0 | 0.0000 | 0.00000 | 0.00000000 | 0.00000000 | 0.00000000 | 0.00000000 |  0.0000000 |  0.00000000 | ⋯ | 0.00000000 |  0.00000000 |  0.000000000 |  0.000000000 | 0.0000000 |  0.000000000 |  0.000000000 |  0.000000000 |  1.00000000 | -0.14499818 |\n",
       "| Diabetes_binary | 0 | 0 | 0.0000 | 0.00000 | 0.00000000 | 0.00000000 | 0.00000000 | 0.00000000 |  0.0000000 |  0.00000000 | ⋯ | 0.00000000 |  0.00000000 |  0.000000000 |  0.000000000 | 0.0000000 |  0.000000000 |  0.000000000 |  0.000000000 |  0.00000000 |  1.00000000 |\n",
       "\n"
      ],
      "text/plain": [
       "                     Index HighBP HighChol CholCheck BMI        Smoker    \n",
       "Index                1     0      0.0000   0.00000   0.00000000 0.00000000\n",
       "HighBP               0     1      0.2982   0.09851   0.21374812 0.09699000\n",
       "HighChol             0     0      1.0000   0.08564   0.10672208 0.09130000\n",
       "CholCheck            0     0      0.0000   1.00000   0.03449509 0.00992900\n",
       "BMI                  0     0      0.0000   0.00000   1.00000000 0.01380447\n",
       "Smoker               0     0      0.0000   0.00000   0.00000000 1.00000000\n",
       "Stroke               0     0      0.0000   0.00000   0.00000000 0.00000000\n",
       "HeartDiseaseorAttack 0     0      0.0000   0.00000   0.00000000 0.00000000\n",
       "PhysActivity         0     0      0.0000   0.00000   0.00000000 0.00000000\n",
       "Fruits               0     0      0.0000   0.00000   0.00000000 0.00000000\n",
       "Veggies              0     0      0.0000   0.00000   0.00000000 0.00000000\n",
       "HvyAlcoholConsump    0     0      0.0000   0.00000   0.00000000 0.00000000\n",
       "AnyHealthcare        0     0      0.0000   0.00000   0.00000000 0.00000000\n",
       "NoDocbcCost          0     0      0.0000   0.00000   0.00000000 0.00000000\n",
       "GenHlth              0     0      0.0000   0.00000   0.00000000 0.00000000\n",
       "MentHlth             0     0      0.0000   0.00000   0.00000000 0.00000000\n",
       "PhysHlth             0     0      0.0000   0.00000   0.00000000 0.00000000\n",
       "DiffWalk             0     0      0.0000   0.00000   0.00000000 0.00000000\n",
       "Sex                  0     0      0.0000   0.00000   0.00000000 0.00000000\n",
       "Age                  0     0      0.0000   0.00000   0.00000000 0.00000000\n",
       "Education            0     0      0.0000   0.00000   0.00000000 0.00000000\n",
       "Income               0     0      0.0000   0.00000   0.00000000 0.00000000\n",
       "Diabetes_binary      0     0      0.0000   0.00000   0.00000000 0.00000000\n",
       "                     Stroke     HeartDiseaseorAttack PhysActivity Fruits     \n",
       "Index                0.00000000 0.00000000            0.0000000    0.00000000\n",
       "HighBP               0.12960000 0.20940000            0.1253000    0.04055000\n",
       "HighChol             0.09262000 0.18080000            0.0780500    0.04086000\n",
       "CholCheck            0.02416000 0.04421000            0.0041900    0.02385000\n",
       "BMI                  0.02015266 0.05290426           -0.1472936   -0.08751812\n",
       "Smoker               0.06117000 0.11440000            0.0874000    0.07767000\n",
       "Stroke               1.00000000 0.20300000            0.0691500    0.01339000\n",
       "HeartDiseaseorAttack 0.00000000 1.00000000            0.0873000    0.01979000\n",
       "PhysActivity         0.00000000 0.00000000            1.0000000    0.14280000\n",
       "Fruits               0.00000000 0.00000000            0.0000000    1.00000000\n",
       "Veggies              0.00000000 0.00000000            0.0000000    0.00000000\n",
       "HvyAlcoholConsump    0.00000000 0.00000000            0.0000000    0.00000000\n",
       "AnyHealthcare        0.00000000 0.00000000            0.0000000    0.00000000\n",
       "NoDocbcCost          0.00000000 0.00000000            0.0000000    0.00000000\n",
       "GenHlth              0.00000000 0.00000000            0.0000000    0.00000000\n",
       "MentHlth             0.00000000 0.00000000            0.0000000    0.00000000\n",
       "PhysHlth             0.00000000 0.00000000            0.0000000    0.00000000\n",
       "DiffWalk             0.00000000 0.00000000            0.0000000    0.00000000\n",
       "Sex                  0.00000000 0.00000000            0.0000000    0.00000000\n",
       "Age                  0.00000000 0.00000000            0.0000000    0.00000000\n",
       "Education            0.00000000 0.00000000            0.0000000    0.00000000\n",
       "Income               0.00000000 0.00000000            0.0000000    0.00000000\n",
       "Diabetes_binary      0.00000000 0.00000000            0.0000000    0.00000000\n",
       "                     <U+22EF>        NoDocbcCost GenHlth     MentHlth     PhysHlth    \n",
       "Index                <U+22EF> 0.00000000   0.01120463  0.000000000  0.000000000\n",
       "HighBP               <U+22EF> 0.01736000   0.27684409  0.056455917  0.161211571\n",
       "HighChol             <U+22EF> 0.01331000   0.19044111  0.062069154  0.121750528\n",
       "CholCheck            <U+22EF> 0.05826000   0.04230765 -0.008365598  0.031774808\n",
       "BMI                  <U+22EF> 0.05820629   0.20044778  0.085310159  0.121141107\n",
       "Smoker               <U+22EF> 0.04895000   0.14513867  0.092196474  0.116459714\n",
       "Stroke               <U+22EF> 0.03480000   0.14940699  0.070171812  0.148944169\n",
       "HeartDiseaseorAttack <U+22EF> 0.03100000   0.22111285  0.064621292  0.181697536\n",
       "PhysActivity         <U+22EF> 0.06164000  -0.23388958 -0.125587088 -0.219229522\n",
       "Fruits               <U+22EF> 0.04424000  -0.09627343 -0.068217375 -0.044633325\n",
       "Veggies              <U+22EF> 0.03223000  -0.11185121 -0.058883553 -0.064290327\n",
       "HvyAlcoholConsump    <U+22EF> 0.00468400  -0.03215364  0.024715803 -0.026415474\n",
       "AnyHealthcare        <U+22EF> 0.23250000  -0.03799168 -0.052706597 -0.008276167\n",
       "NoDocbcCost          <U+22EF> 1.00000000   0.14381687  0.192106853  0.148997564\n",
       "GenHlth              <U+22EF> 0.00000000   1.00000000  0.204673302  0.390358148\n",
       "MentHlth             <U+22EF> 0.00000000   0.00000000  1.000000000  0.353618868\n",
       "PhysHlth             <U+22EF> 0.00000000   0.00000000  0.000000000  1.000000000\n",
       "DiffWalk             <U+22EF> 0.00000000   0.00000000  0.000000000  0.000000000\n",
       "Sex                  <U+22EF> 0.00000000   0.00000000  0.000000000  0.000000000\n",
       "Age                  <U+22EF> 0.00000000   0.00000000  0.000000000  0.000000000\n",
       "Education            <U+22EF> 0.00000000   0.00000000  0.000000000  0.000000000\n",
       "Income               <U+22EF> 0.00000000   0.00000000  0.000000000  0.000000000\n",
       "Diabetes_binary      <U+22EF> 0.00000000   0.00000000  0.000000000  0.000000000\n",
       "                     DiffWalk  Sex          Age          Education   \n",
       "Index                0.0000000  0.000000000 -0.011114543 -0.022069633\n",
       "HighBP               0.2236000  0.052210000  0.293883910 -0.132261074\n",
       "HighChol             0.1447000  0.031210000  0.227197645 -0.064141477\n",
       "CholCheck            0.0405900  0.022120000  0.079782773  0.003605023\n",
       "BMI                  0.1970778  0.042950303 -0.018682591 -0.096272782\n",
       "Smoker               0.1225000  0.093660000  0.101764840 -0.161695760\n",
       "Stroke               0.1766000  0.002978000  0.110086876 -0.067979132\n",
       "HeartDiseaseorAttack 0.2127000  0.086100000  0.194173045 -0.089351076\n",
       "PhysActivity         0.2532000  0.032480000 -0.075105057  0.186553009\n",
       "Fruits               0.0483500  0.091170000  0.057094063  0.107068517\n",
       "Veggies              0.0805100  0.064770000 -0.009572817  0.144059557\n",
       "HvyAlcoholConsump    0.0376700  0.005740000 -0.029965414  0.019798809\n",
       "AnyHealthcare        0.0070740  0.019410000  0.119625441  0.106998261\n",
       "NoDocbcCost          0.1184000  0.044930000 -0.107532972 -0.091225522\n",
       "GenHlth              0.3859114 -0.003228014  0.114303133 -0.236224080\n",
       "MentHlth             0.2336881 -0.080704863 -0.129731426 -0.047084111\n",
       "PhysHlth             0.4784166 -0.043136502  0.040949992 -0.098650266\n",
       "DiffWalk             1.0000000  0.070300000  0.171554443 -0.174726539\n",
       "Sex                  0.0000000  1.000000000 -0.020657202  0.022554582\n",
       "Age                  0.0000000  0.000000000  1.000000000 -0.080601809\n",
       "Education            0.0000000  0.000000000  0.000000000  1.000000000\n",
       "Income               0.0000000  0.000000000  0.000000000  0.000000000\n",
       "Diabetes_binary      0.0000000  0.000000000  0.000000000  0.000000000\n",
       "                     Income      Diabetes_binary\n",
       "Index                -0.02338277  0.00000000    \n",
       "HighBP               -0.15907727  0.26310000    \n",
       "HighChol             -0.07805095  0.20030000    \n",
       "CholCheck             0.01355233  0.06476000    \n",
       "BMI                  -0.06913474  0.21684306    \n",
       "Smoker               -0.11779172  0.06079000    \n",
       "Stroke               -0.10985834  0.10580000    \n",
       "HeartDiseaseorAttack -0.12562478  0.17730000    \n",
       "PhysActivity          0.17937530  0.11810000    \n",
       "Fruits                0.06784869  0.04078000    \n",
       "Veggies               0.13262035  0.05658000    \n",
       "HvyAlcoholConsump     0.04913834  0.05706000    \n",
       "AnyHealthcare         0.13766158  0.01626000    \n",
       "NoDocbcCost          -0.17468003  0.03143000    \n",
       "GenHlth              -0.29196523  0.26260195    \n",
       "MentHlth             -0.12043742  0.06931508    \n",
       "PhysHlth             -0.17883737  0.17133670    \n",
       "DiffWalk             -0.26966510  0.21830000    \n",
       "Sex                   0.11277129  0.03143000    \n",
       "Age                  -0.13460542  0.15156257    \n",
       "Education             0.38077195 -0.11182832    \n",
       "Income                1.00000000 -0.14499818    \n",
       "Diabetes_binary       0.00000000  1.00000000    "
      ]
     },
     "metadata": {},
     "output_type": "display_data"
    }
   ],
   "source": [
    "correlation_matrix"
   ]
  },
  {
   "cell_type": "code",
   "execution_count": 107,
   "id": "6b9933ee-a592-4452-85e6-ec4ad8fa17b8",
   "metadata": {},
   "outputs": [
    {
     "data": {
      "image/png": "[encoded data removed]",
      "text/plain": [
       "Plot with title \"\""
      ]
     },
     "metadata": {
      "image/png": {
       "height": 420,
       "width": 420
      }
     },
     "output_type": "display_data"
    }
   ],
   "source": [
    "corrplot(correlation_matrix, method=\"circle\", type=\"upper\")"
   ]
  },
  {
   "cell_type": "code",
   "execution_count": 42,
   "id": "a35dd5f1-b8fa-4b3d-9970-373b9ea4d6ed",
   "metadata": {},
   "outputs": [
    {
     "name": "stdout",
     "output_type": "stream",
     "text": [
      "[1] \"Index\" \"0\"    \n",
      "[1] \"HighBP\" \"0.2631\"\n",
      "[1] \"HighChol\" \"0.2003\"  \n",
      "[1] \"CholCheck\" \"0.06476\"  \n",
      "[1] \"BMI\"               \"0.216843060203119\"\n",
      "[1] \"Smoker\"  \"0.06079\"\n",
      "[1] \"Stroke\" \"0.1058\"\n",
      "[1] \"HeartDiseaseorAttack\" \"0.1773\"              \n",
      "[1] \"PhysActivity\" \"0.1181\"      \n",
      "[1] \"Fruits\"  \"0.04078\"\n",
      "[1] \"Veggies\" \"0.05658\"\n",
      "[1] \"HvyAlcoholConsump\" \"0.05706\"          \n",
      "[1] \"AnyHealthcare\" \"0.01626\"      \n",
      "[1] \"NoDocbcCost\" \"0.03143\"    \n",
      "[1] \"GenHlth\"           \"0.262601954027565\"\n",
      "[1] \"MentHlth\"           \"0.0693150826383553\"\n",
      "[1] \"PhysHlth\"          \"0.171336700387252\"\n",
      "[1] \"DiffWalk\" \"0.2183\"  \n",
      "[1] \"Sex\"     \"0.03143\"\n",
      "[1] \"Age\"               \"0.151562571648901\"\n",
      "[1] \"Education\"         \"-0.11182832020598\"\n",
      "[1] \"Income\"             \"-0.144998176285264\"\n",
      "[1] \"Diabetes_binary\" \"1\"              \n"
     ]
    }
   ],
   "source": [
    "for (i in 1:nrow(correlation_matrix))\n",
    "{\n",
    "    print(c(rownames(correlation_matrix)[i], correlation_matrix[i, nrow(correlation_matrix)]))\n",
    "}"
   ]
  },
  {
   "cell_type": "markdown",
   "id": "71887d24-4f1e-4bfd-a312-df38c06e4caf",
   "metadata": {},
   "source": [
    "## 4. Model building"
   ]
  },
  {
   "cell_type": "markdown",
   "id": "b0dc4dca-08c4-4448-b187-57e1a2ed13a7",
   "metadata": {},
   "source": [
    "### 4.1. Split data"
   ]
  },
  {
   "cell_type": "code",
   "execution_count": 43,
   "id": "599dc345-0b33-48d3-8430-73b80f4fe18c",
   "metadata": {},
   "outputs": [],
   "source": [
    "set.seed(123)\n",
    "index = createDataPartition(df$Diabetes_binary, p = 0.8, list = FALSE)\n",
    "training_data = df[index, ]\n",
    "testing_data = df[-index, ]"
   ]
  },
  {
   "cell_type": "code",
   "execution_count": 44,
   "id": "b89aa56e-adce-4fe5-a6ac-41a25c42cb77",
   "metadata": {},
   "outputs": [
    {
     "data": {
      "text/html": [
       "202944"
      ],
      "text/latex": [
       "202944"
      ],
      "text/markdown": [
       "202944"
      ],
      "text/plain": [
       "[1] 202944"
      ]
     },
     "metadata": {},
     "output_type": "display_data"
    }
   ],
   "source": [
    "nrow(training_data)"
   ]
  },
  {
   "cell_type": "code",
   "execution_count": 45,
   "id": "c06be67c-3f6d-4b86-aa8d-222461e4f448",
   "metadata": {},
   "outputs": [
    {
     "data": {
      "text/html": [
       "0.139343858404289"
      ],
      "text/latex": [
       "0.139343858404289"
      ],
      "text/markdown": [
       "0.139343858404289"
      ],
      "text/plain": [
       "[1] 0.1393439"
      ]
     },
     "metadata": {},
     "output_type": "display_data"
    }
   ],
   "source": [
    "nrow(training_data[training_data$Diabetes_binary == 1, ]) / nrow(training_data)"
   ]
  },
  {
   "cell_type": "code",
   "execution_count": 46,
   "id": "2f9cd312-cb69-4cf9-9021-c2de3f06b58c",
   "metadata": {},
   "outputs": [
    {
     "data": {
      "text/html": [
       "50736"
      ],
      "text/latex": [
       "50736"
      ],
      "text/markdown": [
       "50736"
      ],
      "text/plain": [
       "[1] 50736"
      ]
     },
     "metadata": {},
     "output_type": "display_data"
    }
   ],
   "source": [
    "nrow(testing_data)"
   ]
  },
  {
   "cell_type": "code",
   "execution_count": 47,
   "id": "f09ae957-3f74-49cf-bec6-9d6b02024897",
   "metadata": {},
   "outputs": [
    {
     "data": {
      "text/html": [
       "0.139289656259855"
      ],
      "text/latex": [
       "0.139289656259855"
      ],
      "text/markdown": [
       "0.139289656259855"
      ],
      "text/plain": [
       "[1] 0.1392897"
      ]
     },
     "metadata": {},
     "output_type": "display_data"
    }
   ],
   "source": [
    "nrow(testing_data[testing_data$Diabetes_binary == 1, ]) / nrow(testing_data)"
   ]
  },
  {
   "cell_type": "markdown",
   "id": "aff67aae-5027-4998-9c29-a44c17d8aedb",
   "metadata": {},
   "source": [
    "### 4.2. Features selection for model building"
   ]
  },
  {
   "cell_type": "markdown",
   "id": "e601c94b-ccdb-47b1-a1c2-fc2334b8e6a6",
   "metadata": {},
   "source": [
    "#### 4.2.1. Univariate linear regression model analysis (OLS)"
   ]
  },
  {
   "cell_type": "code",
   "execution_count": 48,
   "id": "9de40e34-ed28-45ca-be66-5bfeb2aee8f4",
   "metadata": {},
   "outputs": [],
   "source": [
    "# Calculate p_value of EACH variable in lm()\n",
    "# Input: dataframe, response variable name\n",
    "\n",
    "summary_univariate_lm = function(df, response_variable_name, just_p_value=FALSE) {\n",
    "\t# Get the names of explanatory variables (excluding response variable)\n",
    "\texplanatory_vars <- names(df)[names(df) != response_variable_name]\n",
    "\t\n",
    "\t# Create an empty list to store model objects\n",
    "\tmodels <- list()\n",
    "\t\n",
    "\t# Loop through each explanatory variable and fit a linear model\n",
    "\tfor (var in explanatory_vars) {\n",
    "\t  # Formula for the linear model\n",
    "\t  formula <- formula(paste(response_variable_name, \"~\", var))\n",
    "\t  \n",
    "\t  # Fit the linear model\n",
    "\t  model <- lm(formula, data = df)\n",
    "\t  \n",
    "\t  # Store the model object in the list\n",
    "\t  models[[var]] <- model\n",
    "\t}\n",
    "\t\n",
    "\t# Access the models and their summaries\n",
    "\tfor (var in explanatory_vars) {\n",
    "\t  cat(\"Variable:\", var, \"\\n\")\n",
    "\t  if (just_p_value)\n",
    "\t\t  print(summary(models[[var]])$coe[2,4])\n",
    "\t\telse\n",
    "\t\t\tprint(summary(models[[var]]))\n",
    "\t}\n",
    "}"
   ]
  },
  {
   "cell_type": "code",
   "execution_count": 49,
   "id": "cecb527c-8809-4bce-958c-badfebe478ac",
   "metadata": {},
   "outputs": [
    {
     "name": "stdout",
     "output_type": "stream",
     "text": [
      "Variable: Index \n",
      "[1] 0.2053684\n",
      "Variable: HighBP \n",
      "[1] 0\n",
      "Variable: HighChol \n",
      "[1] 0\n",
      "Variable: CholCheck \n",
      "[1] 1.9607e-193\n",
      "Variable: BMI \n",
      "[1] 0\n",
      "Variable: Smoker \n",
      "[1] 4.445516e-163\n",
      "Variable: Stroke \n",
      "[1] 0\n",
      "Variable: HeartDiseaseorAttack \n",
      "[1] 0\n",
      "Variable: PhysActivity \n",
      "[1] 0\n",
      "Variable: Fruits \n",
      "[1] 6.70964e-76\n",
      "Variable: Veggies \n",
      "[1] 1.222665e-133\n",
      "Variable: HvyAlcoholConsump \n",
      "[1] 1.12114e-143\n",
      "Variable: AnyHealthcare \n",
      "[1] 2.036483e-16\n",
      "Variable: NoDocbcCost \n",
      "[1] 1.278701e-45\n",
      "Variable: GenHlth \n",
      "[1] 0\n",
      "Variable: MentHlth \n",
      "[1] 5.004899e-228\n",
      "Variable: PhysHlth \n",
      "[1] 0\n",
      "Variable: DiffWalk \n",
      "[1] 0\n",
      "Variable: Sex \n",
      "[1] 5.337466e-45\n",
      "Variable: Age \n",
      "[1] 0\n",
      "Variable: Education \n",
      "[1] 0\n",
      "Variable: Income \n",
      "[1] 0\n"
     ]
    }
   ],
   "source": [
    "summary_univariate_lm(training_data, \"Diabetes_binary\", TRUE)"
   ]
  },
  {
   "cell_type": "code",
   "execution_count": 50,
   "id": "6910b589-14c8-4650-b680-4db385c2b0b1",
   "metadata": {},
   "outputs": [],
   "source": [
    "# Index variable is order of rows, it must be excluded for training data"
   ]
  },
  {
   "cell_type": "markdown",
   "id": "8031ecda-e200-4701-998a-66c13d9d7dfb",
   "metadata": {},
   "source": [
    "#### 4.2.2. Random forest method"
   ]
  },
  {
   "cell_type": "code",
   "execution_count": 51,
   "id": "8e9ceb01-9dd6-44cd-a87f-2a65f134faf2",
   "metadata": {},
   "outputs": [],
   "source": [
    "rg.df = ranger(Diabetes_binary ~ ., data = training_data[, -1], importance = \"impurity\", num.trees = 100)\n",
    "vimp_result = rg.df$variable.importance\n",
    "sorted_vimp_result = vimp_result[order(vimp_result, decreasing = F)]"
   ]
  },
  {
   "cell_type": "code",
   "execution_count": 52,
   "id": "67e29263-ac9b-4c26-9f04-fdf30dcf5129",
   "metadata": {},
   "outputs": [
    {
     "data": {
      "image/png": "[encoded data removed]",
      "text/plain": [
       "plot without title"
      ]
     },
     "metadata": {
      "image/png": {
       "height": 420,
       "width": 420
      }
     },
     "output_type": "display_data"
    }
   ],
   "source": [
    "barplot(sorted_vimp_result, horiz = T, las = 1)"
   ]
  },
  {
   "cell_type": "code",
   "execution_count": 53,
   "id": "cd81166b-eab9-407c-8d21-80b8765dc428",
   "metadata": {},
   "outputs": [],
   "source": [
    "sorted_vimp_result = sorted_vimp_result[order(sorted_vimp_result, decreasing = T)]"
   ]
  },
  {
   "cell_type": "code",
   "execution_count": 54,
   "id": "9e810318-8ebc-4704-afd9-eeb009960d54",
   "metadata": {},
   "outputs": [],
   "source": [
    "potential_explain_variable_col = rownames(as.data.frame(sorted_vimp_result))[1:15]"
   ]
  },
  {
   "cell_type": "code",
   "execution_count": 55,
   "id": "2f6bc912-3dcd-45e2-91ae-abf8d1b89e11",
   "metadata": {},
   "outputs": [
    {
     "data": {
      "text/html": [
       "<style>\n",
       ".list-inline {list-style: none; margin:0; padding: 0}\n",
       ".list-inline>li {display: inline-block}\n",
       ".list-inline>li:not(:last-child)::after {content: \"\\00b7\"; padding: 0 .5ex}\n",
       "</style>\n",
       "<ol class=list-inline><li>'BMI'</li><li>'Age'</li><li>'GenHlth'</li><li>'Income'</li><li>'PhysHlth'</li><li>'MentHlth'</li><li>'HighBP'</li><li>'Education'</li><li>'HighChol'</li><li>'DiffWalk'</li><li>'Smoker'</li><li>'Fruits'</li><li>'HeartDiseaseorAttack'</li><li>'Sex'</li><li>'Veggies'</li></ol>\n"
      ],
      "text/latex": [
       "\\begin{enumerate*}\n",
       "\\item 'BMI'\n",
       "\\item 'Age'\n",
       "\\item 'GenHlth'\n",
       "\\item 'Income'\n",
       "\\item 'PhysHlth'\n",
       "\\item 'MentHlth'\n",
       "\\item 'HighBP'\n",
       "\\item 'Education'\n",
       "\\item 'HighChol'\n",
       "\\item 'DiffWalk'\n",
       "\\item 'Smoker'\n",
       "\\item 'Fruits'\n",
       "\\item 'HeartDiseaseorAttack'\n",
       "\\item 'Sex'\n",
       "\\item 'Veggies'\n",
       "\\end{enumerate*}\n"
      ],
      "text/markdown": [
       "1. 'BMI'\n",
       "2. 'Age'\n",
       "3. 'GenHlth'\n",
       "4. 'Income'\n",
       "5. 'PhysHlth'\n",
       "6. 'MentHlth'\n",
       "7. 'HighBP'\n",
       "8. 'Education'\n",
       "9. 'HighChol'\n",
       "10. 'DiffWalk'\n",
       "11. 'Smoker'\n",
       "12. 'Fruits'\n",
       "13. 'HeartDiseaseorAttack'\n",
       "14. 'Sex'\n",
       "15. 'Veggies'\n",
       "\n",
       "\n"
      ],
      "text/plain": [
       " [1] \"BMI\"                  \"Age\"                  \"GenHlth\"             \n",
       " [4] \"Income\"               \"PhysHlth\"             \"MentHlth\"            \n",
       " [7] \"HighBP\"               \"Education\"            \"HighChol\"            \n",
       "[10] \"DiffWalk\"             \"Smoker\"               \"Fruits\"              \n",
       "[13] \"HeartDiseaseorAttack\" \"Sex\"                  \"Veggies\"             "
      ]
     },
     "metadata": {},
     "output_type": "display_data"
    }
   ],
   "source": [
    "potential_explain_variable_col"
   ]
  },
  {
   "cell_type": "code",
   "execution_count": 56,
   "id": "621ac57c-fe21-4e64-8c26-a199719504e1",
   "metadata": {},
   "outputs": [],
   "source": [
    "input_training_data = training_data[,c(potential_explain_variable_col, response_col)]"
   ]
  },
  {
   "cell_type": "markdown",
   "id": "4b05f32a-e321-4995-ad65-794ffaacd24b",
   "metadata": {},
   "source": [
    "#### 4.2.3. Factorized data frame"
   ]
  },
  {
   "cell_type": "code",
   "execution_count": 316,
   "id": "d9b995cf-1a4f-4bd0-b6df-1a60018ba1e8",
   "metadata": {},
   "outputs": [],
   "source": [
    "# Extract dataframe with above columns\n",
    "# Split to training and testing data"
   ]
  },
  {
   "cell_type": "code",
   "execution_count": 111,
   "id": "deea1d65-6261-4e7e-86f8-23183ea69b75",
   "metadata": {},
   "outputs": [],
   "source": [
    "# for (bin_col in binary_col)\n",
    "# {\n",
    "#     training_data[,ord_col] = factor(training_data[,ord_col])\n",
    "# }"
   ]
  },
  {
   "cell_type": "code",
   "execution_count": 110,
   "id": "07d25890-e837-4b80-a181-1bb3c40346de",
   "metadata": {},
   "outputs": [],
   "source": [
    "# for (ord_col in ordinal_col)\n",
    "# {\n",
    "#     training_data[,ord_col] = factor(training_data[,ord_col])\n",
    "# }"
   ]
  },
  {
   "cell_type": "code",
   "execution_count": 58,
   "id": "7ac65ecb-f77d-42bb-b1c1-40a31b784315",
   "metadata": {},
   "outputs": [
    {
     "name": "stdout",
     "output_type": "stream",
     "text": [
      "'data.frame':\t202944 obs. of  16 variables:\n",
      " $ BMI                 : int  40 28 27 30 25 30 24 25 34 26 ...\n",
      " $ Age                 : int  9 9 11 9 11 9 8 13 10 7 ...\n",
      " $ GenHlth             : int  5 5 2 3 3 5 2 3 3 3 ...\n",
      " $ Income              : int  3 8 6 7 4 1 3 8 1 7 ...\n",
      " $ PhysHlth            : int  15 30 0 14 0 30 0 0 30 15 ...\n",
      " $ MentHlth            : int  18 30 0 0 0 30 0 0 0 0 ...\n",
      " $ HighBP              : int  1 1 1 1 1 1 0 0 1 0 ...\n",
      " $ Education           : int  4 4 3 6 4 5 4 6 5 5 ...\n",
      " $ HighChol            : int  1 1 0 0 1 1 0 0 1 0 ...\n",
      " $ DiffWalk            : int  1 1 0 0 1 1 0 0 1 0 ...\n",
      " $ Smoker              : int  1 0 0 1 1 1 0 1 1 1 ...\n",
      " $ Fruits              : int  0 1 1 0 0 1 0 1 1 0 ...\n",
      " $ HeartDiseaseorAttack: int  0 0 0 0 0 1 0 0 0 0 ...\n",
      " $ Sex                 : int  0 0 0 0 0 0 1 1 0 0 ...\n",
      " $ Veggies             : int  1 0 1 0 1 1 1 1 1 1 ...\n",
      " $ Diabetes_binary     : int  0 0 0 0 0 1 0 1 0 0 ...\n"
     ]
    }
   ],
   "source": [
    "str(input_training_data)"
   ]
  },
  {
   "cell_type": "markdown",
   "id": "f5cca8f5-e35f-4c4a-854a-19511179a022",
   "metadata": {},
   "source": [
    "#### 4.2.4. AIC and BIC methods"
   ]
  },
  {
   "cell_type": "code",
   "execution_count": null,
   "id": "b3a3b146-6ddf-47ea-97d4-4230ae1c84d4",
   "metadata": {},
   "outputs": [
    {
     "name": "stderr",
     "output_type": "stream",
     "text": [
      "Morgan-Tatar search since family is non-gaussian.\n",
      "\n"
     ]
    }
   ],
   "source": [
    "result_bestglm = bestglm(head(input_training_data, 2000), family = binomial)"
   ]
  },
  {
   "cell_type": "code",
   "execution_count": null,
   "id": "b952f9fe-a7cf-420f-a6be-9a4c7fa87aa2",
   "metadata": {},
   "outputs": [],
   "source": [
    "result_bestglm$BestModels"
   ]
  },
  {
   "cell_type": "markdown",
   "id": "f9fe4666-429b-4865-9228-1f928fabf378",
   "metadata": {},
   "source": [
    "## 5. Reserved"
   ]
  },
  {
   "cell_type": "markdown",
   "id": "703b5601-549b-4e94-9da9-b614061db342",
   "metadata": {},
   "source": [
    "#### 3.2.1. BMI"
   ]
  },
  {
   "cell_type": "code",
   "execution_count": 56,
   "id": "6b01b00f-31d2-4d67-b49c-f14cf2429cbf",
   "metadata": {},
   "outputs": [
    {
     "data": {
      "text/plain": [
       "   Min. 1st Qu.  Median    Mean 3rd Qu.    Max. \n",
       "  12.00   24.00   27.00   28.38   31.00   98.00 "
      ]
     },
     "metadata": {},
     "output_type": "display_data"
    }
   ],
   "source": [
    "summary(df$BMI)"
   ]
  },
  {
   "cell_type": "code",
   "execution_count": 57,
   "id": "79300f0e-ef0c-4b21-9d08-d12c7600c5da",
   "metadata": {},
   "outputs": [],
   "source": [
    "# We see maximum value of BMI is 98 which is abnormal."
   ]
  },
  {
   "cell_type": "code",
   "execution_count": 58,
   "id": "f5bad478-6901-42f7-ab1a-26bbf20d536a",
   "metadata": {},
   "outputs": [
    {
     "data": {
      "image/png": "[encoded data removed]",
      "text/plain": [
       "plot without title"
      ]
     },
     "metadata": {
      "image/png": {
       "height": 420,
       "width": 420
      }
     },
     "output_type": "display_data"
    }
   ],
   "source": [
    "# Boxplot data\n",
    "boxplot(df$BMI)"
   ]
  },
  {
   "cell_type": "code",
   "execution_count": 59,
   "id": "bef55b95-5eff-4989-9da6-a3fa15ac74b7",
   "metadata": {},
   "outputs": [],
   "source": [
    "# We see that dataset has several outliers in \"BMI\" column."
   ]
  },
  {
   "cell_type": "code",
   "execution_count": 60,
   "id": "9ae8423d-e885-4e72-844f-d186196d7d2d",
   "metadata": {},
   "outputs": [],
   "source": [
    "BMI_q1 = quantile(df$BMI, 0.25)\n",
    "BMI_q3 = quantile(df$BMI, 0.75)\n",
    "BMI_iqr = BMI_q3 - BMI_q1\n",
    "BMI_lower_bound = BMI_q1 - 1.5 * BMI_iqr\n",
    "BMI_upper_bound = BMI_q3 + 1.5 * BMI_iqr"
   ]
  },
  {
   "cell_type": "code",
   "execution_count": 61,
   "id": "22f02777-1565-494c-ae2d-aa94b22e43f1",
   "metadata": {},
   "outputs": [],
   "source": [
    "BMI_outlier_df = df[df$BMI < BMI_lower_bound | df$BMI > BMI_upper_bound, ]"
   ]
  },
  {
   "cell_type": "code",
   "execution_count": 62,
   "id": "cb9a8765-6f3f-42c9-90e5-3f51c6b9b85a",
   "metadata": {},
   "outputs": [
    {
     "data": {
      "text/html": [
       "3.8816619362977"
      ],
      "text/latex": [
       "3.8816619362977"
      ],
      "text/markdown": [
       "3.8816619362977"
      ],
      "text/plain": [
       "[1] 3.881662"
      ]
     },
     "metadata": {},
     "output_type": "display_data"
    }
   ],
   "source": [
    "nrow(BMI_outlier_df) / nrow(df) * 100"
   ]
  },
  {
   "cell_type": "code",
   "execution_count": 63,
   "id": "12272e2c-17f0-4555-a366-8cebdc0113d1",
   "metadata": {},
   "outputs": [],
   "source": [
    "# We see that the percentage of outliers is approximately about 4%.\n",
    "# Extreme values of BMI that higher 40 could affect the model.\n",
    "\n",
    "# To standardize the BMI index, WHO recommendations is used.\n",
    "# Reference: https://www.who.int/europe/news-room/fact-sheets/item/a-healthy-lifestyle---who-recommendations\n",
    "\n",
    "# |   BMI     | Nutritional Status | Categorical |\n",
    "# |-----------|--------------------|-------------|\n",
    "# | < 18.5    | Underweight        |      1      |\n",
    "# | 18.5–24.9 | Normal weight      |      2      |\n",
    "# | 25.0–29.9 | Pre-obesity        |      3      |\n",
    "# | 30.0–34.9 | Obesity class I    |      4      |\n",
    "# | 35.0–39.9 | Obesity class II   |      5      |\n",
    "# | > 40      | Obesity class III  |      6      |\n",
    "\n",
    "new_column = rep(0, nrow(df))\n",
    "BMI_index = which(colnames(df) == \"BMI\")\n",
    "df_std_1 = cbind(df[,1:BMI_index], StdBMI = new_column, df[,(BMI_index + 1):ncol(df)])"
   ]
  },
  {
   "cell_type": "code",
   "execution_count": 64,
   "id": "9837d382-4a36-455d-b9bb-d6a10411e334",
   "metadata": {
    "scrolled": true
   },
   "outputs": [
    {
     "data": {
      "text/html": [
       "<table class=\"dataframe\">\n",
       "<caption>A data.frame: 253680 × 24</caption>\n",
       "<thead>\n",
       "\t<tr><th scope=col>Index</th><th scope=col>HighBP</th><th scope=col>HighChol</th><th scope=col>CholCheck</th><th scope=col>BMI</th><th scope=col>StdBMI</th><th scope=col>Smoker</th><th scope=col>Stroke</th><th scope=col>HeartDiseaseorAttack</th><th scope=col>PhysActivity</th><th scope=col>...</th><th scope=col>NoDocbcCost</th><th scope=col>GenHlth</th><th scope=col>MentHlth</th><th scope=col>PhysHlth</th><th scope=col>DiffWalk</th><th scope=col>Sex</th><th scope=col>Age</th><th scope=col>Education</th><th scope=col>Income</th><th scope=col>Diabetes_binary</th></tr>\n",
       "\t<tr><th scope=col>&lt;int&gt;</th><th scope=col>&lt;int&gt;</th><th scope=col>&lt;int&gt;</th><th scope=col>&lt;int&gt;</th><th scope=col>&lt;int&gt;</th><th scope=col>&lt;dbl&gt;</th><th scope=col>&lt;int&gt;</th><th scope=col>&lt;int&gt;</th><th scope=col>&lt;int&gt;</th><th scope=col>&lt;int&gt;</th><th scope=col>...</th><th scope=col>&lt;int&gt;</th><th scope=col>&lt;int&gt;</th><th scope=col>&lt;int&gt;</th><th scope=col>&lt;int&gt;</th><th scope=col>&lt;int&gt;</th><th scope=col>&lt;int&gt;</th><th scope=col>&lt;int&gt;</th><th scope=col>&lt;int&gt;</th><th scope=col>&lt;int&gt;</th><th scope=col>&lt;int&gt;</th></tr>\n",
       "</thead>\n",
       "<tbody>\n",
       "\t<tr><td> 0</td><td>1</td><td>1</td><td>1</td><td>40</td><td>0</td><td>1</td><td>0</td><td>0</td><td>0</td><td>...</td><td>0</td><td>5</td><td>18</td><td>15</td><td>1</td><td>0</td><td> 9</td><td>4</td><td>3</td><td>0</td></tr>\n",
       "\t<tr><td> 1</td><td>0</td><td>0</td><td>0</td><td>25</td><td>0</td><td>1</td><td>0</td><td>0</td><td>1</td><td>...</td><td>1</td><td>3</td><td> 0</td><td> 0</td><td>0</td><td>0</td><td> 7</td><td>6</td><td>1</td><td>0</td></tr>\n",
       "\t<tr><td> 2</td><td>1</td><td>1</td><td>1</td><td>28</td><td>0</td><td>0</td><td>0</td><td>0</td><td>0</td><td>...</td><td>1</td><td>5</td><td>30</td><td>30</td><td>1</td><td>0</td><td> 9</td><td>4</td><td>8</td><td>0</td></tr>\n",
       "\t<tr><td> 3</td><td>1</td><td>0</td><td>1</td><td>27</td><td>0</td><td>0</td><td>0</td><td>0</td><td>1</td><td>...</td><td>0</td><td>2</td><td> 0</td><td> 0</td><td>0</td><td>0</td><td>11</td><td>3</td><td>6</td><td>0</td></tr>\n",
       "\t<tr><td> 4</td><td>1</td><td>1</td><td>1</td><td>24</td><td>0</td><td>0</td><td>0</td><td>0</td><td>1</td><td>...</td><td>0</td><td>2</td><td> 3</td><td> 0</td><td>0</td><td>0</td><td>11</td><td>5</td><td>4</td><td>0</td></tr>\n",
       "\t<tr><td> 5</td><td>1</td><td>1</td><td>1</td><td>25</td><td>0</td><td>1</td><td>0</td><td>0</td><td>1</td><td>...</td><td>0</td><td>2</td><td> 0</td><td> 2</td><td>0</td><td>1</td><td>10</td><td>6</td><td>8</td><td>0</td></tr>\n",
       "\t<tr><td> 6</td><td>1</td><td>0</td><td>1</td><td>30</td><td>0</td><td>1</td><td>0</td><td>0</td><td>0</td><td>...</td><td>0</td><td>3</td><td> 0</td><td>14</td><td>0</td><td>0</td><td> 9</td><td>6</td><td>7</td><td>0</td></tr>\n",
       "\t<tr><td> 7</td><td>1</td><td>1</td><td>1</td><td>25</td><td>0</td><td>1</td><td>0</td><td>0</td><td>1</td><td>...</td><td>0</td><td>3</td><td> 0</td><td> 0</td><td>1</td><td>0</td><td>11</td><td>4</td><td>4</td><td>0</td></tr>\n",
       "\t<tr><td> 8</td><td>1</td><td>1</td><td>1</td><td>30</td><td>0</td><td>1</td><td>0</td><td>1</td><td>0</td><td>...</td><td>0</td><td>5</td><td>30</td><td>30</td><td>1</td><td>0</td><td> 9</td><td>5</td><td>1</td><td>1</td></tr>\n",
       "\t<tr><td> 9</td><td>0</td><td>0</td><td>1</td><td>24</td><td>0</td><td>0</td><td>0</td><td>0</td><td>0</td><td>...</td><td>0</td><td>2</td><td> 0</td><td> 0</td><td>0</td><td>1</td><td> 8</td><td>4</td><td>3</td><td>0</td></tr>\n",
       "\t<tr><td>10</td><td>0</td><td>0</td><td>1</td><td>25</td><td>0</td><td>1</td><td>0</td><td>0</td><td>1</td><td>...</td><td>0</td><td>3</td><td> 0</td><td> 0</td><td>0</td><td>1</td><td>13</td><td>6</td><td>8</td><td>1</td></tr>\n",
       "\t<tr><td>11</td><td>1</td><td>1</td><td>1</td><td>34</td><td>0</td><td>1</td><td>0</td><td>0</td><td>0</td><td>...</td><td>0</td><td>3</td><td> 0</td><td>30</td><td>1</td><td>0</td><td>10</td><td>5</td><td>1</td><td>0</td></tr>\n",
       "\t<tr><td>12</td><td>0</td><td>0</td><td>1</td><td>26</td><td>0</td><td>1</td><td>0</td><td>0</td><td>0</td><td>...</td><td>0</td><td>3</td><td> 0</td><td>15</td><td>0</td><td>0</td><td> 7</td><td>5</td><td>7</td><td>0</td></tr>\n",
       "\t<tr><td>13</td><td>1</td><td>1</td><td>1</td><td>28</td><td>0</td><td>0</td><td>0</td><td>0</td><td>0</td><td>...</td><td>0</td><td>4</td><td> 0</td><td> 0</td><td>1</td><td>0</td><td>11</td><td>4</td><td>6</td><td>1</td></tr>\n",
       "\t<tr><td>14</td><td>0</td><td>1</td><td>1</td><td>33</td><td>0</td><td>1</td><td>1</td><td>0</td><td>1</td><td>...</td><td>1</td><td>4</td><td>30</td><td>28</td><td>0</td><td>0</td><td> 4</td><td>6</td><td>2</td><td>0</td></tr>\n",
       "\t<tr><td>15</td><td>1</td><td>0</td><td>1</td><td>33</td><td>0</td><td>0</td><td>0</td><td>0</td><td>1</td><td>...</td><td>0</td><td>2</td><td> 5</td><td> 0</td><td>0</td><td>0</td><td> 6</td><td>6</td><td>8</td><td>0</td></tr>\n",
       "\t<tr><td>16</td><td>1</td><td>1</td><td>1</td><td>21</td><td>0</td><td>0</td><td>0</td><td>0</td><td>1</td><td>...</td><td>0</td><td>3</td><td> 0</td><td> 0</td><td>0</td><td>0</td><td>10</td><td>4</td><td>3</td><td>0</td></tr>\n",
       "\t<tr><td>17</td><td>0</td><td>0</td><td>1</td><td>23</td><td>0</td><td>1</td><td>0</td><td>0</td><td>1</td><td>...</td><td>0</td><td>2</td><td> 0</td><td> 0</td><td>0</td><td>1</td><td> 7</td><td>5</td><td>6</td><td>1</td></tr>\n",
       "\t<tr><td>18</td><td>0</td><td>0</td><td>0</td><td>23</td><td>0</td><td>0</td><td>0</td><td>0</td><td>0</td><td>...</td><td>0</td><td>2</td><td>15</td><td> 0</td><td>0</td><td>0</td><td> 2</td><td>6</td><td>7</td><td>0</td></tr>\n",
       "\t<tr><td>19</td><td>0</td><td>1</td><td>1</td><td>28</td><td>0</td><td>0</td><td>0</td><td>0</td><td>0</td><td>...</td><td>0</td><td>2</td><td>10</td><td> 0</td><td>0</td><td>1</td><td> 4</td><td>6</td><td>8</td><td>0</td></tr>\n",
       "\t<tr><td>20</td><td>1</td><td>1</td><td>1</td><td>22</td><td>0</td><td>0</td><td>1</td><td>1</td><td>0</td><td>...</td><td>0</td><td>3</td><td>30</td><td> 0</td><td>1</td><td>0</td><td>12</td><td>4</td><td>4</td><td>0</td></tr>\n",
       "\t<tr><td>21</td><td>1</td><td>1</td><td>1</td><td>38</td><td>0</td><td>1</td><td>0</td><td>0</td><td>0</td><td>...</td><td>0</td><td>5</td><td>15</td><td>30</td><td>1</td><td>0</td><td>13</td><td>2</td><td>3</td><td>0</td></tr>\n",
       "\t<tr><td>22</td><td>0</td><td>0</td><td>1</td><td>28</td><td>0</td><td>1</td><td>0</td><td>0</td><td>0</td><td>...</td><td>0</td><td>3</td><td> 0</td><td> 7</td><td>0</td><td>1</td><td> 5</td><td>5</td><td>5</td><td>0</td></tr>\n",
       "\t<tr><td>23</td><td>1</td><td>0</td><td>1</td><td>27</td><td>0</td><td>0</td><td>0</td><td>0</td><td>1</td><td>...</td><td>0</td><td>1</td><td> 0</td><td> 0</td><td>0</td><td>0</td><td>13</td><td>5</td><td>4</td><td>1</td></tr>\n",
       "\t<tr><td>24</td><td>1</td><td>1</td><td>1</td><td>28</td><td>0</td><td>1</td><td>0</td><td>0</td><td>0</td><td>...</td><td>0</td><td>3</td><td> 6</td><td> 0</td><td>1</td><td>0</td><td> 9</td><td>4</td><td>6</td><td>0</td></tr>\n",
       "\t<tr><td>25</td><td>0</td><td>0</td><td>1</td><td>32</td><td>0</td><td>0</td><td>0</td><td>0</td><td>1</td><td>...</td><td>0</td><td>2</td><td> 0</td><td> 0</td><td>0</td><td>0</td><td> 5</td><td>6</td><td>8</td><td>0</td></tr>\n",
       "\t<tr><td>26</td><td>1</td><td>1</td><td>1</td><td>37</td><td>0</td><td>1</td><td>1</td><td>1</td><td>0</td><td>...</td><td>0</td><td>5</td><td> 0</td><td> 0</td><td>1</td><td>1</td><td>10</td><td>6</td><td>5</td><td>1</td></tr>\n",
       "\t<tr><td>27</td><td>1</td><td>1</td><td>1</td><td>28</td><td>0</td><td>1</td><td>0</td><td>1</td><td>0</td><td>...</td><td>0</td><td>4</td><td> 0</td><td> 0</td><td>0</td><td>1</td><td>12</td><td>2</td><td>4</td><td>1</td></tr>\n",
       "\t<tr><td>28</td><td>1</td><td>1</td><td>1</td><td>27</td><td>0</td><td>1</td><td>0</td><td>0</td><td>0</td><td>...</td><td>0</td><td>4</td><td>20</td><td>20</td><td>1</td><td>0</td><td> 8</td><td>4</td><td>7</td><td>1</td></tr>\n",
       "\t<tr><td>29</td><td>0</td><td>1</td><td>1</td><td>31</td><td>0</td><td>1</td><td>0</td><td>0</td><td>1</td><td>...</td><td>0</td><td>1</td><td> 0</td><td> 0</td><td>0</td><td>1</td><td>12</td><td>6</td><td>8</td><td>0</td></tr>\n",
       "\t<tr><td>...</td><td>...</td><td>...</td><td>...</td><td>...</td><td>...</td><td>...</td><td>...</td><td>...</td><td>...</td><td></td><td>...</td><td>...</td><td>...</td><td>...</td><td>...</td><td>...</td><td>...</td><td>...</td><td>...</td><td>...</td></tr>\n",
       "\t<tr><td>253650</td><td>1</td><td>0</td><td>1</td><td>27</td><td>0</td><td>0</td><td>0</td><td>0</td><td>1</td><td>...</td><td>0</td><td>4</td><td> 0</td><td> 0</td><td>0</td><td>0</td><td> 5</td><td>4</td><td>2</td><td>0</td></tr>\n",
       "\t<tr><td>253651</td><td>0</td><td>0</td><td>1</td><td>24</td><td>0</td><td>0</td><td>0</td><td>0</td><td>1</td><td>...</td><td>1</td><td>1</td><td> 0</td><td> 0</td><td>0</td><td>1</td><td> 2</td><td>6</td><td>3</td><td>0</td></tr>\n",
       "\t<tr><td>253652</td><td>0</td><td>1</td><td>1</td><td>27</td><td>0</td><td>0</td><td>0</td><td>0</td><td>1</td><td>...</td><td>0</td><td>4</td><td> 0</td><td>30</td><td>0</td><td>1</td><td>11</td><td>2</td><td>3</td><td>1</td></tr>\n",
       "\t<tr><td>253653</td><td>0</td><td>0</td><td>1</td><td>33</td><td>0</td><td>1</td><td>0</td><td>0</td><td>0</td><td>...</td><td>0</td><td>4</td><td> 0</td><td>15</td><td>0</td><td>1</td><td>10</td><td>6</td><td>3</td><td>0</td></tr>\n",
       "\t<tr><td>253654</td><td>0</td><td>0</td><td>1</td><td>26</td><td>0</td><td>1</td><td>0</td><td>0</td><td>1</td><td>...</td><td>0</td><td>2</td><td> 1</td><td> 0</td><td>0</td><td>1</td><td> 3</td><td>3</td><td>1</td><td>0</td></tr>\n",
       "\t<tr><td>253655</td><td>0</td><td>0</td><td>1</td><td>28</td><td>0</td><td>0</td><td>0</td><td>0</td><td>1</td><td>...</td><td>0</td><td>2</td><td> 0</td><td> 0</td><td>0</td><td>0</td><td> 2</td><td>6</td><td>4</td><td>0</td></tr>\n",
       "\t<tr><td>253656</td><td>0</td><td>0</td><td>1</td><td>25</td><td>0</td><td>0</td><td>0</td><td>0</td><td>1</td><td>...</td><td>0</td><td>1</td><td> 0</td><td> 0</td><td>0</td><td>0</td><td> 4</td><td>6</td><td>8</td><td>0</td></tr>\n",
       "\t<tr><td>253657</td><td>0</td><td>1</td><td>1</td><td>24</td><td>0</td><td>0</td><td>0</td><td>0</td><td>0</td><td>...</td><td>0</td><td>3</td><td> 0</td><td> 0</td><td>0</td><td>0</td><td> 7</td><td>5</td><td>3</td><td>0</td></tr>\n",
       "\t<tr><td>253658</td><td>0</td><td>0</td><td>0</td><td>27</td><td>0</td><td>0</td><td>0</td><td>0</td><td>1</td><td>...</td><td>1</td><td>2</td><td> 0</td><td> 0</td><td>0</td><td>0</td><td> 3</td><td>6</td><td>5</td><td>0</td></tr>\n",
       "\t<tr><td>253659</td><td>0</td><td>1</td><td>1</td><td>37</td><td>0</td><td>0</td><td>0</td><td>0</td><td>0</td><td>...</td><td>0</td><td>4</td><td> 0</td><td> 0</td><td>0</td><td>0</td><td> 6</td><td>4</td><td>1</td><td>1</td></tr>\n",
       "\t<tr><td>253660</td><td>0</td><td>1</td><td>1</td><td>34</td><td>0</td><td>1</td><td>0</td><td>0</td><td>0</td><td>...</td><td>0</td><td>3</td><td> 0</td><td> 2</td><td>1</td><td>0</td><td> 7</td><td>4</td><td>3</td><td>0</td></tr>\n",
       "\t<tr><td>253661</td><td>1</td><td>0</td><td>1</td><td>33</td><td>0</td><td>0</td><td>0</td><td>0</td><td>1</td><td>...</td><td>1</td><td>3</td><td> 0</td><td> 2</td><td>1</td><td>0</td><td> 6</td><td>6</td><td>6</td><td>0</td></tr>\n",
       "\t<tr><td>253662</td><td>0</td><td>0</td><td>1</td><td>16</td><td>0</td><td>0</td><td>0</td><td>0</td><td>1</td><td>...</td><td>0</td><td>1</td><td> 0</td><td> 0</td><td>0</td><td>0</td><td> 5</td><td>6</td><td>2</td><td>0</td></tr>\n",
       "\t<tr><td>253663</td><td>0</td><td>0</td><td>1</td><td>23</td><td>0</td><td>0</td><td>0</td><td>0</td><td>0</td><td>...</td><td>1</td><td>2</td><td> 0</td><td>30</td><td>0</td><td>0</td><td> 5</td><td>6</td><td>2</td><td>0</td></tr>\n",
       "\t<tr><td>253664</td><td>0</td><td>1</td><td>1</td><td>29</td><td>0</td><td>1</td><td>0</td><td>0</td><td>0</td><td>...</td><td>0</td><td>3</td><td> 0</td><td> 0</td><td>0</td><td>0</td><td> 6</td><td>6</td><td>4</td><td>0</td></tr>\n",
       "\t<tr><td>253665</td><td>0</td><td>1</td><td>1</td><td>17</td><td>0</td><td>0</td><td>0</td><td>0</td><td>0</td><td>...</td><td>1</td><td>4</td><td>30</td><td>30</td><td>0</td><td>0</td><td> 5</td><td>4</td><td>1</td><td>0</td></tr>\n",
       "\t<tr><td>253666</td><td>1</td><td>0</td><td>1</td><td>23</td><td>0</td><td>0</td><td>0</td><td>0</td><td>0</td><td>...</td><td>0</td><td>3</td><td> 0</td><td>15</td><td>0</td><td>0</td><td> 6</td><td>5</td><td>2</td><td>0</td></tr>\n",
       "\t<tr><td>253667</td><td>1</td><td>1</td><td>1</td><td>28</td><td>0</td><td>1</td><td>0</td><td>0</td><td>0</td><td>...</td><td>0</td><td>3</td><td> 0</td><td> 0</td><td>0</td><td>0</td><td>11</td><td>4</td><td>7</td><td>0</td></tr>\n",
       "\t<tr><td>253668</td><td>0</td><td>1</td><td>1</td><td>29</td><td>0</td><td>1</td><td>0</td><td>1</td><td>0</td><td>...</td><td>0</td><td>2</td><td> 0</td><td> 0</td><td>1</td><td>1</td><td>10</td><td>3</td><td>6</td><td>1</td></tr>\n",
       "\t<tr><td>253669</td><td>0</td><td>1</td><td>1</td><td>27</td><td>0</td><td>0</td><td>0</td><td>0</td><td>0</td><td>...</td><td>1</td><td>1</td><td> 0</td><td> 3</td><td>0</td><td>1</td><td> 6</td><td>2</td><td>4</td><td>0</td></tr>\n",
       "\t<tr><td>253670</td><td>1</td><td>1</td><td>1</td><td>25</td><td>0</td><td>0</td><td>0</td><td>1</td><td>0</td><td>...</td><td>0</td><td>5</td><td>15</td><td> 0</td><td>1</td><td>0</td><td>13</td><td>6</td><td>4</td><td>1</td></tr>\n",
       "\t<tr><td>253671</td><td>1</td><td>1</td><td>1</td><td>23</td><td>0</td><td>0</td><td>1</td><td>1</td><td>0</td><td>...</td><td>1</td><td>4</td><td> 0</td><td> 5</td><td>0</td><td>1</td><td> 8</td><td>3</td><td>2</td><td>0</td></tr>\n",
       "\t<tr><td>253672</td><td>1</td><td>0</td><td>1</td><td>30</td><td>0</td><td>1</td><td>0</td><td>1</td><td>1</td><td>...</td><td>0</td><td>3</td><td> 0</td><td> 0</td><td>0</td><td>1</td><td>12</td><td>2</td><td>1</td><td>0</td></tr>\n",
       "\t<tr><td>253673</td><td>1</td><td>0</td><td>1</td><td>42</td><td>0</td><td>0</td><td>0</td><td>0</td><td>1</td><td>...</td><td>0</td><td>3</td><td>14</td><td> 4</td><td>0</td><td>1</td><td> 3</td><td>6</td><td>8</td><td>0</td></tr>\n",
       "\t<tr><td>253674</td><td>0</td><td>0</td><td>1</td><td>27</td><td>0</td><td>0</td><td>0</td><td>0</td><td>0</td><td>...</td><td>0</td><td>1</td><td> 0</td><td> 0</td><td>0</td><td>0</td><td> 3</td><td>6</td><td>5</td><td>0</td></tr>\n",
       "\t<tr><td>253675</td><td>1</td><td>1</td><td>1</td><td>45</td><td>0</td><td>0</td><td>0</td><td>0</td><td>0</td><td>...</td><td>0</td><td>3</td><td> 0</td><td> 5</td><td>0</td><td>1</td><td> 5</td><td>6</td><td>7</td><td>0</td></tr>\n",
       "\t<tr><td>253676</td><td>1</td><td>1</td><td>1</td><td>18</td><td>0</td><td>0</td><td>0</td><td>0</td><td>0</td><td>...</td><td>0</td><td>4</td><td> 0</td><td> 0</td><td>1</td><td>0</td><td>11</td><td>2</td><td>4</td><td>1</td></tr>\n",
       "\t<tr><td>253677</td><td>0</td><td>0</td><td>1</td><td>28</td><td>0</td><td>0</td><td>0</td><td>0</td><td>1</td><td>...</td><td>0</td><td>1</td><td> 0</td><td> 0</td><td>0</td><td>0</td><td> 2</td><td>5</td><td>2</td><td>0</td></tr>\n",
       "\t<tr><td>253678</td><td>1</td><td>0</td><td>1</td><td>23</td><td>0</td><td>0</td><td>0</td><td>0</td><td>0</td><td>...</td><td>0</td><td>3</td><td> 0</td><td> 0</td><td>0</td><td>1</td><td> 7</td><td>5</td><td>1</td><td>0</td></tr>\n",
       "\t<tr><td>253679</td><td>1</td><td>1</td><td>1</td><td>25</td><td>0</td><td>0</td><td>0</td><td>1</td><td>1</td><td>...</td><td>0</td><td>2</td><td> 0</td><td> 0</td><td>0</td><td>0</td><td> 9</td><td>6</td><td>2</td><td>1</td></tr>\n",
       "</tbody>\n",
       "</table>\n"
      ],
      "text/latex": [
       "A data.frame: 253680 × 24\n",
       "\\begin{tabular}{lllllllllllllllllllll}\n",
       " Index & HighBP & HighChol & CholCheck & BMI & StdBMI & Smoker & Stroke & HeartDiseaseorAttack & PhysActivity & ... & NoDocbcCost & GenHlth & MentHlth & PhysHlth & DiffWalk & Sex & Age & Education & Income & Diabetes\\_binary\\\\\n",
       " <int> & <int> & <int> & <int> & <int> & <dbl> & <int> & <int> & <int> & <int> & ... & <int> & <int> & <int> & <int> & <int> & <int> & <int> & <int> & <int> & <int>\\\\\n",
       "\\hline\n",
       "\t  0 & 1 & 1 & 1 & 40 & 0 & 1 & 0 & 0 & 0 & ... & 0 & 5 & 18 & 15 & 1 & 0 &  9 & 4 & 3 & 0\\\\\n",
       "\t  1 & 0 & 0 & 0 & 25 & 0 & 1 & 0 & 0 & 1 & ... & 1 & 3 &  0 &  0 & 0 & 0 &  7 & 6 & 1 & 0\\\\\n",
       "\t  2 & 1 & 1 & 1 & 28 & 0 & 0 & 0 & 0 & 0 & ... & 1 & 5 & 30 & 30 & 1 & 0 &  9 & 4 & 8 & 0\\\\\n",
       "\t  3 & 1 & 0 & 1 & 27 & 0 & 0 & 0 & 0 & 1 & ... & 0 & 2 &  0 &  0 & 0 & 0 & 11 & 3 & 6 & 0\\\\\n",
       "\t  4 & 1 & 1 & 1 & 24 & 0 & 0 & 0 & 0 & 1 & ... & 0 & 2 &  3 &  0 & 0 & 0 & 11 & 5 & 4 & 0\\\\\n",
       "\t  5 & 1 & 1 & 1 & 25 & 0 & 1 & 0 & 0 & 1 & ... & 0 & 2 &  0 &  2 & 0 & 1 & 10 & 6 & 8 & 0\\\\\n",
       "\t  6 & 1 & 0 & 1 & 30 & 0 & 1 & 0 & 0 & 0 & ... & 0 & 3 &  0 & 14 & 0 & 0 &  9 & 6 & 7 & 0\\\\\n",
       "\t  7 & 1 & 1 & 1 & 25 & 0 & 1 & 0 & 0 & 1 & ... & 0 & 3 &  0 &  0 & 1 & 0 & 11 & 4 & 4 & 0\\\\\n",
       "\t  8 & 1 & 1 & 1 & 30 & 0 & 1 & 0 & 1 & 0 & ... & 0 & 5 & 30 & 30 & 1 & 0 &  9 & 5 & 1 & 1\\\\\n",
       "\t  9 & 0 & 0 & 1 & 24 & 0 & 0 & 0 & 0 & 0 & ... & 0 & 2 &  0 &  0 & 0 & 1 &  8 & 4 & 3 & 0\\\\\n",
       "\t 10 & 0 & 0 & 1 & 25 & 0 & 1 & 0 & 0 & 1 & ... & 0 & 3 &  0 &  0 & 0 & 1 & 13 & 6 & 8 & 1\\\\\n",
       "\t 11 & 1 & 1 & 1 & 34 & 0 & 1 & 0 & 0 & 0 & ... & 0 & 3 &  0 & 30 & 1 & 0 & 10 & 5 & 1 & 0\\\\\n",
       "\t 12 & 0 & 0 & 1 & 26 & 0 & 1 & 0 & 0 & 0 & ... & 0 & 3 &  0 & 15 & 0 & 0 &  7 & 5 & 7 & 0\\\\\n",
       "\t 13 & 1 & 1 & 1 & 28 & 0 & 0 & 0 & 0 & 0 & ... & 0 & 4 &  0 &  0 & 1 & 0 & 11 & 4 & 6 & 1\\\\\n",
       "\t 14 & 0 & 1 & 1 & 33 & 0 & 1 & 1 & 0 & 1 & ... & 1 & 4 & 30 & 28 & 0 & 0 &  4 & 6 & 2 & 0\\\\\n",
       "\t 15 & 1 & 0 & 1 & 33 & 0 & 0 & 0 & 0 & 1 & ... & 0 & 2 &  5 &  0 & 0 & 0 &  6 & 6 & 8 & 0\\\\\n",
       "\t 16 & 1 & 1 & 1 & 21 & 0 & 0 & 0 & 0 & 1 & ... & 0 & 3 &  0 &  0 & 0 & 0 & 10 & 4 & 3 & 0\\\\\n",
       "\t 17 & 0 & 0 & 1 & 23 & 0 & 1 & 0 & 0 & 1 & ... & 0 & 2 &  0 &  0 & 0 & 1 &  7 & 5 & 6 & 1\\\\\n",
       "\t 18 & 0 & 0 & 0 & 23 & 0 & 0 & 0 & 0 & 0 & ... & 0 & 2 & 15 &  0 & 0 & 0 &  2 & 6 & 7 & 0\\\\\n",
       "\t 19 & 0 & 1 & 1 & 28 & 0 & 0 & 0 & 0 & 0 & ... & 0 & 2 & 10 &  0 & 0 & 1 &  4 & 6 & 8 & 0\\\\\n",
       "\t 20 & 1 & 1 & 1 & 22 & 0 & 0 & 1 & 1 & 0 & ... & 0 & 3 & 30 &  0 & 1 & 0 & 12 & 4 & 4 & 0\\\\\n",
       "\t 21 & 1 & 1 & 1 & 38 & 0 & 1 & 0 & 0 & 0 & ... & 0 & 5 & 15 & 30 & 1 & 0 & 13 & 2 & 3 & 0\\\\\n",
       "\t 22 & 0 & 0 & 1 & 28 & 0 & 1 & 0 & 0 & 0 & ... & 0 & 3 &  0 &  7 & 0 & 1 &  5 & 5 & 5 & 0\\\\\n",
       "\t 23 & 1 & 0 & 1 & 27 & 0 & 0 & 0 & 0 & 1 & ... & 0 & 1 &  0 &  0 & 0 & 0 & 13 & 5 & 4 & 1\\\\\n",
       "\t 24 & 1 & 1 & 1 & 28 & 0 & 1 & 0 & 0 & 0 & ... & 0 & 3 &  6 &  0 & 1 & 0 &  9 & 4 & 6 & 0\\\\\n",
       "\t 25 & 0 & 0 & 1 & 32 & 0 & 0 & 0 & 0 & 1 & ... & 0 & 2 &  0 &  0 & 0 & 0 &  5 & 6 & 8 & 0\\\\\n",
       "\t 26 & 1 & 1 & 1 & 37 & 0 & 1 & 1 & 1 & 0 & ... & 0 & 5 &  0 &  0 & 1 & 1 & 10 & 6 & 5 & 1\\\\\n",
       "\t 27 & 1 & 1 & 1 & 28 & 0 & 1 & 0 & 1 & 0 & ... & 0 & 4 &  0 &  0 & 0 & 1 & 12 & 2 & 4 & 1\\\\\n",
       "\t 28 & 1 & 1 & 1 & 27 & 0 & 1 & 0 & 0 & 0 & ... & 0 & 4 & 20 & 20 & 1 & 0 &  8 & 4 & 7 & 1\\\\\n",
       "\t 29 & 0 & 1 & 1 & 31 & 0 & 1 & 0 & 0 & 1 & ... & 0 & 1 &  0 &  0 & 0 & 1 & 12 & 6 & 8 & 0\\\\\n",
       "\t ... & ... & ... & ... & ... & ... & ... & ... & ... & ... &  & ... & ... & ... & ... & ... & ... & ... & ... & ... & ...\\\\\n",
       "\t 253650 & 1 & 0 & 1 & 27 & 0 & 0 & 0 & 0 & 1 & ... & 0 & 4 &  0 &  0 & 0 & 0 &  5 & 4 & 2 & 0\\\\\n",
       "\t 253651 & 0 & 0 & 1 & 24 & 0 & 0 & 0 & 0 & 1 & ... & 1 & 1 &  0 &  0 & 0 & 1 &  2 & 6 & 3 & 0\\\\\n",
       "\t 253652 & 0 & 1 & 1 & 27 & 0 & 0 & 0 & 0 & 1 & ... & 0 & 4 &  0 & 30 & 0 & 1 & 11 & 2 & 3 & 1\\\\\n",
       "\t 253653 & 0 & 0 & 1 & 33 & 0 & 1 & 0 & 0 & 0 & ... & 0 & 4 &  0 & 15 & 0 & 1 & 10 & 6 & 3 & 0\\\\\n",
       "\t 253654 & 0 & 0 & 1 & 26 & 0 & 1 & 0 & 0 & 1 & ... & 0 & 2 &  1 &  0 & 0 & 1 &  3 & 3 & 1 & 0\\\\\n",
       "\t 253655 & 0 & 0 & 1 & 28 & 0 & 0 & 0 & 0 & 1 & ... & 0 & 2 &  0 &  0 & 0 & 0 &  2 & 6 & 4 & 0\\\\\n",
       "\t 253656 & 0 & 0 & 1 & 25 & 0 & 0 & 0 & 0 & 1 & ... & 0 & 1 &  0 &  0 & 0 & 0 &  4 & 6 & 8 & 0\\\\\n",
       "\t 253657 & 0 & 1 & 1 & 24 & 0 & 0 & 0 & 0 & 0 & ... & 0 & 3 &  0 &  0 & 0 & 0 &  7 & 5 & 3 & 0\\\\\n",
       "\t 253658 & 0 & 0 & 0 & 27 & 0 & 0 & 0 & 0 & 1 & ... & 1 & 2 &  0 &  0 & 0 & 0 &  3 & 6 & 5 & 0\\\\\n",
       "\t 253659 & 0 & 1 & 1 & 37 & 0 & 0 & 0 & 0 & 0 & ... & 0 & 4 &  0 &  0 & 0 & 0 &  6 & 4 & 1 & 1\\\\\n",
       "\t 253660 & 0 & 1 & 1 & 34 & 0 & 1 & 0 & 0 & 0 & ... & 0 & 3 &  0 &  2 & 1 & 0 &  7 & 4 & 3 & 0\\\\\n",
       "\t 253661 & 1 & 0 & 1 & 33 & 0 & 0 & 0 & 0 & 1 & ... & 1 & 3 &  0 &  2 & 1 & 0 &  6 & 6 & 6 & 0\\\\\n",
       "\t 253662 & 0 & 0 & 1 & 16 & 0 & 0 & 0 & 0 & 1 & ... & 0 & 1 &  0 &  0 & 0 & 0 &  5 & 6 & 2 & 0\\\\\n",
       "\t 253663 & 0 & 0 & 1 & 23 & 0 & 0 & 0 & 0 & 0 & ... & 1 & 2 &  0 & 30 & 0 & 0 &  5 & 6 & 2 & 0\\\\\n",
       "\t 253664 & 0 & 1 & 1 & 29 & 0 & 1 & 0 & 0 & 0 & ... & 0 & 3 &  0 &  0 & 0 & 0 &  6 & 6 & 4 & 0\\\\\n",
       "\t 253665 & 0 & 1 & 1 & 17 & 0 & 0 & 0 & 0 & 0 & ... & 1 & 4 & 30 & 30 & 0 & 0 &  5 & 4 & 1 & 0\\\\\n",
       "\t 253666 & 1 & 0 & 1 & 23 & 0 & 0 & 0 & 0 & 0 & ... & 0 & 3 &  0 & 15 & 0 & 0 &  6 & 5 & 2 & 0\\\\\n",
       "\t 253667 & 1 & 1 & 1 & 28 & 0 & 1 & 0 & 0 & 0 & ... & 0 & 3 &  0 &  0 & 0 & 0 & 11 & 4 & 7 & 0\\\\\n",
       "\t 253668 & 0 & 1 & 1 & 29 & 0 & 1 & 0 & 1 & 0 & ... & 0 & 2 &  0 &  0 & 1 & 1 & 10 & 3 & 6 & 1\\\\\n",
       "\t 253669 & 0 & 1 & 1 & 27 & 0 & 0 & 0 & 0 & 0 & ... & 1 & 1 &  0 &  3 & 0 & 1 &  6 & 2 & 4 & 0\\\\\n",
       "\t 253670 & 1 & 1 & 1 & 25 & 0 & 0 & 0 & 1 & 0 & ... & 0 & 5 & 15 &  0 & 1 & 0 & 13 & 6 & 4 & 1\\\\\n",
       "\t 253671 & 1 & 1 & 1 & 23 & 0 & 0 & 1 & 1 & 0 & ... & 1 & 4 &  0 &  5 & 0 & 1 &  8 & 3 & 2 & 0\\\\\n",
       "\t 253672 & 1 & 0 & 1 & 30 & 0 & 1 & 0 & 1 & 1 & ... & 0 & 3 &  0 &  0 & 0 & 1 & 12 & 2 & 1 & 0\\\\\n",
       "\t 253673 & 1 & 0 & 1 & 42 & 0 & 0 & 0 & 0 & 1 & ... & 0 & 3 & 14 &  4 & 0 & 1 &  3 & 6 & 8 & 0\\\\\n",
       "\t 253674 & 0 & 0 & 1 & 27 & 0 & 0 & 0 & 0 & 0 & ... & 0 & 1 &  0 &  0 & 0 & 0 &  3 & 6 & 5 & 0\\\\\n",
       "\t 253675 & 1 & 1 & 1 & 45 & 0 & 0 & 0 & 0 & 0 & ... & 0 & 3 &  0 &  5 & 0 & 1 &  5 & 6 & 7 & 0\\\\\n",
       "\t 253676 & 1 & 1 & 1 & 18 & 0 & 0 & 0 & 0 & 0 & ... & 0 & 4 &  0 &  0 & 1 & 0 & 11 & 2 & 4 & 1\\\\\n",
       "\t 253677 & 0 & 0 & 1 & 28 & 0 & 0 & 0 & 0 & 1 & ... & 0 & 1 &  0 &  0 & 0 & 0 &  2 & 5 & 2 & 0\\\\\n",
       "\t 253678 & 1 & 0 & 1 & 23 & 0 & 0 & 0 & 0 & 0 & ... & 0 & 3 &  0 &  0 & 0 & 1 &  7 & 5 & 1 & 0\\\\\n",
       "\t 253679 & 1 & 1 & 1 & 25 & 0 & 0 & 0 & 1 & 1 & ... & 0 & 2 &  0 &  0 & 0 & 0 &  9 & 6 & 2 & 1\\\\\n",
       "\\end{tabular}\n"
      ],
      "text/markdown": [
       "\n",
       "A data.frame: 253680 × 24\n",
       "\n",
       "| Index &lt;int&gt; | HighBP &lt;int&gt; | HighChol &lt;int&gt; | CholCheck &lt;int&gt; | BMI &lt;int&gt; | StdBMI &lt;dbl&gt; | Smoker &lt;int&gt; | Stroke &lt;int&gt; | HeartDiseaseorAttack &lt;int&gt; | PhysActivity &lt;int&gt; | ... ... | NoDocbcCost &lt;int&gt; | GenHlth &lt;int&gt; | MentHlth &lt;int&gt; | PhysHlth &lt;int&gt; | DiffWalk &lt;int&gt; | Sex &lt;int&gt; | Age &lt;int&gt; | Education &lt;int&gt; | Income &lt;int&gt; | Diabetes_binary &lt;int&gt; |\n",
       "|---|---|---|---|---|---|---|---|---|---|---|---|---|---|---|---|---|---|---|---|---|\n",
       "|  0 | 1 | 1 | 1 | 40 | 0 | 1 | 0 | 0 | 0 | ... | 0 | 5 | 18 | 15 | 1 | 0 |  9 | 4 | 3 | 0 |\n",
       "|  1 | 0 | 0 | 0 | 25 | 0 | 1 | 0 | 0 | 1 | ... | 1 | 3 |  0 |  0 | 0 | 0 |  7 | 6 | 1 | 0 |\n",
       "|  2 | 1 | 1 | 1 | 28 | 0 | 0 | 0 | 0 | 0 | ... | 1 | 5 | 30 | 30 | 1 | 0 |  9 | 4 | 8 | 0 |\n",
       "|  3 | 1 | 0 | 1 | 27 | 0 | 0 | 0 | 0 | 1 | ... | 0 | 2 |  0 |  0 | 0 | 0 | 11 | 3 | 6 | 0 |\n",
       "|  4 | 1 | 1 | 1 | 24 | 0 | 0 | 0 | 0 | 1 | ... | 0 | 2 |  3 |  0 | 0 | 0 | 11 | 5 | 4 | 0 |\n",
       "|  5 | 1 | 1 | 1 | 25 | 0 | 1 | 0 | 0 | 1 | ... | 0 | 2 |  0 |  2 | 0 | 1 | 10 | 6 | 8 | 0 |\n",
       "|  6 | 1 | 0 | 1 | 30 | 0 | 1 | 0 | 0 | 0 | ... | 0 | 3 |  0 | 14 | 0 | 0 |  9 | 6 | 7 | 0 |\n",
       "|  7 | 1 | 1 | 1 | 25 | 0 | 1 | 0 | 0 | 1 | ... | 0 | 3 |  0 |  0 | 1 | 0 | 11 | 4 | 4 | 0 |\n",
       "|  8 | 1 | 1 | 1 | 30 | 0 | 1 | 0 | 1 | 0 | ... | 0 | 5 | 30 | 30 | 1 | 0 |  9 | 5 | 1 | 1 |\n",
       "|  9 | 0 | 0 | 1 | 24 | 0 | 0 | 0 | 0 | 0 | ... | 0 | 2 |  0 |  0 | 0 | 1 |  8 | 4 | 3 | 0 |\n",
       "| 10 | 0 | 0 | 1 | 25 | 0 | 1 | 0 | 0 | 1 | ... | 0 | 3 |  0 |  0 | 0 | 1 | 13 | 6 | 8 | 1 |\n",
       "| 11 | 1 | 1 | 1 | 34 | 0 | 1 | 0 | 0 | 0 | ... | 0 | 3 |  0 | 30 | 1 | 0 | 10 | 5 | 1 | 0 |\n",
       "| 12 | 0 | 0 | 1 | 26 | 0 | 1 | 0 | 0 | 0 | ... | 0 | 3 |  0 | 15 | 0 | 0 |  7 | 5 | 7 | 0 |\n",
       "| 13 | 1 | 1 | 1 | 28 | 0 | 0 | 0 | 0 | 0 | ... | 0 | 4 |  0 |  0 | 1 | 0 | 11 | 4 | 6 | 1 |\n",
       "| 14 | 0 | 1 | 1 | 33 | 0 | 1 | 1 | 0 | 1 | ... | 1 | 4 | 30 | 28 | 0 | 0 |  4 | 6 | 2 | 0 |\n",
       "| 15 | 1 | 0 | 1 | 33 | 0 | 0 | 0 | 0 | 1 | ... | 0 | 2 |  5 |  0 | 0 | 0 |  6 | 6 | 8 | 0 |\n",
       "| 16 | 1 | 1 | 1 | 21 | 0 | 0 | 0 | 0 | 1 | ... | 0 | 3 |  0 |  0 | 0 | 0 | 10 | 4 | 3 | 0 |\n",
       "| 17 | 0 | 0 | 1 | 23 | 0 | 1 | 0 | 0 | 1 | ... | 0 | 2 |  0 |  0 | 0 | 1 |  7 | 5 | 6 | 1 |\n",
       "| 18 | 0 | 0 | 0 | 23 | 0 | 0 | 0 | 0 | 0 | ... | 0 | 2 | 15 |  0 | 0 | 0 |  2 | 6 | 7 | 0 |\n",
       "| 19 | 0 | 1 | 1 | 28 | 0 | 0 | 0 | 0 | 0 | ... | 0 | 2 | 10 |  0 | 0 | 1 |  4 | 6 | 8 | 0 |\n",
       "| 20 | 1 | 1 | 1 | 22 | 0 | 0 | 1 | 1 | 0 | ... | 0 | 3 | 30 |  0 | 1 | 0 | 12 | 4 | 4 | 0 |\n",
       "| 21 | 1 | 1 | 1 | 38 | 0 | 1 | 0 | 0 | 0 | ... | 0 | 5 | 15 | 30 | 1 | 0 | 13 | 2 | 3 | 0 |\n",
       "| 22 | 0 | 0 | 1 | 28 | 0 | 1 | 0 | 0 | 0 | ... | 0 | 3 |  0 |  7 | 0 | 1 |  5 | 5 | 5 | 0 |\n",
       "| 23 | 1 | 0 | 1 | 27 | 0 | 0 | 0 | 0 | 1 | ... | 0 | 1 |  0 |  0 | 0 | 0 | 13 | 5 | 4 | 1 |\n",
       "| 24 | 1 | 1 | 1 | 28 | 0 | 1 | 0 | 0 | 0 | ... | 0 | 3 |  6 |  0 | 1 | 0 |  9 | 4 | 6 | 0 |\n",
       "| 25 | 0 | 0 | 1 | 32 | 0 | 0 | 0 | 0 | 1 | ... | 0 | 2 |  0 |  0 | 0 | 0 |  5 | 6 | 8 | 0 |\n",
       "| 26 | 1 | 1 | 1 | 37 | 0 | 1 | 1 | 1 | 0 | ... | 0 | 5 |  0 |  0 | 1 | 1 | 10 | 6 | 5 | 1 |\n",
       "| 27 | 1 | 1 | 1 | 28 | 0 | 1 | 0 | 1 | 0 | ... | 0 | 4 |  0 |  0 | 0 | 1 | 12 | 2 | 4 | 1 |\n",
       "| 28 | 1 | 1 | 1 | 27 | 0 | 1 | 0 | 0 | 0 | ... | 0 | 4 | 20 | 20 | 1 | 0 |  8 | 4 | 7 | 1 |\n",
       "| 29 | 0 | 1 | 1 | 31 | 0 | 1 | 0 | 0 | 1 | ... | 0 | 1 |  0 |  0 | 0 | 1 | 12 | 6 | 8 | 0 |\n",
       "| ... | ... | ... | ... | ... | ... | ... | ... | ... | ... | <!----> | ... | ... | ... | ... | ... | ... | ... | ... | ... | ... |\n",
       "| 253650 | 1 | 0 | 1 | 27 | 0 | 0 | 0 | 0 | 1 | ... | 0 | 4 |  0 |  0 | 0 | 0 |  5 | 4 | 2 | 0 |\n",
       "| 253651 | 0 | 0 | 1 | 24 | 0 | 0 | 0 | 0 | 1 | ... | 1 | 1 |  0 |  0 | 0 | 1 |  2 | 6 | 3 | 0 |\n",
       "| 253652 | 0 | 1 | 1 | 27 | 0 | 0 | 0 | 0 | 1 | ... | 0 | 4 |  0 | 30 | 0 | 1 | 11 | 2 | 3 | 1 |\n",
       "| 253653 | 0 | 0 | 1 | 33 | 0 | 1 | 0 | 0 | 0 | ... | 0 | 4 |  0 | 15 | 0 | 1 | 10 | 6 | 3 | 0 |\n",
       "| 253654 | 0 | 0 | 1 | 26 | 0 | 1 | 0 | 0 | 1 | ... | 0 | 2 |  1 |  0 | 0 | 1 |  3 | 3 | 1 | 0 |\n",
       "| 253655 | 0 | 0 | 1 | 28 | 0 | 0 | 0 | 0 | 1 | ... | 0 | 2 |  0 |  0 | 0 | 0 |  2 | 6 | 4 | 0 |\n",
       "| 253656 | 0 | 0 | 1 | 25 | 0 | 0 | 0 | 0 | 1 | ... | 0 | 1 |  0 |  0 | 0 | 0 |  4 | 6 | 8 | 0 |\n",
       "| 253657 | 0 | 1 | 1 | 24 | 0 | 0 | 0 | 0 | 0 | ... | 0 | 3 |  0 |  0 | 0 | 0 |  7 | 5 | 3 | 0 |\n",
       "| 253658 | 0 | 0 | 0 | 27 | 0 | 0 | 0 | 0 | 1 | ... | 1 | 2 |  0 |  0 | 0 | 0 |  3 | 6 | 5 | 0 |\n",
       "| 253659 | 0 | 1 | 1 | 37 | 0 | 0 | 0 | 0 | 0 | ... | 0 | 4 |  0 |  0 | 0 | 0 |  6 | 4 | 1 | 1 |\n",
       "| 253660 | 0 | 1 | 1 | 34 | 0 | 1 | 0 | 0 | 0 | ... | 0 | 3 |  0 |  2 | 1 | 0 |  7 | 4 | 3 | 0 |\n",
       "| 253661 | 1 | 0 | 1 | 33 | 0 | 0 | 0 | 0 | 1 | ... | 1 | 3 |  0 |  2 | 1 | 0 |  6 | 6 | 6 | 0 |\n",
       "| 253662 | 0 | 0 | 1 | 16 | 0 | 0 | 0 | 0 | 1 | ... | 0 | 1 |  0 |  0 | 0 | 0 |  5 | 6 | 2 | 0 |\n",
       "| 253663 | 0 | 0 | 1 | 23 | 0 | 0 | 0 | 0 | 0 | ... | 1 | 2 |  0 | 30 | 0 | 0 |  5 | 6 | 2 | 0 |\n",
       "| 253664 | 0 | 1 | 1 | 29 | 0 | 1 | 0 | 0 | 0 | ... | 0 | 3 |  0 |  0 | 0 | 0 |  6 | 6 | 4 | 0 |\n",
       "| 253665 | 0 | 1 | 1 | 17 | 0 | 0 | 0 | 0 | 0 | ... | 1 | 4 | 30 | 30 | 0 | 0 |  5 | 4 | 1 | 0 |\n",
       "| 253666 | 1 | 0 | 1 | 23 | 0 | 0 | 0 | 0 | 0 | ... | 0 | 3 |  0 | 15 | 0 | 0 |  6 | 5 | 2 | 0 |\n",
       "| 253667 | 1 | 1 | 1 | 28 | 0 | 1 | 0 | 0 | 0 | ... | 0 | 3 |  0 |  0 | 0 | 0 | 11 | 4 | 7 | 0 |\n",
       "| 253668 | 0 | 1 | 1 | 29 | 0 | 1 | 0 | 1 | 0 | ... | 0 | 2 |  0 |  0 | 1 | 1 | 10 | 3 | 6 | 1 |\n",
       "| 253669 | 0 | 1 | 1 | 27 | 0 | 0 | 0 | 0 | 0 | ... | 1 | 1 |  0 |  3 | 0 | 1 |  6 | 2 | 4 | 0 |\n",
       "| 253670 | 1 | 1 | 1 | 25 | 0 | 0 | 0 | 1 | 0 | ... | 0 | 5 | 15 |  0 | 1 | 0 | 13 | 6 | 4 | 1 |\n",
       "| 253671 | 1 | 1 | 1 | 23 | 0 | 0 | 1 | 1 | 0 | ... | 1 | 4 |  0 |  5 | 0 | 1 |  8 | 3 | 2 | 0 |\n",
       "| 253672 | 1 | 0 | 1 | 30 | 0 | 1 | 0 | 1 | 1 | ... | 0 | 3 |  0 |  0 | 0 | 1 | 12 | 2 | 1 | 0 |\n",
       "| 253673 | 1 | 0 | 1 | 42 | 0 | 0 | 0 | 0 | 1 | ... | 0 | 3 | 14 |  4 | 0 | 1 |  3 | 6 | 8 | 0 |\n",
       "| 253674 | 0 | 0 | 1 | 27 | 0 | 0 | 0 | 0 | 0 | ... | 0 | 1 |  0 |  0 | 0 | 0 |  3 | 6 | 5 | 0 |\n",
       "| 253675 | 1 | 1 | 1 | 45 | 0 | 0 | 0 | 0 | 0 | ... | 0 | 3 |  0 |  5 | 0 | 1 |  5 | 6 | 7 | 0 |\n",
       "| 253676 | 1 | 1 | 1 | 18 | 0 | 0 | 0 | 0 | 0 | ... | 0 | 4 |  0 |  0 | 1 | 0 | 11 | 2 | 4 | 1 |\n",
       "| 253677 | 0 | 0 | 1 | 28 | 0 | 0 | 0 | 0 | 1 | ... | 0 | 1 |  0 |  0 | 0 | 0 |  2 | 5 | 2 | 0 |\n",
       "| 253678 | 1 | 0 | 1 | 23 | 0 | 0 | 0 | 0 | 0 | ... | 0 | 3 |  0 |  0 | 0 | 1 |  7 | 5 | 1 | 0 |\n",
       "| 253679 | 1 | 1 | 1 | 25 | 0 | 0 | 0 | 1 | 1 | ... | 0 | 2 |  0 |  0 | 0 | 0 |  9 | 6 | 2 | 1 |\n",
       "\n"
      ],
      "text/plain": [
       "       Index  HighBP HighChol CholCheck BMI StdBMI Smoker Stroke\n",
       "1       0     1      1        1         40  0      1      0     \n",
       "2       1     0      0        0         25  0      1      0     \n",
       "3       2     1      1        1         28  0      0      0     \n",
       "4       3     1      0        1         27  0      0      0     \n",
       "5       4     1      1        1         24  0      0      0     \n",
       "6       5     1      1        1         25  0      1      0     \n",
       "7       6     1      0        1         30  0      1      0     \n",
       "8       7     1      1        1         25  0      1      0     \n",
       "9       8     1      1        1         30  0      1      0     \n",
       "10      9     0      0        1         24  0      0      0     \n",
       "11     10     0      0        1         25  0      1      0     \n",
       "12     11     1      1        1         34  0      1      0     \n",
       "13     12     0      0        1         26  0      1      0     \n",
       "14     13     1      1        1         28  0      0      0     \n",
       "15     14     0      1        1         33  0      1      1     \n",
       "16     15     1      0        1         33  0      0      0     \n",
       "17     16     1      1        1         21  0      0      0     \n",
       "18     17     0      0        1         23  0      1      0     \n",
       "19     18     0      0        0         23  0      0      0     \n",
       "20     19     0      1        1         28  0      0      0     \n",
       "21     20     1      1        1         22  0      0      1     \n",
       "22     21     1      1        1         38  0      1      0     \n",
       "23     22     0      0        1         28  0      1      0     \n",
       "24     23     1      0        1         27  0      0      0     \n",
       "25     24     1      1        1         28  0      1      0     \n",
       "26     25     0      0        1         32  0      0      0     \n",
       "27     26     1      1        1         37  0      1      1     \n",
       "28     27     1      1        1         28  0      1      0     \n",
       "29     28     1      1        1         27  0      1      0     \n",
       "30     29     0      1        1         31  0      1      0     \n",
       "...    ...    ...    ...      ...       ... ...    ...    ...   \n",
       "253651 253650 1      0        1         27  0      0      0     \n",
       "253652 253651 0      0        1         24  0      0      0     \n",
       "253653 253652 0      1        1         27  0      0      0     \n",
       "253654 253653 0      0        1         33  0      1      0     \n",
       "253655 253654 0      0        1         26  0      1      0     \n",
       "253656 253655 0      0        1         28  0      0      0     \n",
       "253657 253656 0      0        1         25  0      0      0     \n",
       "253658 253657 0      1        1         24  0      0      0     \n",
       "253659 253658 0      0        0         27  0      0      0     \n",
       "253660 253659 0      1        1         37  0      0      0     \n",
       "253661 253660 0      1        1         34  0      1      0     \n",
       "253662 253661 1      0        1         33  0      0      0     \n",
       "253663 253662 0      0        1         16  0      0      0     \n",
       "253664 253663 0      0        1         23  0      0      0     \n",
       "253665 253664 0      1        1         29  0      1      0     \n",
       "253666 253665 0      1        1         17  0      0      0     \n",
       "253667 253666 1      0        1         23  0      0      0     \n",
       "253668 253667 1      1        1         28  0      1      0     \n",
       "253669 253668 0      1        1         29  0      1      0     \n",
       "253670 253669 0      1        1         27  0      0      0     \n",
       "253671 253670 1      1        1         25  0      0      0     \n",
       "253672 253671 1      1        1         23  0      0      1     \n",
       "253673 253672 1      0        1         30  0      1      0     \n",
       "253674 253673 1      0        1         42  0      0      0     \n",
       "253675 253674 0      0        1         27  0      0      0     \n",
       "253676 253675 1      1        1         45  0      0      0     \n",
       "253677 253676 1      1        1         18  0      0      0     \n",
       "253678 253677 0      0        1         28  0      0      0     \n",
       "253679 253678 1      0        1         23  0      0      0     \n",
       "253680 253679 1      1        1         25  0      0      0     \n",
       "       HeartDiseaseorAttack PhysActivity ... NoDocbcCost GenHlth MentHlth\n",
       "1      0                    0            ... 0           5       18      \n",
       "2      0                    1            ... 1           3        0      \n",
       "3      0                    0            ... 1           5       30      \n",
       "4      0                    1            ... 0           2        0      \n",
       "5      0                    1            ... 0           2        3      \n",
       "6      0                    1            ... 0           2        0      \n",
       "7      0                    0            ... 0           3        0      \n",
       "8      0                    1            ... 0           3        0      \n",
       "9      1                    0            ... 0           5       30      \n",
       "10     0                    0            ... 0           2        0      \n",
       "11     0                    1            ... 0           3        0      \n",
       "12     0                    0            ... 0           3        0      \n",
       "13     0                    0            ... 0           3        0      \n",
       "14     0                    0            ... 0           4        0      \n",
       "15     0                    1            ... 1           4       30      \n",
       "16     0                    1            ... 0           2        5      \n",
       "17     0                    1            ... 0           3        0      \n",
       "18     0                    1            ... 0           2        0      \n",
       "19     0                    0            ... 0           2       15      \n",
       "20     0                    0            ... 0           2       10      \n",
       "21     1                    0            ... 0           3       30      \n",
       "22     0                    0            ... 0           5       15      \n",
       "23     0                    0            ... 0           3        0      \n",
       "24     0                    1            ... 0           1        0      \n",
       "25     0                    0            ... 0           3        6      \n",
       "26     0                    1            ... 0           2        0      \n",
       "27     1                    0            ... 0           5        0      \n",
       "28     1                    0            ... 0           4        0      \n",
       "29     0                    0            ... 0           4       20      \n",
       "30     0                    1            ... 0           1        0      \n",
       "...    ...                  ...              ...         ...     ...     \n",
       "253651 0                    1            ... 0           4        0      \n",
       "253652 0                    1            ... 1           1        0      \n",
       "253653 0                    1            ... 0           4        0      \n",
       "253654 0                    0            ... 0           4        0      \n",
       "253655 0                    1            ... 0           2        1      \n",
       "253656 0                    1            ... 0           2        0      \n",
       "253657 0                    1            ... 0           1        0      \n",
       "253658 0                    0            ... 0           3        0      \n",
       "253659 0                    1            ... 1           2        0      \n",
       "253660 0                    0            ... 0           4        0      \n",
       "253661 0                    0            ... 0           3        0      \n",
       "253662 0                    1            ... 1           3        0      \n",
       "253663 0                    1            ... 0           1        0      \n",
       "253664 0                    0            ... 1           2        0      \n",
       "253665 0                    0            ... 0           3        0      \n",
       "253666 0                    0            ... 1           4       30      \n",
       "253667 0                    0            ... 0           3        0      \n",
       "253668 0                    0            ... 0           3        0      \n",
       "253669 1                    0            ... 0           2        0      \n",
       "253670 0                    0            ... 1           1        0      \n",
       "253671 1                    0            ... 0           5       15      \n",
       "253672 1                    0            ... 1           4        0      \n",
       "253673 1                    1            ... 0           3        0      \n",
       "253674 0                    1            ... 0           3       14      \n",
       "253675 0                    0            ... 0           1        0      \n",
       "253676 0                    0            ... 0           3        0      \n",
       "253677 0                    0            ... 0           4        0      \n",
       "253678 0                    1            ... 0           1        0      \n",
       "253679 0                    0            ... 0           3        0      \n",
       "253680 1                    1            ... 0           2        0      \n",
       "       PhysHlth DiffWalk Sex Age Education Income Diabetes_binary\n",
       "1      15       1        0    9  4         3      0              \n",
       "2       0       0        0    7  6         1      0              \n",
       "3      30       1        0    9  4         8      0              \n",
       "4       0       0        0   11  3         6      0              \n",
       "5       0       0        0   11  5         4      0              \n",
       "6       2       0        1   10  6         8      0              \n",
       "7      14       0        0    9  6         7      0              \n",
       "8       0       1        0   11  4         4      0              \n",
       "9      30       1        0    9  5         1      1              \n",
       "10      0       0        1    8  4         3      0              \n",
       "11      0       0        1   13  6         8      1              \n",
       "12     30       1        0   10  5         1      0              \n",
       "13     15       0        0    7  5         7      0              \n",
       "14      0       1        0   11  4         6      1              \n",
       "15     28       0        0    4  6         2      0              \n",
       "16      0       0        0    6  6         8      0              \n",
       "17      0       0        0   10  4         3      0              \n",
       "18      0       0        1    7  5         6      1              \n",
       "19      0       0        0    2  6         7      0              \n",
       "20      0       0        1    4  6         8      0              \n",
       "21      0       1        0   12  4         4      0              \n",
       "22     30       1        0   13  2         3      0              \n",
       "23      7       0        1    5  5         5      0              \n",
       "24      0       0        0   13  5         4      1              \n",
       "25      0       1        0    9  4         6      0              \n",
       "26      0       0        0    5  6         8      0              \n",
       "27      0       1        1   10  6         5      1              \n",
       "28      0       0        1   12  2         4      1              \n",
       "29     20       1        0    8  4         7      1              \n",
       "30      0       0        1   12  6         8      0              \n",
       "...    ...      ...      ... ... ...       ...    ...            \n",
       "253651  0       0        0    5  4         2      0              \n",
       "253652  0       0        1    2  6         3      0              \n",
       "253653 30       0        1   11  2         3      1              \n",
       "253654 15       0        1   10  6         3      0              \n",
       "253655  0       0        1    3  3         1      0              \n",
       "253656  0       0        0    2  6         4      0              \n",
       "253657  0       0        0    4  6         8      0              \n",
       "253658  0       0        0    7  5         3      0              \n",
       "253659  0       0        0    3  6         5      0              \n",
       "253660  0       0        0    6  4         1      1              \n",
       "253661  2       1        0    7  4         3      0              \n",
       "253662  2       1        0    6  6         6      0              \n",
       "253663  0       0        0    5  6         2      0              \n",
       "253664 30       0        0    5  6         2      0              \n",
       "253665  0       0        0    6  6         4      0              \n",
       "253666 30       0        0    5  4         1      0              \n",
       "253667 15       0        0    6  5         2      0              \n",
       "253668  0       0        0   11  4         7      0              \n",
       "253669  0       1        1   10  3         6      1              \n",
       "253670  3       0        1    6  2         4      0              \n",
       "253671  0       1        0   13  6         4      1              \n",
       "253672  5       0        1    8  3         2      0              \n",
       "253673  0       0        1   12  2         1      0              \n",
       "253674  4       0        1    3  6         8      0              \n",
       "253675  0       0        0    3  6         5      0              \n",
       "253676  5       0        1    5  6         7      0              \n",
       "253677  0       1        0   11  2         4      1              \n",
       "253678  0       0        0    2  5         2      0              \n",
       "253679  0       0        1    7  5         1      0              \n",
       "253680  0       0        0    9  6         2      1              "
      ]
     },
     "metadata": {},
     "output_type": "display_data"
    }
   ],
   "source": [
    "df_std_1"
   ]
  },
  {
   "cell_type": "code",
   "execution_count": 65,
   "id": "6956f4ef-327a-480f-b74c-5d7f32216a68",
   "metadata": {},
   "outputs": [],
   "source": [
    "df_std_1[df_std_1$BMI < 18.5, ]$StdBMI = 1\n",
    "df_std_1[df_std_1$BMI >= 18.5 & df_std_1$BMI < 25, ]$StdBMI = 2\n",
    "df_std_1[df_std_1$BMI >= 25 & df_std_1$BMI < 30, ]$StdBMI = 3\n",
    "df_std_1[df_std_1$BMI >= 30 & df_std_1$BMI < 35, ]$StdBMI = 4\n",
    "df_std_1[df_std_1$BMI >= 35 & df_std_1$BMI < 40, ]$StdBMI = 5\n",
    "df_std_1[df_std_1$BMI >= 40, ]$StdBMI = 6"
   ]
  },
  {
   "cell_type": "code",
   "execution_count": 66,
   "id": "023e99cb-972f-4f7c-9cf8-f69ccdf4e6cf",
   "metadata": {
    "scrolled": true
   },
   "outputs": [
    {
     "data": {
      "text/html": [
       "<table class=\"dataframe\">\n",
       "<caption>A data.frame: 253680 × 24</caption>\n",
       "<thead>\n",
       "\t<tr><th scope=col>Index</th><th scope=col>HighBP</th><th scope=col>HighChol</th><th scope=col>CholCheck</th><th scope=col>BMI</th><th scope=col>StdBMI</th><th scope=col>Smoker</th><th scope=col>Stroke</th><th scope=col>HeartDiseaseorAttack</th><th scope=col>PhysActivity</th><th scope=col>...</th><th scope=col>NoDocbcCost</th><th scope=col>GenHlth</th><th scope=col>MentHlth</th><th scope=col>PhysHlth</th><th scope=col>DiffWalk</th><th scope=col>Sex</th><th scope=col>Age</th><th scope=col>Education</th><th scope=col>Income</th><th scope=col>Diabetes_binary</th></tr>\n",
       "\t<tr><th scope=col>&lt;int&gt;</th><th scope=col>&lt;int&gt;</th><th scope=col>&lt;int&gt;</th><th scope=col>&lt;int&gt;</th><th scope=col>&lt;int&gt;</th><th scope=col>&lt;dbl&gt;</th><th scope=col>&lt;int&gt;</th><th scope=col>&lt;int&gt;</th><th scope=col>&lt;int&gt;</th><th scope=col>&lt;int&gt;</th><th scope=col>...</th><th scope=col>&lt;int&gt;</th><th scope=col>&lt;int&gt;</th><th scope=col>&lt;int&gt;</th><th scope=col>&lt;int&gt;</th><th scope=col>&lt;int&gt;</th><th scope=col>&lt;int&gt;</th><th scope=col>&lt;int&gt;</th><th scope=col>&lt;int&gt;</th><th scope=col>&lt;int&gt;</th><th scope=col>&lt;int&gt;</th></tr>\n",
       "</thead>\n",
       "<tbody>\n",
       "\t<tr><td> 0</td><td>1</td><td>1</td><td>1</td><td>40</td><td>6</td><td>1</td><td>0</td><td>0</td><td>0</td><td>...</td><td>0</td><td>5</td><td>18</td><td>15</td><td>1</td><td>0</td><td> 9</td><td>4</td><td>3</td><td>0</td></tr>\n",
       "\t<tr><td> 1</td><td>0</td><td>0</td><td>0</td><td>25</td><td>3</td><td>1</td><td>0</td><td>0</td><td>1</td><td>...</td><td>1</td><td>3</td><td> 0</td><td> 0</td><td>0</td><td>0</td><td> 7</td><td>6</td><td>1</td><td>0</td></tr>\n",
       "\t<tr><td> 2</td><td>1</td><td>1</td><td>1</td><td>28</td><td>3</td><td>0</td><td>0</td><td>0</td><td>0</td><td>...</td><td>1</td><td>5</td><td>30</td><td>30</td><td>1</td><td>0</td><td> 9</td><td>4</td><td>8</td><td>0</td></tr>\n",
       "\t<tr><td> 3</td><td>1</td><td>0</td><td>1</td><td>27</td><td>3</td><td>0</td><td>0</td><td>0</td><td>1</td><td>...</td><td>0</td><td>2</td><td> 0</td><td> 0</td><td>0</td><td>0</td><td>11</td><td>3</td><td>6</td><td>0</td></tr>\n",
       "\t<tr><td> 4</td><td>1</td><td>1</td><td>1</td><td>24</td><td>2</td><td>0</td><td>0</td><td>0</td><td>1</td><td>...</td><td>0</td><td>2</td><td> 3</td><td> 0</td><td>0</td><td>0</td><td>11</td><td>5</td><td>4</td><td>0</td></tr>\n",
       "\t<tr><td> 5</td><td>1</td><td>1</td><td>1</td><td>25</td><td>3</td><td>1</td><td>0</td><td>0</td><td>1</td><td>...</td><td>0</td><td>2</td><td> 0</td><td> 2</td><td>0</td><td>1</td><td>10</td><td>6</td><td>8</td><td>0</td></tr>\n",
       "\t<tr><td> 6</td><td>1</td><td>0</td><td>1</td><td>30</td><td>4</td><td>1</td><td>0</td><td>0</td><td>0</td><td>...</td><td>0</td><td>3</td><td> 0</td><td>14</td><td>0</td><td>0</td><td> 9</td><td>6</td><td>7</td><td>0</td></tr>\n",
       "\t<tr><td> 7</td><td>1</td><td>1</td><td>1</td><td>25</td><td>3</td><td>1</td><td>0</td><td>0</td><td>1</td><td>...</td><td>0</td><td>3</td><td> 0</td><td> 0</td><td>1</td><td>0</td><td>11</td><td>4</td><td>4</td><td>0</td></tr>\n",
       "\t<tr><td> 8</td><td>1</td><td>1</td><td>1</td><td>30</td><td>4</td><td>1</td><td>0</td><td>1</td><td>0</td><td>...</td><td>0</td><td>5</td><td>30</td><td>30</td><td>1</td><td>0</td><td> 9</td><td>5</td><td>1</td><td>1</td></tr>\n",
       "\t<tr><td> 9</td><td>0</td><td>0</td><td>1</td><td>24</td><td>2</td><td>0</td><td>0</td><td>0</td><td>0</td><td>...</td><td>0</td><td>2</td><td> 0</td><td> 0</td><td>0</td><td>1</td><td> 8</td><td>4</td><td>3</td><td>0</td></tr>\n",
       "\t<tr><td>10</td><td>0</td><td>0</td><td>1</td><td>25</td><td>3</td><td>1</td><td>0</td><td>0</td><td>1</td><td>...</td><td>0</td><td>3</td><td> 0</td><td> 0</td><td>0</td><td>1</td><td>13</td><td>6</td><td>8</td><td>1</td></tr>\n",
       "\t<tr><td>11</td><td>1</td><td>1</td><td>1</td><td>34</td><td>4</td><td>1</td><td>0</td><td>0</td><td>0</td><td>...</td><td>0</td><td>3</td><td> 0</td><td>30</td><td>1</td><td>0</td><td>10</td><td>5</td><td>1</td><td>0</td></tr>\n",
       "\t<tr><td>12</td><td>0</td><td>0</td><td>1</td><td>26</td><td>3</td><td>1</td><td>0</td><td>0</td><td>0</td><td>...</td><td>0</td><td>3</td><td> 0</td><td>15</td><td>0</td><td>0</td><td> 7</td><td>5</td><td>7</td><td>0</td></tr>\n",
       "\t<tr><td>13</td><td>1</td><td>1</td><td>1</td><td>28</td><td>3</td><td>0</td><td>0</td><td>0</td><td>0</td><td>...</td><td>0</td><td>4</td><td> 0</td><td> 0</td><td>1</td><td>0</td><td>11</td><td>4</td><td>6</td><td>1</td></tr>\n",
       "\t<tr><td>14</td><td>0</td><td>1</td><td>1</td><td>33</td><td>4</td><td>1</td><td>1</td><td>0</td><td>1</td><td>...</td><td>1</td><td>4</td><td>30</td><td>28</td><td>0</td><td>0</td><td> 4</td><td>6</td><td>2</td><td>0</td></tr>\n",
       "\t<tr><td>15</td><td>1</td><td>0</td><td>1</td><td>33</td><td>4</td><td>0</td><td>0</td><td>0</td><td>1</td><td>...</td><td>0</td><td>2</td><td> 5</td><td> 0</td><td>0</td><td>0</td><td> 6</td><td>6</td><td>8</td><td>0</td></tr>\n",
       "\t<tr><td>16</td><td>1</td><td>1</td><td>1</td><td>21</td><td>2</td><td>0</td><td>0</td><td>0</td><td>1</td><td>...</td><td>0</td><td>3</td><td> 0</td><td> 0</td><td>0</td><td>0</td><td>10</td><td>4</td><td>3</td><td>0</td></tr>\n",
       "\t<tr><td>17</td><td>0</td><td>0</td><td>1</td><td>23</td><td>2</td><td>1</td><td>0</td><td>0</td><td>1</td><td>...</td><td>0</td><td>2</td><td> 0</td><td> 0</td><td>0</td><td>1</td><td> 7</td><td>5</td><td>6</td><td>1</td></tr>\n",
       "\t<tr><td>18</td><td>0</td><td>0</td><td>0</td><td>23</td><td>2</td><td>0</td><td>0</td><td>0</td><td>0</td><td>...</td><td>0</td><td>2</td><td>15</td><td> 0</td><td>0</td><td>0</td><td> 2</td><td>6</td><td>7</td><td>0</td></tr>\n",
       "\t<tr><td>19</td><td>0</td><td>1</td><td>1</td><td>28</td><td>3</td><td>0</td><td>0</td><td>0</td><td>0</td><td>...</td><td>0</td><td>2</td><td>10</td><td> 0</td><td>0</td><td>1</td><td> 4</td><td>6</td><td>8</td><td>0</td></tr>\n",
       "\t<tr><td>20</td><td>1</td><td>1</td><td>1</td><td>22</td><td>2</td><td>0</td><td>1</td><td>1</td><td>0</td><td>...</td><td>0</td><td>3</td><td>30</td><td> 0</td><td>1</td><td>0</td><td>12</td><td>4</td><td>4</td><td>0</td></tr>\n",
       "\t<tr><td>21</td><td>1</td><td>1</td><td>1</td><td>38</td><td>5</td><td>1</td><td>0</td><td>0</td><td>0</td><td>...</td><td>0</td><td>5</td><td>15</td><td>30</td><td>1</td><td>0</td><td>13</td><td>2</td><td>3</td><td>0</td></tr>\n",
       "\t<tr><td>22</td><td>0</td><td>0</td><td>1</td><td>28</td><td>3</td><td>1</td><td>0</td><td>0</td><td>0</td><td>...</td><td>0</td><td>3</td><td> 0</td><td> 7</td><td>0</td><td>1</td><td> 5</td><td>5</td><td>5</td><td>0</td></tr>\n",
       "\t<tr><td>23</td><td>1</td><td>0</td><td>1</td><td>27</td><td>3</td><td>0</td><td>0</td><td>0</td><td>1</td><td>...</td><td>0</td><td>1</td><td> 0</td><td> 0</td><td>0</td><td>0</td><td>13</td><td>5</td><td>4</td><td>1</td></tr>\n",
       "\t<tr><td>24</td><td>1</td><td>1</td><td>1</td><td>28</td><td>3</td><td>1</td><td>0</td><td>0</td><td>0</td><td>...</td><td>0</td><td>3</td><td> 6</td><td> 0</td><td>1</td><td>0</td><td> 9</td><td>4</td><td>6</td><td>0</td></tr>\n",
       "\t<tr><td>25</td><td>0</td><td>0</td><td>1</td><td>32</td><td>4</td><td>0</td><td>0</td><td>0</td><td>1</td><td>...</td><td>0</td><td>2</td><td> 0</td><td> 0</td><td>0</td><td>0</td><td> 5</td><td>6</td><td>8</td><td>0</td></tr>\n",
       "\t<tr><td>26</td><td>1</td><td>1</td><td>1</td><td>37</td><td>5</td><td>1</td><td>1</td><td>1</td><td>0</td><td>...</td><td>0</td><td>5</td><td> 0</td><td> 0</td><td>1</td><td>1</td><td>10</td><td>6</td><td>5</td><td>1</td></tr>\n",
       "\t<tr><td>27</td><td>1</td><td>1</td><td>1</td><td>28</td><td>3</td><td>1</td><td>0</td><td>1</td><td>0</td><td>...</td><td>0</td><td>4</td><td> 0</td><td> 0</td><td>0</td><td>1</td><td>12</td><td>2</td><td>4</td><td>1</td></tr>\n",
       "\t<tr><td>28</td><td>1</td><td>1</td><td>1</td><td>27</td><td>3</td><td>1</td><td>0</td><td>0</td><td>0</td><td>...</td><td>0</td><td>4</td><td>20</td><td>20</td><td>1</td><td>0</td><td> 8</td><td>4</td><td>7</td><td>1</td></tr>\n",
       "\t<tr><td>29</td><td>0</td><td>1</td><td>1</td><td>31</td><td>4</td><td>1</td><td>0</td><td>0</td><td>1</td><td>...</td><td>0</td><td>1</td><td> 0</td><td> 0</td><td>0</td><td>1</td><td>12</td><td>6</td><td>8</td><td>0</td></tr>\n",
       "\t<tr><td>...</td><td>...</td><td>...</td><td>...</td><td>...</td><td>...</td><td>...</td><td>...</td><td>...</td><td>...</td><td></td><td>...</td><td>...</td><td>...</td><td>...</td><td>...</td><td>...</td><td>...</td><td>...</td><td>...</td><td>...</td></tr>\n",
       "\t<tr><td>253650</td><td>1</td><td>0</td><td>1</td><td>27</td><td>3</td><td>0</td><td>0</td><td>0</td><td>1</td><td>...</td><td>0</td><td>4</td><td> 0</td><td> 0</td><td>0</td><td>0</td><td> 5</td><td>4</td><td>2</td><td>0</td></tr>\n",
       "\t<tr><td>253651</td><td>0</td><td>0</td><td>1</td><td>24</td><td>2</td><td>0</td><td>0</td><td>0</td><td>1</td><td>...</td><td>1</td><td>1</td><td> 0</td><td> 0</td><td>0</td><td>1</td><td> 2</td><td>6</td><td>3</td><td>0</td></tr>\n",
       "\t<tr><td>253652</td><td>0</td><td>1</td><td>1</td><td>27</td><td>3</td><td>0</td><td>0</td><td>0</td><td>1</td><td>...</td><td>0</td><td>4</td><td> 0</td><td>30</td><td>0</td><td>1</td><td>11</td><td>2</td><td>3</td><td>1</td></tr>\n",
       "\t<tr><td>253653</td><td>0</td><td>0</td><td>1</td><td>33</td><td>4</td><td>1</td><td>0</td><td>0</td><td>0</td><td>...</td><td>0</td><td>4</td><td> 0</td><td>15</td><td>0</td><td>1</td><td>10</td><td>6</td><td>3</td><td>0</td></tr>\n",
       "\t<tr><td>253654</td><td>0</td><td>0</td><td>1</td><td>26</td><td>3</td><td>1</td><td>0</td><td>0</td><td>1</td><td>...</td><td>0</td><td>2</td><td> 1</td><td> 0</td><td>0</td><td>1</td><td> 3</td><td>3</td><td>1</td><td>0</td></tr>\n",
       "\t<tr><td>253655</td><td>0</td><td>0</td><td>1</td><td>28</td><td>3</td><td>0</td><td>0</td><td>0</td><td>1</td><td>...</td><td>0</td><td>2</td><td> 0</td><td> 0</td><td>0</td><td>0</td><td> 2</td><td>6</td><td>4</td><td>0</td></tr>\n",
       "\t<tr><td>253656</td><td>0</td><td>0</td><td>1</td><td>25</td><td>3</td><td>0</td><td>0</td><td>0</td><td>1</td><td>...</td><td>0</td><td>1</td><td> 0</td><td> 0</td><td>0</td><td>0</td><td> 4</td><td>6</td><td>8</td><td>0</td></tr>\n",
       "\t<tr><td>253657</td><td>0</td><td>1</td><td>1</td><td>24</td><td>2</td><td>0</td><td>0</td><td>0</td><td>0</td><td>...</td><td>0</td><td>3</td><td> 0</td><td> 0</td><td>0</td><td>0</td><td> 7</td><td>5</td><td>3</td><td>0</td></tr>\n",
       "\t<tr><td>253658</td><td>0</td><td>0</td><td>0</td><td>27</td><td>3</td><td>0</td><td>0</td><td>0</td><td>1</td><td>...</td><td>1</td><td>2</td><td> 0</td><td> 0</td><td>0</td><td>0</td><td> 3</td><td>6</td><td>5</td><td>0</td></tr>\n",
       "\t<tr><td>253659</td><td>0</td><td>1</td><td>1</td><td>37</td><td>5</td><td>0</td><td>0</td><td>0</td><td>0</td><td>...</td><td>0</td><td>4</td><td> 0</td><td> 0</td><td>0</td><td>0</td><td> 6</td><td>4</td><td>1</td><td>1</td></tr>\n",
       "\t<tr><td>253660</td><td>0</td><td>1</td><td>1</td><td>34</td><td>4</td><td>1</td><td>0</td><td>0</td><td>0</td><td>...</td><td>0</td><td>3</td><td> 0</td><td> 2</td><td>1</td><td>0</td><td> 7</td><td>4</td><td>3</td><td>0</td></tr>\n",
       "\t<tr><td>253661</td><td>1</td><td>0</td><td>1</td><td>33</td><td>4</td><td>0</td><td>0</td><td>0</td><td>1</td><td>...</td><td>1</td><td>3</td><td> 0</td><td> 2</td><td>1</td><td>0</td><td> 6</td><td>6</td><td>6</td><td>0</td></tr>\n",
       "\t<tr><td>253662</td><td>0</td><td>0</td><td>1</td><td>16</td><td>1</td><td>0</td><td>0</td><td>0</td><td>1</td><td>...</td><td>0</td><td>1</td><td> 0</td><td> 0</td><td>0</td><td>0</td><td> 5</td><td>6</td><td>2</td><td>0</td></tr>\n",
       "\t<tr><td>253663</td><td>0</td><td>0</td><td>1</td><td>23</td><td>2</td><td>0</td><td>0</td><td>0</td><td>0</td><td>...</td><td>1</td><td>2</td><td> 0</td><td>30</td><td>0</td><td>0</td><td> 5</td><td>6</td><td>2</td><td>0</td></tr>\n",
       "\t<tr><td>253664</td><td>0</td><td>1</td><td>1</td><td>29</td><td>3</td><td>1</td><td>0</td><td>0</td><td>0</td><td>...</td><td>0</td><td>3</td><td> 0</td><td> 0</td><td>0</td><td>0</td><td> 6</td><td>6</td><td>4</td><td>0</td></tr>\n",
       "\t<tr><td>253665</td><td>0</td><td>1</td><td>1</td><td>17</td><td>1</td><td>0</td><td>0</td><td>0</td><td>0</td><td>...</td><td>1</td><td>4</td><td>30</td><td>30</td><td>0</td><td>0</td><td> 5</td><td>4</td><td>1</td><td>0</td></tr>\n",
       "\t<tr><td>253666</td><td>1</td><td>0</td><td>1</td><td>23</td><td>2</td><td>0</td><td>0</td><td>0</td><td>0</td><td>...</td><td>0</td><td>3</td><td> 0</td><td>15</td><td>0</td><td>0</td><td> 6</td><td>5</td><td>2</td><td>0</td></tr>\n",
       "\t<tr><td>253667</td><td>1</td><td>1</td><td>1</td><td>28</td><td>3</td><td>1</td><td>0</td><td>0</td><td>0</td><td>...</td><td>0</td><td>3</td><td> 0</td><td> 0</td><td>0</td><td>0</td><td>11</td><td>4</td><td>7</td><td>0</td></tr>\n",
       "\t<tr><td>253668</td><td>0</td><td>1</td><td>1</td><td>29</td><td>3</td><td>1</td><td>0</td><td>1</td><td>0</td><td>...</td><td>0</td><td>2</td><td> 0</td><td> 0</td><td>1</td><td>1</td><td>10</td><td>3</td><td>6</td><td>1</td></tr>\n",
       "\t<tr><td>253669</td><td>0</td><td>1</td><td>1</td><td>27</td><td>3</td><td>0</td><td>0</td><td>0</td><td>0</td><td>...</td><td>1</td><td>1</td><td> 0</td><td> 3</td><td>0</td><td>1</td><td> 6</td><td>2</td><td>4</td><td>0</td></tr>\n",
       "\t<tr><td>253670</td><td>1</td><td>1</td><td>1</td><td>25</td><td>3</td><td>0</td><td>0</td><td>1</td><td>0</td><td>...</td><td>0</td><td>5</td><td>15</td><td> 0</td><td>1</td><td>0</td><td>13</td><td>6</td><td>4</td><td>1</td></tr>\n",
       "\t<tr><td>253671</td><td>1</td><td>1</td><td>1</td><td>23</td><td>2</td><td>0</td><td>1</td><td>1</td><td>0</td><td>...</td><td>1</td><td>4</td><td> 0</td><td> 5</td><td>0</td><td>1</td><td> 8</td><td>3</td><td>2</td><td>0</td></tr>\n",
       "\t<tr><td>253672</td><td>1</td><td>0</td><td>1</td><td>30</td><td>4</td><td>1</td><td>0</td><td>1</td><td>1</td><td>...</td><td>0</td><td>3</td><td> 0</td><td> 0</td><td>0</td><td>1</td><td>12</td><td>2</td><td>1</td><td>0</td></tr>\n",
       "\t<tr><td>253673</td><td>1</td><td>0</td><td>1</td><td>42</td><td>6</td><td>0</td><td>0</td><td>0</td><td>1</td><td>...</td><td>0</td><td>3</td><td>14</td><td> 4</td><td>0</td><td>1</td><td> 3</td><td>6</td><td>8</td><td>0</td></tr>\n",
       "\t<tr><td>253674</td><td>0</td><td>0</td><td>1</td><td>27</td><td>3</td><td>0</td><td>0</td><td>0</td><td>0</td><td>...</td><td>0</td><td>1</td><td> 0</td><td> 0</td><td>0</td><td>0</td><td> 3</td><td>6</td><td>5</td><td>0</td></tr>\n",
       "\t<tr><td>253675</td><td>1</td><td>1</td><td>1</td><td>45</td><td>6</td><td>0</td><td>0</td><td>0</td><td>0</td><td>...</td><td>0</td><td>3</td><td> 0</td><td> 5</td><td>0</td><td>1</td><td> 5</td><td>6</td><td>7</td><td>0</td></tr>\n",
       "\t<tr><td>253676</td><td>1</td><td>1</td><td>1</td><td>18</td><td>1</td><td>0</td><td>0</td><td>0</td><td>0</td><td>...</td><td>0</td><td>4</td><td> 0</td><td> 0</td><td>1</td><td>0</td><td>11</td><td>2</td><td>4</td><td>1</td></tr>\n",
       "\t<tr><td>253677</td><td>0</td><td>0</td><td>1</td><td>28</td><td>3</td><td>0</td><td>0</td><td>0</td><td>1</td><td>...</td><td>0</td><td>1</td><td> 0</td><td> 0</td><td>0</td><td>0</td><td> 2</td><td>5</td><td>2</td><td>0</td></tr>\n",
       "\t<tr><td>253678</td><td>1</td><td>0</td><td>1</td><td>23</td><td>2</td><td>0</td><td>0</td><td>0</td><td>0</td><td>...</td><td>0</td><td>3</td><td> 0</td><td> 0</td><td>0</td><td>1</td><td> 7</td><td>5</td><td>1</td><td>0</td></tr>\n",
       "\t<tr><td>253679</td><td>1</td><td>1</td><td>1</td><td>25</td><td>3</td><td>0</td><td>0</td><td>1</td><td>1</td><td>...</td><td>0</td><td>2</td><td> 0</td><td> 0</td><td>0</td><td>0</td><td> 9</td><td>6</td><td>2</td><td>1</td></tr>\n",
       "</tbody>\n",
       "</table>\n"
      ],
      "text/latex": [
       "A data.frame: 253680 × 24\n",
       "\\begin{tabular}{lllllllllllllllllllll}\n",
       " Index & HighBP & HighChol & CholCheck & BMI & StdBMI & Smoker & Stroke & HeartDiseaseorAttack & PhysActivity & ... & NoDocbcCost & GenHlth & MentHlth & PhysHlth & DiffWalk & Sex & Age & Education & Income & Diabetes\\_binary\\\\\n",
       " <int> & <int> & <int> & <int> & <int> & <dbl> & <int> & <int> & <int> & <int> & ... & <int> & <int> & <int> & <int> & <int> & <int> & <int> & <int> & <int> & <int>\\\\\n",
       "\\hline\n",
       "\t  0 & 1 & 1 & 1 & 40 & 6 & 1 & 0 & 0 & 0 & ... & 0 & 5 & 18 & 15 & 1 & 0 &  9 & 4 & 3 & 0\\\\\n",
       "\t  1 & 0 & 0 & 0 & 25 & 3 & 1 & 0 & 0 & 1 & ... & 1 & 3 &  0 &  0 & 0 & 0 &  7 & 6 & 1 & 0\\\\\n",
       "\t  2 & 1 & 1 & 1 & 28 & 3 & 0 & 0 & 0 & 0 & ... & 1 & 5 & 30 & 30 & 1 & 0 &  9 & 4 & 8 & 0\\\\\n",
       "\t  3 & 1 & 0 & 1 & 27 & 3 & 0 & 0 & 0 & 1 & ... & 0 & 2 &  0 &  0 & 0 & 0 & 11 & 3 & 6 & 0\\\\\n",
       "\t  4 & 1 & 1 & 1 & 24 & 2 & 0 & 0 & 0 & 1 & ... & 0 & 2 &  3 &  0 & 0 & 0 & 11 & 5 & 4 & 0\\\\\n",
       "\t  5 & 1 & 1 & 1 & 25 & 3 & 1 & 0 & 0 & 1 & ... & 0 & 2 &  0 &  2 & 0 & 1 & 10 & 6 & 8 & 0\\\\\n",
       "\t  6 & 1 & 0 & 1 & 30 & 4 & 1 & 0 & 0 & 0 & ... & 0 & 3 &  0 & 14 & 0 & 0 &  9 & 6 & 7 & 0\\\\\n",
       "\t  7 & 1 & 1 & 1 & 25 & 3 & 1 & 0 & 0 & 1 & ... & 0 & 3 &  0 &  0 & 1 & 0 & 11 & 4 & 4 & 0\\\\\n",
       "\t  8 & 1 & 1 & 1 & 30 & 4 & 1 & 0 & 1 & 0 & ... & 0 & 5 & 30 & 30 & 1 & 0 &  9 & 5 & 1 & 1\\\\\n",
       "\t  9 & 0 & 0 & 1 & 24 & 2 & 0 & 0 & 0 & 0 & ... & 0 & 2 &  0 &  0 & 0 & 1 &  8 & 4 & 3 & 0\\\\\n",
       "\t 10 & 0 & 0 & 1 & 25 & 3 & 1 & 0 & 0 & 1 & ... & 0 & 3 &  0 &  0 & 0 & 1 & 13 & 6 & 8 & 1\\\\\n",
       "\t 11 & 1 & 1 & 1 & 34 & 4 & 1 & 0 & 0 & 0 & ... & 0 & 3 &  0 & 30 & 1 & 0 & 10 & 5 & 1 & 0\\\\\n",
       "\t 12 & 0 & 0 & 1 & 26 & 3 & 1 & 0 & 0 & 0 & ... & 0 & 3 &  0 & 15 & 0 & 0 &  7 & 5 & 7 & 0\\\\\n",
       "\t 13 & 1 & 1 & 1 & 28 & 3 & 0 & 0 & 0 & 0 & ... & 0 & 4 &  0 &  0 & 1 & 0 & 11 & 4 & 6 & 1\\\\\n",
       "\t 14 & 0 & 1 & 1 & 33 & 4 & 1 & 1 & 0 & 1 & ... & 1 & 4 & 30 & 28 & 0 & 0 &  4 & 6 & 2 & 0\\\\\n",
       "\t 15 & 1 & 0 & 1 & 33 & 4 & 0 & 0 & 0 & 1 & ... & 0 & 2 &  5 &  0 & 0 & 0 &  6 & 6 & 8 & 0\\\\\n",
       "\t 16 & 1 & 1 & 1 & 21 & 2 & 0 & 0 & 0 & 1 & ... & 0 & 3 &  0 &  0 & 0 & 0 & 10 & 4 & 3 & 0\\\\\n",
       "\t 17 & 0 & 0 & 1 & 23 & 2 & 1 & 0 & 0 & 1 & ... & 0 & 2 &  0 &  0 & 0 & 1 &  7 & 5 & 6 & 1\\\\\n",
       "\t 18 & 0 & 0 & 0 & 23 & 2 & 0 & 0 & 0 & 0 & ... & 0 & 2 & 15 &  0 & 0 & 0 &  2 & 6 & 7 & 0\\\\\n",
       "\t 19 & 0 & 1 & 1 & 28 & 3 & 0 & 0 & 0 & 0 & ... & 0 & 2 & 10 &  0 & 0 & 1 &  4 & 6 & 8 & 0\\\\\n",
       "\t 20 & 1 & 1 & 1 & 22 & 2 & 0 & 1 & 1 & 0 & ... & 0 & 3 & 30 &  0 & 1 & 0 & 12 & 4 & 4 & 0\\\\\n",
       "\t 21 & 1 & 1 & 1 & 38 & 5 & 1 & 0 & 0 & 0 & ... & 0 & 5 & 15 & 30 & 1 & 0 & 13 & 2 & 3 & 0\\\\\n",
       "\t 22 & 0 & 0 & 1 & 28 & 3 & 1 & 0 & 0 & 0 & ... & 0 & 3 &  0 &  7 & 0 & 1 &  5 & 5 & 5 & 0\\\\\n",
       "\t 23 & 1 & 0 & 1 & 27 & 3 & 0 & 0 & 0 & 1 & ... & 0 & 1 &  0 &  0 & 0 & 0 & 13 & 5 & 4 & 1\\\\\n",
       "\t 24 & 1 & 1 & 1 & 28 & 3 & 1 & 0 & 0 & 0 & ... & 0 & 3 &  6 &  0 & 1 & 0 &  9 & 4 & 6 & 0\\\\\n",
       "\t 25 & 0 & 0 & 1 & 32 & 4 & 0 & 0 & 0 & 1 & ... & 0 & 2 &  0 &  0 & 0 & 0 &  5 & 6 & 8 & 0\\\\\n",
       "\t 26 & 1 & 1 & 1 & 37 & 5 & 1 & 1 & 1 & 0 & ... & 0 & 5 &  0 &  0 & 1 & 1 & 10 & 6 & 5 & 1\\\\\n",
       "\t 27 & 1 & 1 & 1 & 28 & 3 & 1 & 0 & 1 & 0 & ... & 0 & 4 &  0 &  0 & 0 & 1 & 12 & 2 & 4 & 1\\\\\n",
       "\t 28 & 1 & 1 & 1 & 27 & 3 & 1 & 0 & 0 & 0 & ... & 0 & 4 & 20 & 20 & 1 & 0 &  8 & 4 & 7 & 1\\\\\n",
       "\t 29 & 0 & 1 & 1 & 31 & 4 & 1 & 0 & 0 & 1 & ... & 0 & 1 &  0 &  0 & 0 & 1 & 12 & 6 & 8 & 0\\\\\n",
       "\t ... & ... & ... & ... & ... & ... & ... & ... & ... & ... &  & ... & ... & ... & ... & ... & ... & ... & ... & ... & ...\\\\\n",
       "\t 253650 & 1 & 0 & 1 & 27 & 3 & 0 & 0 & 0 & 1 & ... & 0 & 4 &  0 &  0 & 0 & 0 &  5 & 4 & 2 & 0\\\\\n",
       "\t 253651 & 0 & 0 & 1 & 24 & 2 & 0 & 0 & 0 & 1 & ... & 1 & 1 &  0 &  0 & 0 & 1 &  2 & 6 & 3 & 0\\\\\n",
       "\t 253652 & 0 & 1 & 1 & 27 & 3 & 0 & 0 & 0 & 1 & ... & 0 & 4 &  0 & 30 & 0 & 1 & 11 & 2 & 3 & 1\\\\\n",
       "\t 253653 & 0 & 0 & 1 & 33 & 4 & 1 & 0 & 0 & 0 & ... & 0 & 4 &  0 & 15 & 0 & 1 & 10 & 6 & 3 & 0\\\\\n",
       "\t 253654 & 0 & 0 & 1 & 26 & 3 & 1 & 0 & 0 & 1 & ... & 0 & 2 &  1 &  0 & 0 & 1 &  3 & 3 & 1 & 0\\\\\n",
       "\t 253655 & 0 & 0 & 1 & 28 & 3 & 0 & 0 & 0 & 1 & ... & 0 & 2 &  0 &  0 & 0 & 0 &  2 & 6 & 4 & 0\\\\\n",
       "\t 253656 & 0 & 0 & 1 & 25 & 3 & 0 & 0 & 0 & 1 & ... & 0 & 1 &  0 &  0 & 0 & 0 &  4 & 6 & 8 & 0\\\\\n",
       "\t 253657 & 0 & 1 & 1 & 24 & 2 & 0 & 0 & 0 & 0 & ... & 0 & 3 &  0 &  0 & 0 & 0 &  7 & 5 & 3 & 0\\\\\n",
       "\t 253658 & 0 & 0 & 0 & 27 & 3 & 0 & 0 & 0 & 1 & ... & 1 & 2 &  0 &  0 & 0 & 0 &  3 & 6 & 5 & 0\\\\\n",
       "\t 253659 & 0 & 1 & 1 & 37 & 5 & 0 & 0 & 0 & 0 & ... & 0 & 4 &  0 &  0 & 0 & 0 &  6 & 4 & 1 & 1\\\\\n",
       "\t 253660 & 0 & 1 & 1 & 34 & 4 & 1 & 0 & 0 & 0 & ... & 0 & 3 &  0 &  2 & 1 & 0 &  7 & 4 & 3 & 0\\\\\n",
       "\t 253661 & 1 & 0 & 1 & 33 & 4 & 0 & 0 & 0 & 1 & ... & 1 & 3 &  0 &  2 & 1 & 0 &  6 & 6 & 6 & 0\\\\\n",
       "\t 253662 & 0 & 0 & 1 & 16 & 1 & 0 & 0 & 0 & 1 & ... & 0 & 1 &  0 &  0 & 0 & 0 &  5 & 6 & 2 & 0\\\\\n",
       "\t 253663 & 0 & 0 & 1 & 23 & 2 & 0 & 0 & 0 & 0 & ... & 1 & 2 &  0 & 30 & 0 & 0 &  5 & 6 & 2 & 0\\\\\n",
       "\t 253664 & 0 & 1 & 1 & 29 & 3 & 1 & 0 & 0 & 0 & ... & 0 & 3 &  0 &  0 & 0 & 0 &  6 & 6 & 4 & 0\\\\\n",
       "\t 253665 & 0 & 1 & 1 & 17 & 1 & 0 & 0 & 0 & 0 & ... & 1 & 4 & 30 & 30 & 0 & 0 &  5 & 4 & 1 & 0\\\\\n",
       "\t 253666 & 1 & 0 & 1 & 23 & 2 & 0 & 0 & 0 & 0 & ... & 0 & 3 &  0 & 15 & 0 & 0 &  6 & 5 & 2 & 0\\\\\n",
       "\t 253667 & 1 & 1 & 1 & 28 & 3 & 1 & 0 & 0 & 0 & ... & 0 & 3 &  0 &  0 & 0 & 0 & 11 & 4 & 7 & 0\\\\\n",
       "\t 253668 & 0 & 1 & 1 & 29 & 3 & 1 & 0 & 1 & 0 & ... & 0 & 2 &  0 &  0 & 1 & 1 & 10 & 3 & 6 & 1\\\\\n",
       "\t 253669 & 0 & 1 & 1 & 27 & 3 & 0 & 0 & 0 & 0 & ... & 1 & 1 &  0 &  3 & 0 & 1 &  6 & 2 & 4 & 0\\\\\n",
       "\t 253670 & 1 & 1 & 1 & 25 & 3 & 0 & 0 & 1 & 0 & ... & 0 & 5 & 15 &  0 & 1 & 0 & 13 & 6 & 4 & 1\\\\\n",
       "\t 253671 & 1 & 1 & 1 & 23 & 2 & 0 & 1 & 1 & 0 & ... & 1 & 4 &  0 &  5 & 0 & 1 &  8 & 3 & 2 & 0\\\\\n",
       "\t 253672 & 1 & 0 & 1 & 30 & 4 & 1 & 0 & 1 & 1 & ... & 0 & 3 &  0 &  0 & 0 & 1 & 12 & 2 & 1 & 0\\\\\n",
       "\t 253673 & 1 & 0 & 1 & 42 & 6 & 0 & 0 & 0 & 1 & ... & 0 & 3 & 14 &  4 & 0 & 1 &  3 & 6 & 8 & 0\\\\\n",
       "\t 253674 & 0 & 0 & 1 & 27 & 3 & 0 & 0 & 0 & 0 & ... & 0 & 1 &  0 &  0 & 0 & 0 &  3 & 6 & 5 & 0\\\\\n",
       "\t 253675 & 1 & 1 & 1 & 45 & 6 & 0 & 0 & 0 & 0 & ... & 0 & 3 &  0 &  5 & 0 & 1 &  5 & 6 & 7 & 0\\\\\n",
       "\t 253676 & 1 & 1 & 1 & 18 & 1 & 0 & 0 & 0 & 0 & ... & 0 & 4 &  0 &  0 & 1 & 0 & 11 & 2 & 4 & 1\\\\\n",
       "\t 253677 & 0 & 0 & 1 & 28 & 3 & 0 & 0 & 0 & 1 & ... & 0 & 1 &  0 &  0 & 0 & 0 &  2 & 5 & 2 & 0\\\\\n",
       "\t 253678 & 1 & 0 & 1 & 23 & 2 & 0 & 0 & 0 & 0 & ... & 0 & 3 &  0 &  0 & 0 & 1 &  7 & 5 & 1 & 0\\\\\n",
       "\t 253679 & 1 & 1 & 1 & 25 & 3 & 0 & 0 & 1 & 1 & ... & 0 & 2 &  0 &  0 & 0 & 0 &  9 & 6 & 2 & 1\\\\\n",
       "\\end{tabular}\n"
      ],
      "text/markdown": [
       "\n",
       "A data.frame: 253680 × 24\n",
       "\n",
       "| Index &lt;int&gt; | HighBP &lt;int&gt; | HighChol &lt;int&gt; | CholCheck &lt;int&gt; | BMI &lt;int&gt; | StdBMI &lt;dbl&gt; | Smoker &lt;int&gt; | Stroke &lt;int&gt; | HeartDiseaseorAttack &lt;int&gt; | PhysActivity &lt;int&gt; | ... ... | NoDocbcCost &lt;int&gt; | GenHlth &lt;int&gt; | MentHlth &lt;int&gt; | PhysHlth &lt;int&gt; | DiffWalk &lt;int&gt; | Sex &lt;int&gt; | Age &lt;int&gt; | Education &lt;int&gt; | Income &lt;int&gt; | Diabetes_binary &lt;int&gt; |\n",
       "|---|---|---|---|---|---|---|---|---|---|---|---|---|---|---|---|---|---|---|---|---|\n",
       "|  0 | 1 | 1 | 1 | 40 | 6 | 1 | 0 | 0 | 0 | ... | 0 | 5 | 18 | 15 | 1 | 0 |  9 | 4 | 3 | 0 |\n",
       "|  1 | 0 | 0 | 0 | 25 | 3 | 1 | 0 | 0 | 1 | ... | 1 | 3 |  0 |  0 | 0 | 0 |  7 | 6 | 1 | 0 |\n",
       "|  2 | 1 | 1 | 1 | 28 | 3 | 0 | 0 | 0 | 0 | ... | 1 | 5 | 30 | 30 | 1 | 0 |  9 | 4 | 8 | 0 |\n",
       "|  3 | 1 | 0 | 1 | 27 | 3 | 0 | 0 | 0 | 1 | ... | 0 | 2 |  0 |  0 | 0 | 0 | 11 | 3 | 6 | 0 |\n",
       "|  4 | 1 | 1 | 1 | 24 | 2 | 0 | 0 | 0 | 1 | ... | 0 | 2 |  3 |  0 | 0 | 0 | 11 | 5 | 4 | 0 |\n",
       "|  5 | 1 | 1 | 1 | 25 | 3 | 1 | 0 | 0 | 1 | ... | 0 | 2 |  0 |  2 | 0 | 1 | 10 | 6 | 8 | 0 |\n",
       "|  6 | 1 | 0 | 1 | 30 | 4 | 1 | 0 | 0 | 0 | ... | 0 | 3 |  0 | 14 | 0 | 0 |  9 | 6 | 7 | 0 |\n",
       "|  7 | 1 | 1 | 1 | 25 | 3 | 1 | 0 | 0 | 1 | ... | 0 | 3 |  0 |  0 | 1 | 0 | 11 | 4 | 4 | 0 |\n",
       "|  8 | 1 | 1 | 1 | 30 | 4 | 1 | 0 | 1 | 0 | ... | 0 | 5 | 30 | 30 | 1 | 0 |  9 | 5 | 1 | 1 |\n",
       "|  9 | 0 | 0 | 1 | 24 | 2 | 0 | 0 | 0 | 0 | ... | 0 | 2 |  0 |  0 | 0 | 1 |  8 | 4 | 3 | 0 |\n",
       "| 10 | 0 | 0 | 1 | 25 | 3 | 1 | 0 | 0 | 1 | ... | 0 | 3 |  0 |  0 | 0 | 1 | 13 | 6 | 8 | 1 |\n",
       "| 11 | 1 | 1 | 1 | 34 | 4 | 1 | 0 | 0 | 0 | ... | 0 | 3 |  0 | 30 | 1 | 0 | 10 | 5 | 1 | 0 |\n",
       "| 12 | 0 | 0 | 1 | 26 | 3 | 1 | 0 | 0 | 0 | ... | 0 | 3 |  0 | 15 | 0 | 0 |  7 | 5 | 7 | 0 |\n",
       "| 13 | 1 | 1 | 1 | 28 | 3 | 0 | 0 | 0 | 0 | ... | 0 | 4 |  0 |  0 | 1 | 0 | 11 | 4 | 6 | 1 |\n",
       "| 14 | 0 | 1 | 1 | 33 | 4 | 1 | 1 | 0 | 1 | ... | 1 | 4 | 30 | 28 | 0 | 0 |  4 | 6 | 2 | 0 |\n",
       "| 15 | 1 | 0 | 1 | 33 | 4 | 0 | 0 | 0 | 1 | ... | 0 | 2 |  5 |  0 | 0 | 0 |  6 | 6 | 8 | 0 |\n",
       "| 16 | 1 | 1 | 1 | 21 | 2 | 0 | 0 | 0 | 1 | ... | 0 | 3 |  0 |  0 | 0 | 0 | 10 | 4 | 3 | 0 |\n",
       "| 17 | 0 | 0 | 1 | 23 | 2 | 1 | 0 | 0 | 1 | ... | 0 | 2 |  0 |  0 | 0 | 1 |  7 | 5 | 6 | 1 |\n",
       "| 18 | 0 | 0 | 0 | 23 | 2 | 0 | 0 | 0 | 0 | ... | 0 | 2 | 15 |  0 | 0 | 0 |  2 | 6 | 7 | 0 |\n",
       "| 19 | 0 | 1 | 1 | 28 | 3 | 0 | 0 | 0 | 0 | ... | 0 | 2 | 10 |  0 | 0 | 1 |  4 | 6 | 8 | 0 |\n",
       "| 20 | 1 | 1 | 1 | 22 | 2 | 0 | 1 | 1 | 0 | ... | 0 | 3 | 30 |  0 | 1 | 0 | 12 | 4 | 4 | 0 |\n",
       "| 21 | 1 | 1 | 1 | 38 | 5 | 1 | 0 | 0 | 0 | ... | 0 | 5 | 15 | 30 | 1 | 0 | 13 | 2 | 3 | 0 |\n",
       "| 22 | 0 | 0 | 1 | 28 | 3 | 1 | 0 | 0 | 0 | ... | 0 | 3 |  0 |  7 | 0 | 1 |  5 | 5 | 5 | 0 |\n",
       "| 23 | 1 | 0 | 1 | 27 | 3 | 0 | 0 | 0 | 1 | ... | 0 | 1 |  0 |  0 | 0 | 0 | 13 | 5 | 4 | 1 |\n",
       "| 24 | 1 | 1 | 1 | 28 | 3 | 1 | 0 | 0 | 0 | ... | 0 | 3 |  6 |  0 | 1 | 0 |  9 | 4 | 6 | 0 |\n",
       "| 25 | 0 | 0 | 1 | 32 | 4 | 0 | 0 | 0 | 1 | ... | 0 | 2 |  0 |  0 | 0 | 0 |  5 | 6 | 8 | 0 |\n",
       "| 26 | 1 | 1 | 1 | 37 | 5 | 1 | 1 | 1 | 0 | ... | 0 | 5 |  0 |  0 | 1 | 1 | 10 | 6 | 5 | 1 |\n",
       "| 27 | 1 | 1 | 1 | 28 | 3 | 1 | 0 | 1 | 0 | ... | 0 | 4 |  0 |  0 | 0 | 1 | 12 | 2 | 4 | 1 |\n",
       "| 28 | 1 | 1 | 1 | 27 | 3 | 1 | 0 | 0 | 0 | ... | 0 | 4 | 20 | 20 | 1 | 0 |  8 | 4 | 7 | 1 |\n",
       "| 29 | 0 | 1 | 1 | 31 | 4 | 1 | 0 | 0 | 1 | ... | 0 | 1 |  0 |  0 | 0 | 1 | 12 | 6 | 8 | 0 |\n",
       "| ... | ... | ... | ... | ... | ... | ... | ... | ... | ... | <!----> | ... | ... | ... | ... | ... | ... | ... | ... | ... | ... |\n",
       "| 253650 | 1 | 0 | 1 | 27 | 3 | 0 | 0 | 0 | 1 | ... | 0 | 4 |  0 |  0 | 0 | 0 |  5 | 4 | 2 | 0 |\n",
       "| 253651 | 0 | 0 | 1 | 24 | 2 | 0 | 0 | 0 | 1 | ... | 1 | 1 |  0 |  0 | 0 | 1 |  2 | 6 | 3 | 0 |\n",
       "| 253652 | 0 | 1 | 1 | 27 | 3 | 0 | 0 | 0 | 1 | ... | 0 | 4 |  0 | 30 | 0 | 1 | 11 | 2 | 3 | 1 |\n",
       "| 253653 | 0 | 0 | 1 | 33 | 4 | 1 | 0 | 0 | 0 | ... | 0 | 4 |  0 | 15 | 0 | 1 | 10 | 6 | 3 | 0 |\n",
       "| 253654 | 0 | 0 | 1 | 26 | 3 | 1 | 0 | 0 | 1 | ... | 0 | 2 |  1 |  0 | 0 | 1 |  3 | 3 | 1 | 0 |\n",
       "| 253655 | 0 | 0 | 1 | 28 | 3 | 0 | 0 | 0 | 1 | ... | 0 | 2 |  0 |  0 | 0 | 0 |  2 | 6 | 4 | 0 |\n",
       "| 253656 | 0 | 0 | 1 | 25 | 3 | 0 | 0 | 0 | 1 | ... | 0 | 1 |  0 |  0 | 0 | 0 |  4 | 6 | 8 | 0 |\n",
       "| 253657 | 0 | 1 | 1 | 24 | 2 | 0 | 0 | 0 | 0 | ... | 0 | 3 |  0 |  0 | 0 | 0 |  7 | 5 | 3 | 0 |\n",
       "| 253658 | 0 | 0 | 0 | 27 | 3 | 0 | 0 | 0 | 1 | ... | 1 | 2 |  0 |  0 | 0 | 0 |  3 | 6 | 5 | 0 |\n",
       "| 253659 | 0 | 1 | 1 | 37 | 5 | 0 | 0 | 0 | 0 | ... | 0 | 4 |  0 |  0 | 0 | 0 |  6 | 4 | 1 | 1 |\n",
       "| 253660 | 0 | 1 | 1 | 34 | 4 | 1 | 0 | 0 | 0 | ... | 0 | 3 |  0 |  2 | 1 | 0 |  7 | 4 | 3 | 0 |\n",
       "| 253661 | 1 | 0 | 1 | 33 | 4 | 0 | 0 | 0 | 1 | ... | 1 | 3 |  0 |  2 | 1 | 0 |  6 | 6 | 6 | 0 |\n",
       "| 253662 | 0 | 0 | 1 | 16 | 1 | 0 | 0 | 0 | 1 | ... | 0 | 1 |  0 |  0 | 0 | 0 |  5 | 6 | 2 | 0 |\n",
       "| 253663 | 0 | 0 | 1 | 23 | 2 | 0 | 0 | 0 | 0 | ... | 1 | 2 |  0 | 30 | 0 | 0 |  5 | 6 | 2 | 0 |\n",
       "| 253664 | 0 | 1 | 1 | 29 | 3 | 1 | 0 | 0 | 0 | ... | 0 | 3 |  0 |  0 | 0 | 0 |  6 | 6 | 4 | 0 |\n",
       "| 253665 | 0 | 1 | 1 | 17 | 1 | 0 | 0 | 0 | 0 | ... | 1 | 4 | 30 | 30 | 0 | 0 |  5 | 4 | 1 | 0 |\n",
       "| 253666 | 1 | 0 | 1 | 23 | 2 | 0 | 0 | 0 | 0 | ... | 0 | 3 |  0 | 15 | 0 | 0 |  6 | 5 | 2 | 0 |\n",
       "| 253667 | 1 | 1 | 1 | 28 | 3 | 1 | 0 | 0 | 0 | ... | 0 | 3 |  0 |  0 | 0 | 0 | 11 | 4 | 7 | 0 |\n",
       "| 253668 | 0 | 1 | 1 | 29 | 3 | 1 | 0 | 1 | 0 | ... | 0 | 2 |  0 |  0 | 1 | 1 | 10 | 3 | 6 | 1 |\n",
       "| 253669 | 0 | 1 | 1 | 27 | 3 | 0 | 0 | 0 | 0 | ... | 1 | 1 |  0 |  3 | 0 | 1 |  6 | 2 | 4 | 0 |\n",
       "| 253670 | 1 | 1 | 1 | 25 | 3 | 0 | 0 | 1 | 0 | ... | 0 | 5 | 15 |  0 | 1 | 0 | 13 | 6 | 4 | 1 |\n",
       "| 253671 | 1 | 1 | 1 | 23 | 2 | 0 | 1 | 1 | 0 | ... | 1 | 4 |  0 |  5 | 0 | 1 |  8 | 3 | 2 | 0 |\n",
       "| 253672 | 1 | 0 | 1 | 30 | 4 | 1 | 0 | 1 | 1 | ... | 0 | 3 |  0 |  0 | 0 | 1 | 12 | 2 | 1 | 0 |\n",
       "| 253673 | 1 | 0 | 1 | 42 | 6 | 0 | 0 | 0 | 1 | ... | 0 | 3 | 14 |  4 | 0 | 1 |  3 | 6 | 8 | 0 |\n",
       "| 253674 | 0 | 0 | 1 | 27 | 3 | 0 | 0 | 0 | 0 | ... | 0 | 1 |  0 |  0 | 0 | 0 |  3 | 6 | 5 | 0 |\n",
       "| 253675 | 1 | 1 | 1 | 45 | 6 | 0 | 0 | 0 | 0 | ... | 0 | 3 |  0 |  5 | 0 | 1 |  5 | 6 | 7 | 0 |\n",
       "| 253676 | 1 | 1 | 1 | 18 | 1 | 0 | 0 | 0 | 0 | ... | 0 | 4 |  0 |  0 | 1 | 0 | 11 | 2 | 4 | 1 |\n",
       "| 253677 | 0 | 0 | 1 | 28 | 3 | 0 | 0 | 0 | 1 | ... | 0 | 1 |  0 |  0 | 0 | 0 |  2 | 5 | 2 | 0 |\n",
       "| 253678 | 1 | 0 | 1 | 23 | 2 | 0 | 0 | 0 | 0 | ... | 0 | 3 |  0 |  0 | 0 | 1 |  7 | 5 | 1 | 0 |\n",
       "| 253679 | 1 | 1 | 1 | 25 | 3 | 0 | 0 | 1 | 1 | ... | 0 | 2 |  0 |  0 | 0 | 0 |  9 | 6 | 2 | 1 |\n",
       "\n"
      ],
      "text/plain": [
       "       Index  HighBP HighChol CholCheck BMI StdBMI Smoker Stroke\n",
       "1       0     1      1        1         40  6      1      0     \n",
       "2       1     0      0        0         25  3      1      0     \n",
       "3       2     1      1        1         28  3      0      0     \n",
       "4       3     1      0        1         27  3      0      0     \n",
       "5       4     1      1        1         24  2      0      0     \n",
       "6       5     1      1        1         25  3      1      0     \n",
       "7       6     1      0        1         30  4      1      0     \n",
       "8       7     1      1        1         25  3      1      0     \n",
       "9       8     1      1        1         30  4      1      0     \n",
       "10      9     0      0        1         24  2      0      0     \n",
       "11     10     0      0        1         25  3      1      0     \n",
       "12     11     1      1        1         34  4      1      0     \n",
       "13     12     0      0        1         26  3      1      0     \n",
       "14     13     1      1        1         28  3      0      0     \n",
       "15     14     0      1        1         33  4      1      1     \n",
       "16     15     1      0        1         33  4      0      0     \n",
       "17     16     1      1        1         21  2      0      0     \n",
       "18     17     0      0        1         23  2      1      0     \n",
       "19     18     0      0        0         23  2      0      0     \n",
       "20     19     0      1        1         28  3      0      0     \n",
       "21     20     1      1        1         22  2      0      1     \n",
       "22     21     1      1        1         38  5      1      0     \n",
       "23     22     0      0        1         28  3      1      0     \n",
       "24     23     1      0        1         27  3      0      0     \n",
       "25     24     1      1        1         28  3      1      0     \n",
       "26     25     0      0        1         32  4      0      0     \n",
       "27     26     1      1        1         37  5      1      1     \n",
       "28     27     1      1        1         28  3      1      0     \n",
       "29     28     1      1        1         27  3      1      0     \n",
       "30     29     0      1        1         31  4      1      0     \n",
       "...    ...    ...    ...      ...       ... ...    ...    ...   \n",
       "253651 253650 1      0        1         27  3      0      0     \n",
       "253652 253651 0      0        1         24  2      0      0     \n",
       "253653 253652 0      1        1         27  3      0      0     \n",
       "253654 253653 0      0        1         33  4      1      0     \n",
       "253655 253654 0      0        1         26  3      1      0     \n",
       "253656 253655 0      0        1         28  3      0      0     \n",
       "253657 253656 0      0        1         25  3      0      0     \n",
       "253658 253657 0      1        1         24  2      0      0     \n",
       "253659 253658 0      0        0         27  3      0      0     \n",
       "253660 253659 0      1        1         37  5      0      0     \n",
       "253661 253660 0      1        1         34  4      1      0     \n",
       "253662 253661 1      0        1         33  4      0      0     \n",
       "253663 253662 0      0        1         16  1      0      0     \n",
       "253664 253663 0      0        1         23  2      0      0     \n",
       "253665 253664 0      1        1         29  3      1      0     \n",
       "253666 253665 0      1        1         17  1      0      0     \n",
       "253667 253666 1      0        1         23  2      0      0     \n",
       "253668 253667 1      1        1         28  3      1      0     \n",
       "253669 253668 0      1        1         29  3      1      0     \n",
       "253670 253669 0      1        1         27  3      0      0     \n",
       "253671 253670 1      1        1         25  3      0      0     \n",
       "253672 253671 1      1        1         23  2      0      1     \n",
       "253673 253672 1      0        1         30  4      1      0     \n",
       "253674 253673 1      0        1         42  6      0      0     \n",
       "253675 253674 0      0        1         27  3      0      0     \n",
       "253676 253675 1      1        1         45  6      0      0     \n",
       "253677 253676 1      1        1         18  1      0      0     \n",
       "253678 253677 0      0        1         28  3      0      0     \n",
       "253679 253678 1      0        1         23  2      0      0     \n",
       "253680 253679 1      1        1         25  3      0      0     \n",
       "       HeartDiseaseorAttack PhysActivity ... NoDocbcCost GenHlth MentHlth\n",
       "1      0                    0            ... 0           5       18      \n",
       "2      0                    1            ... 1           3        0      \n",
       "3      0                    0            ... 1           5       30      \n",
       "4      0                    1            ... 0           2        0      \n",
       "5      0                    1            ... 0           2        3      \n",
       "6      0                    1            ... 0           2        0      \n",
       "7      0                    0            ... 0           3        0      \n",
       "8      0                    1            ... 0           3        0      \n",
       "9      1                    0            ... 0           5       30      \n",
       "10     0                    0            ... 0           2        0      \n",
       "11     0                    1            ... 0           3        0      \n",
       "12     0                    0            ... 0           3        0      \n",
       "13     0                    0            ... 0           3        0      \n",
       "14     0                    0            ... 0           4        0      \n",
       "15     0                    1            ... 1           4       30      \n",
       "16     0                    1            ... 0           2        5      \n",
       "17     0                    1            ... 0           3        0      \n",
       "18     0                    1            ... 0           2        0      \n",
       "19     0                    0            ... 0           2       15      \n",
       "20     0                    0            ... 0           2       10      \n",
       "21     1                    0            ... 0           3       30      \n",
       "22     0                    0            ... 0           5       15      \n",
       "23     0                    0            ... 0           3        0      \n",
       "24     0                    1            ... 0           1        0      \n",
       "25     0                    0            ... 0           3        6      \n",
       "26     0                    1            ... 0           2        0      \n",
       "27     1                    0            ... 0           5        0      \n",
       "28     1                    0            ... 0           4        0      \n",
       "29     0                    0            ... 0           4       20      \n",
       "30     0                    1            ... 0           1        0      \n",
       "...    ...                  ...              ...         ...     ...     \n",
       "253651 0                    1            ... 0           4        0      \n",
       "253652 0                    1            ... 1           1        0      \n",
       "253653 0                    1            ... 0           4        0      \n",
       "253654 0                    0            ... 0           4        0      \n",
       "253655 0                    1            ... 0           2        1      \n",
       "253656 0                    1            ... 0           2        0      \n",
       "253657 0                    1            ... 0           1        0      \n",
       "253658 0                    0            ... 0           3        0      \n",
       "253659 0                    1            ... 1           2        0      \n",
       "253660 0                    0            ... 0           4        0      \n",
       "253661 0                    0            ... 0           3        0      \n",
       "253662 0                    1            ... 1           3        0      \n",
       "253663 0                    1            ... 0           1        0      \n",
       "253664 0                    0            ... 1           2        0      \n",
       "253665 0                    0            ... 0           3        0      \n",
       "253666 0                    0            ... 1           4       30      \n",
       "253667 0                    0            ... 0           3        0      \n",
       "253668 0                    0            ... 0           3        0      \n",
       "253669 1                    0            ... 0           2        0      \n",
       "253670 0                    0            ... 1           1        0      \n",
       "253671 1                    0            ... 0           5       15      \n",
       "253672 1                    0            ... 1           4        0      \n",
       "253673 1                    1            ... 0           3        0      \n",
       "253674 0                    1            ... 0           3       14      \n",
       "253675 0                    0            ... 0           1        0      \n",
       "253676 0                    0            ... 0           3        0      \n",
       "253677 0                    0            ... 0           4        0      \n",
       "253678 0                    1            ... 0           1        0      \n",
       "253679 0                    0            ... 0           3        0      \n",
       "253680 1                    1            ... 0           2        0      \n",
       "       PhysHlth DiffWalk Sex Age Education Income Diabetes_binary\n",
       "1      15       1        0    9  4         3      0              \n",
       "2       0       0        0    7  6         1      0              \n",
       "3      30       1        0    9  4         8      0              \n",
       "4       0       0        0   11  3         6      0              \n",
       "5       0       0        0   11  5         4      0              \n",
       "6       2       0        1   10  6         8      0              \n",
       "7      14       0        0    9  6         7      0              \n",
       "8       0       1        0   11  4         4      0              \n",
       "9      30       1        0    9  5         1      1              \n",
       "10      0       0        1    8  4         3      0              \n",
       "11      0       0        1   13  6         8      1              \n",
       "12     30       1        0   10  5         1      0              \n",
       "13     15       0        0    7  5         7      0              \n",
       "14      0       1        0   11  4         6      1              \n",
       "15     28       0        0    4  6         2      0              \n",
       "16      0       0        0    6  6         8      0              \n",
       "17      0       0        0   10  4         3      0              \n",
       "18      0       0        1    7  5         6      1              \n",
       "19      0       0        0    2  6         7      0              \n",
       "20      0       0        1    4  6         8      0              \n",
       "21      0       1        0   12  4         4      0              \n",
       "22     30       1        0   13  2         3      0              \n",
       "23      7       0        1    5  5         5      0              \n",
       "24      0       0        0   13  5         4      1              \n",
       "25      0       1        0    9  4         6      0              \n",
       "26      0       0        0    5  6         8      0              \n",
       "27      0       1        1   10  6         5      1              \n",
       "28      0       0        1   12  2         4      1              \n",
       "29     20       1        0    8  4         7      1              \n",
       "30      0       0        1   12  6         8      0              \n",
       "...    ...      ...      ... ... ...       ...    ...            \n",
       "253651  0       0        0    5  4         2      0              \n",
       "253652  0       0        1    2  6         3      0              \n",
       "253653 30       0        1   11  2         3      1              \n",
       "253654 15       0        1   10  6         3      0              \n",
       "253655  0       0        1    3  3         1      0              \n",
       "253656  0       0        0    2  6         4      0              \n",
       "253657  0       0        0    4  6         8      0              \n",
       "253658  0       0        0    7  5         3      0              \n",
       "253659  0       0        0    3  6         5      0              \n",
       "253660  0       0        0    6  4         1      1              \n",
       "253661  2       1        0    7  4         3      0              \n",
       "253662  2       1        0    6  6         6      0              \n",
       "253663  0       0        0    5  6         2      0              \n",
       "253664 30       0        0    5  6         2      0              \n",
       "253665  0       0        0    6  6         4      0              \n",
       "253666 30       0        0    5  4         1      0              \n",
       "253667 15       0        0    6  5         2      0              \n",
       "253668  0       0        0   11  4         7      0              \n",
       "253669  0       1        1   10  3         6      1              \n",
       "253670  3       0        1    6  2         4      0              \n",
       "253671  0       1        0   13  6         4      1              \n",
       "253672  5       0        1    8  3         2      0              \n",
       "253673  0       0        1   12  2         1      0              \n",
       "253674  4       0        1    3  6         8      0              \n",
       "253675  0       0        0    3  6         5      0              \n",
       "253676  5       0        1    5  6         7      0              \n",
       "253677  0       1        0   11  2         4      1              \n",
       "253678  0       0        0    2  5         2      0              \n",
       "253679  0       0        1    7  5         1      0              \n",
       "253680  0       0        0    9  6         2      1              "
      ]
     },
     "metadata": {},
     "output_type": "display_data"
    }
   ],
   "source": [
    "df_std_1"
   ]
  },
  {
   "cell_type": "code",
   "execution_count": 67,
   "id": "ab02ff33-2f29-44b2-8499-c3cd86e57862",
   "metadata": {},
   "outputs": [
    {
     "data": {
      "text/plain": [
       "\n",
       "    1     2     3     4     5     6 \n",
       " 3127 68953 93749 53451 20663 13737 "
      ]
     },
     "metadata": {},
     "output_type": "display_data"
    }
   ],
   "source": [
    "table(df_std_1$StdBMI)"
   ]
  },
  {
   "cell_type": "code",
   "execution_count": 68,
   "id": "ea7ba198-b24c-4616-81c3-0621f7559a6f",
   "metadata": {},
   "outputs": [
    {
     "data": {
      "image/png": "[encoded data removed]",
      "text/plain": [
       "Plot with title \"BMI groups (WHO recommendation)\""
      ]
     },
     "metadata": {
      "image/png": {
       "height": 420,
       "width": 420
      }
     },
     "output_type": "display_data"
    }
   ],
   "source": [
    "barplot(table(df_std_1$StdBMI), main=\"BMI groups (WHO recommendation)\")"
   ]
  },
  {
   "cell_type": "code",
   "execution_count": 69,
   "id": "87e47738-a1e3-4d80-b6da-9eff7b721d2c",
   "metadata": {},
   "outputs": [
    {
     "name": "stdout",
     "output_type": "stream",
     "text": [
      "'data.frame':\t253680 obs. of  24 variables:\n",
      " $ Index               : int  0 1 2 3 4 5 6 7 8 9 ...\n",
      " $ HighBP              : int  1 0 1 1 1 1 1 1 1 0 ...\n",
      " $ HighChol            : int  1 0 1 0 1 1 0 1 1 0 ...\n",
      " $ CholCheck           : int  1 0 1 1 1 1 1 1 1 1 ...\n",
      " $ BMI                 : int  40 25 28 27 24 25 30 25 30 24 ...\n",
      " $ StdBMI              : num  6 3 3 3 2 3 4 3 4 2 ...\n",
      " $ Smoker              : int  1 1 0 0 0 1 1 1 1 0 ...\n",
      " $ Stroke              : int  0 0 0 0 0 0 0 0 0 0 ...\n",
      " $ HeartDiseaseorAttack: int  0 0 0 0 0 0 0 0 1 0 ...\n",
      " $ PhysActivity        : int  0 1 0 1 1 1 0 1 0 0 ...\n",
      " $ Fruits              : int  0 0 1 1 1 1 0 0 1 0 ...\n",
      " $ Veggies             : int  1 0 0 1 1 1 0 1 1 1 ...\n",
      " $ HvyAlcoholConsump   : int  0 0 0 0 0 0 0 0 0 0 ...\n",
      " $ AnyHealthcare       : int  1 0 1 1 1 1 1 1 1 1 ...\n",
      " $ NoDocbcCost         : int  0 1 1 0 0 0 0 0 0 0 ...\n",
      " $ GenHlth             : int  5 3 5 2 2 2 3 3 5 2 ...\n",
      " $ MentHlth            : int  18 0 30 0 3 0 0 0 30 0 ...\n",
      " $ PhysHlth            : int  15 0 30 0 0 2 14 0 30 0 ...\n",
      " $ DiffWalk            : int  1 0 1 0 0 0 0 1 1 0 ...\n",
      " $ Sex                 : int  0 0 0 0 0 1 0 0 0 1 ...\n",
      " $ Age                 : int  9 7 9 11 11 10 9 11 9 8 ...\n",
      " $ Education           : int  4 6 4 3 5 6 6 4 5 4 ...\n",
      " $ Income              : int  3 1 8 6 4 8 7 4 1 3 ...\n",
      " $ Diabetes_binary     : int  0 0 0 0 0 0 0 0 1 0 ...\n"
     ]
    }
   ],
   "source": [
    "str(df_std_1)"
   ]
  },
  {
   "cell_type": "code",
   "execution_count": 70,
   "id": "bce561f7-438f-4bb5-8656-f609d2546a71",
   "metadata": {},
   "outputs": [],
   "source": [
    "# Comment: StdBMI data are categorical."
   ]
  },
  {
   "cell_type": "code",
   "execution_count": 71,
   "id": "82072de5-5af3-4d9a-b44f-bf5ab93b411d",
   "metadata": {},
   "outputs": [],
   "source": [
    "# We now must validate the meaningful of this standardizatiton with response variable."
   ]
  },
  {
   "cell_type": "code",
   "execution_count": 72,
   "id": "163a7c0e-d01e-4dfe-b08c-97bbb6a5bfa4",
   "metadata": {},
   "outputs": [
    {
     "data": {
      "text/plain": [
       "   \n",
       "        0     1\n",
       "  1  2958   169\n",
       "  2 65025  3928\n",
       "  3 83057 10692\n",
       "  4 43170 10281\n",
       "  5 14994  5669\n",
       "  6  9130  4607"
      ]
     },
     "metadata": {},
     "output_type": "display_data"
    }
   ],
   "source": [
    "table(df_std_1$StdBMI, df_std_1$Diabetes_binary)"
   ]
  },
  {
   "cell_type": "code",
   "execution_count": 73,
   "id": "46fdd323-31b6-412c-aa47-b07f656155c8",
   "metadata": {},
   "outputs": [
    {
     "data": {
      "text/plain": [
       "\n",
       "\tPearson's Chi-squared test\n",
       "\n",
       "data:  table(df_std_1$StdBMI, df_std_1$Diabetes_binary)\n",
       "X-squared = 13387, df = 5, p-value < 2.2e-16\n"
      ]
     },
     "metadata": {},
     "output_type": "display_data"
    }
   ],
   "source": [
    "chisq.test(table(df_std_1$StdBMI, df_std_1$Diabetes_binary))"
   ]
  },
  {
   "cell_type": "code",
   "execution_count": 74,
   "id": "87b51987-868a-4293-a384-925bb52d91b2",
   "metadata": {},
   "outputs": [],
   "source": [
    "# Comment: A p-value close to 0 shows that there is a difference between diabetes rates among BMI groups."
   ]
  },
  {
   "cell_type": "markdown",
   "id": "a2941e5e-37c5-4a31-8811-ffee54baffca",
   "metadata": {
    "jp-MarkdownHeadingCollapsed": true
   },
   "source": [
    "#### BMI output: df_std_1"
   ]
  },
  {
   "cell_type": "code",
   "execution_count": 75,
   "id": "875b3bdb-30b5-4645-9558-34e38568ecb9",
   "metadata": {},
   "outputs": [
    {
     "name": "stdout",
     "output_type": "stream",
     "text": [
      "'data.frame':\t253680 obs. of  24 variables:\n",
      " $ Index               : int  0 1 2 3 4 5 6 7 8 9 ...\n",
      " $ HighBP              : int  1 0 1 1 1 1 1 1 1 0 ...\n",
      " $ HighChol            : int  1 0 1 0 1 1 0 1 1 0 ...\n",
      " $ CholCheck           : int  1 0 1 1 1 1 1 1 1 1 ...\n",
      " $ BMI                 : int  40 25 28 27 24 25 30 25 30 24 ...\n",
      " $ StdBMI              : num  6 3 3 3 2 3 4 3 4 2 ...\n",
      " $ Smoker              : int  1 1 0 0 0 1 1 1 1 0 ...\n",
      " $ Stroke              : int  0 0 0 0 0 0 0 0 0 0 ...\n",
      " $ HeartDiseaseorAttack: int  0 0 0 0 0 0 0 0 1 0 ...\n",
      " $ PhysActivity        : int  0 1 0 1 1 1 0 1 0 0 ...\n",
      " $ Fruits              : int  0 0 1 1 1 1 0 0 1 0 ...\n",
      " $ Veggies             : int  1 0 0 1 1 1 0 1 1 1 ...\n",
      " $ HvyAlcoholConsump   : int  0 0 0 0 0 0 0 0 0 0 ...\n",
      " $ AnyHealthcare       : int  1 0 1 1 1 1 1 1 1 1 ...\n",
      " $ NoDocbcCost         : int  0 1 1 0 0 0 0 0 0 0 ...\n",
      " $ GenHlth             : int  5 3 5 2 2 2 3 3 5 2 ...\n",
      " $ MentHlth            : int  18 0 30 0 3 0 0 0 30 0 ...\n",
      " $ PhysHlth            : int  15 0 30 0 0 2 14 0 30 0 ...\n",
      " $ DiffWalk            : int  1 0 1 0 0 0 0 1 1 0 ...\n",
      " $ Sex                 : int  0 0 0 0 0 1 0 0 0 1 ...\n",
      " $ Age                 : int  9 7 9 11 11 10 9 11 9 8 ...\n",
      " $ Education           : int  4 6 4 3 5 6 6 4 5 4 ...\n",
      " $ Income              : int  3 1 8 6 4 8 7 4 1 3 ...\n",
      " $ Diabetes_binary     : int  0 0 0 0 0 0 0 0 1 0 ...\n"
     ]
    }
   ],
   "source": [
    "str(df_std_1)"
   ]
  },
  {
   "cell_type": "markdown",
   "id": "f5109655-dfb3-46f3-b18d-0fa2faf5e5ad",
   "metadata": {},
   "source": [
    "#### 3.2.2. MentHlth"
   ]
  },
  {
   "cell_type": "code",
   "execution_count": 76,
   "id": "4fafa641-f7ac-46dd-988b-efd202228577",
   "metadata": {},
   "outputs": [
    {
     "data": {
      "text/plain": [
       "   Min. 1st Qu.  Median    Mean 3rd Qu.    Max. \n",
       "  0.000   0.000   0.000   3.185   2.000  30.000 "
      ]
     },
     "metadata": {},
     "output_type": "display_data"
    }
   ],
   "source": [
    "summary(df_std_1$MentHlth)"
   ]
  },
  {
   "cell_type": "code",
   "execution_count": 77,
   "id": "690b9ada-f24a-4455-8bf0-ad55677f043a",
   "metadata": {},
   "outputs": [
    {
     "data": {
      "image/png": "[encoded data removed]",
      "text/plain": [
       "plot without title"
      ]
     },
     "metadata": {
      "image/png": {
       "height": 420,
       "width": 420
      }
     },
     "output_type": "display_data"
    }
   ],
   "source": [
    "boxplot(df_std_1$MentHlth)"
   ]
  },
  {
   "cell_type": "code",
   "execution_count": 78,
   "id": "3eba3143-5225-44bd-bfd5-2736e1847b5c",
   "metadata": {},
   "outputs": [
    {
     "data": {
      "image/png": "[encoded data removed]",
      "text/plain": [
       "plot without title"
      ]
     },
     "metadata": {
      "image/png": {
       "height": 420,
       "width": 420
      }
     },
     "output_type": "display_data"
    }
   ],
   "source": [
    "barplot(table(df_std_1$MentHlth))"
   ]
  },
  {
   "cell_type": "code",
   "execution_count": 79,
   "id": "38d4f703-1e02-4d54-8ca7-95def2e1004f",
   "metadata": {},
   "outputs": [],
   "source": [
    "# We see data with value ZERO is overwhelmed compared to other values.\n",
    "# Create a binary feature indicates that whether a person has mental health problem."
   ]
  },
  {
   "cell_type": "code",
   "execution_count": 80,
   "id": "09f8a185-52ef-4e8b-901c-9141963d2dd7",
   "metadata": {},
   "outputs": [],
   "source": [
    "new_column = rep(0, nrow(df_std_1))\n",
    "MentHlth_index = which(colnames(df_std_1) == \"MentHlth\")\n",
    "df_std_2 = cbind(df_std_1[,1:MentHlth_index], BoolMentHlth = new_column, df_std_1[,(MentHlth_index+1):ncol(df_std_1)])"
   ]
  },
  {
   "cell_type": "code",
   "execution_count": 81,
   "id": "568c0e26-ed16-426b-a15e-57ef8947412f",
   "metadata": {},
   "outputs": [],
   "source": [
    "df_std_2[df_std_2$MentHlth > 0, ]$BoolMentHlth = 1"
   ]
  },
  {
   "cell_type": "code",
   "execution_count": 82,
   "id": "24d3d41f-adeb-4f4e-9da7-6b99ba2928f3",
   "metadata": {},
   "outputs": [
    {
     "data": {
      "image/png": "[encoded data removed]",
      "text/plain": [
       "Plot with title \"BoolMentHlth\""
      ]
     },
     "metadata": {
      "image/png": {
       "height": 420,
       "width": 420
      }
     },
     "output_type": "display_data"
    }
   ],
   "source": [
    "barplot(table(df_std_2$BoolMentHlth), main=\"BoolMentHlth\")"
   ]
  },
  {
   "cell_type": "code",
   "execution_count": 83,
   "id": "d83dca07-7520-4b0c-a864-d8cfec7133b2",
   "metadata": {},
   "outputs": [
    {
     "data": {
      "text/plain": [
       "\n",
       "\tPearson's Chi-squared test with Yates' continuity correction\n",
       "\n",
       "data:  table(df_std_2$BoolMentHlth, df_std_2$Diabetes_binary)\n",
       "X-squared = 178.24, df = 1, p-value < 2.2e-16\n"
      ]
     },
     "metadata": {},
     "output_type": "display_data"
    }
   ],
   "source": [
    "chisq.test(table(df_std_2$BoolMentHlth, df_std_2$Diabetes_binary))"
   ]
  },
  {
   "cell_type": "code",
   "execution_count": 84,
   "id": "fcd5670b-3710-4e6f-a961-766907137ce5",
   "metadata": {},
   "outputs": [],
   "source": [
    "# Comment: A p-value close to 0 shows that there is a difference between diabetes rates among BoolMentHlth groups."
   ]
  },
  {
   "cell_type": "markdown",
   "id": "d188bc2c-1ee5-49b8-99f7-e46df35aa14c",
   "metadata": {
    "jp-MarkdownHeadingCollapsed": true
   },
   "source": [
    "#### MentHlth output: df_std_2"
   ]
  },
  {
   "cell_type": "code",
   "execution_count": 85,
   "id": "e68da267-21d8-4630-8376-8b870f33482e",
   "metadata": {},
   "outputs": [
    {
     "name": "stdout",
     "output_type": "stream",
     "text": [
      "'data.frame':\t253680 obs. of  25 variables:\n",
      " $ Index               : int  0 1 2 3 4 5 6 7 8 9 ...\n",
      " $ HighBP              : int  1 0 1 1 1 1 1 1 1 0 ...\n",
      " $ HighChol            : int  1 0 1 0 1 1 0 1 1 0 ...\n",
      " $ CholCheck           : int  1 0 1 1 1 1 1 1 1 1 ...\n",
      " $ BMI                 : int  40 25 28 27 24 25 30 25 30 24 ...\n",
      " $ StdBMI              : num  6 3 3 3 2 3 4 3 4 2 ...\n",
      " $ Smoker              : int  1 1 0 0 0 1 1 1 1 0 ...\n",
      " $ Stroke              : int  0 0 0 0 0 0 0 0 0 0 ...\n",
      " $ HeartDiseaseorAttack: int  0 0 0 0 0 0 0 0 1 0 ...\n",
      " $ PhysActivity        : int  0 1 0 1 1 1 0 1 0 0 ...\n",
      " $ Fruits              : int  0 0 1 1 1 1 0 0 1 0 ...\n",
      " $ Veggies             : int  1 0 0 1 1 1 0 1 1 1 ...\n",
      " $ HvyAlcoholConsump   : int  0 0 0 0 0 0 0 0 0 0 ...\n",
      " $ AnyHealthcare       : int  1 0 1 1 1 1 1 1 1 1 ...\n",
      " $ NoDocbcCost         : int  0 1 1 0 0 0 0 0 0 0 ...\n",
      " $ GenHlth             : int  5 3 5 2 2 2 3 3 5 2 ...\n",
      " $ MentHlth            : int  18 0 30 0 3 0 0 0 30 0 ...\n",
      " $ BoolMentHlth        : num  1 0 1 0 1 0 0 0 1 0 ...\n",
      " $ PhysHlth            : int  15 0 30 0 0 2 14 0 30 0 ...\n",
      " $ DiffWalk            : int  1 0 1 0 0 0 0 1 1 0 ...\n",
      " $ Sex                 : int  0 0 0 0 0 1 0 0 0 1 ...\n",
      " $ Age                 : int  9 7 9 11 11 10 9 11 9 8 ...\n",
      " $ Education           : int  4 6 4 3 5 6 6 4 5 4 ...\n",
      " $ Income              : int  3 1 8 6 4 8 7 4 1 3 ...\n",
      " $ Diabetes_binary     : int  0 0 0 0 0 0 0 0 1 0 ...\n"
     ]
    }
   ],
   "source": [
    "str(df_std_2)"
   ]
  },
  {
   "cell_type": "markdown",
   "id": "a274892c-b135-4763-a7bd-7908bd3e1efe",
   "metadata": {},
   "source": [
    "#### 3.2.3. PhysHlth"
   ]
  },
  {
   "cell_type": "code",
   "execution_count": 86,
   "id": "693f946b-5f01-45aa-8564-bf69fc2033ed",
   "metadata": {},
   "outputs": [
    {
     "data": {
      "text/plain": [
       "   Min. 1st Qu.  Median    Mean 3rd Qu.    Max. \n",
       "  0.000   0.000   0.000   4.242   3.000  30.000 "
      ]
     },
     "metadata": {},
     "output_type": "display_data"
    }
   ],
   "source": [
    "summary(df_std_2$PhysHlth)"
   ]
  },
  {
   "cell_type": "code",
   "execution_count": 87,
   "id": "ab6845b7-3fdb-4bbc-be6e-e00c21b2d5db",
   "metadata": {},
   "outputs": [
    {
     "data": {
      "image/png": "[encoded data removed]",
      "text/plain": [
       "plot without title"
      ]
     },
     "metadata": {
      "image/png": {
       "height": 420,
       "width": 420
      }
     },
     "output_type": "display_data"
    }
   ],
   "source": [
    "boxplot(df_std_1$PhysHlth)"
   ]
  },
  {
   "cell_type": "code",
   "execution_count": 88,
   "id": "30425c6b-12fd-4ca5-9eb5-8145f4d3fa0d",
   "metadata": {},
   "outputs": [
    {
     "data": {
      "image/png": "[encoded data removed]",
      "text/plain": [
       "plot without title"
      ]
     },
     "metadata": {
      "image/png": {
       "height": 420,
       "width": 420
      }
     },
     "output_type": "display_data"
    }
   ],
   "source": [
    "barplot(table(df_std_2$PhysHlth))"
   ]
  },
  {
   "cell_type": "code",
   "execution_count": 89,
   "id": "4bdad7b3-b94b-478d-b952-7962507a7d1c",
   "metadata": {},
   "outputs": [],
   "source": [
    "# We see data with value ZERO is overwhelmed compared to other values.\n",
    "# Create a binary feature indicates that whether a person has physical health problem."
   ]
  },
  {
   "cell_type": "code",
   "execution_count": 90,
   "id": "04bd03e8-ed64-43e4-a9a2-00cfc657a37b",
   "metadata": {},
   "outputs": [],
   "source": [
    "new_column = rep(0, nrow(df_std_2))\n",
    "PhysHlth_index = which(colnames(df_std_2) == \"PhysHlth\")\n",
    "df_std_3 = cbind(df_std_2[,1:PhysHlth_index], BoolPhysHlth = new_column, df_std_2[,(PhysHlth_index+1):ncol(df_std_2)])"
   ]
  },
  {
   "cell_type": "code",
   "execution_count": 91,
   "id": "2d090ce5-b15a-48a8-bbea-e994a5973ed7",
   "metadata": {},
   "outputs": [],
   "source": [
    "df_std_3[df_std_3$PhysHlth > 0, ]$BoolPhysHlth = 1"
   ]
  },
  {
   "cell_type": "code",
   "execution_count": 92,
   "id": "f3aa0101-a649-44f6-a755-3866be2f7290",
   "metadata": {},
   "outputs": [
    {
     "data": {
      "image/png": "[encoded data removed]",
      "text/plain": [
       "Plot with title \"BoolPhysHlth\""
      ]
     },
     "metadata": {
      "image/png": {
       "height": 420,
       "width": 420
      }
     },
     "output_type": "display_data"
    }
   ],
   "source": [
    "barplot(table(df_std_3$BoolPhysHlth), main=\"BoolPhysHlth\")"
   ]
  },
  {
   "cell_type": "code",
   "execution_count": 93,
   "id": "b073a5fc-937b-4632-93b7-01ca4532329e",
   "metadata": {},
   "outputs": [
    {
     "data": {
      "text/plain": [
       "\n",
       "\tPearson's Chi-squared test with Yates' continuity correction\n",
       "\n",
       "data:  table(df_std_3$BoolPhysHlth, df_std_3$Diabetes_binary)\n",
       "X-squared = 4364, df = 1, p-value < 2.2e-16\n"
      ]
     },
     "metadata": {},
     "output_type": "display_data"
    }
   ],
   "source": [
    "chisq.test(table(df_std_3$BoolPhysHlth, df_std_3$Diabetes_binary))"
   ]
  },
  {
   "cell_type": "code",
   "execution_count": 94,
   "id": "075cd060-028c-44d1-94f9-344617a7585d",
   "metadata": {},
   "outputs": [],
   "source": [
    "# Comment: A p-value close to 0 shows that there is a difference between diabetes rates among BoolPhysHlth groups."
   ]
  },
  {
   "cell_type": "markdown",
   "id": "64f122ad-7b3b-4afb-b006-872462da3a62",
   "metadata": {
    "jp-MarkdownHeadingCollapsed": true
   },
   "source": [
    "#### PhysHlth output: df_std_3"
   ]
  },
  {
   "cell_type": "code",
   "execution_count": 95,
   "id": "14ec97cf-bb62-4f95-b8df-794bd0140a5e",
   "metadata": {},
   "outputs": [
    {
     "name": "stdout",
     "output_type": "stream",
     "text": [
      "'data.frame':\t253680 obs. of  26 variables:\n",
      " $ Index               : int  0 1 2 3 4 5 6 7 8 9 ...\n",
      " $ HighBP              : int  1 0 1 1 1 1 1 1 1 0 ...\n",
      " $ HighChol            : int  1 0 1 0 1 1 0 1 1 0 ...\n",
      " $ CholCheck           : int  1 0 1 1 1 1 1 1 1 1 ...\n",
      " $ BMI                 : int  40 25 28 27 24 25 30 25 30 24 ...\n",
      " $ StdBMI              : num  6 3 3 3 2 3 4 3 4 2 ...\n",
      " $ Smoker              : int  1 1 0 0 0 1 1 1 1 0 ...\n",
      " $ Stroke              : int  0 0 0 0 0 0 0 0 0 0 ...\n",
      " $ HeartDiseaseorAttack: int  0 0 0 0 0 0 0 0 1 0 ...\n",
      " $ PhysActivity        : int  0 1 0 1 1 1 0 1 0 0 ...\n",
      " $ Fruits              : int  0 0 1 1 1 1 0 0 1 0 ...\n",
      " $ Veggies             : int  1 0 0 1 1 1 0 1 1 1 ...\n",
      " $ HvyAlcoholConsump   : int  0 0 0 0 0 0 0 0 0 0 ...\n",
      " $ AnyHealthcare       : int  1 0 1 1 1 1 1 1 1 1 ...\n",
      " $ NoDocbcCost         : int  0 1 1 0 0 0 0 0 0 0 ...\n",
      " $ GenHlth             : int  5 3 5 2 2 2 3 3 5 2 ...\n",
      " $ MentHlth            : int  18 0 30 0 3 0 0 0 30 0 ...\n",
      " $ BoolMentHlth        : num  1 0 1 0 1 0 0 0 1 0 ...\n",
      " $ PhysHlth            : int  15 0 30 0 0 2 14 0 30 0 ...\n",
      " $ BoolPhysHlth        : num  1 0 1 0 0 1 1 0 1 0 ...\n",
      " $ DiffWalk            : int  1 0 1 0 0 0 0 1 1 0 ...\n",
      " $ Sex                 : int  0 0 0 0 0 1 0 0 0 1 ...\n",
      " $ Age                 : int  9 7 9 11 11 10 9 11 9 8 ...\n",
      " $ Education           : int  4 6 4 3 5 6 6 4 5 4 ...\n",
      " $ Income              : int  3 1 8 6 4 8 7 4 1 3 ...\n",
      " $ Diabetes_binary     : int  0 0 0 0 0 0 0 0 1 0 ...\n"
     ]
    }
   ],
   "source": [
    "str(df_std_3)"
   ]
  },
  {
   "cell_type": "markdown",
   "id": "8c4106f8-5ac5-48fa-b1ee-87d9e5b458e8",
   "metadata": {},
   "source": [
    "## TEST"
   ]
  },
  {
   "cell_type": "code",
   "execution_count": 57,
   "id": "f70d2f10-8e6f-4e3b-8176-bc21bd374132",
   "metadata": {},
   "outputs": [
    {
     "data": {
      "text/html": [
       "<table class=\"dataframe\">\n",
       "<caption>A data.frame: 462 × 10</caption>\n",
       "<thead>\n",
       "\t<tr><th></th><th scope=col>sbp</th><th scope=col>tobacco</th><th scope=col>ldl</th><th scope=col>adiposity</th><th scope=col>famhist</th><th scope=col>typea</th><th scope=col>obesity</th><th scope=col>alcohol</th><th scope=col>age</th><th scope=col>chd</th></tr>\n",
       "\t<tr><th></th><th scope=col>&lt;int&gt;</th><th scope=col>&lt;dbl&gt;</th><th scope=col>&lt;dbl&gt;</th><th scope=col>&lt;dbl&gt;</th><th scope=col>&lt;fct&gt;</th><th scope=col>&lt;int&gt;</th><th scope=col>&lt;dbl&gt;</th><th scope=col>&lt;dbl&gt;</th><th scope=col>&lt;int&gt;</th><th scope=col>&lt;int&gt;</th></tr>\n",
       "</thead>\n",
       "<tbody>\n",
       "\t<tr><th scope=row>1</th><td>160</td><td>12.00</td><td> 5.73</td><td>23.11</td><td>Present</td><td>49</td><td>25.30</td><td>97.20</td><td>52</td><td>1</td></tr>\n",
       "\t<tr><th scope=row>2</th><td>144</td><td> 0.01</td><td> 4.41</td><td>28.61</td><td>Absent </td><td>55</td><td>28.87</td><td> 2.06</td><td>63</td><td>1</td></tr>\n",
       "\t<tr><th scope=row>3</th><td>118</td><td> 0.08</td><td> 3.48</td><td>32.28</td><td>Present</td><td>52</td><td>29.14</td><td> 3.81</td><td>46</td><td>0</td></tr>\n",
       "\t<tr><th scope=row>4</th><td>170</td><td> 7.50</td><td> 6.41</td><td>38.03</td><td>Present</td><td>51</td><td>31.99</td><td>24.26</td><td>58</td><td>1</td></tr>\n",
       "\t<tr><th scope=row>5</th><td>134</td><td>13.60</td><td> 3.50</td><td>27.78</td><td>Present</td><td>60</td><td>25.99</td><td>57.34</td><td>49</td><td>1</td></tr>\n",
       "\t<tr><th scope=row>6</th><td>132</td><td> 6.20</td><td> 6.47</td><td>36.21</td><td>Present</td><td>62</td><td>30.77</td><td>14.14</td><td>45</td><td>0</td></tr>\n",
       "\t<tr><th scope=row>7</th><td>142</td><td> 4.05</td><td> 3.38</td><td>16.20</td><td>Absent </td><td>59</td><td>20.81</td><td> 2.62</td><td>38</td><td>0</td></tr>\n",
       "\t<tr><th scope=row>8</th><td>114</td><td> 4.08</td><td> 4.59</td><td>14.60</td><td>Present</td><td>62</td><td>23.11</td><td> 6.72</td><td>58</td><td>1</td></tr>\n",
       "\t<tr><th scope=row>9</th><td>114</td><td> 0.00</td><td> 3.83</td><td>19.40</td><td>Present</td><td>49</td><td>24.86</td><td> 2.49</td><td>29</td><td>0</td></tr>\n",
       "\t<tr><th scope=row>10</th><td>132</td><td> 0.00</td><td> 5.80</td><td>30.96</td><td>Present</td><td>69</td><td>30.11</td><td> 0.00</td><td>53</td><td>1</td></tr>\n",
       "\t<tr><th scope=row>11</th><td>206</td><td> 6.00</td><td> 2.95</td><td>32.27</td><td>Absent </td><td>72</td><td>26.81</td><td>56.06</td><td>60</td><td>1</td></tr>\n",
       "\t<tr><th scope=row>12</th><td>134</td><td>14.10</td><td> 4.44</td><td>22.39</td><td>Present</td><td>65</td><td>23.09</td><td> 0.00</td><td>40</td><td>1</td></tr>\n",
       "\t<tr><th scope=row>13</th><td>118</td><td> 0.00</td><td> 1.88</td><td>10.05</td><td>Absent </td><td>59</td><td>21.57</td><td> 0.00</td><td>17</td><td>0</td></tr>\n",
       "\t<tr><th scope=row>14</th><td>132</td><td> 0.00</td><td> 1.87</td><td>17.21</td><td>Absent </td><td>49</td><td>23.63</td><td> 0.97</td><td>15</td><td>0</td></tr>\n",
       "\t<tr><th scope=row>15</th><td>112</td><td> 9.65</td><td> 2.29</td><td>17.20</td><td>Present</td><td>54</td><td>23.53</td><td> 0.68</td><td>53</td><td>0</td></tr>\n",
       "\t<tr><th scope=row>16</th><td>117</td><td> 1.53</td><td> 2.44</td><td>28.95</td><td>Present</td><td>35</td><td>25.89</td><td>30.03</td><td>46</td><td>0</td></tr>\n",
       "\t<tr><th scope=row>17</th><td>120</td><td> 7.50</td><td>15.33</td><td>22.00</td><td>Absent </td><td>60</td><td>25.31</td><td>34.49</td><td>49</td><td>0</td></tr>\n",
       "\t<tr><th scope=row>18</th><td>146</td><td>10.50</td><td> 8.29</td><td>35.36</td><td>Present</td><td>78</td><td>32.73</td><td>13.89</td><td>53</td><td>1</td></tr>\n",
       "\t<tr><th scope=row>19</th><td>158</td><td> 2.60</td><td> 7.46</td><td>34.07</td><td>Present</td><td>61</td><td>29.30</td><td>53.28</td><td>62</td><td>1</td></tr>\n",
       "\t<tr><th scope=row>20</th><td>124</td><td>14.00</td><td> 6.23</td><td>35.96</td><td>Present</td><td>45</td><td>30.09</td><td> 0.00</td><td>59</td><td>1</td></tr>\n",
       "\t<tr><th scope=row>21</th><td>106</td><td> 1.61</td><td> 1.74</td><td>12.32</td><td>Absent </td><td>74</td><td>20.92</td><td>13.37</td><td>20</td><td>1</td></tr>\n",
       "\t<tr><th scope=row>22</th><td>132</td><td> 7.90</td><td> 2.85</td><td>26.50</td><td>Present</td><td>51</td><td>26.16</td><td>25.71</td><td>44</td><td>0</td></tr>\n",
       "\t<tr><th scope=row>23</th><td>150</td><td> 0.30</td><td> 6.38</td><td>33.99</td><td>Present</td><td>62</td><td>24.64</td><td> 0.00</td><td>50</td><td>0</td></tr>\n",
       "\t<tr><th scope=row>24</th><td>138</td><td> 0.60</td><td> 3.81</td><td>28.66</td><td>Absent </td><td>54</td><td>28.70</td><td> 1.46</td><td>58</td><td>0</td></tr>\n",
       "\t<tr><th scope=row>25</th><td>142</td><td>18.20</td><td> 4.34</td><td>24.38</td><td>Absent </td><td>61</td><td>26.19</td><td> 0.00</td><td>50</td><td>0</td></tr>\n",
       "\t<tr><th scope=row>26</th><td>124</td><td> 4.00</td><td>12.42</td><td>31.29</td><td>Present</td><td>54</td><td>23.23</td><td> 2.06</td><td>42</td><td>1</td></tr>\n",
       "\t<tr><th scope=row>27</th><td>118</td><td> 6.00</td><td> 9.65</td><td>33.91</td><td>Absent </td><td>60</td><td>38.80</td><td> 0.00</td><td>48</td><td>0</td></tr>\n",
       "\t<tr><th scope=row>28</th><td>145</td><td> 9.10</td><td> 5.24</td><td>27.55</td><td>Absent </td><td>59</td><td>20.96</td><td>21.60</td><td>61</td><td>1</td></tr>\n",
       "\t<tr><th scope=row>29</th><td>144</td><td> 4.09</td><td> 5.55</td><td>31.40</td><td>Present</td><td>60</td><td>29.43</td><td> 5.55</td><td>56</td><td>0</td></tr>\n",
       "\t<tr><th scope=row>30</th><td>146</td><td> 0.00</td><td> 6.62</td><td>25.69</td><td>Absent </td><td>60</td><td>28.07</td><td> 8.23</td><td>63</td><td>1</td></tr>\n",
       "\t<tr><th scope=row>⋮</th><td>⋮</td><td>⋮</td><td>⋮</td><td>⋮</td><td>⋮</td><td>⋮</td><td>⋮</td><td>⋮</td><td>⋮</td><td>⋮</td></tr>\n",
       "\t<tr><th scope=row>434</th><td>136</td><td>0.00</td><td> 4.00</td><td>19.06</td><td>Absent </td><td>40</td><td>21.94</td><td> 2.06</td><td>16</td><td>0</td></tr>\n",
       "\t<tr><th scope=row>435</th><td>120</td><td>0.00</td><td> 2.46</td><td>13.39</td><td>Absent </td><td>47</td><td>22.01</td><td> 0.51</td><td>18</td><td>0</td></tr>\n",
       "\t<tr><th scope=row>436</th><td>132</td><td>0.00</td><td> 3.55</td><td> 8.66</td><td>Present</td><td>61</td><td>18.50</td><td> 3.87</td><td>16</td><td>0</td></tr>\n",
       "\t<tr><th scope=row>437</th><td>136</td><td>0.00</td><td> 1.77</td><td>20.37</td><td>Absent </td><td>45</td><td>21.51</td><td> 2.06</td><td>16</td><td>0</td></tr>\n",
       "\t<tr><th scope=row>438</th><td>138</td><td>0.00</td><td> 1.86</td><td>18.35</td><td>Present</td><td>59</td><td>25.38</td><td> 6.51</td><td>17</td><td>0</td></tr>\n",
       "\t<tr><th scope=row>439</th><td>138</td><td>0.06</td><td> 4.15</td><td>20.66</td><td>Absent </td><td>49</td><td>22.59</td><td> 2.49</td><td>16</td><td>0</td></tr>\n",
       "\t<tr><th scope=row>440</th><td>130</td><td>1.22</td><td> 3.30</td><td>13.65</td><td>Absent </td><td>50</td><td>21.40</td><td> 3.81</td><td>31</td><td>0</td></tr>\n",
       "\t<tr><th scope=row>441</th><td>130</td><td>4.00</td><td> 2.40</td><td>17.42</td><td>Absent </td><td>60</td><td>22.05</td><td> 0.00</td><td>40</td><td>0</td></tr>\n",
       "\t<tr><th scope=row>442</th><td>110</td><td>0.00</td><td> 7.14</td><td>28.28</td><td>Absent </td><td>57</td><td>29.00</td><td> 0.00</td><td>32</td><td>0</td></tr>\n",
       "\t<tr><th scope=row>443</th><td>120</td><td>0.00</td><td> 3.98</td><td>13.19</td><td>Present</td><td>47</td><td>21.89</td><td> 0.00</td><td>16</td><td>0</td></tr>\n",
       "\t<tr><th scope=row>444</th><td>166</td><td>6.00</td><td> 8.80</td><td>37.89</td><td>Absent </td><td>39</td><td>28.70</td><td>43.20</td><td>52</td><td>0</td></tr>\n",
       "\t<tr><th scope=row>445</th><td>134</td><td>0.57</td><td> 4.75</td><td>23.07</td><td>Absent </td><td>67</td><td>26.33</td><td> 0.00</td><td>37</td><td>0</td></tr>\n",
       "\t<tr><th scope=row>446</th><td>142</td><td>3.00</td><td> 3.69</td><td>25.10</td><td>Absent </td><td>60</td><td>30.08</td><td>38.88</td><td>27</td><td>0</td></tr>\n",
       "\t<tr><th scope=row>447</th><td>136</td><td>2.80</td><td> 2.53</td><td> 9.28</td><td>Present</td><td>61</td><td>20.70</td><td> 4.55</td><td>25</td><td>0</td></tr>\n",
       "\t<tr><th scope=row>448</th><td>142</td><td>0.00</td><td> 4.32</td><td>25.22</td><td>Absent </td><td>47</td><td>28.92</td><td> 6.53</td><td>34</td><td>1</td></tr>\n",
       "\t<tr><th scope=row>449</th><td>130</td><td>0.00</td><td> 1.88</td><td>12.51</td><td>Present</td><td>52</td><td>20.28</td><td> 0.00</td><td>17</td><td>0</td></tr>\n",
       "\t<tr><th scope=row>450</th><td>124</td><td>1.80</td><td> 3.74</td><td>16.64</td><td>Present</td><td>42</td><td>22.26</td><td>10.49</td><td>20</td><td>0</td></tr>\n",
       "\t<tr><th scope=row>451</th><td>144</td><td>4.00</td><td> 5.03</td><td>25.78</td><td>Present</td><td>57</td><td>27.55</td><td>90.00</td><td>48</td><td>1</td></tr>\n",
       "\t<tr><th scope=row>452</th><td>136</td><td>1.81</td><td> 3.31</td><td> 6.74</td><td>Absent </td><td>63</td><td>19.57</td><td>24.94</td><td>24</td><td>0</td></tr>\n",
       "\t<tr><th scope=row>453</th><td>120</td><td>0.00</td><td> 2.77</td><td>13.35</td><td>Absent </td><td>67</td><td>23.37</td><td> 1.03</td><td>18</td><td>0</td></tr>\n",
       "\t<tr><th scope=row>454</th><td>154</td><td>5.53</td><td> 3.20</td><td>28.81</td><td>Present</td><td>61</td><td>26.15</td><td>42.79</td><td>42</td><td>0</td></tr>\n",
       "\t<tr><th scope=row>455</th><td>124</td><td>1.60</td><td> 7.22</td><td>39.68</td><td>Present</td><td>36</td><td>31.50</td><td> 0.00</td><td>51</td><td>1</td></tr>\n",
       "\t<tr><th scope=row>456</th><td>146</td><td>0.64</td><td> 4.82</td><td>28.02</td><td>Absent </td><td>60</td><td>28.11</td><td> 8.23</td><td>39</td><td>1</td></tr>\n",
       "\t<tr><th scope=row>457</th><td>128</td><td>2.24</td><td> 2.83</td><td>26.48</td><td>Absent </td><td>48</td><td>23.96</td><td>47.42</td><td>27</td><td>1</td></tr>\n",
       "\t<tr><th scope=row>458</th><td>170</td><td>0.40</td><td> 4.11</td><td>42.06</td><td>Present</td><td>56</td><td>33.10</td><td> 2.06</td><td>57</td><td>0</td></tr>\n",
       "\t<tr><th scope=row>459</th><td>214</td><td>0.40</td><td> 5.98</td><td>31.72</td><td>Absent </td><td>64</td><td>28.45</td><td> 0.00</td><td>58</td><td>0</td></tr>\n",
       "\t<tr><th scope=row>460</th><td>182</td><td>4.20</td><td> 4.41</td><td>32.10</td><td>Absent </td><td>52</td><td>28.61</td><td>18.72</td><td>52</td><td>1</td></tr>\n",
       "\t<tr><th scope=row>461</th><td>108</td><td>3.00</td><td> 1.59</td><td>15.23</td><td>Absent </td><td>40</td><td>20.09</td><td>26.64</td><td>55</td><td>0</td></tr>\n",
       "\t<tr><th scope=row>462</th><td>118</td><td>5.40</td><td>11.61</td><td>30.79</td><td>Absent </td><td>64</td><td>27.35</td><td>23.97</td><td>40</td><td>0</td></tr>\n",
       "\t<tr><th scope=row>463</th><td>132</td><td>0.00</td><td> 4.82</td><td>33.41</td><td>Present</td><td>62</td><td>14.70</td><td> 0.00</td><td>46</td><td>1</td></tr>\n",
       "</tbody>\n",
       "</table>\n"
      ],
      "text/latex": [
       "A data.frame: 462 × 10\n",
       "\\begin{tabular}{r|llllllllll}\n",
       "  & sbp & tobacco & ldl & adiposity & famhist & typea & obesity & alcohol & age & chd\\\\\n",
       "  & <int> & <dbl> & <dbl> & <dbl> & <fct> & <int> & <dbl> & <dbl> & <int> & <int>\\\\\n",
       "\\hline\n",
       "\t1 & 160 & 12.00 &  5.73 & 23.11 & Present & 49 & 25.30 & 97.20 & 52 & 1\\\\\n",
       "\t2 & 144 &  0.01 &  4.41 & 28.61 & Absent  & 55 & 28.87 &  2.06 & 63 & 1\\\\\n",
       "\t3 & 118 &  0.08 &  3.48 & 32.28 & Present & 52 & 29.14 &  3.81 & 46 & 0\\\\\n",
       "\t4 & 170 &  7.50 &  6.41 & 38.03 & Present & 51 & 31.99 & 24.26 & 58 & 1\\\\\n",
       "\t5 & 134 & 13.60 &  3.50 & 27.78 & Present & 60 & 25.99 & 57.34 & 49 & 1\\\\\n",
       "\t6 & 132 &  6.20 &  6.47 & 36.21 & Present & 62 & 30.77 & 14.14 & 45 & 0\\\\\n",
       "\t7 & 142 &  4.05 &  3.38 & 16.20 & Absent  & 59 & 20.81 &  2.62 & 38 & 0\\\\\n",
       "\t8 & 114 &  4.08 &  4.59 & 14.60 & Present & 62 & 23.11 &  6.72 & 58 & 1\\\\\n",
       "\t9 & 114 &  0.00 &  3.83 & 19.40 & Present & 49 & 24.86 &  2.49 & 29 & 0\\\\\n",
       "\t10 & 132 &  0.00 &  5.80 & 30.96 & Present & 69 & 30.11 &  0.00 & 53 & 1\\\\\n",
       "\t11 & 206 &  6.00 &  2.95 & 32.27 & Absent  & 72 & 26.81 & 56.06 & 60 & 1\\\\\n",
       "\t12 & 134 & 14.10 &  4.44 & 22.39 & Present & 65 & 23.09 &  0.00 & 40 & 1\\\\\n",
       "\t13 & 118 &  0.00 &  1.88 & 10.05 & Absent  & 59 & 21.57 &  0.00 & 17 & 0\\\\\n",
       "\t14 & 132 &  0.00 &  1.87 & 17.21 & Absent  & 49 & 23.63 &  0.97 & 15 & 0\\\\\n",
       "\t15 & 112 &  9.65 &  2.29 & 17.20 & Present & 54 & 23.53 &  0.68 & 53 & 0\\\\\n",
       "\t16 & 117 &  1.53 &  2.44 & 28.95 & Present & 35 & 25.89 & 30.03 & 46 & 0\\\\\n",
       "\t17 & 120 &  7.50 & 15.33 & 22.00 & Absent  & 60 & 25.31 & 34.49 & 49 & 0\\\\\n",
       "\t18 & 146 & 10.50 &  8.29 & 35.36 & Present & 78 & 32.73 & 13.89 & 53 & 1\\\\\n",
       "\t19 & 158 &  2.60 &  7.46 & 34.07 & Present & 61 & 29.30 & 53.28 & 62 & 1\\\\\n",
       "\t20 & 124 & 14.00 &  6.23 & 35.96 & Present & 45 & 30.09 &  0.00 & 59 & 1\\\\\n",
       "\t21 & 106 &  1.61 &  1.74 & 12.32 & Absent  & 74 & 20.92 & 13.37 & 20 & 1\\\\\n",
       "\t22 & 132 &  7.90 &  2.85 & 26.50 & Present & 51 & 26.16 & 25.71 & 44 & 0\\\\\n",
       "\t23 & 150 &  0.30 &  6.38 & 33.99 & Present & 62 & 24.64 &  0.00 & 50 & 0\\\\\n",
       "\t24 & 138 &  0.60 &  3.81 & 28.66 & Absent  & 54 & 28.70 &  1.46 & 58 & 0\\\\\n",
       "\t25 & 142 & 18.20 &  4.34 & 24.38 & Absent  & 61 & 26.19 &  0.00 & 50 & 0\\\\\n",
       "\t26 & 124 &  4.00 & 12.42 & 31.29 & Present & 54 & 23.23 &  2.06 & 42 & 1\\\\\n",
       "\t27 & 118 &  6.00 &  9.65 & 33.91 & Absent  & 60 & 38.80 &  0.00 & 48 & 0\\\\\n",
       "\t28 & 145 &  9.10 &  5.24 & 27.55 & Absent  & 59 & 20.96 & 21.60 & 61 & 1\\\\\n",
       "\t29 & 144 &  4.09 &  5.55 & 31.40 & Present & 60 & 29.43 &  5.55 & 56 & 0\\\\\n",
       "\t30 & 146 &  0.00 &  6.62 & 25.69 & Absent  & 60 & 28.07 &  8.23 & 63 & 1\\\\\n",
       "\t⋮ & ⋮ & ⋮ & ⋮ & ⋮ & ⋮ & ⋮ & ⋮ & ⋮ & ⋮ & ⋮\\\\\n",
       "\t434 & 136 & 0.00 &  4.00 & 19.06 & Absent  & 40 & 21.94 &  2.06 & 16 & 0\\\\\n",
       "\t435 & 120 & 0.00 &  2.46 & 13.39 & Absent  & 47 & 22.01 &  0.51 & 18 & 0\\\\\n",
       "\t436 & 132 & 0.00 &  3.55 &  8.66 & Present & 61 & 18.50 &  3.87 & 16 & 0\\\\\n",
       "\t437 & 136 & 0.00 &  1.77 & 20.37 & Absent  & 45 & 21.51 &  2.06 & 16 & 0\\\\\n",
       "\t438 & 138 & 0.00 &  1.86 & 18.35 & Present & 59 & 25.38 &  6.51 & 17 & 0\\\\\n",
       "\t439 & 138 & 0.06 &  4.15 & 20.66 & Absent  & 49 & 22.59 &  2.49 & 16 & 0\\\\\n",
       "\t440 & 130 & 1.22 &  3.30 & 13.65 & Absent  & 50 & 21.40 &  3.81 & 31 & 0\\\\\n",
       "\t441 & 130 & 4.00 &  2.40 & 17.42 & Absent  & 60 & 22.05 &  0.00 & 40 & 0\\\\\n",
       "\t442 & 110 & 0.00 &  7.14 & 28.28 & Absent  & 57 & 29.00 &  0.00 & 32 & 0\\\\\n",
       "\t443 & 120 & 0.00 &  3.98 & 13.19 & Present & 47 & 21.89 &  0.00 & 16 & 0\\\\\n",
       "\t444 & 166 & 6.00 &  8.80 & 37.89 & Absent  & 39 & 28.70 & 43.20 & 52 & 0\\\\\n",
       "\t445 & 134 & 0.57 &  4.75 & 23.07 & Absent  & 67 & 26.33 &  0.00 & 37 & 0\\\\\n",
       "\t446 & 142 & 3.00 &  3.69 & 25.10 & Absent  & 60 & 30.08 & 38.88 & 27 & 0\\\\\n",
       "\t447 & 136 & 2.80 &  2.53 &  9.28 & Present & 61 & 20.70 &  4.55 & 25 & 0\\\\\n",
       "\t448 & 142 & 0.00 &  4.32 & 25.22 & Absent  & 47 & 28.92 &  6.53 & 34 & 1\\\\\n",
       "\t449 & 130 & 0.00 &  1.88 & 12.51 & Present & 52 & 20.28 &  0.00 & 17 & 0\\\\\n",
       "\t450 & 124 & 1.80 &  3.74 & 16.64 & Present & 42 & 22.26 & 10.49 & 20 & 0\\\\\n",
       "\t451 & 144 & 4.00 &  5.03 & 25.78 & Present & 57 & 27.55 & 90.00 & 48 & 1\\\\\n",
       "\t452 & 136 & 1.81 &  3.31 &  6.74 & Absent  & 63 & 19.57 & 24.94 & 24 & 0\\\\\n",
       "\t453 & 120 & 0.00 &  2.77 & 13.35 & Absent  & 67 & 23.37 &  1.03 & 18 & 0\\\\\n",
       "\t454 & 154 & 5.53 &  3.20 & 28.81 & Present & 61 & 26.15 & 42.79 & 42 & 0\\\\\n",
       "\t455 & 124 & 1.60 &  7.22 & 39.68 & Present & 36 & 31.50 &  0.00 & 51 & 1\\\\\n",
       "\t456 & 146 & 0.64 &  4.82 & 28.02 & Absent  & 60 & 28.11 &  8.23 & 39 & 1\\\\\n",
       "\t457 & 128 & 2.24 &  2.83 & 26.48 & Absent  & 48 & 23.96 & 47.42 & 27 & 1\\\\\n",
       "\t458 & 170 & 0.40 &  4.11 & 42.06 & Present & 56 & 33.10 &  2.06 & 57 & 0\\\\\n",
       "\t459 & 214 & 0.40 &  5.98 & 31.72 & Absent  & 64 & 28.45 &  0.00 & 58 & 0\\\\\n",
       "\t460 & 182 & 4.20 &  4.41 & 32.10 & Absent  & 52 & 28.61 & 18.72 & 52 & 1\\\\\n",
       "\t461 & 108 & 3.00 &  1.59 & 15.23 & Absent  & 40 & 20.09 & 26.64 & 55 & 0\\\\\n",
       "\t462 & 118 & 5.40 & 11.61 & 30.79 & Absent  & 64 & 27.35 & 23.97 & 40 & 0\\\\\n",
       "\t463 & 132 & 0.00 &  4.82 & 33.41 & Present & 62 & 14.70 &  0.00 & 46 & 1\\\\\n",
       "\\end{tabular}\n"
      ],
      "text/markdown": [
       "\n",
       "A data.frame: 462 × 10\n",
       "\n",
       "| <!--/--> | sbp &lt;int&gt; | tobacco &lt;dbl&gt; | ldl &lt;dbl&gt; | adiposity &lt;dbl&gt; | famhist &lt;fct&gt; | typea &lt;int&gt; | obesity &lt;dbl&gt; | alcohol &lt;dbl&gt; | age &lt;int&gt; | chd &lt;int&gt; |\n",
       "|---|---|---|---|---|---|---|---|---|---|---|\n",
       "| 1 | 160 | 12.00 |  5.73 | 23.11 | Present | 49 | 25.30 | 97.20 | 52 | 1 |\n",
       "| 2 | 144 |  0.01 |  4.41 | 28.61 | Absent  | 55 | 28.87 |  2.06 | 63 | 1 |\n",
       "| 3 | 118 |  0.08 |  3.48 | 32.28 | Present | 52 | 29.14 |  3.81 | 46 | 0 |\n",
       "| 4 | 170 |  7.50 |  6.41 | 38.03 | Present | 51 | 31.99 | 24.26 | 58 | 1 |\n",
       "| 5 | 134 | 13.60 |  3.50 | 27.78 | Present | 60 | 25.99 | 57.34 | 49 | 1 |\n",
       "| 6 | 132 |  6.20 |  6.47 | 36.21 | Present | 62 | 30.77 | 14.14 | 45 | 0 |\n",
       "| 7 | 142 |  4.05 |  3.38 | 16.20 | Absent  | 59 | 20.81 |  2.62 | 38 | 0 |\n",
       "| 8 | 114 |  4.08 |  4.59 | 14.60 | Present | 62 | 23.11 |  6.72 | 58 | 1 |\n",
       "| 9 | 114 |  0.00 |  3.83 | 19.40 | Present | 49 | 24.86 |  2.49 | 29 | 0 |\n",
       "| 10 | 132 |  0.00 |  5.80 | 30.96 | Present | 69 | 30.11 |  0.00 | 53 | 1 |\n",
       "| 11 | 206 |  6.00 |  2.95 | 32.27 | Absent  | 72 | 26.81 | 56.06 | 60 | 1 |\n",
       "| 12 | 134 | 14.10 |  4.44 | 22.39 | Present | 65 | 23.09 |  0.00 | 40 | 1 |\n",
       "| 13 | 118 |  0.00 |  1.88 | 10.05 | Absent  | 59 | 21.57 |  0.00 | 17 | 0 |\n",
       "| 14 | 132 |  0.00 |  1.87 | 17.21 | Absent  | 49 | 23.63 |  0.97 | 15 | 0 |\n",
       "| 15 | 112 |  9.65 |  2.29 | 17.20 | Present | 54 | 23.53 |  0.68 | 53 | 0 |\n",
       "| 16 | 117 |  1.53 |  2.44 | 28.95 | Present | 35 | 25.89 | 30.03 | 46 | 0 |\n",
       "| 17 | 120 |  7.50 | 15.33 | 22.00 | Absent  | 60 | 25.31 | 34.49 | 49 | 0 |\n",
       "| 18 | 146 | 10.50 |  8.29 | 35.36 | Present | 78 | 32.73 | 13.89 | 53 | 1 |\n",
       "| 19 | 158 |  2.60 |  7.46 | 34.07 | Present | 61 | 29.30 | 53.28 | 62 | 1 |\n",
       "| 20 | 124 | 14.00 |  6.23 | 35.96 | Present | 45 | 30.09 |  0.00 | 59 | 1 |\n",
       "| 21 | 106 |  1.61 |  1.74 | 12.32 | Absent  | 74 | 20.92 | 13.37 | 20 | 1 |\n",
       "| 22 | 132 |  7.90 |  2.85 | 26.50 | Present | 51 | 26.16 | 25.71 | 44 | 0 |\n",
       "| 23 | 150 |  0.30 |  6.38 | 33.99 | Present | 62 | 24.64 |  0.00 | 50 | 0 |\n",
       "| 24 | 138 |  0.60 |  3.81 | 28.66 | Absent  | 54 | 28.70 |  1.46 | 58 | 0 |\n",
       "| 25 | 142 | 18.20 |  4.34 | 24.38 | Absent  | 61 | 26.19 |  0.00 | 50 | 0 |\n",
       "| 26 | 124 |  4.00 | 12.42 | 31.29 | Present | 54 | 23.23 |  2.06 | 42 | 1 |\n",
       "| 27 | 118 |  6.00 |  9.65 | 33.91 | Absent  | 60 | 38.80 |  0.00 | 48 | 0 |\n",
       "| 28 | 145 |  9.10 |  5.24 | 27.55 | Absent  | 59 | 20.96 | 21.60 | 61 | 1 |\n",
       "| 29 | 144 |  4.09 |  5.55 | 31.40 | Present | 60 | 29.43 |  5.55 | 56 | 0 |\n",
       "| 30 | 146 |  0.00 |  6.62 | 25.69 | Absent  | 60 | 28.07 |  8.23 | 63 | 1 |\n",
       "| ⋮ | ⋮ | ⋮ | ⋮ | ⋮ | ⋮ | ⋮ | ⋮ | ⋮ | ⋮ | ⋮ |\n",
       "| 434 | 136 | 0.00 |  4.00 | 19.06 | Absent  | 40 | 21.94 |  2.06 | 16 | 0 |\n",
       "| 435 | 120 | 0.00 |  2.46 | 13.39 | Absent  | 47 | 22.01 |  0.51 | 18 | 0 |\n",
       "| 436 | 132 | 0.00 |  3.55 |  8.66 | Present | 61 | 18.50 |  3.87 | 16 | 0 |\n",
       "| 437 | 136 | 0.00 |  1.77 | 20.37 | Absent  | 45 | 21.51 |  2.06 | 16 | 0 |\n",
       "| 438 | 138 | 0.00 |  1.86 | 18.35 | Present | 59 | 25.38 |  6.51 | 17 | 0 |\n",
       "| 439 | 138 | 0.06 |  4.15 | 20.66 | Absent  | 49 | 22.59 |  2.49 | 16 | 0 |\n",
       "| 440 | 130 | 1.22 |  3.30 | 13.65 | Absent  | 50 | 21.40 |  3.81 | 31 | 0 |\n",
       "| 441 | 130 | 4.00 |  2.40 | 17.42 | Absent  | 60 | 22.05 |  0.00 | 40 | 0 |\n",
       "| 442 | 110 | 0.00 |  7.14 | 28.28 | Absent  | 57 | 29.00 |  0.00 | 32 | 0 |\n",
       "| 443 | 120 | 0.00 |  3.98 | 13.19 | Present | 47 | 21.89 |  0.00 | 16 | 0 |\n",
       "| 444 | 166 | 6.00 |  8.80 | 37.89 | Absent  | 39 | 28.70 | 43.20 | 52 | 0 |\n",
       "| 445 | 134 | 0.57 |  4.75 | 23.07 | Absent  | 67 | 26.33 |  0.00 | 37 | 0 |\n",
       "| 446 | 142 | 3.00 |  3.69 | 25.10 | Absent  | 60 | 30.08 | 38.88 | 27 | 0 |\n",
       "| 447 | 136 | 2.80 |  2.53 |  9.28 | Present | 61 | 20.70 |  4.55 | 25 | 0 |\n",
       "| 448 | 142 | 0.00 |  4.32 | 25.22 | Absent  | 47 | 28.92 |  6.53 | 34 | 1 |\n",
       "| 449 | 130 | 0.00 |  1.88 | 12.51 | Present | 52 | 20.28 |  0.00 | 17 | 0 |\n",
       "| 450 | 124 | 1.80 |  3.74 | 16.64 | Present | 42 | 22.26 | 10.49 | 20 | 0 |\n",
       "| 451 | 144 | 4.00 |  5.03 | 25.78 | Present | 57 | 27.55 | 90.00 | 48 | 1 |\n",
       "| 452 | 136 | 1.81 |  3.31 |  6.74 | Absent  | 63 | 19.57 | 24.94 | 24 | 0 |\n",
       "| 453 | 120 | 0.00 |  2.77 | 13.35 | Absent  | 67 | 23.37 |  1.03 | 18 | 0 |\n",
       "| 454 | 154 | 5.53 |  3.20 | 28.81 | Present | 61 | 26.15 | 42.79 | 42 | 0 |\n",
       "| 455 | 124 | 1.60 |  7.22 | 39.68 | Present | 36 | 31.50 |  0.00 | 51 | 1 |\n",
       "| 456 | 146 | 0.64 |  4.82 | 28.02 | Absent  | 60 | 28.11 |  8.23 | 39 | 1 |\n",
       "| 457 | 128 | 2.24 |  2.83 | 26.48 | Absent  | 48 | 23.96 | 47.42 | 27 | 1 |\n",
       "| 458 | 170 | 0.40 |  4.11 | 42.06 | Present | 56 | 33.10 |  2.06 | 57 | 0 |\n",
       "| 459 | 214 | 0.40 |  5.98 | 31.72 | Absent  | 64 | 28.45 |  0.00 | 58 | 0 |\n",
       "| 460 | 182 | 4.20 |  4.41 | 32.10 | Absent  | 52 | 28.61 | 18.72 | 52 | 1 |\n",
       "| 461 | 108 | 3.00 |  1.59 | 15.23 | Absent  | 40 | 20.09 | 26.64 | 55 | 0 |\n",
       "| 462 | 118 | 5.40 | 11.61 | 30.79 | Absent  | 64 | 27.35 | 23.97 | 40 | 0 |\n",
       "| 463 | 132 | 0.00 |  4.82 | 33.41 | Present | 62 | 14.70 |  0.00 | 46 | 1 |\n",
       "\n"
      ],
      "text/plain": [
       "    sbp tobacco ldl   adiposity famhist typea obesity alcohol age chd\n",
       "1   160 12.00    5.73 23.11     Present 49    25.30   97.20   52  1  \n",
       "2   144  0.01    4.41 28.61     Absent  55    28.87    2.06   63  1  \n",
       "3   118  0.08    3.48 32.28     Present 52    29.14    3.81   46  0  \n",
       "4   170  7.50    6.41 38.03     Present 51    31.99   24.26   58  1  \n",
       "5   134 13.60    3.50 27.78     Present 60    25.99   57.34   49  1  \n",
       "6   132  6.20    6.47 36.21     Present 62    30.77   14.14   45  0  \n",
       "7   142  4.05    3.38 16.20     Absent  59    20.81    2.62   38  0  \n",
       "8   114  4.08    4.59 14.60     Present 62    23.11    6.72   58  1  \n",
       "9   114  0.00    3.83 19.40     Present 49    24.86    2.49   29  0  \n",
       "10  132  0.00    5.80 30.96     Present 69    30.11    0.00   53  1  \n",
       "11  206  6.00    2.95 32.27     Absent  72    26.81   56.06   60  1  \n",
       "12  134 14.10    4.44 22.39     Present 65    23.09    0.00   40  1  \n",
       "13  118  0.00    1.88 10.05     Absent  59    21.57    0.00   17  0  \n",
       "14  132  0.00    1.87 17.21     Absent  49    23.63    0.97   15  0  \n",
       "15  112  9.65    2.29 17.20     Present 54    23.53    0.68   53  0  \n",
       "16  117  1.53    2.44 28.95     Present 35    25.89   30.03   46  0  \n",
       "17  120  7.50   15.33 22.00     Absent  60    25.31   34.49   49  0  \n",
       "18  146 10.50    8.29 35.36     Present 78    32.73   13.89   53  1  \n",
       "19  158  2.60    7.46 34.07     Present 61    29.30   53.28   62  1  \n",
       "20  124 14.00    6.23 35.96     Present 45    30.09    0.00   59  1  \n",
       "21  106  1.61    1.74 12.32     Absent  74    20.92   13.37   20  1  \n",
       "22  132  7.90    2.85 26.50     Present 51    26.16   25.71   44  0  \n",
       "23  150  0.30    6.38 33.99     Present 62    24.64    0.00   50  0  \n",
       "24  138  0.60    3.81 28.66     Absent  54    28.70    1.46   58  0  \n",
       "25  142 18.20    4.34 24.38     Absent  61    26.19    0.00   50  0  \n",
       "26  124  4.00   12.42 31.29     Present 54    23.23    2.06   42  1  \n",
       "27  118  6.00    9.65 33.91     Absent  60    38.80    0.00   48  0  \n",
       "28  145  9.10    5.24 27.55     Absent  59    20.96   21.60   61  1  \n",
       "29  144  4.09    5.55 31.40     Present 60    29.43    5.55   56  0  \n",
       "30  146  0.00    6.62 25.69     Absent  60    28.07    8.23   63  1  \n",
       "<U+22EE>   <U+22EE> <U+22EE> <U+22EE> <U+22EE>  <U+22EE> <U+22EE> <U+22EE> <U+22EE> <U+22EE> <U+22EE>\n",
       "434 136 0.00     4.00 19.06     Absent  40    21.94    2.06   16  0  \n",
       "435 120 0.00     2.46 13.39     Absent  47    22.01    0.51   18  0  \n",
       "436 132 0.00     3.55  8.66     Present 61    18.50    3.87   16  0  \n",
       "437 136 0.00     1.77 20.37     Absent  45    21.51    2.06   16  0  \n",
       "438 138 0.00     1.86 18.35     Present 59    25.38    6.51   17  0  \n",
       "439 138 0.06     4.15 20.66     Absent  49    22.59    2.49   16  0  \n",
       "440 130 1.22     3.30 13.65     Absent  50    21.40    3.81   31  0  \n",
       "441 130 4.00     2.40 17.42     Absent  60    22.05    0.00   40  0  \n",
       "442 110 0.00     7.14 28.28     Absent  57    29.00    0.00   32  0  \n",
       "443 120 0.00     3.98 13.19     Present 47    21.89    0.00   16  0  \n",
       "444 166 6.00     8.80 37.89     Absent  39    28.70   43.20   52  0  \n",
       "445 134 0.57     4.75 23.07     Absent  67    26.33    0.00   37  0  \n",
       "446 142 3.00     3.69 25.10     Absent  60    30.08   38.88   27  0  \n",
       "447 136 2.80     2.53  9.28     Present 61    20.70    4.55   25  0  \n",
       "448 142 0.00     4.32 25.22     Absent  47    28.92    6.53   34  1  \n",
       "449 130 0.00     1.88 12.51     Present 52    20.28    0.00   17  0  \n",
       "450 124 1.80     3.74 16.64     Present 42    22.26   10.49   20  0  \n",
       "451 144 4.00     5.03 25.78     Present 57    27.55   90.00   48  1  \n",
       "452 136 1.81     3.31  6.74     Absent  63    19.57   24.94   24  0  \n",
       "453 120 0.00     2.77 13.35     Absent  67    23.37    1.03   18  0  \n",
       "454 154 5.53     3.20 28.81     Present 61    26.15   42.79   42  0  \n",
       "455 124 1.60     7.22 39.68     Present 36    31.50    0.00   51  1  \n",
       "456 146 0.64     4.82 28.02     Absent  60    28.11    8.23   39  1  \n",
       "457 128 2.24     2.83 26.48     Absent  48    23.96   47.42   27  1  \n",
       "458 170 0.40     4.11 42.06     Present 56    33.10    2.06   57  0  \n",
       "459 214 0.40     5.98 31.72     Absent  64    28.45    0.00   58  0  \n",
       "460 182 4.20     4.41 32.10     Absent  52    28.61   18.72   52  1  \n",
       "461 108 3.00     1.59 15.23     Absent  40    20.09   26.64   55  0  \n",
       "462 118 5.40    11.61 30.79     Absent  64    27.35   23.97   40  0  \n",
       "463 132 0.00     4.82 33.41     Present 62    14.70    0.00   46  1  "
      ]
     },
     "metadata": {},
     "output_type": "display_data"
    }
   ],
   "source": [
    "SAheart"
   ]
  },
  {
   "cell_type": "code",
   "execution_count": 61,
   "id": "0fa7c012-8c2b-4137-82d9-6031cb6af673",
   "metadata": {},
   "outputs": [
    {
     "name": "stdout",
     "output_type": "stream",
     "text": [
      "'data.frame':\t462 obs. of  10 variables:\n",
      " $ sbp      : int  160 144 118 170 134 132 142 114 114 132 ...\n",
      " $ tobacco  : num  12 0.01 0.08 7.5 13.6 6.2 4.05 4.08 0 0 ...\n",
      " $ ldl      : num  5.73 4.41 3.48 6.41 3.5 6.47 3.38 4.59 3.83 5.8 ...\n",
      " $ adiposity: num  23.1 28.6 32.3 38 27.8 ...\n",
      " $ famhist  : Factor w/ 2 levels \"Absent\",\"Present\": 2 1 2 2 2 2 1 2 2 2 ...\n",
      " $ typea    : int  49 55 52 51 60 62 59 62 49 69 ...\n",
      " $ obesity  : num  25.3 28.9 29.1 32 26 ...\n",
      " $ alcohol  : num  97.2 2.06 3.81 24.26 57.34 ...\n",
      " $ age      : int  52 63 46 58 49 45 38 58 29 53 ...\n",
      " $ chd      : int  1 1 0 1 1 0 0 1 0 1 ...\n"
     ]
    }
   ],
   "source": [
    "str(SAheart)"
   ]
  },
  {
   "cell_type": "code",
   "execution_count": 59,
   "id": "11d17e91-0cf6-44f5-a0c0-3ead3c3317d7",
   "metadata": {},
   "outputs": [
    {
     "name": "stderr",
     "output_type": "stream",
     "text": [
      "Morgan-Tatar search since family is non-gaussian.\n",
      "\n"
     ]
    }
   ],
   "source": [
    "bestglm_result = bestglm(SAheart, IC=\"BIC\", family=binomial)"
   ]
  },
  {
   "cell_type": "code",
   "execution_count": 60,
   "id": "77f134bb-9d10-486a-8409-f13132ac89cc",
   "metadata": {},
   "outputs": [
    {
     "data": {
      "text/html": [
       "<table class=\"dataframe\">\n",
       "<caption>A data.frame: 5 × 10</caption>\n",
       "<thead>\n",
       "\t<tr><th scope=col>sbp</th><th scope=col>tobacco</th><th scope=col>ldl</th><th scope=col>adiposity</th><th scope=col>famhist</th><th scope=col>typea</th><th scope=col>obesity</th><th scope=col>alcohol</th><th scope=col>age</th><th scope=col>Criterion</th></tr>\n",
       "\t<tr><th scope=col>&lt;lgl&gt;</th><th scope=col>&lt;lgl&gt;</th><th scope=col>&lt;lgl&gt;</th><th scope=col>&lt;lgl&gt;</th><th scope=col>&lt;lgl&gt;</th><th scope=col>&lt;lgl&gt;</th><th scope=col>&lt;lgl&gt;</th><th scope=col>&lt;lgl&gt;</th><th scope=col>&lt;lgl&gt;</th><th scope=col>&lt;dbl&gt;</th></tr>\n",
       "</thead>\n",
       "<tbody>\n",
       "\t<tr><td>FALSE</td><td> TRUE</td><td> TRUE</td><td>FALSE</td><td>TRUE</td><td> TRUE</td><td>FALSE</td><td>FALSE</td><td>TRUE</td><td>506.3634</td></tr>\n",
       "\t<tr><td>FALSE</td><td> TRUE</td><td>FALSE</td><td>FALSE</td><td>TRUE</td><td> TRUE</td><td>FALSE</td><td>FALSE</td><td>TRUE</td><td>509.2566</td></tr>\n",
       "\t<tr><td>FALSE</td><td> TRUE</td><td> TRUE</td><td>FALSE</td><td>TRUE</td><td>FALSE</td><td>FALSE</td><td>FALSE</td><td>TRUE</td><td>509.9861</td></tr>\n",
       "\t<tr><td>FALSE</td><td>FALSE</td><td> TRUE</td><td>FALSE</td><td>TRUE</td><td> TRUE</td><td>FALSE</td><td>FALSE</td><td>TRUE</td><td>510.5745</td></tr>\n",
       "\t<tr><td>FALSE</td><td> TRUE</td><td> TRUE</td><td>FALSE</td><td>TRUE</td><td> TRUE</td><td> TRUE</td><td>FALSE</td><td>TRUE</td><td>510.7933</td></tr>\n",
       "</tbody>\n",
       "</table>\n"
      ],
      "text/latex": [
       "A data.frame: 5 × 10\n",
       "\\begin{tabular}{llllllllll}\n",
       " sbp & tobacco & ldl & adiposity & famhist & typea & obesity & alcohol & age & Criterion\\\\\n",
       " <lgl> & <lgl> & <lgl> & <lgl> & <lgl> & <lgl> & <lgl> & <lgl> & <lgl> & <dbl>\\\\\n",
       "\\hline\n",
       "\t FALSE &  TRUE &  TRUE & FALSE & TRUE &  TRUE & FALSE & FALSE & TRUE & 506.3634\\\\\n",
       "\t FALSE &  TRUE & FALSE & FALSE & TRUE &  TRUE & FALSE & FALSE & TRUE & 509.2566\\\\\n",
       "\t FALSE &  TRUE &  TRUE & FALSE & TRUE & FALSE & FALSE & FALSE & TRUE & 509.9861\\\\\n",
       "\t FALSE & FALSE &  TRUE & FALSE & TRUE &  TRUE & FALSE & FALSE & TRUE & 510.5745\\\\\n",
       "\t FALSE &  TRUE &  TRUE & FALSE & TRUE &  TRUE &  TRUE & FALSE & TRUE & 510.7933\\\\\n",
       "\\end{tabular}\n"
      ],
      "text/markdown": [
       "\n",
       "A data.frame: 5 × 10\n",
       "\n",
       "| sbp &lt;lgl&gt; | tobacco &lt;lgl&gt; | ldl &lt;lgl&gt; | adiposity &lt;lgl&gt; | famhist &lt;lgl&gt; | typea &lt;lgl&gt; | obesity &lt;lgl&gt; | alcohol &lt;lgl&gt; | age &lt;lgl&gt; | Criterion &lt;dbl&gt; |\n",
       "|---|---|---|---|---|---|---|---|---|---|\n",
       "| FALSE |  TRUE |  TRUE | FALSE | TRUE |  TRUE | FALSE | FALSE | TRUE | 506.3634 |\n",
       "| FALSE |  TRUE | FALSE | FALSE | TRUE |  TRUE | FALSE | FALSE | TRUE | 509.2566 |\n",
       "| FALSE |  TRUE |  TRUE | FALSE | TRUE | FALSE | FALSE | FALSE | TRUE | 509.9861 |\n",
       "| FALSE | FALSE |  TRUE | FALSE | TRUE |  TRUE | FALSE | FALSE | TRUE | 510.5745 |\n",
       "| FALSE |  TRUE |  TRUE | FALSE | TRUE |  TRUE |  TRUE | FALSE | TRUE | 510.7933 |\n",
       "\n"
      ],
      "text/plain": [
       "  sbp   tobacco ldl   adiposity famhist typea obesity alcohol age  Criterion\n",
       "1 FALSE  TRUE    TRUE FALSE     TRUE     TRUE FALSE   FALSE   TRUE 506.3634 \n",
       "2 FALSE  TRUE   FALSE FALSE     TRUE     TRUE FALSE   FALSE   TRUE 509.2566 \n",
       "3 FALSE  TRUE    TRUE FALSE     TRUE    FALSE FALSE   FALSE   TRUE 509.9861 \n",
       "4 FALSE FALSE    TRUE FALSE     TRUE     TRUE FALSE   FALSE   TRUE 510.5745 \n",
       "5 FALSE  TRUE    TRUE FALSE     TRUE     TRUE  TRUE   FALSE   TRUE 510.7933 "
      ]
     },
     "metadata": {},
     "output_type": "display_data"
    }
   ],
   "source": [
    "bestglm_result$BestModels"
   ]
  }
 ],
 "metadata": {
  "kernelspec": {
   "display_name": "R",
   "language": "R",
   "name": "ir"
  },
  "language_info": {
   "codemirror_mode": "r",
   "file_extension": ".r",
   "mimetype": "text/x-r-source",
   "name": "R",
   "pygments_lexer": "r",
   "version": "4.0.5"
  }
 },
 "nbformat": 4,
 "nbformat_minor": 5
}
