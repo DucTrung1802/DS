{
 "cells": [
  {
   "cell_type": "markdown",
   "id": "b338b917-97a6-4479-8149-4415369c23d2",
   "metadata": {},
   "source": [
    "# Diabetes Analysis"
   ]
  },
  {
   "cell_type": "markdown",
   "id": "9d82b63f-ace4-46bf-94c9-dba9d6cdd275",
   "metadata": {},
   "source": [
    "### Author: Ly Duc Trung"
   ]
  },
  {
   "cell_type": "markdown",
   "id": "6aafad5f-b0ea-423b-a419-75897648e602",
   "metadata": {},
   "source": [
    "### Link: https://github.com/DucTrung1802/DS/blob/main/GLM_Report/diabetes_analysis.ipynb"
   ]
  },
  {
   "cell_type": "markdown",
   "id": "b6231cd2-61d3-4c1e-8765-fc06df5b9083",
   "metadata": {},
   "source": [
    "### Dataset Link: https://www.archive.ics.uci.edu/dataset/891/cdc+diabetes+health+indicators"
   ]
  },
  {
   "cell_type": "markdown",
   "id": "b7bcf8af-3689-4af6-92d7-53eb46a817f3",
   "metadata": {},
   "source": [
    "## 0. Install and import libraries"
   ]
  },
  {
   "cell_type": "markdown",
   "id": "886aff28-01b3-4c82-ac35-a55358629926",
   "metadata": {},
   "source": [
    "### 0.1. Install"
   ]
  },
  {
   "cell_type": "code",
   "execution_count": null,
   "id": "bb2ef04b-f627-4d35-b48e-0f5c211657e8",
   "metadata": {},
   "outputs": [],
   "source": []
  },
  {
   "cell_type": "markdown",
   "id": "b7e48079-fbef-496c-b67d-31fa3cccc7a3",
   "metadata": {},
   "source": [
    "### 0.2. Import"
   ]
  },
  {
   "cell_type": "code",
   "execution_count": null,
   "id": "f6a80c0c-47c2-487a-a648-f3fda518f405",
   "metadata": {},
   "outputs": [],
   "source": []
  },
  {
   "cell_type": "markdown",
   "id": "0c58420a-613d-487d-8027-762338abe091",
   "metadata": {},
   "source": [
    "## 1. Import Data"
   ]
  },
  {
   "cell_type": "code",
   "execution_count": 9,
   "id": "32cdb2b4-c609-46ef-879f-40ba8d02f1f1",
   "metadata": {
    "vscode": {
     "languageId": "r"
    }
   },
   "outputs": [],
   "source": [
    "input_data = read.csv(\"diabetes_full_data.csv\")"
   ]
  },
  {
   "cell_type": "code",
   "execution_count": 10,
   "id": "71ddcb1b-655e-4dfd-8986-4a09bbdbfd1b",
   "metadata": {
    "vscode": {
     "languageId": "r"
    }
   },
   "outputs": [],
   "source": [
    "df = data.frame(input_data)"
   ]
  },
  {
   "cell_type": "code",
   "execution_count": 11,
   "id": "c29d71d9-4938-4154-a629-2dffbb5cdf7e",
   "metadata": {
    "scrolled": true,
    "vscode": {
     "languageId": "r"
    }
   },
   "outputs": [
    {
     "data": {
      "text/html": [
       "<table>\n",
       "<thead><tr><th scope=col>X</th><th scope=col>HighBP</th><th scope=col>HighChol</th><th scope=col>CholCheck</th><th scope=col>BMI</th><th scope=col>Smoker</th><th scope=col>Stroke</th><th scope=col>HeartDiseaseorAttack</th><th scope=col>PhysActivity</th><th scope=col>Fruits</th><th scope=col>...</th><th scope=col>NoDocbcCost</th><th scope=col>GenHlth</th><th scope=col>MentHlth</th><th scope=col>PhysHlth</th><th scope=col>DiffWalk</th><th scope=col>Sex</th><th scope=col>Age</th><th scope=col>Education</th><th scope=col>Income</th><th scope=col>Diabetes_binary</th></tr></thead>\n",
       "<tbody>\n",
       "\t<tr><td> 0 </td><td>1  </td><td>1  </td><td>1  </td><td>40 </td><td>1  </td><td>0  </td><td>0  </td><td>0  </td><td>0  </td><td>...</td><td>0  </td><td>5  </td><td>18 </td><td>15 </td><td>1  </td><td>0  </td><td> 9 </td><td>4  </td><td>3  </td><td>0  </td></tr>\n",
       "\t<tr><td> 1 </td><td>0  </td><td>0  </td><td>0  </td><td>25 </td><td>1  </td><td>0  </td><td>0  </td><td>1  </td><td>0  </td><td>...</td><td>1  </td><td>3  </td><td> 0 </td><td> 0 </td><td>0  </td><td>0  </td><td> 7 </td><td>6  </td><td>1  </td><td>0  </td></tr>\n",
       "\t<tr><td> 2 </td><td>1  </td><td>1  </td><td>1  </td><td>28 </td><td>0  </td><td>0  </td><td>0  </td><td>0  </td><td>1  </td><td>...</td><td>1  </td><td>5  </td><td>30 </td><td>30 </td><td>1  </td><td>0  </td><td> 9 </td><td>4  </td><td>8  </td><td>0  </td></tr>\n",
       "\t<tr><td> 3 </td><td>1  </td><td>0  </td><td>1  </td><td>27 </td><td>0  </td><td>0  </td><td>0  </td><td>1  </td><td>1  </td><td>...</td><td>0  </td><td>2  </td><td> 0 </td><td> 0 </td><td>0  </td><td>0  </td><td>11 </td><td>3  </td><td>6  </td><td>0  </td></tr>\n",
       "\t<tr><td> 4 </td><td>1  </td><td>1  </td><td>1  </td><td>24 </td><td>0  </td><td>0  </td><td>0  </td><td>1  </td><td>1  </td><td>...</td><td>0  </td><td>2  </td><td> 3 </td><td> 0 </td><td>0  </td><td>0  </td><td>11 </td><td>5  </td><td>4  </td><td>0  </td></tr>\n",
       "\t<tr><td> 5 </td><td>1  </td><td>1  </td><td>1  </td><td>25 </td><td>1  </td><td>0  </td><td>0  </td><td>1  </td><td>1  </td><td>...</td><td>0  </td><td>2  </td><td> 0 </td><td> 2 </td><td>0  </td><td>1  </td><td>10 </td><td>6  </td><td>8  </td><td>0  </td></tr>\n",
       "\t<tr><td> 6 </td><td>1  </td><td>0  </td><td>1  </td><td>30 </td><td>1  </td><td>0  </td><td>0  </td><td>0  </td><td>0  </td><td>...</td><td>0  </td><td>3  </td><td> 0 </td><td>14 </td><td>0  </td><td>0  </td><td> 9 </td><td>6  </td><td>7  </td><td>0  </td></tr>\n",
       "\t<tr><td> 7 </td><td>1  </td><td>1  </td><td>1  </td><td>25 </td><td>1  </td><td>0  </td><td>0  </td><td>1  </td><td>0  </td><td>...</td><td>0  </td><td>3  </td><td> 0 </td><td> 0 </td><td>1  </td><td>0  </td><td>11 </td><td>4  </td><td>4  </td><td>0  </td></tr>\n",
       "\t<tr><td> 8 </td><td>1  </td><td>1  </td><td>1  </td><td>30 </td><td>1  </td><td>0  </td><td>1  </td><td>0  </td><td>1  </td><td>...</td><td>0  </td><td>5  </td><td>30 </td><td>30 </td><td>1  </td><td>0  </td><td> 9 </td><td>5  </td><td>1  </td><td>1  </td></tr>\n",
       "\t<tr><td> 9 </td><td>0  </td><td>0  </td><td>1  </td><td>24 </td><td>0  </td><td>0  </td><td>0  </td><td>0  </td><td>0  </td><td>...</td><td>0  </td><td>2  </td><td> 0 </td><td> 0 </td><td>0  </td><td>1  </td><td> 8 </td><td>4  </td><td>3  </td><td>0  </td></tr>\n",
       "\t<tr><td>10 </td><td>0  </td><td>0  </td><td>1  </td><td>25 </td><td>1  </td><td>0  </td><td>0  </td><td>1  </td><td>1  </td><td>...</td><td>0  </td><td>3  </td><td> 0 </td><td> 0 </td><td>0  </td><td>1  </td><td>13 </td><td>6  </td><td>8  </td><td>1  </td></tr>\n",
       "\t<tr><td>11 </td><td>1  </td><td>1  </td><td>1  </td><td>34 </td><td>1  </td><td>0  </td><td>0  </td><td>0  </td><td>1  </td><td>...</td><td>0  </td><td>3  </td><td> 0 </td><td>30 </td><td>1  </td><td>0  </td><td>10 </td><td>5  </td><td>1  </td><td>0  </td></tr>\n",
       "\t<tr><td>12 </td><td>0  </td><td>0  </td><td>1  </td><td>26 </td><td>1  </td><td>0  </td><td>0  </td><td>0  </td><td>0  </td><td>...</td><td>0  </td><td>3  </td><td> 0 </td><td>15 </td><td>0  </td><td>0  </td><td> 7 </td><td>5  </td><td>7  </td><td>0  </td></tr>\n",
       "\t<tr><td>13 </td><td>1  </td><td>1  </td><td>1  </td><td>28 </td><td>0  </td><td>0  </td><td>0  </td><td>0  </td><td>0  </td><td>...</td><td>0  </td><td>4  </td><td> 0 </td><td> 0 </td><td>1  </td><td>0  </td><td>11 </td><td>4  </td><td>6  </td><td>1  </td></tr>\n",
       "\t<tr><td>14 </td><td>0  </td><td>1  </td><td>1  </td><td>33 </td><td>1  </td><td>1  </td><td>0  </td><td>1  </td><td>0  </td><td>...</td><td>1  </td><td>4  </td><td>30 </td><td>28 </td><td>0  </td><td>0  </td><td> 4 </td><td>6  </td><td>2  </td><td>0  </td></tr>\n",
       "\t<tr><td>15 </td><td>1  </td><td>0  </td><td>1  </td><td>33 </td><td>0  </td><td>0  </td><td>0  </td><td>1  </td><td>0  </td><td>...</td><td>0  </td><td>2  </td><td> 5 </td><td> 0 </td><td>0  </td><td>0  </td><td> 6 </td><td>6  </td><td>8  </td><td>0  </td></tr>\n",
       "\t<tr><td>16 </td><td>1  </td><td>1  </td><td>1  </td><td>21 </td><td>0  </td><td>0  </td><td>0  </td><td>1  </td><td>1  </td><td>...</td><td>0  </td><td>3  </td><td> 0 </td><td> 0 </td><td>0  </td><td>0  </td><td>10 </td><td>4  </td><td>3  </td><td>0  </td></tr>\n",
       "\t<tr><td>17 </td><td>0  </td><td>0  </td><td>1  </td><td>23 </td><td>1  </td><td>0  </td><td>0  </td><td>1  </td><td>0  </td><td>...</td><td>0  </td><td>2  </td><td> 0 </td><td> 0 </td><td>0  </td><td>1  </td><td> 7 </td><td>5  </td><td>6  </td><td>1  </td></tr>\n",
       "\t<tr><td>18 </td><td>0  </td><td>0  </td><td>0  </td><td>23 </td><td>0  </td><td>0  </td><td>0  </td><td>0  </td><td>0  </td><td>...</td><td>0  </td><td>2  </td><td>15 </td><td> 0 </td><td>0  </td><td>0  </td><td> 2 </td><td>6  </td><td>7  </td><td>0  </td></tr>\n",
       "\t<tr><td>19 </td><td>0  </td><td>1  </td><td>1  </td><td>28 </td><td>0  </td><td>0  </td><td>0  </td><td>0  </td><td>0  </td><td>...</td><td>0  </td><td>2  </td><td>10 </td><td> 0 </td><td>0  </td><td>1  </td><td> 4 </td><td>6  </td><td>8  </td><td>0  </td></tr>\n",
       "\t<tr><td>20 </td><td>1  </td><td>1  </td><td>1  </td><td>22 </td><td>0  </td><td>1  </td><td>1  </td><td>0  </td><td>1  </td><td>...</td><td>0  </td><td>3  </td><td>30 </td><td> 0 </td><td>1  </td><td>0  </td><td>12 </td><td>4  </td><td>4  </td><td>0  </td></tr>\n",
       "\t<tr><td>21 </td><td>1  </td><td>1  </td><td>1  </td><td>38 </td><td>1  </td><td>0  </td><td>0  </td><td>0  </td><td>1  </td><td>...</td><td>0  </td><td>5  </td><td>15 </td><td>30 </td><td>1  </td><td>0  </td><td>13 </td><td>2  </td><td>3  </td><td>0  </td></tr>\n",
       "\t<tr><td>22 </td><td>0  </td><td>0  </td><td>1  </td><td>28 </td><td>1  </td><td>0  </td><td>0  </td><td>0  </td><td>0  </td><td>...</td><td>0  </td><td>3  </td><td> 0 </td><td> 7 </td><td>0  </td><td>1  </td><td> 5 </td><td>5  </td><td>5  </td><td>0  </td></tr>\n",
       "\t<tr><td>23 </td><td>1  </td><td>0  </td><td>1  </td><td>27 </td><td>0  </td><td>0  </td><td>0  </td><td>1  </td><td>1  </td><td>...</td><td>0  </td><td>1  </td><td> 0 </td><td> 0 </td><td>0  </td><td>0  </td><td>13 </td><td>5  </td><td>4  </td><td>1  </td></tr>\n",
       "\t<tr><td>24 </td><td>1  </td><td>1  </td><td>1  </td><td>28 </td><td>1  </td><td>0  </td><td>0  </td><td>0  </td><td>1  </td><td>...</td><td>0  </td><td>3  </td><td> 6 </td><td> 0 </td><td>1  </td><td>0  </td><td> 9 </td><td>4  </td><td>6  </td><td>0  </td></tr>\n",
       "\t<tr><td>25 </td><td>0  </td><td>0  </td><td>1  </td><td>32 </td><td>0  </td><td>0  </td><td>0  </td><td>1  </td><td>1  </td><td>...</td><td>0  </td><td>2  </td><td> 0 </td><td> 0 </td><td>0  </td><td>0  </td><td> 5 </td><td>6  </td><td>8  </td><td>0  </td></tr>\n",
       "\t<tr><td>26 </td><td>1  </td><td>1  </td><td>1  </td><td>37 </td><td>1  </td><td>1  </td><td>1  </td><td>0  </td><td>0  </td><td>...</td><td>0  </td><td>5  </td><td> 0 </td><td> 0 </td><td>1  </td><td>1  </td><td>10 </td><td>6  </td><td>5  </td><td>1  </td></tr>\n",
       "\t<tr><td>27 </td><td>1  </td><td>1  </td><td>1  </td><td>28 </td><td>1  </td><td>0  </td><td>1  </td><td>0  </td><td>0  </td><td>...</td><td>0  </td><td>4  </td><td> 0 </td><td> 0 </td><td>0  </td><td>1  </td><td>12 </td><td>2  </td><td>4  </td><td>1  </td></tr>\n",
       "\t<tr><td>28 </td><td>1  </td><td>1  </td><td>1  </td><td>27 </td><td>1  </td><td>0  </td><td>0  </td><td>0  </td><td>1  </td><td>...</td><td>0  </td><td>4  </td><td>20 </td><td>20 </td><td>1  </td><td>0  </td><td> 8 </td><td>4  </td><td>7  </td><td>1  </td></tr>\n",
       "\t<tr><td>29 </td><td>0  </td><td>1  </td><td>1  </td><td>31 </td><td>1  </td><td>0  </td><td>0  </td><td>1  </td><td>1  </td><td>...</td><td>0  </td><td>1  </td><td> 0 </td><td> 0 </td><td>0  </td><td>1  </td><td>12 </td><td>6  </td><td>8  </td><td>0  </td></tr>\n",
       "\t<tr><td>...</td><td>...</td><td>...</td><td>...</td><td>...</td><td>...</td><td>...</td><td>...</td><td>...</td><td>...</td><td>   </td><td>...</td><td>...</td><td>...</td><td>...</td><td>...</td><td>...</td><td>...</td><td>...</td><td>...</td><td>...</td></tr>\n",
       "\t<tr><td>253650</td><td>1     </td><td>0     </td><td>1     </td><td>27    </td><td>0     </td><td>0     </td><td>0     </td><td>1     </td><td>0     </td><td>...   </td><td>0     </td><td>4     </td><td> 0    </td><td> 0    </td><td>0     </td><td>0     </td><td> 5    </td><td>4     </td><td>2     </td><td>0     </td></tr>\n",
       "\t<tr><td>253651</td><td>0     </td><td>0     </td><td>1     </td><td>24    </td><td>0     </td><td>0     </td><td>0     </td><td>1     </td><td>1     </td><td>...   </td><td>1     </td><td>1     </td><td> 0    </td><td> 0    </td><td>0     </td><td>1     </td><td> 2    </td><td>6     </td><td>3     </td><td>0     </td></tr>\n",
       "\t<tr><td>253652</td><td>0     </td><td>1     </td><td>1     </td><td>27    </td><td>0     </td><td>0     </td><td>0     </td><td>1     </td><td>1     </td><td>...   </td><td>0     </td><td>4     </td><td> 0    </td><td>30    </td><td>0     </td><td>1     </td><td>11    </td><td>2     </td><td>3     </td><td>1     </td></tr>\n",
       "\t<tr><td>253653</td><td>0     </td><td>0     </td><td>1     </td><td>33    </td><td>1     </td><td>0     </td><td>0     </td><td>0     </td><td>1     </td><td>...   </td><td>0     </td><td>4     </td><td> 0    </td><td>15    </td><td>0     </td><td>1     </td><td>10    </td><td>6     </td><td>3     </td><td>0     </td></tr>\n",
       "\t<tr><td>253654</td><td>0     </td><td>0     </td><td>1     </td><td>26    </td><td>1     </td><td>0     </td><td>0     </td><td>1     </td><td>1     </td><td>...   </td><td>0     </td><td>2     </td><td> 1    </td><td> 0    </td><td>0     </td><td>1     </td><td> 3    </td><td>3     </td><td>1     </td><td>0     </td></tr>\n",
       "\t<tr><td>253655</td><td>0     </td><td>0     </td><td>1     </td><td>28    </td><td>0     </td><td>0     </td><td>0     </td><td>1     </td><td>1     </td><td>...   </td><td>0     </td><td>2     </td><td> 0    </td><td> 0    </td><td>0     </td><td>0     </td><td> 2    </td><td>6     </td><td>4     </td><td>0     </td></tr>\n",
       "\t<tr><td>253656</td><td>0     </td><td>0     </td><td>1     </td><td>25    </td><td>0     </td><td>0     </td><td>0     </td><td>1     </td><td>1     </td><td>...   </td><td>0     </td><td>1     </td><td> 0    </td><td> 0    </td><td>0     </td><td>0     </td><td> 4    </td><td>6     </td><td>8     </td><td>0     </td></tr>\n",
       "\t<tr><td>253657</td><td>0     </td><td>1     </td><td>1     </td><td>24    </td><td>0     </td><td>0     </td><td>0     </td><td>0     </td><td>0     </td><td>...   </td><td>0     </td><td>3     </td><td> 0    </td><td> 0    </td><td>0     </td><td>0     </td><td> 7    </td><td>5     </td><td>3     </td><td>0     </td></tr>\n",
       "\t<tr><td>253658</td><td>0     </td><td>0     </td><td>0     </td><td>27    </td><td>0     </td><td>0     </td><td>0     </td><td>1     </td><td>0     </td><td>...   </td><td>1     </td><td>2     </td><td> 0    </td><td> 0    </td><td>0     </td><td>0     </td><td> 3    </td><td>6     </td><td>5     </td><td>0     </td></tr>\n",
       "\t<tr><td>253659</td><td>0     </td><td>1     </td><td>1     </td><td>37    </td><td>0     </td><td>0     </td><td>0     </td><td>0     </td><td>0     </td><td>...   </td><td>0     </td><td>4     </td><td> 0    </td><td> 0    </td><td>0     </td><td>0     </td><td> 6    </td><td>4     </td><td>1     </td><td>1     </td></tr>\n",
       "\t<tr><td>253660</td><td>0     </td><td>1     </td><td>1     </td><td>34    </td><td>1     </td><td>0     </td><td>0     </td><td>0     </td><td>1     </td><td>...   </td><td>0     </td><td>3     </td><td> 0    </td><td> 2    </td><td>1     </td><td>0     </td><td> 7    </td><td>4     </td><td>3     </td><td>0     </td></tr>\n",
       "\t<tr><td>253661</td><td>1     </td><td>0     </td><td>1     </td><td>33    </td><td>0     </td><td>0     </td><td>0     </td><td>1     </td><td>0     </td><td>...   </td><td>1     </td><td>3     </td><td> 0    </td><td> 2    </td><td>1     </td><td>0     </td><td> 6    </td><td>6     </td><td>6     </td><td>0     </td></tr>\n",
       "\t<tr><td>253662</td><td>0     </td><td>0     </td><td>1     </td><td>16    </td><td>0     </td><td>0     </td><td>0     </td><td>1     </td><td>0     </td><td>...   </td><td>0     </td><td>1     </td><td> 0    </td><td> 0    </td><td>0     </td><td>0     </td><td> 5    </td><td>6     </td><td>2     </td><td>0     </td></tr>\n",
       "\t<tr><td>253663</td><td>0     </td><td>0     </td><td>1     </td><td>23    </td><td>0     </td><td>0     </td><td>0     </td><td>0     </td><td>1     </td><td>...   </td><td>1     </td><td>2     </td><td> 0    </td><td>30    </td><td>0     </td><td>0     </td><td> 5    </td><td>6     </td><td>2     </td><td>0     </td></tr>\n",
       "\t<tr><td>253664</td><td>0     </td><td>1     </td><td>1     </td><td>29    </td><td>1     </td><td>0     </td><td>0     </td><td>0     </td><td>0     </td><td>...   </td><td>0     </td><td>3     </td><td> 0    </td><td> 0    </td><td>0     </td><td>0     </td><td> 6    </td><td>6     </td><td>4     </td><td>0     </td></tr>\n",
       "\t<tr><td>253665</td><td>0     </td><td>1     </td><td>1     </td><td>17    </td><td>0     </td><td>0     </td><td>0     </td><td>0     </td><td>0     </td><td>...   </td><td>1     </td><td>4     </td><td>30    </td><td>30    </td><td>0     </td><td>0     </td><td> 5    </td><td>4     </td><td>1     </td><td>0     </td></tr>\n",
       "\t<tr><td>253666</td><td>1     </td><td>0     </td><td>1     </td><td>23    </td><td>0     </td><td>0     </td><td>0     </td><td>0     </td><td>1     </td><td>...   </td><td>0     </td><td>3     </td><td> 0    </td><td>15    </td><td>0     </td><td>0     </td><td> 6    </td><td>5     </td><td>2     </td><td>0     </td></tr>\n",
       "\t<tr><td>253667</td><td>1     </td><td>1     </td><td>1     </td><td>28    </td><td>1     </td><td>0     </td><td>0     </td><td>0     </td><td>0     </td><td>...   </td><td>0     </td><td>3     </td><td> 0    </td><td> 0    </td><td>0     </td><td>0     </td><td>11    </td><td>4     </td><td>7     </td><td>0     </td></tr>\n",
       "\t<tr><td>253668</td><td>0     </td><td>1     </td><td>1     </td><td>29    </td><td>1     </td><td>0     </td><td>1     </td><td>0     </td><td>1     </td><td>...   </td><td>0     </td><td>2     </td><td> 0    </td><td> 0    </td><td>1     </td><td>1     </td><td>10    </td><td>3     </td><td>6     </td><td>1     </td></tr>\n",
       "\t<tr><td>253669</td><td>0     </td><td>1     </td><td>1     </td><td>27    </td><td>0     </td><td>0     </td><td>0     </td><td>0     </td><td>0     </td><td>...   </td><td>1     </td><td>1     </td><td> 0    </td><td> 3    </td><td>0     </td><td>1     </td><td> 6    </td><td>2     </td><td>4     </td><td>0     </td></tr>\n",
       "\t<tr><td>253670</td><td>1     </td><td>1     </td><td>1     </td><td>25    </td><td>0     </td><td>0     </td><td>1     </td><td>0     </td><td>1     </td><td>...   </td><td>0     </td><td>5     </td><td>15    </td><td> 0    </td><td>1     </td><td>0     </td><td>13    </td><td>6     </td><td>4     </td><td>1     </td></tr>\n",
       "\t<tr><td>253671</td><td>1     </td><td>1     </td><td>1     </td><td>23    </td><td>0     </td><td>1     </td><td>1     </td><td>0     </td><td>0     </td><td>...   </td><td>1     </td><td>4     </td><td> 0    </td><td> 5    </td><td>0     </td><td>1     </td><td> 8    </td><td>3     </td><td>2     </td><td>0     </td></tr>\n",
       "\t<tr><td>253672</td><td>1     </td><td>0     </td><td>1     </td><td>30    </td><td>1     </td><td>0     </td><td>1     </td><td>1     </td><td>1     </td><td>...   </td><td>0     </td><td>3     </td><td> 0    </td><td> 0    </td><td>0     </td><td>1     </td><td>12    </td><td>2     </td><td>1     </td><td>0     </td></tr>\n",
       "\t<tr><td>253673</td><td>1     </td><td>0     </td><td>1     </td><td>42    </td><td>0     </td><td>0     </td><td>0     </td><td>1     </td><td>1     </td><td>...   </td><td>0     </td><td>3     </td><td>14    </td><td> 4    </td><td>0     </td><td>1     </td><td> 3    </td><td>6     </td><td>8     </td><td>0     </td></tr>\n",
       "\t<tr><td>253674</td><td>0     </td><td>0     </td><td>1     </td><td>27    </td><td>0     </td><td>0     </td><td>0     </td><td>0     </td><td>0     </td><td>...   </td><td>0     </td><td>1     </td><td> 0    </td><td> 0    </td><td>0     </td><td>0     </td><td> 3    </td><td>6     </td><td>5     </td><td>0     </td></tr>\n",
       "\t<tr><td>253675</td><td>1     </td><td>1     </td><td>1     </td><td>45    </td><td>0     </td><td>0     </td><td>0     </td><td>0     </td><td>1     </td><td>...   </td><td>0     </td><td>3     </td><td> 0    </td><td> 5    </td><td>0     </td><td>1     </td><td> 5    </td><td>6     </td><td>7     </td><td>0     </td></tr>\n",
       "\t<tr><td>253676</td><td>1     </td><td>1     </td><td>1     </td><td>18    </td><td>0     </td><td>0     </td><td>0     </td><td>0     </td><td>0     </td><td>...   </td><td>0     </td><td>4     </td><td> 0    </td><td> 0    </td><td>1     </td><td>0     </td><td>11    </td><td>2     </td><td>4     </td><td>1     </td></tr>\n",
       "\t<tr><td>253677</td><td>0     </td><td>0     </td><td>1     </td><td>28    </td><td>0     </td><td>0     </td><td>0     </td><td>1     </td><td>1     </td><td>...   </td><td>0     </td><td>1     </td><td> 0    </td><td> 0    </td><td>0     </td><td>0     </td><td> 2    </td><td>5     </td><td>2     </td><td>0     </td></tr>\n",
       "\t<tr><td>253678</td><td>1     </td><td>0     </td><td>1     </td><td>23    </td><td>0     </td><td>0     </td><td>0     </td><td>0     </td><td>1     </td><td>...   </td><td>0     </td><td>3     </td><td> 0    </td><td> 0    </td><td>0     </td><td>1     </td><td> 7    </td><td>5     </td><td>1     </td><td>0     </td></tr>\n",
       "\t<tr><td>253679</td><td>1     </td><td>1     </td><td>1     </td><td>25    </td><td>0     </td><td>0     </td><td>1     </td><td>1     </td><td>1     </td><td>...   </td><td>0     </td><td>2     </td><td> 0    </td><td> 0    </td><td>0     </td><td>0     </td><td> 9    </td><td>6     </td><td>2     </td><td>1     </td></tr>\n",
       "</tbody>\n",
       "</table>\n"
      ],
      "text/latex": [
       "\\begin{tabular}{r|lllllllllllllllllllllll}\n",
       " X & HighBP & HighChol & CholCheck & BMI & Smoker & Stroke & HeartDiseaseorAttack & PhysActivity & Fruits & ... & NoDocbcCost & GenHlth & MentHlth & PhysHlth & DiffWalk & Sex & Age & Education & Income & Diabetes\\_binary\\\\\n",
       "\\hline\n",
       "\t  0  & 1   & 1   & 1   & 40  & 1   & 0   & 0   & 0   & 0   & ... & 0   & 5   & 18  & 15  & 1   & 0   &  9  & 4   & 3   & 0  \\\\\n",
       "\t  1  & 0   & 0   & 0   & 25  & 1   & 0   & 0   & 1   & 0   & ... & 1   & 3   &  0  &  0  & 0   & 0   &  7  & 6   & 1   & 0  \\\\\n",
       "\t  2  & 1   & 1   & 1   & 28  & 0   & 0   & 0   & 0   & 1   & ... & 1   & 5   & 30  & 30  & 1   & 0   &  9  & 4   & 8   & 0  \\\\\n",
       "\t  3  & 1   & 0   & 1   & 27  & 0   & 0   & 0   & 1   & 1   & ... & 0   & 2   &  0  &  0  & 0   & 0   & 11  & 3   & 6   & 0  \\\\\n",
       "\t  4  & 1   & 1   & 1   & 24  & 0   & 0   & 0   & 1   & 1   & ... & 0   & 2   &  3  &  0  & 0   & 0   & 11  & 5   & 4   & 0  \\\\\n",
       "\t  5  & 1   & 1   & 1   & 25  & 1   & 0   & 0   & 1   & 1   & ... & 0   & 2   &  0  &  2  & 0   & 1   & 10  & 6   & 8   & 0  \\\\\n",
       "\t  6  & 1   & 0   & 1   & 30  & 1   & 0   & 0   & 0   & 0   & ... & 0   & 3   &  0  & 14  & 0   & 0   &  9  & 6   & 7   & 0  \\\\\n",
       "\t  7  & 1   & 1   & 1   & 25  & 1   & 0   & 0   & 1   & 0   & ... & 0   & 3   &  0  &  0  & 1   & 0   & 11  & 4   & 4   & 0  \\\\\n",
       "\t  8  & 1   & 1   & 1   & 30  & 1   & 0   & 1   & 0   & 1   & ... & 0   & 5   & 30  & 30  & 1   & 0   &  9  & 5   & 1   & 1  \\\\\n",
       "\t  9  & 0   & 0   & 1   & 24  & 0   & 0   & 0   & 0   & 0   & ... & 0   & 2   &  0  &  0  & 0   & 1   &  8  & 4   & 3   & 0  \\\\\n",
       "\t 10  & 0   & 0   & 1   & 25  & 1   & 0   & 0   & 1   & 1   & ... & 0   & 3   &  0  &  0  & 0   & 1   & 13  & 6   & 8   & 1  \\\\\n",
       "\t 11  & 1   & 1   & 1   & 34  & 1   & 0   & 0   & 0   & 1   & ... & 0   & 3   &  0  & 30  & 1   & 0   & 10  & 5   & 1   & 0  \\\\\n",
       "\t 12  & 0   & 0   & 1   & 26  & 1   & 0   & 0   & 0   & 0   & ... & 0   & 3   &  0  & 15  & 0   & 0   &  7  & 5   & 7   & 0  \\\\\n",
       "\t 13  & 1   & 1   & 1   & 28  & 0   & 0   & 0   & 0   & 0   & ... & 0   & 4   &  0  &  0  & 1   & 0   & 11  & 4   & 6   & 1  \\\\\n",
       "\t 14  & 0   & 1   & 1   & 33  & 1   & 1   & 0   & 1   & 0   & ... & 1   & 4   & 30  & 28  & 0   & 0   &  4  & 6   & 2   & 0  \\\\\n",
       "\t 15  & 1   & 0   & 1   & 33  & 0   & 0   & 0   & 1   & 0   & ... & 0   & 2   &  5  &  0  & 0   & 0   &  6  & 6   & 8   & 0  \\\\\n",
       "\t 16  & 1   & 1   & 1   & 21  & 0   & 0   & 0   & 1   & 1   & ... & 0   & 3   &  0  &  0  & 0   & 0   & 10  & 4   & 3   & 0  \\\\\n",
       "\t 17  & 0   & 0   & 1   & 23  & 1   & 0   & 0   & 1   & 0   & ... & 0   & 2   &  0  &  0  & 0   & 1   &  7  & 5   & 6   & 1  \\\\\n",
       "\t 18  & 0   & 0   & 0   & 23  & 0   & 0   & 0   & 0   & 0   & ... & 0   & 2   & 15  &  0  & 0   & 0   &  2  & 6   & 7   & 0  \\\\\n",
       "\t 19  & 0   & 1   & 1   & 28  & 0   & 0   & 0   & 0   & 0   & ... & 0   & 2   & 10  &  0  & 0   & 1   &  4  & 6   & 8   & 0  \\\\\n",
       "\t 20  & 1   & 1   & 1   & 22  & 0   & 1   & 1   & 0   & 1   & ... & 0   & 3   & 30  &  0  & 1   & 0   & 12  & 4   & 4   & 0  \\\\\n",
       "\t 21  & 1   & 1   & 1   & 38  & 1   & 0   & 0   & 0   & 1   & ... & 0   & 5   & 15  & 30  & 1   & 0   & 13  & 2   & 3   & 0  \\\\\n",
       "\t 22  & 0   & 0   & 1   & 28  & 1   & 0   & 0   & 0   & 0   & ... & 0   & 3   &  0  &  7  & 0   & 1   &  5  & 5   & 5   & 0  \\\\\n",
       "\t 23  & 1   & 0   & 1   & 27  & 0   & 0   & 0   & 1   & 1   & ... & 0   & 1   &  0  &  0  & 0   & 0   & 13  & 5   & 4   & 1  \\\\\n",
       "\t 24  & 1   & 1   & 1   & 28  & 1   & 0   & 0   & 0   & 1   & ... & 0   & 3   &  6  &  0  & 1   & 0   &  9  & 4   & 6   & 0  \\\\\n",
       "\t 25  & 0   & 0   & 1   & 32  & 0   & 0   & 0   & 1   & 1   & ... & 0   & 2   &  0  &  0  & 0   & 0   &  5  & 6   & 8   & 0  \\\\\n",
       "\t 26  & 1   & 1   & 1   & 37  & 1   & 1   & 1   & 0   & 0   & ... & 0   & 5   &  0  &  0  & 1   & 1   & 10  & 6   & 5   & 1  \\\\\n",
       "\t 27  & 1   & 1   & 1   & 28  & 1   & 0   & 1   & 0   & 0   & ... & 0   & 4   &  0  &  0  & 0   & 1   & 12  & 2   & 4   & 1  \\\\\n",
       "\t 28  & 1   & 1   & 1   & 27  & 1   & 0   & 0   & 0   & 1   & ... & 0   & 4   & 20  & 20  & 1   & 0   &  8  & 4   & 7   & 1  \\\\\n",
       "\t 29  & 0   & 1   & 1   & 31  & 1   & 0   & 0   & 1   & 1   & ... & 0   & 1   &  0  &  0  & 0   & 1   & 12  & 6   & 8   & 0  \\\\\n",
       "\t ... & ... & ... & ... & ... & ... & ... & ... & ... & ... &     & ... & ... & ... & ... & ... & ... & ... & ... & ... & ...\\\\\n",
       "\t 253650 & 1      & 0      & 1      & 27     & 0      & 0      & 0      & 1      & 0      & ...    & 0      & 4      &  0     &  0     & 0      & 0      &  5     & 4      & 2      & 0     \\\\\n",
       "\t 253651 & 0      & 0      & 1      & 24     & 0      & 0      & 0      & 1      & 1      & ...    & 1      & 1      &  0     &  0     & 0      & 1      &  2     & 6      & 3      & 0     \\\\\n",
       "\t 253652 & 0      & 1      & 1      & 27     & 0      & 0      & 0      & 1      & 1      & ...    & 0      & 4      &  0     & 30     & 0      & 1      & 11     & 2      & 3      & 1     \\\\\n",
       "\t 253653 & 0      & 0      & 1      & 33     & 1      & 0      & 0      & 0      & 1      & ...    & 0      & 4      &  0     & 15     & 0      & 1      & 10     & 6      & 3      & 0     \\\\\n",
       "\t 253654 & 0      & 0      & 1      & 26     & 1      & 0      & 0      & 1      & 1      & ...    & 0      & 2      &  1     &  0     & 0      & 1      &  3     & 3      & 1      & 0     \\\\\n",
       "\t 253655 & 0      & 0      & 1      & 28     & 0      & 0      & 0      & 1      & 1      & ...    & 0      & 2      &  0     &  0     & 0      & 0      &  2     & 6      & 4      & 0     \\\\\n",
       "\t 253656 & 0      & 0      & 1      & 25     & 0      & 0      & 0      & 1      & 1      & ...    & 0      & 1      &  0     &  0     & 0      & 0      &  4     & 6      & 8      & 0     \\\\\n",
       "\t 253657 & 0      & 1      & 1      & 24     & 0      & 0      & 0      & 0      & 0      & ...    & 0      & 3      &  0     &  0     & 0      & 0      &  7     & 5      & 3      & 0     \\\\\n",
       "\t 253658 & 0      & 0      & 0      & 27     & 0      & 0      & 0      & 1      & 0      & ...    & 1      & 2      &  0     &  0     & 0      & 0      &  3     & 6      & 5      & 0     \\\\\n",
       "\t 253659 & 0      & 1      & 1      & 37     & 0      & 0      & 0      & 0      & 0      & ...    & 0      & 4      &  0     &  0     & 0      & 0      &  6     & 4      & 1      & 1     \\\\\n",
       "\t 253660 & 0      & 1      & 1      & 34     & 1      & 0      & 0      & 0      & 1      & ...    & 0      & 3      &  0     &  2     & 1      & 0      &  7     & 4      & 3      & 0     \\\\\n",
       "\t 253661 & 1      & 0      & 1      & 33     & 0      & 0      & 0      & 1      & 0      & ...    & 1      & 3      &  0     &  2     & 1      & 0      &  6     & 6      & 6      & 0     \\\\\n",
       "\t 253662 & 0      & 0      & 1      & 16     & 0      & 0      & 0      & 1      & 0      & ...    & 0      & 1      &  0     &  0     & 0      & 0      &  5     & 6      & 2      & 0     \\\\\n",
       "\t 253663 & 0      & 0      & 1      & 23     & 0      & 0      & 0      & 0      & 1      & ...    & 1      & 2      &  0     & 30     & 0      & 0      &  5     & 6      & 2      & 0     \\\\\n",
       "\t 253664 & 0      & 1      & 1      & 29     & 1      & 0      & 0      & 0      & 0      & ...    & 0      & 3      &  0     &  0     & 0      & 0      &  6     & 6      & 4      & 0     \\\\\n",
       "\t 253665 & 0      & 1      & 1      & 17     & 0      & 0      & 0      & 0      & 0      & ...    & 1      & 4      & 30     & 30     & 0      & 0      &  5     & 4      & 1      & 0     \\\\\n",
       "\t 253666 & 1      & 0      & 1      & 23     & 0      & 0      & 0      & 0      & 1      & ...    & 0      & 3      &  0     & 15     & 0      & 0      &  6     & 5      & 2      & 0     \\\\\n",
       "\t 253667 & 1      & 1      & 1      & 28     & 1      & 0      & 0      & 0      & 0      & ...    & 0      & 3      &  0     &  0     & 0      & 0      & 11     & 4      & 7      & 0     \\\\\n",
       "\t 253668 & 0      & 1      & 1      & 29     & 1      & 0      & 1      & 0      & 1      & ...    & 0      & 2      &  0     &  0     & 1      & 1      & 10     & 3      & 6      & 1     \\\\\n",
       "\t 253669 & 0      & 1      & 1      & 27     & 0      & 0      & 0      & 0      & 0      & ...    & 1      & 1      &  0     &  3     & 0      & 1      &  6     & 2      & 4      & 0     \\\\\n",
       "\t 253670 & 1      & 1      & 1      & 25     & 0      & 0      & 1      & 0      & 1      & ...    & 0      & 5      & 15     &  0     & 1      & 0      & 13     & 6      & 4      & 1     \\\\\n",
       "\t 253671 & 1      & 1      & 1      & 23     & 0      & 1      & 1      & 0      & 0      & ...    & 1      & 4      &  0     &  5     & 0      & 1      &  8     & 3      & 2      & 0     \\\\\n",
       "\t 253672 & 1      & 0      & 1      & 30     & 1      & 0      & 1      & 1      & 1      & ...    & 0      & 3      &  0     &  0     & 0      & 1      & 12     & 2      & 1      & 0     \\\\\n",
       "\t 253673 & 1      & 0      & 1      & 42     & 0      & 0      & 0      & 1      & 1      & ...    & 0      & 3      & 14     &  4     & 0      & 1      &  3     & 6      & 8      & 0     \\\\\n",
       "\t 253674 & 0      & 0      & 1      & 27     & 0      & 0      & 0      & 0      & 0      & ...    & 0      & 1      &  0     &  0     & 0      & 0      &  3     & 6      & 5      & 0     \\\\\n",
       "\t 253675 & 1      & 1      & 1      & 45     & 0      & 0      & 0      & 0      & 1      & ...    & 0      & 3      &  0     &  5     & 0      & 1      &  5     & 6      & 7      & 0     \\\\\n",
       "\t 253676 & 1      & 1      & 1      & 18     & 0      & 0      & 0      & 0      & 0      & ...    & 0      & 4      &  0     &  0     & 1      & 0      & 11     & 2      & 4      & 1     \\\\\n",
       "\t 253677 & 0      & 0      & 1      & 28     & 0      & 0      & 0      & 1      & 1      & ...    & 0      & 1      &  0     &  0     & 0      & 0      &  2     & 5      & 2      & 0     \\\\\n",
       "\t 253678 & 1      & 0      & 1      & 23     & 0      & 0      & 0      & 0      & 1      & ...    & 0      & 3      &  0     &  0     & 0      & 1      &  7     & 5      & 1      & 0     \\\\\n",
       "\t 253679 & 1      & 1      & 1      & 25     & 0      & 0      & 1      & 1      & 1      & ...    & 0      & 2      &  0     &  0     & 0      & 0      &  9     & 6      & 2      & 1     \\\\\n",
       "\\end{tabular}\n"
      ],
      "text/markdown": [
       "\n",
       "| X | HighBP | HighChol | CholCheck | BMI | Smoker | Stroke | HeartDiseaseorAttack | PhysActivity | Fruits | ... | NoDocbcCost | GenHlth | MentHlth | PhysHlth | DiffWalk | Sex | Age | Education | Income | Diabetes_binary |\n",
       "|---|---|---|---|---|---|---|---|---|---|---|---|---|---|---|---|---|---|---|---|---|\n",
       "|  0  | 1   | 1   | 1   | 40  | 1   | 0   | 0   | 0   | 0   | ... | 0   | 5   | 18  | 15  | 1   | 0   |  9  | 4   | 3   | 0   |\n",
       "|  1  | 0   | 0   | 0   | 25  | 1   | 0   | 0   | 1   | 0   | ... | 1   | 3   |  0  |  0  | 0   | 0   |  7  | 6   | 1   | 0   |\n",
       "|  2  | 1   | 1   | 1   | 28  | 0   | 0   | 0   | 0   | 1   | ... | 1   | 5   | 30  | 30  | 1   | 0   |  9  | 4   | 8   | 0   |\n",
       "|  3  | 1   | 0   | 1   | 27  | 0   | 0   | 0   | 1   | 1   | ... | 0   | 2   |  0  |  0  | 0   | 0   | 11  | 3   | 6   | 0   |\n",
       "|  4  | 1   | 1   | 1   | 24  | 0   | 0   | 0   | 1   | 1   | ... | 0   | 2   |  3  |  0  | 0   | 0   | 11  | 5   | 4   | 0   |\n",
       "|  5  | 1   | 1   | 1   | 25  | 1   | 0   | 0   | 1   | 1   | ... | 0   | 2   |  0  |  2  | 0   | 1   | 10  | 6   | 8   | 0   |\n",
       "|  6  | 1   | 0   | 1   | 30  | 1   | 0   | 0   | 0   | 0   | ... | 0   | 3   |  0  | 14  | 0   | 0   |  9  | 6   | 7   | 0   |\n",
       "|  7  | 1   | 1   | 1   | 25  | 1   | 0   | 0   | 1   | 0   | ... | 0   | 3   |  0  |  0  | 1   | 0   | 11  | 4   | 4   | 0   |\n",
       "|  8  | 1   | 1   | 1   | 30  | 1   | 0   | 1   | 0   | 1   | ... | 0   | 5   | 30  | 30  | 1   | 0   |  9  | 5   | 1   | 1   |\n",
       "|  9  | 0   | 0   | 1   | 24  | 0   | 0   | 0   | 0   | 0   | ... | 0   | 2   |  0  |  0  | 0   | 1   |  8  | 4   | 3   | 0   |\n",
       "| 10  | 0   | 0   | 1   | 25  | 1   | 0   | 0   | 1   | 1   | ... | 0   | 3   |  0  |  0  | 0   | 1   | 13  | 6   | 8   | 1   |\n",
       "| 11  | 1   | 1   | 1   | 34  | 1   | 0   | 0   | 0   | 1   | ... | 0   | 3   |  0  | 30  | 1   | 0   | 10  | 5   | 1   | 0   |\n",
       "| 12  | 0   | 0   | 1   | 26  | 1   | 0   | 0   | 0   | 0   | ... | 0   | 3   |  0  | 15  | 0   | 0   |  7  | 5   | 7   | 0   |\n",
       "| 13  | 1   | 1   | 1   | 28  | 0   | 0   | 0   | 0   | 0   | ... | 0   | 4   |  0  |  0  | 1   | 0   | 11  | 4   | 6   | 1   |\n",
       "| 14  | 0   | 1   | 1   | 33  | 1   | 1   | 0   | 1   | 0   | ... | 1   | 4   | 30  | 28  | 0   | 0   |  4  | 6   | 2   | 0   |\n",
       "| 15  | 1   | 0   | 1   | 33  | 0   | 0   | 0   | 1   | 0   | ... | 0   | 2   |  5  |  0  | 0   | 0   |  6  | 6   | 8   | 0   |\n",
       "| 16  | 1   | 1   | 1   | 21  | 0   | 0   | 0   | 1   | 1   | ... | 0   | 3   |  0  |  0  | 0   | 0   | 10  | 4   | 3   | 0   |\n",
       "| 17  | 0   | 0   | 1   | 23  | 1   | 0   | 0   | 1   | 0   | ... | 0   | 2   |  0  |  0  | 0   | 1   |  7  | 5   | 6   | 1   |\n",
       "| 18  | 0   | 0   | 0   | 23  | 0   | 0   | 0   | 0   | 0   | ... | 0   | 2   | 15  |  0  | 0   | 0   |  2  | 6   | 7   | 0   |\n",
       "| 19  | 0   | 1   | 1   | 28  | 0   | 0   | 0   | 0   | 0   | ... | 0   | 2   | 10  |  0  | 0   | 1   |  4  | 6   | 8   | 0   |\n",
       "| 20  | 1   | 1   | 1   | 22  | 0   | 1   | 1   | 0   | 1   | ... | 0   | 3   | 30  |  0  | 1   | 0   | 12  | 4   | 4   | 0   |\n",
       "| 21  | 1   | 1   | 1   | 38  | 1   | 0   | 0   | 0   | 1   | ... | 0   | 5   | 15  | 30  | 1   | 0   | 13  | 2   | 3   | 0   |\n",
       "| 22  | 0   | 0   | 1   | 28  | 1   | 0   | 0   | 0   | 0   | ... | 0   | 3   |  0  |  7  | 0   | 1   |  5  | 5   | 5   | 0   |\n",
       "| 23  | 1   | 0   | 1   | 27  | 0   | 0   | 0   | 1   | 1   | ... | 0   | 1   |  0  |  0  | 0   | 0   | 13  | 5   | 4   | 1   |\n",
       "| 24  | 1   | 1   | 1   | 28  | 1   | 0   | 0   | 0   | 1   | ... | 0   | 3   |  6  |  0  | 1   | 0   |  9  | 4   | 6   | 0   |\n",
       "| 25  | 0   | 0   | 1   | 32  | 0   | 0   | 0   | 1   | 1   | ... | 0   | 2   |  0  |  0  | 0   | 0   |  5  | 6   | 8   | 0   |\n",
       "| 26  | 1   | 1   | 1   | 37  | 1   | 1   | 1   | 0   | 0   | ... | 0   | 5   |  0  |  0  | 1   | 1   | 10  | 6   | 5   | 1   |\n",
       "| 27  | 1   | 1   | 1   | 28  | 1   | 0   | 1   | 0   | 0   | ... | 0   | 4   |  0  |  0  | 0   | 1   | 12  | 2   | 4   | 1   |\n",
       "| 28  | 1   | 1   | 1   | 27  | 1   | 0   | 0   | 0   | 1   | ... | 0   | 4   | 20  | 20  | 1   | 0   |  8  | 4   | 7   | 1   |\n",
       "| 29  | 0   | 1   | 1   | 31  | 1   | 0   | 0   | 1   | 1   | ... | 0   | 1   |  0  |  0  | 0   | 1   | 12  | 6   | 8   | 0   |\n",
       "| ... | ... | ... | ... | ... | ... | ... | ... | ... | ... |     | ... | ... | ... | ... | ... | ... | ... | ... | ... | ... |\n",
       "| 253650 | 1      | 0      | 1      | 27     | 0      | 0      | 0      | 1      | 0      | ...    | 0      | 4      |  0     |  0     | 0      | 0      |  5     | 4      | 2      | 0      |\n",
       "| 253651 | 0      | 0      | 1      | 24     | 0      | 0      | 0      | 1      | 1      | ...    | 1      | 1      |  0     |  0     | 0      | 1      |  2     | 6      | 3      | 0      |\n",
       "| 253652 | 0      | 1      | 1      | 27     | 0      | 0      | 0      | 1      | 1      | ...    | 0      | 4      |  0     | 30     | 0      | 1      | 11     | 2      | 3      | 1      |\n",
       "| 253653 | 0      | 0      | 1      | 33     | 1      | 0      | 0      | 0      | 1      | ...    | 0      | 4      |  0     | 15     | 0      | 1      | 10     | 6      | 3      | 0      |\n",
       "| 253654 | 0      | 0      | 1      | 26     | 1      | 0      | 0      | 1      | 1      | ...    | 0      | 2      |  1     |  0     | 0      | 1      |  3     | 3      | 1      | 0      |\n",
       "| 253655 | 0      | 0      | 1      | 28     | 0      | 0      | 0      | 1      | 1      | ...    | 0      | 2      |  0     |  0     | 0      | 0      |  2     | 6      | 4      | 0      |\n",
       "| 253656 | 0      | 0      | 1      | 25     | 0      | 0      | 0      | 1      | 1      | ...    | 0      | 1      |  0     |  0     | 0      | 0      |  4     | 6      | 8      | 0      |\n",
       "| 253657 | 0      | 1      | 1      | 24     | 0      | 0      | 0      | 0      | 0      | ...    | 0      | 3      |  0     |  0     | 0      | 0      |  7     | 5      | 3      | 0      |\n",
       "| 253658 | 0      | 0      | 0      | 27     | 0      | 0      | 0      | 1      | 0      | ...    | 1      | 2      |  0     |  0     | 0      | 0      |  3     | 6      | 5      | 0      |\n",
       "| 253659 | 0      | 1      | 1      | 37     | 0      | 0      | 0      | 0      | 0      | ...    | 0      | 4      |  0     |  0     | 0      | 0      |  6     | 4      | 1      | 1      |\n",
       "| 253660 | 0      | 1      | 1      | 34     | 1      | 0      | 0      | 0      | 1      | ...    | 0      | 3      |  0     |  2     | 1      | 0      |  7     | 4      | 3      | 0      |\n",
       "| 253661 | 1      | 0      | 1      | 33     | 0      | 0      | 0      | 1      | 0      | ...    | 1      | 3      |  0     |  2     | 1      | 0      |  6     | 6      | 6      | 0      |\n",
       "| 253662 | 0      | 0      | 1      | 16     | 0      | 0      | 0      | 1      | 0      | ...    | 0      | 1      |  0     |  0     | 0      | 0      |  5     | 6      | 2      | 0      |\n",
       "| 253663 | 0      | 0      | 1      | 23     | 0      | 0      | 0      | 0      | 1      | ...    | 1      | 2      |  0     | 30     | 0      | 0      |  5     | 6      | 2      | 0      |\n",
       "| 253664 | 0      | 1      | 1      | 29     | 1      | 0      | 0      | 0      | 0      | ...    | 0      | 3      |  0     |  0     | 0      | 0      |  6     | 6      | 4      | 0      |\n",
       "| 253665 | 0      | 1      | 1      | 17     | 0      | 0      | 0      | 0      | 0      | ...    | 1      | 4      | 30     | 30     | 0      | 0      |  5     | 4      | 1      | 0      |\n",
       "| 253666 | 1      | 0      | 1      | 23     | 0      | 0      | 0      | 0      | 1      | ...    | 0      | 3      |  0     | 15     | 0      | 0      |  6     | 5      | 2      | 0      |\n",
       "| 253667 | 1      | 1      | 1      | 28     | 1      | 0      | 0      | 0      | 0      | ...    | 0      | 3      |  0     |  0     | 0      | 0      | 11     | 4      | 7      | 0      |\n",
       "| 253668 | 0      | 1      | 1      | 29     | 1      | 0      | 1      | 0      | 1      | ...    | 0      | 2      |  0     |  0     | 1      | 1      | 10     | 3      | 6      | 1      |\n",
       "| 253669 | 0      | 1      | 1      | 27     | 0      | 0      | 0      | 0      | 0      | ...    | 1      | 1      |  0     |  3     | 0      | 1      |  6     | 2      | 4      | 0      |\n",
       "| 253670 | 1      | 1      | 1      | 25     | 0      | 0      | 1      | 0      | 1      | ...    | 0      | 5      | 15     |  0     | 1      | 0      | 13     | 6      | 4      | 1      |\n",
       "| 253671 | 1      | 1      | 1      | 23     | 0      | 1      | 1      | 0      | 0      | ...    | 1      | 4      |  0     |  5     | 0      | 1      |  8     | 3      | 2      | 0      |\n",
       "| 253672 | 1      | 0      | 1      | 30     | 1      | 0      | 1      | 1      | 1      | ...    | 0      | 3      |  0     |  0     | 0      | 1      | 12     | 2      | 1      | 0      |\n",
       "| 253673 | 1      | 0      | 1      | 42     | 0      | 0      | 0      | 1      | 1      | ...    | 0      | 3      | 14     |  4     | 0      | 1      |  3     | 6      | 8      | 0      |\n",
       "| 253674 | 0      | 0      | 1      | 27     | 0      | 0      | 0      | 0      | 0      | ...    | 0      | 1      |  0     |  0     | 0      | 0      |  3     | 6      | 5      | 0      |\n",
       "| 253675 | 1      | 1      | 1      | 45     | 0      | 0      | 0      | 0      | 1      | ...    | 0      | 3      |  0     |  5     | 0      | 1      |  5     | 6      | 7      | 0      |\n",
       "| 253676 | 1      | 1      | 1      | 18     | 0      | 0      | 0      | 0      | 0      | ...    | 0      | 4      |  0     |  0     | 1      | 0      | 11     | 2      | 4      | 1      |\n",
       "| 253677 | 0      | 0      | 1      | 28     | 0      | 0      | 0      | 1      | 1      | ...    | 0      | 1      |  0     |  0     | 0      | 0      |  2     | 5      | 2      | 0      |\n",
       "| 253678 | 1      | 0      | 1      | 23     | 0      | 0      | 0      | 0      | 1      | ...    | 0      | 3      |  0     |  0     | 0      | 1      |  7     | 5      | 1      | 0      |\n",
       "| 253679 | 1      | 1      | 1      | 25     | 0      | 0      | 1      | 1      | 1      | ...    | 0      | 2      |  0     |  0     | 0      | 0      |  9     | 6      | 2      | 1      |\n",
       "\n"
      ],
      "text/plain": [
       "       X      HighBP HighChol CholCheck BMI Smoker Stroke HeartDiseaseorAttack\n",
       "1       0     1      1        1         40  1      0      0                   \n",
       "2       1     0      0        0         25  1      0      0                   \n",
       "3       2     1      1        1         28  0      0      0                   \n",
       "4       3     1      0        1         27  0      0      0                   \n",
       "5       4     1      1        1         24  0      0      0                   \n",
       "6       5     1      1        1         25  1      0      0                   \n",
       "7       6     1      0        1         30  1      0      0                   \n",
       "8       7     1      1        1         25  1      0      0                   \n",
       "9       8     1      1        1         30  1      0      1                   \n",
       "10      9     0      0        1         24  0      0      0                   \n",
       "11     10     0      0        1         25  1      0      0                   \n",
       "12     11     1      1        1         34  1      0      0                   \n",
       "13     12     0      0        1         26  1      0      0                   \n",
       "14     13     1      1        1         28  0      0      0                   \n",
       "15     14     0      1        1         33  1      1      0                   \n",
       "16     15     1      0        1         33  0      0      0                   \n",
       "17     16     1      1        1         21  0      0      0                   \n",
       "18     17     0      0        1         23  1      0      0                   \n",
       "19     18     0      0        0         23  0      0      0                   \n",
       "20     19     0      1        1         28  0      0      0                   \n",
       "21     20     1      1        1         22  0      1      1                   \n",
       "22     21     1      1        1         38  1      0      0                   \n",
       "23     22     0      0        1         28  1      0      0                   \n",
       "24     23     1      0        1         27  0      0      0                   \n",
       "25     24     1      1        1         28  1      0      0                   \n",
       "26     25     0      0        1         32  0      0      0                   \n",
       "27     26     1      1        1         37  1      1      1                   \n",
       "28     27     1      1        1         28  1      0      1                   \n",
       "29     28     1      1        1         27  1      0      0                   \n",
       "30     29     0      1        1         31  1      0      0                   \n",
       "...    ...    ...    ...      ...       ... ...    ...    ...                 \n",
       "253651 253650 1      0        1         27  0      0      0                   \n",
       "253652 253651 0      0        1         24  0      0      0                   \n",
       "253653 253652 0      1        1         27  0      0      0                   \n",
       "253654 253653 0      0        1         33  1      0      0                   \n",
       "253655 253654 0      0        1         26  1      0      0                   \n",
       "253656 253655 0      0        1         28  0      0      0                   \n",
       "253657 253656 0      0        1         25  0      0      0                   \n",
       "253658 253657 0      1        1         24  0      0      0                   \n",
       "253659 253658 0      0        0         27  0      0      0                   \n",
       "253660 253659 0      1        1         37  0      0      0                   \n",
       "253661 253660 0      1        1         34  1      0      0                   \n",
       "253662 253661 1      0        1         33  0      0      0                   \n",
       "253663 253662 0      0        1         16  0      0      0                   \n",
       "253664 253663 0      0        1         23  0      0      0                   \n",
       "253665 253664 0      1        1         29  1      0      0                   \n",
       "253666 253665 0      1        1         17  0      0      0                   \n",
       "253667 253666 1      0        1         23  0      0      0                   \n",
       "253668 253667 1      1        1         28  1      0      0                   \n",
       "253669 253668 0      1        1         29  1      0      1                   \n",
       "253670 253669 0      1        1         27  0      0      0                   \n",
       "253671 253670 1      1        1         25  0      0      1                   \n",
       "253672 253671 1      1        1         23  0      1      1                   \n",
       "253673 253672 1      0        1         30  1      0      1                   \n",
       "253674 253673 1      0        1         42  0      0      0                   \n",
       "253675 253674 0      0        1         27  0      0      0                   \n",
       "253676 253675 1      1        1         45  0      0      0                   \n",
       "253677 253676 1      1        1         18  0      0      0                   \n",
       "253678 253677 0      0        1         28  0      0      0                   \n",
       "253679 253678 1      0        1         23  0      0      0                   \n",
       "253680 253679 1      1        1         25  0      0      1                   \n",
       "       PhysActivity Fruits ... NoDocbcCost GenHlth MentHlth PhysHlth DiffWalk\n",
       "1      0            0      ... 0           5       18       15       1       \n",
       "2      1            0      ... 1           3        0        0       0       \n",
       "3      0            1      ... 1           5       30       30       1       \n",
       "4      1            1      ... 0           2        0        0       0       \n",
       "5      1            1      ... 0           2        3        0       0       \n",
       "6      1            1      ... 0           2        0        2       0       \n",
       "7      0            0      ... 0           3        0       14       0       \n",
       "8      1            0      ... 0           3        0        0       1       \n",
       "9      0            1      ... 0           5       30       30       1       \n",
       "10     0            0      ... 0           2        0        0       0       \n",
       "11     1            1      ... 0           3        0        0       0       \n",
       "12     0            1      ... 0           3        0       30       1       \n",
       "13     0            0      ... 0           3        0       15       0       \n",
       "14     0            0      ... 0           4        0        0       1       \n",
       "15     1            0      ... 1           4       30       28       0       \n",
       "16     1            0      ... 0           2        5        0       0       \n",
       "17     1            1      ... 0           3        0        0       0       \n",
       "18     1            0      ... 0           2        0        0       0       \n",
       "19     0            0      ... 0           2       15        0       0       \n",
       "20     0            0      ... 0           2       10        0       0       \n",
       "21     0            1      ... 0           3       30        0       1       \n",
       "22     0            1      ... 0           5       15       30       1       \n",
       "23     0            0      ... 0           3        0        7       0       \n",
       "24     1            1      ... 0           1        0        0       0       \n",
       "25     0            1      ... 0           3        6        0       1       \n",
       "26     1            1      ... 0           2        0        0       0       \n",
       "27     0            0      ... 0           5        0        0       1       \n",
       "28     0            0      ... 0           4        0        0       0       \n",
       "29     0            1      ... 0           4       20       20       1       \n",
       "30     1            1      ... 0           1        0        0       0       \n",
       "...    ...          ...        ...         ...     ...      ...      ...     \n",
       "253651 1            0      ... 0           4        0        0       0       \n",
       "253652 1            1      ... 1           1        0        0       0       \n",
       "253653 1            1      ... 0           4        0       30       0       \n",
       "253654 0            1      ... 0           4        0       15       0       \n",
       "253655 1            1      ... 0           2        1        0       0       \n",
       "253656 1            1      ... 0           2        0        0       0       \n",
       "253657 1            1      ... 0           1        0        0       0       \n",
       "253658 0            0      ... 0           3        0        0       0       \n",
       "253659 1            0      ... 1           2        0        0       0       \n",
       "253660 0            0      ... 0           4        0        0       0       \n",
       "253661 0            1      ... 0           3        0        2       1       \n",
       "253662 1            0      ... 1           3        0        2       1       \n",
       "253663 1            0      ... 0           1        0        0       0       \n",
       "253664 0            1      ... 1           2        0       30       0       \n",
       "253665 0            0      ... 0           3        0        0       0       \n",
       "253666 0            0      ... 1           4       30       30       0       \n",
       "253667 0            1      ... 0           3        0       15       0       \n",
       "253668 0            0      ... 0           3        0        0       0       \n",
       "253669 0            1      ... 0           2        0        0       1       \n",
       "253670 0            0      ... 1           1        0        3       0       \n",
       "253671 0            1      ... 0           5       15        0       1       \n",
       "253672 0            0      ... 1           4        0        5       0       \n",
       "253673 1            1      ... 0           3        0        0       0       \n",
       "253674 1            1      ... 0           3       14        4       0       \n",
       "253675 0            0      ... 0           1        0        0       0       \n",
       "253676 0            1      ... 0           3        0        5       0       \n",
       "253677 0            0      ... 0           4        0        0       1       \n",
       "253678 1            1      ... 0           1        0        0       0       \n",
       "253679 0            1      ... 0           3        0        0       0       \n",
       "253680 1            1      ... 0           2        0        0       0       \n",
       "       Sex Age Education Income Diabetes_binary\n",
       "1      0    9  4         3      0              \n",
       "2      0    7  6         1      0              \n",
       "3      0    9  4         8      0              \n",
       "4      0   11  3         6      0              \n",
       "5      0   11  5         4      0              \n",
       "6      1   10  6         8      0              \n",
       "7      0    9  6         7      0              \n",
       "8      0   11  4         4      0              \n",
       "9      0    9  5         1      1              \n",
       "10     1    8  4         3      0              \n",
       "11     1   13  6         8      1              \n",
       "12     0   10  5         1      0              \n",
       "13     0    7  5         7      0              \n",
       "14     0   11  4         6      1              \n",
       "15     0    4  6         2      0              \n",
       "16     0    6  6         8      0              \n",
       "17     0   10  4         3      0              \n",
       "18     1    7  5         6      1              \n",
       "19     0    2  6         7      0              \n",
       "20     1    4  6         8      0              \n",
       "21     0   12  4         4      0              \n",
       "22     0   13  2         3      0              \n",
       "23     1    5  5         5      0              \n",
       "24     0   13  5         4      1              \n",
       "25     0    9  4         6      0              \n",
       "26     0    5  6         8      0              \n",
       "27     1   10  6         5      1              \n",
       "28     1   12  2         4      1              \n",
       "29     0    8  4         7      1              \n",
       "30     1   12  6         8      0              \n",
       "...    ... ... ...       ...    ...            \n",
       "253651 0    5  4         2      0              \n",
       "253652 1    2  6         3      0              \n",
       "253653 1   11  2         3      1              \n",
       "253654 1   10  6         3      0              \n",
       "253655 1    3  3         1      0              \n",
       "253656 0    2  6         4      0              \n",
       "253657 0    4  6         8      0              \n",
       "253658 0    7  5         3      0              \n",
       "253659 0    3  6         5      0              \n",
       "253660 0    6  4         1      1              \n",
       "253661 0    7  4         3      0              \n",
       "253662 0    6  6         6      0              \n",
       "253663 0    5  6         2      0              \n",
       "253664 0    5  6         2      0              \n",
       "253665 0    6  6         4      0              \n",
       "253666 0    5  4         1      0              \n",
       "253667 0    6  5         2      0              \n",
       "253668 0   11  4         7      0              \n",
       "253669 1   10  3         6      1              \n",
       "253670 1    6  2         4      0              \n",
       "253671 0   13  6         4      1              \n",
       "253672 1    8  3         2      0              \n",
       "253673 1   12  2         1      0              \n",
       "253674 1    3  6         8      0              \n",
       "253675 0    3  6         5      0              \n",
       "253676 1    5  6         7      0              \n",
       "253677 0   11  2         4      1              \n",
       "253678 0    2  5         2      0              \n",
       "253679 1    7  5         1      0              \n",
       "253680 0    9  6         2      1              "
      ]
     },
     "metadata": {},
     "output_type": "display_data"
    }
   ],
   "source": [
    "df"
   ]
  },
  {
   "cell_type": "markdown",
   "id": "1f717dec-55b6-4609-9fcd-0714826fd00d",
   "metadata": {},
   "source": [
    "## 2. Data Preprocessing"
   ]
  },
  {
   "cell_type": "markdown",
   "id": "1d0da897-d2dd-42d3-8887-a11b43c0db6f",
   "metadata": {},
   "source": [
    "### 2.0. Standardize column names"
   ]
  },
  {
   "cell_type": "code",
   "execution_count": 12,
   "id": "44b0339c-d670-4306-a3f1-83281e99e025",
   "metadata": {},
   "outputs": [
    {
     "data": {
      "text/html": [
       "<ol class=list-inline>\n",
       "\t<li>'X'</li>\n",
       "\t<li>'HighBP'</li>\n",
       "\t<li>'HighChol'</li>\n",
       "\t<li>'CholCheck'</li>\n",
       "\t<li>'BMI'</li>\n",
       "\t<li>'Smoker'</li>\n",
       "\t<li>'Stroke'</li>\n",
       "\t<li>'HeartDiseaseorAttack'</li>\n",
       "\t<li>'PhysActivity'</li>\n",
       "\t<li>'Fruits'</li>\n",
       "\t<li>'Veggies'</li>\n",
       "\t<li>'HvyAlcoholConsump'</li>\n",
       "\t<li>'AnyHealthcare'</li>\n",
       "\t<li>'NoDocbcCost'</li>\n",
       "\t<li>'GenHlth'</li>\n",
       "\t<li>'MentHlth'</li>\n",
       "\t<li>'PhysHlth'</li>\n",
       "\t<li>'DiffWalk'</li>\n",
       "\t<li>'Sex'</li>\n",
       "\t<li>'Age'</li>\n",
       "\t<li>'Education'</li>\n",
       "\t<li>'Income'</li>\n",
       "\t<li>'Diabetes_binary'</li>\n",
       "</ol>\n"
      ],
      "text/latex": [
       "\\begin{enumerate*}\n",
       "\\item 'X'\n",
       "\\item 'HighBP'\n",
       "\\item 'HighChol'\n",
       "\\item 'CholCheck'\n",
       "\\item 'BMI'\n",
       "\\item 'Smoker'\n",
       "\\item 'Stroke'\n",
       "\\item 'HeartDiseaseorAttack'\n",
       "\\item 'PhysActivity'\n",
       "\\item 'Fruits'\n",
       "\\item 'Veggies'\n",
       "\\item 'HvyAlcoholConsump'\n",
       "\\item 'AnyHealthcare'\n",
       "\\item 'NoDocbcCost'\n",
       "\\item 'GenHlth'\n",
       "\\item 'MentHlth'\n",
       "\\item 'PhysHlth'\n",
       "\\item 'DiffWalk'\n",
       "\\item 'Sex'\n",
       "\\item 'Age'\n",
       "\\item 'Education'\n",
       "\\item 'Income'\n",
       "\\item 'Diabetes\\_binary'\n",
       "\\end{enumerate*}\n"
      ],
      "text/markdown": [
       "1. 'X'\n",
       "2. 'HighBP'\n",
       "3. 'HighChol'\n",
       "4. 'CholCheck'\n",
       "5. 'BMI'\n",
       "6. 'Smoker'\n",
       "7. 'Stroke'\n",
       "8. 'HeartDiseaseorAttack'\n",
       "9. 'PhysActivity'\n",
       "10. 'Fruits'\n",
       "11. 'Veggies'\n",
       "12. 'HvyAlcoholConsump'\n",
       "13. 'AnyHealthcare'\n",
       "14. 'NoDocbcCost'\n",
       "15. 'GenHlth'\n",
       "16. 'MentHlth'\n",
       "17. 'PhysHlth'\n",
       "18. 'DiffWalk'\n",
       "19. 'Sex'\n",
       "20. 'Age'\n",
       "21. 'Education'\n",
       "22. 'Income'\n",
       "23. 'Diabetes_binary'\n",
       "\n",
       "\n"
      ],
      "text/plain": [
       " [1] \"X\"                    \"HighBP\"               \"HighChol\"            \n",
       " [4] \"CholCheck\"            \"BMI\"                  \"Smoker\"              \n",
       " [7] \"Stroke\"               \"HeartDiseaseorAttack\" \"PhysActivity\"        \n",
       "[10] \"Fruits\"               \"Veggies\"              \"HvyAlcoholConsump\"   \n",
       "[13] \"AnyHealthcare\"        \"NoDocbcCost\"          \"GenHlth\"             \n",
       "[16] \"MentHlth\"             \"PhysHlth\"             \"DiffWalk\"            \n",
       "[19] \"Sex\"                  \"Age\"                  \"Education\"           \n",
       "[22] \"Income\"               \"Diabetes_binary\"     "
      ]
     },
     "metadata": {},
     "output_type": "display_data"
    }
   ],
   "source": [
    "colnames(df)\n",
    "# Column \"X\" should be changed to be a more meaningful name."
   ]
  },
  {
   "cell_type": "code",
   "execution_count": 13,
   "id": "ffa9a82c-c15d-442f-9466-166f37c569bf",
   "metadata": {},
   "outputs": [],
   "source": [
    "colnames(df)[1] = \"Index\""
   ]
  },
  {
   "cell_type": "code",
   "execution_count": 14,
   "id": "a0a0ae03-fed9-4886-a872-63c59f62d563",
   "metadata": {
    "scrolled": true
   },
   "outputs": [
    {
     "data": {
      "text/html": [
       "<ol class=list-inline>\n",
       "\t<li>'Index'</li>\n",
       "\t<li>'HighBP'</li>\n",
       "\t<li>'HighChol'</li>\n",
       "\t<li>'CholCheck'</li>\n",
       "\t<li>'BMI'</li>\n",
       "\t<li>'Smoker'</li>\n",
       "\t<li>'Stroke'</li>\n",
       "\t<li>'HeartDiseaseorAttack'</li>\n",
       "\t<li>'PhysActivity'</li>\n",
       "\t<li>'Fruits'</li>\n",
       "\t<li>'Veggies'</li>\n",
       "\t<li>'HvyAlcoholConsump'</li>\n",
       "\t<li>'AnyHealthcare'</li>\n",
       "\t<li>'NoDocbcCost'</li>\n",
       "\t<li>'GenHlth'</li>\n",
       "\t<li>'MentHlth'</li>\n",
       "\t<li>'PhysHlth'</li>\n",
       "\t<li>'DiffWalk'</li>\n",
       "\t<li>'Sex'</li>\n",
       "\t<li>'Age'</li>\n",
       "\t<li>'Education'</li>\n",
       "\t<li>'Income'</li>\n",
       "\t<li>'Diabetes_binary'</li>\n",
       "</ol>\n"
      ],
      "text/latex": [
       "\\begin{enumerate*}\n",
       "\\item 'Index'\n",
       "\\item 'HighBP'\n",
       "\\item 'HighChol'\n",
       "\\item 'CholCheck'\n",
       "\\item 'BMI'\n",
       "\\item 'Smoker'\n",
       "\\item 'Stroke'\n",
       "\\item 'HeartDiseaseorAttack'\n",
       "\\item 'PhysActivity'\n",
       "\\item 'Fruits'\n",
       "\\item 'Veggies'\n",
       "\\item 'HvyAlcoholConsump'\n",
       "\\item 'AnyHealthcare'\n",
       "\\item 'NoDocbcCost'\n",
       "\\item 'GenHlth'\n",
       "\\item 'MentHlth'\n",
       "\\item 'PhysHlth'\n",
       "\\item 'DiffWalk'\n",
       "\\item 'Sex'\n",
       "\\item 'Age'\n",
       "\\item 'Education'\n",
       "\\item 'Income'\n",
       "\\item 'Diabetes\\_binary'\n",
       "\\end{enumerate*}\n"
      ],
      "text/markdown": [
       "1. 'Index'\n",
       "2. 'HighBP'\n",
       "3. 'HighChol'\n",
       "4. 'CholCheck'\n",
       "5. 'BMI'\n",
       "6. 'Smoker'\n",
       "7. 'Stroke'\n",
       "8. 'HeartDiseaseorAttack'\n",
       "9. 'PhysActivity'\n",
       "10. 'Fruits'\n",
       "11. 'Veggies'\n",
       "12. 'HvyAlcoholConsump'\n",
       "13. 'AnyHealthcare'\n",
       "14. 'NoDocbcCost'\n",
       "15. 'GenHlth'\n",
       "16. 'MentHlth'\n",
       "17. 'PhysHlth'\n",
       "18. 'DiffWalk'\n",
       "19. 'Sex'\n",
       "20. 'Age'\n",
       "21. 'Education'\n",
       "22. 'Income'\n",
       "23. 'Diabetes_binary'\n",
       "\n",
       "\n"
      ],
      "text/plain": [
       " [1] \"Index\"                \"HighBP\"               \"HighChol\"            \n",
       " [4] \"CholCheck\"            \"BMI\"                  \"Smoker\"              \n",
       " [7] \"Stroke\"               \"HeartDiseaseorAttack\" \"PhysActivity\"        \n",
       "[10] \"Fruits\"               \"Veggies\"              \"HvyAlcoholConsump\"   \n",
       "[13] \"AnyHealthcare\"        \"NoDocbcCost\"          \"GenHlth\"             \n",
       "[16] \"MentHlth\"             \"PhysHlth\"             \"DiffWalk\"            \n",
       "[19] \"Sex\"                  \"Age\"                  \"Education\"           \n",
       "[22] \"Income\"               \"Diabetes_binary\"     "
      ]
     },
     "metadata": {},
     "output_type": "display_data"
    }
   ],
   "source": [
    "colnames(df)"
   ]
  },
  {
   "cell_type": "markdown",
   "id": "31d83dd3-2ef4-4645-97c6-46f94c676328",
   "metadata": {},
   "source": [
    "### 2.1. Mismatched data types"
   ]
  },
  {
   "cell_type": "code",
   "execution_count": 15,
   "id": "ce034848-c902-4a97-9e52-539c6d8cbd95",
   "metadata": {},
   "outputs": [
    {
     "name": "stdout",
     "output_type": "stream",
     "text": [
      "'data.frame':\t253680 obs. of  23 variables:\n",
      " $ Index               : int  0 1 2 3 4 5 6 7 8 9 ...\n",
      " $ HighBP              : int  1 0 1 1 1 1 1 1 1 0 ...\n",
      " $ HighChol            : int  1 0 1 0 1 1 0 1 1 0 ...\n",
      " $ CholCheck           : int  1 0 1 1 1 1 1 1 1 1 ...\n",
      " $ BMI                 : int  40 25 28 27 24 25 30 25 30 24 ...\n",
      " $ Smoker              : int  1 1 0 0 0 1 1 1 1 0 ...\n",
      " $ Stroke              : int  0 0 0 0 0 0 0 0 0 0 ...\n",
      " $ HeartDiseaseorAttack: int  0 0 0 0 0 0 0 0 1 0 ...\n",
      " $ PhysActivity        : int  0 1 0 1 1 1 0 1 0 0 ...\n",
      " $ Fruits              : int  0 0 1 1 1 1 0 0 1 0 ...\n",
      " $ Veggies             : int  1 0 0 1 1 1 0 1 1 1 ...\n",
      " $ HvyAlcoholConsump   : int  0 0 0 0 0 0 0 0 0 0 ...\n",
      " $ AnyHealthcare       : int  1 0 1 1 1 1 1 1 1 1 ...\n",
      " $ NoDocbcCost         : int  0 1 1 0 0 0 0 0 0 0 ...\n",
      " $ GenHlth             : int  5 3 5 2 2 2 3 3 5 2 ...\n",
      " $ MentHlth            : int  18 0 30 0 3 0 0 0 30 0 ...\n",
      " $ PhysHlth            : int  15 0 30 0 0 2 14 0 30 0 ...\n",
      " $ DiffWalk            : int  1 0 1 0 0 0 0 1 1 0 ...\n",
      " $ Sex                 : int  0 0 0 0 0 1 0 0 0 1 ...\n",
      " $ Age                 : int  9 7 9 11 11 10 9 11 9 8 ...\n",
      " $ Education           : int  4 6 4 3 5 6 6 4 5 4 ...\n",
      " $ Income              : int  3 1 8 6 4 8 7 4 1 3 ...\n",
      " $ Diabetes_binary     : int  0 0 0 0 0 0 0 0 1 0 ...\n"
     ]
    }
   ],
   "source": [
    "str(df)"
   ]
  },
  {
   "cell_type": "code",
   "execution_count": 16,
   "id": "49419219-ef94-47fd-99a4-e3cad2bb91c1",
   "metadata": {},
   "outputs": [],
   "source": [
    "# All columns have correct data type"
   ]
  },
  {
   "cell_type": "markdown",
   "id": "5c4a58f5-5435-49dd-9f1d-529e47004059",
   "metadata": {},
   "source": [
    "### 2.2. Mixed data values"
   ]
  },
  {
   "cell_type": "code",
   "execution_count": 17,
   "id": "1e49781d-cfe9-4972-9f3a-69d1978539bb",
   "metadata": {},
   "outputs": [],
   "source": [
    "# Example: (female, woman, man, male) => (male, female)"
   ]
  },
  {
   "cell_type": "code",
   "execution_count": 18,
   "id": "6ff43df1-fe86-4e6b-a6cd-b2ea0344d7ff",
   "metadata": {},
   "outputs": [],
   "source": [
    "# This dataset contains only number data => No mixed data values"
   ]
  },
  {
   "cell_type": "markdown",
   "id": "40cf6966-595e-40a2-aced-1868378fbb48",
   "metadata": {},
   "source": [
    "### 2.3. Missing data"
   ]
  },
  {
   "cell_type": "markdown",
   "id": "81e1dffa-3c61-4fa8-8f32-d575086ac1f2",
   "metadata": {},
   "source": [
    "#### 2.3.1 Null data"
   ]
  },
  {
   "cell_type": "code",
   "execution_count": 19,
   "id": "757b9fa5-bf65-493e-9192-f2e544e315b2",
   "metadata": {},
   "outputs": [
    {
     "data": {
      "text/html": [
       "0"
      ],
      "text/latex": [
       "0"
      ],
      "text/markdown": [
       "0"
      ],
      "text/plain": [
       "[1] 0"
      ]
     },
     "metadata": {},
     "output_type": "display_data"
    }
   ],
   "source": [
    "sum(is.na(df))"
   ]
  },
  {
   "cell_type": "code",
   "execution_count": 20,
   "id": "8b7efaed-832e-40b7-a49f-7b9b073d165a",
   "metadata": {},
   "outputs": [],
   "source": [
    "# This dataset has no missing values"
   ]
  },
  {
   "cell_type": "markdown",
   "id": "e161e281-b62a-45b1-a544-85730a8ce63f",
   "metadata": {},
   "source": [
    "#### 2.3.2 Missing data in specific columns"
   ]
  },
  {
   "cell_type": "code",
   "execution_count": 21,
   "id": "2dbfe0ab-3d92-4276-8571-af5e3f0a339a",
   "metadata": {},
   "outputs": [],
   "source": [
    "# We see that in column \"Age\", the value could have value of 14 which is Don’t know / Refused / Missing"
   ]
  },
  {
   "cell_type": "code",
   "execution_count": 22,
   "id": "ac20a3b6-e616-47e4-833f-8b84590e6bc5",
   "metadata": {},
   "outputs": [
    {
     "data": {
      "text/html": [
       "0"
      ],
      "text/latex": [
       "0"
      ],
      "text/markdown": [
       "0"
      ],
      "text/plain": [
       "[1] 0"
      ]
     },
     "metadata": {},
     "output_type": "display_data"
    }
   ],
   "source": [
    "nrow(subset(df, Age == 14))"
   ]
  },
  {
   "cell_type": "code",
   "execution_count": 23,
   "id": "ea283c98-7d9c-43b2-bbf2-a813a47172d5",
   "metadata": {},
   "outputs": [],
   "source": [
    "# Conclusion: The dataset has no missing data."
   ]
  },
  {
   "cell_type": "markdown",
   "id": "acf39570-b7d3-4edb-a363-44b2f5437178",
   "metadata": {},
   "source": [
    "### 2.4. Numeric and Categorical Classification"
   ]
  },
  {
   "cell_type": "code",
   "execution_count": 24,
   "id": "271baddb-c0af-459e-a6a7-eb1b794a7bbb",
   "metadata": {},
   "outputs": [
    {
     "name": "stdout",
     "output_type": "stream",
     "text": [
      "'data.frame':\t253680 obs. of  23 variables:\n",
      " $ Index               : int  0 1 2 3 4 5 6 7 8 9 ...\n",
      " $ HighBP              : int  1 0 1 1 1 1 1 1 1 0 ...\n",
      " $ HighChol            : int  1 0 1 0 1 1 0 1 1 0 ...\n",
      " $ CholCheck           : int  1 0 1 1 1 1 1 1 1 1 ...\n",
      " $ BMI                 : int  40 25 28 27 24 25 30 25 30 24 ...\n",
      " $ Smoker              : int  1 1 0 0 0 1 1 1 1 0 ...\n",
      " $ Stroke              : int  0 0 0 0 0 0 0 0 0 0 ...\n",
      " $ HeartDiseaseorAttack: int  0 0 0 0 0 0 0 0 1 0 ...\n",
      " $ PhysActivity        : int  0 1 0 1 1 1 0 1 0 0 ...\n",
      " $ Fruits              : int  0 0 1 1 1 1 0 0 1 0 ...\n",
      " $ Veggies             : int  1 0 0 1 1 1 0 1 1 1 ...\n",
      " $ HvyAlcoholConsump   : int  0 0 0 0 0 0 0 0 0 0 ...\n",
      " $ AnyHealthcare       : int  1 0 1 1 1 1 1 1 1 1 ...\n",
      " $ NoDocbcCost         : int  0 1 1 0 0 0 0 0 0 0 ...\n",
      " $ GenHlth             : int  5 3 5 2 2 2 3 3 5 2 ...\n",
      " $ MentHlth            : int  18 0 30 0 3 0 0 0 30 0 ...\n",
      " $ PhysHlth            : int  15 0 30 0 0 2 14 0 30 0 ...\n",
      " $ DiffWalk            : int  1 0 1 0 0 0 0 1 1 0 ...\n",
      " $ Sex                 : int  0 0 0 0 0 1 0 0 0 1 ...\n",
      " $ Age                 : int  9 7 9 11 11 10 9 11 9 8 ...\n",
      " $ Education           : int  4 6 4 3 5 6 6 4 5 4 ...\n",
      " $ Income              : int  3 1 8 6 4 8 7 4 1 3 ...\n",
      " $ Diabetes_binary     : int  0 0 0 0 0 0 0 0 1 0 ...\n"
     ]
    }
   ],
   "source": [
    "str(df)"
   ]
  },
  {
   "cell_type": "code",
   "execution_count": 25,
   "id": "2f12fac5-ee3e-468a-9e4b-e60e3427ab8c",
   "metadata": {},
   "outputs": [],
   "source": [
    "df$HighBP = factor(df$HighBP)"
   ]
  },
  {
   "cell_type": "code",
   "execution_count": 26,
   "id": "cb53404b-58cf-4184-a7e5-d4d6804d705e",
   "metadata": {},
   "outputs": [],
   "source": [
    "df$HighChol = factor(df$HighChol)"
   ]
  },
  {
   "cell_type": "code",
   "execution_count": 27,
   "id": "d99b3379-09d1-4416-a762-166d90a97f1a",
   "metadata": {},
   "outputs": [],
   "source": [
    "df$CholCheck = factor(df$CholCheck)"
   ]
  },
  {
   "cell_type": "code",
   "execution_count": 28,
   "id": "80df3909-9aa2-4f35-a8cf-d631899310bd",
   "metadata": {},
   "outputs": [],
   "source": [
    "df$Smoker = factor(df$Smoker)"
   ]
  },
  {
   "cell_type": "code",
   "execution_count": 29,
   "id": "671b8dfc-54c3-49fb-a830-25f03c1cf2b6",
   "metadata": {},
   "outputs": [],
   "source": [
    "df$Stroke = factor(df$Stroke)"
   ]
  },
  {
   "cell_type": "code",
   "execution_count": 30,
   "id": "118cbb47-51c7-4cca-9ab0-e8dac65060f6",
   "metadata": {},
   "outputs": [],
   "source": [
    "df$HeartDiseaseorAttack = factor(df$HeartDiseaseorAttack)"
   ]
  },
  {
   "cell_type": "code",
   "execution_count": 31,
   "id": "1bfb6794-2ea9-4eb9-b0ec-9e45f89ae03f",
   "metadata": {},
   "outputs": [],
   "source": [
    "df$PhysActivity = factor(df$PhysActivity)"
   ]
  },
  {
   "cell_type": "code",
   "execution_count": 32,
   "id": "f4b24548-be74-4d6f-ab5d-7767a6f2bbe7",
   "metadata": {},
   "outputs": [],
   "source": [
    "df$Fruits = factor(df$Fruits)"
   ]
  },
  {
   "cell_type": "code",
   "execution_count": 33,
   "id": "21ee6cfd-97f9-4ae4-9b7d-5d2ddae559ab",
   "metadata": {},
   "outputs": [],
   "source": [
    "df$Veggies = factor(df$Veggies)"
   ]
  },
  {
   "cell_type": "code",
   "execution_count": 34,
   "id": "5d4c5df4-ec9f-4e30-9235-fe9ef3ea21d1",
   "metadata": {},
   "outputs": [],
   "source": [
    "df$HvyAlcoholConsump = factor(df$HvyAlcoholConsump)"
   ]
  },
  {
   "cell_type": "code",
   "execution_count": 35,
   "id": "3a4f5ed3-1a36-48e2-b1a6-81fd714e3879",
   "metadata": {},
   "outputs": [],
   "source": [
    "df$AnyHealthcare = factor(df$AnyHealthcare)"
   ]
  },
  {
   "cell_type": "code",
   "execution_count": 36,
   "id": "457f7cfa-ca48-41f8-af7e-fc09dd6e7738",
   "metadata": {},
   "outputs": [],
   "source": [
    "df$NoDocbcCost = factor(df$NoDocbcCost)"
   ]
  },
  {
   "cell_type": "code",
   "execution_count": 37,
   "id": "1f03a97e-2ba5-4801-ab65-87ceec666ce5",
   "metadata": {},
   "outputs": [],
   "source": [
    "df$GenHlth = factor(df$GenHlth, ordered=T)"
   ]
  },
  {
   "cell_type": "code",
   "execution_count": 38,
   "id": "ad4a6af8-38c6-4c83-b97f-7fee891c1481",
   "metadata": {},
   "outputs": [],
   "source": [
    "df$DiffWalk = factor(df$DiffWalk)"
   ]
  },
  {
   "cell_type": "code",
   "execution_count": 39,
   "id": "34a76ce9-75e7-4b43-9d73-3a98935d76bb",
   "metadata": {},
   "outputs": [],
   "source": [
    "df$Sex = factor(df$Sex)"
   ]
  },
  {
   "cell_type": "code",
   "execution_count": 40,
   "id": "8e4196a8-1dda-4da3-8877-324019f068a8",
   "metadata": {},
   "outputs": [],
   "source": [
    "df$Age = factor(df$Age, ordered=T)"
   ]
  },
  {
   "cell_type": "code",
   "execution_count": 41,
   "id": "c4ccd768-3588-42b8-bebb-c6b031b412b2",
   "metadata": {},
   "outputs": [],
   "source": [
    "df$Education = factor(df$Education, ordered=T)"
   ]
  },
  {
   "cell_type": "code",
   "execution_count": 42,
   "id": "ce9485ae-1205-4efa-9063-512bbc4b8aa0",
   "metadata": {},
   "outputs": [],
   "source": [
    "df$Income = factor(df$Income, ordered=T)"
   ]
  },
  {
   "cell_type": "code",
   "execution_count": 43,
   "id": "9ec179a6-4d22-43a6-a14f-07ad84353433",
   "metadata": {},
   "outputs": [],
   "source": [
    "df$Diabetes_binary = factor(df$Diabetes_binary)"
   ]
  },
  {
   "cell_type": "code",
   "execution_count": 44,
   "id": "59ff28a0-cdb4-4f80-af9c-777e9ccf2179",
   "metadata": {},
   "outputs": [
    {
     "name": "stdout",
     "output_type": "stream",
     "text": [
      "'data.frame':\t253680 obs. of  23 variables:\n",
      " $ Index               : int  0 1 2 3 4 5 6 7 8 9 ...\n",
      " $ HighBP              : Factor w/ 2 levels \"0\",\"1\": 2 1 2 2 2 2 2 2 2 1 ...\n",
      " $ HighChol            : Factor w/ 2 levels \"0\",\"1\": 2 1 2 1 2 2 1 2 2 1 ...\n",
      " $ CholCheck           : Factor w/ 2 levels \"0\",\"1\": 2 1 2 2 2 2 2 2 2 2 ...\n",
      " $ BMI                 : int  40 25 28 27 24 25 30 25 30 24 ...\n",
      " $ Smoker              : Factor w/ 2 levels \"0\",\"1\": 2 2 1 1 1 2 2 2 2 1 ...\n",
      " $ Stroke              : Factor w/ 2 levels \"0\",\"1\": 1 1 1 1 1 1 1 1 1 1 ...\n",
      " $ HeartDiseaseorAttack: Factor w/ 2 levels \"0\",\"1\": 1 1 1 1 1 1 1 1 2 1 ...\n",
      " $ PhysActivity        : Factor w/ 2 levels \"0\",\"1\": 1 2 1 2 2 2 1 2 1 1 ...\n",
      " $ Fruits              : Factor w/ 2 levels \"0\",\"1\": 1 1 2 2 2 2 1 1 2 1 ...\n",
      " $ Veggies             : Factor w/ 2 levels \"0\",\"1\": 2 1 1 2 2 2 1 2 2 2 ...\n",
      " $ HvyAlcoholConsump   : Factor w/ 2 levels \"0\",\"1\": 1 1 1 1 1 1 1 1 1 1 ...\n",
      " $ AnyHealthcare       : Factor w/ 2 levels \"0\",\"1\": 2 1 2 2 2 2 2 2 2 2 ...\n",
      " $ NoDocbcCost         : Factor w/ 2 levels \"0\",\"1\": 1 2 2 1 1 1 1 1 1 1 ...\n",
      " $ GenHlth             : Ord.factor w/ 5 levels \"1\"<\"2\"<\"3\"<\"4\"<..: 5 3 5 2 2 2 3 3 5 2 ...\n",
      " $ MentHlth            : int  18 0 30 0 3 0 0 0 30 0 ...\n",
      " $ PhysHlth            : int  15 0 30 0 0 2 14 0 30 0 ...\n",
      " $ DiffWalk            : Factor w/ 2 levels \"0\",\"1\": 2 1 2 1 1 1 1 2 2 1 ...\n",
      " $ Sex                 : Factor w/ 2 levels \"0\",\"1\": 1 1 1 1 1 2 1 1 1 2 ...\n",
      " $ Age                 : Ord.factor w/ 13 levels \"1\"<\"2\"<\"3\"<\"4\"<..: 9 7 9 11 11 10 9 11 9 8 ...\n",
      " $ Education           : Ord.factor w/ 6 levels \"1\"<\"2\"<\"3\"<\"4\"<..: 4 6 4 3 5 6 6 4 5 4 ...\n",
      " $ Income              : Ord.factor w/ 8 levels \"1\"<\"2\"<\"3\"<\"4\"<..: 3 1 8 6 4 8 7 4 1 3 ...\n",
      " $ Diabetes_binary     : Factor w/ 2 levels \"0\",\"1\": 1 1 1 1 1 1 1 1 2 1 ...\n"
     ]
    }
   ],
   "source": [
    "str(df)"
   ]
  },
  {
   "cell_type": "markdown",
   "id": "db01998b-eff4-4705-9939-047ec8db8ba9",
   "metadata": {},
   "source": [
    "### 2.5. Outliers"
   ]
  },
  {
   "cell_type": "markdown",
   "id": "703b5601-549b-4e94-9da9-b614061db342",
   "metadata": {},
   "source": [
    "#### 2.5.1. Numeric data"
   ]
  },
  {
   "cell_type": "markdown",
   "id": "ec090a41-4693-4836-864b-b2ddbf7ca8d5",
   "metadata": {
    "jp-MarkdownHeadingCollapsed": true
   },
   "source": [
    "##### BMI"
   ]
  },
  {
   "cell_type": "code",
   "execution_count": 45,
   "id": "6b01b00f-31d2-4d67-b49c-f14cf2429cbf",
   "metadata": {},
   "outputs": [
    {
     "data": {
      "text/plain": [
       "   Min. 1st Qu.  Median    Mean 3rd Qu.    Max. \n",
       "  12.00   24.00   27.00   28.38   31.00   98.00 "
      ]
     },
     "metadata": {},
     "output_type": "display_data"
    }
   ],
   "source": [
    "summary(df$BMI)"
   ]
  },
  {
   "cell_type": "code",
   "execution_count": null,
   "id": "79300f0e-ef0c-4b21-9d08-d12c7600c5da",
   "metadata": {},
   "outputs": [],
   "source": [
    "# We see maximum value of BMI is 98 which is abnormal."
   ]
  },
  {
   "cell_type": "code",
   "execution_count": 47,
   "id": "f5bad478-6901-42f7-ab1a-26bbf20d536a",
   "metadata": {},
   "outputs": [
    {
     "data": {
      "image/png": "[encoded data removed]",
      "text/plain": [
       "plot without title"
      ]
     },
     "metadata": {},
     "output_type": "display_data"
    }
   ],
   "source": [
    "# Boxplot data\n",
    "boxplot(df$BMI)"
   ]
  },
  {
   "cell_type": "code",
   "execution_count": 48,
   "id": "bef55b95-5eff-4989-9da6-a3fa15ac74b7",
   "metadata": {},
   "outputs": [],
   "source": [
    "# We see that dataset has several outliers in \"BMI\" column."
   ]
  },
  {
   "cell_type": "code",
   "execution_count": 64,
   "id": "9ae8423d-e885-4e72-844f-d186196d7d2d",
   "metadata": {},
   "outputs": [],
   "source": [
    "BMI_q1 = quantile(df$BMI, 0.25)\n",
    "BMI_q3 = quantile(df$BMI, 0.75)\n",
    "BMI_iqr = BMI_q3 - BMI_q1\n",
    "BMI_lower_bound = BMI_q1 - 1.5 * BMI_iqr\n",
    "BMI_upper_bound = BMI_q3 + 1.5 * BMI_iqr"
   ]
  },
  {
   "cell_type": "code",
   "execution_count": 65,
   "id": "22f02777-1565-494c-ae2d-aa94b22e43f1",
   "metadata": {},
   "outputs": [],
   "source": [
    "BMI_outlier_df = df[df$BMI < BMI_lower_bound | df$BMI > BMI_upper_bound, ]"
   ]
  },
  {
   "cell_type": "code",
   "execution_count": 75,
   "id": "cb9a8765-6f3f-42c9-90e5-3f51c6b9b85a",
   "metadata": {
    "scrolled": true
   },
   "outputs": [
    {
     "data": {
      "text/html": [
       "3.8816619362977"
      ],
      "text/latex": [
       "3.8816619362977"
      ],
      "text/markdown": [
       "3.8816619362977"
      ],
      "text/plain": [
       "[1] 3.881662"
      ]
     },
     "metadata": {},
     "output_type": "display_data"
    }
   ],
   "source": [
    "nrow(BMI_outlier_df) / nrow(df) * 100"
   ]
  },
  {
   "cell_type": "code",
   "execution_count": 89,
   "id": "12272e2c-17f0-4555-a366-8cebdc0113d1",
   "metadata": {},
   "outputs": [],
   "source": [
    "# We see that the percentage of outliers is approximately about 4%.\n",
    "# Extreme values of BMI that higher 40 could affect the model.\n",
    "\n",
    "# To standardize the BMI index, WHO recommendations is used.\n",
    "# Reference: https://www.who.int/europe/news-room/fact-sheets/item/a-healthy-lifestyle---who-recommendations\n",
    "\n",
    "# |   BMI     | Nutritional Status | Categorical |\n",
    "# |-----------|--------------------|-------------|\n",
    "# | < 18.5    | Underweight        |      1      |\n",
    "# | 18.5–24.9 | Normal weight      |      2      |\n",
    "# | 25.0–29.9 | Pre-obesity        |      3      |\n",
    "# | 30.0–34.9 | Obesity class I    |      4      |\n",
    "# | 35.0–39.9 | Obesity class II   |      5      |\n",
    "# | > 40      | Obesity class III  |      6      |\n",
    "\n",
    "new_column = rep(0, nrow(df))\n",
    "df_std_1 = cbind(df[,1:5], StdBMI = new_column, df[,6:ncol(df)])"
   ]
  },
  {
   "cell_type": "code",
   "execution_count": 90,
   "id": "9837d382-4a36-455d-b9bb-d6a10411e334",
   "metadata": {
    "scrolled": true
   },
   "outputs": [
    {
     "data": {
      "text/html": [
       "<table>\n",
       "<thead><tr><th scope=col>Index</th><th scope=col>HighBP</th><th scope=col>HighChol</th><th scope=col>CholCheck</th><th scope=col>BMI</th><th scope=col>StdBMI</th><th scope=col>Smoker</th><th scope=col>Stroke</th><th scope=col>HeartDiseaseorAttack</th><th scope=col>PhysActivity</th><th scope=col>...</th><th scope=col>NoDocbcCost</th><th scope=col>GenHlth</th><th scope=col>MentHlth</th><th scope=col>PhysHlth</th><th scope=col>DiffWalk</th><th scope=col>Sex</th><th scope=col>Age</th><th scope=col>Education</th><th scope=col>Income</th><th scope=col>Diabetes_binary</th></tr></thead>\n",
       "<tbody>\n",
       "\t<tr><td> 0 </td><td>1  </td><td>1  </td><td>1  </td><td>40 </td><td>0  </td><td>1  </td><td>0  </td><td>0  </td><td>0  </td><td>...</td><td>0  </td><td>5  </td><td>18 </td><td>15 </td><td>1  </td><td>0  </td><td>9  </td><td>4  </td><td>3  </td><td>0  </td></tr>\n",
       "\t<tr><td> 1 </td><td>0  </td><td>0  </td><td>0  </td><td>25 </td><td>0  </td><td>1  </td><td>0  </td><td>0  </td><td>1  </td><td>...</td><td>1  </td><td>3  </td><td> 0 </td><td> 0 </td><td>0  </td><td>0  </td><td>7  </td><td>6  </td><td>1  </td><td>0  </td></tr>\n",
       "\t<tr><td> 2 </td><td>1  </td><td>1  </td><td>1  </td><td>28 </td><td>0  </td><td>0  </td><td>0  </td><td>0  </td><td>0  </td><td>...</td><td>1  </td><td>5  </td><td>30 </td><td>30 </td><td>1  </td><td>0  </td><td>9  </td><td>4  </td><td>8  </td><td>0  </td></tr>\n",
       "\t<tr><td> 3 </td><td>1  </td><td>0  </td><td>1  </td><td>27 </td><td>0  </td><td>0  </td><td>0  </td><td>0  </td><td>1  </td><td>...</td><td>0  </td><td>2  </td><td> 0 </td><td> 0 </td><td>0  </td><td>0  </td><td>11 </td><td>3  </td><td>6  </td><td>0  </td></tr>\n",
       "\t<tr><td> 4 </td><td>1  </td><td>1  </td><td>1  </td><td>24 </td><td>0  </td><td>0  </td><td>0  </td><td>0  </td><td>1  </td><td>...</td><td>0  </td><td>2  </td><td> 3 </td><td> 0 </td><td>0  </td><td>0  </td><td>11 </td><td>5  </td><td>4  </td><td>0  </td></tr>\n",
       "\t<tr><td> 5 </td><td>1  </td><td>1  </td><td>1  </td><td>25 </td><td>0  </td><td>1  </td><td>0  </td><td>0  </td><td>1  </td><td>...</td><td>0  </td><td>2  </td><td> 0 </td><td> 2 </td><td>0  </td><td>1  </td><td>10 </td><td>6  </td><td>8  </td><td>0  </td></tr>\n",
       "\t<tr><td> 6 </td><td>1  </td><td>0  </td><td>1  </td><td>30 </td><td>0  </td><td>1  </td><td>0  </td><td>0  </td><td>0  </td><td>...</td><td>0  </td><td>3  </td><td> 0 </td><td>14 </td><td>0  </td><td>0  </td><td>9  </td><td>6  </td><td>7  </td><td>0  </td></tr>\n",
       "\t<tr><td> 7 </td><td>1  </td><td>1  </td><td>1  </td><td>25 </td><td>0  </td><td>1  </td><td>0  </td><td>0  </td><td>1  </td><td>...</td><td>0  </td><td>3  </td><td> 0 </td><td> 0 </td><td>1  </td><td>0  </td><td>11 </td><td>4  </td><td>4  </td><td>0  </td></tr>\n",
       "\t<tr><td> 8 </td><td>1  </td><td>1  </td><td>1  </td><td>30 </td><td>0  </td><td>1  </td><td>0  </td><td>1  </td><td>0  </td><td>...</td><td>0  </td><td>5  </td><td>30 </td><td>30 </td><td>1  </td><td>0  </td><td>9  </td><td>5  </td><td>1  </td><td>1  </td></tr>\n",
       "\t<tr><td> 9 </td><td>0  </td><td>0  </td><td>1  </td><td>24 </td><td>0  </td><td>0  </td><td>0  </td><td>0  </td><td>0  </td><td>...</td><td>0  </td><td>2  </td><td> 0 </td><td> 0 </td><td>0  </td><td>1  </td><td>8  </td><td>4  </td><td>3  </td><td>0  </td></tr>\n",
       "\t<tr><td>10 </td><td>0  </td><td>0  </td><td>1  </td><td>25 </td><td>0  </td><td>1  </td><td>0  </td><td>0  </td><td>1  </td><td>...</td><td>0  </td><td>3  </td><td> 0 </td><td> 0 </td><td>0  </td><td>1  </td><td>13 </td><td>6  </td><td>8  </td><td>1  </td></tr>\n",
       "\t<tr><td>11 </td><td>1  </td><td>1  </td><td>1  </td><td>34 </td><td>0  </td><td>1  </td><td>0  </td><td>0  </td><td>0  </td><td>...</td><td>0  </td><td>3  </td><td> 0 </td><td>30 </td><td>1  </td><td>0  </td><td>10 </td><td>5  </td><td>1  </td><td>0  </td></tr>\n",
       "\t<tr><td>12 </td><td>0  </td><td>0  </td><td>1  </td><td>26 </td><td>0  </td><td>1  </td><td>0  </td><td>0  </td><td>0  </td><td>...</td><td>0  </td><td>3  </td><td> 0 </td><td>15 </td><td>0  </td><td>0  </td><td>7  </td><td>5  </td><td>7  </td><td>0  </td></tr>\n",
       "\t<tr><td>13 </td><td>1  </td><td>1  </td><td>1  </td><td>28 </td><td>0  </td><td>0  </td><td>0  </td><td>0  </td><td>0  </td><td>...</td><td>0  </td><td>4  </td><td> 0 </td><td> 0 </td><td>1  </td><td>0  </td><td>11 </td><td>4  </td><td>6  </td><td>1  </td></tr>\n",
       "\t<tr><td>14 </td><td>0  </td><td>1  </td><td>1  </td><td>33 </td><td>0  </td><td>1  </td><td>1  </td><td>0  </td><td>1  </td><td>...</td><td>1  </td><td>4  </td><td>30 </td><td>28 </td><td>0  </td><td>0  </td><td>4  </td><td>6  </td><td>2  </td><td>0  </td></tr>\n",
       "\t<tr><td>15 </td><td>1  </td><td>0  </td><td>1  </td><td>33 </td><td>0  </td><td>0  </td><td>0  </td><td>0  </td><td>1  </td><td>...</td><td>0  </td><td>2  </td><td> 5 </td><td> 0 </td><td>0  </td><td>0  </td><td>6  </td><td>6  </td><td>8  </td><td>0  </td></tr>\n",
       "\t<tr><td>16 </td><td>1  </td><td>1  </td><td>1  </td><td>21 </td><td>0  </td><td>0  </td><td>0  </td><td>0  </td><td>1  </td><td>...</td><td>0  </td><td>3  </td><td> 0 </td><td> 0 </td><td>0  </td><td>0  </td><td>10 </td><td>4  </td><td>3  </td><td>0  </td></tr>\n",
       "\t<tr><td>17 </td><td>0  </td><td>0  </td><td>1  </td><td>23 </td><td>0  </td><td>1  </td><td>0  </td><td>0  </td><td>1  </td><td>...</td><td>0  </td><td>2  </td><td> 0 </td><td> 0 </td><td>0  </td><td>1  </td><td>7  </td><td>5  </td><td>6  </td><td>1  </td></tr>\n",
       "\t<tr><td>18 </td><td>0  </td><td>0  </td><td>0  </td><td>23 </td><td>0  </td><td>0  </td><td>0  </td><td>0  </td><td>0  </td><td>...</td><td>0  </td><td>2  </td><td>15 </td><td> 0 </td><td>0  </td><td>0  </td><td>2  </td><td>6  </td><td>7  </td><td>0  </td></tr>\n",
       "\t<tr><td>19 </td><td>0  </td><td>1  </td><td>1  </td><td>28 </td><td>0  </td><td>0  </td><td>0  </td><td>0  </td><td>0  </td><td>...</td><td>0  </td><td>2  </td><td>10 </td><td> 0 </td><td>0  </td><td>1  </td><td>4  </td><td>6  </td><td>8  </td><td>0  </td></tr>\n",
       "\t<tr><td>20 </td><td>1  </td><td>1  </td><td>1  </td><td>22 </td><td>0  </td><td>0  </td><td>1  </td><td>1  </td><td>0  </td><td>...</td><td>0  </td><td>3  </td><td>30 </td><td> 0 </td><td>1  </td><td>0  </td><td>12 </td><td>4  </td><td>4  </td><td>0  </td></tr>\n",
       "\t<tr><td>21 </td><td>1  </td><td>1  </td><td>1  </td><td>38 </td><td>0  </td><td>1  </td><td>0  </td><td>0  </td><td>0  </td><td>...</td><td>0  </td><td>5  </td><td>15 </td><td>30 </td><td>1  </td><td>0  </td><td>13 </td><td>2  </td><td>3  </td><td>0  </td></tr>\n",
       "\t<tr><td>22 </td><td>0  </td><td>0  </td><td>1  </td><td>28 </td><td>0  </td><td>1  </td><td>0  </td><td>0  </td><td>0  </td><td>...</td><td>0  </td><td>3  </td><td> 0 </td><td> 7 </td><td>0  </td><td>1  </td><td>5  </td><td>5  </td><td>5  </td><td>0  </td></tr>\n",
       "\t<tr><td>23 </td><td>1  </td><td>0  </td><td>1  </td><td>27 </td><td>0  </td><td>0  </td><td>0  </td><td>0  </td><td>1  </td><td>...</td><td>0  </td><td>1  </td><td> 0 </td><td> 0 </td><td>0  </td><td>0  </td><td>13 </td><td>5  </td><td>4  </td><td>1  </td></tr>\n",
       "\t<tr><td>24 </td><td>1  </td><td>1  </td><td>1  </td><td>28 </td><td>0  </td><td>1  </td><td>0  </td><td>0  </td><td>0  </td><td>...</td><td>0  </td><td>3  </td><td> 6 </td><td> 0 </td><td>1  </td><td>0  </td><td>9  </td><td>4  </td><td>6  </td><td>0  </td></tr>\n",
       "\t<tr><td>25 </td><td>0  </td><td>0  </td><td>1  </td><td>32 </td><td>0  </td><td>0  </td><td>0  </td><td>0  </td><td>1  </td><td>...</td><td>0  </td><td>2  </td><td> 0 </td><td> 0 </td><td>0  </td><td>0  </td><td>5  </td><td>6  </td><td>8  </td><td>0  </td></tr>\n",
       "\t<tr><td>26 </td><td>1  </td><td>1  </td><td>1  </td><td>37 </td><td>0  </td><td>1  </td><td>1  </td><td>1  </td><td>0  </td><td>...</td><td>0  </td><td>5  </td><td> 0 </td><td> 0 </td><td>1  </td><td>1  </td><td>10 </td><td>6  </td><td>5  </td><td>1  </td></tr>\n",
       "\t<tr><td>27 </td><td>1  </td><td>1  </td><td>1  </td><td>28 </td><td>0  </td><td>1  </td><td>0  </td><td>1  </td><td>0  </td><td>...</td><td>0  </td><td>4  </td><td> 0 </td><td> 0 </td><td>0  </td><td>1  </td><td>12 </td><td>2  </td><td>4  </td><td>1  </td></tr>\n",
       "\t<tr><td>28 </td><td>1  </td><td>1  </td><td>1  </td><td>27 </td><td>0  </td><td>1  </td><td>0  </td><td>0  </td><td>0  </td><td>...</td><td>0  </td><td>4  </td><td>20 </td><td>20 </td><td>1  </td><td>0  </td><td>8  </td><td>4  </td><td>7  </td><td>1  </td></tr>\n",
       "\t<tr><td>29 </td><td>0  </td><td>1  </td><td>1  </td><td>31 </td><td>0  </td><td>1  </td><td>0  </td><td>0  </td><td>1  </td><td>...</td><td>0  </td><td>1  </td><td> 0 </td><td> 0 </td><td>0  </td><td>1  </td><td>12 </td><td>6  </td><td>8  </td><td>0  </td></tr>\n",
       "\t<tr><td>...</td><td>...</td><td>...</td><td>...</td><td>...</td><td>...</td><td>...</td><td>...</td><td>...</td><td>...</td><td>   </td><td>...</td><td>...</td><td>...</td><td>...</td><td>...</td><td>...</td><td>...</td><td>...</td><td>...</td><td>...</td></tr>\n",
       "\t<tr><td>253650</td><td>1     </td><td>0     </td><td>1     </td><td>27    </td><td>0     </td><td>0     </td><td>0     </td><td>0     </td><td>1     </td><td>...   </td><td>0     </td><td>4     </td><td> 0    </td><td> 0    </td><td>0     </td><td>0     </td><td>5     </td><td>4     </td><td>2     </td><td>0     </td></tr>\n",
       "\t<tr><td>253651</td><td>0     </td><td>0     </td><td>1     </td><td>24    </td><td>0     </td><td>0     </td><td>0     </td><td>0     </td><td>1     </td><td>...   </td><td>1     </td><td>1     </td><td> 0    </td><td> 0    </td><td>0     </td><td>1     </td><td>2     </td><td>6     </td><td>3     </td><td>0     </td></tr>\n",
       "\t<tr><td>253652</td><td>0     </td><td>1     </td><td>1     </td><td>27    </td><td>0     </td><td>0     </td><td>0     </td><td>0     </td><td>1     </td><td>...   </td><td>0     </td><td>4     </td><td> 0    </td><td>30    </td><td>0     </td><td>1     </td><td>11    </td><td>2     </td><td>3     </td><td>1     </td></tr>\n",
       "\t<tr><td>253653</td><td>0     </td><td>0     </td><td>1     </td><td>33    </td><td>0     </td><td>1     </td><td>0     </td><td>0     </td><td>0     </td><td>...   </td><td>0     </td><td>4     </td><td> 0    </td><td>15    </td><td>0     </td><td>1     </td><td>10    </td><td>6     </td><td>3     </td><td>0     </td></tr>\n",
       "\t<tr><td>253654</td><td>0     </td><td>0     </td><td>1     </td><td>26    </td><td>0     </td><td>1     </td><td>0     </td><td>0     </td><td>1     </td><td>...   </td><td>0     </td><td>2     </td><td> 1    </td><td> 0    </td><td>0     </td><td>1     </td><td>3     </td><td>3     </td><td>1     </td><td>0     </td></tr>\n",
       "\t<tr><td>253655</td><td>0     </td><td>0     </td><td>1     </td><td>28    </td><td>0     </td><td>0     </td><td>0     </td><td>0     </td><td>1     </td><td>...   </td><td>0     </td><td>2     </td><td> 0    </td><td> 0    </td><td>0     </td><td>0     </td><td>2     </td><td>6     </td><td>4     </td><td>0     </td></tr>\n",
       "\t<tr><td>253656</td><td>0     </td><td>0     </td><td>1     </td><td>25    </td><td>0     </td><td>0     </td><td>0     </td><td>0     </td><td>1     </td><td>...   </td><td>0     </td><td>1     </td><td> 0    </td><td> 0    </td><td>0     </td><td>0     </td><td>4     </td><td>6     </td><td>8     </td><td>0     </td></tr>\n",
       "\t<tr><td>253657</td><td>0     </td><td>1     </td><td>1     </td><td>24    </td><td>0     </td><td>0     </td><td>0     </td><td>0     </td><td>0     </td><td>...   </td><td>0     </td><td>3     </td><td> 0    </td><td> 0    </td><td>0     </td><td>0     </td><td>7     </td><td>5     </td><td>3     </td><td>0     </td></tr>\n",
       "\t<tr><td>253658</td><td>0     </td><td>0     </td><td>0     </td><td>27    </td><td>0     </td><td>0     </td><td>0     </td><td>0     </td><td>1     </td><td>...   </td><td>1     </td><td>2     </td><td> 0    </td><td> 0    </td><td>0     </td><td>0     </td><td>3     </td><td>6     </td><td>5     </td><td>0     </td></tr>\n",
       "\t<tr><td>253659</td><td>0     </td><td>1     </td><td>1     </td><td>37    </td><td>0     </td><td>0     </td><td>0     </td><td>0     </td><td>0     </td><td>...   </td><td>0     </td><td>4     </td><td> 0    </td><td> 0    </td><td>0     </td><td>0     </td><td>6     </td><td>4     </td><td>1     </td><td>1     </td></tr>\n",
       "\t<tr><td>253660</td><td>0     </td><td>1     </td><td>1     </td><td>34    </td><td>0     </td><td>1     </td><td>0     </td><td>0     </td><td>0     </td><td>...   </td><td>0     </td><td>3     </td><td> 0    </td><td> 2    </td><td>1     </td><td>0     </td><td>7     </td><td>4     </td><td>3     </td><td>0     </td></tr>\n",
       "\t<tr><td>253661</td><td>1     </td><td>0     </td><td>1     </td><td>33    </td><td>0     </td><td>0     </td><td>0     </td><td>0     </td><td>1     </td><td>...   </td><td>1     </td><td>3     </td><td> 0    </td><td> 2    </td><td>1     </td><td>0     </td><td>6     </td><td>6     </td><td>6     </td><td>0     </td></tr>\n",
       "\t<tr><td>253662</td><td>0     </td><td>0     </td><td>1     </td><td>16    </td><td>0     </td><td>0     </td><td>0     </td><td>0     </td><td>1     </td><td>...   </td><td>0     </td><td>1     </td><td> 0    </td><td> 0    </td><td>0     </td><td>0     </td><td>5     </td><td>6     </td><td>2     </td><td>0     </td></tr>\n",
       "\t<tr><td>253663</td><td>0     </td><td>0     </td><td>1     </td><td>23    </td><td>0     </td><td>0     </td><td>0     </td><td>0     </td><td>0     </td><td>...   </td><td>1     </td><td>2     </td><td> 0    </td><td>30    </td><td>0     </td><td>0     </td><td>5     </td><td>6     </td><td>2     </td><td>0     </td></tr>\n",
       "\t<tr><td>253664</td><td>0     </td><td>1     </td><td>1     </td><td>29    </td><td>0     </td><td>1     </td><td>0     </td><td>0     </td><td>0     </td><td>...   </td><td>0     </td><td>3     </td><td> 0    </td><td> 0    </td><td>0     </td><td>0     </td><td>6     </td><td>6     </td><td>4     </td><td>0     </td></tr>\n",
       "\t<tr><td>253665</td><td>0     </td><td>1     </td><td>1     </td><td>17    </td><td>0     </td><td>0     </td><td>0     </td><td>0     </td><td>0     </td><td>...   </td><td>1     </td><td>4     </td><td>30    </td><td>30    </td><td>0     </td><td>0     </td><td>5     </td><td>4     </td><td>1     </td><td>0     </td></tr>\n",
       "\t<tr><td>253666</td><td>1     </td><td>0     </td><td>1     </td><td>23    </td><td>0     </td><td>0     </td><td>0     </td><td>0     </td><td>0     </td><td>...   </td><td>0     </td><td>3     </td><td> 0    </td><td>15    </td><td>0     </td><td>0     </td><td>6     </td><td>5     </td><td>2     </td><td>0     </td></tr>\n",
       "\t<tr><td>253667</td><td>1     </td><td>1     </td><td>1     </td><td>28    </td><td>0     </td><td>1     </td><td>0     </td><td>0     </td><td>0     </td><td>...   </td><td>0     </td><td>3     </td><td> 0    </td><td> 0    </td><td>0     </td><td>0     </td><td>11    </td><td>4     </td><td>7     </td><td>0     </td></tr>\n",
       "\t<tr><td>253668</td><td>0     </td><td>1     </td><td>1     </td><td>29    </td><td>0     </td><td>1     </td><td>0     </td><td>1     </td><td>0     </td><td>...   </td><td>0     </td><td>2     </td><td> 0    </td><td> 0    </td><td>1     </td><td>1     </td><td>10    </td><td>3     </td><td>6     </td><td>1     </td></tr>\n",
       "\t<tr><td>253669</td><td>0     </td><td>1     </td><td>1     </td><td>27    </td><td>0     </td><td>0     </td><td>0     </td><td>0     </td><td>0     </td><td>...   </td><td>1     </td><td>1     </td><td> 0    </td><td> 3    </td><td>0     </td><td>1     </td><td>6     </td><td>2     </td><td>4     </td><td>0     </td></tr>\n",
       "\t<tr><td>253670</td><td>1     </td><td>1     </td><td>1     </td><td>25    </td><td>0     </td><td>0     </td><td>0     </td><td>1     </td><td>0     </td><td>...   </td><td>0     </td><td>5     </td><td>15    </td><td> 0    </td><td>1     </td><td>0     </td><td>13    </td><td>6     </td><td>4     </td><td>1     </td></tr>\n",
       "\t<tr><td>253671</td><td>1     </td><td>1     </td><td>1     </td><td>23    </td><td>0     </td><td>0     </td><td>1     </td><td>1     </td><td>0     </td><td>...   </td><td>1     </td><td>4     </td><td> 0    </td><td> 5    </td><td>0     </td><td>1     </td><td>8     </td><td>3     </td><td>2     </td><td>0     </td></tr>\n",
       "\t<tr><td>253672</td><td>1     </td><td>0     </td><td>1     </td><td>30    </td><td>0     </td><td>1     </td><td>0     </td><td>1     </td><td>1     </td><td>...   </td><td>0     </td><td>3     </td><td> 0    </td><td> 0    </td><td>0     </td><td>1     </td><td>12    </td><td>2     </td><td>1     </td><td>0     </td></tr>\n",
       "\t<tr><td>253673</td><td>1     </td><td>0     </td><td>1     </td><td>42    </td><td>0     </td><td>0     </td><td>0     </td><td>0     </td><td>1     </td><td>...   </td><td>0     </td><td>3     </td><td>14    </td><td> 4    </td><td>0     </td><td>1     </td><td>3     </td><td>6     </td><td>8     </td><td>0     </td></tr>\n",
       "\t<tr><td>253674</td><td>0     </td><td>0     </td><td>1     </td><td>27    </td><td>0     </td><td>0     </td><td>0     </td><td>0     </td><td>0     </td><td>...   </td><td>0     </td><td>1     </td><td> 0    </td><td> 0    </td><td>0     </td><td>0     </td><td>3     </td><td>6     </td><td>5     </td><td>0     </td></tr>\n",
       "\t<tr><td>253675</td><td>1     </td><td>1     </td><td>1     </td><td>45    </td><td>0     </td><td>0     </td><td>0     </td><td>0     </td><td>0     </td><td>...   </td><td>0     </td><td>3     </td><td> 0    </td><td> 5    </td><td>0     </td><td>1     </td><td>5     </td><td>6     </td><td>7     </td><td>0     </td></tr>\n",
       "\t<tr><td>253676</td><td>1     </td><td>1     </td><td>1     </td><td>18    </td><td>0     </td><td>0     </td><td>0     </td><td>0     </td><td>0     </td><td>...   </td><td>0     </td><td>4     </td><td> 0    </td><td> 0    </td><td>1     </td><td>0     </td><td>11    </td><td>2     </td><td>4     </td><td>1     </td></tr>\n",
       "\t<tr><td>253677</td><td>0     </td><td>0     </td><td>1     </td><td>28    </td><td>0     </td><td>0     </td><td>0     </td><td>0     </td><td>1     </td><td>...   </td><td>0     </td><td>1     </td><td> 0    </td><td> 0    </td><td>0     </td><td>0     </td><td>2     </td><td>5     </td><td>2     </td><td>0     </td></tr>\n",
       "\t<tr><td>253678</td><td>1     </td><td>0     </td><td>1     </td><td>23    </td><td>0     </td><td>0     </td><td>0     </td><td>0     </td><td>0     </td><td>...   </td><td>0     </td><td>3     </td><td> 0    </td><td> 0    </td><td>0     </td><td>1     </td><td>7     </td><td>5     </td><td>1     </td><td>0     </td></tr>\n",
       "\t<tr><td>253679</td><td>1     </td><td>1     </td><td>1     </td><td>25    </td><td>0     </td><td>0     </td><td>0     </td><td>1     </td><td>1     </td><td>...   </td><td>0     </td><td>2     </td><td> 0    </td><td> 0    </td><td>0     </td><td>0     </td><td>9     </td><td>6     </td><td>2     </td><td>1     </td></tr>\n",
       "</tbody>\n",
       "</table>\n"
      ],
      "text/latex": [
       "\\begin{tabular}{r|llllllllllllllllllllllll}\n",
       " Index & HighBP & HighChol & CholCheck & BMI & StdBMI & Smoker & Stroke & HeartDiseaseorAttack & PhysActivity & ... & NoDocbcCost & GenHlth & MentHlth & PhysHlth & DiffWalk & Sex & Age & Education & Income & Diabetes\\_binary\\\\\n",
       "\\hline\n",
       "\t  0  & 1   & 1   & 1   & 40  & 0   & 1   & 0   & 0   & 0   & ... & 0   & 5   & 18  & 15  & 1   & 0   & 9   & 4   & 3   & 0  \\\\\n",
       "\t  1  & 0   & 0   & 0   & 25  & 0   & 1   & 0   & 0   & 1   & ... & 1   & 3   &  0  &  0  & 0   & 0   & 7   & 6   & 1   & 0  \\\\\n",
       "\t  2  & 1   & 1   & 1   & 28  & 0   & 0   & 0   & 0   & 0   & ... & 1   & 5   & 30  & 30  & 1   & 0   & 9   & 4   & 8   & 0  \\\\\n",
       "\t  3  & 1   & 0   & 1   & 27  & 0   & 0   & 0   & 0   & 1   & ... & 0   & 2   &  0  &  0  & 0   & 0   & 11  & 3   & 6   & 0  \\\\\n",
       "\t  4  & 1   & 1   & 1   & 24  & 0   & 0   & 0   & 0   & 1   & ... & 0   & 2   &  3  &  0  & 0   & 0   & 11  & 5   & 4   & 0  \\\\\n",
       "\t  5  & 1   & 1   & 1   & 25  & 0   & 1   & 0   & 0   & 1   & ... & 0   & 2   &  0  &  2  & 0   & 1   & 10  & 6   & 8   & 0  \\\\\n",
       "\t  6  & 1   & 0   & 1   & 30  & 0   & 1   & 0   & 0   & 0   & ... & 0   & 3   &  0  & 14  & 0   & 0   & 9   & 6   & 7   & 0  \\\\\n",
       "\t  7  & 1   & 1   & 1   & 25  & 0   & 1   & 0   & 0   & 1   & ... & 0   & 3   &  0  &  0  & 1   & 0   & 11  & 4   & 4   & 0  \\\\\n",
       "\t  8  & 1   & 1   & 1   & 30  & 0   & 1   & 0   & 1   & 0   & ... & 0   & 5   & 30  & 30  & 1   & 0   & 9   & 5   & 1   & 1  \\\\\n",
       "\t  9  & 0   & 0   & 1   & 24  & 0   & 0   & 0   & 0   & 0   & ... & 0   & 2   &  0  &  0  & 0   & 1   & 8   & 4   & 3   & 0  \\\\\n",
       "\t 10  & 0   & 0   & 1   & 25  & 0   & 1   & 0   & 0   & 1   & ... & 0   & 3   &  0  &  0  & 0   & 1   & 13  & 6   & 8   & 1  \\\\\n",
       "\t 11  & 1   & 1   & 1   & 34  & 0   & 1   & 0   & 0   & 0   & ... & 0   & 3   &  0  & 30  & 1   & 0   & 10  & 5   & 1   & 0  \\\\\n",
       "\t 12  & 0   & 0   & 1   & 26  & 0   & 1   & 0   & 0   & 0   & ... & 0   & 3   &  0  & 15  & 0   & 0   & 7   & 5   & 7   & 0  \\\\\n",
       "\t 13  & 1   & 1   & 1   & 28  & 0   & 0   & 0   & 0   & 0   & ... & 0   & 4   &  0  &  0  & 1   & 0   & 11  & 4   & 6   & 1  \\\\\n",
       "\t 14  & 0   & 1   & 1   & 33  & 0   & 1   & 1   & 0   & 1   & ... & 1   & 4   & 30  & 28  & 0   & 0   & 4   & 6   & 2   & 0  \\\\\n",
       "\t 15  & 1   & 0   & 1   & 33  & 0   & 0   & 0   & 0   & 1   & ... & 0   & 2   &  5  &  0  & 0   & 0   & 6   & 6   & 8   & 0  \\\\\n",
       "\t 16  & 1   & 1   & 1   & 21  & 0   & 0   & 0   & 0   & 1   & ... & 0   & 3   &  0  &  0  & 0   & 0   & 10  & 4   & 3   & 0  \\\\\n",
       "\t 17  & 0   & 0   & 1   & 23  & 0   & 1   & 0   & 0   & 1   & ... & 0   & 2   &  0  &  0  & 0   & 1   & 7   & 5   & 6   & 1  \\\\\n",
       "\t 18  & 0   & 0   & 0   & 23  & 0   & 0   & 0   & 0   & 0   & ... & 0   & 2   & 15  &  0  & 0   & 0   & 2   & 6   & 7   & 0  \\\\\n",
       "\t 19  & 0   & 1   & 1   & 28  & 0   & 0   & 0   & 0   & 0   & ... & 0   & 2   & 10  &  0  & 0   & 1   & 4   & 6   & 8   & 0  \\\\\n",
       "\t 20  & 1   & 1   & 1   & 22  & 0   & 0   & 1   & 1   & 0   & ... & 0   & 3   & 30  &  0  & 1   & 0   & 12  & 4   & 4   & 0  \\\\\n",
       "\t 21  & 1   & 1   & 1   & 38  & 0   & 1   & 0   & 0   & 0   & ... & 0   & 5   & 15  & 30  & 1   & 0   & 13  & 2   & 3   & 0  \\\\\n",
       "\t 22  & 0   & 0   & 1   & 28  & 0   & 1   & 0   & 0   & 0   & ... & 0   & 3   &  0  &  7  & 0   & 1   & 5   & 5   & 5   & 0  \\\\\n",
       "\t 23  & 1   & 0   & 1   & 27  & 0   & 0   & 0   & 0   & 1   & ... & 0   & 1   &  0  &  0  & 0   & 0   & 13  & 5   & 4   & 1  \\\\\n",
       "\t 24  & 1   & 1   & 1   & 28  & 0   & 1   & 0   & 0   & 0   & ... & 0   & 3   &  6  &  0  & 1   & 0   & 9   & 4   & 6   & 0  \\\\\n",
       "\t 25  & 0   & 0   & 1   & 32  & 0   & 0   & 0   & 0   & 1   & ... & 0   & 2   &  0  &  0  & 0   & 0   & 5   & 6   & 8   & 0  \\\\\n",
       "\t 26  & 1   & 1   & 1   & 37  & 0   & 1   & 1   & 1   & 0   & ... & 0   & 5   &  0  &  0  & 1   & 1   & 10  & 6   & 5   & 1  \\\\\n",
       "\t 27  & 1   & 1   & 1   & 28  & 0   & 1   & 0   & 1   & 0   & ... & 0   & 4   &  0  &  0  & 0   & 1   & 12  & 2   & 4   & 1  \\\\\n",
       "\t 28  & 1   & 1   & 1   & 27  & 0   & 1   & 0   & 0   & 0   & ... & 0   & 4   & 20  & 20  & 1   & 0   & 8   & 4   & 7   & 1  \\\\\n",
       "\t 29  & 0   & 1   & 1   & 31  & 0   & 1   & 0   & 0   & 1   & ... & 0   & 1   &  0  &  0  & 0   & 1   & 12  & 6   & 8   & 0  \\\\\n",
       "\t ... & ... & ... & ... & ... & ... & ... & ... & ... & ... &     & ... & ... & ... & ... & ... & ... & ... & ... & ... & ...\\\\\n",
       "\t 253650 & 1      & 0      & 1      & 27     & 0      & 0      & 0      & 0      & 1      & ...    & 0      & 4      &  0     &  0     & 0      & 0      & 5      & 4      & 2      & 0     \\\\\n",
       "\t 253651 & 0      & 0      & 1      & 24     & 0      & 0      & 0      & 0      & 1      & ...    & 1      & 1      &  0     &  0     & 0      & 1      & 2      & 6      & 3      & 0     \\\\\n",
       "\t 253652 & 0      & 1      & 1      & 27     & 0      & 0      & 0      & 0      & 1      & ...    & 0      & 4      &  0     & 30     & 0      & 1      & 11     & 2      & 3      & 1     \\\\\n",
       "\t 253653 & 0      & 0      & 1      & 33     & 0      & 1      & 0      & 0      & 0      & ...    & 0      & 4      &  0     & 15     & 0      & 1      & 10     & 6      & 3      & 0     \\\\\n",
       "\t 253654 & 0      & 0      & 1      & 26     & 0      & 1      & 0      & 0      & 1      & ...    & 0      & 2      &  1     &  0     & 0      & 1      & 3      & 3      & 1      & 0     \\\\\n",
       "\t 253655 & 0      & 0      & 1      & 28     & 0      & 0      & 0      & 0      & 1      & ...    & 0      & 2      &  0     &  0     & 0      & 0      & 2      & 6      & 4      & 0     \\\\\n",
       "\t 253656 & 0      & 0      & 1      & 25     & 0      & 0      & 0      & 0      & 1      & ...    & 0      & 1      &  0     &  0     & 0      & 0      & 4      & 6      & 8      & 0     \\\\\n",
       "\t 253657 & 0      & 1      & 1      & 24     & 0      & 0      & 0      & 0      & 0      & ...    & 0      & 3      &  0     &  0     & 0      & 0      & 7      & 5      & 3      & 0     \\\\\n",
       "\t 253658 & 0      & 0      & 0      & 27     & 0      & 0      & 0      & 0      & 1      & ...    & 1      & 2      &  0     &  0     & 0      & 0      & 3      & 6      & 5      & 0     \\\\\n",
       "\t 253659 & 0      & 1      & 1      & 37     & 0      & 0      & 0      & 0      & 0      & ...    & 0      & 4      &  0     &  0     & 0      & 0      & 6      & 4      & 1      & 1     \\\\\n",
       "\t 253660 & 0      & 1      & 1      & 34     & 0      & 1      & 0      & 0      & 0      & ...    & 0      & 3      &  0     &  2     & 1      & 0      & 7      & 4      & 3      & 0     \\\\\n",
       "\t 253661 & 1      & 0      & 1      & 33     & 0      & 0      & 0      & 0      & 1      & ...    & 1      & 3      &  0     &  2     & 1      & 0      & 6      & 6      & 6      & 0     \\\\\n",
       "\t 253662 & 0      & 0      & 1      & 16     & 0      & 0      & 0      & 0      & 1      & ...    & 0      & 1      &  0     &  0     & 0      & 0      & 5      & 6      & 2      & 0     \\\\\n",
       "\t 253663 & 0      & 0      & 1      & 23     & 0      & 0      & 0      & 0      & 0      & ...    & 1      & 2      &  0     & 30     & 0      & 0      & 5      & 6      & 2      & 0     \\\\\n",
       "\t 253664 & 0      & 1      & 1      & 29     & 0      & 1      & 0      & 0      & 0      & ...    & 0      & 3      &  0     &  0     & 0      & 0      & 6      & 6      & 4      & 0     \\\\\n",
       "\t 253665 & 0      & 1      & 1      & 17     & 0      & 0      & 0      & 0      & 0      & ...    & 1      & 4      & 30     & 30     & 0      & 0      & 5      & 4      & 1      & 0     \\\\\n",
       "\t 253666 & 1      & 0      & 1      & 23     & 0      & 0      & 0      & 0      & 0      & ...    & 0      & 3      &  0     & 15     & 0      & 0      & 6      & 5      & 2      & 0     \\\\\n",
       "\t 253667 & 1      & 1      & 1      & 28     & 0      & 1      & 0      & 0      & 0      & ...    & 0      & 3      &  0     &  0     & 0      & 0      & 11     & 4      & 7      & 0     \\\\\n",
       "\t 253668 & 0      & 1      & 1      & 29     & 0      & 1      & 0      & 1      & 0      & ...    & 0      & 2      &  0     &  0     & 1      & 1      & 10     & 3      & 6      & 1     \\\\\n",
       "\t 253669 & 0      & 1      & 1      & 27     & 0      & 0      & 0      & 0      & 0      & ...    & 1      & 1      &  0     &  3     & 0      & 1      & 6      & 2      & 4      & 0     \\\\\n",
       "\t 253670 & 1      & 1      & 1      & 25     & 0      & 0      & 0      & 1      & 0      & ...    & 0      & 5      & 15     &  0     & 1      & 0      & 13     & 6      & 4      & 1     \\\\\n",
       "\t 253671 & 1      & 1      & 1      & 23     & 0      & 0      & 1      & 1      & 0      & ...    & 1      & 4      &  0     &  5     & 0      & 1      & 8      & 3      & 2      & 0     \\\\\n",
       "\t 253672 & 1      & 0      & 1      & 30     & 0      & 1      & 0      & 1      & 1      & ...    & 0      & 3      &  0     &  0     & 0      & 1      & 12     & 2      & 1      & 0     \\\\\n",
       "\t 253673 & 1      & 0      & 1      & 42     & 0      & 0      & 0      & 0      & 1      & ...    & 0      & 3      & 14     &  4     & 0      & 1      & 3      & 6      & 8      & 0     \\\\\n",
       "\t 253674 & 0      & 0      & 1      & 27     & 0      & 0      & 0      & 0      & 0      & ...    & 0      & 1      &  0     &  0     & 0      & 0      & 3      & 6      & 5      & 0     \\\\\n",
       "\t 253675 & 1      & 1      & 1      & 45     & 0      & 0      & 0      & 0      & 0      & ...    & 0      & 3      &  0     &  5     & 0      & 1      & 5      & 6      & 7      & 0     \\\\\n",
       "\t 253676 & 1      & 1      & 1      & 18     & 0      & 0      & 0      & 0      & 0      & ...    & 0      & 4      &  0     &  0     & 1      & 0      & 11     & 2      & 4      & 1     \\\\\n",
       "\t 253677 & 0      & 0      & 1      & 28     & 0      & 0      & 0      & 0      & 1      & ...    & 0      & 1      &  0     &  0     & 0      & 0      & 2      & 5      & 2      & 0     \\\\\n",
       "\t 253678 & 1      & 0      & 1      & 23     & 0      & 0      & 0      & 0      & 0      & ...    & 0      & 3      &  0     &  0     & 0      & 1      & 7      & 5      & 1      & 0     \\\\\n",
       "\t 253679 & 1      & 1      & 1      & 25     & 0      & 0      & 0      & 1      & 1      & ...    & 0      & 2      &  0     &  0     & 0      & 0      & 9      & 6      & 2      & 1     \\\\\n",
       "\\end{tabular}\n"
      ],
      "text/markdown": [
       "\n",
       "| Index | HighBP | HighChol | CholCheck | BMI | StdBMI | Smoker | Stroke | HeartDiseaseorAttack | PhysActivity | ... | NoDocbcCost | GenHlth | MentHlth | PhysHlth | DiffWalk | Sex | Age | Education | Income | Diabetes_binary |\n",
       "|---|---|---|---|---|---|---|---|---|---|---|---|---|---|---|---|---|---|---|---|---|\n",
       "|  0  | 1   | 1   | 1   | 40  | 0   | 1   | 0   | 0   | 0   | ... | 0   | 5   | 18  | 15  | 1   | 0   | 9   | 4   | 3   | 0   |\n",
       "|  1  | 0   | 0   | 0   | 25  | 0   | 1   | 0   | 0   | 1   | ... | 1   | 3   |  0  |  0  | 0   | 0   | 7   | 6   | 1   | 0   |\n",
       "|  2  | 1   | 1   | 1   | 28  | 0   | 0   | 0   | 0   | 0   | ... | 1   | 5   | 30  | 30  | 1   | 0   | 9   | 4   | 8   | 0   |\n",
       "|  3  | 1   | 0   | 1   | 27  | 0   | 0   | 0   | 0   | 1   | ... | 0   | 2   |  0  |  0  | 0   | 0   | 11  | 3   | 6   | 0   |\n",
       "|  4  | 1   | 1   | 1   | 24  | 0   | 0   | 0   | 0   | 1   | ... | 0   | 2   |  3  |  0  | 0   | 0   | 11  | 5   | 4   | 0   |\n",
       "|  5  | 1   | 1   | 1   | 25  | 0   | 1   | 0   | 0   | 1   | ... | 0   | 2   |  0  |  2  | 0   | 1   | 10  | 6   | 8   | 0   |\n",
       "|  6  | 1   | 0   | 1   | 30  | 0   | 1   | 0   | 0   | 0   | ... | 0   | 3   |  0  | 14  | 0   | 0   | 9   | 6   | 7   | 0   |\n",
       "|  7  | 1   | 1   | 1   | 25  | 0   | 1   | 0   | 0   | 1   | ... | 0   | 3   |  0  |  0  | 1   | 0   | 11  | 4   | 4   | 0   |\n",
       "|  8  | 1   | 1   | 1   | 30  | 0   | 1   | 0   | 1   | 0   | ... | 0   | 5   | 30  | 30  | 1   | 0   | 9   | 5   | 1   | 1   |\n",
       "|  9  | 0   | 0   | 1   | 24  | 0   | 0   | 0   | 0   | 0   | ... | 0   | 2   |  0  |  0  | 0   | 1   | 8   | 4   | 3   | 0   |\n",
       "| 10  | 0   | 0   | 1   | 25  | 0   | 1   | 0   | 0   | 1   | ... | 0   | 3   |  0  |  0  | 0   | 1   | 13  | 6   | 8   | 1   |\n",
       "| 11  | 1   | 1   | 1   | 34  | 0   | 1   | 0   | 0   | 0   | ... | 0   | 3   |  0  | 30  | 1   | 0   | 10  | 5   | 1   | 0   |\n",
       "| 12  | 0   | 0   | 1   | 26  | 0   | 1   | 0   | 0   | 0   | ... | 0   | 3   |  0  | 15  | 0   | 0   | 7   | 5   | 7   | 0   |\n",
       "| 13  | 1   | 1   | 1   | 28  | 0   | 0   | 0   | 0   | 0   | ... | 0   | 4   |  0  |  0  | 1   | 0   | 11  | 4   | 6   | 1   |\n",
       "| 14  | 0   | 1   | 1   | 33  | 0   | 1   | 1   | 0   | 1   | ... | 1   | 4   | 30  | 28  | 0   | 0   | 4   | 6   | 2   | 0   |\n",
       "| 15  | 1   | 0   | 1   | 33  | 0   | 0   | 0   | 0   | 1   | ... | 0   | 2   |  5  |  0  | 0   | 0   | 6   | 6   | 8   | 0   |\n",
       "| 16  | 1   | 1   | 1   | 21  | 0   | 0   | 0   | 0   | 1   | ... | 0   | 3   |  0  |  0  | 0   | 0   | 10  | 4   | 3   | 0   |\n",
       "| 17  | 0   | 0   | 1   | 23  | 0   | 1   | 0   | 0   | 1   | ... | 0   | 2   |  0  |  0  | 0   | 1   | 7   | 5   | 6   | 1   |\n",
       "| 18  | 0   | 0   | 0   | 23  | 0   | 0   | 0   | 0   | 0   | ... | 0   | 2   | 15  |  0  | 0   | 0   | 2   | 6   | 7   | 0   |\n",
       "| 19  | 0   | 1   | 1   | 28  | 0   | 0   | 0   | 0   | 0   | ... | 0   | 2   | 10  |  0  | 0   | 1   | 4   | 6   | 8   | 0   |\n",
       "| 20  | 1   | 1   | 1   | 22  | 0   | 0   | 1   | 1   | 0   | ... | 0   | 3   | 30  |  0  | 1   | 0   | 12  | 4   | 4   | 0   |\n",
       "| 21  | 1   | 1   | 1   | 38  | 0   | 1   | 0   | 0   | 0   | ... | 0   | 5   | 15  | 30  | 1   | 0   | 13  | 2   | 3   | 0   |\n",
       "| 22  | 0   | 0   | 1   | 28  | 0   | 1   | 0   | 0   | 0   | ... | 0   | 3   |  0  |  7  | 0   | 1   | 5   | 5   | 5   | 0   |\n",
       "| 23  | 1   | 0   | 1   | 27  | 0   | 0   | 0   | 0   | 1   | ... | 0   | 1   |  0  |  0  | 0   | 0   | 13  | 5   | 4   | 1   |\n",
       "| 24  | 1   | 1   | 1   | 28  | 0   | 1   | 0   | 0   | 0   | ... | 0   | 3   |  6  |  0  | 1   | 0   | 9   | 4   | 6   | 0   |\n",
       "| 25  | 0   | 0   | 1   | 32  | 0   | 0   | 0   | 0   | 1   | ... | 0   | 2   |  0  |  0  | 0   | 0   | 5   | 6   | 8   | 0   |\n",
       "| 26  | 1   | 1   | 1   | 37  | 0   | 1   | 1   | 1   | 0   | ... | 0   | 5   |  0  |  0  | 1   | 1   | 10  | 6   | 5   | 1   |\n",
       "| 27  | 1   | 1   | 1   | 28  | 0   | 1   | 0   | 1   | 0   | ... | 0   | 4   |  0  |  0  | 0   | 1   | 12  | 2   | 4   | 1   |\n",
       "| 28  | 1   | 1   | 1   | 27  | 0   | 1   | 0   | 0   | 0   | ... | 0   | 4   | 20  | 20  | 1   | 0   | 8   | 4   | 7   | 1   |\n",
       "| 29  | 0   | 1   | 1   | 31  | 0   | 1   | 0   | 0   | 1   | ... | 0   | 1   |  0  |  0  | 0   | 1   | 12  | 6   | 8   | 0   |\n",
       "| ... | ... | ... | ... | ... | ... | ... | ... | ... | ... |     | ... | ... | ... | ... | ... | ... | ... | ... | ... | ... |\n",
       "| 253650 | 1      | 0      | 1      | 27     | 0      | 0      | 0      | 0      | 1      | ...    | 0      | 4      |  0     |  0     | 0      | 0      | 5      | 4      | 2      | 0      |\n",
       "| 253651 | 0      | 0      | 1      | 24     | 0      | 0      | 0      | 0      | 1      | ...    | 1      | 1      |  0     |  0     | 0      | 1      | 2      | 6      | 3      | 0      |\n",
       "| 253652 | 0      | 1      | 1      | 27     | 0      | 0      | 0      | 0      | 1      | ...    | 0      | 4      |  0     | 30     | 0      | 1      | 11     | 2      | 3      | 1      |\n",
       "| 253653 | 0      | 0      | 1      | 33     | 0      | 1      | 0      | 0      | 0      | ...    | 0      | 4      |  0     | 15     | 0      | 1      | 10     | 6      | 3      | 0      |\n",
       "| 253654 | 0      | 0      | 1      | 26     | 0      | 1      | 0      | 0      | 1      | ...    | 0      | 2      |  1     |  0     | 0      | 1      | 3      | 3      | 1      | 0      |\n",
       "| 253655 | 0      | 0      | 1      | 28     | 0      | 0      | 0      | 0      | 1      | ...    | 0      | 2      |  0     |  0     | 0      | 0      | 2      | 6      | 4      | 0      |\n",
       "| 253656 | 0      | 0      | 1      | 25     | 0      | 0      | 0      | 0      | 1      | ...    | 0      | 1      |  0     |  0     | 0      | 0      | 4      | 6      | 8      | 0      |\n",
       "| 253657 | 0      | 1      | 1      | 24     | 0      | 0      | 0      | 0      | 0      | ...    | 0      | 3      |  0     |  0     | 0      | 0      | 7      | 5      | 3      | 0      |\n",
       "| 253658 | 0      | 0      | 0      | 27     | 0      | 0      | 0      | 0      | 1      | ...    | 1      | 2      |  0     |  0     | 0      | 0      | 3      | 6      | 5      | 0      |\n",
       "| 253659 | 0      | 1      | 1      | 37     | 0      | 0      | 0      | 0      | 0      | ...    | 0      | 4      |  0     |  0     | 0      | 0      | 6      | 4      | 1      | 1      |\n",
       "| 253660 | 0      | 1      | 1      | 34     | 0      | 1      | 0      | 0      | 0      | ...    | 0      | 3      |  0     |  2     | 1      | 0      | 7      | 4      | 3      | 0      |\n",
       "| 253661 | 1      | 0      | 1      | 33     | 0      | 0      | 0      | 0      | 1      | ...    | 1      | 3      |  0     |  2     | 1      | 0      | 6      | 6      | 6      | 0      |\n",
       "| 253662 | 0      | 0      | 1      | 16     | 0      | 0      | 0      | 0      | 1      | ...    | 0      | 1      |  0     |  0     | 0      | 0      | 5      | 6      | 2      | 0      |\n",
       "| 253663 | 0      | 0      | 1      | 23     | 0      | 0      | 0      | 0      | 0      | ...    | 1      | 2      |  0     | 30     | 0      | 0      | 5      | 6      | 2      | 0      |\n",
       "| 253664 | 0      | 1      | 1      | 29     | 0      | 1      | 0      | 0      | 0      | ...    | 0      | 3      |  0     |  0     | 0      | 0      | 6      | 6      | 4      | 0      |\n",
       "| 253665 | 0      | 1      | 1      | 17     | 0      | 0      | 0      | 0      | 0      | ...    | 1      | 4      | 30     | 30     | 0      | 0      | 5      | 4      | 1      | 0      |\n",
       "| 253666 | 1      | 0      | 1      | 23     | 0      | 0      | 0      | 0      | 0      | ...    | 0      | 3      |  0     | 15     | 0      | 0      | 6      | 5      | 2      | 0      |\n",
       "| 253667 | 1      | 1      | 1      | 28     | 0      | 1      | 0      | 0      | 0      | ...    | 0      | 3      |  0     |  0     | 0      | 0      | 11     | 4      | 7      | 0      |\n",
       "| 253668 | 0      | 1      | 1      | 29     | 0      | 1      | 0      | 1      | 0      | ...    | 0      | 2      |  0     |  0     | 1      | 1      | 10     | 3      | 6      | 1      |\n",
       "| 253669 | 0      | 1      | 1      | 27     | 0      | 0      | 0      | 0      | 0      | ...    | 1      | 1      |  0     |  3     | 0      | 1      | 6      | 2      | 4      | 0      |\n",
       "| 253670 | 1      | 1      | 1      | 25     | 0      | 0      | 0      | 1      | 0      | ...    | 0      | 5      | 15     |  0     | 1      | 0      | 13     | 6      | 4      | 1      |\n",
       "| 253671 | 1      | 1      | 1      | 23     | 0      | 0      | 1      | 1      | 0      | ...    | 1      | 4      |  0     |  5     | 0      | 1      | 8      | 3      | 2      | 0      |\n",
       "| 253672 | 1      | 0      | 1      | 30     | 0      | 1      | 0      | 1      | 1      | ...    | 0      | 3      |  0     |  0     | 0      | 1      | 12     | 2      | 1      | 0      |\n",
       "| 253673 | 1      | 0      | 1      | 42     | 0      | 0      | 0      | 0      | 1      | ...    | 0      | 3      | 14     |  4     | 0      | 1      | 3      | 6      | 8      | 0      |\n",
       "| 253674 | 0      | 0      | 1      | 27     | 0      | 0      | 0      | 0      | 0      | ...    | 0      | 1      |  0     |  0     | 0      | 0      | 3      | 6      | 5      | 0      |\n",
       "| 253675 | 1      | 1      | 1      | 45     | 0      | 0      | 0      | 0      | 0      | ...    | 0      | 3      |  0     |  5     | 0      | 1      | 5      | 6      | 7      | 0      |\n",
       "| 253676 | 1      | 1      | 1      | 18     | 0      | 0      | 0      | 0      | 0      | ...    | 0      | 4      |  0     |  0     | 1      | 0      | 11     | 2      | 4      | 1      |\n",
       "| 253677 | 0      | 0      | 1      | 28     | 0      | 0      | 0      | 0      | 1      | ...    | 0      | 1      |  0     |  0     | 0      | 0      | 2      | 5      | 2      | 0      |\n",
       "| 253678 | 1      | 0      | 1      | 23     | 0      | 0      | 0      | 0      | 0      | ...    | 0      | 3      |  0     |  0     | 0      | 1      | 7      | 5      | 1      | 0      |\n",
       "| 253679 | 1      | 1      | 1      | 25     | 0      | 0      | 0      | 1      | 1      | ...    | 0      | 2      |  0     |  0     | 0      | 0      | 9      | 6      | 2      | 1      |\n",
       "\n"
      ],
      "text/plain": [
       "       Index  HighBP HighChol CholCheck BMI StdBMI Smoker Stroke\n",
       "1       0     1      1        1         40  0      1      0     \n",
       "2       1     0      0        0         25  0      1      0     \n",
       "3       2     1      1        1         28  0      0      0     \n",
       "4       3     1      0        1         27  0      0      0     \n",
       "5       4     1      1        1         24  0      0      0     \n",
       "6       5     1      1        1         25  0      1      0     \n",
       "7       6     1      0        1         30  0      1      0     \n",
       "8       7     1      1        1         25  0      1      0     \n",
       "9       8     1      1        1         30  0      1      0     \n",
       "10      9     0      0        1         24  0      0      0     \n",
       "11     10     0      0        1         25  0      1      0     \n",
       "12     11     1      1        1         34  0      1      0     \n",
       "13     12     0      0        1         26  0      1      0     \n",
       "14     13     1      1        1         28  0      0      0     \n",
       "15     14     0      1        1         33  0      1      1     \n",
       "16     15     1      0        1         33  0      0      0     \n",
       "17     16     1      1        1         21  0      0      0     \n",
       "18     17     0      0        1         23  0      1      0     \n",
       "19     18     0      0        0         23  0      0      0     \n",
       "20     19     0      1        1         28  0      0      0     \n",
       "21     20     1      1        1         22  0      0      1     \n",
       "22     21     1      1        1         38  0      1      0     \n",
       "23     22     0      0        1         28  0      1      0     \n",
       "24     23     1      0        1         27  0      0      0     \n",
       "25     24     1      1        1         28  0      1      0     \n",
       "26     25     0      0        1         32  0      0      0     \n",
       "27     26     1      1        1         37  0      1      1     \n",
       "28     27     1      1        1         28  0      1      0     \n",
       "29     28     1      1        1         27  0      1      0     \n",
       "30     29     0      1        1         31  0      1      0     \n",
       "...    ...    ...    ...      ...       ... ...    ...    ...   \n",
       "253651 253650 1      0        1         27  0      0      0     \n",
       "253652 253651 0      0        1         24  0      0      0     \n",
       "253653 253652 0      1        1         27  0      0      0     \n",
       "253654 253653 0      0        1         33  0      1      0     \n",
       "253655 253654 0      0        1         26  0      1      0     \n",
       "253656 253655 0      0        1         28  0      0      0     \n",
       "253657 253656 0      0        1         25  0      0      0     \n",
       "253658 253657 0      1        1         24  0      0      0     \n",
       "253659 253658 0      0        0         27  0      0      0     \n",
       "253660 253659 0      1        1         37  0      0      0     \n",
       "253661 253660 0      1        1         34  0      1      0     \n",
       "253662 253661 1      0        1         33  0      0      0     \n",
       "253663 253662 0      0        1         16  0      0      0     \n",
       "253664 253663 0      0        1         23  0      0      0     \n",
       "253665 253664 0      1        1         29  0      1      0     \n",
       "253666 253665 0      1        1         17  0      0      0     \n",
       "253667 253666 1      0        1         23  0      0      0     \n",
       "253668 253667 1      1        1         28  0      1      0     \n",
       "253669 253668 0      1        1         29  0      1      0     \n",
       "253670 253669 0      1        1         27  0      0      0     \n",
       "253671 253670 1      1        1         25  0      0      0     \n",
       "253672 253671 1      1        1         23  0      0      1     \n",
       "253673 253672 1      0        1         30  0      1      0     \n",
       "253674 253673 1      0        1         42  0      0      0     \n",
       "253675 253674 0      0        1         27  0      0      0     \n",
       "253676 253675 1      1        1         45  0      0      0     \n",
       "253677 253676 1      1        1         18  0      0      0     \n",
       "253678 253677 0      0        1         28  0      0      0     \n",
       "253679 253678 1      0        1         23  0      0      0     \n",
       "253680 253679 1      1        1         25  0      0      0     \n",
       "       HeartDiseaseorAttack PhysActivity ... NoDocbcCost GenHlth MentHlth\n",
       "1      0                    0            ... 0           5       18      \n",
       "2      0                    1            ... 1           3        0      \n",
       "3      0                    0            ... 1           5       30      \n",
       "4      0                    1            ... 0           2        0      \n",
       "5      0                    1            ... 0           2        3      \n",
       "6      0                    1            ... 0           2        0      \n",
       "7      0                    0            ... 0           3        0      \n",
       "8      0                    1            ... 0           3        0      \n",
       "9      1                    0            ... 0           5       30      \n",
       "10     0                    0            ... 0           2        0      \n",
       "11     0                    1            ... 0           3        0      \n",
       "12     0                    0            ... 0           3        0      \n",
       "13     0                    0            ... 0           3        0      \n",
       "14     0                    0            ... 0           4        0      \n",
       "15     0                    1            ... 1           4       30      \n",
       "16     0                    1            ... 0           2        5      \n",
       "17     0                    1            ... 0           3        0      \n",
       "18     0                    1            ... 0           2        0      \n",
       "19     0                    0            ... 0           2       15      \n",
       "20     0                    0            ... 0           2       10      \n",
       "21     1                    0            ... 0           3       30      \n",
       "22     0                    0            ... 0           5       15      \n",
       "23     0                    0            ... 0           3        0      \n",
       "24     0                    1            ... 0           1        0      \n",
       "25     0                    0            ... 0           3        6      \n",
       "26     0                    1            ... 0           2        0      \n",
       "27     1                    0            ... 0           5        0      \n",
       "28     1                    0            ... 0           4        0      \n",
       "29     0                    0            ... 0           4       20      \n",
       "30     0                    1            ... 0           1        0      \n",
       "...    ...                  ...              ...         ...     ...     \n",
       "253651 0                    1            ... 0           4        0      \n",
       "253652 0                    1            ... 1           1        0      \n",
       "253653 0                    1            ... 0           4        0      \n",
       "253654 0                    0            ... 0           4        0      \n",
       "253655 0                    1            ... 0           2        1      \n",
       "253656 0                    1            ... 0           2        0      \n",
       "253657 0                    1            ... 0           1        0      \n",
       "253658 0                    0            ... 0           3        0      \n",
       "253659 0                    1            ... 1           2        0      \n",
       "253660 0                    0            ... 0           4        0      \n",
       "253661 0                    0            ... 0           3        0      \n",
       "253662 0                    1            ... 1           3        0      \n",
       "253663 0                    1            ... 0           1        0      \n",
       "253664 0                    0            ... 1           2        0      \n",
       "253665 0                    0            ... 0           3        0      \n",
       "253666 0                    0            ... 1           4       30      \n",
       "253667 0                    0            ... 0           3        0      \n",
       "253668 0                    0            ... 0           3        0      \n",
       "253669 1                    0            ... 0           2        0      \n",
       "253670 0                    0            ... 1           1        0      \n",
       "253671 1                    0            ... 0           5       15      \n",
       "253672 1                    0            ... 1           4        0      \n",
       "253673 1                    1            ... 0           3        0      \n",
       "253674 0                    1            ... 0           3       14      \n",
       "253675 0                    0            ... 0           1        0      \n",
       "253676 0                    0            ... 0           3        0      \n",
       "253677 0                    0            ... 0           4        0      \n",
       "253678 0                    1            ... 0           1        0      \n",
       "253679 0                    0            ... 0           3        0      \n",
       "253680 1                    1            ... 0           2        0      \n",
       "       PhysHlth DiffWalk Sex Age Education Income Diabetes_binary\n",
       "1      15       1        0   9   4         3      0              \n",
       "2       0       0        0   7   6         1      0              \n",
       "3      30       1        0   9   4         8      0              \n",
       "4       0       0        0   11  3         6      0              \n",
       "5       0       0        0   11  5         4      0              \n",
       "6       2       0        1   10  6         8      0              \n",
       "7      14       0        0   9   6         7      0              \n",
       "8       0       1        0   11  4         4      0              \n",
       "9      30       1        0   9   5         1      1              \n",
       "10      0       0        1   8   4         3      0              \n",
       "11      0       0        1   13  6         8      1              \n",
       "12     30       1        0   10  5         1      0              \n",
       "13     15       0        0   7   5         7      0              \n",
       "14      0       1        0   11  4         6      1              \n",
       "15     28       0        0   4   6         2      0              \n",
       "16      0       0        0   6   6         8      0              \n",
       "17      0       0        0   10  4         3      0              \n",
       "18      0       0        1   7   5         6      1              \n",
       "19      0       0        0   2   6         7      0              \n",
       "20      0       0        1   4   6         8      0              \n",
       "21      0       1        0   12  4         4      0              \n",
       "22     30       1        0   13  2         3      0              \n",
       "23      7       0        1   5   5         5      0              \n",
       "24      0       0        0   13  5         4      1              \n",
       "25      0       1        0   9   4         6      0              \n",
       "26      0       0        0   5   6         8      0              \n",
       "27      0       1        1   10  6         5      1              \n",
       "28      0       0        1   12  2         4      1              \n",
       "29     20       1        0   8   4         7      1              \n",
       "30      0       0        1   12  6         8      0              \n",
       "...    ...      ...      ... ... ...       ...    ...            \n",
       "253651  0       0        0   5   4         2      0              \n",
       "253652  0       0        1   2   6         3      0              \n",
       "253653 30       0        1   11  2         3      1              \n",
       "253654 15       0        1   10  6         3      0              \n",
       "253655  0       0        1   3   3         1      0              \n",
       "253656  0       0        0   2   6         4      0              \n",
       "253657  0       0        0   4   6         8      0              \n",
       "253658  0       0        0   7   5         3      0              \n",
       "253659  0       0        0   3   6         5      0              \n",
       "253660  0       0        0   6   4         1      1              \n",
       "253661  2       1        0   7   4         3      0              \n",
       "253662  2       1        0   6   6         6      0              \n",
       "253663  0       0        0   5   6         2      0              \n",
       "253664 30       0        0   5   6         2      0              \n",
       "253665  0       0        0   6   6         4      0              \n",
       "253666 30       0        0   5   4         1      0              \n",
       "253667 15       0        0   6   5         2      0              \n",
       "253668  0       0        0   11  4         7      0              \n",
       "253669  0       1        1   10  3         6      1              \n",
       "253670  3       0        1   6   2         4      0              \n",
       "253671  0       1        0   13  6         4      1              \n",
       "253672  5       0        1   8   3         2      0              \n",
       "253673  0       0        1   12  2         1      0              \n",
       "253674  4       0        1   3   6         8      0              \n",
       "253675  0       0        0   3   6         5      0              \n",
       "253676  5       0        1   5   6         7      0              \n",
       "253677  0       1        0   11  2         4      1              \n",
       "253678  0       0        0   2   5         2      0              \n",
       "253679  0       0        1   7   5         1      0              \n",
       "253680  0       0        0   9   6         2      1              "
      ]
     },
     "metadata": {},
     "output_type": "display_data"
    }
   ],
   "source": [
    "df_std_1"
   ]
  },
  {
   "cell_type": "code",
   "execution_count": 101,
   "id": "6956f4ef-327a-480f-b74c-5d7f32216a68",
   "metadata": {},
   "outputs": [],
   "source": [
    "df_std_1[df_std_1$BMI < 18.5, ]$StdBMI = 1\n",
    "df_std_1[df_std_1$BMI >= 18.5 & df_std_1$BMI < 25, ]$StdBMI = 2\n",
    "df_std_1[df_std_1$BMI >= 25 & df_std_1$BMI < 30, ]$StdBMI = 3\n",
    "df_std_1[df_std_1$BMI >= 30 & df_std_1$BMI < 35, ]$StdBMI = 4\n",
    "df_std_1[df_std_1$BMI >= 35 & df_std_1$BMI < 40, ]$StdBMI = 5\n",
    "df_std_1[df_std_1$BMI >= 40, ]$StdBMI = 6"
   ]
  },
  {
   "cell_type": "code",
   "execution_count": 102,
   "id": "023e99cb-972f-4f7c-9cf8-f69ccdf4e6cf",
   "metadata": {},
   "outputs": [
    {
     "data": {
      "text/html": [
       "<table>\n",
       "<thead><tr><th scope=col>Index</th><th scope=col>HighBP</th><th scope=col>HighChol</th><th scope=col>CholCheck</th><th scope=col>BMI</th><th scope=col>StdBMI</th><th scope=col>Smoker</th><th scope=col>Stroke</th><th scope=col>HeartDiseaseorAttack</th><th scope=col>PhysActivity</th><th scope=col>...</th><th scope=col>NoDocbcCost</th><th scope=col>GenHlth</th><th scope=col>MentHlth</th><th scope=col>PhysHlth</th><th scope=col>DiffWalk</th><th scope=col>Sex</th><th scope=col>Age</th><th scope=col>Education</th><th scope=col>Income</th><th scope=col>Diabetes_binary</th></tr></thead>\n",
       "<tbody>\n",
       "\t<tr><td> 0 </td><td>1  </td><td>1  </td><td>1  </td><td>40 </td><td>6  </td><td>1  </td><td>0  </td><td>0  </td><td>0  </td><td>...</td><td>0  </td><td>5  </td><td>18 </td><td>15 </td><td>1  </td><td>0  </td><td>9  </td><td>4  </td><td>3  </td><td>0  </td></tr>\n",
       "\t<tr><td> 1 </td><td>0  </td><td>0  </td><td>0  </td><td>25 </td><td>3  </td><td>1  </td><td>0  </td><td>0  </td><td>1  </td><td>...</td><td>1  </td><td>3  </td><td> 0 </td><td> 0 </td><td>0  </td><td>0  </td><td>7  </td><td>6  </td><td>1  </td><td>0  </td></tr>\n",
       "\t<tr><td> 2 </td><td>1  </td><td>1  </td><td>1  </td><td>28 </td><td>3  </td><td>0  </td><td>0  </td><td>0  </td><td>0  </td><td>...</td><td>1  </td><td>5  </td><td>30 </td><td>30 </td><td>1  </td><td>0  </td><td>9  </td><td>4  </td><td>8  </td><td>0  </td></tr>\n",
       "\t<tr><td> 3 </td><td>1  </td><td>0  </td><td>1  </td><td>27 </td><td>3  </td><td>0  </td><td>0  </td><td>0  </td><td>1  </td><td>...</td><td>0  </td><td>2  </td><td> 0 </td><td> 0 </td><td>0  </td><td>0  </td><td>11 </td><td>3  </td><td>6  </td><td>0  </td></tr>\n",
       "\t<tr><td> 4 </td><td>1  </td><td>1  </td><td>1  </td><td>24 </td><td>2  </td><td>0  </td><td>0  </td><td>0  </td><td>1  </td><td>...</td><td>0  </td><td>2  </td><td> 3 </td><td> 0 </td><td>0  </td><td>0  </td><td>11 </td><td>5  </td><td>4  </td><td>0  </td></tr>\n",
       "\t<tr><td> 5 </td><td>1  </td><td>1  </td><td>1  </td><td>25 </td><td>3  </td><td>1  </td><td>0  </td><td>0  </td><td>1  </td><td>...</td><td>0  </td><td>2  </td><td> 0 </td><td> 2 </td><td>0  </td><td>1  </td><td>10 </td><td>6  </td><td>8  </td><td>0  </td></tr>\n",
       "\t<tr><td> 6 </td><td>1  </td><td>0  </td><td>1  </td><td>30 </td><td>4  </td><td>1  </td><td>0  </td><td>0  </td><td>0  </td><td>...</td><td>0  </td><td>3  </td><td> 0 </td><td>14 </td><td>0  </td><td>0  </td><td>9  </td><td>6  </td><td>7  </td><td>0  </td></tr>\n",
       "\t<tr><td> 7 </td><td>1  </td><td>1  </td><td>1  </td><td>25 </td><td>3  </td><td>1  </td><td>0  </td><td>0  </td><td>1  </td><td>...</td><td>0  </td><td>3  </td><td> 0 </td><td> 0 </td><td>1  </td><td>0  </td><td>11 </td><td>4  </td><td>4  </td><td>0  </td></tr>\n",
       "\t<tr><td> 8 </td><td>1  </td><td>1  </td><td>1  </td><td>30 </td><td>4  </td><td>1  </td><td>0  </td><td>1  </td><td>0  </td><td>...</td><td>0  </td><td>5  </td><td>30 </td><td>30 </td><td>1  </td><td>0  </td><td>9  </td><td>5  </td><td>1  </td><td>1  </td></tr>\n",
       "\t<tr><td> 9 </td><td>0  </td><td>0  </td><td>1  </td><td>24 </td><td>2  </td><td>0  </td><td>0  </td><td>0  </td><td>0  </td><td>...</td><td>0  </td><td>2  </td><td> 0 </td><td> 0 </td><td>0  </td><td>1  </td><td>8  </td><td>4  </td><td>3  </td><td>0  </td></tr>\n",
       "\t<tr><td>10 </td><td>0  </td><td>0  </td><td>1  </td><td>25 </td><td>3  </td><td>1  </td><td>0  </td><td>0  </td><td>1  </td><td>...</td><td>0  </td><td>3  </td><td> 0 </td><td> 0 </td><td>0  </td><td>1  </td><td>13 </td><td>6  </td><td>8  </td><td>1  </td></tr>\n",
       "\t<tr><td>11 </td><td>1  </td><td>1  </td><td>1  </td><td>34 </td><td>4  </td><td>1  </td><td>0  </td><td>0  </td><td>0  </td><td>...</td><td>0  </td><td>3  </td><td> 0 </td><td>30 </td><td>1  </td><td>0  </td><td>10 </td><td>5  </td><td>1  </td><td>0  </td></tr>\n",
       "\t<tr><td>12 </td><td>0  </td><td>0  </td><td>1  </td><td>26 </td><td>3  </td><td>1  </td><td>0  </td><td>0  </td><td>0  </td><td>...</td><td>0  </td><td>3  </td><td> 0 </td><td>15 </td><td>0  </td><td>0  </td><td>7  </td><td>5  </td><td>7  </td><td>0  </td></tr>\n",
       "\t<tr><td>13 </td><td>1  </td><td>1  </td><td>1  </td><td>28 </td><td>3  </td><td>0  </td><td>0  </td><td>0  </td><td>0  </td><td>...</td><td>0  </td><td>4  </td><td> 0 </td><td> 0 </td><td>1  </td><td>0  </td><td>11 </td><td>4  </td><td>6  </td><td>1  </td></tr>\n",
       "\t<tr><td>14 </td><td>0  </td><td>1  </td><td>1  </td><td>33 </td><td>4  </td><td>1  </td><td>1  </td><td>0  </td><td>1  </td><td>...</td><td>1  </td><td>4  </td><td>30 </td><td>28 </td><td>0  </td><td>0  </td><td>4  </td><td>6  </td><td>2  </td><td>0  </td></tr>\n",
       "\t<tr><td>15 </td><td>1  </td><td>0  </td><td>1  </td><td>33 </td><td>4  </td><td>0  </td><td>0  </td><td>0  </td><td>1  </td><td>...</td><td>0  </td><td>2  </td><td> 5 </td><td> 0 </td><td>0  </td><td>0  </td><td>6  </td><td>6  </td><td>8  </td><td>0  </td></tr>\n",
       "\t<tr><td>16 </td><td>1  </td><td>1  </td><td>1  </td><td>21 </td><td>2  </td><td>0  </td><td>0  </td><td>0  </td><td>1  </td><td>...</td><td>0  </td><td>3  </td><td> 0 </td><td> 0 </td><td>0  </td><td>0  </td><td>10 </td><td>4  </td><td>3  </td><td>0  </td></tr>\n",
       "\t<tr><td>17 </td><td>0  </td><td>0  </td><td>1  </td><td>23 </td><td>2  </td><td>1  </td><td>0  </td><td>0  </td><td>1  </td><td>...</td><td>0  </td><td>2  </td><td> 0 </td><td> 0 </td><td>0  </td><td>1  </td><td>7  </td><td>5  </td><td>6  </td><td>1  </td></tr>\n",
       "\t<tr><td>18 </td><td>0  </td><td>0  </td><td>0  </td><td>23 </td><td>2  </td><td>0  </td><td>0  </td><td>0  </td><td>0  </td><td>...</td><td>0  </td><td>2  </td><td>15 </td><td> 0 </td><td>0  </td><td>0  </td><td>2  </td><td>6  </td><td>7  </td><td>0  </td></tr>\n",
       "\t<tr><td>19 </td><td>0  </td><td>1  </td><td>1  </td><td>28 </td><td>3  </td><td>0  </td><td>0  </td><td>0  </td><td>0  </td><td>...</td><td>0  </td><td>2  </td><td>10 </td><td> 0 </td><td>0  </td><td>1  </td><td>4  </td><td>6  </td><td>8  </td><td>0  </td></tr>\n",
       "\t<tr><td>20 </td><td>1  </td><td>1  </td><td>1  </td><td>22 </td><td>2  </td><td>0  </td><td>1  </td><td>1  </td><td>0  </td><td>...</td><td>0  </td><td>3  </td><td>30 </td><td> 0 </td><td>1  </td><td>0  </td><td>12 </td><td>4  </td><td>4  </td><td>0  </td></tr>\n",
       "\t<tr><td>21 </td><td>1  </td><td>1  </td><td>1  </td><td>38 </td><td>5  </td><td>1  </td><td>0  </td><td>0  </td><td>0  </td><td>...</td><td>0  </td><td>5  </td><td>15 </td><td>30 </td><td>1  </td><td>0  </td><td>13 </td><td>2  </td><td>3  </td><td>0  </td></tr>\n",
       "\t<tr><td>22 </td><td>0  </td><td>0  </td><td>1  </td><td>28 </td><td>3  </td><td>1  </td><td>0  </td><td>0  </td><td>0  </td><td>...</td><td>0  </td><td>3  </td><td> 0 </td><td> 7 </td><td>0  </td><td>1  </td><td>5  </td><td>5  </td><td>5  </td><td>0  </td></tr>\n",
       "\t<tr><td>23 </td><td>1  </td><td>0  </td><td>1  </td><td>27 </td><td>3  </td><td>0  </td><td>0  </td><td>0  </td><td>1  </td><td>...</td><td>0  </td><td>1  </td><td> 0 </td><td> 0 </td><td>0  </td><td>0  </td><td>13 </td><td>5  </td><td>4  </td><td>1  </td></tr>\n",
       "\t<tr><td>24 </td><td>1  </td><td>1  </td><td>1  </td><td>28 </td><td>3  </td><td>1  </td><td>0  </td><td>0  </td><td>0  </td><td>...</td><td>0  </td><td>3  </td><td> 6 </td><td> 0 </td><td>1  </td><td>0  </td><td>9  </td><td>4  </td><td>6  </td><td>0  </td></tr>\n",
       "\t<tr><td>25 </td><td>0  </td><td>0  </td><td>1  </td><td>32 </td><td>4  </td><td>0  </td><td>0  </td><td>0  </td><td>1  </td><td>...</td><td>0  </td><td>2  </td><td> 0 </td><td> 0 </td><td>0  </td><td>0  </td><td>5  </td><td>6  </td><td>8  </td><td>0  </td></tr>\n",
       "\t<tr><td>26 </td><td>1  </td><td>1  </td><td>1  </td><td>37 </td><td>5  </td><td>1  </td><td>1  </td><td>1  </td><td>0  </td><td>...</td><td>0  </td><td>5  </td><td> 0 </td><td> 0 </td><td>1  </td><td>1  </td><td>10 </td><td>6  </td><td>5  </td><td>1  </td></tr>\n",
       "\t<tr><td>27 </td><td>1  </td><td>1  </td><td>1  </td><td>28 </td><td>3  </td><td>1  </td><td>0  </td><td>1  </td><td>0  </td><td>...</td><td>0  </td><td>4  </td><td> 0 </td><td> 0 </td><td>0  </td><td>1  </td><td>12 </td><td>2  </td><td>4  </td><td>1  </td></tr>\n",
       "\t<tr><td>28 </td><td>1  </td><td>1  </td><td>1  </td><td>27 </td><td>3  </td><td>1  </td><td>0  </td><td>0  </td><td>0  </td><td>...</td><td>0  </td><td>4  </td><td>20 </td><td>20 </td><td>1  </td><td>0  </td><td>8  </td><td>4  </td><td>7  </td><td>1  </td></tr>\n",
       "\t<tr><td>29 </td><td>0  </td><td>1  </td><td>1  </td><td>31 </td><td>4  </td><td>1  </td><td>0  </td><td>0  </td><td>1  </td><td>...</td><td>0  </td><td>1  </td><td> 0 </td><td> 0 </td><td>0  </td><td>1  </td><td>12 </td><td>6  </td><td>8  </td><td>0  </td></tr>\n",
       "\t<tr><td>...</td><td>...</td><td>...</td><td>...</td><td>...</td><td>...</td><td>...</td><td>...</td><td>...</td><td>...</td><td>   </td><td>...</td><td>...</td><td>...</td><td>...</td><td>...</td><td>...</td><td>...</td><td>...</td><td>...</td><td>...</td></tr>\n",
       "\t<tr><td>253650</td><td>1     </td><td>0     </td><td>1     </td><td>27    </td><td>3     </td><td>0     </td><td>0     </td><td>0     </td><td>1     </td><td>...   </td><td>0     </td><td>4     </td><td> 0    </td><td> 0    </td><td>0     </td><td>0     </td><td>5     </td><td>4     </td><td>2     </td><td>0     </td></tr>\n",
       "\t<tr><td>253651</td><td>0     </td><td>0     </td><td>1     </td><td>24    </td><td>2     </td><td>0     </td><td>0     </td><td>0     </td><td>1     </td><td>...   </td><td>1     </td><td>1     </td><td> 0    </td><td> 0    </td><td>0     </td><td>1     </td><td>2     </td><td>6     </td><td>3     </td><td>0     </td></tr>\n",
       "\t<tr><td>253652</td><td>0     </td><td>1     </td><td>1     </td><td>27    </td><td>3     </td><td>0     </td><td>0     </td><td>0     </td><td>1     </td><td>...   </td><td>0     </td><td>4     </td><td> 0    </td><td>30    </td><td>0     </td><td>1     </td><td>11    </td><td>2     </td><td>3     </td><td>1     </td></tr>\n",
       "\t<tr><td>253653</td><td>0     </td><td>0     </td><td>1     </td><td>33    </td><td>4     </td><td>1     </td><td>0     </td><td>0     </td><td>0     </td><td>...   </td><td>0     </td><td>4     </td><td> 0    </td><td>15    </td><td>0     </td><td>1     </td><td>10    </td><td>6     </td><td>3     </td><td>0     </td></tr>\n",
       "\t<tr><td>253654</td><td>0     </td><td>0     </td><td>1     </td><td>26    </td><td>3     </td><td>1     </td><td>0     </td><td>0     </td><td>1     </td><td>...   </td><td>0     </td><td>2     </td><td> 1    </td><td> 0    </td><td>0     </td><td>1     </td><td>3     </td><td>3     </td><td>1     </td><td>0     </td></tr>\n",
       "\t<tr><td>253655</td><td>0     </td><td>0     </td><td>1     </td><td>28    </td><td>3     </td><td>0     </td><td>0     </td><td>0     </td><td>1     </td><td>...   </td><td>0     </td><td>2     </td><td> 0    </td><td> 0    </td><td>0     </td><td>0     </td><td>2     </td><td>6     </td><td>4     </td><td>0     </td></tr>\n",
       "\t<tr><td>253656</td><td>0     </td><td>0     </td><td>1     </td><td>25    </td><td>3     </td><td>0     </td><td>0     </td><td>0     </td><td>1     </td><td>...   </td><td>0     </td><td>1     </td><td> 0    </td><td> 0    </td><td>0     </td><td>0     </td><td>4     </td><td>6     </td><td>8     </td><td>0     </td></tr>\n",
       "\t<tr><td>253657</td><td>0     </td><td>1     </td><td>1     </td><td>24    </td><td>2     </td><td>0     </td><td>0     </td><td>0     </td><td>0     </td><td>...   </td><td>0     </td><td>3     </td><td> 0    </td><td> 0    </td><td>0     </td><td>0     </td><td>7     </td><td>5     </td><td>3     </td><td>0     </td></tr>\n",
       "\t<tr><td>253658</td><td>0     </td><td>0     </td><td>0     </td><td>27    </td><td>3     </td><td>0     </td><td>0     </td><td>0     </td><td>1     </td><td>...   </td><td>1     </td><td>2     </td><td> 0    </td><td> 0    </td><td>0     </td><td>0     </td><td>3     </td><td>6     </td><td>5     </td><td>0     </td></tr>\n",
       "\t<tr><td>253659</td><td>0     </td><td>1     </td><td>1     </td><td>37    </td><td>5     </td><td>0     </td><td>0     </td><td>0     </td><td>0     </td><td>...   </td><td>0     </td><td>4     </td><td> 0    </td><td> 0    </td><td>0     </td><td>0     </td><td>6     </td><td>4     </td><td>1     </td><td>1     </td></tr>\n",
       "\t<tr><td>253660</td><td>0     </td><td>1     </td><td>1     </td><td>34    </td><td>4     </td><td>1     </td><td>0     </td><td>0     </td><td>0     </td><td>...   </td><td>0     </td><td>3     </td><td> 0    </td><td> 2    </td><td>1     </td><td>0     </td><td>7     </td><td>4     </td><td>3     </td><td>0     </td></tr>\n",
       "\t<tr><td>253661</td><td>1     </td><td>0     </td><td>1     </td><td>33    </td><td>4     </td><td>0     </td><td>0     </td><td>0     </td><td>1     </td><td>...   </td><td>1     </td><td>3     </td><td> 0    </td><td> 2    </td><td>1     </td><td>0     </td><td>6     </td><td>6     </td><td>6     </td><td>0     </td></tr>\n",
       "\t<tr><td>253662</td><td>0     </td><td>0     </td><td>1     </td><td>16    </td><td>1     </td><td>0     </td><td>0     </td><td>0     </td><td>1     </td><td>...   </td><td>0     </td><td>1     </td><td> 0    </td><td> 0    </td><td>0     </td><td>0     </td><td>5     </td><td>6     </td><td>2     </td><td>0     </td></tr>\n",
       "\t<tr><td>253663</td><td>0     </td><td>0     </td><td>1     </td><td>23    </td><td>2     </td><td>0     </td><td>0     </td><td>0     </td><td>0     </td><td>...   </td><td>1     </td><td>2     </td><td> 0    </td><td>30    </td><td>0     </td><td>0     </td><td>5     </td><td>6     </td><td>2     </td><td>0     </td></tr>\n",
       "\t<tr><td>253664</td><td>0     </td><td>1     </td><td>1     </td><td>29    </td><td>3     </td><td>1     </td><td>0     </td><td>0     </td><td>0     </td><td>...   </td><td>0     </td><td>3     </td><td> 0    </td><td> 0    </td><td>0     </td><td>0     </td><td>6     </td><td>6     </td><td>4     </td><td>0     </td></tr>\n",
       "\t<tr><td>253665</td><td>0     </td><td>1     </td><td>1     </td><td>17    </td><td>1     </td><td>0     </td><td>0     </td><td>0     </td><td>0     </td><td>...   </td><td>1     </td><td>4     </td><td>30    </td><td>30    </td><td>0     </td><td>0     </td><td>5     </td><td>4     </td><td>1     </td><td>0     </td></tr>\n",
       "\t<tr><td>253666</td><td>1     </td><td>0     </td><td>1     </td><td>23    </td><td>2     </td><td>0     </td><td>0     </td><td>0     </td><td>0     </td><td>...   </td><td>0     </td><td>3     </td><td> 0    </td><td>15    </td><td>0     </td><td>0     </td><td>6     </td><td>5     </td><td>2     </td><td>0     </td></tr>\n",
       "\t<tr><td>253667</td><td>1     </td><td>1     </td><td>1     </td><td>28    </td><td>3     </td><td>1     </td><td>0     </td><td>0     </td><td>0     </td><td>...   </td><td>0     </td><td>3     </td><td> 0    </td><td> 0    </td><td>0     </td><td>0     </td><td>11    </td><td>4     </td><td>7     </td><td>0     </td></tr>\n",
       "\t<tr><td>253668</td><td>0     </td><td>1     </td><td>1     </td><td>29    </td><td>3     </td><td>1     </td><td>0     </td><td>1     </td><td>0     </td><td>...   </td><td>0     </td><td>2     </td><td> 0    </td><td> 0    </td><td>1     </td><td>1     </td><td>10    </td><td>3     </td><td>6     </td><td>1     </td></tr>\n",
       "\t<tr><td>253669</td><td>0     </td><td>1     </td><td>1     </td><td>27    </td><td>3     </td><td>0     </td><td>0     </td><td>0     </td><td>0     </td><td>...   </td><td>1     </td><td>1     </td><td> 0    </td><td> 3    </td><td>0     </td><td>1     </td><td>6     </td><td>2     </td><td>4     </td><td>0     </td></tr>\n",
       "\t<tr><td>253670</td><td>1     </td><td>1     </td><td>1     </td><td>25    </td><td>3     </td><td>0     </td><td>0     </td><td>1     </td><td>0     </td><td>...   </td><td>0     </td><td>5     </td><td>15    </td><td> 0    </td><td>1     </td><td>0     </td><td>13    </td><td>6     </td><td>4     </td><td>1     </td></tr>\n",
       "\t<tr><td>253671</td><td>1     </td><td>1     </td><td>1     </td><td>23    </td><td>2     </td><td>0     </td><td>1     </td><td>1     </td><td>0     </td><td>...   </td><td>1     </td><td>4     </td><td> 0    </td><td> 5    </td><td>0     </td><td>1     </td><td>8     </td><td>3     </td><td>2     </td><td>0     </td></tr>\n",
       "\t<tr><td>253672</td><td>1     </td><td>0     </td><td>1     </td><td>30    </td><td>4     </td><td>1     </td><td>0     </td><td>1     </td><td>1     </td><td>...   </td><td>0     </td><td>3     </td><td> 0    </td><td> 0    </td><td>0     </td><td>1     </td><td>12    </td><td>2     </td><td>1     </td><td>0     </td></tr>\n",
       "\t<tr><td>253673</td><td>1     </td><td>0     </td><td>1     </td><td>42    </td><td>6     </td><td>0     </td><td>0     </td><td>0     </td><td>1     </td><td>...   </td><td>0     </td><td>3     </td><td>14    </td><td> 4    </td><td>0     </td><td>1     </td><td>3     </td><td>6     </td><td>8     </td><td>0     </td></tr>\n",
       "\t<tr><td>253674</td><td>0     </td><td>0     </td><td>1     </td><td>27    </td><td>3     </td><td>0     </td><td>0     </td><td>0     </td><td>0     </td><td>...   </td><td>0     </td><td>1     </td><td> 0    </td><td> 0    </td><td>0     </td><td>0     </td><td>3     </td><td>6     </td><td>5     </td><td>0     </td></tr>\n",
       "\t<tr><td>253675</td><td>1     </td><td>1     </td><td>1     </td><td>45    </td><td>6     </td><td>0     </td><td>0     </td><td>0     </td><td>0     </td><td>...   </td><td>0     </td><td>3     </td><td> 0    </td><td> 5    </td><td>0     </td><td>1     </td><td>5     </td><td>6     </td><td>7     </td><td>0     </td></tr>\n",
       "\t<tr><td>253676</td><td>1     </td><td>1     </td><td>1     </td><td>18    </td><td>1     </td><td>0     </td><td>0     </td><td>0     </td><td>0     </td><td>...   </td><td>0     </td><td>4     </td><td> 0    </td><td> 0    </td><td>1     </td><td>0     </td><td>11    </td><td>2     </td><td>4     </td><td>1     </td></tr>\n",
       "\t<tr><td>253677</td><td>0     </td><td>0     </td><td>1     </td><td>28    </td><td>3     </td><td>0     </td><td>0     </td><td>0     </td><td>1     </td><td>...   </td><td>0     </td><td>1     </td><td> 0    </td><td> 0    </td><td>0     </td><td>0     </td><td>2     </td><td>5     </td><td>2     </td><td>0     </td></tr>\n",
       "\t<tr><td>253678</td><td>1     </td><td>0     </td><td>1     </td><td>23    </td><td>2     </td><td>0     </td><td>0     </td><td>0     </td><td>0     </td><td>...   </td><td>0     </td><td>3     </td><td> 0    </td><td> 0    </td><td>0     </td><td>1     </td><td>7     </td><td>5     </td><td>1     </td><td>0     </td></tr>\n",
       "\t<tr><td>253679</td><td>1     </td><td>1     </td><td>1     </td><td>25    </td><td>3     </td><td>0     </td><td>0     </td><td>1     </td><td>1     </td><td>...   </td><td>0     </td><td>2     </td><td> 0    </td><td> 0    </td><td>0     </td><td>0     </td><td>9     </td><td>6     </td><td>2     </td><td>1     </td></tr>\n",
       "</tbody>\n",
       "</table>\n"
      ],
      "text/latex": [
       "\\begin{tabular}{r|llllllllllllllllllllllll}\n",
       " Index & HighBP & HighChol & CholCheck & BMI & StdBMI & Smoker & Stroke & HeartDiseaseorAttack & PhysActivity & ... & NoDocbcCost & GenHlth & MentHlth & PhysHlth & DiffWalk & Sex & Age & Education & Income & Diabetes\\_binary\\\\\n",
       "\\hline\n",
       "\t  0  & 1   & 1   & 1   & 40  & 6   & 1   & 0   & 0   & 0   & ... & 0   & 5   & 18  & 15  & 1   & 0   & 9   & 4   & 3   & 0  \\\\\n",
       "\t  1  & 0   & 0   & 0   & 25  & 3   & 1   & 0   & 0   & 1   & ... & 1   & 3   &  0  &  0  & 0   & 0   & 7   & 6   & 1   & 0  \\\\\n",
       "\t  2  & 1   & 1   & 1   & 28  & 3   & 0   & 0   & 0   & 0   & ... & 1   & 5   & 30  & 30  & 1   & 0   & 9   & 4   & 8   & 0  \\\\\n",
       "\t  3  & 1   & 0   & 1   & 27  & 3   & 0   & 0   & 0   & 1   & ... & 0   & 2   &  0  &  0  & 0   & 0   & 11  & 3   & 6   & 0  \\\\\n",
       "\t  4  & 1   & 1   & 1   & 24  & 2   & 0   & 0   & 0   & 1   & ... & 0   & 2   &  3  &  0  & 0   & 0   & 11  & 5   & 4   & 0  \\\\\n",
       "\t  5  & 1   & 1   & 1   & 25  & 3   & 1   & 0   & 0   & 1   & ... & 0   & 2   &  0  &  2  & 0   & 1   & 10  & 6   & 8   & 0  \\\\\n",
       "\t  6  & 1   & 0   & 1   & 30  & 4   & 1   & 0   & 0   & 0   & ... & 0   & 3   &  0  & 14  & 0   & 0   & 9   & 6   & 7   & 0  \\\\\n",
       "\t  7  & 1   & 1   & 1   & 25  & 3   & 1   & 0   & 0   & 1   & ... & 0   & 3   &  0  &  0  & 1   & 0   & 11  & 4   & 4   & 0  \\\\\n",
       "\t  8  & 1   & 1   & 1   & 30  & 4   & 1   & 0   & 1   & 0   & ... & 0   & 5   & 30  & 30  & 1   & 0   & 9   & 5   & 1   & 1  \\\\\n",
       "\t  9  & 0   & 0   & 1   & 24  & 2   & 0   & 0   & 0   & 0   & ... & 0   & 2   &  0  &  0  & 0   & 1   & 8   & 4   & 3   & 0  \\\\\n",
       "\t 10  & 0   & 0   & 1   & 25  & 3   & 1   & 0   & 0   & 1   & ... & 0   & 3   &  0  &  0  & 0   & 1   & 13  & 6   & 8   & 1  \\\\\n",
       "\t 11  & 1   & 1   & 1   & 34  & 4   & 1   & 0   & 0   & 0   & ... & 0   & 3   &  0  & 30  & 1   & 0   & 10  & 5   & 1   & 0  \\\\\n",
       "\t 12  & 0   & 0   & 1   & 26  & 3   & 1   & 0   & 0   & 0   & ... & 0   & 3   &  0  & 15  & 0   & 0   & 7   & 5   & 7   & 0  \\\\\n",
       "\t 13  & 1   & 1   & 1   & 28  & 3   & 0   & 0   & 0   & 0   & ... & 0   & 4   &  0  &  0  & 1   & 0   & 11  & 4   & 6   & 1  \\\\\n",
       "\t 14  & 0   & 1   & 1   & 33  & 4   & 1   & 1   & 0   & 1   & ... & 1   & 4   & 30  & 28  & 0   & 0   & 4   & 6   & 2   & 0  \\\\\n",
       "\t 15  & 1   & 0   & 1   & 33  & 4   & 0   & 0   & 0   & 1   & ... & 0   & 2   &  5  &  0  & 0   & 0   & 6   & 6   & 8   & 0  \\\\\n",
       "\t 16  & 1   & 1   & 1   & 21  & 2   & 0   & 0   & 0   & 1   & ... & 0   & 3   &  0  &  0  & 0   & 0   & 10  & 4   & 3   & 0  \\\\\n",
       "\t 17  & 0   & 0   & 1   & 23  & 2   & 1   & 0   & 0   & 1   & ... & 0   & 2   &  0  &  0  & 0   & 1   & 7   & 5   & 6   & 1  \\\\\n",
       "\t 18  & 0   & 0   & 0   & 23  & 2   & 0   & 0   & 0   & 0   & ... & 0   & 2   & 15  &  0  & 0   & 0   & 2   & 6   & 7   & 0  \\\\\n",
       "\t 19  & 0   & 1   & 1   & 28  & 3   & 0   & 0   & 0   & 0   & ... & 0   & 2   & 10  &  0  & 0   & 1   & 4   & 6   & 8   & 0  \\\\\n",
       "\t 20  & 1   & 1   & 1   & 22  & 2   & 0   & 1   & 1   & 0   & ... & 0   & 3   & 30  &  0  & 1   & 0   & 12  & 4   & 4   & 0  \\\\\n",
       "\t 21  & 1   & 1   & 1   & 38  & 5   & 1   & 0   & 0   & 0   & ... & 0   & 5   & 15  & 30  & 1   & 0   & 13  & 2   & 3   & 0  \\\\\n",
       "\t 22  & 0   & 0   & 1   & 28  & 3   & 1   & 0   & 0   & 0   & ... & 0   & 3   &  0  &  7  & 0   & 1   & 5   & 5   & 5   & 0  \\\\\n",
       "\t 23  & 1   & 0   & 1   & 27  & 3   & 0   & 0   & 0   & 1   & ... & 0   & 1   &  0  &  0  & 0   & 0   & 13  & 5   & 4   & 1  \\\\\n",
       "\t 24  & 1   & 1   & 1   & 28  & 3   & 1   & 0   & 0   & 0   & ... & 0   & 3   &  6  &  0  & 1   & 0   & 9   & 4   & 6   & 0  \\\\\n",
       "\t 25  & 0   & 0   & 1   & 32  & 4   & 0   & 0   & 0   & 1   & ... & 0   & 2   &  0  &  0  & 0   & 0   & 5   & 6   & 8   & 0  \\\\\n",
       "\t 26  & 1   & 1   & 1   & 37  & 5   & 1   & 1   & 1   & 0   & ... & 0   & 5   &  0  &  0  & 1   & 1   & 10  & 6   & 5   & 1  \\\\\n",
       "\t 27  & 1   & 1   & 1   & 28  & 3   & 1   & 0   & 1   & 0   & ... & 0   & 4   &  0  &  0  & 0   & 1   & 12  & 2   & 4   & 1  \\\\\n",
       "\t 28  & 1   & 1   & 1   & 27  & 3   & 1   & 0   & 0   & 0   & ... & 0   & 4   & 20  & 20  & 1   & 0   & 8   & 4   & 7   & 1  \\\\\n",
       "\t 29  & 0   & 1   & 1   & 31  & 4   & 1   & 0   & 0   & 1   & ... & 0   & 1   &  0  &  0  & 0   & 1   & 12  & 6   & 8   & 0  \\\\\n",
       "\t ... & ... & ... & ... & ... & ... & ... & ... & ... & ... &     & ... & ... & ... & ... & ... & ... & ... & ... & ... & ...\\\\\n",
       "\t 253650 & 1      & 0      & 1      & 27     & 3      & 0      & 0      & 0      & 1      & ...    & 0      & 4      &  0     &  0     & 0      & 0      & 5      & 4      & 2      & 0     \\\\\n",
       "\t 253651 & 0      & 0      & 1      & 24     & 2      & 0      & 0      & 0      & 1      & ...    & 1      & 1      &  0     &  0     & 0      & 1      & 2      & 6      & 3      & 0     \\\\\n",
       "\t 253652 & 0      & 1      & 1      & 27     & 3      & 0      & 0      & 0      & 1      & ...    & 0      & 4      &  0     & 30     & 0      & 1      & 11     & 2      & 3      & 1     \\\\\n",
       "\t 253653 & 0      & 0      & 1      & 33     & 4      & 1      & 0      & 0      & 0      & ...    & 0      & 4      &  0     & 15     & 0      & 1      & 10     & 6      & 3      & 0     \\\\\n",
       "\t 253654 & 0      & 0      & 1      & 26     & 3      & 1      & 0      & 0      & 1      & ...    & 0      & 2      &  1     &  0     & 0      & 1      & 3      & 3      & 1      & 0     \\\\\n",
       "\t 253655 & 0      & 0      & 1      & 28     & 3      & 0      & 0      & 0      & 1      & ...    & 0      & 2      &  0     &  0     & 0      & 0      & 2      & 6      & 4      & 0     \\\\\n",
       "\t 253656 & 0      & 0      & 1      & 25     & 3      & 0      & 0      & 0      & 1      & ...    & 0      & 1      &  0     &  0     & 0      & 0      & 4      & 6      & 8      & 0     \\\\\n",
       "\t 253657 & 0      & 1      & 1      & 24     & 2      & 0      & 0      & 0      & 0      & ...    & 0      & 3      &  0     &  0     & 0      & 0      & 7      & 5      & 3      & 0     \\\\\n",
       "\t 253658 & 0      & 0      & 0      & 27     & 3      & 0      & 0      & 0      & 1      & ...    & 1      & 2      &  0     &  0     & 0      & 0      & 3      & 6      & 5      & 0     \\\\\n",
       "\t 253659 & 0      & 1      & 1      & 37     & 5      & 0      & 0      & 0      & 0      & ...    & 0      & 4      &  0     &  0     & 0      & 0      & 6      & 4      & 1      & 1     \\\\\n",
       "\t 253660 & 0      & 1      & 1      & 34     & 4      & 1      & 0      & 0      & 0      & ...    & 0      & 3      &  0     &  2     & 1      & 0      & 7      & 4      & 3      & 0     \\\\\n",
       "\t 253661 & 1      & 0      & 1      & 33     & 4      & 0      & 0      & 0      & 1      & ...    & 1      & 3      &  0     &  2     & 1      & 0      & 6      & 6      & 6      & 0     \\\\\n",
       "\t 253662 & 0      & 0      & 1      & 16     & 1      & 0      & 0      & 0      & 1      & ...    & 0      & 1      &  0     &  0     & 0      & 0      & 5      & 6      & 2      & 0     \\\\\n",
       "\t 253663 & 0      & 0      & 1      & 23     & 2      & 0      & 0      & 0      & 0      & ...    & 1      & 2      &  0     & 30     & 0      & 0      & 5      & 6      & 2      & 0     \\\\\n",
       "\t 253664 & 0      & 1      & 1      & 29     & 3      & 1      & 0      & 0      & 0      & ...    & 0      & 3      &  0     &  0     & 0      & 0      & 6      & 6      & 4      & 0     \\\\\n",
       "\t 253665 & 0      & 1      & 1      & 17     & 1      & 0      & 0      & 0      & 0      & ...    & 1      & 4      & 30     & 30     & 0      & 0      & 5      & 4      & 1      & 0     \\\\\n",
       "\t 253666 & 1      & 0      & 1      & 23     & 2      & 0      & 0      & 0      & 0      & ...    & 0      & 3      &  0     & 15     & 0      & 0      & 6      & 5      & 2      & 0     \\\\\n",
       "\t 253667 & 1      & 1      & 1      & 28     & 3      & 1      & 0      & 0      & 0      & ...    & 0      & 3      &  0     &  0     & 0      & 0      & 11     & 4      & 7      & 0     \\\\\n",
       "\t 253668 & 0      & 1      & 1      & 29     & 3      & 1      & 0      & 1      & 0      & ...    & 0      & 2      &  0     &  0     & 1      & 1      & 10     & 3      & 6      & 1     \\\\\n",
       "\t 253669 & 0      & 1      & 1      & 27     & 3      & 0      & 0      & 0      & 0      & ...    & 1      & 1      &  0     &  3     & 0      & 1      & 6      & 2      & 4      & 0     \\\\\n",
       "\t 253670 & 1      & 1      & 1      & 25     & 3      & 0      & 0      & 1      & 0      & ...    & 0      & 5      & 15     &  0     & 1      & 0      & 13     & 6      & 4      & 1     \\\\\n",
       "\t 253671 & 1      & 1      & 1      & 23     & 2      & 0      & 1      & 1      & 0      & ...    & 1      & 4      &  0     &  5     & 0      & 1      & 8      & 3      & 2      & 0     \\\\\n",
       "\t 253672 & 1      & 0      & 1      & 30     & 4      & 1      & 0      & 1      & 1      & ...    & 0      & 3      &  0     &  0     & 0      & 1      & 12     & 2      & 1      & 0     \\\\\n",
       "\t 253673 & 1      & 0      & 1      & 42     & 6      & 0      & 0      & 0      & 1      & ...    & 0      & 3      & 14     &  4     & 0      & 1      & 3      & 6      & 8      & 0     \\\\\n",
       "\t 253674 & 0      & 0      & 1      & 27     & 3      & 0      & 0      & 0      & 0      & ...    & 0      & 1      &  0     &  0     & 0      & 0      & 3      & 6      & 5      & 0     \\\\\n",
       "\t 253675 & 1      & 1      & 1      & 45     & 6      & 0      & 0      & 0      & 0      & ...    & 0      & 3      &  0     &  5     & 0      & 1      & 5      & 6      & 7      & 0     \\\\\n",
       "\t 253676 & 1      & 1      & 1      & 18     & 1      & 0      & 0      & 0      & 0      & ...    & 0      & 4      &  0     &  0     & 1      & 0      & 11     & 2      & 4      & 1     \\\\\n",
       "\t 253677 & 0      & 0      & 1      & 28     & 3      & 0      & 0      & 0      & 1      & ...    & 0      & 1      &  0     &  0     & 0      & 0      & 2      & 5      & 2      & 0     \\\\\n",
       "\t 253678 & 1      & 0      & 1      & 23     & 2      & 0      & 0      & 0      & 0      & ...    & 0      & 3      &  0     &  0     & 0      & 1      & 7      & 5      & 1      & 0     \\\\\n",
       "\t 253679 & 1      & 1      & 1      & 25     & 3      & 0      & 0      & 1      & 1      & ...    & 0      & 2      &  0     &  0     & 0      & 0      & 9      & 6      & 2      & 1     \\\\\n",
       "\\end{tabular}\n"
      ],
      "text/markdown": [
       "\n",
       "| Index | HighBP | HighChol | CholCheck | BMI | StdBMI | Smoker | Stroke | HeartDiseaseorAttack | PhysActivity | ... | NoDocbcCost | GenHlth | MentHlth | PhysHlth | DiffWalk | Sex | Age | Education | Income | Diabetes_binary |\n",
       "|---|---|---|---|---|---|---|---|---|---|---|---|---|---|---|---|---|---|---|---|---|\n",
       "|  0  | 1   | 1   | 1   | 40  | 6   | 1   | 0   | 0   | 0   | ... | 0   | 5   | 18  | 15  | 1   | 0   | 9   | 4   | 3   | 0   |\n",
       "|  1  | 0   | 0   | 0   | 25  | 3   | 1   | 0   | 0   | 1   | ... | 1   | 3   |  0  |  0  | 0   | 0   | 7   | 6   | 1   | 0   |\n",
       "|  2  | 1   | 1   | 1   | 28  | 3   | 0   | 0   | 0   | 0   | ... | 1   | 5   | 30  | 30  | 1   | 0   | 9   | 4   | 8   | 0   |\n",
       "|  3  | 1   | 0   | 1   | 27  | 3   | 0   | 0   | 0   | 1   | ... | 0   | 2   |  0  |  0  | 0   | 0   | 11  | 3   | 6   | 0   |\n",
       "|  4  | 1   | 1   | 1   | 24  | 2   | 0   | 0   | 0   | 1   | ... | 0   | 2   |  3  |  0  | 0   | 0   | 11  | 5   | 4   | 0   |\n",
       "|  5  | 1   | 1   | 1   | 25  | 3   | 1   | 0   | 0   | 1   | ... | 0   | 2   |  0  |  2  | 0   | 1   | 10  | 6   | 8   | 0   |\n",
       "|  6  | 1   | 0   | 1   | 30  | 4   | 1   | 0   | 0   | 0   | ... | 0   | 3   |  0  | 14  | 0   | 0   | 9   | 6   | 7   | 0   |\n",
       "|  7  | 1   | 1   | 1   | 25  | 3   | 1   | 0   | 0   | 1   | ... | 0   | 3   |  0  |  0  | 1   | 0   | 11  | 4   | 4   | 0   |\n",
       "|  8  | 1   | 1   | 1   | 30  | 4   | 1   | 0   | 1   | 0   | ... | 0   | 5   | 30  | 30  | 1   | 0   | 9   | 5   | 1   | 1   |\n",
       "|  9  | 0   | 0   | 1   | 24  | 2   | 0   | 0   | 0   | 0   | ... | 0   | 2   |  0  |  0  | 0   | 1   | 8   | 4   | 3   | 0   |\n",
       "| 10  | 0   | 0   | 1   | 25  | 3   | 1   | 0   | 0   | 1   | ... | 0   | 3   |  0  |  0  | 0   | 1   | 13  | 6   | 8   | 1   |\n",
       "| 11  | 1   | 1   | 1   | 34  | 4   | 1   | 0   | 0   | 0   | ... | 0   | 3   |  0  | 30  | 1   | 0   | 10  | 5   | 1   | 0   |\n",
       "| 12  | 0   | 0   | 1   | 26  | 3   | 1   | 0   | 0   | 0   | ... | 0   | 3   |  0  | 15  | 0   | 0   | 7   | 5   | 7   | 0   |\n",
       "| 13  | 1   | 1   | 1   | 28  | 3   | 0   | 0   | 0   | 0   | ... | 0   | 4   |  0  |  0  | 1   | 0   | 11  | 4   | 6   | 1   |\n",
       "| 14  | 0   | 1   | 1   | 33  | 4   | 1   | 1   | 0   | 1   | ... | 1   | 4   | 30  | 28  | 0   | 0   | 4   | 6   | 2   | 0   |\n",
       "| 15  | 1   | 0   | 1   | 33  | 4   | 0   | 0   | 0   | 1   | ... | 0   | 2   |  5  |  0  | 0   | 0   | 6   | 6   | 8   | 0   |\n",
       "| 16  | 1   | 1   | 1   | 21  | 2   | 0   | 0   | 0   | 1   | ... | 0   | 3   |  0  |  0  | 0   | 0   | 10  | 4   | 3   | 0   |\n",
       "| 17  | 0   | 0   | 1   | 23  | 2   | 1   | 0   | 0   | 1   | ... | 0   | 2   |  0  |  0  | 0   | 1   | 7   | 5   | 6   | 1   |\n",
       "| 18  | 0   | 0   | 0   | 23  | 2   | 0   | 0   | 0   | 0   | ... | 0   | 2   | 15  |  0  | 0   | 0   | 2   | 6   | 7   | 0   |\n",
       "| 19  | 0   | 1   | 1   | 28  | 3   | 0   | 0   | 0   | 0   | ... | 0   | 2   | 10  |  0  | 0   | 1   | 4   | 6   | 8   | 0   |\n",
       "| 20  | 1   | 1   | 1   | 22  | 2   | 0   | 1   | 1   | 0   | ... | 0   | 3   | 30  |  0  | 1   | 0   | 12  | 4   | 4   | 0   |\n",
       "| 21  | 1   | 1   | 1   | 38  | 5   | 1   | 0   | 0   | 0   | ... | 0   | 5   | 15  | 30  | 1   | 0   | 13  | 2   | 3   | 0   |\n",
       "| 22  | 0   | 0   | 1   | 28  | 3   | 1   | 0   | 0   | 0   | ... | 0   | 3   |  0  |  7  | 0   | 1   | 5   | 5   | 5   | 0   |\n",
       "| 23  | 1   | 0   | 1   | 27  | 3   | 0   | 0   | 0   | 1   | ... | 0   | 1   |  0  |  0  | 0   | 0   | 13  | 5   | 4   | 1   |\n",
       "| 24  | 1   | 1   | 1   | 28  | 3   | 1   | 0   | 0   | 0   | ... | 0   | 3   |  6  |  0  | 1   | 0   | 9   | 4   | 6   | 0   |\n",
       "| 25  | 0   | 0   | 1   | 32  | 4   | 0   | 0   | 0   | 1   | ... | 0   | 2   |  0  |  0  | 0   | 0   | 5   | 6   | 8   | 0   |\n",
       "| 26  | 1   | 1   | 1   | 37  | 5   | 1   | 1   | 1   | 0   | ... | 0   | 5   |  0  |  0  | 1   | 1   | 10  | 6   | 5   | 1   |\n",
       "| 27  | 1   | 1   | 1   | 28  | 3   | 1   | 0   | 1   | 0   | ... | 0   | 4   |  0  |  0  | 0   | 1   | 12  | 2   | 4   | 1   |\n",
       "| 28  | 1   | 1   | 1   | 27  | 3   | 1   | 0   | 0   | 0   | ... | 0   | 4   | 20  | 20  | 1   | 0   | 8   | 4   | 7   | 1   |\n",
       "| 29  | 0   | 1   | 1   | 31  | 4   | 1   | 0   | 0   | 1   | ... | 0   | 1   |  0  |  0  | 0   | 1   | 12  | 6   | 8   | 0   |\n",
       "| ... | ... | ... | ... | ... | ... | ... | ... | ... | ... |     | ... | ... | ... | ... | ... | ... | ... | ... | ... | ... |\n",
       "| 253650 | 1      | 0      | 1      | 27     | 3      | 0      | 0      | 0      | 1      | ...    | 0      | 4      |  0     |  0     | 0      | 0      | 5      | 4      | 2      | 0      |\n",
       "| 253651 | 0      | 0      | 1      | 24     | 2      | 0      | 0      | 0      | 1      | ...    | 1      | 1      |  0     |  0     | 0      | 1      | 2      | 6      | 3      | 0      |\n",
       "| 253652 | 0      | 1      | 1      | 27     | 3      | 0      | 0      | 0      | 1      | ...    | 0      | 4      |  0     | 30     | 0      | 1      | 11     | 2      | 3      | 1      |\n",
       "| 253653 | 0      | 0      | 1      | 33     | 4      | 1      | 0      | 0      | 0      | ...    | 0      | 4      |  0     | 15     | 0      | 1      | 10     | 6      | 3      | 0      |\n",
       "| 253654 | 0      | 0      | 1      | 26     | 3      | 1      | 0      | 0      | 1      | ...    | 0      | 2      |  1     |  0     | 0      | 1      | 3      | 3      | 1      | 0      |\n",
       "| 253655 | 0      | 0      | 1      | 28     | 3      | 0      | 0      | 0      | 1      | ...    | 0      | 2      |  0     |  0     | 0      | 0      | 2      | 6      | 4      | 0      |\n",
       "| 253656 | 0      | 0      | 1      | 25     | 3      | 0      | 0      | 0      | 1      | ...    | 0      | 1      |  0     |  0     | 0      | 0      | 4      | 6      | 8      | 0      |\n",
       "| 253657 | 0      | 1      | 1      | 24     | 2      | 0      | 0      | 0      | 0      | ...    | 0      | 3      |  0     |  0     | 0      | 0      | 7      | 5      | 3      | 0      |\n",
       "| 253658 | 0      | 0      | 0      | 27     | 3      | 0      | 0      | 0      | 1      | ...    | 1      | 2      |  0     |  0     | 0      | 0      | 3      | 6      | 5      | 0      |\n",
       "| 253659 | 0      | 1      | 1      | 37     | 5      | 0      | 0      | 0      | 0      | ...    | 0      | 4      |  0     |  0     | 0      | 0      | 6      | 4      | 1      | 1      |\n",
       "| 253660 | 0      | 1      | 1      | 34     | 4      | 1      | 0      | 0      | 0      | ...    | 0      | 3      |  0     |  2     | 1      | 0      | 7      | 4      | 3      | 0      |\n",
       "| 253661 | 1      | 0      | 1      | 33     | 4      | 0      | 0      | 0      | 1      | ...    | 1      | 3      |  0     |  2     | 1      | 0      | 6      | 6      | 6      | 0      |\n",
       "| 253662 | 0      | 0      | 1      | 16     | 1      | 0      | 0      | 0      | 1      | ...    | 0      | 1      |  0     |  0     | 0      | 0      | 5      | 6      | 2      | 0      |\n",
       "| 253663 | 0      | 0      | 1      | 23     | 2      | 0      | 0      | 0      | 0      | ...    | 1      | 2      |  0     | 30     | 0      | 0      | 5      | 6      | 2      | 0      |\n",
       "| 253664 | 0      | 1      | 1      | 29     | 3      | 1      | 0      | 0      | 0      | ...    | 0      | 3      |  0     |  0     | 0      | 0      | 6      | 6      | 4      | 0      |\n",
       "| 253665 | 0      | 1      | 1      | 17     | 1      | 0      | 0      | 0      | 0      | ...    | 1      | 4      | 30     | 30     | 0      | 0      | 5      | 4      | 1      | 0      |\n",
       "| 253666 | 1      | 0      | 1      | 23     | 2      | 0      | 0      | 0      | 0      | ...    | 0      | 3      |  0     | 15     | 0      | 0      | 6      | 5      | 2      | 0      |\n",
       "| 253667 | 1      | 1      | 1      | 28     | 3      | 1      | 0      | 0      | 0      | ...    | 0      | 3      |  0     |  0     | 0      | 0      | 11     | 4      | 7      | 0      |\n",
       "| 253668 | 0      | 1      | 1      | 29     | 3      | 1      | 0      | 1      | 0      | ...    | 0      | 2      |  0     |  0     | 1      | 1      | 10     | 3      | 6      | 1      |\n",
       "| 253669 | 0      | 1      | 1      | 27     | 3      | 0      | 0      | 0      | 0      | ...    | 1      | 1      |  0     |  3     | 0      | 1      | 6      | 2      | 4      | 0      |\n",
       "| 253670 | 1      | 1      | 1      | 25     | 3      | 0      | 0      | 1      | 0      | ...    | 0      | 5      | 15     |  0     | 1      | 0      | 13     | 6      | 4      | 1      |\n",
       "| 253671 | 1      | 1      | 1      | 23     | 2      | 0      | 1      | 1      | 0      | ...    | 1      | 4      |  0     |  5     | 0      | 1      | 8      | 3      | 2      | 0      |\n",
       "| 253672 | 1      | 0      | 1      | 30     | 4      | 1      | 0      | 1      | 1      | ...    | 0      | 3      |  0     |  0     | 0      | 1      | 12     | 2      | 1      | 0      |\n",
       "| 253673 | 1      | 0      | 1      | 42     | 6      | 0      | 0      | 0      | 1      | ...    | 0      | 3      | 14     |  4     | 0      | 1      | 3      | 6      | 8      | 0      |\n",
       "| 253674 | 0      | 0      | 1      | 27     | 3      | 0      | 0      | 0      | 0      | ...    | 0      | 1      |  0     |  0     | 0      | 0      | 3      | 6      | 5      | 0      |\n",
       "| 253675 | 1      | 1      | 1      | 45     | 6      | 0      | 0      | 0      | 0      | ...    | 0      | 3      |  0     |  5     | 0      | 1      | 5      | 6      | 7      | 0      |\n",
       "| 253676 | 1      | 1      | 1      | 18     | 1      | 0      | 0      | 0      | 0      | ...    | 0      | 4      |  0     |  0     | 1      | 0      | 11     | 2      | 4      | 1      |\n",
       "| 253677 | 0      | 0      | 1      | 28     | 3      | 0      | 0      | 0      | 1      | ...    | 0      | 1      |  0     |  0     | 0      | 0      | 2      | 5      | 2      | 0      |\n",
       "| 253678 | 1      | 0      | 1      | 23     | 2      | 0      | 0      | 0      | 0      | ...    | 0      | 3      |  0     |  0     | 0      | 1      | 7      | 5      | 1      | 0      |\n",
       "| 253679 | 1      | 1      | 1      | 25     | 3      | 0      | 0      | 1      | 1      | ...    | 0      | 2      |  0     |  0     | 0      | 0      | 9      | 6      | 2      | 1      |\n",
       "\n"
      ],
      "text/plain": [
       "       Index  HighBP HighChol CholCheck BMI StdBMI Smoker Stroke\n",
       "1       0     1      1        1         40  6      1      0     \n",
       "2       1     0      0        0         25  3      1      0     \n",
       "3       2     1      1        1         28  3      0      0     \n",
       "4       3     1      0        1         27  3      0      0     \n",
       "5       4     1      1        1         24  2      0      0     \n",
       "6       5     1      1        1         25  3      1      0     \n",
       "7       6     1      0        1         30  4      1      0     \n",
       "8       7     1      1        1         25  3      1      0     \n",
       "9       8     1      1        1         30  4      1      0     \n",
       "10      9     0      0        1         24  2      0      0     \n",
       "11     10     0      0        1         25  3      1      0     \n",
       "12     11     1      1        1         34  4      1      0     \n",
       "13     12     0      0        1         26  3      1      0     \n",
       "14     13     1      1        1         28  3      0      0     \n",
       "15     14     0      1        1         33  4      1      1     \n",
       "16     15     1      0        1         33  4      0      0     \n",
       "17     16     1      1        1         21  2      0      0     \n",
       "18     17     0      0        1         23  2      1      0     \n",
       "19     18     0      0        0         23  2      0      0     \n",
       "20     19     0      1        1         28  3      0      0     \n",
       "21     20     1      1        1         22  2      0      1     \n",
       "22     21     1      1        1         38  5      1      0     \n",
       "23     22     0      0        1         28  3      1      0     \n",
       "24     23     1      0        1         27  3      0      0     \n",
       "25     24     1      1        1         28  3      1      0     \n",
       "26     25     0      0        1         32  4      0      0     \n",
       "27     26     1      1        1         37  5      1      1     \n",
       "28     27     1      1        1         28  3      1      0     \n",
       "29     28     1      1        1         27  3      1      0     \n",
       "30     29     0      1        1         31  4      1      0     \n",
       "...    ...    ...    ...      ...       ... ...    ...    ...   \n",
       "253651 253650 1      0        1         27  3      0      0     \n",
       "253652 253651 0      0        1         24  2      0      0     \n",
       "253653 253652 0      1        1         27  3      0      0     \n",
       "253654 253653 0      0        1         33  4      1      0     \n",
       "253655 253654 0      0        1         26  3      1      0     \n",
       "253656 253655 0      0        1         28  3      0      0     \n",
       "253657 253656 0      0        1         25  3      0      0     \n",
       "253658 253657 0      1        1         24  2      0      0     \n",
       "253659 253658 0      0        0         27  3      0      0     \n",
       "253660 253659 0      1        1         37  5      0      0     \n",
       "253661 253660 0      1        1         34  4      1      0     \n",
       "253662 253661 1      0        1         33  4      0      0     \n",
       "253663 253662 0      0        1         16  1      0      0     \n",
       "253664 253663 0      0        1         23  2      0      0     \n",
       "253665 253664 0      1        1         29  3      1      0     \n",
       "253666 253665 0      1        1         17  1      0      0     \n",
       "253667 253666 1      0        1         23  2      0      0     \n",
       "253668 253667 1      1        1         28  3      1      0     \n",
       "253669 253668 0      1        1         29  3      1      0     \n",
       "253670 253669 0      1        1         27  3      0      0     \n",
       "253671 253670 1      1        1         25  3      0      0     \n",
       "253672 253671 1      1        1         23  2      0      1     \n",
       "253673 253672 1      0        1         30  4      1      0     \n",
       "253674 253673 1      0        1         42  6      0      0     \n",
       "253675 253674 0      0        1         27  3      0      0     \n",
       "253676 253675 1      1        1         45  6      0      0     \n",
       "253677 253676 1      1        1         18  1      0      0     \n",
       "253678 253677 0      0        1         28  3      0      0     \n",
       "253679 253678 1      0        1         23  2      0      0     \n",
       "253680 253679 1      1        1         25  3      0      0     \n",
       "       HeartDiseaseorAttack PhysActivity ... NoDocbcCost GenHlth MentHlth\n",
       "1      0                    0            ... 0           5       18      \n",
       "2      0                    1            ... 1           3        0      \n",
       "3      0                    0            ... 1           5       30      \n",
       "4      0                    1            ... 0           2        0      \n",
       "5      0                    1            ... 0           2        3      \n",
       "6      0                    1            ... 0           2        0      \n",
       "7      0                    0            ... 0           3        0      \n",
       "8      0                    1            ... 0           3        0      \n",
       "9      1                    0            ... 0           5       30      \n",
       "10     0                    0            ... 0           2        0      \n",
       "11     0                    1            ... 0           3        0      \n",
       "12     0                    0            ... 0           3        0      \n",
       "13     0                    0            ... 0           3        0      \n",
       "14     0                    0            ... 0           4        0      \n",
       "15     0                    1            ... 1           4       30      \n",
       "16     0                    1            ... 0           2        5      \n",
       "17     0                    1            ... 0           3        0      \n",
       "18     0                    1            ... 0           2        0      \n",
       "19     0                    0            ... 0           2       15      \n",
       "20     0                    0            ... 0           2       10      \n",
       "21     1                    0            ... 0           3       30      \n",
       "22     0                    0            ... 0           5       15      \n",
       "23     0                    0            ... 0           3        0      \n",
       "24     0                    1            ... 0           1        0      \n",
       "25     0                    0            ... 0           3        6      \n",
       "26     0                    1            ... 0           2        0      \n",
       "27     1                    0            ... 0           5        0      \n",
       "28     1                    0            ... 0           4        0      \n",
       "29     0                    0            ... 0           4       20      \n",
       "30     0                    1            ... 0           1        0      \n",
       "...    ...                  ...              ...         ...     ...     \n",
       "253651 0                    1            ... 0           4        0      \n",
       "253652 0                    1            ... 1           1        0      \n",
       "253653 0                    1            ... 0           4        0      \n",
       "253654 0                    0            ... 0           4        0      \n",
       "253655 0                    1            ... 0           2        1      \n",
       "253656 0                    1            ... 0           2        0      \n",
       "253657 0                    1            ... 0           1        0      \n",
       "253658 0                    0            ... 0           3        0      \n",
       "253659 0                    1            ... 1           2        0      \n",
       "253660 0                    0            ... 0           4        0      \n",
       "253661 0                    0            ... 0           3        0      \n",
       "253662 0                    1            ... 1           3        0      \n",
       "253663 0                    1            ... 0           1        0      \n",
       "253664 0                    0            ... 1           2        0      \n",
       "253665 0                    0            ... 0           3        0      \n",
       "253666 0                    0            ... 1           4       30      \n",
       "253667 0                    0            ... 0           3        0      \n",
       "253668 0                    0            ... 0           3        0      \n",
       "253669 1                    0            ... 0           2        0      \n",
       "253670 0                    0            ... 1           1        0      \n",
       "253671 1                    0            ... 0           5       15      \n",
       "253672 1                    0            ... 1           4        0      \n",
       "253673 1                    1            ... 0           3        0      \n",
       "253674 0                    1            ... 0           3       14      \n",
       "253675 0                    0            ... 0           1        0      \n",
       "253676 0                    0            ... 0           3        0      \n",
       "253677 0                    0            ... 0           4        0      \n",
       "253678 0                    1            ... 0           1        0      \n",
       "253679 0                    0            ... 0           3        0      \n",
       "253680 1                    1            ... 0           2        0      \n",
       "       PhysHlth DiffWalk Sex Age Education Income Diabetes_binary\n",
       "1      15       1        0   9   4         3      0              \n",
       "2       0       0        0   7   6         1      0              \n",
       "3      30       1        0   9   4         8      0              \n",
       "4       0       0        0   11  3         6      0              \n",
       "5       0       0        0   11  5         4      0              \n",
       "6       2       0        1   10  6         8      0              \n",
       "7      14       0        0   9   6         7      0              \n",
       "8       0       1        0   11  4         4      0              \n",
       "9      30       1        0   9   5         1      1              \n",
       "10      0       0        1   8   4         3      0              \n",
       "11      0       0        1   13  6         8      1              \n",
       "12     30       1        0   10  5         1      0              \n",
       "13     15       0        0   7   5         7      0              \n",
       "14      0       1        0   11  4         6      1              \n",
       "15     28       0        0   4   6         2      0              \n",
       "16      0       0        0   6   6         8      0              \n",
       "17      0       0        0   10  4         3      0              \n",
       "18      0       0        1   7   5         6      1              \n",
       "19      0       0        0   2   6         7      0              \n",
       "20      0       0        1   4   6         8      0              \n",
       "21      0       1        0   12  4         4      0              \n",
       "22     30       1        0   13  2         3      0              \n",
       "23      7       0        1   5   5         5      0              \n",
       "24      0       0        0   13  5         4      1              \n",
       "25      0       1        0   9   4         6      0              \n",
       "26      0       0        0   5   6         8      0              \n",
       "27      0       1        1   10  6         5      1              \n",
       "28      0       0        1   12  2         4      1              \n",
       "29     20       1        0   8   4         7      1              \n",
       "30      0       0        1   12  6         8      0              \n",
       "...    ...      ...      ... ... ...       ...    ...            \n",
       "253651  0       0        0   5   4         2      0              \n",
       "253652  0       0        1   2   6         3      0              \n",
       "253653 30       0        1   11  2         3      1              \n",
       "253654 15       0        1   10  6         3      0              \n",
       "253655  0       0        1   3   3         1      0              \n",
       "253656  0       0        0   2   6         4      0              \n",
       "253657  0       0        0   4   6         8      0              \n",
       "253658  0       0        0   7   5         3      0              \n",
       "253659  0       0        0   3   6         5      0              \n",
       "253660  0       0        0   6   4         1      1              \n",
       "253661  2       1        0   7   4         3      0              \n",
       "253662  2       1        0   6   6         6      0              \n",
       "253663  0       0        0   5   6         2      0              \n",
       "253664 30       0        0   5   6         2      0              \n",
       "253665  0       0        0   6   6         4      0              \n",
       "253666 30       0        0   5   4         1      0              \n",
       "253667 15       0        0   6   5         2      0              \n",
       "253668  0       0        0   11  4         7      0              \n",
       "253669  0       1        1   10  3         6      1              \n",
       "253670  3       0        1   6   2         4      0              \n",
       "253671  0       1        0   13  6         4      1              \n",
       "253672  5       0        1   8   3         2      0              \n",
       "253673  0       0        1   12  2         1      0              \n",
       "253674  4       0        1   3   6         8      0              \n",
       "253675  0       0        0   3   6         5      0              \n",
       "253676  5       0        1   5   6         7      0              \n",
       "253677  0       1        0   11  2         4      1              \n",
       "253678  0       0        0   2   5         2      0              \n",
       "253679  0       0        1   7   5         1      0              \n",
       "253680  0       0        0   9   6         2      1              "
      ]
     },
     "metadata": {},
     "output_type": "display_data"
    }
   ],
   "source": [
    "df_std_1"
   ]
  },
  {
   "cell_type": "code",
   "execution_count": 103,
   "id": "ab02ff33-2f29-44b2-8499-c3cd86e57862",
   "metadata": {},
   "outputs": [
    {
     "data": {
      "text/plain": [
       "\n",
       "    1     2     3     4     5     6 \n",
       " 3127 68953 93749 53451 20663 13737 "
      ]
     },
     "metadata": {},
     "output_type": "display_data"
    }
   ],
   "source": [
    "table(df_std_1$StdBMI)"
   ]
  },
  {
   "cell_type": "code",
   "execution_count": 104,
   "id": "ea7ba198-b24c-4616-81c3-0621f7559a6f",
   "metadata": {
    "scrolled": true
   },
   "outputs": [
    {
     "data": {
      "image/png": "[encoded data removed]",
      "text/plain": [
       "plot without title"
      ]
     },
     "metadata": {},
     "output_type": "display_data"
    }
   ],
   "source": [
    "barplot(table(df_std_1$StdBMI))"
   ]
  },
  {
   "cell_type": "code",
   "execution_count": 105,
   "id": "ac25845a-3750-4496-acfb-0a0fa72a1b43",
   "metadata": {},
   "outputs": [],
   "source": [
    "df_std_1$StdBMI = factor(df_std_1$StdBMI, ordered = T)"
   ]
  },
  {
   "cell_type": "code",
   "execution_count": 106,
   "id": "87e47738-a1e3-4d80-b6da-9eff7b721d2c",
   "metadata": {
    "scrolled": true
   },
   "outputs": [
    {
     "name": "stdout",
     "output_type": "stream",
     "text": [
      "'data.frame':\t253680 obs. of  24 variables:\n",
      " $ Index               : int  0 1 2 3 4 5 6 7 8 9 ...\n",
      " $ HighBP              : Factor w/ 2 levels \"0\",\"1\": 2 1 2 2 2 2 2 2 2 1 ...\n",
      " $ HighChol            : Factor w/ 2 levels \"0\",\"1\": 2 1 2 1 2 2 1 2 2 1 ...\n",
      " $ CholCheck           : Factor w/ 2 levels \"0\",\"1\": 2 1 2 2 2 2 2 2 2 2 ...\n",
      " $ BMI                 : int  40 25 28 27 24 25 30 25 30 24 ...\n",
      " $ StdBMI              : Ord.factor w/ 6 levels \"1\"<\"2\"<\"3\"<\"4\"<..: 6 3 3 3 2 3 4 3 4 2 ...\n",
      " $ Smoker              : Factor w/ 2 levels \"0\",\"1\": 2 2 1 1 1 2 2 2 2 1 ...\n",
      " $ Stroke              : Factor w/ 2 levels \"0\",\"1\": 1 1 1 1 1 1 1 1 1 1 ...\n",
      " $ HeartDiseaseorAttack: Factor w/ 2 levels \"0\",\"1\": 1 1 1 1 1 1 1 1 2 1 ...\n",
      " $ PhysActivity        : Factor w/ 2 levels \"0\",\"1\": 1 2 1 2 2 2 1 2 1 1 ...\n",
      " $ Fruits              : Factor w/ 2 levels \"0\",\"1\": 1 1 2 2 2 2 1 1 2 1 ...\n",
      " $ Veggies             : Factor w/ 2 levels \"0\",\"1\": 2 1 1 2 2 2 1 2 2 2 ...\n",
      " $ HvyAlcoholConsump   : Factor w/ 2 levels \"0\",\"1\": 1 1 1 1 1 1 1 1 1 1 ...\n",
      " $ AnyHealthcare       : Factor w/ 2 levels \"0\",\"1\": 2 1 2 2 2 2 2 2 2 2 ...\n",
      " $ NoDocbcCost         : Factor w/ 2 levels \"0\",\"1\": 1 2 2 1 1 1 1 1 1 1 ...\n",
      " $ GenHlth             : Ord.factor w/ 5 levels \"1\"<\"2\"<\"3\"<\"4\"<..: 5 3 5 2 2 2 3 3 5 2 ...\n",
      " $ MentHlth            : int  18 0 30 0 3 0 0 0 30 0 ...\n",
      " $ PhysHlth            : int  15 0 30 0 0 2 14 0 30 0 ...\n",
      " $ DiffWalk            : Factor w/ 2 levels \"0\",\"1\": 2 1 2 1 1 1 1 2 2 1 ...\n",
      " $ Sex                 : Factor w/ 2 levels \"0\",\"1\": 1 1 1 1 1 2 1 1 1 2 ...\n",
      " $ Age                 : Ord.factor w/ 13 levels \"1\"<\"2\"<\"3\"<\"4\"<..: 9 7 9 11 11 10 9 11 9 8 ...\n",
      " $ Education           : Ord.factor w/ 6 levels \"1\"<\"2\"<\"3\"<\"4\"<..: 4 6 4 3 5 6 6 4 5 4 ...\n",
      " $ Income              : Ord.factor w/ 8 levels \"1\"<\"2\"<\"3\"<\"4\"<..: 3 1 8 6 4 8 7 4 1 3 ...\n",
      " $ Diabetes_binary     : Factor w/ 2 levels \"0\",\"1\": 1 1 1 1 1 1 1 1 2 1 ...\n"
     ]
    }
   ],
   "source": [
    "str(df_std_1)"
   ]
  },
  {
   "cell_type": "code",
   "execution_count": 108,
   "id": "bce561f7-438f-4bb5-8656-f609d2546a71",
   "metadata": {},
   "outputs": [],
   "source": [
    "# Comment: StdBMI data are categorical."
   ]
  },
  {
   "cell_type": "markdown",
   "id": "a2941e5e-37c5-4a31-8811-ffee54baffca",
   "metadata": {},
   "source": [
    "##### MentHlth"
   ]
  },
  {
   "cell_type": "code",
   "execution_count": null,
   "id": "92f0e86c-6f33-465e-b74b-dada51bd929a",
   "metadata": {},
   "outputs": [],
   "source": []
  },
  {
   "cell_type": "markdown",
   "id": "9ce32e18-4db6-4195-8244-2feda479c962",
   "metadata": {},
   "source": [
    "## 3. Exploratory data analysis (EDA)"
   ]
  },
  {
   "cell_type": "markdown",
   "id": "71887d24-4f1e-4bfd-a312-df38c06e4caf",
   "metadata": {},
   "source": [
    "## 4. Model building"
   ]
  }
 ],
 "metadata": {
  "kernelspec": {
   "display_name": "R",
   "language": "R",
   "name": "ir"
  },
  "language_info": {
   "codemirror_mode": "r",
   "file_extension": ".r",
   "mimetype": "text/x-r-source",
   "name": "R",
   "pygments_lexer": "r",
   "version": "3.6.1"
  }
 },
 "nbformat": 4,
 "nbformat_minor": 5
}
