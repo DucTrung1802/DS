{
 "cells": [
  {
   "cell_type": "markdown",
   "id": "b338b917-97a6-4479-8149-4415369c23d2",
   "metadata": {},
   "source": [
    "# Diabetes Analysis"
   ]
  },
  {
   "cell_type": "markdown",
   "id": "9d82b63f-ace4-46bf-94c9-dba9d6cdd275",
   "metadata": {},
   "source": [
    "### Author: Ly Duc Trung"
   ]
  },
  {
   "cell_type": "markdown",
   "id": "6aafad5f-b0ea-423b-a419-75897648e602",
   "metadata": {},
   "source": [
    "### Link: https://github.com/DucTrung1802/DS/blob/main/GLM_Report/diabetes_analysis.ipynb"
   ]
  },
  {
   "cell_type": "markdown",
   "id": "b6231cd2-61d3-4c1e-8765-fc06df5b9083",
   "metadata": {},
   "source": [
    "### Dataset Link: https://www.archive.ics.uci.edu/dataset/891/cdc+diabetes+health+indicators"
   ]
  },
  {
   "cell_type": "markdown",
   "id": "b7bcf8af-3689-4af6-92d7-53eb46a817f3",
   "metadata": {},
   "source": [
    "## 0. Install and import libraries"
   ]
  },
  {
   "cell_type": "markdown",
   "id": "17497756-a85a-4d32-8769-b86450f80548",
   "metadata": {},
   "source": [
    "### Check R version"
   ]
  },
  {
   "cell_type": "code",
   "execution_count": 1,
   "id": "da41d543-be4f-4b9e-9a28-282b3947f958",
   "metadata": {},
   "outputs": [
    {
     "data": {
      "text/html": [
       "<dl>\n",
       "\t<dt>$platform</dt>\n",
       "\t\t<dd>'x86_64-w64-mingw32'</dd>\n",
       "\t<dt>$arch</dt>\n",
       "\t\t<dd>'x86_64'</dd>\n",
       "\t<dt>$os</dt>\n",
       "\t\t<dd>'mingw32'</dd>\n",
       "\t<dt>$system</dt>\n",
       "\t\t<dd>'x86_64, mingw32'</dd>\n",
       "\t<dt>$status</dt>\n",
       "\t\t<dd>''</dd>\n",
       "\t<dt>$major</dt>\n",
       "\t\t<dd>'4'</dd>\n",
       "\t<dt>$minor</dt>\n",
       "\t\t<dd>'1.2'</dd>\n",
       "\t<dt>$year</dt>\n",
       "\t\t<dd>'2021'</dd>\n",
       "\t<dt>$month</dt>\n",
       "\t\t<dd>'11'</dd>\n",
       "\t<dt>$day</dt>\n",
       "\t\t<dd>'01'</dd>\n",
       "\t<dt>$`svn rev`</dt>\n",
       "\t\t<dd>'81115'</dd>\n",
       "\t<dt>$language</dt>\n",
       "\t\t<dd>'R'</dd>\n",
       "\t<dt>$version.string</dt>\n",
       "\t\t<dd>'R version 4.1.2 (2021-11-01)'</dd>\n",
       "\t<dt>$nickname</dt>\n",
       "\t\t<dd>'Bird Hippie'</dd>\n",
       "</dl>\n"
      ],
      "text/latex": [
       "\\begin{description}\n",
       "\\item[\\$platform] 'x86\\_64-w64-mingw32'\n",
       "\\item[\\$arch] 'x86\\_64'\n",
       "\\item[\\$os] 'mingw32'\n",
       "\\item[\\$system] 'x86\\_64, mingw32'\n",
       "\\item[\\$status] ''\n",
       "\\item[\\$major] '4'\n",
       "\\item[\\$minor] '1.2'\n",
       "\\item[\\$year] '2021'\n",
       "\\item[\\$month] '11'\n",
       "\\item[\\$day] '01'\n",
       "\\item[\\$`svn rev`] '81115'\n",
       "\\item[\\$language] 'R'\n",
       "\\item[\\$version.string] 'R version 4.1.2 (2021-11-01)'\n",
       "\\item[\\$nickname] 'Bird Hippie'\n",
       "\\end{description}\n"
      ],
      "text/markdown": [
       "$platform\n",
       ":   'x86_64-w64-mingw32'\n",
       "$arch\n",
       ":   'x86_64'\n",
       "$os\n",
       ":   'mingw32'\n",
       "$system\n",
       ":   'x86_64, mingw32'\n",
       "$status\n",
       ":   ''\n",
       "$major\n",
       ":   '4'\n",
       "$minor\n",
       ":   '1.2'\n",
       "$year\n",
       ":   '2021'\n",
       "$month\n",
       ":   '11'\n",
       "$day\n",
       ":   '01'\n",
       "$`svn rev`\n",
       ":   '81115'\n",
       "$language\n",
       ":   'R'\n",
       "$version.string\n",
       ":   'R version 4.1.2 (2021-11-01)'\n",
       "$nickname\n",
       ":   'Bird Hippie'\n",
       "\n",
       "\n"
      ],
      "text/plain": [
       "$platform\n",
       "[1] \"x86_64-w64-mingw32\"\n",
       "\n",
       "$arch\n",
       "[1] \"x86_64\"\n",
       "\n",
       "$os\n",
       "[1] \"mingw32\"\n",
       "\n",
       "$system\n",
       "[1] \"x86_64, mingw32\"\n",
       "\n",
       "$status\n",
       "[1] \"\"\n",
       "\n",
       "$major\n",
       "[1] \"4\"\n",
       "\n",
       "$minor\n",
       "[1] \"1.2\"\n",
       "\n",
       "$year\n",
       "[1] \"2021\"\n",
       "\n",
       "$month\n",
       "[1] \"11\"\n",
       "\n",
       "$day\n",
       "[1] \"01\"\n",
       "\n",
       "$`svn rev`\n",
       "[1] \"81115\"\n",
       "\n",
       "$language\n",
       "[1] \"R\"\n",
       "\n",
       "$version.string\n",
       "[1] \"R version 4.1.2 (2021-11-01)\"\n",
       "\n",
       "$nickname\n",
       "[1] \"Bird Hippie\"\n"
      ]
     },
     "metadata": {},
     "output_type": "display_data"
    }
   ],
   "source": [
    "R.Version()"
   ]
  },
  {
   "cell_type": "markdown",
   "id": "886aff28-01b3-4c82-ac35-a55358629926",
   "metadata": {},
   "source": [
    "### 0.1. Install"
   ]
  },
  {
   "cell_type": "code",
   "execution_count": 2,
   "id": "bb2ef04b-f627-4d35-b48e-0f5c211657e8",
   "metadata": {},
   "outputs": [],
   "source": [
    "# INSTALL THESE PACKAGES IN CONDA TERMINAL\n",
    "# conda install r-corrplot\n",
    "# conda install r-rcompanion\n",
    "# conda install r-dplyr"
   ]
  },
  {
   "cell_type": "markdown",
   "id": "b7e48079-fbef-496c-b67d-31fa3cccc7a3",
   "metadata": {},
   "source": [
    "### 0.2. Import"
   ]
  },
  {
   "cell_type": "code",
   "execution_count": 3,
   "id": "f6a80c0c-47c2-487a-a648-f3fda518f405",
   "metadata": {},
   "outputs": [
    {
     "name": "stderr",
     "output_type": "stream",
     "text": [
      "Warning message:\n",
      "\"package 'corrplot' was built under R version 4.1.3\"\n",
      "corrplot 0.92 loaded\n",
      "\n",
      "Warning message:\n",
      "\"package 'rcompanion' was built under R version 4.1.3\"\n",
      "Warning message:\n",
      "\"package 'pcaPP' was built under R version 4.1.3\"\n",
      "Warning message:\n",
      "\"package 'caret' was built under R version 4.1.3\"\n",
      "Loading required package: ggplot2\n",
      "\n",
      "Warning message:\n",
      "\"package 'ggplot2' was built under R version 4.1.3\"\n",
      "Loading required package: lattice\n",
      "\n",
      "Warning message:\n",
      "\"package 'lattice' was built under R version 4.1.3\"\n"
     ]
    }
   ],
   "source": [
    "library(corrplot)\n",
    "library(rcompanion)\n",
    "library(pcaPP)\n",
    "library(caret)"
   ]
  },
  {
   "cell_type": "markdown",
   "id": "0c58420a-613d-487d-8027-762338abe091",
   "metadata": {},
   "source": [
    "## 1. Import Data"
   ]
  },
  {
   "cell_type": "code",
   "execution_count": 4,
   "id": "32cdb2b4-c609-46ef-879f-40ba8d02f1f1",
   "metadata": {
    "vscode": {
     "languageId": "r"
    }
   },
   "outputs": [],
   "source": [
    "input_data = read.csv(\"diabetes_full_data.csv\")"
   ]
  },
  {
   "cell_type": "code",
   "execution_count": 5,
   "id": "71ddcb1b-655e-4dfd-8986-4a09bbdbfd1b",
   "metadata": {
    "vscode": {
     "languageId": "r"
    }
   },
   "outputs": [],
   "source": [
    "df = data.frame(input_data)"
   ]
  },
  {
   "cell_type": "code",
   "execution_count": 6,
   "id": "c29d71d9-4938-4154-a629-2dffbb5cdf7e",
   "metadata": {
    "scrolled": true,
    "vscode": {
     "languageId": "r"
    }
   },
   "outputs": [
    {
     "data": {
      "text/html": [
       "<table class=\"dataframe\">\n",
       "<caption>A data.frame: 253680 × 23</caption>\n",
       "<thead>\n",
       "\t<tr><th scope=col>X</th><th scope=col>HighBP</th><th scope=col>HighChol</th><th scope=col>CholCheck</th><th scope=col>BMI</th><th scope=col>Smoker</th><th scope=col>Stroke</th><th scope=col>HeartDiseaseorAttack</th><th scope=col>PhysActivity</th><th scope=col>Fruits</th><th scope=col>...</th><th scope=col>NoDocbcCost</th><th scope=col>GenHlth</th><th scope=col>MentHlth</th><th scope=col>PhysHlth</th><th scope=col>DiffWalk</th><th scope=col>Sex</th><th scope=col>Age</th><th scope=col>Education</th><th scope=col>Income</th><th scope=col>Diabetes_binary</th></tr>\n",
       "\t<tr><th scope=col>&lt;int&gt;</th><th scope=col>&lt;int&gt;</th><th scope=col>&lt;int&gt;</th><th scope=col>&lt;int&gt;</th><th scope=col>&lt;int&gt;</th><th scope=col>&lt;int&gt;</th><th scope=col>&lt;int&gt;</th><th scope=col>&lt;int&gt;</th><th scope=col>&lt;int&gt;</th><th scope=col>&lt;int&gt;</th><th scope=col>...</th><th scope=col>&lt;int&gt;</th><th scope=col>&lt;int&gt;</th><th scope=col>&lt;int&gt;</th><th scope=col>&lt;int&gt;</th><th scope=col>&lt;int&gt;</th><th scope=col>&lt;int&gt;</th><th scope=col>&lt;int&gt;</th><th scope=col>&lt;int&gt;</th><th scope=col>&lt;int&gt;</th><th scope=col>&lt;int&gt;</th></tr>\n",
       "</thead>\n",
       "<tbody>\n",
       "\t<tr><td> 0</td><td>1</td><td>1</td><td>1</td><td>40</td><td>1</td><td>0</td><td>0</td><td>0</td><td>0</td><td>...</td><td>0</td><td>5</td><td>18</td><td>15</td><td>1</td><td>0</td><td> 9</td><td>4</td><td>3</td><td>0</td></tr>\n",
       "\t<tr><td> 1</td><td>0</td><td>0</td><td>0</td><td>25</td><td>1</td><td>0</td><td>0</td><td>1</td><td>0</td><td>...</td><td>1</td><td>3</td><td> 0</td><td> 0</td><td>0</td><td>0</td><td> 7</td><td>6</td><td>1</td><td>0</td></tr>\n",
       "\t<tr><td> 2</td><td>1</td><td>1</td><td>1</td><td>28</td><td>0</td><td>0</td><td>0</td><td>0</td><td>1</td><td>...</td><td>1</td><td>5</td><td>30</td><td>30</td><td>1</td><td>0</td><td> 9</td><td>4</td><td>8</td><td>0</td></tr>\n",
       "\t<tr><td> 3</td><td>1</td><td>0</td><td>1</td><td>27</td><td>0</td><td>0</td><td>0</td><td>1</td><td>1</td><td>...</td><td>0</td><td>2</td><td> 0</td><td> 0</td><td>0</td><td>0</td><td>11</td><td>3</td><td>6</td><td>0</td></tr>\n",
       "\t<tr><td> 4</td><td>1</td><td>1</td><td>1</td><td>24</td><td>0</td><td>0</td><td>0</td><td>1</td><td>1</td><td>...</td><td>0</td><td>2</td><td> 3</td><td> 0</td><td>0</td><td>0</td><td>11</td><td>5</td><td>4</td><td>0</td></tr>\n",
       "\t<tr><td> 5</td><td>1</td><td>1</td><td>1</td><td>25</td><td>1</td><td>0</td><td>0</td><td>1</td><td>1</td><td>...</td><td>0</td><td>2</td><td> 0</td><td> 2</td><td>0</td><td>1</td><td>10</td><td>6</td><td>8</td><td>0</td></tr>\n",
       "\t<tr><td> 6</td><td>1</td><td>0</td><td>1</td><td>30</td><td>1</td><td>0</td><td>0</td><td>0</td><td>0</td><td>...</td><td>0</td><td>3</td><td> 0</td><td>14</td><td>0</td><td>0</td><td> 9</td><td>6</td><td>7</td><td>0</td></tr>\n",
       "\t<tr><td> 7</td><td>1</td><td>1</td><td>1</td><td>25</td><td>1</td><td>0</td><td>0</td><td>1</td><td>0</td><td>...</td><td>0</td><td>3</td><td> 0</td><td> 0</td><td>1</td><td>0</td><td>11</td><td>4</td><td>4</td><td>0</td></tr>\n",
       "\t<tr><td> 8</td><td>1</td><td>1</td><td>1</td><td>30</td><td>1</td><td>0</td><td>1</td><td>0</td><td>1</td><td>...</td><td>0</td><td>5</td><td>30</td><td>30</td><td>1</td><td>0</td><td> 9</td><td>5</td><td>1</td><td>1</td></tr>\n",
       "\t<tr><td> 9</td><td>0</td><td>0</td><td>1</td><td>24</td><td>0</td><td>0</td><td>0</td><td>0</td><td>0</td><td>...</td><td>0</td><td>2</td><td> 0</td><td> 0</td><td>0</td><td>1</td><td> 8</td><td>4</td><td>3</td><td>0</td></tr>\n",
       "\t<tr><td>10</td><td>0</td><td>0</td><td>1</td><td>25</td><td>1</td><td>0</td><td>0</td><td>1</td><td>1</td><td>...</td><td>0</td><td>3</td><td> 0</td><td> 0</td><td>0</td><td>1</td><td>13</td><td>6</td><td>8</td><td>1</td></tr>\n",
       "\t<tr><td>11</td><td>1</td><td>1</td><td>1</td><td>34</td><td>1</td><td>0</td><td>0</td><td>0</td><td>1</td><td>...</td><td>0</td><td>3</td><td> 0</td><td>30</td><td>1</td><td>0</td><td>10</td><td>5</td><td>1</td><td>0</td></tr>\n",
       "\t<tr><td>12</td><td>0</td><td>0</td><td>1</td><td>26</td><td>1</td><td>0</td><td>0</td><td>0</td><td>0</td><td>...</td><td>0</td><td>3</td><td> 0</td><td>15</td><td>0</td><td>0</td><td> 7</td><td>5</td><td>7</td><td>0</td></tr>\n",
       "\t<tr><td>13</td><td>1</td><td>1</td><td>1</td><td>28</td><td>0</td><td>0</td><td>0</td><td>0</td><td>0</td><td>...</td><td>0</td><td>4</td><td> 0</td><td> 0</td><td>1</td><td>0</td><td>11</td><td>4</td><td>6</td><td>1</td></tr>\n",
       "\t<tr><td>14</td><td>0</td><td>1</td><td>1</td><td>33</td><td>1</td><td>1</td><td>0</td><td>1</td><td>0</td><td>...</td><td>1</td><td>4</td><td>30</td><td>28</td><td>0</td><td>0</td><td> 4</td><td>6</td><td>2</td><td>0</td></tr>\n",
       "\t<tr><td>15</td><td>1</td><td>0</td><td>1</td><td>33</td><td>0</td><td>0</td><td>0</td><td>1</td><td>0</td><td>...</td><td>0</td><td>2</td><td> 5</td><td> 0</td><td>0</td><td>0</td><td> 6</td><td>6</td><td>8</td><td>0</td></tr>\n",
       "\t<tr><td>16</td><td>1</td><td>1</td><td>1</td><td>21</td><td>0</td><td>0</td><td>0</td><td>1</td><td>1</td><td>...</td><td>0</td><td>3</td><td> 0</td><td> 0</td><td>0</td><td>0</td><td>10</td><td>4</td><td>3</td><td>0</td></tr>\n",
       "\t<tr><td>17</td><td>0</td><td>0</td><td>1</td><td>23</td><td>1</td><td>0</td><td>0</td><td>1</td><td>0</td><td>...</td><td>0</td><td>2</td><td> 0</td><td> 0</td><td>0</td><td>1</td><td> 7</td><td>5</td><td>6</td><td>1</td></tr>\n",
       "\t<tr><td>18</td><td>0</td><td>0</td><td>0</td><td>23</td><td>0</td><td>0</td><td>0</td><td>0</td><td>0</td><td>...</td><td>0</td><td>2</td><td>15</td><td> 0</td><td>0</td><td>0</td><td> 2</td><td>6</td><td>7</td><td>0</td></tr>\n",
       "\t<tr><td>19</td><td>0</td><td>1</td><td>1</td><td>28</td><td>0</td><td>0</td><td>0</td><td>0</td><td>0</td><td>...</td><td>0</td><td>2</td><td>10</td><td> 0</td><td>0</td><td>1</td><td> 4</td><td>6</td><td>8</td><td>0</td></tr>\n",
       "\t<tr><td>20</td><td>1</td><td>1</td><td>1</td><td>22</td><td>0</td><td>1</td><td>1</td><td>0</td><td>1</td><td>...</td><td>0</td><td>3</td><td>30</td><td> 0</td><td>1</td><td>0</td><td>12</td><td>4</td><td>4</td><td>0</td></tr>\n",
       "\t<tr><td>21</td><td>1</td><td>1</td><td>1</td><td>38</td><td>1</td><td>0</td><td>0</td><td>0</td><td>1</td><td>...</td><td>0</td><td>5</td><td>15</td><td>30</td><td>1</td><td>0</td><td>13</td><td>2</td><td>3</td><td>0</td></tr>\n",
       "\t<tr><td>22</td><td>0</td><td>0</td><td>1</td><td>28</td><td>1</td><td>0</td><td>0</td><td>0</td><td>0</td><td>...</td><td>0</td><td>3</td><td> 0</td><td> 7</td><td>0</td><td>1</td><td> 5</td><td>5</td><td>5</td><td>0</td></tr>\n",
       "\t<tr><td>23</td><td>1</td><td>0</td><td>1</td><td>27</td><td>0</td><td>0</td><td>0</td><td>1</td><td>1</td><td>...</td><td>0</td><td>1</td><td> 0</td><td> 0</td><td>0</td><td>0</td><td>13</td><td>5</td><td>4</td><td>1</td></tr>\n",
       "\t<tr><td>24</td><td>1</td><td>1</td><td>1</td><td>28</td><td>1</td><td>0</td><td>0</td><td>0</td><td>1</td><td>...</td><td>0</td><td>3</td><td> 6</td><td> 0</td><td>1</td><td>0</td><td> 9</td><td>4</td><td>6</td><td>0</td></tr>\n",
       "\t<tr><td>25</td><td>0</td><td>0</td><td>1</td><td>32</td><td>0</td><td>0</td><td>0</td><td>1</td><td>1</td><td>...</td><td>0</td><td>2</td><td> 0</td><td> 0</td><td>0</td><td>0</td><td> 5</td><td>6</td><td>8</td><td>0</td></tr>\n",
       "\t<tr><td>26</td><td>1</td><td>1</td><td>1</td><td>37</td><td>1</td><td>1</td><td>1</td><td>0</td><td>0</td><td>...</td><td>0</td><td>5</td><td> 0</td><td> 0</td><td>1</td><td>1</td><td>10</td><td>6</td><td>5</td><td>1</td></tr>\n",
       "\t<tr><td>27</td><td>1</td><td>1</td><td>1</td><td>28</td><td>1</td><td>0</td><td>1</td><td>0</td><td>0</td><td>...</td><td>0</td><td>4</td><td> 0</td><td> 0</td><td>0</td><td>1</td><td>12</td><td>2</td><td>4</td><td>1</td></tr>\n",
       "\t<tr><td>28</td><td>1</td><td>1</td><td>1</td><td>27</td><td>1</td><td>0</td><td>0</td><td>0</td><td>1</td><td>...</td><td>0</td><td>4</td><td>20</td><td>20</td><td>1</td><td>0</td><td> 8</td><td>4</td><td>7</td><td>1</td></tr>\n",
       "\t<tr><td>29</td><td>0</td><td>1</td><td>1</td><td>31</td><td>1</td><td>0</td><td>0</td><td>1</td><td>1</td><td>...</td><td>0</td><td>1</td><td> 0</td><td> 0</td><td>0</td><td>1</td><td>12</td><td>6</td><td>8</td><td>0</td></tr>\n",
       "\t<tr><td>...</td><td>...</td><td>...</td><td>...</td><td>...</td><td>...</td><td>...</td><td>...</td><td>...</td><td>...</td><td></td><td>...</td><td>...</td><td>...</td><td>...</td><td>...</td><td>...</td><td>...</td><td>...</td><td>...</td><td>...</td></tr>\n",
       "\t<tr><td>253650</td><td>1</td><td>0</td><td>1</td><td>27</td><td>0</td><td>0</td><td>0</td><td>1</td><td>0</td><td>...</td><td>0</td><td>4</td><td> 0</td><td> 0</td><td>0</td><td>0</td><td> 5</td><td>4</td><td>2</td><td>0</td></tr>\n",
       "\t<tr><td>253651</td><td>0</td><td>0</td><td>1</td><td>24</td><td>0</td><td>0</td><td>0</td><td>1</td><td>1</td><td>...</td><td>1</td><td>1</td><td> 0</td><td> 0</td><td>0</td><td>1</td><td> 2</td><td>6</td><td>3</td><td>0</td></tr>\n",
       "\t<tr><td>253652</td><td>0</td><td>1</td><td>1</td><td>27</td><td>0</td><td>0</td><td>0</td><td>1</td><td>1</td><td>...</td><td>0</td><td>4</td><td> 0</td><td>30</td><td>0</td><td>1</td><td>11</td><td>2</td><td>3</td><td>1</td></tr>\n",
       "\t<tr><td>253653</td><td>0</td><td>0</td><td>1</td><td>33</td><td>1</td><td>0</td><td>0</td><td>0</td><td>1</td><td>...</td><td>0</td><td>4</td><td> 0</td><td>15</td><td>0</td><td>1</td><td>10</td><td>6</td><td>3</td><td>0</td></tr>\n",
       "\t<tr><td>253654</td><td>0</td><td>0</td><td>1</td><td>26</td><td>1</td><td>0</td><td>0</td><td>1</td><td>1</td><td>...</td><td>0</td><td>2</td><td> 1</td><td> 0</td><td>0</td><td>1</td><td> 3</td><td>3</td><td>1</td><td>0</td></tr>\n",
       "\t<tr><td>253655</td><td>0</td><td>0</td><td>1</td><td>28</td><td>0</td><td>0</td><td>0</td><td>1</td><td>1</td><td>...</td><td>0</td><td>2</td><td> 0</td><td> 0</td><td>0</td><td>0</td><td> 2</td><td>6</td><td>4</td><td>0</td></tr>\n",
       "\t<tr><td>253656</td><td>0</td><td>0</td><td>1</td><td>25</td><td>0</td><td>0</td><td>0</td><td>1</td><td>1</td><td>...</td><td>0</td><td>1</td><td> 0</td><td> 0</td><td>0</td><td>0</td><td> 4</td><td>6</td><td>8</td><td>0</td></tr>\n",
       "\t<tr><td>253657</td><td>0</td><td>1</td><td>1</td><td>24</td><td>0</td><td>0</td><td>0</td><td>0</td><td>0</td><td>...</td><td>0</td><td>3</td><td> 0</td><td> 0</td><td>0</td><td>0</td><td> 7</td><td>5</td><td>3</td><td>0</td></tr>\n",
       "\t<tr><td>253658</td><td>0</td><td>0</td><td>0</td><td>27</td><td>0</td><td>0</td><td>0</td><td>1</td><td>0</td><td>...</td><td>1</td><td>2</td><td> 0</td><td> 0</td><td>0</td><td>0</td><td> 3</td><td>6</td><td>5</td><td>0</td></tr>\n",
       "\t<tr><td>253659</td><td>0</td><td>1</td><td>1</td><td>37</td><td>0</td><td>0</td><td>0</td><td>0</td><td>0</td><td>...</td><td>0</td><td>4</td><td> 0</td><td> 0</td><td>0</td><td>0</td><td> 6</td><td>4</td><td>1</td><td>1</td></tr>\n",
       "\t<tr><td>253660</td><td>0</td><td>1</td><td>1</td><td>34</td><td>1</td><td>0</td><td>0</td><td>0</td><td>1</td><td>...</td><td>0</td><td>3</td><td> 0</td><td> 2</td><td>1</td><td>0</td><td> 7</td><td>4</td><td>3</td><td>0</td></tr>\n",
       "\t<tr><td>253661</td><td>1</td><td>0</td><td>1</td><td>33</td><td>0</td><td>0</td><td>0</td><td>1</td><td>0</td><td>...</td><td>1</td><td>3</td><td> 0</td><td> 2</td><td>1</td><td>0</td><td> 6</td><td>6</td><td>6</td><td>0</td></tr>\n",
       "\t<tr><td>253662</td><td>0</td><td>0</td><td>1</td><td>16</td><td>0</td><td>0</td><td>0</td><td>1</td><td>0</td><td>...</td><td>0</td><td>1</td><td> 0</td><td> 0</td><td>0</td><td>0</td><td> 5</td><td>6</td><td>2</td><td>0</td></tr>\n",
       "\t<tr><td>253663</td><td>0</td><td>0</td><td>1</td><td>23</td><td>0</td><td>0</td><td>0</td><td>0</td><td>1</td><td>...</td><td>1</td><td>2</td><td> 0</td><td>30</td><td>0</td><td>0</td><td> 5</td><td>6</td><td>2</td><td>0</td></tr>\n",
       "\t<tr><td>253664</td><td>0</td><td>1</td><td>1</td><td>29</td><td>1</td><td>0</td><td>0</td><td>0</td><td>0</td><td>...</td><td>0</td><td>3</td><td> 0</td><td> 0</td><td>0</td><td>0</td><td> 6</td><td>6</td><td>4</td><td>0</td></tr>\n",
       "\t<tr><td>253665</td><td>0</td><td>1</td><td>1</td><td>17</td><td>0</td><td>0</td><td>0</td><td>0</td><td>0</td><td>...</td><td>1</td><td>4</td><td>30</td><td>30</td><td>0</td><td>0</td><td> 5</td><td>4</td><td>1</td><td>0</td></tr>\n",
       "\t<tr><td>253666</td><td>1</td><td>0</td><td>1</td><td>23</td><td>0</td><td>0</td><td>0</td><td>0</td><td>1</td><td>...</td><td>0</td><td>3</td><td> 0</td><td>15</td><td>0</td><td>0</td><td> 6</td><td>5</td><td>2</td><td>0</td></tr>\n",
       "\t<tr><td>253667</td><td>1</td><td>1</td><td>1</td><td>28</td><td>1</td><td>0</td><td>0</td><td>0</td><td>0</td><td>...</td><td>0</td><td>3</td><td> 0</td><td> 0</td><td>0</td><td>0</td><td>11</td><td>4</td><td>7</td><td>0</td></tr>\n",
       "\t<tr><td>253668</td><td>0</td><td>1</td><td>1</td><td>29</td><td>1</td><td>0</td><td>1</td><td>0</td><td>1</td><td>...</td><td>0</td><td>2</td><td> 0</td><td> 0</td><td>1</td><td>1</td><td>10</td><td>3</td><td>6</td><td>1</td></tr>\n",
       "\t<tr><td>253669</td><td>0</td><td>1</td><td>1</td><td>27</td><td>0</td><td>0</td><td>0</td><td>0</td><td>0</td><td>...</td><td>1</td><td>1</td><td> 0</td><td> 3</td><td>0</td><td>1</td><td> 6</td><td>2</td><td>4</td><td>0</td></tr>\n",
       "\t<tr><td>253670</td><td>1</td><td>1</td><td>1</td><td>25</td><td>0</td><td>0</td><td>1</td><td>0</td><td>1</td><td>...</td><td>0</td><td>5</td><td>15</td><td> 0</td><td>1</td><td>0</td><td>13</td><td>6</td><td>4</td><td>1</td></tr>\n",
       "\t<tr><td>253671</td><td>1</td><td>1</td><td>1</td><td>23</td><td>0</td><td>1</td><td>1</td><td>0</td><td>0</td><td>...</td><td>1</td><td>4</td><td> 0</td><td> 5</td><td>0</td><td>1</td><td> 8</td><td>3</td><td>2</td><td>0</td></tr>\n",
       "\t<tr><td>253672</td><td>1</td><td>0</td><td>1</td><td>30</td><td>1</td><td>0</td><td>1</td><td>1</td><td>1</td><td>...</td><td>0</td><td>3</td><td> 0</td><td> 0</td><td>0</td><td>1</td><td>12</td><td>2</td><td>1</td><td>0</td></tr>\n",
       "\t<tr><td>253673</td><td>1</td><td>0</td><td>1</td><td>42</td><td>0</td><td>0</td><td>0</td><td>1</td><td>1</td><td>...</td><td>0</td><td>3</td><td>14</td><td> 4</td><td>0</td><td>1</td><td> 3</td><td>6</td><td>8</td><td>0</td></tr>\n",
       "\t<tr><td>253674</td><td>0</td><td>0</td><td>1</td><td>27</td><td>0</td><td>0</td><td>0</td><td>0</td><td>0</td><td>...</td><td>0</td><td>1</td><td> 0</td><td> 0</td><td>0</td><td>0</td><td> 3</td><td>6</td><td>5</td><td>0</td></tr>\n",
       "\t<tr><td>253675</td><td>1</td><td>1</td><td>1</td><td>45</td><td>0</td><td>0</td><td>0</td><td>0</td><td>1</td><td>...</td><td>0</td><td>3</td><td> 0</td><td> 5</td><td>0</td><td>1</td><td> 5</td><td>6</td><td>7</td><td>0</td></tr>\n",
       "\t<tr><td>253676</td><td>1</td><td>1</td><td>1</td><td>18</td><td>0</td><td>0</td><td>0</td><td>0</td><td>0</td><td>...</td><td>0</td><td>4</td><td> 0</td><td> 0</td><td>1</td><td>0</td><td>11</td><td>2</td><td>4</td><td>1</td></tr>\n",
       "\t<tr><td>253677</td><td>0</td><td>0</td><td>1</td><td>28</td><td>0</td><td>0</td><td>0</td><td>1</td><td>1</td><td>...</td><td>0</td><td>1</td><td> 0</td><td> 0</td><td>0</td><td>0</td><td> 2</td><td>5</td><td>2</td><td>0</td></tr>\n",
       "\t<tr><td>253678</td><td>1</td><td>0</td><td>1</td><td>23</td><td>0</td><td>0</td><td>0</td><td>0</td><td>1</td><td>...</td><td>0</td><td>3</td><td> 0</td><td> 0</td><td>0</td><td>1</td><td> 7</td><td>5</td><td>1</td><td>0</td></tr>\n",
       "\t<tr><td>253679</td><td>1</td><td>1</td><td>1</td><td>25</td><td>0</td><td>0</td><td>1</td><td>1</td><td>1</td><td>...</td><td>0</td><td>2</td><td> 0</td><td> 0</td><td>0</td><td>0</td><td> 9</td><td>6</td><td>2</td><td>1</td></tr>\n",
       "</tbody>\n",
       "</table>\n"
      ],
      "text/latex": [
       "A data.frame: 253680 × 23\n",
       "\\begin{tabular}{lllllllllllllllllllll}\n",
       " X & HighBP & HighChol & CholCheck & BMI & Smoker & Stroke & HeartDiseaseorAttack & PhysActivity & Fruits & ... & NoDocbcCost & GenHlth & MentHlth & PhysHlth & DiffWalk & Sex & Age & Education & Income & Diabetes\\_binary\\\\\n",
       " <int> & <int> & <int> & <int> & <int> & <int> & <int> & <int> & <int> & <int> & ... & <int> & <int> & <int> & <int> & <int> & <int> & <int> & <int> & <int> & <int>\\\\\n",
       "\\hline\n",
       "\t  0 & 1 & 1 & 1 & 40 & 1 & 0 & 0 & 0 & 0 & ... & 0 & 5 & 18 & 15 & 1 & 0 &  9 & 4 & 3 & 0\\\\\n",
       "\t  1 & 0 & 0 & 0 & 25 & 1 & 0 & 0 & 1 & 0 & ... & 1 & 3 &  0 &  0 & 0 & 0 &  7 & 6 & 1 & 0\\\\\n",
       "\t  2 & 1 & 1 & 1 & 28 & 0 & 0 & 0 & 0 & 1 & ... & 1 & 5 & 30 & 30 & 1 & 0 &  9 & 4 & 8 & 0\\\\\n",
       "\t  3 & 1 & 0 & 1 & 27 & 0 & 0 & 0 & 1 & 1 & ... & 0 & 2 &  0 &  0 & 0 & 0 & 11 & 3 & 6 & 0\\\\\n",
       "\t  4 & 1 & 1 & 1 & 24 & 0 & 0 & 0 & 1 & 1 & ... & 0 & 2 &  3 &  0 & 0 & 0 & 11 & 5 & 4 & 0\\\\\n",
       "\t  5 & 1 & 1 & 1 & 25 & 1 & 0 & 0 & 1 & 1 & ... & 0 & 2 &  0 &  2 & 0 & 1 & 10 & 6 & 8 & 0\\\\\n",
       "\t  6 & 1 & 0 & 1 & 30 & 1 & 0 & 0 & 0 & 0 & ... & 0 & 3 &  0 & 14 & 0 & 0 &  9 & 6 & 7 & 0\\\\\n",
       "\t  7 & 1 & 1 & 1 & 25 & 1 & 0 & 0 & 1 & 0 & ... & 0 & 3 &  0 &  0 & 1 & 0 & 11 & 4 & 4 & 0\\\\\n",
       "\t  8 & 1 & 1 & 1 & 30 & 1 & 0 & 1 & 0 & 1 & ... & 0 & 5 & 30 & 30 & 1 & 0 &  9 & 5 & 1 & 1\\\\\n",
       "\t  9 & 0 & 0 & 1 & 24 & 0 & 0 & 0 & 0 & 0 & ... & 0 & 2 &  0 &  0 & 0 & 1 &  8 & 4 & 3 & 0\\\\\n",
       "\t 10 & 0 & 0 & 1 & 25 & 1 & 0 & 0 & 1 & 1 & ... & 0 & 3 &  0 &  0 & 0 & 1 & 13 & 6 & 8 & 1\\\\\n",
       "\t 11 & 1 & 1 & 1 & 34 & 1 & 0 & 0 & 0 & 1 & ... & 0 & 3 &  0 & 30 & 1 & 0 & 10 & 5 & 1 & 0\\\\\n",
       "\t 12 & 0 & 0 & 1 & 26 & 1 & 0 & 0 & 0 & 0 & ... & 0 & 3 &  0 & 15 & 0 & 0 &  7 & 5 & 7 & 0\\\\\n",
       "\t 13 & 1 & 1 & 1 & 28 & 0 & 0 & 0 & 0 & 0 & ... & 0 & 4 &  0 &  0 & 1 & 0 & 11 & 4 & 6 & 1\\\\\n",
       "\t 14 & 0 & 1 & 1 & 33 & 1 & 1 & 0 & 1 & 0 & ... & 1 & 4 & 30 & 28 & 0 & 0 &  4 & 6 & 2 & 0\\\\\n",
       "\t 15 & 1 & 0 & 1 & 33 & 0 & 0 & 0 & 1 & 0 & ... & 0 & 2 &  5 &  0 & 0 & 0 &  6 & 6 & 8 & 0\\\\\n",
       "\t 16 & 1 & 1 & 1 & 21 & 0 & 0 & 0 & 1 & 1 & ... & 0 & 3 &  0 &  0 & 0 & 0 & 10 & 4 & 3 & 0\\\\\n",
       "\t 17 & 0 & 0 & 1 & 23 & 1 & 0 & 0 & 1 & 0 & ... & 0 & 2 &  0 &  0 & 0 & 1 &  7 & 5 & 6 & 1\\\\\n",
       "\t 18 & 0 & 0 & 0 & 23 & 0 & 0 & 0 & 0 & 0 & ... & 0 & 2 & 15 &  0 & 0 & 0 &  2 & 6 & 7 & 0\\\\\n",
       "\t 19 & 0 & 1 & 1 & 28 & 0 & 0 & 0 & 0 & 0 & ... & 0 & 2 & 10 &  0 & 0 & 1 &  4 & 6 & 8 & 0\\\\\n",
       "\t 20 & 1 & 1 & 1 & 22 & 0 & 1 & 1 & 0 & 1 & ... & 0 & 3 & 30 &  0 & 1 & 0 & 12 & 4 & 4 & 0\\\\\n",
       "\t 21 & 1 & 1 & 1 & 38 & 1 & 0 & 0 & 0 & 1 & ... & 0 & 5 & 15 & 30 & 1 & 0 & 13 & 2 & 3 & 0\\\\\n",
       "\t 22 & 0 & 0 & 1 & 28 & 1 & 0 & 0 & 0 & 0 & ... & 0 & 3 &  0 &  7 & 0 & 1 &  5 & 5 & 5 & 0\\\\\n",
       "\t 23 & 1 & 0 & 1 & 27 & 0 & 0 & 0 & 1 & 1 & ... & 0 & 1 &  0 &  0 & 0 & 0 & 13 & 5 & 4 & 1\\\\\n",
       "\t 24 & 1 & 1 & 1 & 28 & 1 & 0 & 0 & 0 & 1 & ... & 0 & 3 &  6 &  0 & 1 & 0 &  9 & 4 & 6 & 0\\\\\n",
       "\t 25 & 0 & 0 & 1 & 32 & 0 & 0 & 0 & 1 & 1 & ... & 0 & 2 &  0 &  0 & 0 & 0 &  5 & 6 & 8 & 0\\\\\n",
       "\t 26 & 1 & 1 & 1 & 37 & 1 & 1 & 1 & 0 & 0 & ... & 0 & 5 &  0 &  0 & 1 & 1 & 10 & 6 & 5 & 1\\\\\n",
       "\t 27 & 1 & 1 & 1 & 28 & 1 & 0 & 1 & 0 & 0 & ... & 0 & 4 &  0 &  0 & 0 & 1 & 12 & 2 & 4 & 1\\\\\n",
       "\t 28 & 1 & 1 & 1 & 27 & 1 & 0 & 0 & 0 & 1 & ... & 0 & 4 & 20 & 20 & 1 & 0 &  8 & 4 & 7 & 1\\\\\n",
       "\t 29 & 0 & 1 & 1 & 31 & 1 & 0 & 0 & 1 & 1 & ... & 0 & 1 &  0 &  0 & 0 & 1 & 12 & 6 & 8 & 0\\\\\n",
       "\t ... & ... & ... & ... & ... & ... & ... & ... & ... & ... &  & ... & ... & ... & ... & ... & ... & ... & ... & ... & ...\\\\\n",
       "\t 253650 & 1 & 0 & 1 & 27 & 0 & 0 & 0 & 1 & 0 & ... & 0 & 4 &  0 &  0 & 0 & 0 &  5 & 4 & 2 & 0\\\\\n",
       "\t 253651 & 0 & 0 & 1 & 24 & 0 & 0 & 0 & 1 & 1 & ... & 1 & 1 &  0 &  0 & 0 & 1 &  2 & 6 & 3 & 0\\\\\n",
       "\t 253652 & 0 & 1 & 1 & 27 & 0 & 0 & 0 & 1 & 1 & ... & 0 & 4 &  0 & 30 & 0 & 1 & 11 & 2 & 3 & 1\\\\\n",
       "\t 253653 & 0 & 0 & 1 & 33 & 1 & 0 & 0 & 0 & 1 & ... & 0 & 4 &  0 & 15 & 0 & 1 & 10 & 6 & 3 & 0\\\\\n",
       "\t 253654 & 0 & 0 & 1 & 26 & 1 & 0 & 0 & 1 & 1 & ... & 0 & 2 &  1 &  0 & 0 & 1 &  3 & 3 & 1 & 0\\\\\n",
       "\t 253655 & 0 & 0 & 1 & 28 & 0 & 0 & 0 & 1 & 1 & ... & 0 & 2 &  0 &  0 & 0 & 0 &  2 & 6 & 4 & 0\\\\\n",
       "\t 253656 & 0 & 0 & 1 & 25 & 0 & 0 & 0 & 1 & 1 & ... & 0 & 1 &  0 &  0 & 0 & 0 &  4 & 6 & 8 & 0\\\\\n",
       "\t 253657 & 0 & 1 & 1 & 24 & 0 & 0 & 0 & 0 & 0 & ... & 0 & 3 &  0 &  0 & 0 & 0 &  7 & 5 & 3 & 0\\\\\n",
       "\t 253658 & 0 & 0 & 0 & 27 & 0 & 0 & 0 & 1 & 0 & ... & 1 & 2 &  0 &  0 & 0 & 0 &  3 & 6 & 5 & 0\\\\\n",
       "\t 253659 & 0 & 1 & 1 & 37 & 0 & 0 & 0 & 0 & 0 & ... & 0 & 4 &  0 &  0 & 0 & 0 &  6 & 4 & 1 & 1\\\\\n",
       "\t 253660 & 0 & 1 & 1 & 34 & 1 & 0 & 0 & 0 & 1 & ... & 0 & 3 &  0 &  2 & 1 & 0 &  7 & 4 & 3 & 0\\\\\n",
       "\t 253661 & 1 & 0 & 1 & 33 & 0 & 0 & 0 & 1 & 0 & ... & 1 & 3 &  0 &  2 & 1 & 0 &  6 & 6 & 6 & 0\\\\\n",
       "\t 253662 & 0 & 0 & 1 & 16 & 0 & 0 & 0 & 1 & 0 & ... & 0 & 1 &  0 &  0 & 0 & 0 &  5 & 6 & 2 & 0\\\\\n",
       "\t 253663 & 0 & 0 & 1 & 23 & 0 & 0 & 0 & 0 & 1 & ... & 1 & 2 &  0 & 30 & 0 & 0 &  5 & 6 & 2 & 0\\\\\n",
       "\t 253664 & 0 & 1 & 1 & 29 & 1 & 0 & 0 & 0 & 0 & ... & 0 & 3 &  0 &  0 & 0 & 0 &  6 & 6 & 4 & 0\\\\\n",
       "\t 253665 & 0 & 1 & 1 & 17 & 0 & 0 & 0 & 0 & 0 & ... & 1 & 4 & 30 & 30 & 0 & 0 &  5 & 4 & 1 & 0\\\\\n",
       "\t 253666 & 1 & 0 & 1 & 23 & 0 & 0 & 0 & 0 & 1 & ... & 0 & 3 &  0 & 15 & 0 & 0 &  6 & 5 & 2 & 0\\\\\n",
       "\t 253667 & 1 & 1 & 1 & 28 & 1 & 0 & 0 & 0 & 0 & ... & 0 & 3 &  0 &  0 & 0 & 0 & 11 & 4 & 7 & 0\\\\\n",
       "\t 253668 & 0 & 1 & 1 & 29 & 1 & 0 & 1 & 0 & 1 & ... & 0 & 2 &  0 &  0 & 1 & 1 & 10 & 3 & 6 & 1\\\\\n",
       "\t 253669 & 0 & 1 & 1 & 27 & 0 & 0 & 0 & 0 & 0 & ... & 1 & 1 &  0 &  3 & 0 & 1 &  6 & 2 & 4 & 0\\\\\n",
       "\t 253670 & 1 & 1 & 1 & 25 & 0 & 0 & 1 & 0 & 1 & ... & 0 & 5 & 15 &  0 & 1 & 0 & 13 & 6 & 4 & 1\\\\\n",
       "\t 253671 & 1 & 1 & 1 & 23 & 0 & 1 & 1 & 0 & 0 & ... & 1 & 4 &  0 &  5 & 0 & 1 &  8 & 3 & 2 & 0\\\\\n",
       "\t 253672 & 1 & 0 & 1 & 30 & 1 & 0 & 1 & 1 & 1 & ... & 0 & 3 &  0 &  0 & 0 & 1 & 12 & 2 & 1 & 0\\\\\n",
       "\t 253673 & 1 & 0 & 1 & 42 & 0 & 0 & 0 & 1 & 1 & ... & 0 & 3 & 14 &  4 & 0 & 1 &  3 & 6 & 8 & 0\\\\\n",
       "\t 253674 & 0 & 0 & 1 & 27 & 0 & 0 & 0 & 0 & 0 & ... & 0 & 1 &  0 &  0 & 0 & 0 &  3 & 6 & 5 & 0\\\\\n",
       "\t 253675 & 1 & 1 & 1 & 45 & 0 & 0 & 0 & 0 & 1 & ... & 0 & 3 &  0 &  5 & 0 & 1 &  5 & 6 & 7 & 0\\\\\n",
       "\t 253676 & 1 & 1 & 1 & 18 & 0 & 0 & 0 & 0 & 0 & ... & 0 & 4 &  0 &  0 & 1 & 0 & 11 & 2 & 4 & 1\\\\\n",
       "\t 253677 & 0 & 0 & 1 & 28 & 0 & 0 & 0 & 1 & 1 & ... & 0 & 1 &  0 &  0 & 0 & 0 &  2 & 5 & 2 & 0\\\\\n",
       "\t 253678 & 1 & 0 & 1 & 23 & 0 & 0 & 0 & 0 & 1 & ... & 0 & 3 &  0 &  0 & 0 & 1 &  7 & 5 & 1 & 0\\\\\n",
       "\t 253679 & 1 & 1 & 1 & 25 & 0 & 0 & 1 & 1 & 1 & ... & 0 & 2 &  0 &  0 & 0 & 0 &  9 & 6 & 2 & 1\\\\\n",
       "\\end{tabular}\n"
      ],
      "text/markdown": [
       "\n",
       "A data.frame: 253680 × 23\n",
       "\n",
       "| X &lt;int&gt; | HighBP &lt;int&gt; | HighChol &lt;int&gt; | CholCheck &lt;int&gt; | BMI &lt;int&gt; | Smoker &lt;int&gt; | Stroke &lt;int&gt; | HeartDiseaseorAttack &lt;int&gt; | PhysActivity &lt;int&gt; | Fruits &lt;int&gt; | ... ... | NoDocbcCost &lt;int&gt; | GenHlth &lt;int&gt; | MentHlth &lt;int&gt; | PhysHlth &lt;int&gt; | DiffWalk &lt;int&gt; | Sex &lt;int&gt; | Age &lt;int&gt; | Education &lt;int&gt; | Income &lt;int&gt; | Diabetes_binary &lt;int&gt; |\n",
       "|---|---|---|---|---|---|---|---|---|---|---|---|---|---|---|---|---|---|---|---|---|\n",
       "|  0 | 1 | 1 | 1 | 40 | 1 | 0 | 0 | 0 | 0 | ... | 0 | 5 | 18 | 15 | 1 | 0 |  9 | 4 | 3 | 0 |\n",
       "|  1 | 0 | 0 | 0 | 25 | 1 | 0 | 0 | 1 | 0 | ... | 1 | 3 |  0 |  0 | 0 | 0 |  7 | 6 | 1 | 0 |\n",
       "|  2 | 1 | 1 | 1 | 28 | 0 | 0 | 0 | 0 | 1 | ... | 1 | 5 | 30 | 30 | 1 | 0 |  9 | 4 | 8 | 0 |\n",
       "|  3 | 1 | 0 | 1 | 27 | 0 | 0 | 0 | 1 | 1 | ... | 0 | 2 |  0 |  0 | 0 | 0 | 11 | 3 | 6 | 0 |\n",
       "|  4 | 1 | 1 | 1 | 24 | 0 | 0 | 0 | 1 | 1 | ... | 0 | 2 |  3 |  0 | 0 | 0 | 11 | 5 | 4 | 0 |\n",
       "|  5 | 1 | 1 | 1 | 25 | 1 | 0 | 0 | 1 | 1 | ... | 0 | 2 |  0 |  2 | 0 | 1 | 10 | 6 | 8 | 0 |\n",
       "|  6 | 1 | 0 | 1 | 30 | 1 | 0 | 0 | 0 | 0 | ... | 0 | 3 |  0 | 14 | 0 | 0 |  9 | 6 | 7 | 0 |\n",
       "|  7 | 1 | 1 | 1 | 25 | 1 | 0 | 0 | 1 | 0 | ... | 0 | 3 |  0 |  0 | 1 | 0 | 11 | 4 | 4 | 0 |\n",
       "|  8 | 1 | 1 | 1 | 30 | 1 | 0 | 1 | 0 | 1 | ... | 0 | 5 | 30 | 30 | 1 | 0 |  9 | 5 | 1 | 1 |\n",
       "|  9 | 0 | 0 | 1 | 24 | 0 | 0 | 0 | 0 | 0 | ... | 0 | 2 |  0 |  0 | 0 | 1 |  8 | 4 | 3 | 0 |\n",
       "| 10 | 0 | 0 | 1 | 25 | 1 | 0 | 0 | 1 | 1 | ... | 0 | 3 |  0 |  0 | 0 | 1 | 13 | 6 | 8 | 1 |\n",
       "| 11 | 1 | 1 | 1 | 34 | 1 | 0 | 0 | 0 | 1 | ... | 0 | 3 |  0 | 30 | 1 | 0 | 10 | 5 | 1 | 0 |\n",
       "| 12 | 0 | 0 | 1 | 26 | 1 | 0 | 0 | 0 | 0 | ... | 0 | 3 |  0 | 15 | 0 | 0 |  7 | 5 | 7 | 0 |\n",
       "| 13 | 1 | 1 | 1 | 28 | 0 | 0 | 0 | 0 | 0 | ... | 0 | 4 |  0 |  0 | 1 | 0 | 11 | 4 | 6 | 1 |\n",
       "| 14 | 0 | 1 | 1 | 33 | 1 | 1 | 0 | 1 | 0 | ... | 1 | 4 | 30 | 28 | 0 | 0 |  4 | 6 | 2 | 0 |\n",
       "| 15 | 1 | 0 | 1 | 33 | 0 | 0 | 0 | 1 | 0 | ... | 0 | 2 |  5 |  0 | 0 | 0 |  6 | 6 | 8 | 0 |\n",
       "| 16 | 1 | 1 | 1 | 21 | 0 | 0 | 0 | 1 | 1 | ... | 0 | 3 |  0 |  0 | 0 | 0 | 10 | 4 | 3 | 0 |\n",
       "| 17 | 0 | 0 | 1 | 23 | 1 | 0 | 0 | 1 | 0 | ... | 0 | 2 |  0 |  0 | 0 | 1 |  7 | 5 | 6 | 1 |\n",
       "| 18 | 0 | 0 | 0 | 23 | 0 | 0 | 0 | 0 | 0 | ... | 0 | 2 | 15 |  0 | 0 | 0 |  2 | 6 | 7 | 0 |\n",
       "| 19 | 0 | 1 | 1 | 28 | 0 | 0 | 0 | 0 | 0 | ... | 0 | 2 | 10 |  0 | 0 | 1 |  4 | 6 | 8 | 0 |\n",
       "| 20 | 1 | 1 | 1 | 22 | 0 | 1 | 1 | 0 | 1 | ... | 0 | 3 | 30 |  0 | 1 | 0 | 12 | 4 | 4 | 0 |\n",
       "| 21 | 1 | 1 | 1 | 38 | 1 | 0 | 0 | 0 | 1 | ... | 0 | 5 | 15 | 30 | 1 | 0 | 13 | 2 | 3 | 0 |\n",
       "| 22 | 0 | 0 | 1 | 28 | 1 | 0 | 0 | 0 | 0 | ... | 0 | 3 |  0 |  7 | 0 | 1 |  5 | 5 | 5 | 0 |\n",
       "| 23 | 1 | 0 | 1 | 27 | 0 | 0 | 0 | 1 | 1 | ... | 0 | 1 |  0 |  0 | 0 | 0 | 13 | 5 | 4 | 1 |\n",
       "| 24 | 1 | 1 | 1 | 28 | 1 | 0 | 0 | 0 | 1 | ... | 0 | 3 |  6 |  0 | 1 | 0 |  9 | 4 | 6 | 0 |\n",
       "| 25 | 0 | 0 | 1 | 32 | 0 | 0 | 0 | 1 | 1 | ... | 0 | 2 |  0 |  0 | 0 | 0 |  5 | 6 | 8 | 0 |\n",
       "| 26 | 1 | 1 | 1 | 37 | 1 | 1 | 1 | 0 | 0 | ... | 0 | 5 |  0 |  0 | 1 | 1 | 10 | 6 | 5 | 1 |\n",
       "| 27 | 1 | 1 | 1 | 28 | 1 | 0 | 1 | 0 | 0 | ... | 0 | 4 |  0 |  0 | 0 | 1 | 12 | 2 | 4 | 1 |\n",
       "| 28 | 1 | 1 | 1 | 27 | 1 | 0 | 0 | 0 | 1 | ... | 0 | 4 | 20 | 20 | 1 | 0 |  8 | 4 | 7 | 1 |\n",
       "| 29 | 0 | 1 | 1 | 31 | 1 | 0 | 0 | 1 | 1 | ... | 0 | 1 |  0 |  0 | 0 | 1 | 12 | 6 | 8 | 0 |\n",
       "| ... | ... | ... | ... | ... | ... | ... | ... | ... | ... | <!----> | ... | ... | ... | ... | ... | ... | ... | ... | ... | ... |\n",
       "| 253650 | 1 | 0 | 1 | 27 | 0 | 0 | 0 | 1 | 0 | ... | 0 | 4 |  0 |  0 | 0 | 0 |  5 | 4 | 2 | 0 |\n",
       "| 253651 | 0 | 0 | 1 | 24 | 0 | 0 | 0 | 1 | 1 | ... | 1 | 1 |  0 |  0 | 0 | 1 |  2 | 6 | 3 | 0 |\n",
       "| 253652 | 0 | 1 | 1 | 27 | 0 | 0 | 0 | 1 | 1 | ... | 0 | 4 |  0 | 30 | 0 | 1 | 11 | 2 | 3 | 1 |\n",
       "| 253653 | 0 | 0 | 1 | 33 | 1 | 0 | 0 | 0 | 1 | ... | 0 | 4 |  0 | 15 | 0 | 1 | 10 | 6 | 3 | 0 |\n",
       "| 253654 | 0 | 0 | 1 | 26 | 1 | 0 | 0 | 1 | 1 | ... | 0 | 2 |  1 |  0 | 0 | 1 |  3 | 3 | 1 | 0 |\n",
       "| 253655 | 0 | 0 | 1 | 28 | 0 | 0 | 0 | 1 | 1 | ... | 0 | 2 |  0 |  0 | 0 | 0 |  2 | 6 | 4 | 0 |\n",
       "| 253656 | 0 | 0 | 1 | 25 | 0 | 0 | 0 | 1 | 1 | ... | 0 | 1 |  0 |  0 | 0 | 0 |  4 | 6 | 8 | 0 |\n",
       "| 253657 | 0 | 1 | 1 | 24 | 0 | 0 | 0 | 0 | 0 | ... | 0 | 3 |  0 |  0 | 0 | 0 |  7 | 5 | 3 | 0 |\n",
       "| 253658 | 0 | 0 | 0 | 27 | 0 | 0 | 0 | 1 | 0 | ... | 1 | 2 |  0 |  0 | 0 | 0 |  3 | 6 | 5 | 0 |\n",
       "| 253659 | 0 | 1 | 1 | 37 | 0 | 0 | 0 | 0 | 0 | ... | 0 | 4 |  0 |  0 | 0 | 0 |  6 | 4 | 1 | 1 |\n",
       "| 253660 | 0 | 1 | 1 | 34 | 1 | 0 | 0 | 0 | 1 | ... | 0 | 3 |  0 |  2 | 1 | 0 |  7 | 4 | 3 | 0 |\n",
       "| 253661 | 1 | 0 | 1 | 33 | 0 | 0 | 0 | 1 | 0 | ... | 1 | 3 |  0 |  2 | 1 | 0 |  6 | 6 | 6 | 0 |\n",
       "| 253662 | 0 | 0 | 1 | 16 | 0 | 0 | 0 | 1 | 0 | ... | 0 | 1 |  0 |  0 | 0 | 0 |  5 | 6 | 2 | 0 |\n",
       "| 253663 | 0 | 0 | 1 | 23 | 0 | 0 | 0 | 0 | 1 | ... | 1 | 2 |  0 | 30 | 0 | 0 |  5 | 6 | 2 | 0 |\n",
       "| 253664 | 0 | 1 | 1 | 29 | 1 | 0 | 0 | 0 | 0 | ... | 0 | 3 |  0 |  0 | 0 | 0 |  6 | 6 | 4 | 0 |\n",
       "| 253665 | 0 | 1 | 1 | 17 | 0 | 0 | 0 | 0 | 0 | ... | 1 | 4 | 30 | 30 | 0 | 0 |  5 | 4 | 1 | 0 |\n",
       "| 253666 | 1 | 0 | 1 | 23 | 0 | 0 | 0 | 0 | 1 | ... | 0 | 3 |  0 | 15 | 0 | 0 |  6 | 5 | 2 | 0 |\n",
       "| 253667 | 1 | 1 | 1 | 28 | 1 | 0 | 0 | 0 | 0 | ... | 0 | 3 |  0 |  0 | 0 | 0 | 11 | 4 | 7 | 0 |\n",
       "| 253668 | 0 | 1 | 1 | 29 | 1 | 0 | 1 | 0 | 1 | ... | 0 | 2 |  0 |  0 | 1 | 1 | 10 | 3 | 6 | 1 |\n",
       "| 253669 | 0 | 1 | 1 | 27 | 0 | 0 | 0 | 0 | 0 | ... | 1 | 1 |  0 |  3 | 0 | 1 |  6 | 2 | 4 | 0 |\n",
       "| 253670 | 1 | 1 | 1 | 25 | 0 | 0 | 1 | 0 | 1 | ... | 0 | 5 | 15 |  0 | 1 | 0 | 13 | 6 | 4 | 1 |\n",
       "| 253671 | 1 | 1 | 1 | 23 | 0 | 1 | 1 | 0 | 0 | ... | 1 | 4 |  0 |  5 | 0 | 1 |  8 | 3 | 2 | 0 |\n",
       "| 253672 | 1 | 0 | 1 | 30 | 1 | 0 | 1 | 1 | 1 | ... | 0 | 3 |  0 |  0 | 0 | 1 | 12 | 2 | 1 | 0 |\n",
       "| 253673 | 1 | 0 | 1 | 42 | 0 | 0 | 0 | 1 | 1 | ... | 0 | 3 | 14 |  4 | 0 | 1 |  3 | 6 | 8 | 0 |\n",
       "| 253674 | 0 | 0 | 1 | 27 | 0 | 0 | 0 | 0 | 0 | ... | 0 | 1 |  0 |  0 | 0 | 0 |  3 | 6 | 5 | 0 |\n",
       "| 253675 | 1 | 1 | 1 | 45 | 0 | 0 | 0 | 0 | 1 | ... | 0 | 3 |  0 |  5 | 0 | 1 |  5 | 6 | 7 | 0 |\n",
       "| 253676 | 1 | 1 | 1 | 18 | 0 | 0 | 0 | 0 | 0 | ... | 0 | 4 |  0 |  0 | 1 | 0 | 11 | 2 | 4 | 1 |\n",
       "| 253677 | 0 | 0 | 1 | 28 | 0 | 0 | 0 | 1 | 1 | ... | 0 | 1 |  0 |  0 | 0 | 0 |  2 | 5 | 2 | 0 |\n",
       "| 253678 | 1 | 0 | 1 | 23 | 0 | 0 | 0 | 0 | 1 | ... | 0 | 3 |  0 |  0 | 0 | 1 |  7 | 5 | 1 | 0 |\n",
       "| 253679 | 1 | 1 | 1 | 25 | 0 | 0 | 1 | 1 | 1 | ... | 0 | 2 |  0 |  0 | 0 | 0 |  9 | 6 | 2 | 1 |\n",
       "\n"
      ],
      "text/plain": [
       "       X      HighBP HighChol CholCheck BMI Smoker Stroke HeartDiseaseorAttack\n",
       "1       0     1      1        1         40  1      0      0                   \n",
       "2       1     0      0        0         25  1      0      0                   \n",
       "3       2     1      1        1         28  0      0      0                   \n",
       "4       3     1      0        1         27  0      0      0                   \n",
       "5       4     1      1        1         24  0      0      0                   \n",
       "6       5     1      1        1         25  1      0      0                   \n",
       "7       6     1      0        1         30  1      0      0                   \n",
       "8       7     1      1        1         25  1      0      0                   \n",
       "9       8     1      1        1         30  1      0      1                   \n",
       "10      9     0      0        1         24  0      0      0                   \n",
       "11     10     0      0        1         25  1      0      0                   \n",
       "12     11     1      1        1         34  1      0      0                   \n",
       "13     12     0      0        1         26  1      0      0                   \n",
       "14     13     1      1        1         28  0      0      0                   \n",
       "15     14     0      1        1         33  1      1      0                   \n",
       "16     15     1      0        1         33  0      0      0                   \n",
       "17     16     1      1        1         21  0      0      0                   \n",
       "18     17     0      0        1         23  1      0      0                   \n",
       "19     18     0      0        0         23  0      0      0                   \n",
       "20     19     0      1        1         28  0      0      0                   \n",
       "21     20     1      1        1         22  0      1      1                   \n",
       "22     21     1      1        1         38  1      0      0                   \n",
       "23     22     0      0        1         28  1      0      0                   \n",
       "24     23     1      0        1         27  0      0      0                   \n",
       "25     24     1      1        1         28  1      0      0                   \n",
       "26     25     0      0        1         32  0      0      0                   \n",
       "27     26     1      1        1         37  1      1      1                   \n",
       "28     27     1      1        1         28  1      0      1                   \n",
       "29     28     1      1        1         27  1      0      0                   \n",
       "30     29     0      1        1         31  1      0      0                   \n",
       "...    ...    ...    ...      ...       ... ...    ...    ...                 \n",
       "253651 253650 1      0        1         27  0      0      0                   \n",
       "253652 253651 0      0        1         24  0      0      0                   \n",
       "253653 253652 0      1        1         27  0      0      0                   \n",
       "253654 253653 0      0        1         33  1      0      0                   \n",
       "253655 253654 0      0        1         26  1      0      0                   \n",
       "253656 253655 0      0        1         28  0      0      0                   \n",
       "253657 253656 0      0        1         25  0      0      0                   \n",
       "253658 253657 0      1        1         24  0      0      0                   \n",
       "253659 253658 0      0        0         27  0      0      0                   \n",
       "253660 253659 0      1        1         37  0      0      0                   \n",
       "253661 253660 0      1        1         34  1      0      0                   \n",
       "253662 253661 1      0        1         33  0      0      0                   \n",
       "253663 253662 0      0        1         16  0      0      0                   \n",
       "253664 253663 0      0        1         23  0      0      0                   \n",
       "253665 253664 0      1        1         29  1      0      0                   \n",
       "253666 253665 0      1        1         17  0      0      0                   \n",
       "253667 253666 1      0        1         23  0      0      0                   \n",
       "253668 253667 1      1        1         28  1      0      0                   \n",
       "253669 253668 0      1        1         29  1      0      1                   \n",
       "253670 253669 0      1        1         27  0      0      0                   \n",
       "253671 253670 1      1        1         25  0      0      1                   \n",
       "253672 253671 1      1        1         23  0      1      1                   \n",
       "253673 253672 1      0        1         30  1      0      1                   \n",
       "253674 253673 1      0        1         42  0      0      0                   \n",
       "253675 253674 0      0        1         27  0      0      0                   \n",
       "253676 253675 1      1        1         45  0      0      0                   \n",
       "253677 253676 1      1        1         18  0      0      0                   \n",
       "253678 253677 0      0        1         28  0      0      0                   \n",
       "253679 253678 1      0        1         23  0      0      0                   \n",
       "253680 253679 1      1        1         25  0      0      1                   \n",
       "       PhysActivity Fruits ... NoDocbcCost GenHlth MentHlth PhysHlth DiffWalk\n",
       "1      0            0      ... 0           5       18       15       1       \n",
       "2      1            0      ... 1           3        0        0       0       \n",
       "3      0            1      ... 1           5       30       30       1       \n",
       "4      1            1      ... 0           2        0        0       0       \n",
       "5      1            1      ... 0           2        3        0       0       \n",
       "6      1            1      ... 0           2        0        2       0       \n",
       "7      0            0      ... 0           3        0       14       0       \n",
       "8      1            0      ... 0           3        0        0       1       \n",
       "9      0            1      ... 0           5       30       30       1       \n",
       "10     0            0      ... 0           2        0        0       0       \n",
       "11     1            1      ... 0           3        0        0       0       \n",
       "12     0            1      ... 0           3        0       30       1       \n",
       "13     0            0      ... 0           3        0       15       0       \n",
       "14     0            0      ... 0           4        0        0       1       \n",
       "15     1            0      ... 1           4       30       28       0       \n",
       "16     1            0      ... 0           2        5        0       0       \n",
       "17     1            1      ... 0           3        0        0       0       \n",
       "18     1            0      ... 0           2        0        0       0       \n",
       "19     0            0      ... 0           2       15        0       0       \n",
       "20     0            0      ... 0           2       10        0       0       \n",
       "21     0            1      ... 0           3       30        0       1       \n",
       "22     0            1      ... 0           5       15       30       1       \n",
       "23     0            0      ... 0           3        0        7       0       \n",
       "24     1            1      ... 0           1        0        0       0       \n",
       "25     0            1      ... 0           3        6        0       1       \n",
       "26     1            1      ... 0           2        0        0       0       \n",
       "27     0            0      ... 0           5        0        0       1       \n",
       "28     0            0      ... 0           4        0        0       0       \n",
       "29     0            1      ... 0           4       20       20       1       \n",
       "30     1            1      ... 0           1        0        0       0       \n",
       "...    ...          ...        ...         ...     ...      ...      ...     \n",
       "253651 1            0      ... 0           4        0        0       0       \n",
       "253652 1            1      ... 1           1        0        0       0       \n",
       "253653 1            1      ... 0           4        0       30       0       \n",
       "253654 0            1      ... 0           4        0       15       0       \n",
       "253655 1            1      ... 0           2        1        0       0       \n",
       "253656 1            1      ... 0           2        0        0       0       \n",
       "253657 1            1      ... 0           1        0        0       0       \n",
       "253658 0            0      ... 0           3        0        0       0       \n",
       "253659 1            0      ... 1           2        0        0       0       \n",
       "253660 0            0      ... 0           4        0        0       0       \n",
       "253661 0            1      ... 0           3        0        2       1       \n",
       "253662 1            0      ... 1           3        0        2       1       \n",
       "253663 1            0      ... 0           1        0        0       0       \n",
       "253664 0            1      ... 1           2        0       30       0       \n",
       "253665 0            0      ... 0           3        0        0       0       \n",
       "253666 0            0      ... 1           4       30       30       0       \n",
       "253667 0            1      ... 0           3        0       15       0       \n",
       "253668 0            0      ... 0           3        0        0       0       \n",
       "253669 0            1      ... 0           2        0        0       1       \n",
       "253670 0            0      ... 1           1        0        3       0       \n",
       "253671 0            1      ... 0           5       15        0       1       \n",
       "253672 0            0      ... 1           4        0        5       0       \n",
       "253673 1            1      ... 0           3        0        0       0       \n",
       "253674 1            1      ... 0           3       14        4       0       \n",
       "253675 0            0      ... 0           1        0        0       0       \n",
       "253676 0            1      ... 0           3        0        5       0       \n",
       "253677 0            0      ... 0           4        0        0       1       \n",
       "253678 1            1      ... 0           1        0        0       0       \n",
       "253679 0            1      ... 0           3        0        0       0       \n",
       "253680 1            1      ... 0           2        0        0       0       \n",
       "       Sex Age Education Income Diabetes_binary\n",
       "1      0    9  4         3      0              \n",
       "2      0    7  6         1      0              \n",
       "3      0    9  4         8      0              \n",
       "4      0   11  3         6      0              \n",
       "5      0   11  5         4      0              \n",
       "6      1   10  6         8      0              \n",
       "7      0    9  6         7      0              \n",
       "8      0   11  4         4      0              \n",
       "9      0    9  5         1      1              \n",
       "10     1    8  4         3      0              \n",
       "11     1   13  6         8      1              \n",
       "12     0   10  5         1      0              \n",
       "13     0    7  5         7      0              \n",
       "14     0   11  4         6      1              \n",
       "15     0    4  6         2      0              \n",
       "16     0    6  6         8      0              \n",
       "17     0   10  4         3      0              \n",
       "18     1    7  5         6      1              \n",
       "19     0    2  6         7      0              \n",
       "20     1    4  6         8      0              \n",
       "21     0   12  4         4      0              \n",
       "22     0   13  2         3      0              \n",
       "23     1    5  5         5      0              \n",
       "24     0   13  5         4      1              \n",
       "25     0    9  4         6      0              \n",
       "26     0    5  6         8      0              \n",
       "27     1   10  6         5      1              \n",
       "28     1   12  2         4      1              \n",
       "29     0    8  4         7      1              \n",
       "30     1   12  6         8      0              \n",
       "...    ... ... ...       ...    ...            \n",
       "253651 0    5  4         2      0              \n",
       "253652 1    2  6         3      0              \n",
       "253653 1   11  2         3      1              \n",
       "253654 1   10  6         3      0              \n",
       "253655 1    3  3         1      0              \n",
       "253656 0    2  6         4      0              \n",
       "253657 0    4  6         8      0              \n",
       "253658 0    7  5         3      0              \n",
       "253659 0    3  6         5      0              \n",
       "253660 0    6  4         1      1              \n",
       "253661 0    7  4         3      0              \n",
       "253662 0    6  6         6      0              \n",
       "253663 0    5  6         2      0              \n",
       "253664 0    5  6         2      0              \n",
       "253665 0    6  6         4      0              \n",
       "253666 0    5  4         1      0              \n",
       "253667 0    6  5         2      0              \n",
       "253668 0   11  4         7      0              \n",
       "253669 1   10  3         6      1              \n",
       "253670 1    6  2         4      0              \n",
       "253671 0   13  6         4      1              \n",
       "253672 1    8  3         2      0              \n",
       "253673 1   12  2         1      0              \n",
       "253674 1    3  6         8      0              \n",
       "253675 0    3  6         5      0              \n",
       "253676 1    5  6         7      0              \n",
       "253677 0   11  2         4      1              \n",
       "253678 0    2  5         2      0              \n",
       "253679 1    7  5         1      0              \n",
       "253680 0    9  6         2      1              "
      ]
     },
     "metadata": {},
     "output_type": "display_data"
    }
   ],
   "source": [
    "df"
   ]
  },
  {
   "cell_type": "markdown",
   "id": "1f717dec-55b6-4609-9fcd-0714826fd00d",
   "metadata": {},
   "source": [
    "## 2. Data Preprocessing"
   ]
  },
  {
   "cell_type": "markdown",
   "id": "1d0da897-d2dd-42d3-8887-a11b43c0db6f",
   "metadata": {},
   "source": [
    "### 2.0. Standardize column names"
   ]
  },
  {
   "cell_type": "code",
   "execution_count": 7,
   "id": "44b0339c-d670-4306-a3f1-83281e99e025",
   "metadata": {},
   "outputs": [
    {
     "data": {
      "text/html": [
       "<style>\n",
       ".list-inline {list-style: none; margin:0; padding: 0}\n",
       ".list-inline>li {display: inline-block}\n",
       ".list-inline>li:not(:last-child)::after {content: \"\\00b7\"; padding: 0 .5ex}\n",
       "</style>\n",
       "<ol class=list-inline><li>'X'</li><li>'HighBP'</li><li>'HighChol'</li><li>'CholCheck'</li><li>'BMI'</li><li>'Smoker'</li><li>'Stroke'</li><li>'HeartDiseaseorAttack'</li><li>'PhysActivity'</li><li>'Fruits'</li><li>'Veggies'</li><li>'HvyAlcoholConsump'</li><li>'AnyHealthcare'</li><li>'NoDocbcCost'</li><li>'GenHlth'</li><li>'MentHlth'</li><li>'PhysHlth'</li><li>'DiffWalk'</li><li>'Sex'</li><li>'Age'</li><li>'Education'</li><li>'Income'</li><li>'Diabetes_binary'</li></ol>\n"
      ],
      "text/latex": [
       "\\begin{enumerate*}\n",
       "\\item 'X'\n",
       "\\item 'HighBP'\n",
       "\\item 'HighChol'\n",
       "\\item 'CholCheck'\n",
       "\\item 'BMI'\n",
       "\\item 'Smoker'\n",
       "\\item 'Stroke'\n",
       "\\item 'HeartDiseaseorAttack'\n",
       "\\item 'PhysActivity'\n",
       "\\item 'Fruits'\n",
       "\\item 'Veggies'\n",
       "\\item 'HvyAlcoholConsump'\n",
       "\\item 'AnyHealthcare'\n",
       "\\item 'NoDocbcCost'\n",
       "\\item 'GenHlth'\n",
       "\\item 'MentHlth'\n",
       "\\item 'PhysHlth'\n",
       "\\item 'DiffWalk'\n",
       "\\item 'Sex'\n",
       "\\item 'Age'\n",
       "\\item 'Education'\n",
       "\\item 'Income'\n",
       "\\item 'Diabetes\\_binary'\n",
       "\\end{enumerate*}\n"
      ],
      "text/markdown": [
       "1. 'X'\n",
       "2. 'HighBP'\n",
       "3. 'HighChol'\n",
       "4. 'CholCheck'\n",
       "5. 'BMI'\n",
       "6. 'Smoker'\n",
       "7. 'Stroke'\n",
       "8. 'HeartDiseaseorAttack'\n",
       "9. 'PhysActivity'\n",
       "10. 'Fruits'\n",
       "11. 'Veggies'\n",
       "12. 'HvyAlcoholConsump'\n",
       "13. 'AnyHealthcare'\n",
       "14. 'NoDocbcCost'\n",
       "15. 'GenHlth'\n",
       "16. 'MentHlth'\n",
       "17. 'PhysHlth'\n",
       "18. 'DiffWalk'\n",
       "19. 'Sex'\n",
       "20. 'Age'\n",
       "21. 'Education'\n",
       "22. 'Income'\n",
       "23. 'Diabetes_binary'\n",
       "\n",
       "\n"
      ],
      "text/plain": [
       " [1] \"X\"                    \"HighBP\"               \"HighChol\"            \n",
       " [4] \"CholCheck\"            \"BMI\"                  \"Smoker\"              \n",
       " [7] \"Stroke\"               \"HeartDiseaseorAttack\" \"PhysActivity\"        \n",
       "[10] \"Fruits\"               \"Veggies\"              \"HvyAlcoholConsump\"   \n",
       "[13] \"AnyHealthcare\"        \"NoDocbcCost\"          \"GenHlth\"             \n",
       "[16] \"MentHlth\"             \"PhysHlth\"             \"DiffWalk\"            \n",
       "[19] \"Sex\"                  \"Age\"                  \"Education\"           \n",
       "[22] \"Income\"               \"Diabetes_binary\"     "
      ]
     },
     "metadata": {},
     "output_type": "display_data"
    }
   ],
   "source": [
    "colnames(df)\n",
    "# Column \"X\" should be changed to be a more meaningful name."
   ]
  },
  {
   "cell_type": "code",
   "execution_count": 8,
   "id": "ffa9a82c-c15d-442f-9466-166f37c569bf",
   "metadata": {},
   "outputs": [],
   "source": [
    "colnames(df)[1] = \"Index\""
   ]
  },
  {
   "cell_type": "code",
   "execution_count": 9,
   "id": "a0a0ae03-fed9-4886-a872-63c59f62d563",
   "metadata": {},
   "outputs": [
    {
     "data": {
      "text/html": [
       "<style>\n",
       ".list-inline {list-style: none; margin:0; padding: 0}\n",
       ".list-inline>li {display: inline-block}\n",
       ".list-inline>li:not(:last-child)::after {content: \"\\00b7\"; padding: 0 .5ex}\n",
       "</style>\n",
       "<ol class=list-inline><li>'Index'</li><li>'HighBP'</li><li>'HighChol'</li><li>'CholCheck'</li><li>'BMI'</li><li>'Smoker'</li><li>'Stroke'</li><li>'HeartDiseaseorAttack'</li><li>'PhysActivity'</li><li>'Fruits'</li><li>'Veggies'</li><li>'HvyAlcoholConsump'</li><li>'AnyHealthcare'</li><li>'NoDocbcCost'</li><li>'GenHlth'</li><li>'MentHlth'</li><li>'PhysHlth'</li><li>'DiffWalk'</li><li>'Sex'</li><li>'Age'</li><li>'Education'</li><li>'Income'</li><li>'Diabetes_binary'</li></ol>\n"
      ],
      "text/latex": [
       "\\begin{enumerate*}\n",
       "\\item 'Index'\n",
       "\\item 'HighBP'\n",
       "\\item 'HighChol'\n",
       "\\item 'CholCheck'\n",
       "\\item 'BMI'\n",
       "\\item 'Smoker'\n",
       "\\item 'Stroke'\n",
       "\\item 'HeartDiseaseorAttack'\n",
       "\\item 'PhysActivity'\n",
       "\\item 'Fruits'\n",
       "\\item 'Veggies'\n",
       "\\item 'HvyAlcoholConsump'\n",
       "\\item 'AnyHealthcare'\n",
       "\\item 'NoDocbcCost'\n",
       "\\item 'GenHlth'\n",
       "\\item 'MentHlth'\n",
       "\\item 'PhysHlth'\n",
       "\\item 'DiffWalk'\n",
       "\\item 'Sex'\n",
       "\\item 'Age'\n",
       "\\item 'Education'\n",
       "\\item 'Income'\n",
       "\\item 'Diabetes\\_binary'\n",
       "\\end{enumerate*}\n"
      ],
      "text/markdown": [
       "1. 'Index'\n",
       "2. 'HighBP'\n",
       "3. 'HighChol'\n",
       "4. 'CholCheck'\n",
       "5. 'BMI'\n",
       "6. 'Smoker'\n",
       "7. 'Stroke'\n",
       "8. 'HeartDiseaseorAttack'\n",
       "9. 'PhysActivity'\n",
       "10. 'Fruits'\n",
       "11. 'Veggies'\n",
       "12. 'HvyAlcoholConsump'\n",
       "13. 'AnyHealthcare'\n",
       "14. 'NoDocbcCost'\n",
       "15. 'GenHlth'\n",
       "16. 'MentHlth'\n",
       "17. 'PhysHlth'\n",
       "18. 'DiffWalk'\n",
       "19. 'Sex'\n",
       "20. 'Age'\n",
       "21. 'Education'\n",
       "22. 'Income'\n",
       "23. 'Diabetes_binary'\n",
       "\n",
       "\n"
      ],
      "text/plain": [
       " [1] \"Index\"                \"HighBP\"               \"HighChol\"            \n",
       " [4] \"CholCheck\"            \"BMI\"                  \"Smoker\"              \n",
       " [7] \"Stroke\"               \"HeartDiseaseorAttack\" \"PhysActivity\"        \n",
       "[10] \"Fruits\"               \"Veggies\"              \"HvyAlcoholConsump\"   \n",
       "[13] \"AnyHealthcare\"        \"NoDocbcCost\"          \"GenHlth\"             \n",
       "[16] \"MentHlth\"             \"PhysHlth\"             \"DiffWalk\"            \n",
       "[19] \"Sex\"                  \"Age\"                  \"Education\"           \n",
       "[22] \"Income\"               \"Diabetes_binary\"     "
      ]
     },
     "metadata": {},
     "output_type": "display_data"
    }
   ],
   "source": [
    "colnames(df)"
   ]
  },
  {
   "cell_type": "markdown",
   "id": "31d83dd3-2ef4-4645-97c6-46f94c676328",
   "metadata": {},
   "source": [
    "### 2.1. Mismatched data types"
   ]
  },
  {
   "cell_type": "code",
   "execution_count": 10,
   "id": "ce034848-c902-4a97-9e52-539c6d8cbd95",
   "metadata": {},
   "outputs": [
    {
     "name": "stdout",
     "output_type": "stream",
     "text": [
      "'data.frame':\t253680 obs. of  23 variables:\n",
      " $ Index               : int  0 1 2 3 4 5 6 7 8 9 ...\n",
      " $ HighBP              : int  1 0 1 1 1 1 1 1 1 0 ...\n",
      " $ HighChol            : int  1 0 1 0 1 1 0 1 1 0 ...\n",
      " $ CholCheck           : int  1 0 1 1 1 1 1 1 1 1 ...\n",
      " $ BMI                 : int  40 25 28 27 24 25 30 25 30 24 ...\n",
      " $ Smoker              : int  1 1 0 0 0 1 1 1 1 0 ...\n",
      " $ Stroke              : int  0 0 0 0 0 0 0 0 0 0 ...\n",
      " $ HeartDiseaseorAttack: int  0 0 0 0 0 0 0 0 1 0 ...\n",
      " $ PhysActivity        : int  0 1 0 1 1 1 0 1 0 0 ...\n",
      " $ Fruits              : int  0 0 1 1 1 1 0 0 1 0 ...\n",
      " $ Veggies             : int  1 0 0 1 1 1 0 1 1 1 ...\n",
      " $ HvyAlcoholConsump   : int  0 0 0 0 0 0 0 0 0 0 ...\n",
      " $ AnyHealthcare       : int  1 0 1 1 1 1 1 1 1 1 ...\n",
      " $ NoDocbcCost         : int  0 1 1 0 0 0 0 0 0 0 ...\n",
      " $ GenHlth             : int  5 3 5 2 2 2 3 3 5 2 ...\n",
      " $ MentHlth            : int  18 0 30 0 3 0 0 0 30 0 ...\n",
      " $ PhysHlth            : int  15 0 30 0 0 2 14 0 30 0 ...\n",
      " $ DiffWalk            : int  1 0 1 0 0 0 0 1 1 0 ...\n",
      " $ Sex                 : int  0 0 0 0 0 1 0 0 0 1 ...\n",
      " $ Age                 : int  9 7 9 11 11 10 9 11 9 8 ...\n",
      " $ Education           : int  4 6 4 3 5 6 6 4 5 4 ...\n",
      " $ Income              : int  3 1 8 6 4 8 7 4 1 3 ...\n",
      " $ Diabetes_binary     : int  0 0 0 0 0 0 0 0 1 0 ...\n"
     ]
    }
   ],
   "source": [
    "str(df)"
   ]
  },
  {
   "cell_type": "code",
   "execution_count": 11,
   "id": "49419219-ef94-47fd-99a4-e3cad2bb91c1",
   "metadata": {},
   "outputs": [],
   "source": [
    "# All columns have correct data type"
   ]
  },
  {
   "cell_type": "markdown",
   "id": "5c4a58f5-5435-49dd-9f1d-529e47004059",
   "metadata": {},
   "source": [
    "### 2.2. Mixed data values"
   ]
  },
  {
   "cell_type": "code",
   "execution_count": 12,
   "id": "1e49781d-cfe9-4972-9f3a-69d1978539bb",
   "metadata": {},
   "outputs": [],
   "source": [
    "# Example: (female, woman, man, male) => (male, female)"
   ]
  },
  {
   "cell_type": "code",
   "execution_count": 13,
   "id": "6ff43df1-fe86-4e6b-a6cd-b2ea0344d7ff",
   "metadata": {},
   "outputs": [],
   "source": [
    "# This dataset contains only number data => No mixed data values"
   ]
  },
  {
   "cell_type": "markdown",
   "id": "40cf6966-595e-40a2-aced-1868378fbb48",
   "metadata": {},
   "source": [
    "### 2.3. Missing data"
   ]
  },
  {
   "cell_type": "markdown",
   "id": "81e1dffa-3c61-4fa8-8f32-d575086ac1f2",
   "metadata": {},
   "source": [
    "#### 2.3.1 Null data"
   ]
  },
  {
   "cell_type": "code",
   "execution_count": 14,
   "id": "757b9fa5-bf65-493e-9192-f2e544e315b2",
   "metadata": {},
   "outputs": [
    {
     "data": {
      "text/html": [
       "0"
      ],
      "text/latex": [
       "0"
      ],
      "text/markdown": [
       "0"
      ],
      "text/plain": [
       "[1] 0"
      ]
     },
     "metadata": {},
     "output_type": "display_data"
    }
   ],
   "source": [
    "sum(is.na(df))"
   ]
  },
  {
   "cell_type": "code",
   "execution_count": 15,
   "id": "8b7efaed-832e-40b7-a49f-7b9b073d165a",
   "metadata": {},
   "outputs": [],
   "source": [
    "# This dataset has no missing values"
   ]
  },
  {
   "cell_type": "markdown",
   "id": "e161e281-b62a-45b1-a544-85730a8ce63f",
   "metadata": {},
   "source": [
    "#### 2.3.2 Missing data in specific columns"
   ]
  },
  {
   "cell_type": "code",
   "execution_count": 16,
   "id": "2dbfe0ab-3d92-4276-8571-af5e3f0a339a",
   "metadata": {},
   "outputs": [],
   "source": [
    "# We see that in column \"Age\", the value could have value of 14 \n",
    "# which is Don’t know / Refused / Missing (_AGEG5YR - BRFSS)"
   ]
  },
  {
   "cell_type": "code",
   "execution_count": 17,
   "id": "ac20a3b6-e616-47e4-833f-8b84590e6bc5",
   "metadata": {},
   "outputs": [
    {
     "data": {
      "text/html": [
       "0"
      ],
      "text/latex": [
       "0"
      ],
      "text/markdown": [
       "0"
      ],
      "text/plain": [
       "[1] 0"
      ]
     },
     "metadata": {},
     "output_type": "display_data"
    }
   ],
   "source": [
    "nrow(subset(df, Age == 14))"
   ]
  },
  {
   "cell_type": "code",
   "execution_count": 18,
   "id": "ea283c98-7d9c-43b2-bbf2-a813a47172d5",
   "metadata": {},
   "outputs": [],
   "source": [
    "# Conclusion: The dataset has no missing data."
   ]
  },
  {
   "cell_type": "code",
   "execution_count": 19,
   "id": "271baddb-c0af-459e-a6a7-eb1b794a7bbb",
   "metadata": {},
   "outputs": [
    {
     "name": "stdout",
     "output_type": "stream",
     "text": [
      "'data.frame':\t253680 obs. of  23 variables:\n",
      " $ Index               : int  0 1 2 3 4 5 6 7 8 9 ...\n",
      " $ HighBP              : int  1 0 1 1 1 1 1 1 1 0 ...\n",
      " $ HighChol            : int  1 0 1 0 1 1 0 1 1 0 ...\n",
      " $ CholCheck           : int  1 0 1 1 1 1 1 1 1 1 ...\n",
      " $ BMI                 : int  40 25 28 27 24 25 30 25 30 24 ...\n",
      " $ Smoker              : int  1 1 0 0 0 1 1 1 1 0 ...\n",
      " $ Stroke              : int  0 0 0 0 0 0 0 0 0 0 ...\n",
      " $ HeartDiseaseorAttack: int  0 0 0 0 0 0 0 0 1 0 ...\n",
      " $ PhysActivity        : int  0 1 0 1 1 1 0 1 0 0 ...\n",
      " $ Fruits              : int  0 0 1 1 1 1 0 0 1 0 ...\n",
      " $ Veggies             : int  1 0 0 1 1 1 0 1 1 1 ...\n",
      " $ HvyAlcoholConsump   : int  0 0 0 0 0 0 0 0 0 0 ...\n",
      " $ AnyHealthcare       : int  1 0 1 1 1 1 1 1 1 1 ...\n",
      " $ NoDocbcCost         : int  0 1 1 0 0 0 0 0 0 0 ...\n",
      " $ GenHlth             : int  5 3 5 2 2 2 3 3 5 2 ...\n",
      " $ MentHlth            : int  18 0 30 0 3 0 0 0 30 0 ...\n",
      " $ PhysHlth            : int  15 0 30 0 0 2 14 0 30 0 ...\n",
      " $ DiffWalk            : int  1 0 1 0 0 0 0 1 1 0 ...\n",
      " $ Sex                 : int  0 0 0 0 0 1 0 0 0 1 ...\n",
      " $ Age                 : int  9 7 9 11 11 10 9 11 9 8 ...\n",
      " $ Education           : int  4 6 4 3 5 6 6 4 5 4 ...\n",
      " $ Income              : int  3 1 8 6 4 8 7 4 1 3 ...\n",
      " $ Diabetes_binary     : int  0 0 0 0 0 0 0 0 1 0 ...\n"
     ]
    }
   ],
   "source": [
    "str(df)"
   ]
  },
  {
   "cell_type": "markdown",
   "id": "a37e0a1e-df7c-4a3e-bc6c-aed1b3e8a5cb",
   "metadata": {},
   "source": [
    "## 3. Exploratory data analysis (EDA)"
   ]
  },
  {
   "cell_type": "markdown",
   "id": "730df07b-8834-4189-b37b-ed2fdb0c9ae0",
   "metadata": {},
   "source": [
    "### 3.1. Response variable analysis"
   ]
  },
  {
   "cell_type": "code",
   "execution_count": 20,
   "id": "59b64954-0b32-4a55-a2e3-271250028f67",
   "metadata": {},
   "outputs": [
    {
     "data": {
      "image/png": "[encoded data removed]",
      "text/plain": [
       "plot without title"
      ]
     },
     "metadata": {
      "image/png": {
       "height": 420,
       "width": 420
      }
     },
     "output_type": "display_data"
    }
   ],
   "source": [
    "barplot(table(df$Diabetes_binary))"
   ]
  },
  {
   "cell_type": "code",
   "execution_count": 21,
   "id": "779f77eb-7aee-4fc4-9652-03072902367b",
   "metadata": {},
   "outputs": [
    {
     "data": {
      "text/html": [
       "0.139333017975402"
      ],
      "text/latex": [
       "0.139333017975402"
      ],
      "text/markdown": [
       "0.139333017975402"
      ],
      "text/plain": [
       "[1] 0.139333"
      ]
     },
     "metadata": {},
     "output_type": "display_data"
    }
   ],
   "source": [
    "nrow(df[df$Diabetes_binary == 1, ]) / nrow(df)"
   ]
  },
  {
   "cell_type": "markdown",
   "id": "2c912055-d447-4071-bbc6-828a11e3dc00",
   "metadata": {},
   "source": [
    "### 3.2. Numeric variables analysis"
   ]
  },
  {
   "cell_type": "code",
   "execution_count": 22,
   "id": "fcefaf25-f2fc-4f96-84d0-798e557dd5a1",
   "metadata": {},
   "outputs": [],
   "source": [
    "# Numeric variables (3): BMI, MentHlth, PhysHlth"
   ]
  },
  {
   "cell_type": "code",
   "execution_count": 23,
   "id": "8f1a6768-d4f6-4d25-b418-59039e50a497",
   "metadata": {},
   "outputs": [
    {
     "data": {
      "image/png": "[encoded data removed]",
      "text/plain": [
       "Plot with title \"PhysHlth\""
      ]
     },
     "metadata": {
      "image/png": {
       "height": 420,
       "width": 420
      }
     },
     "output_type": "display_data"
    }
   ],
   "source": [
    "par(mfrow=c(1,3))\n",
    "boxplot(df$BMI, main=\"BMI\")\n",
    "boxplot(df$MentHlth, main=\"MentHlth\")\n",
    "boxplot(df$PhysHlth, main=\"PhysHlth\")"
   ]
  },
  {
   "cell_type": "code",
   "execution_count": 24,
   "id": "5956fd21-520d-408d-a30b-b6d48237eef1",
   "metadata": {},
   "outputs": [
    {
     "data": {
      "image/png": "[encoded data removed]",
      "text/plain": [
       "Plot with title \"PhysHlth\""
      ]
     },
     "metadata": {
      "image/png": {
       "height": 420,
       "width": 420
      }
     },
     "output_type": "display_data"
    }
   ],
   "source": [
    "par(mfrow=c(3,1))\n",
    "hist(df$BMI, main=\"BMI\", xlab=\"BMI score\")\n",
    "hist(df$MentHlth, main=\"MentHlth\", xlab=\"Number of day with Mental Health problem in last 30 days\")\n",
    "hist(df$PhysHlth, main=\"PhysHlth\", xlab=\"Number of day with Physical Health problem in last 30 days\")"
   ]
  },
  {
   "cell_type": "markdown",
   "id": "9c5ba093-3c02-4ae1-896b-2ba7a4ccda75",
   "metadata": {},
   "source": [
    "### 3.3. Categorical variables analysis (except \"StdBMI\", \"BoolMentHlth\", \"BoolPhysHlth\")"
   ]
  },
  {
   "cell_type": "code",
   "execution_count": 25,
   "id": "c014e99e-eedd-456c-ac08-f2b4ea1a441e",
   "metadata": {},
   "outputs": [],
   "source": [
    "# Categorical variables (18): HighBP, HighChol, CholCheck, Smoker, Stroke,\n",
    "# HeartDiseaseorAttack, PhysActivity, Fruits, Veggies, HvyAlcoholConsump,\n",
    "# AnyHealthcare, NoDocbcCost, GenHlth, DiffWalk, Sex, Age, Education, Income."
   ]
  },
  {
   "cell_type": "code",
   "execution_count": 26,
   "id": "aa6ea563-18e3-45b5-bea3-679784dd6a1b",
   "metadata": {},
   "outputs": [
    {
     "data": {
      "image/png": "[encoded data removed]",
      "text/plain": [
       "Plot with title \"Veggies\""
      ]
     },
     "metadata": {
      "image/png": {
       "height": 420,
       "width": 420
      }
     },
     "output_type": "display_data"
    }
   ],
   "source": [
    "# Plot first 9 categorical variables: \n",
    "# HighBP, HighChol, CholCheck, Smoker, Stroke,\n",
    "# HeartDiseaseorAttack, PhysActivity, Fruits, Veggies,\n",
    "par(mfrow=c(3,3))\n",
    "barplot(table(df$HighBP), horiz=T, main=\"HighBP\")\n",
    "barplot(table(df$HighChol), horiz=T, main=\"HighChol\")\n",
    "barplot(table(df$CholCheck), horiz=T, main=\"CholCheck\")\n",
    "barplot(table(df$Smoker), horiz=T, main=\"Smoker\")\n",
    "barplot(table(df$Stroke), horiz=T, main=\"Stroke\")\n",
    "barplot(table(df$HeartDiseaseorAttack), horiz=T, main=\"HeartDiseaseorAttack\")\n",
    "barplot(table(df$PhysActivity), horiz=T, main=\"PhysActivity\")\n",
    "barplot(table(df$Fruits), horiz=T, main=\"Fruits\")\n",
    "barplot(table(df$Veggies), horiz=T, main=\"Veggies\")"
   ]
  },
  {
   "cell_type": "code",
   "execution_count": 27,
   "id": "21cb0dc0-61f6-4f26-b59e-a9d3d1cc8cdf",
   "metadata": {},
   "outputs": [
    {
     "data": {
      "image/png": "[encoded data removed]",
      "text/plain": [
       "Plot with title \"Income\""
      ]
     },
     "metadata": {
      "image/png": {
       "height": 420,
       "width": 420
      }
     },
     "output_type": "display_data"
    }
   ],
   "source": [
    "# Plot last 9 categorical variables\n",
    "# HvyAlcoholConsump, AnyHealthcare, NoDocbcCost, GenHlth, \n",
    "# DiffWalk, Sex, Age, Education, Income.\n",
    "par(mfrow=c(3,3))\n",
    "barplot(table(df$HvyAlcoholConsump), horiz=T, main=\"HvyAlcoholConsump\")\n",
    "barplot(table(df$AnyHealthcare), horiz=T, main=\"AnyHealthcare\")\n",
    "barplot(table(df$NoDocbcCost), horiz=T, main=\"NoDocbcCost\")\n",
    "barplot(table(df$GenHlth), horiz=T, main=\"GenHlth\")\n",
    "barplot(table(df$DiffWalk), horiz=T, main=\"DiffWalk\")\n",
    "barplot(table(df$Sex), horiz=T, main=\"Sex\")\n",
    "barplot(table(df$Age), horiz=T, main=\"Age\")\n",
    "barplot(table(df$Education), horiz=T, main=\"Education\")\n",
    "barplot(table(df$Income), horiz=T, main=\"Income\")"
   ]
  },
  {
   "cell_type": "markdown",
   "id": "734010ec-6018-4a73-be1f-96e1bb9a4955",
   "metadata": {},
   "source": [
    "### 3.4. Correlation analysis"
   ]
  },
  {
   "cell_type": "code",
   "execution_count": 28,
   "id": "5296607f-a5a4-4c2e-ac41-3e314ae90c7e",
   "metadata": {},
   "outputs": [],
   "source": [
    "numeric_col = c(\"BMI\", \"MentHlth\", \"PhysHlth\")"
   ]
  },
  {
   "cell_type": "code",
   "execution_count": 29,
   "id": "a5c41d23-4ea9-4680-8e0e-771c6e81d460",
   "metadata": {},
   "outputs": [
    {
     "data": {
      "text/html": [
       "3"
      ],
      "text/latex": [
       "3"
      ],
      "text/markdown": [
       "3"
      ],
      "text/plain": [
       "[1] 3"
      ]
     },
     "metadata": {},
     "output_type": "display_data"
    }
   ],
   "source": [
    "length(numeric_col)"
   ]
  },
  {
   "cell_type": "code",
   "execution_count": 30,
   "id": "a440e593-e976-44f1-81ce-ebd502c633f4",
   "metadata": {},
   "outputs": [],
   "source": [
    "binary_col = c(\"HighBP\", \"HighChol\", \"CholCheck\", \"Smoker\", \"Stroke\",\n",
    "               \"HeartDiseaseorAttack\", \"PhysActivity\", \"Fruits\", \"Veggies\",\n",
    "               \"HvyAlcoholConsump\", \"AnyHealthcare\", \"NoDocbcCost\",\n",
    "               \"DiffWalk\", \"Sex\", \"Diabetes_binary\")"
   ]
  },
  {
   "cell_type": "code",
   "execution_count": 31,
   "id": "844eab57-f35d-4bd7-8c39-9c1af7ff3ca3",
   "metadata": {},
   "outputs": [
    {
     "data": {
      "text/html": [
       "15"
      ],
      "text/latex": [
       "15"
      ],
      "text/markdown": [
       "15"
      ],
      "text/plain": [
       "[1] 15"
      ]
     },
     "metadata": {},
     "output_type": "display_data"
    }
   ],
   "source": [
    "length(binary_col)"
   ]
  },
  {
   "cell_type": "code",
   "execution_count": 32,
   "id": "8cc64fe5-f1d8-472a-8f41-8dc2f65438c2",
   "metadata": {},
   "outputs": [],
   "source": [
    "ordinal_col = c(\"GenHlth\", \"Age\", \"Education\", \"Income\")"
   ]
  },
  {
   "cell_type": "code",
   "execution_count": 33,
   "id": "ae6974c7-363f-44b0-a695-bca142f9d718",
   "metadata": {},
   "outputs": [
    {
     "data": {
      "text/html": [
       "4"
      ],
      "text/latex": [
       "4"
      ],
      "text/markdown": [
       "4"
      ],
      "text/plain": [
       "[1] 4"
      ]
     },
     "metadata": {},
     "output_type": "display_data"
    }
   ],
   "source": [
    "length(ordinal_col)"
   ]
  },
  {
   "cell_type": "code",
   "execution_count": 34,
   "id": "3f74d63b-42aa-49b7-8319-6a0ad9594390",
   "metadata": {},
   "outputs": [],
   "source": [
    "# One hot encoder all categorical columns before next step."
   ]
  },
  {
   "cell_type": "code",
   "execution_count": 35,
   "id": "20868ee3-11b5-4d99-a76a-a3ff4863fcd6",
   "metadata": {},
   "outputs": [],
   "source": [
    "get_correlation = function(dataframe, col_1, col_2, numeric_col, binary_col, ordinal_col)\n",
    "{\n",
    "    if (col_1 %in% ordinal_col || col_2 %in% ordinal_col)\n",
    "    {\n",
    "        return (cor.fk(dataframe[,col_1], dataframe[,col_2]))\n",
    "    }\n",
    "    else if (col_1 %in% numeric_col && col_2 %in% binary_col ||\n",
    "             col_1 %in% binary_col && col_2 %in% numeric_col)\n",
    "    {\n",
    "        return (cor.test(dataframe[,col_1], dataframe[,col_2])$estimate)\n",
    "    }\n",
    "    else if (col_1 %in% binary_col && col_2 %in% binary_col)\n",
    "    {\n",
    "        return (cramerV(table(dataframe[ ,c(col_1, col_2)])))\n",
    "    }\n",
    "    else if (col_1 %in% numeric_col && col_2 %in% numeric_col)\n",
    "    {\n",
    "        return (cor(dataframe[,col_1], dataframe[,col_2]))\n",
    "    }\n",
    "    else\n",
    "    {\n",
    "        return (0)\n",
    "    }\n",
    "}    "
   ]
  },
  {
   "cell_type": "code",
   "execution_count": 36,
   "id": "4bcc64c3-6267-4d44-918e-26b95d3a05ff",
   "metadata": {},
   "outputs": [],
   "source": [
    "# get_correlation(df, \"BMI\", \"PhysHlth\", numeric_col, binary_col, ordinal_col)"
   ]
  },
  {
   "cell_type": "code",
   "execution_count": 37,
   "id": "319a4b2c-d38a-414b-8866-a7ffb602ca23",
   "metadata": {},
   "outputs": [],
   "source": [
    "all_colnames = colnames(df)"
   ]
  },
  {
   "cell_type": "code",
   "execution_count": 38,
   "id": "34531c04-7327-41c2-bb56-75f09edceda7",
   "metadata": {},
   "outputs": [],
   "source": [
    "correlation_matrix = matrix(0, nrow = length(all_colnames), ncol = length(all_colnames), dimnames = list(all_colnames, all_colnames))"
   ]
  },
  {
   "cell_type": "code",
   "execution_count": 39,
   "id": "022dc374-7916-48b9-84bb-489124f7a08e",
   "metadata": {},
   "outputs": [],
   "source": [
    "for (row_index in 1:nrow(correlation_matrix))\n",
    "{\n",
    "    for (col_index in row_index:ncol(correlation_matrix))\n",
    "    {\n",
    "        if (row_index == col_index)\n",
    "        {\n",
    "            correlation_matrix[row_index, col_index] = 1\n",
    "        }\n",
    "        else\n",
    "        {\n",
    "            correlation_matrix[row_index, col_index] = get_correlation(df, all_colnames[row_index],\n",
    "                                                                       all_colnames[col_index], numeric_col, \n",
    "                                                                       binary_col, ordinal_col)\n",
    "        }\n",
    "    }    \n",
    "}"
   ]
  },
  {
   "cell_type": "code",
   "execution_count": 40,
   "id": "a56bab43-735d-4c32-9bd2-ba038e9997c3",
   "metadata": {
    "scrolled": true
   },
   "outputs": [
    {
     "data": {
      "text/html": [
       "<table class=\"dataframe\">\n",
       "<caption>A matrix: 23 × 23 of type dbl</caption>\n",
       "<thead>\n",
       "\t<tr><th></th><th scope=col>Index</th><th scope=col>HighBP</th><th scope=col>HighChol</th><th scope=col>CholCheck</th><th scope=col>BMI</th><th scope=col>Smoker</th><th scope=col>Stroke</th><th scope=col>HeartDiseaseorAttack</th><th scope=col>PhysActivity</th><th scope=col>Fruits</th><th scope=col>...</th><th scope=col>NoDocbcCost</th><th scope=col>GenHlth</th><th scope=col>MentHlth</th><th scope=col>PhysHlth</th><th scope=col>DiffWalk</th><th scope=col>Sex</th><th scope=col>Age</th><th scope=col>Education</th><th scope=col>Income</th><th scope=col>Diabetes_binary</th></tr>\n",
       "</thead>\n",
       "<tbody>\n",
       "\t<tr><th scope=row>Index</th><td>1</td><td>0</td><td>0.0000</td><td>0.00000</td><td>0.00000000</td><td>0.00000000</td><td>0.00000000</td><td>0.00000000</td><td> 0.0000000</td><td> 0.00000000</td><td>...</td><td>0.00000000</td><td> 0.01120463</td><td> 0.000000000</td><td> 0.000000000</td><td>0.0000000</td><td> 0.000000000</td><td>-0.011114543</td><td>-0.022069633</td><td>-0.02338277</td><td> 0.00000000</td></tr>\n",
       "\t<tr><th scope=row>HighBP</th><td>0</td><td>1</td><td>0.2982</td><td>0.09851</td><td>0.21374812</td><td>0.09699000</td><td>0.12960000</td><td>0.20940000</td><td> 0.1253000</td><td> 0.04055000</td><td>...</td><td>0.01736000</td><td> 0.27684409</td><td> 0.056455917</td><td> 0.161211571</td><td>0.2236000</td><td> 0.052210000</td><td> 0.293883910</td><td>-0.132261074</td><td>-0.15907727</td><td> 0.26310000</td></tr>\n",
       "\t<tr><th scope=row>HighChol</th><td>0</td><td>0</td><td>1.0000</td><td>0.08564</td><td>0.10672208</td><td>0.09130000</td><td>0.09262000</td><td>0.18080000</td><td> 0.0780500</td><td> 0.04086000</td><td>...</td><td>0.01331000</td><td> 0.19044111</td><td> 0.062069154</td><td> 0.121750528</td><td>0.1447000</td><td> 0.031210000</td><td> 0.227197645</td><td>-0.064141477</td><td>-0.07805095</td><td> 0.20030000</td></tr>\n",
       "\t<tr><th scope=row>CholCheck</th><td>0</td><td>0</td><td>0.0000</td><td>1.00000</td><td>0.03449509</td><td>0.00992900</td><td>0.02416000</td><td>0.04421000</td><td> 0.0041900</td><td> 0.02385000</td><td>...</td><td>0.05826000</td><td> 0.04230765</td><td>-0.008365598</td><td> 0.031774808</td><td>0.0405900</td><td> 0.022120000</td><td> 0.079782773</td><td> 0.003605023</td><td> 0.01355233</td><td> 0.06476000</td></tr>\n",
       "\t<tr><th scope=row>BMI</th><td>0</td><td>0</td><td>0.0000</td><td>0.00000</td><td>1.00000000</td><td>0.01380447</td><td>0.02015266</td><td>0.05290426</td><td>-0.1472936</td><td>-0.08751812</td><td>...</td><td>0.05820629</td><td> 0.20044778</td><td> 0.085310159</td><td> 0.121141107</td><td>0.1970778</td><td> 0.042950303</td><td>-0.018682591</td><td>-0.096272782</td><td>-0.06913474</td><td> 0.21684306</td></tr>\n",
       "\t<tr><th scope=row>Smoker</th><td>0</td><td>0</td><td>0.0000</td><td>0.00000</td><td>0.00000000</td><td>1.00000000</td><td>0.06117000</td><td>0.11440000</td><td> 0.0874000</td><td> 0.07767000</td><td>...</td><td>0.04895000</td><td> 0.14513867</td><td> 0.092196474</td><td> 0.116459714</td><td>0.1225000</td><td> 0.093660000</td><td> 0.101764840</td><td>-0.161695760</td><td>-0.11779172</td><td> 0.06079000</td></tr>\n",
       "\t<tr><th scope=row>Stroke</th><td>0</td><td>0</td><td>0.0000</td><td>0.00000</td><td>0.00000000</td><td>0.00000000</td><td>1.00000000</td><td>0.20300000</td><td> 0.0691500</td><td> 0.01339000</td><td>...</td><td>0.03480000</td><td> 0.14940699</td><td> 0.070171812</td><td> 0.148944169</td><td>0.1766000</td><td> 0.002978000</td><td> 0.110086876</td><td>-0.067979132</td><td>-0.10985834</td><td> 0.10580000</td></tr>\n",
       "\t<tr><th scope=row>HeartDiseaseorAttack</th><td>0</td><td>0</td><td>0.0000</td><td>0.00000</td><td>0.00000000</td><td>0.00000000</td><td>0.00000000</td><td>1.00000000</td><td> 0.0873000</td><td> 0.01979000</td><td>...</td><td>0.03100000</td><td> 0.22111285</td><td> 0.064621292</td><td> 0.181697536</td><td>0.2127000</td><td> 0.086100000</td><td> 0.194173045</td><td>-0.089351076</td><td>-0.12562478</td><td> 0.17730000</td></tr>\n",
       "\t<tr><th scope=row>PhysActivity</th><td>0</td><td>0</td><td>0.0000</td><td>0.00000</td><td>0.00000000</td><td>0.00000000</td><td>0.00000000</td><td>0.00000000</td><td> 1.0000000</td><td> 0.14280000</td><td>...</td><td>0.06164000</td><td>-0.23388958</td><td>-0.125587088</td><td>-0.219229522</td><td>0.2532000</td><td> 0.032480000</td><td>-0.075105057</td><td> 0.186553009</td><td> 0.17937530</td><td> 0.11810000</td></tr>\n",
       "\t<tr><th scope=row>Fruits</th><td>0</td><td>0</td><td>0.0000</td><td>0.00000</td><td>0.00000000</td><td>0.00000000</td><td>0.00000000</td><td>0.00000000</td><td> 0.0000000</td><td> 1.00000000</td><td>...</td><td>0.04424000</td><td>-0.09627343</td><td>-0.068217375</td><td>-0.044633325</td><td>0.0483500</td><td> 0.091170000</td><td> 0.057094063</td><td> 0.107068517</td><td> 0.06784869</td><td> 0.04078000</td></tr>\n",
       "\t<tr><th scope=row>Veggies</th><td>0</td><td>0</td><td>0.0000</td><td>0.00000</td><td>0.00000000</td><td>0.00000000</td><td>0.00000000</td><td>0.00000000</td><td> 0.0000000</td><td> 0.00000000</td><td>...</td><td>0.03223000</td><td>-0.11185121</td><td>-0.058883553</td><td>-0.064290327</td><td>0.0805100</td><td> 0.064770000</td><td>-0.009572817</td><td> 0.144059557</td><td> 0.13262035</td><td> 0.05658000</td></tr>\n",
       "\t<tr><th scope=row>HvyAlcoholConsump</th><td>0</td><td>0</td><td>0.0000</td><td>0.00000</td><td>0.00000000</td><td>0.00000000</td><td>0.00000000</td><td>0.00000000</td><td> 0.0000000</td><td> 0.00000000</td><td>...</td><td>0.00468400</td><td>-0.03215364</td><td> 0.024715803</td><td>-0.026415474</td><td>0.0376700</td><td> 0.005740000</td><td>-0.029965414</td><td> 0.019798809</td><td> 0.04913834</td><td> 0.05706000</td></tr>\n",
       "\t<tr><th scope=row>AnyHealthcare</th><td>0</td><td>0</td><td>0.0000</td><td>0.00000</td><td>0.00000000</td><td>0.00000000</td><td>0.00000000</td><td>0.00000000</td><td> 0.0000000</td><td> 0.00000000</td><td>...</td><td>0.23250000</td><td>-0.03799168</td><td>-0.052706597</td><td>-0.008276167</td><td>0.0070740</td><td> 0.019410000</td><td> 0.119625441</td><td> 0.106998261</td><td> 0.13766158</td><td> 0.01626000</td></tr>\n",
       "\t<tr><th scope=row>NoDocbcCost</th><td>0</td><td>0</td><td>0.0000</td><td>0.00000</td><td>0.00000000</td><td>0.00000000</td><td>0.00000000</td><td>0.00000000</td><td> 0.0000000</td><td> 0.00000000</td><td>...</td><td>1.00000000</td><td> 0.14381687</td><td> 0.192106853</td><td> 0.148997564</td><td>0.1184000</td><td> 0.044930000</td><td>-0.107532972</td><td>-0.091225522</td><td>-0.17468003</td><td> 0.03143000</td></tr>\n",
       "\t<tr><th scope=row>GenHlth</th><td>0</td><td>0</td><td>0.0000</td><td>0.00000</td><td>0.00000000</td><td>0.00000000</td><td>0.00000000</td><td>0.00000000</td><td> 0.0000000</td><td> 0.00000000</td><td>...</td><td>0.00000000</td><td> 1.00000000</td><td> 0.204673302</td><td> 0.390358148</td><td>0.3859114</td><td>-0.003228014</td><td> 0.114303133</td><td>-0.236224080</td><td>-0.29196523</td><td> 0.26260195</td></tr>\n",
       "\t<tr><th scope=row>MentHlth</th><td>0</td><td>0</td><td>0.0000</td><td>0.00000</td><td>0.00000000</td><td>0.00000000</td><td>0.00000000</td><td>0.00000000</td><td> 0.0000000</td><td> 0.00000000</td><td>...</td><td>0.00000000</td><td> 0.00000000</td><td> 1.000000000</td><td> 0.353618868</td><td>0.2336881</td><td>-0.080704863</td><td>-0.129731426</td><td>-0.047084111</td><td>-0.12043742</td><td> 0.06931508</td></tr>\n",
       "\t<tr><th scope=row>PhysHlth</th><td>0</td><td>0</td><td>0.0000</td><td>0.00000</td><td>0.00000000</td><td>0.00000000</td><td>0.00000000</td><td>0.00000000</td><td> 0.0000000</td><td> 0.00000000</td><td>...</td><td>0.00000000</td><td> 0.00000000</td><td> 0.000000000</td><td> 1.000000000</td><td>0.4784166</td><td>-0.043136502</td><td> 0.040949992</td><td>-0.098650266</td><td>-0.17883737</td><td> 0.17133670</td></tr>\n",
       "\t<tr><th scope=row>DiffWalk</th><td>0</td><td>0</td><td>0.0000</td><td>0.00000</td><td>0.00000000</td><td>0.00000000</td><td>0.00000000</td><td>0.00000000</td><td> 0.0000000</td><td> 0.00000000</td><td>...</td><td>0.00000000</td><td> 0.00000000</td><td> 0.000000000</td><td> 0.000000000</td><td>1.0000000</td><td> 0.070300000</td><td> 0.171554443</td><td>-0.174726539</td><td>-0.26966510</td><td> 0.21830000</td></tr>\n",
       "\t<tr><th scope=row>Sex</th><td>0</td><td>0</td><td>0.0000</td><td>0.00000</td><td>0.00000000</td><td>0.00000000</td><td>0.00000000</td><td>0.00000000</td><td> 0.0000000</td><td> 0.00000000</td><td>...</td><td>0.00000000</td><td> 0.00000000</td><td> 0.000000000</td><td> 0.000000000</td><td>0.0000000</td><td> 1.000000000</td><td>-0.020657202</td><td> 0.022554582</td><td> 0.11277129</td><td> 0.03143000</td></tr>\n",
       "\t<tr><th scope=row>Age</th><td>0</td><td>0</td><td>0.0000</td><td>0.00000</td><td>0.00000000</td><td>0.00000000</td><td>0.00000000</td><td>0.00000000</td><td> 0.0000000</td><td> 0.00000000</td><td>...</td><td>0.00000000</td><td> 0.00000000</td><td> 0.000000000</td><td> 0.000000000</td><td>0.0000000</td><td> 0.000000000</td><td> 1.000000000</td><td>-0.080601809</td><td>-0.13460542</td><td> 0.15156257</td></tr>\n",
       "\t<tr><th scope=row>Education</th><td>0</td><td>0</td><td>0.0000</td><td>0.00000</td><td>0.00000000</td><td>0.00000000</td><td>0.00000000</td><td>0.00000000</td><td> 0.0000000</td><td> 0.00000000</td><td>...</td><td>0.00000000</td><td> 0.00000000</td><td> 0.000000000</td><td> 0.000000000</td><td>0.0000000</td><td> 0.000000000</td><td> 0.000000000</td><td> 1.000000000</td><td> 0.38077195</td><td>-0.11182832</td></tr>\n",
       "\t<tr><th scope=row>Income</th><td>0</td><td>0</td><td>0.0000</td><td>0.00000</td><td>0.00000000</td><td>0.00000000</td><td>0.00000000</td><td>0.00000000</td><td> 0.0000000</td><td> 0.00000000</td><td>...</td><td>0.00000000</td><td> 0.00000000</td><td> 0.000000000</td><td> 0.000000000</td><td>0.0000000</td><td> 0.000000000</td><td> 0.000000000</td><td> 0.000000000</td><td> 1.00000000</td><td>-0.14499818</td></tr>\n",
       "\t<tr><th scope=row>Diabetes_binary</th><td>0</td><td>0</td><td>0.0000</td><td>0.00000</td><td>0.00000000</td><td>0.00000000</td><td>0.00000000</td><td>0.00000000</td><td> 0.0000000</td><td> 0.00000000</td><td>...</td><td>0.00000000</td><td> 0.00000000</td><td> 0.000000000</td><td> 0.000000000</td><td>0.0000000</td><td> 0.000000000</td><td> 0.000000000</td><td> 0.000000000</td><td> 0.00000000</td><td> 1.00000000</td></tr>\n",
       "</tbody>\n",
       "</table>\n"
      ],
      "text/latex": [
       "A matrix: 23 × 23 of type dbl\n",
       "\\begin{tabular}{r|lllllllllllllllllllll}\n",
       "  & Index & HighBP & HighChol & CholCheck & BMI & Smoker & Stroke & HeartDiseaseorAttack & PhysActivity & Fruits & ... & NoDocbcCost & GenHlth & MentHlth & PhysHlth & DiffWalk & Sex & Age & Education & Income & Diabetes\\_binary\\\\\n",
       "\\hline\n",
       "\tIndex & 1 & 0 & 0.0000 & 0.00000 & 0.00000000 & 0.00000000 & 0.00000000 & 0.00000000 &  0.0000000 &  0.00000000 & ... & 0.00000000 &  0.01120463 &  0.000000000 &  0.000000000 & 0.0000000 &  0.000000000 & -0.011114543 & -0.022069633 & -0.02338277 &  0.00000000\\\\\n",
       "\tHighBP & 0 & 1 & 0.2982 & 0.09851 & 0.21374812 & 0.09699000 & 0.12960000 & 0.20940000 &  0.1253000 &  0.04055000 & ... & 0.01736000 &  0.27684409 &  0.056455917 &  0.161211571 & 0.2236000 &  0.052210000 &  0.293883910 & -0.132261074 & -0.15907727 &  0.26310000\\\\\n",
       "\tHighChol & 0 & 0 & 1.0000 & 0.08564 & 0.10672208 & 0.09130000 & 0.09262000 & 0.18080000 &  0.0780500 &  0.04086000 & ... & 0.01331000 &  0.19044111 &  0.062069154 &  0.121750528 & 0.1447000 &  0.031210000 &  0.227197645 & -0.064141477 & -0.07805095 &  0.20030000\\\\\n",
       "\tCholCheck & 0 & 0 & 0.0000 & 1.00000 & 0.03449509 & 0.00992900 & 0.02416000 & 0.04421000 &  0.0041900 &  0.02385000 & ... & 0.05826000 &  0.04230765 & -0.008365598 &  0.031774808 & 0.0405900 &  0.022120000 &  0.079782773 &  0.003605023 &  0.01355233 &  0.06476000\\\\\n",
       "\tBMI & 0 & 0 & 0.0000 & 0.00000 & 1.00000000 & 0.01380447 & 0.02015266 & 0.05290426 & -0.1472936 & -0.08751812 & ... & 0.05820629 &  0.20044778 &  0.085310159 &  0.121141107 & 0.1970778 &  0.042950303 & -0.018682591 & -0.096272782 & -0.06913474 &  0.21684306\\\\\n",
       "\tSmoker & 0 & 0 & 0.0000 & 0.00000 & 0.00000000 & 1.00000000 & 0.06117000 & 0.11440000 &  0.0874000 &  0.07767000 & ... & 0.04895000 &  0.14513867 &  0.092196474 &  0.116459714 & 0.1225000 &  0.093660000 &  0.101764840 & -0.161695760 & -0.11779172 &  0.06079000\\\\\n",
       "\tStroke & 0 & 0 & 0.0000 & 0.00000 & 0.00000000 & 0.00000000 & 1.00000000 & 0.20300000 &  0.0691500 &  0.01339000 & ... & 0.03480000 &  0.14940699 &  0.070171812 &  0.148944169 & 0.1766000 &  0.002978000 &  0.110086876 & -0.067979132 & -0.10985834 &  0.10580000\\\\\n",
       "\tHeartDiseaseorAttack & 0 & 0 & 0.0000 & 0.00000 & 0.00000000 & 0.00000000 & 0.00000000 & 1.00000000 &  0.0873000 &  0.01979000 & ... & 0.03100000 &  0.22111285 &  0.064621292 &  0.181697536 & 0.2127000 &  0.086100000 &  0.194173045 & -0.089351076 & -0.12562478 &  0.17730000\\\\\n",
       "\tPhysActivity & 0 & 0 & 0.0000 & 0.00000 & 0.00000000 & 0.00000000 & 0.00000000 & 0.00000000 &  1.0000000 &  0.14280000 & ... & 0.06164000 & -0.23388958 & -0.125587088 & -0.219229522 & 0.2532000 &  0.032480000 & -0.075105057 &  0.186553009 &  0.17937530 &  0.11810000\\\\\n",
       "\tFruits & 0 & 0 & 0.0000 & 0.00000 & 0.00000000 & 0.00000000 & 0.00000000 & 0.00000000 &  0.0000000 &  1.00000000 & ... & 0.04424000 & -0.09627343 & -0.068217375 & -0.044633325 & 0.0483500 &  0.091170000 &  0.057094063 &  0.107068517 &  0.06784869 &  0.04078000\\\\\n",
       "\tVeggies & 0 & 0 & 0.0000 & 0.00000 & 0.00000000 & 0.00000000 & 0.00000000 & 0.00000000 &  0.0000000 &  0.00000000 & ... & 0.03223000 & -0.11185121 & -0.058883553 & -0.064290327 & 0.0805100 &  0.064770000 & -0.009572817 &  0.144059557 &  0.13262035 &  0.05658000\\\\\n",
       "\tHvyAlcoholConsump & 0 & 0 & 0.0000 & 0.00000 & 0.00000000 & 0.00000000 & 0.00000000 & 0.00000000 &  0.0000000 &  0.00000000 & ... & 0.00468400 & -0.03215364 &  0.024715803 & -0.026415474 & 0.0376700 &  0.005740000 & -0.029965414 &  0.019798809 &  0.04913834 &  0.05706000\\\\\n",
       "\tAnyHealthcare & 0 & 0 & 0.0000 & 0.00000 & 0.00000000 & 0.00000000 & 0.00000000 & 0.00000000 &  0.0000000 &  0.00000000 & ... & 0.23250000 & -0.03799168 & -0.052706597 & -0.008276167 & 0.0070740 &  0.019410000 &  0.119625441 &  0.106998261 &  0.13766158 &  0.01626000\\\\\n",
       "\tNoDocbcCost & 0 & 0 & 0.0000 & 0.00000 & 0.00000000 & 0.00000000 & 0.00000000 & 0.00000000 &  0.0000000 &  0.00000000 & ... & 1.00000000 &  0.14381687 &  0.192106853 &  0.148997564 & 0.1184000 &  0.044930000 & -0.107532972 & -0.091225522 & -0.17468003 &  0.03143000\\\\\n",
       "\tGenHlth & 0 & 0 & 0.0000 & 0.00000 & 0.00000000 & 0.00000000 & 0.00000000 & 0.00000000 &  0.0000000 &  0.00000000 & ... & 0.00000000 &  1.00000000 &  0.204673302 &  0.390358148 & 0.3859114 & -0.003228014 &  0.114303133 & -0.236224080 & -0.29196523 &  0.26260195\\\\\n",
       "\tMentHlth & 0 & 0 & 0.0000 & 0.00000 & 0.00000000 & 0.00000000 & 0.00000000 & 0.00000000 &  0.0000000 &  0.00000000 & ... & 0.00000000 &  0.00000000 &  1.000000000 &  0.353618868 & 0.2336881 & -0.080704863 & -0.129731426 & -0.047084111 & -0.12043742 &  0.06931508\\\\\n",
       "\tPhysHlth & 0 & 0 & 0.0000 & 0.00000 & 0.00000000 & 0.00000000 & 0.00000000 & 0.00000000 &  0.0000000 &  0.00000000 & ... & 0.00000000 &  0.00000000 &  0.000000000 &  1.000000000 & 0.4784166 & -0.043136502 &  0.040949992 & -0.098650266 & -0.17883737 &  0.17133670\\\\\n",
       "\tDiffWalk & 0 & 0 & 0.0000 & 0.00000 & 0.00000000 & 0.00000000 & 0.00000000 & 0.00000000 &  0.0000000 &  0.00000000 & ... & 0.00000000 &  0.00000000 &  0.000000000 &  0.000000000 & 1.0000000 &  0.070300000 &  0.171554443 & -0.174726539 & -0.26966510 &  0.21830000\\\\\n",
       "\tSex & 0 & 0 & 0.0000 & 0.00000 & 0.00000000 & 0.00000000 & 0.00000000 & 0.00000000 &  0.0000000 &  0.00000000 & ... & 0.00000000 &  0.00000000 &  0.000000000 &  0.000000000 & 0.0000000 &  1.000000000 & -0.020657202 &  0.022554582 &  0.11277129 &  0.03143000\\\\\n",
       "\tAge & 0 & 0 & 0.0000 & 0.00000 & 0.00000000 & 0.00000000 & 0.00000000 & 0.00000000 &  0.0000000 &  0.00000000 & ... & 0.00000000 &  0.00000000 &  0.000000000 &  0.000000000 & 0.0000000 &  0.000000000 &  1.000000000 & -0.080601809 & -0.13460542 &  0.15156257\\\\\n",
       "\tEducation & 0 & 0 & 0.0000 & 0.00000 & 0.00000000 & 0.00000000 & 0.00000000 & 0.00000000 &  0.0000000 &  0.00000000 & ... & 0.00000000 &  0.00000000 &  0.000000000 &  0.000000000 & 0.0000000 &  0.000000000 &  0.000000000 &  1.000000000 &  0.38077195 & -0.11182832\\\\\n",
       "\tIncome & 0 & 0 & 0.0000 & 0.00000 & 0.00000000 & 0.00000000 & 0.00000000 & 0.00000000 &  0.0000000 &  0.00000000 & ... & 0.00000000 &  0.00000000 &  0.000000000 &  0.000000000 & 0.0000000 &  0.000000000 &  0.000000000 &  0.000000000 &  1.00000000 & -0.14499818\\\\\n",
       "\tDiabetes\\_binary & 0 & 0 & 0.0000 & 0.00000 & 0.00000000 & 0.00000000 & 0.00000000 & 0.00000000 &  0.0000000 &  0.00000000 & ... & 0.00000000 &  0.00000000 &  0.000000000 &  0.000000000 & 0.0000000 &  0.000000000 &  0.000000000 &  0.000000000 &  0.00000000 &  1.00000000\\\\\n",
       "\\end{tabular}\n"
      ],
      "text/markdown": [
       "\n",
       "A matrix: 23 × 23 of type dbl\n",
       "\n",
       "| <!--/--> | Index | HighBP | HighChol | CholCheck | BMI | Smoker | Stroke | HeartDiseaseorAttack | PhysActivity | Fruits | ... | NoDocbcCost | GenHlth | MentHlth | PhysHlth | DiffWalk | Sex | Age | Education | Income | Diabetes_binary |\n",
       "|---|---|---|---|---|---|---|---|---|---|---|---|---|---|---|---|---|---|---|---|---|---|\n",
       "| Index | 1 | 0 | 0.0000 | 0.00000 | 0.00000000 | 0.00000000 | 0.00000000 | 0.00000000 |  0.0000000 |  0.00000000 | ... | 0.00000000 |  0.01120463 |  0.000000000 |  0.000000000 | 0.0000000 |  0.000000000 | -0.011114543 | -0.022069633 | -0.02338277 |  0.00000000 |\n",
       "| HighBP | 0 | 1 | 0.2982 | 0.09851 | 0.21374812 | 0.09699000 | 0.12960000 | 0.20940000 |  0.1253000 |  0.04055000 | ... | 0.01736000 |  0.27684409 |  0.056455917 |  0.161211571 | 0.2236000 |  0.052210000 |  0.293883910 | -0.132261074 | -0.15907727 |  0.26310000 |\n",
       "| HighChol | 0 | 0 | 1.0000 | 0.08564 | 0.10672208 | 0.09130000 | 0.09262000 | 0.18080000 |  0.0780500 |  0.04086000 | ... | 0.01331000 |  0.19044111 |  0.062069154 |  0.121750528 | 0.1447000 |  0.031210000 |  0.227197645 | -0.064141477 | -0.07805095 |  0.20030000 |\n",
       "| CholCheck | 0 | 0 | 0.0000 | 1.00000 | 0.03449509 | 0.00992900 | 0.02416000 | 0.04421000 |  0.0041900 |  0.02385000 | ... | 0.05826000 |  0.04230765 | -0.008365598 |  0.031774808 | 0.0405900 |  0.022120000 |  0.079782773 |  0.003605023 |  0.01355233 |  0.06476000 |\n",
       "| BMI | 0 | 0 | 0.0000 | 0.00000 | 1.00000000 | 0.01380447 | 0.02015266 | 0.05290426 | -0.1472936 | -0.08751812 | ... | 0.05820629 |  0.20044778 |  0.085310159 |  0.121141107 | 0.1970778 |  0.042950303 | -0.018682591 | -0.096272782 | -0.06913474 |  0.21684306 |\n",
       "| Smoker | 0 | 0 | 0.0000 | 0.00000 | 0.00000000 | 1.00000000 | 0.06117000 | 0.11440000 |  0.0874000 |  0.07767000 | ... | 0.04895000 |  0.14513867 |  0.092196474 |  0.116459714 | 0.1225000 |  0.093660000 |  0.101764840 | -0.161695760 | -0.11779172 |  0.06079000 |\n",
       "| Stroke | 0 | 0 | 0.0000 | 0.00000 | 0.00000000 | 0.00000000 | 1.00000000 | 0.20300000 |  0.0691500 |  0.01339000 | ... | 0.03480000 |  0.14940699 |  0.070171812 |  0.148944169 | 0.1766000 |  0.002978000 |  0.110086876 | -0.067979132 | -0.10985834 |  0.10580000 |\n",
       "| HeartDiseaseorAttack | 0 | 0 | 0.0000 | 0.00000 | 0.00000000 | 0.00000000 | 0.00000000 | 1.00000000 |  0.0873000 |  0.01979000 | ... | 0.03100000 |  0.22111285 |  0.064621292 |  0.181697536 | 0.2127000 |  0.086100000 |  0.194173045 | -0.089351076 | -0.12562478 |  0.17730000 |\n",
       "| PhysActivity | 0 | 0 | 0.0000 | 0.00000 | 0.00000000 | 0.00000000 | 0.00000000 | 0.00000000 |  1.0000000 |  0.14280000 | ... | 0.06164000 | -0.23388958 | -0.125587088 | -0.219229522 | 0.2532000 |  0.032480000 | -0.075105057 |  0.186553009 |  0.17937530 |  0.11810000 |\n",
       "| Fruits | 0 | 0 | 0.0000 | 0.00000 | 0.00000000 | 0.00000000 | 0.00000000 | 0.00000000 |  0.0000000 |  1.00000000 | ... | 0.04424000 | -0.09627343 | -0.068217375 | -0.044633325 | 0.0483500 |  0.091170000 |  0.057094063 |  0.107068517 |  0.06784869 |  0.04078000 |\n",
       "| Veggies | 0 | 0 | 0.0000 | 0.00000 | 0.00000000 | 0.00000000 | 0.00000000 | 0.00000000 |  0.0000000 |  0.00000000 | ... | 0.03223000 | -0.11185121 | -0.058883553 | -0.064290327 | 0.0805100 |  0.064770000 | -0.009572817 |  0.144059557 |  0.13262035 |  0.05658000 |\n",
       "| HvyAlcoholConsump | 0 | 0 | 0.0000 | 0.00000 | 0.00000000 | 0.00000000 | 0.00000000 | 0.00000000 |  0.0000000 |  0.00000000 | ... | 0.00468400 | -0.03215364 |  0.024715803 | -0.026415474 | 0.0376700 |  0.005740000 | -0.029965414 |  0.019798809 |  0.04913834 |  0.05706000 |\n",
       "| AnyHealthcare | 0 | 0 | 0.0000 | 0.00000 | 0.00000000 | 0.00000000 | 0.00000000 | 0.00000000 |  0.0000000 |  0.00000000 | ... | 0.23250000 | -0.03799168 | -0.052706597 | -0.008276167 | 0.0070740 |  0.019410000 |  0.119625441 |  0.106998261 |  0.13766158 |  0.01626000 |\n",
       "| NoDocbcCost | 0 | 0 | 0.0000 | 0.00000 | 0.00000000 | 0.00000000 | 0.00000000 | 0.00000000 |  0.0000000 |  0.00000000 | ... | 1.00000000 |  0.14381687 |  0.192106853 |  0.148997564 | 0.1184000 |  0.044930000 | -0.107532972 | -0.091225522 | -0.17468003 |  0.03143000 |\n",
       "| GenHlth | 0 | 0 | 0.0000 | 0.00000 | 0.00000000 | 0.00000000 | 0.00000000 | 0.00000000 |  0.0000000 |  0.00000000 | ... | 0.00000000 |  1.00000000 |  0.204673302 |  0.390358148 | 0.3859114 | -0.003228014 |  0.114303133 | -0.236224080 | -0.29196523 |  0.26260195 |\n",
       "| MentHlth | 0 | 0 | 0.0000 | 0.00000 | 0.00000000 | 0.00000000 | 0.00000000 | 0.00000000 |  0.0000000 |  0.00000000 | ... | 0.00000000 |  0.00000000 |  1.000000000 |  0.353618868 | 0.2336881 | -0.080704863 | -0.129731426 | -0.047084111 | -0.12043742 |  0.06931508 |\n",
       "| PhysHlth | 0 | 0 | 0.0000 | 0.00000 | 0.00000000 | 0.00000000 | 0.00000000 | 0.00000000 |  0.0000000 |  0.00000000 | ... | 0.00000000 |  0.00000000 |  0.000000000 |  1.000000000 | 0.4784166 | -0.043136502 |  0.040949992 | -0.098650266 | -0.17883737 |  0.17133670 |\n",
       "| DiffWalk | 0 | 0 | 0.0000 | 0.00000 | 0.00000000 | 0.00000000 | 0.00000000 | 0.00000000 |  0.0000000 |  0.00000000 | ... | 0.00000000 |  0.00000000 |  0.000000000 |  0.000000000 | 1.0000000 |  0.070300000 |  0.171554443 | -0.174726539 | -0.26966510 |  0.21830000 |\n",
       "| Sex | 0 | 0 | 0.0000 | 0.00000 | 0.00000000 | 0.00000000 | 0.00000000 | 0.00000000 |  0.0000000 |  0.00000000 | ... | 0.00000000 |  0.00000000 |  0.000000000 |  0.000000000 | 0.0000000 |  1.000000000 | -0.020657202 |  0.022554582 |  0.11277129 |  0.03143000 |\n",
       "| Age | 0 | 0 | 0.0000 | 0.00000 | 0.00000000 | 0.00000000 | 0.00000000 | 0.00000000 |  0.0000000 |  0.00000000 | ... | 0.00000000 |  0.00000000 |  0.000000000 |  0.000000000 | 0.0000000 |  0.000000000 |  1.000000000 | -0.080601809 | -0.13460542 |  0.15156257 |\n",
       "| Education | 0 | 0 | 0.0000 | 0.00000 | 0.00000000 | 0.00000000 | 0.00000000 | 0.00000000 |  0.0000000 |  0.00000000 | ... | 0.00000000 |  0.00000000 |  0.000000000 |  0.000000000 | 0.0000000 |  0.000000000 |  0.000000000 |  1.000000000 |  0.38077195 | -0.11182832 |\n",
       "| Income | 0 | 0 | 0.0000 | 0.00000 | 0.00000000 | 0.00000000 | 0.00000000 | 0.00000000 |  0.0000000 |  0.00000000 | ... | 0.00000000 |  0.00000000 |  0.000000000 |  0.000000000 | 0.0000000 |  0.000000000 |  0.000000000 |  0.000000000 |  1.00000000 | -0.14499818 |\n",
       "| Diabetes_binary | 0 | 0 | 0.0000 | 0.00000 | 0.00000000 | 0.00000000 | 0.00000000 | 0.00000000 |  0.0000000 |  0.00000000 | ... | 0.00000000 |  0.00000000 |  0.000000000 |  0.000000000 | 0.0000000 |  0.000000000 |  0.000000000 |  0.000000000 |  0.00000000 |  1.00000000 |\n",
       "\n"
      ],
      "text/plain": [
       "                     Index HighBP HighChol CholCheck BMI        Smoker    \n",
       "Index                1     0      0.0000   0.00000   0.00000000 0.00000000\n",
       "HighBP               0     1      0.2982   0.09851   0.21374812 0.09699000\n",
       "HighChol             0     0      1.0000   0.08564   0.10672208 0.09130000\n",
       "CholCheck            0     0      0.0000   1.00000   0.03449509 0.00992900\n",
       "BMI                  0     0      0.0000   0.00000   1.00000000 0.01380447\n",
       "Smoker               0     0      0.0000   0.00000   0.00000000 1.00000000\n",
       "Stroke               0     0      0.0000   0.00000   0.00000000 0.00000000\n",
       "HeartDiseaseorAttack 0     0      0.0000   0.00000   0.00000000 0.00000000\n",
       "PhysActivity         0     0      0.0000   0.00000   0.00000000 0.00000000\n",
       "Fruits               0     0      0.0000   0.00000   0.00000000 0.00000000\n",
       "Veggies              0     0      0.0000   0.00000   0.00000000 0.00000000\n",
       "HvyAlcoholConsump    0     0      0.0000   0.00000   0.00000000 0.00000000\n",
       "AnyHealthcare        0     0      0.0000   0.00000   0.00000000 0.00000000\n",
       "NoDocbcCost          0     0      0.0000   0.00000   0.00000000 0.00000000\n",
       "GenHlth              0     0      0.0000   0.00000   0.00000000 0.00000000\n",
       "MentHlth             0     0      0.0000   0.00000   0.00000000 0.00000000\n",
       "PhysHlth             0     0      0.0000   0.00000   0.00000000 0.00000000\n",
       "DiffWalk             0     0      0.0000   0.00000   0.00000000 0.00000000\n",
       "Sex                  0     0      0.0000   0.00000   0.00000000 0.00000000\n",
       "Age                  0     0      0.0000   0.00000   0.00000000 0.00000000\n",
       "Education            0     0      0.0000   0.00000   0.00000000 0.00000000\n",
       "Income               0     0      0.0000   0.00000   0.00000000 0.00000000\n",
       "Diabetes_binary      0     0      0.0000   0.00000   0.00000000 0.00000000\n",
       "                     Stroke     HeartDiseaseorAttack PhysActivity Fruits     \n",
       "Index                0.00000000 0.00000000            0.0000000    0.00000000\n",
       "HighBP               0.12960000 0.20940000            0.1253000    0.04055000\n",
       "HighChol             0.09262000 0.18080000            0.0780500    0.04086000\n",
       "CholCheck            0.02416000 0.04421000            0.0041900    0.02385000\n",
       "BMI                  0.02015266 0.05290426           -0.1472936   -0.08751812\n",
       "Smoker               0.06117000 0.11440000            0.0874000    0.07767000\n",
       "Stroke               1.00000000 0.20300000            0.0691500    0.01339000\n",
       "HeartDiseaseorAttack 0.00000000 1.00000000            0.0873000    0.01979000\n",
       "PhysActivity         0.00000000 0.00000000            1.0000000    0.14280000\n",
       "Fruits               0.00000000 0.00000000            0.0000000    1.00000000\n",
       "Veggies              0.00000000 0.00000000            0.0000000    0.00000000\n",
       "HvyAlcoholConsump    0.00000000 0.00000000            0.0000000    0.00000000\n",
       "AnyHealthcare        0.00000000 0.00000000            0.0000000    0.00000000\n",
       "NoDocbcCost          0.00000000 0.00000000            0.0000000    0.00000000\n",
       "GenHlth              0.00000000 0.00000000            0.0000000    0.00000000\n",
       "MentHlth             0.00000000 0.00000000            0.0000000    0.00000000\n",
       "PhysHlth             0.00000000 0.00000000            0.0000000    0.00000000\n",
       "DiffWalk             0.00000000 0.00000000            0.0000000    0.00000000\n",
       "Sex                  0.00000000 0.00000000            0.0000000    0.00000000\n",
       "Age                  0.00000000 0.00000000            0.0000000    0.00000000\n",
       "Education            0.00000000 0.00000000            0.0000000    0.00000000\n",
       "Income               0.00000000 0.00000000            0.0000000    0.00000000\n",
       "Diabetes_binary      0.00000000 0.00000000            0.0000000    0.00000000\n",
       "                     ... NoDocbcCost GenHlth     MentHlth     PhysHlth    \n",
       "Index                ... 0.00000000   0.01120463  0.000000000  0.000000000\n",
       "HighBP               ... 0.01736000   0.27684409  0.056455917  0.161211571\n",
       "HighChol             ... 0.01331000   0.19044111  0.062069154  0.121750528\n",
       "CholCheck            ... 0.05826000   0.04230765 -0.008365598  0.031774808\n",
       "BMI                  ... 0.05820629   0.20044778  0.085310159  0.121141107\n",
       "Smoker               ... 0.04895000   0.14513867  0.092196474  0.116459714\n",
       "Stroke               ... 0.03480000   0.14940699  0.070171812  0.148944169\n",
       "HeartDiseaseorAttack ... 0.03100000   0.22111285  0.064621292  0.181697536\n",
       "PhysActivity         ... 0.06164000  -0.23388958 -0.125587088 -0.219229522\n",
       "Fruits               ... 0.04424000  -0.09627343 -0.068217375 -0.044633325\n",
       "Veggies              ... 0.03223000  -0.11185121 -0.058883553 -0.064290327\n",
       "HvyAlcoholConsump    ... 0.00468400  -0.03215364  0.024715803 -0.026415474\n",
       "AnyHealthcare        ... 0.23250000  -0.03799168 -0.052706597 -0.008276167\n",
       "NoDocbcCost          ... 1.00000000   0.14381687  0.192106853  0.148997564\n",
       "GenHlth              ... 0.00000000   1.00000000  0.204673302  0.390358148\n",
       "MentHlth             ... 0.00000000   0.00000000  1.000000000  0.353618868\n",
       "PhysHlth             ... 0.00000000   0.00000000  0.000000000  1.000000000\n",
       "DiffWalk             ... 0.00000000   0.00000000  0.000000000  0.000000000\n",
       "Sex                  ... 0.00000000   0.00000000  0.000000000  0.000000000\n",
       "Age                  ... 0.00000000   0.00000000  0.000000000  0.000000000\n",
       "Education            ... 0.00000000   0.00000000  0.000000000  0.000000000\n",
       "Income               ... 0.00000000   0.00000000  0.000000000  0.000000000\n",
       "Diabetes_binary      ... 0.00000000   0.00000000  0.000000000  0.000000000\n",
       "                     DiffWalk  Sex          Age          Education   \n",
       "Index                0.0000000  0.000000000 -0.011114543 -0.022069633\n",
       "HighBP               0.2236000  0.052210000  0.293883910 -0.132261074\n",
       "HighChol             0.1447000  0.031210000  0.227197645 -0.064141477\n",
       "CholCheck            0.0405900  0.022120000  0.079782773  0.003605023\n",
       "BMI                  0.1970778  0.042950303 -0.018682591 -0.096272782\n",
       "Smoker               0.1225000  0.093660000  0.101764840 -0.161695760\n",
       "Stroke               0.1766000  0.002978000  0.110086876 -0.067979132\n",
       "HeartDiseaseorAttack 0.2127000  0.086100000  0.194173045 -0.089351076\n",
       "PhysActivity         0.2532000  0.032480000 -0.075105057  0.186553009\n",
       "Fruits               0.0483500  0.091170000  0.057094063  0.107068517\n",
       "Veggies              0.0805100  0.064770000 -0.009572817  0.144059557\n",
       "HvyAlcoholConsump    0.0376700  0.005740000 -0.029965414  0.019798809\n",
       "AnyHealthcare        0.0070740  0.019410000  0.119625441  0.106998261\n",
       "NoDocbcCost          0.1184000  0.044930000 -0.107532972 -0.091225522\n",
       "GenHlth              0.3859114 -0.003228014  0.114303133 -0.236224080\n",
       "MentHlth             0.2336881 -0.080704863 -0.129731426 -0.047084111\n",
       "PhysHlth             0.4784166 -0.043136502  0.040949992 -0.098650266\n",
       "DiffWalk             1.0000000  0.070300000  0.171554443 -0.174726539\n",
       "Sex                  0.0000000  1.000000000 -0.020657202  0.022554582\n",
       "Age                  0.0000000  0.000000000  1.000000000 -0.080601809\n",
       "Education            0.0000000  0.000000000  0.000000000  1.000000000\n",
       "Income               0.0000000  0.000000000  0.000000000  0.000000000\n",
       "Diabetes_binary      0.0000000  0.000000000  0.000000000  0.000000000\n",
       "                     Income      Diabetes_binary\n",
       "Index                -0.02338277  0.00000000    \n",
       "HighBP               -0.15907727  0.26310000    \n",
       "HighChol             -0.07805095  0.20030000    \n",
       "CholCheck             0.01355233  0.06476000    \n",
       "BMI                  -0.06913474  0.21684306    \n",
       "Smoker               -0.11779172  0.06079000    \n",
       "Stroke               -0.10985834  0.10580000    \n",
       "HeartDiseaseorAttack -0.12562478  0.17730000    \n",
       "PhysActivity          0.17937530  0.11810000    \n",
       "Fruits                0.06784869  0.04078000    \n",
       "Veggies               0.13262035  0.05658000    \n",
       "HvyAlcoholConsump     0.04913834  0.05706000    \n",
       "AnyHealthcare         0.13766158  0.01626000    \n",
       "NoDocbcCost          -0.17468003  0.03143000    \n",
       "GenHlth              -0.29196523  0.26260195    \n",
       "MentHlth             -0.12043742  0.06931508    \n",
       "PhysHlth             -0.17883737  0.17133670    \n",
       "DiffWalk             -0.26966510  0.21830000    \n",
       "Sex                   0.11277129  0.03143000    \n",
       "Age                  -0.13460542  0.15156257    \n",
       "Education             0.38077195 -0.11182832    \n",
       "Income                1.00000000 -0.14499818    \n",
       "Diabetes_binary       0.00000000  1.00000000    "
      ]
     },
     "metadata": {},
     "output_type": "display_data"
    }
   ],
   "source": [
    "correlation_matrix"
   ]
  },
  {
   "cell_type": "code",
   "execution_count": 41,
   "id": "6b9933ee-a592-4452-85e6-ec4ad8fa17b8",
   "metadata": {},
   "outputs": [
    {
     "data": {
      "image/png": "[encoded data removed]",
      "text/plain": [
       "Plot with title \"\""
      ]
     },
     "metadata": {
      "image/png": {
       "height": 420,
       "width": 420
      }
     },
     "output_type": "display_data"
    }
   ],
   "source": [
    "corrplot(correlation_matrix, method=\"circle\", type=\"upper\")"
   ]
  },
  {
   "cell_type": "code",
   "execution_count": 42,
   "id": "a35dd5f1-b8fa-4b3d-9970-373b9ea4d6ed",
   "metadata": {},
   "outputs": [
    {
     "name": "stdout",
     "output_type": "stream",
     "text": [
      "[1] \"Index\" \"0\"    \n",
      "[1] \"HighBP\" \"0.2631\"\n",
      "[1] \"HighChol\" \"0.2003\"  \n",
      "[1] \"CholCheck\" \"0.06476\"  \n",
      "[1] \"BMI\"               \"0.216843060203119\"\n",
      "[1] \"Smoker\"  \"0.06079\"\n",
      "[1] \"Stroke\" \"0.1058\"\n",
      "[1] \"HeartDiseaseorAttack\" \"0.1773\"              \n",
      "[1] \"PhysActivity\" \"0.1181\"      \n",
      "[1] \"Fruits\"  \"0.04078\"\n",
      "[1] \"Veggies\" \"0.05658\"\n",
      "[1] \"HvyAlcoholConsump\" \"0.05706\"          \n",
      "[1] \"AnyHealthcare\" \"0.01626\"      \n",
      "[1] \"NoDocbcCost\" \"0.03143\"    \n",
      "[1] \"GenHlth\"           \"0.262601954027565\"\n",
      "[1] \"MentHlth\"           \"0.0693150826383553\"\n",
      "[1] \"PhysHlth\"          \"0.171336700387252\"\n",
      "[1] \"DiffWalk\" \"0.2183\"  \n",
      "[1] \"Sex\"     \"0.03143\"\n",
      "[1] \"Age\"               \"0.151562571648901\"\n",
      "[1] \"Education\"         \"-0.11182832020598\"\n",
      "[1] \"Income\"             \"-0.144998176285264\"\n",
      "[1] \"Diabetes_binary\" \"1\"              \n"
     ]
    }
   ],
   "source": [
    "for (i in 1:nrow(correlation_matrix))\n",
    "{\n",
    "    print(c(rownames(correlation_matrix)[i], correlation_matrix[i, nrow(correlation_matrix)]))\n",
    "}"
   ]
  },
  {
   "cell_type": "markdown",
   "id": "71887d24-4f1e-4bfd-a312-df38c06e4caf",
   "metadata": {},
   "source": [
    "## 4. Model building"
   ]
  },
  {
   "cell_type": "markdown",
   "id": "b0dc4dca-08c4-4448-b187-57e1a2ed13a7",
   "metadata": {},
   "source": [
    "### 4.1. Split data"
   ]
  },
  {
   "cell_type": "code",
   "execution_count": 44,
   "id": "599dc345-0b33-48d3-8430-73b80f4fe18c",
   "metadata": {},
   "outputs": [],
   "source": [
    "set.seed(123)\n",
    "index = createDataPartition(df$Diabetes_binary, p = 0.8, list = FALSE)\n",
    "training_data = df[index, ]\n",
    "testing_data = df[-index, ]"
   ]
  },
  {
   "cell_type": "code",
   "execution_count": 45,
   "id": "b89aa56e-adce-4fe5-a6ac-41a25c42cb77",
   "metadata": {},
   "outputs": [
    {
     "data": {
      "text/html": [
       "202944"
      ],
      "text/latex": [
       "202944"
      ],
      "text/markdown": [
       "202944"
      ],
      "text/plain": [
       "[1] 202944"
      ]
     },
     "metadata": {},
     "output_type": "display_data"
    }
   ],
   "source": [
    "nrow(training_data)"
   ]
  },
  {
   "cell_type": "code",
   "execution_count": 46,
   "id": "c06be67c-3f6d-4b86-aa8d-222461e4f448",
   "metadata": {},
   "outputs": [
    {
     "data": {
      "text/html": [
       "0.139343858404289"
      ],
      "text/latex": [
       "0.139343858404289"
      ],
      "text/markdown": [
       "0.139343858404289"
      ],
      "text/plain": [
       "[1] 0.1393439"
      ]
     },
     "metadata": {},
     "output_type": "display_data"
    }
   ],
   "source": [
    "nrow(training_data[training_data$Diabetes_binary == 1, ]) / nrow(training_data)"
   ]
  },
  {
   "cell_type": "code",
   "execution_count": 47,
   "id": "2f9cd312-cb69-4cf9-9021-c2de3f06b58c",
   "metadata": {},
   "outputs": [
    {
     "data": {
      "text/html": [
       "50736"
      ],
      "text/latex": [
       "50736"
      ],
      "text/markdown": [
       "50736"
      ],
      "text/plain": [
       "[1] 50736"
      ]
     },
     "metadata": {},
     "output_type": "display_data"
    }
   ],
   "source": [
    "nrow(testing_data)"
   ]
  },
  {
   "cell_type": "code",
   "execution_count": 48,
   "id": "f09ae957-3f74-49cf-bec6-9d6b02024897",
   "metadata": {},
   "outputs": [
    {
     "data": {
      "text/html": [
       "0.139289656259855"
      ],
      "text/latex": [
       "0.139289656259855"
      ],
      "text/markdown": [
       "0.139289656259855"
      ],
      "text/plain": [
       "[1] 0.1392897"
      ]
     },
     "metadata": {},
     "output_type": "display_data"
    }
   ],
   "source": [
    "nrow(testing_data[testing_data$Diabetes_binary == 1, ]) / nrow(testing_data)"
   ]
  },
  {
   "cell_type": "markdown",
   "id": "aff67aae-5027-4998-9c29-a44c17d8aedb",
   "metadata": {},
   "source": [
    "### 4.2. Features selection for model building"
   ]
  },
  {
   "cell_type": "markdown",
   "id": "e601c94b-ccdb-47b1-a1c2-fc2334b8e6a6",
   "metadata": {},
   "source": [
    "#### 4.2.1. Univariate linear regression model analysis"
   ]
  },
  {
   "cell_type": "code",
   "execution_count": null,
   "id": "cca3b7ae-260a-43a1-95e0-31c5691800ec",
   "metadata": {},
   "outputs": [],
   "source": []
  },
  {
   "cell_type": "markdown",
   "id": "8031ecda-e200-4701-998a-66c13d9d7dfb",
   "metadata": {},
   "source": [
    "#### 4.2.2. Random forest method"
   ]
  },
  {
   "cell_type": "markdown",
   "id": "f9fe4666-429b-4865-9228-1f928fabf378",
   "metadata": {},
   "source": [
    "## 5. Reserved"
   ]
  },
  {
   "cell_type": "markdown",
   "id": "703b5601-549b-4e94-9da9-b614061db342",
   "metadata": {
    "jp-MarkdownHeadingCollapsed": true
   },
   "source": [
    "#### 3.2.1. BMI"
   ]
  },
  {
   "cell_type": "code",
   "execution_count": null,
   "id": "6b01b00f-31d2-4d67-b49c-f14cf2429cbf",
   "metadata": {},
   "outputs": [],
   "source": [
    "summary(df$BMI)"
   ]
  },
  {
   "cell_type": "code",
   "execution_count": null,
   "id": "79300f0e-ef0c-4b21-9d08-d12c7600c5da",
   "metadata": {},
   "outputs": [],
   "source": [
    "# We see maximum value of BMI is 98 which is abnormal."
   ]
  },
  {
   "cell_type": "code",
   "execution_count": null,
   "id": "f5bad478-6901-42f7-ab1a-26bbf20d536a",
   "metadata": {},
   "outputs": [],
   "source": [
    "# Boxplot data\n",
    "boxplot(df$BMI)"
   ]
  },
  {
   "cell_type": "code",
   "execution_count": null,
   "id": "bef55b95-5eff-4989-9da6-a3fa15ac74b7",
   "metadata": {},
   "outputs": [],
   "source": [
    "# We see that dataset has several outliers in \"BMI\" column."
   ]
  },
  {
   "cell_type": "code",
   "execution_count": null,
   "id": "9ae8423d-e885-4e72-844f-d186196d7d2d",
   "metadata": {},
   "outputs": [],
   "source": [
    "BMI_q1 = quantile(df$BMI, 0.25)\n",
    "BMI_q3 = quantile(df$BMI, 0.75)\n",
    "BMI_iqr = BMI_q3 - BMI_q1\n",
    "BMI_lower_bound = BMI_q1 - 1.5 * BMI_iqr\n",
    "BMI_upper_bound = BMI_q3 + 1.5 * BMI_iqr"
   ]
  },
  {
   "cell_type": "code",
   "execution_count": null,
   "id": "22f02777-1565-494c-ae2d-aa94b22e43f1",
   "metadata": {},
   "outputs": [],
   "source": [
    "BMI_outlier_df = df[df$BMI < BMI_lower_bound | df$BMI > BMI_upper_bound, ]"
   ]
  },
  {
   "cell_type": "code",
   "execution_count": null,
   "id": "cb9a8765-6f3f-42c9-90e5-3f51c6b9b85a",
   "metadata": {},
   "outputs": [],
   "source": [
    "nrow(BMI_outlier_df) / nrow(df) * 100"
   ]
  },
  {
   "cell_type": "code",
   "execution_count": null,
   "id": "12272e2c-17f0-4555-a366-8cebdc0113d1",
   "metadata": {},
   "outputs": [],
   "source": [
    "# We see that the percentage of outliers is approximately about 4%.\n",
    "# Extreme values of BMI that higher 40 could affect the model.\n",
    "\n",
    "# To standardize the BMI index, WHO recommendations is used.\n",
    "# Reference: https://www.who.int/europe/news-room/fact-sheets/item/a-healthy-lifestyle---who-recommendations\n",
    "\n",
    "# |   BMI     | Nutritional Status | Categorical |\n",
    "# |-----------|--------------------|-------------|\n",
    "# | < 18.5    | Underweight        |      1      |\n",
    "# | 18.5–24.9 | Normal weight      |      2      |\n",
    "# | 25.0–29.9 | Pre-obesity        |      3      |\n",
    "# | 30.0–34.9 | Obesity class I    |      4      |\n",
    "# | 35.0–39.9 | Obesity class II   |      5      |\n",
    "# | > 40      | Obesity class III  |      6      |\n",
    "\n",
    "new_column = rep(0, nrow(df))\n",
    "BMI_index = which(colnames(df) == \"BMI\")\n",
    "df_std_1 = cbind(df[,1:BMI_index], StdBMI = new_column, df[,(BMI_index + 1):ncol(df)])"
   ]
  },
  {
   "cell_type": "code",
   "execution_count": null,
   "id": "9837d382-4a36-455d-b9bb-d6a10411e334",
   "metadata": {
    "scrolled": true
   },
   "outputs": [],
   "source": [
    "df_std_1"
   ]
  },
  {
   "cell_type": "code",
   "execution_count": null,
   "id": "6956f4ef-327a-480f-b74c-5d7f32216a68",
   "metadata": {},
   "outputs": [],
   "source": [
    "df_std_1[df_std_1$BMI < 18.5, ]$StdBMI = 1\n",
    "df_std_1[df_std_1$BMI >= 18.5 & df_std_1$BMI < 25, ]$StdBMI = 2\n",
    "df_std_1[df_std_1$BMI >= 25 & df_std_1$BMI < 30, ]$StdBMI = 3\n",
    "df_std_1[df_std_1$BMI >= 30 & df_std_1$BMI < 35, ]$StdBMI = 4\n",
    "df_std_1[df_std_1$BMI >= 35 & df_std_1$BMI < 40, ]$StdBMI = 5\n",
    "df_std_1[df_std_1$BMI >= 40, ]$StdBMI = 6"
   ]
  },
  {
   "cell_type": "code",
   "execution_count": null,
   "id": "023e99cb-972f-4f7c-9cf8-f69ccdf4e6cf",
   "metadata": {
    "scrolled": true
   },
   "outputs": [],
   "source": [
    "df_std_1"
   ]
  },
  {
   "cell_type": "code",
   "execution_count": null,
   "id": "ab02ff33-2f29-44b2-8499-c3cd86e57862",
   "metadata": {},
   "outputs": [],
   "source": [
    "table(df_std_1$StdBMI)"
   ]
  },
  {
   "cell_type": "code",
   "execution_count": null,
   "id": "ea7ba198-b24c-4616-81c3-0621f7559a6f",
   "metadata": {},
   "outputs": [],
   "source": [
    "barplot(table(df_std_1$StdBMI), main=\"BMI groups (WHO recommendation)\")"
   ]
  },
  {
   "cell_type": "code",
   "execution_count": null,
   "id": "87e47738-a1e3-4d80-b6da-9eff7b721d2c",
   "metadata": {},
   "outputs": [],
   "source": [
    "str(df_std_1)"
   ]
  },
  {
   "cell_type": "code",
   "execution_count": null,
   "id": "bce561f7-438f-4bb5-8656-f609d2546a71",
   "metadata": {},
   "outputs": [],
   "source": [
    "# Comment: StdBMI data are categorical."
   ]
  },
  {
   "cell_type": "code",
   "execution_count": null,
   "id": "82072de5-5af3-4d9a-b44f-bf5ab93b411d",
   "metadata": {},
   "outputs": [],
   "source": [
    "# We now must validate the meaningful of this standardizatiton with response variable."
   ]
  },
  {
   "cell_type": "code",
   "execution_count": null,
   "id": "163a7c0e-d01e-4dfe-b08c-97bbb6a5bfa4",
   "metadata": {},
   "outputs": [],
   "source": [
    "table(df_std_1$StdBMI, df_std_1$Diabetes_binary)"
   ]
  },
  {
   "cell_type": "code",
   "execution_count": null,
   "id": "46fdd323-31b6-412c-aa47-b07f656155c8",
   "metadata": {},
   "outputs": [],
   "source": [
    "chisq.test(table(df_std_1$StdBMI, df_std_1$Diabetes_binary))"
   ]
  },
  {
   "cell_type": "code",
   "execution_count": null,
   "id": "87b51987-868a-4293-a384-925bb52d91b2",
   "metadata": {},
   "outputs": [],
   "source": [
    "# Comment: A p-value close to 0 shows that there is a difference between diabetes rates among BMI groups."
   ]
  },
  {
   "cell_type": "markdown",
   "id": "a2941e5e-37c5-4a31-8811-ffee54baffca",
   "metadata": {
    "jp-MarkdownHeadingCollapsed": true
   },
   "source": [
    "#### BMI output: df_std_1"
   ]
  },
  {
   "cell_type": "code",
   "execution_count": null,
   "id": "875b3bdb-30b5-4645-9558-34e38568ecb9",
   "metadata": {},
   "outputs": [],
   "source": [
    "str(df_std_1)"
   ]
  },
  {
   "cell_type": "markdown",
   "id": "f5109655-dfb3-46f3-b18d-0fa2faf5e5ad",
   "metadata": {
    "jp-MarkdownHeadingCollapsed": true
   },
   "source": [
    "#### 3.2.2. MentHlth"
   ]
  },
  {
   "cell_type": "code",
   "execution_count": null,
   "id": "4fafa641-f7ac-46dd-988b-efd202228577",
   "metadata": {},
   "outputs": [],
   "source": [
    "summary(df_std_1$MentHlth)"
   ]
  },
  {
   "cell_type": "code",
   "execution_count": null,
   "id": "690b9ada-f24a-4455-8bf0-ad55677f043a",
   "metadata": {},
   "outputs": [],
   "source": [
    "boxplot(df_std_1$MentHlth)"
   ]
  },
  {
   "cell_type": "code",
   "execution_count": null,
   "id": "3eba3143-5225-44bd-bfd5-2736e1847b5c",
   "metadata": {},
   "outputs": [],
   "source": [
    "barplot(table(df_std_1$MentHlth))"
   ]
  },
  {
   "cell_type": "code",
   "execution_count": null,
   "id": "38d4f703-1e02-4d54-8ca7-95def2e1004f",
   "metadata": {},
   "outputs": [],
   "source": [
    "# We see data with value ZERO is overwhelmed compared to other values.\n",
    "# Create a binary feature indicates that whether a person has mental health problem."
   ]
  },
  {
   "cell_type": "code",
   "execution_count": null,
   "id": "09f8a185-52ef-4e8b-901c-9141963d2dd7",
   "metadata": {},
   "outputs": [],
   "source": [
    "new_column = rep(0, nrow(df_std_1))\n",
    "MentHlth_index = which(colnames(df_std_1) == \"MentHlth\")\n",
    "df_std_2 = cbind(df_std_1[,1:MentHlth_index], BoolMentHlth = new_column, df_std_1[,(MentHlth_index+1):ncol(df_std_1)])"
   ]
  },
  {
   "cell_type": "code",
   "execution_count": null,
   "id": "568c0e26-ed16-426b-a15e-57ef8947412f",
   "metadata": {},
   "outputs": [],
   "source": [
    "df_std_2[df_std_2$MentHlth > 0, ]$BoolMentHlth = 1"
   ]
  },
  {
   "cell_type": "code",
   "execution_count": null,
   "id": "24d3d41f-adeb-4f4e-9da7-6b99ba2928f3",
   "metadata": {},
   "outputs": [],
   "source": [
    "barplot(table(df_std_2$BoolMentHlth), main=\"BoolMentHlth\")"
   ]
  },
  {
   "cell_type": "code",
   "execution_count": null,
   "id": "d83dca07-7520-4b0c-a864-d8cfec7133b2",
   "metadata": {},
   "outputs": [],
   "source": [
    "chisq.test(table(df_std_2$BoolMentHlth, df_std_2$Diabetes_binary))"
   ]
  },
  {
   "cell_type": "code",
   "execution_count": null,
   "id": "fcd5670b-3710-4e6f-a961-766907137ce5",
   "metadata": {},
   "outputs": [],
   "source": [
    "# Comment: A p-value close to 0 shows that there is a difference between diabetes rates among BoolMentHlth groups."
   ]
  },
  {
   "cell_type": "markdown",
   "id": "d188bc2c-1ee5-49b8-99f7-e46df35aa14c",
   "metadata": {
    "jp-MarkdownHeadingCollapsed": true
   },
   "source": [
    "#### MentHlth output: df_std_2"
   ]
  },
  {
   "cell_type": "code",
   "execution_count": null,
   "id": "e68da267-21d8-4630-8376-8b870f33482e",
   "metadata": {},
   "outputs": [],
   "source": [
    "str(df_std_2)"
   ]
  },
  {
   "cell_type": "markdown",
   "id": "a274892c-b135-4763-a7bd-7908bd3e1efe",
   "metadata": {
    "jp-MarkdownHeadingCollapsed": true
   },
   "source": [
    "#### 3.2.3. PhysHlth"
   ]
  },
  {
   "cell_type": "code",
   "execution_count": null,
   "id": "693f946b-5f01-45aa-8564-bf69fc2033ed",
   "metadata": {},
   "outputs": [],
   "source": [
    "summary(df_std_2$PhysHlth)"
   ]
  },
  {
   "cell_type": "code",
   "execution_count": null,
   "id": "ab6845b7-3fdb-4bbc-be6e-e00c21b2d5db",
   "metadata": {},
   "outputs": [],
   "source": [
    "boxplot(df_std_1$PhysHlth)"
   ]
  },
  {
   "cell_type": "code",
   "execution_count": null,
   "id": "30425c6b-12fd-4ca5-9eb5-8145f4d3fa0d",
   "metadata": {},
   "outputs": [],
   "source": [
    "barplot(table(df_std_2$PhysHlth))"
   ]
  },
  {
   "cell_type": "code",
   "execution_count": null,
   "id": "4bdad7b3-b94b-478d-b952-7962507a7d1c",
   "metadata": {},
   "outputs": [],
   "source": [
    "# We see data with value ZERO is overwhelmed compared to other values.\n",
    "# Create a binary feature indicates that whether a person has physical health problem."
   ]
  },
  {
   "cell_type": "code",
   "execution_count": null,
   "id": "04bd03e8-ed64-43e4-a9a2-00cfc657a37b",
   "metadata": {},
   "outputs": [],
   "source": [
    "new_column = rep(0, nrow(df_std_2))\n",
    "PhysHlth_index = which(colnames(df_std_2) == \"PhysHlth\")\n",
    "df_std_3 = cbind(df_std_2[,1:PhysHlth_index], BoolPhysHlth = new_column, df_std_2[,(PhysHlth_index+1):ncol(df_std_2)])"
   ]
  },
  {
   "cell_type": "code",
   "execution_count": null,
   "id": "2d090ce5-b15a-48a8-bbea-e994a5973ed7",
   "metadata": {},
   "outputs": [],
   "source": [
    "df_std_3[df_std_3$PhysHlth > 0, ]$BoolPhysHlth = 1"
   ]
  },
  {
   "cell_type": "code",
   "execution_count": null,
   "id": "f3aa0101-a649-44f6-a755-3866be2f7290",
   "metadata": {},
   "outputs": [],
   "source": [
    "barplot(table(df_std_3$BoolPhysHlth), main=\"BoolPhysHlth\")"
   ]
  },
  {
   "cell_type": "code",
   "execution_count": null,
   "id": "b073a5fc-937b-4632-93b7-01ca4532329e",
   "metadata": {},
   "outputs": [],
   "source": [
    "chisq.test(table(df_std_3$BoolPhysHlth, df_std_3$Diabetes_binary))"
   ]
  },
  {
   "cell_type": "code",
   "execution_count": null,
   "id": "075cd060-028c-44d1-94f9-344617a7585d",
   "metadata": {},
   "outputs": [],
   "source": [
    "# Comment: A p-value close to 0 shows that there is a difference between diabetes rates among BoolPhysHlth groups."
   ]
  },
  {
   "cell_type": "markdown",
   "id": "64f122ad-7b3b-4afb-b006-872462da3a62",
   "metadata": {
    "jp-MarkdownHeadingCollapsed": true
   },
   "source": [
    "#### PhysHlth output: df_std_3"
   ]
  },
  {
   "cell_type": "code",
   "execution_count": null,
   "id": "14ec97cf-bb62-4f95-b8df-794bd0140a5e",
   "metadata": {},
   "outputs": [],
   "source": [
    "str(df_std_3)"
   ]
  },
  {
   "cell_type": "markdown",
   "id": "8c4106f8-5ac5-48fa-b1ee-87d9e5b458e8",
   "metadata": {
    "jp-MarkdownHeadingCollapsed": true
   },
   "source": [
    "## TEST"
   ]
  }
 ],
 "metadata": {
  "kernelspec": {
   "display_name": "R",
   "language": "R",
   "name": "ir"
  },
  "language_info": {
   "codemirror_mode": "r",
   "file_extension": ".r",
   "mimetype": "text/x-r-source",
   "name": "R",
   "pygments_lexer": "r",
   "version": "4.1.2"
  }
 },
 "nbformat": 4,
 "nbformat_minor": 5
}
