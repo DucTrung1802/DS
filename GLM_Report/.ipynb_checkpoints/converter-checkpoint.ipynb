{
 "cells": [
  {
   "cell_type": "code",
   "execution_count": null,
   "id": "eb4097fd-14bd-4d01-96d0-e5c5ae53435a",
   "metadata": {},
   "outputs": [],
   "source": [
    "import numpy as np\n",
    "from scipy.io import loadmat  # this is the SciPy module that loads mat-files\n",
    "import matplotlib.pyplot as plt\n",
    "from datetime import datetime, date, time\n",
    "import pandas as pd\n",
    "\n",
    "mat = loadmat('influenza_outbreak_dataset.mat')  # load mat-file"
   ]
  },
  {
   "cell_type": "code",
   "execution_count": null,
   "id": "32d8913b-9de1-4df3-801e-92e3e35bf756",
   "metadata": {},
   "outputs": [],
   "source": [
    "mdata = mat['measuredData']  # variable in mat file\n",
    "mdtype = mdata.dtype  # dtypes of structures are \"unsized objects\"\n",
    "# * SciPy reads in structures as structured NumPy arrays of dtype object\n",
    "# * The size of the array is the size of the structure array, not the number\n",
    "#   elements in any particular field. The shape defaults to 2-dimensional.\n",
    "# * For convenience make a dictionary of the data using the names from dtypes\n",
    "# * Since the structure has only one element, but is 2-D, index it at [0, 0]\n",
    "ndata = {n: mdata[n][0, 0] for n in mdtype.names}\n",
    "# Reconstruct the columns of the data table from just the time series\n",
    "# Use the number of intervals to test if a field is a column or metadata\n",
    "columns = [n for n, v in ndata.iteritems() if v.size == ndata['numIntervals']]\n",
    "# now make a data frame, setting the time stamps as the index\n",
    "df = pd.DataFrame(np.concatenate([ndata[c] for c in columns], axis=1),\n",
    "                  index=[datetime(*ts) for ts in ndata['timestamps']],\n",
    "                  columns=columns)"
   ]
  }
 ],
 "metadata": {
  "kernelspec": {
   "display_name": "Python 3 (ipykernel)",
   "language": "python",
   "name": "python3"
  },
  "language_info": {
   "codemirror_mode": {
    "name": "ipython",
    "version": 3
   },
   "file_extension": ".py",
   "mimetype": "text/x-python",
   "name": "python",
   "nbconvert_exporter": "python",
   "pygments_lexer": "ipython3",
   "version": "3.11.7"
  }
 },
 "nbformat": 4,
 "nbformat_minor": 5
}
