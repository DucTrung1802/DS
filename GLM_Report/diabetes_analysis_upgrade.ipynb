{
 "cells": [
  {
   "cell_type": "markdown",
   "id": "9775ac29-68f2-4038-a44d-7ddcad6cd76a",
   "metadata": {},
   "source": [
    "# Diabetes Analysis"
   ]
  },
  {
   "cell_type": "markdown",
   "id": "512df902-fb91-4257-a7dd-4c6a1fcd460c",
   "metadata": {},
   "source": [
    "### Author: Ly Duc Trung"
   ]
  },
  {
   "cell_type": "markdown",
   "id": "b9abdf19-0780-46d7-9246-ac0b25747145",
   "metadata": {},
   "source": [
    "### Link: https://github.com/DucTrung1802/DS/blob/main/GLM_Report/diabetes_analysis_upgrade.ipynb"
   ]
  },
  {
   "cell_type": "markdown",
   "id": "deb0884f-4606-4ab4-93f5-43a781e1f32d",
   "metadata": {},
   "source": [
    "### Dataset Link: https://www.archive.ics.uci.edu/dataset/891/cdc+diabetes+health+indicators"
   ]
  },
  {
   "cell_type": "markdown",
   "id": "24268dcc-9c1b-4bc9-803b-930bb7eaa68c",
   "metadata": {},
   "source": [
    "## 0. Install and import libraries"
   ]
  },
  {
   "cell_type": "markdown",
   "id": "fadcda47-91d2-41e0-96f7-eceb060570dc",
   "metadata": {},
   "source": [
    "### 0.1. Check R version"
   ]
  },
  {
   "cell_type": "code",
   "execution_count": 40,
   "id": "a8502f57-a490-4226-ab07-808fa431ce9e",
   "metadata": {},
   "outputs": [
    {
     "data": {
      "text/html": [
       "<dl>\n",
       "\t<dt>$platform</dt>\n",
       "\t\t<dd>'x86_64-w64-mingw32'</dd>\n",
       "\t<dt>$arch</dt>\n",
       "\t\t<dd>'x86_64'</dd>\n",
       "\t<dt>$os</dt>\n",
       "\t\t<dd>'mingw32'</dd>\n",
       "\t<dt>$system</dt>\n",
       "\t\t<dd>'x86_64, mingw32'</dd>\n",
       "\t<dt>$status</dt>\n",
       "\t\t<dd>''</dd>\n",
       "\t<dt>$major</dt>\n",
       "\t\t<dd>'4'</dd>\n",
       "\t<dt>$minor</dt>\n",
       "\t\t<dd>'0.5'</dd>\n",
       "\t<dt>$year</dt>\n",
       "\t\t<dd>'2021'</dd>\n",
       "\t<dt>$month</dt>\n",
       "\t\t<dd>'03'</dd>\n",
       "\t<dt>$day</dt>\n",
       "\t\t<dd>'31'</dd>\n",
       "\t<dt>$`svn rev`</dt>\n",
       "\t\t<dd>'80133'</dd>\n",
       "\t<dt>$language</dt>\n",
       "\t\t<dd>'R'</dd>\n",
       "\t<dt>$version.string</dt>\n",
       "\t\t<dd>'R version 4.0.5 (2021-03-31)'</dd>\n",
       "\t<dt>$nickname</dt>\n",
       "\t\t<dd>'Shake and Throw'</dd>\n",
       "</dl>\n"
      ],
      "text/latex": [
       "\\begin{description}\n",
       "\\item[\\$platform] 'x86\\_64-w64-mingw32'\n",
       "\\item[\\$arch] 'x86\\_64'\n",
       "\\item[\\$os] 'mingw32'\n",
       "\\item[\\$system] 'x86\\_64, mingw32'\n",
       "\\item[\\$status] ''\n",
       "\\item[\\$major] '4'\n",
       "\\item[\\$minor] '0.5'\n",
       "\\item[\\$year] '2021'\n",
       "\\item[\\$month] '03'\n",
       "\\item[\\$day] '31'\n",
       "\\item[\\$`svn rev`] '80133'\n",
       "\\item[\\$language] 'R'\n",
       "\\item[\\$version.string] 'R version 4.0.5 (2021-03-31)'\n",
       "\\item[\\$nickname] 'Shake and Throw'\n",
       "\\end{description}\n"
      ],
      "text/markdown": [
       "$platform\n",
       ":   'x86_64-w64-mingw32'\n",
       "$arch\n",
       ":   'x86_64'\n",
       "$os\n",
       ":   'mingw32'\n",
       "$system\n",
       ":   'x86_64, mingw32'\n",
       "$status\n",
       ":   ''\n",
       "$major\n",
       ":   '4'\n",
       "$minor\n",
       ":   '0.5'\n",
       "$year\n",
       ":   '2021'\n",
       "$month\n",
       ":   '03'\n",
       "$day\n",
       ":   '31'\n",
       "$`svn rev`\n",
       ":   '80133'\n",
       "$language\n",
       ":   'R'\n",
       "$version.string\n",
       ":   'R version 4.0.5 (2021-03-31)'\n",
       "$nickname\n",
       ":   'Shake and Throw'\n",
       "\n",
       "\n"
      ],
      "text/plain": [
       "$platform\n",
       "[1] \"x86_64-w64-mingw32\"\n",
       "\n",
       "$arch\n",
       "[1] \"x86_64\"\n",
       "\n",
       "$os\n",
       "[1] \"mingw32\"\n",
       "\n",
       "$system\n",
       "[1] \"x86_64, mingw32\"\n",
       "\n",
       "$status\n",
       "[1] \"\"\n",
       "\n",
       "$major\n",
       "[1] \"4\"\n",
       "\n",
       "$minor\n",
       "[1] \"0.5\"\n",
       "\n",
       "$year\n",
       "[1] \"2021\"\n",
       "\n",
       "$month\n",
       "[1] \"03\"\n",
       "\n",
       "$day\n",
       "[1] \"31\"\n",
       "\n",
       "$`svn rev`\n",
       "[1] \"80133\"\n",
       "\n",
       "$language\n",
       "[1] \"R\"\n",
       "\n",
       "$version.string\n",
       "[1] \"R version 4.0.5 (2021-03-31)\"\n",
       "\n",
       "$nickname\n",
       "[1] \"Shake and Throw\"\n"
      ]
     },
     "metadata": {},
     "output_type": "display_data"
    }
   ],
   "source": [
    "R.Version()"
   ]
  },
  {
   "cell_type": "markdown",
   "id": "8fb3de35-59ae-4343-890b-5c3879386338",
   "metadata": {},
   "source": [
    "### 0.2. Install"
   ]
  },
  {
   "cell_type": "code",
   "execution_count": 41,
   "id": "f6cb5ab9-48a8-44f5-ae56-4b29fcaa115f",
   "metadata": {},
   "outputs": [],
   "source": [
    "# INSTALL THESE PACKAGES IN CONDA TERMINAL\n"
   ]
  },
  {
   "cell_type": "markdown",
   "id": "6d09d272-1ddb-40e3-9d79-5fc9a6781023",
   "metadata": {},
   "source": [
    "### 0.3. Import"
   ]
  },
  {
   "cell_type": "code",
   "execution_count": 42,
   "id": "54957588-c263-485b-ad1d-a36ffd93e607",
   "metadata": {
    "scrolled": true
   },
   "outputs": [],
   "source": [
    "library(ggplot2)\n",
    "library(ROSE)\n",
    "library(psych)\n",
    "library(DescTools)\n",
    "library(BSDA)\n",
    "library(gmodels)\n",
    "library(rcompanion)\n",
    "library(pcaPP)\n",
    "library(corrplot)\n",
    "library(caret)\n",
    "library(MASS)\n",
    "library(pROC)\n",
    "library(DHARMa)"
   ]
  },
  {
   "cell_type": "code",
   "execution_count": 43,
   "id": "f1c3815e-3de9-4a6f-9af1-f379a1bfaca8",
   "metadata": {},
   "outputs": [],
   "source": [
    "### 0.4. Constants"
   ]
  },
  {
   "cell_type": "code",
   "execution_count": 44,
   "id": "890b3957-3123-4894-963b-2daf43112f5b",
   "metadata": {},
   "outputs": [],
   "source": [
    "SEED = 123\n",
    "MAIN_COLOR = \"#1155cc\""
   ]
  },
  {
   "cell_type": "markdown",
   "id": "da0c30e4-e50c-47ed-acd6-7053b9751020",
   "metadata": {},
   "source": [
    "## 1. Import Data"
   ]
  },
  {
   "cell_type": "code",
   "execution_count": 45,
   "id": "d18a7dba-cc4f-451a-ab11-0aec662256c5",
   "metadata": {},
   "outputs": [],
   "source": [
    "input_data = read.csv(\"diabetes_full_data.csv\")"
   ]
  },
  {
   "cell_type": "code",
   "execution_count": 46,
   "id": "eb04da3a-f418-48cb-880b-e697c54c0cd4",
   "metadata": {},
   "outputs": [],
   "source": [
    "df = data.frame(input_data)"
   ]
  },
  {
   "cell_type": "code",
   "execution_count": 47,
   "id": "36d9ec88-07bb-405a-823c-d0f539fac490",
   "metadata": {},
   "outputs": [
    {
     "data": {
      "text/html": [
       "<table class=\"dataframe\">\n",
       "<caption>A data.frame: 253680 × 23</caption>\n",
       "<thead>\n",
       "\t<tr><th scope=col>X</th><th scope=col>HighBP</th><th scope=col>HighChol</th><th scope=col>CholCheck</th><th scope=col>BMI</th><th scope=col>Smoker</th><th scope=col>Stroke</th><th scope=col>HeartDiseaseorAttack</th><th scope=col>PhysActivity</th><th scope=col>Fruits</th><th scope=col>⋯</th><th scope=col>NoDocbcCost</th><th scope=col>GenHlth</th><th scope=col>MentHlth</th><th scope=col>PhysHlth</th><th scope=col>DiffWalk</th><th scope=col>Sex</th><th scope=col>Age</th><th scope=col>Education</th><th scope=col>Income</th><th scope=col>Diabetes_binary</th></tr>\n",
       "\t<tr><th scope=col>&lt;int&gt;</th><th scope=col>&lt;int&gt;</th><th scope=col>&lt;int&gt;</th><th scope=col>&lt;int&gt;</th><th scope=col>&lt;int&gt;</th><th scope=col>&lt;int&gt;</th><th scope=col>&lt;int&gt;</th><th scope=col>&lt;int&gt;</th><th scope=col>&lt;int&gt;</th><th scope=col>&lt;int&gt;</th><th scope=col>⋯</th><th scope=col>&lt;int&gt;</th><th scope=col>&lt;int&gt;</th><th scope=col>&lt;int&gt;</th><th scope=col>&lt;int&gt;</th><th scope=col>&lt;int&gt;</th><th scope=col>&lt;int&gt;</th><th scope=col>&lt;int&gt;</th><th scope=col>&lt;int&gt;</th><th scope=col>&lt;int&gt;</th><th scope=col>&lt;int&gt;</th></tr>\n",
       "</thead>\n",
       "<tbody>\n",
       "\t<tr><td> 0</td><td>1</td><td>1</td><td>1</td><td>40</td><td>1</td><td>0</td><td>0</td><td>0</td><td>0</td><td>⋯</td><td>0</td><td>5</td><td>18</td><td>15</td><td>1</td><td>0</td><td> 9</td><td>4</td><td>3</td><td>0</td></tr>\n",
       "\t<tr><td> 1</td><td>0</td><td>0</td><td>0</td><td>25</td><td>1</td><td>0</td><td>0</td><td>1</td><td>0</td><td>⋯</td><td>1</td><td>3</td><td> 0</td><td> 0</td><td>0</td><td>0</td><td> 7</td><td>6</td><td>1</td><td>0</td></tr>\n",
       "\t<tr><td> 2</td><td>1</td><td>1</td><td>1</td><td>28</td><td>0</td><td>0</td><td>0</td><td>0</td><td>1</td><td>⋯</td><td>1</td><td>5</td><td>30</td><td>30</td><td>1</td><td>0</td><td> 9</td><td>4</td><td>8</td><td>0</td></tr>\n",
       "\t<tr><td> 3</td><td>1</td><td>0</td><td>1</td><td>27</td><td>0</td><td>0</td><td>0</td><td>1</td><td>1</td><td>⋯</td><td>0</td><td>2</td><td> 0</td><td> 0</td><td>0</td><td>0</td><td>11</td><td>3</td><td>6</td><td>0</td></tr>\n",
       "\t<tr><td> 4</td><td>1</td><td>1</td><td>1</td><td>24</td><td>0</td><td>0</td><td>0</td><td>1</td><td>1</td><td>⋯</td><td>0</td><td>2</td><td> 3</td><td> 0</td><td>0</td><td>0</td><td>11</td><td>5</td><td>4</td><td>0</td></tr>\n",
       "\t<tr><td> 5</td><td>1</td><td>1</td><td>1</td><td>25</td><td>1</td><td>0</td><td>0</td><td>1</td><td>1</td><td>⋯</td><td>0</td><td>2</td><td> 0</td><td> 2</td><td>0</td><td>1</td><td>10</td><td>6</td><td>8</td><td>0</td></tr>\n",
       "\t<tr><td> 6</td><td>1</td><td>0</td><td>1</td><td>30</td><td>1</td><td>0</td><td>0</td><td>0</td><td>0</td><td>⋯</td><td>0</td><td>3</td><td> 0</td><td>14</td><td>0</td><td>0</td><td> 9</td><td>6</td><td>7</td><td>0</td></tr>\n",
       "\t<tr><td> 7</td><td>1</td><td>1</td><td>1</td><td>25</td><td>1</td><td>0</td><td>0</td><td>1</td><td>0</td><td>⋯</td><td>0</td><td>3</td><td> 0</td><td> 0</td><td>1</td><td>0</td><td>11</td><td>4</td><td>4</td><td>0</td></tr>\n",
       "\t<tr><td> 8</td><td>1</td><td>1</td><td>1</td><td>30</td><td>1</td><td>0</td><td>1</td><td>0</td><td>1</td><td>⋯</td><td>0</td><td>5</td><td>30</td><td>30</td><td>1</td><td>0</td><td> 9</td><td>5</td><td>1</td><td>1</td></tr>\n",
       "\t<tr><td> 9</td><td>0</td><td>0</td><td>1</td><td>24</td><td>0</td><td>0</td><td>0</td><td>0</td><td>0</td><td>⋯</td><td>0</td><td>2</td><td> 0</td><td> 0</td><td>0</td><td>1</td><td> 8</td><td>4</td><td>3</td><td>0</td></tr>\n",
       "\t<tr><td>10</td><td>0</td><td>0</td><td>1</td><td>25</td><td>1</td><td>0</td><td>0</td><td>1</td><td>1</td><td>⋯</td><td>0</td><td>3</td><td> 0</td><td> 0</td><td>0</td><td>1</td><td>13</td><td>6</td><td>8</td><td>1</td></tr>\n",
       "\t<tr><td>11</td><td>1</td><td>1</td><td>1</td><td>34</td><td>1</td><td>0</td><td>0</td><td>0</td><td>1</td><td>⋯</td><td>0</td><td>3</td><td> 0</td><td>30</td><td>1</td><td>0</td><td>10</td><td>5</td><td>1</td><td>0</td></tr>\n",
       "\t<tr><td>12</td><td>0</td><td>0</td><td>1</td><td>26</td><td>1</td><td>0</td><td>0</td><td>0</td><td>0</td><td>⋯</td><td>0</td><td>3</td><td> 0</td><td>15</td><td>0</td><td>0</td><td> 7</td><td>5</td><td>7</td><td>0</td></tr>\n",
       "\t<tr><td>13</td><td>1</td><td>1</td><td>1</td><td>28</td><td>0</td><td>0</td><td>0</td><td>0</td><td>0</td><td>⋯</td><td>0</td><td>4</td><td> 0</td><td> 0</td><td>1</td><td>0</td><td>11</td><td>4</td><td>6</td><td>1</td></tr>\n",
       "\t<tr><td>14</td><td>0</td><td>1</td><td>1</td><td>33</td><td>1</td><td>1</td><td>0</td><td>1</td><td>0</td><td>⋯</td><td>1</td><td>4</td><td>30</td><td>28</td><td>0</td><td>0</td><td> 4</td><td>6</td><td>2</td><td>0</td></tr>\n",
       "\t<tr><td>15</td><td>1</td><td>0</td><td>1</td><td>33</td><td>0</td><td>0</td><td>0</td><td>1</td><td>0</td><td>⋯</td><td>0</td><td>2</td><td> 5</td><td> 0</td><td>0</td><td>0</td><td> 6</td><td>6</td><td>8</td><td>0</td></tr>\n",
       "\t<tr><td>16</td><td>1</td><td>1</td><td>1</td><td>21</td><td>0</td><td>0</td><td>0</td><td>1</td><td>1</td><td>⋯</td><td>0</td><td>3</td><td> 0</td><td> 0</td><td>0</td><td>0</td><td>10</td><td>4</td><td>3</td><td>0</td></tr>\n",
       "\t<tr><td>17</td><td>0</td><td>0</td><td>1</td><td>23</td><td>1</td><td>0</td><td>0</td><td>1</td><td>0</td><td>⋯</td><td>0</td><td>2</td><td> 0</td><td> 0</td><td>0</td><td>1</td><td> 7</td><td>5</td><td>6</td><td>1</td></tr>\n",
       "\t<tr><td>18</td><td>0</td><td>0</td><td>0</td><td>23</td><td>0</td><td>0</td><td>0</td><td>0</td><td>0</td><td>⋯</td><td>0</td><td>2</td><td>15</td><td> 0</td><td>0</td><td>0</td><td> 2</td><td>6</td><td>7</td><td>0</td></tr>\n",
       "\t<tr><td>19</td><td>0</td><td>1</td><td>1</td><td>28</td><td>0</td><td>0</td><td>0</td><td>0</td><td>0</td><td>⋯</td><td>0</td><td>2</td><td>10</td><td> 0</td><td>0</td><td>1</td><td> 4</td><td>6</td><td>8</td><td>0</td></tr>\n",
       "\t<tr><td>20</td><td>1</td><td>1</td><td>1</td><td>22</td><td>0</td><td>1</td><td>1</td><td>0</td><td>1</td><td>⋯</td><td>0</td><td>3</td><td>30</td><td> 0</td><td>1</td><td>0</td><td>12</td><td>4</td><td>4</td><td>0</td></tr>\n",
       "\t<tr><td>21</td><td>1</td><td>1</td><td>1</td><td>38</td><td>1</td><td>0</td><td>0</td><td>0</td><td>1</td><td>⋯</td><td>0</td><td>5</td><td>15</td><td>30</td><td>1</td><td>0</td><td>13</td><td>2</td><td>3</td><td>0</td></tr>\n",
       "\t<tr><td>22</td><td>0</td><td>0</td><td>1</td><td>28</td><td>1</td><td>0</td><td>0</td><td>0</td><td>0</td><td>⋯</td><td>0</td><td>3</td><td> 0</td><td> 7</td><td>0</td><td>1</td><td> 5</td><td>5</td><td>5</td><td>0</td></tr>\n",
       "\t<tr><td>23</td><td>1</td><td>0</td><td>1</td><td>27</td><td>0</td><td>0</td><td>0</td><td>1</td><td>1</td><td>⋯</td><td>0</td><td>1</td><td> 0</td><td> 0</td><td>0</td><td>0</td><td>13</td><td>5</td><td>4</td><td>1</td></tr>\n",
       "\t<tr><td>24</td><td>1</td><td>1</td><td>1</td><td>28</td><td>1</td><td>0</td><td>0</td><td>0</td><td>1</td><td>⋯</td><td>0</td><td>3</td><td> 6</td><td> 0</td><td>1</td><td>0</td><td> 9</td><td>4</td><td>6</td><td>0</td></tr>\n",
       "\t<tr><td>25</td><td>0</td><td>0</td><td>1</td><td>32</td><td>0</td><td>0</td><td>0</td><td>1</td><td>1</td><td>⋯</td><td>0</td><td>2</td><td> 0</td><td> 0</td><td>0</td><td>0</td><td> 5</td><td>6</td><td>8</td><td>0</td></tr>\n",
       "\t<tr><td>26</td><td>1</td><td>1</td><td>1</td><td>37</td><td>1</td><td>1</td><td>1</td><td>0</td><td>0</td><td>⋯</td><td>0</td><td>5</td><td> 0</td><td> 0</td><td>1</td><td>1</td><td>10</td><td>6</td><td>5</td><td>1</td></tr>\n",
       "\t<tr><td>27</td><td>1</td><td>1</td><td>1</td><td>28</td><td>1</td><td>0</td><td>1</td><td>0</td><td>0</td><td>⋯</td><td>0</td><td>4</td><td> 0</td><td> 0</td><td>0</td><td>1</td><td>12</td><td>2</td><td>4</td><td>1</td></tr>\n",
       "\t<tr><td>28</td><td>1</td><td>1</td><td>1</td><td>27</td><td>1</td><td>0</td><td>0</td><td>0</td><td>1</td><td>⋯</td><td>0</td><td>4</td><td>20</td><td>20</td><td>1</td><td>0</td><td> 8</td><td>4</td><td>7</td><td>1</td></tr>\n",
       "\t<tr><td>29</td><td>0</td><td>1</td><td>1</td><td>31</td><td>1</td><td>0</td><td>0</td><td>1</td><td>1</td><td>⋯</td><td>0</td><td>1</td><td> 0</td><td> 0</td><td>0</td><td>1</td><td>12</td><td>6</td><td>8</td><td>0</td></tr>\n",
       "\t<tr><td>⋮</td><td>⋮</td><td>⋮</td><td>⋮</td><td>⋮</td><td>⋮</td><td>⋮</td><td>⋮</td><td>⋮</td><td>⋮</td><td>⋱</td><td>⋮</td><td>⋮</td><td>⋮</td><td>⋮</td><td>⋮</td><td>⋮</td><td>⋮</td><td>⋮</td><td>⋮</td><td>⋮</td></tr>\n",
       "\t<tr><td>253650</td><td>1</td><td>0</td><td>1</td><td>27</td><td>0</td><td>0</td><td>0</td><td>1</td><td>0</td><td>⋯</td><td>0</td><td>4</td><td> 0</td><td> 0</td><td>0</td><td>0</td><td> 5</td><td>4</td><td>2</td><td>0</td></tr>\n",
       "\t<tr><td>253651</td><td>0</td><td>0</td><td>1</td><td>24</td><td>0</td><td>0</td><td>0</td><td>1</td><td>1</td><td>⋯</td><td>1</td><td>1</td><td> 0</td><td> 0</td><td>0</td><td>1</td><td> 2</td><td>6</td><td>3</td><td>0</td></tr>\n",
       "\t<tr><td>253652</td><td>0</td><td>1</td><td>1</td><td>27</td><td>0</td><td>0</td><td>0</td><td>1</td><td>1</td><td>⋯</td><td>0</td><td>4</td><td> 0</td><td>30</td><td>0</td><td>1</td><td>11</td><td>2</td><td>3</td><td>1</td></tr>\n",
       "\t<tr><td>253653</td><td>0</td><td>0</td><td>1</td><td>33</td><td>1</td><td>0</td><td>0</td><td>0</td><td>1</td><td>⋯</td><td>0</td><td>4</td><td> 0</td><td>15</td><td>0</td><td>1</td><td>10</td><td>6</td><td>3</td><td>0</td></tr>\n",
       "\t<tr><td>253654</td><td>0</td><td>0</td><td>1</td><td>26</td><td>1</td><td>0</td><td>0</td><td>1</td><td>1</td><td>⋯</td><td>0</td><td>2</td><td> 1</td><td> 0</td><td>0</td><td>1</td><td> 3</td><td>3</td><td>1</td><td>0</td></tr>\n",
       "\t<tr><td>253655</td><td>0</td><td>0</td><td>1</td><td>28</td><td>0</td><td>0</td><td>0</td><td>1</td><td>1</td><td>⋯</td><td>0</td><td>2</td><td> 0</td><td> 0</td><td>0</td><td>0</td><td> 2</td><td>6</td><td>4</td><td>0</td></tr>\n",
       "\t<tr><td>253656</td><td>0</td><td>0</td><td>1</td><td>25</td><td>0</td><td>0</td><td>0</td><td>1</td><td>1</td><td>⋯</td><td>0</td><td>1</td><td> 0</td><td> 0</td><td>0</td><td>0</td><td> 4</td><td>6</td><td>8</td><td>0</td></tr>\n",
       "\t<tr><td>253657</td><td>0</td><td>1</td><td>1</td><td>24</td><td>0</td><td>0</td><td>0</td><td>0</td><td>0</td><td>⋯</td><td>0</td><td>3</td><td> 0</td><td> 0</td><td>0</td><td>0</td><td> 7</td><td>5</td><td>3</td><td>0</td></tr>\n",
       "\t<tr><td>253658</td><td>0</td><td>0</td><td>0</td><td>27</td><td>0</td><td>0</td><td>0</td><td>1</td><td>0</td><td>⋯</td><td>1</td><td>2</td><td> 0</td><td> 0</td><td>0</td><td>0</td><td> 3</td><td>6</td><td>5</td><td>0</td></tr>\n",
       "\t<tr><td>253659</td><td>0</td><td>1</td><td>1</td><td>37</td><td>0</td><td>0</td><td>0</td><td>0</td><td>0</td><td>⋯</td><td>0</td><td>4</td><td> 0</td><td> 0</td><td>0</td><td>0</td><td> 6</td><td>4</td><td>1</td><td>1</td></tr>\n",
       "\t<tr><td>253660</td><td>0</td><td>1</td><td>1</td><td>34</td><td>1</td><td>0</td><td>0</td><td>0</td><td>1</td><td>⋯</td><td>0</td><td>3</td><td> 0</td><td> 2</td><td>1</td><td>0</td><td> 7</td><td>4</td><td>3</td><td>0</td></tr>\n",
       "\t<tr><td>253661</td><td>1</td><td>0</td><td>1</td><td>33</td><td>0</td><td>0</td><td>0</td><td>1</td><td>0</td><td>⋯</td><td>1</td><td>3</td><td> 0</td><td> 2</td><td>1</td><td>0</td><td> 6</td><td>6</td><td>6</td><td>0</td></tr>\n",
       "\t<tr><td>253662</td><td>0</td><td>0</td><td>1</td><td>16</td><td>0</td><td>0</td><td>0</td><td>1</td><td>0</td><td>⋯</td><td>0</td><td>1</td><td> 0</td><td> 0</td><td>0</td><td>0</td><td> 5</td><td>6</td><td>2</td><td>0</td></tr>\n",
       "\t<tr><td>253663</td><td>0</td><td>0</td><td>1</td><td>23</td><td>0</td><td>0</td><td>0</td><td>0</td><td>1</td><td>⋯</td><td>1</td><td>2</td><td> 0</td><td>30</td><td>0</td><td>0</td><td> 5</td><td>6</td><td>2</td><td>0</td></tr>\n",
       "\t<tr><td>253664</td><td>0</td><td>1</td><td>1</td><td>29</td><td>1</td><td>0</td><td>0</td><td>0</td><td>0</td><td>⋯</td><td>0</td><td>3</td><td> 0</td><td> 0</td><td>0</td><td>0</td><td> 6</td><td>6</td><td>4</td><td>0</td></tr>\n",
       "\t<tr><td>253665</td><td>0</td><td>1</td><td>1</td><td>17</td><td>0</td><td>0</td><td>0</td><td>0</td><td>0</td><td>⋯</td><td>1</td><td>4</td><td>30</td><td>30</td><td>0</td><td>0</td><td> 5</td><td>4</td><td>1</td><td>0</td></tr>\n",
       "\t<tr><td>253666</td><td>1</td><td>0</td><td>1</td><td>23</td><td>0</td><td>0</td><td>0</td><td>0</td><td>1</td><td>⋯</td><td>0</td><td>3</td><td> 0</td><td>15</td><td>0</td><td>0</td><td> 6</td><td>5</td><td>2</td><td>0</td></tr>\n",
       "\t<tr><td>253667</td><td>1</td><td>1</td><td>1</td><td>28</td><td>1</td><td>0</td><td>0</td><td>0</td><td>0</td><td>⋯</td><td>0</td><td>3</td><td> 0</td><td> 0</td><td>0</td><td>0</td><td>11</td><td>4</td><td>7</td><td>0</td></tr>\n",
       "\t<tr><td>253668</td><td>0</td><td>1</td><td>1</td><td>29</td><td>1</td><td>0</td><td>1</td><td>0</td><td>1</td><td>⋯</td><td>0</td><td>2</td><td> 0</td><td> 0</td><td>1</td><td>1</td><td>10</td><td>3</td><td>6</td><td>1</td></tr>\n",
       "\t<tr><td>253669</td><td>0</td><td>1</td><td>1</td><td>27</td><td>0</td><td>0</td><td>0</td><td>0</td><td>0</td><td>⋯</td><td>1</td><td>1</td><td> 0</td><td> 3</td><td>0</td><td>1</td><td> 6</td><td>2</td><td>4</td><td>0</td></tr>\n",
       "\t<tr><td>253670</td><td>1</td><td>1</td><td>1</td><td>25</td><td>0</td><td>0</td><td>1</td><td>0</td><td>1</td><td>⋯</td><td>0</td><td>5</td><td>15</td><td> 0</td><td>1</td><td>0</td><td>13</td><td>6</td><td>4</td><td>1</td></tr>\n",
       "\t<tr><td>253671</td><td>1</td><td>1</td><td>1</td><td>23</td><td>0</td><td>1</td><td>1</td><td>0</td><td>0</td><td>⋯</td><td>1</td><td>4</td><td> 0</td><td> 5</td><td>0</td><td>1</td><td> 8</td><td>3</td><td>2</td><td>0</td></tr>\n",
       "\t<tr><td>253672</td><td>1</td><td>0</td><td>1</td><td>30</td><td>1</td><td>0</td><td>1</td><td>1</td><td>1</td><td>⋯</td><td>0</td><td>3</td><td> 0</td><td> 0</td><td>0</td><td>1</td><td>12</td><td>2</td><td>1</td><td>0</td></tr>\n",
       "\t<tr><td>253673</td><td>1</td><td>0</td><td>1</td><td>42</td><td>0</td><td>0</td><td>0</td><td>1</td><td>1</td><td>⋯</td><td>0</td><td>3</td><td>14</td><td> 4</td><td>0</td><td>1</td><td> 3</td><td>6</td><td>8</td><td>0</td></tr>\n",
       "\t<tr><td>253674</td><td>0</td><td>0</td><td>1</td><td>27</td><td>0</td><td>0</td><td>0</td><td>0</td><td>0</td><td>⋯</td><td>0</td><td>1</td><td> 0</td><td> 0</td><td>0</td><td>0</td><td> 3</td><td>6</td><td>5</td><td>0</td></tr>\n",
       "\t<tr><td>253675</td><td>1</td><td>1</td><td>1</td><td>45</td><td>0</td><td>0</td><td>0</td><td>0</td><td>1</td><td>⋯</td><td>0</td><td>3</td><td> 0</td><td> 5</td><td>0</td><td>1</td><td> 5</td><td>6</td><td>7</td><td>0</td></tr>\n",
       "\t<tr><td>253676</td><td>1</td><td>1</td><td>1</td><td>18</td><td>0</td><td>0</td><td>0</td><td>0</td><td>0</td><td>⋯</td><td>0</td><td>4</td><td> 0</td><td> 0</td><td>1</td><td>0</td><td>11</td><td>2</td><td>4</td><td>1</td></tr>\n",
       "\t<tr><td>253677</td><td>0</td><td>0</td><td>1</td><td>28</td><td>0</td><td>0</td><td>0</td><td>1</td><td>1</td><td>⋯</td><td>0</td><td>1</td><td> 0</td><td> 0</td><td>0</td><td>0</td><td> 2</td><td>5</td><td>2</td><td>0</td></tr>\n",
       "\t<tr><td>253678</td><td>1</td><td>0</td><td>1</td><td>23</td><td>0</td><td>0</td><td>0</td><td>0</td><td>1</td><td>⋯</td><td>0</td><td>3</td><td> 0</td><td> 0</td><td>0</td><td>1</td><td> 7</td><td>5</td><td>1</td><td>0</td></tr>\n",
       "\t<tr><td>253679</td><td>1</td><td>1</td><td>1</td><td>25</td><td>0</td><td>0</td><td>1</td><td>1</td><td>1</td><td>⋯</td><td>0</td><td>2</td><td> 0</td><td> 0</td><td>0</td><td>0</td><td> 9</td><td>6</td><td>2</td><td>1</td></tr>\n",
       "</tbody>\n",
       "</table>\n"
      ],
      "text/latex": [
       "A data.frame: 253680 × 23\n",
       "\\begin{tabular}{lllllllllllllllllllll}\n",
       " X & HighBP & HighChol & CholCheck & BMI & Smoker & Stroke & HeartDiseaseorAttack & PhysActivity & Fruits & ⋯ & NoDocbcCost & GenHlth & MentHlth & PhysHlth & DiffWalk & Sex & Age & Education & Income & Diabetes\\_binary\\\\\n",
       " <int> & <int> & <int> & <int> & <int> & <int> & <int> & <int> & <int> & <int> & ⋯ & <int> & <int> & <int> & <int> & <int> & <int> & <int> & <int> & <int> & <int>\\\\\n",
       "\\hline\n",
       "\t  0 & 1 & 1 & 1 & 40 & 1 & 0 & 0 & 0 & 0 & ⋯ & 0 & 5 & 18 & 15 & 1 & 0 &  9 & 4 & 3 & 0\\\\\n",
       "\t  1 & 0 & 0 & 0 & 25 & 1 & 0 & 0 & 1 & 0 & ⋯ & 1 & 3 &  0 &  0 & 0 & 0 &  7 & 6 & 1 & 0\\\\\n",
       "\t  2 & 1 & 1 & 1 & 28 & 0 & 0 & 0 & 0 & 1 & ⋯ & 1 & 5 & 30 & 30 & 1 & 0 &  9 & 4 & 8 & 0\\\\\n",
       "\t  3 & 1 & 0 & 1 & 27 & 0 & 0 & 0 & 1 & 1 & ⋯ & 0 & 2 &  0 &  0 & 0 & 0 & 11 & 3 & 6 & 0\\\\\n",
       "\t  4 & 1 & 1 & 1 & 24 & 0 & 0 & 0 & 1 & 1 & ⋯ & 0 & 2 &  3 &  0 & 0 & 0 & 11 & 5 & 4 & 0\\\\\n",
       "\t  5 & 1 & 1 & 1 & 25 & 1 & 0 & 0 & 1 & 1 & ⋯ & 0 & 2 &  0 &  2 & 0 & 1 & 10 & 6 & 8 & 0\\\\\n",
       "\t  6 & 1 & 0 & 1 & 30 & 1 & 0 & 0 & 0 & 0 & ⋯ & 0 & 3 &  0 & 14 & 0 & 0 &  9 & 6 & 7 & 0\\\\\n",
       "\t  7 & 1 & 1 & 1 & 25 & 1 & 0 & 0 & 1 & 0 & ⋯ & 0 & 3 &  0 &  0 & 1 & 0 & 11 & 4 & 4 & 0\\\\\n",
       "\t  8 & 1 & 1 & 1 & 30 & 1 & 0 & 1 & 0 & 1 & ⋯ & 0 & 5 & 30 & 30 & 1 & 0 &  9 & 5 & 1 & 1\\\\\n",
       "\t  9 & 0 & 0 & 1 & 24 & 0 & 0 & 0 & 0 & 0 & ⋯ & 0 & 2 &  0 &  0 & 0 & 1 &  8 & 4 & 3 & 0\\\\\n",
       "\t 10 & 0 & 0 & 1 & 25 & 1 & 0 & 0 & 1 & 1 & ⋯ & 0 & 3 &  0 &  0 & 0 & 1 & 13 & 6 & 8 & 1\\\\\n",
       "\t 11 & 1 & 1 & 1 & 34 & 1 & 0 & 0 & 0 & 1 & ⋯ & 0 & 3 &  0 & 30 & 1 & 0 & 10 & 5 & 1 & 0\\\\\n",
       "\t 12 & 0 & 0 & 1 & 26 & 1 & 0 & 0 & 0 & 0 & ⋯ & 0 & 3 &  0 & 15 & 0 & 0 &  7 & 5 & 7 & 0\\\\\n",
       "\t 13 & 1 & 1 & 1 & 28 & 0 & 0 & 0 & 0 & 0 & ⋯ & 0 & 4 &  0 &  0 & 1 & 0 & 11 & 4 & 6 & 1\\\\\n",
       "\t 14 & 0 & 1 & 1 & 33 & 1 & 1 & 0 & 1 & 0 & ⋯ & 1 & 4 & 30 & 28 & 0 & 0 &  4 & 6 & 2 & 0\\\\\n",
       "\t 15 & 1 & 0 & 1 & 33 & 0 & 0 & 0 & 1 & 0 & ⋯ & 0 & 2 &  5 &  0 & 0 & 0 &  6 & 6 & 8 & 0\\\\\n",
       "\t 16 & 1 & 1 & 1 & 21 & 0 & 0 & 0 & 1 & 1 & ⋯ & 0 & 3 &  0 &  0 & 0 & 0 & 10 & 4 & 3 & 0\\\\\n",
       "\t 17 & 0 & 0 & 1 & 23 & 1 & 0 & 0 & 1 & 0 & ⋯ & 0 & 2 &  0 &  0 & 0 & 1 &  7 & 5 & 6 & 1\\\\\n",
       "\t 18 & 0 & 0 & 0 & 23 & 0 & 0 & 0 & 0 & 0 & ⋯ & 0 & 2 & 15 &  0 & 0 & 0 &  2 & 6 & 7 & 0\\\\\n",
       "\t 19 & 0 & 1 & 1 & 28 & 0 & 0 & 0 & 0 & 0 & ⋯ & 0 & 2 & 10 &  0 & 0 & 1 &  4 & 6 & 8 & 0\\\\\n",
       "\t 20 & 1 & 1 & 1 & 22 & 0 & 1 & 1 & 0 & 1 & ⋯ & 0 & 3 & 30 &  0 & 1 & 0 & 12 & 4 & 4 & 0\\\\\n",
       "\t 21 & 1 & 1 & 1 & 38 & 1 & 0 & 0 & 0 & 1 & ⋯ & 0 & 5 & 15 & 30 & 1 & 0 & 13 & 2 & 3 & 0\\\\\n",
       "\t 22 & 0 & 0 & 1 & 28 & 1 & 0 & 0 & 0 & 0 & ⋯ & 0 & 3 &  0 &  7 & 0 & 1 &  5 & 5 & 5 & 0\\\\\n",
       "\t 23 & 1 & 0 & 1 & 27 & 0 & 0 & 0 & 1 & 1 & ⋯ & 0 & 1 &  0 &  0 & 0 & 0 & 13 & 5 & 4 & 1\\\\\n",
       "\t 24 & 1 & 1 & 1 & 28 & 1 & 0 & 0 & 0 & 1 & ⋯ & 0 & 3 &  6 &  0 & 1 & 0 &  9 & 4 & 6 & 0\\\\\n",
       "\t 25 & 0 & 0 & 1 & 32 & 0 & 0 & 0 & 1 & 1 & ⋯ & 0 & 2 &  0 &  0 & 0 & 0 &  5 & 6 & 8 & 0\\\\\n",
       "\t 26 & 1 & 1 & 1 & 37 & 1 & 1 & 1 & 0 & 0 & ⋯ & 0 & 5 &  0 &  0 & 1 & 1 & 10 & 6 & 5 & 1\\\\\n",
       "\t 27 & 1 & 1 & 1 & 28 & 1 & 0 & 1 & 0 & 0 & ⋯ & 0 & 4 &  0 &  0 & 0 & 1 & 12 & 2 & 4 & 1\\\\\n",
       "\t 28 & 1 & 1 & 1 & 27 & 1 & 0 & 0 & 0 & 1 & ⋯ & 0 & 4 & 20 & 20 & 1 & 0 &  8 & 4 & 7 & 1\\\\\n",
       "\t 29 & 0 & 1 & 1 & 31 & 1 & 0 & 0 & 1 & 1 & ⋯ & 0 & 1 &  0 &  0 & 0 & 1 & 12 & 6 & 8 & 0\\\\\n",
       "\t ⋮ & ⋮ & ⋮ & ⋮ & ⋮ & ⋮ & ⋮ & ⋮ & ⋮ & ⋮ & ⋱ & ⋮ & ⋮ & ⋮ & ⋮ & ⋮ & ⋮ & ⋮ & ⋮ & ⋮ & ⋮\\\\\n",
       "\t 253650 & 1 & 0 & 1 & 27 & 0 & 0 & 0 & 1 & 0 & ⋯ & 0 & 4 &  0 &  0 & 0 & 0 &  5 & 4 & 2 & 0\\\\\n",
       "\t 253651 & 0 & 0 & 1 & 24 & 0 & 0 & 0 & 1 & 1 & ⋯ & 1 & 1 &  0 &  0 & 0 & 1 &  2 & 6 & 3 & 0\\\\\n",
       "\t 253652 & 0 & 1 & 1 & 27 & 0 & 0 & 0 & 1 & 1 & ⋯ & 0 & 4 &  0 & 30 & 0 & 1 & 11 & 2 & 3 & 1\\\\\n",
       "\t 253653 & 0 & 0 & 1 & 33 & 1 & 0 & 0 & 0 & 1 & ⋯ & 0 & 4 &  0 & 15 & 0 & 1 & 10 & 6 & 3 & 0\\\\\n",
       "\t 253654 & 0 & 0 & 1 & 26 & 1 & 0 & 0 & 1 & 1 & ⋯ & 0 & 2 &  1 &  0 & 0 & 1 &  3 & 3 & 1 & 0\\\\\n",
       "\t 253655 & 0 & 0 & 1 & 28 & 0 & 0 & 0 & 1 & 1 & ⋯ & 0 & 2 &  0 &  0 & 0 & 0 &  2 & 6 & 4 & 0\\\\\n",
       "\t 253656 & 0 & 0 & 1 & 25 & 0 & 0 & 0 & 1 & 1 & ⋯ & 0 & 1 &  0 &  0 & 0 & 0 &  4 & 6 & 8 & 0\\\\\n",
       "\t 253657 & 0 & 1 & 1 & 24 & 0 & 0 & 0 & 0 & 0 & ⋯ & 0 & 3 &  0 &  0 & 0 & 0 &  7 & 5 & 3 & 0\\\\\n",
       "\t 253658 & 0 & 0 & 0 & 27 & 0 & 0 & 0 & 1 & 0 & ⋯ & 1 & 2 &  0 &  0 & 0 & 0 &  3 & 6 & 5 & 0\\\\\n",
       "\t 253659 & 0 & 1 & 1 & 37 & 0 & 0 & 0 & 0 & 0 & ⋯ & 0 & 4 &  0 &  0 & 0 & 0 &  6 & 4 & 1 & 1\\\\\n",
       "\t 253660 & 0 & 1 & 1 & 34 & 1 & 0 & 0 & 0 & 1 & ⋯ & 0 & 3 &  0 &  2 & 1 & 0 &  7 & 4 & 3 & 0\\\\\n",
       "\t 253661 & 1 & 0 & 1 & 33 & 0 & 0 & 0 & 1 & 0 & ⋯ & 1 & 3 &  0 &  2 & 1 & 0 &  6 & 6 & 6 & 0\\\\\n",
       "\t 253662 & 0 & 0 & 1 & 16 & 0 & 0 & 0 & 1 & 0 & ⋯ & 0 & 1 &  0 &  0 & 0 & 0 &  5 & 6 & 2 & 0\\\\\n",
       "\t 253663 & 0 & 0 & 1 & 23 & 0 & 0 & 0 & 0 & 1 & ⋯ & 1 & 2 &  0 & 30 & 0 & 0 &  5 & 6 & 2 & 0\\\\\n",
       "\t 253664 & 0 & 1 & 1 & 29 & 1 & 0 & 0 & 0 & 0 & ⋯ & 0 & 3 &  0 &  0 & 0 & 0 &  6 & 6 & 4 & 0\\\\\n",
       "\t 253665 & 0 & 1 & 1 & 17 & 0 & 0 & 0 & 0 & 0 & ⋯ & 1 & 4 & 30 & 30 & 0 & 0 &  5 & 4 & 1 & 0\\\\\n",
       "\t 253666 & 1 & 0 & 1 & 23 & 0 & 0 & 0 & 0 & 1 & ⋯ & 0 & 3 &  0 & 15 & 0 & 0 &  6 & 5 & 2 & 0\\\\\n",
       "\t 253667 & 1 & 1 & 1 & 28 & 1 & 0 & 0 & 0 & 0 & ⋯ & 0 & 3 &  0 &  0 & 0 & 0 & 11 & 4 & 7 & 0\\\\\n",
       "\t 253668 & 0 & 1 & 1 & 29 & 1 & 0 & 1 & 0 & 1 & ⋯ & 0 & 2 &  0 &  0 & 1 & 1 & 10 & 3 & 6 & 1\\\\\n",
       "\t 253669 & 0 & 1 & 1 & 27 & 0 & 0 & 0 & 0 & 0 & ⋯ & 1 & 1 &  0 &  3 & 0 & 1 &  6 & 2 & 4 & 0\\\\\n",
       "\t 253670 & 1 & 1 & 1 & 25 & 0 & 0 & 1 & 0 & 1 & ⋯ & 0 & 5 & 15 &  0 & 1 & 0 & 13 & 6 & 4 & 1\\\\\n",
       "\t 253671 & 1 & 1 & 1 & 23 & 0 & 1 & 1 & 0 & 0 & ⋯ & 1 & 4 &  0 &  5 & 0 & 1 &  8 & 3 & 2 & 0\\\\\n",
       "\t 253672 & 1 & 0 & 1 & 30 & 1 & 0 & 1 & 1 & 1 & ⋯ & 0 & 3 &  0 &  0 & 0 & 1 & 12 & 2 & 1 & 0\\\\\n",
       "\t 253673 & 1 & 0 & 1 & 42 & 0 & 0 & 0 & 1 & 1 & ⋯ & 0 & 3 & 14 &  4 & 0 & 1 &  3 & 6 & 8 & 0\\\\\n",
       "\t 253674 & 0 & 0 & 1 & 27 & 0 & 0 & 0 & 0 & 0 & ⋯ & 0 & 1 &  0 &  0 & 0 & 0 &  3 & 6 & 5 & 0\\\\\n",
       "\t 253675 & 1 & 1 & 1 & 45 & 0 & 0 & 0 & 0 & 1 & ⋯ & 0 & 3 &  0 &  5 & 0 & 1 &  5 & 6 & 7 & 0\\\\\n",
       "\t 253676 & 1 & 1 & 1 & 18 & 0 & 0 & 0 & 0 & 0 & ⋯ & 0 & 4 &  0 &  0 & 1 & 0 & 11 & 2 & 4 & 1\\\\\n",
       "\t 253677 & 0 & 0 & 1 & 28 & 0 & 0 & 0 & 1 & 1 & ⋯ & 0 & 1 &  0 &  0 & 0 & 0 &  2 & 5 & 2 & 0\\\\\n",
       "\t 253678 & 1 & 0 & 1 & 23 & 0 & 0 & 0 & 0 & 1 & ⋯ & 0 & 3 &  0 &  0 & 0 & 1 &  7 & 5 & 1 & 0\\\\\n",
       "\t 253679 & 1 & 1 & 1 & 25 & 0 & 0 & 1 & 1 & 1 & ⋯ & 0 & 2 &  0 &  0 & 0 & 0 &  9 & 6 & 2 & 1\\\\\n",
       "\\end{tabular}\n"
      ],
      "text/markdown": [
       "\n",
       "A data.frame: 253680 × 23\n",
       "\n",
       "| X &lt;int&gt; | HighBP &lt;int&gt; | HighChol &lt;int&gt; | CholCheck &lt;int&gt; | BMI &lt;int&gt; | Smoker &lt;int&gt; | Stroke &lt;int&gt; | HeartDiseaseorAttack &lt;int&gt; | PhysActivity &lt;int&gt; | Fruits &lt;int&gt; | ⋯ ⋯ | NoDocbcCost &lt;int&gt; | GenHlth &lt;int&gt; | MentHlth &lt;int&gt; | PhysHlth &lt;int&gt; | DiffWalk &lt;int&gt; | Sex &lt;int&gt; | Age &lt;int&gt; | Education &lt;int&gt; | Income &lt;int&gt; | Diabetes_binary &lt;int&gt; |\n",
       "|---|---|---|---|---|---|---|---|---|---|---|---|---|---|---|---|---|---|---|---|---|\n",
       "|  0 | 1 | 1 | 1 | 40 | 1 | 0 | 0 | 0 | 0 | ⋯ | 0 | 5 | 18 | 15 | 1 | 0 |  9 | 4 | 3 | 0 |\n",
       "|  1 | 0 | 0 | 0 | 25 | 1 | 0 | 0 | 1 | 0 | ⋯ | 1 | 3 |  0 |  0 | 0 | 0 |  7 | 6 | 1 | 0 |\n",
       "|  2 | 1 | 1 | 1 | 28 | 0 | 0 | 0 | 0 | 1 | ⋯ | 1 | 5 | 30 | 30 | 1 | 0 |  9 | 4 | 8 | 0 |\n",
       "|  3 | 1 | 0 | 1 | 27 | 0 | 0 | 0 | 1 | 1 | ⋯ | 0 | 2 |  0 |  0 | 0 | 0 | 11 | 3 | 6 | 0 |\n",
       "|  4 | 1 | 1 | 1 | 24 | 0 | 0 | 0 | 1 | 1 | ⋯ | 0 | 2 |  3 |  0 | 0 | 0 | 11 | 5 | 4 | 0 |\n",
       "|  5 | 1 | 1 | 1 | 25 | 1 | 0 | 0 | 1 | 1 | ⋯ | 0 | 2 |  0 |  2 | 0 | 1 | 10 | 6 | 8 | 0 |\n",
       "|  6 | 1 | 0 | 1 | 30 | 1 | 0 | 0 | 0 | 0 | ⋯ | 0 | 3 |  0 | 14 | 0 | 0 |  9 | 6 | 7 | 0 |\n",
       "|  7 | 1 | 1 | 1 | 25 | 1 | 0 | 0 | 1 | 0 | ⋯ | 0 | 3 |  0 |  0 | 1 | 0 | 11 | 4 | 4 | 0 |\n",
       "|  8 | 1 | 1 | 1 | 30 | 1 | 0 | 1 | 0 | 1 | ⋯ | 0 | 5 | 30 | 30 | 1 | 0 |  9 | 5 | 1 | 1 |\n",
       "|  9 | 0 | 0 | 1 | 24 | 0 | 0 | 0 | 0 | 0 | ⋯ | 0 | 2 |  0 |  0 | 0 | 1 |  8 | 4 | 3 | 0 |\n",
       "| 10 | 0 | 0 | 1 | 25 | 1 | 0 | 0 | 1 | 1 | ⋯ | 0 | 3 |  0 |  0 | 0 | 1 | 13 | 6 | 8 | 1 |\n",
       "| 11 | 1 | 1 | 1 | 34 | 1 | 0 | 0 | 0 | 1 | ⋯ | 0 | 3 |  0 | 30 | 1 | 0 | 10 | 5 | 1 | 0 |\n",
       "| 12 | 0 | 0 | 1 | 26 | 1 | 0 | 0 | 0 | 0 | ⋯ | 0 | 3 |  0 | 15 | 0 | 0 |  7 | 5 | 7 | 0 |\n",
       "| 13 | 1 | 1 | 1 | 28 | 0 | 0 | 0 | 0 | 0 | ⋯ | 0 | 4 |  0 |  0 | 1 | 0 | 11 | 4 | 6 | 1 |\n",
       "| 14 | 0 | 1 | 1 | 33 | 1 | 1 | 0 | 1 | 0 | ⋯ | 1 | 4 | 30 | 28 | 0 | 0 |  4 | 6 | 2 | 0 |\n",
       "| 15 | 1 | 0 | 1 | 33 | 0 | 0 | 0 | 1 | 0 | ⋯ | 0 | 2 |  5 |  0 | 0 | 0 |  6 | 6 | 8 | 0 |\n",
       "| 16 | 1 | 1 | 1 | 21 | 0 | 0 | 0 | 1 | 1 | ⋯ | 0 | 3 |  0 |  0 | 0 | 0 | 10 | 4 | 3 | 0 |\n",
       "| 17 | 0 | 0 | 1 | 23 | 1 | 0 | 0 | 1 | 0 | ⋯ | 0 | 2 |  0 |  0 | 0 | 1 |  7 | 5 | 6 | 1 |\n",
       "| 18 | 0 | 0 | 0 | 23 | 0 | 0 | 0 | 0 | 0 | ⋯ | 0 | 2 | 15 |  0 | 0 | 0 |  2 | 6 | 7 | 0 |\n",
       "| 19 | 0 | 1 | 1 | 28 | 0 | 0 | 0 | 0 | 0 | ⋯ | 0 | 2 | 10 |  0 | 0 | 1 |  4 | 6 | 8 | 0 |\n",
       "| 20 | 1 | 1 | 1 | 22 | 0 | 1 | 1 | 0 | 1 | ⋯ | 0 | 3 | 30 |  0 | 1 | 0 | 12 | 4 | 4 | 0 |\n",
       "| 21 | 1 | 1 | 1 | 38 | 1 | 0 | 0 | 0 | 1 | ⋯ | 0 | 5 | 15 | 30 | 1 | 0 | 13 | 2 | 3 | 0 |\n",
       "| 22 | 0 | 0 | 1 | 28 | 1 | 0 | 0 | 0 | 0 | ⋯ | 0 | 3 |  0 |  7 | 0 | 1 |  5 | 5 | 5 | 0 |\n",
       "| 23 | 1 | 0 | 1 | 27 | 0 | 0 | 0 | 1 | 1 | ⋯ | 0 | 1 |  0 |  0 | 0 | 0 | 13 | 5 | 4 | 1 |\n",
       "| 24 | 1 | 1 | 1 | 28 | 1 | 0 | 0 | 0 | 1 | ⋯ | 0 | 3 |  6 |  0 | 1 | 0 |  9 | 4 | 6 | 0 |\n",
       "| 25 | 0 | 0 | 1 | 32 | 0 | 0 | 0 | 1 | 1 | ⋯ | 0 | 2 |  0 |  0 | 0 | 0 |  5 | 6 | 8 | 0 |\n",
       "| 26 | 1 | 1 | 1 | 37 | 1 | 1 | 1 | 0 | 0 | ⋯ | 0 | 5 |  0 |  0 | 1 | 1 | 10 | 6 | 5 | 1 |\n",
       "| 27 | 1 | 1 | 1 | 28 | 1 | 0 | 1 | 0 | 0 | ⋯ | 0 | 4 |  0 |  0 | 0 | 1 | 12 | 2 | 4 | 1 |\n",
       "| 28 | 1 | 1 | 1 | 27 | 1 | 0 | 0 | 0 | 1 | ⋯ | 0 | 4 | 20 | 20 | 1 | 0 |  8 | 4 | 7 | 1 |\n",
       "| 29 | 0 | 1 | 1 | 31 | 1 | 0 | 0 | 1 | 1 | ⋯ | 0 | 1 |  0 |  0 | 0 | 1 | 12 | 6 | 8 | 0 |\n",
       "| ⋮ | ⋮ | ⋮ | ⋮ | ⋮ | ⋮ | ⋮ | ⋮ | ⋮ | ⋮ | ⋱ | ⋮ | ⋮ | ⋮ | ⋮ | ⋮ | ⋮ | ⋮ | ⋮ | ⋮ | ⋮ |\n",
       "| 253650 | 1 | 0 | 1 | 27 | 0 | 0 | 0 | 1 | 0 | ⋯ | 0 | 4 |  0 |  0 | 0 | 0 |  5 | 4 | 2 | 0 |\n",
       "| 253651 | 0 | 0 | 1 | 24 | 0 | 0 | 0 | 1 | 1 | ⋯ | 1 | 1 |  0 |  0 | 0 | 1 |  2 | 6 | 3 | 0 |\n",
       "| 253652 | 0 | 1 | 1 | 27 | 0 | 0 | 0 | 1 | 1 | ⋯ | 0 | 4 |  0 | 30 | 0 | 1 | 11 | 2 | 3 | 1 |\n",
       "| 253653 | 0 | 0 | 1 | 33 | 1 | 0 | 0 | 0 | 1 | ⋯ | 0 | 4 |  0 | 15 | 0 | 1 | 10 | 6 | 3 | 0 |\n",
       "| 253654 | 0 | 0 | 1 | 26 | 1 | 0 | 0 | 1 | 1 | ⋯ | 0 | 2 |  1 |  0 | 0 | 1 |  3 | 3 | 1 | 0 |\n",
       "| 253655 | 0 | 0 | 1 | 28 | 0 | 0 | 0 | 1 | 1 | ⋯ | 0 | 2 |  0 |  0 | 0 | 0 |  2 | 6 | 4 | 0 |\n",
       "| 253656 | 0 | 0 | 1 | 25 | 0 | 0 | 0 | 1 | 1 | ⋯ | 0 | 1 |  0 |  0 | 0 | 0 |  4 | 6 | 8 | 0 |\n",
       "| 253657 | 0 | 1 | 1 | 24 | 0 | 0 | 0 | 0 | 0 | ⋯ | 0 | 3 |  0 |  0 | 0 | 0 |  7 | 5 | 3 | 0 |\n",
       "| 253658 | 0 | 0 | 0 | 27 | 0 | 0 | 0 | 1 | 0 | ⋯ | 1 | 2 |  0 |  0 | 0 | 0 |  3 | 6 | 5 | 0 |\n",
       "| 253659 | 0 | 1 | 1 | 37 | 0 | 0 | 0 | 0 | 0 | ⋯ | 0 | 4 |  0 |  0 | 0 | 0 |  6 | 4 | 1 | 1 |\n",
       "| 253660 | 0 | 1 | 1 | 34 | 1 | 0 | 0 | 0 | 1 | ⋯ | 0 | 3 |  0 |  2 | 1 | 0 |  7 | 4 | 3 | 0 |\n",
       "| 253661 | 1 | 0 | 1 | 33 | 0 | 0 | 0 | 1 | 0 | ⋯ | 1 | 3 |  0 |  2 | 1 | 0 |  6 | 6 | 6 | 0 |\n",
       "| 253662 | 0 | 0 | 1 | 16 | 0 | 0 | 0 | 1 | 0 | ⋯ | 0 | 1 |  0 |  0 | 0 | 0 |  5 | 6 | 2 | 0 |\n",
       "| 253663 | 0 | 0 | 1 | 23 | 0 | 0 | 0 | 0 | 1 | ⋯ | 1 | 2 |  0 | 30 | 0 | 0 |  5 | 6 | 2 | 0 |\n",
       "| 253664 | 0 | 1 | 1 | 29 | 1 | 0 | 0 | 0 | 0 | ⋯ | 0 | 3 |  0 |  0 | 0 | 0 |  6 | 6 | 4 | 0 |\n",
       "| 253665 | 0 | 1 | 1 | 17 | 0 | 0 | 0 | 0 | 0 | ⋯ | 1 | 4 | 30 | 30 | 0 | 0 |  5 | 4 | 1 | 0 |\n",
       "| 253666 | 1 | 0 | 1 | 23 | 0 | 0 | 0 | 0 | 1 | ⋯ | 0 | 3 |  0 | 15 | 0 | 0 |  6 | 5 | 2 | 0 |\n",
       "| 253667 | 1 | 1 | 1 | 28 | 1 | 0 | 0 | 0 | 0 | ⋯ | 0 | 3 |  0 |  0 | 0 | 0 | 11 | 4 | 7 | 0 |\n",
       "| 253668 | 0 | 1 | 1 | 29 | 1 | 0 | 1 | 0 | 1 | ⋯ | 0 | 2 |  0 |  0 | 1 | 1 | 10 | 3 | 6 | 1 |\n",
       "| 253669 | 0 | 1 | 1 | 27 | 0 | 0 | 0 | 0 | 0 | ⋯ | 1 | 1 |  0 |  3 | 0 | 1 |  6 | 2 | 4 | 0 |\n",
       "| 253670 | 1 | 1 | 1 | 25 | 0 | 0 | 1 | 0 | 1 | ⋯ | 0 | 5 | 15 |  0 | 1 | 0 | 13 | 6 | 4 | 1 |\n",
       "| 253671 | 1 | 1 | 1 | 23 | 0 | 1 | 1 | 0 | 0 | ⋯ | 1 | 4 |  0 |  5 | 0 | 1 |  8 | 3 | 2 | 0 |\n",
       "| 253672 | 1 | 0 | 1 | 30 | 1 | 0 | 1 | 1 | 1 | ⋯ | 0 | 3 |  0 |  0 | 0 | 1 | 12 | 2 | 1 | 0 |\n",
       "| 253673 | 1 | 0 | 1 | 42 | 0 | 0 | 0 | 1 | 1 | ⋯ | 0 | 3 | 14 |  4 | 0 | 1 |  3 | 6 | 8 | 0 |\n",
       "| 253674 | 0 | 0 | 1 | 27 | 0 | 0 | 0 | 0 | 0 | ⋯ | 0 | 1 |  0 |  0 | 0 | 0 |  3 | 6 | 5 | 0 |\n",
       "| 253675 | 1 | 1 | 1 | 45 | 0 | 0 | 0 | 0 | 1 | ⋯ | 0 | 3 |  0 |  5 | 0 | 1 |  5 | 6 | 7 | 0 |\n",
       "| 253676 | 1 | 1 | 1 | 18 | 0 | 0 | 0 | 0 | 0 | ⋯ | 0 | 4 |  0 |  0 | 1 | 0 | 11 | 2 | 4 | 1 |\n",
       "| 253677 | 0 | 0 | 1 | 28 | 0 | 0 | 0 | 1 | 1 | ⋯ | 0 | 1 |  0 |  0 | 0 | 0 |  2 | 5 | 2 | 0 |\n",
       "| 253678 | 1 | 0 | 1 | 23 | 0 | 0 | 0 | 0 | 1 | ⋯ | 0 | 3 |  0 |  0 | 0 | 1 |  7 | 5 | 1 | 0 |\n",
       "| 253679 | 1 | 1 | 1 | 25 | 0 | 0 | 1 | 1 | 1 | ⋯ | 0 | 2 |  0 |  0 | 0 | 0 |  9 | 6 | 2 | 1 |\n",
       "\n"
      ],
      "text/plain": [
       "       X      HighBP HighChol CholCheck BMI Smoker Stroke HeartDiseaseorAttack\n",
       "1       0     1      1        1         40  1      0      0                   \n",
       "2       1     0      0        0         25  1      0      0                   \n",
       "3       2     1      1        1         28  0      0      0                   \n",
       "4       3     1      0        1         27  0      0      0                   \n",
       "5       4     1      1        1         24  0      0      0                   \n",
       "6       5     1      1        1         25  1      0      0                   \n",
       "7       6     1      0        1         30  1      0      0                   \n",
       "8       7     1      1        1         25  1      0      0                   \n",
       "9       8     1      1        1         30  1      0      1                   \n",
       "10      9     0      0        1         24  0      0      0                   \n",
       "11     10     0      0        1         25  1      0      0                   \n",
       "12     11     1      1        1         34  1      0      0                   \n",
       "13     12     0      0        1         26  1      0      0                   \n",
       "14     13     1      1        1         28  0      0      0                   \n",
       "15     14     0      1        1         33  1      1      0                   \n",
       "16     15     1      0        1         33  0      0      0                   \n",
       "17     16     1      1        1         21  0      0      0                   \n",
       "18     17     0      0        1         23  1      0      0                   \n",
       "19     18     0      0        0         23  0      0      0                   \n",
       "20     19     0      1        1         28  0      0      0                   \n",
       "21     20     1      1        1         22  0      1      1                   \n",
       "22     21     1      1        1         38  1      0      0                   \n",
       "23     22     0      0        1         28  1      0      0                   \n",
       "24     23     1      0        1         27  0      0      0                   \n",
       "25     24     1      1        1         28  1      0      0                   \n",
       "26     25     0      0        1         32  0      0      0                   \n",
       "27     26     1      1        1         37  1      1      1                   \n",
       "28     27     1      1        1         28  1      0      1                   \n",
       "29     28     1      1        1         27  1      0      0                   \n",
       "30     29     0      1        1         31  1      0      0                   \n",
       "<U+22EE>      <U+22EE> <U+22EE> <U+22EE> <U+22EE>  <U+22EE> <U+22EE> <U+22EE> <U+22EE>            \n",
       "253651 253650 1      0        1         27  0      0      0                   \n",
       "253652 253651 0      0        1         24  0      0      0                   \n",
       "253653 253652 0      1        1         27  0      0      0                   \n",
       "253654 253653 0      0        1         33  1      0      0                   \n",
       "253655 253654 0      0        1         26  1      0      0                   \n",
       "253656 253655 0      0        1         28  0      0      0                   \n",
       "253657 253656 0      0        1         25  0      0      0                   \n",
       "253658 253657 0      1        1         24  0      0      0                   \n",
       "253659 253658 0      0        0         27  0      0      0                   \n",
       "253660 253659 0      1        1         37  0      0      0                   \n",
       "253661 253660 0      1        1         34  1      0      0                   \n",
       "253662 253661 1      0        1         33  0      0      0                   \n",
       "253663 253662 0      0        1         16  0      0      0                   \n",
       "253664 253663 0      0        1         23  0      0      0                   \n",
       "253665 253664 0      1        1         29  1      0      0                   \n",
       "253666 253665 0      1        1         17  0      0      0                   \n",
       "253667 253666 1      0        1         23  0      0      0                   \n",
       "253668 253667 1      1        1         28  1      0      0                   \n",
       "253669 253668 0      1        1         29  1      0      1                   \n",
       "253670 253669 0      1        1         27  0      0      0                   \n",
       "253671 253670 1      1        1         25  0      0      1                   \n",
       "253672 253671 1      1        1         23  0      1      1                   \n",
       "253673 253672 1      0        1         30  1      0      1                   \n",
       "253674 253673 1      0        1         42  0      0      0                   \n",
       "253675 253674 0      0        1         27  0      0      0                   \n",
       "253676 253675 1      1        1         45  0      0      0                   \n",
       "253677 253676 1      1        1         18  0      0      0                   \n",
       "253678 253677 0      0        1         28  0      0      0                   \n",
       "253679 253678 1      0        1         23  0      0      0                   \n",
       "253680 253679 1      1        1         25  0      0      1                   \n",
       "       PhysActivity Fruits <U+22EF>        NoDocbcCost GenHlth MentHlth PhysHlth\n",
       "1      0            0      <U+22EF> 0           5       18       15      \n",
       "2      1            0      <U+22EF> 1           3        0        0      \n",
       "3      0            1      <U+22EF> 1           5       30       30      \n",
       "4      1            1      <U+22EF> 0           2        0        0      \n",
       "5      1            1      <U+22EF> 0           2        3        0      \n",
       "6      1            1      <U+22EF> 0           2        0        2      \n",
       "7      0            0      <U+22EF> 0           3        0       14      \n",
       "8      1            0      <U+22EF> 0           3        0        0      \n",
       "9      0            1      <U+22EF> 0           5       30       30      \n",
       "10     0            0      <U+22EF> 0           2        0        0      \n",
       "11     1            1      <U+22EF> 0           3        0        0      \n",
       "12     0            1      <U+22EF> 0           3        0       30      \n",
       "13     0            0      <U+22EF> 0           3        0       15      \n",
       "14     0            0      <U+22EF> 0           4        0        0      \n",
       "15     1            0      <U+22EF> 1           4       30       28      \n",
       "16     1            0      <U+22EF> 0           2        5        0      \n",
       "17     1            1      <U+22EF> 0           3        0        0      \n",
       "18     1            0      <U+22EF> 0           2        0        0      \n",
       "19     0            0      <U+22EF> 0           2       15        0      \n",
       "20     0            0      <U+22EF> 0           2       10        0      \n",
       "21     0            1      <U+22EF> 0           3       30        0      \n",
       "22     0            1      <U+22EF> 0           5       15       30      \n",
       "23     0            0      <U+22EF> 0           3        0        7      \n",
       "24     1            1      <U+22EF> 0           1        0        0      \n",
       "25     0            1      <U+22EF> 0           3        6        0      \n",
       "26     1            1      <U+22EF> 0           2        0        0      \n",
       "27     0            0      <U+22EF> 0           5        0        0      \n",
       "28     0            0      <U+22EF> 0           4        0        0      \n",
       "29     0            1      <U+22EF> 0           4       20       20      \n",
       "30     1            1      <U+22EF> 0           1        0        0      \n",
       "<U+22EE>      <U+22EE>     <U+22EE> <U+22F1> <U+22EE>    <U+22EE> <U+22EE> <U+22EE>\n",
       "253651 1            0      <U+22EF> 0           4        0        0      \n",
       "253652 1            1      <U+22EF> 1           1        0        0      \n",
       "253653 1            1      <U+22EF> 0           4        0       30      \n",
       "253654 0            1      <U+22EF> 0           4        0       15      \n",
       "253655 1            1      <U+22EF> 0           2        1        0      \n",
       "253656 1            1      <U+22EF> 0           2        0        0      \n",
       "253657 1            1      <U+22EF> 0           1        0        0      \n",
       "253658 0            0      <U+22EF> 0           3        0        0      \n",
       "253659 1            0      <U+22EF> 1           2        0        0      \n",
       "253660 0            0      <U+22EF> 0           4        0        0      \n",
       "253661 0            1      <U+22EF> 0           3        0        2      \n",
       "253662 1            0      <U+22EF> 1           3        0        2      \n",
       "253663 1            0      <U+22EF> 0           1        0        0      \n",
       "253664 0            1      <U+22EF> 1           2        0       30      \n",
       "253665 0            0      <U+22EF> 0           3        0        0      \n",
       "253666 0            0      <U+22EF> 1           4       30       30      \n",
       "253667 0            1      <U+22EF> 0           3        0       15      \n",
       "253668 0            0      <U+22EF> 0           3        0        0      \n",
       "253669 0            1      <U+22EF> 0           2        0        0      \n",
       "253670 0            0      <U+22EF> 1           1        0        3      \n",
       "253671 0            1      <U+22EF> 0           5       15        0      \n",
       "253672 0            0      <U+22EF> 1           4        0        5      \n",
       "253673 1            1      <U+22EF> 0           3        0        0      \n",
       "253674 1            1      <U+22EF> 0           3       14        4      \n",
       "253675 0            0      <U+22EF> 0           1        0        0      \n",
       "253676 0            1      <U+22EF> 0           3        0        5      \n",
       "253677 0            0      <U+22EF> 0           4        0        0      \n",
       "253678 1            1      <U+22EF> 0           1        0        0      \n",
       "253679 0            1      <U+22EF> 0           3        0        0      \n",
       "253680 1            1      <U+22EF> 0           2        0        0      \n",
       "       DiffWalk Sex Age Education Income Diabetes_binary\n",
       "1      1        0    9  4         3      0              \n",
       "2      0        0    7  6         1      0              \n",
       "3      1        0    9  4         8      0              \n",
       "4      0        0   11  3         6      0              \n",
       "5      0        0   11  5         4      0              \n",
       "6      0        1   10  6         8      0              \n",
       "7      0        0    9  6         7      0              \n",
       "8      1        0   11  4         4      0              \n",
       "9      1        0    9  5         1      1              \n",
       "10     0        1    8  4         3      0              \n",
       "11     0        1   13  6         8      1              \n",
       "12     1        0   10  5         1      0              \n",
       "13     0        0    7  5         7      0              \n",
       "14     1        0   11  4         6      1              \n",
       "15     0        0    4  6         2      0              \n",
       "16     0        0    6  6         8      0              \n",
       "17     0        0   10  4         3      0              \n",
       "18     0        1    7  5         6      1              \n",
       "19     0        0    2  6         7      0              \n",
       "20     0        1    4  6         8      0              \n",
       "21     1        0   12  4         4      0              \n",
       "22     1        0   13  2         3      0              \n",
       "23     0        1    5  5         5      0              \n",
       "24     0        0   13  5         4      1              \n",
       "25     1        0    9  4         6      0              \n",
       "26     0        0    5  6         8      0              \n",
       "27     1        1   10  6         5      1              \n",
       "28     0        1   12  2         4      1              \n",
       "29     1        0    8  4         7      1              \n",
       "30     0        1   12  6         8      0              \n",
       "<U+22EE>      <U+22EE> <U+22EE> <U+22EE> <U+22EE>  <U+22EE> <U+22EE>       \n",
       "253651 0        0    5  4         2      0              \n",
       "253652 0        1    2  6         3      0              \n",
       "253653 0        1   11  2         3      1              \n",
       "253654 0        1   10  6         3      0              \n",
       "253655 0        1    3  3         1      0              \n",
       "253656 0        0    2  6         4      0              \n",
       "253657 0        0    4  6         8      0              \n",
       "253658 0        0    7  5         3      0              \n",
       "253659 0        0    3  6         5      0              \n",
       "253660 0        0    6  4         1      1              \n",
       "253661 1        0    7  4         3      0              \n",
       "253662 1        0    6  6         6      0              \n",
       "253663 0        0    5  6         2      0              \n",
       "253664 0        0    5  6         2      0              \n",
       "253665 0        0    6  6         4      0              \n",
       "253666 0        0    5  4         1      0              \n",
       "253667 0        0    6  5         2      0              \n",
       "253668 0        0   11  4         7      0              \n",
       "253669 1        1   10  3         6      1              \n",
       "253670 0        1    6  2         4      0              \n",
       "253671 1        0   13  6         4      1              \n",
       "253672 0        1    8  3         2      0              \n",
       "253673 0        1   12  2         1      0              \n",
       "253674 0        1    3  6         8      0              \n",
       "253675 0        0    3  6         5      0              \n",
       "253676 0        1    5  6         7      0              \n",
       "253677 1        0   11  2         4      1              \n",
       "253678 0        0    2  5         2      0              \n",
       "253679 0        1    7  5         1      0              \n",
       "253680 0        0    9  6         2      1              "
      ]
     },
     "metadata": {},
     "output_type": "display_data"
    }
   ],
   "source": [
    "df"
   ]
  },
  {
   "cell_type": "code",
   "execution_count": 48,
   "id": "e9620d44-a832-40ea-ad74-52bf871ea734",
   "metadata": {},
   "outputs": [
    {
     "name": "stdout",
     "output_type": "stream",
     "text": [
      "'data.frame':\t253680 obs. of  23 variables:\n",
      " $ X                   : int  0 1 2 3 4 5 6 7 8 9 ...\n",
      " $ HighBP              : int  1 0 1 1 1 1 1 1 1 0 ...\n",
      " $ HighChol            : int  1 0 1 0 1 1 0 1 1 0 ...\n",
      " $ CholCheck           : int  1 0 1 1 1 1 1 1 1 1 ...\n",
      " $ BMI                 : int  40 25 28 27 24 25 30 25 30 24 ...\n",
      " $ Smoker              : int  1 1 0 0 0 1 1 1 1 0 ...\n",
      " $ Stroke              : int  0 0 0 0 0 0 0 0 0 0 ...\n",
      " $ HeartDiseaseorAttack: int  0 0 0 0 0 0 0 0 1 0 ...\n",
      " $ PhysActivity        : int  0 1 0 1 1 1 0 1 0 0 ...\n",
      " $ Fruits              : int  0 0 1 1 1 1 0 0 1 0 ...\n",
      " $ Veggies             : int  1 0 0 1 1 1 0 1 1 1 ...\n",
      " $ HvyAlcoholConsump   : int  0 0 0 0 0 0 0 0 0 0 ...\n",
      " $ AnyHealthcare       : int  1 0 1 1 1 1 1 1 1 1 ...\n",
      " $ NoDocbcCost         : int  0 1 1 0 0 0 0 0 0 0 ...\n",
      " $ GenHlth             : int  5 3 5 2 2 2 3 3 5 2 ...\n",
      " $ MentHlth            : int  18 0 30 0 3 0 0 0 30 0 ...\n",
      " $ PhysHlth            : int  15 0 30 0 0 2 14 0 30 0 ...\n",
      " $ DiffWalk            : int  1 0 1 0 0 0 0 1 1 0 ...\n",
      " $ Sex                 : int  0 0 0 0 0 1 0 0 0 1 ...\n",
      " $ Age                 : int  9 7 9 11 11 10 9 11 9 8 ...\n",
      " $ Education           : int  4 6 4 3 5 6 6 4 5 4 ...\n",
      " $ Income              : int  3 1 8 6 4 8 7 4 1 3 ...\n",
      " $ Diabetes_binary     : int  0 0 0 0 0 0 0 0 1 0 ...\n"
     ]
    }
   ],
   "source": [
    "str(df)"
   ]
  },
  {
   "cell_type": "markdown",
   "id": "6a37d8fa-dda1-4e12-8164-798bcbf0809e",
   "metadata": {},
   "source": [
    "## 2. Data Preprocessing"
   ]
  },
  {
   "cell_type": "markdown",
   "id": "3e9eb452-2ca5-457f-9e44-7b6651a69e89",
   "metadata": {},
   "source": [
    "### 2.1. Standardize column names"
   ]
  },
  {
   "cell_type": "code",
   "execution_count": 49,
   "id": "b4719da7-365e-42e4-bfaa-f51bd5c9d877",
   "metadata": {},
   "outputs": [
    {
     "data": {
      "text/html": [
       "<style>\n",
       ".list-inline {list-style: none; margin:0; padding: 0}\n",
       ".list-inline>li {display: inline-block}\n",
       ".list-inline>li:not(:last-child)::after {content: \"\\00b7\"; padding: 0 .5ex}\n",
       "</style>\n",
       "<ol class=list-inline><li>'X'</li><li>'HighBP'</li><li>'HighChol'</li><li>'CholCheck'</li><li>'BMI'</li><li>'Smoker'</li><li>'Stroke'</li><li>'HeartDiseaseorAttack'</li><li>'PhysActivity'</li><li>'Fruits'</li><li>'Veggies'</li><li>'HvyAlcoholConsump'</li><li>'AnyHealthcare'</li><li>'NoDocbcCost'</li><li>'GenHlth'</li><li>'MentHlth'</li><li>'PhysHlth'</li><li>'DiffWalk'</li><li>'Sex'</li><li>'Age'</li><li>'Education'</li><li>'Income'</li><li>'Diabetes_binary'</li></ol>\n"
      ],
      "text/latex": [
       "\\begin{enumerate*}\n",
       "\\item 'X'\n",
       "\\item 'HighBP'\n",
       "\\item 'HighChol'\n",
       "\\item 'CholCheck'\n",
       "\\item 'BMI'\n",
       "\\item 'Smoker'\n",
       "\\item 'Stroke'\n",
       "\\item 'HeartDiseaseorAttack'\n",
       "\\item 'PhysActivity'\n",
       "\\item 'Fruits'\n",
       "\\item 'Veggies'\n",
       "\\item 'HvyAlcoholConsump'\n",
       "\\item 'AnyHealthcare'\n",
       "\\item 'NoDocbcCost'\n",
       "\\item 'GenHlth'\n",
       "\\item 'MentHlth'\n",
       "\\item 'PhysHlth'\n",
       "\\item 'DiffWalk'\n",
       "\\item 'Sex'\n",
       "\\item 'Age'\n",
       "\\item 'Education'\n",
       "\\item 'Income'\n",
       "\\item 'Diabetes\\_binary'\n",
       "\\end{enumerate*}\n"
      ],
      "text/markdown": [
       "1. 'X'\n",
       "2. 'HighBP'\n",
       "3. 'HighChol'\n",
       "4. 'CholCheck'\n",
       "5. 'BMI'\n",
       "6. 'Smoker'\n",
       "7. 'Stroke'\n",
       "8. 'HeartDiseaseorAttack'\n",
       "9. 'PhysActivity'\n",
       "10. 'Fruits'\n",
       "11. 'Veggies'\n",
       "12. 'HvyAlcoholConsump'\n",
       "13. 'AnyHealthcare'\n",
       "14. 'NoDocbcCost'\n",
       "15. 'GenHlth'\n",
       "16. 'MentHlth'\n",
       "17. 'PhysHlth'\n",
       "18. 'DiffWalk'\n",
       "19. 'Sex'\n",
       "20. 'Age'\n",
       "21. 'Education'\n",
       "22. 'Income'\n",
       "23. 'Diabetes_binary'\n",
       "\n",
       "\n"
      ],
      "text/plain": [
       " [1] \"X\"                    \"HighBP\"               \"HighChol\"            \n",
       " [4] \"CholCheck\"            \"BMI\"                  \"Smoker\"              \n",
       " [7] \"Stroke\"               \"HeartDiseaseorAttack\" \"PhysActivity\"        \n",
       "[10] \"Fruits\"               \"Veggies\"              \"HvyAlcoholConsump\"   \n",
       "[13] \"AnyHealthcare\"        \"NoDocbcCost\"          \"GenHlth\"             \n",
       "[16] \"MentHlth\"             \"PhysHlth\"             \"DiffWalk\"            \n",
       "[19] \"Sex\"                  \"Age\"                  \"Education\"           \n",
       "[22] \"Income\"               \"Diabetes_binary\"     "
      ]
     },
     "metadata": {},
     "output_type": "display_data"
    }
   ],
   "source": [
    "colnames(df)"
   ]
  },
  {
   "cell_type": "code",
   "execution_count": 50,
   "id": "b12f9f7f-d48b-4339-94a9-d653ffc074a9",
   "metadata": {},
   "outputs": [],
   "source": [
    "# COMMENT: remove column \"X\"\n",
    "if (\"X\" %in% colnames(df))\n",
    "{\n",
    "    df = df[, !colnames(df) == \"X\"]\n",
    "}"
   ]
  },
  {
   "cell_type": "code",
   "execution_count": 51,
   "id": "35312eb4-acb0-43c3-aea3-ac85b7a8b818",
   "metadata": {},
   "outputs": [
    {
     "name": "stdout",
     "output_type": "stream",
     "text": [
      "'data.frame':\t253680 obs. of  22 variables:\n",
      " $ HighBP              : int  1 0 1 1 1 1 1 1 1 0 ...\n",
      " $ HighChol            : int  1 0 1 0 1 1 0 1 1 0 ...\n",
      " $ CholCheck           : int  1 0 1 1 1 1 1 1 1 1 ...\n",
      " $ BMI                 : int  40 25 28 27 24 25 30 25 30 24 ...\n",
      " $ Smoker              : int  1 1 0 0 0 1 1 1 1 0 ...\n",
      " $ Stroke              : int  0 0 0 0 0 0 0 0 0 0 ...\n",
      " $ HeartDiseaseorAttack: int  0 0 0 0 0 0 0 0 1 0 ...\n",
      " $ PhysActivity        : int  0 1 0 1 1 1 0 1 0 0 ...\n",
      " $ Fruits              : int  0 0 1 1 1 1 0 0 1 0 ...\n",
      " $ Veggies             : int  1 0 0 1 1 1 0 1 1 1 ...\n",
      " $ HvyAlcoholConsump   : int  0 0 0 0 0 0 0 0 0 0 ...\n",
      " $ AnyHealthcare       : int  1 0 1 1 1 1 1 1 1 1 ...\n",
      " $ NoDocbcCost         : int  0 1 1 0 0 0 0 0 0 0 ...\n",
      " $ GenHlth             : int  5 3 5 2 2 2 3 3 5 2 ...\n",
      " $ MentHlth            : int  18 0 30 0 3 0 0 0 30 0 ...\n",
      " $ PhysHlth            : int  15 0 30 0 0 2 14 0 30 0 ...\n",
      " $ DiffWalk            : int  1 0 1 0 0 0 0 1 1 0 ...\n",
      " $ Sex                 : int  0 0 0 0 0 1 0 0 0 1 ...\n",
      " $ Age                 : int  9 7 9 11 11 10 9 11 9 8 ...\n",
      " $ Education           : int  4 6 4 3 5 6 6 4 5 4 ...\n",
      " $ Income              : int  3 1 8 6 4 8 7 4 1 3 ...\n",
      " $ Diabetes_binary     : int  0 0 0 0 0 0 0 0 1 0 ...\n"
     ]
    }
   ],
   "source": [
    "str(df)"
   ]
  },
  {
   "cell_type": "markdown",
   "id": "29d1ddfb-ecf3-41ff-9cd7-e1aaa3ea6873",
   "metadata": {},
   "source": [
    "### 2.2. Mismatched data types"
   ]
  },
  {
   "cell_type": "code",
   "execution_count": 52,
   "id": "52a70792-43e3-4bf3-9987-f4460e2601ac",
   "metadata": {},
   "outputs": [
    {
     "name": "stdout",
     "output_type": "stream",
     "text": [
      "'data.frame':\t253680 obs. of  22 variables:\n",
      " $ HighBP              : int  1 0 1 1 1 1 1 1 1 0 ...\n",
      " $ HighChol            : int  1 0 1 0 1 1 0 1 1 0 ...\n",
      " $ CholCheck           : int  1 0 1 1 1 1 1 1 1 1 ...\n",
      " $ BMI                 : int  40 25 28 27 24 25 30 25 30 24 ...\n",
      " $ Smoker              : int  1 1 0 0 0 1 1 1 1 0 ...\n",
      " $ Stroke              : int  0 0 0 0 0 0 0 0 0 0 ...\n",
      " $ HeartDiseaseorAttack: int  0 0 0 0 0 0 0 0 1 0 ...\n",
      " $ PhysActivity        : int  0 1 0 1 1 1 0 1 0 0 ...\n",
      " $ Fruits              : int  0 0 1 1 1 1 0 0 1 0 ...\n",
      " $ Veggies             : int  1 0 0 1 1 1 0 1 1 1 ...\n",
      " $ HvyAlcoholConsump   : int  0 0 0 0 0 0 0 0 0 0 ...\n",
      " $ AnyHealthcare       : int  1 0 1 1 1 1 1 1 1 1 ...\n",
      " $ NoDocbcCost         : int  0 1 1 0 0 0 0 0 0 0 ...\n",
      " $ GenHlth             : int  5 3 5 2 2 2 3 3 5 2 ...\n",
      " $ MentHlth            : int  18 0 30 0 3 0 0 0 30 0 ...\n",
      " $ PhysHlth            : int  15 0 30 0 0 2 14 0 30 0 ...\n",
      " $ DiffWalk            : int  1 0 1 0 0 0 0 1 1 0 ...\n",
      " $ Sex                 : int  0 0 0 0 0 1 0 0 0 1 ...\n",
      " $ Age                 : int  9 7 9 11 11 10 9 11 9 8 ...\n",
      " $ Education           : int  4 6 4 3 5 6 6 4 5 4 ...\n",
      " $ Income              : int  3 1 8 6 4 8 7 4 1 3 ...\n",
      " $ Diabetes_binary     : int  0 0 0 0 0 0 0 0 1 0 ...\n"
     ]
    }
   ],
   "source": [
    "str(df)"
   ]
  },
  {
   "cell_type": "code",
   "execution_count": 53,
   "id": "b789f42e-d909-4ba9-943b-4be30018384e",
   "metadata": {},
   "outputs": [],
   "source": [
    "# COMMENT\n",
    "# All columns have correct data type"
   ]
  },
  {
   "cell_type": "markdown",
   "id": "bce5f736-1022-4709-b276-c91845b413a8",
   "metadata": {},
   "source": [
    "### 2.3. Mixed data values"
   ]
  },
  {
   "cell_type": "code",
   "execution_count": 54,
   "id": "fec32eab-4252-4199-ba54-a92194e8413f",
   "metadata": {},
   "outputs": [],
   "source": [
    "# COMMENT\n",
    "# Example: (female, woman, man, male) => (male, female)"
   ]
  },
  {
   "cell_type": "code",
   "execution_count": 55,
   "id": "1704f561-7315-42a1-97ee-5f888d44d29f",
   "metadata": {},
   "outputs": [],
   "source": [
    "# COMMENT\n",
    "# This dataset contains only number data => No mixed data values"
   ]
  },
  {
   "cell_type": "markdown",
   "id": "adaab349-e467-4880-91db-36fb48c1b04a",
   "metadata": {},
   "source": [
    "### 2.4. Missing data"
   ]
  },
  {
   "cell_type": "markdown",
   "id": "b3488a5a-29aa-409e-8963-bafe7dd0d9ac",
   "metadata": {},
   "source": [
    "#### 2.4.1 Null data"
   ]
  },
  {
   "cell_type": "code",
   "execution_count": 56,
   "id": "b8da67e8-3b6a-4d54-99be-cb8d4bef553a",
   "metadata": {},
   "outputs": [
    {
     "data": {
      "text/html": [
       "0"
      ],
      "text/latex": [
       "0"
      ],
      "text/markdown": [
       "0"
      ],
      "text/plain": [
       "[1] 0"
      ]
     },
     "metadata": {},
     "output_type": "display_data"
    }
   ],
   "source": [
    "sum(is.na(df))"
   ]
  },
  {
   "cell_type": "code",
   "execution_count": 57,
   "id": "b286bbbf-31d0-4d33-9b9a-46a1b0e19054",
   "metadata": {},
   "outputs": [],
   "source": [
    "# COMMENT\n",
    "# This dataset has no missing values"
   ]
  },
  {
   "cell_type": "markdown",
   "id": "12494376-38f9-4474-8a6b-9c2f95cd27d8",
   "metadata": {},
   "source": [
    "#### 2.4.2 Missing data in specific columns"
   ]
  },
  {
   "cell_type": "code",
   "execution_count": 58,
   "id": "4c293392-f5b0-42f9-9e89-dcdad903a850",
   "metadata": {},
   "outputs": [],
   "source": [
    "# COMMENT\n",
    "# We see that in column \"Age\", the value could have value of 14 \n",
    "# which is Don’t know / Refused / Missing (_AGEG5YR - BRFSS)"
   ]
  },
  {
   "cell_type": "code",
   "execution_count": 59,
   "id": "c8530450-5b2d-4db3-963b-d7079c3aa5c2",
   "metadata": {},
   "outputs": [
    {
     "data": {
      "text/html": [
       "0"
      ],
      "text/latex": [
       "0"
      ],
      "text/markdown": [
       "0"
      ],
      "text/plain": [
       "[1] 0"
      ]
     },
     "metadata": {},
     "output_type": "display_data"
    }
   ],
   "source": [
    "nrow(subset(df, Age == 14))"
   ]
  },
  {
   "cell_type": "code",
   "execution_count": 60,
   "id": "fcec4fc6-4968-443a-9445-0d16b5c00c3b",
   "metadata": {},
   "outputs": [],
   "source": [
    "# COMMENT\n",
    "# The dataset has no missing data."
   ]
  },
  {
   "cell_type": "markdown",
   "id": "9606d14d-becd-4fc7-a425-b3ead8940166",
   "metadata": {},
   "source": [
    "## 3. Exploratory data analysis (EDA)"
   ]
  },
  {
   "cell_type": "code",
   "execution_count": 61,
   "id": "03806332-c7cf-4c28-a038-ee703dfbda93",
   "metadata": {},
   "outputs": [],
   "source": [
    "plot_stack_bar_2x2 = function(table_2x2)\n",
    "{\n",
    "    barplot(table_2x2, beside = TRUE, col = c(\"green\", \"red\"))\n",
    "    legend(\"top\", legend = rownames(table_2x2), fill = c(\"green\", \"red\"))\n",
    "}"
   ]
  },
  {
   "cell_type": "code",
   "execution_count": 62,
   "id": "26819b2c-4c69-4633-a51c-b5007592366f",
   "metadata": {},
   "outputs": [
    {
     "name": "stdout",
     "output_type": "stream",
     "text": [
      "'data.frame':\t253680 obs. of  22 variables:\n",
      " $ HighBP              : int  1 0 1 1 1 1 1 1 1 0 ...\n",
      " $ HighChol            : int  1 0 1 0 1 1 0 1 1 0 ...\n",
      " $ CholCheck           : int  1 0 1 1 1 1 1 1 1 1 ...\n",
      " $ BMI                 : int  40 25 28 27 24 25 30 25 30 24 ...\n",
      " $ Smoker              : int  1 1 0 0 0 1 1 1 1 0 ...\n",
      " $ Stroke              : int  0 0 0 0 0 0 0 0 0 0 ...\n",
      " $ HeartDiseaseorAttack: int  0 0 0 0 0 0 0 0 1 0 ...\n",
      " $ PhysActivity        : int  0 1 0 1 1 1 0 1 0 0 ...\n",
      " $ Fruits              : int  0 0 1 1 1 1 0 0 1 0 ...\n",
      " $ Veggies             : int  1 0 0 1 1 1 0 1 1 1 ...\n",
      " $ HvyAlcoholConsump   : int  0 0 0 0 0 0 0 0 0 0 ...\n",
      " $ AnyHealthcare       : int  1 0 1 1 1 1 1 1 1 1 ...\n",
      " $ NoDocbcCost         : int  0 1 1 0 0 0 0 0 0 0 ...\n",
      " $ GenHlth             : int  5 3 5 2 2 2 3 3 5 2 ...\n",
      " $ MentHlth            : int  18 0 30 0 3 0 0 0 30 0 ...\n",
      " $ PhysHlth            : int  15 0 30 0 0 2 14 0 30 0 ...\n",
      " $ DiffWalk            : int  1 0 1 0 0 0 0 1 1 0 ...\n",
      " $ Sex                 : int  0 0 0 0 0 1 0 0 0 1 ...\n",
      " $ Age                 : int  9 7 9 11 11 10 9 11 9 8 ...\n",
      " $ Education           : int  4 6 4 3 5 6 6 4 5 4 ...\n",
      " $ Income              : int  3 1 8 6 4 8 7 4 1 3 ...\n",
      " $ Diabetes_binary     : int  0 0 0 0 0 0 0 0 1 0 ...\n"
     ]
    }
   ],
   "source": [
    "str(df)"
   ]
  },
  {
   "cell_type": "markdown",
   "id": "c2bae823-a9ff-47bd-9cbd-827648c0ac2e",
   "metadata": {},
   "source": [
    "### 3.1. Response variable analysis"
   ]
  },
  {
   "cell_type": "code",
   "execution_count": 63,
   "id": "b3da72aa-81d0-4ba7-ad50-5d30bf9f4e6b",
   "metadata": {},
   "outputs": [],
   "source": [
    "plot_binary_distribution = function(dataframe, response_col, title)\n",
    "{\n",
    "    # Creating a table of counts for each category in the response column\n",
    "    response_table <- table(dataframe[, response_col])\n",
    "    \n",
    "    # Converting the table into a data frame\n",
    "    response_df <- as.data.frame(response_table)\n",
    "    \n",
    "    # Renaming the column\n",
    "    colnames(response_df) <- c(\"Response\", \"Count\")\n",
    "    \n",
    "    # Calculate percentages\n",
    "    response_df$Percent <- response_df$Count / sum(response_df$Count) * 100\n",
    "    \n",
    "    # Creating a pie chart using ggplot2\n",
    "    pie_chart <- ggplot(response_df, aes(x = \"\", y = Count, fill = Response)) +\n",
    "      geom_bar(stat = \"identity\", width = 1) +\n",
    "      coord_polar(\"y\", start = 0) +\n",
    "      scale_fill_manual(values = c(\"green\", \"red\")) + \n",
    "      labs(title = title) +\n",
    "      theme_void() +\n",
    "      theme(legend.position = \"bottom\", \n",
    "            plot.title = element_text(hjust = 0.5, size = 30),  # Adjust title size here\n",
    "            legend.text = element_text(size = 20)) +            # Adjust legend text size here\n",
    "      geom_text(aes(label = paste0(round(Percent, 1), \"%\")), \n",
    "                position = position_stack(vjust = 0.5),\n",
    "                size = 7) + # Adjust label size here\n",
    "      guides(fill = guide_legend(title = response_col, title.position = \"top\", title.theme = element_text(size = 15))) # Adjust legend title size here\n",
    "    \n",
    "    # Displaying the pie chart\n",
    "    print(pie_chart)\n",
    "}"
   ]
  },
  {
   "cell_type": "code",
   "execution_count": 64,
   "id": "8b99a955-da6e-40fd-a1b4-64917d28c208",
   "metadata": {},
   "outputs": [
    {
     "data": {
      "image/png": "[encoded data removed]",
      "text/plain": [
       "plot without title"
      ]
     },
     "metadata": {
      "image/png": {
       "height": 420,
       "width": 420
      }
     },
     "output_type": "display_data"
    }
   ],
   "source": [
    "plot_binary_distribution(df, \"Diabetes_binary\", \"Imbalanced dataset: Diabetes_binary\")"
   ]
  },
  {
   "cell_type": "code",
   "execution_count": 65,
   "id": "e3565b0f-c921-4d6d-9547-454cbcad9df6",
   "metadata": {},
   "outputs": [],
   "source": [
    "# COMMENT\n",
    "# The dataset is imbalanced\n",
    "# => Apply oversampling method"
   ]
  },
  {
   "cell_type": "markdown",
   "id": "ceb31c4d-1bf5-4c2b-b3b4-9f7f36d5ccc7",
   "metadata": {},
   "source": [
    "### 3.2. Dataset oversampling"
   ]
  },
  {
   "cell_type": "code",
   "execution_count": 66,
   "id": "cdb47d13-4767-414e-9131-a3283dcc4e2f",
   "metadata": {},
   "outputs": [
    {
     "data": {
      "text/html": [
       "202944"
      ],
      "text/latex": [
       "202944"
      ],
      "text/markdown": [
       "202944"
      ],
      "text/plain": [
       "[1] 202944"
      ]
     },
     "metadata": {},
     "output_type": "display_data"
    },
    {
     "data": {
      "text/html": [
       "50736"
      ],
      "text/latex": [
       "50736"
      ],
      "text/markdown": [
       "50736"
      ],
      "text/plain": [
       "[1] 50736"
      ]
     },
     "metadata": {},
     "output_type": "display_data"
    },
    {
     "data": {
      "text/html": [
       "0.138663867865027"
      ],
      "text/latex": [
       "0.138663867865027"
      ],
      "text/markdown": [
       "0.138663867865027"
      ],
      "text/plain": [
       "[1] 0.1386639"
      ]
     },
     "metadata": {},
     "output_type": "display_data"
    },
    {
     "data": {
      "text/html": [
       "0.142009618416903"
      ],
      "text/latex": [
       "0.142009618416903"
      ],
      "text/markdown": [
       "0.142009618416903"
      ],
      "text/plain": [
       "[1] 0.1420096"
      ]
     },
     "metadata": {},
     "output_type": "display_data"
    }
   ],
   "source": [
    "index = caret::createDataPartition(df$Diabetes_binary, p = 0.8, list = FALSE)\n",
    "training_data = df[index, ]\n",
    "testing_data = df[-index, ]\n",
    "\n",
    "nrow(training_data)\n",
    "nrow(testing_data)\n",
    "nrow(training_data[training_data$Diabetes_binary == 1, ]) / nrow(training_data)\n",
    "nrow(testing_data[testing_data$Diabetes_binary == 1, ]) / nrow(testing_data)"
   ]
  },
  {
   "cell_type": "markdown",
   "id": "39f720e5-1a17-4f18-bafb-73422f61709b",
   "metadata": {},
   "source": [
    "### 3.3. Training dataset oversampling"
   ]
  },
  {
   "cell_type": "code",
   "execution_count": 67,
   "id": "a2ada184-fd75-4f1f-81d8-5086cbad7288",
   "metadata": {},
   "outputs": [
    {
     "data": {
      "text/plain": [
       "\n",
       "     0      1 \n",
       "174803  28141 "
      ]
     },
     "metadata": {},
     "output_type": "display_data"
    }
   ],
   "source": [
    "table(training_data$Diabetes_binary)"
   ]
  },
  {
   "cell_type": "code",
   "execution_count": 68,
   "id": "2cff7344-145c-4766-9547-773532642b35",
   "metadata": {},
   "outputs": [],
   "source": [
    "balanced_training_data <- ovun.sample(Diabetes_binary ~  ., data = training_data,\n",
    "                                  p = 0.5, seed = SEED, \n",
    "                                  method = \"over\")$data"
   ]
  },
  {
   "cell_type": "code",
   "execution_count": 69,
   "id": "2dbab752-ec2e-4939-89a4-b25579cb860e",
   "metadata": {},
   "outputs": [
    {
     "data": {
      "text/plain": [
       "\n",
       "     0      1 \n",
       "174803 174641 "
      ]
     },
     "metadata": {},
     "output_type": "display_data"
    }
   ],
   "source": [
    "table(balanced_training_data$Diabetes_binary)"
   ]
  },
  {
   "cell_type": "code",
   "execution_count": 70,
   "id": "8a8b27a1-3946-4657-ac38-c8658efd2c9e",
   "metadata": {},
   "outputs": [
    {
     "data": {
      "text/html": [
       "<table class=\"dataframe\">\n",
       "<caption>A data.frame: 349444 × 22</caption>\n",
       "<thead>\n",
       "\t<tr><th></th><th scope=col>HighBP</th><th scope=col>HighChol</th><th scope=col>CholCheck</th><th scope=col>BMI</th><th scope=col>Smoker</th><th scope=col>Stroke</th><th scope=col>HeartDiseaseorAttack</th><th scope=col>PhysActivity</th><th scope=col>Fruits</th><th scope=col>Veggies</th><th scope=col>⋯</th><th scope=col>NoDocbcCost</th><th scope=col>GenHlth</th><th scope=col>MentHlth</th><th scope=col>PhysHlth</th><th scope=col>DiffWalk</th><th scope=col>Sex</th><th scope=col>Age</th><th scope=col>Education</th><th scope=col>Income</th><th scope=col>Diabetes_binary</th></tr>\n",
       "\t<tr><th></th><th scope=col>&lt;int&gt;</th><th scope=col>&lt;int&gt;</th><th scope=col>&lt;int&gt;</th><th scope=col>&lt;int&gt;</th><th scope=col>&lt;int&gt;</th><th scope=col>&lt;int&gt;</th><th scope=col>&lt;int&gt;</th><th scope=col>&lt;int&gt;</th><th scope=col>&lt;int&gt;</th><th scope=col>&lt;int&gt;</th><th scope=col>⋯</th><th scope=col>&lt;int&gt;</th><th scope=col>&lt;int&gt;</th><th scope=col>&lt;int&gt;</th><th scope=col>&lt;int&gt;</th><th scope=col>&lt;int&gt;</th><th scope=col>&lt;int&gt;</th><th scope=col>&lt;int&gt;</th><th scope=col>&lt;int&gt;</th><th scope=col>&lt;int&gt;</th><th scope=col>&lt;int&gt;</th></tr>\n",
       "</thead>\n",
       "<tbody>\n",
       "\t<tr><th scope=row>1</th><td>1</td><td>1</td><td>1</td><td>40</td><td>1</td><td>0</td><td>0</td><td>0</td><td>0</td><td>1</td><td>⋯</td><td>0</td><td>5</td><td>18</td><td>15</td><td>1</td><td>0</td><td> 9</td><td>4</td><td>3</td><td>0</td></tr>\n",
       "\t<tr><th scope=row>2</th><td>0</td><td>0</td><td>0</td><td>25</td><td>1</td><td>0</td><td>0</td><td>1</td><td>0</td><td>0</td><td>⋯</td><td>1</td><td>3</td><td> 0</td><td> 0</td><td>0</td><td>0</td><td> 7</td><td>6</td><td>1</td><td>0</td></tr>\n",
       "\t<tr><th scope=row>3</th><td>1</td><td>1</td><td>1</td><td>28</td><td>0</td><td>0</td><td>0</td><td>0</td><td>1</td><td>0</td><td>⋯</td><td>1</td><td>5</td><td>30</td><td>30</td><td>1</td><td>0</td><td> 9</td><td>4</td><td>8</td><td>0</td></tr>\n",
       "\t<tr><th scope=row>4</th><td>1</td><td>0</td><td>1</td><td>27</td><td>0</td><td>0</td><td>0</td><td>1</td><td>1</td><td>1</td><td>⋯</td><td>0</td><td>2</td><td> 0</td><td> 0</td><td>0</td><td>0</td><td>11</td><td>3</td><td>6</td><td>0</td></tr>\n",
       "\t<tr><th scope=row>5</th><td>1</td><td>1</td><td>1</td><td>24</td><td>0</td><td>0</td><td>0</td><td>1</td><td>1</td><td>1</td><td>⋯</td><td>0</td><td>2</td><td> 3</td><td> 0</td><td>0</td><td>0</td><td>11</td><td>5</td><td>4</td><td>0</td></tr>\n",
       "\t<tr><th scope=row>6</th><td>1</td><td>1</td><td>1</td><td>25</td><td>1</td><td>0</td><td>0</td><td>1</td><td>1</td><td>1</td><td>⋯</td><td>0</td><td>2</td><td> 0</td><td> 2</td><td>0</td><td>1</td><td>10</td><td>6</td><td>8</td><td>0</td></tr>\n",
       "\t<tr><th scope=row>7</th><td>1</td><td>0</td><td>1</td><td>30</td><td>1</td><td>0</td><td>0</td><td>0</td><td>0</td><td>0</td><td>⋯</td><td>0</td><td>3</td><td> 0</td><td>14</td><td>0</td><td>0</td><td> 9</td><td>6</td><td>7</td><td>0</td></tr>\n",
       "\t<tr><th scope=row>8</th><td>1</td><td>1</td><td>1</td><td>25</td><td>1</td><td>0</td><td>0</td><td>1</td><td>0</td><td>1</td><td>⋯</td><td>0</td><td>3</td><td> 0</td><td> 0</td><td>1</td><td>0</td><td>11</td><td>4</td><td>4</td><td>0</td></tr>\n",
       "\t<tr><th scope=row>9</th><td>0</td><td>0</td><td>1</td><td>24</td><td>0</td><td>0</td><td>0</td><td>0</td><td>0</td><td>1</td><td>⋯</td><td>0</td><td>2</td><td> 0</td><td> 0</td><td>0</td><td>1</td><td> 8</td><td>4</td><td>3</td><td>0</td></tr>\n",
       "\t<tr><th scope=row>10</th><td>0</td><td>0</td><td>1</td><td>26</td><td>1</td><td>0</td><td>0</td><td>0</td><td>0</td><td>1</td><td>⋯</td><td>0</td><td>3</td><td> 0</td><td>15</td><td>0</td><td>0</td><td> 7</td><td>5</td><td>7</td><td>0</td></tr>\n",
       "\t<tr><th scope=row>11</th><td>0</td><td>1</td><td>1</td><td>33</td><td>1</td><td>1</td><td>0</td><td>1</td><td>0</td><td>1</td><td>⋯</td><td>1</td><td>4</td><td>30</td><td>28</td><td>0</td><td>0</td><td> 4</td><td>6</td><td>2</td><td>0</td></tr>\n",
       "\t<tr><th scope=row>12</th><td>1</td><td>0</td><td>1</td><td>33</td><td>0</td><td>0</td><td>0</td><td>1</td><td>0</td><td>0</td><td>⋯</td><td>0</td><td>2</td><td> 5</td><td> 0</td><td>0</td><td>0</td><td> 6</td><td>6</td><td>8</td><td>0</td></tr>\n",
       "\t<tr><th scope=row>13</th><td>1</td><td>1</td><td>1</td><td>21</td><td>0</td><td>0</td><td>0</td><td>1</td><td>1</td><td>1</td><td>⋯</td><td>0</td><td>3</td><td> 0</td><td> 0</td><td>0</td><td>0</td><td>10</td><td>4</td><td>3</td><td>0</td></tr>\n",
       "\t<tr><th scope=row>14</th><td>0</td><td>0</td><td>0</td><td>23</td><td>0</td><td>0</td><td>0</td><td>0</td><td>0</td><td>1</td><td>⋯</td><td>0</td><td>2</td><td>15</td><td> 0</td><td>0</td><td>0</td><td> 2</td><td>6</td><td>7</td><td>0</td></tr>\n",
       "\t<tr><th scope=row>15</th><td>0</td><td>1</td><td>1</td><td>28</td><td>0</td><td>0</td><td>0</td><td>0</td><td>0</td><td>0</td><td>⋯</td><td>0</td><td>2</td><td>10</td><td> 0</td><td>0</td><td>1</td><td> 4</td><td>6</td><td>8</td><td>0</td></tr>\n",
       "\t<tr><th scope=row>16</th><td>1</td><td>1</td><td>1</td><td>22</td><td>0</td><td>1</td><td>1</td><td>0</td><td>1</td><td>0</td><td>⋯</td><td>0</td><td>3</td><td>30</td><td> 0</td><td>1</td><td>0</td><td>12</td><td>4</td><td>4</td><td>0</td></tr>\n",
       "\t<tr><th scope=row>17</th><td>1</td><td>1</td><td>1</td><td>38</td><td>1</td><td>0</td><td>0</td><td>0</td><td>1</td><td>1</td><td>⋯</td><td>0</td><td>5</td><td>15</td><td>30</td><td>1</td><td>0</td><td>13</td><td>2</td><td>3</td><td>0</td></tr>\n",
       "\t<tr><th scope=row>18</th><td>0</td><td>0</td><td>1</td><td>28</td><td>1</td><td>0</td><td>0</td><td>0</td><td>0</td><td>1</td><td>⋯</td><td>0</td><td>3</td><td> 0</td><td> 7</td><td>0</td><td>1</td><td> 5</td><td>5</td><td>5</td><td>0</td></tr>\n",
       "\t<tr><th scope=row>19</th><td>1</td><td>1</td><td>1</td><td>28</td><td>1</td><td>0</td><td>0</td><td>0</td><td>1</td><td>1</td><td>⋯</td><td>0</td><td>3</td><td> 6</td><td> 0</td><td>1</td><td>0</td><td> 9</td><td>4</td><td>6</td><td>0</td></tr>\n",
       "\t<tr><th scope=row>20</th><td>1</td><td>0</td><td>1</td><td>33</td><td>1</td><td>0</td><td>0</td><td>1</td><td>1</td><td>1</td><td>⋯</td><td>0</td><td>1</td><td> 0</td><td> 0</td><td>1</td><td>1</td><td>13</td><td>3</td><td>3</td><td>0</td></tr>\n",
       "\t<tr><th scope=row>21</th><td>1</td><td>0</td><td>1</td><td>31</td><td>0</td><td>0</td><td>0</td><td>1</td><td>0</td><td>0</td><td>⋯</td><td>0</td><td>3</td><td> 0</td><td> 0</td><td>0</td><td>1</td><td>11</td><td>6</td><td>2</td><td>0</td></tr>\n",
       "\t<tr><th scope=row>22</th><td>1</td><td>1</td><td>1</td><td>24</td><td>1</td><td>0</td><td>0</td><td>1</td><td>0</td><td>1</td><td>⋯</td><td>0</td><td>3</td><td> 5</td><td> 3</td><td>1</td><td>1</td><td> 8</td><td>4</td><td>3</td><td>0</td></tr>\n",
       "\t<tr><th scope=row>23</th><td>0</td><td>0</td><td>1</td><td>22</td><td>0</td><td>0</td><td>0</td><td>1</td><td>1</td><td>1</td><td>⋯</td><td>0</td><td>2</td><td> 0</td><td>10</td><td>0</td><td>0</td><td>12</td><td>5</td><td>7</td><td>0</td></tr>\n",
       "\t<tr><th scope=row>24</th><td>0</td><td>0</td><td>1</td><td>26</td><td>1</td><td>0</td><td>0</td><td>1</td><td>1</td><td>1</td><td>⋯</td><td>0</td><td>1</td><td> 0</td><td> 1</td><td>0</td><td>1</td><td> 4</td><td>5</td><td>3</td><td>0</td></tr>\n",
       "\t<tr><th scope=row>25</th><td>1</td><td>1</td><td>1</td><td>24</td><td>1</td><td>0</td><td>0</td><td>0</td><td>1</td><td>1</td><td>⋯</td><td>0</td><td>5</td><td> 0</td><td>30</td><td>0</td><td>1</td><td> 9</td><td>3</td><td>1</td><td>0</td></tr>\n",
       "\t<tr><th scope=row>26</th><td>0</td><td>0</td><td>1</td><td>26</td><td>0</td><td>0</td><td>0</td><td>1</td><td>1</td><td>0</td><td>⋯</td><td>0</td><td>2</td><td> 0</td><td> 1</td><td>0</td><td>0</td><td> 4</td><td>6</td><td>7</td><td>0</td></tr>\n",
       "\t<tr><th scope=row>27</th><td>0</td><td>0</td><td>1</td><td>28</td><td>1</td><td>1</td><td>0</td><td>0</td><td>1</td><td>1</td><td>⋯</td><td>1</td><td>4</td><td>15</td><td>30</td><td>1</td><td>0</td><td> 7</td><td>4</td><td>3</td><td>0</td></tr>\n",
       "\t<tr><th scope=row>28</th><td>1</td><td>0</td><td>1</td><td>23</td><td>1</td><td>0</td><td>0</td><td>1</td><td>0</td><td>1</td><td>⋯</td><td>0</td><td>2</td><td>25</td><td> 0</td><td>0</td><td>0</td><td> 9</td><td>6</td><td>8</td><td>0</td></tr>\n",
       "\t<tr><th scope=row>29</th><td>0</td><td>1</td><td>1</td><td>31</td><td>1</td><td>0</td><td>0</td><td>0</td><td>1</td><td>1</td><td>⋯</td><td>0</td><td>2</td><td> 0</td><td> 0</td><td>0</td><td>0</td><td> 8</td><td>5</td><td>8</td><td>0</td></tr>\n",
       "\t<tr><th scope=row>30</th><td>0</td><td>1</td><td>1</td><td>21</td><td>1</td><td>0</td><td>0</td><td>1</td><td>1</td><td>1</td><td>⋯</td><td>0</td><td>3</td><td>30</td><td> 0</td><td>0</td><td>0</td><td> 8</td><td>6</td><td>3</td><td>0</td></tr>\n",
       "\t<tr><th scope=row>⋮</th><td>⋮</td><td>⋮</td><td>⋮</td><td>⋮</td><td>⋮</td><td>⋮</td><td>⋮</td><td>⋮</td><td>⋮</td><td>⋮</td><td>⋱</td><td>⋮</td><td>⋮</td><td>⋮</td><td>⋮</td><td>⋮</td><td>⋮</td><td>⋮</td><td>⋮</td><td>⋮</td><td>⋮</td></tr>\n",
       "\t<tr><th scope=row>349415</th><td>1</td><td>0</td><td>1</td><td>38</td><td>1</td><td>1</td><td>1</td><td>0</td><td>1</td><td>1</td><td>⋯</td><td>0</td><td>5</td><td>30</td><td>30</td><td>1</td><td>1</td><td> 9</td><td>5</td><td>2</td><td>1</td></tr>\n",
       "\t<tr><th scope=row>349416</th><td>1</td><td>0</td><td>1</td><td>30</td><td>1</td><td>0</td><td>0</td><td>0</td><td>1</td><td>1</td><td>⋯</td><td>0</td><td>2</td><td> 0</td><td> 1</td><td>0</td><td>0</td><td> 8</td><td>5</td><td>7</td><td>1</td></tr>\n",
       "\t<tr><th scope=row>349417</th><td>1</td><td>1</td><td>1</td><td>37</td><td>0</td><td>0</td><td>0</td><td>0</td><td>0</td><td>1</td><td>⋯</td><td>0</td><td>4</td><td> 5</td><td>30</td><td>1</td><td>0</td><td> 9</td><td>6</td><td>5</td><td>1</td></tr>\n",
       "\t<tr><th scope=row>349418</th><td>1</td><td>1</td><td>1</td><td>27</td><td>1</td><td>0</td><td>0</td><td>1</td><td>0</td><td>1</td><td>⋯</td><td>0</td><td>3</td><td> 0</td><td> 5</td><td>1</td><td>0</td><td>12</td><td>4</td><td>3</td><td>1</td></tr>\n",
       "\t<tr><th scope=row>349419</th><td>1</td><td>0</td><td>1</td><td>30</td><td>0</td><td>0</td><td>0</td><td>1</td><td>1</td><td>0</td><td>⋯</td><td>0</td><td>3</td><td> 0</td><td> 0</td><td>0</td><td>0</td><td>10</td><td>5</td><td>4</td><td>1</td></tr>\n",
       "\t<tr><th scope=row>349420</th><td>1</td><td>1</td><td>1</td><td>36</td><td>1</td><td>0</td><td>0</td><td>1</td><td>0</td><td>1</td><td>⋯</td><td>0</td><td>4</td><td> 2</td><td>30</td><td>1</td><td>1</td><td> 8</td><td>4</td><td>5</td><td>1</td></tr>\n",
       "\t<tr><th scope=row>349421</th><td>1</td><td>1</td><td>1</td><td>26</td><td>1</td><td>0</td><td>0</td><td>1</td><td>0</td><td>1</td><td>⋯</td><td>0</td><td>3</td><td> 1</td><td> 1</td><td>0</td><td>0</td><td> 9</td><td>4</td><td>6</td><td>1</td></tr>\n",
       "\t<tr><th scope=row>349422</th><td>0</td><td>0</td><td>1</td><td>34</td><td>0</td><td>0</td><td>0</td><td>1</td><td>1</td><td>1</td><td>⋯</td><td>0</td><td>2</td><td> 5</td><td> 1</td><td>0</td><td>0</td><td> 4</td><td>6</td><td>7</td><td>1</td></tr>\n",
       "\t<tr><th scope=row>349423</th><td>1</td><td>1</td><td>1</td><td>29</td><td>1</td><td>0</td><td>0</td><td>0</td><td>0</td><td>1</td><td>⋯</td><td>0</td><td>3</td><td> 0</td><td> 0</td><td>0</td><td>1</td><td>12</td><td>5</td><td>6</td><td>1</td></tr>\n",
       "\t<tr><th scope=row>349424</th><td>1</td><td>1</td><td>1</td><td>30</td><td>1</td><td>0</td><td>0</td><td>0</td><td>1</td><td>1</td><td>⋯</td><td>0</td><td>2</td><td> 0</td><td> 0</td><td>0</td><td>1</td><td>13</td><td>6</td><td>8</td><td>1</td></tr>\n",
       "\t<tr><th scope=row>349425</th><td>0</td><td>1</td><td>1</td><td>31</td><td>1</td><td>0</td><td>0</td><td>1</td><td>0</td><td>1</td><td>⋯</td><td>0</td><td>2</td><td> 0</td><td> 0</td><td>0</td><td>0</td><td>10</td><td>5</td><td>6</td><td>1</td></tr>\n",
       "\t<tr><th scope=row>349426</th><td>1</td><td>1</td><td>1</td><td>36</td><td>0</td><td>0</td><td>0</td><td>1</td><td>1</td><td>1</td><td>⋯</td><td>0</td><td>3</td><td> 0</td><td> 2</td><td>0</td><td>1</td><td>10</td><td>5</td><td>7</td><td>1</td></tr>\n",
       "\t<tr><th scope=row>349427</th><td>0</td><td>1</td><td>1</td><td>32</td><td>1</td><td>0</td><td>0</td><td>0</td><td>1</td><td>1</td><td>⋯</td><td>0</td><td>2</td><td> 0</td><td> 0</td><td>1</td><td>0</td><td>13</td><td>5</td><td>6</td><td>1</td></tr>\n",
       "\t<tr><th scope=row>349428</th><td>0</td><td>0</td><td>1</td><td>35</td><td>1</td><td>0</td><td>0</td><td>1</td><td>1</td><td>1</td><td>⋯</td><td>0</td><td>3</td><td> 0</td><td>30</td><td>1</td><td>1</td><td> 7</td><td>4</td><td>7</td><td>1</td></tr>\n",
       "\t<tr><th scope=row>349429</th><td>0</td><td>1</td><td>1</td><td>46</td><td>0</td><td>0</td><td>0</td><td>1</td><td>1</td><td>0</td><td>⋯</td><td>0</td><td>3</td><td> 0</td><td> 0</td><td>1</td><td>0</td><td>10</td><td>4</td><td>2</td><td>1</td></tr>\n",
       "\t<tr><th scope=row>349430</th><td>1</td><td>1</td><td>1</td><td>57</td><td>0</td><td>0</td><td>0</td><td>1</td><td>0</td><td>0</td><td>⋯</td><td>1</td><td>4</td><td>30</td><td>28</td><td>1</td><td>0</td><td>10</td><td>3</td><td>4</td><td>1</td></tr>\n",
       "\t<tr><th scope=row>349431</th><td>1</td><td>1</td><td>1</td><td>36</td><td>1</td><td>0</td><td>0</td><td>1</td><td>0</td><td>0</td><td>⋯</td><td>0</td><td>3</td><td> 0</td><td> 0</td><td>1</td><td>0</td><td>10</td><td>4</td><td>2</td><td>1</td></tr>\n",
       "\t<tr><th scope=row>349432</th><td>1</td><td>1</td><td>1</td><td>22</td><td>1</td><td>0</td><td>1</td><td>1</td><td>0</td><td>1</td><td>⋯</td><td>0</td><td>2</td><td> 0</td><td> 0</td><td>0</td><td>0</td><td>12</td><td>6</td><td>7</td><td>1</td></tr>\n",
       "\t<tr><th scope=row>349433</th><td>1</td><td>1</td><td>1</td><td>52</td><td>0</td><td>0</td><td>0</td><td>0</td><td>1</td><td>1</td><td>⋯</td><td>0</td><td>3</td><td> 0</td><td> 0</td><td>1</td><td>1</td><td> 9</td><td>4</td><td>3</td><td>1</td></tr>\n",
       "\t<tr><th scope=row>349434</th><td>1</td><td>1</td><td>1</td><td>28</td><td>1</td><td>0</td><td>0</td><td>1</td><td>1</td><td>1</td><td>⋯</td><td>0</td><td>4</td><td>15</td><td>18</td><td>0</td><td>1</td><td> 8</td><td>6</td><td>3</td><td>1</td></tr>\n",
       "\t<tr><th scope=row>349435</th><td>1</td><td>1</td><td>1</td><td>33</td><td>0</td><td>0</td><td>0</td><td>0</td><td>1</td><td>0</td><td>⋯</td><td>0</td><td>3</td><td> 0</td><td> 0</td><td>0</td><td>0</td><td> 9</td><td>6</td><td>7</td><td>1</td></tr>\n",
       "\t<tr><th scope=row>349436</th><td>1</td><td>1</td><td>1</td><td>33</td><td>1</td><td>0</td><td>0</td><td>1</td><td>0</td><td>1</td><td>⋯</td><td>0</td><td>3</td><td> 0</td><td> 5</td><td>0</td><td>1</td><td> 8</td><td>5</td><td>8</td><td>1</td></tr>\n",
       "\t<tr><th scope=row>349437</th><td>1</td><td>1</td><td>1</td><td>44</td><td>1</td><td>0</td><td>0</td><td>0</td><td>1</td><td>1</td><td>⋯</td><td>0</td><td>4</td><td>25</td><td>15</td><td>0</td><td>0</td><td> 4</td><td>6</td><td>8</td><td>1</td></tr>\n",
       "\t<tr><th scope=row>349438</th><td>1</td><td>1</td><td>1</td><td>34</td><td>0</td><td>0</td><td>0</td><td>1</td><td>1</td><td>1</td><td>⋯</td><td>0</td><td>2</td><td> 0</td><td> 1</td><td>0</td><td>0</td><td> 9</td><td>5</td><td>6</td><td>1</td></tr>\n",
       "\t<tr><th scope=row>349439</th><td>1</td><td>1</td><td>1</td><td>26</td><td>0</td><td>0</td><td>1</td><td>1</td><td>0</td><td>1</td><td>⋯</td><td>0</td><td>3</td><td> 0</td><td> 0</td><td>0</td><td>1</td><td>13</td><td>6</td><td>8</td><td>1</td></tr>\n",
       "\t<tr><th scope=row>349440</th><td>1</td><td>0</td><td>1</td><td>26</td><td>1</td><td>0</td><td>0</td><td>1</td><td>1</td><td>1</td><td>⋯</td><td>0</td><td>3</td><td> 0</td><td> 0</td><td>0</td><td>1</td><td>11</td><td>4</td><td>7</td><td>1</td></tr>\n",
       "\t<tr><th scope=row>349441</th><td>0</td><td>0</td><td>1</td><td>46</td><td>1</td><td>0</td><td>1</td><td>0</td><td>1</td><td>0</td><td>⋯</td><td>0</td><td>5</td><td> 0</td><td> 0</td><td>1</td><td>0</td><td> 9</td><td>5</td><td>7</td><td>1</td></tr>\n",
       "\t<tr><th scope=row>349442</th><td>1</td><td>1</td><td>1</td><td>26</td><td>1</td><td>1</td><td>1</td><td>0</td><td>1</td><td>1</td><td>⋯</td><td>0</td><td>5</td><td>30</td><td>30</td><td>1</td><td>1</td><td> 7</td><td>3</td><td>3</td><td>1</td></tr>\n",
       "\t<tr><th scope=row>349443</th><td>0</td><td>0</td><td>1</td><td>36</td><td>0</td><td>0</td><td>0</td><td>0</td><td>1</td><td>1</td><td>⋯</td><td>0</td><td>3</td><td> 0</td><td> 0</td><td>0</td><td>1</td><td> 8</td><td>4</td><td>7</td><td>1</td></tr>\n",
       "\t<tr><th scope=row>349444</th><td>0</td><td>0</td><td>1</td><td>21</td><td>1</td><td>0</td><td>0</td><td>1</td><td>0</td><td>0</td><td>⋯</td><td>0</td><td>2</td><td> 0</td><td> 0</td><td>0</td><td>1</td><td>11</td><td>4</td><td>6</td><td>1</td></tr>\n",
       "</tbody>\n",
       "</table>\n"
      ],
      "text/latex": [
       "A data.frame: 349444 × 22\n",
       "\\begin{tabular}{r|lllllllllllllllllllll}\n",
       "  & HighBP & HighChol & CholCheck & BMI & Smoker & Stroke & HeartDiseaseorAttack & PhysActivity & Fruits & Veggies & ⋯ & NoDocbcCost & GenHlth & MentHlth & PhysHlth & DiffWalk & Sex & Age & Education & Income & Diabetes\\_binary\\\\\n",
       "  & <int> & <int> & <int> & <int> & <int> & <int> & <int> & <int> & <int> & <int> & ⋯ & <int> & <int> & <int> & <int> & <int> & <int> & <int> & <int> & <int> & <int>\\\\\n",
       "\\hline\n",
       "\t1 & 1 & 1 & 1 & 40 & 1 & 0 & 0 & 0 & 0 & 1 & ⋯ & 0 & 5 & 18 & 15 & 1 & 0 &  9 & 4 & 3 & 0\\\\\n",
       "\t2 & 0 & 0 & 0 & 25 & 1 & 0 & 0 & 1 & 0 & 0 & ⋯ & 1 & 3 &  0 &  0 & 0 & 0 &  7 & 6 & 1 & 0\\\\\n",
       "\t3 & 1 & 1 & 1 & 28 & 0 & 0 & 0 & 0 & 1 & 0 & ⋯ & 1 & 5 & 30 & 30 & 1 & 0 &  9 & 4 & 8 & 0\\\\\n",
       "\t4 & 1 & 0 & 1 & 27 & 0 & 0 & 0 & 1 & 1 & 1 & ⋯ & 0 & 2 &  0 &  0 & 0 & 0 & 11 & 3 & 6 & 0\\\\\n",
       "\t5 & 1 & 1 & 1 & 24 & 0 & 0 & 0 & 1 & 1 & 1 & ⋯ & 0 & 2 &  3 &  0 & 0 & 0 & 11 & 5 & 4 & 0\\\\\n",
       "\t6 & 1 & 1 & 1 & 25 & 1 & 0 & 0 & 1 & 1 & 1 & ⋯ & 0 & 2 &  0 &  2 & 0 & 1 & 10 & 6 & 8 & 0\\\\\n",
       "\t7 & 1 & 0 & 1 & 30 & 1 & 0 & 0 & 0 & 0 & 0 & ⋯ & 0 & 3 &  0 & 14 & 0 & 0 &  9 & 6 & 7 & 0\\\\\n",
       "\t8 & 1 & 1 & 1 & 25 & 1 & 0 & 0 & 1 & 0 & 1 & ⋯ & 0 & 3 &  0 &  0 & 1 & 0 & 11 & 4 & 4 & 0\\\\\n",
       "\t9 & 0 & 0 & 1 & 24 & 0 & 0 & 0 & 0 & 0 & 1 & ⋯ & 0 & 2 &  0 &  0 & 0 & 1 &  8 & 4 & 3 & 0\\\\\n",
       "\t10 & 0 & 0 & 1 & 26 & 1 & 0 & 0 & 0 & 0 & 1 & ⋯ & 0 & 3 &  0 & 15 & 0 & 0 &  7 & 5 & 7 & 0\\\\\n",
       "\t11 & 0 & 1 & 1 & 33 & 1 & 1 & 0 & 1 & 0 & 1 & ⋯ & 1 & 4 & 30 & 28 & 0 & 0 &  4 & 6 & 2 & 0\\\\\n",
       "\t12 & 1 & 0 & 1 & 33 & 0 & 0 & 0 & 1 & 0 & 0 & ⋯ & 0 & 2 &  5 &  0 & 0 & 0 &  6 & 6 & 8 & 0\\\\\n",
       "\t13 & 1 & 1 & 1 & 21 & 0 & 0 & 0 & 1 & 1 & 1 & ⋯ & 0 & 3 &  0 &  0 & 0 & 0 & 10 & 4 & 3 & 0\\\\\n",
       "\t14 & 0 & 0 & 0 & 23 & 0 & 0 & 0 & 0 & 0 & 1 & ⋯ & 0 & 2 & 15 &  0 & 0 & 0 &  2 & 6 & 7 & 0\\\\\n",
       "\t15 & 0 & 1 & 1 & 28 & 0 & 0 & 0 & 0 & 0 & 0 & ⋯ & 0 & 2 & 10 &  0 & 0 & 1 &  4 & 6 & 8 & 0\\\\\n",
       "\t16 & 1 & 1 & 1 & 22 & 0 & 1 & 1 & 0 & 1 & 0 & ⋯ & 0 & 3 & 30 &  0 & 1 & 0 & 12 & 4 & 4 & 0\\\\\n",
       "\t17 & 1 & 1 & 1 & 38 & 1 & 0 & 0 & 0 & 1 & 1 & ⋯ & 0 & 5 & 15 & 30 & 1 & 0 & 13 & 2 & 3 & 0\\\\\n",
       "\t18 & 0 & 0 & 1 & 28 & 1 & 0 & 0 & 0 & 0 & 1 & ⋯ & 0 & 3 &  0 &  7 & 0 & 1 &  5 & 5 & 5 & 0\\\\\n",
       "\t19 & 1 & 1 & 1 & 28 & 1 & 0 & 0 & 0 & 1 & 1 & ⋯ & 0 & 3 &  6 &  0 & 1 & 0 &  9 & 4 & 6 & 0\\\\\n",
       "\t20 & 1 & 0 & 1 & 33 & 1 & 0 & 0 & 1 & 1 & 1 & ⋯ & 0 & 1 &  0 &  0 & 1 & 1 & 13 & 3 & 3 & 0\\\\\n",
       "\t21 & 1 & 0 & 1 & 31 & 0 & 0 & 0 & 1 & 0 & 0 & ⋯ & 0 & 3 &  0 &  0 & 0 & 1 & 11 & 6 & 2 & 0\\\\\n",
       "\t22 & 1 & 1 & 1 & 24 & 1 & 0 & 0 & 1 & 0 & 1 & ⋯ & 0 & 3 &  5 &  3 & 1 & 1 &  8 & 4 & 3 & 0\\\\\n",
       "\t23 & 0 & 0 & 1 & 22 & 0 & 0 & 0 & 1 & 1 & 1 & ⋯ & 0 & 2 &  0 & 10 & 0 & 0 & 12 & 5 & 7 & 0\\\\\n",
       "\t24 & 0 & 0 & 1 & 26 & 1 & 0 & 0 & 1 & 1 & 1 & ⋯ & 0 & 1 &  0 &  1 & 0 & 1 &  4 & 5 & 3 & 0\\\\\n",
       "\t25 & 1 & 1 & 1 & 24 & 1 & 0 & 0 & 0 & 1 & 1 & ⋯ & 0 & 5 &  0 & 30 & 0 & 1 &  9 & 3 & 1 & 0\\\\\n",
       "\t26 & 0 & 0 & 1 & 26 & 0 & 0 & 0 & 1 & 1 & 0 & ⋯ & 0 & 2 &  0 &  1 & 0 & 0 &  4 & 6 & 7 & 0\\\\\n",
       "\t27 & 0 & 0 & 1 & 28 & 1 & 1 & 0 & 0 & 1 & 1 & ⋯ & 1 & 4 & 15 & 30 & 1 & 0 &  7 & 4 & 3 & 0\\\\\n",
       "\t28 & 1 & 0 & 1 & 23 & 1 & 0 & 0 & 1 & 0 & 1 & ⋯ & 0 & 2 & 25 &  0 & 0 & 0 &  9 & 6 & 8 & 0\\\\\n",
       "\t29 & 0 & 1 & 1 & 31 & 1 & 0 & 0 & 0 & 1 & 1 & ⋯ & 0 & 2 &  0 &  0 & 0 & 0 &  8 & 5 & 8 & 0\\\\\n",
       "\t30 & 0 & 1 & 1 & 21 & 1 & 0 & 0 & 1 & 1 & 1 & ⋯ & 0 & 3 & 30 &  0 & 0 & 0 &  8 & 6 & 3 & 0\\\\\n",
       "\t⋮ & ⋮ & ⋮ & ⋮ & ⋮ & ⋮ & ⋮ & ⋮ & ⋮ & ⋮ & ⋮ & ⋱ & ⋮ & ⋮ & ⋮ & ⋮ & ⋮ & ⋮ & ⋮ & ⋮ & ⋮ & ⋮\\\\\n",
       "\t349415 & 1 & 0 & 1 & 38 & 1 & 1 & 1 & 0 & 1 & 1 & ⋯ & 0 & 5 & 30 & 30 & 1 & 1 &  9 & 5 & 2 & 1\\\\\n",
       "\t349416 & 1 & 0 & 1 & 30 & 1 & 0 & 0 & 0 & 1 & 1 & ⋯ & 0 & 2 &  0 &  1 & 0 & 0 &  8 & 5 & 7 & 1\\\\\n",
       "\t349417 & 1 & 1 & 1 & 37 & 0 & 0 & 0 & 0 & 0 & 1 & ⋯ & 0 & 4 &  5 & 30 & 1 & 0 &  9 & 6 & 5 & 1\\\\\n",
       "\t349418 & 1 & 1 & 1 & 27 & 1 & 0 & 0 & 1 & 0 & 1 & ⋯ & 0 & 3 &  0 &  5 & 1 & 0 & 12 & 4 & 3 & 1\\\\\n",
       "\t349419 & 1 & 0 & 1 & 30 & 0 & 0 & 0 & 1 & 1 & 0 & ⋯ & 0 & 3 &  0 &  0 & 0 & 0 & 10 & 5 & 4 & 1\\\\\n",
       "\t349420 & 1 & 1 & 1 & 36 & 1 & 0 & 0 & 1 & 0 & 1 & ⋯ & 0 & 4 &  2 & 30 & 1 & 1 &  8 & 4 & 5 & 1\\\\\n",
       "\t349421 & 1 & 1 & 1 & 26 & 1 & 0 & 0 & 1 & 0 & 1 & ⋯ & 0 & 3 &  1 &  1 & 0 & 0 &  9 & 4 & 6 & 1\\\\\n",
       "\t349422 & 0 & 0 & 1 & 34 & 0 & 0 & 0 & 1 & 1 & 1 & ⋯ & 0 & 2 &  5 &  1 & 0 & 0 &  4 & 6 & 7 & 1\\\\\n",
       "\t349423 & 1 & 1 & 1 & 29 & 1 & 0 & 0 & 0 & 0 & 1 & ⋯ & 0 & 3 &  0 &  0 & 0 & 1 & 12 & 5 & 6 & 1\\\\\n",
       "\t349424 & 1 & 1 & 1 & 30 & 1 & 0 & 0 & 0 & 1 & 1 & ⋯ & 0 & 2 &  0 &  0 & 0 & 1 & 13 & 6 & 8 & 1\\\\\n",
       "\t349425 & 0 & 1 & 1 & 31 & 1 & 0 & 0 & 1 & 0 & 1 & ⋯ & 0 & 2 &  0 &  0 & 0 & 0 & 10 & 5 & 6 & 1\\\\\n",
       "\t349426 & 1 & 1 & 1 & 36 & 0 & 0 & 0 & 1 & 1 & 1 & ⋯ & 0 & 3 &  0 &  2 & 0 & 1 & 10 & 5 & 7 & 1\\\\\n",
       "\t349427 & 0 & 1 & 1 & 32 & 1 & 0 & 0 & 0 & 1 & 1 & ⋯ & 0 & 2 &  0 &  0 & 1 & 0 & 13 & 5 & 6 & 1\\\\\n",
       "\t349428 & 0 & 0 & 1 & 35 & 1 & 0 & 0 & 1 & 1 & 1 & ⋯ & 0 & 3 &  0 & 30 & 1 & 1 &  7 & 4 & 7 & 1\\\\\n",
       "\t349429 & 0 & 1 & 1 & 46 & 0 & 0 & 0 & 1 & 1 & 0 & ⋯ & 0 & 3 &  0 &  0 & 1 & 0 & 10 & 4 & 2 & 1\\\\\n",
       "\t349430 & 1 & 1 & 1 & 57 & 0 & 0 & 0 & 1 & 0 & 0 & ⋯ & 1 & 4 & 30 & 28 & 1 & 0 & 10 & 3 & 4 & 1\\\\\n",
       "\t349431 & 1 & 1 & 1 & 36 & 1 & 0 & 0 & 1 & 0 & 0 & ⋯ & 0 & 3 &  0 &  0 & 1 & 0 & 10 & 4 & 2 & 1\\\\\n",
       "\t349432 & 1 & 1 & 1 & 22 & 1 & 0 & 1 & 1 & 0 & 1 & ⋯ & 0 & 2 &  0 &  0 & 0 & 0 & 12 & 6 & 7 & 1\\\\\n",
       "\t349433 & 1 & 1 & 1 & 52 & 0 & 0 & 0 & 0 & 1 & 1 & ⋯ & 0 & 3 &  0 &  0 & 1 & 1 &  9 & 4 & 3 & 1\\\\\n",
       "\t349434 & 1 & 1 & 1 & 28 & 1 & 0 & 0 & 1 & 1 & 1 & ⋯ & 0 & 4 & 15 & 18 & 0 & 1 &  8 & 6 & 3 & 1\\\\\n",
       "\t349435 & 1 & 1 & 1 & 33 & 0 & 0 & 0 & 0 & 1 & 0 & ⋯ & 0 & 3 &  0 &  0 & 0 & 0 &  9 & 6 & 7 & 1\\\\\n",
       "\t349436 & 1 & 1 & 1 & 33 & 1 & 0 & 0 & 1 & 0 & 1 & ⋯ & 0 & 3 &  0 &  5 & 0 & 1 &  8 & 5 & 8 & 1\\\\\n",
       "\t349437 & 1 & 1 & 1 & 44 & 1 & 0 & 0 & 0 & 1 & 1 & ⋯ & 0 & 4 & 25 & 15 & 0 & 0 &  4 & 6 & 8 & 1\\\\\n",
       "\t349438 & 1 & 1 & 1 & 34 & 0 & 0 & 0 & 1 & 1 & 1 & ⋯ & 0 & 2 &  0 &  1 & 0 & 0 &  9 & 5 & 6 & 1\\\\\n",
       "\t349439 & 1 & 1 & 1 & 26 & 0 & 0 & 1 & 1 & 0 & 1 & ⋯ & 0 & 3 &  0 &  0 & 0 & 1 & 13 & 6 & 8 & 1\\\\\n",
       "\t349440 & 1 & 0 & 1 & 26 & 1 & 0 & 0 & 1 & 1 & 1 & ⋯ & 0 & 3 &  0 &  0 & 0 & 1 & 11 & 4 & 7 & 1\\\\\n",
       "\t349441 & 0 & 0 & 1 & 46 & 1 & 0 & 1 & 0 & 1 & 0 & ⋯ & 0 & 5 &  0 &  0 & 1 & 0 &  9 & 5 & 7 & 1\\\\\n",
       "\t349442 & 1 & 1 & 1 & 26 & 1 & 1 & 1 & 0 & 1 & 1 & ⋯ & 0 & 5 & 30 & 30 & 1 & 1 &  7 & 3 & 3 & 1\\\\\n",
       "\t349443 & 0 & 0 & 1 & 36 & 0 & 0 & 0 & 0 & 1 & 1 & ⋯ & 0 & 3 &  0 &  0 & 0 & 1 &  8 & 4 & 7 & 1\\\\\n",
       "\t349444 & 0 & 0 & 1 & 21 & 1 & 0 & 0 & 1 & 0 & 0 & ⋯ & 0 & 2 &  0 &  0 & 0 & 1 & 11 & 4 & 6 & 1\\\\\n",
       "\\end{tabular}\n"
      ],
      "text/markdown": [
       "\n",
       "A data.frame: 349444 × 22\n",
       "\n",
       "| <!--/--> | HighBP &lt;int&gt; | HighChol &lt;int&gt; | CholCheck &lt;int&gt; | BMI &lt;int&gt; | Smoker &lt;int&gt; | Stroke &lt;int&gt; | HeartDiseaseorAttack &lt;int&gt; | PhysActivity &lt;int&gt; | Fruits &lt;int&gt; | Veggies &lt;int&gt; | ⋯ ⋯ | NoDocbcCost &lt;int&gt; | GenHlth &lt;int&gt; | MentHlth &lt;int&gt; | PhysHlth &lt;int&gt; | DiffWalk &lt;int&gt; | Sex &lt;int&gt; | Age &lt;int&gt; | Education &lt;int&gt; | Income &lt;int&gt; | Diabetes_binary &lt;int&gt; |\n",
       "|---|---|---|---|---|---|---|---|---|---|---|---|---|---|---|---|---|---|---|---|---|---|\n",
       "| 1 | 1 | 1 | 1 | 40 | 1 | 0 | 0 | 0 | 0 | 1 | ⋯ | 0 | 5 | 18 | 15 | 1 | 0 |  9 | 4 | 3 | 0 |\n",
       "| 2 | 0 | 0 | 0 | 25 | 1 | 0 | 0 | 1 | 0 | 0 | ⋯ | 1 | 3 |  0 |  0 | 0 | 0 |  7 | 6 | 1 | 0 |\n",
       "| 3 | 1 | 1 | 1 | 28 | 0 | 0 | 0 | 0 | 1 | 0 | ⋯ | 1 | 5 | 30 | 30 | 1 | 0 |  9 | 4 | 8 | 0 |\n",
       "| 4 | 1 | 0 | 1 | 27 | 0 | 0 | 0 | 1 | 1 | 1 | ⋯ | 0 | 2 |  0 |  0 | 0 | 0 | 11 | 3 | 6 | 0 |\n",
       "| 5 | 1 | 1 | 1 | 24 | 0 | 0 | 0 | 1 | 1 | 1 | ⋯ | 0 | 2 |  3 |  0 | 0 | 0 | 11 | 5 | 4 | 0 |\n",
       "| 6 | 1 | 1 | 1 | 25 | 1 | 0 | 0 | 1 | 1 | 1 | ⋯ | 0 | 2 |  0 |  2 | 0 | 1 | 10 | 6 | 8 | 0 |\n",
       "| 7 | 1 | 0 | 1 | 30 | 1 | 0 | 0 | 0 | 0 | 0 | ⋯ | 0 | 3 |  0 | 14 | 0 | 0 |  9 | 6 | 7 | 0 |\n",
       "| 8 | 1 | 1 | 1 | 25 | 1 | 0 | 0 | 1 | 0 | 1 | ⋯ | 0 | 3 |  0 |  0 | 1 | 0 | 11 | 4 | 4 | 0 |\n",
       "| 9 | 0 | 0 | 1 | 24 | 0 | 0 | 0 | 0 | 0 | 1 | ⋯ | 0 | 2 |  0 |  0 | 0 | 1 |  8 | 4 | 3 | 0 |\n",
       "| 10 | 0 | 0 | 1 | 26 | 1 | 0 | 0 | 0 | 0 | 1 | ⋯ | 0 | 3 |  0 | 15 | 0 | 0 |  7 | 5 | 7 | 0 |\n",
       "| 11 | 0 | 1 | 1 | 33 | 1 | 1 | 0 | 1 | 0 | 1 | ⋯ | 1 | 4 | 30 | 28 | 0 | 0 |  4 | 6 | 2 | 0 |\n",
       "| 12 | 1 | 0 | 1 | 33 | 0 | 0 | 0 | 1 | 0 | 0 | ⋯ | 0 | 2 |  5 |  0 | 0 | 0 |  6 | 6 | 8 | 0 |\n",
       "| 13 | 1 | 1 | 1 | 21 | 0 | 0 | 0 | 1 | 1 | 1 | ⋯ | 0 | 3 |  0 |  0 | 0 | 0 | 10 | 4 | 3 | 0 |\n",
       "| 14 | 0 | 0 | 0 | 23 | 0 | 0 | 0 | 0 | 0 | 1 | ⋯ | 0 | 2 | 15 |  0 | 0 | 0 |  2 | 6 | 7 | 0 |\n",
       "| 15 | 0 | 1 | 1 | 28 | 0 | 0 | 0 | 0 | 0 | 0 | ⋯ | 0 | 2 | 10 |  0 | 0 | 1 |  4 | 6 | 8 | 0 |\n",
       "| 16 | 1 | 1 | 1 | 22 | 0 | 1 | 1 | 0 | 1 | 0 | ⋯ | 0 | 3 | 30 |  0 | 1 | 0 | 12 | 4 | 4 | 0 |\n",
       "| 17 | 1 | 1 | 1 | 38 | 1 | 0 | 0 | 0 | 1 | 1 | ⋯ | 0 | 5 | 15 | 30 | 1 | 0 | 13 | 2 | 3 | 0 |\n",
       "| 18 | 0 | 0 | 1 | 28 | 1 | 0 | 0 | 0 | 0 | 1 | ⋯ | 0 | 3 |  0 |  7 | 0 | 1 |  5 | 5 | 5 | 0 |\n",
       "| 19 | 1 | 1 | 1 | 28 | 1 | 0 | 0 | 0 | 1 | 1 | ⋯ | 0 | 3 |  6 |  0 | 1 | 0 |  9 | 4 | 6 | 0 |\n",
       "| 20 | 1 | 0 | 1 | 33 | 1 | 0 | 0 | 1 | 1 | 1 | ⋯ | 0 | 1 |  0 |  0 | 1 | 1 | 13 | 3 | 3 | 0 |\n",
       "| 21 | 1 | 0 | 1 | 31 | 0 | 0 | 0 | 1 | 0 | 0 | ⋯ | 0 | 3 |  0 |  0 | 0 | 1 | 11 | 6 | 2 | 0 |\n",
       "| 22 | 1 | 1 | 1 | 24 | 1 | 0 | 0 | 1 | 0 | 1 | ⋯ | 0 | 3 |  5 |  3 | 1 | 1 |  8 | 4 | 3 | 0 |\n",
       "| 23 | 0 | 0 | 1 | 22 | 0 | 0 | 0 | 1 | 1 | 1 | ⋯ | 0 | 2 |  0 | 10 | 0 | 0 | 12 | 5 | 7 | 0 |\n",
       "| 24 | 0 | 0 | 1 | 26 | 1 | 0 | 0 | 1 | 1 | 1 | ⋯ | 0 | 1 |  0 |  1 | 0 | 1 |  4 | 5 | 3 | 0 |\n",
       "| 25 | 1 | 1 | 1 | 24 | 1 | 0 | 0 | 0 | 1 | 1 | ⋯ | 0 | 5 |  0 | 30 | 0 | 1 |  9 | 3 | 1 | 0 |\n",
       "| 26 | 0 | 0 | 1 | 26 | 0 | 0 | 0 | 1 | 1 | 0 | ⋯ | 0 | 2 |  0 |  1 | 0 | 0 |  4 | 6 | 7 | 0 |\n",
       "| 27 | 0 | 0 | 1 | 28 | 1 | 1 | 0 | 0 | 1 | 1 | ⋯ | 1 | 4 | 15 | 30 | 1 | 0 |  7 | 4 | 3 | 0 |\n",
       "| 28 | 1 | 0 | 1 | 23 | 1 | 0 | 0 | 1 | 0 | 1 | ⋯ | 0 | 2 | 25 |  0 | 0 | 0 |  9 | 6 | 8 | 0 |\n",
       "| 29 | 0 | 1 | 1 | 31 | 1 | 0 | 0 | 0 | 1 | 1 | ⋯ | 0 | 2 |  0 |  0 | 0 | 0 |  8 | 5 | 8 | 0 |\n",
       "| 30 | 0 | 1 | 1 | 21 | 1 | 0 | 0 | 1 | 1 | 1 | ⋯ | 0 | 3 | 30 |  0 | 0 | 0 |  8 | 6 | 3 | 0 |\n",
       "| ⋮ | ⋮ | ⋮ | ⋮ | ⋮ | ⋮ | ⋮ | ⋮ | ⋮ | ⋮ | ⋮ | ⋱ | ⋮ | ⋮ | ⋮ | ⋮ | ⋮ | ⋮ | ⋮ | ⋮ | ⋮ | ⋮ |\n",
       "| 349415 | 1 | 0 | 1 | 38 | 1 | 1 | 1 | 0 | 1 | 1 | ⋯ | 0 | 5 | 30 | 30 | 1 | 1 |  9 | 5 | 2 | 1 |\n",
       "| 349416 | 1 | 0 | 1 | 30 | 1 | 0 | 0 | 0 | 1 | 1 | ⋯ | 0 | 2 |  0 |  1 | 0 | 0 |  8 | 5 | 7 | 1 |\n",
       "| 349417 | 1 | 1 | 1 | 37 | 0 | 0 | 0 | 0 | 0 | 1 | ⋯ | 0 | 4 |  5 | 30 | 1 | 0 |  9 | 6 | 5 | 1 |\n",
       "| 349418 | 1 | 1 | 1 | 27 | 1 | 0 | 0 | 1 | 0 | 1 | ⋯ | 0 | 3 |  0 |  5 | 1 | 0 | 12 | 4 | 3 | 1 |\n",
       "| 349419 | 1 | 0 | 1 | 30 | 0 | 0 | 0 | 1 | 1 | 0 | ⋯ | 0 | 3 |  0 |  0 | 0 | 0 | 10 | 5 | 4 | 1 |\n",
       "| 349420 | 1 | 1 | 1 | 36 | 1 | 0 | 0 | 1 | 0 | 1 | ⋯ | 0 | 4 |  2 | 30 | 1 | 1 |  8 | 4 | 5 | 1 |\n",
       "| 349421 | 1 | 1 | 1 | 26 | 1 | 0 | 0 | 1 | 0 | 1 | ⋯ | 0 | 3 |  1 |  1 | 0 | 0 |  9 | 4 | 6 | 1 |\n",
       "| 349422 | 0 | 0 | 1 | 34 | 0 | 0 | 0 | 1 | 1 | 1 | ⋯ | 0 | 2 |  5 |  1 | 0 | 0 |  4 | 6 | 7 | 1 |\n",
       "| 349423 | 1 | 1 | 1 | 29 | 1 | 0 | 0 | 0 | 0 | 1 | ⋯ | 0 | 3 |  0 |  0 | 0 | 1 | 12 | 5 | 6 | 1 |\n",
       "| 349424 | 1 | 1 | 1 | 30 | 1 | 0 | 0 | 0 | 1 | 1 | ⋯ | 0 | 2 |  0 |  0 | 0 | 1 | 13 | 6 | 8 | 1 |\n",
       "| 349425 | 0 | 1 | 1 | 31 | 1 | 0 | 0 | 1 | 0 | 1 | ⋯ | 0 | 2 |  0 |  0 | 0 | 0 | 10 | 5 | 6 | 1 |\n",
       "| 349426 | 1 | 1 | 1 | 36 | 0 | 0 | 0 | 1 | 1 | 1 | ⋯ | 0 | 3 |  0 |  2 | 0 | 1 | 10 | 5 | 7 | 1 |\n",
       "| 349427 | 0 | 1 | 1 | 32 | 1 | 0 | 0 | 0 | 1 | 1 | ⋯ | 0 | 2 |  0 |  0 | 1 | 0 | 13 | 5 | 6 | 1 |\n",
       "| 349428 | 0 | 0 | 1 | 35 | 1 | 0 | 0 | 1 | 1 | 1 | ⋯ | 0 | 3 |  0 | 30 | 1 | 1 |  7 | 4 | 7 | 1 |\n",
       "| 349429 | 0 | 1 | 1 | 46 | 0 | 0 | 0 | 1 | 1 | 0 | ⋯ | 0 | 3 |  0 |  0 | 1 | 0 | 10 | 4 | 2 | 1 |\n",
       "| 349430 | 1 | 1 | 1 | 57 | 0 | 0 | 0 | 1 | 0 | 0 | ⋯ | 1 | 4 | 30 | 28 | 1 | 0 | 10 | 3 | 4 | 1 |\n",
       "| 349431 | 1 | 1 | 1 | 36 | 1 | 0 | 0 | 1 | 0 | 0 | ⋯ | 0 | 3 |  0 |  0 | 1 | 0 | 10 | 4 | 2 | 1 |\n",
       "| 349432 | 1 | 1 | 1 | 22 | 1 | 0 | 1 | 1 | 0 | 1 | ⋯ | 0 | 2 |  0 |  0 | 0 | 0 | 12 | 6 | 7 | 1 |\n",
       "| 349433 | 1 | 1 | 1 | 52 | 0 | 0 | 0 | 0 | 1 | 1 | ⋯ | 0 | 3 |  0 |  0 | 1 | 1 |  9 | 4 | 3 | 1 |\n",
       "| 349434 | 1 | 1 | 1 | 28 | 1 | 0 | 0 | 1 | 1 | 1 | ⋯ | 0 | 4 | 15 | 18 | 0 | 1 |  8 | 6 | 3 | 1 |\n",
       "| 349435 | 1 | 1 | 1 | 33 | 0 | 0 | 0 | 0 | 1 | 0 | ⋯ | 0 | 3 |  0 |  0 | 0 | 0 |  9 | 6 | 7 | 1 |\n",
       "| 349436 | 1 | 1 | 1 | 33 | 1 | 0 | 0 | 1 | 0 | 1 | ⋯ | 0 | 3 |  0 |  5 | 0 | 1 |  8 | 5 | 8 | 1 |\n",
       "| 349437 | 1 | 1 | 1 | 44 | 1 | 0 | 0 | 0 | 1 | 1 | ⋯ | 0 | 4 | 25 | 15 | 0 | 0 |  4 | 6 | 8 | 1 |\n",
       "| 349438 | 1 | 1 | 1 | 34 | 0 | 0 | 0 | 1 | 1 | 1 | ⋯ | 0 | 2 |  0 |  1 | 0 | 0 |  9 | 5 | 6 | 1 |\n",
       "| 349439 | 1 | 1 | 1 | 26 | 0 | 0 | 1 | 1 | 0 | 1 | ⋯ | 0 | 3 |  0 |  0 | 0 | 1 | 13 | 6 | 8 | 1 |\n",
       "| 349440 | 1 | 0 | 1 | 26 | 1 | 0 | 0 | 1 | 1 | 1 | ⋯ | 0 | 3 |  0 |  0 | 0 | 1 | 11 | 4 | 7 | 1 |\n",
       "| 349441 | 0 | 0 | 1 | 46 | 1 | 0 | 1 | 0 | 1 | 0 | ⋯ | 0 | 5 |  0 |  0 | 1 | 0 |  9 | 5 | 7 | 1 |\n",
       "| 349442 | 1 | 1 | 1 | 26 | 1 | 1 | 1 | 0 | 1 | 1 | ⋯ | 0 | 5 | 30 | 30 | 1 | 1 |  7 | 3 | 3 | 1 |\n",
       "| 349443 | 0 | 0 | 1 | 36 | 0 | 0 | 0 | 0 | 1 | 1 | ⋯ | 0 | 3 |  0 |  0 | 0 | 1 |  8 | 4 | 7 | 1 |\n",
       "| 349444 | 0 | 0 | 1 | 21 | 1 | 0 | 0 | 1 | 0 | 0 | ⋯ | 0 | 2 |  0 |  0 | 0 | 1 | 11 | 4 | 6 | 1 |\n",
       "\n"
      ],
      "text/plain": [
       "       HighBP HighChol CholCheck BMI Smoker Stroke HeartDiseaseorAttack\n",
       "1      1      1        1         40  1      0      0                   \n",
       "2      0      0        0         25  1      0      0                   \n",
       "3      1      1        1         28  0      0      0                   \n",
       "4      1      0        1         27  0      0      0                   \n",
       "5      1      1        1         24  0      0      0                   \n",
       "6      1      1        1         25  1      0      0                   \n",
       "7      1      0        1         30  1      0      0                   \n",
       "8      1      1        1         25  1      0      0                   \n",
       "9      0      0        1         24  0      0      0                   \n",
       "10     0      0        1         26  1      0      0                   \n",
       "11     0      1        1         33  1      1      0                   \n",
       "12     1      0        1         33  0      0      0                   \n",
       "13     1      1        1         21  0      0      0                   \n",
       "14     0      0        0         23  0      0      0                   \n",
       "15     0      1        1         28  0      0      0                   \n",
       "16     1      1        1         22  0      1      1                   \n",
       "17     1      1        1         38  1      0      0                   \n",
       "18     0      0        1         28  1      0      0                   \n",
       "19     1      1        1         28  1      0      0                   \n",
       "20     1      0        1         33  1      0      0                   \n",
       "21     1      0        1         31  0      0      0                   \n",
       "22     1      1        1         24  1      0      0                   \n",
       "23     0      0        1         22  0      0      0                   \n",
       "24     0      0        1         26  1      0      0                   \n",
       "25     1      1        1         24  1      0      0                   \n",
       "26     0      0        1         26  0      0      0                   \n",
       "27     0      0        1         28  1      1      0                   \n",
       "28     1      0        1         23  1      0      0                   \n",
       "29     0      1        1         31  1      0      0                   \n",
       "30     0      1        1         21  1      0      0                   \n",
       "<U+22EE>      <U+22EE> <U+22EE> <U+22EE>  <U+22EE> <U+22EE> <U+22EE> <U+22EE>            \n",
       "349415 1      0        1         38  1      1      1                   \n",
       "349416 1      0        1         30  1      0      0                   \n",
       "349417 1      1        1         37  0      0      0                   \n",
       "349418 1      1        1         27  1      0      0                   \n",
       "349419 1      0        1         30  0      0      0                   \n",
       "349420 1      1        1         36  1      0      0                   \n",
       "349421 1      1        1         26  1      0      0                   \n",
       "349422 0      0        1         34  0      0      0                   \n",
       "349423 1      1        1         29  1      0      0                   \n",
       "349424 1      1        1         30  1      0      0                   \n",
       "349425 0      1        1         31  1      0      0                   \n",
       "349426 1      1        1         36  0      0      0                   \n",
       "349427 0      1        1         32  1      0      0                   \n",
       "349428 0      0        1         35  1      0      0                   \n",
       "349429 0      1        1         46  0      0      0                   \n",
       "349430 1      1        1         57  0      0      0                   \n",
       "349431 1      1        1         36  1      0      0                   \n",
       "349432 1      1        1         22  1      0      1                   \n",
       "349433 1      1        1         52  0      0      0                   \n",
       "349434 1      1        1         28  1      0      0                   \n",
       "349435 1      1        1         33  0      0      0                   \n",
       "349436 1      1        1         33  1      0      0                   \n",
       "349437 1      1        1         44  1      0      0                   \n",
       "349438 1      1        1         34  0      0      0                   \n",
       "349439 1      1        1         26  0      0      1                   \n",
       "349440 1      0        1         26  1      0      0                   \n",
       "349441 0      0        1         46  1      0      1                   \n",
       "349442 1      1        1         26  1      1      1                   \n",
       "349443 0      0        1         36  0      0      0                   \n",
       "349444 0      0        1         21  1      0      0                   \n",
       "       PhysActivity Fruits Veggies <U+22EF>        NoDocbcCost GenHlth MentHlth\n",
       "1      0            0      1       <U+22EF> 0           5       18      \n",
       "2      1            0      0       <U+22EF> 1           3        0      \n",
       "3      0            1      0       <U+22EF> 1           5       30      \n",
       "4      1            1      1       <U+22EF> 0           2        0      \n",
       "5      1            1      1       <U+22EF> 0           2        3      \n",
       "6      1            1      1       <U+22EF> 0           2        0      \n",
       "7      0            0      0       <U+22EF> 0           3        0      \n",
       "8      1            0      1       <U+22EF> 0           3        0      \n",
       "9      0            0      1       <U+22EF> 0           2        0      \n",
       "10     0            0      1       <U+22EF> 0           3        0      \n",
       "11     1            0      1       <U+22EF> 1           4       30      \n",
       "12     1            0      0       <U+22EF> 0           2        5      \n",
       "13     1            1      1       <U+22EF> 0           3        0      \n",
       "14     0            0      1       <U+22EF> 0           2       15      \n",
       "15     0            0      0       <U+22EF> 0           2       10      \n",
       "16     0            1      0       <U+22EF> 0           3       30      \n",
       "17     0            1      1       <U+22EF> 0           5       15      \n",
       "18     0            0      1       <U+22EF> 0           3        0      \n",
       "19     0            1      1       <U+22EF> 0           3        6      \n",
       "20     1            1      1       <U+22EF> 0           1        0      \n",
       "21     1            0      0       <U+22EF> 0           3        0      \n",
       "22     1            0      1       <U+22EF> 0           3        5      \n",
       "23     1            1      1       <U+22EF> 0           2        0      \n",
       "24     1            1      1       <U+22EF> 0           1        0      \n",
       "25     0            1      1       <U+22EF> 0           5        0      \n",
       "26     1            1      0       <U+22EF> 0           2        0      \n",
       "27     0            1      1       <U+22EF> 1           4       15      \n",
       "28     1            0      1       <U+22EF> 0           2       25      \n",
       "29     0            1      1       <U+22EF> 0           2        0      \n",
       "30     1            1      1       <U+22EF> 0           3       30      \n",
       "<U+22EE>      <U+22EE>     <U+22EE> <U+22EE> <U+22F1> <U+22EE>    <U+22EE> <U+22EE>\n",
       "349415 0            1      1       <U+22EF> 0           5       30      \n",
       "349416 0            1      1       <U+22EF> 0           2        0      \n",
       "349417 0            0      1       <U+22EF> 0           4        5      \n",
       "349418 1            0      1       <U+22EF> 0           3        0      \n",
       "349419 1            1      0       <U+22EF> 0           3        0      \n",
       "349420 1            0      1       <U+22EF> 0           4        2      \n",
       "349421 1            0      1       <U+22EF> 0           3        1      \n",
       "349422 1            1      1       <U+22EF> 0           2        5      \n",
       "349423 0            0      1       <U+22EF> 0           3        0      \n",
       "349424 0            1      1       <U+22EF> 0           2        0      \n",
       "349425 1            0      1       <U+22EF> 0           2        0      \n",
       "349426 1            1      1       <U+22EF> 0           3        0      \n",
       "349427 0            1      1       <U+22EF> 0           2        0      \n",
       "349428 1            1      1       <U+22EF> 0           3        0      \n",
       "349429 1            1      0       <U+22EF> 0           3        0      \n",
       "349430 1            0      0       <U+22EF> 1           4       30      \n",
       "349431 1            0      0       <U+22EF> 0           3        0      \n",
       "349432 1            0      1       <U+22EF> 0           2        0      \n",
       "349433 0            1      1       <U+22EF> 0           3        0      \n",
       "349434 1            1      1       <U+22EF> 0           4       15      \n",
       "349435 0            1      0       <U+22EF> 0           3        0      \n",
       "349436 1            0      1       <U+22EF> 0           3        0      \n",
       "349437 0            1      1       <U+22EF> 0           4       25      \n",
       "349438 1            1      1       <U+22EF> 0           2        0      \n",
       "349439 1            0      1       <U+22EF> 0           3        0      \n",
       "349440 1            1      1       <U+22EF> 0           3        0      \n",
       "349441 0            1      0       <U+22EF> 0           5        0      \n",
       "349442 0            1      1       <U+22EF> 0           5       30      \n",
       "349443 0            1      1       <U+22EF> 0           3        0      \n",
       "349444 1            0      0       <U+22EF> 0           2        0      \n",
       "       PhysHlth DiffWalk Sex Age Education Income Diabetes_binary\n",
       "1      15       1        0    9  4         3      0              \n",
       "2       0       0        0    7  6         1      0              \n",
       "3      30       1        0    9  4         8      0              \n",
       "4       0       0        0   11  3         6      0              \n",
       "5       0       0        0   11  5         4      0              \n",
       "6       2       0        1   10  6         8      0              \n",
       "7      14       0        0    9  6         7      0              \n",
       "8       0       1        0   11  4         4      0              \n",
       "9       0       0        1    8  4         3      0              \n",
       "10     15       0        0    7  5         7      0              \n",
       "11     28       0        0    4  6         2      0              \n",
       "12      0       0        0    6  6         8      0              \n",
       "13      0       0        0   10  4         3      0              \n",
       "14      0       0        0    2  6         7      0              \n",
       "15      0       0        1    4  6         8      0              \n",
       "16      0       1        0   12  4         4      0              \n",
       "17     30       1        0   13  2         3      0              \n",
       "18      7       0        1    5  5         5      0              \n",
       "19      0       1        0    9  4         6      0              \n",
       "20      0       1        1   13  3         3      0              \n",
       "21      0       0        1   11  6         2      0              \n",
       "22      3       1        1    8  4         3      0              \n",
       "23     10       0        0   12  5         7      0              \n",
       "24      1       0        1    4  5         3      0              \n",
       "25     30       0        1    9  3         1      0              \n",
       "26      1       0        0    4  6         7      0              \n",
       "27     30       1        0    7  4         3      0              \n",
       "28      0       0        0    9  6         8      0              \n",
       "29      0       0        0    8  5         8      0              \n",
       "30      0       0        0    8  6         3      0              \n",
       "<U+22EE>      <U+22EE> <U+22EE> <U+22EE> <U+22EE> <U+22EE>  <U+22EE> <U+22EE>       \n",
       "349415 30       1        1    9  5         2      1              \n",
       "349416  1       0        0    8  5         7      1              \n",
       "349417 30       1        0    9  6         5      1              \n",
       "349418  5       1        0   12  4         3      1              \n",
       "349419  0       0        0   10  5         4      1              \n",
       "349420 30       1        1    8  4         5      1              \n",
       "349421  1       0        0    9  4         6      1              \n",
       "349422  1       0        0    4  6         7      1              \n",
       "349423  0       0        1   12  5         6      1              \n",
       "349424  0       0        1   13  6         8      1              \n",
       "349425  0       0        0   10  5         6      1              \n",
       "349426  2       0        1   10  5         7      1              \n",
       "349427  0       1        0   13  5         6      1              \n",
       "349428 30       1        1    7  4         7      1              \n",
       "349429  0       1        0   10  4         2      1              \n",
       "349430 28       1        0   10  3         4      1              \n",
       "349431  0       1        0   10  4         2      1              \n",
       "349432  0       0        0   12  6         7      1              \n",
       "349433  0       1        1    9  4         3      1              \n",
       "349434 18       0        1    8  6         3      1              \n",
       "349435  0       0        0    9  6         7      1              \n",
       "349436  5       0        1    8  5         8      1              \n",
       "349437 15       0        0    4  6         8      1              \n",
       "349438  1       0        0    9  5         6      1              \n",
       "349439  0       0        1   13  6         8      1              \n",
       "349440  0       0        1   11  4         7      1              \n",
       "349441  0       1        0    9  5         7      1              \n",
       "349442 30       1        1    7  3         3      1              \n",
       "349443  0       0        1    8  4         7      1              \n",
       "349444  0       0        1   11  4         6      1              "
      ]
     },
     "metadata": {},
     "output_type": "display_data"
    }
   ],
   "source": [
    "balanced_training_data"
   ]
  },
  {
   "cell_type": "code",
   "execution_count": 71,
   "id": "6b91c9c2-d726-4619-b915-ab5c4d7b57ea",
   "metadata": {},
   "outputs": [
    {
     "data": {
      "image/png": "[encoded data removed]",
      "text/plain": [
       "plot without title"
      ]
     },
     "metadata": {
      "image/png": {
       "height": 420,
       "width": 420
      }
     },
     "output_type": "display_data"
    }
   ],
   "source": [
    "plot_binary_distribution(balanced_training_data, \"Diabetes_binary\", \"Balanced dataset: Diabetes_binary\")"
   ]
  },
  {
   "cell_type": "code",
   "execution_count": 72,
   "id": "e8e44878-0967-430e-bbe0-049b40ad0133",
   "metadata": {},
   "outputs": [],
   "source": [
    "with_diabetes_rows = which(balanced_training_data$Diabetes_binary == 1)\n",
    "no_diabetes_rows = which(balanced_training_data$Diabetes_binary == 0)"
   ]
  },
  {
   "cell_type": "markdown",
   "id": "353b18e0-0c32-4510-8f1b-4d8fa486895f",
   "metadata": {},
   "source": [
    "### 3.3. Detect Numerical, Binary, Ordinal variables"
   ]
  },
  {
   "cell_type": "code",
   "execution_count": 73,
   "id": "5d75c19b-b6c3-4f5b-ab09-96470eddd0eb",
   "metadata": {},
   "outputs": [
    {
     "name": "stdout",
     "output_type": "stream",
     "text": [
      "'data.frame':\t349444 obs. of  22 variables:\n",
      " $ HighBP              : int  1 0 1 1 1 1 1 1 0 0 ...\n",
      " $ HighChol            : int  1 0 1 0 1 1 0 1 0 0 ...\n",
      " $ CholCheck           : int  1 0 1 1 1 1 1 1 1 1 ...\n",
      " $ BMI                 : int  40 25 28 27 24 25 30 25 24 26 ...\n",
      " $ Smoker              : int  1 1 0 0 0 1 1 1 0 1 ...\n",
      " $ Stroke              : int  0 0 0 0 0 0 0 0 0 0 ...\n",
      " $ HeartDiseaseorAttack: int  0 0 0 0 0 0 0 0 0 0 ...\n",
      " $ PhysActivity        : int  0 1 0 1 1 1 0 1 0 0 ...\n",
      " $ Fruits              : int  0 0 1 1 1 1 0 0 0 0 ...\n",
      " $ Veggies             : int  1 0 0 1 1 1 0 1 1 1 ...\n",
      " $ HvyAlcoholConsump   : int  0 0 0 0 0 0 0 0 0 0 ...\n",
      " $ AnyHealthcare       : int  1 0 1 1 1 1 1 1 1 1 ...\n",
      " $ NoDocbcCost         : int  0 1 1 0 0 0 0 0 0 0 ...\n",
      " $ GenHlth             : int  5 3 5 2 2 2 3 3 2 3 ...\n",
      " $ MentHlth            : int  18 0 30 0 3 0 0 0 0 0 ...\n",
      " $ PhysHlth            : int  15 0 30 0 0 2 14 0 0 15 ...\n",
      " $ DiffWalk            : int  1 0 1 0 0 0 0 1 0 0 ...\n",
      " $ Sex                 : int  0 0 0 0 0 1 0 0 1 0 ...\n",
      " $ Age                 : int  9 7 9 11 11 10 9 11 8 7 ...\n",
      " $ Education           : int  4 6 4 3 5 6 6 4 4 5 ...\n",
      " $ Income              : int  3 1 8 6 4 8 7 4 3 7 ...\n",
      " $ Diabetes_binary     : int  0 0 0 0 0 0 0 0 0 0 ...\n"
     ]
    }
   ],
   "source": [
    "str(balanced_training_data)"
   ]
  },
  {
   "cell_type": "code",
   "execution_count": 74,
   "id": "ec4a0f37-e1d2-4bf0-9ddb-bc4bd9079e25",
   "metadata": {},
   "outputs": [
    {
     "data": {
      "text/html": [
       "<table class=\"dataframe\">\n",
       "<caption>A matrix: 3 × 1 of type int</caption>\n",
       "<thead>\n",
       "\t<tr><th></th><th scope=col>Number of variable</th></tr>\n",
       "</thead>\n",
       "<tbody>\n",
       "\t<tr><th scope=row>numerical_cols</th><td> 3</td></tr>\n",
       "\t<tr><th scope=row>binary_cols</th><td>14</td></tr>\n",
       "\t<tr><th scope=row>ordinal_cols</th><td> 4</td></tr>\n",
       "</tbody>\n",
       "</table>\n"
      ],
      "text/latex": [
       "A matrix: 3 × 1 of type int\n",
       "\\begin{tabular}{r|l}\n",
       "  & Number of variable\\\\\n",
       "\\hline\n",
       "\tnumerical\\_cols &  3\\\\\n",
       "\tbinary\\_cols & 14\\\\\n",
       "\tordinal\\_cols &  4\\\\\n",
       "\\end{tabular}\n"
      ],
      "text/markdown": [
       "\n",
       "A matrix: 3 × 1 of type int\n",
       "\n",
       "| <!--/--> | Number of variable |\n",
       "|---|---|\n",
       "| numerical_cols |  3 |\n",
       "| binary_cols | 14 |\n",
       "| ordinal_cols |  4 |\n",
       "\n"
      ],
      "text/plain": [
       "               Number of variable\n",
       "numerical_cols  3                \n",
       "binary_cols    14                \n",
       "ordinal_cols    4                "
      ]
     },
     "metadata": {},
     "output_type": "display_data"
    }
   ],
   "source": [
    "numerical_cols = c(\"BMI\", \"MentHlth\", \"PhysHlth\")\n",
    "binary_cols = c(\"HighBP\", \"HighChol\", \"CholCheck\", \"Smoker\", \"Stroke\",\n",
    "               \"HeartDiseaseorAttack\", \"PhysActivity\", \"Fruits\", \"Veggies\",\n",
    "               \"HvyAlcoholConsump\", \"AnyHealthcare\", \"NoDocbcCost\",\n",
    "               \"DiffWalk\", \"Sex\")\n",
    "ordinal_cols = c(\"GenHlth\", \"Age\", \"Education\", \"Income\")\n",
    "response_col = \"Diabetes_binary\"\n",
    "\n",
    "display_matrix = matrix(c(length(numerical_cols), length(binary_cols), length(ordinal_cols)), nrow = 3)\n",
    "rownames(display_matrix) = c(\"numerical_cols\", \"binary_cols\", \"ordinal_cols\")\n",
    "colnames(display_matrix) = \"Number of variable\"\n",
    "display_matrix"
   ]
  },
  {
   "cell_type": "markdown",
   "id": "1f2dd39f-74ac-4e63-9095-dde31e61d4fd",
   "metadata": {},
   "source": [
    "### 3.4. Data factorization"
   ]
  },
  {
   "cell_type": "code",
   "execution_count": 75,
   "id": "962cd33a-2638-4693-b0bb-1b54ff5e33a2",
   "metadata": {},
   "outputs": [],
   "source": [
    "# Training data factorization\n",
    "for (col in binary_cols)\n",
    "{\n",
    "    balanced_training_data[, col] = factor(balanced_training_data[, col])\n",
    "}\n",
    "\n",
    "for (col in ordinal_cols)\n",
    "{\n",
    "    balanced_training_data[, col] = factor(balanced_training_data[, col], ordered = T)\n",
    "}\n",
    "\n",
    "balanced_training_data[, response_col] = factor(balanced_training_data[, response_col])"
   ]
  },
  {
   "cell_type": "code",
   "execution_count": 76,
   "id": "4acb5bac-4194-4ab7-8dda-1c8973bf65ae",
   "metadata": {},
   "outputs": [],
   "source": [
    "# Testing data factorization\n",
    "for (col in binary_cols)\n",
    "{\n",
    "    testing_data[, col] = factor(testing_data[, col])\n",
    "}\n",
    "\n",
    "for (col in ordinal_cols)\n",
    "{\n",
    "    testing_data[, col] = factor(testing_data[, col], ordered = T)\n",
    "}\n",
    "\n",
    "testing_data[, response_col] = factor(testing_data[, response_col])"
   ]
  },
  {
   "cell_type": "code",
   "execution_count": 77,
   "id": "072df9a6-22c7-4aa4-91be-ddd5c465a131",
   "metadata": {},
   "outputs": [
    {
     "name": "stdout",
     "output_type": "stream",
     "text": [
      "'data.frame':\t349444 obs. of  22 variables:\n",
      " $ HighBP              : Factor w/ 2 levels \"0\",\"1\": 2 1 2 2 2 2 2 2 1 1 ...\n",
      " $ HighChol            : Factor w/ 2 levels \"0\",\"1\": 2 1 2 1 2 2 1 2 1 1 ...\n",
      " $ CholCheck           : Factor w/ 2 levels \"0\",\"1\": 2 1 2 2 2 2 2 2 2 2 ...\n",
      " $ BMI                 : int  40 25 28 27 24 25 30 25 24 26 ...\n",
      " $ Smoker              : Factor w/ 2 levels \"0\",\"1\": 2 2 1 1 1 2 2 2 1 2 ...\n",
      " $ Stroke              : Factor w/ 2 levels \"0\",\"1\": 1 1 1 1 1 1 1 1 1 1 ...\n",
      " $ HeartDiseaseorAttack: Factor w/ 2 levels \"0\",\"1\": 1 1 1 1 1 1 1 1 1 1 ...\n",
      " $ PhysActivity        : Factor w/ 2 levels \"0\",\"1\": 1 2 1 2 2 2 1 2 1 1 ...\n",
      " $ Fruits              : Factor w/ 2 levels \"0\",\"1\": 1 1 2 2 2 2 1 1 1 1 ...\n",
      " $ Veggies             : Factor w/ 2 levels \"0\",\"1\": 2 1 1 2 2 2 1 2 2 2 ...\n",
      " $ HvyAlcoholConsump   : Factor w/ 2 levels \"0\",\"1\": 1 1 1 1 1 1 1 1 1 1 ...\n",
      " $ AnyHealthcare       : Factor w/ 2 levels \"0\",\"1\": 2 1 2 2 2 2 2 2 2 2 ...\n",
      " $ NoDocbcCost         : Factor w/ 2 levels \"0\",\"1\": 1 2 2 1 1 1 1 1 1 1 ...\n",
      " $ GenHlth             : Ord.factor w/ 5 levels \"1\"<\"2\"<\"3\"<\"4\"<..: 5 3 5 2 2 2 3 3 2 3 ...\n",
      " $ MentHlth            : int  18 0 30 0 3 0 0 0 0 0 ...\n",
      " $ PhysHlth            : int  15 0 30 0 0 2 14 0 0 15 ...\n",
      " $ DiffWalk            : Factor w/ 2 levels \"0\",\"1\": 2 1 2 1 1 1 1 2 1 1 ...\n",
      " $ Sex                 : Factor w/ 2 levels \"0\",\"1\": 1 1 1 1 1 2 1 1 2 1 ...\n",
      " $ Age                 : Ord.factor w/ 13 levels \"1\"<\"2\"<\"3\"<\"4\"<..: 9 7 9 11 11 10 9 11 8 7 ...\n",
      " $ Education           : Ord.factor w/ 6 levels \"1\"<\"2\"<\"3\"<\"4\"<..: 4 6 4 3 5 6 6 4 4 5 ...\n",
      " $ Income              : Ord.factor w/ 8 levels \"1\"<\"2\"<\"3\"<\"4\"<..: 3 1 8 6 4 8 7 4 3 7 ...\n",
      " $ Diabetes_binary     : Factor w/ 2 levels \"0\",\"1\": 1 1 1 1 1 1 1 1 1 1 ...\n"
     ]
    }
   ],
   "source": [
    "str(balanced_training_data)"
   ]
  },
  {
   "cell_type": "code",
   "execution_count": 78,
   "id": "f3ca5e65-f192-440d-bcf2-fc7d67d26a28",
   "metadata": {},
   "outputs": [
    {
     "name": "stdout",
     "output_type": "stream",
     "text": [
      "'data.frame':\t50736 obs. of  22 variables:\n",
      " $ HighBP              : Factor w/ 2 levels \"0\",\"1\": 2 2 1 1 2 1 1 2 2 2 ...\n",
      " $ HighChol            : Factor w/ 2 levels \"0\",\"1\": 2 2 1 1 2 2 1 1 1 2 ...\n",
      " $ CholCheck           : Factor w/ 2 levels \"0\",\"1\": 2 2 2 2 2 2 2 2 2 2 ...\n",
      " $ BMI                 : int  34 28 23 32 37 31 23 26 31 37 ...\n",
      " $ Smoker              : Factor w/ 2 levels \"0\",\"1\": 2 1 2 1 2 2 1 1 1 1 ...\n",
      " $ Stroke              : Factor w/ 2 levels \"0\",\"1\": 1 1 1 1 2 1 1 1 1 1 ...\n",
      " $ HeartDiseaseorAttack: Factor w/ 2 levels \"0\",\"1\": 1 1 1 1 2 1 1 1 1 1 ...\n",
      " $ PhysActivity        : Factor w/ 2 levels \"0\",\"1\": 1 1 2 2 1 2 2 2 1 2 ...\n",
      " $ Fruits              : Factor w/ 2 levels \"0\",\"1\": 2 1 1 2 1 2 2 2 2 2 ...\n",
      " $ Veggies             : Factor w/ 2 levels \"0\",\"1\": 2 2 1 2 2 2 2 2 1 2 ...\n",
      " $ HvyAlcoholConsump   : Factor w/ 2 levels \"0\",\"1\": 1 1 1 1 1 1 1 1 1 1 ...\n",
      " $ AnyHealthcare       : Factor w/ 2 levels \"0\",\"1\": 2 2 2 2 2 2 2 2 2 2 ...\n",
      " $ NoDocbcCost         : Factor w/ 2 levels \"0\",\"1\": 1 1 1 1 1 1 1 1 1 1 ...\n",
      " $ GenHlth             : Ord.factor w/ 5 levels \"1\"<\"2\"<\"3\"<\"4\"<..: 3 4 2 2 5 1 1 2 3 3 ...\n",
      " $ MentHlth            : int  0 0 0 0 0 0 2 0 0 30 ...\n",
      " $ PhysHlth            : int  30 0 0 0 0 0 0 0 5 2 ...\n",
      " $ DiffWalk            : Factor w/ 2 levels \"0\",\"1\": 2 2 1 1 2 1 1 1 1 2 ...\n",
      " $ Sex                 : Factor w/ 2 levels \"0\",\"1\": 1 1 2 1 2 2 1 1 1 2 ...\n",
      " $ Age                 : Ord.factor w/ 13 levels \"1\"<\"2\"<\"3\"<\"4\"<..: 10 11 7 5 10 12 6 9 13 10 ...\n",
      " $ Education           : Ord.factor w/ 6 levels \"1\"<\"2\"<\"3\"<\"4\"<..: 5 4 5 6 6 6 4 4 4 5 ...\n",
      " $ Income              : Ord.factor w/ 8 levels \"1\"<\"2\"<\"3\"<\"4\"<..: 1 6 6 8 5 8 8 4 4 6 ...\n",
      " $ Diabetes_binary     : Factor w/ 2 levels \"0\",\"1\": 1 2 2 1 2 1 1 1 2 1 ...\n"
     ]
    }
   ],
   "source": [
    "str(testing_data)"
   ]
  },
  {
   "cell_type": "markdown",
   "id": "3b3409ae-9e8f-4461-bf83-411c9f5b9e49",
   "metadata": {},
   "source": [
    "### 3.4. Numerical variables analysis"
   ]
  },
  {
   "cell_type": "code",
   "execution_count": 79,
   "id": "a9bf30f3-da91-41b4-973f-77a9f31637fc",
   "metadata": {},
   "outputs": [],
   "source": [
    "# Numerical variables (3): BMI, MentHlth, PhysHlth"
   ]
  },
  {
   "cell_type": "code",
   "execution_count": 80,
   "id": "8a586867-74c9-4f5e-a7fb-613405c243d3",
   "metadata": {},
   "outputs": [
    {
     "data": {
      "text/plain": [
       "\n",
       " Descriptive statistics by group \n",
       "group: 0\n",
       "         vars      n  mean   sd median trimmed  mad min max range skew kurtosis\n",
       "BMI         1 174803 27.80 6.29     27   27.14 4.45  12  98    86 2.36    13.94\n",
       "MentHlth    2 174803  2.97 7.10      0    0.93 0.00   0  30    30 2.87     7.41\n",
       "PhysHlth    3 174803  3.63 8.05      0    1.30 0.00   0  30    30 2.50     5.03\n",
       "           se\n",
       "BMI      0.02\n",
       "MentHlth 0.02\n",
       "PhysHlth 0.02\n",
       "------------------------------------------------------------ \n",
       "group: 1\n",
       "         vars      n  mean    sd median trimmed  mad min max range skew\n",
       "BMI         1 174641 31.95  7.38     31   31.24 5.93  13  98    85 1.54\n",
       "MentHlth    2 174641  4.42  8.93      0    1.97 0.00   0  30    30 2.08\n",
       "PhysHlth    3 174641  7.95 11.31      1    6.18 1.48   0  30    30 1.15\n",
       "         kurtosis   se\n",
       "BMI          5.74 0.02\n",
       "MentHlth     2.94 0.02\n",
       "PhysHlth    -0.34 0.03"
      ]
     },
     "metadata": {},
     "output_type": "display_data"
    }
   ],
   "source": [
    "psych::describeBy(balanced_training_data[,numerical_cols], balanced_training_data[,response_col])"
   ]
  },
  {
   "cell_type": "code",
   "execution_count": 81,
   "id": "53a66399-9adf-490f-8e26-b99a5aac630f",
   "metadata": {},
   "outputs": [
    {
     "data": {
      "image/png": "[encoded data removed]",
      "text/plain": [
       "Plot with title \"PhysHlth\""
      ]
     },
     "metadata": {
      "image/png": {
       "height": 420,
       "width": 420
      }
     },
     "output_type": "display_data"
    }
   ],
   "source": [
    "par(mfrow = c(1,3))\n",
    "boxplot(balanced_training_data$BMI, main = \"BMI\", col = MAIN_COLOR, las = 1, lwd = 2)\n",
    "boxplot(balanced_training_data$MentHlth, main = \"MentHlth\", col = MAIN_COLOR, las = 1, lwd = 2)\n",
    "boxplot(balanced_training_data$PhysHlth, main = \"PhysHlth\", col = MAIN_COLOR, las = 1, lwd = 2)"
   ]
  },
  {
   "cell_type": "code",
   "execution_count": 82,
   "id": "e6952c34-254f-4657-b196-385a338766d4",
   "metadata": {},
   "outputs": [
    {
     "data": {
      "image/png": "[encoded data removed]",
      "text/plain": [
       "Plot with title \"PhysHlth\""
      ]
     },
     "metadata": {
      "image/png": {
       "height": 420,
       "width": 420
      }
     },
     "output_type": "display_data"
    }
   ],
   "source": [
    "par(mfrow = c(3,1))\n",
    "hist(balanced_training_data$BMI, main = \"BMI\", xlab = \"BMI score\", col = MAIN_COLOR, las = 1, lwd = 2, xlim = c(0, 100))\n",
    "hist(balanced_training_data$MentHlth, main = \"MentHlth\", xlab = \"Number of day with Mental Health problem in last 30 days\",\n",
    "    col = MAIN_COLOR, las = 1, lwd = 2)\n",
    "hist(balanced_training_data$PhysHlth, main = \"PhysHlth\", xlab = \"Number of day with Physical Health problem in last 30 days\",\n",
    "    col = MAIN_COLOR, las = 1, lwd = 2)"
   ]
  },
  {
   "cell_type": "markdown",
   "id": "3b9c3b1c-a363-40ca-bd8f-e8b469509ae0",
   "metadata": {},
   "source": [
    "#### 3.4.1. BMI"
   ]
  },
  {
   "cell_type": "code",
   "execution_count": 83,
   "id": "bc02db4a-5696-40a4-9229-4c057dcc43c3",
   "metadata": {},
   "outputs": [
    {
     "data": {
      "image/png": "[encoded data removed]",
      "text/plain": [
       "Plot with title \"BMI\""
      ]
     },
     "metadata": {
      "image/png": {
       "height": 420,
       "width": 420
      }
     },
     "output_type": "display_data"
    },
    {
     "data": {
      "image/png": "[encoded data removed]",
      "text/plain": [
       "Plot with title \"BMI\""
      ]
     },
     "metadata": {
      "image/png": {
       "height": 420,
       "width": 420
      }
     },
     "output_type": "display_data"
    }
   ],
   "source": [
    "boxplot(balanced_training_data$BMI, main = \"BMI\", col = MAIN_COLOR, las = 1, lwd = 2)\n",
    "hist(balanced_training_data$BMI, main = \"BMI\", xlab = \"BMI score\", col = MAIN_COLOR, las = 1, lwd = 2, xlim = c(0, 100))"
   ]
  },
  {
   "cell_type": "code",
   "execution_count": 84,
   "id": "23b25b65-538c-4b2d-b910-df8d5693dd83",
   "metadata": {},
   "outputs": [
    {
     "name": "stdout",
     "output_type": "stream",
     "text": [
      "Maximum value of boxplot BMI: 45"
     ]
    }
   ],
   "source": [
    "BMI_q1 = quantile(balanced_training_data$BMI, probs = 0.25, names = F)\n",
    "BMI_q3 = quantile(balanced_training_data$BMI, probs = 0.75, names = F)\n",
    "BMI_upper_quartile = BMI_q3 + 1.5 * (BMI_q3 - BMI_q1)\n",
    "cat(\"Maximum value of boxplot BMI:\", BMI_upper_quartile)"
   ]
  },
  {
   "cell_type": "markdown",
   "id": "54c73519-3465-437d-a2ab-8f4aa571284e",
   "metadata": {},
   "source": [
    "#### Question: The percentage of diabetes people having BMI under 45 and over 45."
   ]
  },
  {
   "cell_type": "code",
   "execution_count": 85,
   "id": "3ba71cfe-e4cc-423e-9d61-d75302362407",
   "metadata": {},
   "outputs": [],
   "source": [
    "BMI_THRESH_HOLD = 45"
   ]
  },
  {
   "cell_type": "code",
   "execution_count": 86,
   "id": "c2b8dd28-c35b-4362-bd82-a495b4859b49",
   "metadata": {},
   "outputs": [
    {
     "data": {
      "text/plain": [
       "          \n",
       "           no diabetes diabetes\n",
       "  BMI < 45      172314   166161\n",
       "  BMI > 45        2489     8480"
      ]
     },
     "metadata": {},
     "output_type": "display_data"
    }
   ],
   "source": [
    "BMI_table = table(ifelse(balanced_training_data$BMI > BMI_THRESH_HOLD, sprintf(\"BMI > %d\", BMI_THRESH_HOLD), sprintf(\"BMI < %d\", BMI_THRESH_HOLD)),\n",
    "      ifelse(balanced_training_data$Diabetes_binary == 1, \"diabetes\", \"no diabetes\"))\n",
    "BMI_table = BMI_table[, c(2, 1)]\n",
    "BMI_table"
   ]
  },
  {
   "cell_type": "code",
   "execution_count": 87,
   "id": "cdfc75ec-3b94-4e5d-b80f-7a17a24390bd",
   "metadata": {},
   "outputs": [
    {
     "data": {
      "image/png": "[encoded data removed]",
      "text/plain": [
       "plot without title"
      ]
     },
     "metadata": {
      "image/png": {
       "height": 420,
       "width": 420
      }
     },
     "output_type": "display_data"
    }
   ],
   "source": [
    "plot_stack_bar_2x2(BMI_table)"
   ]
  },
  {
   "cell_type": "code",
   "execution_count": 88,
   "id": "dec33769-0ee1-4c8d-a35f-73ebf5c693a2",
   "metadata": {},
   "outputs": [
    {
     "data": {
      "text/html": [
       "<style>\n",
       ".dl-inline {width: auto; margin:0; padding: 0}\n",
       ".dl-inline>dt, .dl-inline>dd {float: none; width: auto; display: inline-block}\n",
       ".dl-inline>dt::after {content: \":\\0020\"; padding-right: .5ex}\n",
       ".dl-inline>dt:not(:first-of-type) {padding-left: .5ex}\n",
       "</style><dl class=dl-inline><dt>odds ratio</dt><dd>3.53315281988616</dd><dt>lwr.ci</dt><dd>3.37705647487811</dd><dt>upr.ci</dt><dd>3.69646434447622</dd></dl>\n"
      ],
      "text/latex": [
       "\\begin{description*}\n",
       "\\item[odds ratio] 3.53315281988616\n",
       "\\item[lwr.ci] 3.37705647487811\n",
       "\\item[upr.ci] 3.69646434447622\n",
       "\\end{description*}\n"
      ],
      "text/markdown": [
       "odds ratio\n",
       ":   3.53315281988616lwr.ci\n",
       ":   3.37705647487811upr.ci\n",
       ":   3.69646434447622\n",
       "\n"
      ],
      "text/plain": [
       "odds ratio     lwr.ci     upr.ci \n",
       "  3.533153   3.377056   3.696464 "
      ]
     },
     "metadata": {},
     "output_type": "display_data"
    }
   ],
   "source": [
    "DescTools::OddsRatio(BMI_table, conf.level = 0.95)"
   ]
  },
  {
   "cell_type": "code",
   "execution_count": 89,
   "id": "a7f6aa01-41f8-4cd0-a31d-d80636e03021",
   "metadata": {},
   "outputs": [],
   "source": [
    "# COMMENT\n",
    "# odds ratio = 3.452 > 1\n",
    "# People with BMI over 45 are 3.452 times more likely to have diabetes than others.\n",
    "# => Create a binary variable that to distinguish people having BMI over 45."
   ]
  },
  {
   "cell_type": "code",
   "execution_count": 90,
   "id": "5906c9dc-0cbd-4503-b5a1-e2c161d8704a",
   "metadata": {},
   "outputs": [],
   "source": [
    "if (!\"BMI_over_45\" %in% binary_cols)\n",
    "{\n",
    "    binary_cols = append(binary_cols, \"BMI_over_45\")\n",
    "}"
   ]
  },
  {
   "cell_type": "code",
   "execution_count": 91,
   "id": "62297cda-e3d1-40e0-a6b8-af7b449c46ff",
   "metadata": {},
   "outputs": [],
   "source": [
    "# Add new column for training data\n",
    "new_column = factor(as.integer(ifelse(balanced_training_data$BMI > BMI_THRESH_HOLD, 1, 0)))\n",
    "BMI_index = which(colnames(balanced_training_data) == \"BMI\")\n",
    "balanced_training_data = cbind(balanced_training_data[,1:BMI_index], BMI_over_45 = new_column, balanced_training_data[,(BMI_index+1):ncol(balanced_training_data)])"
   ]
  },
  {
   "cell_type": "code",
   "execution_count": 92,
   "id": "8f99c028-deb4-4abc-904d-4b894a6cbdac",
   "metadata": {},
   "outputs": [],
   "source": [
    "# Add new column for testing data\n",
    "new_column = factor(as.integer(ifelse(testing_data$BMI > BMI_THRESH_HOLD, 1, 0)))\n",
    "BMI_index = which(colnames(testing_data) == \"BMI\")\n",
    "testing_data = cbind(testing_data[,1:BMI_index], BMI_over_45 = new_column, testing_data[,(BMI_index+1):ncol(testing_data)])"
   ]
  },
  {
   "cell_type": "code",
   "execution_count": 93,
   "id": "b35b11c0-3b15-4849-a5ec-b7a0b7950b53",
   "metadata": {},
   "outputs": [
    {
     "name": "stdout",
     "output_type": "stream",
     "text": [
      "'data.frame':\t349444 obs. of  23 variables:\n",
      " $ HighBP              : Factor w/ 2 levels \"0\",\"1\": 2 1 2 2 2 2 2 2 1 1 ...\n",
      " $ HighChol            : Factor w/ 2 levels \"0\",\"1\": 2 1 2 1 2 2 1 2 1 1 ...\n",
      " $ CholCheck           : Factor w/ 2 levels \"0\",\"1\": 2 1 2 2 2 2 2 2 2 2 ...\n",
      " $ BMI                 : int  40 25 28 27 24 25 30 25 24 26 ...\n",
      " $ BMI_over_45         : Factor w/ 2 levels \"0\",\"1\": 1 1 1 1 1 1 1 1 1 1 ...\n",
      " $ Smoker              : Factor w/ 2 levels \"0\",\"1\": 2 2 1 1 1 2 2 2 1 2 ...\n",
      " $ Stroke              : Factor w/ 2 levels \"0\",\"1\": 1 1 1 1 1 1 1 1 1 1 ...\n",
      " $ HeartDiseaseorAttack: Factor w/ 2 levels \"0\",\"1\": 1 1 1 1 1 1 1 1 1 1 ...\n",
      " $ PhysActivity        : Factor w/ 2 levels \"0\",\"1\": 1 2 1 2 2 2 1 2 1 1 ...\n",
      " $ Fruits              : Factor w/ 2 levels \"0\",\"1\": 1 1 2 2 2 2 1 1 1 1 ...\n",
      " $ Veggies             : Factor w/ 2 levels \"0\",\"1\": 2 1 1 2 2 2 1 2 2 2 ...\n",
      " $ HvyAlcoholConsump   : Factor w/ 2 levels \"0\",\"1\": 1 1 1 1 1 1 1 1 1 1 ...\n",
      " $ AnyHealthcare       : Factor w/ 2 levels \"0\",\"1\": 2 1 2 2 2 2 2 2 2 2 ...\n",
      " $ NoDocbcCost         : Factor w/ 2 levels \"0\",\"1\": 1 2 2 1 1 1 1 1 1 1 ...\n",
      " $ GenHlth             : Ord.factor w/ 5 levels \"1\"<\"2\"<\"3\"<\"4\"<..: 5 3 5 2 2 2 3 3 2 3 ...\n",
      " $ MentHlth            : int  18 0 30 0 3 0 0 0 0 0 ...\n",
      " $ PhysHlth            : int  15 0 30 0 0 2 14 0 0 15 ...\n",
      " $ DiffWalk            : Factor w/ 2 levels \"0\",\"1\": 2 1 2 1 1 1 1 2 1 1 ...\n",
      " $ Sex                 : Factor w/ 2 levels \"0\",\"1\": 1 1 1 1 1 2 1 1 2 1 ...\n",
      " $ Age                 : Ord.factor w/ 13 levels \"1\"<\"2\"<\"3\"<\"4\"<..: 9 7 9 11 11 10 9 11 8 7 ...\n",
      " $ Education           : Ord.factor w/ 6 levels \"1\"<\"2\"<\"3\"<\"4\"<..: 4 6 4 3 5 6 6 4 4 5 ...\n",
      " $ Income              : Ord.factor w/ 8 levels \"1\"<\"2\"<\"3\"<\"4\"<..: 3 1 8 6 4 8 7 4 3 7 ...\n",
      " $ Diabetes_binary     : Factor w/ 2 levels \"0\",\"1\": 1 1 1 1 1 1 1 1 1 1 ...\n"
     ]
    }
   ],
   "source": [
    "str(balanced_training_data)"
   ]
  },
  {
   "cell_type": "code",
   "execution_count": 94,
   "id": "44ca028f-c2c6-47f6-80a9-b6c1ba6bb5e7",
   "metadata": {},
   "outputs": [
    {
     "name": "stdout",
     "output_type": "stream",
     "text": [
      "'data.frame':\t50736 obs. of  23 variables:\n",
      " $ HighBP              : Factor w/ 2 levels \"0\",\"1\": 2 2 1 1 2 1 1 2 2 2 ...\n",
      " $ HighChol            : Factor w/ 2 levels \"0\",\"1\": 2 2 1 1 2 2 1 1 1 2 ...\n",
      " $ CholCheck           : Factor w/ 2 levels \"0\",\"1\": 2 2 2 2 2 2 2 2 2 2 ...\n",
      " $ BMI                 : int  34 28 23 32 37 31 23 26 31 37 ...\n",
      " $ BMI_over_45         : Factor w/ 2 levels \"0\",\"1\": 1 1 1 1 1 1 1 1 1 1 ...\n",
      " $ Smoker              : Factor w/ 2 levels \"0\",\"1\": 2 1 2 1 2 2 1 1 1 1 ...\n",
      " $ Stroke              : Factor w/ 2 levels \"0\",\"1\": 1 1 1 1 2 1 1 1 1 1 ...\n",
      " $ HeartDiseaseorAttack: Factor w/ 2 levels \"0\",\"1\": 1 1 1 1 2 1 1 1 1 1 ...\n",
      " $ PhysActivity        : Factor w/ 2 levels \"0\",\"1\": 1 1 2 2 1 2 2 2 1 2 ...\n",
      " $ Fruits              : Factor w/ 2 levels \"0\",\"1\": 2 1 1 2 1 2 2 2 2 2 ...\n",
      " $ Veggies             : Factor w/ 2 levels \"0\",\"1\": 2 2 1 2 2 2 2 2 1 2 ...\n",
      " $ HvyAlcoholConsump   : Factor w/ 2 levels \"0\",\"1\": 1 1 1 1 1 1 1 1 1 1 ...\n",
      " $ AnyHealthcare       : Factor w/ 2 levels \"0\",\"1\": 2 2 2 2 2 2 2 2 2 2 ...\n",
      " $ NoDocbcCost         : Factor w/ 2 levels \"0\",\"1\": 1 1 1 1 1 1 1 1 1 1 ...\n",
      " $ GenHlth             : Ord.factor w/ 5 levels \"1\"<\"2\"<\"3\"<\"4\"<..: 3 4 2 2 5 1 1 2 3 3 ...\n",
      " $ MentHlth            : int  0 0 0 0 0 0 2 0 0 30 ...\n",
      " $ PhysHlth            : int  30 0 0 0 0 0 0 0 5 2 ...\n",
      " $ DiffWalk            : Factor w/ 2 levels \"0\",\"1\": 2 2 1 1 2 1 1 1 1 2 ...\n",
      " $ Sex                 : Factor w/ 2 levels \"0\",\"1\": 1 1 2 1 2 2 1 1 1 2 ...\n",
      " $ Age                 : Ord.factor w/ 13 levels \"1\"<\"2\"<\"3\"<\"4\"<..: 10 11 7 5 10 12 6 9 13 10 ...\n",
      " $ Education           : Ord.factor w/ 6 levels \"1\"<\"2\"<\"3\"<\"4\"<..: 5 4 5 6 6 6 4 4 4 5 ...\n",
      " $ Income              : Ord.factor w/ 8 levels \"1\"<\"2\"<\"3\"<\"4\"<..: 1 6 6 8 5 8 8 4 4 6 ...\n",
      " $ Diabetes_binary     : Factor w/ 2 levels \"0\",\"1\": 1 2 2 1 2 1 1 1 2 1 ...\n"
     ]
    }
   ],
   "source": [
    "str(testing_data)"
   ]
  },
  {
   "cell_type": "markdown",
   "id": "de9211c4-a135-4699-b021-394f136a4719",
   "metadata": {},
   "source": [
    "#### 3.4.2. MentHlth"
   ]
  },
  {
   "cell_type": "code",
   "execution_count": 95,
   "id": "85bf90ab-ec7d-438b-b80e-e81131167235",
   "metadata": {},
   "outputs": [
    {
     "data": {
      "image/png": "[encoded data removed]",
      "text/plain": [
       "Plot with title \"MentHlth\""
      ]
     },
     "metadata": {
      "image/png": {
       "height": 420,
       "width": 420
      }
     },
     "output_type": "display_data"
    },
    {
     "data": {
      "image/png": "[encoded data removed]",
      "text/plain": [
       "Plot with title \"MentHlth\""
      ]
     },
     "metadata": {
      "image/png": {
       "height": 420,
       "width": 420
      }
     },
     "output_type": "display_data"
    }
   ],
   "source": [
    "boxplot(balanced_training_data$MentHlth, main = \"MentHlth\", col = MAIN_COLOR, las = 1, lwd = 2)\n",
    "hist(balanced_training_data$MentHlth, main = \"MentHlth\", xlab = \"Number of day with Mental Health problem in last 30 days\",\n",
    "    col = MAIN_COLOR, las = 1, lwd = 2, xlim = c(0, 30))"
   ]
  },
  {
   "cell_type": "markdown",
   "id": "64236a94-f522-4527-8538-23018a36b4b3",
   "metadata": {},
   "source": [
    "#### Question: The percentage of diabetes people having MentHlth or not."
   ]
  },
  {
   "cell_type": "code",
   "execution_count": 96,
   "id": "f8d45331-4845-49fa-b41b-9f95093afa78",
   "metadata": {},
   "outputs": [],
   "source": [
    "MentHlth_table = table(ifelse(balanced_training_data$MentHlth > 0, \"have MentHlth\", \"no MentHlth\"),\n",
    "      ifelse(balanced_training_data$Diabetes_binary == 1, \"diabetes\", \"no diabetes\"))"
   ]
  },
  {
   "cell_type": "code",
   "execution_count": 97,
   "id": "a0e7b412-37ba-4586-8d14-b7c9fdfc0f92",
   "metadata": {},
   "outputs": [],
   "source": [
    "MentHlth_table = Rev(MentHlth_table)"
   ]
  },
  {
   "cell_type": "code",
   "execution_count": 98,
   "id": "453f36a8-6f98-4125-bdbc-5e1dc6bdca12",
   "metadata": {},
   "outputs": [
    {
     "data": {
      "text/plain": [
       "               \n",
       "                no diabetes diabetes\n",
       "  no MentHlth        121961   116317\n",
       "  have MentHlth       52842    58324"
      ]
     },
     "metadata": {},
     "output_type": "display_data"
    }
   ],
   "source": [
    "MentHlth_table"
   ]
  },
  {
   "cell_type": "code",
   "execution_count": 99,
   "id": "371638c6-944d-488b-bb93-59aba62b03e0",
   "metadata": {},
   "outputs": [
    {
     "data": {
      "image/png": "[encoded data removed]",
      "text/plain": [
       "plot without title"
      ]
     },
     "metadata": {
      "image/png": {
       "height": 420,
       "width": 420
      }
     },
     "output_type": "display_data"
    }
   ],
   "source": [
    "plot_stack_bar_2x2(MentHlth_table)"
   ]
  },
  {
   "cell_type": "code",
   "execution_count": 100,
   "id": "431a6c28-3316-45d8-aa2b-3a0693db5314",
   "metadata": {},
   "outputs": [
    {
     "data": {
      "text/html": [
       "<style>\n",
       ".dl-inline {width: auto; margin:0; padding: 0}\n",
       ".dl-inline>dt, .dl-inline>dd {float: none; width: auto; display: inline-block}\n",
       ".dl-inline>dt::after {content: \":\\0020\"; padding-right: .5ex}\n",
       ".dl-inline>dt:not(:first-of-type) {padding-left: .5ex}\n",
       "</style><dl class=dl-inline><dt>odds ratio</dt><dd>1.15729969504666</dd><dt>lwr.ci</dt><dd>1.14092424356506</dd><dt>upr.ci</dt><dd>1.17391018002214</dd></dl>\n"
      ],
      "text/latex": [
       "\\begin{description*}\n",
       "\\item[odds ratio] 1.15729969504666\n",
       "\\item[lwr.ci] 1.14092424356506\n",
       "\\item[upr.ci] 1.17391018002214\n",
       "\\end{description*}\n"
      ],
      "text/markdown": [
       "odds ratio\n",
       ":   1.15729969504666lwr.ci\n",
       ":   1.14092424356506upr.ci\n",
       ":   1.17391018002214\n",
       "\n"
      ],
      "text/plain": [
       "odds ratio     lwr.ci     upr.ci \n",
       "  1.157300   1.140924   1.173910 "
      ]
     },
     "metadata": {},
     "output_type": "display_data"
    }
   ],
   "source": [
    "DescTools::OddsRatio(MentHlth_table, conf.level = 0.95)"
   ]
  },
  {
   "cell_type": "code",
   "execution_count": 101,
   "id": "50b6b4e7-6c0a-4399-bfce-f9d65b216b64",
   "metadata": {},
   "outputs": [],
   "source": [
    "# COMMENT\n",
    "# odd ratio is close to 1\n",
    "# => No creating new binary variable"
   ]
  },
  {
   "cell_type": "markdown",
   "id": "1b9fe2d6-1822-46b3-b32a-3c8ab4194fcf",
   "metadata": {},
   "source": [
    "#### 3.4.3. PhysHlth"
   ]
  },
  {
   "cell_type": "code",
   "execution_count": 102,
   "id": "5b50f212-344e-4717-b1a7-e9acc0aeba7b",
   "metadata": {},
   "outputs": [
    {
     "data": {
      "image/png": "[encoded data removed]",
      "text/plain": [
       "Plot with title \"PhysHlth\""
      ]
     },
     "metadata": {
      "image/png": {
       "height": 420,
       "width": 420
      }
     },
     "output_type": "display_data"
    },
    {
     "data": {
      "image/png": "[encoded data removed]",
      "text/plain": [
       "Plot with title \"PhysHlth\""
      ]
     },
     "metadata": {
      "image/png": {
       "height": 420,
       "width": 420
      }
     },
     "output_type": "display_data"
    }
   ],
   "source": [
    "boxplot(balanced_training_data$PhysHlth, main = \"PhysHlth\", col = MAIN_COLOR, las = 1, lwd = 2)\n",
    "hist(balanced_training_data$PhysHlth, main = \"PhysHlth\", xlab = \"Number of day with Physical Health problem in last 30 days\",\n",
    "    col = MAIN_COLOR, las = 1, lwd = 2, xlim = c(0, 30))"
   ]
  },
  {
   "cell_type": "markdown",
   "id": "8baa168a-afdf-486d-a11d-1a9ee0dfc83d",
   "metadata": {},
   "source": [
    "#### Question: The percentage of diabetes people having PhysHlth or not."
   ]
  },
  {
   "cell_type": "code",
   "execution_count": 103,
   "id": "60ef4d5a-a449-4881-a38c-b63598fca474",
   "metadata": {},
   "outputs": [],
   "source": [
    "PhysHlth_table = table(ifelse(balanced_training_data$PhysHlth > 0, \"have PhysHlth\", \"no PhysHlth\"),\n",
    "      ifelse(balanced_training_data$Diabetes_binary == 1, \"diabetes\", \"no diabetes\"))"
   ]
  },
  {
   "cell_type": "code",
   "execution_count": 104,
   "id": "3a3689a4-d442-45e7-ba9c-01d0af557d0f",
   "metadata": {},
   "outputs": [],
   "source": [
    "PhysHlth_table = Rev(PhysHlth_table)"
   ]
  },
  {
   "cell_type": "code",
   "execution_count": 105,
   "id": "cabfe8c9-7897-4573-bab1-3ed14a02e7de",
   "metadata": {},
   "outputs": [
    {
     "data": {
      "text/plain": [
       "               \n",
       "                no diabetes diabetes\n",
       "  no PhysHlth        114746    82697\n",
       "  have PhysHlth       60057    91944"
      ]
     },
     "metadata": {},
     "output_type": "display_data"
    }
   ],
   "source": [
    "PhysHlth_table"
   ]
  },
  {
   "cell_type": "code",
   "execution_count": 106,
   "id": "4a12b13a-4036-42d3-b05f-a6d7cff720a0",
   "metadata": {},
   "outputs": [
    {
     "data": {
      "image/png": "[encoded data removed]",
      "text/plain": [
       "plot without title"
      ]
     },
     "metadata": {
      "image/png": {
       "height": 420,
       "width": 420
      }
     },
     "output_type": "display_data"
    }
   ],
   "source": [
    "plot_stack_bar_2x2(PhysHlth_table)"
   ]
  },
  {
   "cell_type": "code",
   "execution_count": 107,
   "id": "22dbda1a-c06a-4cbf-9013-a3d4c0ed0a73",
   "metadata": {},
   "outputs": [
    {
     "data": {
      "text/html": [
       "<style>\n",
       ".dl-inline {width: auto; margin:0; padding: 0}\n",
       ".dl-inline>dt, .dl-inline>dd {float: none; width: auto; display: inline-block}\n",
       ".dl-inline>dt::after {content: \":\\0020\"; padding-right: .5ex}\n",
       ".dl-inline>dt:not(:first-of-type) {padding-left: .5ex}\n",
       "</style><dl class=dl-inline><dt>odds ratio</dt><dd>2.12425945330774</dd><dt>lwr.ci</dt><dd>2.09551012502844</dd><dt>upr.ci</dt><dd>2.15340320768246</dd></dl>\n"
      ],
      "text/latex": [
       "\\begin{description*}\n",
       "\\item[odds ratio] 2.12425945330774\n",
       "\\item[lwr.ci] 2.09551012502844\n",
       "\\item[upr.ci] 2.15340320768246\n",
       "\\end{description*}\n"
      ],
      "text/markdown": [
       "odds ratio\n",
       ":   2.12425945330774lwr.ci\n",
       ":   2.09551012502844upr.ci\n",
       ":   2.15340320768246\n",
       "\n"
      ],
      "text/plain": [
       "odds ratio     lwr.ci     upr.ci \n",
       "  2.124259   2.095510   2.153403 "
      ]
     },
     "metadata": {},
     "output_type": "display_data"
    }
   ],
   "source": [
    "OddsRatio(PhysHlth_table, conf.level = 0.95)"
   ]
  },
  {
   "cell_type": "code",
   "execution_count": 108,
   "id": "f6c34478-cbaf-447a-86ce-0c70d4a0e376",
   "metadata": {},
   "outputs": [],
   "source": [
    "# odds ratio = 2.118 > 1\n",
    "# People have PhysHlth are 2.118 times more likely to have diabetes than others.\n",
    "# => Create a binary variable that to distinguish people having PhysHlth."
   ]
  },
  {
   "cell_type": "code",
   "execution_count": 109,
   "id": "665fb3ab-6711-469f-b032-2f18f7f4991d",
   "metadata": {},
   "outputs": [],
   "source": [
    "if (! \"havePhysHlth\" %in% binary_cols)\n",
    "{\n",
    "    binary_cols = append(binary_cols, \"havePhysHlth\")\n",
    "}"
   ]
  },
  {
   "cell_type": "code",
   "execution_count": 110,
   "id": "a6fb9183-c8d1-4e63-9e4f-ecc33300e002",
   "metadata": {},
   "outputs": [
    {
     "data": {
      "text/html": [
       "<style>\n",
       ".list-inline {list-style: none; margin:0; padding: 0}\n",
       ".list-inline>li {display: inline-block}\n",
       ".list-inline>li:not(:last-child)::after {content: \"\\00b7\"; padding: 0 .5ex}\n",
       "</style>\n",
       "<ol class=list-inline><li>'HighBP'</li><li>'HighChol'</li><li>'CholCheck'</li><li>'Smoker'</li><li>'Stroke'</li><li>'HeartDiseaseorAttack'</li><li>'PhysActivity'</li><li>'Fruits'</li><li>'Veggies'</li><li>'HvyAlcoholConsump'</li><li>'AnyHealthcare'</li><li>'NoDocbcCost'</li><li>'DiffWalk'</li><li>'Sex'</li><li>'BMI_over_45'</li><li>'havePhysHlth'</li></ol>\n"
      ],
      "text/latex": [
       "\\begin{enumerate*}\n",
       "\\item 'HighBP'\n",
       "\\item 'HighChol'\n",
       "\\item 'CholCheck'\n",
       "\\item 'Smoker'\n",
       "\\item 'Stroke'\n",
       "\\item 'HeartDiseaseorAttack'\n",
       "\\item 'PhysActivity'\n",
       "\\item 'Fruits'\n",
       "\\item 'Veggies'\n",
       "\\item 'HvyAlcoholConsump'\n",
       "\\item 'AnyHealthcare'\n",
       "\\item 'NoDocbcCost'\n",
       "\\item 'DiffWalk'\n",
       "\\item 'Sex'\n",
       "\\item 'BMI\\_over\\_45'\n",
       "\\item 'havePhysHlth'\n",
       "\\end{enumerate*}\n"
      ],
      "text/markdown": [
       "1. 'HighBP'\n",
       "2. 'HighChol'\n",
       "3. 'CholCheck'\n",
       "4. 'Smoker'\n",
       "5. 'Stroke'\n",
       "6. 'HeartDiseaseorAttack'\n",
       "7. 'PhysActivity'\n",
       "8. 'Fruits'\n",
       "9. 'Veggies'\n",
       "10. 'HvyAlcoholConsump'\n",
       "11. 'AnyHealthcare'\n",
       "12. 'NoDocbcCost'\n",
       "13. 'DiffWalk'\n",
       "14. 'Sex'\n",
       "15. 'BMI_over_45'\n",
       "16. 'havePhysHlth'\n",
       "\n",
       "\n"
      ],
      "text/plain": [
       " [1] \"HighBP\"               \"HighChol\"             \"CholCheck\"           \n",
       " [4] \"Smoker\"               \"Stroke\"               \"HeartDiseaseorAttack\"\n",
       " [7] \"PhysActivity\"         \"Fruits\"               \"Veggies\"             \n",
       "[10] \"HvyAlcoholConsump\"    \"AnyHealthcare\"        \"NoDocbcCost\"         \n",
       "[13] \"DiffWalk\"             \"Sex\"                  \"BMI_over_45\"         \n",
       "[16] \"havePhysHlth\"        "
      ]
     },
     "metadata": {},
     "output_type": "display_data"
    }
   ],
   "source": [
    "binary_cols"
   ]
  },
  {
   "cell_type": "code",
   "execution_count": 111,
   "id": "9b6f5d3d-1fea-4f5b-b0ac-539b482f0d5d",
   "metadata": {},
   "outputs": [],
   "source": [
    "# Add new column for training data\n",
    "new_column = factor(as.integer(ifelse(balanced_training_data$PhysHlth > 0, 1, 0)))\n",
    "PhysHlth_index = which(colnames(balanced_training_data) == \"PhysHlth\")\n",
    "balanced_training_data = cbind(balanced_training_data[,1:PhysHlth_index], havePhysHlth = new_column, balanced_training_data[,(PhysHlth_index+1):ncol(balanced_training_data)])"
   ]
  },
  {
   "cell_type": "code",
   "execution_count": 112,
   "id": "7aab0cd9-f39a-4428-8dd4-6233e4272507",
   "metadata": {},
   "outputs": [],
   "source": [
    "# Add new column for testing data\n",
    "new_column = factor(as.integer(ifelse(testing_data$PhysHlth > 0, 1, 0)))\n",
    "PhysHlth_index = which(colnames(testing_data) == \"PhysHlth\")\n",
    "testing_data = cbind(testing_data[,1:PhysHlth_index], havePhysHlth = new_column, testing_data[,(PhysHlth_index+1):ncol(testing_data)])"
   ]
  },
  {
   "cell_type": "code",
   "execution_count": 113,
   "id": "0c9d5475-0a48-4523-bcdd-e0cacc483eec",
   "metadata": {},
   "outputs": [
    {
     "name": "stdout",
     "output_type": "stream",
     "text": [
      "'data.frame':\t349444 obs. of  24 variables:\n",
      " $ HighBP              : Factor w/ 2 levels \"0\",\"1\": 2 1 2 2 2 2 2 2 1 1 ...\n",
      " $ HighChol            : Factor w/ 2 levels \"0\",\"1\": 2 1 2 1 2 2 1 2 1 1 ...\n",
      " $ CholCheck           : Factor w/ 2 levels \"0\",\"1\": 2 1 2 2 2 2 2 2 2 2 ...\n",
      " $ BMI                 : int  40 25 28 27 24 25 30 25 24 26 ...\n",
      " $ BMI_over_45         : Factor w/ 2 levels \"0\",\"1\": 1 1 1 1 1 1 1 1 1 1 ...\n",
      " $ Smoker              : Factor w/ 2 levels \"0\",\"1\": 2 2 1 1 1 2 2 2 1 2 ...\n",
      " $ Stroke              : Factor w/ 2 levels \"0\",\"1\": 1 1 1 1 1 1 1 1 1 1 ...\n",
      " $ HeartDiseaseorAttack: Factor w/ 2 levels \"0\",\"1\": 1 1 1 1 1 1 1 1 1 1 ...\n",
      " $ PhysActivity        : Factor w/ 2 levels \"0\",\"1\": 1 2 1 2 2 2 1 2 1 1 ...\n",
      " $ Fruits              : Factor w/ 2 levels \"0\",\"1\": 1 1 2 2 2 2 1 1 1 1 ...\n",
      " $ Veggies             : Factor w/ 2 levels \"0\",\"1\": 2 1 1 2 2 2 1 2 2 2 ...\n",
      " $ HvyAlcoholConsump   : Factor w/ 2 levels \"0\",\"1\": 1 1 1 1 1 1 1 1 1 1 ...\n",
      " $ AnyHealthcare       : Factor w/ 2 levels \"0\",\"1\": 2 1 2 2 2 2 2 2 2 2 ...\n",
      " $ NoDocbcCost         : Factor w/ 2 levels \"0\",\"1\": 1 2 2 1 1 1 1 1 1 1 ...\n",
      " $ GenHlth             : Ord.factor w/ 5 levels \"1\"<\"2\"<\"3\"<\"4\"<..: 5 3 5 2 2 2 3 3 2 3 ...\n",
      " $ MentHlth            : int  18 0 30 0 3 0 0 0 0 0 ...\n",
      " $ PhysHlth            : int  15 0 30 0 0 2 14 0 0 15 ...\n",
      " $ havePhysHlth        : Factor w/ 2 levels \"0\",\"1\": 2 1 2 1 1 2 2 1 1 2 ...\n",
      " $ DiffWalk            : Factor w/ 2 levels \"0\",\"1\": 2 1 2 1 1 1 1 2 1 1 ...\n",
      " $ Sex                 : Factor w/ 2 levels \"0\",\"1\": 1 1 1 1 1 2 1 1 2 1 ...\n",
      " $ Age                 : Ord.factor w/ 13 levels \"1\"<\"2\"<\"3\"<\"4\"<..: 9 7 9 11 11 10 9 11 8 7 ...\n",
      " $ Education           : Ord.factor w/ 6 levels \"1\"<\"2\"<\"3\"<\"4\"<..: 4 6 4 3 5 6 6 4 4 5 ...\n",
      " $ Income              : Ord.factor w/ 8 levels \"1\"<\"2\"<\"3\"<\"4\"<..: 3 1 8 6 4 8 7 4 3 7 ...\n",
      " $ Diabetes_binary     : Factor w/ 2 levels \"0\",\"1\": 1 1 1 1 1 1 1 1 1 1 ...\n"
     ]
    }
   ],
   "source": [
    "str(balanced_training_data)"
   ]
  },
  {
   "cell_type": "code",
   "execution_count": 114,
   "id": "b97c0546-98e2-4f70-8c22-44982ca79819",
   "metadata": {},
   "outputs": [
    {
     "name": "stdout",
     "output_type": "stream",
     "text": [
      "'data.frame':\t50736 obs. of  24 variables:\n",
      " $ HighBP              : Factor w/ 2 levels \"0\",\"1\": 2 2 1 1 2 1 1 2 2 2 ...\n",
      " $ HighChol            : Factor w/ 2 levels \"0\",\"1\": 2 2 1 1 2 2 1 1 1 2 ...\n",
      " $ CholCheck           : Factor w/ 2 levels \"0\",\"1\": 2 2 2 2 2 2 2 2 2 2 ...\n",
      " $ BMI                 : int  34 28 23 32 37 31 23 26 31 37 ...\n",
      " $ BMI_over_45         : Factor w/ 2 levels \"0\",\"1\": 1 1 1 1 1 1 1 1 1 1 ...\n",
      " $ Smoker              : Factor w/ 2 levels \"0\",\"1\": 2 1 2 1 2 2 1 1 1 1 ...\n",
      " $ Stroke              : Factor w/ 2 levels \"0\",\"1\": 1 1 1 1 2 1 1 1 1 1 ...\n",
      " $ HeartDiseaseorAttack: Factor w/ 2 levels \"0\",\"1\": 1 1 1 1 2 1 1 1 1 1 ...\n",
      " $ PhysActivity        : Factor w/ 2 levels \"0\",\"1\": 1 1 2 2 1 2 2 2 1 2 ...\n",
      " $ Fruits              : Factor w/ 2 levels \"0\",\"1\": 2 1 1 2 1 2 2 2 2 2 ...\n",
      " $ Veggies             : Factor w/ 2 levels \"0\",\"1\": 2 2 1 2 2 2 2 2 1 2 ...\n",
      " $ HvyAlcoholConsump   : Factor w/ 2 levels \"0\",\"1\": 1 1 1 1 1 1 1 1 1 1 ...\n",
      " $ AnyHealthcare       : Factor w/ 2 levels \"0\",\"1\": 2 2 2 2 2 2 2 2 2 2 ...\n",
      " $ NoDocbcCost         : Factor w/ 2 levels \"0\",\"1\": 1 1 1 1 1 1 1 1 1 1 ...\n",
      " $ GenHlth             : Ord.factor w/ 5 levels \"1\"<\"2\"<\"3\"<\"4\"<..: 3 4 2 2 5 1 1 2 3 3 ...\n",
      " $ MentHlth            : int  0 0 0 0 0 0 2 0 0 30 ...\n",
      " $ PhysHlth            : int  30 0 0 0 0 0 0 0 5 2 ...\n",
      " $ havePhysHlth        : Factor w/ 2 levels \"0\",\"1\": 2 1 1 1 1 1 1 1 2 2 ...\n",
      " $ DiffWalk            : Factor w/ 2 levels \"0\",\"1\": 2 2 1 1 2 1 1 1 1 2 ...\n",
      " $ Sex                 : Factor w/ 2 levels \"0\",\"1\": 1 1 2 1 2 2 1 1 1 2 ...\n",
      " $ Age                 : Ord.factor w/ 13 levels \"1\"<\"2\"<\"3\"<\"4\"<..: 10 11 7 5 10 12 6 9 13 10 ...\n",
      " $ Education           : Ord.factor w/ 6 levels \"1\"<\"2\"<\"3\"<\"4\"<..: 5 4 5 6 6 6 4 4 4 5 ...\n",
      " $ Income              : Ord.factor w/ 8 levels \"1\"<\"2\"<\"3\"<\"4\"<..: 1 6 6 8 5 8 8 4 4 6 ...\n",
      " $ Diabetes_binary     : Factor w/ 2 levels \"0\",\"1\": 1 2 2 1 2 1 1 1 2 1 ...\n"
     ]
    }
   ],
   "source": [
    "str(testing_data)"
   ]
  },
  {
   "cell_type": "markdown",
   "id": "698e97e4-dc17-47c0-aace-61d6726bcb5e",
   "metadata": {},
   "source": [
    "### 3.5. Categorical - binary variables analysis"
   ]
  },
  {
   "cell_type": "code",
   "execution_count": 115,
   "id": "b0639e69-9c1c-4c93-9e72-90a2b4a4ad80",
   "metadata": {},
   "outputs": [
    {
     "data": {
      "text/html": [
       "<style>\n",
       ".list-inline {list-style: none; margin:0; padding: 0}\n",
       ".list-inline>li {display: inline-block}\n",
       ".list-inline>li:not(:last-child)::after {content: \"\\00b7\"; padding: 0 .5ex}\n",
       "</style>\n",
       "<ol class=list-inline><li>'HighBP'</li><li>'HighChol'</li><li>'CholCheck'</li><li>'Smoker'</li><li>'Stroke'</li><li>'HeartDiseaseorAttack'</li><li>'PhysActivity'</li><li>'Fruits'</li><li>'Veggies'</li><li>'HvyAlcoholConsump'</li><li>'AnyHealthcare'</li><li>'NoDocbcCost'</li><li>'DiffWalk'</li><li>'Sex'</li><li>'BMI_over_45'</li><li>'havePhysHlth'</li></ol>\n"
      ],
      "text/latex": [
       "\\begin{enumerate*}\n",
       "\\item 'HighBP'\n",
       "\\item 'HighChol'\n",
       "\\item 'CholCheck'\n",
       "\\item 'Smoker'\n",
       "\\item 'Stroke'\n",
       "\\item 'HeartDiseaseorAttack'\n",
       "\\item 'PhysActivity'\n",
       "\\item 'Fruits'\n",
       "\\item 'Veggies'\n",
       "\\item 'HvyAlcoholConsump'\n",
       "\\item 'AnyHealthcare'\n",
       "\\item 'NoDocbcCost'\n",
       "\\item 'DiffWalk'\n",
       "\\item 'Sex'\n",
       "\\item 'BMI\\_over\\_45'\n",
       "\\item 'havePhysHlth'\n",
       "\\end{enumerate*}\n"
      ],
      "text/markdown": [
       "1. 'HighBP'\n",
       "2. 'HighChol'\n",
       "3. 'CholCheck'\n",
       "4. 'Smoker'\n",
       "5. 'Stroke'\n",
       "6. 'HeartDiseaseorAttack'\n",
       "7. 'PhysActivity'\n",
       "8. 'Fruits'\n",
       "9. 'Veggies'\n",
       "10. 'HvyAlcoholConsump'\n",
       "11. 'AnyHealthcare'\n",
       "12. 'NoDocbcCost'\n",
       "13. 'DiffWalk'\n",
       "14. 'Sex'\n",
       "15. 'BMI_over_45'\n",
       "16. 'havePhysHlth'\n",
       "\n",
       "\n"
      ],
      "text/plain": [
       " [1] \"HighBP\"               \"HighChol\"             \"CholCheck\"           \n",
       " [4] \"Smoker\"               \"Stroke\"               \"HeartDiseaseorAttack\"\n",
       " [7] \"PhysActivity\"         \"Fruits\"               \"Veggies\"             \n",
       "[10] \"HvyAlcoholConsump\"    \"AnyHealthcare\"        \"NoDocbcCost\"         \n",
       "[13] \"DiffWalk\"             \"Sex\"                  \"BMI_over_45\"         \n",
       "[16] \"havePhysHlth\"        "
      ]
     },
     "metadata": {},
     "output_type": "display_data"
    }
   ],
   "source": [
    "binary_cols"
   ]
  },
  {
   "cell_type": "code",
   "execution_count": 116,
   "id": "e23f7c7a-45d4-4f10-938c-680d7890f2f9",
   "metadata": {},
   "outputs": [
    {
     "data": {
      "image/png": "[encoded data removed]",
      "text/plain": [
       "plot without title"
      ]
     },
     "metadata": {
      "image/png": {
       "height": 420,
       "width": 420
      }
     },
     "output_type": "display_data"
    },
    {
     "data": {
      "image/png": "[encoded data removed]",
      "text/plain": [
       "plot without title"
      ]
     },
     "metadata": {
      "image/png": {
       "height": 420,
       "width": 420
      }
     },
     "output_type": "display_data"
    },
    {
     "data": {
      "image/png": "[encoded data removed]",
      "text/plain": [
       "plot without title"
      ]
     },
     "metadata": {
      "image/png": {
       "height": 420,
       "width": 420
      }
     },
     "output_type": "display_data"
    },
    {
     "data": {
      "image/png": "[encoded data removed]",
      "text/plain": [
       "plot without title"
      ]
     },
     "metadata": {
      "image/png": {
       "height": 420,
       "width": 420
      }
     },
     "output_type": "display_data"
    },
    {
     "data": {
      "image/png": "[encoded data removed]",
      "text/plain": [
       "plot without title"
      ]
     },
     "metadata": {
      "image/png": {
       "height": 420,
       "width": 420
      }
     },
     "output_type": "display_data"
    },
    {
     "data": {
      "image/png": "[encoded data removed]",
      "text/plain": [
       "plot without title"
      ]
     },
     "metadata": {
      "image/png": {
       "height": 420,
       "width": 420
      }
     },
     "output_type": "display_data"
    },
    {
     "data": {
      "image/png": "[encoded data removed]",
      "text/plain": [
       "plot without title"
      ]
     },
     "metadata": {
      "image/png": {
       "height": 420,
       "width": 420
      }
     },
     "output_type": "display_data"
    },
    {
     "data": {
      "image/png": "[encoded data removed]",
      "text/plain": [
       "plot without title"
      ]
     },
     "metadata": {
      "image/png": {
       "height": 420,
       "width": 420
      }
     },
     "output_type": "display_data"
    }
   ],
   "source": [
    "par(mfrow = c(1,2))\n",
    "for (col in binary_cols)\n",
    "{\n",
    "    contingency_table = table(balanced_training_data[, col], balanced_training_data$Diabetes_binary)\n",
    "    rownames(contingency_table) = c(sprintf(\"no %s\", col), col)\n",
    "    colnames(contingency_table) = c(\"no diabetes\", \"diabetes\")\n",
    "    plot_stack_bar_2x2(contingency_table)\n",
    "}"
   ]
  },
  {
   "cell_type": "code",
   "execution_count": 117,
   "id": "26c96d95-181c-49f5-aab9-905078718105",
   "metadata": {},
   "outputs": [],
   "source": [
    "summary_categorical_variables = function(df, explain_col, response_col, is.binary = T, prop.r = T,\n",
    "                                        prop.c = T, prop.t = T)\n",
    "{\n",
    "    contingency_table = table(df[, explain_col], df[, response_col], dnn = c(explain_col, response_col))\n",
    "    if (is.binary)\n",
    "    {\n",
    "        rownames(contingency_table) = c(paste(\"no\", explain_col), explain_col)\n",
    "        gmodels::CrossTable(contingency_table, prop.r = prop.r, prop.c = prop.c, prop.t = prop.t, prop.chisq = FALSE, chisq = T)\n",
    "        print(\"Odds Ratio\")\n",
    "        print(OddsRatio(contingency_table, conf.level = 0.95))\n",
    "        print(\"Relative Risk\")\n",
    "        print(RelRisk(contingency_table, conf.level = 0.95, method = \"wald\"))\n",
    "    }\n",
    "    else\n",
    "    {\n",
    "        CrossTable(contingency_table, prop.r = prop.r, prop.c = prop.c, prop.t = prop.t, prop.chisq = FALSE, chisq = T)\n",
    "    }\n",
    "}"
   ]
  },
  {
   "cell_type": "code",
   "execution_count": 118,
   "id": "6cae4c3c-7e28-4305-83b5-36ef80c198e2",
   "metadata": {
    "scrolled": true
   },
   "outputs": [
    {
     "name": "stdout",
     "output_type": "stream",
     "text": [
      "\n",
      " \n",
      "   Cell Contents\n",
      "|-------------------------|\n",
      "|                       N |\n",
      "|           N / Row Total |\n",
      "|           N / Col Total |\n",
      "|         N / Table Total |\n",
      "|-------------------------|\n",
      "\n",
      " \n",
      "Total Observations in Table:  349444 \n",
      "\n",
      " \n",
      "             | Diabetes_binary \n",
      "      HighBP |         0 |         1 | Row Total | \n",
      "-------------|-----------|-----------|-----------|\n",
      "   no HighBP |    109129 |     43212 |    152341 | \n",
      "             |     0.716 |     0.284 |     0.436 | \n",
      "             |     0.624 |     0.247 |           | \n",
      "             |     0.312 |     0.124 |           | \n",
      "-------------|-----------|-----------|-----------|\n",
      "      HighBP |     65674 |    131429 |    197103 | \n",
      "             |     0.333 |     0.667 |     0.564 | \n",
      "             |     0.376 |     0.753 |           | \n",
      "             |     0.188 |     0.376 |           | \n",
      "-------------|-----------|-----------|-----------|\n",
      "Column Total |    174803 |    174641 |    349444 | \n",
      "             |     0.500 |     0.500 |           | \n",
      "-------------|-----------|-----------|-----------|\n",
      "\n",
      " \n",
      "Statistics for All Table Factors\n",
      "\n",
      "\n",
      "Pearson's Chi-squared test \n",
      "------------------------------------------------------------\n",
      "Chi^2 =  50458.16     d.f. =  1     p =  0 \n",
      "\n",
      "Pearson's Chi-squared test with Yates' continuity correction \n",
      "------------------------------------------------------------\n",
      "Chi^2 =  50456.63     d.f. =  1     p =  0 \n",
      "\n",
      " \n",
      "[1] \"Odds Ratio\"\n",
      "odds ratio     lwr.ci     upr.ci \n",
      "  5.053980   4.980957   5.128074 \n",
      "[1] \"Relative Risk\"\n",
      "rel. risk    lwr.ci    upr.ci \n",
      " 2.149924  2.134929  2.165024 \n",
      "\n",
      " \n",
      "   Cell Contents\n",
      "|-------------------------|\n",
      "|                       N |\n",
      "|           N / Row Total |\n",
      "|           N / Col Total |\n",
      "|         N / Table Total |\n",
      "|-------------------------|\n",
      "\n",
      " \n",
      "Total Observations in Table:  349444 \n",
      "\n",
      " \n",
      "             | Diabetes_binary \n",
      "    HighChol |         0 |         1 | Row Total | \n",
      "-------------|-----------|-----------|-----------|\n",
      " no HighChol |    107854 |     58033 |    165887 | \n",
      "             |     0.650 |     0.350 |     0.475 | \n",
      "             |     0.617 |     0.332 |           | \n",
      "             |     0.309 |     0.166 |           | \n",
      "-------------|-----------|-----------|-----------|\n",
      "    HighChol |     66949 |    116608 |    183557 | \n",
      "             |     0.365 |     0.635 |     0.525 | \n",
      "             |     0.383 |     0.668 |           | \n",
      "             |     0.192 |     0.334 |           | \n",
      "-------------|-----------|-----------|-----------|\n",
      "Column Total |    174803 |    174641 |    349444 | \n",
      "             |     0.500 |     0.500 |           | \n",
      "-------------|-----------|-----------|-----------|\n",
      "\n",
      " \n",
      "Statistics for All Table Factors\n",
      "\n",
      "\n",
      "Pearson's Chi-squared test \n",
      "------------------------------------------------------------\n",
      "Chi^2 =  28397.33     d.f. =  1     p =  0 \n",
      "\n",
      "Pearson's Chi-squared test with Yates' continuity correction \n",
      "------------------------------------------------------------\n",
      "Chi^2 =  28396.19     d.f. =  1     p =  0 \n",
      "\n",
      " \n",
      "[1] \"Odds Ratio\"\n",
      "odds ratio     lwr.ci     upr.ci \n",
      "  3.237021   3.192461   3.282202 \n",
      "[1] \"Relative Risk\"\n",
      "rel. risk    lwr.ci    upr.ci \n",
      " 1.782587  1.770164  1.795098 \n",
      "\n",
      " \n",
      "   Cell Contents\n",
      "|-------------------------|\n",
      "|                       N |\n",
      "|           N / Row Total |\n",
      "|           N / Col Total |\n",
      "|         N / Table Total |\n",
      "|-------------------------|\n",
      "\n",
      " \n",
      "Total Observations in Table:  349444 \n",
      "\n",
      " \n",
      "             | Diabetes_binary \n",
      "   CholCheck |         0 |         1 | Row Total | \n",
      "-------------|-----------|-----------|-----------|\n",
      "no CholCheck |      7436 |      1167 |      8603 | \n",
      "             |     0.864 |     0.136 |     0.025 | \n",
      "             |     0.043 |     0.007 |           | \n",
      "             |     0.021 |     0.003 |           | \n",
      "-------------|-----------|-----------|-----------|\n",
      "   CholCheck |    167367 |    173474 |    340841 | \n",
      "             |     0.491 |     0.509 |     0.975 | \n",
      "             |     0.957 |     0.993 |           | \n",
      "             |     0.479 |     0.496 |           | \n",
      "-------------|-----------|-----------|-----------|\n",
      "Column Total |    174803 |    174641 |    349444 | \n",
      "             |     0.500 |     0.500 |           | \n",
      "-------------|-----------|-----------|-----------|\n",
      "\n",
      " \n",
      "Statistics for All Table Factors\n",
      "\n",
      "\n",
      "Pearson's Chi-squared test \n",
      "------------------------------------------------------------\n",
      "Chi^2 =  4677.564     d.f. =  1     p =  0 \n",
      "\n",
      "Pearson's Chi-squared test with Yates' continuity correction \n",
      "------------------------------------------------------------\n",
      "Chi^2 =  4676.07     d.f. =  1     p =  0 \n",
      "\n",
      " \n",
      "[1] \"Odds Ratio\"\n",
      "odds ratio     lwr.ci     upr.ci \n",
      "  6.604396   6.206886   7.027363 \n",
      "[1] \"Relative Risk\"\n",
      "rel. risk    lwr.ci    upr.ci \n",
      " 1.760238  1.744397  1.776223 \n",
      "\n",
      " \n",
      "   Cell Contents\n",
      "|-------------------------|\n",
      "|                       N |\n",
      "|           N / Row Total |\n",
      "|           N / Col Total |\n",
      "|         N / Table Total |\n",
      "|-------------------------|\n",
      "\n",
      " \n",
      "Total Observations in Table:  349444 \n",
      "\n",
      " \n",
      "             | Diabetes_binary \n",
      "      Smoker |         0 |         1 | Row Total | \n",
      "-------------|-----------|-----------|-----------|\n",
      "   no Smoker |     99582 |     84811 |    184393 | \n",
      "             |     0.540 |     0.460 |     0.528 | \n",
      "             |     0.570 |     0.486 |           | \n",
      "             |     0.285 |     0.243 |           | \n",
      "-------------|-----------|-----------|-----------|\n",
      "      Smoker |     75221 |     89830 |    165051 | \n",
      "             |     0.456 |     0.544 |     0.472 | \n",
      "             |     0.430 |     0.514 |           | \n",
      "             |     0.215 |     0.257 |           | \n",
      "-------------|-----------|-----------|-----------|\n",
      "Column Total |    174803 |    174641 |    349444 | \n",
      "             |     0.500 |     0.500 |           | \n",
      "-------------|-----------|-----------|-----------|\n",
      "\n",
      " \n",
      "Statistics for All Table Factors\n",
      "\n",
      "\n",
      "Pearson's Chi-squared test \n",
      "------------------------------------------------------------\n",
      "Chi^2 =  2476.245     d.f. =  1     p =  0 \n",
      "\n",
      "Pearson's Chi-squared test with Yates' continuity correction \n",
      "------------------------------------------------------------\n",
      "Chi^2 =  2475.907     d.f. =  1     p =  0 \n",
      "\n",
      " \n",
      "[1] \"Odds Ratio\"\n",
      "odds ratio     lwr.ci     upr.ci \n",
      "  1.402203   1.383635   1.421020 \n",
      "[1] \"Relative Risk\"\n",
      "rel. risk    lwr.ci    upr.ci \n",
      " 1.184992  1.177023  1.193016 \n",
      "\n",
      " \n",
      "   Cell Contents\n",
      "|-------------------------|\n",
      "|                       N |\n",
      "|           N / Row Total |\n",
      "|           N / Col Total |\n",
      "|         N / Table Total |\n",
      "|-------------------------|\n",
      "\n",
      " \n",
      "Total Observations in Table:  349444 \n",
      "\n",
      " \n",
      "             | Diabetes_binary \n",
      "      Stroke |         0 |         1 | Row Total | \n",
      "-------------|-----------|-----------|-----------|\n",
      "   no Stroke |    169176 |    158607 |    327783 | \n",
      "             |     0.516 |     0.484 |     0.938 | \n",
      "             |     0.968 |     0.908 |           | \n",
      "             |     0.484 |     0.454 |           | \n",
      "-------------|-----------|-----------|-----------|\n",
      "      Stroke |      5627 |     16034 |     21661 | \n",
      "             |     0.260 |     0.740 |     0.062 | \n",
      "             |     0.032 |     0.092 |           | \n",
      "             |     0.016 |     0.046 |           | \n",
      "-------------|-----------|-----------|-----------|\n",
      "Column Total |    174803 |    174641 |    349444 | \n",
      "             |     0.500 |     0.500 |           | \n",
      "-------------|-----------|-----------|-----------|\n",
      "\n",
      " \n",
      "Statistics for All Table Factors\n",
      "\n",
      "\n",
      "Pearson's Chi-squared test \n",
      "------------------------------------------------------------\n",
      "Chi^2 =  5340.742     d.f. =  1     p =  0 \n",
      "\n",
      "Pearson's Chi-squared test with Yates' continuity correction \n",
      "------------------------------------------------------------\n",
      "Chi^2 =  5339.716     d.f. =  1     p =  0 \n",
      "\n",
      " \n",
      "[1] \"Odds Ratio\"\n",
      "odds ratio     lwr.ci     upr.ci \n",
      "  3.039355   2.946192   3.135464 \n",
      "[1] \"Relative Risk\"\n",
      "rel. risk    lwr.ci    upr.ci \n",
      " 1.986799  1.942165  2.032459 \n",
      "\n",
      " \n",
      "   Cell Contents\n",
      "|-------------------------|\n",
      "|                       N |\n",
      "|           N / Row Total |\n",
      "|           N / Col Total |\n",
      "|         N / Table Total |\n",
      "|-------------------------|\n",
      "\n",
      " \n",
      "Total Observations in Table:  349444 \n",
      "\n",
      " \n",
      "                        | Diabetes_binary \n",
      "   HeartDiseaseorAttack |         0 |         1 | Row Total | \n",
      "------------------------|-----------|-----------|-----------|\n",
      "no HeartDiseaseorAttack |    162005 |    136067 |    298072 | \n",
      "                        |     0.544 |     0.456 |     0.853 | \n",
      "                        |     0.927 |     0.779 |           | \n",
      "                        |     0.464 |     0.389 |           | \n",
      "------------------------|-----------|-----------|-----------|\n",
      "   HeartDiseaseorAttack |     12798 |     38574 |     51372 | \n",
      "                        |     0.249 |     0.751 |     0.147 | \n",
      "                        |     0.073 |     0.221 |           | \n",
      "                        |     0.037 |     0.110 |           | \n",
      "------------------------|-----------|-----------|-----------|\n",
      "           Column Total |    174803 |    174641 |    349444 | \n",
      "                        |     0.500 |     0.500 |           | \n",
      "------------------------|-----------|-----------|-----------|\n",
      "\n",
      " \n",
      "Statistics for All Table Factors\n",
      "\n",
      "\n",
      "Pearson's Chi-squared test \n",
      "------------------------------------------------------------\n",
      "Chi^2 =  15190.19     d.f. =  1     p =  0 \n",
      "\n",
      "Pearson's Chi-squared test with Yates' continuity correction \n",
      "------------------------------------------------------------\n",
      "Chi^2 =  15189.01     d.f. =  1     p =  0 \n",
      "\n",
      " \n",
      "[1] \"Odds Ratio\"\n",
      "odds ratio     lwr.ci     upr.ci \n",
      "  3.588626   3.513161   3.665711 \n",
      "[1] \"Relative Risk\"\n",
      "rel. risk    lwr.ci    upr.ci \n",
      " 2.181683  2.148410  2.215471 \n",
      "\n",
      " \n",
      "   Cell Contents\n",
      "|-------------------------|\n",
      "|                       N |\n",
      "|           N / Row Total |\n",
      "|           N / Col Total |\n",
      "|         N / Table Total |\n",
      "|-------------------------|\n",
      "\n",
      " \n",
      "Total Observations in Table:  349444 \n",
      "\n",
      " \n",
      "                | Diabetes_binary \n",
      "   PhysActivity |         0 |         1 | Row Total | \n",
      "----------------|-----------|-----------|-----------|\n",
      "no PhysActivity |     38994 |     64430 |    103424 | \n",
      "                |     0.377 |     0.623 |     0.296 | \n",
      "                |     0.223 |     0.369 |           | \n",
      "                |     0.112 |     0.184 |           | \n",
      "----------------|-----------|-----------|-----------|\n",
      "   PhysActivity |    135809 |    110211 |    246020 | \n",
      "                |     0.552 |     0.448 |     0.704 | \n",
      "                |     0.777 |     0.631 |           | \n",
      "                |     0.389 |     0.315 |           | \n",
      "----------------|-----------|-----------|-----------|\n",
      "   Column Total |    174803 |    174641 |    349444 | \n",
      "                |     0.500 |     0.500 |           | \n",
      "----------------|-----------|-----------|-----------|\n",
      "\n",
      " \n",
      "Statistics for All Table Factors\n",
      "\n",
      "\n",
      "Pearson's Chi-squared test \n",
      "------------------------------------------------------------\n",
      "Chi^2 =  8919.065     d.f. =  1     p =  0 \n",
      "\n",
      "Pearson's Chi-squared test with Yates' continuity correction \n",
      "------------------------------------------------------------\n",
      "Chi^2 =  8918.365     d.f. =  1     p =  0 \n",
      "\n",
      " \n",
      "[1] \"Odds Ratio\"\n",
      "odds ratio     lwr.ci     upr.ci \n",
      " 0.4911408  0.4838890  0.4985014 \n",
      "[1] \"Relative Risk\"\n",
      "rel. risk    lwr.ci    upr.ci \n",
      "0.6829963 0.6771445 0.6888986 \n",
      "\n",
      " \n",
      "   Cell Contents\n",
      "|-------------------------|\n",
      "|                       N |\n",
      "|           N / Row Total |\n",
      "|           N / Col Total |\n",
      "|         N / Table Total |\n",
      "|-------------------------|\n",
      "\n",
      " \n",
      "Total Observations in Table:  349444 \n",
      "\n",
      " \n",
      "             | Diabetes_binary \n",
      "      Fruits |         0 |         1 | Row Total | \n",
      "-------------|-----------|-----------|-----------|\n",
      "   no Fruits |     62695 |     72509 |    135204 | \n",
      "             |     0.464 |     0.536 |     0.387 | \n",
      "             |     0.359 |     0.415 |           | \n",
      "             |     0.179 |     0.207 |           | \n",
      "-------------|-----------|-----------|-----------|\n",
      "      Fruits |    112108 |    102132 |    214240 | \n",
      "             |     0.523 |     0.477 |     0.613 | \n",
      "             |     0.641 |     0.585 |           | \n",
      "             |     0.321 |     0.292 |           | \n",
      "-------------|-----------|-----------|-----------|\n",
      "Column Total |    174803 |    174641 |    349444 | \n",
      "             |     0.500 |     0.500 |           | \n",
      "-------------|-----------|-----------|-----------|\n",
      "\n",
      " \n",
      "Statistics for All Table Factors\n",
      "\n",
      "\n",
      "Pearson's Chi-squared test \n",
      "------------------------------------------------------------\n",
      "Chi^2 =  1176.819     d.f. =  1     p =  6.657424e-258 \n",
      "\n",
      "Pearson's Chi-squared test with Yates' continuity correction \n",
      "------------------------------------------------------------\n",
      "Chi^2 =  1176.58     d.f. =  1     p =  7.50057e-258 \n",
      "\n",
      " \n",
      "[1] \"Odds Ratio\"\n",
      "odds ratio     lwr.ci     upr.ci \n",
      " 0.7877098  0.7770361  0.7985301 \n",
      "[1] \"Relative Risk\"\n",
      "rel. risk    lwr.ci    upr.ci \n",
      "0.8861502 0.8799566 0.8923873 \n",
      "\n",
      " \n",
      "   Cell Contents\n",
      "|-------------------------|\n",
      "|                       N |\n",
      "|           N / Row Total |\n",
      "|           N / Col Total |\n",
      "|         N / Table Total |\n",
      "|-------------------------|\n",
      "\n",
      " \n",
      "Total Observations in Table:  349444 \n",
      "\n",
      " \n",
      "             | Diabetes_binary \n",
      "     Veggies |         0 |         1 | Row Total | \n",
      "-------------|-----------|-----------|-----------|\n",
      "  no Veggies |     31436 |     42060 |     73496 | \n",
      "             |     0.428 |     0.572 |     0.210 | \n",
      "             |     0.180 |     0.241 |           | \n",
      "             |     0.090 |     0.120 |           | \n",
      "-------------|-----------|-----------|-----------|\n",
      "     Veggies |    143367 |    132581 |    275948 | \n",
      "             |     0.520 |     0.480 |     0.790 | \n",
      "             |     0.820 |     0.759 |           | \n",
      "             |     0.410 |     0.379 |           | \n",
      "-------------|-----------|-----------|-----------|\n",
      "Column Total |    174803 |    174641 |    349444 | \n",
      "             |     0.500 |     0.500 |           | \n",
      "-------------|-----------|-----------|-----------|\n",
      "\n",
      " \n",
      "Statistics for All Table Factors\n",
      "\n",
      "\n",
      "Pearson's Chi-squared test \n",
      "------------------------------------------------------------\n",
      "Chi^2 =  1957.24     d.f. =  1     p =  0 \n",
      "\n",
      "Pearson's Chi-squared test with Yates' continuity correction \n",
      "------------------------------------------------------------\n",
      "Chi^2 =  1956.873     d.f. =  1     p =  0 \n",
      "\n",
      " \n",
      "[1] \"Odds Ratio\"\n",
      "odds ratio     lwr.ci     upr.ci \n",
      " 0.6911783  0.6799284  0.7026144 \n",
      "[1] \"Relative Risk\"\n",
      "rel. risk    lwr.ci    upr.ci \n",
      "0.8232687 0.8158113 0.8307944 \n",
      "\n",
      " \n",
      "   Cell Contents\n",
      "|-------------------------|\n",
      "|                       N |\n",
      "|           N / Row Total |\n",
      "|           N / Col Total |\n",
      "|         N / Table Total |\n",
      "|-------------------------|\n",
      "\n",
      " \n",
      "Total Observations in Table:  349444 \n",
      "\n",
      " \n",
      "                     | Diabetes_binary \n",
      "   HvyAlcoholConsump |         0 |         1 | Row Total | \n",
      "---------------------|-----------|-----------|-----------|\n",
      "no HvyAlcoholConsump |    164043 |    170532 |    334575 | \n",
      "                     |     0.490 |     0.510 |     0.957 | \n",
      "                     |     0.938 |     0.976 |           | \n",
      "                     |     0.469 |     0.488 |           | \n",
      "---------------------|-----------|-----------|-----------|\n",
      "   HvyAlcoholConsump |     10760 |      4109 |     14869 | \n",
      "                     |     0.724 |     0.276 |     0.043 | \n",
      "                     |     0.062 |     0.024 |           | \n",
      "                     |     0.031 |     0.012 |           | \n",
      "---------------------|-----------|-----------|-----------|\n",
      "        Column Total |    174803 |    174641 |    349444 | \n",
      "                     |     0.500 |     0.500 |           | \n",
      "---------------------|-----------|-----------|-----------|\n",
      "\n",
      " \n",
      "Statistics for All Table Factors\n",
      "\n",
      "\n",
      "Pearson's Chi-squared test \n",
      "------------------------------------------------------------\n",
      "Chi^2 =  3100.814     d.f. =  1     p =  0 \n",
      "\n",
      "Pearson's Chi-squared test with Yates' continuity correction \n",
      "------------------------------------------------------------\n",
      "Chi^2 =  3099.88     d.f. =  1     p =  0 \n",
      "\n",
      " \n",
      "[1] \"Odds Ratio\"\n",
      "odds ratio     lwr.ci     upr.ci \n",
      " 0.3673463  0.3541528  0.3810313 \n",
      "[1] \"Relative Risk\"\n",
      "rel. risk    lwr.ci    upr.ci \n",
      "0.6775381 0.6704507 0.6847004 \n",
      "\n",
      " \n",
      "   Cell Contents\n",
      "|-------------------------|\n",
      "|                       N |\n",
      "|           N / Row Total |\n",
      "|           N / Col Total |\n",
      "|         N / Table Total |\n",
      "|-------------------------|\n",
      "\n",
      " \n",
      "Total Observations in Table:  349444 \n",
      "\n",
      " \n",
      "                 | Diabetes_binary \n",
      "   AnyHealthcare |         0 |         1 | Row Total | \n",
      "-----------------|-----------|-----------|-----------|\n",
      "no AnyHealthcare |      8789 |      7086 |     15875 | \n",
      "                 |     0.554 |     0.446 |     0.045 | \n",
      "                 |     0.050 |     0.041 |           | \n",
      "                 |     0.025 |     0.020 |           | \n",
      "-----------------|-----------|-----------|-----------|\n",
      "   AnyHealthcare |    166014 |    167555 |    333569 | \n",
      "                 |     0.498 |     0.502 |     0.955 | \n",
      "                 |     0.950 |     0.959 |           | \n",
      "                 |     0.475 |     0.479 |           | \n",
      "-----------------|-----------|-----------|-----------|\n",
      "    Column Total |    174803 |    174641 |    349444 | \n",
      "                 |     0.500 |     0.500 |           | \n",
      "-----------------|-----------|-----------|-----------|\n",
      "\n",
      " \n",
      "Statistics for All Table Factors\n",
      "\n",
      "\n",
      "Pearson's Chi-squared test \n",
      "------------------------------------------------------------\n",
      "Chi^2 =  189.7343     d.f. =  1     p =  3.63356e-43 \n",
      "\n",
      "Pearson's Chi-squared test with Yates' continuity correction \n",
      "------------------------------------------------------------\n",
      "Chi^2 =  189.5106     d.f. =  1     p =  4.065998e-43 \n",
      "\n",
      " \n",
      "[1] \"Odds Ratio\"\n",
      "odds ratio     lwr.ci     upr.ci \n",
      "  1.251846   1.212397   1.292579 \n",
      "[1] \"Relative Risk\"\n",
      "rel. risk    lwr.ci    upr.ci \n",
      " 1.112415  1.096536  1.128523 \n",
      "\n",
      " \n",
      "   Cell Contents\n",
      "|-------------------------|\n",
      "|                       N |\n",
      "|           N / Row Total |\n",
      "|           N / Col Total |\n",
      "|         N / Table Total |\n",
      "|-------------------------|\n",
      "\n",
      " \n",
      "Total Observations in Table:  349444 \n",
      "\n",
      " \n",
      "               | Diabetes_binary \n",
      "   NoDocbcCost |         0 |         1 | Row Total | \n",
      "---------------|-----------|-----------|-----------|\n",
      "no NoDocbcCost |    160714 |    155822 |    316536 | \n",
      "               |     0.508 |     0.492 |     0.906 | \n",
      "               |     0.919 |     0.892 |           | \n",
      "               |     0.460 |     0.446 |           | \n",
      "---------------|-----------|-----------|-----------|\n",
      "   NoDocbcCost |     14089 |     18819 |     32908 | \n",
      "               |     0.428 |     0.572 |     0.094 | \n",
      "               |     0.081 |     0.108 |           | \n",
      "               |     0.040 |     0.054 |           | \n",
      "---------------|-----------|-----------|-----------|\n",
      "  Column Total |    174803 |    174641 |    349444 | \n",
      "               |     0.500 |     0.500 |           | \n",
      "---------------|-----------|-----------|-----------|\n",
      "\n",
      " \n",
      "Statistics for All Table Factors\n",
      "\n",
      "\n",
      "Pearson's Chi-squared test \n",
      "------------------------------------------------------------\n",
      "Chi^2 =  755.392     d.f. =  1     p =  2.697728e-166 \n",
      "\n",
      "Pearson's Chi-squared test with Yates' continuity correction \n",
      "------------------------------------------------------------\n",
      "Chi^2 =  755.0736     d.f. =  1     p =  3.163858e-166 \n",
      "\n",
      " \n",
      "[1] \"Odds Ratio\"\n",
      "odds ratio     lwr.ci     upr.ci \n",
      "  1.377658   1.346440   1.409599 \n",
      "[1] \"Relative Risk\"\n",
      "rel. risk    lwr.ci    upr.ci \n",
      " 1.185911  1.170653  1.201367 \n",
      "\n",
      " \n",
      "   Cell Contents\n",
      "|-------------------------|\n",
      "|                       N |\n",
      "|           N / Row Total |\n",
      "|           N / Col Total |\n",
      "|         N / Table Total |\n",
      "|-------------------------|\n",
      "\n",
      " \n",
      "Total Observations in Table:  349444 \n",
      "\n",
      " \n",
      "             | Diabetes_binary \n",
      "    DiffWalk |         0 |         1 | Row Total | \n",
      "-------------|-----------|-----------|-----------|\n",
      " no DiffWalk |    151249 |    110106 |    261355 | \n",
      "             |     0.579 |     0.421 |     0.748 | \n",
      "             |     0.865 |     0.630 |           | \n",
      "             |     0.433 |     0.315 |           | \n",
      "-------------|-----------|-----------|-----------|\n",
      "    DiffWalk |     23554 |     64535 |     88089 | \n",
      "             |     0.267 |     0.733 |     0.252 | \n",
      "             |     0.135 |     0.370 |           | \n",
      "             |     0.067 |     0.185 |           | \n",
      "-------------|-----------|-----------|-----------|\n",
      "Column Total |    174803 |    174641 |    349444 | \n",
      "             |     0.500 |     0.500 |           | \n",
      "-------------|-----------|-----------|-----------|\n",
      "\n",
      " \n",
      "Statistics for All Table Factors\n",
      "\n",
      "\n",
      "Pearson's Chi-squared test \n",
      "------------------------------------------------------------\n",
      "Chi^2 =  25542.03     d.f. =  1     p =  0 \n",
      "\n",
      "Pearson's Chi-squared test with Yates' continuity correction \n",
      "------------------------------------------------------------\n",
      "Chi^2 =  25540.78     d.f. =  1     p =  0 \n",
      "\n",
      " \n",
      "[1] \"Odds Ratio\"\n",
      "odds ratio     lwr.ci     upr.ci \n",
      "  3.763675   3.700901   3.827515 \n",
      "[1] \"Relative Risk\"\n",
      "rel. risk    lwr.ci    upr.ci \n",
      " 2.164306  2.139753  2.189142 \n",
      "\n",
      " \n",
      "   Cell Contents\n",
      "|-------------------------|\n",
      "|                       N |\n",
      "|           N / Row Total |\n",
      "|           N / Col Total |\n",
      "|         N / Table Total |\n",
      "|-------------------------|\n",
      "\n",
      " \n",
      "Total Observations in Table:  349444 \n",
      "\n",
      " \n",
      "             | Diabetes_binary \n",
      "         Sex |         0 |         1 | Row Total | \n",
      "-------------|-----------|-----------|-----------|\n",
      "      no Sex |     98942 |     91456 |    190398 | \n",
      "             |     0.520 |     0.480 |     0.545 | \n",
      "             |     0.566 |     0.524 |           | \n",
      "             |     0.283 |     0.262 |           | \n",
      "-------------|-----------|-----------|-----------|\n",
      "         Sex |     75861 |     83185 |    159046 | \n",
      "             |     0.477 |     0.523 |     0.455 | \n",
      "             |     0.434 |     0.476 |           | \n",
      "             |     0.217 |     0.238 |           | \n",
      "-------------|-----------|-----------|-----------|\n",
      "Column Total |    174803 |    174641 |    349444 | \n",
      "             |     0.500 |     0.500 |           | \n",
      "-------------|-----------|-----------|-----------|\n",
      "\n",
      " \n",
      "Statistics for All Table Factors\n",
      "\n",
      "\n",
      "Pearson's Chi-squared test \n",
      "------------------------------------------------------------\n",
      "Chi^2 =  631.5239     d.f. =  1     p =  2.330123e-139 \n",
      "\n",
      "Pearson's Chi-squared test with Yates' continuity correction \n",
      "------------------------------------------------------------\n",
      "Chi^2 =  631.3532     d.f. =  1     p =  2.538104e-139 \n",
      "\n",
      " \n",
      "[1] \"Odds Ratio\"\n",
      "odds ratio     lwr.ci     upr.ci \n",
      "  1.186301   1.170595   1.202218 \n",
      "[1] \"Relative Risk\"\n",
      "rel. risk    lwr.ci    upr.ci \n",
      " 1.089488  1.082193  1.096832 \n",
      "\n",
      " \n",
      "   Cell Contents\n",
      "|-------------------------|\n",
      "|                       N |\n",
      "|           N / Row Total |\n",
      "|           N / Col Total |\n",
      "|         N / Table Total |\n",
      "|-------------------------|\n",
      "\n",
      " \n",
      "Total Observations in Table:  349444 \n",
      "\n",
      " \n",
      "               | Diabetes_binary \n",
      "   BMI_over_45 |         0 |         1 | Row Total | \n",
      "---------------|-----------|-----------|-----------|\n",
      "no BMI_over_45 |    172314 |    166161 |    338475 | \n",
      "               |     0.509 |     0.491 |     0.969 | \n",
      "               |     0.986 |     0.951 |           | \n",
      "               |     0.493 |     0.476 |           | \n",
      "---------------|-----------|-----------|-----------|\n",
      "   BMI_over_45 |      2489 |      8480 |     10969 | \n",
      "               |     0.227 |     0.773 |     0.031 | \n",
      "               |     0.014 |     0.049 |           | \n",
      "               |     0.007 |     0.024 |           | \n",
      "---------------|-----------|-----------|-----------|\n",
      "  Column Total |    174803 |    174641 |    349444 | \n",
      "               |     0.500 |     0.500 |           | \n",
      "---------------|-----------|-----------|-----------|\n",
      "\n",
      " \n",
      "Statistics for All Table Factors\n",
      "\n",
      "\n",
      "Pearson's Chi-squared test \n",
      "------------------------------------------------------------\n",
      "Chi^2 =  3383.916     d.f. =  1     p =  0 \n",
      "\n",
      "Pearson's Chi-squared test with Yates' continuity correction \n",
      "------------------------------------------------------------\n",
      "Chi^2 =  3382.788     d.f. =  1     p =  0 \n",
      "\n",
      " \n",
      "[1] \"Odds Ratio\"\n",
      "odds ratio     lwr.ci     upr.ci \n",
      "  3.533153   3.377056   3.696464 \n",
      "[1] \"Relative Risk\"\n",
      "rel. risk    lwr.ci    upr.ci \n",
      " 2.243552  2.167045  2.322760 \n",
      "\n",
      " \n",
      "   Cell Contents\n",
      "|-------------------------|\n",
      "|                       N |\n",
      "|           N / Row Total |\n",
      "|           N / Col Total |\n",
      "|         N / Table Total |\n",
      "|-------------------------|\n",
      "\n",
      " \n",
      "Total Observations in Table:  349444 \n",
      "\n",
      " \n",
      "                | Diabetes_binary \n",
      "   havePhysHlth |         0 |         1 | Row Total | \n",
      "----------------|-----------|-----------|-----------|\n",
      "no havePhysHlth |    114746 |     82697 |    197443 | \n",
      "                |     0.581 |     0.419 |     0.565 | \n",
      "                |     0.656 |     0.474 |           | \n",
      "                |     0.328 |     0.237 |           | \n",
      "----------------|-----------|-----------|-----------|\n",
      "   havePhysHlth |     60057 |     91944 |    152001 | \n",
      "                |     0.395 |     0.605 |     0.435 | \n",
      "                |     0.344 |     0.526 |           | \n",
      "                |     0.172 |     0.263 |           | \n",
      "----------------|-----------|-----------|-----------|\n",
      "   Column Total |    174803 |    174641 |    349444 | \n",
      "                |     0.500 |     0.500 |           | \n",
      "----------------|-----------|-----------|-----------|\n",
      "\n",
      " \n",
      "Statistics for All Table Factors\n",
      "\n",
      "\n",
      "Pearson's Chi-squared test \n",
      "------------------------------------------------------------\n",
      "Chi^2 =  11891.43     d.f. =  1     p =  0 \n",
      "\n",
      "Pearson's Chi-squared test with Yates' continuity correction \n",
      "------------------------------------------------------------\n",
      "Chi^2 =  11890.69     d.f. =  1     p =  0 \n",
      "\n",
      " \n",
      "[1] \"Odds Ratio\"\n",
      "odds ratio     lwr.ci     upr.ci \n",
      "  2.124259   2.095510   2.153403 \n",
      "[1] \"Relative Risk\"\n",
      "rel. risk    lwr.ci    upr.ci \n",
      " 1.470885  1.460244  1.481603 \n"
     ]
    }
   ],
   "source": [
    "for (bin_col in binary_cols)\n",
    "{\n",
    "    summary_categorical_variables(balanced_training_data, bin_col, response_col)\n",
    "}"
   ]
  },
  {
   "cell_type": "markdown",
   "id": "b67b9735-7e49-43c5-8d74-22c1f36ce3c7",
   "metadata": {},
   "source": [
    "### 3.6. Categorical - ordinal variables analysis"
   ]
  },
  {
   "cell_type": "code",
   "execution_count": 119,
   "id": "760c518b-c8b7-4583-9037-d1fd6db14f32",
   "metadata": {},
   "outputs": [
    {
     "data": {
      "text/html": [
       "<style>\n",
       ".list-inline {list-style: none; margin:0; padding: 0}\n",
       ".list-inline>li {display: inline-block}\n",
       ".list-inline>li:not(:last-child)::after {content: \"\\00b7\"; padding: 0 .5ex}\n",
       "</style>\n",
       "<ol class=list-inline><li>'GenHlth'</li><li>'Age'</li><li>'Education'</li><li>'Income'</li></ol>\n"
      ],
      "text/latex": [
       "\\begin{enumerate*}\n",
       "\\item 'GenHlth'\n",
       "\\item 'Age'\n",
       "\\item 'Education'\n",
       "\\item 'Income'\n",
       "\\end{enumerate*}\n"
      ],
      "text/markdown": [
       "1. 'GenHlth'\n",
       "2. 'Age'\n",
       "3. 'Education'\n",
       "4. 'Income'\n",
       "\n",
       "\n"
      ],
      "text/plain": [
       "[1] \"GenHlth\"   \"Age\"       \"Education\" \"Income\"   "
      ]
     },
     "metadata": {},
     "output_type": "display_data"
    }
   ],
   "source": [
    "ordinal_cols"
   ]
  },
  {
   "cell_type": "code",
   "execution_count": 120,
   "id": "cb00dec4-46c7-4e7b-a85d-d52eb0223502",
   "metadata": {
    "scrolled": true
   },
   "outputs": [
    {
     "name": "stdout",
     "output_type": "stream",
     "text": [
      "\n",
      " \n",
      "   Cell Contents\n",
      "|-------------------------|\n",
      "|                       N |\n",
      "|           N / Row Total |\n",
      "|           N / Col Total |\n",
      "|         N / Table Total |\n",
      "|-------------------------|\n",
      "\n",
      " \n",
      "Total Observations in Table:  253680 \n",
      "\n",
      " \n",
      "             | Diabetes_binary \n",
      "     GenHlth |         0 |         1 | Row Total | \n",
      "-------------|-----------|-----------|-----------|\n",
      "           1 |     44159 |      1140 |     45299 | \n",
      "             |     0.975 |     0.025 |     0.179 | \n",
      "             |     0.202 |     0.032 |           | \n",
      "             |     0.174 |     0.004 |           | \n",
      "-------------|-----------|-----------|-----------|\n",
      "           2 |     82703 |      6381 |     89084 | \n",
      "             |     0.928 |     0.072 |     0.351 | \n",
      "             |     0.379 |     0.181 |           | \n",
      "             |     0.326 |     0.025 |           | \n",
      "-------------|-----------|-----------|-----------|\n",
      "           3 |     62189 |     13457 |     75646 | \n",
      "             |     0.822 |     0.178 |     0.298 | \n",
      "             |     0.285 |     0.381 |           | \n",
      "             |     0.245 |     0.053 |           | \n",
      "-------------|-----------|-----------|-----------|\n",
      "           4 |     21780 |      9790 |     31570 | \n",
      "             |     0.690 |     0.310 |     0.124 | \n",
      "             |     0.100 |     0.277 |           | \n",
      "             |     0.086 |     0.039 |           | \n",
      "-------------|-----------|-----------|-----------|\n",
      "           5 |      7503 |      4578 |     12081 | \n",
      "             |     0.621 |     0.379 |     0.048 | \n",
      "             |     0.034 |     0.130 |           | \n",
      "             |     0.030 |     0.018 |           | \n",
      "-------------|-----------|-----------|-----------|\n",
      "Column Total |    218334 |     35346 |    253680 | \n",
      "             |     0.861 |     0.139 |           | \n",
      "-------------|-----------|-----------|-----------|\n",
      "\n",
      " \n",
      "Statistics for All Table Factors\n",
      "\n",
      "\n",
      "Pearson's Chi-squared test \n",
      "------------------------------------------------------------\n",
      "Chi^2 =  22728.07     d.f. =  4     p =  0 \n",
      "\n",
      "\n",
      " \n",
      "\n",
      " \n",
      "   Cell Contents\n",
      "|-------------------------|\n",
      "|                       N |\n",
      "|           N / Row Total |\n",
      "|           N / Col Total |\n",
      "|         N / Table Total |\n",
      "|-------------------------|\n",
      "\n",
      " \n",
      "Total Observations in Table:  253680 \n",
      "\n",
      " \n",
      "             | Diabetes_binary \n",
      "         Age |         0 |         1 | Row Total | \n",
      "-------------|-----------|-----------|-----------|\n",
      "           1 |      5622 |        78 |      5700 | \n",
      "             |     0.986 |     0.014 |     0.022 | \n",
      "             |     0.026 |     0.002 |           | \n",
      "             |     0.022 |     0.000 |           | \n",
      "-------------|-----------|-----------|-----------|\n",
      "           2 |      7458 |       140 |      7598 | \n",
      "             |     0.982 |     0.018 |     0.030 | \n",
      "             |     0.034 |     0.004 |           | \n",
      "             |     0.029 |     0.001 |           | \n",
      "-------------|-----------|-----------|-----------|\n",
      "           3 |     10809 |       314 |     11123 | \n",
      "             |     0.972 |     0.028 |     0.044 | \n",
      "             |     0.050 |     0.009 |           | \n",
      "             |     0.043 |     0.001 |           | \n",
      "-------------|-----------|-----------|-----------|\n",
      "           4 |     13197 |       626 |     13823 | \n",
      "             |     0.955 |     0.045 |     0.054 | \n",
      "             |     0.060 |     0.018 |           | \n",
      "             |     0.052 |     0.002 |           | \n",
      "-------------|-----------|-----------|-----------|\n",
      "           5 |     15106 |      1051 |     16157 | \n",
      "             |     0.935 |     0.065 |     0.064 | \n",
      "             |     0.069 |     0.030 |           | \n",
      "             |     0.060 |     0.004 |           | \n",
      "-------------|-----------|-----------|-----------|\n",
      "           6 |     18077 |      1742 |     19819 | \n",
      "             |     0.912 |     0.088 |     0.078 | \n",
      "             |     0.083 |     0.049 |           | \n",
      "             |     0.071 |     0.007 |           | \n",
      "-------------|-----------|-----------|-----------|\n",
      "           7 |     23226 |      3088 |     26314 | \n",
      "             |     0.883 |     0.117 |     0.104 | \n",
      "             |     0.106 |     0.087 |           | \n",
      "             |     0.092 |     0.012 |           | \n",
      "-------------|-----------|-----------|-----------|\n",
      "           8 |     26569 |      4263 |     30832 | \n",
      "             |     0.862 |     0.138 |     0.122 | \n",
      "             |     0.122 |     0.121 |           | \n",
      "             |     0.105 |     0.017 |           | \n",
      "-------------|-----------|-----------|-----------|\n",
      "           9 |     27511 |      5733 |     33244 | \n",
      "             |     0.828 |     0.172 |     0.131 | \n",
      "             |     0.126 |     0.162 |           | \n",
      "             |     0.108 |     0.023 |           | \n",
      "-------------|-----------|-----------|-----------|\n",
      "          10 |     25636 |      6558 |     32194 | \n",
      "             |     0.796 |     0.204 |     0.127 | \n",
      "             |     0.117 |     0.186 |           | \n",
      "             |     0.101 |     0.026 |           | \n",
      "-------------|-----------|-----------|-----------|\n",
      "          11 |     18392 |      5141 |     23533 | \n",
      "             |     0.782 |     0.218 |     0.093 | \n",
      "             |     0.084 |     0.145 |           | \n",
      "             |     0.073 |     0.020 |           | \n",
      "-------------|-----------|-----------|-----------|\n",
      "          12 |     12577 |      3403 |     15980 | \n",
      "             |     0.787 |     0.213 |     0.063 | \n",
      "             |     0.058 |     0.096 |           | \n",
      "             |     0.050 |     0.013 |           | \n",
      "-------------|-----------|-----------|-----------|\n",
      "          13 |     14154 |      3209 |     17363 | \n",
      "             |     0.815 |     0.185 |     0.068 | \n",
      "             |     0.065 |     0.091 |           | \n",
      "             |     0.056 |     0.013 |           | \n",
      "-------------|-----------|-----------|-----------|\n",
      "Column Total |    218334 |     35346 |    253680 | \n",
      "             |     0.861 |     0.139 |           | \n",
      "-------------|-----------|-----------|-----------|\n",
      "\n",
      " \n",
      "Statistics for All Table Factors\n",
      "\n",
      "\n",
      "Pearson's Chi-squared test \n",
      "------------------------------------------------------------\n",
      "Chi^2 =  8795.051     d.f. =  12     p =  0 \n",
      "\n",
      "\n",
      " \n",
      "\n",
      " \n",
      "   Cell Contents\n",
      "|-------------------------|\n",
      "|                       N |\n",
      "|           N / Row Total |\n",
      "|           N / Col Total |\n",
      "|         N / Table Total |\n",
      "|-------------------------|\n",
      "\n",
      " \n",
      "Total Observations in Table:  253680 \n",
      "\n",
      " \n",
      "             | Diabetes_binary \n",
      "   Education |         0 |         1 | Row Total | \n",
      "-------------|-----------|-----------|-----------|\n",
      "           1 |       127 |        47 |       174 | \n",
      "             |     0.730 |     0.270 |     0.001 | \n",
      "             |     0.001 |     0.001 |           | \n",
      "             |     0.001 |     0.000 |           | \n",
      "-------------|-----------|-----------|-----------|\n",
      "           2 |      2860 |      1183 |      4043 | \n",
      "             |     0.707 |     0.293 |     0.016 | \n",
      "             |     0.013 |     0.033 |           | \n",
      "             |     0.011 |     0.005 |           | \n",
      "-------------|-----------|-----------|-----------|\n",
      "           3 |      7182 |      2296 |      9478 | \n",
      "             |     0.758 |     0.242 |     0.037 | \n",
      "             |     0.033 |     0.065 |           | \n",
      "             |     0.028 |     0.009 |           | \n",
      "-------------|-----------|-----------|-----------|\n",
      "           4 |     51684 |     11066 |     62750 | \n",
      "             |     0.824 |     0.176 |     0.247 | \n",
      "             |     0.237 |     0.313 |           | \n",
      "             |     0.204 |     0.044 |           | \n",
      "-------------|-----------|-----------|-----------|\n",
      "           5 |     59556 |     10354 |     69910 | \n",
      "             |     0.852 |     0.148 |     0.276 | \n",
      "             |     0.273 |     0.293 |           | \n",
      "             |     0.235 |     0.041 |           | \n",
      "-------------|-----------|-----------|-----------|\n",
      "           6 |     96925 |     10400 |    107325 | \n",
      "             |     0.903 |     0.097 |     0.423 | \n",
      "             |     0.444 |     0.294 |           | \n",
      "             |     0.382 |     0.041 |           | \n",
      "-------------|-----------|-----------|-----------|\n",
      "Column Total |    218334 |     35346 |    253680 | \n",
      "             |     0.861 |     0.139 |           | \n",
      "-------------|-----------|-----------|-----------|\n",
      "\n",
      " \n",
      "Statistics for All Table Factors\n",
      "\n",
      "\n",
      "Pearson's Chi-squared test \n",
      "------------------------------------------------------------\n",
      "Chi^2 =  4027.112     d.f. =  5     p =  0 \n",
      "\n",
      "\n",
      " \n",
      "\n",
      " \n",
      "   Cell Contents\n",
      "|-------------------------|\n",
      "|                       N |\n",
      "|           N / Row Total |\n",
      "|           N / Col Total |\n",
      "|         N / Table Total |\n",
      "|-------------------------|\n",
      "\n",
      " \n",
      "Total Observations in Table:  253680 \n",
      "\n",
      " \n",
      "             | Diabetes_binary \n",
      "      Income |         0 |         1 | Row Total | \n",
      "-------------|-----------|-----------|-----------|\n",
      "           1 |      7428 |      2383 |      9811 | \n",
      "             |     0.757 |     0.243 |     0.039 | \n",
      "             |     0.034 |     0.067 |           | \n",
      "             |     0.029 |     0.009 |           | \n",
      "-------------|-----------|-----------|-----------|\n",
      "           2 |      8697 |      3086 |     11783 | \n",
      "             |     0.738 |     0.262 |     0.046 | \n",
      "             |     0.040 |     0.087 |           | \n",
      "             |     0.034 |     0.012 |           | \n",
      "-------------|-----------|-----------|-----------|\n",
      "           3 |     12426 |      3568 |     15994 | \n",
      "             |     0.777 |     0.223 |     0.063 | \n",
      "             |     0.057 |     0.101 |           | \n",
      "             |     0.049 |     0.014 |           | \n",
      "-------------|-----------|-----------|-----------|\n",
      "           4 |     16081 |      4054 |     20135 | \n",
      "             |     0.799 |     0.201 |     0.079 | \n",
      "             |     0.074 |     0.115 |           | \n",
      "             |     0.063 |     0.016 |           | \n",
      "-------------|-----------|-----------|-----------|\n",
      "           5 |     21379 |      4504 |     25883 | \n",
      "             |     0.826 |     0.174 |     0.102 | \n",
      "             |     0.098 |     0.127 |           | \n",
      "             |     0.084 |     0.018 |           | \n",
      "-------------|-----------|-----------|-----------|\n",
      "           6 |     31179 |      5291 |     36470 | \n",
      "             |     0.855 |     0.145 |     0.144 | \n",
      "             |     0.143 |     0.150 |           | \n",
      "             |     0.123 |     0.021 |           | \n",
      "-------------|-----------|-----------|-----------|\n",
      "           7 |     37954 |      5265 |     43219 | \n",
      "             |     0.878 |     0.122 |     0.170 | \n",
      "             |     0.174 |     0.149 |           | \n",
      "             |     0.150 |     0.021 |           | \n",
      "-------------|-----------|-----------|-----------|\n",
      "           8 |     83190 |      7195 |     90385 | \n",
      "             |     0.920 |     0.080 |     0.356 | \n",
      "             |     0.381 |     0.204 |           | \n",
      "             |     0.328 |     0.028 |           | \n",
      "-------------|-----------|-----------|-----------|\n",
      "Column Total |    218334 |     35346 |    253680 | \n",
      "             |     0.861 |     0.139 |           | \n",
      "-------------|-----------|-----------|-----------|\n",
      "\n",
      " \n",
      "Statistics for All Table Factors\n",
      "\n",
      "\n",
      "Pearson's Chi-squared test \n",
      "------------------------------------------------------------\n",
      "Chi^2 =  7003.715     d.f. =  7     p =  0 \n",
      "\n",
      "\n",
      " \n"
     ]
    }
   ],
   "source": [
    "for (ord_col in ordinal_cols)\n",
    "{\n",
    "    summary_categorical_variables(df, ord_col, response_col, is.binary = F)\n",
    "}"
   ]
  },
  {
   "cell_type": "code",
   "execution_count": 121,
   "id": "91454db6-74db-4e3b-b194-409e47e923b6",
   "metadata": {},
   "outputs": [],
   "source": [
    "plot_ordinal_data = function(dataframe, ordinal_col)\n",
    "{\n",
    "    barplot(summary(factor(dataframe[no_diabetes_rows, ][, ordinal_col])), main = sprintf(\"no_diabetes_rows - %s\", ordinal_col),\n",
    "           col = MAIN_COLOR, las = 1, lwd = 2)\n",
    "    barplot(summary(factor(dataframe[with_diabetes_rows, ][, ordinal_col])), main = sprintf(\"no_diabetes_rows - %s\", ordinal_col),\n",
    "           col = MAIN_COLOR, las = 1, lwd = 2)\n",
    "}"
   ]
  },
  {
   "cell_type": "markdown",
   "id": "238be730-64df-4e29-9b15-ba4e1c0dbafa",
   "metadata": {},
   "source": [
    "#### 3.6.1. GenHlth"
   ]
  },
  {
   "cell_type": "code",
   "execution_count": 122,
   "id": "278ec338-8903-4c64-84fb-67093d643b89",
   "metadata": {},
   "outputs": [
    {
     "data": {
      "image/png": "[encoded data removed]",
      "text/plain": [
       "Plot with title \"no_diabetes_rows - GenHlth\""
      ]
     },
     "metadata": {
      "image/png": {
       "height": 420,
       "width": 420
      }
     },
     "output_type": "display_data"
    },
    {
     "data": {
      "image/png": "[encoded data removed]",
      "text/plain": [
       "Plot with title \"no_diabetes_rows - GenHlth\""
      ]
     },
     "metadata": {
      "image/png": {
       "height": 420,
       "width": 420
      }
     },
     "output_type": "display_data"
    }
   ],
   "source": [
    "plot_ordinal_data(balanced_training_data, \"GenHlth\")"
   ]
  },
  {
   "cell_type": "markdown",
   "id": "fc971f1f-1020-43be-a89d-6923a8198581",
   "metadata": {},
   "source": [
    "#### 3.6.2. Age"
   ]
  },
  {
   "cell_type": "code",
   "execution_count": 123,
   "id": "832a0fb7-1c0e-41f7-bf37-6300f160b594",
   "metadata": {},
   "outputs": [
    {
     "data": {
      "image/png": "[encoded data removed]",
      "text/plain": [
       "Plot with title \"no_diabetes_rows - Age\""
      ]
     },
     "metadata": {
      "image/png": {
       "height": 420,
       "width": 420
      }
     },
     "output_type": "display_data"
    },
    {
     "data": {
      "image/png": "[encoded data removed]",
      "text/plain": [
       "Plot with title \"no_diabetes_rows - Age\""
      ]
     },
     "metadata": {
      "image/png": {
       "height": 420,
       "width": 420
      }
     },
     "output_type": "display_data"
    }
   ],
   "source": [
    "plot_ordinal_data(balanced_training_data, \"Age\")"
   ]
  },
  {
   "cell_type": "markdown",
   "id": "b0cf75fc-2b60-4440-a95c-43cbd6acdde4",
   "metadata": {},
   "source": [
    "#### 3.6.3. Education"
   ]
  },
  {
   "cell_type": "code",
   "execution_count": 124,
   "id": "143797d1-5806-41c8-a7c9-ea8c5767bf5d",
   "metadata": {},
   "outputs": [
    {
     "data": {
      "image/png": "[encoded data removed]",
      "text/plain": [
       "Plot with title \"no_diabetes_rows - Education\""
      ]
     },
     "metadata": {
      "image/png": {
       "height": 420,
       "width": 420
      }
     },
     "output_type": "display_data"
    },
    {
     "data": {
      "image/png": "[encoded data removed]",
      "text/plain": [
       "Plot with title \"no_diabetes_rows - Education\""
      ]
     },
     "metadata": {
      "image/png": {
       "height": 420,
       "width": 420
      }
     },
     "output_type": "display_data"
    }
   ],
   "source": [
    "plot_ordinal_data(balanced_training_data, \"Education\")"
   ]
  },
  {
   "cell_type": "markdown",
   "id": "e99d15f8-0d1c-4815-a5c7-dd7266803c37",
   "metadata": {},
   "source": [
    "#### 3.6.4. Income"
   ]
  },
  {
   "cell_type": "code",
   "execution_count": 125,
   "id": "a39f7a15-58b9-4edc-a462-fd8575962eab",
   "metadata": {},
   "outputs": [
    {
     "data": {
      "image/png": "[encoded data removed]",
      "text/plain": [
       "Plot with title \"no_diabetes_rows - Income\""
      ]
     },
     "metadata": {
      "image/png": {
       "height": 420,
       "width": 420
      }
     },
     "output_type": "display_data"
    },
    {
     "data": {
      "image/png": "[encoded data removed]",
      "text/plain": [
       "Plot with title \"no_diabetes_rows - Income\""
      ]
     },
     "metadata": {
      "image/png": {
       "height": 420,
       "width": 420
      }
     },
     "output_type": "display_data"
    }
   ],
   "source": [
    "plot_ordinal_data(balanced_training_data, \"Income\")"
   ]
  },
  {
   "cell_type": "markdown",
   "id": "e3351bdb-1506-4518-af0c-d1facbd47397",
   "metadata": {},
   "source": [
    "### 3.7. Correlation analysis"
   ]
  },
  {
   "cell_type": "code",
   "execution_count": 126,
   "id": "d5ec2cfe-03b8-4b7f-92dc-c959ce690314",
   "metadata": {},
   "outputs": [],
   "source": [
    "get_correlation = function(dataframe, col_1, col_2, numerical_cols, binary_cols, ordinal_cols, response_col)\n",
    "{\n",
    "    if (col_1 %in% ordinal_cols || col_2 %in% ordinal_cols)\n",
    "    {\n",
    "        return (pcaPP::cor.fk(dataframe[,col_1], dataframe[,col_2]))\n",
    "    }\n",
    "    else if (col_1 %in% numerical_cols && col_2 %in% c(binary_cols, response_col) ||\n",
    "             col_1 %in% c(binary_cols, response_col) && col_2 %in% numerical_cols)\n",
    "    {\n",
    "        return (cor.test(as.numeric(dataframe[,col_1]), as.numeric(dataframe[,col_2]))$estimate)\n",
    "    }\n",
    "    else if (col_1 %in% c(binary_cols, response_col) && col_2 %in% c(binary_cols, response_col))\n",
    "    {\n",
    "        return (rcompanion::cramerV(table(dataframe[ ,c(col_1, col_2)])))\n",
    "    }\n",
    "    else if (col_1 %in% numerical_cols && col_2 %in% numerical_cols)\n",
    "    {\n",
    "        return (cor(dataframe[,col_1], dataframe[,col_2]))\n",
    "    }\n",
    "    else\n",
    "    {\n",
    "        return (0)\n",
    "    }\n",
    "}    "
   ]
  },
  {
   "cell_type": "code",
   "execution_count": 127,
   "id": "f37e8aa4-024a-41ae-96c9-bb634af5d609",
   "metadata": {},
   "outputs": [],
   "source": [
    "all_colnames = colnames(balanced_training_data)"
   ]
  },
  {
   "cell_type": "code",
   "execution_count": 128,
   "id": "2f33bf34-e7e4-4ca9-86a5-2128a93e1bb0",
   "metadata": {},
   "outputs": [],
   "source": [
    "correlation_matrix = matrix(0, nrow = length(all_colnames), ncol = length(all_colnames), dimnames = list(all_colnames, all_colnames))"
   ]
  },
  {
   "cell_type": "code",
   "execution_count": 129,
   "id": "4f167a1c-17f5-46a5-aaa4-4cb1b124f48a",
   "metadata": {},
   "outputs": [],
   "source": [
    "for (row_index in 1:nrow(correlation_matrix))\n",
    "{\n",
    "    for (col_index in row_index:ncol(correlation_matrix))\n",
    "    {\n",
    "        if (row_index == col_index)\n",
    "        {\n",
    "            correlation_matrix[row_index, col_index] = 1\n",
    "        }\n",
    "        else\n",
    "        {\n",
    "            correlation_matrix[row_index, col_index] = get_correlation(balanced_training_data, all_colnames[row_index],\n",
    "                                                                       all_colnames[col_index], numerical_cols, \n",
    "                                                                       binary_cols, ordinal_cols, response_col)\n",
    "        }\n",
    "    }    \n",
    "}"
   ]
  },
  {
   "cell_type": "code",
   "execution_count": 130,
   "id": "e019bce1-0842-481f-b55a-0adfd30d9c12",
   "metadata": {},
   "outputs": [
    {
     "data": {
      "text/html": [
       "<table class=\"dataframe\">\n",
       "<caption>A matrix: 24 × 24 of type dbl</caption>\n",
       "<thead>\n",
       "\t<tr><th></th><th scope=col>HighBP</th><th scope=col>HighChol</th><th scope=col>CholCheck</th><th scope=col>BMI</th><th scope=col>BMI_over_45</th><th scope=col>Smoker</th><th scope=col>Stroke</th><th scope=col>HeartDiseaseorAttack</th><th scope=col>PhysActivity</th><th scope=col>Fruits</th><th scope=col>⋯</th><th scope=col>GenHlth</th><th scope=col>MentHlth</th><th scope=col>PhysHlth</th><th scope=col>havePhysHlth</th><th scope=col>DiffWalk</th><th scope=col>Sex</th><th scope=col>Age</th><th scope=col>Education</th><th scope=col>Income</th><th scope=col>Diabetes_binary</th></tr>\n",
       "</thead>\n",
       "<tbody>\n",
       "\t<tr><th scope=row>HighBP</th><td>1</td><td>0.3129</td><td>0.10560</td><td>0.23741165</td><td>0.0740300</td><td>0.08500000</td><td>0.12650000</td><td>0.20770000</td><td> 0.1381000</td><td> 0.04352000</td><td>⋯</td><td> 0.29186135</td><td> 0.06789540</td><td> 0.172052215</td><td>0.1473000</td><td>0.2356000</td><td> 0.0375200000</td><td> 0.274359095</td><td>-0.138028822</td><td>-0.1767636486</td><td> 0.38000000</td></tr>\n",
       "\t<tr><th scope=row>HighChol</th><td>0</td><td>1.0000</td><td>0.08787</td><td>0.12592166</td><td>0.0284300</td><td>0.09449000</td><td>0.09577000</td><td>0.18080000</td><td> 0.0915500</td><td> 0.04727000</td><td>⋯</td><td> 0.21422931</td><td> 0.08684345</td><td> 0.142379819</td><td>0.1253000</td><td>0.1614000</td><td> 0.0197200000</td><td> 0.182933616</td><td>-0.079955971</td><td>-0.0994425529</td><td> 0.28510000</td></tr>\n",
       "\t<tr><th scope=row>CholCheck</th><td>0</td><td>0.0000</td><td>1.00000</td><td>0.04638119</td><td>0.0130300</td><td>0.00128000</td><td>0.02476000</td><td>0.04291000</td><td> 0.0049440</td><td> 0.01643000</td><td>⋯</td><td> 0.05779312</td><td>-0.00280719</td><td> 0.036790598</td><td>0.0332000</td><td>0.0473700</td><td> 0.0143300000</td><td> 0.082475597</td><td>-0.009117834</td><td>-0.0009930356</td><td> 0.11570000</td></tr>\n",
       "\t<tr><th scope=row>BMI</th><td>0</td><td>0.0000</td><td>0.00000</td><td>1.00000000</td><td>0.5796776</td><td>0.01438678</td><td>0.02054558</td><td>0.05938549</td><td>-0.1705345</td><td>-0.08557218</td><td>⋯</td><td> 0.22052626</td><td> 0.11152985</td><td> 0.158991370</td><td>0.1536627</td><td>0.2439672</td><td>-0.0005963384</td><td>-0.031410821</td><td>-0.094044247</td><td>-0.0929151857</td><td> 0.29018683</td></tr>\n",
       "\t<tr><th scope=row>BMI_over_45</th><td>0</td><td>0.0000</td><td>0.00000</td><td>0.00000000</td><td>1.0000000</td><td>0.01226000</td><td>0.00544900</td><td>0.01077000</td><td> 0.0924900</td><td> 0.03177000</td><td>⋯</td><td> 0.11221075</td><td> 0.08488274</td><td> 0.107164527</td><td>0.0887800</td><td>0.1478000</td><td> 0.0514900000</td><td>-0.056367984</td><td>-0.039287701</td><td>-0.0743130035</td><td> 0.09841000</td></tr>\n",
       "\t<tr><th scope=row>Smoker</th><td>0</td><td>0.0000</td><td>0.00000</td><td>0.00000000</td><td>0.0000000</td><td>1.00000000</td><td>0.05986000</td><td>0.12500000</td><td> 0.0802600</td><td> 0.07199000</td><td>⋯</td><td> 0.13225654</td><td> 0.08510917</td><td> 0.112425842</td><td>0.0701800</td><td>0.1166000</td><td> 0.1148000000</td><td> 0.085804198</td><td>-0.135411545</td><td>-0.0987725480</td><td> 0.08418000</td></tr>\n",
       "\t<tr><th scope=row>Stroke</th><td>0</td><td>0.0000</td><td>0.00000</td><td>0.00000000</td><td>0.0000000</td><td>0.00000000</td><td>1.00000000</td><td>0.22430000</td><td> 0.0806000</td><td> 0.01548000</td><td>⋯</td><td> 0.16547033</td><td> 0.08688324</td><td> 0.162883363</td><td>0.1190000</td><td>0.1905000</td><td> 0.0021740000</td><td> 0.105298569</td><td>-0.070626319</td><td>-0.1180716729</td><td> 0.12360000</td></tr>\n",
       "\t<tr><th scope=row>HeartDiseaseorAttack</th><td>0</td><td>0.0000</td><td>0.00000</td><td>0.00000000</td><td>0.0000000</td><td>0.00000000</td><td>0.00000000</td><td>1.00000000</td><td> 0.1004000</td><td> 0.01912000</td><td>⋯</td><td> 0.24669775</td><td> 0.08369753</td><td> 0.202470553</td><td>0.1513000</td><td>0.2341000</td><td> 0.0979400000</td><td> 0.190779487</td><td>-0.092153639</td><td>-0.1346290617</td><td> 0.20850000</td></tr>\n",
       "\t<tr><th scope=row>PhysActivity</th><td>0</td><td>0.0000</td><td>0.00000</td><td>0.00000000</td><td>0.0000000</td><td>0.00000000</td><td>0.00000000</td><td>0.00000000</td><td> 1.0000000</td><td> 0.13500000</td><td>⋯</td><td>-0.24911148</td><td>-0.13301419</td><td>-0.243173709</td><td>0.1659000</td><td>0.2775000</td><td> 0.0490300000</td><td>-0.079896554</td><td> 0.178032823</td><td> 0.1811303193</td><td> 0.15980000</td></tr>\n",
       "\t<tr><th scope=row>Fruits</th><td>0</td><td>0.0000</td><td>0.00000</td><td>0.00000000</td><td>0.0000000</td><td>0.00000000</td><td>0.00000000</td><td>0.00000000</td><td> 0.0000000</td><td> 1.00000000</td><td>⋯</td><td>-0.08884338</td><td>-0.05913889</td><td>-0.045182607</td><td>0.0425700</td><td>0.0500200</td><td> 0.0898400000</td><td> 0.060681422</td><td> 0.097111031</td><td> 0.0632834634</td><td> 0.05803000</td></tr>\n",
       "\t<tr><th scope=row>Veggies</th><td>0</td><td>0.0000</td><td>0.00000</td><td>0.00000000</td><td>0.0000000</td><td>0.00000000</td><td>0.00000000</td><td>0.00000000</td><td> 0.0000000</td><td> 0.00000000</td><td>⋯</td><td>-0.10618986</td><td>-0.05492974</td><td>-0.065911596</td><td>0.0499400</td><td>0.0837000</td><td> 0.0533300000</td><td>-0.014304677</td><td> 0.142977655</td><td> 0.1353141037</td><td> 0.07484000</td></tr>\n",
       "\t<tr><th scope=row>HvyAlcoholConsump</th><td>0</td><td>0.0000</td><td>0.00000</td><td>0.00000000</td><td>0.0000000</td><td>0.00000000</td><td>0.00000000</td><td>0.00000000</td><td> 0.0000000</td><td> 0.00000000</td><td>⋯</td><td>-0.05410455</td><td> 0.01222760</td><td>-0.038103112</td><td>0.0349100</td><td>0.0516000</td><td> 0.0175200000</td><td>-0.047427518</td><td> 0.031714563</td><td> 0.0599170673</td><td> 0.09420000</td></tr>\n",
       "\t<tr><th scope=row>AnyHealthcare</th><td>0</td><td>0.0000</td><td>0.00000</td><td>0.00000000</td><td>0.0000000</td><td>0.00000000</td><td>0.00000000</td><td>0.00000000</td><td> 0.0000000</td><td> 0.00000000</td><td>⋯</td><td>-0.03029947</td><td>-0.05355976</td><td>-0.005873764</td><td>0.0075310</td><td>0.0133800</td><td> 0.0054820000</td><td> 0.122863586</td><td> 0.089893875</td><td> 0.1171773535</td><td> 0.02330000</td></tr>\n",
       "\t<tr><th scope=row>NoDocbcCost</th><td>0</td><td>0.0000</td><td>0.00000</td><td>0.00000000</td><td>0.0000000</td><td>0.00000000</td><td>0.00000000</td><td>0.00000000</td><td> 0.0000000</td><td> 0.00000000</td><td>⋯</td><td> 0.15000790</td><td> 0.19552727</td><td> 0.157949638</td><td>0.1466000</td><td>0.1243000</td><td> 0.0509700000</td><td>-0.116943624</td><td>-0.089001708</td><td>-0.1756376859</td><td> 0.04649000</td></tr>\n",
       "\t<tr><th scope=row>GenHlth</th><td>0</td><td>0.0000</td><td>0.00000</td><td>0.00000000</td><td>0.0000000</td><td>0.00000000</td><td>0.00000000</td><td>0.00000000</td><td> 0.0000000</td><td> 0.00000000</td><td>⋯</td><td> 1.00000000</td><td> 0.22858761</td><td> 0.442492239</td><td>0.3994574</td><td>0.4238467</td><td>-0.0180743253</td><td> 0.107956122</td><td>-0.237497439</td><td>-0.3142880271</td><td> 0.37402170</td></tr>\n",
       "\t<tr><th scope=row>MentHlth</th><td>0</td><td>0.0000</td><td>0.00000</td><td>0.00000000</td><td>0.0000000</td><td>0.00000000</td><td>0.00000000</td><td>0.00000000</td><td> 0.0000000</td><td> 0.00000000</td><td>⋯</td><td> 0.00000000</td><td> 1.00000000</td><td> 0.380784177</td><td>0.2852163</td><td>0.2511953</td><td>-0.0865925187</td><td>-0.131214452</td><td>-0.061502454</td><td>-0.1412821212</td><td> 0.08968505</td></tr>\n",
       "\t<tr><th scope=row>PhysHlth</th><td>0</td><td>0.0000</td><td>0.00000</td><td>0.00000000</td><td>0.0000000</td><td>0.00000000</td><td>0.00000000</td><td>0.00000000</td><td> 0.0000000</td><td> 0.00000000</td><td>⋯</td><td> 0.00000000</td><td> 0.00000000</td><td> 1.000000000</td><td>0.6565222</td><td>0.4903277</td><td>-0.0467999647</td><td> 0.037560367</td><td>-0.115987721</td><td>-0.2099735327</td><td> 0.21472366</td></tr>\n",
       "\t<tr><th scope=row>havePhysHlth</th><td>0</td><td>0.0000</td><td>0.00000</td><td>0.00000000</td><td>0.0000000</td><td>0.00000000</td><td>0.00000000</td><td>0.00000000</td><td> 0.0000000</td><td> 0.00000000</td><td>⋯</td><td> 0.00000000</td><td> 0.00000000</td><td> 0.000000000</td><td>1.0000000</td><td>0.3815000</td><td> 0.0763300000</td><td> 0.018255617</td><td>-0.092963566</td><td>-0.1859046026</td><td> 0.18450000</td></tr>\n",
       "\t<tr><th scope=row>DiffWalk</th><td>0</td><td>0.0000</td><td>0.00000</td><td>0.00000000</td><td>0.0000000</td><td>0.00000000</td><td>0.00000000</td><td>0.00000000</td><td> 0.0000000</td><td> 0.00000000</td><td>⋯</td><td> 0.00000000</td><td> 0.00000000</td><td> 0.000000000</td><td>0.0000000</td><td>1.0000000</td><td> 0.0866200000</td><td> 0.159436255</td><td>-0.183351902</td><td>-0.2974760101</td><td> 0.27040000</td></tr>\n",
       "\t<tr><th scope=row>Sex</th><td>0</td><td>0.0000</td><td>0.00000</td><td>0.00000000</td><td>0.0000000</td><td>0.00000000</td><td>0.00000000</td><td>0.00000000</td><td> 0.0000000</td><td> 0.00000000</td><td>⋯</td><td> 0.00000000</td><td> 0.00000000</td><td> 0.000000000</td><td>0.0000000</td><td>0.0000000</td><td> 1.0000000000</td><td>-0.003715515</td><td> 0.046259696</td><td> 0.1397168852</td><td> 0.04251000</td></tr>\n",
       "\t<tr><th scope=row>Age</th><td>0</td><td>0.0000</td><td>0.00000</td><td>0.00000000</td><td>0.0000000</td><td>0.00000000</td><td>0.00000000</td><td>0.00000000</td><td> 0.0000000</td><td> 0.00000000</td><td>⋯</td><td> 0.00000000</td><td> 0.00000000</td><td> 0.000000000</td><td>0.0000000</td><td>0.0000000</td><td> 0.0000000000</td><td> 1.000000000</td><td>-0.083301692</td><td>-0.1324166304</td><td> 0.21999327</td></tr>\n",
       "\t<tr><th scope=row>Education</th><td>0</td><td>0.0000</td><td>0.00000</td><td>0.00000000</td><td>0.0000000</td><td>0.00000000</td><td>0.00000000</td><td>0.00000000</td><td> 0.0000000</td><td> 0.00000000</td><td>⋯</td><td> 0.00000000</td><td> 0.00000000</td><td> 0.000000000</td><td>0.0000000</td><td>0.0000000</td><td> 0.0000000000</td><td> 0.000000000</td><td> 1.000000000</td><td> 0.3852036043</td><td>-0.15907325</td></tr>\n",
       "\t<tr><th scope=row>Income</th><td>0</td><td>0.0000</td><td>0.00000</td><td>0.00000000</td><td>0.0000000</td><td>0.00000000</td><td>0.00000000</td><td>0.00000000</td><td> 0.0000000</td><td> 0.00000000</td><td>⋯</td><td> 0.00000000</td><td> 0.00000000</td><td> 0.000000000</td><td>0.0000000</td><td>0.0000000</td><td> 0.0000000000</td><td> 0.000000000</td><td> 0.000000000</td><td> 1.0000000000</td><td>-0.20631214</td></tr>\n",
       "\t<tr><th scope=row>Diabetes_binary</th><td>0</td><td>0.0000</td><td>0.00000</td><td>0.00000000</td><td>0.0000000</td><td>0.00000000</td><td>0.00000000</td><td>0.00000000</td><td> 0.0000000</td><td> 0.00000000</td><td>⋯</td><td> 0.00000000</td><td> 0.00000000</td><td> 0.000000000</td><td>0.0000000</td><td>0.0000000</td><td> 0.0000000000</td><td> 0.000000000</td><td> 0.000000000</td><td> 0.0000000000</td><td> 1.00000000</td></tr>\n",
       "</tbody>\n",
       "</table>\n"
      ],
      "text/latex": [
       "A matrix: 24 × 24 of type dbl\n",
       "\\begin{tabular}{r|lllllllllllllllllllll}\n",
       "  & HighBP & HighChol & CholCheck & BMI & BMI\\_over\\_45 & Smoker & Stroke & HeartDiseaseorAttack & PhysActivity & Fruits & ⋯ & GenHlth & MentHlth & PhysHlth & havePhysHlth & DiffWalk & Sex & Age & Education & Income & Diabetes\\_binary\\\\\n",
       "\\hline\n",
       "\tHighBP & 1 & 0.3129 & 0.10560 & 0.23741165 & 0.0740300 & 0.08500000 & 0.12650000 & 0.20770000 &  0.1381000 &  0.04352000 & ⋯ &  0.29186135 &  0.06789540 &  0.172052215 & 0.1473000 & 0.2356000 &  0.0375200000 &  0.274359095 & -0.138028822 & -0.1767636486 &  0.38000000\\\\\n",
       "\tHighChol & 0 & 1.0000 & 0.08787 & 0.12592166 & 0.0284300 & 0.09449000 & 0.09577000 & 0.18080000 &  0.0915500 &  0.04727000 & ⋯ &  0.21422931 &  0.08684345 &  0.142379819 & 0.1253000 & 0.1614000 &  0.0197200000 &  0.182933616 & -0.079955971 & -0.0994425529 &  0.28510000\\\\\n",
       "\tCholCheck & 0 & 0.0000 & 1.00000 & 0.04638119 & 0.0130300 & 0.00128000 & 0.02476000 & 0.04291000 &  0.0049440 &  0.01643000 & ⋯ &  0.05779312 & -0.00280719 &  0.036790598 & 0.0332000 & 0.0473700 &  0.0143300000 &  0.082475597 & -0.009117834 & -0.0009930356 &  0.11570000\\\\\n",
       "\tBMI & 0 & 0.0000 & 0.00000 & 1.00000000 & 0.5796776 & 0.01438678 & 0.02054558 & 0.05938549 & -0.1705345 & -0.08557218 & ⋯ &  0.22052626 &  0.11152985 &  0.158991370 & 0.1536627 & 0.2439672 & -0.0005963384 & -0.031410821 & -0.094044247 & -0.0929151857 &  0.29018683\\\\\n",
       "\tBMI\\_over\\_45 & 0 & 0.0000 & 0.00000 & 0.00000000 & 1.0000000 & 0.01226000 & 0.00544900 & 0.01077000 &  0.0924900 &  0.03177000 & ⋯ &  0.11221075 &  0.08488274 &  0.107164527 & 0.0887800 & 0.1478000 &  0.0514900000 & -0.056367984 & -0.039287701 & -0.0743130035 &  0.09841000\\\\\n",
       "\tSmoker & 0 & 0.0000 & 0.00000 & 0.00000000 & 0.0000000 & 1.00000000 & 0.05986000 & 0.12500000 &  0.0802600 &  0.07199000 & ⋯ &  0.13225654 &  0.08510917 &  0.112425842 & 0.0701800 & 0.1166000 &  0.1148000000 &  0.085804198 & -0.135411545 & -0.0987725480 &  0.08418000\\\\\n",
       "\tStroke & 0 & 0.0000 & 0.00000 & 0.00000000 & 0.0000000 & 0.00000000 & 1.00000000 & 0.22430000 &  0.0806000 &  0.01548000 & ⋯ &  0.16547033 &  0.08688324 &  0.162883363 & 0.1190000 & 0.1905000 &  0.0021740000 &  0.105298569 & -0.070626319 & -0.1180716729 &  0.12360000\\\\\n",
       "\tHeartDiseaseorAttack & 0 & 0.0000 & 0.00000 & 0.00000000 & 0.0000000 & 0.00000000 & 0.00000000 & 1.00000000 &  0.1004000 &  0.01912000 & ⋯ &  0.24669775 &  0.08369753 &  0.202470553 & 0.1513000 & 0.2341000 &  0.0979400000 &  0.190779487 & -0.092153639 & -0.1346290617 &  0.20850000\\\\\n",
       "\tPhysActivity & 0 & 0.0000 & 0.00000 & 0.00000000 & 0.0000000 & 0.00000000 & 0.00000000 & 0.00000000 &  1.0000000 &  0.13500000 & ⋯ & -0.24911148 & -0.13301419 & -0.243173709 & 0.1659000 & 0.2775000 &  0.0490300000 & -0.079896554 &  0.178032823 &  0.1811303193 &  0.15980000\\\\\n",
       "\tFruits & 0 & 0.0000 & 0.00000 & 0.00000000 & 0.0000000 & 0.00000000 & 0.00000000 & 0.00000000 &  0.0000000 &  1.00000000 & ⋯ & -0.08884338 & -0.05913889 & -0.045182607 & 0.0425700 & 0.0500200 &  0.0898400000 &  0.060681422 &  0.097111031 &  0.0632834634 &  0.05803000\\\\\n",
       "\tVeggies & 0 & 0.0000 & 0.00000 & 0.00000000 & 0.0000000 & 0.00000000 & 0.00000000 & 0.00000000 &  0.0000000 &  0.00000000 & ⋯ & -0.10618986 & -0.05492974 & -0.065911596 & 0.0499400 & 0.0837000 &  0.0533300000 & -0.014304677 &  0.142977655 &  0.1353141037 &  0.07484000\\\\\n",
       "\tHvyAlcoholConsump & 0 & 0.0000 & 0.00000 & 0.00000000 & 0.0000000 & 0.00000000 & 0.00000000 & 0.00000000 &  0.0000000 &  0.00000000 & ⋯ & -0.05410455 &  0.01222760 & -0.038103112 & 0.0349100 & 0.0516000 &  0.0175200000 & -0.047427518 &  0.031714563 &  0.0599170673 &  0.09420000\\\\\n",
       "\tAnyHealthcare & 0 & 0.0000 & 0.00000 & 0.00000000 & 0.0000000 & 0.00000000 & 0.00000000 & 0.00000000 &  0.0000000 &  0.00000000 & ⋯ & -0.03029947 & -0.05355976 & -0.005873764 & 0.0075310 & 0.0133800 &  0.0054820000 &  0.122863586 &  0.089893875 &  0.1171773535 &  0.02330000\\\\\n",
       "\tNoDocbcCost & 0 & 0.0000 & 0.00000 & 0.00000000 & 0.0000000 & 0.00000000 & 0.00000000 & 0.00000000 &  0.0000000 &  0.00000000 & ⋯ &  0.15000790 &  0.19552727 &  0.157949638 & 0.1466000 & 0.1243000 &  0.0509700000 & -0.116943624 & -0.089001708 & -0.1756376859 &  0.04649000\\\\\n",
       "\tGenHlth & 0 & 0.0000 & 0.00000 & 0.00000000 & 0.0000000 & 0.00000000 & 0.00000000 & 0.00000000 &  0.0000000 &  0.00000000 & ⋯ &  1.00000000 &  0.22858761 &  0.442492239 & 0.3994574 & 0.4238467 & -0.0180743253 &  0.107956122 & -0.237497439 & -0.3142880271 &  0.37402170\\\\\n",
       "\tMentHlth & 0 & 0.0000 & 0.00000 & 0.00000000 & 0.0000000 & 0.00000000 & 0.00000000 & 0.00000000 &  0.0000000 &  0.00000000 & ⋯ &  0.00000000 &  1.00000000 &  0.380784177 & 0.2852163 & 0.2511953 & -0.0865925187 & -0.131214452 & -0.061502454 & -0.1412821212 &  0.08968505\\\\\n",
       "\tPhysHlth & 0 & 0.0000 & 0.00000 & 0.00000000 & 0.0000000 & 0.00000000 & 0.00000000 & 0.00000000 &  0.0000000 &  0.00000000 & ⋯ &  0.00000000 &  0.00000000 &  1.000000000 & 0.6565222 & 0.4903277 & -0.0467999647 &  0.037560367 & -0.115987721 & -0.2099735327 &  0.21472366\\\\\n",
       "\thavePhysHlth & 0 & 0.0000 & 0.00000 & 0.00000000 & 0.0000000 & 0.00000000 & 0.00000000 & 0.00000000 &  0.0000000 &  0.00000000 & ⋯ &  0.00000000 &  0.00000000 &  0.000000000 & 1.0000000 & 0.3815000 &  0.0763300000 &  0.018255617 & -0.092963566 & -0.1859046026 &  0.18450000\\\\\n",
       "\tDiffWalk & 0 & 0.0000 & 0.00000 & 0.00000000 & 0.0000000 & 0.00000000 & 0.00000000 & 0.00000000 &  0.0000000 &  0.00000000 & ⋯ &  0.00000000 &  0.00000000 &  0.000000000 & 0.0000000 & 1.0000000 &  0.0866200000 &  0.159436255 & -0.183351902 & -0.2974760101 &  0.27040000\\\\\n",
       "\tSex & 0 & 0.0000 & 0.00000 & 0.00000000 & 0.0000000 & 0.00000000 & 0.00000000 & 0.00000000 &  0.0000000 &  0.00000000 & ⋯ &  0.00000000 &  0.00000000 &  0.000000000 & 0.0000000 & 0.0000000 &  1.0000000000 & -0.003715515 &  0.046259696 &  0.1397168852 &  0.04251000\\\\\n",
       "\tAge & 0 & 0.0000 & 0.00000 & 0.00000000 & 0.0000000 & 0.00000000 & 0.00000000 & 0.00000000 &  0.0000000 &  0.00000000 & ⋯ &  0.00000000 &  0.00000000 &  0.000000000 & 0.0000000 & 0.0000000 &  0.0000000000 &  1.000000000 & -0.083301692 & -0.1324166304 &  0.21999327\\\\\n",
       "\tEducation & 0 & 0.0000 & 0.00000 & 0.00000000 & 0.0000000 & 0.00000000 & 0.00000000 & 0.00000000 &  0.0000000 &  0.00000000 & ⋯ &  0.00000000 &  0.00000000 &  0.000000000 & 0.0000000 & 0.0000000 &  0.0000000000 &  0.000000000 &  1.000000000 &  0.3852036043 & -0.15907325\\\\\n",
       "\tIncome & 0 & 0.0000 & 0.00000 & 0.00000000 & 0.0000000 & 0.00000000 & 0.00000000 & 0.00000000 &  0.0000000 &  0.00000000 & ⋯ &  0.00000000 &  0.00000000 &  0.000000000 & 0.0000000 & 0.0000000 &  0.0000000000 &  0.000000000 &  0.000000000 &  1.0000000000 & -0.20631214\\\\\n",
       "\tDiabetes\\_binary & 0 & 0.0000 & 0.00000 & 0.00000000 & 0.0000000 & 0.00000000 & 0.00000000 & 0.00000000 &  0.0000000 &  0.00000000 & ⋯ &  0.00000000 &  0.00000000 &  0.000000000 & 0.0000000 & 0.0000000 &  0.0000000000 &  0.000000000 &  0.000000000 &  0.0000000000 &  1.00000000\\\\\n",
       "\\end{tabular}\n"
      ],
      "text/markdown": [
       "\n",
       "A matrix: 24 × 24 of type dbl\n",
       "\n",
       "| <!--/--> | HighBP | HighChol | CholCheck | BMI | BMI_over_45 | Smoker | Stroke | HeartDiseaseorAttack | PhysActivity | Fruits | ⋯ | GenHlth | MentHlth | PhysHlth | havePhysHlth | DiffWalk | Sex | Age | Education | Income | Diabetes_binary |\n",
       "|---|---|---|---|---|---|---|---|---|---|---|---|---|---|---|---|---|---|---|---|---|---|\n",
       "| HighBP | 1 | 0.3129 | 0.10560 | 0.23741165 | 0.0740300 | 0.08500000 | 0.12650000 | 0.20770000 |  0.1381000 |  0.04352000 | ⋯ |  0.29186135 |  0.06789540 |  0.172052215 | 0.1473000 | 0.2356000 |  0.0375200000 |  0.274359095 | -0.138028822 | -0.1767636486 |  0.38000000 |\n",
       "| HighChol | 0 | 1.0000 | 0.08787 | 0.12592166 | 0.0284300 | 0.09449000 | 0.09577000 | 0.18080000 |  0.0915500 |  0.04727000 | ⋯ |  0.21422931 |  0.08684345 |  0.142379819 | 0.1253000 | 0.1614000 |  0.0197200000 |  0.182933616 | -0.079955971 | -0.0994425529 |  0.28510000 |\n",
       "| CholCheck | 0 | 0.0000 | 1.00000 | 0.04638119 | 0.0130300 | 0.00128000 | 0.02476000 | 0.04291000 |  0.0049440 |  0.01643000 | ⋯ |  0.05779312 | -0.00280719 |  0.036790598 | 0.0332000 | 0.0473700 |  0.0143300000 |  0.082475597 | -0.009117834 | -0.0009930356 |  0.11570000 |\n",
       "| BMI | 0 | 0.0000 | 0.00000 | 1.00000000 | 0.5796776 | 0.01438678 | 0.02054558 | 0.05938549 | -0.1705345 | -0.08557218 | ⋯ |  0.22052626 |  0.11152985 |  0.158991370 | 0.1536627 | 0.2439672 | -0.0005963384 | -0.031410821 | -0.094044247 | -0.0929151857 |  0.29018683 |\n",
       "| BMI_over_45 | 0 | 0.0000 | 0.00000 | 0.00000000 | 1.0000000 | 0.01226000 | 0.00544900 | 0.01077000 |  0.0924900 |  0.03177000 | ⋯ |  0.11221075 |  0.08488274 |  0.107164527 | 0.0887800 | 0.1478000 |  0.0514900000 | -0.056367984 | -0.039287701 | -0.0743130035 |  0.09841000 |\n",
       "| Smoker | 0 | 0.0000 | 0.00000 | 0.00000000 | 0.0000000 | 1.00000000 | 0.05986000 | 0.12500000 |  0.0802600 |  0.07199000 | ⋯ |  0.13225654 |  0.08510917 |  0.112425842 | 0.0701800 | 0.1166000 |  0.1148000000 |  0.085804198 | -0.135411545 | -0.0987725480 |  0.08418000 |\n",
       "| Stroke | 0 | 0.0000 | 0.00000 | 0.00000000 | 0.0000000 | 0.00000000 | 1.00000000 | 0.22430000 |  0.0806000 |  0.01548000 | ⋯ |  0.16547033 |  0.08688324 |  0.162883363 | 0.1190000 | 0.1905000 |  0.0021740000 |  0.105298569 | -0.070626319 | -0.1180716729 |  0.12360000 |\n",
       "| HeartDiseaseorAttack | 0 | 0.0000 | 0.00000 | 0.00000000 | 0.0000000 | 0.00000000 | 0.00000000 | 1.00000000 |  0.1004000 |  0.01912000 | ⋯ |  0.24669775 |  0.08369753 |  0.202470553 | 0.1513000 | 0.2341000 |  0.0979400000 |  0.190779487 | -0.092153639 | -0.1346290617 |  0.20850000 |\n",
       "| PhysActivity | 0 | 0.0000 | 0.00000 | 0.00000000 | 0.0000000 | 0.00000000 | 0.00000000 | 0.00000000 |  1.0000000 |  0.13500000 | ⋯ | -0.24911148 | -0.13301419 | -0.243173709 | 0.1659000 | 0.2775000 |  0.0490300000 | -0.079896554 |  0.178032823 |  0.1811303193 |  0.15980000 |\n",
       "| Fruits | 0 | 0.0000 | 0.00000 | 0.00000000 | 0.0000000 | 0.00000000 | 0.00000000 | 0.00000000 |  0.0000000 |  1.00000000 | ⋯ | -0.08884338 | -0.05913889 | -0.045182607 | 0.0425700 | 0.0500200 |  0.0898400000 |  0.060681422 |  0.097111031 |  0.0632834634 |  0.05803000 |\n",
       "| Veggies | 0 | 0.0000 | 0.00000 | 0.00000000 | 0.0000000 | 0.00000000 | 0.00000000 | 0.00000000 |  0.0000000 |  0.00000000 | ⋯ | -0.10618986 | -0.05492974 | -0.065911596 | 0.0499400 | 0.0837000 |  0.0533300000 | -0.014304677 |  0.142977655 |  0.1353141037 |  0.07484000 |\n",
       "| HvyAlcoholConsump | 0 | 0.0000 | 0.00000 | 0.00000000 | 0.0000000 | 0.00000000 | 0.00000000 | 0.00000000 |  0.0000000 |  0.00000000 | ⋯ | -0.05410455 |  0.01222760 | -0.038103112 | 0.0349100 | 0.0516000 |  0.0175200000 | -0.047427518 |  0.031714563 |  0.0599170673 |  0.09420000 |\n",
       "| AnyHealthcare | 0 | 0.0000 | 0.00000 | 0.00000000 | 0.0000000 | 0.00000000 | 0.00000000 | 0.00000000 |  0.0000000 |  0.00000000 | ⋯ | -0.03029947 | -0.05355976 | -0.005873764 | 0.0075310 | 0.0133800 |  0.0054820000 |  0.122863586 |  0.089893875 |  0.1171773535 |  0.02330000 |\n",
       "| NoDocbcCost | 0 | 0.0000 | 0.00000 | 0.00000000 | 0.0000000 | 0.00000000 | 0.00000000 | 0.00000000 |  0.0000000 |  0.00000000 | ⋯ |  0.15000790 |  0.19552727 |  0.157949638 | 0.1466000 | 0.1243000 |  0.0509700000 | -0.116943624 | -0.089001708 | -0.1756376859 |  0.04649000 |\n",
       "| GenHlth | 0 | 0.0000 | 0.00000 | 0.00000000 | 0.0000000 | 0.00000000 | 0.00000000 | 0.00000000 |  0.0000000 |  0.00000000 | ⋯ |  1.00000000 |  0.22858761 |  0.442492239 | 0.3994574 | 0.4238467 | -0.0180743253 |  0.107956122 | -0.237497439 | -0.3142880271 |  0.37402170 |\n",
       "| MentHlth | 0 | 0.0000 | 0.00000 | 0.00000000 | 0.0000000 | 0.00000000 | 0.00000000 | 0.00000000 |  0.0000000 |  0.00000000 | ⋯ |  0.00000000 |  1.00000000 |  0.380784177 | 0.2852163 | 0.2511953 | -0.0865925187 | -0.131214452 | -0.061502454 | -0.1412821212 |  0.08968505 |\n",
       "| PhysHlth | 0 | 0.0000 | 0.00000 | 0.00000000 | 0.0000000 | 0.00000000 | 0.00000000 | 0.00000000 |  0.0000000 |  0.00000000 | ⋯ |  0.00000000 |  0.00000000 |  1.000000000 | 0.6565222 | 0.4903277 | -0.0467999647 |  0.037560367 | -0.115987721 | -0.2099735327 |  0.21472366 |\n",
       "| havePhysHlth | 0 | 0.0000 | 0.00000 | 0.00000000 | 0.0000000 | 0.00000000 | 0.00000000 | 0.00000000 |  0.0000000 |  0.00000000 | ⋯ |  0.00000000 |  0.00000000 |  0.000000000 | 1.0000000 | 0.3815000 |  0.0763300000 |  0.018255617 | -0.092963566 | -0.1859046026 |  0.18450000 |\n",
       "| DiffWalk | 0 | 0.0000 | 0.00000 | 0.00000000 | 0.0000000 | 0.00000000 | 0.00000000 | 0.00000000 |  0.0000000 |  0.00000000 | ⋯ |  0.00000000 |  0.00000000 |  0.000000000 | 0.0000000 | 1.0000000 |  0.0866200000 |  0.159436255 | -0.183351902 | -0.2974760101 |  0.27040000 |\n",
       "| Sex | 0 | 0.0000 | 0.00000 | 0.00000000 | 0.0000000 | 0.00000000 | 0.00000000 | 0.00000000 |  0.0000000 |  0.00000000 | ⋯ |  0.00000000 |  0.00000000 |  0.000000000 | 0.0000000 | 0.0000000 |  1.0000000000 | -0.003715515 |  0.046259696 |  0.1397168852 |  0.04251000 |\n",
       "| Age | 0 | 0.0000 | 0.00000 | 0.00000000 | 0.0000000 | 0.00000000 | 0.00000000 | 0.00000000 |  0.0000000 |  0.00000000 | ⋯ |  0.00000000 |  0.00000000 |  0.000000000 | 0.0000000 | 0.0000000 |  0.0000000000 |  1.000000000 | -0.083301692 | -0.1324166304 |  0.21999327 |\n",
       "| Education | 0 | 0.0000 | 0.00000 | 0.00000000 | 0.0000000 | 0.00000000 | 0.00000000 | 0.00000000 |  0.0000000 |  0.00000000 | ⋯ |  0.00000000 |  0.00000000 |  0.000000000 | 0.0000000 | 0.0000000 |  0.0000000000 |  0.000000000 |  1.000000000 |  0.3852036043 | -0.15907325 |\n",
       "| Income | 0 | 0.0000 | 0.00000 | 0.00000000 | 0.0000000 | 0.00000000 | 0.00000000 | 0.00000000 |  0.0000000 |  0.00000000 | ⋯ |  0.00000000 |  0.00000000 |  0.000000000 | 0.0000000 | 0.0000000 |  0.0000000000 |  0.000000000 |  0.000000000 |  1.0000000000 | -0.20631214 |\n",
       "| Diabetes_binary | 0 | 0.0000 | 0.00000 | 0.00000000 | 0.0000000 | 0.00000000 | 0.00000000 | 0.00000000 |  0.0000000 |  0.00000000 | ⋯ |  0.00000000 |  0.00000000 |  0.000000000 | 0.0000000 | 0.0000000 |  0.0000000000 |  0.000000000 |  0.000000000 |  0.0000000000 |  1.00000000 |\n",
       "\n"
      ],
      "text/plain": [
       "                     HighBP HighChol CholCheck BMI        BMI_over_45\n",
       "HighBP               1      0.3129   0.10560   0.23741165 0.0740300  \n",
       "HighChol             0      1.0000   0.08787   0.12592166 0.0284300  \n",
       "CholCheck            0      0.0000   1.00000   0.04638119 0.0130300  \n",
       "BMI                  0      0.0000   0.00000   1.00000000 0.5796776  \n",
       "BMI_over_45          0      0.0000   0.00000   0.00000000 1.0000000  \n",
       "Smoker               0      0.0000   0.00000   0.00000000 0.0000000  \n",
       "Stroke               0      0.0000   0.00000   0.00000000 0.0000000  \n",
       "HeartDiseaseorAttack 0      0.0000   0.00000   0.00000000 0.0000000  \n",
       "PhysActivity         0      0.0000   0.00000   0.00000000 0.0000000  \n",
       "Fruits               0      0.0000   0.00000   0.00000000 0.0000000  \n",
       "Veggies              0      0.0000   0.00000   0.00000000 0.0000000  \n",
       "HvyAlcoholConsump    0      0.0000   0.00000   0.00000000 0.0000000  \n",
       "AnyHealthcare        0      0.0000   0.00000   0.00000000 0.0000000  \n",
       "NoDocbcCost          0      0.0000   0.00000   0.00000000 0.0000000  \n",
       "GenHlth              0      0.0000   0.00000   0.00000000 0.0000000  \n",
       "MentHlth             0      0.0000   0.00000   0.00000000 0.0000000  \n",
       "PhysHlth             0      0.0000   0.00000   0.00000000 0.0000000  \n",
       "havePhysHlth         0      0.0000   0.00000   0.00000000 0.0000000  \n",
       "DiffWalk             0      0.0000   0.00000   0.00000000 0.0000000  \n",
       "Sex                  0      0.0000   0.00000   0.00000000 0.0000000  \n",
       "Age                  0      0.0000   0.00000   0.00000000 0.0000000  \n",
       "Education            0      0.0000   0.00000   0.00000000 0.0000000  \n",
       "Income               0      0.0000   0.00000   0.00000000 0.0000000  \n",
       "Diabetes_binary      0      0.0000   0.00000   0.00000000 0.0000000  \n",
       "                     Smoker     Stroke     HeartDiseaseorAttack PhysActivity\n",
       "HighBP               0.08500000 0.12650000 0.20770000            0.1381000  \n",
       "HighChol             0.09449000 0.09577000 0.18080000            0.0915500  \n",
       "CholCheck            0.00128000 0.02476000 0.04291000            0.0049440  \n",
       "BMI                  0.01438678 0.02054558 0.05938549           -0.1705345  \n",
       "BMI_over_45          0.01226000 0.00544900 0.01077000            0.0924900  \n",
       "Smoker               1.00000000 0.05986000 0.12500000            0.0802600  \n",
       "Stroke               0.00000000 1.00000000 0.22430000            0.0806000  \n",
       "HeartDiseaseorAttack 0.00000000 0.00000000 1.00000000            0.1004000  \n",
       "PhysActivity         0.00000000 0.00000000 0.00000000            1.0000000  \n",
       "Fruits               0.00000000 0.00000000 0.00000000            0.0000000  \n",
       "Veggies              0.00000000 0.00000000 0.00000000            0.0000000  \n",
       "HvyAlcoholConsump    0.00000000 0.00000000 0.00000000            0.0000000  \n",
       "AnyHealthcare        0.00000000 0.00000000 0.00000000            0.0000000  \n",
       "NoDocbcCost          0.00000000 0.00000000 0.00000000            0.0000000  \n",
       "GenHlth              0.00000000 0.00000000 0.00000000            0.0000000  \n",
       "MentHlth             0.00000000 0.00000000 0.00000000            0.0000000  \n",
       "PhysHlth             0.00000000 0.00000000 0.00000000            0.0000000  \n",
       "havePhysHlth         0.00000000 0.00000000 0.00000000            0.0000000  \n",
       "DiffWalk             0.00000000 0.00000000 0.00000000            0.0000000  \n",
       "Sex                  0.00000000 0.00000000 0.00000000            0.0000000  \n",
       "Age                  0.00000000 0.00000000 0.00000000            0.0000000  \n",
       "Education            0.00000000 0.00000000 0.00000000            0.0000000  \n",
       "Income               0.00000000 0.00000000 0.00000000            0.0000000  \n",
       "Diabetes_binary      0.00000000 0.00000000 0.00000000            0.0000000  \n",
       "                     Fruits      <U+22EF>        GenHlth     MentHlth    PhysHlth    \n",
       "HighBP                0.04352000 <U+22EF>  0.29186135  0.06789540  0.172052215\n",
       "HighChol              0.04727000 <U+22EF>  0.21422931  0.08684345  0.142379819\n",
       "CholCheck             0.01643000 <U+22EF>  0.05779312 -0.00280719  0.036790598\n",
       "BMI                  -0.08557218 <U+22EF>  0.22052626  0.11152985  0.158991370\n",
       "BMI_over_45           0.03177000 <U+22EF>  0.11221075  0.08488274  0.107164527\n",
       "Smoker                0.07199000 <U+22EF>  0.13225654  0.08510917  0.112425842\n",
       "Stroke                0.01548000 <U+22EF>  0.16547033  0.08688324  0.162883363\n",
       "HeartDiseaseorAttack  0.01912000 <U+22EF>  0.24669775  0.08369753  0.202470553\n",
       "PhysActivity          0.13500000 <U+22EF> -0.24911148 -0.13301419 -0.243173709\n",
       "Fruits                1.00000000 <U+22EF> -0.08884338 -0.05913889 -0.045182607\n",
       "Veggies               0.00000000 <U+22EF> -0.10618986 -0.05492974 -0.065911596\n",
       "HvyAlcoholConsump     0.00000000 <U+22EF> -0.05410455  0.01222760 -0.038103112\n",
       "AnyHealthcare         0.00000000 <U+22EF> -0.03029947 -0.05355976 -0.005873764\n",
       "NoDocbcCost           0.00000000 <U+22EF>  0.15000790  0.19552727  0.157949638\n",
       "GenHlth               0.00000000 <U+22EF>  1.00000000  0.22858761  0.442492239\n",
       "MentHlth              0.00000000 <U+22EF>  0.00000000  1.00000000  0.380784177\n",
       "PhysHlth              0.00000000 <U+22EF>  0.00000000  0.00000000  1.000000000\n",
       "havePhysHlth          0.00000000 <U+22EF>  0.00000000  0.00000000  0.000000000\n",
       "DiffWalk              0.00000000 <U+22EF>  0.00000000  0.00000000  0.000000000\n",
       "Sex                   0.00000000 <U+22EF>  0.00000000  0.00000000  0.000000000\n",
       "Age                   0.00000000 <U+22EF>  0.00000000  0.00000000  0.000000000\n",
       "Education             0.00000000 <U+22EF>  0.00000000  0.00000000  0.000000000\n",
       "Income                0.00000000 <U+22EF>  0.00000000  0.00000000  0.000000000\n",
       "Diabetes_binary       0.00000000 <U+22EF>  0.00000000  0.00000000  0.000000000\n",
       "                     havePhysHlth DiffWalk  Sex           Age         \n",
       "HighBP               0.1473000    0.2356000  0.0375200000  0.274359095\n",
       "HighChol             0.1253000    0.1614000  0.0197200000  0.182933616\n",
       "CholCheck            0.0332000    0.0473700  0.0143300000  0.082475597\n",
       "BMI                  0.1536627    0.2439672 -0.0005963384 -0.031410821\n",
       "BMI_over_45          0.0887800    0.1478000  0.0514900000 -0.056367984\n",
       "Smoker               0.0701800    0.1166000  0.1148000000  0.085804198\n",
       "Stroke               0.1190000    0.1905000  0.0021740000  0.105298569\n",
       "HeartDiseaseorAttack 0.1513000    0.2341000  0.0979400000  0.190779487\n",
       "PhysActivity         0.1659000    0.2775000  0.0490300000 -0.079896554\n",
       "Fruits               0.0425700    0.0500200  0.0898400000  0.060681422\n",
       "Veggies              0.0499400    0.0837000  0.0533300000 -0.014304677\n",
       "HvyAlcoholConsump    0.0349100    0.0516000  0.0175200000 -0.047427518\n",
       "AnyHealthcare        0.0075310    0.0133800  0.0054820000  0.122863586\n",
       "NoDocbcCost          0.1466000    0.1243000  0.0509700000 -0.116943624\n",
       "GenHlth              0.3994574    0.4238467 -0.0180743253  0.107956122\n",
       "MentHlth             0.2852163    0.2511953 -0.0865925187 -0.131214452\n",
       "PhysHlth             0.6565222    0.4903277 -0.0467999647  0.037560367\n",
       "havePhysHlth         1.0000000    0.3815000  0.0763300000  0.018255617\n",
       "DiffWalk             0.0000000    1.0000000  0.0866200000  0.159436255\n",
       "Sex                  0.0000000    0.0000000  1.0000000000 -0.003715515\n",
       "Age                  0.0000000    0.0000000  0.0000000000  1.000000000\n",
       "Education            0.0000000    0.0000000  0.0000000000  0.000000000\n",
       "Income               0.0000000    0.0000000  0.0000000000  0.000000000\n",
       "Diabetes_binary      0.0000000    0.0000000  0.0000000000  0.000000000\n",
       "                     Education    Income        Diabetes_binary\n",
       "HighBP               -0.138028822 -0.1767636486  0.38000000    \n",
       "HighChol             -0.079955971 -0.0994425529  0.28510000    \n",
       "CholCheck            -0.009117834 -0.0009930356  0.11570000    \n",
       "BMI                  -0.094044247 -0.0929151857  0.29018683    \n",
       "BMI_over_45          -0.039287701 -0.0743130035  0.09841000    \n",
       "Smoker               -0.135411545 -0.0987725480  0.08418000    \n",
       "Stroke               -0.070626319 -0.1180716729  0.12360000    \n",
       "HeartDiseaseorAttack -0.092153639 -0.1346290617  0.20850000    \n",
       "PhysActivity          0.178032823  0.1811303193  0.15980000    \n",
       "Fruits                0.097111031  0.0632834634  0.05803000    \n",
       "Veggies               0.142977655  0.1353141037  0.07484000    \n",
       "HvyAlcoholConsump     0.031714563  0.0599170673  0.09420000    \n",
       "AnyHealthcare         0.089893875  0.1171773535  0.02330000    \n",
       "NoDocbcCost          -0.089001708 -0.1756376859  0.04649000    \n",
       "GenHlth              -0.237497439 -0.3142880271  0.37402170    \n",
       "MentHlth             -0.061502454 -0.1412821212  0.08968505    \n",
       "PhysHlth             -0.115987721 -0.2099735327  0.21472366    \n",
       "havePhysHlth         -0.092963566 -0.1859046026  0.18450000    \n",
       "DiffWalk             -0.183351902 -0.2974760101  0.27040000    \n",
       "Sex                   0.046259696  0.1397168852  0.04251000    \n",
       "Age                  -0.083301692 -0.1324166304  0.21999327    \n",
       "Education             1.000000000  0.3852036043 -0.15907325    \n",
       "Income                0.000000000  1.0000000000 -0.20631214    \n",
       "Diabetes_binary       0.000000000  0.0000000000  1.00000000    "
      ]
     },
     "metadata": {},
     "output_type": "display_data"
    }
   ],
   "source": [
    "correlation_matrix"
   ]
  },
  {
   "cell_type": "code",
   "execution_count": 131,
   "id": "b92b7304-2ce6-4b28-95bd-7efea245439a",
   "metadata": {},
   "outputs": [
    {
     "data": {
      "image/png": "[encoded data removed]",
      "text/plain": [
       "Plot with title \"\""
      ]
     },
     "metadata": {
      "image/png": {
       "height": 420,
       "width": 420
      }
     },
     "output_type": "display_data"
    }
   ],
   "source": [
    "corrplot::corrplot(correlation_matrix, method=\"circle\", type=\"upper\")"
   ]
  },
  {
   "cell_type": "markdown",
   "id": "b7eebc47-e0cc-457d-a9fe-b4e83ac4db13",
   "metadata": {},
   "source": [
    "## 4. Model building"
   ]
  },
  {
   "cell_type": "code",
   "execution_count": 132,
   "id": "fe22628e-4bcb-41d1-a4de-3cbd3761eb15",
   "metadata": {},
   "outputs": [
    {
     "name": "stdout",
     "output_type": "stream",
     "text": [
      "'data.frame':\t349444 obs. of  24 variables:\n",
      " $ HighBP              : Factor w/ 2 levels \"0\",\"1\": 2 1 2 2 2 2 2 2 1 1 ...\n",
      " $ HighChol            : Factor w/ 2 levels \"0\",\"1\": 2 1 2 1 2 2 1 2 1 1 ...\n",
      " $ CholCheck           : Factor w/ 2 levels \"0\",\"1\": 2 1 2 2 2 2 2 2 2 2 ...\n",
      " $ BMI                 : int  40 25 28 27 24 25 30 25 24 26 ...\n",
      " $ BMI_over_45         : Factor w/ 2 levels \"0\",\"1\": 1 1 1 1 1 1 1 1 1 1 ...\n",
      " $ Smoker              : Factor w/ 2 levels \"0\",\"1\": 2 2 1 1 1 2 2 2 1 2 ...\n",
      " $ Stroke              : Factor w/ 2 levels \"0\",\"1\": 1 1 1 1 1 1 1 1 1 1 ...\n",
      " $ HeartDiseaseorAttack: Factor w/ 2 levels \"0\",\"1\": 1 1 1 1 1 1 1 1 1 1 ...\n",
      " $ PhysActivity        : Factor w/ 2 levels \"0\",\"1\": 1 2 1 2 2 2 1 2 1 1 ...\n",
      " $ Fruits              : Factor w/ 2 levels \"0\",\"1\": 1 1 2 2 2 2 1 1 1 1 ...\n",
      " $ Veggies             : Factor w/ 2 levels \"0\",\"1\": 2 1 1 2 2 2 1 2 2 2 ...\n",
      " $ HvyAlcoholConsump   : Factor w/ 2 levels \"0\",\"1\": 1 1 1 1 1 1 1 1 1 1 ...\n",
      " $ AnyHealthcare       : Factor w/ 2 levels \"0\",\"1\": 2 1 2 2 2 2 2 2 2 2 ...\n",
      " $ NoDocbcCost         : Factor w/ 2 levels \"0\",\"1\": 1 2 2 1 1 1 1 1 1 1 ...\n",
      " $ GenHlth             : Ord.factor w/ 5 levels \"1\"<\"2\"<\"3\"<\"4\"<..: 5 3 5 2 2 2 3 3 2 3 ...\n",
      " $ MentHlth            : int  18 0 30 0 3 0 0 0 0 0 ...\n",
      " $ PhysHlth            : int  15 0 30 0 0 2 14 0 0 15 ...\n",
      " $ havePhysHlth        : Factor w/ 2 levels \"0\",\"1\": 2 1 2 1 1 2 2 1 1 2 ...\n",
      " $ DiffWalk            : Factor w/ 2 levels \"0\",\"1\": 2 1 2 1 1 1 1 2 1 1 ...\n",
      " $ Sex                 : Factor w/ 2 levels \"0\",\"1\": 1 1 1 1 1 2 1 1 2 1 ...\n",
      " $ Age                 : Ord.factor w/ 13 levels \"1\"<\"2\"<\"3\"<\"4\"<..: 9 7 9 11 11 10 9 11 8 7 ...\n",
      " $ Education           : Ord.factor w/ 6 levels \"1\"<\"2\"<\"3\"<\"4\"<..: 4 6 4 3 5 6 6 4 4 5 ...\n",
      " $ Income              : Ord.factor w/ 8 levels \"1\"<\"2\"<\"3\"<\"4\"<..: 3 1 8 6 4 8 7 4 3 7 ...\n",
      " $ Diabetes_binary     : Factor w/ 2 levels \"0\",\"1\": 1 1 1 1 1 1 1 1 1 1 ...\n"
     ]
    }
   ],
   "source": [
    "str(balanced_training_data)"
   ]
  },
  {
   "cell_type": "markdown",
   "id": "49eb8af2-fd8e-41b5-9beb-1cf0c0d64bfb",
   "metadata": {},
   "source": [
    "### 4.1. Data standardization"
   ]
  },
  {
   "cell_type": "markdown",
   "id": "47556018-5029-45a0-b6bb-fa07c8cdb32d",
   "metadata": {},
   "source": [
    "#### BMI"
   ]
  },
  {
   "cell_type": "code",
   "execution_count": 133,
   "id": "bbe3a1eb-6cd0-4600-bfec-6afb1aef729a",
   "metadata": {},
   "outputs": [],
   "source": [
    "balanced_training_data$BMI = scale(balanced_training_data$BMI)\n",
    "testing_data$BMI = scale(testing_data$BMI)"
   ]
  },
  {
   "cell_type": "markdown",
   "id": "56e5f090-6bf7-47fb-80f1-e766663bda36",
   "metadata": {},
   "source": [
    "#### MentHlth"
   ]
  },
  {
   "cell_type": "code",
   "execution_count": 134,
   "id": "a97fb257-5011-41fa-906a-fbd1cdbba1c4",
   "metadata": {},
   "outputs": [],
   "source": [
    "balanced_training_data$MentHlth = scale(balanced_training_data$MentHlth)\n",
    "testing_data$MentHlth = scale(testing_data$MentHlth)"
   ]
  },
  {
   "cell_type": "markdown",
   "id": "0beca3b0-dd12-416a-af43-597a1c2baa70",
   "metadata": {},
   "source": [
    "#### MentHlth"
   ]
  },
  {
   "cell_type": "code",
   "execution_count": 135,
   "id": "aaa20157-a234-45e3-a717-61e894150024",
   "metadata": {},
   "outputs": [],
   "source": [
    "balanced_training_data$PhysHlth = scale(balanced_training_data$PhysHlth)\n",
    "testing_data$PhysHlth = scale(testing_data$PhysHlth)"
   ]
  },
  {
   "cell_type": "code",
   "execution_count": 136,
   "id": "89b4d316-139f-490b-a92e-797f59298e00",
   "metadata": {},
   "outputs": [
    {
     "name": "stdout",
     "output_type": "stream",
     "text": [
      "'data.frame':\t349444 obs. of  24 variables:\n",
      " $ HighBP              : Factor w/ 2 levels \"0\",\"1\": 2 1 2 2 2 2 2 2 1 1 ...\n",
      " $ HighChol            : Factor w/ 2 levels \"0\",\"1\": 2 1 2 1 2 2 1 2 1 1 ...\n",
      " $ CholCheck           : Factor w/ 2 levels \"0\",\"1\": 2 1 2 2 2 2 2 2 2 2 ...\n",
      " $ BMI                 : num [1:349444, 1] 1.414 -0.68 -0.261 -0.401 -0.82 ...\n",
      "  ..- attr(*, \"scaled:center\")= num 29.9\n",
      "  ..- attr(*, \"scaled:scale\")= num 7.16\n",
      " $ BMI_over_45         : Factor w/ 2 levels \"0\",\"1\": 1 1 1 1 1 1 1 1 1 1 ...\n",
      " $ Smoker              : Factor w/ 2 levels \"0\",\"1\": 2 2 1 1 1 2 2 2 1 2 ...\n",
      " $ Stroke              : Factor w/ 2 levels \"0\",\"1\": 1 1 1 1 1 1 1 1 1 1 ...\n",
      " $ HeartDiseaseorAttack: Factor w/ 2 levels \"0\",\"1\": 1 1 1 1 1 1 1 1 1 1 ...\n",
      " $ PhysActivity        : Factor w/ 2 levels \"0\",\"1\": 1 2 1 2 2 2 1 2 1 1 ...\n",
      " $ Fruits              : Factor w/ 2 levels \"0\",\"1\": 1 1 2 2 2 2 1 1 1 1 ...\n",
      " $ Veggies             : Factor w/ 2 levels \"0\",\"1\": 2 1 1 2 2 2 1 2 2 2 ...\n",
      " $ HvyAlcoholConsump   : Factor w/ 2 levels \"0\",\"1\": 1 1 1 1 1 1 1 1 1 1 ...\n",
      " $ AnyHealthcare       : Factor w/ 2 levels \"0\",\"1\": 2 1 2 2 2 2 2 2 2 2 ...\n",
      " $ NoDocbcCost         : Factor w/ 2 levels \"0\",\"1\": 1 2 2 1 1 1 1 1 1 1 ...\n",
      " $ GenHlth             : Ord.factor w/ 5 levels \"1\"<\"2\"<\"3\"<\"4\"<..: 5 3 5 2 2 2 3 3 2 3 ...\n",
      " $ MentHlth            : num [1:349444, 1] 1.766 -0.456 3.247 -0.456 -0.086 ...\n",
      "  ..- attr(*, \"scaled:center\")= num 3.7\n",
      "  ..- attr(*, \"scaled:scale\")= num 8.1\n",
      " $ PhysHlth            : num [1:349444, 1] 0.917 -0.576 2.409 -0.576 -0.576 ...\n",
      "  ..- attr(*, \"scaled:center\")= num 5.79\n",
      "  ..- attr(*, \"scaled:scale\")= num 10\n",
      " $ havePhysHlth        : Factor w/ 2 levels \"0\",\"1\": 2 1 2 1 1 2 2 1 1 2 ...\n",
      " $ DiffWalk            : Factor w/ 2 levels \"0\",\"1\": 2 1 2 1 1 1 1 2 1 1 ...\n",
      " $ Sex                 : Factor w/ 2 levels \"0\",\"1\": 1 1 1 1 1 2 1 1 2 1 ...\n",
      " $ Age                 : Ord.factor w/ 13 levels \"1\"<\"2\"<\"3\"<\"4\"<..: 9 7 9 11 11 10 9 11 8 7 ...\n",
      " $ Education           : Ord.factor w/ 6 levels \"1\"<\"2\"<\"3\"<\"4\"<..: 4 6 4 3 5 6 6 4 4 5 ...\n",
      " $ Income              : Ord.factor w/ 8 levels \"1\"<\"2\"<\"3\"<\"4\"<..: 3 1 8 6 4 8 7 4 3 7 ...\n",
      " $ Diabetes_binary     : Factor w/ 2 levels \"0\",\"1\": 1 1 1 1 1 1 1 1 1 1 ...\n"
     ]
    }
   ],
   "source": [
    "str(balanced_training_data)"
   ]
  },
  {
   "cell_type": "code",
   "execution_count": 137,
   "id": "5bda0d42-ba05-421b-8b01-b01c80bdfd65",
   "metadata": {},
   "outputs": [
    {
     "name": "stdout",
     "output_type": "stream",
     "text": [
      "'data.frame':\t50736 obs. of  24 variables:\n",
      " $ HighBP              : Factor w/ 2 levels \"0\",\"1\": 2 2 1 1 2 1 1 2 2 2 ...\n",
      " $ HighChol            : Factor w/ 2 levels \"0\",\"1\": 2 2 1 1 2 2 1 1 1 2 ...\n",
      " $ CholCheck           : Factor w/ 2 levels \"0\",\"1\": 2 2 2 2 2 2 2 2 2 2 ...\n",
      " $ BMI                 : num [1:50736, 1] 0.8392 -0.0659 -0.8201 0.5375 1.2918 ...\n",
      "  ..- attr(*, \"scaled:center\")= num 28.4\n",
      "  ..- attr(*, \"scaled:scale\")= num 6.63\n",
      " $ BMI_over_45         : Factor w/ 2 levels \"0\",\"1\": 1 1 1 1 1 1 1 1 1 1 ...\n",
      " $ Smoker              : Factor w/ 2 levels \"0\",\"1\": 2 1 2 1 2 2 1 1 1 1 ...\n",
      " $ Stroke              : Factor w/ 2 levels \"0\",\"1\": 1 1 1 1 2 1 1 1 1 1 ...\n",
      " $ HeartDiseaseorAttack: Factor w/ 2 levels \"0\",\"1\": 1 1 1 1 2 1 1 1 1 1 ...\n",
      " $ PhysActivity        : Factor w/ 2 levels \"0\",\"1\": 1 1 2 2 1 2 2 2 1 2 ...\n",
      " $ Fruits              : Factor w/ 2 levels \"0\",\"1\": 2 1 1 2 1 2 2 2 2 2 ...\n",
      " $ Veggies             : Factor w/ 2 levels \"0\",\"1\": 2 2 1 2 2 2 2 2 1 2 ...\n",
      " $ HvyAlcoholConsump   : Factor w/ 2 levels \"0\",\"1\": 1 1 1 1 1 1 1 1 1 1 ...\n",
      " $ AnyHealthcare       : Factor w/ 2 levels \"0\",\"1\": 2 2 2 2 2 2 2 2 2 2 ...\n",
      " $ NoDocbcCost         : Factor w/ 2 levels \"0\",\"1\": 1 1 1 1 1 1 1 1 1 1 ...\n",
      " $ GenHlth             : Ord.factor w/ 5 levels \"1\"<\"2\"<\"3\"<\"4\"<..: 3 4 2 2 5 1 1 2 3 3 ...\n",
      " $ MentHlth            : num [1:50736, 1] -0.433 -0.433 -0.433 -0.433 -0.433 ...\n",
      "  ..- attr(*, \"scaled:center\")= num 3.23\n",
      "  ..- attr(*, \"scaled:scale\")= num 7.46\n",
      " $ PhysHlth            : num [1:50736, 1] 2.929 -0.488 -0.488 -0.488 -0.488 ...\n",
      "  ..- attr(*, \"scaled:center\")= num 4.28\n",
      "  ..- attr(*, \"scaled:scale\")= num 8.78\n",
      " $ havePhysHlth        : Factor w/ 2 levels \"0\",\"1\": 2 1 1 1 1 1 1 1 2 2 ...\n",
      " $ DiffWalk            : Factor w/ 2 levels \"0\",\"1\": 2 2 1 1 2 1 1 1 1 2 ...\n",
      " $ Sex                 : Factor w/ 2 levels \"0\",\"1\": 1 1 2 1 2 2 1 1 1 2 ...\n",
      " $ Age                 : Ord.factor w/ 13 levels \"1\"<\"2\"<\"3\"<\"4\"<..: 10 11 7 5 10 12 6 9 13 10 ...\n",
      " $ Education           : Ord.factor w/ 6 levels \"1\"<\"2\"<\"3\"<\"4\"<..: 5 4 5 6 6 6 4 4 4 5 ...\n",
      " $ Income              : Ord.factor w/ 8 levels \"1\"<\"2\"<\"3\"<\"4\"<..: 1 6 6 8 5 8 8 4 4 6 ...\n",
      " $ Diabetes_binary     : Factor w/ 2 levels \"0\",\"1\": 1 2 2 1 2 1 1 1 2 1 ...\n"
     ]
    }
   ],
   "source": [
    "str(testing_data)"
   ]
  },
  {
   "cell_type": "markdown",
   "id": "3e507d20-bb6d-4104-981a-7f0036e06041",
   "metadata": {},
   "source": [
    "### 4.3. Build the model"
   ]
  },
  {
   "cell_type": "code",
   "execution_count": 138,
   "id": "64aa1413-731c-4599-9075-73bc7c41e8fa",
   "metadata": {},
   "outputs": [],
   "source": [
    "my_model = glm(Diabetes_binary ~ . , data = balanced_training_data, family = binomial)"
   ]
  },
  {
   "cell_type": "markdown",
   "id": "154abfef-1a58-4542-bcb5-7b287a1eb0f5",
   "metadata": {},
   "source": [
    "#### 4.3.1. AIC stepwise"
   ]
  },
  {
   "cell_type": "code",
   "execution_count": 139,
   "id": "c02813f4-9037-428b-a705-444b3166aa9d",
   "metadata": {},
   "outputs": [],
   "source": [
    "# AIC\n",
    "# aic_result = MASS::stepAIC(my_model, direction = \"backward\", k = 2)"
   ]
  },
  {
   "cell_type": "code",
   "execution_count": 140,
   "id": "f919876d-c9fe-407a-9598-51fea1276899",
   "metadata": {},
   "outputs": [],
   "source": [
    "# # Best AIC model\n",
    "# Diabetes_binary ~ HighBP + HighChol + CholCheck + BMI + BMI_over_45 + \n",
    "#     Smoker + Stroke + HeartDiseaseorAttack + PhysActivity + Fruits + \n",
    "#     Veggies + HvyAlcoholConsump + AnyHealthcare + NoDocbcCost + \n",
    "#     GenHlth + MentHlth + PhysHlth + havePhysHlth + DiffWalk + \n",
    "#     Sex + Age + Education + Income"
   ]
  },
  {
   "cell_type": "markdown",
   "id": "ef817cdb-50b0-44d1-b682-b29fd6c3d7ef",
   "metadata": {},
   "source": [
    "#### 4.3.2. AIC stepwise"
   ]
  },
  {
   "cell_type": "code",
   "execution_count": 141,
   "id": "0213065a-913d-462e-a073-38a589c6ca42",
   "metadata": {},
   "outputs": [],
   "source": [
    "# BIC\n",
    "# bic_result = MASS::stepAIC(my_model, direction = \"backward\", k = log(nrow(balanced_training_data)))"
   ]
  },
  {
   "cell_type": "code",
   "execution_count": 142,
   "id": "2b35419f-e68c-4527-b5af-04ebce113825",
   "metadata": {},
   "outputs": [],
   "source": [
    "# # Best BIC model\n",
    "# Diabetes_binary ~ HighBP + HighChol + CholCheck + BMI + BMI_over_45 + \n",
    "#     Stroke + HeartDiseaseorAttack + PhysActivity + Veggies + \n",
    "#     HvyAlcoholConsump + GenHlth + MentHlth + PhysHlth + DiffWalk + \n",
    "#     Sex + Age + Education + Income"
   ]
  },
  {
   "cell_type": "markdown",
   "id": "79e32971-945a-483b-b995-66d853cf8591",
   "metadata": {},
   "source": [
    "### 4.4. Best model selection"
   ]
  },
  {
   "cell_type": "code",
   "execution_count": 143,
   "id": "6363d76d-ffce-4d98-b010-8299b33c7178",
   "metadata": {},
   "outputs": [],
   "source": [
    "best_aic_model = glm(Diabetes_binary ~ HighBP + HighChol + CholCheck + BMI + BMI_over_45 + \n",
    "    Smoker + Stroke + HeartDiseaseorAttack + PhysActivity + Fruits + \n",
    "    Veggies + HvyAlcoholConsump + AnyHealthcare + NoDocbcCost + \n",
    "    GenHlth + MentHlth + PhysHlth + havePhysHlth + DiffWalk + \n",
    "    Sex + Age + Education + Income, data = balanced_training_data, family = binomial)"
   ]
  },
  {
   "cell_type": "code",
   "execution_count": 144,
   "id": "78dbb29b-0e03-46b6-a87b-5b530712c677",
   "metadata": {},
   "outputs": [],
   "source": [
    "best_bic_model = glm(Diabetes_binary ~ HighBP + HighChol + CholCheck + BMI + BMI_over_45 + \n",
    "    Stroke + HeartDiseaseorAttack + PhysActivity + Fruits + HvyAlcoholConsump + \n",
    "    AnyHealthcare + GenHlth + MentHlth + PhysHlth + DiffWalk + \n",
    "    Sex + Age + Education + Income, data = balanced_training_data, family = binomial)"
   ]
  },
  {
   "cell_type": "code",
   "execution_count": 145,
   "id": "026c8088-f67e-43c1-a6cb-cbffe1ad3251",
   "metadata": {},
   "outputs": [
    {
     "data": {
      "text/html": [
       "<table class=\"dataframe\">\n",
       "<caption>A anova: 2 × 5</caption>\n",
       "<thead>\n",
       "\t<tr><th></th><th scope=col>Resid. Df</th><th scope=col>Resid. Dev</th><th scope=col>Df</th><th scope=col>Deviance</th><th scope=col>Pr(&gt;Chi)</th></tr>\n",
       "\t<tr><th></th><th scope=col>&lt;dbl&gt;</th><th scope=col>&lt;dbl&gt;</th><th scope=col>&lt;dbl&gt;</th><th scope=col>&lt;dbl&gt;</th><th scope=col>&lt;dbl&gt;</th></tr>\n",
       "</thead>\n",
       "<tbody>\n",
       "\t<tr><th scope=row>1</th><td>349396</td><td>355980.9</td><td>NA</td><td>       NA</td><td>          NA</td></tr>\n",
       "\t<tr><th scope=row>2</th><td>349400</td><td>356024.8</td><td>-4</td><td>-43.87966</td><td>6.795845e-09</td></tr>\n",
       "</tbody>\n",
       "</table>\n"
      ],
      "text/latex": [
       "A anova: 2 × 5\n",
       "\\begin{tabular}{r|lllll}\n",
       "  & Resid. Df & Resid. Dev & Df & Deviance & Pr(>Chi)\\\\\n",
       "  & <dbl> & <dbl> & <dbl> & <dbl> & <dbl>\\\\\n",
       "\\hline\n",
       "\t1 & 349396 & 355980.9 & NA &        NA &           NA\\\\\n",
       "\t2 & 349400 & 356024.8 & -4 & -43.87966 & 6.795845e-09\\\\\n",
       "\\end{tabular}\n"
      ],
      "text/markdown": [
       "\n",
       "A anova: 2 × 5\n",
       "\n",
       "| <!--/--> | Resid. Df &lt;dbl&gt; | Resid. Dev &lt;dbl&gt; | Df &lt;dbl&gt; | Deviance &lt;dbl&gt; | Pr(&gt;Chi) &lt;dbl&gt; |\n",
       "|---|---|---|---|---|---|\n",
       "| 1 | 349396 | 355980.9 | NA |        NA |           NA |\n",
       "| 2 | 349400 | 356024.8 | -4 | -43.87966 | 6.795845e-09 |\n",
       "\n"
      ],
      "text/plain": [
       "  Resid. Df Resid. Dev Df Deviance  Pr(>Chi)    \n",
       "1 349396    355980.9   NA        NA           NA\n",
       "2 349400    356024.8   -4 -43.87966 6.795845e-09"
      ]
     },
     "metadata": {},
     "output_type": "display_data"
    }
   ],
   "source": [
    "anova(best_aic_model, best_bic_model, test = \"Chisq\")"
   ]
  },
  {
   "cell_type": "code",
   "execution_count": 146,
   "id": "aad2bc6d-c7cc-4ccc-b71a-89e7ce46bb70",
   "metadata": {},
   "outputs": [],
   "source": [
    "# COMMENT\n",
    "# Choose \"best_bic_model\""
   ]
  },
  {
   "cell_type": "code",
   "execution_count": 147,
   "id": "cde1cab9-84fb-4033-9da5-65db549634a7",
   "metadata": {},
   "outputs": [],
   "source": [
    "# best_bic_model = glm(Diabetes_binary ~ HighBP + HighChol + CholCheck + BMI + BMI_over_45 + \n",
    "#     Stroke + HeartDiseaseorAttack + PhysActivity + Veggies + \n",
    "#     HvyAlcoholConsump + GenHlth + MentHlth + PhysHlth + DiffWalk + \n",
    "#     Sex + Age + Education + Income, data = balanced_training_data, family = binomial)"
   ]
  },
  {
   "cell_type": "markdown",
   "id": "b8574273-b73a-4f58-8001-0713b09e031a",
   "metadata": {},
   "source": [
    "### 4.5. Link function selection"
   ]
  },
  {
   "cell_type": "code",
   "execution_count": 148,
   "id": "bc30818c-bb0c-4b9f-b04c-01f826aec88c",
   "metadata": {},
   "outputs": [
    {
     "data": {
      "text/html": [
       "<table class=\"dataframe\">\n",
       "<caption>A data.frame: 4 × 2</caption>\n",
       "<thead>\n",
       "\t<tr><th scope=col>link_function_name</th><th scope=col>aic_value</th></tr>\n",
       "\t<tr><th scope=col>&lt;chr&gt;</th><th scope=col>&lt;dbl&gt;</th></tr>\n",
       "</thead>\n",
       "<tbody>\n",
       "\t<tr><td>logit  </td><td>0</td></tr>\n",
       "\t<tr><td>probit </td><td>0</td></tr>\n",
       "\t<tr><td>cauchit</td><td>0</td></tr>\n",
       "\t<tr><td>cloglog</td><td>0</td></tr>\n",
       "</tbody>\n",
       "</table>\n"
      ],
      "text/latex": [
       "A data.frame: 4 × 2\n",
       "\\begin{tabular}{ll}\n",
       " link\\_function\\_name & aic\\_value\\\\\n",
       " <chr> & <dbl>\\\\\n",
       "\\hline\n",
       "\t logit   & 0\\\\\n",
       "\t probit  & 0\\\\\n",
       "\t cauchit & 0\\\\\n",
       "\t cloglog & 0\\\\\n",
       "\\end{tabular}\n"
      ],
      "text/markdown": [
       "\n",
       "A data.frame: 4 × 2\n",
       "\n",
       "| link_function_name &lt;chr&gt; | aic_value &lt;dbl&gt; |\n",
       "|---|---|\n",
       "| logit   | 0 |\n",
       "| probit  | 0 |\n",
       "| cauchit | 0 |\n",
       "| cloglog | 0 |\n",
       "\n"
      ],
      "text/plain": [
       "  link_function_name aic_value\n",
       "1 logit              0        \n",
       "2 probit             0        \n",
       "3 cauchit            0        \n",
       "4 cloglog            0        "
      ]
     },
     "metadata": {},
     "output_type": "display_data"
    }
   ],
   "source": [
    "# Create the dataframe\n",
    "aic_link_function_df <- data.frame(\n",
    "  link_function_name = c(\"logit\", \"probit\", \"cauchit\", \"cloglog\"),\n",
    "  aic_value = rep(0, 4)\n",
    ")\n",
    "aic_link_function_df"
   ]
  },
  {
   "cell_type": "code",
   "execution_count": 149,
   "id": "9a3c5376-c9ac-4fcf-aca9-3bc32995e528",
   "metadata": {},
   "outputs": [],
   "source": [
    "logit_best_bic_model = glm(Diabetes_binary ~ HighBP + HighChol + CholCheck + BMI + BMI_over_45 + \n",
    "    Stroke + HeartDiseaseorAttack + PhysActivity + Fruits + HvyAlcoholConsump + \n",
    "    AnyHealthcare + GenHlth + MentHlth + PhysHlth + DiffWalk + \n",
    "    Sex + Age + Education + Income, data = balanced_training_data, family = binomial(link = \"logit\"))"
   ]
  },
  {
   "cell_type": "code",
   "execution_count": 150,
   "id": "2a2a0a74-be5c-4c21-b394-ee5f02b1c2b5",
   "metadata": {},
   "outputs": [],
   "source": [
    "aic_link_function_df[1, 2] = summary(logit_best_bic_model)$aic"
   ]
  },
  {
   "cell_type": "code",
   "execution_count": 151,
   "id": "a7df4a29-8e98-4f94-8403-c86e7bca3830",
   "metadata": {},
   "outputs": [],
   "source": [
    "probit_best_bic_model = glm(Diabetes_binary ~ HighBP + HighChol + CholCheck + BMI + BMI_over_45 + \n",
    "    Stroke + HeartDiseaseorAttack + PhysActivity + Fruits + HvyAlcoholConsump + \n",
    "    AnyHealthcare + GenHlth + MentHlth + PhysHlth + DiffWalk + \n",
    "    Sex + Age + Education + Income, data = balanced_training_data, family = binomial(link = \"probit\"))"
   ]
  },
  {
   "cell_type": "code",
   "execution_count": 152,
   "id": "eecaf708-2961-4a49-ab09-5c8cb8340f61",
   "metadata": {},
   "outputs": [],
   "source": [
    "aic_link_function_df[2, 2] = summary(probit_best_bic_model)$aic"
   ]
  },
  {
   "cell_type": "code",
   "execution_count": 153,
   "id": "0042b460-e788-4125-bcad-3bce376eaeff",
   "metadata": {},
   "outputs": [],
   "source": [
    "cauchit_best_bic_model = glm(Diabetes_binary ~ HighBP + HighChol + CholCheck + BMI + BMI_over_45 + \n",
    "    Stroke + HeartDiseaseorAttack + PhysActivity + Fruits + HvyAlcoholConsump + \n",
    "    AnyHealthcare + GenHlth + MentHlth + PhysHlth + DiffWalk + \n",
    "    Sex + Age + Education + Income, data = balanced_training_data, family = binomial(link = \"cauchit\"))"
   ]
  },
  {
   "cell_type": "code",
   "execution_count": 154,
   "id": "44492074-00f8-41b4-80aa-430c3b83b161",
   "metadata": {},
   "outputs": [],
   "source": [
    "aic_link_function_df[3, 2] = summary(cauchit_best_bic_model)$aic"
   ]
  },
  {
   "cell_type": "code",
   "execution_count": 155,
   "id": "af9bc90e-3fb6-407c-a4f3-8d7a6a9ced35",
   "metadata": {},
   "outputs": [],
   "source": [
    "cloglog_best_bic_model = glm(Diabetes_binary ~ HighBP + HighChol + CholCheck + BMI + BMI_over_45 + \n",
    "    Stroke + HeartDiseaseorAttack + PhysActivity + Fruits + HvyAlcoholConsump + \n",
    "    AnyHealthcare + GenHlth + MentHlth + PhysHlth + DiffWalk + \n",
    "    Sex + Age + Education + Income, data = balanced_training_data, family = binomial(link = \"cloglog\"))"
   ]
  },
  {
   "cell_type": "code",
   "execution_count": 156,
   "id": "6d182864-5a67-4681-83eb-737a0c0186f0",
   "metadata": {},
   "outputs": [],
   "source": [
    "aic_link_function_df[4, 2] = summary(cloglog_best_bic_model)$aic"
   ]
  },
  {
   "cell_type": "code",
   "execution_count": 157,
   "id": "53739887-09ba-483f-8799-19ac695e667a",
   "metadata": {},
   "outputs": [
    {
     "data": {
      "text/html": [
       "<table class=\"dataframe\">\n",
       "<caption>A data.frame: 4 × 2</caption>\n",
       "<thead>\n",
       "\t<tr><th scope=col>link_function_name</th><th scope=col>aic_value</th></tr>\n",
       "\t<tr><th scope=col>&lt;chr&gt;</th><th scope=col>&lt;dbl&gt;</th></tr>\n",
       "</thead>\n",
       "<tbody>\n",
       "\t<tr><td>logit  </td><td>356112.8</td></tr>\n",
       "\t<tr><td>probit </td><td>356302.1</td></tr>\n",
       "\t<tr><td>cauchit</td><td>358319.1</td></tr>\n",
       "\t<tr><td>cloglog</td><td>360981.1</td></tr>\n",
       "</tbody>\n",
       "</table>\n"
      ],
      "text/latex": [
       "A data.frame: 4 × 2\n",
       "\\begin{tabular}{ll}\n",
       " link\\_function\\_name & aic\\_value\\\\\n",
       " <chr> & <dbl>\\\\\n",
       "\\hline\n",
       "\t logit   & 356112.8\\\\\n",
       "\t probit  & 356302.1\\\\\n",
       "\t cauchit & 358319.1\\\\\n",
       "\t cloglog & 360981.1\\\\\n",
       "\\end{tabular}\n"
      ],
      "text/markdown": [
       "\n",
       "A data.frame: 4 × 2\n",
       "\n",
       "| link_function_name &lt;chr&gt; | aic_value &lt;dbl&gt; |\n",
       "|---|---|\n",
       "| logit   | 356112.8 |\n",
       "| probit  | 356302.1 |\n",
       "| cauchit | 358319.1 |\n",
       "| cloglog | 360981.1 |\n",
       "\n"
      ],
      "text/plain": [
       "  link_function_name aic_value\n",
       "1 logit              356112.8 \n",
       "2 probit             356302.1 \n",
       "3 cauchit            358319.1 \n",
       "4 cloglog            360981.1 "
      ]
     },
     "metadata": {},
     "output_type": "display_data"
    }
   ],
   "source": [
    "aic_link_function_df"
   ]
  },
  {
   "cell_type": "code",
   "execution_count": 158,
   "id": "b3407484-524d-431b-ba0d-160dba449907",
   "metadata": {},
   "outputs": [
    {
     "data": {
      "text/html": [
       "<table class=\"dataframe\">\n",
       "<caption>A data.frame: 1 × 2</caption>\n",
       "<thead>\n",
       "\t<tr><th></th><th scope=col>link_function_name</th><th scope=col>aic_value</th></tr>\n",
       "\t<tr><th></th><th scope=col>&lt;chr&gt;</th><th scope=col>&lt;dbl&gt;</th></tr>\n",
       "</thead>\n",
       "<tbody>\n",
       "\t<tr><th scope=row>1</th><td>logit</td><td>356112.8</td></tr>\n",
       "</tbody>\n",
       "</table>\n"
      ],
      "text/latex": [
       "A data.frame: 1 × 2\n",
       "\\begin{tabular}{r|ll}\n",
       "  & link\\_function\\_name & aic\\_value\\\\\n",
       "  & <chr> & <dbl>\\\\\n",
       "\\hline\n",
       "\t1 & logit & 356112.8\\\\\n",
       "\\end{tabular}\n"
      ],
      "text/markdown": [
       "\n",
       "A data.frame: 1 × 2\n",
       "\n",
       "| <!--/--> | link_function_name &lt;chr&gt; | aic_value &lt;dbl&gt; |\n",
       "|---|---|---|\n",
       "| 1 | logit | 356112.8 |\n",
       "\n"
      ],
      "text/plain": [
       "  link_function_name aic_value\n",
       "1 logit              356112.8 "
      ]
     },
     "metadata": {},
     "output_type": "display_data"
    }
   ],
   "source": [
    "aic_link_function_df[which.min(aic_link_function_df$aic_value), ]"
   ]
  },
  {
   "cell_type": "code",
   "execution_count": 159,
   "id": "e05f57c1-8837-4961-bad0-91b137b5da96",
   "metadata": {},
   "outputs": [],
   "source": [
    "# COMMENT\n",
    "# Best link function model\n",
    "# logit_best_bic_model = glm(Diabetes_binary ~ HighBP + HighChol + CholCheck + BMI + BMI_over_45 + \n",
    "#     Stroke + HeartDiseaseorAttack + PhysActivity + Fruits + HvyAlcoholConsump + \n",
    "#     AnyHealthcare + GenHlth + MentHlth + PhysHlth + DiffWalk + \n",
    "#     Sex + Age + Education + Income, data = balanced_training_data, family = binomial(link = \"logit\"))"
   ]
  },
  {
   "cell_type": "markdown",
   "id": "bf398b59-aa32-4d75-8653-ed018fa0caa0",
   "metadata": {},
   "source": [
    "## 5. Model training and evaluating"
   ]
  },
  {
   "cell_type": "code",
   "execution_count": 160,
   "id": "a23556a9-c6aa-4027-9e2b-b1b5436009af",
   "metadata": {},
   "outputs": [],
   "source": [
    "evaluate_classification_model = function(binary_predictions, binary_real_data)\n",
    "{\n",
    "    accuracy = mean(binary_predictions == binary_real_data)\n",
    "    precision <- sum(binary_predictions == 1 & binary_real_data == 1) / sum(binary_predictions == 1)\n",
    "    recall <- sum(binary_predictions == 1 & binary_real_data == 1) / sum(binary_real_data == 1)\n",
    "    f1_score <- 2 * precision * recall / (precision + recall)\n",
    "    \n",
    "    # Print the results\n",
    "    cat(\"Accuracy:\", accuracy, \"\\n\")\n",
    "    cat(\"Precision:\", precision, \"\\n\")\n",
    "    cat(\"Recall:\", recall, \"\\n\")\n",
    "    cat(\"F1 Score:\", f1_score, \"\\n\")\n",
    "}\n",
    "\n",
    "one_for_all_metric = function(model, new_data, variable_name, binary_threshold = 0.5)\n",
    "{\n",
    "    predictions = predict(model, newdata = new_data, type = \"response\")\n",
    "    binary_predictions = ifelse(predictions >= binary_threshold, 1, 0)\n",
    "    actual_response = new_data[, variable_name]\n",
    "    \n",
    "    cat(\"\\n\", \"Metric 1: ANOVA\", \"\\n\")\n",
    "    print(summary(model))\n",
    "\n",
    "    cat(\"\\n\", \"Metric 2: Model performance\", \"\\n\")\n",
    "    print(confusionMatrix(table(binary_predictions, actual_response)))\n",
    "    evaluate_classification_model(binary_predictions, actual_response)\n",
    "\n",
    "    cat(\"\\n\", \"Metric 3: ROC curve - AUC\", \"\\n\")\n",
    "    roc_score = pROC::roc(actual_response, binary_predictions)\n",
    "    cat(\"AUC: \", auc(roc_score))\n",
    "    plot(roc_score ,main = \"ROC curve -- Logistic Regression \")\n",
    "    \n",
    "    cat(\"\\n\", \"Metric 4: Overdispersion tests\", \"\\n\")\n",
    "    DHARMa::testDispersion(model, alternative = \"greater\")\n",
    "\n",
    "    cat(\"\\n\", \"Metric 4: Goodness-of-fit\", \"\\n\")\n",
    "    summary_model = summary(model)\n",
    "    cat(\"residual:\", summary_model$deviance, \"\\n\")\n",
    "    cat(\"dof:\", summary_model$df[2], \"\\n\")\n",
    "    cat(\"goodness-of-fit:\", 1- pchisq(summary_model$deviance, df = summary_model$df[2]))\n",
    "\n",
    "    cat(\"\\n\", \"Metric 5: QQ-norm\", \"\\n\")\n",
    "    qqnorm(residuals(probit_best_bic_model))\n",
    "    abline(a = 0, b = 1, col = \"red\")\n",
    "}"
   ]
  },
  {
   "cell_type": "code",
   "execution_count": 161,
   "id": "1466f8d7-461c-47ac-a449-eeb41566aa9f",
   "metadata": {},
   "outputs": [
    {
     "name": "stdout",
     "output_type": "stream",
     "text": [
      "\n",
      " Metric 1: ANOVA \n",
      "\n",
      "Call:\n",
      "glm(formula = Diabetes_binary ~ HighBP + HighChol + CholCheck + \n",
      "    BMI + BMI_over_45 + Stroke + HeartDiseaseorAttack + PhysActivity + \n",
      "    Fruits + HvyAlcoholConsump + AnyHealthcare + GenHlth + MentHlth + \n",
      "    PhysHlth + DiffWalk + Sex + Age + Education + Income, family = binomial(link = \"logit\"), \n",
      "    data = balanced_training_data)\n",
      "\n",
      "Deviance Residuals: \n",
      "    Min       1Q   Median       3Q      Max  \n",
      "-3.3752  -0.8090  -0.0918   0.8251   3.0894  \n",
      "\n",
      "Coefficients:\n",
      "                       Estimate Std. Error z value Pr(>|z|)    \n",
      "(Intercept)           -2.372765   0.047210 -50.260  < 2e-16 ***\n",
      "HighBP1                0.714745   0.008900  80.310  < 2e-16 ***\n",
      "HighChol1              0.541407   0.008527  63.496  < 2e-16 ***\n",
      "CholCheck1             1.338575   0.036702  36.472  < 2e-16 ***\n",
      "BMI                    0.574764   0.005736 100.207  < 2e-16 ***\n",
      "BMI_over_451          -0.860874   0.031096 -27.684  < 2e-16 ***\n",
      "Stroke1                0.185750   0.018344  10.126  < 2e-16 ***\n",
      "HeartDiseaseorAttack1  0.258687   0.012796  20.217  < 2e-16 ***\n",
      "PhysActivity1         -0.043032   0.009565  -4.499 6.83e-06 ***\n",
      "Fruits1               -0.041665   0.008664  -4.809 1.52e-06 ***\n",
      "HvyAlcoholConsump1    -0.729000   0.021879 -33.319  < 2e-16 ***\n",
      "AnyHealthcare1         0.039613   0.020815   1.903 0.057021 .  \n",
      "GenHlth.L              1.663935   0.018035  92.264  < 2e-16 ***\n",
      "GenHlth.Q             -0.362256   0.013599 -26.639  < 2e-16 ***\n",
      "GenHlth.C             -0.070326   0.010507  -6.694 2.18e-11 ***\n",
      "GenHlth^4              0.025790   0.008018   3.216 0.001298 ** \n",
      "MentHlth              -0.034395   0.004672  -7.362 1.81e-13 ***\n",
      "PhysHlth              -0.026284   0.005583  -4.708 2.50e-06 ***\n",
      "DiffWalk1              0.126230   0.011676  10.811  < 2e-16 ***\n",
      "Sex1                   0.276619   0.008594  32.187  < 2e-16 ***\n",
      "Age.L                  2.423002   0.035196  68.843  < 2e-16 ***\n",
      "Age.Q                 -0.672479   0.032946 -20.411  < 2e-16 ***\n",
      "Age.C                 -0.216409   0.030630  -7.065 1.60e-12 ***\n",
      "Age^4                 -0.011524   0.029440  -0.391 0.695471    \n",
      "Age^5                 -0.182286   0.028538  -6.388 1.69e-10 ***\n",
      "Age^6                  0.091554   0.027020   3.388 0.000703 ***\n",
      "Age^7                  0.016382   0.024989   0.656 0.512091    \n",
      "Age^8                  0.042986   0.022589   1.903 0.057040 .  \n",
      "Age^9                 -0.017756   0.020171  -0.880 0.378718    \n",
      "Age^10                -0.037012   0.017972  -2.059 0.039451 *  \n",
      "Age^11                 0.019272   0.016189   1.190 0.233881    \n",
      "Age^12                 0.028755   0.014285   2.013 0.044113 *  \n",
      "Education.L           -0.213287   0.082909  -2.573 0.010095 *  \n",
      "Education.Q            0.013101   0.075395   0.174 0.862054    \n",
      "Education.C           -0.005602   0.053683  -0.104 0.916885    \n",
      "Education^4           -0.044097   0.031705  -1.391 0.164273    \n",
      "Education^5           -0.038367   0.018013  -2.130 0.033170 *  \n",
      "Income.L              -0.412734   0.016271 -25.366  < 2e-16 ***\n",
      "Income.Q              -0.081697   0.014156  -5.771 7.88e-09 ***\n",
      "Income.C               0.003539   0.013607   0.260 0.794801    \n",
      "Income^4              -0.026441   0.013571  -1.948 0.051378 .  \n",
      "Income^5              -0.026140   0.013319  -1.963 0.049687 *  \n",
      "Income^6              -0.060365   0.012960  -4.658 3.19e-06 ***\n",
      "Income^7               0.010973   0.012738   0.861 0.389016    \n",
      "---\n",
      "Signif. codes:  0 '***' 0.001 '**' 0.01 '*' 0.05 '.' 0.1 ' ' 1\n",
      "\n",
      "(Dispersion parameter for binomial family taken to be 1)\n",
      "\n",
      "    Null deviance: 484432  on 349443  degrees of freedom\n",
      "Residual deviance: 356025  on 349400  degrees of freedom\n",
      "AIC: 356113\n",
      "\n",
      "Number of Fisher Scoring iterations: 5\n",
      "\n",
      "\n",
      " Metric 2: Model performance \n",
      "Confusion Matrix and Statistics\n",
      "\n",
      "                  actual_response\n",
      "binary_predictions      0      1\n",
      "                 0 126189  39127\n",
      "                 1  48614 135514\n",
      "                                          \n",
      "               Accuracy : 0.7489          \n",
      "                 95% CI : (0.7475, 0.7503)\n",
      "    No Information Rate : 0.5002          \n",
      "    P-Value [Acc > NIR] : < 2.2e-16       \n",
      "                                          \n",
      "                  Kappa : 0.4978          \n",
      "                                          \n",
      " Mcnemar's Test P-Value : < 2.2e-16       \n",
      "                                          \n",
      "            Sensitivity : 0.7219          \n",
      "            Specificity : 0.7760          \n",
      "         Pos Pred Value : 0.7633          \n",
      "         Neg Pred Value : 0.7360          \n",
      "             Prevalence : 0.5002          \n",
      "         Detection Rate : 0.3611          \n",
      "   Detection Prevalence : 0.4731          \n",
      "      Balanced Accuracy : 0.7489          \n",
      "                                          \n",
      "       'Positive' Class : 0               \n",
      "                                          \n",
      "Accuracy: 0.7489126 \n",
      "Precision: 0.7359771 \n",
      "Recall: 0.7759575 \n",
      "F1 Score: 0.7554387 \n",
      "\n",
      " Metric 3: ROC curve - AUC \n"
     ]
    },
    {
     "name": "stderr",
     "output_type": "stream",
     "text": [
      "Setting levels: control = 0, case = 1\n",
      "\n",
      "Setting direction: controls < cases\n",
      "\n"
     ]
    },
    {
     "name": "stdout",
     "output_type": "stream",
     "text": [
      "AUC:  0.7489251\n",
      " Metric 4: Overdispersion tests \n"
     ]
    },
    {
     "data": {
      "image/png": "[encoded data removed]",
      "text/plain": [
       "Plot with title \"ROC curve -- Logistic Regression \""
      ]
     },
     "metadata": {
      "image/png": {
       "height": 420,
       "width": 420
      }
     },
     "output_type": "display_data"
    },
    {
     "name": "stdout",
     "output_type": "stream",
     "text": [
      "\n",
      " Metric 4: Goodness-of-fit \n",
      "residual: 356024.8 \n",
      "dof: 349400 \n",
      "goodness-of-fit: 1.665335e-15\n",
      " Metric 5: QQ-norm \n"
     ]
    },
    {
     "data": {
      "image/png": "[encoded data removed]",
      "text/plain": [
       "Plot with title \"DHARMa nonparametric dispersion test via sd of\n",
       "residuals fitted vs. simulated\n",
       "\""
      ]
     },
     "metadata": {
      "image/png": {
       "height": 420,
       "width": 420
      }
     },
     "output_type": "display_data"
    },
    {
     "data": {
      "image/png": "[encoded data removed]",
      "text/plain": [
       "Plot with title \"Normal Q-Q Plot\""
      ]
     },
     "metadata": {
      "image/png": {
       "height": 420,
       "width": 420
      }
     },
     "output_type": "display_data"
    }
   ],
   "source": [
    "one_for_all_metric(logit_best_bic_model, balanced_training_data, \"Diabetes_binary\")"
   ]
  },
  {
   "cell_type": "code",
   "execution_count": 162,
   "id": "a34511f8-820b-4cd4-840e-13d5f9d864ae",
   "metadata": {},
   "outputs": [
    {
     "name": "stdout",
     "output_type": "stream",
     "text": [
      "\n",
      " Metric 1: ANOVA \n",
      "\n",
      "Call:\n",
      "glm(formula = Diabetes_binary ~ HighBP + HighChol + CholCheck + \n",
      "    BMI + BMI_over_45 + Stroke + HeartDiseaseorAttack + PhysActivity + \n",
      "    Fruits + HvyAlcoholConsump + AnyHealthcare + GenHlth + MentHlth + \n",
      "    PhysHlth + DiffWalk + Sex + Age + Education + Income, family = binomial(link = \"logit\"), \n",
      "    data = balanced_training_data)\n",
      "\n",
      "Deviance Residuals: \n",
      "    Min       1Q   Median       3Q      Max  \n",
      "-3.3752  -0.8090  -0.0918   0.8251   3.0894  \n",
      "\n",
      "Coefficients:\n",
      "                       Estimate Std. Error z value Pr(>|z|)    \n",
      "(Intercept)           -2.372765   0.047210 -50.260  < 2e-16 ***\n",
      "HighBP1                0.714745   0.008900  80.310  < 2e-16 ***\n",
      "HighChol1              0.541407   0.008527  63.496  < 2e-16 ***\n",
      "CholCheck1             1.338575   0.036702  36.472  < 2e-16 ***\n",
      "BMI                    0.574764   0.005736 100.207  < 2e-16 ***\n",
      "BMI_over_451          -0.860874   0.031096 -27.684  < 2e-16 ***\n",
      "Stroke1                0.185750   0.018344  10.126  < 2e-16 ***\n",
      "HeartDiseaseorAttack1  0.258687   0.012796  20.217  < 2e-16 ***\n",
      "PhysActivity1         -0.043032   0.009565  -4.499 6.83e-06 ***\n",
      "Fruits1               -0.041665   0.008664  -4.809 1.52e-06 ***\n",
      "HvyAlcoholConsump1    -0.729000   0.021879 -33.319  < 2e-16 ***\n",
      "AnyHealthcare1         0.039613   0.020815   1.903 0.057021 .  \n",
      "GenHlth.L              1.663935   0.018035  92.264  < 2e-16 ***\n",
      "GenHlth.Q             -0.362256   0.013599 -26.639  < 2e-16 ***\n",
      "GenHlth.C             -0.070326   0.010507  -6.694 2.18e-11 ***\n",
      "GenHlth^4              0.025790   0.008018   3.216 0.001298 ** \n",
      "MentHlth              -0.034395   0.004672  -7.362 1.81e-13 ***\n",
      "PhysHlth              -0.026284   0.005583  -4.708 2.50e-06 ***\n",
      "DiffWalk1              0.126230   0.011676  10.811  < 2e-16 ***\n",
      "Sex1                   0.276619   0.008594  32.187  < 2e-16 ***\n",
      "Age.L                  2.423002   0.035196  68.843  < 2e-16 ***\n",
      "Age.Q                 -0.672479   0.032946 -20.411  < 2e-16 ***\n",
      "Age.C                 -0.216409   0.030630  -7.065 1.60e-12 ***\n",
      "Age^4                 -0.011524   0.029440  -0.391 0.695471    \n",
      "Age^5                 -0.182286   0.028538  -6.388 1.69e-10 ***\n",
      "Age^6                  0.091554   0.027020   3.388 0.000703 ***\n",
      "Age^7                  0.016382   0.024989   0.656 0.512091    \n",
      "Age^8                  0.042986   0.022589   1.903 0.057040 .  \n",
      "Age^9                 -0.017756   0.020171  -0.880 0.378718    \n",
      "Age^10                -0.037012   0.017972  -2.059 0.039451 *  \n",
      "Age^11                 0.019272   0.016189   1.190 0.233881    \n",
      "Age^12                 0.028755   0.014285   2.013 0.044113 *  \n",
      "Education.L           -0.213287   0.082909  -2.573 0.010095 *  \n",
      "Education.Q            0.013101   0.075395   0.174 0.862054    \n",
      "Education.C           -0.005602   0.053683  -0.104 0.916885    \n",
      "Education^4           -0.044097   0.031705  -1.391 0.164273    \n",
      "Education^5           -0.038367   0.018013  -2.130 0.033170 *  \n",
      "Income.L              -0.412734   0.016271 -25.366  < 2e-16 ***\n",
      "Income.Q              -0.081697   0.014156  -5.771 7.88e-09 ***\n",
      "Income.C               0.003539   0.013607   0.260 0.794801    \n",
      "Income^4              -0.026441   0.013571  -1.948 0.051378 .  \n",
      "Income^5              -0.026140   0.013319  -1.963 0.049687 *  \n",
      "Income^6              -0.060365   0.012960  -4.658 3.19e-06 ***\n",
      "Income^7               0.010973   0.012738   0.861 0.389016    \n",
      "---\n",
      "Signif. codes:  0 '***' 0.001 '**' 0.01 '*' 0.05 '.' 0.1 ' ' 1\n",
      "\n",
      "(Dispersion parameter for binomial family taken to be 1)\n",
      "\n",
      "    Null deviance: 484432  on 349443  degrees of freedom\n",
      "Residual deviance: 356025  on 349400  degrees of freedom\n",
      "AIC: 356113\n",
      "\n",
      "Number of Fisher Scoring iterations: 5\n",
      "\n",
      "\n",
      " Metric 2: Model performance \n",
      "Confusion Matrix and Statistics\n",
      "\n",
      "                  actual_response\n",
      "binary_predictions     0     1\n",
      "                 0 30046  1380\n",
      "                 1 13485  5825\n",
      "                                        \n",
      "               Accuracy : 0.707         \n",
      "                 95% CI : (0.703, 0.711)\n",
      "    No Information Rate : 0.858         \n",
      "    P-Value [Acc > NIR] : 1             \n",
      "                                        \n",
      "                  Kappa : 0.2932        \n",
      "                                        \n",
      " Mcnemar's Test P-Value : <2e-16        \n",
      "                                        \n",
      "            Sensitivity : 0.6902        \n",
      "            Specificity : 0.8085        \n",
      "         Pos Pred Value : 0.9561        \n",
      "         Neg Pred Value : 0.3017        \n",
      "             Prevalence : 0.8580        \n",
      "         Detection Rate : 0.5922        \n",
      "   Detection Prevalence : 0.6194        \n",
      "      Balanced Accuracy : 0.7493        \n",
      "                                        \n",
      "       'Positive' Class : 0             \n",
      "                                        \n",
      "Accuracy: 0.7070128 \n",
      "Precision: 0.3016572 \n",
      "Recall: 0.8084663 \n",
      "F1 Score: 0.4393739 \n",
      "\n",
      " Metric 3: ROC curve - AUC \n"
     ]
    },
    {
     "name": "stderr",
     "output_type": "stream",
     "text": [
      "Setting levels: control = 0, case = 1\n",
      "\n",
      "Setting direction: controls < cases\n",
      "\n"
     ]
    },
    {
     "name": "stdout",
     "output_type": "stream",
     "text": [
      "AUC:  0.7493436\n",
      " Metric 4: Overdispersion tests \n"
     ]
    },
    {
     "data": {
      "image/png": "[encoded data removed]",
      "text/plain": [
       "Plot with title \"ROC curve -- Logistic Regression \""
      ]
     },
     "metadata": {
      "image/png": {
       "height": 420,
       "width": 420
      }
     },
     "output_type": "display_data"
    },
    {
     "name": "stdout",
     "output_type": "stream",
     "text": [
      "\n",
      " Metric 4: Goodness-of-fit \n",
      "residual: 356024.8 \n",
      "dof: 349400 \n",
      "goodness-of-fit: 1.665335e-15\n",
      " Metric 5: QQ-norm \n"
     ]
    },
    {
     "data": {
      "image/png": "[encoded data removed]",
      "text/plain": [
       "Plot with title \"DHARMa nonparametric dispersion test via sd of\n",
       "residuals fitted vs. simulated\n",
       "\""
      ]
     },
     "metadata": {
      "image/png": {
       "height": 420,
       "width": 420
      }
     },
     "output_type": "display_data"
    },
    {
     "data": {
      "image/png": "[encoded data removed]",
      "text/plain": [
       "Plot with title \"Normal Q-Q Plot\""
      ]
     },
     "metadata": {
      "image/png": {
       "height": 420,
       "width": 420
      }
     },
     "output_type": "display_data"
    }
   ],
   "source": [
    "one_for_all_metric(logit_best_bic_model, testing_data, \"Diabetes_binary\")"
   ]
  },
  {
   "cell_type": "markdown",
   "id": "3419f7fb-ac92-48d2-acce-b10041b51073",
   "metadata": {},
   "source": [
    "## TEST"
   ]
  }
 ],
 "metadata": {
  "kernelspec": {
   "display_name": "R",
   "language": "R",
   "name": "ir"
  },
  "language_info": {
   "codemirror_mode": "r",
   "file_extension": ".r",
   "mimetype": "text/x-r-source",
   "name": "R",
   "pygments_lexer": "r",
   "version": "4.0.5"
  }
 },
 "nbformat": 4,
 "nbformat_minor": 5
}
