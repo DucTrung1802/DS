{
 "cells": [
  {
   "cell_type": "markdown",
   "id": "9775ac29-68f2-4038-a44d-7ddcad6cd76a",
   "metadata": {
    "id": "9775ac29-68f2-4038-a44d-7ddcad6cd76a"
   },
   "source": [
    "# Diabetes Analysis"
   ]
  },
  {
   "cell_type": "markdown",
   "id": "512df902-fb91-4257-a7dd-4c6a1fcd460c",
   "metadata": {
    "id": "512df902-fb91-4257-a7dd-4c6a1fcd460c"
   },
   "source": [
    "### Author: Ly Duc Trung"
   ]
  },
  {
   "cell_type": "markdown",
   "id": "b9abdf19-0780-46d7-9246-ac0b25747145",
   "metadata": {
    "id": "b9abdf19-0780-46d7-9246-ac0b25747145"
   },
   "source": [
    "### Link: https://github.com/DucTrung1802/DS/blob/main/GLM_Report/diabetes_analysis_upgrade.ipynb"
   ]
  },
  {
   "cell_type": "markdown",
   "id": "deb0884f-4606-4ab4-93f5-43a781e1f32d",
   "metadata": {
    "id": "deb0884f-4606-4ab4-93f5-43a781e1f32d"
   },
   "source": [
    "### Dataset Link: https://www.archive.ics.uci.edu/dataset/891/cdc+diabetes+health+indicators"
   ]
  },
  {
   "cell_type": "markdown",
   "id": "24268dcc-9c1b-4bc9-803b-930bb7eaa68c",
   "metadata": {
    "id": "24268dcc-9c1b-4bc9-803b-930bb7eaa68c"
   },
   "source": [
    "## 0. Install and import libraries"
   ]
  },
  {
   "cell_type": "markdown",
   "id": "fadcda47-91d2-41e0-96f7-eceb060570dc",
   "metadata": {
    "id": "fadcda47-91d2-41e0-96f7-eceb060570dc"
   },
   "source": [
    "### 0.1. Check R version"
   ]
  },
  {
   "cell_type": "code",
   "execution_count": 181,
   "id": "a8502f57-a490-4226-ab07-808fa431ce9e",
   "metadata": {
    "colab": {
     "base_uri": "https://localhost:8080/",
     "height": 531
    },
    "executionInfo": {
     "elapsed": 397,
     "status": "ok",
     "timestamp": 1715182350446,
     "user": {
      "displayName": "Minh hiếu Phạm",
      "userId": "13621231777531886646"
     },
     "user_tz": -420
    },
    "id": "a8502f57-a490-4226-ab07-808fa431ce9e",
    "outputId": "d07bf0f6-afa5-47e5-eb11-844a33e26d32"
   },
   "outputs": [
    {
     "data": {
      "text/html": [
       "<dl>\n",
       "\t<dt>$platform</dt>\n",
       "\t\t<dd>'x86_64-w64-mingw32'</dd>\n",
       "\t<dt>$arch</dt>\n",
       "\t\t<dd>'x86_64'</dd>\n",
       "\t<dt>$os</dt>\n",
       "\t\t<dd>'mingw32'</dd>\n",
       "\t<dt>$system</dt>\n",
       "\t\t<dd>'x86_64, mingw32'</dd>\n",
       "\t<dt>$status</dt>\n",
       "\t\t<dd>''</dd>\n",
       "\t<dt>$major</dt>\n",
       "\t\t<dd>'4'</dd>\n",
       "\t<dt>$minor</dt>\n",
       "\t\t<dd>'0.5'</dd>\n",
       "\t<dt>$year</dt>\n",
       "\t\t<dd>'2021'</dd>\n",
       "\t<dt>$month</dt>\n",
       "\t\t<dd>'03'</dd>\n",
       "\t<dt>$day</dt>\n",
       "\t\t<dd>'31'</dd>\n",
       "\t<dt>$`svn rev`</dt>\n",
       "\t\t<dd>'80133'</dd>\n",
       "\t<dt>$language</dt>\n",
       "\t\t<dd>'R'</dd>\n",
       "\t<dt>$version.string</dt>\n",
       "\t\t<dd>'R version 4.0.5 (2021-03-31)'</dd>\n",
       "\t<dt>$nickname</dt>\n",
       "\t\t<dd>'Shake and Throw'</dd>\n",
       "</dl>\n"
      ],
      "text/latex": [
       "\\begin{description}\n",
       "\\item[\\$platform] 'x86\\_64-w64-mingw32'\n",
       "\\item[\\$arch] 'x86\\_64'\n",
       "\\item[\\$os] 'mingw32'\n",
       "\\item[\\$system] 'x86\\_64, mingw32'\n",
       "\\item[\\$status] ''\n",
       "\\item[\\$major] '4'\n",
       "\\item[\\$minor] '0.5'\n",
       "\\item[\\$year] '2021'\n",
       "\\item[\\$month] '03'\n",
       "\\item[\\$day] '31'\n",
       "\\item[\\$`svn rev`] '80133'\n",
       "\\item[\\$language] 'R'\n",
       "\\item[\\$version.string] 'R version 4.0.5 (2021-03-31)'\n",
       "\\item[\\$nickname] 'Shake and Throw'\n",
       "\\end{description}\n"
      ],
      "text/markdown": [
       "$platform\n",
       ":   'x86_64-w64-mingw32'\n",
       "$arch\n",
       ":   'x86_64'\n",
       "$os\n",
       ":   'mingw32'\n",
       "$system\n",
       ":   'x86_64, mingw32'\n",
       "$status\n",
       ":   ''\n",
       "$major\n",
       ":   '4'\n",
       "$minor\n",
       ":   '0.5'\n",
       "$year\n",
       ":   '2021'\n",
       "$month\n",
       ":   '03'\n",
       "$day\n",
       ":   '31'\n",
       "$`svn rev`\n",
       ":   '80133'\n",
       "$language\n",
       ":   'R'\n",
       "$version.string\n",
       ":   'R version 4.0.5 (2021-03-31)'\n",
       "$nickname\n",
       ":   'Shake and Throw'\n",
       "\n",
       "\n"
      ],
      "text/plain": [
       "$platform\n",
       "[1] \"x86_64-w64-mingw32\"\n",
       "\n",
       "$arch\n",
       "[1] \"x86_64\"\n",
       "\n",
       "$os\n",
       "[1] \"mingw32\"\n",
       "\n",
       "$system\n",
       "[1] \"x86_64, mingw32\"\n",
       "\n",
       "$status\n",
       "[1] \"\"\n",
       "\n",
       "$major\n",
       "[1] \"4\"\n",
       "\n",
       "$minor\n",
       "[1] \"0.5\"\n",
       "\n",
       "$year\n",
       "[1] \"2021\"\n",
       "\n",
       "$month\n",
       "[1] \"03\"\n",
       "\n",
       "$day\n",
       "[1] \"31\"\n",
       "\n",
       "$`svn rev`\n",
       "[1] \"80133\"\n",
       "\n",
       "$language\n",
       "[1] \"R\"\n",
       "\n",
       "$version.string\n",
       "[1] \"R version 4.0.5 (2021-03-31)\"\n",
       "\n",
       "$nickname\n",
       "[1] \"Shake and Throw\"\n"
      ]
     },
     "metadata": {},
     "output_type": "display_data"
    }
   ],
   "source": [
    "R.Version()"
   ]
  },
  {
   "cell_type": "markdown",
   "id": "8fb3de35-59ae-4343-890b-5c3879386338",
   "metadata": {
    "id": "8fb3de35-59ae-4343-890b-5c3879386338"
   },
   "source": [
    "### 0.2. Install"
   ]
  },
  {
   "cell_type": "code",
   "execution_count": 182,
   "id": "f6cb5ab9-48a8-44f5-ae56-4b29fcaa115f",
   "metadata": {
    "executionInfo": {
     "elapsed": 11,
     "status": "ok",
     "timestamp": 1715182351695,
     "user": {
      "displayName": "Minh hiếu Phạm",
      "userId": "13621231777531886646"
     },
     "user_tz": -420
    },
    "id": "f6cb5ab9-48a8-44f5-ae56-4b29fcaa115f"
   },
   "outputs": [],
   "source": [
    "# INSTALL THESE PACKAGES IN CONDA TERMINAL\n",
    "# install.packages(\"ggplot2\") / conda install r-ggplot2\n",
    "# install.packages(\"psych\") / conda install r-psych\n",
    "# install.packages(\"DescTools\") / conda install r-DescTools\n",
    "# install.packages(\"BSDA\") / conda install r-BSDA\n",
    "# install.packages(\"gmodels\") / conda install r-gmodels\n",
    "# install.packages(\"rcompanion\") / conda install r-rcompanion\n",
    "# install.packages(\"pcaPP\") / conda install r-pcaPP\n",
    "# install.packages(\"corrplot\") / conda install r-corrplot\n",
    "# install.packages(\"caret\") / conda install r-caret\n",
    "# install.packages(\"MASS\") / conda install r-MASS\n",
    "# install.packages(\"pROC\") / conda install r-pROC\n",
    "# install.packages(\"DHARMa\") / conda install r-DHARMa"
   ]
  },
  {
   "cell_type": "markdown",
   "id": "6d09d272-1ddb-40e3-9d79-5fc9a6781023",
   "metadata": {
    "id": "6d09d272-1ddb-40e3-9d79-5fc9a6781023"
   },
   "source": [
    "### 0.3. Import"
   ]
  },
  {
   "cell_type": "code",
   "execution_count": 313,
   "id": "54957588-c263-485b-ad1d-a36ffd93e607",
   "metadata": {
    "colab": {
     "base_uri": "https://localhost:8080/"
    },
    "executionInfo": {
     "elapsed": 4152,
     "status": "ok",
     "timestamp": 1715182355837,
     "user": {
      "displayName": "Minh hiếu Phạm",
      "userId": "13621231777531886646"
     },
     "user_tz": -420
    },
    "id": "54957588-c263-485b-ad1d-a36ffd93e607",
    "outputId": "c785796e-388d-4b24-b68e-97e946e5971c",
    "scrolled": true
   },
   "outputs": [
    {
     "name": "stderr",
     "output_type": "stream",
     "text": [
      "Loaded ROSE 0.0-4\n",
      "\n",
      "\n"
     ]
    }
   ],
   "source": [
    "library(ggplot2)\n",
    "library(psych)\n",
    "library(DescTools)\n",
    "library(BSDA)\n",
    "library(gmodels)\n",
    "library(rcompanion)\n",
    "library(pcaPP)\n",
    "library(corrplot)\n",
    "library(caret)\n",
    "library(MASS)\n",
    "library(pROC)\n",
    "library(DHARMa)\n",
    "library(ROSE)"
   ]
  },
  {
   "cell_type": "markdown",
   "id": "d2eed1fd-45f9-484e-a5c7-48afc59a0d94",
   "metadata": {
    "executionInfo": {
     "elapsed": 17,
     "status": "ok",
     "timestamp": 1715182355838,
     "user": {
      "displayName": "Minh hiếu Phạm",
      "userId": "13621231777531886646"
     },
     "user_tz": -420
    },
    "id": "f1c3815e-3de9-4a6f-9af1-f379a1bfaca8"
   },
   "source": [
    "### 0.4. Constants"
   ]
  },
  {
   "cell_type": "code",
   "execution_count": 184,
   "id": "890b3957-3123-4894-963b-2daf43112f5b",
   "metadata": {
    "executionInfo": {
     "elapsed": 16,
     "status": "ok",
     "timestamp": 1715182355838,
     "user": {
      "displayName": "Minh hiếu Phạm",
      "userId": "13621231777531886646"
     },
     "user_tz": -420
    },
    "id": "890b3957-3123-4894-963b-2daf43112f5b"
   },
   "outputs": [],
   "source": [
    "SEED = 123\n",
    "MAIN_COLOR = \"#1155cc\""
   ]
  },
  {
   "cell_type": "markdown",
   "id": "da0c30e4-e50c-47ed-acd6-7053b9751020",
   "metadata": {
    "id": "da0c30e4-e50c-47ed-acd6-7053b9751020"
   },
   "source": [
    "## 1. Import Data"
   ]
  },
  {
   "cell_type": "code",
   "execution_count": 185,
   "id": "d18a7dba-cc4f-451a-ab11-0aec662256c5",
   "metadata": {
    "executionInfo": {
     "elapsed": 3147,
     "status": "ok",
     "timestamp": 1715182358969,
     "user": {
      "displayName": "Minh hiếu Phạm",
      "userId": "13621231777531886646"
     },
     "user_tz": -420
    },
    "id": "d18a7dba-cc4f-451a-ab11-0aec662256c5"
   },
   "outputs": [],
   "source": [
    "input_data = read.csv(\"diabetes_full_data.csv\")"
   ]
  },
  {
   "cell_type": "code",
   "execution_count": 186,
   "id": "eb04da3a-f418-48cb-880b-e697c54c0cd4",
   "metadata": {
    "executionInfo": {
     "elapsed": 26,
     "status": "ok",
     "timestamp": 1715182358970,
     "user": {
      "displayName": "Minh hiếu Phạm",
      "userId": "13621231777531886646"
     },
     "user_tz": -420
    },
    "id": "eb04da3a-f418-48cb-880b-e697c54c0cd4"
   },
   "outputs": [],
   "source": [
    "df = data.frame(input_data)"
   ]
  },
  {
   "cell_type": "code",
   "execution_count": 187,
   "id": "36d9ec88-07bb-405a-823c-d0f539fac490",
   "metadata": {
    "colab": {
     "base_uri": "https://localhost:8080/",
     "height": 1000
    },
    "executionInfo": {
     "elapsed": 25,
     "status": "ok",
     "timestamp": 1715182358970,
     "user": {
      "displayName": "Minh hiếu Phạm",
      "userId": "13621231777531886646"
     },
     "user_tz": -420
    },
    "id": "36d9ec88-07bb-405a-823c-d0f539fac490",
    "outputId": "837d8582-e81e-4f6c-dc12-d37d49339f21"
   },
   "outputs": [
    {
     "data": {
      "text/html": [
       "<table class=\"dataframe\">\n",
       "<caption>A data.frame: 253680 × 23</caption>\n",
       "<thead>\n",
       "\t<tr><th scope=col>X</th><th scope=col>HighBP</th><th scope=col>HighChol</th><th scope=col>CholCheck</th><th scope=col>BMI</th><th scope=col>Smoker</th><th scope=col>Stroke</th><th scope=col>HeartDiseaseorAttack</th><th scope=col>PhysActivity</th><th scope=col>Fruits</th><th scope=col>⋯</th><th scope=col>NoDocbcCost</th><th scope=col>GenHlth</th><th scope=col>MentHlth</th><th scope=col>PhysHlth</th><th scope=col>DiffWalk</th><th scope=col>Sex</th><th scope=col>Age</th><th scope=col>Education</th><th scope=col>Income</th><th scope=col>Diabetes_binary</th></tr>\n",
       "\t<tr><th scope=col>&lt;int&gt;</th><th scope=col>&lt;int&gt;</th><th scope=col>&lt;int&gt;</th><th scope=col>&lt;int&gt;</th><th scope=col>&lt;int&gt;</th><th scope=col>&lt;int&gt;</th><th scope=col>&lt;int&gt;</th><th scope=col>&lt;int&gt;</th><th scope=col>&lt;int&gt;</th><th scope=col>&lt;int&gt;</th><th scope=col>⋯</th><th scope=col>&lt;int&gt;</th><th scope=col>&lt;int&gt;</th><th scope=col>&lt;int&gt;</th><th scope=col>&lt;int&gt;</th><th scope=col>&lt;int&gt;</th><th scope=col>&lt;int&gt;</th><th scope=col>&lt;int&gt;</th><th scope=col>&lt;int&gt;</th><th scope=col>&lt;int&gt;</th><th scope=col>&lt;int&gt;</th></tr>\n",
       "</thead>\n",
       "<tbody>\n",
       "\t<tr><td> 0</td><td>1</td><td>1</td><td>1</td><td>40</td><td>1</td><td>0</td><td>0</td><td>0</td><td>0</td><td>⋯</td><td>0</td><td>5</td><td>18</td><td>15</td><td>1</td><td>0</td><td> 9</td><td>4</td><td>3</td><td>0</td></tr>\n",
       "\t<tr><td> 1</td><td>0</td><td>0</td><td>0</td><td>25</td><td>1</td><td>0</td><td>0</td><td>1</td><td>0</td><td>⋯</td><td>1</td><td>3</td><td> 0</td><td> 0</td><td>0</td><td>0</td><td> 7</td><td>6</td><td>1</td><td>0</td></tr>\n",
       "\t<tr><td> 2</td><td>1</td><td>1</td><td>1</td><td>28</td><td>0</td><td>0</td><td>0</td><td>0</td><td>1</td><td>⋯</td><td>1</td><td>5</td><td>30</td><td>30</td><td>1</td><td>0</td><td> 9</td><td>4</td><td>8</td><td>0</td></tr>\n",
       "\t<tr><td> 3</td><td>1</td><td>0</td><td>1</td><td>27</td><td>0</td><td>0</td><td>0</td><td>1</td><td>1</td><td>⋯</td><td>0</td><td>2</td><td> 0</td><td> 0</td><td>0</td><td>0</td><td>11</td><td>3</td><td>6</td><td>0</td></tr>\n",
       "\t<tr><td> 4</td><td>1</td><td>1</td><td>1</td><td>24</td><td>0</td><td>0</td><td>0</td><td>1</td><td>1</td><td>⋯</td><td>0</td><td>2</td><td> 3</td><td> 0</td><td>0</td><td>0</td><td>11</td><td>5</td><td>4</td><td>0</td></tr>\n",
       "\t<tr><td> 5</td><td>1</td><td>1</td><td>1</td><td>25</td><td>1</td><td>0</td><td>0</td><td>1</td><td>1</td><td>⋯</td><td>0</td><td>2</td><td> 0</td><td> 2</td><td>0</td><td>1</td><td>10</td><td>6</td><td>8</td><td>0</td></tr>\n",
       "\t<tr><td> 6</td><td>1</td><td>0</td><td>1</td><td>30</td><td>1</td><td>0</td><td>0</td><td>0</td><td>0</td><td>⋯</td><td>0</td><td>3</td><td> 0</td><td>14</td><td>0</td><td>0</td><td> 9</td><td>6</td><td>7</td><td>0</td></tr>\n",
       "\t<tr><td> 7</td><td>1</td><td>1</td><td>1</td><td>25</td><td>1</td><td>0</td><td>0</td><td>1</td><td>0</td><td>⋯</td><td>0</td><td>3</td><td> 0</td><td> 0</td><td>1</td><td>0</td><td>11</td><td>4</td><td>4</td><td>0</td></tr>\n",
       "\t<tr><td> 8</td><td>1</td><td>1</td><td>1</td><td>30</td><td>1</td><td>0</td><td>1</td><td>0</td><td>1</td><td>⋯</td><td>0</td><td>5</td><td>30</td><td>30</td><td>1</td><td>0</td><td> 9</td><td>5</td><td>1</td><td>1</td></tr>\n",
       "\t<tr><td> 9</td><td>0</td><td>0</td><td>1</td><td>24</td><td>0</td><td>0</td><td>0</td><td>0</td><td>0</td><td>⋯</td><td>0</td><td>2</td><td> 0</td><td> 0</td><td>0</td><td>1</td><td> 8</td><td>4</td><td>3</td><td>0</td></tr>\n",
       "\t<tr><td>10</td><td>0</td><td>0</td><td>1</td><td>25</td><td>1</td><td>0</td><td>0</td><td>1</td><td>1</td><td>⋯</td><td>0</td><td>3</td><td> 0</td><td> 0</td><td>0</td><td>1</td><td>13</td><td>6</td><td>8</td><td>1</td></tr>\n",
       "\t<tr><td>11</td><td>1</td><td>1</td><td>1</td><td>34</td><td>1</td><td>0</td><td>0</td><td>0</td><td>1</td><td>⋯</td><td>0</td><td>3</td><td> 0</td><td>30</td><td>1</td><td>0</td><td>10</td><td>5</td><td>1</td><td>0</td></tr>\n",
       "\t<tr><td>12</td><td>0</td><td>0</td><td>1</td><td>26</td><td>1</td><td>0</td><td>0</td><td>0</td><td>0</td><td>⋯</td><td>0</td><td>3</td><td> 0</td><td>15</td><td>0</td><td>0</td><td> 7</td><td>5</td><td>7</td><td>0</td></tr>\n",
       "\t<tr><td>13</td><td>1</td><td>1</td><td>1</td><td>28</td><td>0</td><td>0</td><td>0</td><td>0</td><td>0</td><td>⋯</td><td>0</td><td>4</td><td> 0</td><td> 0</td><td>1</td><td>0</td><td>11</td><td>4</td><td>6</td><td>1</td></tr>\n",
       "\t<tr><td>14</td><td>0</td><td>1</td><td>1</td><td>33</td><td>1</td><td>1</td><td>0</td><td>1</td><td>0</td><td>⋯</td><td>1</td><td>4</td><td>30</td><td>28</td><td>0</td><td>0</td><td> 4</td><td>6</td><td>2</td><td>0</td></tr>\n",
       "\t<tr><td>15</td><td>1</td><td>0</td><td>1</td><td>33</td><td>0</td><td>0</td><td>0</td><td>1</td><td>0</td><td>⋯</td><td>0</td><td>2</td><td> 5</td><td> 0</td><td>0</td><td>0</td><td> 6</td><td>6</td><td>8</td><td>0</td></tr>\n",
       "\t<tr><td>16</td><td>1</td><td>1</td><td>1</td><td>21</td><td>0</td><td>0</td><td>0</td><td>1</td><td>1</td><td>⋯</td><td>0</td><td>3</td><td> 0</td><td> 0</td><td>0</td><td>0</td><td>10</td><td>4</td><td>3</td><td>0</td></tr>\n",
       "\t<tr><td>17</td><td>0</td><td>0</td><td>1</td><td>23</td><td>1</td><td>0</td><td>0</td><td>1</td><td>0</td><td>⋯</td><td>0</td><td>2</td><td> 0</td><td> 0</td><td>0</td><td>1</td><td> 7</td><td>5</td><td>6</td><td>1</td></tr>\n",
       "\t<tr><td>18</td><td>0</td><td>0</td><td>0</td><td>23</td><td>0</td><td>0</td><td>0</td><td>0</td><td>0</td><td>⋯</td><td>0</td><td>2</td><td>15</td><td> 0</td><td>0</td><td>0</td><td> 2</td><td>6</td><td>7</td><td>0</td></tr>\n",
       "\t<tr><td>19</td><td>0</td><td>1</td><td>1</td><td>28</td><td>0</td><td>0</td><td>0</td><td>0</td><td>0</td><td>⋯</td><td>0</td><td>2</td><td>10</td><td> 0</td><td>0</td><td>1</td><td> 4</td><td>6</td><td>8</td><td>0</td></tr>\n",
       "\t<tr><td>20</td><td>1</td><td>1</td><td>1</td><td>22</td><td>0</td><td>1</td><td>1</td><td>0</td><td>1</td><td>⋯</td><td>0</td><td>3</td><td>30</td><td> 0</td><td>1</td><td>0</td><td>12</td><td>4</td><td>4</td><td>0</td></tr>\n",
       "\t<tr><td>21</td><td>1</td><td>1</td><td>1</td><td>38</td><td>1</td><td>0</td><td>0</td><td>0</td><td>1</td><td>⋯</td><td>0</td><td>5</td><td>15</td><td>30</td><td>1</td><td>0</td><td>13</td><td>2</td><td>3</td><td>0</td></tr>\n",
       "\t<tr><td>22</td><td>0</td><td>0</td><td>1</td><td>28</td><td>1</td><td>0</td><td>0</td><td>0</td><td>0</td><td>⋯</td><td>0</td><td>3</td><td> 0</td><td> 7</td><td>0</td><td>1</td><td> 5</td><td>5</td><td>5</td><td>0</td></tr>\n",
       "\t<tr><td>23</td><td>1</td><td>0</td><td>1</td><td>27</td><td>0</td><td>0</td><td>0</td><td>1</td><td>1</td><td>⋯</td><td>0</td><td>1</td><td> 0</td><td> 0</td><td>0</td><td>0</td><td>13</td><td>5</td><td>4</td><td>1</td></tr>\n",
       "\t<tr><td>24</td><td>1</td><td>1</td><td>1</td><td>28</td><td>1</td><td>0</td><td>0</td><td>0</td><td>1</td><td>⋯</td><td>0</td><td>3</td><td> 6</td><td> 0</td><td>1</td><td>0</td><td> 9</td><td>4</td><td>6</td><td>0</td></tr>\n",
       "\t<tr><td>25</td><td>0</td><td>0</td><td>1</td><td>32</td><td>0</td><td>0</td><td>0</td><td>1</td><td>1</td><td>⋯</td><td>0</td><td>2</td><td> 0</td><td> 0</td><td>0</td><td>0</td><td> 5</td><td>6</td><td>8</td><td>0</td></tr>\n",
       "\t<tr><td>26</td><td>1</td><td>1</td><td>1</td><td>37</td><td>1</td><td>1</td><td>1</td><td>0</td><td>0</td><td>⋯</td><td>0</td><td>5</td><td> 0</td><td> 0</td><td>1</td><td>1</td><td>10</td><td>6</td><td>5</td><td>1</td></tr>\n",
       "\t<tr><td>27</td><td>1</td><td>1</td><td>1</td><td>28</td><td>1</td><td>0</td><td>1</td><td>0</td><td>0</td><td>⋯</td><td>0</td><td>4</td><td> 0</td><td> 0</td><td>0</td><td>1</td><td>12</td><td>2</td><td>4</td><td>1</td></tr>\n",
       "\t<tr><td>28</td><td>1</td><td>1</td><td>1</td><td>27</td><td>1</td><td>0</td><td>0</td><td>0</td><td>1</td><td>⋯</td><td>0</td><td>4</td><td>20</td><td>20</td><td>1</td><td>0</td><td> 8</td><td>4</td><td>7</td><td>1</td></tr>\n",
       "\t<tr><td>29</td><td>0</td><td>1</td><td>1</td><td>31</td><td>1</td><td>0</td><td>0</td><td>1</td><td>1</td><td>⋯</td><td>0</td><td>1</td><td> 0</td><td> 0</td><td>0</td><td>1</td><td>12</td><td>6</td><td>8</td><td>0</td></tr>\n",
       "\t<tr><td>⋮</td><td>⋮</td><td>⋮</td><td>⋮</td><td>⋮</td><td>⋮</td><td>⋮</td><td>⋮</td><td>⋮</td><td>⋮</td><td>⋱</td><td>⋮</td><td>⋮</td><td>⋮</td><td>⋮</td><td>⋮</td><td>⋮</td><td>⋮</td><td>⋮</td><td>⋮</td><td>⋮</td></tr>\n",
       "\t<tr><td>253650</td><td>1</td><td>0</td><td>1</td><td>27</td><td>0</td><td>0</td><td>0</td><td>1</td><td>0</td><td>⋯</td><td>0</td><td>4</td><td> 0</td><td> 0</td><td>0</td><td>0</td><td> 5</td><td>4</td><td>2</td><td>0</td></tr>\n",
       "\t<tr><td>253651</td><td>0</td><td>0</td><td>1</td><td>24</td><td>0</td><td>0</td><td>0</td><td>1</td><td>1</td><td>⋯</td><td>1</td><td>1</td><td> 0</td><td> 0</td><td>0</td><td>1</td><td> 2</td><td>6</td><td>3</td><td>0</td></tr>\n",
       "\t<tr><td>253652</td><td>0</td><td>1</td><td>1</td><td>27</td><td>0</td><td>0</td><td>0</td><td>1</td><td>1</td><td>⋯</td><td>0</td><td>4</td><td> 0</td><td>30</td><td>0</td><td>1</td><td>11</td><td>2</td><td>3</td><td>1</td></tr>\n",
       "\t<tr><td>253653</td><td>0</td><td>0</td><td>1</td><td>33</td><td>1</td><td>0</td><td>0</td><td>0</td><td>1</td><td>⋯</td><td>0</td><td>4</td><td> 0</td><td>15</td><td>0</td><td>1</td><td>10</td><td>6</td><td>3</td><td>0</td></tr>\n",
       "\t<tr><td>253654</td><td>0</td><td>0</td><td>1</td><td>26</td><td>1</td><td>0</td><td>0</td><td>1</td><td>1</td><td>⋯</td><td>0</td><td>2</td><td> 1</td><td> 0</td><td>0</td><td>1</td><td> 3</td><td>3</td><td>1</td><td>0</td></tr>\n",
       "\t<tr><td>253655</td><td>0</td><td>0</td><td>1</td><td>28</td><td>0</td><td>0</td><td>0</td><td>1</td><td>1</td><td>⋯</td><td>0</td><td>2</td><td> 0</td><td> 0</td><td>0</td><td>0</td><td> 2</td><td>6</td><td>4</td><td>0</td></tr>\n",
       "\t<tr><td>253656</td><td>0</td><td>0</td><td>1</td><td>25</td><td>0</td><td>0</td><td>0</td><td>1</td><td>1</td><td>⋯</td><td>0</td><td>1</td><td> 0</td><td> 0</td><td>0</td><td>0</td><td> 4</td><td>6</td><td>8</td><td>0</td></tr>\n",
       "\t<tr><td>253657</td><td>0</td><td>1</td><td>1</td><td>24</td><td>0</td><td>0</td><td>0</td><td>0</td><td>0</td><td>⋯</td><td>0</td><td>3</td><td> 0</td><td> 0</td><td>0</td><td>0</td><td> 7</td><td>5</td><td>3</td><td>0</td></tr>\n",
       "\t<tr><td>253658</td><td>0</td><td>0</td><td>0</td><td>27</td><td>0</td><td>0</td><td>0</td><td>1</td><td>0</td><td>⋯</td><td>1</td><td>2</td><td> 0</td><td> 0</td><td>0</td><td>0</td><td> 3</td><td>6</td><td>5</td><td>0</td></tr>\n",
       "\t<tr><td>253659</td><td>0</td><td>1</td><td>1</td><td>37</td><td>0</td><td>0</td><td>0</td><td>0</td><td>0</td><td>⋯</td><td>0</td><td>4</td><td> 0</td><td> 0</td><td>0</td><td>0</td><td> 6</td><td>4</td><td>1</td><td>1</td></tr>\n",
       "\t<tr><td>253660</td><td>0</td><td>1</td><td>1</td><td>34</td><td>1</td><td>0</td><td>0</td><td>0</td><td>1</td><td>⋯</td><td>0</td><td>3</td><td> 0</td><td> 2</td><td>1</td><td>0</td><td> 7</td><td>4</td><td>3</td><td>0</td></tr>\n",
       "\t<tr><td>253661</td><td>1</td><td>0</td><td>1</td><td>33</td><td>0</td><td>0</td><td>0</td><td>1</td><td>0</td><td>⋯</td><td>1</td><td>3</td><td> 0</td><td> 2</td><td>1</td><td>0</td><td> 6</td><td>6</td><td>6</td><td>0</td></tr>\n",
       "\t<tr><td>253662</td><td>0</td><td>0</td><td>1</td><td>16</td><td>0</td><td>0</td><td>0</td><td>1</td><td>0</td><td>⋯</td><td>0</td><td>1</td><td> 0</td><td> 0</td><td>0</td><td>0</td><td> 5</td><td>6</td><td>2</td><td>0</td></tr>\n",
       "\t<tr><td>253663</td><td>0</td><td>0</td><td>1</td><td>23</td><td>0</td><td>0</td><td>0</td><td>0</td><td>1</td><td>⋯</td><td>1</td><td>2</td><td> 0</td><td>30</td><td>0</td><td>0</td><td> 5</td><td>6</td><td>2</td><td>0</td></tr>\n",
       "\t<tr><td>253664</td><td>0</td><td>1</td><td>1</td><td>29</td><td>1</td><td>0</td><td>0</td><td>0</td><td>0</td><td>⋯</td><td>0</td><td>3</td><td> 0</td><td> 0</td><td>0</td><td>0</td><td> 6</td><td>6</td><td>4</td><td>0</td></tr>\n",
       "\t<tr><td>253665</td><td>0</td><td>1</td><td>1</td><td>17</td><td>0</td><td>0</td><td>0</td><td>0</td><td>0</td><td>⋯</td><td>1</td><td>4</td><td>30</td><td>30</td><td>0</td><td>0</td><td> 5</td><td>4</td><td>1</td><td>0</td></tr>\n",
       "\t<tr><td>253666</td><td>1</td><td>0</td><td>1</td><td>23</td><td>0</td><td>0</td><td>0</td><td>0</td><td>1</td><td>⋯</td><td>0</td><td>3</td><td> 0</td><td>15</td><td>0</td><td>0</td><td> 6</td><td>5</td><td>2</td><td>0</td></tr>\n",
       "\t<tr><td>253667</td><td>1</td><td>1</td><td>1</td><td>28</td><td>1</td><td>0</td><td>0</td><td>0</td><td>0</td><td>⋯</td><td>0</td><td>3</td><td> 0</td><td> 0</td><td>0</td><td>0</td><td>11</td><td>4</td><td>7</td><td>0</td></tr>\n",
       "\t<tr><td>253668</td><td>0</td><td>1</td><td>1</td><td>29</td><td>1</td><td>0</td><td>1</td><td>0</td><td>1</td><td>⋯</td><td>0</td><td>2</td><td> 0</td><td> 0</td><td>1</td><td>1</td><td>10</td><td>3</td><td>6</td><td>1</td></tr>\n",
       "\t<tr><td>253669</td><td>0</td><td>1</td><td>1</td><td>27</td><td>0</td><td>0</td><td>0</td><td>0</td><td>0</td><td>⋯</td><td>1</td><td>1</td><td> 0</td><td> 3</td><td>0</td><td>1</td><td> 6</td><td>2</td><td>4</td><td>0</td></tr>\n",
       "\t<tr><td>253670</td><td>1</td><td>1</td><td>1</td><td>25</td><td>0</td><td>0</td><td>1</td><td>0</td><td>1</td><td>⋯</td><td>0</td><td>5</td><td>15</td><td> 0</td><td>1</td><td>0</td><td>13</td><td>6</td><td>4</td><td>1</td></tr>\n",
       "\t<tr><td>253671</td><td>1</td><td>1</td><td>1</td><td>23</td><td>0</td><td>1</td><td>1</td><td>0</td><td>0</td><td>⋯</td><td>1</td><td>4</td><td> 0</td><td> 5</td><td>0</td><td>1</td><td> 8</td><td>3</td><td>2</td><td>0</td></tr>\n",
       "\t<tr><td>253672</td><td>1</td><td>0</td><td>1</td><td>30</td><td>1</td><td>0</td><td>1</td><td>1</td><td>1</td><td>⋯</td><td>0</td><td>3</td><td> 0</td><td> 0</td><td>0</td><td>1</td><td>12</td><td>2</td><td>1</td><td>0</td></tr>\n",
       "\t<tr><td>253673</td><td>1</td><td>0</td><td>1</td><td>42</td><td>0</td><td>0</td><td>0</td><td>1</td><td>1</td><td>⋯</td><td>0</td><td>3</td><td>14</td><td> 4</td><td>0</td><td>1</td><td> 3</td><td>6</td><td>8</td><td>0</td></tr>\n",
       "\t<tr><td>253674</td><td>0</td><td>0</td><td>1</td><td>27</td><td>0</td><td>0</td><td>0</td><td>0</td><td>0</td><td>⋯</td><td>0</td><td>1</td><td> 0</td><td> 0</td><td>0</td><td>0</td><td> 3</td><td>6</td><td>5</td><td>0</td></tr>\n",
       "\t<tr><td>253675</td><td>1</td><td>1</td><td>1</td><td>45</td><td>0</td><td>0</td><td>0</td><td>0</td><td>1</td><td>⋯</td><td>0</td><td>3</td><td> 0</td><td> 5</td><td>0</td><td>1</td><td> 5</td><td>6</td><td>7</td><td>0</td></tr>\n",
       "\t<tr><td>253676</td><td>1</td><td>1</td><td>1</td><td>18</td><td>0</td><td>0</td><td>0</td><td>0</td><td>0</td><td>⋯</td><td>0</td><td>4</td><td> 0</td><td> 0</td><td>1</td><td>0</td><td>11</td><td>2</td><td>4</td><td>1</td></tr>\n",
       "\t<tr><td>253677</td><td>0</td><td>0</td><td>1</td><td>28</td><td>0</td><td>0</td><td>0</td><td>1</td><td>1</td><td>⋯</td><td>0</td><td>1</td><td> 0</td><td> 0</td><td>0</td><td>0</td><td> 2</td><td>5</td><td>2</td><td>0</td></tr>\n",
       "\t<tr><td>253678</td><td>1</td><td>0</td><td>1</td><td>23</td><td>0</td><td>0</td><td>0</td><td>0</td><td>1</td><td>⋯</td><td>0</td><td>3</td><td> 0</td><td> 0</td><td>0</td><td>1</td><td> 7</td><td>5</td><td>1</td><td>0</td></tr>\n",
       "\t<tr><td>253679</td><td>1</td><td>1</td><td>1</td><td>25</td><td>0</td><td>0</td><td>1</td><td>1</td><td>1</td><td>⋯</td><td>0</td><td>2</td><td> 0</td><td> 0</td><td>0</td><td>0</td><td> 9</td><td>6</td><td>2</td><td>1</td></tr>\n",
       "</tbody>\n",
       "</table>\n"
      ],
      "text/latex": [
       "A data.frame: 253680 × 23\n",
       "\\begin{tabular}{lllllllllllllllllllll}\n",
       " X & HighBP & HighChol & CholCheck & BMI & Smoker & Stroke & HeartDiseaseorAttack & PhysActivity & Fruits & ⋯ & NoDocbcCost & GenHlth & MentHlth & PhysHlth & DiffWalk & Sex & Age & Education & Income & Diabetes\\_binary\\\\\n",
       " <int> & <int> & <int> & <int> & <int> & <int> & <int> & <int> & <int> & <int> & ⋯ & <int> & <int> & <int> & <int> & <int> & <int> & <int> & <int> & <int> & <int>\\\\\n",
       "\\hline\n",
       "\t  0 & 1 & 1 & 1 & 40 & 1 & 0 & 0 & 0 & 0 & ⋯ & 0 & 5 & 18 & 15 & 1 & 0 &  9 & 4 & 3 & 0\\\\\n",
       "\t  1 & 0 & 0 & 0 & 25 & 1 & 0 & 0 & 1 & 0 & ⋯ & 1 & 3 &  0 &  0 & 0 & 0 &  7 & 6 & 1 & 0\\\\\n",
       "\t  2 & 1 & 1 & 1 & 28 & 0 & 0 & 0 & 0 & 1 & ⋯ & 1 & 5 & 30 & 30 & 1 & 0 &  9 & 4 & 8 & 0\\\\\n",
       "\t  3 & 1 & 0 & 1 & 27 & 0 & 0 & 0 & 1 & 1 & ⋯ & 0 & 2 &  0 &  0 & 0 & 0 & 11 & 3 & 6 & 0\\\\\n",
       "\t  4 & 1 & 1 & 1 & 24 & 0 & 0 & 0 & 1 & 1 & ⋯ & 0 & 2 &  3 &  0 & 0 & 0 & 11 & 5 & 4 & 0\\\\\n",
       "\t  5 & 1 & 1 & 1 & 25 & 1 & 0 & 0 & 1 & 1 & ⋯ & 0 & 2 &  0 &  2 & 0 & 1 & 10 & 6 & 8 & 0\\\\\n",
       "\t  6 & 1 & 0 & 1 & 30 & 1 & 0 & 0 & 0 & 0 & ⋯ & 0 & 3 &  0 & 14 & 0 & 0 &  9 & 6 & 7 & 0\\\\\n",
       "\t  7 & 1 & 1 & 1 & 25 & 1 & 0 & 0 & 1 & 0 & ⋯ & 0 & 3 &  0 &  0 & 1 & 0 & 11 & 4 & 4 & 0\\\\\n",
       "\t  8 & 1 & 1 & 1 & 30 & 1 & 0 & 1 & 0 & 1 & ⋯ & 0 & 5 & 30 & 30 & 1 & 0 &  9 & 5 & 1 & 1\\\\\n",
       "\t  9 & 0 & 0 & 1 & 24 & 0 & 0 & 0 & 0 & 0 & ⋯ & 0 & 2 &  0 &  0 & 0 & 1 &  8 & 4 & 3 & 0\\\\\n",
       "\t 10 & 0 & 0 & 1 & 25 & 1 & 0 & 0 & 1 & 1 & ⋯ & 0 & 3 &  0 &  0 & 0 & 1 & 13 & 6 & 8 & 1\\\\\n",
       "\t 11 & 1 & 1 & 1 & 34 & 1 & 0 & 0 & 0 & 1 & ⋯ & 0 & 3 &  0 & 30 & 1 & 0 & 10 & 5 & 1 & 0\\\\\n",
       "\t 12 & 0 & 0 & 1 & 26 & 1 & 0 & 0 & 0 & 0 & ⋯ & 0 & 3 &  0 & 15 & 0 & 0 &  7 & 5 & 7 & 0\\\\\n",
       "\t 13 & 1 & 1 & 1 & 28 & 0 & 0 & 0 & 0 & 0 & ⋯ & 0 & 4 &  0 &  0 & 1 & 0 & 11 & 4 & 6 & 1\\\\\n",
       "\t 14 & 0 & 1 & 1 & 33 & 1 & 1 & 0 & 1 & 0 & ⋯ & 1 & 4 & 30 & 28 & 0 & 0 &  4 & 6 & 2 & 0\\\\\n",
       "\t 15 & 1 & 0 & 1 & 33 & 0 & 0 & 0 & 1 & 0 & ⋯ & 0 & 2 &  5 &  0 & 0 & 0 &  6 & 6 & 8 & 0\\\\\n",
       "\t 16 & 1 & 1 & 1 & 21 & 0 & 0 & 0 & 1 & 1 & ⋯ & 0 & 3 &  0 &  0 & 0 & 0 & 10 & 4 & 3 & 0\\\\\n",
       "\t 17 & 0 & 0 & 1 & 23 & 1 & 0 & 0 & 1 & 0 & ⋯ & 0 & 2 &  0 &  0 & 0 & 1 &  7 & 5 & 6 & 1\\\\\n",
       "\t 18 & 0 & 0 & 0 & 23 & 0 & 0 & 0 & 0 & 0 & ⋯ & 0 & 2 & 15 &  0 & 0 & 0 &  2 & 6 & 7 & 0\\\\\n",
       "\t 19 & 0 & 1 & 1 & 28 & 0 & 0 & 0 & 0 & 0 & ⋯ & 0 & 2 & 10 &  0 & 0 & 1 &  4 & 6 & 8 & 0\\\\\n",
       "\t 20 & 1 & 1 & 1 & 22 & 0 & 1 & 1 & 0 & 1 & ⋯ & 0 & 3 & 30 &  0 & 1 & 0 & 12 & 4 & 4 & 0\\\\\n",
       "\t 21 & 1 & 1 & 1 & 38 & 1 & 0 & 0 & 0 & 1 & ⋯ & 0 & 5 & 15 & 30 & 1 & 0 & 13 & 2 & 3 & 0\\\\\n",
       "\t 22 & 0 & 0 & 1 & 28 & 1 & 0 & 0 & 0 & 0 & ⋯ & 0 & 3 &  0 &  7 & 0 & 1 &  5 & 5 & 5 & 0\\\\\n",
       "\t 23 & 1 & 0 & 1 & 27 & 0 & 0 & 0 & 1 & 1 & ⋯ & 0 & 1 &  0 &  0 & 0 & 0 & 13 & 5 & 4 & 1\\\\\n",
       "\t 24 & 1 & 1 & 1 & 28 & 1 & 0 & 0 & 0 & 1 & ⋯ & 0 & 3 &  6 &  0 & 1 & 0 &  9 & 4 & 6 & 0\\\\\n",
       "\t 25 & 0 & 0 & 1 & 32 & 0 & 0 & 0 & 1 & 1 & ⋯ & 0 & 2 &  0 &  0 & 0 & 0 &  5 & 6 & 8 & 0\\\\\n",
       "\t 26 & 1 & 1 & 1 & 37 & 1 & 1 & 1 & 0 & 0 & ⋯ & 0 & 5 &  0 &  0 & 1 & 1 & 10 & 6 & 5 & 1\\\\\n",
       "\t 27 & 1 & 1 & 1 & 28 & 1 & 0 & 1 & 0 & 0 & ⋯ & 0 & 4 &  0 &  0 & 0 & 1 & 12 & 2 & 4 & 1\\\\\n",
       "\t 28 & 1 & 1 & 1 & 27 & 1 & 0 & 0 & 0 & 1 & ⋯ & 0 & 4 & 20 & 20 & 1 & 0 &  8 & 4 & 7 & 1\\\\\n",
       "\t 29 & 0 & 1 & 1 & 31 & 1 & 0 & 0 & 1 & 1 & ⋯ & 0 & 1 &  0 &  0 & 0 & 1 & 12 & 6 & 8 & 0\\\\\n",
       "\t ⋮ & ⋮ & ⋮ & ⋮ & ⋮ & ⋮ & ⋮ & ⋮ & ⋮ & ⋮ & ⋱ & ⋮ & ⋮ & ⋮ & ⋮ & ⋮ & ⋮ & ⋮ & ⋮ & ⋮ & ⋮\\\\\n",
       "\t 253650 & 1 & 0 & 1 & 27 & 0 & 0 & 0 & 1 & 0 & ⋯ & 0 & 4 &  0 &  0 & 0 & 0 &  5 & 4 & 2 & 0\\\\\n",
       "\t 253651 & 0 & 0 & 1 & 24 & 0 & 0 & 0 & 1 & 1 & ⋯ & 1 & 1 &  0 &  0 & 0 & 1 &  2 & 6 & 3 & 0\\\\\n",
       "\t 253652 & 0 & 1 & 1 & 27 & 0 & 0 & 0 & 1 & 1 & ⋯ & 0 & 4 &  0 & 30 & 0 & 1 & 11 & 2 & 3 & 1\\\\\n",
       "\t 253653 & 0 & 0 & 1 & 33 & 1 & 0 & 0 & 0 & 1 & ⋯ & 0 & 4 &  0 & 15 & 0 & 1 & 10 & 6 & 3 & 0\\\\\n",
       "\t 253654 & 0 & 0 & 1 & 26 & 1 & 0 & 0 & 1 & 1 & ⋯ & 0 & 2 &  1 &  0 & 0 & 1 &  3 & 3 & 1 & 0\\\\\n",
       "\t 253655 & 0 & 0 & 1 & 28 & 0 & 0 & 0 & 1 & 1 & ⋯ & 0 & 2 &  0 &  0 & 0 & 0 &  2 & 6 & 4 & 0\\\\\n",
       "\t 253656 & 0 & 0 & 1 & 25 & 0 & 0 & 0 & 1 & 1 & ⋯ & 0 & 1 &  0 &  0 & 0 & 0 &  4 & 6 & 8 & 0\\\\\n",
       "\t 253657 & 0 & 1 & 1 & 24 & 0 & 0 & 0 & 0 & 0 & ⋯ & 0 & 3 &  0 &  0 & 0 & 0 &  7 & 5 & 3 & 0\\\\\n",
       "\t 253658 & 0 & 0 & 0 & 27 & 0 & 0 & 0 & 1 & 0 & ⋯ & 1 & 2 &  0 &  0 & 0 & 0 &  3 & 6 & 5 & 0\\\\\n",
       "\t 253659 & 0 & 1 & 1 & 37 & 0 & 0 & 0 & 0 & 0 & ⋯ & 0 & 4 &  0 &  0 & 0 & 0 &  6 & 4 & 1 & 1\\\\\n",
       "\t 253660 & 0 & 1 & 1 & 34 & 1 & 0 & 0 & 0 & 1 & ⋯ & 0 & 3 &  0 &  2 & 1 & 0 &  7 & 4 & 3 & 0\\\\\n",
       "\t 253661 & 1 & 0 & 1 & 33 & 0 & 0 & 0 & 1 & 0 & ⋯ & 1 & 3 &  0 &  2 & 1 & 0 &  6 & 6 & 6 & 0\\\\\n",
       "\t 253662 & 0 & 0 & 1 & 16 & 0 & 0 & 0 & 1 & 0 & ⋯ & 0 & 1 &  0 &  0 & 0 & 0 &  5 & 6 & 2 & 0\\\\\n",
       "\t 253663 & 0 & 0 & 1 & 23 & 0 & 0 & 0 & 0 & 1 & ⋯ & 1 & 2 &  0 & 30 & 0 & 0 &  5 & 6 & 2 & 0\\\\\n",
       "\t 253664 & 0 & 1 & 1 & 29 & 1 & 0 & 0 & 0 & 0 & ⋯ & 0 & 3 &  0 &  0 & 0 & 0 &  6 & 6 & 4 & 0\\\\\n",
       "\t 253665 & 0 & 1 & 1 & 17 & 0 & 0 & 0 & 0 & 0 & ⋯ & 1 & 4 & 30 & 30 & 0 & 0 &  5 & 4 & 1 & 0\\\\\n",
       "\t 253666 & 1 & 0 & 1 & 23 & 0 & 0 & 0 & 0 & 1 & ⋯ & 0 & 3 &  0 & 15 & 0 & 0 &  6 & 5 & 2 & 0\\\\\n",
       "\t 253667 & 1 & 1 & 1 & 28 & 1 & 0 & 0 & 0 & 0 & ⋯ & 0 & 3 &  0 &  0 & 0 & 0 & 11 & 4 & 7 & 0\\\\\n",
       "\t 253668 & 0 & 1 & 1 & 29 & 1 & 0 & 1 & 0 & 1 & ⋯ & 0 & 2 &  0 &  0 & 1 & 1 & 10 & 3 & 6 & 1\\\\\n",
       "\t 253669 & 0 & 1 & 1 & 27 & 0 & 0 & 0 & 0 & 0 & ⋯ & 1 & 1 &  0 &  3 & 0 & 1 &  6 & 2 & 4 & 0\\\\\n",
       "\t 253670 & 1 & 1 & 1 & 25 & 0 & 0 & 1 & 0 & 1 & ⋯ & 0 & 5 & 15 &  0 & 1 & 0 & 13 & 6 & 4 & 1\\\\\n",
       "\t 253671 & 1 & 1 & 1 & 23 & 0 & 1 & 1 & 0 & 0 & ⋯ & 1 & 4 &  0 &  5 & 0 & 1 &  8 & 3 & 2 & 0\\\\\n",
       "\t 253672 & 1 & 0 & 1 & 30 & 1 & 0 & 1 & 1 & 1 & ⋯ & 0 & 3 &  0 &  0 & 0 & 1 & 12 & 2 & 1 & 0\\\\\n",
       "\t 253673 & 1 & 0 & 1 & 42 & 0 & 0 & 0 & 1 & 1 & ⋯ & 0 & 3 & 14 &  4 & 0 & 1 &  3 & 6 & 8 & 0\\\\\n",
       "\t 253674 & 0 & 0 & 1 & 27 & 0 & 0 & 0 & 0 & 0 & ⋯ & 0 & 1 &  0 &  0 & 0 & 0 &  3 & 6 & 5 & 0\\\\\n",
       "\t 253675 & 1 & 1 & 1 & 45 & 0 & 0 & 0 & 0 & 1 & ⋯ & 0 & 3 &  0 &  5 & 0 & 1 &  5 & 6 & 7 & 0\\\\\n",
       "\t 253676 & 1 & 1 & 1 & 18 & 0 & 0 & 0 & 0 & 0 & ⋯ & 0 & 4 &  0 &  0 & 1 & 0 & 11 & 2 & 4 & 1\\\\\n",
       "\t 253677 & 0 & 0 & 1 & 28 & 0 & 0 & 0 & 1 & 1 & ⋯ & 0 & 1 &  0 &  0 & 0 & 0 &  2 & 5 & 2 & 0\\\\\n",
       "\t 253678 & 1 & 0 & 1 & 23 & 0 & 0 & 0 & 0 & 1 & ⋯ & 0 & 3 &  0 &  0 & 0 & 1 &  7 & 5 & 1 & 0\\\\\n",
       "\t 253679 & 1 & 1 & 1 & 25 & 0 & 0 & 1 & 1 & 1 & ⋯ & 0 & 2 &  0 &  0 & 0 & 0 &  9 & 6 & 2 & 1\\\\\n",
       "\\end{tabular}\n"
      ],
      "text/markdown": [
       "\n",
       "A data.frame: 253680 × 23\n",
       "\n",
       "| X &lt;int&gt; | HighBP &lt;int&gt; | HighChol &lt;int&gt; | CholCheck &lt;int&gt; | BMI &lt;int&gt; | Smoker &lt;int&gt; | Stroke &lt;int&gt; | HeartDiseaseorAttack &lt;int&gt; | PhysActivity &lt;int&gt; | Fruits &lt;int&gt; | ⋯ ⋯ | NoDocbcCost &lt;int&gt; | GenHlth &lt;int&gt; | MentHlth &lt;int&gt; | PhysHlth &lt;int&gt; | DiffWalk &lt;int&gt; | Sex &lt;int&gt; | Age &lt;int&gt; | Education &lt;int&gt; | Income &lt;int&gt; | Diabetes_binary &lt;int&gt; |\n",
       "|---|---|---|---|---|---|---|---|---|---|---|---|---|---|---|---|---|---|---|---|---|\n",
       "|  0 | 1 | 1 | 1 | 40 | 1 | 0 | 0 | 0 | 0 | ⋯ | 0 | 5 | 18 | 15 | 1 | 0 |  9 | 4 | 3 | 0 |\n",
       "|  1 | 0 | 0 | 0 | 25 | 1 | 0 | 0 | 1 | 0 | ⋯ | 1 | 3 |  0 |  0 | 0 | 0 |  7 | 6 | 1 | 0 |\n",
       "|  2 | 1 | 1 | 1 | 28 | 0 | 0 | 0 | 0 | 1 | ⋯ | 1 | 5 | 30 | 30 | 1 | 0 |  9 | 4 | 8 | 0 |\n",
       "|  3 | 1 | 0 | 1 | 27 | 0 | 0 | 0 | 1 | 1 | ⋯ | 0 | 2 |  0 |  0 | 0 | 0 | 11 | 3 | 6 | 0 |\n",
       "|  4 | 1 | 1 | 1 | 24 | 0 | 0 | 0 | 1 | 1 | ⋯ | 0 | 2 |  3 |  0 | 0 | 0 | 11 | 5 | 4 | 0 |\n",
       "|  5 | 1 | 1 | 1 | 25 | 1 | 0 | 0 | 1 | 1 | ⋯ | 0 | 2 |  0 |  2 | 0 | 1 | 10 | 6 | 8 | 0 |\n",
       "|  6 | 1 | 0 | 1 | 30 | 1 | 0 | 0 | 0 | 0 | ⋯ | 0 | 3 |  0 | 14 | 0 | 0 |  9 | 6 | 7 | 0 |\n",
       "|  7 | 1 | 1 | 1 | 25 | 1 | 0 | 0 | 1 | 0 | ⋯ | 0 | 3 |  0 |  0 | 1 | 0 | 11 | 4 | 4 | 0 |\n",
       "|  8 | 1 | 1 | 1 | 30 | 1 | 0 | 1 | 0 | 1 | ⋯ | 0 | 5 | 30 | 30 | 1 | 0 |  9 | 5 | 1 | 1 |\n",
       "|  9 | 0 | 0 | 1 | 24 | 0 | 0 | 0 | 0 | 0 | ⋯ | 0 | 2 |  0 |  0 | 0 | 1 |  8 | 4 | 3 | 0 |\n",
       "| 10 | 0 | 0 | 1 | 25 | 1 | 0 | 0 | 1 | 1 | ⋯ | 0 | 3 |  0 |  0 | 0 | 1 | 13 | 6 | 8 | 1 |\n",
       "| 11 | 1 | 1 | 1 | 34 | 1 | 0 | 0 | 0 | 1 | ⋯ | 0 | 3 |  0 | 30 | 1 | 0 | 10 | 5 | 1 | 0 |\n",
       "| 12 | 0 | 0 | 1 | 26 | 1 | 0 | 0 | 0 | 0 | ⋯ | 0 | 3 |  0 | 15 | 0 | 0 |  7 | 5 | 7 | 0 |\n",
       "| 13 | 1 | 1 | 1 | 28 | 0 | 0 | 0 | 0 | 0 | ⋯ | 0 | 4 |  0 |  0 | 1 | 0 | 11 | 4 | 6 | 1 |\n",
       "| 14 | 0 | 1 | 1 | 33 | 1 | 1 | 0 | 1 | 0 | ⋯ | 1 | 4 | 30 | 28 | 0 | 0 |  4 | 6 | 2 | 0 |\n",
       "| 15 | 1 | 0 | 1 | 33 | 0 | 0 | 0 | 1 | 0 | ⋯ | 0 | 2 |  5 |  0 | 0 | 0 |  6 | 6 | 8 | 0 |\n",
       "| 16 | 1 | 1 | 1 | 21 | 0 | 0 | 0 | 1 | 1 | ⋯ | 0 | 3 |  0 |  0 | 0 | 0 | 10 | 4 | 3 | 0 |\n",
       "| 17 | 0 | 0 | 1 | 23 | 1 | 0 | 0 | 1 | 0 | ⋯ | 0 | 2 |  0 |  0 | 0 | 1 |  7 | 5 | 6 | 1 |\n",
       "| 18 | 0 | 0 | 0 | 23 | 0 | 0 | 0 | 0 | 0 | ⋯ | 0 | 2 | 15 |  0 | 0 | 0 |  2 | 6 | 7 | 0 |\n",
       "| 19 | 0 | 1 | 1 | 28 | 0 | 0 | 0 | 0 | 0 | ⋯ | 0 | 2 | 10 |  0 | 0 | 1 |  4 | 6 | 8 | 0 |\n",
       "| 20 | 1 | 1 | 1 | 22 | 0 | 1 | 1 | 0 | 1 | ⋯ | 0 | 3 | 30 |  0 | 1 | 0 | 12 | 4 | 4 | 0 |\n",
       "| 21 | 1 | 1 | 1 | 38 | 1 | 0 | 0 | 0 | 1 | ⋯ | 0 | 5 | 15 | 30 | 1 | 0 | 13 | 2 | 3 | 0 |\n",
       "| 22 | 0 | 0 | 1 | 28 | 1 | 0 | 0 | 0 | 0 | ⋯ | 0 | 3 |  0 |  7 | 0 | 1 |  5 | 5 | 5 | 0 |\n",
       "| 23 | 1 | 0 | 1 | 27 | 0 | 0 | 0 | 1 | 1 | ⋯ | 0 | 1 |  0 |  0 | 0 | 0 | 13 | 5 | 4 | 1 |\n",
       "| 24 | 1 | 1 | 1 | 28 | 1 | 0 | 0 | 0 | 1 | ⋯ | 0 | 3 |  6 |  0 | 1 | 0 |  9 | 4 | 6 | 0 |\n",
       "| 25 | 0 | 0 | 1 | 32 | 0 | 0 | 0 | 1 | 1 | ⋯ | 0 | 2 |  0 |  0 | 0 | 0 |  5 | 6 | 8 | 0 |\n",
       "| 26 | 1 | 1 | 1 | 37 | 1 | 1 | 1 | 0 | 0 | ⋯ | 0 | 5 |  0 |  0 | 1 | 1 | 10 | 6 | 5 | 1 |\n",
       "| 27 | 1 | 1 | 1 | 28 | 1 | 0 | 1 | 0 | 0 | ⋯ | 0 | 4 |  0 |  0 | 0 | 1 | 12 | 2 | 4 | 1 |\n",
       "| 28 | 1 | 1 | 1 | 27 | 1 | 0 | 0 | 0 | 1 | ⋯ | 0 | 4 | 20 | 20 | 1 | 0 |  8 | 4 | 7 | 1 |\n",
       "| 29 | 0 | 1 | 1 | 31 | 1 | 0 | 0 | 1 | 1 | ⋯ | 0 | 1 |  0 |  0 | 0 | 1 | 12 | 6 | 8 | 0 |\n",
       "| ⋮ | ⋮ | ⋮ | ⋮ | ⋮ | ⋮ | ⋮ | ⋮ | ⋮ | ⋮ | ⋱ | ⋮ | ⋮ | ⋮ | ⋮ | ⋮ | ⋮ | ⋮ | ⋮ | ⋮ | ⋮ |\n",
       "| 253650 | 1 | 0 | 1 | 27 | 0 | 0 | 0 | 1 | 0 | ⋯ | 0 | 4 |  0 |  0 | 0 | 0 |  5 | 4 | 2 | 0 |\n",
       "| 253651 | 0 | 0 | 1 | 24 | 0 | 0 | 0 | 1 | 1 | ⋯ | 1 | 1 |  0 |  0 | 0 | 1 |  2 | 6 | 3 | 0 |\n",
       "| 253652 | 0 | 1 | 1 | 27 | 0 | 0 | 0 | 1 | 1 | ⋯ | 0 | 4 |  0 | 30 | 0 | 1 | 11 | 2 | 3 | 1 |\n",
       "| 253653 | 0 | 0 | 1 | 33 | 1 | 0 | 0 | 0 | 1 | ⋯ | 0 | 4 |  0 | 15 | 0 | 1 | 10 | 6 | 3 | 0 |\n",
       "| 253654 | 0 | 0 | 1 | 26 | 1 | 0 | 0 | 1 | 1 | ⋯ | 0 | 2 |  1 |  0 | 0 | 1 |  3 | 3 | 1 | 0 |\n",
       "| 253655 | 0 | 0 | 1 | 28 | 0 | 0 | 0 | 1 | 1 | ⋯ | 0 | 2 |  0 |  0 | 0 | 0 |  2 | 6 | 4 | 0 |\n",
       "| 253656 | 0 | 0 | 1 | 25 | 0 | 0 | 0 | 1 | 1 | ⋯ | 0 | 1 |  0 |  0 | 0 | 0 |  4 | 6 | 8 | 0 |\n",
       "| 253657 | 0 | 1 | 1 | 24 | 0 | 0 | 0 | 0 | 0 | ⋯ | 0 | 3 |  0 |  0 | 0 | 0 |  7 | 5 | 3 | 0 |\n",
       "| 253658 | 0 | 0 | 0 | 27 | 0 | 0 | 0 | 1 | 0 | ⋯ | 1 | 2 |  0 |  0 | 0 | 0 |  3 | 6 | 5 | 0 |\n",
       "| 253659 | 0 | 1 | 1 | 37 | 0 | 0 | 0 | 0 | 0 | ⋯ | 0 | 4 |  0 |  0 | 0 | 0 |  6 | 4 | 1 | 1 |\n",
       "| 253660 | 0 | 1 | 1 | 34 | 1 | 0 | 0 | 0 | 1 | ⋯ | 0 | 3 |  0 |  2 | 1 | 0 |  7 | 4 | 3 | 0 |\n",
       "| 253661 | 1 | 0 | 1 | 33 | 0 | 0 | 0 | 1 | 0 | ⋯ | 1 | 3 |  0 |  2 | 1 | 0 |  6 | 6 | 6 | 0 |\n",
       "| 253662 | 0 | 0 | 1 | 16 | 0 | 0 | 0 | 1 | 0 | ⋯ | 0 | 1 |  0 |  0 | 0 | 0 |  5 | 6 | 2 | 0 |\n",
       "| 253663 | 0 | 0 | 1 | 23 | 0 | 0 | 0 | 0 | 1 | ⋯ | 1 | 2 |  0 | 30 | 0 | 0 |  5 | 6 | 2 | 0 |\n",
       "| 253664 | 0 | 1 | 1 | 29 | 1 | 0 | 0 | 0 | 0 | ⋯ | 0 | 3 |  0 |  0 | 0 | 0 |  6 | 6 | 4 | 0 |\n",
       "| 253665 | 0 | 1 | 1 | 17 | 0 | 0 | 0 | 0 | 0 | ⋯ | 1 | 4 | 30 | 30 | 0 | 0 |  5 | 4 | 1 | 0 |\n",
       "| 253666 | 1 | 0 | 1 | 23 | 0 | 0 | 0 | 0 | 1 | ⋯ | 0 | 3 |  0 | 15 | 0 | 0 |  6 | 5 | 2 | 0 |\n",
       "| 253667 | 1 | 1 | 1 | 28 | 1 | 0 | 0 | 0 | 0 | ⋯ | 0 | 3 |  0 |  0 | 0 | 0 | 11 | 4 | 7 | 0 |\n",
       "| 253668 | 0 | 1 | 1 | 29 | 1 | 0 | 1 | 0 | 1 | ⋯ | 0 | 2 |  0 |  0 | 1 | 1 | 10 | 3 | 6 | 1 |\n",
       "| 253669 | 0 | 1 | 1 | 27 | 0 | 0 | 0 | 0 | 0 | ⋯ | 1 | 1 |  0 |  3 | 0 | 1 |  6 | 2 | 4 | 0 |\n",
       "| 253670 | 1 | 1 | 1 | 25 | 0 | 0 | 1 | 0 | 1 | ⋯ | 0 | 5 | 15 |  0 | 1 | 0 | 13 | 6 | 4 | 1 |\n",
       "| 253671 | 1 | 1 | 1 | 23 | 0 | 1 | 1 | 0 | 0 | ⋯ | 1 | 4 |  0 |  5 | 0 | 1 |  8 | 3 | 2 | 0 |\n",
       "| 253672 | 1 | 0 | 1 | 30 | 1 | 0 | 1 | 1 | 1 | ⋯ | 0 | 3 |  0 |  0 | 0 | 1 | 12 | 2 | 1 | 0 |\n",
       "| 253673 | 1 | 0 | 1 | 42 | 0 | 0 | 0 | 1 | 1 | ⋯ | 0 | 3 | 14 |  4 | 0 | 1 |  3 | 6 | 8 | 0 |\n",
       "| 253674 | 0 | 0 | 1 | 27 | 0 | 0 | 0 | 0 | 0 | ⋯ | 0 | 1 |  0 |  0 | 0 | 0 |  3 | 6 | 5 | 0 |\n",
       "| 253675 | 1 | 1 | 1 | 45 | 0 | 0 | 0 | 0 | 1 | ⋯ | 0 | 3 |  0 |  5 | 0 | 1 |  5 | 6 | 7 | 0 |\n",
       "| 253676 | 1 | 1 | 1 | 18 | 0 | 0 | 0 | 0 | 0 | ⋯ | 0 | 4 |  0 |  0 | 1 | 0 | 11 | 2 | 4 | 1 |\n",
       "| 253677 | 0 | 0 | 1 | 28 | 0 | 0 | 0 | 1 | 1 | ⋯ | 0 | 1 |  0 |  0 | 0 | 0 |  2 | 5 | 2 | 0 |\n",
       "| 253678 | 1 | 0 | 1 | 23 | 0 | 0 | 0 | 0 | 1 | ⋯ | 0 | 3 |  0 |  0 | 0 | 1 |  7 | 5 | 1 | 0 |\n",
       "| 253679 | 1 | 1 | 1 | 25 | 0 | 0 | 1 | 1 | 1 | ⋯ | 0 | 2 |  0 |  0 | 0 | 0 |  9 | 6 | 2 | 1 |\n",
       "\n"
      ],
      "text/plain": [
       "       X      HighBP HighChol CholCheck BMI Smoker Stroke HeartDiseaseorAttack\n",
       "1       0     1      1        1         40  1      0      0                   \n",
       "2       1     0      0        0         25  1      0      0                   \n",
       "3       2     1      1        1         28  0      0      0                   \n",
       "4       3     1      0        1         27  0      0      0                   \n",
       "5       4     1      1        1         24  0      0      0                   \n",
       "6       5     1      1        1         25  1      0      0                   \n",
       "7       6     1      0        1         30  1      0      0                   \n",
       "8       7     1      1        1         25  1      0      0                   \n",
       "9       8     1      1        1         30  1      0      1                   \n",
       "10      9     0      0        1         24  0      0      0                   \n",
       "11     10     0      0        1         25  1      0      0                   \n",
       "12     11     1      1        1         34  1      0      0                   \n",
       "13     12     0      0        1         26  1      0      0                   \n",
       "14     13     1      1        1         28  0      0      0                   \n",
       "15     14     0      1        1         33  1      1      0                   \n",
       "16     15     1      0        1         33  0      0      0                   \n",
       "17     16     1      1        1         21  0      0      0                   \n",
       "18     17     0      0        1         23  1      0      0                   \n",
       "19     18     0      0        0         23  0      0      0                   \n",
       "20     19     0      1        1         28  0      0      0                   \n",
       "21     20     1      1        1         22  0      1      1                   \n",
       "22     21     1      1        1         38  1      0      0                   \n",
       "23     22     0      0        1         28  1      0      0                   \n",
       "24     23     1      0        1         27  0      0      0                   \n",
       "25     24     1      1        1         28  1      0      0                   \n",
       "26     25     0      0        1         32  0      0      0                   \n",
       "27     26     1      1        1         37  1      1      1                   \n",
       "28     27     1      1        1         28  1      0      1                   \n",
       "29     28     1      1        1         27  1      0      0                   \n",
       "30     29     0      1        1         31  1      0      0                   \n",
       "<U+22EE>      <U+22EE> <U+22EE> <U+22EE> <U+22EE>  <U+22EE> <U+22EE> <U+22EE> <U+22EE>            \n",
       "253651 253650 1      0        1         27  0      0      0                   \n",
       "253652 253651 0      0        1         24  0      0      0                   \n",
       "253653 253652 0      1        1         27  0      0      0                   \n",
       "253654 253653 0      0        1         33  1      0      0                   \n",
       "253655 253654 0      0        1         26  1      0      0                   \n",
       "253656 253655 0      0        1         28  0      0      0                   \n",
       "253657 253656 0      0        1         25  0      0      0                   \n",
       "253658 253657 0      1        1         24  0      0      0                   \n",
       "253659 253658 0      0        0         27  0      0      0                   \n",
       "253660 253659 0      1        1         37  0      0      0                   \n",
       "253661 253660 0      1        1         34  1      0      0                   \n",
       "253662 253661 1      0        1         33  0      0      0                   \n",
       "253663 253662 0      0        1         16  0      0      0                   \n",
       "253664 253663 0      0        1         23  0      0      0                   \n",
       "253665 253664 0      1        1         29  1      0      0                   \n",
       "253666 253665 0      1        1         17  0      0      0                   \n",
       "253667 253666 1      0        1         23  0      0      0                   \n",
       "253668 253667 1      1        1         28  1      0      0                   \n",
       "253669 253668 0      1        1         29  1      0      1                   \n",
       "253670 253669 0      1        1         27  0      0      0                   \n",
       "253671 253670 1      1        1         25  0      0      1                   \n",
       "253672 253671 1      1        1         23  0      1      1                   \n",
       "253673 253672 1      0        1         30  1      0      1                   \n",
       "253674 253673 1      0        1         42  0      0      0                   \n",
       "253675 253674 0      0        1         27  0      0      0                   \n",
       "253676 253675 1      1        1         45  0      0      0                   \n",
       "253677 253676 1      1        1         18  0      0      0                   \n",
       "253678 253677 0      0        1         28  0      0      0                   \n",
       "253679 253678 1      0        1         23  0      0      0                   \n",
       "253680 253679 1      1        1         25  0      0      1                   \n",
       "       PhysActivity Fruits <U+22EF>        NoDocbcCost GenHlth MentHlth PhysHlth\n",
       "1      0            0      <U+22EF> 0           5       18       15      \n",
       "2      1            0      <U+22EF> 1           3        0        0      \n",
       "3      0            1      <U+22EF> 1           5       30       30      \n",
       "4      1            1      <U+22EF> 0           2        0        0      \n",
       "5      1            1      <U+22EF> 0           2        3        0      \n",
       "6      1            1      <U+22EF> 0           2        0        2      \n",
       "7      0            0      <U+22EF> 0           3        0       14      \n",
       "8      1            0      <U+22EF> 0           3        0        0      \n",
       "9      0            1      <U+22EF> 0           5       30       30      \n",
       "10     0            0      <U+22EF> 0           2        0        0      \n",
       "11     1            1      <U+22EF> 0           3        0        0      \n",
       "12     0            1      <U+22EF> 0           3        0       30      \n",
       "13     0            0      <U+22EF> 0           3        0       15      \n",
       "14     0            0      <U+22EF> 0           4        0        0      \n",
       "15     1            0      <U+22EF> 1           4       30       28      \n",
       "16     1            0      <U+22EF> 0           2        5        0      \n",
       "17     1            1      <U+22EF> 0           3        0        0      \n",
       "18     1            0      <U+22EF> 0           2        0        0      \n",
       "19     0            0      <U+22EF> 0           2       15        0      \n",
       "20     0            0      <U+22EF> 0           2       10        0      \n",
       "21     0            1      <U+22EF> 0           3       30        0      \n",
       "22     0            1      <U+22EF> 0           5       15       30      \n",
       "23     0            0      <U+22EF> 0           3        0        7      \n",
       "24     1            1      <U+22EF> 0           1        0        0      \n",
       "25     0            1      <U+22EF> 0           3        6        0      \n",
       "26     1            1      <U+22EF> 0           2        0        0      \n",
       "27     0            0      <U+22EF> 0           5        0        0      \n",
       "28     0            0      <U+22EF> 0           4        0        0      \n",
       "29     0            1      <U+22EF> 0           4       20       20      \n",
       "30     1            1      <U+22EF> 0           1        0        0      \n",
       "<U+22EE>      <U+22EE>     <U+22EE> <U+22F1> <U+22EE>    <U+22EE> <U+22EE> <U+22EE>\n",
       "253651 1            0      <U+22EF> 0           4        0        0      \n",
       "253652 1            1      <U+22EF> 1           1        0        0      \n",
       "253653 1            1      <U+22EF> 0           4        0       30      \n",
       "253654 0            1      <U+22EF> 0           4        0       15      \n",
       "253655 1            1      <U+22EF> 0           2        1        0      \n",
       "253656 1            1      <U+22EF> 0           2        0        0      \n",
       "253657 1            1      <U+22EF> 0           1        0        0      \n",
       "253658 0            0      <U+22EF> 0           3        0        0      \n",
       "253659 1            0      <U+22EF> 1           2        0        0      \n",
       "253660 0            0      <U+22EF> 0           4        0        0      \n",
       "253661 0            1      <U+22EF> 0           3        0        2      \n",
       "253662 1            0      <U+22EF> 1           3        0        2      \n",
       "253663 1            0      <U+22EF> 0           1        0        0      \n",
       "253664 0            1      <U+22EF> 1           2        0       30      \n",
       "253665 0            0      <U+22EF> 0           3        0        0      \n",
       "253666 0            0      <U+22EF> 1           4       30       30      \n",
       "253667 0            1      <U+22EF> 0           3        0       15      \n",
       "253668 0            0      <U+22EF> 0           3        0        0      \n",
       "253669 0            1      <U+22EF> 0           2        0        0      \n",
       "253670 0            0      <U+22EF> 1           1        0        3      \n",
       "253671 0            1      <U+22EF> 0           5       15        0      \n",
       "253672 0            0      <U+22EF> 1           4        0        5      \n",
       "253673 1            1      <U+22EF> 0           3        0        0      \n",
       "253674 1            1      <U+22EF> 0           3       14        4      \n",
       "253675 0            0      <U+22EF> 0           1        0        0      \n",
       "253676 0            1      <U+22EF> 0           3        0        5      \n",
       "253677 0            0      <U+22EF> 0           4        0        0      \n",
       "253678 1            1      <U+22EF> 0           1        0        0      \n",
       "253679 0            1      <U+22EF> 0           3        0        0      \n",
       "253680 1            1      <U+22EF> 0           2        0        0      \n",
       "       DiffWalk Sex Age Education Income Diabetes_binary\n",
       "1      1        0    9  4         3      0              \n",
       "2      0        0    7  6         1      0              \n",
       "3      1        0    9  4         8      0              \n",
       "4      0        0   11  3         6      0              \n",
       "5      0        0   11  5         4      0              \n",
       "6      0        1   10  6         8      0              \n",
       "7      0        0    9  6         7      0              \n",
       "8      1        0   11  4         4      0              \n",
       "9      1        0    9  5         1      1              \n",
       "10     0        1    8  4         3      0              \n",
       "11     0        1   13  6         8      1              \n",
       "12     1        0   10  5         1      0              \n",
       "13     0        0    7  5         7      0              \n",
       "14     1        0   11  4         6      1              \n",
       "15     0        0    4  6         2      0              \n",
       "16     0        0    6  6         8      0              \n",
       "17     0        0   10  4         3      0              \n",
       "18     0        1    7  5         6      1              \n",
       "19     0        0    2  6         7      0              \n",
       "20     0        1    4  6         8      0              \n",
       "21     1        0   12  4         4      0              \n",
       "22     1        0   13  2         3      0              \n",
       "23     0        1    5  5         5      0              \n",
       "24     0        0   13  5         4      1              \n",
       "25     1        0    9  4         6      0              \n",
       "26     0        0    5  6         8      0              \n",
       "27     1        1   10  6         5      1              \n",
       "28     0        1   12  2         4      1              \n",
       "29     1        0    8  4         7      1              \n",
       "30     0        1   12  6         8      0              \n",
       "<U+22EE>      <U+22EE> <U+22EE> <U+22EE> <U+22EE>  <U+22EE> <U+22EE>       \n",
       "253651 0        0    5  4         2      0              \n",
       "253652 0        1    2  6         3      0              \n",
       "253653 0        1   11  2         3      1              \n",
       "253654 0        1   10  6         3      0              \n",
       "253655 0        1    3  3         1      0              \n",
       "253656 0        0    2  6         4      0              \n",
       "253657 0        0    4  6         8      0              \n",
       "253658 0        0    7  5         3      0              \n",
       "253659 0        0    3  6         5      0              \n",
       "253660 0        0    6  4         1      1              \n",
       "253661 1        0    7  4         3      0              \n",
       "253662 1        0    6  6         6      0              \n",
       "253663 0        0    5  6         2      0              \n",
       "253664 0        0    5  6         2      0              \n",
       "253665 0        0    6  6         4      0              \n",
       "253666 0        0    5  4         1      0              \n",
       "253667 0        0    6  5         2      0              \n",
       "253668 0        0   11  4         7      0              \n",
       "253669 1        1   10  3         6      1              \n",
       "253670 0        1    6  2         4      0              \n",
       "253671 1        0   13  6         4      1              \n",
       "253672 0        1    8  3         2      0              \n",
       "253673 0        1   12  2         1      0              \n",
       "253674 0        1    3  6         8      0              \n",
       "253675 0        0    3  6         5      0              \n",
       "253676 0        1    5  6         7      0              \n",
       "253677 1        0   11  2         4      1              \n",
       "253678 0        0    2  5         2      0              \n",
       "253679 0        1    7  5         1      0              \n",
       "253680 0        0    9  6         2      1              "
      ]
     },
     "metadata": {},
     "output_type": "display_data"
    }
   ],
   "source": [
    "df"
   ]
  },
  {
   "cell_type": "code",
   "execution_count": 188,
   "id": "e9620d44-a832-40ea-ad74-52bf871ea734",
   "metadata": {
    "colab": {
     "base_uri": "https://localhost:8080/"
    },
    "executionInfo": {
     "elapsed": 23,
     "status": "ok",
     "timestamp": 1715182358970,
     "user": {
      "displayName": "Minh hiếu Phạm",
      "userId": "13621231777531886646"
     },
     "user_tz": -420
    },
    "id": "e9620d44-a832-40ea-ad74-52bf871ea734",
    "outputId": "af816a7f-78a8-48cf-a8c6-dd5af7a0b306"
   },
   "outputs": [
    {
     "name": "stdout",
     "output_type": "stream",
     "text": [
      "'data.frame':\t253680 obs. of  23 variables:\n",
      " $ X                   : int  0 1 2 3 4 5 6 7 8 9 ...\n",
      " $ HighBP              : int  1 0 1 1 1 1 1 1 1 0 ...\n",
      " $ HighChol            : int  1 0 1 0 1 1 0 1 1 0 ...\n",
      " $ CholCheck           : int  1 0 1 1 1 1 1 1 1 1 ...\n",
      " $ BMI                 : int  40 25 28 27 24 25 30 25 30 24 ...\n",
      " $ Smoker              : int  1 1 0 0 0 1 1 1 1 0 ...\n",
      " $ Stroke              : int  0 0 0 0 0 0 0 0 0 0 ...\n",
      " $ HeartDiseaseorAttack: int  0 0 0 0 0 0 0 0 1 0 ...\n",
      " $ PhysActivity        : int  0 1 0 1 1 1 0 1 0 0 ...\n",
      " $ Fruits              : int  0 0 1 1 1 1 0 0 1 0 ...\n",
      " $ Veggies             : int  1 0 0 1 1 1 0 1 1 1 ...\n",
      " $ HvyAlcoholConsump   : int  0 0 0 0 0 0 0 0 0 0 ...\n",
      " $ AnyHealthcare       : int  1 0 1 1 1 1 1 1 1 1 ...\n",
      " $ NoDocbcCost         : int  0 1 1 0 0 0 0 0 0 0 ...\n",
      " $ GenHlth             : int  5 3 5 2 2 2 3 3 5 2 ...\n",
      " $ MentHlth            : int  18 0 30 0 3 0 0 0 30 0 ...\n",
      " $ PhysHlth            : int  15 0 30 0 0 2 14 0 30 0 ...\n",
      " $ DiffWalk            : int  1 0 1 0 0 0 0 1 1 0 ...\n",
      " $ Sex                 : int  0 0 0 0 0 1 0 0 0 1 ...\n",
      " $ Age                 : int  9 7 9 11 11 10 9 11 9 8 ...\n",
      " $ Education           : int  4 6 4 3 5 6 6 4 5 4 ...\n",
      " $ Income              : int  3 1 8 6 4 8 7 4 1 3 ...\n",
      " $ Diabetes_binary     : int  0 0 0 0 0 0 0 0 1 0 ...\n"
     ]
    }
   ],
   "source": [
    "str(df)"
   ]
  },
  {
   "cell_type": "markdown",
   "id": "6a37d8fa-dda1-4e12-8164-798bcbf0809e",
   "metadata": {
    "id": "6a37d8fa-dda1-4e12-8164-798bcbf0809e"
   },
   "source": [
    "## 2. Data Preprocessing"
   ]
  },
  {
   "cell_type": "markdown",
   "id": "3e9eb452-2ca5-457f-9e44-7b6651a69e89",
   "metadata": {
    "id": "3e9eb452-2ca5-457f-9e44-7b6651a69e89"
   },
   "source": [
    "### 2.1. Standardize column names"
   ]
  },
  {
   "cell_type": "code",
   "execution_count": 189,
   "id": "b4719da7-365e-42e4-bfaa-f51bd5c9d877",
   "metadata": {
    "colab": {
     "base_uri": "https://localhost:8080/",
     "height": 52
    },
    "executionInfo": {
     "elapsed": 15,
     "status": "ok",
     "timestamp": 1715182358971,
     "user": {
      "displayName": "Minh hiếu Phạm",
      "userId": "13621231777531886646"
     },
     "user_tz": -420
    },
    "id": "b4719da7-365e-42e4-bfaa-f51bd5c9d877",
    "outputId": "27006fe2-4626-4a5d-f335-fb7d07b51e7b"
   },
   "outputs": [
    {
     "data": {
      "text/html": [
       "<style>\n",
       ".list-inline {list-style: none; margin:0; padding: 0}\n",
       ".list-inline>li {display: inline-block}\n",
       ".list-inline>li:not(:last-child)::after {content: \"\\00b7\"; padding: 0 .5ex}\n",
       "</style>\n",
       "<ol class=list-inline><li>'X'</li><li>'HighBP'</li><li>'HighChol'</li><li>'CholCheck'</li><li>'BMI'</li><li>'Smoker'</li><li>'Stroke'</li><li>'HeartDiseaseorAttack'</li><li>'PhysActivity'</li><li>'Fruits'</li><li>'Veggies'</li><li>'HvyAlcoholConsump'</li><li>'AnyHealthcare'</li><li>'NoDocbcCost'</li><li>'GenHlth'</li><li>'MentHlth'</li><li>'PhysHlth'</li><li>'DiffWalk'</li><li>'Sex'</li><li>'Age'</li><li>'Education'</li><li>'Income'</li><li>'Diabetes_binary'</li></ol>\n"
      ],
      "text/latex": [
       "\\begin{enumerate*}\n",
       "\\item 'X'\n",
       "\\item 'HighBP'\n",
       "\\item 'HighChol'\n",
       "\\item 'CholCheck'\n",
       "\\item 'BMI'\n",
       "\\item 'Smoker'\n",
       "\\item 'Stroke'\n",
       "\\item 'HeartDiseaseorAttack'\n",
       "\\item 'PhysActivity'\n",
       "\\item 'Fruits'\n",
       "\\item 'Veggies'\n",
       "\\item 'HvyAlcoholConsump'\n",
       "\\item 'AnyHealthcare'\n",
       "\\item 'NoDocbcCost'\n",
       "\\item 'GenHlth'\n",
       "\\item 'MentHlth'\n",
       "\\item 'PhysHlth'\n",
       "\\item 'DiffWalk'\n",
       "\\item 'Sex'\n",
       "\\item 'Age'\n",
       "\\item 'Education'\n",
       "\\item 'Income'\n",
       "\\item 'Diabetes\\_binary'\n",
       "\\end{enumerate*}\n"
      ],
      "text/markdown": [
       "1. 'X'\n",
       "2. 'HighBP'\n",
       "3. 'HighChol'\n",
       "4. 'CholCheck'\n",
       "5. 'BMI'\n",
       "6. 'Smoker'\n",
       "7. 'Stroke'\n",
       "8. 'HeartDiseaseorAttack'\n",
       "9. 'PhysActivity'\n",
       "10. 'Fruits'\n",
       "11. 'Veggies'\n",
       "12. 'HvyAlcoholConsump'\n",
       "13. 'AnyHealthcare'\n",
       "14. 'NoDocbcCost'\n",
       "15. 'GenHlth'\n",
       "16. 'MentHlth'\n",
       "17. 'PhysHlth'\n",
       "18. 'DiffWalk'\n",
       "19. 'Sex'\n",
       "20. 'Age'\n",
       "21. 'Education'\n",
       "22. 'Income'\n",
       "23. 'Diabetes_binary'\n",
       "\n",
       "\n"
      ],
      "text/plain": [
       " [1] \"X\"                    \"HighBP\"               \"HighChol\"            \n",
       " [4] \"CholCheck\"            \"BMI\"                  \"Smoker\"              \n",
       " [7] \"Stroke\"               \"HeartDiseaseorAttack\" \"PhysActivity\"        \n",
       "[10] \"Fruits\"               \"Veggies\"              \"HvyAlcoholConsump\"   \n",
       "[13] \"AnyHealthcare\"        \"NoDocbcCost\"          \"GenHlth\"             \n",
       "[16] \"MentHlth\"             \"PhysHlth\"             \"DiffWalk\"            \n",
       "[19] \"Sex\"                  \"Age\"                  \"Education\"           \n",
       "[22] \"Income\"               \"Diabetes_binary\"     "
      ]
     },
     "metadata": {},
     "output_type": "display_data"
    }
   ],
   "source": [
    "colnames(df)"
   ]
  },
  {
   "cell_type": "code",
   "execution_count": 190,
   "id": "b12f9f7f-d48b-4339-94a9-d653ffc074a9",
   "metadata": {
    "executionInfo": {
     "elapsed": 13,
     "status": "ok",
     "timestamp": 1715182358971,
     "user": {
      "displayName": "Minh hiếu Phạm",
      "userId": "13621231777531886646"
     },
     "user_tz": -420
    },
    "id": "b12f9f7f-d48b-4339-94a9-d653ffc074a9"
   },
   "outputs": [],
   "source": [
    "# COMMENT: remove column \"X\"\n",
    "if (\"X\" %in% colnames(df))\n",
    "{\n",
    "    df = df[, !colnames(df) == \"X\"]\n",
    "}"
   ]
  },
  {
   "cell_type": "code",
   "execution_count": 191,
   "id": "35312eb4-acb0-43c3-aea3-ac85b7a8b818",
   "metadata": {
    "colab": {
     "base_uri": "https://localhost:8080/"
    },
    "executionInfo": {
     "elapsed": 402,
     "status": "ok",
     "timestamp": 1715182359361,
     "user": {
      "displayName": "Minh hiếu Phạm",
      "userId": "13621231777531886646"
     },
     "user_tz": -420
    },
    "id": "35312eb4-acb0-43c3-aea3-ac85b7a8b818",
    "outputId": "9f39d865-cf3a-4c8e-9034-f58f9d21eb95"
   },
   "outputs": [
    {
     "name": "stdout",
     "output_type": "stream",
     "text": [
      "'data.frame':\t253680 obs. of  22 variables:\n",
      " $ HighBP              : int  1 0 1 1 1 1 1 1 1 0 ...\n",
      " $ HighChol            : int  1 0 1 0 1 1 0 1 1 0 ...\n",
      " $ CholCheck           : int  1 0 1 1 1 1 1 1 1 1 ...\n",
      " $ BMI                 : int  40 25 28 27 24 25 30 25 30 24 ...\n",
      " $ Smoker              : int  1 1 0 0 0 1 1 1 1 0 ...\n",
      " $ Stroke              : int  0 0 0 0 0 0 0 0 0 0 ...\n",
      " $ HeartDiseaseorAttack: int  0 0 0 0 0 0 0 0 1 0 ...\n",
      " $ PhysActivity        : int  0 1 0 1 1 1 0 1 0 0 ...\n",
      " $ Fruits              : int  0 0 1 1 1 1 0 0 1 0 ...\n",
      " $ Veggies             : int  1 0 0 1 1 1 0 1 1 1 ...\n",
      " $ HvyAlcoholConsump   : int  0 0 0 0 0 0 0 0 0 0 ...\n",
      " $ AnyHealthcare       : int  1 0 1 1 1 1 1 1 1 1 ...\n",
      " $ NoDocbcCost         : int  0 1 1 0 0 0 0 0 0 0 ...\n",
      " $ GenHlth             : int  5 3 5 2 2 2 3 3 5 2 ...\n",
      " $ MentHlth            : int  18 0 30 0 3 0 0 0 30 0 ...\n",
      " $ PhysHlth            : int  15 0 30 0 0 2 14 0 30 0 ...\n",
      " $ DiffWalk            : int  1 0 1 0 0 0 0 1 1 0 ...\n",
      " $ Sex                 : int  0 0 0 0 0 1 0 0 0 1 ...\n",
      " $ Age                 : int  9 7 9 11 11 10 9 11 9 8 ...\n",
      " $ Education           : int  4 6 4 3 5 6 6 4 5 4 ...\n",
      " $ Income              : int  3 1 8 6 4 8 7 4 1 3 ...\n",
      " $ Diabetes_binary     : int  0 0 0 0 0 0 0 0 1 0 ...\n"
     ]
    }
   ],
   "source": [
    "str(df)"
   ]
  },
  {
   "cell_type": "markdown",
   "id": "29d1ddfb-ecf3-41ff-9cd7-e1aaa3ea6873",
   "metadata": {
    "id": "29d1ddfb-ecf3-41ff-9cd7-e1aaa3ea6873"
   },
   "source": [
    "### 2.2. Mismatched data types"
   ]
  },
  {
   "cell_type": "code",
   "execution_count": 192,
   "id": "52a70792-43e3-4bf3-9987-f4460e2601ac",
   "metadata": {
    "colab": {
     "base_uri": "https://localhost:8080/"
    },
    "executionInfo": {
     "elapsed": 21,
     "status": "ok",
     "timestamp": 1715182359361,
     "user": {
      "displayName": "Minh hiếu Phạm",
      "userId": "13621231777531886646"
     },
     "user_tz": -420
    },
    "id": "52a70792-43e3-4bf3-9987-f4460e2601ac",
    "outputId": "008dd5cb-227c-4228-c9a0-58978635dd89"
   },
   "outputs": [
    {
     "name": "stdout",
     "output_type": "stream",
     "text": [
      "'data.frame':\t253680 obs. of  22 variables:\n",
      " $ HighBP              : int  1 0 1 1 1 1 1 1 1 0 ...\n",
      " $ HighChol            : int  1 0 1 0 1 1 0 1 1 0 ...\n",
      " $ CholCheck           : int  1 0 1 1 1 1 1 1 1 1 ...\n",
      " $ BMI                 : int  40 25 28 27 24 25 30 25 30 24 ...\n",
      " $ Smoker              : int  1 1 0 0 0 1 1 1 1 0 ...\n",
      " $ Stroke              : int  0 0 0 0 0 0 0 0 0 0 ...\n",
      " $ HeartDiseaseorAttack: int  0 0 0 0 0 0 0 0 1 0 ...\n",
      " $ PhysActivity        : int  0 1 0 1 1 1 0 1 0 0 ...\n",
      " $ Fruits              : int  0 0 1 1 1 1 0 0 1 0 ...\n",
      " $ Veggies             : int  1 0 0 1 1 1 0 1 1 1 ...\n",
      " $ HvyAlcoholConsump   : int  0 0 0 0 0 0 0 0 0 0 ...\n",
      " $ AnyHealthcare       : int  1 0 1 1 1 1 1 1 1 1 ...\n",
      " $ NoDocbcCost         : int  0 1 1 0 0 0 0 0 0 0 ...\n",
      " $ GenHlth             : int  5 3 5 2 2 2 3 3 5 2 ...\n",
      " $ MentHlth            : int  18 0 30 0 3 0 0 0 30 0 ...\n",
      " $ PhysHlth            : int  15 0 30 0 0 2 14 0 30 0 ...\n",
      " $ DiffWalk            : int  1 0 1 0 0 0 0 1 1 0 ...\n",
      " $ Sex                 : int  0 0 0 0 0 1 0 0 0 1 ...\n",
      " $ Age                 : int  9 7 9 11 11 10 9 11 9 8 ...\n",
      " $ Education           : int  4 6 4 3 5 6 6 4 5 4 ...\n",
      " $ Income              : int  3 1 8 6 4 8 7 4 1 3 ...\n",
      " $ Diabetes_binary     : int  0 0 0 0 0 0 0 0 1 0 ...\n"
     ]
    }
   ],
   "source": [
    "str(df)"
   ]
  },
  {
   "cell_type": "code",
   "execution_count": 193,
   "id": "b789f42e-d909-4ba9-943b-4be30018384e",
   "metadata": {
    "executionInfo": {
     "elapsed": 18,
     "status": "ok",
     "timestamp": 1715182359361,
     "user": {
      "displayName": "Minh hiếu Phạm",
      "userId": "13621231777531886646"
     },
     "user_tz": -420
    },
    "id": "b789f42e-d909-4ba9-943b-4be30018384e"
   },
   "outputs": [],
   "source": [
    "# COMMENT\n",
    "# All columns have correct data type"
   ]
  },
  {
   "cell_type": "markdown",
   "id": "bce5f736-1022-4709-b276-c91845b413a8",
   "metadata": {
    "id": "bce5f736-1022-4709-b276-c91845b413a8"
   },
   "source": [
    "### 2.3. Mixed data values"
   ]
  },
  {
   "cell_type": "code",
   "execution_count": 194,
   "id": "fec32eab-4252-4199-ba54-a92194e8413f",
   "metadata": {
    "executionInfo": {
     "elapsed": 19,
     "status": "ok",
     "timestamp": 1715182359362,
     "user": {
      "displayName": "Minh hiếu Phạm",
      "userId": "13621231777531886646"
     },
     "user_tz": -420
    },
    "id": "fec32eab-4252-4199-ba54-a92194e8413f"
   },
   "outputs": [],
   "source": [
    "# COMMENT\n",
    "# Example: (female, woman, man, male) => (male, female)"
   ]
  },
  {
   "cell_type": "code",
   "execution_count": 195,
   "id": "1704f561-7315-42a1-97ee-5f888d44d29f",
   "metadata": {
    "executionInfo": {
     "elapsed": 18,
     "status": "ok",
     "timestamp": 1715182359362,
     "user": {
      "displayName": "Minh hiếu Phạm",
      "userId": "13621231777531886646"
     },
     "user_tz": -420
    },
    "id": "1704f561-7315-42a1-97ee-5f888d44d29f"
   },
   "outputs": [],
   "source": [
    "# COMMENT\n",
    "# This dataset contains only number data => No mixed data values"
   ]
  },
  {
   "cell_type": "markdown",
   "id": "adaab349-e467-4880-91db-36fb48c1b04a",
   "metadata": {
    "id": "adaab349-e467-4880-91db-36fb48c1b04a"
   },
   "source": [
    "### 2.4. Missing data"
   ]
  },
  {
   "cell_type": "markdown",
   "id": "b3488a5a-29aa-409e-8963-bafe7dd0d9ac",
   "metadata": {
    "id": "b3488a5a-29aa-409e-8963-bafe7dd0d9ac"
   },
   "source": [
    "#### 2.4.1 Null data"
   ]
  },
  {
   "cell_type": "code",
   "execution_count": 196,
   "id": "b8da67e8-3b6a-4d54-99be-cb8d4bef553a",
   "metadata": {
    "colab": {
     "base_uri": "https://localhost:8080/",
     "height": 34
    },
    "executionInfo": {
     "elapsed": 18,
     "status": "ok",
     "timestamp": 1715182359362,
     "user": {
      "displayName": "Minh hiếu Phạm",
      "userId": "13621231777531886646"
     },
     "user_tz": -420
    },
    "id": "b8da67e8-3b6a-4d54-99be-cb8d4bef553a",
    "outputId": "1cfe4d49-67dc-471b-db3c-012a5b9a41af"
   },
   "outputs": [
    {
     "data": {
      "text/html": [
       "0"
      ],
      "text/latex": [
       "0"
      ],
      "text/markdown": [
       "0"
      ],
      "text/plain": [
       "[1] 0"
      ]
     },
     "metadata": {},
     "output_type": "display_data"
    }
   ],
   "source": [
    "sum(is.na(df))"
   ]
  },
  {
   "cell_type": "code",
   "execution_count": 197,
   "id": "b286bbbf-31d0-4d33-9b9a-46a1b0e19054",
   "metadata": {
    "executionInfo": {
     "elapsed": 17,
     "status": "ok",
     "timestamp": 1715182359363,
     "user": {
      "displayName": "Minh hiếu Phạm",
      "userId": "13621231777531886646"
     },
     "user_tz": -420
    },
    "id": "b286bbbf-31d0-4d33-9b9a-46a1b0e19054"
   },
   "outputs": [],
   "source": [
    "# COMMENT\n",
    "# This dataset has no missing values"
   ]
  },
  {
   "cell_type": "markdown",
   "id": "12494376-38f9-4474-8a6b-9c2f95cd27d8",
   "metadata": {
    "id": "12494376-38f9-4474-8a6b-9c2f95cd27d8"
   },
   "source": [
    "#### 2.4.2 Missing data in specific columns"
   ]
  },
  {
   "cell_type": "code",
   "execution_count": 198,
   "id": "c8530450-5b2d-4db3-963b-d7079c3aa5c2",
   "metadata": {
    "colab": {
     "base_uri": "https://localhost:8080/",
     "height": 34
    },
    "executionInfo": {
     "elapsed": 18,
     "status": "ok",
     "timestamp": 1715182359364,
     "user": {
      "displayName": "Minh hiếu Phạm",
      "userId": "13621231777531886646"
     },
     "user_tz": -420
    },
    "id": "c8530450-5b2d-4db3-963b-d7079c3aa5c2",
    "outputId": "19c2711b-3711-46b4-fa91-d592c9c2049b"
   },
   "outputs": [
    {
     "data": {
      "text/html": [
       "0"
      ],
      "text/latex": [
       "0"
      ],
      "text/markdown": [
       "0"
      ],
      "text/plain": [
       "[1] 0"
      ]
     },
     "metadata": {},
     "output_type": "display_data"
    }
   ],
   "source": [
    "nrow(subset(df, Age == 14))"
   ]
  },
  {
   "cell_type": "code",
   "execution_count": 199,
   "id": "4c293392-f5b0-42f9-9e89-dcdad903a850",
   "metadata": {
    "executionInfo": {
     "elapsed": 17,
     "status": "ok",
     "timestamp": 1715182359363,
     "user": {
      "displayName": "Minh hiếu Phạm",
      "userId": "13621231777531886646"
     },
     "user_tz": -420
    },
    "id": "4c293392-f5b0-42f9-9e89-dcdad903a850"
   },
   "outputs": [],
   "source": [
    "# COMMENT\n",
    "# We see that in column \"Age\", the value could have value of 14\n",
    "# which is Don’t know / Refused / Missing (_AGEG5YR - BRFSS)"
   ]
  },
  {
   "cell_type": "markdown",
   "id": "9606d14d-becd-4fc7-a425-b3ead8940166",
   "metadata": {
    "id": "9606d14d-becd-4fc7-a425-b3ead8940166"
   },
   "source": [
    "## 3. Exploratory data analysis (EDA)"
   ]
  },
  {
   "cell_type": "markdown",
   "id": "69f852b8-a624-442a-b5ee-891acaab207b",
   "metadata": {},
   "source": [
    "### 3.0. Helper functions"
   ]
  },
  {
   "cell_type": "code",
   "execution_count": 200,
   "id": "03806332-c7cf-4c28-a038-ee703dfbda93",
   "metadata": {
    "executionInfo": {
     "elapsed": 17,
     "status": "ok",
     "timestamp": 1715182359364,
     "user": {
      "displayName": "Minh hiếu Phạm",
      "userId": "13621231777531886646"
     },
     "user_tz": -420
    },
    "id": "03806332-c7cf-4c28-a038-ee703dfbda93"
   },
   "outputs": [],
   "source": [
    "plot_stack_bar_2x2 = function(table_2x2)\n",
    "{\n",
    "    barplot(table_2x2, beside = TRUE, col = c(\"green\", \"red\"))\n",
    "    legend(\"top\", legend = rownames(table_2x2), fill = c(\"green\", \"red\"))\n",
    "}"
   ]
  },
  {
   "cell_type": "code",
   "execution_count": 201,
   "id": "a1c22cc2-4fa5-45e8-9f4f-e355c16afc3c",
   "metadata": {
    "executionInfo": {
     "elapsed": 5,
     "status": "ok",
     "timestamp": 1715182367477,
     "user": {
      "displayName": "Minh hiếu Phạm",
      "userId": "13621231777531886646"
     },
     "user_tz": -420
    },
    "id": "a1c22cc2-4fa5-45e8-9f4f-e355c16afc3c"
   },
   "outputs": [],
   "source": [
    "get_correlation = function(dataframe, col_1, col_2, numerical_cols, binary_cols, ordinal_cols, response_col)\n",
    "{\n",
    "    if (col_1 %in% ordinal_cols || col_2 %in% ordinal_cols)\n",
    "    {\n",
    "        print(\"At least one ordinal variable\")\n",
    "        return (pcaPP::cor.fk(dataframe[,col_1], dataframe[,col_2]))\n",
    "    }\n",
    "    else if (col_1 %in% numerical_cols && col_2 %in% c(binary_cols, response_col) ||\n",
    "             col_1 %in% c(binary_cols, response_col) && col_2 %in% numerical_cols)\n",
    "    {\n",
    "        print(\"Binary variable vs numerical variable\")\n",
    "        return (cor.test(as.numeric(dataframe[,col_1]), as.numeric(dataframe[,col_2]))$estimate)\n",
    "    }\n",
    "    else if (col_1 %in% c(binary_cols, response_col) && col_2 %in% c(binary_cols, response_col))\n",
    "    {\n",
    "        print(\"2 binary variables\")\n",
    "        return (rcompanion::cramerV(table(dataframe[ ,c(col_1, col_2)])))\n",
    "    }\n",
    "    else if (col_1 %in% numerical_cols && col_2 %in% numerical_cols)\n",
    "    {\n",
    "        print(\"Numerical variable vs numerical variable\")\n",
    "        return (cor(dataframe[,col_1], dataframe[,col_2]))\n",
    "    }\n",
    "    else\n",
    "    {\n",
    "        return (100)\n",
    "    }\n",
    "}"
   ]
  },
  {
   "cell_type": "code",
   "execution_count": 289,
   "id": "326e9138-b40a-43e6-a755-62e496c5eb43",
   "metadata": {},
   "outputs": [],
   "source": [
    "summary_categorical_variables = function(df, explain_col, response_col, is.binary = T, prop.r = T,\n",
    "                                        prop.c = T, prop.t = T)\n",
    "{\n",
    "    contingency_table = table(df[, explain_col], df[, response_col], dnn = c(explain_col, response_col))\n",
    "    if (is.binary)\n",
    "    {       \n",
    "        rownames(contingency_table) = c(paste(\"no\", explain_col), explain_col)\n",
    "        gmodels::CrossTable(contingency_table, prop.r = prop.r, prop.c = prop.c, prop.t = prop.t, prop.chisq = FALSE, chisq = T)\n",
    "        print(\"Odds Ratio\")\n",
    "        print(OddsRatio(contingency_table, conf.level = 0.95))\n",
    "        print(\"Relative Risk\")\n",
    "        print(RelRisk(contingency_table, conf.level = 0.95, method = \"wald\"))\n",
    "    }\n",
    "    else\n",
    "    {\n",
    "        CrossTable(contingency_table, prop.r = prop.r, prop.c = prop.c, prop.t = prop.t, prop.chisq = FALSE, chisq = T)\n",
    "    }\n",
    "}"
   ]
  },
  {
   "cell_type": "code",
   "execution_count": 295,
   "id": "4bdf85d5-fa17-47ad-b474-6befe56cb84c",
   "metadata": {},
   "outputs": [],
   "source": [
    "plot_ordinal_data = function(dataframe, ordinal_col)\n",
    "{\n",
    "    barplot(summary(factor(dataframe[no_diabetes_rows, ][, ordinal_col])), main = sprintf(\"no_diabetes_rows - %s\", ordinal_col),\n",
    "           col = MAIN_COLOR, las = 1, lwd = 2)\n",
    "    barplot(summary(factor(dataframe[with_diabetes_rows, ][, ordinal_col])), main = sprintf(\"no_diabetes_rows - %s\", ordinal_col),\n",
    "           col = MAIN_COLOR, las = 1, lwd = 2)\n",
    "}"
   ]
  },
  {
   "cell_type": "markdown",
   "id": "353b18e0-0c32-4510-8f1b-4d8fa486895f",
   "metadata": {
    "id": "353b18e0-0c32-4510-8f1b-4d8fa486895f"
   },
   "source": [
    "### 3.1. Detect Numerical, Binary, Ordinal variables"
   ]
  },
  {
   "cell_type": "code",
   "execution_count": 202,
   "id": "5d75c19b-b6c3-4f5b-ab09-96470eddd0eb",
   "metadata": {
    "colab": {
     "base_uri": "https://localhost:8080/"
    },
    "executionInfo": {
     "elapsed": 17,
     "status": "ok",
     "timestamp": 1715182366246,
     "user": {
      "displayName": "Minh hiếu Phạm",
      "userId": "13621231777531886646"
     },
     "user_tz": -420
    },
    "id": "5d75c19b-b6c3-4f5b-ab09-96470eddd0eb",
    "outputId": "5e0a32ae-e721-43e9-ebfc-47317a69e8d7"
   },
   "outputs": [
    {
     "name": "stdout",
     "output_type": "stream",
     "text": [
      "'data.frame':\t253680 obs. of  22 variables:\n",
      " $ HighBP              : int  1 0 1 1 1 1 1 1 1 0 ...\n",
      " $ HighChol            : int  1 0 1 0 1 1 0 1 1 0 ...\n",
      " $ CholCheck           : int  1 0 1 1 1 1 1 1 1 1 ...\n",
      " $ BMI                 : int  40 25 28 27 24 25 30 25 30 24 ...\n",
      " $ Smoker              : int  1 1 0 0 0 1 1 1 1 0 ...\n",
      " $ Stroke              : int  0 0 0 0 0 0 0 0 0 0 ...\n",
      " $ HeartDiseaseorAttack: int  0 0 0 0 0 0 0 0 1 0 ...\n",
      " $ PhysActivity        : int  0 1 0 1 1 1 0 1 0 0 ...\n",
      " $ Fruits              : int  0 0 1 1 1 1 0 0 1 0 ...\n",
      " $ Veggies             : int  1 0 0 1 1 1 0 1 1 1 ...\n",
      " $ HvyAlcoholConsump   : int  0 0 0 0 0 0 0 0 0 0 ...\n",
      " $ AnyHealthcare       : int  1 0 1 1 1 1 1 1 1 1 ...\n",
      " $ NoDocbcCost         : int  0 1 1 0 0 0 0 0 0 0 ...\n",
      " $ GenHlth             : int  5 3 5 2 2 2 3 3 5 2 ...\n",
      " $ MentHlth            : int  18 0 30 0 3 0 0 0 30 0 ...\n",
      " $ PhysHlth            : int  15 0 30 0 0 2 14 0 30 0 ...\n",
      " $ DiffWalk            : int  1 0 1 0 0 0 0 1 1 0 ...\n",
      " $ Sex                 : int  0 0 0 0 0 1 0 0 0 1 ...\n",
      " $ Age                 : int  9 7 9 11 11 10 9 11 9 8 ...\n",
      " $ Education           : int  4 6 4 3 5 6 6 4 5 4 ...\n",
      " $ Income              : int  3 1 8 6 4 8 7 4 1 3 ...\n",
      " $ Diabetes_binary     : int  0 0 0 0 0 0 0 0 1 0 ...\n"
     ]
    }
   ],
   "source": [
    "str(df)"
   ]
  },
  {
   "cell_type": "code",
   "execution_count": 203,
   "id": "ec4a0f37-e1d2-4bf0-9ddb-bc4bd9079e25",
   "metadata": {
    "colab": {
     "base_uri": "https://localhost:8080/",
     "height": 161
    },
    "executionInfo": {
     "elapsed": 10,
     "status": "ok",
     "timestamp": 1715182366246,
     "user": {
      "displayName": "Minh hiếu Phạm",
      "userId": "13621231777531886646"
     },
     "user_tz": -420
    },
    "id": "ec4a0f37-e1d2-4bf0-9ddb-bc4bd9079e25",
    "outputId": "8794075d-b2c8-428f-f95c-3a4a860f8e0d"
   },
   "outputs": [
    {
     "data": {
      "text/html": [
       "<table class=\"dataframe\">\n",
       "<caption>A matrix: 3 × 1 of type int</caption>\n",
       "<thead>\n",
       "\t<tr><th></th><th scope=col>Number of variable</th></tr>\n",
       "</thead>\n",
       "<tbody>\n",
       "\t<tr><th scope=row>numerical_cols</th><td> 3</td></tr>\n",
       "\t<tr><th scope=row>binary_cols</th><td>14</td></tr>\n",
       "\t<tr><th scope=row>ordinal_cols</th><td> 4</td></tr>\n",
       "</tbody>\n",
       "</table>\n"
      ],
      "text/latex": [
       "A matrix: 3 × 1 of type int\n",
       "\\begin{tabular}{r|l}\n",
       "  & Number of variable\\\\\n",
       "\\hline\n",
       "\tnumerical\\_cols &  3\\\\\n",
       "\tbinary\\_cols & 14\\\\\n",
       "\tordinal\\_cols &  4\\\\\n",
       "\\end{tabular}\n"
      ],
      "text/markdown": [
       "\n",
       "A matrix: 3 × 1 of type int\n",
       "\n",
       "| <!--/--> | Number of variable |\n",
       "|---|---|\n",
       "| numerical_cols |  3 |\n",
       "| binary_cols | 14 |\n",
       "| ordinal_cols |  4 |\n",
       "\n"
      ],
      "text/plain": [
       "               Number of variable\n",
       "numerical_cols  3                \n",
       "binary_cols    14                \n",
       "ordinal_cols    4                "
      ]
     },
     "metadata": {},
     "output_type": "display_data"
    }
   ],
   "source": [
    "numerical_cols = c(\"BMI\", \"MentHlth\", \"PhysHlth\")\n",
    "binary_cols = c(\"HighBP\", \"HighChol\", \"CholCheck\", \"Smoker\", \"Stroke\",\n",
    "               \"HeartDiseaseorAttack\", \"PhysActivity\", \"Fruits\", \"Veggies\",\n",
    "               \"HvyAlcoholConsump\", \"AnyHealthcare\", \"NoDocbcCost\",\n",
    "               \"DiffWalk\", \"Sex\")\n",
    "ordinal_cols = c(\"GenHlth\", \"Age\", \"Education\", \"Income\")\n",
    "response_col = \"Diabetes_binary\"\n",
    "\n",
    "display_matrix = matrix(c(length(numerical_cols), length(binary_cols), length(ordinal_cols)), nrow = 3)\n",
    "rownames(display_matrix) = c(\"numerical_cols\", \"binary_cols\", \"ordinal_cols\")\n",
    "colnames(display_matrix) = \"Number of variable\"\n",
    "display_matrix"
   ]
  },
  {
   "cell_type": "markdown",
   "id": "f62837fd-8c16-4869-acc1-bbda2b232e56",
   "metadata": {},
   "source": [
    "### 3.2. Detect no_diabetes rows and with_diabetes rows"
   ]
  },
  {
   "cell_type": "code",
   "execution_count": 204,
   "id": "2c34f0f0-b887-4dfa-9a9d-a27f32eb8c0e",
   "metadata": {},
   "outputs": [],
   "source": [
    "no_diabetes_rows = which(df$Diabetes_binary == 0)\n",
    "with_diabetes_rows = which(df$Diabetes_binary == 1)"
   ]
  },
  {
   "cell_type": "markdown",
   "id": "1f2dd39f-74ac-4e63-9095-dde31e61d4fd",
   "metadata": {
    "id": "1f2dd39f-74ac-4e63-9095-dde31e61d4fd"
   },
   "source": [
    "### 3.3. Data factorization"
   ]
  },
  {
   "cell_type": "code",
   "execution_count": 205,
   "id": "bebbd904-d432-46b5-b508-47f9a5cb9c03",
   "metadata": {},
   "outputs": [],
   "source": [
    "factorized_df = df"
   ]
  },
  {
   "cell_type": "code",
   "execution_count": 206,
   "id": "962cd33a-2638-4693-b0bb-1b54ff5e33a2",
   "metadata": {
    "executionInfo": {
     "elapsed": 1238,
     "status": "ok",
     "timestamp": 1715182367476,
     "user": {
      "displayName": "Minh hiếu Phạm",
      "userId": "13621231777531886646"
     },
     "user_tz": -420
    },
    "id": "962cd33a-2638-4693-b0bb-1b54ff5e33a2"
   },
   "outputs": [],
   "source": [
    "# Training data factorization\n",
    "for (col in binary_cols)\n",
    "{\n",
    "    factorized_df[, col] = factor(factorized_df[, col])\n",
    "}\n",
    "\n",
    "for (col in ordinal_cols)\n",
    "{\n",
    "    factorized_df[, col] = factor(factorized_df[, col], ordered = T)\n",
    "}\n",
    "\n",
    "factorized_df[, response_col] = factor(factorized_df[, response_col])"
   ]
  },
  {
   "cell_type": "code",
   "execution_count": 207,
   "id": "072df9a6-22c7-4aa4-91be-ddd5c465a131",
   "metadata": {
    "colab": {
     "base_uri": "https://localhost:8080/"
    },
    "executionInfo": {
     "elapsed": 12,
     "status": "ok",
     "timestamp": 1715182367476,
     "user": {
      "displayName": "Minh hiếu Phạm",
      "userId": "13621231777531886646"
     },
     "user_tz": -420
    },
    "id": "072df9a6-22c7-4aa4-91be-ddd5c465a131",
    "outputId": "47ecd6ee-2bd1-4e63-c59b-82af0e177f93"
   },
   "outputs": [
    {
     "name": "stdout",
     "output_type": "stream",
     "text": [
      "'data.frame':\t253680 obs. of  22 variables:\n",
      " $ HighBP              : Factor w/ 2 levels \"0\",\"1\": 2 1 2 2 2 2 2 2 2 1 ...\n",
      " $ HighChol            : Factor w/ 2 levels \"0\",\"1\": 2 1 2 1 2 2 1 2 2 1 ...\n",
      " $ CholCheck           : Factor w/ 2 levels \"0\",\"1\": 2 1 2 2 2 2 2 2 2 2 ...\n",
      " $ BMI                 : int  40 25 28 27 24 25 30 25 30 24 ...\n",
      " $ Smoker              : Factor w/ 2 levels \"0\",\"1\": 2 2 1 1 1 2 2 2 2 1 ...\n",
      " $ Stroke              : Factor w/ 2 levels \"0\",\"1\": 1 1 1 1 1 1 1 1 1 1 ...\n",
      " $ HeartDiseaseorAttack: Factor w/ 2 levels \"0\",\"1\": 1 1 1 1 1 1 1 1 2 1 ...\n",
      " $ PhysActivity        : Factor w/ 2 levels \"0\",\"1\": 1 2 1 2 2 2 1 2 1 1 ...\n",
      " $ Fruits              : Factor w/ 2 levels \"0\",\"1\": 1 1 2 2 2 2 1 1 2 1 ...\n",
      " $ Veggies             : Factor w/ 2 levels \"0\",\"1\": 2 1 1 2 2 2 1 2 2 2 ...\n",
      " $ HvyAlcoholConsump   : Factor w/ 2 levels \"0\",\"1\": 1 1 1 1 1 1 1 1 1 1 ...\n",
      " $ AnyHealthcare       : Factor w/ 2 levels \"0\",\"1\": 2 1 2 2 2 2 2 2 2 2 ...\n",
      " $ NoDocbcCost         : Factor w/ 2 levels \"0\",\"1\": 1 2 2 1 1 1 1 1 1 1 ...\n",
      " $ GenHlth             : Ord.factor w/ 5 levels \"1\"<\"2\"<\"3\"<\"4\"<..: 5 3 5 2 2 2 3 3 5 2 ...\n",
      " $ MentHlth            : int  18 0 30 0 3 0 0 0 30 0 ...\n",
      " $ PhysHlth            : int  15 0 30 0 0 2 14 0 30 0 ...\n",
      " $ DiffWalk            : Factor w/ 2 levels \"0\",\"1\": 2 1 2 1 1 1 1 2 2 1 ...\n",
      " $ Sex                 : Factor w/ 2 levels \"0\",\"1\": 1 1 1 1 1 2 1 1 1 2 ...\n",
      " $ Age                 : Ord.factor w/ 13 levels \"1\"<\"2\"<\"3\"<\"4\"<..: 9 7 9 11 11 10 9 11 9 8 ...\n",
      " $ Education           : Ord.factor w/ 6 levels \"1\"<\"2\"<\"3\"<\"4\"<..: 4 6 4 3 5 6 6 4 5 4 ...\n",
      " $ Income              : Ord.factor w/ 8 levels \"1\"<\"2\"<\"3\"<\"4\"<..: 3 1 8 6 4 8 7 4 1 3 ...\n",
      " $ Diabetes_binary     : Factor w/ 2 levels \"0\",\"1\": 1 1 1 1 1 1 1 1 2 1 ...\n"
     ]
    }
   ],
   "source": [
    "str(factorized_df)"
   ]
  },
  {
   "cell_type": "markdown",
   "id": "c2bae823-a9ff-47bd-9cbd-827648c0ac2e",
   "metadata": {
    "id": "c2bae823-a9ff-47bd-9cbd-827648c0ac2e"
   },
   "source": [
    "### 3.4. Response variable analysis"
   ]
  },
  {
   "cell_type": "code",
   "execution_count": 208,
   "id": "b3da72aa-81d0-4ba7-ad50-5d30bf9f4e6b",
   "metadata": {
    "executionInfo": {
     "elapsed": 14,
     "status": "ok",
     "timestamp": 1715182359365,
     "user": {
      "displayName": "Minh hiếu Phạm",
      "userId": "13621231777531886646"
     },
     "user_tz": -420
    },
    "id": "b3da72aa-81d0-4ba7-ad50-5d30bf9f4e6b"
   },
   "outputs": [],
   "source": [
    "plot_binary_distribution = function(dataframe, response_col, title)\n",
    "{\n",
    "    # Creating a table of counts for each category in the response column\n",
    "    response_table <- table(dataframe[, response_col])\n",
    "\n",
    "    # Converting the table into a data frame\n",
    "    response_df <- as.data.frame(response_table)\n",
    "\n",
    "    # Renaming the column\n",
    "    colnames(response_df) <- c(\"Response\", \"Count\")\n",
    "\n",
    "    # Calculate percentages\n",
    "    response_df$Percent <- response_df$Count / sum(response_df$Count) * 100\n",
    "\n",
    "    # Creating a pie chart using ggplot2\n",
    "    pie_chart <- ggplot(response_df, aes(x = \"\", y = Count, fill = Response)) +\n",
    "      geom_bar(stat = \"identity\", width = 1) +\n",
    "      coord_polar(\"y\", start = 0) +\n",
    "      scale_fill_manual(values = c(\"green\", \"red\")) +\n",
    "      labs(title = title) +\n",
    "      theme_void() +\n",
    "      theme(legend.position = \"bottom\",\n",
    "            plot.title = element_text(hjust = 0.5, size = 30),  # Adjust title size here\n",
    "            legend.text = element_text(size = 20)) +            # Adjust legend text size here\n",
    "      geom_text(aes(label = paste0(round(Percent, 1), \"%\")),\n",
    "                position = position_stack(vjust = 0.5),\n",
    "                size = 7) + # Adjust label size here\n",
    "      guides(fill = guide_legend(title = response_col, title.position = \"top\", title.theme = element_text(size = 15))) # Adjust legend title size here\n",
    "\n",
    "    # Displaying the pie chart\n",
    "    print(pie_chart)\n",
    "}"
   ]
  },
  {
   "cell_type": "code",
   "execution_count": 209,
   "id": "8b99a955-da6e-40fd-a1b4-64917d28c208",
   "metadata": {
    "colab": {
     "base_uri": "https://localhost:8080/",
     "height": 437
    },
    "executionInfo": {
     "elapsed": 463,
     "status": "ok",
     "timestamp": 1715182359814,
     "user": {
      "displayName": "Minh hiếu Phạm",
      "userId": "13621231777531886646"
     },
     "user_tz": -420
    },
    "id": "8b99a955-da6e-40fd-a1b4-64917d28c208",
    "outputId": "62a9a70f-1061-4760-fcbf-400ae6b318c9"
   },
   "outputs": [
    {
     "data": {
      "image/png": "[encoded data removed]",
      "text/plain": [
       "plot without title"
      ]
     },
     "metadata": {
      "image/png": {
       "height": 420,
       "width": 420
      }
     },
     "output_type": "display_data"
    }
   ],
   "source": [
    "plot_binary_distribution(factorized_df, \"Diabetes_binary\", \"Imbalanced dataset: Diabetes_binary\")"
   ]
  },
  {
   "cell_type": "code",
   "execution_count": 210,
   "id": "e3565b0f-c921-4d6d-9547-454cbcad9df6",
   "metadata": {
    "executionInfo": {
     "elapsed": 6,
     "status": "ok",
     "timestamp": 1715182359815,
     "user": {
      "displayName": "Minh hiếu Phạm",
      "userId": "13621231777531886646"
     },
     "user_tz": -420
    },
    "id": "e3565b0f-c921-4d6d-9547-454cbcad9df6"
   },
   "outputs": [],
   "source": [
    "# COMMENT\n",
    "# The dataset is imbalanced"
   ]
  },
  {
   "cell_type": "markdown",
   "id": "3b3409ae-9e8f-4461-bf83-411c9f5b9e49",
   "metadata": {
    "id": "3b3409ae-9e8f-4461-bf83-411c9f5b9e49"
   },
   "source": [
    "### 3.4. Numerical variables analysis"
   ]
  },
  {
   "cell_type": "code",
   "execution_count": 257,
   "id": "a9bf30f3-da91-41b4-973f-77a9f31637fc",
   "metadata": {
    "executionInfo": {
     "elapsed": 5,
     "status": "ok",
     "timestamp": 1715182367477,
     "user": {
      "displayName": "Minh hiếu Phạm",
      "userId": "13621231777531886646"
     },
     "user_tz": -420
    },
    "id": "a9bf30f3-da91-41b4-973f-77a9f31637fc"
   },
   "outputs": [
    {
     "data": {
      "text/html": [
       "<style>\n",
       ".list-inline {list-style: none; margin:0; padding: 0}\n",
       ".list-inline>li {display: inline-block}\n",
       ".list-inline>li:not(:last-child)::after {content: \"\\00b7\"; padding: 0 .5ex}\n",
       "</style>\n",
       "<ol class=list-inline><li>'BMI'</li><li>'MentHlth'</li><li>'PhysHlth'</li></ol>\n"
      ],
      "text/latex": [
       "\\begin{enumerate*}\n",
       "\\item 'BMI'\n",
       "\\item 'MentHlth'\n",
       "\\item 'PhysHlth'\n",
       "\\end{enumerate*}\n"
      ],
      "text/markdown": [
       "1. 'BMI'\n",
       "2. 'MentHlth'\n",
       "3. 'PhysHlth'\n",
       "\n",
       "\n"
      ],
      "text/plain": [
       "[1] \"BMI\"      \"MentHlth\" \"PhysHlth\""
      ]
     },
     "metadata": {},
     "output_type": "display_data"
    }
   ],
   "source": [
    "numerical_cols"
   ]
  },
  {
   "cell_type": "code",
   "execution_count": 212,
   "id": "8a586867-74c9-4f5e-a7fb-613405c243d3",
   "metadata": {
    "colab": {
     "base_uri": "https://localhost:8080/",
     "height": 382
    },
    "executionInfo": {
     "elapsed": 1834,
     "status": "ok",
     "timestamp": 1715182369306,
     "user": {
      "displayName": "Minh hiếu Phạm",
      "userId": "13621231777531886646"
     },
     "user_tz": -420
    },
    "id": "8a586867-74c9-4f5e-a7fb-613405c243d3",
    "outputId": "f599fc23-086f-4a8b-fed5-632fb50f1094"
   },
   "outputs": [
    {
     "data": {
      "text/plain": [
       "\n",
       " Descriptive statistics by group \n",
       "group: 0\n",
       "         vars      n  mean   sd median trimmed  mad min max range skew kurtosis\n",
       "BMI         1 218334 27.81 6.29     27   27.15 4.45  12  98    86 2.33    13.62\n",
       "MentHlth    2 218334  2.98 7.11      0    0.94 0.00   0  30    30 2.86     7.37\n",
       "PhysHlth    3 218334  3.64 8.06      0    1.30 0.00   0  30    30 2.50     5.00\n",
       "           se\n",
       "BMI      0.01\n",
       "MentHlth 0.02\n",
       "PhysHlth 0.02\n",
       "------------------------------------------------------------ \n",
       "group: 1\n",
       "         vars     n  mean    sd median trimmed  mad min max range skew kurtosis\n",
       "BMI         1 35346 31.94  7.36     31   31.24 5.93  13  98    85 1.53     5.72\n",
       "MentHlth    2 35346  4.46  8.95      0    2.02 0.00   0  30    30 2.06     2.87\n",
       "PhysHlth    3 35346  7.95 11.30      1    6.19 1.48   0  30    30 1.15    -0.34\n",
       "           se\n",
       "BMI      0.04\n",
       "MentHlth 0.05\n",
       "PhysHlth 0.06"
      ]
     },
     "metadata": {},
     "output_type": "display_data"
    }
   ],
   "source": [
    "psych::describeBy(factorized_df[,numerical_cols], factorized_df[,response_col])"
   ]
  },
  {
   "cell_type": "code",
   "execution_count": 213,
   "id": "53a66399-9adf-490f-8e26-b99a5aac630f",
   "metadata": {
    "colab": {
     "base_uri": "https://localhost:8080/",
     "height": 437
    },
    "executionInfo": {
     "elapsed": 3416,
     "status": "ok",
     "timestamp": 1715182372719,
     "user": {
      "displayName": "Minh hiếu Phạm",
      "userId": "13621231777531886646"
     },
     "user_tz": -420
    },
    "id": "53a66399-9adf-490f-8e26-b99a5aac630f",
    "outputId": "543a0fb7-2911-4167-f2a4-36ab215bf325"
   },
   "outputs": [
    {
     "data": {
      "image/png": "[encoded data removed]",
      "text/plain": [
       "Plot with title \"PhysHlth\""
      ]
     },
     "metadata": {
      "image/png": {
       "height": 420,
       "width": 420
      }
     },
     "output_type": "display_data"
    }
   ],
   "source": [
    "par(mfrow = c(1,3))\n",
    "boxplot(factorized_df$BMI, main = \"BMI\", col = MAIN_COLOR, las = 1, lwd = 2)\n",
    "boxplot(factorized_df$MentHlth, main = \"MentHlth\", col = MAIN_COLOR, las = 1, lwd = 2)\n",
    "boxplot(factorized_df$PhysHlth, main = \"PhysHlth\", col = MAIN_COLOR, las = 1, lwd = 2)"
   ]
  },
  {
   "cell_type": "code",
   "execution_count": 214,
   "id": "e6952c34-254f-4657-b196-385a338766d4",
   "metadata": {
    "colab": {
     "base_uri": "https://localhost:8080/",
     "height": 437
    },
    "executionInfo": {
     "elapsed": 16,
     "status": "ok",
     "timestamp": 1715182372720,
     "user": {
      "displayName": "Minh hiếu Phạm",
      "userId": "13621231777531886646"
     },
     "user_tz": -420
    },
    "id": "e6952c34-254f-4657-b196-385a338766d4",
    "outputId": "ec85be9e-865c-4da6-ecbe-87d327ec1ed0"
   },
   "outputs": [
    {
     "data": {
      "image/png": "[encoded data removed]",
      "text/plain": [
       "Plot with title \"PhysHlth\""
      ]
     },
     "metadata": {
      "image/png": {
       "height": 420,
       "width": 420
      }
     },
     "output_type": "display_data"
    }
   ],
   "source": [
    "par(mfrow = c(3,1))\n",
    "hist(factorized_df$BMI, main = \"BMI\", xlab = \"BMI score\", col = MAIN_COLOR, las = 1, lwd = 2, xlim = c(0, 100))\n",
    "hist(factorized_df$MentHlth, main = \"MentHlth\", xlab = \"Number of day with Mental Health problem in last 30 days\",\n",
    "    col = MAIN_COLOR, las = 1, lwd = 2)\n",
    "hist(factorized_df$PhysHlth, main = \"PhysHlth\", xlab = \"Number of day with Physical Health problem in last 30 days\",\n",
    "    col = MAIN_COLOR, las = 1, lwd = 2)"
   ]
  },
  {
   "cell_type": "markdown",
   "id": "3b9c3b1c-a363-40ca-bd8f-e8b469509ae0",
   "metadata": {
    "id": "3b9c3b1c-a363-40ca-bd8f-e8b469509ae0"
   },
   "source": [
    "#### 3.4.1. BMI"
   ]
  },
  {
   "cell_type": "code",
   "execution_count": 215,
   "id": "bc02db4a-5696-40a4-9229-4c057dcc43c3",
   "metadata": {
    "colab": {
     "base_uri": "https://localhost:8080/",
     "height": 857
    },
    "executionInfo": {
     "elapsed": 14,
     "status": "ok",
     "timestamp": 1715182372720,
     "user": {
      "displayName": "Minh hiếu Phạm",
      "userId": "13621231777531886646"
     },
     "user_tz": -420
    },
    "id": "bc02db4a-5696-40a4-9229-4c057dcc43c3",
    "outputId": "952f2797-2377-4c31-c0d1-96eaa6b07281"
   },
   "outputs": [
    {
     "data": {
      "image/png": "[encoded data removed]",
      "text/plain": [
       "Plot with title \"BMI\""
      ]
     },
     "metadata": {
      "image/png": {
       "height": 420,
       "width": 420
      }
     },
     "output_type": "display_data"
    },
    {
     "data": {
      "image/png": "[encoded data removed]",
      "text/plain": [
       "Plot with title \"BMI\""
      ]
     },
     "metadata": {
      "image/png": {
       "height": 420,
       "width": 420
      }
     },
     "output_type": "display_data"
    }
   ],
   "source": [
    "boxplot(factorized_df$BMI, main = \"BMI\", col = MAIN_COLOR, las = 1, lwd = 2)\n",
    "hist(factorized_df$BMI, main = \"BMI\", xlab = \"BMI score\", col = MAIN_COLOR, las = 1, lwd = 2, xlim = c(0, 100))"
   ]
  },
  {
   "cell_type": "code",
   "execution_count": 258,
   "id": "LxAF7aJ5sTd7",
   "metadata": {
    "colab": {
     "base_uri": "https://localhost:8080/",
     "height": 164
    },
    "executionInfo": {
     "elapsed": 525,
     "status": "ok",
     "timestamp": 1715182373233,
     "user": {
      "displayName": "Minh hiếu Phạm",
      "userId": "13621231777531886646"
     },
     "user_tz": -420
    },
    "id": "LxAF7aJ5sTd7",
    "outputId": "4f5a4761-d1eb-468f-d519-828f52c4d1f1"
   },
   "outputs": [
    {
     "name": "stderr",
     "output_type": "stream",
     "text": [
      "Warning message in describeBy(factorized_df[no_diabetes_rows, ]$BMI):\n",
      "\"no grouping variable requested\"\n"
     ]
    },
    {
     "data": {
      "text/html": [
       "<table class=\"dataframe\">\n",
       "<caption>A psych: 1 × 13</caption>\n",
       "<thead>\n",
       "\t<tr><th></th><th scope=col>vars</th><th scope=col>n</th><th scope=col>mean</th><th scope=col>sd</th><th scope=col>median</th><th scope=col>trimmed</th><th scope=col>mad</th><th scope=col>min</th><th scope=col>max</th><th scope=col>range</th><th scope=col>skew</th><th scope=col>kurtosis</th><th scope=col>se</th></tr>\n",
       "\t<tr><th></th><th scope=col>&lt;dbl&gt;</th><th scope=col>&lt;dbl&gt;</th><th scope=col>&lt;dbl&gt;</th><th scope=col>&lt;dbl&gt;</th><th scope=col>&lt;dbl&gt;</th><th scope=col>&lt;dbl&gt;</th><th scope=col>&lt;dbl&gt;</th><th scope=col>&lt;dbl&gt;</th><th scope=col>&lt;dbl&gt;</th><th scope=col>&lt;dbl&gt;</th><th scope=col>&lt;dbl&gt;</th><th scope=col>&lt;dbl&gt;</th><th scope=col>&lt;dbl&gt;</th></tr>\n",
       "</thead>\n",
       "<tbody>\n",
       "\t<tr><th scope=row>X1</th><td>1</td><td>218334</td><td>27.80577</td><td>6.291414</td><td>27</td><td>27.1532</td><td>4.4478</td><td>12</td><td>98</td><td>86</td><td>2.331081</td><td>13.61643</td><td>0.01346442</td></tr>\n",
       "</tbody>\n",
       "</table>\n"
      ],
      "text/latex": [
       "A psych: 1 × 13\n",
       "\\begin{tabular}{r|lllllllllllll}\n",
       "  & vars & n & mean & sd & median & trimmed & mad & min & max & range & skew & kurtosis & se\\\\\n",
       "  & <dbl> & <dbl> & <dbl> & <dbl> & <dbl> & <dbl> & <dbl> & <dbl> & <dbl> & <dbl> & <dbl> & <dbl> & <dbl>\\\\\n",
       "\\hline\n",
       "\tX1 & 1 & 218334 & 27.80577 & 6.291414 & 27 & 27.1532 & 4.4478 & 12 & 98 & 86 & 2.331081 & 13.61643 & 0.01346442\\\\\n",
       "\\end{tabular}\n"
      ],
      "text/markdown": [
       "\n",
       "A psych: 1 × 13\n",
       "\n",
       "| <!--/--> | vars &lt;dbl&gt; | n &lt;dbl&gt; | mean &lt;dbl&gt; | sd &lt;dbl&gt; | median &lt;dbl&gt; | trimmed &lt;dbl&gt; | mad &lt;dbl&gt; | min &lt;dbl&gt; | max &lt;dbl&gt; | range &lt;dbl&gt; | skew &lt;dbl&gt; | kurtosis &lt;dbl&gt; | se &lt;dbl&gt; |\n",
       "|---|---|---|---|---|---|---|---|---|---|---|---|---|---|\n",
       "| X1 | 1 | 218334 | 27.80577 | 6.291414 | 27 | 27.1532 | 4.4478 | 12 | 98 | 86 | 2.331081 | 13.61643 | 0.01346442 |\n",
       "\n"
      ],
      "text/plain": [
       "   vars n      mean     sd       median trimmed mad    min max range skew    \n",
       "X1 1    218334 27.80577 6.291414 27     27.1532 4.4478 12  98  86    2.331081\n",
       "   kurtosis se        \n",
       "X1 13.61643 0.01346442"
      ]
     },
     "metadata": {},
     "output_type": "display_data"
    },
    {
     "name": "stderr",
     "output_type": "stream",
     "text": [
      "Warning message in describeBy(factorized_df[with_diabetes_rows, ]$BMI):\n",
      "\"no grouping variable requested\"\n"
     ]
    },
    {
     "data": {
      "text/html": [
       "<table class=\"dataframe\">\n",
       "<caption>A psych: 1 × 13</caption>\n",
       "<thead>\n",
       "\t<tr><th></th><th scope=col>vars</th><th scope=col>n</th><th scope=col>mean</th><th scope=col>sd</th><th scope=col>median</th><th scope=col>trimmed</th><th scope=col>mad</th><th scope=col>min</th><th scope=col>max</th><th scope=col>range</th><th scope=col>skew</th><th scope=col>kurtosis</th><th scope=col>se</th></tr>\n",
       "\t<tr><th></th><th scope=col>&lt;dbl&gt;</th><th scope=col>&lt;dbl&gt;</th><th scope=col>&lt;dbl&gt;</th><th scope=col>&lt;dbl&gt;</th><th scope=col>&lt;dbl&gt;</th><th scope=col>&lt;dbl&gt;</th><th scope=col>&lt;dbl&gt;</th><th scope=col>&lt;dbl&gt;</th><th scope=col>&lt;dbl&gt;</th><th scope=col>&lt;dbl&gt;</th><th scope=col>&lt;dbl&gt;</th><th scope=col>&lt;dbl&gt;</th><th scope=col>&lt;dbl&gt;</th></tr>\n",
       "</thead>\n",
       "<tbody>\n",
       "\t<tr><th scope=row>X1</th><td>1</td><td>35346</td><td>31.94401</td><td>7.363401</td><td>31</td><td>31.23527</td><td>5.9304</td><td>13</td><td>98</td><td>85</td><td>1.526888</td><td>5.71591</td><td>0.03916592</td></tr>\n",
       "</tbody>\n",
       "</table>\n"
      ],
      "text/latex": [
       "A psych: 1 × 13\n",
       "\\begin{tabular}{r|lllllllllllll}\n",
       "  & vars & n & mean & sd & median & trimmed & mad & min & max & range & skew & kurtosis & se\\\\\n",
       "  & <dbl> & <dbl> & <dbl> & <dbl> & <dbl> & <dbl> & <dbl> & <dbl> & <dbl> & <dbl> & <dbl> & <dbl> & <dbl>\\\\\n",
       "\\hline\n",
       "\tX1 & 1 & 35346 & 31.94401 & 7.363401 & 31 & 31.23527 & 5.9304 & 13 & 98 & 85 & 1.526888 & 5.71591 & 0.03916592\\\\\n",
       "\\end{tabular}\n"
      ],
      "text/markdown": [
       "\n",
       "A psych: 1 × 13\n",
       "\n",
       "| <!--/--> | vars &lt;dbl&gt; | n &lt;dbl&gt; | mean &lt;dbl&gt; | sd &lt;dbl&gt; | median &lt;dbl&gt; | trimmed &lt;dbl&gt; | mad &lt;dbl&gt; | min &lt;dbl&gt; | max &lt;dbl&gt; | range &lt;dbl&gt; | skew &lt;dbl&gt; | kurtosis &lt;dbl&gt; | se &lt;dbl&gt; |\n",
       "|---|---|---|---|---|---|---|---|---|---|---|---|---|---|\n",
       "| X1 | 1 | 35346 | 31.94401 | 7.363401 | 31 | 31.23527 | 5.9304 | 13 | 98 | 85 | 1.526888 | 5.71591 | 0.03916592 |\n",
       "\n"
      ],
      "text/plain": [
       "   vars n     mean     sd       median trimmed  mad    min max range skew    \n",
       "X1 1    35346 31.94401 7.363401 31     31.23527 5.9304 13  98  85    1.526888\n",
       "   kurtosis se        \n",
       "X1 5.71591  0.03916592"
      ]
     },
     "metadata": {},
     "output_type": "display_data"
    }
   ],
   "source": [
    "describeBy(factorized_df[no_diabetes_rows, ]$BMI)\n",
    "describeBy(factorized_df[with_diabetes_rows, ]$BMI)"
   ]
  },
  {
   "cell_type": "code",
   "execution_count": 218,
   "id": "ZalTrefNsOfz",
   "metadata": {
    "colab": {
     "base_uri": "https://localhost:8080/",
     "height": 857
    },
    "executionInfo": {
     "elapsed": 499,
     "status": "ok",
     "timestamp": 1715182373706,
     "user": {
      "displayName": "Minh hiếu Phạm",
      "userId": "13621231777531886646"
     },
     "user_tz": -420
    },
    "id": "ZalTrefNsOfz",
    "outputId": "f28add06-5462-412e-c03e-3e78703df7fb"
   },
   "outputs": [
    {
     "data": {
      "image/png": "[encoded data removed]",
      "text/plain": [
       "Plot with title \"BMI\""
      ]
     },
     "metadata": {
      "image/png": {
       "height": 420,
       "width": 420
      }
     },
     "output_type": "display_data"
    },
    {
     "data": {
      "image/png": "[encoded data removed]",
      "text/plain": [
       "Plot with title \"BMI\""
      ]
     },
     "metadata": {
      "image/png": {
       "height": 420,
       "width": 420
      }
     },
     "output_type": "display_data"
    }
   ],
   "source": [
    "hist(factorized_df[with_diabetes_rows, ]$BMI, main = \"BMI\", xlab = \"BMI score\", col = MAIN_COLOR, las = 1, lwd = 2, xlim = c(0, 100))\n",
    "hist(factorized_df[no_diabetes_rows, ]$BMI, main = \"BMI\", xlab = \"BMI score\", col = MAIN_COLOR, las = 1, lwd = 2, xlim = c(0, 100))"
   ]
  },
  {
   "cell_type": "code",
   "execution_count": 219,
   "id": "6fb04474-018e-4a1c-a632-f392d9f39bae",
   "metadata": {
    "colab": {
     "base_uri": "https://localhost:8080/",
     "height": 34
    },
    "executionInfo": {
     "elapsed": 34,
     "status": "ok",
     "timestamp": 1715182373708,
     "user": {
      "displayName": "Minh hiếu Phạm",
      "userId": "13621231777531886646"
     },
     "user_tz": -420
    },
    "id": "6fb04474-018e-4a1c-a632-f392d9f39bae",
    "outputId": "c9fedc1f-58f0-497e-bfb9-a8b9a1e6c803"
   },
   "outputs": [
    {
     "name": "stdout",
     "output_type": "stream",
     "text": [
      "[1] \"Binary variable vs numerical variable\"\n"
     ]
    },
    {
     "data": {
      "text/html": [
       "<strong>cor:</strong> 0.216843060203119"
      ],
      "text/latex": [
       "\\textbf{cor:} 0.216843060203119"
      ],
      "text/markdown": [
       "**cor:** 0.216843060203119"
      ],
      "text/plain": [
       "      cor \n",
       "0.2168431 "
      ]
     },
     "metadata": {},
     "output_type": "display_data"
    }
   ],
   "source": [
    "get_correlation(factorized_df, \"BMI\", response_col, numerical_cols, binary_cols, ordinal_cols, response_col)"
   ]
  },
  {
   "cell_type": "code",
   "execution_count": 220,
   "id": "23b25b65-538c-4b2d-b910-df8d5693dd83",
   "metadata": {
    "colab": {
     "base_uri": "https://localhost:8080/"
    },
    "executionInfo": {
     "elapsed": 31,
     "status": "ok",
     "timestamp": 1715182373709,
     "user": {
      "displayName": "Minh hiếu Phạm",
      "userId": "13621231777531886646"
     },
     "user_tz": -420
    },
    "id": "23b25b65-538c-4b2d-b910-df8d5693dd83",
    "outputId": "90abc097-990f-4bb5-8d52-7be3fef890b3"
   },
   "outputs": [
    {
     "name": "stdout",
     "output_type": "stream",
     "text": [
      "Maximum value of boxplot BMI: 41.5"
     ]
    }
   ],
   "source": [
    "BMI_q1 = quantile(factorized_df$BMI, probs = 0.25, names = F)\n",
    "BMI_q3 = quantile(factorized_df$BMI, probs = 0.75, names = F)\n",
    "BMI_upper_quartile = BMI_q3 + 1.5 * (BMI_q3 - BMI_q1)\n",
    "cat(\"Maximum value of boxplot BMI:\", BMI_upper_quartile)"
   ]
  },
  {
   "cell_type": "markdown",
   "id": "54c73519-3465-437d-a2ab-8f4aa571284e",
   "metadata": {
    "id": "54c73519-3465-437d-a2ab-8f4aa571284e"
   },
   "source": [
    "#### Question: The percentage of diabetes people having BMI under 45 and over 45."
   ]
  },
  {
   "cell_type": "code",
   "execution_count": 221,
   "id": "3ba71cfe-e4cc-423e-9d61-d75302362407",
   "metadata": {
    "executionInfo": {
     "elapsed": 15,
     "status": "ok",
     "timestamp": 1715182373709,
     "user": {
      "displayName": "Minh hiếu Phạm",
      "userId": "13621231777531886646"
     },
     "user_tz": -420
    },
    "id": "3ba71cfe-e4cc-423e-9d61-d75302362407"
   },
   "outputs": [],
   "source": [
    "BMI_THRESH_HOLD = 41.5"
   ]
  },
  {
   "cell_type": "code",
   "execution_count": 222,
   "id": "c2b8dd28-c35b-4362-bd82-a495b4859b49",
   "metadata": {
    "colab": {
     "base_uri": "https://localhost:8080/",
     "height": 86
    },
    "executionInfo": {
     "elapsed": 15,
     "status": "ok",
     "timestamp": 1715182373710,
     "user": {
      "displayName": "Minh hiếu Phạm",
      "userId": "13621231777531886646"
     },
     "user_tz": -420
    },
    "id": "c2b8dd28-c35b-4362-bd82-a495b4859b49",
    "outputId": "50526cd9-2105-4022-ca5c-b7cd0f88380e"
   },
   "outputs": [
    {
     "data": {
      "text/plain": [
       "            \n",
       "             no diabetes diabetes\n",
       "  BMI < 41.5      211879    31981\n",
       "  BMI > 41.5        6455     3365"
      ]
     },
     "metadata": {},
     "output_type": "display_data"
    }
   ],
   "source": [
    "BMI_table = table(ifelse(factorized_df$BMI > BMI_THRESH_HOLD, sprintf(\"BMI > %g\", BMI_THRESH_HOLD), sprintf(\"BMI < %g\", BMI_THRESH_HOLD)),\n",
    "      ifelse(factorized_df$Diabetes_binary == 1, \"diabetes\", \"no diabetes\"))\n",
    "BMI_table = BMI_table[, c(2, 1)]\n",
    "BMI_table"
   ]
  },
  {
   "cell_type": "code",
   "execution_count": 223,
   "id": "cdfc75ec-3b94-4e5d-b80f-7a17a24390bd",
   "metadata": {
    "colab": {
     "base_uri": "https://localhost:8080/",
     "height": 437
    },
    "executionInfo": {
     "elapsed": 476,
     "status": "ok",
     "timestamp": 1715182374173,
     "user": {
      "displayName": "Minh hiếu Phạm",
      "userId": "13621231777531886646"
     },
     "user_tz": -420
    },
    "id": "cdfc75ec-3b94-4e5d-b80f-7a17a24390bd",
    "outputId": "92069dce-57f5-4be6-eaf6-6bb762ecd55a"
   },
   "outputs": [
    {
     "data": {
      "image/png": "[encoded data removed]",
      "text/plain": [
       "plot without title"
      ]
     },
     "metadata": {
      "image/png": {
       "height": 420,
       "width": 420
      }
     },
     "output_type": "display_data"
    }
   ],
   "source": [
    "plot_stack_bar_2x2(BMI_table)"
   ]
  },
  {
   "cell_type": "code",
   "execution_count": 224,
   "id": "dec33769-0ee1-4c8d-a35f-73ebf5c693a2",
   "metadata": {
    "colab": {
     "base_uri": "https://localhost:8080/",
     "height": 34
    },
    "executionInfo": {
     "elapsed": 35,
     "status": "ok",
     "timestamp": 1715182374173,
     "user": {
      "displayName": "Minh hiếu Phạm",
      "userId": "13621231777531886646"
     },
     "user_tz": -420
    },
    "id": "dec33769-0ee1-4c8d-a35f-73ebf5c693a2",
    "outputId": "05cf093c-ecd8-49a0-ab98-cf5c92c81d8a"
   },
   "outputs": [
    {
     "data": {
      "text/html": [
       "<style>\n",
       ".dl-inline {width: auto; margin:0; padding: 0}\n",
       ".dl-inline>dt, .dl-inline>dd {float: none; width: auto; display: inline-block}\n",
       ".dl-inline>dt::after {content: \":\\0020\"; padding-right: .5ex}\n",
       ".dl-inline>dt:not(:first-of-type) {padding-left: .5ex}\n",
       "</style><dl class=dl-inline><dt>odds ratio</dt><dd>3.45370068803682</dd><dt>lwr.ci</dt><dd>3.30734444724587</dd><dt>upr.ci</dt><dd>3.60653346901284</dd></dl>\n"
      ],
      "text/latex": [
       "\\begin{description*}\n",
       "\\item[odds ratio] 3.45370068803682\n",
       "\\item[lwr.ci] 3.30734444724587\n",
       "\\item[upr.ci] 3.60653346901284\n",
       "\\end{description*}\n"
      ],
      "text/markdown": [
       "odds ratio\n",
       ":   3.45370068803682lwr.ci\n",
       ":   3.30734444724587upr.ci\n",
       ":   3.60653346901284\n",
       "\n"
      ],
      "text/plain": [
       "odds ratio     lwr.ci     upr.ci \n",
       "  3.453701   3.307344   3.606533 "
      ]
     },
     "metadata": {},
     "output_type": "display_data"
    }
   ],
   "source": [
    "DescTools::OddsRatio(BMI_table, conf.level = 0.95)"
   ]
  },
  {
   "cell_type": "code",
   "execution_count": 225,
   "id": "a7f6aa01-41f8-4cd0-a31d-d80636e03021",
   "metadata": {
    "executionInfo": {
     "elapsed": 34,
     "status": "ok",
     "timestamp": 1715182374174,
     "user": {
      "displayName": "Minh hiếu Phạm",
      "userId": "13621231777531886646"
     },
     "user_tz": -420
    },
    "id": "a7f6aa01-41f8-4cd0-a31d-d80636e03021"
   },
   "outputs": [],
   "source": [
    "# COMMENT\n",
    "# odds ratio = 3.453 > 1\n",
    "# People with BMI over 41.5 are 3.453 times more likely to have diabetes than others.\n",
    "# => Create a binary variable that to distinguish people having BMI over 45."
   ]
  },
  {
   "cell_type": "code",
   "execution_count": 226,
   "id": "4ea84942-15ce-443e-b5d9-1bb9a460ae47",
   "metadata": {
    "executionInfo": {
     "elapsed": 33,
     "status": "ok",
     "timestamp": 1715182374174,
     "user": {
      "displayName": "Minh hiếu Phạm",
      "userId": "13621231777531886646"
     },
     "user_tz": -420
    },
    "id": "4ea84942-15ce-443e-b5d9-1bb9a460ae47"
   },
   "outputs": [],
   "source": [
    "if (!\"BMI_over_41.5\" %in% binary_cols)\n",
    "{\n",
    "    binary_cols = append(binary_cols, \"BMI_over_41.5\")\n",
    "    new_column = factor(as.integer(ifelse(factorized_df$BMI > BMI_THRESH_HOLD, 1, 0)))\n",
    "    BMI_index = which(colnames(factorized_df) == \"BMI\")\n",
    "    factorized_df = cbind(factorized_df[,1:BMI_index], BMI_over_41.5 = new_column, factorized_df[,(BMI_index+1):ncol(factorized_df)])\n",
    "}"
   ]
  },
  {
   "cell_type": "code",
   "execution_count": 227,
   "id": "b35b11c0-3b15-4849-a5ec-b7a0b7950b53",
   "metadata": {
    "colab": {
     "base_uri": "https://localhost:8080/"
    },
    "executionInfo": {
     "elapsed": 35,
     "status": "ok",
     "timestamp": 1715182374178,
     "user": {
      "displayName": "Minh hiếu Phạm",
      "userId": "13621231777531886646"
     },
     "user_tz": -420
    },
    "id": "b35b11c0-3b15-4849-a5ec-b7a0b7950b53",
    "outputId": "5c9591c1-d9ce-4769-e616-661263727830"
   },
   "outputs": [
    {
     "name": "stdout",
     "output_type": "stream",
     "text": [
      "'data.frame':\t253680 obs. of  23 variables:\n",
      " $ HighBP              : Factor w/ 2 levels \"0\",\"1\": 2 1 2 2 2 2 2 2 2 1 ...\n",
      " $ HighChol            : Factor w/ 2 levels \"0\",\"1\": 2 1 2 1 2 2 1 2 2 1 ...\n",
      " $ CholCheck           : Factor w/ 2 levels \"0\",\"1\": 2 1 2 2 2 2 2 2 2 2 ...\n",
      " $ BMI                 : int  40 25 28 27 24 25 30 25 30 24 ...\n",
      " $ BMI_over_41.5       : Factor w/ 2 levels \"0\",\"1\": 1 1 1 1 1 1 1 1 1 1 ...\n",
      " $ Smoker              : Factor w/ 2 levels \"0\",\"1\": 2 2 1 1 1 2 2 2 2 1 ...\n",
      " $ Stroke              : Factor w/ 2 levels \"0\",\"1\": 1 1 1 1 1 1 1 1 1 1 ...\n",
      " $ HeartDiseaseorAttack: Factor w/ 2 levels \"0\",\"1\": 1 1 1 1 1 1 1 1 2 1 ...\n",
      " $ PhysActivity        : Factor w/ 2 levels \"0\",\"1\": 1 2 1 2 2 2 1 2 1 1 ...\n",
      " $ Fruits              : Factor w/ 2 levels \"0\",\"1\": 1 1 2 2 2 2 1 1 2 1 ...\n",
      " $ Veggies             : Factor w/ 2 levels \"0\",\"1\": 2 1 1 2 2 2 1 2 2 2 ...\n",
      " $ HvyAlcoholConsump   : Factor w/ 2 levels \"0\",\"1\": 1 1 1 1 1 1 1 1 1 1 ...\n",
      " $ AnyHealthcare       : Factor w/ 2 levels \"0\",\"1\": 2 1 2 2 2 2 2 2 2 2 ...\n",
      " $ NoDocbcCost         : Factor w/ 2 levels \"0\",\"1\": 1 2 2 1 1 1 1 1 1 1 ...\n",
      " $ GenHlth             : Ord.factor w/ 5 levels \"1\"<\"2\"<\"3\"<\"4\"<..: 5 3 5 2 2 2 3 3 5 2 ...\n",
      " $ MentHlth            : int  18 0 30 0 3 0 0 0 30 0 ...\n",
      " $ PhysHlth            : int  15 0 30 0 0 2 14 0 30 0 ...\n",
      " $ DiffWalk            : Factor w/ 2 levels \"0\",\"1\": 2 1 2 1 1 1 1 2 2 1 ...\n",
      " $ Sex                 : Factor w/ 2 levels \"0\",\"1\": 1 1 1 1 1 2 1 1 1 2 ...\n",
      " $ Age                 : Ord.factor w/ 13 levels \"1\"<\"2\"<\"3\"<\"4\"<..: 9 7 9 11 11 10 9 11 9 8 ...\n",
      " $ Education           : Ord.factor w/ 6 levels \"1\"<\"2\"<\"3\"<\"4\"<..: 4 6 4 3 5 6 6 4 5 4 ...\n",
      " $ Income              : Ord.factor w/ 8 levels \"1\"<\"2\"<\"3\"<\"4\"<..: 3 1 8 6 4 8 7 4 1 3 ...\n",
      " $ Diabetes_binary     : Factor w/ 2 levels \"0\",\"1\": 1 1 1 1 1 1 1 1 2 1 ...\n"
     ]
    }
   ],
   "source": [
    "str(factorized_df)"
   ]
  },
  {
   "cell_type": "code",
   "execution_count": 180,
   "id": "0a460443-d381-4ac1-a065-d98c5b4492c4",
   "metadata": {
    "colab": {
     "base_uri": "https://localhost:8080/",
     "height": 34
    },
    "executionInfo": {
     "elapsed": 430,
     "status": "ok",
     "timestamp": 1715182374590,
     "user": {
      "displayName": "Minh hiếu Phạm",
      "userId": "13621231777531886646"
     },
     "user_tz": -420
    },
    "id": "0a460443-d381-4ac1-a065-d98c5b4492c4",
    "outputId": "c3c84888-0ea0-415b-ea7b-cfdbdb2c6c68"
   },
   "outputs": [
    {
     "name": "stdout",
     "output_type": "stream",
     "text": [
      "[1] \"2 binary variables\"\n"
     ]
    },
    {
     "data": {
      "text/html": [
       "<strong>Cramer V:</strong> 0.1178"
      ],
      "text/latex": [
       "\\textbf{Cramer V:} 0.1178"
      ],
      "text/markdown": [
       "**Cramer V:** 0.1178"
      ],
      "text/plain": [
       "Cramer V \n",
       "  0.1178 "
      ]
     },
     "metadata": {},
     "output_type": "display_data"
    }
   ],
   "source": [
    "get_correlation(factorized_df, \"BMI_over_41.5\", response_col, numerical_cols, binary_cols, ordinal_cols, response_col)"
   ]
  },
  {
   "cell_type": "code",
   "execution_count": 228,
   "id": "8543902f-c034-48e2-aa1c-f55d9c4d6485",
   "metadata": {},
   "outputs": [
    {
     "name": "stdout",
     "output_type": "stream",
     "text": [
      "[1] \"Binary variable vs numerical variable\"\n"
     ]
    },
    {
     "data": {
      "text/html": [
       "<strong>cor:</strong> 0.216843060203119"
      ],
      "text/latex": [
       "\\textbf{cor:} 0.216843060203119"
      ],
      "text/markdown": [
       "**cor:** 0.216843060203119"
      ],
      "text/plain": [
       "      cor \n",
       "0.2168431 "
      ]
     },
     "metadata": {},
     "output_type": "display_data"
    }
   ],
   "source": [
    "get_correlation(factorized_df, \"BMI\", response_col, numerical_cols, binary_cols, ordinal_cols, response_col)"
   ]
  },
  {
   "cell_type": "code",
   "execution_count": 229,
   "id": "85e2b6b2-7794-48e1-b6d0-94a448f4b4df",
   "metadata": {
    "executionInfo": {
     "elapsed": 24,
     "status": "ok",
     "timestamp": 1715182374590,
     "user": {
      "displayName": "Minh hiếu Phạm",
      "userId": "13621231777531886646"
     },
     "user_tz": -420
    },
    "id": "85e2b6b2-7794-48e1-b6d0-94a448f4b4df"
   },
   "outputs": [],
   "source": [
    "# COMMENT\n",
    "# Correlation of new explain variable: BMI_over_45 is lower than original explain variable\n",
    "# => Eliminate this explain variable"
   ]
  },
  {
   "cell_type": "code",
   "execution_count": 230,
   "id": "7f813fb6-47d2-4edd-9c4a-cdbb8f838cd8",
   "metadata": {
    "executionInfo": {
     "elapsed": 22,
     "status": "ok",
     "timestamp": 1715182374591,
     "user": {
      "displayName": "Minh hiếu Phạm",
      "userId": "13621231777531886646"
     },
     "user_tz": -420
    },
    "id": "7f813fb6-47d2-4edd-9c4a-cdbb8f838cd8"
   },
   "outputs": [],
   "source": [
    "if (\"BMI_over_41.5\" %in% binary_cols)\n",
    "{\n",
    "    factorized_df = subset(factorized_df, select = -BMI_over_41.5)\n",
    "    binary_cols = binary_cols[binary_cols != \"BMI_over_41.5\"]\n",
    "}"
   ]
  },
  {
   "cell_type": "code",
   "execution_count": 231,
   "id": "2dd8ae10-9c7c-4a0f-8715-312a76fff93f",
   "metadata": {
    "colab": {
     "base_uri": "https://localhost:8080/"
    },
    "executionInfo": {
     "elapsed": 21,
     "status": "ok",
     "timestamp": 1715182374591,
     "user": {
      "displayName": "Minh hiếu Phạm",
      "userId": "13621231777531886646"
     },
     "user_tz": -420
    },
    "id": "2dd8ae10-9c7c-4a0f-8715-312a76fff93f",
    "outputId": "04d7bb2b-8351-47d6-d945-a5f5a9e566f3"
   },
   "outputs": [
    {
     "name": "stdout",
     "output_type": "stream",
     "text": [
      "'data.frame':\t253680 obs. of  22 variables:\n",
      " $ HighBP              : Factor w/ 2 levels \"0\",\"1\": 2 1 2 2 2 2 2 2 2 1 ...\n",
      " $ HighChol            : Factor w/ 2 levels \"0\",\"1\": 2 1 2 1 2 2 1 2 2 1 ...\n",
      " $ CholCheck           : Factor w/ 2 levels \"0\",\"1\": 2 1 2 2 2 2 2 2 2 2 ...\n",
      " $ BMI                 : int  40 25 28 27 24 25 30 25 30 24 ...\n",
      " $ Smoker              : Factor w/ 2 levels \"0\",\"1\": 2 2 1 1 1 2 2 2 2 1 ...\n",
      " $ Stroke              : Factor w/ 2 levels \"0\",\"1\": 1 1 1 1 1 1 1 1 1 1 ...\n",
      " $ HeartDiseaseorAttack: Factor w/ 2 levels \"0\",\"1\": 1 1 1 1 1 1 1 1 2 1 ...\n",
      " $ PhysActivity        : Factor w/ 2 levels \"0\",\"1\": 1 2 1 2 2 2 1 2 1 1 ...\n",
      " $ Fruits              : Factor w/ 2 levels \"0\",\"1\": 1 1 2 2 2 2 1 1 2 1 ...\n",
      " $ Veggies             : Factor w/ 2 levels \"0\",\"1\": 2 1 1 2 2 2 1 2 2 2 ...\n",
      " $ HvyAlcoholConsump   : Factor w/ 2 levels \"0\",\"1\": 1 1 1 1 1 1 1 1 1 1 ...\n",
      " $ AnyHealthcare       : Factor w/ 2 levels \"0\",\"1\": 2 1 2 2 2 2 2 2 2 2 ...\n",
      " $ NoDocbcCost         : Factor w/ 2 levels \"0\",\"1\": 1 2 2 1 1 1 1 1 1 1 ...\n",
      " $ GenHlth             : Ord.factor w/ 5 levels \"1\"<\"2\"<\"3\"<\"4\"<..: 5 3 5 2 2 2 3 3 5 2 ...\n",
      " $ MentHlth            : int  18 0 30 0 3 0 0 0 30 0 ...\n",
      " $ PhysHlth            : int  15 0 30 0 0 2 14 0 30 0 ...\n",
      " $ DiffWalk            : Factor w/ 2 levels \"0\",\"1\": 2 1 2 1 1 1 1 2 2 1 ...\n",
      " $ Sex                 : Factor w/ 2 levels \"0\",\"1\": 1 1 1 1 1 2 1 1 1 2 ...\n",
      " $ Age                 : Ord.factor w/ 13 levels \"1\"<\"2\"<\"3\"<\"4\"<..: 9 7 9 11 11 10 9 11 9 8 ...\n",
      " $ Education           : Ord.factor w/ 6 levels \"1\"<\"2\"<\"3\"<\"4\"<..: 4 6 4 3 5 6 6 4 5 4 ...\n",
      " $ Income              : Ord.factor w/ 8 levels \"1\"<\"2\"<\"3\"<\"4\"<..: 3 1 8 6 4 8 7 4 1 3 ...\n",
      " $ Diabetes_binary     : Factor w/ 2 levels \"0\",\"1\": 1 1 1 1 1 1 1 1 2 1 ...\n"
     ]
    }
   ],
   "source": [
    "str(factorized_df)"
   ]
  },
  {
   "cell_type": "markdown",
   "id": "de9211c4-a135-4699-b021-394f136a4719",
   "metadata": {
    "id": "de9211c4-a135-4699-b021-394f136a4719"
   },
   "source": [
    "#### 3.4.2. MentHlth"
   ]
  },
  {
   "cell_type": "code",
   "execution_count": 232,
   "id": "85bf90ab-ec7d-438b-b80e-e81131167235",
   "metadata": {
    "colab": {
     "base_uri": "https://localhost:8080/",
     "height": 857
    },
    "executionInfo": {
     "elapsed": 2068,
     "status": "ok",
     "timestamp": 1715182376651,
     "user": {
      "displayName": "Minh hiếu Phạm",
      "userId": "13621231777531886646"
     },
     "user_tz": -420
    },
    "id": "85bf90ab-ec7d-438b-b80e-e81131167235",
    "outputId": "5f8c1b12-207f-4dba-9e92-fda011be86db"
   },
   "outputs": [
    {
     "data": {
      "image/png": "[encoded data removed]",
      "text/plain": [
       "Plot with title \"MentHlth\""
      ]
     },
     "metadata": {
      "image/png": {
       "height": 420,
       "width": 420
      }
     },
     "output_type": "display_data"
    },
    {
     "data": {
      "image/png": "[encoded data removed]",
      "text/plain": [
       "Plot with title \"MentHlth\""
      ]
     },
     "metadata": {
      "image/png": {
       "height": 420,
       "width": 420
      }
     },
     "output_type": "display_data"
    }
   ],
   "source": [
    "boxplot(factorized_df$MentHlth, main = \"MentHlth\", col = MAIN_COLOR, las = 1, lwd = 2)\n",
    "hist(factorized_df$MentHlth, main = \"MentHlth\", xlab = \"Number of day with Mental Health problem in last 30 days\",\n",
    "    col = MAIN_COLOR, las = 1, lwd = 2, xlim = c(0, 30))"
   ]
  },
  {
   "cell_type": "code",
   "execution_count": 259,
   "id": "66973d56-25ba-4788-b260-31be9ac64cdc",
   "metadata": {},
   "outputs": [
    {
     "name": "stderr",
     "output_type": "stream",
     "text": [
      "Warning message in describeBy(factorized_df[no_diabetes_rows, ]$MentHlth):\n",
      "\"no grouping variable requested\"\n"
     ]
    },
    {
     "data": {
      "text/html": [
       "<table class=\"dataframe\">\n",
       "<caption>A psych: 1 × 13</caption>\n",
       "<thead>\n",
       "\t<tr><th></th><th scope=col>vars</th><th scope=col>n</th><th scope=col>mean</th><th scope=col>sd</th><th scope=col>median</th><th scope=col>trimmed</th><th scope=col>mad</th><th scope=col>min</th><th scope=col>max</th><th scope=col>range</th><th scope=col>skew</th><th scope=col>kurtosis</th><th scope=col>se</th></tr>\n",
       "\t<tr><th></th><th scope=col>&lt;dbl&gt;</th><th scope=col>&lt;dbl&gt;</th><th scope=col>&lt;dbl&gt;</th><th scope=col>&lt;dbl&gt;</th><th scope=col>&lt;dbl&gt;</th><th scope=col>&lt;dbl&gt;</th><th scope=col>&lt;dbl&gt;</th><th scope=col>&lt;dbl&gt;</th><th scope=col>&lt;dbl&gt;</th><th scope=col>&lt;dbl&gt;</th><th scope=col>&lt;dbl&gt;</th><th scope=col>&lt;dbl&gt;</th><th scope=col>&lt;dbl&gt;</th></tr>\n",
       "</thead>\n",
       "<tbody>\n",
       "\t<tr><th scope=row>X1</th><td>1</td><td>218334</td><td>2.978034</td><td>7.111865</td><td>0</td><td>0.9377047</td><td>0</td><td>0</td><td>30</td><td>30</td><td>2.862762</td><td>7.366101</td><td>0.01522029</td></tr>\n",
       "</tbody>\n",
       "</table>\n"
      ],
      "text/latex": [
       "A psych: 1 × 13\n",
       "\\begin{tabular}{r|lllllllllllll}\n",
       "  & vars & n & mean & sd & median & trimmed & mad & min & max & range & skew & kurtosis & se\\\\\n",
       "  & <dbl> & <dbl> & <dbl> & <dbl> & <dbl> & <dbl> & <dbl> & <dbl> & <dbl> & <dbl> & <dbl> & <dbl> & <dbl>\\\\\n",
       "\\hline\n",
       "\tX1 & 1 & 218334 & 2.978034 & 7.111865 & 0 & 0.9377047 & 0 & 0 & 30 & 30 & 2.862762 & 7.366101 & 0.01522029\\\\\n",
       "\\end{tabular}\n"
      ],
      "text/markdown": [
       "\n",
       "A psych: 1 × 13\n",
       "\n",
       "| <!--/--> | vars &lt;dbl&gt; | n &lt;dbl&gt; | mean &lt;dbl&gt; | sd &lt;dbl&gt; | median &lt;dbl&gt; | trimmed &lt;dbl&gt; | mad &lt;dbl&gt; | min &lt;dbl&gt; | max &lt;dbl&gt; | range &lt;dbl&gt; | skew &lt;dbl&gt; | kurtosis &lt;dbl&gt; | se &lt;dbl&gt; |\n",
       "|---|---|---|---|---|---|---|---|---|---|---|---|---|---|\n",
       "| X1 | 1 | 218334 | 2.978034 | 7.111865 | 0 | 0.9377047 | 0 | 0 | 30 | 30 | 2.862762 | 7.366101 | 0.01522029 |\n",
       "\n"
      ],
      "text/plain": [
       "   vars n      mean     sd       median trimmed   mad min max range skew    \n",
       "X1 1    218334 2.978034 7.111865 0      0.9377047 0   0   30  30    2.862762\n",
       "   kurtosis se        \n",
       "X1 7.366101 0.01522029"
      ]
     },
     "metadata": {},
     "output_type": "display_data"
    },
    {
     "name": "stderr",
     "output_type": "stream",
     "text": [
      "Warning message in describeBy(factorized_df[with_diabetes_rows, ]$MentHlth):\n",
      "\"no grouping variable requested\"\n"
     ]
    },
    {
     "data": {
      "text/html": [
       "<table class=\"dataframe\">\n",
       "<caption>A psych: 1 × 13</caption>\n",
       "<thead>\n",
       "\t<tr><th></th><th scope=col>vars</th><th scope=col>n</th><th scope=col>mean</th><th scope=col>sd</th><th scope=col>median</th><th scope=col>trimmed</th><th scope=col>mad</th><th scope=col>min</th><th scope=col>max</th><th scope=col>range</th><th scope=col>skew</th><th scope=col>kurtosis</th><th scope=col>se</th></tr>\n",
       "\t<tr><th></th><th scope=col>&lt;dbl&gt;</th><th scope=col>&lt;dbl&gt;</th><th scope=col>&lt;dbl&gt;</th><th scope=col>&lt;dbl&gt;</th><th scope=col>&lt;dbl&gt;</th><th scope=col>&lt;dbl&gt;</th><th scope=col>&lt;dbl&gt;</th><th scope=col>&lt;dbl&gt;</th><th scope=col>&lt;dbl&gt;</th><th scope=col>&lt;dbl&gt;</th><th scope=col>&lt;dbl&gt;</th><th scope=col>&lt;dbl&gt;</th><th scope=col>&lt;dbl&gt;</th></tr>\n",
       "</thead>\n",
       "<tbody>\n",
       "\t<tr><th scope=row>X1</th><td>1</td><td>35346</td><td>4.461806</td><td>8.947717</td><td>0</td><td>2.016126</td><td>0</td><td>0</td><td>30</td><td>30</td><td>2.064993</td><td>2.872268</td><td>0.0475929</td></tr>\n",
       "</tbody>\n",
       "</table>\n"
      ],
      "text/latex": [
       "A psych: 1 × 13\n",
       "\\begin{tabular}{r|lllllllllllll}\n",
       "  & vars & n & mean & sd & median & trimmed & mad & min & max & range & skew & kurtosis & se\\\\\n",
       "  & <dbl> & <dbl> & <dbl> & <dbl> & <dbl> & <dbl> & <dbl> & <dbl> & <dbl> & <dbl> & <dbl> & <dbl> & <dbl>\\\\\n",
       "\\hline\n",
       "\tX1 & 1 & 35346 & 4.461806 & 8.947717 & 0 & 2.016126 & 0 & 0 & 30 & 30 & 2.064993 & 2.872268 & 0.0475929\\\\\n",
       "\\end{tabular}\n"
      ],
      "text/markdown": [
       "\n",
       "A psych: 1 × 13\n",
       "\n",
       "| <!--/--> | vars &lt;dbl&gt; | n &lt;dbl&gt; | mean &lt;dbl&gt; | sd &lt;dbl&gt; | median &lt;dbl&gt; | trimmed &lt;dbl&gt; | mad &lt;dbl&gt; | min &lt;dbl&gt; | max &lt;dbl&gt; | range &lt;dbl&gt; | skew &lt;dbl&gt; | kurtosis &lt;dbl&gt; | se &lt;dbl&gt; |\n",
       "|---|---|---|---|---|---|---|---|---|---|---|---|---|---|\n",
       "| X1 | 1 | 35346 | 4.461806 | 8.947717 | 0 | 2.016126 | 0 | 0 | 30 | 30 | 2.064993 | 2.872268 | 0.0475929 |\n",
       "\n"
      ],
      "text/plain": [
       "   vars n     mean     sd       median trimmed  mad min max range skew    \n",
       "X1 1    35346 4.461806 8.947717 0      2.016126 0   0   30  30    2.064993\n",
       "   kurtosis se       \n",
       "X1 2.872268 0.0475929"
      ]
     },
     "metadata": {},
     "output_type": "display_data"
    }
   ],
   "source": [
    "describeBy(factorized_df[no_diabetes_rows, ]$MentHlth)\n",
    "describeBy(factorized_df[with_diabetes_rows, ]$MentHlth)"
   ]
  },
  {
   "cell_type": "markdown",
   "id": "64236a94-f522-4527-8538-23018a36b4b3",
   "metadata": {
    "id": "64236a94-f522-4527-8538-23018a36b4b3"
   },
   "source": [
    "#### Question: The percentage of diabetes people having MentHlth or not."
   ]
  },
  {
   "cell_type": "code",
   "execution_count": 233,
   "id": "f8d45331-4845-49fa-b41b-9f95093afa78",
   "metadata": {
    "executionInfo": {
     "elapsed": 13,
     "status": "ok",
     "timestamp": 1715182376651,
     "user": {
      "displayName": "Minh hiếu Phạm",
      "userId": "13621231777531886646"
     },
     "user_tz": -420
    },
    "id": "f8d45331-4845-49fa-b41b-9f95093afa78"
   },
   "outputs": [],
   "source": [
    "MentHlth_table = table(ifelse(factorized_df$MentHlth > 0, \"have MentHlth\", \"no MentHlth\"),\n",
    "      ifelse(factorized_df$Diabetes_binary == 1, \"diabetes\", \"no diabetes\"))"
   ]
  },
  {
   "cell_type": "code",
   "execution_count": 234,
   "id": "a0e7b412-37ba-4586-8d14-b7c9fdfc0f92",
   "metadata": {
    "executionInfo": {
     "elapsed": 13,
     "status": "ok",
     "timestamp": 1715182376652,
     "user": {
      "displayName": "Minh hiếu Phạm",
      "userId": "13621231777531886646"
     },
     "user_tz": -420
    },
    "id": "a0e7b412-37ba-4586-8d14-b7c9fdfc0f92"
   },
   "outputs": [],
   "source": [
    "MentHlth_table = Rev(MentHlth_table)"
   ]
  },
  {
   "cell_type": "code",
   "execution_count": 235,
   "id": "453f36a8-6f98-4125-bdbc-5e1dc6bdca12",
   "metadata": {
    "colab": {
     "base_uri": "https://localhost:8080/",
     "height": 86
    },
    "executionInfo": {
     "elapsed": 12,
     "status": "ok",
     "timestamp": 1715182376652,
     "user": {
      "displayName": "Minh hiếu Phạm",
      "userId": "13621231777531886646"
     },
     "user_tz": -420
    },
    "id": "453f36a8-6f98-4125-bdbc-5e1dc6bdca12",
    "outputId": "4b36cbe4-c0b8-41f2-d7e1-bf80059ff1ab"
   },
   "outputs": [
    {
     "data": {
      "text/plain": [
       "               \n",
       "                no diabetes diabetes\n",
       "  no MentHlth        152277    23403\n",
       "  have MentHlth       66057    11943"
      ]
     },
     "metadata": {},
     "output_type": "display_data"
    }
   ],
   "source": [
    "MentHlth_table"
   ]
  },
  {
   "cell_type": "code",
   "execution_count": 236,
   "id": "371638c6-944d-488b-bb93-59aba62b03e0",
   "metadata": {
    "colab": {
     "base_uri": "https://localhost:8080/",
     "height": 437
    },
    "executionInfo": {
     "elapsed": 435,
     "status": "ok",
     "timestamp": 1715182377077,
     "user": {
      "displayName": "Minh hiếu Phạm",
      "userId": "13621231777531886646"
     },
     "user_tz": -420
    },
    "id": "371638c6-944d-488b-bb93-59aba62b03e0",
    "outputId": "9572663c-e31d-4e7b-9ab5-1880e4838b73"
   },
   "outputs": [
    {
     "data": {
      "image/png": "[encoded data removed]",
      "text/plain": [
       "plot without title"
      ]
     },
     "metadata": {
      "image/png": {
       "height": 420,
       "width": 420
      }
     },
     "output_type": "display_data"
    }
   ],
   "source": [
    "plot_stack_bar_2x2(MentHlth_table)"
   ]
  },
  {
   "cell_type": "code",
   "execution_count": 237,
   "id": "431a6c28-3316-45d8-aa2b-3a0693db5314",
   "metadata": {
    "colab": {
     "base_uri": "https://localhost:8080/",
     "height": 34
    },
    "executionInfo": {
     "elapsed": 8,
     "status": "ok",
     "timestamp": 1715182377077,
     "user": {
      "displayName": "Minh hiếu Phạm",
      "userId": "13621231777531886646"
     },
     "user_tz": -420
    },
    "id": "431a6c28-3316-45d8-aa2b-3a0693db5314",
    "outputId": "f0cc8392-a5e3-4ad2-c13d-fae5c7fb07cb"
   },
   "outputs": [
    {
     "data": {
      "text/html": [
       "<style>\n",
       ".dl-inline {width: auto; margin:0; padding: 0}\n",
       ".dl-inline>dt, .dl-inline>dd {float: none; width: auto; display: inline-block}\n",
       ".dl-inline>dt::after {content: \":\\0020\"; padding-right: .5ex}\n",
       ".dl-inline>dt:not(:first-of-type) {padding-left: .5ex}\n",
       "</style><dl class=dl-inline><dt>odds ratio</dt><dd>1.17640636529665</dd><dt>lwr.ci</dt><dd>1.14867255537634</dd><dt>upr.ci</dt><dd>1.20480978659498</dd></dl>\n"
      ],
      "text/latex": [
       "\\begin{description*}\n",
       "\\item[odds ratio] 1.17640636529665\n",
       "\\item[lwr.ci] 1.14867255537634\n",
       "\\item[upr.ci] 1.20480978659498\n",
       "\\end{description*}\n"
      ],
      "text/markdown": [
       "odds ratio\n",
       ":   1.17640636529665lwr.ci\n",
       ":   1.14867255537634upr.ci\n",
       ":   1.20480978659498\n",
       "\n"
      ],
      "text/plain": [
       "odds ratio     lwr.ci     upr.ci \n",
       "  1.176406   1.148673   1.204810 "
      ]
     },
     "metadata": {},
     "output_type": "display_data"
    }
   ],
   "source": [
    "DescTools::OddsRatio(MentHlth_table, conf.level = 0.95)"
   ]
  },
  {
   "cell_type": "code",
   "execution_count": 238,
   "id": "50b6b4e7-6c0a-4399-bfce-f9d65b216b64",
   "metadata": {
    "executionInfo": {
     "elapsed": 7,
     "status": "ok",
     "timestamp": 1715182377077,
     "user": {
      "displayName": "Minh hiếu Phạm",
      "userId": "13621231777531886646"
     },
     "user_tz": -420
    },
    "id": "50b6b4e7-6c0a-4399-bfce-f9d65b216b64"
   },
   "outputs": [],
   "source": [
    "# COMMENT\n",
    "# odd ratio is close to 1\n",
    "# => No creating new binary variable"
   ]
  },
  {
   "cell_type": "markdown",
   "id": "1b9fe2d6-1822-46b3-b32a-3c8ab4194fcf",
   "metadata": {
    "id": "1b9fe2d6-1822-46b3-b32a-3c8ab4194fcf"
   },
   "source": [
    "#### 3.4.3. PhysHlth"
   ]
  },
  {
   "cell_type": "code",
   "execution_count": 239,
   "id": "5b50f212-344e-4717-b1a7-e9acc0aeba7b",
   "metadata": {
    "colab": {
     "base_uri": "https://localhost:8080/",
     "height": 857
    },
    "executionInfo": {
     "elapsed": 2821,
     "status": "ok",
     "timestamp": 1715182379892,
     "user": {
      "displayName": "Minh hiếu Phạm",
      "userId": "13621231777531886646"
     },
     "user_tz": -420
    },
    "id": "5b50f212-344e-4717-b1a7-e9acc0aeba7b",
    "outputId": "c9976299-f08c-4db1-a486-daa1d53e013f"
   },
   "outputs": [
    {
     "data": {
      "image/png": "[encoded data removed]",
      "text/plain": [
       "Plot with title \"PhysHlth\""
      ]
     },
     "metadata": {
      "image/png": {
       "height": 420,
       "width": 420
      }
     },
     "output_type": "display_data"
    },
    {
     "data": {
      "image/png": "[encoded data removed]",
      "text/plain": [
       "Plot with title \"PhysHlth\""
      ]
     },
     "metadata": {
      "image/png": {
       "height": 420,
       "width": 420
      }
     },
     "output_type": "display_data"
    }
   ],
   "source": [
    "boxplot(factorized_df$PhysHlth, main = \"PhysHlth\", col = MAIN_COLOR, las = 1, lwd = 2)\n",
    "hist(factorized_df$PhysHlth, main = \"PhysHlth\", xlab = \"Number of day with Physical Health problem in last 30 days\",\n",
    "    col = MAIN_COLOR, las = 1, lwd = 2, xlim = c(0, 30))"
   ]
  },
  {
   "cell_type": "code",
   "execution_count": 260,
   "id": "27f20102-e51e-4173-86b4-89885cb21738",
   "metadata": {},
   "outputs": [
    {
     "name": "stderr",
     "output_type": "stream",
     "text": [
      "Warning message in describeBy(factorized_df[no_diabetes_rows, ]$PhysHlth):\n",
      "\"no grouping variable requested\"\n"
     ]
    },
    {
     "data": {
      "text/html": [
       "<table class=\"dataframe\">\n",
       "<caption>A psych: 1 × 13</caption>\n",
       "<thead>\n",
       "\t<tr><th></th><th scope=col>vars</th><th scope=col>n</th><th scope=col>mean</th><th scope=col>sd</th><th scope=col>median</th><th scope=col>trimmed</th><th scope=col>mad</th><th scope=col>min</th><th scope=col>max</th><th scope=col>range</th><th scope=col>skew</th><th scope=col>kurtosis</th><th scope=col>se</th></tr>\n",
       "\t<tr><th></th><th scope=col>&lt;dbl&gt;</th><th scope=col>&lt;dbl&gt;</th><th scope=col>&lt;dbl&gt;</th><th scope=col>&lt;dbl&gt;</th><th scope=col>&lt;dbl&gt;</th><th scope=col>&lt;dbl&gt;</th><th scope=col>&lt;dbl&gt;</th><th scope=col>&lt;dbl&gt;</th><th scope=col>&lt;dbl&gt;</th><th scope=col>&lt;dbl&gt;</th><th scope=col>&lt;dbl&gt;</th><th scope=col>&lt;dbl&gt;</th><th scope=col>&lt;dbl&gt;</th></tr>\n",
       "</thead>\n",
       "<tbody>\n",
       "\t<tr><th scope=row>X1</th><td>1</td><td>218334</td><td>3.641082</td><td>8.0646</td><td>0</td><td>1.304555</td><td>0</td><td>0</td><td>30</td><td>30</td><td>2.496733</td><td>5.003906</td><td>0.01725926</td></tr>\n",
       "</tbody>\n",
       "</table>\n"
      ],
      "text/latex": [
       "A psych: 1 × 13\n",
       "\\begin{tabular}{r|lllllllllllll}\n",
       "  & vars & n & mean & sd & median & trimmed & mad & min & max & range & skew & kurtosis & se\\\\\n",
       "  & <dbl> & <dbl> & <dbl> & <dbl> & <dbl> & <dbl> & <dbl> & <dbl> & <dbl> & <dbl> & <dbl> & <dbl> & <dbl>\\\\\n",
       "\\hline\n",
       "\tX1 & 1 & 218334 & 3.641082 & 8.0646 & 0 & 1.304555 & 0 & 0 & 30 & 30 & 2.496733 & 5.003906 & 0.01725926\\\\\n",
       "\\end{tabular}\n"
      ],
      "text/markdown": [
       "\n",
       "A psych: 1 × 13\n",
       "\n",
       "| <!--/--> | vars &lt;dbl&gt; | n &lt;dbl&gt; | mean &lt;dbl&gt; | sd &lt;dbl&gt; | median &lt;dbl&gt; | trimmed &lt;dbl&gt; | mad &lt;dbl&gt; | min &lt;dbl&gt; | max &lt;dbl&gt; | range &lt;dbl&gt; | skew &lt;dbl&gt; | kurtosis &lt;dbl&gt; | se &lt;dbl&gt; |\n",
       "|---|---|---|---|---|---|---|---|---|---|---|---|---|---|\n",
       "| X1 | 1 | 218334 | 3.641082 | 8.0646 | 0 | 1.304555 | 0 | 0 | 30 | 30 | 2.496733 | 5.003906 | 0.01725926 |\n",
       "\n"
      ],
      "text/plain": [
       "   vars n      mean     sd     median trimmed  mad min max range skew    \n",
       "X1 1    218334 3.641082 8.0646 0      1.304555 0   0   30  30    2.496733\n",
       "   kurtosis se        \n",
       "X1 5.003906 0.01725926"
      ]
     },
     "metadata": {},
     "output_type": "display_data"
    },
    {
     "name": "stderr",
     "output_type": "stream",
     "text": [
      "Warning message in describeBy(factorized_df[with_diabetes_rows, ]$PhysHlth):\n",
      "\"no grouping variable requested\"\n"
     ]
    },
    {
     "data": {
      "text/html": [
       "<table class=\"dataframe\">\n",
       "<caption>A psych: 1 × 13</caption>\n",
       "<thead>\n",
       "\t<tr><th></th><th scope=col>vars</th><th scope=col>n</th><th scope=col>mean</th><th scope=col>sd</th><th scope=col>median</th><th scope=col>trimmed</th><th scope=col>mad</th><th scope=col>min</th><th scope=col>max</th><th scope=col>range</th><th scope=col>skew</th><th scope=col>kurtosis</th><th scope=col>se</th></tr>\n",
       "\t<tr><th></th><th scope=col>&lt;dbl&gt;</th><th scope=col>&lt;dbl&gt;</th><th scope=col>&lt;dbl&gt;</th><th scope=col>&lt;dbl&gt;</th><th scope=col>&lt;dbl&gt;</th><th scope=col>&lt;dbl&gt;</th><th scope=col>&lt;dbl&gt;</th><th scope=col>&lt;dbl&gt;</th><th scope=col>&lt;dbl&gt;</th><th scope=col>&lt;dbl&gt;</th><th scope=col>&lt;dbl&gt;</th><th scope=col>&lt;dbl&gt;</th><th scope=col>&lt;dbl&gt;</th></tr>\n",
       "</thead>\n",
       "<tbody>\n",
       "\t<tr><th scope=row>X1</th><td>1</td><td>35346</td><td>7.954479</td><td>11.30149</td><td>1</td><td>6.193472</td><td>1.4826</td><td>0</td><td>30</td><td>30</td><td>1.14995</td><td>-0.3421938</td><td>0.06011261</td></tr>\n",
       "</tbody>\n",
       "</table>\n"
      ],
      "text/latex": [
       "A psych: 1 × 13\n",
       "\\begin{tabular}{r|lllllllllllll}\n",
       "  & vars & n & mean & sd & median & trimmed & mad & min & max & range & skew & kurtosis & se\\\\\n",
       "  & <dbl> & <dbl> & <dbl> & <dbl> & <dbl> & <dbl> & <dbl> & <dbl> & <dbl> & <dbl> & <dbl> & <dbl> & <dbl>\\\\\n",
       "\\hline\n",
       "\tX1 & 1 & 35346 & 7.954479 & 11.30149 & 1 & 6.193472 & 1.4826 & 0 & 30 & 30 & 1.14995 & -0.3421938 & 0.06011261\\\\\n",
       "\\end{tabular}\n"
      ],
      "text/markdown": [
       "\n",
       "A psych: 1 × 13\n",
       "\n",
       "| <!--/--> | vars &lt;dbl&gt; | n &lt;dbl&gt; | mean &lt;dbl&gt; | sd &lt;dbl&gt; | median &lt;dbl&gt; | trimmed &lt;dbl&gt; | mad &lt;dbl&gt; | min &lt;dbl&gt; | max &lt;dbl&gt; | range &lt;dbl&gt; | skew &lt;dbl&gt; | kurtosis &lt;dbl&gt; | se &lt;dbl&gt; |\n",
       "|---|---|---|---|---|---|---|---|---|---|---|---|---|---|\n",
       "| X1 | 1 | 35346 | 7.954479 | 11.30149 | 1 | 6.193472 | 1.4826 | 0 | 30 | 30 | 1.14995 | -0.3421938 | 0.06011261 |\n",
       "\n"
      ],
      "text/plain": [
       "   vars n     mean     sd       median trimmed  mad    min max range skew   \n",
       "X1 1    35346 7.954479 11.30149 1      6.193472 1.4826 0   30  30    1.14995\n",
       "   kurtosis   se        \n",
       "X1 -0.3421938 0.06011261"
      ]
     },
     "metadata": {},
     "output_type": "display_data"
    }
   ],
   "source": [
    "describeBy(factorized_df[no_diabetes_rows, ]$PhysHlth)\n",
    "describeBy(factorized_df[with_diabetes_rows, ]$PhysHlth)"
   ]
  },
  {
   "cell_type": "code",
   "execution_count": 240,
   "id": "ed94e042-ab40-4540-8a88-12165f066b8a",
   "metadata": {
    "colab": {
     "base_uri": "https://localhost:8080/",
     "height": 34
    },
    "executionInfo": {
     "elapsed": 9,
     "status": "ok",
     "timestamp": 1715182379893,
     "user": {
      "displayName": "Minh hiếu Phạm",
      "userId": "13621231777531886646"
     },
     "user_tz": -420
    },
    "id": "ed94e042-ab40-4540-8a88-12165f066b8a",
    "outputId": "0d895f48-a2dd-4b1f-9354-2cb07befafc8"
   },
   "outputs": [
    {
     "name": "stdout",
     "output_type": "stream",
     "text": [
      "[1] \"Binary variable vs numerical variable\"\n"
     ]
    },
    {
     "data": {
      "text/html": [
       "<strong>cor:</strong> 0.171336700387252"
      ],
      "text/latex": [
       "\\textbf{cor:} 0.171336700387252"
      ],
      "text/markdown": [
       "**cor:** 0.171336700387252"
      ],
      "text/plain": [
       "      cor \n",
       "0.1713367 "
      ]
     },
     "metadata": {},
     "output_type": "display_data"
    }
   ],
   "source": [
    "get_correlation(factorized_df, \"PhysHlth\", response_col, numerical_cols, binary_cols, ordinal_cols, response_col)"
   ]
  },
  {
   "cell_type": "markdown",
   "id": "8baa168a-afdf-486d-a11d-1a9ee0dfc83d",
   "metadata": {
    "id": "8baa168a-afdf-486d-a11d-1a9ee0dfc83d"
   },
   "source": [
    "#### Question: The percentage of diabetes people having PhysHlth or not."
   ]
  },
  {
   "cell_type": "code",
   "execution_count": 242,
   "id": "60ef4d5a-a449-4881-a38c-b63598fca474",
   "metadata": {
    "executionInfo": {
     "elapsed": 463,
     "status": "ok",
     "timestamp": 1715182380349,
     "user": {
      "displayName": "Minh hiếu Phạm",
      "userId": "13621231777531886646"
     },
     "user_tz": -420
    },
    "id": "60ef4d5a-a449-4881-a38c-b63598fca474"
   },
   "outputs": [],
   "source": [
    "PhysHlth_table = table(ifelse(factorized_df$PhysHlth > 0, \"have PhysHlth\", \"no PhysHlth\"),\n",
    "      ifelse(factorized_df$Diabetes_binary == 1, \"diabetes\", \"no diabetes\"))"
   ]
  },
  {
   "cell_type": "code",
   "execution_count": 243,
   "id": "3a3689a4-d442-45e7-ba9c-01d0af557d0f",
   "metadata": {
    "executionInfo": {
     "elapsed": 18,
     "status": "ok",
     "timestamp": 1715182380350,
     "user": {
      "displayName": "Minh hiếu Phạm",
      "userId": "13621231777531886646"
     },
     "user_tz": -420
    },
    "id": "3a3689a4-d442-45e7-ba9c-01d0af557d0f"
   },
   "outputs": [],
   "source": [
    "PhysHlth_table = Rev(PhysHlth_table)"
   ]
  },
  {
   "cell_type": "code",
   "execution_count": 244,
   "id": "cabfe8c9-7897-4573-bab1-3ed14a02e7de",
   "metadata": {
    "colab": {
     "base_uri": "https://localhost:8080/",
     "height": 86
    },
    "executionInfo": {
     "elapsed": 17,
     "status": "ok",
     "timestamp": 1715182380350,
     "user": {
      "displayName": "Minh hiếu Phạm",
      "userId": "13621231777531886646"
     },
     "user_tz": -420
    },
    "id": "cabfe8c9-7897-4573-bab1-3ed14a02e7de",
    "outputId": "f4ec0cb6-0b84-4575-c703-42ba0307fed0"
   },
   "outputs": [
    {
     "data": {
      "text/plain": [
       "               \n",
       "                no diabetes diabetes\n",
       "  no PhysHlth        143312    16740\n",
       "  have PhysHlth       75022    18606"
      ]
     },
     "metadata": {},
     "output_type": "display_data"
    }
   ],
   "source": [
    "PhysHlth_table"
   ]
  },
  {
   "cell_type": "code",
   "execution_count": 245,
   "id": "4a12b13a-4036-42d3-b05f-a6d7cff720a0",
   "metadata": {
    "colab": {
     "base_uri": "https://localhost:8080/",
     "height": 437
    },
    "executionInfo": {
     "elapsed": 16,
     "status": "ok",
     "timestamp": 1715182380351,
     "user": {
      "displayName": "Minh hiếu Phạm",
      "userId": "13621231777531886646"
     },
     "user_tz": -420
    },
    "id": "4a12b13a-4036-42d3-b05f-a6d7cff720a0",
    "outputId": "673e366d-561d-4ffd-fbf3-9d9c39c83a85"
   },
   "outputs": [
    {
     "data": {
      "image/png": "[encoded data removed]",
      "text/plain": [
       "plot without title"
      ]
     },
     "metadata": {
      "image/png": {
       "height": 420,
       "width": 420
      }
     },
     "output_type": "display_data"
    }
   ],
   "source": [
    "plot_stack_bar_2x2(PhysHlth_table)"
   ]
  },
  {
   "cell_type": "code",
   "execution_count": 246,
   "id": "22dbda1a-c06a-4cbf-9013-a3d4c0ed0a73",
   "metadata": {
    "colab": {
     "base_uri": "https://localhost:8080/",
     "height": 34
    },
    "executionInfo": {
     "elapsed": 14,
     "status": "ok",
     "timestamp": 1715182380351,
     "user": {
      "displayName": "Minh hiếu Phạm",
      "userId": "13621231777531886646"
     },
     "user_tz": -420
    },
    "id": "22dbda1a-c06a-4cbf-9013-a3d4c0ed0a73",
    "outputId": "15ac2307-e061-4833-b44d-15e09f0de0bf"
   },
   "outputs": [
    {
     "data": {
      "text/html": [
       "<style>\n",
       ".dl-inline {width: auto; margin:0; padding: 0}\n",
       ".dl-inline>dt, .dl-inline>dd {float: none; width: auto; display: inline-block}\n",
       ".dl-inline>dt::after {content: \":\\0020\"; padding-right: .5ex}\n",
       ".dl-inline>dt:not(:first-of-type) {padding-left: .5ex}\n",
       "</style><dl class=dl-inline><dt>odds ratio</dt><dd>2.12320281869051</dd><dt>lwr.ci</dt><dd>2.0756103070459</dd><dt>upr.ci</dt><dd>2.17188659836214</dd></dl>\n"
      ],
      "text/latex": [
       "\\begin{description*}\n",
       "\\item[odds ratio] 2.12320281869051\n",
       "\\item[lwr.ci] 2.0756103070459\n",
       "\\item[upr.ci] 2.17188659836214\n",
       "\\end{description*}\n"
      ],
      "text/markdown": [
       "odds ratio\n",
       ":   2.12320281869051lwr.ci\n",
       ":   2.0756103070459upr.ci\n",
       ":   2.17188659836214\n",
       "\n"
      ],
      "text/plain": [
       "odds ratio     lwr.ci     upr.ci \n",
       "  2.123203   2.075610   2.171887 "
      ]
     },
     "metadata": {},
     "output_type": "display_data"
    }
   ],
   "source": [
    "OddsRatio(PhysHlth_table, conf.level = 0.95)"
   ]
  },
  {
   "cell_type": "code",
   "execution_count": 247,
   "id": "f6c34478-cbaf-447a-86ce-0c70d4a0e376",
   "metadata": {
    "executionInfo": {
     "elapsed": 407,
     "status": "ok",
     "timestamp": 1715182380746,
     "user": {
      "displayName": "Minh hiếu Phạm",
      "userId": "13621231777531886646"
     },
     "user_tz": -420
    },
    "id": "f6c34478-cbaf-447a-86ce-0c70d4a0e376"
   },
   "outputs": [],
   "source": [
    "# odds ratio = 2.123 > 1\n",
    "# People have PhysHlth are 2.123 times more likely to have diabetes than others.\n",
    "# => Create a binary variable that to distinguish people having PhysHlth."
   ]
  },
  {
   "cell_type": "code",
   "execution_count": 248,
   "id": "60b8f620-7bd7-45a1-a6ed-71174d91c8fd",
   "metadata": {
    "executionInfo": {
     "elapsed": 22,
     "status": "ok",
     "timestamp": 1715182380746,
     "user": {
      "displayName": "Minh hiếu Phạm",
      "userId": "13621231777531886646"
     },
     "user_tz": -420
    },
    "id": "60b8f620-7bd7-45a1-a6ed-71174d91c8fd"
   },
   "outputs": [],
   "source": [
    "if (! \"havePhysHlth\" %in% binary_cols)\n",
    "{\n",
    "    binary_cols = append(binary_cols, \"havePhysHlth\")\n",
    "    new_column = factor(as.integer(ifelse(factorized_df$PhysHlth > 0, 1, 0)))\n",
    "    PhysHlth_index = which(colnames(factorized_df) == \"PhysHlth\")\n",
    "    factorized_df = cbind(factorized_df[,1:PhysHlth_index], havePhysHlth = new_column, factorized_df[,(PhysHlth_index+1):ncol(factorized_df)])\n",
    "}"
   ]
  },
  {
   "cell_type": "code",
   "execution_count": 249,
   "id": "0c9d5475-0a48-4523-bcdd-e0cacc483eec",
   "metadata": {
    "colab": {
     "base_uri": "https://localhost:8080/"
    },
    "executionInfo": {
     "elapsed": 22,
     "status": "ok",
     "timestamp": 1715182380747,
     "user": {
      "displayName": "Minh hiếu Phạm",
      "userId": "13621231777531886646"
     },
     "user_tz": -420
    },
    "id": "0c9d5475-0a48-4523-bcdd-e0cacc483eec",
    "outputId": "f8706618-90d0-46d7-8958-8b297a98c1b3"
   },
   "outputs": [
    {
     "name": "stdout",
     "output_type": "stream",
     "text": [
      "'data.frame':\t253680 obs. of  23 variables:\n",
      " $ HighBP              : Factor w/ 2 levels \"0\",\"1\": 2 1 2 2 2 2 2 2 2 1 ...\n",
      " $ HighChol            : Factor w/ 2 levels \"0\",\"1\": 2 1 2 1 2 2 1 2 2 1 ...\n",
      " $ CholCheck           : Factor w/ 2 levels \"0\",\"1\": 2 1 2 2 2 2 2 2 2 2 ...\n",
      " $ BMI                 : int  40 25 28 27 24 25 30 25 30 24 ...\n",
      " $ Smoker              : Factor w/ 2 levels \"0\",\"1\": 2 2 1 1 1 2 2 2 2 1 ...\n",
      " $ Stroke              : Factor w/ 2 levels \"0\",\"1\": 1 1 1 1 1 1 1 1 1 1 ...\n",
      " $ HeartDiseaseorAttack: Factor w/ 2 levels \"0\",\"1\": 1 1 1 1 1 1 1 1 2 1 ...\n",
      " $ PhysActivity        : Factor w/ 2 levels \"0\",\"1\": 1 2 1 2 2 2 1 2 1 1 ...\n",
      " $ Fruits              : Factor w/ 2 levels \"0\",\"1\": 1 1 2 2 2 2 1 1 2 1 ...\n",
      " $ Veggies             : Factor w/ 2 levels \"0\",\"1\": 2 1 1 2 2 2 1 2 2 2 ...\n",
      " $ HvyAlcoholConsump   : Factor w/ 2 levels \"0\",\"1\": 1 1 1 1 1 1 1 1 1 1 ...\n",
      " $ AnyHealthcare       : Factor w/ 2 levels \"0\",\"1\": 2 1 2 2 2 2 2 2 2 2 ...\n",
      " $ NoDocbcCost         : Factor w/ 2 levels \"0\",\"1\": 1 2 2 1 1 1 1 1 1 1 ...\n",
      " $ GenHlth             : Ord.factor w/ 5 levels \"1\"<\"2\"<\"3\"<\"4\"<..: 5 3 5 2 2 2 3 3 5 2 ...\n",
      " $ MentHlth            : int  18 0 30 0 3 0 0 0 30 0 ...\n",
      " $ PhysHlth            : int  15 0 30 0 0 2 14 0 30 0 ...\n",
      " $ havePhysHlth        : Factor w/ 2 levels \"0\",\"1\": 2 1 2 1 1 2 2 1 2 1 ...\n",
      " $ DiffWalk            : Factor w/ 2 levels \"0\",\"1\": 2 1 2 1 1 1 1 2 2 1 ...\n",
      " $ Sex                 : Factor w/ 2 levels \"0\",\"1\": 1 1 1 1 1 2 1 1 1 2 ...\n",
      " $ Age                 : Ord.factor w/ 13 levels \"1\"<\"2\"<\"3\"<\"4\"<..: 9 7 9 11 11 10 9 11 9 8 ...\n",
      " $ Education           : Ord.factor w/ 6 levels \"1\"<\"2\"<\"3\"<\"4\"<..: 4 6 4 3 5 6 6 4 5 4 ...\n",
      " $ Income              : Ord.factor w/ 8 levels \"1\"<\"2\"<\"3\"<\"4\"<..: 3 1 8 6 4 8 7 4 1 3 ...\n",
      " $ Diabetes_binary     : Factor w/ 2 levels \"0\",\"1\": 1 1 1 1 1 1 1 1 2 1 ...\n"
     ]
    }
   ],
   "source": [
    "str(factorized_df)"
   ]
  },
  {
   "cell_type": "code",
   "execution_count": 250,
   "id": "86a3a905-b454-49f6-9fde-b75624b51207",
   "metadata": {
    "colab": {
     "base_uri": "https://localhost:8080/",
     "height": 34
    },
    "executionInfo": {
     "elapsed": 10,
     "status": "ok",
     "timestamp": 1715182380747,
     "user": {
      "displayName": "Minh hiếu Phạm",
      "userId": "13621231777531886646"
     },
     "user_tz": -420
    },
    "id": "86a3a905-b454-49f6-9fde-b75624b51207",
    "outputId": "623338d3-e217-4185-c2cb-9fb4572c1967"
   },
   "outputs": [
    {
     "name": "stdout",
     "output_type": "stream",
     "text": [
      "[1] \"2 binary variables\"\n"
     ]
    },
    {
     "data": {
      "text/html": [
       "<strong>Cramer V:</strong> 0.1312"
      ],
      "text/latex": [
       "\\textbf{Cramer V:} 0.1312"
      ],
      "text/markdown": [
       "**Cramer V:** 0.1312"
      ],
      "text/plain": [
       "Cramer V \n",
       "  0.1312 "
      ]
     },
     "metadata": {},
     "output_type": "display_data"
    }
   ],
   "source": [
    "get_correlation(factorized_df, \"havePhysHlth\", response_col, numerical_cols, binary_cols, ordinal_cols, response_col)"
   ]
  },
  {
   "cell_type": "code",
   "execution_count": 251,
   "id": "3448a2bb-38e3-4c08-b973-6e245957ea00",
   "metadata": {},
   "outputs": [
    {
     "name": "stdout",
     "output_type": "stream",
     "text": [
      "[1] \"Binary variable vs numerical variable\"\n"
     ]
    },
    {
     "data": {
      "text/html": [
       "<strong>cor:</strong> 0.171336700387252"
      ],
      "text/latex": [
       "\\textbf{cor:} 0.171336700387252"
      ],
      "text/markdown": [
       "**cor:** 0.171336700387252"
      ],
      "text/plain": [
       "      cor \n",
       "0.1713367 "
      ]
     },
     "metadata": {},
     "output_type": "display_data"
    }
   ],
   "source": [
    "get_correlation(factorized_df, \"PhysHlth\", response_col, numerical_cols, binary_cols, ordinal_cols, response_col)"
   ]
  },
  {
   "cell_type": "code",
   "execution_count": 252,
   "id": "59e779a3-9446-4d02-bddb-9c14873b76bf",
   "metadata": {
    "executionInfo": {
     "elapsed": 8,
     "status": "ok",
     "timestamp": 1715182380748,
     "user": {
      "displayName": "Minh hiếu Phạm",
      "userId": "13621231777531886646"
     },
     "user_tz": -420
    },
    "id": "59e779a3-9446-4d02-bddb-9c14873b76bf"
   },
   "outputs": [],
   "source": [
    "# COMMENT\n",
    "# Correlation of new explain variable: havePhysHlth is lower than original explain variable\n",
    "# => Eliminate this explain variable"
   ]
  },
  {
   "cell_type": "code",
   "execution_count": 281,
   "id": "2e706815-e597-4fa5-98d6-a8ab13f0f1c2",
   "metadata": {
    "executionInfo": {
     "elapsed": 8,
     "status": "ok",
     "timestamp": 1715182380748,
     "user": {
      "displayName": "Minh hiếu Phạm",
      "userId": "13621231777531886646"
     },
     "user_tz": -420
    },
    "id": "2e706815-e597-4fa5-98d6-a8ab13f0f1c2"
   },
   "outputs": [],
   "source": [
    "if (\"havePhysHlth\" %in% binary_cols)\n",
    "{\n",
    "    factorized_df = subset(factorized_df, select = -havePhysHlth)\n",
    "    binary_cols = binary_cols[binary_cols != \"havePhysHlth\"]\n",
    "}"
   ]
  },
  {
   "cell_type": "code",
   "execution_count": 282,
   "id": "6d81c989-3ea7-49e2-bd2e-adc48022562b",
   "metadata": {
    "colab": {
     "base_uri": "https://localhost:8080/"
    },
    "executionInfo": {
     "elapsed": 14,
     "status": "ok",
     "timestamp": 1715182381379,
     "user": {
      "displayName": "Minh hiếu Phạm",
      "userId": "13621231777531886646"
     },
     "user_tz": -420
    },
    "id": "6d81c989-3ea7-49e2-bd2e-adc48022562b",
    "outputId": "8a635ef0-e0bb-4171-b2df-9640088dc74e"
   },
   "outputs": [
    {
     "name": "stdout",
     "output_type": "stream",
     "text": [
      "'data.frame':\t253680 obs. of  22 variables:\n",
      " $ HighBP              : Factor w/ 2 levels \"0\",\"1\": 2 1 2 2 2 2 2 2 2 1 ...\n",
      " $ HighChol            : Factor w/ 2 levels \"0\",\"1\": 2 1 2 1 2 2 1 2 2 1 ...\n",
      " $ CholCheck           : Factor w/ 2 levels \"0\",\"1\": 2 1 2 2 2 2 2 2 2 2 ...\n",
      " $ BMI                 : int  40 25 28 27 24 25 30 25 30 24 ...\n",
      " $ Smoker              : Factor w/ 2 levels \"0\",\"1\": 2 2 1 1 1 2 2 2 2 1 ...\n",
      " $ Stroke              : Factor w/ 2 levels \"0\",\"1\": 1 1 1 1 1 1 1 1 1 1 ...\n",
      " $ HeartDiseaseorAttack: Factor w/ 2 levels \"0\",\"1\": 1 1 1 1 1 1 1 1 2 1 ...\n",
      " $ PhysActivity        : Factor w/ 2 levels \"0\",\"1\": 1 2 1 2 2 2 1 2 1 1 ...\n",
      " $ Fruits              : Factor w/ 2 levels \"0\",\"1\": 1 1 2 2 2 2 1 1 2 1 ...\n",
      " $ Veggies             : Factor w/ 2 levels \"0\",\"1\": 2 1 1 2 2 2 1 2 2 2 ...\n",
      " $ HvyAlcoholConsump   : Factor w/ 2 levels \"0\",\"1\": 1 1 1 1 1 1 1 1 1 1 ...\n",
      " $ AnyHealthcare       : Factor w/ 2 levels \"0\",\"1\": 2 1 2 2 2 2 2 2 2 2 ...\n",
      " $ NoDocbcCost         : Factor w/ 2 levels \"0\",\"1\": 1 2 2 1 1 1 1 1 1 1 ...\n",
      " $ GenHlth             : Ord.factor w/ 5 levels \"1\"<\"2\"<\"3\"<\"4\"<..: 5 3 5 2 2 2 3 3 5 2 ...\n",
      " $ MentHlth            : int  18 0 30 0 3 0 0 0 30 0 ...\n",
      " $ PhysHlth            : int  15 0 30 0 0 2 14 0 30 0 ...\n",
      " $ DiffWalk            : Factor w/ 2 levels \"0\",\"1\": 2 1 2 1 1 1 1 2 2 1 ...\n",
      " $ Sex                 : Factor w/ 2 levels \"0\",\"1\": 1 1 1 1 1 2 1 1 1 2 ...\n",
      " $ Age                 : Ord.factor w/ 13 levels \"1\"<\"2\"<\"3\"<\"4\"<..: 9 7 9 11 11 10 9 11 9 8 ...\n",
      " $ Education           : Ord.factor w/ 6 levels \"1\"<\"2\"<\"3\"<\"4\"<..: 4 6 4 3 5 6 6 4 5 4 ...\n",
      " $ Income              : Ord.factor w/ 8 levels \"1\"<\"2\"<\"3\"<\"4\"<..: 3 1 8 6 4 8 7 4 1 3 ...\n",
      " $ Diabetes_binary     : Factor w/ 2 levels \"0\",\"1\": 1 1 1 1 1 1 1 1 2 1 ...\n"
     ]
    }
   ],
   "source": [
    "str(factorized_df)"
   ]
  },
  {
   "cell_type": "markdown",
   "id": "698e97e4-dc17-47c0-aace-61d6726bcb5e",
   "metadata": {
    "id": "698e97e4-dc17-47c0-aace-61d6726bcb5e"
   },
   "source": [
    "### 3.5. Categorical - binary variables analysis"
   ]
  },
  {
   "cell_type": "code",
   "execution_count": 283,
   "id": "b0639e69-9c1c-4c93-9e72-90a2b4a4ad80",
   "metadata": {
    "colab": {
     "base_uri": "https://localhost:8080/",
     "height": 34
    },
    "executionInfo": {
     "elapsed": 11,
     "status": "ok",
     "timestamp": 1715182381379,
     "user": {
      "displayName": "Minh hiếu Phạm",
      "userId": "13621231777531886646"
     },
     "user_tz": -420
    },
    "id": "b0639e69-9c1c-4c93-9e72-90a2b4a4ad80",
    "outputId": "667e38fa-64e6-4c2e-af65-0d57c8561aed"
   },
   "outputs": [
    {
     "data": {
      "text/html": [
       "<style>\n",
       ".list-inline {list-style: none; margin:0; padding: 0}\n",
       ".list-inline>li {display: inline-block}\n",
       ".list-inline>li:not(:last-child)::after {content: \"\\00b7\"; padding: 0 .5ex}\n",
       "</style>\n",
       "<ol class=list-inline><li>'HighBP'</li><li>'HighChol'</li><li>'CholCheck'</li><li>'Smoker'</li><li>'Stroke'</li><li>'HeartDiseaseorAttack'</li><li>'PhysActivity'</li><li>'Fruits'</li><li>'Veggies'</li><li>'HvyAlcoholConsump'</li><li>'AnyHealthcare'</li><li>'NoDocbcCost'</li><li>'DiffWalk'</li><li>'Sex'</li></ol>\n"
      ],
      "text/latex": [
       "\\begin{enumerate*}\n",
       "\\item 'HighBP'\n",
       "\\item 'HighChol'\n",
       "\\item 'CholCheck'\n",
       "\\item 'Smoker'\n",
       "\\item 'Stroke'\n",
       "\\item 'HeartDiseaseorAttack'\n",
       "\\item 'PhysActivity'\n",
       "\\item 'Fruits'\n",
       "\\item 'Veggies'\n",
       "\\item 'HvyAlcoholConsump'\n",
       "\\item 'AnyHealthcare'\n",
       "\\item 'NoDocbcCost'\n",
       "\\item 'DiffWalk'\n",
       "\\item 'Sex'\n",
       "\\end{enumerate*}\n"
      ],
      "text/markdown": [
       "1. 'HighBP'\n",
       "2. 'HighChol'\n",
       "3. 'CholCheck'\n",
       "4. 'Smoker'\n",
       "5. 'Stroke'\n",
       "6. 'HeartDiseaseorAttack'\n",
       "7. 'PhysActivity'\n",
       "8. 'Fruits'\n",
       "9. 'Veggies'\n",
       "10. 'HvyAlcoholConsump'\n",
       "11. 'AnyHealthcare'\n",
       "12. 'NoDocbcCost'\n",
       "13. 'DiffWalk'\n",
       "14. 'Sex'\n",
       "\n",
       "\n"
      ],
      "text/plain": [
       " [1] \"HighBP\"               \"HighChol\"             \"CholCheck\"           \n",
       " [4] \"Smoker\"               \"Stroke\"               \"HeartDiseaseorAttack\"\n",
       " [7] \"PhysActivity\"         \"Fruits\"               \"Veggies\"             \n",
       "[10] \"HvyAlcoholConsump\"    \"AnyHealthcare\"        \"NoDocbcCost\"         \n",
       "[13] \"DiffWalk\"             \"Sex\"                 "
      ]
     },
     "metadata": {},
     "output_type": "display_data"
    }
   ],
   "source": [
    "binary_cols"
   ]
  },
  {
   "cell_type": "code",
   "execution_count": 288,
   "id": "ed9b4566-baab-4d85-9b2d-7a34d3979f7e",
   "metadata": {
    "scrolled": true
   },
   "outputs": [
    {
     "name": "stdout",
     "output_type": "stream",
     "text": [
      "[1] \"HighBP\"\n"
     ]
    },
    {
     "data": {
      "image/png": "[encoded data removed]",
      "text/plain": [
       "plot without title"
      ]
     },
     "metadata": {
      "image/png": {
       "height": 420,
       "width": 420
      }
     },
     "output_type": "display_data"
    },
    {
     "name": "stdout",
     "output_type": "stream",
     "text": [
      "[1] \"HighChol\"\n"
     ]
    },
    {
     "data": {
      "image/png": "[encoded data removed]",
      "text/plain": [
       "plot without title"
      ]
     },
     "metadata": {
      "image/png": {
       "height": 420,
       "width": 420
      }
     },
     "output_type": "display_data"
    },
    {
     "name": "stdout",
     "output_type": "stream",
     "text": [
      "[1] \"CholCheck\"\n"
     ]
    },
    {
     "data": {
      "image/png": "[encoded data removed]",
      "text/plain": [
       "plot without title"
      ]
     },
     "metadata": {
      "image/png": {
       "height": 420,
       "width": 420
      }
     },
     "output_type": "display_data"
    },
    {
     "name": "stdout",
     "output_type": "stream",
     "text": [
      "[1] \"Smoker\"\n"
     ]
    },
    {
     "data": {
      "image/png": "[encoded data removed]",
      "text/plain": [
       "plot without title"
      ]
     },
     "metadata": {
      "image/png": {
       "height": 420,
       "width": 420
      }
     },
     "output_type": "display_data"
    },
    {
     "name": "stdout",
     "output_type": "stream",
     "text": [
      "[1] \"Stroke\"\n"
     ]
    },
    {
     "data": {
      "image/png": "[encoded data removed]",
      "text/plain": [
       "plot without title"
      ]
     },
     "metadata": {
      "image/png": {
       "height": 420,
       "width": 420
      }
     },
     "output_type": "display_data"
    },
    {
     "name": "stdout",
     "output_type": "stream",
     "text": [
      "[1] \"HeartDiseaseorAttack\"\n"
     ]
    },
    {
     "data": {
      "image/png": "[encoded data removed]",
      "text/plain": [
       "plot without title"
      ]
     },
     "metadata": {
      "image/png": {
       "height": 420,
       "width": 420
      }
     },
     "output_type": "display_data"
    },
    {
     "name": "stdout",
     "output_type": "stream",
     "text": [
      "[1] \"PhysActivity\"\n"
     ]
    },
    {
     "data": {
      "image/png": "[encoded data removed]",
      "text/plain": [
       "plot without title"
      ]
     },
     "metadata": {
      "image/png": {
       "height": 420,
       "width": 420
      }
     },
     "output_type": "display_data"
    },
    {
     "name": "stdout",
     "output_type": "stream",
     "text": [
      "[1] \"Fruits\"\n"
     ]
    },
    {
     "data": {
      "image/png": "[encoded data removed]",
      "text/plain": [
       "plot without title"
      ]
     },
     "metadata": {
      "image/png": {
       "height": 420,
       "width": 420
      }
     },
     "output_type": "display_data"
    },
    {
     "name": "stdout",
     "output_type": "stream",
     "text": [
      "[1] \"Veggies\"\n"
     ]
    },
    {
     "data": {
      "image/png": "[encoded data removed]",
      "text/plain": [
       "plot without title"
      ]
     },
     "metadata": {
      "image/png": {
       "height": 420,
       "width": 420
      }
     },
     "output_type": "display_data"
    },
    {
     "name": "stdout",
     "output_type": "stream",
     "text": [
      "[1] \"HvyAlcoholConsump\"\n"
     ]
    },
    {
     "data": {
      "image/png": "[encoded data removed]",
      "text/plain": [
       "plot without title"
      ]
     },
     "metadata": {
      "image/png": {
       "height": 420,
       "width": 420
      }
     },
     "output_type": "display_data"
    },
    {
     "name": "stdout",
     "output_type": "stream",
     "text": [
      "[1] \"AnyHealthcare\"\n"
     ]
    },
    {
     "data": {
      "image/png": "[encoded data removed]",
      "text/plain": [
       "plot without title"
      ]
     },
     "metadata": {
      "image/png": {
       "height": 420,
       "width": 420
      }
     },
     "output_type": "display_data"
    },
    {
     "name": "stdout",
     "output_type": "stream",
     "text": [
      "[1] \"NoDocbcCost\"\n"
     ]
    },
    {
     "data": {
      "image/png": "[encoded data removed]",
      "text/plain": [
       "plot without title"
      ]
     },
     "metadata": {
      "image/png": {
       "height": 420,
       "width": 420
      }
     },
     "output_type": "display_data"
    },
    {
     "name": "stdout",
     "output_type": "stream",
     "text": [
      "[1] \"DiffWalk\"\n"
     ]
    },
    {
     "data": {
      "image/png": "[encoded data removed]",
      "text/plain": [
       "plot without title"
      ]
     },
     "metadata": {
      "image/png": {
       "height": 420,
       "width": 420
      }
     },
     "output_type": "display_data"
    },
    {
     "name": "stdout",
     "output_type": "stream",
     "text": [
      "[1] \"Sex\"\n"
     ]
    },
    {
     "data": {
      "image/png": "[encoded data removed]",
      "text/plain": [
       "plot without title"
      ]
     },
     "metadata": {
      "image/png": {
       "height": 420,
       "width": 420
      }
     },
     "output_type": "display_data"
    }
   ],
   "source": [
    "par(mfrow = c(1,1))\n",
    "for (bin_col in binary_cols)\n",
    "{\n",
    "    contingency_table = table(factorized_df[, bin_col], factorized_df$Diabetes_binary)\n",
    "    colnames(contingency_table) = c(sprintf(\"no %s\", bin_col), bin_col)\n",
    "    rownames(contingency_table) = c(\"no diabetes\", \"diabetes\")\n",
    "    plot_stack_bar_2x2(contingency_table)\n",
    "    print(bin_col)\n",
    "}"
   ]
  },
  {
   "cell_type": "code",
   "execution_count": 290,
   "id": "6cae4c3c-7e28-4305-83b5-36ef80c198e2",
   "metadata": {
    "colab": {
     "base_uri": "https://localhost:8080/"
    },
    "executionInfo": {
     "elapsed": 33,
     "status": "ok",
     "timestamp": 1715182382840,
     "user": {
      "displayName": "Minh hiếu Phạm",
      "userId": "13621231777531886646"
     },
     "user_tz": -420
    },
    "id": "6cae4c3c-7e28-4305-83b5-36ef80c198e2",
    "outputId": "e28135eb-b3d9-4265-8d06-e9ec27a64af1",
    "scrolled": true
   },
   "outputs": [
    {
     "name": "stdout",
     "output_type": "stream",
     "text": [
      "\n",
      " \n",
      "   Cell Contents\n",
      "|-------------------------|\n",
      "|                       N |\n",
      "|           N / Row Total |\n",
      "|           N / Col Total |\n",
      "|         N / Table Total |\n",
      "|-------------------------|\n",
      "\n",
      " \n",
      "Total Observations in Table:  253680 \n",
      "\n",
      " \n",
      "             | Diabetes_binary \n",
      "      HighBP |         0 |         1 | Row Total | \n",
      "-------------|-----------|-----------|-----------|\n",
      "   no HighBP |    136109 |      8742 |    144851 | \n",
      "             |     0.940 |     0.060 |     0.571 | \n",
      "             |     0.623 |     0.247 |           | \n",
      "             |     0.537 |     0.034 |           | \n",
      "-------------|-----------|-----------|-----------|\n",
      "      HighBP |     82225 |     26604 |    108829 | \n",
      "             |     0.756 |     0.244 |     0.429 | \n",
      "             |     0.377 |     0.753 |           | \n",
      "             |     0.324 |     0.105 |           | \n",
      "-------------|-----------|-----------|-----------|\n",
      "Column Total |    218334 |     35346 |    253680 | \n",
      "             |     0.861 |     0.139 |           | \n",
      "-------------|-----------|-----------|-----------|\n",
      "\n",
      " \n",
      "Statistics for All Table Factors\n",
      "\n",
      "\n",
      "Pearson's Chi-squared test \n",
      "------------------------------------------------------------\n",
      "Chi^2 =  17563.98     d.f. =  1     p =  0 \n",
      "\n",
      "Pearson's Chi-squared test with Yates' continuity correction \n",
      "------------------------------------------------------------\n",
      "Chi^2 =  17562.45     d.f. =  1     p =  0 \n",
      "\n",
      " \n",
      "[1] \"Odds Ratio\"\n",
      "odds ratio     lwr.ci     upr.ci \n",
      "  5.037547   4.909897   5.168516 \n",
      "[1] \"Relative Risk\"\n",
      "rel. risk    lwr.ci    upr.ci \n",
      " 1.243673  1.239175  1.248186 \n",
      "\n",
      " \n",
      "   Cell Contents\n",
      "|-------------------------|\n",
      "|                       N |\n",
      "|           N / Row Total |\n",
      "|           N / Col Total |\n",
      "|         N / Table Total |\n",
      "|-------------------------|\n",
      "\n",
      " \n",
      "Total Observations in Table:  253680 \n",
      "\n",
      " \n",
      "             | Diabetes_binary \n",
      "    HighChol |         0 |         1 | Row Total | \n",
      "-------------|-----------|-----------|-----------|\n",
      " no HighChol |    134429 |     11660 |    146089 | \n",
      "             |     0.920 |     0.080 |     0.576 | \n",
      "             |     0.616 |     0.330 |           | \n",
      "             |     0.530 |     0.046 |           | \n",
      "-------------|-----------|-----------|-----------|\n",
      "    HighChol |     83905 |     23686 |    107591 | \n",
      "             |     0.780 |     0.220 |     0.424 | \n",
      "             |     0.384 |     0.670 |           | \n",
      "             |     0.331 |     0.093 |           | \n",
      "-------------|-----------|-----------|-----------|\n",
      "Column Total |    218334 |     35346 |    253680 | \n",
      "             |     0.861 |     0.139 |           | \n",
      "-------------|-----------|-----------|-----------|\n",
      "\n",
      " \n",
      "Statistics for All Table Factors\n",
      "\n",
      "\n",
      "Pearson's Chi-squared test \n",
      "------------------------------------------------------------\n",
      "Chi^2 =  10175.25     d.f. =  1     p =  0 \n",
      "\n",
      "Pearson's Chi-squared test with Yates' continuity correction \n",
      "------------------------------------------------------------\n",
      "Chi^2 =  10174.07     d.f. =  1     p =  0 \n",
      "\n",
      " \n",
      "[1] \"Odds Ratio\"\n",
      "odds ratio     lwr.ci     upr.ci \n",
      "  3.254605   3.178089   3.332963 \n",
      "[1] \"Relative Risk\"\n",
      "rel. risk    lwr.ci    upr.ci \n",
      " 1.179950  1.175809  1.184105 \n",
      "\n",
      " \n",
      "   Cell Contents\n",
      "|-------------------------|\n",
      "|                       N |\n",
      "|           N / Row Total |\n",
      "|           N / Col Total |\n",
      "|         N / Table Total |\n",
      "|-------------------------|\n",
      "\n",
      " \n",
      "Total Observations in Table:  253680 \n",
      "\n",
      " \n",
      "             | Diabetes_binary \n",
      "   CholCheck |         0 |         1 | Row Total | \n",
      "-------------|-----------|-----------|-----------|\n",
      "no CholCheck |      9229 |       241 |      9470 | \n",
      "             |     0.975 |     0.025 |     0.037 | \n",
      "             |     0.042 |     0.007 |           | \n",
      "             |     0.036 |     0.001 |           | \n",
      "-------------|-----------|-----------|-----------|\n",
      "   CholCheck |    209105 |     35105 |    244210 | \n",
      "             |     0.856 |     0.144 |     0.963 | \n",
      "             |     0.958 |     0.993 |           | \n",
      "             |     0.824 |     0.138 |           | \n",
      "-------------|-----------|-----------|-----------|\n",
      "Column Total |    218334 |     35346 |    253680 | \n",
      "             |     0.861 |     0.139 |           | \n",
      "-------------|-----------|-----------|-----------|\n",
      "\n",
      " \n",
      "Statistics for All Table Factors\n",
      "\n",
      "\n",
      "Pearson's Chi-squared test \n",
      "------------------------------------------------------------\n",
      "Chi^2 =  1063.924     d.f. =  1     p =  2.28995e-233 \n",
      "\n",
      "Pearson's Chi-squared test with Yates' continuity correction \n",
      "------------------------------------------------------------\n",
      "Chi^2 =  1062.938     d.f. =  1     p =  3.751399e-233 \n",
      "\n",
      " \n",
      "[1] \"Odds Ratio\"\n",
      "odds ratio     lwr.ci     upr.ci \n",
      "  6.428981   5.654362   7.309720 \n",
      "[1] \"Relative Risk\"\n",
      "rel. risk    lwr.ci    upr.ci \n",
      " 1.138161  1.134032  1.142305 \n",
      "\n",
      " \n",
      "   Cell Contents\n",
      "|-------------------------|\n",
      "|                       N |\n",
      "|           N / Row Total |\n",
      "|           N / Col Total |\n",
      "|         N / Table Total |\n",
      "|-------------------------|\n",
      "\n",
      " \n",
      "Total Observations in Table:  253680 \n",
      "\n",
      " \n",
      "             | Diabetes_binary \n",
      "      Smoker |         0 |         1 | Row Total | \n",
      "-------------|-----------|-----------|-----------|\n",
      "   no Smoker |    124228 |     17029 |    141257 | \n",
      "             |     0.879 |     0.121 |     0.557 | \n",
      "             |     0.569 |     0.482 |           | \n",
      "             |     0.490 |     0.067 |           | \n",
      "-------------|-----------|-----------|-----------|\n",
      "      Smoker |     94106 |     18317 |    112423 | \n",
      "             |     0.837 |     0.163 |     0.443 | \n",
      "             |     0.431 |     0.518 |           | \n",
      "             |     0.371 |     0.072 |           | \n",
      "-------------|-----------|-----------|-----------|\n",
      "Column Total |    218334 |     35346 |    253680 | \n",
      "             |     0.861 |     0.139 |           | \n",
      "-------------|-----------|-----------|-----------|\n",
      "\n",
      " \n",
      "Statistics for All Table Factors\n",
      "\n",
      "\n",
      "Pearson's Chi-squared test \n",
      "------------------------------------------------------------\n",
      "Chi^2 =  937.4091     d.f. =  1     p =  7.239598e-206 \n",
      "\n",
      "Pearson's Chi-squared test with Yates' continuity correction \n",
      "------------------------------------------------------------\n",
      "Chi^2 =  937.0558     d.f. =  1     p =  8.640172e-206 \n",
      "\n",
      " \n",
      "[1] \"Odds Ratio\"\n",
      "odds ratio     lwr.ci     upr.ci \n",
      "  1.419931   1.388315   1.452268 \n",
      "[1] \"Relative Risk\"\n",
      "rel. risk    lwr.ci    upr.ci \n",
      " 1.050624  1.047245  1.054014 \n",
      "\n",
      " \n",
      "   Cell Contents\n",
      "|-------------------------|\n",
      "|                       N |\n",
      "|           N / Row Total |\n",
      "|           N / Col Total |\n",
      "|         N / Table Total |\n",
      "|-------------------------|\n",
      "\n",
      " \n",
      "Total Observations in Table:  253680 \n",
      "\n",
      " \n",
      "             | Diabetes_binary \n",
      "      Stroke |         0 |         1 | Row Total | \n",
      "-------------|-----------|-----------|-----------|\n",
      "   no Stroke |    211310 |     32078 |    243388 | \n",
      "             |     0.868 |     0.132 |     0.959 | \n",
      "             |     0.968 |     0.908 |           | \n",
      "             |     0.833 |     0.126 |           | \n",
      "-------------|-----------|-----------|-----------|\n",
      "      Stroke |      7024 |      3268 |     10292 | \n",
      "             |     0.682 |     0.318 |     0.041 | \n",
      "             |     0.032 |     0.092 |           | \n",
      "             |     0.028 |     0.013 |           | \n",
      "-------------|-----------|-----------|-----------|\n",
      "Column Total |    218334 |     35346 |    253680 | \n",
      "             |     0.861 |     0.139 |           | \n",
      "-------------|-----------|-----------|-----------|\n",
      "\n",
      " \n",
      "Statistics for All Table Factors\n",
      "\n",
      "\n",
      "Pearson's Chi-squared test \n",
      "------------------------------------------------------------\n",
      "Chi^2 =  2840.465     d.f. =  1     p =  0 \n",
      "\n",
      "Pearson's Chi-squared test with Yates' continuity correction \n",
      "------------------------------------------------------------\n",
      "Chi^2 =  2838.917     d.f. =  1     p =  0 \n",
      "\n",
      " \n",
      "[1] \"Odds Ratio\"\n",
      "odds ratio     lwr.ci     upr.ci \n",
      "  3.064858   2.935476   3.199941 \n",
      "[1] \"Relative Risk\"\n",
      "rel. risk    lwr.ci    upr.ci \n",
      " 1.272144  1.255378  1.289134 \n",
      "\n",
      " \n",
      "   Cell Contents\n",
      "|-------------------------|\n",
      "|                       N |\n",
      "|           N / Row Total |\n",
      "|           N / Col Total |\n",
      "|         N / Table Total |\n",
      "|-------------------------|\n",
      "\n",
      " \n",
      "Total Observations in Table:  253680 \n",
      "\n",
      " \n",
      "                        | Diabetes_binary \n",
      "   HeartDiseaseorAttack |         0 |         1 | Row Total | \n",
      "------------------------|-----------|-----------|-----------|\n",
      "no HeartDiseaseorAttack |    202319 |     27468 |    229787 | \n",
      "                        |     0.880 |     0.120 |     0.906 | \n",
      "                        |     0.927 |     0.777 |           | \n",
      "                        |     0.798 |     0.108 |           | \n",
      "------------------------|-----------|-----------|-----------|\n",
      "   HeartDiseaseorAttack |     16015 |      7878 |     23893 | \n",
      "                        |     0.670 |     0.330 |     0.094 | \n",
      "                        |     0.073 |     0.223 |           | \n",
      "                        |     0.063 |     0.031 |           | \n",
      "------------------------|-----------|-----------|-----------|\n",
      "           Column Total |    218334 |     35346 |    253680 | \n",
      "                        |     0.861 |     0.139 |           | \n",
      "------------------------|-----------|-----------|-----------|\n",
      "\n",
      " \n",
      "Statistics for All Table Factors\n",
      "\n",
      "\n",
      "Pearson's Chi-squared test \n",
      "------------------------------------------------------------\n",
      "Chi^2 =  7972.908     d.f. =  1     p =  0 \n",
      "\n",
      "Pearson's Chi-squared test with Yates' continuity correction \n",
      "------------------------------------------------------------\n",
      "Chi^2 =  7971.156     d.f. =  1     p =  0 \n",
      "\n",
      " \n",
      "[1] \"Odds Ratio\"\n",
      "odds ratio     lwr.ci     upr.ci \n",
      "  3.623253   3.516974   3.732743 \n",
      "[1] \"Relative Risk\"\n",
      "rel. risk    lwr.ci    upr.ci \n",
      " 1.313575  1.301781  1.325477 \n",
      "\n",
      " \n",
      "   Cell Contents\n",
      "|-------------------------|\n",
      "|                       N |\n",
      "|           N / Row Total |\n",
      "|           N / Col Total |\n",
      "|         N / Table Total |\n",
      "|-------------------------|\n",
      "\n",
      " \n",
      "Total Observations in Table:  253680 \n",
      "\n",
      " \n",
      "                | Diabetes_binary \n",
      "   PhysActivity |         0 |         1 | Row Total | \n",
      "----------------|-----------|-----------|-----------|\n",
      "no PhysActivity |     48701 |     13059 |     61760 | \n",
      "                |     0.789 |     0.211 |     0.243 | \n",
      "                |     0.223 |     0.369 |           | \n",
      "                |     0.192 |     0.051 |           | \n",
      "----------------|-----------|-----------|-----------|\n",
      "   PhysActivity |    169633 |     22287 |    191920 | \n",
      "                |     0.884 |     0.116 |     0.757 | \n",
      "                |     0.777 |     0.631 |           | \n",
      "                |     0.669 |     0.088 |           | \n",
      "----------------|-----------|-----------|-----------|\n",
      "   Column Total |    218334 |     35346 |    253680 | \n",
      "                |     0.861 |     0.139 |           | \n",
      "----------------|-----------|-----------|-----------|\n",
      "\n",
      " \n",
      "Statistics for All Table Factors\n",
      "\n",
      "\n",
      "Pearson's Chi-squared test \n",
      "------------------------------------------------------------\n",
      "Chi^2 =  3540.214     d.f. =  1     p =  0 \n",
      "\n",
      "Pearson's Chi-squared test with Yates' continuity correction \n",
      "------------------------------------------------------------\n",
      "Chi^2 =  3539.419     d.f. =  1     p =  0 \n",
      "\n",
      " \n",
      "[1] \"Odds Ratio\"\n",
      "odds ratio     lwr.ci     upr.ci \n",
      " 0.4899697  0.4784299  0.5017878 \n",
      "[1] \"Relative Risk\"\n",
      "rel. risk    lwr.ci    upr.ci \n",
      "0.8921553 0.8882438 0.8960841 \n",
      "\n",
      " \n",
      "   Cell Contents\n",
      "|-------------------------|\n",
      "|                       N |\n",
      "|           N / Row Total |\n",
      "|           N / Col Total |\n",
      "|         N / Table Total |\n",
      "|-------------------------|\n",
      "\n",
      " \n",
      "Total Observations in Table:  253680 \n",
      "\n",
      " \n",
      "             | Diabetes_binary \n",
      "      Fruits |         0 |         1 | Row Total | \n",
      "-------------|-----------|-----------|-----------|\n",
      "   no Fruits |     78129 |     14653 |     92782 | \n",
      "             |     0.842 |     0.158 |     0.366 | \n",
      "             |     0.358 |     0.415 |           | \n",
      "             |     0.308 |     0.058 |           | \n",
      "-------------|-----------|-----------|-----------|\n",
      "      Fruits |    140205 |     20693 |    160898 | \n",
      "             |     0.871 |     0.129 |     0.634 | \n",
      "             |     0.642 |     0.585 |           | \n",
      "             |     0.553 |     0.082 |           | \n",
      "-------------|-----------|-----------|-----------|\n",
      "Column Total |    218334 |     35346 |    253680 | \n",
      "             |     0.861 |     0.139 |           | \n",
      "-------------|-----------|-----------|-----------|\n",
      "\n",
      " \n",
      "Statistics for All Table Factors\n",
      "\n",
      "\n",
      "Pearson's Chi-squared test \n",
      "------------------------------------------------------------\n",
      "Chi^2 =  421.856     d.f. =  1     p =  9.626489e-94 \n",
      "\n",
      "Pearson's Chi-squared test with Yates' continuity correction \n",
      "------------------------------------------------------------\n",
      "Chi^2 =  421.6115     d.f. =  1     p =  1.088121e-93 \n",
      "\n",
      " \n",
      "[1] \"Odds Ratio\"\n",
      "odds ratio     lwr.ci     upr.ci \n",
      " 0.7869473  0.7691317  0.8051756 \n",
      "[1] \"Relative Risk\"\n",
      "rel. risk    lwr.ci    upr.ci \n",
      "0.9663527 0.9631114 0.9696050 \n",
      "\n",
      " \n",
      "   Cell Contents\n",
      "|-------------------------|\n",
      "|                       N |\n",
      "|           N / Row Total |\n",
      "|           N / Col Total |\n",
      "|         N / Table Total |\n",
      "|-------------------------|\n",
      "\n",
      " \n",
      "Total Observations in Table:  253680 \n",
      "\n",
      " \n",
      "             | Diabetes_binary \n",
      "     Veggies |         0 |         1 | Row Total | \n",
      "-------------|-----------|-----------|-----------|\n",
      "  no Veggies |     39229 |      8610 |     47839 | \n",
      "             |     0.820 |     0.180 |     0.189 | \n",
      "             |     0.180 |     0.244 |           | \n",
      "             |     0.155 |     0.034 |           | \n",
      "-------------|-----------|-----------|-----------|\n",
      "     Veggies |    179105 |     26736 |    205841 | \n",
      "             |     0.870 |     0.130 |     0.811 | \n",
      "             |     0.820 |     0.756 |           | \n",
      "             |     0.706 |     0.105 |           | \n",
      "-------------|-----------|-----------|-----------|\n",
      "Column Total |    218334 |     35346 |    253680 | \n",
      "             |     0.861 |     0.139 |           | \n",
      "-------------|-----------|-----------|-----------|\n",
      "\n",
      " \n",
      "Statistics for All Table Factors\n",
      "\n",
      "\n",
      "Pearson's Chi-squared test \n",
      "------------------------------------------------------------\n",
      "Chi^2 =  812.2236     d.f. =  1     p =  1.186992e-178 \n",
      "\n",
      "Pearson's Chi-squared test with Yates' continuity correction \n",
      "------------------------------------------------------------\n",
      "Chi^2 =  811.806     d.f. =  1     p =  1.463029e-178 \n",
      "\n",
      " \n",
      "[1] \"Odds Ratio\"\n",
      "odds ratio     lwr.ci     upr.ci \n",
      " 0.6801314  0.6622578  0.6984874 \n",
      "[1] \"Relative Risk\"\n",
      "rel. risk    lwr.ci    upr.ci \n",
      "0.9424305 0.9381825 0.9466976 \n",
      "\n",
      " \n",
      "   Cell Contents\n",
      "|-------------------------|\n",
      "|                       N |\n",
      "|           N / Row Total |\n",
      "|           N / Col Total |\n",
      "|         N / Table Total |\n",
      "|-------------------------|\n",
      "\n",
      " \n",
      "Total Observations in Table:  253680 \n",
      "\n",
      " \n",
      "                     | Diabetes_binary \n",
      "   HvyAlcoholConsump |         0 |         1 | Row Total | \n",
      "---------------------|-----------|-----------|-----------|\n",
      "no HvyAlcoholConsump |    204910 |     34514 |    239424 | \n",
      "                     |     0.856 |     0.144 |     0.944 | \n",
      "                     |     0.939 |     0.976 |           | \n",
      "                     |     0.808 |     0.136 |           | \n",
      "---------------------|-----------|-----------|-----------|\n",
      "   HvyAlcoholConsump |     13424 |       832 |     14256 | \n",
      "                     |     0.942 |     0.058 |     0.056 | \n",
      "                     |     0.061 |     0.024 |           | \n",
      "                     |     0.053 |     0.003 |           | \n",
      "---------------------|-----------|-----------|-----------|\n",
      "        Column Total |    218334 |     35346 |    253680 | \n",
      "                     |     0.861 |     0.139 |           | \n",
      "---------------------|-----------|-----------|-----------|\n",
      "\n",
      " \n",
      "Statistics for All Table Factors\n",
      "\n",
      "\n",
      "Pearson's Chi-squared test \n",
      "------------------------------------------------------------\n",
      "Chi^2 =  825.834     d.f. =  1     p =  1.304337e-181 \n",
      "\n",
      "Pearson's Chi-squared test with Yates' continuity correction \n",
      "------------------------------------------------------------\n",
      "Chi^2 =  825.1188     d.f. =  1     p =  1.865932e-181 \n",
      "\n",
      " \n",
      "[1] \"Odds Ratio\"\n",
      "odds ratio     lwr.ci     upr.ci \n",
      " 0.3679673  0.3427660  0.3950215 \n",
      "[1] \"Relative Risk\"\n",
      "rel. risk    lwr.ci    upr.ci \n",
      "0.9088898 0.9048961 0.9129011 \n",
      "\n",
      " \n",
      "   Cell Contents\n",
      "|-------------------------|\n",
      "|                       N |\n",
      "|           N / Row Total |\n",
      "|           N / Col Total |\n",
      "|         N / Table Total |\n",
      "|-------------------------|\n",
      "\n",
      " \n",
      "Total Observations in Table:  253680 \n",
      "\n",
      " \n",
      "                 | Diabetes_binary \n",
      "   AnyHealthcare |         0 |         1 | Row Total | \n",
      "-----------------|-----------|-----------|-----------|\n",
      "no AnyHealthcare |     10995 |      1422 |     12417 | \n",
      "                 |     0.885 |     0.115 |     0.049 | \n",
      "                 |     0.050 |     0.040 |           | \n",
      "                 |     0.043 |     0.006 |           | \n",
      "-----------------|-----------|-----------|-----------|\n",
      "   AnyHealthcare |    207339 |     33924 |    241263 | \n",
      "                 |     0.859 |     0.141 |     0.951 | \n",
      "                 |     0.950 |     0.960 |           | \n",
      "                 |     0.817 |     0.134 |           | \n",
      "-----------------|-----------|-----------|-----------|\n",
      "    Column Total |    218334 |     35346 |    253680 | \n",
      "                 |     0.861 |     0.139 |           | \n",
      "-----------------|-----------|-----------|-----------|\n",
      "\n",
      " \n",
      "Statistics for All Table Factors\n",
      "\n",
      "\n",
      "Pearson's Chi-squared test \n",
      "------------------------------------------------------------\n",
      "Chi^2 =  67.02976     d.f. =  1     p =  2.674399e-16 \n",
      "\n",
      "Pearson's Chi-squared test with Yates' continuity correction \n",
      "------------------------------------------------------------\n",
      "Chi^2 =  66.81237     d.f. =  1     p =  2.986181e-16 \n",
      "\n",
      " \n",
      "[1] \"Odds Ratio\"\n",
      "odds ratio     lwr.ci     upr.ci \n",
      "  1.265091   1.195697   1.338512 \n",
      "[1] \"Relative Risk\"\n",
      "rel. risk    lwr.ci    upr.ci \n",
      " 1.030358  1.023655  1.037105 \n",
      "\n",
      " \n",
      "   Cell Contents\n",
      "|-------------------------|\n",
      "|                       N |\n",
      "|           N / Row Total |\n",
      "|           N / Col Total |\n",
      "|         N / Table Total |\n",
      "|-------------------------|\n",
      "\n",
      " \n",
      "Total Observations in Table:  253680 \n",
      "\n",
      " \n",
      "               | Diabetes_binary \n",
      "   NoDocbcCost |         0 |         1 | Row Total | \n",
      "---------------|-----------|-----------|-----------|\n",
      "no NoDocbcCost |    200722 |     31604 |    232326 | \n",
      "               |     0.864 |     0.136 |     0.916 | \n",
      "               |     0.919 |     0.894 |           | \n",
      "               |     0.791 |     0.125 |           | \n",
      "---------------|-----------|-----------|-----------|\n",
      "   NoDocbcCost |     17612 |      3742 |     21354 | \n",
      "               |     0.825 |     0.175 |     0.084 | \n",
      "               |     0.081 |     0.106 |           | \n",
      "               |     0.069 |     0.015 |           | \n",
      "---------------|-----------|-----------|-----------|\n",
      "  Column Total |    218334 |     35346 |    253680 | \n",
      "               |     0.861 |     0.139 |           | \n",
      "---------------|-----------|-----------|-----------|\n",
      "\n",
      " \n",
      "Statistics for All Table Factors\n",
      "\n",
      "\n",
      "Pearson's Chi-squared test \n",
      "------------------------------------------------------------\n",
      "Chi^2 =  250.6406     d.f. =  1     p =  1.882748e-56 \n",
      "\n",
      "Pearson's Chi-squared test with Yates' continuity correction \n",
      "------------------------------------------------------------\n",
      "Chi^2 =  250.3138     d.f. =  1     p =  2.218395e-56 \n",
      "\n",
      " \n",
      "[1] \"Odds Ratio\"\n",
      "odds ratio     lwr.ci     upr.ci \n",
      "  1.349423   1.300119   1.400596 \n",
      "[1] \"Relative Risk\"\n",
      "rel. risk    lwr.ci    upr.ci \n",
      " 1.047533  1.040862  1.054247 \n",
      "\n",
      " \n",
      "   Cell Contents\n",
      "|-------------------------|\n",
      "|                       N |\n",
      "|           N / Row Total |\n",
      "|           N / Col Total |\n",
      "|         N / Table Total |\n",
      "|-------------------------|\n",
      "\n",
      " \n",
      "Total Observations in Table:  253680 \n",
      "\n",
      " \n",
      "             | Diabetes_binary \n",
      "    DiffWalk |         0 |         1 | Row Total | \n",
      "-------------|-----------|-----------|-----------|\n",
      " no DiffWalk |    188780 |     22225 |    211005 | \n",
      "             |     0.895 |     0.105 |     0.832 | \n",
      "             |     0.865 |     0.629 |           | \n",
      "             |     0.744 |     0.088 |           | \n",
      "-------------|-----------|-----------|-----------|\n",
      "    DiffWalk |     29554 |     13121 |     42675 | \n",
      "             |     0.693 |     0.307 |     0.168 | \n",
      "             |     0.135 |     0.371 |           | \n",
      "             |     0.117 |     0.052 |           | \n",
      "-------------|-----------|-----------|-----------|\n",
      "Column Total |    218334 |     35346 |    253680 | \n",
      "             |     0.861 |     0.139 |           | \n",
      "-------------|-----------|-----------|-----------|\n",
      "\n",
      " \n",
      "Statistics for All Table Factors\n",
      "\n",
      "\n",
      "Pearson's Chi-squared test \n",
      "------------------------------------------------------------\n",
      "Chi^2 =  12094.01     d.f. =  1     p =  0 \n",
      "\n",
      "Pearson's Chi-squared test with Yates' continuity correction \n",
      "------------------------------------------------------------\n",
      "Chi^2 =  12092.32     d.f. =  1     p =  0 \n",
      "\n",
      " \n",
      "[1] \"Odds Ratio\"\n",
      "odds ratio     lwr.ci     upr.ci \n",
      "  3.771072   3.678633   3.865835 \n",
      "[1] \"Relative Risk\"\n",
      "rel. risk    lwr.ci    upr.ci \n",
      " 1.291875  1.283519  1.300285 \n",
      "\n",
      " \n",
      "   Cell Contents\n",
      "|-------------------------|\n",
      "|                       N |\n",
      "|           N / Row Total |\n",
      "|           N / Col Total |\n",
      "|         N / Table Total |\n",
      "|-------------------------|\n",
      "\n",
      " \n",
      "Total Observations in Table:  253680 \n",
      "\n",
      " \n",
      "             | Diabetes_binary \n",
      "         Sex |         0 |         1 | Row Total | \n",
      "-------------|-----------|-----------|-----------|\n",
      "      no Sex |    123563 |     18411 |    141974 | \n",
      "             |     0.870 |     0.130 |     0.560 | \n",
      "             |     0.566 |     0.521 |           | \n",
      "             |     0.487 |     0.073 |           | \n",
      "-------------|-----------|-----------|-----------|\n",
      "         Sex |     94771 |     16935 |    111706 | \n",
      "             |     0.848 |     0.152 |     0.440 | \n",
      "             |     0.434 |     0.479 |           | \n",
      "             |     0.374 |     0.067 |           | \n",
      "-------------|-----------|-----------|-----------|\n",
      "Column Total |    218334 |     35346 |    253680 | \n",
      "             |     0.861 |     0.139 |           | \n",
      "-------------|-----------|-----------|-----------|\n",
      "\n",
      " \n",
      "Statistics for All Table Factors\n",
      "\n",
      "\n",
      "Pearson's Chi-squared test \n",
      "------------------------------------------------------------\n",
      "Chi^2 =  250.5965     d.f. =  1     p =  1.924891e-56 \n",
      "\n",
      "Pearson's Chi-squared test with Yates' continuity correction \n",
      "------------------------------------------------------------\n",
      "Chi^2 =  250.4137     d.f. =  1     p =  2.109875e-56 \n",
      "\n",
      " \n",
      "[1] \"Odds Ratio\"\n",
      "odds ratio     lwr.ci     upr.ci \n",
      "  1.199281   1.172576   1.226594 \n",
      "[1] \"Relative Risk\"\n",
      "rel. risk    lwr.ci    upr.ci \n",
      " 1.025842  1.022575  1.029120 \n"
     ]
    }
   ],
   "source": [
    "par(mfrow = c(1,1))\n",
    "for (bin_col in binary_cols)\n",
    "{\n",
    "    summary_categorical_variables(factorized_df, bin_col, response_col)\n",
    "}"
   ]
  },
  {
   "cell_type": "markdown",
   "id": "b67b9735-7e49-43c5-8d74-22c1f36ce3c7",
   "metadata": {
    "id": "b67b9735-7e49-43c5-8d74-22c1f36ce3c7"
   },
   "source": [
    "### 3.6. Categorical - ordinal variables analysis"
   ]
  },
  {
   "cell_type": "code",
   "execution_count": 291,
   "id": "760c518b-c8b7-4583-9037-d1fd6db14f32",
   "metadata": {
    "colab": {
     "base_uri": "https://localhost:8080/",
     "height": 34
    },
    "executionInfo": {
     "elapsed": 28,
     "status": "ok",
     "timestamp": 1715182382840,
     "user": {
      "displayName": "Minh hiếu Phạm",
      "userId": "13621231777531886646"
     },
     "user_tz": -420
    },
    "id": "760c518b-c8b7-4583-9037-d1fd6db14f32",
    "outputId": "d6aaf3c8-3c76-42e3-a921-da3809b4ca76"
   },
   "outputs": [
    {
     "data": {
      "text/html": [
       "<style>\n",
       ".list-inline {list-style: none; margin:0; padding: 0}\n",
       ".list-inline>li {display: inline-block}\n",
       ".list-inline>li:not(:last-child)::after {content: \"\\00b7\"; padding: 0 .5ex}\n",
       "</style>\n",
       "<ol class=list-inline><li>'GenHlth'</li><li>'Age'</li><li>'Education'</li><li>'Income'</li></ol>\n"
      ],
      "text/latex": [
       "\\begin{enumerate*}\n",
       "\\item 'GenHlth'\n",
       "\\item 'Age'\n",
       "\\item 'Education'\n",
       "\\item 'Income'\n",
       "\\end{enumerate*}\n"
      ],
      "text/markdown": [
       "1. 'GenHlth'\n",
       "2. 'Age'\n",
       "3. 'Education'\n",
       "4. 'Income'\n",
       "\n",
       "\n"
      ],
      "text/plain": [
       "[1] \"GenHlth\"   \"Age\"       \"Education\" \"Income\"   "
      ]
     },
     "metadata": {},
     "output_type": "display_data"
    }
   ],
   "source": [
    "ordinal_cols"
   ]
  },
  {
   "cell_type": "code",
   "execution_count": 292,
   "id": "cb00dec4-46c7-4e7b-a85d-d52eb0223502",
   "metadata": {
    "colab": {
     "base_uri": "https://localhost:8080/"
    },
    "executionInfo": {
     "elapsed": 26,
     "status": "ok",
     "timestamp": 1715182382840,
     "user": {
      "displayName": "Minh hiếu Phạm",
      "userId": "13621231777531886646"
     },
     "user_tz": -420
    },
    "id": "cb00dec4-46c7-4e7b-a85d-d52eb0223502",
    "outputId": "bc860686-e0cd-444b-c232-322d4fcd1f55",
    "scrolled": true
   },
   "outputs": [
    {
     "name": "stdout",
     "output_type": "stream",
     "text": [
      "\n",
      " \n",
      "   Cell Contents\n",
      "|-------------------------|\n",
      "|                       N |\n",
      "|           N / Row Total |\n",
      "|           N / Col Total |\n",
      "|         N / Table Total |\n",
      "|-------------------------|\n",
      "\n",
      " \n",
      "Total Observations in Table:  253680 \n",
      "\n",
      " \n",
      "             | Diabetes_binary \n",
      "     GenHlth |         0 |         1 | Row Total | \n",
      "-------------|-----------|-----------|-----------|\n",
      "           1 |     44159 |      1140 |     45299 | \n",
      "             |     0.975 |     0.025 |     0.179 | \n",
      "             |     0.202 |     0.032 |           | \n",
      "             |     0.174 |     0.004 |           | \n",
      "-------------|-----------|-----------|-----------|\n",
      "           2 |     82703 |      6381 |     89084 | \n",
      "             |     0.928 |     0.072 |     0.351 | \n",
      "             |     0.379 |     0.181 |           | \n",
      "             |     0.326 |     0.025 |           | \n",
      "-------------|-----------|-----------|-----------|\n",
      "           3 |     62189 |     13457 |     75646 | \n",
      "             |     0.822 |     0.178 |     0.298 | \n",
      "             |     0.285 |     0.381 |           | \n",
      "             |     0.245 |     0.053 |           | \n",
      "-------------|-----------|-----------|-----------|\n",
      "           4 |     21780 |      9790 |     31570 | \n",
      "             |     0.690 |     0.310 |     0.124 | \n",
      "             |     0.100 |     0.277 |           | \n",
      "             |     0.086 |     0.039 |           | \n",
      "-------------|-----------|-----------|-----------|\n",
      "           5 |      7503 |      4578 |     12081 | \n",
      "             |     0.621 |     0.379 |     0.048 | \n",
      "             |     0.034 |     0.130 |           | \n",
      "             |     0.030 |     0.018 |           | \n",
      "-------------|-----------|-----------|-----------|\n",
      "Column Total |    218334 |     35346 |    253680 | \n",
      "             |     0.861 |     0.139 |           | \n",
      "-------------|-----------|-----------|-----------|\n",
      "\n",
      " \n",
      "Statistics for All Table Factors\n",
      "\n",
      "\n",
      "Pearson's Chi-squared test \n",
      "------------------------------------------------------------\n",
      "Chi^2 =  22728.07     d.f. =  4     p =  0 \n",
      "\n",
      "\n",
      " \n",
      "\n",
      " \n",
      "   Cell Contents\n",
      "|-------------------------|\n",
      "|                       N |\n",
      "|           N / Row Total |\n",
      "|           N / Col Total |\n",
      "|         N / Table Total |\n",
      "|-------------------------|\n",
      "\n",
      " \n",
      "Total Observations in Table:  253680 \n",
      "\n",
      " \n",
      "             | Diabetes_binary \n",
      "         Age |         0 |         1 | Row Total | \n",
      "-------------|-----------|-----------|-----------|\n",
      "           1 |      5622 |        78 |      5700 | \n",
      "             |     0.986 |     0.014 |     0.022 | \n",
      "             |     0.026 |     0.002 |           | \n",
      "             |     0.022 |     0.000 |           | \n",
      "-------------|-----------|-----------|-----------|\n",
      "           2 |      7458 |       140 |      7598 | \n",
      "             |     0.982 |     0.018 |     0.030 | \n",
      "             |     0.034 |     0.004 |           | \n",
      "             |     0.029 |     0.001 |           | \n",
      "-------------|-----------|-----------|-----------|\n",
      "           3 |     10809 |       314 |     11123 | \n",
      "             |     0.972 |     0.028 |     0.044 | \n",
      "             |     0.050 |     0.009 |           | \n",
      "             |     0.043 |     0.001 |           | \n",
      "-------------|-----------|-----------|-----------|\n",
      "           4 |     13197 |       626 |     13823 | \n",
      "             |     0.955 |     0.045 |     0.054 | \n",
      "             |     0.060 |     0.018 |           | \n",
      "             |     0.052 |     0.002 |           | \n",
      "-------------|-----------|-----------|-----------|\n",
      "           5 |     15106 |      1051 |     16157 | \n",
      "             |     0.935 |     0.065 |     0.064 | \n",
      "             |     0.069 |     0.030 |           | \n",
      "             |     0.060 |     0.004 |           | \n",
      "-------------|-----------|-----------|-----------|\n",
      "           6 |     18077 |      1742 |     19819 | \n",
      "             |     0.912 |     0.088 |     0.078 | \n",
      "             |     0.083 |     0.049 |           | \n",
      "             |     0.071 |     0.007 |           | \n",
      "-------------|-----------|-----------|-----------|\n",
      "           7 |     23226 |      3088 |     26314 | \n",
      "             |     0.883 |     0.117 |     0.104 | \n",
      "             |     0.106 |     0.087 |           | \n",
      "             |     0.092 |     0.012 |           | \n",
      "-------------|-----------|-----------|-----------|\n",
      "           8 |     26569 |      4263 |     30832 | \n",
      "             |     0.862 |     0.138 |     0.122 | \n",
      "             |     0.122 |     0.121 |           | \n",
      "             |     0.105 |     0.017 |           | \n",
      "-------------|-----------|-----------|-----------|\n",
      "           9 |     27511 |      5733 |     33244 | \n",
      "             |     0.828 |     0.172 |     0.131 | \n",
      "             |     0.126 |     0.162 |           | \n",
      "             |     0.108 |     0.023 |           | \n",
      "-------------|-----------|-----------|-----------|\n",
      "          10 |     25636 |      6558 |     32194 | \n",
      "             |     0.796 |     0.204 |     0.127 | \n",
      "             |     0.117 |     0.186 |           | \n",
      "             |     0.101 |     0.026 |           | \n",
      "-------------|-----------|-----------|-----------|\n",
      "          11 |     18392 |      5141 |     23533 | \n",
      "             |     0.782 |     0.218 |     0.093 | \n",
      "             |     0.084 |     0.145 |           | \n",
      "             |     0.073 |     0.020 |           | \n",
      "-------------|-----------|-----------|-----------|\n",
      "          12 |     12577 |      3403 |     15980 | \n",
      "             |     0.787 |     0.213 |     0.063 | \n",
      "             |     0.058 |     0.096 |           | \n",
      "             |     0.050 |     0.013 |           | \n",
      "-------------|-----------|-----------|-----------|\n",
      "          13 |     14154 |      3209 |     17363 | \n",
      "             |     0.815 |     0.185 |     0.068 | \n",
      "             |     0.065 |     0.091 |           | \n",
      "             |     0.056 |     0.013 |           | \n",
      "-------------|-----------|-----------|-----------|\n",
      "Column Total |    218334 |     35346 |    253680 | \n",
      "             |     0.861 |     0.139 |           | \n",
      "-------------|-----------|-----------|-----------|\n",
      "\n",
      " \n",
      "Statistics for All Table Factors\n",
      "\n",
      "\n",
      "Pearson's Chi-squared test \n",
      "------------------------------------------------------------\n",
      "Chi^2 =  8795.051     d.f. =  12     p =  0 \n",
      "\n",
      "\n",
      " \n",
      "\n",
      " \n",
      "   Cell Contents\n",
      "|-------------------------|\n",
      "|                       N |\n",
      "|           N / Row Total |\n",
      "|           N / Col Total |\n",
      "|         N / Table Total |\n",
      "|-------------------------|\n",
      "\n",
      " \n",
      "Total Observations in Table:  253680 \n",
      "\n",
      " \n",
      "             | Diabetes_binary \n",
      "   Education |         0 |         1 | Row Total | \n",
      "-------------|-----------|-----------|-----------|\n",
      "           1 |       127 |        47 |       174 | \n",
      "             |     0.730 |     0.270 |     0.001 | \n",
      "             |     0.001 |     0.001 |           | \n",
      "             |     0.001 |     0.000 |           | \n",
      "-------------|-----------|-----------|-----------|\n",
      "           2 |      2860 |      1183 |      4043 | \n",
      "             |     0.707 |     0.293 |     0.016 | \n",
      "             |     0.013 |     0.033 |           | \n",
      "             |     0.011 |     0.005 |           | \n",
      "-------------|-----------|-----------|-----------|\n",
      "           3 |      7182 |      2296 |      9478 | \n",
      "             |     0.758 |     0.242 |     0.037 | \n",
      "             |     0.033 |     0.065 |           | \n",
      "             |     0.028 |     0.009 |           | \n",
      "-------------|-----------|-----------|-----------|\n",
      "           4 |     51684 |     11066 |     62750 | \n",
      "             |     0.824 |     0.176 |     0.247 | \n",
      "             |     0.237 |     0.313 |           | \n",
      "             |     0.204 |     0.044 |           | \n",
      "-------------|-----------|-----------|-----------|\n",
      "           5 |     59556 |     10354 |     69910 | \n",
      "             |     0.852 |     0.148 |     0.276 | \n",
      "             |     0.273 |     0.293 |           | \n",
      "             |     0.235 |     0.041 |           | \n",
      "-------------|-----------|-----------|-----------|\n",
      "           6 |     96925 |     10400 |    107325 | \n",
      "             |     0.903 |     0.097 |     0.423 | \n",
      "             |     0.444 |     0.294 |           | \n",
      "             |     0.382 |     0.041 |           | \n",
      "-------------|-----------|-----------|-----------|\n",
      "Column Total |    218334 |     35346 |    253680 | \n",
      "             |     0.861 |     0.139 |           | \n",
      "-------------|-----------|-----------|-----------|\n",
      "\n",
      " \n",
      "Statistics for All Table Factors\n",
      "\n",
      "\n",
      "Pearson's Chi-squared test \n",
      "------------------------------------------------------------\n",
      "Chi^2 =  4027.112     d.f. =  5     p =  0 \n",
      "\n",
      "\n",
      " \n",
      "\n",
      " \n",
      "   Cell Contents\n",
      "|-------------------------|\n",
      "|                       N |\n",
      "|           N / Row Total |\n",
      "|           N / Col Total |\n",
      "|         N / Table Total |\n",
      "|-------------------------|\n",
      "\n",
      " \n",
      "Total Observations in Table:  253680 \n",
      "\n",
      " \n",
      "             | Diabetes_binary \n",
      "      Income |         0 |         1 | Row Total | \n",
      "-------------|-----------|-----------|-----------|\n",
      "           1 |      7428 |      2383 |      9811 | \n",
      "             |     0.757 |     0.243 |     0.039 | \n",
      "             |     0.034 |     0.067 |           | \n",
      "             |     0.029 |     0.009 |           | \n",
      "-------------|-----------|-----------|-----------|\n",
      "           2 |      8697 |      3086 |     11783 | \n",
      "             |     0.738 |     0.262 |     0.046 | \n",
      "             |     0.040 |     0.087 |           | \n",
      "             |     0.034 |     0.012 |           | \n",
      "-------------|-----------|-----------|-----------|\n",
      "           3 |     12426 |      3568 |     15994 | \n",
      "             |     0.777 |     0.223 |     0.063 | \n",
      "             |     0.057 |     0.101 |           | \n",
      "             |     0.049 |     0.014 |           | \n",
      "-------------|-----------|-----------|-----------|\n",
      "           4 |     16081 |      4054 |     20135 | \n",
      "             |     0.799 |     0.201 |     0.079 | \n",
      "             |     0.074 |     0.115 |           | \n",
      "             |     0.063 |     0.016 |           | \n",
      "-------------|-----------|-----------|-----------|\n",
      "           5 |     21379 |      4504 |     25883 | \n",
      "             |     0.826 |     0.174 |     0.102 | \n",
      "             |     0.098 |     0.127 |           | \n",
      "             |     0.084 |     0.018 |           | \n",
      "-------------|-----------|-----------|-----------|\n",
      "           6 |     31179 |      5291 |     36470 | \n",
      "             |     0.855 |     0.145 |     0.144 | \n",
      "             |     0.143 |     0.150 |           | \n",
      "             |     0.123 |     0.021 |           | \n",
      "-------------|-----------|-----------|-----------|\n",
      "           7 |     37954 |      5265 |     43219 | \n",
      "             |     0.878 |     0.122 |     0.170 | \n",
      "             |     0.174 |     0.149 |           | \n",
      "             |     0.150 |     0.021 |           | \n",
      "-------------|-----------|-----------|-----------|\n",
      "           8 |     83190 |      7195 |     90385 | \n",
      "             |     0.920 |     0.080 |     0.356 | \n",
      "             |     0.381 |     0.204 |           | \n",
      "             |     0.328 |     0.028 |           | \n",
      "-------------|-----------|-----------|-----------|\n",
      "Column Total |    218334 |     35346 |    253680 | \n",
      "             |     0.861 |     0.139 |           | \n",
      "-------------|-----------|-----------|-----------|\n",
      "\n",
      " \n",
      "Statistics for All Table Factors\n",
      "\n",
      "\n",
      "Pearson's Chi-squared test \n",
      "------------------------------------------------------------\n",
      "Chi^2 =  7003.715     d.f. =  7     p =  0 \n",
      "\n",
      "\n",
      " \n"
     ]
    }
   ],
   "source": [
    "for (ord_col in ordinal_cols)\n",
    "{\n",
    "    summary_categorical_variables(df, ord_col, response_col, is.binary = F)\n",
    "}"
   ]
  },
  {
   "cell_type": "markdown",
   "id": "238be730-64df-4e29-9b15-ba4e1c0dbafa",
   "metadata": {
    "id": "238be730-64df-4e29-9b15-ba4e1c0dbafa"
   },
   "source": [
    "#### 3.6.1. GenHlth"
   ]
  },
  {
   "cell_type": "code",
   "execution_count": 296,
   "id": "278ec338-8903-4c64-84fb-67093d643b89",
   "metadata": {
    "colab": {
     "base_uri": "https://localhost:8080/",
     "height": 857
    },
    "executionInfo": {
     "elapsed": 1215,
     "status": "ok",
     "timestamp": 1715182384047,
     "user": {
      "displayName": "Minh hiếu Phạm",
      "userId": "13621231777531886646"
     },
     "user_tz": -420
    },
    "id": "278ec338-8903-4c64-84fb-67093d643b89",
    "outputId": "38835cea-ae2e-4777-fbb3-1e20fac57973"
   },
   "outputs": [
    {
     "data": {
      "image/png": "[encoded data removed]",
      "text/plain": [
       "Plot with title \"no_diabetes_rows - GenHlth\""
      ]
     },
     "metadata": {
      "image/png": {
       "height": 420,
       "width": 420
      }
     },
     "output_type": "display_data"
    },
    {
     "data": {
      "image/png": "[encoded data removed]",
      "text/plain": [
       "Plot with title \"no_diabetes_rows - GenHlth\""
      ]
     },
     "metadata": {
      "image/png": {
       "height": 420,
       "width": 420
      }
     },
     "output_type": "display_data"
    }
   ],
   "source": [
    "plot_ordinal_data(factorized_df, \"GenHlth\")"
   ]
  },
  {
   "cell_type": "markdown",
   "id": "fc971f1f-1020-43be-a89d-6923a8198581",
   "metadata": {
    "id": "fc971f1f-1020-43be-a89d-6923a8198581"
   },
   "source": [
    "#### 3.6.2. Age"
   ]
  },
  {
   "cell_type": "code",
   "execution_count": 298,
   "id": "832a0fb7-1c0e-41f7-bf37-6300f160b594",
   "metadata": {
    "colab": {
     "base_uri": "https://localhost:8080/",
     "height": 857
    },
    "executionInfo": {
     "elapsed": 12,
     "status": "ok",
     "timestamp": 1715182384047,
     "user": {
      "displayName": "Minh hiếu Phạm",
      "userId": "13621231777531886646"
     },
     "user_tz": -420
    },
    "id": "832a0fb7-1c0e-41f7-bf37-6300f160b594",
    "outputId": "482a72e5-7a69-4777-a3df-f6bcd3627eea"
   },
   "outputs": [
    {
     "data": {
      "image/png": "[encoded data removed]",
      "text/plain": [
       "Plot with title \"no_diabetes_rows - Age\""
      ]
     },
     "metadata": {
      "image/png": {
       "height": 420,
       "width": 420
      }
     },
     "output_type": "display_data"
    },
    {
     "data": {
      "image/png": "[encoded data removed]",
      "text/plain": [
       "Plot with title \"no_diabetes_rows - Age\""
      ]
     },
     "metadata": {
      "image/png": {
       "height": 420,
       "width": 420
      }
     },
     "output_type": "display_data"
    }
   ],
   "source": [
    "plot_ordinal_data(factorized_df, \"Age\")"
   ]
  },
  {
   "cell_type": "markdown",
   "id": "b0cf75fc-2b60-4440-a95c-43cbd6acdde4",
   "metadata": {
    "id": "b0cf75fc-2b60-4440-a95c-43cbd6acdde4"
   },
   "source": [
    "#### 3.6.3. Education"
   ]
  },
  {
   "cell_type": "code",
   "execution_count": 299,
   "id": "143797d1-5806-41c8-a7c9-ea8c5767bf5d",
   "metadata": {
    "colab": {
     "base_uri": "https://localhost:8080/",
     "height": 857
    },
    "executionInfo": {
     "elapsed": 610,
     "status": "ok",
     "timestamp": 1715182384647,
     "user": {
      "displayName": "Minh hiếu Phạm",
      "userId": "13621231777531886646"
     },
     "user_tz": -420
    },
    "id": "143797d1-5806-41c8-a7c9-ea8c5767bf5d",
    "outputId": "22c5124c-fa6e-4e34-bf09-419333f401ba"
   },
   "outputs": [
    {
     "data": {
      "image/png": "[encoded data removed]",
      "text/plain": [
       "Plot with title \"no_diabetes_rows - Education\""
      ]
     },
     "metadata": {
      "image/png": {
       "height": 420,
       "width": 420
      }
     },
     "output_type": "display_data"
    },
    {
     "data": {
      "image/png": "[encoded data removed]",
      "text/plain": [
       "Plot with title \"no_diabetes_rows - Education\""
      ]
     },
     "metadata": {
      "image/png": {
       "height": 420,
       "width": 420
      }
     },
     "output_type": "display_data"
    }
   ],
   "source": [
    "plot_ordinal_data(factorized_df, \"Education\")"
   ]
  },
  {
   "cell_type": "markdown",
   "id": "e99d15f8-0d1c-4815-a5c7-dd7266803c37",
   "metadata": {
    "id": "e99d15f8-0d1c-4815-a5c7-dd7266803c37"
   },
   "source": [
    "#### 3.6.4. Income"
   ]
  },
  {
   "cell_type": "code",
   "execution_count": 300,
   "id": "a39f7a15-58b9-4edc-a462-fd8575962eab",
   "metadata": {
    "colab": {
     "base_uri": "https://localhost:8080/",
     "height": 857
    },
    "executionInfo": {
     "elapsed": 13,
     "status": "ok",
     "timestamp": 1715182384648,
     "user": {
      "displayName": "Minh hiếu Phạm",
      "userId": "13621231777531886646"
     },
     "user_tz": -420
    },
    "id": "a39f7a15-58b9-4edc-a462-fd8575962eab",
    "outputId": "243db48a-8086-4b5b-9dc2-90a6660565fa"
   },
   "outputs": [
    {
     "data": {
      "image/png": "[encoded data removed]",
      "text/plain": [
       "Plot with title \"no_diabetes_rows - Income\""
      ]
     },
     "metadata": {
      "image/png": {
       "height": 420,
       "width": 420
      }
     },
     "output_type": "display_data"
    },
    {
     "data": {
      "image/png": "[encoded data removed]",
      "text/plain": [
       "Plot with title \"no_diabetes_rows - Income\""
      ]
     },
     "metadata": {
      "image/png": {
       "height": 420,
       "width": 420
      }
     },
     "output_type": "display_data"
    }
   ],
   "source": [
    "plot_ordinal_data(factorized_df, \"Income\")"
   ]
  },
  {
   "cell_type": "markdown",
   "id": "e3351bdb-1506-4518-af0c-d1facbd47397",
   "metadata": {
    "id": "e3351bdb-1506-4518-af0c-d1facbd47397"
   },
   "source": [
    "### 3.7. Correlation analysis"
   ]
  },
  {
   "cell_type": "code",
   "execution_count": 301,
   "id": "f37e8aa4-024a-41ae-96c9-bb634af5d609",
   "metadata": {
    "executionInfo": {
     "elapsed": 10,
     "status": "ok",
     "timestamp": 1715182384648,
     "user": {
      "displayName": "Minh hiếu Phạm",
      "userId": "13621231777531886646"
     },
     "user_tz": -420
    },
    "id": "f37e8aa4-024a-41ae-96c9-bb634af5d609"
   },
   "outputs": [],
   "source": [
    "all_colnames = colnames(factorized_df)"
   ]
  },
  {
   "cell_type": "code",
   "execution_count": 302,
   "id": "2f33bf34-e7e4-4ca9-86a5-2128a93e1bb0",
   "metadata": {
    "executionInfo": {
     "elapsed": 11,
     "status": "ok",
     "timestamp": 1715182384649,
     "user": {
      "displayName": "Minh hiếu Phạm",
      "userId": "13621231777531886646"
     },
     "user_tz": -420
    },
    "id": "2f33bf34-e7e4-4ca9-86a5-2128a93e1bb0"
   },
   "outputs": [],
   "source": [
    "correlation_matrix = matrix(0, nrow = length(all_colnames), ncol = length(all_colnames), dimnames = list(all_colnames, all_colnames))"
   ]
  },
  {
   "cell_type": "code",
   "execution_count": 305,
   "id": "4f167a1c-17f5-46a5-aaa4-4cb1b124f48a",
   "metadata": {
    "executionInfo": {
     "elapsed": 5797,
     "status": "ok",
     "timestamp": 1715182390436,
     "user": {
      "displayName": "Minh hiếu Phạm",
      "userId": "13621231777531886646"
     },
     "user_tz": -420
    },
    "id": "4f167a1c-17f5-46a5-aaa4-4cb1b124f48a"
   },
   "outputs": [
    {
     "name": "stdout",
     "output_type": "stream",
     "text": [
      "[1] \"2 binary variables\"\n",
      "[1] \"2 binary variables\"\n",
      "[1] \"Binary variable vs numerical variable\"\n",
      "[1] \"2 binary variables\"\n",
      "[1] \"2 binary variables\"\n",
      "[1] \"2 binary variables\"\n",
      "[1] \"2 binary variables\"\n",
      "[1] \"2 binary variables\"\n",
      "[1] \"2 binary variables\"\n",
      "[1] \"2 binary variables\"\n",
      "[1] \"2 binary variables\"\n",
      "[1] \"2 binary variables\"\n",
      "[1] \"At least one ordinal variable\"\n",
      "[1] \"Binary variable vs numerical variable\"\n",
      "[1] \"Binary variable vs numerical variable\"\n",
      "[1] \"2 binary variables\"\n",
      "[1] \"2 binary variables\"\n",
      "[1] \"At least one ordinal variable\"\n",
      "[1] \"At least one ordinal variable\"\n",
      "[1] \"At least one ordinal variable\"\n",
      "[1] \"2 binary variables\"\n",
      "[1] \"2 binary variables\"\n",
      "[1] \"Binary variable vs numerical variable\"\n",
      "[1] \"2 binary variables\"\n",
      "[1] \"2 binary variables\"\n",
      "[1] \"2 binary variables\"\n",
      "[1] \"2 binary variables\"\n",
      "[1] \"2 binary variables\"\n",
      "[1] \"2 binary variables\"\n",
      "[1] \"2 binary variables\"\n",
      "[1] \"2 binary variables\"\n",
      "[1] \"2 binary variables\"\n",
      "[1] \"At least one ordinal variable\"\n",
      "[1] \"Binary variable vs numerical variable\"\n",
      "[1] \"Binary variable vs numerical variable\"\n",
      "[1] \"2 binary variables\"\n",
      "[1] \"2 binary variables\"\n",
      "[1] \"At least one ordinal variable\"\n",
      "[1] \"At least one ordinal variable\"\n",
      "[1] \"At least one ordinal variable\"\n",
      "[1] \"2 binary variables\"\n",
      "[1] \"Binary variable vs numerical variable\"\n",
      "[1] \"2 binary variables\"\n",
      "[1] \"2 binary variables\"\n",
      "[1] \"2 binary variables\"\n",
      "[1] \"2 binary variables\"\n",
      "[1] \"2 binary variables\"\n",
      "[1] \"2 binary variables\"\n",
      "[1] \"2 binary variables\"\n",
      "[1] \"2 binary variables\"\n",
      "[1] \"2 binary variables\"\n",
      "[1] \"At least one ordinal variable\"\n",
      "[1] \"Binary variable vs numerical variable\"\n",
      "[1] \"Binary variable vs numerical variable\"\n",
      "[1] \"2 binary variables\"\n",
      "[1] \"2 binary variables\"\n",
      "[1] \"At least one ordinal variable\"\n",
      "[1] \"At least one ordinal variable\"\n",
      "[1] \"At least one ordinal variable\"\n",
      "[1] \"2 binary variables\"\n",
      "[1] \"Binary variable vs numerical variable\"\n",
      "[1] \"Binary variable vs numerical variable\"\n",
      "[1] \"Binary variable vs numerical variable\"\n",
      "[1] \"Binary variable vs numerical variable\"\n",
      "[1] \"Binary variable vs numerical variable\"\n",
      "[1] \"Binary variable vs numerical variable\"\n",
      "[1] \"Binary variable vs numerical variable\"\n",
      "[1] \"Binary variable vs numerical variable\"\n",
      "[1] \"Binary variable vs numerical variable\"\n",
      "[1] \"At least one ordinal variable\"\n",
      "[1] \"Numerical variable vs numerical variable\"\n",
      "[1] \"Numerical variable vs numerical variable\"\n",
      "[1] \"Binary variable vs numerical variable\"\n",
      "[1] \"Binary variable vs numerical variable\"\n",
      "[1] \"At least one ordinal variable\"\n",
      "[1] \"At least one ordinal variable\"\n",
      "[1] \"At least one ordinal variable\"\n",
      "[1] \"Binary variable vs numerical variable\"\n",
      "[1] \"2 binary variables\"\n",
      "[1] \"2 binary variables\"\n",
      "[1] \"2 binary variables\"\n",
      "[1] \"2 binary variables\"\n",
      "[1] \"2 binary variables\"\n",
      "[1] \"2 binary variables\"\n",
      "[1] \"2 binary variables\"\n",
      "[1] \"2 binary variables\"\n",
      "[1] \"At least one ordinal variable\"\n",
      "[1] \"Binary variable vs numerical variable\"\n",
      "[1] \"Binary variable vs numerical variable\"\n",
      "[1] \"2 binary variables\"\n",
      "[1] \"2 binary variables\"\n",
      "[1] \"At least one ordinal variable\"\n",
      "[1] \"At least one ordinal variable\"\n",
      "[1] \"At least one ordinal variable\"\n",
      "[1] \"2 binary variables\"\n",
      "[1] \"2 binary variables\"\n",
      "[1] \"2 binary variables\"\n",
      "[1] \"2 binary variables\"\n",
      "[1] \"2 binary variables\"\n",
      "[1] \"2 binary variables\"\n",
      "[1] \"2 binary variables\"\n",
      "[1] \"2 binary variables\"\n",
      "[1] \"At least one ordinal variable\"\n",
      "[1] \"Binary variable vs numerical variable\"\n",
      "[1] \"Binary variable vs numerical variable\"\n",
      "[1] \"2 binary variables\"\n",
      "[1] \"2 binary variables\"\n",
      "[1] \"At least one ordinal variable\"\n",
      "[1] \"At least one ordinal variable\"\n",
      "[1] \"At least one ordinal variable\"\n",
      "[1] \"2 binary variables\"\n",
      "[1] \"2 binary variables\"\n",
      "[1] \"2 binary variables\"\n",
      "[1] \"2 binary variables\"\n",
      "[1] \"2 binary variables\"\n",
      "[1] \"2 binary variables\"\n",
      "[1] \"2 binary variables\"\n",
      "[1] \"At least one ordinal variable\"\n",
      "[1] \"Binary variable vs numerical variable\"\n",
      "[1] \"Binary variable vs numerical variable\"\n",
      "[1] \"2 binary variables\"\n",
      "[1] \"2 binary variables\"\n",
      "[1] \"At least one ordinal variable\"\n",
      "[1] \"At least one ordinal variable\"\n",
      "[1] \"At least one ordinal variable\"\n",
      "[1] \"2 binary variables\"\n",
      "[1] \"2 binary variables\"\n",
      "[1] \"2 binary variables\"\n",
      "[1] \"2 binary variables\"\n",
      "[1] \"2 binary variables\"\n",
      "[1] \"2 binary variables\"\n",
      "[1] \"At least one ordinal variable\"\n",
      "[1] \"Binary variable vs numerical variable\"\n",
      "[1] \"Binary variable vs numerical variable\"\n",
      "[1] \"2 binary variables\"\n",
      "[1] \"2 binary variables\"\n",
      "[1] \"At least one ordinal variable\"\n",
      "[1] \"At least one ordinal variable\"\n",
      "[1] \"At least one ordinal variable\"\n",
      "[1] \"2 binary variables\"\n",
      "[1] \"2 binary variables\"\n",
      "[1] \"2 binary variables\"\n",
      "[1] \"2 binary variables\"\n",
      "[1] \"2 binary variables\"\n",
      "[1] \"At least one ordinal variable\"\n",
      "[1] \"Binary variable vs numerical variable\"\n",
      "[1] \"Binary variable vs numerical variable\"\n",
      "[1] \"2 binary variables\"\n",
      "[1] \"2 binary variables\"\n",
      "[1] \"At least one ordinal variable\"\n",
      "[1] \"At least one ordinal variable\"\n",
      "[1] \"At least one ordinal variable\"\n",
      "[1] \"2 binary variables\"\n",
      "[1] \"2 binary variables\"\n",
      "[1] \"2 binary variables\"\n",
      "[1] \"2 binary variables\"\n",
      "[1] \"At least one ordinal variable\"\n",
      "[1] \"Binary variable vs numerical variable\"\n",
      "[1] \"Binary variable vs numerical variable\"\n",
      "[1] \"2 binary variables\"\n",
      "[1] \"2 binary variables\"\n",
      "[1] \"At least one ordinal variable\"\n",
      "[1] \"At least one ordinal variable\"\n",
      "[1] \"At least one ordinal variable\"\n",
      "[1] \"2 binary variables\"\n",
      "[1] \"2 binary variables\"\n",
      "[1] \"2 binary variables\"\n",
      "[1] \"At least one ordinal variable\"\n",
      "[1] \"Binary variable vs numerical variable\"\n",
      "[1] \"Binary variable vs numerical variable\"\n",
      "[1] \"2 binary variables\"\n",
      "[1] \"2 binary variables\"\n",
      "[1] \"At least one ordinal variable\"\n",
      "[1] \"At least one ordinal variable\"\n",
      "[1] \"At least one ordinal variable\"\n",
      "[1] \"2 binary variables\"\n",
      "[1] \"2 binary variables\"\n",
      "[1] \"At least one ordinal variable\"\n",
      "[1] \"Binary variable vs numerical variable\"\n",
      "[1] \"Binary variable vs numerical variable\"\n",
      "[1] \"2 binary variables\"\n",
      "[1] \"2 binary variables\"\n",
      "[1] \"At least one ordinal variable\"\n",
      "[1] \"At least one ordinal variable\"\n",
      "[1] \"At least one ordinal variable\"\n",
      "[1] \"2 binary variables\"\n",
      "[1] \"At least one ordinal variable\"\n",
      "[1] \"Binary variable vs numerical variable\"\n",
      "[1] \"Binary variable vs numerical variable\"\n",
      "[1] \"2 binary variables\"\n",
      "[1] \"2 binary variables\"\n",
      "[1] \"At least one ordinal variable\"\n",
      "[1] \"At least one ordinal variable\"\n",
      "[1] \"At least one ordinal variable\"\n",
      "[1] \"2 binary variables\"\n",
      "[1] \"At least one ordinal variable\"\n",
      "[1] \"At least one ordinal variable\"\n",
      "[1] \"At least one ordinal variable\"\n",
      "[1] \"At least one ordinal variable\"\n",
      "[1] \"At least one ordinal variable\"\n",
      "[1] \"At least one ordinal variable\"\n",
      "[1] \"At least one ordinal variable\"\n",
      "[1] \"At least one ordinal variable\"\n",
      "[1] \"Numerical variable vs numerical variable\"\n",
      "[1] \"Binary variable vs numerical variable\"\n",
      "[1] \"Binary variable vs numerical variable\"\n",
      "[1] \"At least one ordinal variable\"\n",
      "[1] \"At least one ordinal variable\"\n",
      "[1] \"At least one ordinal variable\"\n",
      "[1] \"Binary variable vs numerical variable\"\n",
      "[1] \"Binary variable vs numerical variable\"\n",
      "[1] \"Binary variable vs numerical variable\"\n",
      "[1] \"At least one ordinal variable\"\n",
      "[1] \"At least one ordinal variable\"\n",
      "[1] \"At least one ordinal variable\"\n",
      "[1] \"Binary variable vs numerical variable\"\n",
      "[1] \"2 binary variables\"\n",
      "[1] \"At least one ordinal variable\"\n",
      "[1] \"At least one ordinal variable\"\n",
      "[1] \"At least one ordinal variable\"\n",
      "[1] \"2 binary variables\"\n",
      "[1] \"At least one ordinal variable\"\n",
      "[1] \"At least one ordinal variable\"\n",
      "[1] \"At least one ordinal variable\"\n",
      "[1] \"2 binary variables\"\n",
      "[1] \"At least one ordinal variable\"\n",
      "[1] \"At least one ordinal variable\"\n",
      "[1] \"At least one ordinal variable\"\n",
      "[1] \"At least one ordinal variable\"\n",
      "[1] \"At least one ordinal variable\"\n",
      "[1] \"At least one ordinal variable\"\n"
     ]
    }
   ],
   "source": [
    "for (row_index in 1:nrow(correlation_matrix))\n",
    "{\n",
    "    for (col_index in row_index:ncol(correlation_matrix))\n",
    "    {\n",
    "        if (row_index == col_index)\n",
    "        {\n",
    "            correlation_matrix[row_index, col_index] = 1\n",
    "        }\n",
    "        else\n",
    "        {\n",
    "            correlation_matrix[row_index, col_index] = get_correlation(factorized_df, all_colnames[row_index],\n",
    "                                                                       all_colnames[col_index], numerical_cols,\n",
    "                                                                       binary_cols, ordinal_cols, response_col)\n",
    "        }\n",
    "    }\n",
    "}"
   ]
  },
  {
   "cell_type": "code",
   "execution_count": 307,
   "id": "e019bce1-0842-481f-b55a-0adfd30d9c12",
   "metadata": {
    "colab": {
     "base_uri": "https://localhost:8080/",
     "height": 777
    },
    "executionInfo": {
     "elapsed": 54,
     "status": "ok",
     "timestamp": 1715182390437,
     "user": {
      "displayName": "Minh hiếu Phạm",
      "userId": "13621231777531886646"
     },
     "user_tz": -420
    },
    "id": "e019bce1-0842-481f-b55a-0adfd30d9c12",
    "outputId": "4bbfab2b-d9c8-430f-d0c4-93d2940b640b"
   },
   "outputs": [
    {
     "data": {
      "text/html": [
       "<table class=\"dataframe\">\n",
       "<caption>A matrix: 22 × 22 of type dbl</caption>\n",
       "<thead>\n",
       "\t<tr><th></th><th scope=col>HighBP</th><th scope=col>HighChol</th><th scope=col>CholCheck</th><th scope=col>BMI</th><th scope=col>Smoker</th><th scope=col>Stroke</th><th scope=col>HeartDiseaseorAttack</th><th scope=col>PhysActivity</th><th scope=col>Fruits</th><th scope=col>Veggies</th><th scope=col>⋯</th><th scope=col>NoDocbcCost</th><th scope=col>GenHlth</th><th scope=col>MentHlth</th><th scope=col>PhysHlth</th><th scope=col>DiffWalk</th><th scope=col>Sex</th><th scope=col>Age</th><th scope=col>Education</th><th scope=col>Income</th><th scope=col>Diabetes_binary</th></tr>\n",
       "</thead>\n",
       "<tbody>\n",
       "\t<tr><th scope=row>HighBP</th><td>1</td><td>0.2982</td><td>0.09851</td><td>0.21374812</td><td>0.09699000</td><td>0.12960000</td><td>0.20940000</td><td> 0.1253000</td><td> 0.04055000</td><td> 0.06127000</td><td>⋯</td><td>0.01736000</td><td> 0.27684409</td><td> 0.056455917</td><td> 0.161211571</td><td>0.2236000</td><td> 0.052210000</td><td> 0.293883910</td><td>-0.132261074</td><td>-0.15907727</td><td> 0.26310000</td></tr>\n",
       "\t<tr><th scope=row>HighChol</th><td>0</td><td>1.0000</td><td>0.08564</td><td>0.10672208</td><td>0.09130000</td><td>0.09262000</td><td>0.18080000</td><td> 0.0780500</td><td> 0.04086000</td><td> 0.03987000</td><td>⋯</td><td>0.01331000</td><td> 0.19044111</td><td> 0.062069154</td><td> 0.121750528</td><td>0.1447000</td><td> 0.031210000</td><td> 0.227197645</td><td>-0.064141477</td><td>-0.07805095</td><td> 0.20030000</td></tr>\n",
       "\t<tr><th scope=row>CholCheck</th><td>0</td><td>0.0000</td><td>1.00000</td><td>0.03449509</td><td>0.00992900</td><td>0.02416000</td><td>0.04421000</td><td> 0.0041900</td><td> 0.02385000</td><td> 0.00612100</td><td>⋯</td><td>0.05826000</td><td> 0.04230765</td><td>-0.008365598</td><td> 0.031774808</td><td>0.0405900</td><td> 0.022120000</td><td> 0.079782773</td><td> 0.003605023</td><td> 0.01355233</td><td> 0.06476000</td></tr>\n",
       "\t<tr><th scope=row>BMI</th><td>0</td><td>0.0000</td><td>0.00000</td><td>1.00000000</td><td>0.01380447</td><td>0.02015266</td><td>0.05290426</td><td>-0.1472936</td><td>-0.08751812</td><td>-0.06227519</td><td>⋯</td><td>0.05820629</td><td> 0.20044778</td><td> 0.085310159</td><td> 0.121141107</td><td>0.1970778</td><td> 0.042950303</td><td>-0.018682591</td><td>-0.096272782</td><td>-0.06913474</td><td> 0.21684306</td></tr>\n",
       "\t<tr><th scope=row>Smoker</th><td>0</td><td>0.0000</td><td>0.00000</td><td>0.00000000</td><td>1.00000000</td><td>0.06117000</td><td>0.11440000</td><td> 0.0874000</td><td> 0.07767000</td><td> 0.03068000</td><td>⋯</td><td>0.04895000</td><td> 0.14513867</td><td> 0.092196474</td><td> 0.116459714</td><td>0.1225000</td><td> 0.093660000</td><td> 0.101764840</td><td>-0.161695760</td><td>-0.11779172</td><td> 0.06079000</td></tr>\n",
       "\t<tr><th scope=row>Stroke</th><td>0</td><td>0.0000</td><td>0.00000</td><td>0.00000000</td><td>0.00000000</td><td>1.00000000</td><td>0.20300000</td><td> 0.0691500</td><td> 0.01339000</td><td> 0.04112000</td><td>⋯</td><td>0.03480000</td><td> 0.14940699</td><td> 0.070171812</td><td> 0.148944169</td><td>0.1766000</td><td> 0.002978000</td><td> 0.110086876</td><td>-0.067979132</td><td>-0.10985834</td><td> 0.10580000</td></tr>\n",
       "\t<tr><th scope=row>HeartDiseaseorAttack</th><td>0</td><td>0.0000</td><td>0.00000</td><td>0.00000000</td><td>0.00000000</td><td>0.00000000</td><td>1.00000000</td><td> 0.0873000</td><td> 0.01979000</td><td> 0.03917000</td><td>⋯</td><td>0.03100000</td><td> 0.22111285</td><td> 0.064621292</td><td> 0.181697536</td><td>0.2127000</td><td> 0.086100000</td><td> 0.194173045</td><td>-0.089351076</td><td>-0.12562478</td><td> 0.17730000</td></tr>\n",
       "\t<tr><th scope=row>PhysActivity</th><td>0</td><td>0.0000</td><td>0.00000</td><td>0.00000000</td><td>0.00000000</td><td>0.00000000</td><td>0.00000000</td><td> 1.0000000</td><td> 0.14280000</td><td> 0.15310000</td><td>⋯</td><td>0.06164000</td><td>-0.23388958</td><td>-0.125587088</td><td>-0.219229522</td><td>0.2532000</td><td> 0.032480000</td><td>-0.075105057</td><td> 0.186553009</td><td> 0.17937530</td><td> 0.11810000</td></tr>\n",
       "\t<tr><th scope=row>Fruits</th><td>0</td><td>0.0000</td><td>0.00000</td><td>0.00000000</td><td>0.00000000</td><td>0.00000000</td><td>0.00000000</td><td> 0.0000000</td><td> 1.00000000</td><td> 0.25430000</td><td>⋯</td><td>0.04424000</td><td>-0.09627343</td><td>-0.068217375</td><td>-0.044633325</td><td>0.0483500</td><td> 0.091170000</td><td> 0.057094063</td><td> 0.107068517</td><td> 0.06784869</td><td> 0.04078000</td></tr>\n",
       "\t<tr><th scope=row>Veggies</th><td>0</td><td>0.0000</td><td>0.00000</td><td>0.00000000</td><td>0.00000000</td><td>0.00000000</td><td>0.00000000</td><td> 0.0000000</td><td> 0.00000000</td><td> 1.00000000</td><td>⋯</td><td>0.03223000</td><td>-0.11185121</td><td>-0.058883553</td><td>-0.064290327</td><td>0.0805100</td><td> 0.064770000</td><td>-0.009572817</td><td> 0.144059557</td><td> 0.13262035</td><td> 0.05658000</td></tr>\n",
       "\t<tr><th scope=row>HvyAlcoholConsump</th><td>0</td><td>0.0000</td><td>0.00000</td><td>0.00000000</td><td>0.00000000</td><td>0.00000000</td><td>0.00000000</td><td> 0.0000000</td><td> 0.00000000</td><td> 0.00000000</td><td>⋯</td><td>0.00468400</td><td>-0.03215364</td><td> 0.024715803</td><td>-0.026415474</td><td>0.0376700</td><td> 0.005740000</td><td>-0.029965414</td><td> 0.019798809</td><td> 0.04913834</td><td> 0.05706000</td></tr>\n",
       "\t<tr><th scope=row>AnyHealthcare</th><td>0</td><td>0.0000</td><td>0.00000</td><td>0.00000000</td><td>0.00000000</td><td>0.00000000</td><td>0.00000000</td><td> 0.0000000</td><td> 0.00000000</td><td> 0.00000000</td><td>⋯</td><td>0.23250000</td><td>-0.03799168</td><td>-0.052706597</td><td>-0.008276167</td><td>0.0070740</td><td> 0.019410000</td><td> 0.119625441</td><td> 0.106998261</td><td> 0.13766158</td><td> 0.01626000</td></tr>\n",
       "\t<tr><th scope=row>NoDocbcCost</th><td>0</td><td>0.0000</td><td>0.00000</td><td>0.00000000</td><td>0.00000000</td><td>0.00000000</td><td>0.00000000</td><td> 0.0000000</td><td> 0.00000000</td><td> 0.00000000</td><td>⋯</td><td>1.00000000</td><td> 0.14381687</td><td> 0.192106853</td><td> 0.148997564</td><td>0.1184000</td><td> 0.044930000</td><td>-0.107532972</td><td>-0.091225522</td><td>-0.17468003</td><td> 0.03143000</td></tr>\n",
       "\t<tr><th scope=row>GenHlth</th><td>0</td><td>0.0000</td><td>0.00000</td><td>0.00000000</td><td>0.00000000</td><td>0.00000000</td><td>0.00000000</td><td> 0.0000000</td><td> 0.00000000</td><td> 0.00000000</td><td>⋯</td><td>0.00000000</td><td> 1.00000000</td><td> 0.204673302</td><td> 0.390358148</td><td>0.3859114</td><td>-0.003228014</td><td> 0.114303133</td><td>-0.236224080</td><td>-0.29196523</td><td> 0.26260195</td></tr>\n",
       "\t<tr><th scope=row>MentHlth</th><td>0</td><td>0.0000</td><td>0.00000</td><td>0.00000000</td><td>0.00000000</td><td>0.00000000</td><td>0.00000000</td><td> 0.0000000</td><td> 0.00000000</td><td> 0.00000000</td><td>⋯</td><td>0.00000000</td><td> 0.00000000</td><td> 1.000000000</td><td> 0.353618868</td><td>0.2336881</td><td>-0.080704863</td><td>-0.129731426</td><td>-0.047084111</td><td>-0.12043742</td><td> 0.06931508</td></tr>\n",
       "\t<tr><th scope=row>PhysHlth</th><td>0</td><td>0.0000</td><td>0.00000</td><td>0.00000000</td><td>0.00000000</td><td>0.00000000</td><td>0.00000000</td><td> 0.0000000</td><td> 0.00000000</td><td> 0.00000000</td><td>⋯</td><td>0.00000000</td><td> 0.00000000</td><td> 0.000000000</td><td> 1.000000000</td><td>0.4784166</td><td>-0.043136502</td><td> 0.040949992</td><td>-0.098650266</td><td>-0.17883737</td><td> 0.17133670</td></tr>\n",
       "\t<tr><th scope=row>DiffWalk</th><td>0</td><td>0.0000</td><td>0.00000</td><td>0.00000000</td><td>0.00000000</td><td>0.00000000</td><td>0.00000000</td><td> 0.0000000</td><td> 0.00000000</td><td> 0.00000000</td><td>⋯</td><td>0.00000000</td><td> 0.00000000</td><td> 0.000000000</td><td> 0.000000000</td><td>1.0000000</td><td> 0.070300000</td><td> 0.171554443</td><td>-0.174726539</td><td>-0.26966510</td><td> 0.21830000</td></tr>\n",
       "\t<tr><th scope=row>Sex</th><td>0</td><td>0.0000</td><td>0.00000</td><td>0.00000000</td><td>0.00000000</td><td>0.00000000</td><td>0.00000000</td><td> 0.0000000</td><td> 0.00000000</td><td> 0.00000000</td><td>⋯</td><td>0.00000000</td><td> 0.00000000</td><td> 0.000000000</td><td> 0.000000000</td><td>0.0000000</td><td> 1.000000000</td><td>-0.020657202</td><td> 0.022554582</td><td> 0.11277129</td><td> 0.03143000</td></tr>\n",
       "\t<tr><th scope=row>Age</th><td>0</td><td>0.0000</td><td>0.00000</td><td>0.00000000</td><td>0.00000000</td><td>0.00000000</td><td>0.00000000</td><td> 0.0000000</td><td> 0.00000000</td><td> 0.00000000</td><td>⋯</td><td>0.00000000</td><td> 0.00000000</td><td> 0.000000000</td><td> 0.000000000</td><td>0.0000000</td><td> 0.000000000</td><td> 1.000000000</td><td>-0.080601809</td><td>-0.13460542</td><td> 0.15156257</td></tr>\n",
       "\t<tr><th scope=row>Education</th><td>0</td><td>0.0000</td><td>0.00000</td><td>0.00000000</td><td>0.00000000</td><td>0.00000000</td><td>0.00000000</td><td> 0.0000000</td><td> 0.00000000</td><td> 0.00000000</td><td>⋯</td><td>0.00000000</td><td> 0.00000000</td><td> 0.000000000</td><td> 0.000000000</td><td>0.0000000</td><td> 0.000000000</td><td> 0.000000000</td><td> 1.000000000</td><td> 0.38077195</td><td>-0.11182832</td></tr>\n",
       "\t<tr><th scope=row>Income</th><td>0</td><td>0.0000</td><td>0.00000</td><td>0.00000000</td><td>0.00000000</td><td>0.00000000</td><td>0.00000000</td><td> 0.0000000</td><td> 0.00000000</td><td> 0.00000000</td><td>⋯</td><td>0.00000000</td><td> 0.00000000</td><td> 0.000000000</td><td> 0.000000000</td><td>0.0000000</td><td> 0.000000000</td><td> 0.000000000</td><td> 0.000000000</td><td> 1.00000000</td><td>-0.14499818</td></tr>\n",
       "\t<tr><th scope=row>Diabetes_binary</th><td>0</td><td>0.0000</td><td>0.00000</td><td>0.00000000</td><td>0.00000000</td><td>0.00000000</td><td>0.00000000</td><td> 0.0000000</td><td> 0.00000000</td><td> 0.00000000</td><td>⋯</td><td>0.00000000</td><td> 0.00000000</td><td> 0.000000000</td><td> 0.000000000</td><td>0.0000000</td><td> 0.000000000</td><td> 0.000000000</td><td> 0.000000000</td><td> 0.00000000</td><td> 1.00000000</td></tr>\n",
       "</tbody>\n",
       "</table>\n"
      ],
      "text/latex": [
       "A matrix: 22 × 22 of type dbl\n",
       "\\begin{tabular}{r|lllllllllllllllllllll}\n",
       "  & HighBP & HighChol & CholCheck & BMI & Smoker & Stroke & HeartDiseaseorAttack & PhysActivity & Fruits & Veggies & ⋯ & NoDocbcCost & GenHlth & MentHlth & PhysHlth & DiffWalk & Sex & Age & Education & Income & Diabetes\\_binary\\\\\n",
       "\\hline\n",
       "\tHighBP & 1 & 0.2982 & 0.09851 & 0.21374812 & 0.09699000 & 0.12960000 & 0.20940000 &  0.1253000 &  0.04055000 &  0.06127000 & ⋯ & 0.01736000 &  0.27684409 &  0.056455917 &  0.161211571 & 0.2236000 &  0.052210000 &  0.293883910 & -0.132261074 & -0.15907727 &  0.26310000\\\\\n",
       "\tHighChol & 0 & 1.0000 & 0.08564 & 0.10672208 & 0.09130000 & 0.09262000 & 0.18080000 &  0.0780500 &  0.04086000 &  0.03987000 & ⋯ & 0.01331000 &  0.19044111 &  0.062069154 &  0.121750528 & 0.1447000 &  0.031210000 &  0.227197645 & -0.064141477 & -0.07805095 &  0.20030000\\\\\n",
       "\tCholCheck & 0 & 0.0000 & 1.00000 & 0.03449509 & 0.00992900 & 0.02416000 & 0.04421000 &  0.0041900 &  0.02385000 &  0.00612100 & ⋯ & 0.05826000 &  0.04230765 & -0.008365598 &  0.031774808 & 0.0405900 &  0.022120000 &  0.079782773 &  0.003605023 &  0.01355233 &  0.06476000\\\\\n",
       "\tBMI & 0 & 0.0000 & 0.00000 & 1.00000000 & 0.01380447 & 0.02015266 & 0.05290426 & -0.1472936 & -0.08751812 & -0.06227519 & ⋯ & 0.05820629 &  0.20044778 &  0.085310159 &  0.121141107 & 0.1970778 &  0.042950303 & -0.018682591 & -0.096272782 & -0.06913474 &  0.21684306\\\\\n",
       "\tSmoker & 0 & 0.0000 & 0.00000 & 0.00000000 & 1.00000000 & 0.06117000 & 0.11440000 &  0.0874000 &  0.07767000 &  0.03068000 & ⋯ & 0.04895000 &  0.14513867 &  0.092196474 &  0.116459714 & 0.1225000 &  0.093660000 &  0.101764840 & -0.161695760 & -0.11779172 &  0.06079000\\\\\n",
       "\tStroke & 0 & 0.0000 & 0.00000 & 0.00000000 & 0.00000000 & 1.00000000 & 0.20300000 &  0.0691500 &  0.01339000 &  0.04112000 & ⋯ & 0.03480000 &  0.14940699 &  0.070171812 &  0.148944169 & 0.1766000 &  0.002978000 &  0.110086876 & -0.067979132 & -0.10985834 &  0.10580000\\\\\n",
       "\tHeartDiseaseorAttack & 0 & 0.0000 & 0.00000 & 0.00000000 & 0.00000000 & 0.00000000 & 1.00000000 &  0.0873000 &  0.01979000 &  0.03917000 & ⋯ & 0.03100000 &  0.22111285 &  0.064621292 &  0.181697536 & 0.2127000 &  0.086100000 &  0.194173045 & -0.089351076 & -0.12562478 &  0.17730000\\\\\n",
       "\tPhysActivity & 0 & 0.0000 & 0.00000 & 0.00000000 & 0.00000000 & 0.00000000 & 0.00000000 &  1.0000000 &  0.14280000 &  0.15310000 & ⋯ & 0.06164000 & -0.23388958 & -0.125587088 & -0.219229522 & 0.2532000 &  0.032480000 & -0.075105057 &  0.186553009 &  0.17937530 &  0.11810000\\\\\n",
       "\tFruits & 0 & 0.0000 & 0.00000 & 0.00000000 & 0.00000000 & 0.00000000 & 0.00000000 &  0.0000000 &  1.00000000 &  0.25430000 & ⋯ & 0.04424000 & -0.09627343 & -0.068217375 & -0.044633325 & 0.0483500 &  0.091170000 &  0.057094063 &  0.107068517 &  0.06784869 &  0.04078000\\\\\n",
       "\tVeggies & 0 & 0.0000 & 0.00000 & 0.00000000 & 0.00000000 & 0.00000000 & 0.00000000 &  0.0000000 &  0.00000000 &  1.00000000 & ⋯ & 0.03223000 & -0.11185121 & -0.058883553 & -0.064290327 & 0.0805100 &  0.064770000 & -0.009572817 &  0.144059557 &  0.13262035 &  0.05658000\\\\\n",
       "\tHvyAlcoholConsump & 0 & 0.0000 & 0.00000 & 0.00000000 & 0.00000000 & 0.00000000 & 0.00000000 &  0.0000000 &  0.00000000 &  0.00000000 & ⋯ & 0.00468400 & -0.03215364 &  0.024715803 & -0.026415474 & 0.0376700 &  0.005740000 & -0.029965414 &  0.019798809 &  0.04913834 &  0.05706000\\\\\n",
       "\tAnyHealthcare & 0 & 0.0000 & 0.00000 & 0.00000000 & 0.00000000 & 0.00000000 & 0.00000000 &  0.0000000 &  0.00000000 &  0.00000000 & ⋯ & 0.23250000 & -0.03799168 & -0.052706597 & -0.008276167 & 0.0070740 &  0.019410000 &  0.119625441 &  0.106998261 &  0.13766158 &  0.01626000\\\\\n",
       "\tNoDocbcCost & 0 & 0.0000 & 0.00000 & 0.00000000 & 0.00000000 & 0.00000000 & 0.00000000 &  0.0000000 &  0.00000000 &  0.00000000 & ⋯ & 1.00000000 &  0.14381687 &  0.192106853 &  0.148997564 & 0.1184000 &  0.044930000 & -0.107532972 & -0.091225522 & -0.17468003 &  0.03143000\\\\\n",
       "\tGenHlth & 0 & 0.0000 & 0.00000 & 0.00000000 & 0.00000000 & 0.00000000 & 0.00000000 &  0.0000000 &  0.00000000 &  0.00000000 & ⋯ & 0.00000000 &  1.00000000 &  0.204673302 &  0.390358148 & 0.3859114 & -0.003228014 &  0.114303133 & -0.236224080 & -0.29196523 &  0.26260195\\\\\n",
       "\tMentHlth & 0 & 0.0000 & 0.00000 & 0.00000000 & 0.00000000 & 0.00000000 & 0.00000000 &  0.0000000 &  0.00000000 &  0.00000000 & ⋯ & 0.00000000 &  0.00000000 &  1.000000000 &  0.353618868 & 0.2336881 & -0.080704863 & -0.129731426 & -0.047084111 & -0.12043742 &  0.06931508\\\\\n",
       "\tPhysHlth & 0 & 0.0000 & 0.00000 & 0.00000000 & 0.00000000 & 0.00000000 & 0.00000000 &  0.0000000 &  0.00000000 &  0.00000000 & ⋯ & 0.00000000 &  0.00000000 &  0.000000000 &  1.000000000 & 0.4784166 & -0.043136502 &  0.040949992 & -0.098650266 & -0.17883737 &  0.17133670\\\\\n",
       "\tDiffWalk & 0 & 0.0000 & 0.00000 & 0.00000000 & 0.00000000 & 0.00000000 & 0.00000000 &  0.0000000 &  0.00000000 &  0.00000000 & ⋯ & 0.00000000 &  0.00000000 &  0.000000000 &  0.000000000 & 1.0000000 &  0.070300000 &  0.171554443 & -0.174726539 & -0.26966510 &  0.21830000\\\\\n",
       "\tSex & 0 & 0.0000 & 0.00000 & 0.00000000 & 0.00000000 & 0.00000000 & 0.00000000 &  0.0000000 &  0.00000000 &  0.00000000 & ⋯ & 0.00000000 &  0.00000000 &  0.000000000 &  0.000000000 & 0.0000000 &  1.000000000 & -0.020657202 &  0.022554582 &  0.11277129 &  0.03143000\\\\\n",
       "\tAge & 0 & 0.0000 & 0.00000 & 0.00000000 & 0.00000000 & 0.00000000 & 0.00000000 &  0.0000000 &  0.00000000 &  0.00000000 & ⋯ & 0.00000000 &  0.00000000 &  0.000000000 &  0.000000000 & 0.0000000 &  0.000000000 &  1.000000000 & -0.080601809 & -0.13460542 &  0.15156257\\\\\n",
       "\tEducation & 0 & 0.0000 & 0.00000 & 0.00000000 & 0.00000000 & 0.00000000 & 0.00000000 &  0.0000000 &  0.00000000 &  0.00000000 & ⋯ & 0.00000000 &  0.00000000 &  0.000000000 &  0.000000000 & 0.0000000 &  0.000000000 &  0.000000000 &  1.000000000 &  0.38077195 & -0.11182832\\\\\n",
       "\tIncome & 0 & 0.0000 & 0.00000 & 0.00000000 & 0.00000000 & 0.00000000 & 0.00000000 &  0.0000000 &  0.00000000 &  0.00000000 & ⋯ & 0.00000000 &  0.00000000 &  0.000000000 &  0.000000000 & 0.0000000 &  0.000000000 &  0.000000000 &  0.000000000 &  1.00000000 & -0.14499818\\\\\n",
       "\tDiabetes\\_binary & 0 & 0.0000 & 0.00000 & 0.00000000 & 0.00000000 & 0.00000000 & 0.00000000 &  0.0000000 &  0.00000000 &  0.00000000 & ⋯ & 0.00000000 &  0.00000000 &  0.000000000 &  0.000000000 & 0.0000000 &  0.000000000 &  0.000000000 &  0.000000000 &  0.00000000 &  1.00000000\\\\\n",
       "\\end{tabular}\n"
      ],
      "text/markdown": [
       "\n",
       "A matrix: 22 × 22 of type dbl\n",
       "\n",
       "| <!--/--> | HighBP | HighChol | CholCheck | BMI | Smoker | Stroke | HeartDiseaseorAttack | PhysActivity | Fruits | Veggies | ⋯ | NoDocbcCost | GenHlth | MentHlth | PhysHlth | DiffWalk | Sex | Age | Education | Income | Diabetes_binary |\n",
       "|---|---|---|---|---|---|---|---|---|---|---|---|---|---|---|---|---|---|---|---|---|---|\n",
       "| HighBP | 1 | 0.2982 | 0.09851 | 0.21374812 | 0.09699000 | 0.12960000 | 0.20940000 |  0.1253000 |  0.04055000 |  0.06127000 | ⋯ | 0.01736000 |  0.27684409 |  0.056455917 |  0.161211571 | 0.2236000 |  0.052210000 |  0.293883910 | -0.132261074 | -0.15907727 |  0.26310000 |\n",
       "| HighChol | 0 | 1.0000 | 0.08564 | 0.10672208 | 0.09130000 | 0.09262000 | 0.18080000 |  0.0780500 |  0.04086000 |  0.03987000 | ⋯ | 0.01331000 |  0.19044111 |  0.062069154 |  0.121750528 | 0.1447000 |  0.031210000 |  0.227197645 | -0.064141477 | -0.07805095 |  0.20030000 |\n",
       "| CholCheck | 0 | 0.0000 | 1.00000 | 0.03449509 | 0.00992900 | 0.02416000 | 0.04421000 |  0.0041900 |  0.02385000 |  0.00612100 | ⋯ | 0.05826000 |  0.04230765 | -0.008365598 |  0.031774808 | 0.0405900 |  0.022120000 |  0.079782773 |  0.003605023 |  0.01355233 |  0.06476000 |\n",
       "| BMI | 0 | 0.0000 | 0.00000 | 1.00000000 | 0.01380447 | 0.02015266 | 0.05290426 | -0.1472936 | -0.08751812 | -0.06227519 | ⋯ | 0.05820629 |  0.20044778 |  0.085310159 |  0.121141107 | 0.1970778 |  0.042950303 | -0.018682591 | -0.096272782 | -0.06913474 |  0.21684306 |\n",
       "| Smoker | 0 | 0.0000 | 0.00000 | 0.00000000 | 1.00000000 | 0.06117000 | 0.11440000 |  0.0874000 |  0.07767000 |  0.03068000 | ⋯ | 0.04895000 |  0.14513867 |  0.092196474 |  0.116459714 | 0.1225000 |  0.093660000 |  0.101764840 | -0.161695760 | -0.11779172 |  0.06079000 |\n",
       "| Stroke | 0 | 0.0000 | 0.00000 | 0.00000000 | 0.00000000 | 1.00000000 | 0.20300000 |  0.0691500 |  0.01339000 |  0.04112000 | ⋯ | 0.03480000 |  0.14940699 |  0.070171812 |  0.148944169 | 0.1766000 |  0.002978000 |  0.110086876 | -0.067979132 | -0.10985834 |  0.10580000 |\n",
       "| HeartDiseaseorAttack | 0 | 0.0000 | 0.00000 | 0.00000000 | 0.00000000 | 0.00000000 | 1.00000000 |  0.0873000 |  0.01979000 |  0.03917000 | ⋯ | 0.03100000 |  0.22111285 |  0.064621292 |  0.181697536 | 0.2127000 |  0.086100000 |  0.194173045 | -0.089351076 | -0.12562478 |  0.17730000 |\n",
       "| PhysActivity | 0 | 0.0000 | 0.00000 | 0.00000000 | 0.00000000 | 0.00000000 | 0.00000000 |  1.0000000 |  0.14280000 |  0.15310000 | ⋯ | 0.06164000 | -0.23388958 | -0.125587088 | -0.219229522 | 0.2532000 |  0.032480000 | -0.075105057 |  0.186553009 |  0.17937530 |  0.11810000 |\n",
       "| Fruits | 0 | 0.0000 | 0.00000 | 0.00000000 | 0.00000000 | 0.00000000 | 0.00000000 |  0.0000000 |  1.00000000 |  0.25430000 | ⋯ | 0.04424000 | -0.09627343 | -0.068217375 | -0.044633325 | 0.0483500 |  0.091170000 |  0.057094063 |  0.107068517 |  0.06784869 |  0.04078000 |\n",
       "| Veggies | 0 | 0.0000 | 0.00000 | 0.00000000 | 0.00000000 | 0.00000000 | 0.00000000 |  0.0000000 |  0.00000000 |  1.00000000 | ⋯ | 0.03223000 | -0.11185121 | -0.058883553 | -0.064290327 | 0.0805100 |  0.064770000 | -0.009572817 |  0.144059557 |  0.13262035 |  0.05658000 |\n",
       "| HvyAlcoholConsump | 0 | 0.0000 | 0.00000 | 0.00000000 | 0.00000000 | 0.00000000 | 0.00000000 |  0.0000000 |  0.00000000 |  0.00000000 | ⋯ | 0.00468400 | -0.03215364 |  0.024715803 | -0.026415474 | 0.0376700 |  0.005740000 | -0.029965414 |  0.019798809 |  0.04913834 |  0.05706000 |\n",
       "| AnyHealthcare | 0 | 0.0000 | 0.00000 | 0.00000000 | 0.00000000 | 0.00000000 | 0.00000000 |  0.0000000 |  0.00000000 |  0.00000000 | ⋯ | 0.23250000 | -0.03799168 | -0.052706597 | -0.008276167 | 0.0070740 |  0.019410000 |  0.119625441 |  0.106998261 |  0.13766158 |  0.01626000 |\n",
       "| NoDocbcCost | 0 | 0.0000 | 0.00000 | 0.00000000 | 0.00000000 | 0.00000000 | 0.00000000 |  0.0000000 |  0.00000000 |  0.00000000 | ⋯ | 1.00000000 |  0.14381687 |  0.192106853 |  0.148997564 | 0.1184000 |  0.044930000 | -0.107532972 | -0.091225522 | -0.17468003 |  0.03143000 |\n",
       "| GenHlth | 0 | 0.0000 | 0.00000 | 0.00000000 | 0.00000000 | 0.00000000 | 0.00000000 |  0.0000000 |  0.00000000 |  0.00000000 | ⋯ | 0.00000000 |  1.00000000 |  0.204673302 |  0.390358148 | 0.3859114 | -0.003228014 |  0.114303133 | -0.236224080 | -0.29196523 |  0.26260195 |\n",
       "| MentHlth | 0 | 0.0000 | 0.00000 | 0.00000000 | 0.00000000 | 0.00000000 | 0.00000000 |  0.0000000 |  0.00000000 |  0.00000000 | ⋯ | 0.00000000 |  0.00000000 |  1.000000000 |  0.353618868 | 0.2336881 | -0.080704863 | -0.129731426 | -0.047084111 | -0.12043742 |  0.06931508 |\n",
       "| PhysHlth | 0 | 0.0000 | 0.00000 | 0.00000000 | 0.00000000 | 0.00000000 | 0.00000000 |  0.0000000 |  0.00000000 |  0.00000000 | ⋯ | 0.00000000 |  0.00000000 |  0.000000000 |  1.000000000 | 0.4784166 | -0.043136502 |  0.040949992 | -0.098650266 | -0.17883737 |  0.17133670 |\n",
       "| DiffWalk | 0 | 0.0000 | 0.00000 | 0.00000000 | 0.00000000 | 0.00000000 | 0.00000000 |  0.0000000 |  0.00000000 |  0.00000000 | ⋯ | 0.00000000 |  0.00000000 |  0.000000000 |  0.000000000 | 1.0000000 |  0.070300000 |  0.171554443 | -0.174726539 | -0.26966510 |  0.21830000 |\n",
       "| Sex | 0 | 0.0000 | 0.00000 | 0.00000000 | 0.00000000 | 0.00000000 | 0.00000000 |  0.0000000 |  0.00000000 |  0.00000000 | ⋯ | 0.00000000 |  0.00000000 |  0.000000000 |  0.000000000 | 0.0000000 |  1.000000000 | -0.020657202 |  0.022554582 |  0.11277129 |  0.03143000 |\n",
       "| Age | 0 | 0.0000 | 0.00000 | 0.00000000 | 0.00000000 | 0.00000000 | 0.00000000 |  0.0000000 |  0.00000000 |  0.00000000 | ⋯ | 0.00000000 |  0.00000000 |  0.000000000 |  0.000000000 | 0.0000000 |  0.000000000 |  1.000000000 | -0.080601809 | -0.13460542 |  0.15156257 |\n",
       "| Education | 0 | 0.0000 | 0.00000 | 0.00000000 | 0.00000000 | 0.00000000 | 0.00000000 |  0.0000000 |  0.00000000 |  0.00000000 | ⋯ | 0.00000000 |  0.00000000 |  0.000000000 |  0.000000000 | 0.0000000 |  0.000000000 |  0.000000000 |  1.000000000 |  0.38077195 | -0.11182832 |\n",
       "| Income | 0 | 0.0000 | 0.00000 | 0.00000000 | 0.00000000 | 0.00000000 | 0.00000000 |  0.0000000 |  0.00000000 |  0.00000000 | ⋯ | 0.00000000 |  0.00000000 |  0.000000000 |  0.000000000 | 0.0000000 |  0.000000000 |  0.000000000 |  0.000000000 |  1.00000000 | -0.14499818 |\n",
       "| Diabetes_binary | 0 | 0.0000 | 0.00000 | 0.00000000 | 0.00000000 | 0.00000000 | 0.00000000 |  0.0000000 |  0.00000000 |  0.00000000 | ⋯ | 0.00000000 |  0.00000000 |  0.000000000 |  0.000000000 | 0.0000000 |  0.000000000 |  0.000000000 |  0.000000000 |  0.00000000 |  1.00000000 |\n",
       "\n"
      ],
      "text/plain": [
       "                     HighBP HighChol CholCheck BMI        Smoker     Stroke    \n",
       "HighBP               1      0.2982   0.09851   0.21374812 0.09699000 0.12960000\n",
       "HighChol             0      1.0000   0.08564   0.10672208 0.09130000 0.09262000\n",
       "CholCheck            0      0.0000   1.00000   0.03449509 0.00992900 0.02416000\n",
       "BMI                  0      0.0000   0.00000   1.00000000 0.01380447 0.02015266\n",
       "Smoker               0      0.0000   0.00000   0.00000000 1.00000000 0.06117000\n",
       "Stroke               0      0.0000   0.00000   0.00000000 0.00000000 1.00000000\n",
       "HeartDiseaseorAttack 0      0.0000   0.00000   0.00000000 0.00000000 0.00000000\n",
       "PhysActivity         0      0.0000   0.00000   0.00000000 0.00000000 0.00000000\n",
       "Fruits               0      0.0000   0.00000   0.00000000 0.00000000 0.00000000\n",
       "Veggies              0      0.0000   0.00000   0.00000000 0.00000000 0.00000000\n",
       "HvyAlcoholConsump    0      0.0000   0.00000   0.00000000 0.00000000 0.00000000\n",
       "AnyHealthcare        0      0.0000   0.00000   0.00000000 0.00000000 0.00000000\n",
       "NoDocbcCost          0      0.0000   0.00000   0.00000000 0.00000000 0.00000000\n",
       "GenHlth              0      0.0000   0.00000   0.00000000 0.00000000 0.00000000\n",
       "MentHlth             0      0.0000   0.00000   0.00000000 0.00000000 0.00000000\n",
       "PhysHlth             0      0.0000   0.00000   0.00000000 0.00000000 0.00000000\n",
       "DiffWalk             0      0.0000   0.00000   0.00000000 0.00000000 0.00000000\n",
       "Sex                  0      0.0000   0.00000   0.00000000 0.00000000 0.00000000\n",
       "Age                  0      0.0000   0.00000   0.00000000 0.00000000 0.00000000\n",
       "Education            0      0.0000   0.00000   0.00000000 0.00000000 0.00000000\n",
       "Income               0      0.0000   0.00000   0.00000000 0.00000000 0.00000000\n",
       "Diabetes_binary      0      0.0000   0.00000   0.00000000 0.00000000 0.00000000\n",
       "                     HeartDiseaseorAttack PhysActivity Fruits      Veggies    \n",
       "HighBP               0.20940000            0.1253000    0.04055000  0.06127000\n",
       "HighChol             0.18080000            0.0780500    0.04086000  0.03987000\n",
       "CholCheck            0.04421000            0.0041900    0.02385000  0.00612100\n",
       "BMI                  0.05290426           -0.1472936   -0.08751812 -0.06227519\n",
       "Smoker               0.11440000            0.0874000    0.07767000  0.03068000\n",
       "Stroke               0.20300000            0.0691500    0.01339000  0.04112000\n",
       "HeartDiseaseorAttack 1.00000000            0.0873000    0.01979000  0.03917000\n",
       "PhysActivity         0.00000000            1.0000000    0.14280000  0.15310000\n",
       "Fruits               0.00000000            0.0000000    1.00000000  0.25430000\n",
       "Veggies              0.00000000            0.0000000    0.00000000  1.00000000\n",
       "HvyAlcoholConsump    0.00000000            0.0000000    0.00000000  0.00000000\n",
       "AnyHealthcare        0.00000000            0.0000000    0.00000000  0.00000000\n",
       "NoDocbcCost          0.00000000            0.0000000    0.00000000  0.00000000\n",
       "GenHlth              0.00000000            0.0000000    0.00000000  0.00000000\n",
       "MentHlth             0.00000000            0.0000000    0.00000000  0.00000000\n",
       "PhysHlth             0.00000000            0.0000000    0.00000000  0.00000000\n",
       "DiffWalk             0.00000000            0.0000000    0.00000000  0.00000000\n",
       "Sex                  0.00000000            0.0000000    0.00000000  0.00000000\n",
       "Age                  0.00000000            0.0000000    0.00000000  0.00000000\n",
       "Education            0.00000000            0.0000000    0.00000000  0.00000000\n",
       "Income               0.00000000            0.0000000    0.00000000  0.00000000\n",
       "Diabetes_binary      0.00000000            0.0000000    0.00000000  0.00000000\n",
       "                     <U+22EF>        NoDocbcCost GenHlth     MentHlth     PhysHlth    \n",
       "HighBP               <U+22EF> 0.01736000   0.27684409  0.056455917  0.161211571\n",
       "HighChol             <U+22EF> 0.01331000   0.19044111  0.062069154  0.121750528\n",
       "CholCheck            <U+22EF> 0.05826000   0.04230765 -0.008365598  0.031774808\n",
       "BMI                  <U+22EF> 0.05820629   0.20044778  0.085310159  0.121141107\n",
       "Smoker               <U+22EF> 0.04895000   0.14513867  0.092196474  0.116459714\n",
       "Stroke               <U+22EF> 0.03480000   0.14940699  0.070171812  0.148944169\n",
       "HeartDiseaseorAttack <U+22EF> 0.03100000   0.22111285  0.064621292  0.181697536\n",
       "PhysActivity         <U+22EF> 0.06164000  -0.23388958 -0.125587088 -0.219229522\n",
       "Fruits               <U+22EF> 0.04424000  -0.09627343 -0.068217375 -0.044633325\n",
       "Veggies              <U+22EF> 0.03223000  -0.11185121 -0.058883553 -0.064290327\n",
       "HvyAlcoholConsump    <U+22EF> 0.00468400  -0.03215364  0.024715803 -0.026415474\n",
       "AnyHealthcare        <U+22EF> 0.23250000  -0.03799168 -0.052706597 -0.008276167\n",
       "NoDocbcCost          <U+22EF> 1.00000000   0.14381687  0.192106853  0.148997564\n",
       "GenHlth              <U+22EF> 0.00000000   1.00000000  0.204673302  0.390358148\n",
       "MentHlth             <U+22EF> 0.00000000   0.00000000  1.000000000  0.353618868\n",
       "PhysHlth             <U+22EF> 0.00000000   0.00000000  0.000000000  1.000000000\n",
       "DiffWalk             <U+22EF> 0.00000000   0.00000000  0.000000000  0.000000000\n",
       "Sex                  <U+22EF> 0.00000000   0.00000000  0.000000000  0.000000000\n",
       "Age                  <U+22EF> 0.00000000   0.00000000  0.000000000  0.000000000\n",
       "Education            <U+22EF> 0.00000000   0.00000000  0.000000000  0.000000000\n",
       "Income               <U+22EF> 0.00000000   0.00000000  0.000000000  0.000000000\n",
       "Diabetes_binary      <U+22EF> 0.00000000   0.00000000  0.000000000  0.000000000\n",
       "                     DiffWalk  Sex          Age          Education   \n",
       "HighBP               0.2236000  0.052210000  0.293883910 -0.132261074\n",
       "HighChol             0.1447000  0.031210000  0.227197645 -0.064141477\n",
       "CholCheck            0.0405900  0.022120000  0.079782773  0.003605023\n",
       "BMI                  0.1970778  0.042950303 -0.018682591 -0.096272782\n",
       "Smoker               0.1225000  0.093660000  0.101764840 -0.161695760\n",
       "Stroke               0.1766000  0.002978000  0.110086876 -0.067979132\n",
       "HeartDiseaseorAttack 0.2127000  0.086100000  0.194173045 -0.089351076\n",
       "PhysActivity         0.2532000  0.032480000 -0.075105057  0.186553009\n",
       "Fruits               0.0483500  0.091170000  0.057094063  0.107068517\n",
       "Veggies              0.0805100  0.064770000 -0.009572817  0.144059557\n",
       "HvyAlcoholConsump    0.0376700  0.005740000 -0.029965414  0.019798809\n",
       "AnyHealthcare        0.0070740  0.019410000  0.119625441  0.106998261\n",
       "NoDocbcCost          0.1184000  0.044930000 -0.107532972 -0.091225522\n",
       "GenHlth              0.3859114 -0.003228014  0.114303133 -0.236224080\n",
       "MentHlth             0.2336881 -0.080704863 -0.129731426 -0.047084111\n",
       "PhysHlth             0.4784166 -0.043136502  0.040949992 -0.098650266\n",
       "DiffWalk             1.0000000  0.070300000  0.171554443 -0.174726539\n",
       "Sex                  0.0000000  1.000000000 -0.020657202  0.022554582\n",
       "Age                  0.0000000  0.000000000  1.000000000 -0.080601809\n",
       "Education            0.0000000  0.000000000  0.000000000  1.000000000\n",
       "Income               0.0000000  0.000000000  0.000000000  0.000000000\n",
       "Diabetes_binary      0.0000000  0.000000000  0.000000000  0.000000000\n",
       "                     Income      Diabetes_binary\n",
       "HighBP               -0.15907727  0.26310000    \n",
       "HighChol             -0.07805095  0.20030000    \n",
       "CholCheck             0.01355233  0.06476000    \n",
       "BMI                  -0.06913474  0.21684306    \n",
       "Smoker               -0.11779172  0.06079000    \n",
       "Stroke               -0.10985834  0.10580000    \n",
       "HeartDiseaseorAttack -0.12562478  0.17730000    \n",
       "PhysActivity          0.17937530  0.11810000    \n",
       "Fruits                0.06784869  0.04078000    \n",
       "Veggies               0.13262035  0.05658000    \n",
       "HvyAlcoholConsump     0.04913834  0.05706000    \n",
       "AnyHealthcare         0.13766158  0.01626000    \n",
       "NoDocbcCost          -0.17468003  0.03143000    \n",
       "GenHlth              -0.29196523  0.26260195    \n",
       "MentHlth             -0.12043742  0.06931508    \n",
       "PhysHlth             -0.17883737  0.17133670    \n",
       "DiffWalk             -0.26966510  0.21830000    \n",
       "Sex                   0.11277129  0.03143000    \n",
       "Age                  -0.13460542  0.15156257    \n",
       "Education             0.38077195 -0.11182832    \n",
       "Income                1.00000000 -0.14499818    \n",
       "Diabetes_binary       0.00000000  1.00000000    "
      ]
     },
     "metadata": {},
     "output_type": "display_data"
    }
   ],
   "source": [
    "correlation_matrix"
   ]
  },
  {
   "cell_type": "code",
   "execution_count": 308,
   "id": "b92b7304-2ce6-4b28-95bd-7efea245439a",
   "metadata": {
    "colab": {
     "base_uri": "https://localhost:8080/",
     "height": 437
    },
    "executionInfo": {
     "elapsed": 52,
     "status": "ok",
     "timestamp": 1715182390437,
     "user": {
      "displayName": "Minh hiếu Phạm",
      "userId": "13621231777531886646"
     },
     "user_tz": -420
    },
    "id": "b92b7304-2ce6-4b28-95bd-7efea245439a",
    "outputId": "16490f43-f662-4820-80b8-1a02388ae4cf"
   },
   "outputs": [
    {
     "data": {
      "image/png": "[encoded data removed]",
      "text/plain": [
       "Plot with title \"\""
      ]
     },
     "metadata": {
      "image/png": {
       "height": 420,
       "width": 420
      }
     },
     "output_type": "display_data"
    }
   ],
   "source": [
    "corrplot::corrplot(correlation_matrix, method=\"circle\", type=\"upper\")"
   ]
  },
  {
   "cell_type": "markdown",
   "id": "b7eebc47-e0cc-457d-a9fe-b4e83ac4db13",
   "metadata": {
    "id": "b7eebc47-e0cc-457d-a9fe-b4e83ac4db13"
   },
   "source": [
    "## 4. Model building"
   ]
  },
  {
   "cell_type": "code",
   "execution_count": 309,
   "id": "f4cfd26d-2d3e-4a24-9575-044967c6dc64",
   "metadata": {},
   "outputs": [
    {
     "name": "stdout",
     "output_type": "stream",
     "text": [
      "'data.frame':\t253680 obs. of  22 variables:\n",
      " $ HighBP              : Factor w/ 2 levels \"0\",\"1\": 2 1 2 2 2 2 2 2 2 1 ...\n",
      " $ HighChol            : Factor w/ 2 levels \"0\",\"1\": 2 1 2 1 2 2 1 2 2 1 ...\n",
      " $ CholCheck           : Factor w/ 2 levels \"0\",\"1\": 2 1 2 2 2 2 2 2 2 2 ...\n",
      " $ BMI                 : int  40 25 28 27 24 25 30 25 30 24 ...\n",
      " $ Smoker              : Factor w/ 2 levels \"0\",\"1\": 2 2 1 1 1 2 2 2 2 1 ...\n",
      " $ Stroke              : Factor w/ 2 levels \"0\",\"1\": 1 1 1 1 1 1 1 1 1 1 ...\n",
      " $ HeartDiseaseorAttack: Factor w/ 2 levels \"0\",\"1\": 1 1 1 1 1 1 1 1 2 1 ...\n",
      " $ PhysActivity        : Factor w/ 2 levels \"0\",\"1\": 1 2 1 2 2 2 1 2 1 1 ...\n",
      " $ Fruits              : Factor w/ 2 levels \"0\",\"1\": 1 1 2 2 2 2 1 1 2 1 ...\n",
      " $ Veggies             : Factor w/ 2 levels \"0\",\"1\": 2 1 1 2 2 2 1 2 2 2 ...\n",
      " $ HvyAlcoholConsump   : Factor w/ 2 levels \"0\",\"1\": 1 1 1 1 1 1 1 1 1 1 ...\n",
      " $ AnyHealthcare       : Factor w/ 2 levels \"0\",\"1\": 2 1 2 2 2 2 2 2 2 2 ...\n",
      " $ NoDocbcCost         : Factor w/ 2 levels \"0\",\"1\": 1 2 2 1 1 1 1 1 1 1 ...\n",
      " $ GenHlth             : Ord.factor w/ 5 levels \"1\"<\"2\"<\"3\"<\"4\"<..: 5 3 5 2 2 2 3 3 5 2 ...\n",
      " $ MentHlth            : int  18 0 30 0 3 0 0 0 30 0 ...\n",
      " $ PhysHlth            : int  15 0 30 0 0 2 14 0 30 0 ...\n",
      " $ DiffWalk            : Factor w/ 2 levels \"0\",\"1\": 2 1 2 1 1 1 1 2 2 1 ...\n",
      " $ Sex                 : Factor w/ 2 levels \"0\",\"1\": 1 1 1 1 1 2 1 1 1 2 ...\n",
      " $ Age                 : Ord.factor w/ 13 levels \"1\"<\"2\"<\"3\"<\"4\"<..: 9 7 9 11 11 10 9 11 9 8 ...\n",
      " $ Education           : Ord.factor w/ 6 levels \"1\"<\"2\"<\"3\"<\"4\"<..: 4 6 4 3 5 6 6 4 5 4 ...\n",
      " $ Income              : Ord.factor w/ 8 levels \"1\"<\"2\"<\"3\"<\"4\"<..: 3 1 8 6 4 8 7 4 1 3 ...\n",
      " $ Diabetes_binary     : Factor w/ 2 levels \"0\",\"1\": 1 1 1 1 1 1 1 1 2 1 ...\n"
     ]
    }
   ],
   "source": [
    "str(factorized_df)"
   ]
  },
  {
   "cell_type": "markdown",
   "id": "ceb31c4d-1bf5-4c2b-b3b4-9f7f36d5ccc7",
   "metadata": {
    "id": "ceb31c4d-1bf5-4c2b-b3b4-9f7f36d5ccc7"
   },
   "source": [
    "### 4.1. Split into training dataset and testing dataset"
   ]
  },
  {
   "cell_type": "code",
   "execution_count": 328,
   "id": "cdb47d13-4767-414e-9131-a3283dcc4e2f",
   "metadata": {
    "colab": {
     "base_uri": "https://localhost:8080/",
     "height": 86
    },
    "executionInfo": {
     "elapsed": 385,
     "status": "ok",
     "timestamp": 1715182360195,
     "user": {
      "displayName": "Minh hiếu Phạm",
      "userId": "13621231777531886646"
     },
     "user_tz": -420
    },
    "id": "cdb47d13-4767-414e-9131-a3283dcc4e2f",
    "outputId": "40db30dc-3cb9-4f8f-ed28-2a9ef3c3b3b4"
   },
   "outputs": [
    {
     "data": {
      "text/html": [
       "202945"
      ],
      "text/latex": [
       "202945"
      ],
      "text/markdown": [
       "202945"
      ],
      "text/plain": [
       "[1] 202945"
      ]
     },
     "metadata": {},
     "output_type": "display_data"
    },
    {
     "data": {
      "text/html": [
       "50735"
      ],
      "text/latex": [
       "50735"
      ],
      "text/markdown": [
       "50735"
      ],
      "text/plain": [
       "[1] 50735"
      ]
     },
     "metadata": {},
     "output_type": "display_data"
    },
    {
     "data": {
      "text/html": [
       "0.139333316908522"
      ],
      "text/latex": [
       "0.139333316908522"
      ],
      "text/markdown": [
       "0.139333316908522"
      ],
      "text/plain": [
       "[1] 0.1393333"
      ]
     },
     "metadata": {},
     "output_type": "display_data"
    },
    {
     "data": {
      "text/html": [
       "0.139331822213462"
      ],
      "text/latex": [
       "0.139331822213462"
      ],
      "text/markdown": [
       "0.139331822213462"
      ],
      "text/plain": [
       "[1] 0.1393318"
      ]
     },
     "metadata": {},
     "output_type": "display_data"
    }
   ],
   "source": [
    "index = caret::createDataPartition(factorized_df$Diabetes_binary, p = 0.8, list = FALSE)\n",
    "training_df = factorized_df[index, ]\n",
    "testing_df = factorized_df[-index, ]\n",
    "\n",
    "nrow(training_df)\n",
    "nrow(testing_df)\n",
    "nrow(training_df[training_df$Diabetes_binary == 1, ]) / nrow(training_df)\n",
    "nrow(testing_df[testing_df$Diabetes_binary == 1, ]) / nrow(testing_df)"
   ]
  },
  {
   "cell_type": "code",
   "execution_count": 329,
   "id": "f5cf7844-220b-4eac-a3bf-ae895c457875",
   "metadata": {},
   "outputs": [
    {
     "data": {
      "text/html": [
       "<table class=\"dataframe\">\n",
       "<caption>A data.frame: 202945 × 22</caption>\n",
       "<thead>\n",
       "\t<tr><th></th><th scope=col>HighBP</th><th scope=col>HighChol</th><th scope=col>CholCheck</th><th scope=col>BMI</th><th scope=col>Smoker</th><th scope=col>Stroke</th><th scope=col>HeartDiseaseorAttack</th><th scope=col>PhysActivity</th><th scope=col>Fruits</th><th scope=col>Veggies</th><th scope=col>⋯</th><th scope=col>NoDocbcCost</th><th scope=col>GenHlth</th><th scope=col>MentHlth</th><th scope=col>PhysHlth</th><th scope=col>DiffWalk</th><th scope=col>Sex</th><th scope=col>Age</th><th scope=col>Education</th><th scope=col>Income</th><th scope=col>Diabetes_binary</th></tr>\n",
       "\t<tr><th></th><th scope=col>&lt;fct&gt;</th><th scope=col>&lt;fct&gt;</th><th scope=col>&lt;fct&gt;</th><th scope=col>&lt;int&gt;</th><th scope=col>&lt;fct&gt;</th><th scope=col>&lt;fct&gt;</th><th scope=col>&lt;fct&gt;</th><th scope=col>&lt;fct&gt;</th><th scope=col>&lt;fct&gt;</th><th scope=col>&lt;fct&gt;</th><th scope=col>⋯</th><th scope=col>&lt;fct&gt;</th><th scope=col>&lt;ord&gt;</th><th scope=col>&lt;int&gt;</th><th scope=col>&lt;int&gt;</th><th scope=col>&lt;fct&gt;</th><th scope=col>&lt;fct&gt;</th><th scope=col>&lt;ord&gt;</th><th scope=col>&lt;ord&gt;</th><th scope=col>&lt;ord&gt;</th><th scope=col>&lt;fct&gt;</th></tr>\n",
       "</thead>\n",
       "<tbody>\n",
       "\t<tr><th scope=row>1</th><td>1</td><td>1</td><td>1</td><td>40</td><td>1</td><td>0</td><td>0</td><td>0</td><td>0</td><td>1</td><td>⋯</td><td>0</td><td>5</td><td>18</td><td>15</td><td>1</td><td>0</td><td>9 </td><td>4</td><td>3</td><td>0</td></tr>\n",
       "\t<tr><th scope=row>2</th><td>0</td><td>0</td><td>0</td><td>25</td><td>1</td><td>0</td><td>0</td><td>1</td><td>0</td><td>0</td><td>⋯</td><td>1</td><td>3</td><td> 0</td><td> 0</td><td>0</td><td>0</td><td>7 </td><td>6</td><td>1</td><td>0</td></tr>\n",
       "\t<tr><th scope=row>3</th><td>1</td><td>1</td><td>1</td><td>28</td><td>0</td><td>0</td><td>0</td><td>0</td><td>1</td><td>0</td><td>⋯</td><td>1</td><td>5</td><td>30</td><td>30</td><td>1</td><td>0</td><td>9 </td><td>4</td><td>8</td><td>0</td></tr>\n",
       "\t<tr><th scope=row>4</th><td>1</td><td>0</td><td>1</td><td>27</td><td>0</td><td>0</td><td>0</td><td>1</td><td>1</td><td>1</td><td>⋯</td><td>0</td><td>2</td><td> 0</td><td> 0</td><td>0</td><td>0</td><td>11</td><td>3</td><td>6</td><td>0</td></tr>\n",
       "\t<tr><th scope=row>5</th><td>1</td><td>1</td><td>1</td><td>24</td><td>0</td><td>0</td><td>0</td><td>1</td><td>1</td><td>1</td><td>⋯</td><td>0</td><td>2</td><td> 3</td><td> 0</td><td>0</td><td>0</td><td>11</td><td>5</td><td>4</td><td>0</td></tr>\n",
       "\t<tr><th scope=row>6</th><td>1</td><td>1</td><td>1</td><td>25</td><td>1</td><td>0</td><td>0</td><td>1</td><td>1</td><td>1</td><td>⋯</td><td>0</td><td>2</td><td> 0</td><td> 2</td><td>0</td><td>1</td><td>10</td><td>6</td><td>8</td><td>0</td></tr>\n",
       "\t<tr><th scope=row>7</th><td>1</td><td>0</td><td>1</td><td>30</td><td>1</td><td>0</td><td>0</td><td>0</td><td>0</td><td>0</td><td>⋯</td><td>0</td><td>3</td><td> 0</td><td>14</td><td>0</td><td>0</td><td>9 </td><td>6</td><td>7</td><td>0</td></tr>\n",
       "\t<tr><th scope=row>8</th><td>1</td><td>1</td><td>1</td><td>25</td><td>1</td><td>0</td><td>0</td><td>1</td><td>0</td><td>1</td><td>⋯</td><td>0</td><td>3</td><td> 0</td><td> 0</td><td>1</td><td>0</td><td>11</td><td>4</td><td>4</td><td>0</td></tr>\n",
       "\t<tr><th scope=row>9</th><td>1</td><td>1</td><td>1</td><td>30</td><td>1</td><td>0</td><td>1</td><td>0</td><td>1</td><td>1</td><td>⋯</td><td>0</td><td>5</td><td>30</td><td>30</td><td>1</td><td>0</td><td>9 </td><td>5</td><td>1</td><td>1</td></tr>\n",
       "\t<tr><th scope=row>10</th><td>0</td><td>0</td><td>1</td><td>24</td><td>0</td><td>0</td><td>0</td><td>0</td><td>0</td><td>1</td><td>⋯</td><td>0</td><td>2</td><td> 0</td><td> 0</td><td>0</td><td>1</td><td>8 </td><td>4</td><td>3</td><td>0</td></tr>\n",
       "\t<tr><th scope=row>11</th><td>0</td><td>0</td><td>1</td><td>25</td><td>1</td><td>0</td><td>0</td><td>1</td><td>1</td><td>1</td><td>⋯</td><td>0</td><td>3</td><td> 0</td><td> 0</td><td>0</td><td>1</td><td>13</td><td>6</td><td>8</td><td>1</td></tr>\n",
       "\t<tr><th scope=row>12</th><td>1</td><td>1</td><td>1</td><td>34</td><td>1</td><td>0</td><td>0</td><td>0</td><td>1</td><td>1</td><td>⋯</td><td>0</td><td>3</td><td> 0</td><td>30</td><td>1</td><td>0</td><td>10</td><td>5</td><td>1</td><td>0</td></tr>\n",
       "\t<tr><th scope=row>13</th><td>0</td><td>0</td><td>1</td><td>26</td><td>1</td><td>0</td><td>0</td><td>0</td><td>0</td><td>1</td><td>⋯</td><td>0</td><td>3</td><td> 0</td><td>15</td><td>0</td><td>0</td><td>7 </td><td>5</td><td>7</td><td>0</td></tr>\n",
       "\t<tr><th scope=row>15</th><td>0</td><td>1</td><td>1</td><td>33</td><td>1</td><td>1</td><td>0</td><td>1</td><td>0</td><td>1</td><td>⋯</td><td>1</td><td>4</td><td>30</td><td>28</td><td>0</td><td>0</td><td>4 </td><td>6</td><td>2</td><td>0</td></tr>\n",
       "\t<tr><th scope=row>16</th><td>1</td><td>0</td><td>1</td><td>33</td><td>0</td><td>0</td><td>0</td><td>1</td><td>0</td><td>0</td><td>⋯</td><td>0</td><td>2</td><td> 5</td><td> 0</td><td>0</td><td>0</td><td>6 </td><td>6</td><td>8</td><td>0</td></tr>\n",
       "\t<tr><th scope=row>19</th><td>0</td><td>0</td><td>0</td><td>23</td><td>0</td><td>0</td><td>0</td><td>0</td><td>0</td><td>1</td><td>⋯</td><td>0</td><td>2</td><td>15</td><td> 0</td><td>0</td><td>0</td><td>2 </td><td>6</td><td>7</td><td>0</td></tr>\n",
       "\t<tr><th scope=row>20</th><td>0</td><td>1</td><td>1</td><td>28</td><td>0</td><td>0</td><td>0</td><td>0</td><td>0</td><td>0</td><td>⋯</td><td>0</td><td>2</td><td>10</td><td> 0</td><td>0</td><td>1</td><td>4 </td><td>6</td><td>8</td><td>0</td></tr>\n",
       "\t<tr><th scope=row>21</th><td>1</td><td>1</td><td>1</td><td>22</td><td>0</td><td>1</td><td>1</td><td>0</td><td>1</td><td>0</td><td>⋯</td><td>0</td><td>3</td><td>30</td><td> 0</td><td>1</td><td>0</td><td>12</td><td>4</td><td>4</td><td>0</td></tr>\n",
       "\t<tr><th scope=row>22</th><td>1</td><td>1</td><td>1</td><td>38</td><td>1</td><td>0</td><td>0</td><td>0</td><td>1</td><td>1</td><td>⋯</td><td>0</td><td>5</td><td>15</td><td>30</td><td>1</td><td>0</td><td>13</td><td>2</td><td>3</td><td>0</td></tr>\n",
       "\t<tr><th scope=row>24</th><td>1</td><td>0</td><td>1</td><td>27</td><td>0</td><td>0</td><td>0</td><td>1</td><td>1</td><td>1</td><td>⋯</td><td>0</td><td>1</td><td> 0</td><td> 0</td><td>0</td><td>0</td><td>13</td><td>5</td><td>4</td><td>1</td></tr>\n",
       "\t<tr><th scope=row>25</th><td>1</td><td>1</td><td>1</td><td>28</td><td>1</td><td>0</td><td>0</td><td>0</td><td>1</td><td>1</td><td>⋯</td><td>0</td><td>3</td><td> 6</td><td> 0</td><td>1</td><td>0</td><td>9 </td><td>4</td><td>6</td><td>0</td></tr>\n",
       "\t<tr><th scope=row>26</th><td>0</td><td>0</td><td>1</td><td>32</td><td>0</td><td>0</td><td>0</td><td>1</td><td>1</td><td>1</td><td>⋯</td><td>0</td><td>2</td><td> 0</td><td> 0</td><td>0</td><td>0</td><td>5 </td><td>6</td><td>8</td><td>0</td></tr>\n",
       "\t<tr><th scope=row>28</th><td>1</td><td>1</td><td>1</td><td>28</td><td>1</td><td>0</td><td>1</td><td>0</td><td>0</td><td>1</td><td>⋯</td><td>0</td><td>4</td><td> 0</td><td> 0</td><td>0</td><td>1</td><td>12</td><td>2</td><td>4</td><td>1</td></tr>\n",
       "\t<tr><th scope=row>29</th><td>1</td><td>1</td><td>1</td><td>27</td><td>1</td><td>0</td><td>0</td><td>0</td><td>1</td><td>1</td><td>⋯</td><td>0</td><td>4</td><td>20</td><td>20</td><td>1</td><td>0</td><td>8 </td><td>4</td><td>7</td><td>1</td></tr>\n",
       "\t<tr><th scope=row>30</th><td>0</td><td>1</td><td>1</td><td>31</td><td>1</td><td>0</td><td>0</td><td>1</td><td>1</td><td>1</td><td>⋯</td><td>0</td><td>1</td><td> 0</td><td> 0</td><td>0</td><td>1</td><td>12</td><td>6</td><td>8</td><td>0</td></tr>\n",
       "\t<tr><th scope=row>31</th><td>1</td><td>1</td><td>1</td><td>34</td><td>1</td><td>1</td><td>0</td><td>1</td><td>0</td><td>0</td><td>⋯</td><td>0</td><td>4</td><td> 0</td><td> 7</td><td>1</td><td>0</td><td>9 </td><td>5</td><td>4</td><td>1</td></tr>\n",
       "\t<tr><th scope=row>32</th><td>1</td><td>0</td><td>1</td><td>33</td><td>1</td><td>0</td><td>0</td><td>1</td><td>1</td><td>1</td><td>⋯</td><td>0</td><td>1</td><td> 0</td><td> 0</td><td>1</td><td>1</td><td>13</td><td>3</td><td>3</td><td>0</td></tr>\n",
       "\t<tr><th scope=row>33</th><td>0</td><td>0</td><td>1</td><td>23</td><td>0</td><td>0</td><td>0</td><td>1</td><td>1</td><td>1</td><td>⋯</td><td>0</td><td>1</td><td> 2</td><td> 0</td><td>0</td><td>0</td><td>6 </td><td>4</td><td>8</td><td>0</td></tr>\n",
       "\t<tr><th scope=row>34</th><td>1</td><td>0</td><td>1</td><td>31</td><td>0</td><td>0</td><td>0</td><td>1</td><td>0</td><td>0</td><td>⋯</td><td>0</td><td>3</td><td> 0</td><td> 0</td><td>0</td><td>1</td><td>11</td><td>6</td><td>2</td><td>0</td></tr>\n",
       "\t<tr><th scope=row>35</th><td>1</td><td>1</td><td>1</td><td>24</td><td>1</td><td>0</td><td>0</td><td>0</td><td>0</td><td>0</td><td>⋯</td><td>0</td><td>2</td><td> 0</td><td> 0</td><td>0</td><td>0</td><td>12</td><td>3</td><td>3</td><td>1</td></tr>\n",
       "\t<tr><th scope=row>⋮</th><td>⋮</td><td>⋮</td><td>⋮</td><td>⋮</td><td>⋮</td><td>⋮</td><td>⋮</td><td>⋮</td><td>⋮</td><td>⋮</td><td>⋱</td><td>⋮</td><td>⋮</td><td>⋮</td><td>⋮</td><td>⋮</td><td>⋮</td><td>⋮</td><td>⋮</td><td>⋮</td><td>⋮</td></tr>\n",
       "\t<tr><th scope=row>253645</th><td>0</td><td>0</td><td>1</td><td>30</td><td>0</td><td>0</td><td>0</td><td>0</td><td>0</td><td>0</td><td>⋯</td><td>0</td><td>2</td><td> 0</td><td> 0</td><td>0</td><td>0</td><td>7 </td><td>3</td><td>1</td><td>0</td></tr>\n",
       "\t<tr><th scope=row>253646</th><td>1</td><td>0</td><td>1</td><td>35</td><td>0</td><td>0</td><td>1</td><td>0</td><td>0</td><td>1</td><td>⋯</td><td>0</td><td>4</td><td> 0</td><td> 0</td><td>0</td><td>1</td><td>3 </td><td>2</td><td>1</td><td>0</td></tr>\n",
       "\t<tr><th scope=row>253647</th><td>0</td><td>0</td><td>1</td><td>35</td><td>0</td><td>0</td><td>0</td><td>0</td><td>1</td><td>1</td><td>⋯</td><td>0</td><td>3</td><td> 4</td><td> 0</td><td>0</td><td>0</td><td>2 </td><td>4</td><td>1</td><td>0</td></tr>\n",
       "\t<tr><th scope=row>253648</th><td>0</td><td>0</td><td>1</td><td>24</td><td>0</td><td>0</td><td>0</td><td>0</td><td>0</td><td>1</td><td>⋯</td><td>0</td><td>3</td><td> 0</td><td> 0</td><td>0</td><td>1</td><td>13</td><td>3</td><td>2</td><td>0</td></tr>\n",
       "\t<tr><th scope=row>253650</th><td>0</td><td>1</td><td>1</td><td>27</td><td>0</td><td>0</td><td>0</td><td>0</td><td>0</td><td>0</td><td>⋯</td><td>0</td><td>2</td><td>30</td><td> 5</td><td>0</td><td>0</td><td>4 </td><td>6</td><td>5</td><td>0</td></tr>\n",
       "\t<tr><th scope=row>253651</th><td>1</td><td>0</td><td>1</td><td>27</td><td>0</td><td>0</td><td>0</td><td>1</td><td>0</td><td>0</td><td>⋯</td><td>0</td><td>4</td><td> 0</td><td> 0</td><td>0</td><td>0</td><td>5 </td><td>4</td><td>2</td><td>0</td></tr>\n",
       "\t<tr><th scope=row>253652</th><td>0</td><td>0</td><td>1</td><td>24</td><td>0</td><td>0</td><td>0</td><td>1</td><td>1</td><td>1</td><td>⋯</td><td>1</td><td>1</td><td> 0</td><td> 0</td><td>0</td><td>1</td><td>2 </td><td>6</td><td>3</td><td>0</td></tr>\n",
       "\t<tr><th scope=row>253653</th><td>0</td><td>1</td><td>1</td><td>27</td><td>0</td><td>0</td><td>0</td><td>1</td><td>1</td><td>0</td><td>⋯</td><td>0</td><td>4</td><td> 0</td><td>30</td><td>0</td><td>1</td><td>11</td><td>2</td><td>3</td><td>1</td></tr>\n",
       "\t<tr><th scope=row>253654</th><td>0</td><td>0</td><td>1</td><td>33</td><td>1</td><td>0</td><td>0</td><td>0</td><td>1</td><td>1</td><td>⋯</td><td>0</td><td>4</td><td> 0</td><td>15</td><td>0</td><td>1</td><td>10</td><td>6</td><td>3</td><td>0</td></tr>\n",
       "\t<tr><th scope=row>253655</th><td>0</td><td>0</td><td>1</td><td>26</td><td>1</td><td>0</td><td>0</td><td>1</td><td>1</td><td>1</td><td>⋯</td><td>0</td><td>2</td><td> 1</td><td> 0</td><td>0</td><td>1</td><td>3 </td><td>3</td><td>1</td><td>0</td></tr>\n",
       "\t<tr><th scope=row>253657</th><td>0</td><td>0</td><td>1</td><td>25</td><td>0</td><td>0</td><td>0</td><td>1</td><td>1</td><td>1</td><td>⋯</td><td>0</td><td>1</td><td> 0</td><td> 0</td><td>0</td><td>0</td><td>4 </td><td>6</td><td>8</td><td>0</td></tr>\n",
       "\t<tr><th scope=row>253658</th><td>0</td><td>1</td><td>1</td><td>24</td><td>0</td><td>0</td><td>0</td><td>0</td><td>0</td><td>1</td><td>⋯</td><td>0</td><td>3</td><td> 0</td><td> 0</td><td>0</td><td>0</td><td>7 </td><td>5</td><td>3</td><td>0</td></tr>\n",
       "\t<tr><th scope=row>253659</th><td>0</td><td>0</td><td>0</td><td>27</td><td>0</td><td>0</td><td>0</td><td>1</td><td>0</td><td>0</td><td>⋯</td><td>1</td><td>2</td><td> 0</td><td> 0</td><td>0</td><td>0</td><td>3 </td><td>6</td><td>5</td><td>0</td></tr>\n",
       "\t<tr><th scope=row>253660</th><td>0</td><td>1</td><td>1</td><td>37</td><td>0</td><td>0</td><td>0</td><td>0</td><td>0</td><td>1</td><td>⋯</td><td>0</td><td>4</td><td> 0</td><td> 0</td><td>0</td><td>0</td><td>6 </td><td>4</td><td>1</td><td>1</td></tr>\n",
       "\t<tr><th scope=row>253661</th><td>0</td><td>1</td><td>1</td><td>34</td><td>1</td><td>0</td><td>0</td><td>0</td><td>1</td><td>1</td><td>⋯</td><td>0</td><td>3</td><td> 0</td><td> 2</td><td>1</td><td>0</td><td>7 </td><td>4</td><td>3</td><td>0</td></tr>\n",
       "\t<tr><th scope=row>253662</th><td>1</td><td>0</td><td>1</td><td>33</td><td>0</td><td>0</td><td>0</td><td>1</td><td>0</td><td>1</td><td>⋯</td><td>1</td><td>3</td><td> 0</td><td> 2</td><td>1</td><td>0</td><td>6 </td><td>6</td><td>6</td><td>0</td></tr>\n",
       "\t<tr><th scope=row>253665</th><td>0</td><td>1</td><td>1</td><td>29</td><td>1</td><td>0</td><td>0</td><td>0</td><td>0</td><td>0</td><td>⋯</td><td>0</td><td>3</td><td> 0</td><td> 0</td><td>0</td><td>0</td><td>6 </td><td>6</td><td>4</td><td>0</td></tr>\n",
       "\t<tr><th scope=row>253666</th><td>0</td><td>1</td><td>1</td><td>17</td><td>0</td><td>0</td><td>0</td><td>0</td><td>0</td><td>0</td><td>⋯</td><td>1</td><td>4</td><td>30</td><td>30</td><td>0</td><td>0</td><td>5 </td><td>4</td><td>1</td><td>0</td></tr>\n",
       "\t<tr><th scope=row>253667</th><td>1</td><td>0</td><td>1</td><td>23</td><td>0</td><td>0</td><td>0</td><td>0</td><td>1</td><td>1</td><td>⋯</td><td>0</td><td>3</td><td> 0</td><td>15</td><td>0</td><td>0</td><td>6 </td><td>5</td><td>2</td><td>0</td></tr>\n",
       "\t<tr><th scope=row>253668</th><td>1</td><td>1</td><td>1</td><td>28</td><td>1</td><td>0</td><td>0</td><td>0</td><td>0</td><td>1</td><td>⋯</td><td>0</td><td>3</td><td> 0</td><td> 0</td><td>0</td><td>0</td><td>11</td><td>4</td><td>7</td><td>0</td></tr>\n",
       "\t<tr><th scope=row>253669</th><td>0</td><td>1</td><td>1</td><td>29</td><td>1</td><td>0</td><td>1</td><td>0</td><td>1</td><td>1</td><td>⋯</td><td>0</td><td>2</td><td> 0</td><td> 0</td><td>1</td><td>1</td><td>10</td><td>3</td><td>6</td><td>1</td></tr>\n",
       "\t<tr><th scope=row>253670</th><td>0</td><td>1</td><td>1</td><td>27</td><td>0</td><td>0</td><td>0</td><td>0</td><td>0</td><td>1</td><td>⋯</td><td>1</td><td>1</td><td> 0</td><td> 3</td><td>0</td><td>1</td><td>6 </td><td>2</td><td>4</td><td>0</td></tr>\n",
       "\t<tr><th scope=row>253671</th><td>1</td><td>1</td><td>1</td><td>25</td><td>0</td><td>0</td><td>1</td><td>0</td><td>1</td><td>0</td><td>⋯</td><td>0</td><td>5</td><td>15</td><td> 0</td><td>1</td><td>0</td><td>13</td><td>6</td><td>4</td><td>1</td></tr>\n",
       "\t<tr><th scope=row>253672</th><td>1</td><td>1</td><td>1</td><td>23</td><td>0</td><td>1</td><td>1</td><td>0</td><td>0</td><td>0</td><td>⋯</td><td>1</td><td>4</td><td> 0</td><td> 5</td><td>0</td><td>1</td><td>8 </td><td>3</td><td>2</td><td>0</td></tr>\n",
       "\t<tr><th scope=row>253673</th><td>1</td><td>0</td><td>1</td><td>30</td><td>1</td><td>0</td><td>1</td><td>1</td><td>1</td><td>1</td><td>⋯</td><td>0</td><td>3</td><td> 0</td><td> 0</td><td>0</td><td>1</td><td>12</td><td>2</td><td>1</td><td>0</td></tr>\n",
       "\t<tr><th scope=row>253675</th><td>0</td><td>0</td><td>1</td><td>27</td><td>0</td><td>0</td><td>0</td><td>0</td><td>0</td><td>1</td><td>⋯</td><td>0</td><td>1</td><td> 0</td><td> 0</td><td>0</td><td>0</td><td>3 </td><td>6</td><td>5</td><td>0</td></tr>\n",
       "\t<tr><th scope=row>253676</th><td>1</td><td>1</td><td>1</td><td>45</td><td>0</td><td>0</td><td>0</td><td>0</td><td>1</td><td>1</td><td>⋯</td><td>0</td><td>3</td><td> 0</td><td> 5</td><td>0</td><td>1</td><td>5 </td><td>6</td><td>7</td><td>0</td></tr>\n",
       "\t<tr><th scope=row>253678</th><td>0</td><td>0</td><td>1</td><td>28</td><td>0</td><td>0</td><td>0</td><td>1</td><td>1</td><td>0</td><td>⋯</td><td>0</td><td>1</td><td> 0</td><td> 0</td><td>0</td><td>0</td><td>2 </td><td>5</td><td>2</td><td>0</td></tr>\n",
       "\t<tr><th scope=row>253679</th><td>1</td><td>0</td><td>1</td><td>23</td><td>0</td><td>0</td><td>0</td><td>0</td><td>1</td><td>1</td><td>⋯</td><td>0</td><td>3</td><td> 0</td><td> 0</td><td>0</td><td>1</td><td>7 </td><td>5</td><td>1</td><td>0</td></tr>\n",
       "\t<tr><th scope=row>253680</th><td>1</td><td>1</td><td>1</td><td>25</td><td>0</td><td>0</td><td>1</td><td>1</td><td>1</td><td>0</td><td>⋯</td><td>0</td><td>2</td><td> 0</td><td> 0</td><td>0</td><td>0</td><td>9 </td><td>6</td><td>2</td><td>1</td></tr>\n",
       "</tbody>\n",
       "</table>\n"
      ],
      "text/latex": [
       "A data.frame: 202945 × 22\n",
       "\\begin{tabular}{r|lllllllllllllllllllll}\n",
       "  & HighBP & HighChol & CholCheck & BMI & Smoker & Stroke & HeartDiseaseorAttack & PhysActivity & Fruits & Veggies & ⋯ & NoDocbcCost & GenHlth & MentHlth & PhysHlth & DiffWalk & Sex & Age & Education & Income & Diabetes\\_binary\\\\\n",
       "  & <fct> & <fct> & <fct> & <int> & <fct> & <fct> & <fct> & <fct> & <fct> & <fct> & ⋯ & <fct> & <ord> & <int> & <int> & <fct> & <fct> & <ord> & <ord> & <ord> & <fct>\\\\\n",
       "\\hline\n",
       "\t1 & 1 & 1 & 1 & 40 & 1 & 0 & 0 & 0 & 0 & 1 & ⋯ & 0 & 5 & 18 & 15 & 1 & 0 & 9  & 4 & 3 & 0\\\\\n",
       "\t2 & 0 & 0 & 0 & 25 & 1 & 0 & 0 & 1 & 0 & 0 & ⋯ & 1 & 3 &  0 &  0 & 0 & 0 & 7  & 6 & 1 & 0\\\\\n",
       "\t3 & 1 & 1 & 1 & 28 & 0 & 0 & 0 & 0 & 1 & 0 & ⋯ & 1 & 5 & 30 & 30 & 1 & 0 & 9  & 4 & 8 & 0\\\\\n",
       "\t4 & 1 & 0 & 1 & 27 & 0 & 0 & 0 & 1 & 1 & 1 & ⋯ & 0 & 2 &  0 &  0 & 0 & 0 & 11 & 3 & 6 & 0\\\\\n",
       "\t5 & 1 & 1 & 1 & 24 & 0 & 0 & 0 & 1 & 1 & 1 & ⋯ & 0 & 2 &  3 &  0 & 0 & 0 & 11 & 5 & 4 & 0\\\\\n",
       "\t6 & 1 & 1 & 1 & 25 & 1 & 0 & 0 & 1 & 1 & 1 & ⋯ & 0 & 2 &  0 &  2 & 0 & 1 & 10 & 6 & 8 & 0\\\\\n",
       "\t7 & 1 & 0 & 1 & 30 & 1 & 0 & 0 & 0 & 0 & 0 & ⋯ & 0 & 3 &  0 & 14 & 0 & 0 & 9  & 6 & 7 & 0\\\\\n",
       "\t8 & 1 & 1 & 1 & 25 & 1 & 0 & 0 & 1 & 0 & 1 & ⋯ & 0 & 3 &  0 &  0 & 1 & 0 & 11 & 4 & 4 & 0\\\\\n",
       "\t9 & 1 & 1 & 1 & 30 & 1 & 0 & 1 & 0 & 1 & 1 & ⋯ & 0 & 5 & 30 & 30 & 1 & 0 & 9  & 5 & 1 & 1\\\\\n",
       "\t10 & 0 & 0 & 1 & 24 & 0 & 0 & 0 & 0 & 0 & 1 & ⋯ & 0 & 2 &  0 &  0 & 0 & 1 & 8  & 4 & 3 & 0\\\\\n",
       "\t11 & 0 & 0 & 1 & 25 & 1 & 0 & 0 & 1 & 1 & 1 & ⋯ & 0 & 3 &  0 &  0 & 0 & 1 & 13 & 6 & 8 & 1\\\\\n",
       "\t12 & 1 & 1 & 1 & 34 & 1 & 0 & 0 & 0 & 1 & 1 & ⋯ & 0 & 3 &  0 & 30 & 1 & 0 & 10 & 5 & 1 & 0\\\\\n",
       "\t13 & 0 & 0 & 1 & 26 & 1 & 0 & 0 & 0 & 0 & 1 & ⋯ & 0 & 3 &  0 & 15 & 0 & 0 & 7  & 5 & 7 & 0\\\\\n",
       "\t15 & 0 & 1 & 1 & 33 & 1 & 1 & 0 & 1 & 0 & 1 & ⋯ & 1 & 4 & 30 & 28 & 0 & 0 & 4  & 6 & 2 & 0\\\\\n",
       "\t16 & 1 & 0 & 1 & 33 & 0 & 0 & 0 & 1 & 0 & 0 & ⋯ & 0 & 2 &  5 &  0 & 0 & 0 & 6  & 6 & 8 & 0\\\\\n",
       "\t19 & 0 & 0 & 0 & 23 & 0 & 0 & 0 & 0 & 0 & 1 & ⋯ & 0 & 2 & 15 &  0 & 0 & 0 & 2  & 6 & 7 & 0\\\\\n",
       "\t20 & 0 & 1 & 1 & 28 & 0 & 0 & 0 & 0 & 0 & 0 & ⋯ & 0 & 2 & 10 &  0 & 0 & 1 & 4  & 6 & 8 & 0\\\\\n",
       "\t21 & 1 & 1 & 1 & 22 & 0 & 1 & 1 & 0 & 1 & 0 & ⋯ & 0 & 3 & 30 &  0 & 1 & 0 & 12 & 4 & 4 & 0\\\\\n",
       "\t22 & 1 & 1 & 1 & 38 & 1 & 0 & 0 & 0 & 1 & 1 & ⋯ & 0 & 5 & 15 & 30 & 1 & 0 & 13 & 2 & 3 & 0\\\\\n",
       "\t24 & 1 & 0 & 1 & 27 & 0 & 0 & 0 & 1 & 1 & 1 & ⋯ & 0 & 1 &  0 &  0 & 0 & 0 & 13 & 5 & 4 & 1\\\\\n",
       "\t25 & 1 & 1 & 1 & 28 & 1 & 0 & 0 & 0 & 1 & 1 & ⋯ & 0 & 3 &  6 &  0 & 1 & 0 & 9  & 4 & 6 & 0\\\\\n",
       "\t26 & 0 & 0 & 1 & 32 & 0 & 0 & 0 & 1 & 1 & 1 & ⋯ & 0 & 2 &  0 &  0 & 0 & 0 & 5  & 6 & 8 & 0\\\\\n",
       "\t28 & 1 & 1 & 1 & 28 & 1 & 0 & 1 & 0 & 0 & 1 & ⋯ & 0 & 4 &  0 &  0 & 0 & 1 & 12 & 2 & 4 & 1\\\\\n",
       "\t29 & 1 & 1 & 1 & 27 & 1 & 0 & 0 & 0 & 1 & 1 & ⋯ & 0 & 4 & 20 & 20 & 1 & 0 & 8  & 4 & 7 & 1\\\\\n",
       "\t30 & 0 & 1 & 1 & 31 & 1 & 0 & 0 & 1 & 1 & 1 & ⋯ & 0 & 1 &  0 &  0 & 0 & 1 & 12 & 6 & 8 & 0\\\\\n",
       "\t31 & 1 & 1 & 1 & 34 & 1 & 1 & 0 & 1 & 0 & 0 & ⋯ & 0 & 4 &  0 &  7 & 1 & 0 & 9  & 5 & 4 & 1\\\\\n",
       "\t32 & 1 & 0 & 1 & 33 & 1 & 0 & 0 & 1 & 1 & 1 & ⋯ & 0 & 1 &  0 &  0 & 1 & 1 & 13 & 3 & 3 & 0\\\\\n",
       "\t33 & 0 & 0 & 1 & 23 & 0 & 0 & 0 & 1 & 1 & 1 & ⋯ & 0 & 1 &  2 &  0 & 0 & 0 & 6  & 4 & 8 & 0\\\\\n",
       "\t34 & 1 & 0 & 1 & 31 & 0 & 0 & 0 & 1 & 0 & 0 & ⋯ & 0 & 3 &  0 &  0 & 0 & 1 & 11 & 6 & 2 & 0\\\\\n",
       "\t35 & 1 & 1 & 1 & 24 & 1 & 0 & 0 & 0 & 0 & 0 & ⋯ & 0 & 2 &  0 &  0 & 0 & 0 & 12 & 3 & 3 & 1\\\\\n",
       "\t⋮ & ⋮ & ⋮ & ⋮ & ⋮ & ⋮ & ⋮ & ⋮ & ⋮ & ⋮ & ⋮ & ⋱ & ⋮ & ⋮ & ⋮ & ⋮ & ⋮ & ⋮ & ⋮ & ⋮ & ⋮ & ⋮\\\\\n",
       "\t253645 & 0 & 0 & 1 & 30 & 0 & 0 & 0 & 0 & 0 & 0 & ⋯ & 0 & 2 &  0 &  0 & 0 & 0 & 7  & 3 & 1 & 0\\\\\n",
       "\t253646 & 1 & 0 & 1 & 35 & 0 & 0 & 1 & 0 & 0 & 1 & ⋯ & 0 & 4 &  0 &  0 & 0 & 1 & 3  & 2 & 1 & 0\\\\\n",
       "\t253647 & 0 & 0 & 1 & 35 & 0 & 0 & 0 & 0 & 1 & 1 & ⋯ & 0 & 3 &  4 &  0 & 0 & 0 & 2  & 4 & 1 & 0\\\\\n",
       "\t253648 & 0 & 0 & 1 & 24 & 0 & 0 & 0 & 0 & 0 & 1 & ⋯ & 0 & 3 &  0 &  0 & 0 & 1 & 13 & 3 & 2 & 0\\\\\n",
       "\t253650 & 0 & 1 & 1 & 27 & 0 & 0 & 0 & 0 & 0 & 0 & ⋯ & 0 & 2 & 30 &  5 & 0 & 0 & 4  & 6 & 5 & 0\\\\\n",
       "\t253651 & 1 & 0 & 1 & 27 & 0 & 0 & 0 & 1 & 0 & 0 & ⋯ & 0 & 4 &  0 &  0 & 0 & 0 & 5  & 4 & 2 & 0\\\\\n",
       "\t253652 & 0 & 0 & 1 & 24 & 0 & 0 & 0 & 1 & 1 & 1 & ⋯ & 1 & 1 &  0 &  0 & 0 & 1 & 2  & 6 & 3 & 0\\\\\n",
       "\t253653 & 0 & 1 & 1 & 27 & 0 & 0 & 0 & 1 & 1 & 0 & ⋯ & 0 & 4 &  0 & 30 & 0 & 1 & 11 & 2 & 3 & 1\\\\\n",
       "\t253654 & 0 & 0 & 1 & 33 & 1 & 0 & 0 & 0 & 1 & 1 & ⋯ & 0 & 4 &  0 & 15 & 0 & 1 & 10 & 6 & 3 & 0\\\\\n",
       "\t253655 & 0 & 0 & 1 & 26 & 1 & 0 & 0 & 1 & 1 & 1 & ⋯ & 0 & 2 &  1 &  0 & 0 & 1 & 3  & 3 & 1 & 0\\\\\n",
       "\t253657 & 0 & 0 & 1 & 25 & 0 & 0 & 0 & 1 & 1 & 1 & ⋯ & 0 & 1 &  0 &  0 & 0 & 0 & 4  & 6 & 8 & 0\\\\\n",
       "\t253658 & 0 & 1 & 1 & 24 & 0 & 0 & 0 & 0 & 0 & 1 & ⋯ & 0 & 3 &  0 &  0 & 0 & 0 & 7  & 5 & 3 & 0\\\\\n",
       "\t253659 & 0 & 0 & 0 & 27 & 0 & 0 & 0 & 1 & 0 & 0 & ⋯ & 1 & 2 &  0 &  0 & 0 & 0 & 3  & 6 & 5 & 0\\\\\n",
       "\t253660 & 0 & 1 & 1 & 37 & 0 & 0 & 0 & 0 & 0 & 1 & ⋯ & 0 & 4 &  0 &  0 & 0 & 0 & 6  & 4 & 1 & 1\\\\\n",
       "\t253661 & 0 & 1 & 1 & 34 & 1 & 0 & 0 & 0 & 1 & 1 & ⋯ & 0 & 3 &  0 &  2 & 1 & 0 & 7  & 4 & 3 & 0\\\\\n",
       "\t253662 & 1 & 0 & 1 & 33 & 0 & 0 & 0 & 1 & 0 & 1 & ⋯ & 1 & 3 &  0 &  2 & 1 & 0 & 6  & 6 & 6 & 0\\\\\n",
       "\t253665 & 0 & 1 & 1 & 29 & 1 & 0 & 0 & 0 & 0 & 0 & ⋯ & 0 & 3 &  0 &  0 & 0 & 0 & 6  & 6 & 4 & 0\\\\\n",
       "\t253666 & 0 & 1 & 1 & 17 & 0 & 0 & 0 & 0 & 0 & 0 & ⋯ & 1 & 4 & 30 & 30 & 0 & 0 & 5  & 4 & 1 & 0\\\\\n",
       "\t253667 & 1 & 0 & 1 & 23 & 0 & 0 & 0 & 0 & 1 & 1 & ⋯ & 0 & 3 &  0 & 15 & 0 & 0 & 6  & 5 & 2 & 0\\\\\n",
       "\t253668 & 1 & 1 & 1 & 28 & 1 & 0 & 0 & 0 & 0 & 1 & ⋯ & 0 & 3 &  0 &  0 & 0 & 0 & 11 & 4 & 7 & 0\\\\\n",
       "\t253669 & 0 & 1 & 1 & 29 & 1 & 0 & 1 & 0 & 1 & 1 & ⋯ & 0 & 2 &  0 &  0 & 1 & 1 & 10 & 3 & 6 & 1\\\\\n",
       "\t253670 & 0 & 1 & 1 & 27 & 0 & 0 & 0 & 0 & 0 & 1 & ⋯ & 1 & 1 &  0 &  3 & 0 & 1 & 6  & 2 & 4 & 0\\\\\n",
       "\t253671 & 1 & 1 & 1 & 25 & 0 & 0 & 1 & 0 & 1 & 0 & ⋯ & 0 & 5 & 15 &  0 & 1 & 0 & 13 & 6 & 4 & 1\\\\\n",
       "\t253672 & 1 & 1 & 1 & 23 & 0 & 1 & 1 & 0 & 0 & 0 & ⋯ & 1 & 4 &  0 &  5 & 0 & 1 & 8  & 3 & 2 & 0\\\\\n",
       "\t253673 & 1 & 0 & 1 & 30 & 1 & 0 & 1 & 1 & 1 & 1 & ⋯ & 0 & 3 &  0 &  0 & 0 & 1 & 12 & 2 & 1 & 0\\\\\n",
       "\t253675 & 0 & 0 & 1 & 27 & 0 & 0 & 0 & 0 & 0 & 1 & ⋯ & 0 & 1 &  0 &  0 & 0 & 0 & 3  & 6 & 5 & 0\\\\\n",
       "\t253676 & 1 & 1 & 1 & 45 & 0 & 0 & 0 & 0 & 1 & 1 & ⋯ & 0 & 3 &  0 &  5 & 0 & 1 & 5  & 6 & 7 & 0\\\\\n",
       "\t253678 & 0 & 0 & 1 & 28 & 0 & 0 & 0 & 1 & 1 & 0 & ⋯ & 0 & 1 &  0 &  0 & 0 & 0 & 2  & 5 & 2 & 0\\\\\n",
       "\t253679 & 1 & 0 & 1 & 23 & 0 & 0 & 0 & 0 & 1 & 1 & ⋯ & 0 & 3 &  0 &  0 & 0 & 1 & 7  & 5 & 1 & 0\\\\\n",
       "\t253680 & 1 & 1 & 1 & 25 & 0 & 0 & 1 & 1 & 1 & 0 & ⋯ & 0 & 2 &  0 &  0 & 0 & 0 & 9  & 6 & 2 & 1\\\\\n",
       "\\end{tabular}\n"
      ],
      "text/markdown": [
       "\n",
       "A data.frame: 202945 × 22\n",
       "\n",
       "| <!--/--> | HighBP &lt;fct&gt; | HighChol &lt;fct&gt; | CholCheck &lt;fct&gt; | BMI &lt;int&gt; | Smoker &lt;fct&gt; | Stroke &lt;fct&gt; | HeartDiseaseorAttack &lt;fct&gt; | PhysActivity &lt;fct&gt; | Fruits &lt;fct&gt; | Veggies &lt;fct&gt; | ⋯ ⋯ | NoDocbcCost &lt;fct&gt; | GenHlth &lt;ord&gt; | MentHlth &lt;int&gt; | PhysHlth &lt;int&gt; | DiffWalk &lt;fct&gt; | Sex &lt;fct&gt; | Age &lt;ord&gt; | Education &lt;ord&gt; | Income &lt;ord&gt; | Diabetes_binary &lt;fct&gt; |\n",
       "|---|---|---|---|---|---|---|---|---|---|---|---|---|---|---|---|---|---|---|---|---|---|\n",
       "| 1 | 1 | 1 | 1 | 40 | 1 | 0 | 0 | 0 | 0 | 1 | ⋯ | 0 | 5 | 18 | 15 | 1 | 0 | 9  | 4 | 3 | 0 |\n",
       "| 2 | 0 | 0 | 0 | 25 | 1 | 0 | 0 | 1 | 0 | 0 | ⋯ | 1 | 3 |  0 |  0 | 0 | 0 | 7  | 6 | 1 | 0 |\n",
       "| 3 | 1 | 1 | 1 | 28 | 0 | 0 | 0 | 0 | 1 | 0 | ⋯ | 1 | 5 | 30 | 30 | 1 | 0 | 9  | 4 | 8 | 0 |\n",
       "| 4 | 1 | 0 | 1 | 27 | 0 | 0 | 0 | 1 | 1 | 1 | ⋯ | 0 | 2 |  0 |  0 | 0 | 0 | 11 | 3 | 6 | 0 |\n",
       "| 5 | 1 | 1 | 1 | 24 | 0 | 0 | 0 | 1 | 1 | 1 | ⋯ | 0 | 2 |  3 |  0 | 0 | 0 | 11 | 5 | 4 | 0 |\n",
       "| 6 | 1 | 1 | 1 | 25 | 1 | 0 | 0 | 1 | 1 | 1 | ⋯ | 0 | 2 |  0 |  2 | 0 | 1 | 10 | 6 | 8 | 0 |\n",
       "| 7 | 1 | 0 | 1 | 30 | 1 | 0 | 0 | 0 | 0 | 0 | ⋯ | 0 | 3 |  0 | 14 | 0 | 0 | 9  | 6 | 7 | 0 |\n",
       "| 8 | 1 | 1 | 1 | 25 | 1 | 0 | 0 | 1 | 0 | 1 | ⋯ | 0 | 3 |  0 |  0 | 1 | 0 | 11 | 4 | 4 | 0 |\n",
       "| 9 | 1 | 1 | 1 | 30 | 1 | 0 | 1 | 0 | 1 | 1 | ⋯ | 0 | 5 | 30 | 30 | 1 | 0 | 9  | 5 | 1 | 1 |\n",
       "| 10 | 0 | 0 | 1 | 24 | 0 | 0 | 0 | 0 | 0 | 1 | ⋯ | 0 | 2 |  0 |  0 | 0 | 1 | 8  | 4 | 3 | 0 |\n",
       "| 11 | 0 | 0 | 1 | 25 | 1 | 0 | 0 | 1 | 1 | 1 | ⋯ | 0 | 3 |  0 |  0 | 0 | 1 | 13 | 6 | 8 | 1 |\n",
       "| 12 | 1 | 1 | 1 | 34 | 1 | 0 | 0 | 0 | 1 | 1 | ⋯ | 0 | 3 |  0 | 30 | 1 | 0 | 10 | 5 | 1 | 0 |\n",
       "| 13 | 0 | 0 | 1 | 26 | 1 | 0 | 0 | 0 | 0 | 1 | ⋯ | 0 | 3 |  0 | 15 | 0 | 0 | 7  | 5 | 7 | 0 |\n",
       "| 15 | 0 | 1 | 1 | 33 | 1 | 1 | 0 | 1 | 0 | 1 | ⋯ | 1 | 4 | 30 | 28 | 0 | 0 | 4  | 6 | 2 | 0 |\n",
       "| 16 | 1 | 0 | 1 | 33 | 0 | 0 | 0 | 1 | 0 | 0 | ⋯ | 0 | 2 |  5 |  0 | 0 | 0 | 6  | 6 | 8 | 0 |\n",
       "| 19 | 0 | 0 | 0 | 23 | 0 | 0 | 0 | 0 | 0 | 1 | ⋯ | 0 | 2 | 15 |  0 | 0 | 0 | 2  | 6 | 7 | 0 |\n",
       "| 20 | 0 | 1 | 1 | 28 | 0 | 0 | 0 | 0 | 0 | 0 | ⋯ | 0 | 2 | 10 |  0 | 0 | 1 | 4  | 6 | 8 | 0 |\n",
       "| 21 | 1 | 1 | 1 | 22 | 0 | 1 | 1 | 0 | 1 | 0 | ⋯ | 0 | 3 | 30 |  0 | 1 | 0 | 12 | 4 | 4 | 0 |\n",
       "| 22 | 1 | 1 | 1 | 38 | 1 | 0 | 0 | 0 | 1 | 1 | ⋯ | 0 | 5 | 15 | 30 | 1 | 0 | 13 | 2 | 3 | 0 |\n",
       "| 24 | 1 | 0 | 1 | 27 | 0 | 0 | 0 | 1 | 1 | 1 | ⋯ | 0 | 1 |  0 |  0 | 0 | 0 | 13 | 5 | 4 | 1 |\n",
       "| 25 | 1 | 1 | 1 | 28 | 1 | 0 | 0 | 0 | 1 | 1 | ⋯ | 0 | 3 |  6 |  0 | 1 | 0 | 9  | 4 | 6 | 0 |\n",
       "| 26 | 0 | 0 | 1 | 32 | 0 | 0 | 0 | 1 | 1 | 1 | ⋯ | 0 | 2 |  0 |  0 | 0 | 0 | 5  | 6 | 8 | 0 |\n",
       "| 28 | 1 | 1 | 1 | 28 | 1 | 0 | 1 | 0 | 0 | 1 | ⋯ | 0 | 4 |  0 |  0 | 0 | 1 | 12 | 2 | 4 | 1 |\n",
       "| 29 | 1 | 1 | 1 | 27 | 1 | 0 | 0 | 0 | 1 | 1 | ⋯ | 0 | 4 | 20 | 20 | 1 | 0 | 8  | 4 | 7 | 1 |\n",
       "| 30 | 0 | 1 | 1 | 31 | 1 | 0 | 0 | 1 | 1 | 1 | ⋯ | 0 | 1 |  0 |  0 | 0 | 1 | 12 | 6 | 8 | 0 |\n",
       "| 31 | 1 | 1 | 1 | 34 | 1 | 1 | 0 | 1 | 0 | 0 | ⋯ | 0 | 4 |  0 |  7 | 1 | 0 | 9  | 5 | 4 | 1 |\n",
       "| 32 | 1 | 0 | 1 | 33 | 1 | 0 | 0 | 1 | 1 | 1 | ⋯ | 0 | 1 |  0 |  0 | 1 | 1 | 13 | 3 | 3 | 0 |\n",
       "| 33 | 0 | 0 | 1 | 23 | 0 | 0 | 0 | 1 | 1 | 1 | ⋯ | 0 | 1 |  2 |  0 | 0 | 0 | 6  | 4 | 8 | 0 |\n",
       "| 34 | 1 | 0 | 1 | 31 | 0 | 0 | 0 | 1 | 0 | 0 | ⋯ | 0 | 3 |  0 |  0 | 0 | 1 | 11 | 6 | 2 | 0 |\n",
       "| 35 | 1 | 1 | 1 | 24 | 1 | 0 | 0 | 0 | 0 | 0 | ⋯ | 0 | 2 |  0 |  0 | 0 | 0 | 12 | 3 | 3 | 1 |\n",
       "| ⋮ | ⋮ | ⋮ | ⋮ | ⋮ | ⋮ | ⋮ | ⋮ | ⋮ | ⋮ | ⋮ | ⋱ | ⋮ | ⋮ | ⋮ | ⋮ | ⋮ | ⋮ | ⋮ | ⋮ | ⋮ | ⋮ |\n",
       "| 253645 | 0 | 0 | 1 | 30 | 0 | 0 | 0 | 0 | 0 | 0 | ⋯ | 0 | 2 |  0 |  0 | 0 | 0 | 7  | 3 | 1 | 0 |\n",
       "| 253646 | 1 | 0 | 1 | 35 | 0 | 0 | 1 | 0 | 0 | 1 | ⋯ | 0 | 4 |  0 |  0 | 0 | 1 | 3  | 2 | 1 | 0 |\n",
       "| 253647 | 0 | 0 | 1 | 35 | 0 | 0 | 0 | 0 | 1 | 1 | ⋯ | 0 | 3 |  4 |  0 | 0 | 0 | 2  | 4 | 1 | 0 |\n",
       "| 253648 | 0 | 0 | 1 | 24 | 0 | 0 | 0 | 0 | 0 | 1 | ⋯ | 0 | 3 |  0 |  0 | 0 | 1 | 13 | 3 | 2 | 0 |\n",
       "| 253650 | 0 | 1 | 1 | 27 | 0 | 0 | 0 | 0 | 0 | 0 | ⋯ | 0 | 2 | 30 |  5 | 0 | 0 | 4  | 6 | 5 | 0 |\n",
       "| 253651 | 1 | 0 | 1 | 27 | 0 | 0 | 0 | 1 | 0 | 0 | ⋯ | 0 | 4 |  0 |  0 | 0 | 0 | 5  | 4 | 2 | 0 |\n",
       "| 253652 | 0 | 0 | 1 | 24 | 0 | 0 | 0 | 1 | 1 | 1 | ⋯ | 1 | 1 |  0 |  0 | 0 | 1 | 2  | 6 | 3 | 0 |\n",
       "| 253653 | 0 | 1 | 1 | 27 | 0 | 0 | 0 | 1 | 1 | 0 | ⋯ | 0 | 4 |  0 | 30 | 0 | 1 | 11 | 2 | 3 | 1 |\n",
       "| 253654 | 0 | 0 | 1 | 33 | 1 | 0 | 0 | 0 | 1 | 1 | ⋯ | 0 | 4 |  0 | 15 | 0 | 1 | 10 | 6 | 3 | 0 |\n",
       "| 253655 | 0 | 0 | 1 | 26 | 1 | 0 | 0 | 1 | 1 | 1 | ⋯ | 0 | 2 |  1 |  0 | 0 | 1 | 3  | 3 | 1 | 0 |\n",
       "| 253657 | 0 | 0 | 1 | 25 | 0 | 0 | 0 | 1 | 1 | 1 | ⋯ | 0 | 1 |  0 |  0 | 0 | 0 | 4  | 6 | 8 | 0 |\n",
       "| 253658 | 0 | 1 | 1 | 24 | 0 | 0 | 0 | 0 | 0 | 1 | ⋯ | 0 | 3 |  0 |  0 | 0 | 0 | 7  | 5 | 3 | 0 |\n",
       "| 253659 | 0 | 0 | 0 | 27 | 0 | 0 | 0 | 1 | 0 | 0 | ⋯ | 1 | 2 |  0 |  0 | 0 | 0 | 3  | 6 | 5 | 0 |\n",
       "| 253660 | 0 | 1 | 1 | 37 | 0 | 0 | 0 | 0 | 0 | 1 | ⋯ | 0 | 4 |  0 |  0 | 0 | 0 | 6  | 4 | 1 | 1 |\n",
       "| 253661 | 0 | 1 | 1 | 34 | 1 | 0 | 0 | 0 | 1 | 1 | ⋯ | 0 | 3 |  0 |  2 | 1 | 0 | 7  | 4 | 3 | 0 |\n",
       "| 253662 | 1 | 0 | 1 | 33 | 0 | 0 | 0 | 1 | 0 | 1 | ⋯ | 1 | 3 |  0 |  2 | 1 | 0 | 6  | 6 | 6 | 0 |\n",
       "| 253665 | 0 | 1 | 1 | 29 | 1 | 0 | 0 | 0 | 0 | 0 | ⋯ | 0 | 3 |  0 |  0 | 0 | 0 | 6  | 6 | 4 | 0 |\n",
       "| 253666 | 0 | 1 | 1 | 17 | 0 | 0 | 0 | 0 | 0 | 0 | ⋯ | 1 | 4 | 30 | 30 | 0 | 0 | 5  | 4 | 1 | 0 |\n",
       "| 253667 | 1 | 0 | 1 | 23 | 0 | 0 | 0 | 0 | 1 | 1 | ⋯ | 0 | 3 |  0 | 15 | 0 | 0 | 6  | 5 | 2 | 0 |\n",
       "| 253668 | 1 | 1 | 1 | 28 | 1 | 0 | 0 | 0 | 0 | 1 | ⋯ | 0 | 3 |  0 |  0 | 0 | 0 | 11 | 4 | 7 | 0 |\n",
       "| 253669 | 0 | 1 | 1 | 29 | 1 | 0 | 1 | 0 | 1 | 1 | ⋯ | 0 | 2 |  0 |  0 | 1 | 1 | 10 | 3 | 6 | 1 |\n",
       "| 253670 | 0 | 1 | 1 | 27 | 0 | 0 | 0 | 0 | 0 | 1 | ⋯ | 1 | 1 |  0 |  3 | 0 | 1 | 6  | 2 | 4 | 0 |\n",
       "| 253671 | 1 | 1 | 1 | 25 | 0 | 0 | 1 | 0 | 1 | 0 | ⋯ | 0 | 5 | 15 |  0 | 1 | 0 | 13 | 6 | 4 | 1 |\n",
       "| 253672 | 1 | 1 | 1 | 23 | 0 | 1 | 1 | 0 | 0 | 0 | ⋯ | 1 | 4 |  0 |  5 | 0 | 1 | 8  | 3 | 2 | 0 |\n",
       "| 253673 | 1 | 0 | 1 | 30 | 1 | 0 | 1 | 1 | 1 | 1 | ⋯ | 0 | 3 |  0 |  0 | 0 | 1 | 12 | 2 | 1 | 0 |\n",
       "| 253675 | 0 | 0 | 1 | 27 | 0 | 0 | 0 | 0 | 0 | 1 | ⋯ | 0 | 1 |  0 |  0 | 0 | 0 | 3  | 6 | 5 | 0 |\n",
       "| 253676 | 1 | 1 | 1 | 45 | 0 | 0 | 0 | 0 | 1 | 1 | ⋯ | 0 | 3 |  0 |  5 | 0 | 1 | 5  | 6 | 7 | 0 |\n",
       "| 253678 | 0 | 0 | 1 | 28 | 0 | 0 | 0 | 1 | 1 | 0 | ⋯ | 0 | 1 |  0 |  0 | 0 | 0 | 2  | 5 | 2 | 0 |\n",
       "| 253679 | 1 | 0 | 1 | 23 | 0 | 0 | 0 | 0 | 1 | 1 | ⋯ | 0 | 3 |  0 |  0 | 0 | 1 | 7  | 5 | 1 | 0 |\n",
       "| 253680 | 1 | 1 | 1 | 25 | 0 | 0 | 1 | 1 | 1 | 0 | ⋯ | 0 | 2 |  0 |  0 | 0 | 0 | 9  | 6 | 2 | 1 |\n",
       "\n"
      ],
      "text/plain": [
       "       HighBP HighChol CholCheck BMI Smoker Stroke HeartDiseaseorAttack\n",
       "1      1      1        1         40  1      0      0                   \n",
       "2      0      0        0         25  1      0      0                   \n",
       "3      1      1        1         28  0      0      0                   \n",
       "4      1      0        1         27  0      0      0                   \n",
       "5      1      1        1         24  0      0      0                   \n",
       "6      1      1        1         25  1      0      0                   \n",
       "7      1      0        1         30  1      0      0                   \n",
       "8      1      1        1         25  1      0      0                   \n",
       "9      1      1        1         30  1      0      1                   \n",
       "10     0      0        1         24  0      0      0                   \n",
       "11     0      0        1         25  1      0      0                   \n",
       "12     1      1        1         34  1      0      0                   \n",
       "13     0      0        1         26  1      0      0                   \n",
       "15     0      1        1         33  1      1      0                   \n",
       "16     1      0        1         33  0      0      0                   \n",
       "19     0      0        0         23  0      0      0                   \n",
       "20     0      1        1         28  0      0      0                   \n",
       "21     1      1        1         22  0      1      1                   \n",
       "22     1      1        1         38  1      0      0                   \n",
       "24     1      0        1         27  0      0      0                   \n",
       "25     1      1        1         28  1      0      0                   \n",
       "26     0      0        1         32  0      0      0                   \n",
       "28     1      1        1         28  1      0      1                   \n",
       "29     1      1        1         27  1      0      0                   \n",
       "30     0      1        1         31  1      0      0                   \n",
       "31     1      1        1         34  1      1      0                   \n",
       "32     1      0        1         33  1      0      0                   \n",
       "33     0      0        1         23  0      0      0                   \n",
       "34     1      0        1         31  0      0      0                   \n",
       "35     1      1        1         24  1      0      0                   \n",
       "<U+22EE>      <U+22EE> <U+22EE> <U+22EE>  <U+22EE> <U+22EE> <U+22EE> <U+22EE>            \n",
       "253645 0      0        1         30  0      0      0                   \n",
       "253646 1      0        1         35  0      0      1                   \n",
       "253647 0      0        1         35  0      0      0                   \n",
       "253648 0      0        1         24  0      0      0                   \n",
       "253650 0      1        1         27  0      0      0                   \n",
       "253651 1      0        1         27  0      0      0                   \n",
       "253652 0      0        1         24  0      0      0                   \n",
       "253653 0      1        1         27  0      0      0                   \n",
       "253654 0      0        1         33  1      0      0                   \n",
       "253655 0      0        1         26  1      0      0                   \n",
       "253657 0      0        1         25  0      0      0                   \n",
       "253658 0      1        1         24  0      0      0                   \n",
       "253659 0      0        0         27  0      0      0                   \n",
       "253660 0      1        1         37  0      0      0                   \n",
       "253661 0      1        1         34  1      0      0                   \n",
       "253662 1      0        1         33  0      0      0                   \n",
       "253665 0      1        1         29  1      0      0                   \n",
       "253666 0      1        1         17  0      0      0                   \n",
       "253667 1      0        1         23  0      0      0                   \n",
       "253668 1      1        1         28  1      0      0                   \n",
       "253669 0      1        1         29  1      0      1                   \n",
       "253670 0      1        1         27  0      0      0                   \n",
       "253671 1      1        1         25  0      0      1                   \n",
       "253672 1      1        1         23  0      1      1                   \n",
       "253673 1      0        1         30  1      0      1                   \n",
       "253675 0      0        1         27  0      0      0                   \n",
       "253676 1      1        1         45  0      0      0                   \n",
       "253678 0      0        1         28  0      0      0                   \n",
       "253679 1      0        1         23  0      0      0                   \n",
       "253680 1      1        1         25  0      0      1                   \n",
       "       PhysActivity Fruits Veggies <U+22EF>        NoDocbcCost GenHlth MentHlth\n",
       "1      0            0      1       <U+22EF> 0           5       18      \n",
       "2      1            0      0       <U+22EF> 1           3        0      \n",
       "3      0            1      0       <U+22EF> 1           5       30      \n",
       "4      1            1      1       <U+22EF> 0           2        0      \n",
       "5      1            1      1       <U+22EF> 0           2        3      \n",
       "6      1            1      1       <U+22EF> 0           2        0      \n",
       "7      0            0      0       <U+22EF> 0           3        0      \n",
       "8      1            0      1       <U+22EF> 0           3        0      \n",
       "9      0            1      1       <U+22EF> 0           5       30      \n",
       "10     0            0      1       <U+22EF> 0           2        0      \n",
       "11     1            1      1       <U+22EF> 0           3        0      \n",
       "12     0            1      1       <U+22EF> 0           3        0      \n",
       "13     0            0      1       <U+22EF> 0           3        0      \n",
       "15     1            0      1       <U+22EF> 1           4       30      \n",
       "16     1            0      0       <U+22EF> 0           2        5      \n",
       "19     0            0      1       <U+22EF> 0           2       15      \n",
       "20     0            0      0       <U+22EF> 0           2       10      \n",
       "21     0            1      0       <U+22EF> 0           3       30      \n",
       "22     0            1      1       <U+22EF> 0           5       15      \n",
       "24     1            1      1       <U+22EF> 0           1        0      \n",
       "25     0            1      1       <U+22EF> 0           3        6      \n",
       "26     1            1      1       <U+22EF> 0           2        0      \n",
       "28     0            0      1       <U+22EF> 0           4        0      \n",
       "29     0            1      1       <U+22EF> 0           4       20      \n",
       "30     1            1      1       <U+22EF> 0           1        0      \n",
       "31     1            0      0       <U+22EF> 0           4        0      \n",
       "32     1            1      1       <U+22EF> 0           1        0      \n",
       "33     1            1      1       <U+22EF> 0           1        2      \n",
       "34     1            0      0       <U+22EF> 0           3        0      \n",
       "35     0            0      0       <U+22EF> 0           2        0      \n",
       "<U+22EE>      <U+22EE>     <U+22EE> <U+22EE> <U+22F1> <U+22EE>    <U+22EE> <U+22EE>\n",
       "253645 0            0      0       <U+22EF> 0           2        0      \n",
       "253646 0            0      1       <U+22EF> 0           4        0      \n",
       "253647 0            1      1       <U+22EF> 0           3        4      \n",
       "253648 0            0      1       <U+22EF> 0           3        0      \n",
       "253650 0            0      0       <U+22EF> 0           2       30      \n",
       "253651 1            0      0       <U+22EF> 0           4        0      \n",
       "253652 1            1      1       <U+22EF> 1           1        0      \n",
       "253653 1            1      0       <U+22EF> 0           4        0      \n",
       "253654 0            1      1       <U+22EF> 0           4        0      \n",
       "253655 1            1      1       <U+22EF> 0           2        1      \n",
       "253657 1            1      1       <U+22EF> 0           1        0      \n",
       "253658 0            0      1       <U+22EF> 0           3        0      \n",
       "253659 1            0      0       <U+22EF> 1           2        0      \n",
       "253660 0            0      1       <U+22EF> 0           4        0      \n",
       "253661 0            1      1       <U+22EF> 0           3        0      \n",
       "253662 1            0      1       <U+22EF> 1           3        0      \n",
       "253665 0            0      0       <U+22EF> 0           3        0      \n",
       "253666 0            0      0       <U+22EF> 1           4       30      \n",
       "253667 0            1      1       <U+22EF> 0           3        0      \n",
       "253668 0            0      1       <U+22EF> 0           3        0      \n",
       "253669 0            1      1       <U+22EF> 0           2        0      \n",
       "253670 0            0      1       <U+22EF> 1           1        0      \n",
       "253671 0            1      0       <U+22EF> 0           5       15      \n",
       "253672 0            0      0       <U+22EF> 1           4        0      \n",
       "253673 1            1      1       <U+22EF> 0           3        0      \n",
       "253675 0            0      1       <U+22EF> 0           1        0      \n",
       "253676 0            1      1       <U+22EF> 0           3        0      \n",
       "253678 1            1      0       <U+22EF> 0           1        0      \n",
       "253679 0            1      1       <U+22EF> 0           3        0      \n",
       "253680 1            1      0       <U+22EF> 0           2        0      \n",
       "       PhysHlth DiffWalk Sex Age Education Income Diabetes_binary\n",
       "1      15       1        0   9   4         3      0              \n",
       "2       0       0        0   7   6         1      0              \n",
       "3      30       1        0   9   4         8      0              \n",
       "4       0       0        0   11  3         6      0              \n",
       "5       0       0        0   11  5         4      0              \n",
       "6       2       0        1   10  6         8      0              \n",
       "7      14       0        0   9   6         7      0              \n",
       "8       0       1        0   11  4         4      0              \n",
       "9      30       1        0   9   5         1      1              \n",
       "10      0       0        1   8   4         3      0              \n",
       "11      0       0        1   13  6         8      1              \n",
       "12     30       1        0   10  5         1      0              \n",
       "13     15       0        0   7   5         7      0              \n",
       "15     28       0        0   4   6         2      0              \n",
       "16      0       0        0   6   6         8      0              \n",
       "19      0       0        0   2   6         7      0              \n",
       "20      0       0        1   4   6         8      0              \n",
       "21      0       1        0   12  4         4      0              \n",
       "22     30       1        0   13  2         3      0              \n",
       "24      0       0        0   13  5         4      1              \n",
       "25      0       1        0   9   4         6      0              \n",
       "26      0       0        0   5   6         8      0              \n",
       "28      0       0        1   12  2         4      1              \n",
       "29     20       1        0   8   4         7      1              \n",
       "30      0       0        1   12  6         8      0              \n",
       "31      7       1        0   9   5         4      1              \n",
       "32      0       1        1   13  3         3      0              \n",
       "33      0       0        0   6   4         8      0              \n",
       "34      0       0        1   11  6         2      0              \n",
       "35      0       0        0   12  3         3      1              \n",
       "<U+22EE>      <U+22EE> <U+22EE> <U+22EE> <U+22EE> <U+22EE>  <U+22EE> <U+22EE>       \n",
       "253645  0       0        0   7   3         1      0              \n",
       "253646  0       0        1   3   2         1      0              \n",
       "253647  0       0        0   2   4         1      0              \n",
       "253648  0       0        1   13  3         2      0              \n",
       "253650  5       0        0   4   6         5      0              \n",
       "253651  0       0        0   5   4         2      0              \n",
       "253652  0       0        1   2   6         3      0              \n",
       "253653 30       0        1   11  2         3      1              \n",
       "253654 15       0        1   10  6         3      0              \n",
       "253655  0       0        1   3   3         1      0              \n",
       "253657  0       0        0   4   6         8      0              \n",
       "253658  0       0        0   7   5         3      0              \n",
       "253659  0       0        0   3   6         5      0              \n",
       "253660  0       0        0   6   4         1      1              \n",
       "253661  2       1        0   7   4         3      0              \n",
       "253662  2       1        0   6   6         6      0              \n",
       "253665  0       0        0   6   6         4      0              \n",
       "253666 30       0        0   5   4         1      0              \n",
       "253667 15       0        0   6   5         2      0              \n",
       "253668  0       0        0   11  4         7      0              \n",
       "253669  0       1        1   10  3         6      1              \n",
       "253670  3       0        1   6   2         4      0              \n",
       "253671  0       1        0   13  6         4      1              \n",
       "253672  5       0        1   8   3         2      0              \n",
       "253673  0       0        1   12  2         1      0              \n",
       "253675  0       0        0   3   6         5      0              \n",
       "253676  5       0        1   5   6         7      0              \n",
       "253678  0       0        0   2   5         2      0              \n",
       "253679  0       0        1   7   5         1      0              \n",
       "253680  0       0        0   9   6         2      1              "
      ]
     },
     "metadata": {},
     "output_type": "display_data"
    }
   ],
   "source": [
    "training_df"
   ]
  },
  {
   "cell_type": "code",
   "execution_count": 330,
   "id": "4608b6cb-dd26-4ea7-9983-d2645101722f",
   "metadata": {},
   "outputs": [
    {
     "data": {
      "text/html": [
       "<table class=\"dataframe\">\n",
       "<caption>A data.frame: 50735 × 22</caption>\n",
       "<thead>\n",
       "\t<tr><th></th><th scope=col>HighBP</th><th scope=col>HighChol</th><th scope=col>CholCheck</th><th scope=col>BMI</th><th scope=col>Smoker</th><th scope=col>Stroke</th><th scope=col>HeartDiseaseorAttack</th><th scope=col>PhysActivity</th><th scope=col>Fruits</th><th scope=col>Veggies</th><th scope=col>⋯</th><th scope=col>NoDocbcCost</th><th scope=col>GenHlth</th><th scope=col>MentHlth</th><th scope=col>PhysHlth</th><th scope=col>DiffWalk</th><th scope=col>Sex</th><th scope=col>Age</th><th scope=col>Education</th><th scope=col>Income</th><th scope=col>Diabetes_binary</th></tr>\n",
       "\t<tr><th></th><th scope=col>&lt;fct&gt;</th><th scope=col>&lt;fct&gt;</th><th scope=col>&lt;fct&gt;</th><th scope=col>&lt;int&gt;</th><th scope=col>&lt;fct&gt;</th><th scope=col>&lt;fct&gt;</th><th scope=col>&lt;fct&gt;</th><th scope=col>&lt;fct&gt;</th><th scope=col>&lt;fct&gt;</th><th scope=col>&lt;fct&gt;</th><th scope=col>⋯</th><th scope=col>&lt;fct&gt;</th><th scope=col>&lt;ord&gt;</th><th scope=col>&lt;int&gt;</th><th scope=col>&lt;int&gt;</th><th scope=col>&lt;fct&gt;</th><th scope=col>&lt;fct&gt;</th><th scope=col>&lt;ord&gt;</th><th scope=col>&lt;ord&gt;</th><th scope=col>&lt;ord&gt;</th><th scope=col>&lt;fct&gt;</th></tr>\n",
       "</thead>\n",
       "<tbody>\n",
       "\t<tr><th scope=row>14</th><td>1</td><td>1</td><td>1</td><td>28</td><td>0</td><td>0</td><td>0</td><td>0</td><td>0</td><td>1</td><td>⋯</td><td>0</td><td>4</td><td> 0</td><td> 0</td><td>1</td><td>0</td><td>11</td><td>4</td><td>6</td><td>1</td></tr>\n",
       "\t<tr><th scope=row>17</th><td>1</td><td>1</td><td>1</td><td>21</td><td>0</td><td>0</td><td>0</td><td>1</td><td>1</td><td>1</td><td>⋯</td><td>0</td><td>3</td><td> 0</td><td> 0</td><td>0</td><td>0</td><td>10</td><td>4</td><td>3</td><td>0</td></tr>\n",
       "\t<tr><th scope=row>18</th><td>0</td><td>0</td><td>1</td><td>23</td><td>1</td><td>0</td><td>0</td><td>1</td><td>0</td><td>0</td><td>⋯</td><td>0</td><td>2</td><td> 0</td><td> 0</td><td>0</td><td>1</td><td>7 </td><td>5</td><td>6</td><td>1</td></tr>\n",
       "\t<tr><th scope=row>23</th><td>0</td><td>0</td><td>1</td><td>28</td><td>1</td><td>0</td><td>0</td><td>0</td><td>0</td><td>1</td><td>⋯</td><td>0</td><td>3</td><td> 0</td><td> 7</td><td>0</td><td>1</td><td>5 </td><td>5</td><td>5</td><td>0</td></tr>\n",
       "\t<tr><th scope=row>27</th><td>1</td><td>1</td><td>1</td><td>37</td><td>1</td><td>1</td><td>1</td><td>0</td><td>0</td><td>1</td><td>⋯</td><td>0</td><td>5</td><td> 0</td><td> 0</td><td>1</td><td>1</td><td>10</td><td>6</td><td>5</td><td>1</td></tr>\n",
       "\t<tr><th scope=row>40</th><td>1</td><td>1</td><td>1</td><td>24</td><td>1</td><td>0</td><td>0</td><td>0</td><td>1</td><td>1</td><td>⋯</td><td>0</td><td>5</td><td> 0</td><td>30</td><td>0</td><td>1</td><td>9 </td><td>3</td><td>1</td><td>0</td></tr>\n",
       "\t<tr><th scope=row>44</th><td>1</td><td>0</td><td>1</td><td>23</td><td>1</td><td>0</td><td>0</td><td>1</td><td>0</td><td>1</td><td>⋯</td><td>0</td><td>2</td><td>25</td><td> 0</td><td>0</td><td>0</td><td>9 </td><td>6</td><td>8</td><td>0</td></tr>\n",
       "\t<tr><th scope=row>47</th><td>0</td><td>0</td><td>1</td><td>31</td><td>0</td><td>0</td><td>0</td><td>1</td><td>1</td><td>1</td><td>⋯</td><td>0</td><td>2</td><td> 5</td><td> 0</td><td>0</td><td>0</td><td>7 </td><td>5</td><td>2</td><td>0</td></tr>\n",
       "\t<tr><th scope=row>55</th><td>0</td><td>1</td><td>1</td><td>34</td><td>1</td><td>0</td><td>0</td><td>0</td><td>0</td><td>1</td><td>⋯</td><td>0</td><td>2</td><td> 4</td><td> 0</td><td>0</td><td>0</td><td>4 </td><td>6</td><td>8</td><td>0</td></tr>\n",
       "\t<tr><th scope=row>63</th><td>1</td><td>0</td><td>1</td><td>34</td><td>1</td><td>0</td><td>0</td><td>1</td><td>1</td><td>1</td><td>⋯</td><td>1</td><td>3</td><td> 0</td><td> 0</td><td>0</td><td>0</td><td>9 </td><td>6</td><td>5</td><td>0</td></tr>\n",
       "\t<tr><th scope=row>64</th><td>1</td><td>1</td><td>1</td><td>30</td><td>0</td><td>0</td><td>0</td><td>1</td><td>0</td><td>0</td><td>⋯</td><td>0</td><td>3</td><td> 5</td><td> 1</td><td>0</td><td>0</td><td>7 </td><td>5</td><td>8</td><td>0</td></tr>\n",
       "\t<tr><th scope=row>72</th><td>1</td><td>1</td><td>1</td><td>27</td><td>0</td><td>0</td><td>1</td><td>1</td><td>0</td><td>0</td><td>⋯</td><td>0</td><td>2</td><td> 4</td><td> 2</td><td>0</td><td>1</td><td>7 </td><td>6</td><td>8</td><td>1</td></tr>\n",
       "\t<tr><th scope=row>90</th><td>1</td><td>1</td><td>1</td><td>31</td><td>1</td><td>0</td><td>1</td><td>1</td><td>0</td><td>1</td><td>⋯</td><td>0</td><td>3</td><td> 0</td><td> 0</td><td>0</td><td>1</td><td>13</td><td>5</td><td>6</td><td>1</td></tr>\n",
       "\t<tr><th scope=row>95</th><td>0</td><td>0</td><td>1</td><td>31</td><td>1</td><td>0</td><td>0</td><td>1</td><td>1</td><td>1</td><td>⋯</td><td>0</td><td>1</td><td> 0</td><td> 0</td><td>0</td><td>0</td><td>5 </td><td>6</td><td>7</td><td>0</td></tr>\n",
       "\t<tr><th scope=row>99</th><td>1</td><td>1</td><td>1</td><td>28</td><td>0</td><td>0</td><td>0</td><td>0</td><td>1</td><td>1</td><td>⋯</td><td>0</td><td>2</td><td> 0</td><td> 0</td><td>1</td><td>0</td><td>11</td><td>4</td><td>3</td><td>0</td></tr>\n",
       "\t<tr><th scope=row>104</th><td>1</td><td>1</td><td>1</td><td>30</td><td>0</td><td>0</td><td>0</td><td>1</td><td>1</td><td>1</td><td>⋯</td><td>0</td><td>2</td><td> 0</td><td> 0</td><td>0</td><td>1</td><td>9 </td><td>6</td><td>7</td><td>1</td></tr>\n",
       "\t<tr><th scope=row>113</th><td>0</td><td>0</td><td>1</td><td>30</td><td>1</td><td>0</td><td>0</td><td>0</td><td>0</td><td>1</td><td>⋯</td><td>0</td><td>3</td><td> 0</td><td> 0</td><td>0</td><td>1</td><td>9 </td><td>4</td><td>6</td><td>0</td></tr>\n",
       "\t<tr><th scope=row>119</th><td>1</td><td>1</td><td>1</td><td>35</td><td>1</td><td>0</td><td>0</td><td>0</td><td>0</td><td>1</td><td>⋯</td><td>0</td><td>2</td><td>20</td><td> 4</td><td>0</td><td>0</td><td>7 </td><td>5</td><td>7</td><td>0</td></tr>\n",
       "\t<tr><th scope=row>120</th><td>0</td><td>1</td><td>1</td><td>23</td><td>0</td><td>0</td><td>0</td><td>1</td><td>0</td><td>0</td><td>⋯</td><td>0</td><td>1</td><td> 0</td><td> 0</td><td>0</td><td>1</td><td>7 </td><td>6</td><td>6</td><td>0</td></tr>\n",
       "\t<tr><th scope=row>125</th><td>0</td><td>1</td><td>1</td><td>39</td><td>1</td><td>0</td><td>0</td><td>1</td><td>0</td><td>1</td><td>⋯</td><td>0</td><td>3</td><td> 0</td><td> 0</td><td>1</td><td>1</td><td>5 </td><td>5</td><td>7</td><td>0</td></tr>\n",
       "\t<tr><th scope=row>127</th><td>1</td><td>1</td><td>1</td><td>25</td><td>1</td><td>1</td><td>1</td><td>1</td><td>0</td><td>0</td><td>⋯</td><td>0</td><td>4</td><td> 0</td><td>30</td><td>1</td><td>1</td><td>12</td><td>5</td><td>5</td><td>0</td></tr>\n",
       "\t<tr><th scope=row>130</th><td>1</td><td>1</td><td>1</td><td>29</td><td>1</td><td>0</td><td>0</td><td>0</td><td>1</td><td>1</td><td>⋯</td><td>0</td><td>5</td><td> 0</td><td>30</td><td>1</td><td>1</td><td>13</td><td>4</td><td>3</td><td>0</td></tr>\n",
       "\t<tr><th scope=row>131</th><td>0</td><td>0</td><td>1</td><td>31</td><td>1</td><td>0</td><td>0</td><td>1</td><td>0</td><td>1</td><td>⋯</td><td>0</td><td>1</td><td> 0</td><td> 0</td><td>0</td><td>1</td><td>4 </td><td>4</td><td>8</td><td>0</td></tr>\n",
       "\t<tr><th scope=row>134</th><td>0</td><td>1</td><td>1</td><td>19</td><td>1</td><td>0</td><td>0</td><td>0</td><td>0</td><td>0</td><td>⋯</td><td>0</td><td>5</td><td>30</td><td>30</td><td>0</td><td>0</td><td>8 </td><td>3</td><td>4</td><td>0</td></tr>\n",
       "\t<tr><th scope=row>138</th><td>1</td><td>1</td><td>1</td><td>24</td><td>1</td><td>0</td><td>0</td><td>1</td><td>0</td><td>1</td><td>⋯</td><td>0</td><td>3</td><td> 0</td><td> 0</td><td>0</td><td>1</td><td>12</td><td>4</td><td>6</td><td>1</td></tr>\n",
       "\t<tr><th scope=row>140</th><td>1</td><td>1</td><td>1</td><td>31</td><td>1</td><td>0</td><td>0</td><td>0</td><td>0</td><td>1</td><td>⋯</td><td>1</td><td>4</td><td> 1</td><td> 6</td><td>1</td><td>0</td><td>9 </td><td>5</td><td>7</td><td>0</td></tr>\n",
       "\t<tr><th scope=row>143</th><td>0</td><td>0</td><td>1</td><td>26</td><td>0</td><td>0</td><td>0</td><td>0</td><td>1</td><td>1</td><td>⋯</td><td>0</td><td>3</td><td> 0</td><td> 0</td><td>0</td><td>0</td><td>11</td><td>4</td><td>8</td><td>0</td></tr>\n",
       "\t<tr><th scope=row>148</th><td>0</td><td>0</td><td>1</td><td>34</td><td>0</td><td>0</td><td>0</td><td>1</td><td>1</td><td>1</td><td>⋯</td><td>0</td><td>2</td><td> 0</td><td> 0</td><td>0</td><td>0</td><td>7 </td><td>5</td><td>6</td><td>0</td></tr>\n",
       "\t<tr><th scope=row>165</th><td>0</td><td>0</td><td>0</td><td>24</td><td>1</td><td>0</td><td>0</td><td>1</td><td>1</td><td>1</td><td>⋯</td><td>0</td><td>3</td><td> 0</td><td> 0</td><td>0</td><td>1</td><td>11</td><td>4</td><td>4</td><td>0</td></tr>\n",
       "\t<tr><th scope=row>189</th><td>1</td><td>0</td><td>1</td><td>43</td><td>1</td><td>0</td><td>0</td><td>0</td><td>0</td><td>1</td><td>⋯</td><td>0</td><td>4</td><td> 0</td><td> 7</td><td>1</td><td>0</td><td>10</td><td>5</td><td>2</td><td>0</td></tr>\n",
       "\t<tr><th scope=row>⋮</th><td>⋮</td><td>⋮</td><td>⋮</td><td>⋮</td><td>⋮</td><td>⋮</td><td>⋮</td><td>⋮</td><td>⋮</td><td>⋮</td><td>⋱</td><td>⋮</td><td>⋮</td><td>⋮</td><td>⋮</td><td>⋮</td><td>⋮</td><td>⋮</td><td>⋮</td><td>⋮</td><td>⋮</td></tr>\n",
       "\t<tr><th scope=row>253549</th><td>1</td><td>1</td><td>0</td><td>32</td><td>0</td><td>0</td><td>0</td><td>0</td><td>0</td><td>1</td><td>⋯</td><td>0</td><td>1</td><td> 0</td><td> 0</td><td>0</td><td>1</td><td>5 </td><td>4</td><td>3</td><td>0</td></tr>\n",
       "\t<tr><th scope=row>253552</th><td>1</td><td>1</td><td>1</td><td>27</td><td>0</td><td>0</td><td>1</td><td>1</td><td>0</td><td>1</td><td>⋯</td><td>1</td><td>5</td><td>30</td><td> 0</td><td>1</td><td>1</td><td>7 </td><td>4</td><td>1</td><td>1</td></tr>\n",
       "\t<tr><th scope=row>253562</th><td>0</td><td>1</td><td>1</td><td>25</td><td>0</td><td>0</td><td>0</td><td>0</td><td>0</td><td>1</td><td>⋯</td><td>0</td><td>3</td><td> 0</td><td> 0</td><td>0</td><td>0</td><td>9 </td><td>5</td><td>3</td><td>0</td></tr>\n",
       "\t<tr><th scope=row>253565</th><td>1</td><td>1</td><td>1</td><td>29</td><td>0</td><td>0</td><td>0</td><td>0</td><td>0</td><td>1</td><td>⋯</td><td>0</td><td>4</td><td> 0</td><td> 0</td><td>0</td><td>0</td><td>9 </td><td>4</td><td>2</td><td>0</td></tr>\n",
       "\t<tr><th scope=row>253567</th><td>0</td><td>0</td><td>1</td><td>24</td><td>0</td><td>0</td><td>1</td><td>0</td><td>1</td><td>1</td><td>⋯</td><td>0</td><td>3</td><td> 0</td><td> 0</td><td>0</td><td>0</td><td>10</td><td>6</td><td>4</td><td>0</td></tr>\n",
       "\t<tr><th scope=row>253568</th><td>1</td><td>1</td><td>1</td><td>44</td><td>0</td><td>0</td><td>1</td><td>0</td><td>1</td><td>1</td><td>⋯</td><td>1</td><td>3</td><td> 0</td><td> 0</td><td>1</td><td>1</td><td>11</td><td>2</td><td>1</td><td>0</td></tr>\n",
       "\t<tr><th scope=row>253571</th><td>1</td><td>1</td><td>1</td><td>33</td><td>0</td><td>0</td><td>1</td><td>0</td><td>0</td><td>1</td><td>⋯</td><td>0</td><td>3</td><td>30</td><td>30</td><td>0</td><td>0</td><td>4 </td><td>6</td><td>3</td><td>0</td></tr>\n",
       "\t<tr><th scope=row>253580</th><td>1</td><td>1</td><td>1</td><td>30</td><td>0</td><td>0</td><td>1</td><td>1</td><td>1</td><td>1</td><td>⋯</td><td>0</td><td>3</td><td> 0</td><td> 0</td><td>0</td><td>1</td><td>9 </td><td>2</td><td>3</td><td>0</td></tr>\n",
       "\t<tr><th scope=row>253581</th><td>1</td><td>0</td><td>1</td><td>37</td><td>0</td><td>0</td><td>0</td><td>0</td><td>0</td><td>1</td><td>⋯</td><td>0</td><td>4</td><td> 0</td><td>14</td><td>0</td><td>1</td><td>8 </td><td>6</td><td>2</td><td>1</td></tr>\n",
       "\t<tr><th scope=row>253584</th><td>0</td><td>0</td><td>1</td><td>22</td><td>0</td><td>0</td><td>0</td><td>0</td><td>1</td><td>1</td><td>⋯</td><td>0</td><td>2</td><td> 0</td><td> 0</td><td>0</td><td>1</td><td>2 </td><td>5</td><td>8</td><td>0</td></tr>\n",
       "\t<tr><th scope=row>253586</th><td>1</td><td>1</td><td>1</td><td>25</td><td>1</td><td>0</td><td>0</td><td>0</td><td>0</td><td>1</td><td>⋯</td><td>0</td><td>4</td><td> 0</td><td> 0</td><td>0</td><td>1</td><td>10</td><td>3</td><td>1</td><td>0</td></tr>\n",
       "\t<tr><th scope=row>253588</th><td>0</td><td>0</td><td>1</td><td>36</td><td>0</td><td>0</td><td>0</td><td>0</td><td>1</td><td>0</td><td>⋯</td><td>0</td><td>2</td><td> 0</td><td> 0</td><td>0</td><td>1</td><td>2 </td><td>6</td><td>5</td><td>0</td></tr>\n",
       "\t<tr><th scope=row>253590</th><td>0</td><td>0</td><td>1</td><td>27</td><td>0</td><td>0</td><td>0</td><td>0</td><td>0</td><td>1</td><td>⋯</td><td>0</td><td>3</td><td> 6</td><td> 0</td><td>0</td><td>0</td><td>2 </td><td>6</td><td>6</td><td>0</td></tr>\n",
       "\t<tr><th scope=row>253592</th><td>1</td><td>0</td><td>1</td><td>31</td><td>0</td><td>0</td><td>1</td><td>1</td><td>1</td><td>1</td><td>⋯</td><td>1</td><td>4</td><td> 0</td><td>30</td><td>0</td><td>1</td><td>11</td><td>2</td><td>1</td><td>1</td></tr>\n",
       "\t<tr><th scope=row>253595</th><td>0</td><td>0</td><td>1</td><td>26</td><td>1</td><td>0</td><td>0</td><td>0</td><td>1</td><td>1</td><td>⋯</td><td>0</td><td>4</td><td> 0</td><td>10</td><td>0</td><td>0</td><td>7 </td><td>5</td><td>7</td><td>1</td></tr>\n",
       "\t<tr><th scope=row>253609</th><td>0</td><td>0</td><td>1</td><td>29</td><td>0</td><td>0</td><td>0</td><td>1</td><td>1</td><td>1</td><td>⋯</td><td>1</td><td>4</td><td> 0</td><td>30</td><td>1</td><td>0</td><td>3 </td><td>4</td><td>1</td><td>0</td></tr>\n",
       "\t<tr><th scope=row>253613</th><td>1</td><td>1</td><td>1</td><td>30</td><td>0</td><td>0</td><td>0</td><td>1</td><td>0</td><td>1</td><td>⋯</td><td>1</td><td>5</td><td> 6</td><td>30</td><td>1</td><td>0</td><td>11</td><td>2</td><td>2</td><td>1</td></tr>\n",
       "\t<tr><th scope=row>253620</th><td>0</td><td>0</td><td>1</td><td>18</td><td>1</td><td>0</td><td>0</td><td>1</td><td>1</td><td>1</td><td>⋯</td><td>1</td><td>3</td><td> 0</td><td> 4</td><td>0</td><td>0</td><td>3 </td><td>6</td><td>3</td><td>0</td></tr>\n",
       "\t<tr><th scope=row>253633</th><td>0</td><td>0</td><td>1</td><td>28</td><td>0</td><td>0</td><td>0</td><td>0</td><td>1</td><td>1</td><td>⋯</td><td>0</td><td>3</td><td> 0</td><td> 0</td><td>0</td><td>0</td><td>2 </td><td>5</td><td>6</td><td>0</td></tr>\n",
       "\t<tr><th scope=row>253634</th><td>1</td><td>0</td><td>1</td><td>31</td><td>0</td><td>0</td><td>0</td><td>1</td><td>0</td><td>0</td><td>⋯</td><td>0</td><td>3</td><td> 0</td><td>14</td><td>0</td><td>0</td><td>4 </td><td>6</td><td>4</td><td>0</td></tr>\n",
       "\t<tr><th scope=row>253635</th><td>0</td><td>0</td><td>1</td><td>32</td><td>1</td><td>0</td><td>0</td><td>1</td><td>0</td><td>1</td><td>⋯</td><td>0</td><td>3</td><td> 0</td><td> 0</td><td>0</td><td>1</td><td>4 </td><td>4</td><td>7</td><td>0</td></tr>\n",
       "\t<tr><th scope=row>253638</th><td>0</td><td>0</td><td>1</td><td>20</td><td>0</td><td>0</td><td>0</td><td>1</td><td>1</td><td>1</td><td>⋯</td><td>0</td><td>3</td><td> 0</td><td> 0</td><td>0</td><td>0</td><td>2 </td><td>5</td><td>1</td><td>0</td></tr>\n",
       "\t<tr><th scope=row>253639</th><td>0</td><td>0</td><td>1</td><td>24</td><td>0</td><td>0</td><td>0</td><td>1</td><td>1</td><td>1</td><td>⋯</td><td>0</td><td>2</td><td> 0</td><td> 0</td><td>0</td><td>1</td><td>1 </td><td>4</td><td>6</td><td>0</td></tr>\n",
       "\t<tr><th scope=row>253642</th><td>0</td><td>1</td><td>1</td><td>26</td><td>0</td><td>0</td><td>0</td><td>0</td><td>0</td><td>1</td><td>⋯</td><td>0</td><td>3</td><td> 0</td><td> 0</td><td>0</td><td>0</td><td>12</td><td>4</td><td>4</td><td>0</td></tr>\n",
       "\t<tr><th scope=row>253649</th><td>0</td><td>0</td><td>1</td><td>28</td><td>0</td><td>0</td><td>0</td><td>0</td><td>0</td><td>1</td><td>⋯</td><td>1</td><td>3</td><td> 6</td><td>14</td><td>0</td><td>1</td><td>5 </td><td>5</td><td>1</td><td>0</td></tr>\n",
       "\t<tr><th scope=row>253656</th><td>0</td><td>0</td><td>1</td><td>28</td><td>0</td><td>0</td><td>0</td><td>1</td><td>1</td><td>1</td><td>⋯</td><td>0</td><td>2</td><td> 0</td><td> 0</td><td>0</td><td>0</td><td>2 </td><td>6</td><td>4</td><td>0</td></tr>\n",
       "\t<tr><th scope=row>253663</th><td>0</td><td>0</td><td>1</td><td>16</td><td>0</td><td>0</td><td>0</td><td>1</td><td>0</td><td>1</td><td>⋯</td><td>0</td><td>1</td><td> 0</td><td> 0</td><td>0</td><td>0</td><td>5 </td><td>6</td><td>2</td><td>0</td></tr>\n",
       "\t<tr><th scope=row>253664</th><td>0</td><td>0</td><td>1</td><td>23</td><td>0</td><td>0</td><td>0</td><td>0</td><td>1</td><td>0</td><td>⋯</td><td>1</td><td>2</td><td> 0</td><td>30</td><td>0</td><td>0</td><td>5 </td><td>6</td><td>2</td><td>0</td></tr>\n",
       "\t<tr><th scope=row>253674</th><td>1</td><td>0</td><td>1</td><td>42</td><td>0</td><td>0</td><td>0</td><td>1</td><td>1</td><td>1</td><td>⋯</td><td>0</td><td>3</td><td>14</td><td> 4</td><td>0</td><td>1</td><td>3 </td><td>6</td><td>8</td><td>0</td></tr>\n",
       "\t<tr><th scope=row>253677</th><td>1</td><td>1</td><td>1</td><td>18</td><td>0</td><td>0</td><td>0</td><td>0</td><td>0</td><td>0</td><td>⋯</td><td>0</td><td>4</td><td> 0</td><td> 0</td><td>1</td><td>0</td><td>11</td><td>2</td><td>4</td><td>1</td></tr>\n",
       "</tbody>\n",
       "</table>\n"
      ],
      "text/latex": [
       "A data.frame: 50735 × 22\n",
       "\\begin{tabular}{r|lllllllllllllllllllll}\n",
       "  & HighBP & HighChol & CholCheck & BMI & Smoker & Stroke & HeartDiseaseorAttack & PhysActivity & Fruits & Veggies & ⋯ & NoDocbcCost & GenHlth & MentHlth & PhysHlth & DiffWalk & Sex & Age & Education & Income & Diabetes\\_binary\\\\\n",
       "  & <fct> & <fct> & <fct> & <int> & <fct> & <fct> & <fct> & <fct> & <fct> & <fct> & ⋯ & <fct> & <ord> & <int> & <int> & <fct> & <fct> & <ord> & <ord> & <ord> & <fct>\\\\\n",
       "\\hline\n",
       "\t14 & 1 & 1 & 1 & 28 & 0 & 0 & 0 & 0 & 0 & 1 & ⋯ & 0 & 4 &  0 &  0 & 1 & 0 & 11 & 4 & 6 & 1\\\\\n",
       "\t17 & 1 & 1 & 1 & 21 & 0 & 0 & 0 & 1 & 1 & 1 & ⋯ & 0 & 3 &  0 &  0 & 0 & 0 & 10 & 4 & 3 & 0\\\\\n",
       "\t18 & 0 & 0 & 1 & 23 & 1 & 0 & 0 & 1 & 0 & 0 & ⋯ & 0 & 2 &  0 &  0 & 0 & 1 & 7  & 5 & 6 & 1\\\\\n",
       "\t23 & 0 & 0 & 1 & 28 & 1 & 0 & 0 & 0 & 0 & 1 & ⋯ & 0 & 3 &  0 &  7 & 0 & 1 & 5  & 5 & 5 & 0\\\\\n",
       "\t27 & 1 & 1 & 1 & 37 & 1 & 1 & 1 & 0 & 0 & 1 & ⋯ & 0 & 5 &  0 &  0 & 1 & 1 & 10 & 6 & 5 & 1\\\\\n",
       "\t40 & 1 & 1 & 1 & 24 & 1 & 0 & 0 & 0 & 1 & 1 & ⋯ & 0 & 5 &  0 & 30 & 0 & 1 & 9  & 3 & 1 & 0\\\\\n",
       "\t44 & 1 & 0 & 1 & 23 & 1 & 0 & 0 & 1 & 0 & 1 & ⋯ & 0 & 2 & 25 &  0 & 0 & 0 & 9  & 6 & 8 & 0\\\\\n",
       "\t47 & 0 & 0 & 1 & 31 & 0 & 0 & 0 & 1 & 1 & 1 & ⋯ & 0 & 2 &  5 &  0 & 0 & 0 & 7  & 5 & 2 & 0\\\\\n",
       "\t55 & 0 & 1 & 1 & 34 & 1 & 0 & 0 & 0 & 0 & 1 & ⋯ & 0 & 2 &  4 &  0 & 0 & 0 & 4  & 6 & 8 & 0\\\\\n",
       "\t63 & 1 & 0 & 1 & 34 & 1 & 0 & 0 & 1 & 1 & 1 & ⋯ & 1 & 3 &  0 &  0 & 0 & 0 & 9  & 6 & 5 & 0\\\\\n",
       "\t64 & 1 & 1 & 1 & 30 & 0 & 0 & 0 & 1 & 0 & 0 & ⋯ & 0 & 3 &  5 &  1 & 0 & 0 & 7  & 5 & 8 & 0\\\\\n",
       "\t72 & 1 & 1 & 1 & 27 & 0 & 0 & 1 & 1 & 0 & 0 & ⋯ & 0 & 2 &  4 &  2 & 0 & 1 & 7  & 6 & 8 & 1\\\\\n",
       "\t90 & 1 & 1 & 1 & 31 & 1 & 0 & 1 & 1 & 0 & 1 & ⋯ & 0 & 3 &  0 &  0 & 0 & 1 & 13 & 5 & 6 & 1\\\\\n",
       "\t95 & 0 & 0 & 1 & 31 & 1 & 0 & 0 & 1 & 1 & 1 & ⋯ & 0 & 1 &  0 &  0 & 0 & 0 & 5  & 6 & 7 & 0\\\\\n",
       "\t99 & 1 & 1 & 1 & 28 & 0 & 0 & 0 & 0 & 1 & 1 & ⋯ & 0 & 2 &  0 &  0 & 1 & 0 & 11 & 4 & 3 & 0\\\\\n",
       "\t104 & 1 & 1 & 1 & 30 & 0 & 0 & 0 & 1 & 1 & 1 & ⋯ & 0 & 2 &  0 &  0 & 0 & 1 & 9  & 6 & 7 & 1\\\\\n",
       "\t113 & 0 & 0 & 1 & 30 & 1 & 0 & 0 & 0 & 0 & 1 & ⋯ & 0 & 3 &  0 &  0 & 0 & 1 & 9  & 4 & 6 & 0\\\\\n",
       "\t119 & 1 & 1 & 1 & 35 & 1 & 0 & 0 & 0 & 0 & 1 & ⋯ & 0 & 2 & 20 &  4 & 0 & 0 & 7  & 5 & 7 & 0\\\\\n",
       "\t120 & 0 & 1 & 1 & 23 & 0 & 0 & 0 & 1 & 0 & 0 & ⋯ & 0 & 1 &  0 &  0 & 0 & 1 & 7  & 6 & 6 & 0\\\\\n",
       "\t125 & 0 & 1 & 1 & 39 & 1 & 0 & 0 & 1 & 0 & 1 & ⋯ & 0 & 3 &  0 &  0 & 1 & 1 & 5  & 5 & 7 & 0\\\\\n",
       "\t127 & 1 & 1 & 1 & 25 & 1 & 1 & 1 & 1 & 0 & 0 & ⋯ & 0 & 4 &  0 & 30 & 1 & 1 & 12 & 5 & 5 & 0\\\\\n",
       "\t130 & 1 & 1 & 1 & 29 & 1 & 0 & 0 & 0 & 1 & 1 & ⋯ & 0 & 5 &  0 & 30 & 1 & 1 & 13 & 4 & 3 & 0\\\\\n",
       "\t131 & 0 & 0 & 1 & 31 & 1 & 0 & 0 & 1 & 0 & 1 & ⋯ & 0 & 1 &  0 &  0 & 0 & 1 & 4  & 4 & 8 & 0\\\\\n",
       "\t134 & 0 & 1 & 1 & 19 & 1 & 0 & 0 & 0 & 0 & 0 & ⋯ & 0 & 5 & 30 & 30 & 0 & 0 & 8  & 3 & 4 & 0\\\\\n",
       "\t138 & 1 & 1 & 1 & 24 & 1 & 0 & 0 & 1 & 0 & 1 & ⋯ & 0 & 3 &  0 &  0 & 0 & 1 & 12 & 4 & 6 & 1\\\\\n",
       "\t140 & 1 & 1 & 1 & 31 & 1 & 0 & 0 & 0 & 0 & 1 & ⋯ & 1 & 4 &  1 &  6 & 1 & 0 & 9  & 5 & 7 & 0\\\\\n",
       "\t143 & 0 & 0 & 1 & 26 & 0 & 0 & 0 & 0 & 1 & 1 & ⋯ & 0 & 3 &  0 &  0 & 0 & 0 & 11 & 4 & 8 & 0\\\\\n",
       "\t148 & 0 & 0 & 1 & 34 & 0 & 0 & 0 & 1 & 1 & 1 & ⋯ & 0 & 2 &  0 &  0 & 0 & 0 & 7  & 5 & 6 & 0\\\\\n",
       "\t165 & 0 & 0 & 0 & 24 & 1 & 0 & 0 & 1 & 1 & 1 & ⋯ & 0 & 3 &  0 &  0 & 0 & 1 & 11 & 4 & 4 & 0\\\\\n",
       "\t189 & 1 & 0 & 1 & 43 & 1 & 0 & 0 & 0 & 0 & 1 & ⋯ & 0 & 4 &  0 &  7 & 1 & 0 & 10 & 5 & 2 & 0\\\\\n",
       "\t⋮ & ⋮ & ⋮ & ⋮ & ⋮ & ⋮ & ⋮ & ⋮ & ⋮ & ⋮ & ⋮ & ⋱ & ⋮ & ⋮ & ⋮ & ⋮ & ⋮ & ⋮ & ⋮ & ⋮ & ⋮ & ⋮\\\\\n",
       "\t253549 & 1 & 1 & 0 & 32 & 0 & 0 & 0 & 0 & 0 & 1 & ⋯ & 0 & 1 &  0 &  0 & 0 & 1 & 5  & 4 & 3 & 0\\\\\n",
       "\t253552 & 1 & 1 & 1 & 27 & 0 & 0 & 1 & 1 & 0 & 1 & ⋯ & 1 & 5 & 30 &  0 & 1 & 1 & 7  & 4 & 1 & 1\\\\\n",
       "\t253562 & 0 & 1 & 1 & 25 & 0 & 0 & 0 & 0 & 0 & 1 & ⋯ & 0 & 3 &  0 &  0 & 0 & 0 & 9  & 5 & 3 & 0\\\\\n",
       "\t253565 & 1 & 1 & 1 & 29 & 0 & 0 & 0 & 0 & 0 & 1 & ⋯ & 0 & 4 &  0 &  0 & 0 & 0 & 9  & 4 & 2 & 0\\\\\n",
       "\t253567 & 0 & 0 & 1 & 24 & 0 & 0 & 1 & 0 & 1 & 1 & ⋯ & 0 & 3 &  0 &  0 & 0 & 0 & 10 & 6 & 4 & 0\\\\\n",
       "\t253568 & 1 & 1 & 1 & 44 & 0 & 0 & 1 & 0 & 1 & 1 & ⋯ & 1 & 3 &  0 &  0 & 1 & 1 & 11 & 2 & 1 & 0\\\\\n",
       "\t253571 & 1 & 1 & 1 & 33 & 0 & 0 & 1 & 0 & 0 & 1 & ⋯ & 0 & 3 & 30 & 30 & 0 & 0 & 4  & 6 & 3 & 0\\\\\n",
       "\t253580 & 1 & 1 & 1 & 30 & 0 & 0 & 1 & 1 & 1 & 1 & ⋯ & 0 & 3 &  0 &  0 & 0 & 1 & 9  & 2 & 3 & 0\\\\\n",
       "\t253581 & 1 & 0 & 1 & 37 & 0 & 0 & 0 & 0 & 0 & 1 & ⋯ & 0 & 4 &  0 & 14 & 0 & 1 & 8  & 6 & 2 & 1\\\\\n",
       "\t253584 & 0 & 0 & 1 & 22 & 0 & 0 & 0 & 0 & 1 & 1 & ⋯ & 0 & 2 &  0 &  0 & 0 & 1 & 2  & 5 & 8 & 0\\\\\n",
       "\t253586 & 1 & 1 & 1 & 25 & 1 & 0 & 0 & 0 & 0 & 1 & ⋯ & 0 & 4 &  0 &  0 & 0 & 1 & 10 & 3 & 1 & 0\\\\\n",
       "\t253588 & 0 & 0 & 1 & 36 & 0 & 0 & 0 & 0 & 1 & 0 & ⋯ & 0 & 2 &  0 &  0 & 0 & 1 & 2  & 6 & 5 & 0\\\\\n",
       "\t253590 & 0 & 0 & 1 & 27 & 0 & 0 & 0 & 0 & 0 & 1 & ⋯ & 0 & 3 &  6 &  0 & 0 & 0 & 2  & 6 & 6 & 0\\\\\n",
       "\t253592 & 1 & 0 & 1 & 31 & 0 & 0 & 1 & 1 & 1 & 1 & ⋯ & 1 & 4 &  0 & 30 & 0 & 1 & 11 & 2 & 1 & 1\\\\\n",
       "\t253595 & 0 & 0 & 1 & 26 & 1 & 0 & 0 & 0 & 1 & 1 & ⋯ & 0 & 4 &  0 & 10 & 0 & 0 & 7  & 5 & 7 & 1\\\\\n",
       "\t253609 & 0 & 0 & 1 & 29 & 0 & 0 & 0 & 1 & 1 & 1 & ⋯ & 1 & 4 &  0 & 30 & 1 & 0 & 3  & 4 & 1 & 0\\\\\n",
       "\t253613 & 1 & 1 & 1 & 30 & 0 & 0 & 0 & 1 & 0 & 1 & ⋯ & 1 & 5 &  6 & 30 & 1 & 0 & 11 & 2 & 2 & 1\\\\\n",
       "\t253620 & 0 & 0 & 1 & 18 & 1 & 0 & 0 & 1 & 1 & 1 & ⋯ & 1 & 3 &  0 &  4 & 0 & 0 & 3  & 6 & 3 & 0\\\\\n",
       "\t253633 & 0 & 0 & 1 & 28 & 0 & 0 & 0 & 0 & 1 & 1 & ⋯ & 0 & 3 &  0 &  0 & 0 & 0 & 2  & 5 & 6 & 0\\\\\n",
       "\t253634 & 1 & 0 & 1 & 31 & 0 & 0 & 0 & 1 & 0 & 0 & ⋯ & 0 & 3 &  0 & 14 & 0 & 0 & 4  & 6 & 4 & 0\\\\\n",
       "\t253635 & 0 & 0 & 1 & 32 & 1 & 0 & 0 & 1 & 0 & 1 & ⋯ & 0 & 3 &  0 &  0 & 0 & 1 & 4  & 4 & 7 & 0\\\\\n",
       "\t253638 & 0 & 0 & 1 & 20 & 0 & 0 & 0 & 1 & 1 & 1 & ⋯ & 0 & 3 &  0 &  0 & 0 & 0 & 2  & 5 & 1 & 0\\\\\n",
       "\t253639 & 0 & 0 & 1 & 24 & 0 & 0 & 0 & 1 & 1 & 1 & ⋯ & 0 & 2 &  0 &  0 & 0 & 1 & 1  & 4 & 6 & 0\\\\\n",
       "\t253642 & 0 & 1 & 1 & 26 & 0 & 0 & 0 & 0 & 0 & 1 & ⋯ & 0 & 3 &  0 &  0 & 0 & 0 & 12 & 4 & 4 & 0\\\\\n",
       "\t253649 & 0 & 0 & 1 & 28 & 0 & 0 & 0 & 0 & 0 & 1 & ⋯ & 1 & 3 &  6 & 14 & 0 & 1 & 5  & 5 & 1 & 0\\\\\n",
       "\t253656 & 0 & 0 & 1 & 28 & 0 & 0 & 0 & 1 & 1 & 1 & ⋯ & 0 & 2 &  0 &  0 & 0 & 0 & 2  & 6 & 4 & 0\\\\\n",
       "\t253663 & 0 & 0 & 1 & 16 & 0 & 0 & 0 & 1 & 0 & 1 & ⋯ & 0 & 1 &  0 &  0 & 0 & 0 & 5  & 6 & 2 & 0\\\\\n",
       "\t253664 & 0 & 0 & 1 & 23 & 0 & 0 & 0 & 0 & 1 & 0 & ⋯ & 1 & 2 &  0 & 30 & 0 & 0 & 5  & 6 & 2 & 0\\\\\n",
       "\t253674 & 1 & 0 & 1 & 42 & 0 & 0 & 0 & 1 & 1 & 1 & ⋯ & 0 & 3 & 14 &  4 & 0 & 1 & 3  & 6 & 8 & 0\\\\\n",
       "\t253677 & 1 & 1 & 1 & 18 & 0 & 0 & 0 & 0 & 0 & 0 & ⋯ & 0 & 4 &  0 &  0 & 1 & 0 & 11 & 2 & 4 & 1\\\\\n",
       "\\end{tabular}\n"
      ],
      "text/markdown": [
       "\n",
       "A data.frame: 50735 × 22\n",
       "\n",
       "| <!--/--> | HighBP &lt;fct&gt; | HighChol &lt;fct&gt; | CholCheck &lt;fct&gt; | BMI &lt;int&gt; | Smoker &lt;fct&gt; | Stroke &lt;fct&gt; | HeartDiseaseorAttack &lt;fct&gt; | PhysActivity &lt;fct&gt; | Fruits &lt;fct&gt; | Veggies &lt;fct&gt; | ⋯ ⋯ | NoDocbcCost &lt;fct&gt; | GenHlth &lt;ord&gt; | MentHlth &lt;int&gt; | PhysHlth &lt;int&gt; | DiffWalk &lt;fct&gt; | Sex &lt;fct&gt; | Age &lt;ord&gt; | Education &lt;ord&gt; | Income &lt;ord&gt; | Diabetes_binary &lt;fct&gt; |\n",
       "|---|---|---|---|---|---|---|---|---|---|---|---|---|---|---|---|---|---|---|---|---|---|\n",
       "| 14 | 1 | 1 | 1 | 28 | 0 | 0 | 0 | 0 | 0 | 1 | ⋯ | 0 | 4 |  0 |  0 | 1 | 0 | 11 | 4 | 6 | 1 |\n",
       "| 17 | 1 | 1 | 1 | 21 | 0 | 0 | 0 | 1 | 1 | 1 | ⋯ | 0 | 3 |  0 |  0 | 0 | 0 | 10 | 4 | 3 | 0 |\n",
       "| 18 | 0 | 0 | 1 | 23 | 1 | 0 | 0 | 1 | 0 | 0 | ⋯ | 0 | 2 |  0 |  0 | 0 | 1 | 7  | 5 | 6 | 1 |\n",
       "| 23 | 0 | 0 | 1 | 28 | 1 | 0 | 0 | 0 | 0 | 1 | ⋯ | 0 | 3 |  0 |  7 | 0 | 1 | 5  | 5 | 5 | 0 |\n",
       "| 27 | 1 | 1 | 1 | 37 | 1 | 1 | 1 | 0 | 0 | 1 | ⋯ | 0 | 5 |  0 |  0 | 1 | 1 | 10 | 6 | 5 | 1 |\n",
       "| 40 | 1 | 1 | 1 | 24 | 1 | 0 | 0 | 0 | 1 | 1 | ⋯ | 0 | 5 |  0 | 30 | 0 | 1 | 9  | 3 | 1 | 0 |\n",
       "| 44 | 1 | 0 | 1 | 23 | 1 | 0 | 0 | 1 | 0 | 1 | ⋯ | 0 | 2 | 25 |  0 | 0 | 0 | 9  | 6 | 8 | 0 |\n",
       "| 47 | 0 | 0 | 1 | 31 | 0 | 0 | 0 | 1 | 1 | 1 | ⋯ | 0 | 2 |  5 |  0 | 0 | 0 | 7  | 5 | 2 | 0 |\n",
       "| 55 | 0 | 1 | 1 | 34 | 1 | 0 | 0 | 0 | 0 | 1 | ⋯ | 0 | 2 |  4 |  0 | 0 | 0 | 4  | 6 | 8 | 0 |\n",
       "| 63 | 1 | 0 | 1 | 34 | 1 | 0 | 0 | 1 | 1 | 1 | ⋯ | 1 | 3 |  0 |  0 | 0 | 0 | 9  | 6 | 5 | 0 |\n",
       "| 64 | 1 | 1 | 1 | 30 | 0 | 0 | 0 | 1 | 0 | 0 | ⋯ | 0 | 3 |  5 |  1 | 0 | 0 | 7  | 5 | 8 | 0 |\n",
       "| 72 | 1 | 1 | 1 | 27 | 0 | 0 | 1 | 1 | 0 | 0 | ⋯ | 0 | 2 |  4 |  2 | 0 | 1 | 7  | 6 | 8 | 1 |\n",
       "| 90 | 1 | 1 | 1 | 31 | 1 | 0 | 1 | 1 | 0 | 1 | ⋯ | 0 | 3 |  0 |  0 | 0 | 1 | 13 | 5 | 6 | 1 |\n",
       "| 95 | 0 | 0 | 1 | 31 | 1 | 0 | 0 | 1 | 1 | 1 | ⋯ | 0 | 1 |  0 |  0 | 0 | 0 | 5  | 6 | 7 | 0 |\n",
       "| 99 | 1 | 1 | 1 | 28 | 0 | 0 | 0 | 0 | 1 | 1 | ⋯ | 0 | 2 |  0 |  0 | 1 | 0 | 11 | 4 | 3 | 0 |\n",
       "| 104 | 1 | 1 | 1 | 30 | 0 | 0 | 0 | 1 | 1 | 1 | ⋯ | 0 | 2 |  0 |  0 | 0 | 1 | 9  | 6 | 7 | 1 |\n",
       "| 113 | 0 | 0 | 1 | 30 | 1 | 0 | 0 | 0 | 0 | 1 | ⋯ | 0 | 3 |  0 |  0 | 0 | 1 | 9  | 4 | 6 | 0 |\n",
       "| 119 | 1 | 1 | 1 | 35 | 1 | 0 | 0 | 0 | 0 | 1 | ⋯ | 0 | 2 | 20 |  4 | 0 | 0 | 7  | 5 | 7 | 0 |\n",
       "| 120 | 0 | 1 | 1 | 23 | 0 | 0 | 0 | 1 | 0 | 0 | ⋯ | 0 | 1 |  0 |  0 | 0 | 1 | 7  | 6 | 6 | 0 |\n",
       "| 125 | 0 | 1 | 1 | 39 | 1 | 0 | 0 | 1 | 0 | 1 | ⋯ | 0 | 3 |  0 |  0 | 1 | 1 | 5  | 5 | 7 | 0 |\n",
       "| 127 | 1 | 1 | 1 | 25 | 1 | 1 | 1 | 1 | 0 | 0 | ⋯ | 0 | 4 |  0 | 30 | 1 | 1 | 12 | 5 | 5 | 0 |\n",
       "| 130 | 1 | 1 | 1 | 29 | 1 | 0 | 0 | 0 | 1 | 1 | ⋯ | 0 | 5 |  0 | 30 | 1 | 1 | 13 | 4 | 3 | 0 |\n",
       "| 131 | 0 | 0 | 1 | 31 | 1 | 0 | 0 | 1 | 0 | 1 | ⋯ | 0 | 1 |  0 |  0 | 0 | 1 | 4  | 4 | 8 | 0 |\n",
       "| 134 | 0 | 1 | 1 | 19 | 1 | 0 | 0 | 0 | 0 | 0 | ⋯ | 0 | 5 | 30 | 30 | 0 | 0 | 8  | 3 | 4 | 0 |\n",
       "| 138 | 1 | 1 | 1 | 24 | 1 | 0 | 0 | 1 | 0 | 1 | ⋯ | 0 | 3 |  0 |  0 | 0 | 1 | 12 | 4 | 6 | 1 |\n",
       "| 140 | 1 | 1 | 1 | 31 | 1 | 0 | 0 | 0 | 0 | 1 | ⋯ | 1 | 4 |  1 |  6 | 1 | 0 | 9  | 5 | 7 | 0 |\n",
       "| 143 | 0 | 0 | 1 | 26 | 0 | 0 | 0 | 0 | 1 | 1 | ⋯ | 0 | 3 |  0 |  0 | 0 | 0 | 11 | 4 | 8 | 0 |\n",
       "| 148 | 0 | 0 | 1 | 34 | 0 | 0 | 0 | 1 | 1 | 1 | ⋯ | 0 | 2 |  0 |  0 | 0 | 0 | 7  | 5 | 6 | 0 |\n",
       "| 165 | 0 | 0 | 0 | 24 | 1 | 0 | 0 | 1 | 1 | 1 | ⋯ | 0 | 3 |  0 |  0 | 0 | 1 | 11 | 4 | 4 | 0 |\n",
       "| 189 | 1 | 0 | 1 | 43 | 1 | 0 | 0 | 0 | 0 | 1 | ⋯ | 0 | 4 |  0 |  7 | 1 | 0 | 10 | 5 | 2 | 0 |\n",
       "| ⋮ | ⋮ | ⋮ | ⋮ | ⋮ | ⋮ | ⋮ | ⋮ | ⋮ | ⋮ | ⋮ | ⋱ | ⋮ | ⋮ | ⋮ | ⋮ | ⋮ | ⋮ | ⋮ | ⋮ | ⋮ | ⋮ |\n",
       "| 253549 | 1 | 1 | 0 | 32 | 0 | 0 | 0 | 0 | 0 | 1 | ⋯ | 0 | 1 |  0 |  0 | 0 | 1 | 5  | 4 | 3 | 0 |\n",
       "| 253552 | 1 | 1 | 1 | 27 | 0 | 0 | 1 | 1 | 0 | 1 | ⋯ | 1 | 5 | 30 |  0 | 1 | 1 | 7  | 4 | 1 | 1 |\n",
       "| 253562 | 0 | 1 | 1 | 25 | 0 | 0 | 0 | 0 | 0 | 1 | ⋯ | 0 | 3 |  0 |  0 | 0 | 0 | 9  | 5 | 3 | 0 |\n",
       "| 253565 | 1 | 1 | 1 | 29 | 0 | 0 | 0 | 0 | 0 | 1 | ⋯ | 0 | 4 |  0 |  0 | 0 | 0 | 9  | 4 | 2 | 0 |\n",
       "| 253567 | 0 | 0 | 1 | 24 | 0 | 0 | 1 | 0 | 1 | 1 | ⋯ | 0 | 3 |  0 |  0 | 0 | 0 | 10 | 6 | 4 | 0 |\n",
       "| 253568 | 1 | 1 | 1 | 44 | 0 | 0 | 1 | 0 | 1 | 1 | ⋯ | 1 | 3 |  0 |  0 | 1 | 1 | 11 | 2 | 1 | 0 |\n",
       "| 253571 | 1 | 1 | 1 | 33 | 0 | 0 | 1 | 0 | 0 | 1 | ⋯ | 0 | 3 | 30 | 30 | 0 | 0 | 4  | 6 | 3 | 0 |\n",
       "| 253580 | 1 | 1 | 1 | 30 | 0 | 0 | 1 | 1 | 1 | 1 | ⋯ | 0 | 3 |  0 |  0 | 0 | 1 | 9  | 2 | 3 | 0 |\n",
       "| 253581 | 1 | 0 | 1 | 37 | 0 | 0 | 0 | 0 | 0 | 1 | ⋯ | 0 | 4 |  0 | 14 | 0 | 1 | 8  | 6 | 2 | 1 |\n",
       "| 253584 | 0 | 0 | 1 | 22 | 0 | 0 | 0 | 0 | 1 | 1 | ⋯ | 0 | 2 |  0 |  0 | 0 | 1 | 2  | 5 | 8 | 0 |\n",
       "| 253586 | 1 | 1 | 1 | 25 | 1 | 0 | 0 | 0 | 0 | 1 | ⋯ | 0 | 4 |  0 |  0 | 0 | 1 | 10 | 3 | 1 | 0 |\n",
       "| 253588 | 0 | 0 | 1 | 36 | 0 | 0 | 0 | 0 | 1 | 0 | ⋯ | 0 | 2 |  0 |  0 | 0 | 1 | 2  | 6 | 5 | 0 |\n",
       "| 253590 | 0 | 0 | 1 | 27 | 0 | 0 | 0 | 0 | 0 | 1 | ⋯ | 0 | 3 |  6 |  0 | 0 | 0 | 2  | 6 | 6 | 0 |\n",
       "| 253592 | 1 | 0 | 1 | 31 | 0 | 0 | 1 | 1 | 1 | 1 | ⋯ | 1 | 4 |  0 | 30 | 0 | 1 | 11 | 2 | 1 | 1 |\n",
       "| 253595 | 0 | 0 | 1 | 26 | 1 | 0 | 0 | 0 | 1 | 1 | ⋯ | 0 | 4 |  0 | 10 | 0 | 0 | 7  | 5 | 7 | 1 |\n",
       "| 253609 | 0 | 0 | 1 | 29 | 0 | 0 | 0 | 1 | 1 | 1 | ⋯ | 1 | 4 |  0 | 30 | 1 | 0 | 3  | 4 | 1 | 0 |\n",
       "| 253613 | 1 | 1 | 1 | 30 | 0 | 0 | 0 | 1 | 0 | 1 | ⋯ | 1 | 5 |  6 | 30 | 1 | 0 | 11 | 2 | 2 | 1 |\n",
       "| 253620 | 0 | 0 | 1 | 18 | 1 | 0 | 0 | 1 | 1 | 1 | ⋯ | 1 | 3 |  0 |  4 | 0 | 0 | 3  | 6 | 3 | 0 |\n",
       "| 253633 | 0 | 0 | 1 | 28 | 0 | 0 | 0 | 0 | 1 | 1 | ⋯ | 0 | 3 |  0 |  0 | 0 | 0 | 2  | 5 | 6 | 0 |\n",
       "| 253634 | 1 | 0 | 1 | 31 | 0 | 0 | 0 | 1 | 0 | 0 | ⋯ | 0 | 3 |  0 | 14 | 0 | 0 | 4  | 6 | 4 | 0 |\n",
       "| 253635 | 0 | 0 | 1 | 32 | 1 | 0 | 0 | 1 | 0 | 1 | ⋯ | 0 | 3 |  0 |  0 | 0 | 1 | 4  | 4 | 7 | 0 |\n",
       "| 253638 | 0 | 0 | 1 | 20 | 0 | 0 | 0 | 1 | 1 | 1 | ⋯ | 0 | 3 |  0 |  0 | 0 | 0 | 2  | 5 | 1 | 0 |\n",
       "| 253639 | 0 | 0 | 1 | 24 | 0 | 0 | 0 | 1 | 1 | 1 | ⋯ | 0 | 2 |  0 |  0 | 0 | 1 | 1  | 4 | 6 | 0 |\n",
       "| 253642 | 0 | 1 | 1 | 26 | 0 | 0 | 0 | 0 | 0 | 1 | ⋯ | 0 | 3 |  0 |  0 | 0 | 0 | 12 | 4 | 4 | 0 |\n",
       "| 253649 | 0 | 0 | 1 | 28 | 0 | 0 | 0 | 0 | 0 | 1 | ⋯ | 1 | 3 |  6 | 14 | 0 | 1 | 5  | 5 | 1 | 0 |\n",
       "| 253656 | 0 | 0 | 1 | 28 | 0 | 0 | 0 | 1 | 1 | 1 | ⋯ | 0 | 2 |  0 |  0 | 0 | 0 | 2  | 6 | 4 | 0 |\n",
       "| 253663 | 0 | 0 | 1 | 16 | 0 | 0 | 0 | 1 | 0 | 1 | ⋯ | 0 | 1 |  0 |  0 | 0 | 0 | 5  | 6 | 2 | 0 |\n",
       "| 253664 | 0 | 0 | 1 | 23 | 0 | 0 | 0 | 0 | 1 | 0 | ⋯ | 1 | 2 |  0 | 30 | 0 | 0 | 5  | 6 | 2 | 0 |\n",
       "| 253674 | 1 | 0 | 1 | 42 | 0 | 0 | 0 | 1 | 1 | 1 | ⋯ | 0 | 3 | 14 |  4 | 0 | 1 | 3  | 6 | 8 | 0 |\n",
       "| 253677 | 1 | 1 | 1 | 18 | 0 | 0 | 0 | 0 | 0 | 0 | ⋯ | 0 | 4 |  0 |  0 | 1 | 0 | 11 | 2 | 4 | 1 |\n",
       "\n"
      ],
      "text/plain": [
       "       HighBP HighChol CholCheck BMI Smoker Stroke HeartDiseaseorAttack\n",
       "14     1      1        1         28  0      0      0                   \n",
       "17     1      1        1         21  0      0      0                   \n",
       "18     0      0        1         23  1      0      0                   \n",
       "23     0      0        1         28  1      0      0                   \n",
       "27     1      1        1         37  1      1      1                   \n",
       "40     1      1        1         24  1      0      0                   \n",
       "44     1      0        1         23  1      0      0                   \n",
       "47     0      0        1         31  0      0      0                   \n",
       "55     0      1        1         34  1      0      0                   \n",
       "63     1      0        1         34  1      0      0                   \n",
       "64     1      1        1         30  0      0      0                   \n",
       "72     1      1        1         27  0      0      1                   \n",
       "90     1      1        1         31  1      0      1                   \n",
       "95     0      0        1         31  1      0      0                   \n",
       "99     1      1        1         28  0      0      0                   \n",
       "104    1      1        1         30  0      0      0                   \n",
       "113    0      0        1         30  1      0      0                   \n",
       "119    1      1        1         35  1      0      0                   \n",
       "120    0      1        1         23  0      0      0                   \n",
       "125    0      1        1         39  1      0      0                   \n",
       "127    1      1        1         25  1      1      1                   \n",
       "130    1      1        1         29  1      0      0                   \n",
       "131    0      0        1         31  1      0      0                   \n",
       "134    0      1        1         19  1      0      0                   \n",
       "138    1      1        1         24  1      0      0                   \n",
       "140    1      1        1         31  1      0      0                   \n",
       "143    0      0        1         26  0      0      0                   \n",
       "148    0      0        1         34  0      0      0                   \n",
       "165    0      0        0         24  1      0      0                   \n",
       "189    1      0        1         43  1      0      0                   \n",
       "<U+22EE>      <U+22EE> <U+22EE> <U+22EE>  <U+22EE> <U+22EE> <U+22EE> <U+22EE>            \n",
       "253549 1      1        0         32  0      0      0                   \n",
       "253552 1      1        1         27  0      0      1                   \n",
       "253562 0      1        1         25  0      0      0                   \n",
       "253565 1      1        1         29  0      0      0                   \n",
       "253567 0      0        1         24  0      0      1                   \n",
       "253568 1      1        1         44  0      0      1                   \n",
       "253571 1      1        1         33  0      0      1                   \n",
       "253580 1      1        1         30  0      0      1                   \n",
       "253581 1      0        1         37  0      0      0                   \n",
       "253584 0      0        1         22  0      0      0                   \n",
       "253586 1      1        1         25  1      0      0                   \n",
       "253588 0      0        1         36  0      0      0                   \n",
       "253590 0      0        1         27  0      0      0                   \n",
       "253592 1      0        1         31  0      0      1                   \n",
       "253595 0      0        1         26  1      0      0                   \n",
       "253609 0      0        1         29  0      0      0                   \n",
       "253613 1      1        1         30  0      0      0                   \n",
       "253620 0      0        1         18  1      0      0                   \n",
       "253633 0      0        1         28  0      0      0                   \n",
       "253634 1      0        1         31  0      0      0                   \n",
       "253635 0      0        1         32  1      0      0                   \n",
       "253638 0      0        1         20  0      0      0                   \n",
       "253639 0      0        1         24  0      0      0                   \n",
       "253642 0      1        1         26  0      0      0                   \n",
       "253649 0      0        1         28  0      0      0                   \n",
       "253656 0      0        1         28  0      0      0                   \n",
       "253663 0      0        1         16  0      0      0                   \n",
       "253664 0      0        1         23  0      0      0                   \n",
       "253674 1      0        1         42  0      0      0                   \n",
       "253677 1      1        1         18  0      0      0                   \n",
       "       PhysActivity Fruits Veggies <U+22EF>        NoDocbcCost GenHlth MentHlth\n",
       "14     0            0      1       <U+22EF> 0           4        0      \n",
       "17     1            1      1       <U+22EF> 0           3        0      \n",
       "18     1            0      0       <U+22EF> 0           2        0      \n",
       "23     0            0      1       <U+22EF> 0           3        0      \n",
       "27     0            0      1       <U+22EF> 0           5        0      \n",
       "40     0            1      1       <U+22EF> 0           5        0      \n",
       "44     1            0      1       <U+22EF> 0           2       25      \n",
       "47     1            1      1       <U+22EF> 0           2        5      \n",
       "55     0            0      1       <U+22EF> 0           2        4      \n",
       "63     1            1      1       <U+22EF> 1           3        0      \n",
       "64     1            0      0       <U+22EF> 0           3        5      \n",
       "72     1            0      0       <U+22EF> 0           2        4      \n",
       "90     1            0      1       <U+22EF> 0           3        0      \n",
       "95     1            1      1       <U+22EF> 0           1        0      \n",
       "99     0            1      1       <U+22EF> 0           2        0      \n",
       "104    1            1      1       <U+22EF> 0           2        0      \n",
       "113    0            0      1       <U+22EF> 0           3        0      \n",
       "119    0            0      1       <U+22EF> 0           2       20      \n",
       "120    1            0      0       <U+22EF> 0           1        0      \n",
       "125    1            0      1       <U+22EF> 0           3        0      \n",
       "127    1            0      0       <U+22EF> 0           4        0      \n",
       "130    0            1      1       <U+22EF> 0           5        0      \n",
       "131    1            0      1       <U+22EF> 0           1        0      \n",
       "134    0            0      0       <U+22EF> 0           5       30      \n",
       "138    1            0      1       <U+22EF> 0           3        0      \n",
       "140    0            0      1       <U+22EF> 1           4        1      \n",
       "143    0            1      1       <U+22EF> 0           3        0      \n",
       "148    1            1      1       <U+22EF> 0           2        0      \n",
       "165    1            1      1       <U+22EF> 0           3        0      \n",
       "189    0            0      1       <U+22EF> 0           4        0      \n",
       "<U+22EE>      <U+22EE>     <U+22EE> <U+22EE> <U+22F1> <U+22EE>    <U+22EE> <U+22EE>\n",
       "253549 0            0      1       <U+22EF> 0           1        0      \n",
       "253552 1            0      1       <U+22EF> 1           5       30      \n",
       "253562 0            0      1       <U+22EF> 0           3        0      \n",
       "253565 0            0      1       <U+22EF> 0           4        0      \n",
       "253567 0            1      1       <U+22EF> 0           3        0      \n",
       "253568 0            1      1       <U+22EF> 1           3        0      \n",
       "253571 0            0      1       <U+22EF> 0           3       30      \n",
       "253580 1            1      1       <U+22EF> 0           3        0      \n",
       "253581 0            0      1       <U+22EF> 0           4        0      \n",
       "253584 0            1      1       <U+22EF> 0           2        0      \n",
       "253586 0            0      1       <U+22EF> 0           4        0      \n",
       "253588 0            1      0       <U+22EF> 0           2        0      \n",
       "253590 0            0      1       <U+22EF> 0           3        6      \n",
       "253592 1            1      1       <U+22EF> 1           4        0      \n",
       "253595 0            1      1       <U+22EF> 0           4        0      \n",
       "253609 1            1      1       <U+22EF> 1           4        0      \n",
       "253613 1            0      1       <U+22EF> 1           5        6      \n",
       "253620 1            1      1       <U+22EF> 1           3        0      \n",
       "253633 0            1      1       <U+22EF> 0           3        0      \n",
       "253634 1            0      0       <U+22EF> 0           3        0      \n",
       "253635 1            0      1       <U+22EF> 0           3        0      \n",
       "253638 1            1      1       <U+22EF> 0           3        0      \n",
       "253639 1            1      1       <U+22EF> 0           2        0      \n",
       "253642 0            0      1       <U+22EF> 0           3        0      \n",
       "253649 0            0      1       <U+22EF> 1           3        6      \n",
       "253656 1            1      1       <U+22EF> 0           2        0      \n",
       "253663 1            0      1       <U+22EF> 0           1        0      \n",
       "253664 0            1      0       <U+22EF> 1           2        0      \n",
       "253674 1            1      1       <U+22EF> 0           3       14      \n",
       "253677 0            0      0       <U+22EF> 0           4        0      \n",
       "       PhysHlth DiffWalk Sex Age Education Income Diabetes_binary\n",
       "14      0       1        0   11  4         6      1              \n",
       "17      0       0        0   10  4         3      0              \n",
       "18      0       0        1   7   5         6      1              \n",
       "23      7       0        1   5   5         5      0              \n",
       "27      0       1        1   10  6         5      1              \n",
       "40     30       0        1   9   3         1      0              \n",
       "44      0       0        0   9   6         8      0              \n",
       "47      0       0        0   7   5         2      0              \n",
       "55      0       0        0   4   6         8      0              \n",
       "63      0       0        0   9   6         5      0              \n",
       "64      1       0        0   7   5         8      0              \n",
       "72      2       0        1   7   6         8      1              \n",
       "90      0       0        1   13  5         6      1              \n",
       "95      0       0        0   5   6         7      0              \n",
       "99      0       1        0   11  4         3      0              \n",
       "104     0       0        1   9   6         7      1              \n",
       "113     0       0        1   9   4         6      0              \n",
       "119     4       0        0   7   5         7      0              \n",
       "120     0       0        1   7   6         6      0              \n",
       "125     0       1        1   5   5         7      0              \n",
       "127    30       1        1   12  5         5      0              \n",
       "130    30       1        1   13  4         3      0              \n",
       "131     0       0        1   4   4         8      0              \n",
       "134    30       0        0   8   3         4      0              \n",
       "138     0       0        1   12  4         6      1              \n",
       "140     6       1        0   9   5         7      0              \n",
       "143     0       0        0   11  4         8      0              \n",
       "148     0       0        0   7   5         6      0              \n",
       "165     0       0        1   11  4         4      0              \n",
       "189     7       1        0   10  5         2      0              \n",
       "<U+22EE>      <U+22EE> <U+22EE> <U+22EE> <U+22EE> <U+22EE>  <U+22EE> <U+22EE>       \n",
       "253549  0       0        1   5   4         3      0              \n",
       "253552  0       1        1   7   4         1      1              \n",
       "253562  0       0        0   9   5         3      0              \n",
       "253565  0       0        0   9   4         2      0              \n",
       "253567  0       0        0   10  6         4      0              \n",
       "253568  0       1        1   11  2         1      0              \n",
       "253571 30       0        0   4   6         3      0              \n",
       "253580  0       0        1   9   2         3      0              \n",
       "253581 14       0        1   8   6         2      1              \n",
       "253584  0       0        1   2   5         8      0              \n",
       "253586  0       0        1   10  3         1      0              \n",
       "253588  0       0        1   2   6         5      0              \n",
       "253590  0       0        0   2   6         6      0              \n",
       "253592 30       0        1   11  2         1      1              \n",
       "253595 10       0        0   7   5         7      1              \n",
       "253609 30       1        0   3   4         1      0              \n",
       "253613 30       1        0   11  2         2      1              \n",
       "253620  4       0        0   3   6         3      0              \n",
       "253633  0       0        0   2   5         6      0              \n",
       "253634 14       0        0   4   6         4      0              \n",
       "253635  0       0        1   4   4         7      0              \n",
       "253638  0       0        0   2   5         1      0              \n",
       "253639  0       0        1   1   4         6      0              \n",
       "253642  0       0        0   12  4         4      0              \n",
       "253649 14       0        1   5   5         1      0              \n",
       "253656  0       0        0   2   6         4      0              \n",
       "253663  0       0        0   5   6         2      0              \n",
       "253664 30       0        0   5   6         2      0              \n",
       "253674  4       0        1   3   6         8      0              \n",
       "253677  0       1        0   11  2         4      1              "
      ]
     },
     "metadata": {},
     "output_type": "display_data"
    }
   ],
   "source": [
    "testing_df"
   ]
  },
  {
   "cell_type": "markdown",
   "id": "3e507d20-bb6d-4104-981a-7f0036e06041",
   "metadata": {
    "id": "3e507d20-bb6d-4104-981a-7f0036e06041"
   },
   "source": [
    "### 4.2. Build the model"
   ]
  },
  {
   "cell_type": "code",
   "execution_count": 331,
   "id": "dfe06685-87a6-45e8-9742-418ee99ac6d8",
   "metadata": {},
   "outputs": [
    {
     "name": "stdout",
     "output_type": "stream",
     "text": [
      "'data.frame':\t202945 obs. of  22 variables:\n",
      " $ HighBP              : Factor w/ 2 levels \"0\",\"1\": 2 1 2 2 2 2 2 2 2 1 ...\n",
      " $ HighChol            : Factor w/ 2 levels \"0\",\"1\": 2 1 2 1 2 2 1 2 2 1 ...\n",
      " $ CholCheck           : Factor w/ 2 levels \"0\",\"1\": 2 1 2 2 2 2 2 2 2 2 ...\n",
      " $ BMI                 : int  40 25 28 27 24 25 30 25 30 24 ...\n",
      " $ Smoker              : Factor w/ 2 levels \"0\",\"1\": 2 2 1 1 1 2 2 2 2 1 ...\n",
      " $ Stroke              : Factor w/ 2 levels \"0\",\"1\": 1 1 1 1 1 1 1 1 1 1 ...\n",
      " $ HeartDiseaseorAttack: Factor w/ 2 levels \"0\",\"1\": 1 1 1 1 1 1 1 1 2 1 ...\n",
      " $ PhysActivity        : Factor w/ 2 levels \"0\",\"1\": 1 2 1 2 2 2 1 2 1 1 ...\n",
      " $ Fruits              : Factor w/ 2 levels \"0\",\"1\": 1 1 2 2 2 2 1 1 2 1 ...\n",
      " $ Veggies             : Factor w/ 2 levels \"0\",\"1\": 2 1 1 2 2 2 1 2 2 2 ...\n",
      " $ HvyAlcoholConsump   : Factor w/ 2 levels \"0\",\"1\": 1 1 1 1 1 1 1 1 1 1 ...\n",
      " $ AnyHealthcare       : Factor w/ 2 levels \"0\",\"1\": 2 1 2 2 2 2 2 2 2 2 ...\n",
      " $ NoDocbcCost         : Factor w/ 2 levels \"0\",\"1\": 1 2 2 1 1 1 1 1 1 1 ...\n",
      " $ GenHlth             : Ord.factor w/ 5 levels \"1\"<\"2\"<\"3\"<\"4\"<..: 5 3 5 2 2 2 3 3 5 2 ...\n",
      " $ MentHlth            : int  18 0 30 0 3 0 0 0 30 0 ...\n",
      " $ PhysHlth            : int  15 0 30 0 0 2 14 0 30 0 ...\n",
      " $ DiffWalk            : Factor w/ 2 levels \"0\",\"1\": 2 1 2 1 1 1 1 2 2 1 ...\n",
      " $ Sex                 : Factor w/ 2 levels \"0\",\"1\": 1 1 1 1 1 2 1 1 1 2 ...\n",
      " $ Age                 : Ord.factor w/ 13 levels \"1\"<\"2\"<\"3\"<\"4\"<..: 9 7 9 11 11 10 9 11 9 8 ...\n",
      " $ Education           : Ord.factor w/ 6 levels \"1\"<\"2\"<\"3\"<\"4\"<..: 4 6 4 3 5 6 6 4 5 4 ...\n",
      " $ Income              : Ord.factor w/ 8 levels \"1\"<\"2\"<\"3\"<\"4\"<..: 3 1 8 6 4 8 7 4 1 3 ...\n",
      " $ Diabetes_binary     : Factor w/ 2 levels \"0\",\"1\": 1 1 1 1 1 1 1 1 2 1 ...\n"
     ]
    }
   ],
   "source": [
    "str(training_df)"
   ]
  },
  {
   "cell_type": "code",
   "execution_count": 335,
   "id": "qAXN9k9dYDwp",
   "metadata": {
    "executionInfo": {
     "elapsed": 385,
     "status": "ok",
     "timestamp": 1715182400161,
     "user": {
      "displayName": "Minh hiếu Phạm",
      "userId": "13621231777531886646"
     },
     "user_tz": -420
    },
    "id": "qAXN9k9dYDwp"
   },
   "outputs": [],
   "source": [
    "basic_min_model = glm(Diabetes_binary ~ 1 , data = training_df, family = binomial)"
   ]
  },
  {
   "cell_type": "code",
   "execution_count": 334,
   "id": "64aa1413-731c-4599-9075-73bc7c41e8fa",
   "metadata": {
    "executionInfo": {
     "elapsed": 8955,
     "status": "ok",
     "timestamp": 1715182399796,
     "user": {
      "displayName": "Minh hiếu Phạm",
      "userId": "13621231777531886646"
     },
     "user_tz": -420
    },
    "id": "64aa1413-731c-4599-9075-73bc7c41e8fa"
   },
   "outputs": [],
   "source": [
    "basic_max_model = glm(Diabetes_binary ~ . , data = training_df, family = binomial)"
   ]
  },
  {
   "cell_type": "markdown",
   "id": "154abfef-1a58-4542-bcb5-7b287a1eb0f5",
   "metadata": {
    "id": "154abfef-1a58-4542-bcb5-7b287a1eb0f5"
   },
   "source": [
    "#### 4.3.1. AIC stepwise"
   ]
  },
  {
   "cell_type": "code",
   "execution_count": 350,
   "id": "c02813f4-9037-428b-a705-444b3166aa9d",
   "metadata": {
    "colab": {
     "base_uri": "https://localhost:8080/"
    },
    "executionInfo": {
     "elapsed": 135012,
     "status": "ok",
     "timestamp": 1715182535168,
     "user": {
      "displayName": "Minh hiếu Phạm",
      "userId": "13621231777531886646"
     },
     "user_tz": -420
    },
    "id": "c02813f4-9037-428b-a705-444b3166aa9d",
    "outputId": "ec7bd394-07ba-44b1-fc0b-ae124277042e",
    "scrolled": true
   },
   "outputs": [],
   "source": [
    "# BASIC_AIC_FORWARD\n",
    "# BASIC_AIC_FORWARD_result = MASS::stepAIC(basic_min_model, direction = \"forward\", k = 2, scope = list(upper = basic_max_model, lower = basic_min_model))"
   ]
  },
  {
   "cell_type": "code",
   "execution_count": 351,
   "id": "rQ-xq05Nb_kN",
   "metadata": {
    "executionInfo": {
     "elapsed": 22,
     "status": "ok",
     "timestamp": 1715182535168,
     "user": {
      "displayName": "Minh hiếu Phạm",
      "userId": "13621231777531886646"
     },
     "user_tz": -420
    },
    "id": "rQ-xq05Nb_kN"
   },
   "outputs": [],
   "source": [
    "# BASIC_AIC_BACKWARD\n",
    "# BASIC_AIC_BACKWARD_result = MASS::stepAIC(basic_max_model, direction = \"backward\", scope = list(upper = basic_max_model, lower = basic_min_model))"
   ]
  },
  {
   "cell_type": "code",
   "execution_count": 356,
   "id": "f919876d-c9fe-407a-9598-51fea1276899",
   "metadata": {
    "executionInfo": {
     "elapsed": 21,
     "status": "ok",
     "timestamp": 1715182535168,
     "user": {
      "displayName": "Minh hiếu Phạm",
      "userId": "13621231777531886646"
     },
     "user_tz": -420
    },
    "id": "f919876d-c9fe-407a-9598-51fea1276899"
   },
   "outputs": [],
   "source": [
    "# BEST_BASIC_AIC"
   ]
  },
  {
   "cell_type": "markdown",
   "id": "ef817cdb-50b0-44d1-b682-b29fd6c3d7ef",
   "metadata": {
    "id": "ef817cdb-50b0-44d1-b682-b29fd6c3d7ef"
   },
   "source": [
    "#### 4.3.2. BIC stepwise"
   ]
  },
  {
   "cell_type": "code",
   "execution_count": 358,
   "id": "aVDRNZDkfgj6",
   "metadata": {
    "executionInfo": {
     "elapsed": 21,
     "status": "ok",
     "timestamp": 1715182535169,
     "user": {
      "displayName": "Minh hiếu Phạm",
      "userId": "13621231777531886646"
     },
     "user_tz": -420
    },
    "id": "aVDRNZDkfgj6"
   },
   "outputs": [],
   "source": [
    "# BASIC_BIC_FORWARD\n",
    "# BASIC_BIC_FORWARD_result = MASS::stepAIC(basic_min_model, direction = \"forward\", k = log(nrow(training_df), scope = list(upper = basic_max_model, lower = basic_min_model))"
   ]
  },
  {
   "cell_type": "code",
   "execution_count": 359,
   "id": "0213065a-913d-462e-a073-38a589c6ca42",
   "metadata": {
    "executionInfo": {
     "elapsed": 20,
     "status": "ok",
     "timestamp": 1715182535169,
     "user": {
      "displayName": "Minh hiếu Phạm",
      "userId": "13621231777531886646"
     },
     "user_tz": -420
    },
    "id": "0213065a-913d-462e-a073-38a589c6ca42"
   },
   "outputs": [],
   "source": [
    "# BIC_BASIC_BACKWARD\n",
    "# BIC_BASIC_BACKWARD_result = MASS::stepAIC(basic_max_model, direction = \"backward\", k = log(nrow(training_df), scope = list(upper = basic_max_model, lower = basic_min_model))"
   ]
  },
  {
   "cell_type": "code",
   "execution_count": 355,
   "id": "2b35419f-e68c-4527-b5af-04ebce113825",
   "metadata": {
    "executionInfo": {
     "elapsed": 20,
     "status": "ok",
     "timestamp": 1715182535169,
     "user": {
      "displayName": "Minh hiếu Phạm",
      "userId": "13621231777531886646"
     },
     "user_tz": -420
    },
    "id": "2b35419f-e68c-4527-b5af-04ebce113825"
   },
   "outputs": [],
   "source": [
    "# BEST_BASIC_BIC"
   ]
  },
  {
   "cell_type": "markdown",
   "id": "79e32971-945a-483b-b995-66d853cf8591",
   "metadata": {
    "id": "79e32971-945a-483b-b995-66d853cf8591"
   },
   "source": [
    "### 4.4. Best model selection"
   ]
  },
  {
   "cell_type": "markdown",
   "id": "b8574273-b73a-4f58-8001-0713b09e031a",
   "metadata": {
    "id": "b8574273-b73a-4f58-8001-0713b09e031a"
   },
   "source": [
    "### 4.5. Link function selection"
   ]
  },
  {
   "cell_type": "code",
   "execution_count": 365,
   "id": "bc30818c-bb0c-4b9f-b04c-01f826aec88c",
   "metadata": {
    "colab": {
     "base_uri": "https://localhost:8080/",
     "height": 224
    },
    "executionInfo": {
     "elapsed": 33,
     "status": "ok",
     "timestamp": 1715182548371,
     "user": {
      "displayName": "Minh hiếu Phạm",
      "userId": "13621231777531886646"
     },
     "user_tz": -420
    },
    "id": "bc30818c-bb0c-4b9f-b04c-01f826aec88c",
    "outputId": "889fffe8-44f3-4e89-8e2a-9f5d4b7067c9"
   },
   "outputs": [],
   "source": [
    "# # Create the dataframe\n",
    "# aic_link_function_df <- data.frame(\n",
    "#   link_function_name = c(\"logit\", \"probit\", \"cauchit\", \"cloglog\"),\n",
    "#   aic_value = rep(0, 4)\n",
    "# )\n",
    "# aic_link_function_df"
   ]
  },
  {
   "cell_type": "code",
   "execution_count": 371,
   "id": "6e9779a8-0668-43d9-ae16-ca3e8cee410a",
   "metadata": {},
   "outputs": [],
   "source": [
    "# aic_link_function_df[2, 2] = summary(probit_best_bic_model)$aic"
   ]
  },
  {
   "cell_type": "code",
   "execution_count": 366,
   "id": "9a3c5376-c9ac-4fcf-aca9-3bc32995e528",
   "metadata": {
    "executionInfo": {
     "elapsed": 6353,
     "status": "ok",
     "timestamp": 1715182554694,
     "user": {
      "displayName": "Minh hiếu Phạm",
      "userId": "13621231777531886646"
     },
     "user_tz": -420
    },
    "id": "9a3c5376-c9ac-4fcf-aca9-3bc32995e528"
   },
   "outputs": [],
   "source": [
    "# my_model = glm(Diabetes_binary ~ HighBP + HighChol + CholCheck + BMI + Stroke +\n",
    "#     HeartDiseaseorAttack + PhysActivity + Fruits + HvyAlcoholConsump +\n",
    "#     GenHlth + MentHlth + PhysHlth + DiffWalk + Sex + Age + Education +\n",
    "#     Income, data = training_df, family = binomial(link = \"logit\"))"
   ]
  },
  {
   "cell_type": "code",
   "execution_count": 367,
   "id": "785151d2-4dfe-47ed-8ffa-96bfe91905f0",
   "metadata": {},
   "outputs": [],
   "source": [
    "# summary(my_model)"
   ]
  },
  {
   "cell_type": "code",
   "execution_count": 368,
   "id": "5a832493-a4e6-47e7-97aa-3ec08dbb368b",
   "metadata": {},
   "outputs": [],
   "source": [
    "# my_model2 = update(my_model, family = binomial(link = \"cloglog\"))"
   ]
  },
  {
   "cell_type": "code",
   "execution_count": 369,
   "id": "d0003c80-66f8-4869-8072-cecb1788076a",
   "metadata": {},
   "outputs": [],
   "source": [
    "# summary(my_model2)"
   ]
  },
  {
   "cell_type": "code",
   "execution_count": 372,
   "id": "b3407484-524d-431b-ba0d-160dba449907",
   "metadata": {
    "colab": {
     "base_uri": "https://localhost:8080/",
     "height": 129
    },
    "executionInfo": {
     "elapsed": 40,
     "status": "ok",
     "timestamp": 1715182582419,
     "user": {
      "displayName": "Minh hiếu Phạm",
      "userId": "13621231777531886646"
     },
     "user_tz": -420
    },
    "id": "b3407484-524d-431b-ba0d-160dba449907",
    "outputId": "5852601d-c863-4078-e243-7f6b09c1a42d"
   },
   "outputs": [],
   "source": [
    "# aic_link_function_df[which.min(aic_link_function_df$aic_value), ]"
   ]
  },
  {
   "cell_type": "code",
   "execution_count": 375,
   "id": "e05f57c1-8837-4961-bad0-91b137b5da96",
   "metadata": {
    "executionInfo": {
     "elapsed": 39,
     "status": "ok",
     "timestamp": 1715182582420,
     "user": {
      "displayName": "Minh hiếu Phạm",
      "userId": "13621231777531886646"
     },
     "user_tz": -420
    },
    "id": "e05f57c1-8837-4961-bad0-91b137b5da96"
   },
   "outputs": [],
   "source": [
    "# COMMENT\n",
    "# Best model with link function"
   ]
  },
  {
   "cell_type": "markdown",
   "id": "bf398b59-aa32-4d75-8653-ed018fa0caa0",
   "metadata": {
    "id": "bf398b59-aa32-4d75-8653-ed018fa0caa0"
   },
   "source": [
    "## 5. Model training and evaluating"
   ]
  },
  {
   "cell_type": "code",
   "execution_count": 376,
   "id": "a23556a9-c6aa-4027-9e2b-b1b5436009af",
   "metadata": {
    "executionInfo": {
     "elapsed": 39,
     "status": "ok",
     "timestamp": 1715182582420,
     "user": {
      "displayName": "Minh hiếu Phạm",
      "userId": "13621231777531886646"
     },
     "user_tz": -420
    },
    "id": "a23556a9-c6aa-4027-9e2b-b1b5436009af"
   },
   "outputs": [],
   "source": [
    "evaluate_classification_model = function(binary_predictions, binary_real_data)\n",
    "{\n",
    "    accuracy = mean(binary_predictions == binary_real_data)\n",
    "    precision <- sum(binary_predictions == 1 & binary_real_data == 1) / sum(binary_predictions == 1)\n",
    "    recall <- sum(binary_predictions == 1 & binary_real_data == 1) / sum(binary_real_data == 1)\n",
    "    f1_score <- 2 * precision * recall / (precision + recall)\n",
    "\n",
    "    # Print the results\n",
    "    cat(\"Accuracy:\", accuracy, \"\\n\")\n",
    "    cat(\"Precision:\", precision, \"\\n\")\n",
    "    cat(\"Recall:\", recall, \"\\n\")\n",
    "    cat(\"F1 Score:\", f1_score, \"\\n\")\n",
    "}\n",
    "\n",
    "one_for_all_metric = function(model, new_data, variable_name, binary_threshold = 0.5)\n",
    "{\n",
    "    predictions = predict(model, newdata = new_data, type = \"response\")\n",
    "    binary_predictions = ifelse(predictions >= binary_threshold, 1, 0)\n",
    "    actual_response = new_data[, variable_name]\n",
    "\n",
    "    cat(\"\\n\", \"Metric 1: ANOVA\", \"\\n\")\n",
    "    print(summary(model))\n",
    "\n",
    "    cat(\"\\n\", \"Metric 2: Model performance\", \"\\n\")\n",
    "    print(confusionMatrix(table(binary_predictions, actual_response)))\n",
    "    evaluate_classification_model(binary_predictions, actual_response)\n",
    "\n",
    "    cat(\"\\n\", \"Metric 3: ROC curve - AUC\", \"\\n\")\n",
    "    roc_score = pROC::roc(actual_response, binary_predictions)\n",
    "    cat(\"AUC: \", auc(roc_score))\n",
    "    plot(roc_score ,main = \"ROC curve -- Logistic Regression \")\n",
    "\n",
    "    cat(\"\\n\", \"Metric 4: Overdispersion tests\", \"\\n\")\n",
    "    DHARMa::testDispersion(model, alternative = \"greater\")\n",
    "\n",
    "    cat(\"\\n\", \"Metric 4: Goodness-of-fit\", \"\\n\")\n",
    "    summary_model = summary(model)\n",
    "    cat(\"residual:\", summary_model$deviance, \"\\n\")\n",
    "    cat(\"dof:\", summary_model$df[2], \"\\n\")\n",
    "    cat(\"goodness-of-fit:\", 1- pchisq(summary_model$deviance, df = summary_model$df[2]))\n",
    "\n",
    "    cat(\"\\n\", \"Metric 5: QQ-norm\", \"\\n\")\n",
    "    qqnorm(residuals(probit_best_bic_model))\n",
    "    abline(a = 0, b = 1, col = \"red\")\n",
    "}"
   ]
  },
  {
   "cell_type": "code",
   "execution_count": 377,
   "id": "f7686173-8c65-4749-945c-2bc2a7ebdbe9",
   "metadata": {},
   "outputs": [],
   "source": [
    "# one_for_all_metric(temp_aic_model, testing_df, \"Diabetes_binary\")"
   ]
  },
  {
   "cell_type": "markdown",
   "id": "3419f7fb-ac92-48d2-acce-b10041b51073",
   "metadata": {
    "id": "3419f7fb-ac92-48d2-acce-b10041b51073"
   },
   "source": [
    "## TEST"
   ]
  },
  {
   "cell_type": "markdown",
   "id": "39f720e5-1a17-4f18-bafb-73422f61709b",
   "metadata": {
    "id": "39f720e5-1a17-4f18-bafb-73422f61709b"
   },
   "source": [
    "### 3.3. Training dataset oversampling"
   ]
  },
  {
   "cell_type": "code",
   "execution_count": 378,
   "id": "a2ada184-fd75-4f1f-81d8-5086cbad7288",
   "metadata": {
    "colab": {
     "base_uri": "https://localhost:8080/",
     "height": 69
    },
    "executionInfo": {
     "elapsed": 16,
     "status": "ok",
     "timestamp": 1715182360196,
     "user": {
      "displayName": "Minh hiếu Phạm",
      "userId": "13621231777531886646"
     },
     "user_tz": -420
    },
    "id": "a2ada184-fd75-4f1f-81d8-5086cbad7288",
    "outputId": "77709726-7b81-453c-aa12-e582a7f40fd1"
   },
   "outputs": [],
   "source": [
    "# table(training_df$Diabetes_binary)"
   ]
  },
  {
   "cell_type": "code",
   "execution_count": 379,
   "id": "2cff7344-145c-4766-9547-773532642b35",
   "metadata": {
    "executionInfo": {
     "elapsed": 1694,
     "status": "ok",
     "timestamp": 1715182365056,
     "user": {
      "displayName": "Minh hiếu Phạm",
      "userId": "13621231777531886646"
     },
     "user_tz": -420
    },
    "id": "2cff7344-145c-4766-9547-773532642b35"
   },
   "outputs": [],
   "source": [
    "# balanced_training_df = ROSE::ovun.sample(Diabetes_binary ~  ., data = training_df,\n",
    "#                                   p = 0.5, seed = SEED,\n",
    "#                                   method = \"over\")$data"
   ]
  },
  {
   "cell_type": "code",
   "execution_count": 380,
   "id": "2dbab752-ec2e-4939-89a4-b25579cb860e",
   "metadata": {
    "colab": {
     "base_uri": "https://localhost:8080/",
     "height": 69
    },
    "executionInfo": {
     "elapsed": 15,
     "status": "ok",
     "timestamp": 1715182365056,
     "user": {
      "displayName": "Minh hiếu Phạm",
      "userId": "13621231777531886646"
     },
     "user_tz": -420
    },
    "id": "2dbab752-ec2e-4939-89a4-b25579cb860e",
    "outputId": "2e6664d2-52cc-4416-f6dc-9426379f634e"
   },
   "outputs": [],
   "source": [
    "# table(balanced_training_df$Diabetes_binary)"
   ]
  },
  {
   "cell_type": "code",
   "execution_count": 381,
   "id": "8a8b27a1-3946-4657-ac38-c8658efd2c9e",
   "metadata": {
    "colab": {
     "base_uri": "https://localhost:8080/",
     "height": 1000
    },
    "executionInfo": {
     "elapsed": 12,
     "status": "ok",
     "timestamp": 1715182365057,
     "user": {
      "displayName": "Minh hiếu Phạm",
      "userId": "13621231777531886646"
     },
     "user_tz": -420
    },
    "id": "8a8b27a1-3946-4657-ac38-c8658efd2c9e",
    "outputId": "08d6c084-c98d-4614-8968-74a35ee607ab"
   },
   "outputs": [],
   "source": [
    "# balanced_training_df"
   ]
  },
  {
   "cell_type": "code",
   "execution_count": 382,
   "id": "6b91c9c2-d726-4619-b915-ab5c4d7b57ea",
   "metadata": {
    "colab": {
     "base_uri": "https://localhost:8080/",
     "height": 437
    },
    "executionInfo": {
     "elapsed": 1197,
     "status": "ok",
     "timestamp": 1715182366244,
     "user": {
      "displayName": "Minh hiếu Phạm",
      "userId": "13621231777531886646"
     },
     "user_tz": -420
    },
    "id": "6b91c9c2-d726-4619-b915-ab5c4d7b57ea",
    "outputId": "56c90c15-6ca5-4f26-fab3-c55dc2fb90bd"
   },
   "outputs": [],
   "source": [
    "# plot_binary_distribution(balanced_training_df, \"Diabetes_binary\", \"Balanced dataset: Diabetes_binary\")"
   ]
  },
  {
   "cell_type": "code",
   "execution_count": 383,
   "id": "363c6272-7578-41ed-ad75-9be2b855a45d",
   "metadata": {},
   "outputs": [],
   "source": [
    "# str(balanced_training_df)"
   ]
  },
  {
   "cell_type": "code",
   "execution_count": 384,
   "id": "5bda0d42-ba05-421b-8b01-b01c80bdfd65",
   "metadata": {
    "colab": {
     "base_uri": "https://localhost:8080/"
    },
    "executionInfo": {
     "elapsed": 443,
     "status": "ok",
     "timestamp": 1715182390847,
     "user": {
      "displayName": "Minh hiếu Phạm",
      "userId": "13621231777531886646"
     },
     "user_tz": -420
    },
    "id": "5bda0d42-ba05-421b-8b01-b01c80bdfd65",
    "outputId": "0bb9dcc7-4384-404f-f2c8-d7133bd6a562"
   },
   "outputs": [],
   "source": [
    "# str(testing_data)"
   ]
  }
 ],
 "metadata": {
  "colab": {
   "provenance": []
  },
  "kernelspec": {
   "display_name": "R",
   "language": "R",
   "name": "ir"
  },
  "language_info": {
   "codemirror_mode": "r",
   "file_extension": ".r",
   "mimetype": "text/x-r-source",
   "name": "R",
   "pygments_lexer": "r",
   "version": "4.0.5"
  }
 },
 "nbformat": 4,
 "nbformat_minor": 5
}
