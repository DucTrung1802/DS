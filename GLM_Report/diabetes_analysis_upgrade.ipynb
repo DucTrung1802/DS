{
 "cells": [
  {
   "cell_type": "markdown",
   "id": "9775ac29-68f2-4038-a44d-7ddcad6cd76a",
   "metadata": {},
   "source": [
    "# Diabetes Analysis"
   ]
  },
  {
   "cell_type": "markdown",
   "id": "512df902-fb91-4257-a7dd-4c6a1fcd460c",
   "metadata": {},
   "source": [
    "### Author: Ly Duc Trung"
   ]
  },
  {
   "cell_type": "markdown",
   "id": "b9abdf19-0780-46d7-9246-ac0b25747145",
   "metadata": {},
   "source": [
    "### Link: https://github.com/DucTrung1802/DS/blob/main/GLM_Report/diabetes_analysis_upgrade.ipynb"
   ]
  },
  {
   "cell_type": "markdown",
   "id": "deb0884f-4606-4ab4-93f5-43a781e1f32d",
   "metadata": {},
   "source": [
    "### Dataset Link: https://www.archive.ics.uci.edu/dataset/891/cdc+diabetes+health+indicators"
   ]
  },
  {
   "cell_type": "markdown",
   "id": "24268dcc-9c1b-4bc9-803b-930bb7eaa68c",
   "metadata": {},
   "source": [
    "## 0. Install and import libraries"
   ]
  },
  {
   "cell_type": "markdown",
   "id": "fadcda47-91d2-41e0-96f7-eceb060570dc",
   "metadata": {},
   "source": [
    "### 0.1. Check R version"
   ]
  },
  {
   "cell_type": "code",
   "execution_count": 9,
   "id": "a8502f57-a490-4226-ab07-808fa431ce9e",
   "metadata": {},
   "outputs": [
    {
     "data": {
      "text/html": [
       "<dl>\n",
       "\t<dt>$platform</dt>\n",
       "\t\t<dd>'x86_64-w64-mingw32'</dd>\n",
       "\t<dt>$arch</dt>\n",
       "\t\t<dd>'x86_64'</dd>\n",
       "\t<dt>$os</dt>\n",
       "\t\t<dd>'mingw32'</dd>\n",
       "\t<dt>$system</dt>\n",
       "\t\t<dd>'x86_64, mingw32'</dd>\n",
       "\t<dt>$status</dt>\n",
       "\t\t<dd>''</dd>\n",
       "\t<dt>$major</dt>\n",
       "\t\t<dd>'4'</dd>\n",
       "\t<dt>$minor</dt>\n",
       "\t\t<dd>'0.5'</dd>\n",
       "\t<dt>$year</dt>\n",
       "\t\t<dd>'2021'</dd>\n",
       "\t<dt>$month</dt>\n",
       "\t\t<dd>'03'</dd>\n",
       "\t<dt>$day</dt>\n",
       "\t\t<dd>'31'</dd>\n",
       "\t<dt>$`svn rev`</dt>\n",
       "\t\t<dd>'80133'</dd>\n",
       "\t<dt>$language</dt>\n",
       "\t\t<dd>'R'</dd>\n",
       "\t<dt>$version.string</dt>\n",
       "\t\t<dd>'R version 4.0.5 (2021-03-31)'</dd>\n",
       "\t<dt>$nickname</dt>\n",
       "\t\t<dd>'Shake and Throw'</dd>\n",
       "</dl>\n"
      ],
      "text/latex": [
       "\\begin{description}\n",
       "\\item[\\$platform] 'x86\\_64-w64-mingw32'\n",
       "\\item[\\$arch] 'x86\\_64'\n",
       "\\item[\\$os] 'mingw32'\n",
       "\\item[\\$system] 'x86\\_64, mingw32'\n",
       "\\item[\\$status] ''\n",
       "\\item[\\$major] '4'\n",
       "\\item[\\$minor] '0.5'\n",
       "\\item[\\$year] '2021'\n",
       "\\item[\\$month] '03'\n",
       "\\item[\\$day] '31'\n",
       "\\item[\\$`svn rev`] '80133'\n",
       "\\item[\\$language] 'R'\n",
       "\\item[\\$version.string] 'R version 4.0.5 (2021-03-31)'\n",
       "\\item[\\$nickname] 'Shake and Throw'\n",
       "\\end{description}\n"
      ],
      "text/markdown": [
       "$platform\n",
       ":   'x86_64-w64-mingw32'\n",
       "$arch\n",
       ":   'x86_64'\n",
       "$os\n",
       ":   'mingw32'\n",
       "$system\n",
       ":   'x86_64, mingw32'\n",
       "$status\n",
       ":   ''\n",
       "$major\n",
       ":   '4'\n",
       "$minor\n",
       ":   '0.5'\n",
       "$year\n",
       ":   '2021'\n",
       "$month\n",
       ":   '03'\n",
       "$day\n",
       ":   '31'\n",
       "$`svn rev`\n",
       ":   '80133'\n",
       "$language\n",
       ":   'R'\n",
       "$version.string\n",
       ":   'R version 4.0.5 (2021-03-31)'\n",
       "$nickname\n",
       ":   'Shake and Throw'\n",
       "\n",
       "\n"
      ],
      "text/plain": [
       "$platform\n",
       "[1] \"x86_64-w64-mingw32\"\n",
       "\n",
       "$arch\n",
       "[1] \"x86_64\"\n",
       "\n",
       "$os\n",
       "[1] \"mingw32\"\n",
       "\n",
       "$system\n",
       "[1] \"x86_64, mingw32\"\n",
       "\n",
       "$status\n",
       "[1] \"\"\n",
       "\n",
       "$major\n",
       "[1] \"4\"\n",
       "\n",
       "$minor\n",
       "[1] \"0.5\"\n",
       "\n",
       "$year\n",
       "[1] \"2021\"\n",
       "\n",
       "$month\n",
       "[1] \"03\"\n",
       "\n",
       "$day\n",
       "[1] \"31\"\n",
       "\n",
       "$`svn rev`\n",
       "[1] \"80133\"\n",
       "\n",
       "$language\n",
       "[1] \"R\"\n",
       "\n",
       "$version.string\n",
       "[1] \"R version 4.0.5 (2021-03-31)\"\n",
       "\n",
       "$nickname\n",
       "[1] \"Shake and Throw\"\n"
      ]
     },
     "metadata": {},
     "output_type": "display_data"
    }
   ],
   "source": [
    "R.Version()"
   ]
  },
  {
   "cell_type": "markdown",
   "id": "8fb3de35-59ae-4343-890b-5c3879386338",
   "metadata": {},
   "source": [
    "### 0.2. Install"
   ]
  },
  {
   "cell_type": "code",
   "execution_count": 11,
   "id": "f6cb5ab9-48a8-44f5-ae56-4b29fcaa115f",
   "metadata": {},
   "outputs": [],
   "source": [
    "# INSTALL THESE PACKAGES IN CONDA TERMINAL\n"
   ]
  },
  {
   "cell_type": "markdown",
   "id": "6d09d272-1ddb-40e3-9d79-5fc9a6781023",
   "metadata": {},
   "source": [
    "### 0.3. Import"
   ]
  },
  {
   "cell_type": "code",
   "execution_count": 100,
   "id": "54957588-c263-485b-ad1d-a36ffd93e607",
   "metadata": {},
   "outputs": [],
   "source": [
    "library(imbalance)"
   ]
  },
  {
   "cell_type": "markdown",
   "id": "da0c30e4-e50c-47ed-acd6-7053b9751020",
   "metadata": {},
   "source": [
    "## 1. Import Data"
   ]
  },
  {
   "cell_type": "code",
   "execution_count": 14,
   "id": "d18a7dba-cc4f-451a-ab11-0aec662256c5",
   "metadata": {},
   "outputs": [],
   "source": [
    "input_data = read.csv(\"diabetes_full_data.csv\")"
   ]
  },
  {
   "cell_type": "code",
   "execution_count": 15,
   "id": "eb04da3a-f418-48cb-880b-e697c54c0cd4",
   "metadata": {},
   "outputs": [],
   "source": [
    "df = data.frame(input_data)"
   ]
  },
  {
   "cell_type": "code",
   "execution_count": 16,
   "id": "36d9ec88-07bb-405a-823c-d0f539fac490",
   "metadata": {},
   "outputs": [
    {
     "data": {
      "text/html": [
       "<table class=\"dataframe\">\n",
       "<caption>A data.frame: 253680 × 23</caption>\n",
       "<thead>\n",
       "\t<tr><th scope=col>X</th><th scope=col>HighBP</th><th scope=col>HighChol</th><th scope=col>CholCheck</th><th scope=col>BMI</th><th scope=col>Smoker</th><th scope=col>Stroke</th><th scope=col>HeartDiseaseorAttack</th><th scope=col>PhysActivity</th><th scope=col>Fruits</th><th scope=col>⋯</th><th scope=col>NoDocbcCost</th><th scope=col>GenHlth</th><th scope=col>MentHlth</th><th scope=col>PhysHlth</th><th scope=col>DiffWalk</th><th scope=col>Sex</th><th scope=col>Age</th><th scope=col>Education</th><th scope=col>Income</th><th scope=col>Diabetes_binary</th></tr>\n",
       "\t<tr><th scope=col>&lt;int&gt;</th><th scope=col>&lt;int&gt;</th><th scope=col>&lt;int&gt;</th><th scope=col>&lt;int&gt;</th><th scope=col>&lt;int&gt;</th><th scope=col>&lt;int&gt;</th><th scope=col>&lt;int&gt;</th><th scope=col>&lt;int&gt;</th><th scope=col>&lt;int&gt;</th><th scope=col>&lt;int&gt;</th><th scope=col>⋯</th><th scope=col>&lt;int&gt;</th><th scope=col>&lt;int&gt;</th><th scope=col>&lt;int&gt;</th><th scope=col>&lt;int&gt;</th><th scope=col>&lt;int&gt;</th><th scope=col>&lt;int&gt;</th><th scope=col>&lt;int&gt;</th><th scope=col>&lt;int&gt;</th><th scope=col>&lt;int&gt;</th><th scope=col>&lt;int&gt;</th></tr>\n",
       "</thead>\n",
       "<tbody>\n",
       "\t<tr><td> 0</td><td>1</td><td>1</td><td>1</td><td>40</td><td>1</td><td>0</td><td>0</td><td>0</td><td>0</td><td>⋯</td><td>0</td><td>5</td><td>18</td><td>15</td><td>1</td><td>0</td><td> 9</td><td>4</td><td>3</td><td>0</td></tr>\n",
       "\t<tr><td> 1</td><td>0</td><td>0</td><td>0</td><td>25</td><td>1</td><td>0</td><td>0</td><td>1</td><td>0</td><td>⋯</td><td>1</td><td>3</td><td> 0</td><td> 0</td><td>0</td><td>0</td><td> 7</td><td>6</td><td>1</td><td>0</td></tr>\n",
       "\t<tr><td> 2</td><td>1</td><td>1</td><td>1</td><td>28</td><td>0</td><td>0</td><td>0</td><td>0</td><td>1</td><td>⋯</td><td>1</td><td>5</td><td>30</td><td>30</td><td>1</td><td>0</td><td> 9</td><td>4</td><td>8</td><td>0</td></tr>\n",
       "\t<tr><td> 3</td><td>1</td><td>0</td><td>1</td><td>27</td><td>0</td><td>0</td><td>0</td><td>1</td><td>1</td><td>⋯</td><td>0</td><td>2</td><td> 0</td><td> 0</td><td>0</td><td>0</td><td>11</td><td>3</td><td>6</td><td>0</td></tr>\n",
       "\t<tr><td> 4</td><td>1</td><td>1</td><td>1</td><td>24</td><td>0</td><td>0</td><td>0</td><td>1</td><td>1</td><td>⋯</td><td>0</td><td>2</td><td> 3</td><td> 0</td><td>0</td><td>0</td><td>11</td><td>5</td><td>4</td><td>0</td></tr>\n",
       "\t<tr><td> 5</td><td>1</td><td>1</td><td>1</td><td>25</td><td>1</td><td>0</td><td>0</td><td>1</td><td>1</td><td>⋯</td><td>0</td><td>2</td><td> 0</td><td> 2</td><td>0</td><td>1</td><td>10</td><td>6</td><td>8</td><td>0</td></tr>\n",
       "\t<tr><td> 6</td><td>1</td><td>0</td><td>1</td><td>30</td><td>1</td><td>0</td><td>0</td><td>0</td><td>0</td><td>⋯</td><td>0</td><td>3</td><td> 0</td><td>14</td><td>0</td><td>0</td><td> 9</td><td>6</td><td>7</td><td>0</td></tr>\n",
       "\t<tr><td> 7</td><td>1</td><td>1</td><td>1</td><td>25</td><td>1</td><td>0</td><td>0</td><td>1</td><td>0</td><td>⋯</td><td>0</td><td>3</td><td> 0</td><td> 0</td><td>1</td><td>0</td><td>11</td><td>4</td><td>4</td><td>0</td></tr>\n",
       "\t<tr><td> 8</td><td>1</td><td>1</td><td>1</td><td>30</td><td>1</td><td>0</td><td>1</td><td>0</td><td>1</td><td>⋯</td><td>0</td><td>5</td><td>30</td><td>30</td><td>1</td><td>0</td><td> 9</td><td>5</td><td>1</td><td>1</td></tr>\n",
       "\t<tr><td> 9</td><td>0</td><td>0</td><td>1</td><td>24</td><td>0</td><td>0</td><td>0</td><td>0</td><td>0</td><td>⋯</td><td>0</td><td>2</td><td> 0</td><td> 0</td><td>0</td><td>1</td><td> 8</td><td>4</td><td>3</td><td>0</td></tr>\n",
       "\t<tr><td>10</td><td>0</td><td>0</td><td>1</td><td>25</td><td>1</td><td>0</td><td>0</td><td>1</td><td>1</td><td>⋯</td><td>0</td><td>3</td><td> 0</td><td> 0</td><td>0</td><td>1</td><td>13</td><td>6</td><td>8</td><td>1</td></tr>\n",
       "\t<tr><td>11</td><td>1</td><td>1</td><td>1</td><td>34</td><td>1</td><td>0</td><td>0</td><td>0</td><td>1</td><td>⋯</td><td>0</td><td>3</td><td> 0</td><td>30</td><td>1</td><td>0</td><td>10</td><td>5</td><td>1</td><td>0</td></tr>\n",
       "\t<tr><td>12</td><td>0</td><td>0</td><td>1</td><td>26</td><td>1</td><td>0</td><td>0</td><td>0</td><td>0</td><td>⋯</td><td>0</td><td>3</td><td> 0</td><td>15</td><td>0</td><td>0</td><td> 7</td><td>5</td><td>7</td><td>0</td></tr>\n",
       "\t<tr><td>13</td><td>1</td><td>1</td><td>1</td><td>28</td><td>0</td><td>0</td><td>0</td><td>0</td><td>0</td><td>⋯</td><td>0</td><td>4</td><td> 0</td><td> 0</td><td>1</td><td>0</td><td>11</td><td>4</td><td>6</td><td>1</td></tr>\n",
       "\t<tr><td>14</td><td>0</td><td>1</td><td>1</td><td>33</td><td>1</td><td>1</td><td>0</td><td>1</td><td>0</td><td>⋯</td><td>1</td><td>4</td><td>30</td><td>28</td><td>0</td><td>0</td><td> 4</td><td>6</td><td>2</td><td>0</td></tr>\n",
       "\t<tr><td>15</td><td>1</td><td>0</td><td>1</td><td>33</td><td>0</td><td>0</td><td>0</td><td>1</td><td>0</td><td>⋯</td><td>0</td><td>2</td><td> 5</td><td> 0</td><td>0</td><td>0</td><td> 6</td><td>6</td><td>8</td><td>0</td></tr>\n",
       "\t<tr><td>16</td><td>1</td><td>1</td><td>1</td><td>21</td><td>0</td><td>0</td><td>0</td><td>1</td><td>1</td><td>⋯</td><td>0</td><td>3</td><td> 0</td><td> 0</td><td>0</td><td>0</td><td>10</td><td>4</td><td>3</td><td>0</td></tr>\n",
       "\t<tr><td>17</td><td>0</td><td>0</td><td>1</td><td>23</td><td>1</td><td>0</td><td>0</td><td>1</td><td>0</td><td>⋯</td><td>0</td><td>2</td><td> 0</td><td> 0</td><td>0</td><td>1</td><td> 7</td><td>5</td><td>6</td><td>1</td></tr>\n",
       "\t<tr><td>18</td><td>0</td><td>0</td><td>0</td><td>23</td><td>0</td><td>0</td><td>0</td><td>0</td><td>0</td><td>⋯</td><td>0</td><td>2</td><td>15</td><td> 0</td><td>0</td><td>0</td><td> 2</td><td>6</td><td>7</td><td>0</td></tr>\n",
       "\t<tr><td>19</td><td>0</td><td>1</td><td>1</td><td>28</td><td>0</td><td>0</td><td>0</td><td>0</td><td>0</td><td>⋯</td><td>0</td><td>2</td><td>10</td><td> 0</td><td>0</td><td>1</td><td> 4</td><td>6</td><td>8</td><td>0</td></tr>\n",
       "\t<tr><td>20</td><td>1</td><td>1</td><td>1</td><td>22</td><td>0</td><td>1</td><td>1</td><td>0</td><td>1</td><td>⋯</td><td>0</td><td>3</td><td>30</td><td> 0</td><td>1</td><td>0</td><td>12</td><td>4</td><td>4</td><td>0</td></tr>\n",
       "\t<tr><td>21</td><td>1</td><td>1</td><td>1</td><td>38</td><td>1</td><td>0</td><td>0</td><td>0</td><td>1</td><td>⋯</td><td>0</td><td>5</td><td>15</td><td>30</td><td>1</td><td>0</td><td>13</td><td>2</td><td>3</td><td>0</td></tr>\n",
       "\t<tr><td>22</td><td>0</td><td>0</td><td>1</td><td>28</td><td>1</td><td>0</td><td>0</td><td>0</td><td>0</td><td>⋯</td><td>0</td><td>3</td><td> 0</td><td> 7</td><td>0</td><td>1</td><td> 5</td><td>5</td><td>5</td><td>0</td></tr>\n",
       "\t<tr><td>23</td><td>1</td><td>0</td><td>1</td><td>27</td><td>0</td><td>0</td><td>0</td><td>1</td><td>1</td><td>⋯</td><td>0</td><td>1</td><td> 0</td><td> 0</td><td>0</td><td>0</td><td>13</td><td>5</td><td>4</td><td>1</td></tr>\n",
       "\t<tr><td>24</td><td>1</td><td>1</td><td>1</td><td>28</td><td>1</td><td>0</td><td>0</td><td>0</td><td>1</td><td>⋯</td><td>0</td><td>3</td><td> 6</td><td> 0</td><td>1</td><td>0</td><td> 9</td><td>4</td><td>6</td><td>0</td></tr>\n",
       "\t<tr><td>25</td><td>0</td><td>0</td><td>1</td><td>32</td><td>0</td><td>0</td><td>0</td><td>1</td><td>1</td><td>⋯</td><td>0</td><td>2</td><td> 0</td><td> 0</td><td>0</td><td>0</td><td> 5</td><td>6</td><td>8</td><td>0</td></tr>\n",
       "\t<tr><td>26</td><td>1</td><td>1</td><td>1</td><td>37</td><td>1</td><td>1</td><td>1</td><td>0</td><td>0</td><td>⋯</td><td>0</td><td>5</td><td> 0</td><td> 0</td><td>1</td><td>1</td><td>10</td><td>6</td><td>5</td><td>1</td></tr>\n",
       "\t<tr><td>27</td><td>1</td><td>1</td><td>1</td><td>28</td><td>1</td><td>0</td><td>1</td><td>0</td><td>0</td><td>⋯</td><td>0</td><td>4</td><td> 0</td><td> 0</td><td>0</td><td>1</td><td>12</td><td>2</td><td>4</td><td>1</td></tr>\n",
       "\t<tr><td>28</td><td>1</td><td>1</td><td>1</td><td>27</td><td>1</td><td>0</td><td>0</td><td>0</td><td>1</td><td>⋯</td><td>0</td><td>4</td><td>20</td><td>20</td><td>1</td><td>0</td><td> 8</td><td>4</td><td>7</td><td>1</td></tr>\n",
       "\t<tr><td>29</td><td>0</td><td>1</td><td>1</td><td>31</td><td>1</td><td>0</td><td>0</td><td>1</td><td>1</td><td>⋯</td><td>0</td><td>1</td><td> 0</td><td> 0</td><td>0</td><td>1</td><td>12</td><td>6</td><td>8</td><td>0</td></tr>\n",
       "\t<tr><td>⋮</td><td>⋮</td><td>⋮</td><td>⋮</td><td>⋮</td><td>⋮</td><td>⋮</td><td>⋮</td><td>⋮</td><td>⋮</td><td>⋱</td><td>⋮</td><td>⋮</td><td>⋮</td><td>⋮</td><td>⋮</td><td>⋮</td><td>⋮</td><td>⋮</td><td>⋮</td><td>⋮</td></tr>\n",
       "\t<tr><td>253650</td><td>1</td><td>0</td><td>1</td><td>27</td><td>0</td><td>0</td><td>0</td><td>1</td><td>0</td><td>⋯</td><td>0</td><td>4</td><td> 0</td><td> 0</td><td>0</td><td>0</td><td> 5</td><td>4</td><td>2</td><td>0</td></tr>\n",
       "\t<tr><td>253651</td><td>0</td><td>0</td><td>1</td><td>24</td><td>0</td><td>0</td><td>0</td><td>1</td><td>1</td><td>⋯</td><td>1</td><td>1</td><td> 0</td><td> 0</td><td>0</td><td>1</td><td> 2</td><td>6</td><td>3</td><td>0</td></tr>\n",
       "\t<tr><td>253652</td><td>0</td><td>1</td><td>1</td><td>27</td><td>0</td><td>0</td><td>0</td><td>1</td><td>1</td><td>⋯</td><td>0</td><td>4</td><td> 0</td><td>30</td><td>0</td><td>1</td><td>11</td><td>2</td><td>3</td><td>1</td></tr>\n",
       "\t<tr><td>253653</td><td>0</td><td>0</td><td>1</td><td>33</td><td>1</td><td>0</td><td>0</td><td>0</td><td>1</td><td>⋯</td><td>0</td><td>4</td><td> 0</td><td>15</td><td>0</td><td>1</td><td>10</td><td>6</td><td>3</td><td>0</td></tr>\n",
       "\t<tr><td>253654</td><td>0</td><td>0</td><td>1</td><td>26</td><td>1</td><td>0</td><td>0</td><td>1</td><td>1</td><td>⋯</td><td>0</td><td>2</td><td> 1</td><td> 0</td><td>0</td><td>1</td><td> 3</td><td>3</td><td>1</td><td>0</td></tr>\n",
       "\t<tr><td>253655</td><td>0</td><td>0</td><td>1</td><td>28</td><td>0</td><td>0</td><td>0</td><td>1</td><td>1</td><td>⋯</td><td>0</td><td>2</td><td> 0</td><td> 0</td><td>0</td><td>0</td><td> 2</td><td>6</td><td>4</td><td>0</td></tr>\n",
       "\t<tr><td>253656</td><td>0</td><td>0</td><td>1</td><td>25</td><td>0</td><td>0</td><td>0</td><td>1</td><td>1</td><td>⋯</td><td>0</td><td>1</td><td> 0</td><td> 0</td><td>0</td><td>0</td><td> 4</td><td>6</td><td>8</td><td>0</td></tr>\n",
       "\t<tr><td>253657</td><td>0</td><td>1</td><td>1</td><td>24</td><td>0</td><td>0</td><td>0</td><td>0</td><td>0</td><td>⋯</td><td>0</td><td>3</td><td> 0</td><td> 0</td><td>0</td><td>0</td><td> 7</td><td>5</td><td>3</td><td>0</td></tr>\n",
       "\t<tr><td>253658</td><td>0</td><td>0</td><td>0</td><td>27</td><td>0</td><td>0</td><td>0</td><td>1</td><td>0</td><td>⋯</td><td>1</td><td>2</td><td> 0</td><td> 0</td><td>0</td><td>0</td><td> 3</td><td>6</td><td>5</td><td>0</td></tr>\n",
       "\t<tr><td>253659</td><td>0</td><td>1</td><td>1</td><td>37</td><td>0</td><td>0</td><td>0</td><td>0</td><td>0</td><td>⋯</td><td>0</td><td>4</td><td> 0</td><td> 0</td><td>0</td><td>0</td><td> 6</td><td>4</td><td>1</td><td>1</td></tr>\n",
       "\t<tr><td>253660</td><td>0</td><td>1</td><td>1</td><td>34</td><td>1</td><td>0</td><td>0</td><td>0</td><td>1</td><td>⋯</td><td>0</td><td>3</td><td> 0</td><td> 2</td><td>1</td><td>0</td><td> 7</td><td>4</td><td>3</td><td>0</td></tr>\n",
       "\t<tr><td>253661</td><td>1</td><td>0</td><td>1</td><td>33</td><td>0</td><td>0</td><td>0</td><td>1</td><td>0</td><td>⋯</td><td>1</td><td>3</td><td> 0</td><td> 2</td><td>1</td><td>0</td><td> 6</td><td>6</td><td>6</td><td>0</td></tr>\n",
       "\t<tr><td>253662</td><td>0</td><td>0</td><td>1</td><td>16</td><td>0</td><td>0</td><td>0</td><td>1</td><td>0</td><td>⋯</td><td>0</td><td>1</td><td> 0</td><td> 0</td><td>0</td><td>0</td><td> 5</td><td>6</td><td>2</td><td>0</td></tr>\n",
       "\t<tr><td>253663</td><td>0</td><td>0</td><td>1</td><td>23</td><td>0</td><td>0</td><td>0</td><td>0</td><td>1</td><td>⋯</td><td>1</td><td>2</td><td> 0</td><td>30</td><td>0</td><td>0</td><td> 5</td><td>6</td><td>2</td><td>0</td></tr>\n",
       "\t<tr><td>253664</td><td>0</td><td>1</td><td>1</td><td>29</td><td>1</td><td>0</td><td>0</td><td>0</td><td>0</td><td>⋯</td><td>0</td><td>3</td><td> 0</td><td> 0</td><td>0</td><td>0</td><td> 6</td><td>6</td><td>4</td><td>0</td></tr>\n",
       "\t<tr><td>253665</td><td>0</td><td>1</td><td>1</td><td>17</td><td>0</td><td>0</td><td>0</td><td>0</td><td>0</td><td>⋯</td><td>1</td><td>4</td><td>30</td><td>30</td><td>0</td><td>0</td><td> 5</td><td>4</td><td>1</td><td>0</td></tr>\n",
       "\t<tr><td>253666</td><td>1</td><td>0</td><td>1</td><td>23</td><td>0</td><td>0</td><td>0</td><td>0</td><td>1</td><td>⋯</td><td>0</td><td>3</td><td> 0</td><td>15</td><td>0</td><td>0</td><td> 6</td><td>5</td><td>2</td><td>0</td></tr>\n",
       "\t<tr><td>253667</td><td>1</td><td>1</td><td>1</td><td>28</td><td>1</td><td>0</td><td>0</td><td>0</td><td>0</td><td>⋯</td><td>0</td><td>3</td><td> 0</td><td> 0</td><td>0</td><td>0</td><td>11</td><td>4</td><td>7</td><td>0</td></tr>\n",
       "\t<tr><td>253668</td><td>0</td><td>1</td><td>1</td><td>29</td><td>1</td><td>0</td><td>1</td><td>0</td><td>1</td><td>⋯</td><td>0</td><td>2</td><td> 0</td><td> 0</td><td>1</td><td>1</td><td>10</td><td>3</td><td>6</td><td>1</td></tr>\n",
       "\t<tr><td>253669</td><td>0</td><td>1</td><td>1</td><td>27</td><td>0</td><td>0</td><td>0</td><td>0</td><td>0</td><td>⋯</td><td>1</td><td>1</td><td> 0</td><td> 3</td><td>0</td><td>1</td><td> 6</td><td>2</td><td>4</td><td>0</td></tr>\n",
       "\t<tr><td>253670</td><td>1</td><td>1</td><td>1</td><td>25</td><td>0</td><td>0</td><td>1</td><td>0</td><td>1</td><td>⋯</td><td>0</td><td>5</td><td>15</td><td> 0</td><td>1</td><td>0</td><td>13</td><td>6</td><td>4</td><td>1</td></tr>\n",
       "\t<tr><td>253671</td><td>1</td><td>1</td><td>1</td><td>23</td><td>0</td><td>1</td><td>1</td><td>0</td><td>0</td><td>⋯</td><td>1</td><td>4</td><td> 0</td><td> 5</td><td>0</td><td>1</td><td> 8</td><td>3</td><td>2</td><td>0</td></tr>\n",
       "\t<tr><td>253672</td><td>1</td><td>0</td><td>1</td><td>30</td><td>1</td><td>0</td><td>1</td><td>1</td><td>1</td><td>⋯</td><td>0</td><td>3</td><td> 0</td><td> 0</td><td>0</td><td>1</td><td>12</td><td>2</td><td>1</td><td>0</td></tr>\n",
       "\t<tr><td>253673</td><td>1</td><td>0</td><td>1</td><td>42</td><td>0</td><td>0</td><td>0</td><td>1</td><td>1</td><td>⋯</td><td>0</td><td>3</td><td>14</td><td> 4</td><td>0</td><td>1</td><td> 3</td><td>6</td><td>8</td><td>0</td></tr>\n",
       "\t<tr><td>253674</td><td>0</td><td>0</td><td>1</td><td>27</td><td>0</td><td>0</td><td>0</td><td>0</td><td>0</td><td>⋯</td><td>0</td><td>1</td><td> 0</td><td> 0</td><td>0</td><td>0</td><td> 3</td><td>6</td><td>5</td><td>0</td></tr>\n",
       "\t<tr><td>253675</td><td>1</td><td>1</td><td>1</td><td>45</td><td>0</td><td>0</td><td>0</td><td>0</td><td>1</td><td>⋯</td><td>0</td><td>3</td><td> 0</td><td> 5</td><td>0</td><td>1</td><td> 5</td><td>6</td><td>7</td><td>0</td></tr>\n",
       "\t<tr><td>253676</td><td>1</td><td>1</td><td>1</td><td>18</td><td>0</td><td>0</td><td>0</td><td>0</td><td>0</td><td>⋯</td><td>0</td><td>4</td><td> 0</td><td> 0</td><td>1</td><td>0</td><td>11</td><td>2</td><td>4</td><td>1</td></tr>\n",
       "\t<tr><td>253677</td><td>0</td><td>0</td><td>1</td><td>28</td><td>0</td><td>0</td><td>0</td><td>1</td><td>1</td><td>⋯</td><td>0</td><td>1</td><td> 0</td><td> 0</td><td>0</td><td>0</td><td> 2</td><td>5</td><td>2</td><td>0</td></tr>\n",
       "\t<tr><td>253678</td><td>1</td><td>0</td><td>1</td><td>23</td><td>0</td><td>0</td><td>0</td><td>0</td><td>1</td><td>⋯</td><td>0</td><td>3</td><td> 0</td><td> 0</td><td>0</td><td>1</td><td> 7</td><td>5</td><td>1</td><td>0</td></tr>\n",
       "\t<tr><td>253679</td><td>1</td><td>1</td><td>1</td><td>25</td><td>0</td><td>0</td><td>1</td><td>1</td><td>1</td><td>⋯</td><td>0</td><td>2</td><td> 0</td><td> 0</td><td>0</td><td>0</td><td> 9</td><td>6</td><td>2</td><td>1</td></tr>\n",
       "</tbody>\n",
       "</table>\n"
      ],
      "text/latex": [
       "A data.frame: 253680 × 23\n",
       "\\begin{tabular}{lllllllllllllllllllll}\n",
       " X & HighBP & HighChol & CholCheck & BMI & Smoker & Stroke & HeartDiseaseorAttack & PhysActivity & Fruits & ⋯ & NoDocbcCost & GenHlth & MentHlth & PhysHlth & DiffWalk & Sex & Age & Education & Income & Diabetes\\_binary\\\\\n",
       " <int> & <int> & <int> & <int> & <int> & <int> & <int> & <int> & <int> & <int> & ⋯ & <int> & <int> & <int> & <int> & <int> & <int> & <int> & <int> & <int> & <int>\\\\\n",
       "\\hline\n",
       "\t  0 & 1 & 1 & 1 & 40 & 1 & 0 & 0 & 0 & 0 & ⋯ & 0 & 5 & 18 & 15 & 1 & 0 &  9 & 4 & 3 & 0\\\\\n",
       "\t  1 & 0 & 0 & 0 & 25 & 1 & 0 & 0 & 1 & 0 & ⋯ & 1 & 3 &  0 &  0 & 0 & 0 &  7 & 6 & 1 & 0\\\\\n",
       "\t  2 & 1 & 1 & 1 & 28 & 0 & 0 & 0 & 0 & 1 & ⋯ & 1 & 5 & 30 & 30 & 1 & 0 &  9 & 4 & 8 & 0\\\\\n",
       "\t  3 & 1 & 0 & 1 & 27 & 0 & 0 & 0 & 1 & 1 & ⋯ & 0 & 2 &  0 &  0 & 0 & 0 & 11 & 3 & 6 & 0\\\\\n",
       "\t  4 & 1 & 1 & 1 & 24 & 0 & 0 & 0 & 1 & 1 & ⋯ & 0 & 2 &  3 &  0 & 0 & 0 & 11 & 5 & 4 & 0\\\\\n",
       "\t  5 & 1 & 1 & 1 & 25 & 1 & 0 & 0 & 1 & 1 & ⋯ & 0 & 2 &  0 &  2 & 0 & 1 & 10 & 6 & 8 & 0\\\\\n",
       "\t  6 & 1 & 0 & 1 & 30 & 1 & 0 & 0 & 0 & 0 & ⋯ & 0 & 3 &  0 & 14 & 0 & 0 &  9 & 6 & 7 & 0\\\\\n",
       "\t  7 & 1 & 1 & 1 & 25 & 1 & 0 & 0 & 1 & 0 & ⋯ & 0 & 3 &  0 &  0 & 1 & 0 & 11 & 4 & 4 & 0\\\\\n",
       "\t  8 & 1 & 1 & 1 & 30 & 1 & 0 & 1 & 0 & 1 & ⋯ & 0 & 5 & 30 & 30 & 1 & 0 &  9 & 5 & 1 & 1\\\\\n",
       "\t  9 & 0 & 0 & 1 & 24 & 0 & 0 & 0 & 0 & 0 & ⋯ & 0 & 2 &  0 &  0 & 0 & 1 &  8 & 4 & 3 & 0\\\\\n",
       "\t 10 & 0 & 0 & 1 & 25 & 1 & 0 & 0 & 1 & 1 & ⋯ & 0 & 3 &  0 &  0 & 0 & 1 & 13 & 6 & 8 & 1\\\\\n",
       "\t 11 & 1 & 1 & 1 & 34 & 1 & 0 & 0 & 0 & 1 & ⋯ & 0 & 3 &  0 & 30 & 1 & 0 & 10 & 5 & 1 & 0\\\\\n",
       "\t 12 & 0 & 0 & 1 & 26 & 1 & 0 & 0 & 0 & 0 & ⋯ & 0 & 3 &  0 & 15 & 0 & 0 &  7 & 5 & 7 & 0\\\\\n",
       "\t 13 & 1 & 1 & 1 & 28 & 0 & 0 & 0 & 0 & 0 & ⋯ & 0 & 4 &  0 &  0 & 1 & 0 & 11 & 4 & 6 & 1\\\\\n",
       "\t 14 & 0 & 1 & 1 & 33 & 1 & 1 & 0 & 1 & 0 & ⋯ & 1 & 4 & 30 & 28 & 0 & 0 &  4 & 6 & 2 & 0\\\\\n",
       "\t 15 & 1 & 0 & 1 & 33 & 0 & 0 & 0 & 1 & 0 & ⋯ & 0 & 2 &  5 &  0 & 0 & 0 &  6 & 6 & 8 & 0\\\\\n",
       "\t 16 & 1 & 1 & 1 & 21 & 0 & 0 & 0 & 1 & 1 & ⋯ & 0 & 3 &  0 &  0 & 0 & 0 & 10 & 4 & 3 & 0\\\\\n",
       "\t 17 & 0 & 0 & 1 & 23 & 1 & 0 & 0 & 1 & 0 & ⋯ & 0 & 2 &  0 &  0 & 0 & 1 &  7 & 5 & 6 & 1\\\\\n",
       "\t 18 & 0 & 0 & 0 & 23 & 0 & 0 & 0 & 0 & 0 & ⋯ & 0 & 2 & 15 &  0 & 0 & 0 &  2 & 6 & 7 & 0\\\\\n",
       "\t 19 & 0 & 1 & 1 & 28 & 0 & 0 & 0 & 0 & 0 & ⋯ & 0 & 2 & 10 &  0 & 0 & 1 &  4 & 6 & 8 & 0\\\\\n",
       "\t 20 & 1 & 1 & 1 & 22 & 0 & 1 & 1 & 0 & 1 & ⋯ & 0 & 3 & 30 &  0 & 1 & 0 & 12 & 4 & 4 & 0\\\\\n",
       "\t 21 & 1 & 1 & 1 & 38 & 1 & 0 & 0 & 0 & 1 & ⋯ & 0 & 5 & 15 & 30 & 1 & 0 & 13 & 2 & 3 & 0\\\\\n",
       "\t 22 & 0 & 0 & 1 & 28 & 1 & 0 & 0 & 0 & 0 & ⋯ & 0 & 3 &  0 &  7 & 0 & 1 &  5 & 5 & 5 & 0\\\\\n",
       "\t 23 & 1 & 0 & 1 & 27 & 0 & 0 & 0 & 1 & 1 & ⋯ & 0 & 1 &  0 &  0 & 0 & 0 & 13 & 5 & 4 & 1\\\\\n",
       "\t 24 & 1 & 1 & 1 & 28 & 1 & 0 & 0 & 0 & 1 & ⋯ & 0 & 3 &  6 &  0 & 1 & 0 &  9 & 4 & 6 & 0\\\\\n",
       "\t 25 & 0 & 0 & 1 & 32 & 0 & 0 & 0 & 1 & 1 & ⋯ & 0 & 2 &  0 &  0 & 0 & 0 &  5 & 6 & 8 & 0\\\\\n",
       "\t 26 & 1 & 1 & 1 & 37 & 1 & 1 & 1 & 0 & 0 & ⋯ & 0 & 5 &  0 &  0 & 1 & 1 & 10 & 6 & 5 & 1\\\\\n",
       "\t 27 & 1 & 1 & 1 & 28 & 1 & 0 & 1 & 0 & 0 & ⋯ & 0 & 4 &  0 &  0 & 0 & 1 & 12 & 2 & 4 & 1\\\\\n",
       "\t 28 & 1 & 1 & 1 & 27 & 1 & 0 & 0 & 0 & 1 & ⋯ & 0 & 4 & 20 & 20 & 1 & 0 &  8 & 4 & 7 & 1\\\\\n",
       "\t 29 & 0 & 1 & 1 & 31 & 1 & 0 & 0 & 1 & 1 & ⋯ & 0 & 1 &  0 &  0 & 0 & 1 & 12 & 6 & 8 & 0\\\\\n",
       "\t ⋮ & ⋮ & ⋮ & ⋮ & ⋮ & ⋮ & ⋮ & ⋮ & ⋮ & ⋮ & ⋱ & ⋮ & ⋮ & ⋮ & ⋮ & ⋮ & ⋮ & ⋮ & ⋮ & ⋮ & ⋮\\\\\n",
       "\t 253650 & 1 & 0 & 1 & 27 & 0 & 0 & 0 & 1 & 0 & ⋯ & 0 & 4 &  0 &  0 & 0 & 0 &  5 & 4 & 2 & 0\\\\\n",
       "\t 253651 & 0 & 0 & 1 & 24 & 0 & 0 & 0 & 1 & 1 & ⋯ & 1 & 1 &  0 &  0 & 0 & 1 &  2 & 6 & 3 & 0\\\\\n",
       "\t 253652 & 0 & 1 & 1 & 27 & 0 & 0 & 0 & 1 & 1 & ⋯ & 0 & 4 &  0 & 30 & 0 & 1 & 11 & 2 & 3 & 1\\\\\n",
       "\t 253653 & 0 & 0 & 1 & 33 & 1 & 0 & 0 & 0 & 1 & ⋯ & 0 & 4 &  0 & 15 & 0 & 1 & 10 & 6 & 3 & 0\\\\\n",
       "\t 253654 & 0 & 0 & 1 & 26 & 1 & 0 & 0 & 1 & 1 & ⋯ & 0 & 2 &  1 &  0 & 0 & 1 &  3 & 3 & 1 & 0\\\\\n",
       "\t 253655 & 0 & 0 & 1 & 28 & 0 & 0 & 0 & 1 & 1 & ⋯ & 0 & 2 &  0 &  0 & 0 & 0 &  2 & 6 & 4 & 0\\\\\n",
       "\t 253656 & 0 & 0 & 1 & 25 & 0 & 0 & 0 & 1 & 1 & ⋯ & 0 & 1 &  0 &  0 & 0 & 0 &  4 & 6 & 8 & 0\\\\\n",
       "\t 253657 & 0 & 1 & 1 & 24 & 0 & 0 & 0 & 0 & 0 & ⋯ & 0 & 3 &  0 &  0 & 0 & 0 &  7 & 5 & 3 & 0\\\\\n",
       "\t 253658 & 0 & 0 & 0 & 27 & 0 & 0 & 0 & 1 & 0 & ⋯ & 1 & 2 &  0 &  0 & 0 & 0 &  3 & 6 & 5 & 0\\\\\n",
       "\t 253659 & 0 & 1 & 1 & 37 & 0 & 0 & 0 & 0 & 0 & ⋯ & 0 & 4 &  0 &  0 & 0 & 0 &  6 & 4 & 1 & 1\\\\\n",
       "\t 253660 & 0 & 1 & 1 & 34 & 1 & 0 & 0 & 0 & 1 & ⋯ & 0 & 3 &  0 &  2 & 1 & 0 &  7 & 4 & 3 & 0\\\\\n",
       "\t 253661 & 1 & 0 & 1 & 33 & 0 & 0 & 0 & 1 & 0 & ⋯ & 1 & 3 &  0 &  2 & 1 & 0 &  6 & 6 & 6 & 0\\\\\n",
       "\t 253662 & 0 & 0 & 1 & 16 & 0 & 0 & 0 & 1 & 0 & ⋯ & 0 & 1 &  0 &  0 & 0 & 0 &  5 & 6 & 2 & 0\\\\\n",
       "\t 253663 & 0 & 0 & 1 & 23 & 0 & 0 & 0 & 0 & 1 & ⋯ & 1 & 2 &  0 & 30 & 0 & 0 &  5 & 6 & 2 & 0\\\\\n",
       "\t 253664 & 0 & 1 & 1 & 29 & 1 & 0 & 0 & 0 & 0 & ⋯ & 0 & 3 &  0 &  0 & 0 & 0 &  6 & 6 & 4 & 0\\\\\n",
       "\t 253665 & 0 & 1 & 1 & 17 & 0 & 0 & 0 & 0 & 0 & ⋯ & 1 & 4 & 30 & 30 & 0 & 0 &  5 & 4 & 1 & 0\\\\\n",
       "\t 253666 & 1 & 0 & 1 & 23 & 0 & 0 & 0 & 0 & 1 & ⋯ & 0 & 3 &  0 & 15 & 0 & 0 &  6 & 5 & 2 & 0\\\\\n",
       "\t 253667 & 1 & 1 & 1 & 28 & 1 & 0 & 0 & 0 & 0 & ⋯ & 0 & 3 &  0 &  0 & 0 & 0 & 11 & 4 & 7 & 0\\\\\n",
       "\t 253668 & 0 & 1 & 1 & 29 & 1 & 0 & 1 & 0 & 1 & ⋯ & 0 & 2 &  0 &  0 & 1 & 1 & 10 & 3 & 6 & 1\\\\\n",
       "\t 253669 & 0 & 1 & 1 & 27 & 0 & 0 & 0 & 0 & 0 & ⋯ & 1 & 1 &  0 &  3 & 0 & 1 &  6 & 2 & 4 & 0\\\\\n",
       "\t 253670 & 1 & 1 & 1 & 25 & 0 & 0 & 1 & 0 & 1 & ⋯ & 0 & 5 & 15 &  0 & 1 & 0 & 13 & 6 & 4 & 1\\\\\n",
       "\t 253671 & 1 & 1 & 1 & 23 & 0 & 1 & 1 & 0 & 0 & ⋯ & 1 & 4 &  0 &  5 & 0 & 1 &  8 & 3 & 2 & 0\\\\\n",
       "\t 253672 & 1 & 0 & 1 & 30 & 1 & 0 & 1 & 1 & 1 & ⋯ & 0 & 3 &  0 &  0 & 0 & 1 & 12 & 2 & 1 & 0\\\\\n",
       "\t 253673 & 1 & 0 & 1 & 42 & 0 & 0 & 0 & 1 & 1 & ⋯ & 0 & 3 & 14 &  4 & 0 & 1 &  3 & 6 & 8 & 0\\\\\n",
       "\t 253674 & 0 & 0 & 1 & 27 & 0 & 0 & 0 & 0 & 0 & ⋯ & 0 & 1 &  0 &  0 & 0 & 0 &  3 & 6 & 5 & 0\\\\\n",
       "\t 253675 & 1 & 1 & 1 & 45 & 0 & 0 & 0 & 0 & 1 & ⋯ & 0 & 3 &  0 &  5 & 0 & 1 &  5 & 6 & 7 & 0\\\\\n",
       "\t 253676 & 1 & 1 & 1 & 18 & 0 & 0 & 0 & 0 & 0 & ⋯ & 0 & 4 &  0 &  0 & 1 & 0 & 11 & 2 & 4 & 1\\\\\n",
       "\t 253677 & 0 & 0 & 1 & 28 & 0 & 0 & 0 & 1 & 1 & ⋯ & 0 & 1 &  0 &  0 & 0 & 0 &  2 & 5 & 2 & 0\\\\\n",
       "\t 253678 & 1 & 0 & 1 & 23 & 0 & 0 & 0 & 0 & 1 & ⋯ & 0 & 3 &  0 &  0 & 0 & 1 &  7 & 5 & 1 & 0\\\\\n",
       "\t 253679 & 1 & 1 & 1 & 25 & 0 & 0 & 1 & 1 & 1 & ⋯ & 0 & 2 &  0 &  0 & 0 & 0 &  9 & 6 & 2 & 1\\\\\n",
       "\\end{tabular}\n"
      ],
      "text/markdown": [
       "\n",
       "A data.frame: 253680 × 23\n",
       "\n",
       "| X &lt;int&gt; | HighBP &lt;int&gt; | HighChol &lt;int&gt; | CholCheck &lt;int&gt; | BMI &lt;int&gt; | Smoker &lt;int&gt; | Stroke &lt;int&gt; | HeartDiseaseorAttack &lt;int&gt; | PhysActivity &lt;int&gt; | Fruits &lt;int&gt; | ⋯ ⋯ | NoDocbcCost &lt;int&gt; | GenHlth &lt;int&gt; | MentHlth &lt;int&gt; | PhysHlth &lt;int&gt; | DiffWalk &lt;int&gt; | Sex &lt;int&gt; | Age &lt;int&gt; | Education &lt;int&gt; | Income &lt;int&gt; | Diabetes_binary &lt;int&gt; |\n",
       "|---|---|---|---|---|---|---|---|---|---|---|---|---|---|---|---|---|---|---|---|---|\n",
       "|  0 | 1 | 1 | 1 | 40 | 1 | 0 | 0 | 0 | 0 | ⋯ | 0 | 5 | 18 | 15 | 1 | 0 |  9 | 4 | 3 | 0 |\n",
       "|  1 | 0 | 0 | 0 | 25 | 1 | 0 | 0 | 1 | 0 | ⋯ | 1 | 3 |  0 |  0 | 0 | 0 |  7 | 6 | 1 | 0 |\n",
       "|  2 | 1 | 1 | 1 | 28 | 0 | 0 | 0 | 0 | 1 | ⋯ | 1 | 5 | 30 | 30 | 1 | 0 |  9 | 4 | 8 | 0 |\n",
       "|  3 | 1 | 0 | 1 | 27 | 0 | 0 | 0 | 1 | 1 | ⋯ | 0 | 2 |  0 |  0 | 0 | 0 | 11 | 3 | 6 | 0 |\n",
       "|  4 | 1 | 1 | 1 | 24 | 0 | 0 | 0 | 1 | 1 | ⋯ | 0 | 2 |  3 |  0 | 0 | 0 | 11 | 5 | 4 | 0 |\n",
       "|  5 | 1 | 1 | 1 | 25 | 1 | 0 | 0 | 1 | 1 | ⋯ | 0 | 2 |  0 |  2 | 0 | 1 | 10 | 6 | 8 | 0 |\n",
       "|  6 | 1 | 0 | 1 | 30 | 1 | 0 | 0 | 0 | 0 | ⋯ | 0 | 3 |  0 | 14 | 0 | 0 |  9 | 6 | 7 | 0 |\n",
       "|  7 | 1 | 1 | 1 | 25 | 1 | 0 | 0 | 1 | 0 | ⋯ | 0 | 3 |  0 |  0 | 1 | 0 | 11 | 4 | 4 | 0 |\n",
       "|  8 | 1 | 1 | 1 | 30 | 1 | 0 | 1 | 0 | 1 | ⋯ | 0 | 5 | 30 | 30 | 1 | 0 |  9 | 5 | 1 | 1 |\n",
       "|  9 | 0 | 0 | 1 | 24 | 0 | 0 | 0 | 0 | 0 | ⋯ | 0 | 2 |  0 |  0 | 0 | 1 |  8 | 4 | 3 | 0 |\n",
       "| 10 | 0 | 0 | 1 | 25 | 1 | 0 | 0 | 1 | 1 | ⋯ | 0 | 3 |  0 |  0 | 0 | 1 | 13 | 6 | 8 | 1 |\n",
       "| 11 | 1 | 1 | 1 | 34 | 1 | 0 | 0 | 0 | 1 | ⋯ | 0 | 3 |  0 | 30 | 1 | 0 | 10 | 5 | 1 | 0 |\n",
       "| 12 | 0 | 0 | 1 | 26 | 1 | 0 | 0 | 0 | 0 | ⋯ | 0 | 3 |  0 | 15 | 0 | 0 |  7 | 5 | 7 | 0 |\n",
       "| 13 | 1 | 1 | 1 | 28 | 0 | 0 | 0 | 0 | 0 | ⋯ | 0 | 4 |  0 |  0 | 1 | 0 | 11 | 4 | 6 | 1 |\n",
       "| 14 | 0 | 1 | 1 | 33 | 1 | 1 | 0 | 1 | 0 | ⋯ | 1 | 4 | 30 | 28 | 0 | 0 |  4 | 6 | 2 | 0 |\n",
       "| 15 | 1 | 0 | 1 | 33 | 0 | 0 | 0 | 1 | 0 | ⋯ | 0 | 2 |  5 |  0 | 0 | 0 |  6 | 6 | 8 | 0 |\n",
       "| 16 | 1 | 1 | 1 | 21 | 0 | 0 | 0 | 1 | 1 | ⋯ | 0 | 3 |  0 |  0 | 0 | 0 | 10 | 4 | 3 | 0 |\n",
       "| 17 | 0 | 0 | 1 | 23 | 1 | 0 | 0 | 1 | 0 | ⋯ | 0 | 2 |  0 |  0 | 0 | 1 |  7 | 5 | 6 | 1 |\n",
       "| 18 | 0 | 0 | 0 | 23 | 0 | 0 | 0 | 0 | 0 | ⋯ | 0 | 2 | 15 |  0 | 0 | 0 |  2 | 6 | 7 | 0 |\n",
       "| 19 | 0 | 1 | 1 | 28 | 0 | 0 | 0 | 0 | 0 | ⋯ | 0 | 2 | 10 |  0 | 0 | 1 |  4 | 6 | 8 | 0 |\n",
       "| 20 | 1 | 1 | 1 | 22 | 0 | 1 | 1 | 0 | 1 | ⋯ | 0 | 3 | 30 |  0 | 1 | 0 | 12 | 4 | 4 | 0 |\n",
       "| 21 | 1 | 1 | 1 | 38 | 1 | 0 | 0 | 0 | 1 | ⋯ | 0 | 5 | 15 | 30 | 1 | 0 | 13 | 2 | 3 | 0 |\n",
       "| 22 | 0 | 0 | 1 | 28 | 1 | 0 | 0 | 0 | 0 | ⋯ | 0 | 3 |  0 |  7 | 0 | 1 |  5 | 5 | 5 | 0 |\n",
       "| 23 | 1 | 0 | 1 | 27 | 0 | 0 | 0 | 1 | 1 | ⋯ | 0 | 1 |  0 |  0 | 0 | 0 | 13 | 5 | 4 | 1 |\n",
       "| 24 | 1 | 1 | 1 | 28 | 1 | 0 | 0 | 0 | 1 | ⋯ | 0 | 3 |  6 |  0 | 1 | 0 |  9 | 4 | 6 | 0 |\n",
       "| 25 | 0 | 0 | 1 | 32 | 0 | 0 | 0 | 1 | 1 | ⋯ | 0 | 2 |  0 |  0 | 0 | 0 |  5 | 6 | 8 | 0 |\n",
       "| 26 | 1 | 1 | 1 | 37 | 1 | 1 | 1 | 0 | 0 | ⋯ | 0 | 5 |  0 |  0 | 1 | 1 | 10 | 6 | 5 | 1 |\n",
       "| 27 | 1 | 1 | 1 | 28 | 1 | 0 | 1 | 0 | 0 | ⋯ | 0 | 4 |  0 |  0 | 0 | 1 | 12 | 2 | 4 | 1 |\n",
       "| 28 | 1 | 1 | 1 | 27 | 1 | 0 | 0 | 0 | 1 | ⋯ | 0 | 4 | 20 | 20 | 1 | 0 |  8 | 4 | 7 | 1 |\n",
       "| 29 | 0 | 1 | 1 | 31 | 1 | 0 | 0 | 1 | 1 | ⋯ | 0 | 1 |  0 |  0 | 0 | 1 | 12 | 6 | 8 | 0 |\n",
       "| ⋮ | ⋮ | ⋮ | ⋮ | ⋮ | ⋮ | ⋮ | ⋮ | ⋮ | ⋮ | ⋱ | ⋮ | ⋮ | ⋮ | ⋮ | ⋮ | ⋮ | ⋮ | ⋮ | ⋮ | ⋮ |\n",
       "| 253650 | 1 | 0 | 1 | 27 | 0 | 0 | 0 | 1 | 0 | ⋯ | 0 | 4 |  0 |  0 | 0 | 0 |  5 | 4 | 2 | 0 |\n",
       "| 253651 | 0 | 0 | 1 | 24 | 0 | 0 | 0 | 1 | 1 | ⋯ | 1 | 1 |  0 |  0 | 0 | 1 |  2 | 6 | 3 | 0 |\n",
       "| 253652 | 0 | 1 | 1 | 27 | 0 | 0 | 0 | 1 | 1 | ⋯ | 0 | 4 |  0 | 30 | 0 | 1 | 11 | 2 | 3 | 1 |\n",
       "| 253653 | 0 | 0 | 1 | 33 | 1 | 0 | 0 | 0 | 1 | ⋯ | 0 | 4 |  0 | 15 | 0 | 1 | 10 | 6 | 3 | 0 |\n",
       "| 253654 | 0 | 0 | 1 | 26 | 1 | 0 | 0 | 1 | 1 | ⋯ | 0 | 2 |  1 |  0 | 0 | 1 |  3 | 3 | 1 | 0 |\n",
       "| 253655 | 0 | 0 | 1 | 28 | 0 | 0 | 0 | 1 | 1 | ⋯ | 0 | 2 |  0 |  0 | 0 | 0 |  2 | 6 | 4 | 0 |\n",
       "| 253656 | 0 | 0 | 1 | 25 | 0 | 0 | 0 | 1 | 1 | ⋯ | 0 | 1 |  0 |  0 | 0 | 0 |  4 | 6 | 8 | 0 |\n",
       "| 253657 | 0 | 1 | 1 | 24 | 0 | 0 | 0 | 0 | 0 | ⋯ | 0 | 3 |  0 |  0 | 0 | 0 |  7 | 5 | 3 | 0 |\n",
       "| 253658 | 0 | 0 | 0 | 27 | 0 | 0 | 0 | 1 | 0 | ⋯ | 1 | 2 |  0 |  0 | 0 | 0 |  3 | 6 | 5 | 0 |\n",
       "| 253659 | 0 | 1 | 1 | 37 | 0 | 0 | 0 | 0 | 0 | ⋯ | 0 | 4 |  0 |  0 | 0 | 0 |  6 | 4 | 1 | 1 |\n",
       "| 253660 | 0 | 1 | 1 | 34 | 1 | 0 | 0 | 0 | 1 | ⋯ | 0 | 3 |  0 |  2 | 1 | 0 |  7 | 4 | 3 | 0 |\n",
       "| 253661 | 1 | 0 | 1 | 33 | 0 | 0 | 0 | 1 | 0 | ⋯ | 1 | 3 |  0 |  2 | 1 | 0 |  6 | 6 | 6 | 0 |\n",
       "| 253662 | 0 | 0 | 1 | 16 | 0 | 0 | 0 | 1 | 0 | ⋯ | 0 | 1 |  0 |  0 | 0 | 0 |  5 | 6 | 2 | 0 |\n",
       "| 253663 | 0 | 0 | 1 | 23 | 0 | 0 | 0 | 0 | 1 | ⋯ | 1 | 2 |  0 | 30 | 0 | 0 |  5 | 6 | 2 | 0 |\n",
       "| 253664 | 0 | 1 | 1 | 29 | 1 | 0 | 0 | 0 | 0 | ⋯ | 0 | 3 |  0 |  0 | 0 | 0 |  6 | 6 | 4 | 0 |\n",
       "| 253665 | 0 | 1 | 1 | 17 | 0 | 0 | 0 | 0 | 0 | ⋯ | 1 | 4 | 30 | 30 | 0 | 0 |  5 | 4 | 1 | 0 |\n",
       "| 253666 | 1 | 0 | 1 | 23 | 0 | 0 | 0 | 0 | 1 | ⋯ | 0 | 3 |  0 | 15 | 0 | 0 |  6 | 5 | 2 | 0 |\n",
       "| 253667 | 1 | 1 | 1 | 28 | 1 | 0 | 0 | 0 | 0 | ⋯ | 0 | 3 |  0 |  0 | 0 | 0 | 11 | 4 | 7 | 0 |\n",
       "| 253668 | 0 | 1 | 1 | 29 | 1 | 0 | 1 | 0 | 1 | ⋯ | 0 | 2 |  0 |  0 | 1 | 1 | 10 | 3 | 6 | 1 |\n",
       "| 253669 | 0 | 1 | 1 | 27 | 0 | 0 | 0 | 0 | 0 | ⋯ | 1 | 1 |  0 |  3 | 0 | 1 |  6 | 2 | 4 | 0 |\n",
       "| 253670 | 1 | 1 | 1 | 25 | 0 | 0 | 1 | 0 | 1 | ⋯ | 0 | 5 | 15 |  0 | 1 | 0 | 13 | 6 | 4 | 1 |\n",
       "| 253671 | 1 | 1 | 1 | 23 | 0 | 1 | 1 | 0 | 0 | ⋯ | 1 | 4 |  0 |  5 | 0 | 1 |  8 | 3 | 2 | 0 |\n",
       "| 253672 | 1 | 0 | 1 | 30 | 1 | 0 | 1 | 1 | 1 | ⋯ | 0 | 3 |  0 |  0 | 0 | 1 | 12 | 2 | 1 | 0 |\n",
       "| 253673 | 1 | 0 | 1 | 42 | 0 | 0 | 0 | 1 | 1 | ⋯ | 0 | 3 | 14 |  4 | 0 | 1 |  3 | 6 | 8 | 0 |\n",
       "| 253674 | 0 | 0 | 1 | 27 | 0 | 0 | 0 | 0 | 0 | ⋯ | 0 | 1 |  0 |  0 | 0 | 0 |  3 | 6 | 5 | 0 |\n",
       "| 253675 | 1 | 1 | 1 | 45 | 0 | 0 | 0 | 0 | 1 | ⋯ | 0 | 3 |  0 |  5 | 0 | 1 |  5 | 6 | 7 | 0 |\n",
       "| 253676 | 1 | 1 | 1 | 18 | 0 | 0 | 0 | 0 | 0 | ⋯ | 0 | 4 |  0 |  0 | 1 | 0 | 11 | 2 | 4 | 1 |\n",
       "| 253677 | 0 | 0 | 1 | 28 | 0 | 0 | 0 | 1 | 1 | ⋯ | 0 | 1 |  0 |  0 | 0 | 0 |  2 | 5 | 2 | 0 |\n",
       "| 253678 | 1 | 0 | 1 | 23 | 0 | 0 | 0 | 0 | 1 | ⋯ | 0 | 3 |  0 |  0 | 0 | 1 |  7 | 5 | 1 | 0 |\n",
       "| 253679 | 1 | 1 | 1 | 25 | 0 | 0 | 1 | 1 | 1 | ⋯ | 0 | 2 |  0 |  0 | 0 | 0 |  9 | 6 | 2 | 1 |\n",
       "\n"
      ],
      "text/plain": [
       "       X      HighBP HighChol CholCheck BMI Smoker Stroke HeartDiseaseorAttack\n",
       "1       0     1      1        1         40  1      0      0                   \n",
       "2       1     0      0        0         25  1      0      0                   \n",
       "3       2     1      1        1         28  0      0      0                   \n",
       "4       3     1      0        1         27  0      0      0                   \n",
       "5       4     1      1        1         24  0      0      0                   \n",
       "6       5     1      1        1         25  1      0      0                   \n",
       "7       6     1      0        1         30  1      0      0                   \n",
       "8       7     1      1        1         25  1      0      0                   \n",
       "9       8     1      1        1         30  1      0      1                   \n",
       "10      9     0      0        1         24  0      0      0                   \n",
       "11     10     0      0        1         25  1      0      0                   \n",
       "12     11     1      1        1         34  1      0      0                   \n",
       "13     12     0      0        1         26  1      0      0                   \n",
       "14     13     1      1        1         28  0      0      0                   \n",
       "15     14     0      1        1         33  1      1      0                   \n",
       "16     15     1      0        1         33  0      0      0                   \n",
       "17     16     1      1        1         21  0      0      0                   \n",
       "18     17     0      0        1         23  1      0      0                   \n",
       "19     18     0      0        0         23  0      0      0                   \n",
       "20     19     0      1        1         28  0      0      0                   \n",
       "21     20     1      1        1         22  0      1      1                   \n",
       "22     21     1      1        1         38  1      0      0                   \n",
       "23     22     0      0        1         28  1      0      0                   \n",
       "24     23     1      0        1         27  0      0      0                   \n",
       "25     24     1      1        1         28  1      0      0                   \n",
       "26     25     0      0        1         32  0      0      0                   \n",
       "27     26     1      1        1         37  1      1      1                   \n",
       "28     27     1      1        1         28  1      0      1                   \n",
       "29     28     1      1        1         27  1      0      0                   \n",
       "30     29     0      1        1         31  1      0      0                   \n",
       "<U+22EE>      <U+22EE> <U+22EE> <U+22EE> <U+22EE>  <U+22EE> <U+22EE> <U+22EE> <U+22EE>            \n",
       "253651 253650 1      0        1         27  0      0      0                   \n",
       "253652 253651 0      0        1         24  0      0      0                   \n",
       "253653 253652 0      1        1         27  0      0      0                   \n",
       "253654 253653 0      0        1         33  1      0      0                   \n",
       "253655 253654 0      0        1         26  1      0      0                   \n",
       "253656 253655 0      0        1         28  0      0      0                   \n",
       "253657 253656 0      0        1         25  0      0      0                   \n",
       "253658 253657 0      1        1         24  0      0      0                   \n",
       "253659 253658 0      0        0         27  0      0      0                   \n",
       "253660 253659 0      1        1         37  0      0      0                   \n",
       "253661 253660 0      1        1         34  1      0      0                   \n",
       "253662 253661 1      0        1         33  0      0      0                   \n",
       "253663 253662 0      0        1         16  0      0      0                   \n",
       "253664 253663 0      0        1         23  0      0      0                   \n",
       "253665 253664 0      1        1         29  1      0      0                   \n",
       "253666 253665 0      1        1         17  0      0      0                   \n",
       "253667 253666 1      0        1         23  0      0      0                   \n",
       "253668 253667 1      1        1         28  1      0      0                   \n",
       "253669 253668 0      1        1         29  1      0      1                   \n",
       "253670 253669 0      1        1         27  0      0      0                   \n",
       "253671 253670 1      1        1         25  0      0      1                   \n",
       "253672 253671 1      1        1         23  0      1      1                   \n",
       "253673 253672 1      0        1         30  1      0      1                   \n",
       "253674 253673 1      0        1         42  0      0      0                   \n",
       "253675 253674 0      0        1         27  0      0      0                   \n",
       "253676 253675 1      1        1         45  0      0      0                   \n",
       "253677 253676 1      1        1         18  0      0      0                   \n",
       "253678 253677 0      0        1         28  0      0      0                   \n",
       "253679 253678 1      0        1         23  0      0      0                   \n",
       "253680 253679 1      1        1         25  0      0      1                   \n",
       "       PhysActivity Fruits <U+22EF>        NoDocbcCost GenHlth MentHlth PhysHlth\n",
       "1      0            0      <U+22EF> 0           5       18       15      \n",
       "2      1            0      <U+22EF> 1           3        0        0      \n",
       "3      0            1      <U+22EF> 1           5       30       30      \n",
       "4      1            1      <U+22EF> 0           2        0        0      \n",
       "5      1            1      <U+22EF> 0           2        3        0      \n",
       "6      1            1      <U+22EF> 0           2        0        2      \n",
       "7      0            0      <U+22EF> 0           3        0       14      \n",
       "8      1            0      <U+22EF> 0           3        0        0      \n",
       "9      0            1      <U+22EF> 0           5       30       30      \n",
       "10     0            0      <U+22EF> 0           2        0        0      \n",
       "11     1            1      <U+22EF> 0           3        0        0      \n",
       "12     0            1      <U+22EF> 0           3        0       30      \n",
       "13     0            0      <U+22EF> 0           3        0       15      \n",
       "14     0            0      <U+22EF> 0           4        0        0      \n",
       "15     1            0      <U+22EF> 1           4       30       28      \n",
       "16     1            0      <U+22EF> 0           2        5        0      \n",
       "17     1            1      <U+22EF> 0           3        0        0      \n",
       "18     1            0      <U+22EF> 0           2        0        0      \n",
       "19     0            0      <U+22EF> 0           2       15        0      \n",
       "20     0            0      <U+22EF> 0           2       10        0      \n",
       "21     0            1      <U+22EF> 0           3       30        0      \n",
       "22     0            1      <U+22EF> 0           5       15       30      \n",
       "23     0            0      <U+22EF> 0           3        0        7      \n",
       "24     1            1      <U+22EF> 0           1        0        0      \n",
       "25     0            1      <U+22EF> 0           3        6        0      \n",
       "26     1            1      <U+22EF> 0           2        0        0      \n",
       "27     0            0      <U+22EF> 0           5        0        0      \n",
       "28     0            0      <U+22EF> 0           4        0        0      \n",
       "29     0            1      <U+22EF> 0           4       20       20      \n",
       "30     1            1      <U+22EF> 0           1        0        0      \n",
       "<U+22EE>      <U+22EE>     <U+22EE> <U+22F1> <U+22EE>    <U+22EE> <U+22EE> <U+22EE>\n",
       "253651 1            0      <U+22EF> 0           4        0        0      \n",
       "253652 1            1      <U+22EF> 1           1        0        0      \n",
       "253653 1            1      <U+22EF> 0           4        0       30      \n",
       "253654 0            1      <U+22EF> 0           4        0       15      \n",
       "253655 1            1      <U+22EF> 0           2        1        0      \n",
       "253656 1            1      <U+22EF> 0           2        0        0      \n",
       "253657 1            1      <U+22EF> 0           1        0        0      \n",
       "253658 0            0      <U+22EF> 0           3        0        0      \n",
       "253659 1            0      <U+22EF> 1           2        0        0      \n",
       "253660 0            0      <U+22EF> 0           4        0        0      \n",
       "253661 0            1      <U+22EF> 0           3        0        2      \n",
       "253662 1            0      <U+22EF> 1           3        0        2      \n",
       "253663 1            0      <U+22EF> 0           1        0        0      \n",
       "253664 0            1      <U+22EF> 1           2        0       30      \n",
       "253665 0            0      <U+22EF> 0           3        0        0      \n",
       "253666 0            0      <U+22EF> 1           4       30       30      \n",
       "253667 0            1      <U+22EF> 0           3        0       15      \n",
       "253668 0            0      <U+22EF> 0           3        0        0      \n",
       "253669 0            1      <U+22EF> 0           2        0        0      \n",
       "253670 0            0      <U+22EF> 1           1        0        3      \n",
       "253671 0            1      <U+22EF> 0           5       15        0      \n",
       "253672 0            0      <U+22EF> 1           4        0        5      \n",
       "253673 1            1      <U+22EF> 0           3        0        0      \n",
       "253674 1            1      <U+22EF> 0           3       14        4      \n",
       "253675 0            0      <U+22EF> 0           1        0        0      \n",
       "253676 0            1      <U+22EF> 0           3        0        5      \n",
       "253677 0            0      <U+22EF> 0           4        0        0      \n",
       "253678 1            1      <U+22EF> 0           1        0        0      \n",
       "253679 0            1      <U+22EF> 0           3        0        0      \n",
       "253680 1            1      <U+22EF> 0           2        0        0      \n",
       "       DiffWalk Sex Age Education Income Diabetes_binary\n",
       "1      1        0    9  4         3      0              \n",
       "2      0        0    7  6         1      0              \n",
       "3      1        0    9  4         8      0              \n",
       "4      0        0   11  3         6      0              \n",
       "5      0        0   11  5         4      0              \n",
       "6      0        1   10  6         8      0              \n",
       "7      0        0    9  6         7      0              \n",
       "8      1        0   11  4         4      0              \n",
       "9      1        0    9  5         1      1              \n",
       "10     0        1    8  4         3      0              \n",
       "11     0        1   13  6         8      1              \n",
       "12     1        0   10  5         1      0              \n",
       "13     0        0    7  5         7      0              \n",
       "14     1        0   11  4         6      1              \n",
       "15     0        0    4  6         2      0              \n",
       "16     0        0    6  6         8      0              \n",
       "17     0        0   10  4         3      0              \n",
       "18     0        1    7  5         6      1              \n",
       "19     0        0    2  6         7      0              \n",
       "20     0        1    4  6         8      0              \n",
       "21     1        0   12  4         4      0              \n",
       "22     1        0   13  2         3      0              \n",
       "23     0        1    5  5         5      0              \n",
       "24     0        0   13  5         4      1              \n",
       "25     1        0    9  4         6      0              \n",
       "26     0        0    5  6         8      0              \n",
       "27     1        1   10  6         5      1              \n",
       "28     0        1   12  2         4      1              \n",
       "29     1        0    8  4         7      1              \n",
       "30     0        1   12  6         8      0              \n",
       "<U+22EE>      <U+22EE> <U+22EE> <U+22EE> <U+22EE>  <U+22EE> <U+22EE>       \n",
       "253651 0        0    5  4         2      0              \n",
       "253652 0        1    2  6         3      0              \n",
       "253653 0        1   11  2         3      1              \n",
       "253654 0        1   10  6         3      0              \n",
       "253655 0        1    3  3         1      0              \n",
       "253656 0        0    2  6         4      0              \n",
       "253657 0        0    4  6         8      0              \n",
       "253658 0        0    7  5         3      0              \n",
       "253659 0        0    3  6         5      0              \n",
       "253660 0        0    6  4         1      1              \n",
       "253661 1        0    7  4         3      0              \n",
       "253662 1        0    6  6         6      0              \n",
       "253663 0        0    5  6         2      0              \n",
       "253664 0        0    5  6         2      0              \n",
       "253665 0        0    6  6         4      0              \n",
       "253666 0        0    5  4         1      0              \n",
       "253667 0        0    6  5         2      0              \n",
       "253668 0        0   11  4         7      0              \n",
       "253669 1        1   10  3         6      1              \n",
       "253670 0        1    6  2         4      0              \n",
       "253671 1        0   13  6         4      1              \n",
       "253672 0        1    8  3         2      0              \n",
       "253673 0        1   12  2         1      0              \n",
       "253674 0        1    3  6         8      0              \n",
       "253675 0        0    3  6         5      0              \n",
       "253676 0        1    5  6         7      0              \n",
       "253677 1        0   11  2         4      1              \n",
       "253678 0        0    2  5         2      0              \n",
       "253679 0        1    7  5         1      0              \n",
       "253680 0        0    9  6         2      1              "
      ]
     },
     "metadata": {},
     "output_type": "display_data"
    }
   ],
   "source": [
    "df"
   ]
  },
  {
   "cell_type": "code",
   "execution_count": 17,
   "id": "e9620d44-a832-40ea-ad74-52bf871ea734",
   "metadata": {},
   "outputs": [
    {
     "name": "stdout",
     "output_type": "stream",
     "text": [
      "'data.frame':\t253680 obs. of  23 variables:\n",
      " $ X                   : int  0 1 2 3 4 5 6 7 8 9 ...\n",
      " $ HighBP              : int  1 0 1 1 1 1 1 1 1 0 ...\n",
      " $ HighChol            : int  1 0 1 0 1 1 0 1 1 0 ...\n",
      " $ CholCheck           : int  1 0 1 1 1 1 1 1 1 1 ...\n",
      " $ BMI                 : int  40 25 28 27 24 25 30 25 30 24 ...\n",
      " $ Smoker              : int  1 1 0 0 0 1 1 1 1 0 ...\n",
      " $ Stroke              : int  0 0 0 0 0 0 0 0 0 0 ...\n",
      " $ HeartDiseaseorAttack: int  0 0 0 0 0 0 0 0 1 0 ...\n",
      " $ PhysActivity        : int  0 1 0 1 1 1 0 1 0 0 ...\n",
      " $ Fruits              : int  0 0 1 1 1 1 0 0 1 0 ...\n",
      " $ Veggies             : int  1 0 0 1 1 1 0 1 1 1 ...\n",
      " $ HvyAlcoholConsump   : int  0 0 0 0 0 0 0 0 0 0 ...\n",
      " $ AnyHealthcare       : int  1 0 1 1 1 1 1 1 1 1 ...\n",
      " $ NoDocbcCost         : int  0 1 1 0 0 0 0 0 0 0 ...\n",
      " $ GenHlth             : int  5 3 5 2 2 2 3 3 5 2 ...\n",
      " $ MentHlth            : int  18 0 30 0 3 0 0 0 30 0 ...\n",
      " $ PhysHlth            : int  15 0 30 0 0 2 14 0 30 0 ...\n",
      " $ DiffWalk            : int  1 0 1 0 0 0 0 1 1 0 ...\n",
      " $ Sex                 : int  0 0 0 0 0 1 0 0 0 1 ...\n",
      " $ Age                 : int  9 7 9 11 11 10 9 11 9 8 ...\n",
      " $ Education           : int  4 6 4 3 5 6 6 4 5 4 ...\n",
      " $ Income              : int  3 1 8 6 4 8 7 4 1 3 ...\n",
      " $ Diabetes_binary     : int  0 0 0 0 0 0 0 0 1 0 ...\n"
     ]
    }
   ],
   "source": [
    "str(df)"
   ]
  },
  {
   "cell_type": "markdown",
   "id": "6a37d8fa-dda1-4e12-8164-798bcbf0809e",
   "metadata": {},
   "source": [
    "## 2. Data Preprocessing"
   ]
  },
  {
   "cell_type": "markdown",
   "id": "3e9eb452-2ca5-457f-9e44-7b6651a69e89",
   "metadata": {},
   "source": [
    "### 2.1. Standardize column names"
   ]
  },
  {
   "cell_type": "code",
   "execution_count": 45,
   "id": "b4719da7-365e-42e4-bfaa-f51bd5c9d877",
   "metadata": {},
   "outputs": [
    {
     "data": {
      "text/html": [
       "<style>\n",
       ".list-inline {list-style: none; margin:0; padding: 0}\n",
       ".list-inline>li {display: inline-block}\n",
       ".list-inline>li:not(:last-child)::after {content: \"\\00b7\"; padding: 0 .5ex}\n",
       "</style>\n",
       "<ol class=list-inline><li>'HighBP'</li><li>'HighChol'</li><li>'CholCheck'</li><li>'BMI'</li><li>'Smoker'</li><li>'Stroke'</li><li>'HeartDiseaseorAttack'</li><li>'PhysActivity'</li><li>'Fruits'</li><li>'Veggies'</li><li>'HvyAlcoholConsump'</li><li>'AnyHealthcare'</li><li>'NoDocbcCost'</li><li>'GenHlth'</li><li>'MentHlth'</li><li>'PhysHlth'</li><li>'DiffWalk'</li><li>'Sex'</li><li>'Age'</li><li>'Education'</li><li>'Income'</li><li>'Diabetes_binary'</li></ol>\n"
      ],
      "text/latex": [
       "\\begin{enumerate*}\n",
       "\\item 'HighBP'\n",
       "\\item 'HighChol'\n",
       "\\item 'CholCheck'\n",
       "\\item 'BMI'\n",
       "\\item 'Smoker'\n",
       "\\item 'Stroke'\n",
       "\\item 'HeartDiseaseorAttack'\n",
       "\\item 'PhysActivity'\n",
       "\\item 'Fruits'\n",
       "\\item 'Veggies'\n",
       "\\item 'HvyAlcoholConsump'\n",
       "\\item 'AnyHealthcare'\n",
       "\\item 'NoDocbcCost'\n",
       "\\item 'GenHlth'\n",
       "\\item 'MentHlth'\n",
       "\\item 'PhysHlth'\n",
       "\\item 'DiffWalk'\n",
       "\\item 'Sex'\n",
       "\\item 'Age'\n",
       "\\item 'Education'\n",
       "\\item 'Income'\n",
       "\\item 'Diabetes\\_binary'\n",
       "\\end{enumerate*}\n"
      ],
      "text/markdown": [
       "1. 'HighBP'\n",
       "2. 'HighChol'\n",
       "3. 'CholCheck'\n",
       "4. 'BMI'\n",
       "5. 'Smoker'\n",
       "6. 'Stroke'\n",
       "7. 'HeartDiseaseorAttack'\n",
       "8. 'PhysActivity'\n",
       "9. 'Fruits'\n",
       "10. 'Veggies'\n",
       "11. 'HvyAlcoholConsump'\n",
       "12. 'AnyHealthcare'\n",
       "13. 'NoDocbcCost'\n",
       "14. 'GenHlth'\n",
       "15. 'MentHlth'\n",
       "16. 'PhysHlth'\n",
       "17. 'DiffWalk'\n",
       "18. 'Sex'\n",
       "19. 'Age'\n",
       "20. 'Education'\n",
       "21. 'Income'\n",
       "22. 'Diabetes_binary'\n",
       "\n",
       "\n"
      ],
      "text/plain": [
       " [1] \"HighBP\"               \"HighChol\"             \"CholCheck\"           \n",
       " [4] \"BMI\"                  \"Smoker\"               \"Stroke\"              \n",
       " [7] \"HeartDiseaseorAttack\" \"PhysActivity\"         \"Fruits\"              \n",
       "[10] \"Veggies\"              \"HvyAlcoholConsump\"    \"AnyHealthcare\"       \n",
       "[13] \"NoDocbcCost\"          \"GenHlth\"              \"MentHlth\"            \n",
       "[16] \"PhysHlth\"             \"DiffWalk\"             \"Sex\"                 \n",
       "[19] \"Age\"                  \"Education\"            \"Income\"              \n",
       "[22] \"Diabetes_binary\"     "
      ]
     },
     "metadata": {},
     "output_type": "display_data"
    }
   ],
   "source": [
    "colnames(df)"
   ]
  },
  {
   "cell_type": "code",
   "execution_count": 46,
   "id": "b12f9f7f-d48b-4339-94a9-d653ffc074a9",
   "metadata": {},
   "outputs": [],
   "source": [
    "# COMMENT: remove column \"X\"\n",
    "if (\"X\" %in% colnames(df))\n",
    "{\n",
    "    df = df[, !colnames(df) == \"X\"]\n",
    "}"
   ]
  },
  {
   "cell_type": "code",
   "execution_count": 36,
   "id": "35312eb4-acb0-43c3-aea3-ac85b7a8b818",
   "metadata": {},
   "outputs": [
    {
     "name": "stdout",
     "output_type": "stream",
     "text": [
      "'data.frame':\t253680 obs. of  22 variables:\n",
      " $ HighBP              : int  1 0 1 1 1 1 1 1 1 0 ...\n",
      " $ HighChol            : int  1 0 1 0 1 1 0 1 1 0 ...\n",
      " $ CholCheck           : int  1 0 1 1 1 1 1 1 1 1 ...\n",
      " $ BMI                 : int  40 25 28 27 24 25 30 25 30 24 ...\n",
      " $ Smoker              : int  1 1 0 0 0 1 1 1 1 0 ...\n",
      " $ Stroke              : int  0 0 0 0 0 0 0 0 0 0 ...\n",
      " $ HeartDiseaseorAttack: int  0 0 0 0 0 0 0 0 1 0 ...\n",
      " $ PhysActivity        : int  0 1 0 1 1 1 0 1 0 0 ...\n",
      " $ Fruits              : int  0 0 1 1 1 1 0 0 1 0 ...\n",
      " $ Veggies             : int  1 0 0 1 1 1 0 1 1 1 ...\n",
      " $ HvyAlcoholConsump   : int  0 0 0 0 0 0 0 0 0 0 ...\n",
      " $ AnyHealthcare       : int  1 0 1 1 1 1 1 1 1 1 ...\n",
      " $ NoDocbcCost         : int  0 1 1 0 0 0 0 0 0 0 ...\n",
      " $ GenHlth             : int  5 3 5 2 2 2 3 3 5 2 ...\n",
      " $ MentHlth            : int  18 0 30 0 3 0 0 0 30 0 ...\n",
      " $ PhysHlth            : int  15 0 30 0 0 2 14 0 30 0 ...\n",
      " $ DiffWalk            : int  1 0 1 0 0 0 0 1 1 0 ...\n",
      " $ Sex                 : int  0 0 0 0 0 1 0 0 0 1 ...\n",
      " $ Age                 : int  9 7 9 11 11 10 9 11 9 8 ...\n",
      " $ Education           : int  4 6 4 3 5 6 6 4 5 4 ...\n",
      " $ Income              : int  3 1 8 6 4 8 7 4 1 3 ...\n",
      " $ Diabetes_binary     : int  0 0 0 0 0 0 0 0 1 0 ...\n"
     ]
    }
   ],
   "source": [
    "str(df)"
   ]
  },
  {
   "cell_type": "markdown",
   "id": "29d1ddfb-ecf3-41ff-9cd7-e1aaa3ea6873",
   "metadata": {},
   "source": [
    "### 2.2. Mismatched data types"
   ]
  },
  {
   "cell_type": "code",
   "execution_count": 30,
   "id": "52a70792-43e3-4bf3-9987-f4460e2601ac",
   "metadata": {},
   "outputs": [
    {
     "name": "stdout",
     "output_type": "stream",
     "text": [
      "'data.frame':\t253680 obs. of  22 variables:\n",
      " $ HighBP              : int  1 0 1 1 1 1 1 1 1 0 ...\n",
      " $ HighChol            : int  1 0 1 0 1 1 0 1 1 0 ...\n",
      " $ CholCheck           : int  1 0 1 1 1 1 1 1 1 1 ...\n",
      " $ BMI                 : int  40 25 28 27 24 25 30 25 30 24 ...\n",
      " $ Smoker              : int  1 1 0 0 0 1 1 1 1 0 ...\n",
      " $ Stroke              : int  0 0 0 0 0 0 0 0 0 0 ...\n",
      " $ HeartDiseaseorAttack: int  0 0 0 0 0 0 0 0 1 0 ...\n",
      " $ PhysActivity        : int  0 1 0 1 1 1 0 1 0 0 ...\n",
      " $ Fruits              : int  0 0 1 1 1 1 0 0 1 0 ...\n",
      " $ Veggies             : int  1 0 0 1 1 1 0 1 1 1 ...\n",
      " $ HvyAlcoholConsump   : int  0 0 0 0 0 0 0 0 0 0 ...\n",
      " $ AnyHealthcare       : int  1 0 1 1 1 1 1 1 1 1 ...\n",
      " $ NoDocbcCost         : int  0 1 1 0 0 0 0 0 0 0 ...\n",
      " $ GenHlth             : int  5 3 5 2 2 2 3 3 5 2 ...\n",
      " $ MentHlth            : int  18 0 30 0 3 0 0 0 30 0 ...\n",
      " $ PhysHlth            : int  15 0 30 0 0 2 14 0 30 0 ...\n",
      " $ DiffWalk            : int  1 0 1 0 0 0 0 1 1 0 ...\n",
      " $ Sex                 : int  0 0 0 0 0 1 0 0 0 1 ...\n",
      " $ Age                 : int  9 7 9 11 11 10 9 11 9 8 ...\n",
      " $ Education           : int  4 6 4 3 5 6 6 4 5 4 ...\n",
      " $ Income              : int  3 1 8 6 4 8 7 4 1 3 ...\n",
      " $ Diabetes_binary     : int  0 0 0 0 0 0 0 0 1 0 ...\n"
     ]
    }
   ],
   "source": [
    "str(df)"
   ]
  },
  {
   "cell_type": "code",
   "execution_count": 56,
   "id": "b789f42e-d909-4ba9-943b-4be30018384e",
   "metadata": {},
   "outputs": [],
   "source": [
    "# COMMENT\n",
    "# All columns have correct data type"
   ]
  },
  {
   "cell_type": "markdown",
   "id": "bce5f736-1022-4709-b276-c91845b413a8",
   "metadata": {},
   "source": [
    "### 2.3. Mixed data values"
   ]
  },
  {
   "cell_type": "code",
   "execution_count": 54,
   "id": "fec32eab-4252-4199-ba54-a92194e8413f",
   "metadata": {},
   "outputs": [],
   "source": [
    "# COMMENT\n",
    "# Example: (female, woman, man, male) => (male, female)"
   ]
  },
  {
   "cell_type": "code",
   "execution_count": 55,
   "id": "1704f561-7315-42a1-97ee-5f888d44d29f",
   "metadata": {},
   "outputs": [],
   "source": [
    "# COMMENT\n",
    "# This dataset contains only number data => No mixed data values"
   ]
  },
  {
   "cell_type": "markdown",
   "id": "adaab349-e467-4880-91db-36fb48c1b04a",
   "metadata": {},
   "source": [
    "### 2.4. Missing data"
   ]
  },
  {
   "cell_type": "markdown",
   "id": "b3488a5a-29aa-409e-8963-bafe7dd0d9ac",
   "metadata": {},
   "source": [
    "#### 2.4.1 Null data"
   ]
  },
  {
   "cell_type": "code",
   "execution_count": 39,
   "id": "b8da67e8-3b6a-4d54-99be-cb8d4bef553a",
   "metadata": {},
   "outputs": [
    {
     "data": {
      "text/html": [
       "0"
      ],
      "text/latex": [
       "0"
      ],
      "text/markdown": [
       "0"
      ],
      "text/plain": [
       "[1] 0"
      ]
     },
     "metadata": {},
     "output_type": "display_data"
    }
   ],
   "source": [
    "sum(is.na(df))"
   ]
  },
  {
   "cell_type": "code",
   "execution_count": 52,
   "id": "b286bbbf-31d0-4d33-9b9a-46a1b0e19054",
   "metadata": {},
   "outputs": [],
   "source": [
    "# COMMENT\n",
    "# This dataset has no missing values"
   ]
  },
  {
   "cell_type": "markdown",
   "id": "12494376-38f9-4474-8a6b-9c2f95cd27d8",
   "metadata": {},
   "source": [
    "#### 2.4.2 Missing data in specific columns"
   ]
  },
  {
   "cell_type": "code",
   "execution_count": 51,
   "id": "4c293392-f5b0-42f9-9e89-dcdad903a850",
   "metadata": {},
   "outputs": [],
   "source": [
    "# COMMENT\n",
    "# We see that in column \"Age\", the value could have value of 14 \n",
    "# which is Don’t know / Refused / Missing (_AGEG5YR - BRFSS)"
   ]
  },
  {
   "cell_type": "code",
   "execution_count": 43,
   "id": "c8530450-5b2d-4db3-963b-d7079c3aa5c2",
   "metadata": {},
   "outputs": [
    {
     "data": {
      "text/html": [
       "0"
      ],
      "text/latex": [
       "0"
      ],
      "text/markdown": [
       "0"
      ],
      "text/plain": [
       "[1] 0"
      ]
     },
     "metadata": {},
     "output_type": "display_data"
    }
   ],
   "source": [
    "nrow(subset(df, Age == 14))"
   ]
  },
  {
   "cell_type": "code",
   "execution_count": 57,
   "id": "fcec4fc6-4968-443a-9445-0d16b5c00c3b",
   "metadata": {},
   "outputs": [],
   "source": [
    "# COMMENT\n",
    "# The dataset has no missing data."
   ]
  },
  {
   "cell_type": "markdown",
   "id": "9606d14d-becd-4fc7-a425-b3ead8940166",
   "metadata": {},
   "source": [
    "## 3. Exploratory data analysis (EDA)"
   ]
  },
  {
   "cell_type": "code",
   "execution_count": 60,
   "id": "03806332-c7cf-4c28-a038-ee703dfbda93",
   "metadata": {},
   "outputs": [],
   "source": [
    "plot_stack_bar_2x2 = function(table_2x2)\n",
    "{\n",
    "    barplot(table_2x2, beside = TRUE, col = c(\"green\", \"red\"))\n",
    "    legend(\"topright\", legend = rownames(table_2x2), fill = c(\"green\", \"red\"))\n",
    "}"
   ]
  },
  {
   "cell_type": "code",
   "execution_count": 63,
   "id": "26819b2c-4c69-4633-a51c-b5007592366f",
   "metadata": {},
   "outputs": [
    {
     "name": "stdout",
     "output_type": "stream",
     "text": [
      "'data.frame':\t253680 obs. of  22 variables:\n",
      " $ HighBP              : int  1 0 1 1 1 1 1 1 1 0 ...\n",
      " $ HighChol            : int  1 0 1 0 1 1 0 1 1 0 ...\n",
      " $ CholCheck           : int  1 0 1 1 1 1 1 1 1 1 ...\n",
      " $ BMI                 : int  40 25 28 27 24 25 30 25 30 24 ...\n",
      " $ Smoker              : int  1 1 0 0 0 1 1 1 1 0 ...\n",
      " $ Stroke              : int  0 0 0 0 0 0 0 0 0 0 ...\n",
      " $ HeartDiseaseorAttack: int  0 0 0 0 0 0 0 0 1 0 ...\n",
      " $ PhysActivity        : int  0 1 0 1 1 1 0 1 0 0 ...\n",
      " $ Fruits              : int  0 0 1 1 1 1 0 0 1 0 ...\n",
      " $ Veggies             : int  1 0 0 1 1 1 0 1 1 1 ...\n",
      " $ HvyAlcoholConsump   : int  0 0 0 0 0 0 0 0 0 0 ...\n",
      " $ AnyHealthcare       : int  1 0 1 1 1 1 1 1 1 1 ...\n",
      " $ NoDocbcCost         : int  0 1 1 0 0 0 0 0 0 0 ...\n",
      " $ GenHlth             : int  5 3 5 2 2 2 3 3 5 2 ...\n",
      " $ MentHlth            : int  18 0 30 0 3 0 0 0 30 0 ...\n",
      " $ PhysHlth            : int  15 0 30 0 0 2 14 0 30 0 ...\n",
      " $ DiffWalk            : int  1 0 1 0 0 0 0 1 1 0 ...\n",
      " $ Sex                 : int  0 0 0 0 0 1 0 0 0 1 ...\n",
      " $ Age                 : int  9 7 9 11 11 10 9 11 9 8 ...\n",
      " $ Education           : int  4 6 4 3 5 6 6 4 5 4 ...\n",
      " $ Income              : int  3 1 8 6 4 8 7 4 1 3 ...\n",
      " $ Diabetes_binary     : int  0 0 0 0 0 0 0 0 1 0 ...\n"
     ]
    }
   ],
   "source": [
    "str(df)"
   ]
  },
  {
   "cell_type": "markdown",
   "id": "c2bae823-a9ff-47bd-9cbd-827648c0ac2e",
   "metadata": {},
   "source": [
    "### 3.1. Response variable analysis"
   ]
  },
  {
   "cell_type": "code",
   "execution_count": 67,
   "id": "7e7e43c5-7322-4e9f-83ad-dd5f6c64d6a5",
   "metadata": {},
   "outputs": [],
   "source": [
    "response_col = \"Diabetes_binary\""
   ]
  },
  {
   "cell_type": "code",
   "execution_count": 68,
   "id": "940076f1-6f56-4cf3-b0ea-23590ea86b68",
   "metadata": {},
   "outputs": [
    {
     "data": {
      "image/png": "[encoded data removed]",
      "text/plain": [
       "Plot with title \"Diabetes_binary\""
      ]
     },
     "metadata": {
      "image/png": {
       "height": 420,
       "width": 420
      }
     },
     "output_type": "display_data"
    }
   ],
   "source": [
    "pie(table(df[, response_col]), main = response_col, col = c(\"green\", \"red\"),\n",
    "    labels = c(\"No Diabetes\", \"Diabetes\"), )"
   ]
  },
  {
   "cell_type": "code",
   "execution_count": 93,
   "id": "b3da72aa-81d0-4ba7-ad50-5d30bf9f4e6b",
   "metadata": {},
   "outputs": [
    {
     "data": {
      "image/png": "[encoded data removed]",
      "text/plain": [
       "plot without title"
      ]
     },
     "metadata": {
      "image/png": {
       "height": 420,
       "width": 420
      }
     },
     "output_type": "display_data"
    }
   ],
   "source": [
    "library(ggplot2)\n",
    "\n",
    "# Assuming df is your dataframe and response_col is the column containing the response variable\n",
    "response_col <- \"Diabetes_binary\"\n",
    "\n",
    "# Creating a table of counts for each category in the response column\n",
    "response_table <- table(df[, response_col])\n",
    "\n",
    "# Converting the table into a data frame\n",
    "response_df <- as.data.frame(response_table)\n",
    "\n",
    "# Renaming the column\n",
    "colnames(response_df) <- c(\"Response\", \"Count\")\n",
    "\n",
    "# Calculate percentages\n",
    "response_df$Percent <- response_df$Count / sum(response_df$Count) * 100\n",
    "\n",
    "# Creating a pie chart using ggplot2\n",
    "pie_chart <- ggplot(response_df, aes(x = \"\", y = Count, fill = Response)) +\n",
    "  geom_bar(stat = \"identity\", width = 1) +\n",
    "  coord_polar(\"y\", start = 0) +\n",
    "  scale_fill_manual(values = c(\"green\", \"red\")) + \n",
    "  labs(title = response_col) +\n",
    "  theme_void() +\n",
    "  theme(legend.position = \"bottom\", \n",
    "        plot.title = element_text(hjust = 0.5, size = 30),  # Adjust title size here\n",
    "        legend.text = element_text(size = 20)) +            # Adjust legend text size here\n",
    "  geom_text(aes(label = paste0(round(Percent, 1), \"%\")), \n",
    "            position = position_stack(vjust = 0.5),\n",
    "            size = 7) + # Adjust label size here\n",
    "  guides(fill = guide_legend(title = response_col, title.position = \"top\", title.theme = element_text(size = 15))) # Adjust legend title size here\n",
    "\n",
    "# Displaying the pie chart\n",
    "print(pie_chart)"
   ]
  },
  {
   "cell_type": "code",
   "execution_count": 92,
   "id": "e3565b0f-c921-4d6d-9547-454cbcad9df6",
   "metadata": {},
   "outputs": [],
   "source": [
    "# COMMENT\n",
    "# The dataset is imbalanced\n",
    "# => Apply oversampling method"
   ]
  },
  {
   "cell_type": "markdown",
   "id": "39f720e5-1a17-4f18-bafb-73422f61709b",
   "metadata": {},
   "source": [
    "### 3.1. Dataset oversampling"
   ]
  },
  {
   "cell_type": "code",
   "execution_count": null,
   "id": "0daeec49-e847-40c6-9476-fea0e79e148d",
   "metadata": {},
   "outputs": [],
   "source": []
  },
  {
   "cell_type": "code",
   "execution_count": null,
   "id": "2cff7344-145c-4766-9547-773532642b35",
   "metadata": {},
   "outputs": [],
   "source": []
  },
  {
   "cell_type": "code",
   "execution_count": null,
   "id": "32ddb639-5bbf-4ce9-b0d2-eaf8cec423a1",
   "metadata": {},
   "outputs": [],
   "source": []
  },
  {
   "cell_type": "code",
   "execution_count": null,
   "id": "c78311a0-7cec-47a8-b78b-cd47e47fe792",
   "metadata": {},
   "outputs": [],
   "source": []
  },
  {
   "cell_type": "code",
   "execution_count": null,
   "id": "2dbab752-ec2e-4939-89a4-b25579cb860e",
   "metadata": {},
   "outputs": [],
   "source": []
  },
  {
   "cell_type": "code",
   "execution_count": null,
   "id": "8a8b27a1-3946-4657-ac38-c8658efd2c9e",
   "metadata": {},
   "outputs": [],
   "source": []
  },
  {
   "cell_type": "code",
   "execution_count": null,
   "id": "6b91c9c2-d726-4619-b915-ab5c4d7b57ea",
   "metadata": {},
   "outputs": [],
   "source": []
  },
  {
   "cell_type": "code",
   "execution_count": null,
   "id": "e8e44878-0967-430e-bbe0-049b40ad0133",
   "metadata": {},
   "outputs": [],
   "source": []
  },
  {
   "cell_type": "code",
   "execution_count": null,
   "id": "7626db58-8f05-4b60-bfaf-9100fbba8e78",
   "metadata": {},
   "outputs": [],
   "source": []
  },
  {
   "cell_type": "code",
   "execution_count": null,
   "id": "cc4044f5-2f67-43ec-ad1b-ac58ab18ecc7",
   "metadata": {},
   "outputs": [],
   "source": []
  },
  {
   "cell_type": "code",
   "execution_count": null,
   "id": "a9bf30f3-da91-41b4-973f-77a9f31637fc",
   "metadata": {},
   "outputs": [],
   "source": []
  },
  {
   "cell_type": "code",
   "execution_count": null,
   "id": "8a586867-74c9-4f5e-a7fb-613405c243d3",
   "metadata": {},
   "outputs": [],
   "source": []
  },
  {
   "cell_type": "code",
   "execution_count": null,
   "id": "53a66399-9adf-490f-8e26-b99a5aac630f",
   "metadata": {},
   "outputs": [],
   "source": []
  },
  {
   "cell_type": "code",
   "execution_count": null,
   "id": "e6952c34-254f-4657-b196-385a338766d4",
   "metadata": {},
   "outputs": [],
   "source": []
  },
  {
   "cell_type": "code",
   "execution_count": null,
   "id": "b39fca66-eba8-487a-bbb1-6958e0f78ac5",
   "metadata": {},
   "outputs": [],
   "source": []
  }
 ],
 "metadata": {
  "kernelspec": {
   "display_name": "R",
   "language": "R",
   "name": "ir"
  },
  "language_info": {
   "codemirror_mode": "r",
   "file_extension": ".r",
   "mimetype": "text/x-r-source",
   "name": "R",
   "pygments_lexer": "r",
   "version": "4.0.5"
  }
 },
 "nbformat": 4,
 "nbformat_minor": 5
}
