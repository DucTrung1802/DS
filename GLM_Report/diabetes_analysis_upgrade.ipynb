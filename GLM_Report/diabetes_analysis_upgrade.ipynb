{
 "cells": [
  {
   "cell_type": "markdown",
   "id": "9775ac29-68f2-4038-a44d-7ddcad6cd76a",
   "metadata": {},
   "source": [
    "# Diabetes Analysis"
   ]
  },
  {
   "cell_type": "markdown",
   "id": "512df902-fb91-4257-a7dd-4c6a1fcd460c",
   "metadata": {},
   "source": [
    "### Author: Ly Duc Trung"
   ]
  },
  {
   "cell_type": "markdown",
   "id": "b9abdf19-0780-46d7-9246-ac0b25747145",
   "metadata": {},
   "source": [
    "### Link: https://github.com/DucTrung1802/DS/blob/main/GLM_Report/diabetes_analysis_upgrade.ipynb"
   ]
  },
  {
   "cell_type": "markdown",
   "id": "deb0884f-4606-4ab4-93f5-43a781e1f32d",
   "metadata": {},
   "source": [
    "### Dataset Link: https://www.archive.ics.uci.edu/dataset/891/cdc+diabetes+health+indicators"
   ]
  },
  {
   "cell_type": "markdown",
   "id": "24268dcc-9c1b-4bc9-803b-930bb7eaa68c",
   "metadata": {},
   "source": [
    "## 0. Install and import libraries"
   ]
  },
  {
   "cell_type": "markdown",
   "id": "fadcda47-91d2-41e0-96f7-eceb060570dc",
   "metadata": {},
   "source": [
    "### 0.1. Check R version"
   ]
  },
  {
   "cell_type": "code",
   "execution_count": 208,
   "id": "a8502f57-a490-4226-ab07-808fa431ce9e",
   "metadata": {},
   "outputs": [
    {
     "data": {
      "text/html": [
       "<dl>\n",
       "\t<dt>$platform</dt>\n",
       "\t\t<dd>'x86_64-w64-mingw32'</dd>\n",
       "\t<dt>$arch</dt>\n",
       "\t\t<dd>'x86_64'</dd>\n",
       "\t<dt>$os</dt>\n",
       "\t\t<dd>'mingw32'</dd>\n",
       "\t<dt>$system</dt>\n",
       "\t\t<dd>'x86_64, mingw32'</dd>\n",
       "\t<dt>$status</dt>\n",
       "\t\t<dd>''</dd>\n",
       "\t<dt>$major</dt>\n",
       "\t\t<dd>'4'</dd>\n",
       "\t<dt>$minor</dt>\n",
       "\t\t<dd>'0.5'</dd>\n",
       "\t<dt>$year</dt>\n",
       "\t\t<dd>'2021'</dd>\n",
       "\t<dt>$month</dt>\n",
       "\t\t<dd>'03'</dd>\n",
       "\t<dt>$day</dt>\n",
       "\t\t<dd>'31'</dd>\n",
       "\t<dt>$`svn rev`</dt>\n",
       "\t\t<dd>'80133'</dd>\n",
       "\t<dt>$language</dt>\n",
       "\t\t<dd>'R'</dd>\n",
       "\t<dt>$version.string</dt>\n",
       "\t\t<dd>'R version 4.0.5 (2021-03-31)'</dd>\n",
       "\t<dt>$nickname</dt>\n",
       "\t\t<dd>'Shake and Throw'</dd>\n",
       "</dl>\n"
      ],
      "text/latex": [
       "\\begin{description}\n",
       "\\item[\\$platform] 'x86\\_64-w64-mingw32'\n",
       "\\item[\\$arch] 'x86\\_64'\n",
       "\\item[\\$os] 'mingw32'\n",
       "\\item[\\$system] 'x86\\_64, mingw32'\n",
       "\\item[\\$status] ''\n",
       "\\item[\\$major] '4'\n",
       "\\item[\\$minor] '0.5'\n",
       "\\item[\\$year] '2021'\n",
       "\\item[\\$month] '03'\n",
       "\\item[\\$day] '31'\n",
       "\\item[\\$`svn rev`] '80133'\n",
       "\\item[\\$language] 'R'\n",
       "\\item[\\$version.string] 'R version 4.0.5 (2021-03-31)'\n",
       "\\item[\\$nickname] 'Shake and Throw'\n",
       "\\end{description}\n"
      ],
      "text/markdown": [
       "$platform\n",
       ":   'x86_64-w64-mingw32'\n",
       "$arch\n",
       ":   'x86_64'\n",
       "$os\n",
       ":   'mingw32'\n",
       "$system\n",
       ":   'x86_64, mingw32'\n",
       "$status\n",
       ":   ''\n",
       "$major\n",
       ":   '4'\n",
       "$minor\n",
       ":   '0.5'\n",
       "$year\n",
       ":   '2021'\n",
       "$month\n",
       ":   '03'\n",
       "$day\n",
       ":   '31'\n",
       "$`svn rev`\n",
       ":   '80133'\n",
       "$language\n",
       ":   'R'\n",
       "$version.string\n",
       ":   'R version 4.0.5 (2021-03-31)'\n",
       "$nickname\n",
       ":   'Shake and Throw'\n",
       "\n",
       "\n"
      ],
      "text/plain": [
       "$platform\n",
       "[1] \"x86_64-w64-mingw32\"\n",
       "\n",
       "$arch\n",
       "[1] \"x86_64\"\n",
       "\n",
       "$os\n",
       "[1] \"mingw32\"\n",
       "\n",
       "$system\n",
       "[1] \"x86_64, mingw32\"\n",
       "\n",
       "$status\n",
       "[1] \"\"\n",
       "\n",
       "$major\n",
       "[1] \"4\"\n",
       "\n",
       "$minor\n",
       "[1] \"0.5\"\n",
       "\n",
       "$year\n",
       "[1] \"2021\"\n",
       "\n",
       "$month\n",
       "[1] \"03\"\n",
       "\n",
       "$day\n",
       "[1] \"31\"\n",
       "\n",
       "$`svn rev`\n",
       "[1] \"80133\"\n",
       "\n",
       "$language\n",
       "[1] \"R\"\n",
       "\n",
       "$version.string\n",
       "[1] \"R version 4.0.5 (2021-03-31)\"\n",
       "\n",
       "$nickname\n",
       "[1] \"Shake and Throw\"\n"
      ]
     },
     "metadata": {},
     "output_type": "display_data"
    }
   ],
   "source": [
    "R.Version()"
   ]
  },
  {
   "cell_type": "markdown",
   "id": "8fb3de35-59ae-4343-890b-5c3879386338",
   "metadata": {},
   "source": [
    "### 0.2. Install"
   ]
  },
  {
   "cell_type": "code",
   "execution_count": 209,
   "id": "f6cb5ab9-48a8-44f5-ae56-4b29fcaa115f",
   "metadata": {},
   "outputs": [],
   "source": [
    "# INSTALL THESE PACKAGES IN CONDA TERMINAL\n"
   ]
  },
  {
   "cell_type": "markdown",
   "id": "6d09d272-1ddb-40e3-9d79-5fc9a6781023",
   "metadata": {},
   "source": [
    "### 0.3. Import"
   ]
  },
  {
   "cell_type": "code",
   "execution_count": 340,
   "id": "54957588-c263-485b-ad1d-a36ffd93e607",
   "metadata": {
    "scrolled": true
   },
   "outputs": [],
   "source": [
    "library(ggplot2)\n",
    "library(ROSE)\n",
    "library(psych)\n",
    "library(DescTools)\n",
    "library(BSDA)\n",
    "library(gmodels)\n",
    "library(rcompanion)\n",
    "library(pcaPP)\n",
    "library(corrplot)\n",
    "library(caret)\n",
    "library(MASS)\n",
    "library(pROC)\n",
    "library(DHARMa)"
   ]
  },
  {
   "cell_type": "code",
   "execution_count": 211,
   "id": "f1c3815e-3de9-4a6f-9af1-f379a1bfaca8",
   "metadata": {},
   "outputs": [],
   "source": [
    "### 0.4. Constants"
   ]
  },
  {
   "cell_type": "code",
   "execution_count": 212,
   "id": "890b3957-3123-4894-963b-2daf43112f5b",
   "metadata": {},
   "outputs": [],
   "source": [
    "SEED = 123\n",
    "MAIN_COLOR = \"#1155cc\""
   ]
  },
  {
   "cell_type": "markdown",
   "id": "da0c30e4-e50c-47ed-acd6-7053b9751020",
   "metadata": {},
   "source": [
    "## 1. Import Data"
   ]
  },
  {
   "cell_type": "code",
   "execution_count": 213,
   "id": "d18a7dba-cc4f-451a-ab11-0aec662256c5",
   "metadata": {},
   "outputs": [],
   "source": [
    "input_data = read.csv(\"diabetes_full_data.csv\")"
   ]
  },
  {
   "cell_type": "code",
   "execution_count": 214,
   "id": "eb04da3a-f418-48cb-880b-e697c54c0cd4",
   "metadata": {},
   "outputs": [],
   "source": [
    "df = data.frame(input_data)"
   ]
  },
  {
   "cell_type": "code",
   "execution_count": 215,
   "id": "36d9ec88-07bb-405a-823c-d0f539fac490",
   "metadata": {},
   "outputs": [
    {
     "data": {
      "text/html": [
       "<table class=\"dataframe\">\n",
       "<caption>A data.frame: 253680 × 23</caption>\n",
       "<thead>\n",
       "\t<tr><th scope=col>X</th><th scope=col>HighBP</th><th scope=col>HighChol</th><th scope=col>CholCheck</th><th scope=col>BMI</th><th scope=col>Smoker</th><th scope=col>Stroke</th><th scope=col>HeartDiseaseorAttack</th><th scope=col>PhysActivity</th><th scope=col>Fruits</th><th scope=col>⋯</th><th scope=col>NoDocbcCost</th><th scope=col>GenHlth</th><th scope=col>MentHlth</th><th scope=col>PhysHlth</th><th scope=col>DiffWalk</th><th scope=col>Sex</th><th scope=col>Age</th><th scope=col>Education</th><th scope=col>Income</th><th scope=col>Diabetes_binary</th></tr>\n",
       "\t<tr><th scope=col>&lt;int&gt;</th><th scope=col>&lt;int&gt;</th><th scope=col>&lt;int&gt;</th><th scope=col>&lt;int&gt;</th><th scope=col>&lt;int&gt;</th><th scope=col>&lt;int&gt;</th><th scope=col>&lt;int&gt;</th><th scope=col>&lt;int&gt;</th><th scope=col>&lt;int&gt;</th><th scope=col>&lt;int&gt;</th><th scope=col>⋯</th><th scope=col>&lt;int&gt;</th><th scope=col>&lt;int&gt;</th><th scope=col>&lt;int&gt;</th><th scope=col>&lt;int&gt;</th><th scope=col>&lt;int&gt;</th><th scope=col>&lt;int&gt;</th><th scope=col>&lt;int&gt;</th><th scope=col>&lt;int&gt;</th><th scope=col>&lt;int&gt;</th><th scope=col>&lt;int&gt;</th></tr>\n",
       "</thead>\n",
       "<tbody>\n",
       "\t<tr><td> 0</td><td>1</td><td>1</td><td>1</td><td>40</td><td>1</td><td>0</td><td>0</td><td>0</td><td>0</td><td>⋯</td><td>0</td><td>5</td><td>18</td><td>15</td><td>1</td><td>0</td><td> 9</td><td>4</td><td>3</td><td>0</td></tr>\n",
       "\t<tr><td> 1</td><td>0</td><td>0</td><td>0</td><td>25</td><td>1</td><td>0</td><td>0</td><td>1</td><td>0</td><td>⋯</td><td>1</td><td>3</td><td> 0</td><td> 0</td><td>0</td><td>0</td><td> 7</td><td>6</td><td>1</td><td>0</td></tr>\n",
       "\t<tr><td> 2</td><td>1</td><td>1</td><td>1</td><td>28</td><td>0</td><td>0</td><td>0</td><td>0</td><td>1</td><td>⋯</td><td>1</td><td>5</td><td>30</td><td>30</td><td>1</td><td>0</td><td> 9</td><td>4</td><td>8</td><td>0</td></tr>\n",
       "\t<tr><td> 3</td><td>1</td><td>0</td><td>1</td><td>27</td><td>0</td><td>0</td><td>0</td><td>1</td><td>1</td><td>⋯</td><td>0</td><td>2</td><td> 0</td><td> 0</td><td>0</td><td>0</td><td>11</td><td>3</td><td>6</td><td>0</td></tr>\n",
       "\t<tr><td> 4</td><td>1</td><td>1</td><td>1</td><td>24</td><td>0</td><td>0</td><td>0</td><td>1</td><td>1</td><td>⋯</td><td>0</td><td>2</td><td> 3</td><td> 0</td><td>0</td><td>0</td><td>11</td><td>5</td><td>4</td><td>0</td></tr>\n",
       "\t<tr><td> 5</td><td>1</td><td>1</td><td>1</td><td>25</td><td>1</td><td>0</td><td>0</td><td>1</td><td>1</td><td>⋯</td><td>0</td><td>2</td><td> 0</td><td> 2</td><td>0</td><td>1</td><td>10</td><td>6</td><td>8</td><td>0</td></tr>\n",
       "\t<tr><td> 6</td><td>1</td><td>0</td><td>1</td><td>30</td><td>1</td><td>0</td><td>0</td><td>0</td><td>0</td><td>⋯</td><td>0</td><td>3</td><td> 0</td><td>14</td><td>0</td><td>0</td><td> 9</td><td>6</td><td>7</td><td>0</td></tr>\n",
       "\t<tr><td> 7</td><td>1</td><td>1</td><td>1</td><td>25</td><td>1</td><td>0</td><td>0</td><td>1</td><td>0</td><td>⋯</td><td>0</td><td>3</td><td> 0</td><td> 0</td><td>1</td><td>0</td><td>11</td><td>4</td><td>4</td><td>0</td></tr>\n",
       "\t<tr><td> 8</td><td>1</td><td>1</td><td>1</td><td>30</td><td>1</td><td>0</td><td>1</td><td>0</td><td>1</td><td>⋯</td><td>0</td><td>5</td><td>30</td><td>30</td><td>1</td><td>0</td><td> 9</td><td>5</td><td>1</td><td>1</td></tr>\n",
       "\t<tr><td> 9</td><td>0</td><td>0</td><td>1</td><td>24</td><td>0</td><td>0</td><td>0</td><td>0</td><td>0</td><td>⋯</td><td>0</td><td>2</td><td> 0</td><td> 0</td><td>0</td><td>1</td><td> 8</td><td>4</td><td>3</td><td>0</td></tr>\n",
       "\t<tr><td>10</td><td>0</td><td>0</td><td>1</td><td>25</td><td>1</td><td>0</td><td>0</td><td>1</td><td>1</td><td>⋯</td><td>0</td><td>3</td><td> 0</td><td> 0</td><td>0</td><td>1</td><td>13</td><td>6</td><td>8</td><td>1</td></tr>\n",
       "\t<tr><td>11</td><td>1</td><td>1</td><td>1</td><td>34</td><td>1</td><td>0</td><td>0</td><td>0</td><td>1</td><td>⋯</td><td>0</td><td>3</td><td> 0</td><td>30</td><td>1</td><td>0</td><td>10</td><td>5</td><td>1</td><td>0</td></tr>\n",
       "\t<tr><td>12</td><td>0</td><td>0</td><td>1</td><td>26</td><td>1</td><td>0</td><td>0</td><td>0</td><td>0</td><td>⋯</td><td>0</td><td>3</td><td> 0</td><td>15</td><td>0</td><td>0</td><td> 7</td><td>5</td><td>7</td><td>0</td></tr>\n",
       "\t<tr><td>13</td><td>1</td><td>1</td><td>1</td><td>28</td><td>0</td><td>0</td><td>0</td><td>0</td><td>0</td><td>⋯</td><td>0</td><td>4</td><td> 0</td><td> 0</td><td>1</td><td>0</td><td>11</td><td>4</td><td>6</td><td>1</td></tr>\n",
       "\t<tr><td>14</td><td>0</td><td>1</td><td>1</td><td>33</td><td>1</td><td>1</td><td>0</td><td>1</td><td>0</td><td>⋯</td><td>1</td><td>4</td><td>30</td><td>28</td><td>0</td><td>0</td><td> 4</td><td>6</td><td>2</td><td>0</td></tr>\n",
       "\t<tr><td>15</td><td>1</td><td>0</td><td>1</td><td>33</td><td>0</td><td>0</td><td>0</td><td>1</td><td>0</td><td>⋯</td><td>0</td><td>2</td><td> 5</td><td> 0</td><td>0</td><td>0</td><td> 6</td><td>6</td><td>8</td><td>0</td></tr>\n",
       "\t<tr><td>16</td><td>1</td><td>1</td><td>1</td><td>21</td><td>0</td><td>0</td><td>0</td><td>1</td><td>1</td><td>⋯</td><td>0</td><td>3</td><td> 0</td><td> 0</td><td>0</td><td>0</td><td>10</td><td>4</td><td>3</td><td>0</td></tr>\n",
       "\t<tr><td>17</td><td>0</td><td>0</td><td>1</td><td>23</td><td>1</td><td>0</td><td>0</td><td>1</td><td>0</td><td>⋯</td><td>0</td><td>2</td><td> 0</td><td> 0</td><td>0</td><td>1</td><td> 7</td><td>5</td><td>6</td><td>1</td></tr>\n",
       "\t<tr><td>18</td><td>0</td><td>0</td><td>0</td><td>23</td><td>0</td><td>0</td><td>0</td><td>0</td><td>0</td><td>⋯</td><td>0</td><td>2</td><td>15</td><td> 0</td><td>0</td><td>0</td><td> 2</td><td>6</td><td>7</td><td>0</td></tr>\n",
       "\t<tr><td>19</td><td>0</td><td>1</td><td>1</td><td>28</td><td>0</td><td>0</td><td>0</td><td>0</td><td>0</td><td>⋯</td><td>0</td><td>2</td><td>10</td><td> 0</td><td>0</td><td>1</td><td> 4</td><td>6</td><td>8</td><td>0</td></tr>\n",
       "\t<tr><td>20</td><td>1</td><td>1</td><td>1</td><td>22</td><td>0</td><td>1</td><td>1</td><td>0</td><td>1</td><td>⋯</td><td>0</td><td>3</td><td>30</td><td> 0</td><td>1</td><td>0</td><td>12</td><td>4</td><td>4</td><td>0</td></tr>\n",
       "\t<tr><td>21</td><td>1</td><td>1</td><td>1</td><td>38</td><td>1</td><td>0</td><td>0</td><td>0</td><td>1</td><td>⋯</td><td>0</td><td>5</td><td>15</td><td>30</td><td>1</td><td>0</td><td>13</td><td>2</td><td>3</td><td>0</td></tr>\n",
       "\t<tr><td>22</td><td>0</td><td>0</td><td>1</td><td>28</td><td>1</td><td>0</td><td>0</td><td>0</td><td>0</td><td>⋯</td><td>0</td><td>3</td><td> 0</td><td> 7</td><td>0</td><td>1</td><td> 5</td><td>5</td><td>5</td><td>0</td></tr>\n",
       "\t<tr><td>23</td><td>1</td><td>0</td><td>1</td><td>27</td><td>0</td><td>0</td><td>0</td><td>1</td><td>1</td><td>⋯</td><td>0</td><td>1</td><td> 0</td><td> 0</td><td>0</td><td>0</td><td>13</td><td>5</td><td>4</td><td>1</td></tr>\n",
       "\t<tr><td>24</td><td>1</td><td>1</td><td>1</td><td>28</td><td>1</td><td>0</td><td>0</td><td>0</td><td>1</td><td>⋯</td><td>0</td><td>3</td><td> 6</td><td> 0</td><td>1</td><td>0</td><td> 9</td><td>4</td><td>6</td><td>0</td></tr>\n",
       "\t<tr><td>25</td><td>0</td><td>0</td><td>1</td><td>32</td><td>0</td><td>0</td><td>0</td><td>1</td><td>1</td><td>⋯</td><td>0</td><td>2</td><td> 0</td><td> 0</td><td>0</td><td>0</td><td> 5</td><td>6</td><td>8</td><td>0</td></tr>\n",
       "\t<tr><td>26</td><td>1</td><td>1</td><td>1</td><td>37</td><td>1</td><td>1</td><td>1</td><td>0</td><td>0</td><td>⋯</td><td>0</td><td>5</td><td> 0</td><td> 0</td><td>1</td><td>1</td><td>10</td><td>6</td><td>5</td><td>1</td></tr>\n",
       "\t<tr><td>27</td><td>1</td><td>1</td><td>1</td><td>28</td><td>1</td><td>0</td><td>1</td><td>0</td><td>0</td><td>⋯</td><td>0</td><td>4</td><td> 0</td><td> 0</td><td>0</td><td>1</td><td>12</td><td>2</td><td>4</td><td>1</td></tr>\n",
       "\t<tr><td>28</td><td>1</td><td>1</td><td>1</td><td>27</td><td>1</td><td>0</td><td>0</td><td>0</td><td>1</td><td>⋯</td><td>0</td><td>4</td><td>20</td><td>20</td><td>1</td><td>0</td><td> 8</td><td>4</td><td>7</td><td>1</td></tr>\n",
       "\t<tr><td>29</td><td>0</td><td>1</td><td>1</td><td>31</td><td>1</td><td>0</td><td>0</td><td>1</td><td>1</td><td>⋯</td><td>0</td><td>1</td><td> 0</td><td> 0</td><td>0</td><td>1</td><td>12</td><td>6</td><td>8</td><td>0</td></tr>\n",
       "\t<tr><td>⋮</td><td>⋮</td><td>⋮</td><td>⋮</td><td>⋮</td><td>⋮</td><td>⋮</td><td>⋮</td><td>⋮</td><td>⋮</td><td>⋱</td><td>⋮</td><td>⋮</td><td>⋮</td><td>⋮</td><td>⋮</td><td>⋮</td><td>⋮</td><td>⋮</td><td>⋮</td><td>⋮</td></tr>\n",
       "\t<tr><td>253650</td><td>1</td><td>0</td><td>1</td><td>27</td><td>0</td><td>0</td><td>0</td><td>1</td><td>0</td><td>⋯</td><td>0</td><td>4</td><td> 0</td><td> 0</td><td>0</td><td>0</td><td> 5</td><td>4</td><td>2</td><td>0</td></tr>\n",
       "\t<tr><td>253651</td><td>0</td><td>0</td><td>1</td><td>24</td><td>0</td><td>0</td><td>0</td><td>1</td><td>1</td><td>⋯</td><td>1</td><td>1</td><td> 0</td><td> 0</td><td>0</td><td>1</td><td> 2</td><td>6</td><td>3</td><td>0</td></tr>\n",
       "\t<tr><td>253652</td><td>0</td><td>1</td><td>1</td><td>27</td><td>0</td><td>0</td><td>0</td><td>1</td><td>1</td><td>⋯</td><td>0</td><td>4</td><td> 0</td><td>30</td><td>0</td><td>1</td><td>11</td><td>2</td><td>3</td><td>1</td></tr>\n",
       "\t<tr><td>253653</td><td>0</td><td>0</td><td>1</td><td>33</td><td>1</td><td>0</td><td>0</td><td>0</td><td>1</td><td>⋯</td><td>0</td><td>4</td><td> 0</td><td>15</td><td>0</td><td>1</td><td>10</td><td>6</td><td>3</td><td>0</td></tr>\n",
       "\t<tr><td>253654</td><td>0</td><td>0</td><td>1</td><td>26</td><td>1</td><td>0</td><td>0</td><td>1</td><td>1</td><td>⋯</td><td>0</td><td>2</td><td> 1</td><td> 0</td><td>0</td><td>1</td><td> 3</td><td>3</td><td>1</td><td>0</td></tr>\n",
       "\t<tr><td>253655</td><td>0</td><td>0</td><td>1</td><td>28</td><td>0</td><td>0</td><td>0</td><td>1</td><td>1</td><td>⋯</td><td>0</td><td>2</td><td> 0</td><td> 0</td><td>0</td><td>0</td><td> 2</td><td>6</td><td>4</td><td>0</td></tr>\n",
       "\t<tr><td>253656</td><td>0</td><td>0</td><td>1</td><td>25</td><td>0</td><td>0</td><td>0</td><td>1</td><td>1</td><td>⋯</td><td>0</td><td>1</td><td> 0</td><td> 0</td><td>0</td><td>0</td><td> 4</td><td>6</td><td>8</td><td>0</td></tr>\n",
       "\t<tr><td>253657</td><td>0</td><td>1</td><td>1</td><td>24</td><td>0</td><td>0</td><td>0</td><td>0</td><td>0</td><td>⋯</td><td>0</td><td>3</td><td> 0</td><td> 0</td><td>0</td><td>0</td><td> 7</td><td>5</td><td>3</td><td>0</td></tr>\n",
       "\t<tr><td>253658</td><td>0</td><td>0</td><td>0</td><td>27</td><td>0</td><td>0</td><td>0</td><td>1</td><td>0</td><td>⋯</td><td>1</td><td>2</td><td> 0</td><td> 0</td><td>0</td><td>0</td><td> 3</td><td>6</td><td>5</td><td>0</td></tr>\n",
       "\t<tr><td>253659</td><td>0</td><td>1</td><td>1</td><td>37</td><td>0</td><td>0</td><td>0</td><td>0</td><td>0</td><td>⋯</td><td>0</td><td>4</td><td> 0</td><td> 0</td><td>0</td><td>0</td><td> 6</td><td>4</td><td>1</td><td>1</td></tr>\n",
       "\t<tr><td>253660</td><td>0</td><td>1</td><td>1</td><td>34</td><td>1</td><td>0</td><td>0</td><td>0</td><td>1</td><td>⋯</td><td>0</td><td>3</td><td> 0</td><td> 2</td><td>1</td><td>0</td><td> 7</td><td>4</td><td>3</td><td>0</td></tr>\n",
       "\t<tr><td>253661</td><td>1</td><td>0</td><td>1</td><td>33</td><td>0</td><td>0</td><td>0</td><td>1</td><td>0</td><td>⋯</td><td>1</td><td>3</td><td> 0</td><td> 2</td><td>1</td><td>0</td><td> 6</td><td>6</td><td>6</td><td>0</td></tr>\n",
       "\t<tr><td>253662</td><td>0</td><td>0</td><td>1</td><td>16</td><td>0</td><td>0</td><td>0</td><td>1</td><td>0</td><td>⋯</td><td>0</td><td>1</td><td> 0</td><td> 0</td><td>0</td><td>0</td><td> 5</td><td>6</td><td>2</td><td>0</td></tr>\n",
       "\t<tr><td>253663</td><td>0</td><td>0</td><td>1</td><td>23</td><td>0</td><td>0</td><td>0</td><td>0</td><td>1</td><td>⋯</td><td>1</td><td>2</td><td> 0</td><td>30</td><td>0</td><td>0</td><td> 5</td><td>6</td><td>2</td><td>0</td></tr>\n",
       "\t<tr><td>253664</td><td>0</td><td>1</td><td>1</td><td>29</td><td>1</td><td>0</td><td>0</td><td>0</td><td>0</td><td>⋯</td><td>0</td><td>3</td><td> 0</td><td> 0</td><td>0</td><td>0</td><td> 6</td><td>6</td><td>4</td><td>0</td></tr>\n",
       "\t<tr><td>253665</td><td>0</td><td>1</td><td>1</td><td>17</td><td>0</td><td>0</td><td>0</td><td>0</td><td>0</td><td>⋯</td><td>1</td><td>4</td><td>30</td><td>30</td><td>0</td><td>0</td><td> 5</td><td>4</td><td>1</td><td>0</td></tr>\n",
       "\t<tr><td>253666</td><td>1</td><td>0</td><td>1</td><td>23</td><td>0</td><td>0</td><td>0</td><td>0</td><td>1</td><td>⋯</td><td>0</td><td>3</td><td> 0</td><td>15</td><td>0</td><td>0</td><td> 6</td><td>5</td><td>2</td><td>0</td></tr>\n",
       "\t<tr><td>253667</td><td>1</td><td>1</td><td>1</td><td>28</td><td>1</td><td>0</td><td>0</td><td>0</td><td>0</td><td>⋯</td><td>0</td><td>3</td><td> 0</td><td> 0</td><td>0</td><td>0</td><td>11</td><td>4</td><td>7</td><td>0</td></tr>\n",
       "\t<tr><td>253668</td><td>0</td><td>1</td><td>1</td><td>29</td><td>1</td><td>0</td><td>1</td><td>0</td><td>1</td><td>⋯</td><td>0</td><td>2</td><td> 0</td><td> 0</td><td>1</td><td>1</td><td>10</td><td>3</td><td>6</td><td>1</td></tr>\n",
       "\t<tr><td>253669</td><td>0</td><td>1</td><td>1</td><td>27</td><td>0</td><td>0</td><td>0</td><td>0</td><td>0</td><td>⋯</td><td>1</td><td>1</td><td> 0</td><td> 3</td><td>0</td><td>1</td><td> 6</td><td>2</td><td>4</td><td>0</td></tr>\n",
       "\t<tr><td>253670</td><td>1</td><td>1</td><td>1</td><td>25</td><td>0</td><td>0</td><td>1</td><td>0</td><td>1</td><td>⋯</td><td>0</td><td>5</td><td>15</td><td> 0</td><td>1</td><td>0</td><td>13</td><td>6</td><td>4</td><td>1</td></tr>\n",
       "\t<tr><td>253671</td><td>1</td><td>1</td><td>1</td><td>23</td><td>0</td><td>1</td><td>1</td><td>0</td><td>0</td><td>⋯</td><td>1</td><td>4</td><td> 0</td><td> 5</td><td>0</td><td>1</td><td> 8</td><td>3</td><td>2</td><td>0</td></tr>\n",
       "\t<tr><td>253672</td><td>1</td><td>0</td><td>1</td><td>30</td><td>1</td><td>0</td><td>1</td><td>1</td><td>1</td><td>⋯</td><td>0</td><td>3</td><td> 0</td><td> 0</td><td>0</td><td>1</td><td>12</td><td>2</td><td>1</td><td>0</td></tr>\n",
       "\t<tr><td>253673</td><td>1</td><td>0</td><td>1</td><td>42</td><td>0</td><td>0</td><td>0</td><td>1</td><td>1</td><td>⋯</td><td>0</td><td>3</td><td>14</td><td> 4</td><td>0</td><td>1</td><td> 3</td><td>6</td><td>8</td><td>0</td></tr>\n",
       "\t<tr><td>253674</td><td>0</td><td>0</td><td>1</td><td>27</td><td>0</td><td>0</td><td>0</td><td>0</td><td>0</td><td>⋯</td><td>0</td><td>1</td><td> 0</td><td> 0</td><td>0</td><td>0</td><td> 3</td><td>6</td><td>5</td><td>0</td></tr>\n",
       "\t<tr><td>253675</td><td>1</td><td>1</td><td>1</td><td>45</td><td>0</td><td>0</td><td>0</td><td>0</td><td>1</td><td>⋯</td><td>0</td><td>3</td><td> 0</td><td> 5</td><td>0</td><td>1</td><td> 5</td><td>6</td><td>7</td><td>0</td></tr>\n",
       "\t<tr><td>253676</td><td>1</td><td>1</td><td>1</td><td>18</td><td>0</td><td>0</td><td>0</td><td>0</td><td>0</td><td>⋯</td><td>0</td><td>4</td><td> 0</td><td> 0</td><td>1</td><td>0</td><td>11</td><td>2</td><td>4</td><td>1</td></tr>\n",
       "\t<tr><td>253677</td><td>0</td><td>0</td><td>1</td><td>28</td><td>0</td><td>0</td><td>0</td><td>1</td><td>1</td><td>⋯</td><td>0</td><td>1</td><td> 0</td><td> 0</td><td>0</td><td>0</td><td> 2</td><td>5</td><td>2</td><td>0</td></tr>\n",
       "\t<tr><td>253678</td><td>1</td><td>0</td><td>1</td><td>23</td><td>0</td><td>0</td><td>0</td><td>0</td><td>1</td><td>⋯</td><td>0</td><td>3</td><td> 0</td><td> 0</td><td>0</td><td>1</td><td> 7</td><td>5</td><td>1</td><td>0</td></tr>\n",
       "\t<tr><td>253679</td><td>1</td><td>1</td><td>1</td><td>25</td><td>0</td><td>0</td><td>1</td><td>1</td><td>1</td><td>⋯</td><td>0</td><td>2</td><td> 0</td><td> 0</td><td>0</td><td>0</td><td> 9</td><td>6</td><td>2</td><td>1</td></tr>\n",
       "</tbody>\n",
       "</table>\n"
      ],
      "text/latex": [
       "A data.frame: 253680 × 23\n",
       "\\begin{tabular}{lllllllllllllllllllll}\n",
       " X & HighBP & HighChol & CholCheck & BMI & Smoker & Stroke & HeartDiseaseorAttack & PhysActivity & Fruits & ⋯ & NoDocbcCost & GenHlth & MentHlth & PhysHlth & DiffWalk & Sex & Age & Education & Income & Diabetes\\_binary\\\\\n",
       " <int> & <int> & <int> & <int> & <int> & <int> & <int> & <int> & <int> & <int> & ⋯ & <int> & <int> & <int> & <int> & <int> & <int> & <int> & <int> & <int> & <int>\\\\\n",
       "\\hline\n",
       "\t  0 & 1 & 1 & 1 & 40 & 1 & 0 & 0 & 0 & 0 & ⋯ & 0 & 5 & 18 & 15 & 1 & 0 &  9 & 4 & 3 & 0\\\\\n",
       "\t  1 & 0 & 0 & 0 & 25 & 1 & 0 & 0 & 1 & 0 & ⋯ & 1 & 3 &  0 &  0 & 0 & 0 &  7 & 6 & 1 & 0\\\\\n",
       "\t  2 & 1 & 1 & 1 & 28 & 0 & 0 & 0 & 0 & 1 & ⋯ & 1 & 5 & 30 & 30 & 1 & 0 &  9 & 4 & 8 & 0\\\\\n",
       "\t  3 & 1 & 0 & 1 & 27 & 0 & 0 & 0 & 1 & 1 & ⋯ & 0 & 2 &  0 &  0 & 0 & 0 & 11 & 3 & 6 & 0\\\\\n",
       "\t  4 & 1 & 1 & 1 & 24 & 0 & 0 & 0 & 1 & 1 & ⋯ & 0 & 2 &  3 &  0 & 0 & 0 & 11 & 5 & 4 & 0\\\\\n",
       "\t  5 & 1 & 1 & 1 & 25 & 1 & 0 & 0 & 1 & 1 & ⋯ & 0 & 2 &  0 &  2 & 0 & 1 & 10 & 6 & 8 & 0\\\\\n",
       "\t  6 & 1 & 0 & 1 & 30 & 1 & 0 & 0 & 0 & 0 & ⋯ & 0 & 3 &  0 & 14 & 0 & 0 &  9 & 6 & 7 & 0\\\\\n",
       "\t  7 & 1 & 1 & 1 & 25 & 1 & 0 & 0 & 1 & 0 & ⋯ & 0 & 3 &  0 &  0 & 1 & 0 & 11 & 4 & 4 & 0\\\\\n",
       "\t  8 & 1 & 1 & 1 & 30 & 1 & 0 & 1 & 0 & 1 & ⋯ & 0 & 5 & 30 & 30 & 1 & 0 &  9 & 5 & 1 & 1\\\\\n",
       "\t  9 & 0 & 0 & 1 & 24 & 0 & 0 & 0 & 0 & 0 & ⋯ & 0 & 2 &  0 &  0 & 0 & 1 &  8 & 4 & 3 & 0\\\\\n",
       "\t 10 & 0 & 0 & 1 & 25 & 1 & 0 & 0 & 1 & 1 & ⋯ & 0 & 3 &  0 &  0 & 0 & 1 & 13 & 6 & 8 & 1\\\\\n",
       "\t 11 & 1 & 1 & 1 & 34 & 1 & 0 & 0 & 0 & 1 & ⋯ & 0 & 3 &  0 & 30 & 1 & 0 & 10 & 5 & 1 & 0\\\\\n",
       "\t 12 & 0 & 0 & 1 & 26 & 1 & 0 & 0 & 0 & 0 & ⋯ & 0 & 3 &  0 & 15 & 0 & 0 &  7 & 5 & 7 & 0\\\\\n",
       "\t 13 & 1 & 1 & 1 & 28 & 0 & 0 & 0 & 0 & 0 & ⋯ & 0 & 4 &  0 &  0 & 1 & 0 & 11 & 4 & 6 & 1\\\\\n",
       "\t 14 & 0 & 1 & 1 & 33 & 1 & 1 & 0 & 1 & 0 & ⋯ & 1 & 4 & 30 & 28 & 0 & 0 &  4 & 6 & 2 & 0\\\\\n",
       "\t 15 & 1 & 0 & 1 & 33 & 0 & 0 & 0 & 1 & 0 & ⋯ & 0 & 2 &  5 &  0 & 0 & 0 &  6 & 6 & 8 & 0\\\\\n",
       "\t 16 & 1 & 1 & 1 & 21 & 0 & 0 & 0 & 1 & 1 & ⋯ & 0 & 3 &  0 &  0 & 0 & 0 & 10 & 4 & 3 & 0\\\\\n",
       "\t 17 & 0 & 0 & 1 & 23 & 1 & 0 & 0 & 1 & 0 & ⋯ & 0 & 2 &  0 &  0 & 0 & 1 &  7 & 5 & 6 & 1\\\\\n",
       "\t 18 & 0 & 0 & 0 & 23 & 0 & 0 & 0 & 0 & 0 & ⋯ & 0 & 2 & 15 &  0 & 0 & 0 &  2 & 6 & 7 & 0\\\\\n",
       "\t 19 & 0 & 1 & 1 & 28 & 0 & 0 & 0 & 0 & 0 & ⋯ & 0 & 2 & 10 &  0 & 0 & 1 &  4 & 6 & 8 & 0\\\\\n",
       "\t 20 & 1 & 1 & 1 & 22 & 0 & 1 & 1 & 0 & 1 & ⋯ & 0 & 3 & 30 &  0 & 1 & 0 & 12 & 4 & 4 & 0\\\\\n",
       "\t 21 & 1 & 1 & 1 & 38 & 1 & 0 & 0 & 0 & 1 & ⋯ & 0 & 5 & 15 & 30 & 1 & 0 & 13 & 2 & 3 & 0\\\\\n",
       "\t 22 & 0 & 0 & 1 & 28 & 1 & 0 & 0 & 0 & 0 & ⋯ & 0 & 3 &  0 &  7 & 0 & 1 &  5 & 5 & 5 & 0\\\\\n",
       "\t 23 & 1 & 0 & 1 & 27 & 0 & 0 & 0 & 1 & 1 & ⋯ & 0 & 1 &  0 &  0 & 0 & 0 & 13 & 5 & 4 & 1\\\\\n",
       "\t 24 & 1 & 1 & 1 & 28 & 1 & 0 & 0 & 0 & 1 & ⋯ & 0 & 3 &  6 &  0 & 1 & 0 &  9 & 4 & 6 & 0\\\\\n",
       "\t 25 & 0 & 0 & 1 & 32 & 0 & 0 & 0 & 1 & 1 & ⋯ & 0 & 2 &  0 &  0 & 0 & 0 &  5 & 6 & 8 & 0\\\\\n",
       "\t 26 & 1 & 1 & 1 & 37 & 1 & 1 & 1 & 0 & 0 & ⋯ & 0 & 5 &  0 &  0 & 1 & 1 & 10 & 6 & 5 & 1\\\\\n",
       "\t 27 & 1 & 1 & 1 & 28 & 1 & 0 & 1 & 0 & 0 & ⋯ & 0 & 4 &  0 &  0 & 0 & 1 & 12 & 2 & 4 & 1\\\\\n",
       "\t 28 & 1 & 1 & 1 & 27 & 1 & 0 & 0 & 0 & 1 & ⋯ & 0 & 4 & 20 & 20 & 1 & 0 &  8 & 4 & 7 & 1\\\\\n",
       "\t 29 & 0 & 1 & 1 & 31 & 1 & 0 & 0 & 1 & 1 & ⋯ & 0 & 1 &  0 &  0 & 0 & 1 & 12 & 6 & 8 & 0\\\\\n",
       "\t ⋮ & ⋮ & ⋮ & ⋮ & ⋮ & ⋮ & ⋮ & ⋮ & ⋮ & ⋮ & ⋱ & ⋮ & ⋮ & ⋮ & ⋮ & ⋮ & ⋮ & ⋮ & ⋮ & ⋮ & ⋮\\\\\n",
       "\t 253650 & 1 & 0 & 1 & 27 & 0 & 0 & 0 & 1 & 0 & ⋯ & 0 & 4 &  0 &  0 & 0 & 0 &  5 & 4 & 2 & 0\\\\\n",
       "\t 253651 & 0 & 0 & 1 & 24 & 0 & 0 & 0 & 1 & 1 & ⋯ & 1 & 1 &  0 &  0 & 0 & 1 &  2 & 6 & 3 & 0\\\\\n",
       "\t 253652 & 0 & 1 & 1 & 27 & 0 & 0 & 0 & 1 & 1 & ⋯ & 0 & 4 &  0 & 30 & 0 & 1 & 11 & 2 & 3 & 1\\\\\n",
       "\t 253653 & 0 & 0 & 1 & 33 & 1 & 0 & 0 & 0 & 1 & ⋯ & 0 & 4 &  0 & 15 & 0 & 1 & 10 & 6 & 3 & 0\\\\\n",
       "\t 253654 & 0 & 0 & 1 & 26 & 1 & 0 & 0 & 1 & 1 & ⋯ & 0 & 2 &  1 &  0 & 0 & 1 &  3 & 3 & 1 & 0\\\\\n",
       "\t 253655 & 0 & 0 & 1 & 28 & 0 & 0 & 0 & 1 & 1 & ⋯ & 0 & 2 &  0 &  0 & 0 & 0 &  2 & 6 & 4 & 0\\\\\n",
       "\t 253656 & 0 & 0 & 1 & 25 & 0 & 0 & 0 & 1 & 1 & ⋯ & 0 & 1 &  0 &  0 & 0 & 0 &  4 & 6 & 8 & 0\\\\\n",
       "\t 253657 & 0 & 1 & 1 & 24 & 0 & 0 & 0 & 0 & 0 & ⋯ & 0 & 3 &  0 &  0 & 0 & 0 &  7 & 5 & 3 & 0\\\\\n",
       "\t 253658 & 0 & 0 & 0 & 27 & 0 & 0 & 0 & 1 & 0 & ⋯ & 1 & 2 &  0 &  0 & 0 & 0 &  3 & 6 & 5 & 0\\\\\n",
       "\t 253659 & 0 & 1 & 1 & 37 & 0 & 0 & 0 & 0 & 0 & ⋯ & 0 & 4 &  0 &  0 & 0 & 0 &  6 & 4 & 1 & 1\\\\\n",
       "\t 253660 & 0 & 1 & 1 & 34 & 1 & 0 & 0 & 0 & 1 & ⋯ & 0 & 3 &  0 &  2 & 1 & 0 &  7 & 4 & 3 & 0\\\\\n",
       "\t 253661 & 1 & 0 & 1 & 33 & 0 & 0 & 0 & 1 & 0 & ⋯ & 1 & 3 &  0 &  2 & 1 & 0 &  6 & 6 & 6 & 0\\\\\n",
       "\t 253662 & 0 & 0 & 1 & 16 & 0 & 0 & 0 & 1 & 0 & ⋯ & 0 & 1 &  0 &  0 & 0 & 0 &  5 & 6 & 2 & 0\\\\\n",
       "\t 253663 & 0 & 0 & 1 & 23 & 0 & 0 & 0 & 0 & 1 & ⋯ & 1 & 2 &  0 & 30 & 0 & 0 &  5 & 6 & 2 & 0\\\\\n",
       "\t 253664 & 0 & 1 & 1 & 29 & 1 & 0 & 0 & 0 & 0 & ⋯ & 0 & 3 &  0 &  0 & 0 & 0 &  6 & 6 & 4 & 0\\\\\n",
       "\t 253665 & 0 & 1 & 1 & 17 & 0 & 0 & 0 & 0 & 0 & ⋯ & 1 & 4 & 30 & 30 & 0 & 0 &  5 & 4 & 1 & 0\\\\\n",
       "\t 253666 & 1 & 0 & 1 & 23 & 0 & 0 & 0 & 0 & 1 & ⋯ & 0 & 3 &  0 & 15 & 0 & 0 &  6 & 5 & 2 & 0\\\\\n",
       "\t 253667 & 1 & 1 & 1 & 28 & 1 & 0 & 0 & 0 & 0 & ⋯ & 0 & 3 &  0 &  0 & 0 & 0 & 11 & 4 & 7 & 0\\\\\n",
       "\t 253668 & 0 & 1 & 1 & 29 & 1 & 0 & 1 & 0 & 1 & ⋯ & 0 & 2 &  0 &  0 & 1 & 1 & 10 & 3 & 6 & 1\\\\\n",
       "\t 253669 & 0 & 1 & 1 & 27 & 0 & 0 & 0 & 0 & 0 & ⋯ & 1 & 1 &  0 &  3 & 0 & 1 &  6 & 2 & 4 & 0\\\\\n",
       "\t 253670 & 1 & 1 & 1 & 25 & 0 & 0 & 1 & 0 & 1 & ⋯ & 0 & 5 & 15 &  0 & 1 & 0 & 13 & 6 & 4 & 1\\\\\n",
       "\t 253671 & 1 & 1 & 1 & 23 & 0 & 1 & 1 & 0 & 0 & ⋯ & 1 & 4 &  0 &  5 & 0 & 1 &  8 & 3 & 2 & 0\\\\\n",
       "\t 253672 & 1 & 0 & 1 & 30 & 1 & 0 & 1 & 1 & 1 & ⋯ & 0 & 3 &  0 &  0 & 0 & 1 & 12 & 2 & 1 & 0\\\\\n",
       "\t 253673 & 1 & 0 & 1 & 42 & 0 & 0 & 0 & 1 & 1 & ⋯ & 0 & 3 & 14 &  4 & 0 & 1 &  3 & 6 & 8 & 0\\\\\n",
       "\t 253674 & 0 & 0 & 1 & 27 & 0 & 0 & 0 & 0 & 0 & ⋯ & 0 & 1 &  0 &  0 & 0 & 0 &  3 & 6 & 5 & 0\\\\\n",
       "\t 253675 & 1 & 1 & 1 & 45 & 0 & 0 & 0 & 0 & 1 & ⋯ & 0 & 3 &  0 &  5 & 0 & 1 &  5 & 6 & 7 & 0\\\\\n",
       "\t 253676 & 1 & 1 & 1 & 18 & 0 & 0 & 0 & 0 & 0 & ⋯ & 0 & 4 &  0 &  0 & 1 & 0 & 11 & 2 & 4 & 1\\\\\n",
       "\t 253677 & 0 & 0 & 1 & 28 & 0 & 0 & 0 & 1 & 1 & ⋯ & 0 & 1 &  0 &  0 & 0 & 0 &  2 & 5 & 2 & 0\\\\\n",
       "\t 253678 & 1 & 0 & 1 & 23 & 0 & 0 & 0 & 0 & 1 & ⋯ & 0 & 3 &  0 &  0 & 0 & 1 &  7 & 5 & 1 & 0\\\\\n",
       "\t 253679 & 1 & 1 & 1 & 25 & 0 & 0 & 1 & 1 & 1 & ⋯ & 0 & 2 &  0 &  0 & 0 & 0 &  9 & 6 & 2 & 1\\\\\n",
       "\\end{tabular}\n"
      ],
      "text/markdown": [
       "\n",
       "A data.frame: 253680 × 23\n",
       "\n",
       "| X &lt;int&gt; | HighBP &lt;int&gt; | HighChol &lt;int&gt; | CholCheck &lt;int&gt; | BMI &lt;int&gt; | Smoker &lt;int&gt; | Stroke &lt;int&gt; | HeartDiseaseorAttack &lt;int&gt; | PhysActivity &lt;int&gt; | Fruits &lt;int&gt; | ⋯ ⋯ | NoDocbcCost &lt;int&gt; | GenHlth &lt;int&gt; | MentHlth &lt;int&gt; | PhysHlth &lt;int&gt; | DiffWalk &lt;int&gt; | Sex &lt;int&gt; | Age &lt;int&gt; | Education &lt;int&gt; | Income &lt;int&gt; | Diabetes_binary &lt;int&gt; |\n",
       "|---|---|---|---|---|---|---|---|---|---|---|---|---|---|---|---|---|---|---|---|---|\n",
       "|  0 | 1 | 1 | 1 | 40 | 1 | 0 | 0 | 0 | 0 | ⋯ | 0 | 5 | 18 | 15 | 1 | 0 |  9 | 4 | 3 | 0 |\n",
       "|  1 | 0 | 0 | 0 | 25 | 1 | 0 | 0 | 1 | 0 | ⋯ | 1 | 3 |  0 |  0 | 0 | 0 |  7 | 6 | 1 | 0 |\n",
       "|  2 | 1 | 1 | 1 | 28 | 0 | 0 | 0 | 0 | 1 | ⋯ | 1 | 5 | 30 | 30 | 1 | 0 |  9 | 4 | 8 | 0 |\n",
       "|  3 | 1 | 0 | 1 | 27 | 0 | 0 | 0 | 1 | 1 | ⋯ | 0 | 2 |  0 |  0 | 0 | 0 | 11 | 3 | 6 | 0 |\n",
       "|  4 | 1 | 1 | 1 | 24 | 0 | 0 | 0 | 1 | 1 | ⋯ | 0 | 2 |  3 |  0 | 0 | 0 | 11 | 5 | 4 | 0 |\n",
       "|  5 | 1 | 1 | 1 | 25 | 1 | 0 | 0 | 1 | 1 | ⋯ | 0 | 2 |  0 |  2 | 0 | 1 | 10 | 6 | 8 | 0 |\n",
       "|  6 | 1 | 0 | 1 | 30 | 1 | 0 | 0 | 0 | 0 | ⋯ | 0 | 3 |  0 | 14 | 0 | 0 |  9 | 6 | 7 | 0 |\n",
       "|  7 | 1 | 1 | 1 | 25 | 1 | 0 | 0 | 1 | 0 | ⋯ | 0 | 3 |  0 |  0 | 1 | 0 | 11 | 4 | 4 | 0 |\n",
       "|  8 | 1 | 1 | 1 | 30 | 1 | 0 | 1 | 0 | 1 | ⋯ | 0 | 5 | 30 | 30 | 1 | 0 |  9 | 5 | 1 | 1 |\n",
       "|  9 | 0 | 0 | 1 | 24 | 0 | 0 | 0 | 0 | 0 | ⋯ | 0 | 2 |  0 |  0 | 0 | 1 |  8 | 4 | 3 | 0 |\n",
       "| 10 | 0 | 0 | 1 | 25 | 1 | 0 | 0 | 1 | 1 | ⋯ | 0 | 3 |  0 |  0 | 0 | 1 | 13 | 6 | 8 | 1 |\n",
       "| 11 | 1 | 1 | 1 | 34 | 1 | 0 | 0 | 0 | 1 | ⋯ | 0 | 3 |  0 | 30 | 1 | 0 | 10 | 5 | 1 | 0 |\n",
       "| 12 | 0 | 0 | 1 | 26 | 1 | 0 | 0 | 0 | 0 | ⋯ | 0 | 3 |  0 | 15 | 0 | 0 |  7 | 5 | 7 | 0 |\n",
       "| 13 | 1 | 1 | 1 | 28 | 0 | 0 | 0 | 0 | 0 | ⋯ | 0 | 4 |  0 |  0 | 1 | 0 | 11 | 4 | 6 | 1 |\n",
       "| 14 | 0 | 1 | 1 | 33 | 1 | 1 | 0 | 1 | 0 | ⋯ | 1 | 4 | 30 | 28 | 0 | 0 |  4 | 6 | 2 | 0 |\n",
       "| 15 | 1 | 0 | 1 | 33 | 0 | 0 | 0 | 1 | 0 | ⋯ | 0 | 2 |  5 |  0 | 0 | 0 |  6 | 6 | 8 | 0 |\n",
       "| 16 | 1 | 1 | 1 | 21 | 0 | 0 | 0 | 1 | 1 | ⋯ | 0 | 3 |  0 |  0 | 0 | 0 | 10 | 4 | 3 | 0 |\n",
       "| 17 | 0 | 0 | 1 | 23 | 1 | 0 | 0 | 1 | 0 | ⋯ | 0 | 2 |  0 |  0 | 0 | 1 |  7 | 5 | 6 | 1 |\n",
       "| 18 | 0 | 0 | 0 | 23 | 0 | 0 | 0 | 0 | 0 | ⋯ | 0 | 2 | 15 |  0 | 0 | 0 |  2 | 6 | 7 | 0 |\n",
       "| 19 | 0 | 1 | 1 | 28 | 0 | 0 | 0 | 0 | 0 | ⋯ | 0 | 2 | 10 |  0 | 0 | 1 |  4 | 6 | 8 | 0 |\n",
       "| 20 | 1 | 1 | 1 | 22 | 0 | 1 | 1 | 0 | 1 | ⋯ | 0 | 3 | 30 |  0 | 1 | 0 | 12 | 4 | 4 | 0 |\n",
       "| 21 | 1 | 1 | 1 | 38 | 1 | 0 | 0 | 0 | 1 | ⋯ | 0 | 5 | 15 | 30 | 1 | 0 | 13 | 2 | 3 | 0 |\n",
       "| 22 | 0 | 0 | 1 | 28 | 1 | 0 | 0 | 0 | 0 | ⋯ | 0 | 3 |  0 |  7 | 0 | 1 |  5 | 5 | 5 | 0 |\n",
       "| 23 | 1 | 0 | 1 | 27 | 0 | 0 | 0 | 1 | 1 | ⋯ | 0 | 1 |  0 |  0 | 0 | 0 | 13 | 5 | 4 | 1 |\n",
       "| 24 | 1 | 1 | 1 | 28 | 1 | 0 | 0 | 0 | 1 | ⋯ | 0 | 3 |  6 |  0 | 1 | 0 |  9 | 4 | 6 | 0 |\n",
       "| 25 | 0 | 0 | 1 | 32 | 0 | 0 | 0 | 1 | 1 | ⋯ | 0 | 2 |  0 |  0 | 0 | 0 |  5 | 6 | 8 | 0 |\n",
       "| 26 | 1 | 1 | 1 | 37 | 1 | 1 | 1 | 0 | 0 | ⋯ | 0 | 5 |  0 |  0 | 1 | 1 | 10 | 6 | 5 | 1 |\n",
       "| 27 | 1 | 1 | 1 | 28 | 1 | 0 | 1 | 0 | 0 | ⋯ | 0 | 4 |  0 |  0 | 0 | 1 | 12 | 2 | 4 | 1 |\n",
       "| 28 | 1 | 1 | 1 | 27 | 1 | 0 | 0 | 0 | 1 | ⋯ | 0 | 4 | 20 | 20 | 1 | 0 |  8 | 4 | 7 | 1 |\n",
       "| 29 | 0 | 1 | 1 | 31 | 1 | 0 | 0 | 1 | 1 | ⋯ | 0 | 1 |  0 |  0 | 0 | 1 | 12 | 6 | 8 | 0 |\n",
       "| ⋮ | ⋮ | ⋮ | ⋮ | ⋮ | ⋮ | ⋮ | ⋮ | ⋮ | ⋮ | ⋱ | ⋮ | ⋮ | ⋮ | ⋮ | ⋮ | ⋮ | ⋮ | ⋮ | ⋮ | ⋮ |\n",
       "| 253650 | 1 | 0 | 1 | 27 | 0 | 0 | 0 | 1 | 0 | ⋯ | 0 | 4 |  0 |  0 | 0 | 0 |  5 | 4 | 2 | 0 |\n",
       "| 253651 | 0 | 0 | 1 | 24 | 0 | 0 | 0 | 1 | 1 | ⋯ | 1 | 1 |  0 |  0 | 0 | 1 |  2 | 6 | 3 | 0 |\n",
       "| 253652 | 0 | 1 | 1 | 27 | 0 | 0 | 0 | 1 | 1 | ⋯ | 0 | 4 |  0 | 30 | 0 | 1 | 11 | 2 | 3 | 1 |\n",
       "| 253653 | 0 | 0 | 1 | 33 | 1 | 0 | 0 | 0 | 1 | ⋯ | 0 | 4 |  0 | 15 | 0 | 1 | 10 | 6 | 3 | 0 |\n",
       "| 253654 | 0 | 0 | 1 | 26 | 1 | 0 | 0 | 1 | 1 | ⋯ | 0 | 2 |  1 |  0 | 0 | 1 |  3 | 3 | 1 | 0 |\n",
       "| 253655 | 0 | 0 | 1 | 28 | 0 | 0 | 0 | 1 | 1 | ⋯ | 0 | 2 |  0 |  0 | 0 | 0 |  2 | 6 | 4 | 0 |\n",
       "| 253656 | 0 | 0 | 1 | 25 | 0 | 0 | 0 | 1 | 1 | ⋯ | 0 | 1 |  0 |  0 | 0 | 0 |  4 | 6 | 8 | 0 |\n",
       "| 253657 | 0 | 1 | 1 | 24 | 0 | 0 | 0 | 0 | 0 | ⋯ | 0 | 3 |  0 |  0 | 0 | 0 |  7 | 5 | 3 | 0 |\n",
       "| 253658 | 0 | 0 | 0 | 27 | 0 | 0 | 0 | 1 | 0 | ⋯ | 1 | 2 |  0 |  0 | 0 | 0 |  3 | 6 | 5 | 0 |\n",
       "| 253659 | 0 | 1 | 1 | 37 | 0 | 0 | 0 | 0 | 0 | ⋯ | 0 | 4 |  0 |  0 | 0 | 0 |  6 | 4 | 1 | 1 |\n",
       "| 253660 | 0 | 1 | 1 | 34 | 1 | 0 | 0 | 0 | 1 | ⋯ | 0 | 3 |  0 |  2 | 1 | 0 |  7 | 4 | 3 | 0 |\n",
       "| 253661 | 1 | 0 | 1 | 33 | 0 | 0 | 0 | 1 | 0 | ⋯ | 1 | 3 |  0 |  2 | 1 | 0 |  6 | 6 | 6 | 0 |\n",
       "| 253662 | 0 | 0 | 1 | 16 | 0 | 0 | 0 | 1 | 0 | ⋯ | 0 | 1 |  0 |  0 | 0 | 0 |  5 | 6 | 2 | 0 |\n",
       "| 253663 | 0 | 0 | 1 | 23 | 0 | 0 | 0 | 0 | 1 | ⋯ | 1 | 2 |  0 | 30 | 0 | 0 |  5 | 6 | 2 | 0 |\n",
       "| 253664 | 0 | 1 | 1 | 29 | 1 | 0 | 0 | 0 | 0 | ⋯ | 0 | 3 |  0 |  0 | 0 | 0 |  6 | 6 | 4 | 0 |\n",
       "| 253665 | 0 | 1 | 1 | 17 | 0 | 0 | 0 | 0 | 0 | ⋯ | 1 | 4 | 30 | 30 | 0 | 0 |  5 | 4 | 1 | 0 |\n",
       "| 253666 | 1 | 0 | 1 | 23 | 0 | 0 | 0 | 0 | 1 | ⋯ | 0 | 3 |  0 | 15 | 0 | 0 |  6 | 5 | 2 | 0 |\n",
       "| 253667 | 1 | 1 | 1 | 28 | 1 | 0 | 0 | 0 | 0 | ⋯ | 0 | 3 |  0 |  0 | 0 | 0 | 11 | 4 | 7 | 0 |\n",
       "| 253668 | 0 | 1 | 1 | 29 | 1 | 0 | 1 | 0 | 1 | ⋯ | 0 | 2 |  0 |  0 | 1 | 1 | 10 | 3 | 6 | 1 |\n",
       "| 253669 | 0 | 1 | 1 | 27 | 0 | 0 | 0 | 0 | 0 | ⋯ | 1 | 1 |  0 |  3 | 0 | 1 |  6 | 2 | 4 | 0 |\n",
       "| 253670 | 1 | 1 | 1 | 25 | 0 | 0 | 1 | 0 | 1 | ⋯ | 0 | 5 | 15 |  0 | 1 | 0 | 13 | 6 | 4 | 1 |\n",
       "| 253671 | 1 | 1 | 1 | 23 | 0 | 1 | 1 | 0 | 0 | ⋯ | 1 | 4 |  0 |  5 | 0 | 1 |  8 | 3 | 2 | 0 |\n",
       "| 253672 | 1 | 0 | 1 | 30 | 1 | 0 | 1 | 1 | 1 | ⋯ | 0 | 3 |  0 |  0 | 0 | 1 | 12 | 2 | 1 | 0 |\n",
       "| 253673 | 1 | 0 | 1 | 42 | 0 | 0 | 0 | 1 | 1 | ⋯ | 0 | 3 | 14 |  4 | 0 | 1 |  3 | 6 | 8 | 0 |\n",
       "| 253674 | 0 | 0 | 1 | 27 | 0 | 0 | 0 | 0 | 0 | ⋯ | 0 | 1 |  0 |  0 | 0 | 0 |  3 | 6 | 5 | 0 |\n",
       "| 253675 | 1 | 1 | 1 | 45 | 0 | 0 | 0 | 0 | 1 | ⋯ | 0 | 3 |  0 |  5 | 0 | 1 |  5 | 6 | 7 | 0 |\n",
       "| 253676 | 1 | 1 | 1 | 18 | 0 | 0 | 0 | 0 | 0 | ⋯ | 0 | 4 |  0 |  0 | 1 | 0 | 11 | 2 | 4 | 1 |\n",
       "| 253677 | 0 | 0 | 1 | 28 | 0 | 0 | 0 | 1 | 1 | ⋯ | 0 | 1 |  0 |  0 | 0 | 0 |  2 | 5 | 2 | 0 |\n",
       "| 253678 | 1 | 0 | 1 | 23 | 0 | 0 | 0 | 0 | 1 | ⋯ | 0 | 3 |  0 |  0 | 0 | 1 |  7 | 5 | 1 | 0 |\n",
       "| 253679 | 1 | 1 | 1 | 25 | 0 | 0 | 1 | 1 | 1 | ⋯ | 0 | 2 |  0 |  0 | 0 | 0 |  9 | 6 | 2 | 1 |\n",
       "\n"
      ],
      "text/plain": [
       "       X      HighBP HighChol CholCheck BMI Smoker Stroke HeartDiseaseorAttack\n",
       "1       0     1      1        1         40  1      0      0                   \n",
       "2       1     0      0        0         25  1      0      0                   \n",
       "3       2     1      1        1         28  0      0      0                   \n",
       "4       3     1      0        1         27  0      0      0                   \n",
       "5       4     1      1        1         24  0      0      0                   \n",
       "6       5     1      1        1         25  1      0      0                   \n",
       "7       6     1      0        1         30  1      0      0                   \n",
       "8       7     1      1        1         25  1      0      0                   \n",
       "9       8     1      1        1         30  1      0      1                   \n",
       "10      9     0      0        1         24  0      0      0                   \n",
       "11     10     0      0        1         25  1      0      0                   \n",
       "12     11     1      1        1         34  1      0      0                   \n",
       "13     12     0      0        1         26  1      0      0                   \n",
       "14     13     1      1        1         28  0      0      0                   \n",
       "15     14     0      1        1         33  1      1      0                   \n",
       "16     15     1      0        1         33  0      0      0                   \n",
       "17     16     1      1        1         21  0      0      0                   \n",
       "18     17     0      0        1         23  1      0      0                   \n",
       "19     18     0      0        0         23  0      0      0                   \n",
       "20     19     0      1        1         28  0      0      0                   \n",
       "21     20     1      1        1         22  0      1      1                   \n",
       "22     21     1      1        1         38  1      0      0                   \n",
       "23     22     0      0        1         28  1      0      0                   \n",
       "24     23     1      0        1         27  0      0      0                   \n",
       "25     24     1      1        1         28  1      0      0                   \n",
       "26     25     0      0        1         32  0      0      0                   \n",
       "27     26     1      1        1         37  1      1      1                   \n",
       "28     27     1      1        1         28  1      0      1                   \n",
       "29     28     1      1        1         27  1      0      0                   \n",
       "30     29     0      1        1         31  1      0      0                   \n",
       "<U+22EE>      <U+22EE> <U+22EE> <U+22EE> <U+22EE>  <U+22EE> <U+22EE> <U+22EE> <U+22EE>            \n",
       "253651 253650 1      0        1         27  0      0      0                   \n",
       "253652 253651 0      0        1         24  0      0      0                   \n",
       "253653 253652 0      1        1         27  0      0      0                   \n",
       "253654 253653 0      0        1         33  1      0      0                   \n",
       "253655 253654 0      0        1         26  1      0      0                   \n",
       "253656 253655 0      0        1         28  0      0      0                   \n",
       "253657 253656 0      0        1         25  0      0      0                   \n",
       "253658 253657 0      1        1         24  0      0      0                   \n",
       "253659 253658 0      0        0         27  0      0      0                   \n",
       "253660 253659 0      1        1         37  0      0      0                   \n",
       "253661 253660 0      1        1         34  1      0      0                   \n",
       "253662 253661 1      0        1         33  0      0      0                   \n",
       "253663 253662 0      0        1         16  0      0      0                   \n",
       "253664 253663 0      0        1         23  0      0      0                   \n",
       "253665 253664 0      1        1         29  1      0      0                   \n",
       "253666 253665 0      1        1         17  0      0      0                   \n",
       "253667 253666 1      0        1         23  0      0      0                   \n",
       "253668 253667 1      1        1         28  1      0      0                   \n",
       "253669 253668 0      1        1         29  1      0      1                   \n",
       "253670 253669 0      1        1         27  0      0      0                   \n",
       "253671 253670 1      1        1         25  0      0      1                   \n",
       "253672 253671 1      1        1         23  0      1      1                   \n",
       "253673 253672 1      0        1         30  1      0      1                   \n",
       "253674 253673 1      0        1         42  0      0      0                   \n",
       "253675 253674 0      0        1         27  0      0      0                   \n",
       "253676 253675 1      1        1         45  0      0      0                   \n",
       "253677 253676 1      1        1         18  0      0      0                   \n",
       "253678 253677 0      0        1         28  0      0      0                   \n",
       "253679 253678 1      0        1         23  0      0      0                   \n",
       "253680 253679 1      1        1         25  0      0      1                   \n",
       "       PhysActivity Fruits <U+22EF>        NoDocbcCost GenHlth MentHlth PhysHlth\n",
       "1      0            0      <U+22EF> 0           5       18       15      \n",
       "2      1            0      <U+22EF> 1           3        0        0      \n",
       "3      0            1      <U+22EF> 1           5       30       30      \n",
       "4      1            1      <U+22EF> 0           2        0        0      \n",
       "5      1            1      <U+22EF> 0           2        3        0      \n",
       "6      1            1      <U+22EF> 0           2        0        2      \n",
       "7      0            0      <U+22EF> 0           3        0       14      \n",
       "8      1            0      <U+22EF> 0           3        0        0      \n",
       "9      0            1      <U+22EF> 0           5       30       30      \n",
       "10     0            0      <U+22EF> 0           2        0        0      \n",
       "11     1            1      <U+22EF> 0           3        0        0      \n",
       "12     0            1      <U+22EF> 0           3        0       30      \n",
       "13     0            0      <U+22EF> 0           3        0       15      \n",
       "14     0            0      <U+22EF> 0           4        0        0      \n",
       "15     1            0      <U+22EF> 1           4       30       28      \n",
       "16     1            0      <U+22EF> 0           2        5        0      \n",
       "17     1            1      <U+22EF> 0           3        0        0      \n",
       "18     1            0      <U+22EF> 0           2        0        0      \n",
       "19     0            0      <U+22EF> 0           2       15        0      \n",
       "20     0            0      <U+22EF> 0           2       10        0      \n",
       "21     0            1      <U+22EF> 0           3       30        0      \n",
       "22     0            1      <U+22EF> 0           5       15       30      \n",
       "23     0            0      <U+22EF> 0           3        0        7      \n",
       "24     1            1      <U+22EF> 0           1        0        0      \n",
       "25     0            1      <U+22EF> 0           3        6        0      \n",
       "26     1            1      <U+22EF> 0           2        0        0      \n",
       "27     0            0      <U+22EF> 0           5        0        0      \n",
       "28     0            0      <U+22EF> 0           4        0        0      \n",
       "29     0            1      <U+22EF> 0           4       20       20      \n",
       "30     1            1      <U+22EF> 0           1        0        0      \n",
       "<U+22EE>      <U+22EE>     <U+22EE> <U+22F1> <U+22EE>    <U+22EE> <U+22EE> <U+22EE>\n",
       "253651 1            0      <U+22EF> 0           4        0        0      \n",
       "253652 1            1      <U+22EF> 1           1        0        0      \n",
       "253653 1            1      <U+22EF> 0           4        0       30      \n",
       "253654 0            1      <U+22EF> 0           4        0       15      \n",
       "253655 1            1      <U+22EF> 0           2        1        0      \n",
       "253656 1            1      <U+22EF> 0           2        0        0      \n",
       "253657 1            1      <U+22EF> 0           1        0        0      \n",
       "253658 0            0      <U+22EF> 0           3        0        0      \n",
       "253659 1            0      <U+22EF> 1           2        0        0      \n",
       "253660 0            0      <U+22EF> 0           4        0        0      \n",
       "253661 0            1      <U+22EF> 0           3        0        2      \n",
       "253662 1            0      <U+22EF> 1           3        0        2      \n",
       "253663 1            0      <U+22EF> 0           1        0        0      \n",
       "253664 0            1      <U+22EF> 1           2        0       30      \n",
       "253665 0            0      <U+22EF> 0           3        0        0      \n",
       "253666 0            0      <U+22EF> 1           4       30       30      \n",
       "253667 0            1      <U+22EF> 0           3        0       15      \n",
       "253668 0            0      <U+22EF> 0           3        0        0      \n",
       "253669 0            1      <U+22EF> 0           2        0        0      \n",
       "253670 0            0      <U+22EF> 1           1        0        3      \n",
       "253671 0            1      <U+22EF> 0           5       15        0      \n",
       "253672 0            0      <U+22EF> 1           4        0        5      \n",
       "253673 1            1      <U+22EF> 0           3        0        0      \n",
       "253674 1            1      <U+22EF> 0           3       14        4      \n",
       "253675 0            0      <U+22EF> 0           1        0        0      \n",
       "253676 0            1      <U+22EF> 0           3        0        5      \n",
       "253677 0            0      <U+22EF> 0           4        0        0      \n",
       "253678 1            1      <U+22EF> 0           1        0        0      \n",
       "253679 0            1      <U+22EF> 0           3        0        0      \n",
       "253680 1            1      <U+22EF> 0           2        0        0      \n",
       "       DiffWalk Sex Age Education Income Diabetes_binary\n",
       "1      1        0    9  4         3      0              \n",
       "2      0        0    7  6         1      0              \n",
       "3      1        0    9  4         8      0              \n",
       "4      0        0   11  3         6      0              \n",
       "5      0        0   11  5         4      0              \n",
       "6      0        1   10  6         8      0              \n",
       "7      0        0    9  6         7      0              \n",
       "8      1        0   11  4         4      0              \n",
       "9      1        0    9  5         1      1              \n",
       "10     0        1    8  4         3      0              \n",
       "11     0        1   13  6         8      1              \n",
       "12     1        0   10  5         1      0              \n",
       "13     0        0    7  5         7      0              \n",
       "14     1        0   11  4         6      1              \n",
       "15     0        0    4  6         2      0              \n",
       "16     0        0    6  6         8      0              \n",
       "17     0        0   10  4         3      0              \n",
       "18     0        1    7  5         6      1              \n",
       "19     0        0    2  6         7      0              \n",
       "20     0        1    4  6         8      0              \n",
       "21     1        0   12  4         4      0              \n",
       "22     1        0   13  2         3      0              \n",
       "23     0        1    5  5         5      0              \n",
       "24     0        0   13  5         4      1              \n",
       "25     1        0    9  4         6      0              \n",
       "26     0        0    5  6         8      0              \n",
       "27     1        1   10  6         5      1              \n",
       "28     0        1   12  2         4      1              \n",
       "29     1        0    8  4         7      1              \n",
       "30     0        1   12  6         8      0              \n",
       "<U+22EE>      <U+22EE> <U+22EE> <U+22EE> <U+22EE>  <U+22EE> <U+22EE>       \n",
       "253651 0        0    5  4         2      0              \n",
       "253652 0        1    2  6         3      0              \n",
       "253653 0        1   11  2         3      1              \n",
       "253654 0        1   10  6         3      0              \n",
       "253655 0        1    3  3         1      0              \n",
       "253656 0        0    2  6         4      0              \n",
       "253657 0        0    4  6         8      0              \n",
       "253658 0        0    7  5         3      0              \n",
       "253659 0        0    3  6         5      0              \n",
       "253660 0        0    6  4         1      1              \n",
       "253661 1        0    7  4         3      0              \n",
       "253662 1        0    6  6         6      0              \n",
       "253663 0        0    5  6         2      0              \n",
       "253664 0        0    5  6         2      0              \n",
       "253665 0        0    6  6         4      0              \n",
       "253666 0        0    5  4         1      0              \n",
       "253667 0        0    6  5         2      0              \n",
       "253668 0        0   11  4         7      0              \n",
       "253669 1        1   10  3         6      1              \n",
       "253670 0        1    6  2         4      0              \n",
       "253671 1        0   13  6         4      1              \n",
       "253672 0        1    8  3         2      0              \n",
       "253673 0        1   12  2         1      0              \n",
       "253674 0        1    3  6         8      0              \n",
       "253675 0        0    3  6         5      0              \n",
       "253676 0        1    5  6         7      0              \n",
       "253677 1        0   11  2         4      1              \n",
       "253678 0        0    2  5         2      0              \n",
       "253679 0        1    7  5         1      0              \n",
       "253680 0        0    9  6         2      1              "
      ]
     },
     "metadata": {},
     "output_type": "display_data"
    }
   ],
   "source": [
    "df"
   ]
  },
  {
   "cell_type": "code",
   "execution_count": 216,
   "id": "e9620d44-a832-40ea-ad74-52bf871ea734",
   "metadata": {},
   "outputs": [
    {
     "name": "stdout",
     "output_type": "stream",
     "text": [
      "'data.frame':\t253680 obs. of  23 variables:\n",
      " $ X                   : int  0 1 2 3 4 5 6 7 8 9 ...\n",
      " $ HighBP              : int  1 0 1 1 1 1 1 1 1 0 ...\n",
      " $ HighChol            : int  1 0 1 0 1 1 0 1 1 0 ...\n",
      " $ CholCheck           : int  1 0 1 1 1 1 1 1 1 1 ...\n",
      " $ BMI                 : int  40 25 28 27 24 25 30 25 30 24 ...\n",
      " $ Smoker              : int  1 1 0 0 0 1 1 1 1 0 ...\n",
      " $ Stroke              : int  0 0 0 0 0 0 0 0 0 0 ...\n",
      " $ HeartDiseaseorAttack: int  0 0 0 0 0 0 0 0 1 0 ...\n",
      " $ PhysActivity        : int  0 1 0 1 1 1 0 1 0 0 ...\n",
      " $ Fruits              : int  0 0 1 1 1 1 0 0 1 0 ...\n",
      " $ Veggies             : int  1 0 0 1 1 1 0 1 1 1 ...\n",
      " $ HvyAlcoholConsump   : int  0 0 0 0 0 0 0 0 0 0 ...\n",
      " $ AnyHealthcare       : int  1 0 1 1 1 1 1 1 1 1 ...\n",
      " $ NoDocbcCost         : int  0 1 1 0 0 0 0 0 0 0 ...\n",
      " $ GenHlth             : int  5 3 5 2 2 2 3 3 5 2 ...\n",
      " $ MentHlth            : int  18 0 30 0 3 0 0 0 30 0 ...\n",
      " $ PhysHlth            : int  15 0 30 0 0 2 14 0 30 0 ...\n",
      " $ DiffWalk            : int  1 0 1 0 0 0 0 1 1 0 ...\n",
      " $ Sex                 : int  0 0 0 0 0 1 0 0 0 1 ...\n",
      " $ Age                 : int  9 7 9 11 11 10 9 11 9 8 ...\n",
      " $ Education           : int  4 6 4 3 5 6 6 4 5 4 ...\n",
      " $ Income              : int  3 1 8 6 4 8 7 4 1 3 ...\n",
      " $ Diabetes_binary     : int  0 0 0 0 0 0 0 0 1 0 ...\n"
     ]
    }
   ],
   "source": [
    "str(df)"
   ]
  },
  {
   "cell_type": "markdown",
   "id": "6a37d8fa-dda1-4e12-8164-798bcbf0809e",
   "metadata": {},
   "source": [
    "## 2. Data Preprocessing"
   ]
  },
  {
   "cell_type": "markdown",
   "id": "3e9eb452-2ca5-457f-9e44-7b6651a69e89",
   "metadata": {},
   "source": [
    "### 2.1. Standardize column names"
   ]
  },
  {
   "cell_type": "code",
   "execution_count": 217,
   "id": "b4719da7-365e-42e4-bfaa-f51bd5c9d877",
   "metadata": {},
   "outputs": [
    {
     "data": {
      "text/html": [
       "<style>\n",
       ".list-inline {list-style: none; margin:0; padding: 0}\n",
       ".list-inline>li {display: inline-block}\n",
       ".list-inline>li:not(:last-child)::after {content: \"\\00b7\"; padding: 0 .5ex}\n",
       "</style>\n",
       "<ol class=list-inline><li>'X'</li><li>'HighBP'</li><li>'HighChol'</li><li>'CholCheck'</li><li>'BMI'</li><li>'Smoker'</li><li>'Stroke'</li><li>'HeartDiseaseorAttack'</li><li>'PhysActivity'</li><li>'Fruits'</li><li>'Veggies'</li><li>'HvyAlcoholConsump'</li><li>'AnyHealthcare'</li><li>'NoDocbcCost'</li><li>'GenHlth'</li><li>'MentHlth'</li><li>'PhysHlth'</li><li>'DiffWalk'</li><li>'Sex'</li><li>'Age'</li><li>'Education'</li><li>'Income'</li><li>'Diabetes_binary'</li></ol>\n"
      ],
      "text/latex": [
       "\\begin{enumerate*}\n",
       "\\item 'X'\n",
       "\\item 'HighBP'\n",
       "\\item 'HighChol'\n",
       "\\item 'CholCheck'\n",
       "\\item 'BMI'\n",
       "\\item 'Smoker'\n",
       "\\item 'Stroke'\n",
       "\\item 'HeartDiseaseorAttack'\n",
       "\\item 'PhysActivity'\n",
       "\\item 'Fruits'\n",
       "\\item 'Veggies'\n",
       "\\item 'HvyAlcoholConsump'\n",
       "\\item 'AnyHealthcare'\n",
       "\\item 'NoDocbcCost'\n",
       "\\item 'GenHlth'\n",
       "\\item 'MentHlth'\n",
       "\\item 'PhysHlth'\n",
       "\\item 'DiffWalk'\n",
       "\\item 'Sex'\n",
       "\\item 'Age'\n",
       "\\item 'Education'\n",
       "\\item 'Income'\n",
       "\\item 'Diabetes\\_binary'\n",
       "\\end{enumerate*}\n"
      ],
      "text/markdown": [
       "1. 'X'\n",
       "2. 'HighBP'\n",
       "3. 'HighChol'\n",
       "4. 'CholCheck'\n",
       "5. 'BMI'\n",
       "6. 'Smoker'\n",
       "7. 'Stroke'\n",
       "8. 'HeartDiseaseorAttack'\n",
       "9. 'PhysActivity'\n",
       "10. 'Fruits'\n",
       "11. 'Veggies'\n",
       "12. 'HvyAlcoholConsump'\n",
       "13. 'AnyHealthcare'\n",
       "14. 'NoDocbcCost'\n",
       "15. 'GenHlth'\n",
       "16. 'MentHlth'\n",
       "17. 'PhysHlth'\n",
       "18. 'DiffWalk'\n",
       "19. 'Sex'\n",
       "20. 'Age'\n",
       "21. 'Education'\n",
       "22. 'Income'\n",
       "23. 'Diabetes_binary'\n",
       "\n",
       "\n"
      ],
      "text/plain": [
       " [1] \"X\"                    \"HighBP\"               \"HighChol\"            \n",
       " [4] \"CholCheck\"            \"BMI\"                  \"Smoker\"              \n",
       " [7] \"Stroke\"               \"HeartDiseaseorAttack\" \"PhysActivity\"        \n",
       "[10] \"Fruits\"               \"Veggies\"              \"HvyAlcoholConsump\"   \n",
       "[13] \"AnyHealthcare\"        \"NoDocbcCost\"          \"GenHlth\"             \n",
       "[16] \"MentHlth\"             \"PhysHlth\"             \"DiffWalk\"            \n",
       "[19] \"Sex\"                  \"Age\"                  \"Education\"           \n",
       "[22] \"Income\"               \"Diabetes_binary\"     "
      ]
     },
     "metadata": {},
     "output_type": "display_data"
    }
   ],
   "source": [
    "colnames(df)"
   ]
  },
  {
   "cell_type": "code",
   "execution_count": 218,
   "id": "b12f9f7f-d48b-4339-94a9-d653ffc074a9",
   "metadata": {},
   "outputs": [],
   "source": [
    "# COMMENT: remove column \"X\"\n",
    "if (\"X\" %in% colnames(df))\n",
    "{\n",
    "    df = df[, !colnames(df) == \"X\"]\n",
    "}"
   ]
  },
  {
   "cell_type": "code",
   "execution_count": 219,
   "id": "35312eb4-acb0-43c3-aea3-ac85b7a8b818",
   "metadata": {},
   "outputs": [
    {
     "name": "stdout",
     "output_type": "stream",
     "text": [
      "'data.frame':\t253680 obs. of  22 variables:\n",
      " $ HighBP              : int  1 0 1 1 1 1 1 1 1 0 ...\n",
      " $ HighChol            : int  1 0 1 0 1 1 0 1 1 0 ...\n",
      " $ CholCheck           : int  1 0 1 1 1 1 1 1 1 1 ...\n",
      " $ BMI                 : int  40 25 28 27 24 25 30 25 30 24 ...\n",
      " $ Smoker              : int  1 1 0 0 0 1 1 1 1 0 ...\n",
      " $ Stroke              : int  0 0 0 0 0 0 0 0 0 0 ...\n",
      " $ HeartDiseaseorAttack: int  0 0 0 0 0 0 0 0 1 0 ...\n",
      " $ PhysActivity        : int  0 1 0 1 1 1 0 1 0 0 ...\n",
      " $ Fruits              : int  0 0 1 1 1 1 0 0 1 0 ...\n",
      " $ Veggies             : int  1 0 0 1 1 1 0 1 1 1 ...\n",
      " $ HvyAlcoholConsump   : int  0 0 0 0 0 0 0 0 0 0 ...\n",
      " $ AnyHealthcare       : int  1 0 1 1 1 1 1 1 1 1 ...\n",
      " $ NoDocbcCost         : int  0 1 1 0 0 0 0 0 0 0 ...\n",
      " $ GenHlth             : int  5 3 5 2 2 2 3 3 5 2 ...\n",
      " $ MentHlth            : int  18 0 30 0 3 0 0 0 30 0 ...\n",
      " $ PhysHlth            : int  15 0 30 0 0 2 14 0 30 0 ...\n",
      " $ DiffWalk            : int  1 0 1 0 0 0 0 1 1 0 ...\n",
      " $ Sex                 : int  0 0 0 0 0 1 0 0 0 1 ...\n",
      " $ Age                 : int  9 7 9 11 11 10 9 11 9 8 ...\n",
      " $ Education           : int  4 6 4 3 5 6 6 4 5 4 ...\n",
      " $ Income              : int  3 1 8 6 4 8 7 4 1 3 ...\n",
      " $ Diabetes_binary     : int  0 0 0 0 0 0 0 0 1 0 ...\n"
     ]
    }
   ],
   "source": [
    "str(df)"
   ]
  },
  {
   "cell_type": "markdown",
   "id": "29d1ddfb-ecf3-41ff-9cd7-e1aaa3ea6873",
   "metadata": {},
   "source": [
    "### 2.2. Mismatched data types"
   ]
  },
  {
   "cell_type": "code",
   "execution_count": 220,
   "id": "52a70792-43e3-4bf3-9987-f4460e2601ac",
   "metadata": {},
   "outputs": [
    {
     "name": "stdout",
     "output_type": "stream",
     "text": [
      "'data.frame':\t253680 obs. of  22 variables:\n",
      " $ HighBP              : int  1 0 1 1 1 1 1 1 1 0 ...\n",
      " $ HighChol            : int  1 0 1 0 1 1 0 1 1 0 ...\n",
      " $ CholCheck           : int  1 0 1 1 1 1 1 1 1 1 ...\n",
      " $ BMI                 : int  40 25 28 27 24 25 30 25 30 24 ...\n",
      " $ Smoker              : int  1 1 0 0 0 1 1 1 1 0 ...\n",
      " $ Stroke              : int  0 0 0 0 0 0 0 0 0 0 ...\n",
      " $ HeartDiseaseorAttack: int  0 0 0 0 0 0 0 0 1 0 ...\n",
      " $ PhysActivity        : int  0 1 0 1 1 1 0 1 0 0 ...\n",
      " $ Fruits              : int  0 0 1 1 1 1 0 0 1 0 ...\n",
      " $ Veggies             : int  1 0 0 1 1 1 0 1 1 1 ...\n",
      " $ HvyAlcoholConsump   : int  0 0 0 0 0 0 0 0 0 0 ...\n",
      " $ AnyHealthcare       : int  1 0 1 1 1 1 1 1 1 1 ...\n",
      " $ NoDocbcCost         : int  0 1 1 0 0 0 0 0 0 0 ...\n",
      " $ GenHlth             : int  5 3 5 2 2 2 3 3 5 2 ...\n",
      " $ MentHlth            : int  18 0 30 0 3 0 0 0 30 0 ...\n",
      " $ PhysHlth            : int  15 0 30 0 0 2 14 0 30 0 ...\n",
      " $ DiffWalk            : int  1 0 1 0 0 0 0 1 1 0 ...\n",
      " $ Sex                 : int  0 0 0 0 0 1 0 0 0 1 ...\n",
      " $ Age                 : int  9 7 9 11 11 10 9 11 9 8 ...\n",
      " $ Education           : int  4 6 4 3 5 6 6 4 5 4 ...\n",
      " $ Income              : int  3 1 8 6 4 8 7 4 1 3 ...\n",
      " $ Diabetes_binary     : int  0 0 0 0 0 0 0 0 1 0 ...\n"
     ]
    }
   ],
   "source": [
    "str(df)"
   ]
  },
  {
   "cell_type": "code",
   "execution_count": 221,
   "id": "b789f42e-d909-4ba9-943b-4be30018384e",
   "metadata": {},
   "outputs": [],
   "source": [
    "# COMMENT\n",
    "# All columns have correct data type"
   ]
  },
  {
   "cell_type": "markdown",
   "id": "bce5f736-1022-4709-b276-c91845b413a8",
   "metadata": {},
   "source": [
    "### 2.3. Mixed data values"
   ]
  },
  {
   "cell_type": "code",
   "execution_count": 222,
   "id": "fec32eab-4252-4199-ba54-a92194e8413f",
   "metadata": {},
   "outputs": [],
   "source": [
    "# COMMENT\n",
    "# Example: (female, woman, man, male) => (male, female)"
   ]
  },
  {
   "cell_type": "code",
   "execution_count": 223,
   "id": "1704f561-7315-42a1-97ee-5f888d44d29f",
   "metadata": {},
   "outputs": [],
   "source": [
    "# COMMENT\n",
    "# This dataset contains only number data => No mixed data values"
   ]
  },
  {
   "cell_type": "markdown",
   "id": "adaab349-e467-4880-91db-36fb48c1b04a",
   "metadata": {},
   "source": [
    "### 2.4. Missing data"
   ]
  },
  {
   "cell_type": "markdown",
   "id": "b3488a5a-29aa-409e-8963-bafe7dd0d9ac",
   "metadata": {},
   "source": [
    "#### 2.4.1 Null data"
   ]
  },
  {
   "cell_type": "code",
   "execution_count": 224,
   "id": "b8da67e8-3b6a-4d54-99be-cb8d4bef553a",
   "metadata": {},
   "outputs": [
    {
     "data": {
      "text/html": [
       "0"
      ],
      "text/latex": [
       "0"
      ],
      "text/markdown": [
       "0"
      ],
      "text/plain": [
       "[1] 0"
      ]
     },
     "metadata": {},
     "output_type": "display_data"
    }
   ],
   "source": [
    "sum(is.na(df))"
   ]
  },
  {
   "cell_type": "code",
   "execution_count": 225,
   "id": "b286bbbf-31d0-4d33-9b9a-46a1b0e19054",
   "metadata": {},
   "outputs": [],
   "source": [
    "# COMMENT\n",
    "# This dataset has no missing values"
   ]
  },
  {
   "cell_type": "markdown",
   "id": "12494376-38f9-4474-8a6b-9c2f95cd27d8",
   "metadata": {},
   "source": [
    "#### 2.4.2 Missing data in specific columns"
   ]
  },
  {
   "cell_type": "code",
   "execution_count": 226,
   "id": "4c293392-f5b0-42f9-9e89-dcdad903a850",
   "metadata": {},
   "outputs": [],
   "source": [
    "# COMMENT\n",
    "# We see that in column \"Age\", the value could have value of 14 \n",
    "# which is Don’t know / Refused / Missing (_AGEG5YR - BRFSS)"
   ]
  },
  {
   "cell_type": "code",
   "execution_count": 227,
   "id": "c8530450-5b2d-4db3-963b-d7079c3aa5c2",
   "metadata": {},
   "outputs": [
    {
     "data": {
      "text/html": [
       "0"
      ],
      "text/latex": [
       "0"
      ],
      "text/markdown": [
       "0"
      ],
      "text/plain": [
       "[1] 0"
      ]
     },
     "metadata": {},
     "output_type": "display_data"
    }
   ],
   "source": [
    "nrow(subset(df, Age == 14))"
   ]
  },
  {
   "cell_type": "code",
   "execution_count": 228,
   "id": "fcec4fc6-4968-443a-9445-0d16b5c00c3b",
   "metadata": {},
   "outputs": [],
   "source": [
    "# COMMENT\n",
    "# The dataset has no missing data."
   ]
  },
  {
   "cell_type": "markdown",
   "id": "9606d14d-becd-4fc7-a425-b3ead8940166",
   "metadata": {},
   "source": [
    "## 3. Exploratory data analysis (EDA)"
   ]
  },
  {
   "cell_type": "code",
   "execution_count": 229,
   "id": "03806332-c7cf-4c28-a038-ee703dfbda93",
   "metadata": {},
   "outputs": [],
   "source": [
    "plot_stack_bar_2x2 = function(table_2x2)\n",
    "{\n",
    "    barplot(table_2x2, beside = TRUE, col = c(\"green\", \"red\"))\n",
    "    legend(\"top\", legend = rownames(table_2x2), fill = c(\"green\", \"red\"))\n",
    "}"
   ]
  },
  {
   "cell_type": "code",
   "execution_count": 230,
   "id": "26819b2c-4c69-4633-a51c-b5007592366f",
   "metadata": {},
   "outputs": [
    {
     "name": "stdout",
     "output_type": "stream",
     "text": [
      "'data.frame':\t253680 obs. of  22 variables:\n",
      " $ HighBP              : int  1 0 1 1 1 1 1 1 1 0 ...\n",
      " $ HighChol            : int  1 0 1 0 1 1 0 1 1 0 ...\n",
      " $ CholCheck           : int  1 0 1 1 1 1 1 1 1 1 ...\n",
      " $ BMI                 : int  40 25 28 27 24 25 30 25 30 24 ...\n",
      " $ Smoker              : int  1 1 0 0 0 1 1 1 1 0 ...\n",
      " $ Stroke              : int  0 0 0 0 0 0 0 0 0 0 ...\n",
      " $ HeartDiseaseorAttack: int  0 0 0 0 0 0 0 0 1 0 ...\n",
      " $ PhysActivity        : int  0 1 0 1 1 1 0 1 0 0 ...\n",
      " $ Fruits              : int  0 0 1 1 1 1 0 0 1 0 ...\n",
      " $ Veggies             : int  1 0 0 1 1 1 0 1 1 1 ...\n",
      " $ HvyAlcoholConsump   : int  0 0 0 0 0 0 0 0 0 0 ...\n",
      " $ AnyHealthcare       : int  1 0 1 1 1 1 1 1 1 1 ...\n",
      " $ NoDocbcCost         : int  0 1 1 0 0 0 0 0 0 0 ...\n",
      " $ GenHlth             : int  5 3 5 2 2 2 3 3 5 2 ...\n",
      " $ MentHlth            : int  18 0 30 0 3 0 0 0 30 0 ...\n",
      " $ PhysHlth            : int  15 0 30 0 0 2 14 0 30 0 ...\n",
      " $ DiffWalk            : int  1 0 1 0 0 0 0 1 1 0 ...\n",
      " $ Sex                 : int  0 0 0 0 0 1 0 0 0 1 ...\n",
      " $ Age                 : int  9 7 9 11 11 10 9 11 9 8 ...\n",
      " $ Education           : int  4 6 4 3 5 6 6 4 5 4 ...\n",
      " $ Income              : int  3 1 8 6 4 8 7 4 1 3 ...\n",
      " $ Diabetes_binary     : int  0 0 0 0 0 0 0 0 1 0 ...\n"
     ]
    }
   ],
   "source": [
    "str(df)"
   ]
  },
  {
   "cell_type": "markdown",
   "id": "c2bae823-a9ff-47bd-9cbd-827648c0ac2e",
   "metadata": {},
   "source": [
    "### 3.1. Response variable analysis"
   ]
  },
  {
   "cell_type": "code",
   "execution_count": 231,
   "id": "b3da72aa-81d0-4ba7-ad50-5d30bf9f4e6b",
   "metadata": {},
   "outputs": [],
   "source": [
    "plot_binary_distribution = function(dataframe, response_col, title)\n",
    "{\n",
    "    # Creating a table of counts for each category in the response column\n",
    "    response_table <- table(dataframe[, response_col])\n",
    "    \n",
    "    # Converting the table into a data frame\n",
    "    response_df <- as.data.frame(response_table)\n",
    "    \n",
    "    # Renaming the column\n",
    "    colnames(response_df) <- c(\"Response\", \"Count\")\n",
    "    \n",
    "    # Calculate percentages\n",
    "    response_df$Percent <- response_df$Count / sum(response_df$Count) * 100\n",
    "    \n",
    "    # Creating a pie chart using ggplot2\n",
    "    pie_chart <- ggplot(response_df, aes(x = \"\", y = Count, fill = Response)) +\n",
    "      geom_bar(stat = \"identity\", width = 1) +\n",
    "      coord_polar(\"y\", start = 0) +\n",
    "      scale_fill_manual(values = c(\"green\", \"red\")) + \n",
    "      labs(title = title) +\n",
    "      theme_void() +\n",
    "      theme(legend.position = \"bottom\", \n",
    "            plot.title = element_text(hjust = 0.5, size = 30),  # Adjust title size here\n",
    "            legend.text = element_text(size = 20)) +            # Adjust legend text size here\n",
    "      geom_text(aes(label = paste0(round(Percent, 1), \"%\")), \n",
    "                position = position_stack(vjust = 0.5),\n",
    "                size = 7) + # Adjust label size here\n",
    "      guides(fill = guide_legend(title = response_col, title.position = \"top\", title.theme = element_text(size = 15))) # Adjust legend title size here\n",
    "    \n",
    "    # Displaying the pie chart\n",
    "    print(pie_chart)\n",
    "}"
   ]
  },
  {
   "cell_type": "code",
   "execution_count": 232,
   "id": "8b99a955-da6e-40fd-a1b4-64917d28c208",
   "metadata": {},
   "outputs": [
    {
     "data": {
      "image/png": "[encoded data removed]",
      "text/plain": [
       "plot without title"
      ]
     },
     "metadata": {
      "image/png": {
       "height": 420,
       "width": 420
      }
     },
     "output_type": "display_data"
    }
   ],
   "source": [
    "plot_binary_distribution(df, \"Diabetes_binary\", \"Imbalanced dataset: Diabetes_binary\")"
   ]
  },
  {
   "cell_type": "code",
   "execution_count": 233,
   "id": "e3565b0f-c921-4d6d-9547-454cbcad9df6",
   "metadata": {},
   "outputs": [],
   "source": [
    "# COMMENT\n",
    "# The dataset is imbalanced\n",
    "# => Apply oversampling method"
   ]
  },
  {
   "cell_type": "markdown",
   "id": "39f720e5-1a17-4f18-bafb-73422f61709b",
   "metadata": {},
   "source": [
    "### 3.2. Dataset oversampling"
   ]
  },
  {
   "cell_type": "code",
   "execution_count": 234,
   "id": "a2ada184-fd75-4f1f-81d8-5086cbad7288",
   "metadata": {},
   "outputs": [
    {
     "data": {
      "text/plain": [
       "\n",
       "     0      1 \n",
       "218334  35346 "
      ]
     },
     "metadata": {},
     "output_type": "display_data"
    }
   ],
   "source": [
    "table(df$Diabetes_binary)"
   ]
  },
  {
   "cell_type": "code",
   "execution_count": 235,
   "id": "2cff7344-145c-4766-9547-773532642b35",
   "metadata": {},
   "outputs": [],
   "source": [
    "balanced_df <- ovun.sample(Diabetes_binary ~  ., data = df,\n",
    "                                  p = 0.5, seed = SEED, \n",
    "                                  method = \"over\")$data"
   ]
  },
  {
   "cell_type": "code",
   "execution_count": 236,
   "id": "2dbab752-ec2e-4939-89a4-b25579cb860e",
   "metadata": {},
   "outputs": [
    {
     "data": {
      "text/plain": [
       "\n",
       "     0      1 \n",
       "218334 218266 "
      ]
     },
     "metadata": {},
     "output_type": "display_data"
    }
   ],
   "source": [
    "table(balanced_df$Diabetes_binary)"
   ]
  },
  {
   "cell_type": "code",
   "execution_count": 237,
   "id": "8a8b27a1-3946-4657-ac38-c8658efd2c9e",
   "metadata": {},
   "outputs": [
    {
     "data": {
      "text/html": [
       "<table class=\"dataframe\">\n",
       "<caption>A data.frame: 436600 × 22</caption>\n",
       "<thead>\n",
       "\t<tr><th></th><th scope=col>HighBP</th><th scope=col>HighChol</th><th scope=col>CholCheck</th><th scope=col>BMI</th><th scope=col>Smoker</th><th scope=col>Stroke</th><th scope=col>HeartDiseaseorAttack</th><th scope=col>PhysActivity</th><th scope=col>Fruits</th><th scope=col>Veggies</th><th scope=col>⋯</th><th scope=col>NoDocbcCost</th><th scope=col>GenHlth</th><th scope=col>MentHlth</th><th scope=col>PhysHlth</th><th scope=col>DiffWalk</th><th scope=col>Sex</th><th scope=col>Age</th><th scope=col>Education</th><th scope=col>Income</th><th scope=col>Diabetes_binary</th></tr>\n",
       "\t<tr><th></th><th scope=col>&lt;int&gt;</th><th scope=col>&lt;int&gt;</th><th scope=col>&lt;int&gt;</th><th scope=col>&lt;int&gt;</th><th scope=col>&lt;int&gt;</th><th scope=col>&lt;int&gt;</th><th scope=col>&lt;int&gt;</th><th scope=col>&lt;int&gt;</th><th scope=col>&lt;int&gt;</th><th scope=col>&lt;int&gt;</th><th scope=col>⋯</th><th scope=col>&lt;int&gt;</th><th scope=col>&lt;int&gt;</th><th scope=col>&lt;int&gt;</th><th scope=col>&lt;int&gt;</th><th scope=col>&lt;int&gt;</th><th scope=col>&lt;int&gt;</th><th scope=col>&lt;int&gt;</th><th scope=col>&lt;int&gt;</th><th scope=col>&lt;int&gt;</th><th scope=col>&lt;int&gt;</th></tr>\n",
       "</thead>\n",
       "<tbody>\n",
       "\t<tr><th scope=row>1</th><td>1</td><td>1</td><td>1</td><td>40</td><td>1</td><td>0</td><td>0</td><td>0</td><td>0</td><td>1</td><td>⋯</td><td>0</td><td>5</td><td>18</td><td>15</td><td>1</td><td>0</td><td> 9</td><td>4</td><td>3</td><td>0</td></tr>\n",
       "\t<tr><th scope=row>2</th><td>0</td><td>0</td><td>0</td><td>25</td><td>1</td><td>0</td><td>0</td><td>1</td><td>0</td><td>0</td><td>⋯</td><td>1</td><td>3</td><td> 0</td><td> 0</td><td>0</td><td>0</td><td> 7</td><td>6</td><td>1</td><td>0</td></tr>\n",
       "\t<tr><th scope=row>3</th><td>1</td><td>1</td><td>1</td><td>28</td><td>0</td><td>0</td><td>0</td><td>0</td><td>1</td><td>0</td><td>⋯</td><td>1</td><td>5</td><td>30</td><td>30</td><td>1</td><td>0</td><td> 9</td><td>4</td><td>8</td><td>0</td></tr>\n",
       "\t<tr><th scope=row>4</th><td>1</td><td>0</td><td>1</td><td>27</td><td>0</td><td>0</td><td>0</td><td>1</td><td>1</td><td>1</td><td>⋯</td><td>0</td><td>2</td><td> 0</td><td> 0</td><td>0</td><td>0</td><td>11</td><td>3</td><td>6</td><td>0</td></tr>\n",
       "\t<tr><th scope=row>5</th><td>1</td><td>1</td><td>1</td><td>24</td><td>0</td><td>0</td><td>0</td><td>1</td><td>1</td><td>1</td><td>⋯</td><td>0</td><td>2</td><td> 3</td><td> 0</td><td>0</td><td>0</td><td>11</td><td>5</td><td>4</td><td>0</td></tr>\n",
       "\t<tr><th scope=row>6</th><td>1</td><td>1</td><td>1</td><td>25</td><td>1</td><td>0</td><td>0</td><td>1</td><td>1</td><td>1</td><td>⋯</td><td>0</td><td>2</td><td> 0</td><td> 2</td><td>0</td><td>1</td><td>10</td><td>6</td><td>8</td><td>0</td></tr>\n",
       "\t<tr><th scope=row>7</th><td>1</td><td>0</td><td>1</td><td>30</td><td>1</td><td>0</td><td>0</td><td>0</td><td>0</td><td>0</td><td>⋯</td><td>0</td><td>3</td><td> 0</td><td>14</td><td>0</td><td>0</td><td> 9</td><td>6</td><td>7</td><td>0</td></tr>\n",
       "\t<tr><th scope=row>8</th><td>1</td><td>1</td><td>1</td><td>25</td><td>1</td><td>0</td><td>0</td><td>1</td><td>0</td><td>1</td><td>⋯</td><td>0</td><td>3</td><td> 0</td><td> 0</td><td>1</td><td>0</td><td>11</td><td>4</td><td>4</td><td>0</td></tr>\n",
       "\t<tr><th scope=row>9</th><td>0</td><td>0</td><td>1</td><td>24</td><td>0</td><td>0</td><td>0</td><td>0</td><td>0</td><td>1</td><td>⋯</td><td>0</td><td>2</td><td> 0</td><td> 0</td><td>0</td><td>1</td><td> 8</td><td>4</td><td>3</td><td>0</td></tr>\n",
       "\t<tr><th scope=row>10</th><td>1</td><td>1</td><td>1</td><td>34</td><td>1</td><td>0</td><td>0</td><td>0</td><td>1</td><td>1</td><td>⋯</td><td>0</td><td>3</td><td> 0</td><td>30</td><td>1</td><td>0</td><td>10</td><td>5</td><td>1</td><td>0</td></tr>\n",
       "\t<tr><th scope=row>11</th><td>0</td><td>0</td><td>1</td><td>26</td><td>1</td><td>0</td><td>0</td><td>0</td><td>0</td><td>1</td><td>⋯</td><td>0</td><td>3</td><td> 0</td><td>15</td><td>0</td><td>0</td><td> 7</td><td>5</td><td>7</td><td>0</td></tr>\n",
       "\t<tr><th scope=row>12</th><td>0</td><td>1</td><td>1</td><td>33</td><td>1</td><td>1</td><td>0</td><td>1</td><td>0</td><td>1</td><td>⋯</td><td>1</td><td>4</td><td>30</td><td>28</td><td>0</td><td>0</td><td> 4</td><td>6</td><td>2</td><td>0</td></tr>\n",
       "\t<tr><th scope=row>13</th><td>1</td><td>0</td><td>1</td><td>33</td><td>0</td><td>0</td><td>0</td><td>1</td><td>0</td><td>0</td><td>⋯</td><td>0</td><td>2</td><td> 5</td><td> 0</td><td>0</td><td>0</td><td> 6</td><td>6</td><td>8</td><td>0</td></tr>\n",
       "\t<tr><th scope=row>14</th><td>1</td><td>1</td><td>1</td><td>21</td><td>0</td><td>0</td><td>0</td><td>1</td><td>1</td><td>1</td><td>⋯</td><td>0</td><td>3</td><td> 0</td><td> 0</td><td>0</td><td>0</td><td>10</td><td>4</td><td>3</td><td>0</td></tr>\n",
       "\t<tr><th scope=row>15</th><td>0</td><td>0</td><td>0</td><td>23</td><td>0</td><td>0</td><td>0</td><td>0</td><td>0</td><td>1</td><td>⋯</td><td>0</td><td>2</td><td>15</td><td> 0</td><td>0</td><td>0</td><td> 2</td><td>6</td><td>7</td><td>0</td></tr>\n",
       "\t<tr><th scope=row>16</th><td>0</td><td>1</td><td>1</td><td>28</td><td>0</td><td>0</td><td>0</td><td>0</td><td>0</td><td>0</td><td>⋯</td><td>0</td><td>2</td><td>10</td><td> 0</td><td>0</td><td>1</td><td> 4</td><td>6</td><td>8</td><td>0</td></tr>\n",
       "\t<tr><th scope=row>17</th><td>1</td><td>1</td><td>1</td><td>22</td><td>0</td><td>1</td><td>1</td><td>0</td><td>1</td><td>0</td><td>⋯</td><td>0</td><td>3</td><td>30</td><td> 0</td><td>1</td><td>0</td><td>12</td><td>4</td><td>4</td><td>0</td></tr>\n",
       "\t<tr><th scope=row>18</th><td>1</td><td>1</td><td>1</td><td>38</td><td>1</td><td>0</td><td>0</td><td>0</td><td>1</td><td>1</td><td>⋯</td><td>0</td><td>5</td><td>15</td><td>30</td><td>1</td><td>0</td><td>13</td><td>2</td><td>3</td><td>0</td></tr>\n",
       "\t<tr><th scope=row>19</th><td>0</td><td>0</td><td>1</td><td>28</td><td>1</td><td>0</td><td>0</td><td>0</td><td>0</td><td>1</td><td>⋯</td><td>0</td><td>3</td><td> 0</td><td> 7</td><td>0</td><td>1</td><td> 5</td><td>5</td><td>5</td><td>0</td></tr>\n",
       "\t<tr><th scope=row>20</th><td>1</td><td>1</td><td>1</td><td>28</td><td>1</td><td>0</td><td>0</td><td>0</td><td>1</td><td>1</td><td>⋯</td><td>0</td><td>3</td><td> 6</td><td> 0</td><td>1</td><td>0</td><td> 9</td><td>4</td><td>6</td><td>0</td></tr>\n",
       "\t<tr><th scope=row>21</th><td>0</td><td>0</td><td>1</td><td>32</td><td>0</td><td>0</td><td>0</td><td>1</td><td>1</td><td>1</td><td>⋯</td><td>0</td><td>2</td><td> 0</td><td> 0</td><td>0</td><td>0</td><td> 5</td><td>6</td><td>8</td><td>0</td></tr>\n",
       "\t<tr><th scope=row>22</th><td>0</td><td>1</td><td>1</td><td>31</td><td>1</td><td>0</td><td>0</td><td>1</td><td>1</td><td>1</td><td>⋯</td><td>0</td><td>1</td><td> 0</td><td> 0</td><td>0</td><td>1</td><td>12</td><td>6</td><td>8</td><td>0</td></tr>\n",
       "\t<tr><th scope=row>23</th><td>1</td><td>0</td><td>1</td><td>33</td><td>1</td><td>0</td><td>0</td><td>1</td><td>1</td><td>1</td><td>⋯</td><td>0</td><td>1</td><td> 0</td><td> 0</td><td>1</td><td>1</td><td>13</td><td>3</td><td>3</td><td>0</td></tr>\n",
       "\t<tr><th scope=row>24</th><td>0</td><td>0</td><td>1</td><td>23</td><td>0</td><td>0</td><td>0</td><td>1</td><td>1</td><td>1</td><td>⋯</td><td>0</td><td>1</td><td> 2</td><td> 0</td><td>0</td><td>0</td><td> 6</td><td>4</td><td>8</td><td>0</td></tr>\n",
       "\t<tr><th scope=row>25</th><td>1</td><td>0</td><td>1</td><td>31</td><td>0</td><td>0</td><td>0</td><td>1</td><td>0</td><td>0</td><td>⋯</td><td>0</td><td>3</td><td> 0</td><td> 0</td><td>0</td><td>1</td><td>11</td><td>6</td><td>2</td><td>0</td></tr>\n",
       "\t<tr><th scope=row>26</th><td>1</td><td>0</td><td>1</td><td>26</td><td>0</td><td>0</td><td>0</td><td>1</td><td>1</td><td>1</td><td>⋯</td><td>0</td><td>2</td><td> 0</td><td> 0</td><td>0</td><td>0</td><td> 9</td><td>4</td><td>4</td><td>0</td></tr>\n",
       "\t<tr><th scope=row>27</th><td>1</td><td>1</td><td>1</td><td>24</td><td>1</td><td>0</td><td>0</td><td>1</td><td>0</td><td>1</td><td>⋯</td><td>0</td><td>3</td><td> 5</td><td> 3</td><td>1</td><td>1</td><td> 8</td><td>4</td><td>3</td><td>0</td></tr>\n",
       "\t<tr><th scope=row>28</th><td>0</td><td>0</td><td>1</td><td>22</td><td>0</td><td>0</td><td>0</td><td>1</td><td>1</td><td>1</td><td>⋯</td><td>0</td><td>2</td><td> 0</td><td>10</td><td>0</td><td>0</td><td>12</td><td>5</td><td>7</td><td>0</td></tr>\n",
       "\t<tr><th scope=row>29</th><td>0</td><td>0</td><td>1</td><td>26</td><td>1</td><td>0</td><td>0</td><td>1</td><td>1</td><td>1</td><td>⋯</td><td>0</td><td>1</td><td> 0</td><td> 1</td><td>0</td><td>1</td><td> 4</td><td>5</td><td>3</td><td>0</td></tr>\n",
       "\t<tr><th scope=row>30</th><td>1</td><td>1</td><td>1</td><td>24</td><td>1</td><td>0</td><td>0</td><td>0</td><td>1</td><td>1</td><td>⋯</td><td>0</td><td>5</td><td> 0</td><td>30</td><td>0</td><td>1</td><td> 9</td><td>3</td><td>1</td><td>0</td></tr>\n",
       "\t<tr><th scope=row>⋮</th><td>⋮</td><td>⋮</td><td>⋮</td><td>⋮</td><td>⋮</td><td>⋮</td><td>⋮</td><td>⋮</td><td>⋮</td><td>⋮</td><td>⋱</td><td>⋮</td><td>⋮</td><td>⋮</td><td>⋮</td><td>⋮</td><td>⋮</td><td>⋮</td><td>⋮</td><td>⋮</td><td>⋮</td></tr>\n",
       "\t<tr><th scope=row>436571</th><td>1</td><td>1</td><td>1</td><td>29</td><td>0</td><td>0</td><td>0</td><td>1</td><td>0</td><td>0</td><td>⋯</td><td>0</td><td>3</td><td> 0</td><td> 1</td><td>0</td><td>1</td><td>11</td><td>5</td><td>5</td><td>1</td></tr>\n",
       "\t<tr><th scope=row>436572</th><td>1</td><td>0</td><td>1</td><td>25</td><td>1</td><td>0</td><td>0</td><td>0</td><td>0</td><td>1</td><td>⋯</td><td>0</td><td>4</td><td> 2</td><td> 5</td><td>0</td><td>0</td><td> 9</td><td>5</td><td>4</td><td>1</td></tr>\n",
       "\t<tr><th scope=row>436573</th><td>1</td><td>1</td><td>1</td><td>49</td><td>1</td><td>0</td><td>0</td><td>1</td><td>1</td><td>1</td><td>⋯</td><td>0</td><td>5</td><td>10</td><td> 6</td><td>0</td><td>0</td><td> 7</td><td>4</td><td>2</td><td>1</td></tr>\n",
       "\t<tr><th scope=row>436574</th><td>0</td><td>1</td><td>1</td><td>37</td><td>1</td><td>0</td><td>0</td><td>1</td><td>0</td><td>0</td><td>⋯</td><td>0</td><td>2</td><td> 0</td><td> 0</td><td>0</td><td>1</td><td> 8</td><td>4</td><td>8</td><td>1</td></tr>\n",
       "\t<tr><th scope=row>436575</th><td>0</td><td>1</td><td>1</td><td>34</td><td>1</td><td>0</td><td>1</td><td>0</td><td>1</td><td>1</td><td>⋯</td><td>0</td><td>4</td><td> 0</td><td> 0</td><td>0</td><td>0</td><td>12</td><td>4</td><td>5</td><td>1</td></tr>\n",
       "\t<tr><th scope=row>436576</th><td>0</td><td>1</td><td>1</td><td>34</td><td>0</td><td>0</td><td>0</td><td>0</td><td>1</td><td>0</td><td>⋯</td><td>0</td><td>4</td><td> 0</td><td> 3</td><td>1</td><td>0</td><td>10</td><td>6</td><td>4</td><td>1</td></tr>\n",
       "\t<tr><th scope=row>436577</th><td>1</td><td>1</td><td>1</td><td>33</td><td>0</td><td>0</td><td>0</td><td>1</td><td>1</td><td>1</td><td>⋯</td><td>1</td><td>3</td><td> 0</td><td> 0</td><td>0</td><td>0</td><td> 3</td><td>6</td><td>8</td><td>1</td></tr>\n",
       "\t<tr><th scope=row>436578</th><td>1</td><td>1</td><td>1</td><td>45</td><td>1</td><td>0</td><td>1</td><td>0</td><td>0</td><td>1</td><td>⋯</td><td>0</td><td>3</td><td> 5</td><td>15</td><td>1</td><td>0</td><td>10</td><td>4</td><td>3</td><td>1</td></tr>\n",
       "\t<tr><th scope=row>436579</th><td>1</td><td>1</td><td>1</td><td>30</td><td>0</td><td>0</td><td>0</td><td>0</td><td>1</td><td>1</td><td>⋯</td><td>1</td><td>5</td><td>25</td><td>30</td><td>1</td><td>1</td><td> 7</td><td>6</td><td>2</td><td>1</td></tr>\n",
       "\t<tr><th scope=row>436580</th><td>1</td><td>0</td><td>1</td><td>29</td><td>0</td><td>0</td><td>0</td><td>1</td><td>1</td><td>1</td><td>⋯</td><td>0</td><td>1</td><td> 0</td><td> 1</td><td>0</td><td>0</td><td>10</td><td>6</td><td>8</td><td>1</td></tr>\n",
       "\t<tr><th scope=row>436581</th><td>1</td><td>1</td><td>1</td><td>30</td><td>0</td><td>0</td><td>0</td><td>1</td><td>1</td><td>0</td><td>⋯</td><td>0</td><td>4</td><td>30</td><td> 3</td><td>0</td><td>0</td><td> 5</td><td>6</td><td>7</td><td>1</td></tr>\n",
       "\t<tr><th scope=row>436582</th><td>1</td><td>1</td><td>1</td><td>27</td><td>0</td><td>1</td><td>1</td><td>1</td><td>0</td><td>0</td><td>⋯</td><td>0</td><td>3</td><td> 0</td><td> 1</td><td>0</td><td>1</td><td>13</td><td>5</td><td>8</td><td>1</td></tr>\n",
       "\t<tr><th scope=row>436583</th><td>1</td><td>1</td><td>1</td><td>33</td><td>1</td><td>0</td><td>0</td><td>0</td><td>0</td><td>1</td><td>⋯</td><td>0</td><td>4</td><td> 0</td><td>28</td><td>1</td><td>1</td><td>13</td><td>3</td><td>7</td><td>1</td></tr>\n",
       "\t<tr><th scope=row>436584</th><td>1</td><td>0</td><td>1</td><td>28</td><td>0</td><td>0</td><td>0</td><td>1</td><td>1</td><td>1</td><td>⋯</td><td>0</td><td>2</td><td> 0</td><td> 0</td><td>0</td><td>0</td><td>10</td><td>3</td><td>2</td><td>1</td></tr>\n",
       "\t<tr><th scope=row>436585</th><td>1</td><td>1</td><td>1</td><td>27</td><td>0</td><td>0</td><td>0</td><td>0</td><td>1</td><td>1</td><td>⋯</td><td>0</td><td>5</td><td> 0</td><td>30</td><td>0</td><td>0</td><td>13</td><td>6</td><td>3</td><td>1</td></tr>\n",
       "\t<tr><th scope=row>436586</th><td>0</td><td>1</td><td>1</td><td>35</td><td>0</td><td>0</td><td>0</td><td>0</td><td>0</td><td>1</td><td>⋯</td><td>0</td><td>3</td><td> 0</td><td> 5</td><td>0</td><td>0</td><td> 2</td><td>6</td><td>7</td><td>1</td></tr>\n",
       "\t<tr><th scope=row>436587</th><td>1</td><td>1</td><td>1</td><td>26</td><td>0</td><td>0</td><td>1</td><td>1</td><td>0</td><td>1</td><td>⋯</td><td>0</td><td>5</td><td> 0</td><td> 0</td><td>1</td><td>0</td><td>11</td><td>4</td><td>4</td><td>1</td></tr>\n",
       "\t<tr><th scope=row>436588</th><td>0</td><td>0</td><td>1</td><td>27</td><td>1</td><td>0</td><td>0</td><td>1</td><td>1</td><td>1</td><td>⋯</td><td>0</td><td>4</td><td> 0</td><td> 0</td><td>0</td><td>1</td><td> 9</td><td>2</td><td>2</td><td>1</td></tr>\n",
       "\t<tr><th scope=row>436589</th><td>1</td><td>0</td><td>1</td><td>38</td><td>0</td><td>0</td><td>0</td><td>1</td><td>1</td><td>1</td><td>⋯</td><td>1</td><td>4</td><td> 0</td><td> 0</td><td>0</td><td>0</td><td> 6</td><td>6</td><td>3</td><td>1</td></tr>\n",
       "\t<tr><th scope=row>436590</th><td>1</td><td>1</td><td>1</td><td>36</td><td>0</td><td>0</td><td>0</td><td>0</td><td>1</td><td>1</td><td>⋯</td><td>0</td><td>2</td><td> 4</td><td>10</td><td>0</td><td>1</td><td> 8</td><td>6</td><td>7</td><td>1</td></tr>\n",
       "\t<tr><th scope=row>436591</th><td>1</td><td>0</td><td>1</td><td>26</td><td>1</td><td>0</td><td>0</td><td>0</td><td>0</td><td>0</td><td>⋯</td><td>1</td><td>5</td><td> 0</td><td>30</td><td>1</td><td>1</td><td> 6</td><td>4</td><td>1</td><td>1</td></tr>\n",
       "\t<tr><th scope=row>436592</th><td>1</td><td>1</td><td>1</td><td>28</td><td>0</td><td>0</td><td>0</td><td>1</td><td>0</td><td>0</td><td>⋯</td><td>0</td><td>2</td><td> 0</td><td> 2</td><td>0</td><td>1</td><td>11</td><td>4</td><td>4</td><td>1</td></tr>\n",
       "\t<tr><th scope=row>436593</th><td>1</td><td>1</td><td>1</td><td>30</td><td>1</td><td>0</td><td>0</td><td>1</td><td>1</td><td>1</td><td>⋯</td><td>0</td><td>2</td><td> 0</td><td> 0</td><td>1</td><td>1</td><td>13</td><td>6</td><td>7</td><td>1</td></tr>\n",
       "\t<tr><th scope=row>436594</th><td>0</td><td>1</td><td>1</td><td>26</td><td>0</td><td>0</td><td>0</td><td>1</td><td>1</td><td>1</td><td>⋯</td><td>1</td><td>3</td><td> 0</td><td> 0</td><td>0</td><td>0</td><td> 9</td><td>6</td><td>1</td><td>1</td></tr>\n",
       "\t<tr><th scope=row>436595</th><td>1</td><td>1</td><td>1</td><td>42</td><td>1</td><td>0</td><td>1</td><td>0</td><td>0</td><td>0</td><td>⋯</td><td>0</td><td>5</td><td>30</td><td>30</td><td>1</td><td>1</td><td>12</td><td>3</td><td>3</td><td>1</td></tr>\n",
       "\t<tr><th scope=row>436596</th><td>0</td><td>1</td><td>1</td><td>35</td><td>1</td><td>0</td><td>0</td><td>1</td><td>1</td><td>1</td><td>⋯</td><td>0</td><td>3</td><td> 0</td><td> 2</td><td>0</td><td>0</td><td> 8</td><td>5</td><td>8</td><td>1</td></tr>\n",
       "\t<tr><th scope=row>436597</th><td>0</td><td>0</td><td>1</td><td>20</td><td>0</td><td>0</td><td>0</td><td>1</td><td>1</td><td>1</td><td>⋯</td><td>0</td><td>1</td><td> 0</td><td> 0</td><td>0</td><td>1</td><td>10</td><td>4</td><td>7</td><td>1</td></tr>\n",
       "\t<tr><th scope=row>436598</th><td>1</td><td>1</td><td>1</td><td>42</td><td>0</td><td>0</td><td>0</td><td>1</td><td>1</td><td>1</td><td>⋯</td><td>0</td><td>3</td><td>30</td><td>20</td><td>0</td><td>0</td><td> 8</td><td>6</td><td>5</td><td>1</td></tr>\n",
       "\t<tr><th scope=row>436599</th><td>1</td><td>1</td><td>1</td><td>28</td><td>0</td><td>0</td><td>0</td><td>1</td><td>0</td><td>1</td><td>⋯</td><td>0</td><td>2</td><td> 0</td><td> 0</td><td>0</td><td>1</td><td>11</td><td>6</td><td>8</td><td>1</td></tr>\n",
       "\t<tr><th scope=row>436600</th><td>0</td><td>0</td><td>1</td><td>30</td><td>1</td><td>0</td><td>0</td><td>1</td><td>1</td><td>1</td><td>⋯</td><td>0</td><td>3</td><td> 0</td><td> 6</td><td>1</td><td>0</td><td> 6</td><td>5</td><td>3</td><td>1</td></tr>\n",
       "</tbody>\n",
       "</table>\n"
      ],
      "text/latex": [
       "A data.frame: 436600 × 22\n",
       "\\begin{tabular}{r|lllllllllllllllllllll}\n",
       "  & HighBP & HighChol & CholCheck & BMI & Smoker & Stroke & HeartDiseaseorAttack & PhysActivity & Fruits & Veggies & ⋯ & NoDocbcCost & GenHlth & MentHlth & PhysHlth & DiffWalk & Sex & Age & Education & Income & Diabetes\\_binary\\\\\n",
       "  & <int> & <int> & <int> & <int> & <int> & <int> & <int> & <int> & <int> & <int> & ⋯ & <int> & <int> & <int> & <int> & <int> & <int> & <int> & <int> & <int> & <int>\\\\\n",
       "\\hline\n",
       "\t1 & 1 & 1 & 1 & 40 & 1 & 0 & 0 & 0 & 0 & 1 & ⋯ & 0 & 5 & 18 & 15 & 1 & 0 &  9 & 4 & 3 & 0\\\\\n",
       "\t2 & 0 & 0 & 0 & 25 & 1 & 0 & 0 & 1 & 0 & 0 & ⋯ & 1 & 3 &  0 &  0 & 0 & 0 &  7 & 6 & 1 & 0\\\\\n",
       "\t3 & 1 & 1 & 1 & 28 & 0 & 0 & 0 & 0 & 1 & 0 & ⋯ & 1 & 5 & 30 & 30 & 1 & 0 &  9 & 4 & 8 & 0\\\\\n",
       "\t4 & 1 & 0 & 1 & 27 & 0 & 0 & 0 & 1 & 1 & 1 & ⋯ & 0 & 2 &  0 &  0 & 0 & 0 & 11 & 3 & 6 & 0\\\\\n",
       "\t5 & 1 & 1 & 1 & 24 & 0 & 0 & 0 & 1 & 1 & 1 & ⋯ & 0 & 2 &  3 &  0 & 0 & 0 & 11 & 5 & 4 & 0\\\\\n",
       "\t6 & 1 & 1 & 1 & 25 & 1 & 0 & 0 & 1 & 1 & 1 & ⋯ & 0 & 2 &  0 &  2 & 0 & 1 & 10 & 6 & 8 & 0\\\\\n",
       "\t7 & 1 & 0 & 1 & 30 & 1 & 0 & 0 & 0 & 0 & 0 & ⋯ & 0 & 3 &  0 & 14 & 0 & 0 &  9 & 6 & 7 & 0\\\\\n",
       "\t8 & 1 & 1 & 1 & 25 & 1 & 0 & 0 & 1 & 0 & 1 & ⋯ & 0 & 3 &  0 &  0 & 1 & 0 & 11 & 4 & 4 & 0\\\\\n",
       "\t9 & 0 & 0 & 1 & 24 & 0 & 0 & 0 & 0 & 0 & 1 & ⋯ & 0 & 2 &  0 &  0 & 0 & 1 &  8 & 4 & 3 & 0\\\\\n",
       "\t10 & 1 & 1 & 1 & 34 & 1 & 0 & 0 & 0 & 1 & 1 & ⋯ & 0 & 3 &  0 & 30 & 1 & 0 & 10 & 5 & 1 & 0\\\\\n",
       "\t11 & 0 & 0 & 1 & 26 & 1 & 0 & 0 & 0 & 0 & 1 & ⋯ & 0 & 3 &  0 & 15 & 0 & 0 &  7 & 5 & 7 & 0\\\\\n",
       "\t12 & 0 & 1 & 1 & 33 & 1 & 1 & 0 & 1 & 0 & 1 & ⋯ & 1 & 4 & 30 & 28 & 0 & 0 &  4 & 6 & 2 & 0\\\\\n",
       "\t13 & 1 & 0 & 1 & 33 & 0 & 0 & 0 & 1 & 0 & 0 & ⋯ & 0 & 2 &  5 &  0 & 0 & 0 &  6 & 6 & 8 & 0\\\\\n",
       "\t14 & 1 & 1 & 1 & 21 & 0 & 0 & 0 & 1 & 1 & 1 & ⋯ & 0 & 3 &  0 &  0 & 0 & 0 & 10 & 4 & 3 & 0\\\\\n",
       "\t15 & 0 & 0 & 0 & 23 & 0 & 0 & 0 & 0 & 0 & 1 & ⋯ & 0 & 2 & 15 &  0 & 0 & 0 &  2 & 6 & 7 & 0\\\\\n",
       "\t16 & 0 & 1 & 1 & 28 & 0 & 0 & 0 & 0 & 0 & 0 & ⋯ & 0 & 2 & 10 &  0 & 0 & 1 &  4 & 6 & 8 & 0\\\\\n",
       "\t17 & 1 & 1 & 1 & 22 & 0 & 1 & 1 & 0 & 1 & 0 & ⋯ & 0 & 3 & 30 &  0 & 1 & 0 & 12 & 4 & 4 & 0\\\\\n",
       "\t18 & 1 & 1 & 1 & 38 & 1 & 0 & 0 & 0 & 1 & 1 & ⋯ & 0 & 5 & 15 & 30 & 1 & 0 & 13 & 2 & 3 & 0\\\\\n",
       "\t19 & 0 & 0 & 1 & 28 & 1 & 0 & 0 & 0 & 0 & 1 & ⋯ & 0 & 3 &  0 &  7 & 0 & 1 &  5 & 5 & 5 & 0\\\\\n",
       "\t20 & 1 & 1 & 1 & 28 & 1 & 0 & 0 & 0 & 1 & 1 & ⋯ & 0 & 3 &  6 &  0 & 1 & 0 &  9 & 4 & 6 & 0\\\\\n",
       "\t21 & 0 & 0 & 1 & 32 & 0 & 0 & 0 & 1 & 1 & 1 & ⋯ & 0 & 2 &  0 &  0 & 0 & 0 &  5 & 6 & 8 & 0\\\\\n",
       "\t22 & 0 & 1 & 1 & 31 & 1 & 0 & 0 & 1 & 1 & 1 & ⋯ & 0 & 1 &  0 &  0 & 0 & 1 & 12 & 6 & 8 & 0\\\\\n",
       "\t23 & 1 & 0 & 1 & 33 & 1 & 0 & 0 & 1 & 1 & 1 & ⋯ & 0 & 1 &  0 &  0 & 1 & 1 & 13 & 3 & 3 & 0\\\\\n",
       "\t24 & 0 & 0 & 1 & 23 & 0 & 0 & 0 & 1 & 1 & 1 & ⋯ & 0 & 1 &  2 &  0 & 0 & 0 &  6 & 4 & 8 & 0\\\\\n",
       "\t25 & 1 & 0 & 1 & 31 & 0 & 0 & 0 & 1 & 0 & 0 & ⋯ & 0 & 3 &  0 &  0 & 0 & 1 & 11 & 6 & 2 & 0\\\\\n",
       "\t26 & 1 & 0 & 1 & 26 & 0 & 0 & 0 & 1 & 1 & 1 & ⋯ & 0 & 2 &  0 &  0 & 0 & 0 &  9 & 4 & 4 & 0\\\\\n",
       "\t27 & 1 & 1 & 1 & 24 & 1 & 0 & 0 & 1 & 0 & 1 & ⋯ & 0 & 3 &  5 &  3 & 1 & 1 &  8 & 4 & 3 & 0\\\\\n",
       "\t28 & 0 & 0 & 1 & 22 & 0 & 0 & 0 & 1 & 1 & 1 & ⋯ & 0 & 2 &  0 & 10 & 0 & 0 & 12 & 5 & 7 & 0\\\\\n",
       "\t29 & 0 & 0 & 1 & 26 & 1 & 0 & 0 & 1 & 1 & 1 & ⋯ & 0 & 1 &  0 &  1 & 0 & 1 &  4 & 5 & 3 & 0\\\\\n",
       "\t30 & 1 & 1 & 1 & 24 & 1 & 0 & 0 & 0 & 1 & 1 & ⋯ & 0 & 5 &  0 & 30 & 0 & 1 &  9 & 3 & 1 & 0\\\\\n",
       "\t⋮ & ⋮ & ⋮ & ⋮ & ⋮ & ⋮ & ⋮ & ⋮ & ⋮ & ⋮ & ⋮ & ⋱ & ⋮ & ⋮ & ⋮ & ⋮ & ⋮ & ⋮ & ⋮ & ⋮ & ⋮ & ⋮\\\\\n",
       "\t436571 & 1 & 1 & 1 & 29 & 0 & 0 & 0 & 1 & 0 & 0 & ⋯ & 0 & 3 &  0 &  1 & 0 & 1 & 11 & 5 & 5 & 1\\\\\n",
       "\t436572 & 1 & 0 & 1 & 25 & 1 & 0 & 0 & 0 & 0 & 1 & ⋯ & 0 & 4 &  2 &  5 & 0 & 0 &  9 & 5 & 4 & 1\\\\\n",
       "\t436573 & 1 & 1 & 1 & 49 & 1 & 0 & 0 & 1 & 1 & 1 & ⋯ & 0 & 5 & 10 &  6 & 0 & 0 &  7 & 4 & 2 & 1\\\\\n",
       "\t436574 & 0 & 1 & 1 & 37 & 1 & 0 & 0 & 1 & 0 & 0 & ⋯ & 0 & 2 &  0 &  0 & 0 & 1 &  8 & 4 & 8 & 1\\\\\n",
       "\t436575 & 0 & 1 & 1 & 34 & 1 & 0 & 1 & 0 & 1 & 1 & ⋯ & 0 & 4 &  0 &  0 & 0 & 0 & 12 & 4 & 5 & 1\\\\\n",
       "\t436576 & 0 & 1 & 1 & 34 & 0 & 0 & 0 & 0 & 1 & 0 & ⋯ & 0 & 4 &  0 &  3 & 1 & 0 & 10 & 6 & 4 & 1\\\\\n",
       "\t436577 & 1 & 1 & 1 & 33 & 0 & 0 & 0 & 1 & 1 & 1 & ⋯ & 1 & 3 &  0 &  0 & 0 & 0 &  3 & 6 & 8 & 1\\\\\n",
       "\t436578 & 1 & 1 & 1 & 45 & 1 & 0 & 1 & 0 & 0 & 1 & ⋯ & 0 & 3 &  5 & 15 & 1 & 0 & 10 & 4 & 3 & 1\\\\\n",
       "\t436579 & 1 & 1 & 1 & 30 & 0 & 0 & 0 & 0 & 1 & 1 & ⋯ & 1 & 5 & 25 & 30 & 1 & 1 &  7 & 6 & 2 & 1\\\\\n",
       "\t436580 & 1 & 0 & 1 & 29 & 0 & 0 & 0 & 1 & 1 & 1 & ⋯ & 0 & 1 &  0 &  1 & 0 & 0 & 10 & 6 & 8 & 1\\\\\n",
       "\t436581 & 1 & 1 & 1 & 30 & 0 & 0 & 0 & 1 & 1 & 0 & ⋯ & 0 & 4 & 30 &  3 & 0 & 0 &  5 & 6 & 7 & 1\\\\\n",
       "\t436582 & 1 & 1 & 1 & 27 & 0 & 1 & 1 & 1 & 0 & 0 & ⋯ & 0 & 3 &  0 &  1 & 0 & 1 & 13 & 5 & 8 & 1\\\\\n",
       "\t436583 & 1 & 1 & 1 & 33 & 1 & 0 & 0 & 0 & 0 & 1 & ⋯ & 0 & 4 &  0 & 28 & 1 & 1 & 13 & 3 & 7 & 1\\\\\n",
       "\t436584 & 1 & 0 & 1 & 28 & 0 & 0 & 0 & 1 & 1 & 1 & ⋯ & 0 & 2 &  0 &  0 & 0 & 0 & 10 & 3 & 2 & 1\\\\\n",
       "\t436585 & 1 & 1 & 1 & 27 & 0 & 0 & 0 & 0 & 1 & 1 & ⋯ & 0 & 5 &  0 & 30 & 0 & 0 & 13 & 6 & 3 & 1\\\\\n",
       "\t436586 & 0 & 1 & 1 & 35 & 0 & 0 & 0 & 0 & 0 & 1 & ⋯ & 0 & 3 &  0 &  5 & 0 & 0 &  2 & 6 & 7 & 1\\\\\n",
       "\t436587 & 1 & 1 & 1 & 26 & 0 & 0 & 1 & 1 & 0 & 1 & ⋯ & 0 & 5 &  0 &  0 & 1 & 0 & 11 & 4 & 4 & 1\\\\\n",
       "\t436588 & 0 & 0 & 1 & 27 & 1 & 0 & 0 & 1 & 1 & 1 & ⋯ & 0 & 4 &  0 &  0 & 0 & 1 &  9 & 2 & 2 & 1\\\\\n",
       "\t436589 & 1 & 0 & 1 & 38 & 0 & 0 & 0 & 1 & 1 & 1 & ⋯ & 1 & 4 &  0 &  0 & 0 & 0 &  6 & 6 & 3 & 1\\\\\n",
       "\t436590 & 1 & 1 & 1 & 36 & 0 & 0 & 0 & 0 & 1 & 1 & ⋯ & 0 & 2 &  4 & 10 & 0 & 1 &  8 & 6 & 7 & 1\\\\\n",
       "\t436591 & 1 & 0 & 1 & 26 & 1 & 0 & 0 & 0 & 0 & 0 & ⋯ & 1 & 5 &  0 & 30 & 1 & 1 &  6 & 4 & 1 & 1\\\\\n",
       "\t436592 & 1 & 1 & 1 & 28 & 0 & 0 & 0 & 1 & 0 & 0 & ⋯ & 0 & 2 &  0 &  2 & 0 & 1 & 11 & 4 & 4 & 1\\\\\n",
       "\t436593 & 1 & 1 & 1 & 30 & 1 & 0 & 0 & 1 & 1 & 1 & ⋯ & 0 & 2 &  0 &  0 & 1 & 1 & 13 & 6 & 7 & 1\\\\\n",
       "\t436594 & 0 & 1 & 1 & 26 & 0 & 0 & 0 & 1 & 1 & 1 & ⋯ & 1 & 3 &  0 &  0 & 0 & 0 &  9 & 6 & 1 & 1\\\\\n",
       "\t436595 & 1 & 1 & 1 & 42 & 1 & 0 & 1 & 0 & 0 & 0 & ⋯ & 0 & 5 & 30 & 30 & 1 & 1 & 12 & 3 & 3 & 1\\\\\n",
       "\t436596 & 0 & 1 & 1 & 35 & 1 & 0 & 0 & 1 & 1 & 1 & ⋯ & 0 & 3 &  0 &  2 & 0 & 0 &  8 & 5 & 8 & 1\\\\\n",
       "\t436597 & 0 & 0 & 1 & 20 & 0 & 0 & 0 & 1 & 1 & 1 & ⋯ & 0 & 1 &  0 &  0 & 0 & 1 & 10 & 4 & 7 & 1\\\\\n",
       "\t436598 & 1 & 1 & 1 & 42 & 0 & 0 & 0 & 1 & 1 & 1 & ⋯ & 0 & 3 & 30 & 20 & 0 & 0 &  8 & 6 & 5 & 1\\\\\n",
       "\t436599 & 1 & 1 & 1 & 28 & 0 & 0 & 0 & 1 & 0 & 1 & ⋯ & 0 & 2 &  0 &  0 & 0 & 1 & 11 & 6 & 8 & 1\\\\\n",
       "\t436600 & 0 & 0 & 1 & 30 & 1 & 0 & 0 & 1 & 1 & 1 & ⋯ & 0 & 3 &  0 &  6 & 1 & 0 &  6 & 5 & 3 & 1\\\\\n",
       "\\end{tabular}\n"
      ],
      "text/markdown": [
       "\n",
       "A data.frame: 436600 × 22\n",
       "\n",
       "| <!--/--> | HighBP &lt;int&gt; | HighChol &lt;int&gt; | CholCheck &lt;int&gt; | BMI &lt;int&gt; | Smoker &lt;int&gt; | Stroke &lt;int&gt; | HeartDiseaseorAttack &lt;int&gt; | PhysActivity &lt;int&gt; | Fruits &lt;int&gt; | Veggies &lt;int&gt; | ⋯ ⋯ | NoDocbcCost &lt;int&gt; | GenHlth &lt;int&gt; | MentHlth &lt;int&gt; | PhysHlth &lt;int&gt; | DiffWalk &lt;int&gt; | Sex &lt;int&gt; | Age &lt;int&gt; | Education &lt;int&gt; | Income &lt;int&gt; | Diabetes_binary &lt;int&gt; |\n",
       "|---|---|---|---|---|---|---|---|---|---|---|---|---|---|---|---|---|---|---|---|---|---|\n",
       "| 1 | 1 | 1 | 1 | 40 | 1 | 0 | 0 | 0 | 0 | 1 | ⋯ | 0 | 5 | 18 | 15 | 1 | 0 |  9 | 4 | 3 | 0 |\n",
       "| 2 | 0 | 0 | 0 | 25 | 1 | 0 | 0 | 1 | 0 | 0 | ⋯ | 1 | 3 |  0 |  0 | 0 | 0 |  7 | 6 | 1 | 0 |\n",
       "| 3 | 1 | 1 | 1 | 28 | 0 | 0 | 0 | 0 | 1 | 0 | ⋯ | 1 | 5 | 30 | 30 | 1 | 0 |  9 | 4 | 8 | 0 |\n",
       "| 4 | 1 | 0 | 1 | 27 | 0 | 0 | 0 | 1 | 1 | 1 | ⋯ | 0 | 2 |  0 |  0 | 0 | 0 | 11 | 3 | 6 | 0 |\n",
       "| 5 | 1 | 1 | 1 | 24 | 0 | 0 | 0 | 1 | 1 | 1 | ⋯ | 0 | 2 |  3 |  0 | 0 | 0 | 11 | 5 | 4 | 0 |\n",
       "| 6 | 1 | 1 | 1 | 25 | 1 | 0 | 0 | 1 | 1 | 1 | ⋯ | 0 | 2 |  0 |  2 | 0 | 1 | 10 | 6 | 8 | 0 |\n",
       "| 7 | 1 | 0 | 1 | 30 | 1 | 0 | 0 | 0 | 0 | 0 | ⋯ | 0 | 3 |  0 | 14 | 0 | 0 |  9 | 6 | 7 | 0 |\n",
       "| 8 | 1 | 1 | 1 | 25 | 1 | 0 | 0 | 1 | 0 | 1 | ⋯ | 0 | 3 |  0 |  0 | 1 | 0 | 11 | 4 | 4 | 0 |\n",
       "| 9 | 0 | 0 | 1 | 24 | 0 | 0 | 0 | 0 | 0 | 1 | ⋯ | 0 | 2 |  0 |  0 | 0 | 1 |  8 | 4 | 3 | 0 |\n",
       "| 10 | 1 | 1 | 1 | 34 | 1 | 0 | 0 | 0 | 1 | 1 | ⋯ | 0 | 3 |  0 | 30 | 1 | 0 | 10 | 5 | 1 | 0 |\n",
       "| 11 | 0 | 0 | 1 | 26 | 1 | 0 | 0 | 0 | 0 | 1 | ⋯ | 0 | 3 |  0 | 15 | 0 | 0 |  7 | 5 | 7 | 0 |\n",
       "| 12 | 0 | 1 | 1 | 33 | 1 | 1 | 0 | 1 | 0 | 1 | ⋯ | 1 | 4 | 30 | 28 | 0 | 0 |  4 | 6 | 2 | 0 |\n",
       "| 13 | 1 | 0 | 1 | 33 | 0 | 0 | 0 | 1 | 0 | 0 | ⋯ | 0 | 2 |  5 |  0 | 0 | 0 |  6 | 6 | 8 | 0 |\n",
       "| 14 | 1 | 1 | 1 | 21 | 0 | 0 | 0 | 1 | 1 | 1 | ⋯ | 0 | 3 |  0 |  0 | 0 | 0 | 10 | 4 | 3 | 0 |\n",
       "| 15 | 0 | 0 | 0 | 23 | 0 | 0 | 0 | 0 | 0 | 1 | ⋯ | 0 | 2 | 15 |  0 | 0 | 0 |  2 | 6 | 7 | 0 |\n",
       "| 16 | 0 | 1 | 1 | 28 | 0 | 0 | 0 | 0 | 0 | 0 | ⋯ | 0 | 2 | 10 |  0 | 0 | 1 |  4 | 6 | 8 | 0 |\n",
       "| 17 | 1 | 1 | 1 | 22 | 0 | 1 | 1 | 0 | 1 | 0 | ⋯ | 0 | 3 | 30 |  0 | 1 | 0 | 12 | 4 | 4 | 0 |\n",
       "| 18 | 1 | 1 | 1 | 38 | 1 | 0 | 0 | 0 | 1 | 1 | ⋯ | 0 | 5 | 15 | 30 | 1 | 0 | 13 | 2 | 3 | 0 |\n",
       "| 19 | 0 | 0 | 1 | 28 | 1 | 0 | 0 | 0 | 0 | 1 | ⋯ | 0 | 3 |  0 |  7 | 0 | 1 |  5 | 5 | 5 | 0 |\n",
       "| 20 | 1 | 1 | 1 | 28 | 1 | 0 | 0 | 0 | 1 | 1 | ⋯ | 0 | 3 |  6 |  0 | 1 | 0 |  9 | 4 | 6 | 0 |\n",
       "| 21 | 0 | 0 | 1 | 32 | 0 | 0 | 0 | 1 | 1 | 1 | ⋯ | 0 | 2 |  0 |  0 | 0 | 0 |  5 | 6 | 8 | 0 |\n",
       "| 22 | 0 | 1 | 1 | 31 | 1 | 0 | 0 | 1 | 1 | 1 | ⋯ | 0 | 1 |  0 |  0 | 0 | 1 | 12 | 6 | 8 | 0 |\n",
       "| 23 | 1 | 0 | 1 | 33 | 1 | 0 | 0 | 1 | 1 | 1 | ⋯ | 0 | 1 |  0 |  0 | 1 | 1 | 13 | 3 | 3 | 0 |\n",
       "| 24 | 0 | 0 | 1 | 23 | 0 | 0 | 0 | 1 | 1 | 1 | ⋯ | 0 | 1 |  2 |  0 | 0 | 0 |  6 | 4 | 8 | 0 |\n",
       "| 25 | 1 | 0 | 1 | 31 | 0 | 0 | 0 | 1 | 0 | 0 | ⋯ | 0 | 3 |  0 |  0 | 0 | 1 | 11 | 6 | 2 | 0 |\n",
       "| 26 | 1 | 0 | 1 | 26 | 0 | 0 | 0 | 1 | 1 | 1 | ⋯ | 0 | 2 |  0 |  0 | 0 | 0 |  9 | 4 | 4 | 0 |\n",
       "| 27 | 1 | 1 | 1 | 24 | 1 | 0 | 0 | 1 | 0 | 1 | ⋯ | 0 | 3 |  5 |  3 | 1 | 1 |  8 | 4 | 3 | 0 |\n",
       "| 28 | 0 | 0 | 1 | 22 | 0 | 0 | 0 | 1 | 1 | 1 | ⋯ | 0 | 2 |  0 | 10 | 0 | 0 | 12 | 5 | 7 | 0 |\n",
       "| 29 | 0 | 0 | 1 | 26 | 1 | 0 | 0 | 1 | 1 | 1 | ⋯ | 0 | 1 |  0 |  1 | 0 | 1 |  4 | 5 | 3 | 0 |\n",
       "| 30 | 1 | 1 | 1 | 24 | 1 | 0 | 0 | 0 | 1 | 1 | ⋯ | 0 | 5 |  0 | 30 | 0 | 1 |  9 | 3 | 1 | 0 |\n",
       "| ⋮ | ⋮ | ⋮ | ⋮ | ⋮ | ⋮ | ⋮ | ⋮ | ⋮ | ⋮ | ⋮ | ⋱ | ⋮ | ⋮ | ⋮ | ⋮ | ⋮ | ⋮ | ⋮ | ⋮ | ⋮ | ⋮ |\n",
       "| 436571 | 1 | 1 | 1 | 29 | 0 | 0 | 0 | 1 | 0 | 0 | ⋯ | 0 | 3 |  0 |  1 | 0 | 1 | 11 | 5 | 5 | 1 |\n",
       "| 436572 | 1 | 0 | 1 | 25 | 1 | 0 | 0 | 0 | 0 | 1 | ⋯ | 0 | 4 |  2 |  5 | 0 | 0 |  9 | 5 | 4 | 1 |\n",
       "| 436573 | 1 | 1 | 1 | 49 | 1 | 0 | 0 | 1 | 1 | 1 | ⋯ | 0 | 5 | 10 |  6 | 0 | 0 |  7 | 4 | 2 | 1 |\n",
       "| 436574 | 0 | 1 | 1 | 37 | 1 | 0 | 0 | 1 | 0 | 0 | ⋯ | 0 | 2 |  0 |  0 | 0 | 1 |  8 | 4 | 8 | 1 |\n",
       "| 436575 | 0 | 1 | 1 | 34 | 1 | 0 | 1 | 0 | 1 | 1 | ⋯ | 0 | 4 |  0 |  0 | 0 | 0 | 12 | 4 | 5 | 1 |\n",
       "| 436576 | 0 | 1 | 1 | 34 | 0 | 0 | 0 | 0 | 1 | 0 | ⋯ | 0 | 4 |  0 |  3 | 1 | 0 | 10 | 6 | 4 | 1 |\n",
       "| 436577 | 1 | 1 | 1 | 33 | 0 | 0 | 0 | 1 | 1 | 1 | ⋯ | 1 | 3 |  0 |  0 | 0 | 0 |  3 | 6 | 8 | 1 |\n",
       "| 436578 | 1 | 1 | 1 | 45 | 1 | 0 | 1 | 0 | 0 | 1 | ⋯ | 0 | 3 |  5 | 15 | 1 | 0 | 10 | 4 | 3 | 1 |\n",
       "| 436579 | 1 | 1 | 1 | 30 | 0 | 0 | 0 | 0 | 1 | 1 | ⋯ | 1 | 5 | 25 | 30 | 1 | 1 |  7 | 6 | 2 | 1 |\n",
       "| 436580 | 1 | 0 | 1 | 29 | 0 | 0 | 0 | 1 | 1 | 1 | ⋯ | 0 | 1 |  0 |  1 | 0 | 0 | 10 | 6 | 8 | 1 |\n",
       "| 436581 | 1 | 1 | 1 | 30 | 0 | 0 | 0 | 1 | 1 | 0 | ⋯ | 0 | 4 | 30 |  3 | 0 | 0 |  5 | 6 | 7 | 1 |\n",
       "| 436582 | 1 | 1 | 1 | 27 | 0 | 1 | 1 | 1 | 0 | 0 | ⋯ | 0 | 3 |  0 |  1 | 0 | 1 | 13 | 5 | 8 | 1 |\n",
       "| 436583 | 1 | 1 | 1 | 33 | 1 | 0 | 0 | 0 | 0 | 1 | ⋯ | 0 | 4 |  0 | 28 | 1 | 1 | 13 | 3 | 7 | 1 |\n",
       "| 436584 | 1 | 0 | 1 | 28 | 0 | 0 | 0 | 1 | 1 | 1 | ⋯ | 0 | 2 |  0 |  0 | 0 | 0 | 10 | 3 | 2 | 1 |\n",
       "| 436585 | 1 | 1 | 1 | 27 | 0 | 0 | 0 | 0 | 1 | 1 | ⋯ | 0 | 5 |  0 | 30 | 0 | 0 | 13 | 6 | 3 | 1 |\n",
       "| 436586 | 0 | 1 | 1 | 35 | 0 | 0 | 0 | 0 | 0 | 1 | ⋯ | 0 | 3 |  0 |  5 | 0 | 0 |  2 | 6 | 7 | 1 |\n",
       "| 436587 | 1 | 1 | 1 | 26 | 0 | 0 | 1 | 1 | 0 | 1 | ⋯ | 0 | 5 |  0 |  0 | 1 | 0 | 11 | 4 | 4 | 1 |\n",
       "| 436588 | 0 | 0 | 1 | 27 | 1 | 0 | 0 | 1 | 1 | 1 | ⋯ | 0 | 4 |  0 |  0 | 0 | 1 |  9 | 2 | 2 | 1 |\n",
       "| 436589 | 1 | 0 | 1 | 38 | 0 | 0 | 0 | 1 | 1 | 1 | ⋯ | 1 | 4 |  0 |  0 | 0 | 0 |  6 | 6 | 3 | 1 |\n",
       "| 436590 | 1 | 1 | 1 | 36 | 0 | 0 | 0 | 0 | 1 | 1 | ⋯ | 0 | 2 |  4 | 10 | 0 | 1 |  8 | 6 | 7 | 1 |\n",
       "| 436591 | 1 | 0 | 1 | 26 | 1 | 0 | 0 | 0 | 0 | 0 | ⋯ | 1 | 5 |  0 | 30 | 1 | 1 |  6 | 4 | 1 | 1 |\n",
       "| 436592 | 1 | 1 | 1 | 28 | 0 | 0 | 0 | 1 | 0 | 0 | ⋯ | 0 | 2 |  0 |  2 | 0 | 1 | 11 | 4 | 4 | 1 |\n",
       "| 436593 | 1 | 1 | 1 | 30 | 1 | 0 | 0 | 1 | 1 | 1 | ⋯ | 0 | 2 |  0 |  0 | 1 | 1 | 13 | 6 | 7 | 1 |\n",
       "| 436594 | 0 | 1 | 1 | 26 | 0 | 0 | 0 | 1 | 1 | 1 | ⋯ | 1 | 3 |  0 |  0 | 0 | 0 |  9 | 6 | 1 | 1 |\n",
       "| 436595 | 1 | 1 | 1 | 42 | 1 | 0 | 1 | 0 | 0 | 0 | ⋯ | 0 | 5 | 30 | 30 | 1 | 1 | 12 | 3 | 3 | 1 |\n",
       "| 436596 | 0 | 1 | 1 | 35 | 1 | 0 | 0 | 1 | 1 | 1 | ⋯ | 0 | 3 |  0 |  2 | 0 | 0 |  8 | 5 | 8 | 1 |\n",
       "| 436597 | 0 | 0 | 1 | 20 | 0 | 0 | 0 | 1 | 1 | 1 | ⋯ | 0 | 1 |  0 |  0 | 0 | 1 | 10 | 4 | 7 | 1 |\n",
       "| 436598 | 1 | 1 | 1 | 42 | 0 | 0 | 0 | 1 | 1 | 1 | ⋯ | 0 | 3 | 30 | 20 | 0 | 0 |  8 | 6 | 5 | 1 |\n",
       "| 436599 | 1 | 1 | 1 | 28 | 0 | 0 | 0 | 1 | 0 | 1 | ⋯ | 0 | 2 |  0 |  0 | 0 | 1 | 11 | 6 | 8 | 1 |\n",
       "| 436600 | 0 | 0 | 1 | 30 | 1 | 0 | 0 | 1 | 1 | 1 | ⋯ | 0 | 3 |  0 |  6 | 1 | 0 |  6 | 5 | 3 | 1 |\n",
       "\n"
      ],
      "text/plain": [
       "       HighBP HighChol CholCheck BMI Smoker Stroke HeartDiseaseorAttack\n",
       "1      1      1        1         40  1      0      0                   \n",
       "2      0      0        0         25  1      0      0                   \n",
       "3      1      1        1         28  0      0      0                   \n",
       "4      1      0        1         27  0      0      0                   \n",
       "5      1      1        1         24  0      0      0                   \n",
       "6      1      1        1         25  1      0      0                   \n",
       "7      1      0        1         30  1      0      0                   \n",
       "8      1      1        1         25  1      0      0                   \n",
       "9      0      0        1         24  0      0      0                   \n",
       "10     1      1        1         34  1      0      0                   \n",
       "11     0      0        1         26  1      0      0                   \n",
       "12     0      1        1         33  1      1      0                   \n",
       "13     1      0        1         33  0      0      0                   \n",
       "14     1      1        1         21  0      0      0                   \n",
       "15     0      0        0         23  0      0      0                   \n",
       "16     0      1        1         28  0      0      0                   \n",
       "17     1      1        1         22  0      1      1                   \n",
       "18     1      1        1         38  1      0      0                   \n",
       "19     0      0        1         28  1      0      0                   \n",
       "20     1      1        1         28  1      0      0                   \n",
       "21     0      0        1         32  0      0      0                   \n",
       "22     0      1        1         31  1      0      0                   \n",
       "23     1      0        1         33  1      0      0                   \n",
       "24     0      0        1         23  0      0      0                   \n",
       "25     1      0        1         31  0      0      0                   \n",
       "26     1      0        1         26  0      0      0                   \n",
       "27     1      1        1         24  1      0      0                   \n",
       "28     0      0        1         22  0      0      0                   \n",
       "29     0      0        1         26  1      0      0                   \n",
       "30     1      1        1         24  1      0      0                   \n",
       "<U+22EE>      <U+22EE> <U+22EE> <U+22EE>  <U+22EE> <U+22EE> <U+22EE> <U+22EE>            \n",
       "436571 1      1        1         29  0      0      0                   \n",
       "436572 1      0        1         25  1      0      0                   \n",
       "436573 1      1        1         49  1      0      0                   \n",
       "436574 0      1        1         37  1      0      0                   \n",
       "436575 0      1        1         34  1      0      1                   \n",
       "436576 0      1        1         34  0      0      0                   \n",
       "436577 1      1        1         33  0      0      0                   \n",
       "436578 1      1        1         45  1      0      1                   \n",
       "436579 1      1        1         30  0      0      0                   \n",
       "436580 1      0        1         29  0      0      0                   \n",
       "436581 1      1        1         30  0      0      0                   \n",
       "436582 1      1        1         27  0      1      1                   \n",
       "436583 1      1        1         33  1      0      0                   \n",
       "436584 1      0        1         28  0      0      0                   \n",
       "436585 1      1        1         27  0      0      0                   \n",
       "436586 0      1        1         35  0      0      0                   \n",
       "436587 1      1        1         26  0      0      1                   \n",
       "436588 0      0        1         27  1      0      0                   \n",
       "436589 1      0        1         38  0      0      0                   \n",
       "436590 1      1        1         36  0      0      0                   \n",
       "436591 1      0        1         26  1      0      0                   \n",
       "436592 1      1        1         28  0      0      0                   \n",
       "436593 1      1        1         30  1      0      0                   \n",
       "436594 0      1        1         26  0      0      0                   \n",
       "436595 1      1        1         42  1      0      1                   \n",
       "436596 0      1        1         35  1      0      0                   \n",
       "436597 0      0        1         20  0      0      0                   \n",
       "436598 1      1        1         42  0      0      0                   \n",
       "436599 1      1        1         28  0      0      0                   \n",
       "436600 0      0        1         30  1      0      0                   \n",
       "       PhysActivity Fruits Veggies <U+22EF>        NoDocbcCost GenHlth MentHlth\n",
       "1      0            0      1       <U+22EF> 0           5       18      \n",
       "2      1            0      0       <U+22EF> 1           3        0      \n",
       "3      0            1      0       <U+22EF> 1           5       30      \n",
       "4      1            1      1       <U+22EF> 0           2        0      \n",
       "5      1            1      1       <U+22EF> 0           2        3      \n",
       "6      1            1      1       <U+22EF> 0           2        0      \n",
       "7      0            0      0       <U+22EF> 0           3        0      \n",
       "8      1            0      1       <U+22EF> 0           3        0      \n",
       "9      0            0      1       <U+22EF> 0           2        0      \n",
       "10     0            1      1       <U+22EF> 0           3        0      \n",
       "11     0            0      1       <U+22EF> 0           3        0      \n",
       "12     1            0      1       <U+22EF> 1           4       30      \n",
       "13     1            0      0       <U+22EF> 0           2        5      \n",
       "14     1            1      1       <U+22EF> 0           3        0      \n",
       "15     0            0      1       <U+22EF> 0           2       15      \n",
       "16     0            0      0       <U+22EF> 0           2       10      \n",
       "17     0            1      0       <U+22EF> 0           3       30      \n",
       "18     0            1      1       <U+22EF> 0           5       15      \n",
       "19     0            0      1       <U+22EF> 0           3        0      \n",
       "20     0            1      1       <U+22EF> 0           3        6      \n",
       "21     1            1      1       <U+22EF> 0           2        0      \n",
       "22     1            1      1       <U+22EF> 0           1        0      \n",
       "23     1            1      1       <U+22EF> 0           1        0      \n",
       "24     1            1      1       <U+22EF> 0           1        2      \n",
       "25     1            0      0       <U+22EF> 0           3        0      \n",
       "26     1            1      1       <U+22EF> 0           2        0      \n",
       "27     1            0      1       <U+22EF> 0           3        5      \n",
       "28     1            1      1       <U+22EF> 0           2        0      \n",
       "29     1            1      1       <U+22EF> 0           1        0      \n",
       "30     0            1      1       <U+22EF> 0           5        0      \n",
       "<U+22EE>      <U+22EE>     <U+22EE> <U+22EE> <U+22F1> <U+22EE>    <U+22EE> <U+22EE>\n",
       "436571 1            0      0       <U+22EF> 0           3        0      \n",
       "436572 0            0      1       <U+22EF> 0           4        2      \n",
       "436573 1            1      1       <U+22EF> 0           5       10      \n",
       "436574 1            0      0       <U+22EF> 0           2        0      \n",
       "436575 0            1      1       <U+22EF> 0           4        0      \n",
       "436576 0            1      0       <U+22EF> 0           4        0      \n",
       "436577 1            1      1       <U+22EF> 1           3        0      \n",
       "436578 0            0      1       <U+22EF> 0           3        5      \n",
       "436579 0            1      1       <U+22EF> 1           5       25      \n",
       "436580 1            1      1       <U+22EF> 0           1        0      \n",
       "436581 1            1      0       <U+22EF> 0           4       30      \n",
       "436582 1            0      0       <U+22EF> 0           3        0      \n",
       "436583 0            0      1       <U+22EF> 0           4        0      \n",
       "436584 1            1      1       <U+22EF> 0           2        0      \n",
       "436585 0            1      1       <U+22EF> 0           5        0      \n",
       "436586 0            0      1       <U+22EF> 0           3        0      \n",
       "436587 1            0      1       <U+22EF> 0           5        0      \n",
       "436588 1            1      1       <U+22EF> 0           4        0      \n",
       "436589 1            1      1       <U+22EF> 1           4        0      \n",
       "436590 0            1      1       <U+22EF> 0           2        4      \n",
       "436591 0            0      0       <U+22EF> 1           5        0      \n",
       "436592 1            0      0       <U+22EF> 0           2        0      \n",
       "436593 1            1      1       <U+22EF> 0           2        0      \n",
       "436594 1            1      1       <U+22EF> 1           3        0      \n",
       "436595 0            0      0       <U+22EF> 0           5       30      \n",
       "436596 1            1      1       <U+22EF> 0           3        0      \n",
       "436597 1            1      1       <U+22EF> 0           1        0      \n",
       "436598 1            1      1       <U+22EF> 0           3       30      \n",
       "436599 1            0      1       <U+22EF> 0           2        0      \n",
       "436600 1            1      1       <U+22EF> 0           3        0      \n",
       "       PhysHlth DiffWalk Sex Age Education Income Diabetes_binary\n",
       "1      15       1        0    9  4         3      0              \n",
       "2       0       0        0    7  6         1      0              \n",
       "3      30       1        0    9  4         8      0              \n",
       "4       0       0        0   11  3         6      0              \n",
       "5       0       0        0   11  5         4      0              \n",
       "6       2       0        1   10  6         8      0              \n",
       "7      14       0        0    9  6         7      0              \n",
       "8       0       1        0   11  4         4      0              \n",
       "9       0       0        1    8  4         3      0              \n",
       "10     30       1        0   10  5         1      0              \n",
       "11     15       0        0    7  5         7      0              \n",
       "12     28       0        0    4  6         2      0              \n",
       "13      0       0        0    6  6         8      0              \n",
       "14      0       0        0   10  4         3      0              \n",
       "15      0       0        0    2  6         7      0              \n",
       "16      0       0        1    4  6         8      0              \n",
       "17      0       1        0   12  4         4      0              \n",
       "18     30       1        0   13  2         3      0              \n",
       "19      7       0        1    5  5         5      0              \n",
       "20      0       1        0    9  4         6      0              \n",
       "21      0       0        0    5  6         8      0              \n",
       "22      0       0        1   12  6         8      0              \n",
       "23      0       1        1   13  3         3      0              \n",
       "24      0       0        0    6  4         8      0              \n",
       "25      0       0        1   11  6         2      0              \n",
       "26      0       0        0    9  4         4      0              \n",
       "27      3       1        1    8  4         3      0              \n",
       "28     10       0        0   12  5         7      0              \n",
       "29      1       0        1    4  5         3      0              \n",
       "30     30       0        1    9  3         1      0              \n",
       "<U+22EE>      <U+22EE> <U+22EE> <U+22EE> <U+22EE> <U+22EE>  <U+22EE> <U+22EE>       \n",
       "436571  1       0        1   11  5         5      1              \n",
       "436572  5       0        0    9  5         4      1              \n",
       "436573  6       0        0    7  4         2      1              \n",
       "436574  0       0        1    8  4         8      1              \n",
       "436575  0       0        0   12  4         5      1              \n",
       "436576  3       1        0   10  6         4      1              \n",
       "436577  0       0        0    3  6         8      1              \n",
       "436578 15       1        0   10  4         3      1              \n",
       "436579 30       1        1    7  6         2      1              \n",
       "436580  1       0        0   10  6         8      1              \n",
       "436581  3       0        0    5  6         7      1              \n",
       "436582  1       0        1   13  5         8      1              \n",
       "436583 28       1        1   13  3         7      1              \n",
       "436584  0       0        0   10  3         2      1              \n",
       "436585 30       0        0   13  6         3      1              \n",
       "436586  5       0        0    2  6         7      1              \n",
       "436587  0       1        0   11  4         4      1              \n",
       "436588  0       0        1    9  2         2      1              \n",
       "436589  0       0        0    6  6         3      1              \n",
       "436590 10       0        1    8  6         7      1              \n",
       "436591 30       1        1    6  4         1      1              \n",
       "436592  2       0        1   11  4         4      1              \n",
       "436593  0       1        1   13  6         7      1              \n",
       "436594  0       0        0    9  6         1      1              \n",
       "436595 30       1        1   12  3         3      1              \n",
       "436596  2       0        0    8  5         8      1              \n",
       "436597  0       0        1   10  4         7      1              \n",
       "436598 20       0        0    8  6         5      1              \n",
       "436599  0       0        1   11  6         8      1              \n",
       "436600  6       1        0    6  5         3      1              "
      ]
     },
     "metadata": {},
     "output_type": "display_data"
    }
   ],
   "source": [
    "balanced_df"
   ]
  },
  {
   "cell_type": "code",
   "execution_count": 238,
   "id": "6b91c9c2-d726-4619-b915-ab5c4d7b57ea",
   "metadata": {},
   "outputs": [
    {
     "data": {
      "image/png": "[encoded data removed]",
      "text/plain": [
       "plot without title"
      ]
     },
     "metadata": {
      "image/png": {
       "height": 420,
       "width": 420
      }
     },
     "output_type": "display_data"
    }
   ],
   "source": [
    "plot_binary_distribution(balanced_df, \"Diabetes_binary\", \"Balanced dataset: Diabetes_binary\")"
   ]
  },
  {
   "cell_type": "code",
   "execution_count": 239,
   "id": "e8e44878-0967-430e-bbe0-049b40ad0133",
   "metadata": {},
   "outputs": [],
   "source": [
    "with_diabetes_rows = which(balanced_df$Diabetes_binary == 1)\n",
    "no_diabetes_rows = which(balanced_df$Diabetes_binary == 0)"
   ]
  },
  {
   "cell_type": "markdown",
   "id": "353b18e0-0c32-4510-8f1b-4d8fa486895f",
   "metadata": {},
   "source": [
    "### 3.3. Detect Numerical, Binary, Ordinal variables"
   ]
  },
  {
   "cell_type": "code",
   "execution_count": 240,
   "id": "5d75c19b-b6c3-4f5b-ab09-96470eddd0eb",
   "metadata": {},
   "outputs": [
    {
     "name": "stdout",
     "output_type": "stream",
     "text": [
      "'data.frame':\t436600 obs. of  22 variables:\n",
      " $ HighBP              : int  1 0 1 1 1 1 1 1 0 1 ...\n",
      " $ HighChol            : int  1 0 1 0 1 1 0 1 0 1 ...\n",
      " $ CholCheck           : int  1 0 1 1 1 1 1 1 1 1 ...\n",
      " $ BMI                 : int  40 25 28 27 24 25 30 25 24 34 ...\n",
      " $ Smoker              : int  1 1 0 0 0 1 1 1 0 1 ...\n",
      " $ Stroke              : int  0 0 0 0 0 0 0 0 0 0 ...\n",
      " $ HeartDiseaseorAttack: int  0 0 0 0 0 0 0 0 0 0 ...\n",
      " $ PhysActivity        : int  0 1 0 1 1 1 0 1 0 0 ...\n",
      " $ Fruits              : int  0 0 1 1 1 1 0 0 0 1 ...\n",
      " $ Veggies             : int  1 0 0 1 1 1 0 1 1 1 ...\n",
      " $ HvyAlcoholConsump   : int  0 0 0 0 0 0 0 0 0 0 ...\n",
      " $ AnyHealthcare       : int  1 0 1 1 1 1 1 1 1 1 ...\n",
      " $ NoDocbcCost         : int  0 1 1 0 0 0 0 0 0 0 ...\n",
      " $ GenHlth             : int  5 3 5 2 2 2 3 3 2 3 ...\n",
      " $ MentHlth            : int  18 0 30 0 3 0 0 0 0 0 ...\n",
      " $ PhysHlth            : int  15 0 30 0 0 2 14 0 0 30 ...\n",
      " $ DiffWalk            : int  1 0 1 0 0 0 0 1 0 1 ...\n",
      " $ Sex                 : int  0 0 0 0 0 1 0 0 1 0 ...\n",
      " $ Age                 : int  9 7 9 11 11 10 9 11 8 10 ...\n",
      " $ Education           : int  4 6 4 3 5 6 6 4 4 5 ...\n",
      " $ Income              : int  3 1 8 6 4 8 7 4 3 1 ...\n",
      " $ Diabetes_binary     : int  0 0 0 0 0 0 0 0 0 0 ...\n"
     ]
    }
   ],
   "source": [
    "str(balanced_df)"
   ]
  },
  {
   "cell_type": "code",
   "execution_count": 241,
   "id": "ec4a0f37-e1d2-4bf0-9ddb-bc4bd9079e25",
   "metadata": {},
   "outputs": [
    {
     "data": {
      "text/html": [
       "<table class=\"dataframe\">\n",
       "<caption>A matrix: 3 × 1 of type int</caption>\n",
       "<thead>\n",
       "\t<tr><th></th><th scope=col>Number of variable</th></tr>\n",
       "</thead>\n",
       "<tbody>\n",
       "\t<tr><th scope=row>numerical_cols</th><td> 3</td></tr>\n",
       "\t<tr><th scope=row>binary_cols</th><td>14</td></tr>\n",
       "\t<tr><th scope=row>ordinal_cols</th><td> 4</td></tr>\n",
       "</tbody>\n",
       "</table>\n"
      ],
      "text/latex": [
       "A matrix: 3 × 1 of type int\n",
       "\\begin{tabular}{r|l}\n",
       "  & Number of variable\\\\\n",
       "\\hline\n",
       "\tnumerical\\_cols &  3\\\\\n",
       "\tbinary\\_cols & 14\\\\\n",
       "\tordinal\\_cols &  4\\\\\n",
       "\\end{tabular}\n"
      ],
      "text/markdown": [
       "\n",
       "A matrix: 3 × 1 of type int\n",
       "\n",
       "| <!--/--> | Number of variable |\n",
       "|---|---|\n",
       "| numerical_cols |  3 |\n",
       "| binary_cols | 14 |\n",
       "| ordinal_cols |  4 |\n",
       "\n"
      ],
      "text/plain": [
       "               Number of variable\n",
       "numerical_cols  3                \n",
       "binary_cols    14                \n",
       "ordinal_cols    4                "
      ]
     },
     "metadata": {},
     "output_type": "display_data"
    }
   ],
   "source": [
    "numerical_cols = c(\"BMI\", \"MentHlth\", \"PhysHlth\")\n",
    "binary_cols = c(\"HighBP\", \"HighChol\", \"CholCheck\", \"Smoker\", \"Stroke\",\n",
    "               \"HeartDiseaseorAttack\", \"PhysActivity\", \"Fruits\", \"Veggies\",\n",
    "               \"HvyAlcoholConsump\", \"AnyHealthcare\", \"NoDocbcCost\",\n",
    "               \"DiffWalk\", \"Sex\")\n",
    "ordinal_cols = c(\"GenHlth\", \"Age\", \"Education\", \"Income\")\n",
    "response_col = \"Diabetes_binary\"\n",
    "\n",
    "display_matrix = matrix(c(length(numerical_cols), length(binary_cols), length(ordinal_cols)), nrow = 3)\n",
    "rownames(display_matrix) = c(\"numerical_cols\", \"binary_cols\", \"ordinal_cols\")\n",
    "colnames(display_matrix) = \"Number of variable\"\n",
    "display_matrix"
   ]
  },
  {
   "cell_type": "markdown",
   "id": "1f2dd39f-74ac-4e63-9095-dde31e61d4fd",
   "metadata": {},
   "source": [
    "### 3.4. Data factorization"
   ]
  },
  {
   "cell_type": "code",
   "execution_count": 242,
   "id": "0cc56399-4907-4a67-8fcf-f83ec1a96693",
   "metadata": {},
   "outputs": [
    {
     "name": "stdout",
     "output_type": "stream",
     "text": [
      "'data.frame':\t436600 obs. of  22 variables:\n",
      " $ HighBP              : int  1 0 1 1 1 1 1 1 0 1 ...\n",
      " $ HighChol            : int  1 0 1 0 1 1 0 1 0 1 ...\n",
      " $ CholCheck           : int  1 0 1 1 1 1 1 1 1 1 ...\n",
      " $ BMI                 : int  40 25 28 27 24 25 30 25 24 34 ...\n",
      " $ Smoker              : int  1 1 0 0 0 1 1 1 0 1 ...\n",
      " $ Stroke              : int  0 0 0 0 0 0 0 0 0 0 ...\n",
      " $ HeartDiseaseorAttack: int  0 0 0 0 0 0 0 0 0 0 ...\n",
      " $ PhysActivity        : int  0 1 0 1 1 1 0 1 0 0 ...\n",
      " $ Fruits              : int  0 0 1 1 1 1 0 0 0 1 ...\n",
      " $ Veggies             : int  1 0 0 1 1 1 0 1 1 1 ...\n",
      " $ HvyAlcoholConsump   : int  0 0 0 0 0 0 0 0 0 0 ...\n",
      " $ AnyHealthcare       : int  1 0 1 1 1 1 1 1 1 1 ...\n",
      " $ NoDocbcCost         : int  0 1 1 0 0 0 0 0 0 0 ...\n",
      " $ GenHlth             : int  5 3 5 2 2 2 3 3 2 3 ...\n",
      " $ MentHlth            : int  18 0 30 0 3 0 0 0 0 0 ...\n",
      " $ PhysHlth            : int  15 0 30 0 0 2 14 0 0 30 ...\n",
      " $ DiffWalk            : int  1 0 1 0 0 0 0 1 0 1 ...\n",
      " $ Sex                 : int  0 0 0 0 0 1 0 0 1 0 ...\n",
      " $ Age                 : int  9 7 9 11 11 10 9 11 8 10 ...\n",
      " $ Education           : int  4 6 4 3 5 6 6 4 4 5 ...\n",
      " $ Income              : int  3 1 8 6 4 8 7 4 3 1 ...\n",
      " $ Diabetes_binary     : int  0 0 0 0 0 0 0 0 0 0 ...\n"
     ]
    }
   ],
   "source": [
    "str(balanced_df)"
   ]
  },
  {
   "cell_type": "code",
   "execution_count": 243,
   "id": "962cd33a-2638-4693-b0bb-1b54ff5e33a2",
   "metadata": {},
   "outputs": [],
   "source": [
    "for (col in binary_cols)\n",
    "{\n",
    "    balanced_df[, col] = factor(balanced_df[, col])\n",
    "}\n",
    "\n",
    "for (col in ordinal_cols)\n",
    "{\n",
    "    balanced_df[, col] = factor(balanced_df[, col], ordered = T)\n",
    "}\n",
    "\n",
    "balanced_df[, response_col] = factor(balanced_df[, response_col])"
   ]
  },
  {
   "cell_type": "code",
   "execution_count": 244,
   "id": "072df9a6-22c7-4aa4-91be-ddd5c465a131",
   "metadata": {},
   "outputs": [
    {
     "name": "stdout",
     "output_type": "stream",
     "text": [
      "'data.frame':\t436600 obs. of  22 variables:\n",
      " $ HighBP              : Factor w/ 2 levels \"0\",\"1\": 2 1 2 2 2 2 2 2 1 2 ...\n",
      " $ HighChol            : Factor w/ 2 levels \"0\",\"1\": 2 1 2 1 2 2 1 2 1 2 ...\n",
      " $ CholCheck           : Factor w/ 2 levels \"0\",\"1\": 2 1 2 2 2 2 2 2 2 2 ...\n",
      " $ BMI                 : int  40 25 28 27 24 25 30 25 24 34 ...\n",
      " $ Smoker              : Factor w/ 2 levels \"0\",\"1\": 2 2 1 1 1 2 2 2 1 2 ...\n",
      " $ Stroke              : Factor w/ 2 levels \"0\",\"1\": 1 1 1 1 1 1 1 1 1 1 ...\n",
      " $ HeartDiseaseorAttack: Factor w/ 2 levels \"0\",\"1\": 1 1 1 1 1 1 1 1 1 1 ...\n",
      " $ PhysActivity        : Factor w/ 2 levels \"0\",\"1\": 1 2 1 2 2 2 1 2 1 1 ...\n",
      " $ Fruits              : Factor w/ 2 levels \"0\",\"1\": 1 1 2 2 2 2 1 1 1 2 ...\n",
      " $ Veggies             : Factor w/ 2 levels \"0\",\"1\": 2 1 1 2 2 2 1 2 2 2 ...\n",
      " $ HvyAlcoholConsump   : Factor w/ 2 levels \"0\",\"1\": 1 1 1 1 1 1 1 1 1 1 ...\n",
      " $ AnyHealthcare       : Factor w/ 2 levels \"0\",\"1\": 2 1 2 2 2 2 2 2 2 2 ...\n",
      " $ NoDocbcCost         : Factor w/ 2 levels \"0\",\"1\": 1 2 2 1 1 1 1 1 1 1 ...\n",
      " $ GenHlth             : Ord.factor w/ 5 levels \"1\"<\"2\"<\"3\"<\"4\"<..: 5 3 5 2 2 2 3 3 2 3 ...\n",
      " $ MentHlth            : int  18 0 30 0 3 0 0 0 0 0 ...\n",
      " $ PhysHlth            : int  15 0 30 0 0 2 14 0 0 30 ...\n",
      " $ DiffWalk            : Factor w/ 2 levels \"0\",\"1\": 2 1 2 1 1 1 1 2 1 2 ...\n",
      " $ Sex                 : Factor w/ 2 levels \"0\",\"1\": 1 1 1 1 1 2 1 1 2 1 ...\n",
      " $ Age                 : Ord.factor w/ 13 levels \"1\"<\"2\"<\"3\"<\"4\"<..: 9 7 9 11 11 10 9 11 8 10 ...\n",
      " $ Education           : Ord.factor w/ 6 levels \"1\"<\"2\"<\"3\"<\"4\"<..: 4 6 4 3 5 6 6 4 4 5 ...\n",
      " $ Income              : Ord.factor w/ 8 levels \"1\"<\"2\"<\"3\"<\"4\"<..: 3 1 8 6 4 8 7 4 3 1 ...\n",
      " $ Diabetes_binary     : Factor w/ 2 levels \"0\",\"1\": 1 1 1 1 1 1 1 1 1 1 ...\n"
     ]
    }
   ],
   "source": [
    "str(balanced_df)"
   ]
  },
  {
   "cell_type": "markdown",
   "id": "3b3409ae-9e8f-4461-bf83-411c9f5b9e49",
   "metadata": {},
   "source": [
    "### 3.4. Numerical variables analysis"
   ]
  },
  {
   "cell_type": "code",
   "execution_count": 245,
   "id": "a9bf30f3-da91-41b4-973f-77a9f31637fc",
   "metadata": {},
   "outputs": [],
   "source": [
    "# Numerical variables (3): BMI, MentHlth, PhysHlth"
   ]
  },
  {
   "cell_type": "code",
   "execution_count": 246,
   "id": "8a586867-74c9-4f5e-a7fb-613405c243d3",
   "metadata": {},
   "outputs": [
    {
     "data": {
      "text/plain": [
       "\n",
       " Descriptive statistics by group \n",
       "group: 0\n",
       "         vars      n  mean   sd median trimmed  mad min max range skew kurtosis\n",
       "BMI         1 218334 27.81 6.29     27   27.15 4.45  12  98    86 2.33    13.62\n",
       "MentHlth    2 218334  2.98 7.11      0    0.94 0.00   0  30    30 2.86     7.37\n",
       "PhysHlth    3 218334  3.64 8.06      0    1.30 0.00   0  30    30 2.50     5.00\n",
       "           se\n",
       "BMI      0.01\n",
       "MentHlth 0.02\n",
       "PhysHlth 0.02\n",
       "------------------------------------------------------------ \n",
       "group: 1\n",
       "         vars      n  mean    sd median trimmed  mad min max range skew\n",
       "BMI         1 218266 31.94  7.36     31   31.23 5.93  13  98    85 1.54\n",
       "MentHlth    2 218266  4.45  8.93      0    2.01 0.00   0  30    30 2.07\n",
       "PhysHlth    3 218266  7.94 11.29      1    6.17 1.48   0  30    30 1.15\n",
       "         kurtosis   se\n",
       "BMI          5.86 0.02\n",
       "MentHlth     2.90 0.02\n",
       "PhysHlth    -0.33 0.02"
      ]
     },
     "metadata": {},
     "output_type": "display_data"
    }
   ],
   "source": [
    "psych::describeBy(balanced_df[,numerical_cols], balanced_df[,response_col])"
   ]
  },
  {
   "cell_type": "code",
   "execution_count": 247,
   "id": "53a66399-9adf-490f-8e26-b99a5aac630f",
   "metadata": {},
   "outputs": [
    {
     "data": {
      "image/png": "[encoded data removed]",
      "text/plain": [
       "Plot with title \"PhysHlth\""
      ]
     },
     "metadata": {
      "image/png": {
       "height": 420,
       "width": 420
      }
     },
     "output_type": "display_data"
    }
   ],
   "source": [
    "par(mfrow = c(1,3))\n",
    "boxplot(balanced_df$BMI, main = \"BMI\", col = MAIN_COLOR, las = 1, lwd = 2)\n",
    "boxplot(balanced_df$MentHlth, main = \"MentHlth\", col = MAIN_COLOR, las = 1, lwd = 2)\n",
    "boxplot(balanced_df$PhysHlth, main = \"PhysHlth\", col = MAIN_COLOR, las = 1, lwd = 2)"
   ]
  },
  {
   "cell_type": "code",
   "execution_count": 248,
   "id": "e6952c34-254f-4657-b196-385a338766d4",
   "metadata": {},
   "outputs": [
    {
     "data": {
      "image/png": "[encoded data removed]",
      "text/plain": [
       "Plot with title \"PhysHlth\""
      ]
     },
     "metadata": {
      "image/png": {
       "height": 420,
       "width": 420
      }
     },
     "output_type": "display_data"
    }
   ],
   "source": [
    "par(mfrow = c(3,1))\n",
    "hist(balanced_df$BMI, main = \"BMI\", xlab = \"BMI score\", col = MAIN_COLOR, las = 1, lwd = 2, xlim = c(0, 100))\n",
    "hist(balanced_df$MentHlth, main = \"MentHlth\", xlab = \"Number of day with Mental Health problem in last 30 days\",\n",
    "    col = MAIN_COLOR, las = 1, lwd = 2)\n",
    "hist(balanced_df$PhysHlth, main = \"PhysHlth\", xlab = \"Number of day with Physical Health problem in last 30 days\",\n",
    "    col = MAIN_COLOR, las = 1, lwd = 2)"
   ]
  },
  {
   "cell_type": "markdown",
   "id": "3b9c3b1c-a363-40ca-bd8f-e8b469509ae0",
   "metadata": {},
   "source": [
    "#### 3.4.1. BMI"
   ]
  },
  {
   "cell_type": "code",
   "execution_count": 249,
   "id": "bc02db4a-5696-40a4-9229-4c057dcc43c3",
   "metadata": {},
   "outputs": [
    {
     "data": {
      "image/png": "[encoded data removed]",
      "text/plain": [
       "Plot with title \"BMI\""
      ]
     },
     "metadata": {
      "image/png": {
       "height": 420,
       "width": 420
      }
     },
     "output_type": "display_data"
    },
    {
     "data": {
      "image/png": "[encoded data removed]",
      "text/plain": [
       "Plot with title \"BMI\""
      ]
     },
     "metadata": {
      "image/png": {
       "height": 420,
       "width": 420
      }
     },
     "output_type": "display_data"
    }
   ],
   "source": [
    "boxplot(balanced_df$BMI, main = \"BMI\", col = MAIN_COLOR, las = 1, lwd = 2)\n",
    "hist(balanced_df$BMI, main = \"BMI\", xlab = \"BMI score\", col = MAIN_COLOR, las = 1, lwd = 2, xlim = c(0, 100))"
   ]
  },
  {
   "cell_type": "code",
   "execution_count": 250,
   "id": "23b25b65-538c-4b2d-b910-df8d5693dd83",
   "metadata": {},
   "outputs": [
    {
     "name": "stdout",
     "output_type": "stream",
     "text": [
      "Maximum value of boxplot BMI: 45"
     ]
    }
   ],
   "source": [
    "BMI_q1 = quantile(balanced_df$BMI, probs = 0.25, names = F)\n",
    "BMI_q3 = quantile(balanced_df$BMI, probs = 0.75, names = F)\n",
    "BMI_upper_quartile = BMI_q3 + 1.5 * (BMI_q3 - BMI_q1)\n",
    "cat(\"Maximum value of boxplot BMI:\", BMI_upper_quartile)"
   ]
  },
  {
   "cell_type": "markdown",
   "id": "54c73519-3465-437d-a2ab-8f4aa571284e",
   "metadata": {},
   "source": [
    "#### Question: The percentage of diabetes people having BMI under 45 and over 45."
   ]
  },
  {
   "cell_type": "code",
   "execution_count": 251,
   "id": "3ba71cfe-e4cc-423e-9d61-d75302362407",
   "metadata": {},
   "outputs": [],
   "source": [
    "BMI_THRESH_HOLD = 45"
   ]
  },
  {
   "cell_type": "code",
   "execution_count": 252,
   "id": "c2b8dd28-c35b-4362-bd82-a495b4859b49",
   "metadata": {},
   "outputs": [
    {
     "data": {
      "text/plain": [
       "          \n",
       "           no diabetes diabetes\n",
       "  BMI < 45      215209   207846\n",
       "  BMI > 45        3125    10420"
      ]
     },
     "metadata": {},
     "output_type": "display_data"
    }
   ],
   "source": [
    "BMI_table = table(ifelse(balanced_df$BMI > BMI_THRESH_HOLD, sprintf(\"BMI > %d\", BMI_THRESH_HOLD), sprintf(\"BMI < %d\", BMI_THRESH_HOLD)),\n",
    "      ifelse(balanced_df$Diabetes_binary == 1, \"diabetes\", \"no diabetes\"))\n",
    "BMI_table = BMI_table[, c(2, 1)]\n",
    "BMI_table"
   ]
  },
  {
   "cell_type": "code",
   "execution_count": 253,
   "id": "cdfc75ec-3b94-4e5d-b80f-7a17a24390bd",
   "metadata": {},
   "outputs": [
    {
     "data": {
      "image/png": "[encoded data removed]",
      "text/plain": [
       "plot without title"
      ]
     },
     "metadata": {
      "image/png": {
       "height": 420,
       "width": 420
      }
     },
     "output_type": "display_data"
    }
   ],
   "source": [
    "plot_stack_bar_2x2(BMI_table)"
   ]
  },
  {
   "cell_type": "code",
   "execution_count": 254,
   "id": "dec33769-0ee1-4c8d-a35f-73ebf5c693a2",
   "metadata": {},
   "outputs": [
    {
     "data": {
      "text/html": [
       "<style>\n",
       ".dl-inline {width: auto; margin:0; padding: 0}\n",
       ".dl-inline>dt, .dl-inline>dd {float: none; width: auto; display: inline-block}\n",
       ".dl-inline>dt::after {content: \":\\0020\"; padding-right: .5ex}\n",
       ".dl-inline>dt:not(:first-of-type) {padding-left: .5ex}\n",
       "</style><dl class=dl-inline><dt>odds ratio</dt><dd>3.45252200956477</dd><dt>lwr.ci</dt><dd>3.3157338998958</dd><dt>upr.ci</dt><dd>3.59495320987722</dd></dl>\n"
      ],
      "text/latex": [
       "\\begin{description*}\n",
       "\\item[odds ratio] 3.45252200956477\n",
       "\\item[lwr.ci] 3.3157338998958\n",
       "\\item[upr.ci] 3.59495320987722\n",
       "\\end{description*}\n"
      ],
      "text/markdown": [
       "odds ratio\n",
       ":   3.45252200956477lwr.ci\n",
       ":   3.3157338998958upr.ci\n",
       ":   3.59495320987722\n",
       "\n"
      ],
      "text/plain": [
       "odds ratio     lwr.ci     upr.ci \n",
       "  3.452522   3.315734   3.594953 "
      ]
     },
     "metadata": {},
     "output_type": "display_data"
    }
   ],
   "source": [
    "DescTools::OddsRatio(BMI_table, conf.level = 0.95)"
   ]
  },
  {
   "cell_type": "code",
   "execution_count": 255,
   "id": "a7f6aa01-41f8-4cd0-a31d-d80636e03021",
   "metadata": {},
   "outputs": [],
   "source": [
    "# COMMENT\n",
    "# odds ratio = 3.452 > 1\n",
    "# People with BMI over 45 are 3.452 times more likely to have diabetes than others.\n",
    "# => Create a binary variable that to distinguish people having BMI over 45."
   ]
  },
  {
   "cell_type": "code",
   "execution_count": 256,
   "id": "5906c9dc-0cbd-4503-b5a1-e2c161d8704a",
   "metadata": {},
   "outputs": [],
   "source": [
    "if (!\"BMI_over_45\" %in% binary_cols)\n",
    "{\n",
    "    binary_cols = append(binary_cols, \"BMI_over_45\")\n",
    "}"
   ]
  },
  {
   "cell_type": "code",
   "execution_count": 257,
   "id": "62297cda-e3d1-40e0-a6b8-af7b449c46ff",
   "metadata": {},
   "outputs": [],
   "source": [
    "new_column = as.integer(ifelse(balanced_df$BMI > BMI_THRESH_HOLD, 1, 0))\n",
    "BMI_index = which(colnames(balanced_df) == \"BMI\")\n",
    "balanced_df = cbind(balanced_df[,1:BMI_index], BMI_over_45 = new_column, balanced_df[,(BMI_index+1):ncol(balanced_df)])"
   ]
  },
  {
   "cell_type": "code",
   "execution_count": 258,
   "id": "b35b11c0-3b15-4849-a5ec-b7a0b7950b53",
   "metadata": {},
   "outputs": [
    {
     "data": {
      "text/html": [
       "<table class=\"dataframe\">\n",
       "<caption>A data.frame: 436600 × 23</caption>\n",
       "<thead>\n",
       "\t<tr><th></th><th scope=col>HighBP</th><th scope=col>HighChol</th><th scope=col>CholCheck</th><th scope=col>BMI</th><th scope=col>BMI_over_45</th><th scope=col>Smoker</th><th scope=col>Stroke</th><th scope=col>HeartDiseaseorAttack</th><th scope=col>PhysActivity</th><th scope=col>Fruits</th><th scope=col>⋯</th><th scope=col>NoDocbcCost</th><th scope=col>GenHlth</th><th scope=col>MentHlth</th><th scope=col>PhysHlth</th><th scope=col>DiffWalk</th><th scope=col>Sex</th><th scope=col>Age</th><th scope=col>Education</th><th scope=col>Income</th><th scope=col>Diabetes_binary</th></tr>\n",
       "\t<tr><th></th><th scope=col>&lt;fct&gt;</th><th scope=col>&lt;fct&gt;</th><th scope=col>&lt;fct&gt;</th><th scope=col>&lt;int&gt;</th><th scope=col>&lt;int&gt;</th><th scope=col>&lt;fct&gt;</th><th scope=col>&lt;fct&gt;</th><th scope=col>&lt;fct&gt;</th><th scope=col>&lt;fct&gt;</th><th scope=col>&lt;fct&gt;</th><th scope=col>⋯</th><th scope=col>&lt;fct&gt;</th><th scope=col>&lt;ord&gt;</th><th scope=col>&lt;int&gt;</th><th scope=col>&lt;int&gt;</th><th scope=col>&lt;fct&gt;</th><th scope=col>&lt;fct&gt;</th><th scope=col>&lt;ord&gt;</th><th scope=col>&lt;ord&gt;</th><th scope=col>&lt;ord&gt;</th><th scope=col>&lt;fct&gt;</th></tr>\n",
       "</thead>\n",
       "<tbody>\n",
       "\t<tr><th scope=row>1</th><td>1</td><td>1</td><td>1</td><td>40</td><td>0</td><td>1</td><td>0</td><td>0</td><td>0</td><td>0</td><td>⋯</td><td>0</td><td>5</td><td>18</td><td>15</td><td>1</td><td>0</td><td>9 </td><td>4</td><td>3</td><td>0</td></tr>\n",
       "\t<tr><th scope=row>2</th><td>0</td><td>0</td><td>0</td><td>25</td><td>0</td><td>1</td><td>0</td><td>0</td><td>1</td><td>0</td><td>⋯</td><td>1</td><td>3</td><td> 0</td><td> 0</td><td>0</td><td>0</td><td>7 </td><td>6</td><td>1</td><td>0</td></tr>\n",
       "\t<tr><th scope=row>3</th><td>1</td><td>1</td><td>1</td><td>28</td><td>0</td><td>0</td><td>0</td><td>0</td><td>0</td><td>1</td><td>⋯</td><td>1</td><td>5</td><td>30</td><td>30</td><td>1</td><td>0</td><td>9 </td><td>4</td><td>8</td><td>0</td></tr>\n",
       "\t<tr><th scope=row>4</th><td>1</td><td>0</td><td>1</td><td>27</td><td>0</td><td>0</td><td>0</td><td>0</td><td>1</td><td>1</td><td>⋯</td><td>0</td><td>2</td><td> 0</td><td> 0</td><td>0</td><td>0</td><td>11</td><td>3</td><td>6</td><td>0</td></tr>\n",
       "\t<tr><th scope=row>5</th><td>1</td><td>1</td><td>1</td><td>24</td><td>0</td><td>0</td><td>0</td><td>0</td><td>1</td><td>1</td><td>⋯</td><td>0</td><td>2</td><td> 3</td><td> 0</td><td>0</td><td>0</td><td>11</td><td>5</td><td>4</td><td>0</td></tr>\n",
       "\t<tr><th scope=row>6</th><td>1</td><td>1</td><td>1</td><td>25</td><td>0</td><td>1</td><td>0</td><td>0</td><td>1</td><td>1</td><td>⋯</td><td>0</td><td>2</td><td> 0</td><td> 2</td><td>0</td><td>1</td><td>10</td><td>6</td><td>8</td><td>0</td></tr>\n",
       "\t<tr><th scope=row>7</th><td>1</td><td>0</td><td>1</td><td>30</td><td>0</td><td>1</td><td>0</td><td>0</td><td>0</td><td>0</td><td>⋯</td><td>0</td><td>3</td><td> 0</td><td>14</td><td>0</td><td>0</td><td>9 </td><td>6</td><td>7</td><td>0</td></tr>\n",
       "\t<tr><th scope=row>8</th><td>1</td><td>1</td><td>1</td><td>25</td><td>0</td><td>1</td><td>0</td><td>0</td><td>1</td><td>0</td><td>⋯</td><td>0</td><td>3</td><td> 0</td><td> 0</td><td>1</td><td>0</td><td>11</td><td>4</td><td>4</td><td>0</td></tr>\n",
       "\t<tr><th scope=row>9</th><td>0</td><td>0</td><td>1</td><td>24</td><td>0</td><td>0</td><td>0</td><td>0</td><td>0</td><td>0</td><td>⋯</td><td>0</td><td>2</td><td> 0</td><td> 0</td><td>0</td><td>1</td><td>8 </td><td>4</td><td>3</td><td>0</td></tr>\n",
       "\t<tr><th scope=row>10</th><td>1</td><td>1</td><td>1</td><td>34</td><td>0</td><td>1</td><td>0</td><td>0</td><td>0</td><td>1</td><td>⋯</td><td>0</td><td>3</td><td> 0</td><td>30</td><td>1</td><td>0</td><td>10</td><td>5</td><td>1</td><td>0</td></tr>\n",
       "\t<tr><th scope=row>11</th><td>0</td><td>0</td><td>1</td><td>26</td><td>0</td><td>1</td><td>0</td><td>0</td><td>0</td><td>0</td><td>⋯</td><td>0</td><td>3</td><td> 0</td><td>15</td><td>0</td><td>0</td><td>7 </td><td>5</td><td>7</td><td>0</td></tr>\n",
       "\t<tr><th scope=row>12</th><td>0</td><td>1</td><td>1</td><td>33</td><td>0</td><td>1</td><td>1</td><td>0</td><td>1</td><td>0</td><td>⋯</td><td>1</td><td>4</td><td>30</td><td>28</td><td>0</td><td>0</td><td>4 </td><td>6</td><td>2</td><td>0</td></tr>\n",
       "\t<tr><th scope=row>13</th><td>1</td><td>0</td><td>1</td><td>33</td><td>0</td><td>0</td><td>0</td><td>0</td><td>1</td><td>0</td><td>⋯</td><td>0</td><td>2</td><td> 5</td><td> 0</td><td>0</td><td>0</td><td>6 </td><td>6</td><td>8</td><td>0</td></tr>\n",
       "\t<tr><th scope=row>14</th><td>1</td><td>1</td><td>1</td><td>21</td><td>0</td><td>0</td><td>0</td><td>0</td><td>1</td><td>1</td><td>⋯</td><td>0</td><td>3</td><td> 0</td><td> 0</td><td>0</td><td>0</td><td>10</td><td>4</td><td>3</td><td>0</td></tr>\n",
       "\t<tr><th scope=row>15</th><td>0</td><td>0</td><td>0</td><td>23</td><td>0</td><td>0</td><td>0</td><td>0</td><td>0</td><td>0</td><td>⋯</td><td>0</td><td>2</td><td>15</td><td> 0</td><td>0</td><td>0</td><td>2 </td><td>6</td><td>7</td><td>0</td></tr>\n",
       "\t<tr><th scope=row>16</th><td>0</td><td>1</td><td>1</td><td>28</td><td>0</td><td>0</td><td>0</td><td>0</td><td>0</td><td>0</td><td>⋯</td><td>0</td><td>2</td><td>10</td><td> 0</td><td>0</td><td>1</td><td>4 </td><td>6</td><td>8</td><td>0</td></tr>\n",
       "\t<tr><th scope=row>17</th><td>1</td><td>1</td><td>1</td><td>22</td><td>0</td><td>0</td><td>1</td><td>1</td><td>0</td><td>1</td><td>⋯</td><td>0</td><td>3</td><td>30</td><td> 0</td><td>1</td><td>0</td><td>12</td><td>4</td><td>4</td><td>0</td></tr>\n",
       "\t<tr><th scope=row>18</th><td>1</td><td>1</td><td>1</td><td>38</td><td>0</td><td>1</td><td>0</td><td>0</td><td>0</td><td>1</td><td>⋯</td><td>0</td><td>5</td><td>15</td><td>30</td><td>1</td><td>0</td><td>13</td><td>2</td><td>3</td><td>0</td></tr>\n",
       "\t<tr><th scope=row>19</th><td>0</td><td>0</td><td>1</td><td>28</td><td>0</td><td>1</td><td>0</td><td>0</td><td>0</td><td>0</td><td>⋯</td><td>0</td><td>3</td><td> 0</td><td> 7</td><td>0</td><td>1</td><td>5 </td><td>5</td><td>5</td><td>0</td></tr>\n",
       "\t<tr><th scope=row>20</th><td>1</td><td>1</td><td>1</td><td>28</td><td>0</td><td>1</td><td>0</td><td>0</td><td>0</td><td>1</td><td>⋯</td><td>0</td><td>3</td><td> 6</td><td> 0</td><td>1</td><td>0</td><td>9 </td><td>4</td><td>6</td><td>0</td></tr>\n",
       "\t<tr><th scope=row>21</th><td>0</td><td>0</td><td>1</td><td>32</td><td>0</td><td>0</td><td>0</td><td>0</td><td>1</td><td>1</td><td>⋯</td><td>0</td><td>2</td><td> 0</td><td> 0</td><td>0</td><td>0</td><td>5 </td><td>6</td><td>8</td><td>0</td></tr>\n",
       "\t<tr><th scope=row>22</th><td>0</td><td>1</td><td>1</td><td>31</td><td>0</td><td>1</td><td>0</td><td>0</td><td>1</td><td>1</td><td>⋯</td><td>0</td><td>1</td><td> 0</td><td> 0</td><td>0</td><td>1</td><td>12</td><td>6</td><td>8</td><td>0</td></tr>\n",
       "\t<tr><th scope=row>23</th><td>1</td><td>0</td><td>1</td><td>33</td><td>0</td><td>1</td><td>0</td><td>0</td><td>1</td><td>1</td><td>⋯</td><td>0</td><td>1</td><td> 0</td><td> 0</td><td>1</td><td>1</td><td>13</td><td>3</td><td>3</td><td>0</td></tr>\n",
       "\t<tr><th scope=row>24</th><td>0</td><td>0</td><td>1</td><td>23</td><td>0</td><td>0</td><td>0</td><td>0</td><td>1</td><td>1</td><td>⋯</td><td>0</td><td>1</td><td> 2</td><td> 0</td><td>0</td><td>0</td><td>6 </td><td>4</td><td>8</td><td>0</td></tr>\n",
       "\t<tr><th scope=row>25</th><td>1</td><td>0</td><td>1</td><td>31</td><td>0</td><td>0</td><td>0</td><td>0</td><td>1</td><td>0</td><td>⋯</td><td>0</td><td>3</td><td> 0</td><td> 0</td><td>0</td><td>1</td><td>11</td><td>6</td><td>2</td><td>0</td></tr>\n",
       "\t<tr><th scope=row>26</th><td>1</td><td>0</td><td>1</td><td>26</td><td>0</td><td>0</td><td>0</td><td>0</td><td>1</td><td>1</td><td>⋯</td><td>0</td><td>2</td><td> 0</td><td> 0</td><td>0</td><td>0</td><td>9 </td><td>4</td><td>4</td><td>0</td></tr>\n",
       "\t<tr><th scope=row>27</th><td>1</td><td>1</td><td>1</td><td>24</td><td>0</td><td>1</td><td>0</td><td>0</td><td>1</td><td>0</td><td>⋯</td><td>0</td><td>3</td><td> 5</td><td> 3</td><td>1</td><td>1</td><td>8 </td><td>4</td><td>3</td><td>0</td></tr>\n",
       "\t<tr><th scope=row>28</th><td>0</td><td>0</td><td>1</td><td>22</td><td>0</td><td>0</td><td>0</td><td>0</td><td>1</td><td>1</td><td>⋯</td><td>0</td><td>2</td><td> 0</td><td>10</td><td>0</td><td>0</td><td>12</td><td>5</td><td>7</td><td>0</td></tr>\n",
       "\t<tr><th scope=row>29</th><td>0</td><td>0</td><td>1</td><td>26</td><td>0</td><td>1</td><td>0</td><td>0</td><td>1</td><td>1</td><td>⋯</td><td>0</td><td>1</td><td> 0</td><td> 1</td><td>0</td><td>1</td><td>4 </td><td>5</td><td>3</td><td>0</td></tr>\n",
       "\t<tr><th scope=row>30</th><td>1</td><td>1</td><td>1</td><td>24</td><td>0</td><td>1</td><td>0</td><td>0</td><td>0</td><td>1</td><td>⋯</td><td>0</td><td>5</td><td> 0</td><td>30</td><td>0</td><td>1</td><td>9 </td><td>3</td><td>1</td><td>0</td></tr>\n",
       "\t<tr><th scope=row>⋮</th><td>⋮</td><td>⋮</td><td>⋮</td><td>⋮</td><td>⋮</td><td>⋮</td><td>⋮</td><td>⋮</td><td>⋮</td><td>⋮</td><td>⋱</td><td>⋮</td><td>⋮</td><td>⋮</td><td>⋮</td><td>⋮</td><td>⋮</td><td>⋮</td><td>⋮</td><td>⋮</td><td>⋮</td></tr>\n",
       "\t<tr><th scope=row>436571</th><td>1</td><td>1</td><td>1</td><td>29</td><td>0</td><td>0</td><td>0</td><td>0</td><td>1</td><td>0</td><td>⋯</td><td>0</td><td>3</td><td> 0</td><td> 1</td><td>0</td><td>1</td><td>11</td><td>5</td><td>5</td><td>1</td></tr>\n",
       "\t<tr><th scope=row>436572</th><td>1</td><td>0</td><td>1</td><td>25</td><td>0</td><td>1</td><td>0</td><td>0</td><td>0</td><td>0</td><td>⋯</td><td>0</td><td>4</td><td> 2</td><td> 5</td><td>0</td><td>0</td><td>9 </td><td>5</td><td>4</td><td>1</td></tr>\n",
       "\t<tr><th scope=row>436573</th><td>1</td><td>1</td><td>1</td><td>49</td><td>1</td><td>1</td><td>0</td><td>0</td><td>1</td><td>1</td><td>⋯</td><td>0</td><td>5</td><td>10</td><td> 6</td><td>0</td><td>0</td><td>7 </td><td>4</td><td>2</td><td>1</td></tr>\n",
       "\t<tr><th scope=row>436574</th><td>0</td><td>1</td><td>1</td><td>37</td><td>0</td><td>1</td><td>0</td><td>0</td><td>1</td><td>0</td><td>⋯</td><td>0</td><td>2</td><td> 0</td><td> 0</td><td>0</td><td>1</td><td>8 </td><td>4</td><td>8</td><td>1</td></tr>\n",
       "\t<tr><th scope=row>436575</th><td>0</td><td>1</td><td>1</td><td>34</td><td>0</td><td>1</td><td>0</td><td>1</td><td>0</td><td>1</td><td>⋯</td><td>0</td><td>4</td><td> 0</td><td> 0</td><td>0</td><td>0</td><td>12</td><td>4</td><td>5</td><td>1</td></tr>\n",
       "\t<tr><th scope=row>436576</th><td>0</td><td>1</td><td>1</td><td>34</td><td>0</td><td>0</td><td>0</td><td>0</td><td>0</td><td>1</td><td>⋯</td><td>0</td><td>4</td><td> 0</td><td> 3</td><td>1</td><td>0</td><td>10</td><td>6</td><td>4</td><td>1</td></tr>\n",
       "\t<tr><th scope=row>436577</th><td>1</td><td>1</td><td>1</td><td>33</td><td>0</td><td>0</td><td>0</td><td>0</td><td>1</td><td>1</td><td>⋯</td><td>1</td><td>3</td><td> 0</td><td> 0</td><td>0</td><td>0</td><td>3 </td><td>6</td><td>8</td><td>1</td></tr>\n",
       "\t<tr><th scope=row>436578</th><td>1</td><td>1</td><td>1</td><td>45</td><td>0</td><td>1</td><td>0</td><td>1</td><td>0</td><td>0</td><td>⋯</td><td>0</td><td>3</td><td> 5</td><td>15</td><td>1</td><td>0</td><td>10</td><td>4</td><td>3</td><td>1</td></tr>\n",
       "\t<tr><th scope=row>436579</th><td>1</td><td>1</td><td>1</td><td>30</td><td>0</td><td>0</td><td>0</td><td>0</td><td>0</td><td>1</td><td>⋯</td><td>1</td><td>5</td><td>25</td><td>30</td><td>1</td><td>1</td><td>7 </td><td>6</td><td>2</td><td>1</td></tr>\n",
       "\t<tr><th scope=row>436580</th><td>1</td><td>0</td><td>1</td><td>29</td><td>0</td><td>0</td><td>0</td><td>0</td><td>1</td><td>1</td><td>⋯</td><td>0</td><td>1</td><td> 0</td><td> 1</td><td>0</td><td>0</td><td>10</td><td>6</td><td>8</td><td>1</td></tr>\n",
       "\t<tr><th scope=row>436581</th><td>1</td><td>1</td><td>1</td><td>30</td><td>0</td><td>0</td><td>0</td><td>0</td><td>1</td><td>1</td><td>⋯</td><td>0</td><td>4</td><td>30</td><td> 3</td><td>0</td><td>0</td><td>5 </td><td>6</td><td>7</td><td>1</td></tr>\n",
       "\t<tr><th scope=row>436582</th><td>1</td><td>1</td><td>1</td><td>27</td><td>0</td><td>0</td><td>1</td><td>1</td><td>1</td><td>0</td><td>⋯</td><td>0</td><td>3</td><td> 0</td><td> 1</td><td>0</td><td>1</td><td>13</td><td>5</td><td>8</td><td>1</td></tr>\n",
       "\t<tr><th scope=row>436583</th><td>1</td><td>1</td><td>1</td><td>33</td><td>0</td><td>1</td><td>0</td><td>0</td><td>0</td><td>0</td><td>⋯</td><td>0</td><td>4</td><td> 0</td><td>28</td><td>1</td><td>1</td><td>13</td><td>3</td><td>7</td><td>1</td></tr>\n",
       "\t<tr><th scope=row>436584</th><td>1</td><td>0</td><td>1</td><td>28</td><td>0</td><td>0</td><td>0</td><td>0</td><td>1</td><td>1</td><td>⋯</td><td>0</td><td>2</td><td> 0</td><td> 0</td><td>0</td><td>0</td><td>10</td><td>3</td><td>2</td><td>1</td></tr>\n",
       "\t<tr><th scope=row>436585</th><td>1</td><td>1</td><td>1</td><td>27</td><td>0</td><td>0</td><td>0</td><td>0</td><td>0</td><td>1</td><td>⋯</td><td>0</td><td>5</td><td> 0</td><td>30</td><td>0</td><td>0</td><td>13</td><td>6</td><td>3</td><td>1</td></tr>\n",
       "\t<tr><th scope=row>436586</th><td>0</td><td>1</td><td>1</td><td>35</td><td>0</td><td>0</td><td>0</td><td>0</td><td>0</td><td>0</td><td>⋯</td><td>0</td><td>3</td><td> 0</td><td> 5</td><td>0</td><td>0</td><td>2 </td><td>6</td><td>7</td><td>1</td></tr>\n",
       "\t<tr><th scope=row>436587</th><td>1</td><td>1</td><td>1</td><td>26</td><td>0</td><td>0</td><td>0</td><td>1</td><td>1</td><td>0</td><td>⋯</td><td>0</td><td>5</td><td> 0</td><td> 0</td><td>1</td><td>0</td><td>11</td><td>4</td><td>4</td><td>1</td></tr>\n",
       "\t<tr><th scope=row>436588</th><td>0</td><td>0</td><td>1</td><td>27</td><td>0</td><td>1</td><td>0</td><td>0</td><td>1</td><td>1</td><td>⋯</td><td>0</td><td>4</td><td> 0</td><td> 0</td><td>0</td><td>1</td><td>9 </td><td>2</td><td>2</td><td>1</td></tr>\n",
       "\t<tr><th scope=row>436589</th><td>1</td><td>0</td><td>1</td><td>38</td><td>0</td><td>0</td><td>0</td><td>0</td><td>1</td><td>1</td><td>⋯</td><td>1</td><td>4</td><td> 0</td><td> 0</td><td>0</td><td>0</td><td>6 </td><td>6</td><td>3</td><td>1</td></tr>\n",
       "\t<tr><th scope=row>436590</th><td>1</td><td>1</td><td>1</td><td>36</td><td>0</td><td>0</td><td>0</td><td>0</td><td>0</td><td>1</td><td>⋯</td><td>0</td><td>2</td><td> 4</td><td>10</td><td>0</td><td>1</td><td>8 </td><td>6</td><td>7</td><td>1</td></tr>\n",
       "\t<tr><th scope=row>436591</th><td>1</td><td>0</td><td>1</td><td>26</td><td>0</td><td>1</td><td>0</td><td>0</td><td>0</td><td>0</td><td>⋯</td><td>1</td><td>5</td><td> 0</td><td>30</td><td>1</td><td>1</td><td>6 </td><td>4</td><td>1</td><td>1</td></tr>\n",
       "\t<tr><th scope=row>436592</th><td>1</td><td>1</td><td>1</td><td>28</td><td>0</td><td>0</td><td>0</td><td>0</td><td>1</td><td>0</td><td>⋯</td><td>0</td><td>2</td><td> 0</td><td> 2</td><td>0</td><td>1</td><td>11</td><td>4</td><td>4</td><td>1</td></tr>\n",
       "\t<tr><th scope=row>436593</th><td>1</td><td>1</td><td>1</td><td>30</td><td>0</td><td>1</td><td>0</td><td>0</td><td>1</td><td>1</td><td>⋯</td><td>0</td><td>2</td><td> 0</td><td> 0</td><td>1</td><td>1</td><td>13</td><td>6</td><td>7</td><td>1</td></tr>\n",
       "\t<tr><th scope=row>436594</th><td>0</td><td>1</td><td>1</td><td>26</td><td>0</td><td>0</td><td>0</td><td>0</td><td>1</td><td>1</td><td>⋯</td><td>1</td><td>3</td><td> 0</td><td> 0</td><td>0</td><td>0</td><td>9 </td><td>6</td><td>1</td><td>1</td></tr>\n",
       "\t<tr><th scope=row>436595</th><td>1</td><td>1</td><td>1</td><td>42</td><td>0</td><td>1</td><td>0</td><td>1</td><td>0</td><td>0</td><td>⋯</td><td>0</td><td>5</td><td>30</td><td>30</td><td>1</td><td>1</td><td>12</td><td>3</td><td>3</td><td>1</td></tr>\n",
       "\t<tr><th scope=row>436596</th><td>0</td><td>1</td><td>1</td><td>35</td><td>0</td><td>1</td><td>0</td><td>0</td><td>1</td><td>1</td><td>⋯</td><td>0</td><td>3</td><td> 0</td><td> 2</td><td>0</td><td>0</td><td>8 </td><td>5</td><td>8</td><td>1</td></tr>\n",
       "\t<tr><th scope=row>436597</th><td>0</td><td>0</td><td>1</td><td>20</td><td>0</td><td>0</td><td>0</td><td>0</td><td>1</td><td>1</td><td>⋯</td><td>0</td><td>1</td><td> 0</td><td> 0</td><td>0</td><td>1</td><td>10</td><td>4</td><td>7</td><td>1</td></tr>\n",
       "\t<tr><th scope=row>436598</th><td>1</td><td>1</td><td>1</td><td>42</td><td>0</td><td>0</td><td>0</td><td>0</td><td>1</td><td>1</td><td>⋯</td><td>0</td><td>3</td><td>30</td><td>20</td><td>0</td><td>0</td><td>8 </td><td>6</td><td>5</td><td>1</td></tr>\n",
       "\t<tr><th scope=row>436599</th><td>1</td><td>1</td><td>1</td><td>28</td><td>0</td><td>0</td><td>0</td><td>0</td><td>1</td><td>0</td><td>⋯</td><td>0</td><td>2</td><td> 0</td><td> 0</td><td>0</td><td>1</td><td>11</td><td>6</td><td>8</td><td>1</td></tr>\n",
       "\t<tr><th scope=row>436600</th><td>0</td><td>0</td><td>1</td><td>30</td><td>0</td><td>1</td><td>0</td><td>0</td><td>1</td><td>1</td><td>⋯</td><td>0</td><td>3</td><td> 0</td><td> 6</td><td>1</td><td>0</td><td>6 </td><td>5</td><td>3</td><td>1</td></tr>\n",
       "</tbody>\n",
       "</table>\n"
      ],
      "text/latex": [
       "A data.frame: 436600 × 23\n",
       "\\begin{tabular}{r|lllllllllllllllllllll}\n",
       "  & HighBP & HighChol & CholCheck & BMI & BMI\\_over\\_45 & Smoker & Stroke & HeartDiseaseorAttack & PhysActivity & Fruits & ⋯ & NoDocbcCost & GenHlth & MentHlth & PhysHlth & DiffWalk & Sex & Age & Education & Income & Diabetes\\_binary\\\\\n",
       "  & <fct> & <fct> & <fct> & <int> & <int> & <fct> & <fct> & <fct> & <fct> & <fct> & ⋯ & <fct> & <ord> & <int> & <int> & <fct> & <fct> & <ord> & <ord> & <ord> & <fct>\\\\\n",
       "\\hline\n",
       "\t1 & 1 & 1 & 1 & 40 & 0 & 1 & 0 & 0 & 0 & 0 & ⋯ & 0 & 5 & 18 & 15 & 1 & 0 & 9  & 4 & 3 & 0\\\\\n",
       "\t2 & 0 & 0 & 0 & 25 & 0 & 1 & 0 & 0 & 1 & 0 & ⋯ & 1 & 3 &  0 &  0 & 0 & 0 & 7  & 6 & 1 & 0\\\\\n",
       "\t3 & 1 & 1 & 1 & 28 & 0 & 0 & 0 & 0 & 0 & 1 & ⋯ & 1 & 5 & 30 & 30 & 1 & 0 & 9  & 4 & 8 & 0\\\\\n",
       "\t4 & 1 & 0 & 1 & 27 & 0 & 0 & 0 & 0 & 1 & 1 & ⋯ & 0 & 2 &  0 &  0 & 0 & 0 & 11 & 3 & 6 & 0\\\\\n",
       "\t5 & 1 & 1 & 1 & 24 & 0 & 0 & 0 & 0 & 1 & 1 & ⋯ & 0 & 2 &  3 &  0 & 0 & 0 & 11 & 5 & 4 & 0\\\\\n",
       "\t6 & 1 & 1 & 1 & 25 & 0 & 1 & 0 & 0 & 1 & 1 & ⋯ & 0 & 2 &  0 &  2 & 0 & 1 & 10 & 6 & 8 & 0\\\\\n",
       "\t7 & 1 & 0 & 1 & 30 & 0 & 1 & 0 & 0 & 0 & 0 & ⋯ & 0 & 3 &  0 & 14 & 0 & 0 & 9  & 6 & 7 & 0\\\\\n",
       "\t8 & 1 & 1 & 1 & 25 & 0 & 1 & 0 & 0 & 1 & 0 & ⋯ & 0 & 3 &  0 &  0 & 1 & 0 & 11 & 4 & 4 & 0\\\\\n",
       "\t9 & 0 & 0 & 1 & 24 & 0 & 0 & 0 & 0 & 0 & 0 & ⋯ & 0 & 2 &  0 &  0 & 0 & 1 & 8  & 4 & 3 & 0\\\\\n",
       "\t10 & 1 & 1 & 1 & 34 & 0 & 1 & 0 & 0 & 0 & 1 & ⋯ & 0 & 3 &  0 & 30 & 1 & 0 & 10 & 5 & 1 & 0\\\\\n",
       "\t11 & 0 & 0 & 1 & 26 & 0 & 1 & 0 & 0 & 0 & 0 & ⋯ & 0 & 3 &  0 & 15 & 0 & 0 & 7  & 5 & 7 & 0\\\\\n",
       "\t12 & 0 & 1 & 1 & 33 & 0 & 1 & 1 & 0 & 1 & 0 & ⋯ & 1 & 4 & 30 & 28 & 0 & 0 & 4  & 6 & 2 & 0\\\\\n",
       "\t13 & 1 & 0 & 1 & 33 & 0 & 0 & 0 & 0 & 1 & 0 & ⋯ & 0 & 2 &  5 &  0 & 0 & 0 & 6  & 6 & 8 & 0\\\\\n",
       "\t14 & 1 & 1 & 1 & 21 & 0 & 0 & 0 & 0 & 1 & 1 & ⋯ & 0 & 3 &  0 &  0 & 0 & 0 & 10 & 4 & 3 & 0\\\\\n",
       "\t15 & 0 & 0 & 0 & 23 & 0 & 0 & 0 & 0 & 0 & 0 & ⋯ & 0 & 2 & 15 &  0 & 0 & 0 & 2  & 6 & 7 & 0\\\\\n",
       "\t16 & 0 & 1 & 1 & 28 & 0 & 0 & 0 & 0 & 0 & 0 & ⋯ & 0 & 2 & 10 &  0 & 0 & 1 & 4  & 6 & 8 & 0\\\\\n",
       "\t17 & 1 & 1 & 1 & 22 & 0 & 0 & 1 & 1 & 0 & 1 & ⋯ & 0 & 3 & 30 &  0 & 1 & 0 & 12 & 4 & 4 & 0\\\\\n",
       "\t18 & 1 & 1 & 1 & 38 & 0 & 1 & 0 & 0 & 0 & 1 & ⋯ & 0 & 5 & 15 & 30 & 1 & 0 & 13 & 2 & 3 & 0\\\\\n",
       "\t19 & 0 & 0 & 1 & 28 & 0 & 1 & 0 & 0 & 0 & 0 & ⋯ & 0 & 3 &  0 &  7 & 0 & 1 & 5  & 5 & 5 & 0\\\\\n",
       "\t20 & 1 & 1 & 1 & 28 & 0 & 1 & 0 & 0 & 0 & 1 & ⋯ & 0 & 3 &  6 &  0 & 1 & 0 & 9  & 4 & 6 & 0\\\\\n",
       "\t21 & 0 & 0 & 1 & 32 & 0 & 0 & 0 & 0 & 1 & 1 & ⋯ & 0 & 2 &  0 &  0 & 0 & 0 & 5  & 6 & 8 & 0\\\\\n",
       "\t22 & 0 & 1 & 1 & 31 & 0 & 1 & 0 & 0 & 1 & 1 & ⋯ & 0 & 1 &  0 &  0 & 0 & 1 & 12 & 6 & 8 & 0\\\\\n",
       "\t23 & 1 & 0 & 1 & 33 & 0 & 1 & 0 & 0 & 1 & 1 & ⋯ & 0 & 1 &  0 &  0 & 1 & 1 & 13 & 3 & 3 & 0\\\\\n",
       "\t24 & 0 & 0 & 1 & 23 & 0 & 0 & 0 & 0 & 1 & 1 & ⋯ & 0 & 1 &  2 &  0 & 0 & 0 & 6  & 4 & 8 & 0\\\\\n",
       "\t25 & 1 & 0 & 1 & 31 & 0 & 0 & 0 & 0 & 1 & 0 & ⋯ & 0 & 3 &  0 &  0 & 0 & 1 & 11 & 6 & 2 & 0\\\\\n",
       "\t26 & 1 & 0 & 1 & 26 & 0 & 0 & 0 & 0 & 1 & 1 & ⋯ & 0 & 2 &  0 &  0 & 0 & 0 & 9  & 4 & 4 & 0\\\\\n",
       "\t27 & 1 & 1 & 1 & 24 & 0 & 1 & 0 & 0 & 1 & 0 & ⋯ & 0 & 3 &  5 &  3 & 1 & 1 & 8  & 4 & 3 & 0\\\\\n",
       "\t28 & 0 & 0 & 1 & 22 & 0 & 0 & 0 & 0 & 1 & 1 & ⋯ & 0 & 2 &  0 & 10 & 0 & 0 & 12 & 5 & 7 & 0\\\\\n",
       "\t29 & 0 & 0 & 1 & 26 & 0 & 1 & 0 & 0 & 1 & 1 & ⋯ & 0 & 1 &  0 &  1 & 0 & 1 & 4  & 5 & 3 & 0\\\\\n",
       "\t30 & 1 & 1 & 1 & 24 & 0 & 1 & 0 & 0 & 0 & 1 & ⋯ & 0 & 5 &  0 & 30 & 0 & 1 & 9  & 3 & 1 & 0\\\\\n",
       "\t⋮ & ⋮ & ⋮ & ⋮ & ⋮ & ⋮ & ⋮ & ⋮ & ⋮ & ⋮ & ⋮ & ⋱ & ⋮ & ⋮ & ⋮ & ⋮ & ⋮ & ⋮ & ⋮ & ⋮ & ⋮ & ⋮\\\\\n",
       "\t436571 & 1 & 1 & 1 & 29 & 0 & 0 & 0 & 0 & 1 & 0 & ⋯ & 0 & 3 &  0 &  1 & 0 & 1 & 11 & 5 & 5 & 1\\\\\n",
       "\t436572 & 1 & 0 & 1 & 25 & 0 & 1 & 0 & 0 & 0 & 0 & ⋯ & 0 & 4 &  2 &  5 & 0 & 0 & 9  & 5 & 4 & 1\\\\\n",
       "\t436573 & 1 & 1 & 1 & 49 & 1 & 1 & 0 & 0 & 1 & 1 & ⋯ & 0 & 5 & 10 &  6 & 0 & 0 & 7  & 4 & 2 & 1\\\\\n",
       "\t436574 & 0 & 1 & 1 & 37 & 0 & 1 & 0 & 0 & 1 & 0 & ⋯ & 0 & 2 &  0 &  0 & 0 & 1 & 8  & 4 & 8 & 1\\\\\n",
       "\t436575 & 0 & 1 & 1 & 34 & 0 & 1 & 0 & 1 & 0 & 1 & ⋯ & 0 & 4 &  0 &  0 & 0 & 0 & 12 & 4 & 5 & 1\\\\\n",
       "\t436576 & 0 & 1 & 1 & 34 & 0 & 0 & 0 & 0 & 0 & 1 & ⋯ & 0 & 4 &  0 &  3 & 1 & 0 & 10 & 6 & 4 & 1\\\\\n",
       "\t436577 & 1 & 1 & 1 & 33 & 0 & 0 & 0 & 0 & 1 & 1 & ⋯ & 1 & 3 &  0 &  0 & 0 & 0 & 3  & 6 & 8 & 1\\\\\n",
       "\t436578 & 1 & 1 & 1 & 45 & 0 & 1 & 0 & 1 & 0 & 0 & ⋯ & 0 & 3 &  5 & 15 & 1 & 0 & 10 & 4 & 3 & 1\\\\\n",
       "\t436579 & 1 & 1 & 1 & 30 & 0 & 0 & 0 & 0 & 0 & 1 & ⋯ & 1 & 5 & 25 & 30 & 1 & 1 & 7  & 6 & 2 & 1\\\\\n",
       "\t436580 & 1 & 0 & 1 & 29 & 0 & 0 & 0 & 0 & 1 & 1 & ⋯ & 0 & 1 &  0 &  1 & 0 & 0 & 10 & 6 & 8 & 1\\\\\n",
       "\t436581 & 1 & 1 & 1 & 30 & 0 & 0 & 0 & 0 & 1 & 1 & ⋯ & 0 & 4 & 30 &  3 & 0 & 0 & 5  & 6 & 7 & 1\\\\\n",
       "\t436582 & 1 & 1 & 1 & 27 & 0 & 0 & 1 & 1 & 1 & 0 & ⋯ & 0 & 3 &  0 &  1 & 0 & 1 & 13 & 5 & 8 & 1\\\\\n",
       "\t436583 & 1 & 1 & 1 & 33 & 0 & 1 & 0 & 0 & 0 & 0 & ⋯ & 0 & 4 &  0 & 28 & 1 & 1 & 13 & 3 & 7 & 1\\\\\n",
       "\t436584 & 1 & 0 & 1 & 28 & 0 & 0 & 0 & 0 & 1 & 1 & ⋯ & 0 & 2 &  0 &  0 & 0 & 0 & 10 & 3 & 2 & 1\\\\\n",
       "\t436585 & 1 & 1 & 1 & 27 & 0 & 0 & 0 & 0 & 0 & 1 & ⋯ & 0 & 5 &  0 & 30 & 0 & 0 & 13 & 6 & 3 & 1\\\\\n",
       "\t436586 & 0 & 1 & 1 & 35 & 0 & 0 & 0 & 0 & 0 & 0 & ⋯ & 0 & 3 &  0 &  5 & 0 & 0 & 2  & 6 & 7 & 1\\\\\n",
       "\t436587 & 1 & 1 & 1 & 26 & 0 & 0 & 0 & 1 & 1 & 0 & ⋯ & 0 & 5 &  0 &  0 & 1 & 0 & 11 & 4 & 4 & 1\\\\\n",
       "\t436588 & 0 & 0 & 1 & 27 & 0 & 1 & 0 & 0 & 1 & 1 & ⋯ & 0 & 4 &  0 &  0 & 0 & 1 & 9  & 2 & 2 & 1\\\\\n",
       "\t436589 & 1 & 0 & 1 & 38 & 0 & 0 & 0 & 0 & 1 & 1 & ⋯ & 1 & 4 &  0 &  0 & 0 & 0 & 6  & 6 & 3 & 1\\\\\n",
       "\t436590 & 1 & 1 & 1 & 36 & 0 & 0 & 0 & 0 & 0 & 1 & ⋯ & 0 & 2 &  4 & 10 & 0 & 1 & 8  & 6 & 7 & 1\\\\\n",
       "\t436591 & 1 & 0 & 1 & 26 & 0 & 1 & 0 & 0 & 0 & 0 & ⋯ & 1 & 5 &  0 & 30 & 1 & 1 & 6  & 4 & 1 & 1\\\\\n",
       "\t436592 & 1 & 1 & 1 & 28 & 0 & 0 & 0 & 0 & 1 & 0 & ⋯ & 0 & 2 &  0 &  2 & 0 & 1 & 11 & 4 & 4 & 1\\\\\n",
       "\t436593 & 1 & 1 & 1 & 30 & 0 & 1 & 0 & 0 & 1 & 1 & ⋯ & 0 & 2 &  0 &  0 & 1 & 1 & 13 & 6 & 7 & 1\\\\\n",
       "\t436594 & 0 & 1 & 1 & 26 & 0 & 0 & 0 & 0 & 1 & 1 & ⋯ & 1 & 3 &  0 &  0 & 0 & 0 & 9  & 6 & 1 & 1\\\\\n",
       "\t436595 & 1 & 1 & 1 & 42 & 0 & 1 & 0 & 1 & 0 & 0 & ⋯ & 0 & 5 & 30 & 30 & 1 & 1 & 12 & 3 & 3 & 1\\\\\n",
       "\t436596 & 0 & 1 & 1 & 35 & 0 & 1 & 0 & 0 & 1 & 1 & ⋯ & 0 & 3 &  0 &  2 & 0 & 0 & 8  & 5 & 8 & 1\\\\\n",
       "\t436597 & 0 & 0 & 1 & 20 & 0 & 0 & 0 & 0 & 1 & 1 & ⋯ & 0 & 1 &  0 &  0 & 0 & 1 & 10 & 4 & 7 & 1\\\\\n",
       "\t436598 & 1 & 1 & 1 & 42 & 0 & 0 & 0 & 0 & 1 & 1 & ⋯ & 0 & 3 & 30 & 20 & 0 & 0 & 8  & 6 & 5 & 1\\\\\n",
       "\t436599 & 1 & 1 & 1 & 28 & 0 & 0 & 0 & 0 & 1 & 0 & ⋯ & 0 & 2 &  0 &  0 & 0 & 1 & 11 & 6 & 8 & 1\\\\\n",
       "\t436600 & 0 & 0 & 1 & 30 & 0 & 1 & 0 & 0 & 1 & 1 & ⋯ & 0 & 3 &  0 &  6 & 1 & 0 & 6  & 5 & 3 & 1\\\\\n",
       "\\end{tabular}\n"
      ],
      "text/markdown": [
       "\n",
       "A data.frame: 436600 × 23\n",
       "\n",
       "| <!--/--> | HighBP &lt;fct&gt; | HighChol &lt;fct&gt; | CholCheck &lt;fct&gt; | BMI &lt;int&gt; | BMI_over_45 &lt;int&gt; | Smoker &lt;fct&gt; | Stroke &lt;fct&gt; | HeartDiseaseorAttack &lt;fct&gt; | PhysActivity &lt;fct&gt; | Fruits &lt;fct&gt; | ⋯ ⋯ | NoDocbcCost &lt;fct&gt; | GenHlth &lt;ord&gt; | MentHlth &lt;int&gt; | PhysHlth &lt;int&gt; | DiffWalk &lt;fct&gt; | Sex &lt;fct&gt; | Age &lt;ord&gt; | Education &lt;ord&gt; | Income &lt;ord&gt; | Diabetes_binary &lt;fct&gt; |\n",
       "|---|---|---|---|---|---|---|---|---|---|---|---|---|---|---|---|---|---|---|---|---|---|\n",
       "| 1 | 1 | 1 | 1 | 40 | 0 | 1 | 0 | 0 | 0 | 0 | ⋯ | 0 | 5 | 18 | 15 | 1 | 0 | 9  | 4 | 3 | 0 |\n",
       "| 2 | 0 | 0 | 0 | 25 | 0 | 1 | 0 | 0 | 1 | 0 | ⋯ | 1 | 3 |  0 |  0 | 0 | 0 | 7  | 6 | 1 | 0 |\n",
       "| 3 | 1 | 1 | 1 | 28 | 0 | 0 | 0 | 0 | 0 | 1 | ⋯ | 1 | 5 | 30 | 30 | 1 | 0 | 9  | 4 | 8 | 0 |\n",
       "| 4 | 1 | 0 | 1 | 27 | 0 | 0 | 0 | 0 | 1 | 1 | ⋯ | 0 | 2 |  0 |  0 | 0 | 0 | 11 | 3 | 6 | 0 |\n",
       "| 5 | 1 | 1 | 1 | 24 | 0 | 0 | 0 | 0 | 1 | 1 | ⋯ | 0 | 2 |  3 |  0 | 0 | 0 | 11 | 5 | 4 | 0 |\n",
       "| 6 | 1 | 1 | 1 | 25 | 0 | 1 | 0 | 0 | 1 | 1 | ⋯ | 0 | 2 |  0 |  2 | 0 | 1 | 10 | 6 | 8 | 0 |\n",
       "| 7 | 1 | 0 | 1 | 30 | 0 | 1 | 0 | 0 | 0 | 0 | ⋯ | 0 | 3 |  0 | 14 | 0 | 0 | 9  | 6 | 7 | 0 |\n",
       "| 8 | 1 | 1 | 1 | 25 | 0 | 1 | 0 | 0 | 1 | 0 | ⋯ | 0 | 3 |  0 |  0 | 1 | 0 | 11 | 4 | 4 | 0 |\n",
       "| 9 | 0 | 0 | 1 | 24 | 0 | 0 | 0 | 0 | 0 | 0 | ⋯ | 0 | 2 |  0 |  0 | 0 | 1 | 8  | 4 | 3 | 0 |\n",
       "| 10 | 1 | 1 | 1 | 34 | 0 | 1 | 0 | 0 | 0 | 1 | ⋯ | 0 | 3 |  0 | 30 | 1 | 0 | 10 | 5 | 1 | 0 |\n",
       "| 11 | 0 | 0 | 1 | 26 | 0 | 1 | 0 | 0 | 0 | 0 | ⋯ | 0 | 3 |  0 | 15 | 0 | 0 | 7  | 5 | 7 | 0 |\n",
       "| 12 | 0 | 1 | 1 | 33 | 0 | 1 | 1 | 0 | 1 | 0 | ⋯ | 1 | 4 | 30 | 28 | 0 | 0 | 4  | 6 | 2 | 0 |\n",
       "| 13 | 1 | 0 | 1 | 33 | 0 | 0 | 0 | 0 | 1 | 0 | ⋯ | 0 | 2 |  5 |  0 | 0 | 0 | 6  | 6 | 8 | 0 |\n",
       "| 14 | 1 | 1 | 1 | 21 | 0 | 0 | 0 | 0 | 1 | 1 | ⋯ | 0 | 3 |  0 |  0 | 0 | 0 | 10 | 4 | 3 | 0 |\n",
       "| 15 | 0 | 0 | 0 | 23 | 0 | 0 | 0 | 0 | 0 | 0 | ⋯ | 0 | 2 | 15 |  0 | 0 | 0 | 2  | 6 | 7 | 0 |\n",
       "| 16 | 0 | 1 | 1 | 28 | 0 | 0 | 0 | 0 | 0 | 0 | ⋯ | 0 | 2 | 10 |  0 | 0 | 1 | 4  | 6 | 8 | 0 |\n",
       "| 17 | 1 | 1 | 1 | 22 | 0 | 0 | 1 | 1 | 0 | 1 | ⋯ | 0 | 3 | 30 |  0 | 1 | 0 | 12 | 4 | 4 | 0 |\n",
       "| 18 | 1 | 1 | 1 | 38 | 0 | 1 | 0 | 0 | 0 | 1 | ⋯ | 0 | 5 | 15 | 30 | 1 | 0 | 13 | 2 | 3 | 0 |\n",
       "| 19 | 0 | 0 | 1 | 28 | 0 | 1 | 0 | 0 | 0 | 0 | ⋯ | 0 | 3 |  0 |  7 | 0 | 1 | 5  | 5 | 5 | 0 |\n",
       "| 20 | 1 | 1 | 1 | 28 | 0 | 1 | 0 | 0 | 0 | 1 | ⋯ | 0 | 3 |  6 |  0 | 1 | 0 | 9  | 4 | 6 | 0 |\n",
       "| 21 | 0 | 0 | 1 | 32 | 0 | 0 | 0 | 0 | 1 | 1 | ⋯ | 0 | 2 |  0 |  0 | 0 | 0 | 5  | 6 | 8 | 0 |\n",
       "| 22 | 0 | 1 | 1 | 31 | 0 | 1 | 0 | 0 | 1 | 1 | ⋯ | 0 | 1 |  0 |  0 | 0 | 1 | 12 | 6 | 8 | 0 |\n",
       "| 23 | 1 | 0 | 1 | 33 | 0 | 1 | 0 | 0 | 1 | 1 | ⋯ | 0 | 1 |  0 |  0 | 1 | 1 | 13 | 3 | 3 | 0 |\n",
       "| 24 | 0 | 0 | 1 | 23 | 0 | 0 | 0 | 0 | 1 | 1 | ⋯ | 0 | 1 |  2 |  0 | 0 | 0 | 6  | 4 | 8 | 0 |\n",
       "| 25 | 1 | 0 | 1 | 31 | 0 | 0 | 0 | 0 | 1 | 0 | ⋯ | 0 | 3 |  0 |  0 | 0 | 1 | 11 | 6 | 2 | 0 |\n",
       "| 26 | 1 | 0 | 1 | 26 | 0 | 0 | 0 | 0 | 1 | 1 | ⋯ | 0 | 2 |  0 |  0 | 0 | 0 | 9  | 4 | 4 | 0 |\n",
       "| 27 | 1 | 1 | 1 | 24 | 0 | 1 | 0 | 0 | 1 | 0 | ⋯ | 0 | 3 |  5 |  3 | 1 | 1 | 8  | 4 | 3 | 0 |\n",
       "| 28 | 0 | 0 | 1 | 22 | 0 | 0 | 0 | 0 | 1 | 1 | ⋯ | 0 | 2 |  0 | 10 | 0 | 0 | 12 | 5 | 7 | 0 |\n",
       "| 29 | 0 | 0 | 1 | 26 | 0 | 1 | 0 | 0 | 1 | 1 | ⋯ | 0 | 1 |  0 |  1 | 0 | 1 | 4  | 5 | 3 | 0 |\n",
       "| 30 | 1 | 1 | 1 | 24 | 0 | 1 | 0 | 0 | 0 | 1 | ⋯ | 0 | 5 |  0 | 30 | 0 | 1 | 9  | 3 | 1 | 0 |\n",
       "| ⋮ | ⋮ | ⋮ | ⋮ | ⋮ | ⋮ | ⋮ | ⋮ | ⋮ | ⋮ | ⋮ | ⋱ | ⋮ | ⋮ | ⋮ | ⋮ | ⋮ | ⋮ | ⋮ | ⋮ | ⋮ | ⋮ |\n",
       "| 436571 | 1 | 1 | 1 | 29 | 0 | 0 | 0 | 0 | 1 | 0 | ⋯ | 0 | 3 |  0 |  1 | 0 | 1 | 11 | 5 | 5 | 1 |\n",
       "| 436572 | 1 | 0 | 1 | 25 | 0 | 1 | 0 | 0 | 0 | 0 | ⋯ | 0 | 4 |  2 |  5 | 0 | 0 | 9  | 5 | 4 | 1 |\n",
       "| 436573 | 1 | 1 | 1 | 49 | 1 | 1 | 0 | 0 | 1 | 1 | ⋯ | 0 | 5 | 10 |  6 | 0 | 0 | 7  | 4 | 2 | 1 |\n",
       "| 436574 | 0 | 1 | 1 | 37 | 0 | 1 | 0 | 0 | 1 | 0 | ⋯ | 0 | 2 |  0 |  0 | 0 | 1 | 8  | 4 | 8 | 1 |\n",
       "| 436575 | 0 | 1 | 1 | 34 | 0 | 1 | 0 | 1 | 0 | 1 | ⋯ | 0 | 4 |  0 |  0 | 0 | 0 | 12 | 4 | 5 | 1 |\n",
       "| 436576 | 0 | 1 | 1 | 34 | 0 | 0 | 0 | 0 | 0 | 1 | ⋯ | 0 | 4 |  0 |  3 | 1 | 0 | 10 | 6 | 4 | 1 |\n",
       "| 436577 | 1 | 1 | 1 | 33 | 0 | 0 | 0 | 0 | 1 | 1 | ⋯ | 1 | 3 |  0 |  0 | 0 | 0 | 3  | 6 | 8 | 1 |\n",
       "| 436578 | 1 | 1 | 1 | 45 | 0 | 1 | 0 | 1 | 0 | 0 | ⋯ | 0 | 3 |  5 | 15 | 1 | 0 | 10 | 4 | 3 | 1 |\n",
       "| 436579 | 1 | 1 | 1 | 30 | 0 | 0 | 0 | 0 | 0 | 1 | ⋯ | 1 | 5 | 25 | 30 | 1 | 1 | 7  | 6 | 2 | 1 |\n",
       "| 436580 | 1 | 0 | 1 | 29 | 0 | 0 | 0 | 0 | 1 | 1 | ⋯ | 0 | 1 |  0 |  1 | 0 | 0 | 10 | 6 | 8 | 1 |\n",
       "| 436581 | 1 | 1 | 1 | 30 | 0 | 0 | 0 | 0 | 1 | 1 | ⋯ | 0 | 4 | 30 |  3 | 0 | 0 | 5  | 6 | 7 | 1 |\n",
       "| 436582 | 1 | 1 | 1 | 27 | 0 | 0 | 1 | 1 | 1 | 0 | ⋯ | 0 | 3 |  0 |  1 | 0 | 1 | 13 | 5 | 8 | 1 |\n",
       "| 436583 | 1 | 1 | 1 | 33 | 0 | 1 | 0 | 0 | 0 | 0 | ⋯ | 0 | 4 |  0 | 28 | 1 | 1 | 13 | 3 | 7 | 1 |\n",
       "| 436584 | 1 | 0 | 1 | 28 | 0 | 0 | 0 | 0 | 1 | 1 | ⋯ | 0 | 2 |  0 |  0 | 0 | 0 | 10 | 3 | 2 | 1 |\n",
       "| 436585 | 1 | 1 | 1 | 27 | 0 | 0 | 0 | 0 | 0 | 1 | ⋯ | 0 | 5 |  0 | 30 | 0 | 0 | 13 | 6 | 3 | 1 |\n",
       "| 436586 | 0 | 1 | 1 | 35 | 0 | 0 | 0 | 0 | 0 | 0 | ⋯ | 0 | 3 |  0 |  5 | 0 | 0 | 2  | 6 | 7 | 1 |\n",
       "| 436587 | 1 | 1 | 1 | 26 | 0 | 0 | 0 | 1 | 1 | 0 | ⋯ | 0 | 5 |  0 |  0 | 1 | 0 | 11 | 4 | 4 | 1 |\n",
       "| 436588 | 0 | 0 | 1 | 27 | 0 | 1 | 0 | 0 | 1 | 1 | ⋯ | 0 | 4 |  0 |  0 | 0 | 1 | 9  | 2 | 2 | 1 |\n",
       "| 436589 | 1 | 0 | 1 | 38 | 0 | 0 | 0 | 0 | 1 | 1 | ⋯ | 1 | 4 |  0 |  0 | 0 | 0 | 6  | 6 | 3 | 1 |\n",
       "| 436590 | 1 | 1 | 1 | 36 | 0 | 0 | 0 | 0 | 0 | 1 | ⋯ | 0 | 2 |  4 | 10 | 0 | 1 | 8  | 6 | 7 | 1 |\n",
       "| 436591 | 1 | 0 | 1 | 26 | 0 | 1 | 0 | 0 | 0 | 0 | ⋯ | 1 | 5 |  0 | 30 | 1 | 1 | 6  | 4 | 1 | 1 |\n",
       "| 436592 | 1 | 1 | 1 | 28 | 0 | 0 | 0 | 0 | 1 | 0 | ⋯ | 0 | 2 |  0 |  2 | 0 | 1 | 11 | 4 | 4 | 1 |\n",
       "| 436593 | 1 | 1 | 1 | 30 | 0 | 1 | 0 | 0 | 1 | 1 | ⋯ | 0 | 2 |  0 |  0 | 1 | 1 | 13 | 6 | 7 | 1 |\n",
       "| 436594 | 0 | 1 | 1 | 26 | 0 | 0 | 0 | 0 | 1 | 1 | ⋯ | 1 | 3 |  0 |  0 | 0 | 0 | 9  | 6 | 1 | 1 |\n",
       "| 436595 | 1 | 1 | 1 | 42 | 0 | 1 | 0 | 1 | 0 | 0 | ⋯ | 0 | 5 | 30 | 30 | 1 | 1 | 12 | 3 | 3 | 1 |\n",
       "| 436596 | 0 | 1 | 1 | 35 | 0 | 1 | 0 | 0 | 1 | 1 | ⋯ | 0 | 3 |  0 |  2 | 0 | 0 | 8  | 5 | 8 | 1 |\n",
       "| 436597 | 0 | 0 | 1 | 20 | 0 | 0 | 0 | 0 | 1 | 1 | ⋯ | 0 | 1 |  0 |  0 | 0 | 1 | 10 | 4 | 7 | 1 |\n",
       "| 436598 | 1 | 1 | 1 | 42 | 0 | 0 | 0 | 0 | 1 | 1 | ⋯ | 0 | 3 | 30 | 20 | 0 | 0 | 8  | 6 | 5 | 1 |\n",
       "| 436599 | 1 | 1 | 1 | 28 | 0 | 0 | 0 | 0 | 1 | 0 | ⋯ | 0 | 2 |  0 |  0 | 0 | 1 | 11 | 6 | 8 | 1 |\n",
       "| 436600 | 0 | 0 | 1 | 30 | 0 | 1 | 0 | 0 | 1 | 1 | ⋯ | 0 | 3 |  0 |  6 | 1 | 0 | 6  | 5 | 3 | 1 |\n",
       "\n"
      ],
      "text/plain": [
       "       HighBP HighChol CholCheck BMI BMI_over_45 Smoker Stroke\n",
       "1      1      1        1         40  0           1      0     \n",
       "2      0      0        0         25  0           1      0     \n",
       "3      1      1        1         28  0           0      0     \n",
       "4      1      0        1         27  0           0      0     \n",
       "5      1      1        1         24  0           0      0     \n",
       "6      1      1        1         25  0           1      0     \n",
       "7      1      0        1         30  0           1      0     \n",
       "8      1      1        1         25  0           1      0     \n",
       "9      0      0        1         24  0           0      0     \n",
       "10     1      1        1         34  0           1      0     \n",
       "11     0      0        1         26  0           1      0     \n",
       "12     0      1        1         33  0           1      1     \n",
       "13     1      0        1         33  0           0      0     \n",
       "14     1      1        1         21  0           0      0     \n",
       "15     0      0        0         23  0           0      0     \n",
       "16     0      1        1         28  0           0      0     \n",
       "17     1      1        1         22  0           0      1     \n",
       "18     1      1        1         38  0           1      0     \n",
       "19     0      0        1         28  0           1      0     \n",
       "20     1      1        1         28  0           1      0     \n",
       "21     0      0        1         32  0           0      0     \n",
       "22     0      1        1         31  0           1      0     \n",
       "23     1      0        1         33  0           1      0     \n",
       "24     0      0        1         23  0           0      0     \n",
       "25     1      0        1         31  0           0      0     \n",
       "26     1      0        1         26  0           0      0     \n",
       "27     1      1        1         24  0           1      0     \n",
       "28     0      0        1         22  0           0      0     \n",
       "29     0      0        1         26  0           1      0     \n",
       "30     1      1        1         24  0           1      0     \n",
       "<U+22EE>      <U+22EE> <U+22EE> <U+22EE>  <U+22EE> <U+22EE>    <U+22EE> <U+22EE>\n",
       "436571 1      1        1         29  0           0      0     \n",
       "436572 1      0        1         25  0           1      0     \n",
       "436573 1      1        1         49  1           1      0     \n",
       "436574 0      1        1         37  0           1      0     \n",
       "436575 0      1        1         34  0           1      0     \n",
       "436576 0      1        1         34  0           0      0     \n",
       "436577 1      1        1         33  0           0      0     \n",
       "436578 1      1        1         45  0           1      0     \n",
       "436579 1      1        1         30  0           0      0     \n",
       "436580 1      0        1         29  0           0      0     \n",
       "436581 1      1        1         30  0           0      0     \n",
       "436582 1      1        1         27  0           0      1     \n",
       "436583 1      1        1         33  0           1      0     \n",
       "436584 1      0        1         28  0           0      0     \n",
       "436585 1      1        1         27  0           0      0     \n",
       "436586 0      1        1         35  0           0      0     \n",
       "436587 1      1        1         26  0           0      0     \n",
       "436588 0      0        1         27  0           1      0     \n",
       "436589 1      0        1         38  0           0      0     \n",
       "436590 1      1        1         36  0           0      0     \n",
       "436591 1      0        1         26  0           1      0     \n",
       "436592 1      1        1         28  0           0      0     \n",
       "436593 1      1        1         30  0           1      0     \n",
       "436594 0      1        1         26  0           0      0     \n",
       "436595 1      1        1         42  0           1      0     \n",
       "436596 0      1        1         35  0           1      0     \n",
       "436597 0      0        1         20  0           0      0     \n",
       "436598 1      1        1         42  0           0      0     \n",
       "436599 1      1        1         28  0           0      0     \n",
       "436600 0      0        1         30  0           1      0     \n",
       "       HeartDiseaseorAttack PhysActivity Fruits <U+22EF>        NoDocbcCost GenHlth\n",
       "1      0                    0            0      <U+22EF> 0           5      \n",
       "2      0                    1            0      <U+22EF> 1           3      \n",
       "3      0                    0            1      <U+22EF> 1           5      \n",
       "4      0                    1            1      <U+22EF> 0           2      \n",
       "5      0                    1            1      <U+22EF> 0           2      \n",
       "6      0                    1            1      <U+22EF> 0           2      \n",
       "7      0                    0            0      <U+22EF> 0           3      \n",
       "8      0                    1            0      <U+22EF> 0           3      \n",
       "9      0                    0            0      <U+22EF> 0           2      \n",
       "10     0                    0            1      <U+22EF> 0           3      \n",
       "11     0                    0            0      <U+22EF> 0           3      \n",
       "12     0                    1            0      <U+22EF> 1           4      \n",
       "13     0                    1            0      <U+22EF> 0           2      \n",
       "14     0                    1            1      <U+22EF> 0           3      \n",
       "15     0                    0            0      <U+22EF> 0           2      \n",
       "16     0                    0            0      <U+22EF> 0           2      \n",
       "17     1                    0            1      <U+22EF> 0           3      \n",
       "18     0                    0            1      <U+22EF> 0           5      \n",
       "19     0                    0            0      <U+22EF> 0           3      \n",
       "20     0                    0            1      <U+22EF> 0           3      \n",
       "21     0                    1            1      <U+22EF> 0           2      \n",
       "22     0                    1            1      <U+22EF> 0           1      \n",
       "23     0                    1            1      <U+22EF> 0           1      \n",
       "24     0                    1            1      <U+22EF> 0           1      \n",
       "25     0                    1            0      <U+22EF> 0           3      \n",
       "26     0                    1            1      <U+22EF> 0           2      \n",
       "27     0                    1            0      <U+22EF> 0           3      \n",
       "28     0                    1            1      <U+22EF> 0           2      \n",
       "29     0                    1            1      <U+22EF> 0           1      \n",
       "30     0                    0            1      <U+22EF> 0           5      \n",
       "<U+22EE>      <U+22EE>             <U+22EE>     <U+22EE> <U+22F1> <U+22EE>    <U+22EE>\n",
       "436571 0                    1            0      <U+22EF> 0           3      \n",
       "436572 0                    0            0      <U+22EF> 0           4      \n",
       "436573 0                    1            1      <U+22EF> 0           5      \n",
       "436574 0                    1            0      <U+22EF> 0           2      \n",
       "436575 1                    0            1      <U+22EF> 0           4      \n",
       "436576 0                    0            1      <U+22EF> 0           4      \n",
       "436577 0                    1            1      <U+22EF> 1           3      \n",
       "436578 1                    0            0      <U+22EF> 0           3      \n",
       "436579 0                    0            1      <U+22EF> 1           5      \n",
       "436580 0                    1            1      <U+22EF> 0           1      \n",
       "436581 0                    1            1      <U+22EF> 0           4      \n",
       "436582 1                    1            0      <U+22EF> 0           3      \n",
       "436583 0                    0            0      <U+22EF> 0           4      \n",
       "436584 0                    1            1      <U+22EF> 0           2      \n",
       "436585 0                    0            1      <U+22EF> 0           5      \n",
       "436586 0                    0            0      <U+22EF> 0           3      \n",
       "436587 1                    1            0      <U+22EF> 0           5      \n",
       "436588 0                    1            1      <U+22EF> 0           4      \n",
       "436589 0                    1            1      <U+22EF> 1           4      \n",
       "436590 0                    0            1      <U+22EF> 0           2      \n",
       "436591 0                    0            0      <U+22EF> 1           5      \n",
       "436592 0                    1            0      <U+22EF> 0           2      \n",
       "436593 0                    1            1      <U+22EF> 0           2      \n",
       "436594 0                    1            1      <U+22EF> 1           3      \n",
       "436595 1                    0            0      <U+22EF> 0           5      \n",
       "436596 0                    1            1      <U+22EF> 0           3      \n",
       "436597 0                    1            1      <U+22EF> 0           1      \n",
       "436598 0                    1            1      <U+22EF> 0           3      \n",
       "436599 0                    1            0      <U+22EF> 0           2      \n",
       "436600 0                    1            1      <U+22EF> 0           3      \n",
       "       MentHlth PhysHlth DiffWalk Sex Age Education Income Diabetes_binary\n",
       "1      18       15       1        0   9   4         3      0              \n",
       "2       0        0       0        0   7   6         1      0              \n",
       "3      30       30       1        0   9   4         8      0              \n",
       "4       0        0       0        0   11  3         6      0              \n",
       "5       3        0       0        0   11  5         4      0              \n",
       "6       0        2       0        1   10  6         8      0              \n",
       "7       0       14       0        0   9   6         7      0              \n",
       "8       0        0       1        0   11  4         4      0              \n",
       "9       0        0       0        1   8   4         3      0              \n",
       "10      0       30       1        0   10  5         1      0              \n",
       "11      0       15       0        0   7   5         7      0              \n",
       "12     30       28       0        0   4   6         2      0              \n",
       "13      5        0       0        0   6   6         8      0              \n",
       "14      0        0       0        0   10  4         3      0              \n",
       "15     15        0       0        0   2   6         7      0              \n",
       "16     10        0       0        1   4   6         8      0              \n",
       "17     30        0       1        0   12  4         4      0              \n",
       "18     15       30       1        0   13  2         3      0              \n",
       "19      0        7       0        1   5   5         5      0              \n",
       "20      6        0       1        0   9   4         6      0              \n",
       "21      0        0       0        0   5   6         8      0              \n",
       "22      0        0       0        1   12  6         8      0              \n",
       "23      0        0       1        1   13  3         3      0              \n",
       "24      2        0       0        0   6   4         8      0              \n",
       "25      0        0       0        1   11  6         2      0              \n",
       "26      0        0       0        0   9   4         4      0              \n",
       "27      5        3       1        1   8   4         3      0              \n",
       "28      0       10       0        0   12  5         7      0              \n",
       "29      0        1       0        1   4   5         3      0              \n",
       "30      0       30       0        1   9   3         1      0              \n",
       "<U+22EE>      <U+22EE> <U+22EE> <U+22EE> <U+22EE> <U+22EE> <U+22EE>  <U+22EE> <U+22EE>       \n",
       "436571  0        1       0        1   11  5         5      1              \n",
       "436572  2        5       0        0   9   5         4      1              \n",
       "436573 10        6       0        0   7   4         2      1              \n",
       "436574  0        0       0        1   8   4         8      1              \n",
       "436575  0        0       0        0   12  4         5      1              \n",
       "436576  0        3       1        0   10  6         4      1              \n",
       "436577  0        0       0        0   3   6         8      1              \n",
       "436578  5       15       1        0   10  4         3      1              \n",
       "436579 25       30       1        1   7   6         2      1              \n",
       "436580  0        1       0        0   10  6         8      1              \n",
       "436581 30        3       0        0   5   6         7      1              \n",
       "436582  0        1       0        1   13  5         8      1              \n",
       "436583  0       28       1        1   13  3         7      1              \n",
       "436584  0        0       0        0   10  3         2      1              \n",
       "436585  0       30       0        0   13  6         3      1              \n",
       "436586  0        5       0        0   2   6         7      1              \n",
       "436587  0        0       1        0   11  4         4      1              \n",
       "436588  0        0       0        1   9   2         2      1              \n",
       "436589  0        0       0        0   6   6         3      1              \n",
       "436590  4       10       0        1   8   6         7      1              \n",
       "436591  0       30       1        1   6   4         1      1              \n",
       "436592  0        2       0        1   11  4         4      1              \n",
       "436593  0        0       1        1   13  6         7      1              \n",
       "436594  0        0       0        0   9   6         1      1              \n",
       "436595 30       30       1        1   12  3         3      1              \n",
       "436596  0        2       0        0   8   5         8      1              \n",
       "436597  0        0       0        1   10  4         7      1              \n",
       "436598 30       20       0        0   8   6         5      1              \n",
       "436599  0        0       0        1   11  6         8      1              \n",
       "436600  0        6       1        0   6   5         3      1              "
      ]
     },
     "metadata": {},
     "output_type": "display_data"
    }
   ],
   "source": [
    "balanced_df"
   ]
  },
  {
   "cell_type": "markdown",
   "id": "de9211c4-a135-4699-b021-394f136a4719",
   "metadata": {},
   "source": [
    "#### 3.4.2. MentHlth"
   ]
  },
  {
   "cell_type": "code",
   "execution_count": 259,
   "id": "85bf90ab-ec7d-438b-b80e-e81131167235",
   "metadata": {},
   "outputs": [
    {
     "data": {
      "image/png": "[encoded data removed]",
      "text/plain": [
       "Plot with title \"MentHlth\""
      ]
     },
     "metadata": {
      "image/png": {
       "height": 420,
       "width": 420
      }
     },
     "output_type": "display_data"
    },
    {
     "data": {
      "image/png": "[encoded data removed]",
      "text/plain": [
       "Plot with title \"MentHlth\""
      ]
     },
     "metadata": {
      "image/png": {
       "height": 420,
       "width": 420
      }
     },
     "output_type": "display_data"
    }
   ],
   "source": [
    "boxplot(balanced_df$MentHlth, main = \"MentHlth\", col = MAIN_COLOR, las = 1, lwd = 2)\n",
    "hist(balanced_df$MentHlth, main = \"MentHlth\", xlab = \"Number of day with Mental Health problem in last 30 days\",\n",
    "    col = MAIN_COLOR, las = 1, lwd = 2, xlim = c(0, 30))"
   ]
  },
  {
   "cell_type": "markdown",
   "id": "64236a94-f522-4527-8538-23018a36b4b3",
   "metadata": {},
   "source": [
    "#### Question: The percentage of diabetes people having MentHlth or not."
   ]
  },
  {
   "cell_type": "code",
   "execution_count": 260,
   "id": "f8d45331-4845-49fa-b41b-9f95093afa78",
   "metadata": {},
   "outputs": [],
   "source": [
    "MentHlth_table = table(ifelse(balanced_df$MentHlth > 0, \"have MentHlth\", \"no MentHlth\"),\n",
    "      ifelse(balanced_df$Diabetes_binary == 1, \"diabetes\", \"no diabetes\"))"
   ]
  },
  {
   "cell_type": "code",
   "execution_count": 261,
   "id": "a0e7b412-37ba-4586-8d14-b7c9fdfc0f92",
   "metadata": {},
   "outputs": [],
   "source": [
    "MentHlth_table = Rev(MentHlth_table)"
   ]
  },
  {
   "cell_type": "code",
   "execution_count": 262,
   "id": "453f36a8-6f98-4125-bdbc-5e1dc6bdca12",
   "metadata": {},
   "outputs": [
    {
     "data": {
      "text/plain": [
       "               \n",
       "                no diabetes diabetes\n",
       "  no MentHlth        152277   144346\n",
       "  have MentHlth       66057    73920"
      ]
     },
     "metadata": {},
     "output_type": "display_data"
    }
   ],
   "source": [
    "MentHlth_table"
   ]
  },
  {
   "cell_type": "code",
   "execution_count": 263,
   "id": "371638c6-944d-488b-bb93-59aba62b03e0",
   "metadata": {},
   "outputs": [
    {
     "data": {
      "image/png": "[encoded data removed]",
      "text/plain": [
       "plot without title"
      ]
     },
     "metadata": {
      "image/png": {
       "height": 420,
       "width": 420
      }
     },
     "output_type": "display_data"
    }
   ],
   "source": [
    "plot_stack_bar_2x2(MentHlth_table)"
   ]
  },
  {
   "cell_type": "code",
   "execution_count": 264,
   "id": "431a6c28-3316-45d8-aa2b-3a0693db5314",
   "metadata": {},
   "outputs": [
    {
     "data": {
      "text/html": [
       "<style>\n",
       ".dl-inline {width: auto; margin:0; padding: 0}\n",
       ".dl-inline>dt, .dl-inline>dd {float: none; width: auto; display: inline-block}\n",
       ".dl-inline>dt::after {content: \":\\0020\"; padding-right: .5ex}\n",
       ".dl-inline>dt:not(:first-of-type) {padding-left: .5ex}\n",
       "</style><dl class=dl-inline><dt>odds ratio</dt><dd>1.18051815574432</dd><dt>lwr.ci</dt><dd>1.1655896105832</dd><dt>upr.ci</dt><dd>1.19563790152923</dd></dl>\n"
      ],
      "text/latex": [
       "\\begin{description*}\n",
       "\\item[odds ratio] 1.18051815574432\n",
       "\\item[lwr.ci] 1.1655896105832\n",
       "\\item[upr.ci] 1.19563790152923\n",
       "\\end{description*}\n"
      ],
      "text/markdown": [
       "odds ratio\n",
       ":   1.18051815574432lwr.ci\n",
       ":   1.1655896105832upr.ci\n",
       ":   1.19563790152923\n",
       "\n"
      ],
      "text/plain": [
       "odds ratio     lwr.ci     upr.ci \n",
       "  1.180518   1.165590   1.195638 "
      ]
     },
     "metadata": {},
     "output_type": "display_data"
    }
   ],
   "source": [
    "DescTools::OddsRatio(MentHlth_table, conf.level = 0.95)"
   ]
  },
  {
   "cell_type": "code",
   "execution_count": 265,
   "id": "50b6b4e7-6c0a-4399-bfce-f9d65b216b64",
   "metadata": {},
   "outputs": [],
   "source": [
    "# COMMENT\n",
    "# odd ratio is close to 1\n",
    "# => No creating new binary variable"
   ]
  },
  {
   "cell_type": "markdown",
   "id": "1b9fe2d6-1822-46b3-b32a-3c8ab4194fcf",
   "metadata": {},
   "source": [
    "#### 3.4.3. PhysHlth"
   ]
  },
  {
   "cell_type": "code",
   "execution_count": 266,
   "id": "5b50f212-344e-4717-b1a7-e9acc0aeba7b",
   "metadata": {},
   "outputs": [
    {
     "data": {
      "image/png": "[encoded data removed]",
      "text/plain": [
       "Plot with title \"PhysHlth\""
      ]
     },
     "metadata": {
      "image/png": {
       "height": 420,
       "width": 420
      }
     },
     "output_type": "display_data"
    },
    {
     "data": {
      "image/png": "[encoded data removed]",
      "text/plain": [
       "Plot with title \"PhysHlth\""
      ]
     },
     "metadata": {
      "image/png": {
       "height": 420,
       "width": 420
      }
     },
     "output_type": "display_data"
    }
   ],
   "source": [
    "boxplot(balanced_df$PhysHlth, main = \"PhysHlth\", col = MAIN_COLOR, las = 1, lwd = 2)\n",
    "hist(balanced_df$PhysHlth, main = \"PhysHlth\", xlab = \"Number of day with Physical Health problem in last 30 days\",\n",
    "    col = MAIN_COLOR, las = 1, lwd = 2, xlim = c(0, 30))"
   ]
  },
  {
   "cell_type": "markdown",
   "id": "8baa168a-afdf-486d-a11d-1a9ee0dfc83d",
   "metadata": {},
   "source": [
    "#### Question: The percentage of diabetes people having PhysHlth or not."
   ]
  },
  {
   "cell_type": "code",
   "execution_count": 267,
   "id": "60ef4d5a-a449-4881-a38c-b63598fca474",
   "metadata": {},
   "outputs": [],
   "source": [
    "PhysHlth_table = table(ifelse(balanced_df$PhysHlth > 0, \"have PhysHlth\", \"no PhysHlth\"),\n",
    "      ifelse(balanced_df$Diabetes_binary == 1, \"diabetes\", \"no diabetes\"))"
   ]
  },
  {
   "cell_type": "code",
   "execution_count": 268,
   "id": "3a3689a4-d442-45e7-ba9c-01d0af557d0f",
   "metadata": {},
   "outputs": [],
   "source": [
    "PhysHlth_table = Rev(PhysHlth_table)"
   ]
  },
  {
   "cell_type": "code",
   "execution_count": 269,
   "id": "cabfe8c9-7897-4573-bab1-3ed14a02e7de",
   "metadata": {},
   "outputs": [
    {
     "data": {
      "text/plain": [
       "               \n",
       "                no diabetes diabetes\n",
       "  no PhysHlth        143312   103498\n",
       "  have PhysHlth       75022   114768"
      ]
     },
     "metadata": {},
     "output_type": "display_data"
    }
   ],
   "source": [
    "PhysHlth_table"
   ]
  },
  {
   "cell_type": "code",
   "execution_count": 270,
   "id": "4a12b13a-4036-42d3-b05f-a6d7cff720a0",
   "metadata": {},
   "outputs": [
    {
     "data": {
      "image/png": "[encoded data removed]",
      "text/plain": [
       "plot without title"
      ]
     },
     "metadata": {
      "image/png": {
       "height": 420,
       "width": 420
      }
     },
     "output_type": "display_data"
    }
   ],
   "source": [
    "plot_stack_bar_2x2(PhysHlth_table)"
   ]
  },
  {
   "cell_type": "code",
   "execution_count": 271,
   "id": "22dbda1a-c06a-4cbf-9013-a3d4c0ed0a73",
   "metadata": {},
   "outputs": [
    {
     "data": {
      "text/html": [
       "<style>\n",
       ".dl-inline {width: auto; margin:0; padding: 0}\n",
       ".dl-inline>dt, .dl-inline>dd {float: none; width: auto; display: inline-block}\n",
       ".dl-inline>dt::after {content: \":\\0020\"; padding-right: .5ex}\n",
       ".dl-inline>dt:not(:first-of-type) {padding-left: .5ex}\n",
       "</style><dl class=dl-inline><dt>odds ratio</dt><dd>2.11827711868248</dd><dt>lwr.ci</dt><dd>2.09261198345043</dd><dt>upr.ci</dt><dd>2.14425702759055</dd></dl>\n"
      ],
      "text/latex": [
       "\\begin{description*}\n",
       "\\item[odds ratio] 2.11827711868248\n",
       "\\item[lwr.ci] 2.09261198345043\n",
       "\\item[upr.ci] 2.14425702759055\n",
       "\\end{description*}\n"
      ],
      "text/markdown": [
       "odds ratio\n",
       ":   2.11827711868248lwr.ci\n",
       ":   2.09261198345043upr.ci\n",
       ":   2.14425702759055\n",
       "\n"
      ],
      "text/plain": [
       "odds ratio     lwr.ci     upr.ci \n",
       "  2.118277   2.092612   2.144257 "
      ]
     },
     "metadata": {},
     "output_type": "display_data"
    }
   ],
   "source": [
    "OddsRatio(PhysHlth_table, conf.level = 0.95)"
   ]
  },
  {
   "cell_type": "code",
   "execution_count": 272,
   "id": "f6c34478-cbaf-447a-86ce-0c70d4a0e376",
   "metadata": {},
   "outputs": [],
   "source": [
    "# odds ratio = 2.118 > 1\n",
    "# People have PhysHlth are 2.118 times more likely to have diabetes than others.\n",
    "# => Create a binary variable that to distinguish people having PhysHlth."
   ]
  },
  {
   "cell_type": "code",
   "execution_count": 273,
   "id": "665fb3ab-6711-469f-b032-2f18f7f4991d",
   "metadata": {},
   "outputs": [],
   "source": [
    "if (! \"havePhysHlth\" %in% binary_cols)\n",
    "{\n",
    "    binary_cols = append(binary_cols, \"havePhysHlth\")\n",
    "}"
   ]
  },
  {
   "cell_type": "code",
   "execution_count": 274,
   "id": "a6fb9183-c8d1-4e63-9e4f-ecc33300e002",
   "metadata": {},
   "outputs": [
    {
     "data": {
      "text/html": [
       "<style>\n",
       ".list-inline {list-style: none; margin:0; padding: 0}\n",
       ".list-inline>li {display: inline-block}\n",
       ".list-inline>li:not(:last-child)::after {content: \"\\00b7\"; padding: 0 .5ex}\n",
       "</style>\n",
       "<ol class=list-inline><li>'HighBP'</li><li>'HighChol'</li><li>'CholCheck'</li><li>'Smoker'</li><li>'Stroke'</li><li>'HeartDiseaseorAttack'</li><li>'PhysActivity'</li><li>'Fruits'</li><li>'Veggies'</li><li>'HvyAlcoholConsump'</li><li>'AnyHealthcare'</li><li>'NoDocbcCost'</li><li>'DiffWalk'</li><li>'Sex'</li><li>'BMI_over_45'</li><li>'havePhysHlth'</li></ol>\n"
      ],
      "text/latex": [
       "\\begin{enumerate*}\n",
       "\\item 'HighBP'\n",
       "\\item 'HighChol'\n",
       "\\item 'CholCheck'\n",
       "\\item 'Smoker'\n",
       "\\item 'Stroke'\n",
       "\\item 'HeartDiseaseorAttack'\n",
       "\\item 'PhysActivity'\n",
       "\\item 'Fruits'\n",
       "\\item 'Veggies'\n",
       "\\item 'HvyAlcoholConsump'\n",
       "\\item 'AnyHealthcare'\n",
       "\\item 'NoDocbcCost'\n",
       "\\item 'DiffWalk'\n",
       "\\item 'Sex'\n",
       "\\item 'BMI\\_over\\_45'\n",
       "\\item 'havePhysHlth'\n",
       "\\end{enumerate*}\n"
      ],
      "text/markdown": [
       "1. 'HighBP'\n",
       "2. 'HighChol'\n",
       "3. 'CholCheck'\n",
       "4. 'Smoker'\n",
       "5. 'Stroke'\n",
       "6. 'HeartDiseaseorAttack'\n",
       "7. 'PhysActivity'\n",
       "8. 'Fruits'\n",
       "9. 'Veggies'\n",
       "10. 'HvyAlcoholConsump'\n",
       "11. 'AnyHealthcare'\n",
       "12. 'NoDocbcCost'\n",
       "13. 'DiffWalk'\n",
       "14. 'Sex'\n",
       "15. 'BMI_over_45'\n",
       "16. 'havePhysHlth'\n",
       "\n",
       "\n"
      ],
      "text/plain": [
       " [1] \"HighBP\"               \"HighChol\"             \"CholCheck\"           \n",
       " [4] \"Smoker\"               \"Stroke\"               \"HeartDiseaseorAttack\"\n",
       " [7] \"PhysActivity\"         \"Fruits\"               \"Veggies\"             \n",
       "[10] \"HvyAlcoholConsump\"    \"AnyHealthcare\"        \"NoDocbcCost\"         \n",
       "[13] \"DiffWalk\"             \"Sex\"                  \"BMI_over_45\"         \n",
       "[16] \"havePhysHlth\"        "
      ]
     },
     "metadata": {},
     "output_type": "display_data"
    }
   ],
   "source": [
    "binary_cols"
   ]
  },
  {
   "cell_type": "code",
   "execution_count": 275,
   "id": "9b6f5d3d-1fea-4f5b-b0ac-539b482f0d5d",
   "metadata": {},
   "outputs": [],
   "source": [
    "new_column = as.integer(ifelse(balanced_df$PhysHlth > 0, 1, 0))\n",
    "PhysHlth_index = which(colnames(balanced_df) == \"PhysHlth\")\n",
    "balanced_df = cbind(balanced_df[,1:PhysHlth_index], havePhysHlth = new_column, balanced_df[,(PhysHlth_index+1):ncol(balanced_df)])"
   ]
  },
  {
   "cell_type": "code",
   "execution_count": 276,
   "id": "0c9d5475-0a48-4523-bcdd-e0cacc483eec",
   "metadata": {},
   "outputs": [
    {
     "data": {
      "text/html": [
       "<table class=\"dataframe\">\n",
       "<caption>A data.frame: 436600 × 24</caption>\n",
       "<thead>\n",
       "\t<tr><th></th><th scope=col>HighBP</th><th scope=col>HighChol</th><th scope=col>CholCheck</th><th scope=col>BMI</th><th scope=col>BMI_over_45</th><th scope=col>Smoker</th><th scope=col>Stroke</th><th scope=col>HeartDiseaseorAttack</th><th scope=col>PhysActivity</th><th scope=col>Fruits</th><th scope=col>⋯</th><th scope=col>GenHlth</th><th scope=col>MentHlth</th><th scope=col>PhysHlth</th><th scope=col>havePhysHlth</th><th scope=col>DiffWalk</th><th scope=col>Sex</th><th scope=col>Age</th><th scope=col>Education</th><th scope=col>Income</th><th scope=col>Diabetes_binary</th></tr>\n",
       "\t<tr><th></th><th scope=col>&lt;fct&gt;</th><th scope=col>&lt;fct&gt;</th><th scope=col>&lt;fct&gt;</th><th scope=col>&lt;int&gt;</th><th scope=col>&lt;int&gt;</th><th scope=col>&lt;fct&gt;</th><th scope=col>&lt;fct&gt;</th><th scope=col>&lt;fct&gt;</th><th scope=col>&lt;fct&gt;</th><th scope=col>&lt;fct&gt;</th><th scope=col>⋯</th><th scope=col>&lt;ord&gt;</th><th scope=col>&lt;int&gt;</th><th scope=col>&lt;int&gt;</th><th scope=col>&lt;int&gt;</th><th scope=col>&lt;fct&gt;</th><th scope=col>&lt;fct&gt;</th><th scope=col>&lt;ord&gt;</th><th scope=col>&lt;ord&gt;</th><th scope=col>&lt;ord&gt;</th><th scope=col>&lt;fct&gt;</th></tr>\n",
       "</thead>\n",
       "<tbody>\n",
       "\t<tr><th scope=row>1</th><td>1</td><td>1</td><td>1</td><td>40</td><td>0</td><td>1</td><td>0</td><td>0</td><td>0</td><td>0</td><td>⋯</td><td>5</td><td>18</td><td>15</td><td>1</td><td>1</td><td>0</td><td>9 </td><td>4</td><td>3</td><td>0</td></tr>\n",
       "\t<tr><th scope=row>2</th><td>0</td><td>0</td><td>0</td><td>25</td><td>0</td><td>1</td><td>0</td><td>0</td><td>1</td><td>0</td><td>⋯</td><td>3</td><td> 0</td><td> 0</td><td>0</td><td>0</td><td>0</td><td>7 </td><td>6</td><td>1</td><td>0</td></tr>\n",
       "\t<tr><th scope=row>3</th><td>1</td><td>1</td><td>1</td><td>28</td><td>0</td><td>0</td><td>0</td><td>0</td><td>0</td><td>1</td><td>⋯</td><td>5</td><td>30</td><td>30</td><td>1</td><td>1</td><td>0</td><td>9 </td><td>4</td><td>8</td><td>0</td></tr>\n",
       "\t<tr><th scope=row>4</th><td>1</td><td>0</td><td>1</td><td>27</td><td>0</td><td>0</td><td>0</td><td>0</td><td>1</td><td>1</td><td>⋯</td><td>2</td><td> 0</td><td> 0</td><td>0</td><td>0</td><td>0</td><td>11</td><td>3</td><td>6</td><td>0</td></tr>\n",
       "\t<tr><th scope=row>5</th><td>1</td><td>1</td><td>1</td><td>24</td><td>0</td><td>0</td><td>0</td><td>0</td><td>1</td><td>1</td><td>⋯</td><td>2</td><td> 3</td><td> 0</td><td>0</td><td>0</td><td>0</td><td>11</td><td>5</td><td>4</td><td>0</td></tr>\n",
       "\t<tr><th scope=row>6</th><td>1</td><td>1</td><td>1</td><td>25</td><td>0</td><td>1</td><td>0</td><td>0</td><td>1</td><td>1</td><td>⋯</td><td>2</td><td> 0</td><td> 2</td><td>1</td><td>0</td><td>1</td><td>10</td><td>6</td><td>8</td><td>0</td></tr>\n",
       "\t<tr><th scope=row>7</th><td>1</td><td>0</td><td>1</td><td>30</td><td>0</td><td>1</td><td>0</td><td>0</td><td>0</td><td>0</td><td>⋯</td><td>3</td><td> 0</td><td>14</td><td>1</td><td>0</td><td>0</td><td>9 </td><td>6</td><td>7</td><td>0</td></tr>\n",
       "\t<tr><th scope=row>8</th><td>1</td><td>1</td><td>1</td><td>25</td><td>0</td><td>1</td><td>0</td><td>0</td><td>1</td><td>0</td><td>⋯</td><td>3</td><td> 0</td><td> 0</td><td>0</td><td>1</td><td>0</td><td>11</td><td>4</td><td>4</td><td>0</td></tr>\n",
       "\t<tr><th scope=row>9</th><td>0</td><td>0</td><td>1</td><td>24</td><td>0</td><td>0</td><td>0</td><td>0</td><td>0</td><td>0</td><td>⋯</td><td>2</td><td> 0</td><td> 0</td><td>0</td><td>0</td><td>1</td><td>8 </td><td>4</td><td>3</td><td>0</td></tr>\n",
       "\t<tr><th scope=row>10</th><td>1</td><td>1</td><td>1</td><td>34</td><td>0</td><td>1</td><td>0</td><td>0</td><td>0</td><td>1</td><td>⋯</td><td>3</td><td> 0</td><td>30</td><td>1</td><td>1</td><td>0</td><td>10</td><td>5</td><td>1</td><td>0</td></tr>\n",
       "\t<tr><th scope=row>11</th><td>0</td><td>0</td><td>1</td><td>26</td><td>0</td><td>1</td><td>0</td><td>0</td><td>0</td><td>0</td><td>⋯</td><td>3</td><td> 0</td><td>15</td><td>1</td><td>0</td><td>0</td><td>7 </td><td>5</td><td>7</td><td>0</td></tr>\n",
       "\t<tr><th scope=row>12</th><td>0</td><td>1</td><td>1</td><td>33</td><td>0</td><td>1</td><td>1</td><td>0</td><td>1</td><td>0</td><td>⋯</td><td>4</td><td>30</td><td>28</td><td>1</td><td>0</td><td>0</td><td>4 </td><td>6</td><td>2</td><td>0</td></tr>\n",
       "\t<tr><th scope=row>13</th><td>1</td><td>0</td><td>1</td><td>33</td><td>0</td><td>0</td><td>0</td><td>0</td><td>1</td><td>0</td><td>⋯</td><td>2</td><td> 5</td><td> 0</td><td>0</td><td>0</td><td>0</td><td>6 </td><td>6</td><td>8</td><td>0</td></tr>\n",
       "\t<tr><th scope=row>14</th><td>1</td><td>1</td><td>1</td><td>21</td><td>0</td><td>0</td><td>0</td><td>0</td><td>1</td><td>1</td><td>⋯</td><td>3</td><td> 0</td><td> 0</td><td>0</td><td>0</td><td>0</td><td>10</td><td>4</td><td>3</td><td>0</td></tr>\n",
       "\t<tr><th scope=row>15</th><td>0</td><td>0</td><td>0</td><td>23</td><td>0</td><td>0</td><td>0</td><td>0</td><td>0</td><td>0</td><td>⋯</td><td>2</td><td>15</td><td> 0</td><td>0</td><td>0</td><td>0</td><td>2 </td><td>6</td><td>7</td><td>0</td></tr>\n",
       "\t<tr><th scope=row>16</th><td>0</td><td>1</td><td>1</td><td>28</td><td>0</td><td>0</td><td>0</td><td>0</td><td>0</td><td>0</td><td>⋯</td><td>2</td><td>10</td><td> 0</td><td>0</td><td>0</td><td>1</td><td>4 </td><td>6</td><td>8</td><td>0</td></tr>\n",
       "\t<tr><th scope=row>17</th><td>1</td><td>1</td><td>1</td><td>22</td><td>0</td><td>0</td><td>1</td><td>1</td><td>0</td><td>1</td><td>⋯</td><td>3</td><td>30</td><td> 0</td><td>0</td><td>1</td><td>0</td><td>12</td><td>4</td><td>4</td><td>0</td></tr>\n",
       "\t<tr><th scope=row>18</th><td>1</td><td>1</td><td>1</td><td>38</td><td>0</td><td>1</td><td>0</td><td>0</td><td>0</td><td>1</td><td>⋯</td><td>5</td><td>15</td><td>30</td><td>1</td><td>1</td><td>0</td><td>13</td><td>2</td><td>3</td><td>0</td></tr>\n",
       "\t<tr><th scope=row>19</th><td>0</td><td>0</td><td>1</td><td>28</td><td>0</td><td>1</td><td>0</td><td>0</td><td>0</td><td>0</td><td>⋯</td><td>3</td><td> 0</td><td> 7</td><td>1</td><td>0</td><td>1</td><td>5 </td><td>5</td><td>5</td><td>0</td></tr>\n",
       "\t<tr><th scope=row>20</th><td>1</td><td>1</td><td>1</td><td>28</td><td>0</td><td>1</td><td>0</td><td>0</td><td>0</td><td>1</td><td>⋯</td><td>3</td><td> 6</td><td> 0</td><td>0</td><td>1</td><td>0</td><td>9 </td><td>4</td><td>6</td><td>0</td></tr>\n",
       "\t<tr><th scope=row>21</th><td>0</td><td>0</td><td>1</td><td>32</td><td>0</td><td>0</td><td>0</td><td>0</td><td>1</td><td>1</td><td>⋯</td><td>2</td><td> 0</td><td> 0</td><td>0</td><td>0</td><td>0</td><td>5 </td><td>6</td><td>8</td><td>0</td></tr>\n",
       "\t<tr><th scope=row>22</th><td>0</td><td>1</td><td>1</td><td>31</td><td>0</td><td>1</td><td>0</td><td>0</td><td>1</td><td>1</td><td>⋯</td><td>1</td><td> 0</td><td> 0</td><td>0</td><td>0</td><td>1</td><td>12</td><td>6</td><td>8</td><td>0</td></tr>\n",
       "\t<tr><th scope=row>23</th><td>1</td><td>0</td><td>1</td><td>33</td><td>0</td><td>1</td><td>0</td><td>0</td><td>1</td><td>1</td><td>⋯</td><td>1</td><td> 0</td><td> 0</td><td>0</td><td>1</td><td>1</td><td>13</td><td>3</td><td>3</td><td>0</td></tr>\n",
       "\t<tr><th scope=row>24</th><td>0</td><td>0</td><td>1</td><td>23</td><td>0</td><td>0</td><td>0</td><td>0</td><td>1</td><td>1</td><td>⋯</td><td>1</td><td> 2</td><td> 0</td><td>0</td><td>0</td><td>0</td><td>6 </td><td>4</td><td>8</td><td>0</td></tr>\n",
       "\t<tr><th scope=row>25</th><td>1</td><td>0</td><td>1</td><td>31</td><td>0</td><td>0</td><td>0</td><td>0</td><td>1</td><td>0</td><td>⋯</td><td>3</td><td> 0</td><td> 0</td><td>0</td><td>0</td><td>1</td><td>11</td><td>6</td><td>2</td><td>0</td></tr>\n",
       "\t<tr><th scope=row>26</th><td>1</td><td>0</td><td>1</td><td>26</td><td>0</td><td>0</td><td>0</td><td>0</td><td>1</td><td>1</td><td>⋯</td><td>2</td><td> 0</td><td> 0</td><td>0</td><td>0</td><td>0</td><td>9 </td><td>4</td><td>4</td><td>0</td></tr>\n",
       "\t<tr><th scope=row>27</th><td>1</td><td>1</td><td>1</td><td>24</td><td>0</td><td>1</td><td>0</td><td>0</td><td>1</td><td>0</td><td>⋯</td><td>3</td><td> 5</td><td> 3</td><td>1</td><td>1</td><td>1</td><td>8 </td><td>4</td><td>3</td><td>0</td></tr>\n",
       "\t<tr><th scope=row>28</th><td>0</td><td>0</td><td>1</td><td>22</td><td>0</td><td>0</td><td>0</td><td>0</td><td>1</td><td>1</td><td>⋯</td><td>2</td><td> 0</td><td>10</td><td>1</td><td>0</td><td>0</td><td>12</td><td>5</td><td>7</td><td>0</td></tr>\n",
       "\t<tr><th scope=row>29</th><td>0</td><td>0</td><td>1</td><td>26</td><td>0</td><td>1</td><td>0</td><td>0</td><td>1</td><td>1</td><td>⋯</td><td>1</td><td> 0</td><td> 1</td><td>1</td><td>0</td><td>1</td><td>4 </td><td>5</td><td>3</td><td>0</td></tr>\n",
       "\t<tr><th scope=row>30</th><td>1</td><td>1</td><td>1</td><td>24</td><td>0</td><td>1</td><td>0</td><td>0</td><td>0</td><td>1</td><td>⋯</td><td>5</td><td> 0</td><td>30</td><td>1</td><td>0</td><td>1</td><td>9 </td><td>3</td><td>1</td><td>0</td></tr>\n",
       "\t<tr><th scope=row>⋮</th><td>⋮</td><td>⋮</td><td>⋮</td><td>⋮</td><td>⋮</td><td>⋮</td><td>⋮</td><td>⋮</td><td>⋮</td><td>⋮</td><td>⋱</td><td>⋮</td><td>⋮</td><td>⋮</td><td>⋮</td><td>⋮</td><td>⋮</td><td>⋮</td><td>⋮</td><td>⋮</td><td>⋮</td></tr>\n",
       "\t<tr><th scope=row>436571</th><td>1</td><td>1</td><td>1</td><td>29</td><td>0</td><td>0</td><td>0</td><td>0</td><td>1</td><td>0</td><td>⋯</td><td>3</td><td> 0</td><td> 1</td><td>1</td><td>0</td><td>1</td><td>11</td><td>5</td><td>5</td><td>1</td></tr>\n",
       "\t<tr><th scope=row>436572</th><td>1</td><td>0</td><td>1</td><td>25</td><td>0</td><td>1</td><td>0</td><td>0</td><td>0</td><td>0</td><td>⋯</td><td>4</td><td> 2</td><td> 5</td><td>1</td><td>0</td><td>0</td><td>9 </td><td>5</td><td>4</td><td>1</td></tr>\n",
       "\t<tr><th scope=row>436573</th><td>1</td><td>1</td><td>1</td><td>49</td><td>1</td><td>1</td><td>0</td><td>0</td><td>1</td><td>1</td><td>⋯</td><td>5</td><td>10</td><td> 6</td><td>1</td><td>0</td><td>0</td><td>7 </td><td>4</td><td>2</td><td>1</td></tr>\n",
       "\t<tr><th scope=row>436574</th><td>0</td><td>1</td><td>1</td><td>37</td><td>0</td><td>1</td><td>0</td><td>0</td><td>1</td><td>0</td><td>⋯</td><td>2</td><td> 0</td><td> 0</td><td>0</td><td>0</td><td>1</td><td>8 </td><td>4</td><td>8</td><td>1</td></tr>\n",
       "\t<tr><th scope=row>436575</th><td>0</td><td>1</td><td>1</td><td>34</td><td>0</td><td>1</td><td>0</td><td>1</td><td>0</td><td>1</td><td>⋯</td><td>4</td><td> 0</td><td> 0</td><td>0</td><td>0</td><td>0</td><td>12</td><td>4</td><td>5</td><td>1</td></tr>\n",
       "\t<tr><th scope=row>436576</th><td>0</td><td>1</td><td>1</td><td>34</td><td>0</td><td>0</td><td>0</td><td>0</td><td>0</td><td>1</td><td>⋯</td><td>4</td><td> 0</td><td> 3</td><td>1</td><td>1</td><td>0</td><td>10</td><td>6</td><td>4</td><td>1</td></tr>\n",
       "\t<tr><th scope=row>436577</th><td>1</td><td>1</td><td>1</td><td>33</td><td>0</td><td>0</td><td>0</td><td>0</td><td>1</td><td>1</td><td>⋯</td><td>3</td><td> 0</td><td> 0</td><td>0</td><td>0</td><td>0</td><td>3 </td><td>6</td><td>8</td><td>1</td></tr>\n",
       "\t<tr><th scope=row>436578</th><td>1</td><td>1</td><td>1</td><td>45</td><td>0</td><td>1</td><td>0</td><td>1</td><td>0</td><td>0</td><td>⋯</td><td>3</td><td> 5</td><td>15</td><td>1</td><td>1</td><td>0</td><td>10</td><td>4</td><td>3</td><td>1</td></tr>\n",
       "\t<tr><th scope=row>436579</th><td>1</td><td>1</td><td>1</td><td>30</td><td>0</td><td>0</td><td>0</td><td>0</td><td>0</td><td>1</td><td>⋯</td><td>5</td><td>25</td><td>30</td><td>1</td><td>1</td><td>1</td><td>7 </td><td>6</td><td>2</td><td>1</td></tr>\n",
       "\t<tr><th scope=row>436580</th><td>1</td><td>0</td><td>1</td><td>29</td><td>0</td><td>0</td><td>0</td><td>0</td><td>1</td><td>1</td><td>⋯</td><td>1</td><td> 0</td><td> 1</td><td>1</td><td>0</td><td>0</td><td>10</td><td>6</td><td>8</td><td>1</td></tr>\n",
       "\t<tr><th scope=row>436581</th><td>1</td><td>1</td><td>1</td><td>30</td><td>0</td><td>0</td><td>0</td><td>0</td><td>1</td><td>1</td><td>⋯</td><td>4</td><td>30</td><td> 3</td><td>1</td><td>0</td><td>0</td><td>5 </td><td>6</td><td>7</td><td>1</td></tr>\n",
       "\t<tr><th scope=row>436582</th><td>1</td><td>1</td><td>1</td><td>27</td><td>0</td><td>0</td><td>1</td><td>1</td><td>1</td><td>0</td><td>⋯</td><td>3</td><td> 0</td><td> 1</td><td>1</td><td>0</td><td>1</td><td>13</td><td>5</td><td>8</td><td>1</td></tr>\n",
       "\t<tr><th scope=row>436583</th><td>1</td><td>1</td><td>1</td><td>33</td><td>0</td><td>1</td><td>0</td><td>0</td><td>0</td><td>0</td><td>⋯</td><td>4</td><td> 0</td><td>28</td><td>1</td><td>1</td><td>1</td><td>13</td><td>3</td><td>7</td><td>1</td></tr>\n",
       "\t<tr><th scope=row>436584</th><td>1</td><td>0</td><td>1</td><td>28</td><td>0</td><td>0</td><td>0</td><td>0</td><td>1</td><td>1</td><td>⋯</td><td>2</td><td> 0</td><td> 0</td><td>0</td><td>0</td><td>0</td><td>10</td><td>3</td><td>2</td><td>1</td></tr>\n",
       "\t<tr><th scope=row>436585</th><td>1</td><td>1</td><td>1</td><td>27</td><td>0</td><td>0</td><td>0</td><td>0</td><td>0</td><td>1</td><td>⋯</td><td>5</td><td> 0</td><td>30</td><td>1</td><td>0</td><td>0</td><td>13</td><td>6</td><td>3</td><td>1</td></tr>\n",
       "\t<tr><th scope=row>436586</th><td>0</td><td>1</td><td>1</td><td>35</td><td>0</td><td>0</td><td>0</td><td>0</td><td>0</td><td>0</td><td>⋯</td><td>3</td><td> 0</td><td> 5</td><td>1</td><td>0</td><td>0</td><td>2 </td><td>6</td><td>7</td><td>1</td></tr>\n",
       "\t<tr><th scope=row>436587</th><td>1</td><td>1</td><td>1</td><td>26</td><td>0</td><td>0</td><td>0</td><td>1</td><td>1</td><td>0</td><td>⋯</td><td>5</td><td> 0</td><td> 0</td><td>0</td><td>1</td><td>0</td><td>11</td><td>4</td><td>4</td><td>1</td></tr>\n",
       "\t<tr><th scope=row>436588</th><td>0</td><td>0</td><td>1</td><td>27</td><td>0</td><td>1</td><td>0</td><td>0</td><td>1</td><td>1</td><td>⋯</td><td>4</td><td> 0</td><td> 0</td><td>0</td><td>0</td><td>1</td><td>9 </td><td>2</td><td>2</td><td>1</td></tr>\n",
       "\t<tr><th scope=row>436589</th><td>1</td><td>0</td><td>1</td><td>38</td><td>0</td><td>0</td><td>0</td><td>0</td><td>1</td><td>1</td><td>⋯</td><td>4</td><td> 0</td><td> 0</td><td>0</td><td>0</td><td>0</td><td>6 </td><td>6</td><td>3</td><td>1</td></tr>\n",
       "\t<tr><th scope=row>436590</th><td>1</td><td>1</td><td>1</td><td>36</td><td>0</td><td>0</td><td>0</td><td>0</td><td>0</td><td>1</td><td>⋯</td><td>2</td><td> 4</td><td>10</td><td>1</td><td>0</td><td>1</td><td>8 </td><td>6</td><td>7</td><td>1</td></tr>\n",
       "\t<tr><th scope=row>436591</th><td>1</td><td>0</td><td>1</td><td>26</td><td>0</td><td>1</td><td>0</td><td>0</td><td>0</td><td>0</td><td>⋯</td><td>5</td><td> 0</td><td>30</td><td>1</td><td>1</td><td>1</td><td>6 </td><td>4</td><td>1</td><td>1</td></tr>\n",
       "\t<tr><th scope=row>436592</th><td>1</td><td>1</td><td>1</td><td>28</td><td>0</td><td>0</td><td>0</td><td>0</td><td>1</td><td>0</td><td>⋯</td><td>2</td><td> 0</td><td> 2</td><td>1</td><td>0</td><td>1</td><td>11</td><td>4</td><td>4</td><td>1</td></tr>\n",
       "\t<tr><th scope=row>436593</th><td>1</td><td>1</td><td>1</td><td>30</td><td>0</td><td>1</td><td>0</td><td>0</td><td>1</td><td>1</td><td>⋯</td><td>2</td><td> 0</td><td> 0</td><td>0</td><td>1</td><td>1</td><td>13</td><td>6</td><td>7</td><td>1</td></tr>\n",
       "\t<tr><th scope=row>436594</th><td>0</td><td>1</td><td>1</td><td>26</td><td>0</td><td>0</td><td>0</td><td>0</td><td>1</td><td>1</td><td>⋯</td><td>3</td><td> 0</td><td> 0</td><td>0</td><td>0</td><td>0</td><td>9 </td><td>6</td><td>1</td><td>1</td></tr>\n",
       "\t<tr><th scope=row>436595</th><td>1</td><td>1</td><td>1</td><td>42</td><td>0</td><td>1</td><td>0</td><td>1</td><td>0</td><td>0</td><td>⋯</td><td>5</td><td>30</td><td>30</td><td>1</td><td>1</td><td>1</td><td>12</td><td>3</td><td>3</td><td>1</td></tr>\n",
       "\t<tr><th scope=row>436596</th><td>0</td><td>1</td><td>1</td><td>35</td><td>0</td><td>1</td><td>0</td><td>0</td><td>1</td><td>1</td><td>⋯</td><td>3</td><td> 0</td><td> 2</td><td>1</td><td>0</td><td>0</td><td>8 </td><td>5</td><td>8</td><td>1</td></tr>\n",
       "\t<tr><th scope=row>436597</th><td>0</td><td>0</td><td>1</td><td>20</td><td>0</td><td>0</td><td>0</td><td>0</td><td>1</td><td>1</td><td>⋯</td><td>1</td><td> 0</td><td> 0</td><td>0</td><td>0</td><td>1</td><td>10</td><td>4</td><td>7</td><td>1</td></tr>\n",
       "\t<tr><th scope=row>436598</th><td>1</td><td>1</td><td>1</td><td>42</td><td>0</td><td>0</td><td>0</td><td>0</td><td>1</td><td>1</td><td>⋯</td><td>3</td><td>30</td><td>20</td><td>1</td><td>0</td><td>0</td><td>8 </td><td>6</td><td>5</td><td>1</td></tr>\n",
       "\t<tr><th scope=row>436599</th><td>1</td><td>1</td><td>1</td><td>28</td><td>0</td><td>0</td><td>0</td><td>0</td><td>1</td><td>0</td><td>⋯</td><td>2</td><td> 0</td><td> 0</td><td>0</td><td>0</td><td>1</td><td>11</td><td>6</td><td>8</td><td>1</td></tr>\n",
       "\t<tr><th scope=row>436600</th><td>0</td><td>0</td><td>1</td><td>30</td><td>0</td><td>1</td><td>0</td><td>0</td><td>1</td><td>1</td><td>⋯</td><td>3</td><td> 0</td><td> 6</td><td>1</td><td>1</td><td>0</td><td>6 </td><td>5</td><td>3</td><td>1</td></tr>\n",
       "</tbody>\n",
       "</table>\n"
      ],
      "text/latex": [
       "A data.frame: 436600 × 24\n",
       "\\begin{tabular}{r|lllllllllllllllllllll}\n",
       "  & HighBP & HighChol & CholCheck & BMI & BMI\\_over\\_45 & Smoker & Stroke & HeartDiseaseorAttack & PhysActivity & Fruits & ⋯ & GenHlth & MentHlth & PhysHlth & havePhysHlth & DiffWalk & Sex & Age & Education & Income & Diabetes\\_binary\\\\\n",
       "  & <fct> & <fct> & <fct> & <int> & <int> & <fct> & <fct> & <fct> & <fct> & <fct> & ⋯ & <ord> & <int> & <int> & <int> & <fct> & <fct> & <ord> & <ord> & <ord> & <fct>\\\\\n",
       "\\hline\n",
       "\t1 & 1 & 1 & 1 & 40 & 0 & 1 & 0 & 0 & 0 & 0 & ⋯ & 5 & 18 & 15 & 1 & 1 & 0 & 9  & 4 & 3 & 0\\\\\n",
       "\t2 & 0 & 0 & 0 & 25 & 0 & 1 & 0 & 0 & 1 & 0 & ⋯ & 3 &  0 &  0 & 0 & 0 & 0 & 7  & 6 & 1 & 0\\\\\n",
       "\t3 & 1 & 1 & 1 & 28 & 0 & 0 & 0 & 0 & 0 & 1 & ⋯ & 5 & 30 & 30 & 1 & 1 & 0 & 9  & 4 & 8 & 0\\\\\n",
       "\t4 & 1 & 0 & 1 & 27 & 0 & 0 & 0 & 0 & 1 & 1 & ⋯ & 2 &  0 &  0 & 0 & 0 & 0 & 11 & 3 & 6 & 0\\\\\n",
       "\t5 & 1 & 1 & 1 & 24 & 0 & 0 & 0 & 0 & 1 & 1 & ⋯ & 2 &  3 &  0 & 0 & 0 & 0 & 11 & 5 & 4 & 0\\\\\n",
       "\t6 & 1 & 1 & 1 & 25 & 0 & 1 & 0 & 0 & 1 & 1 & ⋯ & 2 &  0 &  2 & 1 & 0 & 1 & 10 & 6 & 8 & 0\\\\\n",
       "\t7 & 1 & 0 & 1 & 30 & 0 & 1 & 0 & 0 & 0 & 0 & ⋯ & 3 &  0 & 14 & 1 & 0 & 0 & 9  & 6 & 7 & 0\\\\\n",
       "\t8 & 1 & 1 & 1 & 25 & 0 & 1 & 0 & 0 & 1 & 0 & ⋯ & 3 &  0 &  0 & 0 & 1 & 0 & 11 & 4 & 4 & 0\\\\\n",
       "\t9 & 0 & 0 & 1 & 24 & 0 & 0 & 0 & 0 & 0 & 0 & ⋯ & 2 &  0 &  0 & 0 & 0 & 1 & 8  & 4 & 3 & 0\\\\\n",
       "\t10 & 1 & 1 & 1 & 34 & 0 & 1 & 0 & 0 & 0 & 1 & ⋯ & 3 &  0 & 30 & 1 & 1 & 0 & 10 & 5 & 1 & 0\\\\\n",
       "\t11 & 0 & 0 & 1 & 26 & 0 & 1 & 0 & 0 & 0 & 0 & ⋯ & 3 &  0 & 15 & 1 & 0 & 0 & 7  & 5 & 7 & 0\\\\\n",
       "\t12 & 0 & 1 & 1 & 33 & 0 & 1 & 1 & 0 & 1 & 0 & ⋯ & 4 & 30 & 28 & 1 & 0 & 0 & 4  & 6 & 2 & 0\\\\\n",
       "\t13 & 1 & 0 & 1 & 33 & 0 & 0 & 0 & 0 & 1 & 0 & ⋯ & 2 &  5 &  0 & 0 & 0 & 0 & 6  & 6 & 8 & 0\\\\\n",
       "\t14 & 1 & 1 & 1 & 21 & 0 & 0 & 0 & 0 & 1 & 1 & ⋯ & 3 &  0 &  0 & 0 & 0 & 0 & 10 & 4 & 3 & 0\\\\\n",
       "\t15 & 0 & 0 & 0 & 23 & 0 & 0 & 0 & 0 & 0 & 0 & ⋯ & 2 & 15 &  0 & 0 & 0 & 0 & 2  & 6 & 7 & 0\\\\\n",
       "\t16 & 0 & 1 & 1 & 28 & 0 & 0 & 0 & 0 & 0 & 0 & ⋯ & 2 & 10 &  0 & 0 & 0 & 1 & 4  & 6 & 8 & 0\\\\\n",
       "\t17 & 1 & 1 & 1 & 22 & 0 & 0 & 1 & 1 & 0 & 1 & ⋯ & 3 & 30 &  0 & 0 & 1 & 0 & 12 & 4 & 4 & 0\\\\\n",
       "\t18 & 1 & 1 & 1 & 38 & 0 & 1 & 0 & 0 & 0 & 1 & ⋯ & 5 & 15 & 30 & 1 & 1 & 0 & 13 & 2 & 3 & 0\\\\\n",
       "\t19 & 0 & 0 & 1 & 28 & 0 & 1 & 0 & 0 & 0 & 0 & ⋯ & 3 &  0 &  7 & 1 & 0 & 1 & 5  & 5 & 5 & 0\\\\\n",
       "\t20 & 1 & 1 & 1 & 28 & 0 & 1 & 0 & 0 & 0 & 1 & ⋯ & 3 &  6 &  0 & 0 & 1 & 0 & 9  & 4 & 6 & 0\\\\\n",
       "\t21 & 0 & 0 & 1 & 32 & 0 & 0 & 0 & 0 & 1 & 1 & ⋯ & 2 &  0 &  0 & 0 & 0 & 0 & 5  & 6 & 8 & 0\\\\\n",
       "\t22 & 0 & 1 & 1 & 31 & 0 & 1 & 0 & 0 & 1 & 1 & ⋯ & 1 &  0 &  0 & 0 & 0 & 1 & 12 & 6 & 8 & 0\\\\\n",
       "\t23 & 1 & 0 & 1 & 33 & 0 & 1 & 0 & 0 & 1 & 1 & ⋯ & 1 &  0 &  0 & 0 & 1 & 1 & 13 & 3 & 3 & 0\\\\\n",
       "\t24 & 0 & 0 & 1 & 23 & 0 & 0 & 0 & 0 & 1 & 1 & ⋯ & 1 &  2 &  0 & 0 & 0 & 0 & 6  & 4 & 8 & 0\\\\\n",
       "\t25 & 1 & 0 & 1 & 31 & 0 & 0 & 0 & 0 & 1 & 0 & ⋯ & 3 &  0 &  0 & 0 & 0 & 1 & 11 & 6 & 2 & 0\\\\\n",
       "\t26 & 1 & 0 & 1 & 26 & 0 & 0 & 0 & 0 & 1 & 1 & ⋯ & 2 &  0 &  0 & 0 & 0 & 0 & 9  & 4 & 4 & 0\\\\\n",
       "\t27 & 1 & 1 & 1 & 24 & 0 & 1 & 0 & 0 & 1 & 0 & ⋯ & 3 &  5 &  3 & 1 & 1 & 1 & 8  & 4 & 3 & 0\\\\\n",
       "\t28 & 0 & 0 & 1 & 22 & 0 & 0 & 0 & 0 & 1 & 1 & ⋯ & 2 &  0 & 10 & 1 & 0 & 0 & 12 & 5 & 7 & 0\\\\\n",
       "\t29 & 0 & 0 & 1 & 26 & 0 & 1 & 0 & 0 & 1 & 1 & ⋯ & 1 &  0 &  1 & 1 & 0 & 1 & 4  & 5 & 3 & 0\\\\\n",
       "\t30 & 1 & 1 & 1 & 24 & 0 & 1 & 0 & 0 & 0 & 1 & ⋯ & 5 &  0 & 30 & 1 & 0 & 1 & 9  & 3 & 1 & 0\\\\\n",
       "\t⋮ & ⋮ & ⋮ & ⋮ & ⋮ & ⋮ & ⋮ & ⋮ & ⋮ & ⋮ & ⋮ & ⋱ & ⋮ & ⋮ & ⋮ & ⋮ & ⋮ & ⋮ & ⋮ & ⋮ & ⋮ & ⋮\\\\\n",
       "\t436571 & 1 & 1 & 1 & 29 & 0 & 0 & 0 & 0 & 1 & 0 & ⋯ & 3 &  0 &  1 & 1 & 0 & 1 & 11 & 5 & 5 & 1\\\\\n",
       "\t436572 & 1 & 0 & 1 & 25 & 0 & 1 & 0 & 0 & 0 & 0 & ⋯ & 4 &  2 &  5 & 1 & 0 & 0 & 9  & 5 & 4 & 1\\\\\n",
       "\t436573 & 1 & 1 & 1 & 49 & 1 & 1 & 0 & 0 & 1 & 1 & ⋯ & 5 & 10 &  6 & 1 & 0 & 0 & 7  & 4 & 2 & 1\\\\\n",
       "\t436574 & 0 & 1 & 1 & 37 & 0 & 1 & 0 & 0 & 1 & 0 & ⋯ & 2 &  0 &  0 & 0 & 0 & 1 & 8  & 4 & 8 & 1\\\\\n",
       "\t436575 & 0 & 1 & 1 & 34 & 0 & 1 & 0 & 1 & 0 & 1 & ⋯ & 4 &  0 &  0 & 0 & 0 & 0 & 12 & 4 & 5 & 1\\\\\n",
       "\t436576 & 0 & 1 & 1 & 34 & 0 & 0 & 0 & 0 & 0 & 1 & ⋯ & 4 &  0 &  3 & 1 & 1 & 0 & 10 & 6 & 4 & 1\\\\\n",
       "\t436577 & 1 & 1 & 1 & 33 & 0 & 0 & 0 & 0 & 1 & 1 & ⋯ & 3 &  0 &  0 & 0 & 0 & 0 & 3  & 6 & 8 & 1\\\\\n",
       "\t436578 & 1 & 1 & 1 & 45 & 0 & 1 & 0 & 1 & 0 & 0 & ⋯ & 3 &  5 & 15 & 1 & 1 & 0 & 10 & 4 & 3 & 1\\\\\n",
       "\t436579 & 1 & 1 & 1 & 30 & 0 & 0 & 0 & 0 & 0 & 1 & ⋯ & 5 & 25 & 30 & 1 & 1 & 1 & 7  & 6 & 2 & 1\\\\\n",
       "\t436580 & 1 & 0 & 1 & 29 & 0 & 0 & 0 & 0 & 1 & 1 & ⋯ & 1 &  0 &  1 & 1 & 0 & 0 & 10 & 6 & 8 & 1\\\\\n",
       "\t436581 & 1 & 1 & 1 & 30 & 0 & 0 & 0 & 0 & 1 & 1 & ⋯ & 4 & 30 &  3 & 1 & 0 & 0 & 5  & 6 & 7 & 1\\\\\n",
       "\t436582 & 1 & 1 & 1 & 27 & 0 & 0 & 1 & 1 & 1 & 0 & ⋯ & 3 &  0 &  1 & 1 & 0 & 1 & 13 & 5 & 8 & 1\\\\\n",
       "\t436583 & 1 & 1 & 1 & 33 & 0 & 1 & 0 & 0 & 0 & 0 & ⋯ & 4 &  0 & 28 & 1 & 1 & 1 & 13 & 3 & 7 & 1\\\\\n",
       "\t436584 & 1 & 0 & 1 & 28 & 0 & 0 & 0 & 0 & 1 & 1 & ⋯ & 2 &  0 &  0 & 0 & 0 & 0 & 10 & 3 & 2 & 1\\\\\n",
       "\t436585 & 1 & 1 & 1 & 27 & 0 & 0 & 0 & 0 & 0 & 1 & ⋯ & 5 &  0 & 30 & 1 & 0 & 0 & 13 & 6 & 3 & 1\\\\\n",
       "\t436586 & 0 & 1 & 1 & 35 & 0 & 0 & 0 & 0 & 0 & 0 & ⋯ & 3 &  0 &  5 & 1 & 0 & 0 & 2  & 6 & 7 & 1\\\\\n",
       "\t436587 & 1 & 1 & 1 & 26 & 0 & 0 & 0 & 1 & 1 & 0 & ⋯ & 5 &  0 &  0 & 0 & 1 & 0 & 11 & 4 & 4 & 1\\\\\n",
       "\t436588 & 0 & 0 & 1 & 27 & 0 & 1 & 0 & 0 & 1 & 1 & ⋯ & 4 &  0 &  0 & 0 & 0 & 1 & 9  & 2 & 2 & 1\\\\\n",
       "\t436589 & 1 & 0 & 1 & 38 & 0 & 0 & 0 & 0 & 1 & 1 & ⋯ & 4 &  0 &  0 & 0 & 0 & 0 & 6  & 6 & 3 & 1\\\\\n",
       "\t436590 & 1 & 1 & 1 & 36 & 0 & 0 & 0 & 0 & 0 & 1 & ⋯ & 2 &  4 & 10 & 1 & 0 & 1 & 8  & 6 & 7 & 1\\\\\n",
       "\t436591 & 1 & 0 & 1 & 26 & 0 & 1 & 0 & 0 & 0 & 0 & ⋯ & 5 &  0 & 30 & 1 & 1 & 1 & 6  & 4 & 1 & 1\\\\\n",
       "\t436592 & 1 & 1 & 1 & 28 & 0 & 0 & 0 & 0 & 1 & 0 & ⋯ & 2 &  0 &  2 & 1 & 0 & 1 & 11 & 4 & 4 & 1\\\\\n",
       "\t436593 & 1 & 1 & 1 & 30 & 0 & 1 & 0 & 0 & 1 & 1 & ⋯ & 2 &  0 &  0 & 0 & 1 & 1 & 13 & 6 & 7 & 1\\\\\n",
       "\t436594 & 0 & 1 & 1 & 26 & 0 & 0 & 0 & 0 & 1 & 1 & ⋯ & 3 &  0 &  0 & 0 & 0 & 0 & 9  & 6 & 1 & 1\\\\\n",
       "\t436595 & 1 & 1 & 1 & 42 & 0 & 1 & 0 & 1 & 0 & 0 & ⋯ & 5 & 30 & 30 & 1 & 1 & 1 & 12 & 3 & 3 & 1\\\\\n",
       "\t436596 & 0 & 1 & 1 & 35 & 0 & 1 & 0 & 0 & 1 & 1 & ⋯ & 3 &  0 &  2 & 1 & 0 & 0 & 8  & 5 & 8 & 1\\\\\n",
       "\t436597 & 0 & 0 & 1 & 20 & 0 & 0 & 0 & 0 & 1 & 1 & ⋯ & 1 &  0 &  0 & 0 & 0 & 1 & 10 & 4 & 7 & 1\\\\\n",
       "\t436598 & 1 & 1 & 1 & 42 & 0 & 0 & 0 & 0 & 1 & 1 & ⋯ & 3 & 30 & 20 & 1 & 0 & 0 & 8  & 6 & 5 & 1\\\\\n",
       "\t436599 & 1 & 1 & 1 & 28 & 0 & 0 & 0 & 0 & 1 & 0 & ⋯ & 2 &  0 &  0 & 0 & 0 & 1 & 11 & 6 & 8 & 1\\\\\n",
       "\t436600 & 0 & 0 & 1 & 30 & 0 & 1 & 0 & 0 & 1 & 1 & ⋯ & 3 &  0 &  6 & 1 & 1 & 0 & 6  & 5 & 3 & 1\\\\\n",
       "\\end{tabular}\n"
      ],
      "text/markdown": [
       "\n",
       "A data.frame: 436600 × 24\n",
       "\n",
       "| <!--/--> | HighBP &lt;fct&gt; | HighChol &lt;fct&gt; | CholCheck &lt;fct&gt; | BMI &lt;int&gt; | BMI_over_45 &lt;int&gt; | Smoker &lt;fct&gt; | Stroke &lt;fct&gt; | HeartDiseaseorAttack &lt;fct&gt; | PhysActivity &lt;fct&gt; | Fruits &lt;fct&gt; | ⋯ ⋯ | GenHlth &lt;ord&gt; | MentHlth &lt;int&gt; | PhysHlth &lt;int&gt; | havePhysHlth &lt;int&gt; | DiffWalk &lt;fct&gt; | Sex &lt;fct&gt; | Age &lt;ord&gt; | Education &lt;ord&gt; | Income &lt;ord&gt; | Diabetes_binary &lt;fct&gt; |\n",
       "|---|---|---|---|---|---|---|---|---|---|---|---|---|---|---|---|---|---|---|---|---|---|\n",
       "| 1 | 1 | 1 | 1 | 40 | 0 | 1 | 0 | 0 | 0 | 0 | ⋯ | 5 | 18 | 15 | 1 | 1 | 0 | 9  | 4 | 3 | 0 |\n",
       "| 2 | 0 | 0 | 0 | 25 | 0 | 1 | 0 | 0 | 1 | 0 | ⋯ | 3 |  0 |  0 | 0 | 0 | 0 | 7  | 6 | 1 | 0 |\n",
       "| 3 | 1 | 1 | 1 | 28 | 0 | 0 | 0 | 0 | 0 | 1 | ⋯ | 5 | 30 | 30 | 1 | 1 | 0 | 9  | 4 | 8 | 0 |\n",
       "| 4 | 1 | 0 | 1 | 27 | 0 | 0 | 0 | 0 | 1 | 1 | ⋯ | 2 |  0 |  0 | 0 | 0 | 0 | 11 | 3 | 6 | 0 |\n",
       "| 5 | 1 | 1 | 1 | 24 | 0 | 0 | 0 | 0 | 1 | 1 | ⋯ | 2 |  3 |  0 | 0 | 0 | 0 | 11 | 5 | 4 | 0 |\n",
       "| 6 | 1 | 1 | 1 | 25 | 0 | 1 | 0 | 0 | 1 | 1 | ⋯ | 2 |  0 |  2 | 1 | 0 | 1 | 10 | 6 | 8 | 0 |\n",
       "| 7 | 1 | 0 | 1 | 30 | 0 | 1 | 0 | 0 | 0 | 0 | ⋯ | 3 |  0 | 14 | 1 | 0 | 0 | 9  | 6 | 7 | 0 |\n",
       "| 8 | 1 | 1 | 1 | 25 | 0 | 1 | 0 | 0 | 1 | 0 | ⋯ | 3 |  0 |  0 | 0 | 1 | 0 | 11 | 4 | 4 | 0 |\n",
       "| 9 | 0 | 0 | 1 | 24 | 0 | 0 | 0 | 0 | 0 | 0 | ⋯ | 2 |  0 |  0 | 0 | 0 | 1 | 8  | 4 | 3 | 0 |\n",
       "| 10 | 1 | 1 | 1 | 34 | 0 | 1 | 0 | 0 | 0 | 1 | ⋯ | 3 |  0 | 30 | 1 | 1 | 0 | 10 | 5 | 1 | 0 |\n",
       "| 11 | 0 | 0 | 1 | 26 | 0 | 1 | 0 | 0 | 0 | 0 | ⋯ | 3 |  0 | 15 | 1 | 0 | 0 | 7  | 5 | 7 | 0 |\n",
       "| 12 | 0 | 1 | 1 | 33 | 0 | 1 | 1 | 0 | 1 | 0 | ⋯ | 4 | 30 | 28 | 1 | 0 | 0 | 4  | 6 | 2 | 0 |\n",
       "| 13 | 1 | 0 | 1 | 33 | 0 | 0 | 0 | 0 | 1 | 0 | ⋯ | 2 |  5 |  0 | 0 | 0 | 0 | 6  | 6 | 8 | 0 |\n",
       "| 14 | 1 | 1 | 1 | 21 | 0 | 0 | 0 | 0 | 1 | 1 | ⋯ | 3 |  0 |  0 | 0 | 0 | 0 | 10 | 4 | 3 | 0 |\n",
       "| 15 | 0 | 0 | 0 | 23 | 0 | 0 | 0 | 0 | 0 | 0 | ⋯ | 2 | 15 |  0 | 0 | 0 | 0 | 2  | 6 | 7 | 0 |\n",
       "| 16 | 0 | 1 | 1 | 28 | 0 | 0 | 0 | 0 | 0 | 0 | ⋯ | 2 | 10 |  0 | 0 | 0 | 1 | 4  | 6 | 8 | 0 |\n",
       "| 17 | 1 | 1 | 1 | 22 | 0 | 0 | 1 | 1 | 0 | 1 | ⋯ | 3 | 30 |  0 | 0 | 1 | 0 | 12 | 4 | 4 | 0 |\n",
       "| 18 | 1 | 1 | 1 | 38 | 0 | 1 | 0 | 0 | 0 | 1 | ⋯ | 5 | 15 | 30 | 1 | 1 | 0 | 13 | 2 | 3 | 0 |\n",
       "| 19 | 0 | 0 | 1 | 28 | 0 | 1 | 0 | 0 | 0 | 0 | ⋯ | 3 |  0 |  7 | 1 | 0 | 1 | 5  | 5 | 5 | 0 |\n",
       "| 20 | 1 | 1 | 1 | 28 | 0 | 1 | 0 | 0 | 0 | 1 | ⋯ | 3 |  6 |  0 | 0 | 1 | 0 | 9  | 4 | 6 | 0 |\n",
       "| 21 | 0 | 0 | 1 | 32 | 0 | 0 | 0 | 0 | 1 | 1 | ⋯ | 2 |  0 |  0 | 0 | 0 | 0 | 5  | 6 | 8 | 0 |\n",
       "| 22 | 0 | 1 | 1 | 31 | 0 | 1 | 0 | 0 | 1 | 1 | ⋯ | 1 |  0 |  0 | 0 | 0 | 1 | 12 | 6 | 8 | 0 |\n",
       "| 23 | 1 | 0 | 1 | 33 | 0 | 1 | 0 | 0 | 1 | 1 | ⋯ | 1 |  0 |  0 | 0 | 1 | 1 | 13 | 3 | 3 | 0 |\n",
       "| 24 | 0 | 0 | 1 | 23 | 0 | 0 | 0 | 0 | 1 | 1 | ⋯ | 1 |  2 |  0 | 0 | 0 | 0 | 6  | 4 | 8 | 0 |\n",
       "| 25 | 1 | 0 | 1 | 31 | 0 | 0 | 0 | 0 | 1 | 0 | ⋯ | 3 |  0 |  0 | 0 | 0 | 1 | 11 | 6 | 2 | 0 |\n",
       "| 26 | 1 | 0 | 1 | 26 | 0 | 0 | 0 | 0 | 1 | 1 | ⋯ | 2 |  0 |  0 | 0 | 0 | 0 | 9  | 4 | 4 | 0 |\n",
       "| 27 | 1 | 1 | 1 | 24 | 0 | 1 | 0 | 0 | 1 | 0 | ⋯ | 3 |  5 |  3 | 1 | 1 | 1 | 8  | 4 | 3 | 0 |\n",
       "| 28 | 0 | 0 | 1 | 22 | 0 | 0 | 0 | 0 | 1 | 1 | ⋯ | 2 |  0 | 10 | 1 | 0 | 0 | 12 | 5 | 7 | 0 |\n",
       "| 29 | 0 | 0 | 1 | 26 | 0 | 1 | 0 | 0 | 1 | 1 | ⋯ | 1 |  0 |  1 | 1 | 0 | 1 | 4  | 5 | 3 | 0 |\n",
       "| 30 | 1 | 1 | 1 | 24 | 0 | 1 | 0 | 0 | 0 | 1 | ⋯ | 5 |  0 | 30 | 1 | 0 | 1 | 9  | 3 | 1 | 0 |\n",
       "| ⋮ | ⋮ | ⋮ | ⋮ | ⋮ | ⋮ | ⋮ | ⋮ | ⋮ | ⋮ | ⋮ | ⋱ | ⋮ | ⋮ | ⋮ | ⋮ | ⋮ | ⋮ | ⋮ | ⋮ | ⋮ | ⋮ |\n",
       "| 436571 | 1 | 1 | 1 | 29 | 0 | 0 | 0 | 0 | 1 | 0 | ⋯ | 3 |  0 |  1 | 1 | 0 | 1 | 11 | 5 | 5 | 1 |\n",
       "| 436572 | 1 | 0 | 1 | 25 | 0 | 1 | 0 | 0 | 0 | 0 | ⋯ | 4 |  2 |  5 | 1 | 0 | 0 | 9  | 5 | 4 | 1 |\n",
       "| 436573 | 1 | 1 | 1 | 49 | 1 | 1 | 0 | 0 | 1 | 1 | ⋯ | 5 | 10 |  6 | 1 | 0 | 0 | 7  | 4 | 2 | 1 |\n",
       "| 436574 | 0 | 1 | 1 | 37 | 0 | 1 | 0 | 0 | 1 | 0 | ⋯ | 2 |  0 |  0 | 0 | 0 | 1 | 8  | 4 | 8 | 1 |\n",
       "| 436575 | 0 | 1 | 1 | 34 | 0 | 1 | 0 | 1 | 0 | 1 | ⋯ | 4 |  0 |  0 | 0 | 0 | 0 | 12 | 4 | 5 | 1 |\n",
       "| 436576 | 0 | 1 | 1 | 34 | 0 | 0 | 0 | 0 | 0 | 1 | ⋯ | 4 |  0 |  3 | 1 | 1 | 0 | 10 | 6 | 4 | 1 |\n",
       "| 436577 | 1 | 1 | 1 | 33 | 0 | 0 | 0 | 0 | 1 | 1 | ⋯ | 3 |  0 |  0 | 0 | 0 | 0 | 3  | 6 | 8 | 1 |\n",
       "| 436578 | 1 | 1 | 1 | 45 | 0 | 1 | 0 | 1 | 0 | 0 | ⋯ | 3 |  5 | 15 | 1 | 1 | 0 | 10 | 4 | 3 | 1 |\n",
       "| 436579 | 1 | 1 | 1 | 30 | 0 | 0 | 0 | 0 | 0 | 1 | ⋯ | 5 | 25 | 30 | 1 | 1 | 1 | 7  | 6 | 2 | 1 |\n",
       "| 436580 | 1 | 0 | 1 | 29 | 0 | 0 | 0 | 0 | 1 | 1 | ⋯ | 1 |  0 |  1 | 1 | 0 | 0 | 10 | 6 | 8 | 1 |\n",
       "| 436581 | 1 | 1 | 1 | 30 | 0 | 0 | 0 | 0 | 1 | 1 | ⋯ | 4 | 30 |  3 | 1 | 0 | 0 | 5  | 6 | 7 | 1 |\n",
       "| 436582 | 1 | 1 | 1 | 27 | 0 | 0 | 1 | 1 | 1 | 0 | ⋯ | 3 |  0 |  1 | 1 | 0 | 1 | 13 | 5 | 8 | 1 |\n",
       "| 436583 | 1 | 1 | 1 | 33 | 0 | 1 | 0 | 0 | 0 | 0 | ⋯ | 4 |  0 | 28 | 1 | 1 | 1 | 13 | 3 | 7 | 1 |\n",
       "| 436584 | 1 | 0 | 1 | 28 | 0 | 0 | 0 | 0 | 1 | 1 | ⋯ | 2 |  0 |  0 | 0 | 0 | 0 | 10 | 3 | 2 | 1 |\n",
       "| 436585 | 1 | 1 | 1 | 27 | 0 | 0 | 0 | 0 | 0 | 1 | ⋯ | 5 |  0 | 30 | 1 | 0 | 0 | 13 | 6 | 3 | 1 |\n",
       "| 436586 | 0 | 1 | 1 | 35 | 0 | 0 | 0 | 0 | 0 | 0 | ⋯ | 3 |  0 |  5 | 1 | 0 | 0 | 2  | 6 | 7 | 1 |\n",
       "| 436587 | 1 | 1 | 1 | 26 | 0 | 0 | 0 | 1 | 1 | 0 | ⋯ | 5 |  0 |  0 | 0 | 1 | 0 | 11 | 4 | 4 | 1 |\n",
       "| 436588 | 0 | 0 | 1 | 27 | 0 | 1 | 0 | 0 | 1 | 1 | ⋯ | 4 |  0 |  0 | 0 | 0 | 1 | 9  | 2 | 2 | 1 |\n",
       "| 436589 | 1 | 0 | 1 | 38 | 0 | 0 | 0 | 0 | 1 | 1 | ⋯ | 4 |  0 |  0 | 0 | 0 | 0 | 6  | 6 | 3 | 1 |\n",
       "| 436590 | 1 | 1 | 1 | 36 | 0 | 0 | 0 | 0 | 0 | 1 | ⋯ | 2 |  4 | 10 | 1 | 0 | 1 | 8  | 6 | 7 | 1 |\n",
       "| 436591 | 1 | 0 | 1 | 26 | 0 | 1 | 0 | 0 | 0 | 0 | ⋯ | 5 |  0 | 30 | 1 | 1 | 1 | 6  | 4 | 1 | 1 |\n",
       "| 436592 | 1 | 1 | 1 | 28 | 0 | 0 | 0 | 0 | 1 | 0 | ⋯ | 2 |  0 |  2 | 1 | 0 | 1 | 11 | 4 | 4 | 1 |\n",
       "| 436593 | 1 | 1 | 1 | 30 | 0 | 1 | 0 | 0 | 1 | 1 | ⋯ | 2 |  0 |  0 | 0 | 1 | 1 | 13 | 6 | 7 | 1 |\n",
       "| 436594 | 0 | 1 | 1 | 26 | 0 | 0 | 0 | 0 | 1 | 1 | ⋯ | 3 |  0 |  0 | 0 | 0 | 0 | 9  | 6 | 1 | 1 |\n",
       "| 436595 | 1 | 1 | 1 | 42 | 0 | 1 | 0 | 1 | 0 | 0 | ⋯ | 5 | 30 | 30 | 1 | 1 | 1 | 12 | 3 | 3 | 1 |\n",
       "| 436596 | 0 | 1 | 1 | 35 | 0 | 1 | 0 | 0 | 1 | 1 | ⋯ | 3 |  0 |  2 | 1 | 0 | 0 | 8  | 5 | 8 | 1 |\n",
       "| 436597 | 0 | 0 | 1 | 20 | 0 | 0 | 0 | 0 | 1 | 1 | ⋯ | 1 |  0 |  0 | 0 | 0 | 1 | 10 | 4 | 7 | 1 |\n",
       "| 436598 | 1 | 1 | 1 | 42 | 0 | 0 | 0 | 0 | 1 | 1 | ⋯ | 3 | 30 | 20 | 1 | 0 | 0 | 8  | 6 | 5 | 1 |\n",
       "| 436599 | 1 | 1 | 1 | 28 | 0 | 0 | 0 | 0 | 1 | 0 | ⋯ | 2 |  0 |  0 | 0 | 0 | 1 | 11 | 6 | 8 | 1 |\n",
       "| 436600 | 0 | 0 | 1 | 30 | 0 | 1 | 0 | 0 | 1 | 1 | ⋯ | 3 |  0 |  6 | 1 | 1 | 0 | 6  | 5 | 3 | 1 |\n",
       "\n"
      ],
      "text/plain": [
       "       HighBP HighChol CholCheck BMI BMI_over_45 Smoker Stroke\n",
       "1      1      1        1         40  0           1      0     \n",
       "2      0      0        0         25  0           1      0     \n",
       "3      1      1        1         28  0           0      0     \n",
       "4      1      0        1         27  0           0      0     \n",
       "5      1      1        1         24  0           0      0     \n",
       "6      1      1        1         25  0           1      0     \n",
       "7      1      0        1         30  0           1      0     \n",
       "8      1      1        1         25  0           1      0     \n",
       "9      0      0        1         24  0           0      0     \n",
       "10     1      1        1         34  0           1      0     \n",
       "11     0      0        1         26  0           1      0     \n",
       "12     0      1        1         33  0           1      1     \n",
       "13     1      0        1         33  0           0      0     \n",
       "14     1      1        1         21  0           0      0     \n",
       "15     0      0        0         23  0           0      0     \n",
       "16     0      1        1         28  0           0      0     \n",
       "17     1      1        1         22  0           0      1     \n",
       "18     1      1        1         38  0           1      0     \n",
       "19     0      0        1         28  0           1      0     \n",
       "20     1      1        1         28  0           1      0     \n",
       "21     0      0        1         32  0           0      0     \n",
       "22     0      1        1         31  0           1      0     \n",
       "23     1      0        1         33  0           1      0     \n",
       "24     0      0        1         23  0           0      0     \n",
       "25     1      0        1         31  0           0      0     \n",
       "26     1      0        1         26  0           0      0     \n",
       "27     1      1        1         24  0           1      0     \n",
       "28     0      0        1         22  0           0      0     \n",
       "29     0      0        1         26  0           1      0     \n",
       "30     1      1        1         24  0           1      0     \n",
       "<U+22EE>      <U+22EE> <U+22EE> <U+22EE>  <U+22EE> <U+22EE>    <U+22EE> <U+22EE>\n",
       "436571 1      1        1         29  0           0      0     \n",
       "436572 1      0        1         25  0           1      0     \n",
       "436573 1      1        1         49  1           1      0     \n",
       "436574 0      1        1         37  0           1      0     \n",
       "436575 0      1        1         34  0           1      0     \n",
       "436576 0      1        1         34  0           0      0     \n",
       "436577 1      1        1         33  0           0      0     \n",
       "436578 1      1        1         45  0           1      0     \n",
       "436579 1      1        1         30  0           0      0     \n",
       "436580 1      0        1         29  0           0      0     \n",
       "436581 1      1        1         30  0           0      0     \n",
       "436582 1      1        1         27  0           0      1     \n",
       "436583 1      1        1         33  0           1      0     \n",
       "436584 1      0        1         28  0           0      0     \n",
       "436585 1      1        1         27  0           0      0     \n",
       "436586 0      1        1         35  0           0      0     \n",
       "436587 1      1        1         26  0           0      0     \n",
       "436588 0      0        1         27  0           1      0     \n",
       "436589 1      0        1         38  0           0      0     \n",
       "436590 1      1        1         36  0           0      0     \n",
       "436591 1      0        1         26  0           1      0     \n",
       "436592 1      1        1         28  0           0      0     \n",
       "436593 1      1        1         30  0           1      0     \n",
       "436594 0      1        1         26  0           0      0     \n",
       "436595 1      1        1         42  0           1      0     \n",
       "436596 0      1        1         35  0           1      0     \n",
       "436597 0      0        1         20  0           0      0     \n",
       "436598 1      1        1         42  0           0      0     \n",
       "436599 1      1        1         28  0           0      0     \n",
       "436600 0      0        1         30  0           1      0     \n",
       "       HeartDiseaseorAttack PhysActivity Fruits <U+22EF>        GenHlth MentHlth\n",
       "1      0                    0            0      <U+22EF> 5       18      \n",
       "2      0                    1            0      <U+22EF> 3        0      \n",
       "3      0                    0            1      <U+22EF> 5       30      \n",
       "4      0                    1            1      <U+22EF> 2        0      \n",
       "5      0                    1            1      <U+22EF> 2        3      \n",
       "6      0                    1            1      <U+22EF> 2        0      \n",
       "7      0                    0            0      <U+22EF> 3        0      \n",
       "8      0                    1            0      <U+22EF> 3        0      \n",
       "9      0                    0            0      <U+22EF> 2        0      \n",
       "10     0                    0            1      <U+22EF> 3        0      \n",
       "11     0                    0            0      <U+22EF> 3        0      \n",
       "12     0                    1            0      <U+22EF> 4       30      \n",
       "13     0                    1            0      <U+22EF> 2        5      \n",
       "14     0                    1            1      <U+22EF> 3        0      \n",
       "15     0                    0            0      <U+22EF> 2       15      \n",
       "16     0                    0            0      <U+22EF> 2       10      \n",
       "17     1                    0            1      <U+22EF> 3       30      \n",
       "18     0                    0            1      <U+22EF> 5       15      \n",
       "19     0                    0            0      <U+22EF> 3        0      \n",
       "20     0                    0            1      <U+22EF> 3        6      \n",
       "21     0                    1            1      <U+22EF> 2        0      \n",
       "22     0                    1            1      <U+22EF> 1        0      \n",
       "23     0                    1            1      <U+22EF> 1        0      \n",
       "24     0                    1            1      <U+22EF> 1        2      \n",
       "25     0                    1            0      <U+22EF> 3        0      \n",
       "26     0                    1            1      <U+22EF> 2        0      \n",
       "27     0                    1            0      <U+22EF> 3        5      \n",
       "28     0                    1            1      <U+22EF> 2        0      \n",
       "29     0                    1            1      <U+22EF> 1        0      \n",
       "30     0                    0            1      <U+22EF> 5        0      \n",
       "<U+22EE>      <U+22EE>             <U+22EE>     <U+22EE> <U+22F1> <U+22EE> <U+22EE>\n",
       "436571 0                    1            0      <U+22EF> 3        0      \n",
       "436572 0                    0            0      <U+22EF> 4        2      \n",
       "436573 0                    1            1      <U+22EF> 5       10      \n",
       "436574 0                    1            0      <U+22EF> 2        0      \n",
       "436575 1                    0            1      <U+22EF> 4        0      \n",
       "436576 0                    0            1      <U+22EF> 4        0      \n",
       "436577 0                    1            1      <U+22EF> 3        0      \n",
       "436578 1                    0            0      <U+22EF> 3        5      \n",
       "436579 0                    0            1      <U+22EF> 5       25      \n",
       "436580 0                    1            1      <U+22EF> 1        0      \n",
       "436581 0                    1            1      <U+22EF> 4       30      \n",
       "436582 1                    1            0      <U+22EF> 3        0      \n",
       "436583 0                    0            0      <U+22EF> 4        0      \n",
       "436584 0                    1            1      <U+22EF> 2        0      \n",
       "436585 0                    0            1      <U+22EF> 5        0      \n",
       "436586 0                    0            0      <U+22EF> 3        0      \n",
       "436587 1                    1            0      <U+22EF> 5        0      \n",
       "436588 0                    1            1      <U+22EF> 4        0      \n",
       "436589 0                    1            1      <U+22EF> 4        0      \n",
       "436590 0                    0            1      <U+22EF> 2        4      \n",
       "436591 0                    0            0      <U+22EF> 5        0      \n",
       "436592 0                    1            0      <U+22EF> 2        0      \n",
       "436593 0                    1            1      <U+22EF> 2        0      \n",
       "436594 0                    1            1      <U+22EF> 3        0      \n",
       "436595 1                    0            0      <U+22EF> 5       30      \n",
       "436596 0                    1            1      <U+22EF> 3        0      \n",
       "436597 0                    1            1      <U+22EF> 1        0      \n",
       "436598 0                    1            1      <U+22EF> 3       30      \n",
       "436599 0                    1            0      <U+22EF> 2        0      \n",
       "436600 0                    1            1      <U+22EF> 3        0      \n",
       "       PhysHlth havePhysHlth DiffWalk Sex Age Education Income Diabetes_binary\n",
       "1      15       1            1        0   9   4         3      0              \n",
       "2       0       0            0        0   7   6         1      0              \n",
       "3      30       1            1        0   9   4         8      0              \n",
       "4       0       0            0        0   11  3         6      0              \n",
       "5       0       0            0        0   11  5         4      0              \n",
       "6       2       1            0        1   10  6         8      0              \n",
       "7      14       1            0        0   9   6         7      0              \n",
       "8       0       0            1        0   11  4         4      0              \n",
       "9       0       0            0        1   8   4         3      0              \n",
       "10     30       1            1        0   10  5         1      0              \n",
       "11     15       1            0        0   7   5         7      0              \n",
       "12     28       1            0        0   4   6         2      0              \n",
       "13      0       0            0        0   6   6         8      0              \n",
       "14      0       0            0        0   10  4         3      0              \n",
       "15      0       0            0        0   2   6         7      0              \n",
       "16      0       0            0        1   4   6         8      0              \n",
       "17      0       0            1        0   12  4         4      0              \n",
       "18     30       1            1        0   13  2         3      0              \n",
       "19      7       1            0        1   5   5         5      0              \n",
       "20      0       0            1        0   9   4         6      0              \n",
       "21      0       0            0        0   5   6         8      0              \n",
       "22      0       0            0        1   12  6         8      0              \n",
       "23      0       0            1        1   13  3         3      0              \n",
       "24      0       0            0        0   6   4         8      0              \n",
       "25      0       0            0        1   11  6         2      0              \n",
       "26      0       0            0        0   9   4         4      0              \n",
       "27      3       1            1        1   8   4         3      0              \n",
       "28     10       1            0        0   12  5         7      0              \n",
       "29      1       1            0        1   4   5         3      0              \n",
       "30     30       1            0        1   9   3         1      0              \n",
       "<U+22EE>      <U+22EE> <U+22EE>     <U+22EE> <U+22EE> <U+22EE> <U+22EE>  <U+22EE> <U+22EE>       \n",
       "436571  1       1            0        1   11  5         5      1              \n",
       "436572  5       1            0        0   9   5         4      1              \n",
       "436573  6       1            0        0   7   4         2      1              \n",
       "436574  0       0            0        1   8   4         8      1              \n",
       "436575  0       0            0        0   12  4         5      1              \n",
       "436576  3       1            1        0   10  6         4      1              \n",
       "436577  0       0            0        0   3   6         8      1              \n",
       "436578 15       1            1        0   10  4         3      1              \n",
       "436579 30       1            1        1   7   6         2      1              \n",
       "436580  1       1            0        0   10  6         8      1              \n",
       "436581  3       1            0        0   5   6         7      1              \n",
       "436582  1       1            0        1   13  5         8      1              \n",
       "436583 28       1            1        1   13  3         7      1              \n",
       "436584  0       0            0        0   10  3         2      1              \n",
       "436585 30       1            0        0   13  6         3      1              \n",
       "436586  5       1            0        0   2   6         7      1              \n",
       "436587  0       0            1        0   11  4         4      1              \n",
       "436588  0       0            0        1   9   2         2      1              \n",
       "436589  0       0            0        0   6   6         3      1              \n",
       "436590 10       1            0        1   8   6         7      1              \n",
       "436591 30       1            1        1   6   4         1      1              \n",
       "436592  2       1            0        1   11  4         4      1              \n",
       "436593  0       0            1        1   13  6         7      1              \n",
       "436594  0       0            0        0   9   6         1      1              \n",
       "436595 30       1            1        1   12  3         3      1              \n",
       "436596  2       1            0        0   8   5         8      1              \n",
       "436597  0       0            0        1   10  4         7      1              \n",
       "436598 20       1            0        0   8   6         5      1              \n",
       "436599  0       0            0        1   11  6         8      1              \n",
       "436600  6       1            1        0   6   5         3      1              "
      ]
     },
     "metadata": {},
     "output_type": "display_data"
    }
   ],
   "source": [
    "balanced_df"
   ]
  },
  {
   "cell_type": "markdown",
   "id": "698e97e4-dc17-47c0-aace-61d6726bcb5e",
   "metadata": {},
   "source": [
    "### 3.5. Categorical - binary variables analysis"
   ]
  },
  {
   "cell_type": "code",
   "execution_count": 277,
   "id": "b0639e69-9c1c-4c93-9e72-90a2b4a4ad80",
   "metadata": {},
   "outputs": [
    {
     "data": {
      "text/html": [
       "<style>\n",
       ".list-inline {list-style: none; margin:0; padding: 0}\n",
       ".list-inline>li {display: inline-block}\n",
       ".list-inline>li:not(:last-child)::after {content: \"\\00b7\"; padding: 0 .5ex}\n",
       "</style>\n",
       "<ol class=list-inline><li>'HighBP'</li><li>'HighChol'</li><li>'CholCheck'</li><li>'Smoker'</li><li>'Stroke'</li><li>'HeartDiseaseorAttack'</li><li>'PhysActivity'</li><li>'Fruits'</li><li>'Veggies'</li><li>'HvyAlcoholConsump'</li><li>'AnyHealthcare'</li><li>'NoDocbcCost'</li><li>'DiffWalk'</li><li>'Sex'</li><li>'BMI_over_45'</li><li>'havePhysHlth'</li></ol>\n"
      ],
      "text/latex": [
       "\\begin{enumerate*}\n",
       "\\item 'HighBP'\n",
       "\\item 'HighChol'\n",
       "\\item 'CholCheck'\n",
       "\\item 'Smoker'\n",
       "\\item 'Stroke'\n",
       "\\item 'HeartDiseaseorAttack'\n",
       "\\item 'PhysActivity'\n",
       "\\item 'Fruits'\n",
       "\\item 'Veggies'\n",
       "\\item 'HvyAlcoholConsump'\n",
       "\\item 'AnyHealthcare'\n",
       "\\item 'NoDocbcCost'\n",
       "\\item 'DiffWalk'\n",
       "\\item 'Sex'\n",
       "\\item 'BMI\\_over\\_45'\n",
       "\\item 'havePhysHlth'\n",
       "\\end{enumerate*}\n"
      ],
      "text/markdown": [
       "1. 'HighBP'\n",
       "2. 'HighChol'\n",
       "3. 'CholCheck'\n",
       "4. 'Smoker'\n",
       "5. 'Stroke'\n",
       "6. 'HeartDiseaseorAttack'\n",
       "7. 'PhysActivity'\n",
       "8. 'Fruits'\n",
       "9. 'Veggies'\n",
       "10. 'HvyAlcoholConsump'\n",
       "11. 'AnyHealthcare'\n",
       "12. 'NoDocbcCost'\n",
       "13. 'DiffWalk'\n",
       "14. 'Sex'\n",
       "15. 'BMI_over_45'\n",
       "16. 'havePhysHlth'\n",
       "\n",
       "\n"
      ],
      "text/plain": [
       " [1] \"HighBP\"               \"HighChol\"             \"CholCheck\"           \n",
       " [4] \"Smoker\"               \"Stroke\"               \"HeartDiseaseorAttack\"\n",
       " [7] \"PhysActivity\"         \"Fruits\"               \"Veggies\"             \n",
       "[10] \"HvyAlcoholConsump\"    \"AnyHealthcare\"        \"NoDocbcCost\"         \n",
       "[13] \"DiffWalk\"             \"Sex\"                  \"BMI_over_45\"         \n",
       "[16] \"havePhysHlth\"        "
      ]
     },
     "metadata": {},
     "output_type": "display_data"
    }
   ],
   "source": [
    "binary_cols"
   ]
  },
  {
   "cell_type": "code",
   "execution_count": 278,
   "id": "e23f7c7a-45d4-4f10-938c-680d7890f2f9",
   "metadata": {},
   "outputs": [
    {
     "data": {
      "image/png": "[encoded data removed]",
      "text/plain": [
       "plot without title"
      ]
     },
     "metadata": {
      "image/png": {
       "height": 420,
       "width": 420
      }
     },
     "output_type": "display_data"
    },
    {
     "data": {
      "image/png": "[encoded data removed]",
      "text/plain": [
       "plot without title"
      ]
     },
     "metadata": {
      "image/png": {
       "height": 420,
       "width": 420
      }
     },
     "output_type": "display_data"
    },
    {
     "data": {
      "image/png": "[encoded data removed]",
      "text/plain": [
       "plot without title"
      ]
     },
     "metadata": {
      "image/png": {
       "height": 420,
       "width": 420
      }
     },
     "output_type": "display_data"
    },
    {
     "data": {
      "image/png": "[encoded data removed]",
      "text/plain": [
       "plot without title"
      ]
     },
     "metadata": {
      "image/png": {
       "height": 420,
       "width": 420
      }
     },
     "output_type": "display_data"
    },
    {
     "data": {
      "image/png": "[encoded data removed]",
      "text/plain": [
       "plot without title"
      ]
     },
     "metadata": {
      "image/png": {
       "height": 420,
       "width": 420
      }
     },
     "output_type": "display_data"
    },
    {
     "data": {
      "image/png": "[encoded data removed]",
      "text/plain": [
       "plot without title"
      ]
     },
     "metadata": {
      "image/png": {
       "height": 420,
       "width": 420
      }
     },
     "output_type": "display_data"
    },
    {
     "data": {
      "image/png": "[encoded data removed]",
      "text/plain": [
       "plot without title"
      ]
     },
     "metadata": {
      "image/png": {
       "height": 420,
       "width": 420
      }
     },
     "output_type": "display_data"
    },
    {
     "data": {
      "image/png": "[encoded data removed]",
      "text/plain": [
       "plot without title"
      ]
     },
     "metadata": {
      "image/png": {
       "height": 420,
       "width": 420
      }
     },
     "output_type": "display_data"
    }
   ],
   "source": [
    "par(mfrow = c(1,2))\n",
    "for (col in binary_cols)\n",
    "{\n",
    "    contingency_table = table(balanced_df[, col], balanced_df$Diabetes_binary)\n",
    "    rownames(contingency_table) = c(sprintf(\"no %s\", col), col)\n",
    "    colnames(contingency_table) = c(\"no diabetes\", \"diabetes\")\n",
    "    plot_stack_bar_2x2(contingency_table)\n",
    "}"
   ]
  },
  {
   "cell_type": "code",
   "execution_count": 279,
   "id": "26c96d95-181c-49f5-aab9-905078718105",
   "metadata": {},
   "outputs": [],
   "source": [
    "summary_categorical_variables = function(df, explain_col, response_col, is.binary = T, prop.r = T,\n",
    "                                        prop.c = T, prop.t = T)\n",
    "{\n",
    "    contingency_table = table(df[, explain_col], df[, response_col], dnn = c(explain_col, response_col))\n",
    "    if (is.binary)\n",
    "    {\n",
    "        rownames(contingency_table) = c(paste(\"no\", explain_col), explain_col)\n",
    "        gmodels::CrossTable(contingency_table, prop.r = prop.r, prop.c = prop.c, prop.t = prop.t, prop.chisq = FALSE, chisq = T)\n",
    "        print(\"Odds Ratio\")\n",
    "        print(OddsRatio(contingency_table, conf.level = 0.95))\n",
    "        print(\"Relative Risk\")\n",
    "        print(RelRisk(contingency_table, conf.level = 0.95, method = \"wald\"))\n",
    "    }\n",
    "    else\n",
    "    {\n",
    "        CrossTable(contingency_table, prop.r = prop.r, prop.c = prop.c, prop.t = prop.t, prop.chisq = FALSE, chisq = T)\n",
    "    }\n",
    "}"
   ]
  },
  {
   "cell_type": "code",
   "execution_count": 280,
   "id": "6cae4c3c-7e28-4305-83b5-36ef80c198e2",
   "metadata": {
    "scrolled": true
   },
   "outputs": [
    {
     "name": "stdout",
     "output_type": "stream",
     "text": [
      "\n",
      " \n",
      "   Cell Contents\n",
      "|-------------------------|\n",
      "|                       N |\n",
      "|           N / Row Total |\n",
      "|           N / Col Total |\n",
      "|         N / Table Total |\n",
      "|-------------------------|\n",
      "\n",
      " \n",
      "Total Observations in Table:  436600 \n",
      "\n",
      " \n",
      "             | Diabetes_binary \n",
      "      HighBP |         0 |         1 | Row Total | \n",
      "-------------|-----------|-----------|-----------|\n",
      "   no HighBP |    136109 |     54037 |    190146 | \n",
      "             |     0.716 |     0.284 |     0.436 | \n",
      "             |     0.623 |     0.248 |           | \n",
      "             |     0.312 |     0.124 |           | \n",
      "-------------|-----------|-----------|-----------|\n",
      "      HighBP |     82225 |    164229 |    246454 | \n",
      "             |     0.334 |     0.666 |     0.564 | \n",
      "             |     0.377 |     0.752 |           | \n",
      "             |     0.188 |     0.376 |           | \n",
      "-------------|-----------|-----------|-----------|\n",
      "Column Total |    218334 |    218266 |    436600 | \n",
      "             |     0.500 |     0.500 |           | \n",
      "-------------|-----------|-----------|-----------|\n",
      "\n",
      " \n",
      "Statistics for All Table Factors\n",
      "\n",
      "\n",
      "Pearson's Chi-squared test \n",
      "------------------------------------------------------------\n",
      "Chi^2 =  62710.06     d.f. =  1     p =  0 \n",
      "\n",
      "Pearson's Chi-squared test with Yates' continuity correction \n",
      "------------------------------------------------------------\n",
      "Chi^2 =  62708.53     d.f. =  1     p =  0 \n",
      "\n",
      " \n",
      "[1] \"Odds Ratio\"\n",
      "odds ratio     lwr.ci     upr.ci \n",
      "  5.030852   4.965794   5.096763 \n",
      "[1] \"Relative Risk\"\n",
      "rel. risk    lwr.ci    upr.ci \n",
      " 2.145515  2.132132  2.158982 \n",
      "\n",
      " \n",
      "   Cell Contents\n",
      "|-------------------------|\n",
      "|                       N |\n",
      "|           N / Row Total |\n",
      "|           N / Col Total |\n",
      "|         N / Table Total |\n",
      "|-------------------------|\n",
      "\n",
      " \n",
      "Total Observations in Table:  436600 \n",
      "\n",
      " \n",
      "             | Diabetes_binary \n",
      "    HighChol |         0 |         1 | Row Total | \n",
      "-------------|-----------|-----------|-----------|\n",
      " no HighChol |    134429 |     72037 |    206466 | \n",
      "             |     0.651 |     0.349 |     0.473 | \n",
      "             |     0.616 |     0.330 |           | \n",
      "             |     0.308 |     0.165 |           | \n",
      "-------------|-----------|-----------|-----------|\n",
      "    HighChol |     83905 |    146229 |    230134 | \n",
      "             |     0.365 |     0.635 |     0.527 | \n",
      "             |     0.384 |     0.670 |           | \n",
      "             |     0.192 |     0.335 |           | \n",
      "-------------|-----------|-----------|-----------|\n",
      "Column Total |    218334 |    218266 |    436600 | \n",
      "             |     0.500 |     0.500 |           | \n",
      "-------------|-----------|-----------|-----------|\n",
      "\n",
      " \n",
      "Statistics for All Table Factors\n",
      "\n",
      "\n",
      "Pearson's Chi-squared test \n",
      "------------------------------------------------------------\n",
      "Chi^2 =  35732.59     d.f. =  1     p =  0 \n",
      "\n",
      "Pearson's Chi-squared test with Yates' continuity correction \n",
      "------------------------------------------------------------\n",
      "Chi^2 =  35731.44     d.f. =  1     p =  0 \n",
      "\n",
      " \n",
      "[1] \"Odds Ratio\"\n",
      "odds ratio     lwr.ci     upr.ci \n",
      "  3.252243   3.212139   3.292848 \n",
      "[1] \"Relative Risk\"\n",
      "rel. risk    lwr.ci    upr.ci \n",
      " 1.785819  1.774692  1.797015 \n",
      "\n",
      " \n",
      "   Cell Contents\n",
      "|-------------------------|\n",
      "|                       N |\n",
      "|           N / Row Total |\n",
      "|           N / Col Total |\n",
      "|         N / Table Total |\n",
      "|-------------------------|\n",
      "\n",
      " \n",
      "Total Observations in Table:  436600 \n",
      "\n",
      " \n",
      "             | Diabetes_binary \n",
      "   CholCheck |         0 |         1 | Row Total | \n",
      "-------------|-----------|-----------|-----------|\n",
      "no CholCheck |      9229 |      1496 |     10725 | \n",
      "             |     0.861 |     0.139 |     0.025 | \n",
      "             |     0.042 |     0.007 |           | \n",
      "             |     0.021 |     0.003 |           | \n",
      "-------------|-----------|-----------|-----------|\n",
      "   CholCheck |    209105 |    216770 |    425875 | \n",
      "             |     0.491 |     0.509 |     0.975 | \n",
      "             |     0.958 |     0.993 |           | \n",
      "             |     0.479 |     0.496 |           | \n",
      "-------------|-----------|-----------|-----------|\n",
      "Column Total |    218334 |    218266 |    436600 | \n",
      "             |     0.500 |     0.500 |           | \n",
      "-------------|-----------|-----------|-----------|\n",
      "\n",
      " \n",
      "Statistics for All Table Factors\n",
      "\n",
      "\n",
      "Pearson's Chi-squared test \n",
      "------------------------------------------------------------\n",
      "Chi^2 =  5713.637     d.f. =  1     p =  0 \n",
      "\n",
      "Pearson's Chi-squared test with Yates' continuity correction \n",
      "------------------------------------------------------------\n",
      "Chi^2 =  5712.159     d.f. =  1     p =  0 \n",
      "\n",
      " \n",
      "[1] \"Odds Ratio\"\n",
      "odds ratio     lwr.ci     upr.ci \n",
      "  6.395254   6.053280   6.756548 \n",
      "[1] \"Relative Risk\"\n",
      "rel. risk    lwr.ci    upr.ci \n",
      " 1.752569  1.738241  1.767015 \n",
      "\n",
      " \n",
      "   Cell Contents\n",
      "|-------------------------|\n",
      "|                       N |\n",
      "|           N / Row Total |\n",
      "|           N / Col Total |\n",
      "|         N / Table Total |\n",
      "|-------------------------|\n",
      "\n",
      " \n",
      "Total Observations in Table:  436600 \n",
      "\n",
      " \n",
      "             | Diabetes_binary \n",
      "      Smoker |         0 |         1 | Row Total | \n",
      "-------------|-----------|-----------|-----------|\n",
      "   no Smoker |    124228 |    104874 |    229102 | \n",
      "             |     0.542 |     0.458 |     0.525 | \n",
      "             |     0.569 |     0.480 |           | \n",
      "             |     0.285 |     0.240 |           | \n",
      "-------------|-----------|-----------|-----------|\n",
      "      Smoker |     94106 |    113392 |    207498 | \n",
      "             |     0.454 |     0.546 |     0.475 | \n",
      "             |     0.431 |     0.520 |           | \n",
      "             |     0.216 |     0.260 |           | \n",
      "-------------|-----------|-----------|-----------|\n",
      "Column Total |    218334 |    218266 |    436600 | \n",
      "             |     0.500 |     0.500 |           | \n",
      "-------------|-----------|-----------|-----------|\n",
      "\n",
      " \n",
      "Statistics for All Table Factors\n",
      "\n",
      "\n",
      "Pearson's Chi-squared test \n",
      "------------------------------------------------------------\n",
      "Chi^2 =  3427.516     d.f. =  1     p =  0 \n",
      "\n",
      "Pearson's Chi-squared test with Yates' continuity correction \n",
      "------------------------------------------------------------\n",
      "Chi^2 =  3427.162     d.f. =  1     p =  0 \n",
      "\n",
      " \n",
      "[1] \"Odds Ratio\"\n",
      "odds ratio     lwr.ci     upr.ci \n",
      "  1.427305   1.410383   1.444430 \n",
      "[1] \"Relative Risk\"\n",
      "rel. risk    lwr.ci    upr.ci \n",
      " 1.195604  1.188406  1.202845 \n",
      "\n",
      " \n",
      "   Cell Contents\n",
      "|-------------------------|\n",
      "|                       N |\n",
      "|           N / Row Total |\n",
      "|           N / Col Total |\n",
      "|         N / Table Total |\n",
      "|-------------------------|\n",
      "\n",
      " \n",
      "Total Observations in Table:  436600 \n",
      "\n",
      " \n",
      "             | Diabetes_binary \n",
      "      Stroke |         0 |         1 | Row Total | \n",
      "-------------|-----------|-----------|-----------|\n",
      "   no Stroke |    211310 |    197897 |    409207 | \n",
      "             |     0.516 |     0.484 |     0.937 | \n",
      "             |     0.968 |     0.907 |           | \n",
      "             |     0.484 |     0.453 |           | \n",
      "-------------|-----------|-----------|-----------|\n",
      "      Stroke |      7024 |     20369 |     27393 | \n",
      "             |     0.256 |     0.744 |     0.063 | \n",
      "             |     0.032 |     0.093 |           | \n",
      "             |     0.016 |     0.047 |           | \n",
      "-------------|-----------|-----------|-----------|\n",
      "Column Total |    218334 |    218266 |    436600 | \n",
      "             |     0.500 |     0.500 |           | \n",
      "-------------|-----------|-----------|-----------|\n",
      "\n",
      " \n",
      "Statistics for All Table Factors\n",
      "\n",
      "\n",
      "Pearson's Chi-squared test \n",
      "------------------------------------------------------------\n",
      "Chi^2 =  6940.902     d.f. =  1     p =  0 \n",
      "\n",
      "Pearson's Chi-squared test with Yates' continuity correction \n",
      "------------------------------------------------------------\n",
      "Chi^2 =  6939.862     d.f. =  1     p =  0 \n",
      "\n",
      " \n",
      "[1] \"Odds Ratio\"\n",
      "odds ratio     lwr.ci     upr.ci \n",
      "  3.096464   3.011554   3.183768 \n",
      "[1] \"Relative Risk\"\n",
      "rel. risk    lwr.ci    upr.ci \n",
      " 2.013873  1.973242  2.055341 \n",
      "\n",
      " \n",
      "   Cell Contents\n",
      "|-------------------------|\n",
      "|                       N |\n",
      "|           N / Row Total |\n",
      "|           N / Col Total |\n",
      "|         N / Table Total |\n",
      "|-------------------------|\n",
      "\n",
      " \n",
      "Total Observations in Table:  436600 \n",
      "\n",
      " \n",
      "                        | Diabetes_binary \n",
      "   HeartDiseaseorAttack |         0 |         1 | Row Total | \n",
      "------------------------|-----------|-----------|-----------|\n",
      "no HeartDiseaseorAttack |    202319 |    169652 |    371971 | \n",
      "                        |     0.544 |     0.456 |     0.852 | \n",
      "                        |     0.927 |     0.777 |           | \n",
      "                        |     0.463 |     0.389 |           | \n",
      "------------------------|-----------|-----------|-----------|\n",
      "   HeartDiseaseorAttack |     16015 |     48614 |     64629 | \n",
      "                        |     0.248 |     0.752 |     0.148 | \n",
      "                        |     0.073 |     0.223 |           | \n",
      "                        |     0.037 |     0.111 |           | \n",
      "------------------------|-----------|-----------|-----------|\n",
      "           Column Total |    218334 |    218266 |    436600 | \n",
      "                        |     0.500 |     0.500 |           | \n",
      "------------------------|-----------|-----------|-----------|\n",
      "\n",
      " \n",
      "Statistics for All Table Factors\n",
      "\n",
      "\n",
      "Pearson's Chi-squared test \n",
      "------------------------------------------------------------\n",
      "Chi^2 =  19311.85     d.f. =  1     p =  0 \n",
      "\n",
      "Pearson's Chi-squared test with Yates' continuity correction \n",
      "------------------------------------------------------------\n",
      "Chi^2 =  19310.67     d.f. =  1     p =  0 \n",
      "\n",
      " \n",
      "[1] \"Odds Ratio\"\n",
      "odds ratio     lwr.ci     upr.ci \n",
      "  3.620029   3.551943   3.689421 \n",
      "[1] \"Relative Risk\"\n",
      "rel. risk    lwr.ci    upr.ci \n",
      " 2.194967  2.164992  2.225358 \n",
      "\n",
      " \n",
      "   Cell Contents\n",
      "|-------------------------|\n",
      "|                       N |\n",
      "|           N / Row Total |\n",
      "|           N / Col Total |\n",
      "|         N / Table Total |\n",
      "|-------------------------|\n",
      "\n",
      " \n",
      "Total Observations in Table:  436600 \n",
      "\n",
      " \n",
      "                | Diabetes_binary \n",
      "   PhysActivity |         0 |         1 | Row Total | \n",
      "----------------|-----------|-----------|-----------|\n",
      "no PhysActivity |     48701 |     80232 |    128933 | \n",
      "                |     0.378 |     0.622 |     0.295 | \n",
      "                |     0.223 |     0.368 |           | \n",
      "                |     0.112 |     0.184 |           | \n",
      "----------------|-----------|-----------|-----------|\n",
      "   PhysActivity |    169633 |    138034 |    307667 | \n",
      "                |     0.551 |     0.449 |     0.705 | \n",
      "                |     0.777 |     0.632 |           | \n",
      "                |     0.389 |     0.316 |           | \n",
      "----------------|-----------|-----------|-----------|\n",
      "   Column Total |    218334 |    218266 |    436600 | \n",
      "                |     0.500 |     0.500 |           | \n",
      "----------------|-----------|-----------|-----------|\n",
      "\n",
      " \n",
      "Statistics for All Table Factors\n",
      "\n",
      "\n",
      "Pearson's Chi-squared test \n",
      "------------------------------------------------------------\n",
      "Chi^2 =  10956.38     d.f. =  1     p =  0 \n",
      "\n",
      "Pearson's Chi-squared test with Yates' continuity correction \n",
      "------------------------------------------------------------\n",
      "Chi^2 =  10955.69     d.f. =  1     p =  0 \n",
      "\n",
      " \n",
      "[1] \"Odds Ratio\"\n",
      "odds ratio     lwr.ci     upr.ci \n",
      " 0.4939307  0.4873986  0.5005503 \n",
      "[1] \"Relative Risk\"\n",
      "rel. risk    lwr.ci    upr.ci \n",
      "0.6850849 0.6798320 0.6903783 \n",
      "\n",
      " \n",
      "   Cell Contents\n",
      "|-------------------------|\n",
      "|                       N |\n",
      "|           N / Row Total |\n",
      "|           N / Col Total |\n",
      "|         N / Table Total |\n",
      "|-------------------------|\n",
      "\n",
      " \n",
      "Total Observations in Table:  436600 \n",
      "\n",
      " \n",
      "             | Diabetes_binary \n",
      "      Fruits |         0 |         1 | Row Total | \n",
      "-------------|-----------|-----------|-----------|\n",
      "   no Fruits |     78129 |     90371 |    168500 | \n",
      "             |     0.464 |     0.536 |     0.386 | \n",
      "             |     0.358 |     0.414 |           | \n",
      "             |     0.179 |     0.207 |           | \n",
      "-------------|-----------|-----------|-----------|\n",
      "      Fruits |    140205 |    127895 |    268100 | \n",
      "             |     0.523 |     0.477 |     0.614 | \n",
      "             |     0.642 |     0.586 |           | \n",
      "             |     0.321 |     0.293 |           | \n",
      "-------------|-----------|-----------|-----------|\n",
      "Column Total |    218334 |    218266 |    436600 | \n",
      "             |     0.500 |     0.500 |           | \n",
      "-------------|-----------|-----------|-----------|\n",
      "\n",
      " \n",
      "Statistics for All Table Factors\n",
      "\n",
      "\n",
      "Pearson's Chi-squared test \n",
      "------------------------------------------------------------\n",
      "Chi^2 =  1454.628     d.f. =  1     p =  2.830774e-318 \n",
      "\n",
      "Pearson's Chi-squared test with Yates' continuity correction \n",
      "------------------------------------------------------------\n",
      "Chi^2 =  1454.39     d.f. =  1     p =  3.187366e-318 \n",
      "\n",
      " \n",
      "[1] \"Odds Ratio\"\n",
      "odds ratio     lwr.ci     upr.ci \n",
      " 0.7886299  0.7790584  0.7983190 \n",
      "[1] \"Relative Risk\"\n",
      "rel. risk    lwr.ci    upr.ci \n",
      "0.8866366 0.8810859 0.8922224 \n",
      "\n",
      " \n",
      "   Cell Contents\n",
      "|-------------------------|\n",
      "|                       N |\n",
      "|           N / Row Total |\n",
      "|           N / Col Total |\n",
      "|         N / Table Total |\n",
      "|-------------------------|\n",
      "\n",
      " \n",
      "Total Observations in Table:  436600 \n",
      "\n",
      " \n",
      "             | Diabetes_binary \n",
      "     Veggies |         0 |         1 | Row Total | \n",
      "-------------|-----------|-----------|-----------|\n",
      "  no Veggies |     39229 |     53248 |     92477 | \n",
      "             |     0.424 |     0.576 |     0.212 | \n",
      "             |     0.180 |     0.244 |           | \n",
      "             |     0.090 |     0.122 |           | \n",
      "-------------|-----------|-----------|-----------|\n",
      "     Veggies |    179105 |    165018 |    344123 | \n",
      "             |     0.520 |     0.480 |     0.788 | \n",
      "             |     0.820 |     0.756 |           | \n",
      "             |     0.410 |     0.378 |           | \n",
      "-------------|-----------|-----------|-----------|\n",
      "Column Total |    218334 |    218266 |    436600 | \n",
      "             |     0.500 |     0.500 |           | \n",
      "-------------|-----------|-----------|-----------|\n",
      "\n",
      " \n",
      "Statistics for All Table Factors\n",
      "\n",
      "\n",
      "Pearson's Chi-squared test \n",
      "------------------------------------------------------------\n",
      "Chi^2 =  2701.857     d.f. =  1     p =  0 \n",
      "\n",
      "Pearson's Chi-squared test with Yates' continuity correction \n",
      "------------------------------------------------------------\n",
      "Chi^2 =  2701.472     d.f. =  1     p =  0 \n",
      "\n",
      " \n",
      "[1] \"Odds Ratio\"\n",
      "odds ratio     lwr.ci     upr.ci \n",
      " 0.6787777  0.6689022  0.6887990 \n",
      "[1] \"Relative Risk\"\n",
      "rel. risk    lwr.ci    upr.ci \n",
      "0.8150411 0.8084133 0.8217232 \n",
      "\n",
      " \n",
      "   Cell Contents\n",
      "|-------------------------|\n",
      "|                       N |\n",
      "|           N / Row Total |\n",
      "|           N / Col Total |\n",
      "|         N / Table Total |\n",
      "|-------------------------|\n",
      "\n",
      " \n",
      "Total Observations in Table:  436600 \n",
      "\n",
      " \n",
      "                     | Diabetes_binary \n",
      "   HvyAlcoholConsump |         0 |         1 | Row Total | \n",
      "---------------------|-----------|-----------|-----------|\n",
      "no HvyAlcoholConsump |    204910 |    213112 |    418022 | \n",
      "                     |     0.490 |     0.510 |     0.957 | \n",
      "                     |     0.939 |     0.976 |           | \n",
      "                     |     0.469 |     0.488 |           | \n",
      "---------------------|-----------|-----------|-----------|\n",
      "   HvyAlcoholConsump |     13424 |      5154 |     18578 | \n",
      "                     |     0.723 |     0.277 |     0.043 | \n",
      "                     |     0.061 |     0.024 |           | \n",
      "                     |     0.031 |     0.012 |           | \n",
      "---------------------|-----------|-----------|-----------|\n",
      "        Column Total |    218334 |    218266 |    436600 | \n",
      "                     |     0.500 |     0.500 |           | \n",
      "---------------------|-----------|-----------|-----------|\n",
      "\n",
      " \n",
      "Statistics for All Table Factors\n",
      "\n",
      "\n",
      "Pearson's Chi-squared test \n",
      "------------------------------------------------------------\n",
      "Chi^2 =  3842.313     d.f. =  1     p =  0 \n",
      "\n",
      "Pearson's Chi-squared test with Yates' continuity correction \n",
      "------------------------------------------------------------\n",
      "Chi^2 =  3841.383     d.f. =  1     p =  0 \n",
      "\n",
      " \n",
      "[1] \"Odds Ratio\"\n",
      "odds ratio     lwr.ci     upr.ci \n",
      " 0.3691626  0.3572918  0.3814278 \n",
      "[1] \"Relative Risk\"\n",
      "rel. risk    lwr.ci    upr.ci \n",
      "0.6783925 0.6720249 0.6848204 \n",
      "\n",
      " \n",
      "   Cell Contents\n",
      "|-------------------------|\n",
      "|                       N |\n",
      "|           N / Row Total |\n",
      "|           N / Col Total |\n",
      "|         N / Table Total |\n",
      "|-------------------------|\n",
      "\n",
      " \n",
      "Total Observations in Table:  436600 \n",
      "\n",
      " \n",
      "                 | Diabetes_binary \n",
      "   AnyHealthcare |         0 |         1 | Row Total | \n",
      "-----------------|-----------|-----------|-----------|\n",
      "no AnyHealthcare |     10995 |      8760 |     19755 | \n",
      "                 |     0.557 |     0.443 |     0.045 | \n",
      "                 |     0.050 |     0.040 |           | \n",
      "                 |     0.025 |     0.020 |           | \n",
      "-----------------|-----------|-----------|-----------|\n",
      "   AnyHealthcare |    207339 |    209506 |    416845 | \n",
      "                 |     0.497 |     0.503 |     0.955 | \n",
      "                 |     0.950 |     0.960 |           | \n",
      "                 |     0.475 |     0.480 |           | \n",
      "-----------------|-----------|-----------|-----------|\n",
      "    Column Total |    218334 |    218266 |    436600 | \n",
      "                 |     0.500 |     0.500 |           | \n",
      "-----------------|-----------|-----------|-----------|\n",
      "\n",
      " \n",
      "Statistics for All Table Factors\n",
      "\n",
      "\n",
      "Pearson's Chi-squared test \n",
      "------------------------------------------------------------\n",
      "Chi^2 =  264.1135     d.f. =  1     p =  2.177201e-59 \n",
      "\n",
      "Pearson's Chi-squared test with Yates' continuity correction \n",
      "------------------------------------------------------------\n",
      "Chi^2 =  263.8769     d.f. =  1     p =  2.451727e-59 \n",
      "\n",
      " \n",
      "[1] \"Odds Ratio\"\n",
      "odds ratio     lwr.ci     upr.ci \n",
      "  1.268255   1.232350   1.305206 \n",
      "[1] \"Relative Risk\"\n",
      "rel. risk    lwr.ci    upr.ci \n",
      " 1.118953  1.104705  1.133384 \n",
      "\n",
      " \n",
      "   Cell Contents\n",
      "|-------------------------|\n",
      "|                       N |\n",
      "|           N / Row Total |\n",
      "|           N / Col Total |\n",
      "|         N / Table Total |\n",
      "|-------------------------|\n",
      "\n",
      " \n",
      "Total Observations in Table:  436600 \n",
      "\n",
      " \n",
      "               | Diabetes_binary \n",
      "   NoDocbcCost |         0 |         1 | Row Total | \n",
      "---------------|-----------|-----------|-----------|\n",
      "no NoDocbcCost |    200722 |    195136 |    395858 | \n",
      "               |     0.507 |     0.493 |     0.907 | \n",
      "               |     0.919 |     0.894 |           | \n",
      "               |     0.460 |     0.447 |           | \n",
      "---------------|-----------|-----------|-----------|\n",
      "   NoDocbcCost |     17612 |     23130 |     40742 | \n",
      "               |     0.432 |     0.568 |     0.093 | \n",
      "               |     0.081 |     0.106 |           | \n",
      "               |     0.040 |     0.053 |           | \n",
      "---------------|-----------|-----------|-----------|\n",
      "  Column Total |    218334 |    218266 |    436600 | \n",
      "               |     0.500 |     0.500 |           | \n",
      "---------------|-----------|-----------|-----------|\n",
      "\n",
      " \n",
      "Statistics for All Table Factors\n",
      "\n",
      "\n",
      "Pearson's Chi-squared test \n",
      "------------------------------------------------------------\n",
      "Chi^2 =  826.159     d.f. =  1     p =  1.108501e-181 \n",
      "\n",
      "Pearson's Chi-squared test with Yates' continuity correction \n",
      "------------------------------------------------------------\n",
      "Chi^2 =  825.8599     d.f. =  1     p =  1.287529e-181 \n",
      "\n",
      " \n",
      "[1] \"Odds Ratio\"\n",
      "odds ratio     lwr.ci     upr.ci \n",
      "  1.350904   1.323403   1.378977 \n",
      "[1] \"Relative Risk\"\n",
      "rel. risk    lwr.ci    upr.ci \n",
      " 1.172976  1.159514  1.186595 \n",
      "\n",
      " \n",
      "   Cell Contents\n",
      "|-------------------------|\n",
      "|                       N |\n",
      "|           N / Row Total |\n",
      "|           N / Col Total |\n",
      "|         N / Table Total |\n",
      "|-------------------------|\n",
      "\n",
      " \n",
      "Total Observations in Table:  436600 \n",
      "\n",
      " \n",
      "             | Diabetes_binary \n",
      "    DiffWalk |         0 |         1 | Row Total | \n",
      "-------------|-----------|-----------|-----------|\n",
      " no DiffWalk |    188780 |    137191 |    325971 | \n",
      "             |     0.579 |     0.421 |     0.747 | \n",
      "             |     0.865 |     0.629 |           | \n",
      "             |     0.432 |     0.314 |           | \n",
      "-------------|-----------|-----------|-----------|\n",
      "    DiffWalk |     29554 |     81075 |    110629 | \n",
      "             |     0.267 |     0.733 |     0.253 | \n",
      "             |     0.135 |     0.371 |           | \n",
      "             |     0.068 |     0.186 |           | \n",
      "-------------|-----------|-----------|-----------|\n",
      "Column Total |    218334 |    218266 |    436600 | \n",
      "             |     0.500 |     0.500 |           | \n",
      "-------------|-----------|-----------|-----------|\n",
      "\n",
      " \n",
      "Statistics for All Table Factors\n",
      "\n",
      "\n",
      "Pearson's Chi-squared test \n",
      "------------------------------------------------------------\n",
      "Chi^2 =  32158.43     d.f. =  1     p =  0 \n",
      "\n",
      "Pearson's Chi-squared test with Yates' continuity correction \n",
      "------------------------------------------------------------\n",
      "Chi^2 =  32157.18     d.f. =  1     p =  0 \n",
      "\n",
      " \n",
      "[1] \"Odds Ratio\"\n",
      "odds ratio     lwr.ci     upr.ci \n",
      "  3.774862   3.718573   3.832002 \n",
      "[1] \"Relative Risk\"\n",
      "rel. risk    lwr.ci    upr.ci \n",
      " 2.167853  2.145876  2.190054 \n",
      "\n",
      " \n",
      "   Cell Contents\n",
      "|-------------------------|\n",
      "|                       N |\n",
      "|           N / Row Total |\n",
      "|           N / Col Total |\n",
      "|         N / Table Total |\n",
      "|-------------------------|\n",
      "\n",
      " \n",
      "Total Observations in Table:  436600 \n",
      "\n",
      " \n",
      "             | Diabetes_binary \n",
      "         Sex |         0 |         1 | Row Total | \n",
      "-------------|-----------|-----------|-----------|\n",
      "      no Sex |    123563 |    113586 |    237149 | \n",
      "             |     0.521 |     0.479 |     0.543 | \n",
      "             |     0.566 |     0.520 |           | \n",
      "             |     0.283 |     0.260 |           | \n",
      "-------------|-----------|-----------|-----------|\n",
      "         Sex |     94771 |    104680 |    199451 | \n",
      "             |     0.475 |     0.525 |     0.457 | \n",
      "             |     0.434 |     0.480 |           | \n",
      "             |     0.217 |     0.240 |           | \n",
      "-------------|-----------|-----------|-----------|\n",
      "Column Total |    218334 |    218266 |    436600 | \n",
      "             |     0.500 |     0.500 |           | \n",
      "-------------|-----------|-----------|-----------|\n",
      "\n",
      " \n",
      "Statistics for All Table Factors\n",
      "\n",
      "\n",
      "Pearson's Chi-squared test \n",
      "------------------------------------------------------------\n",
      "Chi^2 =  912.0205     d.f. =  1     p =  2.391784e-200 \n",
      "\n",
      "Pearson's Chi-squared test with Yates' continuity correction \n",
      "------------------------------------------------------------\n",
      "Chi^2 =  911.837     d.f. =  1     p =  2.621869e-200 \n",
      "\n",
      " \n",
      "[1] \"Odds Ratio\"\n",
      "odds ratio     lwr.ci     upr.ci \n",
      "  1.201578   1.187337   1.215989 \n",
      "[1] \"Relative Risk\"\n",
      "rel. risk    lwr.ci    upr.ci \n",
      " 1.096549  1.089974  1.103163 \n",
      "\n",
      " \n",
      "   Cell Contents\n",
      "|-------------------------|\n",
      "|                       N |\n",
      "|           N / Row Total |\n",
      "|           N / Col Total |\n",
      "|         N / Table Total |\n",
      "|-------------------------|\n",
      "\n",
      " \n",
      "Total Observations in Table:  436600 \n",
      "\n",
      " \n",
      "               | Diabetes_binary \n",
      "   BMI_over_45 |         0 |         1 | Row Total | \n",
      "---------------|-----------|-----------|-----------|\n",
      "no BMI_over_45 |    215209 |    207846 |    423055 | \n",
      "               |     0.509 |     0.491 |     0.969 | \n",
      "               |     0.986 |     0.952 |           | \n",
      "               |     0.493 |     0.476 |           | \n",
      "---------------|-----------|-----------|-----------|\n",
      "   BMI_over_45 |      3125 |     10420 |     13545 | \n",
      "               |     0.231 |     0.769 |     0.031 | \n",
      "               |     0.014 |     0.048 |           | \n",
      "               |     0.007 |     0.024 |           | \n",
      "---------------|-----------|-----------|-----------|\n",
      "  Column Total |    218334 |    218266 |    436600 | \n",
      "               |     0.500 |     0.500 |           | \n",
      "---------------|-----------|-----------|-----------|\n",
      "\n",
      " \n",
      "Statistics for All Table Factors\n",
      "\n",
      "\n",
      "Pearson's Chi-squared test \n",
      "------------------------------------------------------------\n",
      "Chi^2 =  4057.043     d.f. =  1     p =  0 \n",
      "\n",
      "Pearson's Chi-squared test with Yates' continuity correction \n",
      "------------------------------------------------------------\n",
      "Chi^2 =  4055.931     d.f. =  1     p =  0 \n",
      "\n",
      " \n",
      "[1] \"Odds Ratio\"\n",
      "odds ratio     lwr.ci     upr.ci \n",
      "  3.452522   3.315734   3.594953 \n",
      "[1] \"Relative Risk\"\n",
      "rel. risk    lwr.ci    upr.ci \n",
      " 2.204919  2.137849  2.274093 \n",
      "\n",
      " \n",
      "   Cell Contents\n",
      "|-------------------------|\n",
      "|                       N |\n",
      "|           N / Row Total |\n",
      "|           N / Col Total |\n",
      "|         N / Table Total |\n",
      "|-------------------------|\n",
      "\n",
      " \n",
      "Total Observations in Table:  436600 \n",
      "\n",
      " \n",
      "                | Diabetes_binary \n",
      "   havePhysHlth |         0 |         1 | Row Total | \n",
      "----------------|-----------|-----------|-----------|\n",
      "no havePhysHlth |    143312 |    103498 |    246810 | \n",
      "                |     0.581 |     0.419 |     0.565 | \n",
      "                |     0.656 |     0.474 |           | \n",
      "                |     0.328 |     0.237 |           | \n",
      "----------------|-----------|-----------|-----------|\n",
      "   havePhysHlth |     75022 |    114768 |    189790 | \n",
      "                |     0.395 |     0.605 |     0.435 | \n",
      "                |     0.344 |     0.526 |           | \n",
      "                |     0.172 |     0.263 |           | \n",
      "----------------|-----------|-----------|-----------|\n",
      "   Column Total |    218334 |    218266 |    436600 | \n",
      "                |     0.500 |     0.500 |           | \n",
      "----------------|-----------|-----------|-----------|\n",
      "\n",
      " \n",
      "Statistics for All Table Factors\n",
      "\n",
      "\n",
      "Pearson's Chi-squared test \n",
      "------------------------------------------------------------\n",
      "Chi^2 =  14746.2     d.f. =  1     p =  0 \n",
      "\n",
      "Pearson's Chi-squared test with Yates' continuity correction \n",
      "------------------------------------------------------------\n",
      "Chi^2 =  14745.46     d.f. =  1     p =  0 \n",
      "\n",
      " \n",
      "[1] \"Odds Ratio\"\n",
      "odds ratio     lwr.ci     upr.ci \n",
      "  2.118277   2.092612   2.144257 \n",
      "[1] \"Relative Risk\"\n",
      "rel. risk    lwr.ci    upr.ci \n",
      " 1.468941  1.459430  1.478515 \n"
     ]
    }
   ],
   "source": [
    "for (bin_col in binary_cols)\n",
    "{\n",
    "    summary_categorical_variables(balanced_df, bin_col, response_col)\n",
    "}"
   ]
  },
  {
   "cell_type": "markdown",
   "id": "b67b9735-7e49-43c5-8d74-22c1f36ce3c7",
   "metadata": {},
   "source": [
    "### 3.6. Categorical - ordinal variables analysis"
   ]
  },
  {
   "cell_type": "code",
   "execution_count": 281,
   "id": "760c518b-c8b7-4583-9037-d1fd6db14f32",
   "metadata": {},
   "outputs": [
    {
     "data": {
      "text/html": [
       "<style>\n",
       ".list-inline {list-style: none; margin:0; padding: 0}\n",
       ".list-inline>li {display: inline-block}\n",
       ".list-inline>li:not(:last-child)::after {content: \"\\00b7\"; padding: 0 .5ex}\n",
       "</style>\n",
       "<ol class=list-inline><li>'GenHlth'</li><li>'Age'</li><li>'Education'</li><li>'Income'</li></ol>\n"
      ],
      "text/latex": [
       "\\begin{enumerate*}\n",
       "\\item 'GenHlth'\n",
       "\\item 'Age'\n",
       "\\item 'Education'\n",
       "\\item 'Income'\n",
       "\\end{enumerate*}\n"
      ],
      "text/markdown": [
       "1. 'GenHlth'\n",
       "2. 'Age'\n",
       "3. 'Education'\n",
       "4. 'Income'\n",
       "\n",
       "\n"
      ],
      "text/plain": [
       "[1] \"GenHlth\"   \"Age\"       \"Education\" \"Income\"   "
      ]
     },
     "metadata": {},
     "output_type": "display_data"
    }
   ],
   "source": [
    "ordinal_cols"
   ]
  },
  {
   "cell_type": "code",
   "execution_count": 282,
   "id": "cb00dec4-46c7-4e7b-a85d-d52eb0223502",
   "metadata": {
    "scrolled": true
   },
   "outputs": [
    {
     "name": "stdout",
     "output_type": "stream",
     "text": [
      "\n",
      " \n",
      "   Cell Contents\n",
      "|-------------------------|\n",
      "|                       N |\n",
      "|           N / Row Total |\n",
      "|           N / Col Total |\n",
      "|         N / Table Total |\n",
      "|-------------------------|\n",
      "\n",
      " \n",
      "Total Observations in Table:  253680 \n",
      "\n",
      " \n",
      "             | Diabetes_binary \n",
      "     GenHlth |         0 |         1 | Row Total | \n",
      "-------------|-----------|-----------|-----------|\n",
      "           1 |     44159 |      1140 |     45299 | \n",
      "             |     0.975 |     0.025 |     0.179 | \n",
      "             |     0.202 |     0.032 |           | \n",
      "             |     0.174 |     0.004 |           | \n",
      "-------------|-----------|-----------|-----------|\n",
      "           2 |     82703 |      6381 |     89084 | \n",
      "             |     0.928 |     0.072 |     0.351 | \n",
      "             |     0.379 |     0.181 |           | \n",
      "             |     0.326 |     0.025 |           | \n",
      "-------------|-----------|-----------|-----------|\n",
      "           3 |     62189 |     13457 |     75646 | \n",
      "             |     0.822 |     0.178 |     0.298 | \n",
      "             |     0.285 |     0.381 |           | \n",
      "             |     0.245 |     0.053 |           | \n",
      "-------------|-----------|-----------|-----------|\n",
      "           4 |     21780 |      9790 |     31570 | \n",
      "             |     0.690 |     0.310 |     0.124 | \n",
      "             |     0.100 |     0.277 |           | \n",
      "             |     0.086 |     0.039 |           | \n",
      "-------------|-----------|-----------|-----------|\n",
      "           5 |      7503 |      4578 |     12081 | \n",
      "             |     0.621 |     0.379 |     0.048 | \n",
      "             |     0.034 |     0.130 |           | \n",
      "             |     0.030 |     0.018 |           | \n",
      "-------------|-----------|-----------|-----------|\n",
      "Column Total |    218334 |     35346 |    253680 | \n",
      "             |     0.861 |     0.139 |           | \n",
      "-------------|-----------|-----------|-----------|\n",
      "\n",
      " \n",
      "Statistics for All Table Factors\n",
      "\n",
      "\n",
      "Pearson's Chi-squared test \n",
      "------------------------------------------------------------\n",
      "Chi^2 =  22728.07     d.f. =  4     p =  0 \n",
      "\n",
      "\n",
      " \n",
      "\n",
      " \n",
      "   Cell Contents\n",
      "|-------------------------|\n",
      "|                       N |\n",
      "|           N / Row Total |\n",
      "|           N / Col Total |\n",
      "|         N / Table Total |\n",
      "|-------------------------|\n",
      "\n",
      " \n",
      "Total Observations in Table:  253680 \n",
      "\n",
      " \n",
      "             | Diabetes_binary \n",
      "         Age |         0 |         1 | Row Total | \n",
      "-------------|-----------|-----------|-----------|\n",
      "           1 |      5622 |        78 |      5700 | \n",
      "             |     0.986 |     0.014 |     0.022 | \n",
      "             |     0.026 |     0.002 |           | \n",
      "             |     0.022 |     0.000 |           | \n",
      "-------------|-----------|-----------|-----------|\n",
      "           2 |      7458 |       140 |      7598 | \n",
      "             |     0.982 |     0.018 |     0.030 | \n",
      "             |     0.034 |     0.004 |           | \n",
      "             |     0.029 |     0.001 |           | \n",
      "-------------|-----------|-----------|-----------|\n",
      "           3 |     10809 |       314 |     11123 | \n",
      "             |     0.972 |     0.028 |     0.044 | \n",
      "             |     0.050 |     0.009 |           | \n",
      "             |     0.043 |     0.001 |           | \n",
      "-------------|-----------|-----------|-----------|\n",
      "           4 |     13197 |       626 |     13823 | \n",
      "             |     0.955 |     0.045 |     0.054 | \n",
      "             |     0.060 |     0.018 |           | \n",
      "             |     0.052 |     0.002 |           | \n",
      "-------------|-----------|-----------|-----------|\n",
      "           5 |     15106 |      1051 |     16157 | \n",
      "             |     0.935 |     0.065 |     0.064 | \n",
      "             |     0.069 |     0.030 |           | \n",
      "             |     0.060 |     0.004 |           | \n",
      "-------------|-----------|-----------|-----------|\n",
      "           6 |     18077 |      1742 |     19819 | \n",
      "             |     0.912 |     0.088 |     0.078 | \n",
      "             |     0.083 |     0.049 |           | \n",
      "             |     0.071 |     0.007 |           | \n",
      "-------------|-----------|-----------|-----------|\n",
      "           7 |     23226 |      3088 |     26314 | \n",
      "             |     0.883 |     0.117 |     0.104 | \n",
      "             |     0.106 |     0.087 |           | \n",
      "             |     0.092 |     0.012 |           | \n",
      "-------------|-----------|-----------|-----------|\n",
      "           8 |     26569 |      4263 |     30832 | \n",
      "             |     0.862 |     0.138 |     0.122 | \n",
      "             |     0.122 |     0.121 |           | \n",
      "             |     0.105 |     0.017 |           | \n",
      "-------------|-----------|-----------|-----------|\n",
      "           9 |     27511 |      5733 |     33244 | \n",
      "             |     0.828 |     0.172 |     0.131 | \n",
      "             |     0.126 |     0.162 |           | \n",
      "             |     0.108 |     0.023 |           | \n",
      "-------------|-----------|-----------|-----------|\n",
      "          10 |     25636 |      6558 |     32194 | \n",
      "             |     0.796 |     0.204 |     0.127 | \n",
      "             |     0.117 |     0.186 |           | \n",
      "             |     0.101 |     0.026 |           | \n",
      "-------------|-----------|-----------|-----------|\n",
      "          11 |     18392 |      5141 |     23533 | \n",
      "             |     0.782 |     0.218 |     0.093 | \n",
      "             |     0.084 |     0.145 |           | \n",
      "             |     0.073 |     0.020 |           | \n",
      "-------------|-----------|-----------|-----------|\n",
      "          12 |     12577 |      3403 |     15980 | \n",
      "             |     0.787 |     0.213 |     0.063 | \n",
      "             |     0.058 |     0.096 |           | \n",
      "             |     0.050 |     0.013 |           | \n",
      "-------------|-----------|-----------|-----------|\n",
      "          13 |     14154 |      3209 |     17363 | \n",
      "             |     0.815 |     0.185 |     0.068 | \n",
      "             |     0.065 |     0.091 |           | \n",
      "             |     0.056 |     0.013 |           | \n",
      "-------------|-----------|-----------|-----------|\n",
      "Column Total |    218334 |     35346 |    253680 | \n",
      "             |     0.861 |     0.139 |           | \n",
      "-------------|-----------|-----------|-----------|\n",
      "\n",
      " \n",
      "Statistics for All Table Factors\n",
      "\n",
      "\n",
      "Pearson's Chi-squared test \n",
      "------------------------------------------------------------\n",
      "Chi^2 =  8795.051     d.f. =  12     p =  0 \n",
      "\n",
      "\n",
      " \n",
      "\n",
      " \n",
      "   Cell Contents\n",
      "|-------------------------|\n",
      "|                       N |\n",
      "|           N / Row Total |\n",
      "|           N / Col Total |\n",
      "|         N / Table Total |\n",
      "|-------------------------|\n",
      "\n",
      " \n",
      "Total Observations in Table:  253680 \n",
      "\n",
      " \n",
      "             | Diabetes_binary \n",
      "   Education |         0 |         1 | Row Total | \n",
      "-------------|-----------|-----------|-----------|\n",
      "           1 |       127 |        47 |       174 | \n",
      "             |     0.730 |     0.270 |     0.001 | \n",
      "             |     0.001 |     0.001 |           | \n",
      "             |     0.001 |     0.000 |           | \n",
      "-------------|-----------|-----------|-----------|\n",
      "           2 |      2860 |      1183 |      4043 | \n",
      "             |     0.707 |     0.293 |     0.016 | \n",
      "             |     0.013 |     0.033 |           | \n",
      "             |     0.011 |     0.005 |           | \n",
      "-------------|-----------|-----------|-----------|\n",
      "           3 |      7182 |      2296 |      9478 | \n",
      "             |     0.758 |     0.242 |     0.037 | \n",
      "             |     0.033 |     0.065 |           | \n",
      "             |     0.028 |     0.009 |           | \n",
      "-------------|-----------|-----------|-----------|\n",
      "           4 |     51684 |     11066 |     62750 | \n",
      "             |     0.824 |     0.176 |     0.247 | \n",
      "             |     0.237 |     0.313 |           | \n",
      "             |     0.204 |     0.044 |           | \n",
      "-------------|-----------|-----------|-----------|\n",
      "           5 |     59556 |     10354 |     69910 | \n",
      "             |     0.852 |     0.148 |     0.276 | \n",
      "             |     0.273 |     0.293 |           | \n",
      "             |     0.235 |     0.041 |           | \n",
      "-------------|-----------|-----------|-----------|\n",
      "           6 |     96925 |     10400 |    107325 | \n",
      "             |     0.903 |     0.097 |     0.423 | \n",
      "             |     0.444 |     0.294 |           | \n",
      "             |     0.382 |     0.041 |           | \n",
      "-------------|-----------|-----------|-----------|\n",
      "Column Total |    218334 |     35346 |    253680 | \n",
      "             |     0.861 |     0.139 |           | \n",
      "-------------|-----------|-----------|-----------|\n",
      "\n",
      " \n",
      "Statistics for All Table Factors\n",
      "\n",
      "\n",
      "Pearson's Chi-squared test \n",
      "------------------------------------------------------------\n",
      "Chi^2 =  4027.112     d.f. =  5     p =  0 \n",
      "\n",
      "\n",
      " \n",
      "\n",
      " \n",
      "   Cell Contents\n",
      "|-------------------------|\n",
      "|                       N |\n",
      "|           N / Row Total |\n",
      "|           N / Col Total |\n",
      "|         N / Table Total |\n",
      "|-------------------------|\n",
      "\n",
      " \n",
      "Total Observations in Table:  253680 \n",
      "\n",
      " \n",
      "             | Diabetes_binary \n",
      "      Income |         0 |         1 | Row Total | \n",
      "-------------|-----------|-----------|-----------|\n",
      "           1 |      7428 |      2383 |      9811 | \n",
      "             |     0.757 |     0.243 |     0.039 | \n",
      "             |     0.034 |     0.067 |           | \n",
      "             |     0.029 |     0.009 |           | \n",
      "-------------|-----------|-----------|-----------|\n",
      "           2 |      8697 |      3086 |     11783 | \n",
      "             |     0.738 |     0.262 |     0.046 | \n",
      "             |     0.040 |     0.087 |           | \n",
      "             |     0.034 |     0.012 |           | \n",
      "-------------|-----------|-----------|-----------|\n",
      "           3 |     12426 |      3568 |     15994 | \n",
      "             |     0.777 |     0.223 |     0.063 | \n",
      "             |     0.057 |     0.101 |           | \n",
      "             |     0.049 |     0.014 |           | \n",
      "-------------|-----------|-----------|-----------|\n",
      "           4 |     16081 |      4054 |     20135 | \n",
      "             |     0.799 |     0.201 |     0.079 | \n",
      "             |     0.074 |     0.115 |           | \n",
      "             |     0.063 |     0.016 |           | \n",
      "-------------|-----------|-----------|-----------|\n",
      "           5 |     21379 |      4504 |     25883 | \n",
      "             |     0.826 |     0.174 |     0.102 | \n",
      "             |     0.098 |     0.127 |           | \n",
      "             |     0.084 |     0.018 |           | \n",
      "-------------|-----------|-----------|-----------|\n",
      "           6 |     31179 |      5291 |     36470 | \n",
      "             |     0.855 |     0.145 |     0.144 | \n",
      "             |     0.143 |     0.150 |           | \n",
      "             |     0.123 |     0.021 |           | \n",
      "-------------|-----------|-----------|-----------|\n",
      "           7 |     37954 |      5265 |     43219 | \n",
      "             |     0.878 |     0.122 |     0.170 | \n",
      "             |     0.174 |     0.149 |           | \n",
      "             |     0.150 |     0.021 |           | \n",
      "-------------|-----------|-----------|-----------|\n",
      "           8 |     83190 |      7195 |     90385 | \n",
      "             |     0.920 |     0.080 |     0.356 | \n",
      "             |     0.381 |     0.204 |           | \n",
      "             |     0.328 |     0.028 |           | \n",
      "-------------|-----------|-----------|-----------|\n",
      "Column Total |    218334 |     35346 |    253680 | \n",
      "             |     0.861 |     0.139 |           | \n",
      "-------------|-----------|-----------|-----------|\n",
      "\n",
      " \n",
      "Statistics for All Table Factors\n",
      "\n",
      "\n",
      "Pearson's Chi-squared test \n",
      "------------------------------------------------------------\n",
      "Chi^2 =  7003.715     d.f. =  7     p =  0 \n",
      "\n",
      "\n",
      " \n"
     ]
    }
   ],
   "source": [
    "for (ord_col in ordinal_cols)\n",
    "{\n",
    "    summary_categorical_variables(df, ord_col, response_col, is.binary = F)\n",
    "}"
   ]
  },
  {
   "cell_type": "code",
   "execution_count": 283,
   "id": "91454db6-74db-4e3b-b194-409e47e923b6",
   "metadata": {},
   "outputs": [],
   "source": [
    "plot_ordinal_data = function(dataframe, ordinal_col)\n",
    "{\n",
    "    barplot(summary(factor(dataframe[no_diabetes_rows, ][, ordinal_col])), main = sprintf(\"no_diabetes_rows - %s\", ordinal_col),\n",
    "           col = MAIN_COLOR, las = 1, lwd = 2)\n",
    "    barplot(summary(factor(dataframe[with_diabetes_rows, ][, ordinal_col])), main = sprintf(\"no_diabetes_rows - %s\", ordinal_col),\n",
    "           col = MAIN_COLOR, las = 1, lwd = 2)\n",
    "}"
   ]
  },
  {
   "cell_type": "markdown",
   "id": "238be730-64df-4e29-9b15-ba4e1c0dbafa",
   "metadata": {},
   "source": [
    "#### 3.6.1. GenHlth"
   ]
  },
  {
   "cell_type": "code",
   "execution_count": 284,
   "id": "278ec338-8903-4c64-84fb-67093d643b89",
   "metadata": {},
   "outputs": [
    {
     "data": {
      "image/png": "[encoded data removed]",
      "text/plain": [
       "Plot with title \"no_diabetes_rows - GenHlth\""
      ]
     },
     "metadata": {
      "image/png": {
       "height": 420,
       "width": 420
      }
     },
     "output_type": "display_data"
    },
    {
     "data": {
      "image/png": "[encoded data removed]",
      "text/plain": [
       "Plot with title \"no_diabetes_rows - GenHlth\""
      ]
     },
     "metadata": {
      "image/png": {
       "height": 420,
       "width": 420
      }
     },
     "output_type": "display_data"
    }
   ],
   "source": [
    "plot_ordinal_data(balanced_df, \"GenHlth\")"
   ]
  },
  {
   "cell_type": "markdown",
   "id": "fc971f1f-1020-43be-a89d-6923a8198581",
   "metadata": {},
   "source": [
    "#### 3.6.2. Age"
   ]
  },
  {
   "cell_type": "code",
   "execution_count": 285,
   "id": "832a0fb7-1c0e-41f7-bf37-6300f160b594",
   "metadata": {},
   "outputs": [
    {
     "data": {
      "image/png": "[encoded data removed]",
      "text/plain": [
       "Plot with title \"no_diabetes_rows - Age\""
      ]
     },
     "metadata": {
      "image/png": {
       "height": 420,
       "width": 420
      }
     },
     "output_type": "display_data"
    },
    {
     "data": {
      "image/png": "[encoded data removed]",
      "text/plain": [
       "Plot with title \"no_diabetes_rows - Age\""
      ]
     },
     "metadata": {
      "image/png": {
       "height": 420,
       "width": 420
      }
     },
     "output_type": "display_data"
    }
   ],
   "source": [
    "plot_ordinal_data(balanced_df, \"Age\")"
   ]
  },
  {
   "cell_type": "markdown",
   "id": "b0cf75fc-2b60-4440-a95c-43cbd6acdde4",
   "metadata": {},
   "source": [
    "#### 3.6.3. Education"
   ]
  },
  {
   "cell_type": "code",
   "execution_count": 286,
   "id": "143797d1-5806-41c8-a7c9-ea8c5767bf5d",
   "metadata": {},
   "outputs": [
    {
     "data": {
      "image/png": "[encoded data removed]",
      "text/plain": [
       "Plot with title \"no_diabetes_rows - Education\""
      ]
     },
     "metadata": {
      "image/png": {
       "height": 420,
       "width": 420
      }
     },
     "output_type": "display_data"
    },
    {
     "data": {
      "image/png": "[encoded data removed]",
      "text/plain": [
       "Plot with title \"no_diabetes_rows - Education\""
      ]
     },
     "metadata": {
      "image/png": {
       "height": 420,
       "width": 420
      }
     },
     "output_type": "display_data"
    }
   ],
   "source": [
    "plot_ordinal_data(balanced_df, \"Education\")"
   ]
  },
  {
   "cell_type": "markdown",
   "id": "e99d15f8-0d1c-4815-a5c7-dd7266803c37",
   "metadata": {},
   "source": [
    "#### 3.6.4. Income"
   ]
  },
  {
   "cell_type": "code",
   "execution_count": 287,
   "id": "a39f7a15-58b9-4edc-a462-fd8575962eab",
   "metadata": {},
   "outputs": [
    {
     "data": {
      "image/png": "[encoded data removed]",
      "text/plain": [
       "Plot with title \"no_diabetes_rows - Income\""
      ]
     },
     "metadata": {
      "image/png": {
       "height": 420,
       "width": 420
      }
     },
     "output_type": "display_data"
    },
    {
     "data": {
      "image/png": "[encoded data removed]",
      "text/plain": [
       "Plot with title \"no_diabetes_rows - Income\""
      ]
     },
     "metadata": {
      "image/png": {
       "height": 420,
       "width": 420
      }
     },
     "output_type": "display_data"
    }
   ],
   "source": [
    "plot_ordinal_data(balanced_df, \"Income\")"
   ]
  },
  {
   "cell_type": "markdown",
   "id": "e3351bdb-1506-4518-af0c-d1facbd47397",
   "metadata": {},
   "source": [
    "### 3.7. Correlation analysis"
   ]
  },
  {
   "cell_type": "code",
   "execution_count": 288,
   "id": "d5ec2cfe-03b8-4b7f-92dc-c959ce690314",
   "metadata": {},
   "outputs": [],
   "source": [
    "get_correlation = function(dataframe, col_1, col_2, numerical_cols, binary_cols, ordinal_cols, response_col)\n",
    "{\n",
    "    if (col_1 %in% ordinal_cols || col_2 %in% ordinal_cols)\n",
    "    {\n",
    "        return (pcaPP::cor.fk(dataframe[,col_1], dataframe[,col_2]))\n",
    "    }\n",
    "    else if (col_1 %in% numerical_cols && col_2 %in% c(binary_cols, response_col) ||\n",
    "             col_1 %in% c(binary_cols, response_col) && col_2 %in% numerical_cols)\n",
    "    {\n",
    "        return (cor.test(as.numeric(dataframe[,col_1]), as.numeric(dataframe[,col_2]))$estimate)\n",
    "    }\n",
    "    else if (col_1 %in% c(binary_cols, response_col) && col_2 %in% c(binary_cols, response_col))\n",
    "    {\n",
    "        return (rcompanion::cramerV(table(dataframe[ ,c(col_1, col_2)])))\n",
    "    }\n",
    "    else if (col_1 %in% numerical_cols && col_2 %in% numerical_cols)\n",
    "    {\n",
    "        return (cor(dataframe[,col_1], dataframe[,col_2]))\n",
    "    }\n",
    "    else\n",
    "    {\n",
    "        return (0)\n",
    "    }\n",
    "}    "
   ]
  },
  {
   "cell_type": "code",
   "execution_count": 289,
   "id": "f37e8aa4-024a-41ae-96c9-bb634af5d609",
   "metadata": {},
   "outputs": [],
   "source": [
    "all_colnames = colnames(balanced_df)"
   ]
  },
  {
   "cell_type": "code",
   "execution_count": 290,
   "id": "2f33bf34-e7e4-4ca9-86a5-2128a93e1bb0",
   "metadata": {},
   "outputs": [],
   "source": [
    "correlation_matrix = matrix(0, nrow = length(all_colnames), ncol = length(all_colnames), dimnames = list(all_colnames, all_colnames))"
   ]
  },
  {
   "cell_type": "code",
   "execution_count": 291,
   "id": "4f167a1c-17f5-46a5-aaa4-4cb1b124f48a",
   "metadata": {},
   "outputs": [],
   "source": [
    "for (row_index in 1:nrow(correlation_matrix))\n",
    "{\n",
    "    for (col_index in row_index:ncol(correlation_matrix))\n",
    "    {\n",
    "        if (row_index == col_index)\n",
    "        {\n",
    "            correlation_matrix[row_index, col_index] = 1\n",
    "        }\n",
    "        else\n",
    "        {\n",
    "            correlation_matrix[row_index, col_index] = get_correlation(balanced_df, all_colnames[row_index],\n",
    "                                                                       all_colnames[col_index], numerical_cols, \n",
    "                                                                       binary_cols, ordinal_cols, response_col)\n",
    "        }\n",
    "    }    \n",
    "}"
   ]
  },
  {
   "cell_type": "code",
   "execution_count": 292,
   "id": "e019bce1-0842-481f-b55a-0adfd30d9c12",
   "metadata": {},
   "outputs": [
    {
     "data": {
      "text/html": [
       "<table class=\"dataframe\">\n",
       "<caption>A matrix: 24 × 24 of type dbl</caption>\n",
       "<thead>\n",
       "\t<tr><th></th><th scope=col>HighBP</th><th scope=col>HighChol</th><th scope=col>CholCheck</th><th scope=col>BMI</th><th scope=col>BMI_over_45</th><th scope=col>Smoker</th><th scope=col>Stroke</th><th scope=col>HeartDiseaseorAttack</th><th scope=col>PhysActivity</th><th scope=col>Fruits</th><th scope=col>⋯</th><th scope=col>GenHlth</th><th scope=col>MentHlth</th><th scope=col>PhysHlth</th><th scope=col>havePhysHlth</th><th scope=col>DiffWalk</th><th scope=col>Sex</th><th scope=col>Age</th><th scope=col>Education</th><th scope=col>Income</th><th scope=col>Diabetes_binary</th></tr>\n",
       "</thead>\n",
       "<tbody>\n",
       "\t<tr><th scope=row>HighBP</th><td>1</td><td>0.3176</td><td>0.10740</td><td>0.23610109</td><td>0.0742000</td><td>0.0880700</td><td>0.12940000</td><td>0.20820000</td><td> 0.1350000</td><td> 0.04083000</td><td>⋯</td><td> 0.29181219</td><td> 0.068092318</td><td> 0.170322545</td><td>0.1466000</td><td>0.2343000</td><td> 0.040910000</td><td> 0.274829667</td><td>-0.137129155</td><td>-0.1733972774</td><td> 0.37900000</td></tr>\n",
       "\t<tr><th scope=row>HighChol</th><td>0</td><td>1.0000</td><td>0.08729</td><td>0.12422352</td><td>0.0257800</td><td>0.0930600</td><td>0.09540000</td><td>0.17900000</td><td> 0.0908300</td><td> 0.04687000</td><td>⋯</td><td> 0.21605057</td><td> 0.085855324</td><td> 0.140162214</td><td>0.1258000</td><td>0.1625000</td><td> 0.018950000</td><td> 0.187676847</td><td>-0.079289131</td><td>-0.0987634665</td><td> 0.28610000</td></tr>\n",
       "\t<tr><th scope=row>CholCheck</th><td>0</td><td>0.0000</td><td>1.00000</td><td>0.04797384</td><td>0.0126100</td><td>0.0038470</td><td>0.02428000</td><td>0.04419000</td><td> 0.0054890</td><td> 0.01635000</td><td>⋯</td><td> 0.05733579</td><td>-0.002001476</td><td> 0.036506922</td><td>0.0308400</td><td>0.0479200</td><td> 0.013000000</td><td> 0.082637112</td><td>-0.008038499</td><td>-0.0007673536</td><td> 0.11440000</td></tr>\n",
       "\t<tr><th scope=row>BMI</th><td>0</td><td>0.0000</td><td>0.00000</td><td>1.00000000</td><td>0.5753744</td><td>0.0129723</td><td>0.02458917</td><td>0.05835113</td><td>-0.1660643</td><td>-0.08402747</td><td>⋯</td><td> 0.21959652</td><td> 0.109597752</td><td> 0.160745997</td><td>0.1548853</td><td>0.2412872</td><td>-0.002164233</td><td>-0.030530086</td><td>-0.094064852</td><td>-0.0922850794</td><td> 0.28888567</td></tr>\n",
       "\t<tr><th scope=row>BMI_over_45</th><td>0</td><td>0.0000</td><td>0.00000</td><td>0.00000000</td><td>1.0000000</td><td>0.0101200</td><td>0.00937900</td><td>0.01246000</td><td> 0.0882900</td><td> 0.03100000</td><td>⋯</td><td> 0.11393026</td><td> 0.081010107</td><td> 0.110712362</td><td>0.0926600</td><td>0.1478000</td><td> 0.050270000</td><td>-0.055634675</td><td>-0.039473942</td><td>-0.0741686155</td><td> 0.09640000</td></tr>\n",
       "\t<tr><th scope=row>Smoker</th><td>0</td><td>0.0000</td><td>0.00000</td><td>0.00000000</td><td>0.0000000</td><td>1.0000000</td><td>0.06045000</td><td>0.12550000</td><td> 0.0810500</td><td> 0.06912000</td><td>⋯</td><td> 0.13331282</td><td> 0.090121761</td><td> 0.115431664</td><td>0.0702500</td><td>0.1196000</td><td> 0.114700000</td><td> 0.086298702</td><td>-0.137604346</td><td>-0.1007483134</td><td> 0.08860000</td></tr>\n",
       "\t<tr><th scope=row>Stroke</th><td>0</td><td>0.0000</td><td>0.00000</td><td>0.00000000</td><td>0.0000000</td><td>0.0000000</td><td>1.00000000</td><td>0.22420000</td><td> 0.0771600</td><td> 0.01271000</td><td>⋯</td><td> 0.16389267</td><td> 0.084744930</td><td> 0.160569396</td><td>0.1205000</td><td>0.1924000</td><td> 0.004818000</td><td> 0.105306792</td><td>-0.065220749</td><td>-0.1166851780</td><td> 0.12610000</td></tr>\n",
       "\t<tr><th scope=row>HeartDiseaseorAttack</th><td>0</td><td>0.0000</td><td>0.00000</td><td>0.00000000</td><td>0.0000000</td><td>0.0000000</td><td>0.00000000</td><td>1.00000000</td><td> 0.0981800</td><td> 0.02002000</td><td>⋯</td><td> 0.24392523</td><td> 0.080071951</td><td> 0.199152022</td><td>0.1504000</td><td>0.2336000</td><td> 0.097880000</td><td> 0.192733622</td><td>-0.089639902</td><td>-0.1341876683</td><td> 0.21030000</td></tr>\n",
       "\t<tr><th scope=row>PhysActivity</th><td>0</td><td>0.0000</td><td>0.00000</td><td>0.00000000</td><td>0.0000000</td><td>0.0000000</td><td>0.00000000</td><td>0.00000000</td><td> 1.0000000</td><td> 0.13200000</td><td>⋯</td><td>-0.24712748</td><td>-0.132366358</td><td>-0.237765452</td><td>0.1643000</td><td>0.2755000</td><td> 0.051770000</td><td>-0.081208558</td><td> 0.177637724</td><td> 0.1795582577</td><td> 0.15840000</td></tr>\n",
       "\t<tr><th scope=row>Fruits</th><td>0</td><td>0.0000</td><td>0.00000</td><td>0.00000000</td><td>0.0000000</td><td>0.0000000</td><td>0.00000000</td><td>0.00000000</td><td> 0.0000000</td><td> 1.00000000</td><td>⋯</td><td>-0.09073969</td><td>-0.061481308</td><td>-0.047274448</td><td>0.0408700</td><td>0.0504400</td><td> 0.090290000</td><td> 0.057130339</td><td> 0.096483480</td><td> 0.0665621517</td><td> 0.05772000</td></tr>\n",
       "\t<tr><th scope=row>Veggies</th><td>0</td><td>0.0000</td><td>0.00000</td><td>0.00000000</td><td>0.0000000</td><td>0.0000000</td><td>0.00000000</td><td>0.00000000</td><td> 0.0000000</td><td> 0.00000000</td><td>⋯</td><td>-0.10685309</td><td>-0.056011264</td><td>-0.065824806</td><td>0.0505600</td><td>0.0843600</td><td> 0.049950000</td><td>-0.014654649</td><td> 0.142649406</td><td> 0.1364596077</td><td> 0.07867000</td></tr>\n",
       "\t<tr><th scope=row>HvyAlcoholConsump</th><td>0</td><td>0.0000</td><td>0.00000</td><td>0.00000000</td><td>0.0000000</td><td>0.0000000</td><td>0.00000000</td><td>0.00000000</td><td> 0.0000000</td><td> 0.00000000</td><td>⋯</td><td>-0.05301157</td><td> 0.015122973</td><td>-0.036854606</td><td>0.0317500</td><td>0.0492700</td><td> 0.014630000</td><td>-0.048060470</td><td> 0.029099481</td><td> 0.0580850015</td><td> 0.09381000</td></tr>\n",
       "\t<tr><th scope=row>AnyHealthcare</th><td>0</td><td>0.0000</td><td>0.00000</td><td>0.00000000</td><td>0.0000000</td><td>0.0000000</td><td>0.00000000</td><td>0.00000000</td><td> 0.0000000</td><td> 0.00000000</td><td>⋯</td><td>-0.02914867</td><td>-0.053915103</td><td>-0.005967407</td><td>0.0067020</td><td>0.0106800</td><td> 0.005406000</td><td> 0.122913499</td><td> 0.089992816</td><td> 0.1155977741</td><td> 0.02460000</td></tr>\n",
       "\t<tr><th scope=row>NoDocbcCost</th><td>0</td><td>0.0000</td><td>0.00000</td><td>0.00000000</td><td>0.0000000</td><td>0.0000000</td><td>0.00000000</td><td>0.00000000</td><td> 0.0000000</td><td> 0.00000000</td><td>⋯</td><td> 0.14855022</td><td> 0.192428240</td><td> 0.154352106</td><td>0.1453000</td><td>0.1230000</td><td> 0.048740000</td><td>-0.118790881</td><td>-0.086475868</td><td>-0.1716676601</td><td> 0.04350000</td></tr>\n",
       "\t<tr><th scope=row>GenHlth</th><td>0</td><td>0.0000</td><td>0.00000</td><td>0.00000000</td><td>0.0000000</td><td>0.0000000</td><td>0.00000000</td><td>0.00000000</td><td> 0.0000000</td><td> 0.00000000</td><td>⋯</td><td> 1.00000000</td><td> 0.230523282</td><td> 0.441725609</td><td>0.3988760</td><td>0.4223004</td><td>-0.017831950</td><td> 0.106022062</td><td>-0.239775571</td><td>-0.3122045964</td><td> 0.37345830</td></tr>\n",
       "\t<tr><th scope=row>MentHlth</th><td>0</td><td>0.0000</td><td>0.00000</td><td>0.00000000</td><td>0.0000000</td><td>0.0000000</td><td>0.00000000</td><td>0.00000000</td><td> 0.0000000</td><td> 0.00000000</td><td>⋯</td><td> 0.00000000</td><td> 1.000000000</td><td> 0.380025587</td><td>0.2848122</td><td>0.2533557</td><td>-0.085643732</td><td>-0.132683075</td><td>-0.059690519</td><td>-0.1427635825</td><td> 0.09090758</td></tr>\n",
       "\t<tr><th scope=row>PhysHlth</th><td>0</td><td>0.0000</td><td>0.00000</td><td>0.00000000</td><td>0.0000000</td><td>0.0000000</td><td>0.00000000</td><td>0.00000000</td><td> 0.0000000</td><td> 0.00000000</td><td>⋯</td><td> 0.00000000</td><td> 0.000000000</td><td> 1.000000000</td><td>0.6571601</td><td>0.4870100</td><td>-0.047058108</td><td> 0.033606520</td><td>-0.113568656</td><td>-0.2084412375</td><td> 0.21380239</td></tr>\n",
       "\t<tr><th scope=row>havePhysHlth</th><td>0</td><td>0.0000</td><td>0.00000</td><td>0.00000000</td><td>0.0000000</td><td>0.0000000</td><td>0.00000000</td><td>0.00000000</td><td> 0.0000000</td><td> 0.00000000</td><td>⋯</td><td> 0.00000000</td><td> 0.000000000</td><td> 0.000000000</td><td>1.0000000</td><td>0.3781000</td><td> 0.076320000</td><td> 0.014206346</td><td>-0.090650013</td><td>-0.1849875956</td><td> 0.18380000</td></tr>\n",
       "\t<tr><th scope=row>DiffWalk</th><td>0</td><td>0.0000</td><td>0.00000</td><td>0.00000000</td><td>0.0000000</td><td>0.0000000</td><td>0.00000000</td><td>0.00000000</td><td> 0.0000000</td><td> 0.00000000</td><td>⋯</td><td> 0.00000000</td><td> 0.000000000</td><td> 0.000000000</td><td>0.0000000</td><td>1.0000000</td><td> 0.085600000</td><td> 0.158458583</td><td>-0.184499927</td><td>-0.2974793978</td><td> 0.27140000</td></tr>\n",
       "\t<tr><th scope=row>Sex</th><td>0</td><td>0.0000</td><td>0.00000</td><td>0.00000000</td><td>0.0000000</td><td>0.0000000</td><td>0.00000000</td><td>0.00000000</td><td> 0.0000000</td><td> 0.00000000</td><td>⋯</td><td> 0.00000000</td><td> 0.000000000</td><td> 0.000000000</td><td>0.0000000</td><td>0.0000000</td><td> 1.000000000</td><td>-0.000673236</td><td> 0.046437648</td><td> 0.1400386147</td><td> 0.04570000</td></tr>\n",
       "\t<tr><th scope=row>Age</th><td>0</td><td>0.0000</td><td>0.00000</td><td>0.00000000</td><td>0.0000000</td><td>0.0000000</td><td>0.00000000</td><td>0.00000000</td><td> 0.0000000</td><td> 0.00000000</td><td>⋯</td><td> 0.00000000</td><td> 0.000000000</td><td> 0.000000000</td><td>0.0000000</td><td>0.0000000</td><td> 0.000000000</td><td> 1.000000000</td><td>-0.082806342</td><td>-0.1330198793</td><td> 0.22057705</td></tr>\n",
       "\t<tr><th scope=row>Education</th><td>0</td><td>0.0000</td><td>0.00000</td><td>0.00000000</td><td>0.0000000</td><td>0.0000000</td><td>0.00000000</td><td>0.00000000</td><td> 0.0000000</td><td> 0.00000000</td><td>⋯</td><td> 0.00000000</td><td> 0.000000000</td><td> 0.000000000</td><td>0.0000000</td><td>0.0000000</td><td> 0.000000000</td><td> 0.000000000</td><td> 1.000000000</td><td> 0.3851944781</td><td>-0.15790982</td></tr>\n",
       "\t<tr><th scope=row>Income</th><td>0</td><td>0.0000</td><td>0.00000</td><td>0.00000000</td><td>0.0000000</td><td>0.0000000</td><td>0.00000000</td><td>0.00000000</td><td> 0.0000000</td><td> 0.00000000</td><td>⋯</td><td> 0.00000000</td><td> 0.000000000</td><td> 0.000000000</td><td>0.0000000</td><td>0.0000000</td><td> 0.000000000</td><td> 0.000000000</td><td> 0.000000000</td><td> 1.0000000000</td><td>-0.20373132</td></tr>\n",
       "\t<tr><th scope=row>Diabetes_binary</th><td>0</td><td>0.0000</td><td>0.00000</td><td>0.00000000</td><td>0.0000000</td><td>0.0000000</td><td>0.00000000</td><td>0.00000000</td><td> 0.0000000</td><td> 0.00000000</td><td>⋯</td><td> 0.00000000</td><td> 0.000000000</td><td> 0.000000000</td><td>0.0000000</td><td>0.0000000</td><td> 0.000000000</td><td> 0.000000000</td><td> 0.000000000</td><td> 0.0000000000</td><td> 1.00000000</td></tr>\n",
       "</tbody>\n",
       "</table>\n"
      ],
      "text/latex": [
       "A matrix: 24 × 24 of type dbl\n",
       "\\begin{tabular}{r|lllllllllllllllllllll}\n",
       "  & HighBP & HighChol & CholCheck & BMI & BMI\\_over\\_45 & Smoker & Stroke & HeartDiseaseorAttack & PhysActivity & Fruits & ⋯ & GenHlth & MentHlth & PhysHlth & havePhysHlth & DiffWalk & Sex & Age & Education & Income & Diabetes\\_binary\\\\\n",
       "\\hline\n",
       "\tHighBP & 1 & 0.3176 & 0.10740 & 0.23610109 & 0.0742000 & 0.0880700 & 0.12940000 & 0.20820000 &  0.1350000 &  0.04083000 & ⋯ &  0.29181219 &  0.068092318 &  0.170322545 & 0.1466000 & 0.2343000 &  0.040910000 &  0.274829667 & -0.137129155 & -0.1733972774 &  0.37900000\\\\\n",
       "\tHighChol & 0 & 1.0000 & 0.08729 & 0.12422352 & 0.0257800 & 0.0930600 & 0.09540000 & 0.17900000 &  0.0908300 &  0.04687000 & ⋯ &  0.21605057 &  0.085855324 &  0.140162214 & 0.1258000 & 0.1625000 &  0.018950000 &  0.187676847 & -0.079289131 & -0.0987634665 &  0.28610000\\\\\n",
       "\tCholCheck & 0 & 0.0000 & 1.00000 & 0.04797384 & 0.0126100 & 0.0038470 & 0.02428000 & 0.04419000 &  0.0054890 &  0.01635000 & ⋯ &  0.05733579 & -0.002001476 &  0.036506922 & 0.0308400 & 0.0479200 &  0.013000000 &  0.082637112 & -0.008038499 & -0.0007673536 &  0.11440000\\\\\n",
       "\tBMI & 0 & 0.0000 & 0.00000 & 1.00000000 & 0.5753744 & 0.0129723 & 0.02458917 & 0.05835113 & -0.1660643 & -0.08402747 & ⋯ &  0.21959652 &  0.109597752 &  0.160745997 & 0.1548853 & 0.2412872 & -0.002164233 & -0.030530086 & -0.094064852 & -0.0922850794 &  0.28888567\\\\\n",
       "\tBMI\\_over\\_45 & 0 & 0.0000 & 0.00000 & 0.00000000 & 1.0000000 & 0.0101200 & 0.00937900 & 0.01246000 &  0.0882900 &  0.03100000 & ⋯ &  0.11393026 &  0.081010107 &  0.110712362 & 0.0926600 & 0.1478000 &  0.050270000 & -0.055634675 & -0.039473942 & -0.0741686155 &  0.09640000\\\\\n",
       "\tSmoker & 0 & 0.0000 & 0.00000 & 0.00000000 & 0.0000000 & 1.0000000 & 0.06045000 & 0.12550000 &  0.0810500 &  0.06912000 & ⋯ &  0.13331282 &  0.090121761 &  0.115431664 & 0.0702500 & 0.1196000 &  0.114700000 &  0.086298702 & -0.137604346 & -0.1007483134 &  0.08860000\\\\\n",
       "\tStroke & 0 & 0.0000 & 0.00000 & 0.00000000 & 0.0000000 & 0.0000000 & 1.00000000 & 0.22420000 &  0.0771600 &  0.01271000 & ⋯ &  0.16389267 &  0.084744930 &  0.160569396 & 0.1205000 & 0.1924000 &  0.004818000 &  0.105306792 & -0.065220749 & -0.1166851780 &  0.12610000\\\\\n",
       "\tHeartDiseaseorAttack & 0 & 0.0000 & 0.00000 & 0.00000000 & 0.0000000 & 0.0000000 & 0.00000000 & 1.00000000 &  0.0981800 &  0.02002000 & ⋯ &  0.24392523 &  0.080071951 &  0.199152022 & 0.1504000 & 0.2336000 &  0.097880000 &  0.192733622 & -0.089639902 & -0.1341876683 &  0.21030000\\\\\n",
       "\tPhysActivity & 0 & 0.0000 & 0.00000 & 0.00000000 & 0.0000000 & 0.0000000 & 0.00000000 & 0.00000000 &  1.0000000 &  0.13200000 & ⋯ & -0.24712748 & -0.132366358 & -0.237765452 & 0.1643000 & 0.2755000 &  0.051770000 & -0.081208558 &  0.177637724 &  0.1795582577 &  0.15840000\\\\\n",
       "\tFruits & 0 & 0.0000 & 0.00000 & 0.00000000 & 0.0000000 & 0.0000000 & 0.00000000 & 0.00000000 &  0.0000000 &  1.00000000 & ⋯ & -0.09073969 & -0.061481308 & -0.047274448 & 0.0408700 & 0.0504400 &  0.090290000 &  0.057130339 &  0.096483480 &  0.0665621517 &  0.05772000\\\\\n",
       "\tVeggies & 0 & 0.0000 & 0.00000 & 0.00000000 & 0.0000000 & 0.0000000 & 0.00000000 & 0.00000000 &  0.0000000 &  0.00000000 & ⋯ & -0.10685309 & -0.056011264 & -0.065824806 & 0.0505600 & 0.0843600 &  0.049950000 & -0.014654649 &  0.142649406 &  0.1364596077 &  0.07867000\\\\\n",
       "\tHvyAlcoholConsump & 0 & 0.0000 & 0.00000 & 0.00000000 & 0.0000000 & 0.0000000 & 0.00000000 & 0.00000000 &  0.0000000 &  0.00000000 & ⋯ & -0.05301157 &  0.015122973 & -0.036854606 & 0.0317500 & 0.0492700 &  0.014630000 & -0.048060470 &  0.029099481 &  0.0580850015 &  0.09381000\\\\\n",
       "\tAnyHealthcare & 0 & 0.0000 & 0.00000 & 0.00000000 & 0.0000000 & 0.0000000 & 0.00000000 & 0.00000000 &  0.0000000 &  0.00000000 & ⋯ & -0.02914867 & -0.053915103 & -0.005967407 & 0.0067020 & 0.0106800 &  0.005406000 &  0.122913499 &  0.089992816 &  0.1155977741 &  0.02460000\\\\\n",
       "\tNoDocbcCost & 0 & 0.0000 & 0.00000 & 0.00000000 & 0.0000000 & 0.0000000 & 0.00000000 & 0.00000000 &  0.0000000 &  0.00000000 & ⋯ &  0.14855022 &  0.192428240 &  0.154352106 & 0.1453000 & 0.1230000 &  0.048740000 & -0.118790881 & -0.086475868 & -0.1716676601 &  0.04350000\\\\\n",
       "\tGenHlth & 0 & 0.0000 & 0.00000 & 0.00000000 & 0.0000000 & 0.0000000 & 0.00000000 & 0.00000000 &  0.0000000 &  0.00000000 & ⋯ &  1.00000000 &  0.230523282 &  0.441725609 & 0.3988760 & 0.4223004 & -0.017831950 &  0.106022062 & -0.239775571 & -0.3122045964 &  0.37345830\\\\\n",
       "\tMentHlth & 0 & 0.0000 & 0.00000 & 0.00000000 & 0.0000000 & 0.0000000 & 0.00000000 & 0.00000000 &  0.0000000 &  0.00000000 & ⋯ &  0.00000000 &  1.000000000 &  0.380025587 & 0.2848122 & 0.2533557 & -0.085643732 & -0.132683075 & -0.059690519 & -0.1427635825 &  0.09090758\\\\\n",
       "\tPhysHlth & 0 & 0.0000 & 0.00000 & 0.00000000 & 0.0000000 & 0.0000000 & 0.00000000 & 0.00000000 &  0.0000000 &  0.00000000 & ⋯ &  0.00000000 &  0.000000000 &  1.000000000 & 0.6571601 & 0.4870100 & -0.047058108 &  0.033606520 & -0.113568656 & -0.2084412375 &  0.21380239\\\\\n",
       "\thavePhysHlth & 0 & 0.0000 & 0.00000 & 0.00000000 & 0.0000000 & 0.0000000 & 0.00000000 & 0.00000000 &  0.0000000 &  0.00000000 & ⋯ &  0.00000000 &  0.000000000 &  0.000000000 & 1.0000000 & 0.3781000 &  0.076320000 &  0.014206346 & -0.090650013 & -0.1849875956 &  0.18380000\\\\\n",
       "\tDiffWalk & 0 & 0.0000 & 0.00000 & 0.00000000 & 0.0000000 & 0.0000000 & 0.00000000 & 0.00000000 &  0.0000000 &  0.00000000 & ⋯ &  0.00000000 &  0.000000000 &  0.000000000 & 0.0000000 & 1.0000000 &  0.085600000 &  0.158458583 & -0.184499927 & -0.2974793978 &  0.27140000\\\\\n",
       "\tSex & 0 & 0.0000 & 0.00000 & 0.00000000 & 0.0000000 & 0.0000000 & 0.00000000 & 0.00000000 &  0.0000000 &  0.00000000 & ⋯ &  0.00000000 &  0.000000000 &  0.000000000 & 0.0000000 & 0.0000000 &  1.000000000 & -0.000673236 &  0.046437648 &  0.1400386147 &  0.04570000\\\\\n",
       "\tAge & 0 & 0.0000 & 0.00000 & 0.00000000 & 0.0000000 & 0.0000000 & 0.00000000 & 0.00000000 &  0.0000000 &  0.00000000 & ⋯ &  0.00000000 &  0.000000000 &  0.000000000 & 0.0000000 & 0.0000000 &  0.000000000 &  1.000000000 & -0.082806342 & -0.1330198793 &  0.22057705\\\\\n",
       "\tEducation & 0 & 0.0000 & 0.00000 & 0.00000000 & 0.0000000 & 0.0000000 & 0.00000000 & 0.00000000 &  0.0000000 &  0.00000000 & ⋯ &  0.00000000 &  0.000000000 &  0.000000000 & 0.0000000 & 0.0000000 &  0.000000000 &  0.000000000 &  1.000000000 &  0.3851944781 & -0.15790982\\\\\n",
       "\tIncome & 0 & 0.0000 & 0.00000 & 0.00000000 & 0.0000000 & 0.0000000 & 0.00000000 & 0.00000000 &  0.0000000 &  0.00000000 & ⋯ &  0.00000000 &  0.000000000 &  0.000000000 & 0.0000000 & 0.0000000 &  0.000000000 &  0.000000000 &  0.000000000 &  1.0000000000 & -0.20373132\\\\\n",
       "\tDiabetes\\_binary & 0 & 0.0000 & 0.00000 & 0.00000000 & 0.0000000 & 0.0000000 & 0.00000000 & 0.00000000 &  0.0000000 &  0.00000000 & ⋯ &  0.00000000 &  0.000000000 &  0.000000000 & 0.0000000 & 0.0000000 &  0.000000000 &  0.000000000 &  0.000000000 &  0.0000000000 &  1.00000000\\\\\n",
       "\\end{tabular}\n"
      ],
      "text/markdown": [
       "\n",
       "A matrix: 24 × 24 of type dbl\n",
       "\n",
       "| <!--/--> | HighBP | HighChol | CholCheck | BMI | BMI_over_45 | Smoker | Stroke | HeartDiseaseorAttack | PhysActivity | Fruits | ⋯ | GenHlth | MentHlth | PhysHlth | havePhysHlth | DiffWalk | Sex | Age | Education | Income | Diabetes_binary |\n",
       "|---|---|---|---|---|---|---|---|---|---|---|---|---|---|---|---|---|---|---|---|---|---|\n",
       "| HighBP | 1 | 0.3176 | 0.10740 | 0.23610109 | 0.0742000 | 0.0880700 | 0.12940000 | 0.20820000 |  0.1350000 |  0.04083000 | ⋯ |  0.29181219 |  0.068092318 |  0.170322545 | 0.1466000 | 0.2343000 |  0.040910000 |  0.274829667 | -0.137129155 | -0.1733972774 |  0.37900000 |\n",
       "| HighChol | 0 | 1.0000 | 0.08729 | 0.12422352 | 0.0257800 | 0.0930600 | 0.09540000 | 0.17900000 |  0.0908300 |  0.04687000 | ⋯ |  0.21605057 |  0.085855324 |  0.140162214 | 0.1258000 | 0.1625000 |  0.018950000 |  0.187676847 | -0.079289131 | -0.0987634665 |  0.28610000 |\n",
       "| CholCheck | 0 | 0.0000 | 1.00000 | 0.04797384 | 0.0126100 | 0.0038470 | 0.02428000 | 0.04419000 |  0.0054890 |  0.01635000 | ⋯ |  0.05733579 | -0.002001476 |  0.036506922 | 0.0308400 | 0.0479200 |  0.013000000 |  0.082637112 | -0.008038499 | -0.0007673536 |  0.11440000 |\n",
       "| BMI | 0 | 0.0000 | 0.00000 | 1.00000000 | 0.5753744 | 0.0129723 | 0.02458917 | 0.05835113 | -0.1660643 | -0.08402747 | ⋯ |  0.21959652 |  0.109597752 |  0.160745997 | 0.1548853 | 0.2412872 | -0.002164233 | -0.030530086 | -0.094064852 | -0.0922850794 |  0.28888567 |\n",
       "| BMI_over_45 | 0 | 0.0000 | 0.00000 | 0.00000000 | 1.0000000 | 0.0101200 | 0.00937900 | 0.01246000 |  0.0882900 |  0.03100000 | ⋯ |  0.11393026 |  0.081010107 |  0.110712362 | 0.0926600 | 0.1478000 |  0.050270000 | -0.055634675 | -0.039473942 | -0.0741686155 |  0.09640000 |\n",
       "| Smoker | 0 | 0.0000 | 0.00000 | 0.00000000 | 0.0000000 | 1.0000000 | 0.06045000 | 0.12550000 |  0.0810500 |  0.06912000 | ⋯ |  0.13331282 |  0.090121761 |  0.115431664 | 0.0702500 | 0.1196000 |  0.114700000 |  0.086298702 | -0.137604346 | -0.1007483134 |  0.08860000 |\n",
       "| Stroke | 0 | 0.0000 | 0.00000 | 0.00000000 | 0.0000000 | 0.0000000 | 1.00000000 | 0.22420000 |  0.0771600 |  0.01271000 | ⋯ |  0.16389267 |  0.084744930 |  0.160569396 | 0.1205000 | 0.1924000 |  0.004818000 |  0.105306792 | -0.065220749 | -0.1166851780 |  0.12610000 |\n",
       "| HeartDiseaseorAttack | 0 | 0.0000 | 0.00000 | 0.00000000 | 0.0000000 | 0.0000000 | 0.00000000 | 1.00000000 |  0.0981800 |  0.02002000 | ⋯ |  0.24392523 |  0.080071951 |  0.199152022 | 0.1504000 | 0.2336000 |  0.097880000 |  0.192733622 | -0.089639902 | -0.1341876683 |  0.21030000 |\n",
       "| PhysActivity | 0 | 0.0000 | 0.00000 | 0.00000000 | 0.0000000 | 0.0000000 | 0.00000000 | 0.00000000 |  1.0000000 |  0.13200000 | ⋯ | -0.24712748 | -0.132366358 | -0.237765452 | 0.1643000 | 0.2755000 |  0.051770000 | -0.081208558 |  0.177637724 |  0.1795582577 |  0.15840000 |\n",
       "| Fruits | 0 | 0.0000 | 0.00000 | 0.00000000 | 0.0000000 | 0.0000000 | 0.00000000 | 0.00000000 |  0.0000000 |  1.00000000 | ⋯ | -0.09073969 | -0.061481308 | -0.047274448 | 0.0408700 | 0.0504400 |  0.090290000 |  0.057130339 |  0.096483480 |  0.0665621517 |  0.05772000 |\n",
       "| Veggies | 0 | 0.0000 | 0.00000 | 0.00000000 | 0.0000000 | 0.0000000 | 0.00000000 | 0.00000000 |  0.0000000 |  0.00000000 | ⋯ | -0.10685309 | -0.056011264 | -0.065824806 | 0.0505600 | 0.0843600 |  0.049950000 | -0.014654649 |  0.142649406 |  0.1364596077 |  0.07867000 |\n",
       "| HvyAlcoholConsump | 0 | 0.0000 | 0.00000 | 0.00000000 | 0.0000000 | 0.0000000 | 0.00000000 | 0.00000000 |  0.0000000 |  0.00000000 | ⋯ | -0.05301157 |  0.015122973 | -0.036854606 | 0.0317500 | 0.0492700 |  0.014630000 | -0.048060470 |  0.029099481 |  0.0580850015 |  0.09381000 |\n",
       "| AnyHealthcare | 0 | 0.0000 | 0.00000 | 0.00000000 | 0.0000000 | 0.0000000 | 0.00000000 | 0.00000000 |  0.0000000 |  0.00000000 | ⋯ | -0.02914867 | -0.053915103 | -0.005967407 | 0.0067020 | 0.0106800 |  0.005406000 |  0.122913499 |  0.089992816 |  0.1155977741 |  0.02460000 |\n",
       "| NoDocbcCost | 0 | 0.0000 | 0.00000 | 0.00000000 | 0.0000000 | 0.0000000 | 0.00000000 | 0.00000000 |  0.0000000 |  0.00000000 | ⋯ |  0.14855022 |  0.192428240 |  0.154352106 | 0.1453000 | 0.1230000 |  0.048740000 | -0.118790881 | -0.086475868 | -0.1716676601 |  0.04350000 |\n",
       "| GenHlth | 0 | 0.0000 | 0.00000 | 0.00000000 | 0.0000000 | 0.0000000 | 0.00000000 | 0.00000000 |  0.0000000 |  0.00000000 | ⋯ |  1.00000000 |  0.230523282 |  0.441725609 | 0.3988760 | 0.4223004 | -0.017831950 |  0.106022062 | -0.239775571 | -0.3122045964 |  0.37345830 |\n",
       "| MentHlth | 0 | 0.0000 | 0.00000 | 0.00000000 | 0.0000000 | 0.0000000 | 0.00000000 | 0.00000000 |  0.0000000 |  0.00000000 | ⋯ |  0.00000000 |  1.000000000 |  0.380025587 | 0.2848122 | 0.2533557 | -0.085643732 | -0.132683075 | -0.059690519 | -0.1427635825 |  0.09090758 |\n",
       "| PhysHlth | 0 | 0.0000 | 0.00000 | 0.00000000 | 0.0000000 | 0.0000000 | 0.00000000 | 0.00000000 |  0.0000000 |  0.00000000 | ⋯ |  0.00000000 |  0.000000000 |  1.000000000 | 0.6571601 | 0.4870100 | -0.047058108 |  0.033606520 | -0.113568656 | -0.2084412375 |  0.21380239 |\n",
       "| havePhysHlth | 0 | 0.0000 | 0.00000 | 0.00000000 | 0.0000000 | 0.0000000 | 0.00000000 | 0.00000000 |  0.0000000 |  0.00000000 | ⋯ |  0.00000000 |  0.000000000 |  0.000000000 | 1.0000000 | 0.3781000 |  0.076320000 |  0.014206346 | -0.090650013 | -0.1849875956 |  0.18380000 |\n",
       "| DiffWalk | 0 | 0.0000 | 0.00000 | 0.00000000 | 0.0000000 | 0.0000000 | 0.00000000 | 0.00000000 |  0.0000000 |  0.00000000 | ⋯ |  0.00000000 |  0.000000000 |  0.000000000 | 0.0000000 | 1.0000000 |  0.085600000 |  0.158458583 | -0.184499927 | -0.2974793978 |  0.27140000 |\n",
       "| Sex | 0 | 0.0000 | 0.00000 | 0.00000000 | 0.0000000 | 0.0000000 | 0.00000000 | 0.00000000 |  0.0000000 |  0.00000000 | ⋯ |  0.00000000 |  0.000000000 |  0.000000000 | 0.0000000 | 0.0000000 |  1.000000000 | -0.000673236 |  0.046437648 |  0.1400386147 |  0.04570000 |\n",
       "| Age | 0 | 0.0000 | 0.00000 | 0.00000000 | 0.0000000 | 0.0000000 | 0.00000000 | 0.00000000 |  0.0000000 |  0.00000000 | ⋯ |  0.00000000 |  0.000000000 |  0.000000000 | 0.0000000 | 0.0000000 |  0.000000000 |  1.000000000 | -0.082806342 | -0.1330198793 |  0.22057705 |\n",
       "| Education | 0 | 0.0000 | 0.00000 | 0.00000000 | 0.0000000 | 0.0000000 | 0.00000000 | 0.00000000 |  0.0000000 |  0.00000000 | ⋯ |  0.00000000 |  0.000000000 |  0.000000000 | 0.0000000 | 0.0000000 |  0.000000000 |  0.000000000 |  1.000000000 |  0.3851944781 | -0.15790982 |\n",
       "| Income | 0 | 0.0000 | 0.00000 | 0.00000000 | 0.0000000 | 0.0000000 | 0.00000000 | 0.00000000 |  0.0000000 |  0.00000000 | ⋯ |  0.00000000 |  0.000000000 |  0.000000000 | 0.0000000 | 0.0000000 |  0.000000000 |  0.000000000 |  0.000000000 |  1.0000000000 | -0.20373132 |\n",
       "| Diabetes_binary | 0 | 0.0000 | 0.00000 | 0.00000000 | 0.0000000 | 0.0000000 | 0.00000000 | 0.00000000 |  0.0000000 |  0.00000000 | ⋯ |  0.00000000 |  0.000000000 |  0.000000000 | 0.0000000 | 0.0000000 |  0.000000000 |  0.000000000 |  0.000000000 |  0.0000000000 |  1.00000000 |\n",
       "\n"
      ],
      "text/plain": [
       "                     HighBP HighChol CholCheck BMI        BMI_over_45 Smoker   \n",
       "HighBP               1      0.3176   0.10740   0.23610109 0.0742000   0.0880700\n",
       "HighChol             0      1.0000   0.08729   0.12422352 0.0257800   0.0930600\n",
       "CholCheck            0      0.0000   1.00000   0.04797384 0.0126100   0.0038470\n",
       "BMI                  0      0.0000   0.00000   1.00000000 0.5753744   0.0129723\n",
       "BMI_over_45          0      0.0000   0.00000   0.00000000 1.0000000   0.0101200\n",
       "Smoker               0      0.0000   0.00000   0.00000000 0.0000000   1.0000000\n",
       "Stroke               0      0.0000   0.00000   0.00000000 0.0000000   0.0000000\n",
       "HeartDiseaseorAttack 0      0.0000   0.00000   0.00000000 0.0000000   0.0000000\n",
       "PhysActivity         0      0.0000   0.00000   0.00000000 0.0000000   0.0000000\n",
       "Fruits               0      0.0000   0.00000   0.00000000 0.0000000   0.0000000\n",
       "Veggies              0      0.0000   0.00000   0.00000000 0.0000000   0.0000000\n",
       "HvyAlcoholConsump    0      0.0000   0.00000   0.00000000 0.0000000   0.0000000\n",
       "AnyHealthcare        0      0.0000   0.00000   0.00000000 0.0000000   0.0000000\n",
       "NoDocbcCost          0      0.0000   0.00000   0.00000000 0.0000000   0.0000000\n",
       "GenHlth              0      0.0000   0.00000   0.00000000 0.0000000   0.0000000\n",
       "MentHlth             0      0.0000   0.00000   0.00000000 0.0000000   0.0000000\n",
       "PhysHlth             0      0.0000   0.00000   0.00000000 0.0000000   0.0000000\n",
       "havePhysHlth         0      0.0000   0.00000   0.00000000 0.0000000   0.0000000\n",
       "DiffWalk             0      0.0000   0.00000   0.00000000 0.0000000   0.0000000\n",
       "Sex                  0      0.0000   0.00000   0.00000000 0.0000000   0.0000000\n",
       "Age                  0      0.0000   0.00000   0.00000000 0.0000000   0.0000000\n",
       "Education            0      0.0000   0.00000   0.00000000 0.0000000   0.0000000\n",
       "Income               0      0.0000   0.00000   0.00000000 0.0000000   0.0000000\n",
       "Diabetes_binary      0      0.0000   0.00000   0.00000000 0.0000000   0.0000000\n",
       "                     Stroke     HeartDiseaseorAttack PhysActivity Fruits     \n",
       "HighBP               0.12940000 0.20820000            0.1350000    0.04083000\n",
       "HighChol             0.09540000 0.17900000            0.0908300    0.04687000\n",
       "CholCheck            0.02428000 0.04419000            0.0054890    0.01635000\n",
       "BMI                  0.02458917 0.05835113           -0.1660643   -0.08402747\n",
       "BMI_over_45          0.00937900 0.01246000            0.0882900    0.03100000\n",
       "Smoker               0.06045000 0.12550000            0.0810500    0.06912000\n",
       "Stroke               1.00000000 0.22420000            0.0771600    0.01271000\n",
       "HeartDiseaseorAttack 0.00000000 1.00000000            0.0981800    0.02002000\n",
       "PhysActivity         0.00000000 0.00000000            1.0000000    0.13200000\n",
       "Fruits               0.00000000 0.00000000            0.0000000    1.00000000\n",
       "Veggies              0.00000000 0.00000000            0.0000000    0.00000000\n",
       "HvyAlcoholConsump    0.00000000 0.00000000            0.0000000    0.00000000\n",
       "AnyHealthcare        0.00000000 0.00000000            0.0000000    0.00000000\n",
       "NoDocbcCost          0.00000000 0.00000000            0.0000000    0.00000000\n",
       "GenHlth              0.00000000 0.00000000            0.0000000    0.00000000\n",
       "MentHlth             0.00000000 0.00000000            0.0000000    0.00000000\n",
       "PhysHlth             0.00000000 0.00000000            0.0000000    0.00000000\n",
       "havePhysHlth         0.00000000 0.00000000            0.0000000    0.00000000\n",
       "DiffWalk             0.00000000 0.00000000            0.0000000    0.00000000\n",
       "Sex                  0.00000000 0.00000000            0.0000000    0.00000000\n",
       "Age                  0.00000000 0.00000000            0.0000000    0.00000000\n",
       "Education            0.00000000 0.00000000            0.0000000    0.00000000\n",
       "Income               0.00000000 0.00000000            0.0000000    0.00000000\n",
       "Diabetes_binary      0.00000000 0.00000000            0.0000000    0.00000000\n",
       "                     <U+22EF>        GenHlth     MentHlth     PhysHlth    \n",
       "HighBP               <U+22EF>  0.29181219  0.068092318  0.170322545\n",
       "HighChol             <U+22EF>  0.21605057  0.085855324  0.140162214\n",
       "CholCheck            <U+22EF>  0.05733579 -0.002001476  0.036506922\n",
       "BMI                  <U+22EF>  0.21959652  0.109597752  0.160745997\n",
       "BMI_over_45          <U+22EF>  0.11393026  0.081010107  0.110712362\n",
       "Smoker               <U+22EF>  0.13331282  0.090121761  0.115431664\n",
       "Stroke               <U+22EF>  0.16389267  0.084744930  0.160569396\n",
       "HeartDiseaseorAttack <U+22EF>  0.24392523  0.080071951  0.199152022\n",
       "PhysActivity         <U+22EF> -0.24712748 -0.132366358 -0.237765452\n",
       "Fruits               <U+22EF> -0.09073969 -0.061481308 -0.047274448\n",
       "Veggies              <U+22EF> -0.10685309 -0.056011264 -0.065824806\n",
       "HvyAlcoholConsump    <U+22EF> -0.05301157  0.015122973 -0.036854606\n",
       "AnyHealthcare        <U+22EF> -0.02914867 -0.053915103 -0.005967407\n",
       "NoDocbcCost          <U+22EF>  0.14855022  0.192428240  0.154352106\n",
       "GenHlth              <U+22EF>  1.00000000  0.230523282  0.441725609\n",
       "MentHlth             <U+22EF>  0.00000000  1.000000000  0.380025587\n",
       "PhysHlth             <U+22EF>  0.00000000  0.000000000  1.000000000\n",
       "havePhysHlth         <U+22EF>  0.00000000  0.000000000  0.000000000\n",
       "DiffWalk             <U+22EF>  0.00000000  0.000000000  0.000000000\n",
       "Sex                  <U+22EF>  0.00000000  0.000000000  0.000000000\n",
       "Age                  <U+22EF>  0.00000000  0.000000000  0.000000000\n",
       "Education            <U+22EF>  0.00000000  0.000000000  0.000000000\n",
       "Income               <U+22EF>  0.00000000  0.000000000  0.000000000\n",
       "Diabetes_binary      <U+22EF>  0.00000000  0.000000000  0.000000000\n",
       "                     havePhysHlth DiffWalk  Sex          Age         \n",
       "HighBP               0.1466000    0.2343000  0.040910000  0.274829667\n",
       "HighChol             0.1258000    0.1625000  0.018950000  0.187676847\n",
       "CholCheck            0.0308400    0.0479200  0.013000000  0.082637112\n",
       "BMI                  0.1548853    0.2412872 -0.002164233 -0.030530086\n",
       "BMI_over_45          0.0926600    0.1478000  0.050270000 -0.055634675\n",
       "Smoker               0.0702500    0.1196000  0.114700000  0.086298702\n",
       "Stroke               0.1205000    0.1924000  0.004818000  0.105306792\n",
       "HeartDiseaseorAttack 0.1504000    0.2336000  0.097880000  0.192733622\n",
       "PhysActivity         0.1643000    0.2755000  0.051770000 -0.081208558\n",
       "Fruits               0.0408700    0.0504400  0.090290000  0.057130339\n",
       "Veggies              0.0505600    0.0843600  0.049950000 -0.014654649\n",
       "HvyAlcoholConsump    0.0317500    0.0492700  0.014630000 -0.048060470\n",
       "AnyHealthcare        0.0067020    0.0106800  0.005406000  0.122913499\n",
       "NoDocbcCost          0.1453000    0.1230000  0.048740000 -0.118790881\n",
       "GenHlth              0.3988760    0.4223004 -0.017831950  0.106022062\n",
       "MentHlth             0.2848122    0.2533557 -0.085643732 -0.132683075\n",
       "PhysHlth             0.6571601    0.4870100 -0.047058108  0.033606520\n",
       "havePhysHlth         1.0000000    0.3781000  0.076320000  0.014206346\n",
       "DiffWalk             0.0000000    1.0000000  0.085600000  0.158458583\n",
       "Sex                  0.0000000    0.0000000  1.000000000 -0.000673236\n",
       "Age                  0.0000000    0.0000000  0.000000000  1.000000000\n",
       "Education            0.0000000    0.0000000  0.000000000  0.000000000\n",
       "Income               0.0000000    0.0000000  0.000000000  0.000000000\n",
       "Diabetes_binary      0.0000000    0.0000000  0.000000000  0.000000000\n",
       "                     Education    Income        Diabetes_binary\n",
       "HighBP               -0.137129155 -0.1733972774  0.37900000    \n",
       "HighChol             -0.079289131 -0.0987634665  0.28610000    \n",
       "CholCheck            -0.008038499 -0.0007673536  0.11440000    \n",
       "BMI                  -0.094064852 -0.0922850794  0.28888567    \n",
       "BMI_over_45          -0.039473942 -0.0741686155  0.09640000    \n",
       "Smoker               -0.137604346 -0.1007483134  0.08860000    \n",
       "Stroke               -0.065220749 -0.1166851780  0.12610000    \n",
       "HeartDiseaseorAttack -0.089639902 -0.1341876683  0.21030000    \n",
       "PhysActivity          0.177637724  0.1795582577  0.15840000    \n",
       "Fruits                0.096483480  0.0665621517  0.05772000    \n",
       "Veggies               0.142649406  0.1364596077  0.07867000    \n",
       "HvyAlcoholConsump     0.029099481  0.0580850015  0.09381000    \n",
       "AnyHealthcare         0.089992816  0.1155977741  0.02460000    \n",
       "NoDocbcCost          -0.086475868 -0.1716676601  0.04350000    \n",
       "GenHlth              -0.239775571 -0.3122045964  0.37345830    \n",
       "MentHlth             -0.059690519 -0.1427635825  0.09090758    \n",
       "PhysHlth             -0.113568656 -0.2084412375  0.21380239    \n",
       "havePhysHlth         -0.090650013 -0.1849875956  0.18380000    \n",
       "DiffWalk             -0.184499927 -0.2974793978  0.27140000    \n",
       "Sex                   0.046437648  0.1400386147  0.04570000    \n",
       "Age                  -0.082806342 -0.1330198793  0.22057705    \n",
       "Education             1.000000000  0.3851944781 -0.15790982    \n",
       "Income                0.000000000  1.0000000000 -0.20373132    \n",
       "Diabetes_binary       0.000000000  0.0000000000  1.00000000    "
      ]
     },
     "metadata": {},
     "output_type": "display_data"
    }
   ],
   "source": [
    "correlation_matrix"
   ]
  },
  {
   "cell_type": "code",
   "execution_count": 293,
   "id": "b92b7304-2ce6-4b28-95bd-7efea245439a",
   "metadata": {},
   "outputs": [
    {
     "data": {
      "image/png": "[encoded data removed]",
      "text/plain": [
       "Plot with title \"\""
      ]
     },
     "metadata": {
      "image/png": {
       "height": 420,
       "width": 420
      }
     },
     "output_type": "display_data"
    }
   ],
   "source": [
    "corrplot::corrplot(correlation_matrix, method=\"circle\", type=\"upper\")"
   ]
  },
  {
   "cell_type": "markdown",
   "id": "b7eebc47-e0cc-457d-a9fe-b4e83ac4db13",
   "metadata": {},
   "source": [
    "## 4. Model building"
   ]
  },
  {
   "cell_type": "code",
   "execution_count": 294,
   "id": "fe22628e-4bcb-41d1-a4de-3cbd3761eb15",
   "metadata": {},
   "outputs": [
    {
     "name": "stdout",
     "output_type": "stream",
     "text": [
      "'data.frame':\t436600 obs. of  24 variables:\n",
      " $ HighBP              : Factor w/ 2 levels \"0\",\"1\": 2 1 2 2 2 2 2 2 1 2 ...\n",
      " $ HighChol            : Factor w/ 2 levels \"0\",\"1\": 2 1 2 1 2 2 1 2 1 2 ...\n",
      " $ CholCheck           : Factor w/ 2 levels \"0\",\"1\": 2 1 2 2 2 2 2 2 2 2 ...\n",
      " $ BMI                 : int  40 25 28 27 24 25 30 25 24 34 ...\n",
      " $ BMI_over_45         : int  0 0 0 0 0 0 0 0 0 0 ...\n",
      " $ Smoker              : Factor w/ 2 levels \"0\",\"1\": 2 2 1 1 1 2 2 2 1 2 ...\n",
      " $ Stroke              : Factor w/ 2 levels \"0\",\"1\": 1 1 1 1 1 1 1 1 1 1 ...\n",
      " $ HeartDiseaseorAttack: Factor w/ 2 levels \"0\",\"1\": 1 1 1 1 1 1 1 1 1 1 ...\n",
      " $ PhysActivity        : Factor w/ 2 levels \"0\",\"1\": 1 2 1 2 2 2 1 2 1 1 ...\n",
      " $ Fruits              : Factor w/ 2 levels \"0\",\"1\": 1 1 2 2 2 2 1 1 1 2 ...\n",
      " $ Veggies             : Factor w/ 2 levels \"0\",\"1\": 2 1 1 2 2 2 1 2 2 2 ...\n",
      " $ HvyAlcoholConsump   : Factor w/ 2 levels \"0\",\"1\": 1 1 1 1 1 1 1 1 1 1 ...\n",
      " $ AnyHealthcare       : Factor w/ 2 levels \"0\",\"1\": 2 1 2 2 2 2 2 2 2 2 ...\n",
      " $ NoDocbcCost         : Factor w/ 2 levels \"0\",\"1\": 1 2 2 1 1 1 1 1 1 1 ...\n",
      " $ GenHlth             : Ord.factor w/ 5 levels \"1\"<\"2\"<\"3\"<\"4\"<..: 5 3 5 2 2 2 3 3 2 3 ...\n",
      " $ MentHlth            : int  18 0 30 0 3 0 0 0 0 0 ...\n",
      " $ PhysHlth            : int  15 0 30 0 0 2 14 0 0 30 ...\n",
      " $ havePhysHlth        : int  1 0 1 0 0 1 1 0 0 1 ...\n",
      " $ DiffWalk            : Factor w/ 2 levels \"0\",\"1\": 2 1 2 1 1 1 1 2 1 2 ...\n",
      " $ Sex                 : Factor w/ 2 levels \"0\",\"1\": 1 1 1 1 1 2 1 1 2 1 ...\n",
      " $ Age                 : Ord.factor w/ 13 levels \"1\"<\"2\"<\"3\"<\"4\"<..: 9 7 9 11 11 10 9 11 8 10 ...\n",
      " $ Education           : Ord.factor w/ 6 levels \"1\"<\"2\"<\"3\"<\"4\"<..: 4 6 4 3 5 6 6 4 4 5 ...\n",
      " $ Income              : Ord.factor w/ 8 levels \"1\"<\"2\"<\"3\"<\"4\"<..: 3 1 8 6 4 8 7 4 3 1 ...\n",
      " $ Diabetes_binary     : Factor w/ 2 levels \"0\",\"1\": 1 1 1 1 1 1 1 1 1 1 ...\n"
     ]
    }
   ],
   "source": [
    "str(balanced_df)"
   ]
  },
  {
   "cell_type": "markdown",
   "id": "49eb8af2-fd8e-41b5-9beb-1cf0c0d64bfb",
   "metadata": {},
   "source": [
    "### 4.1. Data standardization"
   ]
  },
  {
   "cell_type": "markdown",
   "id": "47556018-5029-45a0-b6bb-fa07c8cdb32d",
   "metadata": {},
   "source": [
    "#### BMI"
   ]
  },
  {
   "cell_type": "code",
   "execution_count": 295,
   "id": "bbe3a1eb-6cd0-4600-bfec-6afb1aef729a",
   "metadata": {},
   "outputs": [],
   "source": [
    "balanced_df$BMI = scale(balanced_df$BMI)"
   ]
  },
  {
   "cell_type": "markdown",
   "id": "56e5f090-6bf7-47fb-80f1-e766663bda36",
   "metadata": {},
   "source": [
    "#### MentHlth"
   ]
  },
  {
   "cell_type": "code",
   "execution_count": 296,
   "id": "a97fb257-5011-41fa-906a-fbd1cdbba1c4",
   "metadata": {},
   "outputs": [],
   "source": [
    "balanced_df$MentHlth = scale(balanced_df$MentHlth)"
   ]
  },
  {
   "cell_type": "markdown",
   "id": "0beca3b0-dd12-416a-af43-597a1c2baa70",
   "metadata": {},
   "source": [
    "#### MentHlth"
   ]
  },
  {
   "cell_type": "code",
   "execution_count": 297,
   "id": "aaa20157-a234-45e3-a717-61e894150024",
   "metadata": {},
   "outputs": [],
   "source": [
    "balanced_df$PhysHlth = scale(balanced_df$PhysHlth)"
   ]
  },
  {
   "cell_type": "code",
   "execution_count": 298,
   "id": "89b4d316-139f-490b-a92e-797f59298e00",
   "metadata": {},
   "outputs": [
    {
     "name": "stdout",
     "output_type": "stream",
     "text": [
      "'data.frame':\t436600 obs. of  24 variables:\n",
      " $ HighBP              : Factor w/ 2 levels \"0\",\"1\": 2 1 2 2 2 2 2 2 1 2 ...\n",
      " $ HighChol            : Factor w/ 2 levels \"0\",\"1\": 2 1 2 1 2 2 1 2 1 2 ...\n",
      " $ CholCheck           : Factor w/ 2 levels \"0\",\"1\": 2 1 2 2 2 2 2 2 2 2 ...\n",
      " $ BMI                 : num [1:436600, 1] 1.416 -0.681 -0.262 -0.402 -0.821 ...\n",
      "  ..- attr(*, \"scaled:center\")= num 29.9\n",
      "  ..- attr(*, \"scaled:scale\")= num 7.15\n",
      " $ BMI_over_45         : int  0 0 0 0 0 0 0 0 0 0 ...\n",
      " $ Smoker              : Factor w/ 2 levels \"0\",\"1\": 2 2 1 1 1 2 2 2 1 2 ...\n",
      " $ Stroke              : Factor w/ 2 levels \"0\",\"1\": 1 1 1 1 1 1 1 1 1 1 ...\n",
      " $ HeartDiseaseorAttack: Factor w/ 2 levels \"0\",\"1\": 1 1 1 1 1 1 1 1 1 1 ...\n",
      " $ PhysActivity        : Factor w/ 2 levels \"0\",\"1\": 1 2 1 2 2 2 1 2 1 1 ...\n",
      " $ Fruits              : Factor w/ 2 levels \"0\",\"1\": 1 1 2 2 2 2 1 1 1 2 ...\n",
      " $ Veggies             : Factor w/ 2 levels \"0\",\"1\": 2 1 1 2 2 2 1 2 2 2 ...\n",
      " $ HvyAlcoholConsump   : Factor w/ 2 levels \"0\",\"1\": 1 1 1 1 1 1 1 1 1 1 ...\n",
      " $ AnyHealthcare       : Factor w/ 2 levels \"0\",\"1\": 2 1 2 2 2 2 2 2 2 2 ...\n",
      " $ NoDocbcCost         : Factor w/ 2 levels \"0\",\"1\": 1 2 2 1 1 1 1 1 1 1 ...\n",
      " $ GenHlth             : Ord.factor w/ 5 levels \"1\"<\"2\"<\"3\"<\"4\"<..: 5 3 5 2 2 2 3 3 2 3 ...\n",
      " $ MentHlth            : num [1:436600, 1] 1.7629 -0.4584 3.2437 -0.4584 -0.0882 ...\n",
      "  ..- attr(*, \"scaled:center\")= num 3.71\n",
      "  ..- attr(*, \"scaled:scale\")= num 8.1\n",
      " $ PhysHlth            : num [1:436600, 1] 0.917 -0.576 2.41 -0.576 -0.576 ...\n",
      "  ..- attr(*, \"scaled:center\")= num 5.79\n",
      "  ..- attr(*, \"scaled:scale\")= num 10\n",
      " $ havePhysHlth        : int  1 0 1 0 0 1 1 0 0 1 ...\n",
      " $ DiffWalk            : Factor w/ 2 levels \"0\",\"1\": 2 1 2 1 1 1 1 2 1 2 ...\n",
      " $ Sex                 : Factor w/ 2 levels \"0\",\"1\": 1 1 1 1 1 2 1 1 2 1 ...\n",
      " $ Age                 : Ord.factor w/ 13 levels \"1\"<\"2\"<\"3\"<\"4\"<..: 9 7 9 11 11 10 9 11 8 10 ...\n",
      " $ Education           : Ord.factor w/ 6 levels \"1\"<\"2\"<\"3\"<\"4\"<..: 4 6 4 3 5 6 6 4 4 5 ...\n",
      " $ Income              : Ord.factor w/ 8 levels \"1\"<\"2\"<\"3\"<\"4\"<..: 3 1 8 6 4 8 7 4 3 1 ...\n",
      " $ Diabetes_binary     : Factor w/ 2 levels \"0\",\"1\": 1 1 1 1 1 1 1 1 1 1 ...\n"
     ]
    }
   ],
   "source": [
    "str(balanced_df)"
   ]
  },
  {
   "cell_type": "markdown",
   "id": "f0c248e9-7dfe-4bf5-b60c-8b4384388c9f",
   "metadata": {},
   "source": [
    "### 4.2. Data splitting"
   ]
  },
  {
   "cell_type": "code",
   "execution_count": 299,
   "id": "abb33cb6-f74d-43ed-8822-1bc465b4604b",
   "metadata": {},
   "outputs": [
    {
     "data": {
      "text/html": [
       "349281"
      ],
      "text/latex": [
       "349281"
      ],
      "text/markdown": [
       "349281"
      ],
      "text/plain": [
       "[1] 349281"
      ]
     },
     "metadata": {},
     "output_type": "display_data"
    },
    {
     "data": {
      "text/html": [
       "87319"
      ],
      "text/latex": [
       "87319"
      ],
      "text/markdown": [
       "87319"
      ],
      "text/plain": [
       "[1] 87319"
      ]
     },
     "metadata": {},
     "output_type": "display_data"
    },
    {
     "data": {
      "text/html": [
       "0.499921266831004"
      ],
      "text/latex": [
       "0.499921266831004"
      ],
      "text/markdown": [
       "0.499921266831004"
      ],
      "text/plain": [
       "[1] 0.4999213"
      ]
     },
     "metadata": {},
     "output_type": "display_data"
    },
    {
     "data": {
      "text/html": [
       "0.499925560301882"
      ],
      "text/latex": [
       "0.499925560301882"
      ],
      "text/markdown": [
       "0.499925560301882"
      ],
      "text/plain": [
       "[1] 0.4999256"
      ]
     },
     "metadata": {},
     "output_type": "display_data"
    }
   ],
   "source": [
    "index = caret::createDataPartition(balanced_df$Diabetes_binary, p = 0.8, list = FALSE)\n",
    "balanced_training_data = balanced_df[index, ]\n",
    "balanced_testing_data = balanced_df[-index, ]\n",
    "\n",
    "nrow(balanced_training_data)\n",
    "nrow(balanced_testing_data)\n",
    "nrow(balanced_training_data[balanced_training_data$Diabetes_binary == 1, ]) / nrow(balanced_training_data)\n",
    "nrow(balanced_testing_data[balanced_testing_data$Diabetes_binary == 1, ]) / nrow(balanced_testing_data)"
   ]
  },
  {
   "cell_type": "markdown",
   "id": "3e507d20-bb6d-4104-981a-7f0036e06041",
   "metadata": {},
   "source": [
    "### 4.3. Build the model"
   ]
  },
  {
   "cell_type": "code",
   "execution_count": 300,
   "id": "64aa1413-731c-4599-9075-73bc7c41e8fa",
   "metadata": {},
   "outputs": [],
   "source": [
    "my_model = glm(Diabetes_binary ~ . , data = balanced_training_data, family = binomial)"
   ]
  },
  {
   "cell_type": "code",
   "execution_count": 301,
   "id": "c02813f4-9037-428b-a705-444b3166aa9d",
   "metadata": {},
   "outputs": [],
   "source": [
    "# AIC\n",
    "# aic_result = MASS::stepAIC(my_model, direction = \"backward\", k = 2)"
   ]
  },
  {
   "cell_type": "code",
   "execution_count": 302,
   "id": "f919876d-c9fe-407a-9598-51fea1276899",
   "metadata": {},
   "outputs": [],
   "source": [
    "# # Best AIC model\n",
    "# Diabetes_binary ~ HighBP + HighChol + CholCheck + BMI + BMI_over_45 + \n",
    "#     Smoker + Stroke + HeartDiseaseorAttack + PhysActivity + Fruits + \n",
    "#     Veggies + HvyAlcoholConsump + NoDocbcCost + GenHlth + MentHlth + \n",
    "#     PhysHlth + havePhysHlth + DiffWalk + Sex + Age + Education + \n",
    "#     Income"
   ]
  },
  {
   "cell_type": "code",
   "execution_count": 303,
   "id": "0213065a-913d-462e-a073-38a589c6ca42",
   "metadata": {},
   "outputs": [],
   "source": [
    "# BIC\n",
    "# bic_result = MASS::stepAIC(my_model, direction = \"backward\", k = log(nrow(balanced_training_data)))"
   ]
  },
  {
   "cell_type": "code",
   "execution_count": 304,
   "id": "2b35419f-e68c-4527-b5af-04ebce113825",
   "metadata": {},
   "outputs": [],
   "source": [
    "# # Best BIC model\n",
    "# Diabetes_binary ~ HighBP + HighChol + CholCheck + BMI + BMI_over_45 + \n",
    "#     Stroke + HeartDiseaseorAttack + PhysActivity + Veggies + \n",
    "#     HvyAlcoholConsump + GenHlth + MentHlth + PhysHlth + DiffWalk + \n",
    "#     Sex + Age + Education + Income"
   ]
  },
  {
   "cell_type": "markdown",
   "id": "79e32971-945a-483b-b995-66d853cf8591",
   "metadata": {},
   "source": [
    "### 4.4. Best model selection"
   ]
  },
  {
   "cell_type": "code",
   "execution_count": 305,
   "id": "6363d76d-ffce-4d98-b010-8299b33c7178",
   "metadata": {},
   "outputs": [],
   "source": [
    "best_aic_model = glm(Diabetes_binary ~ HighBP + HighChol + CholCheck + BMI + BMI_over_45 + \n",
    "    Smoker + Stroke + HeartDiseaseorAttack + PhysActivity + Fruits + \n",
    "    Veggies + HvyAlcoholConsump + NoDocbcCost + GenHlth + MentHlth + \n",
    "    PhysHlth + havePhysHlth + DiffWalk + Sex + Age + Education + \n",
    "    Income, data = balanced_training_data, family = binomial)"
   ]
  },
  {
   "cell_type": "code",
   "execution_count": 306,
   "id": "78dbb29b-0e03-46b6-a87b-5b530712c677",
   "metadata": {},
   "outputs": [],
   "source": [
    "best_bic_model = glm(Diabetes_binary ~ HighBP + HighChol + CholCheck + BMI + BMI_over_45 + \n",
    "    Stroke + HeartDiseaseorAttack + PhysActivity + Veggies + \n",
    "    HvyAlcoholConsump + GenHlth + MentHlth + PhysHlth + DiffWalk + \n",
    "    Sex + Age + Education + Income, data = balanced_training_data, family = binomial)"
   ]
  },
  {
   "cell_type": "code",
   "execution_count": 307,
   "id": "026c8088-f67e-43c1-a6cb-cbffe1ad3251",
   "metadata": {},
   "outputs": [
    {
     "data": {
      "text/html": [
       "<table class=\"dataframe\">\n",
       "<caption>A anova: 2 × 5</caption>\n",
       "<thead>\n",
       "\t<tr><th></th><th scope=col>Resid. Df</th><th scope=col>Resid. Dev</th><th scope=col>Df</th><th scope=col>Deviance</th><th scope=col>Pr(&gt;Chi)</th></tr>\n",
       "\t<tr><th></th><th scope=col>&lt;dbl&gt;</th><th scope=col>&lt;dbl&gt;</th><th scope=col>&lt;dbl&gt;</th><th scope=col>&lt;dbl&gt;</th><th scope=col>&lt;dbl&gt;</th></tr>\n",
       "</thead>\n",
       "<tbody>\n",
       "\t<tr><th scope=row>1</th><td>349234</td><td>356170.1</td><td>NA</td><td>       NA</td><td>        NA</td></tr>\n",
       "\t<tr><th scope=row>2</th><td>349238</td><td>356196.3</td><td>-4</td><td>-26.24387</td><td>2.8256e-05</td></tr>\n",
       "</tbody>\n",
       "</table>\n"
      ],
      "text/latex": [
       "A anova: 2 × 5\n",
       "\\begin{tabular}{r|lllll}\n",
       "  & Resid. Df & Resid. Dev & Df & Deviance & Pr(>Chi)\\\\\n",
       "  & <dbl> & <dbl> & <dbl> & <dbl> & <dbl>\\\\\n",
       "\\hline\n",
       "\t1 & 349234 & 356170.1 & NA &        NA &         NA\\\\\n",
       "\t2 & 349238 & 356196.3 & -4 & -26.24387 & 2.8256e-05\\\\\n",
       "\\end{tabular}\n"
      ],
      "text/markdown": [
       "\n",
       "A anova: 2 × 5\n",
       "\n",
       "| <!--/--> | Resid. Df &lt;dbl&gt; | Resid. Dev &lt;dbl&gt; | Df &lt;dbl&gt; | Deviance &lt;dbl&gt; | Pr(&gt;Chi) &lt;dbl&gt; |\n",
       "|---|---|---|---|---|---|\n",
       "| 1 | 349234 | 356170.1 | NA |        NA |         NA |\n",
       "| 2 | 349238 | 356196.3 | -4 | -26.24387 | 2.8256e-05 |\n",
       "\n"
      ],
      "text/plain": [
       "  Resid. Df Resid. Dev Df Deviance  Pr(>Chi)  \n",
       "1 349234    356170.1   NA        NA         NA\n",
       "2 349238    356196.3   -4 -26.24387 2.8256e-05"
      ]
     },
     "metadata": {},
     "output_type": "display_data"
    }
   ],
   "source": [
    "anova(best_aic_model, best_bic_model, test = \"Chisq\")"
   ]
  },
  {
   "cell_type": "code",
   "execution_count": 308,
   "id": "aad2bc6d-c7cc-4ccc-b71a-89e7ce46bb70",
   "metadata": {},
   "outputs": [],
   "source": [
    "# COMMENT\n",
    "# Choose \"best_bic_model\""
   ]
  },
  {
   "cell_type": "code",
   "execution_count": 309,
   "id": "cde1cab9-84fb-4033-9da5-65db549634a7",
   "metadata": {},
   "outputs": [],
   "source": [
    "# best_bic_model = glm(Diabetes_binary ~ HighBP + HighChol + CholCheck + BMI + BMI_over_45 + \n",
    "#     Stroke + HeartDiseaseorAttack + PhysActivity + Veggies + \n",
    "#     HvyAlcoholConsump + GenHlth + MentHlth + PhysHlth + DiffWalk + \n",
    "#     Sex + Age + Education + Income, data = balanced_training_data, family = binomial)"
   ]
  },
  {
   "cell_type": "markdown",
   "id": "b8574273-b73a-4f58-8001-0713b09e031a",
   "metadata": {},
   "source": [
    "### 4.5. Link function selection"
   ]
  },
  {
   "cell_type": "code",
   "execution_count": 322,
   "id": "bc30818c-bb0c-4b9f-b04c-01f826aec88c",
   "metadata": {},
   "outputs": [
    {
     "data": {
      "text/html": [
       "<table class=\"dataframe\">\n",
       "<caption>A data.frame: 4 × 2</caption>\n",
       "<thead>\n",
       "\t<tr><th scope=col>link_function_name</th><th scope=col>aic_value</th></tr>\n",
       "\t<tr><th scope=col>&lt;chr&gt;</th><th scope=col>&lt;dbl&gt;</th></tr>\n",
       "</thead>\n",
       "<tbody>\n",
       "\t<tr><td>logit  </td><td>0</td></tr>\n",
       "\t<tr><td>probit </td><td>0</td></tr>\n",
       "\t<tr><td>cauchit</td><td>0</td></tr>\n",
       "\t<tr><td>cloglog</td><td>0</td></tr>\n",
       "</tbody>\n",
       "</table>\n"
      ],
      "text/latex": [
       "A data.frame: 4 × 2\n",
       "\\begin{tabular}{ll}\n",
       " link\\_function\\_name & aic\\_value\\\\\n",
       " <chr> & <dbl>\\\\\n",
       "\\hline\n",
       "\t logit   & 0\\\\\n",
       "\t probit  & 0\\\\\n",
       "\t cauchit & 0\\\\\n",
       "\t cloglog & 0\\\\\n",
       "\\end{tabular}\n"
      ],
      "text/markdown": [
       "\n",
       "A data.frame: 4 × 2\n",
       "\n",
       "| link_function_name &lt;chr&gt; | aic_value &lt;dbl&gt; |\n",
       "|---|---|\n",
       "| logit   | 0 |\n",
       "| probit  | 0 |\n",
       "| cauchit | 0 |\n",
       "| cloglog | 0 |\n",
       "\n"
      ],
      "text/plain": [
       "  link_function_name aic_value\n",
       "1 logit              0        \n",
       "2 probit             0        \n",
       "3 cauchit            0        \n",
       "4 cloglog            0        "
      ]
     },
     "metadata": {},
     "output_type": "display_data"
    }
   ],
   "source": [
    "# Create the dataframe\n",
    "aic_link_function_df <- data.frame(\n",
    "  link_function_name = c(\"logit\", \"probit\", \"cauchit\", \"cloglog\"),\n",
    "  aic_value = rep(0, 4)\n",
    ")\n",
    "aic_link_function_df"
   ]
  },
  {
   "cell_type": "markdown",
   "id": "3bb7a612-0f6c-4f59-bc4c-8c77a11d0555",
   "metadata": {},
   "source": [
    "### 4.5.1. Logit"
   ]
  },
  {
   "cell_type": "code",
   "execution_count": 324,
   "id": "9a3c5376-c9ac-4fcf-aca9-3bc32995e528",
   "metadata": {},
   "outputs": [],
   "source": [
    "logit_best_bic_model = glm(Diabetes_binary ~ HighBP + HighChol + CholCheck + BMI + BMI_over_45 + \n",
    "    Stroke + HeartDiseaseorAttack + PhysActivity + Veggies + \n",
    "    HvyAlcoholConsump + GenHlth + MentHlth + PhysHlth + DiffWalk + \n",
    "    Sex + Age + Education + Income, data = balanced_training_data, family = binomial(link = \"logit\"))"
   ]
  },
  {
   "cell_type": "code",
   "execution_count": 325,
   "id": "2a2a0a74-be5c-4c21-b394-ee5f02b1c2b5",
   "metadata": {},
   "outputs": [],
   "source": [
    "aic_link_function_df[1, 2] = summary(logit_best_bic_model)$aic"
   ]
  },
  {
   "cell_type": "code",
   "execution_count": 326,
   "id": "a7df4a29-8e98-4f94-8403-c86e7bca3830",
   "metadata": {},
   "outputs": [],
   "source": [
    "probit_best_bic_model = glm(Diabetes_binary ~ HighBP + HighChol + CholCheck + BMI + BMI_over_45 + \n",
    "    Stroke + HeartDiseaseorAttack + PhysActivity + Veggies + \n",
    "    HvyAlcoholConsump + GenHlth + MentHlth + PhysHlth + DiffWalk + \n",
    "    Sex + Age + Education + Income, data = balanced_training_data, family = binomial(link = \"probit\"))"
   ]
  },
  {
   "cell_type": "code",
   "execution_count": 327,
   "id": "eecaf708-2961-4a49-ab09-5c8cb8340f61",
   "metadata": {},
   "outputs": [],
   "source": [
    "aic_link_function_df[2, 2] = summary(probit_best_bic_model)$aic"
   ]
  },
  {
   "cell_type": "code",
   "execution_count": 328,
   "id": "0042b460-e788-4125-bcad-3bce376eaeff",
   "metadata": {},
   "outputs": [],
   "source": [
    "cauchit_best_bic_model = glm(Diabetes_binary ~ HighBP + HighChol + CholCheck + BMI + BMI_over_45 + \n",
    "    Stroke + HeartDiseaseorAttack + PhysActivity + Veggies + \n",
    "    HvyAlcoholConsump + GenHlth + MentHlth + PhysHlth + DiffWalk + \n",
    "    Sex + Age + Education + Income, data = balanced_training_data, family = binomial(link = \"cauchit\"))"
   ]
  },
  {
   "cell_type": "code",
   "execution_count": 329,
   "id": "44492074-00f8-41b4-80aa-430c3b83b161",
   "metadata": {},
   "outputs": [],
   "source": [
    "aic_link_function_df[3, 2] = summary(cauchit_best_bic_model)$aic"
   ]
  },
  {
   "cell_type": "code",
   "execution_count": 330,
   "id": "af9bc90e-3fb6-407c-a4f3-8d7a6a9ced35",
   "metadata": {},
   "outputs": [],
   "source": [
    "cloglog_best_bic_model = glm(Diabetes_binary ~ HighBP + HighChol + CholCheck + BMI + BMI_over_45 + \n",
    "    Stroke + HeartDiseaseorAttack + PhysActivity + Veggies + \n",
    "    HvyAlcoholConsump + GenHlth + MentHlth + PhysHlth + DiffWalk + \n",
    "    Sex + Age + Education + Income, data = balanced_training_data, family = binomial(link = \"cloglog\"))"
   ]
  },
  {
   "cell_type": "code",
   "execution_count": 331,
   "id": "6d182864-5a67-4681-83eb-737a0c0186f0",
   "metadata": {},
   "outputs": [],
   "source": [
    "aic_link_function_df[4, 2] = summary(cloglog_best_bic_model)$aic"
   ]
  },
  {
   "cell_type": "code",
   "execution_count": 332,
   "id": "53739887-09ba-483f-8799-19ac695e667a",
   "metadata": {},
   "outputs": [
    {
     "data": {
      "text/html": [
       "<table class=\"dataframe\">\n",
       "<caption>A data.frame: 4 × 2</caption>\n",
       "<thead>\n",
       "\t<tr><th scope=col>link_function_name</th><th scope=col>aic_value</th></tr>\n",
       "\t<tr><th scope=col>&lt;chr&gt;</th><th scope=col>&lt;dbl&gt;</th></tr>\n",
       "</thead>\n",
       "<tbody>\n",
       "\t<tr><td>logit  </td><td>356282.3</td></tr>\n",
       "\t<tr><td>probit </td><td>356441.8</td></tr>\n",
       "\t<tr><td>cauchit</td><td>358469.5</td></tr>\n",
       "\t<tr><td>cloglog</td><td>361234.2</td></tr>\n",
       "</tbody>\n",
       "</table>\n"
      ],
      "text/latex": [
       "A data.frame: 4 × 2\n",
       "\\begin{tabular}{ll}\n",
       " link\\_function\\_name & aic\\_value\\\\\n",
       " <chr> & <dbl>\\\\\n",
       "\\hline\n",
       "\t logit   & 356282.3\\\\\n",
       "\t probit  & 356441.8\\\\\n",
       "\t cauchit & 358469.5\\\\\n",
       "\t cloglog & 361234.2\\\\\n",
       "\\end{tabular}\n"
      ],
      "text/markdown": [
       "\n",
       "A data.frame: 4 × 2\n",
       "\n",
       "| link_function_name &lt;chr&gt; | aic_value &lt;dbl&gt; |\n",
       "|---|---|\n",
       "| logit   | 356282.3 |\n",
       "| probit  | 356441.8 |\n",
       "| cauchit | 358469.5 |\n",
       "| cloglog | 361234.2 |\n",
       "\n"
      ],
      "text/plain": [
       "  link_function_name aic_value\n",
       "1 logit              356282.3 \n",
       "2 probit             356441.8 \n",
       "3 cauchit            358469.5 \n",
       "4 cloglog            361234.2 "
      ]
     },
     "metadata": {},
     "output_type": "display_data"
    }
   ],
   "source": [
    "aic_link_function_df"
   ]
  },
  {
   "cell_type": "code",
   "execution_count": 333,
   "id": "b3407484-524d-431b-ba0d-160dba449907",
   "metadata": {},
   "outputs": [
    {
     "data": {
      "text/html": [
       "<table class=\"dataframe\">\n",
       "<caption>A data.frame: 1 × 2</caption>\n",
       "<thead>\n",
       "\t<tr><th></th><th scope=col>link_function_name</th><th scope=col>aic_value</th></tr>\n",
       "\t<tr><th></th><th scope=col>&lt;chr&gt;</th><th scope=col>&lt;dbl&gt;</th></tr>\n",
       "</thead>\n",
       "<tbody>\n",
       "\t<tr><th scope=row>1</th><td>logit</td><td>356282.3</td></tr>\n",
       "</tbody>\n",
       "</table>\n"
      ],
      "text/latex": [
       "A data.frame: 1 × 2\n",
       "\\begin{tabular}{r|ll}\n",
       "  & link\\_function\\_name & aic\\_value\\\\\n",
       "  & <chr> & <dbl>\\\\\n",
       "\\hline\n",
       "\t1 & logit & 356282.3\\\\\n",
       "\\end{tabular}\n"
      ],
      "text/markdown": [
       "\n",
       "A data.frame: 1 × 2\n",
       "\n",
       "| <!--/--> | link_function_name &lt;chr&gt; | aic_value &lt;dbl&gt; |\n",
       "|---|---|---|\n",
       "| 1 | logit | 356282.3 |\n",
       "\n"
      ],
      "text/plain": [
       "  link_function_name aic_value\n",
       "1 logit              356282.3 "
      ]
     },
     "metadata": {},
     "output_type": "display_data"
    }
   ],
   "source": [
    "aic_link_function_df[which.min(aic_link_function_df$aic_value), ]"
   ]
  },
  {
   "cell_type": "markdown",
   "id": "bf398b59-aa32-4d75-8653-ed018fa0caa0",
   "metadata": {},
   "source": [
    "## 5. Model training and evaluating"
   ]
  },
  {
   "cell_type": "code",
   "execution_count": 342,
   "id": "a23556a9-c6aa-4027-9e2b-b1b5436009af",
   "metadata": {},
   "outputs": [],
   "source": [
    "evaluate_classification_model = function(binary_predictions, binary_real_data)\n",
    "{\n",
    "    accuracy = mean(binary_predictions == binary_real_data)\n",
    "    precision <- sum(binary_predictions == 1 & binary_real_data == 1) / sum(binary_predictions == 1)\n",
    "    recall <- sum(binary_predictions == 1 & binary_real_data == 1) / sum(binary_real_data == 1)\n",
    "    f1_score <- 2 * precision * recall / (precision + recall)\n",
    "    \n",
    "    # Print the results\n",
    "    cat(\"Accuracy:\", accuracy, \"\\n\")\n",
    "    cat(\"Precision:\", precision, \"\\n\")\n",
    "    cat(\"Recall:\", recall, \"\\n\")\n",
    "    cat(\"F1 Score:\", f1_score, \"\\n\")\n",
    "}\n",
    "\n",
    "one_for_all_metric = function(model, new_data, variable_name, binary_threshold = 0.5)\n",
    "{\n",
    "    predictions = predict(model, newdata = new_data, type = \"response\")\n",
    "    binary_predictions <- ifelse(predictions >= binary_threshold, 1, 0)\n",
    "    actual_response = new_data[, variable_name]\n",
    "    \n",
    "    cat(\"\\n\", \"Metric 1: ANOVA\", \"\\n\")\n",
    "    print(summary(model))\n",
    "\n",
    "    cat(\"\\n\", \"Metric 2: Model performance\", \"\\n\")\n",
    "    print(confusionMatrix(table(binary_predictions, actual_response)))\n",
    "    evaluate_classification_model(binary_predictions, actual_response)\n",
    "\n",
    "    cat(\"\\n\", \"Metric 3: ROC curve - AUC\", \"\\n\")\n",
    "    roc_score = pROC::roc(actual_response, binary_predictions)\n",
    "    cat(\"AUC: \", auc(roc_score))\n",
    "    plot(roc_score ,main = \"ROC curve -- Logistic Regression \")\n",
    "    \n",
    "    cat(\"\\n\", \"Metric 4: Overdispersion tests\", \"\\n\")\n",
    "    DHARMa::testDispersion(model, alternative = \"greater\")\n",
    "\n",
    "    cat(\"\\n\", \"Metric 4: Goodness-of-fit\", \"\\n\")\n",
    "    summary_model = summary(model)\n",
    "    cat(\"residual:\", summary_model$deviance, \"\\n\")\n",
    "    cat(\"dof:\", summary_model$df[2], \"\\n\")\n",
    "    cat(\"goodness-of-fit:\", 1- pchisq(summary_model$deviance, df = summary_model$df[2]))\n",
    "\n",
    "    cat(\"\\n\", \"Metric 5: QQ-norm\", \"\\n\")\n",
    "    qqnorm(residuals(probit_best_bic_model))\n",
    "    abline(a = 0, b = 1, col = \"red\")\n",
    "}"
   ]
  },
  {
   "cell_type": "code",
   "execution_count": 343,
   "id": "1466f8d7-461c-47ac-a449-eeb41566aa9f",
   "metadata": {},
   "outputs": [
    {
     "name": "stdout",
     "output_type": "stream",
     "text": [
      "\n",
      " Metric 1: ANOVA \n",
      "\n",
      "Call:\n",
      "glm(formula = Diabetes_binary ~ HighBP + HighChol + CholCheck + \n",
      "    BMI + BMI_over_45 + Stroke + HeartDiseaseorAttack + PhysActivity + \n",
      "    Veggies + HvyAlcoholConsump + GenHlth + MentHlth + PhysHlth + \n",
      "    DiffWalk + Sex + Age + Education + Income, family = binomial(link = \"logit\"), \n",
      "    data = balanced_training_data)\n",
      "\n",
      "Deviance Residuals: \n",
      "    Min       1Q   Median       3Q      Max  \n",
      "-3.3543  -0.8106  -0.0818   0.8279   3.0678  \n",
      "\n",
      "Coefficients:\n",
      "                       Estimate Std. Error z value Pr(>|z|)    \n",
      "(Intercept)           -2.292355   0.045336 -50.563  < 2e-16 ***\n",
      "HighBP1                0.705718   0.008909  79.217  < 2e-16 ***\n",
      "HighChol1              0.535973   0.008538  62.773  < 2e-16 ***\n",
      "CholCheck1             1.298470   0.036491  35.583  < 2e-16 ***\n",
      "BMI                    0.573039   0.005701 100.508  < 2e-16 ***\n",
      "BMI_over_45           -0.894147   0.031005 -28.839  < 2e-16 ***\n",
      "Stroke1                0.189410   0.018259  10.373  < 2e-16 ***\n",
      "HeartDiseaseorAttack1  0.284671   0.012765  22.300  < 2e-16 ***\n",
      "PhysActivity1         -0.042441   0.009559  -4.440 9.00e-06 ***\n",
      "Veggies1              -0.052610   0.010271  -5.122 3.02e-07 ***\n",
      "HvyAlcoholConsump1    -0.724184   0.021947 -32.997  < 2e-16 ***\n",
      "GenHlth.L              1.652422   0.017974  91.936  < 2e-16 ***\n",
      "GenHlth.Q             -0.371991   0.013564 -27.425  < 2e-16 ***\n",
      "GenHlth.C             -0.081189   0.010493  -7.737 1.02e-14 ***\n",
      "GenHlth^4              0.011414   0.008018   1.423  0.15460    \n",
      "MentHlth              -0.028746   0.004671  -6.154 7.57e-10 ***\n",
      "PhysHlth              -0.023914   0.005576  -4.289 1.80e-05 ***\n",
      "DiffWalk1              0.148875   0.011613  12.820  < 2e-16 ***\n",
      "Sex1                   0.290534   0.008567  33.913  < 2e-16 ***\n",
      "Age.L                  2.391428   0.034714  68.889  < 2e-16 ***\n",
      "Age.Q                 -0.649708   0.032478 -20.004  < 2e-16 ***\n",
      "Age.C                 -0.234552   0.030202  -7.766 8.10e-15 ***\n",
      "Age^4                 -0.004635   0.029163  -0.159  0.87371    \n",
      "Age^5                 -0.184440   0.028335  -6.509 7.55e-11 ***\n",
      "Age^6                  0.135173   0.026865   5.032 4.87e-07 ***\n",
      "Age^7                 -0.003970   0.024939  -0.159  0.87354    \n",
      "Age^8                  0.008414   0.022618   0.372  0.70988    \n",
      "Age^9                  0.001878   0.020182   0.093  0.92586    \n",
      "Age^10                -0.054727   0.017921  -3.054  0.00226 ** \n",
      "Age^11                 0.031953   0.016143   1.979  0.04777 *  \n",
      "Age^12                 0.037127   0.014296   2.597  0.00941 ** \n",
      "Education.L           -0.209289   0.085769  -2.440  0.01468 *  \n",
      "Education.Q            0.014666   0.078008   0.188  0.85087    \n",
      "Education.C            0.007844   0.055395   0.142  0.88739    \n",
      "Education^4           -0.061550   0.032457  -1.896  0.05791 .  \n",
      "Education^5           -0.021579   0.018170  -1.188  0.23498    \n",
      "Income.L              -0.399631   0.016220 -24.638  < 2e-16 ***\n",
      "Income.Q              -0.057286   0.014147  -4.049 5.14e-05 ***\n",
      "Income.C               0.010135   0.013630   0.744  0.45710    \n",
      "Income^4              -0.028957   0.013594  -2.130  0.03316 *  \n",
      "Income^5              -0.034745   0.013346  -2.603  0.00923 ** \n",
      "Income^6              -0.028029   0.012988  -2.158  0.03092 *  \n",
      "Income^7               0.002471   0.012734   0.194  0.84615    \n",
      "---\n",
      "Signif. codes:  0 '***' 0.001 '**' 0.01 '*' 0.05 '.' 0.1 ' ' 1\n",
      "\n",
      "(Dispersion parameter for binomial family taken to be 1)\n",
      "\n",
      "    Null deviance: 484206  on 349280  degrees of freedom\n",
      "Residual deviance: 356196  on 349238  degrees of freedom\n",
      "AIC: 356282\n",
      "\n",
      "Number of Fisher Scoring iterations: 5\n",
      "\n",
      "\n",
      " Metric 2: Model performance \n",
      "Confusion Matrix and Statistics\n",
      "\n",
      "                  actual_response\n",
      "binary_predictions      0      1\n",
      "                 0 126047  39177\n",
      "                 1  48621 135436\n",
      "                                          \n",
      "               Accuracy : 0.7486          \n",
      "                 95% CI : (0.7472, 0.7501)\n",
      "    No Information Rate : 0.5001          \n",
      "    P-Value [Acc > NIR] : < 2.2e-16       \n",
      "                                          \n",
      "                  Kappa : 0.4973          \n",
      "                                          \n",
      " Mcnemar's Test P-Value : < 2.2e-16       \n",
      "                                          \n",
      "            Sensitivity : 0.7216          \n",
      "            Specificity : 0.7756          \n",
      "         Pos Pred Value : 0.7629          \n",
      "         Neg Pred Value : 0.7358          \n",
      "             Prevalence : 0.5001          \n",
      "         Detection Rate : 0.3609          \n",
      "   Detection Prevalence : 0.4730          \n",
      "      Balanced Accuracy : 0.7486          \n",
      "                                          \n",
      "       'Positive' Class : 0               \n",
      "                                          \n",
      "Accuracy: 0.7486322 \n",
      "Precision: 0.7358373 \n",
      "Recall: 0.7756353 \n",
      "F1 Score: 0.7552123 \n",
      "\n",
      " Metric 3: ROC curve - AUC \n"
     ]
    },
    {
     "name": "stderr",
     "output_type": "stream",
     "text": [
      "Setting levels: control = 0, case = 1\n",
      "\n",
      "Setting direction: controls < cases\n",
      "\n"
     ]
    },
    {
     "name": "stdout",
     "output_type": "stream",
     "text": [
      "AUC:  0.7486364\n",
      " Metric 4: Overdispersion tests \n"
     ]
    },
    {
     "data": {
      "image/png": "[encoded data removed]",
      "text/plain": [
       "Plot with title \"ROC curve -- Logistic Regression \""
      ]
     },
     "metadata": {
      "image/png": {
       "height": 420,
       "width": 420
      }
     },
     "output_type": "display_data"
    },
    {
     "name": "stdout",
     "output_type": "stream",
     "text": [
      "\n",
      " Metric 4: Goodness-of-fit \n",
      "residual: 356196.3 \n",
      "dof: 349238 \n",
      "goodness-of-fit: 1.110223e-16\n",
      " Metric 5: QQ-norm \n"
     ]
    },
    {
     "data": {
      "image/png": "[encoded data removed]",
      "text/plain": [
       "Plot with title \"DHARMa nonparametric dispersion test via sd of\n",
       "residuals fitted vs. simulated\n",
       "\""
      ]
     },
     "metadata": {
      "image/png": {
       "height": 420,
       "width": 420
      }
     },
     "output_type": "display_data"
    },
    {
     "data": {
      "image/png": "[encoded data removed]",
      "text/plain": [
       "Plot with title \"Normal Q-Q Plot\""
      ]
     },
     "metadata": {
      "image/png": {
       "height": 420,
       "width": 420
      }
     },
     "output_type": "display_data"
    }
   ],
   "source": [
    "one_for_all_metric(logit_best_bic_model, balanced_training_data, \"Diabetes_binary\")"
   ]
  },
  {
   "cell_type": "code",
   "execution_count": 344,
   "id": "a34511f8-820b-4cd4-840e-13d5f9d864ae",
   "metadata": {},
   "outputs": [
    {
     "name": "stdout",
     "output_type": "stream",
     "text": [
      "\n",
      " Metric 1: ANOVA \n",
      "\n",
      "Call:\n",
      "glm(formula = Diabetes_binary ~ HighBP + HighChol + CholCheck + \n",
      "    BMI + BMI_over_45 + Stroke + HeartDiseaseorAttack + PhysActivity + \n",
      "    Veggies + HvyAlcoholConsump + GenHlth + MentHlth + PhysHlth + \n",
      "    DiffWalk + Sex + Age + Education + Income, family = binomial(link = \"logit\"), \n",
      "    data = balanced_training_data)\n",
      "\n",
      "Deviance Residuals: \n",
      "    Min       1Q   Median       3Q      Max  \n",
      "-3.3543  -0.8106  -0.0818   0.8279   3.0678  \n",
      "\n",
      "Coefficients:\n",
      "                       Estimate Std. Error z value Pr(>|z|)    \n",
      "(Intercept)           -2.292355   0.045336 -50.563  < 2e-16 ***\n",
      "HighBP1                0.705718   0.008909  79.217  < 2e-16 ***\n",
      "HighChol1              0.535973   0.008538  62.773  < 2e-16 ***\n",
      "CholCheck1             1.298470   0.036491  35.583  < 2e-16 ***\n",
      "BMI                    0.573039   0.005701 100.508  < 2e-16 ***\n",
      "BMI_over_45           -0.894147   0.031005 -28.839  < 2e-16 ***\n",
      "Stroke1                0.189410   0.018259  10.373  < 2e-16 ***\n",
      "HeartDiseaseorAttack1  0.284671   0.012765  22.300  < 2e-16 ***\n",
      "PhysActivity1         -0.042441   0.009559  -4.440 9.00e-06 ***\n",
      "Veggies1              -0.052610   0.010271  -5.122 3.02e-07 ***\n",
      "HvyAlcoholConsump1    -0.724184   0.021947 -32.997  < 2e-16 ***\n",
      "GenHlth.L              1.652422   0.017974  91.936  < 2e-16 ***\n",
      "GenHlth.Q             -0.371991   0.013564 -27.425  < 2e-16 ***\n",
      "GenHlth.C             -0.081189   0.010493  -7.737 1.02e-14 ***\n",
      "GenHlth^4              0.011414   0.008018   1.423  0.15460    \n",
      "MentHlth              -0.028746   0.004671  -6.154 7.57e-10 ***\n",
      "PhysHlth              -0.023914   0.005576  -4.289 1.80e-05 ***\n",
      "DiffWalk1              0.148875   0.011613  12.820  < 2e-16 ***\n",
      "Sex1                   0.290534   0.008567  33.913  < 2e-16 ***\n",
      "Age.L                  2.391428   0.034714  68.889  < 2e-16 ***\n",
      "Age.Q                 -0.649708   0.032478 -20.004  < 2e-16 ***\n",
      "Age.C                 -0.234552   0.030202  -7.766 8.10e-15 ***\n",
      "Age^4                 -0.004635   0.029163  -0.159  0.87371    \n",
      "Age^5                 -0.184440   0.028335  -6.509 7.55e-11 ***\n",
      "Age^6                  0.135173   0.026865   5.032 4.87e-07 ***\n",
      "Age^7                 -0.003970   0.024939  -0.159  0.87354    \n",
      "Age^8                  0.008414   0.022618   0.372  0.70988    \n",
      "Age^9                  0.001878   0.020182   0.093  0.92586    \n",
      "Age^10                -0.054727   0.017921  -3.054  0.00226 ** \n",
      "Age^11                 0.031953   0.016143   1.979  0.04777 *  \n",
      "Age^12                 0.037127   0.014296   2.597  0.00941 ** \n",
      "Education.L           -0.209289   0.085769  -2.440  0.01468 *  \n",
      "Education.Q            0.014666   0.078008   0.188  0.85087    \n",
      "Education.C            0.007844   0.055395   0.142  0.88739    \n",
      "Education^4           -0.061550   0.032457  -1.896  0.05791 .  \n",
      "Education^5           -0.021579   0.018170  -1.188  0.23498    \n",
      "Income.L              -0.399631   0.016220 -24.638  < 2e-16 ***\n",
      "Income.Q              -0.057286   0.014147  -4.049 5.14e-05 ***\n",
      "Income.C               0.010135   0.013630   0.744  0.45710    \n",
      "Income^4              -0.028957   0.013594  -2.130  0.03316 *  \n",
      "Income^5              -0.034745   0.013346  -2.603  0.00923 ** \n",
      "Income^6              -0.028029   0.012988  -2.158  0.03092 *  \n",
      "Income^7               0.002471   0.012734   0.194  0.84615    \n",
      "---\n",
      "Signif. codes:  0 '***' 0.001 '**' 0.01 '*' 0.05 '.' 0.1 ' ' 1\n",
      "\n",
      "(Dispersion parameter for binomial family taken to be 1)\n",
      "\n",
      "    Null deviance: 484206  on 349280  degrees of freedom\n",
      "Residual deviance: 356196  on 349238  degrees of freedom\n",
      "AIC: 356282\n",
      "\n",
      "Number of Fisher Scoring iterations: 5\n",
      "\n",
      "\n",
      " Metric 2: Model performance \n",
      "Confusion Matrix and Statistics\n",
      "\n",
      "                  actual_response\n",
      "binary_predictions     0     1\n",
      "                 0 31526  9794\n",
      "                 1 12140 33859\n",
      "                                          \n",
      "               Accuracy : 0.7488          \n",
      "                 95% CI : (0.7459, 0.7517)\n",
      "    No Information Rate : 0.5001          \n",
      "    P-Value [Acc > NIR] : < 2.2e-16       \n",
      "                                          \n",
      "                  Kappa : 0.4976          \n",
      "                                          \n",
      " Mcnemar's Test P-Value : < 2.2e-16       \n",
      "                                          \n",
      "            Sensitivity : 0.7220          \n",
      "            Specificity : 0.7756          \n",
      "         Pos Pred Value : 0.7630          \n",
      "         Neg Pred Value : 0.7361          \n",
      "             Prevalence : 0.5001          \n",
      "         Detection Rate : 0.3610          \n",
      "   Detection Prevalence : 0.4732          \n",
      "      Balanced Accuracy : 0.7488          \n",
      "                                          \n",
      "       'Positive' Class : 0               \n",
      "                                          \n",
      "Accuracy: 0.7488061 \n",
      "Precision: 0.7360812 \n",
      "Recall: 0.7756397 \n",
      "F1 Score: 0.7553429 \n",
      "\n",
      " Metric 3: ROC curve - AUC \n"
     ]
    },
    {
     "name": "stderr",
     "output_type": "stream",
     "text": [
      "Setting levels: control = 0, case = 1\n",
      "\n",
      "Setting direction: controls < cases\n",
      "\n"
     ]
    },
    {
     "name": "stdout",
     "output_type": "stream",
     "text": [
      "AUC:  0.7488101\n",
      " Metric 4: Overdispersion tests \n"
     ]
    },
    {
     "data": {
      "image/png": "[encoded data removed]",
      "text/plain": [
       "Plot with title \"ROC curve -- Logistic Regression \""
      ]
     },
     "metadata": {
      "image/png": {
       "height": 420,
       "width": 420
      }
     },
     "output_type": "display_data"
    },
    {
     "name": "stdout",
     "output_type": "stream",
     "text": [
      "\n",
      " Metric 4: Goodness-of-fit \n",
      "residual: 356196.3 \n",
      "dof: 349238 \n",
      "goodness-of-fit: 1.110223e-16\n",
      " Metric 5: QQ-norm \n"
     ]
    },
    {
     "data": {
      "image/png": "[encoded data removed]",
      "text/plain": [
       "Plot with title \"DHARMa nonparametric dispersion test via sd of\n",
       "residuals fitted vs. simulated\n",
       "\""
      ]
     },
     "metadata": {
      "image/png": {
       "height": 420,
       "width": 420
      }
     },
     "output_type": "display_data"
    },
    {
     "data": {
      "image/png": "[encoded data removed]",
      "text/plain": [
       "Plot with title \"Normal Q-Q Plot\""
      ]
     },
     "metadata": {
      "image/png": {
       "height": 420,
       "width": 420
      }
     },
     "output_type": "display_data"
    }
   ],
   "source": [
    "one_for_all_metric(logit_best_bic_model, balanced_testing_data, \"Diabetes_binary\")"
   ]
  }
 ],
 "metadata": {
  "kernelspec": {
   "display_name": "R",
   "language": "R",
   "name": "ir"
  },
  "language_info": {
   "codemirror_mode": "r",
   "file_extension": ".r",
   "mimetype": "text/x-r-source",
   "name": "R",
   "pygments_lexer": "r",
   "version": "4.0.5"
  }
 },
 "nbformat": 4,
 "nbformat_minor": 5
}
