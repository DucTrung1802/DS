{
 "cells": [
  {
   "cell_type": "markdown",
   "id": "9775ac29-68f2-4038-a44d-7ddcad6cd76a",
   "metadata": {},
   "source": [
    "# Diabetes Analysis"
   ]
  },
  {
   "cell_type": "markdown",
   "id": "512df902-fb91-4257-a7dd-4c6a1fcd460c",
   "metadata": {},
   "source": [
    "### Author: Ly Duc Trung"
   ]
  },
  {
   "cell_type": "markdown",
   "id": "b9abdf19-0780-46d7-9246-ac0b25747145",
   "metadata": {},
   "source": [
    "### Link: https://github.com/DucTrung1802/DS/blob/main/GLM_Report/diabetes_analysis_upgrade.ipynb"
   ]
  },
  {
   "cell_type": "markdown",
   "id": "deb0884f-4606-4ab4-93f5-43a781e1f32d",
   "metadata": {},
   "source": [
    "### Dataset Link: https://www.archive.ics.uci.edu/dataset/891/cdc+diabetes+health+indicators"
   ]
  },
  {
   "cell_type": "markdown",
   "id": "24268dcc-9c1b-4bc9-803b-930bb7eaa68c",
   "metadata": {},
   "source": [
    "## 0. Install and import libraries"
   ]
  },
  {
   "cell_type": "markdown",
   "id": "fadcda47-91d2-41e0-96f7-eceb060570dc",
   "metadata": {},
   "source": [
    "### 0.1. Check R version"
   ]
  },
  {
   "cell_type": "code",
   "execution_count": 314,
   "id": "a8502f57-a490-4226-ab07-808fa431ce9e",
   "metadata": {},
   "outputs": [
    {
     "data": {
      "text/html": [
       "<dl>\n",
       "\t<dt>$platform</dt>\n",
       "\t\t<dd>'x86_64-w64-mingw32'</dd>\n",
       "\t<dt>$arch</dt>\n",
       "\t\t<dd>'x86_64'</dd>\n",
       "\t<dt>$os</dt>\n",
       "\t\t<dd>'mingw32'</dd>\n",
       "\t<dt>$system</dt>\n",
       "\t\t<dd>'x86_64, mingw32'</dd>\n",
       "\t<dt>$status</dt>\n",
       "\t\t<dd>''</dd>\n",
       "\t<dt>$major</dt>\n",
       "\t\t<dd>'4'</dd>\n",
       "\t<dt>$minor</dt>\n",
       "\t\t<dd>'0.5'</dd>\n",
       "\t<dt>$year</dt>\n",
       "\t\t<dd>'2021'</dd>\n",
       "\t<dt>$month</dt>\n",
       "\t\t<dd>'03'</dd>\n",
       "\t<dt>$day</dt>\n",
       "\t\t<dd>'31'</dd>\n",
       "\t<dt>$`svn rev`</dt>\n",
       "\t\t<dd>'80133'</dd>\n",
       "\t<dt>$language</dt>\n",
       "\t\t<dd>'R'</dd>\n",
       "\t<dt>$version.string</dt>\n",
       "\t\t<dd>'R version 4.0.5 (2021-03-31)'</dd>\n",
       "\t<dt>$nickname</dt>\n",
       "\t\t<dd>'Shake and Throw'</dd>\n",
       "</dl>\n"
      ],
      "text/latex": [
       "\\begin{description}\n",
       "\\item[\\$platform] 'x86\\_64-w64-mingw32'\n",
       "\\item[\\$arch] 'x86\\_64'\n",
       "\\item[\\$os] 'mingw32'\n",
       "\\item[\\$system] 'x86\\_64, mingw32'\n",
       "\\item[\\$status] ''\n",
       "\\item[\\$major] '4'\n",
       "\\item[\\$minor] '0.5'\n",
       "\\item[\\$year] '2021'\n",
       "\\item[\\$month] '03'\n",
       "\\item[\\$day] '31'\n",
       "\\item[\\$`svn rev`] '80133'\n",
       "\\item[\\$language] 'R'\n",
       "\\item[\\$version.string] 'R version 4.0.5 (2021-03-31)'\n",
       "\\item[\\$nickname] 'Shake and Throw'\n",
       "\\end{description}\n"
      ],
      "text/markdown": [
       "$platform\n",
       ":   'x86_64-w64-mingw32'\n",
       "$arch\n",
       ":   'x86_64'\n",
       "$os\n",
       ":   'mingw32'\n",
       "$system\n",
       ":   'x86_64, mingw32'\n",
       "$status\n",
       ":   ''\n",
       "$major\n",
       ":   '4'\n",
       "$minor\n",
       ":   '0.5'\n",
       "$year\n",
       ":   '2021'\n",
       "$month\n",
       ":   '03'\n",
       "$day\n",
       ":   '31'\n",
       "$`svn rev`\n",
       ":   '80133'\n",
       "$language\n",
       ":   'R'\n",
       "$version.string\n",
       ":   'R version 4.0.5 (2021-03-31)'\n",
       "$nickname\n",
       ":   'Shake and Throw'\n",
       "\n",
       "\n"
      ],
      "text/plain": [
       "$platform\n",
       "[1] \"x86_64-w64-mingw32\"\n",
       "\n",
       "$arch\n",
       "[1] \"x86_64\"\n",
       "\n",
       "$os\n",
       "[1] \"mingw32\"\n",
       "\n",
       "$system\n",
       "[1] \"x86_64, mingw32\"\n",
       "\n",
       "$status\n",
       "[1] \"\"\n",
       "\n",
       "$major\n",
       "[1] \"4\"\n",
       "\n",
       "$minor\n",
       "[1] \"0.5\"\n",
       "\n",
       "$year\n",
       "[1] \"2021\"\n",
       "\n",
       "$month\n",
       "[1] \"03\"\n",
       "\n",
       "$day\n",
       "[1] \"31\"\n",
       "\n",
       "$`svn rev`\n",
       "[1] \"80133\"\n",
       "\n",
       "$language\n",
       "[1] \"R\"\n",
       "\n",
       "$version.string\n",
       "[1] \"R version 4.0.5 (2021-03-31)\"\n",
       "\n",
       "$nickname\n",
       "[1] \"Shake and Throw\"\n"
      ]
     },
     "metadata": {},
     "output_type": "display_data"
    }
   ],
   "source": [
    "R.Version()"
   ]
  },
  {
   "cell_type": "markdown",
   "id": "8fb3de35-59ae-4343-890b-5c3879386338",
   "metadata": {},
   "source": [
    "### 0.2. Install"
   ]
  },
  {
   "cell_type": "code",
   "execution_count": 315,
   "id": "f6cb5ab9-48a8-44f5-ae56-4b29fcaa115f",
   "metadata": {},
   "outputs": [],
   "source": [
    "# INSTALL THESE PACKAGES IN CONDA TERMINAL\n"
   ]
  },
  {
   "cell_type": "markdown",
   "id": "6d09d272-1ddb-40e3-9d79-5fc9a6781023",
   "metadata": {},
   "source": [
    "### 0.3. Import"
   ]
  },
  {
   "cell_type": "code",
   "execution_count": 374,
   "id": "54957588-c263-485b-ad1d-a36ffd93e607",
   "metadata": {
    "scrolled": true
   },
   "outputs": [
    {
     "name": "stderr",
     "output_type": "stream",
     "text": [
      "Loading required package: lattice\n",
      "\n",
      "\n",
      "Attaching package: 'BSDA'\n",
      "\n",
      "\n",
      "The following object is masked from 'package:datasets':\n",
      "\n",
      "    Orange\n",
      "\n",
      "\n"
     ]
    }
   ],
   "source": [
    "library(ggplot2)\n",
    "library(ROSE)\n",
    "library(psych)\n",
    "library(DescTools)\n",
    "library(BSDA)"
   ]
  },
  {
   "cell_type": "code",
   "execution_count": 317,
   "id": "f1c3815e-3de9-4a6f-9af1-f379a1bfaca8",
   "metadata": {},
   "outputs": [],
   "source": [
    "### 0.4. Constants"
   ]
  },
  {
   "cell_type": "code",
   "execution_count": 318,
   "id": "890b3957-3123-4894-963b-2daf43112f5b",
   "metadata": {},
   "outputs": [],
   "source": [
    "SEED = 123\n",
    "MAIN_COLOR = \"#1155cc\""
   ]
  },
  {
   "cell_type": "markdown",
   "id": "da0c30e4-e50c-47ed-acd6-7053b9751020",
   "metadata": {},
   "source": [
    "## 1. Import Data"
   ]
  },
  {
   "cell_type": "code",
   "execution_count": 319,
   "id": "d18a7dba-cc4f-451a-ab11-0aec662256c5",
   "metadata": {},
   "outputs": [],
   "source": [
    "input_data = read.csv(\"diabetes_full_data.csv\")"
   ]
  },
  {
   "cell_type": "code",
   "execution_count": 320,
   "id": "eb04da3a-f418-48cb-880b-e697c54c0cd4",
   "metadata": {},
   "outputs": [],
   "source": [
    "df = data.frame(input_data)"
   ]
  },
  {
   "cell_type": "code",
   "execution_count": 321,
   "id": "36d9ec88-07bb-405a-823c-d0f539fac490",
   "metadata": {},
   "outputs": [
    {
     "data": {
      "text/html": [
       "<table class=\"dataframe\">\n",
       "<caption>A data.frame: 253680 × 23</caption>\n",
       "<thead>\n",
       "\t<tr><th scope=col>X</th><th scope=col>HighBP</th><th scope=col>HighChol</th><th scope=col>CholCheck</th><th scope=col>BMI</th><th scope=col>Smoker</th><th scope=col>Stroke</th><th scope=col>HeartDiseaseorAttack</th><th scope=col>PhysActivity</th><th scope=col>Fruits</th><th scope=col>⋯</th><th scope=col>NoDocbcCost</th><th scope=col>GenHlth</th><th scope=col>MentHlth</th><th scope=col>PhysHlth</th><th scope=col>DiffWalk</th><th scope=col>Sex</th><th scope=col>Age</th><th scope=col>Education</th><th scope=col>Income</th><th scope=col>Diabetes_binary</th></tr>\n",
       "\t<tr><th scope=col>&lt;int&gt;</th><th scope=col>&lt;int&gt;</th><th scope=col>&lt;int&gt;</th><th scope=col>&lt;int&gt;</th><th scope=col>&lt;int&gt;</th><th scope=col>&lt;int&gt;</th><th scope=col>&lt;int&gt;</th><th scope=col>&lt;int&gt;</th><th scope=col>&lt;int&gt;</th><th scope=col>&lt;int&gt;</th><th scope=col>⋯</th><th scope=col>&lt;int&gt;</th><th scope=col>&lt;int&gt;</th><th scope=col>&lt;int&gt;</th><th scope=col>&lt;int&gt;</th><th scope=col>&lt;int&gt;</th><th scope=col>&lt;int&gt;</th><th scope=col>&lt;int&gt;</th><th scope=col>&lt;int&gt;</th><th scope=col>&lt;int&gt;</th><th scope=col>&lt;int&gt;</th></tr>\n",
       "</thead>\n",
       "<tbody>\n",
       "\t<tr><td> 0</td><td>1</td><td>1</td><td>1</td><td>40</td><td>1</td><td>0</td><td>0</td><td>0</td><td>0</td><td>⋯</td><td>0</td><td>5</td><td>18</td><td>15</td><td>1</td><td>0</td><td> 9</td><td>4</td><td>3</td><td>0</td></tr>\n",
       "\t<tr><td> 1</td><td>0</td><td>0</td><td>0</td><td>25</td><td>1</td><td>0</td><td>0</td><td>1</td><td>0</td><td>⋯</td><td>1</td><td>3</td><td> 0</td><td> 0</td><td>0</td><td>0</td><td> 7</td><td>6</td><td>1</td><td>0</td></tr>\n",
       "\t<tr><td> 2</td><td>1</td><td>1</td><td>1</td><td>28</td><td>0</td><td>0</td><td>0</td><td>0</td><td>1</td><td>⋯</td><td>1</td><td>5</td><td>30</td><td>30</td><td>1</td><td>0</td><td> 9</td><td>4</td><td>8</td><td>0</td></tr>\n",
       "\t<tr><td> 3</td><td>1</td><td>0</td><td>1</td><td>27</td><td>0</td><td>0</td><td>0</td><td>1</td><td>1</td><td>⋯</td><td>0</td><td>2</td><td> 0</td><td> 0</td><td>0</td><td>0</td><td>11</td><td>3</td><td>6</td><td>0</td></tr>\n",
       "\t<tr><td> 4</td><td>1</td><td>1</td><td>1</td><td>24</td><td>0</td><td>0</td><td>0</td><td>1</td><td>1</td><td>⋯</td><td>0</td><td>2</td><td> 3</td><td> 0</td><td>0</td><td>0</td><td>11</td><td>5</td><td>4</td><td>0</td></tr>\n",
       "\t<tr><td> 5</td><td>1</td><td>1</td><td>1</td><td>25</td><td>1</td><td>0</td><td>0</td><td>1</td><td>1</td><td>⋯</td><td>0</td><td>2</td><td> 0</td><td> 2</td><td>0</td><td>1</td><td>10</td><td>6</td><td>8</td><td>0</td></tr>\n",
       "\t<tr><td> 6</td><td>1</td><td>0</td><td>1</td><td>30</td><td>1</td><td>0</td><td>0</td><td>0</td><td>0</td><td>⋯</td><td>0</td><td>3</td><td> 0</td><td>14</td><td>0</td><td>0</td><td> 9</td><td>6</td><td>7</td><td>0</td></tr>\n",
       "\t<tr><td> 7</td><td>1</td><td>1</td><td>1</td><td>25</td><td>1</td><td>0</td><td>0</td><td>1</td><td>0</td><td>⋯</td><td>0</td><td>3</td><td> 0</td><td> 0</td><td>1</td><td>0</td><td>11</td><td>4</td><td>4</td><td>0</td></tr>\n",
       "\t<tr><td> 8</td><td>1</td><td>1</td><td>1</td><td>30</td><td>1</td><td>0</td><td>1</td><td>0</td><td>1</td><td>⋯</td><td>0</td><td>5</td><td>30</td><td>30</td><td>1</td><td>0</td><td> 9</td><td>5</td><td>1</td><td>1</td></tr>\n",
       "\t<tr><td> 9</td><td>0</td><td>0</td><td>1</td><td>24</td><td>0</td><td>0</td><td>0</td><td>0</td><td>0</td><td>⋯</td><td>0</td><td>2</td><td> 0</td><td> 0</td><td>0</td><td>1</td><td> 8</td><td>4</td><td>3</td><td>0</td></tr>\n",
       "\t<tr><td>10</td><td>0</td><td>0</td><td>1</td><td>25</td><td>1</td><td>0</td><td>0</td><td>1</td><td>1</td><td>⋯</td><td>0</td><td>3</td><td> 0</td><td> 0</td><td>0</td><td>1</td><td>13</td><td>6</td><td>8</td><td>1</td></tr>\n",
       "\t<tr><td>11</td><td>1</td><td>1</td><td>1</td><td>34</td><td>1</td><td>0</td><td>0</td><td>0</td><td>1</td><td>⋯</td><td>0</td><td>3</td><td> 0</td><td>30</td><td>1</td><td>0</td><td>10</td><td>5</td><td>1</td><td>0</td></tr>\n",
       "\t<tr><td>12</td><td>0</td><td>0</td><td>1</td><td>26</td><td>1</td><td>0</td><td>0</td><td>0</td><td>0</td><td>⋯</td><td>0</td><td>3</td><td> 0</td><td>15</td><td>0</td><td>0</td><td> 7</td><td>5</td><td>7</td><td>0</td></tr>\n",
       "\t<tr><td>13</td><td>1</td><td>1</td><td>1</td><td>28</td><td>0</td><td>0</td><td>0</td><td>0</td><td>0</td><td>⋯</td><td>0</td><td>4</td><td> 0</td><td> 0</td><td>1</td><td>0</td><td>11</td><td>4</td><td>6</td><td>1</td></tr>\n",
       "\t<tr><td>14</td><td>0</td><td>1</td><td>1</td><td>33</td><td>1</td><td>1</td><td>0</td><td>1</td><td>0</td><td>⋯</td><td>1</td><td>4</td><td>30</td><td>28</td><td>0</td><td>0</td><td> 4</td><td>6</td><td>2</td><td>0</td></tr>\n",
       "\t<tr><td>15</td><td>1</td><td>0</td><td>1</td><td>33</td><td>0</td><td>0</td><td>0</td><td>1</td><td>0</td><td>⋯</td><td>0</td><td>2</td><td> 5</td><td> 0</td><td>0</td><td>0</td><td> 6</td><td>6</td><td>8</td><td>0</td></tr>\n",
       "\t<tr><td>16</td><td>1</td><td>1</td><td>1</td><td>21</td><td>0</td><td>0</td><td>0</td><td>1</td><td>1</td><td>⋯</td><td>0</td><td>3</td><td> 0</td><td> 0</td><td>0</td><td>0</td><td>10</td><td>4</td><td>3</td><td>0</td></tr>\n",
       "\t<tr><td>17</td><td>0</td><td>0</td><td>1</td><td>23</td><td>1</td><td>0</td><td>0</td><td>1</td><td>0</td><td>⋯</td><td>0</td><td>2</td><td> 0</td><td> 0</td><td>0</td><td>1</td><td> 7</td><td>5</td><td>6</td><td>1</td></tr>\n",
       "\t<tr><td>18</td><td>0</td><td>0</td><td>0</td><td>23</td><td>0</td><td>0</td><td>0</td><td>0</td><td>0</td><td>⋯</td><td>0</td><td>2</td><td>15</td><td> 0</td><td>0</td><td>0</td><td> 2</td><td>6</td><td>7</td><td>0</td></tr>\n",
       "\t<tr><td>19</td><td>0</td><td>1</td><td>1</td><td>28</td><td>0</td><td>0</td><td>0</td><td>0</td><td>0</td><td>⋯</td><td>0</td><td>2</td><td>10</td><td> 0</td><td>0</td><td>1</td><td> 4</td><td>6</td><td>8</td><td>0</td></tr>\n",
       "\t<tr><td>20</td><td>1</td><td>1</td><td>1</td><td>22</td><td>0</td><td>1</td><td>1</td><td>0</td><td>1</td><td>⋯</td><td>0</td><td>3</td><td>30</td><td> 0</td><td>1</td><td>0</td><td>12</td><td>4</td><td>4</td><td>0</td></tr>\n",
       "\t<tr><td>21</td><td>1</td><td>1</td><td>1</td><td>38</td><td>1</td><td>0</td><td>0</td><td>0</td><td>1</td><td>⋯</td><td>0</td><td>5</td><td>15</td><td>30</td><td>1</td><td>0</td><td>13</td><td>2</td><td>3</td><td>0</td></tr>\n",
       "\t<tr><td>22</td><td>0</td><td>0</td><td>1</td><td>28</td><td>1</td><td>0</td><td>0</td><td>0</td><td>0</td><td>⋯</td><td>0</td><td>3</td><td> 0</td><td> 7</td><td>0</td><td>1</td><td> 5</td><td>5</td><td>5</td><td>0</td></tr>\n",
       "\t<tr><td>23</td><td>1</td><td>0</td><td>1</td><td>27</td><td>0</td><td>0</td><td>0</td><td>1</td><td>1</td><td>⋯</td><td>0</td><td>1</td><td> 0</td><td> 0</td><td>0</td><td>0</td><td>13</td><td>5</td><td>4</td><td>1</td></tr>\n",
       "\t<tr><td>24</td><td>1</td><td>1</td><td>1</td><td>28</td><td>1</td><td>0</td><td>0</td><td>0</td><td>1</td><td>⋯</td><td>0</td><td>3</td><td> 6</td><td> 0</td><td>1</td><td>0</td><td> 9</td><td>4</td><td>6</td><td>0</td></tr>\n",
       "\t<tr><td>25</td><td>0</td><td>0</td><td>1</td><td>32</td><td>0</td><td>0</td><td>0</td><td>1</td><td>1</td><td>⋯</td><td>0</td><td>2</td><td> 0</td><td> 0</td><td>0</td><td>0</td><td> 5</td><td>6</td><td>8</td><td>0</td></tr>\n",
       "\t<tr><td>26</td><td>1</td><td>1</td><td>1</td><td>37</td><td>1</td><td>1</td><td>1</td><td>0</td><td>0</td><td>⋯</td><td>0</td><td>5</td><td> 0</td><td> 0</td><td>1</td><td>1</td><td>10</td><td>6</td><td>5</td><td>1</td></tr>\n",
       "\t<tr><td>27</td><td>1</td><td>1</td><td>1</td><td>28</td><td>1</td><td>0</td><td>1</td><td>0</td><td>0</td><td>⋯</td><td>0</td><td>4</td><td> 0</td><td> 0</td><td>0</td><td>1</td><td>12</td><td>2</td><td>4</td><td>1</td></tr>\n",
       "\t<tr><td>28</td><td>1</td><td>1</td><td>1</td><td>27</td><td>1</td><td>0</td><td>0</td><td>0</td><td>1</td><td>⋯</td><td>0</td><td>4</td><td>20</td><td>20</td><td>1</td><td>0</td><td> 8</td><td>4</td><td>7</td><td>1</td></tr>\n",
       "\t<tr><td>29</td><td>0</td><td>1</td><td>1</td><td>31</td><td>1</td><td>0</td><td>0</td><td>1</td><td>1</td><td>⋯</td><td>0</td><td>1</td><td> 0</td><td> 0</td><td>0</td><td>1</td><td>12</td><td>6</td><td>8</td><td>0</td></tr>\n",
       "\t<tr><td>⋮</td><td>⋮</td><td>⋮</td><td>⋮</td><td>⋮</td><td>⋮</td><td>⋮</td><td>⋮</td><td>⋮</td><td>⋮</td><td>⋱</td><td>⋮</td><td>⋮</td><td>⋮</td><td>⋮</td><td>⋮</td><td>⋮</td><td>⋮</td><td>⋮</td><td>⋮</td><td>⋮</td></tr>\n",
       "\t<tr><td>253650</td><td>1</td><td>0</td><td>1</td><td>27</td><td>0</td><td>0</td><td>0</td><td>1</td><td>0</td><td>⋯</td><td>0</td><td>4</td><td> 0</td><td> 0</td><td>0</td><td>0</td><td> 5</td><td>4</td><td>2</td><td>0</td></tr>\n",
       "\t<tr><td>253651</td><td>0</td><td>0</td><td>1</td><td>24</td><td>0</td><td>0</td><td>0</td><td>1</td><td>1</td><td>⋯</td><td>1</td><td>1</td><td> 0</td><td> 0</td><td>0</td><td>1</td><td> 2</td><td>6</td><td>3</td><td>0</td></tr>\n",
       "\t<tr><td>253652</td><td>0</td><td>1</td><td>1</td><td>27</td><td>0</td><td>0</td><td>0</td><td>1</td><td>1</td><td>⋯</td><td>0</td><td>4</td><td> 0</td><td>30</td><td>0</td><td>1</td><td>11</td><td>2</td><td>3</td><td>1</td></tr>\n",
       "\t<tr><td>253653</td><td>0</td><td>0</td><td>1</td><td>33</td><td>1</td><td>0</td><td>0</td><td>0</td><td>1</td><td>⋯</td><td>0</td><td>4</td><td> 0</td><td>15</td><td>0</td><td>1</td><td>10</td><td>6</td><td>3</td><td>0</td></tr>\n",
       "\t<tr><td>253654</td><td>0</td><td>0</td><td>1</td><td>26</td><td>1</td><td>0</td><td>0</td><td>1</td><td>1</td><td>⋯</td><td>0</td><td>2</td><td> 1</td><td> 0</td><td>0</td><td>1</td><td> 3</td><td>3</td><td>1</td><td>0</td></tr>\n",
       "\t<tr><td>253655</td><td>0</td><td>0</td><td>1</td><td>28</td><td>0</td><td>0</td><td>0</td><td>1</td><td>1</td><td>⋯</td><td>0</td><td>2</td><td> 0</td><td> 0</td><td>0</td><td>0</td><td> 2</td><td>6</td><td>4</td><td>0</td></tr>\n",
       "\t<tr><td>253656</td><td>0</td><td>0</td><td>1</td><td>25</td><td>0</td><td>0</td><td>0</td><td>1</td><td>1</td><td>⋯</td><td>0</td><td>1</td><td> 0</td><td> 0</td><td>0</td><td>0</td><td> 4</td><td>6</td><td>8</td><td>0</td></tr>\n",
       "\t<tr><td>253657</td><td>0</td><td>1</td><td>1</td><td>24</td><td>0</td><td>0</td><td>0</td><td>0</td><td>0</td><td>⋯</td><td>0</td><td>3</td><td> 0</td><td> 0</td><td>0</td><td>0</td><td> 7</td><td>5</td><td>3</td><td>0</td></tr>\n",
       "\t<tr><td>253658</td><td>0</td><td>0</td><td>0</td><td>27</td><td>0</td><td>0</td><td>0</td><td>1</td><td>0</td><td>⋯</td><td>1</td><td>2</td><td> 0</td><td> 0</td><td>0</td><td>0</td><td> 3</td><td>6</td><td>5</td><td>0</td></tr>\n",
       "\t<tr><td>253659</td><td>0</td><td>1</td><td>1</td><td>37</td><td>0</td><td>0</td><td>0</td><td>0</td><td>0</td><td>⋯</td><td>0</td><td>4</td><td> 0</td><td> 0</td><td>0</td><td>0</td><td> 6</td><td>4</td><td>1</td><td>1</td></tr>\n",
       "\t<tr><td>253660</td><td>0</td><td>1</td><td>1</td><td>34</td><td>1</td><td>0</td><td>0</td><td>0</td><td>1</td><td>⋯</td><td>0</td><td>3</td><td> 0</td><td> 2</td><td>1</td><td>0</td><td> 7</td><td>4</td><td>3</td><td>0</td></tr>\n",
       "\t<tr><td>253661</td><td>1</td><td>0</td><td>1</td><td>33</td><td>0</td><td>0</td><td>0</td><td>1</td><td>0</td><td>⋯</td><td>1</td><td>3</td><td> 0</td><td> 2</td><td>1</td><td>0</td><td> 6</td><td>6</td><td>6</td><td>0</td></tr>\n",
       "\t<tr><td>253662</td><td>0</td><td>0</td><td>1</td><td>16</td><td>0</td><td>0</td><td>0</td><td>1</td><td>0</td><td>⋯</td><td>0</td><td>1</td><td> 0</td><td> 0</td><td>0</td><td>0</td><td> 5</td><td>6</td><td>2</td><td>0</td></tr>\n",
       "\t<tr><td>253663</td><td>0</td><td>0</td><td>1</td><td>23</td><td>0</td><td>0</td><td>0</td><td>0</td><td>1</td><td>⋯</td><td>1</td><td>2</td><td> 0</td><td>30</td><td>0</td><td>0</td><td> 5</td><td>6</td><td>2</td><td>0</td></tr>\n",
       "\t<tr><td>253664</td><td>0</td><td>1</td><td>1</td><td>29</td><td>1</td><td>0</td><td>0</td><td>0</td><td>0</td><td>⋯</td><td>0</td><td>3</td><td> 0</td><td> 0</td><td>0</td><td>0</td><td> 6</td><td>6</td><td>4</td><td>0</td></tr>\n",
       "\t<tr><td>253665</td><td>0</td><td>1</td><td>1</td><td>17</td><td>0</td><td>0</td><td>0</td><td>0</td><td>0</td><td>⋯</td><td>1</td><td>4</td><td>30</td><td>30</td><td>0</td><td>0</td><td> 5</td><td>4</td><td>1</td><td>0</td></tr>\n",
       "\t<tr><td>253666</td><td>1</td><td>0</td><td>1</td><td>23</td><td>0</td><td>0</td><td>0</td><td>0</td><td>1</td><td>⋯</td><td>0</td><td>3</td><td> 0</td><td>15</td><td>0</td><td>0</td><td> 6</td><td>5</td><td>2</td><td>0</td></tr>\n",
       "\t<tr><td>253667</td><td>1</td><td>1</td><td>1</td><td>28</td><td>1</td><td>0</td><td>0</td><td>0</td><td>0</td><td>⋯</td><td>0</td><td>3</td><td> 0</td><td> 0</td><td>0</td><td>0</td><td>11</td><td>4</td><td>7</td><td>0</td></tr>\n",
       "\t<tr><td>253668</td><td>0</td><td>1</td><td>1</td><td>29</td><td>1</td><td>0</td><td>1</td><td>0</td><td>1</td><td>⋯</td><td>0</td><td>2</td><td> 0</td><td> 0</td><td>1</td><td>1</td><td>10</td><td>3</td><td>6</td><td>1</td></tr>\n",
       "\t<tr><td>253669</td><td>0</td><td>1</td><td>1</td><td>27</td><td>0</td><td>0</td><td>0</td><td>0</td><td>0</td><td>⋯</td><td>1</td><td>1</td><td> 0</td><td> 3</td><td>0</td><td>1</td><td> 6</td><td>2</td><td>4</td><td>0</td></tr>\n",
       "\t<tr><td>253670</td><td>1</td><td>1</td><td>1</td><td>25</td><td>0</td><td>0</td><td>1</td><td>0</td><td>1</td><td>⋯</td><td>0</td><td>5</td><td>15</td><td> 0</td><td>1</td><td>0</td><td>13</td><td>6</td><td>4</td><td>1</td></tr>\n",
       "\t<tr><td>253671</td><td>1</td><td>1</td><td>1</td><td>23</td><td>0</td><td>1</td><td>1</td><td>0</td><td>0</td><td>⋯</td><td>1</td><td>4</td><td> 0</td><td> 5</td><td>0</td><td>1</td><td> 8</td><td>3</td><td>2</td><td>0</td></tr>\n",
       "\t<tr><td>253672</td><td>1</td><td>0</td><td>1</td><td>30</td><td>1</td><td>0</td><td>1</td><td>1</td><td>1</td><td>⋯</td><td>0</td><td>3</td><td> 0</td><td> 0</td><td>0</td><td>1</td><td>12</td><td>2</td><td>1</td><td>0</td></tr>\n",
       "\t<tr><td>253673</td><td>1</td><td>0</td><td>1</td><td>42</td><td>0</td><td>0</td><td>0</td><td>1</td><td>1</td><td>⋯</td><td>0</td><td>3</td><td>14</td><td> 4</td><td>0</td><td>1</td><td> 3</td><td>6</td><td>8</td><td>0</td></tr>\n",
       "\t<tr><td>253674</td><td>0</td><td>0</td><td>1</td><td>27</td><td>0</td><td>0</td><td>0</td><td>0</td><td>0</td><td>⋯</td><td>0</td><td>1</td><td> 0</td><td> 0</td><td>0</td><td>0</td><td> 3</td><td>6</td><td>5</td><td>0</td></tr>\n",
       "\t<tr><td>253675</td><td>1</td><td>1</td><td>1</td><td>45</td><td>0</td><td>0</td><td>0</td><td>0</td><td>1</td><td>⋯</td><td>0</td><td>3</td><td> 0</td><td> 5</td><td>0</td><td>1</td><td> 5</td><td>6</td><td>7</td><td>0</td></tr>\n",
       "\t<tr><td>253676</td><td>1</td><td>1</td><td>1</td><td>18</td><td>0</td><td>0</td><td>0</td><td>0</td><td>0</td><td>⋯</td><td>0</td><td>4</td><td> 0</td><td> 0</td><td>1</td><td>0</td><td>11</td><td>2</td><td>4</td><td>1</td></tr>\n",
       "\t<tr><td>253677</td><td>0</td><td>0</td><td>1</td><td>28</td><td>0</td><td>0</td><td>0</td><td>1</td><td>1</td><td>⋯</td><td>0</td><td>1</td><td> 0</td><td> 0</td><td>0</td><td>0</td><td> 2</td><td>5</td><td>2</td><td>0</td></tr>\n",
       "\t<tr><td>253678</td><td>1</td><td>0</td><td>1</td><td>23</td><td>0</td><td>0</td><td>0</td><td>0</td><td>1</td><td>⋯</td><td>0</td><td>3</td><td> 0</td><td> 0</td><td>0</td><td>1</td><td> 7</td><td>5</td><td>1</td><td>0</td></tr>\n",
       "\t<tr><td>253679</td><td>1</td><td>1</td><td>1</td><td>25</td><td>0</td><td>0</td><td>1</td><td>1</td><td>1</td><td>⋯</td><td>0</td><td>2</td><td> 0</td><td> 0</td><td>0</td><td>0</td><td> 9</td><td>6</td><td>2</td><td>1</td></tr>\n",
       "</tbody>\n",
       "</table>\n"
      ],
      "text/latex": [
       "A data.frame: 253680 × 23\n",
       "\\begin{tabular}{lllllllllllllllllllll}\n",
       " X & HighBP & HighChol & CholCheck & BMI & Smoker & Stroke & HeartDiseaseorAttack & PhysActivity & Fruits & ⋯ & NoDocbcCost & GenHlth & MentHlth & PhysHlth & DiffWalk & Sex & Age & Education & Income & Diabetes\\_binary\\\\\n",
       " <int> & <int> & <int> & <int> & <int> & <int> & <int> & <int> & <int> & <int> & ⋯ & <int> & <int> & <int> & <int> & <int> & <int> & <int> & <int> & <int> & <int>\\\\\n",
       "\\hline\n",
       "\t  0 & 1 & 1 & 1 & 40 & 1 & 0 & 0 & 0 & 0 & ⋯ & 0 & 5 & 18 & 15 & 1 & 0 &  9 & 4 & 3 & 0\\\\\n",
       "\t  1 & 0 & 0 & 0 & 25 & 1 & 0 & 0 & 1 & 0 & ⋯ & 1 & 3 &  0 &  0 & 0 & 0 &  7 & 6 & 1 & 0\\\\\n",
       "\t  2 & 1 & 1 & 1 & 28 & 0 & 0 & 0 & 0 & 1 & ⋯ & 1 & 5 & 30 & 30 & 1 & 0 &  9 & 4 & 8 & 0\\\\\n",
       "\t  3 & 1 & 0 & 1 & 27 & 0 & 0 & 0 & 1 & 1 & ⋯ & 0 & 2 &  0 &  0 & 0 & 0 & 11 & 3 & 6 & 0\\\\\n",
       "\t  4 & 1 & 1 & 1 & 24 & 0 & 0 & 0 & 1 & 1 & ⋯ & 0 & 2 &  3 &  0 & 0 & 0 & 11 & 5 & 4 & 0\\\\\n",
       "\t  5 & 1 & 1 & 1 & 25 & 1 & 0 & 0 & 1 & 1 & ⋯ & 0 & 2 &  0 &  2 & 0 & 1 & 10 & 6 & 8 & 0\\\\\n",
       "\t  6 & 1 & 0 & 1 & 30 & 1 & 0 & 0 & 0 & 0 & ⋯ & 0 & 3 &  0 & 14 & 0 & 0 &  9 & 6 & 7 & 0\\\\\n",
       "\t  7 & 1 & 1 & 1 & 25 & 1 & 0 & 0 & 1 & 0 & ⋯ & 0 & 3 &  0 &  0 & 1 & 0 & 11 & 4 & 4 & 0\\\\\n",
       "\t  8 & 1 & 1 & 1 & 30 & 1 & 0 & 1 & 0 & 1 & ⋯ & 0 & 5 & 30 & 30 & 1 & 0 &  9 & 5 & 1 & 1\\\\\n",
       "\t  9 & 0 & 0 & 1 & 24 & 0 & 0 & 0 & 0 & 0 & ⋯ & 0 & 2 &  0 &  0 & 0 & 1 &  8 & 4 & 3 & 0\\\\\n",
       "\t 10 & 0 & 0 & 1 & 25 & 1 & 0 & 0 & 1 & 1 & ⋯ & 0 & 3 &  0 &  0 & 0 & 1 & 13 & 6 & 8 & 1\\\\\n",
       "\t 11 & 1 & 1 & 1 & 34 & 1 & 0 & 0 & 0 & 1 & ⋯ & 0 & 3 &  0 & 30 & 1 & 0 & 10 & 5 & 1 & 0\\\\\n",
       "\t 12 & 0 & 0 & 1 & 26 & 1 & 0 & 0 & 0 & 0 & ⋯ & 0 & 3 &  0 & 15 & 0 & 0 &  7 & 5 & 7 & 0\\\\\n",
       "\t 13 & 1 & 1 & 1 & 28 & 0 & 0 & 0 & 0 & 0 & ⋯ & 0 & 4 &  0 &  0 & 1 & 0 & 11 & 4 & 6 & 1\\\\\n",
       "\t 14 & 0 & 1 & 1 & 33 & 1 & 1 & 0 & 1 & 0 & ⋯ & 1 & 4 & 30 & 28 & 0 & 0 &  4 & 6 & 2 & 0\\\\\n",
       "\t 15 & 1 & 0 & 1 & 33 & 0 & 0 & 0 & 1 & 0 & ⋯ & 0 & 2 &  5 &  0 & 0 & 0 &  6 & 6 & 8 & 0\\\\\n",
       "\t 16 & 1 & 1 & 1 & 21 & 0 & 0 & 0 & 1 & 1 & ⋯ & 0 & 3 &  0 &  0 & 0 & 0 & 10 & 4 & 3 & 0\\\\\n",
       "\t 17 & 0 & 0 & 1 & 23 & 1 & 0 & 0 & 1 & 0 & ⋯ & 0 & 2 &  0 &  0 & 0 & 1 &  7 & 5 & 6 & 1\\\\\n",
       "\t 18 & 0 & 0 & 0 & 23 & 0 & 0 & 0 & 0 & 0 & ⋯ & 0 & 2 & 15 &  0 & 0 & 0 &  2 & 6 & 7 & 0\\\\\n",
       "\t 19 & 0 & 1 & 1 & 28 & 0 & 0 & 0 & 0 & 0 & ⋯ & 0 & 2 & 10 &  0 & 0 & 1 &  4 & 6 & 8 & 0\\\\\n",
       "\t 20 & 1 & 1 & 1 & 22 & 0 & 1 & 1 & 0 & 1 & ⋯ & 0 & 3 & 30 &  0 & 1 & 0 & 12 & 4 & 4 & 0\\\\\n",
       "\t 21 & 1 & 1 & 1 & 38 & 1 & 0 & 0 & 0 & 1 & ⋯ & 0 & 5 & 15 & 30 & 1 & 0 & 13 & 2 & 3 & 0\\\\\n",
       "\t 22 & 0 & 0 & 1 & 28 & 1 & 0 & 0 & 0 & 0 & ⋯ & 0 & 3 &  0 &  7 & 0 & 1 &  5 & 5 & 5 & 0\\\\\n",
       "\t 23 & 1 & 0 & 1 & 27 & 0 & 0 & 0 & 1 & 1 & ⋯ & 0 & 1 &  0 &  0 & 0 & 0 & 13 & 5 & 4 & 1\\\\\n",
       "\t 24 & 1 & 1 & 1 & 28 & 1 & 0 & 0 & 0 & 1 & ⋯ & 0 & 3 &  6 &  0 & 1 & 0 &  9 & 4 & 6 & 0\\\\\n",
       "\t 25 & 0 & 0 & 1 & 32 & 0 & 0 & 0 & 1 & 1 & ⋯ & 0 & 2 &  0 &  0 & 0 & 0 &  5 & 6 & 8 & 0\\\\\n",
       "\t 26 & 1 & 1 & 1 & 37 & 1 & 1 & 1 & 0 & 0 & ⋯ & 0 & 5 &  0 &  0 & 1 & 1 & 10 & 6 & 5 & 1\\\\\n",
       "\t 27 & 1 & 1 & 1 & 28 & 1 & 0 & 1 & 0 & 0 & ⋯ & 0 & 4 &  0 &  0 & 0 & 1 & 12 & 2 & 4 & 1\\\\\n",
       "\t 28 & 1 & 1 & 1 & 27 & 1 & 0 & 0 & 0 & 1 & ⋯ & 0 & 4 & 20 & 20 & 1 & 0 &  8 & 4 & 7 & 1\\\\\n",
       "\t 29 & 0 & 1 & 1 & 31 & 1 & 0 & 0 & 1 & 1 & ⋯ & 0 & 1 &  0 &  0 & 0 & 1 & 12 & 6 & 8 & 0\\\\\n",
       "\t ⋮ & ⋮ & ⋮ & ⋮ & ⋮ & ⋮ & ⋮ & ⋮ & ⋮ & ⋮ & ⋱ & ⋮ & ⋮ & ⋮ & ⋮ & ⋮ & ⋮ & ⋮ & ⋮ & ⋮ & ⋮\\\\\n",
       "\t 253650 & 1 & 0 & 1 & 27 & 0 & 0 & 0 & 1 & 0 & ⋯ & 0 & 4 &  0 &  0 & 0 & 0 &  5 & 4 & 2 & 0\\\\\n",
       "\t 253651 & 0 & 0 & 1 & 24 & 0 & 0 & 0 & 1 & 1 & ⋯ & 1 & 1 &  0 &  0 & 0 & 1 &  2 & 6 & 3 & 0\\\\\n",
       "\t 253652 & 0 & 1 & 1 & 27 & 0 & 0 & 0 & 1 & 1 & ⋯ & 0 & 4 &  0 & 30 & 0 & 1 & 11 & 2 & 3 & 1\\\\\n",
       "\t 253653 & 0 & 0 & 1 & 33 & 1 & 0 & 0 & 0 & 1 & ⋯ & 0 & 4 &  0 & 15 & 0 & 1 & 10 & 6 & 3 & 0\\\\\n",
       "\t 253654 & 0 & 0 & 1 & 26 & 1 & 0 & 0 & 1 & 1 & ⋯ & 0 & 2 &  1 &  0 & 0 & 1 &  3 & 3 & 1 & 0\\\\\n",
       "\t 253655 & 0 & 0 & 1 & 28 & 0 & 0 & 0 & 1 & 1 & ⋯ & 0 & 2 &  0 &  0 & 0 & 0 &  2 & 6 & 4 & 0\\\\\n",
       "\t 253656 & 0 & 0 & 1 & 25 & 0 & 0 & 0 & 1 & 1 & ⋯ & 0 & 1 &  0 &  0 & 0 & 0 &  4 & 6 & 8 & 0\\\\\n",
       "\t 253657 & 0 & 1 & 1 & 24 & 0 & 0 & 0 & 0 & 0 & ⋯ & 0 & 3 &  0 &  0 & 0 & 0 &  7 & 5 & 3 & 0\\\\\n",
       "\t 253658 & 0 & 0 & 0 & 27 & 0 & 0 & 0 & 1 & 0 & ⋯ & 1 & 2 &  0 &  0 & 0 & 0 &  3 & 6 & 5 & 0\\\\\n",
       "\t 253659 & 0 & 1 & 1 & 37 & 0 & 0 & 0 & 0 & 0 & ⋯ & 0 & 4 &  0 &  0 & 0 & 0 &  6 & 4 & 1 & 1\\\\\n",
       "\t 253660 & 0 & 1 & 1 & 34 & 1 & 0 & 0 & 0 & 1 & ⋯ & 0 & 3 &  0 &  2 & 1 & 0 &  7 & 4 & 3 & 0\\\\\n",
       "\t 253661 & 1 & 0 & 1 & 33 & 0 & 0 & 0 & 1 & 0 & ⋯ & 1 & 3 &  0 &  2 & 1 & 0 &  6 & 6 & 6 & 0\\\\\n",
       "\t 253662 & 0 & 0 & 1 & 16 & 0 & 0 & 0 & 1 & 0 & ⋯ & 0 & 1 &  0 &  0 & 0 & 0 &  5 & 6 & 2 & 0\\\\\n",
       "\t 253663 & 0 & 0 & 1 & 23 & 0 & 0 & 0 & 0 & 1 & ⋯ & 1 & 2 &  0 & 30 & 0 & 0 &  5 & 6 & 2 & 0\\\\\n",
       "\t 253664 & 0 & 1 & 1 & 29 & 1 & 0 & 0 & 0 & 0 & ⋯ & 0 & 3 &  0 &  0 & 0 & 0 &  6 & 6 & 4 & 0\\\\\n",
       "\t 253665 & 0 & 1 & 1 & 17 & 0 & 0 & 0 & 0 & 0 & ⋯ & 1 & 4 & 30 & 30 & 0 & 0 &  5 & 4 & 1 & 0\\\\\n",
       "\t 253666 & 1 & 0 & 1 & 23 & 0 & 0 & 0 & 0 & 1 & ⋯ & 0 & 3 &  0 & 15 & 0 & 0 &  6 & 5 & 2 & 0\\\\\n",
       "\t 253667 & 1 & 1 & 1 & 28 & 1 & 0 & 0 & 0 & 0 & ⋯ & 0 & 3 &  0 &  0 & 0 & 0 & 11 & 4 & 7 & 0\\\\\n",
       "\t 253668 & 0 & 1 & 1 & 29 & 1 & 0 & 1 & 0 & 1 & ⋯ & 0 & 2 &  0 &  0 & 1 & 1 & 10 & 3 & 6 & 1\\\\\n",
       "\t 253669 & 0 & 1 & 1 & 27 & 0 & 0 & 0 & 0 & 0 & ⋯ & 1 & 1 &  0 &  3 & 0 & 1 &  6 & 2 & 4 & 0\\\\\n",
       "\t 253670 & 1 & 1 & 1 & 25 & 0 & 0 & 1 & 0 & 1 & ⋯ & 0 & 5 & 15 &  0 & 1 & 0 & 13 & 6 & 4 & 1\\\\\n",
       "\t 253671 & 1 & 1 & 1 & 23 & 0 & 1 & 1 & 0 & 0 & ⋯ & 1 & 4 &  0 &  5 & 0 & 1 &  8 & 3 & 2 & 0\\\\\n",
       "\t 253672 & 1 & 0 & 1 & 30 & 1 & 0 & 1 & 1 & 1 & ⋯ & 0 & 3 &  0 &  0 & 0 & 1 & 12 & 2 & 1 & 0\\\\\n",
       "\t 253673 & 1 & 0 & 1 & 42 & 0 & 0 & 0 & 1 & 1 & ⋯ & 0 & 3 & 14 &  4 & 0 & 1 &  3 & 6 & 8 & 0\\\\\n",
       "\t 253674 & 0 & 0 & 1 & 27 & 0 & 0 & 0 & 0 & 0 & ⋯ & 0 & 1 &  0 &  0 & 0 & 0 &  3 & 6 & 5 & 0\\\\\n",
       "\t 253675 & 1 & 1 & 1 & 45 & 0 & 0 & 0 & 0 & 1 & ⋯ & 0 & 3 &  0 &  5 & 0 & 1 &  5 & 6 & 7 & 0\\\\\n",
       "\t 253676 & 1 & 1 & 1 & 18 & 0 & 0 & 0 & 0 & 0 & ⋯ & 0 & 4 &  0 &  0 & 1 & 0 & 11 & 2 & 4 & 1\\\\\n",
       "\t 253677 & 0 & 0 & 1 & 28 & 0 & 0 & 0 & 1 & 1 & ⋯ & 0 & 1 &  0 &  0 & 0 & 0 &  2 & 5 & 2 & 0\\\\\n",
       "\t 253678 & 1 & 0 & 1 & 23 & 0 & 0 & 0 & 0 & 1 & ⋯ & 0 & 3 &  0 &  0 & 0 & 1 &  7 & 5 & 1 & 0\\\\\n",
       "\t 253679 & 1 & 1 & 1 & 25 & 0 & 0 & 1 & 1 & 1 & ⋯ & 0 & 2 &  0 &  0 & 0 & 0 &  9 & 6 & 2 & 1\\\\\n",
       "\\end{tabular}\n"
      ],
      "text/markdown": [
       "\n",
       "A data.frame: 253680 × 23\n",
       "\n",
       "| X &lt;int&gt; | HighBP &lt;int&gt; | HighChol &lt;int&gt; | CholCheck &lt;int&gt; | BMI &lt;int&gt; | Smoker &lt;int&gt; | Stroke &lt;int&gt; | HeartDiseaseorAttack &lt;int&gt; | PhysActivity &lt;int&gt; | Fruits &lt;int&gt; | ⋯ ⋯ | NoDocbcCost &lt;int&gt; | GenHlth &lt;int&gt; | MentHlth &lt;int&gt; | PhysHlth &lt;int&gt; | DiffWalk &lt;int&gt; | Sex &lt;int&gt; | Age &lt;int&gt; | Education &lt;int&gt; | Income &lt;int&gt; | Diabetes_binary &lt;int&gt; |\n",
       "|---|---|---|---|---|---|---|---|---|---|---|---|---|---|---|---|---|---|---|---|---|\n",
       "|  0 | 1 | 1 | 1 | 40 | 1 | 0 | 0 | 0 | 0 | ⋯ | 0 | 5 | 18 | 15 | 1 | 0 |  9 | 4 | 3 | 0 |\n",
       "|  1 | 0 | 0 | 0 | 25 | 1 | 0 | 0 | 1 | 0 | ⋯ | 1 | 3 |  0 |  0 | 0 | 0 |  7 | 6 | 1 | 0 |\n",
       "|  2 | 1 | 1 | 1 | 28 | 0 | 0 | 0 | 0 | 1 | ⋯ | 1 | 5 | 30 | 30 | 1 | 0 |  9 | 4 | 8 | 0 |\n",
       "|  3 | 1 | 0 | 1 | 27 | 0 | 0 | 0 | 1 | 1 | ⋯ | 0 | 2 |  0 |  0 | 0 | 0 | 11 | 3 | 6 | 0 |\n",
       "|  4 | 1 | 1 | 1 | 24 | 0 | 0 | 0 | 1 | 1 | ⋯ | 0 | 2 |  3 |  0 | 0 | 0 | 11 | 5 | 4 | 0 |\n",
       "|  5 | 1 | 1 | 1 | 25 | 1 | 0 | 0 | 1 | 1 | ⋯ | 0 | 2 |  0 |  2 | 0 | 1 | 10 | 6 | 8 | 0 |\n",
       "|  6 | 1 | 0 | 1 | 30 | 1 | 0 | 0 | 0 | 0 | ⋯ | 0 | 3 |  0 | 14 | 0 | 0 |  9 | 6 | 7 | 0 |\n",
       "|  7 | 1 | 1 | 1 | 25 | 1 | 0 | 0 | 1 | 0 | ⋯ | 0 | 3 |  0 |  0 | 1 | 0 | 11 | 4 | 4 | 0 |\n",
       "|  8 | 1 | 1 | 1 | 30 | 1 | 0 | 1 | 0 | 1 | ⋯ | 0 | 5 | 30 | 30 | 1 | 0 |  9 | 5 | 1 | 1 |\n",
       "|  9 | 0 | 0 | 1 | 24 | 0 | 0 | 0 | 0 | 0 | ⋯ | 0 | 2 |  0 |  0 | 0 | 1 |  8 | 4 | 3 | 0 |\n",
       "| 10 | 0 | 0 | 1 | 25 | 1 | 0 | 0 | 1 | 1 | ⋯ | 0 | 3 |  0 |  0 | 0 | 1 | 13 | 6 | 8 | 1 |\n",
       "| 11 | 1 | 1 | 1 | 34 | 1 | 0 | 0 | 0 | 1 | ⋯ | 0 | 3 |  0 | 30 | 1 | 0 | 10 | 5 | 1 | 0 |\n",
       "| 12 | 0 | 0 | 1 | 26 | 1 | 0 | 0 | 0 | 0 | ⋯ | 0 | 3 |  0 | 15 | 0 | 0 |  7 | 5 | 7 | 0 |\n",
       "| 13 | 1 | 1 | 1 | 28 | 0 | 0 | 0 | 0 | 0 | ⋯ | 0 | 4 |  0 |  0 | 1 | 0 | 11 | 4 | 6 | 1 |\n",
       "| 14 | 0 | 1 | 1 | 33 | 1 | 1 | 0 | 1 | 0 | ⋯ | 1 | 4 | 30 | 28 | 0 | 0 |  4 | 6 | 2 | 0 |\n",
       "| 15 | 1 | 0 | 1 | 33 | 0 | 0 | 0 | 1 | 0 | ⋯ | 0 | 2 |  5 |  0 | 0 | 0 |  6 | 6 | 8 | 0 |\n",
       "| 16 | 1 | 1 | 1 | 21 | 0 | 0 | 0 | 1 | 1 | ⋯ | 0 | 3 |  0 |  0 | 0 | 0 | 10 | 4 | 3 | 0 |\n",
       "| 17 | 0 | 0 | 1 | 23 | 1 | 0 | 0 | 1 | 0 | ⋯ | 0 | 2 |  0 |  0 | 0 | 1 |  7 | 5 | 6 | 1 |\n",
       "| 18 | 0 | 0 | 0 | 23 | 0 | 0 | 0 | 0 | 0 | ⋯ | 0 | 2 | 15 |  0 | 0 | 0 |  2 | 6 | 7 | 0 |\n",
       "| 19 | 0 | 1 | 1 | 28 | 0 | 0 | 0 | 0 | 0 | ⋯ | 0 | 2 | 10 |  0 | 0 | 1 |  4 | 6 | 8 | 0 |\n",
       "| 20 | 1 | 1 | 1 | 22 | 0 | 1 | 1 | 0 | 1 | ⋯ | 0 | 3 | 30 |  0 | 1 | 0 | 12 | 4 | 4 | 0 |\n",
       "| 21 | 1 | 1 | 1 | 38 | 1 | 0 | 0 | 0 | 1 | ⋯ | 0 | 5 | 15 | 30 | 1 | 0 | 13 | 2 | 3 | 0 |\n",
       "| 22 | 0 | 0 | 1 | 28 | 1 | 0 | 0 | 0 | 0 | ⋯ | 0 | 3 |  0 |  7 | 0 | 1 |  5 | 5 | 5 | 0 |\n",
       "| 23 | 1 | 0 | 1 | 27 | 0 | 0 | 0 | 1 | 1 | ⋯ | 0 | 1 |  0 |  0 | 0 | 0 | 13 | 5 | 4 | 1 |\n",
       "| 24 | 1 | 1 | 1 | 28 | 1 | 0 | 0 | 0 | 1 | ⋯ | 0 | 3 |  6 |  0 | 1 | 0 |  9 | 4 | 6 | 0 |\n",
       "| 25 | 0 | 0 | 1 | 32 | 0 | 0 | 0 | 1 | 1 | ⋯ | 0 | 2 |  0 |  0 | 0 | 0 |  5 | 6 | 8 | 0 |\n",
       "| 26 | 1 | 1 | 1 | 37 | 1 | 1 | 1 | 0 | 0 | ⋯ | 0 | 5 |  0 |  0 | 1 | 1 | 10 | 6 | 5 | 1 |\n",
       "| 27 | 1 | 1 | 1 | 28 | 1 | 0 | 1 | 0 | 0 | ⋯ | 0 | 4 |  0 |  0 | 0 | 1 | 12 | 2 | 4 | 1 |\n",
       "| 28 | 1 | 1 | 1 | 27 | 1 | 0 | 0 | 0 | 1 | ⋯ | 0 | 4 | 20 | 20 | 1 | 0 |  8 | 4 | 7 | 1 |\n",
       "| 29 | 0 | 1 | 1 | 31 | 1 | 0 | 0 | 1 | 1 | ⋯ | 0 | 1 |  0 |  0 | 0 | 1 | 12 | 6 | 8 | 0 |\n",
       "| ⋮ | ⋮ | ⋮ | ⋮ | ⋮ | ⋮ | ⋮ | ⋮ | ⋮ | ⋮ | ⋱ | ⋮ | ⋮ | ⋮ | ⋮ | ⋮ | ⋮ | ⋮ | ⋮ | ⋮ | ⋮ |\n",
       "| 253650 | 1 | 0 | 1 | 27 | 0 | 0 | 0 | 1 | 0 | ⋯ | 0 | 4 |  0 |  0 | 0 | 0 |  5 | 4 | 2 | 0 |\n",
       "| 253651 | 0 | 0 | 1 | 24 | 0 | 0 | 0 | 1 | 1 | ⋯ | 1 | 1 |  0 |  0 | 0 | 1 |  2 | 6 | 3 | 0 |\n",
       "| 253652 | 0 | 1 | 1 | 27 | 0 | 0 | 0 | 1 | 1 | ⋯ | 0 | 4 |  0 | 30 | 0 | 1 | 11 | 2 | 3 | 1 |\n",
       "| 253653 | 0 | 0 | 1 | 33 | 1 | 0 | 0 | 0 | 1 | ⋯ | 0 | 4 |  0 | 15 | 0 | 1 | 10 | 6 | 3 | 0 |\n",
       "| 253654 | 0 | 0 | 1 | 26 | 1 | 0 | 0 | 1 | 1 | ⋯ | 0 | 2 |  1 |  0 | 0 | 1 |  3 | 3 | 1 | 0 |\n",
       "| 253655 | 0 | 0 | 1 | 28 | 0 | 0 | 0 | 1 | 1 | ⋯ | 0 | 2 |  0 |  0 | 0 | 0 |  2 | 6 | 4 | 0 |\n",
       "| 253656 | 0 | 0 | 1 | 25 | 0 | 0 | 0 | 1 | 1 | ⋯ | 0 | 1 |  0 |  0 | 0 | 0 |  4 | 6 | 8 | 0 |\n",
       "| 253657 | 0 | 1 | 1 | 24 | 0 | 0 | 0 | 0 | 0 | ⋯ | 0 | 3 |  0 |  0 | 0 | 0 |  7 | 5 | 3 | 0 |\n",
       "| 253658 | 0 | 0 | 0 | 27 | 0 | 0 | 0 | 1 | 0 | ⋯ | 1 | 2 |  0 |  0 | 0 | 0 |  3 | 6 | 5 | 0 |\n",
       "| 253659 | 0 | 1 | 1 | 37 | 0 | 0 | 0 | 0 | 0 | ⋯ | 0 | 4 |  0 |  0 | 0 | 0 |  6 | 4 | 1 | 1 |\n",
       "| 253660 | 0 | 1 | 1 | 34 | 1 | 0 | 0 | 0 | 1 | ⋯ | 0 | 3 |  0 |  2 | 1 | 0 |  7 | 4 | 3 | 0 |\n",
       "| 253661 | 1 | 0 | 1 | 33 | 0 | 0 | 0 | 1 | 0 | ⋯ | 1 | 3 |  0 |  2 | 1 | 0 |  6 | 6 | 6 | 0 |\n",
       "| 253662 | 0 | 0 | 1 | 16 | 0 | 0 | 0 | 1 | 0 | ⋯ | 0 | 1 |  0 |  0 | 0 | 0 |  5 | 6 | 2 | 0 |\n",
       "| 253663 | 0 | 0 | 1 | 23 | 0 | 0 | 0 | 0 | 1 | ⋯ | 1 | 2 |  0 | 30 | 0 | 0 |  5 | 6 | 2 | 0 |\n",
       "| 253664 | 0 | 1 | 1 | 29 | 1 | 0 | 0 | 0 | 0 | ⋯ | 0 | 3 |  0 |  0 | 0 | 0 |  6 | 6 | 4 | 0 |\n",
       "| 253665 | 0 | 1 | 1 | 17 | 0 | 0 | 0 | 0 | 0 | ⋯ | 1 | 4 | 30 | 30 | 0 | 0 |  5 | 4 | 1 | 0 |\n",
       "| 253666 | 1 | 0 | 1 | 23 | 0 | 0 | 0 | 0 | 1 | ⋯ | 0 | 3 |  0 | 15 | 0 | 0 |  6 | 5 | 2 | 0 |\n",
       "| 253667 | 1 | 1 | 1 | 28 | 1 | 0 | 0 | 0 | 0 | ⋯ | 0 | 3 |  0 |  0 | 0 | 0 | 11 | 4 | 7 | 0 |\n",
       "| 253668 | 0 | 1 | 1 | 29 | 1 | 0 | 1 | 0 | 1 | ⋯ | 0 | 2 |  0 |  0 | 1 | 1 | 10 | 3 | 6 | 1 |\n",
       "| 253669 | 0 | 1 | 1 | 27 | 0 | 0 | 0 | 0 | 0 | ⋯ | 1 | 1 |  0 |  3 | 0 | 1 |  6 | 2 | 4 | 0 |\n",
       "| 253670 | 1 | 1 | 1 | 25 | 0 | 0 | 1 | 0 | 1 | ⋯ | 0 | 5 | 15 |  0 | 1 | 0 | 13 | 6 | 4 | 1 |\n",
       "| 253671 | 1 | 1 | 1 | 23 | 0 | 1 | 1 | 0 | 0 | ⋯ | 1 | 4 |  0 |  5 | 0 | 1 |  8 | 3 | 2 | 0 |\n",
       "| 253672 | 1 | 0 | 1 | 30 | 1 | 0 | 1 | 1 | 1 | ⋯ | 0 | 3 |  0 |  0 | 0 | 1 | 12 | 2 | 1 | 0 |\n",
       "| 253673 | 1 | 0 | 1 | 42 | 0 | 0 | 0 | 1 | 1 | ⋯ | 0 | 3 | 14 |  4 | 0 | 1 |  3 | 6 | 8 | 0 |\n",
       "| 253674 | 0 | 0 | 1 | 27 | 0 | 0 | 0 | 0 | 0 | ⋯ | 0 | 1 |  0 |  0 | 0 | 0 |  3 | 6 | 5 | 0 |\n",
       "| 253675 | 1 | 1 | 1 | 45 | 0 | 0 | 0 | 0 | 1 | ⋯ | 0 | 3 |  0 |  5 | 0 | 1 |  5 | 6 | 7 | 0 |\n",
       "| 253676 | 1 | 1 | 1 | 18 | 0 | 0 | 0 | 0 | 0 | ⋯ | 0 | 4 |  0 |  0 | 1 | 0 | 11 | 2 | 4 | 1 |\n",
       "| 253677 | 0 | 0 | 1 | 28 | 0 | 0 | 0 | 1 | 1 | ⋯ | 0 | 1 |  0 |  0 | 0 | 0 |  2 | 5 | 2 | 0 |\n",
       "| 253678 | 1 | 0 | 1 | 23 | 0 | 0 | 0 | 0 | 1 | ⋯ | 0 | 3 |  0 |  0 | 0 | 1 |  7 | 5 | 1 | 0 |\n",
       "| 253679 | 1 | 1 | 1 | 25 | 0 | 0 | 1 | 1 | 1 | ⋯ | 0 | 2 |  0 |  0 | 0 | 0 |  9 | 6 | 2 | 1 |\n",
       "\n"
      ],
      "text/plain": [
       "       X      HighBP HighChol CholCheck BMI Smoker Stroke HeartDiseaseorAttack\n",
       "1       0     1      1        1         40  1      0      0                   \n",
       "2       1     0      0        0         25  1      0      0                   \n",
       "3       2     1      1        1         28  0      0      0                   \n",
       "4       3     1      0        1         27  0      0      0                   \n",
       "5       4     1      1        1         24  0      0      0                   \n",
       "6       5     1      1        1         25  1      0      0                   \n",
       "7       6     1      0        1         30  1      0      0                   \n",
       "8       7     1      1        1         25  1      0      0                   \n",
       "9       8     1      1        1         30  1      0      1                   \n",
       "10      9     0      0        1         24  0      0      0                   \n",
       "11     10     0      0        1         25  1      0      0                   \n",
       "12     11     1      1        1         34  1      0      0                   \n",
       "13     12     0      0        1         26  1      0      0                   \n",
       "14     13     1      1        1         28  0      0      0                   \n",
       "15     14     0      1        1         33  1      1      0                   \n",
       "16     15     1      0        1         33  0      0      0                   \n",
       "17     16     1      1        1         21  0      0      0                   \n",
       "18     17     0      0        1         23  1      0      0                   \n",
       "19     18     0      0        0         23  0      0      0                   \n",
       "20     19     0      1        1         28  0      0      0                   \n",
       "21     20     1      1        1         22  0      1      1                   \n",
       "22     21     1      1        1         38  1      0      0                   \n",
       "23     22     0      0        1         28  1      0      0                   \n",
       "24     23     1      0        1         27  0      0      0                   \n",
       "25     24     1      1        1         28  1      0      0                   \n",
       "26     25     0      0        1         32  0      0      0                   \n",
       "27     26     1      1        1         37  1      1      1                   \n",
       "28     27     1      1        1         28  1      0      1                   \n",
       "29     28     1      1        1         27  1      0      0                   \n",
       "30     29     0      1        1         31  1      0      0                   \n",
       "<U+22EE>      <U+22EE> <U+22EE> <U+22EE> <U+22EE>  <U+22EE> <U+22EE> <U+22EE> <U+22EE>            \n",
       "253651 253650 1      0        1         27  0      0      0                   \n",
       "253652 253651 0      0        1         24  0      0      0                   \n",
       "253653 253652 0      1        1         27  0      0      0                   \n",
       "253654 253653 0      0        1         33  1      0      0                   \n",
       "253655 253654 0      0        1         26  1      0      0                   \n",
       "253656 253655 0      0        1         28  0      0      0                   \n",
       "253657 253656 0      0        1         25  0      0      0                   \n",
       "253658 253657 0      1        1         24  0      0      0                   \n",
       "253659 253658 0      0        0         27  0      0      0                   \n",
       "253660 253659 0      1        1         37  0      0      0                   \n",
       "253661 253660 0      1        1         34  1      0      0                   \n",
       "253662 253661 1      0        1         33  0      0      0                   \n",
       "253663 253662 0      0        1         16  0      0      0                   \n",
       "253664 253663 0      0        1         23  0      0      0                   \n",
       "253665 253664 0      1        1         29  1      0      0                   \n",
       "253666 253665 0      1        1         17  0      0      0                   \n",
       "253667 253666 1      0        1         23  0      0      0                   \n",
       "253668 253667 1      1        1         28  1      0      0                   \n",
       "253669 253668 0      1        1         29  1      0      1                   \n",
       "253670 253669 0      1        1         27  0      0      0                   \n",
       "253671 253670 1      1        1         25  0      0      1                   \n",
       "253672 253671 1      1        1         23  0      1      1                   \n",
       "253673 253672 1      0        1         30  1      0      1                   \n",
       "253674 253673 1      0        1         42  0      0      0                   \n",
       "253675 253674 0      0        1         27  0      0      0                   \n",
       "253676 253675 1      1        1         45  0      0      0                   \n",
       "253677 253676 1      1        1         18  0      0      0                   \n",
       "253678 253677 0      0        1         28  0      0      0                   \n",
       "253679 253678 1      0        1         23  0      0      0                   \n",
       "253680 253679 1      1        1         25  0      0      1                   \n",
       "       PhysActivity Fruits <U+22EF>        NoDocbcCost GenHlth MentHlth PhysHlth\n",
       "1      0            0      <U+22EF> 0           5       18       15      \n",
       "2      1            0      <U+22EF> 1           3        0        0      \n",
       "3      0            1      <U+22EF> 1           5       30       30      \n",
       "4      1            1      <U+22EF> 0           2        0        0      \n",
       "5      1            1      <U+22EF> 0           2        3        0      \n",
       "6      1            1      <U+22EF> 0           2        0        2      \n",
       "7      0            0      <U+22EF> 0           3        0       14      \n",
       "8      1            0      <U+22EF> 0           3        0        0      \n",
       "9      0            1      <U+22EF> 0           5       30       30      \n",
       "10     0            0      <U+22EF> 0           2        0        0      \n",
       "11     1            1      <U+22EF> 0           3        0        0      \n",
       "12     0            1      <U+22EF> 0           3        0       30      \n",
       "13     0            0      <U+22EF> 0           3        0       15      \n",
       "14     0            0      <U+22EF> 0           4        0        0      \n",
       "15     1            0      <U+22EF> 1           4       30       28      \n",
       "16     1            0      <U+22EF> 0           2        5        0      \n",
       "17     1            1      <U+22EF> 0           3        0        0      \n",
       "18     1            0      <U+22EF> 0           2        0        0      \n",
       "19     0            0      <U+22EF> 0           2       15        0      \n",
       "20     0            0      <U+22EF> 0           2       10        0      \n",
       "21     0            1      <U+22EF> 0           3       30        0      \n",
       "22     0            1      <U+22EF> 0           5       15       30      \n",
       "23     0            0      <U+22EF> 0           3        0        7      \n",
       "24     1            1      <U+22EF> 0           1        0        0      \n",
       "25     0            1      <U+22EF> 0           3        6        0      \n",
       "26     1            1      <U+22EF> 0           2        0        0      \n",
       "27     0            0      <U+22EF> 0           5        0        0      \n",
       "28     0            0      <U+22EF> 0           4        0        0      \n",
       "29     0            1      <U+22EF> 0           4       20       20      \n",
       "30     1            1      <U+22EF> 0           1        0        0      \n",
       "<U+22EE>      <U+22EE>     <U+22EE> <U+22F1> <U+22EE>    <U+22EE> <U+22EE> <U+22EE>\n",
       "253651 1            0      <U+22EF> 0           4        0        0      \n",
       "253652 1            1      <U+22EF> 1           1        0        0      \n",
       "253653 1            1      <U+22EF> 0           4        0       30      \n",
       "253654 0            1      <U+22EF> 0           4        0       15      \n",
       "253655 1            1      <U+22EF> 0           2        1        0      \n",
       "253656 1            1      <U+22EF> 0           2        0        0      \n",
       "253657 1            1      <U+22EF> 0           1        0        0      \n",
       "253658 0            0      <U+22EF> 0           3        0        0      \n",
       "253659 1            0      <U+22EF> 1           2        0        0      \n",
       "253660 0            0      <U+22EF> 0           4        0        0      \n",
       "253661 0            1      <U+22EF> 0           3        0        2      \n",
       "253662 1            0      <U+22EF> 1           3        0        2      \n",
       "253663 1            0      <U+22EF> 0           1        0        0      \n",
       "253664 0            1      <U+22EF> 1           2        0       30      \n",
       "253665 0            0      <U+22EF> 0           3        0        0      \n",
       "253666 0            0      <U+22EF> 1           4       30       30      \n",
       "253667 0            1      <U+22EF> 0           3        0       15      \n",
       "253668 0            0      <U+22EF> 0           3        0        0      \n",
       "253669 0            1      <U+22EF> 0           2        0        0      \n",
       "253670 0            0      <U+22EF> 1           1        0        3      \n",
       "253671 0            1      <U+22EF> 0           5       15        0      \n",
       "253672 0            0      <U+22EF> 1           4        0        5      \n",
       "253673 1            1      <U+22EF> 0           3        0        0      \n",
       "253674 1            1      <U+22EF> 0           3       14        4      \n",
       "253675 0            0      <U+22EF> 0           1        0        0      \n",
       "253676 0            1      <U+22EF> 0           3        0        5      \n",
       "253677 0            0      <U+22EF> 0           4        0        0      \n",
       "253678 1            1      <U+22EF> 0           1        0        0      \n",
       "253679 0            1      <U+22EF> 0           3        0        0      \n",
       "253680 1            1      <U+22EF> 0           2        0        0      \n",
       "       DiffWalk Sex Age Education Income Diabetes_binary\n",
       "1      1        0    9  4         3      0              \n",
       "2      0        0    7  6         1      0              \n",
       "3      1        0    9  4         8      0              \n",
       "4      0        0   11  3         6      0              \n",
       "5      0        0   11  5         4      0              \n",
       "6      0        1   10  6         8      0              \n",
       "7      0        0    9  6         7      0              \n",
       "8      1        0   11  4         4      0              \n",
       "9      1        0    9  5         1      1              \n",
       "10     0        1    8  4         3      0              \n",
       "11     0        1   13  6         8      1              \n",
       "12     1        0   10  5         1      0              \n",
       "13     0        0    7  5         7      0              \n",
       "14     1        0   11  4         6      1              \n",
       "15     0        0    4  6         2      0              \n",
       "16     0        0    6  6         8      0              \n",
       "17     0        0   10  4         3      0              \n",
       "18     0        1    7  5         6      1              \n",
       "19     0        0    2  6         7      0              \n",
       "20     0        1    4  6         8      0              \n",
       "21     1        0   12  4         4      0              \n",
       "22     1        0   13  2         3      0              \n",
       "23     0        1    5  5         5      0              \n",
       "24     0        0   13  5         4      1              \n",
       "25     1        0    9  4         6      0              \n",
       "26     0        0    5  6         8      0              \n",
       "27     1        1   10  6         5      1              \n",
       "28     0        1   12  2         4      1              \n",
       "29     1        0    8  4         7      1              \n",
       "30     0        1   12  6         8      0              \n",
       "<U+22EE>      <U+22EE> <U+22EE> <U+22EE> <U+22EE>  <U+22EE> <U+22EE>       \n",
       "253651 0        0    5  4         2      0              \n",
       "253652 0        1    2  6         3      0              \n",
       "253653 0        1   11  2         3      1              \n",
       "253654 0        1   10  6         3      0              \n",
       "253655 0        1    3  3         1      0              \n",
       "253656 0        0    2  6         4      0              \n",
       "253657 0        0    4  6         8      0              \n",
       "253658 0        0    7  5         3      0              \n",
       "253659 0        0    3  6         5      0              \n",
       "253660 0        0    6  4         1      1              \n",
       "253661 1        0    7  4         3      0              \n",
       "253662 1        0    6  6         6      0              \n",
       "253663 0        0    5  6         2      0              \n",
       "253664 0        0    5  6         2      0              \n",
       "253665 0        0    6  6         4      0              \n",
       "253666 0        0    5  4         1      0              \n",
       "253667 0        0    6  5         2      0              \n",
       "253668 0        0   11  4         7      0              \n",
       "253669 1        1   10  3         6      1              \n",
       "253670 0        1    6  2         4      0              \n",
       "253671 1        0   13  6         4      1              \n",
       "253672 0        1    8  3         2      0              \n",
       "253673 0        1   12  2         1      0              \n",
       "253674 0        1    3  6         8      0              \n",
       "253675 0        0    3  6         5      0              \n",
       "253676 0        1    5  6         7      0              \n",
       "253677 1        0   11  2         4      1              \n",
       "253678 0        0    2  5         2      0              \n",
       "253679 0        1    7  5         1      0              \n",
       "253680 0        0    9  6         2      1              "
      ]
     },
     "metadata": {},
     "output_type": "display_data"
    }
   ],
   "source": [
    "df"
   ]
  },
  {
   "cell_type": "code",
   "execution_count": 322,
   "id": "e9620d44-a832-40ea-ad74-52bf871ea734",
   "metadata": {},
   "outputs": [
    {
     "name": "stdout",
     "output_type": "stream",
     "text": [
      "'data.frame':\t253680 obs. of  23 variables:\n",
      " $ X                   : int  0 1 2 3 4 5 6 7 8 9 ...\n",
      " $ HighBP              : int  1 0 1 1 1 1 1 1 1 0 ...\n",
      " $ HighChol            : int  1 0 1 0 1 1 0 1 1 0 ...\n",
      " $ CholCheck           : int  1 0 1 1 1 1 1 1 1 1 ...\n",
      " $ BMI                 : int  40 25 28 27 24 25 30 25 30 24 ...\n",
      " $ Smoker              : int  1 1 0 0 0 1 1 1 1 0 ...\n",
      " $ Stroke              : int  0 0 0 0 0 0 0 0 0 0 ...\n",
      " $ HeartDiseaseorAttack: int  0 0 0 0 0 0 0 0 1 0 ...\n",
      " $ PhysActivity        : int  0 1 0 1 1 1 0 1 0 0 ...\n",
      " $ Fruits              : int  0 0 1 1 1 1 0 0 1 0 ...\n",
      " $ Veggies             : int  1 0 0 1 1 1 0 1 1 1 ...\n",
      " $ HvyAlcoholConsump   : int  0 0 0 0 0 0 0 0 0 0 ...\n",
      " $ AnyHealthcare       : int  1 0 1 1 1 1 1 1 1 1 ...\n",
      " $ NoDocbcCost         : int  0 1 1 0 0 0 0 0 0 0 ...\n",
      " $ GenHlth             : int  5 3 5 2 2 2 3 3 5 2 ...\n",
      " $ MentHlth            : int  18 0 30 0 3 0 0 0 30 0 ...\n",
      " $ PhysHlth            : int  15 0 30 0 0 2 14 0 30 0 ...\n",
      " $ DiffWalk            : int  1 0 1 0 0 0 0 1 1 0 ...\n",
      " $ Sex                 : int  0 0 0 0 0 1 0 0 0 1 ...\n",
      " $ Age                 : int  9 7 9 11 11 10 9 11 9 8 ...\n",
      " $ Education           : int  4 6 4 3 5 6 6 4 5 4 ...\n",
      " $ Income              : int  3 1 8 6 4 8 7 4 1 3 ...\n",
      " $ Diabetes_binary     : int  0 0 0 0 0 0 0 0 1 0 ...\n"
     ]
    }
   ],
   "source": [
    "str(df)"
   ]
  },
  {
   "cell_type": "markdown",
   "id": "6a37d8fa-dda1-4e12-8164-798bcbf0809e",
   "metadata": {},
   "source": [
    "## 2. Data Preprocessing"
   ]
  },
  {
   "cell_type": "markdown",
   "id": "3e9eb452-2ca5-457f-9e44-7b6651a69e89",
   "metadata": {},
   "source": [
    "### 2.1. Standardize column names"
   ]
  },
  {
   "cell_type": "code",
   "execution_count": 323,
   "id": "b4719da7-365e-42e4-bfaa-f51bd5c9d877",
   "metadata": {},
   "outputs": [
    {
     "data": {
      "text/html": [
       "<style>\n",
       ".list-inline {list-style: none; margin:0; padding: 0}\n",
       ".list-inline>li {display: inline-block}\n",
       ".list-inline>li:not(:last-child)::after {content: \"\\00b7\"; padding: 0 .5ex}\n",
       "</style>\n",
       "<ol class=list-inline><li>'X'</li><li>'HighBP'</li><li>'HighChol'</li><li>'CholCheck'</li><li>'BMI'</li><li>'Smoker'</li><li>'Stroke'</li><li>'HeartDiseaseorAttack'</li><li>'PhysActivity'</li><li>'Fruits'</li><li>'Veggies'</li><li>'HvyAlcoholConsump'</li><li>'AnyHealthcare'</li><li>'NoDocbcCost'</li><li>'GenHlth'</li><li>'MentHlth'</li><li>'PhysHlth'</li><li>'DiffWalk'</li><li>'Sex'</li><li>'Age'</li><li>'Education'</li><li>'Income'</li><li>'Diabetes_binary'</li></ol>\n"
      ],
      "text/latex": [
       "\\begin{enumerate*}\n",
       "\\item 'X'\n",
       "\\item 'HighBP'\n",
       "\\item 'HighChol'\n",
       "\\item 'CholCheck'\n",
       "\\item 'BMI'\n",
       "\\item 'Smoker'\n",
       "\\item 'Stroke'\n",
       "\\item 'HeartDiseaseorAttack'\n",
       "\\item 'PhysActivity'\n",
       "\\item 'Fruits'\n",
       "\\item 'Veggies'\n",
       "\\item 'HvyAlcoholConsump'\n",
       "\\item 'AnyHealthcare'\n",
       "\\item 'NoDocbcCost'\n",
       "\\item 'GenHlth'\n",
       "\\item 'MentHlth'\n",
       "\\item 'PhysHlth'\n",
       "\\item 'DiffWalk'\n",
       "\\item 'Sex'\n",
       "\\item 'Age'\n",
       "\\item 'Education'\n",
       "\\item 'Income'\n",
       "\\item 'Diabetes\\_binary'\n",
       "\\end{enumerate*}\n"
      ],
      "text/markdown": [
       "1. 'X'\n",
       "2. 'HighBP'\n",
       "3. 'HighChol'\n",
       "4. 'CholCheck'\n",
       "5. 'BMI'\n",
       "6. 'Smoker'\n",
       "7. 'Stroke'\n",
       "8. 'HeartDiseaseorAttack'\n",
       "9. 'PhysActivity'\n",
       "10. 'Fruits'\n",
       "11. 'Veggies'\n",
       "12. 'HvyAlcoholConsump'\n",
       "13. 'AnyHealthcare'\n",
       "14. 'NoDocbcCost'\n",
       "15. 'GenHlth'\n",
       "16. 'MentHlth'\n",
       "17. 'PhysHlth'\n",
       "18. 'DiffWalk'\n",
       "19. 'Sex'\n",
       "20. 'Age'\n",
       "21. 'Education'\n",
       "22. 'Income'\n",
       "23. 'Diabetes_binary'\n",
       "\n",
       "\n"
      ],
      "text/plain": [
       " [1] \"X\"                    \"HighBP\"               \"HighChol\"            \n",
       " [4] \"CholCheck\"            \"BMI\"                  \"Smoker\"              \n",
       " [7] \"Stroke\"               \"HeartDiseaseorAttack\" \"PhysActivity\"        \n",
       "[10] \"Fruits\"               \"Veggies\"              \"HvyAlcoholConsump\"   \n",
       "[13] \"AnyHealthcare\"        \"NoDocbcCost\"          \"GenHlth\"             \n",
       "[16] \"MentHlth\"             \"PhysHlth\"             \"DiffWalk\"            \n",
       "[19] \"Sex\"                  \"Age\"                  \"Education\"           \n",
       "[22] \"Income\"               \"Diabetes_binary\"     "
      ]
     },
     "metadata": {},
     "output_type": "display_data"
    }
   ],
   "source": [
    "colnames(df)"
   ]
  },
  {
   "cell_type": "code",
   "execution_count": 324,
   "id": "b12f9f7f-d48b-4339-94a9-d653ffc074a9",
   "metadata": {},
   "outputs": [],
   "source": [
    "# COMMENT: remove column \"X\"\n",
    "if (\"X\" %in% colnames(df))\n",
    "{\n",
    "    df = df[, !colnames(df) == \"X\"]\n",
    "}"
   ]
  },
  {
   "cell_type": "code",
   "execution_count": 325,
   "id": "35312eb4-acb0-43c3-aea3-ac85b7a8b818",
   "metadata": {},
   "outputs": [
    {
     "name": "stdout",
     "output_type": "stream",
     "text": [
      "'data.frame':\t253680 obs. of  22 variables:\n",
      " $ HighBP              : int  1 0 1 1 1 1 1 1 1 0 ...\n",
      " $ HighChol            : int  1 0 1 0 1 1 0 1 1 0 ...\n",
      " $ CholCheck           : int  1 0 1 1 1 1 1 1 1 1 ...\n",
      " $ BMI                 : int  40 25 28 27 24 25 30 25 30 24 ...\n",
      " $ Smoker              : int  1 1 0 0 0 1 1 1 1 0 ...\n",
      " $ Stroke              : int  0 0 0 0 0 0 0 0 0 0 ...\n",
      " $ HeartDiseaseorAttack: int  0 0 0 0 0 0 0 0 1 0 ...\n",
      " $ PhysActivity        : int  0 1 0 1 1 1 0 1 0 0 ...\n",
      " $ Fruits              : int  0 0 1 1 1 1 0 0 1 0 ...\n",
      " $ Veggies             : int  1 0 0 1 1 1 0 1 1 1 ...\n",
      " $ HvyAlcoholConsump   : int  0 0 0 0 0 0 0 0 0 0 ...\n",
      " $ AnyHealthcare       : int  1 0 1 1 1 1 1 1 1 1 ...\n",
      " $ NoDocbcCost         : int  0 1 1 0 0 0 0 0 0 0 ...\n",
      " $ GenHlth             : int  5 3 5 2 2 2 3 3 5 2 ...\n",
      " $ MentHlth            : int  18 0 30 0 3 0 0 0 30 0 ...\n",
      " $ PhysHlth            : int  15 0 30 0 0 2 14 0 30 0 ...\n",
      " $ DiffWalk            : int  1 0 1 0 0 0 0 1 1 0 ...\n",
      " $ Sex                 : int  0 0 0 0 0 1 0 0 0 1 ...\n",
      " $ Age                 : int  9 7 9 11 11 10 9 11 9 8 ...\n",
      " $ Education           : int  4 6 4 3 5 6 6 4 5 4 ...\n",
      " $ Income              : int  3 1 8 6 4 8 7 4 1 3 ...\n",
      " $ Diabetes_binary     : int  0 0 0 0 0 0 0 0 1 0 ...\n"
     ]
    }
   ],
   "source": [
    "str(df)"
   ]
  },
  {
   "cell_type": "markdown",
   "id": "29d1ddfb-ecf3-41ff-9cd7-e1aaa3ea6873",
   "metadata": {},
   "source": [
    "### 2.2. Mismatched data types"
   ]
  },
  {
   "cell_type": "code",
   "execution_count": 326,
   "id": "52a70792-43e3-4bf3-9987-f4460e2601ac",
   "metadata": {},
   "outputs": [
    {
     "name": "stdout",
     "output_type": "stream",
     "text": [
      "'data.frame':\t253680 obs. of  22 variables:\n",
      " $ HighBP              : int  1 0 1 1 1 1 1 1 1 0 ...\n",
      " $ HighChol            : int  1 0 1 0 1 1 0 1 1 0 ...\n",
      " $ CholCheck           : int  1 0 1 1 1 1 1 1 1 1 ...\n",
      " $ BMI                 : int  40 25 28 27 24 25 30 25 30 24 ...\n",
      " $ Smoker              : int  1 1 0 0 0 1 1 1 1 0 ...\n",
      " $ Stroke              : int  0 0 0 0 0 0 0 0 0 0 ...\n",
      " $ HeartDiseaseorAttack: int  0 0 0 0 0 0 0 0 1 0 ...\n",
      " $ PhysActivity        : int  0 1 0 1 1 1 0 1 0 0 ...\n",
      " $ Fruits              : int  0 0 1 1 1 1 0 0 1 0 ...\n",
      " $ Veggies             : int  1 0 0 1 1 1 0 1 1 1 ...\n",
      " $ HvyAlcoholConsump   : int  0 0 0 0 0 0 0 0 0 0 ...\n",
      " $ AnyHealthcare       : int  1 0 1 1 1 1 1 1 1 1 ...\n",
      " $ NoDocbcCost         : int  0 1 1 0 0 0 0 0 0 0 ...\n",
      " $ GenHlth             : int  5 3 5 2 2 2 3 3 5 2 ...\n",
      " $ MentHlth            : int  18 0 30 0 3 0 0 0 30 0 ...\n",
      " $ PhysHlth            : int  15 0 30 0 0 2 14 0 30 0 ...\n",
      " $ DiffWalk            : int  1 0 1 0 0 0 0 1 1 0 ...\n",
      " $ Sex                 : int  0 0 0 0 0 1 0 0 0 1 ...\n",
      " $ Age                 : int  9 7 9 11 11 10 9 11 9 8 ...\n",
      " $ Education           : int  4 6 4 3 5 6 6 4 5 4 ...\n",
      " $ Income              : int  3 1 8 6 4 8 7 4 1 3 ...\n",
      " $ Diabetes_binary     : int  0 0 0 0 0 0 0 0 1 0 ...\n"
     ]
    }
   ],
   "source": [
    "str(df)"
   ]
  },
  {
   "cell_type": "code",
   "execution_count": 327,
   "id": "b789f42e-d909-4ba9-943b-4be30018384e",
   "metadata": {},
   "outputs": [],
   "source": [
    "# COMMENT\n",
    "# All columns have correct data type"
   ]
  },
  {
   "cell_type": "markdown",
   "id": "bce5f736-1022-4709-b276-c91845b413a8",
   "metadata": {},
   "source": [
    "### 2.3. Mixed data values"
   ]
  },
  {
   "cell_type": "code",
   "execution_count": 328,
   "id": "fec32eab-4252-4199-ba54-a92194e8413f",
   "metadata": {},
   "outputs": [],
   "source": [
    "# COMMENT\n",
    "# Example: (female, woman, man, male) => (male, female)"
   ]
  },
  {
   "cell_type": "code",
   "execution_count": 329,
   "id": "1704f561-7315-42a1-97ee-5f888d44d29f",
   "metadata": {},
   "outputs": [],
   "source": [
    "# COMMENT\n",
    "# This dataset contains only number data => No mixed data values"
   ]
  },
  {
   "cell_type": "markdown",
   "id": "adaab349-e467-4880-91db-36fb48c1b04a",
   "metadata": {},
   "source": [
    "### 2.4. Missing data"
   ]
  },
  {
   "cell_type": "markdown",
   "id": "b3488a5a-29aa-409e-8963-bafe7dd0d9ac",
   "metadata": {},
   "source": [
    "#### 2.4.1 Null data"
   ]
  },
  {
   "cell_type": "code",
   "execution_count": 330,
   "id": "b8da67e8-3b6a-4d54-99be-cb8d4bef553a",
   "metadata": {},
   "outputs": [
    {
     "data": {
      "text/html": [
       "0"
      ],
      "text/latex": [
       "0"
      ],
      "text/markdown": [
       "0"
      ],
      "text/plain": [
       "[1] 0"
      ]
     },
     "metadata": {},
     "output_type": "display_data"
    }
   ],
   "source": [
    "sum(is.na(df))"
   ]
  },
  {
   "cell_type": "code",
   "execution_count": 331,
   "id": "b286bbbf-31d0-4d33-9b9a-46a1b0e19054",
   "metadata": {},
   "outputs": [],
   "source": [
    "# COMMENT\n",
    "# This dataset has no missing values"
   ]
  },
  {
   "cell_type": "markdown",
   "id": "12494376-38f9-4474-8a6b-9c2f95cd27d8",
   "metadata": {},
   "source": [
    "#### 2.4.2 Missing data in specific columns"
   ]
  },
  {
   "cell_type": "code",
   "execution_count": 332,
   "id": "4c293392-f5b0-42f9-9e89-dcdad903a850",
   "metadata": {},
   "outputs": [],
   "source": [
    "# COMMENT\n",
    "# We see that in column \"Age\", the value could have value of 14 \n",
    "# which is Don’t know / Refused / Missing (_AGEG5YR - BRFSS)"
   ]
  },
  {
   "cell_type": "code",
   "execution_count": 333,
   "id": "c8530450-5b2d-4db3-963b-d7079c3aa5c2",
   "metadata": {},
   "outputs": [
    {
     "data": {
      "text/html": [
       "0"
      ],
      "text/latex": [
       "0"
      ],
      "text/markdown": [
       "0"
      ],
      "text/plain": [
       "[1] 0"
      ]
     },
     "metadata": {},
     "output_type": "display_data"
    }
   ],
   "source": [
    "nrow(subset(df, Age == 14))"
   ]
  },
  {
   "cell_type": "code",
   "execution_count": 334,
   "id": "fcec4fc6-4968-443a-9445-0d16b5c00c3b",
   "metadata": {},
   "outputs": [],
   "source": [
    "# COMMENT\n",
    "# The dataset has no missing data."
   ]
  },
  {
   "cell_type": "markdown",
   "id": "9606d14d-becd-4fc7-a425-b3ead8940166",
   "metadata": {},
   "source": [
    "## 3. Exploratory data analysis (EDA)"
   ]
  },
  {
   "cell_type": "code",
   "execution_count": 335,
   "id": "03806332-c7cf-4c28-a038-ee703dfbda93",
   "metadata": {},
   "outputs": [],
   "source": [
    "plot_stack_bar_2x2 = function(table_2x2)\n",
    "{\n",
    "    barplot(table_2x2, beside = TRUE, col = c(\"green\", \"red\"))\n",
    "    legend(\"topright\", legend = rownames(table_2x2), fill = c(\"green\", \"red\"))\n",
    "}"
   ]
  },
  {
   "cell_type": "code",
   "execution_count": 336,
   "id": "26819b2c-4c69-4633-a51c-b5007592366f",
   "metadata": {},
   "outputs": [
    {
     "name": "stdout",
     "output_type": "stream",
     "text": [
      "'data.frame':\t253680 obs. of  22 variables:\n",
      " $ HighBP              : int  1 0 1 1 1 1 1 1 1 0 ...\n",
      " $ HighChol            : int  1 0 1 0 1 1 0 1 1 0 ...\n",
      " $ CholCheck           : int  1 0 1 1 1 1 1 1 1 1 ...\n",
      " $ BMI                 : int  40 25 28 27 24 25 30 25 30 24 ...\n",
      " $ Smoker              : int  1 1 0 0 0 1 1 1 1 0 ...\n",
      " $ Stroke              : int  0 0 0 0 0 0 0 0 0 0 ...\n",
      " $ HeartDiseaseorAttack: int  0 0 0 0 0 0 0 0 1 0 ...\n",
      " $ PhysActivity        : int  0 1 0 1 1 1 0 1 0 0 ...\n",
      " $ Fruits              : int  0 0 1 1 1 1 0 0 1 0 ...\n",
      " $ Veggies             : int  1 0 0 1 1 1 0 1 1 1 ...\n",
      " $ HvyAlcoholConsump   : int  0 0 0 0 0 0 0 0 0 0 ...\n",
      " $ AnyHealthcare       : int  1 0 1 1 1 1 1 1 1 1 ...\n",
      " $ NoDocbcCost         : int  0 1 1 0 0 0 0 0 0 0 ...\n",
      " $ GenHlth             : int  5 3 5 2 2 2 3 3 5 2 ...\n",
      " $ MentHlth            : int  18 0 30 0 3 0 0 0 30 0 ...\n",
      " $ PhysHlth            : int  15 0 30 0 0 2 14 0 30 0 ...\n",
      " $ DiffWalk            : int  1 0 1 0 0 0 0 1 1 0 ...\n",
      " $ Sex                 : int  0 0 0 0 0 1 0 0 0 1 ...\n",
      " $ Age                 : int  9 7 9 11 11 10 9 11 9 8 ...\n",
      " $ Education           : int  4 6 4 3 5 6 6 4 5 4 ...\n",
      " $ Income              : int  3 1 8 6 4 8 7 4 1 3 ...\n",
      " $ Diabetes_binary     : int  0 0 0 0 0 0 0 0 1 0 ...\n"
     ]
    }
   ],
   "source": [
    "str(df)"
   ]
  },
  {
   "cell_type": "markdown",
   "id": "c2bae823-a9ff-47bd-9cbd-827648c0ac2e",
   "metadata": {},
   "source": [
    "### 3.1. Response variable analysis"
   ]
  },
  {
   "cell_type": "code",
   "execution_count": 337,
   "id": "b3da72aa-81d0-4ba7-ad50-5d30bf9f4e6b",
   "metadata": {},
   "outputs": [],
   "source": [
    "plot_binary_distribution = function(dataframe, response_col, title)\n",
    "{\n",
    "    # Creating a table of counts for each category in the response column\n",
    "    response_table <- table(dataframe[, response_col])\n",
    "    \n",
    "    # Converting the table into a data frame\n",
    "    response_df <- as.data.frame(response_table)\n",
    "    \n",
    "    # Renaming the column\n",
    "    colnames(response_df) <- c(\"Response\", \"Count\")\n",
    "    \n",
    "    # Calculate percentages\n",
    "    response_df$Percent <- response_df$Count / sum(response_df$Count) * 100\n",
    "    \n",
    "    # Creating a pie chart using ggplot2\n",
    "    pie_chart <- ggplot(response_df, aes(x = \"\", y = Count, fill = Response)) +\n",
    "      geom_bar(stat = \"identity\", width = 1) +\n",
    "      coord_polar(\"y\", start = 0) +\n",
    "      scale_fill_manual(values = c(\"green\", \"red\")) + \n",
    "      labs(title = title) +\n",
    "      theme_void() +\n",
    "      theme(legend.position = \"bottom\", \n",
    "            plot.title = element_text(hjust = 0.5, size = 30),  # Adjust title size here\n",
    "            legend.text = element_text(size = 20)) +            # Adjust legend text size here\n",
    "      geom_text(aes(label = paste0(round(Percent, 1), \"%\")), \n",
    "                position = position_stack(vjust = 0.5),\n",
    "                size = 7) + # Adjust label size here\n",
    "      guides(fill = guide_legend(title = response_col, title.position = \"top\", title.theme = element_text(size = 15))) # Adjust legend title size here\n",
    "    \n",
    "    # Displaying the pie chart\n",
    "    print(pie_chart)\n",
    "}"
   ]
  },
  {
   "cell_type": "code",
   "execution_count": 338,
   "id": "8b99a955-da6e-40fd-a1b4-64917d28c208",
   "metadata": {},
   "outputs": [
    {
     "data": {
      "image/png": "[encoded data removed]",
      "text/plain": [
       "plot without title"
      ]
     },
     "metadata": {
      "image/png": {
       "height": 420,
       "width": 420
      }
     },
     "output_type": "display_data"
    }
   ],
   "source": [
    "plot_binary_distribution(df, \"Diabetes_binary\", \"Imbalanced dataset: Diabetes_binary\")"
   ]
  },
  {
   "cell_type": "code",
   "execution_count": 339,
   "id": "e3565b0f-c921-4d6d-9547-454cbcad9df6",
   "metadata": {},
   "outputs": [],
   "source": [
    "# COMMENT\n",
    "# The dataset is imbalanced\n",
    "# => Apply oversampling method"
   ]
  },
  {
   "cell_type": "markdown",
   "id": "39f720e5-1a17-4f18-bafb-73422f61709b",
   "metadata": {},
   "source": [
    "### 3.2. Dataset oversampling"
   ]
  },
  {
   "cell_type": "code",
   "execution_count": 340,
   "id": "a2ada184-fd75-4f1f-81d8-5086cbad7288",
   "metadata": {},
   "outputs": [
    {
     "data": {
      "text/plain": [
       "\n",
       "     0      1 \n",
       "218334  35346 "
      ]
     },
     "metadata": {},
     "output_type": "display_data"
    }
   ],
   "source": [
    "table(df$Diabetes_binary)"
   ]
  },
  {
   "cell_type": "code",
   "execution_count": 341,
   "id": "2cff7344-145c-4766-9547-773532642b35",
   "metadata": {},
   "outputs": [],
   "source": [
    "balanced_df <- ovun.sample(Diabetes_binary ~  ., data = df,\n",
    "                                  p = 0.5, seed = SEED, \n",
    "                                  method = \"over\")$data"
   ]
  },
  {
   "cell_type": "code",
   "execution_count": 342,
   "id": "2dbab752-ec2e-4939-89a4-b25579cb860e",
   "metadata": {},
   "outputs": [
    {
     "data": {
      "text/plain": [
       "\n",
       "     0      1 \n",
       "218334 218266 "
      ]
     },
     "metadata": {},
     "output_type": "display_data"
    }
   ],
   "source": [
    "table(balanced_df$Diabetes_binary)"
   ]
  },
  {
   "cell_type": "code",
   "execution_count": 343,
   "id": "8a8b27a1-3946-4657-ac38-c8658efd2c9e",
   "metadata": {},
   "outputs": [
    {
     "data": {
      "text/html": [
       "<table class=\"dataframe\">\n",
       "<caption>A data.frame: 436600 × 22</caption>\n",
       "<thead>\n",
       "\t<tr><th></th><th scope=col>HighBP</th><th scope=col>HighChol</th><th scope=col>CholCheck</th><th scope=col>BMI</th><th scope=col>Smoker</th><th scope=col>Stroke</th><th scope=col>HeartDiseaseorAttack</th><th scope=col>PhysActivity</th><th scope=col>Fruits</th><th scope=col>Veggies</th><th scope=col>⋯</th><th scope=col>NoDocbcCost</th><th scope=col>GenHlth</th><th scope=col>MentHlth</th><th scope=col>PhysHlth</th><th scope=col>DiffWalk</th><th scope=col>Sex</th><th scope=col>Age</th><th scope=col>Education</th><th scope=col>Income</th><th scope=col>Diabetes_binary</th></tr>\n",
       "\t<tr><th></th><th scope=col>&lt;int&gt;</th><th scope=col>&lt;int&gt;</th><th scope=col>&lt;int&gt;</th><th scope=col>&lt;int&gt;</th><th scope=col>&lt;int&gt;</th><th scope=col>&lt;int&gt;</th><th scope=col>&lt;int&gt;</th><th scope=col>&lt;int&gt;</th><th scope=col>&lt;int&gt;</th><th scope=col>&lt;int&gt;</th><th scope=col>⋯</th><th scope=col>&lt;int&gt;</th><th scope=col>&lt;int&gt;</th><th scope=col>&lt;int&gt;</th><th scope=col>&lt;int&gt;</th><th scope=col>&lt;int&gt;</th><th scope=col>&lt;int&gt;</th><th scope=col>&lt;int&gt;</th><th scope=col>&lt;int&gt;</th><th scope=col>&lt;int&gt;</th><th scope=col>&lt;int&gt;</th></tr>\n",
       "</thead>\n",
       "<tbody>\n",
       "\t<tr><th scope=row>1</th><td>1</td><td>1</td><td>1</td><td>40</td><td>1</td><td>0</td><td>0</td><td>0</td><td>0</td><td>1</td><td>⋯</td><td>0</td><td>5</td><td>18</td><td>15</td><td>1</td><td>0</td><td> 9</td><td>4</td><td>3</td><td>0</td></tr>\n",
       "\t<tr><th scope=row>2</th><td>0</td><td>0</td><td>0</td><td>25</td><td>1</td><td>0</td><td>0</td><td>1</td><td>0</td><td>0</td><td>⋯</td><td>1</td><td>3</td><td> 0</td><td> 0</td><td>0</td><td>0</td><td> 7</td><td>6</td><td>1</td><td>0</td></tr>\n",
       "\t<tr><th scope=row>3</th><td>1</td><td>1</td><td>1</td><td>28</td><td>0</td><td>0</td><td>0</td><td>0</td><td>1</td><td>0</td><td>⋯</td><td>1</td><td>5</td><td>30</td><td>30</td><td>1</td><td>0</td><td> 9</td><td>4</td><td>8</td><td>0</td></tr>\n",
       "\t<tr><th scope=row>4</th><td>1</td><td>0</td><td>1</td><td>27</td><td>0</td><td>0</td><td>0</td><td>1</td><td>1</td><td>1</td><td>⋯</td><td>0</td><td>2</td><td> 0</td><td> 0</td><td>0</td><td>0</td><td>11</td><td>3</td><td>6</td><td>0</td></tr>\n",
       "\t<tr><th scope=row>5</th><td>1</td><td>1</td><td>1</td><td>24</td><td>0</td><td>0</td><td>0</td><td>1</td><td>1</td><td>1</td><td>⋯</td><td>0</td><td>2</td><td> 3</td><td> 0</td><td>0</td><td>0</td><td>11</td><td>5</td><td>4</td><td>0</td></tr>\n",
       "\t<tr><th scope=row>6</th><td>1</td><td>1</td><td>1</td><td>25</td><td>1</td><td>0</td><td>0</td><td>1</td><td>1</td><td>1</td><td>⋯</td><td>0</td><td>2</td><td> 0</td><td> 2</td><td>0</td><td>1</td><td>10</td><td>6</td><td>8</td><td>0</td></tr>\n",
       "\t<tr><th scope=row>7</th><td>1</td><td>0</td><td>1</td><td>30</td><td>1</td><td>0</td><td>0</td><td>0</td><td>0</td><td>0</td><td>⋯</td><td>0</td><td>3</td><td> 0</td><td>14</td><td>0</td><td>0</td><td> 9</td><td>6</td><td>7</td><td>0</td></tr>\n",
       "\t<tr><th scope=row>8</th><td>1</td><td>1</td><td>1</td><td>25</td><td>1</td><td>0</td><td>0</td><td>1</td><td>0</td><td>1</td><td>⋯</td><td>0</td><td>3</td><td> 0</td><td> 0</td><td>1</td><td>0</td><td>11</td><td>4</td><td>4</td><td>0</td></tr>\n",
       "\t<tr><th scope=row>9</th><td>0</td><td>0</td><td>1</td><td>24</td><td>0</td><td>0</td><td>0</td><td>0</td><td>0</td><td>1</td><td>⋯</td><td>0</td><td>2</td><td> 0</td><td> 0</td><td>0</td><td>1</td><td> 8</td><td>4</td><td>3</td><td>0</td></tr>\n",
       "\t<tr><th scope=row>10</th><td>1</td><td>1</td><td>1</td><td>34</td><td>1</td><td>0</td><td>0</td><td>0</td><td>1</td><td>1</td><td>⋯</td><td>0</td><td>3</td><td> 0</td><td>30</td><td>1</td><td>0</td><td>10</td><td>5</td><td>1</td><td>0</td></tr>\n",
       "\t<tr><th scope=row>11</th><td>0</td><td>0</td><td>1</td><td>26</td><td>1</td><td>0</td><td>0</td><td>0</td><td>0</td><td>1</td><td>⋯</td><td>0</td><td>3</td><td> 0</td><td>15</td><td>0</td><td>0</td><td> 7</td><td>5</td><td>7</td><td>0</td></tr>\n",
       "\t<tr><th scope=row>12</th><td>0</td><td>1</td><td>1</td><td>33</td><td>1</td><td>1</td><td>0</td><td>1</td><td>0</td><td>1</td><td>⋯</td><td>1</td><td>4</td><td>30</td><td>28</td><td>0</td><td>0</td><td> 4</td><td>6</td><td>2</td><td>0</td></tr>\n",
       "\t<tr><th scope=row>13</th><td>1</td><td>0</td><td>1</td><td>33</td><td>0</td><td>0</td><td>0</td><td>1</td><td>0</td><td>0</td><td>⋯</td><td>0</td><td>2</td><td> 5</td><td> 0</td><td>0</td><td>0</td><td> 6</td><td>6</td><td>8</td><td>0</td></tr>\n",
       "\t<tr><th scope=row>14</th><td>1</td><td>1</td><td>1</td><td>21</td><td>0</td><td>0</td><td>0</td><td>1</td><td>1</td><td>1</td><td>⋯</td><td>0</td><td>3</td><td> 0</td><td> 0</td><td>0</td><td>0</td><td>10</td><td>4</td><td>3</td><td>0</td></tr>\n",
       "\t<tr><th scope=row>15</th><td>0</td><td>0</td><td>0</td><td>23</td><td>0</td><td>0</td><td>0</td><td>0</td><td>0</td><td>1</td><td>⋯</td><td>0</td><td>2</td><td>15</td><td> 0</td><td>0</td><td>0</td><td> 2</td><td>6</td><td>7</td><td>0</td></tr>\n",
       "\t<tr><th scope=row>16</th><td>0</td><td>1</td><td>1</td><td>28</td><td>0</td><td>0</td><td>0</td><td>0</td><td>0</td><td>0</td><td>⋯</td><td>0</td><td>2</td><td>10</td><td> 0</td><td>0</td><td>1</td><td> 4</td><td>6</td><td>8</td><td>0</td></tr>\n",
       "\t<tr><th scope=row>17</th><td>1</td><td>1</td><td>1</td><td>22</td><td>0</td><td>1</td><td>1</td><td>0</td><td>1</td><td>0</td><td>⋯</td><td>0</td><td>3</td><td>30</td><td> 0</td><td>1</td><td>0</td><td>12</td><td>4</td><td>4</td><td>0</td></tr>\n",
       "\t<tr><th scope=row>18</th><td>1</td><td>1</td><td>1</td><td>38</td><td>1</td><td>0</td><td>0</td><td>0</td><td>1</td><td>1</td><td>⋯</td><td>0</td><td>5</td><td>15</td><td>30</td><td>1</td><td>0</td><td>13</td><td>2</td><td>3</td><td>0</td></tr>\n",
       "\t<tr><th scope=row>19</th><td>0</td><td>0</td><td>1</td><td>28</td><td>1</td><td>0</td><td>0</td><td>0</td><td>0</td><td>1</td><td>⋯</td><td>0</td><td>3</td><td> 0</td><td> 7</td><td>0</td><td>1</td><td> 5</td><td>5</td><td>5</td><td>0</td></tr>\n",
       "\t<tr><th scope=row>20</th><td>1</td><td>1</td><td>1</td><td>28</td><td>1</td><td>0</td><td>0</td><td>0</td><td>1</td><td>1</td><td>⋯</td><td>0</td><td>3</td><td> 6</td><td> 0</td><td>1</td><td>0</td><td> 9</td><td>4</td><td>6</td><td>0</td></tr>\n",
       "\t<tr><th scope=row>21</th><td>0</td><td>0</td><td>1</td><td>32</td><td>0</td><td>0</td><td>0</td><td>1</td><td>1</td><td>1</td><td>⋯</td><td>0</td><td>2</td><td> 0</td><td> 0</td><td>0</td><td>0</td><td> 5</td><td>6</td><td>8</td><td>0</td></tr>\n",
       "\t<tr><th scope=row>22</th><td>0</td><td>1</td><td>1</td><td>31</td><td>1</td><td>0</td><td>0</td><td>1</td><td>1</td><td>1</td><td>⋯</td><td>0</td><td>1</td><td> 0</td><td> 0</td><td>0</td><td>1</td><td>12</td><td>6</td><td>8</td><td>0</td></tr>\n",
       "\t<tr><th scope=row>23</th><td>1</td><td>0</td><td>1</td><td>33</td><td>1</td><td>0</td><td>0</td><td>1</td><td>1</td><td>1</td><td>⋯</td><td>0</td><td>1</td><td> 0</td><td> 0</td><td>1</td><td>1</td><td>13</td><td>3</td><td>3</td><td>0</td></tr>\n",
       "\t<tr><th scope=row>24</th><td>0</td><td>0</td><td>1</td><td>23</td><td>0</td><td>0</td><td>0</td><td>1</td><td>1</td><td>1</td><td>⋯</td><td>0</td><td>1</td><td> 2</td><td> 0</td><td>0</td><td>0</td><td> 6</td><td>4</td><td>8</td><td>0</td></tr>\n",
       "\t<tr><th scope=row>25</th><td>1</td><td>0</td><td>1</td><td>31</td><td>0</td><td>0</td><td>0</td><td>1</td><td>0</td><td>0</td><td>⋯</td><td>0</td><td>3</td><td> 0</td><td> 0</td><td>0</td><td>1</td><td>11</td><td>6</td><td>2</td><td>0</td></tr>\n",
       "\t<tr><th scope=row>26</th><td>1</td><td>0</td><td>1</td><td>26</td><td>0</td><td>0</td><td>0</td><td>1</td><td>1</td><td>1</td><td>⋯</td><td>0</td><td>2</td><td> 0</td><td> 0</td><td>0</td><td>0</td><td> 9</td><td>4</td><td>4</td><td>0</td></tr>\n",
       "\t<tr><th scope=row>27</th><td>1</td><td>1</td><td>1</td><td>24</td><td>1</td><td>0</td><td>0</td><td>1</td><td>0</td><td>1</td><td>⋯</td><td>0</td><td>3</td><td> 5</td><td> 3</td><td>1</td><td>1</td><td> 8</td><td>4</td><td>3</td><td>0</td></tr>\n",
       "\t<tr><th scope=row>28</th><td>0</td><td>0</td><td>1</td><td>22</td><td>0</td><td>0</td><td>0</td><td>1</td><td>1</td><td>1</td><td>⋯</td><td>0</td><td>2</td><td> 0</td><td>10</td><td>0</td><td>0</td><td>12</td><td>5</td><td>7</td><td>0</td></tr>\n",
       "\t<tr><th scope=row>29</th><td>0</td><td>0</td><td>1</td><td>26</td><td>1</td><td>0</td><td>0</td><td>1</td><td>1</td><td>1</td><td>⋯</td><td>0</td><td>1</td><td> 0</td><td> 1</td><td>0</td><td>1</td><td> 4</td><td>5</td><td>3</td><td>0</td></tr>\n",
       "\t<tr><th scope=row>30</th><td>1</td><td>1</td><td>1</td><td>24</td><td>1</td><td>0</td><td>0</td><td>0</td><td>1</td><td>1</td><td>⋯</td><td>0</td><td>5</td><td> 0</td><td>30</td><td>0</td><td>1</td><td> 9</td><td>3</td><td>1</td><td>0</td></tr>\n",
       "\t<tr><th scope=row>⋮</th><td>⋮</td><td>⋮</td><td>⋮</td><td>⋮</td><td>⋮</td><td>⋮</td><td>⋮</td><td>⋮</td><td>⋮</td><td>⋮</td><td>⋱</td><td>⋮</td><td>⋮</td><td>⋮</td><td>⋮</td><td>⋮</td><td>⋮</td><td>⋮</td><td>⋮</td><td>⋮</td><td>⋮</td></tr>\n",
       "\t<tr><th scope=row>436571</th><td>1</td><td>1</td><td>1</td><td>29</td><td>0</td><td>0</td><td>0</td><td>1</td><td>0</td><td>0</td><td>⋯</td><td>0</td><td>3</td><td> 0</td><td> 1</td><td>0</td><td>1</td><td>11</td><td>5</td><td>5</td><td>1</td></tr>\n",
       "\t<tr><th scope=row>436572</th><td>1</td><td>0</td><td>1</td><td>25</td><td>1</td><td>0</td><td>0</td><td>0</td><td>0</td><td>1</td><td>⋯</td><td>0</td><td>4</td><td> 2</td><td> 5</td><td>0</td><td>0</td><td> 9</td><td>5</td><td>4</td><td>1</td></tr>\n",
       "\t<tr><th scope=row>436573</th><td>1</td><td>1</td><td>1</td><td>49</td><td>1</td><td>0</td><td>0</td><td>1</td><td>1</td><td>1</td><td>⋯</td><td>0</td><td>5</td><td>10</td><td> 6</td><td>0</td><td>0</td><td> 7</td><td>4</td><td>2</td><td>1</td></tr>\n",
       "\t<tr><th scope=row>436574</th><td>0</td><td>1</td><td>1</td><td>37</td><td>1</td><td>0</td><td>0</td><td>1</td><td>0</td><td>0</td><td>⋯</td><td>0</td><td>2</td><td> 0</td><td> 0</td><td>0</td><td>1</td><td> 8</td><td>4</td><td>8</td><td>1</td></tr>\n",
       "\t<tr><th scope=row>436575</th><td>0</td><td>1</td><td>1</td><td>34</td><td>1</td><td>0</td><td>1</td><td>0</td><td>1</td><td>1</td><td>⋯</td><td>0</td><td>4</td><td> 0</td><td> 0</td><td>0</td><td>0</td><td>12</td><td>4</td><td>5</td><td>1</td></tr>\n",
       "\t<tr><th scope=row>436576</th><td>0</td><td>1</td><td>1</td><td>34</td><td>0</td><td>0</td><td>0</td><td>0</td><td>1</td><td>0</td><td>⋯</td><td>0</td><td>4</td><td> 0</td><td> 3</td><td>1</td><td>0</td><td>10</td><td>6</td><td>4</td><td>1</td></tr>\n",
       "\t<tr><th scope=row>436577</th><td>1</td><td>1</td><td>1</td><td>33</td><td>0</td><td>0</td><td>0</td><td>1</td><td>1</td><td>1</td><td>⋯</td><td>1</td><td>3</td><td> 0</td><td> 0</td><td>0</td><td>0</td><td> 3</td><td>6</td><td>8</td><td>1</td></tr>\n",
       "\t<tr><th scope=row>436578</th><td>1</td><td>1</td><td>1</td><td>45</td><td>1</td><td>0</td><td>1</td><td>0</td><td>0</td><td>1</td><td>⋯</td><td>0</td><td>3</td><td> 5</td><td>15</td><td>1</td><td>0</td><td>10</td><td>4</td><td>3</td><td>1</td></tr>\n",
       "\t<tr><th scope=row>436579</th><td>1</td><td>1</td><td>1</td><td>30</td><td>0</td><td>0</td><td>0</td><td>0</td><td>1</td><td>1</td><td>⋯</td><td>1</td><td>5</td><td>25</td><td>30</td><td>1</td><td>1</td><td> 7</td><td>6</td><td>2</td><td>1</td></tr>\n",
       "\t<tr><th scope=row>436580</th><td>1</td><td>0</td><td>1</td><td>29</td><td>0</td><td>0</td><td>0</td><td>1</td><td>1</td><td>1</td><td>⋯</td><td>0</td><td>1</td><td> 0</td><td> 1</td><td>0</td><td>0</td><td>10</td><td>6</td><td>8</td><td>1</td></tr>\n",
       "\t<tr><th scope=row>436581</th><td>1</td><td>1</td><td>1</td><td>30</td><td>0</td><td>0</td><td>0</td><td>1</td><td>1</td><td>0</td><td>⋯</td><td>0</td><td>4</td><td>30</td><td> 3</td><td>0</td><td>0</td><td> 5</td><td>6</td><td>7</td><td>1</td></tr>\n",
       "\t<tr><th scope=row>436582</th><td>1</td><td>1</td><td>1</td><td>27</td><td>0</td><td>1</td><td>1</td><td>1</td><td>0</td><td>0</td><td>⋯</td><td>0</td><td>3</td><td> 0</td><td> 1</td><td>0</td><td>1</td><td>13</td><td>5</td><td>8</td><td>1</td></tr>\n",
       "\t<tr><th scope=row>436583</th><td>1</td><td>1</td><td>1</td><td>33</td><td>1</td><td>0</td><td>0</td><td>0</td><td>0</td><td>1</td><td>⋯</td><td>0</td><td>4</td><td> 0</td><td>28</td><td>1</td><td>1</td><td>13</td><td>3</td><td>7</td><td>1</td></tr>\n",
       "\t<tr><th scope=row>436584</th><td>1</td><td>0</td><td>1</td><td>28</td><td>0</td><td>0</td><td>0</td><td>1</td><td>1</td><td>1</td><td>⋯</td><td>0</td><td>2</td><td> 0</td><td> 0</td><td>0</td><td>0</td><td>10</td><td>3</td><td>2</td><td>1</td></tr>\n",
       "\t<tr><th scope=row>436585</th><td>1</td><td>1</td><td>1</td><td>27</td><td>0</td><td>0</td><td>0</td><td>0</td><td>1</td><td>1</td><td>⋯</td><td>0</td><td>5</td><td> 0</td><td>30</td><td>0</td><td>0</td><td>13</td><td>6</td><td>3</td><td>1</td></tr>\n",
       "\t<tr><th scope=row>436586</th><td>0</td><td>1</td><td>1</td><td>35</td><td>0</td><td>0</td><td>0</td><td>0</td><td>0</td><td>1</td><td>⋯</td><td>0</td><td>3</td><td> 0</td><td> 5</td><td>0</td><td>0</td><td> 2</td><td>6</td><td>7</td><td>1</td></tr>\n",
       "\t<tr><th scope=row>436587</th><td>1</td><td>1</td><td>1</td><td>26</td><td>0</td><td>0</td><td>1</td><td>1</td><td>0</td><td>1</td><td>⋯</td><td>0</td><td>5</td><td> 0</td><td> 0</td><td>1</td><td>0</td><td>11</td><td>4</td><td>4</td><td>1</td></tr>\n",
       "\t<tr><th scope=row>436588</th><td>0</td><td>0</td><td>1</td><td>27</td><td>1</td><td>0</td><td>0</td><td>1</td><td>1</td><td>1</td><td>⋯</td><td>0</td><td>4</td><td> 0</td><td> 0</td><td>0</td><td>1</td><td> 9</td><td>2</td><td>2</td><td>1</td></tr>\n",
       "\t<tr><th scope=row>436589</th><td>1</td><td>0</td><td>1</td><td>38</td><td>0</td><td>0</td><td>0</td><td>1</td><td>1</td><td>1</td><td>⋯</td><td>1</td><td>4</td><td> 0</td><td> 0</td><td>0</td><td>0</td><td> 6</td><td>6</td><td>3</td><td>1</td></tr>\n",
       "\t<tr><th scope=row>436590</th><td>1</td><td>1</td><td>1</td><td>36</td><td>0</td><td>0</td><td>0</td><td>0</td><td>1</td><td>1</td><td>⋯</td><td>0</td><td>2</td><td> 4</td><td>10</td><td>0</td><td>1</td><td> 8</td><td>6</td><td>7</td><td>1</td></tr>\n",
       "\t<tr><th scope=row>436591</th><td>1</td><td>0</td><td>1</td><td>26</td><td>1</td><td>0</td><td>0</td><td>0</td><td>0</td><td>0</td><td>⋯</td><td>1</td><td>5</td><td> 0</td><td>30</td><td>1</td><td>1</td><td> 6</td><td>4</td><td>1</td><td>1</td></tr>\n",
       "\t<tr><th scope=row>436592</th><td>1</td><td>1</td><td>1</td><td>28</td><td>0</td><td>0</td><td>0</td><td>1</td><td>0</td><td>0</td><td>⋯</td><td>0</td><td>2</td><td> 0</td><td> 2</td><td>0</td><td>1</td><td>11</td><td>4</td><td>4</td><td>1</td></tr>\n",
       "\t<tr><th scope=row>436593</th><td>1</td><td>1</td><td>1</td><td>30</td><td>1</td><td>0</td><td>0</td><td>1</td><td>1</td><td>1</td><td>⋯</td><td>0</td><td>2</td><td> 0</td><td> 0</td><td>1</td><td>1</td><td>13</td><td>6</td><td>7</td><td>1</td></tr>\n",
       "\t<tr><th scope=row>436594</th><td>0</td><td>1</td><td>1</td><td>26</td><td>0</td><td>0</td><td>0</td><td>1</td><td>1</td><td>1</td><td>⋯</td><td>1</td><td>3</td><td> 0</td><td> 0</td><td>0</td><td>0</td><td> 9</td><td>6</td><td>1</td><td>1</td></tr>\n",
       "\t<tr><th scope=row>436595</th><td>1</td><td>1</td><td>1</td><td>42</td><td>1</td><td>0</td><td>1</td><td>0</td><td>0</td><td>0</td><td>⋯</td><td>0</td><td>5</td><td>30</td><td>30</td><td>1</td><td>1</td><td>12</td><td>3</td><td>3</td><td>1</td></tr>\n",
       "\t<tr><th scope=row>436596</th><td>0</td><td>1</td><td>1</td><td>35</td><td>1</td><td>0</td><td>0</td><td>1</td><td>1</td><td>1</td><td>⋯</td><td>0</td><td>3</td><td> 0</td><td> 2</td><td>0</td><td>0</td><td> 8</td><td>5</td><td>8</td><td>1</td></tr>\n",
       "\t<tr><th scope=row>436597</th><td>0</td><td>0</td><td>1</td><td>20</td><td>0</td><td>0</td><td>0</td><td>1</td><td>1</td><td>1</td><td>⋯</td><td>0</td><td>1</td><td> 0</td><td> 0</td><td>0</td><td>1</td><td>10</td><td>4</td><td>7</td><td>1</td></tr>\n",
       "\t<tr><th scope=row>436598</th><td>1</td><td>1</td><td>1</td><td>42</td><td>0</td><td>0</td><td>0</td><td>1</td><td>1</td><td>1</td><td>⋯</td><td>0</td><td>3</td><td>30</td><td>20</td><td>0</td><td>0</td><td> 8</td><td>6</td><td>5</td><td>1</td></tr>\n",
       "\t<tr><th scope=row>436599</th><td>1</td><td>1</td><td>1</td><td>28</td><td>0</td><td>0</td><td>0</td><td>1</td><td>0</td><td>1</td><td>⋯</td><td>0</td><td>2</td><td> 0</td><td> 0</td><td>0</td><td>1</td><td>11</td><td>6</td><td>8</td><td>1</td></tr>\n",
       "\t<tr><th scope=row>436600</th><td>0</td><td>0</td><td>1</td><td>30</td><td>1</td><td>0</td><td>0</td><td>1</td><td>1</td><td>1</td><td>⋯</td><td>0</td><td>3</td><td> 0</td><td> 6</td><td>1</td><td>0</td><td> 6</td><td>5</td><td>3</td><td>1</td></tr>\n",
       "</tbody>\n",
       "</table>\n"
      ],
      "text/latex": [
       "A data.frame: 436600 × 22\n",
       "\\begin{tabular}{r|lllllllllllllllllllll}\n",
       "  & HighBP & HighChol & CholCheck & BMI & Smoker & Stroke & HeartDiseaseorAttack & PhysActivity & Fruits & Veggies & ⋯ & NoDocbcCost & GenHlth & MentHlth & PhysHlth & DiffWalk & Sex & Age & Education & Income & Diabetes\\_binary\\\\\n",
       "  & <int> & <int> & <int> & <int> & <int> & <int> & <int> & <int> & <int> & <int> & ⋯ & <int> & <int> & <int> & <int> & <int> & <int> & <int> & <int> & <int> & <int>\\\\\n",
       "\\hline\n",
       "\t1 & 1 & 1 & 1 & 40 & 1 & 0 & 0 & 0 & 0 & 1 & ⋯ & 0 & 5 & 18 & 15 & 1 & 0 &  9 & 4 & 3 & 0\\\\\n",
       "\t2 & 0 & 0 & 0 & 25 & 1 & 0 & 0 & 1 & 0 & 0 & ⋯ & 1 & 3 &  0 &  0 & 0 & 0 &  7 & 6 & 1 & 0\\\\\n",
       "\t3 & 1 & 1 & 1 & 28 & 0 & 0 & 0 & 0 & 1 & 0 & ⋯ & 1 & 5 & 30 & 30 & 1 & 0 &  9 & 4 & 8 & 0\\\\\n",
       "\t4 & 1 & 0 & 1 & 27 & 0 & 0 & 0 & 1 & 1 & 1 & ⋯ & 0 & 2 &  0 &  0 & 0 & 0 & 11 & 3 & 6 & 0\\\\\n",
       "\t5 & 1 & 1 & 1 & 24 & 0 & 0 & 0 & 1 & 1 & 1 & ⋯ & 0 & 2 &  3 &  0 & 0 & 0 & 11 & 5 & 4 & 0\\\\\n",
       "\t6 & 1 & 1 & 1 & 25 & 1 & 0 & 0 & 1 & 1 & 1 & ⋯ & 0 & 2 &  0 &  2 & 0 & 1 & 10 & 6 & 8 & 0\\\\\n",
       "\t7 & 1 & 0 & 1 & 30 & 1 & 0 & 0 & 0 & 0 & 0 & ⋯ & 0 & 3 &  0 & 14 & 0 & 0 &  9 & 6 & 7 & 0\\\\\n",
       "\t8 & 1 & 1 & 1 & 25 & 1 & 0 & 0 & 1 & 0 & 1 & ⋯ & 0 & 3 &  0 &  0 & 1 & 0 & 11 & 4 & 4 & 0\\\\\n",
       "\t9 & 0 & 0 & 1 & 24 & 0 & 0 & 0 & 0 & 0 & 1 & ⋯ & 0 & 2 &  0 &  0 & 0 & 1 &  8 & 4 & 3 & 0\\\\\n",
       "\t10 & 1 & 1 & 1 & 34 & 1 & 0 & 0 & 0 & 1 & 1 & ⋯ & 0 & 3 &  0 & 30 & 1 & 0 & 10 & 5 & 1 & 0\\\\\n",
       "\t11 & 0 & 0 & 1 & 26 & 1 & 0 & 0 & 0 & 0 & 1 & ⋯ & 0 & 3 &  0 & 15 & 0 & 0 &  7 & 5 & 7 & 0\\\\\n",
       "\t12 & 0 & 1 & 1 & 33 & 1 & 1 & 0 & 1 & 0 & 1 & ⋯ & 1 & 4 & 30 & 28 & 0 & 0 &  4 & 6 & 2 & 0\\\\\n",
       "\t13 & 1 & 0 & 1 & 33 & 0 & 0 & 0 & 1 & 0 & 0 & ⋯ & 0 & 2 &  5 &  0 & 0 & 0 &  6 & 6 & 8 & 0\\\\\n",
       "\t14 & 1 & 1 & 1 & 21 & 0 & 0 & 0 & 1 & 1 & 1 & ⋯ & 0 & 3 &  0 &  0 & 0 & 0 & 10 & 4 & 3 & 0\\\\\n",
       "\t15 & 0 & 0 & 0 & 23 & 0 & 0 & 0 & 0 & 0 & 1 & ⋯ & 0 & 2 & 15 &  0 & 0 & 0 &  2 & 6 & 7 & 0\\\\\n",
       "\t16 & 0 & 1 & 1 & 28 & 0 & 0 & 0 & 0 & 0 & 0 & ⋯ & 0 & 2 & 10 &  0 & 0 & 1 &  4 & 6 & 8 & 0\\\\\n",
       "\t17 & 1 & 1 & 1 & 22 & 0 & 1 & 1 & 0 & 1 & 0 & ⋯ & 0 & 3 & 30 &  0 & 1 & 0 & 12 & 4 & 4 & 0\\\\\n",
       "\t18 & 1 & 1 & 1 & 38 & 1 & 0 & 0 & 0 & 1 & 1 & ⋯ & 0 & 5 & 15 & 30 & 1 & 0 & 13 & 2 & 3 & 0\\\\\n",
       "\t19 & 0 & 0 & 1 & 28 & 1 & 0 & 0 & 0 & 0 & 1 & ⋯ & 0 & 3 &  0 &  7 & 0 & 1 &  5 & 5 & 5 & 0\\\\\n",
       "\t20 & 1 & 1 & 1 & 28 & 1 & 0 & 0 & 0 & 1 & 1 & ⋯ & 0 & 3 &  6 &  0 & 1 & 0 &  9 & 4 & 6 & 0\\\\\n",
       "\t21 & 0 & 0 & 1 & 32 & 0 & 0 & 0 & 1 & 1 & 1 & ⋯ & 0 & 2 &  0 &  0 & 0 & 0 &  5 & 6 & 8 & 0\\\\\n",
       "\t22 & 0 & 1 & 1 & 31 & 1 & 0 & 0 & 1 & 1 & 1 & ⋯ & 0 & 1 &  0 &  0 & 0 & 1 & 12 & 6 & 8 & 0\\\\\n",
       "\t23 & 1 & 0 & 1 & 33 & 1 & 0 & 0 & 1 & 1 & 1 & ⋯ & 0 & 1 &  0 &  0 & 1 & 1 & 13 & 3 & 3 & 0\\\\\n",
       "\t24 & 0 & 0 & 1 & 23 & 0 & 0 & 0 & 1 & 1 & 1 & ⋯ & 0 & 1 &  2 &  0 & 0 & 0 &  6 & 4 & 8 & 0\\\\\n",
       "\t25 & 1 & 0 & 1 & 31 & 0 & 0 & 0 & 1 & 0 & 0 & ⋯ & 0 & 3 &  0 &  0 & 0 & 1 & 11 & 6 & 2 & 0\\\\\n",
       "\t26 & 1 & 0 & 1 & 26 & 0 & 0 & 0 & 1 & 1 & 1 & ⋯ & 0 & 2 &  0 &  0 & 0 & 0 &  9 & 4 & 4 & 0\\\\\n",
       "\t27 & 1 & 1 & 1 & 24 & 1 & 0 & 0 & 1 & 0 & 1 & ⋯ & 0 & 3 &  5 &  3 & 1 & 1 &  8 & 4 & 3 & 0\\\\\n",
       "\t28 & 0 & 0 & 1 & 22 & 0 & 0 & 0 & 1 & 1 & 1 & ⋯ & 0 & 2 &  0 & 10 & 0 & 0 & 12 & 5 & 7 & 0\\\\\n",
       "\t29 & 0 & 0 & 1 & 26 & 1 & 0 & 0 & 1 & 1 & 1 & ⋯ & 0 & 1 &  0 &  1 & 0 & 1 &  4 & 5 & 3 & 0\\\\\n",
       "\t30 & 1 & 1 & 1 & 24 & 1 & 0 & 0 & 0 & 1 & 1 & ⋯ & 0 & 5 &  0 & 30 & 0 & 1 &  9 & 3 & 1 & 0\\\\\n",
       "\t⋮ & ⋮ & ⋮ & ⋮ & ⋮ & ⋮ & ⋮ & ⋮ & ⋮ & ⋮ & ⋮ & ⋱ & ⋮ & ⋮ & ⋮ & ⋮ & ⋮ & ⋮ & ⋮ & ⋮ & ⋮ & ⋮\\\\\n",
       "\t436571 & 1 & 1 & 1 & 29 & 0 & 0 & 0 & 1 & 0 & 0 & ⋯ & 0 & 3 &  0 &  1 & 0 & 1 & 11 & 5 & 5 & 1\\\\\n",
       "\t436572 & 1 & 0 & 1 & 25 & 1 & 0 & 0 & 0 & 0 & 1 & ⋯ & 0 & 4 &  2 &  5 & 0 & 0 &  9 & 5 & 4 & 1\\\\\n",
       "\t436573 & 1 & 1 & 1 & 49 & 1 & 0 & 0 & 1 & 1 & 1 & ⋯ & 0 & 5 & 10 &  6 & 0 & 0 &  7 & 4 & 2 & 1\\\\\n",
       "\t436574 & 0 & 1 & 1 & 37 & 1 & 0 & 0 & 1 & 0 & 0 & ⋯ & 0 & 2 &  0 &  0 & 0 & 1 &  8 & 4 & 8 & 1\\\\\n",
       "\t436575 & 0 & 1 & 1 & 34 & 1 & 0 & 1 & 0 & 1 & 1 & ⋯ & 0 & 4 &  0 &  0 & 0 & 0 & 12 & 4 & 5 & 1\\\\\n",
       "\t436576 & 0 & 1 & 1 & 34 & 0 & 0 & 0 & 0 & 1 & 0 & ⋯ & 0 & 4 &  0 &  3 & 1 & 0 & 10 & 6 & 4 & 1\\\\\n",
       "\t436577 & 1 & 1 & 1 & 33 & 0 & 0 & 0 & 1 & 1 & 1 & ⋯ & 1 & 3 &  0 &  0 & 0 & 0 &  3 & 6 & 8 & 1\\\\\n",
       "\t436578 & 1 & 1 & 1 & 45 & 1 & 0 & 1 & 0 & 0 & 1 & ⋯ & 0 & 3 &  5 & 15 & 1 & 0 & 10 & 4 & 3 & 1\\\\\n",
       "\t436579 & 1 & 1 & 1 & 30 & 0 & 0 & 0 & 0 & 1 & 1 & ⋯ & 1 & 5 & 25 & 30 & 1 & 1 &  7 & 6 & 2 & 1\\\\\n",
       "\t436580 & 1 & 0 & 1 & 29 & 0 & 0 & 0 & 1 & 1 & 1 & ⋯ & 0 & 1 &  0 &  1 & 0 & 0 & 10 & 6 & 8 & 1\\\\\n",
       "\t436581 & 1 & 1 & 1 & 30 & 0 & 0 & 0 & 1 & 1 & 0 & ⋯ & 0 & 4 & 30 &  3 & 0 & 0 &  5 & 6 & 7 & 1\\\\\n",
       "\t436582 & 1 & 1 & 1 & 27 & 0 & 1 & 1 & 1 & 0 & 0 & ⋯ & 0 & 3 &  0 &  1 & 0 & 1 & 13 & 5 & 8 & 1\\\\\n",
       "\t436583 & 1 & 1 & 1 & 33 & 1 & 0 & 0 & 0 & 0 & 1 & ⋯ & 0 & 4 &  0 & 28 & 1 & 1 & 13 & 3 & 7 & 1\\\\\n",
       "\t436584 & 1 & 0 & 1 & 28 & 0 & 0 & 0 & 1 & 1 & 1 & ⋯ & 0 & 2 &  0 &  0 & 0 & 0 & 10 & 3 & 2 & 1\\\\\n",
       "\t436585 & 1 & 1 & 1 & 27 & 0 & 0 & 0 & 0 & 1 & 1 & ⋯ & 0 & 5 &  0 & 30 & 0 & 0 & 13 & 6 & 3 & 1\\\\\n",
       "\t436586 & 0 & 1 & 1 & 35 & 0 & 0 & 0 & 0 & 0 & 1 & ⋯ & 0 & 3 &  0 &  5 & 0 & 0 &  2 & 6 & 7 & 1\\\\\n",
       "\t436587 & 1 & 1 & 1 & 26 & 0 & 0 & 1 & 1 & 0 & 1 & ⋯ & 0 & 5 &  0 &  0 & 1 & 0 & 11 & 4 & 4 & 1\\\\\n",
       "\t436588 & 0 & 0 & 1 & 27 & 1 & 0 & 0 & 1 & 1 & 1 & ⋯ & 0 & 4 &  0 &  0 & 0 & 1 &  9 & 2 & 2 & 1\\\\\n",
       "\t436589 & 1 & 0 & 1 & 38 & 0 & 0 & 0 & 1 & 1 & 1 & ⋯ & 1 & 4 &  0 &  0 & 0 & 0 &  6 & 6 & 3 & 1\\\\\n",
       "\t436590 & 1 & 1 & 1 & 36 & 0 & 0 & 0 & 0 & 1 & 1 & ⋯ & 0 & 2 &  4 & 10 & 0 & 1 &  8 & 6 & 7 & 1\\\\\n",
       "\t436591 & 1 & 0 & 1 & 26 & 1 & 0 & 0 & 0 & 0 & 0 & ⋯ & 1 & 5 &  0 & 30 & 1 & 1 &  6 & 4 & 1 & 1\\\\\n",
       "\t436592 & 1 & 1 & 1 & 28 & 0 & 0 & 0 & 1 & 0 & 0 & ⋯ & 0 & 2 &  0 &  2 & 0 & 1 & 11 & 4 & 4 & 1\\\\\n",
       "\t436593 & 1 & 1 & 1 & 30 & 1 & 0 & 0 & 1 & 1 & 1 & ⋯ & 0 & 2 &  0 &  0 & 1 & 1 & 13 & 6 & 7 & 1\\\\\n",
       "\t436594 & 0 & 1 & 1 & 26 & 0 & 0 & 0 & 1 & 1 & 1 & ⋯ & 1 & 3 &  0 &  0 & 0 & 0 &  9 & 6 & 1 & 1\\\\\n",
       "\t436595 & 1 & 1 & 1 & 42 & 1 & 0 & 1 & 0 & 0 & 0 & ⋯ & 0 & 5 & 30 & 30 & 1 & 1 & 12 & 3 & 3 & 1\\\\\n",
       "\t436596 & 0 & 1 & 1 & 35 & 1 & 0 & 0 & 1 & 1 & 1 & ⋯ & 0 & 3 &  0 &  2 & 0 & 0 &  8 & 5 & 8 & 1\\\\\n",
       "\t436597 & 0 & 0 & 1 & 20 & 0 & 0 & 0 & 1 & 1 & 1 & ⋯ & 0 & 1 &  0 &  0 & 0 & 1 & 10 & 4 & 7 & 1\\\\\n",
       "\t436598 & 1 & 1 & 1 & 42 & 0 & 0 & 0 & 1 & 1 & 1 & ⋯ & 0 & 3 & 30 & 20 & 0 & 0 &  8 & 6 & 5 & 1\\\\\n",
       "\t436599 & 1 & 1 & 1 & 28 & 0 & 0 & 0 & 1 & 0 & 1 & ⋯ & 0 & 2 &  0 &  0 & 0 & 1 & 11 & 6 & 8 & 1\\\\\n",
       "\t436600 & 0 & 0 & 1 & 30 & 1 & 0 & 0 & 1 & 1 & 1 & ⋯ & 0 & 3 &  0 &  6 & 1 & 0 &  6 & 5 & 3 & 1\\\\\n",
       "\\end{tabular}\n"
      ],
      "text/markdown": [
       "\n",
       "A data.frame: 436600 × 22\n",
       "\n",
       "| <!--/--> | HighBP &lt;int&gt; | HighChol &lt;int&gt; | CholCheck &lt;int&gt; | BMI &lt;int&gt; | Smoker &lt;int&gt; | Stroke &lt;int&gt; | HeartDiseaseorAttack &lt;int&gt; | PhysActivity &lt;int&gt; | Fruits &lt;int&gt; | Veggies &lt;int&gt; | ⋯ ⋯ | NoDocbcCost &lt;int&gt; | GenHlth &lt;int&gt; | MentHlth &lt;int&gt; | PhysHlth &lt;int&gt; | DiffWalk &lt;int&gt; | Sex &lt;int&gt; | Age &lt;int&gt; | Education &lt;int&gt; | Income &lt;int&gt; | Diabetes_binary &lt;int&gt; |\n",
       "|---|---|---|---|---|---|---|---|---|---|---|---|---|---|---|---|---|---|---|---|---|---|\n",
       "| 1 | 1 | 1 | 1 | 40 | 1 | 0 | 0 | 0 | 0 | 1 | ⋯ | 0 | 5 | 18 | 15 | 1 | 0 |  9 | 4 | 3 | 0 |\n",
       "| 2 | 0 | 0 | 0 | 25 | 1 | 0 | 0 | 1 | 0 | 0 | ⋯ | 1 | 3 |  0 |  0 | 0 | 0 |  7 | 6 | 1 | 0 |\n",
       "| 3 | 1 | 1 | 1 | 28 | 0 | 0 | 0 | 0 | 1 | 0 | ⋯ | 1 | 5 | 30 | 30 | 1 | 0 |  9 | 4 | 8 | 0 |\n",
       "| 4 | 1 | 0 | 1 | 27 | 0 | 0 | 0 | 1 | 1 | 1 | ⋯ | 0 | 2 |  0 |  0 | 0 | 0 | 11 | 3 | 6 | 0 |\n",
       "| 5 | 1 | 1 | 1 | 24 | 0 | 0 | 0 | 1 | 1 | 1 | ⋯ | 0 | 2 |  3 |  0 | 0 | 0 | 11 | 5 | 4 | 0 |\n",
       "| 6 | 1 | 1 | 1 | 25 | 1 | 0 | 0 | 1 | 1 | 1 | ⋯ | 0 | 2 |  0 |  2 | 0 | 1 | 10 | 6 | 8 | 0 |\n",
       "| 7 | 1 | 0 | 1 | 30 | 1 | 0 | 0 | 0 | 0 | 0 | ⋯ | 0 | 3 |  0 | 14 | 0 | 0 |  9 | 6 | 7 | 0 |\n",
       "| 8 | 1 | 1 | 1 | 25 | 1 | 0 | 0 | 1 | 0 | 1 | ⋯ | 0 | 3 |  0 |  0 | 1 | 0 | 11 | 4 | 4 | 0 |\n",
       "| 9 | 0 | 0 | 1 | 24 | 0 | 0 | 0 | 0 | 0 | 1 | ⋯ | 0 | 2 |  0 |  0 | 0 | 1 |  8 | 4 | 3 | 0 |\n",
       "| 10 | 1 | 1 | 1 | 34 | 1 | 0 | 0 | 0 | 1 | 1 | ⋯ | 0 | 3 |  0 | 30 | 1 | 0 | 10 | 5 | 1 | 0 |\n",
       "| 11 | 0 | 0 | 1 | 26 | 1 | 0 | 0 | 0 | 0 | 1 | ⋯ | 0 | 3 |  0 | 15 | 0 | 0 |  7 | 5 | 7 | 0 |\n",
       "| 12 | 0 | 1 | 1 | 33 | 1 | 1 | 0 | 1 | 0 | 1 | ⋯ | 1 | 4 | 30 | 28 | 0 | 0 |  4 | 6 | 2 | 0 |\n",
       "| 13 | 1 | 0 | 1 | 33 | 0 | 0 | 0 | 1 | 0 | 0 | ⋯ | 0 | 2 |  5 |  0 | 0 | 0 |  6 | 6 | 8 | 0 |\n",
       "| 14 | 1 | 1 | 1 | 21 | 0 | 0 | 0 | 1 | 1 | 1 | ⋯ | 0 | 3 |  0 |  0 | 0 | 0 | 10 | 4 | 3 | 0 |\n",
       "| 15 | 0 | 0 | 0 | 23 | 0 | 0 | 0 | 0 | 0 | 1 | ⋯ | 0 | 2 | 15 |  0 | 0 | 0 |  2 | 6 | 7 | 0 |\n",
       "| 16 | 0 | 1 | 1 | 28 | 0 | 0 | 0 | 0 | 0 | 0 | ⋯ | 0 | 2 | 10 |  0 | 0 | 1 |  4 | 6 | 8 | 0 |\n",
       "| 17 | 1 | 1 | 1 | 22 | 0 | 1 | 1 | 0 | 1 | 0 | ⋯ | 0 | 3 | 30 |  0 | 1 | 0 | 12 | 4 | 4 | 0 |\n",
       "| 18 | 1 | 1 | 1 | 38 | 1 | 0 | 0 | 0 | 1 | 1 | ⋯ | 0 | 5 | 15 | 30 | 1 | 0 | 13 | 2 | 3 | 0 |\n",
       "| 19 | 0 | 0 | 1 | 28 | 1 | 0 | 0 | 0 | 0 | 1 | ⋯ | 0 | 3 |  0 |  7 | 0 | 1 |  5 | 5 | 5 | 0 |\n",
       "| 20 | 1 | 1 | 1 | 28 | 1 | 0 | 0 | 0 | 1 | 1 | ⋯ | 0 | 3 |  6 |  0 | 1 | 0 |  9 | 4 | 6 | 0 |\n",
       "| 21 | 0 | 0 | 1 | 32 | 0 | 0 | 0 | 1 | 1 | 1 | ⋯ | 0 | 2 |  0 |  0 | 0 | 0 |  5 | 6 | 8 | 0 |\n",
       "| 22 | 0 | 1 | 1 | 31 | 1 | 0 | 0 | 1 | 1 | 1 | ⋯ | 0 | 1 |  0 |  0 | 0 | 1 | 12 | 6 | 8 | 0 |\n",
       "| 23 | 1 | 0 | 1 | 33 | 1 | 0 | 0 | 1 | 1 | 1 | ⋯ | 0 | 1 |  0 |  0 | 1 | 1 | 13 | 3 | 3 | 0 |\n",
       "| 24 | 0 | 0 | 1 | 23 | 0 | 0 | 0 | 1 | 1 | 1 | ⋯ | 0 | 1 |  2 |  0 | 0 | 0 |  6 | 4 | 8 | 0 |\n",
       "| 25 | 1 | 0 | 1 | 31 | 0 | 0 | 0 | 1 | 0 | 0 | ⋯ | 0 | 3 |  0 |  0 | 0 | 1 | 11 | 6 | 2 | 0 |\n",
       "| 26 | 1 | 0 | 1 | 26 | 0 | 0 | 0 | 1 | 1 | 1 | ⋯ | 0 | 2 |  0 |  0 | 0 | 0 |  9 | 4 | 4 | 0 |\n",
       "| 27 | 1 | 1 | 1 | 24 | 1 | 0 | 0 | 1 | 0 | 1 | ⋯ | 0 | 3 |  5 |  3 | 1 | 1 |  8 | 4 | 3 | 0 |\n",
       "| 28 | 0 | 0 | 1 | 22 | 0 | 0 | 0 | 1 | 1 | 1 | ⋯ | 0 | 2 |  0 | 10 | 0 | 0 | 12 | 5 | 7 | 0 |\n",
       "| 29 | 0 | 0 | 1 | 26 | 1 | 0 | 0 | 1 | 1 | 1 | ⋯ | 0 | 1 |  0 |  1 | 0 | 1 |  4 | 5 | 3 | 0 |\n",
       "| 30 | 1 | 1 | 1 | 24 | 1 | 0 | 0 | 0 | 1 | 1 | ⋯ | 0 | 5 |  0 | 30 | 0 | 1 |  9 | 3 | 1 | 0 |\n",
       "| ⋮ | ⋮ | ⋮ | ⋮ | ⋮ | ⋮ | ⋮ | ⋮ | ⋮ | ⋮ | ⋮ | ⋱ | ⋮ | ⋮ | ⋮ | ⋮ | ⋮ | ⋮ | ⋮ | ⋮ | ⋮ | ⋮ |\n",
       "| 436571 | 1 | 1 | 1 | 29 | 0 | 0 | 0 | 1 | 0 | 0 | ⋯ | 0 | 3 |  0 |  1 | 0 | 1 | 11 | 5 | 5 | 1 |\n",
       "| 436572 | 1 | 0 | 1 | 25 | 1 | 0 | 0 | 0 | 0 | 1 | ⋯ | 0 | 4 |  2 |  5 | 0 | 0 |  9 | 5 | 4 | 1 |\n",
       "| 436573 | 1 | 1 | 1 | 49 | 1 | 0 | 0 | 1 | 1 | 1 | ⋯ | 0 | 5 | 10 |  6 | 0 | 0 |  7 | 4 | 2 | 1 |\n",
       "| 436574 | 0 | 1 | 1 | 37 | 1 | 0 | 0 | 1 | 0 | 0 | ⋯ | 0 | 2 |  0 |  0 | 0 | 1 |  8 | 4 | 8 | 1 |\n",
       "| 436575 | 0 | 1 | 1 | 34 | 1 | 0 | 1 | 0 | 1 | 1 | ⋯ | 0 | 4 |  0 |  0 | 0 | 0 | 12 | 4 | 5 | 1 |\n",
       "| 436576 | 0 | 1 | 1 | 34 | 0 | 0 | 0 | 0 | 1 | 0 | ⋯ | 0 | 4 |  0 |  3 | 1 | 0 | 10 | 6 | 4 | 1 |\n",
       "| 436577 | 1 | 1 | 1 | 33 | 0 | 0 | 0 | 1 | 1 | 1 | ⋯ | 1 | 3 |  0 |  0 | 0 | 0 |  3 | 6 | 8 | 1 |\n",
       "| 436578 | 1 | 1 | 1 | 45 | 1 | 0 | 1 | 0 | 0 | 1 | ⋯ | 0 | 3 |  5 | 15 | 1 | 0 | 10 | 4 | 3 | 1 |\n",
       "| 436579 | 1 | 1 | 1 | 30 | 0 | 0 | 0 | 0 | 1 | 1 | ⋯ | 1 | 5 | 25 | 30 | 1 | 1 |  7 | 6 | 2 | 1 |\n",
       "| 436580 | 1 | 0 | 1 | 29 | 0 | 0 | 0 | 1 | 1 | 1 | ⋯ | 0 | 1 |  0 |  1 | 0 | 0 | 10 | 6 | 8 | 1 |\n",
       "| 436581 | 1 | 1 | 1 | 30 | 0 | 0 | 0 | 1 | 1 | 0 | ⋯ | 0 | 4 | 30 |  3 | 0 | 0 |  5 | 6 | 7 | 1 |\n",
       "| 436582 | 1 | 1 | 1 | 27 | 0 | 1 | 1 | 1 | 0 | 0 | ⋯ | 0 | 3 |  0 |  1 | 0 | 1 | 13 | 5 | 8 | 1 |\n",
       "| 436583 | 1 | 1 | 1 | 33 | 1 | 0 | 0 | 0 | 0 | 1 | ⋯ | 0 | 4 |  0 | 28 | 1 | 1 | 13 | 3 | 7 | 1 |\n",
       "| 436584 | 1 | 0 | 1 | 28 | 0 | 0 | 0 | 1 | 1 | 1 | ⋯ | 0 | 2 |  0 |  0 | 0 | 0 | 10 | 3 | 2 | 1 |\n",
       "| 436585 | 1 | 1 | 1 | 27 | 0 | 0 | 0 | 0 | 1 | 1 | ⋯ | 0 | 5 |  0 | 30 | 0 | 0 | 13 | 6 | 3 | 1 |\n",
       "| 436586 | 0 | 1 | 1 | 35 | 0 | 0 | 0 | 0 | 0 | 1 | ⋯ | 0 | 3 |  0 |  5 | 0 | 0 |  2 | 6 | 7 | 1 |\n",
       "| 436587 | 1 | 1 | 1 | 26 | 0 | 0 | 1 | 1 | 0 | 1 | ⋯ | 0 | 5 |  0 |  0 | 1 | 0 | 11 | 4 | 4 | 1 |\n",
       "| 436588 | 0 | 0 | 1 | 27 | 1 | 0 | 0 | 1 | 1 | 1 | ⋯ | 0 | 4 |  0 |  0 | 0 | 1 |  9 | 2 | 2 | 1 |\n",
       "| 436589 | 1 | 0 | 1 | 38 | 0 | 0 | 0 | 1 | 1 | 1 | ⋯ | 1 | 4 |  0 |  0 | 0 | 0 |  6 | 6 | 3 | 1 |\n",
       "| 436590 | 1 | 1 | 1 | 36 | 0 | 0 | 0 | 0 | 1 | 1 | ⋯ | 0 | 2 |  4 | 10 | 0 | 1 |  8 | 6 | 7 | 1 |\n",
       "| 436591 | 1 | 0 | 1 | 26 | 1 | 0 | 0 | 0 | 0 | 0 | ⋯ | 1 | 5 |  0 | 30 | 1 | 1 |  6 | 4 | 1 | 1 |\n",
       "| 436592 | 1 | 1 | 1 | 28 | 0 | 0 | 0 | 1 | 0 | 0 | ⋯ | 0 | 2 |  0 |  2 | 0 | 1 | 11 | 4 | 4 | 1 |\n",
       "| 436593 | 1 | 1 | 1 | 30 | 1 | 0 | 0 | 1 | 1 | 1 | ⋯ | 0 | 2 |  0 |  0 | 1 | 1 | 13 | 6 | 7 | 1 |\n",
       "| 436594 | 0 | 1 | 1 | 26 | 0 | 0 | 0 | 1 | 1 | 1 | ⋯ | 1 | 3 |  0 |  0 | 0 | 0 |  9 | 6 | 1 | 1 |\n",
       "| 436595 | 1 | 1 | 1 | 42 | 1 | 0 | 1 | 0 | 0 | 0 | ⋯ | 0 | 5 | 30 | 30 | 1 | 1 | 12 | 3 | 3 | 1 |\n",
       "| 436596 | 0 | 1 | 1 | 35 | 1 | 0 | 0 | 1 | 1 | 1 | ⋯ | 0 | 3 |  0 |  2 | 0 | 0 |  8 | 5 | 8 | 1 |\n",
       "| 436597 | 0 | 0 | 1 | 20 | 0 | 0 | 0 | 1 | 1 | 1 | ⋯ | 0 | 1 |  0 |  0 | 0 | 1 | 10 | 4 | 7 | 1 |\n",
       "| 436598 | 1 | 1 | 1 | 42 | 0 | 0 | 0 | 1 | 1 | 1 | ⋯ | 0 | 3 | 30 | 20 | 0 | 0 |  8 | 6 | 5 | 1 |\n",
       "| 436599 | 1 | 1 | 1 | 28 | 0 | 0 | 0 | 1 | 0 | 1 | ⋯ | 0 | 2 |  0 |  0 | 0 | 1 | 11 | 6 | 8 | 1 |\n",
       "| 436600 | 0 | 0 | 1 | 30 | 1 | 0 | 0 | 1 | 1 | 1 | ⋯ | 0 | 3 |  0 |  6 | 1 | 0 |  6 | 5 | 3 | 1 |\n",
       "\n"
      ],
      "text/plain": [
       "       HighBP HighChol CholCheck BMI Smoker Stroke HeartDiseaseorAttack\n",
       "1      1      1        1         40  1      0      0                   \n",
       "2      0      0        0         25  1      0      0                   \n",
       "3      1      1        1         28  0      0      0                   \n",
       "4      1      0        1         27  0      0      0                   \n",
       "5      1      1        1         24  0      0      0                   \n",
       "6      1      1        1         25  1      0      0                   \n",
       "7      1      0        1         30  1      0      0                   \n",
       "8      1      1        1         25  1      0      0                   \n",
       "9      0      0        1         24  0      0      0                   \n",
       "10     1      1        1         34  1      0      0                   \n",
       "11     0      0        1         26  1      0      0                   \n",
       "12     0      1        1         33  1      1      0                   \n",
       "13     1      0        1         33  0      0      0                   \n",
       "14     1      1        1         21  0      0      0                   \n",
       "15     0      0        0         23  0      0      0                   \n",
       "16     0      1        1         28  0      0      0                   \n",
       "17     1      1        1         22  0      1      1                   \n",
       "18     1      1        1         38  1      0      0                   \n",
       "19     0      0        1         28  1      0      0                   \n",
       "20     1      1        1         28  1      0      0                   \n",
       "21     0      0        1         32  0      0      0                   \n",
       "22     0      1        1         31  1      0      0                   \n",
       "23     1      0        1         33  1      0      0                   \n",
       "24     0      0        1         23  0      0      0                   \n",
       "25     1      0        1         31  0      0      0                   \n",
       "26     1      0        1         26  0      0      0                   \n",
       "27     1      1        1         24  1      0      0                   \n",
       "28     0      0        1         22  0      0      0                   \n",
       "29     0      0        1         26  1      0      0                   \n",
       "30     1      1        1         24  1      0      0                   \n",
       "<U+22EE>      <U+22EE> <U+22EE> <U+22EE>  <U+22EE> <U+22EE> <U+22EE> <U+22EE>            \n",
       "436571 1      1        1         29  0      0      0                   \n",
       "436572 1      0        1         25  1      0      0                   \n",
       "436573 1      1        1         49  1      0      0                   \n",
       "436574 0      1        1         37  1      0      0                   \n",
       "436575 0      1        1         34  1      0      1                   \n",
       "436576 0      1        1         34  0      0      0                   \n",
       "436577 1      1        1         33  0      0      0                   \n",
       "436578 1      1        1         45  1      0      1                   \n",
       "436579 1      1        1         30  0      0      0                   \n",
       "436580 1      0        1         29  0      0      0                   \n",
       "436581 1      1        1         30  0      0      0                   \n",
       "436582 1      1        1         27  0      1      1                   \n",
       "436583 1      1        1         33  1      0      0                   \n",
       "436584 1      0        1         28  0      0      0                   \n",
       "436585 1      1        1         27  0      0      0                   \n",
       "436586 0      1        1         35  0      0      0                   \n",
       "436587 1      1        1         26  0      0      1                   \n",
       "436588 0      0        1         27  1      0      0                   \n",
       "436589 1      0        1         38  0      0      0                   \n",
       "436590 1      1        1         36  0      0      0                   \n",
       "436591 1      0        1         26  1      0      0                   \n",
       "436592 1      1        1         28  0      0      0                   \n",
       "436593 1      1        1         30  1      0      0                   \n",
       "436594 0      1        1         26  0      0      0                   \n",
       "436595 1      1        1         42  1      0      1                   \n",
       "436596 0      1        1         35  1      0      0                   \n",
       "436597 0      0        1         20  0      0      0                   \n",
       "436598 1      1        1         42  0      0      0                   \n",
       "436599 1      1        1         28  0      0      0                   \n",
       "436600 0      0        1         30  1      0      0                   \n",
       "       PhysActivity Fruits Veggies <U+22EF>        NoDocbcCost GenHlth MentHlth\n",
       "1      0            0      1       <U+22EF> 0           5       18      \n",
       "2      1            0      0       <U+22EF> 1           3        0      \n",
       "3      0            1      0       <U+22EF> 1           5       30      \n",
       "4      1            1      1       <U+22EF> 0           2        0      \n",
       "5      1            1      1       <U+22EF> 0           2        3      \n",
       "6      1            1      1       <U+22EF> 0           2        0      \n",
       "7      0            0      0       <U+22EF> 0           3        0      \n",
       "8      1            0      1       <U+22EF> 0           3        0      \n",
       "9      0            0      1       <U+22EF> 0           2        0      \n",
       "10     0            1      1       <U+22EF> 0           3        0      \n",
       "11     0            0      1       <U+22EF> 0           3        0      \n",
       "12     1            0      1       <U+22EF> 1           4       30      \n",
       "13     1            0      0       <U+22EF> 0           2        5      \n",
       "14     1            1      1       <U+22EF> 0           3        0      \n",
       "15     0            0      1       <U+22EF> 0           2       15      \n",
       "16     0            0      0       <U+22EF> 0           2       10      \n",
       "17     0            1      0       <U+22EF> 0           3       30      \n",
       "18     0            1      1       <U+22EF> 0           5       15      \n",
       "19     0            0      1       <U+22EF> 0           3        0      \n",
       "20     0            1      1       <U+22EF> 0           3        6      \n",
       "21     1            1      1       <U+22EF> 0           2        0      \n",
       "22     1            1      1       <U+22EF> 0           1        0      \n",
       "23     1            1      1       <U+22EF> 0           1        0      \n",
       "24     1            1      1       <U+22EF> 0           1        2      \n",
       "25     1            0      0       <U+22EF> 0           3        0      \n",
       "26     1            1      1       <U+22EF> 0           2        0      \n",
       "27     1            0      1       <U+22EF> 0           3        5      \n",
       "28     1            1      1       <U+22EF> 0           2        0      \n",
       "29     1            1      1       <U+22EF> 0           1        0      \n",
       "30     0            1      1       <U+22EF> 0           5        0      \n",
       "<U+22EE>      <U+22EE>     <U+22EE> <U+22EE> <U+22F1> <U+22EE>    <U+22EE> <U+22EE>\n",
       "436571 1            0      0       <U+22EF> 0           3        0      \n",
       "436572 0            0      1       <U+22EF> 0           4        2      \n",
       "436573 1            1      1       <U+22EF> 0           5       10      \n",
       "436574 1            0      0       <U+22EF> 0           2        0      \n",
       "436575 0            1      1       <U+22EF> 0           4        0      \n",
       "436576 0            1      0       <U+22EF> 0           4        0      \n",
       "436577 1            1      1       <U+22EF> 1           3        0      \n",
       "436578 0            0      1       <U+22EF> 0           3        5      \n",
       "436579 0            1      1       <U+22EF> 1           5       25      \n",
       "436580 1            1      1       <U+22EF> 0           1        0      \n",
       "436581 1            1      0       <U+22EF> 0           4       30      \n",
       "436582 1            0      0       <U+22EF> 0           3        0      \n",
       "436583 0            0      1       <U+22EF> 0           4        0      \n",
       "436584 1            1      1       <U+22EF> 0           2        0      \n",
       "436585 0            1      1       <U+22EF> 0           5        0      \n",
       "436586 0            0      1       <U+22EF> 0           3        0      \n",
       "436587 1            0      1       <U+22EF> 0           5        0      \n",
       "436588 1            1      1       <U+22EF> 0           4        0      \n",
       "436589 1            1      1       <U+22EF> 1           4        0      \n",
       "436590 0            1      1       <U+22EF> 0           2        4      \n",
       "436591 0            0      0       <U+22EF> 1           5        0      \n",
       "436592 1            0      0       <U+22EF> 0           2        0      \n",
       "436593 1            1      1       <U+22EF> 0           2        0      \n",
       "436594 1            1      1       <U+22EF> 1           3        0      \n",
       "436595 0            0      0       <U+22EF> 0           5       30      \n",
       "436596 1            1      1       <U+22EF> 0           3        0      \n",
       "436597 1            1      1       <U+22EF> 0           1        0      \n",
       "436598 1            1      1       <U+22EF> 0           3       30      \n",
       "436599 1            0      1       <U+22EF> 0           2        0      \n",
       "436600 1            1      1       <U+22EF> 0           3        0      \n",
       "       PhysHlth DiffWalk Sex Age Education Income Diabetes_binary\n",
       "1      15       1        0    9  4         3      0              \n",
       "2       0       0        0    7  6         1      0              \n",
       "3      30       1        0    9  4         8      0              \n",
       "4       0       0        0   11  3         6      0              \n",
       "5       0       0        0   11  5         4      0              \n",
       "6       2       0        1   10  6         8      0              \n",
       "7      14       0        0    9  6         7      0              \n",
       "8       0       1        0   11  4         4      0              \n",
       "9       0       0        1    8  4         3      0              \n",
       "10     30       1        0   10  5         1      0              \n",
       "11     15       0        0    7  5         7      0              \n",
       "12     28       0        0    4  6         2      0              \n",
       "13      0       0        0    6  6         8      0              \n",
       "14      0       0        0   10  4         3      0              \n",
       "15      0       0        0    2  6         7      0              \n",
       "16      0       0        1    4  6         8      0              \n",
       "17      0       1        0   12  4         4      0              \n",
       "18     30       1        0   13  2         3      0              \n",
       "19      7       0        1    5  5         5      0              \n",
       "20      0       1        0    9  4         6      0              \n",
       "21      0       0        0    5  6         8      0              \n",
       "22      0       0        1   12  6         8      0              \n",
       "23      0       1        1   13  3         3      0              \n",
       "24      0       0        0    6  4         8      0              \n",
       "25      0       0        1   11  6         2      0              \n",
       "26      0       0        0    9  4         4      0              \n",
       "27      3       1        1    8  4         3      0              \n",
       "28     10       0        0   12  5         7      0              \n",
       "29      1       0        1    4  5         3      0              \n",
       "30     30       0        1    9  3         1      0              \n",
       "<U+22EE>      <U+22EE> <U+22EE> <U+22EE> <U+22EE> <U+22EE>  <U+22EE> <U+22EE>       \n",
       "436571  1       0        1   11  5         5      1              \n",
       "436572  5       0        0    9  5         4      1              \n",
       "436573  6       0        0    7  4         2      1              \n",
       "436574  0       0        1    8  4         8      1              \n",
       "436575  0       0        0   12  4         5      1              \n",
       "436576  3       1        0   10  6         4      1              \n",
       "436577  0       0        0    3  6         8      1              \n",
       "436578 15       1        0   10  4         3      1              \n",
       "436579 30       1        1    7  6         2      1              \n",
       "436580  1       0        0   10  6         8      1              \n",
       "436581  3       0        0    5  6         7      1              \n",
       "436582  1       0        1   13  5         8      1              \n",
       "436583 28       1        1   13  3         7      1              \n",
       "436584  0       0        0   10  3         2      1              \n",
       "436585 30       0        0   13  6         3      1              \n",
       "436586  5       0        0    2  6         7      1              \n",
       "436587  0       1        0   11  4         4      1              \n",
       "436588  0       0        1    9  2         2      1              \n",
       "436589  0       0        0    6  6         3      1              \n",
       "436590 10       0        1    8  6         7      1              \n",
       "436591 30       1        1    6  4         1      1              \n",
       "436592  2       0        1   11  4         4      1              \n",
       "436593  0       1        1   13  6         7      1              \n",
       "436594  0       0        0    9  6         1      1              \n",
       "436595 30       1        1   12  3         3      1              \n",
       "436596  2       0        0    8  5         8      1              \n",
       "436597  0       0        1   10  4         7      1              \n",
       "436598 20       0        0    8  6         5      1              \n",
       "436599  0       0        1   11  6         8      1              \n",
       "436600  6       1        0    6  5         3      1              "
      ]
     },
     "metadata": {},
     "output_type": "display_data"
    }
   ],
   "source": [
    "balanced_df"
   ]
  },
  {
   "cell_type": "code",
   "execution_count": 344,
   "id": "6b91c9c2-d726-4619-b915-ab5c4d7b57ea",
   "metadata": {},
   "outputs": [
    {
     "data": {
      "image/png": "[encoded data removed]",
      "text/plain": [
       "plot without title"
      ]
     },
     "metadata": {
      "image/png": {
       "height": 420,
       "width": 420
      }
     },
     "output_type": "display_data"
    }
   ],
   "source": [
    "plot_binary_distribution(balanced_df, \"Diabetes_binary\", \"Balanced dataset: Diabetes_binary\")"
   ]
  },
  {
   "cell_type": "code",
   "execution_count": 345,
   "id": "e8e44878-0967-430e-bbe0-049b40ad0133",
   "metadata": {},
   "outputs": [],
   "source": [
    "with_diabetes_rows = which(balanced_df$Diabetes_binary == 1)\n",
    "no_diabetes_rows = which(balanced_df$Diabetes_binary == 0)"
   ]
  },
  {
   "cell_type": "markdown",
   "id": "353b18e0-0c32-4510-8f1b-4d8fa486895f",
   "metadata": {},
   "source": [
    "### 3.3. Detect Numerical, Binary, Ordinal variables"
   ]
  },
  {
   "cell_type": "code",
   "execution_count": 346,
   "id": "5d75c19b-b6c3-4f5b-ab09-96470eddd0eb",
   "metadata": {},
   "outputs": [
    {
     "name": "stdout",
     "output_type": "stream",
     "text": [
      "'data.frame':\t436600 obs. of  22 variables:\n",
      " $ HighBP              : int  1 0 1 1 1 1 1 1 0 1 ...\n",
      " $ HighChol            : int  1 0 1 0 1 1 0 1 0 1 ...\n",
      " $ CholCheck           : int  1 0 1 1 1 1 1 1 1 1 ...\n",
      " $ BMI                 : int  40 25 28 27 24 25 30 25 24 34 ...\n",
      " $ Smoker              : int  1 1 0 0 0 1 1 1 0 1 ...\n",
      " $ Stroke              : int  0 0 0 0 0 0 0 0 0 0 ...\n",
      " $ HeartDiseaseorAttack: int  0 0 0 0 0 0 0 0 0 0 ...\n",
      " $ PhysActivity        : int  0 1 0 1 1 1 0 1 0 0 ...\n",
      " $ Fruits              : int  0 0 1 1 1 1 0 0 0 1 ...\n",
      " $ Veggies             : int  1 0 0 1 1 1 0 1 1 1 ...\n",
      " $ HvyAlcoholConsump   : int  0 0 0 0 0 0 0 0 0 0 ...\n",
      " $ AnyHealthcare       : int  1 0 1 1 1 1 1 1 1 1 ...\n",
      " $ NoDocbcCost         : int  0 1 1 0 0 0 0 0 0 0 ...\n",
      " $ GenHlth             : int  5 3 5 2 2 2 3 3 2 3 ...\n",
      " $ MentHlth            : int  18 0 30 0 3 0 0 0 0 0 ...\n",
      " $ PhysHlth            : int  15 0 30 0 0 2 14 0 0 30 ...\n",
      " $ DiffWalk            : int  1 0 1 0 0 0 0 1 0 1 ...\n",
      " $ Sex                 : int  0 0 0 0 0 1 0 0 1 0 ...\n",
      " $ Age                 : int  9 7 9 11 11 10 9 11 8 10 ...\n",
      " $ Education           : int  4 6 4 3 5 6 6 4 4 5 ...\n",
      " $ Income              : int  3 1 8 6 4 8 7 4 3 1 ...\n",
      " $ Diabetes_binary     : int  0 0 0 0 0 0 0 0 0 0 ...\n"
     ]
    }
   ],
   "source": [
    "str(balanced_df)"
   ]
  },
  {
   "cell_type": "code",
   "execution_count": 347,
   "id": "ec4a0f37-e1d2-4bf0-9ddb-bc4bd9079e25",
   "metadata": {},
   "outputs": [
    {
     "data": {
      "text/html": [
       "<table class=\"dataframe\">\n",
       "<caption>A matrix: 3 × 1 of type int</caption>\n",
       "<thead>\n",
       "\t<tr><th></th><th scope=col>Number of variable</th></tr>\n",
       "</thead>\n",
       "<tbody>\n",
       "\t<tr><th scope=row>numerical_cols</th><td> 3</td></tr>\n",
       "\t<tr><th scope=row>binary_cols</th><td>14</td></tr>\n",
       "\t<tr><th scope=row>ordinal_cols</th><td> 4</td></tr>\n",
       "</tbody>\n",
       "</table>\n"
      ],
      "text/latex": [
       "A matrix: 3 × 1 of type int\n",
       "\\begin{tabular}{r|l}\n",
       "  & Number of variable\\\\\n",
       "\\hline\n",
       "\tnumerical\\_cols &  3\\\\\n",
       "\tbinary\\_cols & 14\\\\\n",
       "\tordinal\\_cols &  4\\\\\n",
       "\\end{tabular}\n"
      ],
      "text/markdown": [
       "\n",
       "A matrix: 3 × 1 of type int\n",
       "\n",
       "| <!--/--> | Number of variable |\n",
       "|---|---|\n",
       "| numerical_cols |  3 |\n",
       "| binary_cols | 14 |\n",
       "| ordinal_cols |  4 |\n",
       "\n"
      ],
      "text/plain": [
       "               Number of variable\n",
       "numerical_cols  3                \n",
       "binary_cols    14                \n",
       "ordinal_cols    4                "
      ]
     },
     "metadata": {},
     "output_type": "display_data"
    }
   ],
   "source": [
    "numerical_cols = c(\"BMI\", \"MentHlth\", \"PhysHlth\")\n",
    "binary_cols = c(\"HighBP\", \"HighChol\", \"CholCheck\", \"Smoker\", \"Stroke\",\n",
    "               \"HeartDiseaseorAttack\", \"PhysActivity\", \"Fruits\", \"Veggies\",\n",
    "               \"HvyAlcoholConsump\", \"AnyHealthcare\", \"NoDocbcCost\",\n",
    "               \"DiffWalk\", \"Sex\")\n",
    "ordinal_cols = c(\"GenHlth\", \"Age\", \"Education\", \"Income\")\n",
    "response_col = \"Diabetes_binary\"\n",
    "\n",
    "display_matrix = matrix(c(length(numerical_cols), length(binary_cols), length(ordinal_cols)), nrow = 3)\n",
    "rownames(display_matrix) = c(\"numerical_cols\", \"binary_cols\", \"ordinal_cols\")\n",
    "colnames(display_matrix) = \"Number of variable\"\n",
    "display_matrix"
   ]
  },
  {
   "cell_type": "markdown",
   "id": "3b3409ae-9e8f-4461-bf83-411c9f5b9e49",
   "metadata": {},
   "source": [
    "### 3.4. Numerical variables analysis"
   ]
  },
  {
   "cell_type": "code",
   "execution_count": 348,
   "id": "a9bf30f3-da91-41b4-973f-77a9f31637fc",
   "metadata": {},
   "outputs": [],
   "source": [
    "# Numerical variables (3): BMI, MentHlth, PhysHlth"
   ]
  },
  {
   "cell_type": "code",
   "execution_count": 349,
   "id": "8a586867-74c9-4f5e-a7fb-613405c243d3",
   "metadata": {},
   "outputs": [
    {
     "data": {
      "text/plain": [
       "\n",
       " Descriptive statistics by group \n",
       "group: 0\n",
       "         vars      n  mean   sd median trimmed  mad min max range skew kurtosis\n",
       "BMI         1 218334 27.81 6.29     27   27.15 4.45  12  98    86 2.33    13.62\n",
       "MentHlth    2 218334  2.98 7.11      0    0.94 0.00   0  30    30 2.86     7.37\n",
       "PhysHlth    3 218334  3.64 8.06      0    1.30 0.00   0  30    30 2.50     5.00\n",
       "           se\n",
       "BMI      0.01\n",
       "MentHlth 0.02\n",
       "PhysHlth 0.02\n",
       "------------------------------------------------------------ \n",
       "group: 1\n",
       "         vars      n  mean    sd median trimmed  mad min max range skew\n",
       "BMI         1 218266 31.94  7.36     31   31.23 5.93  13  98    85 1.54\n",
       "MentHlth    2 218266  4.45  8.93      0    2.01 0.00   0  30    30 2.07\n",
       "PhysHlth    3 218266  7.94 11.29      1    6.17 1.48   0  30    30 1.15\n",
       "         kurtosis   se\n",
       "BMI          5.86 0.02\n",
       "MentHlth     2.90 0.02\n",
       "PhysHlth    -0.33 0.02"
      ]
     },
     "metadata": {},
     "output_type": "display_data"
    }
   ],
   "source": [
    "psych::describeBy(balanced_df[,numerical_cols], balanced_df[,response_col])"
   ]
  },
  {
   "cell_type": "code",
   "execution_count": 350,
   "id": "53a66399-9adf-490f-8e26-b99a5aac630f",
   "metadata": {},
   "outputs": [
    {
     "data": {
      "image/png": "[encoded data removed]",
      "text/plain": [
       "Plot with title \"PhysHlth\""
      ]
     },
     "metadata": {
      "image/png": {
       "height": 420,
       "width": 420
      }
     },
     "output_type": "display_data"
    }
   ],
   "source": [
    "par(mfrow = c(1,3))\n",
    "boxplot(balanced_df$BMI, main = \"BMI\", col = MAIN_COLOR, las = 1, lwd = 2)\n",
    "boxplot(balanced_df$MentHlth, main = \"MentHlth\", col = MAIN_COLOR, las = 1, lwd = 2)\n",
    "boxplot(balanced_df$PhysHlth, main = \"PhysHlth\", col = MAIN_COLOR, las = 1, lwd = 2)"
   ]
  },
  {
   "cell_type": "code",
   "execution_count": 351,
   "id": "e6952c34-254f-4657-b196-385a338766d4",
   "metadata": {},
   "outputs": [
    {
     "data": {
      "image/png": "[encoded data removed]",
      "text/plain": [
       "Plot with title \"PhysHlth\""
      ]
     },
     "metadata": {
      "image/png": {
       "height": 420,
       "width": 420
      }
     },
     "output_type": "display_data"
    }
   ],
   "source": [
    "par(mfrow = c(3,1))\n",
    "hist(balanced_df$BMI, main = \"BMI\", xlab = \"BMI score\", col = MAIN_COLOR, las = 1, lwd = 2, xlim = c(0, 100))\n",
    "hist(balanced_df$MentHlth, main = \"MentHlth\", xlab = \"Number of day with Mental Health problem in last 30 days\",\n",
    "    col = MAIN_COLOR, las = 1, lwd = 2)\n",
    "hist(balanced_df$PhysHlth, main = \"PhysHlth\", xlab = \"Number of day with Physical Health problem in last 30 days\",\n",
    "    col = MAIN_COLOR, las = 1, lwd = 2)"
   ]
  },
  {
   "cell_type": "markdown",
   "id": "3b9c3b1c-a363-40ca-bd8f-e8b469509ae0",
   "metadata": {},
   "source": [
    "#### 3.4.1. BMI"
   ]
  },
  {
   "cell_type": "code",
   "execution_count": 352,
   "id": "bc02db4a-5696-40a4-9229-4c057dcc43c3",
   "metadata": {},
   "outputs": [
    {
     "data": {
      "image/png": "[encoded data removed]",
      "text/plain": [
       "Plot with title \"BMI\""
      ]
     },
     "metadata": {
      "image/png": {
       "height": 420,
       "width": 420
      }
     },
     "output_type": "display_data"
    },
    {
     "data": {
      "image/png": "[encoded data removed]",
      "text/plain": [
       "Plot with title \"BMI\""
      ]
     },
     "metadata": {
      "image/png": {
       "height": 420,
       "width": 420
      }
     },
     "output_type": "display_data"
    }
   ],
   "source": [
    "boxplot(balanced_df$BMI, main = \"BMI\", col = MAIN_COLOR, las = 1, lwd = 2)\n",
    "hist(balanced_df$BMI, main = \"BMI\", xlab = \"BMI score\", col = MAIN_COLOR, las = 1, lwd = 2, xlim = c(0, 100))"
   ]
  },
  {
   "cell_type": "code",
   "execution_count": 353,
   "id": "23b25b65-538c-4b2d-b910-df8d5693dd83",
   "metadata": {},
   "outputs": [
    {
     "name": "stdout",
     "output_type": "stream",
     "text": [
      "Maximum value of boxplot BMI: 45"
     ]
    }
   ],
   "source": [
    "BMI_q1 = quantile(balanced_df$BMI, probs = 0.25, names = F)\n",
    "BMI_q3 = quantile(balanced_df$BMI, probs = 0.75, names = F)\n",
    "BMI_upper_quartile = BMI_q3 + 1.5 * (BMI_q3 - BMI_q1)\n",
    "cat(\"Maximum value of boxplot BMI:\", BMI_upper_quartile)"
   ]
  },
  {
   "cell_type": "markdown",
   "id": "54c73519-3465-437d-a2ab-8f4aa571284e",
   "metadata": {},
   "source": [
    "#### Question: The percentage of diabetes people having BMI under 45 and over 45."
   ]
  },
  {
   "cell_type": "code",
   "execution_count": 354,
   "id": "3ba71cfe-e4cc-423e-9d61-d75302362407",
   "metadata": {},
   "outputs": [],
   "source": [
    "BMI_THRESH_HOLD = 45"
   ]
  },
  {
   "cell_type": "code",
   "execution_count": 355,
   "id": "c2b8dd28-c35b-4362-bd82-a495b4859b49",
   "metadata": {},
   "outputs": [
    {
     "data": {
      "text/plain": [
       "          \n",
       "           no diabetes diabetes\n",
       "  BMI < 45      215209   207846\n",
       "  BMI > 45        3125    10420"
      ]
     },
     "metadata": {},
     "output_type": "display_data"
    }
   ],
   "source": [
    "BMI_table = table(ifelse(balanced_df$BMI > BMI_THRESH_HOLD, sprintf(\"BMI > %d\", BMI_THRESH_HOLD), sprintf(\"BMI < %d\", BMI_THRESH_HOLD)),\n",
    "      ifelse(balanced_df$Diabetes_binary == 1, \"diabetes\", \"no diabetes\"))\n",
    "BMI_table = BMI_table[, c(2, 1)]\n",
    "BMI_table"
   ]
  },
  {
   "cell_type": "code",
   "execution_count": 356,
   "id": "cdfc75ec-3b94-4e5d-b80f-7a17a24390bd",
   "metadata": {},
   "outputs": [
    {
     "data": {
      "image/png": "[encoded data removed]",
      "text/plain": [
       "plot without title"
      ]
     },
     "metadata": {
      "image/png": {
       "height": 420,
       "width": 420
      }
     },
     "output_type": "display_data"
    }
   ],
   "source": [
    "plot_stack_bar_2x2(BMI_table)"
   ]
  },
  {
   "cell_type": "code",
   "execution_count": 357,
   "id": "dec33769-0ee1-4c8d-a35f-73ebf5c693a2",
   "metadata": {},
   "outputs": [
    {
     "data": {
      "text/html": [
       "<style>\n",
       ".dl-inline {width: auto; margin:0; padding: 0}\n",
       ".dl-inline>dt, .dl-inline>dd {float: none; width: auto; display: inline-block}\n",
       ".dl-inline>dt::after {content: \":\\0020\"; padding-right: .5ex}\n",
       ".dl-inline>dt:not(:first-of-type) {padding-left: .5ex}\n",
       "</style><dl class=dl-inline><dt>odds ratio</dt><dd>3.45252200956477</dd><dt>lwr.ci</dt><dd>3.3157338998958</dd><dt>upr.ci</dt><dd>3.59495320987722</dd></dl>\n"
      ],
      "text/latex": [
       "\\begin{description*}\n",
       "\\item[odds ratio] 3.45252200956477\n",
       "\\item[lwr.ci] 3.3157338998958\n",
       "\\item[upr.ci] 3.59495320987722\n",
       "\\end{description*}\n"
      ],
      "text/markdown": [
       "odds ratio\n",
       ":   3.45252200956477lwr.ci\n",
       ":   3.3157338998958upr.ci\n",
       ":   3.59495320987722\n",
       "\n"
      ],
      "text/plain": [
       "odds ratio     lwr.ci     upr.ci \n",
       "  3.452522   3.315734   3.594953 "
      ]
     },
     "metadata": {},
     "output_type": "display_data"
    }
   ],
   "source": [
    "DescTools::OddsRatio(BMI_table, conf.level = 0.95)"
   ]
  },
  {
   "cell_type": "code",
   "execution_count": 358,
   "id": "a7f6aa01-41f8-4cd0-a31d-d80636e03021",
   "metadata": {},
   "outputs": [],
   "source": [
    "# COMMENT\n",
    "# odds ratio = 3.452 > 1\n",
    "# People with BMI over 45 are 3.452 times more likely to have diabetes than others.\n",
    "# => Create a binary variable that to distinguish people having BMI over 45."
   ]
  },
  {
   "cell_type": "code",
   "execution_count": 359,
   "id": "5906c9dc-0cbd-4503-b5a1-e2c161d8704a",
   "metadata": {},
   "outputs": [],
   "source": [
    "if (!\"BMI_over_45\" %in% binary_cols)\n",
    "{\n",
    "    binary_cols = append(binary_cols, \"BMI_over_45\")\n",
    "}"
   ]
  },
  {
   "cell_type": "code",
   "execution_count": 360,
   "id": "62297cda-e3d1-40e0-a6b8-af7b449c46ff",
   "metadata": {},
   "outputs": [],
   "source": [
    "new_column = as.integer(ifelse(balanced_df$BMI > BMI_THRESH_HOLD, 1, 0))\n",
    "BMI_index = which(colnames(balanced_df) == \"BMI\")\n",
    "balanced_df = cbind(balanced_df[,1:BMI_index], BMI_over_45 = new_column, balanced_df[,(BMI_index+1):ncol(balanced_df)])"
   ]
  },
  {
   "cell_type": "code",
   "execution_count": 361,
   "id": "b35b11c0-3b15-4849-a5ec-b7a0b7950b53",
   "metadata": {},
   "outputs": [
    {
     "data": {
      "text/html": [
       "<table class=\"dataframe\">\n",
       "<caption>A data.frame: 436600 × 23</caption>\n",
       "<thead>\n",
       "\t<tr><th></th><th scope=col>HighBP</th><th scope=col>HighChol</th><th scope=col>CholCheck</th><th scope=col>BMI</th><th scope=col>BMI_over_45</th><th scope=col>Smoker</th><th scope=col>Stroke</th><th scope=col>HeartDiseaseorAttack</th><th scope=col>PhysActivity</th><th scope=col>Fruits</th><th scope=col>⋯</th><th scope=col>NoDocbcCost</th><th scope=col>GenHlth</th><th scope=col>MentHlth</th><th scope=col>PhysHlth</th><th scope=col>DiffWalk</th><th scope=col>Sex</th><th scope=col>Age</th><th scope=col>Education</th><th scope=col>Income</th><th scope=col>Diabetes_binary</th></tr>\n",
       "\t<tr><th></th><th scope=col>&lt;int&gt;</th><th scope=col>&lt;int&gt;</th><th scope=col>&lt;int&gt;</th><th scope=col>&lt;int&gt;</th><th scope=col>&lt;int&gt;</th><th scope=col>&lt;int&gt;</th><th scope=col>&lt;int&gt;</th><th scope=col>&lt;int&gt;</th><th scope=col>&lt;int&gt;</th><th scope=col>&lt;int&gt;</th><th scope=col>⋯</th><th scope=col>&lt;int&gt;</th><th scope=col>&lt;int&gt;</th><th scope=col>&lt;int&gt;</th><th scope=col>&lt;int&gt;</th><th scope=col>&lt;int&gt;</th><th scope=col>&lt;int&gt;</th><th scope=col>&lt;int&gt;</th><th scope=col>&lt;int&gt;</th><th scope=col>&lt;int&gt;</th><th scope=col>&lt;int&gt;</th></tr>\n",
       "</thead>\n",
       "<tbody>\n",
       "\t<tr><th scope=row>1</th><td>1</td><td>1</td><td>1</td><td>40</td><td>0</td><td>1</td><td>0</td><td>0</td><td>0</td><td>0</td><td>⋯</td><td>0</td><td>5</td><td>18</td><td>15</td><td>1</td><td>0</td><td> 9</td><td>4</td><td>3</td><td>0</td></tr>\n",
       "\t<tr><th scope=row>2</th><td>0</td><td>0</td><td>0</td><td>25</td><td>0</td><td>1</td><td>0</td><td>0</td><td>1</td><td>0</td><td>⋯</td><td>1</td><td>3</td><td> 0</td><td> 0</td><td>0</td><td>0</td><td> 7</td><td>6</td><td>1</td><td>0</td></tr>\n",
       "\t<tr><th scope=row>3</th><td>1</td><td>1</td><td>1</td><td>28</td><td>0</td><td>0</td><td>0</td><td>0</td><td>0</td><td>1</td><td>⋯</td><td>1</td><td>5</td><td>30</td><td>30</td><td>1</td><td>0</td><td> 9</td><td>4</td><td>8</td><td>0</td></tr>\n",
       "\t<tr><th scope=row>4</th><td>1</td><td>0</td><td>1</td><td>27</td><td>0</td><td>0</td><td>0</td><td>0</td><td>1</td><td>1</td><td>⋯</td><td>0</td><td>2</td><td> 0</td><td> 0</td><td>0</td><td>0</td><td>11</td><td>3</td><td>6</td><td>0</td></tr>\n",
       "\t<tr><th scope=row>5</th><td>1</td><td>1</td><td>1</td><td>24</td><td>0</td><td>0</td><td>0</td><td>0</td><td>1</td><td>1</td><td>⋯</td><td>0</td><td>2</td><td> 3</td><td> 0</td><td>0</td><td>0</td><td>11</td><td>5</td><td>4</td><td>0</td></tr>\n",
       "\t<tr><th scope=row>6</th><td>1</td><td>1</td><td>1</td><td>25</td><td>0</td><td>1</td><td>0</td><td>0</td><td>1</td><td>1</td><td>⋯</td><td>0</td><td>2</td><td> 0</td><td> 2</td><td>0</td><td>1</td><td>10</td><td>6</td><td>8</td><td>0</td></tr>\n",
       "\t<tr><th scope=row>7</th><td>1</td><td>0</td><td>1</td><td>30</td><td>0</td><td>1</td><td>0</td><td>0</td><td>0</td><td>0</td><td>⋯</td><td>0</td><td>3</td><td> 0</td><td>14</td><td>0</td><td>0</td><td> 9</td><td>6</td><td>7</td><td>0</td></tr>\n",
       "\t<tr><th scope=row>8</th><td>1</td><td>1</td><td>1</td><td>25</td><td>0</td><td>1</td><td>0</td><td>0</td><td>1</td><td>0</td><td>⋯</td><td>0</td><td>3</td><td> 0</td><td> 0</td><td>1</td><td>0</td><td>11</td><td>4</td><td>4</td><td>0</td></tr>\n",
       "\t<tr><th scope=row>9</th><td>0</td><td>0</td><td>1</td><td>24</td><td>0</td><td>0</td><td>0</td><td>0</td><td>0</td><td>0</td><td>⋯</td><td>0</td><td>2</td><td> 0</td><td> 0</td><td>0</td><td>1</td><td> 8</td><td>4</td><td>3</td><td>0</td></tr>\n",
       "\t<tr><th scope=row>10</th><td>1</td><td>1</td><td>1</td><td>34</td><td>0</td><td>1</td><td>0</td><td>0</td><td>0</td><td>1</td><td>⋯</td><td>0</td><td>3</td><td> 0</td><td>30</td><td>1</td><td>0</td><td>10</td><td>5</td><td>1</td><td>0</td></tr>\n",
       "\t<tr><th scope=row>11</th><td>0</td><td>0</td><td>1</td><td>26</td><td>0</td><td>1</td><td>0</td><td>0</td><td>0</td><td>0</td><td>⋯</td><td>0</td><td>3</td><td> 0</td><td>15</td><td>0</td><td>0</td><td> 7</td><td>5</td><td>7</td><td>0</td></tr>\n",
       "\t<tr><th scope=row>12</th><td>0</td><td>1</td><td>1</td><td>33</td><td>0</td><td>1</td><td>1</td><td>0</td><td>1</td><td>0</td><td>⋯</td><td>1</td><td>4</td><td>30</td><td>28</td><td>0</td><td>0</td><td> 4</td><td>6</td><td>2</td><td>0</td></tr>\n",
       "\t<tr><th scope=row>13</th><td>1</td><td>0</td><td>1</td><td>33</td><td>0</td><td>0</td><td>0</td><td>0</td><td>1</td><td>0</td><td>⋯</td><td>0</td><td>2</td><td> 5</td><td> 0</td><td>0</td><td>0</td><td> 6</td><td>6</td><td>8</td><td>0</td></tr>\n",
       "\t<tr><th scope=row>14</th><td>1</td><td>1</td><td>1</td><td>21</td><td>0</td><td>0</td><td>0</td><td>0</td><td>1</td><td>1</td><td>⋯</td><td>0</td><td>3</td><td> 0</td><td> 0</td><td>0</td><td>0</td><td>10</td><td>4</td><td>3</td><td>0</td></tr>\n",
       "\t<tr><th scope=row>15</th><td>0</td><td>0</td><td>0</td><td>23</td><td>0</td><td>0</td><td>0</td><td>0</td><td>0</td><td>0</td><td>⋯</td><td>0</td><td>2</td><td>15</td><td> 0</td><td>0</td><td>0</td><td> 2</td><td>6</td><td>7</td><td>0</td></tr>\n",
       "\t<tr><th scope=row>16</th><td>0</td><td>1</td><td>1</td><td>28</td><td>0</td><td>0</td><td>0</td><td>0</td><td>0</td><td>0</td><td>⋯</td><td>0</td><td>2</td><td>10</td><td> 0</td><td>0</td><td>1</td><td> 4</td><td>6</td><td>8</td><td>0</td></tr>\n",
       "\t<tr><th scope=row>17</th><td>1</td><td>1</td><td>1</td><td>22</td><td>0</td><td>0</td><td>1</td><td>1</td><td>0</td><td>1</td><td>⋯</td><td>0</td><td>3</td><td>30</td><td> 0</td><td>1</td><td>0</td><td>12</td><td>4</td><td>4</td><td>0</td></tr>\n",
       "\t<tr><th scope=row>18</th><td>1</td><td>1</td><td>1</td><td>38</td><td>0</td><td>1</td><td>0</td><td>0</td><td>0</td><td>1</td><td>⋯</td><td>0</td><td>5</td><td>15</td><td>30</td><td>1</td><td>0</td><td>13</td><td>2</td><td>3</td><td>0</td></tr>\n",
       "\t<tr><th scope=row>19</th><td>0</td><td>0</td><td>1</td><td>28</td><td>0</td><td>1</td><td>0</td><td>0</td><td>0</td><td>0</td><td>⋯</td><td>0</td><td>3</td><td> 0</td><td> 7</td><td>0</td><td>1</td><td> 5</td><td>5</td><td>5</td><td>0</td></tr>\n",
       "\t<tr><th scope=row>20</th><td>1</td><td>1</td><td>1</td><td>28</td><td>0</td><td>1</td><td>0</td><td>0</td><td>0</td><td>1</td><td>⋯</td><td>0</td><td>3</td><td> 6</td><td> 0</td><td>1</td><td>0</td><td> 9</td><td>4</td><td>6</td><td>0</td></tr>\n",
       "\t<tr><th scope=row>21</th><td>0</td><td>0</td><td>1</td><td>32</td><td>0</td><td>0</td><td>0</td><td>0</td><td>1</td><td>1</td><td>⋯</td><td>0</td><td>2</td><td> 0</td><td> 0</td><td>0</td><td>0</td><td> 5</td><td>6</td><td>8</td><td>0</td></tr>\n",
       "\t<tr><th scope=row>22</th><td>0</td><td>1</td><td>1</td><td>31</td><td>0</td><td>1</td><td>0</td><td>0</td><td>1</td><td>1</td><td>⋯</td><td>0</td><td>1</td><td> 0</td><td> 0</td><td>0</td><td>1</td><td>12</td><td>6</td><td>8</td><td>0</td></tr>\n",
       "\t<tr><th scope=row>23</th><td>1</td><td>0</td><td>1</td><td>33</td><td>0</td><td>1</td><td>0</td><td>0</td><td>1</td><td>1</td><td>⋯</td><td>0</td><td>1</td><td> 0</td><td> 0</td><td>1</td><td>1</td><td>13</td><td>3</td><td>3</td><td>0</td></tr>\n",
       "\t<tr><th scope=row>24</th><td>0</td><td>0</td><td>1</td><td>23</td><td>0</td><td>0</td><td>0</td><td>0</td><td>1</td><td>1</td><td>⋯</td><td>0</td><td>1</td><td> 2</td><td> 0</td><td>0</td><td>0</td><td> 6</td><td>4</td><td>8</td><td>0</td></tr>\n",
       "\t<tr><th scope=row>25</th><td>1</td><td>0</td><td>1</td><td>31</td><td>0</td><td>0</td><td>0</td><td>0</td><td>1</td><td>0</td><td>⋯</td><td>0</td><td>3</td><td> 0</td><td> 0</td><td>0</td><td>1</td><td>11</td><td>6</td><td>2</td><td>0</td></tr>\n",
       "\t<tr><th scope=row>26</th><td>1</td><td>0</td><td>1</td><td>26</td><td>0</td><td>0</td><td>0</td><td>0</td><td>1</td><td>1</td><td>⋯</td><td>0</td><td>2</td><td> 0</td><td> 0</td><td>0</td><td>0</td><td> 9</td><td>4</td><td>4</td><td>0</td></tr>\n",
       "\t<tr><th scope=row>27</th><td>1</td><td>1</td><td>1</td><td>24</td><td>0</td><td>1</td><td>0</td><td>0</td><td>1</td><td>0</td><td>⋯</td><td>0</td><td>3</td><td> 5</td><td> 3</td><td>1</td><td>1</td><td> 8</td><td>4</td><td>3</td><td>0</td></tr>\n",
       "\t<tr><th scope=row>28</th><td>0</td><td>0</td><td>1</td><td>22</td><td>0</td><td>0</td><td>0</td><td>0</td><td>1</td><td>1</td><td>⋯</td><td>0</td><td>2</td><td> 0</td><td>10</td><td>0</td><td>0</td><td>12</td><td>5</td><td>7</td><td>0</td></tr>\n",
       "\t<tr><th scope=row>29</th><td>0</td><td>0</td><td>1</td><td>26</td><td>0</td><td>1</td><td>0</td><td>0</td><td>1</td><td>1</td><td>⋯</td><td>0</td><td>1</td><td> 0</td><td> 1</td><td>0</td><td>1</td><td> 4</td><td>5</td><td>3</td><td>0</td></tr>\n",
       "\t<tr><th scope=row>30</th><td>1</td><td>1</td><td>1</td><td>24</td><td>0</td><td>1</td><td>0</td><td>0</td><td>0</td><td>1</td><td>⋯</td><td>0</td><td>5</td><td> 0</td><td>30</td><td>0</td><td>1</td><td> 9</td><td>3</td><td>1</td><td>0</td></tr>\n",
       "\t<tr><th scope=row>⋮</th><td>⋮</td><td>⋮</td><td>⋮</td><td>⋮</td><td>⋮</td><td>⋮</td><td>⋮</td><td>⋮</td><td>⋮</td><td>⋮</td><td>⋱</td><td>⋮</td><td>⋮</td><td>⋮</td><td>⋮</td><td>⋮</td><td>⋮</td><td>⋮</td><td>⋮</td><td>⋮</td><td>⋮</td></tr>\n",
       "\t<tr><th scope=row>436571</th><td>1</td><td>1</td><td>1</td><td>29</td><td>0</td><td>0</td><td>0</td><td>0</td><td>1</td><td>0</td><td>⋯</td><td>0</td><td>3</td><td> 0</td><td> 1</td><td>0</td><td>1</td><td>11</td><td>5</td><td>5</td><td>1</td></tr>\n",
       "\t<tr><th scope=row>436572</th><td>1</td><td>0</td><td>1</td><td>25</td><td>0</td><td>1</td><td>0</td><td>0</td><td>0</td><td>0</td><td>⋯</td><td>0</td><td>4</td><td> 2</td><td> 5</td><td>0</td><td>0</td><td> 9</td><td>5</td><td>4</td><td>1</td></tr>\n",
       "\t<tr><th scope=row>436573</th><td>1</td><td>1</td><td>1</td><td>49</td><td>1</td><td>1</td><td>0</td><td>0</td><td>1</td><td>1</td><td>⋯</td><td>0</td><td>5</td><td>10</td><td> 6</td><td>0</td><td>0</td><td> 7</td><td>4</td><td>2</td><td>1</td></tr>\n",
       "\t<tr><th scope=row>436574</th><td>0</td><td>1</td><td>1</td><td>37</td><td>0</td><td>1</td><td>0</td><td>0</td><td>1</td><td>0</td><td>⋯</td><td>0</td><td>2</td><td> 0</td><td> 0</td><td>0</td><td>1</td><td> 8</td><td>4</td><td>8</td><td>1</td></tr>\n",
       "\t<tr><th scope=row>436575</th><td>0</td><td>1</td><td>1</td><td>34</td><td>0</td><td>1</td><td>0</td><td>1</td><td>0</td><td>1</td><td>⋯</td><td>0</td><td>4</td><td> 0</td><td> 0</td><td>0</td><td>0</td><td>12</td><td>4</td><td>5</td><td>1</td></tr>\n",
       "\t<tr><th scope=row>436576</th><td>0</td><td>1</td><td>1</td><td>34</td><td>0</td><td>0</td><td>0</td><td>0</td><td>0</td><td>1</td><td>⋯</td><td>0</td><td>4</td><td> 0</td><td> 3</td><td>1</td><td>0</td><td>10</td><td>6</td><td>4</td><td>1</td></tr>\n",
       "\t<tr><th scope=row>436577</th><td>1</td><td>1</td><td>1</td><td>33</td><td>0</td><td>0</td><td>0</td><td>0</td><td>1</td><td>1</td><td>⋯</td><td>1</td><td>3</td><td> 0</td><td> 0</td><td>0</td><td>0</td><td> 3</td><td>6</td><td>8</td><td>1</td></tr>\n",
       "\t<tr><th scope=row>436578</th><td>1</td><td>1</td><td>1</td><td>45</td><td>0</td><td>1</td><td>0</td><td>1</td><td>0</td><td>0</td><td>⋯</td><td>0</td><td>3</td><td> 5</td><td>15</td><td>1</td><td>0</td><td>10</td><td>4</td><td>3</td><td>1</td></tr>\n",
       "\t<tr><th scope=row>436579</th><td>1</td><td>1</td><td>1</td><td>30</td><td>0</td><td>0</td><td>0</td><td>0</td><td>0</td><td>1</td><td>⋯</td><td>1</td><td>5</td><td>25</td><td>30</td><td>1</td><td>1</td><td> 7</td><td>6</td><td>2</td><td>1</td></tr>\n",
       "\t<tr><th scope=row>436580</th><td>1</td><td>0</td><td>1</td><td>29</td><td>0</td><td>0</td><td>0</td><td>0</td><td>1</td><td>1</td><td>⋯</td><td>0</td><td>1</td><td> 0</td><td> 1</td><td>0</td><td>0</td><td>10</td><td>6</td><td>8</td><td>1</td></tr>\n",
       "\t<tr><th scope=row>436581</th><td>1</td><td>1</td><td>1</td><td>30</td><td>0</td><td>0</td><td>0</td><td>0</td><td>1</td><td>1</td><td>⋯</td><td>0</td><td>4</td><td>30</td><td> 3</td><td>0</td><td>0</td><td> 5</td><td>6</td><td>7</td><td>1</td></tr>\n",
       "\t<tr><th scope=row>436582</th><td>1</td><td>1</td><td>1</td><td>27</td><td>0</td><td>0</td><td>1</td><td>1</td><td>1</td><td>0</td><td>⋯</td><td>0</td><td>3</td><td> 0</td><td> 1</td><td>0</td><td>1</td><td>13</td><td>5</td><td>8</td><td>1</td></tr>\n",
       "\t<tr><th scope=row>436583</th><td>1</td><td>1</td><td>1</td><td>33</td><td>0</td><td>1</td><td>0</td><td>0</td><td>0</td><td>0</td><td>⋯</td><td>0</td><td>4</td><td> 0</td><td>28</td><td>1</td><td>1</td><td>13</td><td>3</td><td>7</td><td>1</td></tr>\n",
       "\t<tr><th scope=row>436584</th><td>1</td><td>0</td><td>1</td><td>28</td><td>0</td><td>0</td><td>0</td><td>0</td><td>1</td><td>1</td><td>⋯</td><td>0</td><td>2</td><td> 0</td><td> 0</td><td>0</td><td>0</td><td>10</td><td>3</td><td>2</td><td>1</td></tr>\n",
       "\t<tr><th scope=row>436585</th><td>1</td><td>1</td><td>1</td><td>27</td><td>0</td><td>0</td><td>0</td><td>0</td><td>0</td><td>1</td><td>⋯</td><td>0</td><td>5</td><td> 0</td><td>30</td><td>0</td><td>0</td><td>13</td><td>6</td><td>3</td><td>1</td></tr>\n",
       "\t<tr><th scope=row>436586</th><td>0</td><td>1</td><td>1</td><td>35</td><td>0</td><td>0</td><td>0</td><td>0</td><td>0</td><td>0</td><td>⋯</td><td>0</td><td>3</td><td> 0</td><td> 5</td><td>0</td><td>0</td><td> 2</td><td>6</td><td>7</td><td>1</td></tr>\n",
       "\t<tr><th scope=row>436587</th><td>1</td><td>1</td><td>1</td><td>26</td><td>0</td><td>0</td><td>0</td><td>1</td><td>1</td><td>0</td><td>⋯</td><td>0</td><td>5</td><td> 0</td><td> 0</td><td>1</td><td>0</td><td>11</td><td>4</td><td>4</td><td>1</td></tr>\n",
       "\t<tr><th scope=row>436588</th><td>0</td><td>0</td><td>1</td><td>27</td><td>0</td><td>1</td><td>0</td><td>0</td><td>1</td><td>1</td><td>⋯</td><td>0</td><td>4</td><td> 0</td><td> 0</td><td>0</td><td>1</td><td> 9</td><td>2</td><td>2</td><td>1</td></tr>\n",
       "\t<tr><th scope=row>436589</th><td>1</td><td>0</td><td>1</td><td>38</td><td>0</td><td>0</td><td>0</td><td>0</td><td>1</td><td>1</td><td>⋯</td><td>1</td><td>4</td><td> 0</td><td> 0</td><td>0</td><td>0</td><td> 6</td><td>6</td><td>3</td><td>1</td></tr>\n",
       "\t<tr><th scope=row>436590</th><td>1</td><td>1</td><td>1</td><td>36</td><td>0</td><td>0</td><td>0</td><td>0</td><td>0</td><td>1</td><td>⋯</td><td>0</td><td>2</td><td> 4</td><td>10</td><td>0</td><td>1</td><td> 8</td><td>6</td><td>7</td><td>1</td></tr>\n",
       "\t<tr><th scope=row>436591</th><td>1</td><td>0</td><td>1</td><td>26</td><td>0</td><td>1</td><td>0</td><td>0</td><td>0</td><td>0</td><td>⋯</td><td>1</td><td>5</td><td> 0</td><td>30</td><td>1</td><td>1</td><td> 6</td><td>4</td><td>1</td><td>1</td></tr>\n",
       "\t<tr><th scope=row>436592</th><td>1</td><td>1</td><td>1</td><td>28</td><td>0</td><td>0</td><td>0</td><td>0</td><td>1</td><td>0</td><td>⋯</td><td>0</td><td>2</td><td> 0</td><td> 2</td><td>0</td><td>1</td><td>11</td><td>4</td><td>4</td><td>1</td></tr>\n",
       "\t<tr><th scope=row>436593</th><td>1</td><td>1</td><td>1</td><td>30</td><td>0</td><td>1</td><td>0</td><td>0</td><td>1</td><td>1</td><td>⋯</td><td>0</td><td>2</td><td> 0</td><td> 0</td><td>1</td><td>1</td><td>13</td><td>6</td><td>7</td><td>1</td></tr>\n",
       "\t<tr><th scope=row>436594</th><td>0</td><td>1</td><td>1</td><td>26</td><td>0</td><td>0</td><td>0</td><td>0</td><td>1</td><td>1</td><td>⋯</td><td>1</td><td>3</td><td> 0</td><td> 0</td><td>0</td><td>0</td><td> 9</td><td>6</td><td>1</td><td>1</td></tr>\n",
       "\t<tr><th scope=row>436595</th><td>1</td><td>1</td><td>1</td><td>42</td><td>0</td><td>1</td><td>0</td><td>1</td><td>0</td><td>0</td><td>⋯</td><td>0</td><td>5</td><td>30</td><td>30</td><td>1</td><td>1</td><td>12</td><td>3</td><td>3</td><td>1</td></tr>\n",
       "\t<tr><th scope=row>436596</th><td>0</td><td>1</td><td>1</td><td>35</td><td>0</td><td>1</td><td>0</td><td>0</td><td>1</td><td>1</td><td>⋯</td><td>0</td><td>3</td><td> 0</td><td> 2</td><td>0</td><td>0</td><td> 8</td><td>5</td><td>8</td><td>1</td></tr>\n",
       "\t<tr><th scope=row>436597</th><td>0</td><td>0</td><td>1</td><td>20</td><td>0</td><td>0</td><td>0</td><td>0</td><td>1</td><td>1</td><td>⋯</td><td>0</td><td>1</td><td> 0</td><td> 0</td><td>0</td><td>1</td><td>10</td><td>4</td><td>7</td><td>1</td></tr>\n",
       "\t<tr><th scope=row>436598</th><td>1</td><td>1</td><td>1</td><td>42</td><td>0</td><td>0</td><td>0</td><td>0</td><td>1</td><td>1</td><td>⋯</td><td>0</td><td>3</td><td>30</td><td>20</td><td>0</td><td>0</td><td> 8</td><td>6</td><td>5</td><td>1</td></tr>\n",
       "\t<tr><th scope=row>436599</th><td>1</td><td>1</td><td>1</td><td>28</td><td>0</td><td>0</td><td>0</td><td>0</td><td>1</td><td>0</td><td>⋯</td><td>0</td><td>2</td><td> 0</td><td> 0</td><td>0</td><td>1</td><td>11</td><td>6</td><td>8</td><td>1</td></tr>\n",
       "\t<tr><th scope=row>436600</th><td>0</td><td>0</td><td>1</td><td>30</td><td>0</td><td>1</td><td>0</td><td>0</td><td>1</td><td>1</td><td>⋯</td><td>0</td><td>3</td><td> 0</td><td> 6</td><td>1</td><td>0</td><td> 6</td><td>5</td><td>3</td><td>1</td></tr>\n",
       "</tbody>\n",
       "</table>\n"
      ],
      "text/latex": [
       "A data.frame: 436600 × 23\n",
       "\\begin{tabular}{r|lllllllllllllllllllll}\n",
       "  & HighBP & HighChol & CholCheck & BMI & BMI\\_over\\_45 & Smoker & Stroke & HeartDiseaseorAttack & PhysActivity & Fruits & ⋯ & NoDocbcCost & GenHlth & MentHlth & PhysHlth & DiffWalk & Sex & Age & Education & Income & Diabetes\\_binary\\\\\n",
       "  & <int> & <int> & <int> & <int> & <int> & <int> & <int> & <int> & <int> & <int> & ⋯ & <int> & <int> & <int> & <int> & <int> & <int> & <int> & <int> & <int> & <int>\\\\\n",
       "\\hline\n",
       "\t1 & 1 & 1 & 1 & 40 & 0 & 1 & 0 & 0 & 0 & 0 & ⋯ & 0 & 5 & 18 & 15 & 1 & 0 &  9 & 4 & 3 & 0\\\\\n",
       "\t2 & 0 & 0 & 0 & 25 & 0 & 1 & 0 & 0 & 1 & 0 & ⋯ & 1 & 3 &  0 &  0 & 0 & 0 &  7 & 6 & 1 & 0\\\\\n",
       "\t3 & 1 & 1 & 1 & 28 & 0 & 0 & 0 & 0 & 0 & 1 & ⋯ & 1 & 5 & 30 & 30 & 1 & 0 &  9 & 4 & 8 & 0\\\\\n",
       "\t4 & 1 & 0 & 1 & 27 & 0 & 0 & 0 & 0 & 1 & 1 & ⋯ & 0 & 2 &  0 &  0 & 0 & 0 & 11 & 3 & 6 & 0\\\\\n",
       "\t5 & 1 & 1 & 1 & 24 & 0 & 0 & 0 & 0 & 1 & 1 & ⋯ & 0 & 2 &  3 &  0 & 0 & 0 & 11 & 5 & 4 & 0\\\\\n",
       "\t6 & 1 & 1 & 1 & 25 & 0 & 1 & 0 & 0 & 1 & 1 & ⋯ & 0 & 2 &  0 &  2 & 0 & 1 & 10 & 6 & 8 & 0\\\\\n",
       "\t7 & 1 & 0 & 1 & 30 & 0 & 1 & 0 & 0 & 0 & 0 & ⋯ & 0 & 3 &  0 & 14 & 0 & 0 &  9 & 6 & 7 & 0\\\\\n",
       "\t8 & 1 & 1 & 1 & 25 & 0 & 1 & 0 & 0 & 1 & 0 & ⋯ & 0 & 3 &  0 &  0 & 1 & 0 & 11 & 4 & 4 & 0\\\\\n",
       "\t9 & 0 & 0 & 1 & 24 & 0 & 0 & 0 & 0 & 0 & 0 & ⋯ & 0 & 2 &  0 &  0 & 0 & 1 &  8 & 4 & 3 & 0\\\\\n",
       "\t10 & 1 & 1 & 1 & 34 & 0 & 1 & 0 & 0 & 0 & 1 & ⋯ & 0 & 3 &  0 & 30 & 1 & 0 & 10 & 5 & 1 & 0\\\\\n",
       "\t11 & 0 & 0 & 1 & 26 & 0 & 1 & 0 & 0 & 0 & 0 & ⋯ & 0 & 3 &  0 & 15 & 0 & 0 &  7 & 5 & 7 & 0\\\\\n",
       "\t12 & 0 & 1 & 1 & 33 & 0 & 1 & 1 & 0 & 1 & 0 & ⋯ & 1 & 4 & 30 & 28 & 0 & 0 &  4 & 6 & 2 & 0\\\\\n",
       "\t13 & 1 & 0 & 1 & 33 & 0 & 0 & 0 & 0 & 1 & 0 & ⋯ & 0 & 2 &  5 &  0 & 0 & 0 &  6 & 6 & 8 & 0\\\\\n",
       "\t14 & 1 & 1 & 1 & 21 & 0 & 0 & 0 & 0 & 1 & 1 & ⋯ & 0 & 3 &  0 &  0 & 0 & 0 & 10 & 4 & 3 & 0\\\\\n",
       "\t15 & 0 & 0 & 0 & 23 & 0 & 0 & 0 & 0 & 0 & 0 & ⋯ & 0 & 2 & 15 &  0 & 0 & 0 &  2 & 6 & 7 & 0\\\\\n",
       "\t16 & 0 & 1 & 1 & 28 & 0 & 0 & 0 & 0 & 0 & 0 & ⋯ & 0 & 2 & 10 &  0 & 0 & 1 &  4 & 6 & 8 & 0\\\\\n",
       "\t17 & 1 & 1 & 1 & 22 & 0 & 0 & 1 & 1 & 0 & 1 & ⋯ & 0 & 3 & 30 &  0 & 1 & 0 & 12 & 4 & 4 & 0\\\\\n",
       "\t18 & 1 & 1 & 1 & 38 & 0 & 1 & 0 & 0 & 0 & 1 & ⋯ & 0 & 5 & 15 & 30 & 1 & 0 & 13 & 2 & 3 & 0\\\\\n",
       "\t19 & 0 & 0 & 1 & 28 & 0 & 1 & 0 & 0 & 0 & 0 & ⋯ & 0 & 3 &  0 &  7 & 0 & 1 &  5 & 5 & 5 & 0\\\\\n",
       "\t20 & 1 & 1 & 1 & 28 & 0 & 1 & 0 & 0 & 0 & 1 & ⋯ & 0 & 3 &  6 &  0 & 1 & 0 &  9 & 4 & 6 & 0\\\\\n",
       "\t21 & 0 & 0 & 1 & 32 & 0 & 0 & 0 & 0 & 1 & 1 & ⋯ & 0 & 2 &  0 &  0 & 0 & 0 &  5 & 6 & 8 & 0\\\\\n",
       "\t22 & 0 & 1 & 1 & 31 & 0 & 1 & 0 & 0 & 1 & 1 & ⋯ & 0 & 1 &  0 &  0 & 0 & 1 & 12 & 6 & 8 & 0\\\\\n",
       "\t23 & 1 & 0 & 1 & 33 & 0 & 1 & 0 & 0 & 1 & 1 & ⋯ & 0 & 1 &  0 &  0 & 1 & 1 & 13 & 3 & 3 & 0\\\\\n",
       "\t24 & 0 & 0 & 1 & 23 & 0 & 0 & 0 & 0 & 1 & 1 & ⋯ & 0 & 1 &  2 &  0 & 0 & 0 &  6 & 4 & 8 & 0\\\\\n",
       "\t25 & 1 & 0 & 1 & 31 & 0 & 0 & 0 & 0 & 1 & 0 & ⋯ & 0 & 3 &  0 &  0 & 0 & 1 & 11 & 6 & 2 & 0\\\\\n",
       "\t26 & 1 & 0 & 1 & 26 & 0 & 0 & 0 & 0 & 1 & 1 & ⋯ & 0 & 2 &  0 &  0 & 0 & 0 &  9 & 4 & 4 & 0\\\\\n",
       "\t27 & 1 & 1 & 1 & 24 & 0 & 1 & 0 & 0 & 1 & 0 & ⋯ & 0 & 3 &  5 &  3 & 1 & 1 &  8 & 4 & 3 & 0\\\\\n",
       "\t28 & 0 & 0 & 1 & 22 & 0 & 0 & 0 & 0 & 1 & 1 & ⋯ & 0 & 2 &  0 & 10 & 0 & 0 & 12 & 5 & 7 & 0\\\\\n",
       "\t29 & 0 & 0 & 1 & 26 & 0 & 1 & 0 & 0 & 1 & 1 & ⋯ & 0 & 1 &  0 &  1 & 0 & 1 &  4 & 5 & 3 & 0\\\\\n",
       "\t30 & 1 & 1 & 1 & 24 & 0 & 1 & 0 & 0 & 0 & 1 & ⋯ & 0 & 5 &  0 & 30 & 0 & 1 &  9 & 3 & 1 & 0\\\\\n",
       "\t⋮ & ⋮ & ⋮ & ⋮ & ⋮ & ⋮ & ⋮ & ⋮ & ⋮ & ⋮ & ⋮ & ⋱ & ⋮ & ⋮ & ⋮ & ⋮ & ⋮ & ⋮ & ⋮ & ⋮ & ⋮ & ⋮\\\\\n",
       "\t436571 & 1 & 1 & 1 & 29 & 0 & 0 & 0 & 0 & 1 & 0 & ⋯ & 0 & 3 &  0 &  1 & 0 & 1 & 11 & 5 & 5 & 1\\\\\n",
       "\t436572 & 1 & 0 & 1 & 25 & 0 & 1 & 0 & 0 & 0 & 0 & ⋯ & 0 & 4 &  2 &  5 & 0 & 0 &  9 & 5 & 4 & 1\\\\\n",
       "\t436573 & 1 & 1 & 1 & 49 & 1 & 1 & 0 & 0 & 1 & 1 & ⋯ & 0 & 5 & 10 &  6 & 0 & 0 &  7 & 4 & 2 & 1\\\\\n",
       "\t436574 & 0 & 1 & 1 & 37 & 0 & 1 & 0 & 0 & 1 & 0 & ⋯ & 0 & 2 &  0 &  0 & 0 & 1 &  8 & 4 & 8 & 1\\\\\n",
       "\t436575 & 0 & 1 & 1 & 34 & 0 & 1 & 0 & 1 & 0 & 1 & ⋯ & 0 & 4 &  0 &  0 & 0 & 0 & 12 & 4 & 5 & 1\\\\\n",
       "\t436576 & 0 & 1 & 1 & 34 & 0 & 0 & 0 & 0 & 0 & 1 & ⋯ & 0 & 4 &  0 &  3 & 1 & 0 & 10 & 6 & 4 & 1\\\\\n",
       "\t436577 & 1 & 1 & 1 & 33 & 0 & 0 & 0 & 0 & 1 & 1 & ⋯ & 1 & 3 &  0 &  0 & 0 & 0 &  3 & 6 & 8 & 1\\\\\n",
       "\t436578 & 1 & 1 & 1 & 45 & 0 & 1 & 0 & 1 & 0 & 0 & ⋯ & 0 & 3 &  5 & 15 & 1 & 0 & 10 & 4 & 3 & 1\\\\\n",
       "\t436579 & 1 & 1 & 1 & 30 & 0 & 0 & 0 & 0 & 0 & 1 & ⋯ & 1 & 5 & 25 & 30 & 1 & 1 &  7 & 6 & 2 & 1\\\\\n",
       "\t436580 & 1 & 0 & 1 & 29 & 0 & 0 & 0 & 0 & 1 & 1 & ⋯ & 0 & 1 &  0 &  1 & 0 & 0 & 10 & 6 & 8 & 1\\\\\n",
       "\t436581 & 1 & 1 & 1 & 30 & 0 & 0 & 0 & 0 & 1 & 1 & ⋯ & 0 & 4 & 30 &  3 & 0 & 0 &  5 & 6 & 7 & 1\\\\\n",
       "\t436582 & 1 & 1 & 1 & 27 & 0 & 0 & 1 & 1 & 1 & 0 & ⋯ & 0 & 3 &  0 &  1 & 0 & 1 & 13 & 5 & 8 & 1\\\\\n",
       "\t436583 & 1 & 1 & 1 & 33 & 0 & 1 & 0 & 0 & 0 & 0 & ⋯ & 0 & 4 &  0 & 28 & 1 & 1 & 13 & 3 & 7 & 1\\\\\n",
       "\t436584 & 1 & 0 & 1 & 28 & 0 & 0 & 0 & 0 & 1 & 1 & ⋯ & 0 & 2 &  0 &  0 & 0 & 0 & 10 & 3 & 2 & 1\\\\\n",
       "\t436585 & 1 & 1 & 1 & 27 & 0 & 0 & 0 & 0 & 0 & 1 & ⋯ & 0 & 5 &  0 & 30 & 0 & 0 & 13 & 6 & 3 & 1\\\\\n",
       "\t436586 & 0 & 1 & 1 & 35 & 0 & 0 & 0 & 0 & 0 & 0 & ⋯ & 0 & 3 &  0 &  5 & 0 & 0 &  2 & 6 & 7 & 1\\\\\n",
       "\t436587 & 1 & 1 & 1 & 26 & 0 & 0 & 0 & 1 & 1 & 0 & ⋯ & 0 & 5 &  0 &  0 & 1 & 0 & 11 & 4 & 4 & 1\\\\\n",
       "\t436588 & 0 & 0 & 1 & 27 & 0 & 1 & 0 & 0 & 1 & 1 & ⋯ & 0 & 4 &  0 &  0 & 0 & 1 &  9 & 2 & 2 & 1\\\\\n",
       "\t436589 & 1 & 0 & 1 & 38 & 0 & 0 & 0 & 0 & 1 & 1 & ⋯ & 1 & 4 &  0 &  0 & 0 & 0 &  6 & 6 & 3 & 1\\\\\n",
       "\t436590 & 1 & 1 & 1 & 36 & 0 & 0 & 0 & 0 & 0 & 1 & ⋯ & 0 & 2 &  4 & 10 & 0 & 1 &  8 & 6 & 7 & 1\\\\\n",
       "\t436591 & 1 & 0 & 1 & 26 & 0 & 1 & 0 & 0 & 0 & 0 & ⋯ & 1 & 5 &  0 & 30 & 1 & 1 &  6 & 4 & 1 & 1\\\\\n",
       "\t436592 & 1 & 1 & 1 & 28 & 0 & 0 & 0 & 0 & 1 & 0 & ⋯ & 0 & 2 &  0 &  2 & 0 & 1 & 11 & 4 & 4 & 1\\\\\n",
       "\t436593 & 1 & 1 & 1 & 30 & 0 & 1 & 0 & 0 & 1 & 1 & ⋯ & 0 & 2 &  0 &  0 & 1 & 1 & 13 & 6 & 7 & 1\\\\\n",
       "\t436594 & 0 & 1 & 1 & 26 & 0 & 0 & 0 & 0 & 1 & 1 & ⋯ & 1 & 3 &  0 &  0 & 0 & 0 &  9 & 6 & 1 & 1\\\\\n",
       "\t436595 & 1 & 1 & 1 & 42 & 0 & 1 & 0 & 1 & 0 & 0 & ⋯ & 0 & 5 & 30 & 30 & 1 & 1 & 12 & 3 & 3 & 1\\\\\n",
       "\t436596 & 0 & 1 & 1 & 35 & 0 & 1 & 0 & 0 & 1 & 1 & ⋯ & 0 & 3 &  0 &  2 & 0 & 0 &  8 & 5 & 8 & 1\\\\\n",
       "\t436597 & 0 & 0 & 1 & 20 & 0 & 0 & 0 & 0 & 1 & 1 & ⋯ & 0 & 1 &  0 &  0 & 0 & 1 & 10 & 4 & 7 & 1\\\\\n",
       "\t436598 & 1 & 1 & 1 & 42 & 0 & 0 & 0 & 0 & 1 & 1 & ⋯ & 0 & 3 & 30 & 20 & 0 & 0 &  8 & 6 & 5 & 1\\\\\n",
       "\t436599 & 1 & 1 & 1 & 28 & 0 & 0 & 0 & 0 & 1 & 0 & ⋯ & 0 & 2 &  0 &  0 & 0 & 1 & 11 & 6 & 8 & 1\\\\\n",
       "\t436600 & 0 & 0 & 1 & 30 & 0 & 1 & 0 & 0 & 1 & 1 & ⋯ & 0 & 3 &  0 &  6 & 1 & 0 &  6 & 5 & 3 & 1\\\\\n",
       "\\end{tabular}\n"
      ],
      "text/markdown": [
       "\n",
       "A data.frame: 436600 × 23\n",
       "\n",
       "| <!--/--> | HighBP &lt;int&gt; | HighChol &lt;int&gt; | CholCheck &lt;int&gt; | BMI &lt;int&gt; | BMI_over_45 &lt;int&gt; | Smoker &lt;int&gt; | Stroke &lt;int&gt; | HeartDiseaseorAttack &lt;int&gt; | PhysActivity &lt;int&gt; | Fruits &lt;int&gt; | ⋯ ⋯ | NoDocbcCost &lt;int&gt; | GenHlth &lt;int&gt; | MentHlth &lt;int&gt; | PhysHlth &lt;int&gt; | DiffWalk &lt;int&gt; | Sex &lt;int&gt; | Age &lt;int&gt; | Education &lt;int&gt; | Income &lt;int&gt; | Diabetes_binary &lt;int&gt; |\n",
       "|---|---|---|---|---|---|---|---|---|---|---|---|---|---|---|---|---|---|---|---|---|---|\n",
       "| 1 | 1 | 1 | 1 | 40 | 0 | 1 | 0 | 0 | 0 | 0 | ⋯ | 0 | 5 | 18 | 15 | 1 | 0 |  9 | 4 | 3 | 0 |\n",
       "| 2 | 0 | 0 | 0 | 25 | 0 | 1 | 0 | 0 | 1 | 0 | ⋯ | 1 | 3 |  0 |  0 | 0 | 0 |  7 | 6 | 1 | 0 |\n",
       "| 3 | 1 | 1 | 1 | 28 | 0 | 0 | 0 | 0 | 0 | 1 | ⋯ | 1 | 5 | 30 | 30 | 1 | 0 |  9 | 4 | 8 | 0 |\n",
       "| 4 | 1 | 0 | 1 | 27 | 0 | 0 | 0 | 0 | 1 | 1 | ⋯ | 0 | 2 |  0 |  0 | 0 | 0 | 11 | 3 | 6 | 0 |\n",
       "| 5 | 1 | 1 | 1 | 24 | 0 | 0 | 0 | 0 | 1 | 1 | ⋯ | 0 | 2 |  3 |  0 | 0 | 0 | 11 | 5 | 4 | 0 |\n",
       "| 6 | 1 | 1 | 1 | 25 | 0 | 1 | 0 | 0 | 1 | 1 | ⋯ | 0 | 2 |  0 |  2 | 0 | 1 | 10 | 6 | 8 | 0 |\n",
       "| 7 | 1 | 0 | 1 | 30 | 0 | 1 | 0 | 0 | 0 | 0 | ⋯ | 0 | 3 |  0 | 14 | 0 | 0 |  9 | 6 | 7 | 0 |\n",
       "| 8 | 1 | 1 | 1 | 25 | 0 | 1 | 0 | 0 | 1 | 0 | ⋯ | 0 | 3 |  0 |  0 | 1 | 0 | 11 | 4 | 4 | 0 |\n",
       "| 9 | 0 | 0 | 1 | 24 | 0 | 0 | 0 | 0 | 0 | 0 | ⋯ | 0 | 2 |  0 |  0 | 0 | 1 |  8 | 4 | 3 | 0 |\n",
       "| 10 | 1 | 1 | 1 | 34 | 0 | 1 | 0 | 0 | 0 | 1 | ⋯ | 0 | 3 |  0 | 30 | 1 | 0 | 10 | 5 | 1 | 0 |\n",
       "| 11 | 0 | 0 | 1 | 26 | 0 | 1 | 0 | 0 | 0 | 0 | ⋯ | 0 | 3 |  0 | 15 | 0 | 0 |  7 | 5 | 7 | 0 |\n",
       "| 12 | 0 | 1 | 1 | 33 | 0 | 1 | 1 | 0 | 1 | 0 | ⋯ | 1 | 4 | 30 | 28 | 0 | 0 |  4 | 6 | 2 | 0 |\n",
       "| 13 | 1 | 0 | 1 | 33 | 0 | 0 | 0 | 0 | 1 | 0 | ⋯ | 0 | 2 |  5 |  0 | 0 | 0 |  6 | 6 | 8 | 0 |\n",
       "| 14 | 1 | 1 | 1 | 21 | 0 | 0 | 0 | 0 | 1 | 1 | ⋯ | 0 | 3 |  0 |  0 | 0 | 0 | 10 | 4 | 3 | 0 |\n",
       "| 15 | 0 | 0 | 0 | 23 | 0 | 0 | 0 | 0 | 0 | 0 | ⋯ | 0 | 2 | 15 |  0 | 0 | 0 |  2 | 6 | 7 | 0 |\n",
       "| 16 | 0 | 1 | 1 | 28 | 0 | 0 | 0 | 0 | 0 | 0 | ⋯ | 0 | 2 | 10 |  0 | 0 | 1 |  4 | 6 | 8 | 0 |\n",
       "| 17 | 1 | 1 | 1 | 22 | 0 | 0 | 1 | 1 | 0 | 1 | ⋯ | 0 | 3 | 30 |  0 | 1 | 0 | 12 | 4 | 4 | 0 |\n",
       "| 18 | 1 | 1 | 1 | 38 | 0 | 1 | 0 | 0 | 0 | 1 | ⋯ | 0 | 5 | 15 | 30 | 1 | 0 | 13 | 2 | 3 | 0 |\n",
       "| 19 | 0 | 0 | 1 | 28 | 0 | 1 | 0 | 0 | 0 | 0 | ⋯ | 0 | 3 |  0 |  7 | 0 | 1 |  5 | 5 | 5 | 0 |\n",
       "| 20 | 1 | 1 | 1 | 28 | 0 | 1 | 0 | 0 | 0 | 1 | ⋯ | 0 | 3 |  6 |  0 | 1 | 0 |  9 | 4 | 6 | 0 |\n",
       "| 21 | 0 | 0 | 1 | 32 | 0 | 0 | 0 | 0 | 1 | 1 | ⋯ | 0 | 2 |  0 |  0 | 0 | 0 |  5 | 6 | 8 | 0 |\n",
       "| 22 | 0 | 1 | 1 | 31 | 0 | 1 | 0 | 0 | 1 | 1 | ⋯ | 0 | 1 |  0 |  0 | 0 | 1 | 12 | 6 | 8 | 0 |\n",
       "| 23 | 1 | 0 | 1 | 33 | 0 | 1 | 0 | 0 | 1 | 1 | ⋯ | 0 | 1 |  0 |  0 | 1 | 1 | 13 | 3 | 3 | 0 |\n",
       "| 24 | 0 | 0 | 1 | 23 | 0 | 0 | 0 | 0 | 1 | 1 | ⋯ | 0 | 1 |  2 |  0 | 0 | 0 |  6 | 4 | 8 | 0 |\n",
       "| 25 | 1 | 0 | 1 | 31 | 0 | 0 | 0 | 0 | 1 | 0 | ⋯ | 0 | 3 |  0 |  0 | 0 | 1 | 11 | 6 | 2 | 0 |\n",
       "| 26 | 1 | 0 | 1 | 26 | 0 | 0 | 0 | 0 | 1 | 1 | ⋯ | 0 | 2 |  0 |  0 | 0 | 0 |  9 | 4 | 4 | 0 |\n",
       "| 27 | 1 | 1 | 1 | 24 | 0 | 1 | 0 | 0 | 1 | 0 | ⋯ | 0 | 3 |  5 |  3 | 1 | 1 |  8 | 4 | 3 | 0 |\n",
       "| 28 | 0 | 0 | 1 | 22 | 0 | 0 | 0 | 0 | 1 | 1 | ⋯ | 0 | 2 |  0 | 10 | 0 | 0 | 12 | 5 | 7 | 0 |\n",
       "| 29 | 0 | 0 | 1 | 26 | 0 | 1 | 0 | 0 | 1 | 1 | ⋯ | 0 | 1 |  0 |  1 | 0 | 1 |  4 | 5 | 3 | 0 |\n",
       "| 30 | 1 | 1 | 1 | 24 | 0 | 1 | 0 | 0 | 0 | 1 | ⋯ | 0 | 5 |  0 | 30 | 0 | 1 |  9 | 3 | 1 | 0 |\n",
       "| ⋮ | ⋮ | ⋮ | ⋮ | ⋮ | ⋮ | ⋮ | ⋮ | ⋮ | ⋮ | ⋮ | ⋱ | ⋮ | ⋮ | ⋮ | ⋮ | ⋮ | ⋮ | ⋮ | ⋮ | ⋮ | ⋮ |\n",
       "| 436571 | 1 | 1 | 1 | 29 | 0 | 0 | 0 | 0 | 1 | 0 | ⋯ | 0 | 3 |  0 |  1 | 0 | 1 | 11 | 5 | 5 | 1 |\n",
       "| 436572 | 1 | 0 | 1 | 25 | 0 | 1 | 0 | 0 | 0 | 0 | ⋯ | 0 | 4 |  2 |  5 | 0 | 0 |  9 | 5 | 4 | 1 |\n",
       "| 436573 | 1 | 1 | 1 | 49 | 1 | 1 | 0 | 0 | 1 | 1 | ⋯ | 0 | 5 | 10 |  6 | 0 | 0 |  7 | 4 | 2 | 1 |\n",
       "| 436574 | 0 | 1 | 1 | 37 | 0 | 1 | 0 | 0 | 1 | 0 | ⋯ | 0 | 2 |  0 |  0 | 0 | 1 |  8 | 4 | 8 | 1 |\n",
       "| 436575 | 0 | 1 | 1 | 34 | 0 | 1 | 0 | 1 | 0 | 1 | ⋯ | 0 | 4 |  0 |  0 | 0 | 0 | 12 | 4 | 5 | 1 |\n",
       "| 436576 | 0 | 1 | 1 | 34 | 0 | 0 | 0 | 0 | 0 | 1 | ⋯ | 0 | 4 |  0 |  3 | 1 | 0 | 10 | 6 | 4 | 1 |\n",
       "| 436577 | 1 | 1 | 1 | 33 | 0 | 0 | 0 | 0 | 1 | 1 | ⋯ | 1 | 3 |  0 |  0 | 0 | 0 |  3 | 6 | 8 | 1 |\n",
       "| 436578 | 1 | 1 | 1 | 45 | 0 | 1 | 0 | 1 | 0 | 0 | ⋯ | 0 | 3 |  5 | 15 | 1 | 0 | 10 | 4 | 3 | 1 |\n",
       "| 436579 | 1 | 1 | 1 | 30 | 0 | 0 | 0 | 0 | 0 | 1 | ⋯ | 1 | 5 | 25 | 30 | 1 | 1 |  7 | 6 | 2 | 1 |\n",
       "| 436580 | 1 | 0 | 1 | 29 | 0 | 0 | 0 | 0 | 1 | 1 | ⋯ | 0 | 1 |  0 |  1 | 0 | 0 | 10 | 6 | 8 | 1 |\n",
       "| 436581 | 1 | 1 | 1 | 30 | 0 | 0 | 0 | 0 | 1 | 1 | ⋯ | 0 | 4 | 30 |  3 | 0 | 0 |  5 | 6 | 7 | 1 |\n",
       "| 436582 | 1 | 1 | 1 | 27 | 0 | 0 | 1 | 1 | 1 | 0 | ⋯ | 0 | 3 |  0 |  1 | 0 | 1 | 13 | 5 | 8 | 1 |\n",
       "| 436583 | 1 | 1 | 1 | 33 | 0 | 1 | 0 | 0 | 0 | 0 | ⋯ | 0 | 4 |  0 | 28 | 1 | 1 | 13 | 3 | 7 | 1 |\n",
       "| 436584 | 1 | 0 | 1 | 28 | 0 | 0 | 0 | 0 | 1 | 1 | ⋯ | 0 | 2 |  0 |  0 | 0 | 0 | 10 | 3 | 2 | 1 |\n",
       "| 436585 | 1 | 1 | 1 | 27 | 0 | 0 | 0 | 0 | 0 | 1 | ⋯ | 0 | 5 |  0 | 30 | 0 | 0 | 13 | 6 | 3 | 1 |\n",
       "| 436586 | 0 | 1 | 1 | 35 | 0 | 0 | 0 | 0 | 0 | 0 | ⋯ | 0 | 3 |  0 |  5 | 0 | 0 |  2 | 6 | 7 | 1 |\n",
       "| 436587 | 1 | 1 | 1 | 26 | 0 | 0 | 0 | 1 | 1 | 0 | ⋯ | 0 | 5 |  0 |  0 | 1 | 0 | 11 | 4 | 4 | 1 |\n",
       "| 436588 | 0 | 0 | 1 | 27 | 0 | 1 | 0 | 0 | 1 | 1 | ⋯ | 0 | 4 |  0 |  0 | 0 | 1 |  9 | 2 | 2 | 1 |\n",
       "| 436589 | 1 | 0 | 1 | 38 | 0 | 0 | 0 | 0 | 1 | 1 | ⋯ | 1 | 4 |  0 |  0 | 0 | 0 |  6 | 6 | 3 | 1 |\n",
       "| 436590 | 1 | 1 | 1 | 36 | 0 | 0 | 0 | 0 | 0 | 1 | ⋯ | 0 | 2 |  4 | 10 | 0 | 1 |  8 | 6 | 7 | 1 |\n",
       "| 436591 | 1 | 0 | 1 | 26 | 0 | 1 | 0 | 0 | 0 | 0 | ⋯ | 1 | 5 |  0 | 30 | 1 | 1 |  6 | 4 | 1 | 1 |\n",
       "| 436592 | 1 | 1 | 1 | 28 | 0 | 0 | 0 | 0 | 1 | 0 | ⋯ | 0 | 2 |  0 |  2 | 0 | 1 | 11 | 4 | 4 | 1 |\n",
       "| 436593 | 1 | 1 | 1 | 30 | 0 | 1 | 0 | 0 | 1 | 1 | ⋯ | 0 | 2 |  0 |  0 | 1 | 1 | 13 | 6 | 7 | 1 |\n",
       "| 436594 | 0 | 1 | 1 | 26 | 0 | 0 | 0 | 0 | 1 | 1 | ⋯ | 1 | 3 |  0 |  0 | 0 | 0 |  9 | 6 | 1 | 1 |\n",
       "| 436595 | 1 | 1 | 1 | 42 | 0 | 1 | 0 | 1 | 0 | 0 | ⋯ | 0 | 5 | 30 | 30 | 1 | 1 | 12 | 3 | 3 | 1 |\n",
       "| 436596 | 0 | 1 | 1 | 35 | 0 | 1 | 0 | 0 | 1 | 1 | ⋯ | 0 | 3 |  0 |  2 | 0 | 0 |  8 | 5 | 8 | 1 |\n",
       "| 436597 | 0 | 0 | 1 | 20 | 0 | 0 | 0 | 0 | 1 | 1 | ⋯ | 0 | 1 |  0 |  0 | 0 | 1 | 10 | 4 | 7 | 1 |\n",
       "| 436598 | 1 | 1 | 1 | 42 | 0 | 0 | 0 | 0 | 1 | 1 | ⋯ | 0 | 3 | 30 | 20 | 0 | 0 |  8 | 6 | 5 | 1 |\n",
       "| 436599 | 1 | 1 | 1 | 28 | 0 | 0 | 0 | 0 | 1 | 0 | ⋯ | 0 | 2 |  0 |  0 | 0 | 1 | 11 | 6 | 8 | 1 |\n",
       "| 436600 | 0 | 0 | 1 | 30 | 0 | 1 | 0 | 0 | 1 | 1 | ⋯ | 0 | 3 |  0 |  6 | 1 | 0 |  6 | 5 | 3 | 1 |\n",
       "\n"
      ],
      "text/plain": [
       "       HighBP HighChol CholCheck BMI BMI_over_45 Smoker Stroke\n",
       "1      1      1        1         40  0           1      0     \n",
       "2      0      0        0         25  0           1      0     \n",
       "3      1      1        1         28  0           0      0     \n",
       "4      1      0        1         27  0           0      0     \n",
       "5      1      1        1         24  0           0      0     \n",
       "6      1      1        1         25  0           1      0     \n",
       "7      1      0        1         30  0           1      0     \n",
       "8      1      1        1         25  0           1      0     \n",
       "9      0      0        1         24  0           0      0     \n",
       "10     1      1        1         34  0           1      0     \n",
       "11     0      0        1         26  0           1      0     \n",
       "12     0      1        1         33  0           1      1     \n",
       "13     1      0        1         33  0           0      0     \n",
       "14     1      1        1         21  0           0      0     \n",
       "15     0      0        0         23  0           0      0     \n",
       "16     0      1        1         28  0           0      0     \n",
       "17     1      1        1         22  0           0      1     \n",
       "18     1      1        1         38  0           1      0     \n",
       "19     0      0        1         28  0           1      0     \n",
       "20     1      1        1         28  0           1      0     \n",
       "21     0      0        1         32  0           0      0     \n",
       "22     0      1        1         31  0           1      0     \n",
       "23     1      0        1         33  0           1      0     \n",
       "24     0      0        1         23  0           0      0     \n",
       "25     1      0        1         31  0           0      0     \n",
       "26     1      0        1         26  0           0      0     \n",
       "27     1      1        1         24  0           1      0     \n",
       "28     0      0        1         22  0           0      0     \n",
       "29     0      0        1         26  0           1      0     \n",
       "30     1      1        1         24  0           1      0     \n",
       "<U+22EE>      <U+22EE> <U+22EE> <U+22EE>  <U+22EE> <U+22EE>    <U+22EE> <U+22EE>\n",
       "436571 1      1        1         29  0           0      0     \n",
       "436572 1      0        1         25  0           1      0     \n",
       "436573 1      1        1         49  1           1      0     \n",
       "436574 0      1        1         37  0           1      0     \n",
       "436575 0      1        1         34  0           1      0     \n",
       "436576 0      1        1         34  0           0      0     \n",
       "436577 1      1        1         33  0           0      0     \n",
       "436578 1      1        1         45  0           1      0     \n",
       "436579 1      1        1         30  0           0      0     \n",
       "436580 1      0        1         29  0           0      0     \n",
       "436581 1      1        1         30  0           0      0     \n",
       "436582 1      1        1         27  0           0      1     \n",
       "436583 1      1        1         33  0           1      0     \n",
       "436584 1      0        1         28  0           0      0     \n",
       "436585 1      1        1         27  0           0      0     \n",
       "436586 0      1        1         35  0           0      0     \n",
       "436587 1      1        1         26  0           0      0     \n",
       "436588 0      0        1         27  0           1      0     \n",
       "436589 1      0        1         38  0           0      0     \n",
       "436590 1      1        1         36  0           0      0     \n",
       "436591 1      0        1         26  0           1      0     \n",
       "436592 1      1        1         28  0           0      0     \n",
       "436593 1      1        1         30  0           1      0     \n",
       "436594 0      1        1         26  0           0      0     \n",
       "436595 1      1        1         42  0           1      0     \n",
       "436596 0      1        1         35  0           1      0     \n",
       "436597 0      0        1         20  0           0      0     \n",
       "436598 1      1        1         42  0           0      0     \n",
       "436599 1      1        1         28  0           0      0     \n",
       "436600 0      0        1         30  0           1      0     \n",
       "       HeartDiseaseorAttack PhysActivity Fruits <U+22EF>        NoDocbcCost GenHlth\n",
       "1      0                    0            0      <U+22EF> 0           5      \n",
       "2      0                    1            0      <U+22EF> 1           3      \n",
       "3      0                    0            1      <U+22EF> 1           5      \n",
       "4      0                    1            1      <U+22EF> 0           2      \n",
       "5      0                    1            1      <U+22EF> 0           2      \n",
       "6      0                    1            1      <U+22EF> 0           2      \n",
       "7      0                    0            0      <U+22EF> 0           3      \n",
       "8      0                    1            0      <U+22EF> 0           3      \n",
       "9      0                    0            0      <U+22EF> 0           2      \n",
       "10     0                    0            1      <U+22EF> 0           3      \n",
       "11     0                    0            0      <U+22EF> 0           3      \n",
       "12     0                    1            0      <U+22EF> 1           4      \n",
       "13     0                    1            0      <U+22EF> 0           2      \n",
       "14     0                    1            1      <U+22EF> 0           3      \n",
       "15     0                    0            0      <U+22EF> 0           2      \n",
       "16     0                    0            0      <U+22EF> 0           2      \n",
       "17     1                    0            1      <U+22EF> 0           3      \n",
       "18     0                    0            1      <U+22EF> 0           5      \n",
       "19     0                    0            0      <U+22EF> 0           3      \n",
       "20     0                    0            1      <U+22EF> 0           3      \n",
       "21     0                    1            1      <U+22EF> 0           2      \n",
       "22     0                    1            1      <U+22EF> 0           1      \n",
       "23     0                    1            1      <U+22EF> 0           1      \n",
       "24     0                    1            1      <U+22EF> 0           1      \n",
       "25     0                    1            0      <U+22EF> 0           3      \n",
       "26     0                    1            1      <U+22EF> 0           2      \n",
       "27     0                    1            0      <U+22EF> 0           3      \n",
       "28     0                    1            1      <U+22EF> 0           2      \n",
       "29     0                    1            1      <U+22EF> 0           1      \n",
       "30     0                    0            1      <U+22EF> 0           5      \n",
       "<U+22EE>      <U+22EE>             <U+22EE>     <U+22EE> <U+22F1> <U+22EE>    <U+22EE>\n",
       "436571 0                    1            0      <U+22EF> 0           3      \n",
       "436572 0                    0            0      <U+22EF> 0           4      \n",
       "436573 0                    1            1      <U+22EF> 0           5      \n",
       "436574 0                    1            0      <U+22EF> 0           2      \n",
       "436575 1                    0            1      <U+22EF> 0           4      \n",
       "436576 0                    0            1      <U+22EF> 0           4      \n",
       "436577 0                    1            1      <U+22EF> 1           3      \n",
       "436578 1                    0            0      <U+22EF> 0           3      \n",
       "436579 0                    0            1      <U+22EF> 1           5      \n",
       "436580 0                    1            1      <U+22EF> 0           1      \n",
       "436581 0                    1            1      <U+22EF> 0           4      \n",
       "436582 1                    1            0      <U+22EF> 0           3      \n",
       "436583 0                    0            0      <U+22EF> 0           4      \n",
       "436584 0                    1            1      <U+22EF> 0           2      \n",
       "436585 0                    0            1      <U+22EF> 0           5      \n",
       "436586 0                    0            0      <U+22EF> 0           3      \n",
       "436587 1                    1            0      <U+22EF> 0           5      \n",
       "436588 0                    1            1      <U+22EF> 0           4      \n",
       "436589 0                    1            1      <U+22EF> 1           4      \n",
       "436590 0                    0            1      <U+22EF> 0           2      \n",
       "436591 0                    0            0      <U+22EF> 1           5      \n",
       "436592 0                    1            0      <U+22EF> 0           2      \n",
       "436593 0                    1            1      <U+22EF> 0           2      \n",
       "436594 0                    1            1      <U+22EF> 1           3      \n",
       "436595 1                    0            0      <U+22EF> 0           5      \n",
       "436596 0                    1            1      <U+22EF> 0           3      \n",
       "436597 0                    1            1      <U+22EF> 0           1      \n",
       "436598 0                    1            1      <U+22EF> 0           3      \n",
       "436599 0                    1            0      <U+22EF> 0           2      \n",
       "436600 0                    1            1      <U+22EF> 0           3      \n",
       "       MentHlth PhysHlth DiffWalk Sex Age Education Income Diabetes_binary\n",
       "1      18       15       1        0    9  4         3      0              \n",
       "2       0        0       0        0    7  6         1      0              \n",
       "3      30       30       1        0    9  4         8      0              \n",
       "4       0        0       0        0   11  3         6      0              \n",
       "5       3        0       0        0   11  5         4      0              \n",
       "6       0        2       0        1   10  6         8      0              \n",
       "7       0       14       0        0    9  6         7      0              \n",
       "8       0        0       1        0   11  4         4      0              \n",
       "9       0        0       0        1    8  4         3      0              \n",
       "10      0       30       1        0   10  5         1      0              \n",
       "11      0       15       0        0    7  5         7      0              \n",
       "12     30       28       0        0    4  6         2      0              \n",
       "13      5        0       0        0    6  6         8      0              \n",
       "14      0        0       0        0   10  4         3      0              \n",
       "15     15        0       0        0    2  6         7      0              \n",
       "16     10        0       0        1    4  6         8      0              \n",
       "17     30        0       1        0   12  4         4      0              \n",
       "18     15       30       1        0   13  2         3      0              \n",
       "19      0        7       0        1    5  5         5      0              \n",
       "20      6        0       1        0    9  4         6      0              \n",
       "21      0        0       0        0    5  6         8      0              \n",
       "22      0        0       0        1   12  6         8      0              \n",
       "23      0        0       1        1   13  3         3      0              \n",
       "24      2        0       0        0    6  4         8      0              \n",
       "25      0        0       0        1   11  6         2      0              \n",
       "26      0        0       0        0    9  4         4      0              \n",
       "27      5        3       1        1    8  4         3      0              \n",
       "28      0       10       0        0   12  5         7      0              \n",
       "29      0        1       0        1    4  5         3      0              \n",
       "30      0       30       0        1    9  3         1      0              \n",
       "<U+22EE>      <U+22EE> <U+22EE> <U+22EE> <U+22EE> <U+22EE> <U+22EE>  <U+22EE> <U+22EE>       \n",
       "436571  0        1       0        1   11  5         5      1              \n",
       "436572  2        5       0        0    9  5         4      1              \n",
       "436573 10        6       0        0    7  4         2      1              \n",
       "436574  0        0       0        1    8  4         8      1              \n",
       "436575  0        0       0        0   12  4         5      1              \n",
       "436576  0        3       1        0   10  6         4      1              \n",
       "436577  0        0       0        0    3  6         8      1              \n",
       "436578  5       15       1        0   10  4         3      1              \n",
       "436579 25       30       1        1    7  6         2      1              \n",
       "436580  0        1       0        0   10  6         8      1              \n",
       "436581 30        3       0        0    5  6         7      1              \n",
       "436582  0        1       0        1   13  5         8      1              \n",
       "436583  0       28       1        1   13  3         7      1              \n",
       "436584  0        0       0        0   10  3         2      1              \n",
       "436585  0       30       0        0   13  6         3      1              \n",
       "436586  0        5       0        0    2  6         7      1              \n",
       "436587  0        0       1        0   11  4         4      1              \n",
       "436588  0        0       0        1    9  2         2      1              \n",
       "436589  0        0       0        0    6  6         3      1              \n",
       "436590  4       10       0        1    8  6         7      1              \n",
       "436591  0       30       1        1    6  4         1      1              \n",
       "436592  0        2       0        1   11  4         4      1              \n",
       "436593  0        0       1        1   13  6         7      1              \n",
       "436594  0        0       0        0    9  6         1      1              \n",
       "436595 30       30       1        1   12  3         3      1              \n",
       "436596  0        2       0        0    8  5         8      1              \n",
       "436597  0        0       0        1   10  4         7      1              \n",
       "436598 30       20       0        0    8  6         5      1              \n",
       "436599  0        0       0        1   11  6         8      1              \n",
       "436600  0        6       1        0    6  5         3      1              "
      ]
     },
     "metadata": {},
     "output_type": "display_data"
    }
   ],
   "source": [
    "balanced_df"
   ]
  },
  {
   "cell_type": "markdown",
   "id": "de9211c4-a135-4699-b021-394f136a4719",
   "metadata": {},
   "source": [
    "#### 3.4.2. MentHlth"
   ]
  },
  {
   "cell_type": "code",
   "execution_count": 390,
   "id": "85bf90ab-ec7d-438b-b80e-e81131167235",
   "metadata": {},
   "outputs": [
    {
     "data": {
      "image/png": "[encoded data removed]",
      "text/plain": [
       "Plot with title \"MentHlth\""
      ]
     },
     "metadata": {
      "image/png": {
       "height": 420,
       "width": 420
      }
     },
     "output_type": "display_data"
    },
    {
     "data": {
      "image/png": "[encoded data removed]",
      "text/plain": [
       "Plot with title \"MentHlth\""
      ]
     },
     "metadata": {
      "image/png": {
       "height": 420,
       "width": 420
      }
     },
     "output_type": "display_data"
    }
   ],
   "source": [
    "boxplot(balanced_df$MentHlth, main = \"MentHlth\", col = MAIN_COLOR, las = 1, lwd = 2)\n",
    "hist(balanced_df$MentHlth, main = \"MentHlth\", xlab = \"Number of day with Mental Health problem in last 30 days\",\n",
    "    col = MAIN_COLOR, las = 1, lwd = 2, xlim = c(0, 30))"
   ]
  },
  {
   "cell_type": "markdown",
   "id": "64236a94-f522-4527-8538-23018a36b4b3",
   "metadata": {},
   "source": [
    "#### Question: The percentage of diabetes people having MentHlth or not."
   ]
  },
  {
   "cell_type": "code",
   "execution_count": 391,
   "id": "f8d45331-4845-49fa-b41b-9f95093afa78",
   "metadata": {},
   "outputs": [],
   "source": [
    "MentHlth_table = table(ifelse(balanced_df$MentHlth > 0, \"have MentHlth\", \"no MentHlth\"),\n",
    "      ifelse(balanced_df$Diabetes_binary == 1, \"diabetes\", \"no diabetes\"))"
   ]
  },
  {
   "cell_type": "code",
   "execution_count": 392,
   "id": "a0e7b412-37ba-4586-8d14-b7c9fdfc0f92",
   "metadata": {},
   "outputs": [],
   "source": [
    "MentHlth_table = Rev(MentHlth_table)"
   ]
  },
  {
   "cell_type": "code",
   "execution_count": 393,
   "id": "453f36a8-6f98-4125-bdbc-5e1dc6bdca12",
   "metadata": {},
   "outputs": [
    {
     "data": {
      "text/plain": [
       "               \n",
       "                no diabetes diabetes\n",
       "  no MentHlth        152277   144346\n",
       "  have MentHlth       66057    73920"
      ]
     },
     "metadata": {},
     "output_type": "display_data"
    }
   ],
   "source": [
    "MentHlth_table"
   ]
  },
  {
   "cell_type": "code",
   "execution_count": 394,
   "id": "371638c6-944d-488b-bb93-59aba62b03e0",
   "metadata": {},
   "outputs": [
    {
     "data": {
      "image/png": "[encoded data removed]",
      "text/plain": [
       "plot without title"
      ]
     },
     "metadata": {
      "image/png": {
       "height": 420,
       "width": 420
      }
     },
     "output_type": "display_data"
    }
   ],
   "source": [
    "plot_stack_bar_2x2(MentHlth_table)"
   ]
  },
  {
   "cell_type": "code",
   "execution_count": 396,
   "id": "431a6c28-3316-45d8-aa2b-3a0693db5314",
   "metadata": {},
   "outputs": [
    {
     "data": {
      "text/html": [
       "<style>\n",
       ".dl-inline {width: auto; margin:0; padding: 0}\n",
       ".dl-inline>dt, .dl-inline>dd {float: none; width: auto; display: inline-block}\n",
       ".dl-inline>dt::after {content: \":\\0020\"; padding-right: .5ex}\n",
       ".dl-inline>dt:not(:first-of-type) {padding-left: .5ex}\n",
       "</style><dl class=dl-inline><dt>odds ratio</dt><dd>1.18051815574432</dd><dt>lwr.ci</dt><dd>1.1655896105832</dd><dt>upr.ci</dt><dd>1.19563790152923</dd></dl>\n"
      ],
      "text/latex": [
       "\\begin{description*}\n",
       "\\item[odds ratio] 1.18051815574432\n",
       "\\item[lwr.ci] 1.1655896105832\n",
       "\\item[upr.ci] 1.19563790152923\n",
       "\\end{description*}\n"
      ],
      "text/markdown": [
       "odds ratio\n",
       ":   1.18051815574432lwr.ci\n",
       ":   1.1655896105832upr.ci\n",
       ":   1.19563790152923\n",
       "\n"
      ],
      "text/plain": [
       "odds ratio     lwr.ci     upr.ci \n",
       "  1.180518   1.165590   1.195638 "
      ]
     },
     "metadata": {},
     "output_type": "display_data"
    }
   ],
   "source": [
    "DescTools::OddsRatio(MentHlth_table, conf.level = 0.95)"
   ]
  },
  {
   "cell_type": "code",
   "execution_count": 397,
   "id": "50b6b4e7-6c0a-4399-bfce-f9d65b216b64",
   "metadata": {},
   "outputs": [],
   "source": [
    "# COMMENT\n",
    "# odd ratio is close to 1\n",
    "# => No creating new binary variable"
   ]
  },
  {
   "cell_type": "markdown",
   "id": "1b9fe2d6-1822-46b3-b32a-3c8ab4194fcf",
   "metadata": {},
   "source": [
    "#### 3.4.3. PhysHlth"
   ]
  },
  {
   "cell_type": "code",
   "execution_count": 399,
   "id": "5b50f212-344e-4717-b1a7-e9acc0aeba7b",
   "metadata": {},
   "outputs": [
    {
     "data": {
      "image/png": "[encoded data removed]",
      "text/plain": [
       "Plot with title \"PhysHlth\""
      ]
     },
     "metadata": {
      "image/png": {
       "height": 420,
       "width": 420
      }
     },
     "output_type": "display_data"
    },
    {
     "data": {
      "image/png": "[encoded data removed]",
      "text/plain": [
       "Plot with title \"PhysHlth\""
      ]
     },
     "metadata": {
      "image/png": {
       "height": 420,
       "width": 420
      }
     },
     "output_type": "display_data"
    }
   ],
   "source": [
    "boxplot(balanced_df$PhysHlth, main = \"PhysHlth\", col = MAIN_COLOR, las = 1, lwd = 2)\n",
    "hist(balanced_df$PhysHlth, main = \"PhysHlth\", xlab = \"Number of day with Physical Health problem in last 30 days\",\n",
    "    col = MAIN_COLOR, las = 1, lwd = 2, xlim = c(0, 30))"
   ]
  },
  {
   "cell_type": "markdown",
   "id": "8baa168a-afdf-486d-a11d-1a9ee0dfc83d",
   "metadata": {},
   "source": [
    "#### Question: The percentage of diabetes people having PhysHlth or not."
   ]
  },
  {
   "cell_type": "code",
   "execution_count": 402,
   "id": "60ef4d5a-a449-4881-a38c-b63598fca474",
   "metadata": {},
   "outputs": [],
   "source": [
    "PhysHlth_table = table(ifelse(balanced_df$PhysHlth > 0, \"have PhysHlth\", \"no PhysHlth\"),\n",
    "      ifelse(balanced_df$Diabetes_binary == 1, \"diabetes\", \"no diabetes\"))"
   ]
  },
  {
   "cell_type": "code",
   "execution_count": 403,
   "id": "3a3689a4-d442-45e7-ba9c-01d0af557d0f",
   "metadata": {},
   "outputs": [],
   "source": [
    "PhysHlth_table = Rev(PhysHlth_table)"
   ]
  },
  {
   "cell_type": "code",
   "execution_count": 404,
   "id": "cabfe8c9-7897-4573-bab1-3ed14a02e7de",
   "metadata": {},
   "outputs": [
    {
     "data": {
      "text/plain": [
       "               \n",
       "                no diabetes diabetes\n",
       "  no PhysHlth        143312   103498\n",
       "  have PhysHlth       75022   114768"
      ]
     },
     "metadata": {},
     "output_type": "display_data"
    }
   ],
   "source": [
    "PhysHlth_table"
   ]
  },
  {
   "cell_type": "code",
   "execution_count": 405,
   "id": "4a12b13a-4036-42d3-b05f-a6d7cff720a0",
   "metadata": {},
   "outputs": [
    {
     "data": {
      "image/png": "[encoded data removed]",
      "text/plain": [
       "plot without title"
      ]
     },
     "metadata": {
      "image/png": {
       "height": 420,
       "width": 420
      }
     },
     "output_type": "display_data"
    }
   ],
   "source": [
    "plot_stack_bar_2x2(PhysHlth_table)"
   ]
  },
  {
   "cell_type": "code",
   "execution_count": 406,
   "id": "22dbda1a-c06a-4cbf-9013-a3d4c0ed0a73",
   "metadata": {},
   "outputs": [
    {
     "data": {
      "text/html": [
       "<style>\n",
       ".dl-inline {width: auto; margin:0; padding: 0}\n",
       ".dl-inline>dt, .dl-inline>dd {float: none; width: auto; display: inline-block}\n",
       ".dl-inline>dt::after {content: \":\\0020\"; padding-right: .5ex}\n",
       ".dl-inline>dt:not(:first-of-type) {padding-left: .5ex}\n",
       "</style><dl class=dl-inline><dt>odds ratio</dt><dd>2.11827711868248</dd><dt>lwr.ci</dt><dd>2.09261198345043</dd><dt>upr.ci</dt><dd>2.14425702759055</dd></dl>\n"
      ],
      "text/latex": [
       "\\begin{description*}\n",
       "\\item[odds ratio] 2.11827711868248\n",
       "\\item[lwr.ci] 2.09261198345043\n",
       "\\item[upr.ci] 2.14425702759055\n",
       "\\end{description*}\n"
      ],
      "text/markdown": [
       "odds ratio\n",
       ":   2.11827711868248lwr.ci\n",
       ":   2.09261198345043upr.ci\n",
       ":   2.14425702759055\n",
       "\n"
      ],
      "text/plain": [
       "odds ratio     lwr.ci     upr.ci \n",
       "  2.118277   2.092612   2.144257 "
      ]
     },
     "metadata": {},
     "output_type": "display_data"
    }
   ],
   "source": [
    "OddsRatio(PhysHlth_table, conf.level = 0.95)"
   ]
  },
  {
   "cell_type": "code",
   "execution_count": 407,
   "id": "f6c34478-cbaf-447a-86ce-0c70d4a0e376",
   "metadata": {},
   "outputs": [],
   "source": [
    "# odds ratio = 2.118 > 1\n",
    "# People have PhysHlth are 2.118 times more likely to have diabetes than others.\n",
    "# => Create a binary variable that to distinguish people having PhysHlth."
   ]
  },
  {
   "cell_type": "code",
   "execution_count": 408,
   "id": "665fb3ab-6711-469f-b032-2f18f7f4991d",
   "metadata": {},
   "outputs": [],
   "source": [
    "if (! \"havePhysHlth\" %in% binary_cols)\n",
    "{\n",
    "    binary_cols = append(binary_cols, \"havePhysHlth\")\n",
    "}"
   ]
  },
  {
   "cell_type": "code",
   "execution_count": 409,
   "id": "a6fb9183-c8d1-4e63-9e4f-ecc33300e002",
   "metadata": {},
   "outputs": [
    {
     "data": {
      "text/html": [
       "<style>\n",
       ".list-inline {list-style: none; margin:0; padding: 0}\n",
       ".list-inline>li {display: inline-block}\n",
       ".list-inline>li:not(:last-child)::after {content: \"\\00b7\"; padding: 0 .5ex}\n",
       "</style>\n",
       "<ol class=list-inline><li>'HighBP'</li><li>'HighChol'</li><li>'CholCheck'</li><li>'Smoker'</li><li>'Stroke'</li><li>'HeartDiseaseorAttack'</li><li>'PhysActivity'</li><li>'Fruits'</li><li>'Veggies'</li><li>'HvyAlcoholConsump'</li><li>'AnyHealthcare'</li><li>'NoDocbcCost'</li><li>'DiffWalk'</li><li>'Sex'</li><li>'BMI_over_45'</li><li>'havePhysHlth'</li></ol>\n"
      ],
      "text/latex": [
       "\\begin{enumerate*}\n",
       "\\item 'HighBP'\n",
       "\\item 'HighChol'\n",
       "\\item 'CholCheck'\n",
       "\\item 'Smoker'\n",
       "\\item 'Stroke'\n",
       "\\item 'HeartDiseaseorAttack'\n",
       "\\item 'PhysActivity'\n",
       "\\item 'Fruits'\n",
       "\\item 'Veggies'\n",
       "\\item 'HvyAlcoholConsump'\n",
       "\\item 'AnyHealthcare'\n",
       "\\item 'NoDocbcCost'\n",
       "\\item 'DiffWalk'\n",
       "\\item 'Sex'\n",
       "\\item 'BMI\\_over\\_45'\n",
       "\\item 'havePhysHlth'\n",
       "\\end{enumerate*}\n"
      ],
      "text/markdown": [
       "1. 'HighBP'\n",
       "2. 'HighChol'\n",
       "3. 'CholCheck'\n",
       "4. 'Smoker'\n",
       "5. 'Stroke'\n",
       "6. 'HeartDiseaseorAttack'\n",
       "7. 'PhysActivity'\n",
       "8. 'Fruits'\n",
       "9. 'Veggies'\n",
       "10. 'HvyAlcoholConsump'\n",
       "11. 'AnyHealthcare'\n",
       "12. 'NoDocbcCost'\n",
       "13. 'DiffWalk'\n",
       "14. 'Sex'\n",
       "15. 'BMI_over_45'\n",
       "16. 'havePhysHlth'\n",
       "\n",
       "\n"
      ],
      "text/plain": [
       " [1] \"HighBP\"               \"HighChol\"             \"CholCheck\"           \n",
       " [4] \"Smoker\"               \"Stroke\"               \"HeartDiseaseorAttack\"\n",
       " [7] \"PhysActivity\"         \"Fruits\"               \"Veggies\"             \n",
       "[10] \"HvyAlcoholConsump\"    \"AnyHealthcare\"        \"NoDocbcCost\"         \n",
       "[13] \"DiffWalk\"             \"Sex\"                  \"BMI_over_45\"         \n",
       "[16] \"havePhysHlth\"        "
      ]
     },
     "metadata": {},
     "output_type": "display_data"
    }
   ],
   "source": [
    "binary_cols"
   ]
  },
  {
   "cell_type": "code",
   "execution_count": 410,
   "id": "9b6f5d3d-1fea-4f5b-b0ac-539b482f0d5d",
   "metadata": {},
   "outputs": [],
   "source": [
    "new_column = as.integer(ifelse(balanced_df$PhysHlth > 0, 1, 0))\n",
    "PhysHlth_index = which(colnames(balanced_df) == \"PhysHlth\")\n",
    "balanced_df = cbind(balanced_df[,1:PhysHlth_index], havePhysHlth = new_column, balanced_df[,(PhysHlth_index+1):ncol(balanced_df)])"
   ]
  },
  {
   "cell_type": "code",
   "execution_count": 411,
   "id": "0c9d5475-0a48-4523-bcdd-e0cacc483eec",
   "metadata": {},
   "outputs": [
    {
     "data": {
      "text/html": [
       "<table class=\"dataframe\">\n",
       "<caption>A data.frame: 436600 × 24</caption>\n",
       "<thead>\n",
       "\t<tr><th></th><th scope=col>HighBP</th><th scope=col>HighChol</th><th scope=col>CholCheck</th><th scope=col>BMI</th><th scope=col>BMI_over_45</th><th scope=col>Smoker</th><th scope=col>Stroke</th><th scope=col>HeartDiseaseorAttack</th><th scope=col>PhysActivity</th><th scope=col>Fruits</th><th scope=col>⋯</th><th scope=col>GenHlth</th><th scope=col>MentHlth</th><th scope=col>PhysHlth</th><th scope=col>havePhysHlth</th><th scope=col>DiffWalk</th><th scope=col>Sex</th><th scope=col>Age</th><th scope=col>Education</th><th scope=col>Income</th><th scope=col>Diabetes_binary</th></tr>\n",
       "\t<tr><th></th><th scope=col>&lt;int&gt;</th><th scope=col>&lt;int&gt;</th><th scope=col>&lt;int&gt;</th><th scope=col>&lt;int&gt;</th><th scope=col>&lt;int&gt;</th><th scope=col>&lt;int&gt;</th><th scope=col>&lt;int&gt;</th><th scope=col>&lt;int&gt;</th><th scope=col>&lt;int&gt;</th><th scope=col>&lt;int&gt;</th><th scope=col>⋯</th><th scope=col>&lt;int&gt;</th><th scope=col>&lt;int&gt;</th><th scope=col>&lt;int&gt;</th><th scope=col>&lt;int&gt;</th><th scope=col>&lt;int&gt;</th><th scope=col>&lt;int&gt;</th><th scope=col>&lt;int&gt;</th><th scope=col>&lt;int&gt;</th><th scope=col>&lt;int&gt;</th><th scope=col>&lt;int&gt;</th></tr>\n",
       "</thead>\n",
       "<tbody>\n",
       "\t<tr><th scope=row>1</th><td>1</td><td>1</td><td>1</td><td>40</td><td>0</td><td>1</td><td>0</td><td>0</td><td>0</td><td>0</td><td>⋯</td><td>5</td><td>18</td><td>15</td><td>1</td><td>1</td><td>0</td><td> 9</td><td>4</td><td>3</td><td>0</td></tr>\n",
       "\t<tr><th scope=row>2</th><td>0</td><td>0</td><td>0</td><td>25</td><td>0</td><td>1</td><td>0</td><td>0</td><td>1</td><td>0</td><td>⋯</td><td>3</td><td> 0</td><td> 0</td><td>0</td><td>0</td><td>0</td><td> 7</td><td>6</td><td>1</td><td>0</td></tr>\n",
       "\t<tr><th scope=row>3</th><td>1</td><td>1</td><td>1</td><td>28</td><td>0</td><td>0</td><td>0</td><td>0</td><td>0</td><td>1</td><td>⋯</td><td>5</td><td>30</td><td>30</td><td>1</td><td>1</td><td>0</td><td> 9</td><td>4</td><td>8</td><td>0</td></tr>\n",
       "\t<tr><th scope=row>4</th><td>1</td><td>0</td><td>1</td><td>27</td><td>0</td><td>0</td><td>0</td><td>0</td><td>1</td><td>1</td><td>⋯</td><td>2</td><td> 0</td><td> 0</td><td>0</td><td>0</td><td>0</td><td>11</td><td>3</td><td>6</td><td>0</td></tr>\n",
       "\t<tr><th scope=row>5</th><td>1</td><td>1</td><td>1</td><td>24</td><td>0</td><td>0</td><td>0</td><td>0</td><td>1</td><td>1</td><td>⋯</td><td>2</td><td> 3</td><td> 0</td><td>0</td><td>0</td><td>0</td><td>11</td><td>5</td><td>4</td><td>0</td></tr>\n",
       "\t<tr><th scope=row>6</th><td>1</td><td>1</td><td>1</td><td>25</td><td>0</td><td>1</td><td>0</td><td>0</td><td>1</td><td>1</td><td>⋯</td><td>2</td><td> 0</td><td> 2</td><td>1</td><td>0</td><td>1</td><td>10</td><td>6</td><td>8</td><td>0</td></tr>\n",
       "\t<tr><th scope=row>7</th><td>1</td><td>0</td><td>1</td><td>30</td><td>0</td><td>1</td><td>0</td><td>0</td><td>0</td><td>0</td><td>⋯</td><td>3</td><td> 0</td><td>14</td><td>1</td><td>0</td><td>0</td><td> 9</td><td>6</td><td>7</td><td>0</td></tr>\n",
       "\t<tr><th scope=row>8</th><td>1</td><td>1</td><td>1</td><td>25</td><td>0</td><td>1</td><td>0</td><td>0</td><td>1</td><td>0</td><td>⋯</td><td>3</td><td> 0</td><td> 0</td><td>0</td><td>1</td><td>0</td><td>11</td><td>4</td><td>4</td><td>0</td></tr>\n",
       "\t<tr><th scope=row>9</th><td>0</td><td>0</td><td>1</td><td>24</td><td>0</td><td>0</td><td>0</td><td>0</td><td>0</td><td>0</td><td>⋯</td><td>2</td><td> 0</td><td> 0</td><td>0</td><td>0</td><td>1</td><td> 8</td><td>4</td><td>3</td><td>0</td></tr>\n",
       "\t<tr><th scope=row>10</th><td>1</td><td>1</td><td>1</td><td>34</td><td>0</td><td>1</td><td>0</td><td>0</td><td>0</td><td>1</td><td>⋯</td><td>3</td><td> 0</td><td>30</td><td>1</td><td>1</td><td>0</td><td>10</td><td>5</td><td>1</td><td>0</td></tr>\n",
       "\t<tr><th scope=row>11</th><td>0</td><td>0</td><td>1</td><td>26</td><td>0</td><td>1</td><td>0</td><td>0</td><td>0</td><td>0</td><td>⋯</td><td>3</td><td> 0</td><td>15</td><td>1</td><td>0</td><td>0</td><td> 7</td><td>5</td><td>7</td><td>0</td></tr>\n",
       "\t<tr><th scope=row>12</th><td>0</td><td>1</td><td>1</td><td>33</td><td>0</td><td>1</td><td>1</td><td>0</td><td>1</td><td>0</td><td>⋯</td><td>4</td><td>30</td><td>28</td><td>1</td><td>0</td><td>0</td><td> 4</td><td>6</td><td>2</td><td>0</td></tr>\n",
       "\t<tr><th scope=row>13</th><td>1</td><td>0</td><td>1</td><td>33</td><td>0</td><td>0</td><td>0</td><td>0</td><td>1</td><td>0</td><td>⋯</td><td>2</td><td> 5</td><td> 0</td><td>0</td><td>0</td><td>0</td><td> 6</td><td>6</td><td>8</td><td>0</td></tr>\n",
       "\t<tr><th scope=row>14</th><td>1</td><td>1</td><td>1</td><td>21</td><td>0</td><td>0</td><td>0</td><td>0</td><td>1</td><td>1</td><td>⋯</td><td>3</td><td> 0</td><td> 0</td><td>0</td><td>0</td><td>0</td><td>10</td><td>4</td><td>3</td><td>0</td></tr>\n",
       "\t<tr><th scope=row>15</th><td>0</td><td>0</td><td>0</td><td>23</td><td>0</td><td>0</td><td>0</td><td>0</td><td>0</td><td>0</td><td>⋯</td><td>2</td><td>15</td><td> 0</td><td>0</td><td>0</td><td>0</td><td> 2</td><td>6</td><td>7</td><td>0</td></tr>\n",
       "\t<tr><th scope=row>16</th><td>0</td><td>1</td><td>1</td><td>28</td><td>0</td><td>0</td><td>0</td><td>0</td><td>0</td><td>0</td><td>⋯</td><td>2</td><td>10</td><td> 0</td><td>0</td><td>0</td><td>1</td><td> 4</td><td>6</td><td>8</td><td>0</td></tr>\n",
       "\t<tr><th scope=row>17</th><td>1</td><td>1</td><td>1</td><td>22</td><td>0</td><td>0</td><td>1</td><td>1</td><td>0</td><td>1</td><td>⋯</td><td>3</td><td>30</td><td> 0</td><td>0</td><td>1</td><td>0</td><td>12</td><td>4</td><td>4</td><td>0</td></tr>\n",
       "\t<tr><th scope=row>18</th><td>1</td><td>1</td><td>1</td><td>38</td><td>0</td><td>1</td><td>0</td><td>0</td><td>0</td><td>1</td><td>⋯</td><td>5</td><td>15</td><td>30</td><td>1</td><td>1</td><td>0</td><td>13</td><td>2</td><td>3</td><td>0</td></tr>\n",
       "\t<tr><th scope=row>19</th><td>0</td><td>0</td><td>1</td><td>28</td><td>0</td><td>1</td><td>0</td><td>0</td><td>0</td><td>0</td><td>⋯</td><td>3</td><td> 0</td><td> 7</td><td>1</td><td>0</td><td>1</td><td> 5</td><td>5</td><td>5</td><td>0</td></tr>\n",
       "\t<tr><th scope=row>20</th><td>1</td><td>1</td><td>1</td><td>28</td><td>0</td><td>1</td><td>0</td><td>0</td><td>0</td><td>1</td><td>⋯</td><td>3</td><td> 6</td><td> 0</td><td>0</td><td>1</td><td>0</td><td> 9</td><td>4</td><td>6</td><td>0</td></tr>\n",
       "\t<tr><th scope=row>21</th><td>0</td><td>0</td><td>1</td><td>32</td><td>0</td><td>0</td><td>0</td><td>0</td><td>1</td><td>1</td><td>⋯</td><td>2</td><td> 0</td><td> 0</td><td>0</td><td>0</td><td>0</td><td> 5</td><td>6</td><td>8</td><td>0</td></tr>\n",
       "\t<tr><th scope=row>22</th><td>0</td><td>1</td><td>1</td><td>31</td><td>0</td><td>1</td><td>0</td><td>0</td><td>1</td><td>1</td><td>⋯</td><td>1</td><td> 0</td><td> 0</td><td>0</td><td>0</td><td>1</td><td>12</td><td>6</td><td>8</td><td>0</td></tr>\n",
       "\t<tr><th scope=row>23</th><td>1</td><td>0</td><td>1</td><td>33</td><td>0</td><td>1</td><td>0</td><td>0</td><td>1</td><td>1</td><td>⋯</td><td>1</td><td> 0</td><td> 0</td><td>0</td><td>1</td><td>1</td><td>13</td><td>3</td><td>3</td><td>0</td></tr>\n",
       "\t<tr><th scope=row>24</th><td>0</td><td>0</td><td>1</td><td>23</td><td>0</td><td>0</td><td>0</td><td>0</td><td>1</td><td>1</td><td>⋯</td><td>1</td><td> 2</td><td> 0</td><td>0</td><td>0</td><td>0</td><td> 6</td><td>4</td><td>8</td><td>0</td></tr>\n",
       "\t<tr><th scope=row>25</th><td>1</td><td>0</td><td>1</td><td>31</td><td>0</td><td>0</td><td>0</td><td>0</td><td>1</td><td>0</td><td>⋯</td><td>3</td><td> 0</td><td> 0</td><td>0</td><td>0</td><td>1</td><td>11</td><td>6</td><td>2</td><td>0</td></tr>\n",
       "\t<tr><th scope=row>26</th><td>1</td><td>0</td><td>1</td><td>26</td><td>0</td><td>0</td><td>0</td><td>0</td><td>1</td><td>1</td><td>⋯</td><td>2</td><td> 0</td><td> 0</td><td>0</td><td>0</td><td>0</td><td> 9</td><td>4</td><td>4</td><td>0</td></tr>\n",
       "\t<tr><th scope=row>27</th><td>1</td><td>1</td><td>1</td><td>24</td><td>0</td><td>1</td><td>0</td><td>0</td><td>1</td><td>0</td><td>⋯</td><td>3</td><td> 5</td><td> 3</td><td>1</td><td>1</td><td>1</td><td> 8</td><td>4</td><td>3</td><td>0</td></tr>\n",
       "\t<tr><th scope=row>28</th><td>0</td><td>0</td><td>1</td><td>22</td><td>0</td><td>0</td><td>0</td><td>0</td><td>1</td><td>1</td><td>⋯</td><td>2</td><td> 0</td><td>10</td><td>1</td><td>0</td><td>0</td><td>12</td><td>5</td><td>7</td><td>0</td></tr>\n",
       "\t<tr><th scope=row>29</th><td>0</td><td>0</td><td>1</td><td>26</td><td>0</td><td>1</td><td>0</td><td>0</td><td>1</td><td>1</td><td>⋯</td><td>1</td><td> 0</td><td> 1</td><td>1</td><td>0</td><td>1</td><td> 4</td><td>5</td><td>3</td><td>0</td></tr>\n",
       "\t<tr><th scope=row>30</th><td>1</td><td>1</td><td>1</td><td>24</td><td>0</td><td>1</td><td>0</td><td>0</td><td>0</td><td>1</td><td>⋯</td><td>5</td><td> 0</td><td>30</td><td>1</td><td>0</td><td>1</td><td> 9</td><td>3</td><td>1</td><td>0</td></tr>\n",
       "\t<tr><th scope=row>⋮</th><td>⋮</td><td>⋮</td><td>⋮</td><td>⋮</td><td>⋮</td><td>⋮</td><td>⋮</td><td>⋮</td><td>⋮</td><td>⋮</td><td>⋱</td><td>⋮</td><td>⋮</td><td>⋮</td><td>⋮</td><td>⋮</td><td>⋮</td><td>⋮</td><td>⋮</td><td>⋮</td><td>⋮</td></tr>\n",
       "\t<tr><th scope=row>436571</th><td>1</td><td>1</td><td>1</td><td>29</td><td>0</td><td>0</td><td>0</td><td>0</td><td>1</td><td>0</td><td>⋯</td><td>3</td><td> 0</td><td> 1</td><td>1</td><td>0</td><td>1</td><td>11</td><td>5</td><td>5</td><td>1</td></tr>\n",
       "\t<tr><th scope=row>436572</th><td>1</td><td>0</td><td>1</td><td>25</td><td>0</td><td>1</td><td>0</td><td>0</td><td>0</td><td>0</td><td>⋯</td><td>4</td><td> 2</td><td> 5</td><td>1</td><td>0</td><td>0</td><td> 9</td><td>5</td><td>4</td><td>1</td></tr>\n",
       "\t<tr><th scope=row>436573</th><td>1</td><td>1</td><td>1</td><td>49</td><td>1</td><td>1</td><td>0</td><td>0</td><td>1</td><td>1</td><td>⋯</td><td>5</td><td>10</td><td> 6</td><td>1</td><td>0</td><td>0</td><td> 7</td><td>4</td><td>2</td><td>1</td></tr>\n",
       "\t<tr><th scope=row>436574</th><td>0</td><td>1</td><td>1</td><td>37</td><td>0</td><td>1</td><td>0</td><td>0</td><td>1</td><td>0</td><td>⋯</td><td>2</td><td> 0</td><td> 0</td><td>0</td><td>0</td><td>1</td><td> 8</td><td>4</td><td>8</td><td>1</td></tr>\n",
       "\t<tr><th scope=row>436575</th><td>0</td><td>1</td><td>1</td><td>34</td><td>0</td><td>1</td><td>0</td><td>1</td><td>0</td><td>1</td><td>⋯</td><td>4</td><td> 0</td><td> 0</td><td>0</td><td>0</td><td>0</td><td>12</td><td>4</td><td>5</td><td>1</td></tr>\n",
       "\t<tr><th scope=row>436576</th><td>0</td><td>1</td><td>1</td><td>34</td><td>0</td><td>0</td><td>0</td><td>0</td><td>0</td><td>1</td><td>⋯</td><td>4</td><td> 0</td><td> 3</td><td>1</td><td>1</td><td>0</td><td>10</td><td>6</td><td>4</td><td>1</td></tr>\n",
       "\t<tr><th scope=row>436577</th><td>1</td><td>1</td><td>1</td><td>33</td><td>0</td><td>0</td><td>0</td><td>0</td><td>1</td><td>1</td><td>⋯</td><td>3</td><td> 0</td><td> 0</td><td>0</td><td>0</td><td>0</td><td> 3</td><td>6</td><td>8</td><td>1</td></tr>\n",
       "\t<tr><th scope=row>436578</th><td>1</td><td>1</td><td>1</td><td>45</td><td>0</td><td>1</td><td>0</td><td>1</td><td>0</td><td>0</td><td>⋯</td><td>3</td><td> 5</td><td>15</td><td>1</td><td>1</td><td>0</td><td>10</td><td>4</td><td>3</td><td>1</td></tr>\n",
       "\t<tr><th scope=row>436579</th><td>1</td><td>1</td><td>1</td><td>30</td><td>0</td><td>0</td><td>0</td><td>0</td><td>0</td><td>1</td><td>⋯</td><td>5</td><td>25</td><td>30</td><td>1</td><td>1</td><td>1</td><td> 7</td><td>6</td><td>2</td><td>1</td></tr>\n",
       "\t<tr><th scope=row>436580</th><td>1</td><td>0</td><td>1</td><td>29</td><td>0</td><td>0</td><td>0</td><td>0</td><td>1</td><td>1</td><td>⋯</td><td>1</td><td> 0</td><td> 1</td><td>1</td><td>0</td><td>0</td><td>10</td><td>6</td><td>8</td><td>1</td></tr>\n",
       "\t<tr><th scope=row>436581</th><td>1</td><td>1</td><td>1</td><td>30</td><td>0</td><td>0</td><td>0</td><td>0</td><td>1</td><td>1</td><td>⋯</td><td>4</td><td>30</td><td> 3</td><td>1</td><td>0</td><td>0</td><td> 5</td><td>6</td><td>7</td><td>1</td></tr>\n",
       "\t<tr><th scope=row>436582</th><td>1</td><td>1</td><td>1</td><td>27</td><td>0</td><td>0</td><td>1</td><td>1</td><td>1</td><td>0</td><td>⋯</td><td>3</td><td> 0</td><td> 1</td><td>1</td><td>0</td><td>1</td><td>13</td><td>5</td><td>8</td><td>1</td></tr>\n",
       "\t<tr><th scope=row>436583</th><td>1</td><td>1</td><td>1</td><td>33</td><td>0</td><td>1</td><td>0</td><td>0</td><td>0</td><td>0</td><td>⋯</td><td>4</td><td> 0</td><td>28</td><td>1</td><td>1</td><td>1</td><td>13</td><td>3</td><td>7</td><td>1</td></tr>\n",
       "\t<tr><th scope=row>436584</th><td>1</td><td>0</td><td>1</td><td>28</td><td>0</td><td>0</td><td>0</td><td>0</td><td>1</td><td>1</td><td>⋯</td><td>2</td><td> 0</td><td> 0</td><td>0</td><td>0</td><td>0</td><td>10</td><td>3</td><td>2</td><td>1</td></tr>\n",
       "\t<tr><th scope=row>436585</th><td>1</td><td>1</td><td>1</td><td>27</td><td>0</td><td>0</td><td>0</td><td>0</td><td>0</td><td>1</td><td>⋯</td><td>5</td><td> 0</td><td>30</td><td>1</td><td>0</td><td>0</td><td>13</td><td>6</td><td>3</td><td>1</td></tr>\n",
       "\t<tr><th scope=row>436586</th><td>0</td><td>1</td><td>1</td><td>35</td><td>0</td><td>0</td><td>0</td><td>0</td><td>0</td><td>0</td><td>⋯</td><td>3</td><td> 0</td><td> 5</td><td>1</td><td>0</td><td>0</td><td> 2</td><td>6</td><td>7</td><td>1</td></tr>\n",
       "\t<tr><th scope=row>436587</th><td>1</td><td>1</td><td>1</td><td>26</td><td>0</td><td>0</td><td>0</td><td>1</td><td>1</td><td>0</td><td>⋯</td><td>5</td><td> 0</td><td> 0</td><td>0</td><td>1</td><td>0</td><td>11</td><td>4</td><td>4</td><td>1</td></tr>\n",
       "\t<tr><th scope=row>436588</th><td>0</td><td>0</td><td>1</td><td>27</td><td>0</td><td>1</td><td>0</td><td>0</td><td>1</td><td>1</td><td>⋯</td><td>4</td><td> 0</td><td> 0</td><td>0</td><td>0</td><td>1</td><td> 9</td><td>2</td><td>2</td><td>1</td></tr>\n",
       "\t<tr><th scope=row>436589</th><td>1</td><td>0</td><td>1</td><td>38</td><td>0</td><td>0</td><td>0</td><td>0</td><td>1</td><td>1</td><td>⋯</td><td>4</td><td> 0</td><td> 0</td><td>0</td><td>0</td><td>0</td><td> 6</td><td>6</td><td>3</td><td>1</td></tr>\n",
       "\t<tr><th scope=row>436590</th><td>1</td><td>1</td><td>1</td><td>36</td><td>0</td><td>0</td><td>0</td><td>0</td><td>0</td><td>1</td><td>⋯</td><td>2</td><td> 4</td><td>10</td><td>1</td><td>0</td><td>1</td><td> 8</td><td>6</td><td>7</td><td>1</td></tr>\n",
       "\t<tr><th scope=row>436591</th><td>1</td><td>0</td><td>1</td><td>26</td><td>0</td><td>1</td><td>0</td><td>0</td><td>0</td><td>0</td><td>⋯</td><td>5</td><td> 0</td><td>30</td><td>1</td><td>1</td><td>1</td><td> 6</td><td>4</td><td>1</td><td>1</td></tr>\n",
       "\t<tr><th scope=row>436592</th><td>1</td><td>1</td><td>1</td><td>28</td><td>0</td><td>0</td><td>0</td><td>0</td><td>1</td><td>0</td><td>⋯</td><td>2</td><td> 0</td><td> 2</td><td>1</td><td>0</td><td>1</td><td>11</td><td>4</td><td>4</td><td>1</td></tr>\n",
       "\t<tr><th scope=row>436593</th><td>1</td><td>1</td><td>1</td><td>30</td><td>0</td><td>1</td><td>0</td><td>0</td><td>1</td><td>1</td><td>⋯</td><td>2</td><td> 0</td><td> 0</td><td>0</td><td>1</td><td>1</td><td>13</td><td>6</td><td>7</td><td>1</td></tr>\n",
       "\t<tr><th scope=row>436594</th><td>0</td><td>1</td><td>1</td><td>26</td><td>0</td><td>0</td><td>0</td><td>0</td><td>1</td><td>1</td><td>⋯</td><td>3</td><td> 0</td><td> 0</td><td>0</td><td>0</td><td>0</td><td> 9</td><td>6</td><td>1</td><td>1</td></tr>\n",
       "\t<tr><th scope=row>436595</th><td>1</td><td>1</td><td>1</td><td>42</td><td>0</td><td>1</td><td>0</td><td>1</td><td>0</td><td>0</td><td>⋯</td><td>5</td><td>30</td><td>30</td><td>1</td><td>1</td><td>1</td><td>12</td><td>3</td><td>3</td><td>1</td></tr>\n",
       "\t<tr><th scope=row>436596</th><td>0</td><td>1</td><td>1</td><td>35</td><td>0</td><td>1</td><td>0</td><td>0</td><td>1</td><td>1</td><td>⋯</td><td>3</td><td> 0</td><td> 2</td><td>1</td><td>0</td><td>0</td><td> 8</td><td>5</td><td>8</td><td>1</td></tr>\n",
       "\t<tr><th scope=row>436597</th><td>0</td><td>0</td><td>1</td><td>20</td><td>0</td><td>0</td><td>0</td><td>0</td><td>1</td><td>1</td><td>⋯</td><td>1</td><td> 0</td><td> 0</td><td>0</td><td>0</td><td>1</td><td>10</td><td>4</td><td>7</td><td>1</td></tr>\n",
       "\t<tr><th scope=row>436598</th><td>1</td><td>1</td><td>1</td><td>42</td><td>0</td><td>0</td><td>0</td><td>0</td><td>1</td><td>1</td><td>⋯</td><td>3</td><td>30</td><td>20</td><td>1</td><td>0</td><td>0</td><td> 8</td><td>6</td><td>5</td><td>1</td></tr>\n",
       "\t<tr><th scope=row>436599</th><td>1</td><td>1</td><td>1</td><td>28</td><td>0</td><td>0</td><td>0</td><td>0</td><td>1</td><td>0</td><td>⋯</td><td>2</td><td> 0</td><td> 0</td><td>0</td><td>0</td><td>1</td><td>11</td><td>6</td><td>8</td><td>1</td></tr>\n",
       "\t<tr><th scope=row>436600</th><td>0</td><td>0</td><td>1</td><td>30</td><td>0</td><td>1</td><td>0</td><td>0</td><td>1</td><td>1</td><td>⋯</td><td>3</td><td> 0</td><td> 6</td><td>1</td><td>1</td><td>0</td><td> 6</td><td>5</td><td>3</td><td>1</td></tr>\n",
       "</tbody>\n",
       "</table>\n"
      ],
      "text/latex": [
       "A data.frame: 436600 × 24\n",
       "\\begin{tabular}{r|lllllllllllllllllllll}\n",
       "  & HighBP & HighChol & CholCheck & BMI & BMI\\_over\\_45 & Smoker & Stroke & HeartDiseaseorAttack & PhysActivity & Fruits & ⋯ & GenHlth & MentHlth & PhysHlth & havePhysHlth & DiffWalk & Sex & Age & Education & Income & Diabetes\\_binary\\\\\n",
       "  & <int> & <int> & <int> & <int> & <int> & <int> & <int> & <int> & <int> & <int> & ⋯ & <int> & <int> & <int> & <int> & <int> & <int> & <int> & <int> & <int> & <int>\\\\\n",
       "\\hline\n",
       "\t1 & 1 & 1 & 1 & 40 & 0 & 1 & 0 & 0 & 0 & 0 & ⋯ & 5 & 18 & 15 & 1 & 1 & 0 &  9 & 4 & 3 & 0\\\\\n",
       "\t2 & 0 & 0 & 0 & 25 & 0 & 1 & 0 & 0 & 1 & 0 & ⋯ & 3 &  0 &  0 & 0 & 0 & 0 &  7 & 6 & 1 & 0\\\\\n",
       "\t3 & 1 & 1 & 1 & 28 & 0 & 0 & 0 & 0 & 0 & 1 & ⋯ & 5 & 30 & 30 & 1 & 1 & 0 &  9 & 4 & 8 & 0\\\\\n",
       "\t4 & 1 & 0 & 1 & 27 & 0 & 0 & 0 & 0 & 1 & 1 & ⋯ & 2 &  0 &  0 & 0 & 0 & 0 & 11 & 3 & 6 & 0\\\\\n",
       "\t5 & 1 & 1 & 1 & 24 & 0 & 0 & 0 & 0 & 1 & 1 & ⋯ & 2 &  3 &  0 & 0 & 0 & 0 & 11 & 5 & 4 & 0\\\\\n",
       "\t6 & 1 & 1 & 1 & 25 & 0 & 1 & 0 & 0 & 1 & 1 & ⋯ & 2 &  0 &  2 & 1 & 0 & 1 & 10 & 6 & 8 & 0\\\\\n",
       "\t7 & 1 & 0 & 1 & 30 & 0 & 1 & 0 & 0 & 0 & 0 & ⋯ & 3 &  0 & 14 & 1 & 0 & 0 &  9 & 6 & 7 & 0\\\\\n",
       "\t8 & 1 & 1 & 1 & 25 & 0 & 1 & 0 & 0 & 1 & 0 & ⋯ & 3 &  0 &  0 & 0 & 1 & 0 & 11 & 4 & 4 & 0\\\\\n",
       "\t9 & 0 & 0 & 1 & 24 & 0 & 0 & 0 & 0 & 0 & 0 & ⋯ & 2 &  0 &  0 & 0 & 0 & 1 &  8 & 4 & 3 & 0\\\\\n",
       "\t10 & 1 & 1 & 1 & 34 & 0 & 1 & 0 & 0 & 0 & 1 & ⋯ & 3 &  0 & 30 & 1 & 1 & 0 & 10 & 5 & 1 & 0\\\\\n",
       "\t11 & 0 & 0 & 1 & 26 & 0 & 1 & 0 & 0 & 0 & 0 & ⋯ & 3 &  0 & 15 & 1 & 0 & 0 &  7 & 5 & 7 & 0\\\\\n",
       "\t12 & 0 & 1 & 1 & 33 & 0 & 1 & 1 & 0 & 1 & 0 & ⋯ & 4 & 30 & 28 & 1 & 0 & 0 &  4 & 6 & 2 & 0\\\\\n",
       "\t13 & 1 & 0 & 1 & 33 & 0 & 0 & 0 & 0 & 1 & 0 & ⋯ & 2 &  5 &  0 & 0 & 0 & 0 &  6 & 6 & 8 & 0\\\\\n",
       "\t14 & 1 & 1 & 1 & 21 & 0 & 0 & 0 & 0 & 1 & 1 & ⋯ & 3 &  0 &  0 & 0 & 0 & 0 & 10 & 4 & 3 & 0\\\\\n",
       "\t15 & 0 & 0 & 0 & 23 & 0 & 0 & 0 & 0 & 0 & 0 & ⋯ & 2 & 15 &  0 & 0 & 0 & 0 &  2 & 6 & 7 & 0\\\\\n",
       "\t16 & 0 & 1 & 1 & 28 & 0 & 0 & 0 & 0 & 0 & 0 & ⋯ & 2 & 10 &  0 & 0 & 0 & 1 &  4 & 6 & 8 & 0\\\\\n",
       "\t17 & 1 & 1 & 1 & 22 & 0 & 0 & 1 & 1 & 0 & 1 & ⋯ & 3 & 30 &  0 & 0 & 1 & 0 & 12 & 4 & 4 & 0\\\\\n",
       "\t18 & 1 & 1 & 1 & 38 & 0 & 1 & 0 & 0 & 0 & 1 & ⋯ & 5 & 15 & 30 & 1 & 1 & 0 & 13 & 2 & 3 & 0\\\\\n",
       "\t19 & 0 & 0 & 1 & 28 & 0 & 1 & 0 & 0 & 0 & 0 & ⋯ & 3 &  0 &  7 & 1 & 0 & 1 &  5 & 5 & 5 & 0\\\\\n",
       "\t20 & 1 & 1 & 1 & 28 & 0 & 1 & 0 & 0 & 0 & 1 & ⋯ & 3 &  6 &  0 & 0 & 1 & 0 &  9 & 4 & 6 & 0\\\\\n",
       "\t21 & 0 & 0 & 1 & 32 & 0 & 0 & 0 & 0 & 1 & 1 & ⋯ & 2 &  0 &  0 & 0 & 0 & 0 &  5 & 6 & 8 & 0\\\\\n",
       "\t22 & 0 & 1 & 1 & 31 & 0 & 1 & 0 & 0 & 1 & 1 & ⋯ & 1 &  0 &  0 & 0 & 0 & 1 & 12 & 6 & 8 & 0\\\\\n",
       "\t23 & 1 & 0 & 1 & 33 & 0 & 1 & 0 & 0 & 1 & 1 & ⋯ & 1 &  0 &  0 & 0 & 1 & 1 & 13 & 3 & 3 & 0\\\\\n",
       "\t24 & 0 & 0 & 1 & 23 & 0 & 0 & 0 & 0 & 1 & 1 & ⋯ & 1 &  2 &  0 & 0 & 0 & 0 &  6 & 4 & 8 & 0\\\\\n",
       "\t25 & 1 & 0 & 1 & 31 & 0 & 0 & 0 & 0 & 1 & 0 & ⋯ & 3 &  0 &  0 & 0 & 0 & 1 & 11 & 6 & 2 & 0\\\\\n",
       "\t26 & 1 & 0 & 1 & 26 & 0 & 0 & 0 & 0 & 1 & 1 & ⋯ & 2 &  0 &  0 & 0 & 0 & 0 &  9 & 4 & 4 & 0\\\\\n",
       "\t27 & 1 & 1 & 1 & 24 & 0 & 1 & 0 & 0 & 1 & 0 & ⋯ & 3 &  5 &  3 & 1 & 1 & 1 &  8 & 4 & 3 & 0\\\\\n",
       "\t28 & 0 & 0 & 1 & 22 & 0 & 0 & 0 & 0 & 1 & 1 & ⋯ & 2 &  0 & 10 & 1 & 0 & 0 & 12 & 5 & 7 & 0\\\\\n",
       "\t29 & 0 & 0 & 1 & 26 & 0 & 1 & 0 & 0 & 1 & 1 & ⋯ & 1 &  0 &  1 & 1 & 0 & 1 &  4 & 5 & 3 & 0\\\\\n",
       "\t30 & 1 & 1 & 1 & 24 & 0 & 1 & 0 & 0 & 0 & 1 & ⋯ & 5 &  0 & 30 & 1 & 0 & 1 &  9 & 3 & 1 & 0\\\\\n",
       "\t⋮ & ⋮ & ⋮ & ⋮ & ⋮ & ⋮ & ⋮ & ⋮ & ⋮ & ⋮ & ⋮ & ⋱ & ⋮ & ⋮ & ⋮ & ⋮ & ⋮ & ⋮ & ⋮ & ⋮ & ⋮ & ⋮\\\\\n",
       "\t436571 & 1 & 1 & 1 & 29 & 0 & 0 & 0 & 0 & 1 & 0 & ⋯ & 3 &  0 &  1 & 1 & 0 & 1 & 11 & 5 & 5 & 1\\\\\n",
       "\t436572 & 1 & 0 & 1 & 25 & 0 & 1 & 0 & 0 & 0 & 0 & ⋯ & 4 &  2 &  5 & 1 & 0 & 0 &  9 & 5 & 4 & 1\\\\\n",
       "\t436573 & 1 & 1 & 1 & 49 & 1 & 1 & 0 & 0 & 1 & 1 & ⋯ & 5 & 10 &  6 & 1 & 0 & 0 &  7 & 4 & 2 & 1\\\\\n",
       "\t436574 & 0 & 1 & 1 & 37 & 0 & 1 & 0 & 0 & 1 & 0 & ⋯ & 2 &  0 &  0 & 0 & 0 & 1 &  8 & 4 & 8 & 1\\\\\n",
       "\t436575 & 0 & 1 & 1 & 34 & 0 & 1 & 0 & 1 & 0 & 1 & ⋯ & 4 &  0 &  0 & 0 & 0 & 0 & 12 & 4 & 5 & 1\\\\\n",
       "\t436576 & 0 & 1 & 1 & 34 & 0 & 0 & 0 & 0 & 0 & 1 & ⋯ & 4 &  0 &  3 & 1 & 1 & 0 & 10 & 6 & 4 & 1\\\\\n",
       "\t436577 & 1 & 1 & 1 & 33 & 0 & 0 & 0 & 0 & 1 & 1 & ⋯ & 3 &  0 &  0 & 0 & 0 & 0 &  3 & 6 & 8 & 1\\\\\n",
       "\t436578 & 1 & 1 & 1 & 45 & 0 & 1 & 0 & 1 & 0 & 0 & ⋯ & 3 &  5 & 15 & 1 & 1 & 0 & 10 & 4 & 3 & 1\\\\\n",
       "\t436579 & 1 & 1 & 1 & 30 & 0 & 0 & 0 & 0 & 0 & 1 & ⋯ & 5 & 25 & 30 & 1 & 1 & 1 &  7 & 6 & 2 & 1\\\\\n",
       "\t436580 & 1 & 0 & 1 & 29 & 0 & 0 & 0 & 0 & 1 & 1 & ⋯ & 1 &  0 &  1 & 1 & 0 & 0 & 10 & 6 & 8 & 1\\\\\n",
       "\t436581 & 1 & 1 & 1 & 30 & 0 & 0 & 0 & 0 & 1 & 1 & ⋯ & 4 & 30 &  3 & 1 & 0 & 0 &  5 & 6 & 7 & 1\\\\\n",
       "\t436582 & 1 & 1 & 1 & 27 & 0 & 0 & 1 & 1 & 1 & 0 & ⋯ & 3 &  0 &  1 & 1 & 0 & 1 & 13 & 5 & 8 & 1\\\\\n",
       "\t436583 & 1 & 1 & 1 & 33 & 0 & 1 & 0 & 0 & 0 & 0 & ⋯ & 4 &  0 & 28 & 1 & 1 & 1 & 13 & 3 & 7 & 1\\\\\n",
       "\t436584 & 1 & 0 & 1 & 28 & 0 & 0 & 0 & 0 & 1 & 1 & ⋯ & 2 &  0 &  0 & 0 & 0 & 0 & 10 & 3 & 2 & 1\\\\\n",
       "\t436585 & 1 & 1 & 1 & 27 & 0 & 0 & 0 & 0 & 0 & 1 & ⋯ & 5 &  0 & 30 & 1 & 0 & 0 & 13 & 6 & 3 & 1\\\\\n",
       "\t436586 & 0 & 1 & 1 & 35 & 0 & 0 & 0 & 0 & 0 & 0 & ⋯ & 3 &  0 &  5 & 1 & 0 & 0 &  2 & 6 & 7 & 1\\\\\n",
       "\t436587 & 1 & 1 & 1 & 26 & 0 & 0 & 0 & 1 & 1 & 0 & ⋯ & 5 &  0 &  0 & 0 & 1 & 0 & 11 & 4 & 4 & 1\\\\\n",
       "\t436588 & 0 & 0 & 1 & 27 & 0 & 1 & 0 & 0 & 1 & 1 & ⋯ & 4 &  0 &  0 & 0 & 0 & 1 &  9 & 2 & 2 & 1\\\\\n",
       "\t436589 & 1 & 0 & 1 & 38 & 0 & 0 & 0 & 0 & 1 & 1 & ⋯ & 4 &  0 &  0 & 0 & 0 & 0 &  6 & 6 & 3 & 1\\\\\n",
       "\t436590 & 1 & 1 & 1 & 36 & 0 & 0 & 0 & 0 & 0 & 1 & ⋯ & 2 &  4 & 10 & 1 & 0 & 1 &  8 & 6 & 7 & 1\\\\\n",
       "\t436591 & 1 & 0 & 1 & 26 & 0 & 1 & 0 & 0 & 0 & 0 & ⋯ & 5 &  0 & 30 & 1 & 1 & 1 &  6 & 4 & 1 & 1\\\\\n",
       "\t436592 & 1 & 1 & 1 & 28 & 0 & 0 & 0 & 0 & 1 & 0 & ⋯ & 2 &  0 &  2 & 1 & 0 & 1 & 11 & 4 & 4 & 1\\\\\n",
       "\t436593 & 1 & 1 & 1 & 30 & 0 & 1 & 0 & 0 & 1 & 1 & ⋯ & 2 &  0 &  0 & 0 & 1 & 1 & 13 & 6 & 7 & 1\\\\\n",
       "\t436594 & 0 & 1 & 1 & 26 & 0 & 0 & 0 & 0 & 1 & 1 & ⋯ & 3 &  0 &  0 & 0 & 0 & 0 &  9 & 6 & 1 & 1\\\\\n",
       "\t436595 & 1 & 1 & 1 & 42 & 0 & 1 & 0 & 1 & 0 & 0 & ⋯ & 5 & 30 & 30 & 1 & 1 & 1 & 12 & 3 & 3 & 1\\\\\n",
       "\t436596 & 0 & 1 & 1 & 35 & 0 & 1 & 0 & 0 & 1 & 1 & ⋯ & 3 &  0 &  2 & 1 & 0 & 0 &  8 & 5 & 8 & 1\\\\\n",
       "\t436597 & 0 & 0 & 1 & 20 & 0 & 0 & 0 & 0 & 1 & 1 & ⋯ & 1 &  0 &  0 & 0 & 0 & 1 & 10 & 4 & 7 & 1\\\\\n",
       "\t436598 & 1 & 1 & 1 & 42 & 0 & 0 & 0 & 0 & 1 & 1 & ⋯ & 3 & 30 & 20 & 1 & 0 & 0 &  8 & 6 & 5 & 1\\\\\n",
       "\t436599 & 1 & 1 & 1 & 28 & 0 & 0 & 0 & 0 & 1 & 0 & ⋯ & 2 &  0 &  0 & 0 & 0 & 1 & 11 & 6 & 8 & 1\\\\\n",
       "\t436600 & 0 & 0 & 1 & 30 & 0 & 1 & 0 & 0 & 1 & 1 & ⋯ & 3 &  0 &  6 & 1 & 1 & 0 &  6 & 5 & 3 & 1\\\\\n",
       "\\end{tabular}\n"
      ],
      "text/markdown": [
       "\n",
       "A data.frame: 436600 × 24\n",
       "\n",
       "| <!--/--> | HighBP &lt;int&gt; | HighChol &lt;int&gt; | CholCheck &lt;int&gt; | BMI &lt;int&gt; | BMI_over_45 &lt;int&gt; | Smoker &lt;int&gt; | Stroke &lt;int&gt; | HeartDiseaseorAttack &lt;int&gt; | PhysActivity &lt;int&gt; | Fruits &lt;int&gt; | ⋯ ⋯ | GenHlth &lt;int&gt; | MentHlth &lt;int&gt; | PhysHlth &lt;int&gt; | havePhysHlth &lt;int&gt; | DiffWalk &lt;int&gt; | Sex &lt;int&gt; | Age &lt;int&gt; | Education &lt;int&gt; | Income &lt;int&gt; | Diabetes_binary &lt;int&gt; |\n",
       "|---|---|---|---|---|---|---|---|---|---|---|---|---|---|---|---|---|---|---|---|---|---|\n",
       "| 1 | 1 | 1 | 1 | 40 | 0 | 1 | 0 | 0 | 0 | 0 | ⋯ | 5 | 18 | 15 | 1 | 1 | 0 |  9 | 4 | 3 | 0 |\n",
       "| 2 | 0 | 0 | 0 | 25 | 0 | 1 | 0 | 0 | 1 | 0 | ⋯ | 3 |  0 |  0 | 0 | 0 | 0 |  7 | 6 | 1 | 0 |\n",
       "| 3 | 1 | 1 | 1 | 28 | 0 | 0 | 0 | 0 | 0 | 1 | ⋯ | 5 | 30 | 30 | 1 | 1 | 0 |  9 | 4 | 8 | 0 |\n",
       "| 4 | 1 | 0 | 1 | 27 | 0 | 0 | 0 | 0 | 1 | 1 | ⋯ | 2 |  0 |  0 | 0 | 0 | 0 | 11 | 3 | 6 | 0 |\n",
       "| 5 | 1 | 1 | 1 | 24 | 0 | 0 | 0 | 0 | 1 | 1 | ⋯ | 2 |  3 |  0 | 0 | 0 | 0 | 11 | 5 | 4 | 0 |\n",
       "| 6 | 1 | 1 | 1 | 25 | 0 | 1 | 0 | 0 | 1 | 1 | ⋯ | 2 |  0 |  2 | 1 | 0 | 1 | 10 | 6 | 8 | 0 |\n",
       "| 7 | 1 | 0 | 1 | 30 | 0 | 1 | 0 | 0 | 0 | 0 | ⋯ | 3 |  0 | 14 | 1 | 0 | 0 |  9 | 6 | 7 | 0 |\n",
       "| 8 | 1 | 1 | 1 | 25 | 0 | 1 | 0 | 0 | 1 | 0 | ⋯ | 3 |  0 |  0 | 0 | 1 | 0 | 11 | 4 | 4 | 0 |\n",
       "| 9 | 0 | 0 | 1 | 24 | 0 | 0 | 0 | 0 | 0 | 0 | ⋯ | 2 |  0 |  0 | 0 | 0 | 1 |  8 | 4 | 3 | 0 |\n",
       "| 10 | 1 | 1 | 1 | 34 | 0 | 1 | 0 | 0 | 0 | 1 | ⋯ | 3 |  0 | 30 | 1 | 1 | 0 | 10 | 5 | 1 | 0 |\n",
       "| 11 | 0 | 0 | 1 | 26 | 0 | 1 | 0 | 0 | 0 | 0 | ⋯ | 3 |  0 | 15 | 1 | 0 | 0 |  7 | 5 | 7 | 0 |\n",
       "| 12 | 0 | 1 | 1 | 33 | 0 | 1 | 1 | 0 | 1 | 0 | ⋯ | 4 | 30 | 28 | 1 | 0 | 0 |  4 | 6 | 2 | 0 |\n",
       "| 13 | 1 | 0 | 1 | 33 | 0 | 0 | 0 | 0 | 1 | 0 | ⋯ | 2 |  5 |  0 | 0 | 0 | 0 |  6 | 6 | 8 | 0 |\n",
       "| 14 | 1 | 1 | 1 | 21 | 0 | 0 | 0 | 0 | 1 | 1 | ⋯ | 3 |  0 |  0 | 0 | 0 | 0 | 10 | 4 | 3 | 0 |\n",
       "| 15 | 0 | 0 | 0 | 23 | 0 | 0 | 0 | 0 | 0 | 0 | ⋯ | 2 | 15 |  0 | 0 | 0 | 0 |  2 | 6 | 7 | 0 |\n",
       "| 16 | 0 | 1 | 1 | 28 | 0 | 0 | 0 | 0 | 0 | 0 | ⋯ | 2 | 10 |  0 | 0 | 0 | 1 |  4 | 6 | 8 | 0 |\n",
       "| 17 | 1 | 1 | 1 | 22 | 0 | 0 | 1 | 1 | 0 | 1 | ⋯ | 3 | 30 |  0 | 0 | 1 | 0 | 12 | 4 | 4 | 0 |\n",
       "| 18 | 1 | 1 | 1 | 38 | 0 | 1 | 0 | 0 | 0 | 1 | ⋯ | 5 | 15 | 30 | 1 | 1 | 0 | 13 | 2 | 3 | 0 |\n",
       "| 19 | 0 | 0 | 1 | 28 | 0 | 1 | 0 | 0 | 0 | 0 | ⋯ | 3 |  0 |  7 | 1 | 0 | 1 |  5 | 5 | 5 | 0 |\n",
       "| 20 | 1 | 1 | 1 | 28 | 0 | 1 | 0 | 0 | 0 | 1 | ⋯ | 3 |  6 |  0 | 0 | 1 | 0 |  9 | 4 | 6 | 0 |\n",
       "| 21 | 0 | 0 | 1 | 32 | 0 | 0 | 0 | 0 | 1 | 1 | ⋯ | 2 |  0 |  0 | 0 | 0 | 0 |  5 | 6 | 8 | 0 |\n",
       "| 22 | 0 | 1 | 1 | 31 | 0 | 1 | 0 | 0 | 1 | 1 | ⋯ | 1 |  0 |  0 | 0 | 0 | 1 | 12 | 6 | 8 | 0 |\n",
       "| 23 | 1 | 0 | 1 | 33 | 0 | 1 | 0 | 0 | 1 | 1 | ⋯ | 1 |  0 |  0 | 0 | 1 | 1 | 13 | 3 | 3 | 0 |\n",
       "| 24 | 0 | 0 | 1 | 23 | 0 | 0 | 0 | 0 | 1 | 1 | ⋯ | 1 |  2 |  0 | 0 | 0 | 0 |  6 | 4 | 8 | 0 |\n",
       "| 25 | 1 | 0 | 1 | 31 | 0 | 0 | 0 | 0 | 1 | 0 | ⋯ | 3 |  0 |  0 | 0 | 0 | 1 | 11 | 6 | 2 | 0 |\n",
       "| 26 | 1 | 0 | 1 | 26 | 0 | 0 | 0 | 0 | 1 | 1 | ⋯ | 2 |  0 |  0 | 0 | 0 | 0 |  9 | 4 | 4 | 0 |\n",
       "| 27 | 1 | 1 | 1 | 24 | 0 | 1 | 0 | 0 | 1 | 0 | ⋯ | 3 |  5 |  3 | 1 | 1 | 1 |  8 | 4 | 3 | 0 |\n",
       "| 28 | 0 | 0 | 1 | 22 | 0 | 0 | 0 | 0 | 1 | 1 | ⋯ | 2 |  0 | 10 | 1 | 0 | 0 | 12 | 5 | 7 | 0 |\n",
       "| 29 | 0 | 0 | 1 | 26 | 0 | 1 | 0 | 0 | 1 | 1 | ⋯ | 1 |  0 |  1 | 1 | 0 | 1 |  4 | 5 | 3 | 0 |\n",
       "| 30 | 1 | 1 | 1 | 24 | 0 | 1 | 0 | 0 | 0 | 1 | ⋯ | 5 |  0 | 30 | 1 | 0 | 1 |  9 | 3 | 1 | 0 |\n",
       "| ⋮ | ⋮ | ⋮ | ⋮ | ⋮ | ⋮ | ⋮ | ⋮ | ⋮ | ⋮ | ⋮ | ⋱ | ⋮ | ⋮ | ⋮ | ⋮ | ⋮ | ⋮ | ⋮ | ⋮ | ⋮ | ⋮ |\n",
       "| 436571 | 1 | 1 | 1 | 29 | 0 | 0 | 0 | 0 | 1 | 0 | ⋯ | 3 |  0 |  1 | 1 | 0 | 1 | 11 | 5 | 5 | 1 |\n",
       "| 436572 | 1 | 0 | 1 | 25 | 0 | 1 | 0 | 0 | 0 | 0 | ⋯ | 4 |  2 |  5 | 1 | 0 | 0 |  9 | 5 | 4 | 1 |\n",
       "| 436573 | 1 | 1 | 1 | 49 | 1 | 1 | 0 | 0 | 1 | 1 | ⋯ | 5 | 10 |  6 | 1 | 0 | 0 |  7 | 4 | 2 | 1 |\n",
       "| 436574 | 0 | 1 | 1 | 37 | 0 | 1 | 0 | 0 | 1 | 0 | ⋯ | 2 |  0 |  0 | 0 | 0 | 1 |  8 | 4 | 8 | 1 |\n",
       "| 436575 | 0 | 1 | 1 | 34 | 0 | 1 | 0 | 1 | 0 | 1 | ⋯ | 4 |  0 |  0 | 0 | 0 | 0 | 12 | 4 | 5 | 1 |\n",
       "| 436576 | 0 | 1 | 1 | 34 | 0 | 0 | 0 | 0 | 0 | 1 | ⋯ | 4 |  0 |  3 | 1 | 1 | 0 | 10 | 6 | 4 | 1 |\n",
       "| 436577 | 1 | 1 | 1 | 33 | 0 | 0 | 0 | 0 | 1 | 1 | ⋯ | 3 |  0 |  0 | 0 | 0 | 0 |  3 | 6 | 8 | 1 |\n",
       "| 436578 | 1 | 1 | 1 | 45 | 0 | 1 | 0 | 1 | 0 | 0 | ⋯ | 3 |  5 | 15 | 1 | 1 | 0 | 10 | 4 | 3 | 1 |\n",
       "| 436579 | 1 | 1 | 1 | 30 | 0 | 0 | 0 | 0 | 0 | 1 | ⋯ | 5 | 25 | 30 | 1 | 1 | 1 |  7 | 6 | 2 | 1 |\n",
       "| 436580 | 1 | 0 | 1 | 29 | 0 | 0 | 0 | 0 | 1 | 1 | ⋯ | 1 |  0 |  1 | 1 | 0 | 0 | 10 | 6 | 8 | 1 |\n",
       "| 436581 | 1 | 1 | 1 | 30 | 0 | 0 | 0 | 0 | 1 | 1 | ⋯ | 4 | 30 |  3 | 1 | 0 | 0 |  5 | 6 | 7 | 1 |\n",
       "| 436582 | 1 | 1 | 1 | 27 | 0 | 0 | 1 | 1 | 1 | 0 | ⋯ | 3 |  0 |  1 | 1 | 0 | 1 | 13 | 5 | 8 | 1 |\n",
       "| 436583 | 1 | 1 | 1 | 33 | 0 | 1 | 0 | 0 | 0 | 0 | ⋯ | 4 |  0 | 28 | 1 | 1 | 1 | 13 | 3 | 7 | 1 |\n",
       "| 436584 | 1 | 0 | 1 | 28 | 0 | 0 | 0 | 0 | 1 | 1 | ⋯ | 2 |  0 |  0 | 0 | 0 | 0 | 10 | 3 | 2 | 1 |\n",
       "| 436585 | 1 | 1 | 1 | 27 | 0 | 0 | 0 | 0 | 0 | 1 | ⋯ | 5 |  0 | 30 | 1 | 0 | 0 | 13 | 6 | 3 | 1 |\n",
       "| 436586 | 0 | 1 | 1 | 35 | 0 | 0 | 0 | 0 | 0 | 0 | ⋯ | 3 |  0 |  5 | 1 | 0 | 0 |  2 | 6 | 7 | 1 |\n",
       "| 436587 | 1 | 1 | 1 | 26 | 0 | 0 | 0 | 1 | 1 | 0 | ⋯ | 5 |  0 |  0 | 0 | 1 | 0 | 11 | 4 | 4 | 1 |\n",
       "| 436588 | 0 | 0 | 1 | 27 | 0 | 1 | 0 | 0 | 1 | 1 | ⋯ | 4 |  0 |  0 | 0 | 0 | 1 |  9 | 2 | 2 | 1 |\n",
       "| 436589 | 1 | 0 | 1 | 38 | 0 | 0 | 0 | 0 | 1 | 1 | ⋯ | 4 |  0 |  0 | 0 | 0 | 0 |  6 | 6 | 3 | 1 |\n",
       "| 436590 | 1 | 1 | 1 | 36 | 0 | 0 | 0 | 0 | 0 | 1 | ⋯ | 2 |  4 | 10 | 1 | 0 | 1 |  8 | 6 | 7 | 1 |\n",
       "| 436591 | 1 | 0 | 1 | 26 | 0 | 1 | 0 | 0 | 0 | 0 | ⋯ | 5 |  0 | 30 | 1 | 1 | 1 |  6 | 4 | 1 | 1 |\n",
       "| 436592 | 1 | 1 | 1 | 28 | 0 | 0 | 0 | 0 | 1 | 0 | ⋯ | 2 |  0 |  2 | 1 | 0 | 1 | 11 | 4 | 4 | 1 |\n",
       "| 436593 | 1 | 1 | 1 | 30 | 0 | 1 | 0 | 0 | 1 | 1 | ⋯ | 2 |  0 |  0 | 0 | 1 | 1 | 13 | 6 | 7 | 1 |\n",
       "| 436594 | 0 | 1 | 1 | 26 | 0 | 0 | 0 | 0 | 1 | 1 | ⋯ | 3 |  0 |  0 | 0 | 0 | 0 |  9 | 6 | 1 | 1 |\n",
       "| 436595 | 1 | 1 | 1 | 42 | 0 | 1 | 0 | 1 | 0 | 0 | ⋯ | 5 | 30 | 30 | 1 | 1 | 1 | 12 | 3 | 3 | 1 |\n",
       "| 436596 | 0 | 1 | 1 | 35 | 0 | 1 | 0 | 0 | 1 | 1 | ⋯ | 3 |  0 |  2 | 1 | 0 | 0 |  8 | 5 | 8 | 1 |\n",
       "| 436597 | 0 | 0 | 1 | 20 | 0 | 0 | 0 | 0 | 1 | 1 | ⋯ | 1 |  0 |  0 | 0 | 0 | 1 | 10 | 4 | 7 | 1 |\n",
       "| 436598 | 1 | 1 | 1 | 42 | 0 | 0 | 0 | 0 | 1 | 1 | ⋯ | 3 | 30 | 20 | 1 | 0 | 0 |  8 | 6 | 5 | 1 |\n",
       "| 436599 | 1 | 1 | 1 | 28 | 0 | 0 | 0 | 0 | 1 | 0 | ⋯ | 2 |  0 |  0 | 0 | 0 | 1 | 11 | 6 | 8 | 1 |\n",
       "| 436600 | 0 | 0 | 1 | 30 | 0 | 1 | 0 | 0 | 1 | 1 | ⋯ | 3 |  0 |  6 | 1 | 1 | 0 |  6 | 5 | 3 | 1 |\n",
       "\n"
      ],
      "text/plain": [
       "       HighBP HighChol CholCheck BMI BMI_over_45 Smoker Stroke\n",
       "1      1      1        1         40  0           1      0     \n",
       "2      0      0        0         25  0           1      0     \n",
       "3      1      1        1         28  0           0      0     \n",
       "4      1      0        1         27  0           0      0     \n",
       "5      1      1        1         24  0           0      0     \n",
       "6      1      1        1         25  0           1      0     \n",
       "7      1      0        1         30  0           1      0     \n",
       "8      1      1        1         25  0           1      0     \n",
       "9      0      0        1         24  0           0      0     \n",
       "10     1      1        1         34  0           1      0     \n",
       "11     0      0        1         26  0           1      0     \n",
       "12     0      1        1         33  0           1      1     \n",
       "13     1      0        1         33  0           0      0     \n",
       "14     1      1        1         21  0           0      0     \n",
       "15     0      0        0         23  0           0      0     \n",
       "16     0      1        1         28  0           0      0     \n",
       "17     1      1        1         22  0           0      1     \n",
       "18     1      1        1         38  0           1      0     \n",
       "19     0      0        1         28  0           1      0     \n",
       "20     1      1        1         28  0           1      0     \n",
       "21     0      0        1         32  0           0      0     \n",
       "22     0      1        1         31  0           1      0     \n",
       "23     1      0        1         33  0           1      0     \n",
       "24     0      0        1         23  0           0      0     \n",
       "25     1      0        1         31  0           0      0     \n",
       "26     1      0        1         26  0           0      0     \n",
       "27     1      1        1         24  0           1      0     \n",
       "28     0      0        1         22  0           0      0     \n",
       "29     0      0        1         26  0           1      0     \n",
       "30     1      1        1         24  0           1      0     \n",
       "<U+22EE>      <U+22EE> <U+22EE> <U+22EE>  <U+22EE> <U+22EE>    <U+22EE> <U+22EE>\n",
       "436571 1      1        1         29  0           0      0     \n",
       "436572 1      0        1         25  0           1      0     \n",
       "436573 1      1        1         49  1           1      0     \n",
       "436574 0      1        1         37  0           1      0     \n",
       "436575 0      1        1         34  0           1      0     \n",
       "436576 0      1        1         34  0           0      0     \n",
       "436577 1      1        1         33  0           0      0     \n",
       "436578 1      1        1         45  0           1      0     \n",
       "436579 1      1        1         30  0           0      0     \n",
       "436580 1      0        1         29  0           0      0     \n",
       "436581 1      1        1         30  0           0      0     \n",
       "436582 1      1        1         27  0           0      1     \n",
       "436583 1      1        1         33  0           1      0     \n",
       "436584 1      0        1         28  0           0      0     \n",
       "436585 1      1        1         27  0           0      0     \n",
       "436586 0      1        1         35  0           0      0     \n",
       "436587 1      1        1         26  0           0      0     \n",
       "436588 0      0        1         27  0           1      0     \n",
       "436589 1      0        1         38  0           0      0     \n",
       "436590 1      1        1         36  0           0      0     \n",
       "436591 1      0        1         26  0           1      0     \n",
       "436592 1      1        1         28  0           0      0     \n",
       "436593 1      1        1         30  0           1      0     \n",
       "436594 0      1        1         26  0           0      0     \n",
       "436595 1      1        1         42  0           1      0     \n",
       "436596 0      1        1         35  0           1      0     \n",
       "436597 0      0        1         20  0           0      0     \n",
       "436598 1      1        1         42  0           0      0     \n",
       "436599 1      1        1         28  0           0      0     \n",
       "436600 0      0        1         30  0           1      0     \n",
       "       HeartDiseaseorAttack PhysActivity Fruits <U+22EF>        GenHlth MentHlth\n",
       "1      0                    0            0      <U+22EF> 5       18      \n",
       "2      0                    1            0      <U+22EF> 3        0      \n",
       "3      0                    0            1      <U+22EF> 5       30      \n",
       "4      0                    1            1      <U+22EF> 2        0      \n",
       "5      0                    1            1      <U+22EF> 2        3      \n",
       "6      0                    1            1      <U+22EF> 2        0      \n",
       "7      0                    0            0      <U+22EF> 3        0      \n",
       "8      0                    1            0      <U+22EF> 3        0      \n",
       "9      0                    0            0      <U+22EF> 2        0      \n",
       "10     0                    0            1      <U+22EF> 3        0      \n",
       "11     0                    0            0      <U+22EF> 3        0      \n",
       "12     0                    1            0      <U+22EF> 4       30      \n",
       "13     0                    1            0      <U+22EF> 2        5      \n",
       "14     0                    1            1      <U+22EF> 3        0      \n",
       "15     0                    0            0      <U+22EF> 2       15      \n",
       "16     0                    0            0      <U+22EF> 2       10      \n",
       "17     1                    0            1      <U+22EF> 3       30      \n",
       "18     0                    0            1      <U+22EF> 5       15      \n",
       "19     0                    0            0      <U+22EF> 3        0      \n",
       "20     0                    0            1      <U+22EF> 3        6      \n",
       "21     0                    1            1      <U+22EF> 2        0      \n",
       "22     0                    1            1      <U+22EF> 1        0      \n",
       "23     0                    1            1      <U+22EF> 1        0      \n",
       "24     0                    1            1      <U+22EF> 1        2      \n",
       "25     0                    1            0      <U+22EF> 3        0      \n",
       "26     0                    1            1      <U+22EF> 2        0      \n",
       "27     0                    1            0      <U+22EF> 3        5      \n",
       "28     0                    1            1      <U+22EF> 2        0      \n",
       "29     0                    1            1      <U+22EF> 1        0      \n",
       "30     0                    0            1      <U+22EF> 5        0      \n",
       "<U+22EE>      <U+22EE>             <U+22EE>     <U+22EE> <U+22F1> <U+22EE> <U+22EE>\n",
       "436571 0                    1            0      <U+22EF> 3        0      \n",
       "436572 0                    0            0      <U+22EF> 4        2      \n",
       "436573 0                    1            1      <U+22EF> 5       10      \n",
       "436574 0                    1            0      <U+22EF> 2        0      \n",
       "436575 1                    0            1      <U+22EF> 4        0      \n",
       "436576 0                    0            1      <U+22EF> 4        0      \n",
       "436577 0                    1            1      <U+22EF> 3        0      \n",
       "436578 1                    0            0      <U+22EF> 3        5      \n",
       "436579 0                    0            1      <U+22EF> 5       25      \n",
       "436580 0                    1            1      <U+22EF> 1        0      \n",
       "436581 0                    1            1      <U+22EF> 4       30      \n",
       "436582 1                    1            0      <U+22EF> 3        0      \n",
       "436583 0                    0            0      <U+22EF> 4        0      \n",
       "436584 0                    1            1      <U+22EF> 2        0      \n",
       "436585 0                    0            1      <U+22EF> 5        0      \n",
       "436586 0                    0            0      <U+22EF> 3        0      \n",
       "436587 1                    1            0      <U+22EF> 5        0      \n",
       "436588 0                    1            1      <U+22EF> 4        0      \n",
       "436589 0                    1            1      <U+22EF> 4        0      \n",
       "436590 0                    0            1      <U+22EF> 2        4      \n",
       "436591 0                    0            0      <U+22EF> 5        0      \n",
       "436592 0                    1            0      <U+22EF> 2        0      \n",
       "436593 0                    1            1      <U+22EF> 2        0      \n",
       "436594 0                    1            1      <U+22EF> 3        0      \n",
       "436595 1                    0            0      <U+22EF> 5       30      \n",
       "436596 0                    1            1      <U+22EF> 3        0      \n",
       "436597 0                    1            1      <U+22EF> 1        0      \n",
       "436598 0                    1            1      <U+22EF> 3       30      \n",
       "436599 0                    1            0      <U+22EF> 2        0      \n",
       "436600 0                    1            1      <U+22EF> 3        0      \n",
       "       PhysHlth havePhysHlth DiffWalk Sex Age Education Income Diabetes_binary\n",
       "1      15       1            1        0    9  4         3      0              \n",
       "2       0       0            0        0    7  6         1      0              \n",
       "3      30       1            1        0    9  4         8      0              \n",
       "4       0       0            0        0   11  3         6      0              \n",
       "5       0       0            0        0   11  5         4      0              \n",
       "6       2       1            0        1   10  6         8      0              \n",
       "7      14       1            0        0    9  6         7      0              \n",
       "8       0       0            1        0   11  4         4      0              \n",
       "9       0       0            0        1    8  4         3      0              \n",
       "10     30       1            1        0   10  5         1      0              \n",
       "11     15       1            0        0    7  5         7      0              \n",
       "12     28       1            0        0    4  6         2      0              \n",
       "13      0       0            0        0    6  6         8      0              \n",
       "14      0       0            0        0   10  4         3      0              \n",
       "15      0       0            0        0    2  6         7      0              \n",
       "16      0       0            0        1    4  6         8      0              \n",
       "17      0       0            1        0   12  4         4      0              \n",
       "18     30       1            1        0   13  2         3      0              \n",
       "19      7       1            0        1    5  5         5      0              \n",
       "20      0       0            1        0    9  4         6      0              \n",
       "21      0       0            0        0    5  6         8      0              \n",
       "22      0       0            0        1   12  6         8      0              \n",
       "23      0       0            1        1   13  3         3      0              \n",
       "24      0       0            0        0    6  4         8      0              \n",
       "25      0       0            0        1   11  6         2      0              \n",
       "26      0       0            0        0    9  4         4      0              \n",
       "27      3       1            1        1    8  4         3      0              \n",
       "28     10       1            0        0   12  5         7      0              \n",
       "29      1       1            0        1    4  5         3      0              \n",
       "30     30       1            0        1    9  3         1      0              \n",
       "<U+22EE>      <U+22EE> <U+22EE>     <U+22EE> <U+22EE> <U+22EE> <U+22EE>  <U+22EE> <U+22EE>       \n",
       "436571  1       1            0        1   11  5         5      1              \n",
       "436572  5       1            0        0    9  5         4      1              \n",
       "436573  6       1            0        0    7  4         2      1              \n",
       "436574  0       0            0        1    8  4         8      1              \n",
       "436575  0       0            0        0   12  4         5      1              \n",
       "436576  3       1            1        0   10  6         4      1              \n",
       "436577  0       0            0        0    3  6         8      1              \n",
       "436578 15       1            1        0   10  4         3      1              \n",
       "436579 30       1            1        1    7  6         2      1              \n",
       "436580  1       1            0        0   10  6         8      1              \n",
       "436581  3       1            0        0    5  6         7      1              \n",
       "436582  1       1            0        1   13  5         8      1              \n",
       "436583 28       1            1        1   13  3         7      1              \n",
       "436584  0       0            0        0   10  3         2      1              \n",
       "436585 30       1            0        0   13  6         3      1              \n",
       "436586  5       1            0        0    2  6         7      1              \n",
       "436587  0       0            1        0   11  4         4      1              \n",
       "436588  0       0            0        1    9  2         2      1              \n",
       "436589  0       0            0        0    6  6         3      1              \n",
       "436590 10       1            0        1    8  6         7      1              \n",
       "436591 30       1            1        1    6  4         1      1              \n",
       "436592  2       1            0        1   11  4         4      1              \n",
       "436593  0       0            1        1   13  6         7      1              \n",
       "436594  0       0            0        0    9  6         1      1              \n",
       "436595 30       1            1        1   12  3         3      1              \n",
       "436596  2       1            0        0    8  5         8      1              \n",
       "436597  0       0            0        1   10  4         7      1              \n",
       "436598 20       1            0        0    8  6         5      1              \n",
       "436599  0       0            0        1   11  6         8      1              \n",
       "436600  6       1            1        0    6  5         3      1              "
      ]
     },
     "metadata": {},
     "output_type": "display_data"
    }
   ],
   "source": [
    "balanced_df"
   ]
  },
  {
   "cell_type": "code",
   "execution_count": null,
   "id": "cb422ca7-3558-46f2-9913-e06bcc4d75f2",
   "metadata": {},
   "outputs": [],
   "source": []
  }
 ],
 "metadata": {
  "kernelspec": {
   "display_name": "R",
   "language": "R",
   "name": "ir"
  },
  "language_info": {
   "codemirror_mode": "r",
   "file_extension": ".r",
   "mimetype": "text/x-r-source",
   "name": "R",
   "pygments_lexer": "r",
   "version": "4.0.5"
  }
 },
 "nbformat": 4,
 "nbformat_minor": 5
}
