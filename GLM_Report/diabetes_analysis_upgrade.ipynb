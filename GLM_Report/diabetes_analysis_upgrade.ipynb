{
 "cells": [
  {
   "cell_type": "markdown",
   "id": "9775ac29-68f2-4038-a44d-7ddcad6cd76a",
   "metadata": {},
   "source": [
    "# Diabetes Analysis"
   ]
  },
  {
   "cell_type": "markdown",
   "id": "512df902-fb91-4257-a7dd-4c6a1fcd460c",
   "metadata": {},
   "source": [
    "### Author: Ly Duc Trung"
   ]
  },
  {
   "cell_type": "markdown",
   "id": "b9abdf19-0780-46d7-9246-ac0b25747145",
   "metadata": {},
   "source": [
    "### Link: https://github.com/DucTrung1802/DS/blob/main/GLM_Report/diabetes_analysis_upgrade.ipynb"
   ]
  },
  {
   "cell_type": "markdown",
   "id": "deb0884f-4606-4ab4-93f5-43a781e1f32d",
   "metadata": {},
   "source": [
    "### Dataset Link: https://www.archive.ics.uci.edu/dataset/891/cdc+diabetes+health+indicators"
   ]
  },
  {
   "cell_type": "markdown",
   "id": "24268dcc-9c1b-4bc9-803b-930bb7eaa68c",
   "metadata": {},
   "source": [
    "## 0. Install and import libraries"
   ]
  },
  {
   "cell_type": "markdown",
   "id": "fadcda47-91d2-41e0-96f7-eceb060570dc",
   "metadata": {},
   "source": [
    "### 0.1. Check R version"
   ]
  },
  {
   "cell_type": "code",
   "execution_count": 489,
   "id": "a8502f57-a490-4226-ab07-808fa431ce9e",
   "metadata": {},
   "outputs": [
    {
     "data": {
      "text/html": [
       "<dl>\n",
       "\t<dt>$platform</dt>\n",
       "\t\t<dd>'x86_64-w64-mingw32'</dd>\n",
       "\t<dt>$arch</dt>\n",
       "\t\t<dd>'x86_64'</dd>\n",
       "\t<dt>$os</dt>\n",
       "\t\t<dd>'mingw32'</dd>\n",
       "\t<dt>$system</dt>\n",
       "\t\t<dd>'x86_64, mingw32'</dd>\n",
       "\t<dt>$status</dt>\n",
       "\t\t<dd>''</dd>\n",
       "\t<dt>$major</dt>\n",
       "\t\t<dd>'4'</dd>\n",
       "\t<dt>$minor</dt>\n",
       "\t\t<dd>'0.5'</dd>\n",
       "\t<dt>$year</dt>\n",
       "\t\t<dd>'2021'</dd>\n",
       "\t<dt>$month</dt>\n",
       "\t\t<dd>'03'</dd>\n",
       "\t<dt>$day</dt>\n",
       "\t\t<dd>'31'</dd>\n",
       "\t<dt>$`svn rev`</dt>\n",
       "\t\t<dd>'80133'</dd>\n",
       "\t<dt>$language</dt>\n",
       "\t\t<dd>'R'</dd>\n",
       "\t<dt>$version.string</dt>\n",
       "\t\t<dd>'R version 4.0.5 (2021-03-31)'</dd>\n",
       "\t<dt>$nickname</dt>\n",
       "\t\t<dd>'Shake and Throw'</dd>\n",
       "</dl>\n"
      ],
      "text/latex": [
       "\\begin{description}\n",
       "\\item[\\$platform] 'x86\\_64-w64-mingw32'\n",
       "\\item[\\$arch] 'x86\\_64'\n",
       "\\item[\\$os] 'mingw32'\n",
       "\\item[\\$system] 'x86\\_64, mingw32'\n",
       "\\item[\\$status] ''\n",
       "\\item[\\$major] '4'\n",
       "\\item[\\$minor] '0.5'\n",
       "\\item[\\$year] '2021'\n",
       "\\item[\\$month] '03'\n",
       "\\item[\\$day] '31'\n",
       "\\item[\\$`svn rev`] '80133'\n",
       "\\item[\\$language] 'R'\n",
       "\\item[\\$version.string] 'R version 4.0.5 (2021-03-31)'\n",
       "\\item[\\$nickname] 'Shake and Throw'\n",
       "\\end{description}\n"
      ],
      "text/markdown": [
       "$platform\n",
       ":   'x86_64-w64-mingw32'\n",
       "$arch\n",
       ":   'x86_64'\n",
       "$os\n",
       ":   'mingw32'\n",
       "$system\n",
       ":   'x86_64, mingw32'\n",
       "$status\n",
       ":   ''\n",
       "$major\n",
       ":   '4'\n",
       "$minor\n",
       ":   '0.5'\n",
       "$year\n",
       ":   '2021'\n",
       "$month\n",
       ":   '03'\n",
       "$day\n",
       ":   '31'\n",
       "$`svn rev`\n",
       ":   '80133'\n",
       "$language\n",
       ":   'R'\n",
       "$version.string\n",
       ":   'R version 4.0.5 (2021-03-31)'\n",
       "$nickname\n",
       ":   'Shake and Throw'\n",
       "\n",
       "\n"
      ],
      "text/plain": [
       "$platform\n",
       "[1] \"x86_64-w64-mingw32\"\n",
       "\n",
       "$arch\n",
       "[1] \"x86_64\"\n",
       "\n",
       "$os\n",
       "[1] \"mingw32\"\n",
       "\n",
       "$system\n",
       "[1] \"x86_64, mingw32\"\n",
       "\n",
       "$status\n",
       "[1] \"\"\n",
       "\n",
       "$major\n",
       "[1] \"4\"\n",
       "\n",
       "$minor\n",
       "[1] \"0.5\"\n",
       "\n",
       "$year\n",
       "[1] \"2021\"\n",
       "\n",
       "$month\n",
       "[1] \"03\"\n",
       "\n",
       "$day\n",
       "[1] \"31\"\n",
       "\n",
       "$`svn rev`\n",
       "[1] \"80133\"\n",
       "\n",
       "$language\n",
       "[1] \"R\"\n",
       "\n",
       "$version.string\n",
       "[1] \"R version 4.0.5 (2021-03-31)\"\n",
       "\n",
       "$nickname\n",
       "[1] \"Shake and Throw\"\n"
      ]
     },
     "metadata": {},
     "output_type": "display_data"
    }
   ],
   "source": [
    "R.Version()"
   ]
  },
  {
   "cell_type": "markdown",
   "id": "8fb3de35-59ae-4343-890b-5c3879386338",
   "metadata": {},
   "source": [
    "### 0.2. Install"
   ]
  },
  {
   "cell_type": "code",
   "execution_count": 490,
   "id": "f6cb5ab9-48a8-44f5-ae56-4b29fcaa115f",
   "metadata": {},
   "outputs": [],
   "source": [
    "# INSTALL THESE PACKAGES IN CONDA TERMINAL\n"
   ]
  },
  {
   "cell_type": "markdown",
   "id": "6d09d272-1ddb-40e3-9d79-5fc9a6781023",
   "metadata": {},
   "source": [
    "### 0.3. Import"
   ]
  },
  {
   "cell_type": "code",
   "execution_count": 491,
   "id": "54957588-c263-485b-ad1d-a36ffd93e607",
   "metadata": {
    "scrolled": true
   },
   "outputs": [],
   "source": [
    "library(ggplot2)\n",
    "library(ROSE)\n",
    "library(psych)\n",
    "library(DescTools)\n",
    "library(BSDA)\n",
    "library(gmodels)\n",
    "library(rcompanion)\n",
    "library(pcaPP)\n",
    "library(corrplot)\n",
    "library(caret)\n",
    "library(MASS)\n",
    "library(pROC)\n",
    "library(DHARMa)"
   ]
  },
  {
   "cell_type": "code",
   "execution_count": 492,
   "id": "f1c3815e-3de9-4a6f-9af1-f379a1bfaca8",
   "metadata": {},
   "outputs": [],
   "source": [
    "### 0.4. Constants"
   ]
  },
  {
   "cell_type": "code",
   "execution_count": 493,
   "id": "890b3957-3123-4894-963b-2daf43112f5b",
   "metadata": {},
   "outputs": [],
   "source": [
    "SEED = 123\n",
    "MAIN_COLOR = \"#1155cc\""
   ]
  },
  {
   "cell_type": "markdown",
   "id": "da0c30e4-e50c-47ed-acd6-7053b9751020",
   "metadata": {},
   "source": [
    "## 1. Import Data"
   ]
  },
  {
   "cell_type": "code",
   "execution_count": 494,
   "id": "d18a7dba-cc4f-451a-ab11-0aec662256c5",
   "metadata": {},
   "outputs": [],
   "source": [
    "input_data = read.csv(\"diabetes_full_data.csv\")"
   ]
  },
  {
   "cell_type": "code",
   "execution_count": 495,
   "id": "eb04da3a-f418-48cb-880b-e697c54c0cd4",
   "metadata": {},
   "outputs": [],
   "source": [
    "df = data.frame(input_data)"
   ]
  },
  {
   "cell_type": "code",
   "execution_count": 496,
   "id": "36d9ec88-07bb-405a-823c-d0f539fac490",
   "metadata": {},
   "outputs": [
    {
     "data": {
      "text/html": [
       "<table class=\"dataframe\">\n",
       "<caption>A data.frame: 253680 × 23</caption>\n",
       "<thead>\n",
       "\t<tr><th scope=col>X</th><th scope=col>HighBP</th><th scope=col>HighChol</th><th scope=col>CholCheck</th><th scope=col>BMI</th><th scope=col>Smoker</th><th scope=col>Stroke</th><th scope=col>HeartDiseaseorAttack</th><th scope=col>PhysActivity</th><th scope=col>Fruits</th><th scope=col>⋯</th><th scope=col>NoDocbcCost</th><th scope=col>GenHlth</th><th scope=col>MentHlth</th><th scope=col>PhysHlth</th><th scope=col>DiffWalk</th><th scope=col>Sex</th><th scope=col>Age</th><th scope=col>Education</th><th scope=col>Income</th><th scope=col>Diabetes_binary</th></tr>\n",
       "\t<tr><th scope=col>&lt;int&gt;</th><th scope=col>&lt;int&gt;</th><th scope=col>&lt;int&gt;</th><th scope=col>&lt;int&gt;</th><th scope=col>&lt;int&gt;</th><th scope=col>&lt;int&gt;</th><th scope=col>&lt;int&gt;</th><th scope=col>&lt;int&gt;</th><th scope=col>&lt;int&gt;</th><th scope=col>&lt;int&gt;</th><th scope=col>⋯</th><th scope=col>&lt;int&gt;</th><th scope=col>&lt;int&gt;</th><th scope=col>&lt;int&gt;</th><th scope=col>&lt;int&gt;</th><th scope=col>&lt;int&gt;</th><th scope=col>&lt;int&gt;</th><th scope=col>&lt;int&gt;</th><th scope=col>&lt;int&gt;</th><th scope=col>&lt;int&gt;</th><th scope=col>&lt;int&gt;</th></tr>\n",
       "</thead>\n",
       "<tbody>\n",
       "\t<tr><td> 0</td><td>1</td><td>1</td><td>1</td><td>40</td><td>1</td><td>0</td><td>0</td><td>0</td><td>0</td><td>⋯</td><td>0</td><td>5</td><td>18</td><td>15</td><td>1</td><td>0</td><td> 9</td><td>4</td><td>3</td><td>0</td></tr>\n",
       "\t<tr><td> 1</td><td>0</td><td>0</td><td>0</td><td>25</td><td>1</td><td>0</td><td>0</td><td>1</td><td>0</td><td>⋯</td><td>1</td><td>3</td><td> 0</td><td> 0</td><td>0</td><td>0</td><td> 7</td><td>6</td><td>1</td><td>0</td></tr>\n",
       "\t<tr><td> 2</td><td>1</td><td>1</td><td>1</td><td>28</td><td>0</td><td>0</td><td>0</td><td>0</td><td>1</td><td>⋯</td><td>1</td><td>5</td><td>30</td><td>30</td><td>1</td><td>0</td><td> 9</td><td>4</td><td>8</td><td>0</td></tr>\n",
       "\t<tr><td> 3</td><td>1</td><td>0</td><td>1</td><td>27</td><td>0</td><td>0</td><td>0</td><td>1</td><td>1</td><td>⋯</td><td>0</td><td>2</td><td> 0</td><td> 0</td><td>0</td><td>0</td><td>11</td><td>3</td><td>6</td><td>0</td></tr>\n",
       "\t<tr><td> 4</td><td>1</td><td>1</td><td>1</td><td>24</td><td>0</td><td>0</td><td>0</td><td>1</td><td>1</td><td>⋯</td><td>0</td><td>2</td><td> 3</td><td> 0</td><td>0</td><td>0</td><td>11</td><td>5</td><td>4</td><td>0</td></tr>\n",
       "\t<tr><td> 5</td><td>1</td><td>1</td><td>1</td><td>25</td><td>1</td><td>0</td><td>0</td><td>1</td><td>1</td><td>⋯</td><td>0</td><td>2</td><td> 0</td><td> 2</td><td>0</td><td>1</td><td>10</td><td>6</td><td>8</td><td>0</td></tr>\n",
       "\t<tr><td> 6</td><td>1</td><td>0</td><td>1</td><td>30</td><td>1</td><td>0</td><td>0</td><td>0</td><td>0</td><td>⋯</td><td>0</td><td>3</td><td> 0</td><td>14</td><td>0</td><td>0</td><td> 9</td><td>6</td><td>7</td><td>0</td></tr>\n",
       "\t<tr><td> 7</td><td>1</td><td>1</td><td>1</td><td>25</td><td>1</td><td>0</td><td>0</td><td>1</td><td>0</td><td>⋯</td><td>0</td><td>3</td><td> 0</td><td> 0</td><td>1</td><td>0</td><td>11</td><td>4</td><td>4</td><td>0</td></tr>\n",
       "\t<tr><td> 8</td><td>1</td><td>1</td><td>1</td><td>30</td><td>1</td><td>0</td><td>1</td><td>0</td><td>1</td><td>⋯</td><td>0</td><td>5</td><td>30</td><td>30</td><td>1</td><td>0</td><td> 9</td><td>5</td><td>1</td><td>1</td></tr>\n",
       "\t<tr><td> 9</td><td>0</td><td>0</td><td>1</td><td>24</td><td>0</td><td>0</td><td>0</td><td>0</td><td>0</td><td>⋯</td><td>0</td><td>2</td><td> 0</td><td> 0</td><td>0</td><td>1</td><td> 8</td><td>4</td><td>3</td><td>0</td></tr>\n",
       "\t<tr><td>10</td><td>0</td><td>0</td><td>1</td><td>25</td><td>1</td><td>0</td><td>0</td><td>1</td><td>1</td><td>⋯</td><td>0</td><td>3</td><td> 0</td><td> 0</td><td>0</td><td>1</td><td>13</td><td>6</td><td>8</td><td>1</td></tr>\n",
       "\t<tr><td>11</td><td>1</td><td>1</td><td>1</td><td>34</td><td>1</td><td>0</td><td>0</td><td>0</td><td>1</td><td>⋯</td><td>0</td><td>3</td><td> 0</td><td>30</td><td>1</td><td>0</td><td>10</td><td>5</td><td>1</td><td>0</td></tr>\n",
       "\t<tr><td>12</td><td>0</td><td>0</td><td>1</td><td>26</td><td>1</td><td>0</td><td>0</td><td>0</td><td>0</td><td>⋯</td><td>0</td><td>3</td><td> 0</td><td>15</td><td>0</td><td>0</td><td> 7</td><td>5</td><td>7</td><td>0</td></tr>\n",
       "\t<tr><td>13</td><td>1</td><td>1</td><td>1</td><td>28</td><td>0</td><td>0</td><td>0</td><td>0</td><td>0</td><td>⋯</td><td>0</td><td>4</td><td> 0</td><td> 0</td><td>1</td><td>0</td><td>11</td><td>4</td><td>6</td><td>1</td></tr>\n",
       "\t<tr><td>14</td><td>0</td><td>1</td><td>1</td><td>33</td><td>1</td><td>1</td><td>0</td><td>1</td><td>0</td><td>⋯</td><td>1</td><td>4</td><td>30</td><td>28</td><td>0</td><td>0</td><td> 4</td><td>6</td><td>2</td><td>0</td></tr>\n",
       "\t<tr><td>15</td><td>1</td><td>0</td><td>1</td><td>33</td><td>0</td><td>0</td><td>0</td><td>1</td><td>0</td><td>⋯</td><td>0</td><td>2</td><td> 5</td><td> 0</td><td>0</td><td>0</td><td> 6</td><td>6</td><td>8</td><td>0</td></tr>\n",
       "\t<tr><td>16</td><td>1</td><td>1</td><td>1</td><td>21</td><td>0</td><td>0</td><td>0</td><td>1</td><td>1</td><td>⋯</td><td>0</td><td>3</td><td> 0</td><td> 0</td><td>0</td><td>0</td><td>10</td><td>4</td><td>3</td><td>0</td></tr>\n",
       "\t<tr><td>17</td><td>0</td><td>0</td><td>1</td><td>23</td><td>1</td><td>0</td><td>0</td><td>1</td><td>0</td><td>⋯</td><td>0</td><td>2</td><td> 0</td><td> 0</td><td>0</td><td>1</td><td> 7</td><td>5</td><td>6</td><td>1</td></tr>\n",
       "\t<tr><td>18</td><td>0</td><td>0</td><td>0</td><td>23</td><td>0</td><td>0</td><td>0</td><td>0</td><td>0</td><td>⋯</td><td>0</td><td>2</td><td>15</td><td> 0</td><td>0</td><td>0</td><td> 2</td><td>6</td><td>7</td><td>0</td></tr>\n",
       "\t<tr><td>19</td><td>0</td><td>1</td><td>1</td><td>28</td><td>0</td><td>0</td><td>0</td><td>0</td><td>0</td><td>⋯</td><td>0</td><td>2</td><td>10</td><td> 0</td><td>0</td><td>1</td><td> 4</td><td>6</td><td>8</td><td>0</td></tr>\n",
       "\t<tr><td>20</td><td>1</td><td>1</td><td>1</td><td>22</td><td>0</td><td>1</td><td>1</td><td>0</td><td>1</td><td>⋯</td><td>0</td><td>3</td><td>30</td><td> 0</td><td>1</td><td>0</td><td>12</td><td>4</td><td>4</td><td>0</td></tr>\n",
       "\t<tr><td>21</td><td>1</td><td>1</td><td>1</td><td>38</td><td>1</td><td>0</td><td>0</td><td>0</td><td>1</td><td>⋯</td><td>0</td><td>5</td><td>15</td><td>30</td><td>1</td><td>0</td><td>13</td><td>2</td><td>3</td><td>0</td></tr>\n",
       "\t<tr><td>22</td><td>0</td><td>0</td><td>1</td><td>28</td><td>1</td><td>0</td><td>0</td><td>0</td><td>0</td><td>⋯</td><td>0</td><td>3</td><td> 0</td><td> 7</td><td>0</td><td>1</td><td> 5</td><td>5</td><td>5</td><td>0</td></tr>\n",
       "\t<tr><td>23</td><td>1</td><td>0</td><td>1</td><td>27</td><td>0</td><td>0</td><td>0</td><td>1</td><td>1</td><td>⋯</td><td>0</td><td>1</td><td> 0</td><td> 0</td><td>0</td><td>0</td><td>13</td><td>5</td><td>4</td><td>1</td></tr>\n",
       "\t<tr><td>24</td><td>1</td><td>1</td><td>1</td><td>28</td><td>1</td><td>0</td><td>0</td><td>0</td><td>1</td><td>⋯</td><td>0</td><td>3</td><td> 6</td><td> 0</td><td>1</td><td>0</td><td> 9</td><td>4</td><td>6</td><td>0</td></tr>\n",
       "\t<tr><td>25</td><td>0</td><td>0</td><td>1</td><td>32</td><td>0</td><td>0</td><td>0</td><td>1</td><td>1</td><td>⋯</td><td>0</td><td>2</td><td> 0</td><td> 0</td><td>0</td><td>0</td><td> 5</td><td>6</td><td>8</td><td>0</td></tr>\n",
       "\t<tr><td>26</td><td>1</td><td>1</td><td>1</td><td>37</td><td>1</td><td>1</td><td>1</td><td>0</td><td>0</td><td>⋯</td><td>0</td><td>5</td><td> 0</td><td> 0</td><td>1</td><td>1</td><td>10</td><td>6</td><td>5</td><td>1</td></tr>\n",
       "\t<tr><td>27</td><td>1</td><td>1</td><td>1</td><td>28</td><td>1</td><td>0</td><td>1</td><td>0</td><td>0</td><td>⋯</td><td>0</td><td>4</td><td> 0</td><td> 0</td><td>0</td><td>1</td><td>12</td><td>2</td><td>4</td><td>1</td></tr>\n",
       "\t<tr><td>28</td><td>1</td><td>1</td><td>1</td><td>27</td><td>1</td><td>0</td><td>0</td><td>0</td><td>1</td><td>⋯</td><td>0</td><td>4</td><td>20</td><td>20</td><td>1</td><td>0</td><td> 8</td><td>4</td><td>7</td><td>1</td></tr>\n",
       "\t<tr><td>29</td><td>0</td><td>1</td><td>1</td><td>31</td><td>1</td><td>0</td><td>0</td><td>1</td><td>1</td><td>⋯</td><td>0</td><td>1</td><td> 0</td><td> 0</td><td>0</td><td>1</td><td>12</td><td>6</td><td>8</td><td>0</td></tr>\n",
       "\t<tr><td>⋮</td><td>⋮</td><td>⋮</td><td>⋮</td><td>⋮</td><td>⋮</td><td>⋮</td><td>⋮</td><td>⋮</td><td>⋮</td><td>⋱</td><td>⋮</td><td>⋮</td><td>⋮</td><td>⋮</td><td>⋮</td><td>⋮</td><td>⋮</td><td>⋮</td><td>⋮</td><td>⋮</td></tr>\n",
       "\t<tr><td>253650</td><td>1</td><td>0</td><td>1</td><td>27</td><td>0</td><td>0</td><td>0</td><td>1</td><td>0</td><td>⋯</td><td>0</td><td>4</td><td> 0</td><td> 0</td><td>0</td><td>0</td><td> 5</td><td>4</td><td>2</td><td>0</td></tr>\n",
       "\t<tr><td>253651</td><td>0</td><td>0</td><td>1</td><td>24</td><td>0</td><td>0</td><td>0</td><td>1</td><td>1</td><td>⋯</td><td>1</td><td>1</td><td> 0</td><td> 0</td><td>0</td><td>1</td><td> 2</td><td>6</td><td>3</td><td>0</td></tr>\n",
       "\t<tr><td>253652</td><td>0</td><td>1</td><td>1</td><td>27</td><td>0</td><td>0</td><td>0</td><td>1</td><td>1</td><td>⋯</td><td>0</td><td>4</td><td> 0</td><td>30</td><td>0</td><td>1</td><td>11</td><td>2</td><td>3</td><td>1</td></tr>\n",
       "\t<tr><td>253653</td><td>0</td><td>0</td><td>1</td><td>33</td><td>1</td><td>0</td><td>0</td><td>0</td><td>1</td><td>⋯</td><td>0</td><td>4</td><td> 0</td><td>15</td><td>0</td><td>1</td><td>10</td><td>6</td><td>3</td><td>0</td></tr>\n",
       "\t<tr><td>253654</td><td>0</td><td>0</td><td>1</td><td>26</td><td>1</td><td>0</td><td>0</td><td>1</td><td>1</td><td>⋯</td><td>0</td><td>2</td><td> 1</td><td> 0</td><td>0</td><td>1</td><td> 3</td><td>3</td><td>1</td><td>0</td></tr>\n",
       "\t<tr><td>253655</td><td>0</td><td>0</td><td>1</td><td>28</td><td>0</td><td>0</td><td>0</td><td>1</td><td>1</td><td>⋯</td><td>0</td><td>2</td><td> 0</td><td> 0</td><td>0</td><td>0</td><td> 2</td><td>6</td><td>4</td><td>0</td></tr>\n",
       "\t<tr><td>253656</td><td>0</td><td>0</td><td>1</td><td>25</td><td>0</td><td>0</td><td>0</td><td>1</td><td>1</td><td>⋯</td><td>0</td><td>1</td><td> 0</td><td> 0</td><td>0</td><td>0</td><td> 4</td><td>6</td><td>8</td><td>0</td></tr>\n",
       "\t<tr><td>253657</td><td>0</td><td>1</td><td>1</td><td>24</td><td>0</td><td>0</td><td>0</td><td>0</td><td>0</td><td>⋯</td><td>0</td><td>3</td><td> 0</td><td> 0</td><td>0</td><td>0</td><td> 7</td><td>5</td><td>3</td><td>0</td></tr>\n",
       "\t<tr><td>253658</td><td>0</td><td>0</td><td>0</td><td>27</td><td>0</td><td>0</td><td>0</td><td>1</td><td>0</td><td>⋯</td><td>1</td><td>2</td><td> 0</td><td> 0</td><td>0</td><td>0</td><td> 3</td><td>6</td><td>5</td><td>0</td></tr>\n",
       "\t<tr><td>253659</td><td>0</td><td>1</td><td>1</td><td>37</td><td>0</td><td>0</td><td>0</td><td>0</td><td>0</td><td>⋯</td><td>0</td><td>4</td><td> 0</td><td> 0</td><td>0</td><td>0</td><td> 6</td><td>4</td><td>1</td><td>1</td></tr>\n",
       "\t<tr><td>253660</td><td>0</td><td>1</td><td>1</td><td>34</td><td>1</td><td>0</td><td>0</td><td>0</td><td>1</td><td>⋯</td><td>0</td><td>3</td><td> 0</td><td> 2</td><td>1</td><td>0</td><td> 7</td><td>4</td><td>3</td><td>0</td></tr>\n",
       "\t<tr><td>253661</td><td>1</td><td>0</td><td>1</td><td>33</td><td>0</td><td>0</td><td>0</td><td>1</td><td>0</td><td>⋯</td><td>1</td><td>3</td><td> 0</td><td> 2</td><td>1</td><td>0</td><td> 6</td><td>6</td><td>6</td><td>0</td></tr>\n",
       "\t<tr><td>253662</td><td>0</td><td>0</td><td>1</td><td>16</td><td>0</td><td>0</td><td>0</td><td>1</td><td>0</td><td>⋯</td><td>0</td><td>1</td><td> 0</td><td> 0</td><td>0</td><td>0</td><td> 5</td><td>6</td><td>2</td><td>0</td></tr>\n",
       "\t<tr><td>253663</td><td>0</td><td>0</td><td>1</td><td>23</td><td>0</td><td>0</td><td>0</td><td>0</td><td>1</td><td>⋯</td><td>1</td><td>2</td><td> 0</td><td>30</td><td>0</td><td>0</td><td> 5</td><td>6</td><td>2</td><td>0</td></tr>\n",
       "\t<tr><td>253664</td><td>0</td><td>1</td><td>1</td><td>29</td><td>1</td><td>0</td><td>0</td><td>0</td><td>0</td><td>⋯</td><td>0</td><td>3</td><td> 0</td><td> 0</td><td>0</td><td>0</td><td> 6</td><td>6</td><td>4</td><td>0</td></tr>\n",
       "\t<tr><td>253665</td><td>0</td><td>1</td><td>1</td><td>17</td><td>0</td><td>0</td><td>0</td><td>0</td><td>0</td><td>⋯</td><td>1</td><td>4</td><td>30</td><td>30</td><td>0</td><td>0</td><td> 5</td><td>4</td><td>1</td><td>0</td></tr>\n",
       "\t<tr><td>253666</td><td>1</td><td>0</td><td>1</td><td>23</td><td>0</td><td>0</td><td>0</td><td>0</td><td>1</td><td>⋯</td><td>0</td><td>3</td><td> 0</td><td>15</td><td>0</td><td>0</td><td> 6</td><td>5</td><td>2</td><td>0</td></tr>\n",
       "\t<tr><td>253667</td><td>1</td><td>1</td><td>1</td><td>28</td><td>1</td><td>0</td><td>0</td><td>0</td><td>0</td><td>⋯</td><td>0</td><td>3</td><td> 0</td><td> 0</td><td>0</td><td>0</td><td>11</td><td>4</td><td>7</td><td>0</td></tr>\n",
       "\t<tr><td>253668</td><td>0</td><td>1</td><td>1</td><td>29</td><td>1</td><td>0</td><td>1</td><td>0</td><td>1</td><td>⋯</td><td>0</td><td>2</td><td> 0</td><td> 0</td><td>1</td><td>1</td><td>10</td><td>3</td><td>6</td><td>1</td></tr>\n",
       "\t<tr><td>253669</td><td>0</td><td>1</td><td>1</td><td>27</td><td>0</td><td>0</td><td>0</td><td>0</td><td>0</td><td>⋯</td><td>1</td><td>1</td><td> 0</td><td> 3</td><td>0</td><td>1</td><td> 6</td><td>2</td><td>4</td><td>0</td></tr>\n",
       "\t<tr><td>253670</td><td>1</td><td>1</td><td>1</td><td>25</td><td>0</td><td>0</td><td>1</td><td>0</td><td>1</td><td>⋯</td><td>0</td><td>5</td><td>15</td><td> 0</td><td>1</td><td>0</td><td>13</td><td>6</td><td>4</td><td>1</td></tr>\n",
       "\t<tr><td>253671</td><td>1</td><td>1</td><td>1</td><td>23</td><td>0</td><td>1</td><td>1</td><td>0</td><td>0</td><td>⋯</td><td>1</td><td>4</td><td> 0</td><td> 5</td><td>0</td><td>1</td><td> 8</td><td>3</td><td>2</td><td>0</td></tr>\n",
       "\t<tr><td>253672</td><td>1</td><td>0</td><td>1</td><td>30</td><td>1</td><td>0</td><td>1</td><td>1</td><td>1</td><td>⋯</td><td>0</td><td>3</td><td> 0</td><td> 0</td><td>0</td><td>1</td><td>12</td><td>2</td><td>1</td><td>0</td></tr>\n",
       "\t<tr><td>253673</td><td>1</td><td>0</td><td>1</td><td>42</td><td>0</td><td>0</td><td>0</td><td>1</td><td>1</td><td>⋯</td><td>0</td><td>3</td><td>14</td><td> 4</td><td>0</td><td>1</td><td> 3</td><td>6</td><td>8</td><td>0</td></tr>\n",
       "\t<tr><td>253674</td><td>0</td><td>0</td><td>1</td><td>27</td><td>0</td><td>0</td><td>0</td><td>0</td><td>0</td><td>⋯</td><td>0</td><td>1</td><td> 0</td><td> 0</td><td>0</td><td>0</td><td> 3</td><td>6</td><td>5</td><td>0</td></tr>\n",
       "\t<tr><td>253675</td><td>1</td><td>1</td><td>1</td><td>45</td><td>0</td><td>0</td><td>0</td><td>0</td><td>1</td><td>⋯</td><td>0</td><td>3</td><td> 0</td><td> 5</td><td>0</td><td>1</td><td> 5</td><td>6</td><td>7</td><td>0</td></tr>\n",
       "\t<tr><td>253676</td><td>1</td><td>1</td><td>1</td><td>18</td><td>0</td><td>0</td><td>0</td><td>0</td><td>0</td><td>⋯</td><td>0</td><td>4</td><td> 0</td><td> 0</td><td>1</td><td>0</td><td>11</td><td>2</td><td>4</td><td>1</td></tr>\n",
       "\t<tr><td>253677</td><td>0</td><td>0</td><td>1</td><td>28</td><td>0</td><td>0</td><td>0</td><td>1</td><td>1</td><td>⋯</td><td>0</td><td>1</td><td> 0</td><td> 0</td><td>0</td><td>0</td><td> 2</td><td>5</td><td>2</td><td>0</td></tr>\n",
       "\t<tr><td>253678</td><td>1</td><td>0</td><td>1</td><td>23</td><td>0</td><td>0</td><td>0</td><td>0</td><td>1</td><td>⋯</td><td>0</td><td>3</td><td> 0</td><td> 0</td><td>0</td><td>1</td><td> 7</td><td>5</td><td>1</td><td>0</td></tr>\n",
       "\t<tr><td>253679</td><td>1</td><td>1</td><td>1</td><td>25</td><td>0</td><td>0</td><td>1</td><td>1</td><td>1</td><td>⋯</td><td>0</td><td>2</td><td> 0</td><td> 0</td><td>0</td><td>0</td><td> 9</td><td>6</td><td>2</td><td>1</td></tr>\n",
       "</tbody>\n",
       "</table>\n"
      ],
      "text/latex": [
       "A data.frame: 253680 × 23\n",
       "\\begin{tabular}{lllllllllllllllllllll}\n",
       " X & HighBP & HighChol & CholCheck & BMI & Smoker & Stroke & HeartDiseaseorAttack & PhysActivity & Fruits & ⋯ & NoDocbcCost & GenHlth & MentHlth & PhysHlth & DiffWalk & Sex & Age & Education & Income & Diabetes\\_binary\\\\\n",
       " <int> & <int> & <int> & <int> & <int> & <int> & <int> & <int> & <int> & <int> & ⋯ & <int> & <int> & <int> & <int> & <int> & <int> & <int> & <int> & <int> & <int>\\\\\n",
       "\\hline\n",
       "\t  0 & 1 & 1 & 1 & 40 & 1 & 0 & 0 & 0 & 0 & ⋯ & 0 & 5 & 18 & 15 & 1 & 0 &  9 & 4 & 3 & 0\\\\\n",
       "\t  1 & 0 & 0 & 0 & 25 & 1 & 0 & 0 & 1 & 0 & ⋯ & 1 & 3 &  0 &  0 & 0 & 0 &  7 & 6 & 1 & 0\\\\\n",
       "\t  2 & 1 & 1 & 1 & 28 & 0 & 0 & 0 & 0 & 1 & ⋯ & 1 & 5 & 30 & 30 & 1 & 0 &  9 & 4 & 8 & 0\\\\\n",
       "\t  3 & 1 & 0 & 1 & 27 & 0 & 0 & 0 & 1 & 1 & ⋯ & 0 & 2 &  0 &  0 & 0 & 0 & 11 & 3 & 6 & 0\\\\\n",
       "\t  4 & 1 & 1 & 1 & 24 & 0 & 0 & 0 & 1 & 1 & ⋯ & 0 & 2 &  3 &  0 & 0 & 0 & 11 & 5 & 4 & 0\\\\\n",
       "\t  5 & 1 & 1 & 1 & 25 & 1 & 0 & 0 & 1 & 1 & ⋯ & 0 & 2 &  0 &  2 & 0 & 1 & 10 & 6 & 8 & 0\\\\\n",
       "\t  6 & 1 & 0 & 1 & 30 & 1 & 0 & 0 & 0 & 0 & ⋯ & 0 & 3 &  0 & 14 & 0 & 0 &  9 & 6 & 7 & 0\\\\\n",
       "\t  7 & 1 & 1 & 1 & 25 & 1 & 0 & 0 & 1 & 0 & ⋯ & 0 & 3 &  0 &  0 & 1 & 0 & 11 & 4 & 4 & 0\\\\\n",
       "\t  8 & 1 & 1 & 1 & 30 & 1 & 0 & 1 & 0 & 1 & ⋯ & 0 & 5 & 30 & 30 & 1 & 0 &  9 & 5 & 1 & 1\\\\\n",
       "\t  9 & 0 & 0 & 1 & 24 & 0 & 0 & 0 & 0 & 0 & ⋯ & 0 & 2 &  0 &  0 & 0 & 1 &  8 & 4 & 3 & 0\\\\\n",
       "\t 10 & 0 & 0 & 1 & 25 & 1 & 0 & 0 & 1 & 1 & ⋯ & 0 & 3 &  0 &  0 & 0 & 1 & 13 & 6 & 8 & 1\\\\\n",
       "\t 11 & 1 & 1 & 1 & 34 & 1 & 0 & 0 & 0 & 1 & ⋯ & 0 & 3 &  0 & 30 & 1 & 0 & 10 & 5 & 1 & 0\\\\\n",
       "\t 12 & 0 & 0 & 1 & 26 & 1 & 0 & 0 & 0 & 0 & ⋯ & 0 & 3 &  0 & 15 & 0 & 0 &  7 & 5 & 7 & 0\\\\\n",
       "\t 13 & 1 & 1 & 1 & 28 & 0 & 0 & 0 & 0 & 0 & ⋯ & 0 & 4 &  0 &  0 & 1 & 0 & 11 & 4 & 6 & 1\\\\\n",
       "\t 14 & 0 & 1 & 1 & 33 & 1 & 1 & 0 & 1 & 0 & ⋯ & 1 & 4 & 30 & 28 & 0 & 0 &  4 & 6 & 2 & 0\\\\\n",
       "\t 15 & 1 & 0 & 1 & 33 & 0 & 0 & 0 & 1 & 0 & ⋯ & 0 & 2 &  5 &  0 & 0 & 0 &  6 & 6 & 8 & 0\\\\\n",
       "\t 16 & 1 & 1 & 1 & 21 & 0 & 0 & 0 & 1 & 1 & ⋯ & 0 & 3 &  0 &  0 & 0 & 0 & 10 & 4 & 3 & 0\\\\\n",
       "\t 17 & 0 & 0 & 1 & 23 & 1 & 0 & 0 & 1 & 0 & ⋯ & 0 & 2 &  0 &  0 & 0 & 1 &  7 & 5 & 6 & 1\\\\\n",
       "\t 18 & 0 & 0 & 0 & 23 & 0 & 0 & 0 & 0 & 0 & ⋯ & 0 & 2 & 15 &  0 & 0 & 0 &  2 & 6 & 7 & 0\\\\\n",
       "\t 19 & 0 & 1 & 1 & 28 & 0 & 0 & 0 & 0 & 0 & ⋯ & 0 & 2 & 10 &  0 & 0 & 1 &  4 & 6 & 8 & 0\\\\\n",
       "\t 20 & 1 & 1 & 1 & 22 & 0 & 1 & 1 & 0 & 1 & ⋯ & 0 & 3 & 30 &  0 & 1 & 0 & 12 & 4 & 4 & 0\\\\\n",
       "\t 21 & 1 & 1 & 1 & 38 & 1 & 0 & 0 & 0 & 1 & ⋯ & 0 & 5 & 15 & 30 & 1 & 0 & 13 & 2 & 3 & 0\\\\\n",
       "\t 22 & 0 & 0 & 1 & 28 & 1 & 0 & 0 & 0 & 0 & ⋯ & 0 & 3 &  0 &  7 & 0 & 1 &  5 & 5 & 5 & 0\\\\\n",
       "\t 23 & 1 & 0 & 1 & 27 & 0 & 0 & 0 & 1 & 1 & ⋯ & 0 & 1 &  0 &  0 & 0 & 0 & 13 & 5 & 4 & 1\\\\\n",
       "\t 24 & 1 & 1 & 1 & 28 & 1 & 0 & 0 & 0 & 1 & ⋯ & 0 & 3 &  6 &  0 & 1 & 0 &  9 & 4 & 6 & 0\\\\\n",
       "\t 25 & 0 & 0 & 1 & 32 & 0 & 0 & 0 & 1 & 1 & ⋯ & 0 & 2 &  0 &  0 & 0 & 0 &  5 & 6 & 8 & 0\\\\\n",
       "\t 26 & 1 & 1 & 1 & 37 & 1 & 1 & 1 & 0 & 0 & ⋯ & 0 & 5 &  0 &  0 & 1 & 1 & 10 & 6 & 5 & 1\\\\\n",
       "\t 27 & 1 & 1 & 1 & 28 & 1 & 0 & 1 & 0 & 0 & ⋯ & 0 & 4 &  0 &  0 & 0 & 1 & 12 & 2 & 4 & 1\\\\\n",
       "\t 28 & 1 & 1 & 1 & 27 & 1 & 0 & 0 & 0 & 1 & ⋯ & 0 & 4 & 20 & 20 & 1 & 0 &  8 & 4 & 7 & 1\\\\\n",
       "\t 29 & 0 & 1 & 1 & 31 & 1 & 0 & 0 & 1 & 1 & ⋯ & 0 & 1 &  0 &  0 & 0 & 1 & 12 & 6 & 8 & 0\\\\\n",
       "\t ⋮ & ⋮ & ⋮ & ⋮ & ⋮ & ⋮ & ⋮ & ⋮ & ⋮ & ⋮ & ⋱ & ⋮ & ⋮ & ⋮ & ⋮ & ⋮ & ⋮ & ⋮ & ⋮ & ⋮ & ⋮\\\\\n",
       "\t 253650 & 1 & 0 & 1 & 27 & 0 & 0 & 0 & 1 & 0 & ⋯ & 0 & 4 &  0 &  0 & 0 & 0 &  5 & 4 & 2 & 0\\\\\n",
       "\t 253651 & 0 & 0 & 1 & 24 & 0 & 0 & 0 & 1 & 1 & ⋯ & 1 & 1 &  0 &  0 & 0 & 1 &  2 & 6 & 3 & 0\\\\\n",
       "\t 253652 & 0 & 1 & 1 & 27 & 0 & 0 & 0 & 1 & 1 & ⋯ & 0 & 4 &  0 & 30 & 0 & 1 & 11 & 2 & 3 & 1\\\\\n",
       "\t 253653 & 0 & 0 & 1 & 33 & 1 & 0 & 0 & 0 & 1 & ⋯ & 0 & 4 &  0 & 15 & 0 & 1 & 10 & 6 & 3 & 0\\\\\n",
       "\t 253654 & 0 & 0 & 1 & 26 & 1 & 0 & 0 & 1 & 1 & ⋯ & 0 & 2 &  1 &  0 & 0 & 1 &  3 & 3 & 1 & 0\\\\\n",
       "\t 253655 & 0 & 0 & 1 & 28 & 0 & 0 & 0 & 1 & 1 & ⋯ & 0 & 2 &  0 &  0 & 0 & 0 &  2 & 6 & 4 & 0\\\\\n",
       "\t 253656 & 0 & 0 & 1 & 25 & 0 & 0 & 0 & 1 & 1 & ⋯ & 0 & 1 &  0 &  0 & 0 & 0 &  4 & 6 & 8 & 0\\\\\n",
       "\t 253657 & 0 & 1 & 1 & 24 & 0 & 0 & 0 & 0 & 0 & ⋯ & 0 & 3 &  0 &  0 & 0 & 0 &  7 & 5 & 3 & 0\\\\\n",
       "\t 253658 & 0 & 0 & 0 & 27 & 0 & 0 & 0 & 1 & 0 & ⋯ & 1 & 2 &  0 &  0 & 0 & 0 &  3 & 6 & 5 & 0\\\\\n",
       "\t 253659 & 0 & 1 & 1 & 37 & 0 & 0 & 0 & 0 & 0 & ⋯ & 0 & 4 &  0 &  0 & 0 & 0 &  6 & 4 & 1 & 1\\\\\n",
       "\t 253660 & 0 & 1 & 1 & 34 & 1 & 0 & 0 & 0 & 1 & ⋯ & 0 & 3 &  0 &  2 & 1 & 0 &  7 & 4 & 3 & 0\\\\\n",
       "\t 253661 & 1 & 0 & 1 & 33 & 0 & 0 & 0 & 1 & 0 & ⋯ & 1 & 3 &  0 &  2 & 1 & 0 &  6 & 6 & 6 & 0\\\\\n",
       "\t 253662 & 0 & 0 & 1 & 16 & 0 & 0 & 0 & 1 & 0 & ⋯ & 0 & 1 &  0 &  0 & 0 & 0 &  5 & 6 & 2 & 0\\\\\n",
       "\t 253663 & 0 & 0 & 1 & 23 & 0 & 0 & 0 & 0 & 1 & ⋯ & 1 & 2 &  0 & 30 & 0 & 0 &  5 & 6 & 2 & 0\\\\\n",
       "\t 253664 & 0 & 1 & 1 & 29 & 1 & 0 & 0 & 0 & 0 & ⋯ & 0 & 3 &  0 &  0 & 0 & 0 &  6 & 6 & 4 & 0\\\\\n",
       "\t 253665 & 0 & 1 & 1 & 17 & 0 & 0 & 0 & 0 & 0 & ⋯ & 1 & 4 & 30 & 30 & 0 & 0 &  5 & 4 & 1 & 0\\\\\n",
       "\t 253666 & 1 & 0 & 1 & 23 & 0 & 0 & 0 & 0 & 1 & ⋯ & 0 & 3 &  0 & 15 & 0 & 0 &  6 & 5 & 2 & 0\\\\\n",
       "\t 253667 & 1 & 1 & 1 & 28 & 1 & 0 & 0 & 0 & 0 & ⋯ & 0 & 3 &  0 &  0 & 0 & 0 & 11 & 4 & 7 & 0\\\\\n",
       "\t 253668 & 0 & 1 & 1 & 29 & 1 & 0 & 1 & 0 & 1 & ⋯ & 0 & 2 &  0 &  0 & 1 & 1 & 10 & 3 & 6 & 1\\\\\n",
       "\t 253669 & 0 & 1 & 1 & 27 & 0 & 0 & 0 & 0 & 0 & ⋯ & 1 & 1 &  0 &  3 & 0 & 1 &  6 & 2 & 4 & 0\\\\\n",
       "\t 253670 & 1 & 1 & 1 & 25 & 0 & 0 & 1 & 0 & 1 & ⋯ & 0 & 5 & 15 &  0 & 1 & 0 & 13 & 6 & 4 & 1\\\\\n",
       "\t 253671 & 1 & 1 & 1 & 23 & 0 & 1 & 1 & 0 & 0 & ⋯ & 1 & 4 &  0 &  5 & 0 & 1 &  8 & 3 & 2 & 0\\\\\n",
       "\t 253672 & 1 & 0 & 1 & 30 & 1 & 0 & 1 & 1 & 1 & ⋯ & 0 & 3 &  0 &  0 & 0 & 1 & 12 & 2 & 1 & 0\\\\\n",
       "\t 253673 & 1 & 0 & 1 & 42 & 0 & 0 & 0 & 1 & 1 & ⋯ & 0 & 3 & 14 &  4 & 0 & 1 &  3 & 6 & 8 & 0\\\\\n",
       "\t 253674 & 0 & 0 & 1 & 27 & 0 & 0 & 0 & 0 & 0 & ⋯ & 0 & 1 &  0 &  0 & 0 & 0 &  3 & 6 & 5 & 0\\\\\n",
       "\t 253675 & 1 & 1 & 1 & 45 & 0 & 0 & 0 & 0 & 1 & ⋯ & 0 & 3 &  0 &  5 & 0 & 1 &  5 & 6 & 7 & 0\\\\\n",
       "\t 253676 & 1 & 1 & 1 & 18 & 0 & 0 & 0 & 0 & 0 & ⋯ & 0 & 4 &  0 &  0 & 1 & 0 & 11 & 2 & 4 & 1\\\\\n",
       "\t 253677 & 0 & 0 & 1 & 28 & 0 & 0 & 0 & 1 & 1 & ⋯ & 0 & 1 &  0 &  0 & 0 & 0 &  2 & 5 & 2 & 0\\\\\n",
       "\t 253678 & 1 & 0 & 1 & 23 & 0 & 0 & 0 & 0 & 1 & ⋯ & 0 & 3 &  0 &  0 & 0 & 1 &  7 & 5 & 1 & 0\\\\\n",
       "\t 253679 & 1 & 1 & 1 & 25 & 0 & 0 & 1 & 1 & 1 & ⋯ & 0 & 2 &  0 &  0 & 0 & 0 &  9 & 6 & 2 & 1\\\\\n",
       "\\end{tabular}\n"
      ],
      "text/markdown": [
       "\n",
       "A data.frame: 253680 × 23\n",
       "\n",
       "| X &lt;int&gt; | HighBP &lt;int&gt; | HighChol &lt;int&gt; | CholCheck &lt;int&gt; | BMI &lt;int&gt; | Smoker &lt;int&gt; | Stroke &lt;int&gt; | HeartDiseaseorAttack &lt;int&gt; | PhysActivity &lt;int&gt; | Fruits &lt;int&gt; | ⋯ ⋯ | NoDocbcCost &lt;int&gt; | GenHlth &lt;int&gt; | MentHlth &lt;int&gt; | PhysHlth &lt;int&gt; | DiffWalk &lt;int&gt; | Sex &lt;int&gt; | Age &lt;int&gt; | Education &lt;int&gt; | Income &lt;int&gt; | Diabetes_binary &lt;int&gt; |\n",
       "|---|---|---|---|---|---|---|---|---|---|---|---|---|---|---|---|---|---|---|---|---|\n",
       "|  0 | 1 | 1 | 1 | 40 | 1 | 0 | 0 | 0 | 0 | ⋯ | 0 | 5 | 18 | 15 | 1 | 0 |  9 | 4 | 3 | 0 |\n",
       "|  1 | 0 | 0 | 0 | 25 | 1 | 0 | 0 | 1 | 0 | ⋯ | 1 | 3 |  0 |  0 | 0 | 0 |  7 | 6 | 1 | 0 |\n",
       "|  2 | 1 | 1 | 1 | 28 | 0 | 0 | 0 | 0 | 1 | ⋯ | 1 | 5 | 30 | 30 | 1 | 0 |  9 | 4 | 8 | 0 |\n",
       "|  3 | 1 | 0 | 1 | 27 | 0 | 0 | 0 | 1 | 1 | ⋯ | 0 | 2 |  0 |  0 | 0 | 0 | 11 | 3 | 6 | 0 |\n",
       "|  4 | 1 | 1 | 1 | 24 | 0 | 0 | 0 | 1 | 1 | ⋯ | 0 | 2 |  3 |  0 | 0 | 0 | 11 | 5 | 4 | 0 |\n",
       "|  5 | 1 | 1 | 1 | 25 | 1 | 0 | 0 | 1 | 1 | ⋯ | 0 | 2 |  0 |  2 | 0 | 1 | 10 | 6 | 8 | 0 |\n",
       "|  6 | 1 | 0 | 1 | 30 | 1 | 0 | 0 | 0 | 0 | ⋯ | 0 | 3 |  0 | 14 | 0 | 0 |  9 | 6 | 7 | 0 |\n",
       "|  7 | 1 | 1 | 1 | 25 | 1 | 0 | 0 | 1 | 0 | ⋯ | 0 | 3 |  0 |  0 | 1 | 0 | 11 | 4 | 4 | 0 |\n",
       "|  8 | 1 | 1 | 1 | 30 | 1 | 0 | 1 | 0 | 1 | ⋯ | 0 | 5 | 30 | 30 | 1 | 0 |  9 | 5 | 1 | 1 |\n",
       "|  9 | 0 | 0 | 1 | 24 | 0 | 0 | 0 | 0 | 0 | ⋯ | 0 | 2 |  0 |  0 | 0 | 1 |  8 | 4 | 3 | 0 |\n",
       "| 10 | 0 | 0 | 1 | 25 | 1 | 0 | 0 | 1 | 1 | ⋯ | 0 | 3 |  0 |  0 | 0 | 1 | 13 | 6 | 8 | 1 |\n",
       "| 11 | 1 | 1 | 1 | 34 | 1 | 0 | 0 | 0 | 1 | ⋯ | 0 | 3 |  0 | 30 | 1 | 0 | 10 | 5 | 1 | 0 |\n",
       "| 12 | 0 | 0 | 1 | 26 | 1 | 0 | 0 | 0 | 0 | ⋯ | 0 | 3 |  0 | 15 | 0 | 0 |  7 | 5 | 7 | 0 |\n",
       "| 13 | 1 | 1 | 1 | 28 | 0 | 0 | 0 | 0 | 0 | ⋯ | 0 | 4 |  0 |  0 | 1 | 0 | 11 | 4 | 6 | 1 |\n",
       "| 14 | 0 | 1 | 1 | 33 | 1 | 1 | 0 | 1 | 0 | ⋯ | 1 | 4 | 30 | 28 | 0 | 0 |  4 | 6 | 2 | 0 |\n",
       "| 15 | 1 | 0 | 1 | 33 | 0 | 0 | 0 | 1 | 0 | ⋯ | 0 | 2 |  5 |  0 | 0 | 0 |  6 | 6 | 8 | 0 |\n",
       "| 16 | 1 | 1 | 1 | 21 | 0 | 0 | 0 | 1 | 1 | ⋯ | 0 | 3 |  0 |  0 | 0 | 0 | 10 | 4 | 3 | 0 |\n",
       "| 17 | 0 | 0 | 1 | 23 | 1 | 0 | 0 | 1 | 0 | ⋯ | 0 | 2 |  0 |  0 | 0 | 1 |  7 | 5 | 6 | 1 |\n",
       "| 18 | 0 | 0 | 0 | 23 | 0 | 0 | 0 | 0 | 0 | ⋯ | 0 | 2 | 15 |  0 | 0 | 0 |  2 | 6 | 7 | 0 |\n",
       "| 19 | 0 | 1 | 1 | 28 | 0 | 0 | 0 | 0 | 0 | ⋯ | 0 | 2 | 10 |  0 | 0 | 1 |  4 | 6 | 8 | 0 |\n",
       "| 20 | 1 | 1 | 1 | 22 | 0 | 1 | 1 | 0 | 1 | ⋯ | 0 | 3 | 30 |  0 | 1 | 0 | 12 | 4 | 4 | 0 |\n",
       "| 21 | 1 | 1 | 1 | 38 | 1 | 0 | 0 | 0 | 1 | ⋯ | 0 | 5 | 15 | 30 | 1 | 0 | 13 | 2 | 3 | 0 |\n",
       "| 22 | 0 | 0 | 1 | 28 | 1 | 0 | 0 | 0 | 0 | ⋯ | 0 | 3 |  0 |  7 | 0 | 1 |  5 | 5 | 5 | 0 |\n",
       "| 23 | 1 | 0 | 1 | 27 | 0 | 0 | 0 | 1 | 1 | ⋯ | 0 | 1 |  0 |  0 | 0 | 0 | 13 | 5 | 4 | 1 |\n",
       "| 24 | 1 | 1 | 1 | 28 | 1 | 0 | 0 | 0 | 1 | ⋯ | 0 | 3 |  6 |  0 | 1 | 0 |  9 | 4 | 6 | 0 |\n",
       "| 25 | 0 | 0 | 1 | 32 | 0 | 0 | 0 | 1 | 1 | ⋯ | 0 | 2 |  0 |  0 | 0 | 0 |  5 | 6 | 8 | 0 |\n",
       "| 26 | 1 | 1 | 1 | 37 | 1 | 1 | 1 | 0 | 0 | ⋯ | 0 | 5 |  0 |  0 | 1 | 1 | 10 | 6 | 5 | 1 |\n",
       "| 27 | 1 | 1 | 1 | 28 | 1 | 0 | 1 | 0 | 0 | ⋯ | 0 | 4 |  0 |  0 | 0 | 1 | 12 | 2 | 4 | 1 |\n",
       "| 28 | 1 | 1 | 1 | 27 | 1 | 0 | 0 | 0 | 1 | ⋯ | 0 | 4 | 20 | 20 | 1 | 0 |  8 | 4 | 7 | 1 |\n",
       "| 29 | 0 | 1 | 1 | 31 | 1 | 0 | 0 | 1 | 1 | ⋯ | 0 | 1 |  0 |  0 | 0 | 1 | 12 | 6 | 8 | 0 |\n",
       "| ⋮ | ⋮ | ⋮ | ⋮ | ⋮ | ⋮ | ⋮ | ⋮ | ⋮ | ⋮ | ⋱ | ⋮ | ⋮ | ⋮ | ⋮ | ⋮ | ⋮ | ⋮ | ⋮ | ⋮ | ⋮ |\n",
       "| 253650 | 1 | 0 | 1 | 27 | 0 | 0 | 0 | 1 | 0 | ⋯ | 0 | 4 |  0 |  0 | 0 | 0 |  5 | 4 | 2 | 0 |\n",
       "| 253651 | 0 | 0 | 1 | 24 | 0 | 0 | 0 | 1 | 1 | ⋯ | 1 | 1 |  0 |  0 | 0 | 1 |  2 | 6 | 3 | 0 |\n",
       "| 253652 | 0 | 1 | 1 | 27 | 0 | 0 | 0 | 1 | 1 | ⋯ | 0 | 4 |  0 | 30 | 0 | 1 | 11 | 2 | 3 | 1 |\n",
       "| 253653 | 0 | 0 | 1 | 33 | 1 | 0 | 0 | 0 | 1 | ⋯ | 0 | 4 |  0 | 15 | 0 | 1 | 10 | 6 | 3 | 0 |\n",
       "| 253654 | 0 | 0 | 1 | 26 | 1 | 0 | 0 | 1 | 1 | ⋯ | 0 | 2 |  1 |  0 | 0 | 1 |  3 | 3 | 1 | 0 |\n",
       "| 253655 | 0 | 0 | 1 | 28 | 0 | 0 | 0 | 1 | 1 | ⋯ | 0 | 2 |  0 |  0 | 0 | 0 |  2 | 6 | 4 | 0 |\n",
       "| 253656 | 0 | 0 | 1 | 25 | 0 | 0 | 0 | 1 | 1 | ⋯ | 0 | 1 |  0 |  0 | 0 | 0 |  4 | 6 | 8 | 0 |\n",
       "| 253657 | 0 | 1 | 1 | 24 | 0 | 0 | 0 | 0 | 0 | ⋯ | 0 | 3 |  0 |  0 | 0 | 0 |  7 | 5 | 3 | 0 |\n",
       "| 253658 | 0 | 0 | 0 | 27 | 0 | 0 | 0 | 1 | 0 | ⋯ | 1 | 2 |  0 |  0 | 0 | 0 |  3 | 6 | 5 | 0 |\n",
       "| 253659 | 0 | 1 | 1 | 37 | 0 | 0 | 0 | 0 | 0 | ⋯ | 0 | 4 |  0 |  0 | 0 | 0 |  6 | 4 | 1 | 1 |\n",
       "| 253660 | 0 | 1 | 1 | 34 | 1 | 0 | 0 | 0 | 1 | ⋯ | 0 | 3 |  0 |  2 | 1 | 0 |  7 | 4 | 3 | 0 |\n",
       "| 253661 | 1 | 0 | 1 | 33 | 0 | 0 | 0 | 1 | 0 | ⋯ | 1 | 3 |  0 |  2 | 1 | 0 |  6 | 6 | 6 | 0 |\n",
       "| 253662 | 0 | 0 | 1 | 16 | 0 | 0 | 0 | 1 | 0 | ⋯ | 0 | 1 |  0 |  0 | 0 | 0 |  5 | 6 | 2 | 0 |\n",
       "| 253663 | 0 | 0 | 1 | 23 | 0 | 0 | 0 | 0 | 1 | ⋯ | 1 | 2 |  0 | 30 | 0 | 0 |  5 | 6 | 2 | 0 |\n",
       "| 253664 | 0 | 1 | 1 | 29 | 1 | 0 | 0 | 0 | 0 | ⋯ | 0 | 3 |  0 |  0 | 0 | 0 |  6 | 6 | 4 | 0 |\n",
       "| 253665 | 0 | 1 | 1 | 17 | 0 | 0 | 0 | 0 | 0 | ⋯ | 1 | 4 | 30 | 30 | 0 | 0 |  5 | 4 | 1 | 0 |\n",
       "| 253666 | 1 | 0 | 1 | 23 | 0 | 0 | 0 | 0 | 1 | ⋯ | 0 | 3 |  0 | 15 | 0 | 0 |  6 | 5 | 2 | 0 |\n",
       "| 253667 | 1 | 1 | 1 | 28 | 1 | 0 | 0 | 0 | 0 | ⋯ | 0 | 3 |  0 |  0 | 0 | 0 | 11 | 4 | 7 | 0 |\n",
       "| 253668 | 0 | 1 | 1 | 29 | 1 | 0 | 1 | 0 | 1 | ⋯ | 0 | 2 |  0 |  0 | 1 | 1 | 10 | 3 | 6 | 1 |\n",
       "| 253669 | 0 | 1 | 1 | 27 | 0 | 0 | 0 | 0 | 0 | ⋯ | 1 | 1 |  0 |  3 | 0 | 1 |  6 | 2 | 4 | 0 |\n",
       "| 253670 | 1 | 1 | 1 | 25 | 0 | 0 | 1 | 0 | 1 | ⋯ | 0 | 5 | 15 |  0 | 1 | 0 | 13 | 6 | 4 | 1 |\n",
       "| 253671 | 1 | 1 | 1 | 23 | 0 | 1 | 1 | 0 | 0 | ⋯ | 1 | 4 |  0 |  5 | 0 | 1 |  8 | 3 | 2 | 0 |\n",
       "| 253672 | 1 | 0 | 1 | 30 | 1 | 0 | 1 | 1 | 1 | ⋯ | 0 | 3 |  0 |  0 | 0 | 1 | 12 | 2 | 1 | 0 |\n",
       "| 253673 | 1 | 0 | 1 | 42 | 0 | 0 | 0 | 1 | 1 | ⋯ | 0 | 3 | 14 |  4 | 0 | 1 |  3 | 6 | 8 | 0 |\n",
       "| 253674 | 0 | 0 | 1 | 27 | 0 | 0 | 0 | 0 | 0 | ⋯ | 0 | 1 |  0 |  0 | 0 | 0 |  3 | 6 | 5 | 0 |\n",
       "| 253675 | 1 | 1 | 1 | 45 | 0 | 0 | 0 | 0 | 1 | ⋯ | 0 | 3 |  0 |  5 | 0 | 1 |  5 | 6 | 7 | 0 |\n",
       "| 253676 | 1 | 1 | 1 | 18 | 0 | 0 | 0 | 0 | 0 | ⋯ | 0 | 4 |  0 |  0 | 1 | 0 | 11 | 2 | 4 | 1 |\n",
       "| 253677 | 0 | 0 | 1 | 28 | 0 | 0 | 0 | 1 | 1 | ⋯ | 0 | 1 |  0 |  0 | 0 | 0 |  2 | 5 | 2 | 0 |\n",
       "| 253678 | 1 | 0 | 1 | 23 | 0 | 0 | 0 | 0 | 1 | ⋯ | 0 | 3 |  0 |  0 | 0 | 1 |  7 | 5 | 1 | 0 |\n",
       "| 253679 | 1 | 1 | 1 | 25 | 0 | 0 | 1 | 1 | 1 | ⋯ | 0 | 2 |  0 |  0 | 0 | 0 |  9 | 6 | 2 | 1 |\n",
       "\n"
      ],
      "text/plain": [
       "       X      HighBP HighChol CholCheck BMI Smoker Stroke HeartDiseaseorAttack\n",
       "1       0     1      1        1         40  1      0      0                   \n",
       "2       1     0      0        0         25  1      0      0                   \n",
       "3       2     1      1        1         28  0      0      0                   \n",
       "4       3     1      0        1         27  0      0      0                   \n",
       "5       4     1      1        1         24  0      0      0                   \n",
       "6       5     1      1        1         25  1      0      0                   \n",
       "7       6     1      0        1         30  1      0      0                   \n",
       "8       7     1      1        1         25  1      0      0                   \n",
       "9       8     1      1        1         30  1      0      1                   \n",
       "10      9     0      0        1         24  0      0      0                   \n",
       "11     10     0      0        1         25  1      0      0                   \n",
       "12     11     1      1        1         34  1      0      0                   \n",
       "13     12     0      0        1         26  1      0      0                   \n",
       "14     13     1      1        1         28  0      0      0                   \n",
       "15     14     0      1        1         33  1      1      0                   \n",
       "16     15     1      0        1         33  0      0      0                   \n",
       "17     16     1      1        1         21  0      0      0                   \n",
       "18     17     0      0        1         23  1      0      0                   \n",
       "19     18     0      0        0         23  0      0      0                   \n",
       "20     19     0      1        1         28  0      0      0                   \n",
       "21     20     1      1        1         22  0      1      1                   \n",
       "22     21     1      1        1         38  1      0      0                   \n",
       "23     22     0      0        1         28  1      0      0                   \n",
       "24     23     1      0        1         27  0      0      0                   \n",
       "25     24     1      1        1         28  1      0      0                   \n",
       "26     25     0      0        1         32  0      0      0                   \n",
       "27     26     1      1        1         37  1      1      1                   \n",
       "28     27     1      1        1         28  1      0      1                   \n",
       "29     28     1      1        1         27  1      0      0                   \n",
       "30     29     0      1        1         31  1      0      0                   \n",
       "<U+22EE>      <U+22EE> <U+22EE> <U+22EE> <U+22EE>  <U+22EE> <U+22EE> <U+22EE> <U+22EE>            \n",
       "253651 253650 1      0        1         27  0      0      0                   \n",
       "253652 253651 0      0        1         24  0      0      0                   \n",
       "253653 253652 0      1        1         27  0      0      0                   \n",
       "253654 253653 0      0        1         33  1      0      0                   \n",
       "253655 253654 0      0        1         26  1      0      0                   \n",
       "253656 253655 0      0        1         28  0      0      0                   \n",
       "253657 253656 0      0        1         25  0      0      0                   \n",
       "253658 253657 0      1        1         24  0      0      0                   \n",
       "253659 253658 0      0        0         27  0      0      0                   \n",
       "253660 253659 0      1        1         37  0      0      0                   \n",
       "253661 253660 0      1        1         34  1      0      0                   \n",
       "253662 253661 1      0        1         33  0      0      0                   \n",
       "253663 253662 0      0        1         16  0      0      0                   \n",
       "253664 253663 0      0        1         23  0      0      0                   \n",
       "253665 253664 0      1        1         29  1      0      0                   \n",
       "253666 253665 0      1        1         17  0      0      0                   \n",
       "253667 253666 1      0        1         23  0      0      0                   \n",
       "253668 253667 1      1        1         28  1      0      0                   \n",
       "253669 253668 0      1        1         29  1      0      1                   \n",
       "253670 253669 0      1        1         27  0      0      0                   \n",
       "253671 253670 1      1        1         25  0      0      1                   \n",
       "253672 253671 1      1        1         23  0      1      1                   \n",
       "253673 253672 1      0        1         30  1      0      1                   \n",
       "253674 253673 1      0        1         42  0      0      0                   \n",
       "253675 253674 0      0        1         27  0      0      0                   \n",
       "253676 253675 1      1        1         45  0      0      0                   \n",
       "253677 253676 1      1        1         18  0      0      0                   \n",
       "253678 253677 0      0        1         28  0      0      0                   \n",
       "253679 253678 1      0        1         23  0      0      0                   \n",
       "253680 253679 1      1        1         25  0      0      1                   \n",
       "       PhysActivity Fruits <U+22EF>        NoDocbcCost GenHlth MentHlth PhysHlth\n",
       "1      0            0      <U+22EF> 0           5       18       15      \n",
       "2      1            0      <U+22EF> 1           3        0        0      \n",
       "3      0            1      <U+22EF> 1           5       30       30      \n",
       "4      1            1      <U+22EF> 0           2        0        0      \n",
       "5      1            1      <U+22EF> 0           2        3        0      \n",
       "6      1            1      <U+22EF> 0           2        0        2      \n",
       "7      0            0      <U+22EF> 0           3        0       14      \n",
       "8      1            0      <U+22EF> 0           3        0        0      \n",
       "9      0            1      <U+22EF> 0           5       30       30      \n",
       "10     0            0      <U+22EF> 0           2        0        0      \n",
       "11     1            1      <U+22EF> 0           3        0        0      \n",
       "12     0            1      <U+22EF> 0           3        0       30      \n",
       "13     0            0      <U+22EF> 0           3        0       15      \n",
       "14     0            0      <U+22EF> 0           4        0        0      \n",
       "15     1            0      <U+22EF> 1           4       30       28      \n",
       "16     1            0      <U+22EF> 0           2        5        0      \n",
       "17     1            1      <U+22EF> 0           3        0        0      \n",
       "18     1            0      <U+22EF> 0           2        0        0      \n",
       "19     0            0      <U+22EF> 0           2       15        0      \n",
       "20     0            0      <U+22EF> 0           2       10        0      \n",
       "21     0            1      <U+22EF> 0           3       30        0      \n",
       "22     0            1      <U+22EF> 0           5       15       30      \n",
       "23     0            0      <U+22EF> 0           3        0        7      \n",
       "24     1            1      <U+22EF> 0           1        0        0      \n",
       "25     0            1      <U+22EF> 0           3        6        0      \n",
       "26     1            1      <U+22EF> 0           2        0        0      \n",
       "27     0            0      <U+22EF> 0           5        0        0      \n",
       "28     0            0      <U+22EF> 0           4        0        0      \n",
       "29     0            1      <U+22EF> 0           4       20       20      \n",
       "30     1            1      <U+22EF> 0           1        0        0      \n",
       "<U+22EE>      <U+22EE>     <U+22EE> <U+22F1> <U+22EE>    <U+22EE> <U+22EE> <U+22EE>\n",
       "253651 1            0      <U+22EF> 0           4        0        0      \n",
       "253652 1            1      <U+22EF> 1           1        0        0      \n",
       "253653 1            1      <U+22EF> 0           4        0       30      \n",
       "253654 0            1      <U+22EF> 0           4        0       15      \n",
       "253655 1            1      <U+22EF> 0           2        1        0      \n",
       "253656 1            1      <U+22EF> 0           2        0        0      \n",
       "253657 1            1      <U+22EF> 0           1        0        0      \n",
       "253658 0            0      <U+22EF> 0           3        0        0      \n",
       "253659 1            0      <U+22EF> 1           2        0        0      \n",
       "253660 0            0      <U+22EF> 0           4        0        0      \n",
       "253661 0            1      <U+22EF> 0           3        0        2      \n",
       "253662 1            0      <U+22EF> 1           3        0        2      \n",
       "253663 1            0      <U+22EF> 0           1        0        0      \n",
       "253664 0            1      <U+22EF> 1           2        0       30      \n",
       "253665 0            0      <U+22EF> 0           3        0        0      \n",
       "253666 0            0      <U+22EF> 1           4       30       30      \n",
       "253667 0            1      <U+22EF> 0           3        0       15      \n",
       "253668 0            0      <U+22EF> 0           3        0        0      \n",
       "253669 0            1      <U+22EF> 0           2        0        0      \n",
       "253670 0            0      <U+22EF> 1           1        0        3      \n",
       "253671 0            1      <U+22EF> 0           5       15        0      \n",
       "253672 0            0      <U+22EF> 1           4        0        5      \n",
       "253673 1            1      <U+22EF> 0           3        0        0      \n",
       "253674 1            1      <U+22EF> 0           3       14        4      \n",
       "253675 0            0      <U+22EF> 0           1        0        0      \n",
       "253676 0            1      <U+22EF> 0           3        0        5      \n",
       "253677 0            0      <U+22EF> 0           4        0        0      \n",
       "253678 1            1      <U+22EF> 0           1        0        0      \n",
       "253679 0            1      <U+22EF> 0           3        0        0      \n",
       "253680 1            1      <U+22EF> 0           2        0        0      \n",
       "       DiffWalk Sex Age Education Income Diabetes_binary\n",
       "1      1        0    9  4         3      0              \n",
       "2      0        0    7  6         1      0              \n",
       "3      1        0    9  4         8      0              \n",
       "4      0        0   11  3         6      0              \n",
       "5      0        0   11  5         4      0              \n",
       "6      0        1   10  6         8      0              \n",
       "7      0        0    9  6         7      0              \n",
       "8      1        0   11  4         4      0              \n",
       "9      1        0    9  5         1      1              \n",
       "10     0        1    8  4         3      0              \n",
       "11     0        1   13  6         8      1              \n",
       "12     1        0   10  5         1      0              \n",
       "13     0        0    7  5         7      0              \n",
       "14     1        0   11  4         6      1              \n",
       "15     0        0    4  6         2      0              \n",
       "16     0        0    6  6         8      0              \n",
       "17     0        0   10  4         3      0              \n",
       "18     0        1    7  5         6      1              \n",
       "19     0        0    2  6         7      0              \n",
       "20     0        1    4  6         8      0              \n",
       "21     1        0   12  4         4      0              \n",
       "22     1        0   13  2         3      0              \n",
       "23     0        1    5  5         5      0              \n",
       "24     0        0   13  5         4      1              \n",
       "25     1        0    9  4         6      0              \n",
       "26     0        0    5  6         8      0              \n",
       "27     1        1   10  6         5      1              \n",
       "28     0        1   12  2         4      1              \n",
       "29     1        0    8  4         7      1              \n",
       "30     0        1   12  6         8      0              \n",
       "<U+22EE>      <U+22EE> <U+22EE> <U+22EE> <U+22EE>  <U+22EE> <U+22EE>       \n",
       "253651 0        0    5  4         2      0              \n",
       "253652 0        1    2  6         3      0              \n",
       "253653 0        1   11  2         3      1              \n",
       "253654 0        1   10  6         3      0              \n",
       "253655 0        1    3  3         1      0              \n",
       "253656 0        0    2  6         4      0              \n",
       "253657 0        0    4  6         8      0              \n",
       "253658 0        0    7  5         3      0              \n",
       "253659 0        0    3  6         5      0              \n",
       "253660 0        0    6  4         1      1              \n",
       "253661 1        0    7  4         3      0              \n",
       "253662 1        0    6  6         6      0              \n",
       "253663 0        0    5  6         2      0              \n",
       "253664 0        0    5  6         2      0              \n",
       "253665 0        0    6  6         4      0              \n",
       "253666 0        0    5  4         1      0              \n",
       "253667 0        0    6  5         2      0              \n",
       "253668 0        0   11  4         7      0              \n",
       "253669 1        1   10  3         6      1              \n",
       "253670 0        1    6  2         4      0              \n",
       "253671 1        0   13  6         4      1              \n",
       "253672 0        1    8  3         2      0              \n",
       "253673 0        1   12  2         1      0              \n",
       "253674 0        1    3  6         8      0              \n",
       "253675 0        0    3  6         5      0              \n",
       "253676 0        1    5  6         7      0              \n",
       "253677 1        0   11  2         4      1              \n",
       "253678 0        0    2  5         2      0              \n",
       "253679 0        1    7  5         1      0              \n",
       "253680 0        0    9  6         2      1              "
      ]
     },
     "metadata": {},
     "output_type": "display_data"
    }
   ],
   "source": [
    "df"
   ]
  },
  {
   "cell_type": "code",
   "execution_count": 497,
   "id": "e9620d44-a832-40ea-ad74-52bf871ea734",
   "metadata": {},
   "outputs": [
    {
     "name": "stdout",
     "output_type": "stream",
     "text": [
      "'data.frame':\t253680 obs. of  23 variables:\n",
      " $ X                   : int  0 1 2 3 4 5 6 7 8 9 ...\n",
      " $ HighBP              : int  1 0 1 1 1 1 1 1 1 0 ...\n",
      " $ HighChol            : int  1 0 1 0 1 1 0 1 1 0 ...\n",
      " $ CholCheck           : int  1 0 1 1 1 1 1 1 1 1 ...\n",
      " $ BMI                 : int  40 25 28 27 24 25 30 25 30 24 ...\n",
      " $ Smoker              : int  1 1 0 0 0 1 1 1 1 0 ...\n",
      " $ Stroke              : int  0 0 0 0 0 0 0 0 0 0 ...\n",
      " $ HeartDiseaseorAttack: int  0 0 0 0 0 0 0 0 1 0 ...\n",
      " $ PhysActivity        : int  0 1 0 1 1 1 0 1 0 0 ...\n",
      " $ Fruits              : int  0 0 1 1 1 1 0 0 1 0 ...\n",
      " $ Veggies             : int  1 0 0 1 1 1 0 1 1 1 ...\n",
      " $ HvyAlcoholConsump   : int  0 0 0 0 0 0 0 0 0 0 ...\n",
      " $ AnyHealthcare       : int  1 0 1 1 1 1 1 1 1 1 ...\n",
      " $ NoDocbcCost         : int  0 1 1 0 0 0 0 0 0 0 ...\n",
      " $ GenHlth             : int  5 3 5 2 2 2 3 3 5 2 ...\n",
      " $ MentHlth            : int  18 0 30 0 3 0 0 0 30 0 ...\n",
      " $ PhysHlth            : int  15 0 30 0 0 2 14 0 30 0 ...\n",
      " $ DiffWalk            : int  1 0 1 0 0 0 0 1 1 0 ...\n",
      " $ Sex                 : int  0 0 0 0 0 1 0 0 0 1 ...\n",
      " $ Age                 : int  9 7 9 11 11 10 9 11 9 8 ...\n",
      " $ Education           : int  4 6 4 3 5 6 6 4 5 4 ...\n",
      " $ Income              : int  3 1 8 6 4 8 7 4 1 3 ...\n",
      " $ Diabetes_binary     : int  0 0 0 0 0 0 0 0 1 0 ...\n"
     ]
    }
   ],
   "source": [
    "str(df)"
   ]
  },
  {
   "cell_type": "markdown",
   "id": "6a37d8fa-dda1-4e12-8164-798bcbf0809e",
   "metadata": {},
   "source": [
    "## 2. Data Preprocessing"
   ]
  },
  {
   "cell_type": "markdown",
   "id": "3e9eb452-2ca5-457f-9e44-7b6651a69e89",
   "metadata": {},
   "source": [
    "### 2.1. Standardize column names"
   ]
  },
  {
   "cell_type": "code",
   "execution_count": 498,
   "id": "b4719da7-365e-42e4-bfaa-f51bd5c9d877",
   "metadata": {},
   "outputs": [
    {
     "data": {
      "text/html": [
       "<style>\n",
       ".list-inline {list-style: none; margin:0; padding: 0}\n",
       ".list-inline>li {display: inline-block}\n",
       ".list-inline>li:not(:last-child)::after {content: \"\\00b7\"; padding: 0 .5ex}\n",
       "</style>\n",
       "<ol class=list-inline><li>'X'</li><li>'HighBP'</li><li>'HighChol'</li><li>'CholCheck'</li><li>'BMI'</li><li>'Smoker'</li><li>'Stroke'</li><li>'HeartDiseaseorAttack'</li><li>'PhysActivity'</li><li>'Fruits'</li><li>'Veggies'</li><li>'HvyAlcoholConsump'</li><li>'AnyHealthcare'</li><li>'NoDocbcCost'</li><li>'GenHlth'</li><li>'MentHlth'</li><li>'PhysHlth'</li><li>'DiffWalk'</li><li>'Sex'</li><li>'Age'</li><li>'Education'</li><li>'Income'</li><li>'Diabetes_binary'</li></ol>\n"
      ],
      "text/latex": [
       "\\begin{enumerate*}\n",
       "\\item 'X'\n",
       "\\item 'HighBP'\n",
       "\\item 'HighChol'\n",
       "\\item 'CholCheck'\n",
       "\\item 'BMI'\n",
       "\\item 'Smoker'\n",
       "\\item 'Stroke'\n",
       "\\item 'HeartDiseaseorAttack'\n",
       "\\item 'PhysActivity'\n",
       "\\item 'Fruits'\n",
       "\\item 'Veggies'\n",
       "\\item 'HvyAlcoholConsump'\n",
       "\\item 'AnyHealthcare'\n",
       "\\item 'NoDocbcCost'\n",
       "\\item 'GenHlth'\n",
       "\\item 'MentHlth'\n",
       "\\item 'PhysHlth'\n",
       "\\item 'DiffWalk'\n",
       "\\item 'Sex'\n",
       "\\item 'Age'\n",
       "\\item 'Education'\n",
       "\\item 'Income'\n",
       "\\item 'Diabetes\\_binary'\n",
       "\\end{enumerate*}\n"
      ],
      "text/markdown": [
       "1. 'X'\n",
       "2. 'HighBP'\n",
       "3. 'HighChol'\n",
       "4. 'CholCheck'\n",
       "5. 'BMI'\n",
       "6. 'Smoker'\n",
       "7. 'Stroke'\n",
       "8. 'HeartDiseaseorAttack'\n",
       "9. 'PhysActivity'\n",
       "10. 'Fruits'\n",
       "11. 'Veggies'\n",
       "12. 'HvyAlcoholConsump'\n",
       "13. 'AnyHealthcare'\n",
       "14. 'NoDocbcCost'\n",
       "15. 'GenHlth'\n",
       "16. 'MentHlth'\n",
       "17. 'PhysHlth'\n",
       "18. 'DiffWalk'\n",
       "19. 'Sex'\n",
       "20. 'Age'\n",
       "21. 'Education'\n",
       "22. 'Income'\n",
       "23. 'Diabetes_binary'\n",
       "\n",
       "\n"
      ],
      "text/plain": [
       " [1] \"X\"                    \"HighBP\"               \"HighChol\"            \n",
       " [4] \"CholCheck\"            \"BMI\"                  \"Smoker\"              \n",
       " [7] \"Stroke\"               \"HeartDiseaseorAttack\" \"PhysActivity\"        \n",
       "[10] \"Fruits\"               \"Veggies\"              \"HvyAlcoholConsump\"   \n",
       "[13] \"AnyHealthcare\"        \"NoDocbcCost\"          \"GenHlth\"             \n",
       "[16] \"MentHlth\"             \"PhysHlth\"             \"DiffWalk\"            \n",
       "[19] \"Sex\"                  \"Age\"                  \"Education\"           \n",
       "[22] \"Income\"               \"Diabetes_binary\"     "
      ]
     },
     "metadata": {},
     "output_type": "display_data"
    }
   ],
   "source": [
    "colnames(df)"
   ]
  },
  {
   "cell_type": "code",
   "execution_count": 499,
   "id": "b12f9f7f-d48b-4339-94a9-d653ffc074a9",
   "metadata": {},
   "outputs": [],
   "source": [
    "# COMMENT: remove column \"X\"\n",
    "if (\"X\" %in% colnames(df))\n",
    "{\n",
    "    df = df[, !colnames(df) == \"X\"]\n",
    "}"
   ]
  },
  {
   "cell_type": "code",
   "execution_count": 500,
   "id": "35312eb4-acb0-43c3-aea3-ac85b7a8b818",
   "metadata": {},
   "outputs": [
    {
     "name": "stdout",
     "output_type": "stream",
     "text": [
      "'data.frame':\t253680 obs. of  22 variables:\n",
      " $ HighBP              : int  1 0 1 1 1 1 1 1 1 0 ...\n",
      " $ HighChol            : int  1 0 1 0 1 1 0 1 1 0 ...\n",
      " $ CholCheck           : int  1 0 1 1 1 1 1 1 1 1 ...\n",
      " $ BMI                 : int  40 25 28 27 24 25 30 25 30 24 ...\n",
      " $ Smoker              : int  1 1 0 0 0 1 1 1 1 0 ...\n",
      " $ Stroke              : int  0 0 0 0 0 0 0 0 0 0 ...\n",
      " $ HeartDiseaseorAttack: int  0 0 0 0 0 0 0 0 1 0 ...\n",
      " $ PhysActivity        : int  0 1 0 1 1 1 0 1 0 0 ...\n",
      " $ Fruits              : int  0 0 1 1 1 1 0 0 1 0 ...\n",
      " $ Veggies             : int  1 0 0 1 1 1 0 1 1 1 ...\n",
      " $ HvyAlcoholConsump   : int  0 0 0 0 0 0 0 0 0 0 ...\n",
      " $ AnyHealthcare       : int  1 0 1 1 1 1 1 1 1 1 ...\n",
      " $ NoDocbcCost         : int  0 1 1 0 0 0 0 0 0 0 ...\n",
      " $ GenHlth             : int  5 3 5 2 2 2 3 3 5 2 ...\n",
      " $ MentHlth            : int  18 0 30 0 3 0 0 0 30 0 ...\n",
      " $ PhysHlth            : int  15 0 30 0 0 2 14 0 30 0 ...\n",
      " $ DiffWalk            : int  1 0 1 0 0 0 0 1 1 0 ...\n",
      " $ Sex                 : int  0 0 0 0 0 1 0 0 0 1 ...\n",
      " $ Age                 : int  9 7 9 11 11 10 9 11 9 8 ...\n",
      " $ Education           : int  4 6 4 3 5 6 6 4 5 4 ...\n",
      " $ Income              : int  3 1 8 6 4 8 7 4 1 3 ...\n",
      " $ Diabetes_binary     : int  0 0 0 0 0 0 0 0 1 0 ...\n"
     ]
    }
   ],
   "source": [
    "str(df)"
   ]
  },
  {
   "cell_type": "markdown",
   "id": "29d1ddfb-ecf3-41ff-9cd7-e1aaa3ea6873",
   "metadata": {},
   "source": [
    "### 2.2. Mismatched data types"
   ]
  },
  {
   "cell_type": "code",
   "execution_count": 501,
   "id": "52a70792-43e3-4bf3-9987-f4460e2601ac",
   "metadata": {},
   "outputs": [
    {
     "name": "stdout",
     "output_type": "stream",
     "text": [
      "'data.frame':\t253680 obs. of  22 variables:\n",
      " $ HighBP              : int  1 0 1 1 1 1 1 1 1 0 ...\n",
      " $ HighChol            : int  1 0 1 0 1 1 0 1 1 0 ...\n",
      " $ CholCheck           : int  1 0 1 1 1 1 1 1 1 1 ...\n",
      " $ BMI                 : int  40 25 28 27 24 25 30 25 30 24 ...\n",
      " $ Smoker              : int  1 1 0 0 0 1 1 1 1 0 ...\n",
      " $ Stroke              : int  0 0 0 0 0 0 0 0 0 0 ...\n",
      " $ HeartDiseaseorAttack: int  0 0 0 0 0 0 0 0 1 0 ...\n",
      " $ PhysActivity        : int  0 1 0 1 1 1 0 1 0 0 ...\n",
      " $ Fruits              : int  0 0 1 1 1 1 0 0 1 0 ...\n",
      " $ Veggies             : int  1 0 0 1 1 1 0 1 1 1 ...\n",
      " $ HvyAlcoholConsump   : int  0 0 0 0 0 0 0 0 0 0 ...\n",
      " $ AnyHealthcare       : int  1 0 1 1 1 1 1 1 1 1 ...\n",
      " $ NoDocbcCost         : int  0 1 1 0 0 0 0 0 0 0 ...\n",
      " $ GenHlth             : int  5 3 5 2 2 2 3 3 5 2 ...\n",
      " $ MentHlth            : int  18 0 30 0 3 0 0 0 30 0 ...\n",
      " $ PhysHlth            : int  15 0 30 0 0 2 14 0 30 0 ...\n",
      " $ DiffWalk            : int  1 0 1 0 0 0 0 1 1 0 ...\n",
      " $ Sex                 : int  0 0 0 0 0 1 0 0 0 1 ...\n",
      " $ Age                 : int  9 7 9 11 11 10 9 11 9 8 ...\n",
      " $ Education           : int  4 6 4 3 5 6 6 4 5 4 ...\n",
      " $ Income              : int  3 1 8 6 4 8 7 4 1 3 ...\n",
      " $ Diabetes_binary     : int  0 0 0 0 0 0 0 0 1 0 ...\n"
     ]
    }
   ],
   "source": [
    "str(df)"
   ]
  },
  {
   "cell_type": "code",
   "execution_count": 502,
   "id": "b789f42e-d909-4ba9-943b-4be30018384e",
   "metadata": {},
   "outputs": [],
   "source": [
    "# COMMENT\n",
    "# All columns have correct data type"
   ]
  },
  {
   "cell_type": "markdown",
   "id": "bce5f736-1022-4709-b276-c91845b413a8",
   "metadata": {},
   "source": [
    "### 2.3. Mixed data values"
   ]
  },
  {
   "cell_type": "code",
   "execution_count": 503,
   "id": "fec32eab-4252-4199-ba54-a92194e8413f",
   "metadata": {},
   "outputs": [],
   "source": [
    "# COMMENT\n",
    "# Example: (female, woman, man, male) => (male, female)"
   ]
  },
  {
   "cell_type": "code",
   "execution_count": 504,
   "id": "1704f561-7315-42a1-97ee-5f888d44d29f",
   "metadata": {},
   "outputs": [],
   "source": [
    "# COMMENT\n",
    "# This dataset contains only number data => No mixed data values"
   ]
  },
  {
   "cell_type": "markdown",
   "id": "adaab349-e467-4880-91db-36fb48c1b04a",
   "metadata": {},
   "source": [
    "### 2.4. Missing data"
   ]
  },
  {
   "cell_type": "markdown",
   "id": "b3488a5a-29aa-409e-8963-bafe7dd0d9ac",
   "metadata": {},
   "source": [
    "#### 2.4.1 Null data"
   ]
  },
  {
   "cell_type": "code",
   "execution_count": 505,
   "id": "b8da67e8-3b6a-4d54-99be-cb8d4bef553a",
   "metadata": {},
   "outputs": [
    {
     "data": {
      "text/html": [
       "0"
      ],
      "text/latex": [
       "0"
      ],
      "text/markdown": [
       "0"
      ],
      "text/plain": [
       "[1] 0"
      ]
     },
     "metadata": {},
     "output_type": "display_data"
    }
   ],
   "source": [
    "sum(is.na(df))"
   ]
  },
  {
   "cell_type": "code",
   "execution_count": 506,
   "id": "b286bbbf-31d0-4d33-9b9a-46a1b0e19054",
   "metadata": {},
   "outputs": [],
   "source": [
    "# COMMENT\n",
    "# This dataset has no missing values"
   ]
  },
  {
   "cell_type": "markdown",
   "id": "12494376-38f9-4474-8a6b-9c2f95cd27d8",
   "metadata": {},
   "source": [
    "#### 2.4.2 Missing data in specific columns"
   ]
  },
  {
   "cell_type": "code",
   "execution_count": 507,
   "id": "4c293392-f5b0-42f9-9e89-dcdad903a850",
   "metadata": {},
   "outputs": [],
   "source": [
    "# COMMENT\n",
    "# We see that in column \"Age\", the value could have value of 14 \n",
    "# which is Don’t know / Refused / Missing (_AGEG5YR - BRFSS)"
   ]
  },
  {
   "cell_type": "code",
   "execution_count": 508,
   "id": "c8530450-5b2d-4db3-963b-d7079c3aa5c2",
   "metadata": {},
   "outputs": [
    {
     "data": {
      "text/html": [
       "0"
      ],
      "text/latex": [
       "0"
      ],
      "text/markdown": [
       "0"
      ],
      "text/plain": [
       "[1] 0"
      ]
     },
     "metadata": {},
     "output_type": "display_data"
    }
   ],
   "source": [
    "nrow(subset(df, Age == 14))"
   ]
  },
  {
   "cell_type": "code",
   "execution_count": 509,
   "id": "fcec4fc6-4968-443a-9445-0d16b5c00c3b",
   "metadata": {},
   "outputs": [],
   "source": [
    "# COMMENT\n",
    "# The dataset has no missing data."
   ]
  },
  {
   "cell_type": "markdown",
   "id": "9606d14d-becd-4fc7-a425-b3ead8940166",
   "metadata": {},
   "source": [
    "## 3. Exploratory data analysis (EDA)"
   ]
  },
  {
   "cell_type": "code",
   "execution_count": 510,
   "id": "03806332-c7cf-4c28-a038-ee703dfbda93",
   "metadata": {},
   "outputs": [],
   "source": [
    "plot_stack_bar_2x2 = function(table_2x2)\n",
    "{\n",
    "    barplot(table_2x2, beside = TRUE, col = c(\"green\", \"red\"))\n",
    "    legend(\"top\", legend = rownames(table_2x2), fill = c(\"green\", \"red\"))\n",
    "}"
   ]
  },
  {
   "cell_type": "code",
   "execution_count": 511,
   "id": "26819b2c-4c69-4633-a51c-b5007592366f",
   "metadata": {},
   "outputs": [
    {
     "name": "stdout",
     "output_type": "stream",
     "text": [
      "'data.frame':\t253680 obs. of  22 variables:\n",
      " $ HighBP              : int  1 0 1 1 1 1 1 1 1 0 ...\n",
      " $ HighChol            : int  1 0 1 0 1 1 0 1 1 0 ...\n",
      " $ CholCheck           : int  1 0 1 1 1 1 1 1 1 1 ...\n",
      " $ BMI                 : int  40 25 28 27 24 25 30 25 30 24 ...\n",
      " $ Smoker              : int  1 1 0 0 0 1 1 1 1 0 ...\n",
      " $ Stroke              : int  0 0 0 0 0 0 0 0 0 0 ...\n",
      " $ HeartDiseaseorAttack: int  0 0 0 0 0 0 0 0 1 0 ...\n",
      " $ PhysActivity        : int  0 1 0 1 1 1 0 1 0 0 ...\n",
      " $ Fruits              : int  0 0 1 1 1 1 0 0 1 0 ...\n",
      " $ Veggies             : int  1 0 0 1 1 1 0 1 1 1 ...\n",
      " $ HvyAlcoholConsump   : int  0 0 0 0 0 0 0 0 0 0 ...\n",
      " $ AnyHealthcare       : int  1 0 1 1 1 1 1 1 1 1 ...\n",
      " $ NoDocbcCost         : int  0 1 1 0 0 0 0 0 0 0 ...\n",
      " $ GenHlth             : int  5 3 5 2 2 2 3 3 5 2 ...\n",
      " $ MentHlth            : int  18 0 30 0 3 0 0 0 30 0 ...\n",
      " $ PhysHlth            : int  15 0 30 0 0 2 14 0 30 0 ...\n",
      " $ DiffWalk            : int  1 0 1 0 0 0 0 1 1 0 ...\n",
      " $ Sex                 : int  0 0 0 0 0 1 0 0 0 1 ...\n",
      " $ Age                 : int  9 7 9 11 11 10 9 11 9 8 ...\n",
      " $ Education           : int  4 6 4 3 5 6 6 4 5 4 ...\n",
      " $ Income              : int  3 1 8 6 4 8 7 4 1 3 ...\n",
      " $ Diabetes_binary     : int  0 0 0 0 0 0 0 0 1 0 ...\n"
     ]
    }
   ],
   "source": [
    "str(df)"
   ]
  },
  {
   "cell_type": "markdown",
   "id": "c2bae823-a9ff-47bd-9cbd-827648c0ac2e",
   "metadata": {},
   "source": [
    "### 3.1. Response variable analysis"
   ]
  },
  {
   "cell_type": "code",
   "execution_count": 512,
   "id": "b3da72aa-81d0-4ba7-ad50-5d30bf9f4e6b",
   "metadata": {},
   "outputs": [],
   "source": [
    "plot_binary_distribution = function(dataframe, response_col, title)\n",
    "{\n",
    "    # Creating a table of counts for each category in the response column\n",
    "    response_table <- table(dataframe[, response_col])\n",
    "    \n",
    "    # Converting the table into a data frame\n",
    "    response_df <- as.data.frame(response_table)\n",
    "    \n",
    "    # Renaming the column\n",
    "    colnames(response_df) <- c(\"Response\", \"Count\")\n",
    "    \n",
    "    # Calculate percentages\n",
    "    response_df$Percent <- response_df$Count / sum(response_df$Count) * 100\n",
    "    \n",
    "    # Creating a pie chart using ggplot2\n",
    "    pie_chart <- ggplot(response_df, aes(x = \"\", y = Count, fill = Response)) +\n",
    "      geom_bar(stat = \"identity\", width = 1) +\n",
    "      coord_polar(\"y\", start = 0) +\n",
    "      scale_fill_manual(values = c(\"green\", \"red\")) + \n",
    "      labs(title = title) +\n",
    "      theme_void() +\n",
    "      theme(legend.position = \"bottom\", \n",
    "            plot.title = element_text(hjust = 0.5, size = 30),  # Adjust title size here\n",
    "            legend.text = element_text(size = 20)) +            # Adjust legend text size here\n",
    "      geom_text(aes(label = paste0(round(Percent, 1), \"%\")), \n",
    "                position = position_stack(vjust = 0.5),\n",
    "                size = 7) + # Adjust label size here\n",
    "      guides(fill = guide_legend(title = response_col, title.position = \"top\", title.theme = element_text(size = 15))) # Adjust legend title size here\n",
    "    \n",
    "    # Displaying the pie chart\n",
    "    print(pie_chart)\n",
    "}"
   ]
  },
  {
   "cell_type": "code",
   "execution_count": 513,
   "id": "8b99a955-da6e-40fd-a1b4-64917d28c208",
   "metadata": {},
   "outputs": [
    {
     "data": {
      "image/png": "[encoded data removed]",
      "text/plain": [
       "plot without title"
      ]
     },
     "metadata": {
      "image/png": {
       "height": 420,
       "width": 420
      }
     },
     "output_type": "display_data"
    }
   ],
   "source": [
    "plot_binary_distribution(df, \"Diabetes_binary\", \"Imbalanced dataset: Diabetes_binary\")"
   ]
  },
  {
   "cell_type": "code",
   "execution_count": 514,
   "id": "e3565b0f-c921-4d6d-9547-454cbcad9df6",
   "metadata": {},
   "outputs": [],
   "source": [
    "# COMMENT\n",
    "# The dataset is imbalanced\n",
    "# => Apply oversampling method"
   ]
  },
  {
   "cell_type": "markdown",
   "id": "ceb31c4d-1bf5-4c2b-b3b4-9f7f36d5ccc7",
   "metadata": {},
   "source": [
    "### 3.2. Dataset oversampling"
   ]
  },
  {
   "cell_type": "code",
   "execution_count": 515,
   "id": "cdb47d13-4767-414e-9131-a3283dcc4e2f",
   "metadata": {},
   "outputs": [
    {
     "data": {
      "text/html": [
       "202944"
      ],
      "text/latex": [
       "202944"
      ],
      "text/markdown": [
       "202944"
      ],
      "text/plain": [
       "[1] 202944"
      ]
     },
     "metadata": {},
     "output_type": "display_data"
    },
    {
     "data": {
      "text/html": [
       "50736"
      ],
      "text/latex": [
       "50736"
      ],
      "text/markdown": [
       "50736"
      ],
      "text/plain": [
       "[1] 50736"
      ]
     },
     "metadata": {},
     "output_type": "display_data"
    },
    {
     "data": {
      "text/html": [
       "0.138846184169032"
      ],
      "text/latex": [
       "0.138846184169032"
      ],
      "text/markdown": [
       "0.138846184169032"
      ],
      "text/plain": [
       "[1] 0.1388462"
      ]
     },
     "metadata": {},
     "output_type": "display_data"
    },
    {
     "data": {
      "text/html": [
       "0.141280353200883"
      ],
      "text/latex": [
       "0.141280353200883"
      ],
      "text/markdown": [
       "0.141280353200883"
      ],
      "text/plain": [
       "[1] 0.1412804"
      ]
     },
     "metadata": {},
     "output_type": "display_data"
    }
   ],
   "source": [
    "index = caret::createDataPartition(df$Diabetes_binary, p = 0.8, list = FALSE)\n",
    "training_data = df[index, ]\n",
    "testing_data = df[-index, ]\n",
    "\n",
    "nrow(training_data)\n",
    "nrow(testing_data)\n",
    "nrow(training_data[training_data$Diabetes_binary == 1, ]) / nrow(training_data)\n",
    "nrow(testing_data[testing_data$Diabetes_binary == 1, ]) / nrow(testing_data)"
   ]
  },
  {
   "cell_type": "markdown",
   "id": "39f720e5-1a17-4f18-bafb-73422f61709b",
   "metadata": {},
   "source": [
    "### 3.3. Training dataset oversampling"
   ]
  },
  {
   "cell_type": "code",
   "execution_count": 516,
   "id": "a2ada184-fd75-4f1f-81d8-5086cbad7288",
   "metadata": {},
   "outputs": [
    {
     "data": {
      "text/plain": [
       "\n",
       "     0      1 \n",
       "174766  28178 "
      ]
     },
     "metadata": {},
     "output_type": "display_data"
    }
   ],
   "source": [
    "table(training_data$Diabetes_binary)"
   ]
  },
  {
   "cell_type": "code",
   "execution_count": 517,
   "id": "2cff7344-145c-4766-9547-773532642b35",
   "metadata": {},
   "outputs": [],
   "source": [
    "balanced_training_data <- ovun.sample(Diabetes_binary ~  ., data = training_data,\n",
    "                                  p = 0.5, seed = SEED, \n",
    "                                  method = \"over\")$data"
   ]
  },
  {
   "cell_type": "code",
   "execution_count": 518,
   "id": "2dbab752-ec2e-4939-89a4-b25579cb860e",
   "metadata": {},
   "outputs": [
    {
     "data": {
      "text/plain": [
       "\n",
       "     0      1 \n",
       "174766 174600 "
      ]
     },
     "metadata": {},
     "output_type": "display_data"
    }
   ],
   "source": [
    "table(balanced_training_data$Diabetes_binary)"
   ]
  },
  {
   "cell_type": "code",
   "execution_count": 519,
   "id": "8a8b27a1-3946-4657-ac38-c8658efd2c9e",
   "metadata": {},
   "outputs": [
    {
     "data": {
      "text/html": [
       "<table class=\"dataframe\">\n",
       "<caption>A data.frame: 349366 × 22</caption>\n",
       "<thead>\n",
       "\t<tr><th></th><th scope=col>HighBP</th><th scope=col>HighChol</th><th scope=col>CholCheck</th><th scope=col>BMI</th><th scope=col>Smoker</th><th scope=col>Stroke</th><th scope=col>HeartDiseaseorAttack</th><th scope=col>PhysActivity</th><th scope=col>Fruits</th><th scope=col>Veggies</th><th scope=col>⋯</th><th scope=col>NoDocbcCost</th><th scope=col>GenHlth</th><th scope=col>MentHlth</th><th scope=col>PhysHlth</th><th scope=col>DiffWalk</th><th scope=col>Sex</th><th scope=col>Age</th><th scope=col>Education</th><th scope=col>Income</th><th scope=col>Diabetes_binary</th></tr>\n",
       "\t<tr><th></th><th scope=col>&lt;int&gt;</th><th scope=col>&lt;int&gt;</th><th scope=col>&lt;int&gt;</th><th scope=col>&lt;int&gt;</th><th scope=col>&lt;int&gt;</th><th scope=col>&lt;int&gt;</th><th scope=col>&lt;int&gt;</th><th scope=col>&lt;int&gt;</th><th scope=col>&lt;int&gt;</th><th scope=col>&lt;int&gt;</th><th scope=col>⋯</th><th scope=col>&lt;int&gt;</th><th scope=col>&lt;int&gt;</th><th scope=col>&lt;int&gt;</th><th scope=col>&lt;int&gt;</th><th scope=col>&lt;int&gt;</th><th scope=col>&lt;int&gt;</th><th scope=col>&lt;int&gt;</th><th scope=col>&lt;int&gt;</th><th scope=col>&lt;int&gt;</th><th scope=col>&lt;int&gt;</th></tr>\n",
       "</thead>\n",
       "<tbody>\n",
       "\t<tr><th scope=row>1</th><td>1</td><td>1</td><td>1</td><td>40</td><td>1</td><td>0</td><td>0</td><td>0</td><td>0</td><td>1</td><td>⋯</td><td>0</td><td>5</td><td>18</td><td>15</td><td>1</td><td>0</td><td> 9</td><td>4</td><td>3</td><td>0</td></tr>\n",
       "\t<tr><th scope=row>2</th><td>0</td><td>0</td><td>0</td><td>25</td><td>1</td><td>0</td><td>0</td><td>1</td><td>0</td><td>0</td><td>⋯</td><td>1</td><td>3</td><td> 0</td><td> 0</td><td>0</td><td>0</td><td> 7</td><td>6</td><td>1</td><td>0</td></tr>\n",
       "\t<tr><th scope=row>3</th><td>1</td><td>1</td><td>1</td><td>28</td><td>0</td><td>0</td><td>0</td><td>0</td><td>1</td><td>0</td><td>⋯</td><td>1</td><td>5</td><td>30</td><td>30</td><td>1</td><td>0</td><td> 9</td><td>4</td><td>8</td><td>0</td></tr>\n",
       "\t<tr><th scope=row>4</th><td>1</td><td>0</td><td>1</td><td>27</td><td>0</td><td>0</td><td>0</td><td>1</td><td>1</td><td>1</td><td>⋯</td><td>0</td><td>2</td><td> 0</td><td> 0</td><td>0</td><td>0</td><td>11</td><td>3</td><td>6</td><td>0</td></tr>\n",
       "\t<tr><th scope=row>5</th><td>1</td><td>1</td><td>1</td><td>24</td><td>0</td><td>0</td><td>0</td><td>1</td><td>1</td><td>1</td><td>⋯</td><td>0</td><td>2</td><td> 3</td><td> 0</td><td>0</td><td>0</td><td>11</td><td>5</td><td>4</td><td>0</td></tr>\n",
       "\t<tr><th scope=row>6</th><td>1</td><td>1</td><td>1</td><td>25</td><td>1</td><td>0</td><td>0</td><td>1</td><td>1</td><td>1</td><td>⋯</td><td>0</td><td>2</td><td> 0</td><td> 2</td><td>0</td><td>1</td><td>10</td><td>6</td><td>8</td><td>0</td></tr>\n",
       "\t<tr><th scope=row>7</th><td>1</td><td>0</td><td>1</td><td>30</td><td>1</td><td>0</td><td>0</td><td>0</td><td>0</td><td>0</td><td>⋯</td><td>0</td><td>3</td><td> 0</td><td>14</td><td>0</td><td>0</td><td> 9</td><td>6</td><td>7</td><td>0</td></tr>\n",
       "\t<tr><th scope=row>8</th><td>1</td><td>1</td><td>1</td><td>25</td><td>1</td><td>0</td><td>0</td><td>1</td><td>0</td><td>1</td><td>⋯</td><td>0</td><td>3</td><td> 0</td><td> 0</td><td>1</td><td>0</td><td>11</td><td>4</td><td>4</td><td>0</td></tr>\n",
       "\t<tr><th scope=row>9</th><td>0</td><td>0</td><td>1</td><td>24</td><td>0</td><td>0</td><td>0</td><td>0</td><td>0</td><td>1</td><td>⋯</td><td>0</td><td>2</td><td> 0</td><td> 0</td><td>0</td><td>1</td><td> 8</td><td>4</td><td>3</td><td>0</td></tr>\n",
       "\t<tr><th scope=row>10</th><td>0</td><td>0</td><td>1</td><td>26</td><td>1</td><td>0</td><td>0</td><td>0</td><td>0</td><td>1</td><td>⋯</td><td>0</td><td>3</td><td> 0</td><td>15</td><td>0</td><td>0</td><td> 7</td><td>5</td><td>7</td><td>0</td></tr>\n",
       "\t<tr><th scope=row>11</th><td>0</td><td>1</td><td>1</td><td>33</td><td>1</td><td>1</td><td>0</td><td>1</td><td>0</td><td>1</td><td>⋯</td><td>1</td><td>4</td><td>30</td><td>28</td><td>0</td><td>0</td><td> 4</td><td>6</td><td>2</td><td>0</td></tr>\n",
       "\t<tr><th scope=row>12</th><td>1</td><td>0</td><td>1</td><td>33</td><td>0</td><td>0</td><td>0</td><td>1</td><td>0</td><td>0</td><td>⋯</td><td>0</td><td>2</td><td> 5</td><td> 0</td><td>0</td><td>0</td><td> 6</td><td>6</td><td>8</td><td>0</td></tr>\n",
       "\t<tr><th scope=row>13</th><td>1</td><td>1</td><td>1</td><td>21</td><td>0</td><td>0</td><td>0</td><td>1</td><td>1</td><td>1</td><td>⋯</td><td>0</td><td>3</td><td> 0</td><td> 0</td><td>0</td><td>0</td><td>10</td><td>4</td><td>3</td><td>0</td></tr>\n",
       "\t<tr><th scope=row>14</th><td>0</td><td>0</td><td>0</td><td>23</td><td>0</td><td>0</td><td>0</td><td>0</td><td>0</td><td>1</td><td>⋯</td><td>0</td><td>2</td><td>15</td><td> 0</td><td>0</td><td>0</td><td> 2</td><td>6</td><td>7</td><td>0</td></tr>\n",
       "\t<tr><th scope=row>15</th><td>0</td><td>1</td><td>1</td><td>28</td><td>0</td><td>0</td><td>0</td><td>0</td><td>0</td><td>0</td><td>⋯</td><td>0</td><td>2</td><td>10</td><td> 0</td><td>0</td><td>1</td><td> 4</td><td>6</td><td>8</td><td>0</td></tr>\n",
       "\t<tr><th scope=row>16</th><td>1</td><td>1</td><td>1</td><td>22</td><td>0</td><td>1</td><td>1</td><td>0</td><td>1</td><td>0</td><td>⋯</td><td>0</td><td>3</td><td>30</td><td> 0</td><td>1</td><td>0</td><td>12</td><td>4</td><td>4</td><td>0</td></tr>\n",
       "\t<tr><th scope=row>17</th><td>1</td><td>1</td><td>1</td><td>38</td><td>1</td><td>0</td><td>0</td><td>0</td><td>1</td><td>1</td><td>⋯</td><td>0</td><td>5</td><td>15</td><td>30</td><td>1</td><td>0</td><td>13</td><td>2</td><td>3</td><td>0</td></tr>\n",
       "\t<tr><th scope=row>18</th><td>0</td><td>0</td><td>1</td><td>28</td><td>1</td><td>0</td><td>0</td><td>0</td><td>0</td><td>1</td><td>⋯</td><td>0</td><td>3</td><td> 0</td><td> 7</td><td>0</td><td>1</td><td> 5</td><td>5</td><td>5</td><td>0</td></tr>\n",
       "\t<tr><th scope=row>19</th><td>1</td><td>1</td><td>1</td><td>28</td><td>1</td><td>0</td><td>0</td><td>0</td><td>1</td><td>1</td><td>⋯</td><td>0</td><td>3</td><td> 6</td><td> 0</td><td>1</td><td>0</td><td> 9</td><td>4</td><td>6</td><td>0</td></tr>\n",
       "\t<tr><th scope=row>20</th><td>1</td><td>0</td><td>1</td><td>33</td><td>1</td><td>0</td><td>0</td><td>1</td><td>1</td><td>1</td><td>⋯</td><td>0</td><td>1</td><td> 0</td><td> 0</td><td>1</td><td>1</td><td>13</td><td>3</td><td>3</td><td>0</td></tr>\n",
       "\t<tr><th scope=row>21</th><td>1</td><td>0</td><td>1</td><td>31</td><td>0</td><td>0</td><td>0</td><td>1</td><td>0</td><td>0</td><td>⋯</td><td>0</td><td>3</td><td> 0</td><td> 0</td><td>0</td><td>1</td><td>11</td><td>6</td><td>2</td><td>0</td></tr>\n",
       "\t<tr><th scope=row>22</th><td>1</td><td>1</td><td>1</td><td>24</td><td>1</td><td>0</td><td>0</td><td>1</td><td>0</td><td>1</td><td>⋯</td><td>0</td><td>3</td><td> 5</td><td> 3</td><td>1</td><td>1</td><td> 8</td><td>4</td><td>3</td><td>0</td></tr>\n",
       "\t<tr><th scope=row>23</th><td>0</td><td>0</td><td>1</td><td>22</td><td>0</td><td>0</td><td>0</td><td>1</td><td>1</td><td>1</td><td>⋯</td><td>0</td><td>2</td><td> 0</td><td>10</td><td>0</td><td>0</td><td>12</td><td>5</td><td>7</td><td>0</td></tr>\n",
       "\t<tr><th scope=row>24</th><td>0</td><td>0</td><td>1</td><td>26</td><td>1</td><td>0</td><td>0</td><td>1</td><td>1</td><td>1</td><td>⋯</td><td>0</td><td>1</td><td> 0</td><td> 1</td><td>0</td><td>1</td><td> 4</td><td>5</td><td>3</td><td>0</td></tr>\n",
       "\t<tr><th scope=row>25</th><td>1</td><td>1</td><td>1</td><td>24</td><td>1</td><td>0</td><td>0</td><td>0</td><td>1</td><td>1</td><td>⋯</td><td>0</td><td>5</td><td> 0</td><td>30</td><td>0</td><td>1</td><td> 9</td><td>3</td><td>1</td><td>0</td></tr>\n",
       "\t<tr><th scope=row>26</th><td>0</td><td>0</td><td>1</td><td>26</td><td>0</td><td>0</td><td>0</td><td>1</td><td>1</td><td>0</td><td>⋯</td><td>0</td><td>2</td><td> 0</td><td> 1</td><td>0</td><td>0</td><td> 4</td><td>6</td><td>7</td><td>0</td></tr>\n",
       "\t<tr><th scope=row>27</th><td>0</td><td>0</td><td>1</td><td>28</td><td>1</td><td>1</td><td>0</td><td>0</td><td>1</td><td>1</td><td>⋯</td><td>1</td><td>4</td><td>15</td><td>30</td><td>1</td><td>0</td><td> 7</td><td>4</td><td>3</td><td>0</td></tr>\n",
       "\t<tr><th scope=row>28</th><td>1</td><td>0</td><td>1</td><td>23</td><td>1</td><td>0</td><td>0</td><td>1</td><td>0</td><td>1</td><td>⋯</td><td>0</td><td>2</td><td>25</td><td> 0</td><td>0</td><td>0</td><td> 9</td><td>6</td><td>8</td><td>0</td></tr>\n",
       "\t<tr><th scope=row>29</th><td>0</td><td>1</td><td>1</td><td>31</td><td>1</td><td>0</td><td>0</td><td>0</td><td>1</td><td>1</td><td>⋯</td><td>0</td><td>2</td><td> 0</td><td> 0</td><td>0</td><td>0</td><td> 8</td><td>5</td><td>8</td><td>0</td></tr>\n",
       "\t<tr><th scope=row>30</th><td>0</td><td>1</td><td>1</td><td>21</td><td>1</td><td>0</td><td>0</td><td>1</td><td>1</td><td>1</td><td>⋯</td><td>0</td><td>3</td><td>30</td><td> 0</td><td>0</td><td>0</td><td> 8</td><td>6</td><td>3</td><td>0</td></tr>\n",
       "\t<tr><th scope=row>⋮</th><td>⋮</td><td>⋮</td><td>⋮</td><td>⋮</td><td>⋮</td><td>⋮</td><td>⋮</td><td>⋮</td><td>⋮</td><td>⋮</td><td>⋱</td><td>⋮</td><td>⋮</td><td>⋮</td><td>⋮</td><td>⋮</td><td>⋮</td><td>⋮</td><td>⋮</td><td>⋮</td><td>⋮</td></tr>\n",
       "\t<tr><th scope=row>349337</th><td>0</td><td>1</td><td>1</td><td>27</td><td>0</td><td>0</td><td>0</td><td>1</td><td>0</td><td>0</td><td>⋯</td><td>0</td><td>3</td><td> 2</td><td> 0</td><td>0</td><td>1</td><td> 4</td><td>5</td><td>8</td><td>1</td></tr>\n",
       "\t<tr><th scope=row>349338</th><td>0</td><td>0</td><td>1</td><td>43</td><td>0</td><td>0</td><td>0</td><td>0</td><td>0</td><td>0</td><td>⋯</td><td>0</td><td>4</td><td> 0</td><td> 0</td><td>0</td><td>0</td><td> 4</td><td>6</td><td>6</td><td>1</td></tr>\n",
       "\t<tr><th scope=row>349339</th><td>1</td><td>0</td><td>1</td><td>26</td><td>1</td><td>0</td><td>0</td><td>0</td><td>1</td><td>1</td><td>⋯</td><td>0</td><td>2</td><td> 0</td><td>30</td><td>0</td><td>1</td><td>11</td><td>6</td><td>8</td><td>1</td></tr>\n",
       "\t<tr><th scope=row>349340</th><td>1</td><td>1</td><td>1</td><td>31</td><td>0</td><td>0</td><td>1</td><td>1</td><td>1</td><td>1</td><td>⋯</td><td>0</td><td>4</td><td> 0</td><td> 0</td><td>1</td><td>0</td><td>13</td><td>5</td><td>3</td><td>1</td></tr>\n",
       "\t<tr><th scope=row>349341</th><td>1</td><td>1</td><td>1</td><td>23</td><td>1</td><td>0</td><td>0</td><td>1</td><td>0</td><td>0</td><td>⋯</td><td>0</td><td>1</td><td> 0</td><td> 0</td><td>0</td><td>1</td><td>10</td><td>5</td><td>5</td><td>1</td></tr>\n",
       "\t<tr><th scope=row>349342</th><td>1</td><td>1</td><td>1</td><td>31</td><td>0</td><td>0</td><td>0</td><td>1</td><td>0</td><td>1</td><td>⋯</td><td>0</td><td>2</td><td> 0</td><td> 0</td><td>0</td><td>0</td><td>10</td><td>6</td><td>6</td><td>1</td></tr>\n",
       "\t<tr><th scope=row>349343</th><td>1</td><td>1</td><td>1</td><td>42</td><td>1</td><td>0</td><td>0</td><td>0</td><td>0</td><td>1</td><td>⋯</td><td>0</td><td>4</td><td> 0</td><td>10</td><td>1</td><td>0</td><td>10</td><td>5</td><td>2</td><td>1</td></tr>\n",
       "\t<tr><th scope=row>349344</th><td>1</td><td>1</td><td>1</td><td>21</td><td>0</td><td>0</td><td>0</td><td>1</td><td>1</td><td>1</td><td>⋯</td><td>0</td><td>1</td><td> 2</td><td> 2</td><td>1</td><td>0</td><td> 5</td><td>4</td><td>2</td><td>1</td></tr>\n",
       "\t<tr><th scope=row>349345</th><td>0</td><td>1</td><td>1</td><td>33</td><td>0</td><td>0</td><td>0</td><td>1</td><td>0</td><td>1</td><td>⋯</td><td>0</td><td>3</td><td> 0</td><td> 3</td><td>0</td><td>1</td><td>10</td><td>4</td><td>4</td><td>1</td></tr>\n",
       "\t<tr><th scope=row>349346</th><td>1</td><td>1</td><td>1</td><td>35</td><td>0</td><td>0</td><td>0</td><td>0</td><td>0</td><td>1</td><td>⋯</td><td>0</td><td>3</td><td> 0</td><td> 0</td><td>1</td><td>1</td><td> 7</td><td>4</td><td>3</td><td>1</td></tr>\n",
       "\t<tr><th scope=row>349347</th><td>1</td><td>0</td><td>1</td><td>30</td><td>0</td><td>0</td><td>0</td><td>1</td><td>1</td><td>1</td><td>⋯</td><td>0</td><td>3</td><td> 2</td><td> 0</td><td>0</td><td>1</td><td>10</td><td>6</td><td>8</td><td>1</td></tr>\n",
       "\t<tr><th scope=row>349348</th><td>1</td><td>1</td><td>1</td><td>46</td><td>1</td><td>0</td><td>0</td><td>1</td><td>0</td><td>1</td><td>⋯</td><td>0</td><td>2</td><td> 0</td><td> 7</td><td>0</td><td>0</td><td> 9</td><td>5</td><td>7</td><td>1</td></tr>\n",
       "\t<tr><th scope=row>349349</th><td>1</td><td>0</td><td>1</td><td>38</td><td>0</td><td>0</td><td>0</td><td>1</td><td>1</td><td>1</td><td>⋯</td><td>0</td><td>3</td><td> 0</td><td> 0</td><td>1</td><td>0</td><td> 9</td><td>3</td><td>3</td><td>1</td></tr>\n",
       "\t<tr><th scope=row>349350</th><td>1</td><td>1</td><td>1</td><td>28</td><td>0</td><td>0</td><td>0</td><td>1</td><td>1</td><td>1</td><td>⋯</td><td>0</td><td>3</td><td> 0</td><td>30</td><td>0</td><td>1</td><td> 9</td><td>5</td><td>7</td><td>1</td></tr>\n",
       "\t<tr><th scope=row>349351</th><td>1</td><td>0</td><td>1</td><td>27</td><td>0</td><td>0</td><td>0</td><td>1</td><td>0</td><td>1</td><td>⋯</td><td>0</td><td>2</td><td> 0</td><td> 0</td><td>0</td><td>1</td><td>11</td><td>6</td><td>7</td><td>1</td></tr>\n",
       "\t<tr><th scope=row>349352</th><td>1</td><td>0</td><td>1</td><td>32</td><td>1</td><td>0</td><td>0</td><td>1</td><td>1</td><td>1</td><td>⋯</td><td>0</td><td>3</td><td>14</td><td> 0</td><td>1</td><td>1</td><td> 4</td><td>4</td><td>7</td><td>1</td></tr>\n",
       "\t<tr><th scope=row>349353</th><td>0</td><td>0</td><td>1</td><td>32</td><td>0</td><td>0</td><td>0</td><td>1</td><td>0</td><td>1</td><td>⋯</td><td>0</td><td>4</td><td> 0</td><td>30</td><td>1</td><td>1</td><td>10</td><td>6</td><td>7</td><td>1</td></tr>\n",
       "\t<tr><th scope=row>349354</th><td>0</td><td>1</td><td>1</td><td>26</td><td>0</td><td>0</td><td>1</td><td>1</td><td>1</td><td>1</td><td>⋯</td><td>0</td><td>1</td><td> 0</td><td> 0</td><td>0</td><td>1</td><td>11</td><td>6</td><td>8</td><td>1</td></tr>\n",
       "\t<tr><th scope=row>349355</th><td>1</td><td>1</td><td>1</td><td>30</td><td>0</td><td>0</td><td>0</td><td>1</td><td>1</td><td>0</td><td>⋯</td><td>0</td><td>3</td><td> 0</td><td>30</td><td>0</td><td>0</td><td> 7</td><td>3</td><td>5</td><td>1</td></tr>\n",
       "\t<tr><th scope=row>349356</th><td>1</td><td>1</td><td>1</td><td>25</td><td>0</td><td>1</td><td>0</td><td>0</td><td>0</td><td>1</td><td>⋯</td><td>0</td><td>5</td><td>30</td><td>25</td><td>1</td><td>0</td><td>10</td><td>6</td><td>5</td><td>1</td></tr>\n",
       "\t<tr><th scope=row>349357</th><td>1</td><td>1</td><td>1</td><td>25</td><td>1</td><td>0</td><td>0</td><td>0</td><td>0</td><td>1</td><td>⋯</td><td>0</td><td>4</td><td> 3</td><td>25</td><td>1</td><td>0</td><td>11</td><td>6</td><td>1</td><td>1</td></tr>\n",
       "\t<tr><th scope=row>349358</th><td>1</td><td>0</td><td>1</td><td>21</td><td>1</td><td>0</td><td>0</td><td>0</td><td>0</td><td>1</td><td>⋯</td><td>0</td><td>4</td><td> 0</td><td>21</td><td>0</td><td>1</td><td> 6</td><td>4</td><td>6</td><td>1</td></tr>\n",
       "\t<tr><th scope=row>349359</th><td>0</td><td>1</td><td>1</td><td>36</td><td>0</td><td>0</td><td>0</td><td>0</td><td>1</td><td>1</td><td>⋯</td><td>0</td><td>3</td><td> 0</td><td> 0</td><td>0</td><td>0</td><td> 5</td><td>2</td><td>3</td><td>1</td></tr>\n",
       "\t<tr><th scope=row>349360</th><td>0</td><td>1</td><td>1</td><td>30</td><td>1</td><td>0</td><td>0</td><td>1</td><td>0</td><td>0</td><td>⋯</td><td>1</td><td>4</td><td> 2</td><td>14</td><td>1</td><td>0</td><td> 9</td><td>4</td><td>2</td><td>1</td></tr>\n",
       "\t<tr><th scope=row>349361</th><td>0</td><td>0</td><td>1</td><td>24</td><td>1</td><td>0</td><td>1</td><td>1</td><td>1</td><td>1</td><td>⋯</td><td>0</td><td>3</td><td> 0</td><td> 0</td><td>0</td><td>1</td><td>13</td><td>6</td><td>8</td><td>1</td></tr>\n",
       "\t<tr><th scope=row>349362</th><td>1</td><td>1</td><td>1</td><td>35</td><td>1</td><td>0</td><td>0</td><td>1</td><td>1</td><td>1</td><td>⋯</td><td>0</td><td>3</td><td> 0</td><td> 0</td><td>0</td><td>0</td><td>11</td><td>5</td><td>5</td><td>1</td></tr>\n",
       "\t<tr><th scope=row>349363</th><td>0</td><td>1</td><td>1</td><td>29</td><td>0</td><td>0</td><td>0</td><td>1</td><td>1</td><td>1</td><td>⋯</td><td>0</td><td>3</td><td> 0</td><td> 0</td><td>0</td><td>0</td><td>10</td><td>4</td><td>6</td><td>1</td></tr>\n",
       "\t<tr><th scope=row>349364</th><td>1</td><td>1</td><td>1</td><td>46</td><td>1</td><td>1</td><td>0</td><td>0</td><td>1</td><td>1</td><td>⋯</td><td>0</td><td>4</td><td>30</td><td>30</td><td>1</td><td>0</td><td> 9</td><td>5</td><td>7</td><td>1</td></tr>\n",
       "\t<tr><th scope=row>349365</th><td>1</td><td>1</td><td>1</td><td>30</td><td>1</td><td>1</td><td>0</td><td>1</td><td>0</td><td>1</td><td>⋯</td><td>0</td><td>5</td><td>15</td><td>30</td><td>1</td><td>0</td><td> 9</td><td>3</td><td>8</td><td>1</td></tr>\n",
       "\t<tr><th scope=row>349366</th><td>1</td><td>1</td><td>1</td><td>26</td><td>1</td><td>1</td><td>0</td><td>0</td><td>0</td><td>1</td><td>⋯</td><td>0</td><td>4</td><td> 1</td><td> 3</td><td>1</td><td>0</td><td> 8</td><td>5</td><td>4</td><td>1</td></tr>\n",
       "</tbody>\n",
       "</table>\n"
      ],
      "text/latex": [
       "A data.frame: 349366 × 22\n",
       "\\begin{tabular}{r|lllllllllllllllllllll}\n",
       "  & HighBP & HighChol & CholCheck & BMI & Smoker & Stroke & HeartDiseaseorAttack & PhysActivity & Fruits & Veggies & ⋯ & NoDocbcCost & GenHlth & MentHlth & PhysHlth & DiffWalk & Sex & Age & Education & Income & Diabetes\\_binary\\\\\n",
       "  & <int> & <int> & <int> & <int> & <int> & <int> & <int> & <int> & <int> & <int> & ⋯ & <int> & <int> & <int> & <int> & <int> & <int> & <int> & <int> & <int> & <int>\\\\\n",
       "\\hline\n",
       "\t1 & 1 & 1 & 1 & 40 & 1 & 0 & 0 & 0 & 0 & 1 & ⋯ & 0 & 5 & 18 & 15 & 1 & 0 &  9 & 4 & 3 & 0\\\\\n",
       "\t2 & 0 & 0 & 0 & 25 & 1 & 0 & 0 & 1 & 0 & 0 & ⋯ & 1 & 3 &  0 &  0 & 0 & 0 &  7 & 6 & 1 & 0\\\\\n",
       "\t3 & 1 & 1 & 1 & 28 & 0 & 0 & 0 & 0 & 1 & 0 & ⋯ & 1 & 5 & 30 & 30 & 1 & 0 &  9 & 4 & 8 & 0\\\\\n",
       "\t4 & 1 & 0 & 1 & 27 & 0 & 0 & 0 & 1 & 1 & 1 & ⋯ & 0 & 2 &  0 &  0 & 0 & 0 & 11 & 3 & 6 & 0\\\\\n",
       "\t5 & 1 & 1 & 1 & 24 & 0 & 0 & 0 & 1 & 1 & 1 & ⋯ & 0 & 2 &  3 &  0 & 0 & 0 & 11 & 5 & 4 & 0\\\\\n",
       "\t6 & 1 & 1 & 1 & 25 & 1 & 0 & 0 & 1 & 1 & 1 & ⋯ & 0 & 2 &  0 &  2 & 0 & 1 & 10 & 6 & 8 & 0\\\\\n",
       "\t7 & 1 & 0 & 1 & 30 & 1 & 0 & 0 & 0 & 0 & 0 & ⋯ & 0 & 3 &  0 & 14 & 0 & 0 &  9 & 6 & 7 & 0\\\\\n",
       "\t8 & 1 & 1 & 1 & 25 & 1 & 0 & 0 & 1 & 0 & 1 & ⋯ & 0 & 3 &  0 &  0 & 1 & 0 & 11 & 4 & 4 & 0\\\\\n",
       "\t9 & 0 & 0 & 1 & 24 & 0 & 0 & 0 & 0 & 0 & 1 & ⋯ & 0 & 2 &  0 &  0 & 0 & 1 &  8 & 4 & 3 & 0\\\\\n",
       "\t10 & 0 & 0 & 1 & 26 & 1 & 0 & 0 & 0 & 0 & 1 & ⋯ & 0 & 3 &  0 & 15 & 0 & 0 &  7 & 5 & 7 & 0\\\\\n",
       "\t11 & 0 & 1 & 1 & 33 & 1 & 1 & 0 & 1 & 0 & 1 & ⋯ & 1 & 4 & 30 & 28 & 0 & 0 &  4 & 6 & 2 & 0\\\\\n",
       "\t12 & 1 & 0 & 1 & 33 & 0 & 0 & 0 & 1 & 0 & 0 & ⋯ & 0 & 2 &  5 &  0 & 0 & 0 &  6 & 6 & 8 & 0\\\\\n",
       "\t13 & 1 & 1 & 1 & 21 & 0 & 0 & 0 & 1 & 1 & 1 & ⋯ & 0 & 3 &  0 &  0 & 0 & 0 & 10 & 4 & 3 & 0\\\\\n",
       "\t14 & 0 & 0 & 0 & 23 & 0 & 0 & 0 & 0 & 0 & 1 & ⋯ & 0 & 2 & 15 &  0 & 0 & 0 &  2 & 6 & 7 & 0\\\\\n",
       "\t15 & 0 & 1 & 1 & 28 & 0 & 0 & 0 & 0 & 0 & 0 & ⋯ & 0 & 2 & 10 &  0 & 0 & 1 &  4 & 6 & 8 & 0\\\\\n",
       "\t16 & 1 & 1 & 1 & 22 & 0 & 1 & 1 & 0 & 1 & 0 & ⋯ & 0 & 3 & 30 &  0 & 1 & 0 & 12 & 4 & 4 & 0\\\\\n",
       "\t17 & 1 & 1 & 1 & 38 & 1 & 0 & 0 & 0 & 1 & 1 & ⋯ & 0 & 5 & 15 & 30 & 1 & 0 & 13 & 2 & 3 & 0\\\\\n",
       "\t18 & 0 & 0 & 1 & 28 & 1 & 0 & 0 & 0 & 0 & 1 & ⋯ & 0 & 3 &  0 &  7 & 0 & 1 &  5 & 5 & 5 & 0\\\\\n",
       "\t19 & 1 & 1 & 1 & 28 & 1 & 0 & 0 & 0 & 1 & 1 & ⋯ & 0 & 3 &  6 &  0 & 1 & 0 &  9 & 4 & 6 & 0\\\\\n",
       "\t20 & 1 & 0 & 1 & 33 & 1 & 0 & 0 & 1 & 1 & 1 & ⋯ & 0 & 1 &  0 &  0 & 1 & 1 & 13 & 3 & 3 & 0\\\\\n",
       "\t21 & 1 & 0 & 1 & 31 & 0 & 0 & 0 & 1 & 0 & 0 & ⋯ & 0 & 3 &  0 &  0 & 0 & 1 & 11 & 6 & 2 & 0\\\\\n",
       "\t22 & 1 & 1 & 1 & 24 & 1 & 0 & 0 & 1 & 0 & 1 & ⋯ & 0 & 3 &  5 &  3 & 1 & 1 &  8 & 4 & 3 & 0\\\\\n",
       "\t23 & 0 & 0 & 1 & 22 & 0 & 0 & 0 & 1 & 1 & 1 & ⋯ & 0 & 2 &  0 & 10 & 0 & 0 & 12 & 5 & 7 & 0\\\\\n",
       "\t24 & 0 & 0 & 1 & 26 & 1 & 0 & 0 & 1 & 1 & 1 & ⋯ & 0 & 1 &  0 &  1 & 0 & 1 &  4 & 5 & 3 & 0\\\\\n",
       "\t25 & 1 & 1 & 1 & 24 & 1 & 0 & 0 & 0 & 1 & 1 & ⋯ & 0 & 5 &  0 & 30 & 0 & 1 &  9 & 3 & 1 & 0\\\\\n",
       "\t26 & 0 & 0 & 1 & 26 & 0 & 0 & 0 & 1 & 1 & 0 & ⋯ & 0 & 2 &  0 &  1 & 0 & 0 &  4 & 6 & 7 & 0\\\\\n",
       "\t27 & 0 & 0 & 1 & 28 & 1 & 1 & 0 & 0 & 1 & 1 & ⋯ & 1 & 4 & 15 & 30 & 1 & 0 &  7 & 4 & 3 & 0\\\\\n",
       "\t28 & 1 & 0 & 1 & 23 & 1 & 0 & 0 & 1 & 0 & 1 & ⋯ & 0 & 2 & 25 &  0 & 0 & 0 &  9 & 6 & 8 & 0\\\\\n",
       "\t29 & 0 & 1 & 1 & 31 & 1 & 0 & 0 & 0 & 1 & 1 & ⋯ & 0 & 2 &  0 &  0 & 0 & 0 &  8 & 5 & 8 & 0\\\\\n",
       "\t30 & 0 & 1 & 1 & 21 & 1 & 0 & 0 & 1 & 1 & 1 & ⋯ & 0 & 3 & 30 &  0 & 0 & 0 &  8 & 6 & 3 & 0\\\\\n",
       "\t⋮ & ⋮ & ⋮ & ⋮ & ⋮ & ⋮ & ⋮ & ⋮ & ⋮ & ⋮ & ⋮ & ⋱ & ⋮ & ⋮ & ⋮ & ⋮ & ⋮ & ⋮ & ⋮ & ⋮ & ⋮ & ⋮\\\\\n",
       "\t349337 & 0 & 1 & 1 & 27 & 0 & 0 & 0 & 1 & 0 & 0 & ⋯ & 0 & 3 &  2 &  0 & 0 & 1 &  4 & 5 & 8 & 1\\\\\n",
       "\t349338 & 0 & 0 & 1 & 43 & 0 & 0 & 0 & 0 & 0 & 0 & ⋯ & 0 & 4 &  0 &  0 & 0 & 0 &  4 & 6 & 6 & 1\\\\\n",
       "\t349339 & 1 & 0 & 1 & 26 & 1 & 0 & 0 & 0 & 1 & 1 & ⋯ & 0 & 2 &  0 & 30 & 0 & 1 & 11 & 6 & 8 & 1\\\\\n",
       "\t349340 & 1 & 1 & 1 & 31 & 0 & 0 & 1 & 1 & 1 & 1 & ⋯ & 0 & 4 &  0 &  0 & 1 & 0 & 13 & 5 & 3 & 1\\\\\n",
       "\t349341 & 1 & 1 & 1 & 23 & 1 & 0 & 0 & 1 & 0 & 0 & ⋯ & 0 & 1 &  0 &  0 & 0 & 1 & 10 & 5 & 5 & 1\\\\\n",
       "\t349342 & 1 & 1 & 1 & 31 & 0 & 0 & 0 & 1 & 0 & 1 & ⋯ & 0 & 2 &  0 &  0 & 0 & 0 & 10 & 6 & 6 & 1\\\\\n",
       "\t349343 & 1 & 1 & 1 & 42 & 1 & 0 & 0 & 0 & 0 & 1 & ⋯ & 0 & 4 &  0 & 10 & 1 & 0 & 10 & 5 & 2 & 1\\\\\n",
       "\t349344 & 1 & 1 & 1 & 21 & 0 & 0 & 0 & 1 & 1 & 1 & ⋯ & 0 & 1 &  2 &  2 & 1 & 0 &  5 & 4 & 2 & 1\\\\\n",
       "\t349345 & 0 & 1 & 1 & 33 & 0 & 0 & 0 & 1 & 0 & 1 & ⋯ & 0 & 3 &  0 &  3 & 0 & 1 & 10 & 4 & 4 & 1\\\\\n",
       "\t349346 & 1 & 1 & 1 & 35 & 0 & 0 & 0 & 0 & 0 & 1 & ⋯ & 0 & 3 &  0 &  0 & 1 & 1 &  7 & 4 & 3 & 1\\\\\n",
       "\t349347 & 1 & 0 & 1 & 30 & 0 & 0 & 0 & 1 & 1 & 1 & ⋯ & 0 & 3 &  2 &  0 & 0 & 1 & 10 & 6 & 8 & 1\\\\\n",
       "\t349348 & 1 & 1 & 1 & 46 & 1 & 0 & 0 & 1 & 0 & 1 & ⋯ & 0 & 2 &  0 &  7 & 0 & 0 &  9 & 5 & 7 & 1\\\\\n",
       "\t349349 & 1 & 0 & 1 & 38 & 0 & 0 & 0 & 1 & 1 & 1 & ⋯ & 0 & 3 &  0 &  0 & 1 & 0 &  9 & 3 & 3 & 1\\\\\n",
       "\t349350 & 1 & 1 & 1 & 28 & 0 & 0 & 0 & 1 & 1 & 1 & ⋯ & 0 & 3 &  0 & 30 & 0 & 1 &  9 & 5 & 7 & 1\\\\\n",
       "\t349351 & 1 & 0 & 1 & 27 & 0 & 0 & 0 & 1 & 0 & 1 & ⋯ & 0 & 2 &  0 &  0 & 0 & 1 & 11 & 6 & 7 & 1\\\\\n",
       "\t349352 & 1 & 0 & 1 & 32 & 1 & 0 & 0 & 1 & 1 & 1 & ⋯ & 0 & 3 & 14 &  0 & 1 & 1 &  4 & 4 & 7 & 1\\\\\n",
       "\t349353 & 0 & 0 & 1 & 32 & 0 & 0 & 0 & 1 & 0 & 1 & ⋯ & 0 & 4 &  0 & 30 & 1 & 1 & 10 & 6 & 7 & 1\\\\\n",
       "\t349354 & 0 & 1 & 1 & 26 & 0 & 0 & 1 & 1 & 1 & 1 & ⋯ & 0 & 1 &  0 &  0 & 0 & 1 & 11 & 6 & 8 & 1\\\\\n",
       "\t349355 & 1 & 1 & 1 & 30 & 0 & 0 & 0 & 1 & 1 & 0 & ⋯ & 0 & 3 &  0 & 30 & 0 & 0 &  7 & 3 & 5 & 1\\\\\n",
       "\t349356 & 1 & 1 & 1 & 25 & 0 & 1 & 0 & 0 & 0 & 1 & ⋯ & 0 & 5 & 30 & 25 & 1 & 0 & 10 & 6 & 5 & 1\\\\\n",
       "\t349357 & 1 & 1 & 1 & 25 & 1 & 0 & 0 & 0 & 0 & 1 & ⋯ & 0 & 4 &  3 & 25 & 1 & 0 & 11 & 6 & 1 & 1\\\\\n",
       "\t349358 & 1 & 0 & 1 & 21 & 1 & 0 & 0 & 0 & 0 & 1 & ⋯ & 0 & 4 &  0 & 21 & 0 & 1 &  6 & 4 & 6 & 1\\\\\n",
       "\t349359 & 0 & 1 & 1 & 36 & 0 & 0 & 0 & 0 & 1 & 1 & ⋯ & 0 & 3 &  0 &  0 & 0 & 0 &  5 & 2 & 3 & 1\\\\\n",
       "\t349360 & 0 & 1 & 1 & 30 & 1 & 0 & 0 & 1 & 0 & 0 & ⋯ & 1 & 4 &  2 & 14 & 1 & 0 &  9 & 4 & 2 & 1\\\\\n",
       "\t349361 & 0 & 0 & 1 & 24 & 1 & 0 & 1 & 1 & 1 & 1 & ⋯ & 0 & 3 &  0 &  0 & 0 & 1 & 13 & 6 & 8 & 1\\\\\n",
       "\t349362 & 1 & 1 & 1 & 35 & 1 & 0 & 0 & 1 & 1 & 1 & ⋯ & 0 & 3 &  0 &  0 & 0 & 0 & 11 & 5 & 5 & 1\\\\\n",
       "\t349363 & 0 & 1 & 1 & 29 & 0 & 0 & 0 & 1 & 1 & 1 & ⋯ & 0 & 3 &  0 &  0 & 0 & 0 & 10 & 4 & 6 & 1\\\\\n",
       "\t349364 & 1 & 1 & 1 & 46 & 1 & 1 & 0 & 0 & 1 & 1 & ⋯ & 0 & 4 & 30 & 30 & 1 & 0 &  9 & 5 & 7 & 1\\\\\n",
       "\t349365 & 1 & 1 & 1 & 30 & 1 & 1 & 0 & 1 & 0 & 1 & ⋯ & 0 & 5 & 15 & 30 & 1 & 0 &  9 & 3 & 8 & 1\\\\\n",
       "\t349366 & 1 & 1 & 1 & 26 & 1 & 1 & 0 & 0 & 0 & 1 & ⋯ & 0 & 4 &  1 &  3 & 1 & 0 &  8 & 5 & 4 & 1\\\\\n",
       "\\end{tabular}\n"
      ],
      "text/markdown": [
       "\n",
       "A data.frame: 349366 × 22\n",
       "\n",
       "| <!--/--> | HighBP &lt;int&gt; | HighChol &lt;int&gt; | CholCheck &lt;int&gt; | BMI &lt;int&gt; | Smoker &lt;int&gt; | Stroke &lt;int&gt; | HeartDiseaseorAttack &lt;int&gt; | PhysActivity &lt;int&gt; | Fruits &lt;int&gt; | Veggies &lt;int&gt; | ⋯ ⋯ | NoDocbcCost &lt;int&gt; | GenHlth &lt;int&gt; | MentHlth &lt;int&gt; | PhysHlth &lt;int&gt; | DiffWalk &lt;int&gt; | Sex &lt;int&gt; | Age &lt;int&gt; | Education &lt;int&gt; | Income &lt;int&gt; | Diabetes_binary &lt;int&gt; |\n",
       "|---|---|---|---|---|---|---|---|---|---|---|---|---|---|---|---|---|---|---|---|---|---|\n",
       "| 1 | 1 | 1 | 1 | 40 | 1 | 0 | 0 | 0 | 0 | 1 | ⋯ | 0 | 5 | 18 | 15 | 1 | 0 |  9 | 4 | 3 | 0 |\n",
       "| 2 | 0 | 0 | 0 | 25 | 1 | 0 | 0 | 1 | 0 | 0 | ⋯ | 1 | 3 |  0 |  0 | 0 | 0 |  7 | 6 | 1 | 0 |\n",
       "| 3 | 1 | 1 | 1 | 28 | 0 | 0 | 0 | 0 | 1 | 0 | ⋯ | 1 | 5 | 30 | 30 | 1 | 0 |  9 | 4 | 8 | 0 |\n",
       "| 4 | 1 | 0 | 1 | 27 | 0 | 0 | 0 | 1 | 1 | 1 | ⋯ | 0 | 2 |  0 |  0 | 0 | 0 | 11 | 3 | 6 | 0 |\n",
       "| 5 | 1 | 1 | 1 | 24 | 0 | 0 | 0 | 1 | 1 | 1 | ⋯ | 0 | 2 |  3 |  0 | 0 | 0 | 11 | 5 | 4 | 0 |\n",
       "| 6 | 1 | 1 | 1 | 25 | 1 | 0 | 0 | 1 | 1 | 1 | ⋯ | 0 | 2 |  0 |  2 | 0 | 1 | 10 | 6 | 8 | 0 |\n",
       "| 7 | 1 | 0 | 1 | 30 | 1 | 0 | 0 | 0 | 0 | 0 | ⋯ | 0 | 3 |  0 | 14 | 0 | 0 |  9 | 6 | 7 | 0 |\n",
       "| 8 | 1 | 1 | 1 | 25 | 1 | 0 | 0 | 1 | 0 | 1 | ⋯ | 0 | 3 |  0 |  0 | 1 | 0 | 11 | 4 | 4 | 0 |\n",
       "| 9 | 0 | 0 | 1 | 24 | 0 | 0 | 0 | 0 | 0 | 1 | ⋯ | 0 | 2 |  0 |  0 | 0 | 1 |  8 | 4 | 3 | 0 |\n",
       "| 10 | 0 | 0 | 1 | 26 | 1 | 0 | 0 | 0 | 0 | 1 | ⋯ | 0 | 3 |  0 | 15 | 0 | 0 |  7 | 5 | 7 | 0 |\n",
       "| 11 | 0 | 1 | 1 | 33 | 1 | 1 | 0 | 1 | 0 | 1 | ⋯ | 1 | 4 | 30 | 28 | 0 | 0 |  4 | 6 | 2 | 0 |\n",
       "| 12 | 1 | 0 | 1 | 33 | 0 | 0 | 0 | 1 | 0 | 0 | ⋯ | 0 | 2 |  5 |  0 | 0 | 0 |  6 | 6 | 8 | 0 |\n",
       "| 13 | 1 | 1 | 1 | 21 | 0 | 0 | 0 | 1 | 1 | 1 | ⋯ | 0 | 3 |  0 |  0 | 0 | 0 | 10 | 4 | 3 | 0 |\n",
       "| 14 | 0 | 0 | 0 | 23 | 0 | 0 | 0 | 0 | 0 | 1 | ⋯ | 0 | 2 | 15 |  0 | 0 | 0 |  2 | 6 | 7 | 0 |\n",
       "| 15 | 0 | 1 | 1 | 28 | 0 | 0 | 0 | 0 | 0 | 0 | ⋯ | 0 | 2 | 10 |  0 | 0 | 1 |  4 | 6 | 8 | 0 |\n",
       "| 16 | 1 | 1 | 1 | 22 | 0 | 1 | 1 | 0 | 1 | 0 | ⋯ | 0 | 3 | 30 |  0 | 1 | 0 | 12 | 4 | 4 | 0 |\n",
       "| 17 | 1 | 1 | 1 | 38 | 1 | 0 | 0 | 0 | 1 | 1 | ⋯ | 0 | 5 | 15 | 30 | 1 | 0 | 13 | 2 | 3 | 0 |\n",
       "| 18 | 0 | 0 | 1 | 28 | 1 | 0 | 0 | 0 | 0 | 1 | ⋯ | 0 | 3 |  0 |  7 | 0 | 1 |  5 | 5 | 5 | 0 |\n",
       "| 19 | 1 | 1 | 1 | 28 | 1 | 0 | 0 | 0 | 1 | 1 | ⋯ | 0 | 3 |  6 |  0 | 1 | 0 |  9 | 4 | 6 | 0 |\n",
       "| 20 | 1 | 0 | 1 | 33 | 1 | 0 | 0 | 1 | 1 | 1 | ⋯ | 0 | 1 |  0 |  0 | 1 | 1 | 13 | 3 | 3 | 0 |\n",
       "| 21 | 1 | 0 | 1 | 31 | 0 | 0 | 0 | 1 | 0 | 0 | ⋯ | 0 | 3 |  0 |  0 | 0 | 1 | 11 | 6 | 2 | 0 |\n",
       "| 22 | 1 | 1 | 1 | 24 | 1 | 0 | 0 | 1 | 0 | 1 | ⋯ | 0 | 3 |  5 |  3 | 1 | 1 |  8 | 4 | 3 | 0 |\n",
       "| 23 | 0 | 0 | 1 | 22 | 0 | 0 | 0 | 1 | 1 | 1 | ⋯ | 0 | 2 |  0 | 10 | 0 | 0 | 12 | 5 | 7 | 0 |\n",
       "| 24 | 0 | 0 | 1 | 26 | 1 | 0 | 0 | 1 | 1 | 1 | ⋯ | 0 | 1 |  0 |  1 | 0 | 1 |  4 | 5 | 3 | 0 |\n",
       "| 25 | 1 | 1 | 1 | 24 | 1 | 0 | 0 | 0 | 1 | 1 | ⋯ | 0 | 5 |  0 | 30 | 0 | 1 |  9 | 3 | 1 | 0 |\n",
       "| 26 | 0 | 0 | 1 | 26 | 0 | 0 | 0 | 1 | 1 | 0 | ⋯ | 0 | 2 |  0 |  1 | 0 | 0 |  4 | 6 | 7 | 0 |\n",
       "| 27 | 0 | 0 | 1 | 28 | 1 | 1 | 0 | 0 | 1 | 1 | ⋯ | 1 | 4 | 15 | 30 | 1 | 0 |  7 | 4 | 3 | 0 |\n",
       "| 28 | 1 | 0 | 1 | 23 | 1 | 0 | 0 | 1 | 0 | 1 | ⋯ | 0 | 2 | 25 |  0 | 0 | 0 |  9 | 6 | 8 | 0 |\n",
       "| 29 | 0 | 1 | 1 | 31 | 1 | 0 | 0 | 0 | 1 | 1 | ⋯ | 0 | 2 |  0 |  0 | 0 | 0 |  8 | 5 | 8 | 0 |\n",
       "| 30 | 0 | 1 | 1 | 21 | 1 | 0 | 0 | 1 | 1 | 1 | ⋯ | 0 | 3 | 30 |  0 | 0 | 0 |  8 | 6 | 3 | 0 |\n",
       "| ⋮ | ⋮ | ⋮ | ⋮ | ⋮ | ⋮ | ⋮ | ⋮ | ⋮ | ⋮ | ⋮ | ⋱ | ⋮ | ⋮ | ⋮ | ⋮ | ⋮ | ⋮ | ⋮ | ⋮ | ⋮ | ⋮ |\n",
       "| 349337 | 0 | 1 | 1 | 27 | 0 | 0 | 0 | 1 | 0 | 0 | ⋯ | 0 | 3 |  2 |  0 | 0 | 1 |  4 | 5 | 8 | 1 |\n",
       "| 349338 | 0 | 0 | 1 | 43 | 0 | 0 | 0 | 0 | 0 | 0 | ⋯ | 0 | 4 |  0 |  0 | 0 | 0 |  4 | 6 | 6 | 1 |\n",
       "| 349339 | 1 | 0 | 1 | 26 | 1 | 0 | 0 | 0 | 1 | 1 | ⋯ | 0 | 2 |  0 | 30 | 0 | 1 | 11 | 6 | 8 | 1 |\n",
       "| 349340 | 1 | 1 | 1 | 31 | 0 | 0 | 1 | 1 | 1 | 1 | ⋯ | 0 | 4 |  0 |  0 | 1 | 0 | 13 | 5 | 3 | 1 |\n",
       "| 349341 | 1 | 1 | 1 | 23 | 1 | 0 | 0 | 1 | 0 | 0 | ⋯ | 0 | 1 |  0 |  0 | 0 | 1 | 10 | 5 | 5 | 1 |\n",
       "| 349342 | 1 | 1 | 1 | 31 | 0 | 0 | 0 | 1 | 0 | 1 | ⋯ | 0 | 2 |  0 |  0 | 0 | 0 | 10 | 6 | 6 | 1 |\n",
       "| 349343 | 1 | 1 | 1 | 42 | 1 | 0 | 0 | 0 | 0 | 1 | ⋯ | 0 | 4 |  0 | 10 | 1 | 0 | 10 | 5 | 2 | 1 |\n",
       "| 349344 | 1 | 1 | 1 | 21 | 0 | 0 | 0 | 1 | 1 | 1 | ⋯ | 0 | 1 |  2 |  2 | 1 | 0 |  5 | 4 | 2 | 1 |\n",
       "| 349345 | 0 | 1 | 1 | 33 | 0 | 0 | 0 | 1 | 0 | 1 | ⋯ | 0 | 3 |  0 |  3 | 0 | 1 | 10 | 4 | 4 | 1 |\n",
       "| 349346 | 1 | 1 | 1 | 35 | 0 | 0 | 0 | 0 | 0 | 1 | ⋯ | 0 | 3 |  0 |  0 | 1 | 1 |  7 | 4 | 3 | 1 |\n",
       "| 349347 | 1 | 0 | 1 | 30 | 0 | 0 | 0 | 1 | 1 | 1 | ⋯ | 0 | 3 |  2 |  0 | 0 | 1 | 10 | 6 | 8 | 1 |\n",
       "| 349348 | 1 | 1 | 1 | 46 | 1 | 0 | 0 | 1 | 0 | 1 | ⋯ | 0 | 2 |  0 |  7 | 0 | 0 |  9 | 5 | 7 | 1 |\n",
       "| 349349 | 1 | 0 | 1 | 38 | 0 | 0 | 0 | 1 | 1 | 1 | ⋯ | 0 | 3 |  0 |  0 | 1 | 0 |  9 | 3 | 3 | 1 |\n",
       "| 349350 | 1 | 1 | 1 | 28 | 0 | 0 | 0 | 1 | 1 | 1 | ⋯ | 0 | 3 |  0 | 30 | 0 | 1 |  9 | 5 | 7 | 1 |\n",
       "| 349351 | 1 | 0 | 1 | 27 | 0 | 0 | 0 | 1 | 0 | 1 | ⋯ | 0 | 2 |  0 |  0 | 0 | 1 | 11 | 6 | 7 | 1 |\n",
       "| 349352 | 1 | 0 | 1 | 32 | 1 | 0 | 0 | 1 | 1 | 1 | ⋯ | 0 | 3 | 14 |  0 | 1 | 1 |  4 | 4 | 7 | 1 |\n",
       "| 349353 | 0 | 0 | 1 | 32 | 0 | 0 | 0 | 1 | 0 | 1 | ⋯ | 0 | 4 |  0 | 30 | 1 | 1 | 10 | 6 | 7 | 1 |\n",
       "| 349354 | 0 | 1 | 1 | 26 | 0 | 0 | 1 | 1 | 1 | 1 | ⋯ | 0 | 1 |  0 |  0 | 0 | 1 | 11 | 6 | 8 | 1 |\n",
       "| 349355 | 1 | 1 | 1 | 30 | 0 | 0 | 0 | 1 | 1 | 0 | ⋯ | 0 | 3 |  0 | 30 | 0 | 0 |  7 | 3 | 5 | 1 |\n",
       "| 349356 | 1 | 1 | 1 | 25 | 0 | 1 | 0 | 0 | 0 | 1 | ⋯ | 0 | 5 | 30 | 25 | 1 | 0 | 10 | 6 | 5 | 1 |\n",
       "| 349357 | 1 | 1 | 1 | 25 | 1 | 0 | 0 | 0 | 0 | 1 | ⋯ | 0 | 4 |  3 | 25 | 1 | 0 | 11 | 6 | 1 | 1 |\n",
       "| 349358 | 1 | 0 | 1 | 21 | 1 | 0 | 0 | 0 | 0 | 1 | ⋯ | 0 | 4 |  0 | 21 | 0 | 1 |  6 | 4 | 6 | 1 |\n",
       "| 349359 | 0 | 1 | 1 | 36 | 0 | 0 | 0 | 0 | 1 | 1 | ⋯ | 0 | 3 |  0 |  0 | 0 | 0 |  5 | 2 | 3 | 1 |\n",
       "| 349360 | 0 | 1 | 1 | 30 | 1 | 0 | 0 | 1 | 0 | 0 | ⋯ | 1 | 4 |  2 | 14 | 1 | 0 |  9 | 4 | 2 | 1 |\n",
       "| 349361 | 0 | 0 | 1 | 24 | 1 | 0 | 1 | 1 | 1 | 1 | ⋯ | 0 | 3 |  0 |  0 | 0 | 1 | 13 | 6 | 8 | 1 |\n",
       "| 349362 | 1 | 1 | 1 | 35 | 1 | 0 | 0 | 1 | 1 | 1 | ⋯ | 0 | 3 |  0 |  0 | 0 | 0 | 11 | 5 | 5 | 1 |\n",
       "| 349363 | 0 | 1 | 1 | 29 | 0 | 0 | 0 | 1 | 1 | 1 | ⋯ | 0 | 3 |  0 |  0 | 0 | 0 | 10 | 4 | 6 | 1 |\n",
       "| 349364 | 1 | 1 | 1 | 46 | 1 | 1 | 0 | 0 | 1 | 1 | ⋯ | 0 | 4 | 30 | 30 | 1 | 0 |  9 | 5 | 7 | 1 |\n",
       "| 349365 | 1 | 1 | 1 | 30 | 1 | 1 | 0 | 1 | 0 | 1 | ⋯ | 0 | 5 | 15 | 30 | 1 | 0 |  9 | 3 | 8 | 1 |\n",
       "| 349366 | 1 | 1 | 1 | 26 | 1 | 1 | 0 | 0 | 0 | 1 | ⋯ | 0 | 4 |  1 |  3 | 1 | 0 |  8 | 5 | 4 | 1 |\n",
       "\n"
      ],
      "text/plain": [
       "       HighBP HighChol CholCheck BMI Smoker Stroke HeartDiseaseorAttack\n",
       "1      1      1        1         40  1      0      0                   \n",
       "2      0      0        0         25  1      0      0                   \n",
       "3      1      1        1         28  0      0      0                   \n",
       "4      1      0        1         27  0      0      0                   \n",
       "5      1      1        1         24  0      0      0                   \n",
       "6      1      1        1         25  1      0      0                   \n",
       "7      1      0        1         30  1      0      0                   \n",
       "8      1      1        1         25  1      0      0                   \n",
       "9      0      0        1         24  0      0      0                   \n",
       "10     0      0        1         26  1      0      0                   \n",
       "11     0      1        1         33  1      1      0                   \n",
       "12     1      0        1         33  0      0      0                   \n",
       "13     1      1        1         21  0      0      0                   \n",
       "14     0      0        0         23  0      0      0                   \n",
       "15     0      1        1         28  0      0      0                   \n",
       "16     1      1        1         22  0      1      1                   \n",
       "17     1      1        1         38  1      0      0                   \n",
       "18     0      0        1         28  1      0      0                   \n",
       "19     1      1        1         28  1      0      0                   \n",
       "20     1      0        1         33  1      0      0                   \n",
       "21     1      0        1         31  0      0      0                   \n",
       "22     1      1        1         24  1      0      0                   \n",
       "23     0      0        1         22  0      0      0                   \n",
       "24     0      0        1         26  1      0      0                   \n",
       "25     1      1        1         24  1      0      0                   \n",
       "26     0      0        1         26  0      0      0                   \n",
       "27     0      0        1         28  1      1      0                   \n",
       "28     1      0        1         23  1      0      0                   \n",
       "29     0      1        1         31  1      0      0                   \n",
       "30     0      1        1         21  1      0      0                   \n",
       "<U+22EE>      <U+22EE> <U+22EE> <U+22EE>  <U+22EE> <U+22EE> <U+22EE> <U+22EE>            \n",
       "349337 0      1        1         27  0      0      0                   \n",
       "349338 0      0        1         43  0      0      0                   \n",
       "349339 1      0        1         26  1      0      0                   \n",
       "349340 1      1        1         31  0      0      1                   \n",
       "349341 1      1        1         23  1      0      0                   \n",
       "349342 1      1        1         31  0      0      0                   \n",
       "349343 1      1        1         42  1      0      0                   \n",
       "349344 1      1        1         21  0      0      0                   \n",
       "349345 0      1        1         33  0      0      0                   \n",
       "349346 1      1        1         35  0      0      0                   \n",
       "349347 1      0        1         30  0      0      0                   \n",
       "349348 1      1        1         46  1      0      0                   \n",
       "349349 1      0        1         38  0      0      0                   \n",
       "349350 1      1        1         28  0      0      0                   \n",
       "349351 1      0        1         27  0      0      0                   \n",
       "349352 1      0        1         32  1      0      0                   \n",
       "349353 0      0        1         32  0      0      0                   \n",
       "349354 0      1        1         26  0      0      1                   \n",
       "349355 1      1        1         30  0      0      0                   \n",
       "349356 1      1        1         25  0      1      0                   \n",
       "349357 1      1        1         25  1      0      0                   \n",
       "349358 1      0        1         21  1      0      0                   \n",
       "349359 0      1        1         36  0      0      0                   \n",
       "349360 0      1        1         30  1      0      0                   \n",
       "349361 0      0        1         24  1      0      1                   \n",
       "349362 1      1        1         35  1      0      0                   \n",
       "349363 0      1        1         29  0      0      0                   \n",
       "349364 1      1        1         46  1      1      0                   \n",
       "349365 1      1        1         30  1      1      0                   \n",
       "349366 1      1        1         26  1      1      0                   \n",
       "       PhysActivity Fruits Veggies <U+22EF>        NoDocbcCost GenHlth MentHlth\n",
       "1      0            0      1       <U+22EF> 0           5       18      \n",
       "2      1            0      0       <U+22EF> 1           3        0      \n",
       "3      0            1      0       <U+22EF> 1           5       30      \n",
       "4      1            1      1       <U+22EF> 0           2        0      \n",
       "5      1            1      1       <U+22EF> 0           2        3      \n",
       "6      1            1      1       <U+22EF> 0           2        0      \n",
       "7      0            0      0       <U+22EF> 0           3        0      \n",
       "8      1            0      1       <U+22EF> 0           3        0      \n",
       "9      0            0      1       <U+22EF> 0           2        0      \n",
       "10     0            0      1       <U+22EF> 0           3        0      \n",
       "11     1            0      1       <U+22EF> 1           4       30      \n",
       "12     1            0      0       <U+22EF> 0           2        5      \n",
       "13     1            1      1       <U+22EF> 0           3        0      \n",
       "14     0            0      1       <U+22EF> 0           2       15      \n",
       "15     0            0      0       <U+22EF> 0           2       10      \n",
       "16     0            1      0       <U+22EF> 0           3       30      \n",
       "17     0            1      1       <U+22EF> 0           5       15      \n",
       "18     0            0      1       <U+22EF> 0           3        0      \n",
       "19     0            1      1       <U+22EF> 0           3        6      \n",
       "20     1            1      1       <U+22EF> 0           1        0      \n",
       "21     1            0      0       <U+22EF> 0           3        0      \n",
       "22     1            0      1       <U+22EF> 0           3        5      \n",
       "23     1            1      1       <U+22EF> 0           2        0      \n",
       "24     1            1      1       <U+22EF> 0           1        0      \n",
       "25     0            1      1       <U+22EF> 0           5        0      \n",
       "26     1            1      0       <U+22EF> 0           2        0      \n",
       "27     0            1      1       <U+22EF> 1           4       15      \n",
       "28     1            0      1       <U+22EF> 0           2       25      \n",
       "29     0            1      1       <U+22EF> 0           2        0      \n",
       "30     1            1      1       <U+22EF> 0           3       30      \n",
       "<U+22EE>      <U+22EE>     <U+22EE> <U+22EE> <U+22F1> <U+22EE>    <U+22EE> <U+22EE>\n",
       "349337 1            0      0       <U+22EF> 0           3        2      \n",
       "349338 0            0      0       <U+22EF> 0           4        0      \n",
       "349339 0            1      1       <U+22EF> 0           2        0      \n",
       "349340 1            1      1       <U+22EF> 0           4        0      \n",
       "349341 1            0      0       <U+22EF> 0           1        0      \n",
       "349342 1            0      1       <U+22EF> 0           2        0      \n",
       "349343 0            0      1       <U+22EF> 0           4        0      \n",
       "349344 1            1      1       <U+22EF> 0           1        2      \n",
       "349345 1            0      1       <U+22EF> 0           3        0      \n",
       "349346 0            0      1       <U+22EF> 0           3        0      \n",
       "349347 1            1      1       <U+22EF> 0           3        2      \n",
       "349348 1            0      1       <U+22EF> 0           2        0      \n",
       "349349 1            1      1       <U+22EF> 0           3        0      \n",
       "349350 1            1      1       <U+22EF> 0           3        0      \n",
       "349351 1            0      1       <U+22EF> 0           2        0      \n",
       "349352 1            1      1       <U+22EF> 0           3       14      \n",
       "349353 1            0      1       <U+22EF> 0           4        0      \n",
       "349354 1            1      1       <U+22EF> 0           1        0      \n",
       "349355 1            1      0       <U+22EF> 0           3        0      \n",
       "349356 0            0      1       <U+22EF> 0           5       30      \n",
       "349357 0            0      1       <U+22EF> 0           4        3      \n",
       "349358 0            0      1       <U+22EF> 0           4        0      \n",
       "349359 0            1      1       <U+22EF> 0           3        0      \n",
       "349360 1            0      0       <U+22EF> 1           4        2      \n",
       "349361 1            1      1       <U+22EF> 0           3        0      \n",
       "349362 1            1      1       <U+22EF> 0           3        0      \n",
       "349363 1            1      1       <U+22EF> 0           3        0      \n",
       "349364 0            1      1       <U+22EF> 0           4       30      \n",
       "349365 1            0      1       <U+22EF> 0           5       15      \n",
       "349366 0            0      1       <U+22EF> 0           4        1      \n",
       "       PhysHlth DiffWalk Sex Age Education Income Diabetes_binary\n",
       "1      15       1        0    9  4         3      0              \n",
       "2       0       0        0    7  6         1      0              \n",
       "3      30       1        0    9  4         8      0              \n",
       "4       0       0        0   11  3         6      0              \n",
       "5       0       0        0   11  5         4      0              \n",
       "6       2       0        1   10  6         8      0              \n",
       "7      14       0        0    9  6         7      0              \n",
       "8       0       1        0   11  4         4      0              \n",
       "9       0       0        1    8  4         3      0              \n",
       "10     15       0        0    7  5         7      0              \n",
       "11     28       0        0    4  6         2      0              \n",
       "12      0       0        0    6  6         8      0              \n",
       "13      0       0        0   10  4         3      0              \n",
       "14      0       0        0    2  6         7      0              \n",
       "15      0       0        1    4  6         8      0              \n",
       "16      0       1        0   12  4         4      0              \n",
       "17     30       1        0   13  2         3      0              \n",
       "18      7       0        1    5  5         5      0              \n",
       "19      0       1        0    9  4         6      0              \n",
       "20      0       1        1   13  3         3      0              \n",
       "21      0       0        1   11  6         2      0              \n",
       "22      3       1        1    8  4         3      0              \n",
       "23     10       0        0   12  5         7      0              \n",
       "24      1       0        1    4  5         3      0              \n",
       "25     30       0        1    9  3         1      0              \n",
       "26      1       0        0    4  6         7      0              \n",
       "27     30       1        0    7  4         3      0              \n",
       "28      0       0        0    9  6         8      0              \n",
       "29      0       0        0    8  5         8      0              \n",
       "30      0       0        0    8  6         3      0              \n",
       "<U+22EE>      <U+22EE> <U+22EE> <U+22EE> <U+22EE> <U+22EE>  <U+22EE> <U+22EE>       \n",
       "349337  0       0        1    4  5         8      1              \n",
       "349338  0       0        0    4  6         6      1              \n",
       "349339 30       0        1   11  6         8      1              \n",
       "349340  0       1        0   13  5         3      1              \n",
       "349341  0       0        1   10  5         5      1              \n",
       "349342  0       0        0   10  6         6      1              \n",
       "349343 10       1        0   10  5         2      1              \n",
       "349344  2       1        0    5  4         2      1              \n",
       "349345  3       0        1   10  4         4      1              \n",
       "349346  0       1        1    7  4         3      1              \n",
       "349347  0       0        1   10  6         8      1              \n",
       "349348  7       0        0    9  5         7      1              \n",
       "349349  0       1        0    9  3         3      1              \n",
       "349350 30       0        1    9  5         7      1              \n",
       "349351  0       0        1   11  6         7      1              \n",
       "349352  0       1        1    4  4         7      1              \n",
       "349353 30       1        1   10  6         7      1              \n",
       "349354  0       0        1   11  6         8      1              \n",
       "349355 30       0        0    7  3         5      1              \n",
       "349356 25       1        0   10  6         5      1              \n",
       "349357 25       1        0   11  6         1      1              \n",
       "349358 21       0        1    6  4         6      1              \n",
       "349359  0       0        0    5  2         3      1              \n",
       "349360 14       1        0    9  4         2      1              \n",
       "349361  0       0        1   13  6         8      1              \n",
       "349362  0       0        0   11  5         5      1              \n",
       "349363  0       0        0   10  4         6      1              \n",
       "349364 30       1        0    9  5         7      1              \n",
       "349365 30       1        0    9  3         8      1              \n",
       "349366  3       1        0    8  5         4      1              "
      ]
     },
     "metadata": {},
     "output_type": "display_data"
    }
   ],
   "source": [
    "balanced_training_data"
   ]
  },
  {
   "cell_type": "code",
   "execution_count": 520,
   "id": "6b91c9c2-d726-4619-b915-ab5c4d7b57ea",
   "metadata": {},
   "outputs": [
    {
     "data": {
      "image/png": "[encoded data removed]",
      "text/plain": [
       "plot without title"
      ]
     },
     "metadata": {
      "image/png": {
       "height": 420,
       "width": 420
      }
     },
     "output_type": "display_data"
    }
   ],
   "source": [
    "plot_binary_distribution(balanced_training_data, \"Diabetes_binary\", \"Balanced dataset: Diabetes_binary\")"
   ]
  },
  {
   "cell_type": "code",
   "execution_count": 521,
   "id": "e8e44878-0967-430e-bbe0-049b40ad0133",
   "metadata": {},
   "outputs": [],
   "source": [
    "with_diabetes_rows = which(balanced_training_data$Diabetes_binary == 1)\n",
    "no_diabetes_rows = which(balanced_training_data$Diabetes_binary == 0)"
   ]
  },
  {
   "cell_type": "markdown",
   "id": "353b18e0-0c32-4510-8f1b-4d8fa486895f",
   "metadata": {},
   "source": [
    "### 3.3. Detect Numerical, Binary, Ordinal variables"
   ]
  },
  {
   "cell_type": "code",
   "execution_count": 522,
   "id": "5d75c19b-b6c3-4f5b-ab09-96470eddd0eb",
   "metadata": {},
   "outputs": [
    {
     "name": "stdout",
     "output_type": "stream",
     "text": [
      "'data.frame':\t349366 obs. of  22 variables:\n",
      " $ HighBP              : int  1 0 1 1 1 1 1 1 0 0 ...\n",
      " $ HighChol            : int  1 0 1 0 1 1 0 1 0 0 ...\n",
      " $ CholCheck           : int  1 0 1 1 1 1 1 1 1 1 ...\n",
      " $ BMI                 : int  40 25 28 27 24 25 30 25 24 26 ...\n",
      " $ Smoker              : int  1 1 0 0 0 1 1 1 0 1 ...\n",
      " $ Stroke              : int  0 0 0 0 0 0 0 0 0 0 ...\n",
      " $ HeartDiseaseorAttack: int  0 0 0 0 0 0 0 0 0 0 ...\n",
      " $ PhysActivity        : int  0 1 0 1 1 1 0 1 0 0 ...\n",
      " $ Fruits              : int  0 0 1 1 1 1 0 0 0 0 ...\n",
      " $ Veggies             : int  1 0 0 1 1 1 0 1 1 1 ...\n",
      " $ HvyAlcoholConsump   : int  0 0 0 0 0 0 0 0 0 0 ...\n",
      " $ AnyHealthcare       : int  1 0 1 1 1 1 1 1 1 1 ...\n",
      " $ NoDocbcCost         : int  0 1 1 0 0 0 0 0 0 0 ...\n",
      " $ GenHlth             : int  5 3 5 2 2 2 3 3 2 3 ...\n",
      " $ MentHlth            : int  18 0 30 0 3 0 0 0 0 0 ...\n",
      " $ PhysHlth            : int  15 0 30 0 0 2 14 0 0 15 ...\n",
      " $ DiffWalk            : int  1 0 1 0 0 0 0 1 0 0 ...\n",
      " $ Sex                 : int  0 0 0 0 0 1 0 0 1 0 ...\n",
      " $ Age                 : int  9 7 9 11 11 10 9 11 8 7 ...\n",
      " $ Education           : int  4 6 4 3 5 6 6 4 4 5 ...\n",
      " $ Income              : int  3 1 8 6 4 8 7 4 3 7 ...\n",
      " $ Diabetes_binary     : int  0 0 0 0 0 0 0 0 0 0 ...\n"
     ]
    }
   ],
   "source": [
    "str(balanced_training_data)"
   ]
  },
  {
   "cell_type": "code",
   "execution_count": 523,
   "id": "ec4a0f37-e1d2-4bf0-9ddb-bc4bd9079e25",
   "metadata": {},
   "outputs": [
    {
     "data": {
      "text/html": [
       "<table class=\"dataframe\">\n",
       "<caption>A matrix: 3 × 1 of type int</caption>\n",
       "<thead>\n",
       "\t<tr><th></th><th scope=col>Number of variable</th></tr>\n",
       "</thead>\n",
       "<tbody>\n",
       "\t<tr><th scope=row>numerical_cols</th><td> 3</td></tr>\n",
       "\t<tr><th scope=row>binary_cols</th><td>14</td></tr>\n",
       "\t<tr><th scope=row>ordinal_cols</th><td> 4</td></tr>\n",
       "</tbody>\n",
       "</table>\n"
      ],
      "text/latex": [
       "A matrix: 3 × 1 of type int\n",
       "\\begin{tabular}{r|l}\n",
       "  & Number of variable\\\\\n",
       "\\hline\n",
       "\tnumerical\\_cols &  3\\\\\n",
       "\tbinary\\_cols & 14\\\\\n",
       "\tordinal\\_cols &  4\\\\\n",
       "\\end{tabular}\n"
      ],
      "text/markdown": [
       "\n",
       "A matrix: 3 × 1 of type int\n",
       "\n",
       "| <!--/--> | Number of variable |\n",
       "|---|---|\n",
       "| numerical_cols |  3 |\n",
       "| binary_cols | 14 |\n",
       "| ordinal_cols |  4 |\n",
       "\n"
      ],
      "text/plain": [
       "               Number of variable\n",
       "numerical_cols  3                \n",
       "binary_cols    14                \n",
       "ordinal_cols    4                "
      ]
     },
     "metadata": {},
     "output_type": "display_data"
    }
   ],
   "source": [
    "numerical_cols = c(\"BMI\", \"MentHlth\", \"PhysHlth\")\n",
    "binary_cols = c(\"HighBP\", \"HighChol\", \"CholCheck\", \"Smoker\", \"Stroke\",\n",
    "               \"HeartDiseaseorAttack\", \"PhysActivity\", \"Fruits\", \"Veggies\",\n",
    "               \"HvyAlcoholConsump\", \"AnyHealthcare\", \"NoDocbcCost\",\n",
    "               \"DiffWalk\", \"Sex\")\n",
    "ordinal_cols = c(\"GenHlth\", \"Age\", \"Education\", \"Income\")\n",
    "response_col = \"Diabetes_binary\"\n",
    "\n",
    "display_matrix = matrix(c(length(numerical_cols), length(binary_cols), length(ordinal_cols)), nrow = 3)\n",
    "rownames(display_matrix) = c(\"numerical_cols\", \"binary_cols\", \"ordinal_cols\")\n",
    "colnames(display_matrix) = \"Number of variable\"\n",
    "display_matrix"
   ]
  },
  {
   "cell_type": "markdown",
   "id": "1f2dd39f-74ac-4e63-9095-dde31e61d4fd",
   "metadata": {},
   "source": [
    "### 3.4. Data factorization"
   ]
  },
  {
   "cell_type": "code",
   "execution_count": 524,
   "id": "962cd33a-2638-4693-b0bb-1b54ff5e33a2",
   "metadata": {},
   "outputs": [],
   "source": [
    "# Training data factorization\n",
    "for (col in binary_cols)\n",
    "{\n",
    "    balanced_training_data[, col] = factor(balanced_training_data[, col])\n",
    "}\n",
    "\n",
    "for (col in ordinal_cols)\n",
    "{\n",
    "    balanced_training_data[, col] = factor(balanced_training_data[, col], ordered = T)\n",
    "}\n",
    "\n",
    "balanced_training_data[, response_col] = factor(balanced_training_data[, response_col])"
   ]
  },
  {
   "cell_type": "code",
   "execution_count": 525,
   "id": "4acb5bac-4194-4ab7-8dda-1c8973bf65ae",
   "metadata": {},
   "outputs": [],
   "source": [
    "# Testing data factorization\n",
    "for (col in binary_cols)\n",
    "{\n",
    "    testing_data[, col] = factor(testing_data[, col])\n",
    "}\n",
    "\n",
    "for (col in ordinal_cols)\n",
    "{\n",
    "    testing_data[, col] = factor(testing_data[, col], ordered = T)\n",
    "}\n",
    "\n",
    "testing_data[, response_col] = factor(testing_data[, response_col])"
   ]
  },
  {
   "cell_type": "code",
   "execution_count": 526,
   "id": "072df9a6-22c7-4aa4-91be-ddd5c465a131",
   "metadata": {},
   "outputs": [
    {
     "name": "stdout",
     "output_type": "stream",
     "text": [
      "'data.frame':\t349366 obs. of  22 variables:\n",
      " $ HighBP              : Factor w/ 2 levels \"0\",\"1\": 2 1 2 2 2 2 2 2 1 1 ...\n",
      " $ HighChol            : Factor w/ 2 levels \"0\",\"1\": 2 1 2 1 2 2 1 2 1 1 ...\n",
      " $ CholCheck           : Factor w/ 2 levels \"0\",\"1\": 2 1 2 2 2 2 2 2 2 2 ...\n",
      " $ BMI                 : int  40 25 28 27 24 25 30 25 24 26 ...\n",
      " $ Smoker              : Factor w/ 2 levels \"0\",\"1\": 2 2 1 1 1 2 2 2 1 2 ...\n",
      " $ Stroke              : Factor w/ 2 levels \"0\",\"1\": 1 1 1 1 1 1 1 1 1 1 ...\n",
      " $ HeartDiseaseorAttack: Factor w/ 2 levels \"0\",\"1\": 1 1 1 1 1 1 1 1 1 1 ...\n",
      " $ PhysActivity        : Factor w/ 2 levels \"0\",\"1\": 1 2 1 2 2 2 1 2 1 1 ...\n",
      " $ Fruits              : Factor w/ 2 levels \"0\",\"1\": 1 1 2 2 2 2 1 1 1 1 ...\n",
      " $ Veggies             : Factor w/ 2 levels \"0\",\"1\": 2 1 1 2 2 2 1 2 2 2 ...\n",
      " $ HvyAlcoholConsump   : Factor w/ 2 levels \"0\",\"1\": 1 1 1 1 1 1 1 1 1 1 ...\n",
      " $ AnyHealthcare       : Factor w/ 2 levels \"0\",\"1\": 2 1 2 2 2 2 2 2 2 2 ...\n",
      " $ NoDocbcCost         : Factor w/ 2 levels \"0\",\"1\": 1 2 2 1 1 1 1 1 1 1 ...\n",
      " $ GenHlth             : Ord.factor w/ 5 levels \"1\"<\"2\"<\"3\"<\"4\"<..: 5 3 5 2 2 2 3 3 2 3 ...\n",
      " $ MentHlth            : int  18 0 30 0 3 0 0 0 0 0 ...\n",
      " $ PhysHlth            : int  15 0 30 0 0 2 14 0 0 15 ...\n",
      " $ DiffWalk            : Factor w/ 2 levels \"0\",\"1\": 2 1 2 1 1 1 1 2 1 1 ...\n",
      " $ Sex                 : Factor w/ 2 levels \"0\",\"1\": 1 1 1 1 1 2 1 1 2 1 ...\n",
      " $ Age                 : Ord.factor w/ 13 levels \"1\"<\"2\"<\"3\"<\"4\"<..: 9 7 9 11 11 10 9 11 8 7 ...\n",
      " $ Education           : Ord.factor w/ 6 levels \"1\"<\"2\"<\"3\"<\"4\"<..: 4 6 4 3 5 6 6 4 4 5 ...\n",
      " $ Income              : Ord.factor w/ 8 levels \"1\"<\"2\"<\"3\"<\"4\"<..: 3 1 8 6 4 8 7 4 3 7 ...\n",
      " $ Diabetes_binary     : Factor w/ 2 levels \"0\",\"1\": 1 1 1 1 1 1 1 1 1 1 ...\n"
     ]
    }
   ],
   "source": [
    "str(balanced_training_data)"
   ]
  },
  {
   "cell_type": "code",
   "execution_count": 527,
   "id": "f3ca5e65-f192-440d-bcf2-fc7d67d26a28",
   "metadata": {},
   "outputs": [
    {
     "name": "stdout",
     "output_type": "stream",
     "text": [
      "'data.frame':\t50736 obs. of  22 variables:\n",
      " $ HighBP              : Factor w/ 2 levels \"0\",\"1\": 2 2 1 1 2 1 1 2 2 2 ...\n",
      " $ HighChol            : Factor w/ 2 levels \"0\",\"1\": 2 2 1 1 2 2 1 1 1 2 ...\n",
      " $ CholCheck           : Factor w/ 2 levels \"0\",\"1\": 2 2 2 2 2 2 2 2 2 2 ...\n",
      " $ BMI                 : int  34 28 23 32 37 31 23 26 31 37 ...\n",
      " $ Smoker              : Factor w/ 2 levels \"0\",\"1\": 2 1 2 1 2 2 1 1 1 1 ...\n",
      " $ Stroke              : Factor w/ 2 levels \"0\",\"1\": 1 1 1 1 2 1 1 1 1 1 ...\n",
      " $ HeartDiseaseorAttack: Factor w/ 2 levels \"0\",\"1\": 1 1 1 1 2 1 1 1 1 1 ...\n",
      " $ PhysActivity        : Factor w/ 2 levels \"0\",\"1\": 1 1 2 2 1 2 2 2 1 2 ...\n",
      " $ Fruits              : Factor w/ 2 levels \"0\",\"1\": 2 1 1 2 1 2 2 2 2 2 ...\n",
      " $ Veggies             : Factor w/ 2 levels \"0\",\"1\": 2 2 1 2 2 2 2 2 1 2 ...\n",
      " $ HvyAlcoholConsump   : Factor w/ 2 levels \"0\",\"1\": 1 1 1 1 1 1 1 1 1 1 ...\n",
      " $ AnyHealthcare       : Factor w/ 2 levels \"0\",\"1\": 2 2 2 2 2 2 2 2 2 2 ...\n",
      " $ NoDocbcCost         : Factor w/ 2 levels \"0\",\"1\": 1 1 1 1 1 1 1 1 1 1 ...\n",
      " $ GenHlth             : Ord.factor w/ 5 levels \"1\"<\"2\"<\"3\"<\"4\"<..: 3 4 2 2 5 1 1 2 3 3 ...\n",
      " $ MentHlth            : int  0 0 0 0 0 0 2 0 0 30 ...\n",
      " $ PhysHlth            : int  30 0 0 0 0 0 0 0 5 2 ...\n",
      " $ DiffWalk            : Factor w/ 2 levels \"0\",\"1\": 2 2 1 1 2 1 1 1 1 2 ...\n",
      " $ Sex                 : Factor w/ 2 levels \"0\",\"1\": 1 1 2 1 2 2 1 1 1 2 ...\n",
      " $ Age                 : Ord.factor w/ 13 levels \"1\"<\"2\"<\"3\"<\"4\"<..: 10 11 7 5 10 12 6 9 13 10 ...\n",
      " $ Education           : Ord.factor w/ 6 levels \"1\"<\"2\"<\"3\"<\"4\"<..: 5 4 5 6 6 6 4 4 4 5 ...\n",
      " $ Income              : Ord.factor w/ 8 levels \"1\"<\"2\"<\"3\"<\"4\"<..: 1 6 6 8 5 8 8 4 4 6 ...\n",
      " $ Diabetes_binary     : Factor w/ 2 levels \"0\",\"1\": 1 2 2 1 2 1 1 1 2 1 ...\n"
     ]
    }
   ],
   "source": [
    "str(testing_data)"
   ]
  },
  {
   "cell_type": "markdown",
   "id": "3b3409ae-9e8f-4461-bf83-411c9f5b9e49",
   "metadata": {},
   "source": [
    "### 3.4. Numerical variables analysis"
   ]
  },
  {
   "cell_type": "code",
   "execution_count": 528,
   "id": "a1c22cc2-4fa5-45e8-9f4f-e355c16afc3c",
   "metadata": {},
   "outputs": [],
   "source": [
    "get_correlation = function(dataframe, col_1, col_2, numerical_cols, binary_cols, ordinal_cols, response_col)\n",
    "{\n",
    "    if (col_1 %in% ordinal_cols || col_2 %in% ordinal_cols)\n",
    "    {\n",
    "        return (pcaPP::cor.fk(dataframe[,col_1], dataframe[,col_2]))\n",
    "    }\n",
    "    else if (col_1 %in% numerical_cols && col_2 %in% c(binary_cols, response_col) ||\n",
    "             col_1 %in% c(binary_cols, response_col) && col_2 %in% numerical_cols)\n",
    "    {\n",
    "        return (cor.test(as.numeric(dataframe[,col_1]), as.numeric(dataframe[,col_2]))$estimate)\n",
    "    }\n",
    "    else if (col_1 %in% c(binary_cols, response_col) && col_2 %in% c(binary_cols, response_col))\n",
    "    {\n",
    "        return (rcompanion::cramerV(table(dataframe[ ,c(col_1, col_2)])))\n",
    "    }\n",
    "    else if (col_1 %in% numerical_cols && col_2 %in% numerical_cols)\n",
    "    {\n",
    "        return (cor(dataframe[,col_1], dataframe[,col_2]))\n",
    "    }\n",
    "    else\n",
    "    {\n",
    "        return (0)\n",
    "    }\n",
    "}    "
   ]
  },
  {
   "cell_type": "code",
   "execution_count": 529,
   "id": "a9bf30f3-da91-41b4-973f-77a9f31637fc",
   "metadata": {},
   "outputs": [],
   "source": [
    "# Numerical variables (3): BMI, MentHlth, PhysHlth"
   ]
  },
  {
   "cell_type": "code",
   "execution_count": 530,
   "id": "8a586867-74c9-4f5e-a7fb-613405c243d3",
   "metadata": {},
   "outputs": [
    {
     "data": {
      "text/plain": [
       "\n",
       " Descriptive statistics by group \n",
       "group: 0\n",
       "         vars      n  mean   sd median trimmed  mad min max range skew kurtosis\n",
       "BMI         1 174766 27.80 6.30     27   27.14 4.45  12  98    86 2.35    13.81\n",
       "MentHlth    2 174766  2.98 7.12      0    0.94 0.00   0  30    30 2.86     7.35\n",
       "PhysHlth    3 174766  3.64 8.06      0    1.31 0.00   0  30    30 2.49     5.00\n",
       "           se\n",
       "BMI      0.02\n",
       "MentHlth 0.02\n",
       "PhysHlth 0.02\n",
       "------------------------------------------------------------ \n",
       "group: 1\n",
       "         vars      n  mean    sd median trimmed  mad min max range skew\n",
       "BMI         1 174600 31.95  7.40     31   31.23 5.93  13  98    85 1.53\n",
       "MentHlth    2 174600  4.44  8.93      0    2.00 0.00   0  30    30 2.07\n",
       "PhysHlth    3 174600  7.97 11.30      1    6.21 1.48   0  30    30 1.15\n",
       "         kurtosis   se\n",
       "BMI          5.64 0.02\n",
       "MentHlth     2.90 0.02\n",
       "PhysHlth    -0.34 0.03"
      ]
     },
     "metadata": {},
     "output_type": "display_data"
    }
   ],
   "source": [
    "psych::describeBy(balanced_training_data[,numerical_cols], balanced_training_data[,response_col])"
   ]
  },
  {
   "cell_type": "code",
   "execution_count": 531,
   "id": "53a66399-9adf-490f-8e26-b99a5aac630f",
   "metadata": {},
   "outputs": [
    {
     "data": {
      "image/png": "[encoded data removed]",
      "text/plain": [
       "Plot with title \"PhysHlth\""
      ]
     },
     "metadata": {
      "image/png": {
       "height": 420,
       "width": 420
      }
     },
     "output_type": "display_data"
    }
   ],
   "source": [
    "par(mfrow = c(1,3))\n",
    "boxplot(balanced_training_data$BMI, main = \"BMI\", col = MAIN_COLOR, las = 1, lwd = 2)\n",
    "boxplot(balanced_training_data$MentHlth, main = \"MentHlth\", col = MAIN_COLOR, las = 1, lwd = 2)\n",
    "boxplot(balanced_training_data$PhysHlth, main = \"PhysHlth\", col = MAIN_COLOR, las = 1, lwd = 2)"
   ]
  },
  {
   "cell_type": "code",
   "execution_count": 532,
   "id": "e6952c34-254f-4657-b196-385a338766d4",
   "metadata": {},
   "outputs": [
    {
     "data": {
      "image/png": "[encoded data removed]",
      "text/plain": [
       "Plot with title \"PhysHlth\""
      ]
     },
     "metadata": {
      "image/png": {
       "height": 420,
       "width": 420
      }
     },
     "output_type": "display_data"
    }
   ],
   "source": [
    "par(mfrow = c(3,1))\n",
    "hist(balanced_training_data$BMI, main = \"BMI\", xlab = \"BMI score\", col = MAIN_COLOR, las = 1, lwd = 2, xlim = c(0, 100))\n",
    "hist(balanced_training_data$MentHlth, main = \"MentHlth\", xlab = \"Number of day with Mental Health problem in last 30 days\",\n",
    "    col = MAIN_COLOR, las = 1, lwd = 2)\n",
    "hist(balanced_training_data$PhysHlth, main = \"PhysHlth\", xlab = \"Number of day with Physical Health problem in last 30 days\",\n",
    "    col = MAIN_COLOR, las = 1, lwd = 2)"
   ]
  },
  {
   "cell_type": "markdown",
   "id": "3b9c3b1c-a363-40ca-bd8f-e8b469509ae0",
   "metadata": {},
   "source": [
    "#### 3.4.1. BMI"
   ]
  },
  {
   "cell_type": "code",
   "execution_count": 533,
   "id": "bc02db4a-5696-40a4-9229-4c057dcc43c3",
   "metadata": {},
   "outputs": [
    {
     "data": {
      "image/png": "[encoded data removed]",
      "text/plain": [
       "Plot with title \"BMI\""
      ]
     },
     "metadata": {
      "image/png": {
       "height": 420,
       "width": 420
      }
     },
     "output_type": "display_data"
    },
    {
     "data": {
      "image/png": "[encoded data removed]",
      "text/plain": [
       "Plot with title \"BMI\""
      ]
     },
     "metadata": {
      "image/png": {
       "height": 420,
       "width": 420
      }
     },
     "output_type": "display_data"
    }
   ],
   "source": [
    "boxplot(balanced_training_data$BMI, main = \"BMI\", col = MAIN_COLOR, las = 1, lwd = 2)\n",
    "hist(balanced_training_data$BMI, main = \"BMI\", xlab = \"BMI score\", col = MAIN_COLOR, las = 1, lwd = 2, xlim = c(0, 100))"
   ]
  },
  {
   "cell_type": "code",
   "execution_count": 534,
   "id": "6fb04474-018e-4a1c-a632-f392d9f39bae",
   "metadata": {},
   "outputs": [
    {
     "data": {
      "text/html": [
       "<strong>cor:</strong> 0.289272671819666"
      ],
      "text/latex": [
       "\\textbf{cor:} 0.289272671819666"
      ],
      "text/markdown": [
       "**cor:** 0.289272671819666"
      ],
      "text/plain": [
       "      cor \n",
       "0.2892727 "
      ]
     },
     "metadata": {},
     "output_type": "display_data"
    }
   ],
   "source": [
    "get_correlation(balanced_training_data, \"BMI\", response_col, numerical_cols, binary_cols, ordinal_cols, response_col)"
   ]
  },
  {
   "cell_type": "code",
   "execution_count": 535,
   "id": "23b25b65-538c-4b2d-b910-df8d5693dd83",
   "metadata": {},
   "outputs": [
    {
     "name": "stdout",
     "output_type": "stream",
     "text": [
      "Maximum value of boxplot BMI: 45"
     ]
    }
   ],
   "source": [
    "BMI_q1 = quantile(balanced_training_data$BMI, probs = 0.25, names = F)\n",
    "BMI_q3 = quantile(balanced_training_data$BMI, probs = 0.75, names = F)\n",
    "BMI_upper_quartile = BMI_q3 + 1.5 * (BMI_q3 - BMI_q1)\n",
    "cat(\"Maximum value of boxplot BMI:\", BMI_upper_quartile)"
   ]
  },
  {
   "cell_type": "markdown",
   "id": "54c73519-3465-437d-a2ab-8f4aa571284e",
   "metadata": {},
   "source": [
    "#### Question: The percentage of diabetes people having BMI under 45 and over 45."
   ]
  },
  {
   "cell_type": "code",
   "execution_count": 536,
   "id": "3ba71cfe-e4cc-423e-9d61-d75302362407",
   "metadata": {},
   "outputs": [],
   "source": [
    "BMI_THRESH_HOLD = 45"
   ]
  },
  {
   "cell_type": "code",
   "execution_count": 537,
   "id": "c2b8dd28-c35b-4362-bd82-a495b4859b49",
   "metadata": {},
   "outputs": [
    {
     "data": {
      "text/plain": [
       "          \n",
       "           no diabetes diabetes\n",
       "  BMI < 45      172264   166050\n",
       "  BMI > 45        2502     8550"
      ]
     },
     "metadata": {},
     "output_type": "display_data"
    }
   ],
   "source": [
    "BMI_table = table(ifelse(balanced_training_data$BMI > BMI_THRESH_HOLD, sprintf(\"BMI > %d\", BMI_THRESH_HOLD), sprintf(\"BMI < %d\", BMI_THRESH_HOLD)),\n",
    "      ifelse(balanced_training_data$Diabetes_binary == 1, \"diabetes\", \"no diabetes\"))\n",
    "BMI_table = BMI_table[, c(2, 1)]\n",
    "BMI_table"
   ]
  },
  {
   "cell_type": "code",
   "execution_count": 538,
   "id": "cdfc75ec-3b94-4e5d-b80f-7a17a24390bd",
   "metadata": {},
   "outputs": [
    {
     "data": {
      "image/png": "[encoded data removed]",
      "text/plain": [
       "plot without title"
      ]
     },
     "metadata": {
      "image/png": {
       "height": 420,
       "width": 420
      }
     },
     "output_type": "display_data"
    }
   ],
   "source": [
    "plot_stack_bar_2x2(BMI_table)"
   ]
  },
  {
   "cell_type": "code",
   "execution_count": 539,
   "id": "dec33769-0ee1-4c8d-a35f-73ebf5c693a2",
   "metadata": {},
   "outputs": [
    {
     "data": {
      "text/html": [
       "<style>\n",
       ".dl-inline {width: auto; margin:0; padding: 0}\n",
       ".dl-inline>dt, .dl-inline>dd {float: none; width: auto; display: inline-block}\n",
       ".dl-inline>dt::after {content: \":\\0020\"; padding-right: .5ex}\n",
       ".dl-inline>dt:not(:first-of-type) {padding-left: .5ex}\n",
       "</style><dl class=dl-inline><dt>odds ratio</dt><dd>3.54514870488434</dd><dt>lwr.ci</dt><dd>3.38896195342954</dd><dt>upr.ci</dt><dd>3.70853361957177</dd></dl>\n"
      ],
      "text/latex": [
       "\\begin{description*}\n",
       "\\item[odds ratio] 3.54514870488434\n",
       "\\item[lwr.ci] 3.38896195342954\n",
       "\\item[upr.ci] 3.70853361957177\n",
       "\\end{description*}\n"
      ],
      "text/markdown": [
       "odds ratio\n",
       ":   3.54514870488434lwr.ci\n",
       ":   3.38896195342954upr.ci\n",
       ":   3.70853361957177\n",
       "\n"
      ],
      "text/plain": [
       "odds ratio     lwr.ci     upr.ci \n",
       "  3.545149   3.388962   3.708534 "
      ]
     },
     "metadata": {},
     "output_type": "display_data"
    }
   ],
   "source": [
    "DescTools::OddsRatio(BMI_table, conf.level = 0.95)"
   ]
  },
  {
   "cell_type": "code",
   "execution_count": 540,
   "id": "a7f6aa01-41f8-4cd0-a31d-d80636e03021",
   "metadata": {},
   "outputs": [],
   "source": [
    "# COMMENT\n",
    "# odds ratio = 3.452 > 1\n",
    "# People with BMI over 45 are 3.452 times more likely to have diabetes than others.\n",
    "# => Create a binary variable that to distinguish people having BMI over 45."
   ]
  },
  {
   "cell_type": "code",
   "execution_count": 541,
   "id": "4ea84942-15ce-443e-b5d9-1bb9a460ae47",
   "metadata": {},
   "outputs": [],
   "source": [
    "if (!\"BMI_over_45\" %in% binary_cols)\n",
    "{\n",
    "    binary_cols = append(binary_cols, \"BMI_over_45\")\n",
    "}"
   ]
  },
  {
   "cell_type": "code",
   "execution_count": 542,
   "id": "62297cda-e3d1-40e0-a6b8-af7b449c46ff",
   "metadata": {},
   "outputs": [],
   "source": [
    "# Add new column for training data\n",
    "new_column = factor(as.integer(ifelse(balanced_training_data$BMI > BMI_THRESH_HOLD, 1, 0)))\n",
    "BMI_index = which(colnames(balanced_training_data) == \"BMI\")\n",
    "balanced_training_data = cbind(balanced_training_data[,1:BMI_index], BMI_over_45 = new_column, balanced_training_data[,(BMI_index+1):ncol(balanced_training_data)])"
   ]
  },
  {
   "cell_type": "code",
   "execution_count": 543,
   "id": "b35b11c0-3b15-4849-a5ec-b7a0b7950b53",
   "metadata": {},
   "outputs": [
    {
     "name": "stdout",
     "output_type": "stream",
     "text": [
      "'data.frame':\t349366 obs. of  23 variables:\n",
      " $ HighBP              : Factor w/ 2 levels \"0\",\"1\": 2 1 2 2 2 2 2 2 1 1 ...\n",
      " $ HighChol            : Factor w/ 2 levels \"0\",\"1\": 2 1 2 1 2 2 1 2 1 1 ...\n",
      " $ CholCheck           : Factor w/ 2 levels \"0\",\"1\": 2 1 2 2 2 2 2 2 2 2 ...\n",
      " $ BMI                 : int  40 25 28 27 24 25 30 25 24 26 ...\n",
      " $ BMI_over_45         : Factor w/ 2 levels \"0\",\"1\": 1 1 1 1 1 1 1 1 1 1 ...\n",
      " $ Smoker              : Factor w/ 2 levels \"0\",\"1\": 2 2 1 1 1 2 2 2 1 2 ...\n",
      " $ Stroke              : Factor w/ 2 levels \"0\",\"1\": 1 1 1 1 1 1 1 1 1 1 ...\n",
      " $ HeartDiseaseorAttack: Factor w/ 2 levels \"0\",\"1\": 1 1 1 1 1 1 1 1 1 1 ...\n",
      " $ PhysActivity        : Factor w/ 2 levels \"0\",\"1\": 1 2 1 2 2 2 1 2 1 1 ...\n",
      " $ Fruits              : Factor w/ 2 levels \"0\",\"1\": 1 1 2 2 2 2 1 1 1 1 ...\n",
      " $ Veggies             : Factor w/ 2 levels \"0\",\"1\": 2 1 1 2 2 2 1 2 2 2 ...\n",
      " $ HvyAlcoholConsump   : Factor w/ 2 levels \"0\",\"1\": 1 1 1 1 1 1 1 1 1 1 ...\n",
      " $ AnyHealthcare       : Factor w/ 2 levels \"0\",\"1\": 2 1 2 2 2 2 2 2 2 2 ...\n",
      " $ NoDocbcCost         : Factor w/ 2 levels \"0\",\"1\": 1 2 2 1 1 1 1 1 1 1 ...\n",
      " $ GenHlth             : Ord.factor w/ 5 levels \"1\"<\"2\"<\"3\"<\"4\"<..: 5 3 5 2 2 2 3 3 2 3 ...\n",
      " $ MentHlth            : int  18 0 30 0 3 0 0 0 0 0 ...\n",
      " $ PhysHlth            : int  15 0 30 0 0 2 14 0 0 15 ...\n",
      " $ DiffWalk            : Factor w/ 2 levels \"0\",\"1\": 2 1 2 1 1 1 1 2 1 1 ...\n",
      " $ Sex                 : Factor w/ 2 levels \"0\",\"1\": 1 1 1 1 1 2 1 1 2 1 ...\n",
      " $ Age                 : Ord.factor w/ 13 levels \"1\"<\"2\"<\"3\"<\"4\"<..: 9 7 9 11 11 10 9 11 8 7 ...\n",
      " $ Education           : Ord.factor w/ 6 levels \"1\"<\"2\"<\"3\"<\"4\"<..: 4 6 4 3 5 6 6 4 4 5 ...\n",
      " $ Income              : Ord.factor w/ 8 levels \"1\"<\"2\"<\"3\"<\"4\"<..: 3 1 8 6 4 8 7 4 3 7 ...\n",
      " $ Diabetes_binary     : Factor w/ 2 levels \"0\",\"1\": 1 1 1 1 1 1 1 1 1 1 ...\n"
     ]
    }
   ],
   "source": [
    "str(balanced_training_data)"
   ]
  },
  {
   "cell_type": "code",
   "execution_count": 544,
   "id": "0a460443-d381-4ac1-a065-d98c5b4492c4",
   "metadata": {},
   "outputs": [
    {
     "data": {
      "text/html": [
       "<strong>Cramer V:</strong> 0.09899"
      ],
      "text/latex": [
       "\\textbf{Cramer V:} 0.09899"
      ],
      "text/markdown": [
       "**Cramer V:** 0.09899"
      ],
      "text/plain": [
       "Cramer V \n",
       " 0.09899 "
      ]
     },
     "metadata": {},
     "output_type": "display_data"
    }
   ],
   "source": [
    "get_correlation(balanced_training_data, \"BMI_over_45\", response_col, numerical_cols, binary_cols, ordinal_cols, response_col)"
   ]
  },
  {
   "cell_type": "code",
   "execution_count": 545,
   "id": "85e2b6b2-7794-48e1-b6d0-94a448f4b4df",
   "metadata": {},
   "outputs": [],
   "source": [
    "# COMMENT\n",
    "# Correlation of new explain variable: BMI_over_45 is lower than original explain variable\n",
    "# => Eliminate this explain variable"
   ]
  },
  {
   "cell_type": "code",
   "execution_count": 546,
   "id": "7f813fb6-47d2-4edd-9c4a-cdbb8f838cd8",
   "metadata": {},
   "outputs": [],
   "source": [
    "balanced_training_data = subset(balanced_training_data, select = -BMI_over_45)\n",
    "binary_cols = binary_cols[binary_cols != \"BMI_over_45\"]"
   ]
  },
  {
   "cell_type": "code",
   "execution_count": 547,
   "id": "2dd8ae10-9c7c-4a0f-8715-312a76fff93f",
   "metadata": {},
   "outputs": [
    {
     "name": "stdout",
     "output_type": "stream",
     "text": [
      "'data.frame':\t349366 obs. of  22 variables:\n",
      " $ HighBP              : Factor w/ 2 levels \"0\",\"1\": 2 1 2 2 2 2 2 2 1 1 ...\n",
      " $ HighChol            : Factor w/ 2 levels \"0\",\"1\": 2 1 2 1 2 2 1 2 1 1 ...\n",
      " $ CholCheck           : Factor w/ 2 levels \"0\",\"1\": 2 1 2 2 2 2 2 2 2 2 ...\n",
      " $ BMI                 : int  40 25 28 27 24 25 30 25 24 26 ...\n",
      " $ Smoker              : Factor w/ 2 levels \"0\",\"1\": 2 2 1 1 1 2 2 2 1 2 ...\n",
      " $ Stroke              : Factor w/ 2 levels \"0\",\"1\": 1 1 1 1 1 1 1 1 1 1 ...\n",
      " $ HeartDiseaseorAttack: Factor w/ 2 levels \"0\",\"1\": 1 1 1 1 1 1 1 1 1 1 ...\n",
      " $ PhysActivity        : Factor w/ 2 levels \"0\",\"1\": 1 2 1 2 2 2 1 2 1 1 ...\n",
      " $ Fruits              : Factor w/ 2 levels \"0\",\"1\": 1 1 2 2 2 2 1 1 1 1 ...\n",
      " $ Veggies             : Factor w/ 2 levels \"0\",\"1\": 2 1 1 2 2 2 1 2 2 2 ...\n",
      " $ HvyAlcoholConsump   : Factor w/ 2 levels \"0\",\"1\": 1 1 1 1 1 1 1 1 1 1 ...\n",
      " $ AnyHealthcare       : Factor w/ 2 levels \"0\",\"1\": 2 1 2 2 2 2 2 2 2 2 ...\n",
      " $ NoDocbcCost         : Factor w/ 2 levels \"0\",\"1\": 1 2 2 1 1 1 1 1 1 1 ...\n",
      " $ GenHlth             : Ord.factor w/ 5 levels \"1\"<\"2\"<\"3\"<\"4\"<..: 5 3 5 2 2 2 3 3 2 3 ...\n",
      " $ MentHlth            : int  18 0 30 0 3 0 0 0 0 0 ...\n",
      " $ PhysHlth            : int  15 0 30 0 0 2 14 0 0 15 ...\n",
      " $ DiffWalk            : Factor w/ 2 levels \"0\",\"1\": 2 1 2 1 1 1 1 2 1 1 ...\n",
      " $ Sex                 : Factor w/ 2 levels \"0\",\"1\": 1 1 1 1 1 2 1 1 2 1 ...\n",
      " $ Age                 : Ord.factor w/ 13 levels \"1\"<\"2\"<\"3\"<\"4\"<..: 9 7 9 11 11 10 9 11 8 7 ...\n",
      " $ Education           : Ord.factor w/ 6 levels \"1\"<\"2\"<\"3\"<\"4\"<..: 4 6 4 3 5 6 6 4 4 5 ...\n",
      " $ Income              : Ord.factor w/ 8 levels \"1\"<\"2\"<\"3\"<\"4\"<..: 3 1 8 6 4 8 7 4 3 7 ...\n",
      " $ Diabetes_binary     : Factor w/ 2 levels \"0\",\"1\": 1 1 1 1 1 1 1 1 1 1 ...\n"
     ]
    }
   ],
   "source": [
    "str(balanced_training_data)"
   ]
  },
  {
   "cell_type": "markdown",
   "id": "de9211c4-a135-4699-b021-394f136a4719",
   "metadata": {},
   "source": [
    "#### 3.4.2. MentHlth"
   ]
  },
  {
   "cell_type": "code",
   "execution_count": 548,
   "id": "85bf90ab-ec7d-438b-b80e-e81131167235",
   "metadata": {},
   "outputs": [
    {
     "data": {
      "image/png": "[encoded data removed]",
      "text/plain": [
       "Plot with title \"MentHlth\""
      ]
     },
     "metadata": {
      "image/png": {
       "height": 420,
       "width": 420
      }
     },
     "output_type": "display_data"
    },
    {
     "data": {
      "image/png": "[encoded data removed]",
      "text/plain": [
       "Plot with title \"MentHlth\""
      ]
     },
     "metadata": {
      "image/png": {
       "height": 420,
       "width": 420
      }
     },
     "output_type": "display_data"
    }
   ],
   "source": [
    "boxplot(balanced_training_data$MentHlth, main = \"MentHlth\", col = MAIN_COLOR, las = 1, lwd = 2)\n",
    "hist(balanced_training_data$MentHlth, main = \"MentHlth\", xlab = \"Number of day with Mental Health problem in last 30 days\",\n",
    "    col = MAIN_COLOR, las = 1, lwd = 2, xlim = c(0, 30))"
   ]
  },
  {
   "cell_type": "markdown",
   "id": "64236a94-f522-4527-8538-23018a36b4b3",
   "metadata": {},
   "source": [
    "#### Question: The percentage of diabetes people having MentHlth or not."
   ]
  },
  {
   "cell_type": "code",
   "execution_count": 549,
   "id": "f8d45331-4845-49fa-b41b-9f95093afa78",
   "metadata": {},
   "outputs": [],
   "source": [
    "MentHlth_table = table(ifelse(balanced_training_data$MentHlth > 0, \"have MentHlth\", \"no MentHlth\"),\n",
    "      ifelse(balanced_training_data$Diabetes_binary == 1, \"diabetes\", \"no diabetes\"))"
   ]
  },
  {
   "cell_type": "code",
   "execution_count": 550,
   "id": "a0e7b412-37ba-4586-8d14-b7c9fdfc0f92",
   "metadata": {},
   "outputs": [],
   "source": [
    "MentHlth_table = Rev(MentHlth_table)"
   ]
  },
  {
   "cell_type": "code",
   "execution_count": 551,
   "id": "453f36a8-6f98-4125-bdbc-5e1dc6bdca12",
   "metadata": {},
   "outputs": [
    {
     "data": {
      "text/plain": [
       "               \n",
       "                no diabetes diabetes\n",
       "  no MentHlth        121889   115919\n",
       "  have MentHlth       52877    58681"
      ]
     },
     "metadata": {},
     "output_type": "display_data"
    }
   ],
   "source": [
    "MentHlth_table"
   ]
  },
  {
   "cell_type": "code",
   "execution_count": 552,
   "id": "371638c6-944d-488b-bb93-59aba62b03e0",
   "metadata": {},
   "outputs": [
    {
     "data": {
      "image/png": "[encoded data removed]",
      "text/plain": [
       "plot without title"
      ]
     },
     "metadata": {
      "image/png": {
       "height": 420,
       "width": 420
      }
     },
     "output_type": "display_data"
    }
   ],
   "source": [
    "plot_stack_bar_2x2(MentHlth_table)"
   ]
  },
  {
   "cell_type": "code",
   "execution_count": 553,
   "id": "431a6c28-3316-45d8-aa2b-3a0693db5314",
   "metadata": {},
   "outputs": [
    {
     "data": {
      "text/html": [
       "<style>\n",
       ".dl-inline {width: auto; margin:0; padding: 0}\n",
       ".dl-inline>dt, .dl-inline>dd {float: none; width: auto; display: inline-block}\n",
       ".dl-inline>dt::after {content: \":\\0020\"; padding-right: .5ex}\n",
       ".dl-inline>dt:not(:first-of-type) {padding-left: .5ex}\n",
       "</style><dl class=dl-inline><dt>odds ratio</dt><dd>1.16691866629056</dd><dt>lwr.ci</dt><dd>1.15041990213255</dd><dt>upr.ci</dt><dd>1.18365404772043</dd></dl>\n"
      ],
      "text/latex": [
       "\\begin{description*}\n",
       "\\item[odds ratio] 1.16691866629056\n",
       "\\item[lwr.ci] 1.15041990213255\n",
       "\\item[upr.ci] 1.18365404772043\n",
       "\\end{description*}\n"
      ],
      "text/markdown": [
       "odds ratio\n",
       ":   1.16691866629056lwr.ci\n",
       ":   1.15041990213255upr.ci\n",
       ":   1.18365404772043\n",
       "\n"
      ],
      "text/plain": [
       "odds ratio     lwr.ci     upr.ci \n",
       "  1.166919   1.150420   1.183654 "
      ]
     },
     "metadata": {},
     "output_type": "display_data"
    }
   ],
   "source": [
    "DescTools::OddsRatio(MentHlth_table, conf.level = 0.95)"
   ]
  },
  {
   "cell_type": "code",
   "execution_count": 554,
   "id": "50b6b4e7-6c0a-4399-bfce-f9d65b216b64",
   "metadata": {},
   "outputs": [],
   "source": [
    "# COMMENT\n",
    "# odd ratio is close to 1\n",
    "# => No creating new binary variable"
   ]
  },
  {
   "cell_type": "markdown",
   "id": "1b9fe2d6-1822-46b3-b32a-3c8ab4194fcf",
   "metadata": {},
   "source": [
    "#### 3.4.3. PhysHlth"
   ]
  },
  {
   "cell_type": "code",
   "execution_count": 555,
   "id": "5b50f212-344e-4717-b1a7-e9acc0aeba7b",
   "metadata": {},
   "outputs": [
    {
     "data": {
      "image/png": "[encoded data removed]",
      "text/plain": [
       "Plot with title \"PhysHlth\""
      ]
     },
     "metadata": {
      "image/png": {
       "height": 420,
       "width": 420
      }
     },
     "output_type": "display_data"
    },
    {
     "data": {
      "image/png": "[encoded data removed]",
      "text/plain": [
       "Plot with title \"PhysHlth\""
      ]
     },
     "metadata": {
      "image/png": {
       "height": 420,
       "width": 420
      }
     },
     "output_type": "display_data"
    }
   ],
   "source": [
    "boxplot(balanced_training_data$PhysHlth, main = \"PhysHlth\", col = MAIN_COLOR, las = 1, lwd = 2)\n",
    "hist(balanced_training_data$PhysHlth, main = \"PhysHlth\", xlab = \"Number of day with Physical Health problem in last 30 days\",\n",
    "    col = MAIN_COLOR, las = 1, lwd = 2, xlim = c(0, 30))"
   ]
  },
  {
   "cell_type": "code",
   "execution_count": 556,
   "id": "ed94e042-ab40-4540-8a88-12165f066b8a",
   "metadata": {},
   "outputs": [
    {
     "data": {
      "text/html": [
       "<strong>cor:</strong> 0.214950844594991"
      ],
      "text/latex": [
       "\\textbf{cor:} 0.214950844594991"
      ],
      "text/markdown": [
       "**cor:** 0.214950844594991"
      ],
      "text/plain": [
       "      cor \n",
       "0.2149508 "
      ]
     },
     "metadata": {},
     "output_type": "display_data"
    }
   ],
   "source": [
    "get_correlation(balanced_training_data, \"PhysHlth\", response_col, numerical_cols, binary_cols, ordinal_cols, response_col)"
   ]
  },
  {
   "cell_type": "markdown",
   "id": "8baa168a-afdf-486d-a11d-1a9ee0dfc83d",
   "metadata": {},
   "source": [
    "#### Question: The percentage of diabetes people having PhysHlth or not."
   ]
  },
  {
   "cell_type": "code",
   "execution_count": 557,
   "id": "60ef4d5a-a449-4881-a38c-b63598fca474",
   "metadata": {},
   "outputs": [],
   "source": [
    "PhysHlth_table = table(ifelse(balanced_training_data$PhysHlth > 0, \"have PhysHlth\", \"no PhysHlth\"),\n",
    "      ifelse(balanced_training_data$Diabetes_binary == 1, \"diabetes\", \"no diabetes\"))"
   ]
  },
  {
   "cell_type": "code",
   "execution_count": 558,
   "id": "3a3689a4-d442-45e7-ba9c-01d0af557d0f",
   "metadata": {},
   "outputs": [],
   "source": [
    "PhysHlth_table = Rev(PhysHlth_table)"
   ]
  },
  {
   "cell_type": "code",
   "execution_count": 559,
   "id": "cabfe8c9-7897-4573-bab1-3ed14a02e7de",
   "metadata": {},
   "outputs": [
    {
     "data": {
      "text/plain": [
       "               \n",
       "                no diabetes diabetes\n",
       "  no PhysHlth        114630    82280\n",
       "  have PhysHlth       60136    92320"
      ]
     },
     "metadata": {},
     "output_type": "display_data"
    }
   ],
   "source": [
    "PhysHlth_table"
   ]
  },
  {
   "cell_type": "code",
   "execution_count": 560,
   "id": "4a12b13a-4036-42d3-b05f-a6d7cff720a0",
   "metadata": {},
   "outputs": [
    {
     "data": {
      "image/png": "[encoded data removed]",
      "text/plain": [
       "plot without title"
      ]
     },
     "metadata": {
      "image/png": {
       "height": 420,
       "width": 420
      }
     },
     "output_type": "display_data"
    }
   ],
   "source": [
    "plot_stack_bar_2x2(PhysHlth_table)"
   ]
  },
  {
   "cell_type": "code",
   "execution_count": 561,
   "id": "22dbda1a-c06a-4cbf-9013-a3d4c0ed0a73",
   "metadata": {},
   "outputs": [
    {
     "data": {
      "text/html": [
       "<style>\n",
       ".dl-inline {width: auto; margin:0; padding: 0}\n",
       ".dl-inline>dt, .dl-inline>dd {float: none; width: auto; display: inline-block}\n",
       ".dl-inline>dt::after {content: \":\\0020\"; padding-right: .5ex}\n",
       ".dl-inline>dt:not(:first-of-type) {padding-left: .5ex}\n",
       "</style><dl class=dl-inline><dt>odds ratio</dt><dd>2.13877583198388</dd><dt>lwr.ci</dt><dd>2.10982887203456</dd><dt>upr.ci</dt><dd>2.16811994570307</dd></dl>\n"
      ],
      "text/latex": [
       "\\begin{description*}\n",
       "\\item[odds ratio] 2.13877583198388\n",
       "\\item[lwr.ci] 2.10982887203456\n",
       "\\item[upr.ci] 2.16811994570307\n",
       "\\end{description*}\n"
      ],
      "text/markdown": [
       "odds ratio\n",
       ":   2.13877583198388lwr.ci\n",
       ":   2.10982887203456upr.ci\n",
       ":   2.16811994570307\n",
       "\n"
      ],
      "text/plain": [
       "odds ratio     lwr.ci     upr.ci \n",
       "  2.138776   2.109829   2.168120 "
      ]
     },
     "metadata": {},
     "output_type": "display_data"
    }
   ],
   "source": [
    "OddsRatio(PhysHlth_table, conf.level = 0.95)"
   ]
  },
  {
   "cell_type": "code",
   "execution_count": 562,
   "id": "f6c34478-cbaf-447a-86ce-0c70d4a0e376",
   "metadata": {},
   "outputs": [],
   "source": [
    "# odds ratio = 2.118 > 1\n",
    "# People have PhysHlth are 2.118 times more likely to have diabetes than others.\n",
    "# => Create a binary variable that to distinguish people having PhysHlth."
   ]
  },
  {
   "cell_type": "code",
   "execution_count": 563,
   "id": "60b8f620-7bd7-45a1-a6ed-71174d91c8fd",
   "metadata": {},
   "outputs": [],
   "source": [
    "if (! \"havePhysHlth\" %in% binary_cols)\n",
    "{\n",
    "    binary_cols = append(binary_cols, \"havePhysHlth\")\n",
    "}"
   ]
  },
  {
   "cell_type": "code",
   "execution_count": 564,
   "id": "9b6f5d3d-1fea-4f5b-b0ac-539b482f0d5d",
   "metadata": {},
   "outputs": [],
   "source": [
    "# Add new column for training data\n",
    "new_column = factor(as.integer(ifelse(balanced_training_data$PhysHlth > 0, 1, 0)))\n",
    "PhysHlth_index = which(colnames(balanced_training_data) == \"PhysHlth\")\n",
    "balanced_training_data = cbind(balanced_training_data[,1:PhysHlth_index], havePhysHlth = new_column, balanced_training_data[,(PhysHlth_index+1):ncol(balanced_training_data)])"
   ]
  },
  {
   "cell_type": "code",
   "execution_count": 565,
   "id": "0c9d5475-0a48-4523-bcdd-e0cacc483eec",
   "metadata": {},
   "outputs": [
    {
     "name": "stdout",
     "output_type": "stream",
     "text": [
      "'data.frame':\t349366 obs. of  23 variables:\n",
      " $ HighBP              : Factor w/ 2 levels \"0\",\"1\": 2 1 2 2 2 2 2 2 1 1 ...\n",
      " $ HighChol            : Factor w/ 2 levels \"0\",\"1\": 2 1 2 1 2 2 1 2 1 1 ...\n",
      " $ CholCheck           : Factor w/ 2 levels \"0\",\"1\": 2 1 2 2 2 2 2 2 2 2 ...\n",
      " $ BMI                 : int  40 25 28 27 24 25 30 25 24 26 ...\n",
      " $ Smoker              : Factor w/ 2 levels \"0\",\"1\": 2 2 1 1 1 2 2 2 1 2 ...\n",
      " $ Stroke              : Factor w/ 2 levels \"0\",\"1\": 1 1 1 1 1 1 1 1 1 1 ...\n",
      " $ HeartDiseaseorAttack: Factor w/ 2 levels \"0\",\"1\": 1 1 1 1 1 1 1 1 1 1 ...\n",
      " $ PhysActivity        : Factor w/ 2 levels \"0\",\"1\": 1 2 1 2 2 2 1 2 1 1 ...\n",
      " $ Fruits              : Factor w/ 2 levels \"0\",\"1\": 1 1 2 2 2 2 1 1 1 1 ...\n",
      " $ Veggies             : Factor w/ 2 levels \"0\",\"1\": 2 1 1 2 2 2 1 2 2 2 ...\n",
      " $ HvyAlcoholConsump   : Factor w/ 2 levels \"0\",\"1\": 1 1 1 1 1 1 1 1 1 1 ...\n",
      " $ AnyHealthcare       : Factor w/ 2 levels \"0\",\"1\": 2 1 2 2 2 2 2 2 2 2 ...\n",
      " $ NoDocbcCost         : Factor w/ 2 levels \"0\",\"1\": 1 2 2 1 1 1 1 1 1 1 ...\n",
      " $ GenHlth             : Ord.factor w/ 5 levels \"1\"<\"2\"<\"3\"<\"4\"<..: 5 3 5 2 2 2 3 3 2 3 ...\n",
      " $ MentHlth            : int  18 0 30 0 3 0 0 0 0 0 ...\n",
      " $ PhysHlth            : int  15 0 30 0 0 2 14 0 0 15 ...\n",
      " $ havePhysHlth        : Factor w/ 2 levels \"0\",\"1\": 2 1 2 1 1 2 2 1 1 2 ...\n",
      " $ DiffWalk            : Factor w/ 2 levels \"0\",\"1\": 2 1 2 1 1 1 1 2 1 1 ...\n",
      " $ Sex                 : Factor w/ 2 levels \"0\",\"1\": 1 1 1 1 1 2 1 1 2 1 ...\n",
      " $ Age                 : Ord.factor w/ 13 levels \"1\"<\"2\"<\"3\"<\"4\"<..: 9 7 9 11 11 10 9 11 8 7 ...\n",
      " $ Education           : Ord.factor w/ 6 levels \"1\"<\"2\"<\"3\"<\"4\"<..: 4 6 4 3 5 6 6 4 4 5 ...\n",
      " $ Income              : Ord.factor w/ 8 levels \"1\"<\"2\"<\"3\"<\"4\"<..: 3 1 8 6 4 8 7 4 3 7 ...\n",
      " $ Diabetes_binary     : Factor w/ 2 levels \"0\",\"1\": 1 1 1 1 1 1 1 1 1 1 ...\n"
     ]
    }
   ],
   "source": [
    "str(balanced_training_data)"
   ]
  },
  {
   "cell_type": "code",
   "execution_count": 566,
   "id": "86a3a905-b454-49f6-9fde-b75624b51207",
   "metadata": {},
   "outputs": [
    {
     "data": {
      "text/html": [
       "<strong>Cramer V:</strong> 0.1862"
      ],
      "text/latex": [
       "\\textbf{Cramer V:} 0.1862"
      ],
      "text/markdown": [
       "**Cramer V:** 0.1862"
      ],
      "text/plain": [
       "Cramer V \n",
       "  0.1862 "
      ]
     },
     "metadata": {},
     "output_type": "display_data"
    }
   ],
   "source": [
    "get_correlation(balanced_training_data, \"havePhysHlth\", response_col, numerical_cols, binary_cols, ordinal_cols, response_col)"
   ]
  },
  {
   "cell_type": "code",
   "execution_count": 567,
   "id": "59e779a3-9446-4d02-bddb-9c14873b76bf",
   "metadata": {},
   "outputs": [],
   "source": [
    "# COMMENT\n",
    "# Correlation of new explain variable: havePhysHlth is lower than original explain variable\n",
    "# => Eliminate this explain variable"
   ]
  },
  {
   "cell_type": "code",
   "execution_count": 568,
   "id": "2e706815-e597-4fa5-98d6-a8ab13f0f1c2",
   "metadata": {},
   "outputs": [],
   "source": [
    "balanced_training_data = subset(balanced_training_data, select = -havePhysHlth)\n",
    "binary_cols = binary_cols[binary_cols != \"havePhysHlth\"]"
   ]
  },
  {
   "cell_type": "code",
   "execution_count": 569,
   "id": "6d81c989-3ea7-49e2-bd2e-adc48022562b",
   "metadata": {},
   "outputs": [
    {
     "name": "stdout",
     "output_type": "stream",
     "text": [
      "'data.frame':\t349366 obs. of  22 variables:\n",
      " $ HighBP              : Factor w/ 2 levels \"0\",\"1\": 2 1 2 2 2 2 2 2 1 1 ...\n",
      " $ HighChol            : Factor w/ 2 levels \"0\",\"1\": 2 1 2 1 2 2 1 2 1 1 ...\n",
      " $ CholCheck           : Factor w/ 2 levels \"0\",\"1\": 2 1 2 2 2 2 2 2 2 2 ...\n",
      " $ BMI                 : int  40 25 28 27 24 25 30 25 24 26 ...\n",
      " $ Smoker              : Factor w/ 2 levels \"0\",\"1\": 2 2 1 1 1 2 2 2 1 2 ...\n",
      " $ Stroke              : Factor w/ 2 levels \"0\",\"1\": 1 1 1 1 1 1 1 1 1 1 ...\n",
      " $ HeartDiseaseorAttack: Factor w/ 2 levels \"0\",\"1\": 1 1 1 1 1 1 1 1 1 1 ...\n",
      " $ PhysActivity        : Factor w/ 2 levels \"0\",\"1\": 1 2 1 2 2 2 1 2 1 1 ...\n",
      " $ Fruits              : Factor w/ 2 levels \"0\",\"1\": 1 1 2 2 2 2 1 1 1 1 ...\n",
      " $ Veggies             : Factor w/ 2 levels \"0\",\"1\": 2 1 1 2 2 2 1 2 2 2 ...\n",
      " $ HvyAlcoholConsump   : Factor w/ 2 levels \"0\",\"1\": 1 1 1 1 1 1 1 1 1 1 ...\n",
      " $ AnyHealthcare       : Factor w/ 2 levels \"0\",\"1\": 2 1 2 2 2 2 2 2 2 2 ...\n",
      " $ NoDocbcCost         : Factor w/ 2 levels \"0\",\"1\": 1 2 2 1 1 1 1 1 1 1 ...\n",
      " $ GenHlth             : Ord.factor w/ 5 levels \"1\"<\"2\"<\"3\"<\"4\"<..: 5 3 5 2 2 2 3 3 2 3 ...\n",
      " $ MentHlth            : int  18 0 30 0 3 0 0 0 0 0 ...\n",
      " $ PhysHlth            : int  15 0 30 0 0 2 14 0 0 15 ...\n",
      " $ DiffWalk            : Factor w/ 2 levels \"0\",\"1\": 2 1 2 1 1 1 1 2 1 1 ...\n",
      " $ Sex                 : Factor w/ 2 levels \"0\",\"1\": 1 1 1 1 1 2 1 1 2 1 ...\n",
      " $ Age                 : Ord.factor w/ 13 levels \"1\"<\"2\"<\"3\"<\"4\"<..: 9 7 9 11 11 10 9 11 8 7 ...\n",
      " $ Education           : Ord.factor w/ 6 levels \"1\"<\"2\"<\"3\"<\"4\"<..: 4 6 4 3 5 6 6 4 4 5 ...\n",
      " $ Income              : Ord.factor w/ 8 levels \"1\"<\"2\"<\"3\"<\"4\"<..: 3 1 8 6 4 8 7 4 3 7 ...\n",
      " $ Diabetes_binary     : Factor w/ 2 levels \"0\",\"1\": 1 1 1 1 1 1 1 1 1 1 ...\n"
     ]
    }
   ],
   "source": [
    "str(balanced_training_data)"
   ]
  },
  {
   "cell_type": "markdown",
   "id": "698e97e4-dc17-47c0-aace-61d6726bcb5e",
   "metadata": {},
   "source": [
    "### 3.5. Categorical - binary variables analysis"
   ]
  },
  {
   "cell_type": "code",
   "execution_count": 570,
   "id": "b0639e69-9c1c-4c93-9e72-90a2b4a4ad80",
   "metadata": {},
   "outputs": [
    {
     "data": {
      "text/html": [
       "<style>\n",
       ".list-inline {list-style: none; margin:0; padding: 0}\n",
       ".list-inline>li {display: inline-block}\n",
       ".list-inline>li:not(:last-child)::after {content: \"\\00b7\"; padding: 0 .5ex}\n",
       "</style>\n",
       "<ol class=list-inline><li>'HighBP'</li><li>'HighChol'</li><li>'CholCheck'</li><li>'Smoker'</li><li>'Stroke'</li><li>'HeartDiseaseorAttack'</li><li>'PhysActivity'</li><li>'Fruits'</li><li>'Veggies'</li><li>'HvyAlcoholConsump'</li><li>'AnyHealthcare'</li><li>'NoDocbcCost'</li><li>'DiffWalk'</li><li>'Sex'</li></ol>\n"
      ],
      "text/latex": [
       "\\begin{enumerate*}\n",
       "\\item 'HighBP'\n",
       "\\item 'HighChol'\n",
       "\\item 'CholCheck'\n",
       "\\item 'Smoker'\n",
       "\\item 'Stroke'\n",
       "\\item 'HeartDiseaseorAttack'\n",
       "\\item 'PhysActivity'\n",
       "\\item 'Fruits'\n",
       "\\item 'Veggies'\n",
       "\\item 'HvyAlcoholConsump'\n",
       "\\item 'AnyHealthcare'\n",
       "\\item 'NoDocbcCost'\n",
       "\\item 'DiffWalk'\n",
       "\\item 'Sex'\n",
       "\\end{enumerate*}\n"
      ],
      "text/markdown": [
       "1. 'HighBP'\n",
       "2. 'HighChol'\n",
       "3. 'CholCheck'\n",
       "4. 'Smoker'\n",
       "5. 'Stroke'\n",
       "6. 'HeartDiseaseorAttack'\n",
       "7. 'PhysActivity'\n",
       "8. 'Fruits'\n",
       "9. 'Veggies'\n",
       "10. 'HvyAlcoholConsump'\n",
       "11. 'AnyHealthcare'\n",
       "12. 'NoDocbcCost'\n",
       "13. 'DiffWalk'\n",
       "14. 'Sex'\n",
       "\n",
       "\n"
      ],
      "text/plain": [
       " [1] \"HighBP\"               \"HighChol\"             \"CholCheck\"           \n",
       " [4] \"Smoker\"               \"Stroke\"               \"HeartDiseaseorAttack\"\n",
       " [7] \"PhysActivity\"         \"Fruits\"               \"Veggies\"             \n",
       "[10] \"HvyAlcoholConsump\"    \"AnyHealthcare\"        \"NoDocbcCost\"         \n",
       "[13] \"DiffWalk\"             \"Sex\"                 "
      ]
     },
     "metadata": {},
     "output_type": "display_data"
    }
   ],
   "source": [
    "binary_cols"
   ]
  },
  {
   "cell_type": "code",
   "execution_count": 571,
   "id": "e23f7c7a-45d4-4f10-938c-680d7890f2f9",
   "metadata": {},
   "outputs": [
    {
     "data": {
      "image/png": "[encoded data removed]",
      "text/plain": [
       "plot without title"
      ]
     },
     "metadata": {
      "image/png": {
       "height": 420,
       "width": 420
      }
     },
     "output_type": "display_data"
    },
    {
     "data": {
      "image/png": "[encoded data removed]",
      "text/plain": [
       "plot without title"
      ]
     },
     "metadata": {
      "image/png": {
       "height": 420,
       "width": 420
      }
     },
     "output_type": "display_data"
    },
    {
     "data": {
      "image/png": "[encoded data removed]",
      "text/plain": [
       "plot without title"
      ]
     },
     "metadata": {
      "image/png": {
       "height": 420,
       "width": 420
      }
     },
     "output_type": "display_data"
    },
    {
     "data": {
      "image/png": "[encoded data removed]",
      "text/plain": [
       "plot without title"
      ]
     },
     "metadata": {
      "image/png": {
       "height": 420,
       "width": 420
      }
     },
     "output_type": "display_data"
    },
    {
     "data": {
      "image/png": "[encoded data removed]",
      "text/plain": [
       "plot without title"
      ]
     },
     "metadata": {
      "image/png": {
       "height": 420,
       "width": 420
      }
     },
     "output_type": "display_data"
    },
    {
     "data": {
      "image/png": "[encoded data removed]",
      "text/plain": [
       "plot without title"
      ]
     },
     "metadata": {
      "image/png": {
       "height": 420,
       "width": 420
      }
     },
     "output_type": "display_data"
    },
    {
     "data": {
      "image/png": "[encoded data removed]",
      "text/plain": [
       "plot without title"
      ]
     },
     "metadata": {
      "image/png": {
       "height": 420,
       "width": 420
      }
     },
     "output_type": "display_data"
    }
   ],
   "source": [
    "par(mfrow = c(1,2))\n",
    "for (col in binary_cols)\n",
    "{\n",
    "    contingency_table = table(balanced_training_data[, col], balanced_training_data$Diabetes_binary)\n",
    "    rownames(contingency_table) = c(sprintf(\"no %s\", col), col)\n",
    "    colnames(contingency_table) = c(\"no diabetes\", \"diabetes\")\n",
    "    plot_stack_bar_2x2(contingency_table)\n",
    "}"
   ]
  },
  {
   "cell_type": "code",
   "execution_count": 572,
   "id": "26c96d95-181c-49f5-aab9-905078718105",
   "metadata": {},
   "outputs": [],
   "source": [
    "summary_categorical_variables = function(df, explain_col, response_col, is.binary = T, prop.r = T,\n",
    "                                        prop.c = T, prop.t = T)\n",
    "{\n",
    "    contingency_table = table(df[, explain_col], df[, response_col], dnn = c(explain_col, response_col))\n",
    "    if (is.binary)\n",
    "    {\n",
    "        rownames(contingency_table) = c(paste(\"no\", explain_col), explain_col)\n",
    "        gmodels::CrossTable(contingency_table, prop.r = prop.r, prop.c = prop.c, prop.t = prop.t, prop.chisq = FALSE, chisq = T)\n",
    "        print(\"Odds Ratio\")\n",
    "        print(OddsRatio(contingency_table, conf.level = 0.95))\n",
    "        print(\"Relative Risk\")\n",
    "        print(RelRisk(contingency_table, conf.level = 0.95, method = \"wald\"))\n",
    "    }\n",
    "    else\n",
    "    {\n",
    "        CrossTable(contingency_table, prop.r = prop.r, prop.c = prop.c, prop.t = prop.t, prop.chisq = FALSE, chisq = T)\n",
    "    }\n",
    "}"
   ]
  },
  {
   "cell_type": "code",
   "execution_count": 573,
   "id": "6cae4c3c-7e28-4305-83b5-36ef80c198e2",
   "metadata": {
    "scrolled": true
   },
   "outputs": [
    {
     "name": "stdout",
     "output_type": "stream",
     "text": [
      "\n",
      " \n",
      "   Cell Contents\n",
      "|-------------------------|\n",
      "|                       N |\n",
      "|           N / Row Total |\n",
      "|           N / Col Total |\n",
      "|         N / Table Total |\n",
      "|-------------------------|\n",
      "\n",
      " \n",
      "Total Observations in Table:  349366 \n",
      "\n",
      " \n",
      "             | Diabetes_binary \n",
      "      HighBP |         0 |         1 | Row Total | \n",
      "-------------|-----------|-----------|-----------|\n",
      "   no HighBP |    109005 |     43058 |    152063 | \n",
      "             |     0.717 |     0.283 |     0.435 | \n",
      "             |     0.624 |     0.247 |           | \n",
      "             |     0.312 |     0.123 |           | \n",
      "-------------|-----------|-----------|-----------|\n",
      "      HighBP |     65761 |    131542 |    197303 | \n",
      "             |     0.333 |     0.667 |     0.565 | \n",
      "             |     0.376 |     0.753 |           | \n",
      "             |     0.188 |     0.377 |           | \n",
      "-------------|-----------|-----------|-----------|\n",
      "Column Total |    174766 |    174600 |    349366 | \n",
      "             |     0.500 |     0.500 |           | \n",
      "-------------|-----------|-----------|-----------|\n",
      "\n",
      " \n",
      "Statistics for All Table Factors\n",
      "\n",
      "\n",
      "Pearson's Chi-squared test \n",
      "------------------------------------------------------------\n",
      "Chi^2 =  50531.41     d.f. =  1     p =  0 \n",
      "\n",
      "Pearson's Chi-squared test with Yates' continuity correction \n",
      "------------------------------------------------------------\n",
      "Chi^2 =  50529.88     d.f. =  1     p =  0 \n",
      "\n",
      " \n",
      "[1] \"Odds Ratio\"\n",
      "odds ratio     lwr.ci     upr.ci \n",
      "  5.063941   4.990730   5.138225 \n",
      "[1] \"Relative Risk\"\n",
      "rel. risk    lwr.ci    upr.ci \n",
      " 2.150741  2.135750  2.165837 \n",
      "\n",
      " \n",
      "   Cell Contents\n",
      "|-------------------------|\n",
      "|                       N |\n",
      "|           N / Row Total |\n",
      "|           N / Col Total |\n",
      "|         N / Table Total |\n",
      "|-------------------------|\n",
      "\n",
      " \n",
      "Total Observations in Table:  349366 \n",
      "\n",
      " \n",
      "             | Diabetes_binary \n",
      "    HighChol |         0 |         1 | Row Total | \n",
      "-------------|-----------|-----------|-----------|\n",
      " no HighChol |    107581 |     57441 |    165022 | \n",
      "             |     0.652 |     0.348 |     0.472 | \n",
      "             |     0.616 |     0.329 |           | \n",
      "             |     0.308 |     0.164 |           | \n",
      "-------------|-----------|-----------|-----------|\n",
      "    HighChol |     67185 |    117159 |    184344 | \n",
      "             |     0.364 |     0.636 |     0.528 | \n",
      "             |     0.384 |     0.671 |           | \n",
      "             |     0.192 |     0.335 |           | \n",
      "-------------|-----------|-----------|-----------|\n",
      "Column Total |    174766 |    174600 |    349366 | \n",
      "             |     0.500 |     0.500 |           | \n",
      "-------------|-----------|-----------|-----------|\n",
      "\n",
      " \n",
      "Statistics for All Table Factors\n",
      "\n",
      "\n",
      "Pearson's Chi-squared test \n",
      "------------------------------------------------------------\n",
      "Chi^2 =  28781.88     d.f. =  1     p =  0 \n",
      "\n",
      "Pearson's Chi-squared test with Yates' continuity correction \n",
      "------------------------------------------------------------\n",
      "Chi^2 =  28780.73     d.f. =  1     p =  0 \n",
      "\n",
      " \n",
      "[1] \"Odds Ratio\"\n",
      "odds ratio     lwr.ci     upr.ci \n",
      "  3.266006   3.220999   3.311641 \n",
      "[1] \"Relative Risk\"\n",
      "rel. risk    lwr.ci    upr.ci \n",
      " 1.788753  1.776305  1.801288 \n",
      "\n",
      " \n",
      "   Cell Contents\n",
      "|-------------------------|\n",
      "|                       N |\n",
      "|           N / Row Total |\n",
      "|           N / Col Total |\n",
      "|         N / Table Total |\n",
      "|-------------------------|\n",
      "\n",
      " \n",
      "Total Observations in Table:  349366 \n",
      "\n",
      " \n",
      "             | Diabetes_binary \n",
      "   CholCheck |         0 |         1 | Row Total | \n",
      "-------------|-----------|-----------|-----------|\n",
      "no CholCheck |      7409 |      1229 |      8638 | \n",
      "             |     0.858 |     0.142 |     0.025 | \n",
      "             |     0.042 |     0.007 |           | \n",
      "             |     0.021 |     0.004 |           | \n",
      "-------------|-----------|-----------|-----------|\n",
      "   CholCheck |    167357 |    173371 |    340728 | \n",
      "             |     0.491 |     0.509 |     0.975 | \n",
      "             |     0.958 |     0.993 |           | \n",
      "             |     0.479 |     0.496 |           | \n",
      "-------------|-----------|-----------|-----------|\n",
      "Column Total |    174766 |    174600 |    349366 | \n",
      "             |     0.500 |     0.500 |           | \n",
      "-------------|-----------|-----------|-----------|\n",
      "\n",
      " \n",
      "Statistics for All Table Factors\n",
      "\n",
      "\n",
      "Pearson's Chi-squared test \n",
      "------------------------------------------------------------\n",
      "Chi^2 =  4527.512     d.f. =  1     p =  0 \n",
      "\n",
      "Pearson's Chi-squared test with Yates' continuity correction \n",
      "------------------------------------------------------------\n",
      "Chi^2 =  4526.046     d.f. =  1     p =  0 \n",
      "\n",
      " \n",
      "[1] \"Odds Ratio\"\n",
      "odds ratio     lwr.ci     upr.ci \n",
      "  6.245113   5.877079   6.636194 \n",
      "[1] \"Relative Risk\"\n",
      "rel. risk    lwr.ci    upr.ci \n",
      " 1.746266  1.730201  1.762479 \n",
      "\n",
      " \n",
      "   Cell Contents\n",
      "|-------------------------|\n",
      "|                       N |\n",
      "|           N / Row Total |\n",
      "|           N / Col Total |\n",
      "|         N / Table Total |\n",
      "|-------------------------|\n",
      "\n",
      " \n",
      "Total Observations in Table:  349366 \n",
      "\n",
      " \n",
      "             | Diabetes_binary \n",
      "      Smoker |         0 |         1 | Row Total | \n",
      "-------------|-----------|-----------|-----------|\n",
      "   no Smoker |     99457 |     84239 |    183696 | \n",
      "             |     0.541 |     0.459 |     0.526 | \n",
      "             |     0.569 |     0.482 |           | \n",
      "             |     0.285 |     0.241 |           | \n",
      "-------------|-----------|-----------|-----------|\n",
      "      Smoker |     75309 |     90361 |    165670 | \n",
      "             |     0.455 |     0.545 |     0.474 | \n",
      "             |     0.431 |     0.518 |           | \n",
      "             |     0.216 |     0.259 |           | \n",
      "-------------|-----------|-----------|-----------|\n",
      "Column Total |    174766 |    174600 |    349366 | \n",
      "             |     0.500 |     0.500 |           | \n",
      "-------------|-----------|-----------|-----------|\n",
      "\n",
      " \n",
      "Statistics for All Table Factors\n",
      "\n",
      "\n",
      "Pearson's Chi-squared test \n",
      "------------------------------------------------------------\n",
      "Chi^2 =  2628.187     d.f. =  1     p =  0 \n",
      "\n",
      "Pearson's Chi-squared test with Yates' continuity correction \n",
      "------------------------------------------------------------\n",
      "Chi^2 =  2627.839     d.f. =  1     p =  0 \n",
      "\n",
      " \n",
      "[1] \"Odds Ratio\"\n",
      "odds ratio     lwr.ci     upr.ci \n",
      "  1.416630   1.397868   1.435643 \n",
      "[1] \"Relative Risk\"\n",
      "rel. risk    lwr.ci    upr.ci \n",
      " 1.191057  1.183047  1.199122 \n",
      "\n",
      " \n",
      "   Cell Contents\n",
      "|-------------------------|\n",
      "|                       N |\n",
      "|           N / Row Total |\n",
      "|           N / Col Total |\n",
      "|         N / Table Total |\n",
      "|-------------------------|\n",
      "\n",
      " \n",
      "Total Observations in Table:  349366 \n",
      "\n",
      " \n",
      "             | Diabetes_binary \n",
      "      Stroke |         0 |         1 | Row Total | \n",
      "-------------|-----------|-----------|-----------|\n",
      "   no Stroke |    169140 |    158437 |    327577 | \n",
      "             |     0.516 |     0.484 |     0.938 | \n",
      "             |     0.968 |     0.907 |           | \n",
      "             |     0.484 |     0.453 |           | \n",
      "-------------|-----------|-----------|-----------|\n",
      "      Stroke |      5626 |     16163 |     21789 | \n",
      "             |     0.258 |     0.742 |     0.062 | \n",
      "             |     0.032 |     0.093 |           | \n",
      "             |     0.016 |     0.046 |           | \n",
      "-------------|-----------|-----------|-----------|\n",
      "Column Total |    174766 |    174600 |    349366 | \n",
      "             |     0.500 |     0.500 |           | \n",
      "-------------|-----------|-----------|-----------|\n",
      "\n",
      " \n",
      "Statistics for All Table Factors\n",
      "\n",
      "\n",
      "Pearson's Chi-squared test \n",
      "------------------------------------------------------------\n",
      "Chi^2 =  5445.24     d.f. =  1     p =  0 \n",
      "\n",
      "Pearson's Chi-squared test with Yates' continuity correction \n",
      "------------------------------------------------------------\n",
      "Chi^2 =  5444.207     d.f. =  1     p =  0 \n",
      "\n",
      " \n",
      "[1] \"Odds Ratio\"\n",
      "odds ratio     lwr.ci     upr.ci \n",
      "  3.066987   2.973061   3.163880 \n",
      "[1] \"Relative Risk\"\n",
      "rel. risk    lwr.ci    upr.ci \n",
      " 1.999726  1.954752  2.045735 \n",
      "\n",
      " \n",
      "   Cell Contents\n",
      "|-------------------------|\n",
      "|                       N |\n",
      "|           N / Row Total |\n",
      "|           N / Col Total |\n",
      "|         N / Table Total |\n",
      "|-------------------------|\n",
      "\n",
      " \n",
      "Total Observations in Table:  349366 \n",
      "\n",
      " \n",
      "                        | Diabetes_binary \n",
      "   HeartDiseaseorAttack |         0 |         1 | Row Total | \n",
      "------------------------|-----------|-----------|-----------|\n",
      "no HeartDiseaseorAttack |    161872 |    135505 |    297377 | \n",
      "                        |     0.544 |     0.456 |     0.851 | \n",
      "                        |     0.926 |     0.776 |           | \n",
      "                        |     0.463 |     0.388 |           | \n",
      "------------------------|-----------|-----------|-----------|\n",
      "   HeartDiseaseorAttack |     12894 |     39095 |     51989 | \n",
      "                        |     0.248 |     0.752 |     0.149 | \n",
      "                        |     0.074 |     0.224 |           | \n",
      "                        |     0.037 |     0.112 |           | \n",
      "------------------------|-----------|-----------|-----------|\n",
      "           Column Total |    174766 |    174600 |    349366 | \n",
      "                        |     0.500 |     0.500 |           | \n",
      "------------------------|-----------|-----------|-----------|\n",
      "\n",
      " \n",
      "Statistics for All Table Factors\n",
      "\n",
      "\n",
      "Pearson's Chi-squared test \n",
      "------------------------------------------------------------\n",
      "Chi^2 =  15542.33     d.f. =  1     p =  0 \n",
      "\n",
      "Pearson's Chi-squared test with Yates' continuity correction \n",
      "------------------------------------------------------------\n",
      "Chi^2 =  15541.15     d.f. =  1     p =  0 \n",
      "\n",
      " \n",
      "[1] \"Odds Ratio\"\n",
      "odds ratio     lwr.ci     upr.ci \n",
      "  3.622013   3.546132   3.699517 \n",
      "[1] \"Relative Risk\"\n",
      "rel. risk    lwr.ci    upr.ci \n",
      " 2.194766  2.161389  2.228658 \n",
      "\n",
      " \n",
      "   Cell Contents\n",
      "|-------------------------|\n",
      "|                       N |\n",
      "|           N / Row Total |\n",
      "|           N / Col Total |\n",
      "|         N / Table Total |\n",
      "|-------------------------|\n",
      "\n",
      " \n",
      "Total Observations in Table:  349366 \n",
      "\n",
      " \n",
      "                | Diabetes_binary \n",
      "   PhysActivity |         0 |         1 | Row Total | \n",
      "----------------|-----------|-----------|-----------|\n",
      "no PhysActivity |     39033 |     64605 |    103638 | \n",
      "                |     0.377 |     0.623 |     0.297 | \n",
      "                |     0.223 |     0.370 |           | \n",
      "                |     0.112 |     0.185 |           | \n",
      "----------------|-----------|-----------|-----------|\n",
      "   PhysActivity |    135733 |    109995 |    245728 | \n",
      "                |     0.552 |     0.448 |     0.703 | \n",
      "                |     0.777 |     0.630 |           | \n",
      "                |     0.389 |     0.315 |           | \n",
      "----------------|-----------|-----------|-----------|\n",
      "   Column Total |    174766 |    174600 |    349366 | \n",
      "                |     0.500 |     0.500 |           | \n",
      "----------------|-----------|-----------|-----------|\n",
      "\n",
      " \n",
      "Statistics for All Table Factors\n",
      "\n",
      "\n",
      "Pearson's Chi-squared test \n",
      "------------------------------------------------------------\n",
      "Chi^2 =  9005.492     d.f. =  1     p =  0 \n",
      "\n",
      "Pearson's Chi-squared test with Yates' continuity correction \n",
      "------------------------------------------------------------\n",
      "Chi^2 =  9004.789     d.f. =  1     p =  0 \n",
      "\n",
      " \n",
      "[1] \"Odds Ratio\"\n",
      "odds ratio     lwr.ci     upr.ci \n",
      " 0.4896134  0.4823870  0.4969481 \n",
      "[1] \"Relative Risk\"\n",
      "rel. risk    lwr.ci    upr.ci \n",
      "0.6818394 0.6759985 0.6877308 \n",
      "\n",
      " \n",
      "   Cell Contents\n",
      "|-------------------------|\n",
      "|                       N |\n",
      "|           N / Row Total |\n",
      "|           N / Col Total |\n",
      "|         N / Table Total |\n",
      "|-------------------------|\n",
      "\n",
      " \n",
      "Total Observations in Table:  349366 \n",
      "\n",
      " \n",
      "             | Diabetes_binary \n",
      "      Fruits |         0 |         1 | Row Total | \n",
      "-------------|-----------|-----------|-----------|\n",
      "   no Fruits |     62719 |     72472 |    135191 | \n",
      "             |     0.464 |     0.536 |     0.387 | \n",
      "             |     0.359 |     0.415 |           | \n",
      "             |     0.180 |     0.207 |           | \n",
      "-------------|-----------|-----------|-----------|\n",
      "      Fruits |    112047 |    102128 |    214175 | \n",
      "             |     0.523 |     0.477 |     0.613 | \n",
      "             |     0.641 |     0.585 |           | \n",
      "             |     0.321 |     0.292 |           | \n",
      "-------------|-----------|-----------|-----------|\n",
      "Column Total |    174766 |    174600 |    349366 | \n",
      "             |     0.500 |     0.500 |           | \n",
      "-------------|-----------|-----------|-----------|\n",
      "\n",
      " \n",
      "Statistics for All Table Factors\n",
      "\n",
      "\n",
      "Pearson's Chi-squared test \n",
      "------------------------------------------------------------\n",
      "Chi^2 =  1162.901     d.f. =  1     p =  7.049146e-255 \n",
      "\n",
      "Pearson's Chi-squared test with Yates' continuity correction \n",
      "------------------------------------------------------------\n",
      "Chi^2 =  1162.664     d.f. =  1     p =  7.936379e-255 \n",
      "\n",
      " \n",
      "[1] \"Odds Ratio\"\n",
      "odds ratio     lwr.ci     upr.ci \n",
      " 0.7888119  0.7781226  0.7996481 \n",
      "[1] \"Relative Risk\"\n",
      "rel. risk    lwr.ci    upr.ci \n",
      "0.8867882 0.8805909 0.8930290 \n",
      "\n",
      " \n",
      "   Cell Contents\n",
      "|-------------------------|\n",
      "|                       N |\n",
      "|           N / Row Total |\n",
      "|           N / Col Total |\n",
      "|         N / Table Total |\n",
      "|-------------------------|\n",
      "\n",
      " \n",
      "Total Observations in Table:  349366 \n",
      "\n",
      " \n",
      "             | Diabetes_binary \n",
      "     Veggies |         0 |         1 | Row Total | \n",
      "-------------|-----------|-----------|-----------|\n",
      "  no Veggies |     31532 |     42541 |     74073 | \n",
      "             |     0.426 |     0.574 |     0.212 | \n",
      "             |     0.180 |     0.244 |           | \n",
      "             |     0.090 |     0.122 |           | \n",
      "-------------|-----------|-----------|-----------|\n",
      "     Veggies |    143234 |    132059 |    275293 | \n",
      "             |     0.520 |     0.480 |     0.788 | \n",
      "             |     0.820 |     0.756 |           | \n",
      "             |     0.410 |     0.378 |           | \n",
      "-------------|-----------|-----------|-----------|\n",
      "Column Total |    174766 |    174600 |    349366 | \n",
      "             |     0.500 |     0.500 |           | \n",
      "-------------|-----------|-----------|-----------|\n",
      "\n",
      " \n",
      "Statistics for All Table Factors\n",
      "\n",
      "\n",
      "Pearson's Chi-squared test \n",
      "------------------------------------------------------------\n",
      "Chi^2 =  2089.747     d.f. =  1     p =  0 \n",
      "\n",
      "Pearson's Chi-squared test with Yates' continuity correction \n",
      "------------------------------------------------------------\n",
      "Chi^2 =  2089.369     d.f. =  1     p =  0 \n",
      "\n",
      " \n",
      "[1] \"Odds Ratio\"\n",
      "odds ratio     lwr.ci     upr.ci \n",
      " 0.6833854  0.6722883  0.6946658 \n",
      "[1] \"Relative Risk\"\n",
      "rel. risk    lwr.ci    upr.ci \n",
      "0.8181645 0.8107521 0.8256447 \n",
      "\n",
      " \n",
      "   Cell Contents\n",
      "|-------------------------|\n",
      "|                       N |\n",
      "|           N / Row Total |\n",
      "|           N / Col Total |\n",
      "|         N / Table Total |\n",
      "|-------------------------|\n",
      "\n",
      " \n",
      "Total Observations in Table:  349366 \n",
      "\n",
      " \n",
      "                     | Diabetes_binary \n",
      "   HvyAlcoholConsump |         0 |         1 | Row Total | \n",
      "---------------------|-----------|-----------|-----------|\n",
      "no HvyAlcoholConsump |    164078 |    170549 |    334627 | \n",
      "                     |     0.490 |     0.510 |     0.958 | \n",
      "                     |     0.939 |     0.977 |           | \n",
      "                     |     0.470 |     0.488 |           | \n",
      "---------------------|-----------|-----------|-----------|\n",
      "   HvyAlcoholConsump |     10688 |      4051 |     14739 | \n",
      "                     |     0.725 |     0.275 |     0.042 | \n",
      "                     |     0.061 |     0.023 |           | \n",
      "                     |     0.031 |     0.012 |           | \n",
      "---------------------|-----------|-----------|-----------|\n",
      "        Column Total |    174766 |    174600 |    349366 | \n",
      "                     |     0.500 |     0.500 |           | \n",
      "---------------------|-----------|-----------|-----------|\n",
      "\n",
      " \n",
      "Statistics for All Table Factors\n",
      "\n",
      "\n",
      "Pearson's Chi-squared test \n",
      "------------------------------------------------------------\n",
      "Chi^2 =  3113.712     d.f. =  1     p =  0 \n",
      "\n",
      "Pearson's Chi-squared test with Yates' continuity correction \n",
      "------------------------------------------------------------\n",
      "Chi^2 =  3112.772     d.f. =  1     p =  0 \n",
      "\n",
      " \n",
      "[1] \"Odds Ratio\"\n",
      "odds ratio     lwr.ci     upr.ci \n",
      " 0.3646422  0.3514702  0.3783079 \n",
      "[1] \"Relative Risk\"\n",
      "rel. risk    lwr.ci    upr.ci \n",
      "0.6761779 0.6691008 0.6833298 \n",
      "\n",
      " \n",
      "   Cell Contents\n",
      "|-------------------------|\n",
      "|                       N |\n",
      "|           N / Row Total |\n",
      "|           N / Col Total |\n",
      "|         N / Table Total |\n",
      "|-------------------------|\n",
      "\n",
      " \n",
      "Total Observations in Table:  349366 \n",
      "\n",
      " \n",
      "                 | Diabetes_binary \n",
      "   AnyHealthcare |         0 |         1 | Row Total | \n",
      "-----------------|-----------|-----------|-----------|\n",
      "no AnyHealthcare |      8800 |      6976 |     15776 | \n",
      "                 |     0.558 |     0.442 |     0.045 | \n",
      "                 |     0.050 |     0.040 |           | \n",
      "                 |     0.025 |     0.020 |           | \n",
      "-----------------|-----------|-----------|-----------|\n",
      "   AnyHealthcare |    165966 |    167624 |    333590 | \n",
      "                 |     0.498 |     0.502 |     0.955 | \n",
      "                 |     0.950 |     0.960 |           | \n",
      "                 |     0.475 |     0.480 |           | \n",
      "-----------------|-----------|-----------|-----------|\n",
      "    Column Total |    174766 |    174600 |    349366 | \n",
      "                 |     0.500 |     0.500 |           | \n",
      "-----------------|-----------|-----------|-----------|\n",
      "\n",
      " \n",
      "Statistics for All Table Factors\n",
      "\n",
      "\n",
      "Pearson's Chi-squared test \n",
      "------------------------------------------------------------\n",
      "Chi^2 =  219.0502     d.f. =  1     p =  1.45737e-49 \n",
      "\n",
      "Pearson's Chi-squared test with Yates' continuity correction \n",
      "------------------------------------------------------------\n",
      "Chi^2 =  218.809     d.f. =  1     p =  1.644991e-49 \n",
      "\n",
      " \n",
      "[1] \"Odds Ratio\"\n",
      "odds ratio     lwr.ci     upr.ci \n",
      "  1.274070   1.233767   1.315689 \n",
      "[1] \"Relative Risk\"\n",
      "rel. risk    lwr.ci    upr.ci \n",
      " 1.121191  1.105267  1.137345 \n",
      "\n",
      " \n",
      "   Cell Contents\n",
      "|-------------------------|\n",
      "|                       N |\n",
      "|           N / Row Total |\n",
      "|           N / Col Total |\n",
      "|         N / Table Total |\n",
      "|-------------------------|\n",
      "\n",
      " \n",
      "Total Observations in Table:  349366 \n",
      "\n",
      " \n",
      "               | Diabetes_binary \n",
      "   NoDocbcCost |         0 |         1 | Row Total | \n",
      "---------------|-----------|-----------|-----------|\n",
      "no NoDocbcCost |    160657 |    155936 |    316593 | \n",
      "               |     0.507 |     0.493 |     0.906 | \n",
      "               |     0.919 |     0.893 |           | \n",
      "               |     0.460 |     0.446 |           | \n",
      "---------------|-----------|-----------|-----------|\n",
      "   NoDocbcCost |     14109 |     18664 |     32773 | \n",
      "               |     0.431 |     0.569 |     0.094 | \n",
      "               |     0.081 |     0.107 |           | \n",
      "               |     0.040 |     0.053 |           | \n",
      "---------------|-----------|-----------|-----------|\n",
      "  Column Total |    174766 |    174600 |    349366 | \n",
      "               |     0.500 |     0.500 |           | \n",
      "---------------|-----------|-----------|-----------|\n",
      "\n",
      " \n",
      "Statistics for All Table Factors\n",
      "\n",
      "\n",
      "Pearson's Chi-squared test \n",
      "------------------------------------------------------------\n",
      "Chi^2 =  703.4032     d.f. =  1     p =  5.440773e-155 \n",
      "\n",
      "Pearson's Chi-squared test with Yates' continuity correction \n",
      "------------------------------------------------------------\n",
      "Chi^2 =  703.0954     d.f. =  1     p =  6.347244e-155 \n",
      "\n",
      " \n",
      "[1] \"Odds Ratio\"\n",
      "odds ratio     lwr.ci     upr.ci \n",
      "  1.362893   1.331973   1.394531 \n",
      "[1] \"Relative Risk\"\n",
      "rel. risk    lwr.ci    upr.ci \n",
      " 1.178741  1.163614  1.194064 \n",
      "\n",
      " \n",
      "   Cell Contents\n",
      "|-------------------------|\n",
      "|                       N |\n",
      "|           N / Row Total |\n",
      "|           N / Col Total |\n",
      "|         N / Table Total |\n",
      "|-------------------------|\n",
      "\n",
      " \n",
      "Total Observations in Table:  349366 \n",
      "\n",
      " \n",
      "             | Diabetes_binary \n",
      "    DiffWalk |         0 |         1 | Row Total | \n",
      "-------------|-----------|-----------|-----------|\n",
      " no DiffWalk |    151085 |    109421 |    260506 | \n",
      "             |     0.580 |     0.420 |     0.746 | \n",
      "             |     0.864 |     0.627 |           | \n",
      "             |     0.432 |     0.313 |           | \n",
      "-------------|-----------|-----------|-----------|\n",
      "    DiffWalk |     23681 |     65179 |     88860 | \n",
      "             |     0.266 |     0.734 |     0.254 | \n",
      "             |     0.136 |     0.373 |           | \n",
      "             |     0.068 |     0.187 |           | \n",
      "-------------|-----------|-----------|-----------|\n",
      "Column Total |    174766 |    174600 |    349366 | \n",
      "             |     0.500 |     0.500 |           | \n",
      "-------------|-----------|-----------|-----------|\n",
      "\n",
      " \n",
      "Statistics for All Table Factors\n",
      "\n",
      "\n",
      "Pearson's Chi-squared test \n",
      "------------------------------------------------------------\n",
      "Chi^2 =  26043.2     d.f. =  1     p =  0 \n",
      "\n",
      "Pearson's Chi-squared test with Yates' continuity correction \n",
      "------------------------------------------------------------\n",
      "Chi^2 =  26041.94     d.f. =  1     p =  0 \n",
      "\n",
      " \n",
      "[1] \"Odds Ratio\"\n",
      "odds ratio     lwr.ci     upr.ci \n",
      "  3.800391   3.737140   3.864714 \n",
      "[1] \"Relative Risk\"\n",
      "rel. risk    lwr.ci    upr.ci \n",
      " 2.176256  2.151615  2.201178 \n",
      "\n",
      " \n",
      "   Cell Contents\n",
      "|-------------------------|\n",
      "|                       N |\n",
      "|           N / Row Total |\n",
      "|           N / Col Total |\n",
      "|         N / Table Total |\n",
      "|-------------------------|\n",
      "\n",
      " \n",
      "Total Observations in Table:  349366 \n",
      "\n",
      " \n",
      "             | Diabetes_binary \n",
      "         Sex |         0 |         1 | Row Total | \n",
      "-------------|-----------|-----------|-----------|\n",
      "      no Sex |     99001 |     90699 |    189700 | \n",
      "             |     0.522 |     0.478 |     0.543 | \n",
      "             |     0.566 |     0.519 |           | \n",
      "             |     0.283 |     0.260 |           | \n",
      "-------------|-----------|-----------|-----------|\n",
      "         Sex |     75765 |     83901 |    159666 | \n",
      "             |     0.475 |     0.525 |     0.457 | \n",
      "             |     0.434 |     0.481 |           | \n",
      "             |     0.217 |     0.240 |           | \n",
      "-------------|-----------|-----------|-----------|\n",
      "Column Total |    174766 |    174600 |    349366 | \n",
      "             |     0.500 |     0.500 |           | \n",
      "-------------|-----------|-----------|-----------|\n",
      "\n",
      " \n",
      "Statistics for All Table Factors\n",
      "\n",
      "\n",
      "Pearson's Chi-squared test \n",
      "------------------------------------------------------------\n",
      "Chi^2 =  777.8297     d.f. =  1     p =  3.567498e-171 \n",
      "\n",
      "Pearson's Chi-squared test with Yates' continuity correction \n",
      "------------------------------------------------------------\n",
      "Chi^2 =  777.6403     d.f. =  1     p =  3.922387e-171 \n",
      "\n",
      " \n",
      "[1] \"Odds Ratio\"\n",
      "odds ratio     lwr.ci     upr.ci \n",
      "  1.208748   1.192744   1.224966 \n",
      "[1] \"Relative Risk\"\n",
      "rel. risk    lwr.ci    upr.ci \n",
      " 1.099806  1.092437  1.107225 \n"
     ]
    }
   ],
   "source": [
    "for (bin_col in binary_cols)\n",
    "{\n",
    "    summary_categorical_variables(balanced_training_data, bin_col, response_col)\n",
    "}"
   ]
  },
  {
   "cell_type": "markdown",
   "id": "b67b9735-7e49-43c5-8d74-22c1f36ce3c7",
   "metadata": {},
   "source": [
    "### 3.6. Categorical - ordinal variables analysis"
   ]
  },
  {
   "cell_type": "code",
   "execution_count": 574,
   "id": "760c518b-c8b7-4583-9037-d1fd6db14f32",
   "metadata": {},
   "outputs": [
    {
     "data": {
      "text/html": [
       "<style>\n",
       ".list-inline {list-style: none; margin:0; padding: 0}\n",
       ".list-inline>li {display: inline-block}\n",
       ".list-inline>li:not(:last-child)::after {content: \"\\00b7\"; padding: 0 .5ex}\n",
       "</style>\n",
       "<ol class=list-inline><li>'GenHlth'</li><li>'Age'</li><li>'Education'</li><li>'Income'</li></ol>\n"
      ],
      "text/latex": [
       "\\begin{enumerate*}\n",
       "\\item 'GenHlth'\n",
       "\\item 'Age'\n",
       "\\item 'Education'\n",
       "\\item 'Income'\n",
       "\\end{enumerate*}\n"
      ],
      "text/markdown": [
       "1. 'GenHlth'\n",
       "2. 'Age'\n",
       "3. 'Education'\n",
       "4. 'Income'\n",
       "\n",
       "\n"
      ],
      "text/plain": [
       "[1] \"GenHlth\"   \"Age\"       \"Education\" \"Income\"   "
      ]
     },
     "metadata": {},
     "output_type": "display_data"
    }
   ],
   "source": [
    "ordinal_cols"
   ]
  },
  {
   "cell_type": "code",
   "execution_count": 575,
   "id": "cb00dec4-46c7-4e7b-a85d-d52eb0223502",
   "metadata": {
    "scrolled": true
   },
   "outputs": [
    {
     "name": "stdout",
     "output_type": "stream",
     "text": [
      "\n",
      " \n",
      "   Cell Contents\n",
      "|-------------------------|\n",
      "|                       N |\n",
      "|           N / Row Total |\n",
      "|           N / Col Total |\n",
      "|         N / Table Total |\n",
      "|-------------------------|\n",
      "\n",
      " \n",
      "Total Observations in Table:  253680 \n",
      "\n",
      " \n",
      "             | Diabetes_binary \n",
      "     GenHlth |         0 |         1 | Row Total | \n",
      "-------------|-----------|-----------|-----------|\n",
      "           1 |     44159 |      1140 |     45299 | \n",
      "             |     0.975 |     0.025 |     0.179 | \n",
      "             |     0.202 |     0.032 |           | \n",
      "             |     0.174 |     0.004 |           | \n",
      "-------------|-----------|-----------|-----------|\n",
      "           2 |     82703 |      6381 |     89084 | \n",
      "             |     0.928 |     0.072 |     0.351 | \n",
      "             |     0.379 |     0.181 |           | \n",
      "             |     0.326 |     0.025 |           | \n",
      "-------------|-----------|-----------|-----------|\n",
      "           3 |     62189 |     13457 |     75646 | \n",
      "             |     0.822 |     0.178 |     0.298 | \n",
      "             |     0.285 |     0.381 |           | \n",
      "             |     0.245 |     0.053 |           | \n",
      "-------------|-----------|-----------|-----------|\n",
      "           4 |     21780 |      9790 |     31570 | \n",
      "             |     0.690 |     0.310 |     0.124 | \n",
      "             |     0.100 |     0.277 |           | \n",
      "             |     0.086 |     0.039 |           | \n",
      "-------------|-----------|-----------|-----------|\n",
      "           5 |      7503 |      4578 |     12081 | \n",
      "             |     0.621 |     0.379 |     0.048 | \n",
      "             |     0.034 |     0.130 |           | \n",
      "             |     0.030 |     0.018 |           | \n",
      "-------------|-----------|-----------|-----------|\n",
      "Column Total |    218334 |     35346 |    253680 | \n",
      "             |     0.861 |     0.139 |           | \n",
      "-------------|-----------|-----------|-----------|\n",
      "\n",
      " \n",
      "Statistics for All Table Factors\n",
      "\n",
      "\n",
      "Pearson's Chi-squared test \n",
      "------------------------------------------------------------\n",
      "Chi^2 =  22728.07     d.f. =  4     p =  0 \n",
      "\n",
      "\n",
      " \n",
      "\n",
      " \n",
      "   Cell Contents\n",
      "|-------------------------|\n",
      "|                       N |\n",
      "|           N / Row Total |\n",
      "|           N / Col Total |\n",
      "|         N / Table Total |\n",
      "|-------------------------|\n",
      "\n",
      " \n",
      "Total Observations in Table:  253680 \n",
      "\n",
      " \n",
      "             | Diabetes_binary \n",
      "         Age |         0 |         1 | Row Total | \n",
      "-------------|-----------|-----------|-----------|\n",
      "           1 |      5622 |        78 |      5700 | \n",
      "             |     0.986 |     0.014 |     0.022 | \n",
      "             |     0.026 |     0.002 |           | \n",
      "             |     0.022 |     0.000 |           | \n",
      "-------------|-----------|-----------|-----------|\n",
      "           2 |      7458 |       140 |      7598 | \n",
      "             |     0.982 |     0.018 |     0.030 | \n",
      "             |     0.034 |     0.004 |           | \n",
      "             |     0.029 |     0.001 |           | \n",
      "-------------|-----------|-----------|-----------|\n",
      "           3 |     10809 |       314 |     11123 | \n",
      "             |     0.972 |     0.028 |     0.044 | \n",
      "             |     0.050 |     0.009 |           | \n",
      "             |     0.043 |     0.001 |           | \n",
      "-------------|-----------|-----------|-----------|\n",
      "           4 |     13197 |       626 |     13823 | \n",
      "             |     0.955 |     0.045 |     0.054 | \n",
      "             |     0.060 |     0.018 |           | \n",
      "             |     0.052 |     0.002 |           | \n",
      "-------------|-----------|-----------|-----------|\n",
      "           5 |     15106 |      1051 |     16157 | \n",
      "             |     0.935 |     0.065 |     0.064 | \n",
      "             |     0.069 |     0.030 |           | \n",
      "             |     0.060 |     0.004 |           | \n",
      "-------------|-----------|-----------|-----------|\n",
      "           6 |     18077 |      1742 |     19819 | \n",
      "             |     0.912 |     0.088 |     0.078 | \n",
      "             |     0.083 |     0.049 |           | \n",
      "             |     0.071 |     0.007 |           | \n",
      "-------------|-----------|-----------|-----------|\n",
      "           7 |     23226 |      3088 |     26314 | \n",
      "             |     0.883 |     0.117 |     0.104 | \n",
      "             |     0.106 |     0.087 |           | \n",
      "             |     0.092 |     0.012 |           | \n",
      "-------------|-----------|-----------|-----------|\n",
      "           8 |     26569 |      4263 |     30832 | \n",
      "             |     0.862 |     0.138 |     0.122 | \n",
      "             |     0.122 |     0.121 |           | \n",
      "             |     0.105 |     0.017 |           | \n",
      "-------------|-----------|-----------|-----------|\n",
      "           9 |     27511 |      5733 |     33244 | \n",
      "             |     0.828 |     0.172 |     0.131 | \n",
      "             |     0.126 |     0.162 |           | \n",
      "             |     0.108 |     0.023 |           | \n",
      "-------------|-----------|-----------|-----------|\n",
      "          10 |     25636 |      6558 |     32194 | \n",
      "             |     0.796 |     0.204 |     0.127 | \n",
      "             |     0.117 |     0.186 |           | \n",
      "             |     0.101 |     0.026 |           | \n",
      "-------------|-----------|-----------|-----------|\n",
      "          11 |     18392 |      5141 |     23533 | \n",
      "             |     0.782 |     0.218 |     0.093 | \n",
      "             |     0.084 |     0.145 |           | \n",
      "             |     0.073 |     0.020 |           | \n",
      "-------------|-----------|-----------|-----------|\n",
      "          12 |     12577 |      3403 |     15980 | \n",
      "             |     0.787 |     0.213 |     0.063 | \n",
      "             |     0.058 |     0.096 |           | \n",
      "             |     0.050 |     0.013 |           | \n",
      "-------------|-----------|-----------|-----------|\n",
      "          13 |     14154 |      3209 |     17363 | \n",
      "             |     0.815 |     0.185 |     0.068 | \n",
      "             |     0.065 |     0.091 |           | \n",
      "             |     0.056 |     0.013 |           | \n",
      "-------------|-----------|-----------|-----------|\n",
      "Column Total |    218334 |     35346 |    253680 | \n",
      "             |     0.861 |     0.139 |           | \n",
      "-------------|-----------|-----------|-----------|\n",
      "\n",
      " \n",
      "Statistics for All Table Factors\n",
      "\n",
      "\n",
      "Pearson's Chi-squared test \n",
      "------------------------------------------------------------\n",
      "Chi^2 =  8795.051     d.f. =  12     p =  0 \n",
      "\n",
      "\n",
      " \n",
      "\n",
      " \n",
      "   Cell Contents\n",
      "|-------------------------|\n",
      "|                       N |\n",
      "|           N / Row Total |\n",
      "|           N / Col Total |\n",
      "|         N / Table Total |\n",
      "|-------------------------|\n",
      "\n",
      " \n",
      "Total Observations in Table:  253680 \n",
      "\n",
      " \n",
      "             | Diabetes_binary \n",
      "   Education |         0 |         1 | Row Total | \n",
      "-------------|-----------|-----------|-----------|\n",
      "           1 |       127 |        47 |       174 | \n",
      "             |     0.730 |     0.270 |     0.001 | \n",
      "             |     0.001 |     0.001 |           | \n",
      "             |     0.001 |     0.000 |           | \n",
      "-------------|-----------|-----------|-----------|\n",
      "           2 |      2860 |      1183 |      4043 | \n",
      "             |     0.707 |     0.293 |     0.016 | \n",
      "             |     0.013 |     0.033 |           | \n",
      "             |     0.011 |     0.005 |           | \n",
      "-------------|-----------|-----------|-----------|\n",
      "           3 |      7182 |      2296 |      9478 | \n",
      "             |     0.758 |     0.242 |     0.037 | \n",
      "             |     0.033 |     0.065 |           | \n",
      "             |     0.028 |     0.009 |           | \n",
      "-------------|-----------|-----------|-----------|\n",
      "           4 |     51684 |     11066 |     62750 | \n",
      "             |     0.824 |     0.176 |     0.247 | \n",
      "             |     0.237 |     0.313 |           | \n",
      "             |     0.204 |     0.044 |           | \n",
      "-------------|-----------|-----------|-----------|\n",
      "           5 |     59556 |     10354 |     69910 | \n",
      "             |     0.852 |     0.148 |     0.276 | \n",
      "             |     0.273 |     0.293 |           | \n",
      "             |     0.235 |     0.041 |           | \n",
      "-------------|-----------|-----------|-----------|\n",
      "           6 |     96925 |     10400 |    107325 | \n",
      "             |     0.903 |     0.097 |     0.423 | \n",
      "             |     0.444 |     0.294 |           | \n",
      "             |     0.382 |     0.041 |           | \n",
      "-------------|-----------|-----------|-----------|\n",
      "Column Total |    218334 |     35346 |    253680 | \n",
      "             |     0.861 |     0.139 |           | \n",
      "-------------|-----------|-----------|-----------|\n",
      "\n",
      " \n",
      "Statistics for All Table Factors\n",
      "\n",
      "\n",
      "Pearson's Chi-squared test \n",
      "------------------------------------------------------------\n",
      "Chi^2 =  4027.112     d.f. =  5     p =  0 \n",
      "\n",
      "\n",
      " \n",
      "\n",
      " \n",
      "   Cell Contents\n",
      "|-------------------------|\n",
      "|                       N |\n",
      "|           N / Row Total |\n",
      "|           N / Col Total |\n",
      "|         N / Table Total |\n",
      "|-------------------------|\n",
      "\n",
      " \n",
      "Total Observations in Table:  253680 \n",
      "\n",
      " \n",
      "             | Diabetes_binary \n",
      "      Income |         0 |         1 | Row Total | \n",
      "-------------|-----------|-----------|-----------|\n",
      "           1 |      7428 |      2383 |      9811 | \n",
      "             |     0.757 |     0.243 |     0.039 | \n",
      "             |     0.034 |     0.067 |           | \n",
      "             |     0.029 |     0.009 |           | \n",
      "-------------|-----------|-----------|-----------|\n",
      "           2 |      8697 |      3086 |     11783 | \n",
      "             |     0.738 |     0.262 |     0.046 | \n",
      "             |     0.040 |     0.087 |           | \n",
      "             |     0.034 |     0.012 |           | \n",
      "-------------|-----------|-----------|-----------|\n",
      "           3 |     12426 |      3568 |     15994 | \n",
      "             |     0.777 |     0.223 |     0.063 | \n",
      "             |     0.057 |     0.101 |           | \n",
      "             |     0.049 |     0.014 |           | \n",
      "-------------|-----------|-----------|-----------|\n",
      "           4 |     16081 |      4054 |     20135 | \n",
      "             |     0.799 |     0.201 |     0.079 | \n",
      "             |     0.074 |     0.115 |           | \n",
      "             |     0.063 |     0.016 |           | \n",
      "-------------|-----------|-----------|-----------|\n",
      "           5 |     21379 |      4504 |     25883 | \n",
      "             |     0.826 |     0.174 |     0.102 | \n",
      "             |     0.098 |     0.127 |           | \n",
      "             |     0.084 |     0.018 |           | \n",
      "-------------|-----------|-----------|-----------|\n",
      "           6 |     31179 |      5291 |     36470 | \n",
      "             |     0.855 |     0.145 |     0.144 | \n",
      "             |     0.143 |     0.150 |           | \n",
      "             |     0.123 |     0.021 |           | \n",
      "-------------|-----------|-----------|-----------|\n",
      "           7 |     37954 |      5265 |     43219 | \n",
      "             |     0.878 |     0.122 |     0.170 | \n",
      "             |     0.174 |     0.149 |           | \n",
      "             |     0.150 |     0.021 |           | \n",
      "-------------|-----------|-----------|-----------|\n",
      "           8 |     83190 |      7195 |     90385 | \n",
      "             |     0.920 |     0.080 |     0.356 | \n",
      "             |     0.381 |     0.204 |           | \n",
      "             |     0.328 |     0.028 |           | \n",
      "-------------|-----------|-----------|-----------|\n",
      "Column Total |    218334 |     35346 |    253680 | \n",
      "             |     0.861 |     0.139 |           | \n",
      "-------------|-----------|-----------|-----------|\n",
      "\n",
      " \n",
      "Statistics for All Table Factors\n",
      "\n",
      "\n",
      "Pearson's Chi-squared test \n",
      "------------------------------------------------------------\n",
      "Chi^2 =  7003.715     d.f. =  7     p =  0 \n",
      "\n",
      "\n",
      " \n"
     ]
    }
   ],
   "source": [
    "for (ord_col in ordinal_cols)\n",
    "{\n",
    "    summary_categorical_variables(df, ord_col, response_col, is.binary = F)\n",
    "}"
   ]
  },
  {
   "cell_type": "code",
   "execution_count": 576,
   "id": "91454db6-74db-4e3b-b194-409e47e923b6",
   "metadata": {},
   "outputs": [],
   "source": [
    "plot_ordinal_data = function(dataframe, ordinal_col)\n",
    "{\n",
    "    barplot(summary(factor(dataframe[no_diabetes_rows, ][, ordinal_col])), main = sprintf(\"no_diabetes_rows - %s\", ordinal_col),\n",
    "           col = MAIN_COLOR, las = 1, lwd = 2)\n",
    "    barplot(summary(factor(dataframe[with_diabetes_rows, ][, ordinal_col])), main = sprintf(\"no_diabetes_rows - %s\", ordinal_col),\n",
    "           col = MAIN_COLOR, las = 1, lwd = 2)\n",
    "}"
   ]
  },
  {
   "cell_type": "markdown",
   "id": "238be730-64df-4e29-9b15-ba4e1c0dbafa",
   "metadata": {},
   "source": [
    "#### 3.6.1. GenHlth"
   ]
  },
  {
   "cell_type": "code",
   "execution_count": 577,
   "id": "278ec338-8903-4c64-84fb-67093d643b89",
   "metadata": {},
   "outputs": [
    {
     "data": {
      "image/png": "[encoded data removed]",
      "text/plain": [
       "Plot with title \"no_diabetes_rows - GenHlth\""
      ]
     },
     "metadata": {
      "image/png": {
       "height": 420,
       "width": 420
      }
     },
     "output_type": "display_data"
    },
    {
     "data": {
      "image/png": "[encoded data removed]",
      "text/plain": [
       "Plot with title \"no_diabetes_rows - GenHlth\""
      ]
     },
     "metadata": {
      "image/png": {
       "height": 420,
       "width": 420
      }
     },
     "output_type": "display_data"
    }
   ],
   "source": [
    "plot_ordinal_data(balanced_training_data, \"GenHlth\")"
   ]
  },
  {
   "cell_type": "markdown",
   "id": "fc971f1f-1020-43be-a89d-6923a8198581",
   "metadata": {},
   "source": [
    "#### 3.6.2. Age"
   ]
  },
  {
   "cell_type": "code",
   "execution_count": 578,
   "id": "832a0fb7-1c0e-41f7-bf37-6300f160b594",
   "metadata": {},
   "outputs": [
    {
     "data": {
      "image/png": "[encoded data removed]",
      "text/plain": [
       "Plot with title \"no_diabetes_rows - Age\""
      ]
     },
     "metadata": {
      "image/png": {
       "height": 420,
       "width": 420
      }
     },
     "output_type": "display_data"
    },
    {
     "data": {
      "image/png": "[encoded data removed]",
      "text/plain": [
       "Plot with title \"no_diabetes_rows - Age\""
      ]
     },
     "metadata": {
      "image/png": {
       "height": 420,
       "width": 420
      }
     },
     "output_type": "display_data"
    }
   ],
   "source": [
    "plot_ordinal_data(balanced_training_data, \"Age\")"
   ]
  },
  {
   "cell_type": "markdown",
   "id": "b0cf75fc-2b60-4440-a95c-43cbd6acdde4",
   "metadata": {},
   "source": [
    "#### 3.6.3. Education"
   ]
  },
  {
   "cell_type": "code",
   "execution_count": 579,
   "id": "143797d1-5806-41c8-a7c9-ea8c5767bf5d",
   "metadata": {},
   "outputs": [
    {
     "data": {
      "image/png": "[encoded data removed]",
      "text/plain": [
       "Plot with title \"no_diabetes_rows - Education\""
      ]
     },
     "metadata": {
      "image/png": {
       "height": 420,
       "width": 420
      }
     },
     "output_type": "display_data"
    },
    {
     "data": {
      "image/png": "[encoded data removed]",
      "text/plain": [
       "Plot with title \"no_diabetes_rows - Education\""
      ]
     },
     "metadata": {
      "image/png": {
       "height": 420,
       "width": 420
      }
     },
     "output_type": "display_data"
    }
   ],
   "source": [
    "plot_ordinal_data(balanced_training_data, \"Education\")"
   ]
  },
  {
   "cell_type": "markdown",
   "id": "e99d15f8-0d1c-4815-a5c7-dd7266803c37",
   "metadata": {},
   "source": [
    "#### 3.6.4. Income"
   ]
  },
  {
   "cell_type": "code",
   "execution_count": 580,
   "id": "a39f7a15-58b9-4edc-a462-fd8575962eab",
   "metadata": {},
   "outputs": [
    {
     "data": {
      "image/png": "[encoded data removed]",
      "text/plain": [
       "Plot with title \"no_diabetes_rows - Income\""
      ]
     },
     "metadata": {
      "image/png": {
       "height": 420,
       "width": 420
      }
     },
     "output_type": "display_data"
    },
    {
     "data": {
      "image/png": "[encoded data removed]",
      "text/plain": [
       "Plot with title \"no_diabetes_rows - Income\""
      ]
     },
     "metadata": {
      "image/png": {
       "height": 420,
       "width": 420
      }
     },
     "output_type": "display_data"
    }
   ],
   "source": [
    "plot_ordinal_data(balanced_training_data, \"Income\")"
   ]
  },
  {
   "cell_type": "markdown",
   "id": "e3351bdb-1506-4518-af0c-d1facbd47397",
   "metadata": {},
   "source": [
    "### 3.7. Correlation analysis"
   ]
  },
  {
   "cell_type": "code",
   "execution_count": 581,
   "id": "f37e8aa4-024a-41ae-96c9-bb634af5d609",
   "metadata": {},
   "outputs": [],
   "source": [
    "all_colnames = colnames(balanced_training_data)"
   ]
  },
  {
   "cell_type": "code",
   "execution_count": 582,
   "id": "2f33bf34-e7e4-4ca9-86a5-2128a93e1bb0",
   "metadata": {},
   "outputs": [],
   "source": [
    "correlation_matrix = matrix(0, nrow = length(all_colnames), ncol = length(all_colnames), dimnames = list(all_colnames, all_colnames))"
   ]
  },
  {
   "cell_type": "code",
   "execution_count": 583,
   "id": "4f167a1c-17f5-46a5-aaa4-4cb1b124f48a",
   "metadata": {},
   "outputs": [],
   "source": [
    "for (row_index in 1:nrow(correlation_matrix))\n",
    "{\n",
    "    for (col_index in row_index:ncol(correlation_matrix))\n",
    "    {\n",
    "        if (row_index == col_index)\n",
    "        {\n",
    "            correlation_matrix[row_index, col_index] = 1\n",
    "        }\n",
    "        else\n",
    "        {\n",
    "            correlation_matrix[row_index, col_index] = get_correlation(balanced_training_data, all_colnames[row_index],\n",
    "                                                                       all_colnames[col_index], numerical_cols, \n",
    "                                                                       binary_cols, ordinal_cols, response_col)\n",
    "        }\n",
    "    }    \n",
    "}"
   ]
  },
  {
   "cell_type": "code",
   "execution_count": 584,
   "id": "e019bce1-0842-481f-b55a-0adfd30d9c12",
   "metadata": {},
   "outputs": [
    {
     "data": {
      "text/html": [
       "<table class=\"dataframe\">\n",
       "<caption>A matrix: 22 × 22 of type dbl</caption>\n",
       "<thead>\n",
       "\t<tr><th></th><th scope=col>HighBP</th><th scope=col>HighChol</th><th scope=col>CholCheck</th><th scope=col>BMI</th><th scope=col>Smoker</th><th scope=col>Stroke</th><th scope=col>HeartDiseaseorAttack</th><th scope=col>PhysActivity</th><th scope=col>Fruits</th><th scope=col>Veggies</th><th scope=col>⋯</th><th scope=col>NoDocbcCost</th><th scope=col>GenHlth</th><th scope=col>MentHlth</th><th scope=col>PhysHlth</th><th scope=col>DiffWalk</th><th scope=col>Sex</th><th scope=col>Age</th><th scope=col>Education</th><th scope=col>Income</th><th scope=col>Diabetes_binary</th></tr>\n",
       "</thead>\n",
       "<tbody>\n",
       "\t<tr><th scope=row>HighBP</th><td>1</td><td>0.3161</td><td>0.10680</td><td>0.23972952</td><td>0.08723000</td><td>0.12740000</td><td>0.20820000</td><td> 0.1365000</td><td> 0.0433300</td><td> 0.06478000</td><td>⋯</td><td>0.02569000</td><td> 0.29413475</td><td> 0.067531339</td><td> 0.172817573</td><td>0.2389000</td><td> 0.04024000</td><td> 0.274080290</td><td>-0.140475014</td><td>-0.1776114917</td><td> 0.38030000</td></tr>\n",
       "\t<tr><th scope=row>HighChol</th><td>0</td><td>1.0000</td><td>0.08783</td><td>0.12472293</td><td>0.09529000</td><td>0.09491000</td><td>0.17680000</td><td> 0.0902200</td><td> 0.0450000</td><td> 0.04318000</td><td>⋯</td><td>0.03129000</td><td> 0.21754848</td><td> 0.087920665</td><td> 0.140314588</td><td>0.1632000</td><td> 0.01806000</td><td> 0.184665370</td><td>-0.078991430</td><td>-0.1004524322</td><td> 0.28700000</td></tr>\n",
       "\t<tr><th scope=row>CholCheck</th><td>0</td><td>0.0000</td><td>1.00000</td><td>0.04872112</td><td>0.00228300</td><td>0.02475000</td><td>0.04482000</td><td> 0.0076440</td><td> 0.0159500</td><td> 0.00164900</td><td>⋯</td><td>0.05011000</td><td> 0.05799860</td><td>-0.002907355</td><td> 0.034417578</td><td>0.0491800</td><td> 0.01281000</td><td> 0.081417680</td><td>-0.008976256</td><td>-0.0007136125</td><td> 0.11380000</td></tr>\n",
       "\t<tr><th scope=row>BMI</th><td>0</td><td>0.0000</td><td>0.00000</td><td>1.00000000</td><td>0.01219908</td><td>0.02083222</td><td>0.05649684</td><td>-0.1685938</td><td>-0.0876854</td><td>-0.05821772</td><td>⋯</td><td>0.06662242</td><td> 0.21962258</td><td> 0.107144718</td><td> 0.159940304</td><td>0.2479799</td><td> 0.00130982</td><td>-0.030861161</td><td>-0.095596596</td><td>-0.0909353838</td><td> 0.28927267</td></tr>\n",
       "\t<tr><th scope=row>Smoker</th><td>0</td><td>0.0000</td><td>0.00000</td><td>0.00000000</td><td>1.00000000</td><td>0.06067000</td><td>0.12400000</td><td> 0.0733200</td><td> 0.0708900</td><td> 0.02699000</td><td>⋯</td><td>0.02994000</td><td> 0.13448434</td><td> 0.086437566</td><td> 0.115390506</td><td>0.1169000</td><td> 0.11530000</td><td> 0.084485757</td><td>-0.139028003</td><td>-0.1034390726</td><td> 0.08673000</td></tr>\n",
       "\t<tr><th scope=row>Stroke</th><td>0</td><td>0.0000</td><td>0.00000</td><td>0.00000000</td><td>0.00000000</td><td>1.00000000</td><td>0.21780000</td><td> 0.0761400</td><td> 0.0133300</td><td> 0.04625000</td><td>⋯</td><td>0.03784000</td><td> 0.16302902</td><td> 0.089709240</td><td> 0.159998623</td><td>0.1908000</td><td> 0.00275800</td><td> 0.101616530</td><td>-0.068361115</td><td>-0.1198730475</td><td> 0.12480000</td></tr>\n",
       "\t<tr><th scope=row>HeartDiseaseorAttack</th><td>0</td><td>0.0000</td><td>0.00000</td><td>0.00000000</td><td>0.00000000</td><td>0.00000000</td><td>1.00000000</td><td> 0.0975000</td><td> 0.0226800</td><td> 0.03646000</td><td>⋯</td><td>0.03076000</td><td> 0.24461421</td><td> 0.081737881</td><td> 0.197701639</td><td>0.2377000</td><td> 0.10130000</td><td> 0.192853204</td><td>-0.089525866</td><td>-0.1342276385</td><td> 0.21090000</td></tr>\n",
       "\t<tr><th scope=row>PhysActivity</th><td>0</td><td>0.0000</td><td>0.00000</td><td>0.00000000</td><td>0.00000000</td><td>0.00000000</td><td>0.00000000</td><td> 1.0000000</td><td> 0.1307000</td><td> 0.15100000</td><td>⋯</td><td>0.06168000</td><td>-0.24834313</td><td>-0.134185459</td><td>-0.237014387</td><td>0.2768000</td><td> 0.05084000</td><td>-0.080109208</td><td> 0.178288872</td><td> 0.1800410085</td><td> 0.16060000</td></tr>\n",
       "\t<tr><th scope=row>Fruits</th><td>0</td><td>0.0000</td><td>0.00000</td><td>0.00000000</td><td>0.00000000</td><td>0.00000000</td><td>0.00000000</td><td> 0.0000000</td><td> 1.0000000</td><td> 0.24340000</td><td>⋯</td><td>0.03596000</td><td>-0.08803681</td><td>-0.061598266</td><td>-0.046981788</td><td>0.0529100</td><td> 0.09214000</td><td> 0.055994888</td><td> 0.095528806</td><td> 0.0628753221</td><td> 0.05769000</td></tr>\n",
       "\t<tr><th scope=row>Veggies</th><td>0</td><td>0.0000</td><td>0.00000</td><td>0.00000000</td><td>0.00000000</td><td>0.00000000</td><td>0.00000000</td><td> 0.0000000</td><td> 0.0000000</td><td> 1.00000000</td><td>⋯</td><td>0.03460000</td><td>-0.10855775</td><td>-0.060113798</td><td>-0.068801398</td><td>0.0860600</td><td> 0.05272000</td><td>-0.012678996</td><td> 0.142789940</td><td> 0.1357496833</td><td> 0.07734000</td></tr>\n",
       "\t<tr><th scope=row>HvyAlcoholConsump</th><td>0</td><td>0.0000</td><td>0.00000</td><td>0.00000000</td><td>0.00000000</td><td>0.00000000</td><td>0.00000000</td><td> 0.0000000</td><td> 0.0000000</td><td> 0.00000000</td><td>⋯</td><td>0.00197200</td><td>-0.05342980</td><td> 0.014726767</td><td>-0.037817478</td><td>0.0485200</td><td> 0.01638000</td><td>-0.048225617</td><td> 0.030762870</td><td> 0.0583723876</td><td> 0.09441000</td></tr>\n",
       "\t<tr><th scope=row>AnyHealthcare</th><td>0</td><td>0.0000</td><td>0.00000</td><td>0.00000000</td><td>0.00000000</td><td>0.00000000</td><td>0.00000000</td><td> 0.0000000</td><td> 0.0000000</td><td> 0.00000000</td><td>⋯</td><td>0.22560000</td><td>-0.03230298</td><td>-0.053130857</td><td>-0.006324262</td><td>0.0112200</td><td> 0.00318500</td><td> 0.122381022</td><td> 0.090603794</td><td> 0.1153451397</td><td> 0.02504000</td></tr>\n",
       "\t<tr><th scope=row>NoDocbcCost</th><td>0</td><td>0.0000</td><td>0.00000</td><td>0.00000000</td><td>0.00000000</td><td>0.00000000</td><td>0.00000000</td><td> 0.0000000</td><td> 0.0000000</td><td> 0.00000000</td><td>⋯</td><td>1.00000000</td><td> 0.14873701</td><td> 0.189044234</td><td> 0.152220165</td><td>0.1210000</td><td> 0.05011000</td><td>-0.121022962</td><td>-0.087438304</td><td>-0.1718530729</td><td> 0.04487000</td></tr>\n",
       "\t<tr><th scope=row>GenHlth</th><td>0</td><td>0.0000</td><td>0.00000</td><td>0.00000000</td><td>0.00000000</td><td>0.00000000</td><td>0.00000000</td><td> 0.0000000</td><td> 0.0000000</td><td> 0.00000000</td><td>⋯</td><td>0.00000000</td><td> 1.00000000</td><td> 0.230601746</td><td> 0.442982304</td><td>0.4248444</td><td>-0.01724049</td><td> 0.106735751</td><td>-0.239252013</td><td>-0.3130254469</td><td> 0.37577961</td></tr>\n",
       "\t<tr><th scope=row>MentHlth</th><td>0</td><td>0.0000</td><td>0.00000</td><td>0.00000000</td><td>0.00000000</td><td>0.00000000</td><td>0.00000000</td><td> 0.0000000</td><td> 0.0000000</td><td> 0.00000000</td><td>⋯</td><td>0.00000000</td><td> 0.00000000</td><td> 1.000000000</td><td> 0.380743315</td><td>0.2508706</td><td>-0.08552942</td><td>-0.131773561</td><td>-0.063012165</td><td>-0.1446943578</td><td> 0.09027696</td></tr>\n",
       "\t<tr><th scope=row>PhysHlth</th><td>0</td><td>0.0000</td><td>0.00000</td><td>0.00000000</td><td>0.00000000</td><td>0.00000000</td><td>0.00000000</td><td> 0.0000000</td><td> 0.0000000</td><td> 0.00000000</td><td>⋯</td><td>0.00000000</td><td> 0.00000000</td><td> 0.000000000</td><td> 1.000000000</td><td>0.4876516</td><td>-0.04636587</td><td> 0.034508590</td><td>-0.116981434</td><td>-0.2101827717</td><td> 0.21495084</td></tr>\n",
       "\t<tr><th scope=row>DiffWalk</th><td>0</td><td>0.0000</td><td>0.00000</td><td>0.00000000</td><td>0.00000000</td><td>0.00000000</td><td>0.00000000</td><td> 0.0000000</td><td> 0.0000000</td><td> 0.00000000</td><td>⋯</td><td>0.00000000</td><td> 0.00000000</td><td> 0.000000000</td><td> 0.000000000</td><td>1.0000000</td><td> 0.08409000</td><td> 0.157437153</td><td>-0.185693267</td><td>-0.2976185385</td><td> 0.27300000</td></tr>\n",
       "\t<tr><th scope=row>Sex</th><td>0</td><td>0.0000</td><td>0.00000</td><td>0.00000000</td><td>0.00000000</td><td>0.00000000</td><td>0.00000000</td><td> 0.0000000</td><td> 0.0000000</td><td> 0.00000000</td><td>⋯</td><td>0.00000000</td><td> 0.00000000</td><td> 0.000000000</td><td> 0.000000000</td><td>0.0000000</td><td> 1.00000000</td><td>-0.001516265</td><td> 0.046831942</td><td> 0.1376890578</td><td> 0.04718000</td></tr>\n",
       "\t<tr><th scope=row>Age</th><td>0</td><td>0.0000</td><td>0.00000</td><td>0.00000000</td><td>0.00000000</td><td>0.00000000</td><td>0.00000000</td><td> 0.0000000</td><td> 0.0000000</td><td> 0.00000000</td><td>⋯</td><td>0.00000000</td><td> 0.00000000</td><td> 0.000000000</td><td> 0.000000000</td><td>0.0000000</td><td> 0.00000000</td><td> 1.000000000</td><td>-0.081990948</td><td>-0.1339235646</td><td> 0.22099060</td></tr>\n",
       "\t<tr><th scope=row>Education</th><td>0</td><td>0.0000</td><td>0.00000</td><td>0.00000000</td><td>0.00000000</td><td>0.00000000</td><td>0.00000000</td><td> 0.0000000</td><td> 0.0000000</td><td> 0.00000000</td><td>⋯</td><td>0.00000000</td><td> 0.00000000</td><td> 0.000000000</td><td> 0.000000000</td><td>0.0000000</td><td> 0.00000000</td><td> 0.000000000</td><td> 1.000000000</td><td> 0.3843063426</td><td>-0.15642755</td></tr>\n",
       "\t<tr><th scope=row>Income</th><td>0</td><td>0.0000</td><td>0.00000</td><td>0.00000000</td><td>0.00000000</td><td>0.00000000</td><td>0.00000000</td><td> 0.0000000</td><td> 0.0000000</td><td> 0.00000000</td><td>⋯</td><td>0.00000000</td><td> 0.00000000</td><td> 0.000000000</td><td> 0.000000000</td><td>0.0000000</td><td> 0.00000000</td><td> 0.000000000</td><td> 0.000000000</td><td> 1.0000000000</td><td>-0.20611271</td></tr>\n",
       "\t<tr><th scope=row>Diabetes_binary</th><td>0</td><td>0.0000</td><td>0.00000</td><td>0.00000000</td><td>0.00000000</td><td>0.00000000</td><td>0.00000000</td><td> 0.0000000</td><td> 0.0000000</td><td> 0.00000000</td><td>⋯</td><td>0.00000000</td><td> 0.00000000</td><td> 0.000000000</td><td> 0.000000000</td><td>0.0000000</td><td> 0.00000000</td><td> 0.000000000</td><td> 0.000000000</td><td> 0.0000000000</td><td> 1.00000000</td></tr>\n",
       "</tbody>\n",
       "</table>\n"
      ],
      "text/latex": [
       "A matrix: 22 × 22 of type dbl\n",
       "\\begin{tabular}{r|lllllllllllllllllllll}\n",
       "  & HighBP & HighChol & CholCheck & BMI & Smoker & Stroke & HeartDiseaseorAttack & PhysActivity & Fruits & Veggies & ⋯ & NoDocbcCost & GenHlth & MentHlth & PhysHlth & DiffWalk & Sex & Age & Education & Income & Diabetes\\_binary\\\\\n",
       "\\hline\n",
       "\tHighBP & 1 & 0.3161 & 0.10680 & 0.23972952 & 0.08723000 & 0.12740000 & 0.20820000 &  0.1365000 &  0.0433300 &  0.06478000 & ⋯ & 0.02569000 &  0.29413475 &  0.067531339 &  0.172817573 & 0.2389000 &  0.04024000 &  0.274080290 & -0.140475014 & -0.1776114917 &  0.38030000\\\\\n",
       "\tHighChol & 0 & 1.0000 & 0.08783 & 0.12472293 & 0.09529000 & 0.09491000 & 0.17680000 &  0.0902200 &  0.0450000 &  0.04318000 & ⋯ & 0.03129000 &  0.21754848 &  0.087920665 &  0.140314588 & 0.1632000 &  0.01806000 &  0.184665370 & -0.078991430 & -0.1004524322 &  0.28700000\\\\\n",
       "\tCholCheck & 0 & 0.0000 & 1.00000 & 0.04872112 & 0.00228300 & 0.02475000 & 0.04482000 &  0.0076440 &  0.0159500 &  0.00164900 & ⋯ & 0.05011000 &  0.05799860 & -0.002907355 &  0.034417578 & 0.0491800 &  0.01281000 &  0.081417680 & -0.008976256 & -0.0007136125 &  0.11380000\\\\\n",
       "\tBMI & 0 & 0.0000 & 0.00000 & 1.00000000 & 0.01219908 & 0.02083222 & 0.05649684 & -0.1685938 & -0.0876854 & -0.05821772 & ⋯ & 0.06662242 &  0.21962258 &  0.107144718 &  0.159940304 & 0.2479799 &  0.00130982 & -0.030861161 & -0.095596596 & -0.0909353838 &  0.28927267\\\\\n",
       "\tSmoker & 0 & 0.0000 & 0.00000 & 0.00000000 & 1.00000000 & 0.06067000 & 0.12400000 &  0.0733200 &  0.0708900 &  0.02699000 & ⋯ & 0.02994000 &  0.13448434 &  0.086437566 &  0.115390506 & 0.1169000 &  0.11530000 &  0.084485757 & -0.139028003 & -0.1034390726 &  0.08673000\\\\\n",
       "\tStroke & 0 & 0.0000 & 0.00000 & 0.00000000 & 0.00000000 & 1.00000000 & 0.21780000 &  0.0761400 &  0.0133300 &  0.04625000 & ⋯ & 0.03784000 &  0.16302902 &  0.089709240 &  0.159998623 & 0.1908000 &  0.00275800 &  0.101616530 & -0.068361115 & -0.1198730475 &  0.12480000\\\\\n",
       "\tHeartDiseaseorAttack & 0 & 0.0000 & 0.00000 & 0.00000000 & 0.00000000 & 0.00000000 & 1.00000000 &  0.0975000 &  0.0226800 &  0.03646000 & ⋯ & 0.03076000 &  0.24461421 &  0.081737881 &  0.197701639 & 0.2377000 &  0.10130000 &  0.192853204 & -0.089525866 & -0.1342276385 &  0.21090000\\\\\n",
       "\tPhysActivity & 0 & 0.0000 & 0.00000 & 0.00000000 & 0.00000000 & 0.00000000 & 0.00000000 &  1.0000000 &  0.1307000 &  0.15100000 & ⋯ & 0.06168000 & -0.24834313 & -0.134185459 & -0.237014387 & 0.2768000 &  0.05084000 & -0.080109208 &  0.178288872 &  0.1800410085 &  0.16060000\\\\\n",
       "\tFruits & 0 & 0.0000 & 0.00000 & 0.00000000 & 0.00000000 & 0.00000000 & 0.00000000 &  0.0000000 &  1.0000000 &  0.24340000 & ⋯ & 0.03596000 & -0.08803681 & -0.061598266 & -0.046981788 & 0.0529100 &  0.09214000 &  0.055994888 &  0.095528806 &  0.0628753221 &  0.05769000\\\\\n",
       "\tVeggies & 0 & 0.0000 & 0.00000 & 0.00000000 & 0.00000000 & 0.00000000 & 0.00000000 &  0.0000000 &  0.0000000 &  1.00000000 & ⋯ & 0.03460000 & -0.10855775 & -0.060113798 & -0.068801398 & 0.0860600 &  0.05272000 & -0.012678996 &  0.142789940 &  0.1357496833 &  0.07734000\\\\\n",
       "\tHvyAlcoholConsump & 0 & 0.0000 & 0.00000 & 0.00000000 & 0.00000000 & 0.00000000 & 0.00000000 &  0.0000000 &  0.0000000 &  0.00000000 & ⋯ & 0.00197200 & -0.05342980 &  0.014726767 & -0.037817478 & 0.0485200 &  0.01638000 & -0.048225617 &  0.030762870 &  0.0583723876 &  0.09441000\\\\\n",
       "\tAnyHealthcare & 0 & 0.0000 & 0.00000 & 0.00000000 & 0.00000000 & 0.00000000 & 0.00000000 &  0.0000000 &  0.0000000 &  0.00000000 & ⋯ & 0.22560000 & -0.03230298 & -0.053130857 & -0.006324262 & 0.0112200 &  0.00318500 &  0.122381022 &  0.090603794 &  0.1153451397 &  0.02504000\\\\\n",
       "\tNoDocbcCost & 0 & 0.0000 & 0.00000 & 0.00000000 & 0.00000000 & 0.00000000 & 0.00000000 &  0.0000000 &  0.0000000 &  0.00000000 & ⋯ & 1.00000000 &  0.14873701 &  0.189044234 &  0.152220165 & 0.1210000 &  0.05011000 & -0.121022962 & -0.087438304 & -0.1718530729 &  0.04487000\\\\\n",
       "\tGenHlth & 0 & 0.0000 & 0.00000 & 0.00000000 & 0.00000000 & 0.00000000 & 0.00000000 &  0.0000000 &  0.0000000 &  0.00000000 & ⋯ & 0.00000000 &  1.00000000 &  0.230601746 &  0.442982304 & 0.4248444 & -0.01724049 &  0.106735751 & -0.239252013 & -0.3130254469 &  0.37577961\\\\\n",
       "\tMentHlth & 0 & 0.0000 & 0.00000 & 0.00000000 & 0.00000000 & 0.00000000 & 0.00000000 &  0.0000000 &  0.0000000 &  0.00000000 & ⋯ & 0.00000000 &  0.00000000 &  1.000000000 &  0.380743315 & 0.2508706 & -0.08552942 & -0.131773561 & -0.063012165 & -0.1446943578 &  0.09027696\\\\\n",
       "\tPhysHlth & 0 & 0.0000 & 0.00000 & 0.00000000 & 0.00000000 & 0.00000000 & 0.00000000 &  0.0000000 &  0.0000000 &  0.00000000 & ⋯ & 0.00000000 &  0.00000000 &  0.000000000 &  1.000000000 & 0.4876516 & -0.04636587 &  0.034508590 & -0.116981434 & -0.2101827717 &  0.21495084\\\\\n",
       "\tDiffWalk & 0 & 0.0000 & 0.00000 & 0.00000000 & 0.00000000 & 0.00000000 & 0.00000000 &  0.0000000 &  0.0000000 &  0.00000000 & ⋯ & 0.00000000 &  0.00000000 &  0.000000000 &  0.000000000 & 1.0000000 &  0.08409000 &  0.157437153 & -0.185693267 & -0.2976185385 &  0.27300000\\\\\n",
       "\tSex & 0 & 0.0000 & 0.00000 & 0.00000000 & 0.00000000 & 0.00000000 & 0.00000000 &  0.0000000 &  0.0000000 &  0.00000000 & ⋯ & 0.00000000 &  0.00000000 &  0.000000000 &  0.000000000 & 0.0000000 &  1.00000000 & -0.001516265 &  0.046831942 &  0.1376890578 &  0.04718000\\\\\n",
       "\tAge & 0 & 0.0000 & 0.00000 & 0.00000000 & 0.00000000 & 0.00000000 & 0.00000000 &  0.0000000 &  0.0000000 &  0.00000000 & ⋯ & 0.00000000 &  0.00000000 &  0.000000000 &  0.000000000 & 0.0000000 &  0.00000000 &  1.000000000 & -0.081990948 & -0.1339235646 &  0.22099060\\\\\n",
       "\tEducation & 0 & 0.0000 & 0.00000 & 0.00000000 & 0.00000000 & 0.00000000 & 0.00000000 &  0.0000000 &  0.0000000 &  0.00000000 & ⋯ & 0.00000000 &  0.00000000 &  0.000000000 &  0.000000000 & 0.0000000 &  0.00000000 &  0.000000000 &  1.000000000 &  0.3843063426 & -0.15642755\\\\\n",
       "\tIncome & 0 & 0.0000 & 0.00000 & 0.00000000 & 0.00000000 & 0.00000000 & 0.00000000 &  0.0000000 &  0.0000000 &  0.00000000 & ⋯ & 0.00000000 &  0.00000000 &  0.000000000 &  0.000000000 & 0.0000000 &  0.00000000 &  0.000000000 &  0.000000000 &  1.0000000000 & -0.20611271\\\\\n",
       "\tDiabetes\\_binary & 0 & 0.0000 & 0.00000 & 0.00000000 & 0.00000000 & 0.00000000 & 0.00000000 &  0.0000000 &  0.0000000 &  0.00000000 & ⋯ & 0.00000000 &  0.00000000 &  0.000000000 &  0.000000000 & 0.0000000 &  0.00000000 &  0.000000000 &  0.000000000 &  0.0000000000 &  1.00000000\\\\\n",
       "\\end{tabular}\n"
      ],
      "text/markdown": [
       "\n",
       "A matrix: 22 × 22 of type dbl\n",
       "\n",
       "| <!--/--> | HighBP | HighChol | CholCheck | BMI | Smoker | Stroke | HeartDiseaseorAttack | PhysActivity | Fruits | Veggies | ⋯ | NoDocbcCost | GenHlth | MentHlth | PhysHlth | DiffWalk | Sex | Age | Education | Income | Diabetes_binary |\n",
       "|---|---|---|---|---|---|---|---|---|---|---|---|---|---|---|---|---|---|---|---|---|---|\n",
       "| HighBP | 1 | 0.3161 | 0.10680 | 0.23972952 | 0.08723000 | 0.12740000 | 0.20820000 |  0.1365000 |  0.0433300 |  0.06478000 | ⋯ | 0.02569000 |  0.29413475 |  0.067531339 |  0.172817573 | 0.2389000 |  0.04024000 |  0.274080290 | -0.140475014 | -0.1776114917 |  0.38030000 |\n",
       "| HighChol | 0 | 1.0000 | 0.08783 | 0.12472293 | 0.09529000 | 0.09491000 | 0.17680000 |  0.0902200 |  0.0450000 |  0.04318000 | ⋯ | 0.03129000 |  0.21754848 |  0.087920665 |  0.140314588 | 0.1632000 |  0.01806000 |  0.184665370 | -0.078991430 | -0.1004524322 |  0.28700000 |\n",
       "| CholCheck | 0 | 0.0000 | 1.00000 | 0.04872112 | 0.00228300 | 0.02475000 | 0.04482000 |  0.0076440 |  0.0159500 |  0.00164900 | ⋯ | 0.05011000 |  0.05799860 | -0.002907355 |  0.034417578 | 0.0491800 |  0.01281000 |  0.081417680 | -0.008976256 | -0.0007136125 |  0.11380000 |\n",
       "| BMI | 0 | 0.0000 | 0.00000 | 1.00000000 | 0.01219908 | 0.02083222 | 0.05649684 | -0.1685938 | -0.0876854 | -0.05821772 | ⋯ | 0.06662242 |  0.21962258 |  0.107144718 |  0.159940304 | 0.2479799 |  0.00130982 | -0.030861161 | -0.095596596 | -0.0909353838 |  0.28927267 |\n",
       "| Smoker | 0 | 0.0000 | 0.00000 | 0.00000000 | 1.00000000 | 0.06067000 | 0.12400000 |  0.0733200 |  0.0708900 |  0.02699000 | ⋯ | 0.02994000 |  0.13448434 |  0.086437566 |  0.115390506 | 0.1169000 |  0.11530000 |  0.084485757 | -0.139028003 | -0.1034390726 |  0.08673000 |\n",
       "| Stroke | 0 | 0.0000 | 0.00000 | 0.00000000 | 0.00000000 | 1.00000000 | 0.21780000 |  0.0761400 |  0.0133300 |  0.04625000 | ⋯ | 0.03784000 |  0.16302902 |  0.089709240 |  0.159998623 | 0.1908000 |  0.00275800 |  0.101616530 | -0.068361115 | -0.1198730475 |  0.12480000 |\n",
       "| HeartDiseaseorAttack | 0 | 0.0000 | 0.00000 | 0.00000000 | 0.00000000 | 0.00000000 | 1.00000000 |  0.0975000 |  0.0226800 |  0.03646000 | ⋯ | 0.03076000 |  0.24461421 |  0.081737881 |  0.197701639 | 0.2377000 |  0.10130000 |  0.192853204 | -0.089525866 | -0.1342276385 |  0.21090000 |\n",
       "| PhysActivity | 0 | 0.0000 | 0.00000 | 0.00000000 | 0.00000000 | 0.00000000 | 0.00000000 |  1.0000000 |  0.1307000 |  0.15100000 | ⋯ | 0.06168000 | -0.24834313 | -0.134185459 | -0.237014387 | 0.2768000 |  0.05084000 | -0.080109208 |  0.178288872 |  0.1800410085 |  0.16060000 |\n",
       "| Fruits | 0 | 0.0000 | 0.00000 | 0.00000000 | 0.00000000 | 0.00000000 | 0.00000000 |  0.0000000 |  1.0000000 |  0.24340000 | ⋯ | 0.03596000 | -0.08803681 | -0.061598266 | -0.046981788 | 0.0529100 |  0.09214000 |  0.055994888 |  0.095528806 |  0.0628753221 |  0.05769000 |\n",
       "| Veggies | 0 | 0.0000 | 0.00000 | 0.00000000 | 0.00000000 | 0.00000000 | 0.00000000 |  0.0000000 |  0.0000000 |  1.00000000 | ⋯ | 0.03460000 | -0.10855775 | -0.060113798 | -0.068801398 | 0.0860600 |  0.05272000 | -0.012678996 |  0.142789940 |  0.1357496833 |  0.07734000 |\n",
       "| HvyAlcoholConsump | 0 | 0.0000 | 0.00000 | 0.00000000 | 0.00000000 | 0.00000000 | 0.00000000 |  0.0000000 |  0.0000000 |  0.00000000 | ⋯ | 0.00197200 | -0.05342980 |  0.014726767 | -0.037817478 | 0.0485200 |  0.01638000 | -0.048225617 |  0.030762870 |  0.0583723876 |  0.09441000 |\n",
       "| AnyHealthcare | 0 | 0.0000 | 0.00000 | 0.00000000 | 0.00000000 | 0.00000000 | 0.00000000 |  0.0000000 |  0.0000000 |  0.00000000 | ⋯ | 0.22560000 | -0.03230298 | -0.053130857 | -0.006324262 | 0.0112200 |  0.00318500 |  0.122381022 |  0.090603794 |  0.1153451397 |  0.02504000 |\n",
       "| NoDocbcCost | 0 | 0.0000 | 0.00000 | 0.00000000 | 0.00000000 | 0.00000000 | 0.00000000 |  0.0000000 |  0.0000000 |  0.00000000 | ⋯ | 1.00000000 |  0.14873701 |  0.189044234 |  0.152220165 | 0.1210000 |  0.05011000 | -0.121022962 | -0.087438304 | -0.1718530729 |  0.04487000 |\n",
       "| GenHlth | 0 | 0.0000 | 0.00000 | 0.00000000 | 0.00000000 | 0.00000000 | 0.00000000 |  0.0000000 |  0.0000000 |  0.00000000 | ⋯ | 0.00000000 |  1.00000000 |  0.230601746 |  0.442982304 | 0.4248444 | -0.01724049 |  0.106735751 | -0.239252013 | -0.3130254469 |  0.37577961 |\n",
       "| MentHlth | 0 | 0.0000 | 0.00000 | 0.00000000 | 0.00000000 | 0.00000000 | 0.00000000 |  0.0000000 |  0.0000000 |  0.00000000 | ⋯ | 0.00000000 |  0.00000000 |  1.000000000 |  0.380743315 | 0.2508706 | -0.08552942 | -0.131773561 | -0.063012165 | -0.1446943578 |  0.09027696 |\n",
       "| PhysHlth | 0 | 0.0000 | 0.00000 | 0.00000000 | 0.00000000 | 0.00000000 | 0.00000000 |  0.0000000 |  0.0000000 |  0.00000000 | ⋯ | 0.00000000 |  0.00000000 |  0.000000000 |  1.000000000 | 0.4876516 | -0.04636587 |  0.034508590 | -0.116981434 | -0.2101827717 |  0.21495084 |\n",
       "| DiffWalk | 0 | 0.0000 | 0.00000 | 0.00000000 | 0.00000000 | 0.00000000 | 0.00000000 |  0.0000000 |  0.0000000 |  0.00000000 | ⋯ | 0.00000000 |  0.00000000 |  0.000000000 |  0.000000000 | 1.0000000 |  0.08409000 |  0.157437153 | -0.185693267 | -0.2976185385 |  0.27300000 |\n",
       "| Sex | 0 | 0.0000 | 0.00000 | 0.00000000 | 0.00000000 | 0.00000000 | 0.00000000 |  0.0000000 |  0.0000000 |  0.00000000 | ⋯ | 0.00000000 |  0.00000000 |  0.000000000 |  0.000000000 | 0.0000000 |  1.00000000 | -0.001516265 |  0.046831942 |  0.1376890578 |  0.04718000 |\n",
       "| Age | 0 | 0.0000 | 0.00000 | 0.00000000 | 0.00000000 | 0.00000000 | 0.00000000 |  0.0000000 |  0.0000000 |  0.00000000 | ⋯ | 0.00000000 |  0.00000000 |  0.000000000 |  0.000000000 | 0.0000000 |  0.00000000 |  1.000000000 | -0.081990948 | -0.1339235646 |  0.22099060 |\n",
       "| Education | 0 | 0.0000 | 0.00000 | 0.00000000 | 0.00000000 | 0.00000000 | 0.00000000 |  0.0000000 |  0.0000000 |  0.00000000 | ⋯ | 0.00000000 |  0.00000000 |  0.000000000 |  0.000000000 | 0.0000000 |  0.00000000 |  0.000000000 |  1.000000000 |  0.3843063426 | -0.15642755 |\n",
       "| Income | 0 | 0.0000 | 0.00000 | 0.00000000 | 0.00000000 | 0.00000000 | 0.00000000 |  0.0000000 |  0.0000000 |  0.00000000 | ⋯ | 0.00000000 |  0.00000000 |  0.000000000 |  0.000000000 | 0.0000000 |  0.00000000 |  0.000000000 |  0.000000000 |  1.0000000000 | -0.20611271 |\n",
       "| Diabetes_binary | 0 | 0.0000 | 0.00000 | 0.00000000 | 0.00000000 | 0.00000000 | 0.00000000 |  0.0000000 |  0.0000000 |  0.00000000 | ⋯ | 0.00000000 |  0.00000000 |  0.000000000 |  0.000000000 | 0.0000000 |  0.00000000 |  0.000000000 |  0.000000000 |  0.0000000000 |  1.00000000 |\n",
       "\n"
      ],
      "text/plain": [
       "                     HighBP HighChol CholCheck BMI        Smoker     Stroke    \n",
       "HighBP               1      0.3161   0.10680   0.23972952 0.08723000 0.12740000\n",
       "HighChol             0      1.0000   0.08783   0.12472293 0.09529000 0.09491000\n",
       "CholCheck            0      0.0000   1.00000   0.04872112 0.00228300 0.02475000\n",
       "BMI                  0      0.0000   0.00000   1.00000000 0.01219908 0.02083222\n",
       "Smoker               0      0.0000   0.00000   0.00000000 1.00000000 0.06067000\n",
       "Stroke               0      0.0000   0.00000   0.00000000 0.00000000 1.00000000\n",
       "HeartDiseaseorAttack 0      0.0000   0.00000   0.00000000 0.00000000 0.00000000\n",
       "PhysActivity         0      0.0000   0.00000   0.00000000 0.00000000 0.00000000\n",
       "Fruits               0      0.0000   0.00000   0.00000000 0.00000000 0.00000000\n",
       "Veggies              0      0.0000   0.00000   0.00000000 0.00000000 0.00000000\n",
       "HvyAlcoholConsump    0      0.0000   0.00000   0.00000000 0.00000000 0.00000000\n",
       "AnyHealthcare        0      0.0000   0.00000   0.00000000 0.00000000 0.00000000\n",
       "NoDocbcCost          0      0.0000   0.00000   0.00000000 0.00000000 0.00000000\n",
       "GenHlth              0      0.0000   0.00000   0.00000000 0.00000000 0.00000000\n",
       "MentHlth             0      0.0000   0.00000   0.00000000 0.00000000 0.00000000\n",
       "PhysHlth             0      0.0000   0.00000   0.00000000 0.00000000 0.00000000\n",
       "DiffWalk             0      0.0000   0.00000   0.00000000 0.00000000 0.00000000\n",
       "Sex                  0      0.0000   0.00000   0.00000000 0.00000000 0.00000000\n",
       "Age                  0      0.0000   0.00000   0.00000000 0.00000000 0.00000000\n",
       "Education            0      0.0000   0.00000   0.00000000 0.00000000 0.00000000\n",
       "Income               0      0.0000   0.00000   0.00000000 0.00000000 0.00000000\n",
       "Diabetes_binary      0      0.0000   0.00000   0.00000000 0.00000000 0.00000000\n",
       "                     HeartDiseaseorAttack PhysActivity Fruits     Veggies    \n",
       "HighBP               0.20820000            0.1365000    0.0433300  0.06478000\n",
       "HighChol             0.17680000            0.0902200    0.0450000  0.04318000\n",
       "CholCheck            0.04482000            0.0076440    0.0159500  0.00164900\n",
       "BMI                  0.05649684           -0.1685938   -0.0876854 -0.05821772\n",
       "Smoker               0.12400000            0.0733200    0.0708900  0.02699000\n",
       "Stroke               0.21780000            0.0761400    0.0133300  0.04625000\n",
       "HeartDiseaseorAttack 1.00000000            0.0975000    0.0226800  0.03646000\n",
       "PhysActivity         0.00000000            1.0000000    0.1307000  0.15100000\n",
       "Fruits               0.00000000            0.0000000    1.0000000  0.24340000\n",
       "Veggies              0.00000000            0.0000000    0.0000000  1.00000000\n",
       "HvyAlcoholConsump    0.00000000            0.0000000    0.0000000  0.00000000\n",
       "AnyHealthcare        0.00000000            0.0000000    0.0000000  0.00000000\n",
       "NoDocbcCost          0.00000000            0.0000000    0.0000000  0.00000000\n",
       "GenHlth              0.00000000            0.0000000    0.0000000  0.00000000\n",
       "MentHlth             0.00000000            0.0000000    0.0000000  0.00000000\n",
       "PhysHlth             0.00000000            0.0000000    0.0000000  0.00000000\n",
       "DiffWalk             0.00000000            0.0000000    0.0000000  0.00000000\n",
       "Sex                  0.00000000            0.0000000    0.0000000  0.00000000\n",
       "Age                  0.00000000            0.0000000    0.0000000  0.00000000\n",
       "Education            0.00000000            0.0000000    0.0000000  0.00000000\n",
       "Income               0.00000000            0.0000000    0.0000000  0.00000000\n",
       "Diabetes_binary      0.00000000            0.0000000    0.0000000  0.00000000\n",
       "                     <U+22EF>        NoDocbcCost GenHlth     MentHlth     PhysHlth    \n",
       "HighBP               <U+22EF> 0.02569000   0.29413475  0.067531339  0.172817573\n",
       "HighChol             <U+22EF> 0.03129000   0.21754848  0.087920665  0.140314588\n",
       "CholCheck            <U+22EF> 0.05011000   0.05799860 -0.002907355  0.034417578\n",
       "BMI                  <U+22EF> 0.06662242   0.21962258  0.107144718  0.159940304\n",
       "Smoker               <U+22EF> 0.02994000   0.13448434  0.086437566  0.115390506\n",
       "Stroke               <U+22EF> 0.03784000   0.16302902  0.089709240  0.159998623\n",
       "HeartDiseaseorAttack <U+22EF> 0.03076000   0.24461421  0.081737881  0.197701639\n",
       "PhysActivity         <U+22EF> 0.06168000  -0.24834313 -0.134185459 -0.237014387\n",
       "Fruits               <U+22EF> 0.03596000  -0.08803681 -0.061598266 -0.046981788\n",
       "Veggies              <U+22EF> 0.03460000  -0.10855775 -0.060113798 -0.068801398\n",
       "HvyAlcoholConsump    <U+22EF> 0.00197200  -0.05342980  0.014726767 -0.037817478\n",
       "AnyHealthcare        <U+22EF> 0.22560000  -0.03230298 -0.053130857 -0.006324262\n",
       "NoDocbcCost          <U+22EF> 1.00000000   0.14873701  0.189044234  0.152220165\n",
       "GenHlth              <U+22EF> 0.00000000   1.00000000  0.230601746  0.442982304\n",
       "MentHlth             <U+22EF> 0.00000000   0.00000000  1.000000000  0.380743315\n",
       "PhysHlth             <U+22EF> 0.00000000   0.00000000  0.000000000  1.000000000\n",
       "DiffWalk             <U+22EF> 0.00000000   0.00000000  0.000000000  0.000000000\n",
       "Sex                  <U+22EF> 0.00000000   0.00000000  0.000000000  0.000000000\n",
       "Age                  <U+22EF> 0.00000000   0.00000000  0.000000000  0.000000000\n",
       "Education            <U+22EF> 0.00000000   0.00000000  0.000000000  0.000000000\n",
       "Income               <U+22EF> 0.00000000   0.00000000  0.000000000  0.000000000\n",
       "Diabetes_binary      <U+22EF> 0.00000000   0.00000000  0.000000000  0.000000000\n",
       "                     DiffWalk  Sex         Age          Education   \n",
       "HighBP               0.2389000  0.04024000  0.274080290 -0.140475014\n",
       "HighChol             0.1632000  0.01806000  0.184665370 -0.078991430\n",
       "CholCheck            0.0491800  0.01281000  0.081417680 -0.008976256\n",
       "BMI                  0.2479799  0.00130982 -0.030861161 -0.095596596\n",
       "Smoker               0.1169000  0.11530000  0.084485757 -0.139028003\n",
       "Stroke               0.1908000  0.00275800  0.101616530 -0.068361115\n",
       "HeartDiseaseorAttack 0.2377000  0.10130000  0.192853204 -0.089525866\n",
       "PhysActivity         0.2768000  0.05084000 -0.080109208  0.178288872\n",
       "Fruits               0.0529100  0.09214000  0.055994888  0.095528806\n",
       "Veggies              0.0860600  0.05272000 -0.012678996  0.142789940\n",
       "HvyAlcoholConsump    0.0485200  0.01638000 -0.048225617  0.030762870\n",
       "AnyHealthcare        0.0112200  0.00318500  0.122381022  0.090603794\n",
       "NoDocbcCost          0.1210000  0.05011000 -0.121022962 -0.087438304\n",
       "GenHlth              0.4248444 -0.01724049  0.106735751 -0.239252013\n",
       "MentHlth             0.2508706 -0.08552942 -0.131773561 -0.063012165\n",
       "PhysHlth             0.4876516 -0.04636587  0.034508590 -0.116981434\n",
       "DiffWalk             1.0000000  0.08409000  0.157437153 -0.185693267\n",
       "Sex                  0.0000000  1.00000000 -0.001516265  0.046831942\n",
       "Age                  0.0000000  0.00000000  1.000000000 -0.081990948\n",
       "Education            0.0000000  0.00000000  0.000000000  1.000000000\n",
       "Income               0.0000000  0.00000000  0.000000000  0.000000000\n",
       "Diabetes_binary      0.0000000  0.00000000  0.000000000  0.000000000\n",
       "                     Income        Diabetes_binary\n",
       "HighBP               -0.1776114917  0.38030000    \n",
       "HighChol             -0.1004524322  0.28700000    \n",
       "CholCheck            -0.0007136125  0.11380000    \n",
       "BMI                  -0.0909353838  0.28927267    \n",
       "Smoker               -0.1034390726  0.08673000    \n",
       "Stroke               -0.1198730475  0.12480000    \n",
       "HeartDiseaseorAttack -0.1342276385  0.21090000    \n",
       "PhysActivity          0.1800410085  0.16060000    \n",
       "Fruits                0.0628753221  0.05769000    \n",
       "Veggies               0.1357496833  0.07734000    \n",
       "HvyAlcoholConsump     0.0583723876  0.09441000    \n",
       "AnyHealthcare         0.1153451397  0.02504000    \n",
       "NoDocbcCost          -0.1718530729  0.04487000    \n",
       "GenHlth              -0.3130254469  0.37577961    \n",
       "MentHlth             -0.1446943578  0.09027696    \n",
       "PhysHlth             -0.2101827717  0.21495084    \n",
       "DiffWalk             -0.2976185385  0.27300000    \n",
       "Sex                   0.1376890578  0.04718000    \n",
       "Age                  -0.1339235646  0.22099060    \n",
       "Education             0.3843063426 -0.15642755    \n",
       "Income                1.0000000000 -0.20611271    \n",
       "Diabetes_binary       0.0000000000  1.00000000    "
      ]
     },
     "metadata": {},
     "output_type": "display_data"
    }
   ],
   "source": [
    "correlation_matrix"
   ]
  },
  {
   "cell_type": "code",
   "execution_count": 585,
   "id": "b92b7304-2ce6-4b28-95bd-7efea245439a",
   "metadata": {},
   "outputs": [
    {
     "data": {
      "image/png": "[encoded data removed]",
      "text/plain": [
       "Plot with title \"\""
      ]
     },
     "metadata": {
      "image/png": {
       "height": 420,
       "width": 420
      }
     },
     "output_type": "display_data"
    }
   ],
   "source": [
    "corrplot::corrplot(correlation_matrix, method=\"circle\", type=\"upper\")"
   ]
  },
  {
   "cell_type": "markdown",
   "id": "b7eebc47-e0cc-457d-a9fe-b4e83ac4db13",
   "metadata": {},
   "source": [
    "## 4. Model building"
   ]
  },
  {
   "cell_type": "code",
   "execution_count": 586,
   "id": "fe22628e-4bcb-41d1-a4de-3cbd3761eb15",
   "metadata": {},
   "outputs": [
    {
     "name": "stdout",
     "output_type": "stream",
     "text": [
      "'data.frame':\t349366 obs. of  22 variables:\n",
      " $ HighBP              : Factor w/ 2 levels \"0\",\"1\": 2 1 2 2 2 2 2 2 1 1 ...\n",
      " $ HighChol            : Factor w/ 2 levels \"0\",\"1\": 2 1 2 1 2 2 1 2 1 1 ...\n",
      " $ CholCheck           : Factor w/ 2 levels \"0\",\"1\": 2 1 2 2 2 2 2 2 2 2 ...\n",
      " $ BMI                 : int  40 25 28 27 24 25 30 25 24 26 ...\n",
      " $ Smoker              : Factor w/ 2 levels \"0\",\"1\": 2 2 1 1 1 2 2 2 1 2 ...\n",
      " $ Stroke              : Factor w/ 2 levels \"0\",\"1\": 1 1 1 1 1 1 1 1 1 1 ...\n",
      " $ HeartDiseaseorAttack: Factor w/ 2 levels \"0\",\"1\": 1 1 1 1 1 1 1 1 1 1 ...\n",
      " $ PhysActivity        : Factor w/ 2 levels \"0\",\"1\": 1 2 1 2 2 2 1 2 1 1 ...\n",
      " $ Fruits              : Factor w/ 2 levels \"0\",\"1\": 1 1 2 2 2 2 1 1 1 1 ...\n",
      " $ Veggies             : Factor w/ 2 levels \"0\",\"1\": 2 1 1 2 2 2 1 2 2 2 ...\n",
      " $ HvyAlcoholConsump   : Factor w/ 2 levels \"0\",\"1\": 1 1 1 1 1 1 1 1 1 1 ...\n",
      " $ AnyHealthcare       : Factor w/ 2 levels \"0\",\"1\": 2 1 2 2 2 2 2 2 2 2 ...\n",
      " $ NoDocbcCost         : Factor w/ 2 levels \"0\",\"1\": 1 2 2 1 1 1 1 1 1 1 ...\n",
      " $ GenHlth             : Ord.factor w/ 5 levels \"1\"<\"2\"<\"3\"<\"4\"<..: 5 3 5 2 2 2 3 3 2 3 ...\n",
      " $ MentHlth            : int  18 0 30 0 3 0 0 0 0 0 ...\n",
      " $ PhysHlth            : int  15 0 30 0 0 2 14 0 0 15 ...\n",
      " $ DiffWalk            : Factor w/ 2 levels \"0\",\"1\": 2 1 2 1 1 1 1 2 1 1 ...\n",
      " $ Sex                 : Factor w/ 2 levels \"0\",\"1\": 1 1 1 1 1 2 1 1 2 1 ...\n",
      " $ Age                 : Ord.factor w/ 13 levels \"1\"<\"2\"<\"3\"<\"4\"<..: 9 7 9 11 11 10 9 11 8 7 ...\n",
      " $ Education           : Ord.factor w/ 6 levels \"1\"<\"2\"<\"3\"<\"4\"<..: 4 6 4 3 5 6 6 4 4 5 ...\n",
      " $ Income              : Ord.factor w/ 8 levels \"1\"<\"2\"<\"3\"<\"4\"<..: 3 1 8 6 4 8 7 4 3 7 ...\n",
      " $ Diabetes_binary     : Factor w/ 2 levels \"0\",\"1\": 1 1 1 1 1 1 1 1 1 1 ...\n"
     ]
    }
   ],
   "source": [
    "str(balanced_training_data)"
   ]
  },
  {
   "cell_type": "markdown",
   "id": "49eb8af2-fd8e-41b5-9beb-1cf0c0d64bfb",
   "metadata": {},
   "source": [
    "### 4.1. Data standardization"
   ]
  },
  {
   "cell_type": "markdown",
   "id": "47556018-5029-45a0-b6bb-fa07c8cdb32d",
   "metadata": {},
   "source": [
    "#### BMI"
   ]
  },
  {
   "cell_type": "code",
   "execution_count": 587,
   "id": "bbe3a1eb-6cd0-4600-bfec-6afb1aef729a",
   "metadata": {},
   "outputs": [],
   "source": [
    "balanced_training_data$BMI = scale(balanced_training_data$BMI)\n",
    "testing_data$BMI = scale(testing_data$BMI)"
   ]
  },
  {
   "cell_type": "markdown",
   "id": "56e5f090-6bf7-47fb-80f1-e766663bda36",
   "metadata": {},
   "source": [
    "#### MentHlth"
   ]
  },
  {
   "cell_type": "code",
   "execution_count": 588,
   "id": "a97fb257-5011-41fa-906a-fbd1cdbba1c4",
   "metadata": {},
   "outputs": [],
   "source": [
    "balanced_training_data$MentHlth = scale(balanced_training_data$MentHlth)\n",
    "testing_data$MentHlth = scale(testing_data$MentHlth)"
   ]
  },
  {
   "cell_type": "markdown",
   "id": "0beca3b0-dd12-416a-af43-597a1c2baa70",
   "metadata": {},
   "source": [
    "#### PhysHlth"
   ]
  },
  {
   "cell_type": "code",
   "execution_count": 589,
   "id": "aaa20157-a234-45e3-a717-61e894150024",
   "metadata": {},
   "outputs": [],
   "source": [
    "balanced_training_data$PhysHlth = scale(balanced_training_data$PhysHlth)\n",
    "testing_data$PhysHlth = scale(testing_data$PhysHlth)"
   ]
  },
  {
   "cell_type": "code",
   "execution_count": 590,
   "id": "89b4d316-139f-490b-a92e-797f59298e00",
   "metadata": {},
   "outputs": [
    {
     "name": "stdout",
     "output_type": "stream",
     "text": [
      "'data.frame':\t349366 obs. of  22 variables:\n",
      " $ HighBP              : Factor w/ 2 levels \"0\",\"1\": 2 1 2 2 2 2 2 2 1 1 ...\n",
      " $ HighChol            : Factor w/ 2 levels \"0\",\"1\": 2 1 2 1 2 2 1 2 1 1 ...\n",
      " $ CholCheck           : Factor w/ 2 levels \"0\",\"1\": 2 1 2 2 2 2 2 2 2 2 ...\n",
      " $ BMI                 : num [1:349366, 1] 1.41 -0.679 -0.261 -0.401 -0.818 ...\n",
      "  ..- attr(*, \"scaled:center\")= num 29.9\n",
      "  ..- attr(*, \"scaled:scale\")= num 7.18\n",
      " $ Smoker              : Factor w/ 2 levels \"0\",\"1\": 2 2 1 1 1 2 2 2 1 2 ...\n",
      " $ Stroke              : Factor w/ 2 levels \"0\",\"1\": 1 1 1 1 1 1 1 1 1 1 ...\n",
      " $ HeartDiseaseorAttack: Factor w/ 2 levels \"0\",\"1\": 1 1 1 1 1 1 1 1 1 1 ...\n",
      " $ PhysActivity        : Factor w/ 2 levels \"0\",\"1\": 1 2 1 2 2 2 1 2 1 1 ...\n",
      " $ Fruits              : Factor w/ 2 levels \"0\",\"1\": 1 1 2 2 2 2 1 1 1 1 ...\n",
      " $ Veggies             : Factor w/ 2 levels \"0\",\"1\": 2 1 1 2 2 2 1 2 2 2 ...\n",
      " $ HvyAlcoholConsump   : Factor w/ 2 levels \"0\",\"1\": 1 1 1 1 1 1 1 1 1 1 ...\n",
      " $ AnyHealthcare       : Factor w/ 2 levels \"0\",\"1\": 2 1 2 2 2 2 2 2 2 2 ...\n",
      " $ NoDocbcCost         : Factor w/ 2 levels \"0\",\"1\": 1 2 2 1 1 1 1 1 1 1 ...\n",
      " $ GenHlth             : Ord.factor w/ 5 levels \"1\"<\"2\"<\"3\"<\"4\"<..: 5 3 5 2 2 2 3 3 2 3 ...\n",
      " $ MentHlth            : num [1:349366, 1] 1.7622 -0.4578 3.2422 -0.4578 -0.0878 ...\n",
      "  ..- attr(*, \"scaled:center\")= num 3.71\n",
      "  ..- attr(*, \"scaled:scale\")= num 8.11\n",
      " $ PhysHlth            : num [1:349366, 1] 0.915 -0.578 2.408 -0.578 -0.578 ...\n",
      "  ..- attr(*, \"scaled:center\")= num 5.8\n",
      "  ..- attr(*, \"scaled:scale\")= num 10\n",
      " $ DiffWalk            : Factor w/ 2 levels \"0\",\"1\": 2 1 2 1 1 1 1 2 1 1 ...\n",
      " $ Sex                 : Factor w/ 2 levels \"0\",\"1\": 1 1 1 1 1 2 1 1 2 1 ...\n",
      " $ Age                 : Ord.factor w/ 13 levels \"1\"<\"2\"<\"3\"<\"4\"<..: 9 7 9 11 11 10 9 11 8 7 ...\n",
      " $ Education           : Ord.factor w/ 6 levels \"1\"<\"2\"<\"3\"<\"4\"<..: 4 6 4 3 5 6 6 4 4 5 ...\n",
      " $ Income              : Ord.factor w/ 8 levels \"1\"<\"2\"<\"3\"<\"4\"<..: 3 1 8 6 4 8 7 4 3 7 ...\n",
      " $ Diabetes_binary     : Factor w/ 2 levels \"0\",\"1\": 1 1 1 1 1 1 1 1 1 1 ...\n"
     ]
    }
   ],
   "source": [
    "str(balanced_training_data)"
   ]
  },
  {
   "cell_type": "code",
   "execution_count": 591,
   "id": "5bda0d42-ba05-421b-8b01-b01c80bdfd65",
   "metadata": {},
   "outputs": [
    {
     "name": "stdout",
     "output_type": "stream",
     "text": [
      "'data.frame':\t50736 obs. of  22 variables:\n",
      " $ HighBP              : Factor w/ 2 levels \"0\",\"1\": 2 2 1 1 2 1 1 2 2 2 ...\n",
      " $ HighChol            : Factor w/ 2 levels \"0\",\"1\": 2 2 1 1 2 2 1 1 1 2 ...\n",
      " $ CholCheck           : Factor w/ 2 levels \"0\",\"1\": 2 2 2 2 2 2 2 2 2 2 ...\n",
      " $ BMI                 : num [1:50736, 1] 0.8527 -0.0621 -0.8243 0.5478 1.3101 ...\n",
      "  ..- attr(*, \"scaled:center\")= num 28.4\n",
      "  ..- attr(*, \"scaled:scale\")= num 6.56\n",
      " $ Smoker              : Factor w/ 2 levels \"0\",\"1\": 2 1 2 1 2 2 1 1 1 1 ...\n",
      " $ Stroke              : Factor w/ 2 levels \"0\",\"1\": 1 1 1 1 2 1 1 1 1 1 ...\n",
      " $ HeartDiseaseorAttack: Factor w/ 2 levels \"0\",\"1\": 1 1 1 1 2 1 1 1 1 1 ...\n",
      " $ PhysActivity        : Factor w/ 2 levels \"0\",\"1\": 1 1 2 2 1 2 2 2 1 2 ...\n",
      " $ Fruits              : Factor w/ 2 levels \"0\",\"1\": 2 1 1 2 1 2 2 2 2 2 ...\n",
      " $ Veggies             : Factor w/ 2 levels \"0\",\"1\": 2 2 1 2 2 2 2 2 1 2 ...\n",
      " $ HvyAlcoholConsump   : Factor w/ 2 levels \"0\",\"1\": 1 1 1 1 1 1 1 1 1 1 ...\n",
      " $ AnyHealthcare       : Factor w/ 2 levels \"0\",\"1\": 2 2 2 2 2 2 2 2 2 2 ...\n",
      " $ NoDocbcCost         : Factor w/ 2 levels \"0\",\"1\": 1 1 1 1 1 1 1 1 1 1 ...\n",
      " $ GenHlth             : Ord.factor w/ 5 levels \"1\"<\"2\"<\"3\"<\"4\"<..: 3 4 2 2 5 1 1 2 3 3 ...\n",
      " $ MentHlth            : num [1:50736, 1] -0.43 -0.43 -0.43 -0.43 -0.43 ...\n",
      "  ..- attr(*, \"scaled:center\")= num 3.19\n",
      "  ..- attr(*, \"scaled:scale\")= num 7.42\n",
      " $ PhysHlth            : num [1:50736, 1] 2.948 -0.486 -0.486 -0.486 -0.486 ...\n",
      "  ..- attr(*, \"scaled:center\")= num 4.24\n",
      "  ..- attr(*, \"scaled:scale\")= num 8.74\n",
      " $ DiffWalk            : Factor w/ 2 levels \"0\",\"1\": 2 2 1 1 2 1 1 1 1 2 ...\n",
      " $ Sex                 : Factor w/ 2 levels \"0\",\"1\": 1 1 2 1 2 2 1 1 1 2 ...\n",
      " $ Age                 : Ord.factor w/ 13 levels \"1\"<\"2\"<\"3\"<\"4\"<..: 10 11 7 5 10 12 6 9 13 10 ...\n",
      " $ Education           : Ord.factor w/ 6 levels \"1\"<\"2\"<\"3\"<\"4\"<..: 5 4 5 6 6 6 4 4 4 5 ...\n",
      " $ Income              : Ord.factor w/ 8 levels \"1\"<\"2\"<\"3\"<\"4\"<..: 1 6 6 8 5 8 8 4 4 6 ...\n",
      " $ Diabetes_binary     : Factor w/ 2 levels \"0\",\"1\": 1 2 2 1 2 1 1 1 2 1 ...\n"
     ]
    }
   ],
   "source": [
    "str(testing_data)"
   ]
  },
  {
   "cell_type": "markdown",
   "id": "3e507d20-bb6d-4104-981a-7f0036e06041",
   "metadata": {},
   "source": [
    "### 4.3. Build the model"
   ]
  },
  {
   "cell_type": "code",
   "execution_count": 592,
   "id": "64aa1413-731c-4599-9075-73bc7c41e8fa",
   "metadata": {},
   "outputs": [],
   "source": [
    "my_model = glm(Diabetes_binary ~ . , data = balanced_training_data, family = binomial)"
   ]
  },
  {
   "cell_type": "markdown",
   "id": "154abfef-1a58-4542-bcb5-7b287a1eb0f5",
   "metadata": {},
   "source": [
    "#### 4.3.1. AIC stepwise"
   ]
  },
  {
   "cell_type": "code",
   "execution_count": 593,
   "id": "c02813f4-9037-428b-a705-444b3166aa9d",
   "metadata": {},
   "outputs": [
    {
     "name": "stdout",
     "output_type": "stream",
     "text": [
      "Start:  AIC=356280.2\n",
      "Diabetes_binary ~ HighBP + HighChol + CholCheck + BMI + Smoker + \n",
      "    Stroke + HeartDiseaseorAttack + PhysActivity + Fruits + Veggies + \n",
      "    HvyAlcoholConsump + AnyHealthcare + NoDocbcCost + GenHlth + \n",
      "    MentHlth + PhysHlth + DiffWalk + Sex + Age + Education + \n",
      "    Income\n",
      "\n",
      "                       Df Deviance    AIC\n",
      "<none>                      356188 356280\n",
      "- Veggies               1   356197 356287\n",
      "- Smoker                1   356198 356288\n",
      "- Fruits                1   356199 356289\n",
      "- AnyHealthcare         1   356200 356290\n",
      "- NoDocbcCost           1   356201 356291\n",
      "- PhysHlth              1   356213 356303\n",
      "- PhysActivity          1   356223 356313\n",
      "- MentHlth              1   356242 356332\n",
      "- Education             5   356295 356377\n",
      "- DiffWalk              1   356312 356402\n",
      "- Stroke                1   356318 356408\n",
      "- HeartDiseaseorAttack  1   356686 356776\n",
      "- Income                7   357095 357173\n",
      "- HvyAlcoholConsump     1   357357 357447\n",
      "- Sex                   1   357431 357521\n",
      "- CholCheck             1   357619 357709\n",
      "- HighChol              1   360263 360353\n",
      "- HighBP                1   362479 362569\n",
      "- Age                  12   365317 365385\n",
      "- BMI                   1   367049 367139\n",
      "- GenHlth               4   370791 370875\n"
     ]
    }
   ],
   "source": [
    "# AIC\n",
    "aic_result = MASS::stepAIC(my_model, direction = \"backward\", k = 2)"
   ]
  },
  {
   "cell_type": "code",
   "execution_count": 594,
   "id": "f919876d-c9fe-407a-9598-51fea1276899",
   "metadata": {},
   "outputs": [],
   "source": [
    "# # Best AIC model\n",
    "# Diabetes_binary ~ HighBP + HighChol + CholCheck + BMI + BMI_over_45 + \n",
    "#     Smoker + Stroke + HeartDiseaseorAttack + PhysActivity + Fruits + \n",
    "#     Veggies + HvyAlcoholConsump + AnyHealthcare + NoDocbcCost + \n",
    "#     GenHlth + MentHlth + PhysHlth + havePhysHlth + DiffWalk + \n",
    "#     Sex + Age + Education + Income"
   ]
  },
  {
   "cell_type": "markdown",
   "id": "ef817cdb-50b0-44d1-b682-b29fd6c3d7ef",
   "metadata": {},
   "source": [
    "#### 4.3.2. BIC stepwise"
   ]
  },
  {
   "cell_type": "code",
   "execution_count": 595,
   "id": "0213065a-913d-462e-a073-38a589c6ca42",
   "metadata": {},
   "outputs": [
    {
     "name": "stdout",
     "output_type": "stream",
     "text": [
      "Start:  AIC=356775.3\n",
      "Diabetes_binary ~ HighBP + HighChol + CholCheck + BMI + Smoker + \n",
      "    Stroke + HeartDiseaseorAttack + PhysActivity + Fruits + Veggies + \n",
      "    HvyAlcoholConsump + AnyHealthcare + NoDocbcCost + GenHlth + \n",
      "    MentHlth + PhysHlth + DiffWalk + Sex + Age + Education + \n",
      "    Income\n",
      "\n",
      "                       Df Deviance    AIC\n",
      "- Veggies               1   356197 356772\n",
      "- Smoker                1   356198 356772\n",
      "- Fruits                1   356199 356774\n",
      "- AnyHealthcare         1   356200 356775\n",
      "<none>                      356188 356775\n",
      "- NoDocbcCost           1   356201 356776\n",
      "- PhysHlth              1   356213 356787\n",
      "- PhysActivity          1   356223 356797\n",
      "- MentHlth              1   356242 356816\n",
      "- Education             5   356295 356818\n",
      "- DiffWalk              1   356312 356886\n",
      "- Stroke                1   356318 356892\n",
      "- HeartDiseaseorAttack  1   356686 357260\n",
      "- Income                7   357095 357593\n",
      "- HvyAlcoholConsump     1   357357 357931\n",
      "- Sex                   1   357431 358006\n",
      "- CholCheck             1   357619 358193\n",
      "- HighChol              1   360263 360837\n",
      "- HighBP                1   362479 363053\n",
      "- Age                  12   365317 365751\n",
      "- BMI                   1   367049 367624\n",
      "- GenHlth               4   370791 371327\n",
      "\n",
      "Step:  AIC=356771.6\n",
      "Diabetes_binary ~ HighBP + HighChol + CholCheck + BMI + Smoker + \n",
      "    Stroke + HeartDiseaseorAttack + PhysActivity + Fruits + HvyAlcoholConsump + \n",
      "    AnyHealthcare + NoDocbcCost + GenHlth + MentHlth + PhysHlth + \n",
      "    DiffWalk + Sex + Age + Education + Income\n",
      "\n",
      "                       Df Deviance    AIC\n",
      "- Smoker                1   356207 356769\n",
      "- AnyHealthcare         1   356210 356771\n",
      "<none>                      356197 356772\n",
      "- NoDocbcCost           1   356210 356772\n",
      "- Fruits                1   356214 356775\n",
      "- PhysHlth              1   356222 356784\n",
      "- PhysActivity          1   356235 356797\n",
      "- MentHlth              1   356250 356812\n",
      "- Education             5   356306 356816\n",
      "- DiffWalk              1   356321 356883\n",
      "- Stroke                1   356328 356890\n",
      "- HeartDiseaseorAttack  1   356694 357255\n",
      "- Income                7   357123 357608\n",
      "- HvyAlcoholConsump     1   357371 357932\n",
      "- Sex                   1   357459 358020\n",
      "- CholCheck             1   357628 358189\n",
      "- HighChol              1   360273 360835\n",
      "- HighBP                1   362491 363053\n",
      "- Age                  12   365326 365747\n",
      "- BMI                   1   367056 367618\n",
      "- GenHlth               4   370819 371342\n",
      "\n",
      "Step:  AIC=356768.7\n",
      "Diabetes_binary ~ HighBP + HighChol + CholCheck + BMI + Stroke + \n",
      "    HeartDiseaseorAttack + PhysActivity + Fruits + HvyAlcoholConsump + \n",
      "    AnyHealthcare + NoDocbcCost + GenHlth + MentHlth + PhysHlth + \n",
      "    DiffWalk + Sex + Age + Education + Income\n",
      "\n",
      "                       Df Deviance    AIC\n",
      "- AnyHealthcare         1   356220 356768\n",
      "<none>                      356207 356769\n",
      "- NoDocbcCost           1   356220 356769\n",
      "- Fruits                1   356223 356771\n",
      "- PhysHlth              1   356233 356781\n",
      "- PhysActivity          1   356245 356793\n",
      "- Education             5   356311 356809\n",
      "- MentHlth              1   356263 356811\n",
      "- DiffWalk              1   356329 356878\n",
      "- Stroke                1   356337 356886\n",
      "- HeartDiseaseorAttack  1   356698 357246\n",
      "- Income                7   357129 357601\n",
      "- HvyAlcoholConsump     1   357410 357959\n",
      "- Sex                   1   357461 358010\n",
      "- CholCheck             1   357641 358190\n",
      "- HighChol              1   360274 360823\n",
      "- HighBP                1   362506 363055\n",
      "- Age                  12   365335 365743\n",
      "- BMI                   1   367117 367666\n",
      "- GenHlth               4   370819 371330\n",
      "\n",
      "Step:  AIC=356768.4\n",
      "Diabetes_binary ~ HighBP + HighChol + CholCheck + BMI + Stroke + \n",
      "    HeartDiseaseorAttack + PhysActivity + Fruits + HvyAlcoholConsump + \n",
      "    NoDocbcCost + GenHlth + MentHlth + PhysHlth + DiffWalk + \n",
      "    Sex + Age + Education + Income\n",
      "\n",
      "                       Df Deviance    AIC\n",
      "- NoDocbcCost           1   356229 356765\n",
      "<none>                      356220 356768\n",
      "- Fruits                1   356235 356771\n",
      "- PhysHlth              1   356244 356780\n",
      "- PhysActivity          1   356256 356792\n",
      "- Education             5   356321 356806\n",
      "- MentHlth              1   356275 356811\n",
      "- DiffWalk              1   356344 356880\n",
      "- Stroke                1   356350 356886\n",
      "- HeartDiseaseorAttack  1   356710 357246\n",
      "- Income                7   357129 357589\n",
      "- HvyAlcoholConsump     1   357427 357963\n",
      "- Sex                   1   357468 358004\n",
      "- CholCheck             1   357685 358221\n",
      "- HighChol              1   360291 360827\n",
      "- HighBP                1   362521 363057\n",
      "- Age                  12   365519 365915\n",
      "- BMI                   1   367140 367676\n",
      "- GenHlth               4   370829 371326\n",
      "\n",
      "Step:  AIC=356764.6\n",
      "Diabetes_binary ~ HighBP + HighChol + CholCheck + BMI + Stroke + \n",
      "    HeartDiseaseorAttack + PhysActivity + Fruits + HvyAlcoholConsump + \n",
      "    GenHlth + MentHlth + PhysHlth + DiffWalk + Sex + Age + Education + \n",
      "    Income\n",
      "\n",
      "                       Df Deviance    AIC\n",
      "<none>                      356229 356765\n",
      "- Fruits                1   356244 356767\n",
      "- PhysHlth              1   356252 356776\n",
      "- PhysActivity          1   356265 356789\n",
      "- Education             5   356331 356803\n",
      "- MentHlth              1   356281 356804\n",
      "- DiffWalk              1   356355 356878\n",
      "- Stroke                1   356359 356883\n",
      "- HeartDiseaseorAttack  1   356720 357244\n",
      "- Income                7   357179 357626\n",
      "- HvyAlcoholConsump     1   357434 357957\n",
      "- Sex                   1   357474 357997\n",
      "- CholCheck             1   357686 358209\n",
      "- HighChol              1   360307 360831\n",
      "- HighBP                1   362535 363058\n",
      "- Age                  12   365653 366036\n",
      "- BMI                   1   367145 367668\n",
      "- GenHlth               4   370891 371376\n"
     ]
    }
   ],
   "source": [
    "# BIC\n",
    "bic_result = MASS::stepAIC(my_model, direction = \"backward\", k = log(nrow(balanced_training_data)))"
   ]
  },
  {
   "cell_type": "code",
   "execution_count": 596,
   "id": "2b35419f-e68c-4527-b5af-04ebce113825",
   "metadata": {},
   "outputs": [],
   "source": [
    "# # Best BIC model\n",
    "# Diabetes_binary ~ HighBP + HighChol + CholCheck + BMI + BMI_over_45 + \n",
    "#     Stroke + HeartDiseaseorAttack + PhysActivity + Veggies + \n",
    "#     HvyAlcoholConsump + GenHlth + MentHlth + PhysHlth + DiffWalk + \n",
    "#     Sex + Age + Education + Income"
   ]
  },
  {
   "cell_type": "markdown",
   "id": "79e32971-945a-483b-b995-66d853cf8591",
   "metadata": {},
   "source": [
    "### 4.4. Best model selection"
   ]
  },
  {
   "cell_type": "code",
   "execution_count": 597,
   "id": "6363d76d-ffce-4d98-b010-8299b33c7178",
   "metadata": {},
   "outputs": [],
   "source": [
    "best_aic_model = glm(Diabetes_binary ~ HighBP + HighChol + CholCheck + BMI + Smoker + \n",
    "    Stroke + HeartDiseaseorAttack + PhysActivity + Fruits + Veggies + \n",
    "    HvyAlcoholConsump + AnyHealthcare + NoDocbcCost + GenHlth + \n",
    "    MentHlth + PhysHlth + DiffWalk + Sex + Age + Education + \n",
    "    Income, data = balanced_training_data, family = binomial)"
   ]
  },
  {
   "cell_type": "code",
   "execution_count": 598,
   "id": "78dbb29b-0e03-46b6-a87b-5b530712c677",
   "metadata": {},
   "outputs": [],
   "source": [
    "best_bic_model = glm(Diabetes_binary ~ HighBP + HighChol + CholCheck + BMI + Stroke + \n",
    "    HeartDiseaseorAttack + PhysActivity + Fruits + HvyAlcoholConsump + \n",
    "    GenHlth + MentHlth + PhysHlth + DiffWalk + Sex + Age + Education + \n",
    "    Income, data = balanced_training_data, family = binomial)"
   ]
  },
  {
   "cell_type": "code",
   "execution_count": 599,
   "id": "026c8088-f67e-43c1-a6cb-cbffe1ad3251",
   "metadata": {},
   "outputs": [
    {
     "data": {
      "text/html": [
       "<table class=\"dataframe\">\n",
       "<caption>A anova: 2 × 5</caption>\n",
       "<thead>\n",
       "\t<tr><th></th><th scope=col>Resid. Df</th><th scope=col>Resid. Dev</th><th scope=col>Df</th><th scope=col>Deviance</th><th scope=col>Pr(&gt;Chi)</th></tr>\n",
       "\t<tr><th></th><th scope=col>&lt;dbl&gt;</th><th scope=col>&lt;dbl&gt;</th><th scope=col>&lt;dbl&gt;</th><th scope=col>&lt;dbl&gt;</th><th scope=col>&lt;dbl&gt;</th></tr>\n",
       "</thead>\n",
       "<tbody>\n",
       "\t<tr><th scope=row>1</th><td>349320</td><td>356188.2</td><td>NA</td><td>       NA</td><td>          NA</td></tr>\n",
       "\t<tr><th scope=row>2</th><td>349324</td><td>356228.6</td><td>-4</td><td>-40.35221</td><td>3.659943e-08</td></tr>\n",
       "</tbody>\n",
       "</table>\n"
      ],
      "text/latex": [
       "A anova: 2 × 5\n",
       "\\begin{tabular}{r|lllll}\n",
       "  & Resid. Df & Resid. Dev & Df & Deviance & Pr(>Chi)\\\\\n",
       "  & <dbl> & <dbl> & <dbl> & <dbl> & <dbl>\\\\\n",
       "\\hline\n",
       "\t1 & 349320 & 356188.2 & NA &        NA &           NA\\\\\n",
       "\t2 & 349324 & 356228.6 & -4 & -40.35221 & 3.659943e-08\\\\\n",
       "\\end{tabular}\n"
      ],
      "text/markdown": [
       "\n",
       "A anova: 2 × 5\n",
       "\n",
       "| <!--/--> | Resid. Df &lt;dbl&gt; | Resid. Dev &lt;dbl&gt; | Df &lt;dbl&gt; | Deviance &lt;dbl&gt; | Pr(&gt;Chi) &lt;dbl&gt; |\n",
       "|---|---|---|---|---|---|\n",
       "| 1 | 349320 | 356188.2 | NA |        NA |           NA |\n",
       "| 2 | 349324 | 356228.6 | -4 | -40.35221 | 3.659943e-08 |\n",
       "\n"
      ],
      "text/plain": [
       "  Resid. Df Resid. Dev Df Deviance  Pr(>Chi)    \n",
       "1 349320    356188.2   NA        NA           NA\n",
       "2 349324    356228.6   -4 -40.35221 3.659943e-08"
      ]
     },
     "metadata": {},
     "output_type": "display_data"
    }
   ],
   "source": [
    "anova(best_aic_model, best_bic_model, test = \"Chisq\")"
   ]
  },
  {
   "cell_type": "code",
   "execution_count": null,
   "id": "aad2bc6d-c7cc-4ccc-b71a-89e7ce46bb70",
   "metadata": {},
   "outputs": [],
   "source": [
    "# COMMENT\n",
    "# Choose \"best_bic_model\""
   ]
  },
  {
   "cell_type": "code",
   "execution_count": 600,
   "id": "cde1cab9-84fb-4033-9da5-65db549634a7",
   "metadata": {},
   "outputs": [],
   "source": [
    "# best_bic_model = glm(Diabetes_binary ~ HighBP + HighChol + CholCheck + BMI + Stroke + \n",
    "#     HeartDiseaseorAttack + PhysActivity + Fruits + HvyAlcoholConsump + \n",
    "#     GenHlth + MentHlth + PhysHlth + DiffWalk + Sex + Age + Education + \n",
    "#     Income, data = balanced_training_data, family = binomial)"
   ]
  },
  {
   "cell_type": "markdown",
   "id": "b8574273-b73a-4f58-8001-0713b09e031a",
   "metadata": {},
   "source": [
    "### 4.5. Link function selection"
   ]
  },
  {
   "cell_type": "code",
   "execution_count": 601,
   "id": "bc30818c-bb0c-4b9f-b04c-01f826aec88c",
   "metadata": {},
   "outputs": [
    {
     "data": {
      "text/html": [
       "<table class=\"dataframe\">\n",
       "<caption>A data.frame: 4 × 2</caption>\n",
       "<thead>\n",
       "\t<tr><th scope=col>link_function_name</th><th scope=col>aic_value</th></tr>\n",
       "\t<tr><th scope=col>&lt;chr&gt;</th><th scope=col>&lt;dbl&gt;</th></tr>\n",
       "</thead>\n",
       "<tbody>\n",
       "\t<tr><td>logit  </td><td>0</td></tr>\n",
       "\t<tr><td>probit </td><td>0</td></tr>\n",
       "\t<tr><td>cauchit</td><td>0</td></tr>\n",
       "\t<tr><td>cloglog</td><td>0</td></tr>\n",
       "</tbody>\n",
       "</table>\n"
      ],
      "text/latex": [
       "A data.frame: 4 × 2\n",
       "\\begin{tabular}{ll}\n",
       " link\\_function\\_name & aic\\_value\\\\\n",
       " <chr> & <dbl>\\\\\n",
       "\\hline\n",
       "\t logit   & 0\\\\\n",
       "\t probit  & 0\\\\\n",
       "\t cauchit & 0\\\\\n",
       "\t cloglog & 0\\\\\n",
       "\\end{tabular}\n"
      ],
      "text/markdown": [
       "\n",
       "A data.frame: 4 × 2\n",
       "\n",
       "| link_function_name &lt;chr&gt; | aic_value &lt;dbl&gt; |\n",
       "|---|---|\n",
       "| logit   | 0 |\n",
       "| probit  | 0 |\n",
       "| cauchit | 0 |\n",
       "| cloglog | 0 |\n",
       "\n"
      ],
      "text/plain": [
       "  link_function_name aic_value\n",
       "1 logit              0        \n",
       "2 probit             0        \n",
       "3 cauchit            0        \n",
       "4 cloglog            0        "
      ]
     },
     "metadata": {},
     "output_type": "display_data"
    }
   ],
   "source": [
    "# Create the dataframe\n",
    "aic_link_function_df <- data.frame(\n",
    "  link_function_name = c(\"logit\", \"probit\", \"cauchit\", \"cloglog\"),\n",
    "  aic_value = rep(0, 4)\n",
    ")\n",
    "aic_link_function_df"
   ]
  },
  {
   "cell_type": "code",
   "execution_count": 602,
   "id": "9a3c5376-c9ac-4fcf-aca9-3bc32995e528",
   "metadata": {},
   "outputs": [],
   "source": [
    "logit_best_bic_model = glm(Diabetes_binary ~ HighBP + HighChol + CholCheck + BMI + Stroke + \n",
    "    HeartDiseaseorAttack + PhysActivity + Fruits + HvyAlcoholConsump + \n",
    "    GenHlth + MentHlth + PhysHlth + DiffWalk + Sex + Age + Education + \n",
    "    Income, data = balanced_training_data, family = binomial(link = \"logit\"))"
   ]
  },
  {
   "cell_type": "code",
   "execution_count": 603,
   "id": "2a2a0a74-be5c-4c21-b394-ee5f02b1c2b5",
   "metadata": {},
   "outputs": [],
   "source": [
    "aic_link_function_df[1, 2] = summary(logit_best_bic_model)$aic"
   ]
  },
  {
   "cell_type": "code",
   "execution_count": 604,
   "id": "a7df4a29-8e98-4f94-8403-c86e7bca3830",
   "metadata": {},
   "outputs": [],
   "source": [
    "probit_best_bic_model = glm(Diabetes_binary ~ HighBP + HighChol + CholCheck + BMI + Stroke + \n",
    "    HeartDiseaseorAttack + PhysActivity + Fruits + HvyAlcoholConsump + \n",
    "    GenHlth + MentHlth + PhysHlth + DiffWalk + Sex + Age + Education + \n",
    "    Income, data = balanced_training_data, family = binomial(link = \"probit\"))"
   ]
  },
  {
   "cell_type": "code",
   "execution_count": 605,
   "id": "eecaf708-2961-4a49-ab09-5c8cb8340f61",
   "metadata": {},
   "outputs": [],
   "source": [
    "aic_link_function_df[2, 2] = summary(probit_best_bic_model)$aic"
   ]
  },
  {
   "cell_type": "code",
   "execution_count": 606,
   "id": "0042b460-e788-4125-bcad-3bce376eaeff",
   "metadata": {},
   "outputs": [],
   "source": [
    "cauchit_best_bic_model = glm(Diabetes_binary ~ HighBP + HighChol + CholCheck + BMI + Stroke + \n",
    "    HeartDiseaseorAttack + PhysActivity + Fruits + HvyAlcoholConsump + \n",
    "    GenHlth + MentHlth + PhysHlth + DiffWalk + Sex + Age + Education + \n",
    "    Income, data = balanced_training_data, family = binomial(link = \"cauchit\"))"
   ]
  },
  {
   "cell_type": "code",
   "execution_count": 607,
   "id": "44492074-00f8-41b4-80aa-430c3b83b161",
   "metadata": {},
   "outputs": [],
   "source": [
    "aic_link_function_df[3, 2] = summary(cauchit_best_bic_model)$aic"
   ]
  },
  {
   "cell_type": "code",
   "execution_count": 608,
   "id": "af9bc90e-3fb6-407c-a4f3-8d7a6a9ced35",
   "metadata": {},
   "outputs": [],
   "source": [
    "cloglog_best_bic_model = glm(Diabetes_binary ~ HighBP + HighChol + CholCheck + BMI + Stroke + \n",
    "    HeartDiseaseorAttack + PhysActivity + Fruits + HvyAlcoholConsump + \n",
    "    GenHlth + MentHlth + PhysHlth + DiffWalk + Sex + Age + Education + \n",
    "    Income, data = balanced_training_data, family = binomial(link = \"cloglog\"))"
   ]
  },
  {
   "cell_type": "code",
   "execution_count": 609,
   "id": "6d182864-5a67-4681-83eb-737a0c0186f0",
   "metadata": {},
   "outputs": [],
   "source": [
    "aic_link_function_df[4, 2] = summary(cloglog_best_bic_model)$aic"
   ]
  },
  {
   "cell_type": "code",
   "execution_count": 610,
   "id": "53739887-09ba-483f-8799-19ac695e667a",
   "metadata": {},
   "outputs": [
    {
     "data": {
      "text/html": [
       "<table class=\"dataframe\">\n",
       "<caption>A data.frame: 4 × 2</caption>\n",
       "<thead>\n",
       "\t<tr><th scope=col>link_function_name</th><th scope=col>aic_value</th></tr>\n",
       "\t<tr><th scope=col>&lt;chr&gt;</th><th scope=col>&lt;dbl&gt;</th></tr>\n",
       "</thead>\n",
       "<tbody>\n",
       "\t<tr><td>logit  </td><td>356312.6</td></tr>\n",
       "\t<tr><td>probit </td><td>356543.3</td></tr>\n",
       "\t<tr><td>cauchit</td><td>358389.7</td></tr>\n",
       "\t<tr><td>cloglog</td><td>361389.7</td></tr>\n",
       "</tbody>\n",
       "</table>\n"
      ],
      "text/latex": [
       "A data.frame: 4 × 2\n",
       "\\begin{tabular}{ll}\n",
       " link\\_function\\_name & aic\\_value\\\\\n",
       " <chr> & <dbl>\\\\\n",
       "\\hline\n",
       "\t logit   & 356312.6\\\\\n",
       "\t probit  & 356543.3\\\\\n",
       "\t cauchit & 358389.7\\\\\n",
       "\t cloglog & 361389.7\\\\\n",
       "\\end{tabular}\n"
      ],
      "text/markdown": [
       "\n",
       "A data.frame: 4 × 2\n",
       "\n",
       "| link_function_name &lt;chr&gt; | aic_value &lt;dbl&gt; |\n",
       "|---|---|\n",
       "| logit   | 356312.6 |\n",
       "| probit  | 356543.3 |\n",
       "| cauchit | 358389.7 |\n",
       "| cloglog | 361389.7 |\n",
       "\n"
      ],
      "text/plain": [
       "  link_function_name aic_value\n",
       "1 logit              356312.6 \n",
       "2 probit             356543.3 \n",
       "3 cauchit            358389.7 \n",
       "4 cloglog            361389.7 "
      ]
     },
     "metadata": {},
     "output_type": "display_data"
    }
   ],
   "source": [
    "aic_link_function_df"
   ]
  },
  {
   "cell_type": "code",
   "execution_count": 611,
   "id": "b3407484-524d-431b-ba0d-160dba449907",
   "metadata": {},
   "outputs": [
    {
     "data": {
      "text/html": [
       "<table class=\"dataframe\">\n",
       "<caption>A data.frame: 1 × 2</caption>\n",
       "<thead>\n",
       "\t<tr><th></th><th scope=col>link_function_name</th><th scope=col>aic_value</th></tr>\n",
       "\t<tr><th></th><th scope=col>&lt;chr&gt;</th><th scope=col>&lt;dbl&gt;</th></tr>\n",
       "</thead>\n",
       "<tbody>\n",
       "\t<tr><th scope=row>1</th><td>logit</td><td>356312.6</td></tr>\n",
       "</tbody>\n",
       "</table>\n"
      ],
      "text/latex": [
       "A data.frame: 1 × 2\n",
       "\\begin{tabular}{r|ll}\n",
       "  & link\\_function\\_name & aic\\_value\\\\\n",
       "  & <chr> & <dbl>\\\\\n",
       "\\hline\n",
       "\t1 & logit & 356312.6\\\\\n",
       "\\end{tabular}\n"
      ],
      "text/markdown": [
       "\n",
       "A data.frame: 1 × 2\n",
       "\n",
       "| <!--/--> | link_function_name &lt;chr&gt; | aic_value &lt;dbl&gt; |\n",
       "|---|---|---|\n",
       "| 1 | logit | 356312.6 |\n",
       "\n"
      ],
      "text/plain": [
       "  link_function_name aic_value\n",
       "1 logit              356312.6 "
      ]
     },
     "metadata": {},
     "output_type": "display_data"
    }
   ],
   "source": [
    "aic_link_function_df[which.min(aic_link_function_df$aic_value), ]"
   ]
  },
  {
   "cell_type": "code",
   "execution_count": 613,
   "id": "e05f57c1-8837-4961-bad0-91b137b5da96",
   "metadata": {},
   "outputs": [],
   "source": [
    "# COMMENT\n",
    "# Best link function model\n",
    "# logit_best_bic_model = glm(Diabetes_binary ~ HighBP + HighChol + CholCheck + BMI + Stroke + \n",
    "#     HeartDiseaseorAttack + PhysActivity + Fruits + HvyAlcoholConsump + \n",
    "#     GenHlth + MentHlth + PhysHlth + DiffWalk + Sex + Age + Education + \n",
    "#     Income, data = balanced_training_data, family = binomial(link = \"logit\"))"
   ]
  },
  {
   "cell_type": "markdown",
   "id": "bf398b59-aa32-4d75-8653-ed018fa0caa0",
   "metadata": {},
   "source": [
    "## 5. Model training and evaluating"
   ]
  },
  {
   "cell_type": "code",
   "execution_count": 614,
   "id": "a23556a9-c6aa-4027-9e2b-b1b5436009af",
   "metadata": {},
   "outputs": [],
   "source": [
    "evaluate_classification_model = function(binary_predictions, binary_real_data)\n",
    "{\n",
    "    accuracy = mean(binary_predictions == binary_real_data)\n",
    "    precision <- sum(binary_predictions == 1 & binary_real_data == 1) / sum(binary_predictions == 1)\n",
    "    recall <- sum(binary_predictions == 1 & binary_real_data == 1) / sum(binary_real_data == 1)\n",
    "    f1_score <- 2 * precision * recall / (precision + recall)\n",
    "    \n",
    "    # Print the results\n",
    "    cat(\"Accuracy:\", accuracy, \"\\n\")\n",
    "    cat(\"Precision:\", precision, \"\\n\")\n",
    "    cat(\"Recall:\", recall, \"\\n\")\n",
    "    cat(\"F1 Score:\", f1_score, \"\\n\")\n",
    "}\n",
    "\n",
    "one_for_all_metric = function(model, new_data, variable_name, binary_threshold = 0.5)\n",
    "{\n",
    "    predictions = predict(model, newdata = new_data, type = \"response\")\n",
    "    binary_predictions = ifelse(predictions >= binary_threshold, 1, 0)\n",
    "    actual_response = new_data[, variable_name]\n",
    "    \n",
    "    cat(\"\\n\", \"Metric 1: ANOVA\", \"\\n\")\n",
    "    print(summary(model))\n",
    "\n",
    "    cat(\"\\n\", \"Metric 2: Model performance\", \"\\n\")\n",
    "    print(confusionMatrix(table(binary_predictions, actual_response)))\n",
    "    evaluate_classification_model(binary_predictions, actual_response)\n",
    "\n",
    "    cat(\"\\n\", \"Metric 3: ROC curve - AUC\", \"\\n\")\n",
    "    roc_score = pROC::roc(actual_response, binary_predictions)\n",
    "    cat(\"AUC: \", auc(roc_score))\n",
    "    plot(roc_score ,main = \"ROC curve -- Logistic Regression \")\n",
    "    \n",
    "    cat(\"\\n\", \"Metric 4: Overdispersion tests\", \"\\n\")\n",
    "    DHARMa::testDispersion(model, alternative = \"greater\")\n",
    "\n",
    "    cat(\"\\n\", \"Metric 4: Goodness-of-fit\", \"\\n\")\n",
    "    summary_model = summary(model)\n",
    "    cat(\"residual:\", summary_model$deviance, \"\\n\")\n",
    "    cat(\"dof:\", summary_model$df[2], \"\\n\")\n",
    "    cat(\"goodness-of-fit:\", 1- pchisq(summary_model$deviance, df = summary_model$df[2]))\n",
    "\n",
    "    cat(\"\\n\", \"Metric 5: QQ-norm\", \"\\n\")\n",
    "    qqnorm(residuals(probit_best_bic_model))\n",
    "    abline(a = 0, b = 1, col = \"red\")\n",
    "}"
   ]
  },
  {
   "cell_type": "code",
   "execution_count": 615,
   "id": "1466f8d7-461c-47ac-a449-eeb41566aa9f",
   "metadata": {},
   "outputs": [
    {
     "name": "stdout",
     "output_type": "stream",
     "text": [
      "\n",
      " Metric 1: ANOVA \n",
      "\n",
      "Call:\n",
      "glm(formula = Diabetes_binary ~ HighBP + HighChol + CholCheck + \n",
      "    BMI + Stroke + HeartDiseaseorAttack + PhysActivity + Fruits + \n",
      "    HvyAlcoholConsump + GenHlth + MentHlth + PhysHlth + DiffWalk + \n",
      "    Sex + Age + Education + Income, family = binomial(link = \"logit\"), \n",
      "    data = balanced_training_data)\n",
      "\n",
      "Deviance Residuals: \n",
      "    Min       1Q   Median       3Q      Max  \n",
      "-3.3832  -0.8101  -0.0974   0.8254   3.0785  \n",
      "\n",
      "Coefficients:\n",
      "                       Estimate Std. Error z value Pr(>|z|)    \n",
      "(Intercept)           -2.324829   0.044017 -52.817  < 2e-16 ***\n",
      "HighBP1                0.710623   0.008910  79.758  < 2e-16 ***\n",
      "HighChol1              0.546589   0.008532  64.062  < 2e-16 ***\n",
      "CholCheck1             1.256386   0.035811  35.084  < 2e-16 ***\n",
      "BMI                    0.495759   0.005017  98.815  < 2e-16 ***\n",
      "Stroke1                0.207125   0.018277  11.332  < 2e-16 ***\n",
      "HeartDiseaseorAttack1  0.279889   0.012714  22.015  < 2e-16 ***\n",
      "PhysActivity1         -0.057754   0.009532  -6.059 1.37e-09 ***\n",
      "Fruits1               -0.034019   0.008651  -3.933 8.41e-05 ***\n",
      "HvyAlcoholConsump1    -0.745871   0.021999 -33.904  < 2e-16 ***\n",
      "GenHlth.L              1.677837   0.018042  92.994  < 2e-16 ***\n",
      "GenHlth.Q             -0.396806   0.013594 -29.190  < 2e-16 ***\n",
      "GenHlth.C             -0.066920   0.010495  -6.376 1.81e-10 ***\n",
      "GenHlth^4              0.026280   0.008011   3.281  0.00104 ** \n",
      "MentHlth              -0.033686   0.004670  -7.213 5.46e-13 ***\n",
      "PhysHlth              -0.027226   0.005576  -4.883 1.04e-06 ***\n",
      "DiffWalk1              0.130407   0.011614  11.229  < 2e-16 ***\n",
      "Sex1                   0.302016   0.008578  35.206  < 2e-16 ***\n",
      "Age.L                  2.403850   0.034403  69.873  < 2e-16 ***\n",
      "Age.Q                 -0.620562   0.032032 -19.373  < 2e-16 ***\n",
      "Age.C                 -0.275337   0.029860  -9.221  < 2e-16 ***\n",
      "Age^4                  0.041519   0.028934   1.435  0.15130    \n",
      "Age^5                 -0.218498   0.028169  -7.757 8.72e-15 ***\n",
      "Age^6                  0.120613   0.026811   4.499 6.84e-06 ***\n",
      "Age^7                  0.008444   0.024965   0.338  0.73518    \n",
      "Age^8                  0.025662   0.022696   1.131  0.25818    \n",
      "Age^9                 -0.025753   0.020379  -1.264  0.20632    \n",
      "Age^10                -0.051716   0.018125  -2.853  0.00433 ** \n",
      "Age^11                 0.031232   0.016261   1.921  0.05478 .  \n",
      "Age^12                 0.043614   0.014335   3.043  0.00235 ** \n",
      "Education.L           -0.128850   0.083284  -1.547  0.12184    \n",
      "Education.Q           -0.026003   0.075701  -0.343  0.73123    \n",
      "Education.C            0.025402   0.053877   0.471  0.63730    \n",
      "Education^4           -0.064593   0.031795  -2.032  0.04220 *  \n",
      "Education^5           -0.033967   0.018016  -1.885  0.05938 .  \n",
      "Income.L              -0.415586   0.016134 -25.759  < 2e-16 ***\n",
      "Income.Q              -0.069333   0.014097  -4.918 8.73e-07 ***\n",
      "Income.C               0.007598   0.013569   0.560  0.57553    \n",
      "Income^4              -0.020095   0.013569  -1.481  0.13861    \n",
      "Income^5              -0.036866   0.013313  -2.769  0.00562 ** \n",
      "Income^6              -0.035023   0.012933  -2.708  0.00677 ** \n",
      "Income^7              -0.008166   0.012720  -0.642  0.52092    \n",
      "---\n",
      "Signif. codes:  0 '***' 0.001 '**' 0.01 '*' 0.05 '.' 0.1 ' ' 1\n",
      "\n",
      "(Dispersion parameter for binomial family taken to be 1)\n",
      "\n",
      "    Null deviance: 484324  on 349365  degrees of freedom\n",
      "Residual deviance: 356229  on 349324  degrees of freedom\n",
      "AIC: 356313\n",
      "\n",
      "Number of Fisher Scoring iterations: 5\n",
      "\n",
      "\n",
      " Metric 2: Model performance \n",
      "Confusion Matrix and Statistics\n",
      "\n",
      "                  actual_response\n",
      "binary_predictions      0      1\n",
      "                 0 126130  39280\n",
      "                 1  48636 135320\n",
      "                                          \n",
      "               Accuracy : 0.7484          \n",
      "                 95% CI : (0.7469, 0.7498)\n",
      "    No Information Rate : 0.5002          \n",
      "    P-Value [Acc > NIR] : < 2.2e-16       \n",
      "                                          \n",
      "                  Kappa : 0.4967          \n",
      "                                          \n",
      " Mcnemar's Test P-Value : < 2.2e-16       \n",
      "                                          \n",
      "            Sensitivity : 0.7217          \n",
      "            Specificity : 0.7750          \n",
      "         Pos Pred Value : 0.7625          \n",
      "         Neg Pred Value : 0.7356          \n",
      "             Prevalence : 0.5002          \n",
      "         Detection Rate : 0.3610          \n",
      "   Detection Prevalence : 0.4735          \n",
      "      Balanced Accuracy : 0.7484          \n",
      "                                          \n",
      "       'Positive' Class : 0               \n",
      "                                          \n",
      "Accuracy: 0.7483556 \n",
      "Precision: 0.7356107 \n",
      "Recall: 0.7750286 \n",
      "F1 Score: 0.7548054 \n",
      "\n",
      " Metric 3: ROC curve - AUC \n"
     ]
    },
    {
     "name": "stderr",
     "output_type": "stream",
     "text": [
      "Setting levels: control = 0, case = 1\n",
      "\n",
      "Setting direction: controls < cases\n",
      "\n"
     ]
    },
    {
     "name": "stdout",
     "output_type": "stream",
     "text": [
      "AUC:  0.7483683\n",
      " Metric 4: Overdispersion tests \n"
     ]
    },
    {
     "data": {
      "image/png": "[encoded data removed]",
      "text/plain": [
       "Plot with title \"ROC curve -- Logistic Regression \""
      ]
     },
     "metadata": {
      "image/png": {
       "height": 420,
       "width": 420
      }
     },
     "output_type": "display_data"
    },
    {
     "name": "stdout",
     "output_type": "stream",
     "text": [
      "\n",
      " Metric 4: Goodness-of-fit \n",
      "residual: 356228.6 \n",
      "dof: 349324 \n",
      "goodness-of-fit: 1.110223e-16\n",
      " Metric 5: QQ-norm \n"
     ]
    },
    {
     "data": {
      "image/png": "[encoded data removed]",
      "text/plain": [
       "Plot with title \"DHARMa nonparametric dispersion test via sd of\n",
       "residuals fitted vs. simulated\n",
       "\""
      ]
     },
     "metadata": {
      "image/png": {
       "height": 420,
       "width": 420
      }
     },
     "output_type": "display_data"
    },
    {
     "data": {
      "image/png": "[encoded data removed]",
      "text/plain": [
       "Plot with title \"Normal Q-Q Plot\""
      ]
     },
     "metadata": {
      "image/png": {
       "height": 420,
       "width": 420
      }
     },
     "output_type": "display_data"
    }
   ],
   "source": [
    "one_for_all_metric(logit_best_bic_model, balanced_training_data, \"Diabetes_binary\")"
   ]
  },
  {
   "cell_type": "code",
   "execution_count": 616,
   "id": "a34511f8-820b-4cd4-840e-13d5f9d864ae",
   "metadata": {},
   "outputs": [
    {
     "name": "stdout",
     "output_type": "stream",
     "text": [
      "\n",
      " Metric 1: ANOVA \n",
      "\n",
      "Call:\n",
      "glm(formula = Diabetes_binary ~ HighBP + HighChol + CholCheck + \n",
      "    BMI + Stroke + HeartDiseaseorAttack + PhysActivity + Fruits + \n",
      "    HvyAlcoholConsump + GenHlth + MentHlth + PhysHlth + DiffWalk + \n",
      "    Sex + Age + Education + Income, family = binomial(link = \"logit\"), \n",
      "    data = balanced_training_data)\n",
      "\n",
      "Deviance Residuals: \n",
      "    Min       1Q   Median       3Q      Max  \n",
      "-3.3832  -0.8101  -0.0974   0.8254   3.0785  \n",
      "\n",
      "Coefficients:\n",
      "                       Estimate Std. Error z value Pr(>|z|)    \n",
      "(Intercept)           -2.324829   0.044017 -52.817  < 2e-16 ***\n",
      "HighBP1                0.710623   0.008910  79.758  < 2e-16 ***\n",
      "HighChol1              0.546589   0.008532  64.062  < 2e-16 ***\n",
      "CholCheck1             1.256386   0.035811  35.084  < 2e-16 ***\n",
      "BMI                    0.495759   0.005017  98.815  < 2e-16 ***\n",
      "Stroke1                0.207125   0.018277  11.332  < 2e-16 ***\n",
      "HeartDiseaseorAttack1  0.279889   0.012714  22.015  < 2e-16 ***\n",
      "PhysActivity1         -0.057754   0.009532  -6.059 1.37e-09 ***\n",
      "Fruits1               -0.034019   0.008651  -3.933 8.41e-05 ***\n",
      "HvyAlcoholConsump1    -0.745871   0.021999 -33.904  < 2e-16 ***\n",
      "GenHlth.L              1.677837   0.018042  92.994  < 2e-16 ***\n",
      "GenHlth.Q             -0.396806   0.013594 -29.190  < 2e-16 ***\n",
      "GenHlth.C             -0.066920   0.010495  -6.376 1.81e-10 ***\n",
      "GenHlth^4              0.026280   0.008011   3.281  0.00104 ** \n",
      "MentHlth              -0.033686   0.004670  -7.213 5.46e-13 ***\n",
      "PhysHlth              -0.027226   0.005576  -4.883 1.04e-06 ***\n",
      "DiffWalk1              0.130407   0.011614  11.229  < 2e-16 ***\n",
      "Sex1                   0.302016   0.008578  35.206  < 2e-16 ***\n",
      "Age.L                  2.403850   0.034403  69.873  < 2e-16 ***\n",
      "Age.Q                 -0.620562   0.032032 -19.373  < 2e-16 ***\n",
      "Age.C                 -0.275337   0.029860  -9.221  < 2e-16 ***\n",
      "Age^4                  0.041519   0.028934   1.435  0.15130    \n",
      "Age^5                 -0.218498   0.028169  -7.757 8.72e-15 ***\n",
      "Age^6                  0.120613   0.026811   4.499 6.84e-06 ***\n",
      "Age^7                  0.008444   0.024965   0.338  0.73518    \n",
      "Age^8                  0.025662   0.022696   1.131  0.25818    \n",
      "Age^9                 -0.025753   0.020379  -1.264  0.20632    \n",
      "Age^10                -0.051716   0.018125  -2.853  0.00433 ** \n",
      "Age^11                 0.031232   0.016261   1.921  0.05478 .  \n",
      "Age^12                 0.043614   0.014335   3.043  0.00235 ** \n",
      "Education.L           -0.128850   0.083284  -1.547  0.12184    \n",
      "Education.Q           -0.026003   0.075701  -0.343  0.73123    \n",
      "Education.C            0.025402   0.053877   0.471  0.63730    \n",
      "Education^4           -0.064593   0.031795  -2.032  0.04220 *  \n",
      "Education^5           -0.033967   0.018016  -1.885  0.05938 .  \n",
      "Income.L              -0.415586   0.016134 -25.759  < 2e-16 ***\n",
      "Income.Q              -0.069333   0.014097  -4.918 8.73e-07 ***\n",
      "Income.C               0.007598   0.013569   0.560  0.57553    \n",
      "Income^4              -0.020095   0.013569  -1.481  0.13861    \n",
      "Income^5              -0.036866   0.013313  -2.769  0.00562 ** \n",
      "Income^6              -0.035023   0.012933  -2.708  0.00677 ** \n",
      "Income^7              -0.008166   0.012720  -0.642  0.52092    \n",
      "---\n",
      "Signif. codes:  0 '***' 0.001 '**' 0.01 '*' 0.05 '.' 0.1 ' ' 1\n",
      "\n",
      "(Dispersion parameter for binomial family taken to be 1)\n",
      "\n",
      "    Null deviance: 484324  on 349365  degrees of freedom\n",
      "Residual deviance: 356229  on 349324  degrees of freedom\n",
      "AIC: 356313\n",
      "\n",
      "Number of Fisher Scoring iterations: 5\n",
      "\n",
      "\n",
      " Metric 2: Model performance \n",
      "Confusion Matrix and Statistics\n",
      "\n",
      "                  actual_response\n",
      "binary_predictions     0     1\n",
      "                 0 30499  1438\n",
      "                 1 13069  5730\n",
      "                                         \n",
      "               Accuracy : 0.7141         \n",
      "                 95% CI : (0.7101, 0.718)\n",
      "    No Information Rate : 0.8587         \n",
      "    P-Value [Acc > NIR] : 1              \n",
      "                                         \n",
      "                  Kappa : 0.2977         \n",
      "                                         \n",
      " Mcnemar's Test P-Value : <2e-16         \n",
      "                                         \n",
      "            Sensitivity : 0.7000         \n",
      "            Specificity : 0.7994         \n",
      "         Pos Pred Value : 0.9550         \n",
      "         Neg Pred Value : 0.3048         \n",
      "             Prevalence : 0.8587         \n",
      "         Detection Rate : 0.6011         \n",
      "   Detection Prevalence : 0.6295         \n",
      "      Balanced Accuracy : 0.7497         \n",
      "                                         \n",
      "       'Positive' Class : 0              \n",
      "                                         \n",
      "Accuracy: 0.7140689 \n",
      "Precision: 0.3048034 \n",
      "Recall: 0.7993862 \n",
      "F1 Score: 0.4413294 \n",
      "\n",
      " Metric 3: ROC curve - AUC \n"
     ]
    },
    {
     "name": "stderr",
     "output_type": "stream",
     "text": [
      "Setting levels: control = 0, case = 1\n",
      "\n",
      "Setting direction: controls < cases\n",
      "\n"
     ]
    },
    {
     "name": "stdout",
     "output_type": "stream",
     "text": [
      "AUC:  0.7497091\n",
      " Metric 4: Overdispersion tests \n"
     ]
    },
    {
     "data": {
      "image/png": "[encoded data removed]",
      "text/plain": [
       "Plot with title \"ROC curve -- Logistic Regression \""
      ]
     },
     "metadata": {
      "image/png": {
       "height": 420,
       "width": 420
      }
     },
     "output_type": "display_data"
    },
    {
     "name": "stdout",
     "output_type": "stream",
     "text": [
      "\n",
      " Metric 4: Goodness-of-fit \n",
      "residual: 356228.6 \n",
      "dof: 349324 \n",
      "goodness-of-fit: 1.110223e-16\n",
      " Metric 5: QQ-norm \n"
     ]
    },
    {
     "data": {
      "image/png": "[encoded data removed]",
      "text/plain": [
       "Plot with title \"DHARMa nonparametric dispersion test via sd of\n",
       "residuals fitted vs. simulated\n",
       "\""
      ]
     },
     "metadata": {
      "image/png": {
       "height": 420,
       "width": 420
      }
     },
     "output_type": "display_data"
    },
    {
     "data": {
      "image/png": "[encoded data removed]",
      "text/plain": [
       "Plot with title \"Normal Q-Q Plot\""
      ]
     },
     "metadata": {
      "image/png": {
       "height": 420,
       "width": 420
      }
     },
     "output_type": "display_data"
    }
   ],
   "source": [
    "one_for_all_metric(logit_best_bic_model, testing_data, \"Diabetes_binary\")"
   ]
  },
  {
   "cell_type": "markdown",
   "id": "3419f7fb-ac92-48d2-acce-b10041b51073",
   "metadata": {},
   "source": [
    "## TEST"
   ]
  }
 ],
 "metadata": {
  "kernelspec": {
   "display_name": "R",
   "language": "R",
   "name": "ir"
  },
  "language_info": {
   "codemirror_mode": "r",
   "file_extension": ".r",
   "mimetype": "text/x-r-source",
   "name": "R",
   "pygments_lexer": "r",
   "version": "4.0.5"
  }
 },
 "nbformat": 4,
 "nbformat_minor": 5
}
