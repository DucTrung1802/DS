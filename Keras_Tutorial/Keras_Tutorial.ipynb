{
 "cells": [
  {
   "cell_type": "markdown",
   "metadata": {},
   "source": [
    "# Keras Tutorials"
   ]
  },
  {
   "cell_type": "markdown",
   "metadata": {},
   "source": [
    "### Run with GPU (if GPU faster CPU)"
   ]
  },
  {
   "cell_type": "code",
   "execution_count": 40,
   "metadata": {},
   "outputs": [
    {
     "name": "stdout",
     "output_type": "stream",
     "text": [
      "True\n"
     ]
    }
   ],
   "source": [
    "# Check for GPU availability\n",
    "import tensorflow as tf\n",
    "print(len(tf.config.experimental.list_physical_devices('GPU')) > 0)"
   ]
  },
  {
   "cell_type": "code",
   "execution_count": 41,
   "metadata": {},
   "outputs": [],
   "source": [
    "tf.config.set_visible_devices([], 'GPU')\n",
    "# physical_devices = tf.config.experimental.list_physical_devices('GPU')\n",
    "# tf.config.experimental.set_memory_growth(physical_devices[0], True)"
   ]
  },
  {
   "cell_type": "markdown",
   "metadata": {},
   "source": [
    "## Generate data"
   ]
  },
  {
   "cell_type": "code",
   "execution_count": 42,
   "metadata": {},
   "outputs": [],
   "source": [
    "import numpy as np\n",
    "import random\n",
    "from random import randint\n",
    "from sklearn.utils import shuffle\n",
    "from  sklearn.preprocessing import MinMaxScaler"
   ]
  },
  {
   "cell_type": "code",
   "execution_count": 43,
   "metadata": {},
   "outputs": [],
   "source": [
    "train_labels = []\n",
    "train_samples = []"
   ]
  },
  {
   "cell_type": "markdown",
   "metadata": {},
   "source": [
    "### Example data:\n",
    "- An experimental drug was tested on individuals from ages 13 to 100 in a clinical trial.\n",
    "- The trial had 2100 participants. Half were under 65 years old, half were 65 years or older.\n",
    "- Around 95% of patients 65 or older experienced side effects.\n",
    "- Around 95% of patients under 65 experienced no side effects."
   ]
  },
  {
   "cell_type": "code",
   "execution_count": 44,
   "metadata": {},
   "outputs": [],
   "source": [
    "random.seed(0)\n",
    "\n",
    "for i in range(50):\n",
    "    # The ~5% of younger individuals who did experience side effects\n",
    "    random_younger = randint(13, 64)\n",
    "    train_samples.append(random_younger)\n",
    "    train_labels.append(1)\n",
    "\n",
    "    # The ~5% of older individuals who did not experience side effects\n",
    "    random_older = randint(65, 100)\n",
    "    train_samples.append(random_older)\n",
    "    train_labels.append(0)\n",
    "\n",
    "for i in range(1000):\n",
    "    # The ~95% of younger individuals who did not experience side effects\n",
    "    random_younger = randint(13, 64)\n",
    "    train_samples.append(random_younger)\n",
    "    train_labels.append(0)\n",
    "\n",
    "    # The ~95% of older individuals who experience side effects\n",
    "    random_older = randint(65, 100)\n",
    "    train_samples.append(random_older)\n",
    "    train_labels.append(1)"
   ]
  },
  {
   "cell_type": "code",
   "execution_count": 45,
   "metadata": {},
   "outputs": [],
   "source": [
    "train_samples = np.array(train_samples)\n",
    "train_labels = np.array(train_labels)"
   ]
  },
  {
   "cell_type": "code",
   "execution_count": 46,
   "metadata": {},
   "outputs": [
    {
     "data": {
      "text/plain": [
       "array([37, 91, 15, ..., 91, 17, 99])"
      ]
     },
     "execution_count": 46,
     "metadata": {},
     "output_type": "execute_result"
    }
   ],
   "source": [
    "train_samples"
   ]
  },
  {
   "cell_type": "code",
   "execution_count": 47,
   "metadata": {},
   "outputs": [
    {
     "data": {
      "text/plain": [
       "array([1, 0, 1, ..., 1, 0, 1])"
      ]
     },
     "execution_count": 47,
     "metadata": {},
     "output_type": "execute_result"
    }
   ],
   "source": [
    "train_labels"
   ]
  },
  {
   "cell_type": "code",
   "execution_count": 48,
   "metadata": {},
   "outputs": [],
   "source": [
    "train_samples, train_labels = shuffle(train_samples, train_labels)"
   ]
  },
  {
   "cell_type": "code",
   "execution_count": 49,
   "metadata": {},
   "outputs": [],
   "source": [
    "scaler = MinMaxScaler(feature_range=(0, 1))\n",
    "scaled_train_samples = scaler.fit_transform(train_samples.reshape(-1, 1))"
   ]
  },
  {
   "cell_type": "code",
   "execution_count": 50,
   "metadata": {},
   "outputs": [
    {
     "data": {
      "text/plain": [
       "array([[0.83908046],\n",
       "       [0.66666667],\n",
       "       [0.36781609],\n",
       "       ...,\n",
       "       [0.37931034],\n",
       "       [0.94252874],\n",
       "       [0.08045977]])"
      ]
     },
     "execution_count": 50,
     "metadata": {},
     "output_type": "execute_result"
    }
   ],
   "source": [
    "scaled_train_samples"
   ]
  },
  {
   "cell_type": "markdown",
   "metadata": {},
   "source": [
    "## Simple tf.keras Sequential Model"
   ]
  },
  {
   "cell_type": "code",
   "execution_count": 51,
   "metadata": {},
   "outputs": [],
   "source": [
    "# For building models\n",
    "import tensorflow as tf\n",
    "from tensorflow import keras\n",
    "from keras.models import Sequential\n",
    "from keras.layers import Activation, Dense\n",
    "\n",
    "# For training models\n",
    "from keras.optimizers import Adam\n",
    "from keras.metrics import categorical_crossentropy"
   ]
  },
  {
   "cell_type": "markdown",
   "metadata": {},
   "source": [
    "## Build the Model"
   ]
  },
  {
   "cell_type": "code",
   "execution_count": 52,
   "metadata": {},
   "outputs": [],
   "source": [
    "model = Sequential([\n",
    "    Dense(name=\"Layer_2\", units=16, input_shape=(1,), activation=\"relu\"), # The first hidden layer (the second layover overall)\n",
    "    Dense(name=\"Layer_3\", units=32, activation=\"relu\"),\n",
    "    Dense(name=\"Layer_4\", units=2, activation=\"softmax\")\n",
    "])"
   ]
  },
  {
   "cell_type": "code",
   "execution_count": 53,
   "metadata": {},
   "outputs": [
    {
     "name": "stdout",
     "output_type": "stream",
     "text": [
      "Model: \"sequential_2\"\n",
      "_________________________________________________________________\n",
      " Layer (type)                Output Shape              Param #   \n",
      "=================================================================\n",
      " Layer_2 (Dense)             (None, 16)                32        \n",
      "                                                                 \n",
      " Layer_3 (Dense)             (None, 32)                544       \n",
      "                                                                 \n",
      " Layer_4 (Dense)             (None, 2)                 66        \n",
      "                                                                 \n",
      "=================================================================\n",
      "Total params: 642\n",
      "Trainable params: 642\n",
      "Non-trainable params: 0\n",
      "_________________________________________________________________\n"
     ]
    }
   ],
   "source": [
    "model.summary()"
   ]
  },
  {
   "cell_type": "code",
   "execution_count": 54,
   "metadata": {},
   "outputs": [],
   "source": [
    "model.compile(optimizer=Adam(learning_rate=0.0001), loss=\"sparse_categorical_crossentropy\", metrics=[\"accuracy\"])"
   ]
  },
  {
   "cell_type": "code",
   "execution_count": 55,
   "metadata": {},
   "outputs": [
    {
     "name": "stdout",
     "output_type": "stream",
     "text": [
      "Epoch 1/30\n"
     ]
    },
    {
     "name": "stdout",
     "output_type": "stream",
     "text": [
      "189/189 - 0s - loss: 0.6839 - accuracy: 0.5392 - val_loss: 0.6743 - val_accuracy: 0.6143 - 428ms/epoch - 2ms/step\n",
      "Epoch 2/30\n",
      "189/189 - 0s - loss: 0.6617 - accuracy: 0.6455 - val_loss: 0.6519 - val_accuracy: 0.6667 - 155ms/epoch - 818us/step\n",
      "Epoch 3/30\n",
      "189/189 - 0s - loss: 0.6400 - accuracy: 0.6921 - val_loss: 0.6301 - val_accuracy: 0.6952 - 146ms/epoch - 772us/step\n",
      "Epoch 4/30\n",
      "189/189 - 0s - loss: 0.6147 - accuracy: 0.7413 - val_loss: 0.6043 - val_accuracy: 0.7333 - 146ms/epoch - 772us/step\n",
      "Epoch 5/30\n",
      "189/189 - 0s - loss: 0.5891 - accuracy: 0.7704 - val_loss: 0.5796 - val_accuracy: 0.7524 - 145ms/epoch - 766us/step\n",
      "Epoch 6/30\n",
      "189/189 - 0s - loss: 0.5630 - accuracy: 0.7894 - val_loss: 0.5538 - val_accuracy: 0.7810 - 157ms/epoch - 833us/step\n",
      "Epoch 7/30\n",
      "189/189 - 0s - loss: 0.5358 - accuracy: 0.8042 - val_loss: 0.5273 - val_accuracy: 0.7905 - 151ms/epoch - 800us/step\n",
      "Epoch 8/30\n",
      "189/189 - 0s - loss: 0.5085 - accuracy: 0.8228 - val_loss: 0.5012 - val_accuracy: 0.8048 - 152ms/epoch - 805us/step\n",
      "Epoch 9/30\n",
      "189/189 - 0s - loss: 0.4819 - accuracy: 0.8439 - val_loss: 0.4762 - val_accuracy: 0.8429 - 147ms/epoch - 776us/step\n",
      "Epoch 10/30\n",
      "189/189 - 0s - loss: 0.4569 - accuracy: 0.8519 - val_loss: 0.4530 - val_accuracy: 0.8524 - 160ms/epoch - 846us/step\n",
      "Epoch 11/30\n",
      "189/189 - 0s - loss: 0.4336 - accuracy: 0.8646 - val_loss: 0.4314 - val_accuracy: 0.8619 - 156ms/epoch - 826us/step\n",
      "Epoch 12/30\n",
      "189/189 - 0s - loss: 0.4125 - accuracy: 0.8778 - val_loss: 0.4122 - val_accuracy: 0.8714 - 149ms/epoch - 786us/step\n",
      "Epoch 13/30\n",
      "189/189 - 0s - loss: 0.3932 - accuracy: 0.8831 - val_loss: 0.3942 - val_accuracy: 0.8762 - 147ms/epoch - 775us/step\n",
      "Epoch 14/30\n",
      "189/189 - 0s - loss: 0.3761 - accuracy: 0.8974 - val_loss: 0.3781 - val_accuracy: 0.8810 - 153ms/epoch - 808us/step\n",
      "Epoch 15/30\n",
      "189/189 - 0s - loss: 0.3609 - accuracy: 0.9037 - val_loss: 0.3646 - val_accuracy: 0.8810 - 148ms/epoch - 785us/step\n",
      "Epoch 16/30\n",
      "189/189 - 0s - loss: 0.3475 - accuracy: 0.9074 - val_loss: 0.3525 - val_accuracy: 0.8810 - 149ms/epoch - 787us/step\n",
      "Epoch 17/30\n",
      "189/189 - 0s - loss: 0.3359 - accuracy: 0.9079 - val_loss: 0.3420 - val_accuracy: 0.8952 - 150ms/epoch - 791us/step\n",
      "Epoch 18/30\n",
      "189/189 - 0s - loss: 0.3258 - accuracy: 0.9085 - val_loss: 0.3324 - val_accuracy: 0.8952 - 148ms/epoch - 782us/step\n",
      "Epoch 19/30\n",
      "189/189 - 0s - loss: 0.3171 - accuracy: 0.9127 - val_loss: 0.3240 - val_accuracy: 0.9000 - 150ms/epoch - 795us/step\n",
      "Epoch 20/30\n",
      "189/189 - 0s - loss: 0.3092 - accuracy: 0.9159 - val_loss: 0.3165 - val_accuracy: 0.9000 - 151ms/epoch - 801us/step\n",
      "Epoch 21/30\n",
      "189/189 - 0s - loss: 0.3023 - accuracy: 0.9159 - val_loss: 0.3101 - val_accuracy: 0.9000 - 146ms/epoch - 774us/step\n",
      "Epoch 22/30\n",
      "189/189 - 0s - loss: 0.2963 - accuracy: 0.9196 - val_loss: 0.3046 - val_accuracy: 0.9143 - 150ms/epoch - 793us/step\n",
      "Epoch 23/30\n",
      "189/189 - 0s - loss: 0.2916 - accuracy: 0.9212 - val_loss: 0.3003 - val_accuracy: 0.9143 - 150ms/epoch - 792us/step\n",
      "Epoch 24/30\n",
      "189/189 - 0s - loss: 0.2872 - accuracy: 0.9238 - val_loss: 0.2967 - val_accuracy: 0.9143 - 147ms/epoch - 777us/step\n",
      "Epoch 25/30\n",
      "189/189 - 0s - loss: 0.2836 - accuracy: 0.9233 - val_loss: 0.2926 - val_accuracy: 0.9143 - 145ms/epoch - 770us/step\n",
      "Epoch 26/30\n",
      "189/189 - 0s - loss: 0.2807 - accuracy: 0.9270 - val_loss: 0.2901 - val_accuracy: 0.9143 - 148ms/epoch - 783us/step\n",
      "Epoch 27/30\n",
      "189/189 - 0s - loss: 0.2777 - accuracy: 0.9275 - val_loss: 0.2873 - val_accuracy: 0.9143 - 149ms/epoch - 788us/step\n",
      "Epoch 28/30\n",
      "189/189 - 0s - loss: 0.2755 - accuracy: 0.9243 - val_loss: 0.2854 - val_accuracy: 0.9143 - 145ms/epoch - 765us/step\n",
      "Epoch 29/30\n",
      "189/189 - 0s - loss: 0.2734 - accuracy: 0.9243 - val_loss: 0.2825 - val_accuracy: 0.9286 - 149ms/epoch - 789us/step\n",
      "Epoch 30/30\n",
      "189/189 - 0s - loss: 0.2715 - accuracy: 0.9275 - val_loss: 0.2801 - val_accuracy: 0.9286 - 145ms/epoch - 767us/step\n"
     ]
    },
    {
     "data": {
      "text/plain": [
       "<keras.callbacks.History at 0x177cc6bc6d0>"
      ]
     },
     "execution_count": 55,
     "metadata": {},
     "output_type": "execute_result"
    }
   ],
   "source": [
    "model.fit(x=scaled_train_samples, y=train_labels, validation_split=0.1, batch_size=10, epochs=30, shuffle=True, verbose=2)"
   ]
  }
 ],
 "metadata": {
  "kernelspec": {
   "display_name": "Python 3",
   "language": "python",
   "name": "python3"
  },
  "language_info": {
   "codemirror_mode": {
    "name": "ipython",
    "version": 3
   },
   "file_extension": ".py",
   "mimetype": "text/x-python",
   "name": "python",
   "nbconvert_exporter": "python",
   "pygments_lexer": "ipython3",
   "version": "3.10.11"
  }
 },
 "nbformat": 4,
 "nbformat_minor": 2
}
