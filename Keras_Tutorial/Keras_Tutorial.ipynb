{
 "cells": [
  {
   "cell_type": "markdown",
   "metadata": {},
   "source": [
    "# Keras Tutorials"
   ]
  },
  {
   "cell_type": "markdown",
   "metadata": {},
   "source": [
    "### Setting table"
   ]
  },
  {
   "cell_type": "code",
   "execution_count": 141,
   "metadata": {},
   "outputs": [],
   "source": [
    "# Reopen Jupyter Notebook after change the parameter\n",
    "USE_GPU = False"
   ]
  },
  {
   "cell_type": "markdown",
   "metadata": {},
   "source": [
    "### Check whether GPU is available"
   ]
  },
  {
   "cell_type": "code",
   "execution_count": 142,
   "metadata": {},
   "outputs": [
    {
     "name": "stdout",
     "output_type": "stream",
     "text": [
      "True\n"
     ]
    }
   ],
   "source": [
    "# Check for GPU availability\n",
    "import tensorflow as tf\n",
    "print(len(tf.config.experimental.list_physical_devices('GPU')) > 0)"
   ]
  },
  {
   "cell_type": "markdown",
   "metadata": {},
   "source": [
    "### Choose CPU / CPU to run (change USE_GPU parameter)"
   ]
  },
  {
   "cell_type": "code",
   "execution_count": 143,
   "metadata": {},
   "outputs": [],
   "source": [
    "if USE_GPU:\n",
    "    physical_devices = tf.config.experimental.list_physical_devices('GPU')\n",
    "    tf.config.experimental.set_memory_growth(physical_devices[0], True)\n",
    "else:\n",
    "    tf.config.set_visible_devices([], 'GPU')"
   ]
  },
  {
   "cell_type": "markdown",
   "metadata": {},
   "source": [
    "## Generate data"
   ]
  },
  {
   "cell_type": "code",
   "execution_count": 144,
   "metadata": {},
   "outputs": [],
   "source": [
    "import numpy as np\n",
    "import random\n",
    "from random import randint\n",
    "from sklearn.utils import shuffle\n",
    "from  sklearn.preprocessing import MinMaxScaler"
   ]
  },
  {
   "cell_type": "code",
   "execution_count": 145,
   "metadata": {},
   "outputs": [],
   "source": [
    "train_labels = []\n",
    "train_samples = []"
   ]
  },
  {
   "cell_type": "markdown",
   "metadata": {},
   "source": [
    "### Example data:\n",
    "- An experimental drug was tested on individuals from ages 13 to 100 in a clinical trial.\n",
    "- The trial had 2100 participants. Half were under 65 years old, half were 65 years or older.\n",
    "- Around 95% of patients 65 or older experienced side effects.\n",
    "- Around 95% of patients under 65 experienced no side effects."
   ]
  },
  {
   "cell_type": "code",
   "execution_count": 146,
   "metadata": {},
   "outputs": [],
   "source": [
    "random.seed(0)\n",
    "\n",
    "for i in range(50):\n",
    "    # The ~5% of younger individuals who did experience side effects\n",
    "    random_younger = randint(13, 64)\n",
    "    train_samples.append(random_younger)\n",
    "    train_labels.append(1)\n",
    "\n",
    "    # The ~5% of older individuals who did not experience side effects\n",
    "    random_older = randint(65, 100)\n",
    "    train_samples.append(random_older)\n",
    "    train_labels.append(0)\n",
    "\n",
    "for i in range(1000):\n",
    "    # The ~95% of younger individuals who did not experience side effects\n",
    "    random_younger = randint(13, 64)\n",
    "    train_samples.append(random_younger)\n",
    "    train_labels.append(0)\n",
    "\n",
    "    # The ~95% of older individuals who experience side effects\n",
    "    random_older = randint(65, 100)\n",
    "    train_samples.append(random_older)\n",
    "    train_labels.append(1)"
   ]
  },
  {
   "cell_type": "code",
   "execution_count": 147,
   "metadata": {},
   "outputs": [],
   "source": [
    "train_samples = np.array(train_samples)\n",
    "train_labels = np.array(train_labels)"
   ]
  },
  {
   "cell_type": "code",
   "execution_count": 148,
   "metadata": {},
   "outputs": [
    {
     "data": {
      "text/plain": [
       "array([37, 91, 15, ..., 91, 17, 99])"
      ]
     },
     "execution_count": 148,
     "metadata": {},
     "output_type": "execute_result"
    }
   ],
   "source": [
    "train_samples"
   ]
  },
  {
   "cell_type": "code",
   "execution_count": 149,
   "metadata": {},
   "outputs": [
    {
     "data": {
      "text/plain": [
       "array([1, 0, 1, ..., 1, 0, 1])"
      ]
     },
     "execution_count": 149,
     "metadata": {},
     "output_type": "execute_result"
    }
   ],
   "source": [
    "train_labels"
   ]
  },
  {
   "cell_type": "code",
   "execution_count": 150,
   "metadata": {},
   "outputs": [],
   "source": [
    "train_samples, train_labels = shuffle(train_samples, train_labels)"
   ]
  },
  {
   "cell_type": "code",
   "execution_count": 151,
   "metadata": {},
   "outputs": [],
   "source": [
    "scaler = MinMaxScaler(feature_range=(0, 1))\n",
    "scaled_train_samples = scaler.fit_transform(train_samples.reshape(-1, 1))"
   ]
  },
  {
   "cell_type": "code",
   "execution_count": 152,
   "metadata": {},
   "outputs": [
    {
     "data": {
      "text/plain": [
       "array([[0.25287356],\n",
       "       [0.35632184],\n",
       "       [0.64367816],\n",
       "       ...,\n",
       "       [0.55172414],\n",
       "       [0.6091954 ],\n",
       "       [0.27586207]])"
      ]
     },
     "execution_count": 152,
     "metadata": {},
     "output_type": "execute_result"
    }
   ],
   "source": [
    "scaled_train_samples"
   ]
  },
  {
   "cell_type": "markdown",
   "metadata": {},
   "source": [
    "## Simple tf.keras Sequential Model"
   ]
  },
  {
   "cell_type": "code",
   "execution_count": 153,
   "metadata": {},
   "outputs": [],
   "source": [
    "# For building models\n",
    "import tensorflow as tf\n",
    "from tensorflow import keras\n",
    "from keras.models import Sequential\n",
    "from keras.layers import Activation, Dense\n",
    "\n",
    "# For training models\n",
    "from keras.optimizers import Adam\n",
    "from keras.metrics import categorical_crossentropy"
   ]
  },
  {
   "cell_type": "markdown",
   "metadata": {},
   "source": [
    "## Build the Model"
   ]
  },
  {
   "cell_type": "code",
   "execution_count": 154,
   "metadata": {},
   "outputs": [],
   "source": [
    "model = Sequential([\n",
    "    Dense(name=\"Layer_2\", units=16, input_shape=(1,), activation=\"relu\"), # The first hidden layer (the second layover overall)\n",
    "    Dense(name=\"Layer_3\", units=32, activation=\"relu\"),\n",
    "    Dense(name=\"Layer_4\", units=2, activation=\"softmax\")\n",
    "])"
   ]
  },
  {
   "cell_type": "code",
   "execution_count": 155,
   "metadata": {},
   "outputs": [
    {
     "name": "stdout",
     "output_type": "stream",
     "text": [
      "Model: \"sequential_7\"\n",
      "_________________________________________________________________\n",
      " Layer (type)                Output Shape              Param #   \n",
      "=================================================================\n",
      " Layer_2 (Dense)             (None, 16)                32        \n",
      "                                                                 \n",
      " Layer_3 (Dense)             (None, 32)                544       \n",
      "                                                                 \n",
      " Layer_4 (Dense)             (None, 2)                 66        \n",
      "                                                                 \n",
      "=================================================================\n",
      "Total params: 642\n",
      "Trainable params: 642\n",
      "Non-trainable params: 0\n",
      "_________________________________________________________________\n"
     ]
    }
   ],
   "source": [
    "model.summary()"
   ]
  },
  {
   "cell_type": "code",
   "execution_count": 156,
   "metadata": {},
   "outputs": [],
   "source": [
    "model.compile(optimizer=Adam(learning_rate=0.0001), loss=\"sparse_categorical_crossentropy\", metrics=[\"accuracy\"])"
   ]
  },
  {
   "cell_type": "code",
   "execution_count": 157,
   "metadata": {},
   "outputs": [
    {
     "name": "stdout",
     "output_type": "stream",
     "text": [
      "Epoch 1/30\n",
      "189/189 - 0s - loss: 0.6842 - accuracy: 0.6032 - val_loss: 0.6700 - val_accuracy: 0.6905 - 414ms/epoch - 2ms/step\n",
      "Epoch 2/30\n"
     ]
    },
    {
     "name": "stdout",
     "output_type": "stream",
     "text": [
      "189/189 - 0s - loss: 0.6649 - accuracy: 0.6582 - val_loss: 0.6443 - val_accuracy: 0.7667 - 146ms/epoch - 772us/step\n",
      "Epoch 3/30\n",
      "189/189 - 0s - loss: 0.6454 - accuracy: 0.6894 - val_loss: 0.6215 - val_accuracy: 0.7857 - 143ms/epoch - 757us/step\n",
      "Epoch 4/30\n",
      "189/189 - 0s - loss: 0.6262 - accuracy: 0.7169 - val_loss: 0.5980 - val_accuracy: 0.8048 - 147ms/epoch - 777us/step\n",
      "Epoch 5/30\n",
      "189/189 - 0s - loss: 0.6056 - accuracy: 0.7413 - val_loss: 0.5737 - val_accuracy: 0.8190 - 148ms/epoch - 785us/step\n",
      "Epoch 6/30\n",
      "189/189 - 0s - loss: 0.5840 - accuracy: 0.7667 - val_loss: 0.5493 - val_accuracy: 0.8238 - 144ms/epoch - 761us/step\n",
      "Epoch 7/30\n",
      "189/189 - 0s - loss: 0.5614 - accuracy: 0.7825 - val_loss: 0.5231 - val_accuracy: 0.8524 - 144ms/epoch - 762us/step\n",
      "Epoch 8/30\n",
      "189/189 - 0s - loss: 0.5381 - accuracy: 0.7974 - val_loss: 0.4982 - val_accuracy: 0.8524 - 147ms/epoch - 779us/step\n",
      "Epoch 9/30\n",
      "189/189 - 0s - loss: 0.5145 - accuracy: 0.8106 - val_loss: 0.4736 - val_accuracy: 0.8714 - 146ms/epoch - 773us/step\n",
      "Epoch 10/30\n",
      "189/189 - 0s - loss: 0.4910 - accuracy: 0.8270 - val_loss: 0.4502 - val_accuracy: 0.8952 - 144ms/epoch - 761us/step\n",
      "Epoch 11/30\n",
      "189/189 - 0s - loss: 0.4682 - accuracy: 0.8429 - val_loss: 0.4270 - val_accuracy: 0.9048 - 140ms/epoch - 742us/step\n",
      "Epoch 12/30\n",
      "189/189 - 0s - loss: 0.4466 - accuracy: 0.8534 - val_loss: 0.4085 - val_accuracy: 0.9095 - 149ms/epoch - 791us/step\n",
      "Epoch 13/30\n",
      "189/189 - 0s - loss: 0.4265 - accuracy: 0.8730 - val_loss: 0.3880 - val_accuracy: 0.9286 - 148ms/epoch - 781us/step\n",
      "Epoch 14/30\n",
      "189/189 - 0s - loss: 0.4081 - accuracy: 0.8778 - val_loss: 0.3699 - val_accuracy: 0.9286 - 148ms/epoch - 781us/step\n",
      "Epoch 15/30\n",
      "189/189 - 0s - loss: 0.3912 - accuracy: 0.8926 - val_loss: 0.3550 - val_accuracy: 0.9381 - 150ms/epoch - 791us/step\n",
      "Epoch 16/30\n",
      "189/189 - 0s - loss: 0.3765 - accuracy: 0.8899 - val_loss: 0.3426 - val_accuracy: 0.9429 - 148ms/epoch - 783us/step\n",
      "Epoch 17/30\n",
      "189/189 - 0s - loss: 0.3633 - accuracy: 0.8979 - val_loss: 0.3305 - val_accuracy: 0.9476 - 144ms/epoch - 761us/step\n",
      "Epoch 18/30\n",
      "189/189 - 0s - loss: 0.3515 - accuracy: 0.9032 - val_loss: 0.3194 - val_accuracy: 0.9476 - 162ms/epoch - 858us/step\n",
      "Epoch 19/30\n",
      "189/189 - 0s - loss: 0.3410 - accuracy: 0.9048 - val_loss: 0.3101 - val_accuracy: 0.9524 - 145ms/epoch - 769us/step\n",
      "Epoch 20/30\n",
      "189/189 - 0s - loss: 0.3317 - accuracy: 0.9069 - val_loss: 0.3017 - val_accuracy: 0.9524 - 140ms/epoch - 742us/step\n",
      "Epoch 21/30\n",
      "189/189 - 0s - loss: 0.3234 - accuracy: 0.9101 - val_loss: 0.2943 - val_accuracy: 0.9524 - 144ms/epoch - 761us/step\n",
      "Epoch 22/30\n",
      "189/189 - 0s - loss: 0.3163 - accuracy: 0.9143 - val_loss: 0.2866 - val_accuracy: 0.9524 - 150ms/epoch - 795us/step\n",
      "Epoch 23/30\n",
      "189/189 - 0s - loss: 0.3099 - accuracy: 0.9190 - val_loss: 0.2809 - val_accuracy: 0.9619 - 145ms/epoch - 769us/step\n",
      "Epoch 24/30\n",
      "189/189 - 0s - loss: 0.3044 - accuracy: 0.9190 - val_loss: 0.2761 - val_accuracy: 0.9619 - 140ms/epoch - 740us/step\n",
      "Epoch 25/30\n",
      "189/189 - 0s - loss: 0.2994 - accuracy: 0.9190 - val_loss: 0.2721 - val_accuracy: 0.9619 - 145ms/epoch - 768us/step\n",
      "Epoch 26/30\n",
      "189/189 - 0s - loss: 0.2951 - accuracy: 0.9190 - val_loss: 0.2678 - val_accuracy: 0.9619 - 147ms/epoch - 775us/step\n",
      "Epoch 27/30\n",
      "189/189 - 0s - loss: 0.2915 - accuracy: 0.9228 - val_loss: 0.2641 - val_accuracy: 0.9619 - 146ms/epoch - 770us/step\n",
      "Epoch 28/30\n",
      "189/189 - 0s - loss: 0.2880 - accuracy: 0.9286 - val_loss: 0.2610 - val_accuracy: 0.9619 - 147ms/epoch - 780us/step\n",
      "Epoch 29/30\n",
      "189/189 - 0s - loss: 0.2850 - accuracy: 0.9222 - val_loss: 0.2580 - val_accuracy: 0.9619 - 150ms/epoch - 791us/step\n",
      "Epoch 30/30\n",
      "189/189 - 0s - loss: 0.2824 - accuracy: 0.9296 - val_loss: 0.2547 - val_accuracy: 0.9619 - 144ms/epoch - 761us/step\n"
     ]
    },
    {
     "data": {
      "text/plain": [
       "<keras.callbacks.History at 0x19e2d4adcf0>"
      ]
     },
     "execution_count": 157,
     "metadata": {},
     "output_type": "execute_result"
    }
   ],
   "source": [
    "model.fit(x=scaled_train_samples, y=train_labels, validation_split=0.1, batch_size=10, epochs=30, shuffle=True, verbose=2)"
   ]
  },
  {
   "cell_type": "code",
   "execution_count": 158,
   "metadata": {},
   "outputs": [],
   "source": [
    "import os.path\n",
    "\n",
    "SAVE_FILE_NAME = \"medical_trial_model\"\n",
    "\n",
    "SAVE_FILE_NAME += \".h5\"\n",
    "\n",
    "model.save(os.path.join(os.getcwd(), SAVE_FILE_NAME))"
   ]
  },
  {
   "cell_type": "code",
   "execution_count": 159,
   "metadata": {},
   "outputs": [
    {
     "data": {
      "text/plain": [
       "'D:\\\\DATA SCIENCE\\\\CLOUD\\\\DATASETS\\\\cats_and_dogs\\\\TRAIN_SANDBOX'"
      ]
     },
     "execution_count": 159,
     "metadata": {},
     "output_type": "execute_result"
    }
   ],
   "source": [
    "os.getcwd()"
   ]
  },
  {
   "cell_type": "markdown",
   "metadata": {},
   "source": [
    "## Preprocess Test Data"
   ]
  },
  {
   "cell_type": "code",
   "execution_count": 160,
   "metadata": {},
   "outputs": [],
   "source": [
    "test_labels = []\n",
    "test_samples = []"
   ]
  },
  {
   "cell_type": "code",
   "execution_count": 161,
   "metadata": {},
   "outputs": [],
   "source": [
    "random.seed(101)\n",
    "\n",
    "for i in range(50):\n",
    "    # The ~5% of younger individuals who did experience side effects\n",
    "    random_younger = randint(13, 64)\n",
    "    test_samples.append(random_younger)\n",
    "    test_labels.append(1)\n",
    "\n",
    "    # The ~5% of older individuals who did not experience side effects\n",
    "    random_older = randint(65, 100)\n",
    "    test_samples.append(random_older)\n",
    "    test_labels.append(0)\n",
    "\n",
    "for i in range(1000):\n",
    "    # The ~95% of younger individuals who did not experience side effects\n",
    "    random_younger = randint(13, 64)\n",
    "    test_samples.append(random_younger)\n",
    "    test_labels.append(0)\n",
    "\n",
    "    # The ~95% of older individuals who experience side effects\n",
    "    random_older = randint(65, 100)\n",
    "    test_samples.append(random_older)\n",
    "    test_labels.append(1)"
   ]
  },
  {
   "cell_type": "code",
   "execution_count": 162,
   "metadata": {},
   "outputs": [],
   "source": [
    "test_labels = np.array(test_labels)\n",
    "test_samples = np.array(test_samples)\n",
    "test_samples, test_labels = shuffle(test_samples, test_labels)"
   ]
  },
  {
   "cell_type": "code",
   "execution_count": 163,
   "metadata": {},
   "outputs": [],
   "source": [
    "scaled_test_samples = scaler.fit_transform(test_samples.reshape(-1,1))"
   ]
  },
  {
   "cell_type": "markdown",
   "metadata": {},
   "source": [
    "## Predict"
   ]
  },
  {
   "cell_type": "code",
   "execution_count": 164,
   "metadata": {},
   "outputs": [],
   "source": [
    "predictions = model.predict(x=scaled_test_samples, batch_size=10, verbose=0)"
   ]
  },
  {
   "cell_type": "code",
   "execution_count": 165,
   "metadata": {},
   "outputs": [
    {
     "data": {
      "text/plain": [
       "array([[0.64088744, 0.3591125 ],\n",
       "       [0.03305393, 0.96694607],\n",
       "       [0.29717124, 0.70282876],\n",
       "       ...,\n",
       "       [0.9402922 , 0.05970778],\n",
       "       [0.9420903 , 0.05790979],\n",
       "       [0.9362427 , 0.06375737]], dtype=float32)"
      ]
     },
     "execution_count": 165,
     "metadata": {},
     "output_type": "execute_result"
    }
   ],
   "source": [
    "predictions"
   ]
  },
  {
   "cell_type": "code",
   "execution_count": 166,
   "metadata": {},
   "outputs": [],
   "source": [
    "rounded_predictions = np.argmax(predictions, axis=1)"
   ]
  },
  {
   "cell_type": "markdown",
   "metadata": {},
   "source": [
    "## Confusion matrix"
   ]
  },
  {
   "cell_type": "code",
   "execution_count": 167,
   "metadata": {},
   "outputs": [],
   "source": [
    "%matplotlib inline\n",
    "from sklearn.metrics import confusion_matrix\n",
    "import itertools\n",
    "import matplotlib.pyplot as plt"
   ]
  },
  {
   "cell_type": "code",
   "execution_count": 168,
   "metadata": {},
   "outputs": [],
   "source": [
    "cm = confusion_matrix(y_true=test_labels, y_pred=rounded_predictions)"
   ]
  },
  {
   "cell_type": "code",
   "execution_count": 169,
   "metadata": {},
   "outputs": [],
   "source": [
    "def plot_confusion_matrix(\n",
    "    cm, classes, percentiles=False, \n",
    "        normalize=False, title=\"Confusion matrix\", cmap=plt.cm.Blues\n",
    "):\n",
    "    \"\"\"\n",
    "    This function prints and plots the confusion matrix.\n",
    "    Nomralization can be applied by setting \"normalize=True\"\n",
    "    \"\"\"\n",
    "\n",
    "    plt.imshow(cm, interpolation=\"nearest\", cmap=cmap)\n",
    "    plt.title(title)\n",
    "    plt.colorbar()\n",
    "    tick_marks = np.arange(len(classes))\n",
    "    plt.xticks(tick_marks, classes, rotation=45)\n",
    "    plt.yticks(tick_marks, classes)\n",
    "\n",
    "    if normalize:\n",
    "        cm = cm.astype(\"float\") / cm.sum(axis=1)[:, np.newaxis]\n",
    "        print(\"Normalized confusion matrix\")\n",
    "    else:\n",
    "        print(\"Confusion matrix, without normalization\")\n",
    "\n",
    "    print(cm)\n",
    "\n",
    "    threshold = cm.max() / 2\n",
    "    for i, j in itertools.product(range(cm.shape[0]), range(cm.shape[1])):\n",
    "        plt.text(\n",
    "            j,\n",
    "            i,\n",
    "            cm[i, j],\n",
    "            horizontalalignment=\"center\",\n",
    "            color=\"white\" if cm[i, j] > threshold else \"black\",\n",
    "        )\n",
    "        plt.tight_layout()\n",
    "        plt.ylabel(\"True Labels\")\n",
    "        plt.xlabel(\"Predicted Labels\")"
   ]
  },
  {
   "cell_type": "code",
   "execution_count": 170,
   "metadata": {},
   "outputs": [
    {
     "name": "stdout",
     "output_type": "stream",
     "text": [
      "Confusion matrix, without normalization\n",
      "[[ 963   87]\n",
      " [  47 1003]]\n"
     ]
    },
    {
     "data": {
      "image/png": "[encoded data removed]",
      "text/plain": [
       "<Figure size 640x480 with 2 Axes>"
      ]
     },
     "metadata": {},
     "output_type": "display_data"
    }
   ],
   "source": [
    "cm_plot_labels = [\"no_side_effects\", \"had_side_effects\"]\n",
    "plot_confusion_matrix(cm=cm, classes=cm_plot_labels, title=\"Confusion Matrix\")"
   ]
  },
  {
   "cell_type": "markdown",
   "metadata": {},
   "source": [
    "## Save and Load a model"
   ]
  },
  {
   "cell_type": "code",
   "execution_count": 171,
   "metadata": {},
   "outputs": [
    {
     "name": "stdout",
     "output_type": "stream",
     "text": [
      "Model: \"sequential_7\"\n",
      "_________________________________________________________________\n",
      " Layer (type)                Output Shape              Param #   \n",
      "=================================================================\n",
      " Layer_2 (Dense)             (None, 16)                32        \n",
      "                                                                 \n",
      " Layer_3 (Dense)             (None, 32)                544       \n",
      "                                                                 \n",
      " Layer_4 (Dense)             (None, 2)                 66        \n",
      "                                                                 \n",
      "=================================================================\n",
      "Total params: 642\n",
      "Trainable params: 642\n",
      "Non-trainable params: 0\n",
      "_________________________________________________________________\n"
     ]
    }
   ],
   "source": [
    "model.summary()"
   ]
  },
  {
   "cell_type": "markdown",
   "metadata": {},
   "source": [
    "### 1. model.save()"
   ]
  },
  {
   "cell_type": "code",
   "execution_count": 172,
   "metadata": {},
   "outputs": [],
   "source": [
    "# Check first to see if file exists already.\n",
    "# If not, the model is saved to disk.\n",
    "import os.path\n",
    "\n",
    "SAVE_FILE_NAME = \"medical_trial_model\"\n",
    "\n",
    "SAVE_FILE_NAME += \".h5\"\n",
    "\n",
    "model.save(os.path.join(os.getcwd(), SAVE_FILE_NAME))"
   ]
  },
  {
   "cell_type": "markdown",
   "metadata": {},
   "source": [
    "This function saves:\n",
    "- The architecture of the model, allowing to re-create the model.\n",
    "- The weights of the model.\n",
    "- The training configuration (loss, optimizer)\n",
    "- The state of the optimizer, allowing to resume training exactly where you left off."
   ]
  },
  {
   "cell_type": "code",
   "execution_count": 173,
   "metadata": {},
   "outputs": [
    {
     "data": {
      "text/plain": [
       "'D:\\\\DATA SCIENCE\\\\CLOUD\\\\DATASETS\\\\cats_and_dogs\\\\TRAIN_SANDBOX\\\\medical_trial_model.h5'"
      ]
     },
     "execution_count": 173,
     "metadata": {},
     "output_type": "execute_result"
    }
   ],
   "source": [
    "os.path.join(os.getcwd(), SAVE_FILE_NAME)"
   ]
  },
  {
   "cell_type": "code",
   "execution_count": 174,
   "metadata": {},
   "outputs": [],
   "source": [
    "from tensorflow.keras.models import load_model\n",
    "\n",
    "LOAD_FILE_NAME = SAVE_FILE_NAME\n",
    "new_model = load_model(os.path.join(os.getcwd(), LOAD_FILE_NAME))"
   ]
  },
  {
   "cell_type": "code",
   "execution_count": 175,
   "metadata": {},
   "outputs": [
    {
     "name": "stdout",
     "output_type": "stream",
     "text": [
      "Model: \"sequential_7\"\n",
      "_________________________________________________________________\n",
      " Layer (type)                Output Shape              Param #   \n",
      "=================================================================\n",
      " Layer_2 (Dense)             (None, 16)                32        \n",
      "                                                                 \n",
      " Layer_3 (Dense)             (None, 32)                544       \n",
      "                                                                 \n",
      " Layer_4 (Dense)             (None, 2)                 66        \n",
      "                                                                 \n",
      "=================================================================\n",
      "Total params: 642\n",
      "Trainable params: 642\n",
      "Non-trainable params: 0\n",
      "_________________________________________________________________\n"
     ]
    }
   ],
   "source": [
    "new_model.summary()"
   ]
  },
  {
   "cell_type": "code",
   "execution_count": 176,
   "metadata": {},
   "outputs": [
    {
     "data": {
      "text/plain": [
       "[array([[ 0.6584915 , -0.3049085 , -0.2938841 , -0.09668538, -0.26987582,\n",
       "          0.7624705 ,  0.50892496,  0.34990948, -0.23860714, -0.04333514,\n",
       "         -0.38872713, -0.38354716, -0.5350459 ,  0.5805168 , -0.4644678 ,\n",
       "         -0.30706018]], dtype=float32),\n",
       " array([ 0.19242221,  0.        ,  0.        ,  0.        ,  0.        ,\n",
       "        -0.17393374, -0.14370026, -0.05722015,  0.        ,  0.        ,\n",
       "         0.        ,  0.        ,  0.        , -0.1568486 ,  0.        ,\n",
       "         0.        ], dtype=float32),\n",
       " array([[-0.31446573,  0.4465321 ,  0.08388863, -0.32785064, -0.00735272,\n",
       "         -0.08431655, -0.21712008,  0.12915453,  0.3183404 , -0.08749685,\n",
       "          0.2646872 ,  0.31336823, -0.1747695 , -0.23444675, -0.06458846,\n",
       "          0.08262671,  0.22398412,  0.22938444, -0.3224559 ,  0.33039266,\n",
       "         -0.18960923,  0.2598306 ,  0.03120554, -0.24220344, -0.33399203,\n",
       "          0.11526578,  0.22177069, -0.30262017, -0.27582422,  0.28535596,\n",
       "         -0.16527794, -0.00766416],\n",
       "        [ 0.02992123, -0.0528599 , -0.2605278 , -0.09305316,  0.18227705,\n",
       "          0.2709283 , -0.14315   , -0.3400176 ,  0.32621536,  0.20881537,\n",
       "         -0.20587893, -0.1478562 , -0.04294527, -0.12477195,  0.2872065 ,\n",
       "         -0.1891607 ,  0.04161564, -0.0090431 ,  0.25815997, -0.2983121 ,\n",
       "          0.14544919, -0.13906571, -0.11964765, -0.04946151, -0.15320952,\n",
       "         -0.17017944,  0.06087193,  0.2556841 , -0.12695314, -0.3367592 ,\n",
       "         -0.10466723,  0.16182116],\n",
       "        [ 0.2719908 , -0.13918735,  0.25026378,  0.26689455,  0.3458787 ,\n",
       "          0.05173543, -0.01276207,  0.16294333, -0.33556914, -0.27052578,\n",
       "          0.11116999, -0.28572378, -0.04308698,  0.20588252, -0.03297216,\n",
       "          0.29002276, -0.13430169, -0.28135845,  0.2745832 , -0.31520185,\n",
       "          0.04149744,  0.15284637,  0.00154772,  0.33477047,  0.0751802 ,\n",
       "         -0.2423378 ,  0.00180236, -0.14488848,  0.15740708,  0.06417406,\n",
       "          0.13318631, -0.11054696],\n",
       "        [-0.1046105 , -0.334693  ,  0.2130445 ,  0.2039679 , -0.26222318,\n",
       "          0.1482875 ,  0.17186788,  0.04782286,  0.29183862,  0.25731525,\n",
       "         -0.30847   ,  0.06953353, -0.21785925, -0.314644  ,  0.19231918,\n",
       "         -0.26765987,  0.1001007 , -0.11471504,  0.21642771,  0.06960931,\n",
       "          0.03711653, -0.02103844,  0.18414769, -0.33814254, -0.16005796,\n",
       "          0.27466884, -0.01303113,  0.29705384,  0.24942413,  0.25519392,\n",
       "          0.2787262 ,  0.07563329],\n",
       "        [ 0.00884485, -0.2986137 , -0.14000517,  0.02172697, -0.04326442,\n",
       "         -0.16046375,  0.04374033,  0.13514817,  0.08470556, -0.1574811 ,\n",
       "          0.1458984 , -0.00614089,  0.25276342,  0.28020844, -0.23541138,\n",
       "          0.06617764, -0.1242629 , -0.17118903,  0.00655746, -0.3139156 ,\n",
       "         -0.20713447,  0.21705726, -0.02313811,  0.01855347,  0.09867984,\n",
       "         -0.2246266 ,  0.00911704,  0.2584882 ,  0.17137888,  0.08190221,\n",
       "          0.30978456, -0.00383773],\n",
       "        [-0.04708436, -0.06464223,  0.41311777,  0.10978395, -0.16626757,\n",
       "         -0.1584    , -0.34178573, -0.3332429 , -0.47398978, -0.21598414,\n",
       "         -0.18526189, -0.0230483 ,  0.30501282,  0.11808569, -0.3229884 ,\n",
       "          0.5645754 ,  0.48415422,  0.28847712, -0.13558885,  0.22063747,\n",
       "         -0.2370359 , -0.12586245, -0.46459755, -0.1228659 ,  0.28065947,\n",
       "          0.39307025,  0.44265205,  0.3161373 , -0.311146  ,  0.37606668,\n",
       "         -0.23135778,  0.2600524 ],\n",
       "        [ 0.31565192,  0.42162544,  0.50110006,  0.20936605, -0.06414691,\n",
       "          0.16050664,  0.04513869, -0.36325312, -0.5053962 ,  0.13317958,\n",
       "         -0.36353043,  0.32735896, -0.09005728, -0.45435768,  0.11767814,\n",
       "          0.50656956,  0.40266258,  0.14080963, -0.34333792,  0.40751258,\n",
       "         -0.31558624, -0.19661488,  0.08224458, -0.14264913,  0.33085486,\n",
       "          0.5919731 ,  0.173981  , -0.1163623 , -0.3462067 ,  0.01009752,\n",
       "          0.35328868, -0.25077873],\n",
       "        [-0.15164688, -0.12996946,  0.4977908 , -0.00317222,  0.1687031 ,\n",
       "          0.09265807, -0.15091135, -0.38266978,  0.13442333, -0.01443657,\n",
       "         -0.14866811,  0.34000826, -0.23764087, -0.14451455, -0.20675313,\n",
       "          0.42010117, -0.0955948 ,  0.5062827 , -0.01970053,  0.29862094,\n",
       "          0.03268683, -0.22953533,  0.05519435, -0.18561919, -0.04000106,\n",
       "          0.39642212, -0.04257053, -0.27448505, -0.1784876 ,  0.44552734,\n",
       "          0.19553652, -0.11374869],\n",
       "        [ 0.22461167,  0.24492201, -0.29544023, -0.2647396 , -0.30317256,\n",
       "          0.08825272, -0.01089209,  0.0799621 , -0.00493547, -0.0102137 ,\n",
       "         -0.34338942,  0.11884207, -0.27921233, -0.07475755,  0.11761576,\n",
       "          0.34771726, -0.02491385, -0.18204193, -0.18623064, -0.00420988,\n",
       "         -0.0488584 , -0.2767958 , -0.2910749 , -0.14592427,  0.21841964,\n",
       "          0.05365065,  0.087933  ,  0.04598784, -0.22131267, -0.18311617,\n",
       "          0.20427045,  0.06986108],\n",
       "        [-0.28158766,  0.07838833,  0.0852764 , -0.01797217, -0.04571643,\n",
       "         -0.2770514 ,  0.27249494,  0.12012601, -0.1160457 ,  0.10392326,\n",
       "          0.17928252, -0.04887348,  0.21362194,  0.10711789,  0.34024516,\n",
       "          0.17931142,  0.10782182,  0.19516686, -0.09944877, -0.16884795,\n",
       "          0.34538087, -0.18505678,  0.05625013, -0.32260764,  0.18682131,\n",
       "          0.07032192,  0.10491851, -0.0007734 , -0.31444365,  0.18053368,\n",
       "          0.18542287, -0.27864066],\n",
       "        [-0.34970176, -0.01514959, -0.07753116, -0.12299985, -0.15791716,\n",
       "         -0.17554785, -0.05836192, -0.07856357, -0.17277029,  0.30482766,\n",
       "         -0.2673768 , -0.09977102,  0.14361328, -0.11113651, -0.20910425,\n",
       "          0.11795664,  0.26168928, -0.19416337, -0.11046158,  0.12965685,\n",
       "         -0.04139167,  0.32562813, -0.11607806, -0.1892637 ,  0.03020269,\n",
       "         -0.18095386, -0.18775679, -0.24550614, -0.04914558, -0.2199816 ,\n",
       "         -0.16407566, -0.19295384],\n",
       "        [-0.23038983,  0.24405864,  0.20894316,  0.17389956,  0.2140635 ,\n",
       "         -0.15689492,  0.20934305, -0.25310236,  0.32819793,  0.32643846,\n",
       "          0.24458674,  0.23271921, -0.26223835, -0.05746418,  0.03031361,\n",
       "          0.3456764 ,  0.2578937 ,  0.2758201 ,  0.16415015,  0.29158953,\n",
       "          0.16433528,  0.11836377, -0.2183312 ,  0.33832243,  0.3532327 ,\n",
       "          0.16648164,  0.30758354, -0.15597992, -0.06577346,  0.2671102 ,\n",
       "          0.3102148 ,  0.27214774],\n",
       "        [ 0.08337927,  0.31977555,  0.143011  ,  0.02782905,  0.14274338,\n",
       "         -0.07926795,  0.15796486,  0.34194592,  0.12071195,  0.2682726 ,\n",
       "         -0.05815676, -0.32395104, -0.23649296,  0.24253967, -0.0439488 ,\n",
       "          0.15413186,  0.12447548, -0.31332937,  0.25701764, -0.09735543,\n",
       "          0.2875873 , -0.19054143, -0.33135068, -0.23121399,  0.33944753,\n",
       "         -0.07183483,  0.21817866, -0.08677471, -0.06594574, -0.16451862,\n",
       "         -0.20077655,  0.12309974],\n",
       "        [ 0.05934647,  0.6171043 , -0.05685873, -0.13611704, -0.4822557 ,\n",
       "          0.11021399, -0.19388132,  0.04210484, -0.34731022,  0.19859698,\n",
       "         -0.5612665 ,  0.61224794, -0.18075737, -0.12231787, -0.23922408,\n",
       "          0.6140743 ,  0.20210806,  0.37868357,  0.2631859 ,  0.37640685,\n",
       "          0.00416797, -0.56411034, -0.34825864,  0.02301326, -0.27389964,\n",
       "          0.03228343,  0.48780456,  0.17005925,  0.32173935,  0.3091025 ,\n",
       "         -0.2909934 , -0.34809646],\n",
       "        [-0.14363098, -0.3203357 , -0.04964712,  0.07376146,  0.23648563,\n",
       "         -0.22204274, -0.10082665, -0.134943  ,  0.12856078, -0.11393541,\n",
       "         -0.25009492,  0.19163033, -0.0693399 ,  0.18504563,  0.25236186,\n",
       "         -0.3149349 , -0.2477476 ,  0.15616933,  0.18102899,  0.26823398,\n",
       "          0.18822363,  0.26424554,  0.09216294, -0.00618505, -0.18539733,\n",
       "          0.14047891, -0.17401624, -0.11700699, -0.34511796, -0.31776685,\n",
       "          0.0533461 ,  0.23045138],\n",
       "        [ 0.20397583,  0.1013903 , -0.3194319 ,  0.24863544, -0.02501366,\n",
       "         -0.2721368 ,  0.1269173 , -0.17080507, -0.10729121, -0.3233857 ,\n",
       "         -0.27040195, -0.19926651, -0.29000217,  0.0894663 ,  0.11308885,\n",
       "          0.30840907,  0.10105565,  0.13847944, -0.3408649 , -0.17131539,\n",
       "          0.22095188, -0.31003287,  0.35164598, -0.23476115, -0.03363547,\n",
       "         -0.23944223, -0.04435232,  0.13213661,  0.18004069, -0.16822569,\n",
       "         -0.17228223,  0.03062162]], dtype=float32),\n",
       " array([ 0.00000000e+00, -1.43570393e-01, -8.78806114e-02,  0.00000000e+00,\n",
       "         2.32864588e-01,  0.00000000e+00,  0.00000000e+00,  2.60249406e-01,\n",
       "         2.55918890e-01,  0.00000000e+00,  2.45200142e-01, -1.30517229e-01,\n",
       "        -5.18698944e-04,  3.28397661e-01,  0.00000000e+00, -9.73692164e-02,\n",
       "        -9.81227010e-02, -1.19884282e-01,  0.00000000e+00, -1.39404014e-01,\n",
       "         0.00000000e+00,  1.94763198e-01,  2.92779803e-01,  0.00000000e+00,\n",
       "         0.00000000e+00, -9.07528996e-02, -1.00324415e-01,  8.85117333e-05,\n",
       "         0.00000000e+00, -1.33188322e-01,  0.00000000e+00, -3.13029066e-03],\n",
       "       dtype=float32),\n",
       " array([[ 0.26666823, -0.26557392],\n",
       "        [-0.3919302 ,  0.2976161 ],\n",
       "        [-0.37091818,  0.51207817],\n",
       "        [ 0.3885832 ,  0.14705792],\n",
       "        [ 0.29397038, -0.8118164 ],\n",
       "        [ 0.20361921, -0.00698516],\n",
       "        [-0.19199604, -0.07371971],\n",
       "        [ 0.5113407 , -0.5597487 ],\n",
       "        [ 0.85813487, -0.81145954],\n",
       "        [ 0.41424122,  0.3380004 ],\n",
       "        [ 0.6806742 , -0.48049724],\n",
       "        [-0.42080215,  0.24860317],\n",
       "        [-0.32810083,  0.16732897],\n",
       "        [ 0.3077954 , -0.76277167],\n",
       "        [-0.2807449 , -0.35234544],\n",
       "        [-0.01420986,  0.59008104],\n",
       "        [-0.46252874,  0.24227391],\n",
       "        [-0.45178717,  0.29239863],\n",
       "        [ 0.39684018, -0.05739692],\n",
       "        [-0.40512496,  0.14545478],\n",
       "        [-0.01828206, -0.00609788],\n",
       "        [ 0.3540947 , -0.66963905],\n",
       "        [ 0.46359992, -0.6604112 ],\n",
       "        [ 0.00163594, -0.32869464],\n",
       "        [-0.1372877 ,  0.2697347 ],\n",
       "        [-0.59317344,  0.31013653],\n",
       "        [-0.31282485,  0.00193722],\n",
       "        [ 0.02890354, -0.1669256 ],\n",
       "        [ 0.09961107, -0.16499633],\n",
       "        [-0.3766524 ,  0.24014181],\n",
       "        [ 0.1839414 ,  0.39062437],\n",
       "        [-0.16688369, -0.14287867]], dtype=float32),\n",
       " array([ 0.1696254 , -0.16962543], dtype=float32)]"
      ]
     },
     "execution_count": 176,
     "metadata": {},
     "output_type": "execute_result"
    }
   ],
   "source": [
    "new_model.get_weights()"
   ]
  },
  {
   "cell_type": "code",
   "execution_count": 177,
   "metadata": {},
   "outputs": [
    {
     "data": {
      "text/plain": [
       "<keras.optimizers.optimizer_v2.adam.Adam at 0x19e2c1eb730>"
      ]
     },
     "execution_count": 177,
     "metadata": {},
     "output_type": "execute_result"
    }
   ],
   "source": [
    "new_model.optimizer"
   ]
  },
  {
   "cell_type": "markdown",
   "metadata": {},
   "source": [
    "### 2. model.to_json()"
   ]
  },
  {
   "cell_type": "markdown",
   "metadata": {},
   "source": [
    "If you only need to save the architecture of a model, and not its weights or its training configuration, you can use the following function to save the architecture only."
   ]
  },
  {
   "cell_type": "code",
   "execution_count": 178,
   "metadata": {},
   "outputs": [],
   "source": [
    "# save as JSON\n",
    "json_string = model.to_json()\n",
    "\n",
    "# save as YAML\n",
    "# yaml_string = model.to_yaml()"
   ]
  },
  {
   "cell_type": "code",
   "execution_count": 179,
   "metadata": {},
   "outputs": [
    {
     "data": {
      "text/plain": [
       "'{\"class_name\": \"Sequential\", \"config\": {\"name\": \"sequential_7\", \"layers\": [{\"class_name\": \"InputLayer\", \"config\": {\"batch_input_shape\": [null, 1], \"dtype\": \"float32\", \"sparse\": false, \"ragged\": false, \"name\": \"Layer_2_input\"}}, {\"class_name\": \"Dense\", \"config\": {\"name\": \"Layer_2\", \"trainable\": true, \"batch_input_shape\": [null, 1], \"dtype\": \"float32\", \"units\": 16, \"activation\": \"relu\", \"use_bias\": true, \"kernel_initializer\": {\"class_name\": \"GlorotUniform\", \"config\": {\"seed\": null}}, \"bias_initializer\": {\"class_name\": \"Zeros\", \"config\": {}}, \"kernel_regularizer\": null, \"bias_regularizer\": null, \"activity_regularizer\": null, \"kernel_constraint\": null, \"bias_constraint\": null}}, {\"class_name\": \"Dense\", \"config\": {\"name\": \"Layer_3\", \"trainable\": true, \"dtype\": \"float32\", \"units\": 32, \"activation\": \"relu\", \"use_bias\": true, \"kernel_initializer\": {\"class_name\": \"GlorotUniform\", \"config\": {\"seed\": null}}, \"bias_initializer\": {\"class_name\": \"Zeros\", \"config\": {}}, \"kernel_regularizer\": null, \"bias_regularizer\": null, \"activity_regularizer\": null, \"kernel_constraint\": null, \"bias_constraint\": null}}, {\"class_name\": \"Dense\", \"config\": {\"name\": \"Layer_4\", \"trainable\": true, \"dtype\": \"float32\", \"units\": 2, \"activation\": \"softmax\", \"use_bias\": true, \"kernel_initializer\": {\"class_name\": \"GlorotUniform\", \"config\": {\"seed\": null}}, \"bias_initializer\": {\"class_name\": \"Zeros\", \"config\": {}}, \"kernel_regularizer\": null, \"bias_regularizer\": null, \"activity_regularizer\": null, \"kernel_constraint\": null, \"bias_constraint\": null}}]}, \"keras_version\": \"2.10.0\", \"backend\": \"tensorflow\"}'"
      ]
     },
     "execution_count": 179,
     "metadata": {},
     "output_type": "execute_result"
    }
   ],
   "source": [
    "json_string"
   ]
  },
  {
   "cell_type": "code",
   "execution_count": 180,
   "metadata": {},
   "outputs": [],
   "source": [
    "# model reconstruction from JSON\n",
    "from tensorflow.keras.models import model_from_json\n",
    "\n",
    "model_architecture = model_from_json(json_string)\n",
    "\n",
    "# model reconstruction from YAML\n",
    "# from tensorflow.keras.models import model_from_yaml\n",
    "# model = model_from_yaml(yaml_string)"
   ]
  },
  {
   "cell_type": "code",
   "execution_count": 181,
   "metadata": {},
   "outputs": [
    {
     "name": "stdout",
     "output_type": "stream",
     "text": [
      "Model: \"sequential_7\"\n",
      "_________________________________________________________________\n",
      " Layer (type)                Output Shape              Param #   \n",
      "=================================================================\n",
      " Layer_2 (Dense)             (None, 16)                32        \n",
      "                                                                 \n",
      " Layer_3 (Dense)             (None, 32)                544       \n",
      "                                                                 \n",
      " Layer_4 (Dense)             (None, 2)                 66        \n",
      "                                                                 \n",
      "=================================================================\n",
      "Total params: 642\n",
      "Trainable params: 642\n",
      "Non-trainable params: 0\n",
      "_________________________________________________________________\n"
     ]
    }
   ],
   "source": [
    "model_architecture.summary()"
   ]
  },
  {
   "cell_type": "markdown",
   "metadata": {},
   "source": [
    "### 3. model.save_weights()"
   ]
  },
  {
   "cell_type": "code",
   "execution_count": 182,
   "metadata": {},
   "outputs": [],
   "source": [
    "# Check first to see if file exists already\n",
    "# If not,  the weights are saved to disk.\n",
    "import os.path\n",
    "if os.path.isfile(os.path.join(os.getcwd(), LOAD_FILE_NAME)) is False:\n",
    "    model.save_weights(os.path.join(os.getcwd(), LOAD_FILE_NAME))"
   ]
  },
  {
   "cell_type": "code",
   "execution_count": 183,
   "metadata": {},
   "outputs": [],
   "source": [
    "model_2 = Sequential([\n",
    "    Dense(units=16, input_shape=(1,), activation='relu'),\n",
    "    Dense(units=32, activation=\"relu\"),\n",
    "    Dense(units=2, activation=\"softmax\"),\n",
    "])"
   ]
  },
  {
   "cell_type": "code",
   "execution_count": 184,
   "metadata": {},
   "outputs": [],
   "source": [
    "model_2.load_weights(os.path.join(os.getcwd(), LOAD_FILE_NAME))"
   ]
  },
  {
   "cell_type": "code",
   "execution_count": 185,
   "metadata": {},
   "outputs": [
    {
     "data": {
      "text/plain": [
       "[array([[ 0.6584915 , -0.3049085 , -0.2938841 , -0.09668538, -0.26987582,\n",
       "          0.7624705 ,  0.50892496,  0.34990948, -0.23860714, -0.04333514,\n",
       "         -0.38872713, -0.38354716, -0.5350459 ,  0.5805168 , -0.4644678 ,\n",
       "         -0.30706018]], dtype=float32),\n",
       " array([ 0.19242221,  0.        ,  0.        ,  0.        ,  0.        ,\n",
       "        -0.17393374, -0.14370026, -0.05722015,  0.        ,  0.        ,\n",
       "         0.        ,  0.        ,  0.        , -0.1568486 ,  0.        ,\n",
       "         0.        ], dtype=float32),\n",
       " array([[-0.31446573,  0.4465321 ,  0.08388863, -0.32785064, -0.00735272,\n",
       "         -0.08431655, -0.21712008,  0.12915453,  0.3183404 , -0.08749685,\n",
       "          0.2646872 ,  0.31336823, -0.1747695 , -0.23444675, -0.06458846,\n",
       "          0.08262671,  0.22398412,  0.22938444, -0.3224559 ,  0.33039266,\n",
       "         -0.18960923,  0.2598306 ,  0.03120554, -0.24220344, -0.33399203,\n",
       "          0.11526578,  0.22177069, -0.30262017, -0.27582422,  0.28535596,\n",
       "         -0.16527794, -0.00766416],\n",
       "        [ 0.02992123, -0.0528599 , -0.2605278 , -0.09305316,  0.18227705,\n",
       "          0.2709283 , -0.14315   , -0.3400176 ,  0.32621536,  0.20881537,\n",
       "         -0.20587893, -0.1478562 , -0.04294527, -0.12477195,  0.2872065 ,\n",
       "         -0.1891607 ,  0.04161564, -0.0090431 ,  0.25815997, -0.2983121 ,\n",
       "          0.14544919, -0.13906571, -0.11964765, -0.04946151, -0.15320952,\n",
       "         -0.17017944,  0.06087193,  0.2556841 , -0.12695314, -0.3367592 ,\n",
       "         -0.10466723,  0.16182116],\n",
       "        [ 0.2719908 , -0.13918735,  0.25026378,  0.26689455,  0.3458787 ,\n",
       "          0.05173543, -0.01276207,  0.16294333, -0.33556914, -0.27052578,\n",
       "          0.11116999, -0.28572378, -0.04308698,  0.20588252, -0.03297216,\n",
       "          0.29002276, -0.13430169, -0.28135845,  0.2745832 , -0.31520185,\n",
       "          0.04149744,  0.15284637,  0.00154772,  0.33477047,  0.0751802 ,\n",
       "         -0.2423378 ,  0.00180236, -0.14488848,  0.15740708,  0.06417406,\n",
       "          0.13318631, -0.11054696],\n",
       "        [-0.1046105 , -0.334693  ,  0.2130445 ,  0.2039679 , -0.26222318,\n",
       "          0.1482875 ,  0.17186788,  0.04782286,  0.29183862,  0.25731525,\n",
       "         -0.30847   ,  0.06953353, -0.21785925, -0.314644  ,  0.19231918,\n",
       "         -0.26765987,  0.1001007 , -0.11471504,  0.21642771,  0.06960931,\n",
       "          0.03711653, -0.02103844,  0.18414769, -0.33814254, -0.16005796,\n",
       "          0.27466884, -0.01303113,  0.29705384,  0.24942413,  0.25519392,\n",
       "          0.2787262 ,  0.07563329],\n",
       "        [ 0.00884485, -0.2986137 , -0.14000517,  0.02172697, -0.04326442,\n",
       "         -0.16046375,  0.04374033,  0.13514817,  0.08470556, -0.1574811 ,\n",
       "          0.1458984 , -0.00614089,  0.25276342,  0.28020844, -0.23541138,\n",
       "          0.06617764, -0.1242629 , -0.17118903,  0.00655746, -0.3139156 ,\n",
       "         -0.20713447,  0.21705726, -0.02313811,  0.01855347,  0.09867984,\n",
       "         -0.2246266 ,  0.00911704,  0.2584882 ,  0.17137888,  0.08190221,\n",
       "          0.30978456, -0.00383773],\n",
       "        [-0.04708436, -0.06464223,  0.41311777,  0.10978395, -0.16626757,\n",
       "         -0.1584    , -0.34178573, -0.3332429 , -0.47398978, -0.21598414,\n",
       "         -0.18526189, -0.0230483 ,  0.30501282,  0.11808569, -0.3229884 ,\n",
       "          0.5645754 ,  0.48415422,  0.28847712, -0.13558885,  0.22063747,\n",
       "         -0.2370359 , -0.12586245, -0.46459755, -0.1228659 ,  0.28065947,\n",
       "          0.39307025,  0.44265205,  0.3161373 , -0.311146  ,  0.37606668,\n",
       "         -0.23135778,  0.2600524 ],\n",
       "        [ 0.31565192,  0.42162544,  0.50110006,  0.20936605, -0.06414691,\n",
       "          0.16050664,  0.04513869, -0.36325312, -0.5053962 ,  0.13317958,\n",
       "         -0.36353043,  0.32735896, -0.09005728, -0.45435768,  0.11767814,\n",
       "          0.50656956,  0.40266258,  0.14080963, -0.34333792,  0.40751258,\n",
       "         -0.31558624, -0.19661488,  0.08224458, -0.14264913,  0.33085486,\n",
       "          0.5919731 ,  0.173981  , -0.1163623 , -0.3462067 ,  0.01009752,\n",
       "          0.35328868, -0.25077873],\n",
       "        [-0.15164688, -0.12996946,  0.4977908 , -0.00317222,  0.1687031 ,\n",
       "          0.09265807, -0.15091135, -0.38266978,  0.13442333, -0.01443657,\n",
       "         -0.14866811,  0.34000826, -0.23764087, -0.14451455, -0.20675313,\n",
       "          0.42010117, -0.0955948 ,  0.5062827 , -0.01970053,  0.29862094,\n",
       "          0.03268683, -0.22953533,  0.05519435, -0.18561919, -0.04000106,\n",
       "          0.39642212, -0.04257053, -0.27448505, -0.1784876 ,  0.44552734,\n",
       "          0.19553652, -0.11374869],\n",
       "        [ 0.22461167,  0.24492201, -0.29544023, -0.2647396 , -0.30317256,\n",
       "          0.08825272, -0.01089209,  0.0799621 , -0.00493547, -0.0102137 ,\n",
       "         -0.34338942,  0.11884207, -0.27921233, -0.07475755,  0.11761576,\n",
       "          0.34771726, -0.02491385, -0.18204193, -0.18623064, -0.00420988,\n",
       "         -0.0488584 , -0.2767958 , -0.2910749 , -0.14592427,  0.21841964,\n",
       "          0.05365065,  0.087933  ,  0.04598784, -0.22131267, -0.18311617,\n",
       "          0.20427045,  0.06986108],\n",
       "        [-0.28158766,  0.07838833,  0.0852764 , -0.01797217, -0.04571643,\n",
       "         -0.2770514 ,  0.27249494,  0.12012601, -0.1160457 ,  0.10392326,\n",
       "          0.17928252, -0.04887348,  0.21362194,  0.10711789,  0.34024516,\n",
       "          0.17931142,  0.10782182,  0.19516686, -0.09944877, -0.16884795,\n",
       "          0.34538087, -0.18505678,  0.05625013, -0.32260764,  0.18682131,\n",
       "          0.07032192,  0.10491851, -0.0007734 , -0.31444365,  0.18053368,\n",
       "          0.18542287, -0.27864066],\n",
       "        [-0.34970176, -0.01514959, -0.07753116, -0.12299985, -0.15791716,\n",
       "         -0.17554785, -0.05836192, -0.07856357, -0.17277029,  0.30482766,\n",
       "         -0.2673768 , -0.09977102,  0.14361328, -0.11113651, -0.20910425,\n",
       "          0.11795664,  0.26168928, -0.19416337, -0.11046158,  0.12965685,\n",
       "         -0.04139167,  0.32562813, -0.11607806, -0.1892637 ,  0.03020269,\n",
       "         -0.18095386, -0.18775679, -0.24550614, -0.04914558, -0.2199816 ,\n",
       "         -0.16407566, -0.19295384],\n",
       "        [-0.23038983,  0.24405864,  0.20894316,  0.17389956,  0.2140635 ,\n",
       "         -0.15689492,  0.20934305, -0.25310236,  0.32819793,  0.32643846,\n",
       "          0.24458674,  0.23271921, -0.26223835, -0.05746418,  0.03031361,\n",
       "          0.3456764 ,  0.2578937 ,  0.2758201 ,  0.16415015,  0.29158953,\n",
       "          0.16433528,  0.11836377, -0.2183312 ,  0.33832243,  0.3532327 ,\n",
       "          0.16648164,  0.30758354, -0.15597992, -0.06577346,  0.2671102 ,\n",
       "          0.3102148 ,  0.27214774],\n",
       "        [ 0.08337927,  0.31977555,  0.143011  ,  0.02782905,  0.14274338,\n",
       "         -0.07926795,  0.15796486,  0.34194592,  0.12071195,  0.2682726 ,\n",
       "         -0.05815676, -0.32395104, -0.23649296,  0.24253967, -0.0439488 ,\n",
       "          0.15413186,  0.12447548, -0.31332937,  0.25701764, -0.09735543,\n",
       "          0.2875873 , -0.19054143, -0.33135068, -0.23121399,  0.33944753,\n",
       "         -0.07183483,  0.21817866, -0.08677471, -0.06594574, -0.16451862,\n",
       "         -0.20077655,  0.12309974],\n",
       "        [ 0.05934647,  0.6171043 , -0.05685873, -0.13611704, -0.4822557 ,\n",
       "          0.11021399, -0.19388132,  0.04210484, -0.34731022,  0.19859698,\n",
       "         -0.5612665 ,  0.61224794, -0.18075737, -0.12231787, -0.23922408,\n",
       "          0.6140743 ,  0.20210806,  0.37868357,  0.2631859 ,  0.37640685,\n",
       "          0.00416797, -0.56411034, -0.34825864,  0.02301326, -0.27389964,\n",
       "          0.03228343,  0.48780456,  0.17005925,  0.32173935,  0.3091025 ,\n",
       "         -0.2909934 , -0.34809646],\n",
       "        [-0.14363098, -0.3203357 , -0.04964712,  0.07376146,  0.23648563,\n",
       "         -0.22204274, -0.10082665, -0.134943  ,  0.12856078, -0.11393541,\n",
       "         -0.25009492,  0.19163033, -0.0693399 ,  0.18504563,  0.25236186,\n",
       "         -0.3149349 , -0.2477476 ,  0.15616933,  0.18102899,  0.26823398,\n",
       "          0.18822363,  0.26424554,  0.09216294, -0.00618505, -0.18539733,\n",
       "          0.14047891, -0.17401624, -0.11700699, -0.34511796, -0.31776685,\n",
       "          0.0533461 ,  0.23045138],\n",
       "        [ 0.20397583,  0.1013903 , -0.3194319 ,  0.24863544, -0.02501366,\n",
       "         -0.2721368 ,  0.1269173 , -0.17080507, -0.10729121, -0.3233857 ,\n",
       "         -0.27040195, -0.19926651, -0.29000217,  0.0894663 ,  0.11308885,\n",
       "          0.30840907,  0.10105565,  0.13847944, -0.3408649 , -0.17131539,\n",
       "          0.22095188, -0.31003287,  0.35164598, -0.23476115, -0.03363547,\n",
       "         -0.23944223, -0.04435232,  0.13213661,  0.18004069, -0.16822569,\n",
       "         -0.17228223,  0.03062162]], dtype=float32),\n",
       " array([ 0.00000000e+00, -1.43570393e-01, -8.78806114e-02,  0.00000000e+00,\n",
       "         2.32864588e-01,  0.00000000e+00,  0.00000000e+00,  2.60249406e-01,\n",
       "         2.55918890e-01,  0.00000000e+00,  2.45200142e-01, -1.30517229e-01,\n",
       "        -5.18698944e-04,  3.28397661e-01,  0.00000000e+00, -9.73692164e-02,\n",
       "        -9.81227010e-02, -1.19884282e-01,  0.00000000e+00, -1.39404014e-01,\n",
       "         0.00000000e+00,  1.94763198e-01,  2.92779803e-01,  0.00000000e+00,\n",
       "         0.00000000e+00, -9.07528996e-02, -1.00324415e-01,  8.85117333e-05,\n",
       "         0.00000000e+00, -1.33188322e-01,  0.00000000e+00, -3.13029066e-03],\n",
       "       dtype=float32),\n",
       " array([[ 0.26666823, -0.26557392],\n",
       "        [-0.3919302 ,  0.2976161 ],\n",
       "        [-0.37091818,  0.51207817],\n",
       "        [ 0.3885832 ,  0.14705792],\n",
       "        [ 0.29397038, -0.8118164 ],\n",
       "        [ 0.20361921, -0.00698516],\n",
       "        [-0.19199604, -0.07371971],\n",
       "        [ 0.5113407 , -0.5597487 ],\n",
       "        [ 0.85813487, -0.81145954],\n",
       "        [ 0.41424122,  0.3380004 ],\n",
       "        [ 0.6806742 , -0.48049724],\n",
       "        [-0.42080215,  0.24860317],\n",
       "        [-0.32810083,  0.16732897],\n",
       "        [ 0.3077954 , -0.76277167],\n",
       "        [-0.2807449 , -0.35234544],\n",
       "        [-0.01420986,  0.59008104],\n",
       "        [-0.46252874,  0.24227391],\n",
       "        [-0.45178717,  0.29239863],\n",
       "        [ 0.39684018, -0.05739692],\n",
       "        [-0.40512496,  0.14545478],\n",
       "        [-0.01828206, -0.00609788],\n",
       "        [ 0.3540947 , -0.66963905],\n",
       "        [ 0.46359992, -0.6604112 ],\n",
       "        [ 0.00163594, -0.32869464],\n",
       "        [-0.1372877 ,  0.2697347 ],\n",
       "        [-0.59317344,  0.31013653],\n",
       "        [-0.31282485,  0.00193722],\n",
       "        [ 0.02890354, -0.1669256 ],\n",
       "        [ 0.09961107, -0.16499633],\n",
       "        [-0.3766524 ,  0.24014181],\n",
       "        [ 0.1839414 ,  0.39062437],\n",
       "        [-0.16688369, -0.14287867]], dtype=float32),\n",
       " array([ 0.1696254 , -0.16962543], dtype=float32)]"
      ]
     },
     "execution_count": 185,
     "metadata": {},
     "output_type": "execute_result"
    }
   ],
   "source": [
    "model_2.get_weights()"
   ]
  },
  {
   "cell_type": "markdown",
   "metadata": {},
   "source": [
    "## Convolutional Neural Networks"
   ]
  },
  {
   "cell_type": "code",
   "execution_count": 186,
   "metadata": {},
   "outputs": [],
   "source": [
    "import numpy as np\n",
    "import tensorflow as tf\n",
    "from tensorflow import keras\n",
    "from keras.models import Sequential\n",
    "from keras.layers import Activation, Dense, Flatten, BatchNormalization, Conv2D, MaxPooling2D\n",
    "from keras.optimizers import Adam\n",
    "from keras.metrics import categorical_crossentropy\n",
    "from keras.preprocessing.image import ImageDataGenerator\n",
    "from sklearn.metrics import confusion_matrix\n",
    "import itertools\n",
    "import os\n",
    "import shutil\n",
    "import random\n",
    "import glob\n",
    "import matplotlib.pyplot as plt\n",
    "import warnings\n",
    "warnings.simplefilter(action=\"ignore\", category=FutureWarning)\n",
    "%matplotlib inline"
   ]
  },
  {
   "cell_type": "markdown",
   "metadata": {},
   "source": [
    "#### Data preparation"
   ]
  },
  {
   "cell_type": "markdown",
   "metadata": {},
   "source": [
    "The images included in the data/cats_and_dogs directory are a random subset of the full cat and dog dataset from the following Kaggle competition: http://www.kaggle.com/c/dogs-vs-cats/data"
   ]
  },
  {
   "cell_type": "code",
   "execution_count": 187,
   "metadata": {},
   "outputs": [],
   "source": [
    "DATASET_FULL_PATH = \"D:\\DATA SCIENCE\\CLOUD\\DATASETS\\cats_and_dogs\\TRAIN_SANDBOX\"\n",
    "\n",
    "DATASET_TRAIN_DOG_PATH = \"train/dog\"\n",
    "DATASET_TRAIN_CAT_PATH = \"train/cat\"\n",
    "DATASET_VALID_DOG_PATH = \"valid/dog\"\n",
    "DATASET_VALID_CAT_PATH = \"valid/cat\"\n",
    "DATASET_TEST_DOG_PATH = \"test/dog\"\n",
    "DATASET_TEST_CAT_PATH = \"test/cat\""
   ]
  },
  {
   "cell_type": "code",
   "execution_count": 188,
   "metadata": {},
   "outputs": [],
   "source": [
    "# Organize data into train, valid and test dirs\n",
    "import os\n",
    "import random\n",
    "import glob\n",
    "import shutil\n",
    "\n",
    "os.chdir(DATASET_FULL_PATH)\n",
    "\n",
    "if os.path.isdir(DATASET_TRAIN_DOG_PATH) is False:\n",
    "    os.makedirs(DATASET_TRAIN_CAT_PATH)\n",
    "    os.makedirs(DATASET_TRAIN_DOG_PATH)\n",
    "    os.makedirs(DATASET_VALID_CAT_PATH)\n",
    "    os.makedirs(DATASET_VALID_DOG_PATH)\n",
    "    os.makedirs(DATASET_TEST_CAT_PATH)\n",
    "    os.makedirs(DATASET_TEST_DOG_PATH)\n",
    "\n",
    "    for c in random.sample(glob.glob(\"cat*\"), 500):\n",
    "        shutil.move(c, DATASET_TRAIN_CAT_PATH)\n",
    "    for c in random.sample(glob.glob(\"dog*\"), 500):\n",
    "        shutil.move(c, DATASET_TRAIN_DOG_PATH)\n",
    "    for c in random.sample(glob.glob(\"cat*\"), 100):\n",
    "        shutil.move(c, DATASET_VALID_CAT_PATH)\n",
    "    for c in random.sample(glob.glob(\"dog*\"), 100):\n",
    "        shutil.move(c, DATASET_VALID_DOG_PATH)\n",
    "    for c in random.sample(glob.glob(\"cat*\"), 50):\n",
    "        shutil.move(c, DATASET_TEST_CAT_PATH)\n",
    "    for c in random.sample(glob.glob(\"dog*\"), 50):\n",
    "        shutil.move(c, DATASET_TEST_DOG_PATH)"
   ]
  },
  {
   "cell_type": "code",
   "execution_count": 189,
   "metadata": {},
   "outputs": [
    {
     "data": {
      "text/plain": [
       "'D:\\\\DATA SCIENCE\\\\CLOUD\\\\DATASETS\\\\cats_and_dogs\\\\TRAIN_SANDBOX'"
      ]
     },
     "execution_count": 189,
     "metadata": {},
     "output_type": "execute_result"
    }
   ],
   "source": [
    "DATASET_FULL_PATH"
   ]
  },
  {
   "cell_type": "code",
   "execution_count": 190,
   "metadata": {},
   "outputs": [],
   "source": [
    "os.chdir(DATASET_FULL_PATH)\n",
    "TRAIN_PATH = \"train\"\n",
    "VALID_PATH = \"valid\"\n",
    "TEST_PATH = \"test\""
   ]
  },
  {
   "cell_type": "code",
   "execution_count": 191,
   "metadata": {},
   "outputs": [
    {
     "name": "stdout",
     "output_type": "stream",
     "text": [
      "Found 1000 images belonging to 2 classes.\n",
      "Found 200 images belonging to 2 classes.\n",
      "Found 100 images belonging to 2 classes.\n"
     ]
    }
   ],
   "source": [
    "train_batches = ImageDataGenerator(\n",
    "    preprocessing_function=tf.keras.applications.vgg16.preprocess_input\n",
    ").flow_from_directory(\n",
    "    directory=TRAIN_PATH, target_size=(224, 224), classes=[\"cat\", \"dog\"], batch_size=10\n",
    ")\n",
    "\n",
    "valid_batches = ImageDataGenerator(\n",
    "    preprocessing_function=tf.keras.applications.vgg16.preprocess_input\n",
    ").flow_from_directory(\n",
    "    directory=VALID_PATH, target_size=(224, 224), classes=[\"cat\", \"dog\"], batch_size=10\n",
    ")\n",
    "\n",
    "test_batches = ImageDataGenerator(\n",
    "    preprocessing_function=tf.keras.applications.vgg16.preprocess_input\n",
    ").flow_from_directory(\n",
    "    directory=TEST_PATH,\n",
    "    target_size=(224, 224),\n",
    "    classes=[\"cat\", \"dog\"],\n",
    "    batch_size=10,\n",
    "    shuffle=True,\n",
    ")"
   ]
  },
  {
   "cell_type": "code",
   "execution_count": 192,
   "metadata": {},
   "outputs": [],
   "source": [
    "imgs, labels = next(train_batches)"
   ]
  },
  {
   "cell_type": "code",
   "execution_count": 193,
   "metadata": {},
   "outputs": [
    {
     "name": "stdout",
     "output_type": "stream",
     "text": [
      "Size of imgs: 10\n",
      "Size of labels: 10\n"
     ]
    }
   ],
   "source": [
    "# Each batch contains 10 records\n",
    "print(\"Size of imgs: \" + str(len(imgs))) \n",
    "print(\"Size of labels: \" + str(len(labels)))"
   ]
  },
  {
   "cell_type": "code",
   "execution_count": 194,
   "metadata": {},
   "outputs": [],
   "source": [
    "def plotImages(image_arr):\n",
    "    fig, axes = plt.subplots(1, 10, figsize =(20,20))\n",
    "    axes = axes.flatten()\n",
    "    for img, ax in zip(image_arr, axes):\n",
    "        ax.imshow(img)\n",
    "        ax.axis(\"off\")\n",
    "    plt.tight_layout()\n",
    "    plt.show()"
   ]
  },
  {
   "cell_type": "code",
   "execution_count": 195,
   "metadata": {},
   "outputs": [
    {
     "name": "stderr",
     "output_type": "stream",
     "text": [
      "Clipping input data to the valid range for imshow with RGB data ([0..1] for floats or [0..255] for integers).\n",
      "Clipping input data to the valid range for imshow with RGB data ([0..1] for floats or [0..255] for integers).\n",
      "Clipping input data to the valid range for imshow with RGB data ([0..1] for floats or [0..255] for integers).\n",
      "Clipping input data to the valid range for imshow with RGB data ([0..1] for floats or [0..255] for integers).\n",
      "Clipping input data to the valid range for imshow with RGB data ([0..1] for floats or [0..255] for integers).\n",
      "Clipping input data to the valid range for imshow with RGB data ([0..1] for floats or [0..255] for integers).\n",
      "Clipping input data to the valid range for imshow with RGB data ([0..1] for floats or [0..255] for integers).\n",
      "Clipping input data to the valid range for imshow with RGB data ([0..1] for floats or [0..255] for integers).\n",
      "Clipping input data to the valid range for imshow with RGB data ([0..1] for floats or [0..255] for integers).\n",
      "Clipping input data to the valid range for imshow with RGB data ([0..1] for floats or [0..255] for integers).\n"
     ]
    },
    {
     "data": {
      "image/png": "[encoded data removed]",
      "text/plain": [
       "<Figure size 2000x2000 with 10 Axes>"
      ]
     },
     "metadata": {},
     "output_type": "display_data"
    },
    {
     "name": "stdout",
     "output_type": "stream",
     "text": [
      "[[0. 1.]\n",
      " [0. 1.]\n",
      " [1. 0.]\n",
      " [0. 1.]\n",
      " [1. 0.]\n",
      " [0. 1.]\n",
      " [1. 0.]\n",
      " [1. 0.]\n",
      " [0. 1.]\n",
      " [1. 0.]]\n"
     ]
    }
   ],
   "source": [
    "plotImages(imgs)\n",
    "print(labels)"
   ]
  },
  {
   "cell_type": "markdown",
   "metadata": {},
   "source": [
    "## Build and train a CNN"
   ]
  },
  {
   "cell_type": "code",
   "execution_count": 196,
   "metadata": {},
   "outputs": [],
   "source": [
    "model = Sequential(\n",
    "    [\n",
    "        Conv2D(\n",
    "            filters=32,\n",
    "            kernel_size=(3, 3),\n",
    "            activation=\"relu\",\n",
    "            padding=\"same\",\n",
    "            input_shape=(224, 224, 3),\n",
    "        ),\n",
    "        MaxPooling2D(pool_size=(2, 2), strides=2),\n",
    "        Conv2D(filters=64, kernel_size=(3, 3), activation=\"relu\", padding=\"same\"),\n",
    "        MaxPooling2D(pool_size=(2, 2), strides=2),\n",
    "        Flatten(),\n",
    "        Dense(units=2, activation=\"softmax\"),\n",
    "    ]\n",
    ")"
   ]
  },
  {
   "cell_type": "code",
   "execution_count": 197,
   "metadata": {},
   "outputs": [
    {
     "name": "stdout",
     "output_type": "stream",
     "text": [
      "Model: \"sequential_9\"\n",
      "_________________________________________________________________\n",
      " Layer (type)                Output Shape              Param #   \n",
      "=================================================================\n",
      " conv2d_4 (Conv2D)           (None, 224, 224, 32)      896       \n",
      "                                                                 \n",
      " max_pooling2d_4 (MaxPooling  (None, 112, 112, 32)     0         \n",
      " 2D)                                                             \n",
      "                                                                 \n",
      " conv2d_5 (Conv2D)           (None, 112, 112, 64)      18496     \n",
      "                                                                 \n",
      " max_pooling2d_5 (MaxPooling  (None, 56, 56, 64)       0         \n",
      " 2D)                                                             \n",
      "                                                                 \n",
      " flatten_2 (Flatten)         (None, 200704)            0         \n",
      "                                                                 \n",
      " dense_11 (Dense)            (None, 2)                 401410    \n",
      "                                                                 \n",
      "=================================================================\n",
      "Total params: 420,802\n",
      "Trainable params: 420,802\n",
      "Non-trainable params: 0\n",
      "_________________________________________________________________\n"
     ]
    }
   ],
   "source": [
    "model.summary()"
   ]
  },
  {
   "cell_type": "code",
   "execution_count": 198,
   "metadata": {},
   "outputs": [],
   "source": [
    "model.compile(optimizer=Adam(learning_rate=0.0001), loss=\"categorical_crossentropy\", metrics=[\"accuracy\"])"
   ]
  },
  {
   "cell_type": "code",
   "execution_count": 199,
   "metadata": {},
   "outputs": [
    {
     "name": "stdout",
     "output_type": "stream",
     "text": [
      "Epoch 1/10\n",
      "100/100 - 13s - loss: 40.2581 - accuracy: 0.5330 - val_loss: 8.8765 - val_accuracy: 0.5900 - 13s/epoch - 130ms/step\n",
      "Epoch 2/10\n",
      "100/100 - 12s - loss: 5.3936 - accuracy: 0.7030 - val_loss: 12.4101 - val_accuracy: 0.5350 - 12s/epoch - 122ms/step\n",
      "Epoch 3/10\n",
      "100/100 - 13s - loss: 1.6942 - accuracy: 0.8230 - val_loss: 5.0039 - val_accuracy: 0.5850 - 13s/epoch - 129ms/step\n",
      "Epoch 4/10\n",
      "100/100 - 13s - loss: 0.3958 - accuracy: 0.9320 - val_loss: 3.4983 - val_accuracy: 0.5950 - 13s/epoch - 126ms/step\n",
      "Epoch 5/10\n",
      "100/100 - 13s - loss: 0.1824 - accuracy: 0.9590 - val_loss: 4.4114 - val_accuracy: 0.5650 - 13s/epoch - 126ms/step\n",
      "Epoch 6/10\n",
      "100/100 - 13s - loss: 0.1085 - accuracy: 0.9740 - val_loss: 4.4066 - val_accuracy: 0.6100 - 13s/epoch - 128ms/step\n",
      "Epoch 7/10\n",
      "100/100 - 13s - loss: 0.0267 - accuracy: 0.9900 - val_loss: 3.5319 - val_accuracy: 0.6250 - 13s/epoch - 126ms/step\n",
      "Epoch 8/10\n",
      "100/100 - 13s - loss: 0.0265 - accuracy: 0.9920 - val_loss: 3.5942 - val_accuracy: 0.6200 - 13s/epoch - 129ms/step\n",
      "Epoch 9/10\n",
      "100/100 - 13s - loss: 0.0347 - accuracy: 0.9870 - val_loss: 3.7370 - val_accuracy: 0.6350 - 13s/epoch - 127ms/step\n",
      "Epoch 10/10\n",
      "100/100 - 13s - loss: 0.0018 - accuracy: 1.0000 - val_loss: 3.4211 - val_accuracy: 0.6300 - 13s/epoch - 132ms/step\n"
     ]
    },
    {
     "data": {
      "text/plain": [
       "<keras.callbacks.History at 0x19e2abd66e0>"
      ]
     },
     "execution_count": 199,
     "metadata": {},
     "output_type": "execute_result"
    }
   ],
   "source": [
    "model.fit(x=train_batches, validation_data=valid_batches, epochs=10, verbose=2)"
   ]
  },
  {
   "cell_type": "markdown",
   "metadata": {},
   "source": [
    "### loss: 1.7050e-04\n",
    "### accuracy: 1.0000\n",
    "### val_loss: 3.3835\n",
    "### val_accuracy: 0.6100"
   ]
  },
  {
   "cell_type": "markdown",
   "metadata": {},
   "source": [
    "### val_accuracy < training_accuracy => Overfitting !"
   ]
  },
  {
   "cell_type": "markdown",
   "metadata": {},
   "source": [
    "## Predict"
   ]
  },
  {
   "cell_type": "code",
   "execution_count": 200,
   "metadata": {},
   "outputs": [],
   "source": [
    "test_imgs, test_labels = next(test_batches)"
   ]
  },
  {
   "cell_type": "code",
   "execution_count": 201,
   "metadata": {},
   "outputs": [
    {
     "data": {
      "text/plain": [
       "array([0, 0, 0, 0, 0, 0, 0, 0, 0, 0, 0, 0, 0, 0, 0, 0, 0, 0, 0, 0, 0, 0,\n",
       "       0, 0, 0, 0, 0, 0, 0, 0, 0, 0, 0, 0, 0, 0, 0, 0, 0, 0, 0, 0, 0, 0,\n",
       "       0, 0, 0, 0, 0, 0, 1, 1, 1, 1, 1, 1, 1, 1, 1, 1, 1, 1, 1, 1, 1, 1,\n",
       "       1, 1, 1, 1, 1, 1, 1, 1, 1, 1, 1, 1, 1, 1, 1, 1, 1, 1, 1, 1, 1, 1,\n",
       "       1, 1, 1, 1, 1, 1, 1, 1, 1, 1, 1, 1])"
      ]
     },
     "execution_count": 201,
     "metadata": {},
     "output_type": "execute_result"
    }
   ],
   "source": [
    "test_batches.classes"
   ]
  },
  {
   "cell_type": "code",
   "execution_count": 202,
   "metadata": {},
   "outputs": [],
   "source": [
    "predictions = model.predict(x=test_batches, verbose=0)"
   ]
  },
  {
   "cell_type": "code",
   "execution_count": 203,
   "metadata": {},
   "outputs": [
    {
     "data": {
      "text/plain": [
       "array([[0., 1.],\n",
       "       [1., 0.],\n",
       "       [1., 0.],\n",
       "       [1., 0.],\n",
       "       [0., 1.],\n",
       "       [0., 1.],\n",
       "       [1., 0.],\n",
       "       [1., 0.],\n",
       "       [1., 0.],\n",
       "       [0., 1.],\n",
       "       [0., 1.],\n",
       "       [1., 0.],\n",
       "       [0., 1.],\n",
       "       [0., 1.],\n",
       "       [1., 0.],\n",
       "       [1., 0.],\n",
       "       [1., 0.],\n",
       "       [1., 0.],\n",
       "       [0., 1.],\n",
       "       [0., 1.],\n",
       "       [0., 1.],\n",
       "       [1., 0.],\n",
       "       [0., 1.],\n",
       "       [1., 0.],\n",
       "       [1., 0.],\n",
       "       [0., 1.],\n",
       "       [0., 1.],\n",
       "       [1., 0.],\n",
       "       [1., 0.],\n",
       "       [0., 1.],\n",
       "       [1., 0.],\n",
       "       [0., 1.],\n",
       "       [1., 0.],\n",
       "       [1., 0.],\n",
       "       [1., 0.],\n",
       "       [0., 1.],\n",
       "       [0., 1.],\n",
       "       [0., 1.],\n",
       "       [0., 1.],\n",
       "       [1., 0.],\n",
       "       [0., 1.],\n",
       "       [1., 0.],\n",
       "       [0., 1.],\n",
       "       [1., 0.],\n",
       "       [0., 1.],\n",
       "       [0., 1.],\n",
       "       [0., 1.],\n",
       "       [0., 1.],\n",
       "       [1., 0.],\n",
       "       [0., 1.],\n",
       "       [0., 1.],\n",
       "       [0., 1.],\n",
       "       [0., 1.],\n",
       "       [0., 1.],\n",
       "       [1., 0.],\n",
       "       [1., 0.],\n",
       "       [1., 0.],\n",
       "       [1., 0.],\n",
       "       [0., 1.],\n",
       "       [0., 1.],\n",
       "       [0., 1.],\n",
       "       [1., 0.],\n",
       "       [0., 1.],\n",
       "       [0., 1.],\n",
       "       [0., 1.],\n",
       "       [0., 1.],\n",
       "       [0., 1.],\n",
       "       [1., 0.],\n",
       "       [0., 1.],\n",
       "       [1., 0.],\n",
       "       [0., 1.],\n",
       "       [0., 1.],\n",
       "       [0., 1.],\n",
       "       [1., 0.],\n",
       "       [1., 0.],\n",
       "       [1., 0.],\n",
       "       [0., 1.],\n",
       "       [0., 1.],\n",
       "       [0., 1.],\n",
       "       [1., 0.],\n",
       "       [1., 0.],\n",
       "       [0., 1.],\n",
       "       [1., 0.],\n",
       "       [1., 0.],\n",
       "       [1., 0.],\n",
       "       [0., 1.],\n",
       "       [0., 1.],\n",
       "       [1., 0.],\n",
       "       [1., 0.],\n",
       "       [1., 0.],\n",
       "       [1., 0.],\n",
       "       [1., 0.],\n",
       "       [1., 0.],\n",
       "       [0., 1.],\n",
       "       [0., 1.],\n",
       "       [0., 1.],\n",
       "       [1., 0.],\n",
       "       [1., 0.],\n",
       "       [1., 0.],\n",
       "       [1., 0.]], dtype=float32)"
      ]
     },
     "execution_count": 203,
     "metadata": {},
     "output_type": "execute_result"
    }
   ],
   "source": [
    "np.round(predictions)"
   ]
  },
  {
   "cell_type": "code",
   "execution_count": 204,
   "metadata": {},
   "outputs": [],
   "source": [
    "cm = confusion_matrix(y_true=test_batches.classes, y_pred=np.argmax(predictions, axis=-1))"
   ]
  },
  {
   "cell_type": "code",
   "execution_count": 205,
   "metadata": {},
   "outputs": [
    {
     "name": "stdout",
     "output_type": "stream",
     "text": [
      "Confusion matrix, without normalization\n",
      "[[24 26]\n",
      " [25 25]]\n"
     ]
    },
    {
     "data": {
      "image/png": "[encoded data removed]",
      "text/plain": [
       "<Figure size 640x480 with 2 Axes>"
      ]
     },
     "metadata": {},
     "output_type": "display_data"
    }
   ],
   "source": [
    "cm_plot_labels = [\"cat\", \"dog\"]\n",
    "plot_confusion_matrix(cm=cm, classes=cm_plot_labels, title=\"Confusion Matrix\")"
   ]
  },
  {
   "cell_type": "markdown",
   "metadata": {},
   "source": [
    "## Build Fine-tuned VGG16 model"
   ]
  },
  {
   "cell_type": "code",
   "execution_count": 206,
   "metadata": {},
   "outputs": [],
   "source": [
    "# Download modle - Internet conenction require\n",
    "vgg16_model = tf.keras.applications.vgg16.VGG16()"
   ]
  },
  {
   "cell_type": "code",
   "execution_count": 207,
   "metadata": {},
   "outputs": [
    {
     "name": "stdout",
     "output_type": "stream",
     "text": [
      "Model: \"vgg16\"\n",
      "_________________________________________________________________\n",
      " Layer (type)                Output Shape              Param #   \n",
      "=================================================================\n",
      " input_2 (InputLayer)        [(None, 224, 224, 3)]     0         \n",
      "                                                                 \n",
      " block1_conv1 (Conv2D)       (None, 224, 224, 64)      1792      \n",
      "                                                                 \n",
      " block1_conv2 (Conv2D)       (None, 224, 224, 64)      36928     \n",
      "                                                                 \n",
      " block1_pool (MaxPooling2D)  (None, 112, 112, 64)      0         \n",
      "                                                                 \n",
      " block2_conv1 (Conv2D)       (None, 112, 112, 128)     73856     \n",
      "                                                                 \n",
      " block2_conv2 (Conv2D)       (None, 112, 112, 128)     147584    \n",
      "                                                                 \n",
      " block2_pool (MaxPooling2D)  (None, 56, 56, 128)       0         \n",
      "                                                                 \n",
      " block3_conv1 (Conv2D)       (None, 56, 56, 256)       295168    \n",
      "                                                                 \n",
      " block3_conv2 (Conv2D)       (None, 56, 56, 256)       590080    \n",
      "                                                                 \n",
      " block3_conv3 (Conv2D)       (None, 56, 56, 256)       590080    \n",
      "                                                                 \n",
      " block3_pool (MaxPooling2D)  (None, 28, 28, 256)       0         \n",
      "                                                                 \n",
      " block4_conv1 (Conv2D)       (None, 28, 28, 512)       1180160   \n",
      "                                                                 \n",
      " block4_conv2 (Conv2D)       (None, 28, 28, 512)       2359808   \n",
      "                                                                 \n",
      " block4_conv3 (Conv2D)       (None, 28, 28, 512)       2359808   \n",
      "                                                                 \n",
      " block4_pool (MaxPooling2D)  (None, 14, 14, 512)       0         \n",
      "                                                                 \n",
      " block5_conv1 (Conv2D)       (None, 14, 14, 512)       2359808   \n",
      "                                                                 \n",
      " block5_conv2 (Conv2D)       (None, 14, 14, 512)       2359808   \n",
      "                                                                 \n",
      " block5_conv3 (Conv2D)       (None, 14, 14, 512)       2359808   \n",
      "                                                                 \n",
      " block5_pool (MaxPooling2D)  (None, 7, 7, 512)         0         \n",
      "                                                                 \n",
      " flatten (Flatten)           (None, 25088)             0         \n",
      "                                                                 \n",
      " fc1 (Dense)                 (None, 4096)              102764544 \n",
      "                                                                 \n",
      " fc2 (Dense)                 (None, 4096)              16781312  \n",
      "                                                                 \n",
      " predictions (Dense)         (None, 1000)              4097000   \n",
      "                                                                 \n",
      "=================================================================\n",
      "Total params: 138,357,544\n",
      "Trainable params: 138,357,544\n",
      "Non-trainable params: 0\n",
      "_________________________________________________________________\n"
     ]
    }
   ],
   "source": [
    "vgg16_model.summary()"
   ]
  },
  {
   "cell_type": "code",
   "execution_count": 208,
   "metadata": {},
   "outputs": [],
   "source": [
    "def count_params(model):\n",
    "    non_trainable_params = np.sum(\n",
    "        [np.prod(v.get_shape().as_list()) for v in model.non_trainable_weights]\n",
    "    )\n",
    "    trainable_params = np.sum(\n",
    "        [np.prod(v.get_shape().as_list()) for v in model.trainable_weights]\n",
    "    )\n",
    "    return {\n",
    "        \"non_trainable_params\": non_trainable_params,\n",
    "        \"trainable_params\": trainable_params,\n",
    "    }"
   ]
  },
  {
   "cell_type": "code",
   "execution_count": 209,
   "metadata": {},
   "outputs": [],
   "source": [
    "params = count_params(vgg16_model)\n",
    "assert params[\"non_trainable_params\"] == 0, \"We have some non-trainable params!\"\n",
    "assert params[\"trainable_params\"] == 138357544, \"It is not VGG16 model!\""
   ]
  },
  {
   "cell_type": "code",
   "execution_count": 211,
   "metadata": {},
   "outputs": [],
   "source": [
    "model = Sequential()\n",
    "for layer in vgg16_model.layers[:-1]:\n",
    "    model.add(layer)"
   ]
  },
  {
   "cell_type": "code",
   "execution_count": 212,
   "metadata": {},
   "outputs": [
    {
     "name": "stdout",
     "output_type": "stream",
     "text": [
      "Model: \"sequential_11\"\n",
      "_________________________________________________________________\n",
      " Layer (type)                Output Shape              Param #   \n",
      "=================================================================\n",
      " block1_conv1 (Conv2D)       (None, 224, 224, 64)      1792      \n",
      "                                                                 \n",
      " block1_conv2 (Conv2D)       (None, 224, 224, 64)      36928     \n",
      "                                                                 \n",
      " block1_pool (MaxPooling2D)  (None, 112, 112, 64)      0         \n",
      "                                                                 \n",
      " block2_conv1 (Conv2D)       (None, 112, 112, 128)     73856     \n",
      "                                                                 \n",
      " block2_conv2 (Conv2D)       (None, 112, 112, 128)     147584    \n",
      "                                                                 \n",
      " block2_pool (MaxPooling2D)  (None, 56, 56, 128)       0         \n",
      "                                                                 \n",
      " block3_conv1 (Conv2D)       (None, 56, 56, 256)       295168    \n",
      "                                                                 \n",
      " block3_conv2 (Conv2D)       (None, 56, 56, 256)       590080    \n",
      "                                                                 \n",
      " block3_conv3 (Conv2D)       (None, 56, 56, 256)       590080    \n",
      "                                                                 \n",
      " block3_pool (MaxPooling2D)  (None, 28, 28, 256)       0         \n",
      "                                                                 \n",
      " block4_conv1 (Conv2D)       (None, 28, 28, 512)       1180160   \n",
      "                                                                 \n",
      " block4_conv2 (Conv2D)       (None, 28, 28, 512)       2359808   \n",
      "                                                                 \n",
      " block4_conv3 (Conv2D)       (None, 28, 28, 512)       2359808   \n",
      "                                                                 \n",
      " block4_pool (MaxPooling2D)  (None, 14, 14, 512)       0         \n",
      "                                                                 \n",
      " block5_conv1 (Conv2D)       (None, 14, 14, 512)       2359808   \n",
      "                                                                 \n",
      " block5_conv2 (Conv2D)       (None, 14, 14, 512)       2359808   \n",
      "                                                                 \n",
      " block5_conv3 (Conv2D)       (None, 14, 14, 512)       2359808   \n",
      "                                                                 \n",
      " block5_pool (MaxPooling2D)  (None, 7, 7, 512)         0         \n",
      "                                                                 \n",
      " flatten (Flatten)           (None, 25088)             0         \n",
      "                                                                 \n",
      " fc1 (Dense)                 (None, 4096)              102764544 \n",
      "                                                                 \n",
      " fc2 (Dense)                 (None, 4096)              16781312  \n",
      "                                                                 \n",
      "=================================================================\n",
      "Total params: 134,260,544\n",
      "Trainable params: 134,260,544\n",
      "Non-trainable params: 0\n",
      "_________________________________________________________________\n"
     ]
    }
   ],
   "source": [
    "model.summary()"
   ]
  },
  {
   "cell_type": "code",
   "execution_count": 214,
   "metadata": {},
   "outputs": [],
   "source": [
    "params = count_params(model)\n",
    "assert params[\"non_trainable_params\"] == 0, \"We have some non-trainable params!\"\n",
    "assert params[\"trainable_params\"] == 134260544, \"This need to add hidden layers (not include output layer)!\""
   ]
  },
  {
   "cell_type": "code",
   "execution_count": 215,
   "metadata": {},
   "outputs": [],
   "source": [
    "for layer in model.layers:\n",
    "    layer.trainable = False"
   ]
  },
  {
   "cell_type": "code",
   "execution_count": 216,
   "metadata": {},
   "outputs": [],
   "source": [
    "model.add(Dense(units=2, activation=\"softmax\"))"
   ]
  },
  {
   "cell_type": "code",
   "execution_count": 217,
   "metadata": {},
   "outputs": [
    {
     "name": "stdout",
     "output_type": "stream",
     "text": [
      "Model: \"sequential_11\"\n",
      "_________________________________________________________________\n",
      " Layer (type)                Output Shape              Param #   \n",
      "=================================================================\n",
      " block1_conv1 (Conv2D)       (None, 224, 224, 64)      1792      \n",
      "                                                                 \n",
      " block1_conv2 (Conv2D)       (None, 224, 224, 64)      36928     \n",
      "                                                                 \n",
      " block1_pool (MaxPooling2D)  (None, 112, 112, 64)      0         \n",
      "                                                                 \n",
      " block2_conv1 (Conv2D)       (None, 112, 112, 128)     73856     \n",
      "                                                                 \n",
      " block2_conv2 (Conv2D)       (None, 112, 112, 128)     147584    \n",
      "                                                                 \n",
      " block2_pool (MaxPooling2D)  (None, 56, 56, 128)       0         \n",
      "                                                                 \n",
      " block3_conv1 (Conv2D)       (None, 56, 56, 256)       295168    \n",
      "                                                                 \n",
      " block3_conv2 (Conv2D)       (None, 56, 56, 256)       590080    \n",
      "                                                                 \n",
      " block3_conv3 (Conv2D)       (None, 56, 56, 256)       590080    \n",
      "                                                                 \n",
      " block3_pool (MaxPooling2D)  (None, 28, 28, 256)       0         \n",
      "                                                                 \n",
      " block4_conv1 (Conv2D)       (None, 28, 28, 512)       1180160   \n",
      "                                                                 \n",
      " block4_conv2 (Conv2D)       (None, 28, 28, 512)       2359808   \n",
      "                                                                 \n",
      " block4_conv3 (Conv2D)       (None, 28, 28, 512)       2359808   \n",
      "                                                                 \n",
      " block4_pool (MaxPooling2D)  (None, 14, 14, 512)       0         \n",
      "                                                                 \n",
      " block5_conv1 (Conv2D)       (None, 14, 14, 512)       2359808   \n",
      "                                                                 \n",
      " block5_conv2 (Conv2D)       (None, 14, 14, 512)       2359808   \n",
      "                                                                 \n",
      " block5_conv3 (Conv2D)       (None, 14, 14, 512)       2359808   \n",
      "                                                                 \n",
      " block5_pool (MaxPooling2D)  (None, 7, 7, 512)         0         \n",
      "                                                                 \n",
      " flatten (Flatten)           (None, 25088)             0         \n",
      "                                                                 \n",
      " fc1 (Dense)                 (None, 4096)              102764544 \n",
      "                                                                 \n",
      " fc2 (Dense)                 (None, 4096)              16781312  \n",
      "                                                                 \n",
      " dense_12 (Dense)            (None, 2)                 8194      \n",
      "                                                                 \n",
      "=================================================================\n",
      "Total params: 134,268,738\n",
      "Trainable params: 8,194\n",
      "Non-trainable params: 134,260,544\n",
      "_________________________________________________________________\n"
     ]
    }
   ],
   "source": [
    "model.summary()"
   ]
  },
  {
   "cell_type": "code",
   "execution_count": 218,
   "metadata": {},
   "outputs": [],
   "source": [
    "params = count_params(model)\n",
    "assert params[\"non_trainable_params\"] == 134260544\n",
    "assert params[\"trainable_params\"] == 8194"
   ]
  },
  {
   "cell_type": "markdown",
   "metadata": {},
   "source": [
    "## Train the fine-tuned VGG16 model"
   ]
  },
  {
   "cell_type": "code",
   "execution_count": 219,
   "metadata": {},
   "outputs": [],
   "source": [
    "model.compile(optimizer=Adam(learning_rate=0.0001), loss=\"categorical_crossentropy\", metrics=[\"Accuracy\"])"
   ]
  },
  {
   "cell_type": "code",
   "execution_count": 220,
   "metadata": {},
   "outputs": [
    {
     "name": "stdout",
     "output_type": "stream",
     "text": [
      "Epoch 1/5\n"
     ]
    },
    {
     "name": "stdout",
     "output_type": "stream",
     "text": [
      "100/100 - 61s - loss: 0.3475 - Accuracy: 0.8570 - val_loss: 0.1306 - val_Accuracy: 0.9450 - 61s/epoch - 608ms/step\n",
      "Epoch 2/5\n",
      "100/100 - 62s - loss: 0.0971 - Accuracy: 0.9650 - val_loss: 0.0935 - val_Accuracy: 0.9600 - 62s/epoch - 617ms/step\n",
      "Epoch 3/5\n",
      "100/100 - 64s - loss: 0.0701 - Accuracy: 0.9710 - val_loss: 0.0783 - val_Accuracy: 0.9600 - 64s/epoch - 637ms/step\n",
      "Epoch 4/5\n",
      "100/100 - 62s - loss: 0.0512 - Accuracy: 0.9820 - val_loss: 0.0752 - val_Accuracy: 0.9500 - 62s/epoch - 623ms/step\n",
      "Epoch 5/5\n",
      "100/100 - 63s - loss: 0.0398 - Accuracy: 0.9860 - val_loss: 0.0647 - val_Accuracy: 0.9650 - 63s/epoch - 628ms/step\n"
     ]
    },
    {
     "data": {
      "text/plain": [
       "<keras.callbacks.History at 0x19e2ab95360>"
      ]
     },
     "execution_count": 220,
     "metadata": {},
     "output_type": "execute_result"
    }
   ],
   "source": [
    "model.fit(x=train_batches, validation_data=valid_batches, epochs=5, verbose=2)"
   ]
  },
  {
   "cell_type": "markdown",
   "metadata": {},
   "source": [
    "## Predict using fine-tuned VGG16 model"
   ]
  },
  {
   "cell_type": "code",
   "execution_count": 228,
   "metadata": {},
   "outputs": [],
   "source": [
    "predictions = model.predict(x=test_batches, verbose=0)"
   ]
  },
  {
   "cell_type": "code",
   "execution_count": 229,
   "metadata": {},
   "outputs": [
    {
     "data": {
      "text/plain": [
       "array([0, 0, 0, 0, 0, 0, 0, 0, 0, 0, 0, 0, 0, 0, 0, 0, 0, 0, 0, 0, 0, 0,\n",
       "       0, 0, 0, 0, 0, 0, 0, 0, 0, 0, 0, 0, 0, 0, 0, 0, 0, 0, 0, 0, 0, 0,\n",
       "       0, 0, 0, 0, 0, 0, 1, 1, 1, 1, 1, 1, 1, 1, 1, 1, 1, 1, 1, 1, 1, 1,\n",
       "       1, 1, 1, 1, 1, 1, 1, 1, 1, 1, 1, 1, 1, 1, 1, 1, 1, 1, 1, 1, 1, 1,\n",
       "       1, 1, 1, 1, 1, 1, 1, 1, 1, 1, 1, 1])"
      ]
     },
     "execution_count": 229,
     "metadata": {},
     "output_type": "execute_result"
    }
   ],
   "source": [
    "test_batches.classes"
   ]
  },
  {
   "cell_type": "code",
   "execution_count": 230,
   "metadata": {},
   "outputs": [],
   "source": [
    "cm = confusion_matrix(y_true=test_batches.classes, y_pred=np.argmax(predictions, axis=-1))"
   ]
  },
  {
   "cell_type": "code",
   "execution_count": 231,
   "metadata": {},
   "outputs": [
    {
     "data": {
      "text/plain": [
       "{'cat': 0, 'dog': 1}"
      ]
     },
     "execution_count": 231,
     "metadata": {},
     "output_type": "execute_result"
    }
   ],
   "source": [
    "test_batches.class_indices"
   ]
  },
  {
   "cell_type": "code",
   "execution_count": 232,
   "metadata": {},
   "outputs": [
    {
     "name": "stdout",
     "output_type": "stream",
     "text": [
      "Confusion matrix, without normalization\n",
      "[[24 26]\n",
      " [25 25]]\n"
     ]
    },
    {
     "data": {
      "image/png": "[encoded data removed]",
      "text/plain": [
       "<Figure size 640x480 with 2 Axes>"
      ]
     },
     "metadata": {},
     "output_type": "display_data"
    }
   ],
   "source": [
    "cm_plot_labels = [\"cat\", \"dog\"]\n",
    "plot_confusion_matrix(cm=cm, classes=cm_plot_labels, title=\"Confusion Matrix\")"
   ]
  },
  {
   "cell_type": "code",
   "execution_count": 233,
   "metadata": {},
   "outputs": [
    {
     "name": "stdout",
     "output_type": "stream",
     "text": [
      "Accuracy:  0.49\n"
     ]
    }
   ],
   "source": [
    "print(\"Accuracy: \", str((cm[0][0] + cm[1][1]) / cm.sum()))"
   ]
  }
 ],
 "metadata": {
  "kernelspec": {
   "display_name": "Python 3",
   "language": "python",
   "name": "python3"
  },
  "language_info": {
   "codemirror_mode": {
    "name": "ipython",
    "version": 3
   },
   "file_extension": ".py",
   "mimetype": "text/x-python",
   "name": "python",
   "nbconvert_exporter": "python",
   "pygments_lexer": "ipython3",
   "version": "3.10.11"
  }
 },
 "nbformat": 4,
 "nbformat_minor": 2
}
