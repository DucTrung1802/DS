{
 "cells": [
  {
   "cell_type": "markdown",
   "metadata": {},
   "source": [
    "# Keras Tutorials"
   ]
  },
  {
   "cell_type": "markdown",
   "metadata": {},
   "source": [
    "### Setting table"
   ]
  },
  {
   "cell_type": "code",
   "execution_count": 1,
   "metadata": {},
   "outputs": [],
   "source": [
    "import os\n",
    "\n",
    "\n",
    "class ModelManager(object):\n",
    "    \"\"\"\n",
    "    Parameters\n",
    "\n",
    "    current_directory\n",
    "    model_name\n",
    "    allow_training\n",
    "    overwrite\n",
    "    \"\"\"\n",
    "\n",
    "    def __init__(\n",
    "        self,\n",
    "        current_directory,\n",
    "        model_name,\n",
    "        allow_training=False,\n",
    "        overwrite=False,\n",
    "    ):\n",
    "        self.current_directory = current_directory\n",
    "        self.model_name = str(model_name) + \".h5\"\n",
    "        self.allow_training = allow_training\n",
    "        self.overwrite = overwrite\n",
    "\n",
    "    def get_model_name(self):\n",
    "        return self.model_name\n",
    "\n",
    "    def enable_training(self):\n",
    "        self.allow_training = True\n",
    "\n",
    "    def disable_training(self):\n",
    "        self.allow_training = False\n",
    "\n",
    "    def is_trainable(self):\n",
    "        return self.allow_training\n",
    "\n",
    "    def is_overwriteable(self):\n",
    "        return self.overwrite\n",
    "    \n",
    "    def enable_overwrite(self):\n",
    "        self.overwrite = True\n",
    "\n",
    "    def disable_overwrite(self):\n",
    "        self.overwrite = False\n",
    "\n",
    "    def already_exist_model(self):\n",
    "        return os.path.isfile(os.path.join(self.current_directory, self.model_name))\n",
    "    \n",
    "    def get_load_location(self):\n",
    "        return self.current_directory\n",
    "    \n",
    "    def get_load_model(self):\n",
    "        return os.path.join(self.current_directory, self.model_name)"
   ]
  },
  {
   "cell_type": "code",
   "execution_count": 2,
   "metadata": {},
   "outputs": [],
   "source": [
    "import os\n",
    "\n",
    "CURRENT_DIRECTORY = os.getcwd()\n",
    "\n",
    "# Reopen Jupyter Notebook after change the parameter\n",
    "USE_GPU = False\n",
    "ENABLE_ALL_TRAINING = False\n",
    "ENABLE_ALL_OVERWRITE = False\n",
    "\n",
    "# Retrain options (each training require a setting parameter)\n",
    "model1 = ModelManager(current_directory=CURRENT_DIRECTORY, model_name=\"medical_trial_model\")\n",
    "model3 = ModelManager(current_directory=CURRENT_DIRECTORY, model_name=\"vgg16_cats_and_dogs_model\")\n",
    "model2 = ModelManager(current_directory=CURRENT_DIRECTORY, model_name=\"diy_cats_and_dogs_model\")\n",
    "\n",
    "if ENABLE_ALL_TRAINING:\n",
    "    model1.enable_training()\n",
    "    model2.enable_training()\n",
    "    model3.enable_training()\n",
    "elif not ENABLE_ALL_TRAINING:\n",
    "    model1.disable_training()\n",
    "    model2.disable_training()\n",
    "    model3.disable_training()\n",
    "\n",
    "if ENABLE_ALL_OVERWRITE:\n",
    "    model1.enable_overwrite()\n",
    "    model2.enable_overwrite()\n",
    "    model3.enable_overwrite()\n",
    "elif not ENABLE_ALL_OVERWRITE:\n",
    "    model1.disable_overwrite()\n",
    "    model2.disable_overwrite()\n",
    "    model3.disable_overwrite()"
   ]
  },
  {
   "cell_type": "code",
   "execution_count": 3,
   "metadata": {},
   "outputs": [
    {
     "data": {
      "text/plain": [
       "'\\n\\n# TAG: MODELFIT\\nfrom tensorflow.keras.models import load_model\\n\\nif model1.already_exist_model():\\n    model = load_model(model1.get_load_model())\\nelse:\\n    if model1.is_trainable():\\n        model.fit(x=scaled_train_samples, y=train_labels, validation_split=0.1, batch_size=10, epochs=30, shuffle=True, verbose=2)\\n    if model1.is_overwriteable():\\n        model.save(os.path.join(model1.get_load_location(), model1.get_model_name()))\\n\\n'"
      ]
     },
     "execution_count": 3,
     "metadata": {},
     "output_type": "execute_result"
    }
   ],
   "source": [
    "# Sample snippet code for model.fit\n",
    "\n",
    "\"\"\"\n",
    "\n",
    "# TAG: MODELFIT\n",
    "from tensorflow.keras.models import load_model\n",
    "\n",
    "if model1.already_exist_model():\n",
    "    model = load_model(model1.get_load_model())\n",
    "else:\n",
    "    if model1.is_trainable():\n",
    "        model.fit(x=scaled_train_samples, y=train_labels, validation_split=0.1, batch_size=10, epochs=30, shuffle=True, verbose=2)\n",
    "    if model1.is_overwriteable():\n",
    "        model.save(os.path.join(model1.get_load_location(), model1.get_model_name()))\n",
    "\n",
    "\"\"\""
   ]
  },
  {
   "cell_type": "markdown",
   "metadata": {},
   "source": [
    "### Check whether GPU is available"
   ]
  },
  {
   "cell_type": "code",
   "execution_count": 4,
   "metadata": {},
   "outputs": [
    {
     "name": "stdout",
     "output_type": "stream",
     "text": [
      "True\n"
     ]
    }
   ],
   "source": [
    "# Check for GPU availability\n",
    "import tensorflow as tf\n",
    "print(len(tf.config.experimental.list_physical_devices('GPU')) > 0)"
   ]
  },
  {
   "cell_type": "markdown",
   "metadata": {},
   "source": [
    "### Choose CPU / CPU to run (change USE_GPU parameter)"
   ]
  },
  {
   "cell_type": "code",
   "execution_count": 5,
   "metadata": {},
   "outputs": [],
   "source": [
    "if USE_GPU:\n",
    "    physical_devices = tf.config.experimental.list_physical_devices('GPU')\n",
    "    tf.config.experimental.set_memory_growth(physical_devices[0], True)\n",
    "else:\n",
    "    tf.config.set_visible_devices([], 'GPU')"
   ]
  },
  {
   "cell_type": "markdown",
   "metadata": {},
   "source": [
    "## Generate data"
   ]
  },
  {
   "cell_type": "code",
   "execution_count": 6,
   "metadata": {},
   "outputs": [],
   "source": [
    "import numpy as np\n",
    "import random\n",
    "from random import randint\n",
    "from sklearn.utils import shuffle\n",
    "from sklearn.preprocessing import MinMaxScaler"
   ]
  },
  {
   "cell_type": "code",
   "execution_count": 7,
   "metadata": {},
   "outputs": [],
   "source": [
    "train_labels = []\n",
    "train_samples = []"
   ]
  },
  {
   "cell_type": "markdown",
   "metadata": {},
   "source": [
    "### Example data:\n",
    "- An experimental drug was tested on individuals from ages 13 to 100 in a clinical trial.\n",
    "- The trial had 2100 participants. Half were under 65 years old, half were 65 years or older.\n",
    "- Around 95% of patients 65 or older experienced side effects.\n",
    "- Around 95% of patients under 65 experienced no side effects."
   ]
  },
  {
   "cell_type": "code",
   "execution_count": 8,
   "metadata": {},
   "outputs": [],
   "source": [
    "random.seed(0)\n",
    "\n",
    "for i in range(50):\n",
    "    # The ~5% of younger individuals who did experience side effects\n",
    "    random_younger = randint(13, 64)\n",
    "    train_samples.append(random_younger)\n",
    "    train_labels.append(1)\n",
    "\n",
    "    # The ~5% of older individuals who did not experience side effects\n",
    "    random_older = randint(65, 100)\n",
    "    train_samples.append(random_older)\n",
    "    train_labels.append(0)\n",
    "\n",
    "for i in range(1000):\n",
    "    # The ~95% of younger individuals who did not experience side effects\n",
    "    random_younger = randint(13, 64)\n",
    "    train_samples.append(random_younger)\n",
    "    train_labels.append(0)\n",
    "\n",
    "    # The ~95% of older individuals who experience side effects\n",
    "    random_older = randint(65, 100)\n",
    "    train_samples.append(random_older)\n",
    "    train_labels.append(1)"
   ]
  },
  {
   "cell_type": "code",
   "execution_count": 9,
   "metadata": {},
   "outputs": [],
   "source": [
    "train_samples = np.array(train_samples)\n",
    "train_labels = np.array(train_labels)"
   ]
  },
  {
   "cell_type": "code",
   "execution_count": 10,
   "metadata": {},
   "outputs": [
    {
     "data": {
      "text/plain": [
       "array([37, 91, 15, ..., 91, 17, 99])"
      ]
     },
     "execution_count": 10,
     "metadata": {},
     "output_type": "execute_result"
    }
   ],
   "source": [
    "train_samples"
   ]
  },
  {
   "cell_type": "code",
   "execution_count": 11,
   "metadata": {},
   "outputs": [
    {
     "data": {
      "text/plain": [
       "array([1, 0, 1, ..., 1, 0, 1])"
      ]
     },
     "execution_count": 11,
     "metadata": {},
     "output_type": "execute_result"
    }
   ],
   "source": [
    "train_labels"
   ]
  },
  {
   "cell_type": "code",
   "execution_count": 12,
   "metadata": {},
   "outputs": [],
   "source": [
    "train_samples, train_labels = shuffle(train_samples, train_labels)"
   ]
  },
  {
   "cell_type": "code",
   "execution_count": 13,
   "metadata": {},
   "outputs": [],
   "source": [
    "scaler = MinMaxScaler(feature_range=(0, 1))\n",
    "scaled_train_samples = scaler.fit_transform(train_samples.reshape(-1, 1))"
   ]
  },
  {
   "cell_type": "code",
   "execution_count": 14,
   "metadata": {},
   "outputs": [
    {
     "data": {
      "text/plain": [
       "array([[0.06896552],\n",
       "       [0.62068966],\n",
       "       [0.6091954 ],\n",
       "       ...,\n",
       "       [0.27586207],\n",
       "       [0.45977011],\n",
       "       [0.27586207]])"
      ]
     },
     "execution_count": 14,
     "metadata": {},
     "output_type": "execute_result"
    }
   ],
   "source": [
    "scaled_train_samples"
   ]
  },
  {
   "cell_type": "markdown",
   "metadata": {},
   "source": [
    "## Simple tf.keras Sequential Model"
   ]
  },
  {
   "cell_type": "code",
   "execution_count": 15,
   "metadata": {},
   "outputs": [],
   "source": [
    "# For building models\n",
    "import tensorflow as tf\n",
    "from tensorflow import keras\n",
    "from keras.models import Sequential\n",
    "from keras.layers import Activation, Dense\n",
    "\n",
    "# For training models\n",
    "from keras.optimizers import Adam\n",
    "from keras.metrics import categorical_crossentropy"
   ]
  },
  {
   "cell_type": "markdown",
   "metadata": {},
   "source": [
    "## Build the Model"
   ]
  },
  {
   "cell_type": "code",
   "execution_count": 16,
   "metadata": {},
   "outputs": [],
   "source": [
    "model = Sequential([\n",
    "    Dense(name=\"Layer_2\", units=16, input_shape=(1,), activation=\"relu\"), # The first hidden layer (the second layover overall)\n",
    "    Dense(name=\"Layer_3\", units=32, activation=\"relu\"),\n",
    "    Dense(name=\"Layer_4\", units=2, activation=\"softmax\")\n",
    "])"
   ]
  },
  {
   "cell_type": "code",
   "execution_count": 17,
   "metadata": {},
   "outputs": [
    {
     "name": "stdout",
     "output_type": "stream",
     "text": [
      "Model: \"sequential\"\n",
      "_________________________________________________________________\n",
      " Layer (type)                Output Shape              Param #   \n",
      "=================================================================\n",
      " Layer_2 (Dense)             (None, 16)                32        \n",
      "                                                                 \n",
      " Layer_3 (Dense)             (None, 32)                544       \n",
      "                                                                 \n",
      " Layer_4 (Dense)             (None, 2)                 66        \n",
      "                                                                 \n",
      "=================================================================\n",
      "Total params: 642\n",
      "Trainable params: 642\n",
      "Non-trainable params: 0\n",
      "_________________________________________________________________\n"
     ]
    }
   ],
   "source": [
    "model.summary()"
   ]
  },
  {
   "cell_type": "code",
   "execution_count": 18,
   "metadata": {},
   "outputs": [],
   "source": [
    "model.compile(optimizer=Adam(learning_rate=0.0001), loss=\"sparse_categorical_crossentropy\", metrics=[\"accuracy\"])"
   ]
  },
  {
   "cell_type": "code",
   "execution_count": 19,
   "metadata": {},
   "outputs": [],
   "source": [
    "# TAG: MODELFIT\n",
    "from tensorflow.keras.models import load_model\n",
    "\n",
    "if model1.already_exist_model():\n",
    "    model = load_model(model1.get_load_model())\n",
    "else:\n",
    "    if model1.is_trainable():\n",
    "        model.fit(x=scaled_train_samples, y=train_labels, validation_split=0.1, batch_size=10, epochs=30, shuffle=True, verbose=2)\n",
    "    if model1.is_overwriteable():\n",
    "        model.save(os.path.join(model1.get_load_location(), model1.get_model_name()))"
   ]
  },
  {
   "cell_type": "code",
   "execution_count": 20,
   "metadata": {},
   "outputs": [],
   "source": [
    "import os.path\n",
    "\n",
    "SAVE_FILE_NAME = \"medical_trial_model\"\n",
    "\n",
    "SAVE_FILE_NAME += \".h5\"\n",
    "\n",
    "model.save(os.path.join(os.getcwd(), SAVE_FILE_NAME))"
   ]
  },
  {
   "cell_type": "code",
   "execution_count": 21,
   "metadata": {},
   "outputs": [
    {
     "data": {
      "text/plain": [
       "'d:\\\\DATA SCIENCE\\\\GIT\\\\DS\\\\Keras_Tutorial'"
      ]
     },
     "execution_count": 21,
     "metadata": {},
     "output_type": "execute_result"
    }
   ],
   "source": [
    "os.getcwd()"
   ]
  },
  {
   "cell_type": "markdown",
   "metadata": {},
   "source": [
    "## Preprocess Test Data"
   ]
  },
  {
   "cell_type": "code",
   "execution_count": 22,
   "metadata": {},
   "outputs": [],
   "source": [
    "test_labels = []\n",
    "test_samples = []"
   ]
  },
  {
   "cell_type": "code",
   "execution_count": 23,
   "metadata": {},
   "outputs": [],
   "source": [
    "random.seed(101)\n",
    "\n",
    "for i in range(50):\n",
    "    # The ~5% of younger individuals who did experience side effects\n",
    "    random_younger = randint(13, 64)\n",
    "    test_samples.append(random_younger)\n",
    "    test_labels.append(1)\n",
    "\n",
    "    # The ~5% of older individuals who did not experience side effects\n",
    "    random_older = randint(65, 100)\n",
    "    test_samples.append(random_older)\n",
    "    test_labels.append(0)\n",
    "\n",
    "for i in range(1000):\n",
    "    # The ~95% of younger individuals who did not experience side effects\n",
    "    random_younger = randint(13, 64)\n",
    "    test_samples.append(random_younger)\n",
    "    test_labels.append(0)\n",
    "\n",
    "    # The ~95% of older individuals who experience side effects\n",
    "    random_older = randint(65, 100)\n",
    "    test_samples.append(random_older)\n",
    "    test_labels.append(1)"
   ]
  },
  {
   "cell_type": "code",
   "execution_count": 24,
   "metadata": {},
   "outputs": [],
   "source": [
    "test_labels = np.array(test_labels)\n",
    "test_samples = np.array(test_samples)\n",
    "test_samples, test_labels = shuffle(test_samples, test_labels)"
   ]
  },
  {
   "cell_type": "code",
   "execution_count": 25,
   "metadata": {},
   "outputs": [],
   "source": [
    "scaled_test_samples = scaler.fit_transform(test_samples.reshape(-1,1))"
   ]
  },
  {
   "cell_type": "markdown",
   "metadata": {},
   "source": [
    "## Predict"
   ]
  },
  {
   "cell_type": "code",
   "execution_count": 26,
   "metadata": {},
   "outputs": [],
   "source": [
    "predictions = model.predict(x=scaled_test_samples, batch_size=10, verbose=0)"
   ]
  },
  {
   "cell_type": "code",
   "execution_count": 27,
   "metadata": {},
   "outputs": [
    {
     "data": {
      "text/plain": [
       "array([[0.50558186, 0.49441814],\n",
       "       [0.9411579 , 0.05884212],\n",
       "       [0.11482757, 0.8851724 ],\n",
       "       ...,\n",
       "       [0.02672466, 0.97327536],\n",
       "       [0.909236  , 0.09076393],\n",
       "       [0.6863264 , 0.31367362]], dtype=float32)"
      ]
     },
     "execution_count": 27,
     "metadata": {},
     "output_type": "execute_result"
    }
   ],
   "source": [
    "predictions"
   ]
  },
  {
   "cell_type": "code",
   "execution_count": 28,
   "metadata": {},
   "outputs": [],
   "source": [
    "rounded_predictions = np.argmax(predictions, axis=1)"
   ]
  },
  {
   "cell_type": "markdown",
   "metadata": {},
   "source": [
    "## Confusion matrix"
   ]
  },
  {
   "cell_type": "code",
   "execution_count": 29,
   "metadata": {},
   "outputs": [],
   "source": [
    "%matplotlib inline\n",
    "from sklearn.metrics import confusion_matrix\n",
    "import itertools\n",
    "import matplotlib.pyplot as plt"
   ]
  },
  {
   "cell_type": "code",
   "execution_count": 30,
   "metadata": {},
   "outputs": [],
   "source": [
    "cm = confusion_matrix(y_true=test_labels, y_pred=rounded_predictions)"
   ]
  },
  {
   "cell_type": "code",
   "execution_count": 31,
   "metadata": {},
   "outputs": [],
   "source": [
    "def plot_confusion_matrix(\n",
    "    cm, classes, percentiles=False, \n",
    "        normalize=False, title=\"Confusion matrix\", cmap=plt.cm.Blues\n",
    "):\n",
    "    \"\"\"\n",
    "    This function prints and plots the confusion matrix.\n",
    "    Nomralization can be applied by setting \"normalize=True\"\n",
    "    \"\"\"\n",
    "\n",
    "    plt.imshow(cm, interpolation=\"nearest\", cmap=cmap)\n",
    "    plt.title(title)\n",
    "    plt.colorbar()\n",
    "    tick_marks = np.arange(len(classes))\n",
    "    plt.xticks(tick_marks, classes, rotation=45)\n",
    "    plt.yticks(tick_marks, classes)\n",
    "\n",
    "    if normalize:\n",
    "        cm = cm.astype(\"float\") / cm.sum(axis=1)[:, np.newaxis]\n",
    "        print(\"Normalized confusion matrix\")\n",
    "    else:\n",
    "        print(\"Confusion matrix, without normalization\")\n",
    "\n",
    "    print(cm)\n",
    "\n",
    "    threshold = cm.max() / 2\n",
    "    for i, j in itertools.product(range(cm.shape[0]), range(cm.shape[1])):\n",
    "        plt.text(\n",
    "            j,\n",
    "            i,\n",
    "            cm[i, j],\n",
    "            horizontalalignment=\"center\",\n",
    "            color=\"white\" if cm[i, j] > threshold else \"black\",\n",
    "        )\n",
    "        plt.tight_layout()\n",
    "        plt.ylabel(\"True Labels\")\n",
    "        plt.xlabel(\"Predicted Labels\")"
   ]
  },
  {
   "cell_type": "code",
   "execution_count": 32,
   "metadata": {},
   "outputs": [
    {
     "name": "stdout",
     "output_type": "stream",
     "text": [
      "Confusion matrix, without normalization\n",
      "[[ 963   87]\n",
      " [  47 1003]]\n"
     ]
    },
    {
     "data": {
      "image/png": "[encoded data removed]",
      "text/plain": [
       "<Figure size 640x480 with 2 Axes>"
      ]
     },
     "metadata": {},
     "output_type": "display_data"
    }
   ],
   "source": [
    "cm_plot_labels = [\"no_side_effects\", \"had_side_effects\"]\n",
    "plot_confusion_matrix(cm=cm, classes=cm_plot_labels, title=\"Confusion Matrix\")"
   ]
  },
  {
   "cell_type": "markdown",
   "metadata": {},
   "source": [
    "## Save and Load a model"
   ]
  },
  {
   "cell_type": "code",
   "execution_count": 33,
   "metadata": {},
   "outputs": [
    {
     "name": "stdout",
     "output_type": "stream",
     "text": [
      "Model: \"sequential_1\"\n",
      "_________________________________________________________________\n",
      " Layer (type)                Output Shape              Param #   \n",
      "=================================================================\n",
      " Layer_2 (Dense)             (None, 16)                32        \n",
      "                                                                 \n",
      " Layer_3 (Dense)             (None, 32)                544       \n",
      "                                                                 \n",
      " Layer_4 (Dense)             (None, 2)                 66        \n",
      "                                                                 \n",
      "=================================================================\n",
      "Total params: 642\n",
      "Trainable params: 642\n",
      "Non-trainable params: 0\n",
      "_________________________________________________________________\n"
     ]
    }
   ],
   "source": [
    "model.summary()"
   ]
  },
  {
   "cell_type": "markdown",
   "metadata": {},
   "source": [
    "### 1. model.save()"
   ]
  },
  {
   "cell_type": "code",
   "execution_count": 34,
   "metadata": {},
   "outputs": [],
   "source": [
    "# Check first to see if file exists already.\n",
    "# If not, the model is saved to disk.\n",
    "import os.path\n",
    "\n",
    "SAVE_FILE_NAME = \"medical_trial_model\"\n",
    "SAVE_FILE_NAME += \".h5\"\n",
    "\n",
    "if os.path.isfile(os.path.join(os.getcwd(), SAVE_FILE_NAME)):\n",
    "    model.save(os.path.join(os.getcwd(), SAVE_FILE_NAME))"
   ]
  },
  {
   "cell_type": "markdown",
   "metadata": {},
   "source": [
    "This function saves:\n",
    "- The architecture of the model, allowing to re-create the model.\n",
    "- The weights of the model.\n",
    "- The training configuration (loss, optimizer)\n",
    "- The state of the optimizer, allowing to resume training exactly where you left off."
   ]
  },
  {
   "cell_type": "code",
   "execution_count": 35,
   "metadata": {},
   "outputs": [
    {
     "data": {
      "text/plain": [
       "'d:\\\\DATA SCIENCE\\\\GIT\\\\DS\\\\Keras_Tutorial\\\\medical_trial_model.h5'"
      ]
     },
     "execution_count": 35,
     "metadata": {},
     "output_type": "execute_result"
    }
   ],
   "source": [
    "os.path.join(os.getcwd(), SAVE_FILE_NAME)"
   ]
  },
  {
   "cell_type": "code",
   "execution_count": 36,
   "metadata": {},
   "outputs": [],
   "source": [
    "from tensorflow.keras.models import load_model\n",
    "\n",
    "LOAD_FILE_NAME = SAVE_FILE_NAME\n",
    "new_model = load_model(os.path.join(os.getcwd(), LOAD_FILE_NAME))"
   ]
  },
  {
   "cell_type": "code",
   "execution_count": 37,
   "metadata": {},
   "outputs": [
    {
     "name": "stdout",
     "output_type": "stream",
     "text": [
      "Model: \"sequential_1\"\n",
      "_________________________________________________________________\n",
      " Layer (type)                Output Shape              Param #   \n",
      "=================================================================\n",
      " Layer_2 (Dense)             (None, 16)                32        \n",
      "                                                                 \n",
      " Layer_3 (Dense)             (None, 32)                544       \n",
      "                                                                 \n",
      " Layer_4 (Dense)             (None, 2)                 66        \n",
      "                                                                 \n",
      "=================================================================\n",
      "Total params: 642\n",
      "Trainable params: 642\n",
      "Non-trainable params: 0\n",
      "_________________________________________________________________\n"
     ]
    }
   ],
   "source": [
    "new_model.summary()"
   ]
  },
  {
   "cell_type": "code",
   "execution_count": 38,
   "metadata": {},
   "outputs": [
    {
     "data": {
      "text/plain": [
       "[array([[ 0.6408952 , -0.3049085 , -0.2938841 , -0.09668538, -0.26987582,\n",
       "          0.76773745,  0.52051175,  0.3543068 , -0.23860714, -0.04333514,\n",
       "         -0.38872713, -0.38354716, -0.5350459 ,  0.5875342 , -0.4644678 ,\n",
       "         -0.30706018]], dtype=float32),\n",
       " array([ 0.30109242,  0.        ,  0.        ,  0.        ,  0.        ,\n",
       "        -0.18409441, -0.14231999, -0.04316185,  0.        ,  0.        ,\n",
       "         0.        ,  0.        ,  0.        , -0.15796474,  0.        ,\n",
       "         0.        ], dtype=float32),\n",
       " array([[-0.31446573,  0.42634755,  0.07512923, -0.32785064,  0.00864204,\n",
       "         -0.08431655, -0.21712008,  0.1460946 ,  0.33648077, -0.08749685,\n",
       "          0.28225532,  0.29652464, -0.17465785, -0.28288576, -0.06458846,\n",
       "          0.07424061,  0.21336806,  0.21620782, -0.3224559 ,  0.314619  ,\n",
       "         -0.18960923,  0.28238872,  0.04535048, -0.24220344, -0.33399203,\n",
       "          0.10617217,  0.2120955 , -0.3018756 , -0.27582422,  0.27108723,\n",
       "         -0.16527794, -0.00440906],\n",
       "        [ 0.02992123, -0.0528599 , -0.2605278 , -0.09305316,  0.18227705,\n",
       "          0.2709283 , -0.14315   , -0.3400176 ,  0.32621536,  0.20881537,\n",
       "         -0.20587893, -0.1478562 , -0.04294527, -0.12477195,  0.2872065 ,\n",
       "         -0.1891607 ,  0.04161564, -0.0090431 ,  0.25815997, -0.2983121 ,\n",
       "          0.14544919, -0.13906571, -0.11964765, -0.04946151, -0.15320952,\n",
       "         -0.17017944,  0.06087193,  0.2556841 , -0.12695314, -0.3367592 ,\n",
       "         -0.10466723,  0.16182116],\n",
       "        [ 0.2719908 , -0.13918735,  0.25026378,  0.26689455,  0.3458787 ,\n",
       "          0.05173543, -0.01276207,  0.16294333, -0.33556914, -0.27052578,\n",
       "          0.11116999, -0.28572378, -0.04308698,  0.20588252, -0.03297216,\n",
       "          0.29002276, -0.13430169, -0.28135845,  0.2745832 , -0.31520185,\n",
       "          0.04149744,  0.15284637,  0.00154772,  0.33477047,  0.0751802 ,\n",
       "         -0.2423378 ,  0.00180236, -0.14488848,  0.15740708,  0.06417406,\n",
       "          0.13318631, -0.11054696],\n",
       "        [-0.1046105 , -0.334693  ,  0.2130445 ,  0.2039679 , -0.26222318,\n",
       "          0.1482875 ,  0.17186788,  0.04782286,  0.29183862,  0.25731525,\n",
       "         -0.30847   ,  0.06953353, -0.21785925, -0.314644  ,  0.19231918,\n",
       "         -0.26765987,  0.1001007 , -0.11471504,  0.21642771,  0.06960931,\n",
       "          0.03711653, -0.02103844,  0.18414769, -0.33814254, -0.16005796,\n",
       "          0.27466884, -0.01303113,  0.29705384,  0.24942413,  0.25519392,\n",
       "          0.2787262 ,  0.07563329],\n",
       "        [ 0.00884485, -0.2986137 , -0.14000517,  0.02172697, -0.04326442,\n",
       "         -0.16046375,  0.04374033,  0.13514817,  0.08470556, -0.1574811 ,\n",
       "          0.1458984 , -0.00614089,  0.25276342,  0.28020844, -0.23541138,\n",
       "          0.06617764, -0.1242629 , -0.17118903,  0.00655746, -0.3139156 ,\n",
       "         -0.20713447,  0.21705726, -0.02313811,  0.01855347,  0.09867984,\n",
       "         -0.2246266 ,  0.00911704,  0.2584882 ,  0.17137888,  0.08190221,\n",
       "          0.30978456, -0.00383773],\n",
       "        [-0.04708436, -0.05283978,  0.42444775,  0.10978395, -0.18260078,\n",
       "         -0.1584    , -0.34178573, -0.35098636, -0.48779798, -0.21598414,\n",
       "         -0.1997748 , -0.01103844,  0.30512932,  0.28886548, -0.3229884 ,\n",
       "          0.57708585,  0.49604717,  0.30020127, -0.13558885,  0.23393352,\n",
       "         -0.2370359 , -0.13385409, -0.4845699 , -0.1228659 ,  0.28065947,\n",
       "          0.40418124,  0.45869905,  0.31690228, -0.311146  ,  0.38877004,\n",
       "         -0.23135778,  0.26251134],\n",
       "        [ 0.31565192,  0.42549342,  0.5055327 ,  0.20936605, -0.07004943,\n",
       "          0.16050664,  0.04513869, -0.36855417, -0.50649   ,  0.13317958,\n",
       "         -0.3664154 ,  0.33128452, -0.09005728, -0.252517  ,  0.11767814,\n",
       "          0.51113087,  0.40695453,  0.14505489, -0.34333792,  0.41107252,\n",
       "         -0.31558624, -0.19660273,  0.07674916, -0.14264913,  0.33085486,\n",
       "          0.59630704,  0.18280454, -0.11553809, -0.3462067 ,  0.01433278,\n",
       "          0.35328868, -0.25077873],\n",
       "        [-0.15164688, -0.14210524,  0.49123448, -0.00317222,  0.18154775,\n",
       "          0.09265807, -0.15091135, -0.36749765,  0.1519541 , -0.01443657,\n",
       "         -0.13252778,  0.3283261 , -0.23764087, -0.09246233, -0.20675313,\n",
       "          0.41358912, -0.1031572 ,  0.49656373, -0.01970053,  0.2867357 ,\n",
       "          0.03268683, -0.21191217,  0.06981196, -0.18561919, -0.04000106,\n",
       "          0.38970968, -0.05035651, -0.27359685, -0.1784876 ,  0.43482998,\n",
       "          0.19553652, -0.11122528],\n",
       "        [ 0.22461167,  0.24492201, -0.29544023, -0.2647396 , -0.30317256,\n",
       "          0.08825272, -0.01089209,  0.0799621 , -0.00493547, -0.0102137 ,\n",
       "         -0.34338942,  0.11884207, -0.27921233, -0.07475755,  0.11761576,\n",
       "          0.34771726, -0.02491385, -0.18204193, -0.18623064, -0.00420988,\n",
       "         -0.0488584 , -0.2767958 , -0.2910749 , -0.14592427,  0.21841964,\n",
       "          0.05365065,  0.087933  ,  0.04598784, -0.22131267, -0.18311617,\n",
       "          0.20427045,  0.06986108],\n",
       "        [-0.28158766,  0.07838833,  0.0852764 , -0.01797217, -0.04571643,\n",
       "         -0.2770514 ,  0.27249494,  0.12012601, -0.1160457 ,  0.10392326,\n",
       "          0.17928252, -0.04887348,  0.21362194,  0.10711789,  0.34024516,\n",
       "          0.17931142,  0.10782182,  0.19516686, -0.09944877, -0.16884795,\n",
       "          0.34538087, -0.18505678,  0.05625013, -0.32260764,  0.18682131,\n",
       "          0.07032192,  0.10491851, -0.0007734 , -0.31444365,  0.18053368,\n",
       "          0.18542287, -0.27864066],\n",
       "        [-0.34970176, -0.01514959, -0.07753116, -0.12299985, -0.15791716,\n",
       "         -0.17554785, -0.05836192, -0.07856357, -0.17277029,  0.30482766,\n",
       "         -0.2673768 , -0.09977102,  0.14361328, -0.11113651, -0.20910425,\n",
       "          0.11795664,  0.26168928, -0.19416337, -0.11046158,  0.12965685,\n",
       "         -0.04139167,  0.32562813, -0.11607806, -0.1892637 ,  0.03020269,\n",
       "         -0.18095386, -0.18775679, -0.24550614, -0.04914558, -0.2199816 ,\n",
       "         -0.16407566, -0.19295384],\n",
       "        [-0.23038983,  0.24405864,  0.20894316,  0.17389956,  0.2140635 ,\n",
       "         -0.15689492,  0.20934305, -0.25310236,  0.32819793,  0.32643846,\n",
       "          0.24458674,  0.23271921, -0.26223835, -0.05746418,  0.03031361,\n",
       "          0.3456764 ,  0.2578937 ,  0.2758201 ,  0.16415015,  0.29158953,\n",
       "          0.16433528,  0.11836377, -0.2183312 ,  0.33832243,  0.3532327 ,\n",
       "          0.16648164,  0.30758354, -0.15597992, -0.06577346,  0.2671102 ,\n",
       "          0.3102148 ,  0.27214774],\n",
       "        [ 0.08337927,  0.31977555,  0.143011  ,  0.02782905,  0.14274338,\n",
       "         -0.07926795,  0.15796486,  0.34194592,  0.12071195,  0.2682726 ,\n",
       "         -0.05815676, -0.32395104, -0.23649296,  0.24253967, -0.0439488 ,\n",
       "          0.15413186,  0.12447548, -0.31332937,  0.25701764, -0.09735543,\n",
       "          0.2875873 , -0.19054143, -0.33135068, -0.23121399,  0.33944753,\n",
       "         -0.07183483,  0.21817866, -0.08677471, -0.06594574, -0.16451862,\n",
       "         -0.20077655,  0.12309974],\n",
       "        [ 0.05934647,  0.62475735, -0.04899014, -0.13611704, -0.49305198,\n",
       "          0.11021399, -0.19388132,  0.03091143, -0.3539282 ,  0.19859698,\n",
       "         -0.5695986 ,  0.6201508 , -0.18075737,  0.06519553, -0.23922408,\n",
       "          0.6225996 ,  0.21019998,  0.38664392,  0.2631859 ,  0.3847642 ,\n",
       "          0.00416797, -0.5678091 , -0.36046353,  0.02301326, -0.27389964,\n",
       "          0.03999749,  0.5001655 ,  0.17088121,  0.32173935,  0.3174745 ,\n",
       "         -0.2909934 , -0.3480405 ],\n",
       "        [-0.14363098, -0.3203357 , -0.04964712,  0.07376146,  0.23648563,\n",
       "         -0.22204274, -0.10082665, -0.134943  ,  0.12856078, -0.11393541,\n",
       "         -0.25009492,  0.19163033, -0.0693399 ,  0.18504563,  0.25236186,\n",
       "         -0.3149349 , -0.2477476 ,  0.15616933,  0.18102899,  0.26823398,\n",
       "          0.18822363,  0.26424554,  0.09216294, -0.00618505, -0.18539733,\n",
       "          0.14047891, -0.17401624, -0.11700699, -0.34511796, -0.31776685,\n",
       "          0.0533461 ,  0.23045138],\n",
       "        [ 0.20397583,  0.1013903 , -0.3194319 ,  0.24863544, -0.02501366,\n",
       "         -0.2721368 ,  0.1269173 , -0.17080507, -0.10729121, -0.3233857 ,\n",
       "         -0.27040195, -0.19926651, -0.29000217,  0.0894663 ,  0.11308885,\n",
       "          0.30840907,  0.10105565,  0.13847944, -0.3408649 , -0.17131539,\n",
       "          0.22095188, -0.31003287,  0.35164598, -0.23476115, -0.03363547,\n",
       "         -0.23944223, -0.04435232,  0.13213661,  0.18004069, -0.16822569,\n",
       "         -0.17228223,  0.03062162]], dtype=float32),\n",
       " array([ 0.        , -0.16301996, -0.09535817,  0.        ,  0.23766425,\n",
       "         0.        ,  0.        ,  0.2650394 ,  0.26205283,  0.        ,\n",
       "         0.25027993, -0.14642753, -0.00055585,  0.        ,  0.        ,\n",
       "        -0.10166232, -0.10293709, -0.13170324,  0.        , -0.15349782,\n",
       "         0.        ,  0.20576891,  0.29690742,  0.        ,  0.        ,\n",
       "        -0.09787598, -0.10821068, -0.00248412,  0.        , -0.14557569,\n",
       "         0.        , -0.00055519], dtype=float32),\n",
       " array([[ 0.26666823, -0.26557392],\n",
       "        [-0.39181405,  0.2974987 ],\n",
       "        [-0.37757358,  0.5187329 ],\n",
       "        [ 0.3885832 ,  0.14705792],\n",
       "        [ 0.298297  , -0.8161432 ],\n",
       "        [ 0.20361921, -0.00698516],\n",
       "        [-0.19199604, -0.07371971],\n",
       "        [ 0.5147364 , -0.5631453 ],\n",
       "        [ 0.8596465 , -0.8129712 ],\n",
       "        [ 0.41424122,  0.3380004 ],\n",
       "        [ 0.6843729 , -0.48419985],\n",
       "        [-0.42167106,  0.24947159],\n",
       "        [-0.3282724 ,  0.16750066],\n",
       "        [-0.20986874, -0.24510787],\n",
       "        [-0.2807449 , -0.35234544],\n",
       "        [-0.02088308,  0.5967521 ],\n",
       "        [-0.4675976 ,  0.24734141],\n",
       "        [-0.45597667,  0.29658827],\n",
       "        [ 0.39684018, -0.05739692],\n",
       "        [-0.40801263,  0.14834204],\n",
       "        [-0.01828206, -0.00609788],\n",
       "        [ 0.36265606, -0.67819965],\n",
       "        [ 0.46635637, -0.6631695 ],\n",
       "        [ 0.00163594, -0.32869464],\n",
       "        [-0.1372877 ,  0.2697347 ],\n",
       "        [-0.5989572 ,  0.31592196],\n",
       "        [-0.32286924,  0.0119826 ],\n",
       "        [ 0.02922661, -0.16724873],\n",
       "        [ 0.09961107, -0.16499633],\n",
       "        [-0.38080537,  0.24429531],\n",
       "        [ 0.1839414 ,  0.39062437],\n",
       "        [-0.1672751 , -0.14248726]], dtype=float32),\n",
       " array([ 0.17738596, -0.177386  ], dtype=float32)]"
      ]
     },
     "execution_count": 38,
     "metadata": {},
     "output_type": "execute_result"
    }
   ],
   "source": [
    "new_model.get_weights()"
   ]
  },
  {
   "cell_type": "code",
   "execution_count": 39,
   "metadata": {},
   "outputs": [
    {
     "data": {
      "text/plain": [
       "<keras.optimizers.optimizer_v2.adam.Adam at 0x14509717b80>"
      ]
     },
     "execution_count": 39,
     "metadata": {},
     "output_type": "execute_result"
    }
   ],
   "source": [
    "new_model.optimizer"
   ]
  },
  {
   "cell_type": "markdown",
   "metadata": {},
   "source": [
    "### 2. model.to_json()"
   ]
  },
  {
   "cell_type": "markdown",
   "metadata": {},
   "source": [
    "If you only need to save the architecture of a model, and not its weights or its training configuration, you can use the following function to save the architecture only."
   ]
  },
  {
   "cell_type": "code",
   "execution_count": 40,
   "metadata": {},
   "outputs": [],
   "source": [
    "# save as JSON\n",
    "json_string = model.to_json()\n",
    "\n",
    "# save as YAML\n",
    "# yaml_string = model.to_yaml()"
   ]
  },
  {
   "cell_type": "code",
   "execution_count": 41,
   "metadata": {},
   "outputs": [
    {
     "data": {
      "text/plain": [
       "'{\"class_name\": \"Sequential\", \"config\": {\"name\": \"sequential_1\", \"layers\": [{\"class_name\": \"InputLayer\", \"config\": {\"batch_input_shape\": [null, 1], \"dtype\": \"float32\", \"sparse\": false, \"ragged\": false, \"name\": \"Layer_2_input\"}}, {\"class_name\": \"Dense\", \"config\": {\"name\": \"Layer_2\", \"trainable\": true, \"batch_input_shape\": [null, 1], \"dtype\": \"float32\", \"units\": 16, \"activation\": \"relu\", \"use_bias\": true, \"kernel_initializer\": {\"class_name\": \"GlorotUniform\", \"config\": {\"seed\": null}}, \"bias_initializer\": {\"class_name\": \"Zeros\", \"config\": {}}, \"kernel_regularizer\": null, \"bias_regularizer\": null, \"activity_regularizer\": null, \"kernel_constraint\": null, \"bias_constraint\": null}}, {\"class_name\": \"Dense\", \"config\": {\"name\": \"Layer_3\", \"trainable\": true, \"dtype\": \"float32\", \"units\": 32, \"activation\": \"relu\", \"use_bias\": true, \"kernel_initializer\": {\"class_name\": \"GlorotUniform\", \"config\": {\"seed\": null}}, \"bias_initializer\": {\"class_name\": \"Zeros\", \"config\": {}}, \"kernel_regularizer\": null, \"bias_regularizer\": null, \"activity_regularizer\": null, \"kernel_constraint\": null, \"bias_constraint\": null}}, {\"class_name\": \"Dense\", \"config\": {\"name\": \"Layer_4\", \"trainable\": true, \"dtype\": \"float32\", \"units\": 2, \"activation\": \"softmax\", \"use_bias\": true, \"kernel_initializer\": {\"class_name\": \"GlorotUniform\", \"config\": {\"seed\": null}}, \"bias_initializer\": {\"class_name\": \"Zeros\", \"config\": {}}, \"kernel_regularizer\": null, \"bias_regularizer\": null, \"activity_regularizer\": null, \"kernel_constraint\": null, \"bias_constraint\": null}}]}, \"keras_version\": \"2.10.0\", \"backend\": \"tensorflow\"}'"
      ]
     },
     "execution_count": 41,
     "metadata": {},
     "output_type": "execute_result"
    }
   ],
   "source": [
    "json_string"
   ]
  },
  {
   "cell_type": "code",
   "execution_count": 42,
   "metadata": {},
   "outputs": [],
   "source": [
    "# model reconstruction from JSON\n",
    "from tensorflow.keras.models import model_from_json\n",
    "\n",
    "model_architecture = model_from_json(json_string)\n",
    "\n",
    "# model reconstruction from YAML\n",
    "# from tensorflow.keras.models import model_from_yaml\n",
    "# model = model_from_yaml(yaml_string)"
   ]
  },
  {
   "cell_type": "code",
   "execution_count": 43,
   "metadata": {},
   "outputs": [
    {
     "name": "stdout",
     "output_type": "stream",
     "text": [
      "Model: \"sequential_1\"\n",
      "_________________________________________________________________\n",
      " Layer (type)                Output Shape              Param #   \n",
      "=================================================================\n",
      " Layer_2 (Dense)             (None, 16)                32        \n",
      "                                                                 \n",
      " Layer_3 (Dense)             (None, 32)                544       \n",
      "                                                                 \n",
      " Layer_4 (Dense)             (None, 2)                 66        \n",
      "                                                                 \n",
      "=================================================================\n",
      "Total params: 642\n",
      "Trainable params: 642\n",
      "Non-trainable params: 0\n",
      "_________________________________________________________________\n"
     ]
    }
   ],
   "source": [
    "model_architecture.summary()"
   ]
  },
  {
   "cell_type": "markdown",
   "metadata": {},
   "source": [
    "### 3. model.save_weights()"
   ]
  },
  {
   "cell_type": "code",
   "execution_count": 44,
   "metadata": {},
   "outputs": [],
   "source": [
    "# Check first to see if file exists already\n",
    "# If not,  the weights are saved to disk.\n",
    "import os.path\n",
    "if os.path.isfile(os.path.join(os.getcwd(), LOAD_FILE_NAME)) is False:\n",
    "    model.save_weights(os.path.join(os.getcwd(), LOAD_FILE_NAME))"
   ]
  },
  {
   "cell_type": "code",
   "execution_count": 45,
   "metadata": {},
   "outputs": [],
   "source": [
    "model_2 = Sequential([\n",
    "    Dense(units=16, input_shape=(1,), activation='relu'),\n",
    "    Dense(units=32, activation=\"relu\"),\n",
    "    Dense(units=2, activation=\"softmax\"),\n",
    "])"
   ]
  },
  {
   "cell_type": "code",
   "execution_count": 46,
   "metadata": {},
   "outputs": [],
   "source": [
    "model_2.load_weights(os.path.join(os.getcwd(), LOAD_FILE_NAME))"
   ]
  },
  {
   "cell_type": "code",
   "execution_count": 47,
   "metadata": {},
   "outputs": [
    {
     "data": {
      "text/plain": [
       "[array([[ 0.6408952 , -0.3049085 , -0.2938841 , -0.09668538, -0.26987582,\n",
       "          0.76773745,  0.52051175,  0.3543068 , -0.23860714, -0.04333514,\n",
       "         -0.38872713, -0.38354716, -0.5350459 ,  0.5875342 , -0.4644678 ,\n",
       "         -0.30706018]], dtype=float32),\n",
       " array([ 0.30109242,  0.        ,  0.        ,  0.        ,  0.        ,\n",
       "        -0.18409441, -0.14231999, -0.04316185,  0.        ,  0.        ,\n",
       "         0.        ,  0.        ,  0.        , -0.15796474,  0.        ,\n",
       "         0.        ], dtype=float32),\n",
       " array([[-0.31446573,  0.42634755,  0.07512923, -0.32785064,  0.00864204,\n",
       "         -0.08431655, -0.21712008,  0.1460946 ,  0.33648077, -0.08749685,\n",
       "          0.28225532,  0.29652464, -0.17465785, -0.28288576, -0.06458846,\n",
       "          0.07424061,  0.21336806,  0.21620782, -0.3224559 ,  0.314619  ,\n",
       "         -0.18960923,  0.28238872,  0.04535048, -0.24220344, -0.33399203,\n",
       "          0.10617217,  0.2120955 , -0.3018756 , -0.27582422,  0.27108723,\n",
       "         -0.16527794, -0.00440906],\n",
       "        [ 0.02992123, -0.0528599 , -0.2605278 , -0.09305316,  0.18227705,\n",
       "          0.2709283 , -0.14315   , -0.3400176 ,  0.32621536,  0.20881537,\n",
       "         -0.20587893, -0.1478562 , -0.04294527, -0.12477195,  0.2872065 ,\n",
       "         -0.1891607 ,  0.04161564, -0.0090431 ,  0.25815997, -0.2983121 ,\n",
       "          0.14544919, -0.13906571, -0.11964765, -0.04946151, -0.15320952,\n",
       "         -0.17017944,  0.06087193,  0.2556841 , -0.12695314, -0.3367592 ,\n",
       "         -0.10466723,  0.16182116],\n",
       "        [ 0.2719908 , -0.13918735,  0.25026378,  0.26689455,  0.3458787 ,\n",
       "          0.05173543, -0.01276207,  0.16294333, -0.33556914, -0.27052578,\n",
       "          0.11116999, -0.28572378, -0.04308698,  0.20588252, -0.03297216,\n",
       "          0.29002276, -0.13430169, -0.28135845,  0.2745832 , -0.31520185,\n",
       "          0.04149744,  0.15284637,  0.00154772,  0.33477047,  0.0751802 ,\n",
       "         -0.2423378 ,  0.00180236, -0.14488848,  0.15740708,  0.06417406,\n",
       "          0.13318631, -0.11054696],\n",
       "        [-0.1046105 , -0.334693  ,  0.2130445 ,  0.2039679 , -0.26222318,\n",
       "          0.1482875 ,  0.17186788,  0.04782286,  0.29183862,  0.25731525,\n",
       "         -0.30847   ,  0.06953353, -0.21785925, -0.314644  ,  0.19231918,\n",
       "         -0.26765987,  0.1001007 , -0.11471504,  0.21642771,  0.06960931,\n",
       "          0.03711653, -0.02103844,  0.18414769, -0.33814254, -0.16005796,\n",
       "          0.27466884, -0.01303113,  0.29705384,  0.24942413,  0.25519392,\n",
       "          0.2787262 ,  0.07563329],\n",
       "        [ 0.00884485, -0.2986137 , -0.14000517,  0.02172697, -0.04326442,\n",
       "         -0.16046375,  0.04374033,  0.13514817,  0.08470556, -0.1574811 ,\n",
       "          0.1458984 , -0.00614089,  0.25276342,  0.28020844, -0.23541138,\n",
       "          0.06617764, -0.1242629 , -0.17118903,  0.00655746, -0.3139156 ,\n",
       "         -0.20713447,  0.21705726, -0.02313811,  0.01855347,  0.09867984,\n",
       "         -0.2246266 ,  0.00911704,  0.2584882 ,  0.17137888,  0.08190221,\n",
       "          0.30978456, -0.00383773],\n",
       "        [-0.04708436, -0.05283978,  0.42444775,  0.10978395, -0.18260078,\n",
       "         -0.1584    , -0.34178573, -0.35098636, -0.48779798, -0.21598414,\n",
       "         -0.1997748 , -0.01103844,  0.30512932,  0.28886548, -0.3229884 ,\n",
       "          0.57708585,  0.49604717,  0.30020127, -0.13558885,  0.23393352,\n",
       "         -0.2370359 , -0.13385409, -0.4845699 , -0.1228659 ,  0.28065947,\n",
       "          0.40418124,  0.45869905,  0.31690228, -0.311146  ,  0.38877004,\n",
       "         -0.23135778,  0.26251134],\n",
       "        [ 0.31565192,  0.42549342,  0.5055327 ,  0.20936605, -0.07004943,\n",
       "          0.16050664,  0.04513869, -0.36855417, -0.50649   ,  0.13317958,\n",
       "         -0.3664154 ,  0.33128452, -0.09005728, -0.252517  ,  0.11767814,\n",
       "          0.51113087,  0.40695453,  0.14505489, -0.34333792,  0.41107252,\n",
       "         -0.31558624, -0.19660273,  0.07674916, -0.14264913,  0.33085486,\n",
       "          0.59630704,  0.18280454, -0.11553809, -0.3462067 ,  0.01433278,\n",
       "          0.35328868, -0.25077873],\n",
       "        [-0.15164688, -0.14210524,  0.49123448, -0.00317222,  0.18154775,\n",
       "          0.09265807, -0.15091135, -0.36749765,  0.1519541 , -0.01443657,\n",
       "         -0.13252778,  0.3283261 , -0.23764087, -0.09246233, -0.20675313,\n",
       "          0.41358912, -0.1031572 ,  0.49656373, -0.01970053,  0.2867357 ,\n",
       "          0.03268683, -0.21191217,  0.06981196, -0.18561919, -0.04000106,\n",
       "          0.38970968, -0.05035651, -0.27359685, -0.1784876 ,  0.43482998,\n",
       "          0.19553652, -0.11122528],\n",
       "        [ 0.22461167,  0.24492201, -0.29544023, -0.2647396 , -0.30317256,\n",
       "          0.08825272, -0.01089209,  0.0799621 , -0.00493547, -0.0102137 ,\n",
       "         -0.34338942,  0.11884207, -0.27921233, -0.07475755,  0.11761576,\n",
       "          0.34771726, -0.02491385, -0.18204193, -0.18623064, -0.00420988,\n",
       "         -0.0488584 , -0.2767958 , -0.2910749 , -0.14592427,  0.21841964,\n",
       "          0.05365065,  0.087933  ,  0.04598784, -0.22131267, -0.18311617,\n",
       "          0.20427045,  0.06986108],\n",
       "        [-0.28158766,  0.07838833,  0.0852764 , -0.01797217, -0.04571643,\n",
       "         -0.2770514 ,  0.27249494,  0.12012601, -0.1160457 ,  0.10392326,\n",
       "          0.17928252, -0.04887348,  0.21362194,  0.10711789,  0.34024516,\n",
       "          0.17931142,  0.10782182,  0.19516686, -0.09944877, -0.16884795,\n",
       "          0.34538087, -0.18505678,  0.05625013, -0.32260764,  0.18682131,\n",
       "          0.07032192,  0.10491851, -0.0007734 , -0.31444365,  0.18053368,\n",
       "          0.18542287, -0.27864066],\n",
       "        [-0.34970176, -0.01514959, -0.07753116, -0.12299985, -0.15791716,\n",
       "         -0.17554785, -0.05836192, -0.07856357, -0.17277029,  0.30482766,\n",
       "         -0.2673768 , -0.09977102,  0.14361328, -0.11113651, -0.20910425,\n",
       "          0.11795664,  0.26168928, -0.19416337, -0.11046158,  0.12965685,\n",
       "         -0.04139167,  0.32562813, -0.11607806, -0.1892637 ,  0.03020269,\n",
       "         -0.18095386, -0.18775679, -0.24550614, -0.04914558, -0.2199816 ,\n",
       "         -0.16407566, -0.19295384],\n",
       "        [-0.23038983,  0.24405864,  0.20894316,  0.17389956,  0.2140635 ,\n",
       "         -0.15689492,  0.20934305, -0.25310236,  0.32819793,  0.32643846,\n",
       "          0.24458674,  0.23271921, -0.26223835, -0.05746418,  0.03031361,\n",
       "          0.3456764 ,  0.2578937 ,  0.2758201 ,  0.16415015,  0.29158953,\n",
       "          0.16433528,  0.11836377, -0.2183312 ,  0.33832243,  0.3532327 ,\n",
       "          0.16648164,  0.30758354, -0.15597992, -0.06577346,  0.2671102 ,\n",
       "          0.3102148 ,  0.27214774],\n",
       "        [ 0.08337927,  0.31977555,  0.143011  ,  0.02782905,  0.14274338,\n",
       "         -0.07926795,  0.15796486,  0.34194592,  0.12071195,  0.2682726 ,\n",
       "         -0.05815676, -0.32395104, -0.23649296,  0.24253967, -0.0439488 ,\n",
       "          0.15413186,  0.12447548, -0.31332937,  0.25701764, -0.09735543,\n",
       "          0.2875873 , -0.19054143, -0.33135068, -0.23121399,  0.33944753,\n",
       "         -0.07183483,  0.21817866, -0.08677471, -0.06594574, -0.16451862,\n",
       "         -0.20077655,  0.12309974],\n",
       "        [ 0.05934647,  0.62475735, -0.04899014, -0.13611704, -0.49305198,\n",
       "          0.11021399, -0.19388132,  0.03091143, -0.3539282 ,  0.19859698,\n",
       "         -0.5695986 ,  0.6201508 , -0.18075737,  0.06519553, -0.23922408,\n",
       "          0.6225996 ,  0.21019998,  0.38664392,  0.2631859 ,  0.3847642 ,\n",
       "          0.00416797, -0.5678091 , -0.36046353,  0.02301326, -0.27389964,\n",
       "          0.03999749,  0.5001655 ,  0.17088121,  0.32173935,  0.3174745 ,\n",
       "         -0.2909934 , -0.3480405 ],\n",
       "        [-0.14363098, -0.3203357 , -0.04964712,  0.07376146,  0.23648563,\n",
       "         -0.22204274, -0.10082665, -0.134943  ,  0.12856078, -0.11393541,\n",
       "         -0.25009492,  0.19163033, -0.0693399 ,  0.18504563,  0.25236186,\n",
       "         -0.3149349 , -0.2477476 ,  0.15616933,  0.18102899,  0.26823398,\n",
       "          0.18822363,  0.26424554,  0.09216294, -0.00618505, -0.18539733,\n",
       "          0.14047891, -0.17401624, -0.11700699, -0.34511796, -0.31776685,\n",
       "          0.0533461 ,  0.23045138],\n",
       "        [ 0.20397583,  0.1013903 , -0.3194319 ,  0.24863544, -0.02501366,\n",
       "         -0.2721368 ,  0.1269173 , -0.17080507, -0.10729121, -0.3233857 ,\n",
       "         -0.27040195, -0.19926651, -0.29000217,  0.0894663 ,  0.11308885,\n",
       "          0.30840907,  0.10105565,  0.13847944, -0.3408649 , -0.17131539,\n",
       "          0.22095188, -0.31003287,  0.35164598, -0.23476115, -0.03363547,\n",
       "         -0.23944223, -0.04435232,  0.13213661,  0.18004069, -0.16822569,\n",
       "         -0.17228223,  0.03062162]], dtype=float32),\n",
       " array([ 0.        , -0.16301996, -0.09535817,  0.        ,  0.23766425,\n",
       "         0.        ,  0.        ,  0.2650394 ,  0.26205283,  0.        ,\n",
       "         0.25027993, -0.14642753, -0.00055585,  0.        ,  0.        ,\n",
       "        -0.10166232, -0.10293709, -0.13170324,  0.        , -0.15349782,\n",
       "         0.        ,  0.20576891,  0.29690742,  0.        ,  0.        ,\n",
       "        -0.09787598, -0.10821068, -0.00248412,  0.        , -0.14557569,\n",
       "         0.        , -0.00055519], dtype=float32),\n",
       " array([[ 0.26666823, -0.26557392],\n",
       "        [-0.39181405,  0.2974987 ],\n",
       "        [-0.37757358,  0.5187329 ],\n",
       "        [ 0.3885832 ,  0.14705792],\n",
       "        [ 0.298297  , -0.8161432 ],\n",
       "        [ 0.20361921, -0.00698516],\n",
       "        [-0.19199604, -0.07371971],\n",
       "        [ 0.5147364 , -0.5631453 ],\n",
       "        [ 0.8596465 , -0.8129712 ],\n",
       "        [ 0.41424122,  0.3380004 ],\n",
       "        [ 0.6843729 , -0.48419985],\n",
       "        [-0.42167106,  0.24947159],\n",
       "        [-0.3282724 ,  0.16750066],\n",
       "        [-0.20986874, -0.24510787],\n",
       "        [-0.2807449 , -0.35234544],\n",
       "        [-0.02088308,  0.5967521 ],\n",
       "        [-0.4675976 ,  0.24734141],\n",
       "        [-0.45597667,  0.29658827],\n",
       "        [ 0.39684018, -0.05739692],\n",
       "        [-0.40801263,  0.14834204],\n",
       "        [-0.01828206, -0.00609788],\n",
       "        [ 0.36265606, -0.67819965],\n",
       "        [ 0.46635637, -0.6631695 ],\n",
       "        [ 0.00163594, -0.32869464],\n",
       "        [-0.1372877 ,  0.2697347 ],\n",
       "        [-0.5989572 ,  0.31592196],\n",
       "        [-0.32286924,  0.0119826 ],\n",
       "        [ 0.02922661, -0.16724873],\n",
       "        [ 0.09961107, -0.16499633],\n",
       "        [-0.38080537,  0.24429531],\n",
       "        [ 0.1839414 ,  0.39062437],\n",
       "        [-0.1672751 , -0.14248726]], dtype=float32),\n",
       " array([ 0.17738596, -0.177386  ], dtype=float32)]"
      ]
     },
     "execution_count": 47,
     "metadata": {},
     "output_type": "execute_result"
    }
   ],
   "source": [
    "model_2.get_weights()"
   ]
  },
  {
   "cell_type": "markdown",
   "metadata": {},
   "source": [
    "## Convolutional Neural Networks"
   ]
  },
  {
   "cell_type": "code",
   "execution_count": 48,
   "metadata": {},
   "outputs": [],
   "source": [
    "import numpy as np\n",
    "import tensorflow as tf\n",
    "from tensorflow import keras\n",
    "from keras.models import Sequential\n",
    "from keras.layers import Activation, Dense, Flatten, BatchNormalization, Conv2D, MaxPooling2D\n",
    "from keras.optimizers import Adam\n",
    "from keras.metrics import categorical_crossentropy\n",
    "from keras.preprocessing.image import ImageDataGenerator\n",
    "from sklearn.metrics import confusion_matrix\n",
    "import itertools\n",
    "import os\n",
    "import shutil\n",
    "import random\n",
    "import glob\n",
    "import matplotlib.pyplot as plt\n",
    "import warnings\n",
    "warnings.simplefilter(action=\"ignore\", category=FutureWarning)\n",
    "%matplotlib inline"
   ]
  },
  {
   "cell_type": "markdown",
   "metadata": {},
   "source": [
    "#### Data preparation"
   ]
  },
  {
   "cell_type": "markdown",
   "metadata": {},
   "source": [
    "The images included in the data/cats_and_dogs directory are a random subset of the full cat and dog dataset from the following Kaggle competition: http://www.kaggle.com/c/dogs-vs-cats/data"
   ]
  },
  {
   "cell_type": "code",
   "execution_count": 49,
   "metadata": {},
   "outputs": [],
   "source": [
    "DATASET_FULL_PATH = \"D:\\DATA SCIENCE\\CLOUD\\DATASETS\\cats_and_dogs\\TRAIN_SANDBOX\"\n",
    "\n",
    "DATASET_TRAIN_CAT_PATH = \"train/cat\"\n",
    "DATASET_TRAIN_DOG_PATH = \"train/dog\"\n",
    "DATASET_VALID_CAT_PATH = \"valid/cat\"\n",
    "DATASET_VALID_DOG_PATH = \"valid/dog\"\n",
    "DATASET_TEST_CAT_PATH = \"test/cat\"\n",
    "DATASET_TEST_DOG_PATH = \"test/dog\""
   ]
  },
  {
   "cell_type": "code",
   "execution_count": 50,
   "metadata": {},
   "outputs": [],
   "source": [
    "# Organize data into train, valid and test dirs\n",
    "import os\n",
    "import random\n",
    "import glob\n",
    "import shutil\n",
    "\n",
    "os.chdir(DATASET_FULL_PATH)\n",
    "\n",
    "if os.path.isdir(DATASET_TRAIN_CAT_PATH) is False:\n",
    "    os.makedirs(DATASET_TRAIN_CAT_PATH)\n",
    "    os.makedirs(DATASET_TRAIN_DOG_PATH)\n",
    "    os.makedirs(DATASET_VALID_CAT_PATH)\n",
    "    os.makedirs(DATASET_VALID_DOG_PATH)\n",
    "    os.makedirs(DATASET_TEST_CAT_PATH)\n",
    "    os.makedirs(DATASET_TEST_DOG_PATH)\n",
    "\n",
    "    for c in random.sample(glob.glob(\"cat*\"), 500):\n",
    "        shutil.move(c, DATASET_TRAIN_CAT_PATH)\n",
    "    for c in random.sample(glob.glob(\"dog*\"), 500):\n",
    "        shutil.move(c, DATASET_TRAIN_DOG_PATH)\n",
    "    for c in random.sample(glob.glob(\"cat*\"), 100):\n",
    "        shutil.move(c, DATASET_VALID_CAT_PATH)\n",
    "    for c in random.sample(glob.glob(\"dog*\"), 100):\n",
    "        shutil.move(c, DATASET_VALID_DOG_PATH)\n",
    "    for c in random.sample(glob.glob(\"cat*\"), 50):\n",
    "        shutil.move(c, DATASET_TEST_CAT_PATH)\n",
    "    for c in random.sample(glob.glob(\"dog*\"), 50):\n",
    "        shutil.move(c, DATASET_TEST_DOG_PATH)"
   ]
  },
  {
   "cell_type": "code",
   "execution_count": 51,
   "metadata": {},
   "outputs": [
    {
     "data": {
      "text/plain": [
       "'D:\\\\DATA SCIENCE\\\\CLOUD\\\\DATASETS\\\\cats_and_dogs\\\\TRAIN_SANDBOX'"
      ]
     },
     "execution_count": 51,
     "metadata": {},
     "output_type": "execute_result"
    }
   ],
   "source": [
    "DATASET_FULL_PATH"
   ]
  },
  {
   "cell_type": "code",
   "execution_count": 52,
   "metadata": {},
   "outputs": [],
   "source": [
    "os.chdir(DATASET_FULL_PATH)\n",
    "TRAIN_PATH = \"train\"\n",
    "VALID_PATH = \"valid\"\n",
    "TEST_PATH = \"test\""
   ]
  },
  {
   "cell_type": "code",
   "execution_count": 53,
   "metadata": {},
   "outputs": [
    {
     "name": "stdout",
     "output_type": "stream",
     "text": [
      "Found 1000 images belonging to 2 classes.\n",
      "Found 200 images belonging to 2 classes.\n",
      "Found 100 images belonging to 2 classes.\n"
     ]
    }
   ],
   "source": [
    "train_batches = ImageDataGenerator(\n",
    "    preprocessing_function=tf.keras.applications.vgg16.preprocess_input\n",
    ").flow_from_directory(\n",
    "    directory=TRAIN_PATH, target_size=(224, 224), classes=[\"cat\", \"dog\"], batch_size=10\n",
    ")\n",
    "\n",
    "valid_batches = ImageDataGenerator(\n",
    "    preprocessing_function=tf.keras.applications.vgg16.preprocess_input\n",
    ").flow_from_directory(\n",
    "    directory=VALID_PATH, target_size=(224, 224), classes=[\"cat\", \"dog\"], batch_size=10\n",
    ")\n",
    "\n",
    "test_batches = ImageDataGenerator(\n",
    "    preprocessing_function=tf.keras.applications.vgg16.preprocess_input\n",
    ").flow_from_directory(\n",
    "    directory=TEST_PATH,\n",
    "    target_size=(224, 224),\n",
    "    classes=[\"cat\", \"dog\"],\n",
    "    batch_size=10,\n",
    "    shuffle=False,\n",
    ")"
   ]
  },
  {
   "cell_type": "code",
   "execution_count": 54,
   "metadata": {},
   "outputs": [],
   "source": [
    "imgs, labels = next(train_batches)"
   ]
  },
  {
   "cell_type": "code",
   "execution_count": 55,
   "metadata": {},
   "outputs": [
    {
     "name": "stdout",
     "output_type": "stream",
     "text": [
      "Size of imgs: 10\n",
      "Size of labels: 10\n"
     ]
    }
   ],
   "source": [
    "# Each batch contains 10 records\n",
    "print(\"Size of imgs: \" + str(len(imgs))) \n",
    "print(\"Size of labels: \" + str(len(labels)))"
   ]
  },
  {
   "cell_type": "code",
   "execution_count": 56,
   "metadata": {},
   "outputs": [],
   "source": [
    "def plotImages(image_arr):\n",
    "    fig, axes = plt.subplots(1, 10, figsize =(20,20))\n",
    "    axes = axes.flatten()\n",
    "    for img, ax in zip(image_arr, axes):\n",
    "        ax.imshow(img)\n",
    "        ax.axis(\"off\")\n",
    "    plt.tight_layout()\n",
    "    plt.show()"
   ]
  },
  {
   "cell_type": "code",
   "execution_count": 57,
   "metadata": {},
   "outputs": [
    {
     "name": "stderr",
     "output_type": "stream",
     "text": [
      "Clipping input data to the valid range for imshow with RGB data ([0..1] for floats or [0..255] for integers).\n",
      "Clipping input data to the valid range for imshow with RGB data ([0..1] for floats or [0..255] for integers).\n",
      "Clipping input data to the valid range for imshow with RGB data ([0..1] for floats or [0..255] for integers).\n",
      "Clipping input data to the valid range for imshow with RGB data ([0..1] for floats or [0..255] for integers).\n",
      "Clipping input data to the valid range for imshow with RGB data ([0..1] for floats or [0..255] for integers).\n",
      "Clipping input data to the valid range for imshow with RGB data ([0..1] for floats or [0..255] for integers).\n",
      "Clipping input data to the valid range for imshow with RGB data ([0..1] for floats or [0..255] for integers).\n",
      "Clipping input data to the valid range for imshow with RGB data ([0..1] for floats or [0..255] for integers).\n",
      "Clipping input data to the valid range for imshow with RGB data ([0..1] for floats or [0..255] for integers).\n",
      "Clipping input data to the valid range for imshow with RGB data ([0..1] for floats or [0..255] for integers).\n"
     ]
    },
    {
     "data": {
      "image/png": "[encoded data removed]",
      "text/plain": [
       "<Figure size 2000x2000 with 10 Axes>"
      ]
     },
     "metadata": {},
     "output_type": "display_data"
    },
    {
     "name": "stdout",
     "output_type": "stream",
     "text": [
      "[[1. 0.]\n",
      " [0. 1.]\n",
      " [1. 0.]\n",
      " [0. 1.]\n",
      " [1. 0.]\n",
      " [0. 1.]\n",
      " [1. 0.]\n",
      " [0. 1.]\n",
      " [0. 1.]\n",
      " [1. 0.]]\n"
     ]
    }
   ],
   "source": [
    "plotImages(imgs)\n",
    "print(labels)"
   ]
  },
  {
   "cell_type": "markdown",
   "metadata": {},
   "source": [
    "## Build and train a CNN"
   ]
  },
  {
   "cell_type": "code",
   "execution_count": 58,
   "metadata": {},
   "outputs": [],
   "source": [
    "model = Sequential(\n",
    "    [\n",
    "        Conv2D(\n",
    "            filters=32,\n",
    "            kernel_size=(3, 3),\n",
    "            activation=\"relu\",\n",
    "            padding=\"same\",\n",
    "            input_shape=(224, 224, 3),\n",
    "        ),\n",
    "        MaxPooling2D(pool_size=(2, 2), strides=2),\n",
    "        Conv2D(filters=64, kernel_size=(3, 3), activation=\"relu\", padding=\"same\"),\n",
    "        MaxPooling2D(pool_size=(2, 2), strides=2),\n",
    "        Flatten(),\n",
    "        Dense(units=2, activation=\"softmax\"),\n",
    "    ]\n",
    ")"
   ]
  },
  {
   "cell_type": "code",
   "execution_count": 59,
   "metadata": {},
   "outputs": [
    {
     "name": "stdout",
     "output_type": "stream",
     "text": [
      "Model: \"sequential_2\"\n",
      "_________________________________________________________________\n",
      " Layer (type)                Output Shape              Param #   \n",
      "=================================================================\n",
      " conv2d (Conv2D)             (None, 224, 224, 32)      896       \n",
      "                                                                 \n",
      " max_pooling2d (MaxPooling2D  (None, 112, 112, 32)     0         \n",
      " )                                                               \n",
      "                                                                 \n",
      " conv2d_1 (Conv2D)           (None, 112, 112, 64)      18496     \n",
      "                                                                 \n",
      " max_pooling2d_1 (MaxPooling  (None, 56, 56, 64)       0         \n",
      " 2D)                                                             \n",
      "                                                                 \n",
      " flatten (Flatten)           (None, 200704)            0         \n",
      "                                                                 \n",
      " dense_3 (Dense)             (None, 2)                 401410    \n",
      "                                                                 \n",
      "=================================================================\n",
      "Total params: 420,802\n",
      "Trainable params: 420,802\n",
      "Non-trainable params: 0\n",
      "_________________________________________________________________\n"
     ]
    }
   ],
   "source": [
    "model.summary()"
   ]
  },
  {
   "cell_type": "code",
   "execution_count": 60,
   "metadata": {},
   "outputs": [],
   "source": [
    "model.compile(optimizer=Adam(learning_rate=0.0001), loss=\"categorical_crossentropy\", metrics=[\"accuracy\"])"
   ]
  },
  {
   "cell_type": "code",
   "execution_count": 61,
   "metadata": {},
   "outputs": [],
   "source": [
    "# TAG: MODELFIT\n",
    "from tensorflow.keras.models import load_model\n",
    "\n",
    "if model2.already_exist_model():\n",
    "    model = load_model(model2.get_load_model())\n",
    "else:\n",
    "    if model2.is_trainable():\n",
    "        model.fit(x=train_batches, validation_data=valid_batches, epochs=10, verbose=2)\n",
    "    if model2.is_overwriteable():\n",
    "        model.save(os.path.join(model2.get_load_location(), model2.get_model_name()))"
   ]
  },
  {
   "cell_type": "markdown",
   "metadata": {},
   "source": [
    "### val_accuracy < training_accuracy => Overfitting !"
   ]
  },
  {
   "cell_type": "markdown",
   "metadata": {},
   "source": [
    "## Predict"
   ]
  },
  {
   "cell_type": "code",
   "execution_count": 62,
   "metadata": {},
   "outputs": [],
   "source": [
    "test_imgs, test_labels = next(test_batches)"
   ]
  },
  {
   "cell_type": "code",
   "execution_count": 63,
   "metadata": {},
   "outputs": [
    {
     "data": {
      "text/plain": [
       "array([0, 0, 0, 0, 0, 0, 0, 0, 0, 0, 0, 0, 0, 0, 0, 0, 0, 0, 0, 0, 0, 0,\n",
       "       0, 0, 0, 0, 0, 0, 0, 0, 0, 0, 0, 0, 0, 0, 0, 0, 0, 0, 0, 0, 0, 0,\n",
       "       0, 0, 0, 0, 0, 0, 1, 1, 1, 1, 1, 1, 1, 1, 1, 1, 1, 1, 1, 1, 1, 1,\n",
       "       1, 1, 1, 1, 1, 1, 1, 1, 1, 1, 1, 1, 1, 1, 1, 1, 1, 1, 1, 1, 1, 1,\n",
       "       1, 1, 1, 1, 1, 1, 1, 1, 1, 1, 1, 1])"
      ]
     },
     "execution_count": 63,
     "metadata": {},
     "output_type": "execute_result"
    }
   ],
   "source": [
    "test_batches.classes"
   ]
  },
  {
   "cell_type": "code",
   "execution_count": 64,
   "metadata": {},
   "outputs": [],
   "source": [
    "predictions = model.predict(x=test_batches, verbose=0)"
   ]
  },
  {
   "cell_type": "code",
   "execution_count": 65,
   "metadata": {},
   "outputs": [
    {
     "data": {
      "text/plain": [
       "array([[1., 0.],\n",
       "       [1., 0.],\n",
       "       [0., 1.],\n",
       "       [1., 0.],\n",
       "       [1., 0.],\n",
       "       [1., 0.],\n",
       "       [0., 1.],\n",
       "       [1., 0.],\n",
       "       [0., 1.],\n",
       "       [1., 0.],\n",
       "       [0., 1.],\n",
       "       [1., 0.],\n",
       "       [1., 0.],\n",
       "       [0., 1.],\n",
       "       [1., 0.],\n",
       "       [0., 1.],\n",
       "       [1., 0.],\n",
       "       [1., 0.],\n",
       "       [1., 0.],\n",
       "       [1., 0.],\n",
       "       [1., 0.],\n",
       "       [1., 0.],\n",
       "       [1., 0.],\n",
       "       [1., 0.],\n",
       "       [1., 0.],\n",
       "       [1., 0.],\n",
       "       [0., 1.],\n",
       "       [1., 0.],\n",
       "       [1., 0.],\n",
       "       [1., 0.],\n",
       "       [1., 0.],\n",
       "       [0., 1.],\n",
       "       [0., 1.],\n",
       "       [0., 1.],\n",
       "       [1., 0.],\n",
       "       [1., 0.],\n",
       "       [1., 0.],\n",
       "       [1., 0.],\n",
       "       [1., 0.],\n",
       "       [1., 0.],\n",
       "       [1., 0.],\n",
       "       [1., 0.],\n",
       "       [1., 0.],\n",
       "       [1., 0.],\n",
       "       [0., 1.],\n",
       "       [1., 0.],\n",
       "       [1., 0.],\n",
       "       [1., 0.],\n",
       "       [0., 1.],\n",
       "       [0., 1.],\n",
       "       [0., 1.],\n",
       "       [1., 0.],\n",
       "       [1., 0.],\n",
       "       [1., 0.],\n",
       "       [0., 1.],\n",
       "       [0., 1.],\n",
       "       [1., 0.],\n",
       "       [0., 1.],\n",
       "       [0., 1.],\n",
       "       [0., 1.],\n",
       "       [0., 1.],\n",
       "       [0., 1.],\n",
       "       [1., 0.],\n",
       "       [1., 0.],\n",
       "       [0., 1.],\n",
       "       [0., 1.],\n",
       "       [0., 1.],\n",
       "       [0., 1.],\n",
       "       [0., 1.],\n",
       "       [1., 0.],\n",
       "       [1., 0.],\n",
       "       [0., 1.],\n",
       "       [1., 0.],\n",
       "       [0., 1.],\n",
       "       [1., 0.],\n",
       "       [0., 1.],\n",
       "       [1., 0.],\n",
       "       [0., 1.],\n",
       "       [0., 1.],\n",
       "       [0., 1.],\n",
       "       [0., 1.],\n",
       "       [1., 0.],\n",
       "       [0., 1.],\n",
       "       [1., 0.],\n",
       "       [1., 0.],\n",
       "       [0., 1.],\n",
       "       [1., 0.],\n",
       "       [0., 1.],\n",
       "       [0., 1.],\n",
       "       [0., 1.],\n",
       "       [0., 1.],\n",
       "       [1., 0.],\n",
       "       [0., 1.],\n",
       "       [0., 1.],\n",
       "       [1., 0.],\n",
       "       [0., 1.],\n",
       "       [1., 0.],\n",
       "       [1., 0.],\n",
       "       [0., 1.],\n",
       "       [0., 1.]], dtype=float32)"
      ]
     },
     "execution_count": 65,
     "metadata": {},
     "output_type": "execute_result"
    }
   ],
   "source": [
    "np.round(predictions)"
   ]
  },
  {
   "cell_type": "code",
   "execution_count": 66,
   "metadata": {},
   "outputs": [],
   "source": [
    "cm = confusion_matrix(y_true=test_batches.classes, y_pred=np.argmax(predictions, axis=-1))"
   ]
  },
  {
   "cell_type": "code",
   "execution_count": 67,
   "metadata": {},
   "outputs": [
    {
     "name": "stdout",
     "output_type": "stream",
     "text": [
      "Confusion matrix, without normalization\n",
      "[[37 13]\n",
      " [19 31]]\n"
     ]
    },
    {
     "data": {
      "image/png": "[encoded data removed]",
      "text/plain": [
       "<Figure size 640x480 with 2 Axes>"
      ]
     },
     "metadata": {},
     "output_type": "display_data"
    }
   ],
   "source": [
    "cm_plot_labels = [\"cat\", \"dog\"]\n",
    "plot_confusion_matrix(cm=cm, classes=cm_plot_labels, title=\"Confusion Matrix\")"
   ]
  },
  {
   "cell_type": "markdown",
   "metadata": {},
   "source": [
    "## Build Fine-tuned VGG16 model"
   ]
  },
  {
   "cell_type": "code",
   "execution_count": 68,
   "metadata": {},
   "outputs": [],
   "source": [
    "# Download modle - Internet conenction require\n",
    "vgg16_model = tf.keras.applications.vgg16.VGG16()"
   ]
  },
  {
   "cell_type": "code",
   "execution_count": 69,
   "metadata": {},
   "outputs": [
    {
     "name": "stdout",
     "output_type": "stream",
     "text": [
      "Model: \"vgg16\"\n",
      "_________________________________________________________________\n",
      " Layer (type)                Output Shape              Param #   \n",
      "=================================================================\n",
      " input_1 (InputLayer)        [(None, 224, 224, 3)]     0         \n",
      "                                                                 \n",
      " block1_conv1 (Conv2D)       (None, 224, 224, 64)      1792      \n",
      "                                                                 \n",
      " block1_conv2 (Conv2D)       (None, 224, 224, 64)      36928     \n",
      "                                                                 \n",
      " block1_pool (MaxPooling2D)  (None, 112, 112, 64)      0         \n",
      "                                                                 \n",
      " block2_conv1 (Conv2D)       (None, 112, 112, 128)     73856     \n",
      "                                                                 \n",
      " block2_conv2 (Conv2D)       (None, 112, 112, 128)     147584    \n",
      "                                                                 \n",
      " block2_pool (MaxPooling2D)  (None, 56, 56, 128)       0         \n",
      "                                                                 \n",
      " block3_conv1 (Conv2D)       (None, 56, 56, 256)       295168    \n",
      "                                                                 \n",
      " block3_conv2 (Conv2D)       (None, 56, 56, 256)       590080    \n",
      "                                                                 \n",
      " block3_conv3 (Conv2D)       (None, 56, 56, 256)       590080    \n",
      "                                                                 \n",
      " block3_pool (MaxPooling2D)  (None, 28, 28, 256)       0         \n",
      "                                                                 \n",
      " block4_conv1 (Conv2D)       (None, 28, 28, 512)       1180160   \n",
      "                                                                 \n",
      " block4_conv2 (Conv2D)       (None, 28, 28, 512)       2359808   \n",
      "                                                                 \n",
      " block4_conv3 (Conv2D)       (None, 28, 28, 512)       2359808   \n",
      "                                                                 \n",
      " block4_pool (MaxPooling2D)  (None, 14, 14, 512)       0         \n",
      "                                                                 \n",
      " block5_conv1 (Conv2D)       (None, 14, 14, 512)       2359808   \n",
      "                                                                 \n",
      " block5_conv2 (Conv2D)       (None, 14, 14, 512)       2359808   \n",
      "                                                                 \n",
      " block5_conv3 (Conv2D)       (None, 14, 14, 512)       2359808   \n",
      "                                                                 \n",
      " block5_pool (MaxPooling2D)  (None, 7, 7, 512)         0         \n",
      "                                                                 \n",
      " flatten (Flatten)           (None, 25088)             0         \n",
      "                                                                 \n",
      " fc1 (Dense)                 (None, 4096)              102764544 \n",
      "                                                                 \n",
      " fc2 (Dense)                 (None, 4096)              16781312  \n",
      "                                                                 \n",
      " predictions (Dense)         (None, 1000)              4097000   \n",
      "                                                                 \n",
      "=================================================================\n",
      "Total params: 138,357,544\n",
      "Trainable params: 138,357,544\n",
      "Non-trainable params: 0\n",
      "_________________________________________________________________\n"
     ]
    }
   ],
   "source": [
    "vgg16_model.summary()"
   ]
  },
  {
   "cell_type": "code",
   "execution_count": 70,
   "metadata": {},
   "outputs": [],
   "source": [
    "def count_params(model):\n",
    "    non_trainable_params = np.sum(\n",
    "        [np.prod(v.get_shape().as_list()) for v in model.non_trainable_weights]\n",
    "    )\n",
    "    trainable_params = np.sum(\n",
    "        [np.prod(v.get_shape().as_list()) for v in model.trainable_weights]\n",
    "    )\n",
    "    return {\n",
    "        \"non_trainable_params\": non_trainable_params,\n",
    "        \"trainable_params\": trainable_params,\n",
    "    }"
   ]
  },
  {
   "cell_type": "code",
   "execution_count": 71,
   "metadata": {},
   "outputs": [],
   "source": [
    "params = count_params(vgg16_model)\n",
    "assert params[\"non_trainable_params\"] == 0, \"We have some non-trainable params!\"\n",
    "assert params[\"trainable_params\"] == 138357544, \"It is not VGG16 model!\""
   ]
  },
  {
   "cell_type": "code",
   "execution_count": 72,
   "metadata": {},
   "outputs": [],
   "source": [
    "model = Sequential()\n",
    "for layer in vgg16_model.layers[:-1]:\n",
    "    model.add(layer)"
   ]
  },
  {
   "cell_type": "code",
   "execution_count": 73,
   "metadata": {},
   "outputs": [
    {
     "name": "stdout",
     "output_type": "stream",
     "text": [
      "Model: \"sequential_3\"\n",
      "_________________________________________________________________\n",
      " Layer (type)                Output Shape              Param #   \n",
      "=================================================================\n",
      " block1_conv1 (Conv2D)       (None, 224, 224, 64)      1792      \n",
      "                                                                 \n",
      " block1_conv2 (Conv2D)       (None, 224, 224, 64)      36928     \n",
      "                                                                 \n",
      " block1_pool (MaxPooling2D)  (None, 112, 112, 64)      0         \n",
      "                                                                 \n",
      " block2_conv1 (Conv2D)       (None, 112, 112, 128)     73856     \n",
      "                                                                 \n",
      " block2_conv2 (Conv2D)       (None, 112, 112, 128)     147584    \n",
      "                                                                 \n",
      " block2_pool (MaxPooling2D)  (None, 56, 56, 128)       0         \n",
      "                                                                 \n",
      " block3_conv1 (Conv2D)       (None, 56, 56, 256)       295168    \n",
      "                                                                 \n",
      " block3_conv2 (Conv2D)       (None, 56, 56, 256)       590080    \n",
      "                                                                 \n",
      " block3_conv3 (Conv2D)       (None, 56, 56, 256)       590080    \n",
      "                                                                 \n",
      " block3_pool (MaxPooling2D)  (None, 28, 28, 256)       0         \n",
      "                                                                 \n",
      " block4_conv1 (Conv2D)       (None, 28, 28, 512)       1180160   \n",
      "                                                                 \n",
      " block4_conv2 (Conv2D)       (None, 28, 28, 512)       2359808   \n",
      "                                                                 \n",
      " block4_conv3 (Conv2D)       (None, 28, 28, 512)       2359808   \n",
      "                                                                 \n",
      " block4_pool (MaxPooling2D)  (None, 14, 14, 512)       0         \n",
      "                                                                 \n",
      " block5_conv1 (Conv2D)       (None, 14, 14, 512)       2359808   \n",
      "                                                                 \n",
      " block5_conv2 (Conv2D)       (None, 14, 14, 512)       2359808   \n",
      "                                                                 \n",
      " block5_conv3 (Conv2D)       (None, 14, 14, 512)       2359808   \n",
      "                                                                 \n",
      " block5_pool (MaxPooling2D)  (None, 7, 7, 512)         0         \n",
      "                                                                 \n",
      " flatten (Flatten)           (None, 25088)             0         \n",
      "                                                                 \n",
      " fc1 (Dense)                 (None, 4096)              102764544 \n",
      "                                                                 \n",
      " fc2 (Dense)                 (None, 4096)              16781312  \n",
      "                                                                 \n",
      "=================================================================\n",
      "Total params: 134,260,544\n",
      "Trainable params: 134,260,544\n",
      "Non-trainable params: 0\n",
      "_________________________________________________________________\n"
     ]
    }
   ],
   "source": [
    "model.summary()"
   ]
  },
  {
   "cell_type": "code",
   "execution_count": 74,
   "metadata": {},
   "outputs": [],
   "source": [
    "params = count_params(model)\n",
    "assert params[\"non_trainable_params\"] == 0, \"We have some non-trainable params!\"\n",
    "assert params[\"trainable_params\"] == 134260544, \"This need to add hidden layers (not include output layer)!\""
   ]
  },
  {
   "cell_type": "code",
   "execution_count": 75,
   "metadata": {},
   "outputs": [],
   "source": [
    "for layer in model.layers:\n",
    "    layer.trainable = False"
   ]
  },
  {
   "cell_type": "code",
   "execution_count": 76,
   "metadata": {},
   "outputs": [],
   "source": [
    "model.add(Dense(units=2, activation=\"softmax\"))"
   ]
  },
  {
   "cell_type": "code",
   "execution_count": 77,
   "metadata": {},
   "outputs": [
    {
     "name": "stdout",
     "output_type": "stream",
     "text": [
      "Model: \"sequential_3\"\n",
      "_________________________________________________________________\n",
      " Layer (type)                Output Shape              Param #   \n",
      "=================================================================\n",
      " block1_conv1 (Conv2D)       (None, 224, 224, 64)      1792      \n",
      "                                                                 \n",
      " block1_conv2 (Conv2D)       (None, 224, 224, 64)      36928     \n",
      "                                                                 \n",
      " block1_pool (MaxPooling2D)  (None, 112, 112, 64)      0         \n",
      "                                                                 \n",
      " block2_conv1 (Conv2D)       (None, 112, 112, 128)     73856     \n",
      "                                                                 \n",
      " block2_conv2 (Conv2D)       (None, 112, 112, 128)     147584    \n",
      "                                                                 \n",
      " block2_pool (MaxPooling2D)  (None, 56, 56, 128)       0         \n",
      "                                                                 \n",
      " block3_conv1 (Conv2D)       (None, 56, 56, 256)       295168    \n",
      "                                                                 \n",
      " block3_conv2 (Conv2D)       (None, 56, 56, 256)       590080    \n",
      "                                                                 \n",
      " block3_conv3 (Conv2D)       (None, 56, 56, 256)       590080    \n",
      "                                                                 \n",
      " block3_pool (MaxPooling2D)  (None, 28, 28, 256)       0         \n",
      "                                                                 \n",
      " block4_conv1 (Conv2D)       (None, 28, 28, 512)       1180160   \n",
      "                                                                 \n",
      " block4_conv2 (Conv2D)       (None, 28, 28, 512)       2359808   \n",
      "                                                                 \n",
      " block4_conv3 (Conv2D)       (None, 28, 28, 512)       2359808   \n",
      "                                                                 \n",
      " block4_pool (MaxPooling2D)  (None, 14, 14, 512)       0         \n",
      "                                                                 \n",
      " block5_conv1 (Conv2D)       (None, 14, 14, 512)       2359808   \n",
      "                                                                 \n",
      " block5_conv2 (Conv2D)       (None, 14, 14, 512)       2359808   \n",
      "                                                                 \n",
      " block5_conv3 (Conv2D)       (None, 14, 14, 512)       2359808   \n",
      "                                                                 \n",
      " block5_pool (MaxPooling2D)  (None, 7, 7, 512)         0         \n",
      "                                                                 \n",
      " flatten (Flatten)           (None, 25088)             0         \n",
      "                                                                 \n",
      " fc1 (Dense)                 (None, 4096)              102764544 \n",
      "                                                                 \n",
      " fc2 (Dense)                 (None, 4096)              16781312  \n",
      "                                                                 \n",
      " dense_4 (Dense)             (None, 2)                 8194      \n",
      "                                                                 \n",
      "=================================================================\n",
      "Total params: 134,268,738\n",
      "Trainable params: 8,194\n",
      "Non-trainable params: 134,260,544\n",
      "_________________________________________________________________\n"
     ]
    }
   ],
   "source": [
    "model.summary()"
   ]
  },
  {
   "cell_type": "code",
   "execution_count": 78,
   "metadata": {},
   "outputs": [],
   "source": [
    "params = count_params(model)\n",
    "assert params[\"non_trainable_params\"] == 134260544\n",
    "assert params[\"trainable_params\"] == 8194"
   ]
  },
  {
   "cell_type": "markdown",
   "metadata": {},
   "source": [
    "## Train the fine-tuned VGG16 model"
   ]
  },
  {
   "cell_type": "code",
   "execution_count": 79,
   "metadata": {},
   "outputs": [],
   "source": [
    "model.compile(optimizer=Adam(learning_rate=0.0001), loss=\"categorical_crossentropy\", metrics=[\"Accuracy\"])"
   ]
  },
  {
   "cell_type": "code",
   "execution_count": 80,
   "metadata": {},
   "outputs": [],
   "source": [
    "# TAG: MODELFIT\n",
    "from tensorflow.keras.models import load_model\n",
    "\n",
    "if model3.already_exist_model():\n",
    "    model = load_model(model3.get_load_model())\n",
    "else:\n",
    "    if model3.is_trainable():\n",
    "        model.fit(x=train_batches, validation_data=valid_batches, epochs=5, verbose=2)\n",
    "    if model3.is_overwriteable():\n",
    "        model.save(os.path.join(model3.get_load_location(), model3.get_model_name()))"
   ]
  },
  {
   "cell_type": "markdown",
   "metadata": {},
   "source": [
    "## Predict using fine-tuned VGG16 model"
   ]
  },
  {
   "cell_type": "code",
   "execution_count": 81,
   "metadata": {},
   "outputs": [],
   "source": [
    "predictions = model.predict(x=test_batches, verbose=0)"
   ]
  },
  {
   "cell_type": "code",
   "execution_count": 82,
   "metadata": {},
   "outputs": [
    {
     "data": {
      "text/plain": [
       "array([0, 0, 0, 0, 0, 0, 0, 0, 0, 0, 0, 0, 0, 0, 0, 0, 0, 0, 0, 0, 0, 0,\n",
       "       0, 0, 0, 0, 0, 0, 0, 0, 0, 0, 0, 0, 0, 0, 0, 0, 0, 0, 0, 0, 0, 0,\n",
       "       0, 0, 0, 0, 0, 0, 1, 1, 1, 1, 1, 1, 1, 1, 1, 1, 1, 1, 1, 1, 1, 1,\n",
       "       1, 1, 1, 1, 1, 1, 1, 1, 1, 1, 1, 1, 1, 1, 1, 1, 1, 1, 1, 1, 1, 1,\n",
       "       1, 1, 1, 1, 1, 1, 1, 1, 1, 1, 1, 1])"
      ]
     },
     "execution_count": 82,
     "metadata": {},
     "output_type": "execute_result"
    }
   ],
   "source": [
    "test_batches.classes"
   ]
  },
  {
   "cell_type": "code",
   "execution_count": 83,
   "metadata": {},
   "outputs": [],
   "source": [
    "cm = confusion_matrix(y_true=test_batches.classes, y_pred=np.argmax(predictions, axis=-1))"
   ]
  },
  {
   "cell_type": "code",
   "execution_count": 84,
   "metadata": {},
   "outputs": [
    {
     "data": {
      "text/plain": [
       "{'cat': 0, 'dog': 1}"
      ]
     },
     "execution_count": 84,
     "metadata": {},
     "output_type": "execute_result"
    }
   ],
   "source": [
    "test_batches.class_indices"
   ]
  },
  {
   "cell_type": "code",
   "execution_count": 85,
   "metadata": {},
   "outputs": [
    {
     "name": "stdout",
     "output_type": "stream",
     "text": [
      "Confusion matrix, without normalization\n",
      "[[48  2]\n",
      " [ 1 49]]\n"
     ]
    },
    {
     "data": {
      "image/png": "[encoded data removed]",
      "text/plain": [
       "<Figure size 640x480 with 2 Axes>"
      ]
     },
     "metadata": {},
     "output_type": "display_data"
    }
   ],
   "source": [
    "cm_plot_labels = [\"cat\", \"dog\"]\n",
    "plot_confusion_matrix(cm=cm, classes=cm_plot_labels, title=\"Confusion Matrix\")"
   ]
  },
  {
   "cell_type": "code",
   "execution_count": 86,
   "metadata": {},
   "outputs": [
    {
     "name": "stdout",
     "output_type": "stream",
     "text": [
      "Accuracy:  0.97\n"
     ]
    }
   ],
   "source": [
    "print(\"Accuracy: \", str((cm[0][0] + cm[1][1]) / cm.sum()))"
   ]
  },
  {
   "cell_type": "markdown",
   "metadata": {},
   "source": [
    "## MobileNet"
   ]
  },
  {
   "cell_type": "code",
   "execution_count": 90,
   "metadata": {},
   "outputs": [],
   "source": [
    "import numpy as np\n",
    "import tensorflow as tf\n",
    "from tensorflow import keras\n",
    "from keras.layers import Dense, Activation\n",
    "from keras.optimizers import Adam\n",
    "from keras.metrics import categorical_crossentropy\n",
    "from keras.preprocessing.image import ImageDataGenerator\n",
    "from keras.preprocessing import image\n",
    "from keras.models import Model\n",
    "from keras.applications import imagenet_utils\n",
    "from sklearn.metrics import confusion_matrix\n",
    "import itertools\n",
    "import os\n",
    "import shutil\n",
    "import random\n",
    "import matplotlib.pyplot as plt\n",
    "%matplotlib inline\n",
    "\n",
    "os.chdir(\"D:\\DATA SCIENCE\\GIT\\DS\\Keras_Tutorial\")"
   ]
  },
  {
   "cell_type": "code",
   "execution_count": 88,
   "metadata": {},
   "outputs": [
    {
     "name": "stdout",
     "output_type": "stream",
     "text": [
      "Downloading data from https://storage.googleapis.com/tensorflow/keras-applications/mobilenet/mobilenet_1_0_224_tf.h5\n",
      "17225924/17225924 [==============================] - 15s 1us/step\n"
     ]
    }
   ],
   "source": [
    "mobile = tf.keras.applications.mobilenet.MobileNet()"
   ]
  },
  {
   "cell_type": "code",
   "execution_count": 97,
   "metadata": {},
   "outputs": [],
   "source": [
    "IMAGE_FILE_NAME = \"sample_image\"\n",
    "IMAGE_FILE_EXTENSION = \"jpeg\"\n",
    "IMAGE_FILE = IMAGE_FILE_NAME + \".\" + IMAGE_FILE_EXTENSION\n",
    "\n",
    "def prepare_image(file):\n",
    "    img_path = os.path.join(os.getcwd(), IMAGE_FILE)\n",
    "    img = image.image_utils.load_img(img_path, target_size=(224,224))\n",
    "    img_array = image.image_utils.img_to_array(img)\n",
    "    img_array_expanded_dims = np.expand_dims(img_array, axis=0)\n",
    "    return keras.applications.mobilenet.preprocess_input(img_array_expanded_dims)"
   ]
  }
 ],
 "metadata": {
  "kernelspec": {
   "display_name": "Python 3",
   "language": "python",
   "name": "python3"
  },
  "language_info": {
   "codemirror_mode": {
    "name": "ipython",
    "version": 3
   },
   "file_extension": ".py",
   "mimetype": "text/x-python",
   "name": "python",
   "nbconvert_exporter": "python",
   "pygments_lexer": "ipython3",
   "version": "3.10.11"
  }
 },
 "nbformat": 4,
 "nbformat_minor": 2
}
