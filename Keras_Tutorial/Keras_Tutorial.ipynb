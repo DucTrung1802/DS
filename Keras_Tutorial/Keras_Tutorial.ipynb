{
 "cells": [
  {
   "cell_type": "markdown",
   "metadata": {},
   "source": [
    "# Keras Tutorials"
   ]
  },
  {
   "cell_type": "markdown",
   "metadata": {},
   "source": [
    "### Run with GPU (if GPU faster CPU)"
   ]
  },
  {
   "cell_type": "code",
   "execution_count": 80,
   "metadata": {},
   "outputs": [],
   "source": [
    "# # Check for GPU availability\n",
    "# import tensorflow as tf\n",
    "# print(len(tf.config.experimental.list_physical_devices('GPU')) > 0)"
   ]
  },
  {
   "cell_type": "code",
   "execution_count": 81,
   "metadata": {},
   "outputs": [],
   "source": [
    "# tf.config.set_visible_devices([], 'GPU')\n",
    "# # physical_devices = tf.config.experimental.list_physical_devices('GPU')\n",
    "# # tf.config.experimental.set_memory_growth(physical_devices[0], True)"
   ]
  },
  {
   "cell_type": "markdown",
   "metadata": {},
   "source": [
    "## Generate data"
   ]
  },
  {
   "cell_type": "code",
   "execution_count": 82,
   "metadata": {},
   "outputs": [],
   "source": [
    "import numpy as np\n",
    "import random\n",
    "from random import randint\n",
    "from sklearn.utils import shuffle\n",
    "from  sklearn.preprocessing import MinMaxScaler"
   ]
  },
  {
   "cell_type": "code",
   "execution_count": 83,
   "metadata": {},
   "outputs": [],
   "source": [
    "train_labels = []\n",
    "train_samples = []"
   ]
  },
  {
   "cell_type": "markdown",
   "metadata": {},
   "source": [
    "### Example data:\n",
    "- An experimental drug was tested on individuals from ages 13 to 100 in a clinical trial.\n",
    "- The trial had 2100 participants. Half were under 65 years old, half were 65 years or older.\n",
    "- Around 95% of patients 65 or older experienced side effects.\n",
    "- Around 95% of patients under 65 experienced no side effects."
   ]
  },
  {
   "cell_type": "code",
   "execution_count": 84,
   "metadata": {},
   "outputs": [],
   "source": [
    "random.seed(0)\n",
    "\n",
    "for i in range(50):\n",
    "    # The ~5% of younger individuals who did experience side effects\n",
    "    random_younger = randint(13, 64)\n",
    "    train_samples.append(random_younger)\n",
    "    train_labels.append(1)\n",
    "\n",
    "    # The ~5% of older individuals who did not experience side effects\n",
    "    random_older = randint(65, 100)\n",
    "    train_samples.append(random_older)\n",
    "    train_labels.append(0)\n",
    "\n",
    "for i in range(1000):\n",
    "    # The ~95% of younger individuals who did not experience side effects\n",
    "    random_younger = randint(13, 64)\n",
    "    train_samples.append(random_younger)\n",
    "    train_labels.append(0)\n",
    "\n",
    "    # The ~95% of older individuals who experience side effects\n",
    "    random_older = randint(65, 100)\n",
    "    train_samples.append(random_older)\n",
    "    train_labels.append(1)"
   ]
  },
  {
   "cell_type": "code",
   "execution_count": 85,
   "metadata": {},
   "outputs": [],
   "source": [
    "train_samples = np.array(train_samples)\n",
    "train_labels = np.array(train_labels)"
   ]
  },
  {
   "cell_type": "code",
   "execution_count": 86,
   "metadata": {},
   "outputs": [
    {
     "data": {
      "text/plain": [
       "array([37, 91, 15, ..., 91, 17, 99])"
      ]
     },
     "execution_count": 86,
     "metadata": {},
     "output_type": "execute_result"
    }
   ],
   "source": [
    "train_samples"
   ]
  },
  {
   "cell_type": "code",
   "execution_count": 87,
   "metadata": {},
   "outputs": [
    {
     "data": {
      "text/plain": [
       "array([1, 0, 1, ..., 1, 0, 1])"
      ]
     },
     "execution_count": 87,
     "metadata": {},
     "output_type": "execute_result"
    }
   ],
   "source": [
    "train_labels"
   ]
  },
  {
   "cell_type": "code",
   "execution_count": 88,
   "metadata": {},
   "outputs": [],
   "source": [
    "train_samples, train_labels = shuffle(train_samples, train_labels)"
   ]
  },
  {
   "cell_type": "code",
   "execution_count": 89,
   "metadata": {},
   "outputs": [],
   "source": [
    "scaler = MinMaxScaler(feature_range=(0, 1))\n",
    "scaled_train_samples = scaler.fit_transform(train_samples.reshape(-1, 1))"
   ]
  },
  {
   "cell_type": "code",
   "execution_count": 90,
   "metadata": {},
   "outputs": [
    {
     "data": {
      "text/plain": [
       "array([[0.56321839],\n",
       "       [0.59770115],\n",
       "       [0.24137931],\n",
       "       ...,\n",
       "       [0.64367816],\n",
       "       [0.88505747],\n",
       "       [0.71264368]])"
      ]
     },
     "execution_count": 90,
     "metadata": {},
     "output_type": "execute_result"
    }
   ],
   "source": [
    "scaled_train_samples"
   ]
  },
  {
   "cell_type": "markdown",
   "metadata": {},
   "source": [
    "## Simple tf.keras Sequential Model"
   ]
  },
  {
   "cell_type": "code",
   "execution_count": 91,
   "metadata": {},
   "outputs": [],
   "source": [
    "# For building models\n",
    "import tensorflow as tf\n",
    "from tensorflow import keras\n",
    "from keras.models import Sequential\n",
    "from keras.layers import Activation, Dense\n",
    "\n",
    "# For training models\n",
    "from keras.optimizers import Adam\n",
    "from keras.metrics import categorical_crossentropy"
   ]
  },
  {
   "cell_type": "markdown",
   "metadata": {},
   "source": [
    "## Build the Model"
   ]
  },
  {
   "cell_type": "code",
   "execution_count": 92,
   "metadata": {},
   "outputs": [],
   "source": [
    "model = Sequential([\n",
    "    Dense(name=\"Layer_2\", units=16, input_shape=(1,), activation=\"relu\"), # The first hidden layer (the second layover overall)\n",
    "    Dense(name=\"Layer_3\", units=32, activation=\"relu\"),\n",
    "    Dense(name=\"Layer_4\", units=2, activation=\"softmax\")\n",
    "])"
   ]
  },
  {
   "cell_type": "code",
   "execution_count": 93,
   "metadata": {},
   "outputs": [
    {
     "name": "stdout",
     "output_type": "stream",
     "text": [
      "Model: \"sequential_4\"\n",
      "_________________________________________________________________\n",
      " Layer (type)                Output Shape              Param #   \n",
      "=================================================================\n",
      " Layer_2 (Dense)             (None, 16)                32        \n",
      "                                                                 \n",
      " Layer_3 (Dense)             (None, 32)                544       \n",
      "                                                                 \n",
      " Layer_4 (Dense)             (None, 2)                 66        \n",
      "                                                                 \n",
      "=================================================================\n",
      "Total params: 642\n",
      "Trainable params: 642\n",
      "Non-trainable params: 0\n",
      "_________________________________________________________________\n"
     ]
    }
   ],
   "source": [
    "model.summary()"
   ]
  },
  {
   "cell_type": "code",
   "execution_count": 94,
   "metadata": {},
   "outputs": [],
   "source": [
    "model.compile(optimizer=Adam(learning_rate=0.0001), loss=\"sparse_categorical_crossentropy\", metrics=[\"accuracy\"])"
   ]
  },
  {
   "cell_type": "code",
   "execution_count": 95,
   "metadata": {},
   "outputs": [
    {
     "name": "stdout",
     "output_type": "stream",
     "text": [
      "Epoch 1/30\n"
     ]
    },
    {
     "name": "stdout",
     "output_type": "stream",
     "text": [
      "189/189 - 1s - loss: 0.6845 - accuracy: 0.5444 - val_loss: 0.6770 - val_accuracy: 0.5905 - 519ms/epoch - 3ms/step\n",
      "Epoch 2/30\n",
      "189/189 - 0s - loss: 0.6624 - accuracy: 0.6460 - val_loss: 0.6572 - val_accuracy: 0.6524 - 213ms/epoch - 1ms/step\n",
      "Epoch 3/30\n",
      "189/189 - 0s - loss: 0.6404 - accuracy: 0.6989 - val_loss: 0.6373 - val_accuracy: 0.6905 - 206ms/epoch - 1ms/step\n",
      "Epoch 4/30\n",
      "189/189 - 0s - loss: 0.6144 - accuracy: 0.7397 - val_loss: 0.6131 - val_accuracy: 0.7333 - 220ms/epoch - 1ms/step\n",
      "Epoch 5/30\n",
      "189/189 - 0s - loss: 0.5878 - accuracy: 0.7693 - val_loss: 0.5903 - val_accuracy: 0.7429 - 214ms/epoch - 1ms/step\n",
      "Epoch 6/30\n",
      "189/189 - 0s - loss: 0.5610 - accuracy: 0.7884 - val_loss: 0.5667 - val_accuracy: 0.7524 - 222ms/epoch - 1ms/step\n",
      "Epoch 7/30\n",
      "189/189 - 0s - loss: 0.5335 - accuracy: 0.8095 - val_loss: 0.5427 - val_accuracy: 0.7762 - 228ms/epoch - 1ms/step\n",
      "Epoch 8/30\n",
      "189/189 - 0s - loss: 0.5061 - accuracy: 0.8254 - val_loss: 0.5193 - val_accuracy: 0.8048 - 222ms/epoch - 1ms/step\n",
      "Epoch 9/30\n",
      "189/189 - 0s - loss: 0.4793 - accuracy: 0.8439 - val_loss: 0.4971 - val_accuracy: 0.8476 - 230ms/epoch - 1ms/step\n",
      "Epoch 10/30\n",
      "189/189 - 0s - loss: 0.4538 - accuracy: 0.8566 - val_loss: 0.4763 - val_accuracy: 0.8476 - 230ms/epoch - 1ms/step\n",
      "Epoch 11/30\n",
      "189/189 - 0s - loss: 0.4302 - accuracy: 0.8608 - val_loss: 0.4573 - val_accuracy: 0.8762 - 214ms/epoch - 1ms/step\n",
      "Epoch 12/30\n",
      "189/189 - 0s - loss: 0.4086 - accuracy: 0.8751 - val_loss: 0.4405 - val_accuracy: 0.8857 - 198ms/epoch - 1ms/step\n",
      "Epoch 13/30\n",
      "189/189 - 0s - loss: 0.3890 - accuracy: 0.8847 - val_loss: 0.4257 - val_accuracy: 0.8952 - 212ms/epoch - 1ms/step\n",
      "Epoch 14/30\n",
      "189/189 - 0s - loss: 0.3713 - accuracy: 0.8926 - val_loss: 0.4130 - val_accuracy: 0.9000 - 201ms/epoch - 1ms/step\n",
      "Epoch 15/30\n",
      "189/189 - 0s - loss: 0.3558 - accuracy: 0.9037 - val_loss: 0.4017 - val_accuracy: 0.9048 - 196ms/epoch - 1ms/step\n",
      "Epoch 16/30\n",
      "189/189 - 0s - loss: 0.3422 - accuracy: 0.9042 - val_loss: 0.3924 - val_accuracy: 0.9048 - 216ms/epoch - 1ms/step\n",
      "Epoch 17/30\n",
      "189/189 - 0s - loss: 0.3304 - accuracy: 0.9111 - val_loss: 0.3844 - val_accuracy: 0.9048 - 210ms/epoch - 1ms/step\n",
      "Epoch 18/30\n",
      "189/189 - 0s - loss: 0.3200 - accuracy: 0.9095 - val_loss: 0.3779 - val_accuracy: 0.9095 - 211ms/epoch - 1ms/step\n",
      "Epoch 19/30\n",
      "189/189 - 0s - loss: 0.3107 - accuracy: 0.9148 - val_loss: 0.3718 - val_accuracy: 0.9095 - 211ms/epoch - 1ms/step\n",
      "Epoch 20/30\n",
      "189/189 - 0s - loss: 0.3023 - accuracy: 0.9148 - val_loss: 0.3672 - val_accuracy: 0.9095 - 208ms/epoch - 1ms/step\n",
      "Epoch 21/30\n",
      "189/189 - 0s - loss: 0.2954 - accuracy: 0.9233 - val_loss: 0.3634 - val_accuracy: 0.9095 - 222ms/epoch - 1ms/step\n",
      "Epoch 22/30\n",
      "189/189 - 0s - loss: 0.2895 - accuracy: 0.9206 - val_loss: 0.3607 - val_accuracy: 0.9095 - 177ms/epoch - 934us/step\n",
      "Epoch 23/30\n",
      "189/189 - 0s - loss: 0.2843 - accuracy: 0.9249 - val_loss: 0.3579 - val_accuracy: 0.9095 - 198ms/epoch - 1ms/step\n",
      "Epoch 24/30\n",
      "189/189 - 0s - loss: 0.2799 - accuracy: 0.9249 - val_loss: 0.3559 - val_accuracy: 0.9095 - 205ms/epoch - 1ms/step\n",
      "Epoch 25/30\n",
      "189/189 - 0s - loss: 0.2760 - accuracy: 0.9312 - val_loss: 0.3535 - val_accuracy: 0.9095 - 198ms/epoch - 1ms/step\n",
      "Epoch 26/30\n",
      "189/189 - 0s - loss: 0.2728 - accuracy: 0.9280 - val_loss: 0.3527 - val_accuracy: 0.9095 - 195ms/epoch - 1ms/step\n",
      "Epoch 27/30\n",
      "189/189 - 0s - loss: 0.2699 - accuracy: 0.9302 - val_loss: 0.3523 - val_accuracy: 0.9143 - 189ms/epoch - 1ms/step\n",
      "Epoch 28/30\n",
      "189/189 - 0s - loss: 0.2674 - accuracy: 0.9344 - val_loss: 0.3510 - val_accuracy: 0.9143 - 198ms/epoch - 1ms/step\n",
      "Epoch 29/30\n",
      "189/189 - 0s - loss: 0.2652 - accuracy: 0.9333 - val_loss: 0.3502 - val_accuracy: 0.9143 - 200ms/epoch - 1ms/step\n",
      "Epoch 30/30\n",
      "189/189 - 0s - loss: 0.2633 - accuracy: 0.9333 - val_loss: 0.3502 - val_accuracy: 0.9143 - 182ms/epoch - 961us/step\n"
     ]
    },
    {
     "data": {
      "text/plain": [
       "<keras.callbacks.History at 0x27eae389c90>"
      ]
     },
     "execution_count": 95,
     "metadata": {},
     "output_type": "execute_result"
    }
   ],
   "source": [
    "model.fit(x=scaled_train_samples, y=train_labels, validation_split=0.1, batch_size=10, epochs=30, shuffle=True, verbose=2)"
   ]
  },
  {
   "cell_type": "markdown",
   "metadata": {},
   "source": [
    "## Preprocess Test Data"
   ]
  },
  {
   "cell_type": "code",
   "execution_count": 96,
   "metadata": {},
   "outputs": [],
   "source": [
    "test_labels = []\n",
    "test_samples = []"
   ]
  },
  {
   "cell_type": "code",
   "execution_count": 97,
   "metadata": {},
   "outputs": [],
   "source": [
    "random.seed(101)\n",
    "\n",
    "for i in range(50):\n",
    "    # The ~5% of younger individuals who did experience side effects\n",
    "    random_younger = randint(13, 64)\n",
    "    test_samples.append(random_younger)\n",
    "    test_labels.append(1)\n",
    "\n",
    "    # The ~5% of older individuals who did not experience side effects\n",
    "    random_older = randint(65, 100)\n",
    "    test_samples.append(random_older)\n",
    "    test_labels.append(0)\n",
    "\n",
    "for i in range(1000):\n",
    "    # The ~95% of younger individuals who did not experience side effects\n",
    "    random_younger = randint(13, 64)\n",
    "    test_samples.append(random_younger)\n",
    "    test_labels.append(0)\n",
    "\n",
    "    # The ~95% of older individuals who experience side effects\n",
    "    random_older = randint(65, 100)\n",
    "    test_samples.append(random_older)\n",
    "    test_labels.append(1)"
   ]
  },
  {
   "cell_type": "code",
   "execution_count": 98,
   "metadata": {},
   "outputs": [],
   "source": [
    "test_labels = np.array(test_labels)\n",
    "test_samples = np.array(test_samples)\n",
    "test_samples, test_labels = shuffle(test_samples, test_labels)"
   ]
  },
  {
   "cell_type": "code",
   "execution_count": 99,
   "metadata": {},
   "outputs": [],
   "source": [
    "scaled_test_samples = scaler.fit_transform(test_samples.reshape(-1,1))"
   ]
  },
  {
   "cell_type": "markdown",
   "metadata": {},
   "source": [
    "## Predict"
   ]
  },
  {
   "cell_type": "code",
   "execution_count": 100,
   "metadata": {},
   "outputs": [],
   "source": [
    "predictions = model.predict(x=scaled_test_samples, batch_size=10, verbose=0)"
   ]
  },
  {
   "cell_type": "code",
   "execution_count": 101,
   "metadata": {},
   "outputs": [
    {
     "data": {
      "text/plain": [
       "array([[0.864759  , 0.13524096],\n",
       "       [0.961234  , 0.038766  ],\n",
       "       [0.39500007, 0.60499996],\n",
       "       ...,\n",
       "       [0.9618731 , 0.03812691],\n",
       "       [0.21977437, 0.7802257 ],\n",
       "       [0.57302547, 0.42697456]], dtype=float32)"
      ]
     },
     "execution_count": 101,
     "metadata": {},
     "output_type": "execute_result"
    }
   ],
   "source": [
    "predictions"
   ]
  },
  {
   "cell_type": "code",
   "execution_count": 102,
   "metadata": {},
   "outputs": [],
   "source": [
    "rounded_predictions = np.argmax(predictions, axis=1)"
   ]
  },
  {
   "cell_type": "markdown",
   "metadata": {},
   "source": [
    "## Confusion matrix"
   ]
  },
  {
   "cell_type": "code",
   "execution_count": 103,
   "metadata": {},
   "outputs": [],
   "source": [
    "%matplotlib inline\n",
    "from sklearn.metrics import confusion_matrix\n",
    "import itertools\n",
    "import matplotlib.pyplot as plt"
   ]
  },
  {
   "cell_type": "code",
   "execution_count": 104,
   "metadata": {},
   "outputs": [],
   "source": [
    "cm = confusion_matrix(y_true=test_labels, y_pred=rounded_predictions)"
   ]
  },
  {
   "cell_type": "code",
   "execution_count": 109,
   "metadata": {},
   "outputs": [],
   "source": [
    "def plot_confusion_matrix(\n",
    "    cm, classes, percentiles=False, \n",
    "        normalize=False, title=\"Confusion matrix\", cmap=plt.cm.Blues\n",
    "):\n",
    "    \"\"\"\n",
    "    This function prints and plots the confusion matrix.\n",
    "    Nomralization can be applied by setting \"normalize=True\"\n",
    "    \"\"\"\n",
    "\n",
    "    plt.imshow(cm, interpolation=\"nearest\", cmap=cmap)\n",
    "    plt.title(title)\n",
    "    plt.colorbar()\n",
    "    tick_marks = np.arange(len(classes))\n",
    "    plt.xticks(tick_marks, classes, rotation=45)\n",
    "    plt.yticks(tick_marks, classes)\n",
    "\n",
    "    if normalize:\n",
    "        cm = cm.astype(\"float\") / cm.sum(axis=1)[:, np.newaxis]\n",
    "        print(\"Normalized confusion matrix\")\n",
    "    else:\n",
    "        print(\"Confusion matrix, without normalization\")\n",
    "\n",
    "    print(cm)\n",
    "\n",
    "    threshold = cm.max() / 2\n",
    "    for i, j in itertools.product(range(cm.shape[0]), range(cm.shape[1])):\n",
    "        plt.text(\n",
    "            j,\n",
    "            i,\n",
    "            cm[i, j],\n",
    "            horizontalalignment=\"center\",\n",
    "            color=\"white\" if cm[i, j] > threshold else \"black\",\n",
    "        )\n",
    "        plt.tight_layout()\n",
    "        plt.ylabel(\"True Labels\")\n",
    "        plt.xlabel(\"Predicted Labels\")"
   ]
  },
  {
   "cell_type": "code",
   "execution_count": 110,
   "metadata": {},
   "outputs": [
    {
     "name": "stdout",
     "output_type": "stream",
     "text": [
      "Confusion matrix, without normalization\n",
      "[[ 963   87]\n",
      " [  47 1003]]\n"
     ]
    },
    {
     "data": {
      "image/png": "[encoded data removed]",
      "text/plain": [
       "<Figure size 640x480 with 2 Axes>"
      ]
     },
     "metadata": {},
     "output_type": "display_data"
    }
   ],
   "source": [
    "cm_plot_labels = [\"no_side_effects\", \"had_side_effects\"]\n",
    "plot_confusion_matrix(cm=cm, classes=cm_plot_labels, title=\"Confusion Matrix\")"
   ]
  },
  {
   "cell_type": "markdown",
   "metadata": {},
   "source": [
    "## Save and Load a model"
   ]
  },
  {
   "cell_type": "code",
   "execution_count": 111,
   "metadata": {},
   "outputs": [
    {
     "name": "stdout",
     "output_type": "stream",
     "text": [
      "Model: \"sequential_4\"\n",
      "_________________________________________________________________\n",
      " Layer (type)                Output Shape              Param #   \n",
      "=================================================================\n",
      " Layer_2 (Dense)             (None, 16)                32        \n",
      "                                                                 \n",
      " Layer_3 (Dense)             (None, 32)                544       \n",
      "                                                                 \n",
      " Layer_4 (Dense)             (None, 2)                 66        \n",
      "                                                                 \n",
      "=================================================================\n",
      "Total params: 642\n",
      "Trainable params: 642\n",
      "Non-trainable params: 0\n",
      "_________________________________________________________________\n"
     ]
    }
   ],
   "source": [
    "model.summary()"
   ]
  },
  {
   "cell_type": "markdown",
   "metadata": {},
   "source": [
    "### 1. model.save()"
   ]
  },
  {
   "cell_type": "code",
   "execution_count": 116,
   "metadata": {},
   "outputs": [],
   "source": [
    "# Check first to see if file exists already.\n",
    "# If not, the model is saved to disk.\n",
    "import os.path\n",
    "\n",
    "SAVE_FILE_NAME = \"medical_trial_model\"\n",
    "\n",
    "SAVE_FILE_NAME += \".h5\"\n",
    "if os.path.isfile(os.path.join(os.getcwd(), SAVE_FILE_NAME)) is False:\n",
    "    model.save(os.path.join(os.getcwd(), SAVE_FILE_NAME))"
   ]
  },
  {
   "cell_type": "markdown",
   "metadata": {},
   "source": [
    "This function saves:\n",
    "- The architecture of the model, allowing to re-create the model.\n",
    "- The weights of the model.\n",
    "- The training configuration (loss, optimizer)\n",
    "- The state of the optimizer, allowing to resume training exactly where you left off."
   ]
  },
  {
   "cell_type": "code",
   "execution_count": 118,
   "metadata": {},
   "outputs": [],
   "source": [
    "from tensorflow.keras.models import load_model\n",
    "\n",
    "LOAD_FILE_NAME = SAVE_FILE_NAME\n",
    "new_model = load_model(os.path.join(os.getcwd(), LOAD_FILE_NAME))"
   ]
  },
  {
   "cell_type": "code",
   "execution_count": 119,
   "metadata": {},
   "outputs": [
    {
     "name": "stdout",
     "output_type": "stream",
     "text": [
      "Model: \"sequential_4\"\n",
      "_________________________________________________________________\n",
      " Layer (type)                Output Shape              Param #   \n",
      "=================================================================\n",
      " Layer_2 (Dense)             (None, 16)                32        \n",
      "                                                                 \n",
      " Layer_3 (Dense)             (None, 32)                544       \n",
      "                                                                 \n",
      " Layer_4 (Dense)             (None, 2)                 66        \n",
      "                                                                 \n",
      "=================================================================\n",
      "Total params: 642\n",
      "Trainable params: 642\n",
      "Non-trainable params: 0\n",
      "_________________________________________________________________\n"
     ]
    }
   ],
   "source": [
    "new_model.summary()"
   ]
  },
  {
   "cell_type": "code",
   "execution_count": 120,
   "metadata": {},
   "outputs": [
    {
     "data": {
      "text/plain": [
       "[array([[ 0.7243076 , -0.3049085 , -0.2938841 , -0.09668538, -0.26987582,\n",
       "          0.7783931 ,  0.37483224,  0.3554447 , -0.23860714, -0.04333514,\n",
       "         -0.38872713, -0.38354716, -0.5350459 ,  0.5877499 , -0.4644678 ,\n",
       "         -0.30706018]], dtype=float32),\n",
       " array([-0.17028925,  0.        ,  0.        ,  0.        ,  0.        ,\n",
       "        -0.1758021 ,  0.31430653, -0.10170832,  0.        ,  0.        ,\n",
       "         0.        ,  0.        ,  0.        , -0.12250466,  0.        ,\n",
       "         0.        ], dtype=float32),\n",
       " array([[-0.50806236,  0.57360375,  0.18068074, -0.520311  , -0.18297651,\n",
       "         -0.29915074, -0.21712008,  0.13126963,  0.31784478, -0.30308738,\n",
       "          0.2968772 ,  0.43613622, -0.17432366, -0.28288576, -0.1790022 ,\n",
       "          0.19102708,  0.33218843,  0.34574106, -0.3224559 ,  0.47004277,\n",
       "         -0.18960923,  0.29806024, -0.19573942, -0.24220344, -0.3449538 ,\n",
       "          0.2107912 ,  0.34127256, -0.30310795, -0.27582422,  0.41880372,\n",
       "         -0.17454167, -0.00436938],\n",
       "        [ 0.02992123, -0.0528599 , -0.2605278 , -0.09305316,  0.18227705,\n",
       "          0.2709283 , -0.14315   , -0.3400176 ,  0.32621536,  0.20881537,\n",
       "         -0.20587893, -0.1478562 , -0.04294527, -0.12477195,  0.2872065 ,\n",
       "         -0.1891607 ,  0.04161564, -0.0090431 ,  0.25815997, -0.2983121 ,\n",
       "          0.14544919, -0.13906571, -0.11964765, -0.04946151, -0.15320952,\n",
       "         -0.17017944,  0.06087193,  0.2556841 , -0.12695314, -0.3367592 ,\n",
       "         -0.10466723,  0.16182116],\n",
       "        [ 0.2719908 , -0.13918735,  0.25026378,  0.26689455,  0.3458787 ,\n",
       "          0.05173543, -0.01276207,  0.16294333, -0.33556914, -0.27052578,\n",
       "          0.11116999, -0.28572378, -0.04308698,  0.20588252, -0.03297216,\n",
       "          0.29002276, -0.13430169, -0.28135845,  0.2745832 , -0.31520185,\n",
       "          0.04149744,  0.15284637,  0.00154772,  0.33477047,  0.0751802 ,\n",
       "         -0.2423378 ,  0.00180236, -0.14488848,  0.15740708,  0.06417406,\n",
       "          0.13318631, -0.11054696],\n",
       "        [-0.1046105 , -0.334693  ,  0.2130445 ,  0.2039679 , -0.26222318,\n",
       "          0.1482875 ,  0.17186788,  0.04782286,  0.29183862,  0.25731525,\n",
       "         -0.30847   ,  0.06953353, -0.21785925, -0.314644  ,  0.19231918,\n",
       "         -0.26765987,  0.1001007 , -0.11471504,  0.21642771,  0.06960931,\n",
       "          0.03711653, -0.02103844,  0.18414769, -0.33814254, -0.16005796,\n",
       "          0.27466884, -0.01303113,  0.29705384,  0.24942413,  0.25519392,\n",
       "          0.2787262 ,  0.07563329],\n",
       "        [ 0.00884485, -0.2986137 , -0.14000517,  0.02172697, -0.04326442,\n",
       "         -0.16046375,  0.04374033,  0.13514817,  0.08470556, -0.1574811 ,\n",
       "          0.1458984 , -0.00614089,  0.25276342,  0.28020844, -0.23541138,\n",
       "          0.06617764, -0.1242629 , -0.17118903,  0.00655746, -0.3139156 ,\n",
       "         -0.20713447,  0.21705726, -0.02313811,  0.01855347,  0.09867984,\n",
       "         -0.2246266 ,  0.00911704,  0.2584882 ,  0.17137888,  0.08190221,\n",
       "          0.30978456, -0.00383773],\n",
       "        [-0.234336  , -0.06450258,  0.40995228, -0.0755047 , -0.16381636,\n",
       "         -0.36683965, -0.34178573, -0.13792633, -0.2960114 , -0.42437506,\n",
       "          0.03017925, -0.02150036,  0.3054587 ,  0.28886548, -0.4287689 ,\n",
       "          0.56190217,  0.48273933,  0.29220447, -0.13558885,  0.22428413,\n",
       "         -0.2370359 ,  0.05915657, -0.48079053, -0.1228659 ,  0.25641334,\n",
       "          0.38914678,  0.44517732,  0.3156103 , -0.311146  ,  0.385774  ,\n",
       "         -0.23669761,  0.26254955],\n",
       "        [ 0.36403733,  0.25358844,  0.32601875,  0.2756855 ,  0.18213113,\n",
       "          0.19647248,  0.02867962, -0.13794118, -0.30220377,  0.18483819,\n",
       "         -0.11980931,  0.16583854, -0.09005728, -0.252517  ,  0.28391394,\n",
       "          0.3236115 ,  0.23667537,  0.00451002, -0.34333792,  0.22614671,\n",
       "         -0.31558624,  0.01191301,  0.34695774, -0.14264913,  0.21014893,\n",
       "          0.40543595,  0.01966873, -0.11707848, -0.3462067 , -0.1191586 ,\n",
       "          0.35562074, -0.25077873],\n",
       "        [-0.36351827, -0.04697929,  0.5640718 , -0.21206547,  0.06542189,\n",
       "         -0.14290774, -0.15091135, -0.27658418,  0.22340444, -0.24830696,\n",
       "         -0.01555123,  0.42317322, -0.23764087, -0.09246233, -0.33164158,\n",
       "          0.49345466, -0.02347185,  0.5856093 , -0.01970053,  0.39331442,\n",
       "          0.03268683, -0.09649771, -0.08992154, -0.18561919, -0.05981322,\n",
       "          0.4612161 ,  0.03381025, -0.27503034, -0.1784876 ,  0.53657466,\n",
       "          0.1462228 , -0.11122528],\n",
       "        [ 0.22461167,  0.24492201, -0.29544023, -0.2647396 , -0.30317256,\n",
       "          0.08825272, -0.01089209,  0.0799621 , -0.00493547, -0.0102137 ,\n",
       "         -0.34338942,  0.11884207, -0.27921233, -0.07475755,  0.11761576,\n",
       "          0.34771726, -0.02491385, -0.18204193, -0.18623064, -0.00420988,\n",
       "         -0.0488584 , -0.2767958 , -0.2910749 , -0.14592427,  0.21841964,\n",
       "          0.05365065,  0.087933  ,  0.04598784, -0.22131267, -0.18311617,\n",
       "          0.20427045,  0.06986108],\n",
       "        [-0.28158766,  0.07838833,  0.0852764 , -0.01797217, -0.04571643,\n",
       "         -0.2770514 ,  0.27249494,  0.12012601, -0.1160457 ,  0.10392326,\n",
       "          0.17928252, -0.04887348,  0.21362194,  0.10711789,  0.34024516,\n",
       "          0.17931142,  0.10782182,  0.19516686, -0.09944877, -0.16884795,\n",
       "          0.34538087, -0.18505678,  0.05625013, -0.32260764,  0.18682131,\n",
       "          0.07032192,  0.10491851, -0.0007734 , -0.31444365,  0.18053368,\n",
       "          0.18542287, -0.27864066],\n",
       "        [-0.34970176, -0.01514959, -0.07753116, -0.12299985, -0.15791716,\n",
       "         -0.17554785, -0.05836192, -0.07856357, -0.17277029,  0.30482766,\n",
       "         -0.2673768 , -0.09977102,  0.14361328, -0.11113651, -0.20910425,\n",
       "          0.11795664,  0.26168928, -0.19416337, -0.11046158,  0.12965685,\n",
       "         -0.04139167,  0.32562813, -0.11607806, -0.1892637 ,  0.03020269,\n",
       "         -0.18095386, -0.18775679, -0.24550614, -0.04914558, -0.2199816 ,\n",
       "         -0.16407566, -0.19295384],\n",
       "        [-0.23038983,  0.24405864,  0.20894316,  0.17389956,  0.2140635 ,\n",
       "         -0.15689492,  0.20934305, -0.25310236,  0.32819793,  0.32643846,\n",
       "          0.24458674,  0.23271921, -0.26223835, -0.05746418,  0.03031361,\n",
       "          0.3456764 ,  0.2578937 ,  0.2758201 ,  0.16415015,  0.29158953,\n",
       "          0.16433528,  0.11836377, -0.2183312 ,  0.33832243,  0.3532327 ,\n",
       "          0.16648164,  0.30758354, -0.15597992, -0.06577346,  0.2671102 ,\n",
       "          0.3102148 ,  0.27214774],\n",
       "        [ 0.08337927,  0.31977555,  0.143011  ,  0.02782905,  0.14274338,\n",
       "         -0.07926795,  0.15796486,  0.34194592,  0.12071195,  0.2682726 ,\n",
       "         -0.05815676, -0.32395104, -0.23649296,  0.24253967, -0.0439488 ,\n",
       "          0.15413186,  0.12447548, -0.31332937,  0.25701764, -0.09735543,\n",
       "          0.2875873 , -0.19054143, -0.33135068, -0.23121399,  0.33944753,\n",
       "         -0.07183483,  0.21817866, -0.08677471, -0.06594574, -0.16451862,\n",
       "         -0.20077655,  0.12309974],\n",
       "        [-0.09501039,  0.58708245, -0.08810704, -0.28444663, -0.4422641 ,\n",
       "         -0.06562437, -0.19782795,  0.25554088, -0.15568607,  0.02730511,\n",
       "         -0.32888442,  0.58352375, -0.18075737,  0.06519553, -0.297816  ,\n",
       "          0.58021283,  0.17115635,  0.3557538 ,  0.2631859 ,  0.34446713,\n",
       "          0.00416797, -0.36431518, -0.3137259 ,  0.02301326, -0.31350562,\n",
       "          0.00093977,  0.46512058,  0.16945015,  0.32173935,  0.29098457,\n",
       "         -0.33277625, -0.3480405 ],\n",
       "        [-0.14363098, -0.3203357 , -0.04964712,  0.07376146,  0.23648563,\n",
       "         -0.22204274, -0.10082665, -0.134943  ,  0.12856078, -0.11393541,\n",
       "         -0.25009492,  0.19163033, -0.0693399 ,  0.18504563,  0.25236186,\n",
       "         -0.3149349 , -0.2477476 ,  0.15616933,  0.18102899,  0.26823398,\n",
       "          0.18822363,  0.26424554,  0.09216294, -0.00618505, -0.18539733,\n",
       "          0.14047891, -0.17401624, -0.11700699, -0.34511796, -0.31776685,\n",
       "          0.0533461 ,  0.23045138],\n",
       "        [ 0.20397583,  0.1013903 , -0.3194319 ,  0.24863544, -0.02501366,\n",
       "         -0.2721368 ,  0.1269173 , -0.17080507, -0.10729121, -0.3233857 ,\n",
       "         -0.27040195, -0.19926651, -0.29000217,  0.0894663 ,  0.11308885,\n",
       "          0.30840907,  0.10105565,  0.13847944, -0.3408649 , -0.17131539,\n",
       "          0.22095188, -0.31003287,  0.35164598, -0.23476115, -0.03363547,\n",
       "         -0.23944223, -0.04435232,  0.13213661,  0.18004069, -0.16822569,\n",
       "         -0.17228223,  0.03062162]], dtype=float32),\n",
       " array([ 0.24014148, -0.11636877, -0.12783377,  0.26026368,  0.20584483,\n",
       "         0.25034657, -0.01154787, -0.00200657,  0.        ,  0.27389628,\n",
       "        -0.00588237, -0.10153887,  0.        ,  0.        ,  0.30722204,\n",
       "        -0.13084348, -0.1064799 , -0.06286888,  0.        , -0.11366585,\n",
       "         0.        , -0.01710938,  0.26046595,  0.        , -0.08161402,\n",
       "        -0.14820574, -0.06916252, -0.00656868,  0.        , -0.03790665,\n",
       "         0.06127812,  0.        ], dtype=float32),\n",
       " array([[ 0.74132025, -0.74022603],\n",
       "        [-0.3874259 ,  0.29311144],\n",
       "        [-0.3474831 ,  0.4886433 ],\n",
       "        [ 0.86866474, -0.33302322],\n",
       "        [ 0.27123472, -0.7890786 ],\n",
       "        [ 0.68365127, -0.4870177 ],\n",
       "        [-0.18740882, -0.07830711],\n",
       "        [ 0.06292349, -0.11133226],\n",
       "        [ 0.36669984, -0.32002404],\n",
       "        [ 0.89172894, -0.13948908],\n",
       "        [ 0.22285797, -0.02268336],\n",
       "        [-0.4246411 ,  0.25244197],\n",
       "        [-0.3284213 ,  0.16764948],\n",
       "        [-0.20986874, -0.24510787],\n",
       "        [ 0.20369494, -0.83678573],\n",
       "        [ 0.01126153,  0.56460804],\n",
       "        [-0.4468307 ,  0.22657557],\n",
       "        [-0.47271487,  0.31332707],\n",
       "        [ 0.39684018, -0.05739692],\n",
       "        [-0.406605  ,  0.14693551],\n",
       "        [-0.01828206, -0.00609788],\n",
       "        [ 0.02835181, -0.3438954 ],\n",
       "        [ 0.44236502, -0.63917905],\n",
       "        [ 0.00163594, -0.32869464],\n",
       "        [-0.05410811,  0.18655537],\n",
       "        [-0.5587743 ,  0.27573937],\n",
       "        [-0.3201269 ,  0.00923868],\n",
       "        [ 0.02923947, -0.16726173],\n",
       "        [ 0.09961107, -0.16499633],\n",
       "        [-0.41798526,  0.28147537],\n",
       "        [ 0.56474626,  0.00981948],\n",
       "        [-0.16751453, -0.14224783]], dtype=float32),\n",
       " array([ 0.14627455, -0.14627455], dtype=float32)]"
      ]
     },
     "execution_count": 120,
     "metadata": {},
     "output_type": "execute_result"
    }
   ],
   "source": [
    "new_model.get_weights()"
   ]
  },
  {
   "cell_type": "code",
   "execution_count": 121,
   "metadata": {},
   "outputs": [
    {
     "data": {
      "text/plain": [
       "<keras.optimizers.optimizer_v2.adam.Adam at 0x27eb307f940>"
      ]
     },
     "execution_count": 121,
     "metadata": {},
     "output_type": "execute_result"
    }
   ],
   "source": [
    "new_model.optimizer"
   ]
  },
  {
   "cell_type": "markdown",
   "metadata": {},
   "source": [
    "### 2. model.to_json()"
   ]
  },
  {
   "cell_type": "markdown",
   "metadata": {},
   "source": [
    "If you only need to save the architecture of a model, and not its weights or its training configuration, you can use the following function to save the architecture only."
   ]
  },
  {
   "cell_type": "code",
   "execution_count": 122,
   "metadata": {},
   "outputs": [],
   "source": [
    "# save as JSON\n",
    "json_string = model.to_json()\n",
    "\n",
    "# save as YAML\n",
    "# yaml_string = model.to_yaml()"
   ]
  },
  {
   "cell_type": "code",
   "execution_count": 123,
   "metadata": {},
   "outputs": [
    {
     "data": {
      "text/plain": [
       "'{\"class_name\": \"Sequential\", \"config\": {\"name\": \"sequential_4\", \"layers\": [{\"class_name\": \"InputLayer\", \"config\": {\"batch_input_shape\": [null, 1], \"dtype\": \"float32\", \"sparse\": false, \"ragged\": false, \"name\": \"Layer_2_input\"}}, {\"class_name\": \"Dense\", \"config\": {\"name\": \"Layer_2\", \"trainable\": true, \"batch_input_shape\": [null, 1], \"dtype\": \"float32\", \"units\": 16, \"activation\": \"relu\", \"use_bias\": true, \"kernel_initializer\": {\"class_name\": \"GlorotUniform\", \"config\": {\"seed\": null}}, \"bias_initializer\": {\"class_name\": \"Zeros\", \"config\": {}}, \"kernel_regularizer\": null, \"bias_regularizer\": null, \"activity_regularizer\": null, \"kernel_constraint\": null, \"bias_constraint\": null}}, {\"class_name\": \"Dense\", \"config\": {\"name\": \"Layer_3\", \"trainable\": true, \"dtype\": \"float32\", \"units\": 32, \"activation\": \"relu\", \"use_bias\": true, \"kernel_initializer\": {\"class_name\": \"GlorotUniform\", \"config\": {\"seed\": null}}, \"bias_initializer\": {\"class_name\": \"Zeros\", \"config\": {}}, \"kernel_regularizer\": null, \"bias_regularizer\": null, \"activity_regularizer\": null, \"kernel_constraint\": null, \"bias_constraint\": null}}, {\"class_name\": \"Dense\", \"config\": {\"name\": \"Layer_4\", \"trainable\": true, \"dtype\": \"float32\", \"units\": 2, \"activation\": \"softmax\", \"use_bias\": true, \"kernel_initializer\": {\"class_name\": \"GlorotUniform\", \"config\": {\"seed\": null}}, \"bias_initializer\": {\"class_name\": \"Zeros\", \"config\": {}}, \"kernel_regularizer\": null, \"bias_regularizer\": null, \"activity_regularizer\": null, \"kernel_constraint\": null, \"bias_constraint\": null}}]}, \"keras_version\": \"2.10.0\", \"backend\": \"tensorflow\"}'"
      ]
     },
     "execution_count": 123,
     "metadata": {},
     "output_type": "execute_result"
    }
   ],
   "source": [
    "json_string"
   ]
  },
  {
   "cell_type": "code",
   "execution_count": 124,
   "metadata": {},
   "outputs": [],
   "source": [
    "# model reconstruction from JSON\n",
    "from tensorflow.keras.models import model_from_json\n",
    "\n",
    "model_architecture = model_from_json(json_string)\n",
    "\n",
    "# model reconstruction from YAML\n",
    "# from tensorflow.keras.models import model_from_yaml\n",
    "# model = model_from_yaml(yaml_string)"
   ]
  },
  {
   "cell_type": "code",
   "execution_count": 125,
   "metadata": {},
   "outputs": [
    {
     "name": "stdout",
     "output_type": "stream",
     "text": [
      "Model: \"sequential_4\"\n",
      "_________________________________________________________________\n",
      " Layer (type)                Output Shape              Param #   \n",
      "=================================================================\n",
      " Layer_2 (Dense)             (None, 16)                32        \n",
      "                                                                 \n",
      " Layer_3 (Dense)             (None, 32)                544       \n",
      "                                                                 \n",
      " Layer_4 (Dense)             (None, 2)                 66        \n",
      "                                                                 \n",
      "=================================================================\n",
      "Total params: 642\n",
      "Trainable params: 642\n",
      "Non-trainable params: 0\n",
      "_________________________________________________________________\n"
     ]
    }
   ],
   "source": [
    "model_architecture.summary()"
   ]
  },
  {
   "cell_type": "markdown",
   "metadata": {},
   "source": [
    "### 3. model.save_weights()"
   ]
  },
  {
   "cell_type": "code",
   "execution_count": null,
   "metadata": {},
   "outputs": [],
   "source": []
  }
 ],
 "metadata": {
  "kernelspec": {
   "display_name": "Python 3",
   "language": "python",
   "name": "python3"
  },
  "language_info": {
   "codemirror_mode": {
    "name": "ipython",
    "version": 3
   },
   "file_extension": ".py",
   "mimetype": "text/x-python",
   "name": "python",
   "nbconvert_exporter": "python",
   "pygments_lexer": "ipython3",
   "version": "3.10.11"
  }
 },
 "nbformat": 4,
 "nbformat_minor": 2
}
