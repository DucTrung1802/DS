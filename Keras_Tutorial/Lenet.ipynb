{
  "cells": [
    {
      "cell_type": "markdown",
      "metadata": {
        "id": "jfslffZ6nFLi"
      },
      "source": [
        "Trong notebook này, ta sẽ làm quen với:\n",
        "- Mạng Lenet, một model dùng cho xử lý ảnh được phát triển bởi Yann Lecun\n",
        "- Kiến trúc Convolution trong Deep Learning"
      ]
    },
    {
      "cell_type": "code",
      "execution_count": 1,
      "metadata": {
        "id": "ywN7YAeWm3Nd"
      },
      "outputs": [],
      "source": [
        "# import the necessary packages\n",
        "from keras import backend as K\n",
        "from keras.models import Sequential\n",
        "from keras.layers.convolutional import Conv2D\n",
        "from keras.layers.convolutional import MaxPooling2D\n",
        "from keras.layers.core import Activation\n",
        "from keras.layers.core import Flatten\n",
        "from keras.layers.core import Dense\n",
        "from keras.datasets import mnist\n",
        "from keras.utils import np_utils\n",
        "from keras.optimizers import SGD, RMSprop, Adam\n",
        "import numpy as np\n",
        "\n",
        "import matplotlib.pyplot as plt"
      ]
    },
    {
      "cell_type": "markdown",
      "metadata": {
        "id": "VTXv0azDnYAZ"
      },
      "source": [
        "1.1. Thiết lập các tham số huấn luyện\n",
        "\n",
        "- NB_EPOCH = 10\n",
        "- BATCH_SIZE = 128\n",
        "- VERBOSE = 1\n",
        "- OPTIMIZER = Adam()\n",
        "- VALIDATION_SPLIT=0.2\n",
        "- IMG_ROWS, IMG_COLS = 28\n",
        "- NB_CLASSES  = 10\n",
        "- INPUT SHAPE = (1, 28, 28)"
      ]
    },
    {
      "cell_type": "code",
      "execution_count": 3,
      "metadata": {
        "id": "T0CSWGIZnmGF"
      },
      "outputs": [],
      "source": [
        "np.random.seed(1671)\n",
        "\n",
        "# YOUR CODE HERE\n",
        "NB_EPOCH = 10\n",
        "BATCH_SIZE = 128\n",
        "VERBOSE = 1\n",
        "OPTIMIZER = Adam()\n",
        "VALIDATION_SPLIT = 0.2\n",
        "IMG_ROWS, IMG_COLS = 28, 28\n",
        "NB_CLASSES = 10\n",
        "INPUT_SHAPE = (1, 28, 28)\n",
        "# YOUR CODE HERE"
      ]
    },
    {
      "cell_type": "markdown",
      "metadata": {
        "id": "AjZuyzHGoFcF"
      },
      "source": [
        "1.2. Chuẩn bị dữ liệu"
      ]
    },
    {
      "cell_type": "markdown",
      "metadata": {
        "id": "wZv9oYH2oRuV"
      },
      "source": [
        "Load dataset bằng hàm mnist.load_data và đổi data_format về channels_first"
      ]
    },
    {
      "cell_type": "code",
      "execution_count": 22,
      "metadata": {
        "colab": {
          "base_uri": "https://localhost:8080/"
        },
        "id": "kG3j6nmToZkW",
        "outputId": "b87db6ce-9ce1-495b-e6a0-1a0419363fee"
      },
      "outputs": [],
      "source": [
        "# YOUR CODE HERE\n",
        "dataset = mnist.load_data(\"mnist.npz\")\n",
        "K.set_image_data_format(\"channels_first\")\n",
        "# YOUR CODE HERE"
      ]
    },
    {
      "cell_type": "markdown",
      "metadata": {
        "id": "a8KFCA2Honss"
      },
      "source": [
        "1.3. Chuẩn hóa dữ liệu đầu vào, ta làm những việc sau:\n",
        "- Đưa ma trận dữ liệu về kiểu float32\n",
        "- Đưa giá trị pixel ảnh về miền (0,1)\n",
        "- Chuyển giá trị dữ liệu về shape (:, 1, 28, 28)"
      ]
    },
    {
      "cell_type": "code",
      "execution_count": 55,
      "metadata": {
        "colab": {
          "base_uri": "https://localhost:8080/"
        },
        "id": "CBJzm9i1ok-L",
        "outputId": "0b9fa707-934b-43ac-c529-5d4845b1f29c"
      },
      "outputs": [
        {
          "name": "stdout",
          "output_type": "stream",
          "text": [
            "(60000, 28, 28)\n",
            "(10000, 28, 28)\n",
            "60000 train samples\n",
            "10000 test samples\n"
          ]
        }
      ],
      "source": [
        "# YOUR CODE HERE\n",
        "print(dataset[0][0].shape)\n",
        "print(dataset[1][0].shape)\n",
        "\n",
        "x_train = dataset[0][0].astype(\"float32\")\n",
        "x_test = dataset[1][0].astype(\"float32\")\n",
        "x_train /= 255\n",
        "x_test /= 255\n",
        "\n",
        "\n",
        "x_train: np = x_train.reshape(-1, 1, 28, 28)\n",
        "x_test: np = x_test.reshape(-1, 1, 28, 28)\n",
        "# YOUR CODE HERE\n",
        "\n",
        "print(x_train.shape[0], \"train samples\")\n",
        "print(x_test.shape[0], \"test samples\")"
      ]
    },
    {
      "cell_type": "markdown",
      "metadata": {
        "id": "xGlkSmf7pGvC"
      },
      "source": [
        "1.4. Biến đổi dữ liệu đầu ra thành dạng One-hot Vector với độ dài vector = NB_CLASSES"
      ]
    },
    {
      "cell_type": "code",
      "execution_count": 64,
      "metadata": {
        "colab": {
          "base_uri": "https://localhost:8080/"
        },
        "id": "R2Yw2HHpm3Ny",
        "outputId": "04b0ffd2-3e88-49df-902a-fb6f7fa4201d"
      },
      "outputs": [
        {
          "name": "stdout",
          "output_type": "stream",
          "text": [
            "(60000, 1, 28, 28)\n"
          ]
        }
      ],
      "source": [
        "# YOUR CODE HERE\n",
        "y_train = np_utils.to_categorical(dataset[0][1], num_classes=NB_CLASSES, dtype=\"int8\")\n",
        "y_test = np_utils.to_categorical(dataset[1][1], num_classes=NB_CLASSES, dtype=\"int8\")\n",
        "# YOUR CODE HERE\n",
        "\n",
        "print(x_train.shape)"
      ]
    },
    {
      "cell_type": "markdown",
      "metadata": {
        "id": "977l02s1pWgG"
      },
      "source": [
        "1.5. Xây dựng mô hình với kiến trúc như sau:\n",
        "\n",
        "- Conv2D(20, kernel_size=5, padding=\"same\",input_shape=input_shape)\n",
        "- Activation(\"relu\")\n",
        "- MaxPooling2D(pool_size=(2, 2), strides=(2, 2))\n",
        "- Conv2D(50, kernel_size=5, padding=\"same\")\n",
        "- Activation(\"relu\")\n",
        "- MaxPooling2D(pool_size=(2, 2), strides=(2, 2))\n",
        "- Flatten()\n",
        "- Dense(500)\n",
        "- Activation(\"relu\")\n",
        "- Dense(NB_CLASSES)\n",
        "- Activation(\"softmax\")"
      ]
    },
    {
      "cell_type": "code",
      "execution_count": null,
      "metadata": {
        "id": "eycMZ54im3Nz"
      },
      "outputs": [],
      "source": [
        "# YOUR CODE HERE\n",
        "model = None\n",
        "# YOUR CODE HERE"
      ]
    },
    {
      "cell_type": "markdown",
      "metadata": {
        "id": "dFXeGacHp90B"
      },
      "source": [
        "1.6. Compile model với các tham số sau:\n",
        "- loss=\"categorical_crossentropy\"\n",
        "- optimizer=OPTIMIZER\n",
        "- metrics=[\"accuracy\"]"
      ]
    },
    {
      "cell_type": "code",
      "execution_count": null,
      "metadata": {
        "colab": {
          "base_uri": "https://localhost:8080/"
        },
        "id": "21pgrJ28qLCZ",
        "outputId": "1a8951e9-fa5f-480a-f3ae-4e49e5b379f5"
      },
      "outputs": [
        {
          "name": "stdout",
          "output_type": "stream",
          "text": [
            "(60000, 1, 28, 28)\n",
            "(60000, 10)\n"
          ]
        }
      ],
      "source": [
        "print(x_train.shape)\n",
        "print(y_train.shape)\n",
        "\n",
        "# YOUR CODE HERE\n",
        "None\n",
        "# YOUR CODE HERE"
      ]
    },
    {
      "cell_type": "markdown",
      "metadata": {
        "id": "6xXooILCqMKx"
      },
      "source": [
        "1.7. Huấn luyện mô hình với các tham số sau:\n",
        "- batch_size=BATCH_SIZE\n",
        "- epochs=NB_EPOCH\n",
        "- verbose=VERBOSE\n",
        "- validation_split=VALIDATION_SPLIT"
      ]
    },
    {
      "cell_type": "code",
      "execution_count": null,
      "metadata": {
        "colab": {
          "base_uri": "https://localhost:8080/"
        },
        "id": "XaH5-Ykzm3N0",
        "outputId": "3c447b62-a10c-43ad-c67e-b13890c51d0f"
      },
      "outputs": [
        {
          "name": "stdout",
          "output_type": "stream",
          "text": [
            "Epoch 1/10\n",
            "375/375 [==============================] - 10s 7ms/step - loss: 0.4255 - accuracy: 0.8667 - val_loss: 0.0539 - val_accuracy: 0.9844\n",
            "Epoch 2/10\n",
            "375/375 [==============================] - 2s 5ms/step - loss: 0.0519 - accuracy: 0.9840 - val_loss: 0.0439 - val_accuracy: 0.9881\n",
            "Epoch 3/10\n",
            "375/375 [==============================] - 2s 5ms/step - loss: 0.0307 - accuracy: 0.9906 - val_loss: 0.0388 - val_accuracy: 0.9883\n",
            "Epoch 4/10\n",
            "375/375 [==============================] - 2s 5ms/step - loss: 0.0232 - accuracy: 0.9927 - val_loss: 0.0343 - val_accuracy: 0.9892\n",
            "Epoch 5/10\n",
            "375/375 [==============================] - 2s 5ms/step - loss: 0.0176 - accuracy: 0.9944 - val_loss: 0.0329 - val_accuracy: 0.9902\n",
            "Epoch 6/10\n",
            "375/375 [==============================] - 2s 5ms/step - loss: 0.0133 - accuracy: 0.9961 - val_loss: 0.0404 - val_accuracy: 0.9893\n",
            "Epoch 7/10\n",
            "375/375 [==============================] - 2s 5ms/step - loss: 0.0084 - accuracy: 0.9969 - val_loss: 0.0414 - val_accuracy: 0.9890\n",
            "Epoch 8/10\n",
            "375/375 [==============================] - 2s 5ms/step - loss: 0.0085 - accuracy: 0.9971 - val_loss: 0.0418 - val_accuracy: 0.9897\n",
            "Epoch 9/10\n",
            "375/375 [==============================] - 2s 5ms/step - loss: 0.0070 - accuracy: 0.9975 - val_loss: 0.0475 - val_accuracy: 0.9890\n",
            "Epoch 10/10\n",
            "375/375 [==============================] - 2s 5ms/step - loss: 0.0078 - accuracy: 0.9973 - val_loss: 0.0388 - val_accuracy: 0.9912\n"
          ]
        }
      ],
      "source": [
        "# YOUR CODE HERE\n",
        "history =None\n",
        "# YOUR CODE HERE"
      ]
    },
    {
      "cell_type": "markdown",
      "metadata": {
        "id": "GI1A6wTRqfI3"
      },
      "source": [
        "1.8. Huấn luyện mô hình dùng phương thức evaluate"
      ]
    },
    {
      "cell_type": "code",
      "execution_count": null,
      "metadata": {
        "colab": {
          "base_uri": "https://localhost:8080/"
        },
        "id": "TVUlDJ5Pm3N1",
        "outputId": "5d286b09-69e0-4935-ebeb-0eeb374f4331"
      },
      "outputs": [
        {
          "name": "stdout",
          "output_type": "stream",
          "text": [
            "313/313 [==============================] - 1s 2ms/step - loss: 0.0331 - accuracy: 0.9919\n",
            "\n",
            "Test score: 0.03306254372000694\n",
            "Test accuracy: 0.9919000267982483\n"
          ]
        }
      ],
      "source": [
        "# YOUR CODE HERE\n",
        "score =None\n",
        "# YOUR CODE HERE\n",
        "print(\"\\nTest score:\", score[0])\n",
        "print('Test accuracy:', score[1])"
      ]
    },
    {
      "cell_type": "code",
      "execution_count": null,
      "metadata": {
        "colab": {
          "base_uri": "https://localhost:8080/",
          "height": 591
        },
        "id": "KYtd3lcVm3N2",
        "outputId": "ff7d06a1-013a-4cf4-e0b4-06af432d28f6"
      },
      "outputs": [
        {
          "name": "stdout",
          "output_type": "stream",
          "text": [
            "dict_keys(['loss', 'accuracy', 'val_loss', 'val_accuracy'])\n"
          ]
        },
        {
          "data": {
            "image/png": "[encoded data removed]",
            "text/plain": [
              "<Figure size 432x288 with 1 Axes>"
            ]
          },
          "metadata": {
            "needs_background": "light",
            "tags": []
          },
          "output_type": "display_data"
        },
        {
          "data": {
            "image/png": "[encoded data removed]",
            "text/plain": [
              "<Figure size 432x288 with 1 Axes>"
            ]
          },
          "metadata": {
            "needs_background": "light",
            "tags": []
          },
          "output_type": "display_data"
        }
      ],
      "source": [
        "# list all data in history\n",
        "print(history.history.keys())\n",
        "# summarize history for accuracy\n",
        "plt.plot(history.history['accuracy'])\n",
        "plt.plot(history.history['val_accuracy'])\n",
        "plt.title('model accuracy')\n",
        "plt.ylabel('accuracy')\n",
        "plt.xlabel('epoch')\n",
        "plt.legend(['train', 'test'], loc='upper left')\n",
        "plt.show()\n",
        "# summarize history for loss\n",
        "plt.plot(history.history['loss'])\n",
        "plt.plot(history.history['val_loss'])\n",
        "plt.title('model loss')\n",
        "plt.ylabel('loss')\n",
        "plt.xlabel('epoch')\n",
        "plt.legend(['train', 'test'], loc='upper left')\n",
        "plt.show()\n"
      ]
    },
    {
      "cell_type": "code",
      "execution_count": null,
      "metadata": {
        "id": "ki9cC9GDm3N3"
      },
      "outputs": [],
      "source": [
        "from keras.models import load_model\n",
        "model.save('models/lenet_model.h5')  # creates a HDF5 file 'my_model.h5'\n",
        "del model"
      ]
    }
  ],
  "metadata": {
    "accelerator": "GPU",
    "colab": {
      "provenance": []
    },
    "kernelspec": {
      "display_name": "Python 3",
      "language": "python",
      "name": "python3"
    },
    "language_info": {
      "codemirror_mode": {
        "name": "ipython",
        "version": 3
      },
      "file_extension": ".py",
      "mimetype": "text/x-python",
      "name": "python",
      "nbconvert_exporter": "python",
      "pygments_lexer": "ipython3",
      "version": "3.10.11"
    }
  },
  "nbformat": 4,
  "nbformat_minor": 0
}
