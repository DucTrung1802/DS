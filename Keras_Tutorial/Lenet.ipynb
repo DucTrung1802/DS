{
  "cells": [
    {
      "cell_type": "markdown",
      "metadata": {
        "id": "jfslffZ6nFLi"
      },
      "source": [
        "Trong notebook này, ta sẽ làm quen với:\n",
        "- Mạng Lenet, một model dùng cho xử lý ảnh được phát triển bởi Yann Lecun\n",
        "- Kiến trúc Convolution trong Deep Learning"
      ]
    },
    {
      "cell_type": "code",
      "execution_count": 30,
      "metadata": {
        "id": "ywN7YAeWm3Nd"
      },
      "outputs": [],
      "source": [
        "# import the necessary packages\n",
        "from keras import backend as K\n",
        "from keras.models import Sequential\n",
        "from keras.layers.convolutional import Conv2D\n",
        "from keras.layers.convolutional import MaxPooling2D\n",
        "from keras.layers.core import Activation\n",
        "from keras.layers.core import Flatten\n",
        "from keras.layers.core import Dense\n",
        "from keras.datasets import mnist\n",
        "from keras.utils import np_utils\n",
        "from keras.optimizers import SGD, RMSprop, Adam\n",
        "import numpy as np\n",
        "\n",
        "import matplotlib.pyplot as plt"
      ]
    },
    {
      "cell_type": "markdown",
      "metadata": {
        "id": "VTXv0azDnYAZ"
      },
      "source": [
        "1.1. Thiết lập các tham số huấn luyện\n",
        "\n",
        "- NB_EPOCH = 10\n",
        "- BATCH_SIZE = 128\n",
        "- VERBOSE = 1\n",
        "- OPTIMIZER = Adam()\n",
        "- VALIDATION_SPLIT=0.2\n",
        "- IMG_ROWS, IMG_COLS = 28\n",
        "- NB_CLASSES  = 10\n",
        "- INPUT SHAPE = (1, 28, 28)"
      ]
    },
    {
      "cell_type": "code",
      "execution_count": 31,
      "metadata": {
        "id": "T0CSWGIZnmGF"
      },
      "outputs": [],
      "source": [
        "np.random.seed(1671)\n",
        "\n",
        "# YOUR CODE HERE\n",
        "NB_EPOCH = 10\n",
        "BATCH_SIZE = 128\n",
        "VERBOSE = 1\n",
        "OPTIMIZER = Adam()\n",
        "VALIDATION_SPLIT = 0.2\n",
        "IMG_ROWS, IMG_COLS = 28, 28\n",
        "NB_CLASSES = 10\n",
        "INPUT_SHAPE = (1, 28, 28)\n",
        "# YOUR CODE HERE"
      ]
    },
    {
      "cell_type": "markdown",
      "metadata": {
        "id": "AjZuyzHGoFcF"
      },
      "source": [
        "1.2. Chuẩn bị dữ liệu"
      ]
    },
    {
      "cell_type": "markdown",
      "metadata": {
        "id": "wZv9oYH2oRuV"
      },
      "source": [
        "Load dataset bằng hàm mnist.load_data và đổi data_format về channels_first"
      ]
    },
    {
      "cell_type": "code",
      "execution_count": 32,
      "metadata": {
        "colab": {
          "base_uri": "https://localhost:8080/"
        },
        "id": "kG3j6nmToZkW",
        "outputId": "b87db6ce-9ce1-495b-e6a0-1a0419363fee"
      },
      "outputs": [],
      "source": [
        "# YOUR CODE HERE\n",
        "dataset = mnist.load_data(\"mnist.npz\")\n",
        "K.set_image_data_format(\"channels_first\")\n",
        "# YOUR CODE HERE"
      ]
    },
    {
      "cell_type": "markdown",
      "metadata": {
        "id": "a8KFCA2Honss"
      },
      "source": [
        "1.3. Chuẩn hóa dữ liệu đầu vào, ta làm những việc sau:\n",
        "- Đưa ma trận dữ liệu về kiểu float32\n",
        "- Đưa giá trị pixel ảnh về miền (0,1)\n",
        "- Chuyển giá trị dữ liệu về shape (:, 1, 28, 28)"
      ]
    },
    {
      "cell_type": "code",
      "execution_count": 33,
      "metadata": {
        "colab": {
          "base_uri": "https://localhost:8080/"
        },
        "id": "CBJzm9i1ok-L",
        "outputId": "0b9fa707-934b-43ac-c529-5d4845b1f29c"
      },
      "outputs": [
        {
          "name": "stdout",
          "output_type": "stream",
          "text": [
            "(60000, 28, 28)\n",
            "(10000, 28, 28)\n",
            "60000 train samples\n",
            "10000 test samples\n"
          ]
        }
      ],
      "source": [
        "# YOUR CODE HERE\n",
        "print(dataset[0][0].shape)\n",
        "print(dataset[1][0].shape)\n",
        "\n",
        "x_train = dataset[0][0].astype(\"float32\")\n",
        "x_test = dataset[1][0].astype(\"float32\")\n",
        "x_train /= 255\n",
        "x_test /= 255\n",
        "\n",
        "\n",
        "x_train: np = x_train.reshape(-1, 1, 28, 28)\n",
        "x_test: np = x_test.reshape(-1, 1, 28, 28)\n",
        "# YOUR CODE HERE\n",
        "\n",
        "print(x_train.shape[0], \"train samples\")\n",
        "print(x_test.shape[0], \"test samples\")"
      ]
    },
    {
      "cell_type": "markdown",
      "metadata": {
        "id": "xGlkSmf7pGvC"
      },
      "source": [
        "1.4. Biến đổi dữ liệu đầu ra thành dạng One-hot Vector với độ dài vector = NB_CLASSES"
      ]
    },
    {
      "cell_type": "code",
      "execution_count": 34,
      "metadata": {
        "colab": {
          "base_uri": "https://localhost:8080/"
        },
        "id": "R2Yw2HHpm3Ny",
        "outputId": "04b0ffd2-3e88-49df-902a-fb6f7fa4201d"
      },
      "outputs": [
        {
          "name": "stdout",
          "output_type": "stream",
          "text": [
            "(60000, 1, 28, 28)\n"
          ]
        }
      ],
      "source": [
        "# YOUR CODE HERE\n",
        "y_train = np_utils.to_categorical(dataset[0][1], num_classes=NB_CLASSES, dtype=\"int8\")\n",
        "y_test = np_utils.to_categorical(dataset[1][1], num_classes=NB_CLASSES, dtype=\"int8\")\n",
        "# YOUR CODE HERE\n",
        "\n",
        "print(x_train.shape)"
      ]
    },
    {
      "cell_type": "markdown",
      "metadata": {
        "id": "977l02s1pWgG"
      },
      "source": [
        "1.5. Xây dựng mô hình với kiến trúc như sau:\n",
        "\n",
        "- Conv2D(20, kernel_size=5, padding=\"same\",input_shape=input_shape)\n",
        "- Activation(\"relu\")\n",
        "- MaxPooling2D(pool_size=(2, 2), strides=(2, 2))\n",
        "- Conv2D(50, kernel_size=5, padding=\"same\")\n",
        "- Activation(\"relu\")\n",
        "- MaxPooling2D(pool_size=(2, 2), strides=(2, 2))\n",
        "- Flatten()\n",
        "- Dense(500)\n",
        "- Activation(\"relu\")\n",
        "- Dense(NB_CLASSES)\n",
        "- Activation(\"softmax\")"
      ]
    },
    {
      "cell_type": "code",
      "execution_count": 35,
      "metadata": {
        "id": "eycMZ54im3Nz"
      },
      "outputs": [],
      "source": [
        "# YOUR CODE HERE\n",
        "model = Sequential(\n",
        "    [\n",
        "        Conv2D(filters=20, kernel_size=5, padding=\"same\", input_shape=INPUT_SHAPE),\n",
        "        Activation(\"relu\"),\n",
        "        MaxPooling2D(pool_size=(2, 2), strides=(2, 2)),\n",
        "        Conv2D(filters=50, kernel_size=5, padding=\"same\"),\n",
        "        Activation(\"relu\"),\n",
        "        MaxPooling2D(pool_size=(2, 2), strides=(2, 2)),\n",
        "        Flatten(),\n",
        "        Dense(units=500),\n",
        "        Activation(\"relu\"),\n",
        "        Dense(NB_CLASSES),\n",
        "        Activation(\"softmax\"),\n",
        "    ]\n",
        ")\n",
        "# YOUR CODE HERE"
      ]
    },
    {
      "cell_type": "markdown",
      "metadata": {
        "id": "dFXeGacHp90B"
      },
      "source": [
        "1.6. Compile model với các tham số sau:\n",
        "- loss=\"categorical_crossentropy\"\n",
        "- optimizer=OPTIMIZER\n",
        "- metrics=[\"accuracy\"]"
      ]
    },
    {
      "cell_type": "code",
      "execution_count": 36,
      "metadata": {
        "colab": {
          "base_uri": "https://localhost:8080/"
        },
        "id": "21pgrJ28qLCZ",
        "outputId": "1a8951e9-fa5f-480a-f3ae-4e49e5b379f5"
      },
      "outputs": [
        {
          "name": "stdout",
          "output_type": "stream",
          "text": [
            "(60000, 1, 28, 28)\n",
            "(60000, 10)\n",
            "Model: \"sequential_1\"\n",
            "_________________________________________________________________\n",
            " Layer (type)                Output Shape              Param #   \n",
            "=================================================================\n",
            " conv2d_4 (Conv2D)           (None, 20, 28, 28)        520       \n",
            "                                                                 \n",
            " activation_8 (Activation)   (None, 20, 28, 28)        0         \n",
            "                                                                 \n",
            " max_pooling2d_4 (MaxPooling  (None, 20, 14, 14)       0         \n",
            " 2D)                                                             \n",
            "                                                                 \n",
            " conv2d_5 (Conv2D)           (None, 50, 14, 14)        25050     \n",
            "                                                                 \n",
            " activation_9 (Activation)   (None, 50, 14, 14)        0         \n",
            "                                                                 \n",
            " max_pooling2d_5 (MaxPooling  (None, 50, 7, 7)         0         \n",
            " 2D)                                                             \n",
            "                                                                 \n",
            " flatten_2 (Flatten)         (None, 2450)              0         \n",
            "                                                                 \n",
            " dense_4 (Dense)             (None, 500)               1225500   \n",
            "                                                                 \n",
            " activation_10 (Activation)  (None, 500)               0         \n",
            "                                                                 \n",
            " dense_5 (Dense)             (None, 10)                5010      \n",
            "                                                                 \n",
            " activation_11 (Activation)  (None, 10)                0         \n",
            "                                                                 \n",
            "=================================================================\n",
            "Total params: 1,256,080\n",
            "Trainable params: 1,256,080\n",
            "Non-trainable params: 0\n",
            "_________________________________________________________________\n"
          ]
        }
      ],
      "source": [
        "print(x_train.shape)\n",
        "print(y_train.shape)\n",
        "\n",
        "# YOUR CODE HERE\n",
        "model.compile(loss=\"categorical_crossentropy\", optimizer=OPTIMIZER, metrics=[\"accuracy\"])\n",
        "# YOUR CODE HERE\n",
        "model.summary()"
      ]
    },
    {
      "cell_type": "markdown",
      "metadata": {
        "id": "6xXooILCqMKx"
      },
      "source": [
        "1.7. Huấn luyện mô hình với các tham số sau:\n",
        "- batch_size=BATCH_SIZE\n",
        "- epochs=NB_EPOCH\n",
        "- verbose=VERBOSE\n",
        "- validation_split=VALIDATION_SPLIT"
      ]
    },
    {
      "cell_type": "code",
      "execution_count": 37,
      "metadata": {
        "colab": {
          "base_uri": "https://localhost:8080/"
        },
        "id": "XaH5-Ykzm3N0",
        "outputId": "3c447b62-a10c-43ad-c67e-b13890c51d0f"
      },
      "outputs": [
        {
          "name": "stdout",
          "output_type": "stream",
          "text": [
            "Epoch 1/10\n",
            "375/375 [==============================] - 3s 6ms/step - loss: 0.1872 - accuracy: 0.9424 - val_loss: 0.0677 - val_accuracy: 0.9798\n",
            "Epoch 2/10\n",
            "375/375 [==============================] - 2s 6ms/step - loss: 0.0483 - accuracy: 0.9850 - val_loss: 0.0469 - val_accuracy: 0.9849\n",
            "Epoch 3/10\n",
            "375/375 [==============================] - 2s 6ms/step - loss: 0.0325 - accuracy: 0.9897 - val_loss: 0.0490 - val_accuracy: 0.9862\n",
            "Epoch 4/10\n",
            "375/375 [==============================] - 2s 6ms/step - loss: 0.0240 - accuracy: 0.9927 - val_loss: 0.0384 - val_accuracy: 0.9885\n",
            "Epoch 5/10\n",
            "375/375 [==============================] - 3s 9ms/step - loss: 0.0179 - accuracy: 0.9943 - val_loss: 0.0342 - val_accuracy: 0.9898\n",
            "Epoch 6/10\n",
            "375/375 [==============================] - 4s 11ms/step - loss: 0.0132 - accuracy: 0.9955 - val_loss: 0.0390 - val_accuracy: 0.9880\n",
            "Epoch 7/10\n",
            "375/375 [==============================] - 3s 9ms/step - loss: 0.0099 - accuracy: 0.9969 - val_loss: 0.0354 - val_accuracy: 0.9908\n",
            "Epoch 8/10\n",
            "375/375 [==============================] - 3s 9ms/step - loss: 0.0086 - accuracy: 0.9971 - val_loss: 0.0388 - val_accuracy: 0.9892\n",
            "Epoch 9/10\n",
            "375/375 [==============================] - 4s 9ms/step - loss: 0.0071 - accuracy: 0.9975 - val_loss: 0.0326 - val_accuracy: 0.9915\n",
            "Epoch 10/10\n",
            "375/375 [==============================] - 4s 10ms/step - loss: 0.0060 - accuracy: 0.9978 - val_loss: 0.0531 - val_accuracy: 0.9876\n"
          ]
        }
      ],
      "source": [
        "# YOUR CODE HERE\n",
        "history = model.fit(\n",
        "    x=x_train, y=y_train,\n",
        "    batch_size=BATCH_SIZE,\n",
        "    epochs=NB_EPOCH,\n",
        "    verbose=VERBOSE,\n",
        "    validation_split=VALIDATION_SPLIT,\n",
        ")\n",
        "# YOUR CODE HERE"
      ]
    },
    {
      "cell_type": "markdown",
      "metadata": {
        "id": "GI1A6wTRqfI3"
      },
      "source": [
        "1.8. Huấn luyện mô hình dùng phương thức evaluate"
      ]
    },
    {
      "cell_type": "code",
      "execution_count": 38,
      "metadata": {
        "colab": {
          "base_uri": "https://localhost:8080/"
        },
        "id": "TVUlDJ5Pm3N1",
        "outputId": "5d286b09-69e0-4935-ebeb-0eeb374f4331"
      },
      "outputs": [
        {
          "name": "stdout",
          "output_type": "stream",
          "text": [
            "469/469 [==============================] - 1s 3ms/step - loss: 0.0171 - accuracy: 0.9954\n",
            "\n",
            "Test score: 0.01714298315346241\n",
            "Test accuracy: 0.9954000115394592\n"
          ]
        }
      ],
      "source": [
        "# YOUR CODE HERE\n",
        "score = model.evaluate(\n",
        "    x=x_train,\n",
        "    y=y_train,\n",
        "    batch_size=BATCH_SIZE,\n",
        "    verbose=VERBOSE,\n",
        ")\n",
        "# YOUR CODE HERE\n",
        "print(\"\\nTest score:\", score[0])\n",
        "print(\"Test accuracy:\", score[1])"
      ]
    },
    {
      "cell_type": "code",
      "execution_count": 39,
      "metadata": {
        "colab": {
          "base_uri": "https://localhost:8080/",
          "height": 591
        },
        "id": "KYtd3lcVm3N2",
        "outputId": "ff7d06a1-013a-4cf4-e0b4-06af432d28f6"
      },
      "outputs": [
        {
          "name": "stdout",
          "output_type": "stream",
          "text": [
            "dict_keys(['loss', 'accuracy', 'val_loss', 'val_accuracy'])\n"
          ]
        },
        {
          "data": {
            "image/png": "[encoded data removed]",
            "text/plain": [
              "<Figure size 640x480 with 1 Axes>"
            ]
          },
          "metadata": {},
          "output_type": "display_data"
        },
        {
          "data": {
            "image/png": "[encoded data removed]",
            "text/plain": [
              "<Figure size 640x480 with 1 Axes>"
            ]
          },
          "metadata": {},
          "output_type": "display_data"
        }
      ],
      "source": [
        "# list all data in history\n",
        "print(history.history.keys())\n",
        "# summarize history for accuracy\n",
        "plt.plot(history.history['accuracy'])\n",
        "plt.plot(history.history['val_accuracy'])\n",
        "plt.title('model accuracy')\n",
        "plt.ylabel('accuracy')\n",
        "plt.xlabel('epoch')\n",
        "plt.legend(['train', 'test'], loc='upper left')\n",
        "plt.show()\n",
        "# summarize history for loss\n",
        "plt.plot(history.history['loss'])\n",
        "plt.plot(history.history['val_loss'])\n",
        "plt.title('model loss')\n",
        "plt.ylabel('loss')\n",
        "plt.xlabel('epoch')\n",
        "plt.legend(['train', 'test'], loc='upper left')\n",
        "plt.show()\n"
      ]
    },
    {
      "cell_type": "code",
      "execution_count": 40,
      "metadata": {
        "id": "ki9cC9GDm3N3"
      },
      "outputs": [],
      "source": [
        "from keras.models import load_model\n",
        "model.save('models/lenet_model.h5')  # creates a HDF5 file 'my_model.h5'\n",
        "del model"
      ]
    }
  ],
  "metadata": {
    "accelerator": "GPU",
    "colab": {
      "provenance": []
    },
    "kernelspec": {
      "display_name": "Python 3",
      "language": "python",
      "name": "python3"
    },
    "language_info": {
      "codemirror_mode": {
        "name": "ipython",
        "version": 3
      },
      "file_extension": ".py",
      "mimetype": "text/x-python",
      "name": "python",
      "nbconvert_exporter": "python",
      "pygments_lexer": "ipython3",
      "version": "3.10.11"
    }
  },
  "nbformat": 4,
  "nbformat_minor": 0
}
