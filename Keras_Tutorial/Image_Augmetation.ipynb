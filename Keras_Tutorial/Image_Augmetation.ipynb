{
 "cells": [
  {
   "cell_type": "code",
   "execution_count": null,
   "metadata": {},
   "outputs": [],
   "source": [
    "from tensorflow import keras\n",
    "from keras.preprocessing.image import ImageDataGenerator\n",
    "from keras.preprocessing import image\n",
    "from keras.utils import array_to_img, img_to_array, load_img\n",
    "import matplotlib.pyplot as plt\n",
    "import random\n",
    "import os\n",
    "\n",
    "chosen_image = random.choice(os.listdir(\"D:\\DATA SCIENCE\\CLOUD\\DATASETS\\cats_and_dogs\\SANDBOX\\\\train\\dog\"))\n",
    "image_path = os.path.join(\"D:\\DATA SCIENCE\\CLOUD\\DATASETS\\cats_and_dogs\\SANDBOX\\\\train\\dog\", chosen_image)\n",
    "\n",
    "# Load an image from file\n",
    "img = load_img(image_path)\n",
    "\n",
    "# Convert the image to a NumPy array\n",
    "img_array = img_to_array(img)\n",
    "# Ensure that the image has 3 channels (for RGB images)\n",
    "if img_array.shape[2] == 1:\n",
    "    img_array = img_array.reshape((img_array.shape[0], img_array.shape[1], 3))\n",
    "img_array = img_array.reshape((1,) + img_array.shape)\n",
    "\n",
    "# Define an ImageDataGenerator\n",
    "datagen = ImageDataGenerator(\n",
    "    # Flip the image horizontally\n",
    "    horizontal_flip=True,\n",
    "    # Flip the image vertically\n",
    "    vertical_flip=True,\n",
    "    # Rotate the image by a given angle (in degrees)\n",
    "    rotation_range=45,\n",
    "    # Zoom in/out on the image\n",
    "    zoom_range=0.2,\n",
    "    # Crop the image by a specified fraction\n",
    "    width_shift_range=0.1,\n",
    "    height_shift_range=0.1,\n",
    "    # Vary the color of the image\n",
    "    brightness_range=[0.5, 1.5]\n",
    ")\n",
    "\n",
    "# Generate augmented images\n",
    "augmented_images = []\n",
    "\n",
    "# Number of augmented images you want to generate\n",
    "num_augmented_images = 5\n",
    "\n",
    "for _ in range(num_augmented_images):\n",
    "    augmented_img_array = datagen.flow(img_array).next()[0]\n",
    "    augmented_images.append(array_to_img(augmented_img_array.astype('uint8')))\n",
    "\n",
    "# Display the original and augmented images\n",
    "plt.figure(figsize=(10, 5))\n",
    "\n",
    "plt.subplot(num_augmented_images + 1, 1, 1)\n",
    "plt.imshow(img)\n",
    "plt.title('Original Image')\n",
    "plt.axis('off')\n",
    "\n",
    "for i in range(num_augmented_images):\n",
    "    plt.subplot(num_augmented_images + 1, 1, i + 2)\n",
    "    plt.imshow(augmented_images[i])\n",
    "    plt.title(f'Augmented {i+1}')\n",
    "    plt.axis('off')\n",
    "\n",
    "plt.show()"
   ]
  },
  {
   "cell_type": "markdown",
   "metadata": {},
   "source": [
    "# Image Augmentation"
   ]
  },
  {
   "cell_type": "markdown",
   "metadata": {},
   "source": [
    "## Import modules"
   ]
  },
  {
   "cell_type": "code",
   "execution_count": 127,
   "metadata": {},
   "outputs": [],
   "source": [
    "from tensorflow import keras\n",
    "from keras.preprocessing.image import ImageDataGenerator\n",
    "from keras.preprocessing import image\n",
    "from keras.utils import array_to_img, img_to_array, load_img\n",
    "import matplotlib.pyplot as plt\n",
    "import random\n",
    "import os\n",
    "%matplotlib inline"
   ]
  },
  {
   "cell_type": "markdown",
   "metadata": {},
   "source": [
    "## Setting table"
   ]
  },
  {
   "cell_type": "code",
   "execution_count": 152,
   "metadata": {},
   "outputs": [],
   "source": [
    "IMAGE_DATASET_DIRECTORY_PATH = \"D:\\DATA SCIENCE\\CLOUD\\DATASETS\\cats_and_dogs\\SANBOX_2\"\n",
    "\n",
    "AUGMENTATION_RANDOM_CHECK_AMOUNT = 1\n",
    "AUGMENTATION_REPLICA = 1\n",
    "\n",
    "# Augmentation options\n",
    "ROTAION_RANGE = 90  # degrees\n",
    "\n",
    "# rotation_range=10, width_shift_range=0.1, height_shift_range=0.1, shear_range=0.15, zoom_range=0.1, channel_shift_range=10., horizontal_flip=True)"
   ]
  },
  {
   "cell_type": "markdown",
   "metadata": {},
   "source": [
    "## Conditions check"
   ]
  },
  {
   "cell_type": "code",
   "execution_count": 147,
   "metadata": {},
   "outputs": [],
   "source": [
    "# IMAGE_DATASET_DIRECTORY_PATH\n",
    "assert (len(IMAGE_DATASET_DIRECTORY_PATH)), (f\"IMAGE_DATASET_DIRECTORY_PATH must not be empty!\")\n",
    "assert (len(os.listdir(IMAGE_DATASET_DIRECTORY_PATH))), (f\"IMAGE_DATASET_DIRECTORY_PATH must contain at least one image!\")\n",
    "\n",
    "# AUGMENTATION_RANDOM_CHECK_AMOUNT\n",
    "assert (AUGMENTATION_RANDOM_CHECK_AMOUNT >= 0), (f\"AUGMENTATION_RANDOM_CHECK_AMOUNT can be \\n ZERO: Turn off random check feature. \\n POSITIVE: generate random amount of images and their augmented replicas.\")\n",
    "assert (AUGMENTATION_RANDOM_CHECK_AMOUNT <= len(os.listdir(IMAGE_DATASET_DIRECTORY_PATH))), (\"AUGMENTATION_RANDOM_CHECK_AMOUNT must be smaller than population size!\")\n",
    "\n",
    "# AUGMENTATION_REPLICA\n",
    "assert (AUGMENTATION_REPLICA > 0), (f\"AUGMENTATION_REPLICA must be positive!\")\n",
    "\n",
    "# ROTAION_RANGE\n"
   ]
  },
  {
   "cell_type": "markdown",
   "metadata": {},
   "source": [
    "## Load images"
   ]
  },
  {
   "cell_type": "code",
   "execution_count": 141,
   "metadata": {},
   "outputs": [],
   "source": [
    "if AUGMENTATION_RANDOM_CHECK_AMOUNT:\n",
    "    sample_images = []\n",
    "    sample_list = random.sample(os.listdir(IMAGE_DATASET_DIRECTORY_PATH), AUGMENTATION_RANDOM_CHECK_AMOUNT)\n",
    "    for i in range(AUGMENTATION_RANDOM_CHECK_AMOUNT):\n",
    "        sample_images.append(load_img(os.path.join(IMAGE_DATASET_DIRECTORY_PATH, sample_list[i])))\n",
    "        sample_images_array = img_to_array(sample_images[i])\n",
    "\n",
    "    if sample_images_array.shape[2] == 1:\n",
    "        sample_images_array = sample_images_array.reshape((sample_images_array.shape[0], sample_images_array.shape[1], 3))\n",
    "    sample_images_array = sample_images_array.reshape((1,) + sample_images_array.shape)"
   ]
  },
  {
   "cell_type": "markdown",
   "metadata": {},
   "source": [
    "## Augmentation processing"
   ]
  },
  {
   "cell_type": "code",
   "execution_count": 155,
   "metadata": {},
   "outputs": [],
   "source": [
    "# Define an ImageDataGenerator\n",
    "datagen = ImageDataGenerator(\n",
    "    # Rotate the image by a given angle (in degrees)\n",
    "    rotation_range=ROTAION_RANGE,\n",
    ")\n",
    "\n",
    "augmented_images = []\n",
    "\n",
    "for _ in range(AUGMENTATION_REPLICA):\n",
    "    augmented_img_array = datagen.flow(sample_images_array).next()[0]\n",
    "    augmented_images.append(array_to_img(augmented_img_array.astype('uint8')))"
   ]
  },
  {
   "cell_type": "markdown",
   "metadata": {},
   "source": [
    "## Visualization"
   ]
  },
  {
   "cell_type": "code",
   "execution_count": null,
   "metadata": {},
   "outputs": [],
   "source": []
  }
 ],
 "metadata": {
  "kernelspec": {
   "display_name": "Python 3",
   "language": "python",
   "name": "python3"
  },
  "language_info": {
   "codemirror_mode": {
    "name": "ipython",
    "version": 3
   },
   "file_extension": ".py",
   "mimetype": "text/x-python",
   "name": "python",
   "nbconvert_exporter": "python",
   "pygments_lexer": "ipython3",
   "version": "3.10.11"
  }
 },
 "nbformat": 4,
 "nbformat_minor": 2
}
